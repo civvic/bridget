{
 "cells": [
  {
   "cell_type": "code",
   "execution_count": 43,
   "metadata": {},
   "outputs": [
    {
     "name": "stdout",
     "output_type": "stream",
     "text": [
      "cell 0\n"
     ]
    }
   ],
   "source": [
    "# cell 0\n",
    "from IPython.display import display, HTML\n",
    "\n",
    "print('cell 0')"
   ]
  },
  {
   "cell_type": "markdown",
   "metadata": {},
   "source": [
    "# cell 1"
   ]
  },
  {
   "cell_type": "code",
   "execution_count": 44,
   "metadata": {},
   "outputs": [
    {
     "data": {
      "text/plain": [
       "'cell 2 - update 1'"
      ]
     },
     "metadata": {
      "brdgt_did": "cell 2",
      "text/plain": {
       "brdgt_did": "cell 2"
      }
     },
     "output_type": "display_data"
    }
   ],
   "source": [
    "# cell 2\n",
    "dh1 = display('cell 2', metadata={'brdgt_did': 'cell 2'}, display_id=True)\n"
   ]
  },
  {
   "cell_type": "code",
   "execution_count": 45,
   "metadata": {},
   "outputs": [],
   "source": [
    "# cell 3\n",
    "dh1.update('cell 2 - update 1', metadata={'brdgt_did': 'cell 2'})"
   ]
  },
  {
   "cell_type": "code",
   "execution_count": 46,
   "metadata": {},
   "outputs": [
    {
     "data": {
      "text/html": [
       "cell 4 - output 1"
      ],
      "text/plain": [
       "<IPython.core.display.HTML object>"
      ]
     },
     "metadata": {},
     "output_type": "display_data"
    },
    {
     "data": {
      "text/html": [
       "cell 4 - update 7"
      ],
      "text/plain": [
       "<IPython.core.display.HTML object>"
      ]
     },
     "metadata": {},
     "output_type": "display_data"
    }
   ],
   "source": [
    "# cell 4\n",
    "dh2 = display(HTML('cell 4 - output 1'), display_id=True)\n",
    "dh3 = display(HTML('cell 4 - output 2'), display_id=True)\n"
   ]
  },
  {
   "cell_type": "code",
   "execution_count": 47,
   "metadata": {},
   "outputs": [],
   "source": [
    "# cell 5\n",
    "dh3.update(HTML('cell 4 - update 7'))\n"
   ]
  },
  {
   "cell_type": "code",
   "execution_count": 48,
   "metadata": {},
   "outputs": [],
   "source": [
    "# cell 6\n",
    "a = 33"
   ]
  },
  {
   "cell_type": "code",
   "execution_count": null,
   "metadata": {},
   "outputs": [],
   "source": [
    "# cell 7\n",
    "def show_notebook_state(data):\n",
    "    \"\"\"Display notebook state with our custom mime type\"\"\"\n",
    "    display({\n",
    "        'application/x-notebook-state': data\n",
    "    }, raw=True)\n",
    "\n",
    "# Test it\n",
    "show_notebook_state({\"test\": \"Hello from notebook state!\"})"
   ]
  },
  {
   "cell_type": "code",
   "execution_count": null,
   "metadata": {},
   "outputs": [],
   "source": [
    "# cell 8\n",
    "def show_notebook_state(state):\n",
    "    \"\"\"Display notebook state with our custom mime type\"\"\"\n",
    "    display({\n",
    "        'application/x-notebook-state': state\n",
    "    }, raw=True)\n",
    "\n",
    "# Test it\n",
    "show_notebook_state({\"test\": \"Hello from notebook state2!\"})"
   ]
  },
  {
   "cell_type": "code",
   "execution_count": null,
   "metadata": {},
   "outputs": [],
   "source": [
    "# cell 9\n",
    "from IPython.core.interactiveshell import InteractiveShell\n",
    "display_pub = InteractiveShell.instance().display_pub\n",
    "\n",
    "def _add_did(msg): \n",
    "    msg['content']['metadata']['brdgt_did'] = msg['content']['transient']['display_id']\n",
    "    return msg\n"
   ]
  },
  {
   "cell_type": "code",
   "execution_count": null,
   "metadata": {},
   "outputs": [],
   "source": [
    "# cell 10\n",
    "# display_pub.register_hook(FC.noop)\n",
    "# display_pub.unregister_hook(FC.noop)\n",
    "display_pub.register_hook(_add_did)"
   ]
  },
  {
   "cell_type": "markdown",
   "metadata": {},
   "source": [
    "### ---- cell 11"
   ]
  },
  {
   "cell_type": "code",
   "execution_count": 1,
   "metadata": {},
   "outputs": [
    {
     "ename": "AttributeError",
     "evalue": "'IPKernelApp' object has no attribute 'notebook'",
     "output_type": "error",
     "traceback": [
      "\u001b[0;31m---------------------------------------------------------------------------\u001b[0m",
      "\u001b[0;31mAttributeError\u001b[0m                            Traceback (most recent call last)",
      "Cell \u001b[0;32mIn[1], line 10\u001b[0m\n\u001b[1;32m      7\u001b[0m notebook \u001b[38;5;241m=\u001b[39m shell\u001b[38;5;241m.\u001b[39mkernel\u001b[38;5;241m.\u001b[39mparent\n\u001b[1;32m      9\u001b[0m \u001b[38;5;66;03m# Access the notebook's metadata and cells\u001b[39;00m\n\u001b[0;32m---> 10\u001b[0m cells \u001b[38;5;241m=\u001b[39m \u001b[43mnotebook\u001b[49m\u001b[38;5;241;43m.\u001b[39;49m\u001b[43mnotebook\u001b[49m\u001b[38;5;241m.\u001b[39mcells  \u001b[38;5;66;03m# This should give you the cells in their current state\u001b[39;00m\n\u001b[1;32m     12\u001b[0m \u001b[38;5;66;03m# If you want it in nbformat-compatible JSON:\u001b[39;00m\n\u001b[1;32m     13\u001b[0m \u001b[38;5;28;01mimport\u001b[39;00m \u001b[38;5;21;01mnbformat\u001b[39;00m\n",
      "\u001b[0;31mAttributeError\u001b[0m: 'IPKernelApp' object has no attribute 'notebook'"
     ]
    }
   ],
   "source": [
    "# cell 12\n",
    "from IPython import get_ipython\n",
    "shell = get_ipython()\n",
    "\n",
    "# Get the current notebook JSON\n",
    "if hasattr(shell, 'kernel'):\n",
    "    # Get the parent header which contains notebook info\n",
    "    notebook = shell.kernel.parent\n",
    "\n",
    "    # Access the notebook's metadata and cells\n",
    "    cells = notebook.notebook.cells  # This should give you the cells in their current state\n",
    "    \n",
    "    # If you want it in nbformat-compatible JSON:\n",
    "    import nbformat\n",
    "    nb = nbformat.v4.new_notebook()\n",
    "    nb.cells = cells\n",
    "    \n",
    "    # Convert to JSON string\n",
    "    import json\n",
    "    notebook_json = json.dumps(nb, default=lambda x: x.__dict__)\n",
    "    \n",
    "    print(notebook_json)"
   ]
  },
  {
   "cell_type": "code",
   "execution_count": 2,
   "metadata": {},
   "outputs": [
    {
     "data": {
      "application/javascript": "\n    // This is JavaScript that runs in the browser\n    debugger;\n    setTimeout(() => {\n        // Try to execute VSCode's save command\n        window.postMessage({\n            type: 'command',\n            command: 'workbench.action.files.save'\n        });\n    }, 100);\n",
      "text/plain": [
       "<IPython.core.display.Javascript object>"
      ]
     },
     "metadata": {},
     "output_type": "display_data"
    }
   ],
   "source": [
    "# cell 13\n",
    "from IPython.core.display import Javascript\n",
    "display(Javascript('''\n",
    "    // This is JavaScript that runs in the browser\n",
    "    debugger;\n",
    "    setTimeout(() => {\n",
    "        // Try to execute VSCode's save command\n",
    "        window.postMessage({\n",
    "            type: 'command',\n",
    "            command: 'workbench.action.files.save'\n",
    "        });\n",
    "    }, 100);\n",
    "'''))"
   ]
  }
 ],
 "metadata": {
  "kernelspec": {
   "display_name": "Python 3",
   "language": "python",
   "name": "python3"
  },
  "language_info": {
   "codemirror_mode": {
    "name": "ipython",
    "version": 3
   },
   "file_extension": ".py",
   "mimetype": "text/x-python",
   "name": "python",
   "nbconvert_exporter": "python",
   "pygments_lexer": "ipython3",
   "version": "3.12.7"
  }
 },
 "nbformat": 4,
 "nbformat_minor": 2
}
