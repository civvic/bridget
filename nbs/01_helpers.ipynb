{
 "cells": [
  {
   "cell_type": "code",
   "execution_count": null,
   "metadata": {},
   "outputs": [],
   "source": [
    "#| default_exp helpers"
   ]
  },
  {
   "cell_type": "code",
   "execution_count": null,
   "metadata": {},
   "outputs": [],
   "source": [
    "#| export\n",
    "from __future__ import annotations"
   ]
  },
  {
   "cell_type": "markdown",
   "metadata": {},
   "source": [
    "# Helpers\n",
    "\n",
    "> ..."
   ]
  },
  {
   "cell_type": "markdown",
   "metadata": {},
   "source": [
    "# Prologue"
   ]
  },
  {
   "cell_type": "code",
   "execution_count": null,
   "metadata": {},
   "outputs": [],
   "source": [
    "#| export\n",
    "\n",
    "import dataclasses\n",
    "import functools\n",
    "import importlib\n",
    "import os\n",
    "import sys\n",
    "from binascii import hexlify\n",
    "from functools import cache\n",
    "from functools import partial\n",
    "from pathlib import Path\n",
    "from types import ModuleType\n",
    "from typing import Any\n",
    "from typing import DefaultDict\n",
    "\n",
    "import fastcore.all as FC\n",
    "from olio.common import Config\n"
   ]
  },
  {
   "cell_type": "code",
   "execution_count": null,
   "metadata": {},
   "outputs": [],
   "source": [
    "import json\n",
    "import operator\n",
    "from functools import reduce\n",
    "from inspect import Parameter\n",
    "\n",
    "from fastcore.foundation import L\n",
    "from fastcore.test import *\n",
    "from olio.common import empty\n",
    "from olio.common import setup_console\n",
    "from olio.test import test_raises"
   ]
  },
  {
   "cell_type": "markdown",
   "metadata": {},
   "source": [
    "----"
   ]
  },
  {
   "cell_type": "code",
   "execution_count": null,
   "metadata": {},
   "outputs": [],
   "source": [
    "console, cprint = setup_console(140)"
   ]
  },
  {
   "cell_type": "markdown",
   "metadata": {},
   "source": [
    "----"
   ]
  },
  {
   "cell_type": "markdown",
   "metadata": {},
   "source": [
    "# Helpers"
   ]
  },
  {
   "cell_type": "code",
   "execution_count": null,
   "metadata": {},
   "outputs": [],
   "source": [
    "#| export\n",
    "\n",
    "emptyd, emptyl, emptyt = {}, [], ()"
   ]
  },
  {
   "cell_type": "markdown",
   "metadata": {},
   "source": [
    "# BridgeCfg\n"
   ]
  },
  {
   "cell_type": "code",
   "execution_count": null,
   "metadata": {},
   "outputs": [],
   "source": [
    "#| export\n",
    "\n",
    "# @dataclasses.dataclass\n",
    "class BridgeCfg(Config):\n",
    "    \"\"\"\n",
    "    Settings for core `Bridget` behavior.\n",
    "    \n",
    "    if `True`:\n",
    "    - `auto_show`: FastHTML objects display as HTML instead of markdown.\n",
    "    - `auto_mount`: components with routes are automatically mounted.\n",
    "    - `auto_id`: display elements get auto-generated IDs.\n",
    "    - `bootstrap`: load bridget.js on import.\n",
    "    - `current_did`: the ID of the current display cell.\n",
    "    - `debug_req`: request debugging is enabled.\n",
    "    \"\"\"\n",
    "    auto_show: bool = False\n",
    "    auto_mount: bool = False\n",
    "    auto_id: bool = False\n",
    "    bootstrap: bool = os.environ.get('BRIDGET_BOOTSTRAP', '').lower() in ('true', '1', 'on', 'yes', 'y')\n",
    "    current_did: str|None = None\n",
    "    debug_req: bool = False\n",
    "\n",
    "bridge_cfg = BridgeCfg()"
   ]
  },
  {
   "cell_type": "code",
   "execution_count": null,
   "metadata": {},
   "outputs": [
    {
     "name": "stdout",
     "output_type": "stream",
     "text": [
      "{}\n"
     ]
    }
   ],
   "source": [
    "bridge_cfg.show()"
   ]
  },
  {
   "cell_type": "markdown",
   "metadata": {},
   "source": [
    "# _get_globals\n"
   ]
  },
  {
   "cell_type": "code",
   "execution_count": null,
   "metadata": {},
   "outputs": [],
   "source": [
    "#| exporti\n",
    "\n",
    "def _get_globals(mod: str):\n",
    "    if hasattr(sys, '_getframe'):\n",
    "        glb = sys._getframe(2).f_globals\n",
    "    else:\n",
    "        glb = sys.modules[mod].__dict__\n",
    "    return glb"
   ]
  },
  {
   "cell_type": "code",
   "execution_count": null,
   "metadata": {},
   "outputs": [],
   "source": [
    "def _gtest(): return _get_globals(__name__)\n",
    "g1 = _gtest()\n",
    "g2 = globals()\n",
    "test_eq(g1, g2)"
   ]
  },
  {
   "cell_type": "markdown",
   "metadata": {},
   "source": [
    "# Bundle path"
   ]
  },
  {
   "cell_type": "code",
   "execution_count": null,
   "metadata": {},
   "outputs": [],
   "source": [
    "#| export\n",
    "\n",
    "def bundle_path(mod:str|ModuleType):\n",
    "    \"Return the path to the module's directory or current directory.\"\n",
    "    if isinstance(mod, str): mod = importlib.import_module(mod)\n",
    "    return Path(fn).parent if (fn := getattr(mod, '__file__', None)) else Path()"
   ]
  },
  {
   "cell_type": "code",
   "execution_count": null,
   "metadata": {},
   "outputs": [],
   "source": [
    "import bridget\n",
    "\n",
    "test_eq(bundle_path(__name__), Path('.'))\n",
    "test_eq(bundle_path('bridget').resolve(), Path(bridget.__file__).parent)"
   ]
  },
  {
   "cell_type": "markdown",
   "metadata": {},
   "source": [
    "# run_command"
   ]
  },
  {
   "cell_type": "code",
   "execution_count": null,
   "metadata": {},
   "outputs": [],
   "source": [
    "#| export\n",
    "\n",
    "async def arun_command(command: str, cwd: Path|None=None, **kwargs):\n",
    "    import anyio\n",
    "    import subprocess\n",
    "    try:\n",
    "        process = await anyio.run_process(\n",
    "            command,\n",
    "            cwd=cwd or Path().absolute().parent,\n",
    "            **kwargs\n",
    "        )\n",
    "        return process.stdout.decode('utf-8'), process.stderr.decode('utf-8')\n",
    "    except subprocess.CalledProcessError as e:\n",
    "        return e.stdout.decode('utf-8'), e.stderr.decode('utf-8')\n",
    "\n",
    "def run_command(command: str, cwd: Path|None=None, **kwargs):\n",
    "    import subprocess\n",
    "    result = subprocess.run(\n",
    "        command,\n",
    "        shell=True,\n",
    "        capture_output=True,\n",
    "        text=True,\n",
    "        cwd=cwd or Path().absolute().parent,\n",
    "        check=True,\n",
    "        **kwargs\n",
    "    )\n",
    "    if result.returncode != 0:\n",
    "        raise RuntimeError(result.stderr)\n",
    "    return result.stdout, result.stderr"
   ]
  },
  {
   "cell_type": "code",
   "execution_count": null,
   "metadata": {},
   "outputs": [],
   "source": [
    "a,_ = await arun_command('ls')\n",
    "test_eq('bridget' in a, True)\n",
    "_,b = await arun_command('node notfound')\n",
    "test_eq('Error: Cannot find module' in b, True)\n",
    "\n",
    "with test_raises(FileNotFoundError):\n",
    "    await arun_command('ls', cwd=Path('/not/found'))"
   ]
  },
  {
   "cell_type": "markdown",
   "metadata": {},
   "source": [
    "# Singleling\n",
    "> Basic, we're-all-adults-here, singleton.\n",
    "\n",
    "Should be used as a mixin, first base in subclasses.."
   ]
  },
  {
   "cell_type": "code",
   "execution_count": null,
   "metadata": {},
   "outputs": [],
   "source": [
    "#| export\n",
    "\n",
    "def _noop(*args, **kwargs): pass\n",
    "class Singleling:\n",
    "    def __new__(cls, *args, **kwargs):\n",
    "        if '__instance__' not in cls.__dict__: cls.__instance__ = super().__new__(cls, *args, **kwargs)\n",
    "        cls.__instance__.__init__(*args, **kwargs)\n",
    "        setattr(type(cls.__instance__), '__init__', _noop)\n",
    "        return cls.__instance__"
   ]
  },
  {
   "cell_type": "code",
   "execution_count": null,
   "metadata": {},
   "outputs": [],
   "source": [
    "class TestSingle(Singleling):\n",
    "    def __init__(self):\n",
    "        self.a = 1\n",
    "\n",
    "test_is(o := TestSingle(), TestSingle())\n",
    "test_eq(o.a, 1)"
   ]
  },
  {
   "cell_type": "markdown",
   "metadata": {},
   "source": [
    "# Kounter\n",
    "> Counter of keys"
   ]
  },
  {
   "cell_type": "code",
   "execution_count": null,
   "metadata": {},
   "outputs": [],
   "source": [
    "#| export\n",
    "\n",
    "class Kounter:\n",
    "    def __init__(self): self.d = DefaultDict(int)\n",
    "    def __call__(self, k): d = self.d; d[k] += 1; return self.d[k]\n",
    "\n",
    "kounter = Kounter()"
   ]
  },
  {
   "cell_type": "code",
   "execution_count": null,
   "metadata": {},
   "outputs": [],
   "source": [
    "cntr = Kounter()\n",
    "cntr('a')\n",
    "cntr('b')\n",
    "cntr('a')\n",
    "cntr('a')\n",
    "cntr('b')\n",
    "cntr('b')\n",
    "cntr('b')\n",
    "test_eq(cntr.d, {'a': 3, 'b': 4})\n",
    "test_eq(cntr('int'), 1)"
   ]
  },
  {
   "cell_type": "markdown",
   "metadata": {},
   "source": [
    "# id_gen\n",
    "> Generate unique IDs for HTML elements\n"
   ]
  },
  {
   "cell_type": "code",
   "execution_count": null,
   "metadata": {},
   "outputs": [],
   "source": [
    "import random\n",
    "import re\n",
    "from pathlib import Path\n",
    "\n",
    "lines = Path(\"static/wordlist.txt\").read_text().splitlines()\n",
    "words = [line.strip() for line in lines if line.isalpha()]"
   ]
  },
  {
   "cell_type": "code",
   "execution_count": null,
   "metadata": {},
   "outputs": [],
   "source": [
    "def modify_word(word):\n",
    "    # Randomly capitalize the first or second letter\n",
    "    if len(word) > 1:\n",
    "        idx_to_capitalize = random.choice([0, 1])\n",
    "        word = word[:idx_to_capitalize] + word[idx_to_capitalize].upper() + word[idx_to_capitalize + 1:]\n",
    "    else:\n",
    "        word = word.upper()  # If single letter, capitalize it\n",
    "    \n",
    "    # Randomly add a number (0–99) at the start or end\n",
    "    if random.choice([True, False]):\n",
    "        number = random.randint(0, 99)\n",
    "        # if random.choice([True, False]):\n",
    "        #     word = f\"{number}{word}\"  # Number at the start\n",
    "        # else:\n",
    "        word = f\"{word}{number}\"  # Number at the end\n",
    "    \n",
    "    return word\n",
    "\n",
    "def generate_readable_id(num_words=3):\n",
    "    words_part = [modify_word(random.choice(words)) for _ in range(num_words)]\n",
    "    id_candidate = '-'.join(words_part)\n",
    "\n",
    "    # Ensure it's a valid CSS identifier\n",
    "    if not re.match(r\"^[a-zA-Z_][\\w\\-]*$\", id_candidate):  # Add '_' if invalid\n",
    "        id_candidate = f\"_{id_candidate}\"\n",
    "    \n",
    "    return f\"{id_candidate}-{random.randint(0, 9999)}\""
   ]
  },
  {
   "cell_type": "code",
   "execution_count": null,
   "metadata": {},
   "outputs": [
    {
     "data": {
      "text/plain": [
       "('Neither58-Seeing-bRand71-8172', 'Dealt84-Cums-hIding-5379')"
      ]
     },
     "execution_count": 50,
     "metadata": {},
     "output_type": "execute_result"
    }
   ],
   "source": [
    "generate_readable_id(), generate_readable_id()"
   ]
  },
  {
   "cell_type": "code",
   "execution_count": null,
   "metadata": {},
   "outputs": [],
   "source": [
    "#| export\n",
    "\n",
    "def simple_id():\n",
    "    return 'b'+hexlify(os.urandom(16), '-', 4).decode('ascii')\n",
    "\n",
    "def id_gen():\n",
    "    kntr = Kounter()\n",
    "    def _(o:Any=None): \n",
    "        if o is None: return simple_id()\n",
    "        # return f\"{type(o).__name__}_{hash(o) if isinstance(o, Hashable) else kntr(type(o).__name__)}\"\n",
    "        return f\"{type(o).__name__}_{kntr(type(o).__name__)}\"\n",
    "    return _"
   ]
  },
  {
   "cell_type": "markdown",
   "metadata": {},
   "source": [
    "The `id_gen` function creates a function that takes any object and generates an unique Id valid during the current session. Useful for creating unique element IDs in dynamic HTML content.\n"
   ]
  },
  {
   "cell_type": "code",
   "execution_count": null,
   "metadata": {},
   "outputs": [
    {
     "data": {
      "text/plain": [
       "('b6c494805-5125c235-b36a46c6-f53c2665',\n",
       " 'b4b9e3e20-55445da2-8787d197-4a20f41c')"
      ]
     },
     "execution_count": 52,
     "metadata": {},
     "output_type": "execute_result"
    }
   ],
   "source": [
    "new_id = id_gen()\n",
    "new_id(), new_id()"
   ]
  },
  {
   "cell_type": "code",
   "execution_count": null,
   "metadata": {},
   "outputs": [
    {
     "data": {
      "text/plain": [
       "('int_1', 'int_2')"
      ]
     },
     "execution_count": 53,
     "metadata": {},
     "output_type": "execute_result"
    }
   ],
   "source": [
    "int_id = id_gen()\n",
    "int_id(7), int_id(8)"
   ]
  },
  {
   "cell_type": "code",
   "execution_count": null,
   "metadata": {},
   "outputs": [
    {
     "name": "stdout",
     "output_type": "stream",
     "text": [
      "object_1 object_2\n",
      "dict_1 dict_2\n",
      "PosixPath_1 PosixPath_2 PosixPath_3\n"
     ]
    }
   ],
   "source": [
    "obj_id = id_gen()\n",
    "o1, o2 = object(), object()\n",
    "print(obj_id(o1), obj_id(o2))\n",
    "\n",
    "dict_id = id_gen()\n",
    "print(dict_id(d1 := {'a': 1}), dict_id(d2 := {'a': 1}))\n",
    "\n",
    "pth_id = id_gen()\n",
    "print(pth_id(Path('.')), pth_id(Path()), pth_id(Path('./bin')))"
   ]
  },
  {
   "cell_type": "markdown",
   "metadata": {},
   "source": [
    "# patch_cached"
   ]
  },
  {
   "cell_type": "code",
   "execution_count": null,
   "metadata": {},
   "outputs": [],
   "source": [
    "#| export\n",
    "\n",
    "def patch_cached(cls, f, name:str|None=None):\n",
    "    name = name or (f if not isinstance(f, partial) else f.func).__name__ \n",
    "    setattr(cls, name, cache(f))"
   ]
  },
  {
   "cell_type": "code",
   "execution_count": null,
   "metadata": {},
   "outputs": [],
   "source": [
    "# type: ignore\n",
    "\n",
    "from collections import defaultdict\n",
    "\n",
    "class Test:\n",
    "    def __init__(self): self.d = defaultdict(list)\n",
    "\n",
    "def a(self, n:int=1):\n",
    "    self.d['a'].append(n)\n",
    "    return n+1\n",
    "\n",
    "\n",
    "patch_cached(Test, a)\n",
    "\n",
    "t1 = Test()\n",
    "test_eq(t1.a(), 2)\n",
    "test_eq(t1.a(), t1.a())\n",
    "test_eq(t1.d['a'], [1])\n",
    "test_eq(t1.a(3), 4)\n",
    "test_eq(t1.a(3), t1.a(3))\n",
    "test_eq(t1.d['a'], [1, 3])\n",
    "\n",
    "t2 = Test()\n",
    "test_eq(t2.a(), 2)\n",
    "test_eq(t2.a(), t2.a())\n",
    "test_eq(t2.d['a'], [1])\n",
    "test_eq(t2.a(7), 8)\n",
    "test_eq(t2.a(7), t2.a(7))\n",
    "test_eq(t2.d['a'], [1, 7])"
   ]
  },
  {
   "cell_type": "markdown",
   "metadata": {},
   "source": [
    "# patch_cached_property"
   ]
  },
  {
   "cell_type": "code",
   "execution_count": null,
   "metadata": {},
   "outputs": [],
   "source": [
    "#| export\n",
    "\n",
    "def patch_cached_property(cls, f, name:str|None=None):\n",
    "    is_partial, prop = isinstance(f, partial), functools.cached_property(f)\n",
    "    if is_partial: prop.__doc__ = f.func.__doc__\n",
    "    prop.attrname = name or (f if not is_partial else f.func).__name__ \n",
    "    setattr(cls, prop.attrname, prop)"
   ]
  },
  {
   "cell_type": "code",
   "execution_count": null,
   "metadata": {},
   "outputs": [],
   "source": [
    "# type: ignore\n",
    "\n",
    "def a(self): \n",
    "    \"a docs\"\n",
    "    self.d['a'].append('a'); return 2\n",
    "def _b(self, n): \n",
    "    \"b docs\"\n",
    "    self.d['b'].append(n); return n+n\n",
    "class Test: \n",
    "    def __init__(self): self.d = defaultdict(list)\n",
    "\n",
    "patch_cached_property(Test, a)\n",
    "patch_cached_property(Test, lambda self: _b(self, 2), 'b2')\n",
    "patch_cached_property(Test, partial(_b, n=3), 'b3')\n",
    "patch_cached_property(Test, partial(lambda self: _b(self, 4)), 'b4')\n",
    "\n",
    "t1 = Test()\n",
    "test_eq(t1.a, 2)\n",
    "test_eq(t1.a, t1.a)\n",
    "test_eq(t1.d['a'], ['a'])\n",
    "test_eq(t1.b2, 4)\n",
    "test_eq(t1.b2, t1.b2)\n",
    "test_eq(t1.d['b'], [2])\n",
    "test_eq(t1.b3, 6)\n",
    "test_eq(t1.b3, t1.b3)\n",
    "test_eq(t1.d['b'], [2, 3])\n",
    "test_eq(t1.b4, 8)\n",
    "test_eq(t1.b4, t1.b4)\n",
    "test_eq(t1.d['b'], [2, 3, 4])"
   ]
  },
  {
   "cell_type": "code",
   "execution_count": null,
   "metadata": {},
   "outputs": [],
   "source": [
    "#| export\n",
    "\n",
    "class cached_property(functools.cached_property):\n",
    "    def __init__(self, func):\n",
    "        super().__init__(func)\n",
    "        for o in functools.WRAPPER_ASSIGNMENTS: setattr(self, o, getattr(func, o))\n",
    "    # def __set_name__(self, owner, name):\n",
    "    #     super().__set_name__(owner, name)\n",
    "    #     if self.attrname is None:\n",
    "    #         self.__qualname__ = f\"{owner.__name__}.{name}\""
   ]
  },
  {
   "cell_type": "markdown",
   "metadata": {},
   "source": [
    "# bridge_metadata"
   ]
  },
  {
   "cell_type": "code",
   "execution_count": null,
   "metadata": {},
   "outputs": [],
   "source": [
    "#| export\n",
    "\n",
    "def bridge_metadata(metadata:dict|None=None, **kwargs):\n",
    "    if not metadata: metadata = {'bridge': {**kwargs}}\n",
    "    elif not 'bridge' in metadata: metadata['bridge'] = {**kwargs}\n",
    "    else: metadata['bridge'].update(**kwargs)\n",
    "    return metadata\n",
    "\n",
    "def skip(metadata:dict|None=None, **kwargs): return bridge_metadata(metadata, skip=True, **kwargs)"
   ]
  },
  {
   "cell_type": "code",
   "execution_count": null,
   "metadata": {},
   "outputs": [],
   "source": [
    "test_eq(bridge_metadata(), {'bridge': {}})\n",
    "test_eq(bridge_metadata(skip=True), {'bridge': {'skip': True}})\n",
    "test_eq(bridge_metadata({'autoshow': True}, skip=True), {'autoshow': True, 'bridge': {'skip': True}})\n",
    "test_eq(skip(), {'bridge': {'skip': True}})\n",
    "test_eq(skip({'bridge': {'auto_show': True}}), {'bridge': {'skip': True, 'auto_show': True}})\n",
    "test_eq(skip(auto_show=True), {'bridge': {'skip': True, 'auto_show': True}})\n"
   ]
  },
  {
   "cell_type": "markdown",
   "metadata": {},
   "source": [
    "# compose_first\n",
    "> like [fastcore.compose](https://fastcore.fast.ai/basics.html#compose), but args are passed only to first function"
   ]
  },
  {
   "cell_type": "code",
   "execution_count": null,
   "metadata": {},
   "outputs": [],
   "source": [
    "#| export\n",
    "\n",
    "def compose_first(*funcs, order=None):\n",
    "    \"Create a function that composes all functions in `funcs`, passing along remaining `*args` and `**kwargs` to first function\"\n",
    "    funcs = FC.listify(funcs)\n",
    "    if len(funcs)==0: return FC.noop\n",
    "    if len(funcs)==1: return funcs[0]\n",
    "    if order is not None: funcs = FC.sorted_ex(funcs, key=order)\n",
    "    def _inner(x, *args, **kwargs):\n",
    "        x = funcs[0](x, *args, **kwargs)  # type: ignore\n",
    "        for f in funcs[1:]: x = f(x)  # type: ignore\n",
    "        return x\n",
    "    return _inner\n"
   ]
  },
  {
   "cell_type": "markdown",
   "metadata": {},
   "source": [
    "# Colophon\n",
    "----"
   ]
  },
  {
   "cell_type": "code",
   "execution_count": null,
   "metadata": {},
   "outputs": [],
   "source": [
    "import fastcore.all as FC\n",
    "import nbdev\n",
    "from nbdev.clean import nbdev_clean"
   ]
  },
  {
   "cell_type": "code",
   "execution_count": null,
   "metadata": {},
   "outputs": [],
   "source": [
    "if FC.IN_NOTEBOOK:\n",
    "    nb_path = '01_helpers.ipynb'\n",
    "    # nbdev_clean(nb_path)\n",
    "    nbdev.nbdev_export(nb_path)"
   ]
  }
 ],
 "metadata": {
  "kernelspec": {
   "display_name": "python3",
   "language": "python",
   "name": "python3"
  },
  "widgets": {
   "application/vnd.jupyter.widget-state+json": {
    "state": {},
    "version_major": 2,
    "version_minor": 0
   }
  }
 },
 "nbformat": 4,
 "nbformat_minor": 4
}
