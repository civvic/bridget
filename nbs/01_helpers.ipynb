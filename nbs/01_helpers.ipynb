{
 "cells": [
  {
   "cell_type": "code",
   "execution_count": null,
   "metadata": {},
   "outputs": [],
   "source": [
    "#| default_exp helpers"
   ]
  },
  {
   "cell_type": "code",
   "execution_count": null,
   "metadata": {},
   "outputs": [],
   "source": [
    "#| export\n",
    "from __future__ import annotations"
   ]
  },
  {
   "cell_type": "markdown",
   "metadata": {},
   "source": [
    "# Helpers\n",
    "\n",
    "> ..."
   ]
  },
  {
   "cell_type": "markdown",
   "metadata": {},
   "source": [
    "# Prologue"
   ]
  },
  {
   "cell_type": "code",
   "execution_count": null,
   "metadata": {},
   "outputs": [],
   "source": [
    "#| export\n",
    "import json\n",
    "import os\n",
    "import sys\n",
    "from binascii import hexlify\n",
    "from functools import reduce\n",
    "from inspect import Parameter\n",
    "from typing import Any\n",
    "from typing import DefaultDict\n",
    "from typing import Hashable\n",
    "from typing import Mapping\n",
    "from typing import overload\n",
    "from typing import Sequence\n",
    "\n",
    "import fastcore.all as FC\n",
    "from fastcore.xml import FT\n",
    "from fastcore.xml import NotStr\n",
    "from fasthtml.basics import ft_html\n",
    "from fasthtml.core import FastHTML\n",
    "from IPython.display import display\n",
    "from IPython.display import DisplayHandle\n"
   ]
  },
  {
   "cell_type": "code",
   "execution_count": null,
   "metadata": {},
   "outputs": [],
   "source": [
    "import operator\n",
    "from pathlib import Path\n",
    "\n",
    "import fastcore.all as FC\n",
    "import ipywidgets as W\n",
    "from fastcore.test import *\n",
    "from IPython.display import HTML\n",
    "from olio.common import setup_console\n"
   ]
  },
  {
   "attachments": {},
   "cell_type": "markdown",
   "metadata": {},
   "source": [
    "----"
   ]
  },
  {
   "cell_type": "code",
   "execution_count": null,
   "metadata": {},
   "outputs": [],
   "source": [
    "console, cprint = setup_console(140)\n"
   ]
  },
  {
   "cell_type": "code",
   "execution_count": null,
   "metadata": {},
   "outputs": [],
   "source": [
    "#| exporti\n",
    "\n",
    "_n = '\\n'"
   ]
  },
  {
   "attachments": {},
   "cell_type": "markdown",
   "metadata": {},
   "source": [
    "----"
   ]
  },
  {
   "cell_type": "markdown",
   "metadata": {},
   "source": [
    "# Helpers"
   ]
  },
  {
   "cell_type": "markdown",
   "metadata": {},
   "source": [
    "# Singleling\n",
    "> Basic, we're-all-adults-here, singleton."
   ]
  },
  {
   "cell_type": "code",
   "execution_count": null,
   "metadata": {},
   "outputs": [],
   "source": [
    "#| export\n",
    "\n",
    "class Singleling:\n",
    "    def __new__(cls, *args, **kwargs):\n",
    "        if '__instance__' not in cls.__dict__: cls.__instance__ = super().__new__(cls, *args, **kwargs)\n",
    "        return cls.__instance__\n",
    "    \n",
    "    def setup(self, *args, **kwargs):\n",
    "        \"One-time setup\"\n",
    "        setattr(type(self), 'setup', FC.noop)\n"
   ]
  },
  {
   "cell_type": "code",
   "execution_count": null,
   "metadata": {},
   "outputs": [],
   "source": [
    "class TestSingle(Singleling):\n",
    "    def __init__(self):\n",
    "        self.setup()\n",
    "\n",
    "test_is(o := TestSingle(), TestSingle())\n"
   ]
  },
  {
   "cell_type": "markdown",
   "metadata": {},
   "source": [
    "# _get_globals\n"
   ]
  },
  {
   "cell_type": "code",
   "execution_count": null,
   "metadata": {},
   "outputs": [],
   "source": [
    "#| exporti\n",
    "\n",
    "def _get_globals(mod: str):\n",
    "    if hasattr(sys, '_getframe'):\n",
    "        glb = sys._getframe(2).f_globals\n",
    "    else:\n",
    "        glb = sys.modules[mod].__dict__\n",
    "    return glb\n"
   ]
  },
  {
   "cell_type": "code",
   "execution_count": null,
   "metadata": {},
   "outputs": [],
   "source": [
    "def _gtest(): return _get_globals(__name__)\n",
    "g1 = _gtest()\n",
    "g2 = globals()\n",
    "test_eq(g1, g2)\n"
   ]
  },
  {
   "cell_type": "markdown",
   "metadata": {},
   "source": [
    "# cleanupwidgets\n",
    "> Helper to properly cleanup ipywidget instances by closing their comms.\n",
    "\n",
    "When working with ipywidgets in notebooks, each widget creates a comm channel with the kernel. During development, it's better to to close the widgets, to avoid memory leaks and kernel issues.\n"
   ]
  },
  {
   "cell_type": "code",
   "execution_count": null,
   "metadata": {},
   "outputs": [],
   "source": [
    "#| export\n",
    "\n",
    "def cleanupwidgets(*ws, mod: str|None=None, clear=True):\n",
    "    from IPython.display import clear_output\n",
    "    glb = _get_globals(mod or __name__)\n",
    "    if clear: clear_output(wait=True)\n",
    "    for w in ws:\n",
    "        _w = glb.get(w) if isinstance(w, str) else w\n",
    "        if _w:\n",
    "            try: _w.close()  # type: ignore\n",
    "            except: pass\n"
   ]
  },
  {
   "cell_type": "code",
   "execution_count": null,
   "metadata": {},
   "outputs": [],
   "source": [
    "_b = W.Button()\n",
    "test_eq(_b.comm is not None, True)\n",
    "cleanupwidgets('_b')\n",
    "test_is(_b.comm, None)\n"
   ]
  },
  {
   "cell_type": "markdown",
   "metadata": {},
   "source": [
    "# Rich display"
   ]
  },
  {
   "cell_type": "code",
   "execution_count": null,
   "metadata": {},
   "outputs": [],
   "source": [
    "def display_json(json):\n",
    "    from rich.json import JSON\n",
    "    from rich.jupyter import display as rich_display\n",
    "    json_renderable = JSON.from_data(json)\n",
    "    a = list(console.render(json_renderable))\n",
    "    rich_display(a, console._render_buffer(a))\n"
   ]
  },
  {
   "cell_type": "code",
   "execution_count": null,
   "metadata": {},
   "outputs": [
    {
     "data": {
      "text/html": [
       "<pre style=\"white-space:pre;overflow-x:auto;line-height:normal;font-family:Menlo,'DejaVu Sans Mono',consolas,'Courier New',monospace\"><span style=\"font-weight: bold\">{</span>\n",
       "  <span style=\"color: #000080; text-decoration-color: #000080; font-weight: bold\">\"a\"</span>: <span style=\"color: #008080; text-decoration-color: #008080; font-weight: bold\">1</span>,\n",
       "  <span style=\"color: #000080; text-decoration-color: #000080; font-weight: bold\">\"b\"</span>: <span style=\"color: #008080; text-decoration-color: #008080; font-weight: bold\">2</span>\n",
       "<span style=\"font-weight: bold\">}</span>\n",
       "</pre>\n"
      ],
      "text/plain": [
       "\u001b[1m{\u001b[0m\n",
       "  \u001b[1;34m\"a\"\u001b[0m: \u001b[1;36m1\u001b[0m,\n",
       "  \u001b[1;34m\"b\"\u001b[0m: \u001b[1;36m2\u001b[0m\n",
       "\u001b[1m}\u001b[0m\n"
      ]
     },
     "metadata": {},
     "output_type": "display_data"
    }
   ],
   "source": [
    "\n",
    "display_json({'a': 1, 'b': 2})\n"
   ]
  },
  {
   "cell_type": "code",
   "execution_count": null,
   "metadata": {},
   "outputs": [],
   "source": [
    "#| export\n",
    "\n",
    "@overload\n",
    "def pretty_repr(*o, html:bool=True, text:bool=False, **kwargs) -> str: ...\n",
    "@overload\n",
    "def pretty_repr(*o, html:bool=False, text:bool=True, **kwargs) -> str: ...\n",
    "def pretty_repr(*o, html:bool=True, text:bool=True, **kwargs) -> dict[str, str]|str:\n",
    "    from rich.pretty import Pretty\n",
    "    d = Pretty(*o, **kwargs)._repr_mimebundle_(\n",
    "        include=((),('text/plain',))[text] + ((),('text/html',))[html], \n",
    "        exclude=((),('text/plain',))[not text] + ((),('text/html',))[not html]\n",
    "        )\n",
    "    return d if len(d) > 1 else tuple(d.values())[0]\n"
   ]
  },
  {
   "cell_type": "code",
   "execution_count": null,
   "metadata": {},
   "outputs": [
    {
     "data": {
      "text/html": [
       "<pre style=\"white-space:pre;overflow-x:auto;line-height:normal;font-family:Menlo,'DejaVu Sans Mono',consolas,'Courier New',monospace\"><span style=\"font-weight: bold\">{</span><span style=\"color: #008000; text-decoration-color: #008000\">'a'</span>: <span style=\"color: #008080; text-decoration-color: #008080; font-weight: bold\">1</span>, <span style=\"color: #008000; text-decoration-color: #008000\">'b'</span>: <span style=\"font-weight: bold\">[</span><span style=\"color: #008080; text-decoration-color: #008080; font-weight: bold\">1</span>, <span style=\"color: #008080; text-decoration-color: #008080; font-weight: bold\">2</span>, <span style=\"color: #008080; text-decoration-color: #008080; font-weight: bold\">3</span><span style=\"font-weight: bold\">]}</span>\n",
       "</pre>\n"
      ],
      "text/plain": [
       "<IPython.core.display.HTML object>"
      ]
     },
     "metadata": {},
     "output_type": "display_data"
    },
    {
     "name": "stdout",
     "output_type": "stream",
     "text": [
      "\u001b[1m{\u001b[0m\u001b[32m'a'\u001b[0m: \u001b[1;36m1\u001b[0m, \u001b[32m'b'\u001b[0m: \u001b[1m[\u001b[0m\u001b[1;36m1\u001b[0m, \u001b[1;36m2\u001b[0m, \u001b[1;36m3\u001b[0m\u001b[1m]\u001b[0m\u001b[1m}\u001b[0m\n",
      "\n"
     ]
    },
    {
     "data": {
      "text/html": [
       "<pre style=\"white-space:pre;overflow-x:auto;line-height:normal;font-family:Menlo,'DejaVu Sans Mono',consolas,'Courier New',monospace\"><span style=\"font-weight: bold\">{</span><span style=\"color: #008000; text-decoration-color: #008000\">'a'</span>: <span style=\"color: #008080; text-decoration-color: #008080; font-weight: bold\">1</span>, <span style=\"color: #008000; text-decoration-color: #008000\">'b'</span>: <span style=\"font-weight: bold\">[</span><span style=\"color: #008080; text-decoration-color: #008080; font-weight: bold\">1</span>, <span style=\"color: #008080; text-decoration-color: #008080; font-weight: bold\">2</span>, <span style=\"color: #008080; text-decoration-color: #008080; font-weight: bold\">3</span><span style=\"font-weight: bold\">]}</span>\n",
       "</pre>\n"
      ],
      "text/plain": [
       "\u001b[1m{\u001b[0m\u001b[32m'a'\u001b[0m: \u001b[1;36m1\u001b[0m, \u001b[32m'b'\u001b[0m: \u001b[1m[\u001b[0m\u001b[1;36m1\u001b[0m, \u001b[1;36m2\u001b[0m, \u001b[1;36m3\u001b[0m\u001b[1m]\u001b[0m\u001b[1m}\u001b[0m\n"
      ]
     },
     "metadata": {},
     "output_type": "display_data"
    }
   ],
   "source": [
    "display(HTML(pretty_repr({'a': 1, 'b': [1,2,3]}, text=False)))\n",
    "print(pretty_repr({'a': 1, 'b': [1,2,3]}, html=False))\n",
    "cprint({'a': 1, 'b': [1,2,3]})"
   ]
  },
  {
   "cell_type": "code",
   "execution_count": null,
   "metadata": {},
   "outputs": [],
   "source": [
    "#| export\n",
    "\n",
    "def rich_display(*o, dhdl: DisplayHandle|None=None):\n",
    "    if not o: return\n",
    "    vv:tuple[str, ...] = tuple(FC.flatten([_.items() for _ in map(pretty_repr, o)]))  # type: ignore\n",
    "    dd = {'text/plain':'\\n'.join(vv[1::4]), 'text/html':'\\n'.join(vv[3::4])}\n",
    "    if dhdl: dhdl.update(dd, raw=True)\n",
    "    else: display(dd, raw=True)\n"
   ]
  },
  {
   "cell_type": "code",
   "execution_count": null,
   "metadata": {},
   "outputs": [
    {
     "data": {
      "text/html": [
       "<pre style=\"white-space:pre;overflow-x:auto;line-height:normal;font-family:Menlo,'DejaVu Sans Mono',consolas,'Courier New',monospace\"><span style=\"font-weight: bold\">{</span><span style=\"color: #008000; text-decoration-color: #008000\">'a'</span>: <span style=\"color: #008080; text-decoration-color: #008080; font-weight: bold\">1</span>, <span style=\"color: #008000; text-decoration-color: #008000\">'b'</span>: <span style=\"color: #008080; text-decoration-color: #008080; font-weight: bold\">2</span><span style=\"font-weight: bold\">}</span>\n",
       "</pre>\n",
       "\n",
       "<pre style=\"white-space:pre;overflow-x:auto;line-height:normal;font-family:Menlo,'DejaVu Sans Mono',consolas,'Courier New',monospace\"><span style=\"font-weight: bold\">[</span><span style=\"color: #008080; text-decoration-color: #008080; font-weight: bold\">3</span>, <span style=\"color: #008080; text-decoration-color: #008080; font-weight: bold\">4</span>, <span style=\"color: #008080; text-decoration-color: #008080; font-weight: bold\">5</span><span style=\"font-weight: bold\">]</span>\n",
       "</pre>\n"
      ],
      "text/plain": [
       "\u001b[1m{\u001b[0m\u001b[32m'a'\u001b[0m: \u001b[1;36m1\u001b[0m, \u001b[32m'b'\u001b[0m: \u001b[1;36m2\u001b[0m\u001b[1m}\u001b[0m\n",
       "\n",
       "\u001b[1m[\u001b[0m\u001b[1;36m3\u001b[0m, \u001b[1;36m4\u001b[0m, \u001b[1;36m5\u001b[0m\u001b[1m]\u001b[0m\n"
      ]
     },
     "metadata": {},
     "output_type": "display_data"
    }
   ],
   "source": [
    "rich_display({'a': 1, 'b': 2}, [3, 4, 5])"
   ]
  },
  {
   "cell_type": "code",
   "execution_count": null,
   "metadata": {},
   "outputs": [
    {
     "data": {
      "text/html": [
       "<pre style=\"white-space:pre;overflow-x:auto;line-height:normal;font-family:Menlo,'DejaVu Sans Mono',consolas,'Courier New',monospace\"><span style=\"font-weight: bold\">{</span><span style=\"color: #008000; text-decoration-color: #008000\">'a'</span>: <span style=\"color: #008080; text-decoration-color: #008080; font-weight: bold\">1</span>, <span style=\"color: #008000; text-decoration-color: #008000\">'b'</span>: <span style=\"color: #008080; text-decoration-color: #008080; font-weight: bold\">2</span><span style=\"font-weight: bold\">}</span>\n",
       "</pre>\n",
       "\n",
       "<pre style=\"white-space:pre;overflow-x:auto;line-height:normal;font-family:Menlo,'DejaVu Sans Mono',consolas,'Courier New',monospace\"><span style=\"font-weight: bold\">[</span><span style=\"color: #008080; text-decoration-color: #008080; font-weight: bold\">3</span>, <span style=\"color: #008080; text-decoration-color: #008080; font-weight: bold\">4</span>, <span style=\"color: #008080; text-decoration-color: #008080; font-weight: bold\">5</span><span style=\"font-weight: bold\">]</span>\n",
       "</pre>\n"
      ],
      "text/plain": [
       "\u001b[1m{\u001b[0m\u001b[32m'a'\u001b[0m: \u001b[1;36m1\u001b[0m, \u001b[32m'b'\u001b[0m: \u001b[1;36m2\u001b[0m\u001b[1m}\u001b[0m\n",
       "\n",
       "\u001b[1m[\u001b[0m\u001b[1;36m3\u001b[0m, \u001b[1;36m4\u001b[0m, \u001b[1;36m5\u001b[0m\u001b[1m]\u001b[0m\n"
      ]
     },
     "metadata": {},
     "output_type": "display_data"
    }
   ],
   "source": [
    "dhdl = display(display_id=True)\n",
    "rich_display({'a': 1, 'b': 2}, [3, 4, 5], dhdl=dhdl)\n"
   ]
  },
  {
   "cell_type": "markdown",
   "metadata": {},
   "source": [
    "## CLog"
   ]
  },
  {
   "cell_type": "code",
   "execution_count": null,
   "metadata": {},
   "outputs": [],
   "source": [
    "#| export\n",
    "\n",
    "def CLog(*o):\n",
    "    return f\"<script>console.log({','.join(map(repr, o))})</script>\"\n"
   ]
  },
  {
   "cell_type": "code",
   "execution_count": null,
   "metadata": {},
   "outputs": [
    {
     "data": {
      "text/html": [
       "<script>console.log('aaaa','bbbb')</script>"
      ],
      "text/plain": [
       "<IPython.core.display.HTML object>"
      ]
     },
     "metadata": {},
     "output_type": "display_data"
    }
   ],
   "source": [
    "display(HTML(CLog('aaaa', 'bbbb')))\n"
   ]
  },
  {
   "cell_type": "markdown",
   "metadata": {},
   "source": [
    "# Kounter\n",
    "> Counter of keys"
   ]
  },
  {
   "cell_type": "code",
   "execution_count": null,
   "metadata": {},
   "outputs": [],
   "source": [
    "#| export\n",
    "\n",
    "class kounter:\n",
    "    def __init__(self): self.d = DefaultDict(int)\n",
    "    def __call__(self, k): d = self.d; d[k] += 1; return self.d[k]\n"
   ]
  },
  {
   "cell_type": "code",
   "execution_count": null,
   "metadata": {},
   "outputs": [],
   "source": [
    "cntr = kounter()\n",
    "cntr('a')\n",
    "cntr('b')\n",
    "cntr('a')\n",
    "cntr('a')\n",
    "cntr('b')\n",
    "cntr('b')\n",
    "cntr('b')\n",
    "test_eq(cntr.d, {'a': 3, 'b': 4})\n",
    "test_eq(cntr('int'), 1)\n"
   ]
  },
  {
   "cell_type": "markdown",
   "metadata": {},
   "source": [
    "# id_gen\n",
    "> Generate unique IDs for HTML elements\n"
   ]
  },
  {
   "cell_type": "code",
   "execution_count": null,
   "metadata": {},
   "outputs": [],
   "source": [
    "#| export\n",
    "\n",
    "def simple_id():\n",
    "    return 'b'+hexlify(os.urandom(16), '-', 4).decode('ascii')\n",
    "\n",
    "def id_gen():\n",
    "    kntr = kounter()\n",
    "    def _(o:Any=None): \n",
    "        if o is None: return simple_id()\n",
    "        return f\"{type(o).__name__}_{id(o) if isinstance(o, Hashable) else kntr(type(o).__name__)}\"\n",
    "    return _"
   ]
  },
  {
   "cell_type": "markdown",
   "metadata": {},
   "source": [
    "The `id_gen` function creates a closure that generates unique IDs by combining random hex strings. Useful for creating unique element IDs in dynamic HTML content.\n"
   ]
  },
  {
   "cell_type": "code",
   "execution_count": null,
   "metadata": {},
   "outputs": [
    {
     "data": {
      "text/plain": [
       "'b36234186-b484a060-89053fe5-347c25bf'"
      ]
     },
     "execution_count": null,
     "metadata": {},
     "output_type": "execute_result"
    }
   ],
   "source": [
    "new_id = id_gen()\n",
    "new_id()"
   ]
  },
  {
   "cell_type": "code",
   "execution_count": null,
   "metadata": {},
   "outputs": [
    {
     "data": {
      "text/plain": [
       "'int_4302512096'"
      ]
     },
     "execution_count": null,
     "metadata": {},
     "output_type": "execute_result"
    }
   ],
   "source": [
    "new_id(7)"
   ]
  },
  {
   "cell_type": "code",
   "execution_count": null,
   "metadata": {},
   "outputs": [
    {
     "data": {
      "text/plain": [
       "'int_4302512096'"
      ]
     },
     "execution_count": null,
     "metadata": {},
     "output_type": "execute_result"
    }
   ],
   "source": [
    "new_id(7)"
   ]
  },
  {
   "cell_type": "markdown",
   "metadata": {},
   "source": [
    "# find\n",
    "> Lookup values in nested json/mappings/sequences using dot notation\n"
   ]
  },
  {
   "cell_type": "code",
   "execution_count": null,
   "metadata": {},
   "outputs": [],
   "source": [
    "def find(element, json):\n",
    "    return reduce(operator.getitem, element.split('.'), json)\n",
    "\n",
    "j = {\"app\": {\n",
    "    \"Garden\": {\n",
    "        \"Flowers\": {\n",
    "            \"Red flower\": \"Rose\",\n",
    "            \"White Flower\": \"Jasmine\",\n",
    "            \"Yellow Flower\": \"Marigold\"\n",
    "        }\n",
    "    },\n",
    "    \"Fruits\": {\n",
    "        \"Yellow fruit\": \"Mango\",\n",
    "        \"Green fruit\": \"Guava\",\n",
    "        \"White Flower\": \"groovy\"\n",
    "    },\n",
    "    \"Trees\": {\n",
    "        \"label\": {\n",
    "            \"Yellow fruit\": \"Pumpkin\",\n",
    "            \"White Flower\": \"Bogan\"\n",
    "        }\n",
    "    }\n",
    "}}\n",
    "\n",
    "test_eq(find('app.Garden.Flowers.White Flower', j), 'Jasmine')"
   ]
  },
  {
   "cell_type": "code",
   "execution_count": null,
   "metadata": {},
   "outputs": [
    {
     "data": {
      "text/html": [
       "<pre style=\"white-space:pre;overflow-x:auto;line-height:normal;font-family:Menlo,'DejaVu Sans Mono',consolas,'Courier New',monospace\">app.Garden.Flowers\n",
       "<span style=\"font-weight: bold\">{</span><span style=\"color: #008000; text-decoration-color: #008000\">'Red flower'</span>: <span style=\"color: #008000; text-decoration-color: #008000\">'Rose'</span>, <span style=\"color: #008000; text-decoration-color: #008000\">'White Flower'</span>: <span style=\"color: #008000; text-decoration-color: #008000\">'Jasmine'</span>, <span style=\"color: #008000; text-decoration-color: #008000\">'Yellow Flower'</span>: <span style=\"color: #008000; text-decoration-color: #008000\">'Marigold'</span><span style=\"font-weight: bold\">}</span>\n",
       "</pre>\n"
      ],
      "text/plain": [
       "app.Garden.Flowers\n",
       "\u001b[1m{\u001b[0m\u001b[32m'Red flower'\u001b[0m: \u001b[32m'Rose'\u001b[0m, \u001b[32m'White Flower'\u001b[0m: \u001b[32m'Jasmine'\u001b[0m, \u001b[32m'Yellow Flower'\u001b[0m: \u001b[32m'Marigold'\u001b[0m\u001b[1m}\u001b[0m\n"
      ]
     },
     "metadata": {},
     "output_type": "display_data"
    }
   ],
   "source": [
    "cprint((dp := 'app.Garden.Flowers'), reduce(operator.getitem, dp.split('.'), j))\n"
   ]
  },
  {
   "cell_type": "code",
   "execution_count": null,
   "metadata": {},
   "outputs": [],
   "source": [
    "def find(element, j:str):\n",
    "    d = json.loads(j)\n",
    "    return reduce(lambda d, k: d[k] if isinstance(d, Mapping) else d[int(k)], element.split('.'), d)\n",
    "\n",
    "j2 = {\"app\": {\n",
    "    \"Garden\": {\n",
    "        \"Flowers\": {\n",
    "            \"Red flower\": \"Rose\",\n",
    "            \"White Flower\": \"Jasmine\",\n",
    "            \"Yellow Flower\": \"Marigold\"\n",
    "        }\n",
    "    },\n",
    "    \"Fruits\": {\n",
    "        \"Yellow fruit\": [\"Mango\", {\"Banana\": [\"Canary Island\", \"Puerto Rico\"]}],\n",
    "        \"Green fruit\": \"Guava\",\n",
    "        \"White Flower\": \"groovy\"\n",
    "    },\n",
    "    \"Trees\": {\n",
    "        \"label\": {\n",
    "            \"Yellow fruit\": \"Pumpkin\",\n",
    "            \"White Flower\": \"Bogan\"\n",
    "        }\n",
    "    }\n",
    "}}\n",
    "test_eq(find('app.Fruits.Yellow fruit.1.Banana.0', json.dumps(j2)), 'Canary Island')\n"
   ]
  },
  {
   "cell_type": "code",
   "execution_count": null,
   "metadata": {},
   "outputs": [
    {
     "data": {
      "text/html": [
       "<pre style=\"white-space:pre;overflow-x:auto;line-height:normal;font-family:Menlo,'DejaVu Sans Mono',consolas,'Courier New',monospace\">Apollo <span style=\"color: #008080; text-decoration-color: #008080; font-weight: bold\">11.</span>Michael Collins\n",
       "<span style=\"font-weight: bold\">{</span>\n",
       "    <span style=\"color: #008000; text-decoration-color: #008000\">'Experience'</span>: <span style=\"color: #008000; text-decoration-color: #008000\">'Pilot on Gemini 10 and Command Module pilot on Apollo 11.'</span>,\n",
       "    <span style=\"color: #008000; text-decoration-color: #008000\">'Place in history'</span>: <span style=\"color: #008000; text-decoration-color: #008000\">'Collins was the first person to perform two EVAs in one mission.'</span>,\n",
       "    <span style=\"color: #008000; text-decoration-color: #008000\">'Fast fact'</span>: <span style=\"color: #008000; text-decoration-color: #008000\">'Collins says his \"secret terror\" was returning to Earth alone if the surface mission failed.'</span>,\n",
       "    <span style=\"color: #008000; text-decoration-color: #008000\">'Lunar wisdom'</span>: <span style=\"color: #008000; text-decoration-color: #008000\">'I really believe that if the political leaders of the world could see their planet from a distance of 100,000 miles </span>\n",
       "<span style=\"color: #008000; text-decoration-color: #008000\">their outlook could be fundamentally changed. That all-important border would be invisible, that noisy argument silenced.'</span>\n",
       "<span style=\"font-weight: bold\">}</span>\n",
       "</pre>\n"
      ],
      "text/plain": [
       "Apollo \u001b[1;36m11.\u001b[0mMichael Collins\n",
       "\u001b[1m{\u001b[0m\n",
       "    \u001b[32m'Experience'\u001b[0m: \u001b[32m'Pilot on Gemini 10 and Command Module pilot on Apollo 11.'\u001b[0m,\n",
       "    \u001b[32m'Place in history'\u001b[0m: \u001b[32m'Collins was the first person to perform two EVAs in one mission.'\u001b[0m,\n",
       "    \u001b[32m'Fast fact'\u001b[0m: \u001b[32m'Collins says his \"secret terror\" was returning to Earth alone if the surface mission failed.'\u001b[0m,\n",
       "    \u001b[32m'Lunar wisdom'\u001b[0m: \u001b[32m'I really believe that if the political leaders of the world could see their planet from a distance of 100,000 miles \u001b[0m\n",
       "\u001b[32mtheir outlook could be fundamentally changed. That all-important border would be invisible, that noisy argument silenced.'\u001b[0m\n",
       "\u001b[1m}\u001b[0m\n"
      ]
     },
     "metadata": {},
     "output_type": "display_data"
    }
   ],
   "source": [
    "apollo_astronauts = json.loads(Path('apollo_astronauts.json').read_text())\n",
    "cprint((dp := 'Apollo 11.Michael Collins'), reduce(operator.getitem, dp.split('.'), apollo_astronauts))\n"
   ]
  },
  {
   "cell_type": "code",
   "execution_count": null,
   "metadata": {},
   "outputs": [],
   "source": [
    "#| export\n",
    "\n",
    "_II = isinstance\n",
    "def _at(d: Mapping|Sequence, k: str) -> Any:\n",
    "    return d[k] if _II(d, Mapping) else d[int(k)] if _II(d, Sequence) and not _II(d, (str, bytes)) else None\n",
    "\n",
    "def find(key_path: str, j: Mapping|Sequence|str|bytes|bytearray, default:Any=Parameter.empty, sep:str='.') -> Any:\n",
    "    try: return reduce(_at, key_path.split(sep), json.loads(j) if _II(j, (str, bytes, bytearray)) else j)\n",
    "    except (KeyError, IndexError) as e:\n",
    "        if default is not Parameter.empty: return default\n",
    "        raise e\n"
   ]
  },
  {
   "cell_type": "code",
   "execution_count": null,
   "metadata": {},
   "outputs": [],
   "source": [
    "j2 = {\n",
    "    \"app\": {\n",
    "        \"Garden\": {\n",
    "            \"Flowers\": {\n",
    "                \"Red flower\": \"Rose\",\n",
    "                \"White Flower\": \"Jasmine\",\n",
    "                \"Yellow Flower\": \"Marigold\"\n",
    "            }\n",
    "        },\n",
    "        \"Fruits\": {\n",
    "            \"Yellow fruit\": [\"Mango\", {\"Banana\": [\"Canary Island\", \"Puerto Rico\"]}],\n",
    "            \"Green fruit\": \"Guava\",\n",
    "            \"White Flower\": \"groovy\"\n",
    "        },\n",
    "        \"Trees\": {\n",
    "            \"label\": {\n",
    "                \"Yellow fruit\": \"Pumpkin\",\n",
    "                \"White Flower\": \"Bogan\"\n",
    "            }\n",
    "        },\n",
    "        \"Numbers\": [1, 2, 3, 4, 5],\n",
    "        \"Boolean\": True,\n",
    "        \"Null\": None\n",
    "    }\n",
    "}\n",
    "\n",
    "j2_str = json.dumps(j2)\n",
    "\n",
    "test_eq(find('app.Fruits.Yellow fruit.1.Banana.0', j2_str), 'Canary Island')\n",
    "test_eq(find('app.Garden.Flowers.Red flower', j2_str), 'Rose')\n",
    "test_eq(find('app.Numbers.2', j2_str), 3)\n",
    "test_eq(find('app.Boolean', j2_str), True)\n",
    "test_eq(find('app.Null', j2_str), None)\n",
    "test_fail(lambda: find('app.NonExistent', j2_str))\n",
    "test_fail(lambda: find('app.Fruits.Yellow fruit.3', j2_str))\n",
    "test_is(find('app.Fruits.Yellow fruit.3', j2_str, None), None)\n"
   ]
  },
  {
   "cell_type": "markdown",
   "metadata": {},
   "source": [
    "# read_vfile\n",
    "\n",
    "Hacking around to get anywidget `vfile:` working in Script and Style. \n",
    "Unfortunately, it's not a public API. If useful, we could write a similar util for Bridget.\n"
   ]
  },
  {
   "cell_type": "code",
   "execution_count": null,
   "metadata": {},
   "outputs": [],
   "source": [
    "#| export\n",
    "\n",
    "def read_vfile(cts:str)->str|None:\n",
    "    import anywidget\n",
    "    from anywidget._file_contents import _VIRTUAL_FILES\n",
    "    if cts.startswith('vfile:'):\n",
    "        if fn := _VIRTUAL_FILES.get(cts, None):\n",
    "            return fn.contents\n"
   ]
  },
  {
   "cell_type": "markdown",
   "metadata": {},
   "source": [
    "# vfile: Components\n",
    "\n",
    "> **FastHTML** xtend `Script` and `Style` with `vfile:` support."
   ]
  },
  {
   "cell_type": "code",
   "execution_count": null,
   "metadata": {},
   "outputs": [],
   "source": [
    "#| export\n",
    "\n",
    "@FC.delegates(ft_html, keep=True)  # type: ignore\n",
    "def Script(code:str=\"\", **kwargs)->FT:\n",
    "    \"A Script tag that doesn't escape its code\"\n",
    "    return ft_html('script', (_n, NotStr(FC.ifnone(read_vfile(code), code))), **kwargs)\n",
    "\n",
    "@FC.delegates(ft_html, keep=True)  # type: ignore\n",
    "def Style(*c, **kwargs)->FT:\n",
    "    \"A Style tag that doesn't escape its code\"\n",
    "    return ft_html('style', tuple(NotStr(FC.ifnone(read_vfile(_), _)) for _ in c), **kwargs)\n"
   ]
  },
  {
   "cell_type": "markdown",
   "metadata": {},
   "source": [
    "# nb_app\n",
    "> Basic naked FastHTML app"
   ]
  },
  {
   "cell_type": "code",
   "execution_count": null,
   "metadata": {},
   "outputs": [],
   "source": [
    "#| export\n",
    "\n",
    "@FC.delegates(FastHTML)  # type: ignore\n",
    "def nb_app(**kwargs):\n",
    "    from starlette.middleware.cors import CORSMiddleware\n",
    "    kwargs.update(default_hdrs=False, sess_cls=None)\n",
    "    app = FastHTML(**kwargs)\n",
    "    app.user_middleware = list(filter(lambda x: x.cls is not CORSMiddleware, app.user_middleware))\n",
    "    return app\n"
   ]
  },
  {
   "cell_type": "markdown",
   "metadata": {},
   "source": [
    "# Colophon\n",
    "----"
   ]
  },
  {
   "cell_type": "code",
   "execution_count": null,
   "metadata": {},
   "outputs": [],
   "source": [
    "import fastcore.all as FC\n",
    "import nbdev\n",
    "from nbdev.clean import nbdev_clean\n"
   ]
  },
  {
   "cell_type": "code",
   "execution_count": null,
   "metadata": {},
   "outputs": [],
   "source": [
    "if FC.IN_NOTEBOOK:\n",
    "    nb_path = '01_helpers.ipynb'\n",
    "    nbdev_clean(nb_path)\n",
    "    nbdev.nbdev_export(nb_path)\n"
   ]
  }
 ],
 "metadata": {
  "kernelspec": {
   "display_name": "python3",
   "language": "python",
   "name": "python3"
  }
 },
 "nbformat": 4,
 "nbformat_minor": 2
}
