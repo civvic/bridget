{
 "cells": [
  {
   "cell_type": "code",
   "execution_count": 1,
   "metadata": {
    "brd": {
     "id": "586e60e4-c3bd-408f-9fb7-585296536c95"
    },
    "id": "586e60e4-c3bd-408f-9fb7-585296536c95"
   },
   "outputs": [],
   "source": [
    "#| default_exp helpers"
   ]
  },
  {
   "cell_type": "code",
   "execution_count": 2,
   "metadata": {
    "brd": {
     "id": "9dd8d293-a248-420e-a85f-4b7df77e213a"
    }
   },
   "outputs": [],
   "source": [
    "#| export\n",
    "from __future__ import annotations\n"
   ]
  },
  {
   "cell_type": "markdown",
   "metadata": {},
   "source": [
    "# Helpers\n",
    "\n",
    "> ..."
   ]
  },
  {
   "cell_type": "markdown",
   "metadata": {},
   "source": [
    "# Prologue"
   ]
  },
  {
   "cell_type": "code",
   "execution_count": 3,
   "metadata": {
    "brd": {
     "id": "c1236812-0264-4739-8334-49869baf0141"
    }
   },
   "outputs": [],
   "source": [
    "#| export\n",
    "import functools\n",
    "import os\n",
    "import sys\n",
    "import time\n",
    "from binascii import hexlify\n",
    "from datetime import datetime\n",
    "from functools import cache\n",
    "from functools import partial\n",
    "from math import floor\n",
    "from pathlib import Path\n",
    "from types import ModuleType\n",
    "from typing import Any\n",
    "from typing import Callable\n",
    "from typing import DefaultDict\n",
    "from typing import Mapping\n",
    "from typing import overload\n",
    "from typing import Sequence\n",
    "\n",
    "import fastcore.all as FC\n",
    "import IPython.display\n",
    "import nbdev.config\n",
    "from fastcore.xml import to_xml\n",
    "from fasthtml.core import FastHTML\n",
    "from fasthtml.core import FT\n",
    "from fasthtml.xtend import Style\n",
    "from IPython.display import DisplayHandle\n",
    "from olio.common import bundle_path\n",
    "from olio.common import Config\n",
    "from olio.common import is_listy\n",
    "from olio.common import shorten\n",
    "from olio.common import update_\n"
   ]
  },
  {
   "cell_type": "code",
   "execution_count": 4,
   "metadata": {
    "brd": {
     "id": "f34d5a01-959a-4d2e-84d0-7ffc10fd46ff"
    }
   },
   "outputs": [],
   "source": [
    "#| export\n",
    "from fasthtml.components import Span, Summary, Ul, Details, Li"
   ]
  },
  {
   "cell_type": "code",
   "execution_count": 5,
   "metadata": {
    "brd": {
     "id": "54451df3-e27f-4466-a9d7-e56b14995619"
    }
   },
   "outputs": [],
   "source": [
    "import dataclasses\n",
    "import importlib\n",
    "import inspect\n",
    "import json\n",
    "import operator\n",
    "from functools import reduce\n",
    "from inspect import Parameter\n",
    "\n",
    "from fastcore.foundation import L\n",
    "from fastcore.test import *\n",
    "from fasthtml.components import show\n",
    "from IPython.display import HTML\n",
    "from olio.basic import _get_globals\n",
    "from olio.common import empty\n",
    "from olio.common import setup_console\n",
    "from olio.test import test_raises\n",
    "from fastcore.xml import to_xml\n"
   ]
  },
  {
   "cell_type": "markdown",
   "metadata": {},
   "source": [
    "----"
   ]
  },
  {
   "cell_type": "code",
   "execution_count": 6,
   "metadata": {
    "brd": {
     "id": "a77f89f5-936b-45c2-b984-67d1bfea050a"
    }
   },
   "outputs": [],
   "source": [
    "console, cprint = setup_console(140)"
   ]
  },
  {
   "cell_type": "markdown",
   "metadata": {},
   "source": [
    "----"
   ]
  },
  {
   "cell_type": "markdown",
   "metadata": {},
   "source": [
    "# Helpers"
   ]
  },
  {
   "cell_type": "code",
   "execution_count": 7,
   "metadata": {
    "brd": {
     "id": "4e7b9632-5dca-407f-a91d-636ce82129be"
    }
   },
   "outputs": [],
   "source": [
    "#| export\n",
    "\n",
    "emptyd, emptyl, emptyt = {}, [], ()\n",
    "_n = '\\n'"
   ]
  },
  {
   "cell_type": "markdown",
   "metadata": {},
   "source": [
    "# Configuration"
   ]
  },
  {
   "cell_type": "markdown",
   "metadata": {},
   "source": [
    "## DEBUG"
   ]
  },
  {
   "cell_type": "code",
   "execution_count": 8,
   "metadata": {
    "brd": {
     "id": "e6b46091-c710-4c4c-9a39-b78d76da45dc"
    }
   },
   "outputs": [],
   "source": [
    "#| export\n",
    "\n",
    "def DEBUG(iftrue:Any=True, iffalse:Any=False, k='DEBUG_BRIDGET'):\n",
    "    \"Returns `iftrue` if debug environment variable is set, otherwise `iffalse`\"\n",
    "    return iftrue if os.environ.get(k, '').lower() in ('true', '1', 'yes', 'y') else iffalse"
   ]
  },
  {
   "cell_type": "markdown",
   "metadata": {},
   "source": [
    "## BridgeCfg\n"
   ]
  },
  {
   "cell_type": "code",
   "execution_count": 9,
   "metadata": {
    "brd": {
     "id": "0b03d733-7c7b-43f6-a6a4-c2ce5854ad34"
    }
   },
   "outputs": [],
   "source": [
    "#| export\n",
    "\n",
    "class BundleCfg(Config):\n",
    "    out_dir: list[Path] = [nbdev.config.get_config().lib_path/'js']  # directories to search for js modules\n",
    "    rewrite_imports: bool = True  # rewrite imports to use dynamic import\n",
    "    import_name: str = 'brdimport'  # name of the dynamic import function\n",
    "\n",
    "class BridgeCfg(Config):\n",
    "    \"\"\"\n",
    "    Core Bridget behavior settings.\n",
    "    \n",
    "    if `True`:\n",
    "    - `auto_show`: FastHTML objects display as HTML instead of markdown.\n",
    "    - `auto_mount`: components with routes are automatically mounted.\n",
    "    - `auto_id`: display elements get auto-generated IDs.\n",
    "    - `bootstrap`: load bridget.js on import.\n",
    "    - `current_did`: the ID of the current display cell.\n",
    "    \"\"\"\n",
    "    auto_show: bool = False\n",
    "    auto_mount: bool = False\n",
    "    auto_id: bool = False\n",
    "    bundle_cfg: BundleCfg = BundleCfg()\n",
    "    bootstrap: bool = os.environ.get('BRIDGET_BOOTSTRAP', '').lower() in ('true', '1', 'on', 'yes', 'y')\n",
    "    current_did: str|None = None\n",
    "\n",
    "    def for_module(self, module: str|ModuleType, dir='js') -> BridgeCfg:\n",
    "        \"Set up BridgeCfg for a specific module by adding its js directory to bundle search paths\"\n",
    "        if (p := bundle_path(module).resolve())/dir not in self.bundle_cfg.out_dir: self.bundle_cfg.out_dir.insert(0, p/dir)\n",
    "        return self\n",
    "\n",
    "bridge_cfg = BridgeCfg()"
   ]
  },
  {
   "cell_type": "code",
   "execution_count": 10,
   "metadata": {
    "brd": {
     "id": "ba65289b-35e4-4042-8849-0876b8595ad1"
    }
   },
   "outputs": [
    {
     "data": {
      "text/html": [
       "<pre style=\"white-space:pre;overflow-x:auto;line-height:normal;font-family:Menlo,'DejaVu Sans Mono',consolas,'Courier New',monospace\"><span style=\"font-weight: bold\">{</span><span style=\"color: #008000; text-decoration-color: #008000\">'auto_show'</span>: <span style=\"color: #ff0000; text-decoration-color: #ff0000; font-style: italic\">False</span>, <span style=\"color: #008000; text-decoration-color: #008000\">'auto_mount'</span>: <span style=\"color: #ff0000; text-decoration-color: #ff0000; font-style: italic\">False</span>, <span style=\"color: #008000; text-decoration-color: #008000\">'auto_id'</span>: <span style=\"color: #ff0000; text-decoration-color: #ff0000; font-style: italic\">False</span>, <span style=\"color: #008000; text-decoration-color: #008000\">'bundle_cfg'</span>: <span style=\"font-weight: bold\">{</span><span style=\"color: #008000; text-decoration-color: #008000\">'out_dir'</span>: <span style=\"font-weight: bold\">[</span><span style=\"color: #800080; text-decoration-color: #800080; font-weight: bold\">Path</span><span style=\"font-weight: bold\">(</span><span style=\"color: #008000; text-decoration-color: #008000\">'/Users/vic/dev/repo/project/bridget/nbs/js'</span><span style=\"font-weight: bold\">)</span>, \n",
       "<span style=\"color: #800080; text-decoration-color: #800080; font-weight: bold\">Path</span><span style=\"font-weight: bold\">(</span><span style=\"color: #008000; text-decoration-color: #008000\">'/Users/vic/dev/repo/project/bridget/bridget/js'</span><span style=\"font-weight: bold\">)]</span>, <span style=\"color: #008000; text-decoration-color: #008000\">'rewrite_imports'</span>: <span style=\"color: #00ff00; text-decoration-color: #00ff00; font-style: italic\">True</span>, <span style=\"color: #008000; text-decoration-color: #008000\">'import_name'</span>: <span style=\"color: #008000; text-decoration-color: #008000\">'brdimport'</span><span style=\"font-weight: bold\">}</span>, <span style=\"color: #008000; text-decoration-color: #008000\">'bootstrap'</span>: <span style=\"color: #ff0000; text-decoration-color: #ff0000; font-style: italic\">False</span>, \n",
       "<span style=\"color: #008000; text-decoration-color: #008000\">'current_did'</span>: <span style=\"color: #800080; text-decoration-color: #800080; font-style: italic\">None</span><span style=\"font-weight: bold\">}</span>\n",
       "</pre>\n"
      ],
      "text/plain": [
       "\u001b[1m{\u001b[0m\u001b[32m'auto_show'\u001b[0m: \u001b[3;91mFalse\u001b[0m, \u001b[32m'auto_mount'\u001b[0m: \u001b[3;91mFalse\u001b[0m, \u001b[32m'auto_id'\u001b[0m: \u001b[3;91mFalse\u001b[0m, \u001b[32m'bundle_cfg'\u001b[0m: \u001b[1m{\u001b[0m\u001b[32m'out_dir'\u001b[0m: \u001b[1m[\u001b[0m\u001b[1;35mPath\u001b[0m\u001b[1m(\u001b[0m\u001b[32m'/Users/vic/dev/repo/project/bridget/nbs/js'\u001b[0m\u001b[1m)\u001b[0m, \n",
       "\u001b[1;35mPath\u001b[0m\u001b[1m(\u001b[0m\u001b[32m'/Users/vic/dev/repo/project/bridget/bridget/js'\u001b[0m\u001b[1m)\u001b[0m\u001b[1m]\u001b[0m, \u001b[32m'rewrite_imports'\u001b[0m: \u001b[3;92mTrue\u001b[0m, \u001b[32m'import_name'\u001b[0m: \u001b[32m'brdimport'\u001b[0m\u001b[1m}\u001b[0m, \u001b[32m'bootstrap'\u001b[0m: \u001b[3;91mFalse\u001b[0m, \n",
       "\u001b[32m'current_did'\u001b[0m: \u001b[3;35mNone\u001b[0m\u001b[1m}\u001b[0m\n"
      ]
     },
     "metadata": {},
     "output_type": "display_data"
    }
   ],
   "source": [
    "cprint(bridge_cfg.for_module(__name__))"
   ]
  },
  {
   "cell_type": "markdown",
   "metadata": {},
   "source": [
    "# Command Execution"
   ]
  },
  {
   "cell_type": "markdown",
   "metadata": {},
   "source": [
    "## run_command"
   ]
  },
  {
   "cell_type": "code",
   "execution_count": 11,
   "metadata": {
    "brd": {
     "id": "6b38e5a8-f542-4191-bbab-9ca5dec11aa9"
    }
   },
   "outputs": [],
   "source": [
    "#| export\n",
    "\n",
    "async def arun_command(command: str, cwd: Path|None=None, **kwargs):\n",
    "    \"Async version of run_command using anyio\"\n",
    "    import anyio\n",
    "    import subprocess\n",
    "    try:\n",
    "        process = await anyio.run_process(\n",
    "            command,\n",
    "            cwd=cwd or Path().absolute().parent,\n",
    "            **kwargs\n",
    "        )\n",
    "        return process.stdout.decode('utf-8'), process.stderr.decode('utf-8')\n",
    "    except subprocess.CalledProcessError as e:\n",
    "        return e.stdout.decode('utf-8'), e.stderr.decode('utf-8')\n",
    "\n",
    "def run_command(command: str, cwd: Path|None=None, **kwargs):\n",
    "    \"Execute shell command synchronously, returns (stdout, stderr)\"\n",
    "    import subprocess\n",
    "    result = subprocess.run(\n",
    "        command,\n",
    "        shell=True,\n",
    "        capture_output=True,\n",
    "        text=True,\n",
    "        cwd=cwd or Path().absolute().parent,\n",
    "        check=True,\n",
    "        **kwargs\n",
    "    )\n",
    "    if result.returncode != 0:\n",
    "        raise RuntimeError(result.stderr)\n",
    "    return result.stdout, result.stderr"
   ]
  },
  {
   "cell_type": "code",
   "execution_count": 12,
   "metadata": {
    "brd": {
     "id": "19b105cf-6735-4448-ab3c-b66ffdb425ae"
    }
   },
   "outputs": [],
   "source": [
    "a,_ = await arun_command('ls')\n",
    "test_eq('bridget' in a, True)\n",
    "_,b = await arun_command('node notfound')\n",
    "test_eq('Error: Cannot find module' in b, True)\n",
    "\n",
    "with test_raises(FileNotFoundError):\n",
    "    await arun_command('ls', cwd=Path('/not/found'))"
   ]
  },
  {
   "cell_type": "markdown",
   "metadata": {},
   "source": [
    "# Time Formatting"
   ]
  },
  {
   "cell_type": "code",
   "execution_count": 13,
   "metadata": {
    "brd": {
     "id": "b519e085-9d47-4412-bec9-3890626500db"
    }
   },
   "outputs": [],
   "source": [
    "#| export\n",
    "\n",
    "def ts(): return f\"{datetime.now():%H:%M:%S.%f}\"[:-3]"
   ]
  },
  {
   "cell_type": "code",
   "execution_count": 14,
   "metadata": {
    "brd": {
     "id": "c09caa45-f090-4136-b45a-59494ce28e28"
    }
   },
   "outputs": [
    {
     "data": {
      "text/plain": [
       "'11:23:22.138'"
      ]
     },
     "execution_count": 14,
     "metadata": {},
     "output_type": "execute_result"
    }
   ],
   "source": [
    "ts()"
   ]
  },
  {
   "cell_type": "code",
   "execution_count": 15,
   "metadata": {
    "brd": {
     "id": "bc0aba4e-2664-4709-81be-18e82c41b7f1"
    }
   },
   "outputs": [],
   "source": [
    "#| export\n",
    "\n",
    "def ms2str(ts) -> str:\n",
    "    \"format timestamp as in milliseconds to readable time hours:minutes:seconds:milliseconds\"\n",
    "    return datetime.fromtimestamp(ts).time().isoformat().rstrip('0')"
   ]
  },
  {
   "cell_type": "code",
   "execution_count": 16,
   "metadata": {
    "brd": {
     "id": "44488de1-6ce8-42ba-87e5-7030896d93f4"
    }
   },
   "outputs": [
    {
     "data": {
      "text/plain": [
       "(1757323402.147262, '11:23:22.147262')"
      ]
     },
     "execution_count": 16,
     "metadata": {},
     "output_type": "execute_result"
    }
   ],
   "source": [
    "ts = datetime.now().timestamp()\n",
    "ts, ms2str(ts)"
   ]
  },
  {
   "cell_type": "markdown",
   "metadata": {},
   "source": [
    "# Id generation"
   ]
  },
  {
   "cell_type": "markdown",
   "metadata": {},
   "source": [
    "## Kounter\n",
    "> Counter of keys"
   ]
  },
  {
   "cell_type": "code",
   "execution_count": 17,
   "metadata": {
    "brd": {
     "id": "9fb0f15d-8b82-45db-9b62-4b84ce95490e"
    }
   },
   "outputs": [],
   "source": [
    "#| export\n",
    "\n",
    "class Kounter:\n",
    "    \"Counter that tracks occurrences of keys and returns incremented count\"\n",
    "    def __init__(self): self.d = DefaultDict(int)\n",
    "    def __call__(self, k): d = self.d; d[k] += 1; return self.d[k]\n",
    "\n",
    "kounter = Kounter()"
   ]
  },
  {
   "cell_type": "code",
   "execution_count": 18,
   "metadata": {
    "brd": {
     "id": "6f9ef13e-9114-43eb-a22e-02e32ea029f1"
    }
   },
   "outputs": [],
   "source": [
    "cntr = Kounter()\n",
    "cntr('a')\n",
    "cntr('b')\n",
    "cntr('a')\n",
    "cntr('a')\n",
    "cntr('b')\n",
    "cntr('b')\n",
    "cntr('b')\n",
    "test_eq(cntr.d, {'a': 3, 'b': 4})\n",
    "test_eq(cntr('int'), 1)"
   ]
  },
  {
   "cell_type": "markdown",
   "metadata": {},
   "source": [
    "## id_gen\n",
    "> Generate unique session IDs\n"
   ]
  },
  {
   "cell_type": "code",
   "execution_count": 19,
   "metadata": {
    "brd": {
     "id": "2954778e-10ae-4d5d-a75b-810409872756"
    }
   },
   "outputs": [],
   "source": [
    "import random\n",
    "import re\n",
    "from pathlib import Path\n",
    "\n",
    "lines = Path(\"static/wordlist.txt\").read_text().splitlines()\n",
    "words = [line.strip() for line in lines if line.isalpha()]"
   ]
  },
  {
   "cell_type": "code",
   "execution_count": 20,
   "metadata": {
    "brd": {
     "id": "ff41ad00-0b61-4b15-8e98-5629cc341873"
    }
   },
   "outputs": [],
   "source": [
    "def modify_word(word):\n",
    "    # Randomly capitalize the first or second letter\n",
    "    if len(word) > 1:\n",
    "        idx_to_capitalize = random.choice([0, 1])\n",
    "        word = word[:idx_to_capitalize] + word[idx_to_capitalize].upper() + word[idx_to_capitalize + 1:]\n",
    "    else:\n",
    "        word = word.upper()  # If single letter, capitalize it\n",
    "    \n",
    "    # Randomly add a number (0–99) at the start or end\n",
    "    if random.choice([True, False]):\n",
    "        number = random.randint(0, 99)\n",
    "        # if random.choice([True, False]):\n",
    "        #     word = f\"{number}{word}\"  # Number at the start\n",
    "        # else:\n",
    "        word = f\"{word}{number}\"  # Number at the end\n",
    "    \n",
    "    return word\n",
    "\n",
    "def generate_readable_id(num_words=3):\n",
    "    words_part = [modify_word(random.choice(words)) for _ in range(num_words)]\n",
    "    id_candidate = '-'.join(words_part)\n",
    "\n",
    "    # Ensure it's a valid CSS identifier\n",
    "    if not re.match(r\"^[a-zA-Z_][\\w\\-]*$\", id_candidate):  # Add '_' if invalid\n",
    "        id_candidate = f\"_{id_candidate}\"\n",
    "    \n",
    "    return f\"{id_candidate}-{random.randint(0, 9999)}\""
   ]
  },
  {
   "cell_type": "code",
   "execution_count": 21,
   "metadata": {
    "brd": {
     "id": "f123529f-0275-4044-8e83-152756da62b9"
    }
   },
   "outputs": [
    {
     "data": {
      "text/plain": [
       "('cOmmonly-Solves39-oPen24-855', 'bEaring-fLashes-pOssibly-6611')"
      ]
     },
     "execution_count": 21,
     "metadata": {},
     "output_type": "execute_result"
    }
   ],
   "source": [
    "generate_readable_id(), generate_readable_id()"
   ]
  },
  {
   "cell_type": "code",
   "execution_count": 22,
   "metadata": {
    "brd": {
     "id": "e20af263-2ad4-4543-8cec-d4f06a20090e"
    }
   },
   "outputs": [],
   "source": [
    "#| export\n",
    "\n",
    "SESSION_TS = str(floor(time.time()))\n",
    "\n",
    "def simple_id():\n",
    "    \"Generate simple hex ID using random bytes\"\n",
    "    return 'b'+hexlify(os.urandom(16), '-', 4).decode('ascii')\n",
    "\n",
    "def id_gen():\n",
    "    \"Create ID generator function that produces unique session-based IDs\"\n",
    "    kntr = Kounter()\n",
    "    def _(o=None): \n",
    "        if o is None: return simple_id()\n",
    "        # return f\"{type(o).__name__}_{hash(o) if isinstance(o, Hashable) else kntr(type(o).__name__)}\"\n",
    "        if isinstance(o, str): return f\"{o}_{kntr(o)}-{SESSION_TS}\"\n",
    "        return f\"{type(o).__name__}_{kntr(type(o).__name__)}-{SESSION_TS}\"\n",
    "    return _"
   ]
  },
  {
   "cell_type": "code",
   "execution_count": 23,
   "metadata": {
    "brd": {
     "id": "48cd8619-3493-44bb-9643-841e2510a699"
    }
   },
   "outputs": [
    {
     "data": {
      "text/plain": [
       "'b1a229e86-ce5f0bc4-d8997daa-8ff815a4'"
      ]
     },
     "execution_count": 23,
     "metadata": {},
     "output_type": "execute_result"
    }
   ],
   "source": [
    "simple_id()"
   ]
  },
  {
   "cell_type": "markdown",
   "metadata": {},
   "source": [
    "The `id_gen` function creates a function that takes any object and generates an unique Id valid during the current session. Useful for creating unique element IDs in dynamic HTML content.\n"
   ]
  },
  {
   "cell_type": "code",
   "execution_count": 24,
   "metadata": {
    "brd": {
     "id": "81805516-22ac-412b-8370-ce1f36767c44"
    }
   },
   "outputs": [
    {
     "data": {
      "text/plain": [
       "('b9039bae4-e764e417-eb5cc88d-6aa963c7',\n",
       " 'bc46b383e-da955e86-30bbde2f-e40f2fbc')"
      ]
     },
     "execution_count": 24,
     "metadata": {},
     "output_type": "execute_result"
    }
   ],
   "source": [
    "new_id = id_gen()\n",
    "new_id(), new_id()"
   ]
  },
  {
   "cell_type": "code",
   "execution_count": 25,
   "metadata": {
    "brd": {
     "id": "77117096-2b52-4f83-abf4-68a34be53cc5"
    }
   },
   "outputs": [
    {
     "data": {
      "text/plain": [
       "('int_1-1757323402', 'int_2-1757323402', 'int_3-1757323402')"
      ]
     },
     "execution_count": 25,
     "metadata": {},
     "output_type": "execute_result"
    }
   ],
   "source": [
    "int_id = id_gen()\n",
    "int_id(7), int_id(7), int_id(888)"
   ]
  },
  {
   "cell_type": "code",
   "execution_count": 26,
   "metadata": {
    "brd": {
     "id": "257cc7bb-100d-43c8-9b5b-1a26fd880c3f"
    }
   },
   "outputs": [
    {
     "data": {
      "text/plain": [
       "('asdf_1-1757323402', 'asdf_2-1757323402', 'asdf_3-1757323402')"
      ]
     },
     "execution_count": 26,
     "metadata": {},
     "output_type": "execute_result"
    }
   ],
   "source": [
    "int_id = id_gen()\n",
    "int_id('asdf'), int_id('asdf'), int_id('asdf')"
   ]
  },
  {
   "cell_type": "code",
   "execution_count": 27,
   "metadata": {
    "brd": {
     "id": "8f2444ea-1bdb-442e-941c-cce510875100"
    }
   },
   "outputs": [
    {
     "name": "stdout",
     "output_type": "stream",
     "text": [
      "object_1-1757323402 object_2-1757323402\n",
      "dict_1-1757323402 dict_2-1757323402\n",
      "PosixPath_1-1757323402 PosixPath_2-1757323402 PosixPath_3-1757323402\n"
     ]
    }
   ],
   "source": [
    "obj_id = id_gen()\n",
    "o1, o2 = object(), object()\n",
    "print(obj_id(o1), obj_id(o2))\n",
    "\n",
    "dict_id = id_gen()\n",
    "print(dict_id(d1 := {'a': 1}), dict_id(d2 := {'b': 7}))\n",
    "\n",
    "pth_id = id_gen()\n",
    "print(pth_id(Path('.')), pth_id(Path()), pth_id(Path('./bin')))"
   ]
  },
  {
   "cell_type": "markdown",
   "metadata": {},
   "source": [
    "# Class Patching Utilities"
   ]
  },
  {
   "cell_type": "markdown",
   "metadata": {},
   "source": [
    "## patch_cached"
   ]
  },
  {
   "cell_type": "code",
   "execution_count": 28,
   "metadata": {
    "brd": {
     "id": "9f7ad4b2-b676-4be9-8a89-c3b83defe247"
    }
   },
   "outputs": [],
   "source": [
    "#| export\n",
    "\n",
    "def patch_cached(cls, f, name:str|None=None):\n",
    "    \"Add cached method to class using functools.cache\"\n",
    "    name = name or (f if not isinstance(f, partial) else f.func).__name__ \n",
    "    setattr(cls, name, cache(f))"
   ]
  },
  {
   "cell_type": "code",
   "execution_count": 29,
   "metadata": {
    "brd": {
     "id": "6079e8b6-7e38-425e-9548-cac5d7f9f085"
    }
   },
   "outputs": [],
   "source": [
    "# type: ignore\n",
    "\n",
    "from collections import defaultdict\n",
    "\n",
    "class Test:\n",
    "    def __init__(self): self.d = defaultdict(list)\n",
    "\n",
    "def a(self, n:int=1):\n",
    "    self.d['a'].append(n)\n",
    "    return n+1\n",
    "\n",
    "\n",
    "patch_cached(Test, a)\n",
    "\n",
    "t1 = Test()\n",
    "test_eq(t1.a(), 2)\n",
    "test_eq(t1.a(), t1.a())\n",
    "test_eq(t1.d['a'], [1])\n",
    "test_eq(t1.a(3), 4)\n",
    "test_eq(t1.a(3), t1.a(3))\n",
    "test_eq(t1.d['a'], [1, 3])\n",
    "\n",
    "t2 = Test()\n",
    "test_eq(t2.a(), 2)\n",
    "test_eq(t2.a(), t2.a())\n",
    "test_eq(t2.d['a'], [1])\n",
    "test_eq(t2.a(7), 8)\n",
    "test_eq(t2.a(7), t2.a(7))\n",
    "test_eq(t2.d['a'], [1, 7])"
   ]
  },
  {
   "cell_type": "markdown",
   "metadata": {},
   "source": [
    "## patch_cached_property"
   ]
  },
  {
   "cell_type": "code",
   "execution_count": 30,
   "metadata": {
    "brd": {
     "id": "a670775b-96ad-49e2-b83d-a09b24b4eb77"
    }
   },
   "outputs": [],
   "source": [
    "#| export\n",
    "\n",
    "def patch_cached_property(cls, f, name:str|None=None):\n",
    "    \"`cached_property` with `partial` support\"\n",
    "    is_partial, prop = isinstance(f, partial), functools.cached_property(f)\n",
    "    if is_partial: prop.__doc__ = f.func.__doc__\n",
    "    prop.attrname = name or (f if not is_partial else f.func).__name__ \n",
    "    setattr(cls, prop.attrname, prop)"
   ]
  },
  {
   "cell_type": "code",
   "execution_count": 31,
   "metadata": {
    "brd": {
     "id": "4888a6a6-7401-472d-ace1-fdbea61128be"
    }
   },
   "outputs": [],
   "source": [
    "# type: ignore\n",
    "\n",
    "def a(self): \n",
    "    \"a docs\"\n",
    "    self.d['a'].append('a'); return 2\n",
    "def _b(self, n): \n",
    "    \"b docs\"\n",
    "    self.d['b'].append(n); return n+n\n",
    "class Test: \n",
    "    def __init__(self): self.d = defaultdict(list)\n",
    "\n",
    "patch_cached_property(Test, a)\n",
    "patch_cached_property(Test, lambda self: _b(self, 2), 'b2')\n",
    "patch_cached_property(Test, partial(_b, n=3), 'b3')\n",
    "patch_cached_property(Test, partial(lambda self: _b(self, 4)), 'b4')\n",
    "\n",
    "t1 = Test()\n",
    "test_eq(t1.a, 2)\n",
    "test_eq(t1.a, t1.a)\n",
    "test_eq(t1.d['a'], ['a'])\n",
    "test_eq(t1.b2, 4)\n",
    "test_eq(t1.b2, t1.b2)\n",
    "test_eq(t1.d['b'], [2])\n",
    "test_eq(t1.b3, 6)\n",
    "test_eq(t1.b3, t1.b3)\n",
    "test_eq(t1.d['b'], [2, 3])\n",
    "test_eq(t1.b4, 8)\n",
    "test_eq(t1.b4, t1.b4)\n",
    "test_eq(t1.d['b'], [2, 3, 4])"
   ]
  },
  {
   "cell_type": "markdown",
   "metadata": {},
   "source": [
    "## cached_property"
   ]
  },
  {
   "cell_type": "code",
   "execution_count": 32,
   "metadata": {
    "brd": {
     "id": "eb0e8c9d-f597-439b-9efa-d89e90a888d7"
    }
   },
   "outputs": [],
   "source": [
    "#| export\n",
    "\n",
    "class cached_property(functools.cached_property):\n",
    "    \"Enhanced cached_property that preserves function attributes\"\n",
    "    def __init__(self, func):\n",
    "        super().__init__(func)\n",
    "        for o in functools.WRAPPER_ASSIGNMENTS: setattr(self, o, getattr(func, o))\n",
    "    # def __set_name__(self, owner, name):\n",
    "    #     super().__set_name__(owner, name)\n",
    "    #     if self.attrname is None:\n",
    "    #         self.__qualname__ = f\"{owner.__name__}.{name}\""
   ]
  },
  {
   "cell_type": "markdown",
   "metadata": {},
   "source": [
    "# bridge_metadata"
   ]
  },
  {
   "cell_type": "code",
   "execution_count": 33,
   "metadata": {
    "brd": {
     "id": "009e797f-9e12-49f5-8d72-6d14d5a156a4"
    }
   },
   "outputs": [],
   "source": [
    "#| export\n",
    "\n",
    "def bridge_metadata(metadata:dict|None=None, **kwargs):\n",
    "    \"Add or update 'bridge' key in metadata dict with kwargs\"\n",
    "    if not metadata: metadata = {'bridge': {**kwargs}}\n",
    "    elif not 'bridge' in metadata: metadata['bridge'] = {**kwargs}\n",
    "    else: metadata['bridge'].update(**kwargs)\n",
    "    return metadata\n",
    "\n",
    "def skip(metadata:dict|None=None, **kwargs):\n",
    "    \"Convenience function to add skip=True to bridge metadata\"\n",
    "    return bridge_metadata(metadata, skip=True, **kwargs)"
   ]
  },
  {
   "cell_type": "code",
   "execution_count": 34,
   "metadata": {
    "brd": {
     "id": "913171af-ed4b-466c-82d8-e1aafa3b10d1"
    }
   },
   "outputs": [],
   "source": [
    "test_eq(bridge_metadata(), {'bridge': {}})\n",
    "test_eq(bridge_metadata(skip=True), {'bridge': {'skip': True}})\n",
    "test_eq(bridge_metadata({'autoshow': True}, skip=True), {'autoshow': True, 'bridge': {'skip': True}})\n",
    "test_eq(skip(), {'bridge': {'skip': True}})\n",
    "test_eq(skip({'bridge': {'auto_show': True}}), {'bridge': {'skip': True, 'auto_show': True}})\n",
    "test_eq(skip(auto_show=True), {'bridge': {'skip': True, 'auto_show': True}})"
   ]
  },
  {
   "cell_type": "markdown",
   "metadata": {},
   "source": [
    "## Function Composition"
   ]
  },
  {
   "cell_type": "markdown",
   "metadata": {},
   "source": [
    "## compose_first\n",
    "> like [fastcore.compose](https://fastcore.fast.ai/basics.html#compose), but args are passed only to first function"
   ]
  },
  {
   "cell_type": "code",
   "execution_count": 35,
   "metadata": {
    "brd": {
     "id": "e9448a1c-66f8-4487-949b-8a10f24cb44c"
    }
   },
   "outputs": [],
   "source": [
    "#| export\n",
    "\n",
    "def compose_first(*funcs:Callable, order:Callable | None = None) -> Callable:\n",
    "    \"\"\"Create a function that composes all functions in `funcs`, passing remaining `*args` and \n",
    "    `**kwargs` to first function only. `order`: key function to sort funcs before composing\"\"\"\n",
    "    funcs = FC.listify(funcs)  # type: ignore\n",
    "    if len(funcs)==0: return FC.noop\n",
    "    if len(funcs)==1: return funcs[0]\n",
    "    if order is not None: funcs = FC.sorted_ex(funcs, key=order)  # type: ignore\n",
    "    def _inner(x, *args, **kwargs):\n",
    "        x = funcs[0](x, *args, **kwargs)  # type: ignore\n",
    "        for f in funcs[1:]: x = f(x)  # type: ignore\n",
    "        return x\n",
    "    return _inner"
   ]
  },
  {
   "cell_type": "code",
   "execution_count": 36,
   "metadata": {
    "brd": {
     "id": "c624587f-d1ce-4c5e-8e5e-e2266731536e"
    }
   },
   "outputs": [],
   "source": [
    "def add_one(x): return x + 1\n",
    "def multiply_two(x): return x * 2\n",
    "def add_ten(x): return x + 10\n",
    "\n",
    "single = compose_first(add_one)\n",
    "test_eq(single(5), 6)\n",
    "\n",
    "test_eq(single, add_one)\n",
    "empty = compose_first()\n",
    "test_eq(empty, FC.noop)\n",
    "\n",
    "composed = compose_first(add_one, multiply_two, add_ten)\n",
    "test_eq(composed(5), 22)  # ((5+1) * 2) + 10 = 22"
   ]
  },
  {
   "cell_type": "code",
   "execution_count": 37,
   "metadata": {
    "brd": {
     "id": "df462218-38cb-4ac7-99ac-8a7407a4a48f"
    }
   },
   "outputs": [],
   "source": [
    "def tag_a(x): return f\"a({x})\"\n",
    "def tag_b(x): return f\"b({x})\"\n",
    "def tag_c(x): return f\"c({x})\"\n",
    "\n",
    "natural = compose_first(tag_c, tag_a, tag_b)\n",
    "test_eq(natural(\"x\"), \"b(a(c(x)))\")\n",
    "\n",
    "ordered = compose_first(tag_c, tag_a, tag_b, order=lambda f: f.__name__)\n",
    "test_eq(ordered(\"x\"), \"c(b(a(x)))\")  # Functions sorted: tag_a, tag_b, tag_c"
   ]
  },
  {
   "cell_type": "markdown",
   "metadata": {},
   "source": [
    "# FastHTML Utilities"
   ]
  },
  {
   "cell_type": "markdown",
   "metadata": {},
   "source": [
    "## nb_app\n",
    "> Basic naked FastHTML app"
   ]
  },
  {
   "cell_type": "code",
   "execution_count": 38,
   "metadata": {
    "brd": {
     "id": "48d697a2-fcb7-4169-9b20-f8d36d0ecac6"
    }
   },
   "outputs": [],
   "source": [
    "#| export\n",
    "\n",
    "@FC.delegates(FastHTML)  # type: ignore\n",
    "def nb_app(**kwargs):\n",
    "    from starlette.middleware.cors import CORSMiddleware\n",
    "    kwargs.update(default_hdrs=False, sess_cls=None)\n",
    "    app = FastHTML(**kwargs)\n",
    "    app.user_middleware = list(filter(lambda x: x.cls is not CORSMiddleware, app.user_middleware))\n",
    "    return app\n"
   ]
  },
  {
   "cell_type": "code",
   "execution_count": 39,
   "metadata": {
    "brd": {
     "id": "b5dea645-b716-404a-8635-01abf34e9073"
    }
   },
   "outputs": [],
   "source": [
    "app = nb_app()\n",
    "test_eq(app.user_middleware, [])"
   ]
  },
  {
   "cell_type": "markdown",
   "metadata": {},
   "source": [
    "## CLog"
   ]
  },
  {
   "cell_type": "code",
   "execution_count": 40,
   "metadata": {
    "brd": {
     "id": "41d56fa8-e781-4141-97dd-71a5159cec0b"
    }
   },
   "outputs": [],
   "source": [
    "#| export\n",
    "\n",
    "def CLog(*o):\n",
    "    return f\"<script>console.log({','.join(map(repr, o))})</script>\""
   ]
  },
  {
   "cell_type": "code",
   "execution_count": 41,
   "metadata": {
    "brd": {
     "id": "43a5a4f1-4333-4c29-bd9f-a1e8c9ef0d21"
    }
   },
   "outputs": [
    {
     "data": {
      "text/html": [
       "<script>console.log('aaaa','bbbb')</script>"
      ],
      "text/plain": [
       "<IPython.core.display.HTML object>"
      ]
     },
     "metadata": {},
     "output_type": "display_data"
    }
   ],
   "source": [
    "display(HTML(CLog('aaaa', 'bbbb')))"
   ]
  },
  {
   "cell_type": "markdown",
   "metadata": {},
   "source": [
    "# Display Utilities"
   ]
  },
  {
   "cell_type": "markdown",
   "metadata": {},
   "source": [
    "## displaydh\n",
    "> Covenience function and definitions just to avoid the stupid wiggly reds."
   ]
  },
  {
   "cell_type": "code",
   "execution_count": 42,
   "metadata": {
    "brd": {
     "id": "8b4b247b-96d2-4a31-ae8e-79ab60acbed3"
    }
   },
   "outputs": [],
   "source": [
    "#| export\n",
    "\n",
    "@FC.delegates(display, keep=True)  # type: ignore\n",
    "def displaydh(*objs, **kwargs) -> DisplayHandle:\n",
    "    return display(*objs, **update_(kwargs, display_id=True))  # type: ignore\n",
    "displaydh.__doc__ = IPython.display.display.__doc__  # type: ignore"
   ]
  },
  {
   "cell_type": "code",
   "execution_count": 43,
   "metadata": {
    "brd": {
     "id": "5362b9b1-e158-4ad3-8af5-100b6c9c02b5"
    }
   },
   "outputs": [],
   "source": [
    "#| exporti\n",
    "\n",
    "@overload\n",
    "def display(\n",
    "    *objs, include=None, exclude=None, metadata=None, transient=None,\n",
    "    display_id:bool|str=True,\n",
    "    raw=False, clear=False, **kwargs) -> DisplayHandle: ...\n",
    "@overload\n",
    "def display(\n",
    "    *objs, include=None, exclude=None, metadata=None, transient=None,\n",
    "    display_id=None,\n",
    "    raw=False, clear=False, **kwargs) -> None: ...\n",
    "def display(\n",
    "    *objs, include=None, exclude=None, metadata=None, transient=None,\n",
    "    display_id=None,\n",
    "    raw=False, clear=False, **kwargs) -> DisplayHandle | None: ...\n",
    "\n",
    "display = IPython.display.display  # type: ignore"
   ]
  },
  {
   "cell_type": "code",
   "execution_count": 44,
   "metadata": {
    "brd": {
     "id": "eaeb5610-b97e-4f01-925a-ea9e6f149f14"
    }
   },
   "outputs": [
    {
     "data": {
      "text/plain": [
       "'a'"
      ]
     },
     "metadata": {},
     "output_type": "display_data"
    }
   ],
   "source": [
    "dh = display('a', display_id=True)\n",
    "# dh"
   ]
  },
  {
   "cell_type": "code",
   "execution_count": 45,
   "metadata": {
    "brd": {
     "id": "86b5b4c3-21ae-49a2-a79a-91e573eabb00"
    }
   },
   "outputs": [
    {
     "data": {
      "text/plain": [
       "'b'"
      ]
     },
     "metadata": {},
     "output_type": "display_data"
    },
    {
     "data": {
      "text/plain": [
       "<DisplayHandle display_id=1234567890>"
      ]
     },
     "execution_count": 45,
     "metadata": {},
     "output_type": "execute_result"
    }
   ],
   "source": [
    "dh = display('b', display_id=\"1234567890\")\n",
    "dh"
   ]
  },
  {
   "cell_type": "code",
   "execution_count": 46,
   "metadata": {
    "brd": {
     "id": "f0501eed-4b79-4135-9d53-3b32fb017c55"
    }
   },
   "outputs": [
    {
     "data": {
      "text/plain": [
       "'c'"
      ]
     },
     "metadata": {},
     "output_type": "display_data"
    }
   ],
   "source": [
    "dh = display('c')\n",
    "dh"
   ]
  },
  {
   "cell_type": "markdown",
   "metadata": {},
   "source": [
    "## DetailsJSON"
   ]
  },
  {
   "cell_type": "code",
   "execution_count": 47,
   "metadata": {
    "brd": {
     "id": "ef61bf5b-4113-42a8-bfb4-6df001cc7bbd"
    }
   },
   "outputs": [
    {
     "data": {
      "text/html": [
       "<style>\n",
       "    details ul { list-style-type:none; list-style-position: outside; padding-inline-start: 22px; margin: 0px; }\n",
       "</style>\n",
       "<details open>\n",
       "<summary>Apollo astronauts</summary>\n",
       "<ul>\n",
       "  <li><span>1</span>: Neil Armstrong</li>\n",
       "  <li><span>2</span>: Alan Bean</li>\n",
       "  <li><details>\n",
       "<summary>Apollo 11</summary>\n",
       "<ul>\n",
       "  <li><span>1</span>: Neil Armstrong</li>\n",
       "  <li><span>2</span>: Alan Bean</li>\n",
       "  <li><div><span>3</span>: Buzz Aldrin</div></li>\n",
       "  <li><span>4</span>: Edgar Mitchell</li>\n",
       "  <li><span>5</span>: Alan Shepard</li>\n",
       "</ul></li>\n",
       "  <li><span>4</span>: Edgar Mitchell</li>\n",
       "  <li><span>5</span>: Alan Shepard</li>\n",
       "</ul>\n",
       "\n",
       "</details>\n"
      ],
      "text/plain": [
       "<IPython.core.display.HTML object>"
      ]
     },
     "metadata": {},
     "output_type": "display_data"
    }
   ],
   "source": [
    "%%HTML\n",
    "<style>\n",
    "    details ul { list-style-type:none; list-style-position: outside; padding-inline-start: 22px; margin: 0px; }\n",
    "</style>\n",
    "<details open>\n",
    "<summary>Apollo astronauts</summary>\n",
    "<ul>\n",
    "  <li><span>1</span>: Neil Armstrong</li>\n",
    "  <li><span>2</span>: Alan Bean</li>\n",
    "  <li><details>\n",
    "<summary>Apollo 11</summary>\n",
    "<ul>\n",
    "  <li><span>1</span>: Neil Armstrong</li>\n",
    "  <li><span>2</span>: Alan Bean</li>\n",
    "  <li><div><span>3</span>: Buzz Aldrin</div></li>\n",
    "  <li><span>4</span>: Edgar Mitchell</li>\n",
    "  <li><span>5</span>: Alan Shepard</li>\n",
    "</ul></li>\n",
    "  <li><span>4</span>: Edgar Mitchell</li>\n",
    "  <li><span>5</span>: Alan Shepard</li>\n",
    "</ul>\n",
    "\n",
    "</details>\n"
   ]
  },
  {
   "cell_type": "code",
   "execution_count": 48,
   "metadata": {
    "brd": {
     "id": "4a44a138-00f1-4fbe-ab78-136339130327"
    }
   },
   "outputs": [],
   "source": [
    "#| export\n",
    "\n",
    "def Val(v): \n",
    "    \"Render value with appropriate CSS class based on type\"\n",
    "    c = (\n",
    "        'null' if v is None else \n",
    "        'true' if v is True else \n",
    "        'false' if v is False else \n",
    "        'string' if isinstance(v, str) else \n",
    "        'number' if isinstance(v, (int, float)) else \n",
    "        '')\n",
    "    return Span(shorten(v, 'r', 140) if v is not None else 'None', cls=f\"v {c}\")\n",
    "def NameVal(k, v):\n",
    "    \"Render key-value pair with name and value styling\"\n",
    "    return Span(Span(k, cls='n'), ': ', Val(v))\n",
    "\n",
    "class DetailsJSON(dict):\n",
    "    \"Interactive collapsible JSON viewer with HTML details/summary structure\"\n",
    "    def __init__(self, *args, summary:str='', open:bool=True, openall:bool=False, skip:Sequence[str]=(), **kwargs):\n",
    "        super().__init__(*args, **kwargs)\n",
    "        self.summary, self.open, self.openall, self.skip = str(summary), open, openall, skip\n",
    "    def __ft__(self, d:Mapping|None=None, summary:str|None=None, lvl:int=0, open:bool=False):\n",
    "        if d is None: d = self; summary = self.summary or 'summary'; open=self.open\n",
    "        open = self.openall or open\n",
    "        return (\n",
    "            Style(self._css_) if lvl == 0 else (), \n",
    "            Details(open=open)(\n",
    "                Summary(summary, _n),\n",
    "                Ul()(*(\n",
    "                    Li(NameVal(k, v)) if k in self.skip else\n",
    "                    self.__ft__(v, k, lvl+1) if isinstance(v, Mapping) else\n",
    "                    self.__ft__(dict(list(zip(range(len(v)), v))), k, lvl+1) if is_listy(v) else\n",
    "                    Li(NameVal(k, v)) \n",
    "                    for k,v in d.items()))))\n",
    "    # _css_ = 'details ul { list-style-type:none; list-style-position: outside; padding-inline-start: 22px; margin: 0; } '\n",
    "    _css_ = (\n",
    "        'details ul { list-style-type:none; list-style-position: outside; padding-inline-start: 22px; margin: 0; } '\n",
    "        '''details .string { color: #24837b; } details .string::before { content: \"'\"; } details .string::after { content: \"'\"; } '''\n",
    "        'details .number { color: #ad8301; } '\n",
    "        'details .true { color: blue; } '\n",
    "        'details .false { color: red; } '\n",
    "        'details .null { color: gray; } '\n",
    "        'span.n { color: darkgrey; } '\n",
    "    )"
   ]
  },
  {
   "cell_type": "code",
   "execution_count": 49,
   "metadata": {
    "brd": {
     "id": "f3330ad1-333f-44b7-a7a7-d1d1bbbf6d10"
    }
   },
   "outputs": [
    {
     "data": {
      "text/html": [
       "<style>details ul { list-style-type:none; list-style-position: outside; padding-inline-start: 22px; margin: 0; } details .string { color: #24837b; } details .string::before { content: \"'\"; } details .string::after { content: \"'\"; } details .number { color: #ad8301; } details .true { color: blue; } details .false { color: red; } details .null { color: gray; } span.n { color: darkgrey; } </style>\n",
       "<details open><summary>Apollo astronauts\n",
       "</summary>  <ul>\n",
       "    <li>\n",
       "<span><span class=\"n\">1</span>: <span class=\"v string\">Neil Armstrong</span></span>    </li>\n",
       "    <li>\n",
       "<span><span class=\"n\">2</span>: <span class=\"v string\">Alan Bean</span></span>    </li>\n",
       "    <li>\n",
       "<span><span class=\"n\">3</span>: <span class=\"v string\">Buzz Aldrin</span></span>    </li>\n",
       "<details><summary>letters\n",
       "</summary>      <ul>\n",
       "        <li>\n",
       "<span><span class=\"n\">a</span>: <span class=\"v number\">1</span></span>        </li>\n",
       "        <li>\n",
       "<span><span class=\"n\">b</span>: <span class=\"v number\">2</span></span>        </li>\n",
       "      </ul>\n",
       "</details>    <li>\n",
       "<span><span class=\"n\">5</span>: <span class=\"v string\">Edgar Mitchell</span></span>    </li>\n",
       "    <li>\n",
       "<span><span class=\"n\">6</span>: <span class=\"v string\">Alan Shepard</span></span>    </li>\n",
       "  </ul>\n",
       "</details>"
      ],
      "text/plain": [
       "<IPython.core.display.HTML object>"
      ]
     },
     "metadata": {},
     "output_type": "display_data"
    }
   ],
   "source": [
    "dtl = DetailsJSON({\n",
    "    '1': 'Neil Armstrong',\n",
    "    '2': 'Alan Bean',\n",
    "    '3': 'Buzz Aldrin',\n",
    "    'letters': {\n",
    "        'a': 1, \n",
    "        'b': 2\n",
    "        },\n",
    "    '5': 'Edgar Mitchell',\n",
    "    '6': 'Alan Shepard'\n",
    "}, summary='Apollo astronauts')\n",
    "\n",
    "# test_eq(val_at(dtl, '5'), 'Edgar Mitchell')\n",
    "# test_eq(val_at(dtl, 'letters.a'), 1)\n",
    "# cprint(to_xml(dtl))\n",
    "show(dtl)"
   ]
  },
  {
   "cell_type": "code",
   "execution_count": 50,
   "metadata": {
    "brd": {
     "id": "9c46c177-8ece-49d0-9963-60351795db42"
    }
   },
   "outputs": [
    {
     "data": {
      "text/html": [
       "<style>details ul { list-style-type:none; list-style-position: outside; padding-inline-start: 22px; margin: 0; } details .string { color: #24837b; } details .string::before { content: \"'\"; } details .string::after { content: \"'\"; } details .number { color: #ad8301; } details .true { color: blue; } details .false { color: red; } details .null { color: gray; } span.n { color: darkgrey; } </style>\n",
       "<details open><summary>summary\n",
       "</summary>  <ul>\n",
       "    <li>\n",
       "<span><span class=\"n\">idx</span>: <span class=\"v number\">1</span></span>    </li>\n",
       "    <li>\n",
       "<span><span class=\"n\">cell_type</span>: <span class=\"v string\">code</span></span>    </li>\n",
       "    <li>\n",
       "<span><span class=\"n\">source</span>: <span class=\"v string\"># cell 1\n",
       "import time\n",
       "from itertools import count\n",
       "\n",
       "import ipywidgets as W\n",
       "import matplotlib.pyplot as plt\n",
       "from bridget.helpers import display…</span></span>    </li>\n",
       "    <li>\n",
       "<span><span class=\"n\">id</span>: <span class=\"v string\">W1sZmlsZQ==</span></span>    </li>\n",
       "<details open><summary>metadata\n",
       "</summary>      <ul>\n",
       "<details open><summary>brd\n",
       "</summary>          <ul>\n",
       "            <li>\n",
       "<span><span class=\"n\">id</span>: <span class=\"v string\">717322f8-95fa-425c-839d-8b9e7d4ef921</span></span>            </li>\n",
       "          </ul>\n",
       "</details>      </ul>\n",
       "</details><details open><summary>outputs\n",
       "</summary>      <ul>\n",
       "<details open><summary>0\n",
       "</summary>          <ul>\n",
       "            <li>\n",
       "<span><span class=\"n\">output_type</span>: <span class=\"v string\">stream</span></span>            </li>\n",
       "            <li>\n",
       "<span><span class=\"n\">name</span>: <span class=\"v string\">stdout</span></span>            </li>\n",
       "            <li>\n",
       "<span><span class=\"n\">text</span>: <span class=\"v string\">1\n",
       "</span></span>            </li>\n",
       "          </ul>\n",
       "</details><details open><summary>1\n",
       "</summary>          <ul>\n",
       "            <li>\n",
       "<span><span class=\"n\">output_type</span>: <span class=\"v string\">stream</span></span>            </li>\n",
       "            <li>\n",
       "<span><span class=\"n\">name</span>: <span class=\"v string\">stdout</span></span>            </li>\n",
       "            <li>\n",
       "<span><span class=\"n\">text</span>: <span class=\"v string\">2\n",
       "</span></span>            </li>\n",
       "          </ul>\n",
       "</details>      </ul>\n",
       "</details>    <li>\n",
       "<span><span class=\"n\">execution_count</span>: <span class=\"v number\">1</span></span>    </li>\n",
       "  </ul>\n",
       "</details>"
      ],
      "text/plain": [
       "<IPython.core.display.HTML object>"
      ]
     },
     "metadata": {},
     "output_type": "display_data"
    }
   ],
   "source": [
    "d= {\n",
    "    \"idx\": 1,\n",
    "    \"cell_type\": \"code\",\n",
    "    \"source\": \"# cell 1\\nimport time\\nfrom itertools import count\\n\\nimport ipywidgets as W\\nimport matplotlib.pyplot as plt\\nfrom bridget.helpers import displaydh\\nfrom IPython.display import HTML, Image, Javascript, JSON, DisplayHandle, clear_output\\ncounter = count()\",\n",
    "    \"id\": \"W1sZmlsZQ==\",\n",
    "    \"metadata\": {\n",
    "        \"brd\": {\n",
    "            \"id\": \"717322f8-95fa-425c-839d-8b9e7d4ef921\"\n",
    "        }\n",
    "    },\n",
    "    \"outputs\": [\n",
    "        {'output_type': 'stream', 'name': 'stdout', 'text': '1\\n'},\n",
    "        {'output_type': 'stream', 'name': 'stdout', 'text': '2\\n'}\n",
    "    ],\n",
    "    \"execution_count\": 1\n",
    "}\n",
    "show(DetailsJSON(d, openall=True))"
   ]
  },
  {
   "cell_type": "markdown",
   "metadata": {},
   "source": [
    "## HTML\n",
    "> Convenience `IPython.display.HTML` subclass that accepts `fastcore.xml.FT` object and adds the kwargs to metadata."
   ]
  },
  {
   "cell_type": "code",
   "execution_count": 51,
   "metadata": {
    "brd": {
     "id": "3221b1c4-3e59-4749-b3c2-157ccea38669"
    }
   },
   "outputs": [],
   "source": [
    "#| export\n",
    "\n",
    "class HTML(IPython.display.HTML):\n",
    "    def __init__(self, data=None, url=None, filename=None, metadata=None, **kwargs):\n",
    "        if kwargs:\n",
    "            if not metadata: metadata = kwargs\n",
    "            else: metadata.update(kwargs)\n",
    "        if isinstance(data, FT) or hasattr(data, '__ft__'): data = to_xml(data)\n",
    "        elif hasattr(data, 'to_html'): data = data.to_html()  # type: ignore\n",
    "        super().__init__(data, url, filename, metadata)"
   ]
  },
  {
   "cell_type": "markdown",
   "metadata": {},
   "source": [
    "# Environment Detection"
   ]
  },
  {
   "cell_type": "markdown",
   "metadata": {},
   "source": [
    "## IN_VSCODE"
   ]
  },
  {
   "cell_type": "code",
   "execution_count": 52,
   "metadata": {
    "brd": {
     "id": "83842f63-42da-43da-8d6e-cd8f87e9c83e"
    }
   },
   "outputs": [],
   "source": [
    "#| export\n",
    "\n",
    "def in_vscode():\n",
    "    \"Check if the code is running in VSCode\"\n",
    "    return 'vscode' in sys.modules\n",
    "def in_vscode_notebook(glbs):\n",
    "    \"Check if the code is running in VSCode\"\n",
    "    return '__vsc_ipynb_file__' in glbs\n",
    "\n",
    "IN_VSCODE = in_vscode()"
   ]
  },
  {
   "cell_type": "code",
   "execution_count": 53,
   "metadata": {
    "brd": {
     "id": "3c202b78-6b9d-49f4-9b80-b7ccbcf8f6c2"
    }
   },
   "outputs": [
    {
     "data": {
      "text/plain": [
       "(True, True)"
      ]
     },
     "execution_count": 53,
     "metadata": {},
     "output_type": "execute_result"
    }
   ],
   "source": [
    "IN_VSCODE, in_vscode_notebook(globals())"
   ]
  },
  {
   "cell_type": "markdown",
   "metadata": {},
   "source": [
    "# Colophon\n",
    "----"
   ]
  },
  {
   "cell_type": "code",
   "execution_count": 54,
   "metadata": {
    "brd": {
     "id": "a2024223-1be8-429b-bf3c-5d5126d26b9c"
    }
   },
   "outputs": [],
   "source": [
    "import fastcore.all as FC\n",
    "import nbdev\n",
    "from nbdev.clean import nbdev_clean"
   ]
  },
  {
   "cell_type": "code",
   "execution_count": 55,
   "metadata": {
    "brd": {
     "id": "298e8a92-dd3e-47d2-be3e-d17dc7ad7c09"
    }
   },
   "outputs": [],
   "source": [
    "if FC.IN_NOTEBOOK:\n",
    "    nb_path = '01_helpers.ipynb'\n",
    "    # nbdev_clean(nb_path)\n",
    "    nbdev.nbdev_export(nb_path)"
   ]
  }
 ],
 "metadata": {
  "kernelspec": {
   "display_name": "Python 3",
   "language": "python",
   "name": "python3"
  },
  "language_info": {
   "codemirror_mode": {
    "name": "ipython",
    "version": 3
   },
   "file_extension": ".py",
   "mimetype": "text/x-python",
   "name": "python",
   "nbconvert_exporter": "python",
   "pygments_lexer": "ipython3",
   "version": "3.12.11"
  }
 },
 "nbformat": 4,
 "nbformat_minor": 4
}
