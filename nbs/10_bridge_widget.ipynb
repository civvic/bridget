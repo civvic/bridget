{
 "cells": [
  {
   "cell_type": "code",
   "execution_count": 1,
   "metadata": {
    "brd": {
     "id": "291ca94a-f1ef-4ba4-bb56-3c339b33763e"
    }
   },
   "outputs": [],
   "source": [
    "#| default_exp bridge_widget"
   ]
  },
  {
   "cell_type": "code",
   "execution_count": 2,
   "metadata": {
    "brd": {
     "id": "3b2a8afd-0639-4898-9c57-3d55eed115e1"
    }
   },
   "outputs": [],
   "source": [
    "#| export\n",
    "from __future__ import annotations"
   ]
  },
  {
   "cell_type": "markdown",
   "metadata": {},
   "source": [
    "# Bridge widget helpers\n",
    "> Basis of the bridge: bundling, blocking operations, and AnyWidget."
   ]
  },
  {
   "cell_type": "markdown",
   "metadata": {},
   "source": [
    "# Prologue"
   ]
  },
  {
   "cell_type": "code",
   "execution_count": 3,
   "metadata": {
    "brd": {
     "id": "99f6264b-c002-4cba-ae28-5a50437b4941"
    }
   },
   "outputs": [],
   "source": [
    "#| export\n",
    "import asyncio\n",
    "import shutil\n",
    "import time\n",
    "from contextlib import contextmanager\n",
    "from functools import cached_property\n",
    "from pathlib import Path\n",
    "from typing import Any\n",
    "from typing import Callable\n",
    "from typing import overload\n",
    "from typing import Protocol\n",
    "from typing import Self\n",
    "from urllib.parse import ParseResult\n",
    "from urllib.parse import urlparse\n",
    "\n",
    "import anywidget\n",
    "import fastcore.all as FC\n",
    "import ipywidgets as W\n",
    "import nbdev.config\n",
    "import traitlets as T\n",
    "from fastcore.xml import FT\n",
    "from fastcore.xml import NotStr\n",
    "from fasthtml.basics import ft_html\n",
    "from jupyter_ui_poll import ui_events\n",
    "from olio.basic import bundle_path\n",
    "from olio.basic import Empty\n",
    "from olio.basic import empty\n"
   ]
  },
  {
   "cell_type": "code",
   "execution_count": 4,
   "metadata": {
    "brd": {
     "id": "8c466f5f-c441-4694-b570-e483dc17109d"
    }
   },
   "outputs": [],
   "source": [
    "#| export\n",
    "from bridget.helpers import bridge_cfg\n",
    "from bridget.helpers import DEBUG\n",
    "from bridget.helpers import id_gen\n",
    "from bridget.helpers import kounter\n",
    "from bridget.helpers import ms2str\n",
    "from bridget.helpers import run_command\n",
    "from bridget.helpers import ts\n",
    "from bridget.js_transform import JSImportTransform\n"
   ]
  },
  {
   "cell_type": "code",
   "execution_count": 5,
   "metadata": {
    "brd": {
     "id": "9197233f-b22f-4360-bd14-53e5b9eecd00"
    }
   },
   "outputs": [],
   "source": [
    "import itertools\n",
    "import tempfile\n",
    "from typing import cast\n",
    "\n",
    "from anyio import from_thread\n",
    "from fastcore.test import *\n",
    "from fastcore.xml import to_xml\n",
    "from fasthtml.xtend import Script\n",
    "from IPython.display import DisplayHandle\n",
    "from ipywidgets.widgets.widget import CallbackDispatcher\n",
    "from olio.common import setup_console\n",
    "from olio.test import test_raises\n",
    "from olio.widget import cleanupwidgets\n"
   ]
  },
  {
   "cell_type": "code",
   "execution_count": 6,
   "metadata": {
    "brd": {
     "id": "a6866c98-9ae1-4b19-a0da-592957d9c69f"
    }
   },
   "outputs": [],
   "source": [
    "import bridget\n",
    "from bridget.helpers import arun_command\n",
    "from bridget.helpers import HTML\n"
   ]
  },
  {
   "attachments": {},
   "cell_type": "markdown",
   "metadata": {},
   "source": [
    "----"
   ]
  },
  {
   "cell_type": "code",
   "execution_count": 7,
   "metadata": {
    "brd": {
     "id": "8cf31fb2-db6d-4919-9468-43c7ca1f456e"
    }
   },
   "outputs": [
    {
     "data": {
      "text/plain": [
       "{'auto_show': False, 'auto_mount': False, 'auto_id': False, 'bundle_cfg': {'out_dir': [Path('/Users/vic/dev/repo/project/bridget/nbs/js'), Path('/Users/vic/dev/repo/project/bridget/bridget/js')], 'rewrite_imports': True, 'import_name': 'brdimport'}, 'bootstrap': False, 'current_did': None}"
      ]
     },
     "execution_count": 7,
     "metadata": {},
     "output_type": "execute_result"
    }
   ],
   "source": [
    "#| exporti\n",
    "\n",
    "new_id = id_gen()\n",
    "BUNDLE_PATH = bundle_path(__name__)\n",
    "bridge_cfg.for_module(__name__)"
   ]
  },
  {
   "cell_type": "code",
   "execution_count": 8,
   "metadata": {
    "brd": {
     "id": "7b11ebb4-7e74-45c1-b37f-b8cb6897c47c"
    }
   },
   "outputs": [],
   "source": [
    "console, cprint = setup_console(140)"
   ]
  },
  {
   "cell_type": "code",
   "execution_count": 9,
   "metadata": {
    "brd": {
     "id": "3eaf2060-de46-4d69-8ea3-538a6391e4d2"
    }
   },
   "outputs": [],
   "source": [
    "#| exporti\n",
    "\n",
    "_n = '\\n'"
   ]
  },
  {
   "cell_type": "code",
   "execution_count": 10,
   "metadata": {
    "brd": {
     "id": "def933eb-89d9-4268-8ed2-ce5bded912c7"
    }
   },
   "outputs": [],
   "source": [
    "(bundle_path('bridget')/'js').mkdir(exist_ok=True)"
   ]
  },
  {
   "attachments": {},
   "cell_type": "markdown",
   "metadata": {},
   "source": [
    "----"
   ]
  },
  {
   "cell_type": "markdown",
   "metadata": {},
   "source": [
    "# Widget Helpers"
   ]
  },
  {
   "cell_type": "markdown",
   "metadata": {},
   "source": [
    "# read_vfile\n",
    "\n",
    "Hacking around to get anywidget `vfile:` working in Script and Style. \n",
    "Unfortunately, it's not a public API. If useful, we could write a similar util for Bridget.\n",
    "\n",
    "NOTE: %load_ext anywidget must have been previously run for this to work"
   ]
  },
  {
   "cell_type": "code",
   "execution_count": 11,
   "metadata": {
    "brd": {
     "id": "776cc9cb-9c85-4a88-954f-851a03eaef43"
    }
   },
   "outputs": [],
   "source": [
    "#| export\n",
    "\n",
    "def read_vfile(cts:str)->str|None:\n",
    "    # %load_ext anywidget should have been previously run for this to work\n",
    "    import anywidget\n",
    "    from anywidget._file_contents import _VIRTUAL_FILES\n",
    "    if isinstance(cts, str) and cts.startswith('vfile:'):\n",
    "        if fn := _VIRTUAL_FILES.get(cts, None):\n",
    "            return fn.contents"
   ]
  },
  {
   "cell_type": "markdown",
   "metadata": {},
   "source": [
    "# vfile: Components\n",
    "\n",
    "> **FastHTML** xtend `Script` and `Style` with `vfile:` support."
   ]
  },
  {
   "cell_type": "code",
   "execution_count": 12,
   "metadata": {
    "brd": {
     "id": "f28112e8-948a-45d6-a56f-2539091208b6"
    }
   },
   "outputs": [],
   "source": [
    "#| export\n",
    "\n",
    "@FC.delegates(ft_html, keep=True)  # type: ignore\n",
    "def ScriptV(code:str=\"\", **kwargs)-> FT:\n",
    "    \"A Script w/ code or `vfile:` contents that doesn't escape its code\"\n",
    "    return ft_html('script', (_n, NotStr(FC.ifnone(read_vfile(code), code))), **kwargs)\n",
    "\n",
    "@FC.delegates(ft_html, keep=True)  # type: ignore\n",
    "def StyleV(*c, **kwargs)-> FT:\n",
    "    \"A Style w/ code or `vfile:` contents that doesn't escape its code\"\n",
    "    return ft_html('style', tuple(NotStr(FC.ifnone(read_vfile(_), _)) for _ in c), **kwargs)\n"
   ]
  },
  {
   "cell_type": "markdown",
   "metadata": {},
   "source": [
    "# anysource"
   ]
  },
  {
   "cell_type": "code",
   "execution_count": 13,
   "metadata": {
    "brd": {
     "id": "b12be35b-b89b-49d3-864c-8842dd540694"
    }
   },
   "outputs": [],
   "source": [
    "#| export\n",
    "\n",
    "class SourceProvider(Protocol):\n",
    "    @property\n",
    "    def source(self) -> str | cached_property[str]: ...\n",
    "\n",
    "def _source(o: str|Path|SourceProvider) -> str:\n",
    "    if hasattr(o, 'source'): return o.source  # type: ignore\n",
    "    return FC.ifnone(read_vfile(o), o if isinstance(o, str) else o.read_text())  # type: ignore\n",
    "\n",
    "def anysource(*args: str|Path|SourceProvider):\n",
    "    \"Read and join text from files, vfiles or strings\"\n",
    "    return '\\n'.join(filter(None, (_source(_) for _ in args)))"
   ]
  },
  {
   "cell_type": "code",
   "execution_count": 14,
   "metadata": {
    "brd": {
     "id": "ee857797-d38d-498e-bed6-9bcb984b9311"
    }
   },
   "outputs": [],
   "source": [
    "class Src:\n",
    "    source = 'c'\n",
    "test_eq(anysource('a', '', 'b', Src()), 'a\\nb\\nc')"
   ]
  },
  {
   "cell_type": "markdown",
   "metadata": {},
   "source": [
    "# bundled\n",
    "> Very basic JS bundler. Only concat and basic import transformation for now."
   ]
  },
  {
   "cell_type": "code",
   "execution_count": 15,
   "metadata": {
    "brd": {
     "id": "7bc5cfdf-efe4-4fbb-8da3-cf06e7119c60"
    }
   },
   "outputs": [],
   "source": [
    "async def bundled(*sources, debugger=False, command:str|None=None, **kwargs):\n",
    "    \"Concat javascript `sources`. Optionally, first run command.\"\n",
    "    if command:\n",
    "        try:\n",
    "            _, stderr = await arun_command(command, **kwargs)\n",
    "        except Exception as e:\n",
    "            stderr = str(e)\n",
    "        if stderr: raise RuntimeError(stderr)\n",
    "    if debugger: return anysource('debugger;', *sources)\n",
    "    return anysource(*sources)"
   ]
  },
  {
   "cell_type": "code",
   "execution_count": 16,
   "metadata": {
    "brd": {
     "id": "5ad4eb2a-5604-4ef7-b4b6-bbc119d110aa"
    }
   },
   "outputs": [],
   "source": [
    "test_eq(await bundled('a'), 'a')\n",
    "with test_raises(FileNotFoundError):\n",
    "    await bundled(Path('not_found.js'))\n",
    "with test_raises(RuntimeError):\n",
    "    await bundled(command='ls', cwd=Path('/not/found'))\n",
    "test_eq(await bundled(command='ls', debugger=True), 'debugger;')"
   ]
  },
  {
   "cell_type": "code",
   "execution_count": 17,
   "metadata": {
    "brd": {
     "id": "98d9511b-745f-443b-a94e-018ef72aae50"
    }
   },
   "outputs": [],
   "source": [
    "with tempfile.NamedTemporaryFile('w') as fp:\n",
    "    fp.write('a')\n",
    "    fp.seek(0)\n",
    "    test_eq(await bundled(Path(fp.name)), 'a')"
   ]
  },
  {
   "cell_type": "code",
   "execution_count": 18,
   "metadata": {
    "brd": {
     "id": "10d513ac-cc27-4a12-9169-cba229cd3b41"
    }
   },
   "outputs": [],
   "source": [
    "def bundled(*sources, debugger=False, command:str|None=None, **kwargs):\n",
    "    \"Concat javascript `sources`. Run `command` first if not None.\"\n",
    "    async def _run(): return await arun_command(command, **kwargs)  # type: ignore\n",
    "    if command:\n",
    "        with from_thread.start_blocking_portal() as portal: \n",
    "            try: _, stderr = portal.call(_run)\n",
    "            except Exception as e: stderr = str(e)\n",
    "            if stderr: raise RuntimeError(stderr)\n",
    "    if debugger: return anysource('debugger;', *sources)\n",
    "    return anysource(*sources)"
   ]
  },
  {
   "cell_type": "code",
   "execution_count": 19,
   "metadata": {
    "brd": {
     "id": "5407a0ae-211f-4243-a8b1-7328c7308c40"
    }
   },
   "outputs": [],
   "source": [
    "test_eq(bundled('a'), 'a')\n",
    "with test_raises(FileNotFoundError):\n",
    "    bundled(Path('not_found.js'))\n",
    "with test_raises(RuntimeError):\n",
    "    bundled(command='ls', cwd=Path('/not/found'))\n",
    "test_eq(bundled(command='ls', debugger=True), 'debugger;')"
   ]
  },
  {
   "cell_type": "code",
   "execution_count": 20,
   "metadata": {
    "brd": {
     "id": "32f75f2e-4df7-4c9e-b46d-6f0b99ddef7d"
    }
   },
   "outputs": [],
   "source": [
    "with tempfile.NamedTemporaryFile('w') as fp:\n",
    "    fp.write('a')\n",
    "    fp.seek(0)\n",
    "    test_eq(bundled(Path(fp.name)), 'a')"
   ]
  },
  {
   "cell_type": "code",
   "execution_count": 21,
   "metadata": {
    "brd": {
     "id": "72386695-78e8-4fe4-82db-9272639a66b8"
    }
   },
   "outputs": [],
   "source": [
    "#  ./node_modules/.bin/esbuild --bundle --format=esm --outdir=bridget/js nbs/js/logger.js \n"
   ]
  },
  {
   "cell_type": "markdown",
   "metadata": {},
   "source": [
    "## Bundle"
   ]
  },
  {
   "cell_type": "code",
   "execution_count": 22,
   "metadata": {
    "brd": {
     "id": "6e77ae3a-2f06-4585-b99b-a892eae39a10"
    }
   },
   "outputs": [],
   "source": [
    "#| export\n",
    "\n",
    "class Bundle:\n",
    "    \"Basic JS bundler class.\"\n",
    "    def __init__(self, \n",
    "        *sources: str|Path,         # javascript source\n",
    "        bundle:bool=True,           # Bundle using `bundler` with sources as entry points\n",
    "        bundler:str='copy',         # Bundler type to use, one of 'esbuild', 'copy'\n",
    "        outdir:str|Path|None=None,  # Output directory for bundled files\n",
    "        command:str|None=None,      # Run `command` first if not None\n",
    "        **cmd_kw                    # Command kwargs\n",
    "    ):\n",
    "        self.sources, self.bundle, self.bundler = list(sources), bundle, bundler\n",
    "        self.command, self.cmd_kwargs = command, cmd_kw\n",
    "        self.outdir = Path(outdir).resolve() if outdir else self.default_outdir()\n",
    "    @classmethod\n",
    "    def default_outdir(cls): return nbdev.config.get_config().lib_path/'js'\n",
    "    @classmethod\n",
    "    def transform(cls, src:str):\n",
    "        if bridge_cfg.bundle_cfg.rewrite_imports: src = JSImportTransform(bridge_cfg.bundle_cfg.import_name)(src)\n",
    "        return src\n",
    "    def __str__(self): return self.source\n",
    "    def __call__(self, \n",
    "        *args:str|Bundle,  # Insert sources before the bundle\n",
    "        debugger=False,    # Insert `debugger` at the beginning of the bundle\n",
    "        ts=False,          # Insert timestamp at the beginning of the bundle\n",
    "        transform=True,    # Transform resulting source if `bundler` is `copy` and `rewrite_imports` is True\n",
    "        **kwargs):\n",
    "        \"Concatenate sources. This is the only point where the source is transformed\"\n",
    "        srcs = [_.source if isinstance(_, Bundle) else _ for _ in args]\n",
    "        src = anysource(f\"debugger;{('  // '+str(time.time())) if ts else ''}\" if debugger else '', *srcs, self.source)\n",
    "        return self.transform(src) if transform and self.bundler == 'copy' else src\n",
    "    @cached_property\n",
    "    def bundled_sources(self) -> list[str|Path]:\n",
    "        \"Bundle the sources using `esbuild` or `copy`. Return sources and paths to the bundled files.\"\n",
    "        if self.command: _ = run_command(self.command, **self.cmd_kwargs)\n",
    "        if not self.bundle: return self.sources\n",
    "        outdir = self.outdir\n",
    "        if self.bundler == 'copy':\n",
    "            srcs = [shutil.copy(_, outdir) if _.resolve().parent != outdir else _ for _ in self.sources if isinstance(_, Path)]\n",
    "        else:  # esbuild\n",
    "            if srcs := ' '.join([_.resolve().as_posix() for _ in self.sources if isinstance(_, Path)]):\n",
    "                cmd = f\"./node_modules/.bin/esbuild --bundle --format=esm --outdir={outdir} {srcs}\"\n",
    "                try: _ = run_command(cmd, cwd=nbdev.config.get_config().config_path)\n",
    "                except Exception as e: raise ValueError(f\"Error bundling sources: {e}\")\n",
    "        return [(outdir / _.name if isinstance(_, Path) else _) for _ in self.sources]\n",
    "    def bundle_path_of(self, source: str|Path): return self.outdir / Path(source).name\n",
    "    @cached_property\n",
    "    def source(self): return anysource(*self.bundled_sources)\n",
    "    def join(self, *sources: str|Path):\n",
    "        return type(self)(*self.sources, *sources, bundle=self.bundle, outdir=self.outdir, \n",
    "            bundler=self.bundler, command=self.command, **self.cmd_kwargs)\n",
    "\n",
    "\n",
    "@FC.delegates(Bundle.__init__, keep=True)  # type: ignore\n",
    "def bundled(*sources: str|Path, **kwargs):\n",
    "    return Bundle(*sources, **kwargs)"
   ]
  },
  {
   "cell_type": "code",
   "execution_count": 23,
   "metadata": {
    "brd": {
     "id": "45486ca3-e680-407d-b001-c2c4cc74c2e1"
    }
   },
   "outputs": [],
   "source": [
    "(f1 := Path('./js/b.js')).write_text('B');"
   ]
  },
  {
   "cell_type": "code",
   "execution_count": 24,
   "metadata": {
    "brd": {
     "id": "4515b68b-ecec-407e-8c2c-58e676beb37f"
    }
   },
   "outputs": [
    {
     "data": {
      "text/plain": [
       "(Path('/Users/vic/dev/repo/project/bridget/nbs/js/test.js'),\n",
       " Path('/Users/vic/dev/repo/project/bridget/bridget/js/test.js'))"
      ]
     },
     "execution_count": 24,
     "metadata": {},
     "output_type": "execute_result"
    }
   ],
   "source": [
    "bnd1 = bundled('a', f1, 'c')\n",
    "test_eq(bnd1.sources, ('a', f1, 'c'))\n",
    "test_eq(bnd1.bundled_sources, ('a', bnd1.outdir/ f1.name, 'c'))\n",
    "test_eq(bnd1.source, 'a\\nB\\nc')\n",
    "test_eq(bnd1(), 'a\\nB\\nc')\n",
    "f2 = Path(bnd1.bundled_sources[1])\n",
    "\n",
    "src = 'js/test.js'\n",
    "bnd2 = bundled(Path(src))\n",
    "test_eq(bnd2.bundled_sources[0], bundle_path('bridget')/src)\n",
    "test_eq(bnd2.bundled_sources[0].read_text(), Path(src).read_text())  # type: ignore\n",
    "f3 = Path(bnd2.bundled_sources[0])\n",
    "test_eq(bnd2.bundle_path_of(src), f3)\n",
    "Path(src).resolve(), f3"
   ]
  },
  {
   "cell_type": "markdown",
   "metadata": {},
   "source": [
    "`Bundle`(...), or `bundled`(...), works lazily, it simply create the bundle instance. It won't move, transform, or aggregate files until you explicitly call it (or retrieve `source` or `bundled_sources`):"
   ]
  },
  {
   "cell_type": "markdown",
   "metadata": {},
   "source": [
    "`bundled(..., bundle=True,bundler='copy').bundled_sources`, the default, will just copy the sources to the outdir"
   ]
  },
  {
   "cell_type": "code",
   "execution_count": 25,
   "metadata": {
    "brd": {
     "id": "26effc83-8126-49f2-bd51-b7a178f4e0ad"
    }
   },
   "outputs": [
    {
     "data": {
      "text/plain": [
       "(Path('/Users/vic/dev/repo/project/bridget/nbs/js/test.js'),\n",
       " Path('/Users/vic/dev/repo/project/bridget/bridget/js/test.js'))"
      ]
     },
     "execution_count": 25,
     "metadata": {},
     "output_type": "execute_result"
    }
   ],
   "source": [
    "with tempfile.NamedTemporaryFile('w', suffix='.js', dir='./js') as fp:\n",
    "    (p := Path(fp.name)).write_text('asdfgh')\n",
    "    bndl = bundled(p, bundler='esbuild')\n",
    "    test_is('asdfgh' in bndl(), True)\n",
    "    bndl.bundled_sources[0].unlink()  # type: ignore\n",
    "\n",
    "bnd3 = bundled(f1, Path(src), bundler='esbuild')\n",
    "test_eq(bnd3.bundled_sources, (bnd3.outdir/ f1.name, bundle_path('bridget')/src))\n",
    "test_is(r'stripAnsi(\"\\x1B[4mBridget\\x1B[0m\")' in bnd3(), True)\n",
    "f3 = Path(bnd3.bundled_sources[1])\n",
    "Path(src).resolve(), f3"
   ]
  },
  {
   "cell_type": "markdown",
   "metadata": {},
   "source": [
    "`bundled(..., bundle=True,bundler='esbuild').bundled_sources` will bundle each Path in `sources` as entry point."
   ]
  },
  {
   "cell_type": "code",
   "execution_count": 26,
   "metadata": {
    "brd": {
     "id": "26ed208d-3baa-4454-8e53-7cc251a0a836"
    }
   },
   "outputs": [],
   "source": [
    "with test_raises(ValueError):\n",
    "    bundled(Path('not_found.js'), bundler='esbuild')()\n",
    "with test_raises(FileNotFoundError):\n",
    "    bundled(bundler='esbuild', command='ls', cwd=Path('/not/found'))()"
   ]
  },
  {
   "cell_type": "code",
   "execution_count": 27,
   "metadata": {
    "brd": {
     "id": "935a5510-30d7-4127-93ca-796bf5dfec2e"
    }
   },
   "outputs": [],
   "source": [
    "bnd4 = bundled('import {a,b,c} from \"./js/d.js\"')\n",
    "test_eq(bnd4.source, 'import {a,b,c} from \"./js/d.js\"')\n",
    "\n",
    "test_eq(bnd4(), 'const {a, b, c} = await brdimport(\"./js/d.js\");')"
   ]
  },
  {
   "cell_type": "markdown",
   "metadata": {},
   "source": [
    "Note that `source` and `__call__` are not the same.\n",
    "\n",
    "`source` will simply concatenate all the bundled sources.\n",
    "\n",
    "`__call__` can bundled additional sources (string or another `Bundle`) and will tranform the final source. This is what you should use as the `_esm` of  AnyWidgets."
   ]
  },
  {
   "cell_type": "code",
   "execution_count": 28,
   "metadata": {
    "brd": {
     "id": "b0b87d76-36e0-492b-a090-3ffe3d7042fa"
    }
   },
   "outputs": [
    {
     "name": "stdout",
     "output_type": "stream",
     "text": [
      "debugger;  // 1757326665.830264\n",
      "debugger;\n",
      "const {default: a} = await brdimport(\"b\");\n"
     ]
    },
    {
     "data": {
      "text/html": [
       "<pre style=\"white-space:pre;overflow-x:auto;line-height:normal;font-family:Menlo,'DejaVu Sans Mono',consolas,'Courier New',monospace\">debugger;\n",
       "<span style=\"color: #800080; text-decoration-color: #800080\">//</span> a;\n",
       "<span style=\"color: #800080; text-decoration-color: #800080\">//</span> nbs/js/b.js\n",
       "B;\n",
       "\n",
       "<span style=\"color: #800080; text-decoration-color: #800080\">//</span> nbs/js/test.js\n",
       "debugger;\n",
       "var stripAnsi = <span style=\"color: #800080; text-decoration-color: #800080; font-weight: bold\">require_strip_ansi</span><span style=\"font-weight: bold\">()</span>;\n",
       "function <span style=\"color: #800080; text-decoration-color: #800080; font-weight: bold\">test</span><span style=\"font-weight: bold\">()</span> <span style=\"font-weight: bold\">{</span>\n",
       "  <span style=\"color: #800080; text-decoration-color: #800080; font-weight: bold\">console.log</span><span style=\"font-weight: bold\">(</span><span style=\"color: #008000; text-decoration-color: #008000\">\"test() called\"</span><span style=\"font-weight: bold\">)</span>;\n",
       "  <span style=\"color: #800080; text-decoration-color: #800080; font-weight: bold\">console.log</span><span style=\"font-weight: bold\">(</span><span style=\"color: #800080; text-decoration-color: #800080; font-weight: bold\">stripAnsi</span><span style=\"font-weight: bold\">(</span><span style=\"color: #008000; text-decoration-color: #008000\">\"\\x1B[4mBridget\\x1B[0m\"</span><span style=\"font-weight: bold\">))</span>;\n",
       "<span style=\"font-weight: bold\">}</span>\n",
       "var test_default = test;\n",
       "export <span style=\"font-weight: bold\">{</span>\n",
       "  test_default as default\n",
       "<span style=\"font-weight: bold\">}</span>;\n",
       "\n",
       "</pre>\n"
      ],
      "text/plain": [
       "debugger;\n",
       "\u001b[35m/\u001b[0m\u001b[35m/\u001b[0m a;\n",
       "\u001b[35m/\u001b[0m\u001b[35m/\u001b[0m nbs/js/b.js\n",
       "B;\n",
       "\n",
       "\u001b[35m/\u001b[0m\u001b[35m/\u001b[0m nbs/js/test.js\n",
       "debugger;\n",
       "var stripAnsi = \u001b[1;35mrequire_strip_ansi\u001b[0m\u001b[1m(\u001b[0m\u001b[1m)\u001b[0m;\n",
       "function \u001b[1;35mtest\u001b[0m\u001b[1m(\u001b[0m\u001b[1m)\u001b[0m \u001b[1m{\u001b[0m\n",
       "  \u001b[1;35mconsole.log\u001b[0m\u001b[1m(\u001b[0m\u001b[32m\"test\u001b[0m\u001b[32m(\u001b[0m\u001b[32m)\u001b[0m\u001b[32m called\"\u001b[0m\u001b[1m)\u001b[0m;\n",
       "  \u001b[1;35mconsole.log\u001b[0m\u001b[1m(\u001b[0m\u001b[1;35mstripAnsi\u001b[0m\u001b[1m(\u001b[0m\u001b[32m\"\\x1B\u001b[0m\u001b[32m[\u001b[0m\u001b[32m4mBridget\\x1B\u001b[0m\u001b[32m[\u001b[0m\u001b[32m0m\"\u001b[0m\u001b[1m)\u001b[0m\u001b[1m)\u001b[0m;\n",
       "\u001b[1m}\u001b[0m\n",
       "var test_default = test;\n",
       "export \u001b[1m{\u001b[0m\n",
       "  test_default as default\n",
       "\u001b[1m}\u001b[0m;\n",
       "\n"
      ]
     },
     "metadata": {},
     "output_type": "display_data"
    }
   ],
   "source": [
    "test_eq(bundled(command='ls')(debugger=True), 'debugger;')\n",
    "\n",
    "src = bundled()(debugger=True, ts=True)\n",
    "print(src)\n",
    "test_is('debugger;  // ' in src, True)\n",
    "\n",
    "src = bundled('import a from \"b\"')(debugger=True)\n",
    "test_eq(src, 'debugger;\\nconst {default: a} = await brdimport(\"b\");')\n",
    "print(src)\n",
    "\n",
    "src = bnd3('// a;', debugger=True)\n",
    "cprint(src)"
   ]
  },
  {
   "cell_type": "code",
   "execution_count": 29,
   "metadata": {
    "brd": {
     "id": "25a7ab8d-98ed-4074-80a2-7cb8b6223adb"
    }
   },
   "outputs": [],
   "source": [
    "for f in (f1, f2, f3): f.unlink(True)"
   ]
  },
  {
   "cell_type": "markdown",
   "metadata": {},
   "source": [
    "# resolve_module\n",
    "> Resolve a JavaScript module specifier relative to a base path.\n",
    "\n",
    "Given a string containing a module specifier like the ones used in JS `import` declarations or `dynamic import()`, returns an absolute URL or a local `Path` to an existing file.\n",
    "\n",
    "[the HTML spec](https://html.spec.whatwg.org/multipage/webappapis.html#resolve-a-module-specifier)  \n",
    "[MDN](https://developer.mozilla.org/en-US/docs/Web/JavaScript/Reference/Statements/import#module_specifier_resolution)\n"
   ]
  },
  {
   "cell_type": "code",
   "execution_count": 30,
   "metadata": {
    "brd": {
     "id": "dd432e66-4f00-4871-b790-5bf8f3f2ae2e"
    }
   },
   "outputs": [
    {
     "data": {
      "text/html": [
       "<pre style=\"white-space:pre;overflow-x:auto;line-height:normal;font-family:Menlo,'DejaVu Sans Mono',consolas,'Courier New',monospace\"><span style=\"font-weight: bold\">{</span><span style=\"color: #008000; text-decoration-color: #008000\">'out_dir'</span>: <span style=\"font-weight: bold\">[</span><span style=\"color: #800080; text-decoration-color: #800080; font-weight: bold\">Path</span><span style=\"font-weight: bold\">(</span><span style=\"color: #008000; text-decoration-color: #008000\">'/Users/vic/dev/repo/project/bridget/nbs/js'</span><span style=\"font-weight: bold\">)</span>, <span style=\"color: #800080; text-decoration-color: #800080; font-weight: bold\">Path</span><span style=\"font-weight: bold\">(</span><span style=\"color: #008000; text-decoration-color: #008000\">'/Users/vic/dev/repo/project/bridget/bridget/js'</span><span style=\"font-weight: bold\">)]</span>, <span style=\"color: #008000; text-decoration-color: #008000\">'rewrite_imports'</span>:\n",
       "<span style=\"color: #00ff00; text-decoration-color: #00ff00; font-style: italic\">True</span>, <span style=\"color: #008000; text-decoration-color: #008000\">'import_name'</span>: <span style=\"color: #008000; text-decoration-color: #008000\">'brdimport'</span><span style=\"font-weight: bold\">}</span>\n",
       "</pre>\n"
      ],
      "text/plain": [
       "\u001b[1m{\u001b[0m\u001b[32m'out_dir'\u001b[0m: \u001b[1m[\u001b[0m\u001b[1;35mPath\u001b[0m\u001b[1m(\u001b[0m\u001b[32m'/Users/vic/dev/repo/project/bridget/nbs/js'\u001b[0m\u001b[1m)\u001b[0m, \u001b[1;35mPath\u001b[0m\u001b[1m(\u001b[0m\u001b[32m'/Users/vic/dev/repo/project/bridget/bridget/js'\u001b[0m\u001b[1m)\u001b[0m\u001b[1m]\u001b[0m, \u001b[32m'rewrite_imports'\u001b[0m:\n",
       "\u001b[3;92mTrue\u001b[0m, \u001b[32m'import_name'\u001b[0m: \u001b[32m'brdimport'\u001b[0m\u001b[1m}\u001b[0m\n"
      ]
     },
     "metadata": {},
     "output_type": "display_data"
    }
   ],
   "source": [
    "cprint(bridge_cfg.bundle_cfg)"
   ]
  },
  {
   "cell_type": "code",
   "execution_count": 31,
   "metadata": {
    "brd": {
     "id": "d2938999-02c1-4bbc-ae58-9d1bcf0be6d9"
    }
   },
   "outputs": [
    {
     "data": {
      "text/html": [
       "<pre style=\"white-space:pre;overflow-x:auto;line-height:normal;font-family:Menlo,'DejaVu Sans Mono',consolas,'Courier New',monospace\"><span style=\"font-weight: bold\">{</span><span style=\"color: #008000; text-decoration-color: #008000\">'out_dir'</span>: <span style=\"font-weight: bold\">[</span><span style=\"color: #800080; text-decoration-color: #800080; font-weight: bold\">Path</span><span style=\"font-weight: bold\">(</span><span style=\"color: #008000; text-decoration-color: #008000\">'.'</span><span style=\"font-weight: bold\">)</span>, <span style=\"color: #800080; text-decoration-color: #800080; font-weight: bold\">Path</span><span style=\"font-weight: bold\">(</span><span style=\"color: #008000; text-decoration-color: #008000\">'/Users/vic/dev/repo/project/bridget/nbs/js'</span><span style=\"font-weight: bold\">)</span>, <span style=\"color: #800080; text-decoration-color: #800080; font-weight: bold\">Path</span><span style=\"font-weight: bold\">(</span><span style=\"color: #008000; text-decoration-color: #008000\">'/Users/vic/dev/repo/project/bridget/bridget/js'</span><span style=\"font-weight: bold\">)]</span>, \n",
       "<span style=\"color: #008000; text-decoration-color: #008000\">'rewrite_imports'</span>: <span style=\"color: #00ff00; text-decoration-color: #00ff00; font-style: italic\">True</span>, <span style=\"color: #008000; text-decoration-color: #008000\">'import_name'</span>: <span style=\"color: #008000; text-decoration-color: #008000\">'brdimport'</span><span style=\"font-weight: bold\">}</span>\n",
       "</pre>\n"
      ],
      "text/plain": [
       "\u001b[1m{\u001b[0m\u001b[32m'out_dir'\u001b[0m: \u001b[1m[\u001b[0m\u001b[1;35mPath\u001b[0m\u001b[1m(\u001b[0m\u001b[32m'.'\u001b[0m\u001b[1m)\u001b[0m, \u001b[1;35mPath\u001b[0m\u001b[1m(\u001b[0m\u001b[32m'/Users/vic/dev/repo/project/bridget/nbs/js'\u001b[0m\u001b[1m)\u001b[0m, \u001b[1;35mPath\u001b[0m\u001b[1m(\u001b[0m\u001b[32m'/Users/vic/dev/repo/project/bridget/bridget/js'\u001b[0m\u001b[1m)\u001b[0m\u001b[1m]\u001b[0m, \n",
       "\u001b[32m'rewrite_imports'\u001b[0m: \u001b[3;92mTrue\u001b[0m, \u001b[32m'import_name'\u001b[0m: \u001b[32m'brdimport'\u001b[0m\u001b[1m}\u001b[0m\n"
      ]
     },
     "metadata": {},
     "output_type": "display_data"
    }
   ],
   "source": [
    "if BUNDLE_PATH.resolve() not in (cfg := bridge_cfg.bundle_cfg).out_dir:\n",
    "    cfg.update(out_dir=[BUNDLE_PATH, *cfg.out_dir])\n",
    "cprint(bridge_cfg.bundle_cfg)"
   ]
  },
  {
   "cell_type": "markdown",
   "metadata": {},
   "source": [
    "By default, Bridget looks for JS files in:\n",
    "- the python bundle, if it can be determined (use `bridge_cfg.for_module(...)`)\n",
    "- `nbdev.config.get_config().lib_path` / 'js', if found\n",
    "- Path.cwd()/'js' at time of call\n",
    "\n",
    "You can add more locations by setting the `out_dir` of the `bundle_cfg` object."
   ]
  },
  {
   "cell_type": "code",
   "execution_count": 32,
   "metadata": {
    "brd": {
     "id": "0e7bbec1-ac17-4b75-b2eb-18b1ce30b1f7"
    }
   },
   "outputs": [],
   "source": [
    "#| export\n",
    "\n",
    "_valid_schemes = {\n",
    "    'http', 'https', # Web resources\n",
    "    'data',          # Data URLs\n",
    "    'file',          # File URLs\n",
    "    'node',          # Node.js built-ins\n",
    "    'ftp', 'ftps',   # FTP resources\n",
    "    'blob',          # Blob URLs (browser)\n",
    "}\n",
    "\n",
    "def _resolve_local(spec, bases) -> Path | None:\n",
    "    \"Resolve a local file path relative to `bases` list of dirs.\"\n",
    "    spec = spec[spec.startswith('/'):]\n",
    "    for base in bases:\n",
    "        if (resolved := base / spec).exists(): return resolved\n",
    "\n",
    "def resolve_ESM(spec: str, base:str|Path|None=None) -> Path | ParseResult | None:\n",
    "    \"Resolve a JavaScript module specifier relative to `base` or `bundle_cfg.out_dir`.\"\n",
    "    bases = [Path(base)] if base else [*bridge_cfg.bundle_cfg.out_dir, Path.cwd()]\n",
    "    if spec.startswith(('/', './', '../')): return _resolve_local(spec, bases)  # Relative specifier\n",
    "    parsed = urlparse(spec)\n",
    "    if (scheme := parsed.scheme) in _valid_schemes:\n",
    "        if scheme != 'file': return parsed\n",
    "        return _resolve_local(parsed.path, bases)"
   ]
  },
  {
   "cell_type": "code",
   "execution_count": 33,
   "metadata": {
    "brd": {
     "id": "b529afac-6d7c-430e-81d8-379eb5480c91"
    }
   },
   "outputs": [],
   "source": [
    "test_eq(resolve_ESM('./non-existent.js'), None)\n",
    "test_eq(resolve_ESM('/non-existent.js'), None)\n",
    "test_eq(resolve_ESM('./bridge.js'), Path('./js/bridge.js').resolve())"
   ]
  },
  {
   "cell_type": "markdown",
   "metadata": {},
   "source": [
    "Test relative specifiers (these will depend on actual files existing)\n"
   ]
  },
  {
   "cell_type": "code",
   "execution_count": 34,
   "metadata": {
    "brd": {
     "id": "a4f8c611-6089-4597-8524-9451dfbf860b"
    }
   },
   "outputs": [],
   "source": [
    "test_eq(resolve_ESM('asdfretgs'), None)\n",
    "test_eq(resolve_ESM('asdfretgs:wrwteryeyt'), None)\n",
    "\n",
    "result = cast(ParseResult, resolve_ESM('https://unpkg.com/htmx.org@next/dist/htmx.js'))\n",
    "test_eq(result.scheme, 'https')\n",
    "test_eq(result.netloc, 'unpkg.com')\n",
    "\n",
    "result = cast(ParseResult, resolve_ESM('data:text/javascript,export default 42;'))\n",
    "test_eq(result.scheme, 'data')\n",
    "\n",
    "test_eq(resolve_ESM('file:///path/to/x.js'), None)\n",
    "test_eq(resolve_ESM('FILE:///observer.js', Path('./js')), Path('js/observer.js'))"
   ]
  },
  {
   "cell_type": "code",
   "execution_count": 35,
   "metadata": {
    "brd": {
     "id": "8f2319aa-5220-471b-b4b3-afe5810e165b"
    }
   },
   "outputs": [],
   "source": [
    "# result = resolve_ESM('data:application/json,{\"foo\":42}', { type=\"json\" })\n",
    "# test_eq(result.scheme, 'data')"
   ]
  },
  {
   "cell_type": "markdown",
   "metadata": {},
   "source": [
    "Absolute specifiers (URLs)"
   ]
  },
  {
   "cell_type": "code",
   "execution_count": 36,
   "metadata": {
    "brd": {
     "id": "7c862bab-2944-4470-b768-17bd7129531f"
    }
   },
   "outputs": [],
   "source": [
    "test_eq(resolve_ESM('lodash'), None)\n",
    "test_eq(resolve_ESM('observer.js', Path('./js')), None)"
   ]
  },
  {
   "cell_type": "markdown",
   "metadata": {},
   "source": [
    "Test bare specifiers (TBD, not yet supported)"
   ]
  },
  {
   "cell_type": "markdown",
   "metadata": {},
   "source": [
    "# get_ESM\n",
    "> look up for JS files in well-known locations and return the contents"
   ]
  },
  {
   "cell_type": "code",
   "execution_count": 37,
   "metadata": {
    "brd": {
     "id": "f58ed920-89c8-441e-bd41-083f91bdf3db"
    }
   },
   "outputs": [],
   "source": [
    "#| export\n",
    "\n",
    "def get_ESM(module_spec):\n",
    "    \"Contents of a JS module\"\n",
    "    mod = resolve_ESM(module_spec)\n",
    "    if isinstance(mod, Path): return Bundle.transform(mod.read_text())\n",
    "    if isinstance(mod, ParseResult): return mod.geturl()"
   ]
  },
  {
   "cell_type": "code",
   "execution_count": 38,
   "metadata": {
    "brd": {
     "id": "554e5db8-9ea4-45aa-aeaa-d4ca4257562d"
    }
   },
   "outputs": [],
   "source": [
    "test_eq(get_ESM('lodash'), None)\n",
    "test_eq(get_ESM('./test.js'), Path('./js/test.js').read_text())\n",
    "test_eq(get_ESM('https://a'), 'https://a')"
   ]
  },
  {
   "cell_type": "code",
   "execution_count": 39,
   "metadata": {
    "brd": {
     "id": "7dc774d3-627d-4e2d-ac90-7935a9e041ec"
    }
   },
   "outputs": [],
   "source": [
    "with tempfile.NamedTemporaryFile('w', dir='./js') as fp:\n",
    "    p = Path(fp.name)\n",
    "    p.write_text('import {a} from \"b\"')\n",
    "    n = f\"/{p.relative_to(Path('./js').resolve())}\"\n",
    "    test_eq(get_ESM(n), 'const {a} = await brdimport(\"b\");')"
   ]
  },
  {
   "cell_type": "markdown",
   "metadata": {},
   "source": [
    "# BlockingWidget"
   ]
  },
  {
   "cell_type": "markdown",
   "metadata": {},
   "source": [
    "## JS -> Python"
   ]
  },
  {
   "cell_type": "code",
   "execution_count": 40,
   "metadata": {
    "brd": {
     "id": "898776ff-ac6a-4ae9-a302-86858e23cbc9"
    }
   },
   "outputs": [],
   "source": [
    "class Cons(anywidget.AnyWidget):\n",
    "    _esm = '''\n",
    "export default {\n",
    "  async initialize({ model, experimental }) {\n",
    "    model.on(\"msg:custom\", async (cmd) => {\n",
    "      const { kind, msg, timeout } = cmd;\n",
    "      if (kind === 'brd-command') {\n",
    "        let [res, buffers] = await experimental.invoke(\"_upper\", msg, {signal: AbortSignal.timeout(timeout)});\n",
    "        console.log(res);\n",
    "      } else console.log(cmd);\n",
    "    }); \n",
    "  },\n",
    "};\n",
    "'''\n",
    "    @anywidget.experimental.command  # type: ignore\n",
    "    def _upper(self, msg, buffers):\n",
    "        # print(f'{msg=} {buffers=}')\n",
    "        return msg.upper(), buffers\n",
    "    \n",
    "    def to_console(self, msg):\n",
    "        self.send({'kind': 'brd-command', 'msg': msg, 'timeout': 5e3})"
   ]
  },
  {
   "cell_type": "code",
   "execution_count": 41,
   "metadata": {
    "brd": {
     "id": "ac8cd8e6-0180-4818-a881-1fbaa5a95143"
    }
   },
   "outputs": [],
   "source": [
    "w = Cons()"
   ]
  },
  {
   "cell_type": "code",
   "execution_count": 42,
   "metadata": {
    "brd": {
     "id": "0c568130-a9be-4898-8c39-0c6bf8ad16f6"
    }
   },
   "outputs": [],
   "source": [
    "w.to_console('Hello, worlds!')"
   ]
  },
  {
   "cell_type": "markdown",
   "metadata": {},
   "source": [
    "The (still) experimental `invoke` feature of `AnyWidget` allows for blocking operations frontend-backend.  \n",
    "We'll also need the other way around, but that's is surprisingly more involved."
   ]
  },
  {
   "cell_type": "markdown",
   "metadata": {},
   "source": [
    "## Python -> JS"
   ]
  },
  {
   "cell_type": "code",
   "execution_count": 43,
   "metadata": {
    "brd": {
     "id": "e269bb04-7935-48cd-8bfa-762d7b231cab"
    }
   },
   "outputs": [],
   "source": [
    "%matplotlib inline"
   ]
  },
  {
   "cell_type": "code",
   "execution_count": 44,
   "metadata": {
    "brd": {
     "id": "e48c44b2-91a5-4977-be93-98b556c56214"
    }
   },
   "outputs": [
    {
     "data": {
      "image/png": "[encoded data removed]",
      "text/plain": [
       "<Figure size 640x480 with 1 Axes>"
      ]
     },
     "metadata": {},
     "output_type": "display_data"
    }
   ],
   "source": [
    "from matplotlib import pyplot as plt\n",
    "import numpy as np\n",
    "\n",
    "base = 1.5\n",
    "fig = plt.figure()#figsize=(4, 2.67))\n",
    "plt.plot(base + base**np.arange(10));"
   ]
  },
  {
   "cell_type": "code",
   "execution_count": 45,
   "metadata": {
    "brd": {
     "id": "0e185241-06aa-41e3-89d6-ef4a8476e145"
    }
   },
   "outputs": [],
   "source": [
    "#| export\n",
    "\n",
    "def exp_backoff(base:float=1.552, max_value:float=10.0):\n",
    "    \"Exponential backoff generator of values until cumulative value is max_value, then yields 0 and stops.\"\n",
    "    if base <= 0: yield 0; return\n",
    "    i, cum_sum, prev_t = 1, 0, 0\n",
    "    while cum_sum < max_value:\n",
    "        t = max(base**i, prev_t) if base > 1 else base*i\n",
    "        t = min(t, max_value - cum_sum)\n",
    "        yield t\n",
    "        cum_sum += t\n",
    "        prev_t = t\n",
    "        i += 1\n",
    "    yield 0"
   ]
  },
  {
   "cell_type": "code",
   "execution_count": 46,
   "metadata": {
    "brd": {
     "id": "3b02bd55-105b-4780-afec-7207cbd932bc"
    }
   },
   "outputs": [
    {
     "data": {
      "text/plain": [
       "[1.552, 2.408704, 3.7383086080000005, 2.3009873919999997]"
      ]
     },
     "execution_count": 46,
     "metadata": {},
     "output_type": "execute_result"
    }
   ],
   "source": [
    "list(itertools.takewhile(lambda t: t, exp_backoff()))"
   ]
  },
  {
   "cell_type": "code",
   "execution_count": 47,
   "metadata": {
    "brd": {
     "id": "ac931252-aa22-4a6d-8b54-a7cad3531a63"
    }
   },
   "outputs": [
    {
     "data": {
      "text/plain": [
       "[1.552,\n",
       " 2.408704,\n",
       " 3.7383086080000005,\n",
       " 5.8018549596160005,\n",
       " 9.004478897324033,\n",
       " 13.9749512486469,\n",
       " 21.68912433789999,\n",
       " 1.8305779485130742]"
      ]
     },
     "execution_count": 47,
     "metadata": {},
     "output_type": "execute_result"
    }
   ],
   "source": [
    "list(itertools.takewhile(lambda t: t, exp_backoff(max_value=60)))"
   ]
  },
  {
   "cell_type": "code",
   "execution_count": 48,
   "metadata": {
    "brd": {
     "id": "9b3ed8e4-5e97-4f0d-a101-214b2d657375"
    }
   },
   "outputs": [
    {
     "data": {
      "text/plain": [
       "[0.4, 0.8, 1.2000000000000002, 0.5999999999999996]"
      ]
     },
     "execution_count": 48,
     "metadata": {},
     "output_type": "execute_result"
    }
   ],
   "source": [
    "list(itertools.takewhile(lambda t:t, exp_backoff(0.4, 3)))"
   ]
  },
  {
   "cell_type": "code",
   "execution_count": 49,
   "metadata": {
    "brd": {
     "id": "9a4b72a3-8fd0-4cfb-b017-9af9b8816f67"
    }
   },
   "outputs": [
    {
     "data": {
      "text/plain": [
       "[0.0776, 0.1552, 0.2328, 0.3104, 0.22399999999999998]"
      ]
     },
     "execution_count": 49,
     "metadata": {},
     "output_type": "execute_result"
    }
   ],
   "source": [
    "list(itertools.takewhile(lambda t:t, exp_backoff(1*0.0776, 1)))"
   ]
  },
  {
   "cell_type": "code",
   "execution_count": 50,
   "metadata": {
    "brd": {
     "id": "99c61381-ac0d-4a39-8bf2-c040769fc294"
    }
   },
   "outputs": [
    {
     "name": "stdout",
     "output_type": "stream",
     "text": [
      "t: 1.5520 sum: 1.5520\n",
      "t: 2.4087 sum: 3.9607\n",
      "t: 3.7383 sum: 7.6990\n",
      "t: 2.3010 sum: 10.0000\n",
      "t: 0.0000 sum: 10.0000\n"
     ]
    }
   ],
   "source": [
    "boff = iter(exp_backoff())\n",
    "t, sum = 1, 0\n",
    "while t:\n",
    "    sum += (t := next(boff))\n",
    "    print(f\"t: {t:0.4f} sum: {sum:0.4f}\")"
   ]
  },
  {
   "cell_type": "code",
   "execution_count": 51,
   "metadata": {
    "brd": {
     "id": "695e6bed-fef8-4ab7-984e-7e77b062e5ad"
    }
   },
   "outputs": [
    {
     "name": "stdout",
     "output_type": "stream",
     "text": [
      "t: 0.5000 sum: 0.5000\n",
      "t: 1.0000 sum: 1.5000\n",
      "t: 1.5000 sum: 3.0000\n",
      "t: 2.0000 sum: 5.0000\n",
      "t: 0.0000 sum: 5.0000\n"
     ]
    }
   ],
   "source": [
    "tm = 5.0\n",
    "boff = iter(exp_backoff(tm*0.1, tm))\n",
    "t, sum = 1, 0\n",
    "while t:\n",
    "    sum += (t := next(boff))\n",
    "    print(f\"t: {t:0.4f} sum: {sum:0.4f}\")"
   ]
  },
  {
   "cell_type": "code",
   "execution_count": 52,
   "metadata": {
    "brd": {
     "id": "b1d3b4c5-52cc-437f-90e3-5b8ef7e22385"
    }
   },
   "outputs": [],
   "source": [
    "#| exporti\n",
    "\n",
    "_xx = ['-_-', 'o_o']\n",
    "def _show(finish: bool=False):\n",
    "    if finish: print('._.')\n",
    "    else: print(_xx[0], end=\"\\r\", flush=True); _xx[:] = _xx[::-1]"
   ]
  },
  {
   "cell_type": "code",
   "execution_count": 53,
   "metadata": {
    "brd": {
     "id": "31560519-cd31-4d4d-b260-d26383f84e6c"
    }
   },
   "outputs": [],
   "source": [
    "class BlockingMixin(W.Widget):\n",
    "    \"A mixin for widgets that supports blocking custom messages with the front-end.\"\n",
    "    _cbs: CallbackDispatcher\n",
    "\n",
    "    def on_msg(self, cb, remove=False):\n",
    "        if not hasattr(self, '_cbs'): self._cbs = CallbackDispatcher()\n",
    "        self._cbs.register_callback(cb, remove=remove)\n",
    "        super().on_msg(cb, remove=remove)\n",
    "\n",
    "    def send(self, msg, timeout: float|None=None, buffers=None, \n",
    "            sleep: float = 1/15, n: int = 10, show: Callable[[bool], None]|None = None\n",
    "    ) -> tuple[Any|Empty, Any|Empty]|None:\n",
    "        \"Send `msg` to the front-end. If `timeout` seconds is not None, calling blocks.\"\n",
    "        if timeout is None: \n",
    "            for cb in self._cbs.callbacks: super().on_msg(cb)\n",
    "            return super().send(msg, buffers)\n",
    "        for cb in self._cbs.callbacks: super().on_msg(cb, remove=True)\n",
    "        res = self._send_msg(msg, buffers,timeout, sleep, n, show)\n",
    "        # NOTE: restoring normal callbacks now implies that front-end can yet send back a result\n",
    "        # even if python timeout was triggered.\n",
    "        for cb in self._cbs.callbacks: super().on_msg(cb)\n",
    "        return res\n",
    "    \n",
    "    async def asend(self, msg, timeout: float=5.0, buffers=None, \n",
    "            sleep: float = 1/15, n: int = 10, show: Callable[[bool], None]|None = None\n",
    "    ) -> tuple[Any|Empty, Any|Empty]|None:\n",
    "        \"Send `msg` to the front-end. Call will end after `timeout` seconds if `timeout` is not None.\"\n",
    "        for cb in self._cbs.callbacks: super().on_msg(cb, remove=True)\n",
    "        res = await self._asend_msg(msg, buffers, timeout, sleep, n, show)\n",
    "        for cb in self._cbs.callbacks: super().on_msg(cb)\n",
    "        return res\n",
    "\n",
    "    def _send_msg(self, msg, buffers=None, timeout: float = 5.0, \n",
    "            sleep: float = 1/15, n: int = 10, show: Callable[[bool], None]|None = None\n",
    "    ) -> tuple[Any|Empty, Any|Empty]:\n",
    "        \"Send blocking `msg` to the front-end. Return response tuple (content, buffers), or (empty, empty) if `timeout`.\"\n",
    "        boff = iter(exp_backoff(timeout*0.776, timeout))\n",
    "        timeout, start_time = next(boff), time.time()\n",
    "        result = None\n",
    "        def _on_msg(_, msg, buffers):\n",
    "            nonlocal result\n",
    "            if result is None: result = (msg, buffers)\n",
    "        super().on_msg(_on_msg)  # register transient callback\n",
    "        try:\n",
    "            super().send(msg, buffers)\n",
    "            with ui_events() as ui_poll:\n",
    "                while True:\n",
    "                    if sleep: time.sleep(sleep)\n",
    "                    ui_poll(n)\n",
    "                    if (time.time() - start_time) > timeout:\n",
    "                        timeout, start_time = next(boff), time.time()\n",
    "                        if not timeout: result = (empty, empty)\n",
    "                    if result is not None:\n",
    "                        content, buffers = result\n",
    "                        if content is empty: return (empty, empty)\n",
    "                        self._cbs(self, content, buffers)\n",
    "                        return content, buffers\n",
    "                    if show: show(False)\n",
    "        except Exception as e:\n",
    "            if isinstance(e, RuntimeError): raise\n",
    "            raise RuntimeError(f\"Error during message processing: {str(e)}\") from e\n",
    "        finally:\n",
    "            super().on_msg(_on_msg, True)  # unregister callback\n",
    "            if show: show(True)\n",
    "\n",
    "    async def _asend_msg(self, msg, buffers=None, timeout: float = 5.0, \n",
    "            sleep: float = 0, n: int = 10, show: Callable[[bool], None]|None = None\n",
    "    ) -> tuple[Any|Empty, Any|Empty]:\n",
    "        \"Send async `msg` to the front-end. Return response tuple (content, buffers), or (empty, empty) if `timeout`.\"\n",
    "        boff = iter(exp_backoff(timeout*0.776, timeout))\n",
    "        timeout, start_time = next(boff), time.time()\n",
    "        result = None\n",
    "        def _on_msg(w, msg, buffers):\n",
    "            nonlocal result\n",
    "            if result is None: result = (msg, buffers)\n",
    "        super().on_msg(_on_msg)\n",
    "        try:\n",
    "            super().send(msg, buffers)\n",
    "            async with ui_events() as ui_poll:\n",
    "                while True:\n",
    "                    await ui_poll(10)\n",
    "                    if (time.time() - start_time) > timeout:\n",
    "                        timeout, start_time = next(boff), time.time()\n",
    "                        if not timeout: result = (empty, empty)\n",
    "                    if result is not None:\n",
    "                        content, buffers = result\n",
    "                        if content is empty: return (empty, empty)\n",
    "                        self._cbs(self, content, buffers)\n",
    "                        return (content, buffers)\n",
    "                    if sleep: await asyncio.sleep(sleep)\n",
    "                    if show: show(False)\n",
    "        except Exception as e:\n",
    "            if isinstance(e, RuntimeError): raise\n",
    "            raise RuntimeError(f\"Error during message processing: {str(e)}\") from e\n",
    "        finally:\n",
    "            super().on_msg(_on_msg, True)\n",
    "            if show: show(True)"
   ]
  },
  {
   "cell_type": "markdown",
   "metadata": {},
   "source": [
    "### blocks\n",
    "> functions to block until a condition is met without blocking front-end interaction."
   ]
  },
  {
   "cell_type": "code",
   "execution_count": 54,
   "metadata": {
    "brd": {
     "id": "76b7fc90-1872-4a37-98af-3c32966f54e4"
    }
   },
   "outputs": [],
   "source": [
    "#| export\n",
    "\n",
    "def blocks(\n",
    "    pred:Callable[..., bool],\n",
    "    timeout:float=1, sleep:float=0.0, n:int=10,\n",
    "    show:Callable[[bool], None]|None=None,\n",
    "):\n",
    "    \"Block until `pred` is True, or at least `timeout` seconds have passed. Return `False` if timeout.\"\n",
    "    boff = iter(exp_backoff(timeout*0.1, timeout))\n",
    "    timeout, start_time, done = next(boff), time.time(), False\n",
    "    try:\n",
    "        with ui_events() as ui_poll:\n",
    "            while True:\n",
    "                if pred(): done = True; break\n",
    "                if show: show(False)\n",
    "                ui_poll(n)\n",
    "                if (time.time() - start_time) > timeout:\n",
    "                    timeout, start_time = next(boff), time.time()\n",
    "                    if not timeout: break\n",
    "                if sleep: time.sleep(sleep)\n",
    "        if show: show(True)\n",
    "    except KeyboardInterrupt: pass\n",
    "    return done\n",
    "\n",
    "async def ablocks(\n",
    "    pred:Callable[..., bool],\n",
    "    timeout:float=1, sleep:float=0.0, n:int=10,\n",
    "    show:Callable[[bool], None]|None=None,\n",
    "):\n",
    "    \"Return True when `pred` returns True, or False when at least `timeout` seconds have passed.\"\n",
    "    boff = iter(exp_backoff(timeout*0.1, timeout))\n",
    "    timeout, start_time, done = next(boff), time.time(), False\n",
    "    async with ui_events() as ui_poll:\n",
    "        while True:\n",
    "            if pred(): done = True; break\n",
    "            if show: show(False)\n",
    "            await ui_poll(n)\n",
    "            if (time.time() - start_time) > timeout:\n",
    "                timeout, start_time = next(boff), time.time()\n",
    "                if not timeout: break\n",
    "            if sleep: await asyncio.sleep(sleep)\n",
    "    if show: show(True)\n",
    "    return done\n",
    "\n",
    "@contextmanager\n",
    "def blocking(\n",
    "    timeout:float=1, sleep:float=0.0, n:int=10,\n",
    "    show:Callable[[bool], None]|None=None,\n",
    "):\n",
    "    def _f(pred:Callable[..., bool]):\n",
    "        return blocks(pred, timeout, sleep, n, show)\n",
    "    yield _f"
   ]
  },
  {
   "cell_type": "code",
   "execution_count": 55,
   "metadata": {
    "brd": {
     "id": "b534d127-2a5a-46a7-8a2a-a770ce104e53"
    }
   },
   "outputs": [
    {
     "name": "stdout",
     "output_type": "stream",
     "text": [
      "._.\n"
     ]
    }
   ],
   "source": [
    "class Cnt:\n",
    "    def __init__(self, n=10, sleep=0.0): self.n, self.sleep, self.cnt = n, sleep, 0\n",
    "    def __call__(self):\n",
    "        self.cnt += 1\n",
    "        time.sleep(self.sleep)\n",
    "        return self.cnt > self.n-1\n",
    "\n",
    "blocks(cntr := Cnt(10), n=20, show=_show)\n",
    "test_eq(cntr.cnt, 10)"
   ]
  },
  {
   "cell_type": "code",
   "execution_count": 56,
   "metadata": {
    "brd": {
     "id": "47e47de6-f91e-4271-9279-e734eeeb633f"
    }
   },
   "outputs": [
    {
     "name": "stdout",
     "output_type": "stream",
     "text": [
      "._.\n",
      "timeout\n"
     ]
    }
   ],
   "source": [
    "done = await ablocks(cntr := Cnt(10, 0.2), show=_show)\n",
    "if done: test_eq(cntr.cnt, 10)\n",
    "else: print('timeout')"
   ]
  },
  {
   "cell_type": "code",
   "execution_count": 57,
   "metadata": {
    "brd": {
     "id": "99ce63e1-df98-4225-98be-4f471307b9c2"
    }
   },
   "outputs": [
    {
     "name": "stdout",
     "output_type": "stream",
     "text": [
      "._.\n"
     ]
    }
   ],
   "source": [
    "with blocking(n=20, show=_show) as pred:\n",
    "    cntr = Cnt(10)\n",
    "    test_is(pred(cntr), True)\n",
    "    test_eq(cntr.cnt, 10)"
   ]
  },
  {
   "cell_type": "code",
   "execution_count": 58,
   "metadata": {
    "brd": {
     "id": "4ae2e261-106d-418e-a6e2-a3eda77d7d6b"
    }
   },
   "outputs": [
    {
     "name": "stdout",
     "output_type": "stream",
     "text": [
      "._.\n",
      "timeout\n"
     ]
    }
   ],
   "source": [
    "with blocking(show=_show) as pred:\n",
    "    cntr = Cnt(10, 0.2)\n",
    "    done = pred(cntr)\n",
    "    if done: test_eq(cntr.cnt, 10)\n",
    "    else: print('timeout')"
   ]
  },
  {
   "cell_type": "markdown",
   "metadata": {},
   "source": [
    "### BlockingMixin"
   ]
  },
  {
   "cell_type": "code",
   "execution_count": 59,
   "metadata": {
    "brd": {
     "id": "ec255794-461f-4902-8b8e-88b6b576ccd8"
    }
   },
   "outputs": [],
   "source": [
    "#| export\n",
    "\n",
    "class BlockingMixin(W.Widget):\n",
    "    \"Mixin for widgets that supports blocking custom messages with the front-end.\"\n",
    "    _loaded = T.Bool(False).tag(sync=True)\n",
    "\n",
    "    def loaded(self): return self._loaded\n",
    "    \n",
    "    def setup_init_on_msg(self, callback=None):\n",
    "        \"Helper to setup the blocking mechanism. Call it before super().__init__(...)\"\n",
    "        def on_init_message(self, content, buffers):\n",
    "            self._loaded = True\n",
    "            self.on_msg(on_init_message, remove=True)\n",
    "            if callback:\n",
    "                self.on_msg(callback)\n",
    "                callback(self, content, buffers)\n",
    "        self.on_msg(on_init_message)\n",
    "    \n",
    "    @classmethod\n",
    "    def create(cls, *args, \n",
    "        factory:Callable[..., Any]|None=None,\n",
    "        timeout:float=10, sleep:float=0.0, n:int=10, show:Callable[[bool], None]|None=None,\n",
    "        **kwargs\n",
    "    ) -> Self:\n",
    "        self: Self = (factory or cls)(*args, **kwargs)\n",
    "        blocks(self.loaded, timeout, sleep, n, show)\n",
    "        return self\n",
    "    \n",
    "    @classmethod\n",
    "    async def acreate(cls, *args, \n",
    "        factory:Callable[..., Any]|None=None,\n",
    "        timeout:float=10, sleep:float=0.0, n:int=10, show:Callable[[bool], None]|None=None,\n",
    "        **kwargs\n",
    "    ) -> Self:\n",
    "        self: Self = (factory or cls)(*args, **kwargs)\n",
    "        await ablocks(self.loaded, timeout, sleep, n, show)\n",
    "        return self\n",
    "\n",
    "    @overload\n",
    "    def send(self, msg, buffers=None, *, timeout=None, \n",
    "            sleep: float = 1/15, n: int = 10, show: Callable[[bool], None]|None = None\n",
    "    ) -> None: ...\n",
    "    @overload\n",
    "    def send(self, msg, buffers=None, *, timeout: float, \n",
    "            sleep: float = 1/15, n: int = 10, show: Callable[[bool], None]|None = None\n",
    "    ) -> tuple[Any|Empty, Any|Empty]: ...\n",
    "    def send(self, msg, buffers=None, *, timeout: float|None=None, \n",
    "            sleep: float = 1/15, n: int = 10, show: Callable[[bool], None]|None = None):\n",
    "        \"\"\"Send `msg` to the front-end. If `timeout` seconds is not None, the call blocks.\n",
    "        NOTE: front-end can yet send back a result even if python timeout was triggered.\n",
    "        \"\"\"\n",
    "        if timeout is None: return super().send(msg, buffers)\n",
    "        if 'msg_id' not in msg: msg['msg_id'] = f\"msg-{kounter('blocking')}\"  # need to discriminate blocking calls\n",
    "        return self._send_msg(msg, buffers, timeout, sleep, n, show)\n",
    "    \n",
    "    async def asend(self, msg, buffers=None, *, timeout: float=5.0, \n",
    "            sleep: float = 1/15, n: int = 10, show: Callable[[bool], None]|None = None\n",
    "    ) -> tuple[Any|Empty, Any|Empty]:\n",
    "        \"\"\"Send `msg` to the front-end. Call will end after `timeout` seconds.\n",
    "        NOTE: front-end can yet send back a result even if python timeout was triggered.\n",
    "        \"\"\"\n",
    "        if 'msg_id' not in msg: msg['msg_id'] = f\"msg-{kounter('blocking')}\"\n",
    "        return await self._asend_msg(msg, buffers, timeout, sleep, n, show)\n",
    "\n",
    "    def _send_msg(self, msg, buffers=None, timeout: float = 5.0, \n",
    "            sleep: float = 0, n: int = 10, show: Callable[[bool], None]|None = None\n",
    "    ) -> tuple[Any|Empty, Any|Empty]:\n",
    "        \"Send blocking `msg`. Return response tuple (content, buffers), or (empty, empty) if `timeout`.\"\n",
    "        result, idx = None, msg.get('msg_id')\n",
    "        def _on_msg(_, msg, buffers):\n",
    "            nonlocal result\n",
    "            if result is None and msg.get('msg_id', None) == idx: result = (msg, buffers)\n",
    "        super().on_msg(_on_msg)\n",
    "        try:\n",
    "            super().send(msg, buffers)\n",
    "            done = blocks(lambda: result is not None, timeout, sleep, n, show)\n",
    "            if done:\n",
    "                content, buffers = result  # type: ignore\n",
    "                if content is empty: return (empty, empty)\n",
    "                return content, buffers\n",
    "            return (empty, empty)\n",
    "        except Exception as e:  # something weird happened with IPython msg handling \n",
    "            if isinstance(e, RuntimeError): raise\n",
    "            raise RuntimeError(f\"Error during message processing: {str(e)}\") from e\n",
    "        finally:  # make sure to remove the temporary message handler\n",
    "            super().on_msg(_on_msg, True)\n",
    "\n",
    "    async def _asend_msg(self, msg, buffers=None, timeout: float = 5.0, \n",
    "            sleep: float = 0, n: int = 10, show: Callable[[bool], None]|None = None\n",
    "    ) -> tuple[Any|Empty, Any|Empty]:\n",
    "        \"Send async `msg`. Return response tuple (content, buffers), or (empty, empty) if `timeout`.\"\n",
    "        result, idx = None, msg.get('msg_id')\n",
    "        def _on_msg(_, msg, buffers):\n",
    "            nonlocal result\n",
    "            if result is None and msg.get('msg_id', None) == idx: result = (msg, buffers)\n",
    "        super().on_msg(_on_msg)\n",
    "        try:\n",
    "            super().send(msg, buffers)\n",
    "            done = await ablocks(lambda: result is not None, timeout, sleep, n, show)\n",
    "            if done:\n",
    "                content, buffers = result  # type: ignore\n",
    "                if content is empty: return (empty, empty)\n",
    "                return content, buffers\n",
    "            return (empty, empty)\n",
    "        except Exception as e:\n",
    "            if isinstance(e, RuntimeError): raise\n",
    "            raise RuntimeError(f\"Error during message processing: {str(e)}\") from e\n",
    "        finally:\n",
    "            super().on_msg(_on_msg, True)"
   ]
  },
  {
   "cell_type": "code",
   "execution_count": 60,
   "metadata": {
    "brd": {
     "id": "883c7cbf-234f-4fa7-8e0d-13f2c898563e"
    }
   },
   "outputs": [],
   "source": [
    "class BlockingWidget(anywidget.AnyWidget, BlockingMixin):\n",
    "    _esm = anysource('// debugger;', '''\n",
    "    export default { \n",
    "        async initialize({ model }) {\n",
    "            function on_msg(msg) {\n",
    "                console.log(`Received message:`, msg);\n",
    "                if (!msg?.timeout) return model.send({ msg_id: msg.msg_id, response: 'no timeout' });\n",
    "                (function loop(n) {\n",
    "                    setTimeout(() => {\n",
    "                        n += 100\n",
    "                        if (n > msg.timeout*1000) {\n",
    "                            console.log(`Sending response for msg_id:`, msg.msg_id);\n",
    "                            model.send({ msg_id: msg.msg_id, response: 'done waiting', error: null });\n",
    "                            return;\n",
    "                        }\n",
    "                        // console.log('.');\n",
    "                        loop(n);\n",
    "                    }, 100);\n",
    "                })(0);\n",
    "            }\n",
    "            model.on(\"msg:custom\", on_msg);\n",
    "            setTimeout(() => {\n",
    "                console.log(`Initialized.`);\n",
    "                model.set('_loaded', true); model.save_changes();\n",
    "            }, 1000);\n",
    "        }\n",
    "    };\n",
    "    ''')\n",
    "\n",
    "    def test_send(self, msg, buffers=None, *, timeout: float|None=None, \n",
    "            sleep: float = 1/15, n: int = 10, show: Callable[[bool], None]|None = None):\n",
    "        self._start_time = time.time()\n",
    "        print(f'Sending message {msg}...')\n",
    "        res = self.send(msg, buffers, timeout=timeout, sleep=sleep, n=n, show=show)\n",
    "        return None if res == (empty, empty) else res\n",
    "    \n",
    "    async def test_asend(self, msg, buffers=None, *, timeout: float=5.0, \n",
    "        sleep: float = 1/15, n: int = 10, show: Callable[[bool], None]|None = None\n",
    "    ):\n",
    "        self._start_time = time.time()\n",
    "        print(f'Sending message {msg}...')\n",
    "        res = await self.asend(msg, buffers, timeout=timeout, sleep=sleep, n=n, show=show)\n",
    "        return None if res == (empty, empty) else res\n",
    "\n",
    "    def __init__(self, *args, **kwargs):\n",
    "        # self.setup_init_on_msg(self._handle_message)\n",
    "        self.on_msg(self._handle_message)\n",
    "        super().__init__(*args, **kwargs)\n",
    "        print('Initializing...')\n",
    "\n",
    "    def _handle_message(self, _, msg, buffers):\n",
    "        e = time.time()\n",
    "        self._last_message = e, msg\n",
    "        print(f'\\nelapsed: {e-self._start_time:.3f}s Received message: {msg}, buffers: {buffers}')"
   ]
  },
  {
   "cell_type": "code",
   "execution_count": 61,
   "metadata": {
    "brd": {
     "id": "7467ff48-5e09-44ae-a276-f8846535396b"
    }
   },
   "outputs": [
    {
     "name": "stdout",
     "output_type": "stream",
     "text": [
      "Initializing...\n"
     ]
    }
   ],
   "source": [
    "cleanupwidgets('w')\n",
    "\n",
    "w = BlockingWidget()\n",
    "test_eq(w.loaded(), False)"
   ]
  },
  {
   "cell_type": "code",
   "execution_count": 62,
   "metadata": {
    "brd": {
     "id": "53d1b1ae-7782-4924-bad0-7d33e4e22279"
    }
   },
   "outputs": [
    {
     "name": "stdout",
     "output_type": "stream",
     "text": [
      "1\n",
      "Sending message {'msg_id': 1}...\n"
     ]
    }
   ],
   "source": [
    "idx = kounter('blocking')\n",
    "print(idx)\n",
    "w.test_send({'msg_id': idx})"
   ]
  },
  {
   "cell_type": "code",
   "execution_count": 63,
   "metadata": {
    "brd": {
     "id": "a9958bf9-e48b-40d3-b0f7-9a1a8ecf0eb8"
    }
   },
   "outputs": [
    {
     "name": "stdout",
     "output_type": "stream",
     "text": [
      "Initializing...\n",
      "._.\n",
      "loaded=True\n"
     ]
    },
    {
     "name": "stderr",
     "output_type": "stream",
     "text": [
      "No such comm: 9ff85ab5c315486a83eff41d1ff892de\n"
     ]
    }
   ],
   "source": [
    "cleanupwidgets('w')\n",
    "\n",
    "w = BlockingWidget.create(show=_show)\n",
    "print(f'loaded={w.loaded()}')\n",
    "test_eq(w.loaded(), True)"
   ]
  },
  {
   "cell_type": "code",
   "execution_count": 64,
   "metadata": {
    "brd": {
     "id": "af6cdee3-39cf-4b01-8b70-1b3fea58e70c"
    }
   },
   "outputs": [
    {
     "name": "stdout",
     "output_type": "stream",
     "text": [
      "Sending message {'msg_id': 2, 'timeout': 2}...\n",
      "._.\n",
      "idx=2 -> Timeout 1.130170\n"
     ]
    }
   ],
   "source": [
    "idx = kounter('blocking')\n",
    "a = w.test_send({'msg_id': idx, 'timeout': 2}, timeout=1, show=_show)\n",
    "print(f\"{idx=} ->\", f\"Timeout {time.time()-w._start_time:3f}\" if not a else f\"{a=}\")\n",
    "test_is(a, None)"
   ]
  },
  {
   "cell_type": "code",
   "execution_count": 65,
   "metadata": {
    "brd": {
     "id": "ba450323-0967-41c9-9218-71f09c5f0dd8"
    }
   },
   "outputs": [
    {
     "name": "stdout",
     "output_type": "stream",
     "text": [
      "Sending message {'msg_id': 3, 'timeout': 2}...\n",
      "._.\n",
      "idx=3 -> a=({'msg_id': 3, 'response': 'done waiting', 'error': None}, [])\n"
     ]
    },
    {
     "name": "stdout",
     "output_type": "stream",
     "text": [
      "\n",
      "elapsed: 1.067s Received message: {'msg_id': 2, 'response': 'done waiting', 'error': None}, buffers: []\n",
      "\n",
      "elapsed: 2.148s Received message: {'msg_id': 3, 'response': 'done waiting', 'error': None}, buffers: []\n",
      "\n",
      "elapsed: 1.002s Received message: {'msg_id': 4, 'response': 'done waiting', 'error': None}, buffers: []\n",
      "\n",
      "elapsed: 2.186s Received message: {'msg_id': 5, 'response': 'done waiting', 'error': None}, buffers: []\n"
     ]
    }
   ],
   "source": [
    "idx = kounter('blocking')\n",
    "a = w.test_send({'msg_id': idx, 'timeout': 2}, timeout=3, show=_show)\n",
    "print(f\"{idx=} ->\", f\"Timeout {time.time()-w._start_time:3f}\" if not a else f\"{a=}\")\n",
    "test_eq(a[0]['msg_id'], idx)  # type: ignore"
   ]
  },
  {
   "cell_type": "code",
   "execution_count": 66,
   "metadata": {
    "brd": {
     "id": "9a280c5c-7863-4444-83b0-ae75a10bb1c5"
    }
   },
   "outputs": [
    {
     "name": "stdout",
     "output_type": "stream",
     "text": [
      "Sending message {'msg_id': 4, 'timeout': 2}...\n",
      "._.\n",
      "idx=4 -> Timeout 1.150003\n"
     ]
    }
   ],
   "source": [
    "idx = kounter('blocking')\n",
    "a = await w.test_asend({'msg_id': idx, 'timeout': 2}, timeout=1, show=_show)\n",
    "print(f\"{idx=} ->\", f\"Timeout {time.time()-w._start_time:3f}\" if not a else f\"{a=}\")\n",
    "test_is(a, None)"
   ]
  },
  {
   "cell_type": "code",
   "execution_count": 67,
   "metadata": {
    "brd": {
     "id": "3ceddbca-4f74-4efb-98d7-e1bb1032fbde"
    }
   },
   "outputs": [
    {
     "name": "stdout",
     "output_type": "stream",
     "text": [
      "Sending message {'msg_id': 5, 'timeout': 2}...\n",
      "._.\n",
      "idx=5 -> a=({'msg_id': 5, 'response': 'done waiting', 'error': None}, [])\n"
     ]
    }
   ],
   "source": [
    "idx = kounter('blocking')\n",
    "a = await w.test_asend({'msg_id': idx, 'timeout': 2}, timeout=3, show=_show)\n",
    "print(f\"{idx=} ->\", f\"Timeout {time.time()-w._start_time:3f}\" if not a else f\"{a=}\")\n",
    "test_eq(a[0]['msg_id'], idx)  # type: ignore"
   ]
  },
  {
   "cell_type": "code",
   "execution_count": 68,
   "metadata": {
    "brd": {
     "id": "31866c05-b459-45e1-ab55-88301595c18d"
    }
   },
   "outputs": [],
   "source": [
    "w.close()"
   ]
  },
  {
   "cell_type": "markdown",
   "metadata": {},
   "source": [
    "# BridgeWidget\n",
    "> A widget that bundles its ESM source and (optionaly) blocks until loaded."
   ]
  },
  {
   "cell_type": "code",
   "execution_count": 69,
   "metadata": {
    "brd": {
     "id": "3ea5ea42-6734-4334-be43-63e00906fed1"
    }
   },
   "outputs": [],
   "source": [
    "#| export\n",
    "\n",
    "class BridgeWidget(anywidget.AnyWidget, BlockingMixin):\n",
    "    def __init__(self, *args, **kwargs):\n",
    "        self._esm = bundled(self._esm)()\n",
    "        super().__init__(*args, **kwargs)"
   ]
  },
  {
   "cell_type": "markdown",
   "metadata": {},
   "source": [
    "# brdimport\n",
    "> Widget toupload the `brdimport` module to the front-end, the bare minimum we need to start bridging."
   ]
  },
  {
   "cell_type": "code",
   "execution_count": 70,
   "metadata": {
    "brd": {
     "id": "10ab226a-be9e-47a9-b9e2-18b9d15073e6"
    }
   },
   "outputs": [],
   "source": [
    "#| exporti\n",
    "\n",
    "brdimport_js = BUNDLE_PATH / 'js/brdimport.js'\n",
    "brdimport_esm = bundled(brdimport_js)()"
   ]
  },
  {
   "cell_type": "code",
   "execution_count": 71,
   "metadata": {
    "brd": {
     "id": "c929e162-5018-41de-9d2c-880c7fff4c54"
    }
   },
   "outputs": [],
   "source": [
    "#| exporti\n",
    "\n",
    "__brdimport__ = None\n",
    "\n",
    "class BridgeImport(anywidget.AnyWidget):\n",
    "    _esm = anysource(brdimport_esm, '''\n",
    "export default { async initialize({ model, experimental }) {\n",
    "  return brdimport.init(model, experimental.invoke);\n",
    "}}\n",
    "''')\n",
    "\n",
    "    _loaded = T.Bool(False).tag(sync=True)\n",
    "\n",
    "    def __init__(self, getter: Callable[[str], str|None]|None=None, **kwargs):\n",
    "        self._get_module = getter or get_ESM\n",
    "        super().__init__(**kwargs)\n",
    "\n",
    "    @T.observe('_loaded')\n",
    "    def _on_loaded(self, change):\n",
    "        global __brdimport__\n",
    "        __brdimport__ = self if change['new'] else None\n",
    "        print(f\"'brdimport' {'loaded' if __brdimport__ else 'unloaded'}\")\n",
    "\n",
    "    @anywidget.experimental.command  # type: ignore\n",
    "    def get_module(self, moduleName, buffers):\n",
    "        if DEBUG(): print(f'{moduleName=} {buffers=}')\n",
    "        return self._get_module(moduleName), buffers"
   ]
  },
  {
   "cell_type": "code",
   "execution_count": 72,
   "metadata": {
    "brd": {
     "id": "f699faa8-c05e-4d13-9f2c-487c7f7bd56e"
    }
   },
   "outputs": [
    {
     "name": "stdout",
     "output_type": "stream",
     "text": [
      "._.\n"
     ]
    }
   ],
   "source": [
    "brdimport = BridgeImport()\n",
    "# needed when running all cells if we want to ensure brdimport is in place\n",
    "blocks(lambda: brdimport._loaded, 3, sleep=0.2, show=_show);"
   ]
  },
  {
   "cell_type": "code",
   "execution_count": 73,
   "metadata": {
    "brd": {
     "id": "85d41dc3-1b91-4365-b633-e77fda7aa9f6"
    }
   },
   "outputs": [],
   "source": [
    "if brdimport._loaded: test_is(__brdimport__ is not None, True)"
   ]
  },
  {
   "cell_type": "code",
   "execution_count": 76,
   "metadata": {
    "brd": {
     "id": "8645d270-eee5-4513-86ed-b8a45a646127"
    }
   },
   "outputs": [
    {
     "data": {
      "text/html": [
       "<script type=\"module\">\n",
       "const res = await brdimport('https://esm.sh/canvas-confetti@1.6');\n",
       "console.log(res);\n",
       "</script>"
      ],
      "text/plain": [
       "<bridget.helpers.HTML object>"
      ]
     },
     "execution_count": 76,
     "metadata": {},
     "output_type": "execute_result"
    }
   ],
   "source": [
    "confetti_scr = Script('''\n",
    "const res = await brdimport('https://esm.sh/canvas-confetti@1.6');\n",
    "console.log(res);\n",
    "''', type='module')\n",
    "HTML(confetti_scr)"
   ]
  },
  {
   "cell_type": "code",
   "execution_count": 77,
   "metadata": {
    "brd": {
     "id": "9a8aac00-8313-48d3-9a76-689162dacaae"
    }
   },
   "outputs": [
    {
     "data": {
      "text/html": [
       "<script type=\"module\">\n",
       "const res = await brdimport('https://a.com/b/c.js');\n",
       "console.log(res)\n",
       "</script>"
      ],
      "text/plain": [
       "<bridget.helpers.HTML object>"
      ]
     },
     "execution_count": 77,
     "metadata": {},
     "output_type": "execute_result"
    }
   ],
   "source": [
    "non_existent_scr = Script('''\n",
    "const res = await brdimport('https://a.com/b/c.js');\n",
    "console.log(res)\n",
    "''', type='module')\n",
    "HTML(non_existent_scr)"
   ]
  },
  {
   "cell_type": "code",
   "execution_count": 78,
   "metadata": {
    "brd": {
     "id": "514d12b7-d5e8-475a-b77b-318da772aef1"
    }
   },
   "outputs": [
    {
     "data": {
      "text/html": [
       "<script type=\"module\">\n",
       "const { getObserverManager } = await brdimport('./js/observer.js');\n",
       "console.log(getObserverManager)\n",
       "</script>"
      ],
      "text/plain": [
       "<bridget.helpers.HTML object>"
      ]
     },
     "execution_count": 78,
     "metadata": {},
     "output_type": "execute_result"
    }
   ],
   "source": [
    "observer_scr = Script('''\n",
    "const { getObserverManager } = await brdimport('./js/observer.js');\n",
    "console.log(getObserverManager)\n",
    "''', type='module')\n",
    "HTML(observer_scr)"
   ]
  },
  {
   "cell_type": "code",
   "execution_count": 79,
   "metadata": {
    "brd": {
     "id": "b47e4b17-e7ea-44fd-993e-d62bf40d4d77"
    }
   },
   "outputs": [],
   "source": [
    "#| export\n",
    "\n",
    "def get_brdimport():\n",
    "    if not __brdimport__:\n",
    "        brdimport = BridgeImport()\n",
    "        blocks(lambda: brdimport._loaded, 3, sleep=0.2)  # needed when running all above/below cells\n",
    "        assert __brdimport__ is not None\n",
    "    return __brdimport__"
   ]
  },
  {
   "cell_type": "code",
   "execution_count": 80,
   "metadata": {
    "brd": {
     "id": "82a97145-a261-43d0-9924-d1813d73fe12"
    }
   },
   "outputs": [
    {
     "data": {
      "application/vnd.jupyter.widget-view+json": {
       "model_id": "acb6b349a5fb44c4908a5bf2df03dd94",
       "version_major": 2,
       "version_minor": 1
      },
      "text/plain": [
       "BridgeImport()"
      ]
     },
     "execution_count": 80,
     "metadata": {},
     "output_type": "execute_result"
    }
   ],
   "source": [
    "#| exporti\n",
    "\n",
    "get_brdimport()"
   ]
  },
  {
   "cell_type": "markdown",
   "metadata": {},
   "source": [
    "`brdimport` module is unconditionally loaded."
   ]
  },
  {
   "cell_type": "markdown",
   "metadata": {},
   "source": [
    "# Colophon\n",
    "----"
   ]
  },
  {
   "cell_type": "code",
   "execution_count": 81,
   "metadata": {
    "brd": {
     "id": "455e648a-52c9-479e-a189-3e17b6ca234d"
    }
   },
   "outputs": [],
   "source": [
    "import fastcore.all as FC\n",
    "import nbdev\n",
    "from nbdev.clean import nbdev_clean\n",
    "from olio.basic import bundle_path"
   ]
  },
  {
   "cell_type": "code",
   "execution_count": 82,
   "metadata": {
    "brd": {
     "id": "26e2b41f-7b34-49ba-960c-ebf07b7fa65a"
    }
   },
   "outputs": [],
   "source": [
    "if FC.IN_NOTEBOOK:\n",
    "    (bundle_path('bridget')/'js').mkdir(exist_ok=True)\n",
    "    BUNDLE_PATH = bundle_path(__name__)\n",
    "    for f in ['brdimport']: bundled(BUNDLE_PATH / f'js/{f}.js')()\n",
    "    nb_path = '10_bridge_widget.ipynb'\n",
    "    # nbdev_clean(nb_path)\n",
    "    nbdev.nbdev_export(nb_path)"
   ]
  }
 ],
 "metadata": {
  "kernelspec": {
   "display_name": "Python 3",
   "language": "python",
   "name": "python3"
  },
  "language_info": {
   "codemirror_mode": {
    "name": "ipython",
    "version": 3
   },
   "file_extension": ".py",
   "mimetype": "text/x-python",
   "name": "python",
   "nbconvert_exporter": "python",
   "pygments_lexer": "ipython3",
   "version": "3.12.11"
  }
 },
 "nbformat": 4,
 "nbformat_minor": 4
}
