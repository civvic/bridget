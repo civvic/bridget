{
 "cells": [
  {
   "cell_type": "code",
   "execution_count": null,
   "metadata": {},
   "outputs": [],
   "source": [
    "#| default_exp logger"
   ]
  },
  {
   "cell_type": "code",
   "execution_count": null,
   "metadata": {},
   "outputs": [],
   "source": [
    "#| export\n",
    "from __future__ import annotations"
   ]
  },
  {
   "cell_type": "markdown",
   "metadata": {},
   "source": [
    "# Helpers\n",
    "\n",
    "> ..."
   ]
  },
  {
   "cell_type": "code",
   "execution_count": null,
   "metadata": {},
   "outputs": [],
   "source": [
    "import ipywidgets as W\n",
    "W.Widget.close_all()  # we don't want stale widgets around when developing"
   ]
  },
  {
   "cell_type": "markdown",
   "metadata": {},
   "source": [
    "# Prologue"
   ]
  },
  {
   "cell_type": "code",
   "execution_count": null,
   "metadata": {},
   "outputs": [],
   "source": [
    "#| export\n",
    "import json\n",
    "import typing\n",
    "from collections import deque\n",
    "from functools import partialmethod\n",
    "from typing import Callable\n",
    "\n",
    "import fastcore.all as FC\n",
    "import traitlets as T\n",
    "from fasthtml.xtend import Style\n",
    "from IPython.display import display\n",
    "from olio.basic import bundle_path\n",
    "from olio.basic import empty\n",
    "from olio.common import shorten\n"
   ]
  },
  {
   "cell_type": "code",
   "execution_count": null,
   "metadata": {},
   "outputs": [],
   "source": [
    "#| export\n",
    "from bridget.bridge_widget import BridgeWidget\n",
    "from bridget.bridge_widget import bundled\n",
    "from bridget.helpers import displaydh\n",
    "from bridget.helpers import HTML\n",
    "from bridget.helpers import id_gen\n"
   ]
  },
  {
   "cell_type": "code",
   "execution_count": null,
   "metadata": {},
   "outputs": [],
   "source": [
    "import os\n",
    "import time\n",
    "from pathlib import Path\n",
    "\n",
    "from fastcore.test import *\n",
    "from fastcore.xml import to_xml\n",
    "from IPython.core.display import Javascript\n",
    "from loguru import logger\n",
    "from olio.common import setup_console\n",
    "from olio.test import test_raises\n",
    "from olio.widget import cleanupwidgets\n"
   ]
  },
  {
   "cell_type": "code",
   "execution_count": null,
   "metadata": {},
   "outputs": [],
   "source": [
    "import bridget\n",
    "from bridget.helpers import arun_command\n",
    "from bridget.helpers import DEBUG\n"
   ]
  },
  {
   "attachments": {},
   "cell_type": "markdown",
   "metadata": {},
   "source": [
    "----"
   ]
  },
  {
   "cell_type": "code",
   "execution_count": null,
   "metadata": {},
   "outputs": [],
   "source": [
    "#| exporti\n",
    "\n",
    "new_id = id_gen()\n",
    "BUNDLE_PATH = bundle_path(__name__)"
   ]
  },
  {
   "cell_type": "code",
   "execution_count": null,
   "metadata": {},
   "outputs": [],
   "source": [
    "console, cprint = setup_console(140)"
   ]
  },
  {
   "cell_type": "code",
   "execution_count": null,
   "metadata": {},
   "outputs": [],
   "source": [
    "#| exporti\n",
    "\n",
    "_n = '\\n'"
   ]
  },
  {
   "attachments": {},
   "cell_type": "markdown",
   "metadata": {},
   "source": [
    "----"
   ]
  },
  {
   "cell_type": "markdown",
   "metadata": {},
   "source": [
    "# Canvas and Logger"
   ]
  },
  {
   "cell_type": "markdown",
   "metadata": {},
   "source": [
    "# Canvas\n",
    "> Places to display content"
   ]
  },
  {
   "cell_type": "code",
   "execution_count": null,
   "metadata": {},
   "outputs": [],
   "source": [
    "#| export\n",
    "\n",
    "class Canvas:\n",
    "    def show(self, content=None, **kwargs):...\n",
    "    def hide(self):...\n",
    "    def add(self, content, **kwargs):...\n",
    "    def clear(self, history:bool=True):..."
   ]
  },
  {
   "cell_type": "markdown",
   "metadata": {},
   "source": [
    "## DHCanvas"
   ]
  },
  {
   "cell_type": "code",
   "execution_count": null,
   "metadata": {},
   "outputs": [],
   "source": [
    "#| export\n",
    "\n",
    "class DhCanvas(Canvas):\n",
    "    _stl = 'border: 0.5px solid lightblue; overflow: auto;'\n",
    "    def __init__(self, height:int=200):\n",
    "        self.height, self._h, self._dh =  height, '', None\n",
    "    @property\n",
    "    def dh(self):\n",
    "        if not self._dh: self._dh = displaydh()\n",
    "        return self._dh\n",
    "    def show(self, content=None, **kwargs):\n",
    "        if self._dh: self.hide(); self._dh = None\n",
    "        self.add(content or '', **kwargs)\n",
    "    def hide(self): self.dh.update(HTML(''))\n",
    "    def add(self, content, **kwargs):\n",
    "        if content is not None:\n",
    "            self._h = str(content) + self._h\n",
    "            self.dh.update(HTML(f\"<div style='max-height:{self.height}px;{self._stl}'>{self._h}</div>\"), metadata=kwargs)\n",
    "    def clear(self): self._h = ''; self.hide()"
   ]
  },
  {
   "cell_type": "code",
   "execution_count": null,
   "metadata": {},
   "outputs": [],
   "source": [
    "cnv = DhCanvas(height=200)"
   ]
  },
  {
   "cell_type": "code",
   "execution_count": null,
   "metadata": {},
   "outputs": [
    {
     "data": {
      "text/html": [],
      "text/plain": [
       "<bridget.helpers.HTML object>"
      ]
     },
     "metadata": {},
     "output_type": "display_data"
    }
   ],
   "source": [
    "cnv.show(\"What's up, world!<br>\")"
   ]
  },
  {
   "cell_type": "code",
   "execution_count": null,
   "metadata": {},
   "outputs": [],
   "source": [
    "cnv.add(\"Take me to your leader.<br>\")"
   ]
  },
  {
   "cell_type": "code",
   "execution_count": null,
   "metadata": {},
   "outputs": [],
   "source": [
    "cnv.clear()"
   ]
  },
  {
   "cell_type": "code",
   "execution_count": null,
   "metadata": {},
   "outputs": [],
   "source": [
    "cnv.add('<b>There and Back Again</b><br>')"
   ]
  },
  {
   "cell_type": "code",
   "execution_count": null,
   "metadata": {},
   "outputs": [
    {
     "data": {
      "text/html": [
       "<div style='max-height:200px;border: 0.5px solid lightblue; overflow: auto;'><br>\n",
       "<b>There and Back Again</b><br></div>"
      ],
      "text/plain": [
       "<bridget.helpers.HTML object>"
      ]
     },
     "metadata": {},
     "output_type": "display_data"
    }
   ],
   "source": [
    "cnv.show()"
   ]
  },
  {
   "cell_type": "code",
   "execution_count": null,
   "metadata": {},
   "outputs": [],
   "source": [
    "cnv.add('')"
   ]
  },
  {
   "cell_type": "code",
   "execution_count": null,
   "metadata": {},
   "outputs": [],
   "source": [
    "cnv.add('\\n')"
   ]
  },
  {
   "cell_type": "code",
   "execution_count": null,
   "metadata": {},
   "outputs": [],
   "source": [
    "cnv.add('<br>')"
   ]
  },
  {
   "cell_type": "markdown",
   "metadata": {},
   "source": [
    "## FCanvas (kernel)\n",
    "> HTML element with a well-known id."
   ]
  },
  {
   "cell_type": "code",
   "execution_count": null,
   "metadata": {},
   "outputs": [],
   "source": [
    "#| export\n",
    "\n",
    "FCanvas_css = '''\n",
    "  @scope (.brd-logger) {\n",
    "    :scope { \n",
    "      border: 1px solid steelblue; \n",
    "      overflow: auto; \n",
    "      font-family: monospace; \n",
    "      font-size: 13px; \n",
    "    }\n",
    "    .ts { color:lightgray; }\n",
    "  }\n",
    "'''\n",
    "FCanvas_stl = Style(FCanvas_css, id='brd-logger-stl')"
   ]
  },
  {
   "cell_type": "code",
   "execution_count": null,
   "metadata": {},
   "outputs": [
    {
     "data": {
      "text/html": [
       "<style id=\"brd-logger-stl\">\n",
       "  @scope (.brd-logger) {\n",
       "    :scope { \n",
       "      border: 1px solid steelblue; \n",
       "      overflow: auto; \n",
       "      font-family: monospace; \n",
       "      font-size: 13px; \n",
       "    }\n",
       "    .ts { color:lightgray; }\n",
       "  }\n",
       "</style>\n"
      ],
      "text/plain": [
       "<bridget.helpers.HTML object>"
      ]
     },
     "metadata": {},
     "output_type": "display_data"
    }
   ],
   "source": [
    "display(HTML(FCanvas_stl))"
   ]
  },
  {
   "cell_type": "code",
   "execution_count": null,
   "metadata": {},
   "outputs": [],
   "source": [
    "class FCanvas(Canvas, T.HasTraits):\n",
    "    height = T.Int(200).tag(sync=True)\n",
    "    elid = T.Unicode('').tag(sync=True)\n",
    "    def show(self, content=None, **kwargs):\n",
    "        prev_elid = self.elid\n",
    "        elid = new_id('brd-logger-')\n",
    "        s = content or ''\n",
    "        display(HTML(\n",
    "            f\"<div id='{elid}' class='brd-logger' \"\n",
    "            f\"style='width: 100%; max-height: {self.height}px;'>{(s+'<br>') if not prev_elid and s else ''}</div>\"), \n",
    "            metadata=kwargs)\n",
    "        time.sleep(0.25)\n",
    "        self.elid = elid\n",
    "        if prev_elid: \n",
    "            display(Javascript(f\"\"\"\n",
    "debugger;\n",
    "const prevEl = document.getElementById('{prev_elid}');\n",
    "let prevHtml = prevEl?.innerHTML ?? '';\n",
    "if (prevEl) prevEl.style.display = 'none';\n",
    "if (prevEl) prevEl.innerHTML = '';\n",
    "{self._el()}; if (el) {{ el.innerHTML = prevHtml + '{s.replace(\"'\", \"\\\\'\")}' + '<br>';\n",
    "el.scrollTop = el.scrollHeight;}}\n",
    "\"\"\"))\n",
    "    def hide(self): display(Javascript(f\"{self._el()} el.style.display = 'none'\"))\n",
    "    def add(self, content, **kwargs):\n",
    "        if content is not None: display(Javascript(self._js(str(content).replace(\"'\", \"\\\\'\"))))\n",
    "    def clear(self): display(Javascript(f\"{self._el()} el.innerHTML = ''\"))\n",
    "\n",
    "    def _el(self): return f\"const el=document.getElementById('{self.elid}')\"\n",
    "    def _js(self, s):\n",
    "        return f\"{self._el()}; if (el) {{el.innerHTML += '{s}'; el.scrollTop = el.scrollHeight;}}\""
   ]
  },
  {
   "cell_type": "code",
   "execution_count": null,
   "metadata": {},
   "outputs": [],
   "source": [
    "cnv = FCanvas(height=100)"
   ]
  },
  {
   "cell_type": "code",
   "execution_count": null,
   "metadata": {},
   "outputs": [
    {
     "data": {
      "text/html": [
       "<div id='brd-logger-_1-1757927577' class='brd-logger' style='width: 100%; max-height: 100px;'></div>"
      ],
      "text/plain": [
       "<bridget.helpers.HTML object>"
      ]
     },
     "metadata": {},
     "output_type": "display_data"
    }
   ],
   "source": [
    "cnv.show()"
   ]
  },
  {
   "cell_type": "code",
   "execution_count": null,
   "metadata": {},
   "outputs": [
    {
     "data": {
      "application/javascript": "const el=document.getElementById('brd-logger-_1-1757927577'); if (el) {el.innerHTML += 'a<br>'; el.scrollTop = el.scrollHeight;}",
      "text/plain": [
       "<IPython.core.display.Javascript object>"
      ]
     },
     "metadata": {},
     "output_type": "display_data"
    },
    {
     "data": {
      "application/javascript": "const el=document.getElementById('brd-logger-_1-1757927577'); if (el) {el.innerHTML += 'b<br>'; el.scrollTop = el.scrollHeight;}",
      "text/plain": [
       "<IPython.core.display.Javascript object>"
      ]
     },
     "metadata": {},
     "output_type": "display_data"
    },
    {
     "data": {
      "application/javascript": "const el=document.getElementById('brd-logger-_1-1757927577'); if (el) {el.innerHTML += 'c<br>'; el.scrollTop = el.scrollHeight;}",
      "text/plain": [
       "<IPython.core.display.Javascript object>"
      ]
     },
     "metadata": {},
     "output_type": "display_data"
    },
    {
     "data": {
      "application/javascript": "const el=document.getElementById('brd-logger-_1-1757927577'); if (el) {el.innerHTML += 'd<br>'; el.scrollTop = el.scrollHeight;}",
      "text/plain": [
       "<IPython.core.display.Javascript object>"
      ]
     },
     "metadata": {},
     "output_type": "display_data"
    },
    {
     "data": {
      "application/javascript": "const el=document.getElementById('brd-logger-_1-1757927577'); if (el) {el.innerHTML += 'e<br>'; el.scrollTop = el.scrollHeight;}",
      "text/plain": [
       "<IPython.core.display.Javascript object>"
      ]
     },
     "metadata": {},
     "output_type": "display_data"
    },
    {
     "data": {
      "application/javascript": "const el=document.getElementById('brd-logger-_1-1757927577'); if (el) {el.innerHTML += 'f<br>'; el.scrollTop = el.scrollHeight;}",
      "text/plain": [
       "<IPython.core.display.Javascript object>"
      ]
     },
     "metadata": {},
     "output_type": "display_data"
    },
    {
     "data": {
      "application/javascript": "const el=document.getElementById('brd-logger-_1-1757927577'); if (el) {el.innerHTML += 'g<br>'; el.scrollTop = el.scrollHeight;}",
      "text/plain": [
       "<IPython.core.display.Javascript object>"
      ]
     },
     "metadata": {},
     "output_type": "display_data"
    },
    {
     "data": {
      "application/javascript": "const el=document.getElementById('brd-logger-_1-1757927577'); if (el) {el.innerHTML += 'e<br>'; el.scrollTop = el.scrollHeight;}",
      "text/plain": [
       "<IPython.core.display.Javascript object>"
      ]
     },
     "metadata": {},
     "output_type": "display_data"
    },
    {
     "data": {
      "application/javascript": "const el=document.getElementById('brd-logger-_1-1757927577'); if (el) {el.innerHTML += 'h<br>'; el.scrollTop = el.scrollHeight;}",
      "text/plain": [
       "<IPython.core.display.Javascript object>"
      ]
     },
     "metadata": {},
     "output_type": "display_data"
    },
    {
     "data": {
      "application/javascript": "const el=document.getElementById('brd-logger-_1-1757927577'); if (el) {el.innerHTML += 'i<br>'; el.scrollTop = el.scrollHeight;}",
      "text/plain": [
       "<IPython.core.display.Javascript object>"
      ]
     },
     "metadata": {},
     "output_type": "display_data"
    },
    {
     "data": {
      "application/javascript": "const el=document.getElementById('brd-logger-_1-1757927577'); if (el) {el.innerHTML += 'j<br>'; el.scrollTop = el.scrollHeight;}",
      "text/plain": [
       "<IPython.core.display.Javascript object>"
      ]
     },
     "metadata": {},
     "output_type": "display_data"
    },
    {
     "data": {
      "application/javascript": "const el=document.getElementById('brd-logger-_1-1757927577'); if (el) {el.innerHTML += 'k<br>'; el.scrollTop = el.scrollHeight;}",
      "text/plain": [
       "<IPython.core.display.Javascript object>"
      ]
     },
     "metadata": {},
     "output_type": "display_data"
    }
   ],
   "source": [
    "for c in 'abcdefgehijk': cnv.add(f\"{c}<br>\")"
   ]
  },
  {
   "cell_type": "code",
   "execution_count": null,
   "metadata": {},
   "outputs": [
    {
     "data": {
      "application/javascript": "const el=document.getElementById('brd-logger-_1-1757927577'); if (el) {el.innerHTML += '<span class=\"ts\">1234567890</span> <span class=\"msg\">msg</span><br>'; el.scrollTop = el.scrollHeight;}",
      "text/plain": [
       "<IPython.core.display.Javascript object>"
      ]
     },
     "metadata": {},
     "output_type": "display_data"
    }
   ],
   "source": [
    "cnv.add(f'<span class=\"ts\">1234567890</span> <span class=\"msg\">msg</span><br>')"
   ]
  },
  {
   "cell_type": "code",
   "execution_count": null,
   "metadata": {},
   "outputs": [
    {
     "data": {
      "application/javascript": "const el=document.getElementById('brd-logger-_1-1757927577'); if (el) {el.innerHTML += 'lorem ipsum dolor sit \\'amet<br>'; el.scrollTop = el.scrollHeight;}",
      "text/plain": [
       "<IPython.core.display.Javascript object>"
      ]
     },
     "metadata": {},
     "output_type": "display_data"
    }
   ],
   "source": [
    "cnv.add(\"lorem ipsum dolor sit 'amet<br>\")"
   ]
  },
  {
   "cell_type": "code",
   "execution_count": null,
   "metadata": {},
   "outputs": [
    {
     "data": {
      "text/html": [
       "<div id='brd-logger-_2-1757927577' class='brd-logger' style='width: 100%; max-height: 100px;'></div>"
      ],
      "text/plain": [
       "<bridget.helpers.HTML object>"
      ]
     },
     "metadata": {},
     "output_type": "display_data"
    },
    {
     "data": {
      "application/javascript": "\ndebugger;\nconst prevEl = document.getElementById('brd-logger-_1-1757927577');\nlet prevHtml = prevEl?.innerHTML ?? '';\nif (prevEl) prevEl.style.display = 'none';\nif (prevEl) prevEl.innerHTML = '';\nconst el=document.getElementById('brd-logger-_2-1757927577'); if (el) { el.innerHTML = prevHtml + '' + '<br>';\nel.scrollTop = el.scrollHeight;}\n",
      "text/plain": [
       "<IPython.core.display.Javascript object>"
      ]
     },
     "metadata": {},
     "output_type": "display_data"
    }
   ],
   "source": [
    "cnv.show()"
   ]
  },
  {
   "cell_type": "code",
   "execution_count": null,
   "metadata": {},
   "outputs": [
    {
     "data": {
      "application/javascript": "const el=document.getElementById('brd-logger-_2-1757927577'); if (el) {el.innerHTML += '{\\'a\\': 1}'; el.scrollTop = el.scrollHeight;}",
      "text/plain": [
       "<IPython.core.display.Javascript object>"
      ]
     },
     "metadata": {},
     "output_type": "display_data"
    }
   ],
   "source": [
    "cnv.add({\"a\": 1})"
   ]
  },
  {
   "cell_type": "markdown",
   "metadata": {},
   "source": [
    "This is obviously ugly and unwieldy. We need a more usable canvas, one that doen't rely in IPython display system.. The only solution in modern Jupyter envs is a widget."
   ]
  },
  {
   "cell_type": "markdown",
   "metadata": {},
   "source": [
    "## FCanvas (widget)"
   ]
  },
  {
   "cell_type": "code",
   "execution_count": null,
   "metadata": {},
   "outputs": [],
   "source": [
    "os.environ['DEBUG_BRIDGET'] = 'True'"
   ]
  },
  {
   "cell_type": "code",
   "execution_count": null,
   "metadata": {},
   "outputs": [],
   "source": [
    "#| exporti\n",
    "\n",
    "fcanvas_js = BUNDLE_PATH / 'js/fcanvas.js'\n",
    "fcanvas_esm = bundled(fcanvas_js)()"
   ]
  },
  {
   "cell_type": "code",
   "execution_count": null,
   "metadata": {},
   "outputs": [],
   "source": [
    "fcanvas_esm = bundled(fcanvas_js)(debugger=DEBUG(), ts=True)"
   ]
  },
  {
   "cell_type": "code",
   "execution_count": null,
   "metadata": {},
   "outputs": [],
   "source": [
    "#| export\n",
    "\n",
    "class FCanvas(BridgeWidget, Canvas):\n",
    "    # _esm = anysource(fcanvas_esm, '''\n",
    "    _esm = '''\n",
    "const { FCanvas } = await brdimport('./fcanvas.js');\n",
    "export default { initialize({ model }) {\n",
    "  let fcanvas = new FCanvas(model);\n",
    "  model.set('_loaded', true); model.save_changes();\n",
    "  return () => { fcanvas.model = null; fcanvas = null; console.log('Canvas cleanup!'); }\n",
    "}}\n",
    "'''\n",
    "    _css = FCanvas_css\n",
    "\n",
    "    height = T.Int(200).tag(sync=True)\n",
    "    elid = T.Unicode('').tag(sync=True)\n",
    "    _displayed = T.Bool(False).tag(sync=True)\n",
    "    \n",
    "    def __init__(self, height:int=200, elid:str='', **kwargs):\n",
    "        if elid: display(self.tmpl(elid, height or self.height))\n",
    "        super().__init__(height=height, elid=elid, **kwargs)\n",
    "\n",
    "    @classmethod\n",
    "    def new_elid(cls): return new_id('brd-logger')\n",
    "\n",
    "    @classmethod\n",
    "    def tmpl(cls, elid, height, content=''):\n",
    "        return HTML(\n",
    "            f\"<div id='{elid}' class='brd-logger' \"\n",
    "            f\"style='width: 100%; max-height: {height}px;'>{content}</div>\")\n",
    "    \n",
    "    def displayed(self): return self._displayed\n",
    "    def show(self, content=None, **kwargs):\n",
    "        self.elid = elid = self.new_elid()\n",
    "        display(self.tmpl(elid, self.height))\n",
    "        res = self.send({'cmd': 'show', 'content': elid}, timeout=2)\n",
    "        if res[0] != empty:  # type: ignore\n",
    "            self._displayed = True\n",
    "            if content is not None: self.add(content, **kwargs)\n",
    "    def hide(self): self.send({'cmd': 'hide'})\n",
    "    def add(self, content, **kwargs): self.send({ 'cmd': 'update', 'content':str(content), 'kw':kwargs})\n",
    "    def clear(self): self.send({'cmd': 'clear'})\n",
    "    \n",
    "    def close(self, msg:str|None=None):\n",
    "        if self.comm is not None:\n",
    "            self.add('FCanvas Closed.<br>')\n",
    "            self.send = self.show = FC.noop  # type: ignore\n",
    "            super().close()"
   ]
  },
  {
   "cell_type": "code",
   "execution_count": null,
   "metadata": {},
   "outputs": [
    {
     "name": "stdout",
     "output_type": "stream",
     "text": [
      "moduleName='./fcanvas.js' buffers=[]\n"
     ]
    }
   ],
   "source": [
    "cleanupwidgets('cnv')\n",
    "\n",
    "cnv = FCanvas.create(height=100, timeout=3)\n",
    "test_eq(cnv.loaded(), True)"
   ]
  },
  {
   "cell_type": "code",
   "execution_count": null,
   "metadata": {},
   "outputs": [
    {
     "data": {
      "text/html": [
       "<div id='brd-logger_1-1757927577' class='brd-logger' style='width: 100%; max-height: 100px;'></div>"
      ],
      "text/plain": [
       "<bridget.helpers.HTML object>"
      ]
     },
     "metadata": {},
     "output_type": "display_data"
    }
   ],
   "source": [
    "cnv.show('hello')\n",
    "# test_eq(cnv.displayed(), True)"
   ]
  },
  {
   "cell_type": "code",
   "execution_count": null,
   "metadata": {},
   "outputs": [],
   "source": [
    "cnv.add(' bye<br>')"
   ]
  },
  {
   "cell_type": "code",
   "execution_count": null,
   "metadata": {},
   "outputs": [],
   "source": [
    "cnv.clear()"
   ]
  },
  {
   "cell_type": "code",
   "execution_count": null,
   "metadata": {},
   "outputs": [],
   "source": [
    "cnv.add('Goodbye to all that<br>')"
   ]
  },
  {
   "cell_type": "code",
   "execution_count": null,
   "metadata": {},
   "outputs": [],
   "source": [
    "cnv.add({'a': str(Path('a'))})  # convert to json, no '<br>'"
   ]
  },
  {
   "cell_type": "code",
   "execution_count": null,
   "metadata": {},
   "outputs": [],
   "source": [
    "cnv.add(f'<br><span class=\"ts\">1234567890</span> <span class=\"msg\">msg</span><br>')"
   ]
  },
  {
   "cell_type": "code",
   "execution_count": null,
   "metadata": {},
   "outputs": [],
   "source": [
    "cnv.hide()\n",
    "cnv.add('hideous!<br>')"
   ]
  },
  {
   "cell_type": "code",
   "execution_count": null,
   "metadata": {},
   "outputs": [
    {
     "data": {
      "text/html": [
       "<div id='brd-logger_2-1757927577' class='brd-logger' style='width: 100%; max-height: 100px;'></div>"
      ],
      "text/plain": [
       "<bridget.helpers.HTML object>"
      ]
     },
     "metadata": {},
     "output_type": "display_data"
    }
   ],
   "source": [
    "cnv.show()"
   ]
  },
  {
   "cell_type": "code",
   "execution_count": null,
   "metadata": {},
   "outputs": [],
   "source": [
    "cnv.close()"
   ]
  },
  {
   "cell_type": "code",
   "execution_count": null,
   "metadata": {},
   "outputs": [
    {
     "data": {
      "text/html": [
       "<div id='brd-logger_3-1757927577' class='brd-logger' style='width: 100%; max-height: 200px;'></div>"
      ],
      "text/plain": [
       "<bridget.helpers.HTML object>"
      ]
     },
     "metadata": {},
     "output_type": "display_data"
    }
   ],
   "source": [
    "cleanupwidgets('cnv')\n",
    "\n",
    "cnv = FCanvas.create(elid=FCanvas.new_elid())\n",
    "test_eq(cnv.loaded(), True)"
   ]
  },
  {
   "cell_type": "code",
   "execution_count": null,
   "metadata": {},
   "outputs": [],
   "source": [
    "cnv.add('Hi & Bi<br>')"
   ]
  },
  {
   "cell_type": "code",
   "execution_count": null,
   "metadata": {},
   "outputs": [],
   "source": [
    "cnv.close()"
   ]
  },
  {
   "cell_type": "markdown",
   "metadata": {},
   "source": [
    "# NBLogger"
   ]
  },
  {
   "cell_type": "code",
   "execution_count": null,
   "metadata": {},
   "outputs": [],
   "source": [
    "#| export\n",
    "\n",
    "_l2l = {'log':'INFO', 'error': 'ERROR', 'warn': 'WARN'}\n",
    "\n",
    "class NBLogger:\n",
    "    @property\n",
    "    def canvas(self) -> Canvas:...\n",
    "    def close_canvas(self):...\n",
    "    def show(self, msg=None, clear:bool=False, **kwargs):...\n",
    "    def msg(self, msg, clear:bool=False, **kwargs):...\n",
    "    def clear_log(self):...\n",
    "    def active(self, flag:bool|None=None, msg=None):...\n",
    "    \n",
    "    # hate stupid wiggly reds\n",
    "    if typing.TYPE_CHECKING:\n",
    "        def log(self, msg, clear:bool=False, **kwargs): ...\n",
    "        def error(self, msg, clear:bool=False, **kwargs): ...\n",
    "        def warn(self, msg, clear:bool=False, **kwargs): ...\n",
    "\n",
    "    def __init_subclass__(cls) -> None:\n",
    "        for n,l in _l2l.items(): setattr(cls, n, partialmethod(cls.msg, level=l))\n",
    "\n",
    "class NoopLogger(NBLogger):\n",
    "    def __getattr__(self, name:str): return FC.noop"
   ]
  },
  {
   "cell_type": "markdown",
   "metadata": {},
   "source": [
    "## BasicLogger"
   ]
  },
  {
   "cell_type": "code",
   "execution_count": null,
   "metadata": {},
   "outputs": [],
   "source": [
    "#| export\n",
    "\n",
    "class BasicLogger(NBLogger):\n",
    "    fmt, format, max_len = str, True, 140\n",
    "    def __init__(self, msg=None, canvas:Canvas|None=None, height:int=200, show:bool=True, history:bool=True, **kwargs):\n",
    "        self._canvas, self._active, self.height, self._closed = canvas, False, height, False\n",
    "        self._msgs = deque(maxlen=30) if history else None\n",
    "        if canvas : self.active(True)\n",
    "        elif show: self.show()\n",
    "        if msg: self.msg(msg, **kwargs)\n",
    "    \n",
    "    @property\n",
    "    def canvas(self): return self._canvas\n",
    "    def _setup_canvas(self, height:int): self._canvas = DhCanvas(height=height)\n",
    "    def close_canvas(self):\n",
    "        self.active(False)\n",
    "        if self._canvas and hasattr(self._canvas, 'close'): self._canvas.close()  # type: ignore\n",
    "        setattr(self, '_canvas', None); self._closed = True\n",
    "\n",
    "    def show(self, msg=None, clear:bool=False, **kwargs):\n",
    "        if self._closed: print('This logger is closed.'); return\n",
    "        if self.active() and self.canvas:\n",
    "            self.canvas.hide()\n",
    "            if clear: self.clear_log()\n",
    "        if self.canvas is None: self._setup_canvas(self.height)\n",
    "        if self.canvas:\n",
    "            self.canvas.show()\n",
    "            self.active(True, msg)\n",
    "    def _format(self, msg, fmt: Callable[[str], str]|str|None=None, truncate:bool=True, sep:str='<br>') -> str:\n",
    "        fmt = fmt or self.fmt\n",
    "        if self.max_len and truncate: s=shorten(msg, mode='r', limit=self.max_len)\n",
    "        if isinstance(fmt, str): return fmt.format(s=s)\n",
    "        return f\"{fmt(s)}{sep}\"\n",
    "    def msg(self, msg, clear:bool=False, format:bool|None=True, \n",
    "            fmt: Callable[[str], str]|str|None=None, truncate:bool=True, sep:str='<br>', **kwargs):\n",
    "        if not self.active(): return\n",
    "        if clear: self.clear_log()\n",
    "        if not msg: return\n",
    "        format =  format if format is not None else self.format\n",
    "        self.canvas.add(self._format(msg, fmt, truncate, sep) if format else msg, **kwargs)  # type: ignore\n",
    "        if self._msgs is not None: self._msgs.append(msg)\n",
    "    def clear_log(self):\n",
    "        if self.canvas: self.canvas.clear()\n",
    "        if self._msgs is not None: self._msgs.clear()\n",
    "    def active(self, flag: bool|None=None, msg=None):\n",
    "        if self.canvas is None: return False\n",
    "        if flag is not None:\n",
    "            if not flag and self._active: self.msg(msg)\n",
    "            self._active = flag\n",
    "            if flag: self.msg(msg)\n",
    "        return self._active\n",
    "    \n",
    "    def history(self) -> tuple: return tuple(self._msgs or ())"
   ]
  },
  {
   "cell_type": "code",
   "execution_count": null,
   "metadata": {},
   "outputs": [
    {
     "data": {
      "text/html": [],
      "text/plain": [
       "<bridget.helpers.HTML object>"
      ]
     },
     "metadata": {},
     "output_type": "display_data"
    }
   ],
   "source": [
    "bl = BasicLogger('BasicLogger initialized', height=100)"
   ]
  },
  {
   "cell_type": "code",
   "execution_count": null,
   "metadata": {},
   "outputs": [],
   "source": [
    "for i,x in enumerate(range(10)): bl.log(f'test{i}')"
   ]
  },
  {
   "cell_type": "code",
   "execution_count": null,
   "metadata": {},
   "outputs": [],
   "source": [
    "bl.msg(f'''<span style=\"color: red;\">{'red '*100}</span>''')"
   ]
  },
  {
   "cell_type": "code",
   "execution_count": null,
   "metadata": {},
   "outputs": [
    {
     "data": {
      "text/plain": [
       "'<span style=\"color: red;\">red red red red red red red red red red red red red red red red red red red red red red red red red red red red red red red red red red red red red red red red red red red red red red red red red red red red red red red red red red red red red red red red red red red red red red red red red red red red red red red red red red red red red red red red red red red red red red red red red red red red </span>'"
      ]
     },
     "execution_count": null,
     "metadata": {},
     "output_type": "execute_result"
    }
   ],
   "source": [
    "bl.history()[-1]"
   ]
  },
  {
   "cell_type": "markdown",
   "metadata": {},
   "source": [
    "Wrong HTML: the message is shortened with the HTML format"
   ]
  },
  {
   "cell_type": "code",
   "execution_count": null,
   "metadata": {},
   "outputs": [],
   "source": [
    "bl.log('green '*100, fmt='<span style=\"color: green;\">{s}</span><br>')"
   ]
  },
  {
   "cell_type": "code",
   "execution_count": null,
   "metadata": {},
   "outputs": [
    {
     "data": {
      "text/html": [],
      "text/plain": [
       "<bridget.helpers.HTML object>"
      ]
     },
     "metadata": {},
     "output_type": "display_data"
    }
   ],
   "source": [
    "bl.show()"
   ]
  },
  {
   "cell_type": "code",
   "execution_count": null,
   "metadata": {},
   "outputs": [
    {
     "data": {
      "text/plain": [
       "False"
      ]
     },
     "execution_count": null,
     "metadata": {},
     "output_type": "execute_result"
    }
   ],
   "source": [
    "bl.active(False, 'BasicLogger disabled')"
   ]
  },
  {
   "cell_type": "code",
   "execution_count": null,
   "metadata": {},
   "outputs": [],
   "source": [
    "bl.error('test')"
   ]
  },
  {
   "cell_type": "code",
   "execution_count": null,
   "metadata": {},
   "outputs": [
    {
     "data": {
      "text/html": [
       "<div style='max-height:100px;border: 0.5px solid lightblue; overflow: auto;'>Enabled<br>BasicLogger disabled<br><span style=\"color: green;\">green green green green green green green green green green green green green green green green green green green green green green green gr…</span><br><span style=\"color: red;\">red red red red red red red red red red red red red red red red red red red red red red red red red red red red re…<br>test9<br>test8<br>test7<br>test6<br>test5<br>test4<br>test3<br>test2<br>test1<br>test0<br>BasicLogger initialized<br></div>"
      ],
      "text/plain": [
       "<bridget.helpers.HTML object>"
      ]
     },
     "metadata": {},
     "output_type": "display_data"
    }
   ],
   "source": [
    "bl.show(\"Enabled\")"
   ]
  },
  {
   "cell_type": "code",
   "execution_count": null,
   "metadata": {},
   "outputs": [
    {
     "name": "stdout",
     "output_type": "stream",
     "text": [
      "This logger is closed.\n"
     ]
    }
   ],
   "source": [
    "bl.close_canvas()\n",
    "bl.show()\n",
    "bl.log('closed')\n",
    "test_eq(bl.active(), False)"
   ]
  },
  {
   "cell_type": "markdown",
   "metadata": {},
   "source": [
    "## FLogger"
   ]
  },
  {
   "cell_type": "code",
   "execution_count": null,
   "metadata": {},
   "outputs": [],
   "source": [
    "#| export\n",
    "\n",
    "class FLogger(BasicLogger):\n",
    "    canvas: FCanvas\n",
    "    def _setup_canvas(self, height:int): self._canvas = FCanvas.create(height=height, timeout=2)"
   ]
  },
  {
   "cell_type": "code",
   "execution_count": null,
   "metadata": {},
   "outputs": [
    {
     "data": {
      "text/html": [
       "<div id='brd-logger_4-1757927577' class='brd-logger' style='width: 100%; max-height: 100px;'></div>"
      ],
      "text/plain": [
       "<bridget.helpers.HTML object>"
      ]
     },
     "metadata": {},
     "output_type": "display_data"
    }
   ],
   "source": [
    "bl = FLogger('FLogger initialized', FCanvas.create(height=100, elid=FCanvas.new_elid(), timeout=2))"
   ]
  },
  {
   "cell_type": "code",
   "execution_count": null,
   "metadata": {},
   "outputs": [],
   "source": [
    "for i,x in enumerate(range(5)): bl.log(f'test{i}')"
   ]
  },
  {
   "cell_type": "code",
   "execution_count": null,
   "metadata": {},
   "outputs": [],
   "source": [
    "bl.error('red '*100, fmt=lambda s: f'<span style=\"color: red;\">{s}</span>')"
   ]
  },
  {
   "cell_type": "code",
   "execution_count": null,
   "metadata": {},
   "outputs": [
    {
     "data": {
      "text/html": [
       "<div id='brd-logger_5-1757927577' class='brd-logger' style='width: 100%; max-height: 100px;'></div>"
      ],
      "text/plain": [
       "<bridget.helpers.HTML object>"
      ]
     },
     "metadata": {},
     "output_type": "display_data"
    }
   ],
   "source": [
    "bl.show()"
   ]
  },
  {
   "cell_type": "code",
   "execution_count": null,
   "metadata": {},
   "outputs": [
    {
     "data": {
      "text/plain": [
       "False"
      ]
     },
     "execution_count": null,
     "metadata": {},
     "output_type": "execute_result"
    }
   ],
   "source": [
    "bl.active(False, 'FLogger disabled')"
   ]
  },
  {
   "cell_type": "code",
   "execution_count": null,
   "metadata": {},
   "outputs": [],
   "source": [
    "bl.log('test')"
   ]
  },
  {
   "cell_type": "code",
   "execution_count": null,
   "metadata": {},
   "outputs": [
    {
     "name": "stdout",
     "output_type": "stream",
     "text": [
      "This logger is closed.\n"
     ]
    }
   ],
   "source": [
    "bl.close_canvas()\n",
    "bl.log('closed')\n",
    "bl.show()\n",
    "test_eq(bl.active(), False)"
   ]
  },
  {
   "cell_type": "markdown",
   "metadata": {},
   "source": [
    "## Loguru logger (WIP)"
   ]
  },
  {
   "cell_type": "code",
   "execution_count": null,
   "metadata": {},
   "outputs": [],
   "source": [
    "#| exporti\n",
    "\n",
    "level_colors = {\n",
    "    \"DEBUG\": \"#666666\",    # gray\n",
    "    \"INFO\": \"#000000\",     # black\n",
    "    \"SUCCESS\": \"#007700\",  # green\n",
    "    \"WARNING\": \"#ff8800\",  # orange\n",
    "    \"ERROR\": \"#ff0000\",    # red\n",
    "    \"CRITICAL\": \"#880000\", # dark red\n",
    "}"
   ]
  },
  {
   "cell_type": "code",
   "execution_count": null,
   "metadata": {},
   "outputs": [],
   "source": [
    "class LoguruBasicLogger(BasicLogger):\n",
    "    def __init__(self): \n",
    "        super().__init__()\n",
    "        self._fmt = FC.noop\n",
    "    \n",
    "    def write(self, message: str) -> None:\n",
    "        if rec := getattr(message, 'record', None):\n",
    "            level = rec['level'].name\n",
    "        else: \n",
    "            for level in level_colors: \n",
    "                if level in message: break\n",
    "        # message = f\"<span style='color: {level_colors[level]}'>{message}</span>\"\n",
    "        # self.msg(message, fmt=lambda s:f\"<span style='color: {level_colors[level]}'>{s}</span>\")\n",
    "        self.msg(message, fmt=f\"<span style='color: {level_colors[level]}'>\"\"{s}</span><br>\")"
   ]
  },
  {
   "cell_type": "code",
   "execution_count": null,
   "metadata": {},
   "outputs": [
    {
     "data": {
      "text/html": [
       "<div style='max-height:200px;border: 0.5px solid lightblue; overflow: auto;'><span style='color: #ff0000'>ERROR | This is an error\n",
       "</span><br><span style='color: #ff8800'>WARNING | This is a warning\n",
       "</span><br><span style='color: #000000'>INFO | This is an info message\n",
       "</span><br><span style='color: #666666'>DEBUG | This is a debug message\n",
       "</span><br></div>"
      ],
      "text/plain": [
       "<bridget.helpers.HTML object>"
      ]
     },
     "metadata": {},
     "output_type": "display_data"
    }
   ],
   "source": [
    "logger.remove()  # Remove default handler\n",
    "handler_id = logger.add(\n",
    "    (lbl := LoguruBasicLogger()).write, \n",
    "    format=\"{level} | {message}\",  # Simple format, we'll add HTML in the sink\n",
    "    colorize=False  # Disable ANSI colors\n",
    ")"
   ]
  },
  {
   "cell_type": "code",
   "execution_count": null,
   "metadata": {},
   "outputs": [],
   "source": [
    "logger.debug(\"This is a debug message\")\n",
    "logger.info(\"This is an info message\")\n",
    "logger.warning(\"This is a warning\")\n",
    "logger.error(\"This is an error\")"
   ]
  },
  {
   "cell_type": "code",
   "execution_count": null,
   "metadata": {},
   "outputs": [],
   "source": [
    "class LoguruBasicLogger(BasicLogger):\n",
    "    def __init__(self):\n",
    "        super().__init__()\n",
    "        self.fmt = FC.noop\n",
    "    \n",
    "    def _format(self, msg, fmt: Callable[[str], str]|str|None=None, truncate:bool=True, sep:str='') -> str:\n",
    "        rec = getattr(msg, 'record', json.loads(msg))\n",
    "        return (\n",
    "            f\"<div style='display: flex; gap: 8px'>\"\n",
    "            f\"<span style='color: #888'>{rec['time'].strftime('%H:%M:%S')}</span>\"\n",
    "            f\"<span style='color: {level_colors[rec['level'].name]}'>{rec['level'].name:8}</span>\"\n",
    "            f\"<span>{shorten(rec['message'], mode='r', limit=self.max_len or 140)}</span>\"\n",
    "            f\"</div>\"\n",
    "        )\n",
    "\n",
    "    def write(self, message:str) -> None:\n",
    "        self.msg(message, sep='')\n",
    "        # self.msg(formatted_msg)\n",
    "    \n",
    "\n",
    "def configure_logger(basic_logger: BasicLogger) -> int:\n",
    "    \"\"\"Configure loguru to use a specific BasicLogger instance.\"\"\"\n",
    "    logger.remove()\n",
    "    return logger.add(\n",
    "        basic_logger.write,  # type: ignore\n",
    "        serialize=True  # This makes loguru pass a json to write()\n",
    "    )"
   ]
  },
  {
   "cell_type": "code",
   "execution_count": null,
   "metadata": {},
   "outputs": [
    {
     "data": {
      "text/html": [
       "<div style='max-height:200px;border: 0.5px solid lightblue; overflow: auto;'><div style='display: flex; gap: 8px'><span style='color: #888'>11:13:05</span><span style='color: #ff0000'>ERROR   </span><span>This is an error</span></div><div style='display: flex; gap: 8px'><span style='color: #888'>11:13:05</span><span style='color: #ff8800'>WARNING </span><span>This is a warning</span></div><div style='display: flex; gap: 8px'><span style='color: #888'>11:13:05</span><span style='color: #000000'>INFO    </span><span>This is an info message</span></div><div style='display: flex; gap: 8px'><span style='color: #888'>11:13:05</span><span style='color: #666666'>DEBUG   </span><span>This is a debug message</span></div></div>"
      ],
      "text/plain": [
       "<bridget.helpers.HTML object>"
      ]
     },
     "metadata": {},
     "output_type": "display_data"
    }
   ],
   "source": [
    "lbl = LoguruBasicLogger()\n",
    "handler_id = configure_logger(lbl)"
   ]
  },
  {
   "cell_type": "code",
   "execution_count": null,
   "metadata": {},
   "outputs": [],
   "source": [
    "logger.debug(\"This is a debug message\")\n",
    "logger.info(\"This is an info message\")\n",
    "logger.warning(\"This is a warning\")\n",
    "logger.error(\"This is an error\")"
   ]
  },
  {
   "cell_type": "code",
   "execution_count": null,
   "metadata": {},
   "outputs": [],
   "source": [
    "#| exporti\n",
    "\n",
    "@FC.patch\n",
    "def setup_loguru_sink(self: BasicLogger, logger):\n",
    "    def sink(message:str) -> None:\n",
    "        rec = getattr(message, 'record', None) or json.loads(message)\n",
    "        formatted_msg = (\n",
    "            f\"<div style='display: flex; gap: 8px'>\"\n",
    "            f\"<span style='color: #888'>{rec['time'].strftime('%H:%M:%S.%f')}</span>\"\n",
    "            f\"<span style='width: 4em; color: {level_colors[rec['level'].name]}'>{rec['level'].name.lower():8}</span>\"\n",
    "            # f\"<span>{rec['level'].icon}</span>\"\n",
    "            f\"<span>{shorten(rec['message'], mode='r', limit=self.max_len or 140)}</span>\"\n",
    "            f\"</div>\"\n",
    "        )\n",
    "        self.msg(formatted_msg, format=False)\n",
    "    \n",
    "    logger.remove()\n",
    "    logger.add(\n",
    "        sink, \n",
    "        # format=\"<span style='color: {level.color}'>{message}</span>\",\n",
    "        # colorize=True\n",
    "        # serialize=True\n",
    "    )\n",
    "    return sink"
   ]
  },
  {
   "cell_type": "code",
   "execution_count": null,
   "metadata": {},
   "outputs": [
    {
     "data": {
      "text/html": [
       "<div style='max-height:200px;border: 0.5px solid lightblue; overflow: auto;'><div style='display: flex; gap: 8px'><span style='color: #888'>11:13:05.059707</span><span style='width: 4em; color: #ff0000'>error   </span><span>This is an error</span></div><div style='display: flex; gap: 8px'><span style='color: #888'>11:13:05.059161</span><span style='width: 4em; color: #ff8800'>warning </span><span>This is a warning</span></div><div style='display: flex; gap: 8px'><span style='color: #888'>11:13:05.058461</span><span style='width: 4em; color: #000000'>info    </span><span>This is an info message</span></div><div style='display: flex; gap: 8px'><span style='color: #888'>11:13:05.057876</span><span style='width: 4em; color: #666666'>debug   </span><span>This is a debug message</span></div></div>"
      ],
      "text/plain": [
       "<bridget.helpers.HTML object>"
      ]
     },
     "metadata": {},
     "output_type": "display_data"
    }
   ],
   "source": [
    "(my_logger := BasicLogger()).setup_loguru_sink(logger);  # type: ignore"
   ]
  },
  {
   "cell_type": "code",
   "execution_count": null,
   "metadata": {},
   "outputs": [],
   "source": [
    "logger.debug(\"This is a debug message\")\n",
    "logger.info(\"This is an info message\")\n",
    "logger.warning(\"This is a warning\")\n",
    "logger.error(\"This is an error\")"
   ]
  },
  {
   "cell_type": "code",
   "execution_count": null,
   "metadata": {},
   "outputs": [
    {
     "data": {
      "text/html": [
       "<div id='brd-logger_6-1757927577' class='brd-logger' style='width: 100%; max-height: 200px;'></div>"
      ],
      "text/plain": [
       "<bridget.helpers.HTML object>"
      ]
     },
     "metadata": {},
     "output_type": "display_data"
    }
   ],
   "source": [
    "(my_flogger := FLogger()).setup_loguru_sink(logger);  # type: ignore"
   ]
  },
  {
   "cell_type": "code",
   "execution_count": null,
   "metadata": {},
   "outputs": [],
   "source": [
    "logger.debug(\"This is a debug message\")\n",
    "logger.info(\"This is an info message\")\n",
    "logger.warning(\"This is a warning\")\n",
    "logger.error(\"This is an error\")"
   ]
  },
  {
   "cell_type": "code",
   "execution_count": null,
   "metadata": {},
   "outputs": [],
   "source": [
    "my_flogger.close_canvas()"
   ]
  },
  {
   "cell_type": "markdown",
   "metadata": {},
   "source": [
    "# Colophon\n",
    "----"
   ]
  },
  {
   "cell_type": "code",
   "execution_count": null,
   "metadata": {},
   "outputs": [],
   "source": [
    "import fastcore.all as FC\n",
    "import nbdev\n",
    "from nbdev.clean import nbdev_clean\n",
    "from olio.basic import bundle_path\n",
    "from bridget.bridge_widget import bundled"
   ]
  },
  {
   "cell_type": "code",
   "execution_count": null,
   "metadata": {},
   "outputs": [],
   "source": [
    "if FC.IN_NOTEBOOK:\n",
    "    BUNDLE_PATH = bundle_path(__name__)\n",
    "    for f in ['fcanvas']: bundled(BUNDLE_PATH / f'js/{f}.js')()\n",
    "    nb_path = '11_logger.ipynb'\n",
    "    # nbdev_clean(nb_path)\n",
    "    nbdev.nbdev_export(nb_path)"
   ]
  }
 ],
 "metadata": {
  "kernelspec": {
   "display_name": "python3",
   "language": "python",
   "name": "python3"
  }
 },
 "nbformat": 4,
 "nbformat_minor": 4
}
