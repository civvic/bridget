{
 "cells": [
  {
   "cell_type": "code",
   "execution_count": 1,
   "metadata": {
    "brd": {
     "id": "2ec0ca6a-68fc-4921-b201-6b2ca9212e5d"
    }
   },
   "outputs": [],
   "source": [
    "#| default_exp logger"
   ]
  },
  {
   "cell_type": "code",
   "execution_count": 2,
   "metadata": {
    "brd": {
     "id": "445e8b2a-427b-4cb7-b46a-2f57c250b3d0"
    }
   },
   "outputs": [],
   "source": [
    "#| export\n",
    "from __future__ import annotations"
   ]
  },
  {
   "cell_type": "markdown",
   "metadata": {},
   "source": [
    "# Helpers\n",
    "\n",
    "> ..."
   ]
  },
  {
   "cell_type": "markdown",
   "metadata": {},
   "source": [
    "# Prologue"
   ]
  },
  {
   "cell_type": "code",
   "execution_count": 3,
   "metadata": {
    "brd": {
     "id": "8d2015f5-670b-474d-bdf9-d8461148db59"
    }
   },
   "outputs": [],
   "source": [
    "#| export\n",
    "import json\n",
    "import typing\n",
    "from collections import deque\n",
    "from functools import partialmethod\n",
    "from typing import Callable\n",
    "\n",
    "import fastcore.all as FC\n",
    "import traitlets as T\n",
    "from fasthtml.xtend import Style\n",
    "from IPython.display import display\n",
    "from olio.basic import bundle_path\n",
    "from olio.basic import empty\n",
    "from olio.common import shorten\n"
   ]
  },
  {
   "cell_type": "code",
   "execution_count": 4,
   "metadata": {
    "brd": {
     "id": "21e00fa5-faf4-4792-a292-dd91da374b0d"
    }
   },
   "outputs": [],
   "source": [
    "#| export\n",
    "from bridget.bridge_widget import BridgeWidget\n",
    "from bridget.bridge_widget import bundled\n",
    "from bridget.helpers import displaydh\n",
    "from bridget.helpers import HTML\n",
    "from bridget.helpers import id_gen\n"
   ]
  },
  {
   "cell_type": "code",
   "execution_count": 5,
   "metadata": {
    "brd": {
     "id": "06a3b87a-8cd0-4a2c-b682-d721d4358c4d"
    }
   },
   "outputs": [],
   "source": [
    "import os\n",
    "import time\n",
    "from pathlib import Path\n",
    "\n",
    "from fastcore.test import *\n",
    "from fastcore.xml import to_xml\n",
    "from IPython.display import Javascript\n",
    "from loguru import logger\n",
    "from olio.common import setup_console\n",
    "from olio.test import test_raises\n",
    "from olio.widget import cleanupwidgets\n"
   ]
  },
  {
   "cell_type": "code",
   "execution_count": 6,
   "metadata": {
    "brd": {
     "id": "f47927d4-daa8-4a03-b5cc-617da3810a73"
    }
   },
   "outputs": [],
   "source": [
    "import bridget\n",
    "from bridget.helpers import arun_command\n",
    "from bridget.helpers import DEBUG\n"
   ]
  },
  {
   "attachments": {},
   "cell_type": "markdown",
   "metadata": {},
   "source": [
    "----"
   ]
  },
  {
   "cell_type": "code",
   "execution_count": 7,
   "metadata": {
    "brd": {
     "id": "b9284a07-3138-4d8e-af3e-f7eb1a920bcc"
    }
   },
   "outputs": [],
   "source": [
    "#| exporti\n",
    "\n",
    "new_id = id_gen()\n",
    "BUNDLE_PATH = bundle_path(__name__)"
   ]
  },
  {
   "cell_type": "code",
   "execution_count": 8,
   "metadata": {
    "brd": {
     "id": "834bb06b-131a-4841-a31f-3eeadfb7110a"
    }
   },
   "outputs": [],
   "source": [
    "console, cprint = setup_console(140)"
   ]
  },
  {
   "cell_type": "code",
   "execution_count": 9,
   "metadata": {
    "brd": {
     "id": "7f130eaa-ea01-4aa6-9ae0-22c4f4aa35da"
    }
   },
   "outputs": [],
   "source": [
    "#| exporti\n",
    "\n",
    "_n = '\\n'"
   ]
  },
  {
   "attachments": {},
   "cell_type": "markdown",
   "metadata": {},
   "source": [
    "----"
   ]
  },
  {
   "cell_type": "markdown",
   "metadata": {},
   "source": [
    "# Canvas and Logger"
   ]
  },
  {
   "cell_type": "markdown",
   "metadata": {},
   "source": [
    "# Canvas\n",
    "> Places to display content"
   ]
  },
  {
   "cell_type": "code",
   "execution_count": 10,
   "metadata": {
    "brd": {
     "id": "1dc17ced-3963-41f9-8f23-3cb68b28a5dc"
    }
   },
   "outputs": [],
   "source": [
    "#| export\n",
    "\n",
    "class Canvas:\n",
    "    def show(self, content=None, **kwargs):...\n",
    "    def hide(self):...\n",
    "    def add(self, content, **kwargs):...\n",
    "    def clear(self, history:bool=True):..."
   ]
  },
  {
   "cell_type": "markdown",
   "metadata": {},
   "source": [
    "## DHCanvas"
   ]
  },
  {
   "cell_type": "code",
   "execution_count": 11,
   "metadata": {
    "brd": {
     "id": "2203932a-0185-4574-b002-f6824778edac"
    }
   },
   "outputs": [],
   "source": [
    "#| export\n",
    "\n",
    "class DhCanvas(Canvas):\n",
    "    _stl = 'border: 0.5px solid lightblue; overflow: auto;'\n",
    "    def __init__(self, height:int=200):\n",
    "        self.height, self._h, self._dh =  height, '', None\n",
    "    @property\n",
    "    def dh(self):\n",
    "        if not self._dh: self._dh = displaydh()\n",
    "        return self._dh\n",
    "    def show(self, content=None, **kwargs):\n",
    "        if self._dh: self.hide(); self._dh = None\n",
    "        self.add(content or '', **kwargs)\n",
    "    def hide(self): self.dh.update(HTML(''))\n",
    "    def add(self, content, **kwargs):\n",
    "        if content is not None:\n",
    "            self._h = str(content) + self._h\n",
    "            self.dh.update(HTML(f\"<div style='max-height:{self.height}px;{self._stl}'>{self._h}</div>\"), metadata=kwargs)\n",
    "    def clear(self): self._h = ''; self.hide()"
   ]
  },
  {
   "cell_type": "code",
   "execution_count": 12,
   "metadata": {
    "brd": {
     "id": "9bc930e1-bb6e-4d93-886e-857f35a96ba1"
    }
   },
   "outputs": [],
   "source": [
    "cnv = DhCanvas(height=200)"
   ]
  },
  {
   "cell_type": "code",
   "execution_count": 13,
   "metadata": {
    "brd": {
     "id": "1909d1b2-ed95-449c-b085-bd537b0219f2"
    }
   },
   "outputs": [
    {
     "data": {
      "text/html": [],
      "text/plain": [
       "<bridget.helpers.HTML object>"
      ]
     },
     "metadata": {},
     "output_type": "display_data"
    }
   ],
   "source": [
    "cnv.show(\"What's up, world!<br>\")"
   ]
  },
  {
   "cell_type": "code",
   "execution_count": 14,
   "metadata": {
    "brd": {
     "id": "60ee1917-05d1-4942-9ba5-8215634f999a"
    }
   },
   "outputs": [],
   "source": [
    "cnv.add(\"Take me to your leader.<br>\")"
   ]
  },
  {
   "cell_type": "code",
   "execution_count": 15,
   "metadata": {
    "brd": {
     "id": "2bc56b9b-97b0-43e0-9675-9c23372a3866"
    }
   },
   "outputs": [],
   "source": [
    "cnv.clear()"
   ]
  },
  {
   "cell_type": "code",
   "execution_count": 16,
   "metadata": {
    "brd": {
     "id": "9a2fb3a6-3f8e-4509-a54b-4ad0a9741adc"
    }
   },
   "outputs": [],
   "source": [
    "cnv.add('<b>There and Back Again</b><br>')"
   ]
  },
  {
   "cell_type": "code",
   "execution_count": 17,
   "metadata": {
    "brd": {
     "id": "4a88b9ac-11c6-4089-be86-9c5a5ed23711"
    }
   },
   "outputs": [
    {
     "data": {
      "text/html": [
       "<div style='max-height:200px;border: 0.5px solid lightblue; overflow: auto;'><br>\n",
       "<b>There and Back Again</b><br></div>"
      ],
      "text/plain": [
       "<bridget.helpers.HTML object>"
      ]
     },
     "metadata": {},
     "output_type": "display_data"
    }
   ],
   "source": [
    "cnv.show()"
   ]
  },
  {
   "cell_type": "code",
   "execution_count": 18,
   "metadata": {
    "brd": {
     "id": "51cb3fcc-c7b7-4fe3-adc4-f7d947497455"
    }
   },
   "outputs": [],
   "source": [
    "cnv.add('')"
   ]
  },
  {
   "cell_type": "code",
   "execution_count": 19,
   "metadata": {
    "brd": {
     "id": "5930333a-b37a-4b2a-8577-66f82b49fe9d"
    }
   },
   "outputs": [],
   "source": [
    "cnv.add('\\n')"
   ]
  },
  {
   "cell_type": "code",
   "execution_count": 20,
   "metadata": {
    "brd": {
     "id": "fa77cf5e-06bc-4ba2-8b4f-ed36f198d0b6"
    }
   },
   "outputs": [],
   "source": [
    "cnv.add('<br>')"
   ]
  },
  {
   "cell_type": "markdown",
   "metadata": {},
   "source": [
    "## FCanvas (kernel)\n",
    "> HTML element with a well-known id."
   ]
  },
  {
   "cell_type": "code",
   "execution_count": 21,
   "metadata": {
    "brd": {
     "id": "4b46b942-0011-4beb-bc54-2ae94cbd8910"
    }
   },
   "outputs": [],
   "source": [
    "#| export\n",
    "\n",
    "FCanvas_css = '''\n",
    "  @scope (.brd-logger) {\n",
    "    :scope { \n",
    "      border: 1px solid steelblue; \n",
    "      overflow: auto; \n",
    "      font-family: monospace; \n",
    "      font-size: 13px; \n",
    "    }\n",
    "    .ts { color:lightgray; }\n",
    "  }\n",
    "'''\n",
    "FCanvas_stl = Style(FCanvas_css, id='brd-logger-stl')"
   ]
  },
  {
   "cell_type": "code",
   "execution_count": 22,
   "metadata": {
    "brd": {
     "id": "bd809ea0-c037-495a-9665-56b64c8d9f1a"
    }
   },
   "outputs": [
    {
     "data": {
      "text/html": [
       "<style id=\"brd-logger-stl\">\n",
       "  @scope (.brd-logger) {\n",
       "    :scope { \n",
       "      border: 1px solid steelblue; \n",
       "      overflow: auto; \n",
       "      font-family: monospace; \n",
       "      font-size: 13px; \n",
       "    }\n",
       "    .ts { color:lightgray; }\n",
       "  }\n",
       "</style>\n"
      ],
      "text/plain": [
       "<bridget.helpers.HTML object>"
      ]
     },
     "metadata": {},
     "output_type": "display_data"
    }
   ],
   "source": [
    "display(HTML(FCanvas_stl))"
   ]
  },
  {
   "cell_type": "code",
   "execution_count": 23,
   "metadata": {
    "brd": {
     "id": "f586e8c1-2623-4f73-8c2c-cdb800457573"
    }
   },
   "outputs": [],
   "source": [
    "class FCanvas(Canvas, T.HasTraits):\n",
    "    height = T.Int(200).tag(sync=True)\n",
    "    elid = T.Unicode('').tag(sync=True)\n",
    "    def show(self, content=None, **kwargs):\n",
    "        prev_elid = self.elid\n",
    "        elid = new_id('brd-logger-')\n",
    "        s = content or ''\n",
    "        display(HTML(\n",
    "            f\"<div id='{elid}' class='brd-logger' \"\n",
    "            f\"style='width: 100%; max-height: {self.height}px;'>{(s+'<br>') if not prev_elid and s else ''}</div>\"), \n",
    "            metadata=kwargs)\n",
    "        time.sleep(0.25)\n",
    "        self.elid = elid\n",
    "        if prev_elid: \n",
    "            display(Javascript(f\"\"\"\n",
    "debugger;\n",
    "const prevEl = document.getElementById('{prev_elid}');\n",
    "let prevHtml = prevEl?.innerHTML ?? '';\n",
    "if (prevEl) prevEl.style.display = 'none';\n",
    "if (prevEl) prevEl.innerHTML = '';\n",
    "{self._el()}; if (el) {{ el.innerHTML = prevHtml + '{s.replace(\"'\", \"\\\\'\")}' + '<br>';\n",
    "el.scrollTop = el.scrollHeight;}}\n",
    "\"\"\"))\n",
    "    def hide(self): display(Javascript(f\"{self._el()} el.style.display = 'none'\"))\n",
    "    def add(self, content, **kwargs):\n",
    "        if content is not None: display(Javascript(self._js(str(content).replace(\"'\", \"\\\\'\"))))\n",
    "    def clear(self): display(Javascript(f\"{self._el()} el.innerHTML = ''\"))\n",
    "\n",
    "    def _el(self): return f\"const el=document.getElementById('{self.elid}')\"\n",
    "    def _js(self, s):\n",
    "        return f\"{self._el()}; if (el) {{el.innerHTML += '{s}'; el.scrollTop = el.scrollHeight;}}\""
   ]
  },
  {
   "cell_type": "code",
   "execution_count": 24,
   "metadata": {
    "brd": {
     "id": "84c68d1b-60d1-484b-bcfc-e1164677adae"
    }
   },
   "outputs": [],
   "source": [
    "cnv = FCanvas(height=100)"
   ]
  },
  {
   "cell_type": "code",
   "execution_count": 25,
   "metadata": {
    "brd": {
     "id": "5c67abc2-3739-4415-b202-b05a8fb5e764"
    }
   },
   "outputs": [
    {
     "data": {
      "text/html": [
       "<div id='brd-logger-_1-1757327075' class='brd-logger' style='width: 100%; max-height: 100px;'></div>"
      ],
      "text/plain": [
       "<bridget.helpers.HTML object>"
      ]
     },
     "metadata": {},
     "output_type": "display_data"
    }
   ],
   "source": [
    "cnv.show()"
   ]
  },
  {
   "cell_type": "code",
   "execution_count": 26,
   "metadata": {
    "brd": {
     "id": "3835a97f-1903-4999-9c48-e2719f1e94b8"
    }
   },
   "outputs": [
    {
     "data": {
      "application/javascript": "const el=document.getElementById('brd-logger-_1-1757327075'); if (el) {el.innerHTML += 'a<br>'; el.scrollTop = el.scrollHeight;}",
      "text/plain": [
       "<IPython.core.display.Javascript object>"
      ]
     },
     "metadata": {},
     "output_type": "display_data"
    },
    {
     "data": {
      "application/javascript": "const el=document.getElementById('brd-logger-_1-1757327075'); if (el) {el.innerHTML += 'b<br>'; el.scrollTop = el.scrollHeight;}",
      "text/plain": [
       "<IPython.core.display.Javascript object>"
      ]
     },
     "metadata": {},
     "output_type": "display_data"
    },
    {
     "data": {
      "application/javascript": "const el=document.getElementById('brd-logger-_1-1757327075'); if (el) {el.innerHTML += 'c<br>'; el.scrollTop = el.scrollHeight;}",
      "text/plain": [
       "<IPython.core.display.Javascript object>"
      ]
     },
     "metadata": {},
     "output_type": "display_data"
    },
    {
     "data": {
      "application/javascript": "const el=document.getElementById('brd-logger-_1-1757327075'); if (el) {el.innerHTML += 'd<br>'; el.scrollTop = el.scrollHeight;}",
      "text/plain": [
       "<IPython.core.display.Javascript object>"
      ]
     },
     "metadata": {},
     "output_type": "display_data"
    },
    {
     "data": {
      "application/javascript": "const el=document.getElementById('brd-logger-_1-1757327075'); if (el) {el.innerHTML += 'e<br>'; el.scrollTop = el.scrollHeight;}",
      "text/plain": [
       "<IPython.core.display.Javascript object>"
      ]
     },
     "metadata": {},
     "output_type": "display_data"
    },
    {
     "data": {
      "application/javascript": "const el=document.getElementById('brd-logger-_1-1757327075'); if (el) {el.innerHTML += 'f<br>'; el.scrollTop = el.scrollHeight;}",
      "text/plain": [
       "<IPython.core.display.Javascript object>"
      ]
     },
     "metadata": {},
     "output_type": "display_data"
    },
    {
     "data": {
      "application/javascript": "const el=document.getElementById('brd-logger-_1-1757327075'); if (el) {el.innerHTML += 'g<br>'; el.scrollTop = el.scrollHeight;}",
      "text/plain": [
       "<IPython.core.display.Javascript object>"
      ]
     },
     "metadata": {},
     "output_type": "display_data"
    },
    {
     "data": {
      "application/javascript": "const el=document.getElementById('brd-logger-_1-1757327075'); if (el) {el.innerHTML += 'e<br>'; el.scrollTop = el.scrollHeight;}",
      "text/plain": [
       "<IPython.core.display.Javascript object>"
      ]
     },
     "metadata": {},
     "output_type": "display_data"
    },
    {
     "data": {
      "application/javascript": "const el=document.getElementById('brd-logger-_1-1757327075'); if (el) {el.innerHTML += 'h<br>'; el.scrollTop = el.scrollHeight;}",
      "text/plain": [
       "<IPython.core.display.Javascript object>"
      ]
     },
     "metadata": {},
     "output_type": "display_data"
    },
    {
     "data": {
      "application/javascript": "const el=document.getElementById('brd-logger-_1-1757327075'); if (el) {el.innerHTML += 'i<br>'; el.scrollTop = el.scrollHeight;}",
      "text/plain": [
       "<IPython.core.display.Javascript object>"
      ]
     },
     "metadata": {},
     "output_type": "display_data"
    },
    {
     "data": {
      "application/javascript": "const el=document.getElementById('brd-logger-_1-1757327075'); if (el) {el.innerHTML += 'j<br>'; el.scrollTop = el.scrollHeight;}",
      "text/plain": [
       "<IPython.core.display.Javascript object>"
      ]
     },
     "metadata": {},
     "output_type": "display_data"
    },
    {
     "data": {
      "application/javascript": "const el=document.getElementById('brd-logger-_1-1757327075'); if (el) {el.innerHTML += 'k<br>'; el.scrollTop = el.scrollHeight;}",
      "text/plain": [
       "<IPython.core.display.Javascript object>"
      ]
     },
     "metadata": {},
     "output_type": "display_data"
    }
   ],
   "source": [
    "for c in 'abcdefgehijk': cnv.add(f\"{c}<br>\")"
   ]
  },
  {
   "cell_type": "code",
   "execution_count": 27,
   "metadata": {
    "brd": {
     "id": "4195376a-3216-4082-ab2e-577c0e94b7e3"
    }
   },
   "outputs": [
    {
     "data": {
      "application/javascript": "const el=document.getElementById('brd-logger-_1-1757327075'); if (el) {el.innerHTML += '<span class=\"ts\">1234567890</span> <span class=\"msg\">msg</span><br>'; el.scrollTop = el.scrollHeight;}",
      "text/plain": [
       "<IPython.core.display.Javascript object>"
      ]
     },
     "metadata": {},
     "output_type": "display_data"
    }
   ],
   "source": [
    "cnv.add(f'<span class=\"ts\">1234567890</span> <span class=\"msg\">msg</span><br>')"
   ]
  },
  {
   "cell_type": "code",
   "execution_count": 28,
   "metadata": {
    "brd": {
     "id": "74ee7faf-77cc-4f8a-86e3-8df2cd80e4ec"
    }
   },
   "outputs": [
    {
     "data": {
      "application/javascript": "const el=document.getElementById('brd-logger-_1-1757327075'); if (el) {el.innerHTML += 'lorem ipsum dolor sit \\'amet<br>'; el.scrollTop = el.scrollHeight;}",
      "text/plain": [
       "<IPython.core.display.Javascript object>"
      ]
     },
     "metadata": {},
     "output_type": "display_data"
    }
   ],
   "source": [
    "cnv.add(\"lorem ipsum dolor sit 'amet<br>\")"
   ]
  },
  {
   "cell_type": "code",
   "execution_count": 29,
   "metadata": {
    "brd": {
     "id": "1b1bbb7c-790b-416f-8b13-6abb2a213d1a"
    }
   },
   "outputs": [
    {
     "data": {
      "text/html": [
       "<div id='brd-logger-_2-1757327075' class='brd-logger' style='width: 100%; max-height: 100px;'></div>"
      ],
      "text/plain": [
       "<bridget.helpers.HTML object>"
      ]
     },
     "metadata": {},
     "output_type": "display_data"
    },
    {
     "data": {
      "application/javascript": "\ndebugger;\nconst prevEl = document.getElementById('brd-logger-_1-1757327075');\nlet prevHtml = prevEl?.innerHTML ?? '';\nif (prevEl) prevEl.style.display = 'none';\nif (prevEl) prevEl.innerHTML = '';\nconst el=document.getElementById('brd-logger-_2-1757327075'); if (el) { el.innerHTML = prevHtml + '' + '<br>';\nel.scrollTop = el.scrollHeight;}\n",
      "text/plain": [
       "<IPython.core.display.Javascript object>"
      ]
     },
     "metadata": {},
     "output_type": "display_data"
    }
   ],
   "source": [
    "cnv.show()"
   ]
  },
  {
   "cell_type": "code",
   "execution_count": 30,
   "metadata": {
    "brd": {
     "id": "31170b44-e5a0-4de1-b489-376c42c19b76"
    }
   },
   "outputs": [
    {
     "data": {
      "application/javascript": "const el=document.getElementById('brd-logger-_2-1757327075'); if (el) {el.innerHTML += '{\\'a\\': 1}'; el.scrollTop = el.scrollHeight;}",
      "text/plain": [
       "<IPython.core.display.Javascript object>"
      ]
     },
     "metadata": {},
     "output_type": "display_data"
    }
   ],
   "source": [
    "cnv.add({\"a\": 1})"
   ]
  },
  {
   "cell_type": "markdown",
   "metadata": {},
   "source": [
    "This is obviously ugly and unwieldy. We need a more usable canvas, one that doen't rely in IPython display system.. The only solution in modern Jupyter envs is a widget."
   ]
  },
  {
   "cell_type": "markdown",
   "metadata": {},
   "source": [
    "## FCanvas (widget)"
   ]
  },
  {
   "cell_type": "code",
   "execution_count": 31,
   "metadata": {
    "brd": {
     "id": "165d2ce8-c0d1-4ed7-b1c7-84173efa7fa7"
    }
   },
   "outputs": [],
   "source": [
    "os.environ['DEBUG_BRIDGET'] = 'True'"
   ]
  },
  {
   "cell_type": "code",
   "execution_count": 32,
   "metadata": {
    "brd": {
     "id": "daf51dab-38a6-432a-acdc-086ffca75524"
    }
   },
   "outputs": [],
   "source": [
    "#| exporti\n",
    "\n",
    "fcanvas_js = BUNDLE_PATH / 'js/fcanvas.js'\n",
    "fcanvas_esm = bundled(fcanvas_js)()"
   ]
  },
  {
   "cell_type": "code",
   "execution_count": 33,
   "metadata": {
    "brd": {
     "id": "ecb26e26-b7b1-42a5-a173-d9484e6d6af6"
    }
   },
   "outputs": [],
   "source": [
    "fcanvas_esm = bundled(fcanvas_js)(debugger=DEBUG(), ts=True)"
   ]
  },
  {
   "cell_type": "code",
   "execution_count": 34,
   "metadata": {
    "brd": {
     "id": "8f83c38f-cf2d-44b0-9596-9ae90cd29b06"
    }
   },
   "outputs": [],
   "source": [
    "#| export\n",
    "\n",
    "class FCanvas(BridgeWidget, Canvas):\n",
    "    # _esm = anysource(fcanvas_esm, '''\n",
    "    _esm = '''\n",
    "const { FCanvas } = await brdimport('./fcanvas.js');\n",
    "export default { initialize({ model }) {\n",
    "  let fcanvas = new FCanvas(model);\n",
    "  model.set('_loaded', true); model.save_changes();\n",
    "  return () => { fcanvas.model = null; fcanvas = null; console.log('Canvas cleanup!'); }\n",
    "}}\n",
    "'''\n",
    "    _css = FCanvas_css\n",
    "\n",
    "    height = T.Int(200).tag(sync=True)\n",
    "    elid = T.Unicode('').tag(sync=True)\n",
    "    _displayed = T.Bool(False).tag(sync=True)\n",
    "    \n",
    "    def __init__(self, height:int=200, elid:str='', **kwargs):\n",
    "        if elid: display(self.tmpl(elid, height or self.height))\n",
    "        super().__init__(height=height, elid=elid, **kwargs)\n",
    "\n",
    "    @classmethod\n",
    "    def new_elid(cls): return new_id('brd-logger')\n",
    "\n",
    "    @classmethod\n",
    "    def tmpl(cls, elid, height, content=''):\n",
    "        return HTML(\n",
    "            f\"<div id='{elid}' class='brd-logger' \"\n",
    "            f\"style='width: 100%; max-height: {height}px;'>{content}</div>\")\n",
    "    \n",
    "    def displayed(self): return self._displayed\n",
    "    def show(self, content=None, **kwargs):\n",
    "        self.elid = elid = self.new_elid()\n",
    "        display(self.tmpl(elid, self.height))\n",
    "        res = self.send({'cmd': 'show', 'content': elid}, timeout=2)\n",
    "        if res[0] != empty:  # type: ignore\n",
    "            self._displayed = True\n",
    "            if content is not None: self.add(content, **kwargs)\n",
    "    def hide(self): self.send({'cmd': 'hide'})\n",
    "    def add(self, content, **kwargs): self.send({ 'cmd': 'update', 'content':str(content), 'kw':kwargs})\n",
    "    def clear(self): self.send({'cmd': 'clear'})\n",
    "    \n",
    "    def close(self, msg:str|None=None):\n",
    "        if self.comm is not None:\n",
    "            self.add('FCanvas Closed.<br>')\n",
    "            self.send = self.show = FC.noop  # type: ignore\n",
    "            super().close()"
   ]
  },
  {
   "cell_type": "code",
   "execution_count": 35,
   "metadata": {
    "brd": {
     "id": "7573cee8-77ec-43d0-a302-bcde4201f6d2"
    }
   },
   "outputs": [
    {
     "name": "stdout",
     "output_type": "stream",
     "text": [
      "moduleName='./fcanvas.js' buffers=[]\n"
     ]
    }
   ],
   "source": [
    "cleanupwidgets('cnv')\n",
    "\n",
    "cnv = FCanvas.create(height=100, timeout=3)\n",
    "test_eq(cnv.loaded(), True)"
   ]
  },
  {
   "cell_type": "code",
   "execution_count": 36,
   "metadata": {
    "brd": {
     "id": "77b1e4ac-3e12-4569-90e9-2478c97fdf82"
    }
   },
   "outputs": [
    {
     "data": {
      "text/html": [
       "<div id='brd-logger_1-1757327075' class='brd-logger' style='width: 100%; max-height: 100px;'></div>"
      ],
      "text/plain": [
       "<bridget.helpers.HTML object>"
      ]
     },
     "metadata": {},
     "output_type": "display_data"
    }
   ],
   "source": [
    "cnv.show('hello')\n",
    "# test_eq(cnv.displayed(), True)"
   ]
  },
  {
   "cell_type": "code",
   "execution_count": 37,
   "metadata": {
    "brd": {
     "id": "499dbb4d-d27d-4eb5-9412-4e59420606a2"
    }
   },
   "outputs": [],
   "source": [
    "cnv.add(' bye<br>')"
   ]
  },
  {
   "cell_type": "code",
   "execution_count": 38,
   "metadata": {
    "brd": {
     "id": "56570b47-4da1-4374-9c48-af867e9e3a49"
    }
   },
   "outputs": [],
   "source": [
    "cnv.clear()"
   ]
  },
  {
   "cell_type": "code",
   "execution_count": 39,
   "metadata": {
    "brd": {
     "id": "faa3577b-1beb-42e6-926c-4ac41024e691"
    }
   },
   "outputs": [],
   "source": [
    "cnv.add('Goodbye to all that<br>')"
   ]
  },
  {
   "cell_type": "code",
   "execution_count": 40,
   "metadata": {
    "brd": {
     "id": "fdf75c61-24af-46f2-ae0a-54efa18bbb45"
    }
   },
   "outputs": [],
   "source": [
    "cnv.add({'a': str(Path('a'))})  # convert to json, no '<br>'"
   ]
  },
  {
   "cell_type": "code",
   "execution_count": 41,
   "metadata": {
    "brd": {
     "id": "a8180048-7383-4e5b-8286-280dae02ea0a"
    }
   },
   "outputs": [],
   "source": [
    "cnv.add(f'<br><span class=\"ts\">1234567890</span> <span class=\"msg\">msg</span><br>')"
   ]
  },
  {
   "cell_type": "code",
   "execution_count": 42,
   "metadata": {
    "brd": {
     "id": "cc463f67-9807-4b4c-97ba-149d53168917"
    }
   },
   "outputs": [],
   "source": [
    "cnv.hide()\n",
    "cnv.add('hideous!<br>')"
   ]
  },
  {
   "cell_type": "code",
   "execution_count": 43,
   "metadata": {
    "brd": {
     "id": "db0420a3-6436-4f31-beed-1a965ae57cfd"
    }
   },
   "outputs": [
    {
     "data": {
      "text/html": [
       "<div id='brd-logger_2-1757327075' class='brd-logger' style='width: 100%; max-height: 100px;'></div>"
      ],
      "text/plain": [
       "<bridget.helpers.HTML object>"
      ]
     },
     "metadata": {},
     "output_type": "display_data"
    }
   ],
   "source": [
    "cnv.show()"
   ]
  },
  {
   "cell_type": "code",
   "execution_count": 44,
   "metadata": {
    "brd": {
     "id": "2354bf6c-5237-457b-94d4-bfa3d82a3ef6"
    }
   },
   "outputs": [],
   "source": [
    "cnv.close()"
   ]
  },
  {
   "cell_type": "code",
   "execution_count": 45,
   "metadata": {
    "brd": {
     "id": "da6da803-b50e-4372-8450-f53548ab13df"
    }
   },
   "outputs": [
    {
     "data": {
      "text/html": [
       "<div id='brd-logger_3-1757327075' class='brd-logger' style='width: 100%; max-height: 200px;'></div>"
      ],
      "text/plain": [
       "<bridget.helpers.HTML object>"
      ]
     },
     "metadata": {},
     "output_type": "display_data"
    }
   ],
   "source": [
    "cleanupwidgets('cnv')\n",
    "\n",
    "cnv = FCanvas.create(elid=FCanvas.new_elid())\n",
    "test_eq(cnv.loaded(), True)"
   ]
  },
  {
   "cell_type": "code",
   "execution_count": 46,
   "metadata": {
    "brd": {
     "id": "796672f8-0d4b-4675-836a-bfd55328e65b"
    }
   },
   "outputs": [],
   "source": [
    "cnv.add('Hi & Bi<br>')"
   ]
  },
  {
   "cell_type": "code",
   "execution_count": 47,
   "metadata": {
    "brd": {
     "id": "594be3f0-2f1b-4c08-a50e-7080255f2340"
    }
   },
   "outputs": [],
   "source": [
    "cnv.close()"
   ]
  },
  {
   "cell_type": "markdown",
   "metadata": {},
   "source": [
    "# NBLogger"
   ]
  },
  {
   "cell_type": "code",
   "execution_count": 48,
   "metadata": {
    "brd": {
     "id": "a071d960-51eb-44d8-82c1-3b72fcb89d07"
    }
   },
   "outputs": [],
   "source": [
    "#| export\n",
    "\n",
    "_l2l = {'log':'INFO', 'error': 'ERROR', 'warn': 'WARN'}\n",
    "\n",
    "class NBLogger:\n",
    "    @property\n",
    "    def canvas(self) -> Canvas:...\n",
    "    def close_canvas(self):...\n",
    "    def show(self, msg=None, clear:bool=False, **kwargs):...\n",
    "    def msg(self, msg, clear:bool=False, **kwargs):...\n",
    "    def clear_log(self):...\n",
    "    def active(self, flag:bool|None=None, msg=None):...\n",
    "    \n",
    "    # hate stupid wiggly reds\n",
    "    if typing.TYPE_CHECKING:\n",
    "        def log(self, msg, clear:bool=False, **kwargs): ...\n",
    "        def error(self, msg, clear:bool=False, **kwargs): ...\n",
    "        def warn(self, msg, clear:bool=False, **kwargs): ...\n",
    "\n",
    "    def __init_subclass__(cls) -> None:\n",
    "        for n,l in _l2l.items(): setattr(cls, n, partialmethod(cls.msg, level=l))\n",
    "\n",
    "class NoopLogger(NBLogger):\n",
    "    def __getattr__(self, name:str): return FC.noop"
   ]
  },
  {
   "cell_type": "markdown",
   "metadata": {},
   "source": [
    "## BasicLogger"
   ]
  },
  {
   "cell_type": "code",
   "execution_count": 49,
   "metadata": {
    "brd": {
     "id": "1ba3a15b-7ce3-4943-90ba-2fe55dc8f715"
    }
   },
   "outputs": [],
   "source": [
    "#| export\n",
    "\n",
    "class BasicLogger(NBLogger):\n",
    "    fmt, format, max_len = str, True, 140\n",
    "    def __init__(self, msg=None, canvas:Canvas|None=None, height:int=200, show:bool=True, history:bool=True, **kwargs):\n",
    "        self._canvas, self._active, self.height, self._closed = canvas, False, height, False\n",
    "        self._msgs = deque(maxlen=30) if history else None\n",
    "        if canvas : self.active(True)\n",
    "        elif show: self.show()\n",
    "        if msg: self.msg(msg, **kwargs)\n",
    "    \n",
    "    @property\n",
    "    def canvas(self): return self._canvas\n",
    "    def _setup_canvas(self, height:int): self._canvas = DhCanvas(height=height)\n",
    "    def close_canvas(self):\n",
    "        self.active(False)\n",
    "        if self._canvas and hasattr(self._canvas, 'close'): self._canvas.close()  # type: ignore\n",
    "        setattr(self, '_canvas', None); self._closed = True\n",
    "\n",
    "    def show(self, msg=None, clear:bool=False, **kwargs):\n",
    "        if self._closed: print('This logger is closed.'); return\n",
    "        if self.active() and self.canvas:\n",
    "            self.canvas.hide()\n",
    "            if clear: self.clear_log()\n",
    "        if self.canvas is None: self._setup_canvas(self.height)\n",
    "        if self.canvas:\n",
    "            self.canvas.show()\n",
    "            self.active(True, msg)\n",
    "    def _format(self, msg, fmt: Callable[[str], str]|str|None=None, truncate:bool=True, sep:str='<br>') -> str:\n",
    "        fmt = fmt or self.fmt\n",
    "        if self.max_len and truncate: s=shorten(msg, mode='r', limit=self.max_len)\n",
    "        if isinstance(fmt, str): return fmt.format(s=s)\n",
    "        return f\"{fmt(s)}{sep}\"\n",
    "    def msg(self, msg, clear:bool=False, format:bool|None=True, \n",
    "            fmt: Callable[[str], str]|str|None=None, truncate:bool=True, sep:str='<br>', **kwargs):\n",
    "        if not self.active(): return\n",
    "        if clear: self.clear_log()\n",
    "        if not msg: return\n",
    "        format =  format if format is not None else self.format\n",
    "        self.canvas.add(self._format(msg, fmt, truncate, sep) if format else msg, **kwargs)  # type: ignore\n",
    "        if self._msgs is not None: self._msgs.append(msg)\n",
    "    def clear_log(self):\n",
    "        if self.canvas: self.canvas.clear()\n",
    "        if self._msgs is not None: self._msgs.clear()\n",
    "    def active(self, flag: bool|None=None, msg=None):\n",
    "        if self.canvas is None: return False\n",
    "        if flag is not None:\n",
    "            if not flag and self._active: self.msg(msg)\n",
    "            self._active = flag\n",
    "            if flag: self.msg(msg)\n",
    "        return self._active\n",
    "    \n",
    "    def history(self) -> tuple: return tuple(self._msgs or ())"
   ]
  },
  {
   "cell_type": "code",
   "execution_count": 50,
   "metadata": {
    "brd": {
     "id": "acfdddb7-9bb6-4a32-9746-5c8217de6a02"
    }
   },
   "outputs": [
    {
     "data": {
      "text/html": [],
      "text/plain": [
       "<bridget.helpers.HTML object>"
      ]
     },
     "metadata": {},
     "output_type": "display_data"
    }
   ],
   "source": [
    "bl = BasicLogger('BasicLogger initialized', height=100)"
   ]
  },
  {
   "cell_type": "code",
   "execution_count": 51,
   "metadata": {
    "brd": {
     "id": "c71a7727-e7a6-435f-ba47-fde7f1a672cb"
    }
   },
   "outputs": [],
   "source": [
    "for i,x in enumerate(range(10)): bl.log(f'test{i}')"
   ]
  },
  {
   "cell_type": "code",
   "execution_count": 52,
   "metadata": {
    "brd": {
     "id": "5ecb0136-e9e9-4e5f-a4b1-9d769b6f037d"
    }
   },
   "outputs": [],
   "source": [
    "bl.msg(f'''<span style=\"color: red;\">{'red '*100}</span>''')"
   ]
  },
  {
   "cell_type": "code",
   "execution_count": 53,
   "metadata": {
    "brd": {
     "id": "869d9423-30d7-44ff-a68a-b3594ceae03e"
    }
   },
   "outputs": [
    {
     "data": {
      "text/plain": [
       "'<span style=\"color: red;\">red red red red red red red red red red red red red red red red red red red red red red red red red red red red red red red red red red red red red red red red red red red red red red red red red red red red red red red red red red red red red red red red red red red red red red red red red red red red red red red red red red red red red red red red red red red red red red red red red red red red </span>'"
      ]
     },
     "execution_count": 53,
     "metadata": {},
     "output_type": "execute_result"
    }
   ],
   "source": [
    "bl.history()[-1]"
   ]
  },
  {
   "cell_type": "markdown",
   "metadata": {},
   "source": [
    "Wrong HTML: the message is shortened with the HTML format"
   ]
  },
  {
   "cell_type": "code",
   "execution_count": 54,
   "metadata": {
    "brd": {
     "id": "d200cc2c-aa11-4a0a-882c-7548e4c39ee0"
    }
   },
   "outputs": [],
   "source": [
    "bl.log('green '*100, fmt='<span style=\"color: green;\">{s}</span><br>')"
   ]
  },
  {
   "cell_type": "code",
   "execution_count": 55,
   "metadata": {
    "brd": {
     "id": "8a72cdfa-930c-4d51-8cb8-4587929ede0e"
    }
   },
   "outputs": [
    {
     "data": {
      "text/html": [],
      "text/plain": [
       "<bridget.helpers.HTML object>"
      ]
     },
     "metadata": {},
     "output_type": "display_data"
    }
   ],
   "source": [
    "bl.show()"
   ]
  },
  {
   "cell_type": "code",
   "execution_count": 56,
   "metadata": {
    "brd": {
     "id": "8e9922d7-40aa-4d28-bad2-3a3a310be5e3"
    }
   },
   "outputs": [
    {
     "data": {
      "text/plain": [
       "False"
      ]
     },
     "execution_count": 56,
     "metadata": {},
     "output_type": "execute_result"
    }
   ],
   "source": [
    "bl.active(False, 'BasicLogger disabled')"
   ]
  },
  {
   "cell_type": "code",
   "execution_count": 57,
   "metadata": {
    "brd": {
     "id": "daa9a1d8-b12c-4598-a7df-51dc3b05b344"
    }
   },
   "outputs": [],
   "source": [
    "bl.error('test')"
   ]
  },
  {
   "cell_type": "code",
   "execution_count": 58,
   "metadata": {
    "brd": {
     "id": "71b9aac1-8b45-490e-948b-eeb1e3933d3d"
    }
   },
   "outputs": [
    {
     "data": {
      "text/html": [
       "<div style='max-height:100px;border: 0.5px solid lightblue; overflow: auto;'>Enabled<br>BasicLogger disabled<br><span style=\"color: green;\">green green green green green green green green green green green green green green green green green green green green green green green gr…</span><br><span style=\"color: red;\">red red red red red red red red red red red red red red red red red red red red red red red red red red red red re…<br>test9<br>test8<br>test7<br>test6<br>test5<br>test4<br>test3<br>test2<br>test1<br>test0<br>BasicLogger initialized<br></div>"
      ],
      "text/plain": [
       "<bridget.helpers.HTML object>"
      ]
     },
     "metadata": {},
     "output_type": "display_data"
    }
   ],
   "source": [
    "bl.show(\"Enabled\")"
   ]
  },
  {
   "cell_type": "code",
   "execution_count": 59,
   "metadata": {
    "brd": {
     "id": "b4201cb4-4379-484c-8c07-0d951d9c8ba0"
    }
   },
   "outputs": [
    {
     "name": "stdout",
     "output_type": "stream",
     "text": [
      "This logger is closed.\n"
     ]
    }
   ],
   "source": [
    "bl.close_canvas()\n",
    "bl.show()\n",
    "bl.log('closed')\n",
    "test_eq(bl.active(), False)"
   ]
  },
  {
   "cell_type": "markdown",
   "metadata": {},
   "source": [
    "## FLogger"
   ]
  },
  {
   "cell_type": "code",
   "execution_count": 60,
   "metadata": {
    "brd": {
     "id": "38d2404d-0e88-462c-b9f7-37350cb73ea9"
    }
   },
   "outputs": [],
   "source": [
    "#| export\n",
    "\n",
    "class FLogger(BasicLogger):\n",
    "    canvas: FCanvas\n",
    "    def _setup_canvas(self, height:int): self._canvas = FCanvas.create(height=height, timeout=2)"
   ]
  },
  {
   "cell_type": "code",
   "execution_count": 61,
   "metadata": {
    "brd": {
     "id": "c989d6a1-cc1a-41d9-b713-a9cdcefe3b80"
    }
   },
   "outputs": [
    {
     "data": {
      "text/html": [
       "<div id='brd-logger_4-1757327075' class='brd-logger' style='width: 100%; max-height: 100px;'></div>"
      ],
      "text/plain": [
       "<bridget.helpers.HTML object>"
      ]
     },
     "metadata": {},
     "output_type": "display_data"
    }
   ],
   "source": [
    "bl = FLogger('FLogger initialized', FCanvas.create(height=100, elid=FCanvas.new_elid(), timeout=2))"
   ]
  },
  {
   "cell_type": "code",
   "execution_count": 62,
   "metadata": {
    "brd": {
     "id": "ad659895-c44c-450f-8caf-e48f0dc3715d"
    }
   },
   "outputs": [],
   "source": [
    "for i,x in enumerate(range(5)): bl.log(f'test{i}')"
   ]
  },
  {
   "cell_type": "code",
   "execution_count": 63,
   "metadata": {
    "brd": {
     "id": "a574d7e6-555b-4644-9d49-7f520de5c2e8"
    }
   },
   "outputs": [],
   "source": [
    "bl.error('red '*100, fmt=lambda s: f'<span style=\"color: red;\">{s}</span>')"
   ]
  },
  {
   "cell_type": "code",
   "execution_count": 64,
   "metadata": {
    "brd": {
     "id": "97e2f1be-0faa-4edc-a168-17a2a2d9e576"
    }
   },
   "outputs": [
    {
     "data": {
      "text/html": [
       "<div id='brd-logger_5-1757327075' class='brd-logger' style='width: 100%; max-height: 100px;'></div>"
      ],
      "text/plain": [
       "<bridget.helpers.HTML object>"
      ]
     },
     "metadata": {},
     "output_type": "display_data"
    }
   ],
   "source": [
    "bl.show()"
   ]
  },
  {
   "cell_type": "code",
   "execution_count": 65,
   "metadata": {
    "brd": {
     "id": "9e89a658-344f-4fd4-8295-3e385241895f"
    }
   },
   "outputs": [
    {
     "data": {
      "text/plain": [
       "False"
      ]
     },
     "execution_count": 65,
     "metadata": {},
     "output_type": "execute_result"
    }
   ],
   "source": [
    "bl.active(False, 'FLogger disabled')"
   ]
  },
  {
   "cell_type": "code",
   "execution_count": 66,
   "metadata": {
    "brd": {
     "id": "779968fe-b331-43b0-a5ed-e6b218bdbe5d"
    }
   },
   "outputs": [],
   "source": [
    "bl.log('test')"
   ]
  },
  {
   "cell_type": "code",
   "execution_count": 67,
   "metadata": {
    "brd": {
     "id": "03195b95-07c3-4de1-8e2c-09b8eaf206c7"
    }
   },
   "outputs": [
    {
     "name": "stdout",
     "output_type": "stream",
     "text": [
      "This logger is closed.\n"
     ]
    }
   ],
   "source": [
    "bl.close_canvas()\n",
    "bl.log('closed')\n",
    "bl.show()\n",
    "test_eq(bl.active(), False)"
   ]
  },
  {
   "cell_type": "markdown",
   "metadata": {},
   "source": [
    "## Loguru logger (WIP)"
   ]
  },
  {
   "cell_type": "code",
   "execution_count": 68,
   "metadata": {
    "brd": {
     "id": "8db710e6-5beb-466a-8ded-144e7df5701d"
    }
   },
   "outputs": [],
   "source": [
    "#| exporti\n",
    "\n",
    "level_colors = {\n",
    "    \"DEBUG\": \"#666666\",    # gray\n",
    "    \"INFO\": \"#000000\",     # black\n",
    "    \"SUCCESS\": \"#007700\",  # green\n",
    "    \"WARNING\": \"#ff8800\",  # orange\n",
    "    \"ERROR\": \"#ff0000\",    # red\n",
    "    \"CRITICAL\": \"#880000\", # dark red\n",
    "}"
   ]
  },
  {
   "cell_type": "code",
   "execution_count": 69,
   "metadata": {
    "brd": {
     "id": "fb9d1375-ce8e-4d6d-bc02-e8e82418a97c"
    }
   },
   "outputs": [],
   "source": [
    "class LoguruBasicLogger(BasicLogger):\n",
    "    def __init__(self): \n",
    "        super().__init__()\n",
    "        self._fmt = FC.noop\n",
    "    \n",
    "    def write(self, message: str) -> None:\n",
    "        if rec := getattr(message, 'record', None):\n",
    "            level = rec['level'].name\n",
    "        else: \n",
    "            for level in level_colors: \n",
    "                if level in message: break\n",
    "        # message = f\"<span style='color: {level_colors[level]}'>{message}</span>\"\n",
    "        # self.msg(message, fmt=lambda s:f\"<span style='color: {level_colors[level]}'>{s}</span>\")\n",
    "        self.msg(message, fmt=f\"<span style='color: {level_colors[level]}'>\"\"{s}</span><br>\")"
   ]
  },
  {
   "cell_type": "code",
   "execution_count": 70,
   "metadata": {
    "brd": {
     "id": "3214e221-37b3-4b8c-8d0c-9c2f17f2bd8a"
    }
   },
   "outputs": [
    {
     "data": {
      "text/html": [
       "<div style='max-height:200px;border: 0.5px solid lightblue; overflow: auto;'><span style='color: #ff0000'>ERROR | This is an error\n",
       "</span><br><span style='color: #ff8800'>WARNING | This is a warning\n",
       "</span><br><span style='color: #000000'>INFO | This is an info message\n",
       "</span><br><span style='color: #666666'>DEBUG | This is a debug message\n",
       "</span><br></div>"
      ],
      "text/plain": [
       "<bridget.helpers.HTML object>"
      ]
     },
     "metadata": {},
     "output_type": "display_data"
    }
   ],
   "source": [
    "logger.remove()  # Remove default handler\n",
    "handler_id = logger.add(\n",
    "    (lbl := LoguruBasicLogger()).write, \n",
    "    format=\"{level} | {message}\",  # Simple format, we'll add HTML in the sink\n",
    "    colorize=False  # Disable ANSI colors\n",
    ")"
   ]
  },
  {
   "cell_type": "code",
   "execution_count": 71,
   "metadata": {
    "brd": {
     "id": "ad4fb905-fe57-47ee-a854-12c0a9b5c50b"
    }
   },
   "outputs": [],
   "source": [
    "logger.debug(\"This is a debug message\")\n",
    "logger.info(\"This is an info message\")\n",
    "logger.warning(\"This is a warning\")\n",
    "logger.error(\"This is an error\")"
   ]
  },
  {
   "cell_type": "code",
   "execution_count": 72,
   "metadata": {
    "brd": {
     "id": "083baa65-25af-49e3-b4b9-bee3df2c6c24"
    }
   },
   "outputs": [],
   "source": [
    "class LoguruBasicLogger(BasicLogger):\n",
    "    def __init__(self):\n",
    "        super().__init__()\n",
    "        self.fmt = FC.noop\n",
    "    \n",
    "    def _format(self, msg, fmt: Callable[[str], str]|str|None=None, truncate:bool=True, sep:str='') -> str:\n",
    "        rec = getattr(msg, 'record', json.loads(msg))\n",
    "        return (\n",
    "            f\"<div style='display: flex; gap: 8px'>\"\n",
    "            f\"<span style='color: #888'>{rec['time'].strftime('%H:%M:%S')}</span>\"\n",
    "            f\"<span style='color: {level_colors[rec['level'].name]}'>{rec['level'].name:8}</span>\"\n",
    "            f\"<span>{shorten(rec['message'], mode='r', limit=self.max_len or 140)}</span>\"\n",
    "            f\"</div>\"\n",
    "        )\n",
    "\n",
    "    def write(self, message:str) -> None:\n",
    "        self.msg(message, sep='')\n",
    "        # self.msg(formatted_msg)\n",
    "    \n",
    "\n",
    "def configure_logger(basic_logger: BasicLogger) -> int:\n",
    "    \"\"\"Configure loguru to use a specific BasicLogger instance.\"\"\"\n",
    "    logger.remove()\n",
    "    return logger.add(\n",
    "        basic_logger.write,  # type: ignore\n",
    "        serialize=True  # This makes loguru pass a json to write()\n",
    "    )"
   ]
  },
  {
   "cell_type": "code",
   "execution_count": 73,
   "metadata": {
    "brd": {
     "id": "0b9cd865-e4d6-4ab7-a4f9-c086f3c921f2"
    }
   },
   "outputs": [
    {
     "data": {
      "text/html": [
       "<div style='max-height:200px;border: 0.5px solid lightblue; overflow: auto;'><div style='display: flex; gap: 8px'><span style='color: #888'>12:24:43</span><span style='color: #ff0000'>ERROR   </span><span>This is an error</span></div><div style='display: flex; gap: 8px'><span style='color: #888'>12:24:43</span><span style='color: #ff8800'>WARNING </span><span>This is a warning</span></div><div style='display: flex; gap: 8px'><span style='color: #888'>12:24:43</span><span style='color: #000000'>INFO    </span><span>This is an info message</span></div><div style='display: flex; gap: 8px'><span style='color: #888'>12:24:43</span><span style='color: #666666'>DEBUG   </span><span>This is a debug message</span></div></div>"
      ],
      "text/plain": [
       "<bridget.helpers.HTML object>"
      ]
     },
     "metadata": {},
     "output_type": "display_data"
    }
   ],
   "source": [
    "lbl = LoguruBasicLogger()\n",
    "handler_id = configure_logger(lbl)"
   ]
  },
  {
   "cell_type": "code",
   "execution_count": 74,
   "metadata": {
    "brd": {
     "id": "df91e282-0da6-41f9-8b18-b0f4eff95a37"
    }
   },
   "outputs": [],
   "source": [
    "logger.debug(\"This is a debug message\")\n",
    "logger.info(\"This is an info message\")\n",
    "logger.warning(\"This is a warning\")\n",
    "logger.error(\"This is an error\")"
   ]
  },
  {
   "cell_type": "code",
   "execution_count": 75,
   "metadata": {
    "brd": {
     "id": "b81e3000-a387-4d10-8a5b-d36710203b9a"
    }
   },
   "outputs": [],
   "source": [
    "#| exporti\n",
    "\n",
    "@FC.patch\n",
    "def setup_loguru_sink(self: BasicLogger, logger):\n",
    "    def sink(message:str) -> None:\n",
    "        rec = getattr(message, 'record', None) or json.loads(message)\n",
    "        formatted_msg = (\n",
    "            f\"<div style='display: flex; gap: 8px'>\"\n",
    "            f\"<span style='color: #888'>{rec['time'].strftime('%H:%M:%S.%f')}</span>\"\n",
    "            f\"<span style='width: 4em; color: {level_colors[rec['level'].name]}'>{rec['level'].name.lower():8}</span>\"\n",
    "            # f\"<span>{rec['level'].icon}</span>\"\n",
    "            f\"<span>{shorten(rec['message'], mode='r', limit=self.max_len or 140)}</span>\"\n",
    "            f\"</div>\"\n",
    "        )\n",
    "        self.msg(formatted_msg, format=False)\n",
    "    \n",
    "    logger.remove()\n",
    "    logger.add(\n",
    "        sink, \n",
    "        # format=\"<span style='color: {level.color}'>{message}</span>\",\n",
    "        # colorize=True\n",
    "        # serialize=True\n",
    "    )\n",
    "    return sink"
   ]
  },
  {
   "cell_type": "code",
   "execution_count": 76,
   "metadata": {
    "brd": {
     "id": "9951d1cc-83f6-4524-bd69-ec80a39328ed"
    }
   },
   "outputs": [
    {
     "data": {
      "text/html": [
       "<div style='max-height:200px;border: 0.5px solid lightblue; overflow: auto;'><div style='display: flex; gap: 8px'><span style='color: #888'>12:24:43.547296</span><span style='width: 4em; color: #ff0000'>error   </span><span>This is an error</span></div><div style='display: flex; gap: 8px'><span style='color: #888'>12:24:43.546621</span><span style='width: 4em; color: #ff8800'>warning </span><span>This is a warning</span></div><div style='display: flex; gap: 8px'><span style='color: #888'>12:24:43.545874</span><span style='width: 4em; color: #000000'>info    </span><span>This is an info message</span></div><div style='display: flex; gap: 8px'><span style='color: #888'>12:24:43.545214</span><span style='width: 4em; color: #666666'>debug   </span><span>This is a debug message</span></div></div>"
      ],
      "text/plain": [
       "<bridget.helpers.HTML object>"
      ]
     },
     "metadata": {},
     "output_type": "display_data"
    }
   ],
   "source": [
    "(my_logger := BasicLogger()).setup_loguru_sink(logger);  # type: ignore"
   ]
  },
  {
   "cell_type": "code",
   "execution_count": 77,
   "metadata": {
    "brd": {
     "id": "cd351da5-7e4a-45ab-ac3c-ca13d930e1bf"
    }
   },
   "outputs": [],
   "source": [
    "logger.debug(\"This is a debug message\")\n",
    "logger.info(\"This is an info message\")\n",
    "logger.warning(\"This is a warning\")\n",
    "logger.error(\"This is an error\")"
   ]
  },
  {
   "cell_type": "code",
   "execution_count": 78,
   "metadata": {
    "brd": {
     "id": "609297ce-a228-4f5f-8299-ea157862d0e6"
    }
   },
   "outputs": [
    {
     "data": {
      "text/html": [
       "<div id='brd-logger_6-1757327075' class='brd-logger' style='width: 100%; max-height: 200px;'></div>"
      ],
      "text/plain": [
       "<bridget.helpers.HTML object>"
      ]
     },
     "metadata": {},
     "output_type": "display_data"
    }
   ],
   "source": [
    "(my_flogger := FLogger()).setup_loguru_sink(logger);  # type: ignore"
   ]
  },
  {
   "cell_type": "code",
   "execution_count": 79,
   "metadata": {
    "brd": {
     "id": "a839a80c-8fb5-4d21-a0d3-011ff50698d7"
    }
   },
   "outputs": [],
   "source": [
    "logger.debug(\"This is a debug message\")\n",
    "logger.info(\"This is an info message\")\n",
    "logger.warning(\"This is a warning\")\n",
    "logger.error(\"This is an error\")"
   ]
  },
  {
   "cell_type": "code",
   "execution_count": 80,
   "metadata": {
    "brd": {
     "id": "b9480f13-8a99-49ea-a5dd-29a488c8c194"
    }
   },
   "outputs": [],
   "source": [
    "my_flogger.close_canvas()"
   ]
  },
  {
   "cell_type": "markdown",
   "metadata": {},
   "source": [
    "# Colophon\n",
    "----"
   ]
  },
  {
   "cell_type": "code",
   "execution_count": 81,
   "metadata": {
    "brd": {
     "id": "819b0507-a6b3-4d4b-b77d-1f0f06cba9a2"
    }
   },
   "outputs": [],
   "source": [
    "import fastcore.all as FC\n",
    "import nbdev\n",
    "from nbdev.clean import nbdev_clean\n",
    "from olio.basic import bundle_path\n",
    "from bridget.bridge_widget import bundled"
   ]
  },
  {
   "cell_type": "code",
   "execution_count": 82,
   "metadata": {
    "brd": {
     "id": "2fbed299-daf2-49f3-96e8-4e2ad1fc2a79"
    }
   },
   "outputs": [],
   "source": [
    "if FC.IN_NOTEBOOK:\n",
    "    BUNDLE_PATH = bundle_path(__name__)\n",
    "    for f in ['fcanvas']: bundled(BUNDLE_PATH / f'js/{f}.js')()\n",
    "    nb_path = '11_logger.ipynb'\n",
    "    # nbdev_clean(nb_path)\n",
    "    nbdev.nbdev_export(nb_path)"
   ]
  }
 ],
 "metadata": {
  "kernelspec": {
   "display_name": "Python 3",
   "language": "python",
   "name": "python3"
  },
  "language_info": {
   "codemirror_mode": {
    "name": "ipython",
    "version": 3
   },
   "file_extension": ".py",
   "mimetype": "text/x-python",
   "name": "python",
   "nbconvert_exporter": "python",
   "pygments_lexer": "ipython3",
   "version": "3.12.11"
  }
 },
 "nbformat": 4,
 "nbformat_minor": 4
}
