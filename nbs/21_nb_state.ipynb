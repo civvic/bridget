{
 "cells": [
  {
   "cell_type": "code",
   "execution_count": null,
   "metadata": {},
   "outputs": [],
   "source": [
    "#| default_exp nb_state"
   ]
  },
  {
   "cell_type": "code",
   "execution_count": null,
   "metadata": {},
   "outputs": [],
   "source": [
    "#| export\n",
    "from __future__ import annotations"
   ]
  },
  {
   "cell_type": "markdown",
   "metadata": {},
   "source": [
    "# Notebook state\n",
    "\n",
    "> Programmatic access to notebook cells and outputs.\n",
    "\n"
   ]
  },
  {
   "cell_type": "markdown",
   "metadata": {},
   "source": [
    "# Prologue"
   ]
  },
  {
   "cell_type": "code",
   "execution_count": null,
   "metadata": {},
   "outputs": [],
   "source": [
    "# import ipywidgets as W\n",
    "# W.Widget.close_all()  # we don't want stale widgets around when developing"
   ]
  },
  {
   "cell_type": "code",
   "execution_count": null,
   "metadata": {},
   "outputs": [],
   "source": [
    "#| export\n",
    "import json\n",
    "import sys\n",
    "from datetime import datetime\n",
    "from inspect import Parameter\n",
    "from typing import Mapping\n",
    "from typing import overload\n",
    "from typing import Protocol\n",
    "from typing import runtime_checkable\n",
    "from typing import SupportsIndex\n",
    "\n",
    "import fastcore.all as FC\n",
    "from fastcore.foundation import L\n",
    "from IPython.core.getipython import get_ipython\n",
    "from IPython.display import display\n",
    "from IPython.core.display import HTML\n",
    "from olio.basic import AD\n",
    "from olio.basic import bundle_path\n",
    "from olio.basic import update_\n"
   ]
  },
  {
   "cell_type": "code",
   "execution_count": null,
   "metadata": {},
   "outputs": [],
   "source": [
    "import os\n",
    "os.environ['DEBUG_BRIDGET'] = 'True'"
   ]
  },
  {
   "cell_type": "code",
   "execution_count": null,
   "metadata": {},
   "outputs": [],
   "source": [
    "#| export\n",
    "import bridget.nb_hooks\n",
    "from bridget.bridge import BridgePlugin\n",
    "from bridget.bridge import get_bridge\n",
    "from bridget.bridge_plugins import NBHooksPlugin\n",
    "from bridget.bridge_widget import blocks\n",
    "from bridget.bridge_widget import bundled\n",
    "from bridget.bridge_widget import get_brdimport\n",
    "from bridget.helpers import bridge_cfg\n",
    "from bridget.helpers import id_gen\n",
    "from bridget.helpers import kounter\n",
    "from bridget.helpers import ms2str\n",
    "from bridget.nb import NB\n",
    "from bridget.nb import NBCell\n"
   ]
  },
  {
   "cell_type": "code",
   "execution_count": null,
   "metadata": {},
   "outputs": [],
   "source": [
    "import os\n",
    "from pathlib import Path\n",
    "import urllib.parse\n",
    "\n",
    "from fastcore.test import *\n",
    "from olio.common import setup_console\n",
    "from olio.common import shortens\n"
   ]
  },
  {
   "cell_type": "code",
   "execution_count": null,
   "metadata": {},
   "outputs": [],
   "source": [
    "from bridget.bridge_widget import ablocks\n",
    "from bridget.helpers import DEBUG\n",
    "from bridget.helpers import in_vscode_notebook\n"
   ]
  },
  {
   "cell_type": "markdown",
   "metadata": {},
   "source": [
    "----\n"
   ]
  },
  {
   "cell_type": "code",
   "execution_count": null,
   "metadata": {},
   "outputs": [],
   "source": [
    "#| exporti\n",
    "\n",
    "BUNDLE_PATH = bundle_path(__name__)\n",
    "_EMPTY = Parameter.empty\n",
    "EmptyT = type[_EMPTY]\n",
    "new_id = id_gen()"
   ]
  },
  {
   "cell_type": "code",
   "execution_count": null,
   "metadata": {},
   "outputs": [
    {
     "name": "stdout",
     "output_type": "stream",
     "text": [
      "True\n"
     ]
    },
    {
     "data": {
      "text/plain": [
       "{'auto_show': False, 'auto_mount': False, 'auto_id': False, 'bundle_cfg': {'out_dir': [Path('/Users/vic/dev/repo/project/bridget/bridget/js'), Path('/Users/vic/dev/repo/project/bridget/bridget')], 'rewrite_imports': True, 'import_name': 'brdimport'}, 'bootstrap': False, 'current_did': None}"
      ]
     },
     "execution_count": null,
     "metadata": {},
     "output_type": "execute_result"
    }
   ],
   "source": [
    "console, cprint = setup_console(120)\n",
    "IDISPLAY = display\n",
    "print(f\"{DEBUG()}\")\n",
    "bridge_cfg"
   ]
  },
  {
   "cell_type": "code",
   "execution_count": null,
   "metadata": {},
   "outputs": [],
   "source": [
    "bridge_cfg.auto_show = True\n",
    "bridge_cfg.auto_id = False"
   ]
  },
  {
   "cell_type": "code",
   "execution_count": null,
   "metadata": {},
   "outputs": [
    {
     "name": "stdout",
     "output_type": "stream",
     "text": [
      "moduleName='./bcanvas.js' buffers=[]\n",
      "moduleName='./fcanvas.js' buffers=[]\n",
      "moduleName='./bridge.js' buffers=[]\n",
      "moduleName='./observer.js' buffers=[]\n"
     ]
    },
    {
     "data": {
      "text/html": [
       "<div id='brd-logger_1-1758037440' class='brd-logger' style='width: 100%; max-height: 200px;'></div>"
      ],
      "text/plain": [
       "<bridget.helpers.HTML object>"
      ]
     },
     "metadata": {},
     "output_type": "display_data"
    }
   ],
   "source": [
    "bridge = get_bridge(show_logger=True, wait=5)"
   ]
  },
  {
   "cell_type": "markdown",
   "metadata": {},
   "source": [
    "----"
   ]
  },
  {
   "cell_type": "markdown",
   "metadata": {},
   "source": [
    "# NBStateFeedback\n",
    "> Simple visual feedback of notebook state. We manage the notebook state In the front-end and use this helper to show a little feedback of state changes.\n",
    "\n",
    "If yuou're reading this in VSCode-ish environment, ensure the extension developed in [nbinspect-vscode](../packages/nbinspect-vscode/README.md) is enabled.  \n",
    "\n",
    "If you want to know how the notebook's state gets here in real-time, take a look at the [packages](../packages) folder."
   ]
  },
  {
   "cell_type": "code",
   "execution_count": null,
   "metadata": {},
   "outputs": [],
   "source": [
    "#| export\n",
    "\n",
    "NBSTATE_MIME = 'application/x-notebook-state+json'\n",
    "\n",
    "class _NBStateFeedback:\n",
    "    def __init__(self, **options):\n",
    "        self.options = AD(feedback=True, hide=False, debug=True, **options)\n",
    "        self.dh = None; self.shown = False\n",
    "    def show(self, hide=False, **options):\n",
    "        if self.dh: self.dh.update(HTML(''))\n",
    "        self.dh = display({NBSTATE_MIME: update_(self.options, **options, hide=hide)}, raw=True, display_id=True)\n",
    "        self.shown = True\n",
    "    def update(self, **options):\n",
    "        if self.dh: self.dh.update({NBSTATE_MIME: {**update_(self.options, **options), 'id': kounter('nbstate')}}, raw=True)\n",
    "    def hide(self):\n",
    "        if self.dh: self.dh.update({NBSTATE_MIME: {**update_(self.options, hide=True), 'id': kounter('nbstate')}}, raw=True)\n",
    "\n",
    "\n",
    "NBStateFeedback = _NBStateFeedback()"
   ]
  },
  {
   "cell_type": "code",
   "execution_count": null,
   "metadata": {},
   "outputs": [
    {
     "data": {
      "text/html": [],
      "text/plain": [
       "<IPython.core.display.HTML object>"
      ]
     },
     "metadata": {},
     "output_type": "display_data"
    }
   ],
   "source": [
    "# NBStateFeedback.show(feedback=False, hide=True,debug=False)\n",
    "NBStateFeedback.show()"
   ]
  },
  {
   "cell_type": "markdown",
   "metadata": {},
   "source": [
    "Note that the state data **is** still in the **front-end** (JS-land). This function is just a visual feedback of state changes, but we haven't transferred yet the state to the **kernel** (python-land). We need to have something (the bridge) in the front-end that can transfer the state to the kernel. For that, see next sections.\n",
    "\n",
    "**VSCode weirdness (again)**: Bridget uses an extension to capture notebook state. In Jupyter environments, the extension is triggered when a notebook is opened, monitors state changes, and sends notifications to the frontend, waiting for a widget to retrieve them. Check the JavaScript console to see the extension's traces.\n",
    "\n",
    "In VSCode, the extension is also activated when a notebook is opened. However, the front end of the extension—Renderer in VSCode Notebook Extension API parlance—is isolated within a webview, an iframe-like object that the extension can only communicate with via the a very limited messaging API. Renderers are the only means by which extensions can communicate with the JavaScript running in the webview. And renderers can only be triggered by a cell displaying specific MIME types at least once. Therefore, since VSCode only renders its output when a visible cell is executed, the extension's renderer can only obtain the notebook state relayed by the main extension when the cell is run interactively or is already in the notebook and visible. Fortunately, this only needs to happen once; you can delete the cell or its output, and the extension will continue to work. VSCode's foibles.\n",
    "\n",
    "Keep this in mind when running commands like `Execute Above Cells` or `Execute All Cells` or similar. If the above cell is already displaying its output, that's fine; if not, the extension renderer won't be triggered until it appears, the state won't be passed to the front end, and the rest of the notebook won't work properly."
   ]
  },
  {
   "cell_type": "code",
   "execution_count": null,
   "metadata": {},
   "outputs": [
    {
     "name": "stdout",
     "output_type": "stream",
     "text": [
      "19\n"
     ]
    }
   ],
   "source": [
    "print(19)"
   ]
  },
  {
   "cell_type": "markdown",
   "metadata": {},
   "source": [
    "After executing above cell, you've noticed a pink flash. We're monitoring state changes in real-time.\n",
    "\n",
    "Clear the output of the above cell. Open the details and look for cell #19 (if you haven't added any new cells above it). Check that it doesn't have any outputs.\n",
    "\n",
    "Run the cell again and check to see that it now has outputs.\n",
    "\n",
    "Create a new cell below this, source or markdown, and write something. Notice that we're updating the state of cell inputs not just outputs."
   ]
  },
  {
   "cell_type": "code",
   "execution_count": null,
   "metadata": {},
   "outputs": [],
   "source": [
    "NBStateFeedback.update(feedback=False)"
   ]
  },
  {
   "cell_type": "markdown",
   "metadata": {},
   "source": [
    "With feedback disabled, the details disclosure in not shown."
   ]
  },
  {
   "cell_type": "code",
   "execution_count": null,
   "metadata": {},
   "outputs": [],
   "source": [
    "NBStateFeedback.update(feedback=True)"
   ]
  },
  {
   "cell_type": "code",
   "execution_count": null,
   "metadata": {},
   "outputs": [],
   "source": [
    "NBStateFeedback.update(debug=False)"
   ]
  },
  {
   "cell_type": "markdown",
   "metadata": {},
   "source": [
    "`debug` affects javascript dev console logging."
   ]
  },
  {
   "cell_type": "code",
   "execution_count": null,
   "metadata": {},
   "outputs": [
    {
     "name": "stdout",
     "output_type": "stream",
     "text": [
      "29\n"
     ]
    }
   ],
   "source": [
    "print(29)"
   ]
  },
  {
   "cell_type": "code",
   "execution_count": null,
   "metadata": {},
   "outputs": [],
   "source": [
    "NBStateFeedback.update(debug=True)"
   ]
  },
  {
   "cell_type": "code",
   "execution_count": null,
   "metadata": {},
   "outputs": [
    {
     "data": {
      "application/x-notebook-state+json": {
       "debug": true,
       "feedback": true,
       "hide": true,
       "id": 7
      }
     },
     "metadata": {},
     "output_type": "display_data"
    }
   ],
   "source": [
    "NBStateFeedback.show()"
   ]
  },
  {
   "cell_type": "code",
   "execution_count": null,
   "metadata": {},
   "outputs": [],
   "source": [
    "NBStateFeedback.hide()"
   ]
  },
  {
   "cell_type": "markdown",
   "metadata": {},
   "source": [
    "Though we've hided the feedback output, Bridget is still monitoring and capturing state changes, as you can see in the dev console. In fact, once activated by showing the feedback output, it's not possible to deactivate it."
   ]
  },
  {
   "cell_type": "markdown",
   "metadata": {},
   "source": [
    "# NBStateFetcher\n",
    "> A bridge plugin to retrieve notebook state from the front-end to `bridge.state`.\n",
    "\n",
    "Simple plugin to grab the notebook state from the front-end and return it to Python where we really want and need it. And where it should have always been, imho. How much unnecessary pain has the MVC pattern done!"
   ]
  },
  {
   "cell_type": "code",
   "execution_count": null,
   "metadata": {},
   "outputs": [],
   "source": [
    "#| export\n",
    "\n",
    "nbstate_js = BUNDLE_PATH / 'js/nbstate.js'"
   ]
  },
  {
   "cell_type": "code",
   "execution_count": null,
   "metadata": {},
   "outputs": [],
   "source": [
    "bundled(nbstate_js)();"
   ]
  },
  {
   "cell_type": "code",
   "execution_count": null,
   "metadata": {},
   "outputs": [],
   "source": [
    "#| export\n",
    "\n",
    "class NBStateFetcher(BridgePlugin):\n",
    "    src = bundled('''\n",
    "import { initializeNBState } from './nbstate.js';\n",
    "export default async function initializeFetcher(bridge) {\n",
    "    const cleanup = initializeNBState(bridge);\n",
    "    return () => cleanup();\n",
    "}\n",
    "''')()\n",
    "\n",
    "    ctx_name = 'fetcher'\n",
    "\n",
    "    def __init__(self):\n",
    "        self.feedback = True; self.debug = True; self._renderer = True\n",
    "        self._last_update = []\n",
    "        super().__init__()\n",
    "\n",
    "    @property\n",
    "    def opts(self): return {'feedback': self.feedback, 'debug': self.debug}\n",
    "\n",
    "    def update(self, timeout: float|None=None, **kwargs):\n",
    "        kwargs['id'] = new_id(self)\n",
    "        self.send({'ctx': self.ctx_name, 'cmd': 'get_state', **kwargs}, timeout=timeout)\n",
    "\n",
    "    async def aupdate(self, timeout: float=3, **kwargs):\n",
    "        kwargs['id'] = new_id(self)\n",
    "        await self.asend({'ctx': self.ctx_name, 'cmd': 'get_state', **kwargs}, timeout=timeout)\n",
    "\n",
    "    def on_init(self, *args, info:str, **kwargs):\n",
    "        super().on_init(*args, info=info, **kwargs)\n",
    "        if info == 'initialized':\n",
    "            self.bridge.state = bridget.nb_hooks.get_nb_from_hooks()\n",
    "            if self._renderer:\n",
    "                self.log('Requesting initial notebook state...')\n",
    "                self.update(update='full')\n",
    "        elif info == 'renderer not found':\n",
    "            self._renderer = False\n",
    "            self.log(\"Renderer not found: NBState is empty. Try calling update(update='full') again...\")\n",
    "    \n",
    "    def on_state_update(self, *args, state:dict|str, **kwargs):\n",
    "        d = (json.loads(state) if isinstance(state, str) else state or {})\n",
    "        self.log(f\"State update - type: {d['type']} ts: {ms2str(float(d['timestamp'])/1000)}\")\n",
    "        self._last_update.append(d)\n",
    "        if d['type'] == 'state':\n",
    "            self.log(f\"---- #cells: {len(d.get('cells', []))}\")\n",
    "            self.bridge.state.setup(**d)\n",
    "        else:\n",
    "            if len(self.bridge.state.cells) == 0: return\n",
    "            try:\n",
    "                self.bridge.state.apply_diffsMessage(d)\n",
    "                diffs:list[dict] = d.get('changes', [])\n",
    "                # self.log(f\"#diffs: {len(diffs)}\")\n",
    "                for i, d in enumerate(diffs): self.log(\n",
    "                    f\"---- {i} - cells: {[c['idx'] for c in d['cells']]} \"\n",
    "                    f\"added: {[c['idx'] for c in d.get('added', [])]} \"\n",
    "                    f\"removed: {d.get('removed', [])}\")\n",
    "            except Exception as e:\n",
    "                self.log(f\"Error applying diffs: {e}\")"
   ]
  },
  {
   "cell_type": "code",
   "execution_count": null,
   "metadata": {},
   "outputs": [
    {
     "data": {
      "text/html": [
       "<div id='brd-logger_2-1758027501' class='brd-logger' style='width: 100%; max-height: 200px;'></div>"
      ],
      "text/plain": [
       "<bridget.helpers.HTML object>"
      ]
     },
     "metadata": {},
     "output_type": "display_data"
    }
   ],
   "source": [
    "bridge.logger.show(clear=True)"
   ]
  },
  {
   "cell_type": "code",
   "execution_count": null,
   "metadata": {},
   "outputs": [],
   "source": [
    "bridge.add_plugins(fetcher := NBStateFetcher(), wait=3)\n",
    "\n",
    "l = 79\n",
    "test_is('fetcher' in bridge.plugins, True)\n",
    "test_is(len(bridge.state.cells) in (0, l), True)"
   ]
  },
  {
   "cell_type": "markdown",
   "metadata": {},
   "source": [
    "WARNING: the extension debounces state notifications to avoid excesive throughput. When running `Execute Above Cells` or `Execute All Cells` or similar commands, the extension will group state notifications and the cell below will probably fail. If that's the case, simply run the cell again."
   ]
  },
  {
   "cell_type": "code",
   "execution_count": null,
   "metadata": {},
   "outputs": [
    {
     "data": {
      "text/html": [
       "<style>details ul { list-style-type:none; list-style-position: outside; padding-inline-start: 22px; margin: 0; } details .string { color: #24837b; } details .string::before { content: \"'\"; } details .string::after { content: \"'\"; } details .number { color: #ad8301; } details .true { color: blue; } details .false { color: red; } details .null { color: gray; } span.n { color: darkgrey; } </style>\n",
       "<details open><summary>NBCell@39\n",
       "</summary>  <ul>\n",
       "    <li>\n",
       "<span><span class=\"n\">idx</span>: <span class=\"v number\">39</span></span>    </li>\n",
       "    <li>\n",
       "<span><span class=\"n\">cell_type</span>: <span class=\"v string\">code</span></span>    </li>\n",
       "    <li>\n",
       "<span><span class=\"n\">source</span>: <span class=\"v string\"># cell 39\n",
       "test_eq(len(bridge.state.cells), l)\n",
       "uri = urllib.parse.urlparse(bridge.state.nbData[&#x27;notebookUri&#x27;])\n",
       "if in_vscode_notebook(globals(…</span></span>    </li>\n",
       "    <li>\n",
       "<span><span class=\"n\">id</span>: <span class=\"v string\">X54sZmlsZQ==</span></span>    </li>\n",
       "    <li>\n",
       "<span><span class=\"n\">metadata</span>: <span class=\"v \">{&#x27;brd&#x27;: {&#x27;id&#x27;: &#x27;d3c0c32b-2b59-4636-8545-711899a84b39&#x27;}}</span></span>    </li>\n",
       "<details open><summary>outputs\n",
       "</summary>      <ul></ul>\n",
       "</details>    <li>\n",
       "<span><span class=\"n\">execution_count</span>: <span class=\"v null\">None</span></span>    </li>\n",
       "  </ul>\n",
       "</details>"
      ],
      "text/markdown": [
       "> code\n",
       "\n",
       "```json\n",
       "{\n",
       "  'idx': 39,\n",
       "  'cell_type': 'code',\n",
       "  'source': \"# cell 39\\ntest_eq(len(bridge.state.cells), l)\\nuri = urllib.parse.urlparse(bridge.state.nbData['notebookUri'])\\nif in_vscode_notebook(globals()): test_eq(uri.path, __vsc_ipynb_file__)  # type: ignore\\nbridge.state[39]\",\n",
       "  'id': 'X54sZmlsZQ==',\n",
       "  'metadata': {'brd': {'id': 'd3c0c32b-2b59-4636-8545-711899a84b39'}},\n",
       "  'outputs': [],\n",
       "  'execution_count': None\n",
       "}\n",
       "```"
      ],
      "text/plain": [
       "{'idx': 39,\n",
       " 'cell_type': 'code',\n",
       " 'source': \"# cell 39\\ntest_eq(len(bridge.state.cells), l)\\nuri = urllib.parse.urlparse(bridge.state.nbData['notebookUri'])\\nif in_vscode_notebook(globals()): test_eq(uri.path, __vsc_ipynb_file__)  # type: ignore\\nbridge.state[39]\",\n",
       " 'id': 'X54sZmlsZQ==',\n",
       " 'metadata': {'brd': {'id': 'd3c0c32b-2b59-4636-8545-711899a84b39'}},\n",
       " 'outputs': [],\n",
       " 'execution_count': None}"
      ]
     },
     "metadata": {
      "bridge": {
       "captured": true
      }
     },
     "output_type": "display_data"
    }
   ],
   "source": [
    "# cell 39\n",
    "test_eq(len(bridge.state.cells), l)\n",
    "uri = urllib.parse.urlparse(bridge.state.nbData['notebookUri'])\n",
    "if in_vscode_notebook(): test_eq(uri.path, __vsc_ipynb_file__)  # type: ignore\n",
    "bridge.state[39]"
   ]
  },
  {
   "cell_type": "markdown",
   "metadata": {},
   "source": [
    "Note after running previous cell, the state has not yet been updated. Check that it has no outputs or the outputs are old. We'll see how to access the state of the current cell below."
   ]
  },
  {
   "cell_type": "code",
   "execution_count": null,
   "metadata": {},
   "outputs": [
    {
     "data": {
      "text/html": [
       "<style>details ul { list-style-type:none; list-style-position: outside; padding-inline-start: 22px; margin: 0; } details .string { color: #24837b; } details .string::before { content: \"'\"; } details .string::after { content: \"'\"; } details .number { color: #ad8301; } details .true { color: blue; } details .false { color: red; } details .null { color: gray; } span.n { color: darkgrey; } </style>\n",
       "<details open><summary>NBCell@39\n",
       "</summary>  <ul>\n",
       "    <li>\n",
       "<span><span class=\"n\">idx</span>: <span class=\"v number\">39</span></span>    </li>\n",
       "    <li>\n",
       "<span><span class=\"n\">cell_type</span>: <span class=\"v string\">code</span></span>    </li>\n",
       "    <li>\n",
       "<span><span class=\"n\">source</span>: <span class=\"v string\"># cell 39\n",
       "test_eq(len(bridge.state.cells), l)\n",
       "uri = urllib.parse.urlparse(bridge.state.nbData[&#x27;notebookUri&#x27;])\n",
       "if in_vscode_notebook(globals(…</span></span>    </li>\n",
       "    <li>\n",
       "<span><span class=\"n\">id</span>: <span class=\"v string\">X54sZmlsZQ==</span></span>    </li>\n",
       "    <li>\n",
       "<span><span class=\"n\">metadata</span>: <span class=\"v \">{&#x27;brd&#x27;: {&#x27;id&#x27;: &#x27;d3c0c32b-2b59-4636-8545-711899a84b39&#x27;}}</span></span>    </li>\n",
       "<details open><summary>outputs\n",
       "</summary>      <ul>\n",
       "<details open><summary>0\n",
       "</summary>          <ul>\n",
       "            <li>\n",
       "<span><span class=\"n\">output_type</span>: <span class=\"v string\">display_data</span></span>            </li>\n",
       "<details open><summary>data\n",
       "</summary>              <ul>\n",
       "                <li>\n",
       "<span><span class=\"n\">text/html</span>: <span class=\"v string\">&lt;style&gt;details ul { list-style-type:none; list-style-position: outside; padding-inline-start: 22px; margin: 0; } details .string { color: #2…</span></span>                </li>\n",
       "                <li>\n",
       "<span><span class=\"n\">text/markdown</span>: <span class=\"v string\">&gt; code\n",
       "\n",
       "```json\n",
       "{\n",
       "  &#x27;idx&#x27;: 39,\n",
       "  &#x27;cell_type&#x27;: &#x27;code&#x27;,\n",
       "  &#x27;source&#x27;: &quot;# cell 39\\ntest_eq(len(bridge.state.cells), l)\\nuri = urllib.parse.urlpar…</span></span>                </li>\n",
       "                <li>\n",
       "<span><span class=\"n\">text/plain</span>: <span class=\"v string\">{&#x27;idx&#x27;: 39,\n",
       " &#x27;cell_type&#x27;: &#x27;code&#x27;,\n",
       " &#x27;source&#x27;: &quot;# cell 39\\ntest_eq(len(bridge.state.cells), l)\\nuri = urllib.parse.urlparse(bridge.state.nbDat…</span></span>                </li>\n",
       "              </ul>\n",
       "</details>            <li>\n",
       "<span><span class=\"n\">metadata</span>: <span class=\"v \">{&#x27;transient&#x27;: {}, &#x27;bridge&#x27;: {&#x27;captured&#x27;: True}}</span></span>            </li>\n",
       "          </ul>\n",
       "</details>      </ul>\n",
       "</details>    <li>\n",
       "<span><span class=\"n\">execution_count</span>: <span class=\"v number\">28</span></span>    </li>\n",
       "  </ul>\n",
       "</details>"
      ],
      "text/markdown": [
       "> code\n",
       "\n",
       "```json\n",
       "{\n",
       "  'idx': 39,\n",
       "  'cell_type': 'code',\n",
       "  'source': \"# cell 39\\ntest_eq(len(bridge.state.cells), l)\\nuri = urllib.parse.urlparse(bridge.state.nbData['notebookUri'])\\nif in_vscode_notebook(globals()): test_eq(uri.path, __vsc_ipynb_file__)  # type: ignore\\nbridge.state[39]\",\n",
       "  'id': 'X54sZmlsZQ==',\n",
       "  'metadata': {'brd': {'id': 'd3c0c32b-2b59-4636-8545-711899a84b39'}},\n",
       "  'outputs': [\n",
       "    {\n",
       "      'output_type': 'display_data',\n",
       "      'data': {\n",
       "        'text/html': '<style>details ul { list-style-type:none; list-style-position: outside; padding-inline-start: 22px; margin: 0; } details .string { color: #24837b; } details .string::before { content: \"\\'\"; } details .string::after { content: \"\\'\"; } details .number { color: #ad8301; } details .true { color: blue; } details .false { color: red; } details .null { color: gray; } span.n { color: darkgrey; } </style>\\n<details open><summary>NBCell@39\\n</summary>  <ul>\\n    <li>\\n<span><span class=\"n\">idx</span>: <span class=\"v number\">39</span></span>    </li>\\n    <li>\\n<span><span class=\"n\">cell_type</span>: <span class=\"v string\">code</span></span>    </li>\\n    <li>\\n<span><span class=\"n\">source</span>: <span class=\"v string\"># cell 39\\ntest_eq(len(bridge.state.cells), l)\\nuri = urllib.parse.urlparse(bridge.state.nbData[&#x27;notebookUri&#x27;])\\nif in_vscode_notebook(globals(…</span></span>    </li>\\n    <li>\\n<span><span class=\"n\">id</span>: <span class=\"v string\">X54sZmlsZQ==</span></span>    </li>\\n    <li>\\n<span><span class=\"n\">metadata</span>: <span class=\"v \">{&#x27;brd&#x27;: {&#x27;id&#x27;: &#x27;d3c0c32b-2b59-4636-8545-711899a84b39&#x27;}}</span></span>    </li>\\n<details open><summary>outputs\\n</summary>      <ul></ul>\\n</details>    <li>\\n<span><span class=\"n\">execution_count</span>: <span class=\"v null\">None</span></span>    </li>\\n  </ul>\\n</details>',\n",
       "        'text/markdown': '> code\\n\\n```json\\n{\\n  \\'idx\\': 39,\\n  \\'cell_type\\': \\'code\\',\\n  \\'source\\': \"# cell 39\\\\ntest_eq(len(bridge.state.cells), l)\\\\nuri = urllib.parse.urlparse(bridge.state.nbData[\\'notebookUri\\'])\\\\nif in_vscode_notebook(globals()): test_eq(uri.path, __vsc_ipynb_file__)  # type: ignore\\\\nbridge.state[39]\",\\n  \\'id\\': \\'X54sZmlsZQ==\\',\\n  \\'metadata\\': {\\'brd\\': {\\'id\\': \\'d3c0c32b-2b59-4636-8545-711899a84b39\\'}},\\n  \\'outputs\\': [],\\n  \\'execution_count\\': None\\n}\\n```',\n",
       "        'text/plain': '{\\'idx\\': 39,\\n \\'cell_type\\': \\'code\\',\\n \\'source\\': \"# cell 39\\\\ntest_eq(len(bridge.state.cells), l)\\\\nuri = urllib.parse.urlparse(bridge.state.nbData[\\'notebookUri\\'])\\\\nif in_vscode_notebook(globals()): test_eq(uri.path, __vsc_ipynb_file__)  # type: ignore\\\\nbridge.state[39]\",\\n \\'id\\': \\'X54sZmlsZQ==\\',\\n \\'metadata\\': {\\'brd\\': {\\'id\\': \\'d3c0c32b-2b59-4636-8545-711899a84b39\\'}},\\n \\'outputs\\': [],\\n \\'execution_count\\': None}'\n",
       "      },\n",
       "      'metadata': {'transient': {}, 'bridge': {'captured': True}}\n",
       "    }\n",
       "  ],\n",
       "  'execution_count': 28\n",
       "}\n",
       "```"
      ],
      "text/plain": [
       "{'idx': 39,\n",
       " 'cell_type': 'code',\n",
       " 'source': \"# cell 39\\ntest_eq(len(bridge.state.cells), l)\\nuri = urllib.parse.urlparse(bridge.state.nbData['notebookUri'])\\nif in_vscode_notebook(globals()): test_eq(uri.path, __vsc_ipynb_file__)  # type: ignore\\nbridge.state[39]\",\n",
       " 'id': 'X54sZmlsZQ==',\n",
       " 'metadata': {'brd': {'id': 'd3c0c32b-2b59-4636-8545-711899a84b39'}},\n",
       " 'outputs': [{'output_type': 'display_data',\n",
       "   'data': {'text/html': '<style>details ul { list-style-type:none; list-style-position: outside; padding-inline-start: 22px; margin: 0; } details .string { color: #24837b; } details .string::before { content: \"\\'\"; } details .string::after { content: \"\\'\"; } details .number { color: #ad8301; } details .true { color: blue; } details .false { color: red; } details .null { color: gray; } span.n { color: darkgrey; } </style>\\n<details open><summary>NBCell@39\\n</summary>  <ul>\\n    <li>\\n<span><span class=\"n\">idx</span>: <span class=\"v number\">39</span></span>    </li>\\n    <li>\\n<span><span class=\"n\">cell_type</span>: <span class=\"v string\">code</span></span>    </li>\\n    <li>\\n<span><span class=\"n\">source</span>: <span class=\"v string\"># cell 39\\ntest_eq(len(bridge.state.cells), l)\\nuri = urllib.parse.urlparse(bridge.state.nbData[&#x27;notebookUri&#x27;])\\nif in_vscode_notebook(globals(…</span></span>    </li>\\n    <li>\\n<span><span class=\"n\">id</span>: <span class=\"v string\">X54sZmlsZQ==</span></span>    </li>\\n    <li>\\n<span><span class=\"n\">metadata</span>: <span class=\"v \">{&#x27;brd&#x27;: {&#x27;id&#x27;: &#x27;d3c0c32b-2b59-4636-8545-711899a84b39&#x27;}}</span></span>    </li>\\n<details open><summary>outputs\\n</summary>      <ul></ul>\\n</details>    <li>\\n<span><span class=\"n\">execution_count</span>: <span class=\"v null\">None</span></span>    </li>\\n  </ul>\\n</details>',\n",
       "    'text/markdown': '> code\\n\\n```json\\n{\\n  \\'idx\\': 39,\\n  \\'cell_type\\': \\'code\\',\\n  \\'source\\': \"# cell 39\\\\ntest_eq(len(bridge.state.cells), l)\\\\nuri = urllib.parse.urlparse(bridge.state.nbData[\\'notebookUri\\'])\\\\nif in_vscode_notebook(globals()): test_eq(uri.path, __vsc_ipynb_file__)  # type: ignore\\\\nbridge.state[39]\",\\n  \\'id\\': \\'X54sZmlsZQ==\\',\\n  \\'metadata\\': {\\'brd\\': {\\'id\\': \\'d3c0c32b-2b59-4636-8545-711899a84b39\\'}},\\n  \\'outputs\\': [],\\n  \\'execution_count\\': None\\n}\\n```',\n",
       "    'text/plain': '{\\'idx\\': 39,\\n \\'cell_type\\': \\'code\\',\\n \\'source\\': \"# cell 39\\\\ntest_eq(len(bridge.state.cells), l)\\\\nuri = urllib.parse.urlparse(bridge.state.nbData[\\'notebookUri\\'])\\\\nif in_vscode_notebook(globals()): test_eq(uri.path, __vsc_ipynb_file__)  # type: ignore\\\\nbridge.state[39]\",\\n \\'id\\': \\'X54sZmlsZQ==\\',\\n \\'metadata\\': {\\'brd\\': {\\'id\\': \\'d3c0c32b-2b59-4636-8545-711899a84b39\\'}},\\n \\'outputs\\': [],\\n \\'execution_count\\': None}'},\n",
       "   'metadata': {'transient': {}, 'bridge': {'captured': True}}}],\n",
       " 'execution_count': 28}"
      ]
     },
     "metadata": {
      "bridge": {
       "captured": true
      }
     },
     "output_type": "display_data"
    }
   ],
   "source": [
    "# cell 41\n",
    "bridge.state.cells[39]"
   ]
  },
  {
   "cell_type": "code",
   "execution_count": null,
   "metadata": {},
   "outputs": [
    {
     "data": {
      "text/html": [
       "<div id='brd-logger_3-1758027501' class='brd-logger' style='width: 100%; max-height: 200px;'></div>"
      ],
      "text/plain": [
       "<bridget.helpers.HTML object>"
      ]
     },
     "metadata": {},
     "output_type": "display_data"
    }
   ],
   "source": [
    "bridge.logger.show()"
   ]
  },
  {
   "cell_type": "code",
   "execution_count": null,
   "metadata": {},
   "outputs": [
    {
     "name": "stdout",
     "output_type": "stream",
     "text": [
      "test5\n"
     ]
    }
   ],
   "source": [
    "print('test5')"
   ]
  },
  {
   "cell_type": "code",
   "execution_count": null,
   "metadata": {},
   "outputs": [
    {
     "data": {
      "text/html": [
       "<div>test6</div>"
      ],
      "text/plain": [
       "<IPython.core.display.HTML object>"
      ]
     },
     "metadata": {},
     "output_type": "display_data"
    }
   ],
   "source": [
    "display(HTML('<div>test6</div>'))"
   ]
  },
  {
   "cell_type": "markdown",
   "metadata": {},
   "source": [
    "# NBState\n",
    "> Simple wrapper around `NB` + `NBStateFetcher` & `NBHooks` bridge plugins"
   ]
  },
  {
   "cell_type": "code",
   "execution_count": null,
   "metadata": {},
   "outputs": [],
   "source": [
    "#| export\n",
    "\n",
    "@runtime_checkable\n",
    "class StateProvider(Protocol):\n",
    "    @property\n",
    "    def state(self) -> NB:...\n",
    "\n",
    "\n",
    "class NBState(FC.GetAttr):\n",
    "    _default = 'state'\n",
    "    def __init__(self, source: StateProvider|Mapping|None=None, *bridge_args, plugins=None, **bridge_kw):\n",
    "        self._state = None\n",
    "        if source is None:\n",
    "            if not NBStateFeedback.shown: NBStateFeedback.show(hide=True)\n",
    "            plugins = [NBHooksPlugin(), NBStateFetcher()]\n",
    "            if 'wait' not in bridge_kw: bridge_kw['wait'] = 3\n",
    "            source = get_bridge(*bridge_args, plugins=plugins, **bridge_kw)\n",
    "        elif isinstance(source, Mapping): self._state = NB(**source)\n",
    "        self.source = source\n",
    "\n",
    "    @overload\n",
    "    def __getitem__(self, key: SupportsIndex|str, /) -> NBCell: ...\n",
    "    @overload\n",
    "    def __getitem__(self, key: slice, /) -> L: ...\n",
    "    def __getitem__(self, key) -> NBCell|L: \n",
    "        if isinstance(key, str):\n",
    "            cc = self.cells.filter(lambda c: c.metadata['cell_id'] == key)\n",
    "            return cc[0] if len(cc) else L()  # type: ignore\n",
    "        return self.cells[key]  # type: ignore\n",
    "\n",
    "    @property\n",
    "    def state(self) -> NB:\n",
    "        return self.source.state if self._state is None else self._state  # type: ignore\n",
    "\n",
    "    def this(self, idx:int|None=None) -> NBCell:..."
   ]
  },
  {
   "cell_type": "code",
   "execution_count": null,
   "metadata": {},
   "outputs": [],
   "source": [
    "state = json.loads(Path('../packages/nbinspect-vscode/test/outputs.json').read_text('utf-8'))\n",
    "\n",
    "nb = NBState(state)"
   ]
  },
  {
   "cell_type": "code",
   "execution_count": null,
   "metadata": {},
   "outputs": [
    {
     "data": {
      "text/plain": [
       "(#2) [0,23]"
      ]
     },
     "metadata": {},
     "output_type": "display_data"
    },
    {
     "data": {
      "text/plain": [
       "(#40) [1,2,3,4,5,6,7,8,9,10,11,12,13,14,15,16,17,18,19,20...]"
      ]
     },
     "metadata": {
      "bridge": {
       "captured": true
      }
     },
     "output_type": "display_data"
    }
   ],
   "source": [
    "display(nb.mds)\n",
    "nb.codes"
   ]
  },
  {
   "cell_type": "code",
   "execution_count": null,
   "metadata": {},
   "outputs": [
    {
     "data": {
      "text/html": [
       "<div id='brd-logger_4-1758027501' class='brd-logger' style='width: 100%; max-height: 200px;'></div>"
      ],
      "text/plain": [
       "<bridget.helpers.HTML object>"
      ]
     },
     "metadata": {},
     "output_type": "display_data"
    }
   ],
   "source": [
    "nb = NBState(show_logger=True, wait=5)\n",
    "test_eq(nb.source, get_bridge())"
   ]
  },
  {
   "cell_type": "code",
   "execution_count": null,
   "metadata": {},
   "outputs": [
    {
     "data": {
      "text/html": [
       "<style>details ul { list-style-type:none; list-style-position: outside; padding-inline-start: 22px; margin: 0; } details .string { color: #24837b; } details .string::before { content: \"'\"; } details .string::after { content: \"'\"; } details .number { color: #ad8301; } details .true { color: blue; } details .false { color: red; } details .null { color: gray; } span.n { color: darkgrey; } </style>\n",
       "<details open><summary>NBCell@50\n",
       "</summary>  <ul>\n",
       "    <li>\n",
       "<span><span class=\"n\">idx</span>: <span class=\"v number\">50</span></span>    </li>\n",
       "    <li>\n",
       "<span><span class=\"n\">cell_type</span>: <span class=\"v string\">code</span></span>    </li>\n",
       "    <li>\n",
       "<span><span class=\"n\">source</span>: <span class=\"v string\">if len(nb.cells): display(nb[50])</span></span>    </li>\n",
       "    <li>\n",
       "<span><span class=\"n\">id</span>: <span class=\"v string\">Y101sZmlsZQ==</span></span>    </li>\n",
       "    <li>\n",
       "<span><span class=\"n\">metadata</span>: <span class=\"v \">{&#x27;brd&#x27;: {&#x27;id&#x27;: &#x27;fdded7fd-1ce6-4f0a-b0dc-8f9a897eafe8&#x27;}}</span></span>    </li>\n",
       "<details open><summary>outputs\n",
       "</summary>      <ul></ul>\n",
       "</details>    <li>\n",
       "<span><span class=\"n\">execution_count</span>: <span class=\"v null\">None</span></span>    </li>\n",
       "  </ul>\n",
       "</details>"
      ],
      "text/markdown": [
       "> code\n",
       "\n",
       "```json\n",
       "{\n",
       "  'idx': 50,\n",
       "  'cell_type': 'code',\n",
       "  'source': 'if len(nb.cells): display(nb[50])',\n",
       "  'id': 'Y101sZmlsZQ==',\n",
       "  'metadata': {'brd': {'id': 'fdded7fd-1ce6-4f0a-b0dc-8f9a897eafe8'}},\n",
       "  'outputs': [],\n",
       "  'execution_count': None\n",
       "}\n",
       "```"
      ],
      "text/plain": [
       "{'idx': 50,\n",
       " 'cell_type': 'code',\n",
       " 'source': 'if len(nb.cells): display(nb[50])',\n",
       " 'id': 'Y101sZmlsZQ==',\n",
       " 'metadata': {'brd': {'id': 'fdded7fd-1ce6-4f0a-b0dc-8f9a897eafe8'}},\n",
       " 'outputs': [],\n",
       " 'execution_count': None}"
      ]
     },
     "metadata": {},
     "output_type": "display_data"
    }
   ],
   "source": [
    "if len(nb.cells): display(nb[50])"
   ]
  },
  {
   "cell_type": "code",
   "execution_count": null,
   "metadata": {},
   "outputs": [
    {
     "data": {
      "text/plain": [
       "['{\\'idx\\': 40, \\'cell_type\\': \\'markdown\\', \\'source\\': \"Note after running previous cell…',\n",
       " \"{'idx': 41, 'cell_type': 'code', 'source': '# cell 41\\\\nbridge.state.cells[39]', …\",\n",
       " \"{'idx': 42, 'cell_type': 'code', 'source': 'bridge.logger.show()', 'id': 'X60sZm…\",\n",
       " '{\\'idx\\': 43, \\'cell_type\\': \\'code\\', \\'source\\': \"print(\\'test5\\')\", \\'id\\': \\'X61sZmlsZQ==…',\n",
       " '{\\'idx\\': 44, \\'cell_type\\': \\'code\\', \\'source\\': \"display(HTML(\\'<div>test6</div>\\'))\", …',\n",
       " \"{'idx': 45, 'cell_type': 'markdown', 'source': '# NBState\\\\n> Simple wrapper arou…\",\n",
       " '{\\'idx\\': 46, \\'cell_type\\': \\'code\\', \\'source\\': \"#| export\\\\n\\\\n@runtime_checkable\\\\ncla…',\n",
       " '{\\'idx\\': 47, \\'cell_type\\': \\'code\\', \\'source\\': \"state = json.loads(Path(\\'../packages…',\n",
       " \"{'idx': 48, 'cell_type': 'code', 'source': 'display(nb.mds)\\\\nnb.codes', 'id': 'X…\",\n",
       " \"{'idx': 49, 'cell_type': 'code', 'source': 'nb = NBState(show_logger=True, wait=…\"]"
      ]
     },
     "metadata": {
      "bridge": {
       "captured": true
      }
     },
     "output_type": "display_data"
    }
   ],
   "source": [
    "list(shortens(nb[40:50], 'r', 80))"
   ]
  },
  {
   "cell_type": "code",
   "execution_count": null,
   "metadata": {},
   "outputs": [
    {
     "data": {
      "text/plain": [
       "[\"#| export\\n\\nNBSTATE_MIME = 'application/x-notebook-state+json'\\n\\nclass _NBStateFee…\",\n",
       " \"#| export\\n\\nclass NBStateFetcher(BridgePlugin):\\n    src = bundled('''\\nimport { in…\",\n",
       " '#| export\\n\\n@runtime_checkable\\nclass StateProvider(Protocol):\\n    @property\\n    d…',\n",
       " \"list(shortens(nb.find('class').attrgot('source'), 'r', 80))\"]"
      ]
     },
     "metadata": {
      "bridge": {
       "captured": true
      }
     },
     "output_type": "display_data"
    }
   ],
   "source": [
    "list(shortens(nb.find('class').attrgot('source'), 'r', 80))"
   ]
  },
  {
   "cell_type": "code",
   "execution_count": null,
   "metadata": {},
   "outputs": [],
   "source": [
    "# find_me"
   ]
  },
  {
   "cell_type": "code",
   "execution_count": null,
   "metadata": {},
   "outputs": [
    {
     "data": {
      "text/plain": [
       "[\"{'idx': 53, 'cell_type': 'code', 'source': '# find_me', 'id': 'Y104sZmlsZQ==', '…\",\n",
       " '{\\'idx\\': 54, \\'cell_type\\': \\'code\\', \\'source\\': \"#| hide\\\\nlist(shortens(nb.find(\\'# fi…',\n",
       " '{\\'idx\\': 55, \\'cell_type\\': \\'code\\', \\'source\\': \"#| hide\\\\nnb.find(\\'# find_me\\').filter…']"
      ]
     },
     "metadata": {
      "bridge": {
       "captured": true
      }
     },
     "output_type": "display_data"
    }
   ],
   "source": [
    "#| hide\n",
    "list(shortens(nb.find('# find_me'), 'r', 80))"
   ]
  },
  {
   "cell_type": "code",
   "execution_count": null,
   "metadata": {},
   "outputs": [
    {
     "data": {
      "text/plain": [
       "(#1) ['# find_me']"
      ]
     },
     "metadata": {
      "bridge": {
       "captured": true
      }
     },
     "output_type": "display_data"
    }
   ],
   "source": [
    "#| hide\n",
    "nb.find('# find_me').filter(lambda x: 'hide' not in x.directives_).attrgot('source')"
   ]
  },
  {
   "cell_type": "code",
   "execution_count": null,
   "metadata": {},
   "outputs": [
    {
     "data": {
      "text/plain": [
       "(#1) [\"# this cell2\\n# nb.update()\\nnb.find('# this cell2').attrgot('source')\"]"
      ]
     },
     "metadata": {
      "bridge": {
       "captured": true
      }
     },
     "output_type": "display_data"
    }
   ],
   "source": [
    "# this cell2\n",
    "# nb.update()\n",
    "nb.find('# this cell2').attrgot('source')"
   ]
  },
  {
   "cell_type": "markdown",
   "metadata": {},
   "source": [
    "# Cell id\n",
    "\n",
    "For this to work, bridge must be loaded with the `NBHooksPlugin` (NBState takes care of all that) ."
   ]
  },
  {
   "cell_type": "code",
   "execution_count": null,
   "metadata": {},
   "outputs": [],
   "source": [
    "# really hate stupid wiggly reds\n",
    "__cellinfo__:AD"
   ]
  },
  {
   "cell_type": "code",
   "execution_count": null,
   "metadata": {},
   "outputs": [
    {
     "name": "stdout",
     "output_type": "stream",
     "text": [
      "'Y113sZmlsZQ=='\n",
      "'print(f\"{__cellinfo__.cell_id!r}\\\\n{__cellinfo__.source!r}\")\\ntest_eq(__cellinfo__.source[:29], \\'print(f\"{__cellinfo__.cell_id\\')'\n"
     ]
    }
   ],
   "source": [
    "print(f\"{__cellinfo__.cell_id!r}\\n{__cellinfo__.source!r}\")\n",
    "test_eq(__cellinfo__.source[:29], 'print(f\"{__cellinfo__.cell_id')"
   ]
  },
  {
   "cell_type": "code",
   "execution_count": null,
   "metadata": {},
   "outputs": [
    {
     "data": {
      "text/html": [
       "<style>details ul { list-style-type:none; list-style-position: outside; padding-inline-start: 22px; margin: 0; } details .string { color: #24837b; } details .string::before { content: \"'\"; } details .string::after { content: \"'\"; } details .number { color: #ad8301; } details .true { color: blue; } details .false { color: red; } details .null { color: gray; } span.n { color: darkgrey; } </style>\n",
       "<details open><summary>NBCell@60\n",
       "</summary>  <ul>\n",
       "    <li>\n",
       "<span><span class=\"n\">idx</span>: <span class=\"v number\">60</span></span>    </li>\n",
       "    <li>\n",
       "<span><span class=\"n\">cell_type</span>: <span class=\"v string\">code</span></span>    </li>\n",
       "    <li>\n",
       "<span><span class=\"n\">source</span>: <span class=\"v string\"># cell x\n",
       "idx = nb.find(&#x27;# cell x&#x27;)[0].idx  # type: ignore\n",
       "test_eq(__cellinfo__.cell_id, nb[idx].id)\n",
       "nb[idx]</span></span>    </li>\n",
       "    <li>\n",
       "<span><span class=\"n\">id</span>: <span class=\"v string\">Y114sZmlsZQ==</span></span>    </li>\n",
       "    <li>\n",
       "<span><span class=\"n\">metadata</span>: <span class=\"v \">{&#x27;brd&#x27;: {&#x27;id&#x27;: &#x27;d77063e2-e8eb-49f8-a062-11f66ba86f9f&#x27;}}</span></span>    </li>\n",
       "<details open><summary>outputs\n",
       "</summary>      <ul></ul>\n",
       "</details>    <li>\n",
       "<span><span class=\"n\">execution_count</span>: <span class=\"v null\">None</span></span>    </li>\n",
       "  </ul>\n",
       "</details>"
      ],
      "text/markdown": [
       "> code\n",
       "\n",
       "```json\n",
       "{\n",
       "  'idx': 60,\n",
       "  'cell_type': 'code',\n",
       "  'source': \"# cell x\\nidx = nb.find('# cell x')[0].idx  # type: ignore\\ntest_eq(__cellinfo__.cell_id, nb[idx].id)\\nnb[idx]\",\n",
       "  'id': 'Y114sZmlsZQ==',\n",
       "  'metadata': {'brd': {'id': 'd77063e2-e8eb-49f8-a062-11f66ba86f9f'}},\n",
       "  'outputs': [],\n",
       "  'execution_count': None\n",
       "}\n",
       "```"
      ],
      "text/plain": [
       "{'idx': 60,\n",
       " 'cell_type': 'code',\n",
       " 'source': \"# cell x\\nidx = nb.find('# cell x')[0].idx  # type: ignore\\ntest_eq(__cellinfo__.cell_id, nb[idx].id)\\nnb[idx]\",\n",
       " 'id': 'Y114sZmlsZQ==',\n",
       " 'metadata': {'brd': {'id': 'd77063e2-e8eb-49f8-a062-11f66ba86f9f'}},\n",
       " 'outputs': [],\n",
       " 'execution_count': None}"
      ]
     },
     "metadata": {
      "bridge": {
       "captured": true
      }
     },
     "output_type": "display_data"
    }
   ],
   "source": [
    "# cell x\n",
    "idx = nb.find('# cell x')[0].idx  # type: ignore\n",
    "test_eq(__cellinfo__.cell_id, nb[idx].id)\n",
    "nb[idx]"
   ]
  },
  {
   "cell_type": "markdown",
   "metadata": {},
   "source": [
    "# this\n",
    "\n",
    "`this` marks the finale of the first part of Bridget.\n",
    "\n",
    "We now have all the pieces to build the bridge.\n",
    "- fasthtml & other helper scripts\n",
    "- loader of arbitrary JS code\n",
    "- notebook state fetcher\n",
    "- nbstate and nb hooks\n",
    "\n",
    "Next steps will be to add tools to edit notebook outputs."
   ]
  },
  {
   "cell_type": "code",
   "execution_count": null,
   "metadata": {},
   "outputs": [],
   "source": [
    "#| export\n",
    "\n",
    "FIRST = -sys.maxsize\n",
    "LAST = sys.maxsize\n",
    "\n",
    "# this: Literal['this'] = 'this'"
   ]
  },
  {
   "cell_type": "code",
   "execution_count": null,
   "metadata": {},
   "outputs": [],
   "source": [
    "#| export\n",
    "\n",
    "def this(idx:int|None=None) -> NBCell:\n",
    "    \"Current cell if `idx` is None, or cell at `idx` from current cell upwards. Raises if not found.\"\n",
    "    # if not ((bridge := get_bridge()).plugins.get('fetcher', None)):\n",
    "    #     bridge.add_plugins(fetcher := NBStateFetcher(), wait=3)\n",
    "    #     blocks(lambda: fetcher.is_initialized is not None, 3)\n",
    "    # Ummm, don't really need the `fetcher` for this to work\n",
    "    if not ((bridge := get_bridge()).plugins.get('nbhooks', None)): bridge.add_plugins(NBHooksPlugin())\n",
    "    shell = get_ipython()\n",
    "    if shell is None: raise IndexError('No IPython shell found')\n",
    "    cellinfo = shell.user_ns.get('__cellinfo__')\n",
    "    if not cellinfo: raise IndexError('__cellinfo__ is not set')\n",
    "    this_cell = bridge.state[cellinfo.cell_id]\n",
    "    this_cell.source = cellinfo.source\n",
    "    if not idx: return this_cell\n",
    "    this_idx, cells = this_cell.idx, bridge.state.cells\n",
    "    return cells[\n",
    "        max(0, this_idx + idx)] if idx < 0 else cells[min(len(cells)-1, this_idx + idx)]  # type: ignore"
   ]
  },
  {
   "cell_type": "code",
   "execution_count": null,
   "metadata": {},
   "outputs": [
    {
     "data": {
      "text/html": [
       "<div id='brd-logger_5-1758027501' class='brd-logger' style='width: 100%; max-height: 200px;'></div>"
      ],
      "text/plain": [
       "<bridget.helpers.HTML object>"
      ]
     },
     "metadata": {},
     "output_type": "display_data"
    }
   ],
   "source": [
    "bridge.logger.show(clear=True)"
   ]
  },
  {
   "cell_type": "code",
   "execution_count": null,
   "metadata": {},
   "outputs": [
    {
     "data": {
      "text/html": [
       "<style>details ul { list-style-type:none; list-style-position: outside; padding-inline-start: 22px; margin: 0; } details .string { color: #24837b; } details .string::before { content: \"'\"; } details .string::after { content: \"'\"; } details .number { color: #ad8301; } details .true { color: blue; } details .false { color: red; } details .null { color: gray; } span.n { color: darkgrey; } </style>\n",
       "<details open><summary>NBCell@65\n",
       "</summary>  <ul>\n",
       "    <li>\n",
       "<span><span class=\"n\">idx</span>: <span class=\"v number\">65</span></span>    </li>\n",
       "    <li>\n",
       "<span><span class=\"n\">cell_type</span>: <span class=\"v string\">code</span></span>    </li>\n",
       "    <li>\n",
       "<span><span class=\"n\">source</span>: <span class=\"v string\">c = this(); c</span></span>    </li>\n",
       "    <li>\n",
       "<span><span class=\"n\">id</span>: <span class=\"v string\">Y122sZmlsZQ==</span></span>    </li>\n",
       "    <li>\n",
       "<span><span class=\"n\">metadata</span>: <span class=\"v \">{&#x27;brd&#x27;: {&#x27;id&#x27;: &#x27;a8d3529d-06b6-4d95-8a62-ea664ec0d52e&#x27;}}</span></span>    </li>\n",
       "<details open><summary>outputs\n",
       "</summary>      <ul></ul>\n",
       "</details>    <li>\n",
       "<span><span class=\"n\">execution_count</span>: <span class=\"v null\">None</span></span>    </li>\n",
       "  </ul>\n",
       "</details>"
      ],
      "text/markdown": [
       "> code\n",
       "\n",
       "```json\n",
       "{\n",
       "  'idx': 65,\n",
       "  'cell_type': 'code',\n",
       "  'source': 'c = this(); c',\n",
       "  'id': 'Y122sZmlsZQ==',\n",
       "  'metadata': {'brd': {'id': 'a8d3529d-06b6-4d95-8a62-ea664ec0d52e'}},\n",
       "  'outputs': [],\n",
       "  'execution_count': None\n",
       "}\n",
       "```"
      ],
      "text/plain": [
       "{'idx': 65,\n",
       " 'cell_type': 'code',\n",
       " 'source': 'c = this(); c',\n",
       " 'id': 'Y122sZmlsZQ==',\n",
       " 'metadata': {'brd': {'id': 'a8d3529d-06b6-4d95-8a62-ea664ec0d52e'}},\n",
       " 'outputs': [],\n",
       " 'execution_count': None}"
      ]
     },
     "metadata": {
      "bridge": {
       "captured": true
      }
     },
     "output_type": "display_data"
    }
   ],
   "source": [
    "c = this(); c"
   ]
  },
  {
   "cell_type": "code",
   "execution_count": null,
   "metadata": {},
   "outputs": [
    {
     "data": {
      "text/html": [
       "<style>details ul { list-style-type:none; list-style-position: outside; padding-inline-start: 22px; margin: 0; } details .string { color: #24837b; } details .string::before { content: \"'\"; } details .string::after { content: \"'\"; } details .number { color: #ad8301; } details .true { color: blue; } details .false { color: red; } details .null { color: gray; } span.n { color: darkgrey; } </style>\n",
       "<details open><summary>NBCell@65\n",
       "</summary>  <ul>\n",
       "    <li>\n",
       "<span><span class=\"n\">idx</span>: <span class=\"v number\">65</span></span>    </li>\n",
       "    <li>\n",
       "<span><span class=\"n\">cell_type</span>: <span class=\"v string\">code</span></span>    </li>\n",
       "    <li>\n",
       "<span><span class=\"n\">source</span>: <span class=\"v string\">c = this(); c</span></span>    </li>\n",
       "    <li>\n",
       "<span><span class=\"n\">id</span>: <span class=\"v string\">Y122sZmlsZQ==</span></span>    </li>\n",
       "    <li>\n",
       "<span><span class=\"n\">metadata</span>: <span class=\"v \">{&#x27;brd&#x27;: {&#x27;id&#x27;: &#x27;a8d3529d-06b6-4d95-8a62-ea664ec0d52e&#x27;}}</span></span>    </li>\n",
       "<details open><summary>outputs\n",
       "</summary>      <ul>\n",
       "<details open><summary>0\n",
       "</summary>          <ul>\n",
       "            <li>\n",
       "<span><span class=\"n\">output_type</span>: <span class=\"v string\">execute_result</span></span>            </li>\n",
       "            <li>\n",
       "<span><span class=\"n\">execution_count</span>: <span class=\"v number\">50</span></span>            </li>\n",
       "<details open><summary>data\n",
       "</summary>              <ul>\n",
       "                <li>\n",
       "<span><span class=\"n\">text/plain</span>: <span class=\"v string\">{&#x27;idx&#x27;: 65,\n",
       " &#x27;cell_type&#x27;: &#x27;code&#x27;,\n",
       " &#x27;source&#x27;: &#x27;c = this(); c&#x27;,\n",
       " &#x27;id&#x27;: &#x27;Y122sZmlsZQ==&#x27;,\n",
       " &#x27;metadata&#x27;: {&#x27;brd&#x27;: {&#x27;id&#x27;: &#x27;a8d3529d-06b6-4d95-8a62-e…</span></span>                </li>\n",
       "                <li>\n",
       "<span><span class=\"n\">text/html</span>: <span class=\"v string\">&lt;style&gt;details ul { list-style-type:none; list-style-position: outside; padding-inline-start: 22px; margin: 0; } details .string { color: #2…</span></span>                </li>\n",
       "                <li>\n",
       "<span><span class=\"n\">text/markdown</span>: <span class=\"v string\">&gt; code\n",
       "\n",
       "```json\n",
       "{\n",
       "  &#x27;idx&#x27;: 65,\n",
       "  &#x27;cell_type&#x27;: &#x27;code&#x27;,\n",
       "  &#x27;source&#x27;: &#x27;c = this(); c&#x27;,\n",
       "  &#x27;id&#x27;: &#x27;Y122sZmlsZQ==&#x27;,\n",
       "  &#x27;metadata&#x27;: {&#x27;brd&#x27;: {&#x27;id&#x27;: &#x27;a8…</span></span>                </li>\n",
       "              </ul>\n",
       "</details>            <li>\n",
       "<span><span class=\"n\">metadata</span>: <span class=\"v \">{}</span></span>            </li>\n",
       "          </ul>\n",
       "</details>      </ul>\n",
       "</details>    <li>\n",
       "<span><span class=\"n\">execution_count</span>: <span class=\"v number\">50</span></span>    </li>\n",
       "  </ul>\n",
       "</details>"
      ],
      "text/markdown": [
       "> code\n",
       "\n",
       "```json\n",
       "{\n",
       "  'idx': 65,\n",
       "  'cell_type': 'code',\n",
       "  'source': 'c = this(); c',\n",
       "  'id': 'Y122sZmlsZQ==',\n",
       "  'metadata': {'brd': {'id': 'a8d3529d-06b6-4d95-8a62-ea664ec0d52e'}},\n",
       "  'outputs': [\n",
       "    {\n",
       "      'output_type': 'execute_result',\n",
       "      'execution_count': 50,\n",
       "      'data': {\n",
       "        'text/plain': \"{'idx': 65,\\n 'cell_type': 'code',\\n 'source': 'c = this(); c',\\n 'id': 'Y122sZmlsZQ==',\\n 'metadata': {'brd': {'id': 'a8d3529d-06b6-4d95-8a62-ea664ec0d52e'}},\\n 'outputs': [],\\n 'execution_count': None}\",\n",
       "        'text/html': '<style>details ul { list-style-type:none; list-style-position: outside; padding-inline-start: 22px; margin: 0; } details .string { color: #24837b; } details .string::before { content: \"\\'\"; } details .string::after { content: \"\\'\"; } details .number { color: #ad8301; } details .true { color: blue; } details .false { color: red; } details .null { color: gray; } span.n { color: darkgrey; } </style>\\n<details open><summary>NBCell@65\\n</summary>  <ul>\\n    <li>\\n<span><span class=\"n\">idx</span>: <span class=\"v number\">65</span></span>    </li>\\n    <li>\\n<span><span class=\"n\">cell_type</span>: <span class=\"v string\">code</span></span>    </li>\\n    <li>\\n<span><span class=\"n\">source</span>: <span class=\"v string\">c = this(); c</span></span>    </li>\\n    <li>\\n<span><span class=\"n\">id</span>: <span class=\"v string\">Y122sZmlsZQ==</span></span>    </li>\\n    <li>\\n<span><span class=\"n\">metadata</span>: <span class=\"v \">{&#x27;brd&#x27;: {&#x27;id&#x27;: &#x27;a8d3529d-06b6-4d95-8a62-ea664ec0d52e&#x27;}}</span></span>    </li>\\n<details open><summary>outputs\\n</summary>      <ul></ul>\\n</details>    <li>\\n<span><span class=\"n\">execution_count</span>: <span class=\"v null\">None</span></span>    </li>\\n  </ul>\\n</details>',\n",
       "        'text/markdown': \"> code\\n\\n```json\\n{\\n  'idx': 65,\\n  'cell_type': 'code',\\n  'source': 'c = this(); c',\\n  'id': 'Y122sZmlsZQ==',\\n  'metadata': {'brd': {'id': 'a8d3529d-06b6-4d95-8a62-ea664ec0d52e'}},\\n  'outputs': [],\\n  'execution_count': None\\n}\\n```\"\n",
       "      },\n",
       "      'metadata': {}\n",
       "    }\n",
       "  ],\n",
       "  'execution_count': 50\n",
       "}\n",
       "```"
      ],
      "text/plain": [
       "{'idx': 65,\n",
       " 'cell_type': 'code',\n",
       " 'source': 'c = this(); c',\n",
       " 'id': 'Y122sZmlsZQ==',\n",
       " 'metadata': {'brd': {'id': 'a8d3529d-06b6-4d95-8a62-ea664ec0d52e'}},\n",
       " 'outputs': [{'output_type': 'execute_result',\n",
       "   'execution_count': 50,\n",
       "   'data': {'text/plain': \"{'idx': 65,\\n 'cell_type': 'code',\\n 'source': 'c = this(); c',\\n 'id': 'Y122sZmlsZQ==',\\n 'metadata': {'brd': {'id': 'a8d3529d-06b6-4d95-8a62-ea664ec0d52e'}},\\n 'outputs': [],\\n 'execution_count': None}\",\n",
       "    'text/html': '<style>details ul { list-style-type:none; list-style-position: outside; padding-inline-start: 22px; margin: 0; } details .string { color: #24837b; } details .string::before { content: \"\\'\"; } details .string::after { content: \"\\'\"; } details .number { color: #ad8301; } details .true { color: blue; } details .false { color: red; } details .null { color: gray; } span.n { color: darkgrey; } </style>\\n<details open><summary>NBCell@65\\n</summary>  <ul>\\n    <li>\\n<span><span class=\"n\">idx</span>: <span class=\"v number\">65</span></span>    </li>\\n    <li>\\n<span><span class=\"n\">cell_type</span>: <span class=\"v string\">code</span></span>    </li>\\n    <li>\\n<span><span class=\"n\">source</span>: <span class=\"v string\">c = this(); c</span></span>    </li>\\n    <li>\\n<span><span class=\"n\">id</span>: <span class=\"v string\">Y122sZmlsZQ==</span></span>    </li>\\n    <li>\\n<span><span class=\"n\">metadata</span>: <span class=\"v \">{&#x27;brd&#x27;: {&#x27;id&#x27;: &#x27;a8d3529d-06b6-4d95-8a62-ea664ec0d52e&#x27;}}</span></span>    </li>\\n<details open><summary>outputs\\n</summary>      <ul></ul>\\n</details>    <li>\\n<span><span class=\"n\">execution_count</span>: <span class=\"v null\">None</span></span>    </li>\\n  </ul>\\n</details>',\n",
       "    'text/markdown': \"> code\\n\\n```json\\n{\\n  'idx': 65,\\n  'cell_type': 'code',\\n  'source': 'c = this(); c',\\n  'id': 'Y122sZmlsZQ==',\\n  'metadata': {'brd': {'id': 'a8d3529d-06b6-4d95-8a62-ea664ec0d52e'}},\\n  'outputs': [],\\n  'execution_count': None\\n}\\n```\"},\n",
       "   'metadata': {}}],\n",
       " 'execution_count': 50}"
      ]
     },
     "metadata": {
      "bridge": {
       "captured": true
      }
     },
     "output_type": "display_data"
    }
   ],
   "source": [
    "c"
   ]
  },
  {
   "cell_type": "markdown",
   "metadata": {},
   "source": [
    "`this` is meant to be used interactively (as most of Bridget is).\n",
    "\n",
    "The main function of `this` is to get the current cell, or more so, the current cell's index, and get your bearings in the current notebook structure.\n",
    "\n",
    "Note that due to the client-server nature of the Jupyter notebooks, code running in the kernel can't possibly access the cell currently being executed. The cell state is maintained byt the front-end, not the kernel. The kernel in fact knows nothing of notebooks or their structure. We can aspire at most to get the cell's index and source. The output is not yet determined, though Bridget will capture it and you can access it **after** the cell has run, not during the cell execution. You can find the cell with NBState afterwards.\n",
    "\n",
    "Also be aware, as always, that batch commands like \"Execute Above Cells\" and similar are implemented very differently by Jupyter Notebooks vendors. The cells in the run queue may start running in order (or not, I've seen ships on fire off the shoulder of Orion), but not necessarily finish up in that order. Bridget may receive the cells in any order and therefore, the notebook state is not settled until the end. In general, in Jupyter Notebooks, cells that depends on outputs of other cells will surely fail when not running interactively. This is known issue (and a desing flaw imo, that can be resolved simply by the front-end sending the cells in order to the kernel and waiting for each one to fisnish before sending the next one) and one of the reason Marimo and other Jupyter modern alternatives exists."
   ]
  },
  {
   "cell_type": "code",
   "execution_count": null,
   "metadata": {},
   "outputs": [
    {
     "data": {
      "text/html": [
       "<style>details ul { list-style-type:none; list-style-position: outside; padding-inline-start: 22px; margin: 0; } details .string { color: #24837b; } details .string::before { content: \"'\"; } details .string::after { content: \"'\"; } details .number { color: #ad8301; } details .true { color: blue; } details .false { color: red; } details .null { color: gray; } span.n { color: darkgrey; } </style>\n",
       "<details open><summary>NBCell@67\n",
       "</summary>  <ul>\n",
       "    <li>\n",
       "<span><span class=\"n\">idx</span>: <span class=\"v number\">67</span></span>    </li>\n",
       "    <li>\n",
       "<span><span class=\"n\">cell_type</span>: <span class=\"v string\">markdown</span></span>    </li>\n",
       "    <li>\n",
       "<span><span class=\"n\">source</span>: <span class=\"v string\">`this` is meant to be used interactively (as most of Bridget is).\n",
       "\n",
       "The main function of `this` is to get the current cell, or more so, the c…</span></span>    </li>\n",
       "    <li>\n",
       "<span><span class=\"n\">id</span>: <span class=\"v string\">Y124sZmlsZQ==</span></span>    </li>\n",
       "    <li>\n",
       "<span><span class=\"n\">metadata</span>: <span class=\"v \">{&#x27;brd&#x27;: {&#x27;id&#x27;: &#x27;ce907fd0-5c9b-4e5b-9054-83d12574159c&#x27;}}</span></span>    </li>\n",
       "  </ul>\n",
       "</details>"
      ],
      "text/markdown": [
       "> markdown\n",
       "\n",
       "```json\n",
       "{\n",
       "  'idx': 67,\n",
       "  'cell_type': 'markdown',\n",
       "  'source': '`this` is meant to be used interactively (as most of Bridget is).\\n\\nThe main function of `this` is to get the current cell, or more so, the current cell\\'s index, and get your bearings in the current notebook structure.\\n\\nNote that due to the client-server nature of the Jupyter notebooks, code running in the kernel can\\'t possibly access the cell currently being executed. The cell state is maintained byt the front-end, not the kernel. The kernel in fact knows nothing of notebooks or their structure. We can aspire at most to get the cell\\'s index and source. The output is not yet determined, though Bridget will capture it and you can access it **after** the cell has run, not during the cell execution. You can find the cell with NBState afterwards.\\n\\nAlso be aware, as always, that batch commands like \"Execute Above Cells\" and similar are implemented very differently by Jupyter Notebooks vendors. The cells in the run queue may start running in order (or not, I\\'ve seen ships on fire off the shoulder of Orion), but not necessarily finish up in that order. Bridget may receive the cells in any order and therefore, the notebook state is not settled until the end. In general, in Jupyter Notebooks, cells that depends on outputs of other cells will surely fail when not running interactively. This is known issue (and a desing flaw imo, that can be resolved simply by the front-end sending the cells in order to the kernel and waiting for each one to fisnish before sending the next one) and one of the reason Marimo and other Jupyter modern alternatives exists.',\n",
       "  'id': 'Y124sZmlsZQ==',\n",
       "  'metadata': {'brd': {'id': 'ce907fd0-5c9b-4e5b-9054-83d12574159c'}}\n",
       "}\n",
       "```"
      ],
      "text/plain": [
       "{'idx': 67,\n",
       " 'cell_type': 'markdown',\n",
       " 'source': '`this` is meant to be used interactively (as most of Bridget is).\\n\\nThe main function of `this` is to get the current cell, or more so, the current cell\\'s index, and get your bearings in the current notebook structure.\\n\\nNote that due to the client-server nature of the Jupyter notebooks, code running in the kernel can\\'t possibly access the cell currently being executed. The cell state is maintained byt the front-end, not the kernel. The kernel in fact knows nothing of notebooks or their structure. We can aspire at most to get the cell\\'s index and source. The output is not yet determined, though Bridget will capture it and you can access it **after** the cell has run, not during the cell execution. You can find the cell with NBState afterwards.\\n\\nAlso be aware, as always, that batch commands like \"Execute Above Cells\" and similar are implemented very differently by Jupyter Notebooks vendors. The cells in the run queue may start running in order (or not, I\\'ve seen ships on fire off the shoulder of Orion), but not necessarily finish up in that order. Bridget may receive the cells in any order and therefore, the notebook state is not settled until the end. In general, in Jupyter Notebooks, cells that depends on outputs of other cells will surely fail when not running interactively. This is known issue (and a desing flaw imo, that can be resolved simply by the front-end sending the cells in order to the kernel and waiting for each one to fisnish before sending the next one) and one of the reason Marimo and other Jupyter modern alternatives exists.',\n",
       " 'id': 'Y124sZmlsZQ==',\n",
       " 'metadata': {'brd': {'id': 'ce907fd0-5c9b-4e5b-9054-83d12574159c'}}}"
      ]
     },
     "metadata": {
      "bridge": {
       "captured": true
      }
     },
     "output_type": "display_data"
    }
   ],
   "source": [
    "this(-1)"
   ]
  },
  {
   "cell_type": "code",
   "execution_count": null,
   "metadata": {},
   "outputs": [
    {
     "data": {
      "text/plain": [
       "'c'"
      ]
     },
     "metadata": {
      "bridge": {
       "captured": true
      }
     },
     "output_type": "display_data"
    }
   ],
   "source": [
    "this(-3).source"
   ]
  },
  {
   "cell_type": "code",
   "execution_count": null,
   "metadata": {},
   "outputs": [
    {
     "data": {
      "text/plain": [
       "'#| default_exp nb_state'"
      ]
     },
     "metadata": {
      "bridge": {
       "captured": true
      }
     },
     "output_type": "display_data"
    }
   ],
   "source": [
    "this(FIRST).source"
   ]
  },
  {
   "cell_type": "code",
   "execution_count": null,
   "metadata": {},
   "outputs": [
    {
     "data": {
      "text/plain": [
       "\"if FC.IN_NOTEBOOK:\\n    BUNDLE_PATH = bundle_path(__name__)\\n    for f in ['nbstate']: bundled(BUNDLE_PATH / f'js/{f}.js')()\\n    nb_path = '21_nb_state.ipynb'\\n    # nbdev_clean(nb_path)\\n    nbdev.nbdev_export(nb_path)\""
      ]
     },
     "metadata": {
      "bridge": {
       "captured": true
      }
     },
     "output_type": "display_data"
    }
   ],
   "source": [
    "this(LAST).source"
   ]
  },
  {
   "cell_type": "code",
   "execution_count": null,
   "metadata": {},
   "outputs": [
    {
     "data": {
      "text/plain": [
       "'# get_nb'"
      ]
     },
     "metadata": {
      "bridge": {
       "captured": true
      }
     },
     "output_type": "display_data"
    }
   ],
   "source": [
    "this(1).source"
   ]
  },
  {
   "cell_type": "markdown",
   "metadata": {},
   "source": [
    "# get_nb"
   ]
  },
  {
   "cell_type": "code",
   "execution_count": null,
   "metadata": {},
   "outputs": [],
   "source": [
    "#| export\n",
    "\n",
    "__nbstate__ = None\n",
    "\n",
    "@FC.delegates(get_bridge)  # type: ignore\n",
    "def get_nb(*args, show_feedback:bool=False, **kwargs):\n",
    "    global __nbstate__\n",
    "    if __nbstate__ is None:\n",
    "        wait=kwargs.pop('wait', 5)\n",
    "        __nbstate__ = NBState(*args, wait=wait, **kwargs)\n",
    "    else: get_bridge(*args, **kwargs)\n",
    "    if show_feedback: NBStateFeedback.show()\n",
    "    return __nbstate__"
   ]
  },
  {
   "cell_type": "code",
   "execution_count": null,
   "metadata": {},
   "outputs": [],
   "source": [
    "#| export\n",
    "\n",
    "if bridge_cfg.bootstrap: get_nb(show_logger=True)"
   ]
  },
  {
   "cell_type": "markdown",
   "metadata": {},
   "source": [
    "# Colophon\n",
    "----\n"
   ]
  },
  {
   "cell_type": "code",
   "execution_count": null,
   "metadata": {},
   "outputs": [],
   "source": [
    "import fastcore.all as FC\n",
    "import nbdev\n",
    "from nbdev.clean import nbdev_clean\n",
    "from olio.basic import bundle_path\n",
    "from bridget.bridge_widget import bundled"
   ]
  },
  {
   "cell_type": "code",
   "execution_count": null,
   "metadata": {},
   "outputs": [],
   "source": [
    "if FC.IN_NOTEBOOK:\n",
    "    BUNDLE_PATH = bundle_path(__name__)\n",
    "    for f in ['nbstate']: bundled(BUNDLE_PATH / f'js/{f}.js')()\n",
    "    nb_path = '21_nb_state.ipynb'\n",
    "    # nbdev_clean(nb_path)\n",
    "    nbdev.nbdev_export(nb_path)"
   ]
  }
 ],
 "metadata": {
  "kernelspec": {
   "display_name": "python3",
   "language": "python",
   "name": "python3"
  }
 },
 "nbformat": 4,
 "nbformat_minor": 4
}
