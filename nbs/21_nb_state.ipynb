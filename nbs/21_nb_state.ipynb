{
 "cells": [
  {
   "cell_type": "code",
   "execution_count": 1,
   "metadata": {
    "brd": "3e74bfb6-4dd1-42ad-be59-618250797d57",
    "bridget": {
     "id": "b1e369a6-d961-40b8-a265-3bb387570256"
    }
   },
   "outputs": [],
   "source": [
    "#| default_exp nb_state"
   ]
  },
  {
   "cell_type": "code",
   "execution_count": 2,
   "metadata": {
    "brd": "695cf51f-f4e5-411d-9b81-3192069f0624",
    "bridget": {
     "id": "d0719130-475e-4859-9cfb-90890cb2180d"
    }
   },
   "outputs": [],
   "source": [
    "#| export\n",
    "from __future__ import annotations"
   ]
  },
  {
   "cell_type": "markdown",
   "metadata": {},
   "source": [
    "# Notebook state\n",
    "\n",
    "> Programmatic access to notebook cells and outputs.\n",
    "\n"
   ]
  },
  {
   "cell_type": "markdown",
   "metadata": {},
   "source": [
    "# Prologue"
   ]
  },
  {
   "cell_type": "code",
   "execution_count": 3,
   "metadata": {
    "brd": "e5b8e7da-6f19-4c95-a118-ae034f88b425",
    "bridget": {
     "id": "56d62209-0124-4135-bb4e-85f89ffd4b26"
    }
   },
   "outputs": [],
   "source": [
    "#| export\n",
    "\n",
    "import inspect\n",
    "import json\n",
    "import os\n",
    "import sys\n",
    "import urllib.parse\n",
    "from inspect import Parameter\n",
    "from pathlib import Path\n",
    "from typing import Mapping\n",
    "\n",
    "import anywidget\n",
    "import fastcore.all as FC\n",
    "import ipykernel\n",
    "import traitlets as T\n",
    "from fastcore.foundation import L\n",
    "from IPython.display import clear_output\n",
    "from IPython.display import display\n",
    "from IPython.display import DisplayHandle\n",
    "from IPython.display import HTML\n",
    "from olio.basic import bundle_path\n"
   ]
  },
  {
   "cell_type": "code",
   "execution_count": 4,
   "metadata": {
    "brd": "5381b7e0-f2e5-4b1b-8fcf-612ee2dbf80f"
   },
   "outputs": [],
   "source": [
    "os.environ['DEBUG'] = 'True'"
   ]
  },
  {
   "cell_type": "code",
   "execution_count": 5,
   "metadata": {
    "brd": "2182f117-aff7-406c-baa3-903ceb8f3c9d",
    "bridget": {
     "id": "b27096f1-3ae2-4ae1-8360-dad6b0e05d0c"
    }
   },
   "outputs": [],
   "source": [
    "#| export\n",
    "\n",
    "from bridget.bridge import BridgeBase\n",
    "from bridget.bridge import HTMXCommander\n",
    "from bridget.bridge_helpers import bridge_js\n",
    "from bridget.bridge_helpers import BridgeWidget\n",
    "from bridget.bridge_helpers import loader_js\n",
    "from bridget.display_helpers import displaydh\n",
    "from bridget.display_helpers import NBLogger\n",
    "from bridget.helpers import kounter\n",
    "from bridget.helpers import skip\n",
    "from bridget.nb import NB\n",
    "from bridget.nb import NBCell\n",
    "from bridget.widget_helpers import anysource\n",
    "from bridget.widget_helpers import bundled"
   ]
  },
  {
   "cell_type": "code",
   "execution_count": 6,
   "metadata": {
    "brd": "a5cc9473-3549-426c-98e5-75f56304e3af",
    "bridget": {
     "id": "414d45d8-842a-46f4-8376-43eea5ede660"
    }
   },
   "outputs": [],
   "source": [
    "from datetime import datetime\n",
    "from typing import Any\n",
    "\n",
    "from fastcore.test import *\n",
    "from fasthtml.xtend import Script\n",
    "from olio.common import pops_\n",
    "from olio.common import pops_values_\n",
    "from olio.common import shorten\n",
    "from olio.common import shortens\n",
    "from olio.widget import cleanupwidgets\n",
    "from rich.console import Console\n"
   ]
  },
  {
   "cell_type": "code",
   "execution_count": 7,
   "metadata": {
    "brd": "2037ebba-ff96-49b3-b851-3ffe5d6e397c",
    "bridget": {
     "id": "e205fd48-c91e-4892-a9f6-6516d0698de8"
    }
   },
   "outputs": [],
   "source": [
    "from bridget.bridge import get_bridge\n",
    "from bridget.bridge_helpers import debug\n",
    "from bridget.bridge_helpers import Loader\n",
    "from bridget.bridge_helpers import notdebug\n",
    "from bridget.bridge_helpers import observer_scr\n",
    "from bridget.helpers import bridge_cfg\n",
    "from bridget.helpers import Singleling\n"
   ]
  },
  {
   "cell_type": "markdown",
   "metadata": {},
   "source": [
    "----\n"
   ]
  },
  {
   "cell_type": "code",
   "execution_count": 8,
   "metadata": {
    "brd": "a2938348-8442-4190-b24f-d8b2a45be677",
    "bridget": {
     "id": "2d93d482-d995-424a-9851-7453aebba998"
    }
   },
   "outputs": [],
   "source": [
    "#| exporti\n",
    "\n",
    "DEBUG = os.environ.get('DEBUG', None) == 'True'\n",
    "BUNDLE_PATH = bundle_path(__name__)\n",
    "_EMPTY = Parameter.empty\n",
    "EmptyT = type[_EMPTY]"
   ]
  },
  {
   "cell_type": "code",
   "execution_count": 9,
   "metadata": {
    "brd": "53bbe903-ddc1-4c64-bddb-7dbfc99a5f1a",
    "bridget": {
     "id": "7c2b9fe9-cbbf-4949-911a-4097330a4c32"
    }
   },
   "outputs": [],
   "source": [
    "cprint = (console := Console(width=120)).print"
   ]
  },
  {
   "cell_type": "code",
   "execution_count": 10,
   "metadata": {
    "brd": "4c273e03-aff9-4724-8f97-a176982aa9bc",
    "bridget": {
     "id": "6826df6b-165e-4b99-96da-4c62d5ba06bb"
    }
   },
   "outputs": [
    {
     "data": {
      "text/html": [
       "<div id='brd-logger-1' class='brd-logger' style='width: 100%; max-height: 200px;'></div>"
      ],
      "text/plain": [
       "<IPython.core.display.HTML object>"
      ]
     },
     "metadata": {},
     "output_type": "display_data"
    }
   ],
   "source": [
    "bridge_cfg.auto_show = True\n",
    "bridge_cfg.auto_id = False\n",
    "# brd = BridgeBase.instance()\n",
    "# ldr = await Loader.create(show=True)\n",
    "bridge = await get_bridge()"
   ]
  },
  {
   "cell_type": "code",
   "execution_count": 11,
   "metadata": {
    "brd": "b6841d78-e703-452f-a13f-b90dd3b91b4b"
   },
   "outputs": [],
   "source": [
    "# observer_js = BUNDLE_PATH / 'js/observer.js'\n",
    "# observer_scr = Script(debug(observer_js.read_text()), type='module', id='brd-observer-manager')\n",
    "\n",
    "# await ldr.aload_links(observer=observer_scr)"
   ]
  },
  {
   "cell_type": "markdown",
   "metadata": {},
   "source": [
    "----"
   ]
  },
  {
   "cell_type": "markdown",
   "metadata": {},
   "source": [
    "# Cell id"
   ]
  },
  {
   "cell_type": "code",
   "execution_count": 12,
   "metadata": {
    "brd": "9eed54f6-ada5-45d1-9881-68e270cd3dfa"
   },
   "outputs": [],
   "source": [
    "__cellid__ = ''\n",
    "__cellsource__ = ''"
   ]
  },
  {
   "cell_type": "code",
   "execution_count": 13,
   "metadata": {
    "brd": "1c94d87a-6dbf-434b-b52c-e6d58435ca49"
   },
   "outputs": [
    {
     "name": "stdout",
     "output_type": "stream",
     "text": [
      "'vscode-notebook-cell:/Users/vic/dev/repo/project/bridget/nbs/21_nb_state.ipynb#X23sZmlsZQ%3D%3D'\n",
      "'print(f\"{__cellid__!r}\\\\n{__cellsource__!r}\")\\ntest_eq(__cellsource__[:20], \\'print(f\"{__cellid__!\\')\\n'\n"
     ]
    }
   ],
   "source": [
    "print(f\"{__cellid__!r}\\n{__cellsource__!r}\")\n",
    "test_eq(__cellsource__[:20], 'print(f\"{__cellid__!')"
   ]
  },
  {
   "cell_type": "code",
   "execution_count": 14,
   "metadata": {
    "brd": "44320104-5f0d-415b-9f5a-bf8f77c966a4"
   },
   "outputs": [
    {
     "data": {
      "text/plain": [
       "('/Users/vic/dev/repo/project/bridget/nbs/21_nb_state.ipynb', 'X24sZmlsZQ==')"
      ]
     },
     "metadata": {},
     "output_type": "display_data"
    }
   ],
   "source": [
    "def _cellid_from(s): return urllib.parse.unquote(urllib.parse.urlparse(s).fragment)\n",
    "def _nburi_from(s): return urllib.parse.urlparse(s).netloc + urllib.parse.urlparse(s).path\n",
    "def cellspec_from(s): return (uri := urllib.parse.urlparse(s)).path, urllib.parse.unquote(uri.fragment)\n",
    "nburi, cellid = cellspec_from(__cellid__)\n",
    "nburi, cellid"
   ]
  },
  {
   "cell_type": "markdown",
   "metadata": {},
   "source": [
    "# show_notebook_state"
   ]
  },
  {
   "cell_type": "code",
   "execution_count": 15,
   "metadata": {
    "brd": "0954a43f-7318-4ef1-937a-db19065d0d0e",
    "bridget": {
     "id": "e36bec1e-f3a1-4552-b70a-ea0bc640b816"
    }
   },
   "outputs": [],
   "source": [
    "#| export\n",
    "\n",
    "NBSTATE_MIME = 'application/x-notebook-state'\n",
    "\n",
    "def show_notebook_state(options:Mapping={'feedback': True, 'watch': True, 'debug': True}) -> DisplayHandle:\n",
    "    \"Display notebook state with our custom mime type\"\n",
    "    dh = display({NBSTATE_MIME: options}, raw=True, display_id=True)\n",
    "    return dh  # type: ignore\n",
    "\n",
    "def update_notebook_state(dh: DisplayHandle|None, options:Mapping|None=None):\n",
    "    if dh: dh.update({NBSTATE_MIME: {**(options or {}), 'id': kounter('nbstate')}}, \n",
    "        raw=True)\n",
    "\n",
    "def clear_notebook_state(dh: DisplayHandle|None): \n",
    "    if dh: dh.update(HTML(''))"
   ]
  },
  {
   "cell_type": "code",
   "execution_count": 16,
   "metadata": {
    "brd": "798a4020-4d26-45f8-8a6b-be828fb68169",
    "bridget": {
     "id": "638c5e07-b9c3-4fcc-9466-e2a2cc143635",
     "skip": true
    }
   },
   "outputs": [
    {
     "data": {
      "application/x-notebook-state": "{\"feedback\":true,\"watch\":true,\"debug\":true}"
     },
     "metadata": {},
     "output_type": "display_data"
    }
   ],
   "source": [
    "dh = show_notebook_state()"
   ]
  },
  {
   "cell_type": "markdown",
   "metadata": {},
   "source": [
    "Simple visual feedback of notebook state. In the front-end we manage just one notebook state, though you can display multiple vies of it with `show_notebook_state`.\n",
    "\n",
    "Note that the state data **is** still in the **front-end** (JS-land). This function is just a visual feedback of state changes, but we haven't transferred yet the state to the **kernel** (python-land). For that, see next section.\n"
   ]
  },
  {
   "cell_type": "code",
   "execution_count": 17,
   "metadata": {
    "brd": "676e02a1-dd52-4d0a-850a-d91d8d262b7f"
   },
   "outputs": [
    {
     "data": {
      "text/html": [
       "<div id='brd-logger-3' class='brd-logger' style='width: 100%; max-height: 200px;'></div>"
      ],
      "text/plain": [
       "<IPython.core.display.HTML object>"
      ]
     },
     "metadata": {},
     "output_type": "display_data"
    }
   ],
   "source": [
    "bridge.logger.display()"
   ]
  },
  {
   "cell_type": "code",
   "execution_count": null,
   "metadata": {
    "brd": "71350c28-1e2a-43ce-b783-d39f74adb4cb",
    "bridget": {
     "id": "f4a14f1c-465b-48e3-832a-b912e2dad812"
    }
   },
   "outputs": [],
   "source": [
    "print(18)"
   ]
  },
  {
   "cell_type": "markdown",
   "metadata": {},
   "source": [
    "After executing above cell, you've noticed a pink flash. We're monitoring state changes in real-time.\n",
    "\n",
    "Clear the output of the above cell. Open the details and look for cell #18 (if you haven't added any new cells above it). Check that it doesn't have any outputs.\n",
    "\n",
    "Run the cell again and check to see that it now has outputs.\n",
    "\n",
    "Create a new cell below this, source or markdown, and write something. Notice that we're updating the state of cell inputs not just outputs."
   ]
  },
  {
   "cell_type": "code",
   "execution_count": 21,
   "metadata": {
    "brd": "76efee6b-0e90-4d0c-b09b-4bbfe272cbe8",
    "bridget": {
     "id": "16b49bf7-c58a-4625-aa61-3c117399bb8a"
    }
   },
   "outputs": [],
   "source": [
    "update_notebook_state(dh, {'feedback': False})"
   ]
  },
  {
   "cell_type": "markdown",
   "metadata": {},
   "source": [
    "With feedback disabled, the details disclosure in not shown."
   ]
  },
  {
   "cell_type": "code",
   "execution_count": 22,
   "metadata": {
    "brd": "c3b38bbe-3935-472a-aa64-197bcb07d336",
    "bridget": {
     "id": "0b1f4091-1876-4279-a168-11303959213f"
    }
   },
   "outputs": [],
   "source": [
    "update_notebook_state(dh, {'feedback': True})"
   ]
  },
  {
   "cell_type": "code",
   "execution_count": 23,
   "metadata": {
    "brd": "c328f3d4-97f3-4bf2-a196-991b3bbaf9fb",
    "bridget": {
     "id": "62a84ff5-b4a9-409c-b00b-eb32537bb17b"
    }
   },
   "outputs": [],
   "source": [
    "update_notebook_state(dh, {'debug': False})"
   ]
  },
  {
   "cell_type": "markdown",
   "metadata": {},
   "source": [
    "`debug` affects javascript dev console logging."
   ]
  },
  {
   "cell_type": "code",
   "execution_count": 22,
   "metadata": {
    "brd": "3c30d283-e275-4402-b3cf-804265b91b6a",
    "bridget": {
     "id": "0e8f5cb7-b47a-4100-abfc-a009e27657a4"
    }
   },
   "outputs": [],
   "source": [
    "# update_notebook_state(dh, {'watch': False})\n"
   ]
  },
  {
   "cell_type": "markdown",
   "metadata": {},
   "source": [
    "`watch` false disables real-time updates. You'll need to call `update_notebook_state` manually to see state changes."
   ]
  },
  {
   "cell_type": "code",
   "execution_count": null,
   "metadata": {
    "brd": "f4e844a5-5fd8-474c-944f-370422ab76a1",
    "bridget": {
     "id": "f7fcf1a4-0352-4da9-87c7-25799fe173c7"
    }
   },
   "outputs": [],
   "source": [
    "print(29)"
   ]
  },
  {
   "cell_type": "code",
   "execution_count": 24,
   "metadata": {
    "brd": "6d95ac66-e756-403e-a1e5-336a9dd1d094",
    "bridget": {
     "id": "c47359e5-a128-4b56-9dc1-d54e17691519"
    }
   },
   "outputs": [],
   "source": [
    "# update_notebook_state(dh)"
   ]
  },
  {
   "cell_type": "code",
   "execution_count": 25,
   "metadata": {
    "brd": "8902619b-5261-4dea-a25d-a7ccf59191a7"
   },
   "outputs": [],
   "source": [
    "update_notebook_state(dh, {'debug': True})"
   ]
  },
  {
   "cell_type": "code",
   "execution_count": 26,
   "metadata": {
    "brd": "17be1dc3-7a4a-471b-8262-902c86ae83ed"
   },
   "outputs": [],
   "source": [
    "clear_notebook_state(dh)"
   ]
  },
  {
   "cell_type": "markdown",
   "metadata": {},
   "source": [
    "Though we've cleared the feedback output, Bridget is still monitoring and capturing state changes, as you can see in the dev console."
   ]
  },
  {
   "cell_type": "code",
   "execution_count": 27,
   "metadata": {
    "brd": "552d5bf4-ddd2-408e-a2bd-06080c05b2b1"
   },
   "outputs": [],
   "source": [
    "bridge.logger.clear_log()"
   ]
  },
  {
   "cell_type": "markdown",
   "metadata": {},
   "source": [
    "# NBStateFetcher\n",
    "> A widget to retrieve notebook state from the front-end.\n",
    "\n",
    "Simple [AnyWidget](https://anywidget.dev/en/getting-started/) to get the state from the front end and bring it back to python where we really need it (and it should really be imho).\n",
    "\n"
   ]
  },
  {
   "cell_type": "code",
   "execution_count": 27,
   "metadata": {
    "brd": "255747c8-8076-4b8c-af8e-81e0723171c6",
    "bridget": {
     "id": "b0a6d280-3738-441b-b18d-7d63c9efeb00"
    }
   },
   "outputs": [],
   "source": [
    "#| export\n",
    "\n",
    "nbstate_js = BUNDLE_PATH / 'js/nbstate.js'\n",
    "nbstate_esm = bundled(nbstate_js, bundle=__name__, bundler='copy')\n",
    "\n",
    "class NBStateFetcher(BridgeWidget):\n",
    "    _esm = anysource(nbstate_esm(debugger=DEBUG), '''\n",
    "export default { initialize: ({model}) => { return initializeNBState(model) } };\n",
    "''')\n",
    "    feedback = True; watch = True; debug = True;\n",
    "    ctx_name = T.Unicode('nbstate').tag(sync=True)\n",
    "    state = T.Instance(NB, default_value=NB())\n",
    "\n",
    "    def __init__(self, *args, **kwargs):\n",
    "        super().__init__(*args, **kwargs)\n",
    "        self.feedback_dh = display(HTML(''), display_id=True, metadata=skip())\n",
    "        self.updates = []\n",
    "    \n",
    "    def close(self):\n",
    "        if self.feedback_dh: self.feedback_dh.update(HTML(''), metadata=skip())\n",
    "        self.feedback_dh = None\n",
    "        super().close()\n",
    "\n",
    "    @property\n",
    "    def opts(self): return {'feedback': self.feedback, 'watch': self.watch, 'debug': self.debug}\n",
    "\n",
    "    def _update_notebook_state(self, req_id):\n",
    "        if self.feedback_dh and not self._loading: self.feedback_dh.update(\n",
    "            {NBSTATE_MIME: {**self.opts, 'id': req_id}}, raw=True, metadata=skip())\n",
    "    def update_notebook_state(self, \n",
    "            watch:bool|None=None, feedback:bool|None=None, debug:bool|None=None): \n",
    "        if watch is not None: self.watch = watch\n",
    "        if feedback is not None: self.feedback = feedback\n",
    "        if debug is not None: self.debug = debug\n",
    "        return self._update_notebook_state(kounter('nbstate'))\n",
    "\n",
    "    def update(self, timeout: float|None=None):\n",
    "        if not self.watch:\n",
    "            self.update_notebook_state()\n",
    "            self.send({'cmd': 'get_state'}, timeout=timeout)\n",
    "\n",
    "    async def aupdate(self, timeout: float=20.0):\n",
    "        if not self.watch:\n",
    "            self.update_notebook_state()\n",
    "            await self.asend({'cmd': 'get_state'}, timeout=timeout)\n",
    "    \n",
    "    def setup_notebook_state(self):\n",
    "        self.feedback_dh.update({NBSTATE_MIME: {**self.opts, 'id': kounter('nbstate'), 'update':'full'}},  # type: ignore\n",
    "            raw=True, metadata=skip())\n",
    "    \n",
    "    def on_info(self, *args, info:str, **kwargs):\n",
    "        super().on_info(*args, info=info, **kwargs)\n",
    "        if info == 'loaded':\n",
    "            self.logger.log('Requesting initial notebook state...')\n",
    "            self.setup_notebook_state()\n",
    "        elif info == 'found existing state observers':\n",
    "            self.logger.log('Found existing state observer.')\n",
    "    \n",
    "    def on_state_update(self, *args, state:dict|str, **kwargs):\n",
    "        d = (json.loads(state) if isinstance(state, str) else state or {})\n",
    "        nbData = d.get('nbdata', {})\n",
    "        # self.logger.log(f\" watch: {self.watch} feedback: {self.feedback} debug: {self.debug}\")\n",
    "        self.updates.append(d)\n",
    "        self.logger.log(f\"State update - type: {d['type']} ts: {d['timestamp']}\")\n",
    "        if d['type'] == 'state':\n",
    "            self.logger.log(f\"---- #cells: {len(d.get('cells', []))}\")\n",
    "            self.state = NB.fromStateMessage(d)\n",
    "        else:\n",
    "            self.state.apply_diffsMessage(d)\n",
    "            diffs:list[dict] = d.get('changes', [])\n",
    "            self.logger.log(f\"#diffs: {len(diffs)}\")\n",
    "            for i, d in enumerate(diffs):\n",
    "                self.logger.log(f\"---- {i} - cells: {[c['idx'] for c in d['cells']]} added: {[c['idx'] for c in d.get('added', [])]} removed: {d.get('removed', [])}\")"
   ]
  },
  {
   "cell_type": "code",
   "execution_count": null,
   "metadata": {
    "brd": "a7dbe55d-9c05-4b3a-ab72-e893b9ada39d",
    "bridget": {
     "id": "2b7b3ed9-7c6c-42a5-9a6a-2f2f424fb553",
     "skip": true
    }
   },
   "outputs": [],
   "source": [
    "cleanupwidgets('fetcher')\n",
    "\n",
    "bridge.logger.display()\n",
    "fetcher = NBStateFetcher(logger=bridge.logger)"
   ]
  },
  {
   "cell_type": "code",
   "execution_count": 29,
   "metadata": {
    "brd": "7ac89a2e-d9e5-4660-be2f-b82d5bafa600"
   },
   "outputs": [],
   "source": [
    "bridge.logger.clear_log()"
   ]
  },
  {
   "cell_type": "code",
   "execution_count": null,
   "metadata": {
    "brd": "3d54ae13-6ad2-499c-be09-ff0633ed383f"
   },
   "outputs": [],
   "source": [
    "fetcher.updates[-1]"
   ]
  },
  {
   "cell_type": "code",
   "execution_count": null,
   "metadata": {
    "brd": "c52f09ff-c8a6-40f8-9d29-ce671177a815"
   },
   "outputs": [],
   "source": [
    "fetcher.state.cells[41]"
   ]
  },
  {
   "cell_type": "code",
   "execution_count": null,
   "metadata": {
    "brd": "086fd10e-793c-4513-aec8-800a04bd26b0"
   },
   "outputs": [],
   "source": [
    "print(cellspec_from(__cellid__))\n",
    "this_id = f\"this_{kounter('this')}\"\n",
    "_ = displaydh(metadata={'bridge': {'this': this_id}})\n",
    "# _ = fetcher.send({'cmd': 'get_state'}, timeout=5)"
   ]
  },
  {
   "cell_type": "code",
   "execution_count": null,
   "metadata": {
    "brd": "ad1a0045-6f11-4b22-b0cb-7eaf35c68c7c"
   },
   "outputs": [],
   "source": [
    "print(cellspec_from(__cellid__))\n",
    "this_id = f\"this_{kounter('this')}\"\n",
    "# _ = displaydh(metadata={'bridge': {'this': this_id}})\n",
    "_ = fetcher.send({'cmd': 'update', 'id': this_id}, timeout=5)"
   ]
  },
  {
   "cell_type": "code",
   "execution_count": null,
   "metadata": {
    "brd": "7401e858-4759-4e7f-a85a-c9caf39b99c2"
   },
   "outputs": [],
   "source": [
    "fetcher.state.cells[46]"
   ]
  },
  {
   "cell_type": "code",
   "execution_count": null,
   "metadata": {
    "brd": "0b9cc741-07e8-4d0c-9c42-386fc4c0fb75",
    "bridget": {
     "id": "30d852d5-7697-4d34-a9f1-d3d2509c5c66"
    }
   },
   "outputs": [],
   "source": [
    "print('test5')"
   ]
  },
  {
   "cell_type": "code",
   "execution_count": null,
   "metadata": {
    "brd": "2583fa0e-e5f2-4d3f-b756-d9a2946df4b3",
    "bridget": {
     "id": "aa314169-49eb-444d-bb34-0419549f5943"
    }
   },
   "outputs": [],
   "source": [
    "display(HTML('<div>test6</div>'))"
   ]
  },
  {
   "cell_type": "code",
   "execution_count": 46,
   "metadata": {
    "brd": "43b90980-d39f-4a4d-9f77-238ed4ca342a",
    "bridget": {
     "id": "1e74f0f2-4c64-45ce-9522-6f103116d7bd"
    }
   },
   "outputs": [],
   "source": [
    "fetcher.update_notebook_state()"
   ]
  },
  {
   "cell_type": "markdown",
   "metadata": {},
   "source": [
    "By default, the widget doesn't monitor the notebook state in real-time (`watch=False`).\n",
    "\n",
    "Call `update_notebook_state` to retrieve the state once."
   ]
  },
  {
   "cell_type": "code",
   "execution_count": null,
   "metadata": {
    "brd": "34042ce5-d793-496a-bbf4-66328b623b29",
    "bridget": {
     "id": "bcd88b08-0802-4e0b-9891-3c38df9a9f23"
    }
   },
   "outputs": [],
   "source": [
    "dh = displaydh(HTML('test7'))"
   ]
  },
  {
   "cell_type": "markdown",
   "metadata": {},
   "source": [
    "`displaydh` (simple wrapper around `display`) triggers a state update."
   ]
  },
  {
   "cell_type": "code",
   "execution_count": 31,
   "metadata": {
    "brd": "bfeab642-71a9-4c72-b8bb-a78aeb921d0d",
    "bridget": {
     "id": "dfb7323a-ae8a-4486-9b84-ba862a2f6b18"
    }
   },
   "outputs": [],
   "source": [
    "fetcher.update_notebook_state(watch=True)"
   ]
  },
  {
   "cell_type": "markdown",
   "metadata": {},
   "source": [
    "You can also switch to real-time updates with `update_notebook_state(watch=True)`."
   ]
  },
  {
   "cell_type": "code",
   "execution_count": null,
   "metadata": {
    "brd": "38a3c25d-d6c1-410d-8dcc-b92cd9c46196",
    "bridget": {
     "id": "6c4129fe-654b-4402-9401-615a2baa7da2"
    }
   },
   "outputs": [],
   "source": [
    "print('test8')"
   ]
  },
  {
   "cell_type": "code",
   "execution_count": 71,
   "metadata": {
    "brd": "fd9a2071-69d8-473c-9840-a530dd58e5c7"
   },
   "outputs": [],
   "source": [
    "cleanupwidgets('fetcher')"
   ]
  },
  {
   "cell_type": "code",
   "execution_count": null,
   "metadata": {
    "brd": "3ce1addd-261b-43bb-8a67-aaae948d5b92"
   },
   "outputs": [],
   "source": [
    "uri = urllib.parse.urlparse(fetcher.state.nbData['notebookUri'])\n",
    "uri, __vsc_ipynb_file__"
   ]
  },
  {
   "cell_type": "code",
   "execution_count": null,
   "metadata": {
    "brd": "b50e3189-d741-4df4-aedf-73b6f74131d7"
   },
   "outputs": [],
   "source": [
    "fetcher.state.cells[41]"
   ]
  },
  {
   "cell_type": "markdown",
   "metadata": {},
   "source": [
    "# NBState"
   ]
  },
  {
   "cell_type": "code",
   "execution_count": 33,
   "metadata": {
    "brd": "724e9af6-dcfd-4460-83e5-03a650dcab94"
   },
   "outputs": [],
   "source": [
    "#| export\n",
    "class NBState(T.HasTraits, FC.GetAttr):\n",
    "    state = T.Instance(NB, default_value=NB())\n",
    "    _default = 'state'\n",
    "    def __init__(self, source: NBStateFetcher|Mapping|None=None):\n",
    "        if source is None: source = NBStateFetcher(show=True)\n",
    "        self.source = source\n",
    "\n",
    "    @property\n",
    "    def source(self): return self._source\n",
    "    @source.setter\n",
    "    def source(self, source: NBStateFetcher|Mapping|None=None):\n",
    "        if hasattr(self, '_link'): self._link.unlink()\n",
    "        if isinstance(source, NBStateFetcher): \n",
    "            self._link = T.dlink((source, 'state'), (self, 'state'))\n",
    "        elif isinstance(source, Mapping): self.state = NB(**source)\n",
    "        else: self.state = NB()\n",
    "        # try: del self.processor\n",
    "        # except: pass\n",
    "        self._source = source\n",
    "\n",
    "    def update(self):\n",
    "        if isinstance(self.source, NBStateFetcher): self.source.update_notebook_state()\n",
    "    \n",
    "    def this(self: NBState, idx:int|None=None) -> NBCell:...\n",
    "    \n",
    "    def __del__(self):\n",
    "        if hasattr(self, '_link'): self._link.unlink()\n"
   ]
  },
  {
   "cell_type": "code",
   "execution_count": 34,
   "metadata": {
    "brd": "9443abbc-e14d-4d1a-9898-be8557617cb0"
   },
   "outputs": [],
   "source": [
    "state = json.loads(Path('../packages/nbinspect-vscode/outputs.json').read_text('utf-8'))\n",
    "\n",
    "nb = NBState(state)\n",
    "# test_eq(nb.state, empty_state())\n",
    "# test_is(nb.state, fetcher.state)\n"
   ]
  },
  {
   "cell_type": "code",
   "execution_count": null,
   "metadata": {
    "brd": "64a8b8b1-4265-4ef4-a360-4499007559bc"
   },
   "outputs": [],
   "source": [
    "display(nb.mds)\n",
    "nb.codes"
   ]
  },
  {
   "cell_type": "code",
   "execution_count": null,
   "metadata": {
    "brd": "3bcf2979-f03b-4ee0-858c-b282f7a40f8c"
   },
   "outputs": [],
   "source": [
    "nb = NBState()"
   ]
  },
  {
   "cell_type": "code",
   "execution_count": null,
   "metadata": {
    "brd": "09bb8e5d-88bd-4268-a6fd-8c5f3564e259"
   },
   "outputs": [],
   "source": [
    "shortens(nb.state.source[42:52], 'r', 80)"
   ]
  },
  {
   "cell_type": "code",
   "execution_count": null,
   "metadata": {
    "brd": "5020c7a8-258a-4f7d-a520-ccacea829ac2"
   },
   "outputs": [],
   "source": [
    "shortens(nb.state.find('class').attrgot('source'), 'r', 80)"
   ]
  },
  {
   "cell_type": "code",
   "execution_count": 39,
   "metadata": {
    "brd": "0f9d3599-abf4-421a-93d3-e7789b75ab5f"
   },
   "outputs": [],
   "source": [
    "# find_me"
   ]
  },
  {
   "cell_type": "code",
   "execution_count": null,
   "metadata": {
    "brd": "e8f72b6b-2607-491e-af86-3a6b082fbe60"
   },
   "outputs": [],
   "source": [
    "#| hide\n",
    "shortens(nb.state.find('# find_me'), 'r', 80)"
   ]
  },
  {
   "cell_type": "code",
   "execution_count": null,
   "metadata": {
    "brd": "2431b3b5-98e5-4713-b6da-56ee83ac5121"
   },
   "outputs": [],
   "source": [
    "#| hide\n",
    "nb.state.find('# find_me').filter(lambda x: 'hide' not in x.directives_).attrgot('source')"
   ]
  },
  {
   "cell_type": "code",
   "execution_count": null,
   "metadata": {
    "brd": "6e7539cd-ad33-480c-a139-f5bb346f06ee"
   },
   "outputs": [],
   "source": [
    "# this cell2\n",
    "nb.update()\n",
    "nb.state.find('# this cell2').attrgot('source')"
   ]
  },
  {
   "cell_type": "markdown",
   "metadata": {},
   "source": [
    "# this"
   ]
  },
  {
   "cell_type": "code",
   "execution_count": 43,
   "metadata": {
    "brd": "453c6839-124d-421c-a767-a001eabd6414"
   },
   "outputs": [],
   "source": [
    "#| export\n",
    "\n",
    "FIRST = -sys.maxsize\n",
    "LAST = sys.maxsize\n",
    "\n",
    "def _this(nb):\n",
    "    this_id = f\"this_{kounter('this')}\"\n",
    "    _= displaydh(metadata=skip(this=this_id))\n",
    "    nb.source.send({'cmd': 'get_state'}, timeout=5)\n",
    "    clear_output(wait=True)\n",
    "    this_cell = nb.state.find(this_id, 'outputs.0.metadata.bridge.this')[0]\n",
    "    this_idx = nb.cells.index(this_cell)\n",
    "    return this_idx, this_cell\n",
    "\n",
    "@FC.patch\n",
    "def this(self: NBState, idx:int|None=None) -> NBCell:\n",
    "    \"Current cell if `idx` is None, or cell at `idx` from current cell upwards. Raises if not found.\"\n",
    "    if not isinstance(self.source, NBStateFetcher): return self.cells[idx or -1]\n",
    "    this_idx, this_cell = _this(self)\n",
    "    if not idx: return this_cell\n",
    "    return self.cells[max(0, this_idx + idx)] if idx < 0 else self.cells[min(len(self.cells)-1, this_idx + idx)]\n",
    "\n",
    "@FC.patch\n",
    "def these(self: NBState, above:int|None=None, below:int|None=None) -> L:\n",
    "    if not isinstance(self.source, NBStateFetcher): return self.cells[above or 0:below or None]\n",
    "    this_idx, _ = _this(self)\n",
    "    return self.cells[max(0, this_idx + (above or FIRST)):min(len(self.cells), this_idx+1+(below or 0))]\n"
   ]
  },
  {
   "cell_type": "code",
   "execution_count": null,
   "metadata": {
    "brd": "9593889f-8d26-4ca5-961b-b877468e3281"
   },
   "outputs": [],
   "source": [
    "# this cell\n",
    "cell = nb.this()\n",
    "cell.source"
   ]
  },
  {
   "cell_type": "code",
   "execution_count": null,
   "metadata": {
    "brd": "541814c2-b78e-4f54-a91a-70128afa06b3"
   },
   "outputs": [],
   "source": [
    "cell = nb.this(-1)\n",
    "cell.source"
   ]
  },
  {
   "cell_type": "code",
   "execution_count": null,
   "metadata": {
    "brd": "e1316559-88e1-49b5-b28f-9426569d1708"
   },
   "outputs": [],
   "source": [
    "cell = nb.this(-3)\n",
    "cell.source"
   ]
  },
  {
   "cell_type": "code",
   "execution_count": null,
   "metadata": {
    "brd": "d76bdfeb-6ea8-4393-8771-fd1f810e29ea"
   },
   "outputs": [],
   "source": [
    "cell = nb.this(FIRST)\n",
    "cell.source"
   ]
  },
  {
   "cell_type": "code",
   "execution_count": null,
   "metadata": {
    "brd": "1a91f7b2-0738-4082-b000-ef146e5419ea"
   },
   "outputs": [],
   "source": [
    "cell = nb.this(1)\n",
    "cell.source"
   ]
  },
  {
   "cell_type": "markdown",
   "metadata": {},
   "source": [
    "# Bridge"
   ]
  },
  {
   "cell_type": "code",
   "execution_count": 48,
   "metadata": {
    "brd": "6e5291d9-9740-498b-b07d-c97c25d8e0e4"
   },
   "outputs": [],
   "source": [
    "#| export\n",
    "\n",
    "@FC.delegates()\n",
    "class Bridge(BridgeBase):\n",
    "    _esm = anysource('debugger;' if DEBUG else '', bridge_js, loader_js, nbstate_js,'''\n",
    "export default { \n",
    "    initialize({ model }) {\n",
    "        const cleanupLoader = initializeLoader(model);\n",
    "        const cleanupNbState = initializeNBState(model);\n",
    "        model.send({ ctx: 'bridge', kind: 'info', info: 'initialized' });\n",
    "        return () => {\n",
    "            cleanupLoader();\n",
    "            cleanupNbState();\n",
    "        };\n",
    "    }\n",
    "};\n",
    "''')\n",
    "\n",
    "    ctx_name = set(('bridge', 'loader', 'nbstate'))\n",
    "    feedback = True; watch = False; debug = True;\n",
    "    state = T.Instance(NB, default_value=NB())\n",
    "    def __init__(self, *args, **kwargs):\n",
    "        super().__init__(*args, **kwargs)\n",
    "        self.feedback_dh = display(HTML(''), display_id=True, metadata=skip())\n",
    "    \n",
    "    def close(self):\n",
    "        if self.feedback_dh: self.feedback_dh.update(HTML(''), metadata=skip())\n",
    "        self.feedback_dh = None\n",
    "        super().close()\n",
    "\n",
    "    @property\n",
    "    def opts(self): return {'feedback': self.feedback, 'watch': self.watch, 'debug': self.debug}\n",
    "\n",
    "    def _update_notebook_state(self, req_id):\n",
    "        if self.feedback_dh and not self._loading: self.feedback_dh.update(\n",
    "            {NBSTATE_MIME: {**self.opts, 'id': req_id, 'update': True}}, raw=True, metadata=skip())\n",
    "    def update_notebook_state(self, \n",
    "            watch:bool|None=None, feedback:bool|None=None, debug:bool|None=None): \n",
    "        if watch is not None: self.watch = watch\n",
    "        if feedback is not None: self.feedback = feedback\n",
    "        if debug is not None: self.debug = debug\n",
    "        return self._update_notebook_state(kounter('nbstate'))\n",
    "\n",
    "    def update(self, timeout: float|None=None):\n",
    "        if not self.watch:\n",
    "            self.update_notebook_state()\n",
    "            self.send({'cmd': 'get_state'}, timeout=timeout)\n",
    "\n",
    "    async def aupdate(self, timeout: float=20.0):\n",
    "        if not self.watch:\n",
    "            self.update_notebook_state()\n",
    "            await self.asend({'cmd': 'get_state'}, timeout=timeout)\n",
    "    \n",
    "    def setup_notebook_state(self):\n",
    "        self.feedback_dh.update({NBSTATE_MIME: {**self.opts, 'id': kounter('nbstate')}},  # type: ignore\n",
    "            raw=True, metadata=skip())\n",
    "    \n",
    "    def on_info(self, *args, info:str, **kwargs):\n",
    "        super().on_info(*args, info=info, **kwargs)\n",
    "        if info == 'initialized':\n",
    "            self.logger.show('Requesting notebook state...')\n",
    "            self.setup_notebook_state()\n",
    "        elif info == 'found existing state observers':\n",
    "            self.logger.show('Found existing state observer.')\n",
    "    \n",
    "    def on_state_update(self, *args, state:str, **kwargs):\n",
    "        d = (json.loads(state) if state else {})\n",
    "        self.state = NB(**d)\n",
    "        # this shouldn't trigger another update\n",
    "        self.logger.show(  f\"State updated type: {d['type']} #cells {len(d['cells'])} @{d['timestamp']}\" \n",
    "                    # f\" watch: {self.watch} feedback: {self.feedback} debug: {self.debug}\"\n",
    "        )\n",
    "\n",
    "\n",
    "def get_bridge(): \n",
    "    def companions_loader(brd: Bridge):\n",
    "        cc = []\n",
    "        if 'htmx' in brd.loaded:  # ensure htmx is loaded - loader should inform us\n",
    "            cc.append(HTMXCommander(logger=brd.logger, show=False))\n",
    "        return cc\n",
    "    return Bridge.instance(companions_loader=companions_loader)\n"
   ]
  },
  {
   "cell_type": "code",
   "execution_count": null,
   "metadata": {
    "brd": "1a52fb00-ea74-4003-80eb-4af6834b2e23"
   },
   "outputs": [],
   "source": [
    "cleanupwidgets('brd')\n",
    "# get_capturer().unregister()\n",
    "# OutputCapture.clear_instance()\n",
    "BridgeBase.clear_instance()\n",
    "\n",
    "brd = get_bridge()"
   ]
  },
  {
   "cell_type": "markdown",
   "metadata": {},
   "source": [
    "# Colophon\n",
    "----\n"
   ]
  },
  {
   "cell_type": "code",
   "execution_count": 1,
   "metadata": {
    "brd": "1b8ff8e5-fc1f-4e1d-863a-62aa73142640"
   },
   "outputs": [],
   "source": [
    "import inspect\n",
    "import shutil\n",
    "from pathlib import Path\n",
    "\n",
    "import bridget\n",
    "import fastcore.all as FC\n",
    "import nbdev\n",
    "from nbdev.clean import nbdev_clean\n"
   ]
  },
  {
   "cell_type": "code",
   "execution_count": 2,
   "metadata": {
    "brd": "34a75015-7bb2-4488-8431-c3e6e473ed9c"
   },
   "outputs": [],
   "source": [
    "if FC.IN_NOTEBOOK:\n",
    "    nb_path = '21_nb_state.ipynb'\n",
    "    # nbdev_clean(nb_path)\n",
    "    nbdev.nbdev_export(nb_path)\n",
    "\n",
    "    for fn in ('js/nbstate.js', ):\n",
    "        shutil.copyfile(fn, Path(inspect.getfile(bridget)).parent/fn);\n"
   ]
  }
 ],
 "metadata": {
  "kernelspec": {
   "display_name": "Python 3",
   "language": "python",
   "name": "python3"
  },
  "language_info": {
   "codemirror_mode": {
    "name": "ipython",
    "version": 3
   },
   "file_extension": ".py",
   "mimetype": "text/x-python",
   "name": "python",
   "nbconvert_exporter": "python",
   "pygments_lexer": "ipython3",
   "version": "3.12.8"
  }
 },
 "nbformat": 4,
 "nbformat_minor": 2
}
