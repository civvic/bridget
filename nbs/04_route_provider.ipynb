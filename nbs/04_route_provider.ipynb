{
 "cells": [
  {
   "cell_type": "code",
   "execution_count": 1,
   "metadata": {
    "brd": {
     "id": "5618790a-8f77-497c-94df-46cdcf4589d4"
    },
    "bridget": {
     "id": "6d3eb64d-604c-45f9-b364-236607a94644"
    }
   },
   "outputs": [],
   "source": [
    "#| default_exp routing"
   ]
  },
  {
   "cell_type": "code",
   "execution_count": 2,
   "metadata": {
    "brd": {
     "id": "17c97ca3-cfff-4d08-9ec8-679c807fbb99"
    },
    "bridget": {
     "id": "e8b84ab5-37fe-4a4a-b2e3-7449c46bdf9d"
    }
   },
   "outputs": [],
   "source": [
    "#| export\n",
    "from __future__ import annotations"
   ]
  },
  {
   "cell_type": "markdown",
   "metadata": {},
   "source": [
    "# Routes provider\n",
    "\n",
    "> Enables method-based routing in fasthtml by extending `APIRouter` capabilities.  \n",
    "\n",
    "FastHTML currently supports two scopes for route endpoints: global and local. Here, I proppose a third namespace, class.\n",
    "\n",
    "This allows objects to provide routes through their methods, similar to class-based views in other web frameworks."
   ]
  },
  {
   "cell_type": "markdown",
   "metadata": {},
   "source": [
    "# Prologue"
   ]
  },
  {
   "cell_type": "code",
   "execution_count": 3,
   "metadata": {
    "brd": {
     "id": "cf5092b5-d01e-4535-9ea8-b832bdb47169"
    },
    "bridget": {
     "id": "587acf8f-8c70-41af-9299-215918869dd9"
    }
   },
   "outputs": [],
   "source": [
    "#| export\n",
    "import functools\n",
    "from contextlib import contextmanager\n",
    "from functools import update_wrapper\n",
    "from types import FunctionType\n",
    "from types import MethodType\n",
    "from typing import Any\n",
    "from typing import Callable\n",
    "from typing import NamedTuple\n",
    "from typing import overload\n",
    "from typing import Protocol\n",
    "from typing import Sequence\n",
    "\n",
    "import fastcore.all as FC\n",
    "import fasthtml.core\n",
    "from fasthtml.core import all_meths\n",
    "from fasthtml.core import APIRouter\n",
    "from fasthtml.core import FastHTML\n",
    "from fasthtml.core import noop_body\n"
   ]
  },
  {
   "cell_type": "code",
   "execution_count": 4,
   "metadata": {
    "brd": {
     "id": "9f3602e4-1980-42c3-bc9d-771845787cb4"
    },
    "bridget": {
     "id": "e8443529-a6f8-4c7f-b781-09705ee4a85d"
    }
   },
   "outputs": [],
   "source": [
    "#| export\n",
    "\n",
    "from bridget.helpers import id_gen\n",
    "from bridget.helpers import nb_app"
   ]
  },
  {
   "cell_type": "code",
   "execution_count": 5,
   "metadata": {
    "brd": {
     "id": "f6378bd4-493e-49ed-8c92-e3e79fa1f83d"
    }
   },
   "outputs": [],
   "source": [
    "from fasthtml.components import Button, Div, show\n",
    "from fasthtml.core import uri, fh_cfg, fhjsscr, scopesrc, surrsrc"
   ]
  },
  {
   "cell_type": "code",
   "execution_count": 6,
   "metadata": {
    "brd": {
     "id": "f2e0d34c-3806-416c-8740-866f38c28fb8"
    },
    "bridget": {
     "id": "e946610b-9492-4dcb-8508-884ea92084fb"
    }
   },
   "outputs": [],
   "source": [
    "import typing\n",
    "from dataclasses import dataclass\n",
    "from functools import partial\n",
    "from typing import Type\n",
    "\n",
    "import starlette.routing\n",
    "import starlette.types\n",
    "from fastcore.test import *\n",
    "from fasthtml.xtend import Script\n",
    "from httpx import get\n",
    "from IPython.display import clear_output\n",
    "from IPython.display import HTML\n",
    "from IPython.display import Javascript\n",
    "from rich.console import Console\n",
    "from starlette.responses import HTMLResponse\n",
    "from starlette.responses import Response\n",
    "from starlette.routing import Match\n",
    "from starlette.routing import Mount\n",
    "from starlette.routing import Route\n",
    "from starlette.testclient import TestClient\n"
   ]
  },
  {
   "cell_type": "code",
   "execution_count": 7,
   "metadata": {
    "brd": {
     "id": "cdfcbfca-84fb-4e6f-9c21-b06d71f25612"
    }
   },
   "outputs": [],
   "source": [
    "from bridget.fasthtml_patching import JupyUviB, render_ft\n",
    "from bridget.helpers import bridge_cfg, DetailsJSON"
   ]
  },
  {
   "cell_type": "markdown",
   "metadata": {},
   "source": [
    "----\n"
   ]
  },
  {
   "cell_type": "code",
   "execution_count": 8,
   "metadata": {
    "brd": {
     "id": "317bc04f-adfd-44f0-93eb-c444f5ed9cb7"
    },
    "bridget": {
     "id": "f4b63528-913e-46d9-95cf-855e5481972b"
    }
   },
   "outputs": [],
   "source": [
    "#| exporti\n",
    "\n",
    "new_id = id_gen()"
   ]
  },
  {
   "cell_type": "code",
   "execution_count": 9,
   "metadata": {
    "brd": {
     "id": "3bc452d5-ac21-4cab-8f35-c1391f659c4a"
    },
    "bridget": {
     "id": "26d0c1d6-920a-4dce-a947-88d6cea9370a"
    }
   },
   "outputs": [],
   "source": [
    "cprint = (console := Console(width=120)).print"
   ]
  },
  {
   "cell_type": "markdown",
   "metadata": {},
   "source": [
    "----"
   ]
  },
  {
   "cell_type": "code",
   "execution_count": 10,
   "metadata": {
    "brd": {
     "id": "cb7ad569-73cb-4417-9cde-40720be726dd"
    },
    "bridget": {
     "id": "94bc112a-ad41-41b1-b822-abc06c11c4b5"
    }
   },
   "outputs": [],
   "source": [
    "def get_app():\n",
    "    return (app := nb_app()), TestClient(app, base_url='http://nb', headers={'hx-request': '1'}), app.route\n",
    "\n",
    "app, cli, rt = get_app()"
   ]
  },
  {
   "cell_type": "markdown",
   "metadata": {},
   "source": [
    "# patched\n",
    "> Quick hack to monkey-patch a module function.\n",
    "\n",
    "`FastHTML` only considers as of now (v.0.12.0) names of static (possibly nested) functions. We'll need to temporarily patch `nested_name` to get name of methods (see `APIRouterD` below)."
   ]
  },
  {
   "cell_type": "code",
   "execution_count": 11,
   "metadata": {
    "brd": {
     "id": "0205e0fb-8656-47ec-a720-334522b895be"
    }
   },
   "outputs": [],
   "source": [
    "#| exporti\n",
    "\n",
    "@contextmanager\n",
    "def _patched(o, nm, f):\n",
    "    original = getattr(o, nm)    \n",
    "    setattr(o, nm, update_wrapper(f, original))\n",
    "    try: yield\n",
    "    finally: setattr(o, nm, original)"
   ]
  },
  {
   "cell_type": "markdown",
   "metadata": {},
   "source": [
    "# Methods as routes endpoints\n",
    "> Understanding FastHTML's routing system and extending it to support instance methods.\n",
    "\n",
    ":::{.callout-note}\n",
    "In this docs I use widget/component interchangeably.\n",
    ":::\n"
   ]
  },
  {
   "cell_type": "markdown",
   "metadata": {},
   "source": [
    "\n",
    "### Why Method-Based Routes in Notebooks?\n",
    "\n",
    "FastHTML typically encourages defining components in separate modules. While this works great for web applications, notebooks have different workflows:\n",
    "\n",
    "**Interactive Development**  \n",
    "Notebooks are all about exploration and rapid prototyping. Everything happens in cells - they're our unit of work. Notebooks are more akin to one page apps. When you're quickly testing ideas or building one-time components, creating separate modules can feel like unnecessary overhead. Method-based routes let us define and test components right where we need them, with scoping and encapsulation.\n",
    "\n",
    "**State Management**  \n",
    "When building widgets, we often need to maintain state. Instance methods make this natural. While both modules and classes can handle state effectively, sometimes one approach fits better than the other. It's nice to have options.\n",
    "\n",
    "**Quick Iteration**  \n",
    "The real advantage comes when you're iterating on a component. You can write code, test it, and modify it all in the same context. Make a change, run the cell, see the results. No jumping between files or reloading modules needed.\n",
    "\n",
    "This approach may complement FastHTML's module-based components by providing another option for route management."
   ]
  },
  {
   "cell_type": "markdown",
   "metadata": {},
   "source": [
    "# Scoping\n",
    "\n",
    ":::{.callout-note}\n",
    "All this discussion is for current FastHTML, v0.12.0 at the time of this writing. FastHTML is young and nervous, so things may change quickly and unexpectedly.\n",
    ":::"
   ]
  },
  {
   "cell_type": "code",
   "execution_count": 12,
   "metadata": {
    "brd": {
     "id": "54ae5920-496f-48dc-8957-d01aceaa4766"
    }
   },
   "outputs": [],
   "source": [
    "app, cli, rt = get_app()\n",
    "\n",
    "def a(): return 'a'  # type: ignore\n",
    "test_eq(type(a), FunctionType)\n",
    "test_eq(str(a), f\"<function a at 0x{id(a):x}>\")\n",
    "\n",
    "global_a = a\n",
    "\n",
    "\n",
    "# @rt('/a', 'get')\n",
    "# def a(): return 'a'\n",
    "\n",
    "# or its nearly equivalent:\n",
    "a = rt('/a', 'get')(a)\n",
    "\n",
    "assert a is not global_a\n",
    "test_eq(str(a), '/a')\n",
    "test_eq(cli.get('/a').text, 'a')\n",
    "test_eq(app.url_path_for('a'), '/a')\n",
    "test_eq(a.to(), '/a')\n",
    "test_eq(set(app.routes[-1].methods), {'GET', 'HEAD'})  # type: ignore\n",
    "\n",
    "\n",
    "@rt('/a', 'post')\n",
    "def a(x:int): return f'a {x}'\n",
    "\n",
    "test_eq(cli.post('/a?x=5').text, 'a 5')\n",
    "test_eq(set(app.routes[-1].methods), {'POST'})  # type: ignore"
   ]
  },
  {
   "cell_type": "markdown",
   "metadata": {},
   "source": [
    "`FastHTML.route` decorator, or the common `rt` alias, creates a Starlette `Route` with an endpoint based on a static function, function `a` in this case. But it's not function `a`, it's a especial callable wrapped over the function `a` to facilitate route introspection.\n",
    "\n",
    "During route definition, `a` is removed from the scope it was defined and can be used to create additional routes with other HTTP methods (with caveats, `'post'` is a especial case)."
   ]
  },
  {
   "cell_type": "code",
   "execution_count": 13,
   "metadata": {
    "brd": {
     "id": "35db4643-4bc7-43ef-80d1-4a3cfc96b35e"
    }
   },
   "outputs": [],
   "source": [
    "def b():\n",
    "    @rt('/b')\n",
    "    def _b(): return 'b'\n",
    "    return _b\n",
    "\n",
    "innerb = b()\n",
    "test_eq(cli.get('/b').text, 'b')\n",
    "test_eq(str(innerb), '/b')\n",
    "test_eq(app.url_path_for('b__b'), '/b')\n",
    "test_eq(innerb.to(), '/b')"
   ]
  },
  {
   "cell_type": "markdown",
   "metadata": {},
   "source": [
    "Recent FastHTML versions also supports nested functions on local scopes."
   ]
  },
  {
   "cell_type": "code",
   "execution_count": 14,
   "metadata": {
    "brd": {
     "id": "bf75e473-61e0-412b-b689-f4ce086130b0"
    }
   },
   "outputs": [],
   "source": [
    "ar = APIRouter()\n",
    "\n",
    "@ar('/c')\n",
    "def c(): return 'c'\n",
    "\n",
    "test_eq(str(c), '/c')\n",
    "test_eq(ar.c.to(), '/c')\n",
    "test_eq(ar.rt_funcs.c.to(), '/c')\n",
    "\n",
    "ar.to_app(app)\n",
    "\n",
    "test_eq(cli.get('/c').text, 'c')\n",
    "test_eq(app.url_path_for('c'), '/c')"
   ]
  },
  {
   "cell_type": "markdown",
   "metadata": {},
   "source": [
    "`APIRouter` is a convenient way of grouping routes."
   ]
  },
  {
   "cell_type": "markdown",
   "metadata": {},
   "source": [
    "### FastHTML's Route Requirements\n",
    "\n",
    "FastHTML's routing system builds on Starlette's, which accepts both functions and methods as endpoints (besides ASGI classes). The only requirement is being a [callable](https://github.com/encode/starlette/blob/427a8dcf357597df27b2509b1ac436caf7708300/starlette/routing.py#L208):\n",
    "\n",
    "\n",
    "```python\n",
    "endpoint: typing.Callable[..., typing.Any]\n",
    "```\n",
    "\n",
    "FastHTML follows FastAPI's style of using decorators for route definition. Route endpoints must be:\n",
    "1. Callables with a `__name__` (`__qualname__` as of v0.12.0) attribute (for route identification) [FastHTML._add_route](https://github.com/AnswerDotAI/fasthtml/blob/bff83a9bca000c38c91909809e2726a51418793f/fasthtml/core.py#L608)\n",
    "2. Have type annotations for all parameters (for request validation)\n",
    "\n",
    "While this works for functions, it creates challenges with instance methods:\n",
    "\n",
    "1. **Method Binding**: When using decorators at class level, methods are still unbound functions:\n",
    "   - The decorator sees the function `get`, not the bound method\n",
    "   - The `self` parameter won't be properly valued\n",
    "\n",
    "2. **Type Annotations**: FastHTML expects all parameters to be annotated:\n",
    "   - The implicit `self` parameter lacks annotation\n",
    "   - This triggers warnings in FastHTML's validation\n",
    "\n",
    "`APIRouter` like `rt` only works wth static functions. \n",
    "\n",
    "As a workaround we could use `partial` (or FastHTML own trick, a lightweight stateful callable) to bind methods after instance creation. As partials don't have a `__name__` (`__qualname__` now) attribute, we need to hack it manually:"
   ]
  },
  {
   "cell_type": "code",
   "execution_count": 15,
   "metadata": {
    "brd": {
     "id": "1acab986-5888-4de2-936f-cac5827ed371"
    }
   },
   "outputs": [
    {
     "data": {
      "text/plain": [
       "\"<__main__.AClass object at 0x16a0cd3a0> 'b'\""
      ]
     },
     "execution_count": 15,
     "metadata": {},
     "output_type": "execute_result"
    }
   ],
   "source": [
    "class AClass:\n",
    "    def get(self, a:str): return f'{self!r} {a!r}'\n",
    "\n",
    "a = AClass()\n",
    "# Manually create bound method and set name\n",
    "(f := partial(a.get.__func__, a)).__qualname__ = 'get'  # type: ignore\n",
    "rt('/give/me/{a}')(f)\n",
    "\n",
    "cli.get('/give/me/b').text"
   ]
  },
  {
   "cell_type": "markdown",
   "metadata": {},
   "source": [
    "This approach is verbose and error-prone, separates route definition from method implementation, and makes code harder to maintain, besides being cumbersome and ugly. We need something more in order to use methods as endpoints with fastHTML. It´s clearly time for some more python dark magic here. But we're in python-land where magic abounds.\n",
    "\n",
    "We'll extend FastHTML's routing capabilities by:\n",
    "- Creating an enhanced `APIRouter` class that support (and preserves) method references\n",
    "- Supporting automatic method binding at instance creation\n",
    "- Enabling property-based routing for GET/POST/PUT/DELETE operations\n",
    "- Providing automatic route mounting and path generation\n",
    "\n",
    "We aim for a more natural and maintainable syntax:\n",
    "\n",
    "```python\n",
    "class Widget:\n",
    "    ...\n",
    "    @ar\n",
    "    def value(self): \n",
    "        return self._value\n",
    "```\n",
    "\n",
    "We'll use the handy `APIRouter` to define routes providers.\n",
    "\n",
    ":::{.callout-note}\n",
    "Most of this notebook was written before v0.12.0. In v0.9.1, `APIRouter` was defined but not used anywhere. I wasn't sure Jeremy's intention for the class, but it seemed appropiate using it here for our purposes.\n",
    "\n",
    "From v0.10.2 to v0.12.0, `APIRouter` has evolved considerably but the basic idea proposed here holds through.\n",
    ":::"
   ]
  },
  {
   "cell_type": "markdown",
   "metadata": {},
   "source": [
    "First, some helpers to get the routes from a provider and its class hierarchy."
   ]
  },
  {
   "cell_type": "code",
   "execution_count": 16,
   "metadata": {
    "brd": {
     "id": "3d7dc640-3f0a-4cf0-9f3c-6b64595d4f5d"
    }
   },
   "outputs": [],
   "source": [
    "def routes_from(o: object):\n",
    "    \"Yield all route descriptors (path,methods,name,include_in_schema,body_wrap) from class hierarchy in mro order\"\n",
    "    for base in (o if isinstance(o, type) else type(o)).mro()[:-1]:  \n",
    "        if not isinstance(base, type) or not hasattr(base, 'ar'): continue\n",
    "        yield from base.ar.routes\n",
    "\n",
    "def add_routes(app: FastHTML, o):\n",
    "    for f,p,m,n,*_ in routes_from(o):\n",
    "        app.add_route(Route(p, f, methods=m, name=n))"
   ]
  },
  {
   "cell_type": "markdown",
   "metadata": {},
   "source": [
    "`routes_from` returns the routes in MRO order. If we add the routes in that order, Starlette will match them in that order too (NOTE: check this is documented). As such, more specific endpoints have precedence over more generic ones.\n",
    "\n",
    "Starlette accepts happily methods as endpoints, but as we've seen, not current FastHTML versions (0.12.0 as of this writing). In FastHTML, we need to use bound functions -- AKA methods--. And that is a bit more involved than using `app.route` on static functions.\n"
   ]
  },
  {
   "cell_type": "code",
   "execution_count": 17,
   "metadata": {
    "brd": {
     "id": "38120c81-be2f-4e67-a972-62d17c833e41"
    }
   },
   "outputs": [],
   "source": [
    "class A:\n",
    "    ar = APIRouter()\n",
    "    @ar('/a')\n",
    "    def a(self): return 'a'\n",
    "\n",
    "class B(A):\n",
    "    ar = APIRouter()\n",
    "    @ar('/b')\n",
    "    def b(self): return 'b'\n",
    "\n",
    "class C(B):\n",
    "    ar = APIRouter()\n",
    "    @ar('/c?v={v}')\n",
    "    def c(self, v:int=0): return f'c {v}'\n",
    "\n",
    "class D(A):\n",
    "    ar = APIRouter()\n",
    "    @ar('/d')\n",
    "    def d(self): return 'd'\n",
    "\n",
    "class E(B, D):\n",
    "    ar = APIRouter()\n",
    "    @ar('/a')\n",
    "    def e(self): return 'e'\n",
    "\n",
    "\n",
    "test_eq(C.mro()[:-1], [C, B, A])\n",
    "test_eq(E.mro()[:-1], [E, B, D, A])\n",
    "\n",
    "test_eq([_[1] for _ in list(routes_from(C))],  ['/c?v={v}', '/b', '/a'])\n",
    "test_eq([_[1] for _ in list(routes_from(E))],  ['/a', '/b', '/d', '/a'])"
   ]
  },
  {
   "cell_type": "code",
   "execution_count": 18,
   "metadata": {
    "brd": {
     "id": "c73c18d3-aa33-48a0-a664-84bae967357e"
    }
   },
   "outputs": [],
   "source": [
    "app, cli, _ = get_app()\n",
    "add_routes(app, C)\n",
    "\n",
    "test_eq([_.path for _ in app.routes], ['/c?v={v}', '/b', '/a'])  # type: ignore\n",
    "\n",
    "c_rt = app.routes[0]\n",
    "\n",
    "match, _ = c_rt.matches({'type': 'http', 'path': '/c?v=3', 'method': 'GET'})\n",
    "test_eq(match, Match.FULL)\n",
    "\n",
    "match, _ = c_rt.matches({'type': 'http', 'path': '/c?v=7', 'method': 'PUT'})\n",
    "test_eq(match, Match.PARTIAL)"
   ]
  },
  {
   "cell_type": "code",
   "execution_count": 19,
   "metadata": {
    "brd": {
     "id": "2f5e6624-525a-4e7b-a9c5-825035760d3d"
    }
   },
   "outputs": [],
   "source": [
    "app, cli, _ = get_app()\n",
    "add_routes(app, E)\n",
    "\n",
    "test_eq([_.path for _ in app.routes], ['/a', '/b', '/d', '/a'])  # type: ignore\n",
    "\n",
    "e_rt = app.routes[0]\n",
    "\n",
    "match, child_scope = e_rt.matches({'type': 'http', 'path': '/a', 'method': 'GET'})\n",
    "test_eq(match, Match.FULL)\n",
    "test_eq(child_scope['endpoint'], e_rt.endpoint)  # type: ignore\n",
    "test_eq(e_rt.endpoint(''), 'e')  # type: ignore"
   ]
  },
  {
   "cell_type": "markdown",
   "metadata": {},
   "source": [
    "# RouteProvider\n",
    "> Any object with an `APIRouter` attribute can be a provider of routes."
   ]
  },
  {
   "cell_type": "code",
   "execution_count": 20,
   "metadata": {
    "brd": {
     "id": "db92bbac-0067-48c6-978b-5dcc203adc0d"
    }
   },
   "outputs": [],
   "source": [
    "#| export\n",
    "\n",
    "_AR_MARK = '__routes__'\n",
    "\n",
    "class RouteProviderP(Protocol): \n",
    "    __routes__: Sequence  # of (func, path, methods, name, include_in_schema, body_wrap) like `APIRouter`'s routes attr.\n",
    "    ar: APIRouter\n",
    "\n",
    "class RouteProvider:  # noop class, only to alliviate the stupid wiggly reds\n",
    "    __routes__: Sequence\n",
    "    ar: APIRouter"
   ]
  },
  {
   "cell_type": "markdown",
   "metadata": {},
   "source": [
    "# APIRouterD\n",
    "> APIRouter as a descriptor\n",
    "\n",
    "APIRouter for Method-Based Routes.  \n",
    "\n",
    "Extends `FastHTML`'s `APIRouter` to preserve method references while enabling route registration.\n",
    "\n",
    "~~For reasons unclear to me, APIRouter wipes out the functions when defining routes unlike normal `@rt` decorator.~~\n",
    "\n",
    "We need to keep the functions around in order for the class to get its methods.\n",
    "\n",
    "`APIRouterD` preserves the original method references while collecting routes. This allows methods to work both as routes and methods, with proper instance binding. Like FastHTML's standard APIRouter, routes are stored but not registered immediately, which lets us bind them to instances at mount time. This delayed registration enables stateful components and works naturally with Python properties and methods, maintaining compatibility with all FastHTML's routing features."
   ]
  },
  {
   "cell_type": "code",
   "execution_count": 21,
   "metadata": {
    "brd": {
     "id": "475b1718-8069-4046-821e-bcfdb89d6e32"
    }
   },
   "outputs": [],
   "source": [
    "#| exporti\n",
    "\n",
    "def _replace(s, sep:str|None='.', rep:str|None='_'):\n",
    "    return s.strip(sep).replace(sep, rep)"
   ]
  },
  {
   "cell_type": "code",
   "execution_count": 22,
   "metadata": {
    "brd": {
     "id": "db7cd7df-a2dc-46e2-a1db-3eddae8d176e"
    }
   },
   "outputs": [],
   "source": [
    "test_eq(_replace(''), '')\n",
    "test_eq(_replace('a.b'), 'a_b')\n",
    "test_eq(_replace('/', sep='/'), '')\n",
    "test_eq(_replace('/a', sep='/'), 'a')\n",
    "test_eq(_replace('/a/', sep='/'), 'a')\n",
    "test_eq(_replace('/a/b', sep='/'), 'a_b')"
   ]
  },
  {
   "cell_type": "code",
   "execution_count": 23,
   "metadata": {
    "brd": {
     "id": "969aa958-e809-4080-a879-0a5f921419b2"
    }
   },
   "outputs": [],
   "source": [
    "def nested_name(f):\n",
    "    \"Get name of function/method `f` using rep to join nested function names\"\n",
    "    return _replace(f.__qualname__.replace('.<locals>.', '_'))"
   ]
  },
  {
   "cell_type": "code",
   "execution_count": 24,
   "metadata": {
    "brd": {
     "id": "9df6f345-5b50-4ce8-a734-4f21fff37b85"
    }
   },
   "outputs": [],
   "source": [
    "def f():\n",
    "    def ff(): return 'ff'\n",
    "    return ff\n",
    "\n",
    "test_eq(nested_name(f), 'f')\n",
    "test_eq(nested_name(f()), 'f_ff')\n",
    "\n",
    "class A:\n",
    "    def f(self):\n",
    "        def ff(): return 'ff'\n",
    "        return ff\n",
    "\n",
    "test_eq(nested_name(A.f), 'A_f')\n",
    "test_eq(nested_name(A.f(A())), 'A_f_ff')"
   ]
  },
  {
   "cell_type": "code",
   "execution_count": 25,
   "metadata": {
    "brd": {
     "id": "177d96ab-ac2a-4ba5-a48b-ecef2e862f3e"
    }
   },
   "outputs": [],
   "source": [
    "class A:\n",
    "    def f(self):\n",
    "        def ff(): return 'ff'\n",
    "        return ff\n",
    "\n",
    "\n",
    "with _patched(fasthtml.core, 'nested_name', nested_name):\n",
    "    test_eq(fasthtml.core.nested_name(A.f), 'A_f')\n",
    "    test_eq(fasthtml.core.nested_name(A.f(A())), 'A_f_ff')"
   ]
  },
  {
   "cell_type": "markdown",
   "metadata": {},
   "source": [
    "We monkey-patch temporarily the `core` module to change its `nested_name` function with ours."
   ]
  },
  {
   "cell_type": "code",
   "execution_count": 26,
   "metadata": {
    "brd": {
     "id": "b5ca0477-d05c-426a-8956-b67c67cd6701"
    }
   },
   "outputs": [],
   "source": [
    "#| exporti\n",
    "\n",
    "def _fn(f):\n",
    "    return f.fget.__name__ if isinstance(f, property) else f.__name__  # type: ignore\n",
    "\n",
    "def _path(path):\n",
    "    if isinstance(path, str): return path\n",
    "    if isinstance(path, property): return f\"/{getattr(path.fget, '__name__')}\"\n",
    "    if callable(path) or isinstance(path, classmethod): return f\"/{path.__name__}\"\n",
    "    raise TypeError(f\"Invalid path type: {type(path)}\")\n",
    "\n",
    "_prop2mth = list(zip(('fget', 'fset', 'fdel'), (['GET'], ['POST', 'PUT'], ['DELETE'])))\n",
    "\n",
    "def _bound(func, o):\n",
    "    if isinstance(func, FunctionType): return MethodType(func, o)\n",
    "    if isinstance(func, (staticmethod, classmethod)): return getattr(o, func.__name__)\n",
    "    if isinstance(func, classmethod): return getattr(type(o), 'd')\n",
    "    raise TypeError(f\"Invalid function type: {type(func)}\")\n",
    "\n",
    "def _unravel_prop(func, o):\n",
    "    if isinstance(func, property):\n",
    "        yield from ((f, m) for fn, m in _prop2mth if (f := getattr(func, fn, None)))\n",
    "    else: yield func, None\n",
    "def _reg_mth(ar, func, args, o):\n",
    "    for mth, m in _unravel_prop(func, o):\n",
    "        path, methods, *_ = args\n",
    "        ar(path, methods or m or 'get', *_)(mth)"
   ]
  },
  {
   "cell_type": "markdown",
   "metadata": {},
   "source": [
    "I think the original intuition of Jeremy with APIRouter was correct: a simple class that gathered the routes arguments and defined the final routes in to_app. But as it removed the functions from the definition scope, it was not possible to inspect the routes with usual to() or reverse lookup URLs.\n",
    "\n",
    "Current version solves the issue and also adds to APIRouter a `rt_funcs` property with the (non HTTP methods) routes."
   ]
  },
  {
   "cell_type": "markdown",
   "metadata": {},
   "source": [
    "## APIRouterC"
   ]
  },
  {
   "cell_type": "code",
   "execution_count": 27,
   "metadata": {
    "brd": {
     "id": "a318d7de-8399-4cba-8e63-29d87fa1e5e8"
    }
   },
   "outputs": [],
   "source": [
    "#| exporti\n",
    "\n",
    "class MountPoint(NamedTuple):\n",
    "    \"Path and name of a mount point where a group of routes can be added\"\n",
    "    path: str\n",
    "    name: str\n",
    "    def mount(self, path, name):\n",
    "        return type(self)(self.path + path, f\"{self.name+(':' if self.name else '')}{name}\")"
   ]
  },
  {
   "cell_type": "code",
   "execution_count": 28,
   "metadata": {
    "brd": {
     "id": "0b2c8fcd-02e3-408e-8113-19fd11d17b68"
    }
   },
   "outputs": [],
   "source": [
    "#| exporti\n",
    "\n",
    "def nested_name(f):\n",
    "    \"Get name of function `f` using '_' to join nested function names\"\n",
    "    return f.__name__\n",
    "\n",
    "\n",
    "class APIRouterC(APIRouter):\n",
    "    # __routepath__ = ''  # path of mount\n",
    "    # __routename__ = ''  # name of mount\n",
    "    __mount__ = MountPoint('', '')  # to allow nested mounts\n",
    "\n",
    "    def _wrap_func(self, func, path:str, rname=None):\n",
    "        name = func.__name__\n",
    "        wrapped = fasthtml.core._mk_locfunc(func, self.__mount__.path + path)  # <--- diff from APIRouter\n",
    "        wrapped.__routename__ = rname or name\n",
    "        # If you are using the def get or def post method names, this approach is not supported\n",
    "        if name not in all_meths: setattr(self.rt_funcs, name, wrapped)\n",
    "        if rname and rname != name: setattr(self.rt_funcs, rname, wrapped)  # <--- diff from APIRouter\n",
    "        return wrapped\n",
    "\n",
    "    # Don't like monkey-patching `core`, let's see if transient patching suffices\n",
    "    def to_app(self, app):\n",
    "        \"Add routes to `app`\"\n",
    "        with _patched(fasthtml.core, 'nested_name', nested_name):\n",
    "            for args in self.routes:\n",
    "                f, p, methods, name, include_in_schema, body_wrap = args\n",
    "                p = self.prefix + p\n",
    "                wrapped = app._add_route(f, p, methods, name, include_in_schema, body_wrap or self.body_wrap)\n",
    "                self._wrap_func(f, p, wrapped.__routename__)\n",
    "            for args in self.wss: app._add_ws(*args)\n",
    "        self.prefix = self.__mount__.path + self.prefix\n",
    "\n",
    "    def to(self, fn=None, /, **kw) -> str: \n",
    "        if fn is None: return self.prefix\n",
    "        if wrp := getattr(self.rt_funcs, fn, None): return f\"{wrp.to(**kw)}\"\n",
    "        raise NameError(f\"Endpoint {fn} not found.\")\n",
    "\n",
    "    def name(self, fn=None) -> str:\n",
    "        rn = self.__mount__.name#getattr(self, '__routename__', '')\n",
    "        if fn is None: return rn\n",
    "        if not (wrp := getattr(self.rt_funcs, fn, None)): raise NameError(f\"Endpoint {fn} not found.\")\n",
    "        return f\"{rn+(':' if rn else '')}{wrp.__routename__}\""
   ]
  },
  {
   "cell_type": "markdown",
   "metadata": {},
   "source": [
    "`fasthtml.core.nested_name` only considers static (possibly nested) functions.\n",
    "\n",
    "Current APIRouter (v0.12.0) has a minor issue in _wrap_func, it uses `__name__` for the name of the route instead of `__qualname__`. I could patch it, but this subclass will do for now. \n",
    "\n",
    "APIRouterC also has an alternative to rt_funcs, given the method name:\n",
    "  - APIRouterC.to(name, ...) return the full route path.\n",
    "  - APIRouterC.name(name) return the full route name (if name was provided when adding the APIRouter).\n",
    "   - ~~can use HTTP methods as method names (though why?)~~"
   ]
  },
  {
   "cell_type": "markdown",
   "metadata": {},
   "source": [
    "## APIRouterD"
   ]
  },
  {
   "cell_type": "code",
   "execution_count": 29,
   "metadata": {
    "brd": {
     "id": "df15be2c-c766-4dc9-93db-7b9549b0ee7c"
    }
   },
   "outputs": [],
   "source": [
    "#| export\n",
    "\n",
    "def _gather_routes(rtargs:dict, owner:type):\n",
    "    routes, fns = [], dict()\n",
    "    for f, args in rtargs.items(): \n",
    "        for mth, m in _unravel_prop(f, owner):\n",
    "            path, methods, *rest = args\n",
    "            routes.append(r := (mth, path, methods or m or 'get', *rest))\n",
    "            fns[mth.__name__] = r\n",
    "    for base in owner.mro()[1:-1]: \n",
    "        if rr := getattr(base, _AR_MARK, None):\n",
    "            # routes.extend(_ for _ in rr if _ not in routes)\n",
    "            for r in rr:\n",
    "                f, p, m, *rest = r\n",
    "                if f.__name__ not in fns:\n",
    "                    routes.append(r)\n",
    "                    fns[f.__name__] = r\n",
    "                else: # check methods\n",
    "                    if fns[f.__name__][2] != m:\n",
    "                        routes.append(r)\n",
    "            # routes.extend(_ for _ in rr if _ not in routes)\n",
    "    return routes\n",
    "\n",
    "\n",
    "class APIRouterD(APIRouterC):\n",
    "    def __init__(self, *args, **kwargs):\n",
    "        self._rtargs, self._name, self.routes = {}, None, []\n",
    "        super().__init__(*args, **kwargs)\n",
    "    \n",
    "    # docs and trying to avoid hateful wiggly reds...\n",
    "    @overload\n",
    "    def __call__(self, *args, **kwargs) -> Callable: ...\n",
    "    @overload\n",
    "    def __call__(self, path:FunctionType, *args, **kwargs) -> Callable: ...\n",
    "    @overload\n",
    "    def __call__(self, path:classmethod, *args, **kwargs) -> classmethod: ...\n",
    "    @overload\n",
    "    def __call__(self, path:property, *args, **kwargs) -> property: ...\n",
    "    @overload\n",
    "    def __call__(self, path:str, *args, **kwargs) -> Callable: ...\n",
    "    def __call__(self, path:Any=None, methods=None, name=None, \n",
    "                        include_in_schema=True, body_wrap=noop_body):\n",
    "        \"Collect precursors of routes.\"\n",
    "        def f(func):\n",
    "            p = _path(path)\n",
    "            self._rtargs[func] = '/' if p == '/index' else p, methods, name, include_in_schema, body_wrap\n",
    "            return func  # let methods be methods\n",
    "        return f if path is None or isinstance(path, str) else f(path)\n",
    "\n",
    "    def __set_name__(self, owner, name): \n",
    "        assert not self._name, f\"APIRouterD already named {self._name}.\"\n",
    "        self._name = name\n",
    "        self.routes = _gather_routes(self._rtargs, owner)\n",
    "        setattr(owner, _AR_MARK, self.routes)  # mark class as routes provider\n",
    "\n",
    "    def __get__(self, instance, owner):\n",
    "        if not self._name: # shouldn't happen\n",
    "            raise AttributeError(f\"APIRouterD {self._name} not bound to {owner}\")\n",
    "        if not instance: return self\n",
    "        ar = APIRouterC(self.prefix, self.body_wrap)  # final APIRouter used by this instance\n",
    "        # final routes w/ bounded endpoint will be setup by APIRouterC.to_app(...).\n",
    "        # Here just bind routes to instance.\n",
    "        ar.routes = [(_bound(func, instance), *args) for func, *args in self.routes]  # type: ignore\n",
    "        setattr(instance, self._name, ar)  # instance doesn't need the descriptor any more\n",
    "        return ar\n",
    "\n",
    "\n",
    "    def to_app(self, app): raise TypeError(\"APIRouterD can't add routes to an app\")\n",
    "\n",
    "    def _rts(self, fn): return list(filter(lambda x: x[0].__name__==fn, self.routes))\n",
    "    \n",
    "    def to(self, fn=None, /, **kw) -> str: \n",
    "        if fn is None: return self.prefix\n",
    "        if not (rr := self._rts(fn)): raise NameError(f\"Endpoint {fn} not found.\")\n",
    "        return fasthtml.core.qp(f\"{self.prefix}{rr[0][1]}\", **kw)  # type: ignore\n",
    "\n",
    "    def name(self, fn=None) -> str:\n",
    "        rn = getattr(self, '__routename__', '')\n",
    "        if fn is None: return rn\n",
    "        if not (rr := self._rts(fn)): raise NameError(f\"Endpoint {fn} not found.\")\n",
    "        return f\"{(nm:=rn)+(':' if nm else '')}{nested_name(rr[0][0])}\"\n",
    "\n",
    "    # hate stupid wiggly reds\n",
    "    post: Callable; get: Callable; put: Callable; delete: Callable; patch: Callable; head: Callable; options: Callable;\n",
    "\n",
    "\n",
    "for o in all_meths: setattr(APIRouterD, o, functools.partialmethod(APIRouterD.__call__, methods=o))"
   ]
  },
  {
   "cell_type": "code",
   "execution_count": 30,
   "metadata": {
    "brd": {
     "id": "39d5f129-2c8e-4767-9b81-fce883f32776"
    }
   },
   "outputs": [],
   "source": [
    "class A:\n",
    "    ar = APIRouterD()\n",
    "\n",
    "    def __init__(self, value:int=3): self.value = value\n",
    "\n",
    "    @ar  # path /, name A_index\n",
    "    def index(self):\n",
    "        # int 0 is not a valid FastHTML return value\n",
    "        return self.value if self.value != 0 else HTMLResponse('0')\n",
    "\n",
    "    @ar  # or @ar.get or @ar.get('/a')\n",
    "    def a(self): return f'a {self.value}'\n",
    "\n",
    "    @ar.post('/a')\n",
    "    def a_change(self, x:int): self.value = x; return f'new value {x}'\n",
    "\n",
    "    @ar('/b')  # name A_b, , method [GET, POST]\n",
    "    def b(self): return f'b {self.value}'\n",
    "\n",
    "    @ar  \n",
    "    @staticmethod\n",
    "    def c(): return 'c'\n",
    "\n",
    "    @ar\n",
    "    @classmethod\n",
    "    def d(cls): return f'd {cls.__name__}'\n",
    "\n",
    "    @ar\n",
    "    @property  # path /e, name A_e, method GET\n",
    "    def e(self): return f'e {self.value}'  # type: ignore\n",
    "\n",
    "    @ar\n",
    "    @e.setter  # path /e, name A_e, method [POST, PUT]\n",
    "    def e(self, x:int): self.value = x; return x  # type: ignore\n",
    "\n",
    "    @ar  # path /e, name A_e, method DELETE\n",
    "    @e.deleter\n",
    "    def e(self): del self.value; return Response(status_code=204)\n",
    "\n",
    "    @ar('/f')\n",
    "    def get(self): return 'get'"
   ]
  },
  {
   "cell_type": "code",
   "execution_count": 31,
   "metadata": {
    "brd": {
     "id": "6ddcf9aa-ae8b-411e-a65e-2db3fdd9e9a3"
    }
   },
   "outputs": [],
   "source": [
    "a = A()\n",
    "test_eq(a.b(), 'b 3')\n",
    "test_is('bound' in str(a.a), True)\n",
    "\n",
    "test_eq(A.ar.to('d'), '/d')\n",
    "test_eq(A.ar.to('a', x=4), '/a?x=4')"
   ]
  },
  {
   "cell_type": "code",
   "execution_count": 32,
   "metadata": {
    "brd": {
     "id": "ca1691ff-47b9-4d04-96f8-ecde4588fc97"
    }
   },
   "outputs": [],
   "source": [
    "app, cli, _ = get_app()\n",
    "\n",
    "a = A()\n",
    "a.ar.to_app(app)"
   ]
  },
  {
   "cell_type": "code",
   "execution_count": 33,
   "metadata": {
    "brd": {
     "id": "a99d14ca-8af7-48cf-94e0-629914517b8e"
    }
   },
   "outputs": [
    {
     "data": {
      "text/plain": [
       "[Route(path='/', name='index', methods=['GET', 'HEAD']),\n",
       " Route(path='/a', name='a', methods=['GET', 'HEAD']),\n",
       " Route(path='/a', name='a_change', methods=['POST']),\n",
       " Route(path='/b', name='b', methods=['GET', 'HEAD']),\n",
       " Route(path='/c', name='c', methods=['GET', 'HEAD']),\n",
       " Route(path='/d', name='d', methods=['GET', 'HEAD']),\n",
       " Route(path='/e', name='e', methods=['GET', 'HEAD']),\n",
       " Route(path='/e', name='e', methods=['POST', 'PUT']),\n",
       " Route(path='/e', name='e', methods=['DELETE']),\n",
       " Route(path='/f', name='get', methods=['GET', 'HEAD'])]"
      ]
     },
     "execution_count": 33,
     "metadata": {},
     "output_type": "execute_result"
    }
   ],
   "source": [
    "app.routes"
   ]
  },
  {
   "cell_type": "markdown",
   "metadata": {},
   "source": [
    "`a` is a normal instance of `A`.\n",
    "\n",
    "`A.ar` is an instance of `APIRouterD`, a subclass of `APIRouterC`. It has basic route instrospection (`.to`, `.name`), but its really a descriptor. Its main function is storing the routes precursors like APIRouter does. Once the instance `a` is created, it assigns `a.ar` with a normal APIRouterC. When `ar.to_app(app)` is called, the final route endpoints are binded to the instance and installed.\n",
    "\n",
    "Note that the APIRouter workflow setups the endpoints before calling `to_app(app)`, endpoints are static functions. APIRouterC delays that setup until the very last moment, when `to_app(app)` is called. This lazy binding allows adding different routes in distinct scopes (see `Adding routes to the app`, `add_routes()` and `mount()`)."
   ]
  },
  {
   "cell_type": "code",
   "execution_count": 34,
   "metadata": {
    "brd": {
     "id": "9f564092-85f7-4c69-ad2e-4a53a350d66f"
    }
   },
   "outputs": [],
   "source": [
    "test_eq(cli.get('/').text, '3')\n",
    "\n",
    "test_eq(cli.get('/a').text, 'a 3')\n",
    "\n",
    "test_eq(cli.post('/a?x=5').text, 'new value 5')\n",
    "test_eq(a.value, 5)\n",
    "\n",
    "test_eq(cli.get('/b').text, 'b 5')\n",
    "test_eq(cli.get('/c').text, 'c')\n",
    "test_eq(cli.get('/d').text, 'd A')\n",
    "\n",
    "test_eq(cli.get('/e').text, 'e 5')\n",
    "test_eq(cli.post('/e?x=7').text, '7')\n",
    "test_eq(a.value, 7)\n",
    "test_eq(str(cli.delete('/e')), '<Response [204 No Content]>')\n",
    "\n",
    "a.value = 0\n",
    "test_eq(cli.get('/').text, '0')\n",
    "\n",
    "test_eq(cli.get('/f').text, 'get')"
   ]
  },
  {
   "cell_type": "code",
   "execution_count": 35,
   "metadata": {
    "brd": {
     "id": "ef4044e3-c24e-4af0-ac7d-0faf7669cf76"
    }
   },
   "outputs": [],
   "source": [
    "test_eq(app.url_path_for('a'), '/a')\n",
    "test_eq(app.url_path_for(a.ar.name('a')), '/a')\n",
    "\n",
    "test_eq(str(a.ar.a), '/a')\n",
    "test_eq(a.ar.a.to(), '/a')\n",
    "test_eq(a.ar.to('a'), '/a')\n",
    "test_eq(set([*filter(lambda r: r.path == '/a', app.routes)][0].methods), {'GET', 'HEAD'})  # type: ignore"
   ]
  },
  {
   "cell_type": "markdown",
   "metadata": {},
   "source": [
    "Note that `ar` can also setup properties as routes. Use as above, or simply once on the last descriptor function."
   ]
  },
  {
   "cell_type": "code",
   "execution_count": 36,
   "metadata": {
    "brd": {
     "id": "31f0bf39-a2eb-4ccc-9d31-e81375ce8ff3"
    }
   },
   "outputs": [],
   "source": [
    "class A:\n",
    "    ar = APIRouterD()\n",
    "\n",
    "    def __init__(self, value:int=3): self.value = value\n",
    "\n",
    "    @property\n",
    "    def e(self): return f'e {self.value}'  # type: ignore\n",
    "\n",
    "    @e.setter\n",
    "    def e(self, x:int): self.value = x; return x  # type: ignore\n",
    "\n",
    "    @ar\n",
    "    @e.deleter\n",
    "    def e(self): del self.value; return Response(status_code=204)\n",
    "\n",
    "\n",
    "app, cli, _ = get_app()\n",
    "\n",
    "a = A()\n",
    "a.ar.to_app(app)\n",
    "\n",
    "test_eq(cli.post('/e?x=3').text, '3')\n",
    "test_eq(a.value, 3)\n",
    "test_eq(str(cli.delete('/e')), '<Response [204 No Content]>')"
   ]
  },
  {
   "cell_type": "code",
   "execution_count": 37,
   "metadata": {
    "brd": {
     "id": "4f5675d8-86e6-453d-86c2-c451e09219f7"
    }
   },
   "outputs": [],
   "source": [
    "test_eq(A.ar.to(), '')\n",
    "test_eq(A.ar.to('e'), '/e')\n",
    "with ExceptionExpected(AttributeError): A.ar.a\n",
    "with ExceptionExpected(AttributeError): A.ar.rt_funcs.a\n",
    "\n",
    "with ExceptionExpected(TypeError): A.ar.to_app(app)  # APIRouterD is not a valid APIRouter"
   ]
  },
  {
   "cell_type": "markdown",
   "metadata": {},
   "source": [
    "Note that the `APIRouterD` of the class, `A.ar` in the example above, is not an APIRouter, should be used only for basic route inspection. The one on the instance, `a.ar`, is the one which actually can registers the routes and is, in fact, a normal `APIRouter`."
   ]
  },
  {
   "cell_type": "markdown",
   "metadata": {},
   "source": [
    "An `APIRouterD route`is very alike `FastHTML.route` or `APIRouter`'s. But as its underlying endpoint is a method/property, it has some different behaviors:\n"
   ]
  },
  {
   "cell_type": "markdown",
   "metadata": {},
   "source": [
    "## route names"
   ]
  },
  {
   "cell_type": "code",
   "execution_count": 38,
   "metadata": {
    "brd": {
     "id": "10c92d23-855d-45dd-ae22-a2bba4c9b15a"
    }
   },
   "outputs": [
    {
     "name": "stdout",
     "output_type": "stream",
     "text": [
      "     route from a -> Route(path='/a', name='a', methods=['GET', 'HEAD', 'POST'])\n",
      "     route from c -> Route(path='/a', name='b_c', methods=['GET', 'HEAD', 'POST'])\n"
     ]
    },
    {
     "data": {
      "text/html": [
       "<pre style=\"white-space:pre;overflow-x:auto;line-height:normal;font-family:Menlo,'DejaVu Sans Mono',consolas,'Courier New',monospace\"><span style=\"font-weight: bold\">[</span>\n",
       "    <span style=\"color: #800080; text-decoration-color: #800080; font-weight: bold\">Route</span><span style=\"font-weight: bold\">(</span><span style=\"color: #808000; text-decoration-color: #808000\">path</span>=<span style=\"color: #008000; text-decoration-color: #008000\">'/a'</span>, <span style=\"color: #808000; text-decoration-color: #808000\">name</span>=<span style=\"color: #008000; text-decoration-color: #008000\">'a'</span>, <span style=\"color: #808000; text-decoration-color: #808000\">methods</span>=<span style=\"font-weight: bold\">[</span><span style=\"color: #008000; text-decoration-color: #008000\">'GET'</span>, <span style=\"color: #008000; text-decoration-color: #008000\">'HEAD'</span>, <span style=\"color: #008000; text-decoration-color: #008000\">'POST'</span><span style=\"font-weight: bold\">])</span>,\n",
       "    <span style=\"color: #800080; text-decoration-color: #800080; font-weight: bold\">Route</span><span style=\"font-weight: bold\">(</span><span style=\"color: #808000; text-decoration-color: #808000\">path</span>=<span style=\"color: #008000; text-decoration-color: #008000\">'/a'</span>, <span style=\"color: #808000; text-decoration-color: #808000\">name</span>=<span style=\"color: #008000; text-decoration-color: #008000\">'b_c'</span>, <span style=\"color: #808000; text-decoration-color: #808000\">methods</span>=<span style=\"font-weight: bold\">[</span><span style=\"color: #008000; text-decoration-color: #008000\">'GET'</span>, <span style=\"color: #008000; text-decoration-color: #008000\">'HEAD'</span>, <span style=\"color: #008000; text-decoration-color: #008000\">'POST'</span><span style=\"font-weight: bold\">])</span>,\n",
       "    <span style=\"color: #800080; text-decoration-color: #800080; font-weight: bold\">Route</span><span style=\"font-weight: bold\">(</span><span style=\"color: #808000; text-decoration-color: #808000\">path</span>=<span style=\"color: #008000; text-decoration-color: #008000\">'/D/a'</span>, <span style=\"color: #808000; text-decoration-color: #808000\">name</span>=<span style=\"color: #008000; text-decoration-color: #008000\">'d'</span>, <span style=\"color: #808000; text-decoration-color: #808000\">methods</span>=<span style=\"font-weight: bold\">[</span><span style=\"color: #008000; text-decoration-color: #008000\">'GET'</span>, <span style=\"color: #008000; text-decoration-color: #008000\">'HEAD'</span><span style=\"font-weight: bold\">])</span>\n",
       "<span style=\"font-weight: bold\">]</span>\n",
       "</pre>\n"
      ],
      "text/plain": [
       "\u001b[1m[\u001b[0m\n",
       "    \u001b[1;35mRoute\u001b[0m\u001b[1m(\u001b[0m\u001b[33mpath\u001b[0m=\u001b[32m'/a'\u001b[0m, \u001b[33mname\u001b[0m=\u001b[32m'a'\u001b[0m, \u001b[33mmethods\u001b[0m=\u001b[1m[\u001b[0m\u001b[32m'GET'\u001b[0m, \u001b[32m'HEAD'\u001b[0m, \u001b[32m'POST'\u001b[0m\u001b[1m]\u001b[0m\u001b[1m)\u001b[0m,\n",
       "    \u001b[1;35mRoute\u001b[0m\u001b[1m(\u001b[0m\u001b[33mpath\u001b[0m=\u001b[32m'/a'\u001b[0m, \u001b[33mname\u001b[0m=\u001b[32m'b_c'\u001b[0m, \u001b[33mmethods\u001b[0m=\u001b[1m[\u001b[0m\u001b[32m'GET'\u001b[0m, \u001b[32m'HEAD'\u001b[0m, \u001b[32m'POST'\u001b[0m\u001b[1m]\u001b[0m\u001b[1m)\u001b[0m,\n",
       "    \u001b[1;35mRoute\u001b[0m\u001b[1m(\u001b[0m\u001b[33mpath\u001b[0m=\u001b[32m'/D/a'\u001b[0m, \u001b[33mname\u001b[0m=\u001b[32m'd'\u001b[0m, \u001b[33mmethods\u001b[0m=\u001b[1m[\u001b[0m\u001b[32m'GET'\u001b[0m, \u001b[32m'HEAD'\u001b[0m\u001b[1m]\u001b[0m\u001b[1m)\u001b[0m\n",
       "\u001b[1m]\u001b[0m\n"
      ]
     },
     "metadata": {},
     "output_type": "display_data"
    },
    {
     "name": "stdout",
     "output_type": "stream",
     "text": [
      "   route from d.d -> Route(path='/D/a', name='d', methods=['GET', 'HEAD'])\n"
     ]
    }
   ],
   "source": [
    "app, cli, rt = get_app()\n",
    "\n",
    "@rt('/a')\n",
    "def a(): return 'a'\n",
    "\n",
    "print(f\"{'route from a ->':>20}\", app.routes[-1])\n",
    "test_eq(str(a), '/a')\n",
    "test_eq(a.to(), app.url_path_for('a'))\n",
    "test_eq(a.__routename__, 'a')\n",
    "\n",
    "def b():\n",
    "    @rt('/a')\n",
    "    def c(): return 'c'\n",
    "    return c\n",
    "\n",
    "c = b()\n",
    "\n",
    "print(f\"{'route from c ->':>20}\", app.routes[-1])\n",
    "test_eq(str(c), '/a')\n",
    "test_eq(c.to(), app.url_path_for('b_c'))\n",
    "test_eq(c.__routename__, 'b_c')\n",
    "\n",
    "class D:\n",
    "    ar = APIRouterD('/D')\n",
    "    @ar('/a')\n",
    "    def d(self): return 'd'\n",
    "\n",
    "d = D()\n",
    "d.ar.to_app(app)\n",
    "\n",
    "cprint(app.routes)\n",
    "\n",
    "print(f\"{'route from d.d ->':>20}\", app.routes[-1])\n",
    "test_eq(str(d.ar.d), '/D/a')\n",
    "test_eq(d.ar.d.to(), app.url_path_for('d'))\n",
    "test_eq(d.ar.d.__routename__, 'd')\n",
    "\n",
    "test_eq(d.ar.to('d'), d.ar.rt_funcs.d.to())\n",
    "test_eq(d.ar.name('d'), 'd')"
   ]
  },
  {
   "cell_type": "markdown",
   "metadata": {},
   "source": [
    "\n",
    "- route name is the method name, `D_a` in the example above, not `d`.\n",
    "- default method is 'get'.\n",
    "- **Route Introspection**: Methods don´t get the `.to` attribute, like the wrappers used in routes. But those wrappers are, discoverable through `.ar` (e.g. `d.ar.d.to()` or `d.ar.to('d')`).\n",
    "- unlike `@rt/APIRouter`, it doesn't wipe out (see _add_route) the underlying function from the scope (class def) for obvious reasons-- base methods would probably be ok, properties not. Python classes can't have methods with the same name-- dicts, you know.  \n",
    "  If you want to handle different HTTP methods, you must use different func names or set them explcitly with the route arguments and modify the function to handle the distinct requests (args or explicit request arg).\n",
    "\n",
    ":::{.callout-note}\n",
    "Last point is a design decission. \n",
    "We could use metaclasses like fastcore transforms to introduce methods overriden by HTTP methods and in theory _mk_locfunc wrappers could function with methods (probably, not tested much). But I think a descriptor is already enough python dark magic for today :)\n",
    ":::"
   ]
  },
  {
   "cell_type": "markdown",
   "metadata": {},
   "source": [
    "#  Inheritance\n",
    "\n",
    "As usual with OOP and classes, let's say its complicated."
   ]
  },
  {
   "cell_type": "code",
   "execution_count": 39,
   "metadata": {
    "brd": {
     "id": "f005994f-5b2c-4946-a791-e29ee860099c"
    }
   },
   "outputs": [
    {
     "data": {
      "text/html": [
       "<pre style=\"white-space:pre;overflow-x:auto;line-height:normal;font-family:Menlo,'DejaVu Sans Mono',consolas,'Courier New',monospace\"><span style=\"font-weight: bold\">[</span><span style=\"color: #800080; text-decoration-color: #800080; font-weight: bold\">Route</span><span style=\"font-weight: bold\">(</span><span style=\"color: #808000; text-decoration-color: #808000\">path</span>=<span style=\"color: #008000; text-decoration-color: #008000\">'/value'</span>, <span style=\"color: #808000; text-decoration-color: #808000\">name</span>=<span style=\"color: #008000; text-decoration-color: #008000\">'value'</span>, <span style=\"color: #808000; text-decoration-color: #808000\">methods</span>=<span style=\"font-weight: bold\">[</span><span style=\"color: #008000; text-decoration-color: #008000\">'GET'</span>, <span style=\"color: #008000; text-decoration-color: #008000\">'HEAD'</span><span style=\"font-weight: bold\">])]</span>\n",
       "</pre>\n"
      ],
      "text/plain": [
       "\u001b[1m[\u001b[0m\u001b[1;35mRoute\u001b[0m\u001b[1m(\u001b[0m\u001b[33mpath\u001b[0m=\u001b[32m'/value'\u001b[0m, \u001b[33mname\u001b[0m=\u001b[32m'value'\u001b[0m, \u001b[33mmethods\u001b[0m=\u001b[1m[\u001b[0m\u001b[32m'GET'\u001b[0m, \u001b[32m'HEAD'\u001b[0m\u001b[1m]\u001b[0m\u001b[1m)\u001b[0m\u001b[1m]\u001b[0m\n"
      ]
     },
     "metadata": {},
     "output_type": "display_data"
    }
   ],
   "source": [
    "class A:\n",
    "    ar = APIRouterD()\n",
    "    _value:str = 'a'\n",
    "    @ar\n",
    "    def value(self): return self._value\n",
    "\n",
    "class B(A):\n",
    "    ar = APIRouterD()\n",
    "    _value: int = 1\n",
    "    @ar\n",
    "    def value(self): return self._value\n",
    "\n",
    "\n",
    "app, cli, _ = get_app()\n",
    "\n",
    "(a := A()).ar.to_app(app)\n",
    "(b := B()).ar.to_app(app)\n",
    "cprint(app.routes)\n",
    "\n",
    "test_eq(str(a.ar.value), '/value')\n",
    "test_eq(str(b.ar.value), '/value')\n",
    "\n",
    "test_eq(cli.get('/value').text, '1')  # a not accesible, overriden by b"
   ]
  },
  {
   "cell_type": "markdown",
   "metadata": {},
   "source": [
    "Basic inheritance, B.value() supercedes A.value().\n",
    "\n",
    "To be able to access both objects, we need to use different routes for each object using `prefix`."
   ]
  },
  {
   "cell_type": "code",
   "execution_count": 40,
   "metadata": {
    "brd": {
     "id": "03afd03b-bd20-4c8d-a532-6ec786ddaa56"
    }
   },
   "outputs": [
    {
     "data": {
      "text/html": [
       "<pre style=\"white-space:pre;overflow-x:auto;line-height:normal;font-family:Menlo,'DejaVu Sans Mono',consolas,'Courier New',monospace\"><span style=\"font-weight: bold\">[</span>\n",
       "    <span style=\"color: #800080; text-decoration-color: #800080; font-weight: bold\">Route</span><span style=\"font-weight: bold\">(</span><span style=\"color: #808000; text-decoration-color: #808000\">path</span>=<span style=\"color: #008000; text-decoration-color: #008000\">'/A/value'</span>, <span style=\"color: #808000; text-decoration-color: #808000\">name</span>=<span style=\"color: #008000; text-decoration-color: #008000\">'value'</span>, <span style=\"color: #808000; text-decoration-color: #808000\">methods</span>=<span style=\"font-weight: bold\">[</span><span style=\"color: #008000; text-decoration-color: #008000\">'GET'</span>, <span style=\"color: #008000; text-decoration-color: #008000\">'HEAD'</span><span style=\"font-weight: bold\">])</span>,\n",
       "    <span style=\"color: #800080; text-decoration-color: #800080; font-weight: bold\">Route</span><span style=\"font-weight: bold\">(</span><span style=\"color: #808000; text-decoration-color: #808000\">path</span>=<span style=\"color: #008000; text-decoration-color: #008000\">'/B/value'</span>, <span style=\"color: #808000; text-decoration-color: #808000\">name</span>=<span style=\"color: #008000; text-decoration-color: #008000\">'value'</span>, <span style=\"color: #808000; text-decoration-color: #808000\">methods</span>=<span style=\"font-weight: bold\">[</span><span style=\"color: #008000; text-decoration-color: #008000\">'GET'</span>, <span style=\"color: #008000; text-decoration-color: #008000\">'HEAD'</span><span style=\"font-weight: bold\">])</span>\n",
       "<span style=\"font-weight: bold\">]</span>\n",
       "</pre>\n"
      ],
      "text/plain": [
       "\u001b[1m[\u001b[0m\n",
       "    \u001b[1;35mRoute\u001b[0m\u001b[1m(\u001b[0m\u001b[33mpath\u001b[0m=\u001b[32m'/A/value'\u001b[0m, \u001b[33mname\u001b[0m=\u001b[32m'value'\u001b[0m, \u001b[33mmethods\u001b[0m=\u001b[1m[\u001b[0m\u001b[32m'GET'\u001b[0m, \u001b[32m'HEAD'\u001b[0m\u001b[1m]\u001b[0m\u001b[1m)\u001b[0m,\n",
       "    \u001b[1;35mRoute\u001b[0m\u001b[1m(\u001b[0m\u001b[33mpath\u001b[0m=\u001b[32m'/B/value'\u001b[0m, \u001b[33mname\u001b[0m=\u001b[32m'value'\u001b[0m, \u001b[33mmethods\u001b[0m=\u001b[1m[\u001b[0m\u001b[32m'GET'\u001b[0m, \u001b[32m'HEAD'\u001b[0m\u001b[1m]\u001b[0m\u001b[1m)\u001b[0m\n",
       "\u001b[1m]\u001b[0m\n"
      ]
     },
     "metadata": {},
     "output_type": "display_data"
    }
   ],
   "source": [
    "class A:\n",
    "    ar = APIRouterD('/A')\n",
    "    _value:str = 'a'\n",
    "    @ar\n",
    "    def value(self): return self._value\n",
    "\n",
    "class B(A):\n",
    "    ar = APIRouterD('/B')\n",
    "    _value: int = 1\n",
    "    @ar\n",
    "    def value(self): return self._value\n",
    "\n",
    "\n",
    "app, cli, _ = get_app()\n",
    "\n",
    "(a := A()).ar.to_app(app)\n",
    "(b := B()).ar.to_app(app)\n",
    "cprint(app.routes)\n",
    "\n",
    "test_eq(str(b.ar.value), '/B/value')\n",
    "test_eq(cli.get('/A/value').text, 'a')\n",
    "test_eq(cli.get('/B/value').text, '1')"
   ]
  },
  {
   "cell_type": "markdown",
   "metadata": {},
   "source": [
    "But we can easily complicate things by using e.g, abstracts or mixins. Consider this contrived example."
   ]
  },
  {
   "cell_type": "code",
   "execution_count": 41,
   "metadata": {
    "brd": {
     "id": "ba27e3a9-89f5-42d8-8168-0f251ca83f43"
    }
   },
   "outputs": [
    {
     "data": {
      "text/html": [
       "<pre style=\"white-space:pre;overflow-x:auto;line-height:normal;font-family:Menlo,'DejaVu Sans Mono',consolas,'Courier New',monospace\"><span style=\"font-weight: bold\">[</span><span style=\"color: #800080; text-decoration-color: #800080; font-weight: bold\">Route</span><span style=\"font-weight: bold\">(</span><span style=\"color: #808000; text-decoration-color: #808000\">path</span>=<span style=\"color: #008000; text-decoration-color: #008000\">'/value'</span>, <span style=\"color: #808000; text-decoration-color: #808000\">name</span>=<span style=\"color: #008000; text-decoration-color: #008000\">'value'</span>, <span style=\"color: #808000; text-decoration-color: #808000\">methods</span>=<span style=\"font-weight: bold\">[</span><span style=\"color: #008000; text-decoration-color: #008000\">'POST'</span><span style=\"font-weight: bold\">])</span>, <span style=\"color: #800080; text-decoration-color: #800080; font-weight: bold\">Route</span><span style=\"font-weight: bold\">(</span><span style=\"color: #808000; text-decoration-color: #808000\">path</span>=<span style=\"color: #008000; text-decoration-color: #008000\">'/value'</span>, <span style=\"color: #808000; text-decoration-color: #808000\">name</span>=<span style=\"color: #008000; text-decoration-color: #008000\">'value'</span>, <span style=\"color: #808000; text-decoration-color: #808000\">methods</span>=<span style=\"font-weight: bold\">[</span><span style=\"color: #008000; text-decoration-color: #008000\">'GET'</span>, <span style=\"color: #008000; text-decoration-color: #008000\">'HEAD'</span><span style=\"font-weight: bold\">])]</span>\n",
       "</pre>\n"
      ],
      "text/plain": [
       "\u001b[1m[\u001b[0m\u001b[1;35mRoute\u001b[0m\u001b[1m(\u001b[0m\u001b[33mpath\u001b[0m=\u001b[32m'/value'\u001b[0m, \u001b[33mname\u001b[0m=\u001b[32m'value'\u001b[0m, \u001b[33mmethods\u001b[0m=\u001b[1m[\u001b[0m\u001b[32m'POST'\u001b[0m\u001b[1m]\u001b[0m\u001b[1m)\u001b[0m, \u001b[1;35mRoute\u001b[0m\u001b[1m(\u001b[0m\u001b[33mpath\u001b[0m=\u001b[32m'/value'\u001b[0m, \u001b[33mname\u001b[0m=\u001b[32m'value'\u001b[0m, \u001b[33mmethods\u001b[0m=\u001b[1m[\u001b[0m\u001b[32m'GET'\u001b[0m, \u001b[32m'HEAD'\u001b[0m\u001b[1m]\u001b[0m\u001b[1m)\u001b[0m\u001b[1m]\u001b[0m\n"
      ]
     },
     "metadata": {},
     "output_type": "display_data"
    }
   ],
   "source": [
    "class A_mixin:\n",
    "    ar = APIRouterD()\n",
    "    _value:int\n",
    "    @ar\n",
    "    def value(self): return self._value\n",
    "\n",
    "class B(A_mixin):\n",
    "    ar = APIRouterD()\n",
    "    @ar.post\n",
    "    def value(self, x:int): self._value = x\n",
    "\n",
    "@dataclass\n",
    "class C(B):\n",
    "    ar = APIRouterD()\n",
    "    _value:int = 1\n",
    "\n",
    "\n",
    "app, cli, _ = get_app()\n",
    "\n",
    "(b := B()).ar.to_app(app)\n",
    "(c := C()).ar.to_app(app)\n",
    "cprint(app.routes)\n",
    "\n",
    "test_eq(b.ar.value.to(), '/value')  # but not accesible, overriden by c\n",
    "test_eq(c.ar.value.to(), '/value')\n",
    "\n",
    "# python fails\n",
    "test_eq(c._value, 1)\n",
    "with ExceptionExpected(TypeError): b.value()  # type: ignore\n",
    "with ExceptionExpected(TypeError): c.value()  # type: ignore\n",
    "\n",
    "# starlette has no problems\n",
    "test_eq(cli.get('/value').text, '1')  # <-- equivalent to A.value(c)\n",
    "test_eq(cli.post(c.ar.value.to(x=5)).text, '')  # <-- equivalent to B.value(c, x=5)\n",
    "test_eq(c._value, 5)"
   ]
  },
  {
   "cell_type": "markdown",
   "metadata": {},
   "source": [
    "`b` is effectevely invisible to FastHTML7Starlette.  \n",
    "\n",
    "Easy then, `prefix` each APIRouter like before."
   ]
  },
  {
   "cell_type": "code",
   "execution_count": 42,
   "metadata": {
    "brd": {
     "id": "7fce0d40-1528-4c2a-8921-8e67dc67e64b"
    }
   },
   "outputs": [
    {
     "data": {
      "text/html": [
       "<pre style=\"white-space:pre;overflow-x:auto;line-height:normal;font-family:Menlo,'DejaVu Sans Mono',consolas,'Courier New',monospace\"><span style=\"font-weight: bold\">[</span>\n",
       "    <span style=\"color: #800080; text-decoration-color: #800080; font-weight: bold\">Route</span><span style=\"font-weight: bold\">(</span><span style=\"color: #808000; text-decoration-color: #808000\">path</span>=<span style=\"color: #008000; text-decoration-color: #008000\">'/AB/value'</span>, <span style=\"color: #808000; text-decoration-color: #808000\">name</span>=<span style=\"color: #008000; text-decoration-color: #008000\">'value'</span>, <span style=\"color: #808000; text-decoration-color: #808000\">methods</span>=<span style=\"font-weight: bold\">[</span><span style=\"color: #008000; text-decoration-color: #008000\">'POST'</span><span style=\"font-weight: bold\">])</span>,\n",
       "    <span style=\"color: #800080; text-decoration-color: #800080; font-weight: bold\">Route</span><span style=\"font-weight: bold\">(</span><span style=\"color: #808000; text-decoration-color: #808000\">path</span>=<span style=\"color: #008000; text-decoration-color: #008000\">'/AB/value'</span>, <span style=\"color: #808000; text-decoration-color: #808000\">name</span>=<span style=\"color: #008000; text-decoration-color: #008000\">'value'</span>, <span style=\"color: #808000; text-decoration-color: #808000\">methods</span>=<span style=\"font-weight: bold\">[</span><span style=\"color: #008000; text-decoration-color: #008000\">'GET'</span>, <span style=\"color: #008000; text-decoration-color: #008000\">'HEAD'</span><span style=\"font-weight: bold\">])</span>,\n",
       "    <span style=\"color: #800080; text-decoration-color: #800080; font-weight: bold\">Route</span><span style=\"font-weight: bold\">(</span><span style=\"color: #808000; text-decoration-color: #808000\">path</span>=<span style=\"color: #008000; text-decoration-color: #008000\">'/ABC/value'</span>, <span style=\"color: #808000; text-decoration-color: #808000\">name</span>=<span style=\"color: #008000; text-decoration-color: #008000\">'value'</span>, <span style=\"color: #808000; text-decoration-color: #808000\">methods</span>=<span style=\"font-weight: bold\">[</span><span style=\"color: #008000; text-decoration-color: #008000\">'POST'</span><span style=\"font-weight: bold\">])</span>,\n",
       "    <span style=\"color: #800080; text-decoration-color: #800080; font-weight: bold\">Route</span><span style=\"font-weight: bold\">(</span><span style=\"color: #808000; text-decoration-color: #808000\">path</span>=<span style=\"color: #008000; text-decoration-color: #008000\">'/ABC/value'</span>, <span style=\"color: #808000; text-decoration-color: #808000\">name</span>=<span style=\"color: #008000; text-decoration-color: #008000\">'value'</span>, <span style=\"color: #808000; text-decoration-color: #808000\">methods</span>=<span style=\"font-weight: bold\">[</span><span style=\"color: #008000; text-decoration-color: #008000\">'GET'</span>, <span style=\"color: #008000; text-decoration-color: #008000\">'HEAD'</span><span style=\"font-weight: bold\">])</span>\n",
       "<span style=\"font-weight: bold\">]</span>\n",
       "</pre>\n"
      ],
      "text/plain": [
       "\u001b[1m[\u001b[0m\n",
       "    \u001b[1;35mRoute\u001b[0m\u001b[1m(\u001b[0m\u001b[33mpath\u001b[0m=\u001b[32m'/AB/value'\u001b[0m, \u001b[33mname\u001b[0m=\u001b[32m'value'\u001b[0m, \u001b[33mmethods\u001b[0m=\u001b[1m[\u001b[0m\u001b[32m'POST'\u001b[0m\u001b[1m]\u001b[0m\u001b[1m)\u001b[0m,\n",
       "    \u001b[1;35mRoute\u001b[0m\u001b[1m(\u001b[0m\u001b[33mpath\u001b[0m=\u001b[32m'/AB/value'\u001b[0m, \u001b[33mname\u001b[0m=\u001b[32m'value'\u001b[0m, \u001b[33mmethods\u001b[0m=\u001b[1m[\u001b[0m\u001b[32m'GET'\u001b[0m, \u001b[32m'HEAD'\u001b[0m\u001b[1m]\u001b[0m\u001b[1m)\u001b[0m,\n",
       "    \u001b[1;35mRoute\u001b[0m\u001b[1m(\u001b[0m\u001b[33mpath\u001b[0m=\u001b[32m'/ABC/value'\u001b[0m, \u001b[33mname\u001b[0m=\u001b[32m'value'\u001b[0m, \u001b[33mmethods\u001b[0m=\u001b[1m[\u001b[0m\u001b[32m'POST'\u001b[0m\u001b[1m]\u001b[0m\u001b[1m)\u001b[0m,\n",
       "    \u001b[1;35mRoute\u001b[0m\u001b[1m(\u001b[0m\u001b[33mpath\u001b[0m=\u001b[32m'/ABC/value'\u001b[0m, \u001b[33mname\u001b[0m=\u001b[32m'value'\u001b[0m, \u001b[33mmethods\u001b[0m=\u001b[1m[\u001b[0m\u001b[32m'GET'\u001b[0m, \u001b[32m'HEAD'\u001b[0m\u001b[1m]\u001b[0m\u001b[1m)\u001b[0m\n",
       "\u001b[1m]\u001b[0m\n"
      ]
     },
     "metadata": {},
     "output_type": "display_data"
    }
   ],
   "source": [
    "class A_mixin:\n",
    "    ar = APIRouterD('/A')\n",
    "    _value:int\n",
    "    @ar\n",
    "    def value(self): return self._value\n",
    "\n",
    "class B(A_mixin):\n",
    "    ar = APIRouterD('/AB')\n",
    "    @ar.post\n",
    "    def value(self, x:int): self._value = x\n",
    "\n",
    "@dataclass\n",
    "class C(B):\n",
    "    ar = APIRouterD('/ABC')\n",
    "    _value:int = 1\n",
    "\n",
    "\n",
    "app, cli, _ = get_app()\n",
    "\n",
    "(b := B()).ar.to_app(app)\n",
    "(c := C()).ar.to_app(app)\n",
    "cprint(app.routes)\n",
    "\n",
    "test_eq(b.ar.value.to(), '/AB/value')\n",
    "test_eq(c.ar.value.to(), '/ABC/value')\n",
    "\n",
    "test_eq(c._value, 1)\n",
    "with ExceptionExpected(TypeError): b.value()  # type: ignore\n",
    "with ExceptionExpected(TypeError): c.value()  # type: ignore\n",
    "\n",
    "with ExceptionExpected(AttributeError): cli.get('/AB/value').text\n",
    "test_eq(cli.post(b.ar.value.to(x=3)).text, '')\n",
    "test_eq(b._value, 3)\n",
    "test_eq(cli.get('/AB/value').text, '3')\n",
    "\n",
    "test_eq(cli.get('/ABC/value').text, '1')  # <-- equivalent to A.value(c)\n",
    "test_eq(cli.post(c.ar.value.to(x=5)).text, '')  # <-- equivalent to B.value(c, x=5)\n",
    "test_eq(c._value, 5)"
   ]
  },
  {
   "cell_type": "markdown",
   "metadata": {},
   "source": [
    "In normal use, you probably won't have to worry about this. Nevertheless you must be careful mixing inheritance and Starlette routing.\n",
    "\n",
    "Method resolution in python follows [MRO](https://docs.python.org/3/howto/mro.html#python-2-3-mro). Starlette routes lay in a flattened space, a list (or list of lists if sub-mounting). Unlike python, routes are matched in the order they are added by path, path parmas **and** HTTP methods. Unlike Starlette, FastHTML checks path and HTTP methods when adding routes, but the basic look-up remains the same.\n",
    "\n",
    "In the contrived example above, python call fails, but Starlette has no problem finding the appropriate route because HTTP methds are different. A Route endpoint is a function, unbounded or, if using APIRouterD, bounded to the instance (of type C, not B or A, in the example). FastHTML adds extended functionality such as typing and introspection. The call works, but not in a pythonic way.\n",
    "\n",
    "Without getting into [Liskov](https://en.wikipedia.org/wiki/Liskov_substitution_principle) and subtyping and the rest of OOP can of worms, think of APIRouterD as a way of organize routes and encapsulate state, nothing more. In Hypermedia systems, inheritance, classes, typing are ill defined concepts if at all. There's not such thing as a \"subclass\" of a resource. Resources are uniquely idewntified with URIs, oprganized in hypermedia networks obtained with hypermedia controls. Semantics or behaviors are a thing of the server. The client only knows URIs.\n",
    "\n",
    "So, stick with simple, flat scopes, and if you must, be very careful defining routes when inheritance is involved."
   ]
  },
  {
   "cell_type": "markdown",
   "metadata": {},
   "source": [
    "# APIRoute\n",
    "> Convenience shortcut to avoid defining explictly `APIRouterD` class var `ar`.\n",
    "\n",
    "It´s annoying having to define explicitly an `ar` class var for each class. Coould we have a similar shortcut like `rt` in normal FastHTML?"
   ]
  },
  {
   "cell_type": "code",
   "execution_count": 43,
   "metadata": {
    "brd": {
     "id": "c6b27f5c-0a4a-4d2e-8336-5a58a1832183"
    }
   },
   "outputs": [],
   "source": [
    "#| export\n",
    "\n",
    "class _APIRouterD(APIRouterD):\n",
    "    def __set_name__(self, owner, name): raise AttributeError(f\"_APIRouterD should not be used explicitly.\")\n",
    "    def __get__(self, instance, owner):\n",
    "        if not instance: return self\n",
    "        for base in reversed(owner.mro()[1:-1]):\n",
    "            if hasattr(base, _AR_MARK):\n",
    "                _ar = getattr(base, 'ar', None)\n",
    "                if _ar and not _ar._name: super(_APIRouterD, _ar).__set_name__(base, 'ar')  # type: ignore\n",
    "        if not self._name: super().__set_name__(owner, 'ar')    \n",
    "        return super().__get__(instance, owner)\n",
    "\n",
    "\n",
    "class APIRoute:\n",
    "    _attr_name = 'ar'\n",
    "\n",
    "    def __init__(self, path=None, methods=None, name=None, include_in_schema=True, body_wrap=noop_body):\n",
    "        if path and not isinstance(path, str): self.func, path = path, _path(path)\n",
    "        self._rtargs = '/' if path == '/index' else path, methods, name, include_in_schema, body_wrap\n",
    "\n",
    "    def __call__(self, func) -> Callable:  self.func = func; return self\n",
    "    def __getattr__(self, name): return getattr(self.func, name)  # getter, setter, deleter\n",
    "    \n",
    "    def __set_name__(self, owner, name):\n",
    "        if not self._attr_name in vars(owner):\n",
    "            setattr(owner, self._attr_name, ar := _APIRouterD())\n",
    "            setattr(owner, _AR_MARK, ar._rtargs)\n",
    "        getattr(owner, _AR_MARK)[self.func] = self._rtargs  # collect rt args\n",
    "        setattr(owner, name, self.func)  # let methods be methods; wipe out myself\n",
    "\n",
    "    # hate stupid wiggly reds\n",
    "    post: Callable; get: Callable; put: Callable; delete: Callable; patch: Callable; head: Callable; options: Callable;\n",
    "\n",
    "for o in all_meths: setattr(APIRoute, o, functools.partialmethod(APIRoute, methods=o))"
   ]
  },
  {
   "cell_type": "code",
   "execution_count": 44,
   "metadata": {
    "brd": {
     "id": "3d698252-5caa-42fa-818c-882b5dbb1ad9"
    }
   },
   "outputs": [],
   "source": [
    "ar = APIRoute"
   ]
  },
  {
   "cell_type": "code",
   "execution_count": 45,
   "metadata": {
    "brd": {
     "id": "1c0895c7-3368-42a6-878d-d28202ad663e"
    },
    "bridget": {
     "id": "63a8f0c1-3354-4570-9828-236f3539aa65"
    }
   },
   "outputs": [],
   "source": [
    "class TestAR:\n",
    "    def __init__(self, a): self.a = a\n",
    "\n",
    "    @APIRoute('/hi')\n",
    "    @staticmethod\n",
    "    def hi(): return f'hi there'\n",
    "\n",
    "    @ar('/yoyo')\n",
    "    def yoyo(self): \n",
    "        return f'a yoyo called {self.a}'\n",
    "\n",
    "    @ar\n",
    "    def foo(self): \n",
    "        return f'foo {self.a}'\n",
    "\n",
    "\n",
    "t = TestAR('yo')\n",
    "test_eq(t.yoyo(), 'a yoyo called yo')\n",
    "\n",
    "app, cli, _ = get_app()\n",
    "t.ar.to_app(app)  # type: ignore\n",
    "\n",
    "test_eq(cli.get('/hi').text, 'hi there')\n",
    "test_eq(cli.get('/yoyo').text, 'a yoyo called yo')\n",
    "test_eq(cli.get('/foo').text, 'foo yo')\n",
    "\n",
    "test_eq(t.ar.yoyo.to(), '/yoyo')  # type: ignore"
   ]
  },
  {
   "cell_type": "markdown",
   "metadata": {},
   "source": [
    "If you don't need to initialize APIRouterD (e.g. `prefix`), or setup it afterwards, or mind defining the `APIRouterD` attribute explicitly, use `APIRoute` or the `ar` shortcut. It works fine if you don´t mind type checking false negatives.\n",
    "\n",
    "If like me, you like static type checking but not stupid wiggly reds <span style=\"color:red\">~~~</span>, inherit from `RouteProvider`."
   ]
  },
  {
   "cell_type": "code",
   "execution_count": 46,
   "metadata": {
    "brd": {
     "id": "81de4433-c3fd-4df3-b86b-cd0516713c5c"
    }
   },
   "outputs": [],
   "source": [
    "class A(RouteProvider):\n",
    "    _value:Any\n",
    "    @ar\n",
    "    def value(self): return self._value\n",
    "\n",
    "class B(A):\n",
    "    @ar.post\n",
    "    def value(self, value:int|None=None):\n",
    "        if value is not None: self._value = value\n",
    "        return self._value\n",
    "\n",
    "@dataclass\n",
    "class C(B):\n",
    "    _value:int = 3\n",
    "\n",
    "\n",
    "app, cli, _ = get_app()\n",
    "\n",
    "c = C()\n",
    "c.ar.to_app(app)\n",
    "\n",
    "test_eq(cli.get('/value').text, '3')\n",
    "test_eq(cli.post('/value?value=7').text, '7')\n",
    "test_eq(c.value(), 7)"
   ]
  },
  {
   "cell_type": "markdown",
   "metadata": {},
   "source": [
    "# Adding routes to the app\n",
    "> Convenience functions for registering routes from providers into FastHTML apps.\n"
   ]
  },
  {
   "cell_type": "markdown",
   "metadata": {},
   "source": [
    "## FastHTML, Notebooks, Scope & State\n",
    "> Current `APIRouter` incarnation has a  complicated relationship with scope and state."
   ]
  },
  {
   "cell_type": "code",
   "execution_count": 47,
   "metadata": {
    "brd": {
     "id": "5a785e15-5626-4944-83bc-b6f90a891ae4"
    }
   },
   "outputs": [],
   "source": [
    "def noelmeter(n): return f\"Ho {('ho '*n).strip()}!\"\n",
    "\n",
    "ar = APIRouter()\n",
    "state = {'count': 1}\n",
    "\n",
    "@ar(\"/ho\")\n",
    "def ho(req):\n",
    "    return f\"{noelmeter(state['count'])} {ar.ho.to()} {req.url_for('ho')}\""
   ]
  },
  {
   "cell_type": "markdown",
   "metadata": {},
   "source": [
    "Note that `ho` access globals `state` and `ar`."
   ]
  },
  {
   "cell_type": "code",
   "execution_count": 48,
   "metadata": {
    "brd": {
     "id": "5fa403bb-8e3b-4f1e-8cdf-76c95ea926b6"
    }
   },
   "outputs": [
    {
     "data": {
      "text/html": [
       "<pre style=\"white-space:pre;overflow-x:auto;line-height:normal;font-family:Menlo,'DejaVu Sans Mono',consolas,'Courier New',monospace\"><span style=\"font-weight: bold\">[</span><span style=\"color: #800080; text-decoration-color: #800080; font-weight: bold\">Route</span><span style=\"font-weight: bold\">(</span><span style=\"color: #808000; text-decoration-color: #808000\">path</span>=<span style=\"color: #008000; text-decoration-color: #008000\">'/ho'</span>, <span style=\"color: #808000; text-decoration-color: #808000\">name</span>=<span style=\"color: #008000; text-decoration-color: #008000\">'ho'</span>, <span style=\"color: #808000; text-decoration-color: #808000\">methods</span>=<span style=\"font-weight: bold\">[</span><span style=\"color: #008000; text-decoration-color: #008000\">'GET'</span>, <span style=\"color: #008000; text-decoration-color: #008000\">'HEAD'</span>, <span style=\"color: #008000; text-decoration-color: #008000\">'POST'</span><span style=\"font-weight: bold\">])]</span>\n",
       "</pre>\n"
      ],
      "text/plain": [
       "\u001b[1m[\u001b[0m\u001b[1;35mRoute\u001b[0m\u001b[1m(\u001b[0m\u001b[33mpath\u001b[0m=\u001b[32m'/ho'\u001b[0m, \u001b[33mname\u001b[0m=\u001b[32m'ho'\u001b[0m, \u001b[33mmethods\u001b[0m=\u001b[1m[\u001b[0m\u001b[32m'GET'\u001b[0m, \u001b[32m'HEAD'\u001b[0m, \u001b[32m'POST'\u001b[0m\u001b[1m]\u001b[0m\u001b[1m)\u001b[0m\u001b[1m]\u001b[0m\n"
      ]
     },
     "metadata": {},
     "output_type": "display_data"
    }
   ],
   "source": [
    "app,cli,_ = get_app()\n",
    "ar.to_app(app)\n",
    "cprint(app.routes)"
   ]
  },
  {
   "cell_type": "code",
   "execution_count": 49,
   "metadata": {
    "brd": {
     "id": "680716b0-7013-49f7-bbbe-e1875ba0186a"
    }
   },
   "outputs": [],
   "source": [
    "test_eq(cli.get('/ho').text, 'Ho ho! /ho http://nb/ho')\n",
    "test_eq(app.url_path_for('ho'), '/ho')"
   ]
  },
  {
   "cell_type": "markdown",
   "metadata": {},
   "source": [
    "Now let´s create another APIRouter with a separate state."
   ]
  },
  {
   "cell_type": "code",
   "execution_count": 50,
   "metadata": {
    "brd": {
     "id": "ef4d50fd-ca8f-4fa0-91c5-6ebfa0d1dd5f"
    }
   },
   "outputs": [
    {
     "data": {
      "text/html": [
       "<pre style=\"white-space:pre;overflow-x:auto;line-height:normal;font-family:Menlo,'DejaVu Sans Mono',consolas,'Courier New',monospace\"><span style=\"font-weight: bold\">[</span>\n",
       "    <span style=\"color: #800080; text-decoration-color: #800080; font-weight: bold\">Route</span><span style=\"font-weight: bold\">(</span><span style=\"color: #808000; text-decoration-color: #808000\">path</span>=<span style=\"color: #008000; text-decoration-color: #008000\">'/ho'</span>, <span style=\"color: #808000; text-decoration-color: #808000\">name</span>=<span style=\"color: #008000; text-decoration-color: #008000\">'ho'</span>, <span style=\"color: #808000; text-decoration-color: #808000\">methods</span>=<span style=\"font-weight: bold\">[</span><span style=\"color: #008000; text-decoration-color: #008000\">'GET'</span>, <span style=\"color: #008000; text-decoration-color: #008000\">'HEAD'</span>, <span style=\"color: #008000; text-decoration-color: #008000\">'POST'</span><span style=\"font-weight: bold\">])</span>,\n",
       "    <span style=\"color: #800080; text-decoration-color: #800080; font-weight: bold\">Route</span><span style=\"font-weight: bold\">(</span><span style=\"color: #808000; text-decoration-color: #808000\">path</span>=<span style=\"color: #008000; text-decoration-color: #008000\">'/products/ho'</span>, <span style=\"color: #808000; text-decoration-color: #808000\">name</span>=<span style=\"color: #008000; text-decoration-color: #008000\">'ho'</span>, <span style=\"color: #808000; text-decoration-color: #808000\">methods</span>=<span style=\"font-weight: bold\">[</span><span style=\"color: #008000; text-decoration-color: #008000\">'GET'</span>, <span style=\"color: #008000; text-decoration-color: #008000\">'HEAD'</span>, <span style=\"color: #008000; text-decoration-color: #008000\">'POST'</span><span style=\"font-weight: bold\">])</span>\n",
       "<span style=\"font-weight: bold\">]</span>\n",
       "</pre>\n"
      ],
      "text/plain": [
       "\u001b[1m[\u001b[0m\n",
       "    \u001b[1;35mRoute\u001b[0m\u001b[1m(\u001b[0m\u001b[33mpath\u001b[0m=\u001b[32m'/ho'\u001b[0m, \u001b[33mname\u001b[0m=\u001b[32m'ho'\u001b[0m, \u001b[33mmethods\u001b[0m=\u001b[1m[\u001b[0m\u001b[32m'GET'\u001b[0m, \u001b[32m'HEAD'\u001b[0m, \u001b[32m'POST'\u001b[0m\u001b[1m]\u001b[0m\u001b[1m)\u001b[0m,\n",
       "    \u001b[1;35mRoute\u001b[0m\u001b[1m(\u001b[0m\u001b[33mpath\u001b[0m=\u001b[32m'/products/ho'\u001b[0m, \u001b[33mname\u001b[0m=\u001b[32m'ho'\u001b[0m, \u001b[33mmethods\u001b[0m=\u001b[1m[\u001b[0m\u001b[32m'GET'\u001b[0m, \u001b[32m'HEAD'\u001b[0m, \u001b[32m'POST'\u001b[0m\u001b[1m]\u001b[0m\u001b[1m)\u001b[0m\n",
       "\u001b[1m]\u001b[0m\n"
      ]
     },
     "metadata": {},
     "output_type": "display_data"
    }
   ],
   "source": [
    "ar2 = APIRouter(\"/products\")\n",
    "state2 = {'count': 3}\n",
    "\n",
    "@ar2(\"/ho\")\n",
    "def ho(req):\n",
    "    return f\"{noelmeter(state2['count'])} {ar2.ho.to()} {req.url_for('ho')}\"\n",
    "\n",
    "ar2.to_app(app)\n",
    "cprint(app.routes)"
   ]
  },
  {
   "cell_type": "markdown",
   "metadata": {},
   "source": [
    "We must use `prefix` to preserve `ar` routes when adding the new ones."
   ]
  },
  {
   "cell_type": "code",
   "execution_count": 51,
   "metadata": {
    "brd": {
     "id": "1b2207e7-3999-488b-ba42-95f51caa619a"
    }
   },
   "outputs": [],
   "source": [
    "test_eq(cli.get('/ho').text, 'Ho ho! /ho http://nb/ho')\n",
    "test_eq(cli.get('/products/ho').text, 'Ho ho ho ho! /products/ho http://nb/ho')  # <-- wrong\n",
    "\n",
    "test_eq(app.url_path_for('ho'), '/ho')"
   ]
  },
  {
   "cell_type": "markdown",
   "metadata": {},
   "source": [
    "Routes @ `/ho` and `/products/ho` got the same name so either app or req can't use reverse URL lookup to get the correct path of `ar2.ho`.\n",
    "\n",
    "We may need to add `ar2` to another app because both `ar` and `ar2` routes share names, and then install `app2` as a submount."
   ]
  },
  {
   "cell_type": "code",
   "execution_count": 52,
   "metadata": {
    "brd": {
     "id": "61a30618-99ae-4d88-836a-08d4553ede55"
    }
   },
   "outputs": [
    {
     "data": {
      "text/html": [
       "<pre style=\"white-space:pre;overflow-x:auto;line-height:normal;font-family:Menlo,'DejaVu Sans Mono',consolas,'Courier New',monospace\"><span style=\"font-weight: bold\">[</span>\n",
       "    <span style=\"color: #800080; text-decoration-color: #800080; font-weight: bold\">Route</span><span style=\"font-weight: bold\">(</span><span style=\"color: #808000; text-decoration-color: #808000\">path</span>=<span style=\"color: #008000; text-decoration-color: #008000\">'/ho'</span>, <span style=\"color: #808000; text-decoration-color: #808000\">name</span>=<span style=\"color: #008000; text-decoration-color: #008000\">'ho'</span>, <span style=\"color: #808000; text-decoration-color: #808000\">methods</span>=<span style=\"font-weight: bold\">[</span><span style=\"color: #008000; text-decoration-color: #008000\">'GET'</span>, <span style=\"color: #008000; text-decoration-color: #008000\">'HEAD'</span>, <span style=\"color: #008000; text-decoration-color: #008000\">'POST'</span><span style=\"font-weight: bold\">])</span>,\n",
       "    <span style=\"color: #800080; text-decoration-color: #800080; font-weight: bold\">Mount</span><span style=\"font-weight: bold\">(</span><span style=\"color: #808000; text-decoration-color: #808000\">path</span>=<span style=\"color: #008000; text-decoration-color: #008000\">'/products'</span>, <span style=\"color: #808000; text-decoration-color: #808000\">name</span>=<span style=\"color: #008000; text-decoration-color: #008000\">''</span>, <span style=\"color: #808000; text-decoration-color: #808000\">app</span>=<span style=\"font-weight: bold\">&lt;</span><span style=\"color: #ff00ff; text-decoration-color: #ff00ff; font-weight: bold\">fasthtml.core.FastHTML</span><span style=\"color: #000000; text-decoration-color: #000000\"> object at </span><span style=\"color: #008080; text-decoration-color: #008080; font-weight: bold\">0x16a186600</span><span style=\"font-weight: bold\">&gt;)</span>\n",
       "<span style=\"font-weight: bold\">]</span>\n",
       "</pre>\n"
      ],
      "text/plain": [
       "\u001b[1m[\u001b[0m\n",
       "    \u001b[1;35mRoute\u001b[0m\u001b[1m(\u001b[0m\u001b[33mpath\u001b[0m=\u001b[32m'/ho'\u001b[0m, \u001b[33mname\u001b[0m=\u001b[32m'ho'\u001b[0m, \u001b[33mmethods\u001b[0m=\u001b[1m[\u001b[0m\u001b[32m'GET'\u001b[0m, \u001b[32m'HEAD'\u001b[0m, \u001b[32m'POST'\u001b[0m\u001b[1m]\u001b[0m\u001b[1m)\u001b[0m,\n",
       "    \u001b[1;35mMount\u001b[0m\u001b[1m(\u001b[0m\u001b[33mpath\u001b[0m=\u001b[32m'/products'\u001b[0m, \u001b[33mname\u001b[0m=\u001b[32m''\u001b[0m, \u001b[33mapp\u001b[0m=\u001b[1m<\u001b[0m\u001b[1;95mfasthtml.core.FastHTML\u001b[0m\u001b[39m object at \u001b[0m\u001b[1;36m0x16a186600\u001b[0m\u001b[1m>\u001b[0m\u001b[1m)\u001b[0m\n",
       "\u001b[1m]\u001b[0m\n"
      ]
     },
     "metadata": {},
     "output_type": "display_data"
    },
    {
     "data": {
      "text/html": [
       "<pre style=\"white-space:pre;overflow-x:auto;line-height:normal;font-family:Menlo,'DejaVu Sans Mono',consolas,'Courier New',monospace\"><span style=\"font-weight: bold\">[</span><span style=\"color: #800080; text-decoration-color: #800080; font-weight: bold\">Route</span><span style=\"font-weight: bold\">(</span><span style=\"color: #808000; text-decoration-color: #808000\">path</span>=<span style=\"color: #008000; text-decoration-color: #008000\">'/ho'</span>, <span style=\"color: #808000; text-decoration-color: #808000\">name</span>=<span style=\"color: #008000; text-decoration-color: #008000\">'ho'</span>, <span style=\"color: #808000; text-decoration-color: #808000\">methods</span>=<span style=\"font-weight: bold\">[</span><span style=\"color: #008000; text-decoration-color: #008000\">'GET'</span>, <span style=\"color: #008000; text-decoration-color: #008000\">'HEAD'</span>, <span style=\"color: #008000; text-decoration-color: #008000\">'POST'</span><span style=\"font-weight: bold\">])]</span>\n",
       "</pre>\n"
      ],
      "text/plain": [
       "\u001b[1m[\u001b[0m\u001b[1;35mRoute\u001b[0m\u001b[1m(\u001b[0m\u001b[33mpath\u001b[0m=\u001b[32m'/ho'\u001b[0m, \u001b[33mname\u001b[0m=\u001b[32m'ho'\u001b[0m, \u001b[33mmethods\u001b[0m=\u001b[1m[\u001b[0m\u001b[32m'GET'\u001b[0m, \u001b[32m'HEAD'\u001b[0m, \u001b[32m'POST'\u001b[0m\u001b[1m]\u001b[0m\u001b[1m)\u001b[0m\u001b[1m]\u001b[0m\n"
      ]
     },
     "metadata": {},
     "output_type": "display_data"
    }
   ],
   "source": [
    "app.routes.clear()\n",
    "ar.to_app(app)\n",
    "\n",
    "ar2 = APIRouter()  # we can`t use prefix here\n",
    "\n",
    "@ar2(\"/ho\")\n",
    "def ho(req):\n",
    "    return f\"{noelmeter(state2['count'])} {ar2.ho.to()} {req.url_for('ho')}\"\n",
    "\n",
    "app2,cli2,_ = get_app()\n",
    "ar2.to_app(app2)\n",
    "\n",
    "app.routes.append(Mount('/products', app2))\n",
    "cprint(app.routes)\n",
    "cprint(app.routes[-1].app.routes)  # type: ignore"
   ]
  },
  {
   "cell_type": "code",
   "execution_count": 53,
   "metadata": {
    "brd": {
     "id": "8741c093-dbdc-4df6-88a6-24258e628637"
    }
   },
   "outputs": [],
   "source": [
    "test_eq(cli.get('/ho').text, 'Ho ho! /ho http://nb/ho')\n",
    "test_eq(cli.get('/products/ho').text, 'Ho ho ho ho! /ho http://nb/ho')  # <-- wrong\n",
    "\n",
    "test_eq(app.url_path_for('ho'), '/ho')"
   ]
  },
  {
   "cell_type": "markdown",
   "metadata": {},
   "source": [
    "Nope. We can´t rely on `req.url_for(...)` or `app.url_path_fpr(...)` unless we add another global dependency."
   ]
  },
  {
   "cell_type": "code",
   "execution_count": 54,
   "metadata": {
    "brd": {
     "id": "32e47e4c-873a-409a-923d-940a05bf2fe0"
    }
   },
   "outputs": [],
   "source": [
    "app.routes.clear()\n",
    "ar.to_app(app)\n",
    "\n",
    "ar2 = APIRouter()\n",
    "\n",
    "@ar2(\"/ho\")\n",
    "def ho(req):\n",
    "    return f\"{noelmeter(state2['count'])} /products{ar2.ho.to()} {req.url_for('products:ho')}\"  # or\n",
    "        #  f\"{noelmeter(state2['count'])} {ar2.prefix}{ar2.ho.to()} {req.url_for('products:ho')}\"\n",
    "\n",
    "app2,cli2,_ = get_app()\n",
    "ar2.to_app(app2)\n",
    "app.routes.append(Mount('/products', app2, name='products'))  # <-- assume `ar2` mounted with the name `products`"
   ]
  },
  {
   "cell_type": "code",
   "execution_count": 55,
   "metadata": {
    "brd": {
     "id": "1657a874-d83c-49ef-9b95-c9ffbe523f43"
    }
   },
   "outputs": [],
   "source": [
    "test_eq(cli.get('/ho').text, 'Ho ho! /ho http://nb/ho')\n",
    "test_eq(cli.get('/products/ho').text, 'Ho ho ho ho! /products/ho http://nb/products/ho')\n",
    "\n",
    "test_eq(app.url_path_for('ho'), '/ho')\n",
    "test_eq(app.url_path_for('products:ho'), '/products/ho')"
   ]
  },
  {
   "cell_type": "markdown",
   "metadata": {},
   "source": [
    "The fix above finally works. But now not only `ho` depends on globals `ar2` and `state2`, also on knowledge of the mount route name."
   ]
  },
  {
   "cell_type": "markdown",
   "metadata": {},
   "source": [
    "## add_routes\n",
    "\n",
    "Besides support for methods, `APIRouterC` also has features to ease adding/mounting `APIRouter`s."
   ]
  },
  {
   "cell_type": "code",
   "execution_count": 56,
   "metadata": {
    "brd": {
     "id": "2ef45925-23bd-4ebc-8497-70e6879becdc"
    }
   },
   "outputs": [],
   "source": [
    "#| export\n",
    "\n",
    "def _ar(o):\n",
    "    if v := getattr(o, 'ar', None): return v\n",
    "    # search the type; if `ar` is a descriptor, could not be valued yet.\n",
    "    t = type(o)\n",
    "    k = FC.first(vars(t), lambda x: isinstance(getattr(t, x), APIRouterD)) or ''\n",
    "    return getattr(o, k, None)\n",
    "\n",
    "def add_routes(self: FastHTML,  # we could patch FastHTML, but that´s a big deal better served by PRs\n",
    "        prov:APIRouter|RouteProviderP|Any,  # APIRouterC or RouteProvider\n",
    "        mount:bool=False,       # mount routes under `path`; if false will add routes under APIRouter prefix\n",
    "        path:str|None=None,     # if `mount`, submount path (or auto-generated based on `prov` class)\n",
    "        name:str|None=None,     # if `mount`, name for submount (or auto-generated based on path)\n",
    "        appcls:Callable=nb_app  # use FastHTML factory for submounts\n",
    "    ) -> APIRouter:\n",
    "    \"Register provider routes\"\n",
    "    if path == '': path = None\n",
    "    # ar = prov if isinstance(prov, APIRouter) else prov.ar  # TODO: search for the class attribute actually used\n",
    "    ar = prov if isinstance(prov, APIRouter) else _ar(prov)  # TODO: search for the class attribute actually used\n",
    "    if not ar: return#raise ValueError(f\"No APIRouter found in {prov}\")  # type: ignore\n",
    "    if not len(ar.routes): return ar\n",
    "    if not isinstance(ar, APIRouterC):\n",
    "        # As APIRouter has already backed its routes, we can´t do anything more here.\n",
    "        return add_routes(self, ar, False)\n",
    "    # It's unclear how to handle APIRouterC prefix + path; skip altogether for now (got to think more about that)\n",
    "    if not mount:  # CASE 1: mount=False, path=None\n",
    "        if path is None:\n",
    "            ar.to_app(self)\n",
    "            return ar\n",
    "        else:  # CASE 2: mount=False, path=...\n",
    "            self.router.routes = [\n",
    "                # r for r in self.router.routes if not (r.path==path and r.name == name)]  # type: ignore\n",
    "                r for r in self.router.routes if not r.path==path]  # type: ignore\n",
    "            if not name:# and ar.__mount__.name:\n",
    "                name = _replace(path, '/')\n",
    "            self.mount(path, app := appcls(), name=name)\n",
    "            ar.prefix = ''\n",
    "            ar.__mount__ = ar.__mount__.mount(path, name)\n",
    "            path, name = None, None\n",
    "    else:\n",
    "        if ar is prov:\n",
    "            app = self # ????\n",
    "        else:\n",
    "            cls_nn = f\"{nested_name(type(prov))}\"\n",
    "            ar.__mount__ = MountPoint(f\"/{cls_nn}\", cls_nn)  # type: ignore\n",
    "            if mnt := FC.first(self.routes, lambda x: x.name==cls_nn): app = mnt.app\n",
    "            else: self.mount(ar.__mount__.path, app := appcls(), name=cls_nn)\n",
    "            if path is None:  # CASE 3: mount = True, path=None => auto mount under /<class name>/<instance name>/...\n",
    "                arn = new_id(prov)\n",
    "                path = f\"/{arn}\"\n",
    "                if not name: name = arn\n",
    "            else:  # CASE 4: mount = True, path=...\n",
    "                if path == '' or path == '/': path = None\n",
    "    return add_routes(app, ar, False, path, name, appcls)\n",
    "\n",
    "\n",
    "def mount(app: FastHTML, prov:APIRouter|RouteProviderP, path:str|None=None, name:str|None=None):\n",
    "    return add_routes(app, prov, True, path, name)"
   ]
  },
  {
   "cell_type": "code",
   "execution_count": 57,
   "metadata": {
    "brd": {
     "id": "263d6a39-8e3e-457c-815a-52fecabaf917"
    }
   },
   "outputs": [],
   "source": [
    "# @FC.patch\n",
    "# def to_app(\n",
    "#         self: APIRouterC, \n",
    "#         app:FastHTML,\n",
    "#         mount:bool=False,               # If True, mount routes under `path`\n",
    "#         path:str|None=None,             # if mount, Base path or APIRouter prefix\n",
    "#         name:str|None=None,             # if mount, Optional name for the routes group\n",
    "#     ) -> APIRouter:\n",
    "#     return add_routes(app, self, mount, path, name, None)\n",
    "\n",
    "# @FC.patch\n",
    "# def mount_to(self:APIRouterC, app: FastHTML, path:str|None=None, name:str|None=None):\n",
    "#     return add_routes(app, self, True, path, name)"
   ]
  },
  {
   "cell_type": "markdown",
   "metadata": {},
   "source": [
    "`add_routes` handles two scenarios:\n",
    "1. `mount` is `False`. This is equivalent to `APIRouter.to_app`, the routes are available under `APIRuter.prefix`.\n",
    "2. `mount` is `True`. The routes are mounted under `path` and are available under path/prefix.\n",
    "\n",
    "App routes can be organized at two levels:\n",
    "1. **root Level**: Global routes\n",
    "2. **Provider Level**: Scoped routes defined by providers\n",
    "\n",
    "This allows for clean organization of routes and natural encapsulation of component behavior directly in the notebook. This will be handy when we start defining ipywidgets like widgets with FastHTML.\n",
    "\n",
    "Though I think it's convenient, you don't need to mount routes providers at all, add its routes directly to the root level app.\n"
   ]
  },
  {
   "cell_type": "code",
   "execution_count": 58,
   "metadata": {
    "brd": {
     "id": "ebc0891f-38ae-4e8e-a98b-f381c639b989"
    }
   },
   "outputs": [],
   "source": [
    "ar = APIRoute"
   ]
  },
  {
   "cell_type": "code",
   "execution_count": 59,
   "metadata": {
    "brd": {
     "id": "684fc4db-c776-408c-ab91-a19424a0ff6a"
    }
   },
   "outputs": [
    {
     "data": {
      "text/html": [
       "<pre style=\"white-space:pre;overflow-x:auto;line-height:normal;font-family:Menlo,'DejaVu Sans Mono',consolas,'Courier New',monospace\"><span style=\"font-weight: bold\">[</span>\n",
       "    <span style=\"color: #800080; text-decoration-color: #800080; font-weight: bold\">Route</span><span style=\"font-weight: bold\">(</span><span style=\"color: #808000; text-decoration-color: #808000\">path</span>=<span style=\"color: #008000; text-decoration-color: #008000\">'/value'</span>, <span style=\"color: #808000; text-decoration-color: #808000\">name</span>=<span style=\"color: #008000; text-decoration-color: #008000\">'value'</span>, <span style=\"color: #808000; text-decoration-color: #808000\">methods</span>=<span style=\"font-weight: bold\">[</span><span style=\"color: #008000; text-decoration-color: #008000\">'GET'</span>, <span style=\"color: #008000; text-decoration-color: #008000\">'HEAD'</span><span style=\"font-weight: bold\">])</span>,\n",
       "    <span style=\"color: #800080; text-decoration-color: #800080; font-weight: bold\">Route</span><span style=\"font-weight: bold\">(</span><span style=\"color: #808000; text-decoration-color: #808000\">path</span>=<span style=\"color: #008000; text-decoration-color: #008000\">'/inc'</span>, <span style=\"color: #808000; text-decoration-color: #808000\">name</span>=<span style=\"color: #008000; text-decoration-color: #008000\">'increment'</span>, <span style=\"color: #808000; text-decoration-color: #808000\">methods</span>=<span style=\"font-weight: bold\">[</span><span style=\"color: #008000; text-decoration-color: #008000\">'GET'</span>, <span style=\"color: #008000; text-decoration-color: #008000\">'HEAD'</span><span style=\"font-weight: bold\">])</span>\n",
       "<span style=\"font-weight: bold\">]</span>\n",
       "</pre>\n"
      ],
      "text/plain": [
       "\u001b[1m[\u001b[0m\n",
       "    \u001b[1;35mRoute\u001b[0m\u001b[1m(\u001b[0m\u001b[33mpath\u001b[0m=\u001b[32m'/value'\u001b[0m, \u001b[33mname\u001b[0m=\u001b[32m'value'\u001b[0m, \u001b[33mmethods\u001b[0m=\u001b[1m[\u001b[0m\u001b[32m'GET'\u001b[0m, \u001b[32m'HEAD'\u001b[0m\u001b[1m]\u001b[0m\u001b[1m)\u001b[0m,\n",
       "    \u001b[1;35mRoute\u001b[0m\u001b[1m(\u001b[0m\u001b[33mpath\u001b[0m=\u001b[32m'/inc'\u001b[0m, \u001b[33mname\u001b[0m=\u001b[32m'increment'\u001b[0m, \u001b[33mmethods\u001b[0m=\u001b[1m[\u001b[0m\u001b[32m'GET'\u001b[0m, \u001b[32m'HEAD'\u001b[0m\u001b[1m]\u001b[0m\u001b[1m)\u001b[0m\n",
       "\u001b[1m]\u001b[0m\n"
      ]
     },
     "metadata": {},
     "output_type": "display_data"
    }
   ],
   "source": [
    "class Counter(RouteProvider):\n",
    "    def __init__(self, value:int=0): self._value = value\n",
    "    \n",
    "    @ar('/value', name='value')\n",
    "    def get_value(self): \n",
    "        return self._value  # `0` is not a valid FastHTML response\n",
    "    \n",
    "    @ar('/inc')\n",
    "    def increment(self, x:int=1): \n",
    "        self._value += x\n",
    "        return self.get_value()\n",
    "\n",
    "\n",
    "app, cli, _ = get_app()\n",
    "\n",
    "counter = Counter()\n",
    "add_routes(app, counter)\n",
    "cprint(app.routes)\n",
    "\n",
    "test_eq(cli.get('/value').text, '')\n",
    "test_eq(cli.get('/inc').text, '1')"
   ]
  },
  {
   "cell_type": "markdown",
   "metadata": {},
   "source": [
    "Add routes to apps (notebook-level `app` above). Routes available under `{self.ar.prefix}/...` or `{self.ar.to()}/...`\n",
    "\n",
    "`add_routes` returns the `APIRouter` used to define the routes."
   ]
  },
  {
   "cell_type": "code",
   "execution_count": 60,
   "metadata": {
    "brd": {
     "id": "17ff51f8-b700-4a2f-b905-8b5416d86656"
    }
   },
   "outputs": [
    {
     "data": {
      "text/html": [
       "<pre style=\"white-space:pre;overflow-x:auto;line-height:normal;font-family:Menlo,'DejaVu Sans Mono',consolas,'Courier New',monospace\"><span style=\"font-weight: bold\">[</span>\n",
       "    <span style=\"color: #800080; text-decoration-color: #800080; font-weight: bold\">Route</span><span style=\"font-weight: bold\">(</span><span style=\"color: #808000; text-decoration-color: #808000\">path</span>=<span style=\"color: #008000; text-decoration-color: #008000\">'/value'</span>, <span style=\"color: #808000; text-decoration-color: #808000\">name</span>=<span style=\"color: #008000; text-decoration-color: #008000\">'value'</span>, <span style=\"color: #808000; text-decoration-color: #808000\">methods</span>=<span style=\"font-weight: bold\">[</span><span style=\"color: #008000; text-decoration-color: #008000\">'GET'</span>, <span style=\"color: #008000; text-decoration-color: #008000\">'HEAD'</span><span style=\"font-weight: bold\">])</span>,\n",
       "    <span style=\"color: #800080; text-decoration-color: #800080; font-weight: bold\">Route</span><span style=\"font-weight: bold\">(</span><span style=\"color: #808000; text-decoration-color: #808000\">path</span>=<span style=\"color: #008000; text-decoration-color: #008000\">'/inc'</span>, <span style=\"color: #808000; text-decoration-color: #808000\">name</span>=<span style=\"color: #008000; text-decoration-color: #008000\">'increment'</span>, <span style=\"color: #808000; text-decoration-color: #808000\">methods</span>=<span style=\"font-weight: bold\">[</span><span style=\"color: #008000; text-decoration-color: #008000\">'GET'</span>, <span style=\"color: #008000; text-decoration-color: #008000\">'HEAD'</span><span style=\"font-weight: bold\">])</span>\n",
       "<span style=\"font-weight: bold\">]</span>\n",
       "</pre>\n"
      ],
      "text/plain": [
       "\u001b[1m[\u001b[0m\n",
       "    \u001b[1;35mRoute\u001b[0m\u001b[1m(\u001b[0m\u001b[33mpath\u001b[0m=\u001b[32m'/value'\u001b[0m, \u001b[33mname\u001b[0m=\u001b[32m'value'\u001b[0m, \u001b[33mmethods\u001b[0m=\u001b[1m[\u001b[0m\u001b[32m'GET'\u001b[0m, \u001b[32m'HEAD'\u001b[0m\u001b[1m]\u001b[0m\u001b[1m)\u001b[0m,\n",
       "    \u001b[1;35mRoute\u001b[0m\u001b[1m(\u001b[0m\u001b[33mpath\u001b[0m=\u001b[32m'/inc'\u001b[0m, \u001b[33mname\u001b[0m=\u001b[32m'increment'\u001b[0m, \u001b[33mmethods\u001b[0m=\u001b[1m[\u001b[0m\u001b[32m'GET'\u001b[0m, \u001b[32m'HEAD'\u001b[0m\u001b[1m]\u001b[0m\u001b[1m)\u001b[0m\n",
       "\u001b[1m]\u001b[0m\n"
      ]
     },
     "metadata": {},
     "output_type": "display_data"
    }
   ],
   "source": [
    "counter2 = Counter(7)\n",
    "add_routes(app, counter2)\n",
    "cprint(app.routes)\n",
    "\n",
    "test_eq(cli.get('/value').text, '7')\n",
    "test_eq(cli.get(f\"{counter2.ar.to()}/value\").text, '7')"
   ]
  },
  {
   "cell_type": "markdown",
   "metadata": {},
   "source": [
    "Note, however, routes are bound to a given `Counter` instance. Existing routes will be overwritten if you add routes from another instance."
   ]
  },
  {
   "cell_type": "code",
   "execution_count": 61,
   "metadata": {
    "brd": {
     "id": "f120053f-199e-458b-9bfd-bd2baffb3c06"
    }
   },
   "outputs": [
    {
     "data": {
      "text/html": [
       "<pre style=\"white-space:pre;overflow-x:auto;line-height:normal;font-family:Menlo,'DejaVu Sans Mono',consolas,'Courier New',monospace\"><span style=\"font-weight: bold\">[</span>\n",
       "    <span style=\"color: #800080; text-decoration-color: #800080; font-weight: bold\">Route</span><span style=\"font-weight: bold\">(</span><span style=\"color: #808000; text-decoration-color: #808000\">path</span>=<span style=\"color: #008000; text-decoration-color: #008000\">'/value'</span>, <span style=\"color: #808000; text-decoration-color: #808000\">name</span>=<span style=\"color: #008000; text-decoration-color: #008000\">'value'</span>, <span style=\"color: #808000; text-decoration-color: #808000\">methods</span>=<span style=\"font-weight: bold\">[</span><span style=\"color: #008000; text-decoration-color: #008000\">'GET'</span>, <span style=\"color: #008000; text-decoration-color: #008000\">'HEAD'</span><span style=\"font-weight: bold\">])</span>,\n",
       "    <span style=\"color: #800080; text-decoration-color: #800080; font-weight: bold\">Route</span><span style=\"font-weight: bold\">(</span><span style=\"color: #808000; text-decoration-color: #808000\">path</span>=<span style=\"color: #008000; text-decoration-color: #008000\">'/inc'</span>, <span style=\"color: #808000; text-decoration-color: #808000\">name</span>=<span style=\"color: #008000; text-decoration-color: #008000\">'increment'</span>, <span style=\"color: #808000; text-decoration-color: #808000\">methods</span>=<span style=\"font-weight: bold\">[</span><span style=\"color: #008000; text-decoration-color: #008000\">'GET'</span>, <span style=\"color: #008000; text-decoration-color: #008000\">'HEAD'</span><span style=\"font-weight: bold\">])</span>,\n",
       "    <span style=\"color: #800080; text-decoration-color: #800080; font-weight: bold\">Mount</span><span style=\"font-weight: bold\">(</span><span style=\"color: #808000; text-decoration-color: #808000\">path</span>=<span style=\"color: #008000; text-decoration-color: #008000\">'/counter'</span>, <span style=\"color: #808000; text-decoration-color: #808000\">name</span>=<span style=\"color: #008000; text-decoration-color: #008000\">'counter'</span>, <span style=\"color: #808000; text-decoration-color: #808000\">app</span>=<span style=\"font-weight: bold\">&lt;</span><span style=\"color: #ff00ff; text-decoration-color: #ff00ff; font-weight: bold\">fasthtml.core.FastHTML</span><span style=\"color: #000000; text-decoration-color: #000000\"> object at </span><span style=\"color: #008080; text-decoration-color: #008080; font-weight: bold\">0x16a194a10</span><span style=\"font-weight: bold\">&gt;)</span>\n",
       "<span style=\"font-weight: bold\">]</span>\n",
       "</pre>\n"
      ],
      "text/plain": [
       "\u001b[1m[\u001b[0m\n",
       "    \u001b[1;35mRoute\u001b[0m\u001b[1m(\u001b[0m\u001b[33mpath\u001b[0m=\u001b[32m'/value'\u001b[0m, \u001b[33mname\u001b[0m=\u001b[32m'value'\u001b[0m, \u001b[33mmethods\u001b[0m=\u001b[1m[\u001b[0m\u001b[32m'GET'\u001b[0m, \u001b[32m'HEAD'\u001b[0m\u001b[1m]\u001b[0m\u001b[1m)\u001b[0m,\n",
       "    \u001b[1;35mRoute\u001b[0m\u001b[1m(\u001b[0m\u001b[33mpath\u001b[0m=\u001b[32m'/inc'\u001b[0m, \u001b[33mname\u001b[0m=\u001b[32m'increment'\u001b[0m, \u001b[33mmethods\u001b[0m=\u001b[1m[\u001b[0m\u001b[32m'GET'\u001b[0m, \u001b[32m'HEAD'\u001b[0m\u001b[1m]\u001b[0m\u001b[1m)\u001b[0m,\n",
       "    \u001b[1;35mMount\u001b[0m\u001b[1m(\u001b[0m\u001b[33mpath\u001b[0m=\u001b[32m'/counter'\u001b[0m, \u001b[33mname\u001b[0m=\u001b[32m'counter'\u001b[0m, \u001b[33mapp\u001b[0m=\u001b[1m<\u001b[0m\u001b[1;95mfasthtml.core.FastHTML\u001b[0m\u001b[39m object at \u001b[0m\u001b[1;36m0x16a194a10\u001b[0m\u001b[1m>\u001b[0m\u001b[1m)\u001b[0m\n",
       "\u001b[1m]\u001b[0m\n"
      ]
     },
     "metadata": {},
     "output_type": "display_data"
    },
    {
     "data": {
      "text/html": [
       "<pre style=\"white-space:pre;overflow-x:auto;line-height:normal;font-family:Menlo,'DejaVu Sans Mono',consolas,'Courier New',monospace\"><span style=\"font-weight: bold\">[</span>\n",
       "    <span style=\"color: #800080; text-decoration-color: #800080; font-weight: bold\">Route</span><span style=\"font-weight: bold\">(</span><span style=\"color: #808000; text-decoration-color: #808000\">path</span>=<span style=\"color: #008000; text-decoration-color: #008000\">'/value'</span>, <span style=\"color: #808000; text-decoration-color: #808000\">name</span>=<span style=\"color: #008000; text-decoration-color: #008000\">'value'</span>, <span style=\"color: #808000; text-decoration-color: #808000\">methods</span>=<span style=\"font-weight: bold\">[</span><span style=\"color: #008000; text-decoration-color: #008000\">'GET'</span>, <span style=\"color: #008000; text-decoration-color: #008000\">'HEAD'</span><span style=\"font-weight: bold\">])</span>,\n",
       "    <span style=\"color: #800080; text-decoration-color: #800080; font-weight: bold\">Route</span><span style=\"font-weight: bold\">(</span><span style=\"color: #808000; text-decoration-color: #808000\">path</span>=<span style=\"color: #008000; text-decoration-color: #008000\">'/inc'</span>, <span style=\"color: #808000; text-decoration-color: #808000\">name</span>=<span style=\"color: #008000; text-decoration-color: #008000\">'increment'</span>, <span style=\"color: #808000; text-decoration-color: #808000\">methods</span>=<span style=\"font-weight: bold\">[</span><span style=\"color: #008000; text-decoration-color: #008000\">'GET'</span>, <span style=\"color: #008000; text-decoration-color: #008000\">'HEAD'</span><span style=\"font-weight: bold\">])</span>\n",
       "<span style=\"font-weight: bold\">]</span>\n",
       "</pre>\n"
      ],
      "text/plain": [
       "\u001b[1m[\u001b[0m\n",
       "    \u001b[1;35mRoute\u001b[0m\u001b[1m(\u001b[0m\u001b[33mpath\u001b[0m=\u001b[32m'/value'\u001b[0m, \u001b[33mname\u001b[0m=\u001b[32m'value'\u001b[0m, \u001b[33mmethods\u001b[0m=\u001b[1m[\u001b[0m\u001b[32m'GET'\u001b[0m, \u001b[32m'HEAD'\u001b[0m\u001b[1m]\u001b[0m\u001b[1m)\u001b[0m,\n",
       "    \u001b[1;35mRoute\u001b[0m\u001b[1m(\u001b[0m\u001b[33mpath\u001b[0m=\u001b[32m'/inc'\u001b[0m, \u001b[33mname\u001b[0m=\u001b[32m'increment'\u001b[0m, \u001b[33mmethods\u001b[0m=\u001b[1m[\u001b[0m\u001b[32m'GET'\u001b[0m, \u001b[32m'HEAD'\u001b[0m\u001b[1m]\u001b[0m\u001b[1m)\u001b[0m\n",
       "\u001b[1m]\u001b[0m\n"
      ]
     },
     "metadata": {},
     "output_type": "display_data"
    }
   ],
   "source": [
    "counter3 = Counter(17)\n",
    "# car3 = add_routes(app, counter3, path='/counter', name='cnt')  # routes under /... and /counter/...\n",
    "car3 = add_routes(app, counter3, path='/counter')  # routes under /... and /counter/...\n",
    "cprint(app.routes)\n",
    "cprint(app.routes[-1].app.routes)  # type: ignore\n",
    "\n",
    "test_is(counter3.ar, car3)\n",
    "\n",
    "test_eq(cli.get('/inc').text, '8')\n",
    "\n",
    "test_eq(cli.get(car3.get_value.to()).text, '17')\n",
    "test_eq(cli.get('/counter/inc').text, '18')\n",
    "test_eq(app.url_path_for('value'), '/value')\n",
    "test_eq(app.url_path_for(car3.name('value')), '/counter/value')"
   ]
  },
  {
   "cell_type": "markdown",
   "metadata": {},
   "source": [
    "You can add instance routes under different `path` prefix.\n",
    "\n",
    "Note `add_routes` with `path` argument will auto generate a `name` for the route if not provided."
   ]
  },
  {
   "cell_type": "code",
   "execution_count": 62,
   "metadata": {
    "brd": {
     "id": "c2b44ffd-b22b-4c49-a279-ed2d3d7109b1"
    }
   },
   "outputs": [
    {
     "data": {
      "text/html": [
       "<pre style=\"white-space:pre;overflow-x:auto;line-height:normal;font-family:Menlo,'DejaVu Sans Mono',consolas,'Courier New',monospace\"><span style=\"font-weight: bold\">[</span>\n",
       "    <span style=\"color: #800080; text-decoration-color: #800080; font-weight: bold\">Route</span><span style=\"font-weight: bold\">(</span><span style=\"color: #808000; text-decoration-color: #808000\">path</span>=<span style=\"color: #008000; text-decoration-color: #008000\">'/value'</span>, <span style=\"color: #808000; text-decoration-color: #808000\">name</span>=<span style=\"color: #008000; text-decoration-color: #008000\">'value'</span>, <span style=\"color: #808000; text-decoration-color: #808000\">methods</span>=<span style=\"font-weight: bold\">[</span><span style=\"color: #008000; text-decoration-color: #008000\">'GET'</span>, <span style=\"color: #008000; text-decoration-color: #008000\">'HEAD'</span><span style=\"font-weight: bold\">])</span>,\n",
       "    <span style=\"color: #800080; text-decoration-color: #800080; font-weight: bold\">Route</span><span style=\"font-weight: bold\">(</span><span style=\"color: #808000; text-decoration-color: #808000\">path</span>=<span style=\"color: #008000; text-decoration-color: #008000\">'/inc'</span>, <span style=\"color: #808000; text-decoration-color: #808000\">name</span>=<span style=\"color: #008000; text-decoration-color: #008000\">'increment'</span>, <span style=\"color: #808000; text-decoration-color: #808000\">methods</span>=<span style=\"font-weight: bold\">[</span><span style=\"color: #008000; text-decoration-color: #008000\">'GET'</span>, <span style=\"color: #008000; text-decoration-color: #008000\">'HEAD'</span><span style=\"font-weight: bold\">])</span>,\n",
       "    <span style=\"color: #800080; text-decoration-color: #800080; font-weight: bold\">Mount</span><span style=\"font-weight: bold\">(</span><span style=\"color: #808000; text-decoration-color: #808000\">path</span>=<span style=\"color: #008000; text-decoration-color: #008000\">'/counter'</span>, <span style=\"color: #808000; text-decoration-color: #808000\">name</span>=<span style=\"color: #008000; text-decoration-color: #008000\">'cnt'</span>, <span style=\"color: #808000; text-decoration-color: #808000\">app</span>=<span style=\"font-weight: bold\">&lt;</span><span style=\"color: #ff00ff; text-decoration-color: #ff00ff; font-weight: bold\">fasthtml.core.FastHTML</span><span style=\"color: #000000; text-decoration-color: #000000\"> object at </span><span style=\"color: #008080; text-decoration-color: #008080; font-weight: bold\">0x16a1955e0</span><span style=\"font-weight: bold\">&gt;)</span>\n",
       "<span style=\"font-weight: bold\">]</span>\n",
       "</pre>\n"
      ],
      "text/plain": [
       "\u001b[1m[\u001b[0m\n",
       "    \u001b[1;35mRoute\u001b[0m\u001b[1m(\u001b[0m\u001b[33mpath\u001b[0m=\u001b[32m'/value'\u001b[0m, \u001b[33mname\u001b[0m=\u001b[32m'value'\u001b[0m, \u001b[33mmethods\u001b[0m=\u001b[1m[\u001b[0m\u001b[32m'GET'\u001b[0m, \u001b[32m'HEAD'\u001b[0m\u001b[1m]\u001b[0m\u001b[1m)\u001b[0m,\n",
       "    \u001b[1;35mRoute\u001b[0m\u001b[1m(\u001b[0m\u001b[33mpath\u001b[0m=\u001b[32m'/inc'\u001b[0m, \u001b[33mname\u001b[0m=\u001b[32m'increment'\u001b[0m, \u001b[33mmethods\u001b[0m=\u001b[1m[\u001b[0m\u001b[32m'GET'\u001b[0m, \u001b[32m'HEAD'\u001b[0m\u001b[1m]\u001b[0m\u001b[1m)\u001b[0m,\n",
       "    \u001b[1;35mMount\u001b[0m\u001b[1m(\u001b[0m\u001b[33mpath\u001b[0m=\u001b[32m'/counter'\u001b[0m, \u001b[33mname\u001b[0m=\u001b[32m'cnt'\u001b[0m, \u001b[33mapp\u001b[0m=\u001b[1m<\u001b[0m\u001b[1;95mfasthtml.core.FastHTML\u001b[0m\u001b[39m object at \u001b[0m\u001b[1;36m0x16a1955e0\u001b[0m\u001b[1m>\u001b[0m\u001b[1m)\u001b[0m\n",
       "\u001b[1m]\u001b[0m\n"
      ]
     },
     "metadata": {},
     "output_type": "display_data"
    },
    {
     "data": {
      "text/html": [
       "<pre style=\"white-space:pre;overflow-x:auto;line-height:normal;font-family:Menlo,'DejaVu Sans Mono',consolas,'Courier New',monospace\"><span style=\"font-weight: bold\">[</span>\n",
       "    <span style=\"color: #800080; text-decoration-color: #800080; font-weight: bold\">Route</span><span style=\"font-weight: bold\">(</span><span style=\"color: #808000; text-decoration-color: #808000\">path</span>=<span style=\"color: #008000; text-decoration-color: #008000\">'/value'</span>, <span style=\"color: #808000; text-decoration-color: #808000\">name</span>=<span style=\"color: #008000; text-decoration-color: #008000\">'value'</span>, <span style=\"color: #808000; text-decoration-color: #808000\">methods</span>=<span style=\"font-weight: bold\">[</span><span style=\"color: #008000; text-decoration-color: #008000\">'GET'</span>, <span style=\"color: #008000; text-decoration-color: #008000\">'HEAD'</span><span style=\"font-weight: bold\">])</span>,\n",
       "    <span style=\"color: #800080; text-decoration-color: #800080; font-weight: bold\">Route</span><span style=\"font-weight: bold\">(</span><span style=\"color: #808000; text-decoration-color: #808000\">path</span>=<span style=\"color: #008000; text-decoration-color: #008000\">'/inc'</span>, <span style=\"color: #808000; text-decoration-color: #808000\">name</span>=<span style=\"color: #008000; text-decoration-color: #008000\">'increment'</span>, <span style=\"color: #808000; text-decoration-color: #808000\">methods</span>=<span style=\"font-weight: bold\">[</span><span style=\"color: #008000; text-decoration-color: #008000\">'GET'</span>, <span style=\"color: #008000; text-decoration-color: #008000\">'HEAD'</span><span style=\"font-weight: bold\">])</span>\n",
       "<span style=\"font-weight: bold\">]</span>\n",
       "</pre>\n"
      ],
      "text/plain": [
       "\u001b[1m[\u001b[0m\n",
       "    \u001b[1;35mRoute\u001b[0m\u001b[1m(\u001b[0m\u001b[33mpath\u001b[0m=\u001b[32m'/value'\u001b[0m, \u001b[33mname\u001b[0m=\u001b[32m'value'\u001b[0m, \u001b[33mmethods\u001b[0m=\u001b[1m[\u001b[0m\u001b[32m'GET'\u001b[0m, \u001b[32m'HEAD'\u001b[0m\u001b[1m]\u001b[0m\u001b[1m)\u001b[0m,\n",
       "    \u001b[1;35mRoute\u001b[0m\u001b[1m(\u001b[0m\u001b[33mpath\u001b[0m=\u001b[32m'/inc'\u001b[0m, \u001b[33mname\u001b[0m=\u001b[32m'increment'\u001b[0m, \u001b[33mmethods\u001b[0m=\u001b[1m[\u001b[0m\u001b[32m'GET'\u001b[0m, \u001b[32m'HEAD'\u001b[0m\u001b[1m]\u001b[0m\u001b[1m)\u001b[0m\n",
       "\u001b[1m]\u001b[0m\n"
      ]
     },
     "metadata": {},
     "output_type": "display_data"
    }
   ],
   "source": [
    "counter32 = Counter(177)\n",
    "car32= add_routes(app, counter32, path='/counter', name='cnt')  # routes under /... and /counter/...\n",
    "cprint(app.routes)\n",
    "cprint(app.routes[-1].app.routes)  # type: ignore\n",
    "\n",
    "test_eq(cli.get(car32.get_value.to()).text, '177')\n",
    "test_eq(cli.get('/counter/inc').text, '178')\n",
    "test_eq(app.url_path_for('value'), '/value')\n",
    "test_eq(app.url_path_for(car32.name('value')), '/counter/value')"
   ]
  },
  {
   "cell_type": "markdown",
   "metadata": {},
   "source": [
    "Use `mount` to submount APIRouters under class name (or `add_routes(..., mount=True, ...)`)."
   ]
  },
  {
   "cell_type": "code",
   "execution_count": 63,
   "metadata": {
    "brd": {
     "id": "5fd9ea19-58ba-440d-b224-0b6993e9d992"
    }
   },
   "outputs": [
    {
     "data": {
      "text/html": [
       "<pre style=\"white-space:pre;overflow-x:auto;line-height:normal;font-family:Menlo,'DejaVu Sans Mono',consolas,'Courier New',monospace\"><span style=\"font-weight: bold\">[</span>\n",
       "    <span style=\"color: #800080; text-decoration-color: #800080; font-weight: bold\">Route</span><span style=\"font-weight: bold\">(</span><span style=\"color: #808000; text-decoration-color: #808000\">path</span>=<span style=\"color: #008000; text-decoration-color: #008000\">'/value'</span>, <span style=\"color: #808000; text-decoration-color: #808000\">name</span>=<span style=\"color: #008000; text-decoration-color: #008000\">'value'</span>, <span style=\"color: #808000; text-decoration-color: #808000\">methods</span>=<span style=\"font-weight: bold\">[</span><span style=\"color: #008000; text-decoration-color: #008000\">'GET'</span>, <span style=\"color: #008000; text-decoration-color: #008000\">'HEAD'</span><span style=\"font-weight: bold\">])</span>,\n",
       "    <span style=\"color: #800080; text-decoration-color: #800080; font-weight: bold\">Route</span><span style=\"font-weight: bold\">(</span><span style=\"color: #808000; text-decoration-color: #808000\">path</span>=<span style=\"color: #008000; text-decoration-color: #008000\">'/inc'</span>, <span style=\"color: #808000; text-decoration-color: #808000\">name</span>=<span style=\"color: #008000; text-decoration-color: #008000\">'increment'</span>, <span style=\"color: #808000; text-decoration-color: #808000\">methods</span>=<span style=\"font-weight: bold\">[</span><span style=\"color: #008000; text-decoration-color: #008000\">'GET'</span>, <span style=\"color: #008000; text-decoration-color: #008000\">'HEAD'</span><span style=\"font-weight: bold\">])</span>,\n",
       "    <span style=\"color: #800080; text-decoration-color: #800080; font-weight: bold\">Mount</span><span style=\"font-weight: bold\">(</span><span style=\"color: #808000; text-decoration-color: #808000\">path</span>=<span style=\"color: #008000; text-decoration-color: #008000\">'/counter'</span>, <span style=\"color: #808000; text-decoration-color: #808000\">name</span>=<span style=\"color: #008000; text-decoration-color: #008000\">'cnt'</span>, <span style=\"color: #808000; text-decoration-color: #808000\">app</span>=<span style=\"font-weight: bold\">&lt;</span><span style=\"color: #ff00ff; text-decoration-color: #ff00ff; font-weight: bold\">fasthtml.core.FastHTML</span><span style=\"color: #000000; text-decoration-color: #000000\"> object at </span><span style=\"color: #008080; text-decoration-color: #008080; font-weight: bold\">0x16a1955e0</span><span style=\"color: #000000; text-decoration-color: #000000\">&gt;</span><span style=\"color: #000000; text-decoration-color: #000000; font-weight: bold\">)</span><span style=\"color: #000000; text-decoration-color: #000000\">,</span>\n",
       "<span style=\"color: #000000; text-decoration-color: #000000\">    </span><span style=\"color: #800080; text-decoration-color: #800080; font-weight: bold\">Mount</span><span style=\"color: #000000; text-decoration-color: #000000; font-weight: bold\">(</span><span style=\"color: #808000; text-decoration-color: #808000\">path</span><span style=\"color: #000000; text-decoration-color: #000000\">=</span><span style=\"color: #008000; text-decoration-color: #008000\">'/Counter'</span><span style=\"color: #000000; text-decoration-color: #000000\">, </span><span style=\"color: #808000; text-decoration-color: #808000\">name</span><span style=\"color: #000000; text-decoration-color: #000000\">=</span><span style=\"color: #008000; text-decoration-color: #008000\">'Counter'</span><span style=\"color: #000000; text-decoration-color: #000000\">, </span><span style=\"color: #808000; text-decoration-color: #808000\">app</span><span style=\"color: #000000; text-decoration-color: #000000\">=&lt;fasthtml.core.FastHTML object at </span><span style=\"color: #008080; text-decoration-color: #008080; font-weight: bold\">0x16a1843b0</span><span style=\"font-weight: bold\">&gt;)</span>\n",
       "<span style=\"font-weight: bold\">]</span>\n",
       "</pre>\n"
      ],
      "text/plain": [
       "\u001b[1m[\u001b[0m\n",
       "    \u001b[1;35mRoute\u001b[0m\u001b[1m(\u001b[0m\u001b[33mpath\u001b[0m=\u001b[32m'/value'\u001b[0m, \u001b[33mname\u001b[0m=\u001b[32m'value'\u001b[0m, \u001b[33mmethods\u001b[0m=\u001b[1m[\u001b[0m\u001b[32m'GET'\u001b[0m, \u001b[32m'HEAD'\u001b[0m\u001b[1m]\u001b[0m\u001b[1m)\u001b[0m,\n",
       "    \u001b[1;35mRoute\u001b[0m\u001b[1m(\u001b[0m\u001b[33mpath\u001b[0m=\u001b[32m'/inc'\u001b[0m, \u001b[33mname\u001b[0m=\u001b[32m'increment'\u001b[0m, \u001b[33mmethods\u001b[0m=\u001b[1m[\u001b[0m\u001b[32m'GET'\u001b[0m, \u001b[32m'HEAD'\u001b[0m\u001b[1m]\u001b[0m\u001b[1m)\u001b[0m,\n",
       "    \u001b[1;35mMount\u001b[0m\u001b[1m(\u001b[0m\u001b[33mpath\u001b[0m=\u001b[32m'/counter'\u001b[0m, \u001b[33mname\u001b[0m=\u001b[32m'cnt'\u001b[0m, \u001b[33mapp\u001b[0m=\u001b[1m<\u001b[0m\u001b[1;95mfasthtml.core.FastHTML\u001b[0m\u001b[39m object at \u001b[0m\u001b[1;36m0x16a1955e0\u001b[0m\u001b[39m>\u001b[0m\u001b[1;39m)\u001b[0m\u001b[39m,\u001b[0m\n",
       "\u001b[39m    \u001b[0m\u001b[1;35mMount\u001b[0m\u001b[1;39m(\u001b[0m\u001b[33mpath\u001b[0m\u001b[39m=\u001b[0m\u001b[32m'/Counter'\u001b[0m\u001b[39m, \u001b[0m\u001b[33mname\u001b[0m\u001b[39m=\u001b[0m\u001b[32m'Counter'\u001b[0m\u001b[39m, \u001b[0m\u001b[33mapp\u001b[0m\u001b[39m=<fasthtml.core.FastHTML object at \u001b[0m\u001b[1;36m0x16a1843b0\u001b[0m\u001b[1m>\u001b[0m\u001b[1m)\u001b[0m\n",
       "\u001b[1m]\u001b[0m\n"
      ]
     },
     "metadata": {},
     "output_type": "display_data"
    },
    {
     "data": {
      "text/html": [
       "<pre style=\"white-space:pre;overflow-x:auto;line-height:normal;font-family:Menlo,'DejaVu Sans Mono',consolas,'Courier New',monospace\"><span style=\"font-weight: bold\">[</span><span style=\"color: #800080; text-decoration-color: #800080; font-weight: bold\">Mount</span><span style=\"font-weight: bold\">(</span><span style=\"color: #808000; text-decoration-color: #808000\">path</span>=<span style=\"color: #008000; text-decoration-color: #008000\">'/counter'</span>, <span style=\"color: #808000; text-decoration-color: #808000\">name</span>=<span style=\"color: #008000; text-decoration-color: #008000\">'counter'</span>, <span style=\"color: #808000; text-decoration-color: #808000\">app</span>=<span style=\"font-weight: bold\">&lt;</span><span style=\"color: #ff00ff; text-decoration-color: #ff00ff; font-weight: bold\">fasthtml.core.FastHTML</span><span style=\"color: #000000; text-decoration-color: #000000\"> object at </span><span style=\"color: #008080; text-decoration-color: #008080; font-weight: bold\">0x16a184260</span><span style=\"font-weight: bold\">&gt;)]</span>\n",
       "</pre>\n"
      ],
      "text/plain": [
       "\u001b[1m[\u001b[0m\u001b[1;35mMount\u001b[0m\u001b[1m(\u001b[0m\u001b[33mpath\u001b[0m=\u001b[32m'/counter'\u001b[0m, \u001b[33mname\u001b[0m=\u001b[32m'counter'\u001b[0m, \u001b[33mapp\u001b[0m=\u001b[1m<\u001b[0m\u001b[1;95mfasthtml.core.FastHTML\u001b[0m\u001b[39m object at \u001b[0m\u001b[1;36m0x16a184260\u001b[0m\u001b[1m>\u001b[0m\u001b[1m)\u001b[0m\u001b[1m]\u001b[0m\n"
      ]
     },
     "metadata": {},
     "output_type": "display_data"
    },
    {
     "data": {
      "text/html": [
       "<pre style=\"white-space:pre;overflow-x:auto;line-height:normal;font-family:Menlo,'DejaVu Sans Mono',consolas,'Courier New',monospace\"><span style=\"font-weight: bold\">[</span>\n",
       "    <span style=\"color: #800080; text-decoration-color: #800080; font-weight: bold\">Route</span><span style=\"font-weight: bold\">(</span><span style=\"color: #808000; text-decoration-color: #808000\">path</span>=<span style=\"color: #008000; text-decoration-color: #008000\">'/value'</span>, <span style=\"color: #808000; text-decoration-color: #808000\">name</span>=<span style=\"color: #008000; text-decoration-color: #008000\">'value'</span>, <span style=\"color: #808000; text-decoration-color: #808000\">methods</span>=<span style=\"font-weight: bold\">[</span><span style=\"color: #008000; text-decoration-color: #008000\">'GET'</span>, <span style=\"color: #008000; text-decoration-color: #008000\">'HEAD'</span><span style=\"font-weight: bold\">])</span>,\n",
       "    <span style=\"color: #800080; text-decoration-color: #800080; font-weight: bold\">Route</span><span style=\"font-weight: bold\">(</span><span style=\"color: #808000; text-decoration-color: #808000\">path</span>=<span style=\"color: #008000; text-decoration-color: #008000\">'/inc'</span>, <span style=\"color: #808000; text-decoration-color: #808000\">name</span>=<span style=\"color: #008000; text-decoration-color: #008000\">'increment'</span>, <span style=\"color: #808000; text-decoration-color: #808000\">methods</span>=<span style=\"font-weight: bold\">[</span><span style=\"color: #008000; text-decoration-color: #008000\">'GET'</span>, <span style=\"color: #008000; text-decoration-color: #008000\">'HEAD'</span><span style=\"font-weight: bold\">])</span>\n",
       "<span style=\"font-weight: bold\">]</span>\n",
       "</pre>\n"
      ],
      "text/plain": [
       "\u001b[1m[\u001b[0m\n",
       "    \u001b[1;35mRoute\u001b[0m\u001b[1m(\u001b[0m\u001b[33mpath\u001b[0m=\u001b[32m'/value'\u001b[0m, \u001b[33mname\u001b[0m=\u001b[32m'value'\u001b[0m, \u001b[33mmethods\u001b[0m=\u001b[1m[\u001b[0m\u001b[32m'GET'\u001b[0m, \u001b[32m'HEAD'\u001b[0m\u001b[1m]\u001b[0m\u001b[1m)\u001b[0m,\n",
       "    \u001b[1;35mRoute\u001b[0m\u001b[1m(\u001b[0m\u001b[33mpath\u001b[0m=\u001b[32m'/inc'\u001b[0m, \u001b[33mname\u001b[0m=\u001b[32m'increment'\u001b[0m, \u001b[33mmethods\u001b[0m=\u001b[1m[\u001b[0m\u001b[32m'GET'\u001b[0m, \u001b[32m'HEAD'\u001b[0m\u001b[1m]\u001b[0m\u001b[1m)\u001b[0m\n",
       "\u001b[1m]\u001b[0m\n"
      ]
     },
     "metadata": {},
     "output_type": "display_data"
    }
   ],
   "source": [
    "counter4 = Counter(23)\n",
    "car4 = mount(app, counter4, '/counter', 'counter')  # routes under /..., /counter/..., and /Counter/counter/...\n",
    "cprint(app.routes)\n",
    "cprint(app.routes[-1].app.routes)  # type: ignore\n",
    "cprint(app.routes[-1].app.routes[-1].routes)  # type: ignore\n",
    "\n",
    "test_eq(cli.get('/inc').text, '9')\n",
    "test_eq(cli.get('/counter/inc').text, '179')\n",
    "\n",
    "test_eq(cli.get('/Counter/counter/value').text, '23')\n",
    "test_eq(cli.get('/Counter/counter/inc').text, '24')\n",
    "test_eq(cli.get(car4.get_value.to()).text, '24')\n",
    "test_eq(cli.get(f\"{car4.to()}/value\").text, '24')\n",
    "test_eq(car4.name('increment'), 'Counter:counter:increment')"
   ]
  },
  {
   "cell_type": "markdown",
   "metadata": {},
   "source": [
    "Mount with explicit path.  \n",
    "An APIRouterC from an instance, discloses its mounted name with `self.ar.name()`."
   ]
  },
  {
   "cell_type": "code",
   "execution_count": 64,
   "metadata": {
    "brd": {
     "id": "5d00e768-dd57-4f86-a63d-3f7e088eb7e0"
    }
   },
   "outputs": [
    {
     "data": {
      "text/html": [
       "<pre style=\"white-space:pre;overflow-x:auto;line-height:normal;font-family:Menlo,'DejaVu Sans Mono',consolas,'Courier New',monospace\"><span style=\"font-weight: bold\">[</span>\n",
       "    <span style=\"color: #800080; text-decoration-color: #800080; font-weight: bold\">Route</span><span style=\"font-weight: bold\">(</span><span style=\"color: #808000; text-decoration-color: #808000\">path</span>=<span style=\"color: #008000; text-decoration-color: #008000\">'/value'</span>, <span style=\"color: #808000; text-decoration-color: #808000\">name</span>=<span style=\"color: #008000; text-decoration-color: #008000\">'value'</span>, <span style=\"color: #808000; text-decoration-color: #808000\">methods</span>=<span style=\"font-weight: bold\">[</span><span style=\"color: #008000; text-decoration-color: #008000\">'GET'</span>, <span style=\"color: #008000; text-decoration-color: #008000\">'HEAD'</span><span style=\"font-weight: bold\">])</span>,\n",
       "    <span style=\"color: #800080; text-decoration-color: #800080; font-weight: bold\">Route</span><span style=\"font-weight: bold\">(</span><span style=\"color: #808000; text-decoration-color: #808000\">path</span>=<span style=\"color: #008000; text-decoration-color: #008000\">'/inc'</span>, <span style=\"color: #808000; text-decoration-color: #808000\">name</span>=<span style=\"color: #008000; text-decoration-color: #008000\">'increment'</span>, <span style=\"color: #808000; text-decoration-color: #808000\">methods</span>=<span style=\"font-weight: bold\">[</span><span style=\"color: #008000; text-decoration-color: #008000\">'GET'</span>, <span style=\"color: #008000; text-decoration-color: #008000\">'HEAD'</span><span style=\"font-weight: bold\">])</span>,\n",
       "    <span style=\"color: #800080; text-decoration-color: #800080; font-weight: bold\">Mount</span><span style=\"font-weight: bold\">(</span><span style=\"color: #808000; text-decoration-color: #808000\">path</span>=<span style=\"color: #008000; text-decoration-color: #008000\">'/counter'</span>, <span style=\"color: #808000; text-decoration-color: #808000\">name</span>=<span style=\"color: #008000; text-decoration-color: #008000\">'cnt'</span>, <span style=\"color: #808000; text-decoration-color: #808000\">app</span>=<span style=\"font-weight: bold\">&lt;</span><span style=\"color: #ff00ff; text-decoration-color: #ff00ff; font-weight: bold\">fasthtml.core.FastHTML</span><span style=\"color: #000000; text-decoration-color: #000000\"> object at </span><span style=\"color: #008080; text-decoration-color: #008080; font-weight: bold\">0x16a1955e0</span><span style=\"color: #000000; text-decoration-color: #000000\">&gt;</span><span style=\"color: #000000; text-decoration-color: #000000; font-weight: bold\">)</span><span style=\"color: #000000; text-decoration-color: #000000\">,</span>\n",
       "<span style=\"color: #000000; text-decoration-color: #000000\">    </span><span style=\"color: #800080; text-decoration-color: #800080; font-weight: bold\">Mount</span><span style=\"color: #000000; text-decoration-color: #000000; font-weight: bold\">(</span><span style=\"color: #808000; text-decoration-color: #808000\">path</span><span style=\"color: #000000; text-decoration-color: #000000\">=</span><span style=\"color: #008000; text-decoration-color: #008000\">'/Counter'</span><span style=\"color: #000000; text-decoration-color: #000000\">, </span><span style=\"color: #808000; text-decoration-color: #808000\">name</span><span style=\"color: #000000; text-decoration-color: #000000\">=</span><span style=\"color: #008000; text-decoration-color: #008000\">'Counter'</span><span style=\"color: #000000; text-decoration-color: #000000\">, </span><span style=\"color: #808000; text-decoration-color: #808000\">app</span><span style=\"color: #000000; text-decoration-color: #000000\">=&lt;fasthtml.core.FastHTML object at </span><span style=\"color: #008080; text-decoration-color: #008080; font-weight: bold\">0x16a1843b0</span><span style=\"font-weight: bold\">&gt;)</span>\n",
       "<span style=\"font-weight: bold\">]</span>\n",
       "</pre>\n"
      ],
      "text/plain": [
       "\u001b[1m[\u001b[0m\n",
       "    \u001b[1;35mRoute\u001b[0m\u001b[1m(\u001b[0m\u001b[33mpath\u001b[0m=\u001b[32m'/value'\u001b[0m, \u001b[33mname\u001b[0m=\u001b[32m'value'\u001b[0m, \u001b[33mmethods\u001b[0m=\u001b[1m[\u001b[0m\u001b[32m'GET'\u001b[0m, \u001b[32m'HEAD'\u001b[0m\u001b[1m]\u001b[0m\u001b[1m)\u001b[0m,\n",
       "    \u001b[1;35mRoute\u001b[0m\u001b[1m(\u001b[0m\u001b[33mpath\u001b[0m=\u001b[32m'/inc'\u001b[0m, \u001b[33mname\u001b[0m=\u001b[32m'increment'\u001b[0m, \u001b[33mmethods\u001b[0m=\u001b[1m[\u001b[0m\u001b[32m'GET'\u001b[0m, \u001b[32m'HEAD'\u001b[0m\u001b[1m]\u001b[0m\u001b[1m)\u001b[0m,\n",
       "    \u001b[1;35mMount\u001b[0m\u001b[1m(\u001b[0m\u001b[33mpath\u001b[0m=\u001b[32m'/counter'\u001b[0m, \u001b[33mname\u001b[0m=\u001b[32m'cnt'\u001b[0m, \u001b[33mapp\u001b[0m=\u001b[1m<\u001b[0m\u001b[1;95mfasthtml.core.FastHTML\u001b[0m\u001b[39m object at \u001b[0m\u001b[1;36m0x16a1955e0\u001b[0m\u001b[39m>\u001b[0m\u001b[1;39m)\u001b[0m\u001b[39m,\u001b[0m\n",
       "\u001b[39m    \u001b[0m\u001b[1;35mMount\u001b[0m\u001b[1;39m(\u001b[0m\u001b[33mpath\u001b[0m\u001b[39m=\u001b[0m\u001b[32m'/Counter'\u001b[0m\u001b[39m, \u001b[0m\u001b[33mname\u001b[0m\u001b[39m=\u001b[0m\u001b[32m'Counter'\u001b[0m\u001b[39m, \u001b[0m\u001b[33mapp\u001b[0m\u001b[39m=<fasthtml.core.FastHTML object at \u001b[0m\u001b[1;36m0x16a1843b0\u001b[0m\u001b[1m>\u001b[0m\u001b[1m)\u001b[0m\n",
       "\u001b[1m]\u001b[0m\n"
      ]
     },
     "metadata": {},
     "output_type": "display_data"
    },
    {
     "data": {
      "text/html": [
       "<pre style=\"white-space:pre;overflow-x:auto;line-height:normal;font-family:Menlo,'DejaVu Sans Mono',consolas,'Courier New',monospace\"><span style=\"font-weight: bold\">[</span>\n",
       "    <span style=\"color: #800080; text-decoration-color: #800080; font-weight: bold\">Mount</span><span style=\"font-weight: bold\">(</span><span style=\"color: #808000; text-decoration-color: #808000\">path</span>=<span style=\"color: #008000; text-decoration-color: #008000\">'/counter'</span>, <span style=\"color: #808000; text-decoration-color: #808000\">name</span>=<span style=\"color: #008000; text-decoration-color: #008000\">'counter'</span>, <span style=\"color: #808000; text-decoration-color: #808000\">app</span>=<span style=\"font-weight: bold\">&lt;</span><span style=\"color: #ff00ff; text-decoration-color: #ff00ff; font-weight: bold\">fasthtml.core.FastHTML</span><span style=\"color: #000000; text-decoration-color: #000000\"> object at </span><span style=\"color: #008080; text-decoration-color: #008080; font-weight: bold\">0x16a184260</span><span style=\"color: #000000; text-decoration-color: #000000\">&gt;</span><span style=\"color: #000000; text-decoration-color: #000000; font-weight: bold\">)</span><span style=\"color: #000000; text-decoration-color: #000000\">,</span>\n",
       "<span style=\"color: #000000; text-decoration-color: #000000\">    </span><span style=\"color: #800080; text-decoration-color: #800080; font-weight: bold\">Mount</span><span style=\"color: #000000; text-decoration-color: #000000; font-weight: bold\">(</span><span style=\"color: #808000; text-decoration-color: #808000\">path</span><span style=\"color: #000000; text-decoration-color: #000000\">=</span><span style=\"color: #008000; text-decoration-color: #008000\">'/Counter_1-1757324439'</span><span style=\"color: #000000; text-decoration-color: #000000\">, </span><span style=\"color: #808000; text-decoration-color: #808000\">name</span><span style=\"color: #000000; text-decoration-color: #000000\">=</span><span style=\"color: #008000; text-decoration-color: #008000\">'Counter_1-1757324439'</span><span style=\"color: #000000; text-decoration-color: #000000\">, </span><span style=\"color: #808000; text-decoration-color: #808000\">app</span><span style=\"color: #000000; text-decoration-color: #000000\">=&lt;fasthtml.core.FastHTML object at </span><span style=\"color: #008080; text-decoration-color: #008080; font-weight: bold\">0x16a1549e0</span><span style=\"font-weight: bold\">&gt;)</span>\n",
       "<span style=\"font-weight: bold\">]</span>\n",
       "</pre>\n"
      ],
      "text/plain": [
       "\u001b[1m[\u001b[0m\n",
       "    \u001b[1;35mMount\u001b[0m\u001b[1m(\u001b[0m\u001b[33mpath\u001b[0m=\u001b[32m'/counter'\u001b[0m, \u001b[33mname\u001b[0m=\u001b[32m'counter'\u001b[0m, \u001b[33mapp\u001b[0m=\u001b[1m<\u001b[0m\u001b[1;95mfasthtml.core.FastHTML\u001b[0m\u001b[39m object at \u001b[0m\u001b[1;36m0x16a184260\u001b[0m\u001b[39m>\u001b[0m\u001b[1;39m)\u001b[0m\u001b[39m,\u001b[0m\n",
       "\u001b[39m    \u001b[0m\u001b[1;35mMount\u001b[0m\u001b[1;39m(\u001b[0m\u001b[33mpath\u001b[0m\u001b[39m=\u001b[0m\u001b[32m'/Counter_1-1757324439'\u001b[0m\u001b[39m, \u001b[0m\u001b[33mname\u001b[0m\u001b[39m=\u001b[0m\u001b[32m'Counter_1-1757324439'\u001b[0m\u001b[39m, \u001b[0m\u001b[33mapp\u001b[0m\u001b[39m=<fasthtml.core.FastHTML object at \u001b[0m\u001b[1;36m0x16a1549e0\u001b[0m\u001b[1m>\u001b[0m\u001b[1m)\u001b[0m\n",
       "\u001b[1m]\u001b[0m\n"
      ]
     },
     "metadata": {},
     "output_type": "display_data"
    },
    {
     "data": {
      "text/html": [
       "<pre style=\"white-space:pre;overflow-x:auto;line-height:normal;font-family:Menlo,'DejaVu Sans Mono',consolas,'Courier New',monospace\"><span style=\"font-weight: bold\">[</span>\n",
       "    <span style=\"color: #800080; text-decoration-color: #800080; font-weight: bold\">Route</span><span style=\"font-weight: bold\">(</span><span style=\"color: #808000; text-decoration-color: #808000\">path</span>=<span style=\"color: #008000; text-decoration-color: #008000\">'/value'</span>, <span style=\"color: #808000; text-decoration-color: #808000\">name</span>=<span style=\"color: #008000; text-decoration-color: #008000\">'value'</span>, <span style=\"color: #808000; text-decoration-color: #808000\">methods</span>=<span style=\"font-weight: bold\">[</span><span style=\"color: #008000; text-decoration-color: #008000\">'GET'</span>, <span style=\"color: #008000; text-decoration-color: #008000\">'HEAD'</span><span style=\"font-weight: bold\">])</span>,\n",
       "    <span style=\"color: #800080; text-decoration-color: #800080; font-weight: bold\">Route</span><span style=\"font-weight: bold\">(</span><span style=\"color: #808000; text-decoration-color: #808000\">path</span>=<span style=\"color: #008000; text-decoration-color: #008000\">'/inc'</span>, <span style=\"color: #808000; text-decoration-color: #808000\">name</span>=<span style=\"color: #008000; text-decoration-color: #008000\">'increment'</span>, <span style=\"color: #808000; text-decoration-color: #808000\">methods</span>=<span style=\"font-weight: bold\">[</span><span style=\"color: #008000; text-decoration-color: #008000\">'GET'</span>, <span style=\"color: #008000; text-decoration-color: #008000\">'HEAD'</span><span style=\"font-weight: bold\">])</span>\n",
       "<span style=\"font-weight: bold\">]</span>\n",
       "</pre>\n"
      ],
      "text/plain": [
       "\u001b[1m[\u001b[0m\n",
       "    \u001b[1;35mRoute\u001b[0m\u001b[1m(\u001b[0m\u001b[33mpath\u001b[0m=\u001b[32m'/value'\u001b[0m, \u001b[33mname\u001b[0m=\u001b[32m'value'\u001b[0m, \u001b[33mmethods\u001b[0m=\u001b[1m[\u001b[0m\u001b[32m'GET'\u001b[0m, \u001b[32m'HEAD'\u001b[0m\u001b[1m]\u001b[0m\u001b[1m)\u001b[0m,\n",
       "    \u001b[1;35mRoute\u001b[0m\u001b[1m(\u001b[0m\u001b[33mpath\u001b[0m=\u001b[32m'/inc'\u001b[0m, \u001b[33mname\u001b[0m=\u001b[32m'increment'\u001b[0m, \u001b[33mmethods\u001b[0m=\u001b[1m[\u001b[0m\u001b[32m'GET'\u001b[0m, \u001b[32m'HEAD'\u001b[0m\u001b[1m]\u001b[0m\u001b[1m)\u001b[0m\n",
       "\u001b[1m]\u001b[0m\n"
      ]
     },
     "metadata": {},
     "output_type": "display_data"
    }
   ],
   "source": [
    "counter5 = Counter(-7)\n",
    "car5 = mount(app, counter5)  # routes under /counter/..., and root.\n",
    "cprint(app.routes)\n",
    "cprint(app.routes[-1].app.routes)  # type: ignore\n",
    "cprint(app.routes[-1].app.routes[-1].routes)  # type: ignore\n",
    "\n",
    "test_eq(cli.get(f\"{car5.to()}/value\").text, '-7')\n",
    "test_eq(cli.get(f\"{car5.increment.to()}\").text, '-6')\n",
    "test_eq(cli.get(car5.to('increment')).text, '-5')"
   ]
  },
  {
   "cell_type": "markdown",
   "metadata": {},
   "source": [
    "Mount routes with automatic path generation."
   ]
  },
  {
   "cell_type": "code",
   "execution_count": 65,
   "metadata": {
    "brd": {
     "id": "c7f363c7-20f8-4d9b-9592-69c1e9f5124f"
    }
   },
   "outputs": [
    {
     "data": {
      "text/html": [
       "<pre style=\"white-space:pre;overflow-x:auto;line-height:normal;font-family:Menlo,'DejaVu Sans Mono',consolas,'Courier New',monospace\"><span style=\"font-weight: bold\">[</span>\n",
       "    <span style=\"color: #800080; text-decoration-color: #800080; font-weight: bold\">Route</span><span style=\"font-weight: bold\">(</span><span style=\"color: #808000; text-decoration-color: #808000\">path</span>=<span style=\"color: #008000; text-decoration-color: #008000\">'/value'</span>, <span style=\"color: #808000; text-decoration-color: #808000\">name</span>=<span style=\"color: #008000; text-decoration-color: #008000\">'value'</span>, <span style=\"color: #808000; text-decoration-color: #808000\">methods</span>=<span style=\"font-weight: bold\">[</span><span style=\"color: #008000; text-decoration-color: #008000\">'GET'</span>, <span style=\"color: #008000; text-decoration-color: #008000\">'HEAD'</span><span style=\"font-weight: bold\">])</span>,\n",
       "    <span style=\"color: #800080; text-decoration-color: #800080; font-weight: bold\">Route</span><span style=\"font-weight: bold\">(</span><span style=\"color: #808000; text-decoration-color: #808000\">path</span>=<span style=\"color: #008000; text-decoration-color: #008000\">'/inc'</span>, <span style=\"color: #808000; text-decoration-color: #808000\">name</span>=<span style=\"color: #008000; text-decoration-color: #008000\">'increment'</span>, <span style=\"color: #808000; text-decoration-color: #808000\">methods</span>=<span style=\"font-weight: bold\">[</span><span style=\"color: #008000; text-decoration-color: #008000\">'GET'</span>, <span style=\"color: #008000; text-decoration-color: #008000\">'HEAD'</span><span style=\"font-weight: bold\">])</span>,\n",
       "    <span style=\"color: #800080; text-decoration-color: #800080; font-weight: bold\">Mount</span><span style=\"font-weight: bold\">(</span><span style=\"color: #808000; text-decoration-color: #808000\">path</span>=<span style=\"color: #008000; text-decoration-color: #008000\">'/counter'</span>, <span style=\"color: #808000; text-decoration-color: #808000\">name</span>=<span style=\"color: #008000; text-decoration-color: #008000\">'cnt'</span>, <span style=\"color: #808000; text-decoration-color: #808000\">app</span>=<span style=\"font-weight: bold\">&lt;</span><span style=\"color: #ff00ff; text-decoration-color: #ff00ff; font-weight: bold\">fasthtml.core.FastHTML</span><span style=\"color: #000000; text-decoration-color: #000000\"> object at </span><span style=\"color: #008080; text-decoration-color: #008080; font-weight: bold\">0x16a1955e0</span><span style=\"color: #000000; text-decoration-color: #000000\">&gt;</span><span style=\"color: #000000; text-decoration-color: #000000; font-weight: bold\">)</span><span style=\"color: #000000; text-decoration-color: #000000\">,</span>\n",
       "<span style=\"color: #000000; text-decoration-color: #000000\">    </span><span style=\"color: #800080; text-decoration-color: #800080; font-weight: bold\">Mount</span><span style=\"color: #000000; text-decoration-color: #000000; font-weight: bold\">(</span><span style=\"color: #808000; text-decoration-color: #808000\">path</span><span style=\"color: #000000; text-decoration-color: #000000\">=</span><span style=\"color: #008000; text-decoration-color: #008000\">'/Counter'</span><span style=\"color: #000000; text-decoration-color: #000000\">, </span><span style=\"color: #808000; text-decoration-color: #808000\">name</span><span style=\"color: #000000; text-decoration-color: #000000\">=</span><span style=\"color: #008000; text-decoration-color: #008000\">'Counter'</span><span style=\"color: #000000; text-decoration-color: #000000\">, </span><span style=\"color: #808000; text-decoration-color: #808000\">app</span><span style=\"color: #000000; text-decoration-color: #000000\">=&lt;fasthtml.core.FastHTML object at </span><span style=\"color: #008080; text-decoration-color: #008080; font-weight: bold\">0x16a1843b0</span><span style=\"font-weight: bold\">&gt;)</span>\n",
       "<span style=\"font-weight: bold\">]</span>\n",
       "</pre>\n"
      ],
      "text/plain": [
       "\u001b[1m[\u001b[0m\n",
       "    \u001b[1;35mRoute\u001b[0m\u001b[1m(\u001b[0m\u001b[33mpath\u001b[0m=\u001b[32m'/value'\u001b[0m, \u001b[33mname\u001b[0m=\u001b[32m'value'\u001b[0m, \u001b[33mmethods\u001b[0m=\u001b[1m[\u001b[0m\u001b[32m'GET'\u001b[0m, \u001b[32m'HEAD'\u001b[0m\u001b[1m]\u001b[0m\u001b[1m)\u001b[0m,\n",
       "    \u001b[1;35mRoute\u001b[0m\u001b[1m(\u001b[0m\u001b[33mpath\u001b[0m=\u001b[32m'/inc'\u001b[0m, \u001b[33mname\u001b[0m=\u001b[32m'increment'\u001b[0m, \u001b[33mmethods\u001b[0m=\u001b[1m[\u001b[0m\u001b[32m'GET'\u001b[0m, \u001b[32m'HEAD'\u001b[0m\u001b[1m]\u001b[0m\u001b[1m)\u001b[0m,\n",
       "    \u001b[1;35mMount\u001b[0m\u001b[1m(\u001b[0m\u001b[33mpath\u001b[0m=\u001b[32m'/counter'\u001b[0m, \u001b[33mname\u001b[0m=\u001b[32m'cnt'\u001b[0m, \u001b[33mapp\u001b[0m=\u001b[1m<\u001b[0m\u001b[1;95mfasthtml.core.FastHTML\u001b[0m\u001b[39m object at \u001b[0m\u001b[1;36m0x16a1955e0\u001b[0m\u001b[39m>\u001b[0m\u001b[1;39m)\u001b[0m\u001b[39m,\u001b[0m\n",
       "\u001b[39m    \u001b[0m\u001b[1;35mMount\u001b[0m\u001b[1;39m(\u001b[0m\u001b[33mpath\u001b[0m\u001b[39m=\u001b[0m\u001b[32m'/Counter'\u001b[0m\u001b[39m, \u001b[0m\u001b[33mname\u001b[0m\u001b[39m=\u001b[0m\u001b[32m'Counter'\u001b[0m\u001b[39m, \u001b[0m\u001b[33mapp\u001b[0m\u001b[39m=<fasthtml.core.FastHTML object at \u001b[0m\u001b[1;36m0x16a1843b0\u001b[0m\u001b[1m>\u001b[0m\u001b[1m)\u001b[0m\n",
       "\u001b[1m]\u001b[0m\n"
      ]
     },
     "metadata": {},
     "output_type": "display_data"
    },
    {
     "data": {
      "text/html": [
       "<pre style=\"white-space:pre;overflow-x:auto;line-height:normal;font-family:Menlo,'DejaVu Sans Mono',consolas,'Courier New',monospace\"><span style=\"font-weight: bold\">[</span>\n",
       "    <span style=\"color: #800080; text-decoration-color: #800080; font-weight: bold\">Mount</span><span style=\"font-weight: bold\">(</span><span style=\"color: #808000; text-decoration-color: #808000\">path</span>=<span style=\"color: #008000; text-decoration-color: #008000\">'/counter'</span>, <span style=\"color: #808000; text-decoration-color: #808000\">name</span>=<span style=\"color: #008000; text-decoration-color: #008000\">'counter'</span>, <span style=\"color: #808000; text-decoration-color: #808000\">app</span>=<span style=\"font-weight: bold\">&lt;</span><span style=\"color: #ff00ff; text-decoration-color: #ff00ff; font-weight: bold\">fasthtml.core.FastHTML</span><span style=\"color: #000000; text-decoration-color: #000000\"> object at </span><span style=\"color: #008080; text-decoration-color: #008080; font-weight: bold\">0x16a184260</span><span style=\"color: #000000; text-decoration-color: #000000\">&gt;</span><span style=\"color: #000000; text-decoration-color: #000000; font-weight: bold\">)</span><span style=\"color: #000000; text-decoration-color: #000000\">,</span>\n",
       "<span style=\"color: #000000; text-decoration-color: #000000\">    </span><span style=\"color: #800080; text-decoration-color: #800080; font-weight: bold\">Mount</span><span style=\"color: #000000; text-decoration-color: #000000; font-weight: bold\">(</span><span style=\"color: #808000; text-decoration-color: #808000\">path</span><span style=\"color: #000000; text-decoration-color: #000000\">=</span><span style=\"color: #008000; text-decoration-color: #008000\">'/Counter_1-1757324439'</span><span style=\"color: #000000; text-decoration-color: #000000\">, </span><span style=\"color: #808000; text-decoration-color: #808000\">name</span><span style=\"color: #000000; text-decoration-color: #000000\">=</span><span style=\"color: #008000; text-decoration-color: #008000\">'Counter_1-1757324439'</span><span style=\"color: #000000; text-decoration-color: #000000\">, </span><span style=\"color: #808000; text-decoration-color: #808000\">app</span><span style=\"color: #000000; text-decoration-color: #000000\">=&lt;fasthtml.core.FastHTML object at </span>\n",
       "<span style=\"color: #008080; text-decoration-color: #008080; font-weight: bold\">0x16a1549e0</span><span style=\"font-weight: bold\">&gt;)</span>,\n",
       "    <span style=\"color: #800080; text-decoration-color: #800080; font-weight: bold\">Route</span><span style=\"font-weight: bold\">(</span><span style=\"color: #808000; text-decoration-color: #808000\">path</span>=<span style=\"color: #008000; text-decoration-color: #008000\">'/value'</span>, <span style=\"color: #808000; text-decoration-color: #808000\">name</span>=<span style=\"color: #008000; text-decoration-color: #008000\">'value'</span>, <span style=\"color: #808000; text-decoration-color: #808000\">methods</span>=<span style=\"font-weight: bold\">[</span><span style=\"color: #008000; text-decoration-color: #008000\">'GET'</span>, <span style=\"color: #008000; text-decoration-color: #008000\">'HEAD'</span><span style=\"font-weight: bold\">])</span>,\n",
       "    <span style=\"color: #800080; text-decoration-color: #800080; font-weight: bold\">Route</span><span style=\"font-weight: bold\">(</span><span style=\"color: #808000; text-decoration-color: #808000\">path</span>=<span style=\"color: #008000; text-decoration-color: #008000\">'/inc'</span>, <span style=\"color: #808000; text-decoration-color: #808000\">name</span>=<span style=\"color: #008000; text-decoration-color: #008000\">'increment'</span>, <span style=\"color: #808000; text-decoration-color: #808000\">methods</span>=<span style=\"font-weight: bold\">[</span><span style=\"color: #008000; text-decoration-color: #008000\">'GET'</span>, <span style=\"color: #008000; text-decoration-color: #008000\">'HEAD'</span><span style=\"font-weight: bold\">])</span>\n",
       "<span style=\"font-weight: bold\">]</span>\n",
       "</pre>\n"
      ],
      "text/plain": [
       "\u001b[1m[\u001b[0m\n",
       "    \u001b[1;35mMount\u001b[0m\u001b[1m(\u001b[0m\u001b[33mpath\u001b[0m=\u001b[32m'/counter'\u001b[0m, \u001b[33mname\u001b[0m=\u001b[32m'counter'\u001b[0m, \u001b[33mapp\u001b[0m=\u001b[1m<\u001b[0m\u001b[1;95mfasthtml.core.FastHTML\u001b[0m\u001b[39m object at \u001b[0m\u001b[1;36m0x16a184260\u001b[0m\u001b[39m>\u001b[0m\u001b[1;39m)\u001b[0m\u001b[39m,\u001b[0m\n",
       "\u001b[39m    \u001b[0m\u001b[1;35mMount\u001b[0m\u001b[1;39m(\u001b[0m\u001b[33mpath\u001b[0m\u001b[39m=\u001b[0m\u001b[32m'/Counter_1-1757324439'\u001b[0m\u001b[39m, \u001b[0m\u001b[33mname\u001b[0m\u001b[39m=\u001b[0m\u001b[32m'Counter_1-1757324439'\u001b[0m\u001b[39m, \u001b[0m\u001b[33mapp\u001b[0m\u001b[39m=<fasthtml.core.FastHTML object at \u001b[0m\n",
       "\u001b[1;36m0x16a1549e0\u001b[0m\u001b[1m>\u001b[0m\u001b[1m)\u001b[0m,\n",
       "    \u001b[1;35mRoute\u001b[0m\u001b[1m(\u001b[0m\u001b[33mpath\u001b[0m=\u001b[32m'/value'\u001b[0m, \u001b[33mname\u001b[0m=\u001b[32m'value'\u001b[0m, \u001b[33mmethods\u001b[0m=\u001b[1m[\u001b[0m\u001b[32m'GET'\u001b[0m, \u001b[32m'HEAD'\u001b[0m\u001b[1m]\u001b[0m\u001b[1m)\u001b[0m,\n",
       "    \u001b[1;35mRoute\u001b[0m\u001b[1m(\u001b[0m\u001b[33mpath\u001b[0m=\u001b[32m'/inc'\u001b[0m, \u001b[33mname\u001b[0m=\u001b[32m'increment'\u001b[0m, \u001b[33mmethods\u001b[0m=\u001b[1m[\u001b[0m\u001b[32m'GET'\u001b[0m, \u001b[32m'HEAD'\u001b[0m\u001b[1m]\u001b[0m\u001b[1m)\u001b[0m\n",
       "\u001b[1m]\u001b[0m\n"
      ]
     },
     "metadata": {},
     "output_type": "display_data"
    }
   ],
   "source": [
    "counter6 = Counter(111)\n",
    "car6 = mount(app, counter6, path='/')\n",
    "cprint(app.routes)\n",
    "cprint(app.routes[-1].app.routes)  # type: ignore\n",
    "\n",
    "test_eq(cli.get(f\"{car6.prefix}/value\").text, '111')\n",
    "test_eq(cli.get(car6.to('increment')).text, '112')"
   ]
  },
  {
   "cell_type": "markdown",
   "metadata": {},
   "source": [
    "`counter_6` routes added at `Counter` submount as root routes."
   ]
  },
  {
   "cell_type": "markdown",
   "metadata": {},
   "source": [
    "Thus `add_routes` can be used to add routes to an app with instance-based routes:\n",
    "- mount=False, path=None => root-level routes (e.g. `/inc`). Equivalent to FastHTML `APIRouter.to_app`\n",
    "- mount=False, path=...: root-level subroutes (e.g. `/counter/inc`). Equivalent to FastHTML `APIRouter.to_app` + prefix\n",
    "- mount=True, path=None => auto routes scoped under class name (e.g. `/Counter/inc` )\n",
    "- mount=True, path=... => auto routes scoped under class name and path (e.g. `/Counter/counter/inc` )"
   ]
  },
  {
   "cell_type": "markdown",
   "metadata": {},
   "source": [
    "# Route introspection\n"
   ]
  },
  {
   "cell_type": "code",
   "execution_count": 66,
   "metadata": {
    "brd": {
     "id": "12c7af35-20fd-4841-8ad5-0e5b3a8efe3c"
    }
   },
   "outputs": [],
   "source": [
    "class Counter(RouteProvider):\n",
    "    def __init__(self): self._value = 0\n",
    "    \n",
    "    @ar('/value', name='value')\n",
    "    def get_value(self) -> int: \n",
    "        return self._value  # `0` (int(0)) is not a valid FastHTML response (will be converted to `''`)\n",
    "    \n",
    "    @ar('/inc', name='inc')\n",
    "    def increment(self): \n",
    "        self._value += 1\n",
    "        return self.get_value()\n",
    "\n",
    "    @ar('/add/{x}')\n",
    "    def add(self, x:int): \n",
    "        self._value += x\n",
    "        return self.get_value()\n",
    "\n",
    "    @ar.post('/sub')\n",
    "    def sub(self, x:int): \n",
    "        self._value -= x\n",
    "        return self.get_value()\n",
    "    \n",
    "    @ar\n",
    "    def link(self, req): \n",
    "        nm = self.ar.name('add')\n",
    "        req.url_for(f\"{nm}\", x=2)\n",
    "        return (Div('+ 3', link=uri(nm, x='3')), \n",
    "                Div('+ 2', href=f\"{req.url_for(f\"{nm}\", x=2)}\"))\n",
    "\n",
    "\n",
    "app, cli, rt = get_app()\n",
    "\n",
    "c = Counter()\n",
    "test_eq(c.increment(), 1)\n",
    "\n",
    "c.ar.to_app(app)\n",
    "\n",
    "test_eq(c.ar.name(), '')\n",
    "\n",
    "test_eq(cli.get('/inc').text, '2')\n",
    "test_eq(cli.get('/add/5').text, '7')\n",
    "test_eq(cli.post('/sub', data={'x':2}).text, '5')  # type: ignore\n",
    "test_eq(cli.post('/sub?x=3').text, '2')\n",
    "test_eq(cli.get('/link').text, ' <div href=\"/add/3\">+ 3</div>\\n <div href=\"http://nb/add/2\">+ 2</div>\\n')\n",
    "\n",
    "test_eq(c.increment(), 3)"
   ]
  },
  {
   "cell_type": "code",
   "execution_count": 67,
   "metadata": {
    "brd": {
     "id": "769e4267-0774-4676-a27f-d2bddf0f6936"
    }
   },
   "outputs": [],
   "source": [
    "test_eq(c.ar.increment.to(), '/inc')\n",
    "test_eq(c.ar.inc.to(), '/inc')\n",
    "test_eq(c.ar.add.to(), '/add/{x}')\n",
    "test_eq(c.ar.to('add'), '/add/{x}')\n",
    "test_eq(c.ar.to('sub', x=3), '/sub?x=3')\n",
    "\n",
    "test_eq(app.url_path_for(c.ar.name('inc')), '/inc')\n",
    "test_eq(app.url_path_for(c.ar.name('add'), x=5), '/add/5')\n",
    "test_eq(app.url_path_for(c.ar.name('sub')), '/sub')"
   ]
  },
  {
   "cell_type": "code",
   "execution_count": 68,
   "metadata": {
    "brd": {
     "id": "492757e9-7c2f-48b3-a6ad-602311097dbb"
    }
   },
   "outputs": [
    {
     "data": {
      "text/html": [
       "<pre style=\"white-space:pre;overflow-x:auto;line-height:normal;font-family:Menlo,'DejaVu Sans Mono',consolas,'Courier New',monospace\"><span style=\"font-weight: bold\">[</span><span style=\"color: #800080; text-decoration-color: #800080; font-weight: bold\">Mount</span><span style=\"font-weight: bold\">(</span><span style=\"color: #808000; text-decoration-color: #808000\">path</span>=<span style=\"color: #008000; text-decoration-color: #008000\">'/counter'</span>, <span style=\"color: #808000; text-decoration-color: #808000\">name</span>=<span style=\"color: #008000; text-decoration-color: #008000\">'counter'</span>, <span style=\"color: #808000; text-decoration-color: #808000\">app</span>=<span style=\"font-weight: bold\">&lt;</span><span style=\"color: #ff00ff; text-decoration-color: #ff00ff; font-weight: bold\">fasthtml.core.FastHTML</span><span style=\"color: #000000; text-decoration-color: #000000\"> object at </span><span style=\"color: #008080; text-decoration-color: #008080; font-weight: bold\">0x16a1c7560</span><span style=\"font-weight: bold\">&gt;)]</span>\n",
       "</pre>\n"
      ],
      "text/plain": [
       "\u001b[1m[\u001b[0m\u001b[1;35mMount\u001b[0m\u001b[1m(\u001b[0m\u001b[33mpath\u001b[0m=\u001b[32m'/counter'\u001b[0m, \u001b[33mname\u001b[0m=\u001b[32m'counter'\u001b[0m, \u001b[33mapp\u001b[0m=\u001b[1m<\u001b[0m\u001b[1;95mfasthtml.core.FastHTML\u001b[0m\u001b[39m object at \u001b[0m\u001b[1;36m0x16a1c7560\u001b[0m\u001b[1m>\u001b[0m\u001b[1m)\u001b[0m\u001b[1m]\u001b[0m\n"
      ]
     },
     "metadata": {},
     "output_type": "display_data"
    },
    {
     "data": {
      "text/html": [
       "<pre style=\"white-space:pre;overflow-x:auto;line-height:normal;font-family:Menlo,'DejaVu Sans Mono',consolas,'Courier New',monospace\"><span style=\"font-weight: bold\">[</span>\n",
       "    <span style=\"color: #800080; text-decoration-color: #800080; font-weight: bold\">Route</span><span style=\"font-weight: bold\">(</span><span style=\"color: #808000; text-decoration-color: #808000\">path</span>=<span style=\"color: #008000; text-decoration-color: #008000\">'/value'</span>, <span style=\"color: #808000; text-decoration-color: #808000\">name</span>=<span style=\"color: #008000; text-decoration-color: #008000\">'value'</span>, <span style=\"color: #808000; text-decoration-color: #808000\">methods</span>=<span style=\"font-weight: bold\">[</span><span style=\"color: #008000; text-decoration-color: #008000\">'GET'</span>, <span style=\"color: #008000; text-decoration-color: #008000\">'HEAD'</span><span style=\"font-weight: bold\">])</span>,\n",
       "    <span style=\"color: #800080; text-decoration-color: #800080; font-weight: bold\">Route</span><span style=\"font-weight: bold\">(</span><span style=\"color: #808000; text-decoration-color: #808000\">path</span>=<span style=\"color: #008000; text-decoration-color: #008000\">'/inc'</span>, <span style=\"color: #808000; text-decoration-color: #808000\">name</span>=<span style=\"color: #008000; text-decoration-color: #008000\">'inc'</span>, <span style=\"color: #808000; text-decoration-color: #808000\">methods</span>=<span style=\"font-weight: bold\">[</span><span style=\"color: #008000; text-decoration-color: #008000\">'GET'</span>, <span style=\"color: #008000; text-decoration-color: #008000\">'HEAD'</span><span style=\"font-weight: bold\">])</span>,\n",
       "    <span style=\"color: #800080; text-decoration-color: #800080; font-weight: bold\">Route</span><span style=\"font-weight: bold\">(</span><span style=\"color: #808000; text-decoration-color: #808000\">path</span>=<span style=\"color: #008000; text-decoration-color: #008000\">'/add/{x}'</span>, <span style=\"color: #808000; text-decoration-color: #808000\">name</span>=<span style=\"color: #008000; text-decoration-color: #008000\">'add'</span>, <span style=\"color: #808000; text-decoration-color: #808000\">methods</span>=<span style=\"font-weight: bold\">[</span><span style=\"color: #008000; text-decoration-color: #008000\">'GET'</span>, <span style=\"color: #008000; text-decoration-color: #008000\">'HEAD'</span><span style=\"font-weight: bold\">])</span>,\n",
       "    <span style=\"color: #800080; text-decoration-color: #800080; font-weight: bold\">Route</span><span style=\"font-weight: bold\">(</span><span style=\"color: #808000; text-decoration-color: #808000\">path</span>=<span style=\"color: #008000; text-decoration-color: #008000\">'/sub'</span>, <span style=\"color: #808000; text-decoration-color: #808000\">name</span>=<span style=\"color: #008000; text-decoration-color: #008000\">'sub'</span>, <span style=\"color: #808000; text-decoration-color: #808000\">methods</span>=<span style=\"font-weight: bold\">[</span><span style=\"color: #008000; text-decoration-color: #008000\">'POST'</span><span style=\"font-weight: bold\">])</span>,\n",
       "    <span style=\"color: #800080; text-decoration-color: #800080; font-weight: bold\">Route</span><span style=\"font-weight: bold\">(</span><span style=\"color: #808000; text-decoration-color: #808000\">path</span>=<span style=\"color: #008000; text-decoration-color: #008000\">'/link'</span>, <span style=\"color: #808000; text-decoration-color: #808000\">name</span>=<span style=\"color: #008000; text-decoration-color: #008000\">'link'</span>, <span style=\"color: #808000; text-decoration-color: #808000\">methods</span>=<span style=\"font-weight: bold\">[</span><span style=\"color: #008000; text-decoration-color: #008000\">'GET'</span>, <span style=\"color: #008000; text-decoration-color: #008000\">'HEAD'</span><span style=\"font-weight: bold\">])</span>\n",
       "<span style=\"font-weight: bold\">]</span>\n",
       "</pre>\n"
      ],
      "text/plain": [
       "\u001b[1m[\u001b[0m\n",
       "    \u001b[1;35mRoute\u001b[0m\u001b[1m(\u001b[0m\u001b[33mpath\u001b[0m=\u001b[32m'/value'\u001b[0m, \u001b[33mname\u001b[0m=\u001b[32m'value'\u001b[0m, \u001b[33mmethods\u001b[0m=\u001b[1m[\u001b[0m\u001b[32m'GET'\u001b[0m, \u001b[32m'HEAD'\u001b[0m\u001b[1m]\u001b[0m\u001b[1m)\u001b[0m,\n",
       "    \u001b[1;35mRoute\u001b[0m\u001b[1m(\u001b[0m\u001b[33mpath\u001b[0m=\u001b[32m'/inc'\u001b[0m, \u001b[33mname\u001b[0m=\u001b[32m'inc'\u001b[0m, \u001b[33mmethods\u001b[0m=\u001b[1m[\u001b[0m\u001b[32m'GET'\u001b[0m, \u001b[32m'HEAD'\u001b[0m\u001b[1m]\u001b[0m\u001b[1m)\u001b[0m,\n",
       "    \u001b[1;35mRoute\u001b[0m\u001b[1m(\u001b[0m\u001b[33mpath\u001b[0m=\u001b[32m'/add/\u001b[0m\u001b[32m{\u001b[0m\u001b[32mx\u001b[0m\u001b[32m}\u001b[0m\u001b[32m'\u001b[0m, \u001b[33mname\u001b[0m=\u001b[32m'add'\u001b[0m, \u001b[33mmethods\u001b[0m=\u001b[1m[\u001b[0m\u001b[32m'GET'\u001b[0m, \u001b[32m'HEAD'\u001b[0m\u001b[1m]\u001b[0m\u001b[1m)\u001b[0m,\n",
       "    \u001b[1;35mRoute\u001b[0m\u001b[1m(\u001b[0m\u001b[33mpath\u001b[0m=\u001b[32m'/sub'\u001b[0m, \u001b[33mname\u001b[0m=\u001b[32m'sub'\u001b[0m, \u001b[33mmethods\u001b[0m=\u001b[1m[\u001b[0m\u001b[32m'POST'\u001b[0m\u001b[1m]\u001b[0m\u001b[1m)\u001b[0m,\n",
       "    \u001b[1;35mRoute\u001b[0m\u001b[1m(\u001b[0m\u001b[33mpath\u001b[0m=\u001b[32m'/link'\u001b[0m, \u001b[33mname\u001b[0m=\u001b[32m'link'\u001b[0m, \u001b[33mmethods\u001b[0m=\u001b[1m[\u001b[0m\u001b[32m'GET'\u001b[0m, \u001b[32m'HEAD'\u001b[0m\u001b[1m]\u001b[0m\u001b[1m)\u001b[0m\n",
       "\u001b[1m]\u001b[0m\n"
      ]
     },
     "metadata": {},
     "output_type": "display_data"
    }
   ],
   "source": [
    "app, cli, rt = get_app()\n",
    "\n",
    "c = Counter()\n",
    "add_routes(app, c, path='/counter')\n",
    "# mount(app, c, '/counter')\n",
    "cprint(app.routes)\n",
    "cprint(app.routes[-1].app.routes)  # type: ignore\n",
    "\n",
    "test_eq(c.ar.prefix, '/counter')\n",
    "\n",
    "test_eq(c.ar.add.to(), '/counter/add/{x}')\n",
    "test_eq(c.ar.to('increment'), '/counter/inc')\n",
    "test_eq(c.ar.to('inc'), '/counter/inc')\n",
    "test_eq(c.ar.to('add'), '/counter/add/{x}')\n",
    "test_eq(c.ar.to('sub', x=3), '/counter/sub?x=3')\n",
    "\n",
    "test_eq(c.ar.name('inc'), f\"counter:inc\")\n",
    "test_eq(app.url_path_for(c.ar.name('inc')), '/counter/inc')\n",
    "test_eq(app.url_path_for(c.ar.name('link')), '/counter/link')\n",
    "test_eq(app.url_path_for(c.ar.name('add'), x=5), '/counter/add/5')"
   ]
  },
  {
   "cell_type": "markdown",
   "metadata": {},
   "source": [
    "Above is equivalent `to_app` using a custom prefix. Mounting another instance at same path will override the routes."
   ]
  },
  {
   "cell_type": "code",
   "execution_count": 69,
   "metadata": {
    "brd": {
     "id": "bb31d0e1-cb8d-477b-a9dc-67d4530d8710"
    }
   },
   "outputs": [
    {
     "data": {
      "text/html": [
       "<pre style=\"white-space:pre;overflow-x:auto;line-height:normal;font-family:Menlo,'DejaVu Sans Mono',consolas,'Courier New',monospace\"><span style=\"font-weight: bold\">[</span><span style=\"color: #800080; text-decoration-color: #800080; font-weight: bold\">Mount</span><span style=\"font-weight: bold\">(</span><span style=\"color: #808000; text-decoration-color: #808000\">path</span>=<span style=\"color: #008000; text-decoration-color: #008000\">'/Counter'</span>, <span style=\"color: #808000; text-decoration-color: #808000\">name</span>=<span style=\"color: #008000; text-decoration-color: #008000\">'Counter'</span>, <span style=\"color: #808000; text-decoration-color: #808000\">app</span>=<span style=\"font-weight: bold\">&lt;</span><span style=\"color: #ff00ff; text-decoration-color: #ff00ff; font-weight: bold\">fasthtml.core.FastHTML</span><span style=\"color: #000000; text-decoration-color: #000000\"> object at </span><span style=\"color: #008080; text-decoration-color: #008080; font-weight: bold\">0x16a1c5f10</span><span style=\"font-weight: bold\">&gt;)]</span>\n",
       "</pre>\n"
      ],
      "text/plain": [
       "\u001b[1m[\u001b[0m\u001b[1;35mMount\u001b[0m\u001b[1m(\u001b[0m\u001b[33mpath\u001b[0m=\u001b[32m'/Counter'\u001b[0m, \u001b[33mname\u001b[0m=\u001b[32m'Counter'\u001b[0m, \u001b[33mapp\u001b[0m=\u001b[1m<\u001b[0m\u001b[1;95mfasthtml.core.FastHTML\u001b[0m\u001b[39m object at \u001b[0m\u001b[1;36m0x16a1c5f10\u001b[0m\u001b[1m>\u001b[0m\u001b[1m)\u001b[0m\u001b[1m]\u001b[0m\n"
      ]
     },
     "metadata": {},
     "output_type": "display_data"
    },
    {
     "data": {
      "text/html": [
       "<pre style=\"white-space:pre;overflow-x:auto;line-height:normal;font-family:Menlo,'DejaVu Sans Mono',consolas,'Courier New',monospace\"><span style=\"font-weight: bold\">[</span><span style=\"color: #800080; text-decoration-color: #800080; font-weight: bold\">Mount</span><span style=\"font-weight: bold\">(</span><span style=\"color: #808000; text-decoration-color: #808000\">path</span>=<span style=\"color: #008000; text-decoration-color: #008000\">'/counter'</span>, <span style=\"color: #808000; text-decoration-color: #808000\">name</span>=<span style=\"color: #008000; text-decoration-color: #008000\">'counter'</span>, <span style=\"color: #808000; text-decoration-color: #808000\">app</span>=<span style=\"font-weight: bold\">&lt;</span><span style=\"color: #ff00ff; text-decoration-color: #ff00ff; font-weight: bold\">fasthtml.core.FastHTML</span><span style=\"color: #000000; text-decoration-color: #000000\"> object at </span><span style=\"color: #008080; text-decoration-color: #008080; font-weight: bold\">0x16a171b20</span><span style=\"font-weight: bold\">&gt;)]</span>\n",
       "</pre>\n"
      ],
      "text/plain": [
       "\u001b[1m[\u001b[0m\u001b[1;35mMount\u001b[0m\u001b[1m(\u001b[0m\u001b[33mpath\u001b[0m=\u001b[32m'/counter'\u001b[0m, \u001b[33mname\u001b[0m=\u001b[32m'counter'\u001b[0m, \u001b[33mapp\u001b[0m=\u001b[1m<\u001b[0m\u001b[1;95mfasthtml.core.FastHTML\u001b[0m\u001b[39m object at \u001b[0m\u001b[1;36m0x16a171b20\u001b[0m\u001b[1m>\u001b[0m\u001b[1m)\u001b[0m\u001b[1m]\u001b[0m\n"
      ]
     },
     "metadata": {},
     "output_type": "display_data"
    },
    {
     "data": {
      "text/html": [
       "<pre style=\"white-space:pre;overflow-x:auto;line-height:normal;font-family:Menlo,'DejaVu Sans Mono',consolas,'Courier New',monospace\"><span style=\"font-weight: bold\">[</span>\n",
       "    <span style=\"color: #800080; text-decoration-color: #800080; font-weight: bold\">Route</span><span style=\"font-weight: bold\">(</span><span style=\"color: #808000; text-decoration-color: #808000\">path</span>=<span style=\"color: #008000; text-decoration-color: #008000\">'/value'</span>, <span style=\"color: #808000; text-decoration-color: #808000\">name</span>=<span style=\"color: #008000; text-decoration-color: #008000\">'value'</span>, <span style=\"color: #808000; text-decoration-color: #808000\">methods</span>=<span style=\"font-weight: bold\">[</span><span style=\"color: #008000; text-decoration-color: #008000\">'GET'</span>, <span style=\"color: #008000; text-decoration-color: #008000\">'HEAD'</span><span style=\"font-weight: bold\">])</span>,\n",
       "    <span style=\"color: #800080; text-decoration-color: #800080; font-weight: bold\">Route</span><span style=\"font-weight: bold\">(</span><span style=\"color: #808000; text-decoration-color: #808000\">path</span>=<span style=\"color: #008000; text-decoration-color: #008000\">'/inc'</span>, <span style=\"color: #808000; text-decoration-color: #808000\">name</span>=<span style=\"color: #008000; text-decoration-color: #008000\">'inc'</span>, <span style=\"color: #808000; text-decoration-color: #808000\">methods</span>=<span style=\"font-weight: bold\">[</span><span style=\"color: #008000; text-decoration-color: #008000\">'GET'</span>, <span style=\"color: #008000; text-decoration-color: #008000\">'HEAD'</span><span style=\"font-weight: bold\">])</span>,\n",
       "    <span style=\"color: #800080; text-decoration-color: #800080; font-weight: bold\">Route</span><span style=\"font-weight: bold\">(</span><span style=\"color: #808000; text-decoration-color: #808000\">path</span>=<span style=\"color: #008000; text-decoration-color: #008000\">'/add/{x}'</span>, <span style=\"color: #808000; text-decoration-color: #808000\">name</span>=<span style=\"color: #008000; text-decoration-color: #008000\">'add'</span>, <span style=\"color: #808000; text-decoration-color: #808000\">methods</span>=<span style=\"font-weight: bold\">[</span><span style=\"color: #008000; text-decoration-color: #008000\">'GET'</span>, <span style=\"color: #008000; text-decoration-color: #008000\">'HEAD'</span><span style=\"font-weight: bold\">])</span>,\n",
       "    <span style=\"color: #800080; text-decoration-color: #800080; font-weight: bold\">Route</span><span style=\"font-weight: bold\">(</span><span style=\"color: #808000; text-decoration-color: #808000\">path</span>=<span style=\"color: #008000; text-decoration-color: #008000\">'/sub'</span>, <span style=\"color: #808000; text-decoration-color: #808000\">name</span>=<span style=\"color: #008000; text-decoration-color: #008000\">'sub'</span>, <span style=\"color: #808000; text-decoration-color: #808000\">methods</span>=<span style=\"font-weight: bold\">[</span><span style=\"color: #008000; text-decoration-color: #008000\">'POST'</span><span style=\"font-weight: bold\">])</span>,\n",
       "    <span style=\"color: #800080; text-decoration-color: #800080; font-weight: bold\">Route</span><span style=\"font-weight: bold\">(</span><span style=\"color: #808000; text-decoration-color: #808000\">path</span>=<span style=\"color: #008000; text-decoration-color: #008000\">'/link'</span>, <span style=\"color: #808000; text-decoration-color: #808000\">name</span>=<span style=\"color: #008000; text-decoration-color: #008000\">'link'</span>, <span style=\"color: #808000; text-decoration-color: #808000\">methods</span>=<span style=\"font-weight: bold\">[</span><span style=\"color: #008000; text-decoration-color: #008000\">'GET'</span>, <span style=\"color: #008000; text-decoration-color: #008000\">'HEAD'</span><span style=\"font-weight: bold\">])</span>\n",
       "<span style=\"font-weight: bold\">]</span>\n",
       "</pre>\n"
      ],
      "text/plain": [
       "\u001b[1m[\u001b[0m\n",
       "    \u001b[1;35mRoute\u001b[0m\u001b[1m(\u001b[0m\u001b[33mpath\u001b[0m=\u001b[32m'/value'\u001b[0m, \u001b[33mname\u001b[0m=\u001b[32m'value'\u001b[0m, \u001b[33mmethods\u001b[0m=\u001b[1m[\u001b[0m\u001b[32m'GET'\u001b[0m, \u001b[32m'HEAD'\u001b[0m\u001b[1m]\u001b[0m\u001b[1m)\u001b[0m,\n",
       "    \u001b[1;35mRoute\u001b[0m\u001b[1m(\u001b[0m\u001b[33mpath\u001b[0m=\u001b[32m'/inc'\u001b[0m, \u001b[33mname\u001b[0m=\u001b[32m'inc'\u001b[0m, \u001b[33mmethods\u001b[0m=\u001b[1m[\u001b[0m\u001b[32m'GET'\u001b[0m, \u001b[32m'HEAD'\u001b[0m\u001b[1m]\u001b[0m\u001b[1m)\u001b[0m,\n",
       "    \u001b[1;35mRoute\u001b[0m\u001b[1m(\u001b[0m\u001b[33mpath\u001b[0m=\u001b[32m'/add/\u001b[0m\u001b[32m{\u001b[0m\u001b[32mx\u001b[0m\u001b[32m}\u001b[0m\u001b[32m'\u001b[0m, \u001b[33mname\u001b[0m=\u001b[32m'add'\u001b[0m, \u001b[33mmethods\u001b[0m=\u001b[1m[\u001b[0m\u001b[32m'GET'\u001b[0m, \u001b[32m'HEAD'\u001b[0m\u001b[1m]\u001b[0m\u001b[1m)\u001b[0m,\n",
       "    \u001b[1;35mRoute\u001b[0m\u001b[1m(\u001b[0m\u001b[33mpath\u001b[0m=\u001b[32m'/sub'\u001b[0m, \u001b[33mname\u001b[0m=\u001b[32m'sub'\u001b[0m, \u001b[33mmethods\u001b[0m=\u001b[1m[\u001b[0m\u001b[32m'POST'\u001b[0m\u001b[1m]\u001b[0m\u001b[1m)\u001b[0m,\n",
       "    \u001b[1;35mRoute\u001b[0m\u001b[1m(\u001b[0m\u001b[33mpath\u001b[0m=\u001b[32m'/link'\u001b[0m, \u001b[33mname\u001b[0m=\u001b[32m'link'\u001b[0m, \u001b[33mmethods\u001b[0m=\u001b[1m[\u001b[0m\u001b[32m'GET'\u001b[0m, \u001b[32m'HEAD'\u001b[0m\u001b[1m]\u001b[0m\u001b[1m)\u001b[0m\n",
       "\u001b[1m]\u001b[0m\n"
      ]
     },
     "metadata": {},
     "output_type": "display_data"
    }
   ],
   "source": [
    "app, cli, rt = get_app()\n",
    "\n",
    "c = Counter()\n",
    "mount(app, c, '/counter')\n",
    "cprint(app.routes)\n",
    "cprint(app.routes[-1].app.routes)  # type: ignore\n",
    "cprint(app.routes[-1].app.routes[-1].app.routes)  # type: ignore\n",
    "\n",
    "test_eq(c.ar.prefix, '/Counter/counter')\n",
    "\n",
    "test_eq(c.ar.add.to(), '/Counter/counter/add/{x}')\n",
    "test_eq(c.ar.to('increment'), '/Counter/counter/inc')\n",
    "test_eq(c.ar.to('add'), '/Counter/counter/add/{x}')\n",
    "test_eq(c.ar.to('sub', x=3), '/Counter/counter/sub?x=3')\n",
    "\n",
    "test_eq(app.url_path_for(c.ar.name('link')), '/Counter/counter/link')\n",
    "\n",
    "test_eq(c.ar.name('increment'), f\"Counter:counter:inc\")\n",
    "test_eq(app.url_path_for(c.ar.name('inc')), '/Counter/counter/inc')\n",
    "test_eq(app.url_path_for(c.ar.name('add'), x=5), '/Counter/counter/add/5')"
   ]
  },
  {
   "cell_type": "code",
   "execution_count": 70,
   "metadata": {
    "brd": {
     "id": "592317bb-399e-4dee-8646-80f3d4afbdfb"
    }
   },
   "outputs": [],
   "source": [
    "app, cli, rt = get_app()\n",
    "\n",
    "c = Counter()\n",
    "mount(app, c, '/counter', 'cnt')\n",
    "\n",
    "test_eq(app.url_path_for(c.ar.name('link')), '/Counter/counter/link')\n",
    "\n",
    "test_eq(c.ar.name('increment'), f\"Counter:cnt:inc\")\n",
    "test_eq(app.url_path_for(c.ar.name('inc')), '/Counter/counter/inc')\n",
    "test_eq(app.url_path_for(c.ar.name('add'), x=5), '/Counter/counter/add/5')"
   ]
  },
  {
   "cell_type": "markdown",
   "metadata": {},
   "source": [
    "# Examples"
   ]
  },
  {
   "cell_type": "code",
   "execution_count": 71,
   "metadata": {
    "brd": {
     "id": "85bd2bd8-a98b-4168-8111-e731f29ff86b"
    }
   },
   "outputs": [
    {
     "data": {
      "text/html": [
       "<style>details ul { list-style-type:none; list-style-position: outside; padding-inline-start: 22px; margin: 0; } details .string { color: #24837b; } details .string::before { content: \"'\"; } details .string::after { content: \"'\"; } details .number { color: #ad8301; } details .true { color: blue; } details .false { color: red; } details .null { color: gray; } span.n { color: darkgrey; } </style>\n",
       "<details open><summary>summary\n",
       "</summary>  <ul>\n",
       "    <li>\n",
       "<span><span class=\"n\">auto_show</span>: <span class=\"v true\">True</span></span>    </li>\n",
       "    <li>\n",
       "<span><span class=\"n\">auto_mount</span>: <span class=\"v false\">False</span></span>    </li>\n",
       "    <li>\n",
       "<span><span class=\"n\">auto_id</span>: <span class=\"v false\">False</span></span>    </li>\n",
       "    <li>\n",
       "<span><span class=\"n\">bundle_cfg</span>: <span class=\"v \">{&#x27;out_dir&#x27;: [Path(&#x27;/Users/vic/dev/repo/project/bridget/bridget/js&#x27;)], &#x27;rewrite_imports&#x27;: True, &#x27;import_name&#x27;: &#x27;brdimport&#x27;}</span></span>    </li>\n",
       "    <li>\n",
       "<span><span class=\"n\">bootstrap</span>: <span class=\"v false\">False</span></span>    </li>\n",
       "    <li>\n",
       "<span><span class=\"n\">current_did</span>: <span class=\"v null\">None</span></span>    </li>\n",
       "  </ul>\n",
       "</details>"
      ],
      "text/plain": [
       "<IPython.core.display.HTML object>"
      ]
     },
     "metadata": {},
     "output_type": "display_data"
    }
   ],
   "source": [
    "bridge_cfg.auto_show = True\n",
    "show(DetailsJSON(bridge_cfg.as_dict()))"
   ]
  },
  {
   "cell_type": "code",
   "execution_count": null,
   "metadata": {
    "brd": {
     "id": "ebec5adc-5682-4cbe-b631-2c65eb17bae9"
    }
   },
   "outputs": [
    {
     "data": {
      "text/html": [
       "\n",
       "<script>\n",
       "document.body.addEventListener('htmx:configRequest', (event) => {\n",
       "    if(event.detail.path.includes('://')) return;\n",
       "    htmx.config.selfRequestsOnly=false;\n",
       "    event.detail.path = `http://0.0.0.0:8000${event.detail.path}`;\n",
       "});\n",
       "</script>"
      ],
      "text/plain": [
       "<IPython.core.display.HTML object>"
      ]
     },
     "metadata": {},
     "output_type": "display_data"
    }
   ],
   "source": [
    "app = FastHTML()\n",
    "rt = app.route\n",
    "\n",
    "server = JupyUviB(app)"
   ]
  },
  {
   "cell_type": "code",
   "execution_count": 73,
   "metadata": {
    "brd": {
     "id": "79a6d57a-9f35-4303-9a3d-a5eda3a93d46"
    }
   },
   "outputs": [],
   "source": [
    "render_ft()"
   ]
  },
  {
   "cell_type": "code",
   "execution_count": null,
   "metadata": {
    "brd": {
     "id": "cae743c5-9ff1-4341-b626-8d9d2ff6e99b"
    }
   },
   "outputs": [],
   "source": [
    "fh_cfg['auto_id']=True\n",
    "show(Script(src='https://unpkg.com/htmx.org@2.0.4/dist/htmx.js'), fhjsscr, scopesrc, surrsrc)\n",
    "clear_output()"
   ]
  },
  {
   "cell_type": "code",
   "execution_count": null,
   "metadata": {
    "brd": {
     "id": "939d729c-ede2-4a66-b9a6-e6ec2c64278a"
    }
   },
   "outputs": [],
   "source": [
    "display(Javascript('''\n",
    "if (window.htmx) htmx.process(document.body);\n",
    "'''))\n",
    "clear_output()"
   ]
  },
  {
   "cell_type": "markdown",
   "metadata": {},
   "source": [
    "Below we define several hypothetical product related routes in a `Products` and then demonstrate how they can seamlessly be incorporated into a FastHTML app instance."
   ]
  },
  {
   "cell_type": "code",
   "execution_count": 76,
   "metadata": {
    "brd": {
     "id": "49a6763b-d49c-4cac-aa8e-ee2f875f7664"
    }
   },
   "outputs": [
    {
     "data": {
      "text/plain": [
       "('/products/all', '/products/{pid}')"
      ]
     },
     "execution_count": 76,
     "metadata": {},
     "output_type": "execute_result"
    }
   ],
   "source": [
    "class Products:\n",
    "    @ar('/all')\n",
    "    def all_products(self, req):\n",
    "        return Div(\n",
    "            \"Welcome to the Products Page! Click the button below to look at the details for product 42\",\n",
    "            Div(\n",
    "                Button(\n",
    "                    'Details',\n",
    "                    hx_get=self.ar.to('details', pid=42),  # type: ignore\n",
    "                    hx_target='#products_list',\n",
    "                    hx_swap='outerHTML',\n",
    "                ),\n",
    "            ),\n",
    "            id='products_list',\n",
    "        )\n",
    "\n",
    "\n",
    "    @ar('/{pid}', name='details')  # or @ar('/{pid}') or @ar.get('/{pid}') or @ar.get('/{pid}', name='details')\n",
    "    def details(self, pid: int):\n",
    "        return f\"Here are the product details for ID: {pid}\"\n",
    "\n",
    "\n",
    "products = Products()\n",
    "add_routes(app, products, path='/products', name='products')\n",
    "\n",
    "products.ar.all_products.to(), str(products.ar.rt_funcs.details)  # type: ignore"
   ]
  },
  {
   "cell_type": "markdown",
   "metadata": {},
   "source": [
    "Since we specified the `path='/products'` when mounting our hypothetical object, all routes defined in that provider will be found under `/products`."
   ]
  },
  {
   "cell_type": "code",
   "execution_count": 77,
   "metadata": {
    "brd": {
     "id": "91ea3c86-a848-4c38-93aa-f027a7fcdcd6"
    }
   },
   "outputs": [
    {
     "data": {
      "text/html": [
       "<div id=\"_zHL8wdYcRTOG_5ipTI6mGg\">\n",
       "  <div hx-get=\"/products/all\" hx-swap=\"outerHTML\" id=\"_FkzEFojnQnK3hqfTbgCZAA\">Click me for a look at our products</div>\n",
       "</div>\n",
       "<script id=\"_7om5lvh5QF_UOqsa7J56Wg\">if (window.htmx) htmx.process(document.body)</script>"
      ],
      "text/markdown": [
       "```html\n",
       "<div hx-get=\"/products/all\" hx-swap=\"outerHTML\" id=\"_FkzEFojnQnK3hqfTbgCZAA\">Click me for a look at our products</div>\n",
       "\n",
       "```"
      ],
      "text/plain": [
       "div(('Click me for a look at our products',),{'hx-get': <fasthtml.core._mk_locfunc.<locals>._lf object at 0x16a1c4500>, 'hx-swap': 'outerHTML', 'id': '_FkzEFojnQnK3hqfTbgCZAA'})"
      ]
     },
     "execution_count": 77,
     "metadata": {},
     "output_type": "execute_result"
    }
   ],
   "source": [
    "Div(\n",
    "    \"Click me for a look at our products\",\n",
    "    hx_get=products.ar.all_products,  # type: ignore\n",
    "    hx_swap=\"outerHTML\",\n",
    ")"
   ]
  },
  {
   "cell_type": "markdown",
   "metadata": {},
   "source": [
    "Note how you can reference our python route functions via `APIRouter.rt_funcs` or `APIRouter.{name}` or `APIRouter.to('name')` in your `hx_{http_method}` calls like normal."
   ]
  },
  {
   "cell_type": "code",
   "execution_count": 78,
   "metadata": {
    "brd": {
     "id": "c2885329-2840-4f63-8c85-aac1d6920b82"
    }
   },
   "outputs": [],
   "source": [
    "server.stop()"
   ]
  },
  {
   "cell_type": "code",
   "execution_count": 79,
   "metadata": {
    "brd": {
     "id": "beece99a-39e1-4811-a064-4a08991eae5b"
    }
   },
   "outputs": [],
   "source": [
    "#| export\n",
    "\n",
    "ar = APIRoute"
   ]
  },
  {
   "cell_type": "markdown",
   "metadata": {},
   "source": [
    "# Colophon\n",
    "----\n"
   ]
  },
  {
   "cell_type": "code",
   "execution_count": 80,
   "metadata": {
    "brd": {
     "id": "9aea4207-9f97-4700-8298-83cd99a6f05f"
    }
   },
   "outputs": [],
   "source": [
    "import fastcore.all as FC\n",
    "import nbdev\n",
    "from nbdev.clean import nbdev_clean"
   ]
  },
  {
   "cell_type": "code",
   "execution_count": 81,
   "metadata": {
    "brd": {
     "id": "a8feacc2-e7a5-40d4-bc69-9c431e4556d4"
    }
   },
   "outputs": [],
   "source": [
    "if FC.IN_NOTEBOOK:\n",
    "    nb_path = '04_route_provider.ipynb'\n",
    "    # nbdev_clean(nb_path)\n",
    "    nbdev.nbdev_export(nb_path)"
   ]
  }
 ],
 "metadata": {
  "kernelspec": {
   "display_name": "Python 3",
   "language": "python",
   "name": "python3"
  },
  "language_info": {
   "codemirror_mode": {
    "name": "ipython",
    "version": 3
   },
   "file_extension": ".py",
   "mimetype": "text/x-python",
   "name": "python",
   "nbconvert_exporter": "python",
   "pygments_lexer": "ipython3",
   "version": "3.12.11"
  }
 },
 "nbformat": 4,
 "nbformat_minor": 2
}
