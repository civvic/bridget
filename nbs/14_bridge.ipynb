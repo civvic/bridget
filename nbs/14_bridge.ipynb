{
 "cells": [
  {
   "cell_type": "code",
   "execution_count": null,
   "metadata": {},
   "outputs": [],
   "source": [
    "#| default_exp bridge"
   ]
  },
  {
   "cell_type": "code",
   "execution_count": null,
   "metadata": {},
   "outputs": [],
   "source": [
    "#| export\n",
    "from __future__ import annotations"
   ]
  },
  {
   "cell_type": "markdown",
   "metadata": {},
   "source": [
    "# Bridge helpers\n",
    "\n",
    "WARNING: this notebook has many blocking calls to the frontend. Commands running all/above/below cells can be slow or fail (see [BlockingMixin](./10_bridge_widget.ipynb)). Simply run again the offending cell.\n",
    "\n",
    "Bridget is meant to be used interactively. In most cases running all cells should (and hopefully will) work Ok. But this notebook in particular is developing the bridge itself. It has lot of test/debug code and cells creating and re-creating widgets. `ipywidgets` and `AnyWidget` are finicky in this kind of situations. It also probably won't behave exactly in VSCode or Lab."
   ]
  },
  {
   "cell_type": "code",
   "execution_count": null,
   "metadata": {},
   "outputs": [],
   "source": [
    "import ipywidgets as W\n",
    "W.Widget.close_all()  # we don't want stale widgets around when developing"
   ]
  },
  {
   "cell_type": "markdown",
   "metadata": {},
   "source": [
    "# Prologue"
   ]
  },
  {
   "cell_type": "code",
   "execution_count": null,
   "metadata": {},
   "outputs": [],
   "source": [
    "#| export\n",
    "from collections.abc import Sequence\n",
    "from pathlib import Path\n",
    "from typing import Any\n",
    "from typing import overload\n",
    "from urllib.parse import ParseResult\n",
    "\n",
    "import anywidget\n",
    "import fastcore.all as FC\n",
    "import traitlets as T\n",
    "from fastcore.all import L\n",
    "from fastcore.all import NotStr\n",
    "from fastcore.xml import escape\n",
    "from fastcore.xml import to_xml\n",
    "from fasthtml.core import FT\n",
    "from fasthtml.xtend import Script\n",
    "from IPython.display import clear_output\n",
    "from IPython.display import display\n",
    "from olio.basic import bundle_path\n",
    "from olio.common import shorten\n",
    "from olio.common import shortens\n",
    "from olio.common import update_\n"
   ]
  },
  {
   "cell_type": "code",
   "execution_count": null,
   "metadata": {},
   "outputs": [],
   "source": [
    "import os\n",
    "os.environ['DEBUG_BRIDGET'] = 'True'"
   ]
  },
  {
   "cell_type": "code",
   "execution_count": null,
   "metadata": {},
   "outputs": [],
   "source": [
    "#| export\n",
    "\n",
    "from fasthtml.components import B, Details, Summary, Pre"
   ]
  },
  {
   "cell_type": "code",
   "execution_count": null,
   "metadata": {},
   "outputs": [],
   "source": [
    "#| export\n",
    "from bridget.bridge_widget import anysource\n",
    "from bridget.bridge_widget import blocks\n",
    "from bridget.bridge_widget import BridgeWidget\n",
    "from bridget.bridge_widget import bundled\n",
    "from bridget.bridge_widget import resolve_ESM\n",
    "from bridget.helpers import Brd_Mark\n",
    "from bridget.helpers import brdmark_js\n",
    "from bridget.helpers import bridge_cfg\n",
    "from bridget.helpers import DEBUG\n",
    "from bridget.helpers import HTML\n",
    "from bridget.helpers import id_gen\n",
    "from bridget.logger import FCanvas\n",
    "from bridget.logger import FCanvas_css\n",
    "from bridget.logger import FLogger\n",
    "from bridget.logger import NBLogger\n",
    "from bridget.logger import NoopLogger\n",
    "from bridget.nb import NB\n"
   ]
  },
  {
   "cell_type": "code",
   "execution_count": null,
   "metadata": {},
   "outputs": [],
   "source": [
    "import time\n",
    "\n",
    "import nbdev.config\n",
    "from fastcore.test import *\n",
    "from olio.common import setup_console\n",
    "from olio.widget import cleanupwidgets\n"
   ]
  },
  {
   "cell_type": "code",
   "execution_count": null,
   "metadata": {},
   "outputs": [],
   "source": [
    "from bridget.bridge_widget import _show\n",
    "from bridget.bridge_widget import ablocks\n"
   ]
  },
  {
   "cell_type": "code",
   "execution_count": null,
   "metadata": {},
   "outputs": [],
   "source": [
    "from fasthtml.components import Div, P, Pre, Text, Span"
   ]
  },
  {
   "cell_type": "markdown",
   "metadata": {},
   "source": [
    "----"
   ]
  },
  {
   "cell_type": "code",
   "execution_count": null,
   "metadata": {},
   "outputs": [],
   "source": [
    "IDISPLAY = display\n",
    "_n = '\\n'\n",
    "console, cprint = setup_console(140)\n",
    "# test_is(DEBUG(), True)"
   ]
  },
  {
   "cell_type": "code",
   "execution_count": null,
   "metadata": {},
   "outputs": [],
   "source": [
    "#| exporti\n",
    "\n",
    "new_id = id_gen()\n",
    "BUNDLE_PATH = bundle_path(__name__)\n",
    "# bridge_cfg.for_module(__name__)"
   ]
  },
  {
   "cell_type": "code",
   "execution_count": null,
   "metadata": {},
   "outputs": [
    {
     "name": "stdout",
     "output_type": "stream",
     "text": [
      "env: ANYWIDGET_HMR=0\n"
     ]
    }
   ],
   "source": [
    "%env ANYWIDGET_HMR=0"
   ]
  },
  {
   "cell_type": "markdown",
   "metadata": {},
   "source": [
    "----"
   ]
  },
  {
   "cell_type": "markdown",
   "metadata": {},
   "source": [
    "# Helpers"
   ]
  },
  {
   "cell_type": "code",
   "execution_count": null,
   "metadata": {},
   "outputs": [],
   "source": [
    "#| export\n",
    "\n",
    "def debug(jsstr: str): return f\"debugger;\\n{jsstr}\"\n",
    "def notdebug(jsstr: str): return jsstr"
   ]
  },
  {
   "cell_type": "code",
   "execution_count": null,
   "metadata": {},
   "outputs": [],
   "source": [
    "#| export\n",
    "\n",
    "def _to_js(ft):\n",
    "    if isinstance(ft, FT): \n",
    "        return [ft.tag, [_to_js(_) for _ in ft.children], ft.attrs]\n",
    "    return str(ft)\n",
    "\n",
    "def to_js(*fts: FT|str):\n",
    "    return f\"[\\n  {',\\n  '.join(repr(_to_js(_)) if isinstance(_, FT) else repr(_) for _ in fts)}\\n]\""
   ]
  },
  {
   "cell_type": "code",
   "execution_count": null,
   "metadata": {},
   "outputs": [],
   "source": [
    "a = Div(P('a'), P('aa'), id='a11')\n",
    "b = P('b', Span('bb'))\n",
    "\n",
    "test_eq(_to_js(a), ['div', [['p', ['a'], {}], ['p', ['aa'], {}]], {'id': 'a11'}])\n",
    "test_eq(_to_js(b), ['p', ['b', ['span', ['bb'], {}]], {}])\n",
    "\n",
    "test_eq(to_js(a, 'const a=`${\"a\"}`; console.log(a)', b), \"\"\"[\n",
    "  ['div', [['p', ['a'], {}], ['p', ['aa'], {}]], {'id': 'a11'}],\n",
    "  'const a=`${\"a\"}`; console.log(a)',\n",
    "  ['p', ['b', ['span', ['bb'], {}]], {}]\n",
    "]\"\"\")"
   ]
  },
  {
   "cell_type": "code",
   "execution_count": null,
   "metadata": {},
   "outputs": [],
   "source": [
    "a = Script('const a=`${\"a\"}`; console.log(a)')\n",
    "b = Script(src='https://unpkg.com/htmx.org@next/dist/htmx.js', type='module')\n",
    "\n",
    "test_eq(repr(_to_js(a)), \"['script', ['const a=`${\\\"a\\\"}`; console.log(a)'], {}]\")\n",
    "\n",
    "test_eq(to_js(a, b), \"\"\"[\n",
    "  ['script', ['const a=`${\"a\"}`; console.log(a)'], {}],\n",
    "  ['script', [''], {'src': 'https://unpkg.com/htmx.org@next/dist/htmx.js', 'type': 'module'}]\n",
    "]\"\"\")"
   ]
  },
  {
   "cell_type": "markdown",
   "metadata": {},
   "source": [
    "Quick & dirty way to convert `FT` to HTML elements int the front-end using `fasthtml-js` `$E`.  \n",
    "Intended only for \"linking\"/head elements (with void or text content): script, style, link, meta, etc. It'll surely fail with other elements."
   ]
  },
  {
   "cell_type": "code",
   "execution_count": null,
   "metadata": {},
   "outputs": [],
   "source": [
    "#| exporti\n",
    "\n",
    "def _safe(o, m='r', l=140): return escape(shorten(o, m, l), False)  # type: ignore"
   ]
  },
  {
   "cell_type": "code",
   "execution_count": null,
   "metadata": {},
   "outputs": [],
   "source": [
    "#| export\n",
    "\n",
    "class ScriptsDetails:\n",
    "    def __init__(self, scs, title='Loaded scripts', open=True): \n",
    "        self.scs = scs; self.title = title; self.open = open\n",
    "    def __ft__(self):\n",
    "        return Details(open=self.open)(\n",
    "            Summary(B(self.title)),\n",
    "            Pre(NotStr('\\n'.join(escape(to_xml(_, indent=False, do_escape=False).strip()) for _ in self.scs))),\n",
    "        )"
   ]
  },
  {
   "cell_type": "markdown",
   "metadata": {},
   "source": [
    "# Bridge scripts\n",
    "\n",
    "`HTMX` and other useful JS libraries."
   ]
  },
  {
   "cell_type": "code",
   "execution_count": null,
   "metadata": {},
   "outputs": [],
   "source": [
    "#| export\n",
    "\n",
    "def _bridge_scripts_extra():\n",
    "    from fasthtml.core import surrsrc, scopesrc\n",
    "    return {'surreal': surrsrc, 'css_scope_inline': scopesrc}\n",
    "\n",
    "def bridge_scripts(htmx=True):\n",
    "    from fasthtml.core import fhjsscr\n",
    "    from fasthtml.xtend import Script\n",
    "    htmxsrc = Script(src=f\"https://unpkg.com/htmx.org@next/dist/htmx.{'' if DEBUG() else 'min.'}js\")()\n",
    "    return update_({'htmx': htmxsrc } if htmx else {}, fasthtml_js=fhjsscr, **_bridge_scripts_extra())\n",
    "\n",
    "def show_scripts(**scs: FT): \n",
    "    display(HTML(ScriptsDetails(shortens(map(to_xml, scs.values()), 'r', 140))))"
   ]
  },
  {
   "cell_type": "code",
   "execution_count": null,
   "metadata": {},
   "outputs": [
    {
     "data": {
      "text/plain": [
       "{'htmx': script(('',),{'src': 'https://unpkg.com/htmx.org@next/dist/htmx.js'}),\n",
       " 'fasthtml_js': script((),{'src': 'https://cdn.jsdelivr.net/gh/answerdotai/fasthtml-js@1.0.12/fasthtml.js'}),\n",
       " 'surreal': script((),{'src': 'https://cdn.jsdelivr.net/gh/answerdotai/surreal@main/surreal.js'}),\n",
       " 'css_scope_inline': script((),{'src': 'https://cdn.jsdelivr.net/gh/gnat/css-scope-inline@main/script.js'})}"
      ]
     },
     "execution_count": null,
     "metadata": {},
     "output_type": "execute_result"
    }
   ],
   "source": [
    "bridge_scripts()"
   ]
  },
  {
   "cell_type": "code",
   "execution_count": null,
   "metadata": {},
   "outputs": [
    {
     "data": {
      "text/html": [
       "<details open><summary><b>Loaded scripts</b></summary><pre>&lt;script src=&quot;https://unpkg.com/htmx.org@next/dist/htmx.js&quot;&gt;&lt;/script&gt;\n",
       "&lt;script src=&quot;https://cdn.jsdelivr.net/gh/answerdotai/fasthtml-js@1.0.12/fasthtml.js&quot;&gt;&lt;/script&gt;\n",
       "&lt;script src=&quot;https://cdn.jsdelivr.net/gh/answerdotai/surreal@main/surreal.js&quot;&gt;&lt;/script&gt;\n",
       "&lt;script src=&quot;https://cdn.jsdelivr.net/gh/gnat/css-scope-inline@main/script.js&quot;&gt;&lt;/script&gt;</pre></details>"
      ],
      "text/plain": [
       "<bridget.helpers.HTML object>"
      ]
     },
     "metadata": {},
     "output_type": "display_data"
    }
   ],
   "source": [
    "show_scripts(**bridge_scripts())"
   ]
  },
  {
   "cell_type": "markdown",
   "metadata": {},
   "source": [
    "# BCanvas\n",
    "> `FCanvas` associated with a bridge.\n",
    "\n",
    "Configure the bridge logging system to display log traces here in the notebook, a convenience that alleviates the need to open the browser console.\n",
    "\n",
    "NOTE: BCanvas could be a `Bridge` plugin, but it's a separate widget instead in order to use another comm channels. (must check if we gain something by having different Comm channels, in the end ZMQD [uses](https://jupyter-server.readthedocs.io/en/latest/developers/websocket-protocols.html) one websocket under the hood, I think)"
   ]
  },
  {
   "cell_type": "code",
   "execution_count": null,
   "metadata": {},
   "outputs": [],
   "source": [
    "bcanvas_js = BUNDLE_PATH / 'js/bcanvas.js'\n",
    "bundled(bcanvas_js)();\n",
    "\n",
    "bridge_js = BUNDLE_PATH / 'js/bridge.js'\n",
    "bundled(bridge_js)();"
   ]
  },
  {
   "cell_type": "code",
   "execution_count": null,
   "metadata": {},
   "outputs": [],
   "source": [
    "#| exporti\n",
    "\n",
    "class BCanvas(FCanvas):\n",
    "    _esm = '''\n",
    "const { bcanvas } = await brdimport('./bcanvas.js');\n",
    "export default { initialize({ model }) {\n",
    "  bcanvas.setup(model);\n",
    "  model.set('_loaded', true); model.save_changes();\n",
    "  return () => {\n",
    "    bcanvas.setup();\n",
    "    model.set('_loaded', false); model.save_changes();\n",
    "  }\n",
    "}}\n",
    "'''\n",
    "    _css = FCanvas_css"
   ]
  },
  {
   "cell_type": "code",
   "execution_count": null,
   "metadata": {},
   "outputs": [],
   "source": [
    "#| export\n",
    "\n",
    "__bcanvas__ = None\n",
    "\n",
    "@FC.delegates(BCanvas, keep=True)  # type: ignore\n",
    "def get_bcanvas(**kwargs):\n",
    "    global __bcanvas__\n",
    "    if not __bcanvas__:\n",
    "        timeout, sleep = kwargs.pop('timeout', 2), kwargs.pop('sleep', 0.2)\n",
    "        __bcanvas__ = BCanvas.create(timeout=timeout, sleep=sleep, **kwargs)\n",
    "    return __bcanvas__"
   ]
  },
  {
   "cell_type": "code",
   "execution_count": null,
   "metadata": {},
   "outputs": [
    {
     "name": "stdout",
     "output_type": "stream",
     "text": [
      "moduleName='./bcanvas.js' buffers=[]\n",
      "moduleName='./fcanvas.js' buffers=[]\n",
      "moduleName='./bridge.js' buffers=[]\n",
      "moduleName='./observer.js' buffers=[]\n"
     ]
    }
   ],
   "source": [
    "cleanupwidgets('cnv')\n",
    "__bcanvas__ = None\n",
    "\n",
    "cnv = get_bcanvas(timeout=DEBUG(2, 2))                \n",
    "# test_eq(cnv.loaded(), True)  # in Lab something weird is happening here"
   ]
  },
  {
   "cell_type": "code",
   "execution_count": null,
   "metadata": {},
   "outputs": [
    {
     "data": {
      "text/html": [
       "<div id='brd-logger_1-1758022132' class='brd-logger' style='width: 100%; max-height: 200px;'></div>"
      ],
      "text/plain": [
       "<bridget.helpers.HTML object>"
      ]
     },
     "metadata": {},
     "output_type": "display_data"
    }
   ],
   "source": [
    "cnv.show()"
   ]
  },
  {
   "cell_type": "code",
   "execution_count": null,
   "metadata": {},
   "outputs": [],
   "source": [
    "cnv.add('Why Universe, why?<br>')"
   ]
  },
  {
   "cell_type": "markdown",
   "metadata": {},
   "source": [
    "# BLogger\n",
    "> `FLogger` subclass used by Bridge."
   ]
  },
  {
   "cell_type": "code",
   "execution_count": null,
   "metadata": {},
   "outputs": [],
   "source": [
    "#| export\n",
    "\n",
    "class BLogger(FLogger):\n",
    "    canvas: BCanvas\n",
    "\n",
    "    def _setup_canvas(self, height:int): self._canvas = get_bcanvas(height=height)\n",
    "    def close_canvas(self): ...\n",
    "    def msg(self, msg, clear:bool=False, ctx:str='logger', **kwargs):\n",
    "        super().msg(msg, clear=clear, ctx=ctx, format=self.canvas is None or (not self.canvas.displayed()), **kwargs)"
   ]
  },
  {
   "cell_type": "code",
   "execution_count": null,
   "metadata": {},
   "outputs": [
    {
     "data": {
      "text/html": [
       "<div id='brd-logger_2-1758022132' class='brd-logger' style='width: 100%; max-height: 200px;'></div>"
      ],
      "text/plain": [
       "<bridget.helpers.HTML object>"
      ]
     },
     "metadata": {},
     "output_type": "display_data"
    }
   ],
   "source": [
    "lgr = BLogger('BLogger initialized')"
   ]
  },
  {
   "cell_type": "code",
   "execution_count": null,
   "metadata": {},
   "outputs": [],
   "source": [
    "lgr.log('test')"
   ]
  },
  {
   "cell_type": "code",
   "execution_count": null,
   "metadata": {},
   "outputs": [],
   "source": [
    "lgr.error('test')"
   ]
  },
  {
   "cell_type": "code",
   "execution_count": null,
   "metadata": {},
   "outputs": [],
   "source": [
    "lgr.warn('test')"
   ]
  },
  {
   "cell_type": "code",
   "execution_count": null,
   "metadata": {},
   "outputs": [],
   "source": [
    "lgr.log('bbbb')"
   ]
  },
  {
   "cell_type": "code",
   "execution_count": null,
   "metadata": {},
   "outputs": [],
   "source": [
    "lgr.log('cccccc', True)"
   ]
  },
  {
   "cell_type": "code",
   "execution_count": null,
   "metadata": {},
   "outputs": [
    {
     "data": {
      "text/html": [
       "<div id='brd-logger_3-1758022132' class='brd-logger' style='width: 100%; max-height: 200px;'></div>"
      ],
      "text/plain": [
       "<bridget.helpers.HTML object>"
      ]
     },
     "metadata": {},
     "output_type": "display_data"
    }
   ],
   "source": [
    "lgr.show()"
   ]
  },
  {
   "cell_type": "code",
   "execution_count": null,
   "metadata": {},
   "outputs": [],
   "source": [
    "lgr.log('ddddddddd')"
   ]
  },
  {
   "cell_type": "markdown",
   "metadata": {},
   "source": [
    "Log directly."
   ]
  },
  {
   "cell_type": "markdown",
   "metadata": {},
   "source": [
    "# Bridge bootstrap"
   ]
  },
  {
   "cell_type": "code",
   "execution_count": null,
   "metadata": {},
   "outputs": [],
   "source": [
    "#| export\n",
    "\n",
    "defaultLogConfig = {\n",
    "    'ns': 'brd',\n",
    "    'color': 'light-dark(gray, lightgray)', # #fdc400 darkgoldenrod gold\n",
    "    'fmt': 'htmlFmt',\n",
    "    'tsDelta': True,\n",
    "    'INFO': {},\n",
    "    'ERROR': {\n",
    "        'color': 'red',\n",
    "    },\n",
    "    'WARN': {\n",
    "        'color': 'LightSalmon',\n",
    "    },\n",
    "}"
   ]
  },
  {
   "cell_type": "markdown",
   "metadata": {},
   "source": [
    "## BridgeBoot\n",
    "> Simply setup the bridge and connect logging."
   ]
  },
  {
   "cell_type": "code",
   "execution_count": null,
   "metadata": {},
   "outputs": [],
   "source": [
    "#| exporti\n",
    "\n",
    "__brd__ = None\n",
    "\n",
    "def _get_bridge(): return __brd__\n",
    "\n",
    "def _set_bridge(value):\n",
    "    global __brd__\n",
    "    __brd__ = value\n",
    "\n",
    "\n",
    "class BridgeBoot(BridgeWidget):\n",
    "    _esm = '''\n",
    "const { bcanvas } = await brdimport('./bcanvas.js');\n",
    "const { initBridge } = await brdimport('./bridge.js');\n",
    "\n",
    "export default { async initialize({ model, experimental }) {\n",
    "// debugger;\n",
    "  try {\n",
    "    const cb = await initBridge(model, experimental.invoke);\n",
    "    model.set('_loaded', true); model.save_changes();\n",
    "    return () => { cb(); model.set('_loaded', false); model.save_changes(); };\n",
    "  } catch (e) {\n",
    "    console.error('Error initializing bridge', e);\n",
    "  }\n",
    "}}\n",
    "'''\n",
    "    _css = FCanvas_css\n",
    "\n",
    "    ctx_name = T.Unicode('brd').tag(sync=True)\n",
    "    logger = T.Instance(NBLogger, default_value=NoopLogger())\n",
    "    logger_config = T.Dict(default_value=defaultLogConfig).tag(sync=True)\n",
    "\n",
    "    def __init__(self, logger=None, show_logger=False, **kwargs):\n",
    "        if logger is None: logger = BLogger(show=show_logger)\n",
    "        elif show_logger: self.logger.show()\n",
    "        self.on_msg(self._message_hdlr)\n",
    "        super().__init__(logger=logger, **kwargs)\n",
    "    @T.observe('_loaded')\n",
    "    def _on_loaded(self, change):\n",
    "        _set_bridge(self if change['new'] else None)\n",
    "        self.log(f\"<strong>The bridge is {('closed', 'open')[change['new']]}</strong>\")\n",
    "    def close(self):\n",
    "        if self.comm is not None:\n",
    "            self.send(dict(ctx=self.ctx_name, cmd='remove'))\n",
    "            self._on_loaded(FC.AttrDict(new=False))\n",
    "        super().close()\n",
    "\n",
    "    def _message_hdlr(self, _, content, buffers):\n",
    "        self.log(f\"handle message: content=<code>{_safe(content)}</code>\"\n",
    "                f\"{' buffers=><code>'+_safe(buffers)+'</code>' if buffers else ''}\")\n",
    "\n",
    "    def update_logger_config(self, **kwargs): self.logger_config = { **self.logger_config, **kwargs }\n",
    "\n",
    "    def log(self, msg:Any, clear:bool=False): self.logger.msg(f\"*{msg}\", clear=clear, ctx=self.ctx_name, level='LOG')\n",
    "    def error(self, msg:Any, clear:bool=False): self.logger.msg(f\"*{msg}\", clear=clear, ctx=self.ctx_name, level='ERROR')\n",
    "    def warn(self, msg:Any, clear:bool=False): self.logger.msg(f\"*{msg}\", clear=clear, ctx=self.ctx_name, level='WARN')\n",
    "\n",
    "# for n,l in _l2l.items(): setattr(BridgeBoot, n, partialmethod(BridgeBoot._log, level=l))"
   ]
  },
  {
   "cell_type": "code",
   "execution_count": null,
   "metadata": {},
   "outputs": [
    {
     "data": {
      "text/html": [
       "<div id='brd-logger_4-1758022132' class='brd-logger' style='width: 100%; max-height: 200px;'></div>"
      ],
      "text/plain": [
       "<bridget.helpers.HTML object>"
      ]
     },
     "metadata": {},
     "output_type": "display_data"
    }
   ],
   "source": [
    "cleanupwidgets('brd')\n",
    "\n",
    "brd = BridgeBoot.create(show_logger=True, timeout=DEBUG(2, 2), sleep=0.2)\n",
    "test_eq(brd.loaded(), True)"
   ]
  },
  {
   "cell_type": "markdown",
   "metadata": {},
   "source": [
    "Note `create` blocks, it waits for the widget to be loaded (or the default timeout, see `BlockingMixin`)."
   ]
  },
  {
   "cell_type": "code",
   "execution_count": null,
   "metadata": {},
   "outputs": [],
   "source": [
    "brd.error('Erred!')"
   ]
  },
  {
   "cell_type": "code",
   "execution_count": null,
   "metadata": {},
   "outputs": [],
   "source": [
    "brd.update_logger_config(color='darkgoldenrod')  # type: ignore"
   ]
  },
  {
   "cell_type": "code",
   "execution_count": null,
   "metadata": {},
   "outputs": [],
   "source": [
    "brd.log('my trea~~sssure')"
   ]
  },
  {
   "cell_type": "markdown",
   "metadata": {},
   "source": [
    "`lgr` now that the bridge is opened reflects both frontend and kernel log messages and uses the JS bridge logging functionality."
   ]
  },
  {
   "cell_type": "code",
   "execution_count": null,
   "metadata": {},
   "outputs": [],
   "source": [
    "scr = Script('''\n",
    "const { bridge } = await brdimport('./bridge.js');\n",
    "bridge.logger.log('Hi from JS land');\n",
    "''', type='module')\n",
    "display(HTML(scr))\n",
    "time.sleep(0.1)\n",
    "clear_output()"
   ]
  },
  {
   "cell_type": "markdown",
   "metadata": {},
   "source": [
    "Log from JS land."
   ]
  },
  {
   "cell_type": "code",
   "execution_count": null,
   "metadata": {},
   "outputs": [],
   "source": [
    "@FC.delegates(BridgeBoot, keep=True)  # type: ignore\n",
    "def get_bridge(logger:NBLogger|None=None, show_logger:bool=False, **kwargs) -> BridgeBoot:\n",
    "    if not __brd__:\n",
    "        timeout, sleep = kwargs.pop('timeout', 2), kwargs.pop('sleep', 0.2)\n",
    "        brd = BridgeBoot.create(logger=logger, show_logger=show_logger, timeout=timeout, sleep=sleep, **kwargs)\n",
    "        return brd\n",
    "    assert __brd__ is not None\n",
    "    brd:BridgeBoot = __brd__\n",
    "    if logger: brd.logger = logger\n",
    "    if show_logger: brd.logger.show()\n",
    "    return brd"
   ]
  },
  {
   "cell_type": "code",
   "execution_count": null,
   "metadata": {},
   "outputs": [
    {
     "data": {
      "text/html": [
       "<div id='brd-logger_5-1758022132' class='brd-logger' style='width: 100%; max-height: 200px;'></div>"
      ],
      "text/plain": [
       "<bridget.helpers.HTML object>"
      ]
     },
     "metadata": {},
     "output_type": "display_data"
    }
   ],
   "source": [
    "brd = get_bridge(show_logger=True)\n",
    "test_is(get_bridge(), brd)"
   ]
  },
  {
   "cell_type": "code",
   "execution_count": null,
   "metadata": {},
   "outputs": [],
   "source": [
    "brd.close()\n",
    "test_is(__brd__ is None, True)"
   ]
  },
  {
   "cell_type": "markdown",
   "metadata": {},
   "source": [
    "`close()` disconnect the widget and remove the widget model from the JS bridge, so it can no longer communicate with the Python side. Besides that, it has no effect on `bcanvas`, or the modules imported with `brdimport`. Create a new bridge to reconnect.\n",
    "\n",
    "We need to use AnyWidget to setup the JS bridge, a class. The python side of the bridge should be created once per notebook, no sense to have several bridges around.\n",
    "\n",
    "Given the nearly impossibility of creating class singletons in Python even with metaclasses, in previous refactorizations, I've used `SingletonConfigurable` a-la-`getipython`. It works very well but it uglify the code.\n",
    "\n",
    "Anyway, given we're-all-adults-here, you should always use `get_bridge` to access the bridge instance."
   ]
  },
  {
   "cell_type": "code",
   "execution_count": null,
   "metadata": {},
   "outputs": [
    {
     "data": {
      "text/html": [
       "<div id='brd-logger_6-1758022132' class='brd-logger' style='width: 100%; max-height: 200px;'></div>"
      ],
      "text/plain": [
       "<bridget.helpers.HTML object>"
      ]
     },
     "metadata": {},
     "output_type": "display_data"
    }
   ],
   "source": [
    "brd = get_bridge(show_logger=True)"
   ]
  },
  {
   "cell_type": "markdown",
   "metadata": {},
   "source": [
    "# Messages from the beyond"
   ]
  },
  {
   "cell_type": "markdown",
   "metadata": {},
   "source": [
    "## handle_message"
   ]
  },
  {
   "cell_type": "code",
   "execution_count": null,
   "metadata": {},
   "outputs": [],
   "source": [
    "#| exporti\n",
    "\n",
    "def handle_message(\n",
    "        o: Any, \n",
    "        *args: Any, \n",
    "        ctx:str, kind:str, \n",
    "        prefix:str='on_', forward:bool=True, forward_name:str='_msg_fwrdr', \n",
    "        **kwargs: Any):\n",
    "    \"\"\"if `o` has an attr named `ctx`, look for a handler with the form `on_{kind}` \n",
    "    passing the rest of `msg` and `args` to it. \n",
    "    If `forward`and `o` has an attr named `forward_name`, call it with `o`, `msg` and `args`.\"\"\"\n",
    "    # print(f\"handle_message: {o=} {args=} {ctx=}, {kind=} {kwargs=}\")\n",
    "    if o:\n",
    "        if ctx in getattr(o, 'ctx_names', ()) and (fn := getattr(o, f\"{prefix}{kind}\", None)): fn(*args, **kwargs)\n",
    "        if forward and (fn := getattr(o, forward_name, None)): fn(*args, ctx=ctx, kind=kind, **kwargs)"
   ]
  },
  {
   "cell_type": "code",
   "execution_count": null,
   "metadata": {},
   "outputs": [],
   "source": [
    "class _A:\n",
    "    ctx_names={'A'}\n",
    "    def __init__(self): self.forward = _B()\n",
    "    def on_info(self, *args, **kwargs): \n",
    "        print('A', 'info', f\"{args=}\", f\"{kwargs=}\")\n",
    "    def _msg_fwrdr(self, *args, ctx:str, kind:str, **kwargs):\n",
    "        if ctx == 'B':\n",
    "            handle_message(self.forward, *args, ctx=ctx, kind=kind, **kwargs)\n",
    "        else:\n",
    "            print(f\"{ctx=} Not forwarded\")\n",
    "\n",
    "class _B:\n",
    "    ctx_names={'B'}\n",
    "    def on_info(self, *args, **kwargs):\n",
    "        print('B', 'info', f\"{args=}\", f\"{kwargs=}\")\n",
    "\n",
    "a = _A()\n",
    "test_stdout(\n",
    "    lambda: handle_message(a, 'hello', ctx='A', kind='info', info='initialized'), \n",
    "    \"A info args=('hello',) kwargs={'info': 'initialized'}\\nctx='A' Not forwarded\")\n",
    "test_stdout(\n",
    "    lambda: handle_message(a, 'other', ctx='B', kind='info', info='forwarded'), \n",
    "    \"B info args=('other',) kwargs={'info': 'forwarded'}\")"
   ]
  },
  {
   "cell_type": "markdown",
   "metadata": {},
   "source": [
    "## BridgeMessenger\n",
    "> A bridge that can receive messages from JS land.\n",
    "\n",
    "BridgeBoot just loads the JS bridge and setup logging. Here we set the basis for more powerful messaging to and fro JS."
   ]
  },
  {
   "cell_type": "code",
   "execution_count": null,
   "metadata": {},
   "outputs": [],
   "source": [
    "#| exporti\n",
    "\n",
    "@FC.delegates(BridgeBoot, keep=True)  # type: ignore\n",
    "class BridgeMessenger(BridgeBoot):\n",
    "    ctx_names: set[str]\n",
    "\n",
    "    def __init__(self, **kwargs):\n",
    "        self._pending = {}\n",
    "        super().__init__(**kwargs)\n",
    "        # Warning: As AnyWidget calls `self.add_traits()`, \n",
    "        # `self.__class__` before `super()__init__` is not `self.__class__` now\n",
    "        self.ctx_names = set(L(type(self).mro()).attrgot('ctx_name.default_value').filter())\n",
    "\n",
    "    def on_info(self, *args, info:str, **kwargs):\n",
    "        \"Handle 'info' messages from the front-end.\"\n",
    "        if info == 'loaded':\n",
    "            self.log(f\"{self.__class__.__name__} loaded.\")\n",
    "            self.log(f\"bridge_cfg: {vars(bridge_cfg)}\")\n",
    "        elif info == 'model-set':\n",
    "            self.log(f\"{self.__class__.__name__} model set.\")\n",
    "        elif info == 'model-unset':\n",
    "            self.log(f\"{self.__class__.__name__} model unset.\")\n",
    "\n",
    "    def on_error(self, *args, error:str, **kwargs):\n",
    "        \"Handle 'error' messages from the front-end.\"\n",
    "        self.log(f\"{self.__class__.__name__} error: {error}\")\n",
    "\n",
    "    def debug_enabled(self, ctx:str|None=None, enabled=True, **kwargs):\n",
    "        \"Switch debug logs.\"\n",
    "        self.send({'ctx': self.ctx_name, 'cmd': 'debug', \n",
    "                'args': {'debug_ctx': ctx or self.ctx_name, 'enabled': enabled, **kwargs}})\n",
    "    \n",
    "    def msg(self, tracker:Any=None, **kwargs):\n",
    "        \"Compose a message with tracking.\"\n",
    "        msg_id = new_id()\n",
    "        if tracker: self._pending[msg_id] = tracker\n",
    "        return update_(kwargs, msg_id=msg_id)\n",
    "    def _message_hdlr(self, _, content, buffers):\n",
    "        \"Front-end message hub for all ctx handlers.\"\n",
    "        self.log(f\"handle message: content=<code>{_safe(content)}</code>\"\n",
    "                f\"{' buffers=<code>'+_safe(buffers)+'</code>' if buffers else ''}\")\n",
    "        if 'ctx' in content:\n",
    "            tracker = self._pending.get(msg_id := content.get('msg_id'))\n",
    "            try: handle_message(self, buffers, **content, tracker=tracker)\n",
    "            finally: self._pending.pop(msg_id, None)\n",
    "    \n",
    "    def _msg_fwrdr(self, *args, ctx:str, kind:str, **kwargs):\n",
    "        \"Forward message to the appropriate ctx handler.\"\n",
    "        if ctx not in self.ctx_names:\n",
    "            self.warn(f\"Unknown forward ctx '{ctx}' {kind=} kwargs=<code>{_safe(kwargs)}</code>\")"
   ]
  },
  {
   "cell_type": "code",
   "execution_count": null,
   "metadata": {},
   "outputs": [],
   "source": [
    "@FC.delegates(BridgeMessenger, keep=True)  # type: ignore\n",
    "def get_bridge(logger:NBLogger|None=None, show_logger:bool=False, **kwargs):\n",
    "    if not __brd__: \n",
    "        timeout, sleep = kwargs.pop('timeout', 3), kwargs.pop('sleep', 0.2)\n",
    "        brd = BridgeMessenger.create(logger=logger, show_logger=show_logger, timeout=timeout, sleep=sleep, **kwargs)\n",
    "        return brd\n",
    "    assert __brd__ is not None\n",
    "    brd = __brd__\n",
    "    if logger: brd.logger = logger\n",
    "    if not logger and show_logger: brd.logger.show()\n",
    "    return brd"
   ]
  },
  {
   "cell_type": "code",
   "execution_count": null,
   "metadata": {},
   "outputs": [
    {
     "data": {
      "text/html": [
       "<div id='brd-logger_7-1758022132' class='brd-logger' style='width: 100%; max-height: 200px;'></div>"
      ],
      "text/plain": [
       "<bridget.helpers.HTML object>"
      ]
     },
     "metadata": {},
     "output_type": "display_data"
    }
   ],
   "source": [
    "cleanupwidgets('brd')\n",
    "\n",
    "brd = get_bridge(show_logger=True, timeout=DEBUG(2, 2))"
   ]
  },
  {
   "cell_type": "code",
   "execution_count": null,
   "metadata": {},
   "outputs": [],
   "source": [
    "brd.debug_enabled('loader', enabled=True)"
   ]
  },
  {
   "cell_type": "code",
   "execution_count": null,
   "metadata": {},
   "outputs": [],
   "source": [
    "brd.send(brd.msg(ctx='brd', cmd='echo', args='test'))"
   ]
  },
  {
   "cell_type": "code",
   "execution_count": null,
   "metadata": {},
   "outputs": [],
   "source": [
    "msg = dict(ctx='loader', cmd='load', args={'confetti': 'https://esm.sh/canvas-confetti@1.6'}, timeout=DEBUG(1))\n",
    "brd.send(msg)"
   ]
  },
  {
   "cell_type": "code",
   "execution_count": null,
   "metadata": {},
   "outputs": [
    {
     "data": {
      "text/plain": [
       "({'ctx': 'loader',\n",
       "  'kind': 'load',\n",
       "  'success': ['get_observer'],\n",
       "  'failed': [],\n",
       "  'msg_id': 'msg-8'},\n",
       " [])"
      ]
     },
     "execution_count": null,
     "metadata": {},
     "output_type": "execute_result"
    }
   ],
   "source": [
    "observer_loader = anysource('''\n",
    "const { getObserverManager } = await brdimport('./observer.js');\n",
    "console.log(getObserverManager)\n",
    "''')\n",
    "\n",
    "brd.send(dict(ctx='loader', cmd='load', args={'get_observer': observer_loader}, reload=True), timeout=DEBUG(1))"
   ]
  },
  {
   "cell_type": "code",
   "execution_count": null,
   "metadata": {},
   "outputs": [
    {
     "data": {
      "text/plain": [
       "({'ctx': 'loader',\n",
       "  'kind': 'load',\n",
       "  'success': [],\n",
       "  'failed': [{'name': 'willfail',\n",
       "    'error': 'Failed to fetch dynamically imported module: https://a.com/b/c.js'}],\n",
       "  'msg_id': 'msg-9'},\n",
       " [])"
      ]
     },
     "execution_count": null,
     "metadata": {},
     "output_type": "execute_result"
    }
   ],
   "source": [
    "src = '''\n",
    "const res = await brdimport('https://a.com/b/c.js');\n",
    "console.log(res)\n",
    "'''\n",
    "\n",
    "brd.send(dict(ctx='loader', cmd='load', args={'willfail': src}, reload=True), timeout=DEBUG(1))"
   ]
  },
  {
   "cell_type": "markdown",
   "metadata": {},
   "source": [
    "`anysource` doesn't transform its arguments. Use `bundled` (i.e., `Bundle.__call__(..., transform=True)`, the default), instead.\n",
    "\n",
    "You can disabled JS transform completely with `bridge.cfg.bundle_cfg.rewrite_imports`."
   ]
  },
  {
   "cell_type": "code",
   "execution_count": null,
   "metadata": {},
   "outputs": [
    {
     "data": {
      "text/plain": [
       "({'ctx': 'loader',\n",
       "  'kind': 'load',\n",
       "  'success': ['load_confetti'],\n",
       "  'failed': [],\n",
       "  'msg_id': 'msg-10'},\n",
       " [])"
      ]
     },
     "execution_count": null,
     "metadata": {},
     "output_type": "execute_result"
    }
   ],
   "source": [
    "src = bundled('''\n",
    "import confetti from 'https://esm.sh/canvas-confetti@1.6';\n",
    "console.log(confetti)\n",
    "''')(transform=False)\n",
    "\n",
    "brd.send(dict(ctx='loader', cmd='load', args={'load_confetti': src}), timeout=DEBUG(1))"
   ]
  },
  {
   "cell_type": "markdown",
   "metadata": {},
   "source": [
    "Check the JS console network tab, we imported the `confetti` module previously."
   ]
  },
  {
   "cell_type": "code",
   "execution_count": null,
   "metadata": {},
   "outputs": [
    {
     "data": {
      "text/plain": [
       "({'ctx': 'loader',\n",
       "  'kind': 'load',\n",
       "  'success': ['load_confetti'],\n",
       "  'failed': [],\n",
       "  'msg_id': 'msg-11'},\n",
       " [])"
      ]
     },
     "execution_count": null,
     "metadata": {},
     "output_type": "execute_result"
    }
   ],
   "source": [
    "src = anysource('''\n",
    "const { confetti } = await brdimport('https://esm.sh/canvas-confetti@1.6');\n",
    "console.log(confetti)\n",
    "''')\n",
    "\n",
    "brd.send(dict(ctx='loader', cmd='load', args={'load_confetti': src}, reload=True), timeout=DEBUG(1))"
   ]
  },
  {
   "cell_type": "markdown",
   "metadata": {},
   "source": [
    "`brdimport` doesn't re-import `confetti` too.\n",
    "\n",
    "Note the `reload` argument of the `send` method. `bridge` caches the modules by name and URL, and we're reusing `load_confetti` name.\n",
    "\n",
    "Use `cache=False` if you don't want `bridge` caching the module."
   ]
  },
  {
   "cell_type": "markdown",
   "metadata": {},
   "source": [
    "# Linking elements loader\n",
    "> `script` (and other links) loader for notebooks.\n",
    "\n",
    "`FastHTML` way of loading `head` elements is fine with standard web apps, `head` links are evaluated in order (unless they have `async` or `defer` attributes) if present in the HTML source.\n",
    "\n",
    "In notebooks, we need to load those `head` elements dinamically in order (in `head`, `body` or anywhere of the front-end page). And we want to load `fasthtml.js` (and `htmx.js` because why not) as soon as possible, so we can use them in the same cell to define our JS extensions.\n",
    "\n",
    "Assuming we've already loaded `fasthtml.js`, this is a possible solution:"
   ]
  },
  {
   "cell_type": "code",
   "execution_count": null,
   "metadata": {},
   "outputs": [],
   "source": [
    "#| export\n",
    "\n",
    "def Links(*fts: FT):\n",
    "    return Script(notdebug(\"\"\"\n",
    "if (window.$Ls) requestAnimationFrame(() => $Ls(%s));\n",
    "\"\"\" % to_js(*fts)), type='module')"
   ]
  },
  {
   "cell_type": "code",
   "execution_count": null,
   "metadata": {},
   "outputs": [],
   "source": [
    "#| export\n",
    "\n",
    "def load_links(*fts: FT, feedback: str=''):\n",
    "    dh = display(HTML(to_xml(Links(*fts)) + feedback), display_id=True)\n",
    "    # if not feedback and dh: dh.update(HTML(''))\n",
    "    if not feedback: clear_output()"
   ]
  },
  {
   "cell_type": "code",
   "execution_count": null,
   "metadata": {},
   "outputs": [
    {
     "data": {
      "text/html": [
       "<div id='brd-logger_8-1758022132' class='brd-logger' style='width: 100%; max-height: 200px;'></div>"
      ],
      "text/plain": [
       "<bridget.helpers.HTML object>"
      ]
     },
     "metadata": {},
     "output_type": "display_data"
    }
   ],
   "source": [
    "brd.logger.show()"
   ]
  },
  {
   "cell_type": "code",
   "execution_count": null,
   "metadata": {},
   "outputs": [],
   "source": [
    "scr = Script(notdebug('''\n",
    "const { bridge } = await brdimport('./bridge.js');\n",
    "bridge.logger.log('silly script');\n",
    "'''), id='silly-script', type='module')\n",
    "\n",
    "load_links(scr)"
   ]
  },
  {
   "cell_type": "code",
   "execution_count": null,
   "metadata": {},
   "outputs": [],
   "source": [
    "load_links(scr)  # see console, script was not loaded twice"
   ]
  },
  {
   "cell_type": "markdown",
   "metadata": {},
   "source": [
    "`load_links` can be used to load any link element in the front-end in order (if bridge is active). It will auto delete the script after links are loaded if `feedback` is None so the link won't be reflected in the `.ipynb` file and loaded automatically on page open.\n",
    "\n",
    "Unfortunately, in some Jupyter environments like VSCode, this only works if the cell is visible in the screen and is run interactively, not with `all below` or `all above`. VSCode only renders outputs that are visible. For an alternative, see `Loader` below.\n"
   ]
  },
  {
   "cell_type": "code",
   "execution_count": null,
   "metadata": {},
   "outputs": [
    {
     "data": {
      "text/markdown": [
       "```html\n",
       "<b>a</b>\n",
       "```"
      ],
      "text/plain": [
       "b(('a',),{})"
      ]
     },
     "execution_count": null,
     "metadata": {},
     "output_type": "execute_result"
    }
   ],
   "source": [
    "B('a')"
   ]
  },
  {
   "cell_type": "markdown",
   "metadata": {},
   "source": [
    "# BridgePlugin"
   ]
  },
  {
   "cell_type": "code",
   "execution_count": null,
   "metadata": {},
   "outputs": [],
   "source": [
    "#| export\n",
    "\n",
    "class BridgePlugin(FC.GetAttr):\n",
    "    _default = 'bridge'; _xtra = ['send', 'asend', 'msg', '_pending']\n",
    "    bridge:Bridge  # type: ignore\n",
    "    def __init__(self, ctx:str='', src:str|Path='', bridge=None):\n",
    "        self.is_initialized = None\n",
    "        self.ctx_name, self.src = ctx or self.ctx_name, src or getattr(self, 'src', '')\n",
    "        self.ctx_names = {self.ctx_name} | set(L(type(self).mro()).attrgot('ctx_name').filter())\n",
    "        if bridge: self.bridge = bridge\n",
    "    def on_init(self, *args, info:str, **kwargs):\n",
    "        if info == 'initialized':\n",
    "            self.is_initialized = True\n",
    "            self.log(f\"Plugin '{self.ctx_name}' initialized\")\n",
    "        else:\n",
    "            self.is_initialized = False\n",
    "            self.log(f\"Can't initialize plugin: <code>{info}</code>\")\n",
    "    def log(self, msg:Any, clear:bool=False): self.bridge.logger.msg(f\"*{msg}\", clear=clear, ctx=self.ctx_name, level='LOG')\n",
    "    def error(self, msg:Any, clear:bool=False): self.bridge.logger.msg(f\"*{msg}\", clear=clear, ctx=self.ctx_name, level='ERROR')\n",
    "    def warn(self, msg:Any, clear:bool=False): self.bridge.logger.msg(f\"*{msg}\", clear=clear, ctx=self.ctx_name, level='WARN')"
   ]
  },
  {
   "cell_type": "code",
   "execution_count": null,
   "metadata": {},
   "outputs": [],
   "source": [
    "plg = BridgePlugin('test', 'a=10')\n",
    "test_eq(plg.ctx_name, 'test')\n",
    "test_eq(plg.ctx_names, {'test'})\n",
    "test_eq(plg.src, 'a=10')"
   ]
  },
  {
   "cell_type": "markdown",
   "metadata": {},
   "source": [
    "# Bridge\n",
    "> BridgeWidget + plugins to extend Bridge functionality in Python and/or JavaScript.\n",
    "\n",
    "`BridgeWidget` contains the core functionality, logging and JS loading. All other stuff in this project will be developed with plugins."
   ]
  },
  {
   "cell_type": "code",
   "execution_count": null,
   "metadata": {},
   "outputs": [],
   "source": [
    "#| exporti\n",
    "\n",
    "@FC.delegates(BridgeMessenger, keep=True)  # type: ignore\n",
    "class Bridge(BridgeMessenger):\n",
    "    state: NB\n",
    "    def __init__(self, *plugins:BridgePlugin, kwplugins:dict[str, str]|None=None, **kwargs):\n",
    "        self.plugins = {  # stubs for default plugins\n",
    "            'loader': BridgePlugin('loader', bridge=self), \n",
    "            'htmx': BridgePlugin('htmx', bridge=self), \n",
    "            'fasthtmljs': BridgePlugin('fasthtmljs', bridge=self)}\n",
    "        self._init_plugins = (plugins, kwplugins)\n",
    "        super().__init__(**kwargs)\n",
    "\n",
    "    def _msg_fwrdr(self, *args, ctx:str, kind:str, **kwargs):\n",
    "        if ctx in self.plugins:\n",
    "            handle_message(self.plugins[ctx], *args, ctx=ctx, kind=kind, **kwargs)\n",
    "        elif ctx not in self.ctx_names:\n",
    "            self.warn(f\"Unknown forward ctx '{ctx}' {kind=} {kwargs=}\")\n",
    "\n",
    "    @property\n",
    "    def loader(self) -> Loader: return self.plugins['loader']  # type: ignore\n",
    "    def __getattr__(self, name:str):\n",
    "        if name in self.plugins: return self.plugins[name]\n",
    "        raise AttributeError(f\"Bridge has no plugin '{name}'\")\n",
    "\n",
    "    def add_plugins(self, *plugins:BridgePlugin, kwplugins:dict[str, str]|None=None, wait:int=0):\n",
    "        if plugins or kwplugins:\n",
    "            kwplugins = kwplugins or {}\n",
    "            args, pp = {}, plugins + tuple(BridgePlugin(*t) for t in kwplugins.items())\n",
    "            self.log(f\"Adding plugins: {', '.join(p.ctx_name for p in pp)}\")\n",
    "            for p in pp:\n",
    "                p.bridge = self\n",
    "                self.plugins[p.ctx_name] = p\n",
    "                if p.src: args[p.ctx_name] = anysource(p.src)\n",
    "                else: handle_message(self, None, ctx=p.ctx_name, kind='init', info='initialized')\n",
    "            if args:\n",
    "                self.send(self.msg(ctx='loader', cmd='loadPlugins', args=args))\n",
    "                if wait: blocks(lambda: all(self.plugins[k].is_initialized != None for k in args), wait)\n",
    "    \n",
    "    def on_info(self, *args, info:str, **kwargs):\n",
    "        super().on_info(*args, info=info, **kwargs)\n",
    "        if info == 'loaded':\n",
    "            self.add_plugins(*self._init_plugins[0], kwplugins=self._init_plugins[1] or {})\n",
    "\n",
    "    @anywidget.experimental.command  # type: ignore\n",
    "    def get_prop(self, spec:dict, buffers):\n",
    "        ctx, name, prop = spec['ctx'], spec['name'], None\n",
    "        if ctx in self.plugins:\n",
    "            prop = getattr(self.plugins[ctx], name, None)\n",
    "        else:\n",
    "            self.warn(f\"get_prop: unknown ctx '{ctx}' for {name=}\")\n",
    "        return prop, buffers"
   ]
  },
  {
   "cell_type": "code",
   "execution_count": null,
   "metadata": {},
   "outputs": [],
   "source": [
    "def get_bridge(*plugins:BridgePlugin, kwplugins:dict[str, str]|None=None, \n",
    "    logger:NBLogger|None=None, show_logger:bool=False, **kwargs):\n",
    "    \"Get the bridge, creating it if not found.\"\n",
    "    if not __brd__: \n",
    "        timeout, sleep = kwargs.pop('timeout', 2), kwargs.pop('sleep', 0.2)\n",
    "        brd = Bridge.create(*plugins, kwplugins=kwplugins, logger=logger, show_logger=show_logger, \n",
    "                            timeout=timeout, sleep=sleep, **kwargs)\n",
    "        return brd\n",
    "    assert __brd__ is not None\n",
    "    brd = __brd__\n",
    "    if logger: brd.logger = logger\n",
    "    if not logger and show_logger: brd.logger.show()\n",
    "    return brd"
   ]
  },
  {
   "cell_type": "code",
   "execution_count": null,
   "metadata": {},
   "outputs": [
    {
     "data": {
      "text/html": [
       "<div id='brd-logger_9-1758022132' class='brd-logger' style='width: 100%; max-height: 200px;'></div>"
      ],
      "text/plain": [
       "<bridget.helpers.HTML object>"
      ]
     },
     "metadata": {},
     "output_type": "display_data"
    }
   ],
   "source": [
    "cleanupwidgets('brd')\n",
    "\n",
    "brd = get_bridge(show_logger=True, timeout=DEBUG(2, 2))\n",
    "test_eq(brd.plugins.keys(), set(('loader', 'htmx', 'fasthtmljs')))"
   ]
  },
  {
   "cell_type": "code",
   "execution_count": null,
   "metadata": {},
   "outputs": [],
   "source": [
    "brd.add_plugins(badp := BridgePlugin('badp', '''export default function badp(bridge) { a = 1/0 }'''))\n",
    "blocks(lambda: badp.is_initialized != None, 1)\n",
    "test_is(brd.badp.is_initialized, False)"
   ]
  },
  {
   "cell_type": "markdown",
   "metadata": {},
   "source": [
    "# InspectPlugin"
   ]
  },
  {
   "cell_type": "code",
   "execution_count": null,
   "metadata": {},
   "outputs": [],
   "source": [
    "class InspectPlugin(BridgePlugin):\n",
    "    src = '''\n",
    "function inspect(msg) {\n",
    "    const {ctx, kind} = msg;\n",
    "    if (kind === 'echo') {\n",
    "        bridge.logger.log('echo', msg);\n",
    "        setTimeout(() => {\n",
    "            bridge.model.send({ ctx: ctx, kind: 'echo', msg: msg, msg_id: msg?.msg_id })\n",
    "        }, 100);\n",
    "        return;\n",
    "    }\n",
    "    bridge.model.send({ ctx: 'inspect', kind: 'inspect', msg: msg, msg_id: msg?.msg_id })\n",
    "}\n",
    "export default function initializeInspect(bridge) {\n",
    "    bridge.on('inspect', inspect);\n",
    "    return () => bridge.off('inspect');\n",
    "}\n",
    "'''\n",
    "    ctx_name = 'inspect'\n",
    "\n",
    "    def on_inspect(self, *args, msg:Any, tracker:Any, **kwargs):\n",
    "        self.log(f\"{self.__class__.__name__} inspect: {msg=} {tracker=}\")"
   ]
  },
  {
   "cell_type": "code",
   "execution_count": null,
   "metadata": {},
   "outputs": [
    {
     "data": {
      "text/html": [
       "<div id='brd-logger_10-1758022132' class='brd-logger' style='width: 100%; max-height: 200px;'></div>"
      ],
      "text/plain": [
       "<bridget.helpers.HTML object>"
      ]
     },
     "metadata": {},
     "output_type": "display_data"
    }
   ],
   "source": [
    "brd.logger.show(clear=True)"
   ]
  },
  {
   "cell_type": "code",
   "execution_count": null,
   "metadata": {},
   "outputs": [],
   "source": [
    "brd.add_plugins(insp := InspectPlugin())\n",
    "blocks(lambda: insp.is_initialized is not None, 3)\n",
    "test_is('inspect' in brd.plugins, True)"
   ]
  },
  {
   "cell_type": "markdown",
   "metadata": {},
   "source": [
    "`add_plugin` does not blocks. If needed, use `blocks` or `blocking` to ensure the plugin is loaded."
   ]
  },
  {
   "cell_type": "code",
   "execution_count": null,
   "metadata": {},
   "outputs": [],
   "source": [
    "# content, _ = await insp.asend(msg := insp.msg(ctx='inspect', kind='echo', data={'a': 1}))  # asend not working in Lab\n",
    "content, _ = insp.send(msg := insp.msg(ctx='inspect', kind='echo', data={'a': 1}), timeout=DEBUG(1))\n",
    "test_eq(content, {'ctx': 'inspect', 'kind': 'echo', 'msg': msg, 'msg_id': msg['msg_id']})"
   ]
  },
  {
   "cell_type": "code",
   "execution_count": null,
   "metadata": {},
   "outputs": [],
   "source": [
    "content, _ = insp.send(msg := insp.msg({'tracker': 'test'}, ctx='inspect', kind='echo', data={'b': 2}), timeout=DEBUG(1))\n",
    "test_eq(content, {'ctx': 'inspect', 'kind': 'echo', 'msg': msg, 'msg_id': msg['msg_id']})"
   ]
  },
  {
   "cell_type": "code",
   "execution_count": null,
   "metadata": {},
   "outputs": [],
   "source": [
    "insp.src = '''\n",
    "const logger = bridge.logger.create({ ns: 'inspect', color: 'green' });\n",
    "function inspect(msg) {\n",
    "    const {ctx, kind} = msg;\n",
    "    if (kind === 'echo') {\n",
    "        logger.log('echo', msg);\n",
    "        setTimeout(() => {\n",
    "            bridge.model.send({ ctx: ctx, kind: 'echo', msg: msg, msg_id: msg?.msg_id })\n",
    "        }, 100);\n",
    "        return;\n",
    "    }\n",
    "    bridge.model.send({ ctx: 'inspect', kind: 'inspect', msg: msg, msg_id: msg?.msg_id })\n",
    "}\n",
    "export default async function initializeInspect(bridge) {\n",
    "    bridge.on('inspect', inspect);\n",
    "    return () => { bridge.off('inspect'); logger.close(); }\n",
    "}\n",
    "'''"
   ]
  },
  {
   "cell_type": "code",
   "execution_count": null,
   "metadata": {},
   "outputs": [
    {
     "data": {
      "text/html": [
       "<div id='brd-logger_11-1758022132' class='brd-logger' style='width: 100%; max-height: 200px;'></div>"
      ],
      "text/plain": [
       "<bridget.helpers.HTML object>"
      ]
     },
     "metadata": {},
     "output_type": "display_data"
    }
   ],
   "source": [
    "brd.logger.show(clear=True)"
   ]
  },
  {
   "cell_type": "code",
   "execution_count": null,
   "metadata": {},
   "outputs": [],
   "source": [
    "brd.add_plugins(insp)"
   ]
  },
  {
   "cell_type": "code",
   "execution_count": null,
   "metadata": {},
   "outputs": [],
   "source": [
    "insp.log(\"Look Ma', now greeny!\")"
   ]
  },
  {
   "cell_type": "code",
   "execution_count": null,
   "metadata": {},
   "outputs": [],
   "source": [
    "content, _ = insp.send(msg := insp.msg(ctx='inspect', kind='echo', data={'a': 1}), timeout=2)\n",
    "test_eq(content, {'ctx': 'inspect', 'kind': 'echo', 'msg': msg, 'msg_id': msg['msg_id']})"
   ]
  },
  {
   "cell_type": "markdown",
   "metadata": {},
   "source": [
    "We can re-load any plugin by calling `addPlugins` again. See above `insp` now uses a new logger.\n",
    "\n",
    "In the examples folder, there's an [inspect](./examples/inspect_plugin.ipynb) plugin more fully developed."
   ]
  },
  {
   "cell_type": "markdown",
   "metadata": {},
   "source": [
    "# Loader\n",
    "> Convenience python-side plugin for loading scripts and ESMs."
   ]
  },
  {
   "cell_type": "code",
   "execution_count": null,
   "metadata": {},
   "outputs": [],
   "source": [
    "#| exporti\n",
    "\n",
    "class Loader(BridgePlugin):\n",
    "    def __init__(self, \n",
    "            lnks: dict[str, FT]|None = None, \n",
    "            esms: dict[str, str|Path]|None = None\n",
    "        ):\n",
    "        self._lnks, self._esms, self._loaded = lnks or {}, esms or {}, {}\n",
    "        super().__init__('loader')\n",
    "\n",
    "    def on_init(self, *args, info:str, **kwargs):\n",
    "        super().on_init(*args, info=info, **kwargs)\n",
    "        if info == 'initialized':\n",
    "            self.load_links(self._lnks)\n",
    "            self.load(self._esms)\n",
    "            self.log('Bridge initialized')\n",
    "\n",
    "    @property\n",
    "    def loading(self) -> bool: return len(tuple(self._pending.keys())) > 0\n",
    "    @overload\n",
    "    def loaded(self, name:str) -> bool: ...\n",
    "    @overload\n",
    "    def loaded(self, name:None=None) -> dict[str, str|None]: ...\n",
    "    def loaded(self, name:str|None=None):\n",
    "        if not name: return self._loaded.copy()\n",
    "        return name in self._loaded\n",
    "    \n",
    "    def load(self, esms: dict[str, str|Path]|None=None, reload:bool=False, cache:bool=True):\n",
    "        if not esms: return\n",
    "        msg = self.msg(esms, ctx=self.ctx_name, cmd='load', \n",
    "            args={n:anysource(esm) for n,esm in esms.items()}, reload=reload, cache=cache)\n",
    "        self.send(msg)\n",
    "    def load_links(self, lnks: dict[str, FT]|None=None):\n",
    "        if not lnks: return\n",
    "        msg = self.msg(lnks, ctx=self.ctx_name, cmd='loadLinks', args={n:_to_js(_) for n,_ in lnks.items()})\n",
    "        self.send(msg)\n",
    "\n",
    "    async def _asend(self, msg, kind:str):\n",
    "        res = await self.asend(msg)\n",
    "        try:\n",
    "            msg_id = res[0]['msg_id']  # type: ignore\n",
    "            if msg_id in self._pending: self.log(f\"Timeout loading {kind} {msg_id}\")\n",
    "        except Exception: pass\n",
    "    async def aload(self, esms: dict[str, str|Path]|None=None, reload:bool=False, cache:bool=True):\n",
    "        if not esms: return\n",
    "        msg = self.msg(esms, ctx=self.ctx_name, cmd='load', \n",
    "            args={n:esm.read_text() if isinstance(esm, Path) else esm for n,esm in esms.items()}, \n",
    "                reload=reload, cache=cache)\n",
    "        await self._asend(msg, 'ESMs')\n",
    "    async def aload_links(self, lnks: dict[str, FT]|None=None):\n",
    "        if not lnks: return\n",
    "        msg = self.msg(lnks, ctx=self.ctx_name, cmd='loadLinks', args={n:_to_js(_) for n,_ in lnks.items()})\n",
    "        await self._asend(msg, 'links')\n",
    "\n",
    "    def on_load(self, *args, success:list[str], failed:list[dict[str,str]], tracker:dict, **kwargs):\n",
    "        for name in success: self.log(f\"'{name}' loaded.\")\n",
    "        for res in failed: self.log(f\"'{res['name']}' failed: {res['error']}\")\n",
    "        self._loaded |= {n:None for n in success}  # don't store the source code for now\n",
    "        \n",
    "    def on_loadLinks(self, *args, success:list[str], failed:list[dict[str,str]], tracker:dict, **kwargs):\n",
    "        for name in success: self.log(f\"'{name}' loaded.\")\n",
    "        for res in failed: self.log(f\"'{res['name']}' failed: {res['error']}\")\n",
    "        self._loaded |= {n:tracker[n] for n in success}\n",
    "    \n",
    "    # def on_loadPlugins(self, *args, success:list[str], failed:list[dict[str,str]], **kwargs):\n",
    "    #     # for name in success: self.log(f\"'{name}' loaded.\")\n",
    "    #     for res in failed: self.log(f\"'{res['name']}' failed: {res['error']}\")"
   ]
  },
  {
   "cell_type": "code",
   "execution_count": null,
   "metadata": {},
   "outputs": [
    {
     "data": {
      "text/html": [
       "<div id='brd-logger_12-1758022132' class='brd-logger' style='width: 100%; max-height: 200px;'></div>"
      ],
      "text/plain": [
       "<bridget.helpers.HTML object>"
      ]
     },
     "metadata": {},
     "output_type": "display_data"
    }
   ],
   "source": [
    "brd.logger.show(clear=True)"
   ]
  },
  {
   "cell_type": "code",
   "execution_count": null,
   "metadata": {},
   "outputs": [],
   "source": [
    "loader = Loader(dict(\n",
    "    test=Script('// debugger;\\nconsole.log(\"test\")', id='test-script'),\n",
    "    test2=Script('// debugger;\\nconsole.log(a)', id='test-script2')\n",
    "))\n",
    "brd.add_plugins(loader)\n",
    "test_is(brd.loader.loading, True)\n",
    "test_is(brd.loader, loader)"
   ]
  },
  {
   "cell_type": "code",
   "execution_count": null,
   "metadata": {},
   "outputs": [],
   "source": [
    "loader.load_links({\n",
    "    'test3': Script('// debugger;\\nbridge.logger.log(\"test3\")', id='test-script3'),\n",
    "    'test4': Script('// debugger;\\nbridge.logger.log(a)', id='test-script4')\n",
    "})"
   ]
  },
  {
   "cell_type": "code",
   "execution_count": null,
   "metadata": {},
   "outputs": [],
   "source": [
    "loader.load({'htmx1': '''\n",
    "// debugger;\n",
    "import htmx from \"https://unpkg.com/htmx.org@next/dist/htmx.esm.js\";\n",
    "console.log(htmx);\n",
    "''',\n",
    "    'htmx2': '''\n",
    "// debugger;\n",
    "import htmx from \"https://unpkg.com/htmx.org@next/dist/XXXX.esm.js\";\n",
    "console.log(htmx);\n",
    "'''})"
   ]
  },
  {
   "cell_type": "code",
   "execution_count": null,
   "metadata": {},
   "outputs": [
    {
     "name": "stdout",
     "output_type": "stream",
     "text": [
      "._.\n"
     ]
    }
   ],
   "source": [
    "blocks(lambda: loader.loaded('htmx1'), 2, show=_show)  # needed when running all above/below cells\n",
    "\n",
    "test_eq(loader.loaded().keys(), set(('test', 'test3', 'htmx1')))"
   ]
  },
  {
   "cell_type": "code",
   "execution_count": null,
   "metadata": {},
   "outputs": [],
   "source": [
    "test_eq(brd.loader.loaded('htmx1'), True)\n",
    "test_eq(brd.loader.loaded('nah'), False)"
   ]
  },
  {
   "cell_type": "markdown",
   "metadata": {},
   "source": [
    "`Loader` can be used to execute any JS code (as an EcmaScript module). Note that unlike IPython `Javacript`, there's no output, the code won't run on opening the notebook until explicitly running the cell."
   ]
  },
  {
   "cell_type": "code",
   "execution_count": null,
   "metadata": {},
   "outputs": [
    {
     "data": {
      "text/html": [
       "<div id='brd-logger_13-1758022132' class='brd-logger' style='width: 100%; max-height: 200px;'></div>"
      ],
      "text/plain": [
       "<bridget.helpers.HTML object>"
      ]
     },
     "metadata": {},
     "output_type": "display_data"
    }
   ],
   "source": [
    "brd.logger.show()"
   ]
  },
  {
   "cell_type": "code",
   "execution_count": null,
   "metadata": {},
   "outputs": [
    {
     "data": {
      "text/html": [
       "<button type=\"button\" onclick=\"const canvas=document.getElementById('my-canvas');\n",
       "canvas.confetti({spread:70, particleCount:100, origin: { y: 1 }})\">Fire!</button><br><canvas id=\"my-canvas\" width=\"1000px\" height=\"200px\"></canvas>"
      ],
      "text/plain": [
       "<bridget.helpers.HTML object>"
      ]
     },
     "metadata": {},
     "output_type": "display_data"
    }
   ],
   "source": [
    "display(HTML(\n",
    "    '<button type=\"button\" onclick=\"const canvas=document.getElementById(\\'my-canvas\\');\\ncanvas.confetti({spread:70, particleCount:100, origin: { y: 1 }})\">Fire!</button><br>'\n",
    "    '<canvas id=\"my-canvas\" width=\"1000px\" height=\"200px\"></canvas>'\n",
    "))\n",
    "time.sleep(0.5)\n",
    "loader.load({'confetti': '''\n",
    "import confetti from \"https://esm.sh/canvas-confetti@1.6\";\n",
    "\n",
    "function randomInRange(min, max) {\n",
    "  return Math.random() * (max - min) + min;\n",
    "}\n",
    "\n",
    "const canvas = document.getElementById('my-canvas');\n",
    "canvas.confetti = canvas.confetti || confetti.create(canvas, { resize: true });\n",
    "'''}, reload=True)"
   ]
  },
  {
   "cell_type": "code",
   "execution_count": null,
   "metadata": {},
   "outputs": [
    {
     "data": {
      "text/html": [
       "<button type=\"button\" onclick=\"window.$beep()\">Beep!</button>"
      ],
      "text/plain": [
       "<bridget.helpers.HTML object>"
      ]
     },
     "metadata": {},
     "output_type": "display_data"
    }
   ],
   "source": [
    "loader.load({'beep': '''\n",
    "// debugger;\n",
    "export function beep() {\n",
    "    var snd = new Audio(\"data:audio/wav;base64,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\");  \n",
    "    snd.play();\n",
    "}\n",
    "window.$beep = beep;\n",
    "'''})\n",
    "display(HTML('<button type=\"button\" onclick=\"window.$beep()\">Beep!</button>'))"
   ]
  },
  {
   "cell_type": "markdown",
   "metadata": {},
   "source": [
    "# HTMX plugin"
   ]
  },
  {
   "cell_type": "code",
   "execution_count": null,
   "metadata": {},
   "outputs": [],
   "source": [
    "#| export\n",
    "\n",
    "class HTMXPlugin(BridgePlugin):\n",
    "    ctx_name = 'htmx'\n",
    "    sels = ['.output', '.jp-Cell-outputArea']\n",
    "    url = 'https://cdn.jsdelivr.net/npm/htmx.org@2.0.3/dist/htmx.esm.js'\n",
    "\n",
    "    def setup(self):\n",
    "        self.send(self.msg(ctx=self.ctx_name, cmd='setup', args=[self.sels, self.url]))\n",
    "    def on_info(self, *args, info:str, **kwargs):\n",
    "        if info == 'setup': self.log(f\"HTMX setup.\")"
   ]
  },
  {
   "cell_type": "code",
   "execution_count": null,
   "metadata": {},
   "outputs": [
    {
     "data": {
      "text/html": [
       "<div id='brd-logger_14-1758022132' class='brd-logger' style='width: 100%; max-height: 200px;'></div>"
      ],
      "text/plain": [
       "<bridget.helpers.HTML object>"
      ]
     },
     "metadata": {},
     "output_type": "display_data"
    }
   ],
   "source": [
    "brd.logger.show(clear=True)"
   ]
  },
  {
   "cell_type": "code",
   "execution_count": null,
   "metadata": {},
   "outputs": [
    {
     "name": "stdout",
     "output_type": "stream",
     "text": [
      "._.\n"
     ]
    },
    {
     "data": {
      "text/plain": [
       "True"
      ]
     },
     "execution_count": null,
     "metadata": {},
     "output_type": "execute_result"
    }
   ],
   "source": [
    "brd.add_plugins(htmxp := HTMXPlugin())\n",
    "blocks(lambda: htmxp.is_initialized is not None, 2, show=_show)  # needed when running all above/below cells"
   ]
  },
  {
   "cell_type": "code",
   "execution_count": null,
   "metadata": {},
   "outputs": [],
   "source": [
    "htmxp.setup()"
   ]
  },
  {
   "cell_type": "markdown",
   "metadata": {},
   "source": [
    "# ObserverManager\n",
    "> `MutationObserver` manager for `bridget`\n"
   ]
  },
  {
   "cell_type": "code",
   "execution_count": null,
   "metadata": {},
   "outputs": [],
   "source": [
    "#| export\n",
    "\n",
    "observer_js = BUNDLE_PATH / 'js/observer.js'"
   ]
  },
  {
   "cell_type": "code",
   "execution_count": null,
   "metadata": {},
   "outputs": [],
   "source": [
    "bundled(observer_js)(debugger=DEBUG(), ts=True);"
   ]
  },
  {
   "cell_type": "code",
   "execution_count": null,
   "metadata": {},
   "outputs": [
    {
     "data": {
      "text/html": [
       "<div id='brd-logger_15-1758022132' class='brd-logger' style='width: 100%; max-height: 200px;'></div>"
      ],
      "text/plain": [
       "<bridget.helpers.HTML object>"
      ]
     },
     "metadata": {},
     "output_type": "display_data"
    }
   ],
   "source": [
    "brd.logger.show(clear=True)"
   ]
  },
  {
   "cell_type": "code",
   "execution_count": null,
   "metadata": {},
   "outputs": [],
   "source": [
    "observer_scr = Script(bundled('''\n",
    "import { getObserverManager } from './observer.js';\n",
    "getObserverManager();\n",
    "''')(), \n",
    "    type='module', id='brd-get-observer-manager')"
   ]
  },
  {
   "cell_type": "code",
   "execution_count": null,
   "metadata": {},
   "outputs": [],
   "source": [
    "loader.load_links({'get_observer': observer_scr})  # load_links is async"
   ]
  },
  {
   "cell_type": "markdown",
   "metadata": {},
   "source": [
    "ObserverManager is a normal ES module, just import it. But for local development in notebooks, or until we register it, we can use the `loader` or whatever of the many methods we now have to load JS code..\n"
   ]
  },
  {
   "cell_type": "code",
   "execution_count": null,
   "metadata": {},
   "outputs": [
    {
     "data": {
      "text/plain": [
       "{'test': script(('// debugger;\\nconsole.log(\"test\")',),{'id': 'test-script'}),\n",
       " 'test3': script(('// debugger;\\nbridge.logger.log(\"test3\")',),{'id': 'test-script3'}),\n",
       " 'htmx1': None,\n",
       " 'beep': None}"
      ]
     },
     "execution_count": null,
     "metadata": {},
     "output_type": "execute_result"
    }
   ],
   "source": [
    "loader.loaded()"
   ]
  },
  {
   "cell_type": "code",
   "execution_count": null,
   "metadata": {},
   "outputs": [],
   "source": [
    "#| exporti\n",
    "\n",
    "# @FC.patch\n",
    "# async def brdimport(self: Loader, source: str|Path, name:str|None=None, base:str|Path|None=None):\n",
    "#     src = resolve_ESM(source, base) if isinstance(source, str) else source\n",
    "#     if src is None: raise ValueError(f\"Invalid module specifier: {src}\")\n",
    "#     d = {}\n",
    "#     if isinstance(src, ParseResult):\n",
    "#         url = src.geturl()\n",
    "#         d[name or source] = Script(type='module', src=url, id=name)\n",
    "#         await self.aload_links(d)\n",
    "#     else:\n",
    "#         d[name or str(source)] = src\n",
    "#         await self.aload(d)@FC.patch\n",
    "\n",
    "@FC.patch\n",
    "def brdimport(self: Loader, source: str|Path, name:str|None=None, base:str|Path|None=None):\n",
    "    src = resolve_ESM(source, base) if isinstance(source, str) else source\n",
    "    if src is None: raise ValueError(f\"Invalid module specifier: {src}\")\n",
    "    d = {}\n",
    "    if isinstance(src, ParseResult):\n",
    "        url = src.geturl()\n",
    "        d[name or source] = Script(type='module', src=url, id=name)\n",
    "        self.load_links(d)\n",
    "    else:\n",
    "        d[name or str(source)] = src\n",
    "        self.load(d)"
   ]
  },
  {
   "cell_type": "code",
   "execution_count": null,
   "metadata": {},
   "outputs": [
    {
     "data": {
      "text/html": [
       "<div id='brd-logger_16-1758022132' class='brd-logger' style='width: 100%; max-height: 200px;'></div>"
      ],
      "text/plain": [
       "<bridget.helpers.HTML object>"
      ]
     },
     "metadata": {},
     "output_type": "display_data"
    }
   ],
   "source": [
    "brd.logger.show()"
   ]
  },
  {
   "cell_type": "code",
   "execution_count": null,
   "metadata": {},
   "outputs": [],
   "source": [
    "brd.loader.brdimport('./observer.js')\n",
    "blocks(lambda: loader.loaded('./observer.js'), 2, show=_show)  # needed when running all above/below cells"
   ]
  },
  {
   "cell_type": "code",
   "execution_count": null,
   "metadata": {},
   "outputs": [],
   "source": [
    "test_eq(loader.loaded('./observer.js'), True)"
   ]
  },
  {
   "cell_type": "markdown",
   "metadata": {},
   "source": [
    "We can also use with Python the equivalent to ES5 relative import declaration (don't forget to `bundled` your source or use `brdimport` directly).\n",
    "\n",
    "**Front-end**:\n",
    "```js\n",
    "import { getObserverManager } from './observer.js';\n",
    "const observer= getObserverManager();\n",
    "```\n",
    "\n",
    "**Kernel**:\n",
    "```python\n",
    "get_bridge().loader.brdimport('./observer.js')\n",
    "```"
   ]
  },
  {
   "cell_type": "code",
   "execution_count": null,
   "metadata": {},
   "outputs": [],
   "source": [
    "observer_plugin = anysource('''\n",
    "export default async function initializeObserverPlugin(bridge) {\n",
    "    const { getObserverManager } = await brdimport('./observer.js');\n",
    "    return [null, { getObserverManager }]\n",
    "}\n",
    "''')"
   ]
  },
  {
   "cell_type": "markdown",
   "metadata": {},
   "source": [
    "or:"
   ]
  },
  {
   "cell_type": "code",
   "execution_count": null,
   "metadata": {},
   "outputs": [],
   "source": [
    "#| exporti\n",
    "\n",
    "observer_plugin = bundled('''\n",
    "import { getObserverManager } from './observer.js';\n",
    "export default function initializeObserverPlugin(bridge) {\n",
    "    return [null, { getObserverManager }]\n",
    "}\n",
    "''')()"
   ]
  },
  {
   "cell_type": "code",
   "execution_count": null,
   "metadata": {},
   "outputs": [
    {
     "data": {
      "text/html": [
       "<div id='brd-logger_17-1758022132' class='brd-logger' style='width: 100%; max-height: 200px;'></div>"
      ],
      "text/plain": [
       "<bridget.helpers.HTML object>"
      ]
     },
     "metadata": {},
     "output_type": "display_data"
    }
   ],
   "source": [
    "brd.logger.show(clear=True)"
   ]
  },
  {
   "cell_type": "code",
   "execution_count": null,
   "metadata": {},
   "outputs": [],
   "source": [
    "brd.add_plugins(kwplugins={'observer':observer_plugin})"
   ]
  },
  {
   "cell_type": "code",
   "execution_count": null,
   "metadata": {},
   "outputs": [
    {
     "data": {
      "text/plain": [
       "['loader', 'htmx', 'fasthtmljs', 'badp', 'inspect', 'observer']"
      ]
     },
     "execution_count": null,
     "metadata": {},
     "output_type": "execute_result"
    }
   ],
   "source": [
    "[*brd.plugins.keys()]"
   ]
  },
  {
   "cell_type": "markdown",
   "metadata": {},
   "source": [
    "We could also add observerManager as a plugin."
   ]
  },
  {
   "cell_type": "markdown",
   "metadata": {},
   "source": [
    "# brd-mark\n",
    "> Bridge plugin that defines a custom element that adds data- attributes to its parent and remove itself. It also processes the parent with htmx."
   ]
  },
  {
   "cell_type": "code",
   "execution_count": null,
   "metadata": {},
   "outputs": [],
   "source": [
    "brdmark_plugin = bundled(brdmark_js)()#(debugger=DEBUG(), ts=True)"
   ]
  },
  {
   "cell_type": "markdown",
   "metadata": {},
   "source": [
    "We could load `brd_mark` directly, but as it depends on the bridge (for logging), better to load it as a plugin."
   ]
  },
  {
   "cell_type": "code",
   "execution_count": null,
   "metadata": {},
   "outputs": [
    {
     "data": {
      "text/html": [
       "<div id='brd-logger_18-1758022132' class='brd-logger' style='width: 100%; max-height: 200px;'></div>"
      ],
      "text/plain": [
       "<bridget.helpers.HTML object>"
      ]
     },
     "metadata": {},
     "output_type": "display_data"
    }
   ],
   "source": [
    "brd.logger.show()"
   ]
  },
  {
   "cell_type": "code",
   "execution_count": null,
   "metadata": {},
   "outputs": [],
   "source": [
    "brd.add_plugins(kwplugins={'brd_mark':brdmark_plugin})"
   ]
  },
  {
   "cell_type": "code",
   "execution_count": null,
   "metadata": {},
   "outputs": [
    {
     "data": {
      "text/html": [
       "aaaa<brd-mark id=\"marker-123\">"
      ],
      "text/plain": [
       "<bridget.helpers.HTML object>"
      ]
     },
     "metadata": {},
     "output_type": "display_data"
    }
   ],
   "source": [
    "marker = 'aaaa<brd-mark id=\"marker-123\">'\n",
    "display(HTML(marker))"
   ]
  },
  {
   "cell_type": "code",
   "execution_count": null,
   "metadata": {},
   "outputs": [
    {
     "name": "stdout",
     "output_type": "stream",
     "text": [
      "asdf\n",
      "werwqert\n"
     ]
    }
   ],
   "source": [
    "print('asdf\\nwerwqert')"
   ]
  },
  {
   "cell_type": "code",
   "execution_count": null,
   "metadata": {},
   "outputs": [
    {
     "data": {
      "text/html": [
       "<div class=\"bridge\">aaaa</div><brd-mark id=\"marker-1234\"></brd-mark>"
      ],
      "text/plain": [
       "<bridget.helpers.HTML object>"
      ]
     },
     "metadata": {},
     "output_type": "display_data"
    },
    {
     "data": {
      "text/html": [
       "<div class=\"bridge\">bbbb</div><brd-mark id=\"marker-12345\"></brd-mark>"
      ],
      "text/plain": [
       "<bridget.helpers.HTML object>"
      ]
     },
     "metadata": {},
     "output_type": "display_data"
    }
   ],
   "source": [
    "display(HTML('<div class=\"bridge\">aaaa</div><brd-mark id=\"marker-1234\"></brd-mark>'))\n",
    "display(HTML('<div class=\"bridge\">bbbb</div><brd-mark id=\"marker-12345\"></brd-mark>'))"
   ]
  },
  {
   "cell_type": "code",
   "execution_count": null,
   "metadata": {},
   "outputs": [
    {
     "data": {
      "text/html": [
       "<brd-mark id=\"b264868e2-83feccdd-9dc2741a-09279be2\"></brd-mark>"
      ],
      "text/plain": [
       "<bridget.helpers.HTML object>"
      ]
     },
     "execution_count": null,
     "metadata": {},
     "output_type": "execute_result"
    }
   ],
   "source": [
    "HTML(Brd_Mark(id=new_id()))"
   ]
  },
  {
   "cell_type": "markdown",
   "metadata": {},
   "source": [
    "# get_bridge"
   ]
  },
  {
   "cell_type": "code",
   "execution_count": null,
   "metadata": {},
   "outputs": [],
   "source": [
    "#| export\n",
    "\n",
    "def show_summary(brd:Bridge):\n",
    "    summ = shortens(map(to_xml, [*brd.plugins.keys(), *brd.loader.loaded().values()]), 'r', 140)\n",
    "    display(HTML(ScriptsDetails(summ)))"
   ]
  },
  {
   "cell_type": "code",
   "execution_count": null,
   "metadata": {},
   "outputs": [
    {
     "data": {
      "text/html": [
       "<div id='brd-logger_19-1758022132' class='brd-logger' style='width: 100%; max-height: 200px;'></div>"
      ],
      "text/plain": [
       "<bridget.helpers.HTML object>"
      ]
     },
     "metadata": {},
     "output_type": "display_data"
    }
   ],
   "source": [
    "brd.logger.show()"
   ]
  },
  {
   "cell_type": "code",
   "execution_count": null,
   "metadata": {},
   "outputs": [],
   "source": [
    "brd.loader.load_links({\n",
    "    'surreal':bridge_scripts()['surreal'],\n",
    "    'css_scope_inline':bridge_scripts()['css_scope_inline'],\n",
    "    })"
   ]
  },
  {
   "cell_type": "code",
   "execution_count": null,
   "metadata": {},
   "outputs": [],
   "source": [
    "#| export\n",
    "\n",
    "bridge_default_plugins = [\n",
    "    HTMXPlugin(),\n",
    "    BridgePlugin('observer', observer_plugin), \n",
    "    BridgePlugin('brd_mark', bundled(brdmark_js)()),\n",
    "]\n",
    "\n",
    "\n",
    "@FC.delegates(Bridge.create, keep=True)  # type: ignore\n",
    "def get_bridge(\n",
    "    logger:NBLogger|None=None, \n",
    "    show_logger:bool=False,\n",
    "    *,\n",
    "    lnks: dict[str, FT]|None = None, \n",
    "    esms: dict[str, str|Path]|None = None,\n",
    "    plugins:Sequence[BridgePlugin]|None=None, \n",
    "    kwplugins:dict[str, str]|None=None, \n",
    "    wait:int=0,  # seconds to wait for plugins/links/modules to load\n",
    "    summary:bool=False,\n",
    "    **kwargs,  # `Bridge.create` kwargs\n",
    "):\n",
    "    if not __brd__: \n",
    "        timeout, sleep = kwargs.pop('timeout', 3), kwargs.pop('sleep', 0.2)\n",
    "        lnks = {**_bridge_scripts_extra(), **(lnks or {})}\n",
    "        plugins = [Loader(), *bridge_default_plugins, *(plugins or ())]\n",
    "        brd = Bridge.create(*plugins, kwplugins=kwplugins, logger=logger, show_logger=show_logger, \n",
    "            timeout=timeout, sleep=sleep, **kwargs)\n",
    "    else:\n",
    "        brd = __brd__\n",
    "        if logger: brd.logger = logger\n",
    "        if not logger and show_logger: brd.logger.show()\n",
    "        brd.add_plugins(*(plugins or ()), kwplugins=kwplugins, wait=wait)\n",
    "    brd.loader.load_links(lnks)\n",
    "    brd.loader.load(esms)\n",
    "    if wait: blocks(lambda: not brd.loader.loading, wait)\n",
    "    if summary: show_summary(brd)\n",
    "    return brd"
   ]
  },
  {
   "cell_type": "code",
   "execution_count": null,
   "metadata": {},
   "outputs": [
    {
     "data": {
      "text/markdown": [
       "---\n",
       "\n",
       "[source](https://github.com/civvic/bridget/blob/main/bridget/bridge.py#L478){target=\"_blank\" style=\"float:right; font-size:smaller\"}\n",
       "\n",
       "### get_bridge\n",
       "\n",
       ">      get_bridge (logger:NBLogger|None=None, show_logger:bool=False,\n",
       ">                  lnks:dict[str,FT]|None=None,\n",
       ">                  esms:dict[str,str|Path]|None=None,\n",
       ">                  plugins:Sequence[BridgePlugin]|None=None,\n",
       ">                  kwplugins:dict[str,str]|None=None, wait:int=0,\n",
       ">                  summary:bool=False, factory:Callable[...,Any]|None=None,\n",
       ">                  timeout:float=10, sleep:float=0.2, n:int=10,\n",
       ">                  show:Callable[[bool],None]|None=None, **kwargs)\n",
       "\n",
       "|    | **Type** | **Default** | **Details** |\n",
       "| -- | -------- | ----------- | ----------- |\n",
       "| logger | NBLogger \\| None | None |  |\n",
       "| show_logger | bool | False |  |\n",
       "| lnks | dict[str, FT] \\| None | None |  |\n",
       "| esms | dict[str, str \\| Path] \\| None | None |  |\n",
       "| plugins | Sequence[BridgePlugin] \\| None | None |  |\n",
       "| kwplugins | dict[str, str] \\| None | None |  |\n",
       "| wait | int | 0 | seconds to wait for plugins/links/modules to load |\n",
       "| summary | bool | False |  |\n",
       "| factory | Callable[..., Any] \\| None | None |  |\n",
       "| timeout | float | 10 |  |\n",
       "| sleep | float | 0.2 |  |\n",
       "| n | int | 10 |  |\n",
       "| show | Callable[[bool], None] \\| None | None |  |\n",
       "| kwargs | VAR_KEYWORD |  |  |"
      ],
      "text/plain": [
       "---\n",
       "\n",
       "[source](https://github.com/civvic/bridget/blob/main/bridget/bridge.py#L478){target=\"_blank\" style=\"float:right; font-size:smaller\"}\n",
       "\n",
       "### get_bridge\n",
       "\n",
       ">      get_bridge (logger:NBLogger|None=None, show_logger:bool=False,\n",
       ">                  lnks:dict[str,FT]|None=None,\n",
       ">                  esms:dict[str,str|Path]|None=None,\n",
       ">                  plugins:Sequence[BridgePlugin]|None=None,\n",
       ">                  kwplugins:dict[str,str]|None=None, wait:int=0,\n",
       ">                  summary:bool=False, factory:Callable[...,Any]|None=None,\n",
       ">                  timeout:float=10, sleep:float=0.2, n:int=10,\n",
       ">                  show:Callable[[bool],None]|None=None, **kwargs)\n",
       "\n",
       "|    | **Type** | **Default** | **Details** |\n",
       "| -- | -------- | ----------- | ----------- |\n",
       "| logger | NBLogger \\| None | None |  |\n",
       "| show_logger | bool | False |  |\n",
       "| lnks | dict[str, FT] \\| None | None |  |\n",
       "| esms | dict[str, str \\| Path] \\| None | None |  |\n",
       "| plugins | Sequence[BridgePlugin] \\| None | None |  |\n",
       "| kwplugins | dict[str, str] \\| None | None |  |\n",
       "| wait | int | 0 | seconds to wait for plugins/links/modules to load |\n",
       "| summary | bool | False |  |\n",
       "| factory | Callable[..., Any] \\| None | None |  |\n",
       "| timeout | float | 10 |  |\n",
       "| sleep | float | 0.2 |  |\n",
       "| n | int | 10 |  |\n",
       "| show | Callable[[bool], None] \\| None | None |  |\n",
       "| kwargs | VAR_KEYWORD |  |  |"
      ]
     },
     "execution_count": null,
     "metadata": {},
     "output_type": "execute_result"
    }
   ],
   "source": [
    "nbdev.show_doc(get_bridge)"
   ]
  },
  {
   "cell_type": "code",
   "execution_count": null,
   "metadata": {},
   "outputs": [
    {
     "data": {
      "text/html": [
       "<div id='brd-logger_20-1758022132' class='brd-logger' style='width: 100%; max-height: 200px;'></div>"
      ],
      "text/plain": [
       "<bridget.helpers.HTML object>"
      ]
     },
     "metadata": {},
     "output_type": "display_data"
    }
   ],
   "source": [
    "test_is(get_bridge(show_logger=True), brd)"
   ]
  },
  {
   "cell_type": "code",
   "execution_count": null,
   "metadata": {},
   "outputs": [],
   "source": [
    "#| export\n",
    "\n",
    "if bridge_cfg.bootstrap: get_bridge(show_logger=True)"
   ]
  },
  {
   "cell_type": "code",
   "execution_count": null,
   "metadata": {},
   "outputs": [],
   "source": [
    "brd.close()\n",
    "test_is(__brd__, None)"
   ]
  },
  {
   "cell_type": "code",
   "execution_count": null,
   "metadata": {},
   "outputs": [
    {
     "data": {
      "text/html": [
       "<div id='brd-logger_21-1758022132' class='brd-logger' style='width: 100%; max-height: 200px;'></div>"
      ],
      "text/plain": [
       "<bridget.helpers.HTML object>"
      ]
     },
     "metadata": {},
     "output_type": "display_data"
    },
    {
     "data": {
      "text/html": [
       "<details open><summary><b>Loaded scripts</b></summary><pre>loader\n",
       "htmx\n",
       "fasthtmljs\n",
       "observer\n",
       "brd_mark\n",
       "&lt;script src=&quot;https://cdn.jsdelivr.net/gh/answerdotai/surreal@main/surreal.js&quot;&gt;&lt;/script&gt;\n",
       "&lt;script src=&quot;https://cdn.jsdelivr.net/gh/gnat/css-scope-inline@main/script.js&quot;&gt;&lt;/script&gt;</pre></details>"
      ],
      "text/plain": [
       "<bridget.helpers.HTML object>"
      ]
     },
     "metadata": {},
     "output_type": "display_data"
    }
   ],
   "source": [
    "brd.logger.clear_log()\n",
    "\n",
    "with bridge_cfg(bootstrap=True):\n",
    "    brd = get_bridge(show_logger=True, wait=5, summary=True)"
   ]
  },
  {
   "cell_type": "code",
   "execution_count": null,
   "metadata": {},
   "outputs": [
    {
     "data": {
      "text/html": [
       "\n",
       "<div>💩 👻 No style.</div>\n",
       "\n",
       "<div>\n",
       "    <style> /* Simple example. */\n",
       "        me { margin: 20px; }\n",
       "        me div { font-size: 5rem; }\n",
       "    </style>\n",
       "    <div>👻</div>\n",
       "</div>\n"
      ],
      "text/plain": [
       "<bridget.helpers.HTML object>"
      ]
     },
     "metadata": {},
     "output_type": "display_data"
    }
   ],
   "source": [
    "html = '''\n",
    "<div>💩 👻 No style.</div>\n",
    "\n",
    "<div>\n",
    "    <style> /* Simple example. */\n",
    "        me { margin: 20px; }\n",
    "        me div { font-size: 5rem; }\n",
    "    </style>\n",
    "    <div>👻</div>\n",
    "</div>\n",
    "'''\n",
    "\n",
    "display(HTML(html))"
   ]
  },
  {
   "cell_type": "markdown",
   "metadata": {},
   "source": [
    "Bridge automatically loads some JavaScript libraries:\n",
    "\n",
    "1. HTMX\n",
    "2. FastHTML core scripts\n",
    "3. Awesome gnat's Scope and Surreal scripts\n"
   ]
  },
  {
   "cell_type": "markdown",
   "metadata": {},
   "source": [
    "When importing `bridge`, if `bridge_cfg.bootstrap` is `True` or there is an environment variable `BRIDGET_BOOTSTRAP` set to a true-ish value, it will automatically create a bridge."
   ]
  },
  {
   "cell_type": "markdown",
   "metadata": {},
   "source": [
    "# Colophon\n",
    "----\n"
   ]
  },
  {
   "cell_type": "code",
   "execution_count": null,
   "metadata": {},
   "outputs": [],
   "source": [
    "import fastcore.all as FC\n",
    "import nbdev\n",
    "from nbdev.clean import nbdev_clean\n",
    "from olio.basic import bundle_path\n",
    "from bridget.bridge_widget import bundled"
   ]
  },
  {
   "cell_type": "code",
   "execution_count": null,
   "metadata": {},
   "outputs": [],
   "source": [
    "if FC.IN_NOTEBOOK:\n",
    "    BUNDLE_PATH = bundle_path(__name__)\n",
    "    for f in ['bcanvas', 'bridge', 'observer', 'brdmark']: bundled(BUNDLE_PATH / f'js/{f}.js')()\n",
    "    nb_path = '14_bridge.ipynb'\n",
    "    nbdev_clean(nb_path)\n",
    "    nbdev.nbdev_export(nb_path)"
   ]
  }
 ],
 "metadata": {
  "kernelspec": {
   "display_name": "python3",
   "language": "python",
   "name": "python3"
  }
 },
 "nbformat": 4,
 "nbformat_minor": 4
}
