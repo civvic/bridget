{
 "cells": [
  {
   "cell_type": "code",
   "execution_count": null,
   "metadata": {},
   "outputs": [],
   "source": [
    "import time\n",
    "from typing import Callable\n",
    "\n",
    "import anywidget\n",
    "from fastcore.test import *\n",
    "from IPython.core.display import HTML\n",
    "from olio.basic import empty\n",
    "from olio.common import setup_console\n",
    "from olio.widget import cleanupwidgets\n"
   ]
  },
  {
   "cell_type": "code",
   "execution_count": null,
   "metadata": {},
   "outputs": [],
   "source": [
    "import os\n",
    "os.environ['DEBUG_BRIDGET'] = 'True'"
   ]
  },
  {
   "cell_type": "code",
   "execution_count": null,
   "metadata": {},
   "outputs": [],
   "source": [
    "from bridget.bridge_widget import anysource\n",
    "from bridget.bridge_widget import BlockingMixin, blocks, ablocks\n",
    "from bridget.helpers import kounter\n"
   ]
  },
  {
   "cell_type": "code",
   "execution_count": null,
   "metadata": {},
   "outputs": [],
   "source": [
    "console, cprint = setup_console(140)"
   ]
  },
  {
   "attachments": {},
   "cell_type": "markdown",
   "metadata": {},
   "source": [
    "----"
   ]
  },
  {
   "cell_type": "code",
   "execution_count": null,
   "metadata": {},
   "outputs": [
    {
     "name": "stdout",
     "output_type": "stream",
     "text": [
      "13\n",
      "14\n"
     ]
    }
   ],
   "source": [
    "print(13)\n",
    "print(14)"
   ]
  },
  {
   "cell_type": "code",
   "execution_count": null,
   "metadata": {},
   "outputs": [
    {
     "data": {
      "text/html": [
       "qwer"
      ],
      "text/plain": [
       "<IPython.core.display.HTML object>"
      ]
     },
     "metadata": {},
     "output_type": "display_data"
    },
    {
     "data": {
      "text/html": [
       "tyui"
      ],
      "text/plain": [
       "<IPython.core.display.HTML object>"
      ]
     },
     "metadata": {},
     "output_type": "display_data"
    }
   ],
   "source": [
    "dh1 = display(HTML('asdf'), display_id=True)\n",
    "dh2 = display(HTML('ghjk'), display_id=True)"
   ]
  },
  {
   "cell_type": "code",
   "execution_count": null,
   "metadata": {},
   "outputs": [],
   "source": [
    "dh1.update(HTML('qwer'))"
   ]
  },
  {
   "cell_type": "code",
   "execution_count": null,
   "metadata": {},
   "outputs": [],
   "source": [
    "dh2.update(HTML('tyui'))"
   ]
  },
  {
   "cell_type": "code",
   "execution_count": null,
   "metadata": {},
   "outputs": [],
   "source": [
    "_xx = ['-_-', 'o_o']\n",
    "def _show(finish: bool=False):\n",
    "    if finish: print('._.')\n",
    "    else: print(_xx[0], end=\"\\r\", flush=True); _xx[:] = _xx[::-1]"
   ]
  },
  {
   "cell_type": "code",
   "execution_count": null,
   "metadata": {},
   "outputs": [],
   "source": [
    "class Cnt:\n",
    "    def __init__(self, n=10, sleep=0.05): self.n, self.sleep, self.cnt = n, sleep, 0\n",
    "    def __call__(self):\n",
    "        self.cnt += 1\n",
    "        time.sleep(self.sleep)\n",
    "        return self.cnt > self.n-1\n"
   ]
  },
  {
   "cell_type": "code",
   "execution_count": null,
   "metadata": {},
   "outputs": [
    {
     "name": "stdout",
     "output_type": "stream",
     "text": [
      "._.\n"
     ]
    }
   ],
   "source": [
    "done = blocks(cntr := Cnt(10), n=20, show=_show)\n",
    "test_eq(cntr.cnt, 10)"
   ]
  },
  {
   "cell_type": "code",
   "execution_count": null,
   "metadata": {},
   "outputs": [
    {
     "name": "stdout",
     "output_type": "stream",
     "text": [
      "._.\n",
      "timeout\n"
     ]
    }
   ],
   "source": [
    "done = await ablocks(cntr := Cnt(10, 0.2), show=_show)\n",
    "if done: test_eq(cntr.cnt, 10)\n",
    "else: print('timeout')"
   ]
  },
  {
   "cell_type": "code",
   "execution_count": null,
   "metadata": {},
   "outputs": [],
   "source": []
  },
  {
   "cell_type": "code",
   "execution_count": null,
   "metadata": {},
   "outputs": [],
   "source": [
    "class BlockingWidget(anywidget.AnyWidget, BlockingMixin):\n",
    "    _esm = anysource('// debugger;', '''\n",
    "    export default { \n",
    "        async initialize({ model }) {\n",
    "            function on_msg(msg) {\n",
    "                console.log(`Received message:`, msg);\n",
    "                if (!msg?.timeout) return model.send({ msg_id: msg.msg_id, response: 'no timeout' });\n",
    "                (function loop(n) {\n",
    "                    setTimeout(() => {\n",
    "                        n += 100\n",
    "                        if (n > msg.timeout*1000) {\n",
    "                            console.log(`Sending response for msg_id:`, msg.msg_id);\n",
    "                            model.send({ msg_id: msg.msg_id, response: 'done waiting', error: null });\n",
    "                            return;\n",
    "                        }\n",
    "                        // console.log('.');\n",
    "                        loop(n);\n",
    "                    }, 100);\n",
    "                })(0);\n",
    "            }\n",
    "            model.on(\"msg:custom\", on_msg);\n",
    "            setTimeout(() => {\n",
    "                console.log(`Initialized.`);\n",
    "                model.set('_loaded', true); model.save_changes();\n",
    "            }, 1000);\n",
    "        }\n",
    "    };\n",
    "    ''')\n",
    "\n",
    "    def test_send(self, msg, buffers=None, *, timeout: float|None=None, \n",
    "            sleep: float = 0.1, n: int = 10, show: Callable[[bool], None]|None = None):\n",
    "        self._start_time = time.time()\n",
    "        print(f'Sending message {msg}...')\n",
    "        res = self.send(msg, buffers, timeout=timeout, sleep=sleep, n=n, show=show)\n",
    "        return None if res == (empty, empty) else res\n",
    "    \n",
    "    async def test_asend(self, msg, buffers=None, *, timeout: float=5.0, \n",
    "        sleep: float = 0.1, n: int = 10, show: Callable[[bool], None]|None = None\n",
    "    ):\n",
    "        self._start_time = time.time()\n",
    "        print(f'Sending message {msg}...')\n",
    "        res = await self.asend(msg, buffers, timeout=timeout, sleep=sleep, n=n, show=show)\n",
    "        return None if res == (empty, empty) else res\n",
    "\n",
    "    def __init__(self, *args, **kwargs):\n",
    "        # self.setup_init_on_msg(self._handle_message)\n",
    "        self.on_msg(self._handle_message)\n",
    "        super().__init__(*args, **kwargs)\n",
    "        print('Initializing...')\n",
    "\n",
    "    def _handle_message(self, _, msg, buffers):\n",
    "        e = time.time()\n",
    "        self._last_message = e, msg\n",
    "        print(f'\\nelapsed: {e-self._start_time:.3f}s Received message: {msg}, buffers: {buffers}')"
   ]
  },
  {
   "cell_type": "code",
   "execution_count": null,
   "metadata": {},
   "outputs": [
    {
     "name": "stdout",
     "output_type": "stream",
     "text": [
      "Initializing...\n",
      "._.\n",
      "loaded=True\n"
     ]
    }
   ],
   "source": [
    "cleanupwidgets('w')\n",
    "\n",
    "w = BlockingWidget.create(show=_show, sleep=0.1)\n",
    "print(f'loaded={w.loaded()}')\n",
    "test_eq(w.loaded(), True)"
   ]
  },
  {
   "cell_type": "code",
   "execution_count": null,
   "metadata": {},
   "outputs": [
    {
     "name": "stdout",
     "output_type": "stream",
     "text": [
      "Sending message {'msg_id': 9, 'timeout': 2}...\n",
      "._.\n",
      "idx=9 -> Timeout 1.118046\n"
     ]
    }
   ],
   "source": [
    "idx = kounter('blocking')\n",
    "a = w.test_send({'msg_id': idx, 'timeout': 2}, timeout=1, show=_show)\n",
    "print(f\"{idx=} ->\", f\"Timeout {time.time()-w._start_time:3f}\" if not a else f\"{a=}\")\n",
    "# test_is(a, None)"
   ]
  },
  {
   "cell_type": "code",
   "execution_count": null,
   "metadata": {},
   "outputs": [
    {
     "name": "stdout",
     "output_type": "stream",
     "text": [
      "Sending message {'msg_id': 10, 'timeout': 2}...\n",
      "._.\n",
      "idx=10 -> a=({'msg_id': 10, 'response': 'done waiting', 'error': None}, [])\n"
     ]
    }
   ],
   "source": [
    "idx = kounter('blocking')\n",
    "a = w.test_send({'msg_id': idx, 'timeout': 2}, timeout=3, show=_show)\n",
    "print(f\"{idx=} ->\", f\"Timeout {time.time()-w._start_time:3f}\" if not a else f\"{a=}\")\n",
    "# test_eq(a[0]['msg_id'], idx)  # type: ignore"
   ]
  },
  {
   "cell_type": "code",
   "execution_count": null,
   "metadata": {},
   "outputs": [
    {
     "name": "stdout",
     "output_type": "stream",
     "text": [
      "Sending message {'msg_id': 11, 'timeout': 2}...\n",
      "o_o"
     ]
    }
   ],
   "source": [
    "# cell 18\n",
    "idx = kounter('blocking')\n",
    "a = await w.test_asend({'msg_id': idx, 'timeout': 2}, timeout=1, show=_show)\n"
   ]
  },
  {
   "cell_type": "code",
   "execution_count": null,
   "metadata": {},
   "outputs": [
    {
     "name": "stdout",
     "output_type": "stream",
     "text": [
      "idx=11 -> Timeout 1.078250\n"
     ]
    }
   ],
   "source": [
    "print(f\"{idx=} ->\", f\"Timeout {time.time()-w._start_time:3f}\" if not a else f\"{a=}\")\n",
    "# test_is(a, None)"
   ]
  },
  {
   "cell_type": "code",
   "execution_count": null,
   "metadata": {},
   "outputs": [
    {
     "name": "stdout",
     "output_type": "stream",
     "text": [
      "Sending message {'msg_id': 12, 'timeout': 2}...\n",
      "._.\n"
     ]
    }
   ],
   "source": [
    "# cell 20\n",
    "\n",
    "idx = kounter('blocking')\n",
    "a = await w.test_asend({'msg_id': idx, 'timeout': 2}, timeout=3, show=_show)\n"
   ]
  },
  {
   "cell_type": "code",
   "execution_count": null,
   "metadata": {},
   "outputs": [
    {
     "name": "stdout",
     "output_type": "stream",
     "text": [
      "idx=12 -> a=({'msg_id': 12, 'response': 'done waiting', 'error': None}, [])\n"
     ]
    }
   ],
   "source": [
    "print(f\"{idx=} ->\", f\"Timeout {time.time()-w._start_time:3f}\" if not a else f\"{a=}\")\n",
    "# test_eq(a[0]['msg_id'], idx)  # type: ignore"
   ]
  },
  {
   "cell_type": "code",
   "execution_count": null,
   "metadata": {},
   "outputs": [],
   "source": [
    "# cell 22\n",
    "w.close()"
   ]
  },
  {
   "cell_type": "code",
   "execution_count": null,
   "metadata": {},
   "outputs": [],
   "source": []
  }
 ],
 "metadata": {
  "kernelspec": {
   "display_name": "Python 3",
   "language": "python",
   "name": "python3"
  },
  "language_info": {
   "name": "python",
   "version": "3.12.11"
  }
 },
 "nbformat": 4,
 "nbformat_minor": 4
}
