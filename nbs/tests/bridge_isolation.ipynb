{
 "cells": [
  {
   "cell_type": "code",
   "execution_count": 1,
   "metadata": {
    "brd": {
     "id": "0c0641a6-194b-425b-b721-5d2b6870fa99"
    }
   },
   "outputs": [],
   "source": [
    "import os\n",
    "os.environ['DEBUG_BRIDGET'] = 'True'"
   ]
  },
  {
   "cell_type": "code",
   "execution_count": 2,
   "metadata": {
    "brd": {
     "id": "775c70e5-416e-4df9-8e70-cc026d40351d"
    }
   },
   "outputs": [],
   "source": [
    "from bridget.helpers import find_active_widgets, get_kernel_widget_comms"
   ]
  },
  {
   "cell_type": "code",
   "execution_count": 14,
   "metadata": {
    "brd": {
     "id": "ad19f7c9-3a2a-471e-bdd5-903402dab6ba"
    }
   },
   "outputs": [
    {
     "name": "stdout",
     "output_type": "stream",
     "text": [
      "Active widgets: []\n"
     ]
    }
   ],
   "source": [
    "print(\"Active widgets:\", find_active_widgets())"
   ]
  },
  {
   "cell_type": "code",
   "execution_count": 13,
   "metadata": {
    "brd": {
     "id": "7ea004a4-6eaa-4941-a104-5709a00a5055"
    }
   },
   "outputs": [
    {
     "data": {
      "text/plain": [
       "[]"
      ]
     },
     "execution_count": 13,
     "metadata": {},
     "output_type": "execute_result"
    }
   ],
   "source": [
    "cc = [*get_kernel_widget_comms()]\n",
    "[vars(c) for c in cc]"
   ]
  },
  {
   "cell_type": "code",
   "execution_count": null,
   "metadata": {},
   "outputs": [],
   "source": [
    "# cc[0].comm_id\n",
    "# brdimport.close()\n",
    "# brdimport.comm"
   ]
  },
  {
   "cell_type": "code",
   "execution_count": 7,
   "metadata": {
    "brd": {
     "id": "1f8072a5-e63c-4962-8e27-e202d3777885"
    }
   },
   "outputs": [],
   "source": [
    "a = 17"
   ]
  },
  {
   "cell_type": "code",
   "execution_count": 8,
   "metadata": {
    "brd": {
     "id": "debca26f-f59d-4795-be9e-de6eb3f28bdd"
    }
   },
   "outputs": [
    {
     "name": "stdout",
     "output_type": "stream",
     "text": [
      "17\n"
     ]
    }
   ],
   "source": [
    "print(a)"
   ]
  },
  {
   "cell_type": "code",
   "execution_count": 10,
   "metadata": {
    "brd": {
     "id": "2bcc0b5f-62b1-45a3-a542-07c5a90539f4"
    }
   },
   "outputs": [],
   "source": [
    "from fastcore.test import *\n",
    "from fasthtml.xtend import Script\n",
    "from IPython.core.display import HTML\n",
    "from fasthtml.common import show\n",
    "from olio.common import setup_console"
   ]
  },
  {
   "cell_type": "code",
   "execution_count": 11,
   "metadata": {
    "brd": {
     "id": "f2c99dad-b4c6-44c6-9750-caba47902b5a"
    }
   },
   "outputs": [],
   "source": [
    "from bridget.helpers import bridge_cfg\n",
    "from bridget.helpers import HTML\n",
    "from bridget.helpers import DetailsJSON\n",
    "\n",
    "console, cprint = setup_console(140)"
   ]
  },
  {
   "cell_type": "code",
   "execution_count": 12,
   "metadata": {
    "brd": {
     "id": "cbb31228-f9c1-4f4e-a7c2-223637e7cd30"
    }
   },
   "outputs": [
    {
     "data": {
      "text/html": [
       "<style>details ul { list-style-type:none; list-style-position: outside; padding-inline-start: 22px; margin: 0; } details .string { color: #24837b; } details .string::before { content: \"'\"; } details .string::after { content: \"'\"; } details .number { color: #ad8301; } details .true { color: blue; } details .false { color: red; } details .null { color: gray; } span.n { color: darkgrey; } </style>\n",
       "<details open><summary>Bridget Config\n",
       "</summary>  <ul>\n",
       "    <li>\n",
       "<span><span class=\"n\">auto_show</span>: <span class=\"v false\">False</span></span>    </li>\n",
       "    <li>\n",
       "<span><span class=\"n\">auto_mount</span>: <span class=\"v false\">False</span></span>    </li>\n",
       "    <li>\n",
       "<span><span class=\"n\">auto_id</span>: <span class=\"v false\">False</span></span>    </li>\n",
       "    <li>\n",
       "<span><span class=\"n\">bundle_cfg</span>: <span class=\"v \">{&#x27;out_dir&#x27;: [Path(&#x27;/Users/vic/dev/repo/project/bridget/bridget/js&#x27;), Path(&#x27;/Users/vic/dev/repo/project/bridget/bridget&#x27;)], &#x27;rewrite_imports&#x27;…</span></span>    </li>\n",
       "    <li>\n",
       "<span><span class=\"n\">bootstrap</span>: <span class=\"v false\">False</span></span>    </li>\n",
       "    <li>\n",
       "<span><span class=\"n\">current_did</span>: <span class=\"v null\">None</span></span>    </li>\n",
       "  </ul>\n",
       "</details>"
      ],
      "text/plain": [
       "<IPython.core.display.HTML object>"
      ]
     },
     "metadata": {},
     "output_type": "display_data"
    },
    {
     "data": {
      "text/html": [
       "<pre style=\"white-space:pre;overflow-x:auto;line-height:normal;font-family:Menlo,'DejaVu Sans Mono',consolas,'Courier New',monospace\"><span style=\"font-weight: bold\">[</span><span style=\"color: #800080; text-decoration-color: #800080; font-weight: bold\">Path</span><span style=\"font-weight: bold\">(</span><span style=\"color: #008000; text-decoration-color: #008000\">'/Users/vic/dev/repo/project/bridget/bridget/js'</span><span style=\"font-weight: bold\">)</span>, <span style=\"color: #800080; text-decoration-color: #800080; font-weight: bold\">Path</span><span style=\"font-weight: bold\">(</span><span style=\"color: #008000; text-decoration-color: #008000\">'/Users/vic/dev/repo/project/bridget/bridget'</span><span style=\"font-weight: bold\">)]</span>\n",
       "</pre>\n"
      ],
      "text/plain": [
       "\u001b[1m[\u001b[0m\u001b[1;35mPath\u001b[0m\u001b[1m(\u001b[0m\u001b[32m'/Users/vic/dev/repo/project/bridget/bridget/js'\u001b[0m\u001b[1m)\u001b[0m, \u001b[1;35mPath\u001b[0m\u001b[1m(\u001b[0m\u001b[32m'/Users/vic/dev/repo/project/bridget/bridget'\u001b[0m\u001b[1m)\u001b[0m\u001b[1m]\u001b[0m\n"
      ]
     },
     "metadata": {},
     "output_type": "display_data"
    }
   ],
   "source": [
    "show(DetailsJSON(bridge_cfg.as_dict(), summary='Bridget Config'))\n",
    "cprint(bridge_cfg.bundle_cfg.out_dir)"
   ]
  },
  {
   "cell_type": "code",
   "execution_count": null,
   "metadata": {},
   "outputs": [],
   "source": [
    "from bridget.bridge_widget import get_brdimport"
   ]
  },
  {
   "cell_type": "code",
   "execution_count": 6,
   "metadata": {
    "brd": {
     "id": "324a2658-bc0a-44fa-a9df-0e26660f38fd"
    }
   },
   "outputs": [],
   "source": [
    "brdimport = get_brdimport()\n",
    "test_is(brdimport is not None, True)"
   ]
  },
  {
   "cell_type": "code",
   "execution_count": 7,
   "metadata": {
    "brd": {
     "id": "df298979-3135-46eb-8c5a-2fae8f9143e4"
    }
   },
   "outputs": [
    {
     "data": {
      "text/plain": [
       "[]"
      ]
     },
     "execution_count": 7,
     "metadata": {},
     "output_type": "execute_result"
    }
   ],
   "source": [
    "brdimport._modules"
   ]
  },
  {
   "cell_type": "code",
   "execution_count": 8,
   "metadata": {
    "brd": {
     "id": "f82a46eb-a68b-4184-90fa-b955db99571e"
    }
   },
   "outputs": [
    {
     "data": {
      "text/html": [
       "<script type=\"module\">\n",
       "const { getObserverManager } = await brdimport('./js/observer.js');\n",
       "console.log(getObserverManager)\n",
       "</script>"
      ],
      "text/plain": [
       "<bridget.helpers.HTML object>"
      ]
     },
     "execution_count": 8,
     "metadata": {},
     "output_type": "execute_result"
    }
   ],
   "source": [
    "observer_scr = Script('''\n",
    "const { getObserverManager } = await brdimport('./js/observer.js');\n",
    "console.log(getObserverManager)\n",
    "''', type='module')\n",
    "HTML(observer_scr)"
   ]
  },
  {
   "cell_type": "code",
   "execution_count": 9,
   "metadata": {
    "brd": {
     "id": "38990e81-46b9-4ba2-b323-7fa13f710620"
    }
   },
   "outputs": [
    {
     "data": {
      "text/plain": [
       "[]"
      ]
     },
     "execution_count": 9,
     "metadata": {},
     "output_type": "execute_result"
    }
   ],
   "source": [
    "brdimport._modules"
   ]
  },
  {
   "cell_type": "code",
   "execution_count": 11,
   "metadata": {
    "brd": {
     "id": "91a669e8-5077-4ba1-98b5-1af383ff2af6"
    }
   },
   "outputs": [
    {
     "data": {
      "text/html": [
       "<script type=\"module\">\n",
       "const res = await brdimport('https://esm.sh/canvas-confetti@1.6');\n",
       "console.log(res);\n",
       "</script>"
      ],
      "text/plain": [
       "<bridget.helpers.HTML object>"
      ]
     },
     "execution_count": 11,
     "metadata": {},
     "output_type": "execute_result"
    }
   ],
   "source": [
    "confetti_scr = Script('''\n",
    "const res = await brdimport('https://esm.sh/canvas-confetti@1.6');\n",
    "console.log(res);\n",
    "''', type='module')\n",
    "HTML(confetti_scr)"
   ]
  },
  {
   "cell_type": "code",
   "execution_count": 12,
   "metadata": {
    "brd": {
     "id": "ba2573c4-583a-4fb5-af3d-ec8bc69cc123"
    }
   },
   "outputs": [
    {
     "data": {
      "text/plain": [
       "['./js/observer.js', 'https://esm.sh/canvas-confetti@1.6']"
      ]
     },
     "execution_count": 12,
     "metadata": {},
     "output_type": "execute_result"
    }
   ],
   "source": [
    "brdimport._modules"
   ]
  },
  {
   "cell_type": "code",
   "execution_count": null,
   "metadata": {},
   "outputs": [],
   "source": []
  }
 ],
 "metadata": {
  "kernelspec": {
   "display_name": "Python 3",
   "language": "python",
   "name": "python3"
  },
  "language_info": {
   "codemirror_mode": {
    "name": "ipython",
    "version": 3
   },
   "file_extension": ".py",
   "mimetype": "text/x-python",
   "name": "python",
   "nbconvert_exporter": "python",
   "pygments_lexer": "ipython3",
   "version": "3.12.11"
  }
 },
 "nbformat": 4,
 "nbformat_minor": 4
}
