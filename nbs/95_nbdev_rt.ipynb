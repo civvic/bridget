{
 "cells": [
  {
   "cell_type": "code",
   "execution_count": null,
   "metadata": {},
   "outputs": [],
   "source": [
    "#| default_exp nbdev_rt\n"
   ]
  },
  {
   "cell_type": "code",
   "execution_count": null,
   "metadata": {},
   "outputs": [],
   "source": [
    "#| export\n",
    "from __future__ import annotations\n"
   ]
  },
  {
   "cell_type": "markdown",
   "metadata": {},
   "source": [
    "# nbdev_rt\n",
    "\n",
    "> Real time [nbdev](https://nbdev.fast.ai/).\n"
   ]
  },
  {
   "cell_type": "markdown",
   "metadata": {},
   "source": [
    "# Prologue"
   ]
  },
  {
   "cell_type": "code",
   "execution_count": null,
   "metadata": {},
   "outputs": [],
   "source": [
    "#| export\n"
   ]
  },
  {
   "cell_type": "code",
   "execution_count": null,
   "metadata": {},
   "outputs": [],
   "source": [
    "#| export\n",
    "\n",
    "from bridget.nb_state import NBState\n"
   ]
  },
  {
   "cell_type": "code",
   "execution_count": null,
   "metadata": {},
   "outputs": [],
   "source": [
    "from pathlib import Path\n",
    "\n",
    "import fastcore.all as FC\n",
    "from fastcore.test import *\n",
    "from olio.common import shortens\n",
    "from rich.console import Console\n"
   ]
  },
  {
   "cell_type": "code",
   "execution_count": null,
   "metadata": {},
   "outputs": [],
   "source": [
    "from bridget.helpers import bridge_cfg\n"
   ]
  },
  {
   "cell_type": "markdown",
   "metadata": {},
   "source": [
    "----\n"
   ]
  },
  {
   "cell_type": "code",
   "execution_count": null,
   "metadata": {},
   "outputs": [],
   "source": [
    "cprint = (console := Console(width=120)).print\n"
   ]
  },
  {
   "cell_type": "markdown",
   "metadata": {},
   "source": [
    "----"
   ]
  },
  {
   "cell_type": "code",
   "execution_count": null,
   "metadata": {},
   "outputs": [
    {
     "data": {
      "application/x-notebook-state+json": {
       "debug": true,
       "feedback": true,
       "hide": true
      }
     },
     "metadata": {},
     "output_type": "display_data"
    }
   ],
   "source": [
    "nb = NBState()"
   ]
  },
  {
   "cell_type": "code",
   "execution_count": null,
   "metadata": {},
   "outputs": [
    {
     "data": {
      "text/plain": [
       "(#16) [{'idx': 0, 'cell_type': 'code', 'source': '#| default_exp nbdev_rt\\n', 'id': 'W0sZmlsZQ==', 'metadata': {'brd': {'id': 'dbde22f3-310b-456b-a0c4-fd7272aa1d56'}}, 'outputs': [], 'execution_count': 1},{'idx': 1, 'cell_type': 'code', 'source': '#| export\\nfrom __future__ import annotations\\n', 'id': 'W1sZmlsZQ==', 'metadata': {'brd': {'id': 'af4316bc-948c-4d92-bc33-7bb3b3f665b6'}}, 'outputs': [], 'execution_count': 2},{'idx': 2, 'cell_type': 'markdown', 'source': '# NbDev_RT\\n\\n> Real time Nbdev real time.\\n', 'id': 'W2sZmlsZQ==', 'metadata': {'brd': {'id': 'f8ab01cb-458c-4b4c-871e-898116841990'}}},{'idx': 3, 'cell_type': 'markdown', 'source': '# Prologue', 'id': 'W3sZmlsZQ==', 'metadata': {'brd': {'id': '19193b70-c163-4906-8446-265077b955d2'}}},{'idx': 4, 'cell_type': 'code', 'source': '#| export\\n', 'id': 'W4sZmlsZQ==', 'metadata': {'brd': {'id': '1fa98ea7-b0fe-48b6-8f74-cba1f99ce7cb'}}, 'outputs': [], 'execution_count': 3},{'idx': 5, 'cell_type': 'code', 'source': '#| export\\n\\nfrom bridget.nb_state import NBState\\n', 'id': 'W5sZmlsZQ==', 'metadata': {'brd': {'id': '6389eb48-bb68-4880-8128-a7d2b89487ed'}}, 'outputs': [], 'execution_count': 4},{'idx': 6, 'cell_type': 'code', 'source': 'from pathlib import Path\\n\\nimport fastcore.all as FC\\nfrom fastcore.test import *\\nfrom olio.common import shortens\\nfrom rich.console import Console\\n', 'id': 'W6sZmlsZQ==', 'metadata': {'brd': {'id': 'd914534c-3837-4153-81f5-703145d8f5b5'}}, 'outputs': [], 'execution_count': 5},{'idx': 7, 'cell_type': 'code', 'source': 'from bridget.helpers import bridge_cfg\\n', 'id': 'X10sZmlsZQ==', 'metadata': {'brd': {'id': '7bc3b429-811b-4bda-a424-e4a08629cacb'}}, 'outputs': [], 'execution_count': 6},{'idx': 8, 'cell_type': 'markdown', 'source': '----\\n', 'id': 'X11sZmlsZQ==', 'metadata': {'brd': {'id': 'da2c58f1-c713-4b26-a0ed-41c19d692760'}}},{'idx': 9, 'cell_type': 'code', 'source': 'cprint = (console := Console(width=120)).print\\n', 'id': 'X12sZmlsZQ==', 'metadata': {'brd': {'id': 'dce49cf9-1c7c-4bc3-ba87-94d574b095b6'}}, 'outputs': [], 'execution_count': 7},{'idx': 10, 'cell_type': 'markdown', 'source': '----', 'id': 'X14sZmlsZQ==', 'metadata': {'brd': {'id': 'ff5d48b9-20e3-4fe7-9ce9-e734b8ec9d97'}}},{'idx': 11, 'cell_type': 'code', 'source': 'nb = NBState()', 'id': 'X15sZmlsZQ==', 'metadata': {'brd': {'id': '6c1e8db6-a86c-4126-b2e8-689a0f98061e', 'renderer': True}}, 'outputs': [{'output_type': 'display_data', 'data': {'application/x-notebook-state+json': {'feedback': True, 'hide': True, 'debug': True}}, 'metadata': {'transient': {'display_id': '3692efeb8769a48212f6df3197b9ba28'}}}], 'execution_count': 8},{'idx': 12, 'cell_type': 'code', 'source': 'nb.cells', 'id': 'X33sZmlsZQ==', 'metadata': {'brd': {'id': '3bb9d95e-8395-45a4-9845-b8a9ccd6cd5b'}}, 'outputs': [], 'execution_count': 9},{'idx': 13, 'cell_type': 'markdown', 'source': '# Colophon\\n----\\n', 'id': 'X30sZmlsZQ==', 'metadata': {'brd': {'id': '5b092694-fba9-40a2-b349-81c1e58cbbda'}}},{'idx': 14, 'cell_type': 'code', 'source': 'import fastcore.all as FC\\nimport nbdev\\nfrom nbdev.clean import nbdev_clean', 'id': 'X31sZmlsZQ==', 'metadata': {'brd': {'id': '2cfb9731-b971-4995-8307-e7c1cdbeb1a9'}}, 'outputs': [], 'execution_count': 15},{'idx': 15, 'cell_type': 'code', 'source': \"if FC.IN_NOTEBOOK:\\n    nb_path = '95_nbdev_rt.ipynb'\\n    # nbdev_clean(nb_path)\\n    nbdev.nbdev_export(nb_path)\", 'id': 'X32sZmlsZQ==', 'metadata': {'brd': {'id': '94d6c6da-c528-47ac-9822-fcb58f26997f'}}, 'outputs': [], 'execution_count': 16}]"
      ]
     },
     "metadata": {
      "bridge": {
       "captured": true
      }
     },
     "output_type": "display_data"
    }
   ],
   "source": [
    "nb.cells"
   ]
  },
  {
   "cell_type": "code",
   "execution_count": null,
   "metadata": {},
   "outputs": [
    {
     "data": {
      "text/html": [
       "<style>details ul { list-style-type:none; list-style-position: outside; padding-inline-start: 22px; margin: 0; } details .string { color: #24837b; } details .string::before { content: \"'\"; } details .string::after { content: \"'\"; } details .number { color: #ad8301; } details .true { color: blue; } details .false { color: red; } details .null { color: gray; } span.n { color: darkgrey; } </style>\n",
       "<details open><summary>NBCell@11\n",
       "</summary>  <ul>\n",
       "    <li>\n",
       "<span><span class=\"n\">idx</span>: <span class=\"v number\">11</span></span>    </li>\n",
       "    <li>\n",
       "<span><span class=\"n\">cell_type</span>: <span class=\"v string\">code</span></span>    </li>\n",
       "    <li>\n",
       "<span><span class=\"n\">source</span>: <span class=\"v string\">nb = NBState()</span></span>    </li>\n",
       "    <li>\n",
       "<span><span class=\"n\">id</span>: <span class=\"v string\">X15sZmlsZQ==</span></span>    </li>\n",
       "    <li>\n",
       "<span><span class=\"n\">metadata</span>: <span class=\"v \">{&#x27;brd&#x27;: {&#x27;id&#x27;: &#x27;6c1e8db6-a86c-4126-b2e8-689a0f98061e&#x27;, &#x27;renderer&#x27;: True}}</span></span>    </li>\n",
       "<details open><summary>outputs\n",
       "</summary>      <ul>\n",
       "<details open><summary>0\n",
       "</summary>          <ul>\n",
       "            <li>\n",
       "<span><span class=\"n\">output_type</span>: <span class=\"v string\">display_data</span></span>            </li>\n",
       "<details open><summary>data\n",
       "</summary>              <ul>\n",
       "<details open><summary>application/x-notebook-state+json\n",
       "</summary>                  <ul>\n",
       "                    <li>\n",
       "<span><span class=\"n\">feedback</span>: <span class=\"v true\">True</span></span>                    </li>\n",
       "                    <li>\n",
       "<span><span class=\"n\">hide</span>: <span class=\"v true\">True</span></span>                    </li>\n",
       "                    <li>\n",
       "<span><span class=\"n\">debug</span>: <span class=\"v true\">True</span></span>                    </li>\n",
       "                  </ul>\n",
       "</details>              </ul>\n",
       "</details>            <li>\n",
       "<span><span class=\"n\">metadata</span>: <span class=\"v \">{&#x27;transient&#x27;: {&#x27;display_id&#x27;: &#x27;3692efeb8769a48212f6df3197b9ba28&#x27;}}</span></span>            </li>\n",
       "          </ul>\n",
       "</details>      </ul>\n",
       "</details>    <li>\n",
       "<span><span class=\"n\">execution_count</span>: <span class=\"v number\">8</span></span>    </li>\n",
       "  </ul>\n",
       "</details>"
      ],
      "text/markdown": [
       "> code\n",
       "\n",
       "```json\n",
       "{\n",
       "  'idx': 11,\n",
       "  'cell_type': 'code',\n",
       "  'source': 'nb = NBState()',\n",
       "  'id': 'X15sZmlsZQ==',\n",
       "  'metadata': {'brd': {'id': '6c1e8db6-a86c-4126-b2e8-689a0f98061e', 'renderer': True}},\n",
       "  'outputs': [\n",
       "    {\n",
       "      'output_type': 'display_data',\n",
       "      'data': {'application/x-notebook-state+json': {'feedback': True, 'hide': True, 'debug': True}},\n",
       "      'metadata': {'transient': {'display_id': '3692efeb8769a48212f6df3197b9ba28'}}\n",
       "    }\n",
       "  ],\n",
       "  'execution_count': 8\n",
       "}\n",
       "```"
      ],
      "text/plain": [
       "{'idx': 11,\n",
       " 'cell_type': 'code',\n",
       " 'source': 'nb = NBState()',\n",
       " 'id': 'X15sZmlsZQ==',\n",
       " 'metadata': {'brd': {'id': '6c1e8db6-a86c-4126-b2e8-689a0f98061e',\n",
       "   'renderer': True}},\n",
       " 'outputs': [{'output_type': 'display_data',\n",
       "   'data': {'application/x-notebook-state+json': {'feedback': True,\n",
       "     'hide': True,\n",
       "     'debug': True}},\n",
       "   'metadata': {'transient': {'display_id': '3692efeb8769a48212f6df3197b9ba28'}}}],\n",
       " 'execution_count': 8}"
      ]
     },
     "metadata": {
      "bridge": {
       "captured": true
      }
     },
     "output_type": "display_data"
    }
   ],
   "source": [
    "nb.cells[11]"
   ]
  },
  {
   "cell_type": "markdown",
   "metadata": {},
   "source": [
    "# Colophon\n",
    "----\n"
   ]
  },
  {
   "cell_type": "code",
   "execution_count": null,
   "metadata": {},
   "outputs": [],
   "source": [
    "import fastcore.all as FC\n",
    "import nbdev\n",
    "from nbdev.clean import nbdev_clean"
   ]
  },
  {
   "cell_type": "code",
   "execution_count": null,
   "metadata": {},
   "outputs": [],
   "source": [
    "if FC.IN_NOTEBOOK:\n",
    "    nb_path = '95_nbdev_rt.ipynb'\n",
    "    nbdev_clean(nb_path)\n",
    "    nbdev.nbdev_export(nb_path)"
   ]
  }
 ],
 "metadata": {
  "kernelspec": {
   "display_name": "python3",
   "language": "python",
   "name": "python3"
  }
 },
 "nbformat": 4,
 "nbformat_minor": 2
}
