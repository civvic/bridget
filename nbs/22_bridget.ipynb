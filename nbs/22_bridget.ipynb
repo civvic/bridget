{
 "cells": [
  {
   "cell_type": "code",
   "execution_count": null,
   "metadata": {},
   "outputs": [],
   "source": [
    "#| default_exp bridget\n"
   ]
  },
  {
   "cell_type": "code",
   "execution_count": null,
   "metadata": {},
   "outputs": [],
   "source": [
    "#| export\n",
    "from __future__ import annotations\n"
   ]
  },
  {
   "cell_type": "markdown",
   "metadata": {},
   "source": [
    "# Bridget\n",
    "> HTMX + FastHTML - Server for Jupyter Notebooks\n",
    "\n",
    "`AnyWidget` widget standing in for an HTTP server with `HTMX` Ajax calls."
   ]
  },
  {
   "cell_type": "markdown",
   "metadata": {},
   "source": [
    "## Why Bridget?\n",
    "\n",
    "Jupyter notebooks serve two primary functions:\n",
    "1. **Exploratory/Educational**: Interactive computing and learning\n",
    "2. **Development**: Literate programming and package creation (via nbdev)\n",
    "\n",
    "While code creation is well-served by various notebook environments (Jupyter, VSCode, Marimo, etc.), the display and interaction capabilities are often limited by IPython's well-thought but basic and aging display system. Modern development requires:\n",
    "\n",
    "- Rich data visualization\n",
    "- Interactive system integration\n",
    "- Better control over output rendering\n",
    "\n",
    "### The Front-end Challenge\n",
    "\n",
    "Notebooks already run in browsers (or browser-like environments), giving us access to powerful HTML/JavaScript capabilities. The front-end and kernel are inherently connected, suggesting we shouldn't need additional communication layers.\n",
    "\n",
    "However, the notebook ecosystem is fragmented:\n",
    "- Jupyter (nbclassic, Notebook, Lab): ipywidgets\n",
    "- VSCode/Cursor: Extensions\n",
    "- Marimo: Custom solutions\n",
    "- Google Colab: Proprietary package\n",
    "\n",
    "This fragmentation forces users needing better display solutions to deal with complex, environment-specific tooling.\n",
    "\n",
    "### Enter FastHTML and HTMX\n",
    "\n",
    "FastHTML provides an innovative approach to web apps, emphasizing HTML-first development through HTMX. While Jupyter support isn't its core focus, FastHTML itself is developed using nbdev in notebooks.\n",
    "\n",
    "Current FastHTML notebook integration:\n",
    "- Launches a separate Uvicorn server\n",
    "- Connects HTMX via standard HTTP/AJAX\n",
    "- Works across most notebook variants\n",
    "\n",
    "This approach is general, clean and lightweight but involves spawning a full HTTP server with:\n",
    "- Multi-user capabilities (unnecessary for notebooks)\n",
    "- Async architecture (notebooks are sync)\n",
    "- Complex lifecycle management\n",
    "- Production-level features (overkill for notebook use)\n",
    "- IPython Javascript display object in each cell to trigger HTMX.\n",
    "\n",
    "### The Bridget Solution\n",
    "\n",
    "Bridget proposes using a widget-based approach that:\n",
    "1. **Simplifies**: Replaces HTTP server with direct widget communication\n",
    "2. **Generalizes**: Works across notebook environments via ipywidgets\n",
    "3. **Extends**: Enables creation of notebook-specific components\n",
    "4. **Integrates**: Provides Python API for HTMX functionality\n",
    "\n",
    "This proof-of-concept shows how we can maintain FastHTML's powerful features while better adapting to the notebook environment's unique characteristics and constraints."
   ]
  },
  {
   "cell_type": "markdown",
   "metadata": {},
   "source": [
    ":::{.callout-note}\n",
    "Personal note: My interest here isn't web apps, but notebook development.  \n",
    "\n",
    "I like ipywidgets, or at least their intentions. I've written several and used them in many personal projects. However, they're a challenging piece of software with complicated tooling. They inherit all the nightmarish complexity of the JavaScript ecosystem, where the tooling is more involved than the language itself. AnyWidget is a step in the right direction, liberating us Pythonistas from the JS ecosystem. But the notebook part, the Python part, remains an unsolved problem in my opinion.\n",
    "\n",
    "Of all solutions I've explored for achieving full interactivity in notebooks, HTMX + FastHTML comes closest, feeling more natural and integrating better with the notebook environment.\n",
    ":::"
   ]
  },
  {
   "cell_type": "markdown",
   "metadata": {},
   "source": [
    "# Prologue"
   ]
  },
  {
   "cell_type": "code",
   "execution_count": null,
   "metadata": {},
   "outputs": [],
   "source": [
    "#| export\n",
    "import dataclasses\n",
    "import inspect\n",
    "import time\n",
    "from contextlib import contextmanager\n",
    "from pathlib import Path\n",
    "from types import MethodType\n",
    "from typing import Any\n",
    "from typing import Mapping\n",
    "from typing import Protocol\n",
    "from typing import TypeAlias\n",
    "\n",
    "import anywidget\n",
    "import fastcore.all as FC\n",
    "import traitlets as T\n",
    "from anyio import from_thread\n",
    "from fastcore.xml import escape\n",
    "from fastcore.xml import FT\n",
    "from fastcore.xml import NotStr\n",
    "from fastcore.xml import to_xml\n",
    "from fasthtml.basics import ft_html\n",
    "from fasthtml.core import Client\n",
    "from fasthtml.core import FastHTML\n",
    "from httpx import ASGITransport\n",
    "from httpx import AsyncClient\n",
    "from httpx import codes\n",
    "from httpx import Request\n",
    "from httpx import Response\n",
    "from IPython.display import display\n",
    "from IPython.display import DisplayHandle\n",
    "from IPython.display import HTML\n",
    "from IPython.display import Markdown\n"
   ]
  },
  {
   "cell_type": "code",
   "execution_count": null,
   "metadata": {},
   "outputs": [],
   "source": [
    "#| export\n",
    "\n",
    "from fasthtml.components import Div, Details, Summary, B, Pre\n"
   ]
  },
  {
   "cell_type": "code",
   "execution_count": null,
   "metadata": {},
   "outputs": [],
   "source": [
    "#| export\n",
    "import bridget\n",
    "from bridget.helpers import cleanupwidgets\n",
    "from bridget.helpers import id_gen\n",
    "from bridget.helpers import nb_app\n",
    "from bridget.helpers import pretty_repr\n",
    "from bridget.helpers import read_vfile\n",
    "from bridget.htmx import swap\n",
    "from bridget.htmx import SwapStyleT\n",
    "from bridget.route_provider import add_routes\n",
    "from bridget.route_provider import APIRouterB\n",
    "from bridget.route_provider import RoutesProviderP\n"
   ]
  },
  {
   "cell_type": "code",
   "execution_count": null,
   "metadata": {},
   "outputs": [],
   "source": [
    "import json\n",
    "import random\n",
    "from inspect import Parameter\n",
    "from typing import cast\n",
    "\n",
    "import fasthtml.components as ft\n",
    "import ipywidgets as W\n",
    "from fastcore.test import *\n",
    "from fasthtml.components import Button\n",
    "from fasthtml.components import Div\n",
    "from fasthtml.components import H1\n",
    "from fasthtml.components import H2\n",
    "from fasthtml.components import Li\n",
    "from fasthtml.components import Main\n",
    "from fasthtml.components import show\n",
    "from fasthtml.components import Span\n",
    "from fasthtml.components import Title\n",
    "from fasthtml.components import Ul\n",
    "from IPython.display import Javascript\n",
    "from rich.console import Console\n"
   ]
  },
  {
   "cell_type": "code",
   "execution_count": null,
   "metadata": {},
   "outputs": [],
   "source": [
    "from bridget.route_provider import ar\n"
   ]
  },
  {
   "cell_type": "markdown",
   "metadata": {},
   "source": [
    "----\n"
   ]
  },
  {
   "cell_type": "code",
   "execution_count": null,
   "metadata": {},
   "outputs": [],
   "source": [
    "#| exporti\n",
    "\n",
    "DEBUG = True\n",
    "new_id = id_gen()\n"
   ]
  },
  {
   "cell_type": "code",
   "execution_count": null,
   "metadata": {},
   "outputs": [],
   "source": [
    "cprint = (console := Console(width=120)).print"
   ]
  },
  {
   "cell_type": "code",
   "execution_count": null,
   "metadata": {},
   "outputs": [],
   "source": [
    "# needed for vfile:\n",
    "%load_ext anywidget\n"
   ]
  },
  {
   "cell_type": "code",
   "execution_count": null,
   "metadata": {},
   "outputs": [
    {
     "name": "stdout",
     "output_type": "stream",
     "text": [
      "env: ANYWIDGET_HMR=0\n"
     ]
    }
   ],
   "source": [
    "%env ANYWIDGET_HMR=0"
   ]
  },
  {
   "cell_type": "markdown",
   "metadata": {},
   "source": [
    "----"
   ]
  },
  {
   "cell_type": "code",
   "execution_count": null,
   "metadata": {},
   "outputs": [],
   "source": [
    "#| export\n",
    "\n",
    "_BUNDLER_PATH = Path() if __name__ == \"__main__\" else Path(inspect.getfile(bridget)).parent\n"
   ]
  },
  {
   "cell_type": "code",
   "execution_count": null,
   "metadata": {},
   "outputs": [],
   "source": [
    "_EMPTY = Parameter.empty\n",
    "_VOID = object()\n"
   ]
  },
  {
   "cell_type": "code",
   "execution_count": null,
   "metadata": {},
   "outputs": [],
   "source": [
    "#| export\n",
    "\n",
    "_n = '\\n'"
   ]
  },
  {
   "cell_type": "markdown",
   "metadata": {},
   "source": [
    "# Helpers\n",
    "> Some convenience utils to work with FastHTML in Notebooks."
   ]
  },
  {
   "cell_type": "markdown",
   "metadata": {},
   "source": [
    "## Config\n",
    "\n",
    "Simple namespace to store configuration with a context manager to make temporary changes."
   ]
  },
  {
   "cell_type": "code",
   "execution_count": null,
   "metadata": {},
   "outputs": [],
   "source": [
    "#| export\n",
    "\n",
    "class Config:\n",
    "    def update(self, **kwargs):\n",
    "        for k,v in kwargs.items(): \n",
    "            try: setattr(self, k, v)\n",
    "            except AttributeError: pass\n",
    "    def show(self): print(vars(self))\n",
    "    @contextmanager\n",
    "    def __call__(self, **kwargs):\n",
    "        vv = vars(self)\n",
    "        old = {k:vv[k] for k in kwargs if k in vv}\n",
    "        for k,v in kwargs.items(): setattr(self, k, v)\n",
    "        yield\n",
    "        for k,v in old.items(): setattr(self, k, v)\n"
   ]
  },
  {
   "cell_type": "code",
   "execution_count": null,
   "metadata": {},
   "outputs": [],
   "source": [
    "@dataclasses.dataclass\n",
    "class _Temp(Config):\n",
    "    a: int = 1\n",
    "    b: str = '2'\n",
    "\n",
    "t = _Temp()\n",
    "test_eq(t.a, 1)\n",
    "with t(a=3): test_eq(t.a, 3)\n",
    "test_eq(t.a, 1)\n",
    "\n",
    "t.update(a=3, c=10)\n",
    "test_eq(t.a, 3)\n"
   ]
  },
  {
   "cell_type": "code",
   "execution_count": null,
   "metadata": {},
   "outputs": [],
   "source": [
    "#| export\n",
    "\n",
    "@dataclasses.dataclass\n",
    "class BridgeCfg(Config):\n",
    "    auto_show: bool = False\n",
    "    auto_mount: bool = False\n",
    "    auto_id: bool = False\n",
    "    debug_req: bool = False\n",
    "\n",
    "bridge_cfg = BridgeCfg()\n"
   ]
  },
  {
   "cell_type": "code",
   "execution_count": null,
   "metadata": {},
   "outputs": [
    {
     "name": "stdout",
     "output_type": "stream",
     "text": [
      "{'auto_show': False, 'auto_mount': False, 'auto_id': False}\n"
     ]
    }
   ],
   "source": [
    "bridge_cfg.show()\n"
   ]
  },
  {
   "cell_type": "markdown",
   "metadata": {},
   "source": [
    "The `BridgeCfg` class defines core behavior settings:\n",
    "\n",
    "- `auto_show`: When True, FastHTML objects display as HTML instead of markdown\n",
    "- `auto_mount`: When True, components with routes are automatically mounted\n",
    "- `auto_id`: When True, display elements get auto-generated IDs\n"
   ]
  },
  {
   "cell_type": "markdown",
   "metadata": {},
   "source": [
    "## FastHTML display\n",
    "\n",
    "Opt-in to display FastHTML objects in the notebook as HTML instead of the default markdown `repr`.\n",
    "\n",
    ":::{.callout-warning    }\n",
    "Note that recent FastHTML [v0.9.0](https://github.com/AnswerDotAI/fasthtml/releases/tag/0.9.0) has improved Jupyter support substancially and now have this same functionality (with `render_ft`, in v0.9.1 on by default), though this implementation is somewhat different.\n",
    ":::\n",
    "\n",
    "### Notes\n",
    "\n",
    "1. This functionality patches FastHTML's IPython display system\n",
    "2. As of FastHTML v0.9.1, similar functionality is available natively via `render_ft`\n",
    "3. This implementation:\n",
    "   - Overrides all IPython MIME methods\n",
    "   - Uses `bridge_cfg.auto_show` for display control\n",
    "   - Maintains compatibility with older FastHTML versions\n",
    "\n",
    "This is a convenience and not core of this proof-of-concept notebooks. Feel free to comment or remove the code below if you don't want to use it.\n"
   ]
  },
  {
   "cell_type": "code",
   "execution_count": null,
   "metadata": {},
   "outputs": [
    {
     "data": {
      "text/markdown": [
       "```html\n",
       "<div>I'm a Div!</div>\n",
       "\n",
       "```"
      ],
      "text/plain": [
       "<IPython.core.display.Markdown object>"
      ]
     },
     "metadata": {},
     "output_type": "display_data"
    }
   ],
   "source": [
    "Div(NotStr(\"I'm a Div!\")) # this will show the div if using v0.9.1\n"
   ]
  },
  {
   "cell_type": "code",
   "execution_count": null,
   "metadata": {},
   "outputs": [],
   "source": [
    "#| exporti\n",
    "\n",
    "@FC.patch\n",
    "def _ipython_display_(self: FT):  # type: ignore\n",
    "    from IPython.display import display\n",
    "    if not bridge_cfg.auto_show: display(Markdown(self._repr_markdown_()))\n",
    "    else: display(HTML(self.__html__()))\n"
   ]
  },
  {
   "cell_type": "code",
   "execution_count": null,
   "metadata": {},
   "outputs": [
    {
     "data": {
      "text/markdown": [
       "```html\n",
       "<div>me too!</div>\n",
       "\n",
       "```"
      ],
      "text/plain": [
       "<IPython.core.display.Markdown object>"
      ]
     },
     "metadata": {},
     "output_type": "display_data"
    }
   ],
   "source": [
    "Div('me too!')"
   ]
  },
  {
   "cell_type": "code",
   "execution_count": null,
   "metadata": {},
   "outputs": [
    {
     "data": {
      "text/html": [
       "<div>But I&#x27;m prettier!</div>\n"
      ],
      "text/plain": [
       "<IPython.core.display.HTML object>"
      ]
     },
     "metadata": {},
     "output_type": "display_data"
    }
   ],
   "source": [
    "with bridge_cfg(auto_show=True):\n",
    "    display(Div(\"But I'm prettier!\"))\n"
   ]
  },
  {
   "cell_type": "code",
   "execution_count": null,
   "metadata": {},
   "outputs": [
    {
     "data": {
      "text/markdown": [
       "```html\n",
       "<div>back to tags!</div>\n",
       "\n",
       "```"
      ],
      "text/plain": [
       "<IPython.core.display.Markdown object>"
      ]
     },
     "metadata": {},
     "output_type": "display_data"
    }
   ],
   "source": [
    "Div('back to tags!')"
   ]
  },
  {
   "cell_type": "code",
   "execution_count": null,
   "metadata": {},
   "outputs": [
    {
     "data": {
      "text/html": [
       "<details open><summary>dddd</summary><pre>eeee</pre></details>"
      ],
      "text/plain": [
       "<IPython.core.display.HTML object>"
      ]
     },
     "metadata": {},
     "output_type": "display_data"
    }
   ],
   "source": [
    "bridge_cfg.auto_show = True\n",
    "ft.Details(open=True)(ft.Summary('dddd'), ft.Pre('eeee'))\n"
   ]
  },
  {
   "cell_type": "code",
   "execution_count": null,
   "metadata": {},
   "outputs": [
    {
     "data": {
      "text/markdown": [
       "```html\n",
       "<button>ffff</button>\n",
       "```"
      ],
      "text/plain": [
       "<IPython.core.display.Markdown object>"
      ]
     },
     "metadata": {},
     "output_type": "display_data"
    }
   ],
   "source": [
    "bridge_cfg.auto_show = False\n",
    "Button('ffff')\n"
   ]
  },
  {
   "cell_type": "markdown",
   "metadata": {},
   "source": [
    "## Bridget scripts\n",
    "\n",
    "`HTMX` and other useful JS libraries."
   ]
  },
  {
   "cell_type": "code",
   "execution_count": null,
   "metadata": {},
   "outputs": [],
   "source": [
    "#| export\n",
    "\n",
    "class ScriptsDetails:\n",
    "    def __init__(self, scs, title='Loaded scripts', open=True): \n",
    "        self.scs = scs; self.title = title; self.open = open\n",
    "    def __ft__(self):\n",
    "        return Details(open=self.open)(\n",
    "            Summary(B(self.title)),\n",
    "            Pre(NotStr('\\n'.join(escape(to_xml(_, indent=False, do_escape=False).strip()) for _ in self.scs))),\n",
    "        )\n",
    "\n",
    "def _bridget_scripts_extra():\n",
    "    from fasthtml.core import surrsrc, scopesrc\n",
    "    return {'surreal': surrsrc, 'css_scope_inline': scopesrc}\n",
    "\n",
    "def bridget_scripts(load=False):\n",
    "    from fasthtml.core import fhjsscr\n",
    "    from fasthtml.xtend import Script\n",
    "    htmxsrc = Script(src=f\"https://unpkg.com/htmx.org@next/dist/htmx.{'' if DEBUG else 'min.'}js\")()\n",
    "    scs = {'htmx': htmxsrc, 'fasthtml_js': fhjsscr, **_bridget_scripts_extra()}\n",
    "    if load: display(HTML(to_xml((*(scvals := [_ for _ in scs.values()]), ScriptsDetails(scvals)))))\n",
    "    return scs\n"
   ]
  },
  {
   "cell_type": "code",
   "execution_count": null,
   "metadata": {},
   "outputs": [
    {
     "data": {
      "text/html": [
       "<script src=\"https://unpkg.com/htmx.org@next/dist/htmx.js\"></script><script src=\"https://cdn.jsdelivr.net/gh/answerdotai/fasthtml-js@1.0.4/fasthtml.js\"></script><script src=\"https://cdn.jsdelivr.net/gh/answerdotai/surreal@main/surreal.js\"></script><script src=\"https://cdn.jsdelivr.net/gh/gnat/css-scope-inline@main/script.js\"></script><details open><summary><b>Loaded scripts</b></summary><pre>&lt;script src=&quot;https://unpkg.com/htmx.org@next/dist/htmx.js&quot;&gt;&lt;/script&gt;\n",
       "&lt;script src=&quot;https://cdn.jsdelivr.net/gh/answerdotai/fasthtml-js@1.0.4/fasthtml.js&quot;&gt;&lt;/script&gt;\n",
       "&lt;script src=&quot;https://cdn.jsdelivr.net/gh/answerdotai/surreal@main/surreal.js&quot;&gt;&lt;/script&gt;\n",
       "&lt;script src=&quot;https://cdn.jsdelivr.net/gh/gnat/css-scope-inline@main/script.js&quot;&gt;&lt;/script&gt;</pre></details>"
      ],
      "text/plain": [
       "<IPython.core.display.HTML object>"
      ]
     },
     "metadata": {},
     "output_type": "display_data"
    }
   ],
   "source": [
    "bridget_scripts(True);\n"
   ]
  },
  {
   "cell_type": "code",
   "execution_count": null,
   "metadata": {},
   "outputs": [
    {
     "data": {
      "text/html": [
       "\n",
       "<div>💩 👻 No style.</div>\n",
       "\n",
       "<div>\n",
       "    <style> /* Simple example. */\n",
       "        me { margin: 20px; }\n",
       "        me div { font-size: 5rem; }\n",
       "    </style>\n",
       "    <div>👻</div>\n",
       "</div>\n"
      ],
      "text/plain": [
       "<IPython.core.display.HTML object>"
      ]
     },
     "metadata": {},
     "output_type": "display_data"
    }
   ],
   "source": [
    "html = '''\n",
    "<div>💩 👻 No style.</div>\n",
    "\n",
    "<div>\n",
    "    <style> /* Simple example. */\n",
    "        me { margin: 20px; }\n",
    "        me div { font-size: 5rem; }\n",
    "    </style>\n",
    "    <div>👻</div>\n",
    "</div>\n",
    "'''\n",
    "\n",
    "display(HTML(html))"
   ]
  },
  {
   "cell_type": "markdown",
   "metadata": {},
   "source": [
    "Bridget automatically loads required JavaScript libraries:\n",
    "\n",
    "1. HTMX\n",
    "2. FastHTML core scripts\n",
    "3. Awesome gnat's Scope and Surreal scripts\n",
    "\n",
    "These are loaded by default when creating a Bridget app. You can customize this by overriding defaults when creating the app (covered in app creation section)\n"
   ]
  },
  {
   "cell_type": "markdown",
   "metadata": {},
   "source": [
    "## ClientP"
   ]
  },
  {
   "cell_type": "code",
   "execution_count": null,
   "metadata": {},
   "outputs": [],
   "source": [
    "#| export\n",
    "\n",
    "# if typing.TYPE_CHECKING:\n",
    "class ClientP(Protocol):\n",
    "    def get(self, url: str, **kwargs) -> Response: ...\n",
    "    def post(self, url: str, **kwargs) -> Response: ...\n",
    "    def delete(self, url: str, **kwargs) -> Response: ...\n",
    "    def put(self, url: str, **kwargs) -> Response: ...\n",
    "    def patch(self, url: str, **kwargs) -> Response: ...\n",
    "    def options(self, url: str, **kwargs) -> Response: ...\n"
   ]
  },
  {
   "cell_type": "markdown",
   "metadata": {},
   "source": [
    "## vfile: Components\n",
    "\n",
    "> **FastHTML** xtend `Script` and `Style` with `vfile:` support."
   ]
  },
  {
   "cell_type": "code",
   "execution_count": null,
   "metadata": {},
   "outputs": [],
   "source": [
    "#| export\n",
    "\n",
    "@FC.delegates(ft_html, keep=True)  # type: ignore\n",
    "def Script(code:str=\"\", **kwargs)->FT:\n",
    "    \"A Script tag that doesn't escape its code\"\n",
    "    return ft_html('script', (_n, NotStr(FC.ifnone(read_vfile(code), code))), **kwargs)\n",
    "\n",
    "@FC.delegates(ft_html, keep=True)  # type: ignore\n",
    "def Style(*c, **kwargs)->FT:\n",
    "    \"A Style tag that doesn't escape its code\"\n",
    "    return ft_html('style', tuple(NotStr(FC.ifnone(read_vfile(_), _)) for _ in c), **kwargs)\n"
   ]
  },
  {
   "cell_type": "markdown",
   "metadata": {},
   "source": [
    "## autoid (not used)"
   ]
  },
  {
   "cell_type": "code",
   "execution_count": null,
   "metadata": {},
   "outputs": [],
   "source": [
    "%%vfile autoid.js\n",
    "\n",
    "// debugger;\n",
    "function autodel(id) {\n",
    "    // debugger;\n",
    "    const me = document.querySelector(`#${id}`);\n",
    "    const parent = me.parentElement;\n",
    "    // parent.append(`test ${id}`);\n",
    "    window.setTimeout(() => {{ \n",
    "        me.remove(); \n",
    "        parent.setAttribute(\"id\", `output-${id}`);\n",
    "        console.log('deleted script', id); \n",
    "    }}, 100);\n",
    "    console.log(\"test script\", id);\n",
    "}\n"
   ]
  },
  {
   "cell_type": "code",
   "execution_count": null,
   "metadata": {},
   "outputs": [
    {
     "data": {
      "text/html": [
       "<script>\n",
       "// debugger;\n",
       "function autodel(id) {\n",
       "    // debugger;\n",
       "    const me = document.querySelector(`#${id}`);\n",
       "    const parent = me.parentElement;\n",
       "    // parent.append(`test ${id}`);\n",
       "    window.setTimeout(() => {{ \n",
       "        me.remove(); \n",
       "        parent.setAttribute(\"id\", `output-${id}`);\n",
       "        console.log('deleted script', id); \n",
       "    }}, 100);\n",
       "    console.log(\"test script\", id);\n",
       "}\n",
       "</script>"
      ],
      "text/plain": [
       "<IPython.core.display.HTML object>"
      ]
     },
     "execution_count": null,
     "metadata": {},
     "output_type": "execute_result"
    }
   ],
   "source": [
    "sc = '''\n",
    "// debugger;\n",
    "function autodel(id) {\n",
    "    // debugger;\n",
    "    const me = document.querySelector(`#${id}`);\n",
    "    const parent = me.parentElement;\n",
    "    // parent.append(`test ${id}`);\n",
    "    window.setTimeout(() => {{ \n",
    "        me.remove(); \n",
    "        parent.setAttribute(\"id\", `output-${id}`);\n",
    "        console.log('deleted script', id); \n",
    "    }}, 100);\n",
    "    console.log(\"test script\", id);\n",
    "}\n",
    "'''\n",
    "\n",
    "# autodelscr = Script(sc)\n",
    "autodelscr = Script('vfile:autoid.js')\n",
    "HTML(to_xml(autodelscr))"
   ]
  },
  {
   "cell_type": "code",
   "execution_count": null,
   "metadata": {},
   "outputs": [
    {
     "data": {
      "text/html": [
       "<script type=\"module\" id=\"b0322d6c0-0ab13b04-41e13a9c-c23b2514\">\n",
       "\n",
       "// debugger;\n",
       "autodel(\"b0322d6c0-0ab13b04-41e13a9c-c23b2514\");\n",
       "</script>aaaa"
      ],
      "text/plain": [
       "<IPython.core.display.HTML object>"
      ]
     },
     "execution_count": null,
     "metadata": {},
     "output_type": "execute_result"
    }
   ],
   "source": [
    "sc = '''\n",
    "// debugger;\n",
    "autodel(\"{0}\");\n",
    "'''\n",
    "\n",
    "idx = new_id()\n",
    "scr = Script(sc.format(idx), id=idx, type='module')\n",
    "HTML(to_xml(scr)+'aaaa')"
   ]
  },
  {
   "cell_type": "code",
   "execution_count": null,
   "metadata": {},
   "outputs": [],
   "source": [
    "sc = '''\n",
    "// debugger;\n",
    "autodel(\"{0}\");\n",
    "'''\n",
    "def autoid(idx=None):\n",
    "    idx = idx or new_id()\n",
    "    return Script(sc.format(idx), id=idx, type='module'), idx\n"
   ]
  },
  {
   "cell_type": "code",
   "execution_count": null,
   "metadata": {},
   "outputs": [
    {
     "data": {
      "text/html": [
       "aaaaa<script type=\"module\" id=\"b32798165-7abb940d-76d882d7-466ae78c\">\n",
       "\n",
       "// debugger;\n",
       "autodel(\"b32798165-7abb940d-76d882d7-466ae78c\");\n",
       "</script>"
      ],
      "text/plain": [
       "<IPython.core.display.HTML object>"
      ]
     },
     "execution_count": null,
     "metadata": {},
     "output_type": "execute_result"
    }
   ],
   "source": [
    "HTML('aaaaa'+to_xml(autoid()[0]))\n"
   ]
  },
  {
   "cell_type": "code",
   "execution_count": null,
   "metadata": {},
   "outputs": [],
   "source": [
    "# %%HTML\n",
    "#   <script id=\"asdfg-12345\">\n",
    "#     debugger;\n",
    "#     me().attribute('id', 'output-asdfg-12345');\n",
    "#     setTimeout(el => { el.remove(); }, 100, me('#asdfg-12345'))\n",
    "#     // autodel('asdfg-12345');\n",
    "#   </script>\n",
    "#   <div class=\"uploader\">aaaa</div>\n"
   ]
  },
  {
   "cell_type": "code",
   "execution_count": null,
   "metadata": {},
   "outputs": [],
   "source": [
    "#| export\n",
    "\n",
    "__autoid_scr = '''\n",
    "//debugger;\n",
    "me().attribute('id', 'output-{0}').classAdd('bridge');\n",
    "setTimeout(el => {{ el.remove(); }}, 100, me('#{0}'))\n",
    "'''\n",
    "def autoid(idx=None):\n",
    "    idx = idx or new_id()\n",
    "    return Script(__autoid_scr.format(idx), id=idx), idx\n"
   ]
  },
  {
   "cell_type": "code",
   "execution_count": null,
   "metadata": {},
   "outputs": [
    {
     "data": {
      "text/html": [
       "cccc"
      ],
      "text/plain": [
       "<IPython.core.display.HTML object>"
      ]
     },
     "metadata": {},
     "output_type": "display_data"
    }
   ],
   "source": [
    "scr,idx = autoid()\n",
    "dhdl = DisplayHandle(idx)\n",
    "dhdl.display(HTML('bbbb'+to_xml(scr)))\n"
   ]
  },
  {
   "cell_type": "code",
   "execution_count": null,
   "metadata": {},
   "outputs": [],
   "source": [
    "dhdl.update(HTML('cccc'))"
   ]
  },
  {
   "cell_type": "markdown",
   "metadata": {},
   "source": [
    "## DisplayId\n",
    "\n",
    "An attempt to provide a IPython display wrapper that automatically handles the display ID to allow us to target especific cells. Not working, for now it's essentially just IPython display."
   ]
  },
  {
   "cell_type": "code",
   "execution_count": null,
   "metadata": {},
   "outputs": [],
   "source": [
    "#| export\n",
    "\n",
    "class DisplayId(DisplayHandle):\n",
    "    def __init__(self, display_id=None):\n",
    "        super().__init__(display_id or new_id())\n",
    "        self._contents = None\n",
    "        self._sc = to_xml(autoid(self.display_id)[0]) if bridge_cfg.auto_id else ''\n",
    "\n",
    "    def display(self, obj='', **kwargs):\n",
    "        from IPython.display import display\n",
    "        self._contents = str(obj)\n",
    "        display(HTML(self._contents + self._sc), display_id=self.display_id, **kwargs)\n",
    "\n",
    "    def update(self, obj='', **kwargs):\n",
    "        kwargs['update'] = True\n",
    "        self.display(obj, **kwargs)\n",
    "\n",
    "    def contents(self):\n",
    "        return self._contents\n"
   ]
  },
  {
   "cell_type": "code",
   "execution_count": null,
   "metadata": {},
   "outputs": [
    {
     "data": {
      "text/html": [],
      "text/plain": [
       "<IPython.core.display.HTML object>"
      ]
     },
     "metadata": {},
     "output_type": "display_data"
    }
   ],
   "source": [
    "dhdl = DisplayId()\n",
    "dhdl.display('dddd')\n",
    "test_eq(dhdl.contents(), 'dddd')"
   ]
  },
  {
   "cell_type": "code",
   "execution_count": null,
   "metadata": {},
   "outputs": [],
   "source": [
    "dhdl.update('eeee')\n",
    "test_eq(dhdl.contents(), 'eeee')\n"
   ]
  },
  {
   "cell_type": "code",
   "execution_count": null,
   "metadata": {},
   "outputs": [],
   "source": [
    "dhdl.update()"
   ]
  },
  {
   "cell_type": "code",
   "execution_count": null,
   "metadata": {},
   "outputs": [
    {
     "data": {
      "text/html": [
       "hhhh"
      ],
      "text/plain": [
       "<IPython.core.display.HTML object>"
      ]
     },
     "metadata": {},
     "output_type": "display_data"
    }
   ],
   "source": [
    "dhdl = DisplayId()\n",
    "dhdl.display('gggg')\n",
    "test_eq(dhdl.contents(), 'gggg')\n"
   ]
  },
  {
   "cell_type": "code",
   "execution_count": null,
   "metadata": {},
   "outputs": [],
   "source": [
    "dhdl.update('hhhh')\n",
    "test_eq(dhdl.contents(), 'hhhh')\n"
   ]
  },
  {
   "cell_type": "code",
   "execution_count": null,
   "metadata": {},
   "outputs": [],
   "source": [
    "class CellRenderP(Protocol):\n",
    "    def __call__(self, *o, cell_handle: CellHandle, **kwargs): ...\n",
    "\n",
    "class CellHandle:\n",
    "    def __init__(self, display_id:str, render: CellRenderP): \n",
    "        self.di = DisplayId(display_id=display_id)\n",
    "        self.render = render\n",
    "    def __call__(self, *args, **kwargs):\n",
    "        return self.render(*args, cell_handle=self, **kwargs)\n"
   ]
  },
  {
   "cell_type": "markdown",
   "metadata": {},
   "source": [
    "# Bridge"
   ]
  },
  {
   "cell_type": "code",
   "execution_count": null,
   "metadata": {},
   "outputs": [],
   "source": [
    "def get_app(): \n",
    "    app = FastHTML(default_hdrs=False, sess_cls=None)  # type: ignore\n",
    "    app.user_middleware.clear()\n",
    "    return app, AsyncClient(transport=ASGITransport(app), base_url='http://nb'), app.route\n",
    "\n",
    "app, cli, rt = get_app()\n",
    "\n",
    "@rt(\"/hi\")\n",
    "def get():\n",
    "    return 'Hi there'\n"
   ]
  },
  {
   "cell_type": "markdown",
   "metadata": {},
   "source": [
    "## Bridge utils"
   ]
  },
  {
   "cell_type": "code",
   "execution_count": null,
   "metadata": {},
   "outputs": [],
   "source": [
    "#| export\n",
    "\n",
    "def request2httpx_request(cli:AsyncClient, http_request: dict[str, Any]) -> Request:\n",
    "    r = http_request\n",
    "    return cli.build_request(r['method'], r['url'], \n",
    "        headers=r['headers'] if 'headers' in r else {}, \n",
    "        content=r['body'] if 'body' in r else None, timeout=None)\n"
   ]
  },
  {
   "cell_type": "code",
   "execution_count": null,
   "metadata": {},
   "outputs": [],
   "source": [
    "#| export\n",
    "\n",
    "class HasFT(Protocol): \n",
    "    def __ft__(self) -> Any: ...\n",
    "class HasHTML(Protocol):\n",
    "    def __html__(self) -> str: ...\n",
    "\n",
    "Bridgeable: TypeAlias = str|Mapping|FT|HasFT|HasHTML\n",
    "\n",
    "\n",
    "def request2response(cli:AsyncClient, http_request) -> Response:\n",
    "    httpx_request = request2httpx_request(cli, http_request)\n",
    "    with from_thread.start_blocking_portal() as portal: \n",
    "        response = portal.call(cli.send, httpx_request)\n",
    "    return response\n",
    "\n",
    "\n",
    "def httpx_response_to_json(response: Response) -> dict[str, Any]:\n",
    "    hdrs = {**response.headers, \n",
    "        'last-modified': time.strftime('%a, %d %b %Y %H:%M:%S GMT', time.gmtime()),\n",
    "        'cache-control': 'no-store, no-cache, must-revalidate',\n",
    "    }\n",
    "    data = response.content.decode()\n",
    "    json_response = {\n",
    "        \"headers\": hdrs,\n",
    "        \"status\": response.status_code,\n",
    "        \"statusText\": codes.get_reason_phrase(response.status_code),\n",
    "        # \"text\": data,\n",
    "        \"data\": data,\n",
    "        \"xml\": None,\n",
    "        'finalUrl': f\"{response.request.url}\",\n",
    "    }\n",
    "    return json_response\n"
   ]
  },
  {
   "cell_type": "code",
   "execution_count": null,
   "metadata": {},
   "outputs": [],
   "source": [
    "@FC.patch\n",
    "def _ipython_display_(self: Response):\n",
    "    dhdl = DisplayId()\n",
    "    dhdl.display(self.text)\n"
   ]
  },
  {
   "cell_type": "markdown",
   "metadata": {},
   "source": [
    "## BridgeBase\n",
    "> A helper class that wraps FastHTML and Client functionality for displaying and mounting components.\n"
   ]
  },
  {
   "cell_type": "code",
   "execution_count": null,
   "metadata": {},
   "outputs": [],
   "source": [
    "#| export\n",
    "\n",
    "class BridgeBase:\n",
    "    \"A simple wrapper around `FastHTML` and `Client`.\"\n",
    "\n",
    "    def __init__(self, app: FastHTML, *args, **kwargs):\n",
    "        self.app = app\n",
    "        cli:ClientP = Client(self.app, 'http://nb)')  # type: ignore\n",
    "        self.cli = cli\n",
    "        self._cli = AsyncClient(transport=ASGITransport(self.app), base_url='http://nb')#, headers={'hx-request': '1'})\n",
    "        super().__init__(*args, **kwargs)\n",
    "    \n",
    "    def __call__(self, rt:Bridgeable='', method='GET', req=None, **kwargs):\n",
    "        \"Display FastHTML objects, routes or requests in notebook cells.\"\n",
    "        if isinstance(rt, FT) or hasattr(rt, '__ft__'): cts = to_xml(rt)  # type: ignore\n",
    "        elif hasattr(rt, '__html__'): cts = rt.__html__()  # type: ignore\n",
    "        else:\n",
    "            if isinstance(rt, Mapping):\n",
    "                http_request = {**(req or {}), **rt}\n",
    "                if 'method' not in http_request: http_request['method'] = method\n",
    "            else: http_request = {'headers': {'hx-request': '1'}, 'method': method, 'url': rt}\n",
    "            cts = request2response(self._cli, http_request).text\n",
    "        if not cts:\n",
    "            try: cts = to_xml(rt)\n",
    "            except: pass\n",
    "        if cts:\n",
    "            dhdl = DisplayId()\n",
    "            dhdl.display(cts)\n",
    "\n",
    "    def _response(self, req:dict[str, Any]): return request2response(self._cli, req)\n",
    "    \n",
    "    def mount(self, prov:APIRouterB|RoutesProviderP, \n",
    "            path:str|None=None, name:str|None=None, index:str|None=None, \n",
    "            show:bool=True):\n",
    "        ar = add_routes(self.app, prov, True, path, name)\n",
    "        if hasattr(prov, 'bridget'): setattr(prov, 'bridget', self)\n",
    "        if show: self(index or f\"{ar.to}/\")\n",
    "        return ar\n",
    "\n",
    "    def swap(self,\n",
    "            target, \n",
    "            content, \n",
    "            *, \n",
    "            # ---- swapSpec:SwapSpec, \n",
    "            swapStyle: SwapStyleT='innerHTML',\n",
    "            swapDelay: int|None=None, settleDelay: int|None=None,\n",
    "            transition: bool|None=None,\n",
    "            # ignoreTitle: bool|None=None, head: Literal['merge', 'append']|None=None,\n",
    "            scroll: str|None=None, scrollTarget: str|None=None,\n",
    "            show: str|None=None, showTarget: str|None=None, focusScroll: bool|None=None,\n",
    "            # ---- swapOptions=None,\n",
    "            select: str|None=None, selectOOB: str|None=None,\n",
    "            # eventInfo: dict|None=None,\n",
    "            anchor: str|None=None,        \n",
    "            # contextElement: str|None=None,\n",
    "            # afterSwapCallback: Callable|None=None, afterSettleCallback: Callable|None=None,\n",
    "        ): ...\n",
    "\n",
    "\n",
    "FC.patch_to(BridgeBase)(swap)\n"
   ]
  },
  {
   "cell_type": "code",
   "execution_count": null,
   "metadata": {},
   "outputs": [],
   "source": [
    "_send_sc =  \"\"\"\n",
    "// debugger;\n",
    "const msg = %s;\n",
    "console.log(`new message: ${JSON.stringify(msg)}`);\n",
    "const { cmd, args } = msg;\n",
    "if (cmd in htmx) {\n",
    "    try {\n",
    "        htmx[cmd](...(Array.isArray(args) ? args : Object.values(args)));\n",
    "    } catch (e) {\n",
    "        console.error(e);\n",
    "    }\n",
    "} else {\n",
    "    console.warn(`Unknown HTMX command: ${cmd}`);\n",
    "}\n",
    "\"\"\"\n",
    "\n",
    "\n",
    "class Bridge(BridgeBase):\n",
    "    def send(self, msg:dict[str, Any]):\n",
    "        json_msg = json.dumps(msg)\n",
    "        display(Javascript(_send_sc % json_msg))\n"
   ]
  },
  {
   "cell_type": "code",
   "execution_count": null,
   "metadata": {},
   "outputs": [],
   "source": [
    "def get_app(setup_scripts=False, app=None, appkw:dict[str, Any]={}, **cfargs) -> tuple[FastHTML, Bridge, MethodType]: \n",
    "    bridge_cfg.update(**cfargs)\n",
    "    if setup_scripts: bridget_scripts(True)\n",
    "    app = app or nb_app(**appkw)\n",
    "    return app, Bridge(app), app.route  # type: ignore\n"
   ]
  },
  {
   "cell_type": "markdown",
   "metadata": {},
   "source": [
    "`BridgeBase` is a helper class that provides:\n",
    "\n",
    "1. **Display functionality**: Renders FastHTML objects and route responses in notebook cells\n",
    "2. **Component mounting**: Helper for mounting route providers\n",
    "3. **HTMX API**: Python interface for HTMX commands (documented in 21_htmx.ipynb)\n",
    "\n",
    "It serves as a mixin class for `Bridget`, which provides the full HTMX integration.\n",
    "\n",
    "The class handles different types of \"bridgeable\" content:\n",
    "- FastHTML objects (FT)\n",
    "- Objects with `__ft__` or `__html__` methods\n",
    "- Route paths\n",
    "- Request mappings"
   ]
  },
  {
   "cell_type": "code",
   "execution_count": null,
   "metadata": {},
   "outputs": [
    {
     "data": {
      "text/html": [
       "404 Not Found"
      ],
      "text/plain": [
       "<IPython.core.display.HTML object>"
      ]
     },
     "metadata": {},
     "output_type": "display_data"
    }
   ],
   "source": [
    "app, bridge, rt = get_app()\n",
    "\n",
    "bridge()"
   ]
  },
  {
   "cell_type": "code",
   "execution_count": null,
   "metadata": {},
   "outputs": [
    {
     "data": {
      "text/html": [
       "<h2>Hello, World</h2>"
      ],
      "text/plain": [
       "<IPython.core.display.HTML object>"
      ]
     },
     "metadata": {},
     "output_type": "display_data"
    }
   ],
   "source": [
    "@app.get(\"/\")  # type: ignore\n",
    "def home():\n",
    "    return \"<h2>Hello, World</h2>\"\n",
    "\n",
    "bridge()\n"
   ]
  },
  {
   "cell_type": "code",
   "execution_count": null,
   "metadata": {},
   "outputs": [
    {
     "data": {
      "text/html": [
       "<pre style=\"white-space:pre;overflow-x:auto;line-height:normal;font-family:Menlo,'DejaVu Sans Mono',consolas,'Courier New',monospace\"><span style=\"font-weight: bold\">{</span>\n",
       "  <span style=\"color: #000080; text-decoration-color: #000080; font-weight: bold\">\"headers\"</span>: <span style=\"font-weight: bold\">{</span>\n",
       "    <span style=\"color: #000080; text-decoration-color: #000080; font-weight: bold\">\"content-length\"</span>: <span style=\"color: #008000; text-decoration-color: #008000\">\"8\"</span>,\n",
       "    <span style=\"color: #000080; text-decoration-color: #000080; font-weight: bold\">\"content-type\"</span>: <span style=\"color: #008000; text-decoration-color: #008000\">\"text/html; charset=utf-8\"</span>,\n",
       "    <span style=\"color: #000080; text-decoration-color: #000080; font-weight: bold\">\"last-modified\"</span>: <span style=\"color: #008000; text-decoration-color: #008000\">\"Thu, 21 Nov 2024 19:43:18 GMT\"</span>,\n",
       "    <span style=\"color: #000080; text-decoration-color: #000080; font-weight: bold\">\"cache-control\"</span>: <span style=\"color: #008000; text-decoration-color: #008000\">\"no-store, no-cache, must-revalidate\"</span>\n",
       "  <span style=\"font-weight: bold\">}</span>,\n",
       "  <span style=\"color: #000080; text-decoration-color: #000080; font-weight: bold\">\"status\"</span>: <span style=\"color: #008080; text-decoration-color: #008080; font-weight: bold\">200</span>,\n",
       "  <span style=\"color: #000080; text-decoration-color: #000080; font-weight: bold\">\"statusText\"</span>: <span style=\"color: #008000; text-decoration-color: #008000\">\"OK\"</span>,\n",
       "  <span style=\"color: #000080; text-decoration-color: #000080; font-weight: bold\">\"data\"</span>: <span style=\"color: #008000; text-decoration-color: #008000\">\"Hi there\"</span>,\n",
       "  <span style=\"color: #000080; text-decoration-color: #000080; font-weight: bold\">\"xml\"</span>: <span style=\"color: #800080; text-decoration-color: #800080; font-style: italic\">null</span>,\n",
       "  <span style=\"color: #000080; text-decoration-color: #000080; font-weight: bold\">\"finalUrl\"</span>: <span style=\"color: #008000; text-decoration-color: #008000\">\"http://nb/hi\"</span>\n",
       "<span style=\"font-weight: bold\">}</span>\n",
       "</pre>\n"
      ],
      "text/plain": [
       "\u001b[1m{\u001b[0m\n",
       "  \u001b[1;34m\"headers\"\u001b[0m: \u001b[1m{\u001b[0m\n",
       "    \u001b[1;34m\"content-length\"\u001b[0m: \u001b[32m\"8\"\u001b[0m,\n",
       "    \u001b[1;34m\"content-type\"\u001b[0m: \u001b[32m\"text/html; charset=utf-8\"\u001b[0m,\n",
       "    \u001b[1;34m\"last-modified\"\u001b[0m: \u001b[32m\"Thu, 21 Nov 2024 19:43:18 GMT\"\u001b[0m,\n",
       "    \u001b[1;34m\"cache-control\"\u001b[0m: \u001b[32m\"no-store, no-cache, must-revalidate\"\u001b[0m\n",
       "  \u001b[1m}\u001b[0m,\n",
       "  \u001b[1;34m\"status\"\u001b[0m: \u001b[1;36m200\u001b[0m,\n",
       "  \u001b[1;34m\"statusText\"\u001b[0m: \u001b[32m\"OK\"\u001b[0m,\n",
       "  \u001b[1;34m\"data\"\u001b[0m: \u001b[32m\"Hi there\"\u001b[0m,\n",
       "  \u001b[1;34m\"xml\"\u001b[0m: \u001b[3;35mnull\u001b[0m,\n",
       "  \u001b[1;34m\"finalUrl\"\u001b[0m: \u001b[32m\"http://nb/hi\"\u001b[0m\n",
       "\u001b[1m}\u001b[0m\n"
      ]
     },
     "metadata": {},
     "output_type": "display_data"
    },
    {
     "data": {
      "text/html": [
       "Hi there"
      ],
      "text/plain": [
       "<IPython.core.display.HTML object>"
      ]
     },
     "metadata": {},
     "output_type": "display_data"
    }
   ],
   "source": [
    "@rt(\"/hi\")\n",
    "def get():\n",
    "    return 'Hi there'\n",
    "\n",
    "http_request = {\n",
    "    'upload': {},\n",
    "    'headers': {\n",
    "        'HX-Request': 'true',\n",
    "        'HX-Current-URL': 'vscode-webview://1ql27b...er'\n",
    "    },\n",
    "    'headerNames': {'hx-request': 'HX-Request', 'hx-current-url': 'HX-Current-URL'},\n",
    "    'status': 0,\n",
    "    'method': 'GET',\n",
    "    'url': '/hi',\n",
    "    'async': True,\n",
    "    'timeout': 0,\n",
    "    'withCredentials': False,\n",
    "    'body': None\n",
    "}\n",
    "\n",
    "response = bridge._response(http_request)\n",
    "test_eq(response.status_code, 200)\n",
    "test_eq(response.text, 'Hi there')\n",
    "\n",
    "console.print_json(data=(json_resp := httpx_response_to_json(response)))\n",
    "test_eq(json_resp['status'], 200)\n",
    "test_eq(json_resp['data'], 'Hi there')\n",
    "test_eq(json_resp['headers']['content-length'], '8')\n",
    "\n",
    "response"
   ]
  },
  {
   "cell_type": "code",
   "execution_count": null,
   "metadata": {},
   "outputs": [
    {
     "data": {
      "text/html": [
       "Hi there"
      ],
      "text/plain": [
       "<IPython.core.display.HTML object>"
      ]
     },
     "metadata": {},
     "output_type": "display_data"
    }
   ],
   "source": [
    "bridge(http_request)"
   ]
  },
  {
   "cell_type": "code",
   "execution_count": null,
   "metadata": {},
   "outputs": [],
   "source": [
    "class Buttons:\n",
    "    def __ft__(self):\n",
    "        return (\n",
    "            Button(garlic=True, hx_get='/test', hx_select='button[vampire]', hx_swap='afterend')(_n,\n",
    "                Style(self._css_.format('hsl(264 80% 47%)', 'hsl(264 80% 60%)')),\n",
    "                'garlic ', Span('🧄', cls='icon'),\n",
    "            _n), _n,\n",
    "            Button(vampire=True, hx_get='/test', hx_select='button[garlic]', hx_swap='afterend')(_n,\n",
    "                Style(self._css_.format('hsl(150 80% 47%)', 'hsl(150 80% 60%)')), \n",
    "                'vampire ', Span('🧛', cls='icon'),\n",
    "            _n), _n,\n",
    "        )\n",
    "    _css_ = '''\n",
    "    me {{ margin: 4px; padding: 10px 30px; min-width: 80px; background: {0}; border-bottom: 0.5rem solid hsl(264 80% 20%); }}\n",
    "    me {{ color: antiquewhite; font-size: 14pt; font-variant: all-small-caps; font-weight: bold; }}\n",
    "    me:hover {{ background: {1}; }}\n",
    "    me span.icon {{ font-size:16pt; }}\n",
    "'''\n"
   ]
  },
  {
   "cell_type": "code",
   "execution_count": null,
   "metadata": {},
   "outputs": [
    {
     "data": {
      "text/markdown": [
       "```HTML\n",
       "<button garlic hx-get=\"/test\" hx-select=\"button[vampire]\" hx-swap=\"afterend\">\n",
       "   <style>\n",
       "    me { margin: 4px; padding: 10px 30px; min-width: 80px; background: hsl(264 80% 47%); border-bottom: 0.5rem solid hsl(264 80% 20%); }\n",
       "    me { color: antiquewhite; font-size: 14pt; font-variant: all-small-caps; font-weight: bold; }\n",
       "    me:hover { background: hsl(264 80% 60%); }\n",
       "    me span.icon { font-size:16pt; }\n",
       "</style>\n",
       "garlic <span class=\"icon\">🧄</span>\n",
       "</button>\n",
       "<button vampire hx-get=\"/test\" hx-select=\"button[garlic]\" hx-swap=\"afterend\">\n",
       "   <style>\n",
       "    me { margin: 4px; padding: 10px 30px; min-width: 80px; background: hsl(150 80% 47%); border-bottom: 0.5rem solid hsl(264 80% 20%); }\n",
       "    me { color: antiquewhite; font-size: 14pt; font-variant: all-small-caps; font-weight: bold; }\n",
       "    me:hover { background: hsl(150 80% 60%); }\n",
       "    me span.icon { font-size:16pt; }\n",
       "</style>\n",
       "vampire <span class=\"icon\">🧛</span>\n",
       "</button>\n",
       "\n",
       "```"
      ],
      "text/plain": [
       "<IPython.core.display.Markdown object>"
      ]
     },
     "metadata": {},
     "output_type": "display_data"
    },
    {
     "data": {
      "text/html": [
       "<button garlic hx-get=\"/test\" hx-select=\"button[vampire]\" hx-swap=\"afterend\">\n",
       "   <style>\n",
       "    me { margin: 4px; padding: 10px 30px; min-width: 80px; background: hsl(264 80% 47%); border-bottom: 0.5rem solid hsl(264 80% 20%); }\n",
       "    me { color: antiquewhite; font-size: 14pt; font-variant: all-small-caps; font-weight: bold; }\n",
       "    me:hover { background: hsl(264 80% 60%); }\n",
       "    me span.icon { font-size:16pt; }\n",
       "</style>\n",
       "garlic <span class=\"icon\">🧄</span>\n",
       "</button>\n",
       "<button vampire hx-get=\"/test\" hx-select=\"button[garlic]\" hx-swap=\"afterend\">\n",
       "   <style>\n",
       "    me { margin: 4px; padding: 10px 30px; min-width: 80px; background: hsl(150 80% 47%); border-bottom: 0.5rem solid hsl(264 80% 20%); }\n",
       "    me { color: antiquewhite; font-size: 14pt; font-variant: all-small-caps; font-weight: bold; }\n",
       "    me:hover { background: hsl(150 80% 60%); }\n",
       "    me span.icon { font-size:16pt; }\n",
       "</style>\n",
       "vampire <span class=\"icon\">🧛</span>\n",
       "</button>\n"
      ],
      "text/plain": [
       "<IPython.core.display.HTML object>"
      ]
     },
     "metadata": {},
     "output_type": "display_data"
    }
   ],
   "source": [
    "@rt(\"/test\")\n",
    "def get():\n",
    "    return Buttons()\n",
    "\n",
    "http_request = {\n",
    "    'headers': {'hx-request': '1'},\n",
    "    'method': 'GET',\n",
    "    'url': 'http://nb/test',\n",
    "}\n",
    "\n",
    "r = bridge._response(http_request)\n",
    "display(Markdown(f\"```HTML\\n{r.text}\\n```\"))\n",
    "r\n"
   ]
  },
  {
   "cell_type": "code",
   "execution_count": null,
   "metadata": {},
   "outputs": [
    {
     "data": {
      "text/html": [
       "<button garlic hx-get=\"/test\" hx-select=\"button[vampire]\" hx-swap=\"afterend\">\n",
       "   <style>\n",
       "    me { margin: 4px; padding: 10px 30px; min-width: 80px; background: hsl(264 80% 47%); border-bottom: 0.5rem solid hsl(264 80% 20%); }\n",
       "    me { color: antiquewhite; font-size: 14pt; font-variant: all-small-caps; font-weight: bold; }\n",
       "    me:hover { background: hsl(264 80% 60%); }\n",
       "    me span.icon { font-size:16pt; }\n",
       "</style>\n",
       "garlic <span class=\"icon\">🧄</span>\n",
       "</button>\n",
       "<button vampire hx-get=\"/test\" hx-select=\"button[garlic]\" hx-swap=\"afterend\">\n",
       "   <style>\n",
       "    me { margin: 4px; padding: 10px 30px; min-width: 80px; background: hsl(150 80% 47%); border-bottom: 0.5rem solid hsl(264 80% 20%); }\n",
       "    me { color: antiquewhite; font-size: 14pt; font-variant: all-small-caps; font-weight: bold; }\n",
       "    me:hover { background: hsl(150 80% 60%); }\n",
       "    me span.icon { font-size:16pt; }\n",
       "</style>\n",
       "vampire <span class=\"icon\">🧛</span>\n",
       "</button>\n"
      ],
      "text/plain": [
       "<IPython.core.display.HTML object>"
      ]
     },
     "metadata": {},
     "output_type": "display_data"
    }
   ],
   "source": [
    "bridge('/test')"
   ]
  },
  {
   "cell_type": "code",
   "execution_count": null,
   "metadata": {},
   "outputs": [
    {
     "data": {
      "text/html": [
       "<button garlic hx-get=\"/test\" hx-select=\"button[vampire]\" hx-swap=\"afterend\">\n",
       "  <style>\n",
       "    me { margin: 4px; padding: 10px 30px; min-width: 80px; background: hsl(264 80% 47%); border-bottom: 0.5rem solid hsl(264 80% 20%); }\n",
       "    me { color: antiquewhite; font-size: 14pt; font-variant: all-small-caps; font-weight: bold; }\n",
       "    me:hover { background: hsl(264 80% 60%); }\n",
       "    me span.icon { font-size:16pt; }\n",
       "</style>\n",
       "garlic <span class=\"icon\">🧄</span>\n",
       "</button>\n",
       "<button vampire hx-get=\"/test\" hx-select=\"button[garlic]\" hx-swap=\"afterend\">\n",
       "  <style>\n",
       "    me { margin: 4px; padding: 10px 30px; min-width: 80px; background: hsl(150 80% 47%); border-bottom: 0.5rem solid hsl(264 80% 20%); }\n",
       "    me { color: antiquewhite; font-size: 14pt; font-variant: all-small-caps; font-weight: bold; }\n",
       "    me:hover { background: hsl(150 80% 60%); }\n",
       "    me span.icon { font-size:16pt; }\n",
       "</style>\n",
       "vampire <span class=\"icon\">🧛</span>\n",
       "</button>\n"
      ],
      "text/plain": [
       "<IPython.core.display.HTML object>"
      ]
     },
     "metadata": {},
     "output_type": "display_data"
    }
   ],
   "source": [
    "bridge(Buttons())"
   ]
  },
  {
   "cell_type": "code",
   "execution_count": null,
   "metadata": {},
   "outputs": [
    {
     "data": {
      "text/markdown": [
       "```HTML\n",
       " <!doctype html>\n",
       " <html>\n",
       "   <head>\n",
       "     <title>Hello World</title>\n",
       "<script>\n",
       "    function sendmsg() {\n",
       "        window.parent.postMessage({height: document.documentElement.offsetHeight}, '*');\n",
       "    }\n",
       "    window.onload = function() {\n",
       "        sendmsg();\n",
       "        document.body.addEventListener('htmx:afterSettle',    sendmsg);\n",
       "        document.body.addEventListener('htmx:wsAfterMessage', sendmsg);\n",
       "    };</script>   </head>\n",
       "   <body>\n",
       "<main class=\"container\">       <h1>Hello, World</h1>\n",
       "</main>   </body>\n",
       " </html>\n",
       "\n",
       "```"
      ],
      "text/plain": [
       "<IPython.core.display.Markdown object>"
      ]
     },
     "metadata": {},
     "output_type": "display_data"
    },
    {
     "data": {
      "text/html": [
       " <title>Hello World</title>\n",
       "<main class=\"container\">   <h1>Hello, World</h1>\n",
       "</main>"
      ],
      "text/plain": [
       "<IPython.core.display.HTML object>"
      ]
     },
     "metadata": {},
     "output_type": "display_data"
    }
   ],
   "source": [
    "# css = Style(':root {--pico-font-size:90%,--pico-font-family: Pacifico, cursive;}')\n",
    "\n",
    "@app.route(\"/page\")\n",
    "def get():\n",
    "    return (Title(\"Hello World\"), \n",
    "            Main(H1('Hello, World'), cls=\"container\"))\n",
    "\n",
    "r = bridge._response(req := {\n",
    "    # 'headers': {'hx-request': '1'},\n",
    "    'method': 'GET',\n",
    "    'url': 'http://nb/page',\n",
    "})\n",
    "display(Markdown(f\"```HTML\\n{r.text}\\n```\"))\n",
    "bridge('page')\n"
   ]
  },
  {
   "cell_type": "code",
   "execution_count": null,
   "metadata": {},
   "outputs": [
    {
     "data": {
      "text/markdown": [
       "```html\n",
       "<details open class=\"pale\">  <style>me details { border: 1px solid #aaa; padding: 0.5em 0.5em 0; } me summary { font-weight: bold; margin: -0.5em -0.5em 0; padding: 0.5em; } me pre { margin: 0; }</style>\n",
       "<summary>What Lucy get?</summary>  <div class=\"contents\" style=\"display: flex; flex-direction: column;\">\n",
       "<pre>She</pre><pre>got</pre><pre>diamonds!</pre>  </div>\n",
       "</details>\n",
       "```"
      ],
      "text/plain": [
       "<IPython.core.display.Markdown object>"
      ]
     },
     "metadata": {},
     "output_type": "display_data"
    },
    {
     "data": {
      "text/html": [
       "<details open class=\"pale\">  <style>me details { border: 1px solid #aaa; padding: 0.5em 0.5em 0; } me summary { font-weight: bold; margin: -0.5em -0.5em 0; padding: 0.5em; } me pre { margin: 0; }</style>\n",
       "<summary>What Lucy get?</summary>  <div class=\"contents\" style=\"display: flex; flex-direction: column;\">\n",
       "<pre>She</pre><pre>got</pre><pre>diamonds!</pre>  </div>\n",
       "</details>"
      ],
      "text/plain": [
       "<IPython.core.display.HTML object>"
      ]
     },
     "metadata": {},
     "output_type": "display_data"
    }
   ],
   "source": [
    "dtl = Details(cls='pale', open=True)(\n",
    "    Style('me details { border: 1px solid #aaa; padding: 0.5em 0.5em 0; } me summary { font-weight: bold; margin: -0.5em -0.5em 0; padding: 0.5em; } me pre { margin: 0; }'),\n",
    "    Summary('What Lucy get?'),\n",
    "    Div(cls='contents', style='display: flex; flex-direction: column;')(\n",
    "        Pre('She'),\n",
    "        Pre('got'),\n",
    "        Pre('diamonds!')\n",
    "    )\n",
    ")\n",
    "display(dtl)\n",
    "bridge(dtl)\n"
   ]
  },
  {
   "cell_type": "code",
   "execution_count": null,
   "metadata": {},
   "outputs": [
    {
     "data": {
      "text/markdown": [
       "```html\n",
       "<details open class=\"pale\"><summary>What Lucy get?</summary>  <div class=\"contents\" style=\"display: flex; flex-direction: column;\">\n",
       "    <div>\n",
       "<pre>She</pre>    </div>\n",
       "    <div>\n",
       "<pre>got</pre>    </div>\n",
       "    <div>\n",
       "<pre>diamonds</pre>    </div>\n",
       "  </div>\n",
       "</details>\n",
       "```"
      ],
      "text/plain": [
       "<IPython.core.display.Markdown object>"
      ]
     },
     "metadata": {},
     "output_type": "display_data"
    },
    {
     "data": {
      "text/html": [
       "<details open class=\"pale\"><summary>What Lucy get?</summary>  <div class=\"contents\" style=\"display: flex; flex-direction: column;\">\n",
       "    <div>\n",
       "<pre>She</pre>    </div>\n",
       "    <div>\n",
       "<pre>got</pre>    </div>\n",
       "    <div>\n",
       "<pre>diamonds</pre>    </div>\n",
       "  </div>\n",
       "</details>"
      ],
      "text/plain": [
       "<IPython.core.display.HTML object>"
      ]
     },
     "metadata": {},
     "output_type": "display_data"
    }
   ],
   "source": [
    "def details_ft(\n",
    "        *contents, \n",
    "        summary:str|None=None, \n",
    "        closed:bool=False, \n",
    "        direction:str='column', \n",
    "        height:str|None=None,\n",
    "        contents_style:str='', item_style:str=''):\n",
    "    style = f\"display: flex; flex-direction: {direction};{height or ''}{contents_style or ''}\"\n",
    "    return Details(cls='pale', open=not closed)(\n",
    "        Summary(summary),\n",
    "        Div(cls='contents', style=style)(\n",
    "            *(Div(style=item_style)(_) for _ in contents)\n",
    "        )\n",
    "    )\n",
    "\n",
    "dtl = details_ft(\n",
    "        *(Pre(_) for _ in ('She', 'got', 'diamonds')), \n",
    "        summary='What Lucy get?')\n",
    "display(dtl)\n",
    "bridge(dtl)\n"
   ]
  },
  {
   "cell_type": "code",
   "execution_count": null,
   "metadata": {},
   "outputs": [
    {
     "data": {
      "text/html": [
       "\n",
       "<div id=\"output-99\">Original</div>\n"
      ],
      "text/plain": [
       "<IPython.core.display.HTML object>"
      ]
     },
     "metadata": {},
     "output_type": "display_data"
    }
   ],
   "source": [
    "%%HTML\n",
    "\n",
    "<div id=\"output-99\">Original</div>\n"
   ]
  },
  {
   "cell_type": "code",
   "execution_count": null,
   "metadata": {},
   "outputs": [
    {
     "data": {
      "application/javascript": "\n// debugger;\nconst msg = {\"cmd\": \"swap\", \"args\": [\"#output-99\", \"<div>Swapped!</div>\", {\"swapStyle\": \"innerHTML\"}, {}]};\nconsole.log(`new message: ${JSON.stringify(msg)}`);\nconst { cmd, args } = msg;\nif (cmd in htmx) {\n    try {\n        htmx[cmd](...(Array.isArray(args) ? args : Object.values(args)));\n    } catch (e) {\n        console.error(e);\n    }\n} else {\n    console.warn(`Unknown HTMX command: ${cmd}`);\n}\n",
      "text/plain": [
       "<IPython.core.display.Javascript object>"
      ]
     },
     "metadata": {},
     "output_type": "display_data"
    }
   ],
   "source": [
    "bridge.swap('#output-99', '<div>Swapped!</div>', swapStyle='innerHTML')\n"
   ]
  },
  {
   "cell_type": "markdown",
   "metadata": {},
   "source": [
    "We can also use HTMX API through Bridge (documented in [21_htmx.ipynb](21_htmx.ipynb)).  \n",
    "\n",
    "But we'll see a more convenient way with Bridget, whithout peppering the notebook of IPython Javascript display objects.\n"
   ]
  },
  {
   "cell_type": "markdown",
   "metadata": {},
   "source": [
    "# Bridget\n",
    "> A widget that connects HTMX with FastHTML in notebooks.\n"
   ]
  },
  {
   "cell_type": "code",
   "execution_count": null,
   "metadata": {},
   "outputs": [],
   "source": [
    "#| export\n",
    "\n",
    "class Bridget(BridgeBase, anywidget.AnyWidget):\n",
    "    \"Bridge this notebook kernel and front-end, intercepting HTMX Ajax requests.\"\n",
    "    _esm = _BUNDLER_PATH / 'bridget.js'\n",
    "\n",
    "    request = T.Dict({}).tag(sync=True)   # Incoming HTMX requests\n",
    "    response = T.Dict({}).tag(sync=True)  # Outgoing responses\n",
    "\n",
    "    htmx = T.Bool(True).tag(sync=True)\n",
    "    htmx_sels = T.List(['.output', '.jp-Cell-outputArea']).tag(sync=True)\n",
    "\n",
    "    libraries = T.Dict({k:v.src for k,v in bridget_scripts().items()}).tag(sync=True)\n",
    "\n",
    "    def __new__(cls, *args, **kwargs) -> Bridget:\n",
    "        \"Ensure single instance per notebook\"\n",
    "        if '__instance__' not in cls.__dict__: cls.__instance__ = super().__new__(cls, *args, **kwargs)\n",
    "        return cls.__instance__\n",
    "    \n",
    "    def __init__(self, app=None, *args, display=False, **kwargs):\n",
    "        \"Initialize with FastHTML app and optional display\"\n",
    "        if not hasattr(self, 'app'):\n",
    "            assert app, \"Bridget must be initialized with an app\"\n",
    "            super().__init__(app, *args, **kwargs)\n",
    "            self.dhdl = None\n",
    "        if display: self.display()\n",
    "\n",
    "    def display(self):\n",
    "        \"Display widget and initialize debug output\"\n",
    "        from IPython.display import display\n",
    "        if self.dhdl:\n",
    "            self.dhdl.update('')\n",
    "        display(self)\n",
    "        self.dhdl = DisplayId()\n",
    "        self.dhdl.display()\n",
    "    \n",
    "    def close(self):\n",
    "        \"Clean up widget instance and display\"\n",
    "        if hasattr(self, '__instance__'):\n",
    "            del Bridget.__instance__\n",
    "            if self.dhdl:\n",
    "                self.dhdl.update('')  # type: ignore\n",
    "                self.dhdl = None\n",
    "        super().close()\n",
    "\n",
    "    @T.observe('request')\n",
    "    def _on_request(self, chg):\n",
    "        \"Handle incoming HTMX requests\"\n",
    "        req = chg['new']\n",
    "        response = self._response(req)\n",
    "        resp = httpx_response_to_json(response)\n",
    "        resp['req_id'] = req['req_id']\n",
    "        if bridge_cfg.debug_req: self._show_req(req, resp)\n",
    "        self.response = resp\n",
    "    \n",
    "    def _show_req(self, req:dict[str, Any], resp:dict[str, Any]):\n",
    "        if self.dhdl:\n",
    "            self.dhdl.update(\n",
    "                # pretty_repr(req, text=False) + pretty_repr(resp, text=False)\n",
    "                to_xml(Div(cls='bridget-debug', style='border: 1px solid black; height: 40em; overflow: auto')(\n",
    "                    'Request: ', NotStr(pretty_repr(req, text=False)),\n",
    "                    'Response: ', NotStr(pretty_repr(resp, text=False))\n",
    "                ))\n",
    "            )\n",
    "\n"
   ]
  },
  {
   "cell_type": "markdown",
   "metadata": {},
   "source": [
    "Bridget is a specialized widget that:\n",
    "1. Inherits from `BridgeBase` for FastHTML/display functionality\n",
    "2. Uses [AnyWidget](https://anywidget.dev/) tooling-free, general widget solution, for browser-kernel communication\n",
    "3. Implements a singleton pattern to ensure one instance per notebook\n",
    "\n",
    "Attributes:\n",
    "- `_esm`: Path to bundled JavaScript module\n",
    "- `request`/`response`: Traitlets for HTMX communication\n",
    "- `htmx`/`htmx_sels`: Configuration for HTMX integration\n",
    "\n",
    "The core part is using the widget's bidirectional communication to replace HTMX's HTTP transport:\n",
    "1. Browser: HTMX makes requests thinking it's talking to a server\n",
    "2. Widget: Captures these requests via traitlets\n",
    "3. Kernel: Processes requests using FastHTML routing\n",
    "4. Widget: Returns responses that HTMX understands\n",
    "\n",
    "\n",
    "## Bridget JavaScript Implementation [bridget.js](bridget.js)\n",
    "\n",
    "Bridget's JavaScript code provides the browser-side implementation that:\n",
    "1. Intercepts HTMX AJAX requests (SSE, WS in the future)\n",
    "2. Routes them through the widget's communication channel\n",
    "3. Processes responses back to HTMX\n",
    "4. Manages HTMX initialization in notebook output cells\n",
    "\n",
    "### Some details\n",
    "\n",
    "#### Request Flow\n",
    "1. HTMX makes an AJAX request\n",
    "2. [xhook](https://github.com/jpillora/xhook/tree/main) intercepts it via `on_request`\n",
    "3. Request is serialized and sent to kernel via traitlets\n",
    "4. Kernel processes request and sends response\n",
    "5. Response is processed by `response_changed`\n",
    "6. HTMX receives response and updates DOM\n",
    "\n",
    "#### HTMX Integration\n",
    "1. `BridgetObserver` watches for new notebook output cells\n",
    "2. New cells are processed with `htmx.process()`\n",
    "3. HTMX attributes become active\n",
    "4. AJAX requests are intercepted and routed through widget\n",
    "\n",
    "\n",
    "Note that Bridget JS is backend agnostic. We're using FastHTML here because its the best for my quest of replacing ipywidgets as the main form of interactivity in a notebook, but it could be any other backend libarary.\n"
   ]
  },
  {
   "cell_type": "markdown",
   "metadata": {},
   "source": [
    "## get_app\n",
    "> Helper function to initialize the root-level app, bridget, and route."
   ]
  },
  {
   "cell_type": "code",
   "execution_count": null,
   "metadata": {},
   "outputs": [],
   "source": [
    "#| export\n",
    "\n",
    "def get_app(setup_scripts=False, app=None, appkw:dict[str, Any]={}, **cfargs) -> tuple[FastHTML, Bridget, MethodType]: \n",
    "    bridge_cfg.update(**cfargs)\n",
    "    if setup_scripts: bridget_scripts(True)\n",
    "    app = app or nb_app(**appkw)\n",
    "    return app, Bridget(app, display=True), app.route  # type: ignore\n"
   ]
  },
  {
   "cell_type": "code",
   "execution_count": null,
   "metadata": {},
   "outputs": [],
   "source": [
    "# cleanupwidgets('brt')\n",
    "# try: del brt  # type: ignore\n",
    "# except Exception: pass\n",
    "# test_eq(getattr(Bridget, '__instance__', None), None)\n"
   ]
  },
  {
   "cell_type": "code",
   "execution_count": null,
   "metadata": {},
   "outputs": [
    {
     "data": {
      "application/vnd.jupyter.widget-view+json": {
       "model_id": "1a6d09fb83c34a72b5794c21af7a89e6",
       "version_major": 2,
       "version_minor": 1
      },
      "text/plain": [
       "Bridget(htmx_sels=['.output', '.jp-Cell-outputArea'], libraries={'htmx': 'https://unpkg.com/htmx.org@next/dist…"
      ]
     },
     "metadata": {},
     "output_type": "display_data"
    },
    {
     "data": {
      "text/html": [],
      "text/plain": [
       "<IPython.core.display.HTML object>"
      ]
     },
     "metadata": {},
     "output_type": "display_data"
    }
   ],
   "source": [
    "app, brt, rt = get_app()\n",
    "test_is(Bridget.__instance__, brt)\n",
    "test_is(brt, Bridget())\n",
    "test_is(brt.app, app)\n"
   ]
  },
  {
   "cell_type": "markdown",
   "metadata": {},
   "source": [
    "`get_app` setup the root app and bridget, and returns the route decorator.."
   ]
  },
  {
   "cell_type": "code",
   "execution_count": null,
   "metadata": {},
   "outputs": [
    {
     "data": {
      "application/vnd.jupyter.widget-view+json": {
       "model_id": "1a6d09fb83c34a72b5794c21af7a89e6",
       "version_major": 2,
       "version_minor": 1
      },
      "text/plain": [
       "Bridget(htmx_sels=['.output', '.jp-Cell-outputArea'], libraries={'htmx': 'https://unpkg.com/htmx.org@next/dist…"
      ]
     },
     "metadata": {},
     "output_type": "display_data"
    },
    {
     "data": {
      "text/html": [],
      "text/plain": [
       "<IPython.core.display.HTML object>"
      ]
     },
     "metadata": {},
     "output_type": "display_data"
    },
    {
     "data": {
      "application/vnd.jupyter.widget-view+json": {
       "model_id": "1a6d09fb83c34a72b5794c21af7a89e6",
       "version_major": 2,
       "version_minor": 1
      },
      "text/plain": [
       "Bridget(htmx_sels=['.output', '.jp-Cell-outputArea'], libraries={'htmx': 'https://unpkg.com/htmx.org@next/dist…"
      ]
     },
     "execution_count": null,
     "metadata": {},
     "output_type": "execute_result"
    }
   ],
   "source": [
    "brt.display()\n",
    "brt\n"
   ]
  },
  {
   "cell_type": "markdown",
   "metadata": {},
   "source": [
    "Once loaded, this only show widget feedback and debug area. The widget itself is headless and already loaded above."
   ]
  },
  {
   "cell_type": "code",
   "execution_count": null,
   "metadata": {},
   "outputs": [],
   "source": [
    "# brt.close()\n",
    "# del brt"
   ]
  },
  {
   "cell_type": "markdown",
   "metadata": {},
   "source": [
    "Let's see Bridget in action. (Look above to see the request and response)"
   ]
  },
  {
   "cell_type": "code",
   "execution_count": null,
   "metadata": {},
   "outputs": [],
   "source": [
    "bridge_cfg.auto_show = True\n"
   ]
  },
  {
   "cell_type": "code",
   "execution_count": null,
   "metadata": {},
   "outputs": [
    {
     "data": {
      "text/html": [
       "<div>\n",
       "<button hx-get=\"/inc\" hx-swap=\"textContent\" hx-target=\"find span\">Count: <span>0</span></button></div>\n"
      ],
      "text/plain": [
       "<IPython.core.display.HTML object>"
      ]
     },
     "metadata": {},
     "output_type": "display_data"
    }
   ],
   "source": [
    "def counter():\n",
    "    n = 0\n",
    "    @rt('/inc')\n",
    "    def increment():\n",
    "        nonlocal n\n",
    "        n += 1\n",
    "        return f\"{n}\"\n",
    "    return Div()(\n",
    "        Button(hx_get='/inc', hx_target='find span', hx_swap='textContent')(\n",
    "            'Count: ', Span(f\"{n}\")))\n",
    "\n",
    "counter()\n"
   ]
  },
  {
   "cell_type": "code",
   "execution_count": null,
   "metadata": {},
   "outputs": [
    {
     "data": {
      "text/html": [
       "<button value=\"0\" name=\"n\" hx-post=\"/inc\" hx-swap=\"outerHTML\" style=\"background-color:hsl(317 50% 90%); font-weight: bold\">Count: 0</button>"
      ],
      "text/plain": [
       "<IPython.core.display.HTML object>"
      ]
     },
     "metadata": {},
     "output_type": "display_data"
    }
   ],
   "source": [
    "def random_hsl(saturation=50, lightness=90):\n",
    "    hue = random.randint(0, 360)\n",
    "    return f\"hsl({hue} {saturation}% {lightness}%)\"\n",
    "\n",
    "def counter(n=0):\n",
    "    @rt('/inc')\n",
    "    def increment(n:int):\n",
    "        return Button(f\"Count: {n+1}\", value=f\"{n+1}\", name='n', \n",
    "            hx_post='/inc', hx_swap='outerHTML', \n",
    "            style=f\"background-color:{random_hsl()}; font-weight: bold\")\n",
    "    return increment(n-1)\n",
    "\n",
    "counter()\n"
   ]
  },
  {
   "cell_type": "code",
   "execution_count": null,
   "metadata": {},
   "outputs": [
    {
     "data": {
      "text/html": [
       "<div>\n",
       "  <h2>HTMX Test</h2>\n",
       "  <div>Swapped DOM elements are styled instantly when they arrive.</div>\n",
       "<button garlic hx-get=\"/test\" hx-select=\"button[vampire]\" hx-swap=\"afterend\">\n",
       "    <style>\n",
       "    me { margin: 4px; padding: 10px 30px; min-width: 80px; background: hsl(264 80% 47%); border-bottom: 0.5rem solid hsl(264 80% 20%); }\n",
       "    me { color: antiquewhite; font-size: 14pt; font-variant: all-small-caps; font-weight: bold; }\n",
       "    me:hover { background: hsl(264 80% 60%); }\n",
       "    me span.icon { font-size:16pt; }\n",
       "</style>\n",
       "garlic <span class=\"icon\">🧄</span>\n",
       "</button>\n",
       "<button vampire hx-get=\"/test\" hx-select=\"button[garlic]\" hx-swap=\"afterend\">\n",
       "    <style>\n",
       "    me { margin: 4px; padding: 10px 30px; min-width: 80px; background: hsl(150 80% 47%); border-bottom: 0.5rem solid hsl(264 80% 20%); }\n",
       "    me { color: antiquewhite; font-size: 14pt; font-variant: all-small-caps; font-weight: bold; }\n",
       "    me:hover { background: hsl(150 80% 60%); }\n",
       "    me span.icon { font-size:16pt; }\n",
       "</style>\n",
       "vampire <span class=\"icon\">🧛</span>\n",
       "</button>\n",
       "</div>\n"
      ],
      "text/plain": [
       "<IPython.core.display.HTML object>"
      ]
     },
     "metadata": {},
     "output_type": "display_data"
    }
   ],
   "source": [
    "@rt(\"/test\")\n",
    "def get():\n",
    "    return Buttons()\n",
    "\n",
    "\n",
    "html = Div()(\n",
    "    H2('HTMX Test'),\n",
    "    Div('Swapped DOM elements are styled instantly when they arrive.'),\n",
    "    Buttons(),\n",
    ")\n",
    "\n",
    "# brt(html) # or simply, if bridge_cfg.auto_show is True\n",
    "html\n"
   ]
  },
  {
   "cell_type": "markdown",
   "metadata": {},
   "source": [
    "An example from [gnat](https://github.com/gnat)'s [css-scope-inline](https://github.com/gnat/css-scope-inline). Click the buttons."
   ]
  },
  {
   "cell_type": "markdown",
   "metadata": {},
   "source": [
    "See [details_json.ipynb](30_details_json.ipynb) for a lazy JSON browser."
   ]
  },
  {
   "cell_type": "markdown",
   "metadata": {},
   "source": [
    ":::{.callout-tip}\n",
    "## Why are my output cells un-styled and/or inactive?\n",
    "Because all changes made with Bridge/Bridget/FastHTML/HTMX are **transient**.\n",
    ":::\n",
    "\n",
    "Let's talk about what's happening under the hood:\n",
    "\n",
    "We're modifying the DOM - the HTML structure in your browser - at runtime. This is **not** a notebook editor; it's a runtime tool. For anything to work, you need to execute the cells.\n",
    "\n",
    "Here's the thing: a notebook is just **JSON**. Ultimately, output cells are just HTML (derived from any IPython displayable object), environments like VSCode won't render them until display time.\n",
    "\n",
    "When you open a notebook, tjhe front-end usually takes a lazy approach (VSCode/Cursor more than others):\n",
    "- It renders existing outputs from the JSON (including JavaScript)\n",
    "- But it won't execute any cells automatically\n",
    "- Even ipywidgets get special (and sometimes quirky) treatment\n",
    "\n",
    "Think of the notebook's JSON as a snapshot from when you ran the cells. Any DOM changes we make don't get saved back to this JSON.\n",
    "\n",
    "This means:\n",
    "1. Bridge needs explicit initialization to load its JS/CSS\n",
    "2. On load, saved notebooks will execute the JavaScript/HTML put there by cell runs\n",
    "3. Kernel-side code won't run until you execute the cells\n",
    "\n",
    "Could we make Bridget modify the actual notebook outputs? Technically, yes, maybe. But given the labyrinthine complexity of the Jupyter ecosystem (and the mountains of JavaScript involved), I get a headache just thinking about it. Some mountains are better left unclimbed! 😅"
   ]
  },
  {
   "cell_type": "markdown",
   "metadata": {},
   "source": [
    "# Simple widget\n"
   ]
  },
  {
   "cell_type": "code",
   "execution_count": null,
   "metadata": {},
   "outputs": [
    {
     "data": {
      "application/vnd.jupyter.widget-view+json": {
       "model_id": "1ad90a46686e4b8a9235a1850cbe158a",
       "version_major": 2,
       "version_minor": 1
      },
      "text/plain": [
       "Bridget(debug_req=True, htmx_sels=['.output', '.jp-Cell-outputArea'], request={'headers': {'HX-Request': 'true…"
      ]
     },
     "metadata": {},
     "output_type": "display_data"
    },
    {
     "data": {
      "text/html": [
       "<div class=\"bridget-debug\" style=\"border: 1px solid black; height: 40em; overflow: auto\">\n",
       "Request: <pre style=\"white-space:pre;overflow-x:auto;line-height:normal;font-family:Menlo,'DejaVu Sans Mono',consolas,'Courier New',monospace\"><span style=\"font-weight: bold\">{</span>\n",
       "    <span style=\"color: #008000; text-decoration-color: #008000\">'headers'</span>: <span style=\"font-weight: bold\">{</span>\n",
       "        <span style=\"color: #008000; text-decoration-color: #008000\">'HX-Request'</span>: <span style=\"color: #008000; text-decoration-color: #008000\">'true'</span>,\n",
       "        <span style=\"color: #008000; text-decoration-color: #008000\">'HX-Trigger-Name'</span>: <span style=\"color: #008000; text-decoration-color: #008000\">'value'</span>,\n",
       "        <span style=\"color: #008000; text-decoration-color: #008000\">'HX-Target'</span>: <span style=\"color: #008000; text-decoration-color: #008000\">'spanscale'</span>,\n",
       "        <span style=\"color: #008000; text-decoration-color: #008000\">'HX-Current-URL'</span>: \n",
       "<span style=\"color: #008000; text-decoration-color: #008000\">'http://localhost:8888/notebooks/nbs/22_bridget.ipynb'</span>,\n",
       "        <span style=\"color: #008000; text-decoration-color: #008000\">'Content-Type'</span>: <span style=\"color: #008000; text-decoration-color: #008000\">'application/x-www-form-urlencoded'</span>\n",
       "    <span style=\"font-weight: bold\">}</span>,\n",
       "    <span style=\"color: #008000; text-decoration-color: #008000\">'headerNames'</span>: <span style=\"font-weight: bold\">{</span>\n",
       "        <span style=\"color: #008000; text-decoration-color: #008000\">'hx-request'</span>: <span style=\"color: #008000; text-decoration-color: #008000\">'HX-Request'</span>,\n",
       "        <span style=\"color: #008000; text-decoration-color: #008000\">'hx-trigger-name'</span>: <span style=\"color: #008000; text-decoration-color: #008000\">'HX-Trigger-Name'</span>,\n",
       "        <span style=\"color: #008000; text-decoration-color: #008000\">'hx-target'</span>: <span style=\"color: #008000; text-decoration-color: #008000\">'HX-Target'</span>,\n",
       "        <span style=\"color: #008000; text-decoration-color: #008000\">'hx-current-url'</span>: <span style=\"color: #008000; text-decoration-color: #008000\">'HX-Current-URL'</span>,\n",
       "        <span style=\"color: #008000; text-decoration-color: #008000\">'content-type'</span>: <span style=\"color: #008000; text-decoration-color: #008000\">'Content-Type'</span>\n",
       "    <span style=\"font-weight: bold\">}</span>,\n",
       "    <span style=\"color: #008000; text-decoration-color: #008000\">'status'</span>: <span style=\"color: #008080; text-decoration-color: #008080; font-weight: bold\">0</span>,\n",
       "    <span style=\"color: #008000; text-decoration-color: #008000\">'method'</span>: <span style=\"color: #008000; text-decoration-color: #008000\">'POST'</span>,\n",
       "    <span style=\"color: #008000; text-decoration-color: #008000\">'url'</span>: <span style=\"color: #008000; text-decoration-color: #008000\">'/BIntSlider_3/value'</span>,\n",
       "    <span style=\"color: #008000; text-decoration-color: #008000\">'async'</span>: <span style=\"color: #00ff00; text-decoration-color: #00ff00; font-style: italic\">True</span>,\n",
       "    <span style=\"color: #008000; text-decoration-color: #008000\">'timeout'</span>: <span style=\"color: #008080; text-decoration-color: #008080; font-weight: bold\">0</span>,\n",
       "    <span style=\"color: #008000; text-decoration-color: #008000\">'withCredentials'</span>: <span style=\"color: #ff0000; text-decoration-color: #ff0000; font-style: italic\">False</span>,\n",
       "    <span style=\"color: #008000; text-decoration-color: #008000\">'body'</span>: <span style=\"color: #008000; text-decoration-color: #008000\">'value=23'</span>,\n",
       "    <span style=\"color: #008000; text-decoration-color: #008000\">'req_id'</span>: <span style=\"color: #008000; text-decoration-color: #008000\">'58d6e4ca-194b-450d-b28e-561fb3687c8c'</span>\n",
       "<span style=\"font-weight: bold\">}</span>\n",
       "</pre>\n",
       "Response: <pre style=\"white-space:pre;overflow-x:auto;line-height:normal;font-family:Menlo,'DejaVu Sans Mono',consolas,'Courier New',monospace\"><span style=\"font-weight: bold\">{</span>\n",
       "    <span style=\"color: #008000; text-decoration-color: #008000\">'headers'</span>: <span style=\"font-weight: bold\">{</span>\n",
       "        <span style=\"color: #008000; text-decoration-color: #008000\">'content-length'</span>: <span style=\"color: #008000; text-decoration-color: #008000\">'2'</span>,\n",
       "        <span style=\"color: #008000; text-decoration-color: #008000\">'content-type'</span>: <span style=\"color: #008000; text-decoration-color: #008000\">'text/html; charset=utf-8'</span>,\n",
       "        <span style=\"color: #008000; text-decoration-color: #008000\">'last-modified'</span>: <span style=\"color: #008000; text-decoration-color: #008000\">'Thu, 21 Nov 2024 17:49:59 GMT'</span>,\n",
       "        <span style=\"color: #008000; text-decoration-color: #008000\">'cache-control'</span>: <span style=\"color: #008000; text-decoration-color: #008000\">'no-store, no-cache, must-revalidate'</span>\n",
       "    <span style=\"font-weight: bold\">}</span>,\n",
       "    <span style=\"color: #008000; text-decoration-color: #008000\">'status'</span>: <span style=\"color: #008080; text-decoration-color: #008080; font-weight: bold\">200</span>,\n",
       "    <span style=\"color: #008000; text-decoration-color: #008000\">'statusText'</span>: <span style=\"color: #008000; text-decoration-color: #008000\">'OK'</span>,\n",
       "    <span style=\"color: #008000; text-decoration-color: #008000\">'data'</span>: <span style=\"color: #008000; text-decoration-color: #008000\">'23'</span>,\n",
       "    <span style=\"color: #008000; text-decoration-color: #008000\">'xml'</span>: <span style=\"color: #800080; text-decoration-color: #800080; font-style: italic\">None</span>,\n",
       "    <span style=\"color: #008000; text-decoration-color: #008000\">'finalUrl'</span>: <span style=\"color: #008000; text-decoration-color: #008000\">'http://nb/BIntSlider_3/value'</span>,\n",
       "    <span style=\"color: #008000; text-decoration-color: #008000\">'req_id'</span>: <span style=\"color: #008000; text-decoration-color: #008000\">'58d6e4ca-194b-450d-b28e-561fb3687c8c'</span>\n",
       "<span style=\"font-weight: bold\">}</span>\n",
       "</pre>\n",
       "</div>\n"
      ],
      "text/plain": [
       "<IPython.core.display.HTML object>"
      ]
     },
     "metadata": {},
     "output_type": "display_data"
    }
   ],
   "source": [
    "bridge_cfg.auto_show = True\n",
    "bridge_cfg.auto_mount = True\n",
    "bridge_cfg.debug_req=True\n"
   ]
  },
  {
   "cell_type": "code",
   "execution_count": null,
   "metadata": {},
   "outputs": [
    {
     "data": {
      "text/html": [
       "<div id=\"BIntSlider_1\" class=\"bridget slider\">\n",
       "<label for=\"value\">Scale</label>\n",
       "  <input type=\"range\" name=\"value\" max=\"100\" step=\"1\" hx-post=\"/BIntSlider_1/value\" hx-trigger=\"input changed\" hx-swap=\"textContent\" hx-target=\"next text\">\n",
       "<text id=\"spanscale\" style=\"inline\">0</text>\n",
       "</div>\n"
      ],
      "text/plain": [
       "<IPython.core.display.HTML object>"
      ]
     },
     "metadata": {},
     "output_type": "display_data"
    }
   ],
   "source": [
    "from dataclasses import dataclass\n",
    "from fasthtml.components import Label, Input, Text\n",
    "from bridget.route_provider import RoutesProvider\n",
    "\n",
    "\n",
    "class BWidget(RoutesProvider):\n",
    "    bridget: Bridget = None  # type: ignore\n",
    "    def __ft__(self): ...\n",
    "    def _ipython_display_(self):\n",
    "        brt = Bridget()\n",
    "        if bridge_cfg.auto_mount and not hasattr(self, 'ar'): brt.mount(self, show=False)\n",
    "        brt(self)\n",
    "\n",
    "class BValue(T.HasTraits, BWidget):\n",
    "    value=T.CInt(0).tag(sync=True)\n",
    "    \n",
    "    _updating = False\n",
    "    @contextmanager\n",
    "    def _update_ctx(self):\n",
    "        self._updating = True\n",
    "        yield\n",
    "        self._updating = False\n",
    "\n",
    "    @T.observe('value')\n",
    "    def on_value(self, _):\n",
    "        if self.bridget and not self._updating:\n",
    "            self.bridget.swap(f\"#{self.ar.name}\", to_xml(self.__ft__()), swapStyle='innerHTML')\n",
    "\n",
    "    @ar('/value', methods=['POST'])\n",
    "    def changed(self, value:int):\n",
    "        with self._update_ctx(): self.value = value\n",
    "        return str(value)\n",
    "\n",
    "\n",
    "@dataclass\n",
    "class BIntSlider(BValue):\n",
    "    min:int=0\n",
    "    max:int=100\n",
    "    step:int=1\n",
    "    readout:bool=True\n",
    "    readout_format:str='d'\n",
    "    \n",
    "    def __ft__(self):\n",
    "        if bridge_cfg.auto_mount and not hasattr(self, 'ar'): Bridget().mount(self, show=False)\n",
    "        return Div(id=self.ar.name, cls='bridget slider')(\n",
    "            Label(_for='value')('Scale'), _n,\n",
    "            Input(type='range', name='value', min=self.min, max=self.max, step=self.step, value=self.value,\n",
    "                hx_post=f\"{self.ar.to}/value\", hx_trigger='input changed', \n",
    "                hx_target='next text', hx_swap='textContent'),\n",
    "            Text(id='spanscale', style='inline')(self.value), _n\n",
    "        )\n",
    "\n",
    "app.routes.clear()\n",
    "\n",
    "rp = BIntSlider()\n",
    "\n",
    "# # @app.post('/value')\n",
    "# # def changed(value:int):\n",
    "# #     setattr(rp, 'value', value)\n",
    "# #     return value\n",
    "\n",
    "# brt.mount(rp, show=False)\n",
    "\n",
    "rp\n"
   ]
  },
  {
   "cell_type": "code",
   "execution_count": null,
   "metadata": {},
   "outputs": [],
   "source": [
    "rp.value = 77"
   ]
  },
  {
   "cell_type": "code",
   "execution_count": null,
   "metadata": {},
   "outputs": [
    {
     "data": {
      "text/html": [
       "<div id=\"BIntSlider_2\" class=\"bridget slider\">\n",
       "<label for=\"value\">Scale</label>\n",
       "  <input type=\"range\" name=\"value\" max=\"100\" step=\"2\" hx-post=\"/BIntSlider_2/value\" hx-trigger=\"input changed\" hx-swap=\"textContent\" hx-target=\"next text\">\n",
       "<text id=\"spanscale\" style=\"inline\">0</text>\n",
       "</div>\n"
      ],
      "text/plain": [
       "<IPython.core.display.HTML object>"
      ]
     },
     "metadata": {},
     "output_type": "display_data"
    }
   ],
   "source": [
    "sld2 = BIntSlider(step=2)\n",
    "sld2"
   ]
  },
  {
   "cell_type": "code",
   "execution_count": null,
   "metadata": {},
   "outputs": [
    {
     "data": {
      "text/html": [
       "<div style=\"display: flex; gap: 1em;\">\n",
       "  <div id=\"BIntSlider_3\" class=\"bridget slider\">\n",
       "<label for=\"value\">Scale</label>\n",
       "    <input type=\"range\" name=\"value\" max=\"100\" step=\"1\" hx-post=\"/BIntSlider_3/value\" hx-trigger=\"input changed\" hx-swap=\"textContent\" hx-target=\"next text\">\n",
       "<text id=\"spanscale\" style=\"inline\">0</text>\n",
       "  </div>\n",
       "  <div id=\"BIntSlider_4\" class=\"bridget slider\">\n",
       "<label for=\"value\">Scale</label>\n",
       "    <input type=\"range\" name=\"value\" max=\"100\" step=\"1\" hx-post=\"/BIntSlider_4/value\" hx-trigger=\"input changed\" hx-swap=\"textContent\" hx-target=\"next text\">\n",
       "<text id=\"spanscale\" style=\"inline\">0</text>\n",
       "  </div>\n",
       "</div>\n"
      ],
      "text/plain": [
       "<IPython.core.display.HTML object>"
      ]
     },
     "metadata": {},
     "output_type": "display_data"
    }
   ],
   "source": [
    "sld3 = BIntSlider()\n",
    "sld4 = BIntSlider()\n",
    "# brt.mount(sld3, show=False)\n",
    "# brt.mount(sld4, show=False)\n",
    "T.link((sld3, 'value'), (sld4, 'value'))\n",
    "\n",
    "box = Div(style='display: flex; gap: 1em;')(sld3, sld4)\n",
    "box\n"
   ]
  },
  {
   "cell_type": "code",
   "execution_count": null,
   "metadata": {},
   "outputs": [],
   "source": [
    "sld3.value = 22\n",
    "test_eq(sld4.value, 22)\n"
   ]
  },
  {
   "cell_type": "markdown",
   "metadata": {},
   "source": [
    "# Hydrate (TBD)\n",
    "> Can we edit `.ipynb`s directly to capture actual output without `nbformat` or editing the JSON in disk?\n"
   ]
  },
  {
   "cell_type": "code",
   "execution_count": null,
   "metadata": {},
   "outputs": [],
   "source": [
    "def hydrate(bridget=True, app: FastHTML | None=None, appkw:dict[str, Any]={}, **kwargs): \n",
    "    app, bridge, rt = get_app(True, app, appkw=appkw, **kwargs)\n",
    "    bridget = Bridget(bridge) if bridget else None\n",
    "    return app, bridge, rt, bridget\n",
    "\n",
    "# hydrate()\n"
   ]
  },
  {
   "cell_type": "markdown",
   "metadata": {},
   "source": [
    "# What about WebSockets and SSE Support?\n"
   ]
  },
  {
   "cell_type": "markdown",
   "metadata": {},
   "source": [
    "\n",
    "While HTMX supports WebSockets and Server-Sent Events (SSE) through extensions([1](https://htmx.org/docs/#web-sockets-sse)), this proof-of-concept focuses only on AJAX functionality for several reasons:\n",
    "\n",
    "1. **Core Functionality**: HTMX is primarily an AJAX framework - WS and SSE support are add-ons with simpler implementations([2](https://htmx.org/docs/#extensions))\n",
    "\n",
    "2. **Proof of Concept**: For demonstrating the viability of using HTMX in notebooks, AJAX support is sufficient\n",
    "\n",
    "3. **Future Extension**: Adding WS/SSE support would be straightforward since:\n",
    "   - The notebook Comm layer already uses WebSockets\n",
    "   - HTMX's extension system is well-documented([3](https://htmx.org/docs/#creating-extensions))\n",
    "   - The transport layer replacement pattern is already established with AJAX\n"
   ]
  },
  {
   "cell_type": "markdown",
   "metadata": {},
   "source": [
    "# Colophon\n",
    "----\n"
   ]
  },
  {
   "cell_type": "code",
   "execution_count": null,
   "metadata": {},
   "outputs": [],
   "source": [
    "import inspect\n",
    "import shutil\n",
    "from pathlib import Path\n",
    "\n",
    "import bridget\n",
    "import fastcore.all as FC\n",
    "import nbdev\n",
    "from nbdev.clean import nbdev_clean\n"
   ]
  },
  {
   "cell_type": "code",
   "execution_count": null,
   "metadata": {},
   "outputs": [],
   "source": [
    "if FC.IN_NOTEBOOK:\n",
    "    nb_path = '22_bridget.ipynb'\n",
    "    nbdev_clean(nb_path)\n",
    "    nbdev.nbdev_export(nb_path)\n",
    "\n",
    "    for fn in ('bridget.js', ):\n",
    "        shutil.copyfile(fn, Path(inspect.getfile(bridget)).parent/fn);\n"
   ]
  }
 ],
 "metadata": {
  "kernelspec": {
   "display_name": "python3",
   "language": "python",
   "name": "python3"
  },
  "widgets": {
   "application/vnd.jupyter.widget-state+json": {
    "state": {},
    "version_major": 2,
    "version_minor": 0
   }
  }
 },
 "nbformat": 4,
 "nbformat_minor": 4
}
