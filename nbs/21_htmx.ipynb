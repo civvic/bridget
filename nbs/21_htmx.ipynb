{
 "cells": [
  {
   "cell_type": "code",
   "execution_count": null,
   "metadata": {},
   "outputs": [],
   "source": [
    "#| default_exp htmx\n"
   ]
  },
  {
   "cell_type": "code",
   "execution_count": null,
   "metadata": {},
   "outputs": [],
   "source": [
    "#| export\n",
    "from __future__ import annotations\n"
   ]
  },
  {
   "cell_type": "markdown",
   "metadata": {},
   "source": [
    "# HTMX\n",
    "\n",
    "> Python wrapper of HTMX API.\n",
    "\n",
    "Currently only implemented `htmx.swap()` manually. If useful, I'll automate wrappers generation from htmx docs.\n"
   ]
  },
  {
   "cell_type": "markdown",
   "metadata": {},
   "source": [
    "# Prologue"
   ]
  },
  {
   "cell_type": "code",
   "execution_count": null,
   "metadata": {},
   "outputs": [],
   "source": [
    "#| export\n",
    "from typing import Literal\n",
    "from typing import TypeAlias\n",
    "\n",
    "from olio.common import update_\n"
   ]
  },
  {
   "cell_type": "code",
   "execution_count": null,
   "metadata": {},
   "outputs": [],
   "source": [
    "\n",
    "import anywidget\n",
    "import fastcore.all as FC\n",
    "from fastcore.xml import to_xml\n"
   ]
  },
  {
   "cell_type": "code",
   "execution_count": null,
   "metadata": {},
   "outputs": [],
   "source": [
    "import inspect\n",
    "\n",
    "from fastcore.test import *\n",
    "from rich.console import Console"
   ]
  },
  {
   "cell_type": "code",
   "execution_count": null,
   "metadata": {},
   "outputs": [],
   "source": [
    "from bridget.helpers import cleanupwidgets\n",
    "from bridget.helpers import Singleling\n"
   ]
  },
  {
   "cell_type": "markdown",
   "metadata": {},
   "source": [
    "----\n"
   ]
  },
  {
   "cell_type": "code",
   "execution_count": null,
   "metadata": {},
   "outputs": [],
   "source": [
    "cprint = (console := Console(width=120)).print\n"
   ]
  },
  {
   "cell_type": "code",
   "execution_count": null,
   "metadata": {},
   "outputs": [],
   "source": [
    "# needed for vfile:\n",
    "%load_ext anywidget\n"
   ]
  },
  {
   "cell_type": "code",
   "execution_count": null,
   "metadata": {},
   "outputs": [
    {
     "name": "stdout",
     "output_type": "stream",
     "text": [
      "env: ANYWIDGET_HMR=0\n"
     ]
    }
   ],
   "source": [
    "%env ANYWIDGET_HMR=0"
   ]
  },
  {
   "cell_type": "code",
   "execution_count": null,
   "metadata": {},
   "outputs": [
    {
     "data": {
      "text/html": [
       "<script src=\"https://unpkg.com/htmx.org@next/dist/htmx.js\"></script>"
      ],
      "text/plain": [
       "<IPython.core.display.HTML object>"
      ]
     },
     "metadata": {},
     "output_type": "display_data"
    }
   ],
   "source": [
    "from fasthtml.xtend import Script\n",
    "from IPython.display import HTML\n",
    "\n",
    "display(HTML(to_xml(Script(src='https://unpkg.com/htmx.org@next/dist/htmx.js'))))\n"
   ]
  },
  {
   "cell_type": "markdown",
   "metadata": {},
   "source": [
    "----"
   ]
  },
  {
   "cell_type": "markdown",
   "metadata": {},
   "source": [
    "# HTMX commander"
   ]
  },
  {
   "cell_type": "code",
   "execution_count": null,
   "metadata": {},
   "outputs": [],
   "source": [
    "class HTMXCommander(Singleling, anywidget.AnyWidget):\n",
    "    _esm = \"\"\"\n",
    "    function initialize({ model }) {\n",
    "    // debugger;\n",
    "        model.on(\"msg:custom\", msg => {\n",
    "            // debugger;\n",
    "            console.log(`new message: ${JSON.stringify(msg)}`);\n",
    "            const { cmd, args } = msg;\n",
    "            if (cmd in htmx) {\n",
    "                try {\n",
    "                    htmx[cmd](...(Array.isArray(args) ? args : Object.values(args)));\n",
    "                } catch (e) {\n",
    "                    console.error(e);\n",
    "                }\n",
    "            } else {\n",
    "                console.warn(`Unknown HTMX command: ${cmd}`);\n",
    "            }\n",
    "        });\n",
    "        console.log('initialized');\n",
    "    }\n",
    "\texport default { \"initialize\": initialize };\n",
    "    \"\"\"\n",
    "    \n",
    "    def swap(self: HTMXCommander,\n",
    "        target, \n",
    "        content, \n",
    "        *, \n",
    "        # ---- swapSpec:SwapSpec, \n",
    "        swapStyle: Literal['innerHTML','outerHTML','testContent','beforebegin','afterbegin','beforeend','afterend','delete','none'],\n",
    "        swapDelay: int|None=None, settleDelay: int|None=None,\n",
    "        transition: bool|None=None,\n",
    "        # ignoreTitle: bool|None=None, head: Literal['merge', 'append']|None=None,\n",
    "        scroll: str|None=None, scrollTarget: str|None=None,\n",
    "        show: str|None=None, showTarget: str|None=None, focusScroll: bool|None=None,\n",
    "        # ---- swapOptions=None,\n",
    "        select: str|None=None, selectOOB: str|None=None,\n",
    "        # eventInfo: dict|None=None,\n",
    "        anchor: str|None=None,        \n",
    "        # contextElement: str|None=None,\n",
    "        # afterSwapCallback: Callable|None=None, afterSettleCallback: Callable|None=None,\n",
    "    ): ...\n",
    "\n",
    "    def setup(self, *args, **kwargs):\n",
    "        super().setup()\n",
    "        super().__init__(*args, **kwargs)\n",
    "        dh = display(self, display_id=True)\n",
    "        if dh: dh.update(HTML('<h3>HTMX commander loaded!</h3>'))  # user feedback, headless widget\n",
    "        \n",
    "    def __init__(self, *args, **kwargs):\n",
    "        self.setup(*args, **kwargs)\n"
   ]
  },
  {
   "cell_type": "code",
   "execution_count": null,
   "metadata": {},
   "outputs": [
    {
     "data": {
      "text/html": [
       "<h3>HTMX commander loaded!</h3>"
      ],
      "text/plain": [
       "<IPython.core.display.HTML object>"
      ]
     },
     "metadata": {},
     "output_type": "display_data"
    }
   ],
   "source": [
    "cleanupwidgets('cmdr')\n",
    "\n",
    "cmdr = HTMXCommander()\n"
   ]
  },
  {
   "cell_type": "markdown",
   "metadata": {},
   "source": [
    "## API"
   ]
  },
  {
   "cell_type": "markdown",
   "metadata": {},
   "source": [
    "### Method - `htmx.swap()` {#swap}\n",
    "\n",
    "Performs swapping (and settling) of HTML content\n",
    "\n",
    "##### Parameters\n",
    "\n",
    "* `target` - the HTML element or string selector of swap target\n",
    "* `content` - string representation of content to be swapped\n",
    "* `swapSpec` - swapping specification, representing parameters from `hx-swap`\n",
    "  * `swapStyle` (required) - swapping style (`innerHTML`, `outerHTML`, `beforebegin` etc)\n",
    "  * `swapDelay`, `settleDelay` (number) - delays before swapping and settling respectively\n",
    "  * `transition` (bool) - whether to use HTML transitions for swap\n",
    "  * `ignoreTitle` (bool) - disables page title updates\n",
    "  * `head` (string) - specifies `head` tag handling strategy (`merge` or `append`). Leave empty to disable head handling\n",
    "  * `scroll`, `scrollTarget`, `show`, `showTarget`, `focusScroll` - specifies scroll handling after swap\n",
    "* `swapOptions` - additional *optional* parameters for swapping\n",
    "  * `select` - selector for the content to be swapped (equivalent of `hx-select`)\n",
    "  * `selectOOB` - selector for the content to be swapped out-of-band (equivalent of `hx-select-oob`)\n",
    "  * `eventInfo` - an object to be attached to `htmx:afterSwap` and `htmx:afterSettle` elements\n",
    "  * `anchor` - an anchor element that triggered scroll, will be scrolled into view on settle. Provides simple alternative to full scroll handling\n",
    "  * `contextElement` - DOM element that serves as context to swapping operation. Currently used to find extensions enabled for specific element\n",
    "  * `afterSwapCallback`, `afterSettleCallback` - callback functions called after swap and settle respectively. Take no arguments\n",
    "\n",
    "\n",
    "##### Example\n",
    "\n",
    "```js\n",
    "    // swap #output element inner HTML with div element with \"Swapped!\" text\n",
    "    htmx.swap(\"#output\", \"<div>Swapped!</div>\", {swapStyle: 'innerHTML'});\n",
    "```\n"
   ]
  },
  {
   "cell_type": "code",
   "execution_count": null,
   "metadata": {},
   "outputs": [],
   "source": [
    "#| export\n",
    "\n",
    "SwapStyleT: TypeAlias = Literal['innerHTML','outerHTML','testContent','beforebegin','afterbegin',\n",
    "                        'beforeend','afterend','delete','none']\n"
   ]
  },
  {
   "cell_type": "code",
   "execution_count": null,
   "metadata": {},
   "outputs": [],
   "source": [
    "#| export\n",
    "\n",
    "def swap(self, \n",
    "        target, \n",
    "        content, \n",
    "        *, \n",
    "        # ---- swapSpec:SwapSpec, \n",
    "        swapStyle: SwapStyleT='innerHTML',\n",
    "        swapDelay: int|None=None, settleDelay: int|None=None,\n",
    "        transition: bool|None=None,\n",
    "        # ignoreTitle: bool|None=None, head: Literal['merge', 'append']|None=None,\n",
    "        scroll: str|None=None, scrollTarget: str|None=None,\n",
    "        show: str|None=None, showTarget: str|None=None, focusScroll: bool|None=None,\n",
    "        # ---- swapOptions=None,\n",
    "        select: str|None=None, selectOOB: str|None=None,\n",
    "        # eventInfo: dict|None=None,\n",
    "        anchor: str|None=None,        \n",
    "        # contextElement: str|None=None,\n",
    "        # afterSwapCallback: Callable|None=None, afterSettleCallback: Callable|None=None,\n",
    "    ):\n",
    "    d = {\n",
    "        'target': target,\n",
    "        'content': content,\n",
    "        'swapSpec': update_(**{\n",
    "            'swapStyle': swapStyle, 'swapDelay': swapDelay, 'settleDelay': settleDelay,\n",
    "            'transition': transition,\n",
    "            # 'ignoreTitle': ignoreTitle, 'head': head,\n",
    "            'scroll': scroll, 'scrollTarget': scrollTarget,\n",
    "            'show': show, 'showTarget': showTarget, 'focusScroll': focusScroll,\n",
    "            # 'afterSwapCallback': afterSwapCallback, 'afterSettleCallback': afterSettleCallback,\n",
    "        }),\n",
    "        'swapOptions': update_(**{\n",
    "            'select': select, 'selectOOB': selectOOB,\n",
    "            # 'eventInfo': eventInfo,\n",
    "            'anchor': anchor,\n",
    "            # 'contextElement': contextElement,\n",
    "            # 'afterSwapCallback': afterSwapCallback, 'afterSettleCallback': afterSettleCallback,\n",
    "        }),\n",
    "    }\n",
    "    self.send({\n",
    "        'cmd': 'swap',\n",
    "        'args': [*d.values()]\n",
    "    })\n"
   ]
  },
  {
   "cell_type": "code",
   "execution_count": null,
   "metadata": {},
   "outputs": [],
   "source": [
    "FC.patch_to(HTMXCommander)(swap)\n"
   ]
  },
  {
   "cell_type": "markdown",
   "metadata": {},
   "source": [
    "## Test swap"
   ]
  },
  {
   "cell_type": "code",
   "execution_count": null,
   "metadata": {},
   "outputs": [
    {
     "data": {
      "text/html": [
       "\n",
       "<div id=\"output-99\">Original</div>\n"
      ],
      "text/plain": [
       "<IPython.core.display.HTML object>"
      ]
     },
     "metadata": {},
     "output_type": "display_data"
    }
   ],
   "source": [
    "%%HTML\n",
    "\n",
    "<div id=\"output-99\">Original</div>\n"
   ]
  },
  {
   "cell_type": "code",
   "execution_count": null,
   "metadata": {},
   "outputs": [],
   "source": [
    "cmdr.swap('#output-99', '<div>Swapped!</div>', swapStyle='innerHTML')\n"
   ]
  },
  {
   "cell_type": "markdown",
   "metadata": {},
   "source": [
    "# ----\n",
    "First steps exploring automation. Skip it."
   ]
  },
  {
   "cell_type": "code",
   "execution_count": null,
   "metadata": {},
   "outputs": [
    {
     "name": "stdout",
     "output_type": "stream",
     "text": [
      "(target, content, *, swapStyle: 'SwapStyleT' = 'innerHTML', swapDelay: 'int | None' = None, settleDelay: 'int | None' = None, transition: 'bool | None' = None, scroll: 'str | None' = None, scrollTarget: 'str | None' = None, show: 'str | None' = None, showTarget: 'str | None' = None, focusScroll: 'bool | None' = None, select: 'str | None' = None, selectOOB: 'str | None' = None, anchor: 'str | None' = None)\n",
      "OrderedDict({'target': <Parameter \"target\">, 'content': <Parameter \"content\">, 'swapStyle': <Parameter \"swapStyle: 'SwapStyleT' = 'innerHTML'\">, 'swapDelay': <Parameter \"swapDelay: 'int | None' = None\">, 'settleDelay': <Parameter \"settleDelay: 'int | None' = None\">, 'transition': <Parameter \"transition: 'bool | None' = None\">, 'scroll': <Parameter \"scroll: 'str | None' = None\">, 'scrollTarget': <Parameter \"scrollTarget: 'str | None' = None\">, 'show': <Parameter \"show: 'str | None' = None\">, 'showTarget': <Parameter \"showTarget: 'str | None' = None\">, 'focusScroll': <Parameter \"focusScroll: 'bool | None' = None\">, 'select': <Parameter \"select: 'str | None' = None\">, 'selectOOB': <Parameter \"selectOOB: 'str | None' = None\">, 'anchor': <Parameter \"anchor: 'str | None' = None\">})\n"
     ]
    },
    {
     "data": {
      "text/plain": [
       "('swapStyle', 'innerHTML', 'SwapStyleT', <_ParameterKind.KEYWORD_ONLY: 3>)"
      ]
     },
     "execution_count": null,
     "metadata": {},
     "output_type": "execute_result"
    }
   ],
   "source": [
    "sig = inspect.signature(cmdr.swap)\n",
    "print(sig)\n",
    "print(sig.parameters)\n",
    "target_param = sig.parameters['swapStyle']\n",
    "target_param.name, target_param.default, target_param.annotation, target_param.kind\n"
   ]
  },
  {
   "cell_type": "code",
   "execution_count": null,
   "metadata": {},
   "outputs": [
    {
     "data": {
      "text/plain": [
       "({'target': '#target',\n",
       "  'content': '<content />',\n",
       "  'swapStyle': 'innerHTML',\n",
       "  'swapDelay': 1000},\n",
       " <Signature (target, content, *, swapStyle: 'SwapStyleT' = 'innerHTML', swapDelay: 'int | None' = None, settleDelay: 'int | None' = None, transition: 'bool | None' = None, scroll: 'str | None' = None, scrollTarget: 'str | None' = None, show: 'str | None' = None, showTarget: 'str | None' = None, focusScroll: 'bool | None' = None, select: 'str | None' = None, selectOOB: 'str | None' = None, anchor: 'str | None' = None)>,\n",
       " ('#target', '<content />'),\n",
       " {'swapStyle': 'innerHTML', 'swapDelay': 1000})"
      ]
     },
     "execution_count": null,
     "metadata": {},
     "output_type": "execute_result"
    }
   ],
   "source": [
    "\n",
    "bb = sig.bind(target='#target', content='<content />', swapStyle='innerHTML', swapDelay=1000)\n",
    "bb.arguments, bb.signature, bb.args, bb.kwargs\n"
   ]
  },
  {
   "cell_type": "code",
   "execution_count": null,
   "metadata": {},
   "outputs": [],
   "source": [
    "swap_args = {\n",
    "    'target': 'target',\n",
    "    'content': 'content',\n",
    "    '*': '*',\n",
    "    'swapSpec': {\n",
    "        'swapStyle': 'swapStyle', 'swapDelay': 'swapDelay', 'settleDelay': 'settleDelay',\n",
    "        'transition': 'transition',\n",
    "        # 'ignoreTitle': 'ignoreTitle', 'head': 'head',\n",
    "        'scroll': 'scroll', 'scrollTarget': 'scrollTarget',\n",
    "        'show': 'show', 'showTarget': 'showTarget', 'focusScroll': 'focusScroll',\n",
    "        # 'afterSwapCallback': 'afterSwapCallback', 'afterSettleCallback': 'afterSettleCallback',\n",
    "    },\n",
    "    'swapOptions': {\n",
    "        'select': 'select', 'selectOOB': 'selectOOB',\n",
    "        # 'eventInfo': 'eventInfo',\n",
    "        'anchor': 'anchor',\n",
    "        # 'contextElement': 'contextElement',\n",
    "        # 'afterSwapCallback': 'afterSwapCallback', 'afterSettleCallback': 'afterSettleCallback',\n",
    "    },\n",
    "}\n"
   ]
  },
  {
   "cell_type": "code",
   "execution_count": null,
   "metadata": {},
   "outputs": [],
   "source": [
    "from inspect import Parameter\n",
    "\n",
    "\n",
    "swap_args = {\n",
    "    'target': Parameter('target', Parameter.POSITIONAL_OR_KEYWORD),\n",
    "    'content': Parameter('content', Parameter.POSITIONAL_OR_KEYWORD),\n",
    "    'swapSpec': {\n",
    "        'swapStyle': Parameter('swapStyle', Parameter.KEYWORD_ONLY, annotation=SwapStyleT), \n",
    "        'swapDelay': Parameter('swapDelay', Parameter.KEYWORD_ONLY), \n",
    "        'settleDelay': Parameter('settleDelay', Parameter.KEYWORD_ONLY),\n",
    "        'transition': Parameter('transition', Parameter.KEYWORD_ONLY),\n",
    "        # 'ignoreTitle': 'ignoreTitle', 'head': 'head',\n",
    "        'scroll': Parameter('scroll', Parameter.KEYWORD_ONLY), \n",
    "        'scrollTarget': Parameter('scrollTarget', Parameter.KEYWORD_ONLY),\n",
    "        'show': Parameter('show', Parameter.KEYWORD_ONLY), \n",
    "        'showTarget': Parameter('showTarget', Parameter.KEYWORD_ONLY), \n",
    "        'focusScroll': Parameter('focusScroll', Parameter.KEYWORD_ONLY),\n",
    "        # 'afterSwapCallback': 'afterSwapCallback', 'afterSettleCallback': 'afterSettleCallback',\n",
    "    },\n",
    "    'swapOptions': {\n",
    "        'select': 'select', 'selectOOB': 'selectOOB',\n",
    "        # 'eventInfo': 'eventInfo',\n",
    "        'anchor': 'anchor',\n",
    "        # 'contextElement': 'contextElement',\n",
    "        # 'afterSwapCallback': 'afterSwapCallback', 'afterSettleCallback': 'afterSettleCallback',\n",
    "    },\n",
    "}\n"
   ]
  },
  {
   "cell_type": "code",
   "execution_count": null,
   "metadata": {},
   "outputs": [
    {
     "data": {
      "text/plain": [
       "{<Parameter \"target\">: '#target',\n",
       " <Parameter \"content\">: '<content />',\n",
       " 'swapSpec': {<Parameter \"swapStyle: Literal['innerHTML', 'outerHTML', 'testContent', 'beforebegin', 'afterbegin', 'beforeend', 'afterend', 'delete', 'none']\">: 'innerHTML',\n",
       "  <Parameter \"swapDelay\">: 1000}}"
      ]
     },
     "execution_count": null,
     "metadata": {},
     "output_type": "execute_result"
    }
   ],
   "source": [
    "def build_args_dict(args_desc: dict, *args, **kwargs) -> dict:\n",
    "    \"Builds a dictionary from args/kwargs based on an arguments descriptor\"\n",
    "    result = {}\n",
    "    \n",
    "    # Process descriptor items in order\n",
    "    for k, v in args_desc.items():\n",
    "        if isinstance(v, dict):\n",
    "            # Handle nested dictionary descriptors\n",
    "            nested = {\n",
    "                v2: kwargs.get(k2) \n",
    "                for k2, v2 in v.items() \n",
    "                if kwargs.get(k2) is not None\n",
    "            }\n",
    "            if nested: result[k] = nested\n",
    "        else:\n",
    "            # For non-dict values, first try kwargs, then fallback to positional args\n",
    "            if k in kwargs:\n",
    "                result[v] = kwargs[k]\n",
    "            elif len(args) > 0:\n",
    "                result[v] = args[0]\n",
    "                args = args[1:]\n",
    "    \n",
    "    return result\n",
    "\n",
    "\n",
    "build_args_dict(swap_args, '#target', '<content />', swapStyle='innerHTML', swapDelay=1000)\n",
    "\n"
   ]
  },
  {
   "cell_type": "code",
   "execution_count": null,
   "metadata": {},
   "outputs": [],
   "source": [
    "from IPython.core.getipython import get_ipython\n"
   ]
  },
  {
   "cell_type": "code",
   "execution_count": null,
   "metadata": {},
   "outputs": [],
   "source": [
    "# Get the current notebook\n",
    "ip = get_ipython()\n",
    "if ip:\n",
    "    notebook = ip.kernel.shell.user_ns['In']  # Access input cells\n",
    "    notebook_out = ip.kernel.shell.user_ns['Out']  # Access output cells\n",
    "\n",
    "    # Access specific cells\n",
    "    input_cell_3 = notebook[3]  # Get content of input cell 3\n",
    "    output_cell_3 = notebook_out.get(3)  # Get content of output cell 3 (if it exists)\n",
    "\n",
    "    # Get all cells\n",
    "    all_input_cells = list(notebook.values())\n",
    "    all_output_cells = list(notebook_out.values())\n",
    "\n",
    "    # Get cell numbers\n",
    "    cell_numbers = list(notebook.keys())"
   ]
  },
  {
   "cell_type": "code",
   "execution_count": null,
   "metadata": {},
   "outputs": [],
   "source": [
    "import nbformat\n",
    "import os\n",
    "\n",
    "def get_notebook_path():\n",
    "    \"\"\"Get the path of the current notebook\"\"\"\n",
    "    return os.path.abspath(ip.kernel.shell.user_ns['__vsc_ipynb_file__'])  # For VSCode\n",
    "    # or for classic Jupyter:\n",
    "    # return os.path.abspath(ip.kernel.shell.user_ns['__notebook_path__'])\n",
    "\n",
    "nb_path = get_notebook_path()\n",
    "with open(nb_path) as f:\n",
    "    nb = nbformat.read(f, as_version=4)\n",
    "    \n",
    "# Now you can access all cells including metadata\n",
    "cells = nb.cells  # List of all cells with full metadata"
   ]
  },
  {
   "cell_type": "code",
   "execution_count": null,
   "metadata": {},
   "outputs": [
    {
     "data": {
      "text/plain": [
       "{'cell_type': 'code',\n",
       " 'execution_count': 22,\n",
       " 'metadata': {},\n",
       " 'outputs': [{'data': {'text/html': '\\n<div id=\"output-99\">Original</div>\\n',\n",
       "    'text/plain': '<IPython.core.display.HTML object>'},\n",
       "   'metadata': {},\n",
       "   'output_type': 'display_data'}],\n",
       " 'source': '%%HTML\\n\\n<div id=\"output-99\">Original</div>\\n'}"
      ]
     },
     "execution_count": null,
     "metadata": {},
     "output_type": "execute_result"
    }
   ],
   "source": [
    "cells[26]"
   ]
  },
  {
   "cell_type": "markdown",
   "metadata": {},
   "source": [
    "# Colophon\n",
    "----\n"
   ]
  },
  {
   "cell_type": "code",
   "execution_count": null,
   "metadata": {},
   "outputs": [],
   "source": [
    "import fastcore.all as FC\n",
    "import nbdev\n",
    "from nbdev.clean import nbdev_clean\n"
   ]
  },
  {
   "cell_type": "code",
   "execution_count": null,
   "metadata": {},
   "outputs": [],
   "source": [
    "if FC.IN_NOTEBOOK:\n",
    "    nb_path = '21_htmx.ipynb'\n",
    "    nbdev_clean(nb_path)\n",
    "    nbdev.nbdev_export(nb_path)\n"
   ]
  }
 ],
 "metadata": {
  "kernelspec": {
   "display_name": "python3",
   "language": "python",
   "name": "python3"
  }
 },
 "nbformat": 4,
 "nbformat_minor": 2
}
