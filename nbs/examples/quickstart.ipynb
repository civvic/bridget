{
 "cells": [
  {
   "cell_type": "code",
   "execution_count": null,
   "metadata": {},
   "outputs": [],
   "source": [
    "from bridget import get_app\n",
    "from fasthtml.components import Button\n"
   ]
  },
  {
   "cell_type": "code",
   "execution_count": null,
   "metadata": {},
   "outputs": [],
   "source": [
    "app, bridget, rt = get_app(auto_show=True)  # Initialize Bridget environment\n"
   ]
  },
  {
   "cell_type": "code",
   "execution_count": null,
   "metadata": {},
   "outputs": [],
   "source": [
    "def counter(n=0):\n",
    "    @rt('/inc')\n",
    "    def increment(n:int):\n",
    "        return Button(f\"Count: {n+1}\", value=f\"{n+1}\", name='n', \n",
    "            hx_post='/inc', hx_swap='outerHTML', \n",
    "            style=f\"font-weight: bold\")\n",
    "    return increment(n-1)\n",
    "\n",
    "counter()\n"
   ]
  },
  {
   "cell_type": "code",
   "execution_count": null,
   "metadata": {},
   "outputs": [],
   "source": []
  }
 ],
 "metadata": {
  "kernelspec": {
   "display_name": "python3",
   "language": "python",
   "name": "python3"
  }
 },
 "nbformat": 4,
 "nbformat_minor": 4
}
