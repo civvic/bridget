{
 "cells": [
  {
   "cell_type": "code",
   "execution_count": 1,
   "metadata": {
    "brd": {
     "id": "02fb6eac-40f5-4d7b-8021-b180174799b9"
    }
   },
   "outputs": [],
   "source": [
    "from bridget.common import *\n",
    "from fasthtml.components import Button"
   ]
  },
  {
   "cell_type": "code",
   "execution_count": 4,
   "metadata": {
    "brd": {
     "id": "b2cc6496-5837-49f8-b2de-fdc373275ec9"
    }
   },
   "outputs": [],
   "source": [
    "bridge_cfg.auto_show = True"
   ]
  },
  {
   "cell_type": "code",
   "execution_count": 2,
   "metadata": {
    "brd": {
     "id": "4f49fa0e-1a29-46e1-9326-282565624110"
    }
   },
   "outputs": [],
   "source": [
    "# app, brt, rt = get_app(show_logger=True, summary=True)\n",
    "app, brt, rt = get_app()  # Initialize Bridget environment"
   ]
  },
  {
   "cell_type": "code",
   "execution_count": 5,
   "metadata": {
    "brd": {
     "id": "41e79243-af6b-48ae-8578-59e385f90418"
    }
   },
   "outputs": [
    {
     "data": {
      "text/html": [
       "<button value=\"0\" name=\"n\" hx-post=\"/inc\" hx-swap=\"outerHTML\" style=\"font-weight: bold\">Count: 0</button>"
      ],
      "text/markdown": [
       "```html\n",
       "<button value=\"0\" name=\"n\" hx-post=\"/inc\" hx-swap=\"outerHTML\" style=\"font-weight: bold\">Count: 0</button>\n",
       "```"
      ],
      "text/plain": [
       "button(('Count: 0',),{'value': '0', 'name': 'n', 'hx-post': '/inc', 'hx-swap': 'outerHTML', 'style': 'font-weight: bold'})"
      ]
     },
     "execution_count": 5,
     "metadata": {},
     "output_type": "execute_result"
    }
   ],
   "source": [
    "def counter(n=0):\n",
    "    @rt('/inc')\n",
    "    def increment(n:int):\n",
    "        return Button(f\"Count: {n+1}\", value=f\"{n+1}\", name='n', \n",
    "            hx_post='/inc', hx_swap='outerHTML', \n",
    "            style=f\"font-weight: bold\")\n",
    "    return increment(n-1)\n",
    "\n",
    "counter()\n"
   ]
  }
 ],
 "metadata": {
  "kernelspec": {
   "display_name": "Python 3",
   "language": "python",
   "name": "python3"
  },
  "language_info": {
   "codemirror_mode": {
    "name": "ipython",
    "version": 3
   },
   "file_extension": ".py",
   "mimetype": "text/x-python",
   "name": "python",
   "nbconvert_exporter": "python",
   "pygments_lexer": "ipython3",
   "version": "3.12.11"
  }
 },
 "nbformat": 4,
 "nbformat_minor": 4
}
