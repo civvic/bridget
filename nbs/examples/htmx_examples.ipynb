{
 "cells": [
  {
   "cell_type": "markdown",
   "metadata": {},
   "source": [
    "# HTMX Examples\n",
    "\n",
    "> Running some HTMX examples with Bridget.\n"
   ]
  },
  {
   "cell_type": "code",
   "execution_count": null,
   "metadata": {},
   "outputs": [],
   "source": [
    "import fastcore.all as FC\n",
    "from bridget.bridget import _n\n",
    "from bridget.bridget import Script\n",
    "from bridget.bridget import Style\n",
    "from bridget.bridget import get_app\n",
    "\n",
    "# needed for vfile:\n",
    "%load_ext anywidget\n"
   ]
  },
  {
   "cell_type": "code",
   "execution_count": null,
   "metadata": {},
   "outputs": [
    {
     "data": {
      "text/html": [
       "<script src=\"https://unpkg.com/htmx.org@next/dist/htmx.js\"></script><script src=\"https://cdn.jsdelivr.net/gh/answerdotai/fasthtml-js@1.0.4/fasthtml.js\"></script><script src=\"https://cdn.jsdelivr.net/gh/answerdotai/surreal@main/surreal.js\"></script><script src=\"https://cdn.jsdelivr.net/gh/gnat/css-scope-inline@main/script.js\"></script><details open><summary><b>Loaded scripts</b></summary><pre>&lt;script src=&quot;https://unpkg.com/htmx.org@next/dist/htmx.js&quot;&gt;&lt;/script&gt;\n",
       "&lt;script src=&quot;https://cdn.jsdelivr.net/gh/answerdotai/fasthtml-js@1.0.4/fasthtml.js&quot;&gt;&lt;/script&gt;\n",
       "&lt;script src=&quot;https://cdn.jsdelivr.net/gh/answerdotai/surreal@main/surreal.js&quot;&gt;&lt;/script&gt;\n",
       "&lt;script src=&quot;https://cdn.jsdelivr.net/gh/gnat/css-scope-inline@main/script.js&quot;&gt;&lt;/script&gt;</pre></details>"
      ],
      "text/plain": [
       "<IPython.core.display.HTML object>"
      ]
     },
     "metadata": {},
     "output_type": "display_data"
    },
    {
     "data": {
      "application/vnd.jupyter.widget-view+json": {
       "model_id": "77fc590f127f456899f40fe599b08cbd",
       "version_major": 2,
       "version_minor": 1
      },
      "text/plain": [
       "Bridget(htmx_sels=['.output', '.jp-Cell-outputArea'], libraries={'htmx': 'https://unpkg.com/htmx.org@next/dist…"
      ]
     },
     "metadata": {},
     "output_type": "display_data"
    },
    {
     "data": {
      "text/html": [],
      "text/plain": [
       "<IPython.core.display.HTML object>"
      ]
     },
     "metadata": {},
     "output_type": "display_data"
    }
   ],
   "source": [
    "app, brt, rt = get_app(True, auto_show=True)\n"
   ]
  },
  {
   "cell_type": "markdown",
   "metadata": {},
   "source": [
    "# Example from [css-scope-inline](https://github.com/gnat/css-scope-inline)\n"
   ]
  },
  {
   "cell_type": "code",
   "execution_count": null,
   "metadata": {},
   "outputs": [],
   "source": [
    "from fasthtml.components import Button, Span, Div, H2\n",
    "\n",
    "class Buttons:\n",
    "    def __ft__(self):\n",
    "        return (\n",
    "            Button(garlic=True, hx_get='test', hx_select='button[vampire]', hx_swap='afterend')(_n,\n",
    "                Style(self._css_.format('hsl(264 80% 47%)', 'hsl(264 80% 60%)')),\n",
    "                'garlic ', Span('🧄', cls='icon'),\n",
    "            _n), _n,\n",
    "            Button(vampire=True, hx_get='test', hx_select='button[garlic]', hx_swap='afterend')(_n,\n",
    "                Style(self._css_.format('hsl(150 80% 47%)', 'hsl(150 80% 60%)')), \n",
    "                'vampire ', Span('🧛', cls='icon'),\n",
    "            _n), _n,\n",
    "        )\n",
    "    _css_ = '''\n",
    "    me {{ margin: 4px; padding: 10px 30px; min-width: 80px; background: {0}; border-bottom: 0.5rem solid hsl(264 80% 20%); }}\n",
    "    me {{ color: antiquewhite; font-size: 14pt; font-variant: all-small-caps; font-weight: bold; }}\n",
    "    me:hover {{ background: {1}; }}\n",
    "    me span.icon {{ font-size:16pt; }}\n",
    "'''\n",
    "\n",
    "@rt(\"/test\")\n",
    "def get(): return Buttons()\n"
   ]
  },
  {
   "cell_type": "code",
   "execution_count": null,
   "metadata": {},
   "outputs": [
    {
     "data": {
      "text/html": [
       "<div>\n",
       "  <h2>HTMX Test</h2>\n",
       "  <div>Buffy, eat garlic! Angel, more yous!</div>\n",
       "<button garlic hx-get=\"test\" hx-select=\"button[vampire]\" hx-swap=\"afterend\">\n",
       "    <style>\n",
       "    me { margin: 4px; padding: 10px 30px; min-width: 80px; background: hsl(264 80% 47%); border-bottom: 0.5rem solid hsl(264 80% 20%); }\n",
       "    me { color: antiquewhite; font-size: 14pt; font-variant: all-small-caps; font-weight: bold; }\n",
       "    me:hover { background: hsl(264 80% 60%); }\n",
       "    me span.icon { font-size:16pt; }\n",
       "</style>\n",
       "garlic <span class=\"icon\">🧄</span>\n",
       "</button>\n",
       "<button vampire hx-get=\"test\" hx-select=\"button[garlic]\" hx-swap=\"afterend\">\n",
       "    <style>\n",
       "    me { margin: 4px; padding: 10px 30px; min-width: 80px; background: hsl(150 80% 47%); border-bottom: 0.5rem solid hsl(264 80% 20%); }\n",
       "    me { color: antiquewhite; font-size: 14pt; font-variant: all-small-caps; font-weight: bold; }\n",
       "    me:hover { background: hsl(150 80% 60%); }\n",
       "    me span.icon { font-size:16pt; }\n",
       "</style>\n",
       "vampire <span class=\"icon\">🧛</span>\n",
       "</button>\n",
       "</div>\n"
      ],
      "text/plain": [
       "<IPython.core.display.HTML object>"
      ]
     },
     "metadata": {},
     "output_type": "display_data"
    }
   ],
   "source": [
    "Div()(\n",
    "    H2('HTMX Test'),\n",
    "    Div('Buffy, eat garlic! Angel, more yous!'),\n",
    "    Buttons(),\n",
    ")\n"
   ]
  },
  {
   "cell_type": "markdown",
   "metadata": {},
   "source": [
    "# [Delete Row](https://htmx.org/examples/delete-row/)"
   ]
  },
  {
   "cell_type": "code",
   "execution_count": null,
   "metadata": {},
   "outputs": [],
   "source": [
    "from fasthtml.components import Table, Thead, Tbody, Tr, Th, Td\n",
    "\n",
    "\n",
    "contacts = [\n",
    "    {'name': \"Joe Smith\",       'email': \"joe@smith.org\",       'status': \"Active\"},\n",
    "    {'name': \"Angie MacDowell\", 'email': \"angie@macdowell.org\", 'status': \"Active\"},\n",
    "    {'name': \"Fuqua Tarkenton\", 'email': \"fuqua@tarkenton.org\", 'status': \"Active\"},\n",
    "    {'name': \"Kim Yee\",         'email': \"kim@yee.org\",         'status': \"Inactive\"},\n",
    "]\n",
    "\n",
    "\n",
    "def row(contact, i):\n",
    "    return Tr()(\n",
    "        Td(contact[\"name\"]), Td(contact[\"email\"]), Td(contact[\"status\"]),\n",
    "        Td()(Button(cls=\"btn danger\", hx_delete=f\"/contact/{i}\")('Delete'))\n",
    "    )\n",
    "\n",
    "\n",
    "tbl = Table(cls=\"table delete-row-example\")(\n",
    "    Style('''\n",
    "me tr.htmx-swapping td {\n",
    "    opacity: 0;\n",
    "    transition: opacity 1s ease-out;\n",
    "}\n",
    "'''),\n",
    "    Thead()(Tr()(Th('Name'), Th('Email'), Th('Status'), Th())),\n",
    "    # Tbody(hx_confirm=\"Are you sure?\", hx_target=\"closest tr\", hx_swap=\"outerHTML swap:1s\")(\n",
    "    Tbody(hx_target=\"closest tr\", hx_swap=\"outerHTML swap:1s\")(\n",
    "        *(row(contact, i) for i, contact in enumerate(contacts))\n",
    "    )\n",
    ")\n",
    "\n",
    "@rt('/demo')\n",
    "def get(): return tbl\n",
    "\n",
    "@rt('/contact/{i}')\n",
    "def delete(i:int): return ''\n",
    "\n",
    "tbl"
   ]
  },
  {
   "cell_type": "code",
   "execution_count": null,
   "metadata": {},
   "outputs": [
    {
     "data": {
      "text/html": [
       " <table class=\"table delete-row-example\">\n",
       "   <style>\n",
       "me tr.htmx-swapping td {\n",
       "    opacity: 0;\n",
       "    transition: opacity 1s ease-out;\n",
       "}\n",
       "</style>\n",
       "   <thead>\n",
       "     <tr>\n",
       "       <th>Name</th>\n",
       "       <th>Email</th>\n",
       "       <th>Status</th>\n",
       "       <th></th>\n",
       "     </tr>\n",
       "   </thead>\n",
       "   <tbody hx-swap=\"outerHTML swap:1s\" hx-target=\"closest tr\">\n",
       "     <tr>\n",
       "       <td>Joe Smith</td>\n",
       "       <td>joe@smith.org</td>\n",
       "       <td>Active</td>\n",
       "       <td>\n",
       "<button hx-delete=\"/contact/0\" class=\"btn danger\">Delete</button>       </td>\n",
       "     </tr>\n",
       "     <tr>\n",
       "       <td>Angie MacDowell</td>\n",
       "       <td>angie@macdowell.org</td>\n",
       "       <td>Active</td>\n",
       "       <td>\n",
       "<button hx-delete=\"/contact/1\" class=\"btn danger\">Delete</button>       </td>\n",
       "     </tr>\n",
       "     <tr>\n",
       "       <td>Fuqua Tarkenton</td>\n",
       "       <td>fuqua@tarkenton.org</td>\n",
       "       <td>Active</td>\n",
       "       <td>\n",
       "<button hx-delete=\"/contact/2\" class=\"btn danger\">Delete</button>       </td>\n",
       "     </tr>\n",
       "     <tr>\n",
       "       <td>Kim Yee</td>\n",
       "       <td>kim@yee.org</td>\n",
       "       <td>Inactive</td>\n",
       "       <td>\n",
       "<button hx-delete=\"/contact/3\" class=\"btn danger\">Delete</button>       </td>\n",
       "     </tr>\n",
       "   </tbody>\n",
       " </table>\n"
      ],
      "text/plain": [
       "<IPython.core.display.HTML object>"
      ]
     },
     "metadata": {},
     "output_type": "display_data"
    }
   ],
   "source": [
    "brt('/demo')\n"
   ]
  },
  {
   "cell_type": "markdown",
   "metadata": {},
   "source": [
    "# [Edit Row](https://htmx.org/examples/edit-row/)"
   ]
  },
  {
   "cell_type": "code",
   "execution_count": null,
   "metadata": {},
   "outputs": [],
   "source": [
    "# %%vfile alertscr\n",
    "\n",
    "# debugger\n",
    "\n",
    "# var _$alert = (btn) => {\n",
    "#     debugger;\n",
    "#     let editing = document.querySelector('.editing')\n",
    "#     if(editing) {\n",
    "#         Swal.fire({\n",
    "#             title: 'Already Editing',\n",
    "#             showCancelButton: true,\n",
    "#             confirmButtonText: 'Yep, Edit This Row!',\n",
    "#             text:'Hey! You are already editing a row! Do you want to cancel that edit and continue?'\n",
    "#         })\n",
    "#         .then((result) => {\n",
    "#             if (result.isConfirmed) {\n",
    "#                 htmx.trigger(editing, 'cancel')\n",
    "#                 htmx.trigger(btn, 'edit')\n",
    "#             }\n",
    "#         })\n",
    "#     } else {\n",
    "#         htmx.trigger(btn, 'edit')\n",
    "#     }\n",
    "# }"
   ]
  },
  {
   "cell_type": "code",
   "execution_count": null,
   "metadata": {},
   "outputs": [],
   "source": [
    "%%vfile alertscr\n",
    "\n",
    "debugger\n",
    "\n",
    "var _$alert = (btn) => {\n",
    "    debugger;\n",
    "    let editing = document.querySelector('.editing')\n",
    "    if (editing) {\n",
    "        if (window.confirm('Hey! You are already editing a row! Do you want to cancel that edit and continue?')) {\n",
    "            htmx.trigger(editing, 'cancel');\n",
    "            htmx.trigger(btn, 'edit');\n",
    "        }\n",
    "    } else {\n",
    "        htmx.trigger(btn, 'edit')\n",
    "    }\n",
    "}"
   ]
  },
  {
   "cell_type": "code",
   "execution_count": null,
   "metadata": {},
   "outputs": [
    {
     "data": {
      "text/html": [
       "<script>\n",
       "debugger\n",
       "\n",
       "var _$alert = (btn) => {\n",
       "    debugger;\n",
       "    let editing = document.querySelector('.editing')\n",
       "    if (editing) {\n",
       "        if (window.confirm('Hey! You are already editing a row! Do you want to cancel that edit and continue?')) {\n",
       "            htmx.trigger(editing, 'cancel');\n",
       "            htmx.trigger(btn, 'edit');\n",
       "        }\n",
       "    } else {\n",
       "        htmx.trigger(btn, 'edit')\n",
       "    }\n",
       "}\n",
       "</script>"
      ],
      "text/plain": [
       "<IPython.core.display.HTML object>"
      ]
     },
     "metadata": {},
     "output_type": "display_data"
    }
   ],
   "source": [
    "# alertscr = Script('vfile:alertscr', type=\"module\")\n",
    "\n",
    "Script('vfile:alertscr')\n"
   ]
  },
  {
   "cell_type": "code",
   "execution_count": null,
   "metadata": {},
   "outputs": [],
   "source": [
    "# from IPython.display import Javascript\n",
    "\n",
    "# display(Javascript('''\n",
    "# debugger;\n",
    "# element.append(`\n",
    "# <p class=\"editing\"><button onclick=\"_$alert(this)\">Test alert</button></p>\n",
    "# `);\n",
    "# // const btn = element.find(\"button\");\n",
    "# // btn.click(ev => _$alert.apply(ev.target));\n",
    "# '''))\n"
   ]
  },
  {
   "cell_type": "code",
   "execution_count": null,
   "metadata": {},
   "outputs": [
    {
     "data": {
      "text/html": [
       "<div>\n",
       "  <table class=\"table edit-row-example\">\n",
       "    <thead>\n",
       "      <tr>\n",
       "        <th>Name</th>\n",
       "        <th>Email</th>\n",
       "        <th></th>\n",
       "      </tr>\n",
       "    </thead>\n",
       "    <tbody hx-swap=\"outerHTML\" hx-target=\"closest tr\">\n",
       "      <tr>\n",
       "        <td>Joe Smith</td>\n",
       "        <td>joe@smith.org</td>\n",
       "        <td>\n",
       "<button hx-get=\"/eg2/contact/0/edit\" hx-trigger=\"edit\" onclick=\"_$alert(this)\" class=\"btn danger\">Edit</button>        </td>\n",
       "      </tr>\n",
       "      <tr>\n",
       "        <td>Angie MacDowell</td>\n",
       "        <td>angie@macdowell.org</td>\n",
       "        <td>\n",
       "<button hx-get=\"/eg2/contact/1/edit\" hx-trigger=\"edit\" onclick=\"_$alert(this)\" class=\"btn danger\">Edit</button>        </td>\n",
       "      </tr>\n",
       "      <tr>\n",
       "        <td>Fuqua Tarkenton</td>\n",
       "        <td>fuqua@tarkenton.org</td>\n",
       "        <td>\n",
       "<button hx-get=\"/eg2/contact/2/edit\" hx-trigger=\"edit\" onclick=\"_$alert(this)\" class=\"btn danger\">Edit</button>        </td>\n",
       "      </tr>\n",
       "      <tr>\n",
       "        <td>Kim Yee</td>\n",
       "        <td>kim@yee.org</td>\n",
       "        <td>\n",
       "<button hx-get=\"/eg2/contact/3/edit\" hx-trigger=\"edit\" onclick=\"_$alert(this)\" class=\"btn danger\">Edit</button>        </td>\n",
       "      </tr>\n",
       "    </tbody>\n",
       "  </table>\n",
       "</div>\n"
      ],
      "text/plain": [
       "<IPython.core.display.HTML object>"
      ]
     },
     "metadata": {},
     "output_type": "display_data"
    }
   ],
   "source": [
    "from fasthtml.components import Input\n",
    "\n",
    "contacts = [\n",
    "    {'id': 0, 'name': \"Joe Smith\",       'email': \"joe@smith.org\",       'status': \"Active\"},\n",
    "    {'id': 1, 'name': \"Angie MacDowell\", 'email': \"angie@macdowell.org\", 'status': \"Active\"},\n",
    "    {'id': 2, 'name': \"Fuqua Tarkenton\", 'email': \"fuqua@tarkenton.org\", 'status': \"Active\"},\n",
    "    {'id': 3, 'name': \"Kim Yee\",         'email': \"kim@yee.org\",         'status': \"Inactive\"},\n",
    "]\n",
    "\n",
    "\n",
    "def editrow(contact):\n",
    "    return Tr(hx_trigger='cancel', cls='editing', hx_get=f\"/eg2/contact/{contact['id']}\")(\n",
    "        Td(Input(name='name', value=contact['name'])),\n",
    "        Td(Input(name='email', value=contact['email'])),\n",
    "        Td()(Button(cls=\"btn danger\", hx_get=f\"/eg2/contact/{contact['id']}\")('Cancel'),\n",
    "            Button(cls=\"btn danger\", hx_put=f\"/eg2/contact/{contact['id']}\", hx_include='closest tr')('Save'))\n",
    "    )\n",
    "\n",
    "def row(contact):\n",
    "    return Tr()(\n",
    "        Td(contact[\"name\"]), Td(contact[\"email\"]),\n",
    "        Td()(Button('Edit', cls=\"btn danger\", \n",
    "            hx_get=f\"/eg2/contact/{contact['id']}/edit\", hx_trigger=\"edit\", \n",
    "            onClick=\"_$alert(this)\")\n",
    "        )\n",
    "    )\n",
    "\n",
    "tbl = Div()(\n",
    "    Table(cls=\"table edit-row-example\")(\n",
    "        Thead()(Tr()(Th('Name'), Th('Email'), Th())),\n",
    "        # Tbody(hx_confirm=\"Are you sure?\", hx_target=\"closest tr\", hx_swap=\"outerHTML swap:1s\")(\n",
    "        Tbody(hx_target=\"closest tr\", hx_swap=\"outerHTML\")(\n",
    "            *(row(contact) for contact in contacts)\n",
    "        )\n",
    "    ),\n",
    "    # alertscr\n",
    ")\n",
    "\n",
    "\n",
    "@rt('/eg2/contact/{i}{edit:path}')\n",
    "def get(i:int, edit:str=''):\n",
    "    # import debugpy; debugpy.debug_this_thread() # vscode needs this to honor breakpoints\n",
    "    contact = contacts[i]\n",
    "    if edit: return editrow(contact)\n",
    "    else: return row(contact)\n",
    "\n",
    "\n",
    "@rt('/eg2/contact/{i}')\n",
    "def put(i:int, name:str, email:str):\n",
    "    # import debugpy; debugpy.debug_this_thread() # vscode needs this to honor breakpoints\n",
    "    contact = contacts[i]\n",
    "    contact['name'] = name\n",
    "    contact['email'] = email\n",
    "    return row(contact)\n",
    "\n",
    "\n",
    "tbl\n"
   ]
  },
  {
   "cell_type": "code",
   "execution_count": null,
   "metadata": {},
   "outputs": [],
   "source": []
  }
 ],
 "metadata": {
  "kernelspec": {
   "display_name": "python3",
   "language": "python",
   "name": "python3"
  }
 },
 "nbformat": 4,
 "nbformat_minor": 2
}
