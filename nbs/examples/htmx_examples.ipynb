{
 "cells": [
  {
   "cell_type": "markdown",
   "metadata": {},
   "source": [
    "# HTMX Examples\n",
    "\n",
    "> Running some HTMX examples with Bridget.\n"
   ]
  },
  {
   "cell_type": "code",
   "execution_count": 1,
   "metadata": {
    "brd": {
     "id": "ae5a8079-28fb-49fa-9489-e0a8270bc0bf"
    }
   },
   "outputs": [],
   "source": [
    "import fastcore.all as FC\n",
    "from bridget.common import *\n",
    "\n",
    "from bridget.helpers import _n\n",
    "from fasthtml.xtend import Script, Style\n",
    "\n",
    "# needed for vfile:\n",
    "%load_ext anywidget"
   ]
  },
  {
   "cell_type": "code",
   "execution_count": 2,
   "metadata": {
    "brd": {
     "id": "4554178b-1eab-4248-a221-9fdae5a906d0"
    }
   },
   "outputs": [
    {
     "data": {
      "text/html": [
       "<div id='brd-logger_1-1757335259' class='brd-logger' style='width: 100%; max-height: 200px;'></div>"
      ],
      "text/plain": [
       "<bridget.helpers.HTML object>"
      ]
     },
     "metadata": {},
     "output_type": "display_data"
    },
    {
     "data": {
      "text/html": [
       "<details open><summary><b>Loaded scripts</b></summary><pre>loader\n",
       "htmx\n",
       "fasthtmljs\n",
       "observer\n",
       "brd_mark</pre></details>"
      ],
      "text/plain": [
       "<bridget.helpers.HTML object>"
      ]
     },
     "metadata": {},
     "output_type": "display_data"
    }
   ],
   "source": [
    "app, brt, rt = get_app(show_logger=True, summary=True, cfg={'auto_show':True})"
   ]
  },
  {
   "cell_type": "markdown",
   "metadata": {},
   "source": [
    "# Example from [css-scope-inline](https://github.com/gnat/css-scope-inline)\n"
   ]
  },
  {
   "cell_type": "code",
   "execution_count": 4,
   "metadata": {
    "brd": {
     "id": "c173731f-ed1c-40ff-8033-4f21fb109424"
    }
   },
   "outputs": [],
   "source": [
    "from fasthtml.components import Button, Span, Div, H2\n",
    "\n",
    "class Buttons:\n",
    "    def __ft__(self):\n",
    "        return (\n",
    "            Button(garlic=True, hx_get='test', hx_select='button[vampire]', hx_swap='afterend')(_n,\n",
    "                Style(self._css_.format('hsl(264 80% 47%)', 'hsl(264 80% 60%)')),\n",
    "                'garlic ', Span('🧄', cls='icon'),\n",
    "            _n), _n,\n",
    "            Button(vampire=True, hx_get='test', hx_select='button[garlic]', hx_swap='afterend')(_n,\n",
    "                Style(self._css_.format('hsl(150 80% 47%)', 'hsl(150 80% 60%)')), \n",
    "                'vampire ', Span('🧛', cls='icon'),\n",
    "            _n), _n,\n",
    "        )\n",
    "    _css_ = '''\n",
    "    me {{ margin: 4px; padding: 10px 30px; min-width: 80px; background: {0}; border-bottom: 0.5rem solid hsl(264 80% 20%); }}\n",
    "    me {{ color: antiquewhite; font-size: 14pt; font-variant: all-small-caps; font-weight: bold; }}\n",
    "    me:hover {{ background: {1}; }}\n",
    "    me span.icon {{ font-size:16pt; }}\n",
    "'''\n",
    "\n",
    "@rt(\"/test\")\n",
    "def get(): return Buttons()\n"
   ]
  },
  {
   "cell_type": "code",
   "execution_count": 6,
   "metadata": {
    "brd": {
     "id": "efc1dbcd-4fae-4b3c-8d5c-a7722a11895c"
    }
   },
   "outputs": [
    {
     "data": {
      "text/html": [
       "<div><h2>HTMX Test</h2><div>Buffy: eat garlic! Angel: more mes!</div><button garlic hx-get=\"test\" hx-select=\"button[vampire]\" hx-swap=\"afterend\">\n",
       "<style>\n",
       "    me { margin: 4px; padding: 10px 30px; min-width: 80px; background: hsl(264 80% 47%); border-bottom: 0.5rem solid hsl(264 80% 20%); }\n",
       "    me { color: antiquewhite; font-size: 14pt; font-variant: all-small-caps; font-weight: bold; }\n",
       "    me:hover { background: hsl(264 80% 60%); }\n",
       "    me span.icon { font-size:16pt; }\n",
       "</style>garlic <span class=\"icon\">🧄</span>\n",
       "</button>\n",
       "<button vampire hx-get=\"test\" hx-select=\"button[garlic]\" hx-swap=\"afterend\">\n",
       "<style>\n",
       "    me { margin: 4px; padding: 10px 30px; min-width: 80px; background: hsl(150 80% 47%); border-bottom: 0.5rem solid hsl(264 80% 20%); }\n",
       "    me { color: antiquewhite; font-size: 14pt; font-variant: all-small-caps; font-weight: bold; }\n",
       "    me:hover { background: hsl(150 80% 60%); }\n",
       "    me span.icon { font-size:16pt; }\n",
       "</style>vampire <span class=\"icon\">🧛</span>\n",
       "</button>\n",
       "</div>"
      ],
      "text/markdown": [
       "```html\n",
       "<div>\n",
       "  <h2>HTMX Test</h2>\n",
       "  <div>Buffy: eat garlic! Angel: more mes!</div>\n",
       "<button garlic hx-get=\"test\" hx-select=\"button[vampire]\" hx-swap=\"afterend\">\n",
       "    <style>\n",
       "    me { margin: 4px; padding: 10px 30px; min-width: 80px; background: hsl(264 80% 47%); border-bottom: 0.5rem solid hsl(264 80% 20%); }\n",
       "    me { color: antiquewhite; font-size: 14pt; font-variant: all-small-caps; font-weight: bold; }\n",
       "    me:hover { background: hsl(264 80% 60%); }\n",
       "    me span.icon { font-size:16pt; }\n",
       "</style>\n",
       "garlic <span class=\"icon\">🧄</span>\n",
       "</button>\n",
       "<button vampire hx-get=\"test\" hx-select=\"button[garlic]\" hx-swap=\"afterend\">\n",
       "    <style>\n",
       "    me { margin: 4px; padding: 10px 30px; min-width: 80px; background: hsl(150 80% 47%); border-bottom: 0.5rem solid hsl(264 80% 20%); }\n",
       "    me { color: antiquewhite; font-size: 14pt; font-variant: all-small-caps; font-weight: bold; }\n",
       "    me:hover { background: hsl(150 80% 60%); }\n",
       "    me span.icon { font-size:16pt; }\n",
       "</style>\n",
       "vampire <span class=\"icon\">🧛</span>\n",
       "</button>\n",
       "</div>\n",
       "\n",
       "```"
      ],
      "text/plain": [
       "div((h2(('HTMX Test',),{}), div(('Buffy: eat garlic! Angel: more mes!',),{}), <__main__.Buttons object at 0x12fdbc680>),{})"
      ]
     },
     "execution_count": 6,
     "metadata": {},
     "output_type": "execute_result"
    }
   ],
   "source": [
    "Div()(\n",
    "    H2('HTMX Test'),\n",
    "    Div('Buffy: eat garlic! Angel: more mes!'),\n",
    "    Buttons(),\n",
    ")\n"
   ]
  },
  {
   "cell_type": "markdown",
   "metadata": {},
   "source": [
    "# [Delete Row](https://htmx.org/examples/delete-row/)"
   ]
  },
  {
   "cell_type": "code",
   "execution_count": 7,
   "metadata": {
    "brd": {
     "id": "02c91717-6cba-4632-b149-6f16ed43de2d"
    }
   },
   "outputs": [
    {
     "data": {
      "text/html": [
       "<table class=\"table delete-row-example\"><style>\n",
       "me tr.htmx-swapping td {\n",
       "    opacity: 0;\n",
       "    transition: opacity 1s ease-out;\n",
       "}\n",
       "</style><thead><tr><th>Name</th><th>Email</th><th>Status</th><th></th></tr></thead><tbody hx-swap=\"outerHTML swap:1s\" hx-target=\"closest tr\"><tr><td>Joe Smith</td><td>joe@smith.org</td><td>Active</td><td><button hx-delete=\"/contact/0\" class=\"btn danger\">Delete</button></td></tr><tr><td>Angie MacDowell</td><td>angie@macdowell.org</td><td>Active</td><td><button hx-delete=\"/contact/1\" class=\"btn danger\">Delete</button></td></tr><tr><td>Fuqua Tarkenton</td><td>fuqua@tarkenton.org</td><td>Active</td><td><button hx-delete=\"/contact/2\" class=\"btn danger\">Delete</button></td></tr><tr><td>Kim Yee</td><td>kim@yee.org</td><td>Inactive</td><td><button hx-delete=\"/contact/3\" class=\"btn danger\">Delete</button></td></tr></tbody></table>"
      ],
      "text/markdown": [
       "```html\n",
       "<table class=\"table delete-row-example\">\n",
       "  <style>\n",
       "me tr.htmx-swapping td {\n",
       "    opacity: 0;\n",
       "    transition: opacity 1s ease-out;\n",
       "}\n",
       "</style>\n",
       "  <thead>\n",
       "    <tr>\n",
       "      <th>Name</th>\n",
       "      <th>Email</th>\n",
       "      <th>Status</th>\n",
       "      <th></th>\n",
       "    </tr>\n",
       "  </thead>\n",
       "  <tbody hx-swap=\"outerHTML swap:1s\" hx-target=\"closest tr\">\n",
       "    <tr>\n",
       "      <td>Joe Smith</td>\n",
       "      <td>joe@smith.org</td>\n",
       "      <td>Active</td>\n",
       "      <td>\n",
       "<button hx-delete=\"/contact/0\" class=\"btn danger\">Delete</button>      </td>\n",
       "    </tr>\n",
       "    <tr>\n",
       "      <td>Angie MacDowell</td>\n",
       "      <td>angie@macdowell.org</td>\n",
       "      <td>Active</td>\n",
       "      <td>\n",
       "<button hx-delete=\"/contact/1\" class=\"btn danger\">Delete</button>      </td>\n",
       "    </tr>\n",
       "    <tr>\n",
       "      <td>Fuqua Tarkenton</td>\n",
       "      <td>fuqua@tarkenton.org</td>\n",
       "      <td>Active</td>\n",
       "      <td>\n",
       "<button hx-delete=\"/contact/2\" class=\"btn danger\">Delete</button>      </td>\n",
       "    </tr>\n",
       "    <tr>\n",
       "      <td>Kim Yee</td>\n",
       "      <td>kim@yee.org</td>\n",
       "      <td>Inactive</td>\n",
       "      <td>\n",
       "<button hx-delete=\"/contact/3\" class=\"btn danger\">Delete</button>      </td>\n",
       "    </tr>\n",
       "  </tbody>\n",
       "</table>\n",
       "\n",
       "```"
      ],
      "text/plain": [
       "table((style(('\\nme tr.htmx-swapping td {\\n    opacity: 0;\\n    transition: opacity 1s ease-out;\\n}\\n',),{}), thead((tr((th(('Name',),{}), th(('Email',),{}), th(('Status',),{}), th((),{})),{}),),{}), tbody((tr((td(('Joe Smith',),{}), td(('joe@smith.org',),{}), td(('Active',),{}), td((button(('Delete',),{'hx-delete': '/contact/0', 'class': 'btn danger'}),),{})),{}), tr((td(('Angie MacDowell',),{}), td(('angie@macdowell.org',),{}), td(('Active',),{}), td((button(('Delete',),{'hx-delete': '/contact/1', 'class': 'btn danger'}),),{})),{}), tr((td(('Fuqua Tarkenton',),{}), td(('fuqua@tarkenton.org',),{}), td(('Active',),{}), td((button(('Delete',),{'hx-delete': '/contact/2', 'class': 'btn danger'}),),{})),{}), tr((td(('Kim Yee',),{}), td(('kim@yee.org',),{}), td(('Inactive',),{}), td((button(('Delete',),{'hx-delete': '/contact/3', 'class': 'btn danger'}),),{})),{})),{'hx-swap': 'outerHTML swap:1s', 'hx-target': 'closest tr'})),{'class': 'table delete-row-example'})"
      ]
     },
     "execution_count": 7,
     "metadata": {},
     "output_type": "execute_result"
    }
   ],
   "source": [
    "from fasthtml.components import Table, Thead, Tbody, Tr, Th, Td\n",
    "\n",
    "\n",
    "contacts = [\n",
    "    {'name': \"Joe Smith\",       'email': \"joe@smith.org\",       'status': \"Active\"},\n",
    "    {'name': \"Angie MacDowell\", 'email': \"angie@macdowell.org\", 'status': \"Active\"},\n",
    "    {'name': \"Fuqua Tarkenton\", 'email': \"fuqua@tarkenton.org\", 'status': \"Active\"},\n",
    "    {'name': \"Kim Yee\",         'email': \"kim@yee.org\",         'status': \"Inactive\"},\n",
    "]\n",
    "\n",
    "\n",
    "def row(contact, i):\n",
    "    return Tr()(\n",
    "        Td(contact[\"name\"]), Td(contact[\"email\"]), Td(contact[\"status\"]),\n",
    "        Td()(Button(cls=\"btn danger\", hx_delete=f\"/contact/{i}\")('Delete'))\n",
    "    )\n",
    "\n",
    "\n",
    "tbl = Table(cls=\"table delete-row-example\")(\n",
    "    Style('''\n",
    "me tr.htmx-swapping td {\n",
    "    opacity: 0;\n",
    "    transition: opacity 1s ease-out;\n",
    "}\n",
    "'''),\n",
    "    Thead()(Tr()(Th('Name'), Th('Email'), Th('Status'), Th())),\n",
    "    # Tbody(hx_confirm=\"Are you sure?\", hx_target=\"closest tr\", hx_swap=\"outerHTML swap:1s\")(\n",
    "    Tbody(hx_target=\"closest tr\", hx_swap=\"outerHTML swap:1s\")(\n",
    "        *(row(contact, i) for i, contact in enumerate(contacts))\n",
    "    )\n",
    ")\n",
    "\n",
    "@rt('/demo')\n",
    "def get(): return tbl\n",
    "\n",
    "@rt('/contact/{i}')\n",
    "def delete(i:int): return ''\n",
    "\n",
    "tbl"
   ]
  },
  {
   "cell_type": "code",
   "execution_count": 8,
   "metadata": {
    "brd": {
     "id": "86b3616a-8b43-43b4-8ca4-9e72457a9d2c"
    }
   },
   "outputs": [
    {
     "data": {
      "text/html": [
       " <table class=\"table delete-row-example\">\n",
       "   <style>\n",
       "me tr.htmx-swapping td {\n",
       "    opacity: 0;\n",
       "    transition: opacity 1s ease-out;\n",
       "}\n",
       "</style>\n",
       "   <thead>\n",
       "     <tr>\n",
       "       <th>Name</th>\n",
       "       <th>Email</th>\n",
       "       <th>Status</th>\n",
       "       <th></th>\n",
       "     </tr>\n",
       "   </thead>\n",
       "   <tbody hx-swap=\"outerHTML swap:1s\" hx-target=\"closest tr\">\n",
       "     <tr>\n",
       "       <td>Joe Smith</td>\n",
       "       <td>joe@smith.org</td>\n",
       "       <td>Active</td>\n",
       "       <td>\n",
       "<button hx-delete=\"/contact/0\" class=\"btn danger\">Delete</button>       </td>\n",
       "     </tr>\n",
       "     <tr>\n",
       "       <td>Angie MacDowell</td>\n",
       "       <td>angie@macdowell.org</td>\n",
       "       <td>Active</td>\n",
       "       <td>\n",
       "<button hx-delete=\"/contact/1\" class=\"btn danger\">Delete</button>       </td>\n",
       "     </tr>\n",
       "     <tr>\n",
       "       <td>Fuqua Tarkenton</td>\n",
       "       <td>fuqua@tarkenton.org</td>\n",
       "       <td>Active</td>\n",
       "       <td>\n",
       "<button hx-delete=\"/contact/2\" class=\"btn danger\">Delete</button>       </td>\n",
       "     </tr>\n",
       "     <tr>\n",
       "       <td>Kim Yee</td>\n",
       "       <td>kim@yee.org</td>\n",
       "       <td>Inactive</td>\n",
       "       <td>\n",
       "<button hx-delete=\"/contact/3\" class=\"btn danger\">Delete</button>       </td>\n",
       "     </tr>\n",
       "   </tbody>\n",
       " </table>\n"
      ],
      "text/plain": [
       "<IPython.core.display.HTML object>"
      ]
     },
     "metadata": {},
     "output_type": "display_data"
    },
    {
     "data": {
      "text/plain": [
       "<DisplayHandle display_id=6f13b7206dcded6793be1da5cc9700de>"
      ]
     },
     "execution_count": 8,
     "metadata": {},
     "output_type": "execute_result"
    }
   ],
   "source": [
    "brt('/demo');"
   ]
  },
  {
   "cell_type": "markdown",
   "metadata": {},
   "source": [
    "# [Edit Row](https://htmx.org/examples/edit-row/)"
   ]
  },
  {
   "cell_type": "code",
   "execution_count": null,
   "metadata": {},
   "outputs": [],
   "source": [
    "# %%vfile alertscr\n",
    "\n",
    "# debugger\n",
    "\n",
    "# var _$alert = (btn) => {\n",
    "#     debugger;\n",
    "#     let editing = document.querySelector('.editing')\n",
    "#     if(editing) {\n",
    "#         Swal.fire({\n",
    "#             title: 'Already Editing',\n",
    "#             showCancelButton: true,\n",
    "#             confirmButtonText: 'Yep, Edit This Row!',\n",
    "#             text:'Hey! You are already editing a row! Do you want to cancel that edit and continue?'\n",
    "#         })\n",
    "#         .then((result) => {\n",
    "#             if (result.isConfirmed) {\n",
    "#                 htmx.trigger(editing, 'cancel')\n",
    "#                 htmx.trigger(btn, 'edit')\n",
    "#             }\n",
    "#         })\n",
    "#     } else {\n",
    "#         htmx.trigger(btn, 'edit')\n",
    "#     }\n",
    "# }"
   ]
  },
  {
   "cell_type": "code",
   "execution_count": 10,
   "metadata": {
    "brd": {
     "id": "8cec0961-b579-4438-9085-1a8e249e27ae"
    }
   },
   "outputs": [],
   "source": [
    "%%vfile alertscr\n",
    "\n",
    "debugger\n",
    "\n",
    "var _$alert = (btn) => {\n",
    "    debugger;\n",
    "    let editing = document.querySelector('.editing')\n",
    "    if (editing) {\n",
    "        if (window.confirm('Hey! You are already editing a row! Do you want to cancel that edit and continue?')) {\n",
    "            htmx.trigger(editing, 'cancel');\n",
    "            htmx.trigger(btn, 'edit');\n",
    "        }\n",
    "    } else {\n",
    "        htmx.trigger(btn, 'edit')\n",
    "    }\n",
    "}"
   ]
  },
  {
   "cell_type": "code",
   "execution_count": 11,
   "metadata": {
    "brd": {
     "id": "3707be4e-fc85-44d8-b559-62d294004561"
    }
   },
   "outputs": [
    {
     "data": {
      "text/html": [
       "<script>vfile:alertscr</script>"
      ],
      "text/markdown": [
       "```html\n",
       "<script>vfile:alertscr</script>\n",
       "```"
      ],
      "text/plain": [
       "script(('vfile:alertscr',),{})"
      ]
     },
     "execution_count": 11,
     "metadata": {},
     "output_type": "execute_result"
    }
   ],
   "source": [
    "# alertscr = Script('vfile:alertscr', type=\"module\")\n",
    "\n",
    "Script('vfile:alertscr')\n"
   ]
  },
  {
   "cell_type": "code",
   "execution_count": null,
   "metadata": {},
   "outputs": [],
   "source": [
    "# from IPython.display import Javascript\n",
    "\n",
    "# display(Javascript('''\n",
    "# debugger;\n",
    "# element.append(`\n",
    "# <p class=\"editing\"><button onclick=\"_$alert(this)\">Test alert</button></p>\n",
    "# `);\n",
    "# // const btn = element.find(\"button\");\n",
    "# // btn.click(ev => _$alert.apply(ev.target));\n",
    "# '''))\n"
   ]
  },
  {
   "cell_type": "code",
   "execution_count": 12,
   "metadata": {
    "brd": {
     "id": "46f0f9f6-6a89-404c-bfe0-01d4ffac5f66"
    }
   },
   "outputs": [
    {
     "data": {
      "text/html": [
       "<div><table class=\"table edit-row-example\"><thead><tr><th>Name</th><th>Email</th><th></th></tr></thead><tbody hx-swap=\"outerHTML\" hx-target=\"closest tr\"><tr><td>Joe Smith</td><td>joe@smith.org</td><td><button hx-get=\"/eg2/contact/0/edit\" hx-trigger=\"edit\" onclick=\"_$alert(this)\" class=\"btn danger\">Edit</button></td></tr><tr><td>Angie MacDowell</td><td>angie@macdowell.org</td><td><button hx-get=\"/eg2/contact/1/edit\" hx-trigger=\"edit\" onclick=\"_$alert(this)\" class=\"btn danger\">Edit</button></td></tr><tr><td>Fuqua Tarkenton</td><td>fuqua@tarkenton.org</td><td><button hx-get=\"/eg2/contact/2/edit\" hx-trigger=\"edit\" onclick=\"_$alert(this)\" class=\"btn danger\">Edit</button></td></tr><tr><td>Kim Yee</td><td>kim@yee.org</td><td><button hx-get=\"/eg2/contact/3/edit\" hx-trigger=\"edit\" onclick=\"_$alert(this)\" class=\"btn danger\">Edit</button></td></tr></tbody></table></div>"
      ],
      "text/markdown": [
       "```html\n",
       "<div>\n",
       "  <table class=\"table edit-row-example\">\n",
       "    <thead>\n",
       "      <tr>\n",
       "        <th>Name</th>\n",
       "        <th>Email</th>\n",
       "        <th></th>\n",
       "      </tr>\n",
       "    </thead>\n",
       "    <tbody hx-swap=\"outerHTML\" hx-target=\"closest tr\">\n",
       "      <tr>\n",
       "        <td>Joe Smith</td>\n",
       "        <td>joe@smith.org</td>\n",
       "        <td>\n",
       "<button hx-get=\"/eg2/contact/0/edit\" hx-trigger=\"edit\" onclick=\"_$alert(this)\" class=\"btn danger\">Edit</button>        </td>\n",
       "      </tr>\n",
       "      <tr>\n",
       "        <td>Angie MacDowell</td>\n",
       "        <td>angie@macdowell.org</td>\n",
       "        <td>\n",
       "<button hx-get=\"/eg2/contact/1/edit\" hx-trigger=\"edit\" onclick=\"_$alert(this)\" class=\"btn danger\">Edit</button>        </td>\n",
       "      </tr>\n",
       "      <tr>\n",
       "        <td>Fuqua Tarkenton</td>\n",
       "        <td>fuqua@tarkenton.org</td>\n",
       "        <td>\n",
       "<button hx-get=\"/eg2/contact/2/edit\" hx-trigger=\"edit\" onclick=\"_$alert(this)\" class=\"btn danger\">Edit</button>        </td>\n",
       "      </tr>\n",
       "      <tr>\n",
       "        <td>Kim Yee</td>\n",
       "        <td>kim@yee.org</td>\n",
       "        <td>\n",
       "<button hx-get=\"/eg2/contact/3/edit\" hx-trigger=\"edit\" onclick=\"_$alert(this)\" class=\"btn danger\">Edit</button>        </td>\n",
       "      </tr>\n",
       "    </tbody>\n",
       "  </table>\n",
       "</div>\n",
       "\n",
       "```"
      ],
      "text/plain": [
       "div((table((thead((tr((th(('Name',),{}), th(('Email',),{}), th((),{})),{}),),{}), tbody((tr((td(('Joe Smith',),{}), td(('joe@smith.org',),{}), td((button(('Edit',),{'hx-get': '/eg2/contact/0/edit', 'hx-trigger': 'edit', 'onclick': '_$alert(this)', 'class': 'btn danger'}),),{})),{}), tr((td(('Angie MacDowell',),{}), td(('angie@macdowell.org',),{}), td((button(('Edit',),{'hx-get': '/eg2/contact/1/edit', 'hx-trigger': 'edit', 'onclick': '_$alert(this)', 'class': 'btn danger'}),),{})),{}), tr((td(('Fuqua Tarkenton',),{}), td(('fuqua@tarkenton.org',),{}), td((button(('Edit',),{'hx-get': '/eg2/contact/2/edit', 'hx-trigger': 'edit', 'onclick': '_$alert(this)', 'class': 'btn danger'}),),{})),{}), tr((td(('Kim Yee',),{}), td(('kim@yee.org',),{}), td((button(('Edit',),{'hx-get': '/eg2/contact/3/edit', 'hx-trigger': 'edit', 'onclick': '_$alert(this)', 'class': 'btn danger'}),),{})),{})),{'hx-swap': 'outerHTML', 'hx-target': 'closest tr'})),{'class': 'table edit-row-example'}),),{})"
      ]
     },
     "execution_count": 12,
     "metadata": {},
     "output_type": "execute_result"
    }
   ],
   "source": [
    "from fasthtml.components import Input\n",
    "\n",
    "contacts = [\n",
    "    {'id': 0, 'name': \"Joe Smith\",       'email': \"joe@smith.org\",       'status': \"Active\"},\n",
    "    {'id': 1, 'name': \"Angie MacDowell\", 'email': \"angie@macdowell.org\", 'status': \"Active\"},\n",
    "    {'id': 2, 'name': \"Fuqua Tarkenton\", 'email': \"fuqua@tarkenton.org\", 'status': \"Active\"},\n",
    "    {'id': 3, 'name': \"Kim Yee\",         'email': \"kim@yee.org\",         'status': \"Inactive\"},\n",
    "]\n",
    "\n",
    "\n",
    "def editrow(contact):\n",
    "    return Tr(hx_trigger='cancel', cls='editing', hx_get=f\"/eg2/contact/{contact['id']}\")(\n",
    "        Td(Input(name='name', value=contact['name'])),\n",
    "        Td(Input(name='email', value=contact['email'])),\n",
    "        Td()(Button(cls=\"btn danger\", hx_get=f\"/eg2/contact/{contact['id']}\")('Cancel'),\n",
    "            Button(cls=\"btn danger\", hx_put=f\"/eg2/contact/{contact['id']}\", hx_include='closest tr')('Save'))\n",
    "    )\n",
    "\n",
    "def row(contact):\n",
    "    return Tr()(\n",
    "        Td(contact[\"name\"]), Td(contact[\"email\"]),\n",
    "        Td()(Button('Edit', cls=\"btn danger\", \n",
    "            hx_get=f\"/eg2/contact/{contact['id']}/edit\", hx_trigger=\"edit\", \n",
    "            onClick=\"_$alert(this)\")\n",
    "        )\n",
    "    )\n",
    "\n",
    "tbl = Div()(\n",
    "    Table(cls=\"table edit-row-example\")(\n",
    "        Thead()(Tr()(Th('Name'), Th('Email'), Th())),\n",
    "        # Tbody(hx_confirm=\"Are you sure?\", hx_target=\"closest tr\", hx_swap=\"outerHTML swap:1s\")(\n",
    "        Tbody(hx_target=\"closest tr\", hx_swap=\"outerHTML\")(\n",
    "            *(row(contact) for contact in contacts)\n",
    "        )\n",
    "    ),\n",
    "    # alertscr\n",
    ")\n",
    "\n",
    "\n",
    "@rt('/eg2/contact/{i}{edit:path}')\n",
    "def get(i:int, edit:str=''):\n",
    "    # import debugpy; debugpy.debug_this_thread() # vscode needs this to honor breakpoints\n",
    "    contact = contacts[i]\n",
    "    if edit: return editrow(contact)\n",
    "    else: return row(contact)\n",
    "\n",
    "\n",
    "@rt('/eg2/contact/{i}')\n",
    "def put(i:int, name:str, email:str):\n",
    "    # import debugpy; debugpy.debug_this_thread() # vscode needs this to honor breakpoints\n",
    "    contact = contacts[i]\n",
    "    contact['name'] = name\n",
    "    contact['email'] = email\n",
    "    return row(contact)\n",
    "\n",
    "\n",
    "tbl\n"
   ]
  },
  {
   "cell_type": "code",
   "execution_count": null,
   "metadata": {},
   "outputs": [],
   "source": []
  }
 ],
 "metadata": {
  "kernelspec": {
   "display_name": "Python 3",
   "language": "python",
   "name": "python3"
  },
  "language_info": {
   "codemirror_mode": {
    "name": "ipython",
    "version": 3
   },
   "file_extension": ".py",
   "mimetype": "text/x-python",
   "name": "python",
   "nbconvert_exporter": "python",
   "pygments_lexer": "ipython3",
   "version": "3.12.11"
  }
 },
 "nbformat": 4,
 "nbformat_minor": 2
}
