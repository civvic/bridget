{
 "cells": [
  {
   "cell_type": "code",
   "execution_count": null,
   "metadata": {},
   "outputs": [],
   "source": [
    "#| default_exp route_provider\n"
   ]
  },
  {
   "cell_type": "code",
   "execution_count": null,
   "metadata": {},
   "outputs": [],
   "source": [
    "#| export\n",
    "from __future__ import annotations\n"
   ]
  },
  {
   "cell_type": "markdown",
   "metadata": {},
   "source": [
    "# Routes provider\n",
    "\n",
    "> Enables method-based routing in fasthtml by extending `APIRouter` capabilities.  \n",
    "\n",
    "This allows objects to provide routes through their methods, similar to class-based views in web frameworks.\n"
   ]
  },
  {
   "cell_type": "markdown",
   "metadata": {},
   "source": [
    "# Prologue"
   ]
  },
  {
   "cell_type": "code",
   "execution_count": null,
   "metadata": {},
   "outputs": [],
   "source": [
    "#| export\n",
    "import inspect\n",
    "import typing\n",
    "from types import MethodType\n",
    "from typing import Any\n",
    "from typing import Callable\n",
    "from typing import ClassVar\n",
    "from typing import Protocol\n",
    "\n",
    "import fastcore.all as FC\n",
    "from fasthtml.core import APIRouter\n",
    "from fasthtml.core import FastHTML\n",
    "from fasthtml.core import noop_body\n"
   ]
  },
  {
   "cell_type": "code",
   "execution_count": null,
   "metadata": {},
   "outputs": [],
   "source": [
    "#| export\n",
    "from bridget.helpers import id_gen\n",
    "from bridget.helpers import nb_app\n"
   ]
  },
  {
   "cell_type": "code",
   "execution_count": null,
   "metadata": {},
   "outputs": [],
   "source": [
    "from functools import partial\n",
    "from typing import cast\n",
    "from typing import Iterable\n",
    "from typing import Type\n",
    "\n",
    "import starlette.routing\n",
    "import starlette.types\n",
    "from fastcore.test import *\n",
    "from fasthtml.components import Div\n",
    "from fasthtml.core import uri\n",
    "from rich.console import Console\n",
    "from starlette.testclient import TestClient\n"
   ]
  },
  {
   "cell_type": "markdown",
   "metadata": {},
   "source": [
    "----\n"
   ]
  },
  {
   "cell_type": "code",
   "execution_count": null,
   "metadata": {},
   "outputs": [],
   "source": [
    "#| exporti\n",
    "\n",
    "new_id = id_gen()\n"
   ]
  },
  {
   "cell_type": "code",
   "execution_count": null,
   "metadata": {},
   "outputs": [],
   "source": [
    "cprint = (console := Console(width=120)).print\n"
   ]
  },
  {
   "cell_type": "markdown",
   "metadata": {},
   "source": [
    "----"
   ]
  },
  {
   "cell_type": "code",
   "execution_count": null,
   "metadata": {},
   "outputs": [],
   "source": [
    "def get_app():\n",
    "    return (app := nb_app()), TestClient(app, base_url='http://nb', headers={'hx-request': '1'}), app.route\n",
    "\n",
    "app, cli, rt = get_app()\n"
   ]
  },
  {
   "cell_type": "markdown",
   "metadata": {},
   "source": [
    "# Methods as routes endpoints\n",
    "> Understanding FastHTML's routing system and extending it to support instance methods.\n",
    "\n",
    ":::{.callout-note}\n",
    "In this docs I use widget/component interchangeably.\n",
    ":::\n"
   ]
  },
  {
   "cell_type": "markdown",
   "metadata": {},
   "source": [
    "\n",
    "### Why Method-Based Routes in Notebooks?\n",
    "\n",
    "FastHTML typically encourages defining components in separate modules. While this works great for web applications, notebooks have different workflows:\n",
    "\n",
    "**Interactive Development**  \n",
    "Notebooks are all about exploration and rapid prototyping. Everything happens in cells - they're our unit of work. Notebooks are more akin to one page apps. When you're quickly testing ideas or building one-time components, creating separate modules can feel like unnecessary overhead. Method-based routes let us define and test components right where we need them, with scoping and encapsulation.\n",
    "\n",
    "**State Management**  \n",
    "When building widgets, we often need to maintain state. Instance methods make this natural. While both modules and classes can handle state effectively, sometimes one approach fits better than the other. It's nice to have options.\n",
    "\n",
    "**Quick Iteration**  \n",
    "The real advantage comes when you're iterating on a component. You can write code, test it, and modify it all in the same context. Make a change, run the cell, see the results. No jumping between files or reloading modules needed.\n",
    "\n",
    "This approach may complement FastHTML's module-based components by providing another option for route management."
   ]
  },
  {
   "cell_type": "markdown",
   "metadata": {},
   "source": [
    "### FastHTML's Route Requirements\n",
    "\n",
    "FastHTML's routing system builds on Starlette's, which accepts both functions and methods as endpoints (besides ASGI classes). The only requirement is being a [callable](https://github.com/encode/starlette/blob/427a8dcf357597df27b2509b1ac436caf7708300/starlette/routing.py#L208):\n",
    "\n",
    "```python\n",
    "endpoint: typing.Callable[..., typing.Any]\n",
    "```\n",
    "\n",
    "FastHTML follows FastAPI's style of using decorators for route definition. Route endpoints must be:\n",
    "1. Callables with a `__name__` attribute (for route identification) [FastHTML.add_route](https://fasthtml.readthedocs.io/en/latest/api.html#fasthtml.core.FastHTML.add_route)\n",
    "2. Have type annotations for all parameters (for request validation)\n",
    "\n",
    "While this works for functions, it creates challenges with instance methods:\n"
   ]
  },
  {
   "cell_type": "code",
   "execution_count": null,
   "metadata": {},
   "outputs": [
    {
     "name": "stderr",
     "output_type": "stream",
     "text": [
      "/Users/vic/miniforge3/envs/bridget/lib/python3.12/site-packages/fasthtml/core.py:188: UserWarning: `self has no type annotation and is not a recognised special name, so is ignored.\n",
      "  if arg!='resp': warn(f\"`{arg} has no type annotation and is not a recognised special name, so is ignored.\")\n"
     ]
    },
    {
     "data": {
      "text/plain": [
       "\"None 'b'\""
      ]
     },
     "execution_count": null,
     "metadata": {},
     "output_type": "execute_result"
    }
   ],
   "source": [
    "class AClass:\n",
    "    @rt('/give/me/{a}')\n",
    "    def get(self, a:str): return f'{self!r} {a!r}'\n",
    "\n",
    "cli.get('/give/me/b').text\n"
   ]
  },
  {
   "cell_type": "markdown",
   "metadata": {},
   "source": [
    "1. **Method Binding**: When using decorators at class level, methods are still unbound functions:\n",
    "   - The decorator sees the function `get`, not the bound method\n",
    "   - The `self` parameter won't be properly valued\n",
    "\n",
    "2. **Type Annotations**: FastHTML expects all parameters to be annotated:\n",
    "   - The implicit `self` parameter lacks annotation\n",
    "   - This triggers warnings in FastHTML's validation\n"
   ]
  },
  {
   "cell_type": "markdown",
   "metadata": {},
   "source": [
    "As a workaround you could use `partial` to bind methods after instance creation. As partials don't have a `__name__` attribute, we need to hack it manually:\n"
   ]
  },
  {
   "cell_type": "code",
   "execution_count": null,
   "metadata": {},
   "outputs": [
    {
     "data": {
      "text/plain": [
       "\"<__main__.AClass object> 'b'\""
      ]
     },
     "execution_count": null,
     "metadata": {},
     "output_type": "execute_result"
    }
   ],
   "source": [
    "class AClass:\n",
    "    def get(self, a:str): return f'{self!r} {a!r}'\n",
    "\n",
    "a = AClass()\n",
    "# Manually create bound method and set name\n",
    "(f := partial(a.get.__func__, a)).__name__ = 'get'  # type: ignore\n",
    "rt('/give/me/{a}')(f)\n",
    "\n",
    "cli.get('/give/me/b').text\n"
   ]
  },
  {
   "cell_type": "markdown",
   "metadata": {},
   "source": [
    "However, this approach is verbose and error-prone, separates route definition from method implementation, and makes code harder to maintain, besides being cumbersome and ugly, clearly time for some more python dark magic here.  \n",
    "\n",
    "We'll extend FastHTML's routing capabilities by:\n",
    "1. Creating an enhanced `APIRouter` class that preserves method references\n",
    "2. Supporting automatic method binding at instance creation\n",
    "3. Enabling property-based routing for GET/POST/PUT/DELETE operations\n",
    "4. Providing automatic route mounting and path generation\n",
    "\n",
    "We aim for a more natural and maintainable syntax:\n",
    "\n",
    "```python\n",
    "class Widget:\n",
    "    ...\n",
    "    @ar('/value')\n",
    "    def get_value(self): \n",
    "        return self._value\n",
    "```\n",
    "\n",
    ":::{.callout-note}\n",
    "We'll use the handy `APIRouter` to define routes providers.  \n",
    "`APIRouter` it's defined but not used anywhere (version 0.9.1). I'm not sure what's' Jeremy's intention for this class, but it seems appropiate using it here for our purpose.\n",
    ":::\n"
   ]
  },
  {
   "cell_type": "markdown",
   "metadata": {},
   "source": [
    "# APIRouterB\n",
    "> Enhanced Router for Method-Based Routes\n",
    "\n",
    "Extends FastHTML's APIRouter to preserve method references while enabling route registration.\n"
   ]
  },
  {
   "cell_type": "code",
   "execution_count": null,
   "metadata": {},
   "outputs": [],
   "source": [
    "#| export\n",
    "\n",
    "class APIRouterB(APIRouter):\n",
    "    routes: list  # here to make type-checkers happy\n",
    "    idx: str = '' # Instance identifier\n",
    "    to: str = ''  # Base path for routes\n",
    "    name: str = '' # Router name\n",
    "    \n",
    "    def __init__(self, routes=None, wss=None): \n",
    "        self.routes,self.wss = FC.listify(routes or [], use_list=True), FC.listify(wss or [], use_list=True)\n",
    "\n",
    "    def __call__(self, path:str|None=None, methods=None, name=None, include_in_schema=True, body_wrap=noop_body):\n",
    "        \"Add a route at `path`\"\n",
    "        def f(func): \n",
    "            self.routes.append((func, path,methods,name,include_in_schema,body_wrap))\n",
    "            return func\n",
    "        return f(path) if callable(path) else f\n",
    "\n"
   ]
  },
  {
   "cell_type": "markdown",
   "metadata": {},
   "source": [
    "## APIRouterB: Enhanced APIRouter for Method-Based Routes\n",
    "\n",
    "For reasons unclear to me, APIRouter wipes out the functions when defining routes unlike normal `@rt` decorator.\n",
    "We need to keep the functions around in order for the class to get its methods.\n",
    "\n",
    "`APIRouterB` preserves the original method references while collecting routes. This allows methods to work both as routes and methods, with proper instance binding. Like FastHTML's standard APIRouter, routes are stored but not registered immediately, which lets us bind them to instances at mount time. This delayed registration enables stateful components and works naturally with Python properties and methods, maintaining compatibility with all FastHTML's routing features.\n"
   ]
  },
  {
   "cell_type": "code",
   "execution_count": null,
   "metadata": {},
   "outputs": [
    {
     "data": {
      "text/plain": [
       "'1'"
      ]
     },
     "execution_count": null,
     "metadata": {},
     "output_type": "execute_result"
    }
   ],
   "source": [
    "class Counter:\n",
    "    __ar__ = APIRouterB()\n",
    "    \n",
    "    def __init__(self): self._value = 0\n",
    "    \n",
    "    @__ar__('/value')\n",
    "    def get_value(self): \n",
    "        \"Get current counter value\"\n",
    "        return str(self._value)  # `0` is not a valid FastHTML response\n",
    "    \n",
    "    @__ar__('/inc')\n",
    "    def increment(self): \n",
    "        \"Increment counter and return new value\"\n",
    "        self._value += 1\n",
    "        return self.get_value()\n",
    "\n",
    "# Routes will work both as HTTP endpoints and methods\n",
    "counter = Counter()\n",
    "counter.increment()  # Works as method\n"
   ]
  },
  {
   "cell_type": "markdown",
   "metadata": {},
   "source": [
    "We can't use the routes just yet, they aren't installed, APIRouter doesn't register them until we call `to_app`.\n"
   ]
  },
  {
   "cell_type": "markdown",
   "metadata": {},
   "source": [
    "# RoutesProvider\n",
    "> Any object with an `APIRouter` attribute can be a provider of routes.\n"
   ]
  },
  {
   "cell_type": "code",
   "execution_count": null,
   "metadata": {},
   "outputs": [],
   "source": [
    "#| export\n",
    "\n",
    "@typing.runtime_checkable\n",
    "class RoutesProviderP(Protocol):\n",
    "    __ar__: ClassVar[APIRouterB]\n",
    "    ar: APIRouterB  # instance property with the final routes\n",
    "\n",
    "class RoutesProvider:\n",
    "    __ar__: ClassVar[APIRouterB]\n",
    "    ar: APIRouterB\n",
    "    def __init_subclass__(cls): \n",
    "        if not '__ar__' in vars(cls): setattr(cls, '__ar__', APIRouterB())\n",
    "    # def __new__(cls, *args, **kwargs):\n",
    "    #     if not hasattr(cls, '__ar__'): cls.__ar__ = APIRouterB()\n",
    "    #     self = object.__new__(cls)\n",
    "    #     return self\n",
    "\n",
    "def _provider_routes(o: object):\n",
    "    # Walk up the MRO chain, skipping object\n",
    "    for base in (o if isinstance(o, type) else type(o)).__mro__[:-1]:  \n",
    "        if not isinstance(base, type) or not hasattr(base, '__ar__'): continue\n",
    "        yield from base.__ar__.routes\n",
    "def provider_routes(prov: object):\n",
    "    \"Yield all route descriptors from class hierarchy in mro order\"\n",
    "    yield from _provider_routes(prov)\n",
    "\n"
   ]
  },
  {
   "cell_type": "code",
   "execution_count": null,
   "metadata": {},
   "outputs": [],
   "source": [
    "def all_bases(cls: type, stop: type|None=None):\n",
    "    \"Return all superclasses of cls\"\n",
    "    bb = []\n",
    "    for t in cls.__mro__[:-1]:  # exclude object\n",
    "        if t is stop: break\n",
    "        bb.append(t)\n",
    "    return bb\n",
    "\n",
    "\n",
    "class A(RoutesProvider):\n",
    "    __ar__ = APIRouterB()\n",
    "    @__ar__('/a')\n",
    "    def a(self): return 'a'\n",
    "\n",
    "class B(A):\n",
    "    __ar__ = APIRouterB()\n",
    "    @__ar__('/b')\n",
    "    def b(self): return 'b'\n",
    "\n",
    "class C(B):\n",
    "    __ar__ = APIRouterB()\n",
    "    @__ar__('/c?v={v}')\n",
    "    def c(self, v:int=0): return f'c {v}'\n",
    "\n",
    "class D(A):\n",
    "    __ar__ = APIRouterB()\n",
    "    @__ar__('/d')\n",
    "    def d(self): return 'd'\n",
    "\n",
    "class E(B, D):\n",
    "    __ar__ = APIRouterB()\n",
    "    @__ar__('/a')\n",
    "    def e(self): return 'e'\n",
    "\n",
    "test_eq(all_bases(C, RoutesProvider), [C, B, A])\n",
    "test_eq(all_bases(E), [E, B, D, A, RoutesProvider])\n",
    "\n",
    "test_eq([_[1] for _ in list(provider_routes(C))],  ['/c?v={v}', '/b', '/a'])\n",
    "test_eq([_[1] for _ in list(provider_routes(E))],  ['/a', '/b', '/d', '/a'])\n"
   ]
  },
  {
   "cell_type": "code",
   "execution_count": null,
   "metadata": {},
   "outputs": [],
   "source": [
    "app.routes.clear()\n",
    "\n",
    "for f,p,m,n,i,bw in provider_routes(C):\n",
    "    rt = starlette.routing.Route(p, f, methods=m, name=n, include_in_schema=i)\n",
    "    app.add_route(rt)\n",
    "\n",
    "routes = cast(list[starlette.routing.Route], app.routes)\n",
    "test_eq([_.path for _ in routes], ['/c?v={v}', '/b', '/a'])\n",
    "\n",
    "c_rt, *_ = routes\n",
    "\n",
    "scope: starlette.types.Scope = {'type': 'http', 'path': '/c?v=3', 'method': 'GET'}\n",
    "match, child_scope = c_rt.matches(scope)\n",
    "test_eq(match, starlette.routing.Match.FULL)\n",
    "\n",
    "scope: starlette.types.Scope = {'type': 'http', 'path': '/c?v=7', 'method': 'PUT'}\n",
    "match, child_scope = c_rt.matches(scope)\n",
    "test_eq(match, starlette.routing.Match.PARTIAL)\n"
   ]
  },
  {
   "cell_type": "code",
   "execution_count": null,
   "metadata": {},
   "outputs": [],
   "source": [
    "app.routes.clear()\n",
    "\n",
    "for f,p,m,n,i,bw in provider_routes(E):\n",
    "    rt = starlette.routing.Route(p, f, methods=m, name=n, include_in_schema=i)\n",
    "    app.add_route(rt)\n",
    "\n",
    "routes = cast(list[starlette.routing.Route], app.routes)\n",
    "test_eq([_.path for _ in routes], ['/a', '/b', '/d', '/a'])\n",
    "\n",
    "e_rt, *_ = routes\n",
    "\n",
    "scope: starlette.types.Scope = {'type': 'http', 'path': '/a', 'method': 'GET'}\n",
    "match, child_scope = e_rt.matches(scope)\n",
    "test_eq(match, starlette.routing.Match.FULL)\n",
    "test_eq(child_scope['endpoint'], e_rt.endpoint)\n"
   ]
  },
  {
   "cell_type": "markdown",
   "metadata": {},
   "source": [
    "`provider_routes` returns the routes in MRO order. We'll add the routes in that order, so Starlette will match them in that order too (NOTE: check this is documented). As such, more specific endpoints have precedence over more generic ones."
   ]
  },
  {
   "cell_type": "markdown",
   "metadata": {},
   "source": [
    "# Adding routes to the app\n",
    "> Functions for registering routes from providers into FastHTML applications.\n"
   ]
  },
  {
   "cell_type": "code",
   "execution_count": null,
   "metadata": {},
   "outputs": [],
   "source": [
    "#| export\n",
    "\n",
    "def _ar_from_provider(prov:RoutesProviderP, name:str|None=None):\n",
    "    ar, rr, funcs = (ar := APIRouterB()), ar.routes, []\n",
    "    for f,_path,methods,_name,include_in_schema,body_wrap in provider_routes(prov):\n",
    "        if inspect.isfunction(f):\n",
    "            rr.append((getattr(prov, f.__name__), _path,methods,_name,include_in_schema,body_wrap))  # use method\n",
    "            funcs.append(f)\n",
    "        elif isinstance(f, property):\n",
    "            for func,*m in ((f.fget, 'GET'), (f.fset, 'POST', 'PUT'), (f.fdel, 'DELETE')):\n",
    "                if not func or func in funcs: continue\n",
    "                mth = MethodType(func, prov)\n",
    "                rr.append((mth, _path,methods or m,_name,include_in_schema,body_wrap))\n",
    "                funcs.append(func)\n",
    "    return ar\n",
    "\n",
    "\n",
    "def add_routes(self: FastHTML, \n",
    "        prov:APIRouterB|RoutesProviderP,  # Router or provider containing routes\n",
    "        mount:bool=False,                 # If True, mount routes under a sub-path\n",
    "        path:str|None=None,               # Optional base path for mounting\n",
    "        name:str|None=None                # Optional name for the route group\n",
    "    ):\n",
    "    \"Register routes from a provider into a FastHTML app\"\n",
    "    if isinstance(prov, APIRouterB):\n",
    "        is_ar, ar = True, prov\n",
    "        if not mount and ar.routes: prov.to_app(self); return prov\n",
    "    else:\n",
    "        is_ar, ar = False, _ar_from_provider(prov, name)\n",
    "        setattr(prov, 'ar', ar)\n",
    "    ar.idx = new_id(prov)\n",
    "    if not path: path = f\"/{ar.idx}\"; name = name or path.strip('/')\n",
    "    ar.to, ar.name = path if mount else '', name or ''\n",
    "    cls, rapp = type(prov), nb_app() if mount else self  # type: ignore\n",
    "    # can't use ar.to_app(rapp), as we need to get the modified endpoints\n",
    "    # to provide route introspection for methods\n",
    "    for args in ar.routes:\n",
    "        lf = rapp._add_route(*args)\n",
    "        # a property can't have to()\n",
    "        if not is_ar and not isinstance(getattr(cls, args[0].__name__), property):\n",
    "            setattr(prov, args[0].__name__, lf)\n",
    "    if mount and ar.routes: \n",
    "        self.mount(path, rapp, name=name)\n",
    "    return ar\n"
   ]
  },
  {
   "cell_type": "markdown",
   "metadata": {},
   "source": [
    "The `add_routes` function handles two scenarios:\n",
    "1. Adding routes directly from an `APIRouterB` instance (if `mount` is `False`, this is equivalent to `to_app`)\n",
    "2. Converting a `RoutesProvider` object's methods into routes\n",
    "\n",
    "**Route Introspection**: Methods, like functions used in routes, get its .to() attribute because we use  `FastHTML._add_route` (caveat, private). Not properties, though, they're properties.\n",
    "\n",
    "\n",
    "You can optionally mount the routes to obtain scoping. so routes can be organized at two levels:\n",
    "1. **Notebook Level**: Global routes defined with `app`\n",
    "2. **Provider Level**: Scoped routes defined by providers\n",
    "\n",
    "This allows for clean organization of routes and natural encapsulation of component behavior directly in the notebook.\n",
    "\n",
    "Though it's convenient, you don't need to mount routes providers, use its routes directly with the root level app.\n"
   ]
  },
  {
   "cell_type": "code",
   "execution_count": null,
   "metadata": {},
   "outputs": [
    {
     "data": {
      "text/plain": [
       "'2'"
      ]
     },
     "execution_count": null,
     "metadata": {},
     "output_type": "execute_result"
    }
   ],
   "source": [
    "add_routes(app, counter)\n",
    "cli.get('/inc').text\n"
   ]
  },
  {
   "cell_type": "markdown",
   "metadata": {},
   "source": [
    "Add routes to notebook level app"
   ]
  },
  {
   "cell_type": "code",
   "execution_count": null,
   "metadata": {},
   "outputs": [
    {
     "data": {
      "text/plain": [
       "'2'"
      ]
     },
     "execution_count": null,
     "metadata": {},
     "output_type": "execute_result"
    }
   ],
   "source": [
    "def mount(app: FastHTML, prov:APIRouterB|RoutesProviderP, path:str|None=None, name:str|None=None):\n",
    "    return add_routes(app, prov, True, path, name)\n",
    "\n",
    "\n",
    "mount(app, counter, '/counter')  # Routes under /counter/...\n",
    "cli.get('/counter/value').text\n"
   ]
  },
  {
   "cell_type": "markdown",
   "metadata": {},
   "source": [
    "Use `mount` to define routes providers with instances. In this way we can have notebook level routes, those defined with global app.route, and scoped routes defined with providers and add_routes.\n"
   ]
  },
  {
   "cell_type": "markdown",
   "metadata": {},
   "source": [
    "Mount with explicit path\n"
   ]
  },
  {
   "cell_type": "code",
   "execution_count": null,
   "metadata": {},
   "outputs": [
    {
     "data": {
      "text/plain": [
       "'3'"
      ]
     },
     "execution_count": null,
     "metadata": {},
     "output_type": "execute_result"
    }
   ],
   "source": [
    "mount(app, counter)\n",
    "\n",
    "cli.get(f\"/{counter.ar.idx}/inc\").text\n"
   ]
  },
  {
   "cell_type": "markdown",
   "metadata": {},
   "source": [
    "Mount routes with automatic path generation.\n",
    "\n",
    "Routes available under `/{counter.ar.idx}/...`"
   ]
  },
  {
   "cell_type": "markdown",
   "metadata": {},
   "source": [
    "More examples:"
   ]
  },
  {
   "cell_type": "code",
   "execution_count": null,
   "metadata": {},
   "outputs": [
    {
     "data": {
      "text/plain": [
       "'5'"
      ]
     },
     "metadata": {},
     "output_type": "display_data"
    },
    {
     "data": {
      "text/plain": [
       "' <div href=\"/prv/x/3\">15</div>\\n'"
      ]
     },
     "execution_count": null,
     "metadata": {},
     "output_type": "execute_result"
    }
   ],
   "source": [
    "class TestProvider:\n",
    "    __ar__ = APIRouterB()\n",
    "    ar = __ar__\n",
    "    _value: int = 5\n",
    "\n",
    "    @__ar__('/')\n",
    "    @property\n",
    "    def value(self): \n",
    "        return f'{self._value}'  # FastHTML hates zeroes :)\n",
    "    \n",
    "    @__ar__('/')\n",
    "    @value.setter\n",
    "    def value(self, x:int): \n",
    "        self._value = x\n",
    "        return self.value\n",
    "    \n",
    "    @__ar__('/')\n",
    "    @value.deleter\n",
    "    def value(self): \n",
    "        try: del self._value\n",
    "        except: pass\n",
    "    \n",
    "    @__ar__('/x/{y}', name='mul')\n",
    "    def get(self, y:int): \n",
    "        return Div(link=uri(f\"mul\", y=f\"{y}\"))(self._value*y)\n",
    "\n",
    "\n",
    "app, cli, rt = get_app()\n",
    "\n",
    "prvr = TestProvider()\n",
    "mount(app, prvr, '/prv', 'prv')\n",
    "display(cli.get('/prv/').text)\n",
    "\n",
    "test_eq(prvr.ar.to, '/prv')\n",
    "test_eq(prvr.get.to(), '/x/{y}')\n",
    "test_eq(app.url_path_for('prv:mul', y='3'), '/prv/x/3')\n",
    "test_eq(app.url_path_for('prv:value'), '/prv/')\n",
    "\n",
    "test_eq(cli.get('/prv/x/3').text, ' <div href=\"/prv/x/3\">15</div>\\n')\n",
    "test_eq(cli.get('/prv/').text, '5')\n",
    "test_eq(cli.post('/prv/', data={'x':'7'}).text, '7')\n",
    "test_eq(cli.put('/prv/', data={'x':'3'}).text, '3')\n",
    "test_eq(cli.get('/prv/x/3').text, ' <div href=\"/prv/x/3\">9</div>\\n')\n",
    "test_eq(cli.delete('/prv/').text, '')\n",
    "test_eq(cli.get('/prv/x/3').text, ' <div href=\"/prv/x/3\">15</div>\\n')\n",
    "\n",
    "cli.get('/prv/x/3').text\n"
   ]
  },
  {
   "cell_type": "markdown",
   "metadata": {},
   "source": [
    "Note that we can also set properties as routes. Use as above, or simply apply once in the last descriptor function."
   ]
  },
  {
   "cell_type": "code",
   "execution_count": null,
   "metadata": {},
   "outputs": [
    {
     "data": {
      "text/plain": [
       "'5'"
      ]
     },
     "metadata": {},
     "output_type": "display_data"
    },
    {
     "data": {
      "text/plain": [
       "'15'"
      ]
     },
     "execution_count": null,
     "metadata": {},
     "output_type": "execute_result"
    }
   ],
   "source": [
    "class TestProvider:\n",
    "    ar = __ar__ = APIRouterB()\n",
    "    _value: int = 5\n",
    "\n",
    "    @property\n",
    "    def value(self): return f'{self._value}'  # FastHTML hates zeros\n",
    "\n",
    "    @value.setter\n",
    "    def value(self, x:int): \n",
    "        self._value = x\n",
    "        return self.value\n",
    "    \n",
    "    @ar('/')\n",
    "    @value.deleter\n",
    "    def value(self): \n",
    "        try: del self._value\n",
    "        except: pass\n",
    "    \n",
    "    @ar('/x/{y}')\n",
    "    def get(self, y:int):\n",
    "        return self._value*y\n",
    "\n",
    "\n",
    "app, cli, rt = get_app()\n",
    "\n",
    "prvr = TestProvider()\n",
    "mount(app, prvr, '/prv', 'prv')\n",
    "display(cli.get('/prv/').text)\n",
    "\n",
    "test_eq(cli.get('/prv/x/3').text, '15')\n",
    "test_eq(cli.get('/prv/').text, '5')\n",
    "test_eq(cli.post('/prv/', data={'x':'7'}).text, '7')\n",
    "test_eq(cli.put('/prv/', data={'x':'3'}).text, '3')\n",
    "test_eq(cli.get('/prv/x/3').text, '9')\n",
    "test_eq(cli.delete('/prv/').text, '')\n",
    "test_eq(cli.get('/prv/x/3').text, '15')\n",
    "\n",
    "cli.get('/prv/x/3').text\n"
   ]
  },
  {
   "cell_type": "markdown",
   "metadata": {},
   "source": [
    "If we don't specify a path, a new one is generated with a unique id."
   ]
  },
  {
   "cell_type": "code",
   "execution_count": null,
   "metadata": {},
   "outputs": [
    {
     "name": "stdout",
     "output_type": "stream",
     "text": [
      "/TestProvider_4823907552\n"
     ]
    },
    {
     "data": {
      "text/plain": [
       "'15'"
      ]
     },
     "execution_count": null,
     "metadata": {},
     "output_type": "execute_result"
    }
   ],
   "source": [
    "class TestProvider:\n",
    "    ar = __ar__ = APIRouterB()\n",
    "    _value: int = 5\n",
    "\n",
    "    @property\n",
    "    def value(self): return f'{self._value}'  # FastHTML hates zeros\n",
    "\n",
    "    @value.setter\n",
    "    def value(self, x:int): \n",
    "        self._value = x\n",
    "        return self.value\n",
    "    \n",
    "    @ar('/')\n",
    "    @value.deleter\n",
    "    def value(self): \n",
    "        try: del self._value\n",
    "        except: pass\n",
    "    \n",
    "    @ar('/x/{y}')\n",
    "    def get(self, y:int): return self._value*y\n",
    "\n",
    "\n",
    "app, cli, rt = get_app()\n",
    "\n",
    "prvr = TestProvider()\n",
    "ar: APIRouterB = mount(app, prvr)  # type: ignore\n",
    "p = ar.to\n",
    "print(p)\n",
    "\n",
    "test_eq(cli.get(f\"{p}/x/3\").text, '15')\n",
    "test_eq(cli.get(f\"{p}/\").text, '5')\n",
    "test_eq(cli.post(f\"{p}/\", data={'x':'7'}).text, '7')\n",
    "test_eq(cli.put(f\"{p}/\", data={'x':'3'}).text, '3')\n",
    "test_eq(cli.get(f\"{p}/x/3\").text, '9')\n",
    "test_eq(cli.delete(f\"{p}/\").text, '')\n",
    "test_eq(cli.get(f\"{p}/x/3\").text, '15')\n",
    "\n",
    "test_eq(app.url_path_for(ar.name, path='/'), f'{p}/')\n",
    "\n",
    "cli.get(f\"{p}/x/3\").text\n"
   ]
  },
  {
   "cell_type": "markdown",
   "metadata": {},
   "source": [
    "# APIRoute\n",
    "> Decorator to define route endpoints with methods.\n",
    "\n",
    "We can simplyfy all that by using a decorator.\n"
   ]
  },
  {
   "cell_type": "code",
   "execution_count": null,
   "metadata": {},
   "outputs": [],
   "source": [
    "#| export\n",
    "\n",
    "class APIRoute:\n",
    "    def __init__(self, path:str|None=None, methods=None, name=None, include_in_schema=True, body_wrap=noop_body):\n",
    "        self.rargs = path, methods, name, include_in_schema, body_wrap\n",
    "\n",
    "    def __call__(self, func: Callable[..., Any]) -> Callable: self.func = func; return self\n",
    "\n",
    "    def __set_name__(self, owner, name):\n",
    "        if not '__ar__' in vars(owner): setattr(owner, '__ar__', APIRouterB())\n",
    "        owner.__ar__.routes.append((self.func, *self.rargs))\n",
    "        setattr(owner, name, self.func)  # let methods be methods\n",
    "    \n",
    "ar = APIRoute\n"
   ]
  },
  {
   "cell_type": "markdown",
   "metadata": {},
   "source": [
    "`APIRoute` a.k.a `ar` is a decorator to define route endpoints with methods. It's also a descriptor to populate lazily the `APIRouter` of the class.  \n",
    "By using it, you're implicitly converting the class in a `RoutesProviderP`.\n"
   ]
  },
  {
   "cell_type": "code",
   "execution_count": null,
   "metadata": {},
   "outputs": [],
   "source": [
    "class RProvider:\n",
    "    a:int=0\n",
    "\n",
    "    @ar('/a', name='changed')\n",
    "    def changed(self, a:int, req):\n",
    "        setattr(self, 'a', a)\n",
    "        return f\"{a}, {req.url_for('changed')}\"\n",
    "\n",
    "\n",
    "app, cli, rt = get_app()\n",
    "\n",
    "rp = RProvider()\n",
    "add_routes(app, rp)\n",
    "\n",
    "test_eq(cli.post('/a', data={'a':'7'}).text, '7, http://nb/a')\n"
   ]
  },
  {
   "cell_type": "markdown",
   "metadata": {},
   "source": [
    "If you, like me, love annotations but hates the stupid wiggly reds, inherit from `RoutesProvider`.\n",
    "\n",
    "In the bridget notebook we'll see that we can also auto mount routes providers."
   ]
  },
  {
   "cell_type": "markdown",
   "metadata": {},
   "source": [
    "# Colophon\n",
    "----\n"
   ]
  },
  {
   "cell_type": "code",
   "execution_count": null,
   "metadata": {},
   "outputs": [],
   "source": [
    "import fastcore.all as FC\n",
    "import nbdev\n",
    "from nbdev.clean import nbdev_clean\n"
   ]
  },
  {
   "cell_type": "code",
   "execution_count": null,
   "metadata": {},
   "outputs": [],
   "source": [
    "if FC.IN_NOTEBOOK:\n",
    "    nb_path = '20_route_provider.ipynb'\n",
    "    # nbdev_clean(nb_path)\n",
    "    nbdev.nbdev_export(nb_path)\n"
   ]
  }
 ],
 "metadata": {
  "kernelspec": {
   "display_name": "python3",
   "language": "python",
   "name": "python3"
  }
 },
 "nbformat": 4,
 "nbformat_minor": 2
}
