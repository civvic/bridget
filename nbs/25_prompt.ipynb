{
 "cells": [
  {
   "cell_type": "code",
   "execution_count": 1,
   "metadata": {},
   "outputs": [],
   "source": [
    "#| default_exp prompt\n"
   ]
  },
  {
   "cell_type": "code",
   "execution_count": 2,
   "metadata": {},
   "outputs": [],
   "source": [
    "#| export\n",
    "from __future__ import annotations\n"
   ]
  },
  {
   "cell_type": "markdown",
   "metadata": {},
   "source": [
    "# Prompt\n",
    "\n",
    "> Notebooks as prompts.\n",
    "\n"
   ]
  },
  {
   "cell_type": "markdown",
   "metadata": {},
   "source": [
    "# Prologue"
   ]
  },
  {
   "cell_type": "code",
   "execution_count": 3,
   "metadata": {},
   "outputs": [],
   "source": [
    "#| export\n",
    "import inspect\n",
    "from pathlib import Path\n",
    "from typing import Literal\n",
    "from typing import TypeAlias\n",
    "\n",
    "import anywidget\n",
    "import traitlets as T\n",
    "from IPython.display import display\n",
    "from IPython.display import HTML\n",
    "from olio.common import update_\n"
   ]
  },
  {
   "cell_type": "code",
   "execution_count": 4,
   "metadata": {},
   "outputs": [],
   "source": [
    "#| export\n",
    "import bridget\n"
   ]
  },
  {
   "cell_type": "code",
   "execution_count": 5,
   "metadata": {},
   "outputs": [],
   "source": [
    "import fastcore.all as FC\n",
    "from fastcore.xml import to_xml\n"
   ]
  },
  {
   "cell_type": "code",
   "execution_count": 6,
   "metadata": {},
   "outputs": [],
   "source": [
    "from fastcore.test import *\n",
    "from rich.console import Console"
   ]
  },
  {
   "cell_type": "code",
   "execution_count": 7,
   "metadata": {},
   "outputs": [],
   "source": [
    "from bridget.widget_helpers import cleanupwidgets\n"
   ]
  },
  {
   "cell_type": "markdown",
   "metadata": {},
   "source": [
    "----\n"
   ]
  },
  {
   "cell_type": "code",
   "execution_count": 9,
   "metadata": {},
   "outputs": [],
   "source": [
    "cprint = (console := Console(width=120)).print\n"
   ]
  },
  {
   "cell_type": "markdown",
   "metadata": {},
   "source": [
    "----"
   ]
  },
  {
   "cell_type": "markdown",
   "metadata": {},
   "source": [
    "# Configuration"
   ]
  },
  {
   "cell_type": "markdown",
   "metadata": {},
   "source": [
    "# Prompt"
   ]
  },
  {
   "cell_type": "code",
   "execution_count": null,
   "metadata": {},
   "outputs": [],
   "source": [
    "#| export\n",
    "\n",
    "class Prompt:\n",
    "    @staticmethod\n",
    "    def export(*args, **kwargs):\n",
    "        pass\n",
    "\n",
    "prompt = Prompt()"
   ]
  },
  {
   "cell_type": "markdown",
   "metadata": {},
   "source": [
    ":: exclude ::\n",
    "## Example"
   ]
  },
  {
   "cell_type": "code",
   "execution_count": null,
   "metadata": {},
   "outputs": [],
   "source": [
    "print('hello')"
   ]
  },
  {
   "cell_type": "code",
   "execution_count": null,
   "metadata": {},
   "outputs": [],
   "source": [
    "%%prompt\n",
    "\n",
    "Help me write a **function** that takes a list of numbers and returns the sum of the squares of the numbers.\n",
    "\n",
    "Be sure to include docstring and type hints. Be as concise as possible.\n"
   ]
  },
  {
   "cell_type": "code",
   "execution_count": null,
   "metadata": {},
   "outputs": [],
   "source": [
    "def sum_of_squares(numbers: list[int]) -> int:\n",
    "    return sum(x**2 for x in numbers)\n"
   ]
  },
  {
   "cell_type": "code",
   "execution_count": null,
   "metadata": {},
   "outputs": [],
   "source": [
    "# Help me write a function that takes a list of numbers and returns the maximum of the numbers.\n",
    "\n",
    "def max_of_numbers(numbers: list[int]) -> int:\n",
    "    return max(numbers)\n"
   ]
  },
  {
   "cell_type": "markdown",
   "metadata": {},
   "source": [
    "Claude, I'm working on the Bridget project, specifically on one aspect: **notebook state management**. We've created @18_nb_state.ipynb to develop a **widget** that will:\n",
    "\n",
    "1. Access notebook state from a DOM script element of type `application/json` with id `notebook-state-json`\n",
    "2. Allow Python code to read that state object\n",
    "3. Eventually be integrated into the main Bridget class\n",
    "\n",
    "**Key context**:\n",
    "- Using AnyWidget for cross-environment compatibility (see examples here 16_htmx.ipynb, 22_bridget.ipynb)\n",
    "- Following @nbdev  development patterns\n",
    "- State element is created as normal notebook output (IPython display)\n",
    "- No direct interaction with VSCode extension"
   ]
  },
  {
   "cell_type": "markdown",
   "metadata": {},
   "source": [
    "I'll help you develop the notebook state management component in smaller, focused chunks. Let's start with a high-level implementation plan and then break it down into actionable steps.\n",
    "\n",
    "### Initial Implementation Plan\n",
    "\n",
    "1. **State Access Layer**\n",
    "   - JavaScript module to access DOM state element\n",
    "   - Message passing between JS and Python via AnyWidget\n",
    "   - Basic state structure types in Python\n",
    "\n",
    "2. **State Management**\n",
    "   - State parsing and validation\n",
    "   - Change detection and events\n",
    "   - Output tracking\n",
    "\n",
    "3. **API Design**\n",
    "   - Python interface for state access\n",
    "   - Methods for output manipulation\n",
    "   - Event callbacks\n",
    "\n",
    "Let's start with the first concrete step: implementing the JavaScript state access layer. Here's what I propose for the initial implementation:\n"
   ]
  },
  {
   "cell_type": "code",
   "execution_count": null,
   "metadata": {},
   "outputs": [],
   "source": [
    "%%vfile nbstate.js\n",
    "\n",
    "function getNotebookState() {\n",
    "    const stateElement = document.querySelector('script[type=\"application/x-notebook-state\"]');\n",
    "    return stateElement ? JSON.parse(stateElement.textContent) : null;\n",
    "}\n",
    "\n",
    "function on_msg(msg) {\n",
    "    console.log(`new nbstate message: ${JSON.stringify(msg)}`);\n",
    "    // Handle commands from Python\n",
    "    if (msg.cmd === 'get_state') {\n",
    "        const state = getNotebookState();\n",
    "        this.model.send({ cmd: 'state_update', state });\n",
    "    }\n",
    "}\n",
    "\n",
    "export default { \n",
    "    async initialize({ model }) {\n",
    "        console.log('NBState initialized');\n",
    "        model.on(\"msg:custom\", on_msg);\n",
    "        \n",
    "        // Send initial state\n",
    "        const state = getNotebookState();\n",
    "        if (state) model.send({ cmd: 'state_update', state });\n",
    "    }\n",
    "};\n"
   ]
  },
  {
   "cell_type": "markdown",
   "metadata": {},
   "source": [
    "Would you like me to explain this initial JavaScript implementation before we move on to the Python side?\n"
   ]
  },
  {
   "cell_type": "code",
   "execution_count": null,
   "metadata": {},
   "outputs": [],
   "source": [
    "#| hide\n",
    "# this is not part of the prompt\n",
    "\n",
    "print(10)"
   ]
  },
  {
   "cell_type": "markdown",
   "metadata": {},
   "source": [
    "# Export"
   ]
  },
  {
   "cell_type": "code",
   "execution_count": null,
   "metadata": {},
   "outputs": [],
   "source": [
    "Prompt.export('gist')\n",
    "\n",
    "# or"
   ]
  },
  {
   "cell_type": "code",
   "execution_count": null,
   "metadata": {},
   "outputs": [],
   "source": [
    "%%prompt export test.gist"
   ]
  },
  {
   "cell_type": "code",
   "execution_count": null,
   "metadata": {},
   "outputs": [],
   "source": [
    "Prompt.export('nb')\n",
    "\n",
    "# or"
   ]
  },
  {
   "cell_type": "code",
   "execution_count": null,
   "metadata": {},
   "outputs": [],
   "source": [
    "%%prompt export test.ipynb"
   ]
  },
  {
   "cell_type": "markdown",
   "metadata": {},
   "source": [
    "# Colophon\n",
    "----\n"
   ]
  },
  {
   "cell_type": "code",
   "execution_count": 15,
   "metadata": {},
   "outputs": [],
   "source": [
    "import fastcore.all as FC\n",
    "import nbdev\n",
    "from nbdev.clean import nbdev_clean\n"
   ]
  },
  {
   "cell_type": "code",
   "execution_count": 16,
   "metadata": {},
   "outputs": [],
   "source": [
    "if FC.IN_NOTEBOOK:\n",
    "    nb_path = '25_prompt.ipynb'\n",
    "    nbdev_clean(nb_path)\n",
    "    nbdev.nbdev_export(nb_path)\n"
   ]
  }
 ],
 "metadata": {
  "kernelspec": {
   "display_name": "python3",
   "language": "python",
   "name": "python3"
  },
  "language_info": {
   "codemirror_mode": {
    "name": "ipython",
    "version": 3
   },
   "file_extension": ".py",
   "mimetype": "text/x-python",
   "name": "python",
   "nbconvert_exporter": "python",
   "pygments_lexer": "ipython3",
   "version": "3.12.7"
  }
 },
 "nbformat": 4,
 "nbformat_minor": 2
}
