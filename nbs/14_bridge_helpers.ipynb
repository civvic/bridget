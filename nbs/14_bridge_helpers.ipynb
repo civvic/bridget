{
 "cells": [
  {
   "cell_type": "code",
   "execution_count": 1,
   "metadata": {
    "brd": "84bbe8f5-26ac-4735-98a0-a80f52907156"
   },
   "outputs": [],
   "source": [
    "#| default_exp bridge_helpers"
   ]
  },
  {
   "cell_type": "code",
   "execution_count": 2,
   "metadata": {
    "brd": "e7595b87-f8a2-4c8c-94a6-e8033c1440bf"
   },
   "outputs": [],
   "source": [
    "#| export\n",
    "from __future__ import annotations"
   ]
  },
  {
   "cell_type": "markdown",
   "metadata": {},
   "source": [
    "# Bridge helpers\n"
   ]
  },
  {
   "cell_type": "markdown",
   "metadata": {},
   "source": [
    "# Prologue"
   ]
  },
  {
   "cell_type": "code",
   "execution_count": 3,
   "metadata": {
    "brd": "857386bb-d45f-424c-93da-49c27f2408df"
   },
   "outputs": [],
   "source": [
    "#| export\n",
    "import os\n",
    "import time\n",
    "from collections import defaultdict\n",
    "from pathlib import Path\n",
    "from typing import Any\n",
    "from typing import Callable\n",
    "\n",
    "import anywidget\n",
    "import fastcore.all as FC\n",
    "import traitlets as T\n",
    "from fastcore.all import L\n",
    "from fastcore.all import NotStr\n",
    "from fastcore.xml import escape\n",
    "from fastcore.xml import to_xml\n",
    "from fasthtml.core import FT\n",
    "from fasthtml.jupyter import JupyUvi\n",
    "from fasthtml.xtend import Script\n",
    "from IPython.display import display\n",
    "from IPython.display import HTML\n",
    "from olio.basic import bundle_path\n",
    "from olio.common import update_\n",
    "from traitlets.config import SingletonConfigurable\n"
   ]
  },
  {
   "cell_type": "code",
   "execution_count": 4,
   "metadata": {
    "brd": "a467ebf5-eb1b-4485-82d8-515b5d512812"
   },
   "outputs": [],
   "source": [
    "os.environ['DEBUG'] = 'True'"
   ]
  },
  {
   "cell_type": "code",
   "execution_count": 5,
   "metadata": {
    "brd": "df83a2a5-d10b-4bb2-b75f-be4739e8b5dd"
   },
   "outputs": [],
   "source": [
    "#| export\n",
    "\n",
    "from fasthtml.components import Div,B, Details, Summary, Pre"
   ]
  },
  {
   "cell_type": "code",
   "execution_count": 6,
   "metadata": {
    "brd": "4722d7fa-ed17-440c-a537-507226a5b221"
   },
   "outputs": [],
   "source": [
    "#| export\n",
    "from bridget.display_helpers import LogCanvas\n",
    "from bridget.display_helpers import LogCanvas_css\n",
    "from bridget.display_helpers import NBLogger\n",
    "from bridget.display_helpers import NoopLogger\n",
    "from bridget.helpers import bridge_cfg\n",
    "from bridget.helpers import id_gen\n",
    "from bridget.widget_helpers import anysource\n",
    "from bridget.widget_helpers import BlockingMixin\n",
    "from bridget.widget_helpers import bundled"
   ]
  },
  {
   "cell_type": "code",
   "execution_count": 7,
   "metadata": {
    "brd": "e7c9dd02-076f-41fd-b71c-5f88e4a52f5d"
   },
   "outputs": [],
   "source": [
    "import asyncio\n",
    "import inspect\n",
    "import json\n",
    "import operator\n",
    "import sys\n",
    "from contextlib import contextmanager\n",
    "from inspect import Parameter \n",
    "from typing import DefaultDict\n",
    "from typing import Iterable\n",
    "from typing import Protocol\n",
    "from typing import Self\n",
    "\n",
    "import anyio\n",
    "import fasthtml.components as ft\n",
    "from anyio import from_thread\n",
    "from fastcore.test import *\n",
    "from fasthtml.components import highlight\n",
    "from fasthtml.components import show\n",
    "from fasthtml.components import showtags\n",
    "from fasthtml.core import FastHTML\n",
    "from fasthtml.core import fh_cfg\n",
    "from fasthtml.core import fhjsscr\n",
    "from fasthtml.core import scopesrc\n",
    "from fasthtml.core import surrsrc\n",
    "from httpx import get\n",
    "from IPython.core.displayhook import CapturingDisplayHook\n",
    "from IPython.core.getipython import get_ipython\n",
    "from IPython.core.interactiveshell import InteractiveShell\n",
    "from IPython.display import clear_output\n",
    "from IPython.display import DisplayHandle\n",
    "from IPython.display import Javascript\n",
    "from IPython.display import Markdown\n",
    "from IPython.utils.capture import capture_output\n",
    "from IPython.utils.capture import CapturedIO\n",
    "from IPython.utils.capture import RichOutput\n",
    "from loguru import logger\n",
    "from olio.common import gets\n",
    "from olio.common import pops_\n",
    "from olio.common import pops_values_\n",
    "from olio.common import setup_console\n",
    "from olio.common import shortens\n",
    "from olio.test import test_raises\n",
    "from olio.widget import cleanupwidgets\n"
   ]
  },
  {
   "cell_type": "code",
   "execution_count": 8,
   "metadata": {
    "brd": "0a6df22d-486d-4a00-85c0-77d819e1d85d"
   },
   "outputs": [],
   "source": [
    "from bridget.display_helpers import BasicLogger\n",
    "from bridget.display_helpers import displaydh\n",
    "from bridget.display_helpers import LogCanvas_stl\n",
    "from bridget.helpers import kounter\n",
    "from bridget.widget_helpers import ScriptV"
   ]
  },
  {
   "cell_type": "code",
   "execution_count": 9,
   "metadata": {
    "brd": "b9fbb3df-a57d-4ce4-8448-42497552e753"
   },
   "outputs": [],
   "source": [
    "from fasthtml.components import Div, P, Pre, Text, Span"
   ]
  },
  {
   "cell_type": "markdown",
   "metadata": {},
   "source": [
    "----\n"
   ]
  },
  {
   "cell_type": "code",
   "execution_count": 10,
   "metadata": {
    "brd": "8bff5f15-4148-429a-a87f-bc4706969a29"
   },
   "outputs": [],
   "source": [
    "#| exporti\n",
    "\n",
    "new_id = id_gen()\n",
    "DEBUG = os.environ.get('DEBUG', None) == 'True'\n",
    "BUNDLE_PATH = bundle_path(__name__)"
   ]
  },
  {
   "cell_type": "code",
   "execution_count": 11,
   "metadata": {
    "brd": "5bd00c09-6b26-4b50-afd5-85633f104ed4"
   },
   "outputs": [],
   "source": [
    "IDISPLAY = display\n",
    "_n = '\\n'\n",
    "console, cprint = setup_console(140)"
   ]
  },
  {
   "cell_type": "code",
   "execution_count": 12,
   "metadata": {
    "brd": "9c750b29-33c0-4778-ac29-323a2af8914b"
   },
   "outputs": [],
   "source": [
    "# needed for vfile:\n",
    "%load_ext anywidget"
   ]
  },
  {
   "cell_type": "code",
   "execution_count": 13,
   "metadata": {
    "brd": "27fa770a-3dc7-4f48-9c0a-9fc0d1a5cd2b"
   },
   "outputs": [
    {
     "name": "stdout",
     "output_type": "stream",
     "text": [
      "env: ANYWIDGET_HMR=0\n"
     ]
    }
   ],
   "source": [
    "%env ANYWIDGET_HMR=0"
   ]
  },
  {
   "cell_type": "markdown",
   "metadata": {},
   "source": [
    "----"
   ]
  },
  {
   "cell_type": "code",
   "execution_count": 14,
   "metadata": {
    "brd": "ff37f7e9-f80a-4253-a5ba-4e690e7e3012"
   },
   "outputs": [],
   "source": [
    "# %%HTML\n",
    "# <script type=\"module\">\n",
    "# debugger;\n",
    "# const mod = await import('../bridget/test.js');\n",
    "# const { test } = mod;\n",
    "# console.log(test);\n",
    "# </script>"
   ]
  },
  {
   "cell_type": "code",
   "execution_count": 15,
   "metadata": {
    "brd": "090b5d51-4554-43fd-986b-ce4430a24ffb"
   },
   "outputs": [],
   "source": [
    "# %%HTML\n",
    "# <script type=\"module\">\n",
    "# debugger;\n",
    "# const { default: getObserverManager } = await import('./observer.js');\n",
    "# console.log(getObserverManager);\n",
    "# const observerManager = getObserverManager();\n",
    "# </script>"
   ]
  },
  {
   "cell_type": "code",
   "execution_count": 16,
   "metadata": {
    "brd": "59ce807a-54ab-4464-9264-5f88d7465a3f"
   },
   "outputs": [],
   "source": [
    "# %%HTML\n",
    "# <script type=\"module\">\n",
    "# debugger;\n",
    "# const { getObserverManager } = await import('observer.js');\n",
    "# console.log(getObserverManager);\n",
    "# getObserverManager();\n",
    "# </script>"
   ]
  },
  {
   "cell_type": "markdown",
   "metadata": {},
   "source": [
    "# Helpers"
   ]
  },
  {
   "cell_type": "code",
   "execution_count": 17,
   "metadata": {
    "brd": "2ae34092-25c7-4d24-8aaf-7a5c7f038dfe"
   },
   "outputs": [],
   "source": [
    "#| export\n",
    "\n",
    "def debug(jsstr: str): return f\"debugger;\\n{jsstr}\"\n",
    "def notdebug(jsstr: str): return jsstr"
   ]
  },
  {
   "cell_type": "code",
   "execution_count": 18,
   "metadata": {
    "brd": "2261839c-ea4b-4f1f-a505-a70e492085de"
   },
   "outputs": [],
   "source": [
    "#| export\n",
    "\n",
    "def _to_js(ft):\n",
    "    if isinstance(ft, FT): \n",
    "        return [ft.tag, [_to_js(_) for _ in ft.children], ft.attrs]\n",
    "    return str(ft)\n",
    "\n",
    "def to_js(*fts: FT|str):\n",
    "    return f\"[\\n  {',\\n  '.join(repr(_to_js(_)) if isinstance(_, FT) else repr(_) for _ in fts)}\\n]\""
   ]
  },
  {
   "cell_type": "code",
   "execution_count": 19,
   "metadata": {
    "brd": "a82aa58d-58e8-4320-bc53-533e8ceddf85"
   },
   "outputs": [],
   "source": [
    "a = Div(P('a'), P('aa'), id='a11')\n",
    "b = P('b', Span('bb'))\n",
    "\n",
    "test_eq(_to_js(a), ['div', [['p', ['a'], {}], ['p', ['aa'], {}]], {'id': 'a11'}])\n",
    "test_eq(_to_js(b), ['p', ['b', ['span', ['bb'], {}]], {}])\n",
    "\n",
    "test_eq(to_js(a, 'const a=`${\"a\"}`; console.log(a)', b), \"\"\"[\n",
    "  ['div', [['p', ['a'], {}], ['p', ['aa'], {}]], {'id': 'a11'}],\n",
    "  'const a=`${\"a\"}`; console.log(a)',\n",
    "  ['p', ['b', ['span', ['bb'], {}]], {}]\n",
    "]\"\"\")"
   ]
  },
  {
   "cell_type": "code",
   "execution_count": 20,
   "metadata": {
    "brd": "c745cb25-353b-431f-a62e-bfd1570e2f95"
   },
   "outputs": [],
   "source": [
    "a = Script('const a=`${\"a\"}`; console.log(a)')\n",
    "b = Script(src='https://unpkg.com/htmx.org@next/dist/htmx.js', type='module')\n",
    "\n",
    "test_eq(repr(_to_js(a)), \"['script', ['const a=`${\\\"a\\\"}`; console.log(a)'], {}]\")\n",
    "\n",
    "test_eq(to_js(a, b), \"\"\"[\n",
    "  ['script', ['const a=`${\"a\"}`; console.log(a)'], {}],\n",
    "  ['script', [''], {'src': 'https://unpkg.com/htmx.org@next/dist/htmx.js', 'type': 'module'}]\n",
    "]\"\"\")"
   ]
  },
  {
   "cell_type": "markdown",
   "metadata": {},
   "source": [
    "Quick & dirty way to convert `FT` to HTML elements int the front-end using `fasthtml-js` `$E`.  \n",
    "Intended only for \"linking\"/head elements (with void or text content): script, style, link, meta, etc. It'll surely fail with other elements."
   ]
  },
  {
   "cell_type": "code",
   "execution_count": 21,
   "metadata": {
    "brd": "db828933-7c6b-422d-a19e-e9bf4bd94736"
   },
   "outputs": [],
   "source": [
    "#| export\n",
    "\n",
    "class ScriptsDetails:\n",
    "    def __init__(self, scs, title='Loaded scripts', open=True): \n",
    "        self.scs = scs; self.title = title; self.open = open\n",
    "    def __ft__(self):\n",
    "        return Details(open=self.open)(\n",
    "            Summary(B(self.title)),\n",
    "            Pre(NotStr('\\n'.join(escape(to_xml(_, indent=False, do_escape=False).strip()) for _ in self.scs))),\n",
    "        )"
   ]
  },
  {
   "cell_type": "markdown",
   "metadata": {},
   "source": [
    "# autoid (not used)\n",
    "\n",
    "Note: `autoid` here is different from `fh_cfg['auto_id']` option. Here we're trying to automatically set the `id` attribute of the wrapper element of a cell output. If we can do so, we'll be able to target especific cell outputs down the road."
   ]
  },
  {
   "cell_type": "code",
   "execution_count": 22,
   "metadata": {
    "brd": "ad74ea53-573d-43f3-8424-a3ba88f564c5"
   },
   "outputs": [],
   "source": [
    "# %%vfile autoid.js\n",
    "\n",
    "# // debugger;\n",
    "# function autodel(id) {\n",
    "#     // debugger;\n",
    "#     const me = document.querySelector(`#${id}`);\n",
    "#     const parent = me.parentElement;\n",
    "#     // parent.append(`test ${id}`);\n",
    "#     window.setTimeout(() => {{ \n",
    "#         me.remove(); \n",
    "#         parent.setAttribute(\"id\", `output-${id}`);\n",
    "#         console.log('deleted script', id); \n",
    "#     }}, 100);\n",
    "#     console.log(\"test script\", id);\n",
    "# }"
   ]
  },
  {
   "cell_type": "code",
   "execution_count": 23,
   "metadata": {
    "brd": "2fc2d7a8-746e-4392-91e0-32e515473a9e"
   },
   "outputs": [],
   "source": [
    "# sc = '''\n",
    "# function autodel(id) {\n",
    "#     // debugger;\n",
    "#     const me = document.querySelector(`#${id}`);\n",
    "#     const parent = me.parentElement;\n",
    "#     // parent.append(`test ${id}`);\n",
    "#     window.setTimeout(() => {{ \n",
    "#         me.remove(); \n",
    "#         parent.setAttribute(\"id\", `output-${id}`);\n",
    "#         console.log('deleted script', id); \n",
    "#     }}, 100);\n",
    "#     console.log(\"test script\", id);\n",
    "# }\n",
    "# '''\n",
    "\n",
    "# # autodelscr = Script(sc)\n",
    "# autodelscr = ScriptV('vfile:autoid.js')\n",
    "# HTML(to_xml(autodelscr))"
   ]
  },
  {
   "cell_type": "code",
   "execution_count": 24,
   "metadata": {
    "brd": "3b87b0db-55d0-4709-b75c-43fd96151032"
   },
   "outputs": [],
   "source": [
    "# sc = '''\n",
    "# autodel(\"{0}\");\n",
    "# '''\n",
    "\n",
    "# idx = new_id()\n",
    "# scr = Script(notdebug(sc.format(idx)), id=idx, type='module')\n",
    "# HTML(to_xml(scr)+'aaaa')"
   ]
  },
  {
   "cell_type": "code",
   "execution_count": 25,
   "metadata": {
    "brd": "3c506fd3-7d15-469d-bacd-4464e7f831c2"
   },
   "outputs": [],
   "source": [
    "# sc = '''\n",
    "# autodel(\"{0}\");\n",
    "# '''\n",
    "# def autoid(idx=None):\n",
    "#     idx = idx or new_id()\n",
    "#     return Script(notdebug(sc.format(idx)), id=idx, type='module'), idx"
   ]
  },
  {
   "cell_type": "code",
   "execution_count": 26,
   "metadata": {
    "brd": "a2fa908c-5bf0-4118-b7b5-3842458dab58"
   },
   "outputs": [],
   "source": [
    "# HTML('aaaaa'+to_xml(autoid()[0]))"
   ]
  },
  {
   "cell_type": "code",
   "execution_count": 27,
   "metadata": {
    "brd": "e1e9932e-65d4-4a7f-bdd9-35195eecf64c"
   },
   "outputs": [],
   "source": [
    "# %%HTML\n",
    "#   <script id=\"asdfg-12345\">\n",
    "#     debugger;\n",
    "#     me().attribute('id', 'output-asdfg-12345');\n",
    "#     setTimeout(el => { el.remove(); }, 100, me('#asdfg-12345'))\n",
    "#     // autodel('asdfg-12345');\n",
    "#   </script>\n",
    "#   <div class=\"uploader\">aaaa</div>"
   ]
  },
  {
   "cell_type": "code",
   "execution_count": 28,
   "metadata": {
    "brd": "45a4721f-2df4-4c68-a239-27ee421e5986"
   },
   "outputs": [],
   "source": [
    "# __autoid_scr = '''\n",
    "# me().attribute('id', 'output-{0}').classAdd('bridge');\n",
    "# setTimeout(el => {{ el.remove(); }}, 100, me('#{0}'))\n",
    "# '''\n",
    "# def autoid(idx=None):\n",
    "#     idx = idx or new_id()\n",
    "#     return Script(notdebug(__autoid_scr.format(idx)), id=idx), idx"
   ]
  },
  {
   "cell_type": "code",
   "execution_count": 29,
   "metadata": {
    "brd": "9fa1b0c9-e4ce-4600-a498-c4f74132dbc4"
   },
   "outputs": [],
   "source": [
    "# scr,idx = autoid()\n",
    "# dhdl = DisplayHandle(idx)\n",
    "# dhdl.display(HTML('bbbb'+to_xml(scr)))"
   ]
  },
  {
   "cell_type": "code",
   "execution_count": 30,
   "metadata": {
    "brd": "5c9f4287-de94-4c3f-b841-60f766cbe07c"
   },
   "outputs": [],
   "source": [
    "# dhdl.update(HTML('cccc'+to_xml(scr)))"
   ]
  },
  {
   "cell_type": "code",
   "execution_count": 31,
   "metadata": {
    "brd": "6a771bae-93c8-4187-97a8-5bc56c578437"
   },
   "outputs": [],
   "source": [
    "#| export\n",
    "\n",
    "bridge_js = BUNDLE_PATH / 'js/bridge.js'\n",
    "bridge_esm = bundled(bridge_js, bundle=__name__, bundler='copy')"
   ]
  },
  {
   "cell_type": "markdown",
   "metadata": {},
   "source": [
    "# Bridge bootstrap"
   ]
  },
  {
   "cell_type": "markdown",
   "metadata": {},
   "source": [
    "## BridgeBoot"
   ]
  },
  {
   "cell_type": "code",
   "execution_count": 32,
   "metadata": {
    "brd": "76898ee1-104b-4c4b-80bb-841fcc4d6fb7"
   },
   "outputs": [],
   "source": [
    "#| exporti\n",
    "\n",
    "class BridgeBoot(anywidget.AnyWidget, BlockingMixin, SingletonConfigurable):\n",
    "    _esm = anysource(bridge_esm(debugger=DEBUG), '''\n",
    "export default { \n",
    "    initialize({ model }) {\n",
    "        $Brd.model = model;\n",
    "        return () => $Brd.model = null;\n",
    "    }\n",
    "}\n",
    "''')\n",
    "    _css = LogCanvas_css\n",
    "\n",
    "    def __init__(self, *args, **kwargs):\n",
    "        self.on_msg(self.on_init_message)\n",
    "        super().__init__(*args, **kwargs)\n",
    "    @classmethod\n",
    "    async def create(cls, *args, **kwargs):\n",
    "        return await super().create(*args, factory=cls.instance, **kwargs)\n",
    "    def loaded(self): return not self._loading\n",
    "    def on_init_message(self, *_):\n",
    "        \"One-time init msg handler\"\n",
    "        self._loading = False\n",
    "        self.on_msg(self.on_init_message, remove=True)\n",
    "        time.sleep(0.1)\n",
    "        self.close()"
   ]
  },
  {
   "cell_type": "code",
   "execution_count": 33,
   "metadata": {
    "brd": "8e4d3276-ff5c-4a3b-9ce8-a4632695ff0e"
   },
   "outputs": [],
   "source": [
    "cleanupwidgets('bridge', clear=False)\n",
    "\n",
    "bridge = await BridgeBoot.create()\n",
    "test_eq(bridge.comm, None)"
   ]
  },
  {
   "cell_type": "code",
   "execution_count": 34,
   "metadata": {
    "brd": "fe9bbacc-3d3d-44a5-9a40-127d33e4d5f8"
   },
   "outputs": [],
   "source": [
    "test_eq(bridge.loaded(), True)"
   ]
  },
  {
   "cell_type": "code",
   "execution_count": 35,
   "metadata": {
    "brd": "6384a67b-c8f0-499a-913c-b19004677aa6"
   },
   "outputs": [],
   "source": [
    "#| exporti\n",
    "\n",
    "async def get_bridge(*args, **kwargs):\n",
    "    if not BridgeBoot.initialized():\n",
    "        bridge = await BridgeBoot.create(*args, **kwargs)\n",
    "        if not bridge.loaded(): bridge = None\n",
    "    else: \n",
    "        if not BridgeBoot.instance().loaded(): BridgeBoot.clear_instance()\n",
    "        bridge = BridgeBoot.instance()\n",
    "    return bridge\n",
    "\n",
    "# def get_bridge(*args, **kwargs):\n",
    "#     async def _arun(): return await _get_bridge(*args, **kwargs)\n",
    "#     with from_thread.start_blocking_portal() as portal: return portal.call(_arun)"
   ]
  },
  {
   "cell_type": "code",
   "execution_count": 36,
   "metadata": {
    "brd": "f4be431b-4c98-4d44-a138-cc760dd269e6"
   },
   "outputs": [],
   "source": [
    "test_is(await get_bridge(), bridge)"
   ]
  },
  {
   "cell_type": "markdown",
   "metadata": {},
   "source": [
    "## handle_message"
   ]
  },
  {
   "cell_type": "code",
   "execution_count": 37,
   "metadata": {
    "brd": "62ec857e-72c0-4d45-a95c-6620f1f35230"
   },
   "outputs": [],
   "source": [
    "#| export\n",
    "\n",
    "def handle_message(\n",
    "        o: Any, \n",
    "        *args: Any, \n",
    "        ctx:str, kind:str, \n",
    "        prefix:str='on_', forward:bool=True, forward_name:str='_msg_hndlr', \n",
    "        **kwargs: Any):\n",
    "    \"\"\"if `o` has an attr named `ctx`, look for a handler with the form `on_{kind}` \n",
    "    passing the rest of `msg` and `args` to it. \n",
    "    If `forward`and `o` has an attr named `forward_name`, call it with `o`, `msg` and `args`.\"\"\"\n",
    "    # print(f\"handle_message: {o=} {args=} {ctx=}, {kind=} {kwargs=}\")\n",
    "    if ctx in getattr(o, 'ctx_names', ()) and (fn := getattr(o, f\"{prefix}{kind}\", None)): fn(*args, **kwargs)\n",
    "    if forward and (fn := getattr(o, forward_name, None)): fn(o, *args, ctx=ctx, kind=kind, **kwargs)"
   ]
  },
  {
   "cell_type": "code",
   "execution_count": 38,
   "metadata": {
    "brd": "1d33e94e-58ff-43a4-82a3-ccc51d22de68"
   },
   "outputs": [
    {
     "name": "stdout",
     "output_type": "stream",
     "text": [
      "info ('hello',) {'info': 'initialized'}\n"
     ]
    }
   ],
   "source": [
    "class O:\n",
    "    ctx_names=set({'test'})\n",
    "    def on_info(self, *args, **kwargs): print('info', args, kwargs)\n",
    "\n",
    "o = O()\n",
    "handle_message(o, 'hello', ctx='test', kind='info', info='initialized')"
   ]
  },
  {
   "cell_type": "markdown",
   "metadata": {},
   "source": [
    "## BridgeWidget\n",
    "> Base class of widgets that setup or augment the bridge."
   ]
  },
  {
   "cell_type": "code",
   "execution_count": 39,
   "metadata": {
    "brd": "0259bbf6-8e30-48d1-83a7-0d42a816025f"
   },
   "outputs": [],
   "source": [
    "#| export\n",
    "\n",
    "class BridgeWidget(anywidget.AnyWidget, BlockingMixin):\n",
    "    _esm = anysource('''\n",
    "export default { \n",
    "    initialize({ model }) {\n",
    "        $Brd.model = model;\n",
    "        model.send({ ctx: model.get('ctx_name'), kind: 'info', info: 'loaded' });\n",
    "        return () => $Brd.model = null;\n",
    "    }\n",
    "}\n",
    "''')\n",
    "\n",
    "    ctx_name = T.Unicode('bridge').tag(sync=True)\n",
    "    ctx_names: set[str]\n",
    "    logger = T.Instance(NBLogger, default_value=NoopLogger())\n",
    "    \n",
    "    def __init__(self, msg_hndlr:Callable|None=None, **kwargs):\n",
    "        self._loading, self._pending, self._msg_hndlr = True, defaultdict(dict), msg_hndlr\n",
    "        self.on_msg(self.on_init_message)\n",
    "        super().__init__(**kwargs)\n",
    "        self.logger.log(f\"Loading {self.__class__.__name__}...\")\n",
    "        # Warning: AnyWidget calls `self.add_traits()`: self.__class__ before \n",
    "        # super()__init__ is not self.__class__ now\n",
    "        self.ctx_names = set(L(type(self).mro()).attrgot('ctx_name.default_value').filter())\n",
    "    \n",
    "    @classmethod\n",
    "    async def create(cls, *args, **kwargs):\n",
    "        if not await get_bridge(): raise RuntimeError(\"Bridge is not loaded.\")\n",
    "        self = await super().create(*args, **kwargs)\n",
    "        if self._loading: self.logger.log(f\"Timeout loading {cls.__name__}@{hex(id(self))}\")\n",
    "        else: self.logger.log(f\"----\")\n",
    "        return self\n",
    "\n",
    "    def msg(self, tracker:Any=None, **kwargs): \n",
    "        msg_id = new_id()\n",
    "        if tracker: self._pending[msg_id] = tracker\n",
    "        return update_(kwargs, msg_id=msg_id)\n",
    "\n",
    "    def on_info(self, *args, info:str, **kwargs):\n",
    "        \"Handle info messages from the front-end.\"\n",
    "        if info == 'loaded':\n",
    "            self.logger.log(f\"{self.__class__.__name__}@{hex(id(self))} loaded.\")\n",
    "            self.logger.log(str(vars(bridge_cfg)))\n",
    "        if info == 'model-setup':\n",
    "            self.logger.log(f\"{self.__class__.__name__}@{hex(id(self))} model set.\")\n",
    "        if info == 'model-unset':\n",
    "            self.logger.log(f\"{self.__class__.__name__}@{hex(id(self))} model unset.\")\n",
    "\n",
    "    def on_error(self, *args, error:str, **kwargs):\n",
    "        \"Handle error messages from the front-end.\"\n",
    "        self.logger.log(f\"{self.__class__.__name__}@{hex(id(self))} error: {error}\")\n",
    "\n",
    "    def on_init_message(self, _, content, buffers):\n",
    "        \"One-time init msg handler\"\n",
    "        self._loading = False\n",
    "        self.on_msg(self.on_init_message, remove=True)\n",
    "        self.on_msg(self.on_message)\n",
    "        handle_message(self, buffers, **content)\n",
    "    \n",
    "    def on_message(self, _, content, buffers):\n",
    "        tracker = self._pending[msg_id] if (msg_id := content.get('msg_id')) else None\n",
    "        handle_message(self, buffers, **content, tracker=tracker)\n",
    "        if msg_id and not tracker: self._pending.pop(msg_id)"
   ]
  },
  {
   "cell_type": "code",
   "execution_count": 40,
   "metadata": {
    "brd": "087ec07b-d25a-41f5-be5c-bb0ece449c13"
   },
   "outputs": [
    {
     "data": {
      "text/html": [
       "<div style='max-height: 100px; border: 1px solid black; overflow: auto;'><div>----</div>\n",
       "<div>{}</div>\n",
       "<div>BridgeWidget@0x13a2cbd40 loaded.</div>\n",
       "<div>BridgeWidget@0x13a2cbd40 model set.</div>\n",
       "<div>Loading BridgeWidget...</div></div>"
      ],
      "text/plain": [
       "<IPython.core.display.HTML object>"
      ]
     },
     "metadata": {
      "bridge": {
       "skip": true
      }
     },
     "output_type": "display_data"
    }
   ],
   "source": [
    "cleanupwidgets('brd', clear=False)\n",
    "# BridgeBoot._loading = True\n",
    "\n",
    "brd = await BridgeWidget.create(logger=BasicLogger(height=100))"
   ]
  },
  {
   "cell_type": "code",
   "execution_count": 41,
   "metadata": {
    "brd": "6d24700a-0e82-4f7d-b6d1-63a9d77a7ec9"
   },
   "outputs": [],
   "source": [
    "# brd.close()"
   ]
  },
  {
   "cell_type": "markdown",
   "metadata": {},
   "source": [
    "# Linking elements loader\n",
    "> `script` (and other links) loader for notebooks.\n",
    "\n",
    "With standard web apps, `FastHTML` way of loading `head` elements is fine, `head` links are execute in order (unless they have `async` or `defer` attributes) if present in HTML source.\n",
    "\n",
    "In notebooks, we need to load those `head` elements dinamically in order (in `head`, `body` or anywhere of the front-end page), and we need to load `fasthtml.js` (and `htmx.js` because why not) as soon as possible, so we can use them in the same cell to define our JS extensions.\n"
   ]
  },
  {
   "cell_type": "code",
   "execution_count": 42,
   "metadata": {
    "brd": "2599fbeb-b8cb-40bd-9ee5-08afc134e4bd"
   },
   "outputs": [],
   "source": [
    "#| export\n",
    "\n",
    "def Links(*fts: FT):\n",
    "    return Script(notdebug(\"\"\"\n",
    "if (window.$Ls) requestAnimationFrame(() => $Ls(%s));\n",
    "\"\"\" % to_js(*fts)), type='module')"
   ]
  },
  {
   "cell_type": "code",
   "execution_count": 43,
   "metadata": {
    "brd": "dd3b85d4-071a-4c58-bc25-d11fe2cd6f66"
   },
   "outputs": [],
   "source": [
    "#| export\n",
    "\n",
    "def load_links(*fts: FT, feedback: str=''):\n",
    "    dh = display(HTML(to_xml(Links(*fts)) + feedback), display_id=True)\n",
    "    # if not feedback and dh: dh.update(HTML(''))\n",
    "    # if not feedback: clear_output()"
   ]
  },
  {
   "cell_type": "code",
   "execution_count": 44,
   "metadata": {
    "brd": "1a90e940-e115-4b31-bc0f-01f59b4ef1d2"
   },
   "outputs": [
    {
     "data": {
      "text/html": [
       "<script type=\"module\">\n",
       "if (window.$Ls) requestAnimationFrame(() => $Ls([\n",
       "  ['script', [\"debugger;\\n\\n$Brd.logger.log('silly script');\\n\"], {'id': 'silly-script'}]\n",
       "]));\n",
       "</script>"
      ],
      "text/plain": [
       "<IPython.core.display.HTML object>"
      ]
     },
     "metadata": {},
     "output_type": "display_data"
    }
   ],
   "source": [
    "scr = Script(debug('''\n",
    "$Brd.logger.log('silly script');\n",
    "'''), id='silly-script')\n",
    "load_links(scr)"
   ]
  },
  {
   "cell_type": "code",
   "execution_count": 45,
   "metadata": {
    "brd": "24f2648b-dab8-465c-9a4b-30ea4972bfb3"
   },
   "outputs": [
    {
     "data": {
      "text/html": [
       "<script type=\"module\">\n",
       "if (window.$Ls) requestAnimationFrame(() => $Ls([\n",
       "  ['script', [\"debugger;\\n\\n$Brd.logger.log('silly script');\\n\"], {'id': 'silly-script'}]\n",
       "]));\n",
       "</script>"
      ],
      "text/plain": [
       "<IPython.core.display.HTML object>"
      ]
     },
     "metadata": {},
     "output_type": "display_data"
    }
   ],
   "source": [
    "load_links(scr)  # see console, script was not loaded twice"
   ]
  },
  {
   "cell_type": "markdown",
   "metadata": {},
   "source": [
    "`load_links` can be used to load any link element in the front-end in order. It will auto delete the loader after links are loaded if `feedback` is None so the link won't be reflected in the `.ipynb` file and loaded automatically on page open.\n",
    "\n",
    "Unfortunately, in some Jupyter environments like VSCode this only works if the cell is visible in the screen and is run interactively, not for `all below` or `all above`. VSCode only renders outputs that are visible. For an alternative, see `Loader` below.\n"
   ]
  },
  {
   "cell_type": "markdown",
   "metadata": {},
   "source": [
    "# BLogger"
   ]
  },
  {
   "cell_type": "code",
   "execution_count": 46,
   "metadata": {
    "brd": "470c0b1b-7bef-405b-8ac4-04bfb5013770"
   },
   "outputs": [],
   "source": [
    "#| export\n",
    "\n",
    "defaultLogConfig = {\n",
    "    'ns': 'brd',\n",
    "    'color': '#000000',\n",
    "    'fmt': 'htmlFmt',\n",
    "    'tsDelta': True,\n",
    "    'INFO': {\n",
    "        'level': 'INFO',\n",
    "    },\n",
    "    'ERROR': {\n",
    "        'level': 'ERROR',\n",
    "        'color': '#FF0000',\n",
    "    },\n",
    "}\n",
    "\n",
    "logger_js = BUNDLE_PATH / 'js/logger.js'\n",
    "logger_esm = bundled(logger_js, bundle=__name__, bundler='copy')\n",
    "\n",
    "class BLogger(anywidget.AnyWidget, NBLogger):\n",
    "    \"Configure a LogCanvas as the Bridge logger.\"\n",
    "    _esm = anysource(logger_esm(debugger=DEBUG), '''\n",
    "export default { \n",
    "    initialize({ model }) { return initLogger(model); }\n",
    "};\n",
    "''')\n",
    "    \n",
    "    canvas: LogCanvas\n",
    "    logger_config = T.Dict(default_value=defaultLogConfig).tag(sync=True)\n",
    "    elid = T.Unicode('').tag(sync=True)\n",
    "    \n",
    "    def __init__(self, canvas:LogCanvas|None=None, show:bool=True, **kwargs):\n",
    "        self.canvas = canvas or LogCanvas()\n",
    "        T.link((self.canvas, 'elid'), (self, 'elid'))\n",
    "        if show: \n",
    "            def _on_init_message(self, *_):\n",
    "                self.on_msg(_on_init_message, remove=True)\n",
    "                self.display()\n",
    "            self.on_msg(_on_init_message)\n",
    "        super().__init__(**kwargs)\n",
    "\n",
    "    def display(self, content:str=''): self.canvas.display(content)\n",
    "    \n",
    "    # @T.observe('canvas')\n",
    "    # def canvas_changed(self, change):\n",
    "    #     if change['new']: \n",
    "    #         self.logger_config = { **self.logger_config, 'elid': change['new'].elid }\n",
    "\n",
    "    def config(self, **kwargs): self.logger_config = { **self.logger_config, **kwargs }\n",
    "    def log(self, msg:str, clear:bool=False):\n",
    "        self.send({'rec':{'message':msg, 'level': 'INFO'}, 'clear':clear or None})\n",
    "    def clear_log(self): self.send({'clear':True})\n",
    "    def close(self, msg:str|None=None):\n",
    "        if self.comm is not None:\n",
    "            self.send({'rec':{ 'message':msg if msg else 'logger closed.', 'level': 'INFO' }})\n",
    "            self.send = FC.noop  # type: ignore\n",
    "            super().close()"
   ]
  },
  {
   "cell_type": "code",
   "execution_count": 47,
   "metadata": {
    "brd": "b7e33f9d-5662-4343-9c29-f7dd4019d831"
   },
   "outputs": [
    {
     "data": {
      "text/html": [
       "<div id='brd-logger-1' class='brd-logger' style='width: 100%; max-height: 200px;'></div>"
      ],
      "text/plain": [
       "<IPython.core.display.HTML object>"
      ]
     },
     "metadata": {},
     "output_type": "display_data"
    }
   ],
   "source": [
    "cleanupwidgets('lgr')\n",
    "\n",
    "lgr = BLogger()"
   ]
  },
  {
   "cell_type": "code",
   "execution_count": 50,
   "metadata": {
    "brd": "5d058b09-882e-4d05-bbdb-c0c59b374972"
   },
   "outputs": [],
   "source": [
    "lgr.log('bbbb')"
   ]
  },
  {
   "cell_type": "code",
   "execution_count": 51,
   "metadata": {
    "brd": "8b9b9a82-810a-45cb-9728-f03c23698bf8"
   },
   "outputs": [],
   "source": [
    "lgr.log('cccccc', True)\n"
   ]
  },
  {
   "cell_type": "code",
   "execution_count": 52,
   "metadata": {
    "brd": "cb77b033-36e2-4b49-97ee-62b0d26c8fd0"
   },
   "outputs": [
    {
     "data": {
      "text/html": [
       "<div id='brd-logger-2' class='brd-logger' style='width: 100%; max-height: 200px;'></div>"
      ],
      "text/plain": [
       "<IPython.core.display.HTML object>"
      ]
     },
     "metadata": {},
     "output_type": "display_data"
    }
   ],
   "source": [
    "lgr.display()"
   ]
  },
  {
   "cell_type": "code",
   "execution_count": 53,
   "metadata": {
    "brd": "f48e58a6-903d-4b12-8b5a-3bcf4b4f7c51"
   },
   "outputs": [],
   "source": [
    "lgr.log('ddddddddd')"
   ]
  },
  {
   "cell_type": "code",
   "execution_count": 54,
   "metadata": {
    "brd": "620a4abb-3720-4972-a108-2006fbeb6aa9"
   },
   "outputs": [],
   "source": [
    "brd.logger = lgr"
   ]
  },
  {
   "cell_type": "code",
   "execution_count": 55,
   "metadata": {
    "brd": "ea980931-6df2-4dbe-9f8e-d3154f87820e"
   },
   "outputs": [],
   "source": [
    "brd.logger.log('test1')"
   ]
  },
  {
   "cell_type": "code",
   "execution_count": 56,
   "metadata": {
    "brd": "65f8a466-b538-45da-bfcd-7f7f8a1639b9"
   },
   "outputs": [
    {
     "data": {
      "application/javascript": "$Brd.logger.log('test2');",
      "text/plain": [
       "<IPython.core.display.Javascript object>"
      ]
     },
     "execution_count": 56,
     "metadata": {},
     "output_type": "execute_result"
    }
   ],
   "source": [
    "Javascript('''$Brd.logger.log('test2');''')"
   ]
  },
  {
   "cell_type": "code",
   "execution_count": 57,
   "metadata": {
    "brd": "a8cf8a56-b151-4bb8-bcbd-598d7e2460d2"
   },
   "outputs": [],
   "source": [
    "lgr.close()"
   ]
  },
  {
   "cell_type": "code",
   "execution_count": 58,
   "metadata": {
    "brd": "e5062ea8-ed02-4f2c-a8a6-db11ebbfdbf6"
   },
   "outputs": [
    {
     "data": {
      "text/html": [
       "<div id='brd-logger-3' class='brd-logger' style='width: 100%; max-height: 200px;'>d<br>e<br>f<br></div>"
      ],
      "text/plain": [
       "<IPython.core.display.HTML object>"
      ]
     },
     "metadata": {},
     "output_type": "display_data"
    }
   ],
   "source": [
    "canvas = LogCanvas(height=200)\n",
    "canvas.display(f\"{'<br>'.join('def')}<br>\")"
   ]
  },
  {
   "cell_type": "code",
   "execution_count": 59,
   "metadata": {
    "brd": "d55e36fd-584f-4e41-beef-3cb4f133ece9"
   },
   "outputs": [
    {
     "data": {
      "text/html": [
       "<div id='brd-logger-4' class='brd-logger' style='width: 100%; max-height: 200px;'></div>"
      ],
      "text/plain": [
       "<IPython.core.display.HTML object>"
      ]
     },
     "metadata": {},
     "output_type": "display_data"
    }
   ],
   "source": [
    "cleanupwidgets('lgr')\n",
    "\n",
    "lgr = BLogger(canvas)"
   ]
  },
  {
   "cell_type": "code",
   "execution_count": 60,
   "metadata": {
    "brd": "6fa2e544-82ad-412f-a6f0-79224e85ff65"
   },
   "outputs": [],
   "source": [
    "lgr.log('gggg')"
   ]
  },
  {
   "cell_type": "code",
   "execution_count": 61,
   "metadata": {
    "brd": "34ae2ee9-b0fc-4a2f-ac4c-19813f8f5aa5"
   },
   "outputs": [],
   "source": [
    "lgr.clear_log()"
   ]
  },
  {
   "cell_type": "code",
   "execution_count": 62,
   "metadata": {
    "brd": "57d8bf71-38a6-40d0-aea4-2968812b23dd"
   },
   "outputs": [],
   "source": [
    "# lgr.close()"
   ]
  },
  {
   "cell_type": "markdown",
   "metadata": {},
   "source": [
    "# Loader\n",
    "> AnyWidget loader for JS modules.\n",
    "\n",
    "Load also bridge-js to bootstrap the bridge.\n"
   ]
  },
  {
   "cell_type": "code",
   "execution_count": 63,
   "metadata": {
    "brd": "677bd3b5-b6b2-43fa-a5aa-dac9886997d4"
   },
   "outputs": [],
   "source": [
    "#| export\n",
    "\n",
    "loader_js = BUNDLE_PATH / 'js/loader.js'\n",
    "loader_esm = bundled(loader_js, bundle=__name__, bundler='copy')\n",
    "\n",
    "class Loader(BridgeWidget, SingletonConfigurable):\n",
    "    _esm = anysource(loader_esm(debugger=DEBUG), '''\n",
    "export default { \n",
    "    initialize({ model }) { \n",
    "        $Brd.model = model;\n",
    "        initializeLoader(model);\n",
    "        model.send({ ctx: model.get('ctx_name'), kind: 'info', info: 'loaded' });\n",
    "        return () => $Brd.model = null;\n",
    "    }\n",
    "};\n",
    "''')\n",
    "\n",
    "    ctx_name = T.Unicode('loader').tag(sync=True)\n",
    "    lnks = {}\n",
    "    _loaded = T.Set()\n",
    "\n",
    "    def __init__(self, \n",
    "            lnks: dict[str, FT]|None = None, \n",
    "            esms: list[str|Path]|None = None, \n",
    "            *, logger:NBLogger|None=None, **kwargs\n",
    "        ):\n",
    "        if lnks: self.lnks = lnks\n",
    "        if logger is None: logger = BLogger(canvas=LogCanvas())\n",
    "        logger.display()\n",
    "        super().__init__(logger=logger, **kwargs)\n",
    "\n",
    "    @classmethod\n",
    "    async def create(cls, *args, **kwargs):\n",
    "        return await super().create(*args, factory=cls.instance, **kwargs)\n",
    "\n",
    "    def on_info(self, *args, info:str, **kwargs):\n",
    "        super().on_info(*args, info=info, **kwargs)\n",
    "        if info == 'loaded': # now we can initialize the scripts\n",
    "            self.load_links(**self.lnks)\n",
    "\n",
    "    def loaded(self, name:str|None=None):\n",
    "        if not name: return not self._loading\n",
    "        return name in self._loaded\n",
    "    \n",
    "    def on_load(self, *args, success:list[str], failed:list[dict[str,str]], tracker:dict, **kwargs):\n",
    "        for name in success: self.logger.log(f\"'{name}' loaded.\")\n",
    "        for res in failed: self.logger.log(f\"'{res['name']}' failed: {res['error']}\")\n",
    "        self._loaded = self._loaded.union(success)\n",
    "        \n",
    "    def on_loadLinks(self, *args, success:list[str], failed:list[dict[str,str]], tracker:dict, **kwargs):\n",
    "        for name in success: self.logger.log(f\"'{name}' loaded.\")\n",
    "        for res in failed: self.logger.log(f\"'{res['name']}' failed: {res['error']}\")\n",
    "        self._loaded = self._loaded.union(success)\n",
    "\n",
    "    def load(self, **esms: str|Path):\n",
    "        if not esms: return\n",
    "        msg = self.msg(esms, ctx='loader', cmd='load', \n",
    "            args={n:esm.read_text() if isinstance(esm, Path) else esm for n,esm in esms.items()})\n",
    "        self.send(msg)\n",
    "    def load_links(self, **lnks: FT):\n",
    "        if not lnks: return\n",
    "        msg = self.msg(lnks, ctx='loader', cmd='loadLinks', args={n:_to_js(_) for n,_ in lnks.items()})\n",
    "        self.send(msg)\n",
    "\n",
    "    async def _asend(self, msg, kind:str):\n",
    "        res = await self.asend(msg)\n",
    "        try:\n",
    "            msg_id = res[0]['msg_id']  # type: ignore\n",
    "            if msg_id in self._pending: self.logger.log(f\"Timeout loading {kind} {msg_id}\")\n",
    "        except Exception: pass\n",
    "    async def aload(self, **esms: str|Path):\n",
    "        if not esms: return\n",
    "        msg = self.msg(esms, ctx='loader', cmd='load', \n",
    "            args={n:esm.read_text() if isinstance(esm, Path) else esm for n,esm in esms.items()})\n",
    "        await self._asend(msg, 'ESMs')\n",
    "    async def aload_links(self, **lnks: FT):\n",
    "        if not lnks: return\n",
    "        msg = self.msg(lnks, ctx='loader', cmd='loadLinks', args={n:_to_js(_) for n,_ in lnks.items()})\n",
    "        await self._asend(msg, 'links')"
   ]
  },
  {
   "cell_type": "code",
   "execution_count": 64,
   "metadata": {
    "brd": "708770b0-90eb-4e93-bc39-ea370bad0cd0"
   },
   "outputs": [
    {
     "data": {
      "text/html": [
       "<div id='brd-logger-5' class='brd-logger' style='width: 100%; max-height: 200px;'></div>"
      ],
      "text/plain": [
       "<IPython.core.display.HTML object>"
      ]
     },
     "metadata": {},
     "output_type": "display_data"
    }
   ],
   "source": [
    "cleanupwidgets('loader')\n",
    "Loader.clear_instance()\n",
    "\n",
    "ldr = await Loader.create(dict(\n",
    "    test=Script('debugger;\\nconsole.log(\"test\")', id='test-script'),\n",
    "    test2=Script('debugger;\\nconsole.log(a)', id='test-script2')\n",
    "), logger=lgr)\n",
    "# ldr = Loader.instance(logger=lgr)"
   ]
  },
  {
   "cell_type": "code",
   "execution_count": 65,
   "metadata": {
    "brd": "eb760452-ded4-45de-8616-4659ba50e326"
   },
   "outputs": [],
   "source": [
    "# ldr.load_links(\n",
    "#     test=Script('debugger;\\nconsole.log(\"test\")', id='test-script'),\n",
    "#     test2=Script('debugger;\\nconsole.log(a)', id='test-script2')\n",
    "# )"
   ]
  },
  {
   "cell_type": "code",
   "execution_count": 66,
   "metadata": {
    "brd": "bfa6b51a-2208-453e-a339-77336edc6498"
   },
   "outputs": [],
   "source": [
    "await ldr.aload_links(\n",
    "    test3=Script('debugger;\\nconsole.log(\"test\")', id='test-script3'),\n",
    "    test4=Script('debugger;\\nconsole.log(a)', id='test-script4')\n",
    ")"
   ]
  },
  {
   "cell_type": "code",
   "execution_count": 67,
   "metadata": {
    "brd": "bfe6e4a4-d8ab-4741-a478-9f702df4d07b"
   },
   "outputs": [],
   "source": [
    "ldr.load(htmx1='''\n",
    "debugger;\n",
    "import htmx from \"https://unpkg.com/htmx.org@next/dist/htmx.esm.js\";\n",
    "console.log(htmx);\n",
    "''',\n",
    "    htmx2='''\n",
    "debugger;\n",
    "import htmx from \"https://unpkg.com/htmx.org@next/dist/XXXX.esm.js\";\n",
    "console.log(htmx);\n",
    "''')"
   ]
  },
  {
   "cell_type": "code",
   "execution_count": 68,
   "metadata": {
    "brd": "1df776ff-4d99-4fcf-a411-88e569e64a1f"
   },
   "outputs": [],
   "source": [
    "#| export\n",
    "\n",
    "# def get_loader():\n",
    "#     async def _arun(): return await Loader.create()\n",
    "#     with from_thread.start_blocking_portal() as portal: return portal.call(_arun)\n",
    "async def get_loader(*args, **kwargs): \n",
    "    if not Loader.initialized():\n",
    "        return await Loader.create(*args, **kwargs)\n",
    "    loader = Loader.instance()\n",
    "    loader.logger.display()\n",
    "    return loader"
   ]
  },
  {
   "cell_type": "code",
   "execution_count": 69,
   "metadata": {
    "brd": "05c9e771-fd2a-4135-a159-096afbc1412c"
   },
   "outputs": [
    {
     "data": {
      "text/html": [
       "<div id='brd-logger-6' class='brd-logger' style='width: 100%; max-height: 200px;'></div>"
      ],
      "text/plain": [
       "<IPython.core.display.HTML object>"
      ]
     },
     "metadata": {},
     "output_type": "display_data"
    }
   ],
   "source": [
    "loader = await get_loader()"
   ]
  },
  {
   "cell_type": "markdown",
   "metadata": {},
   "source": [
    "# ObserverManager\n",
    "> `MutationObserver` manager for `bridget`\n"
   ]
  },
  {
   "cell_type": "code",
   "execution_count": 70,
   "metadata": {
    "brd": "797cde8b-febe-449e-affb-4617ffeb0ade"
   },
   "outputs": [],
   "source": [
    "#| export\n",
    "\n",
    "observer_js = BUNDLE_PATH / 'js/observer.js'\n",
    "observer_scr = Script(debug(observer_js.read_text()), type='module', id='brd-observer-manager')"
   ]
  },
  {
   "cell_type": "code",
   "execution_count": 71,
   "metadata": {
    "brd": "078f4815-7105-40f8-9f1b-ed2a4835f968"
   },
   "outputs": [],
   "source": [
    "# observer_scr = Script(debug(f'''\n",
    "# const {{ default:getObserverManager }} = await import('./{observer_js}');\n",
    "# window.$Brd.observerManager = getObserverManager();\n",
    "# '''), type='module')"
   ]
  },
  {
   "cell_type": "code",
   "execution_count": 72,
   "metadata": {
    "brd": "334863f3-e09f-4d0d-a77e-d0f39303daee"
   },
   "outputs": [],
   "source": [
    "# brd.load(observer_js)"
   ]
  },
  {
   "cell_type": "code",
   "execution_count": 73,
   "metadata": {
    "brd": "2a6715c4-d8ff-474b-8f65-6e0d04722cb0"
   },
   "outputs": [
    {
     "data": {
      "text/html": [
       "<script type=\"module\">\n",
       "if (window.$Ls) requestAnimationFrame(() => $Ls([\n",
       "  ['script', ['debugger;\\n/**\\n * @typedef {Object} ObserverConfig\\n * @property {Element} target - Element to observe or null\\n * @property {MutationObserverInit} options - Observer configuration\\n * @property {Set<MutationCallback>} callbacks - Set of callback functions\\n */\\n\\nclass ObserverManager {\\n    constructor() {\\n        this.observers = new Map();  // name -> {observer, target, options, callbacks}\\n        this.active = new Set();\\n    }\\n\\n    has(name) { return this.observers.has(name); }\\n\\n    /**\\n     * Register a new observer or add callbacks to existing one\\n     * @param {string} name - Observer name\\n     * @param {ObserverConfig} config - Observer configuration\\n     * @param {boolean} autostart - Start observing immediately\\n     * @param {boolean} append - Add callbacks to existing observer\\n     * @returns {boolean} - True if registered or callbacks added\\n     */\\n    register(name, {target, options, callback}, autostart = false, append = false) {\\n        if (this.has(name)) {\\n            if (!append) return false;\\n            this.addCallback(name, callback);\\n        } else {\\n            const callbacks = new Set([callback]);\\n            const observer = new MutationObserver(records => {\\n                const config = this.observers.get(name);\\n                config.callbacks.forEach(cb => cb(records));\\n            });\\n            this.observers.set(name, {observer, target, options, callbacks});\\n        }\\n        if (autostart) this.start(name);\\n        return true;\\n    }\\n\\n    isEmpty(name) { return !this.has(name) || this.observers.get(name).callbacks.size === 0; }\\n    addCallback(name, callback) {\\n        if (!this.has(name)) return false;\\n        const config = this.observers.get(name);\\n        config.callbacks.add(callback);\\n        return true;\\n    }\\n\\n    removeCallback(name, callback) {\\n        if (!this.has(name)) return false;\\n        const config = this.observers.get(name);\\n        return config.callbacks.delete(callback);\\n    }\\n\\n    hasCallback(name, callback) {\\n        if (!this.has(name)) return false;\\n        const config = this.observers.get(name);\\n        return config.callbacks.has(callback);\\n    }\\n\\n    unregister(name) {\\n        if (!this.has(name)) return;\\n        const config = this.observers.get(name);\\n        this.stop(name);\\n        config.callbacks.clear();\\n        this.observers.delete(name);\\n    }\\n\\n    isActive(name) { return this.active.has(name); }\\n\\n    start(name, {target: _target, options: _options} = {}) {\\n        if (!this.has(name) || this.isActive(name)) return;\\n        const config = this.observers.get(name);\\n        // Must provide new target if previous was removed\\n        if (!config.target && !_target) return;\\n        const finalConfig = {\\n            ...config,\\n            target: _target ?? config.target,\\n            options: _options ?? config.options\\n        };\\n        this.observers.set(name, finalConfig);\\n        finalConfig.observer.observe(finalConfig.target, finalConfig.options);\\n        this.active.add(name);\\n    }\\n\\n    stop(name, {removeTarget = false} = {}) {\\n        if (!this.has(name) || !this.isActive(name)) return;\\n        const config = this.observers.get(name);\\n        config.observer.disconnect();\\n        if (removeTarget) config.target = null;  // Mark target as needing replacement\\n        this.active.delete(name);\\n    }\\n\\n}\\n\\n/** Get or create the global ObserverManager instance\\n * @returns {ObserverManager}\\n */\\nfunction getObserverManager() {\\n    window.observerManager ??= new ObserverManager();\\n    return window.observerManager;\\n}\\n\\nif (window.$Brd) window.$Brd.observerManager = getObserverManager();\\n\\nexport default getObserverManager;\\n'], {'type': 'module', 'id': 'brd-observer-manager'}]\n",
       "]));\n",
       "</script>"
      ],
      "text/plain": [
       "<IPython.core.display.HTML object>"
      ]
     },
     "metadata": {},
     "output_type": "display_data"
    }
   ],
   "source": [
    "load_links(observer_scr)"
   ]
  },
  {
   "cell_type": "code",
   "execution_count": 74,
   "metadata": {
    "brd": "cbe95b26-dc9e-4696-a873-8007ba4c414e"
   },
   "outputs": [],
   "source": [
    "observer_esm = bundled(observer_js, bundle=__name__)\n",
    "loader.load(observer=observer_esm(debugger=True))"
   ]
  },
  {
   "cell_type": "markdown",
   "metadata": {},
   "source": [
    "# FastHTML Jupyter display\n",
    "\n",
    "Opt-in to display FastHTML objects in the notebook as HTML instead of the default markdown `repr`.\n",
    "\n",
    ":::{.callout-warning    }\n",
    "Note recent FastHTML [v0.9.0](https://github.com/AnswerDotAI/fasthtml/releases/tag/0.9.0) has improved Jupyter support substancially and now have this same functionality (with `render_ft`, in v0.9.1 on by default).\n",
    "\n",
    "Unfortunately, current implementation doesn't work in VSCode/Cursor and probably any other Jupyter-ish environment that sandbox notebook outputs.\n",
    "\n",
    "In VSCode/Cursor besides that, `render_ft` doesn't work as expected, as Quarto renders markdown in a static shadow-root.\n",
    ":::\n"
   ]
  },
  {
   "cell_type": "markdown",
   "metadata": {},
   "source": [
    "## Patching FastHTML jupyter to work in VSCode"
   ]
  },
  {
   "cell_type": "code",
   "execution_count": 75,
   "metadata": {
    "brd": "c3b8c506-36ca-4ae8-8e70-54ac976c7497"
   },
   "outputs": [],
   "source": [
    "#| exporti\n",
    "\n",
    "def htmx_config_port(host='localhost', port=8000):\n",
    "    display(HTML('''\n",
    "<script>\n",
    "document.body.addEventListener('htmx:configRequest', (event) => {\n",
    "    if(event.detail.path.includes('://')) return;\n",
    "    htmx.config.selfRequestsOnly=false;\n",
    "    event.detail.path = `http://%s:%s${event.detail.path}`;\n",
    "});\n",
    "</script>''' % (host, port)))"
   ]
  },
  {
   "cell_type": "code",
   "execution_count": 76,
   "metadata": {
    "brd": "1da7221b-1661-4cd8-82cc-39def1fc461b"
   },
   "outputs": [],
   "source": [
    "#| export\n",
    "\n",
    "class JupyUviB(JupyUvi):\n",
    "    \"Start and stop a Jupyter compatible uvicorn server with ASGI `app` on `port` with `log_level`\"\n",
    "    def __init__(self, app, log_level=\"error\", host='0.0.0.0', port=8000, start=True, **kwargs):\n",
    "        self.kwargs = kwargs\n",
    "        FC.store_attr(but='start')\n",
    "        self.server = None\n",
    "        if start: self.start()\n",
    "        htmx_config_port(host, port)"
   ]
  },
  {
   "cell_type": "code",
   "execution_count": 77,
   "metadata": {
    "brd": "307e92bc-53a5-42c3-8e2f-05ca6ca022a6"
   },
   "outputs": [
    {
     "data": {
      "text/html": [
       "\n",
       "<script>\n",
       "document.body.addEventListener('htmx:configRequest', (event) => {\n",
       "    if(event.detail.path.includes('://')) return;\n",
       "    htmx.config.selfRequestsOnly=false;\n",
       "    event.detail.path = `http://0.0.0.0:8000${event.detail.path}`;\n",
       "});\n",
       "</script>"
      ],
      "text/plain": [
       "<IPython.core.display.HTML object>"
      ]
     },
     "metadata": {},
     "output_type": "display_data"
    }
   ],
   "source": [
    "app = FastHTML()\n",
    "rt = app.route\n",
    "\n",
    "@app.route\n",
    "def index(): return 'hi'\n",
    "\n",
    "port = 8000\n",
    "server = JupyUviB(app, port=port)"
   ]
  },
  {
   "cell_type": "code",
   "execution_count": 78,
   "metadata": {
    "brd": "e83962af-1b5c-45e6-a54f-c5428c33d08e"
   },
   "outputs": [
    {
     "data": {
      "text/plain": [
       "'hi'"
      ]
     },
     "execution_count": 78,
     "metadata": {},
     "output_type": "execute_result"
    }
   ],
   "source": [
    "get(f'http://localhost:{port}').text"
   ]
  },
  {
   "cell_type": "code",
   "execution_count": 79,
   "metadata": {
    "brd": "5c9ad37d-23c6-40ea-9930-7e64809ee530"
   },
   "outputs": [],
   "source": [
    "fh_cfg['auto_id']=True"
   ]
  },
  {
   "cell_type": "code",
   "execution_count": 80,
   "metadata": {
    "brd": "53177332-dd30-44ce-aa56-1e1d5ff05935"
   },
   "outputs": [],
   "source": [
    "show(Script(src='https://unpkg.com/htmx.org@2.0.4/dist/htmx.js'), fhjsscr, scopesrc, surrsrc)\n",
    "clear_output()"
   ]
  },
  {
   "cell_type": "code",
   "execution_count": 81,
   "metadata": {
    "brd": "5ebdf468-29c0-4666-90c0-d2ad9a401861"
   },
   "outputs": [],
   "source": [
    "display(Javascript('''\n",
    "if (window.htmx) htmx.process(document.body);\n",
    "'''))\n",
    "clear_output()"
   ]
  },
  {
   "cell_type": "code",
   "execution_count": 82,
   "metadata": {
    "brd": "8ab0673b-1955-4f6e-8ee7-d958b584d880"
   },
   "outputs": [],
   "source": [
    "#| exporti\n",
    "\n",
    "def render_ft():\n",
    "    @FC.patch\n",
    "    def _repr_html_(self:FT): \n",
    "        return to_xml(\n",
    "            (Div(self), \n",
    "            Script('if (window.htmx) htmx.process(document.body)'))\n",
    "        )"
   ]
  },
  {
   "cell_type": "code",
   "execution_count": 83,
   "metadata": {
    "brd": "341f90a3-10b9-4d1e-8e34-9c5d557870dd"
   },
   "outputs": [],
   "source": [
    "render_ft()"
   ]
  },
  {
   "cell_type": "markdown",
   "metadata": {},
   "source": [
    "After importing `fasthtml.jupyter` and calling `render_ft()`, FT components render directly in the notebook."
   ]
  },
  {
   "cell_type": "code",
   "execution_count": 84,
   "metadata": {
    "brd": "132c26ea-06a1-47d7-8467-f04f18f191a7"
   },
   "outputs": [
    {
     "data": {
      "text/html": [
       "<div id=\"_mB4lPA8eQDaQruffAOJNUw\">\n",
       "  <div id=\"_sewRlTP8SJ6bE0YlSXh0sQ\">Cogito ergo sum</div>\n",
       "</div>\n",
       "<script id=\"_ityGeS98SFGDg1VX36uGzQ\">if (window.htmx) htmx.process(document.body)</script>"
      ],
      "text/markdown": [
       "```html\n",
       "<div id=\"_sewRlTP8SJ6bE0YlSXh0sQ\">Cogito ergo sum</div>\n",
       "\n",
       "```"
      ],
      "text/plain": [
       "div(('Cogito ergo sum',),{'id': '_sewRlTP8SJ6bE0YlSXh0sQ'})"
      ]
     },
     "execution_count": 84,
     "metadata": {},
     "output_type": "execute_result"
    }
   ],
   "source": [
    "(c := Div('Cogito ergo sum'))"
   ]
  },
  {
   "cell_type": "markdown",
   "metadata": {},
   "source": [
    "Handlers are written just like a regular web app:"
   ]
  },
  {
   "cell_type": "code",
   "execution_count": 85,
   "metadata": {
    "brd": "534ccd0d-8e4c-4e80-9ea6-e5a2e39415db"
   },
   "outputs": [],
   "source": [
    "@rt\n",
    "def hoho(): return P('loaded!'), Div('hee hee', id=c, hx_swap_oob='true')"
   ]
  },
  {
   "cell_type": "markdown",
   "metadata": {},
   "source": [
    "All the usual `hx_*` attributes can be used:"
   ]
  },
  {
   "cell_type": "code",
   "execution_count": 86,
   "metadata": {
    "brd": "ad343bd1-6e6f-4b09-9e8e-db1f172d98bd"
   },
   "outputs": [
    {
     "data": {
      "text/html": [
       "<div id=\"_PPFfFHW5SBafNSHRT6KIeg\">\n",
       "  <p hx-get=\"/hoho\" hx-trigger=\"load\" id=\"_mozl89pQRcqxzjpJU5YBQA\">not loaded</p>\n",
       "</div>\n",
       "<script id=\"_SqQIHaRoSOGa0sOJP2XqYQ\">if (window.htmx) htmx.process(document.body)</script>"
      ],
      "text/markdown": [
       "```html\n",
       "<p hx-get=\"/hoho\" hx-trigger=\"load\" id=\"_mozl89pQRcqxzjpJU5YBQA\">not loaded</p>\n",
       "\n",
       "```"
      ],
      "text/plain": [
       "p(('not loaded',),{'hx-get': <fasthtml.core._mk_locfunc.<locals>._lf object at 0x13a783770>, 'hx-trigger': 'load', 'id': '_mozl89pQRcqxzjpJU5YBQA'})"
      ]
     },
     "execution_count": 86,
     "metadata": {},
     "output_type": "execute_result"
    }
   ],
   "source": [
    "P('not loaded', hx_get=hoho, hx_trigger='load')"
   ]
  },
  {
   "cell_type": "markdown",
   "metadata": {},
   "source": [
    "FT components can be used directly both as `id` values and as `hx_target` values."
   ]
  },
  {
   "cell_type": "code",
   "execution_count": 87,
   "metadata": {
    "brd": "1cfb5450-344d-4933-988e-50fffddcc0ad"
   },
   "outputs": [
    {
     "data": {
      "text/html": [
       "<div id=\"_LEeDAv67TimcPByrx7qgWw\">\n",
       "  <div id=\"_-7gkQDugT9iVn1yIqjRieg\"></div>\n",
       "</div>\n",
       "<script id=\"_GjiyVa79TZySjxpYKmWKQg\">if (window.htmx) htmx.process(document.body)</script>"
      ],
      "text/markdown": [
       "```html\n",
       "<div id=\"_-7gkQDugT9iVn1yIqjRieg\"></div>\n",
       "\n",
       "```"
      ],
      "text/plain": [
       "div(('',),{'id': '_-7gkQDugT9iVn1yIqjRieg'})"
      ]
     },
     "execution_count": 87,
     "metadata": {},
     "output_type": "execute_result"
    }
   ],
   "source": [
    "(c := Div(''))"
   ]
  },
  {
   "cell_type": "code",
   "execution_count": 88,
   "metadata": {
    "brd": "cb317ab3-241a-468e-add9-2dcd50542d8b"
   },
   "outputs": [
    {
     "data": {
      "text/html": [
       "<div id=\"_pM8Ir6e6Q76dP9UKSu5sKg\">\n",
       "  <p hx-get=\"/foo\" hx-trigger=\"load\" hx-target=\"#_-7gkQDugT9iVn1yIqjRieg\" id=\"_mQJD2fVPSWuDFCLd36QKVw\">hi</p>\n",
       "</div>\n",
       "<script id=\"_iFYre25eSZ_-Jgq3d1Q2qw\">if (window.htmx) htmx.process(document.body)</script>"
      ],
      "text/markdown": [
       "```html\n",
       "<p hx-get=\"/foo\" hx-trigger=\"load\" hx-target=\"#_-7gkQDugT9iVn1yIqjRieg\" id=\"_mQJD2fVPSWuDFCLd36QKVw\">hi</p>\n",
       "\n",
       "```"
      ],
      "text/plain": [
       "p(('hi',),{'hx-get': <fasthtml.core._mk_locfunc.<locals>._lf object at 0x13a2cb290>, 'hx-trigger': 'load', 'hx-target': '#_-7gkQDugT9iVn1yIqjRieg', 'id': '_mQJD2fVPSWuDFCLd36QKVw'})"
      ]
     },
     "execution_count": 88,
     "metadata": {},
     "output_type": "execute_result"
    }
   ],
   "source": [
    "@rt\n",
    "def foo(): return Div('foo bar')\n",
    "\n",
    "P('hi', hx_get=foo, hx_trigger='load', hx_target=c)"
   ]
  },
  {
   "cell_type": "markdown",
   "metadata": {},
   "source": [
    "## Stop server\n",
    "----"
   ]
  },
  {
   "cell_type": "code",
   "execution_count": 89,
   "metadata": {
    "brd": "8fb0fcad-10c1-4ac3-a0d8-ec21a910c071"
   },
   "outputs": [],
   "source": [
    "server.stop()"
   ]
  },
  {
   "cell_type": "markdown",
   "metadata": {},
   "source": [
    "----\n"
   ]
  },
  {
   "cell_type": "markdown",
   "metadata": {},
   "source": [
    "# brd-mark"
   ]
  },
  {
   "cell_type": "code",
   "execution_count": 90,
   "metadata": {
    "brd": "c8eb9509-9e40-4594-9e48-0156b22b6811"
   },
   "outputs": [],
   "source": [
    "#| export\n",
    "_all_ = ['Brd_Mark']\n",
    "\n",
    "Brd_Mark = FT('brd-mark', (), {})\n",
    "\n",
    "marker_js = '''\n",
    "if (!customElements.get('brd-mark')) {\n",
    "    class BridgetMarker extends HTMLElement {\n",
    "        connectedCallback() {\n",
    "            this.style.display = 'none';\n",
    "            const pel = this.parentElement;\n",
    "            if (pel) {\n",
    "                const bridgetId = this.getAttribute('id');\n",
    "                if (bridgetId) {\n",
    "                    if (!pel.hasAttribute('data-brt-id')) pel.setAttribute('data-brt-id', bridgetId);\n",
    "                    $Brd.logger.log('bridget marker set', bridgetId);\n",
    "                    this.remove();\n",
    "                }\n",
    "                if (window.htmx) htmx.process(pel);\n",
    "            }\n",
    "        }\n",
    "    }\n",
    "    customElements.define('brd-mark', BridgetMarker);\n",
    "    $Brd.logger.log('brd-mark defined');\n",
    "} else {\n",
    "    $Brd.logger.log('brd-mark is already defined');\n",
    "}\n",
    "'''\n",
    "\n",
    "marker_scr = Script(notdebug(marker_js), id='brd-mark')"
   ]
  },
  {
   "cell_type": "code",
   "execution_count": 91,
   "metadata": {
    "brd": "2b80cbee-9058-4a58-9cb8-3db7a79d4b15"
   },
   "outputs": [
    {
     "data": {
      "text/html": [
       "<script type=\"module\" id=\"_nI3lMwuNTDiL_rhRUIbM0g\">\n",
       "if (window.$Ls) requestAnimationFrame(() => $Ls([\n",
       "  ['script', [\"\\nif (!customElements.get('brd-mark')) {\\n    class BridgetMarker extends HTMLElement {\\n        connectedCallback() {\\n            this.style.display = 'none';\\n            const pel = this.parentElement;\\n            if (pel) {\\n                const bridgetId = this.getAttribute('id');\\n                if (bridgetId) {\\n                    if (!pel.hasAttribute('data-brt-id')) pel.setAttribute('data-brt-id', bridgetId);\\n                    $Brd.logger.log('bridget marker set', bridgetId);\\n                    this.remove();\\n                }\\n                if (window.htmx) htmx.process(pel);\\n            }\\n        }\\n    }\\n    customElements.define('brd-mark', BridgetMarker);\\n    $Brd.logger.log('brd-mark defined');\\n} else {\\n    $Brd.logger.log('brd-mark is already defined');\\n}\\n\"], {'id': 'brd-mark'}]\n",
       "]));\n",
       "</script>"
      ],
      "text/plain": [
       "<IPython.core.display.HTML object>"
      ]
     },
     "metadata": {},
     "output_type": "display_data"
    }
   ],
   "source": [
    "load_links(marker_scr)"
   ]
  },
  {
   "cell_type": "code",
   "execution_count": 92,
   "metadata": {
    "brd": "2de71653-8fac-448b-8f9d-2096935f3320"
   },
   "outputs": [
    {
     "data": {
      "text/html": [
       "aaaa<brd-mark id=\"marker-123\">"
      ],
      "text/plain": [
       "<IPython.core.display.HTML object>"
      ]
     },
     "metadata": {},
     "output_type": "display_data"
    }
   ],
   "source": [
    "marker = 'aaaa<brd-mark id=\"marker-123\">'\n",
    "display(HTML(marker))"
   ]
  },
  {
   "cell_type": "code",
   "execution_count": 93,
   "metadata": {
    "brd": "ee79a19f-1141-4167-9ff4-ccfb7c97d008"
   },
   "outputs": [
    {
     "name": "stdout",
     "output_type": "stream",
     "text": [
      "asdf\n",
      "werwqert\n"
     ]
    }
   ],
   "source": [
    "print('asdf\\nwerwqert')"
   ]
  },
  {
   "cell_type": "code",
   "execution_count": 94,
   "metadata": {
    "brd": "26cccf83-824b-4441-83e9-ee4cfbc65310"
   },
   "outputs": [
    {
     "data": {
      "text/html": [
       "<div class=\"bridge\">aaaa</div><brd-mark id=\"marker-1234\"></brd-mark>"
      ],
      "text/plain": [
       "<IPython.core.display.HTML object>"
      ]
     },
     "metadata": {},
     "output_type": "display_data"
    },
    {
     "data": {
      "text/html": [
       "<div class=\"bridge\">bbbb</div><brd-mark id=\"marker-12345\"></brd-mark>"
      ],
      "text/plain": [
       "<IPython.core.display.HTML object>"
      ]
     },
     "metadata": {},
     "output_type": "display_data"
    }
   ],
   "source": [
    "display(HTML('<div class=\"bridge\">aaaa</div><brd-mark id=\"marker-1234\"></brd-mark>'))\n",
    "display(HTML('<div class=\"bridge\">bbbb</div><brd-mark id=\"marker-12345\"></brd-mark>'))"
   ]
  },
  {
   "cell_type": "code",
   "execution_count": 95,
   "metadata": {
    "brd": "93525ecb-24fa-46a3-91ad-0a1f19c3120e"
   },
   "outputs": [
    {
     "data": {
      "text/html": [
       "<brd-mark id=\"b609f6f9b-757c2863-bc688a2f-1b546bd1\"></brd-mark>"
      ],
      "text/plain": [
       "<IPython.core.display.HTML object>"
      ]
     },
     "execution_count": 95,
     "metadata": {},
     "output_type": "execute_result"
    }
   ],
   "source": [
    "HTML(to_xml(Brd_Mark(id=new_id())))"
   ]
  },
  {
   "cell_type": "markdown",
   "metadata": {},
   "source": [
    "# Colophon\n",
    "----\n"
   ]
  },
  {
   "cell_type": "code",
   "execution_count": 1,
   "metadata": {
    "brd": "ee957b11-14a0-4e3d-8765-58117f4a7d51"
   },
   "outputs": [],
   "source": [
    "import fastcore.all as FC\n",
    "import nbdev\n",
    "from nbdev.clean import nbdev_clean"
   ]
  },
  {
   "cell_type": "code",
   "execution_count": 2,
   "metadata": {
    "brd": "289f3b9e-7e5c-4762-8b9e-de491d6e1ad2"
   },
   "outputs": [],
   "source": [
    "if FC.IN_NOTEBOOK:\n",
    "    nb_path = '14_bridge_helpers.ipynb'\n",
    "    # nbdev_clean(nb_path)\n",
    "    nbdev.nbdev_export(nb_path)\n"
   ]
  }
 ],
 "metadata": {
  "kernelspec": {
   "display_name": "Python 3",
   "language": "python",
   "name": "python3"
  },
  "language_info": {
   "codemirror_mode": {
    "name": "ipython",
    "version": 3
   },
   "file_extension": ".py",
   "mimetype": "text/x-python",
   "name": "python",
   "nbconvert_exporter": "python",
   "pygments_lexer": "ipython3",
   "version": "3.12.8"
  },
  "widgets": {
   "application/vnd.jupyter.widget-state+json": {
    "state": {},
    "version_major": 2,
    "version_minor": 0
   }
  }
 },
 "nbformat": 4,
 "nbformat_minor": 4
}
