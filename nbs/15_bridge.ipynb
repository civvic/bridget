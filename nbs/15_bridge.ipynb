{
 "cells": [
  {
   "cell_type": "code",
   "execution_count": 1,
   "metadata": {
    "brd": "7c046d18-72e5-4577-bb6f-8bfdbea669c1"
   },
   "outputs": [],
   "source": [
    "#| default_exp bridge"
   ]
  },
  {
   "cell_type": "code",
   "execution_count": 2,
   "metadata": {
    "brd": "074d86ca-3c2c-42fe-9ff5-771627461fee"
   },
   "outputs": [],
   "source": [
    "#| export\n",
    "from __future__ import annotations"
   ]
  },
  {
   "cell_type": "markdown",
   "metadata": {},
   "source": [
    "# Bridge\n",
    "> A bridge from back to front.  \n",
    "> Helpers for easing access to the front end from the Python kernel.\n",
    "\n",
    "Here I use pure python/IPython facilities to help us control, inspect and modify cell outputs.   \n",
    "In subsequent notebooks I'll add more facilities to help us capture the current state of the notebook (21_nbstate.ipynb) and make the link bidirectional (32_bridget.ipynb).\n"
   ]
  },
  {
   "cell_type": "markdown",
   "metadata": {},
   "source": [
    "# Prologue"
   ]
  },
  {
   "cell_type": "code",
   "execution_count": 3,
   "metadata": {
    "brd": "82d4fd00-4654-4184-81ab-1525f25cd2dc"
   },
   "outputs": [],
   "source": [
    "#| export\n",
    "\n",
    "import os\n",
    "import sys\n",
    "from collections import deque\n",
    "from contextlib import contextmanager\n",
    "from functools import cached_property\n",
    "from typing import Literal\n",
    "from typing import TypeAlias\n",
    "\n",
    "import fastcore.all as FC\n",
    "import traitlets as T\n",
    "from fastcore.xml import to_xml\n",
    "from fasthtml.core import FT\n",
    "from fasthtml.xtend import Script\n",
    "from IPython.core.displayhook import CapturingDisplayHook\n",
    "from IPython.core.getipython import get_ipython\n",
    "from IPython.core.interactiveshell import InteractiveShell\n",
    "from IPython.display import display\n",
    "from IPython.display import DisplayHandle\n",
    "from IPython.display import HTML\n",
    "from IPython.utils.capture import CapturedIO\n",
    "from olio.common import shortens\n",
    "from olio.common import update_\n",
    "from traitlets.config import SingletonConfigurable"
   ]
  },
  {
   "cell_type": "code",
   "execution_count": 4,
   "metadata": {
    "brd": "d76265ac-bec6-4b0f-af36-8f057207af4e"
   },
   "outputs": [],
   "source": [
    "os.environ['DEBUG'] = 'True'"
   ]
  },
  {
   "cell_type": "code",
   "execution_count": 5,
   "metadata": {
    "brd": "e0610f92-a3a2-45da-ab4f-763368ba9271"
   },
   "outputs": [],
   "source": [
    "#| export\n",
    "\n",
    "from bridget.bridge_helpers import BLogger\n",
    "from bridget.bridge_helpers import Brd_Mark\n",
    "from bridget.bridge_helpers import BridgeWidget\n",
    "from bridget.bridge_helpers import debug\n",
    "from bridget.bridge_helpers import Loader\n",
    "from bridget.bridge_helpers import marker_scr\n",
    "from bridget.bridge_helpers import observer_scr\n",
    "from bridget.bridge_helpers import ScriptsDetails\n",
    "from bridget.helpers import bridge_cfg\n",
    "from bridget.helpers import bundle_path\n",
    "from bridget.helpers import id_gen\n",
    "from bridget.helpers import skip\n",
    "from bridget.widget_helpers import anysource\n",
    "from bridget.widget_helpers import bundled"
   ]
  },
  {
   "cell_type": "code",
   "execution_count": 6,
   "metadata": {
    "brd": "9dc25460-55a1-4e4c-98d4-98537c23b70a"
   },
   "outputs": [],
   "source": [
    "import inspect\n",
    "import json\n",
    "import operator\n",
    "import time\n",
    "from inspect import Parameter \n",
    "from pathlib import Path\n",
    "from typing import Any\n",
    "from typing import Callable\n",
    "from typing import cast\n",
    "from typing import DefaultDict\n",
    "from typing import Iterable\n",
    "from typing import Protocol\n",
    "from typing import Self\n",
    "\n",
    "import anywidget\n",
    "import fasthtml.components as ft\n",
    "from fastcore.all import L\n",
    "from fastcore.all import NotStr\n",
    "from fastcore.test import *\n",
    "from fastcore.xml import escape\n",
    "from fasthtml.components import highlight\n",
    "from fasthtml.components import showtags\n",
    "from fasthtml.core import FastHTML\n",
    "from fasthtml.core import fh_cfg\n",
    "from fasthtml.jupyter import JupyUvi\n",
    "from httpx import get\n",
    "from IPython.display import clear_output\n",
    "from IPython.display import Javascript\n",
    "from IPython.display import Markdown\n",
    "from IPython.utils.capture import capture_output\n",
    "from IPython.utils.capture import RichOutput\n",
    "from olio.common import gets\n",
    "from olio.common import setup_console\n",
    "from olio.common import shorten"
   ]
  },
  {
   "cell_type": "code",
   "execution_count": 7,
   "metadata": {
    "brd": "e6013380-6f5c-43f3-a69b-877942767659"
   },
   "outputs": [],
   "source": [
    "from bridget.bridge_helpers import _to_js\n",
    "from bridget.bridge_helpers import get_loader\n",
    "from bridget.bridge_helpers import handle_message\n",
    "from bridget.bridge_helpers import LogCanvas\n",
    "from bridget.bridge_helpers import notdebug\n",
    "from bridget.display_helpers import BasicLogger\n",
    "from bridget.display_helpers import NBLogger\n",
    "from bridget.widget_helpers import cleanupwidgets\n",
    "from bridget.widget_helpers import ScriptV"
   ]
  },
  {
   "cell_type": "code",
   "execution_count": 8,
   "metadata": {
    "brd": "0a3593f1-59f3-448b-8f42-6b1bcbc4c055"
   },
   "outputs": [],
   "source": [
    "from fasthtml.components import Div, P, Pre, Text, Span, show, B, Details, Summary, Pre"
   ]
  },
  {
   "cell_type": "markdown",
   "metadata": {},
   "source": [
    "----\n"
   ]
  },
  {
   "cell_type": "code",
   "execution_count": 9,
   "metadata": {
    "brd": "b56e2228-e7d4-47c8-857b-bafeadda9bf0"
   },
   "outputs": [],
   "source": [
    "#| exporti\n",
    "\n",
    "DEBUG = os.environ.get('DEBUG', None) == 'True'\n",
    "BUNDLE_PATH = bundle_path(__name__)\n",
    "new_id = id_gen()\n",
    "_n = '\\n'"
   ]
  },
  {
   "cell_type": "code",
   "execution_count": 10,
   "metadata": {
    "brd": "82495259-2172-4dd2-8459-2aa0b971769e"
   },
   "outputs": [],
   "source": [
    "console, cprint = setup_console(140)\n",
    "IDISPLAY = display"
   ]
  },
  {
   "cell_type": "code",
   "execution_count": 11,
   "metadata": {
    "brd": "7e6dab01-309e-45e1-b5ac-ad3b5b1d0572"
   },
   "outputs": [],
   "source": [
    "# needed for vfile:\n",
    "%load_ext anywidget"
   ]
  },
  {
   "cell_type": "code",
   "execution_count": 12,
   "metadata": {
    "brd": "bb6dfdbc-242f-42f7-90fd-4db8c31a863a"
   },
   "outputs": [
    {
     "name": "stdout",
     "output_type": "stream",
     "text": [
      "env: ANYWIDGET_HMR=0\n"
     ]
    }
   ],
   "source": [
    "%env ANYWIDGET_HMR=0"
   ]
  },
  {
   "cell_type": "markdown",
   "metadata": {},
   "source": [
    "----"
   ]
  },
  {
   "cell_type": "markdown",
   "metadata": {},
   "source": [
    "# Bridge scripts\n",
    "\n",
    "`HTMX` and other useful JS libraries."
   ]
  },
  {
   "cell_type": "code",
   "execution_count": 13,
   "metadata": {
    "brd": "3b61c102-d971-40d8-9be1-5915e0f6c089"
   },
   "outputs": [],
   "source": [
    "#| export\n",
    "\n",
    "def _bridge_scripts_extra():\n",
    "    from fasthtml.core import surrsrc, scopesrc\n",
    "    return {'surreal': surrsrc, 'css_scope_inline': scopesrc}\n",
    "\n",
    "def bridge_scripts(htmx=True):\n",
    "    from fasthtml.core import fhjsscr\n",
    "    from fasthtml.xtend import Script\n",
    "    htmxsrc = Script(src=f\"https://unpkg.com/htmx.org@next/dist/htmx.{'' if DEBUG else 'min.'}js\")()\n",
    "    return update_({'htmx': htmxsrc } if htmx else {}, fasthtml_js=fhjsscr, **_bridge_scripts_extra())\n",
    "\n",
    "# def _load_scripts(scs):\n",
    "#     display(HTML(to_xml((*(scvals := [_ for _ in scs.values()]), ScriptsDetails(scvals)))))\n",
    "\n",
    "def show_scripts(**scs: FT): \n",
    "    display(HTML(to_xml(ScriptsDetails(shortens(map(to_xml, scs.values()), 'r', 140)))), metadata=skip())"
   ]
  },
  {
   "cell_type": "code",
   "execution_count": 14,
   "metadata": {
    "brd": "4ff37ed8-068f-407a-b382-51af33c8ad1e"
   },
   "outputs": [
    {
     "data": {
      "text/html": [
       "<details open><summary><b>Loaded scripts</b></summary><pre>&lt;script src=&quot;https://unpkg.com/htmx.org@next/dist/htmx.js&quot;&gt;&lt;/script&gt;\n",
       "&lt;script src=&quot;https://cdn.jsdelivr.net/gh/answerdotai/fasthtml-js@1.0.12/fasthtml.js&quot;&gt;&lt;/script&gt;\n",
       "&lt;script src=&quot;https://cdn.jsdelivr.net/gh/answerdotai/surreal@main/surreal.js&quot;&gt;&lt;/script&gt;\n",
       "&lt;script src=&quot;https://cdn.jsdelivr.net/gh/gnat/css-scope-inline@main/script.js&quot;&gt;&lt;/script&gt;</pre></details>"
      ],
      "text/plain": [
       "<IPython.core.display.HTML object>"
      ]
     },
     "metadata": {
      "bridge": {
       "skip": true
      }
     },
     "output_type": "display_data"
    }
   ],
   "source": [
    "show_scripts(**bridge_scripts())"
   ]
  },
  {
   "cell_type": "code",
   "execution_count": 15,
   "metadata": {
    "brd": "b2f22861-6a24-4996-be8b-f1252ab2a664"
   },
   "outputs": [
    {
     "data": {
      "text/html": [
       "<div id='brd-logger-1' class='brd-logger' style='width: 100%; max-height: 200px;'></div>"
      ],
      "text/plain": [
       "<IPython.core.display.HTML object>"
      ]
     },
     "metadata": {},
     "output_type": "display_data"
    }
   ],
   "source": [
    "# loader = get_loader()\n",
    "loader = await Loader.create()"
   ]
  },
  {
   "cell_type": "code",
   "execution_count": 16,
   "metadata": {
    "brd": "ae3c8183-c542-4b78-83aa-4938e13f1dae"
   },
   "outputs": [],
   "source": [
    "loader.load_links(**bridge_scripts())"
   ]
  },
  {
   "cell_type": "code",
   "execution_count": 17,
   "metadata": {
    "brd": "b65b16f6-3732-4307-9a8d-b2695cc36f5e"
   },
   "outputs": [],
   "source": [
    "loader.close()\n",
    "Loader.clear_instance()"
   ]
  },
  {
   "cell_type": "markdown",
   "metadata": {},
   "source": [
    "# BridgeBase"
   ]
  },
  {
   "cell_type": "code",
   "execution_count": 18,
   "metadata": {
    "brd": "84afa8a8-dcd8-4511-9ef5-a2d3395fcc22"
   },
   "outputs": [],
   "source": [
    "@FC.delegates()\n",
    "class BridgeBase(Loader):\n",
    "    logger: BLogger\n",
    "    lnks = {**bridge_scripts(), 'observer_scr':observer_scr, 'brd_mark': marker_scr}\n",
    "\n",
    "@FC.delegates(Loader.__init__)  # type: ignore\n",
    "async def get_bridge(*args, logger=None, show_scr=True, **kwargs): \n",
    "    if logger: logger.display()\n",
    "    brd = await BridgeBase.create(*args, logger=logger, **kwargs)\n",
    "    if show_scr: show_scripts(**brd.lnks)\n",
    "    return brd"
   ]
  },
  {
   "cell_type": "code",
   "execution_count": 19,
   "metadata": {
    "brd": "7f6bbc9a-35a6-4986-910d-972208a7498a"
   },
   "outputs": [
    {
     "data": {
      "text/html": [
       "<div id='brd-logger-3' class='brd-logger' style='width: 100%; max-height: 200px;'></div>"
      ],
      "text/plain": [
       "<IPython.core.display.HTML object>"
      ]
     },
     "metadata": {},
     "output_type": "display_data"
    },
    {
     "data": {
      "text/html": [
       "<details open><summary><b>Loaded scripts</b></summary><pre>&lt;script src=&quot;https://unpkg.com/htmx.org@next/dist/htmx.js&quot;&gt;&lt;/script&gt;\n",
       "&lt;script src=&quot;https://cdn.jsdelivr.net/gh/answerdotai/fasthtml-js@1.0.12/fasthtml.js&quot;&gt;&lt;/script&gt;\n",
       "&lt;script src=&quot;https://cdn.jsdelivr.net/gh/answerdotai/surreal@main/surreal.js&quot;&gt;&lt;/script&gt;\n",
       "&lt;script src=&quot;https://cdn.jsdelivr.net/gh/gnat/css-scope-inline@main/script.js&quot;&gt;&lt;/script&gt;\n",
       "&lt;script type=&quot;module&quot; id=&quot;brd-observer-manager&quot;&gt;debugger;\n",
       "// nbs/js/observer.js\n",
       "var ObserverManager = class {\n",
       "  constructor() {\n",
       "    this.obs…\n",
       "&lt;script id=&quot;brd-mark&quot;&gt;\n",
       "if (!customElements.get(&#x27;brd-mark&#x27;)) {\n",
       "    class BridgetMarker extends HTMLElement {\n",
       "        connectedCallback() {\n",
       "  …</pre></details>"
      ],
      "text/plain": [
       "<IPython.core.display.HTML object>"
      ]
     },
     "metadata": {
      "bridge": {
       "skip": true
      }
     },
     "output_type": "display_data"
    }
   ],
   "source": [
    "try: cleanupwidgets(brd)  # type: ignore\n",
    "except NameError: pass\n",
    "BridgeBase.clear_instance()\n",
    "\n",
    "brd = await get_bridge()"
   ]
  },
  {
   "cell_type": "code",
   "execution_count": 20,
   "metadata": {
    "brd": "58d4019e-d47c-492b-8706-256ec5ca2dda"
   },
   "outputs": [
    {
     "data": {
      "text/plain": [
       "(True, False, False)"
      ]
     },
     "execution_count": 20,
     "metadata": {},
     "output_type": "execute_result"
    }
   ],
   "source": [
    "brd.loaded(), brd.loaded('htmx'), brd.loaded('nah')"
   ]
  },
  {
   "cell_type": "code",
   "execution_count": 21,
   "metadata": {
    "brd": "14a7e9a1-d871-43da-86f0-dac9b40358bf"
   },
   "outputs": [
    {
     "data": {
      "text/html": [
       "\n",
       "<div>💩 👻 No style.</div>\n",
       "\n",
       "<div>\n",
       "    <style> /* Simple example. */\n",
       "        me { margin: 20px; }\n",
       "        me div { font-size: 5rem; }\n",
       "    </style>\n",
       "    <div>👻</div>\n",
       "</div>\n"
      ],
      "text/plain": [
       "<IPython.core.display.HTML object>"
      ]
     },
     "metadata": {},
     "output_type": "display_data"
    }
   ],
   "source": [
    "html = '''\n",
    "<div>💩 👻 No style.</div>\n",
    "\n",
    "<div>\n",
    "    <style> /* Simple example. */\n",
    "        me { margin: 20px; }\n",
    "        me div { font-size: 5rem; }\n",
    "    </style>\n",
    "    <div>👻</div>\n",
    "</div>\n",
    "'''\n",
    "\n",
    "display(HTML(html))"
   ]
  },
  {
   "cell_type": "markdown",
   "metadata": {},
   "source": [
    "Bridge automatically loads some JavaScript libraries:\n",
    "\n",
    "1. HTMX\n",
    "2. FastHTML core scripts\n",
    "3. Awesome gnat's Scope and Surreal scripts\n"
   ]
  },
  {
   "cell_type": "markdown",
   "metadata": {},
   "source": [
    "# FastHTML Bridge display\n",
    "\n",
    "1. This functionality patches FastHTML's IPython display system\n",
    "3. This implementation:\n",
    "   - Overrides all FT IPython MIME methods\n",
    "   - Uses `bridge_cfg.auto_show` for display opt-in\n",
    "\n",
    "This is a convenience and not core of this proof-of-concept notebooks."
   ]
  },
  {
   "cell_type": "code",
   "execution_count": 22,
   "metadata": {
    "brd": "3427474c-cd6f-46ae-a0d6-cefe11f1560a"
   },
   "outputs": [],
   "source": [
    "fh_cfg['auto_id'] = False\n",
    "bridge_cfg.auto_show=False"
   ]
  },
  {
   "cell_type": "code",
   "execution_count": 23,
   "metadata": {
    "brd": "0f39243e-bc4b-441f-aef2-e8effb6c7eea"
   },
   "outputs": [
    {
     "name": "stdout",
     "output_type": "stream",
     "text": [
      "d: div((text(('Hi!',),{}),),{'hx-trigger': 'click', 'style': 'color: red;'})\n",
      "showtags(d): <code><pre>\n",
      "&lt;div hx-trigger=&quot;click&quot; style=&quot;color: red;&quot;&gt;\n",
      "&lt;text&gt;Hi!&lt;/text&gt;&lt;/div&gt;\n",
      "\n",
      "</code></pre>\n"
     ]
    },
    {
     "data": {
      "text/markdown": [
       "```html\n",
       "<div hx-trigger=\"click\" style=\"color: red;\">\n",
       "<text>Hi!</text></div>\n",
       "\n",
       "```"
      ],
      "text/plain": [
       "<IPython.core.display.Markdown object>"
      ]
     },
     "metadata": {},
     "output_type": "display_data"
    },
    {
     "data": {
      "text/html": [
       "<div hx-trigger=\"click\" style=\"color: red;\">\n",
       "<text>Hi!</text></div>\n"
      ],
      "text/plain": [
       "<IPython.core.display.HTML object>"
      ]
     },
     "metadata": {},
     "output_type": "display_data"
    }
   ],
   "source": [
    "d = Div(style='color: red;', hx_trigger='click')(Text('Hi!'))\n",
    "print(f\"d: {d}\")\n",
    "print(f\"showtags(d): {showtags(d)}\")\n",
    "display(Markdown(highlight(d)))\n",
    "show(d)"
   ]
  },
  {
   "cell_type": "code",
   "execution_count": 24,
   "metadata": {
    "brd": "6092a706-08d2-4aff-91c2-d8dee7900f14"
   },
   "outputs": [
    {
     "data": {
      "text/markdown": [
       "```html\n",
       "<div>I&#x27;m a Div!</div>\n",
       "\n",
       "```"
      ],
      "text/plain": [
       "div((\"I'm a Div!\",),{})"
      ]
     },
     "execution_count": 24,
     "metadata": {},
     "output_type": "execute_result"
    }
   ],
   "source": [
    "Div(\"I'm a Div!\")"
   ]
  },
  {
   "cell_type": "code",
   "execution_count": 25,
   "metadata": {
    "brd": "0ad719dc-8036-4bc0-9966-00bd38fb7504"
   },
   "outputs": [],
   "source": [
    "#| exporti\n",
    "\n",
    "@FC.patch\n",
    "def _repr_mimebundle_(self: FT, include=None, exclude=None):\n",
    "    mb = {'text/plain': repr(self)}\n",
    "    if bridge_cfg.auto_show: mb['text/html'] = self.__html__()\n",
    "    else: mb['text/markdown'] = self._repr_markdown_()\n",
    "    return mb"
   ]
  },
  {
   "cell_type": "code",
   "execution_count": 26,
   "metadata": {
    "brd": "bd63a634-cca7-436a-b03b-02dcad741d34"
   },
   "outputs": [],
   "source": [
    "# #| exporti\n",
    "\n",
    "# @FC.patch\n",
    "# def _ipython_display_(self: FT):\n",
    "#     IDISPLAY(self._repr_mimebundle_(), raw=True)"
   ]
  },
  {
   "cell_type": "code",
   "execution_count": 27,
   "metadata": {
    "brd": "1df7d387-7268-432c-803d-2ee6e6700fe5"
   },
   "outputs": [
    {
     "data": {
      "text/markdown": [
       "```html\n",
       "<div>me too!</div>\n",
       "\n",
       "```"
      ],
      "text/plain": [
       "div(('me too!',),{})"
      ]
     },
     "execution_count": 27,
     "metadata": {},
     "output_type": "execute_result"
    }
   ],
   "source": [
    "Div('me too!')"
   ]
  },
  {
   "cell_type": "code",
   "execution_count": 28,
   "metadata": {
    "brd": "be27c992-88d0-4973-b696-a61fe01531b5"
   },
   "outputs": [
    {
     "data": {
      "text/html": [
       "<div>But I&#x27;m prettier!</div>\n"
      ],
      "text/markdown": [
       "```html\n",
       "<div>But I&#x27;m prettier!</div>\n",
       "\n",
       "```"
      ],
      "text/plain": [
       "div((\"But I'm prettier!\",),{})"
      ]
     },
     "metadata": {},
     "output_type": "display_data"
    }
   ],
   "source": [
    "with bridge_cfg(auto_show=True):\n",
    "    display(Div(\"But I'm prettier!\"))"
   ]
  },
  {
   "cell_type": "code",
   "execution_count": 29,
   "metadata": {
    "brd": "9532a5c2-597f-42d9-b2f9-ce2e88c5e247"
   },
   "outputs": [
    {
     "data": {
      "text/markdown": [
       "```html\n",
       "<div>back to tags!</div>\n",
       "\n",
       "```"
      ],
      "text/plain": [
       "div(('back to tags!',),{})"
      ]
     },
     "execution_count": 29,
     "metadata": {},
     "output_type": "execute_result"
    }
   ],
   "source": [
    "Div('back to tags!')"
   ]
  },
  {
   "cell_type": "code",
   "execution_count": 30,
   "metadata": {
    "brd": "f8aa574b-e22c-40a2-9e2b-e3bd4e02fec4"
   },
   "outputs": [
    {
     "data": {
      "text/html": [
       "<details open><summary>dddd</summary><pre>eeee</pre></details>"
      ],
      "text/markdown": [
       "```html\n",
       "<details open><summary>dddd</summary><pre>eeee</pre></details>\n",
       "```"
      ],
      "text/plain": [
       "details((summary(('dddd',),{}), pre(('eeee',),{})),{'open': True})"
      ]
     },
     "execution_count": 30,
     "metadata": {},
     "output_type": "execute_result"
    }
   ],
   "source": [
    "bridge_cfg.auto_show = True\n",
    "ft.Details(open=True)(ft.Summary('dddd'), ft.Pre('eeee'))"
   ]
  },
  {
   "cell_type": "code",
   "execution_count": 31,
   "metadata": {
    "brd": "5651249b-fc29-457d-9c87-9eed33c6b694"
   },
   "outputs": [
    {
     "data": {
      "text/markdown": [
       "```html\n",
       "<button>ffff</button>\n",
       "```"
      ],
      "text/plain": [
       "button(('ffff',),{})"
      ]
     },
     "metadata": {},
     "output_type": "display_data"
    },
    {
     "data": {
      "text/html": [
       "<button>ffff</button>"
      ],
      "text/markdown": [
       "```html\n",
       "<button>ffff</button>\n",
       "```"
      ],
      "text/plain": [
       "button(('ffff',),{})"
      ]
     },
     "execution_count": 31,
     "metadata": {},
     "output_type": "execute_result"
    }
   ],
   "source": [
    "with bridge_cfg(auto_show=False): display(ft.Button('ffff'))\n",
    "ft.Button('ffff')"
   ]
  },
  {
   "cell_type": "markdown",
   "metadata": {},
   "source": [
    "----"
   ]
  },
  {
   "cell_type": "markdown",
   "metadata": {},
   "source": [
    "# CellExecInfo\n",
    "> IPython cell execution info.\n",
    "\n",
    "Simple IPython event callback that captures cell id and source code of last run cell."
   ]
  },
  {
   "cell_type": "code",
   "execution_count": 32,
   "metadata": {
    "brd": "83c265a6-14f9-49d6-b3bc-0b75f0c3a3e0"
   },
   "outputs": [],
   "source": [
    "__cellid__ = None\n",
    "__cellsource__ = None"
   ]
  },
  {
   "cell_type": "code",
   "execution_count": 33,
   "metadata": {
    "brd": "5641a657-17d4-4784-9227-8674fd2e9caf"
   },
   "outputs": [],
   "source": [
    "#| export\n",
    "\n",
    "class CellExecInfo:\n",
    "    def __init__(self): \n",
    "        self._active, self.last_info, self.last_result = False,{}, {}\n",
    "        self._evts = get_ipython().events  # type: ignore\n",
    "    def pre_run_cell(self, info): \n",
    "        if not self._active: \n",
    "            self._evts.register('post_run_cell', self.post_run_cell)\n",
    "            self._active = True\n",
    "        self.last_info = {'raw_cell': info.raw_cell, 'cell_id': info.cell_id}\n",
    "        if (shell := get_ipython()): \n",
    "            shell.user_ns['__cellid__'] = info.cell_id\n",
    "            shell.user_ns['__cellsource__'] = info.raw_cell\n",
    "    def post_run_cell(self, result):\n",
    "        if not self._active: return\n",
    "        self.last_result = {\n",
    "            'execution_count': result.execution_count,\n",
    "            'error_before_exec': result.error_before_exec,\n",
    "            'error_in_exec': result.error_in_exec,\n",
    "            'info': {'raw_cell': result.info.raw_cell, 'cell_id': result.info.cell_id},\n",
    "            'result': result.result\n",
    "        }\n",
    "    def start(self): self._evts.register('pre_run_cell', self.pre_run_cell)\n",
    "    def stop(self):\n",
    "        if self._active:\n",
    "            self._active = False\n",
    "            if self.last_result: self.last_info = self.last_result['info']\n",
    "            self._evts.unregister('pre_run_cell', self.pre_run_cell)\n",
    "            self._evts.unregister('post_run_cell', self.post_run_cell)"
   ]
  },
  {
   "cell_type": "code",
   "execution_count": 34,
   "metadata": {
    "brd": "9fe18f58-ce9d-4a68-9374-076e2f5eac99"
   },
   "outputs": [],
   "source": [
    "try: csi.stop()  # type: ignore\n",
    "except Exception: pass\n",
    "csi = CellExecInfo()\n",
    "\n",
    "csi.start()\n",
    "test_eq(csi.last_info, {})"
   ]
  },
  {
   "cell_type": "code",
   "execution_count": 35,
   "metadata": {
    "brd": "74a71b22-efda-4234-bba0-c2160778033a"
   },
   "outputs": [
    {
     "name": "stdout",
     "output_type": "stream",
     "text": [
      "vscode-notebook-cell:/Users/vic/dev/repo/project/bridget/nbs/15_bridge.ipynb#X62sZmlsZQ%3D%3D\n"
     ]
    }
   ],
   "source": [
    "print(__cellid__)\n",
    "test_eq(csi.last_result, {})\n",
    "test_eq(csi.last_info['raw_cell'][:17], 'print(__cellid__)')"
   ]
  },
  {
   "cell_type": "code",
   "execution_count": 36,
   "metadata": {
    "brd": "28674bf2-68e4-4d6c-95ed-4727dd9d27ec"
   },
   "outputs": [],
   "source": [
    "csi.stop()\n",
    "test_eq(csi.last_result['info']['raw_cell'][:17], 'print(__cellid__)')"
   ]
  },
  {
   "cell_type": "code",
   "execution_count": 37,
   "metadata": {
    "brd": "36d69ee5-ca08-45f6-8d0e-2c509b34a0df"
   },
   "outputs": [
    {
     "data": {
      "text/html": [
       "<pre style=\"white-space:pre;overflow-x:auto;line-height:normal;font-family:Menlo,'DejaVu Sans Mono',consolas,'Courier New',monospace\"><span style=\"font-weight: bold\">{</span>\n",
       "    <span style=\"color: #008000; text-decoration-color: #008000\">'raw_cell'</span>: <span style=\"color: #008000; text-decoration-color: #008000\">\"print(__cellid__)\\ntest_eq(csi.last_result, {})\\ntest_eq(csi.last_info['raw_cell'][:17], 'print(__cellid__)')\"</span>,\n",
       "    <span style=\"color: #008000; text-decoration-color: #008000\">'cell_id'</span>: <span style=\"color: #008000; text-decoration-color: #008000\">'vscode-notebook-cell:/Users/vic/dev/repo/project/bridget/nbs/15_bridge.ipynb#X62sZmlsZQ%3D%3D'</span>\n",
       "<span style=\"font-weight: bold\">}</span>\n",
       "<span style=\"font-weight: bold\">{</span>\n",
       "    <span style=\"color: #008000; text-decoration-color: #008000\">'execution_count'</span>: <span style=\"color: #008080; text-decoration-color: #008080; font-weight: bold\">35</span>,\n",
       "    <span style=\"color: #008000; text-decoration-color: #008000\">'error_before_exec'</span>: <span style=\"color: #800080; text-decoration-color: #800080; font-style: italic\">None</span>,\n",
       "    <span style=\"color: #008000; text-decoration-color: #008000\">'error_in_exec'</span>: <span style=\"color: #800080; text-decoration-color: #800080; font-style: italic\">None</span>,\n",
       "    <span style=\"color: #008000; text-decoration-color: #008000\">'info'</span>: <span style=\"font-weight: bold\">{</span>\n",
       "        <span style=\"color: #008000; text-decoration-color: #008000\">'raw_cell'</span>: <span style=\"color: #008000; text-decoration-color: #008000\">\"print(__cellid__)\\ntest_eq(csi.last_result, {})\\ntest_eq(csi.last_info['raw_cell'][:17], 'print(__cellid__)')\"</span>,\n",
       "        <span style=\"color: #008000; text-decoration-color: #008000\">'cell_id'</span>: <span style=\"color: #008000; text-decoration-color: #008000\">'vscode-notebook-cell:/Users/vic/dev/repo/project/bridget/nbs/15_bridge.ipynb#X62sZmlsZQ%3D%3D'</span>\n",
       "    <span style=\"font-weight: bold\">}</span>,\n",
       "    <span style=\"color: #008000; text-decoration-color: #008000\">'result'</span>: <span style=\"color: #800080; text-decoration-color: #800080; font-style: italic\">None</span>\n",
       "<span style=\"font-weight: bold\">}</span>\n",
       "</pre>\n"
      ],
      "text/plain": [
       "\u001b[1m{\u001b[0m\n",
       "    \u001b[32m'raw_cell'\u001b[0m: \u001b[32m\"print\u001b[0m\u001b[32m(\u001b[0m\u001b[32m__cellid__\u001b[0m\u001b[32m)\u001b[0m\u001b[32m\\ntest_eq\u001b[0m\u001b[32m(\u001b[0m\u001b[32mcsi.last_result, \u001b[0m\u001b[32m{\u001b[0m\u001b[32m}\u001b[0m\u001b[32m)\u001b[0m\u001b[32m\\ntest_eq\u001b[0m\u001b[32m(\u001b[0m\u001b[32mcsi.last_info\u001b[0m\u001b[32m[\u001b[0m\u001b[32m'raw_cell'\u001b[0m\u001b[32m]\u001b[0m\u001b[32m[\u001b[0m\u001b[32m:17\u001b[0m\u001b[32m]\u001b[0m\u001b[32m, 'print\u001b[0m\u001b[32m(\u001b[0m\u001b[32m__cellid__\u001b[0m\u001b[32m)\u001b[0m\u001b[32m'\u001b[0m\u001b[32m)\u001b[0m\u001b[32m\"\u001b[0m,\n",
       "    \u001b[32m'cell_id'\u001b[0m: \u001b[32m'vscode-notebook-cell:/Users/vic/dev/repo/project/bridget/nbs/15_bridge.ipynb#X62sZmlsZQ%3D%3D'\u001b[0m\n",
       "\u001b[1m}\u001b[0m\n",
       "\u001b[1m{\u001b[0m\n",
       "    \u001b[32m'execution_count'\u001b[0m: \u001b[1;36m35\u001b[0m,\n",
       "    \u001b[32m'error_before_exec'\u001b[0m: \u001b[3;35mNone\u001b[0m,\n",
       "    \u001b[32m'error_in_exec'\u001b[0m: \u001b[3;35mNone\u001b[0m,\n",
       "    \u001b[32m'info'\u001b[0m: \u001b[1m{\u001b[0m\n",
       "        \u001b[32m'raw_cell'\u001b[0m: \u001b[32m\"print\u001b[0m\u001b[32m(\u001b[0m\u001b[32m__cellid__\u001b[0m\u001b[32m)\u001b[0m\u001b[32m\\ntest_eq\u001b[0m\u001b[32m(\u001b[0m\u001b[32mcsi.last_result, \u001b[0m\u001b[32m{\u001b[0m\u001b[32m}\u001b[0m\u001b[32m)\u001b[0m\u001b[32m\\ntest_eq\u001b[0m\u001b[32m(\u001b[0m\u001b[32mcsi.last_info\u001b[0m\u001b[32m[\u001b[0m\u001b[32m'raw_cell'\u001b[0m\u001b[32m]\u001b[0m\u001b[32m[\u001b[0m\u001b[32m:17\u001b[0m\u001b[32m]\u001b[0m\u001b[32m, 'print\u001b[0m\u001b[32m(\u001b[0m\u001b[32m__cellid__\u001b[0m\u001b[32m)\u001b[0m\u001b[32m'\u001b[0m\u001b[32m)\u001b[0m\u001b[32m\"\u001b[0m,\n",
       "        \u001b[32m'cell_id'\u001b[0m: \u001b[32m'vscode-notebook-cell:/Users/vic/dev/repo/project/bridget/nbs/15_bridge.ipynb#X62sZmlsZQ%3D%3D'\u001b[0m\n",
       "    \u001b[1m}\u001b[0m,\n",
       "    \u001b[32m'result'\u001b[0m: \u001b[3;35mNone\u001b[0m\n",
       "\u001b[1m}\u001b[0m\n"
      ]
     },
     "metadata": {},
     "output_type": "display_data"
    }
   ],
   "source": [
    "test_eq(csi.last_info, csi.last_result['info'])\n",
    "cprint(csi.last_info, csi.last_result)"
   ]
  },
  {
   "cell_type": "markdown",
   "metadata": {},
   "source": [
    "# BridgeBase"
   ]
  },
  {
   "cell_type": "code",
   "execution_count": 38,
   "metadata": {
    "brd": "47bcf9cf-9d4f-4a51-b0d3-c6b0aad35657"
   },
   "outputs": [],
   "source": [
    "@FC.delegates()\n",
    "class BridgeBase(Loader):\n",
    "\tlogger: BLogger\n",
    "\tlnks = {**bridge_scripts(), 'observer_scr':observer_scr, 'brd_mark': marker_scr}\n",
    "\n",
    "\tdef __init__(self, *args, **kwargs):\n",
    "\t\tself.csi = CellExecInfo()\n",
    "\t\tsuper().__init__(*args, **kwargs)\n",
    "\n",
    "\tdef close(self):\n",
    "\t\tself.csi.stop()\n",
    "\t\tsuper().close()\n",
    "\tdef __del__(self): self.close()\n",
    "\n",
    "\tdef on_info(self, *args, info:str, **kwargs):\n",
    "\t\tsuper().on_info(*args, info=info, **kwargs)\n",
    "\t\tif info == 'loaded': self.csi.start()\n",
    "\n",
    "@FC.delegates(Loader.__init__)  # type: ignore\n",
    "async def get_bridge(*args, logger=None, show_scr=True, **kwargs): \n",
    "    if logger: logger.display()\n",
    "    brd = await BridgeBase.create(*args, logger=logger, **kwargs)\n",
    "    if show_scr: show_scripts(**brd.lnks)\n",
    "    return brd"
   ]
  },
  {
   "cell_type": "code",
   "execution_count": 39,
   "metadata": {
    "brd": "b436f52c-5e81-42c0-83b8-847534ce93e0"
   },
   "outputs": [
    {
     "data": {
      "text/html": [
       "<div id='brd-logger-5' class='brd-logger' style='width: 100%; max-height: 200px;'></div>"
      ],
      "text/plain": [
       "<IPython.core.display.HTML object>"
      ]
     },
     "metadata": {},
     "output_type": "display_data"
    },
    {
     "data": {
      "text/html": [
       "<details open><summary><b>Loaded scripts</b></summary><pre>&lt;script src=&quot;https://unpkg.com/htmx.org@next/dist/htmx.js&quot;&gt;&lt;/script&gt;\n",
       "&lt;script src=&quot;https://cdn.jsdelivr.net/gh/answerdotai/fasthtml-js@1.0.12/fasthtml.js&quot;&gt;&lt;/script&gt;\n",
       "&lt;script src=&quot;https://cdn.jsdelivr.net/gh/answerdotai/surreal@main/surreal.js&quot;&gt;&lt;/script&gt;\n",
       "&lt;script src=&quot;https://cdn.jsdelivr.net/gh/gnat/css-scope-inline@main/script.js&quot;&gt;&lt;/script&gt;\n",
       "&lt;script type=&quot;module&quot; id=&quot;brd-observer-manager&quot;&gt;debugger;\n",
       "// nbs/js/observer.js\n",
       "var ObserverManager = class {\n",
       "  constructor() {\n",
       "    this.obs…\n",
       "&lt;script id=&quot;brd-mark&quot;&gt;\n",
       "if (!customElements.get(&#x27;brd-mark&#x27;)) {\n",
       "    class BridgetMarker extends HTMLElement {\n",
       "        connectedCallback() {\n",
       "  …</pre></details>"
      ],
      "text/plain": [
       "<IPython.core.display.HTML object>"
      ]
     },
     "metadata": {
      "bridge": {
       "skip": true
      }
     },
     "output_type": "display_data"
    }
   ],
   "source": [
    "cleanupwidgets(brd)\n",
    "type(brd).clear_instance()\n",
    "\n",
    "bridge_cfg.auto_id = True\n",
    "brd = await get_bridge()"
   ]
  },
  {
   "cell_type": "code",
   "execution_count": 40,
   "metadata": {
    "brd": "2df3ea7e-4997-47c2-a231-c3975cc460cb"
   },
   "outputs": [
    {
     "data": {
      "text/plain": [
       "'vscode-notebook-cell:/Users/vic/dev/repo/project/bridget/nbs/15_bridge.ipynb#Y101sZmlsZQ%3D%3D'"
      ]
     },
     "metadata": {},
     "output_type": "display_data"
    }
   ],
   "source": [
    "display(brd.csi.last_info['cell_id'])"
   ]
  },
  {
   "cell_type": "code",
   "execution_count": 41,
   "metadata": {
    "brd": "9891edb0-923b-4a7b-b395-170bc29839bc"
   },
   "outputs": [
    {
     "name": "stdout",
     "output_type": "stream",
     "text": [
      "10\n"
     ]
    }
   ],
   "source": [
    "print(10)\n",
    "li = brd.csi.last_info"
   ]
  },
  {
   "cell_type": "code",
   "execution_count": 42,
   "metadata": {
    "brd": "04e34cd9-3b2f-4937-9ae1-23a920460808"
   },
   "outputs": [
    {
     "data": {
      "text/html": [
       "<pre style=\"white-space:pre;overflow-x:auto;line-height:normal;font-family:Menlo,'DejaVu Sans Mono',consolas,'Courier New',monospace\"><span style=\"font-weight: bold\">{</span>\n",
       "    <span style=\"color: #008000; text-decoration-color: #008000\">'raw_cell'</span>: <span style=\"color: #008000; text-decoration-color: #008000\">'print(10)\\nli = brd.csi.last_info'</span>,\n",
       "    <span style=\"color: #008000; text-decoration-color: #008000\">'cell_id'</span>: <span style=\"color: #008000; text-decoration-color: #008000\">'vscode-notebook-cell:/Users/vic/dev/repo/project/bridget/nbs/15_bridge.ipynb#Y102sZmlsZQ%3D%3D'</span>\n",
       "<span style=\"font-weight: bold\">}</span>\n",
       "</pre>\n"
      ],
      "text/plain": [
       "\u001b[1m{\u001b[0m\n",
       "    \u001b[32m'raw_cell'\u001b[0m: \u001b[32m'print\u001b[0m\u001b[32m(\u001b[0m\u001b[32m10\u001b[0m\u001b[32m)\u001b[0m\u001b[32m\\nli = brd.csi.last_info'\u001b[0m,\n",
       "    \u001b[32m'cell_id'\u001b[0m: \u001b[32m'vscode-notebook-cell:/Users/vic/dev/repo/project/bridget/nbs/15_bridge.ipynb#Y102sZmlsZQ%3D%3D'\u001b[0m\n",
       "\u001b[1m}\u001b[0m\n"
      ]
     },
     "metadata": {},
     "output_type": "display_data"
    },
    {
     "data": {
      "text/html": [
       "<pre style=\"white-space:pre;overflow-x:auto;line-height:normal;font-family:Menlo,'DejaVu Sans Mono',consolas,'Courier New',monospace\"><span style=\"font-weight: bold\">{</span>\n",
       "    <span style=\"color: #008000; text-decoration-color: #008000\">'raw_cell'</span>: <span style=\"color: #008000; text-decoration-color: #008000\">'cprint(li)\\ncprint(brd.csi.last_info)'</span>,\n",
       "    <span style=\"color: #008000; text-decoration-color: #008000\">'cell_id'</span>: <span style=\"color: #008000; text-decoration-color: #008000\">'vscode-notebook-cell:/Users/vic/dev/repo/project/bridget/nbs/15_bridge.ipynb#Y103sZmlsZQ%3D%3D'</span>\n",
       "<span style=\"font-weight: bold\">}</span>\n",
       "</pre>\n"
      ],
      "text/plain": [
       "\u001b[1m{\u001b[0m\n",
       "    \u001b[32m'raw_cell'\u001b[0m: \u001b[32m'cprint\u001b[0m\u001b[32m(\u001b[0m\u001b[32mli\u001b[0m\u001b[32m)\u001b[0m\u001b[32m\\ncprint\u001b[0m\u001b[32m(\u001b[0m\u001b[32mbrd.csi.last_info\u001b[0m\u001b[32m)\u001b[0m\u001b[32m'\u001b[0m,\n",
       "    \u001b[32m'cell_id'\u001b[0m: \u001b[32m'vscode-notebook-cell:/Users/vic/dev/repo/project/bridget/nbs/15_bridge.ipynb#Y103sZmlsZQ%3D%3D'\u001b[0m\n",
       "\u001b[1m}\u001b[0m\n"
      ]
     },
     "metadata": {},
     "output_type": "display_data"
    }
   ],
   "source": [
    "cprint(li)\n",
    "cprint(brd.csi.last_info)"
   ]
  },
  {
   "cell_type": "code",
   "execution_count": 43,
   "metadata": {
    "brd": "6a01abc9-b492-4b90-bd67-1df67404953d"
   },
   "outputs": [],
   "source": [
    "brd.close()"
   ]
  },
  {
   "cell_type": "markdown",
   "metadata": {},
   "source": [
    "# IPython display_pub hook\n",
    "> `display_pub` hook for `display_id` and `brd-mark`\n",
    "\n",
    "This will add bridge metadata to the display message. This will be handy to target specific cells and when we can capture the notebook state down the road."
   ]
  },
  {
   "cell_type": "code",
   "execution_count": 44,
   "metadata": {
    "brd": "0e056e08-521c-4fbd-8a90-5509ea29c0a9"
   },
   "outputs": [],
   "source": [
    "#| export\n",
    "\n",
    "class Bridged:\n",
    "    def __init__(self, \n",
    "            dhs: deque[DisplayHandle]|None = None, msgs: list[dict]|None = None, register: bool = False):\n",
    "        self.dhs = deque(maxlen=100) if dhs is None else dhs\n",
    "        if DEBUG: self.msgs = [] if msgs is None else msgs\n",
    "        if register: self.register()\n",
    "    \n",
    "    def register(self):\n",
    "        shell = get_ipython()\n",
    "        if shell and (reg := getattr(shell.display_pub, 'register_hook', None)): return reg(self.bridged)\n",
    "        return False\n",
    "\n",
    "    def unregister(self):\n",
    "        shell = get_ipython()\n",
    "        if shell and (unreg := getattr(shell.display_pub, 'unregister_hook', None)): return unreg(self.bridged)\n",
    "        return False\n",
    "    \n",
    "    def __del__(self): self.unregister()\n",
    "    \n",
    "    def bridged(self, msg):\n",
    "        \"Augment display messages with bridge stuff.\"\n",
    "        if DEBUG: self.msgs.append(msg)\n",
    "        if msg['msg_type'] in ('display_data', 'update_display_data'):\n",
    "            # hoist display_id or brd_did to output metadata\n",
    "            cnt, md, did = msg['content'], msg['metadata'], None\n",
    "            cmd = cnt['metadata']\n",
    "            if (brdmd := cmd.get('bridge', None)) and brdmd.get('skip', None): return msg\n",
    "            if 'text/html' not in (d := cnt['data']): return msg\n",
    "            if trn := cnt['transient']: did = trn['display_id']\n",
    "            elif cmd:\n",
    "                for k,v in cmd.items():\n",
    "                    if brd_id := v.get('brd_did', None): did = brd_id; break\n",
    "            if not did and bridge_cfg.auto_id: did = new_id()\n",
    "            if did: \n",
    "                if 'display_id' not in trn: trn['display_id'] = did\n",
    "                if not self.dhs or (did != self.dhs[-1].display_id):\n",
    "                    self.dhs.append(DisplayHandle(display_id=did))\n",
    "                # cmd['brd_did'] = did\n",
    "                # md['bridge'] = {'id': did}\n",
    "                # add brd-mark to output\n",
    "                if 'text/html' in (d := cnt['data']):\n",
    "                    d['text/html'] = d['text/html'] + _n + to_xml(Brd_Mark(id=did))\n",
    "        return msg\n"
   ]
  },
  {
   "cell_type": "code",
   "execution_count": 45,
   "metadata": {
    "brd": "0dc1aede-2f21-4f3a-b2c5-b7bfd745146c"
   },
   "outputs": [],
   "source": [
    "try: brdd.unregister()  # type: ignore\n",
    "except Exception: pass\n",
    "\n",
    "brdd = Bridged(register=True)"
   ]
  },
  {
   "cell_type": "markdown",
   "metadata": {},
   "source": [
    "### set display_id with HTML metadata"
   ]
  },
  {
   "cell_type": "markdown",
   "metadata": {},
   "source": [
    "```json\n",
    "{\n",
    "    ...,\n",
    "    'msg_type': 'display_data',\n",
    "    'content': {\n",
    "        'data': {\n",
    "            'text/plain': '<IPython.core.display.HTML object>', \n",
    "            'text/html': \"<div>I'm marked!... MAAARKED!!</div>\"\n",
    "        },\n",
    "        'metadata': {'text/html': {'brd_did': 'b8b568b9a-c02e1576-c3a3c120-167cedda'}},\n",
    "        'transient': {}\n",
    "    },\n",
    "    'metadata': {}\n",
    "}\n",
    "\n",
    "{\n",
    "    ...,\n",
    "    'msg_type': 'display_data',\n",
    "    'content': {\n",
    "        'data': {\n",
    "            'text/plain': '<IPython.core.display.HTML object>',\n",
    "            'text/html': '<div>I\\'m marked!... MAAARKED!!</div><brd-mark id=\"b8b568b9a-c02e1576-c3a3c120-167cedda\"></brd-mark>'\n",
    "        },\n",
    "        'metadata': {'text/html': {'brd_did': 'b8b568b9a-c02e1576-c3a3c120-167cedda'}},\n",
    "        'transient': {'display_id': 'b8b568b9a-c02e1576-c3a3c120-167cedda'}\n",
    "    },\n",
    "    'metadata': {}\n",
    "}\n",
    "```"
   ]
  },
  {
   "cell_type": "code",
   "execution_count": 46,
   "metadata": {
    "brd": "fc5b56ed-f96e-4e59-a5ef-4c71a76f3b67"
   },
   "outputs": [
    {
     "name": "stdout",
     "output_type": "stream",
     "text": [
      "did='ba4f47090-9a07a612-626cda36-212e6fd2'\n"
     ]
    },
    {
     "data": {
      "text/html": [
       "<div>I'm doomed!... DOOOOOMED!!</div>\n",
       "<brd-mark id=\"ba4f47090-9a07a612-626cda36-212e6fd2\"></brd-mark>"
      ],
      "text/plain": [
       "<IPython.core.display.HTML object>"
      ]
     },
     "metadata": {},
     "output_type": "display_data"
    }
   ],
   "source": [
    "did = new_id()\n",
    "print(f\"{did=}\")\n",
    "display(HTML(\"<div>I'm marked!... MAAARKED!!</div>\", metadata={'brd_did': did}))"
   ]
  },
  {
   "cell_type": "code",
   "execution_count": 47,
   "metadata": {
    "brd": "5d136f66-83f3-4183-964b-ab04d926b335"
   },
   "outputs": [],
   "source": [
    "dh = brdd.dhs[-1]\n",
    "test_eq(dh.display_id, did)"
   ]
  },
  {
   "cell_type": "markdown",
   "metadata": {},
   "source": [
    "Dor convenience, `Bridged` stores in `dhs` the last display handles used.  \n",
    "\n",
    "Note however that there's no mapping between display handles and the objects displayed or the cells that displayed them. We have to wait a bit to get that functionality.\n"
   ]
  },
  {
   "cell_type": "markdown",
   "metadata": {},
   "source": [
    "```json\n",
    "{\n",
    "    ...,\n",
    "    'msg_type': 'update_display_data',\n",
    "    'content': {\n",
    "        'data': {\n",
    "            'text/plain': '<IPython.core.display.HTML object>', \n",
    "            'text/html': \"<div>I'm doomed!... DOOOOOMED!!</div>\"},\n",
    "        'metadata': {},\n",
    "        'transient': {'display_id': 'b5c00d851-9da4a95e-36473c24-3d04534d'}\n",
    "    },\n",
    "    'metadata': {}\n",
    "}\n",
    "\n",
    "{\n",
    "    ...,\n",
    "    'msg_type': 'update_display_data',\n",
    "    'content': {\n",
    "        'data': {\n",
    "            'text/plain': '<IPython.core.display.HTML object>',\n",
    "            'text/html': '<div>I\\'m doomed!... DOOOOOMED!!</div><brd-mark id=\"b5c00d851-9da4a95e-36473c24-3d04534d\"></brd-mark>'\n",
    "        },\n",
    "        'metadata': {},\n",
    "        'transient': {'display_id': 'b5c00d851-9da4a95e-36473c24-3d04534d'}\n",
    "    },\n",
    "    'metadata': {}\n",
    "}\n",
    "```"
   ]
  },
  {
   "cell_type": "code",
   "execution_count": 48,
   "metadata": {
    "brd": "5e3a78cf-a1f9-4d01-a18c-4b7b082e439c"
   },
   "outputs": [],
   "source": [
    "dh.update(HTML(\"<div>I'm doomed!... DOOOOOMED!!</div>\"))"
   ]
  },
  {
   "cell_type": "markdown",
   "metadata": {},
   "source": [
    "## set display_id with display(...) kwarg"
   ]
  },
  {
   "cell_type": "markdown",
   "metadata": {},
   "source": [
    "```json\n",
    "{\n",
    "    ...,\n",
    "    'msg_type': 'display_data',\n",
    "    'content': {\n",
    "        'data': {\n",
    "            'text/plain': '<IPython.core.display.HTML object>', \n",
    "            'text/html': \"<div>I'm marked!... MAAARKED!!</div>\"\n",
    "        },\n",
    "        'metadata': {},\n",
    "        'transient': {'display_id': '2307db4acc4fda0ba305ffdda518748a'}\n",
    "    },\n",
    "    'metadata': {}\n",
    "}\n",
    "\n",
    "{\n",
    "    ...,\n",
    "    'msg_type': 'display_data',\n",
    ".    'content': {\n",
    "        'data': {\n",
    "            'text/plain': '<IPython.core.display.HTML object>',\n",
    "            'text/html': '<div>I\\'m marked!... MAAARKED!!</div><brd-mark id=\"2307db4acc4fda0ba305ffdda518748a\"></brd-mark>'\n",
    "        },\n",
    "        'metadata': {},\n",
    "        'transient': {'display_id': '2307db4acc4fda0ba305ffdda518748a'}\n",
    "    },\n",
    "    'metadata': {}\n",
    "}\n",
    "```\n"
   ]
  },
  {
   "cell_type": "code",
   "execution_count": 49,
   "metadata": {
    "brd": "021bc550-3a42-4f4a-824f-10e9036165f9"
   },
   "outputs": [
    {
     "data": {
      "text/html": [
       "<div>I'm doomed!... DOOOOOMED!!</div>\n",
       "<brd-mark id=\"4fc4ca1e1b85ecce61090bde4c767382\"></brd-mark>"
      ],
      "text/plain": [
       "<IPython.core.display.HTML object>"
      ]
     },
     "metadata": {},
     "output_type": "display_data"
    }
   ],
   "source": [
    "dh = display(HTML(\"<div>I'm marked!... MAAARKED!!</div>\"), display_id=True)"
   ]
  },
  {
   "cell_type": "markdown",
   "metadata": {},
   "source": [
    "```json\n",
    "{\n",
    "    ...,\n",
    "    'msg_type': 'update_display_data',\n",
    "    'content': {\n",
    "        'data': {'text/plain': '<IPython.core.display.HTML object>', 'text/html': \"<div>I'm doomed!... DOOOOOMED!!</div>\"},\n",
    "        'metadata': {},\n",
    "        'transient': {'display_id': 'c3d21633d341d2463f13ef40730e8c4a'}\n",
    "    },\n",
    "    'metadata': {}\n",
    "}\n",
    "\n",
    "{\n",
    "    ...,\n",
    "    'msg_type': 'update_display_data',\n",
    "    'content': {\n",
    "        'data': {\n",
    "            'text/plain': '<IPython.core.display.HTML object>',\n",
    "            'text/html': '<div>I\\'m doomed!... DOOOOOMED!!</div><brd-mark id=\"c3d21633d341d2463f13ef40730e8c4a\"></brd-mark>'\n",
    "        },\n",
    "        'metadata': {},\n",
    "        'transient': {'display_id': 'c3d21633d341d2463f13ef40730e8c4a'}\n",
    "    },\n",
    "    'metadata': {}\n",
    "}\n",
    "```\n"
   ]
  },
  {
   "cell_type": "code",
   "execution_count": 50,
   "metadata": {
    "brd": "d1053f0a-6578-465e-85d5-94329ff60258"
   },
   "outputs": [],
   "source": [
    "if dh: dh.update(HTML(\"<div>I'm doomed!... DOOOOOMED!!</div>\"))"
   ]
  },
  {
   "cell_type": "markdown",
   "metadata": {},
   "source": [
    "## Multi objects display"
   ]
  },
  {
   "cell_type": "code",
   "execution_count": 51,
   "metadata": {
    "brd": "65aaa9ec-de74-4f2e-8c95-3aae9f586538"
   },
   "outputs": [
    {
     "data": {
      "text/html": [
       "<div>Multi 1</div>\n",
       "<brd-mark id=\"90e6c76741b469930ca4a9a4a92f333f\"></brd-mark>"
      ],
      "text/plain": [
       "<IPython.core.display.HTML object>"
      ]
     },
     "metadata": {},
     "output_type": "display_data"
    },
    {
     "data": {
      "text/html": [
       "<div>Multi 3</div>\n",
       "<brd-mark id=\"90e6c76741b469930ca4a9a4a92f333f\"></brd-mark>"
      ],
      "text/plain": [
       "<IPython.core.display.HTML object>"
      ]
     },
     "metadata": {},
     "output_type": "display_data"
    }
   ],
   "source": [
    "dh = display(HTML(\"<div>Multi 1</div>\"), HTML(\"<div>Multi 2</div>\"), display_id=True)"
   ]
  },
  {
   "cell_type": "code",
   "execution_count": 52,
   "metadata": {
    "brd": "7e0b7793-51f4-48d6-a7d3-cb1943147340"
   },
   "outputs": [],
   "source": [
    "if dh: dh.update(HTML(\"<div>Multi 3</div>\"))"
   ]
  },
  {
   "cell_type": "markdown",
   "metadata": {},
   "source": [
    "IPython display assign the same display id to each object. But the front end will only register the last object displayed.  \n",
    "I don't know if this is intended, a bug, or a VSCode foible (VScode clearly separates every display, unlike Jupyter)."
   ]
  },
  {
   "cell_type": "code",
   "execution_count": 53,
   "metadata": {
    "brd": "de56d713-6215-4f94-9cd6-30e411ec5b73"
   },
   "outputs": [],
   "source": [
    "brdd.dhs.clear()"
   ]
  },
  {
   "cell_type": "code",
   "execution_count": 54,
   "metadata": {
    "brd": "961787dd-8f54-45e2-9b72-ef9ee29d82cd"
   },
   "outputs": [
    {
     "data": {
      "text/html": [
       "<div>Multi 1</div>\n",
       "<brd-mark id=\"b69df9389-32b22aa9-135df43e-3a18a0ba\"></brd-mark>"
      ],
      "text/plain": [
       "<IPython.core.display.HTML object>"
      ]
     },
     "metadata": {
      "text/html": {
       "brd_did": "b69df9389-32b22aa9-135df43e-3a18a0ba"
      }
     },
     "output_type": "display_data"
    },
    {
     "data": {
      "text/html": [
       "<div>Multi 4</div>\n",
       "<brd-mark id=\"b8da4f05e-27212c0d-797b91ca-b5a3069b\"></brd-mark>"
      ],
      "text/plain": [
       "<IPython.core.display.HTML object>"
      ]
     },
     "metadata": {},
     "output_type": "display_data"
    }
   ],
   "source": [
    "display(\n",
    "    HTML(\"<div>Multi 1</div>\", metadata={'brd_did': (did1 := new_id())}), \n",
    "    HTML(\"<div>Multi 2</div>\", metadata={'brd_did': (did2 := new_id())})\n",
    ")"
   ]
  },
  {
   "cell_type": "code",
   "execution_count": 55,
   "metadata": {
    "brd": "70bf564c-daa8-43c8-b3e1-1f32b95a6408"
   },
   "outputs": [],
   "source": [
    "dh1, dh2 = brdd.dhs[-2], brdd.dhs[-1]\n",
    "dh1.update(HTML(\"<div>Multi 3</div>\"))\n",
    "\n",
    "time.sleep(0.01)\n",
    "\n",
    "dh2.update(HTML(\"<div>Multi 4</div>\"))"
   ]
  },
  {
   "cell_type": "markdown",
   "metadata": {},
   "source": [
    "We can somewhat sidestep this by using Bridge metadata."
   ]
  },
  {
   "cell_type": "code",
   "execution_count": 56,
   "metadata": {
    "brd": "866c04ec-cee5-4f2b-b47b-6c9b83b609d9"
   },
   "outputs": [
    {
     "data": {
      "text/html": [
       "<div>--as shown above.</div>\n",
       "<brd-mark id=\"b84e13ed2-913592e4-cb627b42-7fd1fc40\"></brd-mark>"
      ],
      "text/plain": [
       "<IPython.core.display.HTML object>"
      ]
     },
     "metadata": {},
     "output_type": "display_data"
    }
   ],
   "source": [
    "bridge_cfg.auto_id = True\n",
    "\n",
    "display(HTML(\"<div>I'm auto-id'd--</div>\"))"
   ]
  },
  {
   "cell_type": "code",
   "execution_count": 57,
   "metadata": {
    "brd": "4b35b9a1-97a8-4f67-823f-a4f30e7cd547"
   },
   "outputs": [],
   "source": [
    "brdd.dhs[-1].update(HTML(\"<div>--as shown above.</div>\"))"
   ]
  },
  {
   "cell_type": "markdown",
   "metadata": {},
   "source": [
    "if `bridge_cfg.auto_id` is True, there's no need to use bridge metadata. Every `display`ed `HTML` object will receive an auto-generated display id.\n"
   ]
  },
  {
   "cell_type": "code",
   "execution_count": 58,
   "metadata": {
    "brd": "f1269534-a73e-4ac4-b53b-45dba79f5833"
   },
   "outputs": [],
   "source": [
    "brdd.dhs.clear()"
   ]
  },
  {
   "cell_type": "code",
   "execution_count": 59,
   "metadata": {
    "brd": "e1577375-6d1d-4311-a718-9f14a0104346"
   },
   "outputs": [
    {
     "data": {},
     "metadata": {
      "bridge": {
       "skip": true
      }
     },
     "output_type": "display_data"
    },
    {
     "data": {
      "text/html": [
       "<div style='max-height: 400px; border: 1px solid black; overflow: auto;'><div>{'auto_show': True, 'auto_id': True}</div>\n",
       "<div>A dark and stormy night...</div></div>"
      ],
      "text/plain": [
       "<IPython.core.display.HTML object>"
      ]
     },
     "metadata": {
      "bridge": {
       "skip": true
      }
     },
     "output_type": "display_data"
    }
   ],
   "source": [
    "lggr = BasicLogger().setup(height=400)\n",
    "lggr.log('A dark and stormy night...')\n",
    "lggr.log(str(vars(bridge_cfg)))"
   ]
  },
  {
   "cell_type": "code",
   "execution_count": 60,
   "metadata": {
    "brd": "9aab44c1-7945-4260-9f62-601d1d8daed0"
   },
   "outputs": [],
   "source": [
    "test_eq(len(brdd.dhs), 0)"
   ]
  },
  {
   "cell_type": "code",
   "execution_count": 61,
   "metadata": {
    "brd": "5abba7cc-d457-424c-b15f-9c0d2061cf07"
   },
   "outputs": [
    {
     "data": {
      "text/plain": [
       "True"
      ]
     },
     "execution_count": 61,
     "metadata": {},
     "output_type": "execute_result"
    }
   ],
   "source": [
    "brdd.unregister()"
   ]
  },
  {
   "cell_type": "markdown",
   "metadata": {},
   "source": [
    "----"
   ]
  },
  {
   "cell_type": "code",
   "execution_count": 62,
   "metadata": {
    "brd": "657117f3-757b-45df-a8fa-c8b055ab1699"
   },
   "outputs": [
    {
     "data": {
      "text/html": [
       "<pre style=\"white-space:pre;overflow-x:auto;line-height:normal;font-family:Menlo,'DejaVu Sans Mono',consolas,'Courier New',monospace\"><span style=\"font-weight: bold\">{</span>\n",
       "    <span style=\"color: #008000; text-decoration-color: #008000\">'msg_type'</span>: <span style=\"color: #008000; text-decoration-color: #008000\">'display_data'</span>,\n",
       "    <span style=\"color: #008000; text-decoration-color: #008000\">'content'</span>: <span style=\"font-weight: bold\">{</span>\n",
       "        <span style=\"color: #008000; text-decoration-color: #008000\">'data'</span>: <span style=\"font-weight: bold\">{</span><span style=\"color: #008000; text-decoration-color: #008000\">'text/html'</span>: <span style=\"color: #008000; text-decoration-color: #008000\">'&lt;div&gt;I\\'m marked!... MAAARKED!!&lt;/div&gt;\\n&lt;brd-mark id=\"ba4f47090-9a07a612-626cda36-212e6fd2\"&gt;&lt;/brd-mark&gt;'</span><span style=\"font-weight: bold\">}</span>,\n",
       "        <span style=\"color: #008000; text-decoration-color: #008000\">'metadata'</span>: <span style=\"font-weight: bold\">{</span><span style=\"color: #008000; text-decoration-color: #008000\">'text/html'</span>: <span style=\"font-weight: bold\">{</span><span style=\"color: #008000; text-decoration-color: #008000\">'brd_did'</span>: <span style=\"color: #008000; text-decoration-color: #008000\">'ba4f47090-9a07a612-626cda36-212e6fd2'</span><span style=\"font-weight: bold\">}}</span>,\n",
       "        <span style=\"color: #008000; text-decoration-color: #008000\">'transient'</span>: <span style=\"font-weight: bold\">{</span><span style=\"color: #008000; text-decoration-color: #008000\">'display_id'</span>: <span style=\"color: #008000; text-decoration-color: #008000\">'ba4f47090-9a07a612-626cda36-212e6fd2'</span><span style=\"font-weight: bold\">}</span>\n",
       "    <span style=\"font-weight: bold\">}</span>\n",
       "<span style=\"font-weight: bold\">}</span>\n",
       "</pre>\n"
      ],
      "text/plain": [
       "\u001b[1m{\u001b[0m\n",
       "    \u001b[32m'msg_type'\u001b[0m: \u001b[32m'display_data'\u001b[0m,\n",
       "    \u001b[32m'content'\u001b[0m: \u001b[1m{\u001b[0m\n",
       "        \u001b[32m'data'\u001b[0m: \u001b[1m{\u001b[0m\u001b[32m'text/html'\u001b[0m: \u001b[32m'\u001b[0m\u001b[32m<\u001b[0m\u001b[32mdiv\u001b[0m\u001b[32m>I\\'m marked!... MAAARKED!!</div>\\n<brd-mark \u001b[0m\u001b[32mid\u001b[0m\u001b[32m=\u001b[0m\u001b[32m\"ba4f47090\u001b[0m\u001b[32m-9a07a612-626cda36-212e6fd2\"></brd-mark\u001b[0m\u001b[32m>\u001b[0m\u001b[32m'\u001b[0m\u001b[1m}\u001b[0m,\n",
       "        \u001b[32m'metadata'\u001b[0m: \u001b[1m{\u001b[0m\u001b[32m'text/html'\u001b[0m: \u001b[1m{\u001b[0m\u001b[32m'brd_did'\u001b[0m: \u001b[32m'ba4f47090-9a07a612-626cda36-212e6fd2'\u001b[0m\u001b[1m}\u001b[0m\u001b[1m}\u001b[0m,\n",
       "        \u001b[32m'transient'\u001b[0m: \u001b[1m{\u001b[0m\u001b[32m'display_id'\u001b[0m: \u001b[32m'ba4f47090-9a07a612-626cda36-212e6fd2'\u001b[0m\u001b[1m}\u001b[0m\n",
       "    \u001b[1m}\u001b[0m\n",
       "\u001b[1m}\u001b[0m\n"
      ]
     },
     "metadata": {},
     "output_type": "display_data"
    },
    {
     "data": {
      "text/html": [
       "<pre style=\"white-space:pre;overflow-x:auto;line-height:normal;font-family:Menlo,'DejaVu Sans Mono',consolas,'Courier New',monospace\"><span style=\"font-weight: bold\">{</span>\n",
       "    <span style=\"color: #008000; text-decoration-color: #008000\">'msg_type'</span>: <span style=\"color: #008000; text-decoration-color: #008000\">'update_display_data'</span>,\n",
       "    <span style=\"color: #008000; text-decoration-color: #008000\">'content'</span>: <span style=\"font-weight: bold\">{</span>\n",
       "        <span style=\"color: #008000; text-decoration-color: #008000\">'data'</span>: <span style=\"font-weight: bold\">{</span><span style=\"color: #008000; text-decoration-color: #008000\">'text/html'</span>: <span style=\"color: #008000; text-decoration-color: #008000\">'&lt;div&gt;I\\'m doomed!... DOOOOOMED!!&lt;/div&gt;\\n&lt;brd-mark id=\"ba4f47090-9a07a612-626cda36-212e6fd2\"&gt;&lt;/brd-mark&gt;'</span><span style=\"font-weight: bold\">}</span>,\n",
       "        <span style=\"color: #008000; text-decoration-color: #008000\">'metadata'</span>: <span style=\"font-weight: bold\">{}</span>,\n",
       "        <span style=\"color: #008000; text-decoration-color: #008000\">'transient'</span>: <span style=\"font-weight: bold\">{</span><span style=\"color: #008000; text-decoration-color: #008000\">'display_id'</span>: <span style=\"color: #008000; text-decoration-color: #008000\">'ba4f47090-9a07a612-626cda36-212e6fd2'</span><span style=\"font-weight: bold\">}</span>\n",
       "    <span style=\"font-weight: bold\">}</span>\n",
       "<span style=\"font-weight: bold\">}</span>\n",
       "</pre>\n"
      ],
      "text/plain": [
       "\u001b[1m{\u001b[0m\n",
       "    \u001b[32m'msg_type'\u001b[0m: \u001b[32m'update_display_data'\u001b[0m,\n",
       "    \u001b[32m'content'\u001b[0m: \u001b[1m{\u001b[0m\n",
       "        \u001b[32m'data'\u001b[0m: \u001b[1m{\u001b[0m\u001b[32m'text/html'\u001b[0m: \u001b[32m'\u001b[0m\u001b[32m<\u001b[0m\u001b[32mdiv\u001b[0m\u001b[32m>I\\'m doomed!... DOOOOOMED!!</div>\\n<brd-mark \u001b[0m\u001b[32mid\u001b[0m\u001b[32m=\u001b[0m\u001b[32m\"ba4f47090\u001b[0m\u001b[32m-9a07a612-626cda36-212e6fd2\"></brd-mark\u001b[0m\u001b[32m>\u001b[0m\u001b[32m'\u001b[0m\u001b[1m}\u001b[0m,\n",
       "        \u001b[32m'metadata'\u001b[0m: \u001b[1m{\u001b[0m\u001b[1m}\u001b[0m,\n",
       "        \u001b[32m'transient'\u001b[0m: \u001b[1m{\u001b[0m\u001b[32m'display_id'\u001b[0m: \u001b[32m'ba4f47090-9a07a612-626cda36-212e6fd2'\u001b[0m\u001b[1m}\u001b[0m\n",
       "    \u001b[1m}\u001b[0m\n",
       "\u001b[1m}\u001b[0m\n"
      ]
     },
     "metadata": {},
     "output_type": "display_data"
    },
    {
     "data": {
      "text/html": [
       "<pre style=\"white-space:pre;overflow-x:auto;line-height:normal;font-family:Menlo,'DejaVu Sans Mono',consolas,'Courier New',monospace\"><span style=\"font-weight: bold\">{</span>\n",
       "    <span style=\"color: #008000; text-decoration-color: #008000\">'msg_type'</span>: <span style=\"color: #008000; text-decoration-color: #008000\">'display_data'</span>,\n",
       "    <span style=\"color: #008000; text-decoration-color: #008000\">'content'</span>: <span style=\"font-weight: bold\">{</span>\n",
       "        <span style=\"color: #008000; text-decoration-color: #008000\">'data'</span>: <span style=\"font-weight: bold\">{</span><span style=\"color: #008000; text-decoration-color: #008000\">'text/html'</span>: <span style=\"color: #008000; text-decoration-color: #008000\">'&lt;div&gt;I\\'m marked!... MAAARKED!!&lt;/div&gt;\\n&lt;brd-mark id=\"4fc4ca1e1b85ecce61090bde4c767382\"&gt;&lt;/brd-mark&gt;'</span><span style=\"font-weight: bold\">}</span>,\n",
       "        <span style=\"color: #008000; text-decoration-color: #008000\">'metadata'</span>: <span style=\"font-weight: bold\">{}</span>,\n",
       "        <span style=\"color: #008000; text-decoration-color: #008000\">'transient'</span>: <span style=\"font-weight: bold\">{</span><span style=\"color: #008000; text-decoration-color: #008000\">'display_id'</span>: <span style=\"color: #008000; text-decoration-color: #008000\">'4fc4ca1e1b85ecce61090bde4c767382'</span><span style=\"font-weight: bold\">}</span>\n",
       "    <span style=\"font-weight: bold\">}</span>\n",
       "<span style=\"font-weight: bold\">}</span>\n",
       "</pre>\n"
      ],
      "text/plain": [
       "\u001b[1m{\u001b[0m\n",
       "    \u001b[32m'msg_type'\u001b[0m: \u001b[32m'display_data'\u001b[0m,\n",
       "    \u001b[32m'content'\u001b[0m: \u001b[1m{\u001b[0m\n",
       "        \u001b[32m'data'\u001b[0m: \u001b[1m{\u001b[0m\u001b[32m'text/html'\u001b[0m: \u001b[32m'\u001b[0m\u001b[32m<\u001b[0m\u001b[32mdiv\u001b[0m\u001b[32m>I\\'m marked!... MAAARKED!!</div>\\n<brd-mark \u001b[0m\u001b[32mid\u001b[0m\u001b[32m=\u001b[0m\u001b[32m\"4fc4ca1e1b85ecce61090bde4c767382\"\u001b[0m\u001b[32m></brd-mark\u001b[0m\u001b[32m>\u001b[0m\u001b[32m'\u001b[0m\u001b[1m}\u001b[0m,\n",
       "        \u001b[32m'metadata'\u001b[0m: \u001b[1m{\u001b[0m\u001b[1m}\u001b[0m,\n",
       "        \u001b[32m'transient'\u001b[0m: \u001b[1m{\u001b[0m\u001b[32m'display_id'\u001b[0m: \u001b[32m'4fc4ca1e1b85ecce61090bde4c767382'\u001b[0m\u001b[1m}\u001b[0m\n",
       "    \u001b[1m}\u001b[0m\n",
       "\u001b[1m}\u001b[0m\n"
      ]
     },
     "metadata": {},
     "output_type": "display_data"
    },
    {
     "data": {
      "text/html": [
       "<pre style=\"white-space:pre;overflow-x:auto;line-height:normal;font-family:Menlo,'DejaVu Sans Mono',consolas,'Courier New',monospace\"><span style=\"font-weight: bold\">{</span>\n",
       "    <span style=\"color: #008000; text-decoration-color: #008000\">'msg_type'</span>: <span style=\"color: #008000; text-decoration-color: #008000\">'update_display_data'</span>,\n",
       "    <span style=\"color: #008000; text-decoration-color: #008000\">'content'</span>: <span style=\"font-weight: bold\">{</span>\n",
       "        <span style=\"color: #008000; text-decoration-color: #008000\">'data'</span>: <span style=\"font-weight: bold\">{</span><span style=\"color: #008000; text-decoration-color: #008000\">'text/html'</span>: <span style=\"color: #008000; text-decoration-color: #008000\">'&lt;div&gt;I\\'m doomed!... DOOOOOMED!!&lt;/div&gt;\\n&lt;brd-mark id=\"4fc4ca1e1b85ecce61090bde4c767382\"&gt;&lt;/brd-mark&gt;'</span><span style=\"font-weight: bold\">}</span>,\n",
       "        <span style=\"color: #008000; text-decoration-color: #008000\">'metadata'</span>: <span style=\"font-weight: bold\">{}</span>,\n",
       "        <span style=\"color: #008000; text-decoration-color: #008000\">'transient'</span>: <span style=\"font-weight: bold\">{</span><span style=\"color: #008000; text-decoration-color: #008000\">'display_id'</span>: <span style=\"color: #008000; text-decoration-color: #008000\">'4fc4ca1e1b85ecce61090bde4c767382'</span><span style=\"font-weight: bold\">}</span>\n",
       "    <span style=\"font-weight: bold\">}</span>\n",
       "<span style=\"font-weight: bold\">}</span>\n",
       "</pre>\n"
      ],
      "text/plain": [
       "\u001b[1m{\u001b[0m\n",
       "    \u001b[32m'msg_type'\u001b[0m: \u001b[32m'update_display_data'\u001b[0m,\n",
       "    \u001b[32m'content'\u001b[0m: \u001b[1m{\u001b[0m\n",
       "        \u001b[32m'data'\u001b[0m: \u001b[1m{\u001b[0m\u001b[32m'text/html'\u001b[0m: \u001b[32m'\u001b[0m\u001b[32m<\u001b[0m\u001b[32mdiv\u001b[0m\u001b[32m>I\\'m doomed!... DOOOOOMED!!</div>\\n<brd-mark \u001b[0m\u001b[32mid\u001b[0m\u001b[32m=\u001b[0m\u001b[32m\"4fc4ca1e1b85ecce61090bde4c767382\"\u001b[0m\u001b[32m></brd-mark\u001b[0m\u001b[32m>\u001b[0m\u001b[32m'\u001b[0m\u001b[1m}\u001b[0m,\n",
       "        \u001b[32m'metadata'\u001b[0m: \u001b[1m{\u001b[0m\u001b[1m}\u001b[0m,\n",
       "        \u001b[32m'transient'\u001b[0m: \u001b[1m{\u001b[0m\u001b[32m'display_id'\u001b[0m: \u001b[32m'4fc4ca1e1b85ecce61090bde4c767382'\u001b[0m\u001b[1m}\u001b[0m\n",
       "    \u001b[1m}\u001b[0m\n",
       "\u001b[1m}\u001b[0m\n"
      ]
     },
     "metadata": {},
     "output_type": "display_data"
    },
    {
     "data": {
      "text/html": [
       "<pre style=\"white-space:pre;overflow-x:auto;line-height:normal;font-family:Menlo,'DejaVu Sans Mono',consolas,'Courier New',monospace\"><span style=\"font-weight: bold\">{</span>\n",
       "    <span style=\"color: #008000; text-decoration-color: #008000\">'msg_type'</span>: <span style=\"color: #008000; text-decoration-color: #008000\">'display_data'</span>,\n",
       "    <span style=\"color: #008000; text-decoration-color: #008000\">'content'</span>: <span style=\"font-weight: bold\">{</span>\n",
       "        <span style=\"color: #008000; text-decoration-color: #008000\">'data'</span>: <span style=\"font-weight: bold\">{</span><span style=\"color: #008000; text-decoration-color: #008000\">'text/html'</span>: <span style=\"color: #008000; text-decoration-color: #008000\">'&lt;div&gt;Multi 1&lt;/div&gt;\\n&lt;brd-mark id=\"90e6c76741b469930ca4a9a4a92f333f\"&gt;&lt;/brd-mark&gt;'</span><span style=\"font-weight: bold\">}</span>,\n",
       "        <span style=\"color: #008000; text-decoration-color: #008000\">'metadata'</span>: <span style=\"font-weight: bold\">{}</span>,\n",
       "        <span style=\"color: #008000; text-decoration-color: #008000\">'transient'</span>: <span style=\"font-weight: bold\">{</span><span style=\"color: #008000; text-decoration-color: #008000\">'display_id'</span>: <span style=\"color: #008000; text-decoration-color: #008000\">'90e6c76741b469930ca4a9a4a92f333f'</span><span style=\"font-weight: bold\">}</span>\n",
       "    <span style=\"font-weight: bold\">}</span>\n",
       "<span style=\"font-weight: bold\">}</span>\n",
       "</pre>\n"
      ],
      "text/plain": [
       "\u001b[1m{\u001b[0m\n",
       "    \u001b[32m'msg_type'\u001b[0m: \u001b[32m'display_data'\u001b[0m,\n",
       "    \u001b[32m'content'\u001b[0m: \u001b[1m{\u001b[0m\n",
       "        \u001b[32m'data'\u001b[0m: \u001b[1m{\u001b[0m\u001b[32m'text/html'\u001b[0m: \u001b[32m'\u001b[0m\u001b[32m<\u001b[0m\u001b[32mdiv\u001b[0m\u001b[32m>Multi 1</div>\\n<brd-mark \u001b[0m\u001b[32mid\u001b[0m\u001b[32m=\u001b[0m\u001b[32m\"90e6c76741b469930ca4a9a4a92f333f\"\u001b[0m\u001b[32m></brd-mark\u001b[0m\u001b[32m>\u001b[0m\u001b[32m'\u001b[0m\u001b[1m}\u001b[0m,\n",
       "        \u001b[32m'metadata'\u001b[0m: \u001b[1m{\u001b[0m\u001b[1m}\u001b[0m,\n",
       "        \u001b[32m'transient'\u001b[0m: \u001b[1m{\u001b[0m\u001b[32m'display_id'\u001b[0m: \u001b[32m'90e6c76741b469930ca4a9a4a92f333f'\u001b[0m\u001b[1m}\u001b[0m\n",
       "    \u001b[1m}\u001b[0m\n",
       "\u001b[1m}\u001b[0m\n"
      ]
     },
     "metadata": {},
     "output_type": "display_data"
    },
    {
     "data": {
      "text/html": [
       "<pre style=\"white-space:pre;overflow-x:auto;line-height:normal;font-family:Menlo,'DejaVu Sans Mono',consolas,'Courier New',monospace\"><span style=\"font-weight: bold\">{</span>\n",
       "    <span style=\"color: #008000; text-decoration-color: #008000\">'msg_type'</span>: <span style=\"color: #008000; text-decoration-color: #008000\">'display_data'</span>,\n",
       "    <span style=\"color: #008000; text-decoration-color: #008000\">'content'</span>: <span style=\"font-weight: bold\">{</span>\n",
       "        <span style=\"color: #008000; text-decoration-color: #008000\">'data'</span>: <span style=\"font-weight: bold\">{</span><span style=\"color: #008000; text-decoration-color: #008000\">'text/html'</span>: <span style=\"color: #008000; text-decoration-color: #008000\">'&lt;div&gt;Multi 2&lt;/div&gt;\\n&lt;brd-mark id=\"90e6c76741b469930ca4a9a4a92f333f\"&gt;&lt;/brd-mark&gt;'</span><span style=\"font-weight: bold\">}</span>,\n",
       "        <span style=\"color: #008000; text-decoration-color: #008000\">'metadata'</span>: <span style=\"font-weight: bold\">{}</span>,\n",
       "        <span style=\"color: #008000; text-decoration-color: #008000\">'transient'</span>: <span style=\"font-weight: bold\">{</span><span style=\"color: #008000; text-decoration-color: #008000\">'display_id'</span>: <span style=\"color: #008000; text-decoration-color: #008000\">'90e6c76741b469930ca4a9a4a92f333f'</span><span style=\"font-weight: bold\">}</span>\n",
       "    <span style=\"font-weight: bold\">}</span>\n",
       "<span style=\"font-weight: bold\">}</span>\n",
       "</pre>\n"
      ],
      "text/plain": [
       "\u001b[1m{\u001b[0m\n",
       "    \u001b[32m'msg_type'\u001b[0m: \u001b[32m'display_data'\u001b[0m,\n",
       "    \u001b[32m'content'\u001b[0m: \u001b[1m{\u001b[0m\n",
       "        \u001b[32m'data'\u001b[0m: \u001b[1m{\u001b[0m\u001b[32m'text/html'\u001b[0m: \u001b[32m'\u001b[0m\u001b[32m<\u001b[0m\u001b[32mdiv\u001b[0m\u001b[32m>Multi 2</div>\\n<brd-mark \u001b[0m\u001b[32mid\u001b[0m\u001b[32m=\u001b[0m\u001b[32m\"90e6c76741b469930ca4a9a4a92f333f\"\u001b[0m\u001b[32m></brd-mark\u001b[0m\u001b[32m>\u001b[0m\u001b[32m'\u001b[0m\u001b[1m}\u001b[0m,\n",
       "        \u001b[32m'metadata'\u001b[0m: \u001b[1m{\u001b[0m\u001b[1m}\u001b[0m,\n",
       "        \u001b[32m'transient'\u001b[0m: \u001b[1m{\u001b[0m\u001b[32m'display_id'\u001b[0m: \u001b[32m'90e6c76741b469930ca4a9a4a92f333f'\u001b[0m\u001b[1m}\u001b[0m\n",
       "    \u001b[1m}\u001b[0m\n",
       "\u001b[1m}\u001b[0m\n"
      ]
     },
     "metadata": {},
     "output_type": "display_data"
    },
    {
     "data": {
      "text/html": [
       "<pre style=\"white-space:pre;overflow-x:auto;line-height:normal;font-family:Menlo,'DejaVu Sans Mono',consolas,'Courier New',monospace\"><span style=\"font-weight: bold\">{</span>\n",
       "    <span style=\"color: #008000; text-decoration-color: #008000\">'msg_type'</span>: <span style=\"color: #008000; text-decoration-color: #008000\">'update_display_data'</span>,\n",
       "    <span style=\"color: #008000; text-decoration-color: #008000\">'content'</span>: <span style=\"font-weight: bold\">{</span>\n",
       "        <span style=\"color: #008000; text-decoration-color: #008000\">'data'</span>: <span style=\"font-weight: bold\">{</span><span style=\"color: #008000; text-decoration-color: #008000\">'text/html'</span>: <span style=\"color: #008000; text-decoration-color: #008000\">'&lt;div&gt;Multi 3&lt;/div&gt;\\n&lt;brd-mark id=\"90e6c76741b469930ca4a9a4a92f333f\"&gt;&lt;/brd-mark&gt;'</span><span style=\"font-weight: bold\">}</span>,\n",
       "        <span style=\"color: #008000; text-decoration-color: #008000\">'metadata'</span>: <span style=\"font-weight: bold\">{}</span>,\n",
       "        <span style=\"color: #008000; text-decoration-color: #008000\">'transient'</span>: <span style=\"font-weight: bold\">{</span><span style=\"color: #008000; text-decoration-color: #008000\">'display_id'</span>: <span style=\"color: #008000; text-decoration-color: #008000\">'90e6c76741b469930ca4a9a4a92f333f'</span><span style=\"font-weight: bold\">}</span>\n",
       "    <span style=\"font-weight: bold\">}</span>\n",
       "<span style=\"font-weight: bold\">}</span>\n",
       "</pre>\n"
      ],
      "text/plain": [
       "\u001b[1m{\u001b[0m\n",
       "    \u001b[32m'msg_type'\u001b[0m: \u001b[32m'update_display_data'\u001b[0m,\n",
       "    \u001b[32m'content'\u001b[0m: \u001b[1m{\u001b[0m\n",
       "        \u001b[32m'data'\u001b[0m: \u001b[1m{\u001b[0m\u001b[32m'text/html'\u001b[0m: \u001b[32m'\u001b[0m\u001b[32m<\u001b[0m\u001b[32mdiv\u001b[0m\u001b[32m>Multi 3</div>\\n<brd-mark \u001b[0m\u001b[32mid\u001b[0m\u001b[32m=\u001b[0m\u001b[32m\"90e6c76741b469930ca4a9a4a92f333f\"\u001b[0m\u001b[32m></brd-mark\u001b[0m\u001b[32m>\u001b[0m\u001b[32m'\u001b[0m\u001b[1m}\u001b[0m,\n",
       "        \u001b[32m'metadata'\u001b[0m: \u001b[1m{\u001b[0m\u001b[1m}\u001b[0m,\n",
       "        \u001b[32m'transient'\u001b[0m: \u001b[1m{\u001b[0m\u001b[32m'display_id'\u001b[0m: \u001b[32m'90e6c76741b469930ca4a9a4a92f333f'\u001b[0m\u001b[1m}\u001b[0m\n",
       "    \u001b[1m}\u001b[0m\n",
       "\u001b[1m}\u001b[0m\n"
      ]
     },
     "metadata": {},
     "output_type": "display_data"
    },
    {
     "data": {
      "text/html": [
       "<pre style=\"white-space:pre;overflow-x:auto;line-height:normal;font-family:Menlo,'DejaVu Sans Mono',consolas,'Courier New',monospace\"><span style=\"font-weight: bold\">{</span>\n",
       "    <span style=\"color: #008000; text-decoration-color: #008000\">'msg_type'</span>: <span style=\"color: #008000; text-decoration-color: #008000\">'display_data'</span>,\n",
       "    <span style=\"color: #008000; text-decoration-color: #008000\">'content'</span>: <span style=\"font-weight: bold\">{</span>\n",
       "        <span style=\"color: #008000; text-decoration-color: #008000\">'data'</span>: <span style=\"font-weight: bold\">{</span><span style=\"color: #008000; text-decoration-color: #008000\">'text/html'</span>: <span style=\"color: #008000; text-decoration-color: #008000\">'&lt;div&gt;Multi 1&lt;/div&gt;\\n&lt;brd-mark id=\"b69df9389-32b22aa9-135df43e-3a18a0ba\"&gt;&lt;/brd-mark&gt;'</span><span style=\"font-weight: bold\">}</span>,\n",
       "        <span style=\"color: #008000; text-decoration-color: #008000\">'metadata'</span>: <span style=\"font-weight: bold\">{</span><span style=\"color: #008000; text-decoration-color: #008000\">'text/html'</span>: <span style=\"font-weight: bold\">{</span><span style=\"color: #008000; text-decoration-color: #008000\">'brd_did'</span>: <span style=\"color: #008000; text-decoration-color: #008000\">'b69df9389-32b22aa9-135df43e-3a18a0ba'</span><span style=\"font-weight: bold\">}}</span>,\n",
       "        <span style=\"color: #008000; text-decoration-color: #008000\">'transient'</span>: <span style=\"font-weight: bold\">{</span><span style=\"color: #008000; text-decoration-color: #008000\">'display_id'</span>: <span style=\"color: #008000; text-decoration-color: #008000\">'b69df9389-32b22aa9-135df43e-3a18a0ba'</span><span style=\"font-weight: bold\">}</span>\n",
       "    <span style=\"font-weight: bold\">}</span>\n",
       "<span style=\"font-weight: bold\">}</span>\n",
       "</pre>\n"
      ],
      "text/plain": [
       "\u001b[1m{\u001b[0m\n",
       "    \u001b[32m'msg_type'\u001b[0m: \u001b[32m'display_data'\u001b[0m,\n",
       "    \u001b[32m'content'\u001b[0m: \u001b[1m{\u001b[0m\n",
       "        \u001b[32m'data'\u001b[0m: \u001b[1m{\u001b[0m\u001b[32m'text/html'\u001b[0m: \u001b[32m'\u001b[0m\u001b[32m<\u001b[0m\u001b[32mdiv\u001b[0m\u001b[32m>Multi 1</div>\\n<brd-mark \u001b[0m\u001b[32mid\u001b[0m\u001b[32m=\u001b[0m\u001b[32m\"b69df9389\u001b[0m\u001b[32m-32b22aa9-135df43e-3a18a0ba\"></brd-mark\u001b[0m\u001b[32m>\u001b[0m\u001b[32m'\u001b[0m\u001b[1m}\u001b[0m,\n",
       "        \u001b[32m'metadata'\u001b[0m: \u001b[1m{\u001b[0m\u001b[32m'text/html'\u001b[0m: \u001b[1m{\u001b[0m\u001b[32m'brd_did'\u001b[0m: \u001b[32m'b69df9389-32b22aa9-135df43e-3a18a0ba'\u001b[0m\u001b[1m}\u001b[0m\u001b[1m}\u001b[0m,\n",
       "        \u001b[32m'transient'\u001b[0m: \u001b[1m{\u001b[0m\u001b[32m'display_id'\u001b[0m: \u001b[32m'b69df9389-32b22aa9-135df43e-3a18a0ba'\u001b[0m\u001b[1m}\u001b[0m\n",
       "    \u001b[1m}\u001b[0m\n",
       "\u001b[1m}\u001b[0m\n"
      ]
     },
     "metadata": {},
     "output_type": "display_data"
    },
    {
     "data": {
      "text/html": [
       "<pre style=\"white-space:pre;overflow-x:auto;line-height:normal;font-family:Menlo,'DejaVu Sans Mono',consolas,'Courier New',monospace\"><span style=\"font-weight: bold\">{</span>\n",
       "    <span style=\"color: #008000; text-decoration-color: #008000\">'msg_type'</span>: <span style=\"color: #008000; text-decoration-color: #008000\">'display_data'</span>,\n",
       "    <span style=\"color: #008000; text-decoration-color: #008000\">'content'</span>: <span style=\"font-weight: bold\">{</span>\n",
       "        <span style=\"color: #008000; text-decoration-color: #008000\">'data'</span>: <span style=\"font-weight: bold\">{</span><span style=\"color: #008000; text-decoration-color: #008000\">'text/html'</span>: <span style=\"color: #008000; text-decoration-color: #008000\">'&lt;div&gt;Multi 2&lt;/div&gt;\\n&lt;brd-mark id=\"b8da4f05e-27212c0d-797b91ca-b5a3069b\"&gt;&lt;/brd-mark&gt;'</span><span style=\"font-weight: bold\">}</span>,\n",
       "        <span style=\"color: #008000; text-decoration-color: #008000\">'metadata'</span>: <span style=\"font-weight: bold\">{</span><span style=\"color: #008000; text-decoration-color: #008000\">'text/html'</span>: <span style=\"font-weight: bold\">{</span><span style=\"color: #008000; text-decoration-color: #008000\">'brd_did'</span>: <span style=\"color: #008000; text-decoration-color: #008000\">'b8da4f05e-27212c0d-797b91ca-b5a3069b'</span><span style=\"font-weight: bold\">}}</span>,\n",
       "        <span style=\"color: #008000; text-decoration-color: #008000\">'transient'</span>: <span style=\"font-weight: bold\">{</span><span style=\"color: #008000; text-decoration-color: #008000\">'display_id'</span>: <span style=\"color: #008000; text-decoration-color: #008000\">'b8da4f05e-27212c0d-797b91ca-b5a3069b'</span><span style=\"font-weight: bold\">}</span>\n",
       "    <span style=\"font-weight: bold\">}</span>\n",
       "<span style=\"font-weight: bold\">}</span>\n",
       "</pre>\n"
      ],
      "text/plain": [
       "\u001b[1m{\u001b[0m\n",
       "    \u001b[32m'msg_type'\u001b[0m: \u001b[32m'display_data'\u001b[0m,\n",
       "    \u001b[32m'content'\u001b[0m: \u001b[1m{\u001b[0m\n",
       "        \u001b[32m'data'\u001b[0m: \u001b[1m{\u001b[0m\u001b[32m'text/html'\u001b[0m: \u001b[32m'\u001b[0m\u001b[32m<\u001b[0m\u001b[32mdiv\u001b[0m\u001b[32m>Multi 2</div>\\n<brd-mark \u001b[0m\u001b[32mid\u001b[0m\u001b[32m=\u001b[0m\u001b[32m\"b8da4f05e\u001b[0m\u001b[32m-27212c0d-797b91ca-b5a3069b\"></brd-mark\u001b[0m\u001b[32m>\u001b[0m\u001b[32m'\u001b[0m\u001b[1m}\u001b[0m,\n",
       "        \u001b[32m'metadata'\u001b[0m: \u001b[1m{\u001b[0m\u001b[32m'text/html'\u001b[0m: \u001b[1m{\u001b[0m\u001b[32m'brd_did'\u001b[0m: \u001b[32m'b8da4f05e-27212c0d-797b91ca-b5a3069b'\u001b[0m\u001b[1m}\u001b[0m\u001b[1m}\u001b[0m,\n",
       "        \u001b[32m'transient'\u001b[0m: \u001b[1m{\u001b[0m\u001b[32m'display_id'\u001b[0m: \u001b[32m'b8da4f05e-27212c0d-797b91ca-b5a3069b'\u001b[0m\u001b[1m}\u001b[0m\n",
       "    \u001b[1m}\u001b[0m\n",
       "\u001b[1m}\u001b[0m\n"
      ]
     },
     "metadata": {},
     "output_type": "display_data"
    },
    {
     "data": {
      "text/html": [
       "<pre style=\"white-space:pre;overflow-x:auto;line-height:normal;font-family:Menlo,'DejaVu Sans Mono',consolas,'Courier New',monospace\"><span style=\"font-weight: bold\">{</span>\n",
       "    <span style=\"color: #008000; text-decoration-color: #008000\">'msg_type'</span>: <span style=\"color: #008000; text-decoration-color: #008000\">'update_display_data'</span>,\n",
       "    <span style=\"color: #008000; text-decoration-color: #008000\">'content'</span>: <span style=\"font-weight: bold\">{</span>\n",
       "        <span style=\"color: #008000; text-decoration-color: #008000\">'data'</span>: <span style=\"font-weight: bold\">{</span><span style=\"color: #008000; text-decoration-color: #008000\">'text/html'</span>: <span style=\"color: #008000; text-decoration-color: #008000\">'&lt;div&gt;Multi 3&lt;/div&gt;\\n&lt;brd-mark id=\"b69df9389-32b22aa9-135df43e-3a18a0ba\"&gt;&lt;/brd-mark&gt;'</span><span style=\"font-weight: bold\">}</span>,\n",
       "        <span style=\"color: #008000; text-decoration-color: #008000\">'metadata'</span>: <span style=\"font-weight: bold\">{}</span>,\n",
       "        <span style=\"color: #008000; text-decoration-color: #008000\">'transient'</span>: <span style=\"font-weight: bold\">{</span><span style=\"color: #008000; text-decoration-color: #008000\">'display_id'</span>: <span style=\"color: #008000; text-decoration-color: #008000\">'b69df9389-32b22aa9-135df43e-3a18a0ba'</span><span style=\"font-weight: bold\">}</span>\n",
       "    <span style=\"font-weight: bold\">}</span>\n",
       "<span style=\"font-weight: bold\">}</span>\n",
       "</pre>\n"
      ],
      "text/plain": [
       "\u001b[1m{\u001b[0m\n",
       "    \u001b[32m'msg_type'\u001b[0m: \u001b[32m'update_display_data'\u001b[0m,\n",
       "    \u001b[32m'content'\u001b[0m: \u001b[1m{\u001b[0m\n",
       "        \u001b[32m'data'\u001b[0m: \u001b[1m{\u001b[0m\u001b[32m'text/html'\u001b[0m: \u001b[32m'\u001b[0m\u001b[32m<\u001b[0m\u001b[32mdiv\u001b[0m\u001b[32m>Multi 3</div>\\n<brd-mark \u001b[0m\u001b[32mid\u001b[0m\u001b[32m=\u001b[0m\u001b[32m\"b69df9389\u001b[0m\u001b[32m-32b22aa9-135df43e-3a18a0ba\"></brd-mark\u001b[0m\u001b[32m>\u001b[0m\u001b[32m'\u001b[0m\u001b[1m}\u001b[0m,\n",
       "        \u001b[32m'metadata'\u001b[0m: \u001b[1m{\u001b[0m\u001b[1m}\u001b[0m,\n",
       "        \u001b[32m'transient'\u001b[0m: \u001b[1m{\u001b[0m\u001b[32m'display_id'\u001b[0m: \u001b[32m'b69df9389-32b22aa9-135df43e-3a18a0ba'\u001b[0m\u001b[1m}\u001b[0m\n",
       "    \u001b[1m}\u001b[0m\n",
       "\u001b[1m}\u001b[0m\n"
      ]
     },
     "metadata": {},
     "output_type": "display_data"
    },
    {
     "data": {
      "text/html": [
       "<pre style=\"white-space:pre;overflow-x:auto;line-height:normal;font-family:Menlo,'DejaVu Sans Mono',consolas,'Courier New',monospace\"><span style=\"font-weight: bold\">{</span>\n",
       "    <span style=\"color: #008000; text-decoration-color: #008000\">'msg_type'</span>: <span style=\"color: #008000; text-decoration-color: #008000\">'update_display_data'</span>,\n",
       "    <span style=\"color: #008000; text-decoration-color: #008000\">'content'</span>: <span style=\"font-weight: bold\">{</span>\n",
       "        <span style=\"color: #008000; text-decoration-color: #008000\">'data'</span>: <span style=\"font-weight: bold\">{</span><span style=\"color: #008000; text-decoration-color: #008000\">'text/html'</span>: <span style=\"color: #008000; text-decoration-color: #008000\">'&lt;div&gt;Multi 4&lt;/div&gt;\\n&lt;brd-mark id=\"b8da4f05e-27212c0d-797b91ca-b5a3069b\"&gt;&lt;/brd-mark&gt;'</span><span style=\"font-weight: bold\">}</span>,\n",
       "        <span style=\"color: #008000; text-decoration-color: #008000\">'metadata'</span>: <span style=\"font-weight: bold\">{}</span>,\n",
       "        <span style=\"color: #008000; text-decoration-color: #008000\">'transient'</span>: <span style=\"font-weight: bold\">{</span><span style=\"color: #008000; text-decoration-color: #008000\">'display_id'</span>: <span style=\"color: #008000; text-decoration-color: #008000\">'b8da4f05e-27212c0d-797b91ca-b5a3069b'</span><span style=\"font-weight: bold\">}</span>\n",
       "    <span style=\"font-weight: bold\">}</span>\n",
       "<span style=\"font-weight: bold\">}</span>\n",
       "</pre>\n"
      ],
      "text/plain": [
       "\u001b[1m{\u001b[0m\n",
       "    \u001b[32m'msg_type'\u001b[0m: \u001b[32m'update_display_data'\u001b[0m,\n",
       "    \u001b[32m'content'\u001b[0m: \u001b[1m{\u001b[0m\n",
       "        \u001b[32m'data'\u001b[0m: \u001b[1m{\u001b[0m\u001b[32m'text/html'\u001b[0m: \u001b[32m'\u001b[0m\u001b[32m<\u001b[0m\u001b[32mdiv\u001b[0m\u001b[32m>Multi 4</div>\\n<brd-mark \u001b[0m\u001b[32mid\u001b[0m\u001b[32m=\u001b[0m\u001b[32m\"b8da4f05e\u001b[0m\u001b[32m-27212c0d-797b91ca-b5a3069b\"></brd-mark\u001b[0m\u001b[32m>\u001b[0m\u001b[32m'\u001b[0m\u001b[1m}\u001b[0m,\n",
       "        \u001b[32m'metadata'\u001b[0m: \u001b[1m{\u001b[0m\u001b[1m}\u001b[0m,\n",
       "        \u001b[32m'transient'\u001b[0m: \u001b[1m{\u001b[0m\u001b[32m'display_id'\u001b[0m: \u001b[32m'b8da4f05e-27212c0d-797b91ca-b5a3069b'\u001b[0m\u001b[1m}\u001b[0m\n",
       "    \u001b[1m}\u001b[0m\n",
       "\u001b[1m}\u001b[0m\n"
      ]
     },
     "metadata": {},
     "output_type": "display_data"
    },
    {
     "data": {
      "text/html": [
       "<pre style=\"white-space:pre;overflow-x:auto;line-height:normal;font-family:Menlo,'DejaVu Sans Mono',consolas,'Courier New',monospace\"><span style=\"font-weight: bold\">{</span>\n",
       "    <span style=\"color: #008000; text-decoration-color: #008000\">'msg_type'</span>: <span style=\"color: #008000; text-decoration-color: #008000\">'display_data'</span>,\n",
       "    <span style=\"color: #008000; text-decoration-color: #008000\">'content'</span>: <span style=\"font-weight: bold\">{</span>\n",
       "        <span style=\"color: #008000; text-decoration-color: #008000\">'data'</span>: <span style=\"font-weight: bold\">{</span><span style=\"color: #008000; text-decoration-color: #008000\">'text/html'</span>: <span style=\"color: #008000; text-decoration-color: #008000\">'&lt;div&gt;I\\'m auto-id\\'d--&lt;/div&gt;\\n&lt;brd-mark id=\"b84e13ed2-913592e4-cb627b42-7fd1fc40\"&gt;&lt;/brd-mark&gt;'</span><span style=\"font-weight: bold\">}</span>,\n",
       "        <span style=\"color: #008000; text-decoration-color: #008000\">'metadata'</span>: <span style=\"font-weight: bold\">{}</span>,\n",
       "        <span style=\"color: #008000; text-decoration-color: #008000\">'transient'</span>: <span style=\"font-weight: bold\">{</span><span style=\"color: #008000; text-decoration-color: #008000\">'display_id'</span>: <span style=\"color: #008000; text-decoration-color: #008000\">'b84e13ed2-913592e4-cb627b42-7fd1fc40'</span><span style=\"font-weight: bold\">}</span>\n",
       "    <span style=\"font-weight: bold\">}</span>\n",
       "<span style=\"font-weight: bold\">}</span>\n",
       "</pre>\n"
      ],
      "text/plain": [
       "\u001b[1m{\u001b[0m\n",
       "    \u001b[32m'msg_type'\u001b[0m: \u001b[32m'display_data'\u001b[0m,\n",
       "    \u001b[32m'content'\u001b[0m: \u001b[1m{\u001b[0m\n",
       "        \u001b[32m'data'\u001b[0m: \u001b[1m{\u001b[0m\u001b[32m'text/html'\u001b[0m: \u001b[32m'\u001b[0m\u001b[32m<\u001b[0m\u001b[32mdiv\u001b[0m\u001b[32m>I\\'m auto-id\\'d--</div>\\n<brd-mark \u001b[0m\u001b[32mid\u001b[0m\u001b[32m=\u001b[0m\u001b[32m\"b84e13ed2\u001b[0m\u001b[32m-913592e4-cb627b42-7fd1fc40\"></brd-mark\u001b[0m\u001b[32m>\u001b[0m\u001b[32m'\u001b[0m\u001b[1m}\u001b[0m,\n",
       "        \u001b[32m'metadata'\u001b[0m: \u001b[1m{\u001b[0m\u001b[1m}\u001b[0m,\n",
       "        \u001b[32m'transient'\u001b[0m: \u001b[1m{\u001b[0m\u001b[32m'display_id'\u001b[0m: \u001b[32m'b84e13ed2-913592e4-cb627b42-7fd1fc40'\u001b[0m\u001b[1m}\u001b[0m\n",
       "    \u001b[1m}\u001b[0m\n",
       "\u001b[1m}\u001b[0m\n"
      ]
     },
     "metadata": {},
     "output_type": "display_data"
    },
    {
     "data": {
      "text/html": [
       "<pre style=\"white-space:pre;overflow-x:auto;line-height:normal;font-family:Menlo,'DejaVu Sans Mono',consolas,'Courier New',monospace\"><span style=\"font-weight: bold\">{</span>\n",
       "    <span style=\"color: #008000; text-decoration-color: #008000\">'msg_type'</span>: <span style=\"color: #008000; text-decoration-color: #008000\">'update_display_data'</span>,\n",
       "    <span style=\"color: #008000; text-decoration-color: #008000\">'content'</span>: <span style=\"font-weight: bold\">{</span>\n",
       "        <span style=\"color: #008000; text-decoration-color: #008000\">'data'</span>: <span style=\"font-weight: bold\">{</span><span style=\"color: #008000; text-decoration-color: #008000\">'text/html'</span>: <span style=\"color: #008000; text-decoration-color: #008000\">'&lt;div&gt;--as shown above.&lt;/div&gt;\\n&lt;brd-mark id=\"b84e13ed2-913592e4-cb627b42-7fd1fc40\"&gt;&lt;/brd-mark&gt;'</span><span style=\"font-weight: bold\">}</span>,\n",
       "        <span style=\"color: #008000; text-decoration-color: #008000\">'metadata'</span>: <span style=\"font-weight: bold\">{}</span>,\n",
       "        <span style=\"color: #008000; text-decoration-color: #008000\">'transient'</span>: <span style=\"font-weight: bold\">{</span><span style=\"color: #008000; text-decoration-color: #008000\">'display_id'</span>: <span style=\"color: #008000; text-decoration-color: #008000\">'b84e13ed2-913592e4-cb627b42-7fd1fc40'</span><span style=\"font-weight: bold\">}</span>\n",
       "    <span style=\"font-weight: bold\">}</span>\n",
       "<span style=\"font-weight: bold\">}</span>\n",
       "</pre>\n"
      ],
      "text/plain": [
       "\u001b[1m{\u001b[0m\n",
       "    \u001b[32m'msg_type'\u001b[0m: \u001b[32m'update_display_data'\u001b[0m,\n",
       "    \u001b[32m'content'\u001b[0m: \u001b[1m{\u001b[0m\n",
       "        \u001b[32m'data'\u001b[0m: \u001b[1m{\u001b[0m\u001b[32m'text/html'\u001b[0m: \u001b[32m'\u001b[0m\u001b[32m<\u001b[0m\u001b[32mdiv\u001b[0m\u001b[32m>--as shown above.</div>\\n<brd-mark \u001b[0m\u001b[32mid\u001b[0m\u001b[32m=\u001b[0m\u001b[32m\"b84e13ed2\u001b[0m\u001b[32m-913592e4-cb627b42-7fd1fc40\"></brd-mark\u001b[0m\u001b[32m>\u001b[0m\u001b[32m'\u001b[0m\u001b[1m}\u001b[0m,\n",
       "        \u001b[32m'metadata'\u001b[0m: \u001b[1m{\u001b[0m\u001b[1m}\u001b[0m,\n",
       "        \u001b[32m'transient'\u001b[0m: \u001b[1m{\u001b[0m\u001b[32m'display_id'\u001b[0m: \u001b[32m'b84e13ed2-913592e4-cb627b42-7fd1fc40'\u001b[0m\u001b[1m}\u001b[0m\n",
       "    \u001b[1m}\u001b[0m\n",
       "\u001b[1m}\u001b[0m\n"
      ]
     },
     "metadata": {},
     "output_type": "display_data"
    },
    {
     "data": {
      "text/html": [
       "<pre style=\"white-space:pre;overflow-x:auto;line-height:normal;font-family:Menlo,'DejaVu Sans Mono',consolas,'Courier New',monospace\"><span style=\"font-weight: bold\">{</span>\n",
       "    <span style=\"color: #008000; text-decoration-color: #008000\">'msg_type'</span>: <span style=\"color: #008000; text-decoration-color: #008000\">'display_data'</span>,\n",
       "    <span style=\"color: #008000; text-decoration-color: #008000\">'content'</span>: <span style=\"font-weight: bold\">{</span><span style=\"color: #008000; text-decoration-color: #008000\">'data'</span>: <span style=\"font-weight: bold\">{}</span>, <span style=\"color: #008000; text-decoration-color: #008000\">'metadata'</span>: <span style=\"font-weight: bold\">{</span><span style=\"color: #008000; text-decoration-color: #008000\">'bridge'</span>: <span style=\"font-weight: bold\">{</span><span style=\"color: #008000; text-decoration-color: #008000\">'skip'</span>: <span style=\"color: #00ff00; text-decoration-color: #00ff00; font-style: italic\">True</span><span style=\"font-weight: bold\">}}</span>, <span style=\"color: #008000; text-decoration-color: #008000\">'transient'</span>: <span style=\"font-weight: bold\">{</span><span style=\"color: #008000; text-decoration-color: #008000\">'display_id'</span>: <span style=\"color: #008000; text-decoration-color: #008000\">'7a68aa11cb1c72f55c64bd6e0df3a53b'</span><span style=\"font-weight: bold\">}}</span>\n",
       "<span style=\"font-weight: bold\">}</span>\n",
       "</pre>\n"
      ],
      "text/plain": [
       "\u001b[1m{\u001b[0m\n",
       "    \u001b[32m'msg_type'\u001b[0m: \u001b[32m'display_data'\u001b[0m,\n",
       "    \u001b[32m'content'\u001b[0m: \u001b[1m{\u001b[0m\u001b[32m'data'\u001b[0m: \u001b[1m{\u001b[0m\u001b[1m}\u001b[0m, \u001b[32m'metadata'\u001b[0m: \u001b[1m{\u001b[0m\u001b[32m'bridge'\u001b[0m: \u001b[1m{\u001b[0m\u001b[32m'skip'\u001b[0m: \u001b[3;92mTrue\u001b[0m\u001b[1m}\u001b[0m\u001b[1m}\u001b[0m, \u001b[32m'transient'\u001b[0m: \u001b[1m{\u001b[0m\u001b[32m'display_id'\u001b[0m: \u001b[32m'7a68aa11cb1c72f55c64bd6e0df3a53b'\u001b[0m\u001b[1m}\u001b[0m\u001b[1m}\u001b[0m\n",
       "\u001b[1m}\u001b[0m\n"
      ]
     },
     "metadata": {},
     "output_type": "display_data"
    },
    {
     "data": {
      "text/html": [
       "<pre style=\"white-space:pre;overflow-x:auto;line-height:normal;font-family:Menlo,'DejaVu Sans Mono',consolas,'Courier New',monospace\"><span style=\"font-weight: bold\">{</span>\n",
       "    <span style=\"color: #008000; text-decoration-color: #008000\">'msg_type'</span>: <span style=\"color: #008000; text-decoration-color: #008000\">'display_data'</span>,\n",
       "    <span style=\"color: #008000; text-decoration-color: #008000\">'content'</span>: <span style=\"font-weight: bold\">{</span><span style=\"color: #008000; text-decoration-color: #008000\">'data'</span>: <span style=\"font-weight: bold\">{}</span>, <span style=\"color: #008000; text-decoration-color: #008000\">'metadata'</span>: <span style=\"font-weight: bold\">{</span><span style=\"color: #008000; text-decoration-color: #008000\">'bridge'</span>: <span style=\"font-weight: bold\">{</span><span style=\"color: #008000; text-decoration-color: #008000\">'skip'</span>: <span style=\"color: #00ff00; text-decoration-color: #00ff00; font-style: italic\">True</span><span style=\"font-weight: bold\">}}</span>, <span style=\"color: #008000; text-decoration-color: #008000\">'transient'</span>: <span style=\"font-weight: bold\">{</span><span style=\"color: #008000; text-decoration-color: #008000\">'display_id'</span>: <span style=\"color: #008000; text-decoration-color: #008000\">'2af03e851a041dd154fe6aef1ca46f5d'</span><span style=\"font-weight: bold\">}}</span>\n",
       "<span style=\"font-weight: bold\">}</span>\n",
       "</pre>\n"
      ],
      "text/plain": [
       "\u001b[1m{\u001b[0m\n",
       "    \u001b[32m'msg_type'\u001b[0m: \u001b[32m'display_data'\u001b[0m,\n",
       "    \u001b[32m'content'\u001b[0m: \u001b[1m{\u001b[0m\u001b[32m'data'\u001b[0m: \u001b[1m{\u001b[0m\u001b[1m}\u001b[0m, \u001b[32m'metadata'\u001b[0m: \u001b[1m{\u001b[0m\u001b[32m'bridge'\u001b[0m: \u001b[1m{\u001b[0m\u001b[32m'skip'\u001b[0m: \u001b[3;92mTrue\u001b[0m\u001b[1m}\u001b[0m\u001b[1m}\u001b[0m, \u001b[32m'transient'\u001b[0m: \u001b[1m{\u001b[0m\u001b[32m'display_id'\u001b[0m: \u001b[32m'2af03e851a041dd154fe6aef1ca46f5d'\u001b[0m\u001b[1m}\u001b[0m\u001b[1m}\u001b[0m\n",
       "\u001b[1m}\u001b[0m\n"
      ]
     },
     "metadata": {},
     "output_type": "display_data"
    },
    {
     "data": {
      "text/html": [
       "<pre style=\"white-space:pre;overflow-x:auto;line-height:normal;font-family:Menlo,'DejaVu Sans Mono',consolas,'Courier New',monospace\"><span style=\"font-weight: bold\">{</span>\n",
       "    <span style=\"color: #008000; text-decoration-color: #008000\">'msg_type'</span>: <span style=\"color: #008000; text-decoration-color: #008000\">'update_display_data'</span>,\n",
       "    <span style=\"color: #008000; text-decoration-color: #008000\">'content'</span>: <span style=\"font-weight: bold\">{</span>\n",
       "        <span style=\"color: #008000; text-decoration-color: #008000\">'data'</span>: <span style=\"font-weight: bold\">{</span>\n",
       "            <span style=\"color: #008000; text-decoration-color: #008000\">'text/html'</span>: <span style=\"color: #008000; text-decoration-color: #008000\">\"&lt;div style='max-height: 400px; border: 1px solid black; overflow: auto;'&gt;&lt;div&gt;A dark and stormy </span>\n",
       "<span style=\"color: #008000; text-decoration-color: #008000\">night...&lt;/div&gt;&lt;/div&gt;\"</span>\n",
       "        <span style=\"font-weight: bold\">}</span>,\n",
       "        <span style=\"color: #008000; text-decoration-color: #008000\">'metadata'</span>: <span style=\"font-weight: bold\">{</span><span style=\"color: #008000; text-decoration-color: #008000\">'bridge'</span>: <span style=\"font-weight: bold\">{</span><span style=\"color: #008000; text-decoration-color: #008000\">'skip'</span>: <span style=\"color: #00ff00; text-decoration-color: #00ff00; font-style: italic\">True</span><span style=\"font-weight: bold\">}}</span>,\n",
       "        <span style=\"color: #008000; text-decoration-color: #008000\">'transient'</span>: <span style=\"font-weight: bold\">{</span><span style=\"color: #008000; text-decoration-color: #008000\">'display_id'</span>: <span style=\"color: #008000; text-decoration-color: #008000\">'2af03e851a041dd154fe6aef1ca46f5d'</span><span style=\"font-weight: bold\">}</span>\n",
       "    <span style=\"font-weight: bold\">}</span>\n",
       "<span style=\"font-weight: bold\">}</span>\n",
       "</pre>\n"
      ],
      "text/plain": [
       "\u001b[1m{\u001b[0m\n",
       "    \u001b[32m'msg_type'\u001b[0m: \u001b[32m'update_display_data'\u001b[0m,\n",
       "    \u001b[32m'content'\u001b[0m: \u001b[1m{\u001b[0m\n",
       "        \u001b[32m'data'\u001b[0m: \u001b[1m{\u001b[0m\n",
       "            \u001b[32m'text/html'\u001b[0m: \u001b[32m\"\u001b[0m\u001b[32m<\u001b[0m\u001b[32mdiv\u001b[0m\u001b[32m \u001b[0m\u001b[32mstyle\u001b[0m\u001b[32m='max-height: 400px; border: 1px solid black; overflow: auto;'><div>A dark and stormy \u001b[0m\n",
       "\u001b[32mnight...</div></div\u001b[0m\u001b[32m>\u001b[0m\u001b[32m\"\u001b[0m\n",
       "        \u001b[1m}\u001b[0m,\n",
       "        \u001b[32m'metadata'\u001b[0m: \u001b[1m{\u001b[0m\u001b[32m'bridge'\u001b[0m: \u001b[1m{\u001b[0m\u001b[32m'skip'\u001b[0m: \u001b[3;92mTrue\u001b[0m\u001b[1m}\u001b[0m\u001b[1m}\u001b[0m,\n",
       "        \u001b[32m'transient'\u001b[0m: \u001b[1m{\u001b[0m\u001b[32m'display_id'\u001b[0m: \u001b[32m'2af03e851a041dd154fe6aef1ca46f5d'\u001b[0m\u001b[1m}\u001b[0m\n",
       "    \u001b[1m}\u001b[0m\n",
       "\u001b[1m}\u001b[0m\n"
      ]
     },
     "metadata": {},
     "output_type": "display_data"
    },
    {
     "data": {
      "text/html": [
       "<pre style=\"white-space:pre;overflow-x:auto;line-height:normal;font-family:Menlo,'DejaVu Sans Mono',consolas,'Courier New',monospace\"><span style=\"font-weight: bold\">{</span>\n",
       "    <span style=\"color: #008000; text-decoration-color: #008000\">'msg_type'</span>: <span style=\"color: #008000; text-decoration-color: #008000\">'update_display_data'</span>,\n",
       "    <span style=\"color: #008000; text-decoration-color: #008000\">'content'</span>: <span style=\"font-weight: bold\">{</span>\n",
       "        <span style=\"color: #008000; text-decoration-color: #008000\">'data'</span>: <span style=\"font-weight: bold\">{</span>\n",
       "            <span style=\"color: #008000; text-decoration-color: #008000\">'text/html'</span>: <span style=\"color: #008000; text-decoration-color: #008000\">\"&lt;div style='max-height: 400px; border: 1px solid black; overflow: auto;'&gt;&lt;div&gt;{'auto_show': True, 'auto_id': </span>\n",
       "<span style=\"color: #008000; text-decoration-color: #008000\">True}&lt;/div&gt;…\"</span>\n",
       "        <span style=\"font-weight: bold\">}</span>,\n",
       "        <span style=\"color: #008000; text-decoration-color: #008000\">'metadata'</span>: <span style=\"font-weight: bold\">{</span><span style=\"color: #008000; text-decoration-color: #008000\">'bridge'</span>: <span style=\"font-weight: bold\">{</span><span style=\"color: #008000; text-decoration-color: #008000\">'skip'</span>: <span style=\"color: #00ff00; text-decoration-color: #00ff00; font-style: italic\">True</span><span style=\"font-weight: bold\">}}</span>,\n",
       "        <span style=\"color: #008000; text-decoration-color: #008000\">'transient'</span>: <span style=\"font-weight: bold\">{</span><span style=\"color: #008000; text-decoration-color: #008000\">'display_id'</span>: <span style=\"color: #008000; text-decoration-color: #008000\">'2af03e851a041dd154fe6aef1ca46f5d'</span><span style=\"font-weight: bold\">}</span>\n",
       "    <span style=\"font-weight: bold\">}</span>\n",
       "<span style=\"font-weight: bold\">}</span>\n",
       "</pre>\n"
      ],
      "text/plain": [
       "\u001b[1m{\u001b[0m\n",
       "    \u001b[32m'msg_type'\u001b[0m: \u001b[32m'update_display_data'\u001b[0m,\n",
       "    \u001b[32m'content'\u001b[0m: \u001b[1m{\u001b[0m\n",
       "        \u001b[32m'data'\u001b[0m: \u001b[1m{\u001b[0m\n",
       "            \u001b[32m'text/html'\u001b[0m: \u001b[32m\"\u001b[0m\u001b[32m<\u001b[0m\u001b[32mdiv\u001b[0m\u001b[32m \u001b[0m\u001b[32mstyle\u001b[0m\u001b[32m='max-height: 400px; border: 1px solid black; overflow: auto;'><div>\u001b[0m\u001b[32m{\u001b[0m\u001b[32m'auto_show': True, 'auto_id': \u001b[0m\n",
       "\u001b[32mTrue\u001b[0m\u001b[32m}\u001b[0m\u001b[32m</div\u001b[0m\u001b[32m>\u001b[0m\u001b[32m…\"\u001b[0m\n",
       "        \u001b[1m}\u001b[0m,\n",
       "        \u001b[32m'metadata'\u001b[0m: \u001b[1m{\u001b[0m\u001b[32m'bridge'\u001b[0m: \u001b[1m{\u001b[0m\u001b[32m'skip'\u001b[0m: \u001b[3;92mTrue\u001b[0m\u001b[1m}\u001b[0m\u001b[1m}\u001b[0m,\n",
       "        \u001b[32m'transient'\u001b[0m: \u001b[1m{\u001b[0m\u001b[32m'display_id'\u001b[0m: \u001b[32m'2af03e851a041dd154fe6aef1ca46f5d'\u001b[0m\u001b[1m}\u001b[0m\n",
       "    \u001b[1m}\u001b[0m\n",
       "\u001b[1m}\u001b[0m\n"
      ]
     },
     "metadata": {},
     "output_type": "display_data"
    }
   ],
   "source": [
    "def show_msgs(brdd: Bridged):\n",
    "    for msg in brdd.msgs:\n",
    "        d = msg.copy()\n",
    "        # d['parent_header'] = {'...': '...'}\n",
    "        # d['header'] = {'...': '...'}\n",
    "        del d['parent_header']\n",
    "        del d['header']\n",
    "        del d['tracker']\n",
    "        del d['msg_id']\n",
    "        if not d['metadata']: del d['metadata']\n",
    "        try: del d['content']['data']['text/plain']\n",
    "        except: pass\n",
    "        if h := d['content']['data'].get('text/html', None): d['content']['data']['text/html'] = shorten(h, 'r', 120)\n",
    "        cprint(d)\n",
    "\n",
    "show_msgs(brdd)"
   ]
  },
  {
   "cell_type": "markdown",
   "metadata": {},
   "source": [
    "# BridgeBase"
   ]
  },
  {
   "cell_type": "code",
   "execution_count": 63,
   "metadata": {
    "brd": "45f3778a-5226-4dfe-ab18-d7a586295049"
   },
   "outputs": [],
   "source": [
    "@FC.delegates()\n",
    "class BridgeBase(Loader):\n",
    "\tlogger: BLogger\n",
    "\tlnks = {**bridge_scripts(), 'observer_scr':observer_scr, 'brd_mark': marker_scr}\n",
    "\tdhs: deque[DisplayHandle]\n",
    "\n",
    "\tdef __init__(self, *args, **kwargs):\n",
    "\t\tif DEBUG: self.msgs = []\n",
    "\t\tself.csi, self.dhs, self.hook = CellExecInfo(), deque(maxlen=100), None\n",
    "\t\tsuper().__init__(*args, **kwargs)\n",
    "\n",
    "\tdef close(self):\n",
    "\t\tself.csi.stop()\n",
    "\t\tif self.hook: self.hook.unregister()\n",
    "\t\tsuper().close()\n",
    "\tdef __del__(self): self.close()\n",
    "\n",
    "\tdef on_info(self, *args, info:str, **kwargs):\n",
    "\t\tsuper().on_info(*args, info=info, **kwargs)\n",
    "\t\tif info == 'loaded': # now we can initialize the scripts\n",
    "\t\t\tif DEBUG: show_scripts(**self.lnks)\n",
    "\t\t\tself.hook = Bridged(self.dhs, self.msgs if DEBUG else None, register=True)\n",
    "\t\t\tself.csi.start()\n",
    "\n",
    "\n",
    "@FC.delegates(Loader.__init__)  # type: ignore\n",
    "async def get_bridge(*args, logger=None, show_scr=False, **kwargs): \n",
    "    if logger: logger.display()\n",
    "    brd = await BridgeBase.create(*args, logger=logger, **kwargs)\n",
    "    if show_scr: show_scripts(**brd.lnks)\n",
    "    return brd"
   ]
  },
  {
   "cell_type": "code",
   "execution_count": 64,
   "metadata": {
    "brd": "25fd0129-1858-4cc1-8f73-479b482993e0"
   },
   "outputs": [
    {
     "data": {
      "text/html": [
       "<div id='brd-logger-7' class='brd-logger' style='width: 100%; max-height: 200px;'></div>"
      ],
      "text/plain": [
       "<IPython.core.display.HTML object>"
      ]
     },
     "metadata": {},
     "output_type": "display_data"
    }
   ],
   "source": [
    "cleanupwidgets(brd)\n",
    "type(brd).clear_instance()\n",
    "\n",
    "bridge_cfg.auto_id = True\n",
    "brd = await get_bridge()"
   ]
  },
  {
   "cell_type": "code",
   "execution_count": 65,
   "metadata": {
    "brd": "5550ece0-1c4d-4154-ae13-c1b08a5519e1"
   },
   "outputs": [
    {
     "data": {
      "text/plain": [
       "'vscode-notebook-cell:/Users/vic/dev/repo/project/bridget/nbs/15_bridge.ipynb#Y155sZmlsZQ%3D%3D'"
      ]
     },
     "metadata": {},
     "output_type": "display_data"
    }
   ],
   "source": [
    "display(brd.csi.last_info['cell_id'])"
   ]
  },
  {
   "cell_type": "code",
   "execution_count": 66,
   "metadata": {
    "brd": "3d8a7a66-88b7-4752-9fb2-5e453d1545d5"
   },
   "outputs": [],
   "source": [
    "brd.close()"
   ]
  },
  {
   "cell_type": "code",
   "execution_count": 67,
   "metadata": {
    "brd": "2d493fc6-8707-43c1-ac90-e1a67cbe8bd6"
   },
   "outputs": [
    {
     "data": {
      "text/html": [
       "<pre style=\"white-space:pre;overflow-x:auto;line-height:normal;font-family:Menlo,'DejaVu Sans Mono',consolas,'Courier New',monospace\"><span style=\"font-weight: bold\">{</span><span style=\"color: #008000; text-decoration-color: #008000\">'msg_type'</span>: <span style=\"color: #008000; text-decoration-color: #008000\">'display_data'</span>, <span style=\"color: #008000; text-decoration-color: #008000\">'content'</span>: <span style=\"font-weight: bold\">{</span><span style=\"color: #008000; text-decoration-color: #008000\">'data'</span>: <span style=\"font-weight: bold\">{}</span>, <span style=\"color: #008000; text-decoration-color: #008000\">'metadata'</span>: <span style=\"font-weight: bold\">{}</span>, <span style=\"color: #008000; text-decoration-color: #008000\">'transient'</span>: <span style=\"font-weight: bold\">{}}}</span>\n",
       "</pre>\n"
      ],
      "text/plain": [
       "\u001b[1m{\u001b[0m\u001b[32m'msg_type'\u001b[0m: \u001b[32m'display_data'\u001b[0m, \u001b[32m'content'\u001b[0m: \u001b[1m{\u001b[0m\u001b[32m'data'\u001b[0m: \u001b[1m{\u001b[0m\u001b[1m}\u001b[0m, \u001b[32m'metadata'\u001b[0m: \u001b[1m{\u001b[0m\u001b[1m}\u001b[0m, \u001b[32m'transient'\u001b[0m: \u001b[1m{\u001b[0m\u001b[1m}\u001b[0m\u001b[1m}\u001b[0m\u001b[1m}\u001b[0m\n"
      ]
     },
     "metadata": {},
     "output_type": "display_data"
    }
   ],
   "source": [
    "show_msgs(brd.hook)  # type: ignore"
   ]
  },
  {
   "cell_type": "markdown",
   "metadata": {},
   "source": [
    "# OutputCapture\n",
    "\n",
    "Our goal is to control (for now) all HTML output. Bridge can now set metadata of any display message, those that go through display_pub. Bridge capture all `display`, direct or FastHTML bridge.  \n",
    "But there're other means to output HTML that doesn't follow the display_pub path: auto display of cell's final expression. That goes through another path, display_hook."
   ]
  },
  {
   "cell_type": "code",
   "execution_count": 68,
   "metadata": {
    "brd": "b14623ca-8f91-4cf9-b82c-76523d899a47"
   },
   "outputs": [],
   "source": [
    "#| export\n",
    "\n",
    "class OutputCapture(SingletonConfigurable):\n",
    "    shell: InteractiveShell\n",
    "    def __init__(self):\n",
    "        super().__init__()\n",
    "        self.shell = get_ipython()  # type: ignore\n",
    "        if DEBUG: self._cells, self._outputs, self._captured = deque(maxlen=100), deque(maxlen=100), deque(maxlen=100)\n",
    "        # if DEBUG: self._exres = deque(maxlen=100)\n",
    "        self._active, self.run_outputs = False, []\n",
    "        self.displayhook = CapturingDisplayHook(shell=self.shell, outputs=self.run_outputs)\n",
    "    \n",
    "    @contextmanager\n",
    "    def _capture(self):\n",
    "        self.run_outputs.clear()\n",
    "        try: \n",
    "            save_display_hook, sys.displayhook = sys.displayhook, self.displayhook\n",
    "            self._active = True\n",
    "            yield CapturedIO(stdout=None, stderr=None, outputs=self.run_outputs)\n",
    "        finally: \n",
    "            self._active = False\n",
    "            sys.displayhook = save_display_hook\n",
    "    \n",
    "    def __call__(self, cell):\n",
    "        if DEBUG: self._cells.append(cell)\n",
    "        with self._capture() as io:\n",
    "            # result = self.shell.run_cell(cell, silent=True, cell_id=self.shell.user_ns.get('__cellid__'))\n",
    "            self.shell.run_cell(cell, cell_id=self.shell.user_ns.get('__cellid__'))\n",
    "        # self._exres.append(result)\n",
    "        # assert len(io._outputs) == 0, \"Outputs should be 0.\"\n",
    "        if io._outputs: \n",
    "            if DEBUG: self._outputs.extend(io._outputs)\n",
    "            assert len(io._outputs) <= 1, \"Only one output is supported\"\n",
    "            display(io.outputs[-1])\n",
    "    \n",
    "    def _transform(self, lines):\n",
    "        \"Input transformer function\"\n",
    "        if not lines or self._active: return lines\n",
    "        if lines[0].startswith('import debugpy;debugpy.listen('): return lines\n",
    "        if lines[0].startswith('import debugpy\\ndebugpy.debug_this_thread()'): return lines\n",
    "        return ['get_capturer()(%r)\\n' % ''.join(lines)]\n",
    "            \n",
    "    def register(self):\n",
    "        self.shell.user_ns['get_capturer'] = get_capturer\n",
    "        if DEBUG: self._cells, self._outputs = deque(maxlen=100), deque(maxlen=100)\n",
    "        # self.shell.input_transformers_cleanup.append(self._transform)\n",
    "        self.shell.input_transformer_manager.line_transforms.append(self._transform)\n",
    "        \n",
    "    def unregister(self):\n",
    "        try: \n",
    "            # self.shell.input_transformers_cleanup.remove(self._transform)\n",
    "            self.shell.input_transformer_manager.line_transforms.remove(self._transform)\n",
    "        except (ValueError, NameError): pass\n",
    "    \n",
    "    def __del__(self): self.unregister()\n",
    "\n",
    "\n",
    "def get_capturer(): return OutputCapture.instance()"
   ]
  },
  {
   "cell_type": "code",
   "execution_count": 69,
   "metadata": {
    "brd": "8d839859-7e06-4218-aba2-b289faf2ab2c"
   },
   "outputs": [
    {
     "data": {
      "text/html": [
       "<div id='brd-logger-9' class='brd-logger' style='width: 100%; max-height: 200px;'></div>"
      ],
      "text/plain": [
       "<IPython.core.display.HTML object>"
      ]
     },
     "metadata": {},
     "output_type": "display_data"
    }
   ],
   "source": [
    "cleanupwidgets(brd)  # type: ignore\n",
    "type(brd).clear_instance()\n",
    "\n",
    "bridge_cfg.auto_id = True\n",
    "brd = await get_bridge()"
   ]
  },
  {
   "cell_type": "code",
   "execution_count": 70,
   "metadata": {
    "brd": "a7ce49dc-2c9b-4ab1-9ea2-86db7a5de314"
   },
   "outputs": [],
   "source": [
    "get_capturer().unregister()\n",
    "OutputCapture.clear_instance()\n",
    "\n",
    "get_capturer().register()"
   ]
  },
  {
   "cell_type": "code",
   "execution_count": 71,
   "metadata": {
    "brd": "32434be8-5188-45fa-919d-13bdd5beb9ac"
   },
   "outputs": [
    {
     "data": {
      "text/plain": [
       "4"
      ]
     },
     "metadata": {},
     "output_type": "display_data"
    }
   ],
   "source": [
    "brd.dhs.clear()\n",
    "1+3"
   ]
  },
  {
   "cell_type": "code",
   "execution_count": 72,
   "metadata": {
    "brd": "3e202ae1-f777-4728-9379-788fff17e64e"
   },
   "outputs": [],
   "source": [
    "if DEBUG: test_eq(get_capturer()._outputs[-1], {'data': {'text/plain': '4'}, 'metadata': {}})\n",
    "test_eq(len(brd.dhs), 0)"
   ]
  },
  {
   "cell_type": "code",
   "execution_count": 73,
   "metadata": {
    "brd": "b66af4ab-39fd-4f7b-9a21-4101bec0bc86"
   },
   "outputs": [
    {
     "data": {
      "text/html": [
       "<div>qwer</div>\n",
       "<brd-mark id=\"b1587a51e-0388d52e-60c80df0-7cb04aa6\"></brd-mark>"
      ],
      "text/plain": [
       "<IPython.core.display.HTML object>"
      ]
     },
     "metadata": {},
     "output_type": "display_data"
    }
   ],
   "source": [
    "HTML('<div>asdf</div>')"
   ]
  },
  {
   "cell_type": "code",
   "execution_count": 74,
   "metadata": {
    "brd": "649e0d9f-1949-4bcc-af90-59b9a1707975"
   },
   "outputs": [],
   "source": [
    "if DEBUG: test_eq(get_capturer()._outputs[-1]['data']['text/plain'], '<IPython.core.display.HTML object>')\n",
    "test_eq(len(brd.dhs), 1)"
   ]
  },
  {
   "cell_type": "code",
   "execution_count": 75,
   "metadata": {
    "brd": "0bf127a1-349c-455b-9534-addd3ebd4e3e"
   },
   "outputs": [],
   "source": [
    "get_capturer().unregister()"
   ]
  },
  {
   "cell_type": "code",
   "execution_count": 76,
   "metadata": {
    "brd": "8b64e863-3aa7-48d4-8ff9-1086c4d9cb21"
   },
   "outputs": [],
   "source": [
    "brd.dhs[-1].update(HTML('<div>qwer</div>'))"
   ]
  },
  {
   "cell_type": "code",
   "execution_count": 77,
   "metadata": {
    "brd": "b9626d10-ee50-4064-bfef-6d2f6647f396"
   },
   "outputs": [],
   "source": [
    "brd.close()"
   ]
  },
  {
   "cell_type": "code",
   "execution_count": 78,
   "metadata": {
    "brd": "09a92d89-b42e-484e-87ac-315c3663397e"
   },
   "outputs": [
    {
     "data": {
      "text/plain": [
       "({'raw_cell': \"brd.dhs[-1].update(HTML('<div>qwer</div>'))\",\n",
       "  'cell_id': 'vscode-notebook-cell:/Users/vic/dev/repo/project/bridget/nbs/15_bridge.ipynb#Y203sZmlsZQ%3D%3D'},\n",
       " {'execution_count': 76,\n",
       "  'error_before_exec': None,\n",
       "  'error_in_exec': None,\n",
       "  'info': {'raw_cell': \"brd.dhs[-1].update(HTML('<div>qwer</div>'))\",\n",
       "   'cell_id': 'vscode-notebook-cell:/Users/vic/dev/repo/project/bridget/nbs/15_bridge.ipynb#Y203sZmlsZQ%3D%3D'},\n",
       "  'result': None})"
      ]
     },
     "execution_count": 78,
     "metadata": {},
     "output_type": "execute_result"
    }
   ],
   "source": [
    "brd.csi.last_info, brd.csi.last_result"
   ]
  },
  {
   "cell_type": "markdown",
   "metadata": {},
   "source": [
    "----"
   ]
  },
  {
   "cell_type": "code",
   "execution_count": 79,
   "metadata": {
    "brd": "8c5b5973-412f-41a8-bd31-b9a7a7b77a22"
   },
   "outputs": [
    {
     "data": {
      "text/html": [
       "<pre style=\"white-space:pre;overflow-x:auto;line-height:normal;font-family:Menlo,'DejaVu Sans Mono',consolas,'Courier New',monospace\"><span style=\"font-weight: bold\">{</span><span style=\"color: #008000; text-decoration-color: #008000\">'data'</span>: <span style=\"font-weight: bold\">{</span><span style=\"color: #008000; text-decoration-color: #008000\">'text/plain'</span>: <span style=\"color: #008000; text-decoration-color: #008000\">'4'</span><span style=\"font-weight: bold\">}</span>, <span style=\"color: #008000; text-decoration-color: #008000\">'metadata'</span>: <span style=\"font-weight: bold\">{}}</span>\n",
       "</pre>\n"
      ],
      "text/plain": [
       "\u001b[1m{\u001b[0m\u001b[32m'data'\u001b[0m: \u001b[1m{\u001b[0m\u001b[32m'text/plain'\u001b[0m: \u001b[32m'4'\u001b[0m\u001b[1m}\u001b[0m, \u001b[32m'metadata'\u001b[0m: \u001b[1m{\u001b[0m\u001b[1m}\u001b[0m\u001b[1m}\u001b[0m\n"
      ]
     },
     "metadata": {},
     "output_type": "display_data"
    },
    {
     "data": {
      "text/html": [
       "<pre style=\"white-space:pre;overflow-x:auto;line-height:normal;font-family:Menlo,'DejaVu Sans Mono',consolas,'Courier New',monospace\"><span style=\"font-weight: bold\">{</span>\n",
       "    <span style=\"color: #008000; text-decoration-color: #008000\">'data'</span>: <span style=\"font-weight: bold\">{</span>\n",
       "        <span style=\"color: #008000; text-decoration-color: #008000\">'text/plain'</span>: <span style=\"color: #008000; text-decoration-color: #008000\">'&lt;IPython.core.display.HTML object&gt;'</span><span style=\"color: #000000; text-decoration-color: #000000\">,</span>\n",
       "<span style=\"color: #000000; text-decoration-color: #000000\">        </span><span style=\"color: #008000; text-decoration-color: #008000\">'text/html'</span><span style=\"color: #000000; text-decoration-color: #000000\">: </span><span style=\"color: #008000; text-decoration-color: #008000\">'&lt;div&gt;asdf&lt;/div&gt;\\n&lt;brd-mark id=\"b1587a51e-0388d52e-60c80df0-7cb04aa6\"&gt;&lt;/brd-mark&gt;'</span>\n",
       "    <span style=\"font-weight: bold\">}</span>,\n",
       "    <span style=\"color: #008000; text-decoration-color: #008000\">'metadata'</span>: <span style=\"font-weight: bold\">{}</span>\n",
       "<span style=\"font-weight: bold\">}</span>\n",
       "</pre>\n"
      ],
      "text/plain": [
       "\u001b[1m{\u001b[0m\n",
       "    \u001b[32m'data'\u001b[0m: \u001b[1m{\u001b[0m\n",
       "        \u001b[32m'text/plain'\u001b[0m: \u001b[32m'\u001b[0m\u001b[32m<\u001b[0m\u001b[32mIPython.core.display.HTML\u001b[0m\u001b[32m object>'\u001b[0m\u001b[39m,\u001b[0m\n",
       "\u001b[39m        \u001b[0m\u001b[32m'text/html'\u001b[0m\u001b[39m: \u001b[0m\u001b[32m'<div>asdf</div>\\n<brd-mark \u001b[0m\u001b[32mid\u001b[0m\u001b[32m=\u001b[0m\u001b[32m\"b1587a51e\u001b[0m\u001b[32m-0388d52e-60c80df0-7cb04aa6\"></brd-mark\u001b[0m\u001b[32m>\u001b[0m\u001b[32m'\u001b[0m\n",
       "    \u001b[1m}\u001b[0m,\n",
       "    \u001b[32m'metadata'\u001b[0m: \u001b[1m{\u001b[0m\u001b[1m}\u001b[0m\n",
       "\u001b[1m}\u001b[0m\n"
      ]
     },
     "metadata": {},
     "output_type": "display_data"
    },
    {
     "data": {
      "text/html": [
       "<pre style=\"white-space:pre;overflow-x:auto;line-height:normal;font-family:Menlo,'DejaVu Sans Mono',consolas,'Courier New',monospace\"><span style=\"color: #800080; text-decoration-color: #800080; font-weight: bold\">brd.dhs.clear</span><span style=\"font-weight: bold\">()</span>\n",
       "<span style=\"color: #008080; text-decoration-color: #008080; font-weight: bold\">1</span>+<span style=\"color: #008080; text-decoration-color: #008080; font-weight: bold\">3</span>\n",
       "\n",
       "</pre>\n"
      ],
      "text/plain": [
       "\u001b[1;35mbrd.dhs.clear\u001b[0m\u001b[1m(\u001b[0m\u001b[1m)\u001b[0m\n",
       "\u001b[1;36m1\u001b[0m+\u001b[1;36m3\u001b[0m\n",
       "\n"
      ]
     },
     "metadata": {},
     "output_type": "display_data"
    },
    {
     "data": {
      "text/html": [
       "<pre style=\"white-space:pre;overflow-x:auto;line-height:normal;font-family:Menlo,'DejaVu Sans Mono',consolas,'Courier New',monospace\">if DEBUG: <span style=\"color: #800080; text-decoration-color: #800080; font-weight: bold\">test_eq</span><span style=\"font-weight: bold\">(</span><span style=\"color: #800080; text-decoration-color: #800080; font-weight: bold\">get_capturer</span><span style=\"font-weight: bold\">()</span>._outputs<span style=\"font-weight: bold\">[</span><span style=\"color: #008080; text-decoration-color: #008080; font-weight: bold\">-1</span><span style=\"font-weight: bold\">]</span>, <span style=\"font-weight: bold\">{</span><span style=\"color: #008000; text-decoration-color: #008000\">'data'</span>: <span style=\"font-weight: bold\">{</span><span style=\"color: #008000; text-decoration-color: #008000\">'text/plain'</span>: <span style=\"color: #008000; text-decoration-color: #008000\">'4'</span><span style=\"font-weight: bold\">}</span>, <span style=\"color: #008000; text-decoration-color: #008000\">'metadata'</span>: <span style=\"font-weight: bold\">{}})</span>\n",
       "<span style=\"color: #800080; text-decoration-color: #800080; font-weight: bold\">test_eq</span><span style=\"font-weight: bold\">(</span><span style=\"color: #800080; text-decoration-color: #800080; font-weight: bold\">len</span><span style=\"font-weight: bold\">(</span>brd.dhs<span style=\"font-weight: bold\">)</span>, <span style=\"color: #008080; text-decoration-color: #008080; font-weight: bold\">0</span><span style=\"font-weight: bold\">)</span>\n",
       "\n",
       "</pre>\n"
      ],
      "text/plain": [
       "if DEBUG: \u001b[1;35mtest_eq\u001b[0m\u001b[1m(\u001b[0m\u001b[1;35mget_capturer\u001b[0m\u001b[1m(\u001b[0m\u001b[1m)\u001b[0m._outputs\u001b[1m[\u001b[0m\u001b[1;36m-1\u001b[0m\u001b[1m]\u001b[0m, \u001b[1m{\u001b[0m\u001b[32m'data'\u001b[0m: \u001b[1m{\u001b[0m\u001b[32m'text/plain'\u001b[0m: \u001b[32m'4'\u001b[0m\u001b[1m}\u001b[0m, \u001b[32m'metadata'\u001b[0m: \u001b[1m{\u001b[0m\u001b[1m}\u001b[0m\u001b[1m}\u001b[0m\u001b[1m)\u001b[0m\n",
       "\u001b[1;35mtest_eq\u001b[0m\u001b[1m(\u001b[0m\u001b[1;35mlen\u001b[0m\u001b[1m(\u001b[0mbrd.dhs\u001b[1m)\u001b[0m, \u001b[1;36m0\u001b[0m\u001b[1m)\u001b[0m\n",
       "\n"
      ]
     },
     "metadata": {},
     "output_type": "display_data"
    },
    {
     "data": {
      "text/html": [
       "<pre style=\"white-space:pre;overflow-x:auto;line-height:normal;font-family:Menlo,'DejaVu Sans Mono',consolas,'Courier New',monospace\"><span style=\"color: #800080; text-decoration-color: #800080; font-weight: bold\">HTML</span><span style=\"font-weight: bold\">(</span><span style=\"color: #008000; text-decoration-color: #008000\">'&lt;div&gt;asdf&lt;/div&gt;'</span><span style=\"font-weight: bold\">)</span>\n",
       "\n",
       "</pre>\n"
      ],
      "text/plain": [
       "\u001b[1;35mHTML\u001b[0m\u001b[1m(\u001b[0m\u001b[32m'\u001b[0m\u001b[32m<\u001b[0m\u001b[32mdiv\u001b[0m\u001b[32m>asdf</div\u001b[0m\u001b[32m>\u001b[0m\u001b[32m'\u001b[0m\u001b[1m)\u001b[0m\n",
       "\n"
      ]
     },
     "metadata": {},
     "output_type": "display_data"
    },
    {
     "data": {
      "text/html": [
       "<pre style=\"white-space:pre;overflow-x:auto;line-height:normal;font-family:Menlo,'DejaVu Sans Mono',consolas,'Courier New',monospace\">if DEBUG: <span style=\"color: #800080; text-decoration-color: #800080; font-weight: bold\">test_eq</span><span style=\"font-weight: bold\">(</span><span style=\"color: #800080; text-decoration-color: #800080; font-weight: bold\">get_capturer</span><span style=\"font-weight: bold\">()</span>._outputs<span style=\"font-weight: bold\">[</span><span style=\"color: #008080; text-decoration-color: #008080; font-weight: bold\">-1</span><span style=\"font-weight: bold\">][</span><span style=\"color: #008000; text-decoration-color: #008000\">'data'</span><span style=\"font-weight: bold\">][</span><span style=\"color: #008000; text-decoration-color: #008000\">'text/plain'</span><span style=\"font-weight: bold\">]</span>, <span style=\"color: #008000; text-decoration-color: #008000\">'&lt;IPython.core.display.HTML object&gt;'</span><span style=\"font-weight: bold\">)</span>\n",
       "<span style=\"color: #800080; text-decoration-color: #800080; font-weight: bold\">test_eq</span><span style=\"font-weight: bold\">(</span><span style=\"color: #800080; text-decoration-color: #800080; font-weight: bold\">len</span><span style=\"font-weight: bold\">(</span>brd.dhs<span style=\"font-weight: bold\">)</span>, <span style=\"color: #008080; text-decoration-color: #008080; font-weight: bold\">1</span><span style=\"font-weight: bold\">)</span>\n",
       "\n",
       "</pre>\n"
      ],
      "text/plain": [
       "if DEBUG: \u001b[1;35mtest_eq\u001b[0m\u001b[1m(\u001b[0m\u001b[1;35mget_capturer\u001b[0m\u001b[1m(\u001b[0m\u001b[1m)\u001b[0m._outputs\u001b[1m[\u001b[0m\u001b[1;36m-1\u001b[0m\u001b[1m]\u001b[0m\u001b[1m[\u001b[0m\u001b[32m'data'\u001b[0m\u001b[1m]\u001b[0m\u001b[1m[\u001b[0m\u001b[32m'text/plain'\u001b[0m\u001b[1m]\u001b[0m, \u001b[32m'\u001b[0m\u001b[32m<\u001b[0m\u001b[32mIPython.core.display.HTML\u001b[0m\u001b[32m object\u001b[0m\u001b[32m>\u001b[0m\u001b[32m'\u001b[0m\u001b[1m)\u001b[0m\n",
       "\u001b[1;35mtest_eq\u001b[0m\u001b[1m(\u001b[0m\u001b[1;35mlen\u001b[0m\u001b[1m(\u001b[0mbrd.dhs\u001b[1m)\u001b[0m, \u001b[1;36m1\u001b[0m\u001b[1m)\u001b[0m\n",
       "\n"
      ]
     },
     "metadata": {},
     "output_type": "display_data"
    },
    {
     "data": {
      "text/html": [
       "<pre style=\"white-space:pre;overflow-x:auto;line-height:normal;font-family:Menlo,'DejaVu Sans Mono',consolas,'Courier New',monospace\"><span style=\"color: #800080; text-decoration-color: #800080; font-weight: bold\">get_capturer</span><span style=\"font-weight: bold\">()</span><span style=\"color: #800080; text-decoration-color: #800080; font-weight: bold\">.unregister</span><span style=\"font-weight: bold\">()</span>\n",
       "\n",
       "</pre>\n"
      ],
      "text/plain": [
       "\u001b[1;35mget_capturer\u001b[0m\u001b[1m(\u001b[0m\u001b[1m)\u001b[0m\u001b[1;35m.unregister\u001b[0m\u001b[1m(\u001b[0m\u001b[1m)\u001b[0m\n",
       "\n"
      ]
     },
     "metadata": {},
     "output_type": "display_data"
    }
   ],
   "source": [
    "def show_outputs():\n",
    "    oo = get_capturer()._outputs\n",
    "    for o in oo:\n",
    "        cprint(o)\n",
    "\n",
    "def show_cells():\n",
    "    oo = get_capturer()._cells\n",
    "    for o in oo:\n",
    "        cprint(o)\n",
    "\n",
    "show_outputs()\n",
    "show_cells()\n"
   ]
  },
  {
   "cell_type": "code",
   "execution_count": 80,
   "metadata": {
    "brd": "e4074d32-ad2d-44a4-9496-bb96e6ee5b7f"
   },
   "outputs": [
    {
     "data": {
      "text/html": [
       "<pre style=\"white-space:pre;overflow-x:auto;line-height:normal;font-family:Menlo,'DejaVu Sans Mono',consolas,'Courier New',monospace\"><span style=\"font-weight: bold\">{</span><span style=\"color: #008000; text-decoration-color: #008000\">'msg_type'</span>: <span style=\"color: #008000; text-decoration-color: #008000\">'display_data'</span>, <span style=\"color: #008000; text-decoration-color: #008000\">'content'</span>: <span style=\"font-weight: bold\">{</span><span style=\"color: #008000; text-decoration-color: #008000\">'data'</span>: <span style=\"font-weight: bold\">{}</span>, <span style=\"color: #008000; text-decoration-color: #008000\">'metadata'</span>: <span style=\"font-weight: bold\">{}</span>, <span style=\"color: #008000; text-decoration-color: #008000\">'transient'</span>: <span style=\"font-weight: bold\">{}}}</span>\n",
       "</pre>\n"
      ],
      "text/plain": [
       "\u001b[1m{\u001b[0m\u001b[32m'msg_type'\u001b[0m: \u001b[32m'display_data'\u001b[0m, \u001b[32m'content'\u001b[0m: \u001b[1m{\u001b[0m\u001b[32m'data'\u001b[0m: \u001b[1m{\u001b[0m\u001b[1m}\u001b[0m, \u001b[32m'metadata'\u001b[0m: \u001b[1m{\u001b[0m\u001b[1m}\u001b[0m, \u001b[32m'transient'\u001b[0m: \u001b[1m{\u001b[0m\u001b[1m}\u001b[0m\u001b[1m}\u001b[0m\u001b[1m}\u001b[0m\n"
      ]
     },
     "metadata": {},
     "output_type": "display_data"
    },
    {
     "data": {
      "text/html": [
       "<pre style=\"white-space:pre;overflow-x:auto;line-height:normal;font-family:Menlo,'DejaVu Sans Mono',consolas,'Courier New',monospace\"><span style=\"font-weight: bold\">{</span>\n",
       "    <span style=\"color: #008000; text-decoration-color: #008000\">'msg_type'</span>: <span style=\"color: #008000; text-decoration-color: #008000\">'display_data'</span>,\n",
       "    <span style=\"color: #008000; text-decoration-color: #008000\">'content'</span>: <span style=\"font-weight: bold\">{</span>\n",
       "        <span style=\"color: #008000; text-decoration-color: #008000\">'data'</span>: <span style=\"font-weight: bold\">{</span><span style=\"color: #008000; text-decoration-color: #008000\">'text/html'</span>: <span style=\"color: #008000; text-decoration-color: #008000\">'&lt;div&gt;asdf&lt;/div&gt;\\n&lt;brd-mark id=\"b1587a51e-0388d52e-60c80df0-7cb04aa6\"&gt;&lt;/brd-mark&gt;'</span><span style=\"font-weight: bold\">}</span>,\n",
       "        <span style=\"color: #008000; text-decoration-color: #008000\">'metadata'</span>: <span style=\"font-weight: bold\">{}</span>,\n",
       "        <span style=\"color: #008000; text-decoration-color: #008000\">'transient'</span>: <span style=\"font-weight: bold\">{</span><span style=\"color: #008000; text-decoration-color: #008000\">'display_id'</span>: <span style=\"color: #008000; text-decoration-color: #008000\">'b1587a51e-0388d52e-60c80df0-7cb04aa6'</span><span style=\"font-weight: bold\">}</span>\n",
       "    <span style=\"font-weight: bold\">}</span>\n",
       "<span style=\"font-weight: bold\">}</span>\n",
       "</pre>\n"
      ],
      "text/plain": [
       "\u001b[1m{\u001b[0m\n",
       "    \u001b[32m'msg_type'\u001b[0m: \u001b[32m'display_data'\u001b[0m,\n",
       "    \u001b[32m'content'\u001b[0m: \u001b[1m{\u001b[0m\n",
       "        \u001b[32m'data'\u001b[0m: \u001b[1m{\u001b[0m\u001b[32m'text/html'\u001b[0m: \u001b[32m'\u001b[0m\u001b[32m<\u001b[0m\u001b[32mdiv\u001b[0m\u001b[32m>asdf</div>\\n<brd-mark \u001b[0m\u001b[32mid\u001b[0m\u001b[32m=\u001b[0m\u001b[32m\"b1587a51e\u001b[0m\u001b[32m-0388d52e-60c80df0-7cb04aa6\"></brd-mark\u001b[0m\u001b[32m>\u001b[0m\u001b[32m'\u001b[0m\u001b[1m}\u001b[0m,\n",
       "        \u001b[32m'metadata'\u001b[0m: \u001b[1m{\u001b[0m\u001b[1m}\u001b[0m,\n",
       "        \u001b[32m'transient'\u001b[0m: \u001b[1m{\u001b[0m\u001b[32m'display_id'\u001b[0m: \u001b[32m'b1587a51e-0388d52e-60c80df0-7cb04aa6'\u001b[0m\u001b[1m}\u001b[0m\n",
       "    \u001b[1m}\u001b[0m\n",
       "\u001b[1m}\u001b[0m\n"
      ]
     },
     "metadata": {},
     "output_type": "display_data"
    },
    {
     "data": {
      "text/html": [
       "<pre style=\"white-space:pre;overflow-x:auto;line-height:normal;font-family:Menlo,'DejaVu Sans Mono',consolas,'Courier New',monospace\"><span style=\"font-weight: bold\">{</span>\n",
       "    <span style=\"color: #008000; text-decoration-color: #008000\">'msg_type'</span>: <span style=\"color: #008000; text-decoration-color: #008000\">'update_display_data'</span>,\n",
       "    <span style=\"color: #008000; text-decoration-color: #008000\">'content'</span>: <span style=\"font-weight: bold\">{</span>\n",
       "        <span style=\"color: #008000; text-decoration-color: #008000\">'data'</span>: <span style=\"font-weight: bold\">{</span><span style=\"color: #008000; text-decoration-color: #008000\">'text/html'</span>: <span style=\"color: #008000; text-decoration-color: #008000\">'&lt;div&gt;qwer&lt;/div&gt;\\n&lt;brd-mark id=\"b1587a51e-0388d52e-60c80df0-7cb04aa6\"&gt;&lt;/brd-mark&gt;'</span><span style=\"font-weight: bold\">}</span>,\n",
       "        <span style=\"color: #008000; text-decoration-color: #008000\">'metadata'</span>: <span style=\"font-weight: bold\">{}</span>,\n",
       "        <span style=\"color: #008000; text-decoration-color: #008000\">'transient'</span>: <span style=\"font-weight: bold\">{</span><span style=\"color: #008000; text-decoration-color: #008000\">'display_id'</span>: <span style=\"color: #008000; text-decoration-color: #008000\">'b1587a51e-0388d52e-60c80df0-7cb04aa6'</span><span style=\"font-weight: bold\">}</span>\n",
       "    <span style=\"font-weight: bold\">}</span>\n",
       "<span style=\"font-weight: bold\">}</span>\n",
       "</pre>\n"
      ],
      "text/plain": [
       "\u001b[1m{\u001b[0m\n",
       "    \u001b[32m'msg_type'\u001b[0m: \u001b[32m'update_display_data'\u001b[0m,\n",
       "    \u001b[32m'content'\u001b[0m: \u001b[1m{\u001b[0m\n",
       "        \u001b[32m'data'\u001b[0m: \u001b[1m{\u001b[0m\u001b[32m'text/html'\u001b[0m: \u001b[32m'\u001b[0m\u001b[32m<\u001b[0m\u001b[32mdiv\u001b[0m\u001b[32m>qwer</div>\\n<brd-mark \u001b[0m\u001b[32mid\u001b[0m\u001b[32m=\u001b[0m\u001b[32m\"b1587a51e\u001b[0m\u001b[32m-0388d52e-60c80df0-7cb04aa6\"></brd-mark\u001b[0m\u001b[32m>\u001b[0m\u001b[32m'\u001b[0m\u001b[1m}\u001b[0m,\n",
       "        \u001b[32m'metadata'\u001b[0m: \u001b[1m{\u001b[0m\u001b[1m}\u001b[0m,\n",
       "        \u001b[32m'transient'\u001b[0m: \u001b[1m{\u001b[0m\u001b[32m'display_id'\u001b[0m: \u001b[32m'b1587a51e-0388d52e-60c80df0-7cb04aa6'\u001b[0m\u001b[1m}\u001b[0m\n",
       "    \u001b[1m}\u001b[0m\n",
       "\u001b[1m}\u001b[0m\n"
      ]
     },
     "metadata": {},
     "output_type": "display_data"
    }
   ],
   "source": [
    "show_msgs(brd.hook)  # type: ignore"
   ]
  },
  {
   "cell_type": "markdown",
   "metadata": {},
   "source": [
    "----"
   ]
  },
  {
   "cell_type": "markdown",
   "metadata": {},
   "source": [
    "# BridgeBase"
   ]
  },
  {
   "cell_type": "code",
   "execution_count": 81,
   "metadata": {
    "brd": "034e311a-af4d-4787-ab28-3c2cebc226c2"
   },
   "outputs": [],
   "source": [
    "@FC.delegates()\n",
    "class BridgeBase(Loader):\n",
    "\tlogger: BLogger\n",
    "\tlnks = {**bridge_scripts(), 'observer_scr':observer_scr, 'brd_mark': marker_scr}\n",
    "\tdhs: deque[DisplayHandle]\n",
    "\n",
    "\tdef __init__(self, *args, **kwargs):\n",
    "\t\tif DEBUG: self.msgs = []\n",
    "\t\tself.csi, self.dhs, self.hook = CellExecInfo(), deque(maxlen=100), None\n",
    "\t\tsuper().__init__(*args, **kwargs)\n",
    "\n",
    "\tdef close(self):\n",
    "\t\tself.csi.stop()\n",
    "\t\tget_capturer().unregister()\n",
    "\t\tif self.hook: self.hook.unregister()\n",
    "\t\tsuper().close()\n",
    "\tdef __del__(self): self.close()\n",
    "\n",
    "\tdef on_info(self, *args, info:str, **kwargs):\n",
    "\t\tsuper().on_info(*args, info=info, **kwargs)\n",
    "\t\tif info == 'loaded':\n",
    "\t\t\tself.hook = Bridged(self.dhs, self.msgs if DEBUG else None, register=True)\n",
    "\t\t\tget_capturer().register()\n",
    "\t\t\tself.csi.start()\n",
    "\n",
    "\n",
    "@FC.delegates(Loader.__init__)  # type: ignore\n",
    "async def get_bridge(*args, logger=None, show_scr=False, **kwargs): \n",
    "    if logger: logger.display()\n",
    "    brd = await BridgeBase.create(*args, logger=logger, **kwargs)\n",
    "    if show_scr: show_scripts(**brd.lnks)\n",
    "    return brd"
   ]
  },
  {
   "cell_type": "code",
   "execution_count": 82,
   "metadata": {
    "brd": "1233d5cf-052c-490b-9f96-961d14c88344"
   },
   "outputs": [
    {
     "data": {
      "text/html": [
       "<div id='brd-logger-11' class='brd-logger' style='width: 100%; max-height: 200px;'></div>"
      ],
      "text/plain": [
       "<IPython.core.display.HTML object>"
      ]
     },
     "metadata": {},
     "output_type": "display_data"
    }
   ],
   "source": [
    "cleanupwidgets(brd)  # type: ignore\n",
    "get_capturer().unregister()\n",
    "OutputCapture.clear_instance()\n",
    "type(brd).clear_instance()\n",
    "\n",
    "bridge_cfg.auto_id = True\n",
    "brd = await get_bridge()"
   ]
  },
  {
   "cell_type": "code",
   "execution_count": 83,
   "metadata": {
    "brd": "fc7fd1e5-74b6-4c38-a017-63d75a0e7dd7"
   },
   "outputs": [
    {
     "data": {
      "text/plain": [
       "'vscode-notebook-cell:/Users/vic/dev/repo/project/bridget/nbs/15_bridge.ipynb#Y216sZmlsZQ%3D%3D'"
      ]
     },
     "metadata": {},
     "output_type": "display_data"
    }
   ],
   "source": [
    "display(__cellid__)#brd.csi.last_info['cell_id'])"
   ]
  },
  {
   "cell_type": "code",
   "execution_count": 84,
   "metadata": {
    "brd": "8bf8fad5-608d-4c8c-b566-61f3a45e841c"
   },
   "outputs": [
    {
     "data": {
      "text/plain": [
       "({'raw_cell': 'brd.csi.last_info, brd.csi.last_result\\n',\n",
       "  'cell_id': 'vscode-notebook-cell:/Users/vic/dev/repo/project/bridget/nbs/15_bridge.ipynb#Y220sZmlsZQ%3D%3D'},\n",
       " {'execution_count': 83,\n",
       "  'error_before_exec': None,\n",
       "  'error_in_exec': None,\n",
       "  'info': {'raw_cell': \"display(__cellid__)#brd.csi.last_info['cell_id'])\",\n",
       "   'cell_id': 'vscode-notebook-cell:/Users/vic/dev/repo/project/bridget/nbs/15_bridge.ipynb#Y216sZmlsZQ%3D%3D'},\n",
       "  'result': None})"
      ]
     },
     "metadata": {},
     "output_type": "display_data"
    }
   ],
   "source": [
    "brd.csi.last_info, brd.csi.last_result"
   ]
  },
  {
   "cell_type": "markdown",
   "metadata": {},
   "source": [
    "# &lt;zero-md&gt;\n",
    "\n",
    "> Ridiculously simple zero-config markdown displayer\n",
    "\n",
    "A vanilla markdown-to-html web component based on\n",
    "[Custom Elements V1 specs](https://www.w3.org/TR/custom-elements/) to load and display an external\n",
    "MD file.\n",
    "\n",
    "Featuring:\n",
    "\n",
    "- [x] Math rendering via [`KaTeX`](https://github.com/KaTeX/KaTeX)\n",
    "- [x] [`Mermaid`](https://github.com/mermaid-js/mermaid) diagrams\n",
    "- [x] Syntax highlighting via [`highlight.js`](https://github.com/highlightjs/highlight.js)\n",
    "\n",
    "```python\n",
    "a = {'a': 'asdf', 'b': 10}\n",
    "print(\"local server is listening on port 8080\")\n",
    "```\n"
   ]
  },
  {
   "cell_type": "code",
   "execution_count": 85,
   "metadata": {
    "brd": "2ffe2911-7ee6-4c11-97d2-f1da7d71ec14"
   },
   "outputs": [
    {
     "data": {
      "text/markdown": [
       "\n",
       "# &lt;zero-md&gt;\n",
       "\n",
       "> Ridiculously simple zero-config markdown displayer\n",
       "\n",
       "A vanilla markdown-to-html web component based on\n",
       "[Custom Elements V1 specs](https://www.w3.org/TR/custom-elements/) to load and display an external\n",
       "MD file.\n",
       "\n",
       "Featuring:\n",
       "\n",
       "- [x] Math rendering via [`KaTeX`](https://github.com/KaTeX/KaTeX)\n",
       "- [x] [`Mermaid`](https://github.com/mermaid-js/mermaid) diagrams\n",
       "- [x] Syntax highlighting via [`highlight.js`](https://github.com/highlightjs/highlight.js)\n",
       "\n",
       "```python\n",
       "a = {'a': 'asdf', 'b': 10}\n",
       "print(\"local server is listening on port 8080\")\n",
       "```\n"
      ],
      "text/plain": [
       "<IPython.core.display.Markdown object>"
      ]
     },
     "metadata": {},
     "output_type": "display_data"
    }
   ],
   "source": [
    "md_samp = '''\n",
    "# &lt;zero-md&gt;\n",
    "\n",
    "> Ridiculously simple zero-config markdown displayer\n",
    "\n",
    "A vanilla markdown-to-html web component based on\n",
    "[Custom Elements V1 specs](https://www.w3.org/TR/custom-elements/) to load and display an external\n",
    "MD file.\n",
    "\n",
    "Featuring:\n",
    "\n",
    "- [x] Math rendering via [`KaTeX`](https://github.com/KaTeX/KaTeX)\n",
    "- [x] [`Mermaid`](https://github.com/mermaid-js/mermaid) diagrams\n",
    "- [x] Syntax highlighting via [`highlight.js`](https://github.com/highlightjs/highlight.js)\n",
    "\n",
    "```python\n",
    "a = {'a': 'asdf', 'b': 10}\n",
    "print(\"local server is listening on port 8080\")\n",
    "```\n",
    "'''\n",
    "\n",
    "Markdown(md_samp)"
   ]
  },
  {
   "cell_type": "code",
   "execution_count": 86,
   "metadata": {
    "brd": "ca302c60-b926-4663-8a08-a53341e6b59a"
   },
   "outputs": [],
   "source": [
    "# %%HTML\n",
    "# <pre>aaaa</pre>\n",
    "# <script type=\"module\">\n",
    "# debugger;\n",
    "# import ZeroMd from 'https://cdn.jsdelivr.net/npm/zero-md@3'\n",
    "# customElements.define('zero-md', ZeroMd)\n",
    "# </script>\n",
    "\n",
    "zeromd_js = '''\n",
    "import ZeroMd from 'https://cdn.jsdelivr.net/npm/zero-md@3'\n",
    "customElements.define('zero-md', ZeroMd);\n",
    "'''\n",
    "\n",
    "zeromd_scr = Script(debug(zeromd_js), id='zeromd', type='module')"
   ]
  },
  {
   "cell_type": "code",
   "execution_count": 87,
   "metadata": {
    "brd": "aedb5bb6-15e6-4e9f-a46f-363279777a02"
   },
   "outputs": [],
   "source": [
    "brd.load_links(zeromd=zeromd_scr)"
   ]
  },
  {
   "cell_type": "code",
   "execution_count": 88,
   "metadata": {
    "brd": "72c210bf-ab40-4dd3-a63b-9c22435f6ffd"
   },
   "outputs": [],
   "source": [
    "from fasthtml.components import Zero_md, Template\n",
    "from bridget.widget_helpers import StyleV\n",
    "\n",
    "def render_local_md(md, css=''):\n",
    "    css_template = Template(StyleV(css), data_append=True)\n",
    "    return Zero_md(css_template, Script(md, type=\"text/markdown\"))"
   ]
  },
  {
   "cell_type": "code",
   "execution_count": 89,
   "metadata": {
    "brd": "8802528b-11f6-496e-a680-809ba61fd79a"
   },
   "outputs": [
    {
     "data": {
      "text/html": [
       "<zero-md><template data-append>    <style></style>\n",
       "</template><script type=\"text/markdown\">\n",
       "# &lt;zero-md&gt;\n",
       "\n",
       "> Ridiculously simple zero-config markdown displayer\n",
       "\n",
       "A vanilla markdown-to-html web component based on\n",
       "[Custom Elements V1 specs](https://www.w3.org/TR/custom-elements/) to load and display an external\n",
       "MD file.\n",
       "\n",
       "Featuring:\n",
       "\n",
       "- [x] Math rendering via [`KaTeX`](https://github.com/KaTeX/KaTeX)\n",
       "- [x] [`Mermaid`](https://github.com/mermaid-js/mermaid) diagrams\n",
       "- [x] Syntax highlighting via [`highlight.js`](https://github.com/highlightjs/highlight.js)\n",
       "\n",
       "```python\n",
       "a = {'a': 'asdf', 'b': 10}\n",
       "print(\"local server is listening on port 8080\")\n",
       "```\n",
       "</script></zero-md>\n",
       "<brd-mark id=\"bd4edb716-3a54f778-4ad03f32-999272ab\"></brd-mark>"
      ],
      "text/markdown": [
       "```html\n",
       "<zero-md><template data-append>    <style></style>\n",
       "</template><script type=\"text/markdown\">\n",
       "# &lt;zero-md&gt;\n",
       "\n",
       "> Ridiculously simple zero-config markdown displayer\n",
       "\n",
       "A vanilla markdown-to-html web component based on\n",
       "[Custom Elements V1 specs](https://www.w3.org/TR/custom-elements/) to load and display an external\n",
       "MD file.\n",
       "\n",
       "Featuring:\n",
       "\n",
       "- [x] Math rendering via [`KaTeX`](https://github.com/KaTeX/KaTeX)\n",
       "- [x] [`Mermaid`](https://github.com/mermaid-js/mermaid) diagrams\n",
       "- [x] Syntax highlighting via [`highlight.js`](https://github.com/highlightjs/highlight.js)\n",
       "\n",
       "```python\n",
       "a = {'a': 'asdf', 'b': 10}\n",
       "print(\"local server is listening on port 8080\")\n",
       "```\n",
       "</script></zero-md>\n",
       "```"
      ],
      "text/plain": [
       "zero-md((template((style(('',),{}),),{'data-append': True}), script(('\\n# &lt;zero-md&gt;\\n\\n> Ridiculously simple zero-config markdown displayer\\n\\nA vanilla markdown-to-html web component based on\\n[Custom Elements V1 specs](https://www.w3.org/TR/custom-elements/) to load and display an external\\nMD file.\\n\\nFeaturing:\\n\\n- [x] Math rendering via [`KaTeX`](https://github.com/KaTeX/KaTeX)\\n- [x] [`Mermaid`](https://github.com/mermaid-js/mermaid) diagrams\\n- [x] Syntax highlighting via [`highlight.js`](https://github.com/highlightjs/highlight.js)\\n\\n```python\\na = {\\'a\\': \\'asdf\\', \\'b\\': 10}\\nprint(\"local server is listening on port 8080\")\\n```\\n',),{'type': 'text/markdown'})),{})"
      ]
     },
     "metadata": {},
     "output_type": "display_data"
    }
   ],
   "source": [
    "md_ft = render_local_md(md_samp)\n",
    "\n",
    "# with bridge_cfg(auto_show=False):\n",
    "#     display(md_ft)\n",
    "\n",
    "md_ft"
   ]
  },
  {
   "cell_type": "code",
   "execution_count": 90,
   "metadata": {
    "brd": "4b7804cc-e8f6-4588-a144-5fcc6528c63e"
   },
   "outputs": [
    {
     "data": {
      "text/html": [
       "<pre style=\"white-space:pre;overflow-x:auto;line-height:normal;font-family:Menlo,'DejaVu Sans Mono',consolas,'Courier New',monospace\"><span style=\"font-weight: bold\">&lt;</span><span style=\"color: #ff00ff; text-decoration-color: #ff00ff; font-weight: bold\">zero-md</span><span style=\"color: #000000; text-decoration-color: #000000\">&gt;&lt;template data-append&gt;    &lt;style&gt;&lt;</span><span style=\"color: #800080; text-decoration-color: #800080\">/</span><span style=\"color: #ff00ff; text-decoration-color: #ff00ff\">style</span><span style=\"color: #000000; text-decoration-color: #000000\">&gt;</span>\n",
       "<span style=\"color: #000000; text-decoration-color: #000000\">&lt;</span><span style=\"color: #800080; text-decoration-color: #800080\">/</span><span style=\"color: #ff00ff; text-decoration-color: #ff00ff\">template</span><span style=\"color: #000000; text-decoration-color: #000000\">&gt;&lt;script </span><span style=\"color: #808000; text-decoration-color: #808000\">type</span><span style=\"color: #000000; text-decoration-color: #000000\">=</span><span style=\"color: #008000; text-decoration-color: #008000\">\"text/markdown\"</span><span style=\"color: #000000; text-decoration-color: #000000\">&gt;</span>\n",
       "<span style=\"color: #000000; text-decoration-color: #000000\"># &amp;lt;zero-md&amp;gt;</span>\n",
       "\n",
       "<span style=\"color: #000000; text-decoration-color: #000000\">&gt; Ridiculously simple zero-config markdown displayer</span>\n",
       "\n",
       "<span style=\"color: #000000; text-decoration-color: #000000\">A vanilla markdown-to-html web component based on</span>\n",
       "<span style=\"color: #000000; text-decoration-color: #000000; font-weight: bold\">[</span><span style=\"color: #000000; text-decoration-color: #000000\">Custom Elements V1 specs</span><span style=\"color: #000000; text-decoration-color: #000000; font-weight: bold\">](</span><span style=\"color: #0000ff; text-decoration-color: #0000ff; text-decoration: underline\">https://www.w3.org/TR/custom-elements/)</span><span style=\"color: #000000; text-decoration-color: #000000\"> to load and display an external</span>\n",
       "<span style=\"color: #000000; text-decoration-color: #000000\">MD file.</span>\n",
       "\n",
       "<span style=\"color: #000000; text-decoration-color: #000000\">Featuring:</span>\n",
       "\n",
       "<span style=\"color: #000000; text-decoration-color: #000000\">-  Math rendering via </span><span style=\"color: #000000; text-decoration-color: #000000; font-weight: bold\">[</span><span style=\"color: #000000; text-decoration-color: #000000\">`KaTeX`</span><span style=\"color: #000000; text-decoration-color: #000000; font-weight: bold\">](</span><span style=\"color: #0000ff; text-decoration-color: #0000ff; text-decoration: underline\">https://github.com/KaTeX/KaTeX)</span>\n",
       "<span style=\"color: #000000; text-decoration-color: #000000\">-  </span><span style=\"color: #000000; text-decoration-color: #000000; font-weight: bold\">[</span><span style=\"color: #000000; text-decoration-color: #000000\">`Mermaid`</span><span style=\"color: #000000; text-decoration-color: #000000; font-weight: bold\">](</span><span style=\"color: #0000ff; text-decoration-color: #0000ff; text-decoration: underline\">https://github.com/mermaid-js/mermaid)</span><span style=\"color: #000000; text-decoration-color: #000000\"> diagrams</span>\n",
       "<span style=\"color: #000000; text-decoration-color: #000000\">-  Syntax highlighting via </span><span style=\"color: #000000; text-decoration-color: #000000; font-weight: bold\">[</span><span style=\"color: #000000; text-decoration-color: #000000\">`highlight.js`</span><span style=\"color: #000000; text-decoration-color: #000000; font-weight: bold\">](</span><span style=\"color: #0000ff; text-decoration-color: #0000ff; text-decoration: underline\">https://github.com/highlightjs/highlight.js)</span>\n",
       "\n",
       "<span style=\"color: #000000; text-decoration-color: #000000\">```python</span>\n",
       "<span style=\"color: #000000; text-decoration-color: #000000\">a = </span><span style=\"color: #000000; text-decoration-color: #000000; font-weight: bold\">{</span><span style=\"color: #008000; text-decoration-color: #008000\">'a'</span><span style=\"color: #000000; text-decoration-color: #000000\">: </span><span style=\"color: #008000; text-decoration-color: #008000\">'asdf'</span><span style=\"color: #000000; text-decoration-color: #000000\">, </span><span style=\"color: #008000; text-decoration-color: #008000\">'b'</span><span style=\"color: #000000; text-decoration-color: #000000\">: </span><span style=\"color: #008080; text-decoration-color: #008080; font-weight: bold\">10</span><span style=\"color: #000000; text-decoration-color: #000000; font-weight: bold\">}</span>\n",
       "<span style=\"color: #800080; text-decoration-color: #800080; font-weight: bold\">print</span><span style=\"color: #000000; text-decoration-color: #000000; font-weight: bold\">(</span><span style=\"color: #008000; text-decoration-color: #008000\">\"local server is listening on port 8080\"</span><span style=\"color: #000000; text-decoration-color: #000000; font-weight: bold\">)</span>\n",
       "<span style=\"color: #000000; text-decoration-color: #000000\">```</span>\n",
       "<span style=\"color: #000000; text-decoration-color: #000000\">&lt;</span><span style=\"color: #800080; text-decoration-color: #800080\">/</span><span style=\"color: #ff00ff; text-decoration-color: #ff00ff\">script</span><span style=\"color: #000000; text-decoration-color: #000000\">&gt;&lt;</span><span style=\"color: #800080; text-decoration-color: #800080\">/</span><span style=\"color: #ff00ff; text-decoration-color: #ff00ff\">zero-md</span><span style=\"font-weight: bold\">&gt;</span>\n",
       "</pre>\n",
       "\n",
       "<brd-mark id=\"bb4bd0bca-9ba7c7d2-9325ac4c-1f6eff87\"></brd-mark>"
      ],
      "text/plain": [
       "\u001b[1m<\u001b[0m\u001b[1;95mzero-md\u001b[0m\u001b[39m><template data-append>    <style><\u001b[0m\u001b[35m/\u001b[0m\u001b[95mstyle\u001b[0m\u001b[39m>\u001b[0m\n",
       "\u001b[39m<\u001b[0m\u001b[35m/\u001b[0m\u001b[95mtemplate\u001b[0m\u001b[39m><script \u001b[0m\u001b[33mtype\u001b[0m\u001b[39m=\u001b[0m\u001b[32m\"text\u001b[0m\u001b[32m/markdown\"\u001b[0m\u001b[39m>\u001b[0m\n",
       "\u001b[39m# &lt;zero-md&gt;\u001b[0m\n",
       "\n",
       "\u001b[39m> Ridiculously simple zero-config markdown displayer\u001b[0m\n",
       "\n",
       "\u001b[39mA vanilla markdown-to-html web component based on\u001b[0m\n",
       "\u001b[1;39m[\u001b[0m\u001b[39mCustom Elements V1 specs\u001b[0m\u001b[1;39m]\u001b[0m\u001b[1;39m(\u001b[0m\u001b[4;94mhttps://www.w3.org/TR/custom-elements/\u001b[0m\u001b[4;94m)\u001b[0m\u001b[39m to load and display an external\u001b[0m\n",
       "\u001b[39mMD file.\u001b[0m\n",
       "\n",
       "\u001b[39mFeaturing:\u001b[0m\n",
       "\n",
       "\u001b[39m- \u001b[0m\u001b[39m Math rendering via \u001b[0m\u001b[1;39m[\u001b[0m\u001b[39m`KaTeX`\u001b[0m\u001b[1;39m]\u001b[0m\u001b[1;39m(\u001b[0m\u001b[4;94mhttps://github.com/KaTeX/KaTeX\u001b[0m\u001b[4;94m)\u001b[0m\n",
       "\u001b[39m- \u001b[0m\u001b[39m \u001b[0m\u001b[1;39m[\u001b[0m\u001b[39m`Mermaid`\u001b[0m\u001b[1;39m]\u001b[0m\u001b[1;39m(\u001b[0m\u001b[4;94mhttps://github.com/mermaid-js/mermaid\u001b[0m\u001b[4;94m)\u001b[0m\u001b[39m diagrams\u001b[0m\n",
       "\u001b[39m- \u001b[0m\u001b[39m Syntax highlighting via \u001b[0m\u001b[1;39m[\u001b[0m\u001b[39m`highlight.js`\u001b[0m\u001b[1;39m]\u001b[0m\u001b[1;39m(\u001b[0m\u001b[4;94mhttps://github.com/highlightjs/highlight.js\u001b[0m\u001b[4;94m)\u001b[0m\n",
       "\n",
       "\u001b[39m```python\u001b[0m\n",
       "\u001b[39ma = \u001b[0m\u001b[1;39m{\u001b[0m\u001b[32m'a'\u001b[0m\u001b[39m: \u001b[0m\u001b[32m'asdf'\u001b[0m\u001b[39m, \u001b[0m\u001b[32m'b'\u001b[0m\u001b[39m: \u001b[0m\u001b[1;36m10\u001b[0m\u001b[1;39m}\u001b[0m\n",
       "\u001b[1;35mprint\u001b[0m\u001b[1;39m(\u001b[0m\u001b[32m\"local server is listening on port 8080\"\u001b[0m\u001b[1;39m)\u001b[0m\n",
       "\u001b[39m```\u001b[0m\n",
       "\u001b[39m<\u001b[0m\u001b[35m/\u001b[0m\u001b[95mscript\u001b[0m\u001b[39m><\u001b[0m\u001b[35m/\u001b[0m\u001b[95mzero-md\u001b[0m\u001b[1m>\u001b[0m\n"
      ]
     },
     "metadata": {},
     "output_type": "display_data"
    }
   ],
   "source": [
    "cprint(to_xml(md_ft))"
   ]
  },
  {
   "cell_type": "code",
   "execution_count": 91,
   "metadata": {
    "brd": "fc0e5dc3-8a69-4e62-bf2c-01bfa864e38c"
   },
   "outputs": [],
   "source": [
    "brd.close()"
   ]
  },
  {
   "cell_type": "markdown",
   "metadata": {},
   "source": [
    "# HTMX Commander\n",
    "> Python wrapper of HTMX API.\n",
    "\n",
    "Currently only implemented `htmx.swap()` manually. If useful, I'll automate wrappers generation from htmx docs.\n"
   ]
  },
  {
   "cell_type": "code",
   "execution_count": 92,
   "metadata": {
    "brd": "1951f016-92a4-4b26-ac24-9d165c5dd257"
   },
   "outputs": [],
   "source": [
    "#| export\n",
    "\n",
    "commander_js = BUNDLE_PATH / 'js/commander.js'\n",
    "commander_esm = bundled(commander_js, bundle=__name__, bundler='copy')\n",
    "commander_scr = Script(debug(commander_esm.source), id='htmx-commander')\n",
    "\n",
    "class HTMXCommander(BridgeWidget):\n",
    "    _esm = anysource(commander_esm(debugger=DEBUG), '''\n",
    "export default { \n",
    "    async initialize({ model }) {\n",
    "        await initializeCommander(model.get('output_sels'));\n",
    "        model.on(\"msg:custom\", on_commander_msg);\n",
    "        model.send({ ctx: 'commander', kind: 'info', info: 'loaded' });\n",
    "    }\n",
    "};\n",
    "''')\n",
    "    \n",
    "    output_sels = T.List(['.output', '.jp-Cell-outputArea']).tag(sync=True)\n",
    "\n",
    "    ctx_name = T.Unicode('commander').tag(sync=True)\n",
    "\n",
    "    def swap(self: HTMXCommander,\n",
    "        target, \n",
    "        content, \n",
    "        *, \n",
    "        # ---- swapSpec:SwapSpec, \n",
    "        swapStyle: Literal['innerHTML','outerHTML','testContent','beforebegin','afterbegin','beforeend','afterend','delete','none'],\n",
    "        swapDelay: int|None=None, settleDelay: int|None=None,\n",
    "        transition: bool|None=None,\n",
    "        # ignoreTitle: bool|None=None, head: Literal['merge', 'append']|None=None,\n",
    "        scroll: str|None=None, scrollTarget: str|None=None,\n",
    "        show: str|None=None, showTarget: str|None=None, focusScroll: bool|None=None,\n",
    "        # ---- swapOptions=None,\n",
    "        select: str|None=None, selectOOB: str|None=None,\n",
    "        # eventInfo: dict|None=None,\n",
    "        anchor: str|None=None,        \n",
    "        # contextElement: str|None=None,\n",
    "        # afterSwapCallback: Callable|None=None, afterSettleCallback: Callable|None=None,\n",
    "    ): ..."
   ]
  },
  {
   "cell_type": "code",
   "execution_count": 93,
   "metadata": {
    "brd": "38d5b90d-91e9-419e-837e-42163e631e01"
   },
   "outputs": [],
   "source": [
    "cleanupwidgets('cmdr')\n",
    "\n",
    "cmdr = HTMXCommander(show=True)"
   ]
  },
  {
   "cell_type": "markdown",
   "metadata": {},
   "source": [
    "## API"
   ]
  },
  {
   "cell_type": "markdown",
   "metadata": {},
   "source": [
    "### Method - `htmx.swap()` {#swap}\n",
    "\n",
    "Performs swapping (and settling) of HTML content\n",
    "\n",
    "##### Parameters\n",
    "\n",
    "* `target` - the HTML element or string selector of swap target\n",
    "* `content` - string representation of content to be swapped\n",
    "* `swapSpec` - swapping specification, representing parameters from `hx-swap`\n",
    "  * `swapStyle` (required) - swapping style (`innerHTML`, `outerHTML`, `beforebegin` etc)\n",
    "  * `swapDelay`, `settleDelay` (number) - delays before swapping and settling respectively\n",
    "  * `transition` (bool) - whether to use HTML transitions for swap\n",
    "  * `ignoreTitle` (bool) - disables page title updates\n",
    "  * `head` (string) - specifies `head` tag handling strategy (`merge` or `append`). Leave empty to disable head handling\n",
    "  * `scroll`, `scrollTarget`, `show`, `showTarget`, `focusScroll` - specifies scroll handling after swap\n",
    "* `swapOptions` - additional *optional* parameters for swapping\n",
    "  * `select` - selector for the content to be swapped (equivalent of `hx-select`)\n",
    "  * `selectOOB` - selector for the content to be swapped out-of-band (equivalent of `hx-select-oob`)\n",
    "  * `eventInfo` - an object to be attached to `htmx:afterSwap` and `htmx:afterSettle` elements\n",
    "  * `anchor` - an anchor element that triggered scroll, will be scrolled into view on settle. Provides simple alternative to full scroll handling\n",
    "  * `contextElement` - DOM element that serves as context to swapping operation. Currently used to find extensions enabled for specific element\n",
    "  * `afterSwapCallback`, `afterSettleCallback` - callback functions called after swap and settle respectively. Take no arguments\n",
    "\n",
    "\n",
    "##### Example\n",
    "\n",
    "```js\n",
    "    // swap #output element inner HTML with div element with \"Swapped!\" text\n",
    "    htmx.swap(\"#output\", \"<div>Swapped!</div>\", {swapStyle: 'innerHTML'});\n",
    "```\n"
   ]
  },
  {
   "cell_type": "code",
   "execution_count": 94,
   "metadata": {
    "brd": "a0f4601d-1886-4189-9083-2aeca2c5ddbc"
   },
   "outputs": [],
   "source": [
    "#| export\n",
    "\n",
    "SwapStyleT: TypeAlias = Literal['innerHTML','outerHTML','testContent','beforebegin','afterbegin',\n",
    "                        'beforeend','afterend','delete','none']"
   ]
  },
  {
   "cell_type": "code",
   "execution_count": 95,
   "metadata": {
    "brd": "e6dcec41-7d94-4d57-93f9-c6183218cf07"
   },
   "outputs": [],
   "source": [
    "#| export\n",
    "\n",
    "def swap(self, \n",
    "        target, \n",
    "        content, \n",
    "        *, \n",
    "        # ---- swapSpec:SwapSpec, \n",
    "        swapStyle: SwapStyleT='innerHTML',\n",
    "        swapDelay: int|None=None, settleDelay: int|None=None,\n",
    "        transition: bool|None=None,\n",
    "        # ignoreTitle: bool|None=None, head: Literal['merge', 'append']|None=None,\n",
    "        scroll: str|None=None, scrollTarget: str|None=None,\n",
    "        show: str|None=None, showTarget: str|None=None, focusScroll: bool|None=None,\n",
    "        # ---- swapOptions=None,\n",
    "        select: str|None=None, selectOOB: str|None=None,\n",
    "        # eventInfo: dict|None=None,\n",
    "        anchor: str|None=None,        \n",
    "        # contextElement: str|None=None,\n",
    "        # afterSwapCallback: Callable|None=None, afterSettleCallback: Callable|None=None,\n",
    "    ):\n",
    "    d = {\n",
    "        'target': target,\n",
    "        'content': content,\n",
    "        'swapSpec': update_(**{\n",
    "            'swapStyle': swapStyle, 'swapDelay': swapDelay, 'settleDelay': settleDelay,\n",
    "            'transition': transition,\n",
    "            # 'ignoreTitle': ignoreTitle, 'head': head,\n",
    "            'scroll': scroll, 'scrollTarget': scrollTarget,\n",
    "            'show': show, 'showTarget': showTarget, 'focusScroll': focusScroll,\n",
    "            # 'afterSwapCallback': afterSwapCallback, 'afterSettleCallback': afterSettleCallback,\n",
    "        }),\n",
    "        'swapOptions': update_(**{\n",
    "            'select': select, 'selectOOB': selectOOB,\n",
    "            # 'eventInfo': eventInfo,\n",
    "            'anchor': anchor,\n",
    "            # 'contextElement': contextElement,\n",
    "            # 'afterSwapCallback': afterSwapCallback, 'afterSettleCallback': afterSettleCallback,\n",
    "        }),\n",
    "    }\n",
    "    self.send({\n",
    "        'cmd': 'swap',\n",
    "        'args': [*d.values()]\n",
    "    })\n",
    "\n",
    "FC.patch_to(HTMXCommander)(swap)"
   ]
  },
  {
   "cell_type": "markdown",
   "metadata": {},
   "source": [
    "## Test swap"
   ]
  },
  {
   "cell_type": "code",
   "execution_count": 96,
   "metadata": {
    "brd": "04c5e83e-d9d5-4e36-bea7-c5e2534b76e2"
   },
   "outputs": [
    {
     "data": {
      "text/html": [
       "\n",
       "<div id=\"output-99\">Original</div>\n"
      ],
      "text/plain": [
       "<IPython.core.display.HTML object>"
      ]
     },
     "metadata": {},
     "output_type": "display_data"
    }
   ],
   "source": [
    "%%HTML\n",
    "\n",
    "<div id=\"output-99\">Original</div>"
   ]
  },
  {
   "cell_type": "code",
   "execution_count": 97,
   "metadata": {
    "brd": "b3ec7bb8-6be9-4f80-b513-1a62932c3c2a"
   },
   "outputs": [],
   "source": [
    "cmdr.swap('#output-99', '<div>Swapped!</div>', swapStyle='innerHTML')"
   ]
  },
  {
   "cell_type": "code",
   "execution_count": 98,
   "metadata": {
    "brd": "35b33189-d009-4014-a7ce-3d248f34c55a"
   },
   "outputs": [],
   "source": [
    "cleanupwidgets('cmdr2')\n",
    "\n",
    "cmdr2 = HTMXCommander()"
   ]
  },
  {
   "cell_type": "markdown",
   "metadata": {},
   "source": [
    "## ----\n",
    "First steps exploring automation. Skip it."
   ]
  },
  {
   "cell_type": "code",
   "execution_count": 99,
   "metadata": {
    "brd": "ed55e885-8a25-466a-9a60-9090e0dcef08"
   },
   "outputs": [
    {
     "name": "stdout",
     "output_type": "stream",
     "text": [
      "(target, content, *, swapStyle: 'SwapStyleT' = 'innerHTML', swapDelay: 'int | None' = None, settleDelay: 'int | None' = None, transition: 'bool | None' = None, scroll: 'str | None' = None, scrollTarget: 'str | None' = None, show: 'str | None' = None, showTarget: 'str | None' = None, focusScroll: 'bool | None' = None, select: 'str | None' = None, selectOOB: 'str | None' = None, anchor: 'str | None' = None)\n",
      "OrderedDict({'target': <Parameter \"target\">, 'content': <Parameter \"content\">, 'swapStyle': <Parameter \"swapStyle: 'SwapStyleT' = 'innerHTML'\">, 'swapDelay': <Parameter \"swapDelay: 'int | None' = None\">, 'settleDelay': <Parameter \"settleDelay: 'int | None' = None\">, 'transition': <Parameter \"transition: 'bool | None' = None\">, 'scroll': <Parameter \"scroll: 'str | None' = None\">, 'scrollTarget': <Parameter \"scrollTarget: 'str | None' = None\">, 'show': <Parameter \"show: 'str | None' = None\">, 'showTarget': <Parameter \"showTarget: 'str | None' = None\">, 'focusScroll': <Parameter \"focusScroll: 'bool | None' = None\">, 'select': <Parameter \"select: 'str | None' = None\">, 'selectOOB': <Parameter \"selectOOB: 'str | None' = None\">, 'anchor': <Parameter \"anchor: 'str | None' = None\">})\n"
     ]
    },
    {
     "data": {
      "text/plain": [
       "('swapStyle', 'innerHTML', 'SwapStyleT', <_ParameterKind.KEYWORD_ONLY: 3>)"
      ]
     },
     "execution_count": 99,
     "metadata": {},
     "output_type": "execute_result"
    }
   ],
   "source": [
    "sig = inspect.signature(cmdr.swap)\n",
    "print(sig)\n",
    "print(sig.parameters)\n",
    "target_param = sig.parameters['swapStyle']\n",
    "target_param.name, target_param.default, target_param.annotation, target_param.kind\n"
   ]
  },
  {
   "cell_type": "code",
   "execution_count": 100,
   "metadata": {
    "brd": "5ecee4dc-347a-4ae9-90a2-299cefc46838"
   },
   "outputs": [
    {
     "data": {
      "text/plain": [
       "({'target': '#target',\n",
       "  'content': '<content />',\n",
       "  'swapStyle': 'innerHTML',\n",
       "  'swapDelay': 1000},\n",
       " <Signature (target, content, *, swapStyle: 'SwapStyleT' = 'innerHTML', swapDelay: 'int | None' = None, settleDelay: 'int | None' = None, transition: 'bool | None' = None, scroll: 'str | None' = None, scrollTarget: 'str | None' = None, show: 'str | None' = None, showTarget: 'str | None' = None, focusScroll: 'bool | None' = None, select: 'str | None' = None, selectOOB: 'str | None' = None, anchor: 'str | None' = None)>,\n",
       " ('#target', '<content />'),\n",
       " {'swapStyle': 'innerHTML', 'swapDelay': 1000})"
      ]
     },
     "execution_count": 100,
     "metadata": {},
     "output_type": "execute_result"
    }
   ],
   "source": [
    "\n",
    "bb = sig.bind(target='#target', content='<content />', swapStyle='innerHTML', swapDelay=1000)\n",
    "bb.arguments, bb.signature, bb.args, bb.kwargs\n"
   ]
  },
  {
   "cell_type": "code",
   "execution_count": 101,
   "metadata": {
    "brd": "c2cf6424-d84b-439d-8204-df399c69c1bc"
   },
   "outputs": [],
   "source": [
    "swap_args = {\n",
    "    'target': 'target',\n",
    "    'content': 'content',\n",
    "    '*': '*',\n",
    "    'swapSpec': {\n",
    "        'swapStyle': 'swapStyle', 'swapDelay': 'swapDelay', 'settleDelay': 'settleDelay',\n",
    "        'transition': 'transition',\n",
    "        # 'ignoreTitle': 'ignoreTitle', 'head': 'head',\n",
    "        'scroll': 'scroll', 'scrollTarget': 'scrollTarget',\n",
    "        'show': 'show', 'showTarget': 'showTarget', 'focusScroll': 'focusScroll',\n",
    "        # 'afterSwapCallback': 'afterSwapCallback', 'afterSettleCallback': 'afterSettleCallback',\n",
    "    },\n",
    "    'swapOptions': {\n",
    "        'select': 'select', 'selectOOB': 'selectOOB',\n",
    "        # 'eventInfo': 'eventInfo',\n",
    "        'anchor': 'anchor',\n",
    "        # 'contextElement': 'contextElement',\n",
    "        # 'afterSwapCallback': 'afterSwapCallback', 'afterSettleCallback': 'afterSettleCallback',\n",
    "    },\n",
    "}\n"
   ]
  },
  {
   "cell_type": "code",
   "execution_count": 102,
   "metadata": {
    "brd": "f88331e5-558d-4058-89ac-9dadbc866171"
   },
   "outputs": [],
   "source": [
    "from inspect import Parameter\n",
    "\n",
    "\n",
    "swap_args = {\n",
    "    'target': Parameter('target', Parameter.POSITIONAL_OR_KEYWORD),\n",
    "    'content': Parameter('content', Parameter.POSITIONAL_OR_KEYWORD),\n",
    "    'swapSpec': {\n",
    "        'swapStyle': Parameter('swapStyle', Parameter.KEYWORD_ONLY, annotation=SwapStyleT), \n",
    "        'swapDelay': Parameter('swapDelay', Parameter.KEYWORD_ONLY), \n",
    "        'settleDelay': Parameter('settleDelay', Parameter.KEYWORD_ONLY),\n",
    "        'transition': Parameter('transition', Parameter.KEYWORD_ONLY),\n",
    "        # 'ignoreTitle': 'ignoreTitle', 'head': 'head',\n",
    "        'scroll': Parameter('scroll', Parameter.KEYWORD_ONLY), \n",
    "        'scrollTarget': Parameter('scrollTarget', Parameter.KEYWORD_ONLY),\n",
    "        'show': Parameter('show', Parameter.KEYWORD_ONLY), \n",
    "        'showTarget': Parameter('showTarget', Parameter.KEYWORD_ONLY), \n",
    "        'focusScroll': Parameter('focusScroll', Parameter.KEYWORD_ONLY),\n",
    "        # 'afterSwapCallback': 'afterSwapCallback', 'afterSettleCallback': 'afterSettleCallback',\n",
    "    },\n",
    "    'swapOptions': {\n",
    "        'select': 'select', 'selectOOB': 'selectOOB',\n",
    "        # 'eventInfo': 'eventInfo',\n",
    "        'anchor': 'anchor',\n",
    "        # 'contextElement': 'contextElement',\n",
    "        # 'afterSwapCallback': 'afterSwapCallback', 'afterSettleCallback': 'afterSettleCallback',\n",
    "    },\n",
    "}\n"
   ]
  },
  {
   "cell_type": "code",
   "execution_count": 103,
   "metadata": {
    "brd": "40ef1256-fb23-4b6c-97d7-fa390524e177"
   },
   "outputs": [
    {
     "data": {
      "text/plain": [
       "{<Parameter \"target\">: '#target',\n",
       " <Parameter \"content\">: '<content />',\n",
       " 'swapSpec': {<Parameter \"swapStyle: Literal['innerHTML', 'outerHTML', 'testContent', 'beforebegin', 'afterbegin', 'beforeend', 'afterend', 'delete', 'none']\">: 'innerHTML',\n",
       "  <Parameter \"swapDelay\">: 1000}}"
      ]
     },
     "execution_count": 103,
     "metadata": {},
     "output_type": "execute_result"
    }
   ],
   "source": [
    "def build_args_dict(args_desc: dict, *args, **kwargs) -> dict:\n",
    "    \"Builds a dictionary from args/kwargs based on an arguments descriptor\"\n",
    "    result = {}\n",
    "    \n",
    "    # Process descriptor items in order\n",
    "    for k, v in args_desc.items():\n",
    "        if isinstance(v, dict):\n",
    "            # Handle nested dictionary descriptors\n",
    "            nested = {\n",
    "                v2: kwargs.get(k2) \n",
    "                for k2, v2 in v.items() \n",
    "                if kwargs.get(k2) is not None\n",
    "            }\n",
    "            if nested: result[k] = nested\n",
    "        else:\n",
    "            # For non-dict values, first try kwargs, then fallback to positional args\n",
    "            if k in kwargs:\n",
    "                result[v] = kwargs[k]\n",
    "            elif len(args) > 0:\n",
    "                result[v] = args[0]\n",
    "                args = args[1:]\n",
    "    \n",
    "    return result\n",
    "\n",
    "\n",
    "build_args_dict(swap_args, '#target', '<content />', swapStyle='innerHTML', swapDelay=1000)\n",
    "\n"
   ]
  },
  {
   "cell_type": "markdown",
   "metadata": {},
   "source": [
    "# BridgeBase"
   ]
  },
  {
   "cell_type": "code",
   "execution_count": 104,
   "metadata": {
    "brd": "73e5c943-a807-46ca-96e2-1c5c4a1144e6"
   },
   "outputs": [],
   "source": [
    "#| export\n",
    "\n",
    "@FC.delegates()\n",
    "class BridgeBase(Loader):\n",
    "    logger: BLogger\n",
    "    lnks = {**bridge_scripts(), 'observer_scr':observer_scr, 'brd_mark': marker_scr}\n",
    "    dhs: deque[DisplayHandle]\n",
    "    # commander: HTMXCommander | None = None\n",
    "\n",
    "    def __init__(self, *args, \n",
    "            # companions_loader: Callable[[Self], list[BridgeWidget]]|None = None,\n",
    "            **kwargs\n",
    "        ):\n",
    "        if DEBUG: self.msgs = []\n",
    "        self.csi, self.dhs, self.hook = CellExecInfo(), deque(maxlen=100), None\n",
    "        # self.companions = []\n",
    "        # self._companions_loader = companions_loader\n",
    "        super().__init__(*args, **kwargs)\n",
    "\n",
    "    def close(self):\n",
    "        self.csi.stop()\n",
    "        get_capturer().unregister()\n",
    "        if self.hook: self.hook.unregister()\n",
    "        # map(lambda c: c.close(), self.companions)\n",
    "        super().close()\n",
    "    def __del__(self): self.close()\n",
    "\n",
    "    def on_info(self, *args, info:str, **kwargs):\n",
    "        super().on_info(*args, info=info, **kwargs)\n",
    "        if info == 'loaded': # now we can initialize the scripts\n",
    "            self.hook = Bridged(self.dhs, self.msgs if DEBUG else None, register=True)\n",
    "            get_capturer().register()\n",
    "            self.csi.start()\n",
    "\n",
    "    def on_loadLinks(self, *args, success:list[str], **kwargs):\n",
    "        super().on_loadLinks(*args, success=success, **kwargs)\n",
    "        # if self._companions_loader: self.companions = self._companions_loader(self)\n",
    "    \n",
    "    @cached_property\n",
    "    def commander(self) -> HTMXCommander | None:\n",
    "        if self.loaded('htmx'):\n",
    "            return HTMXCommander(logger=self.logger, show=False)\n",
    "\n",
    "\n",
    "@FC.delegates(Loader.__init__)  # type: ignore\n",
    "async def get_bridge(*args, logger=None, show_scr=False, **kwargs): \n",
    "    if logger: logger.display()\n",
    "    brd = await BridgeBase.create(*args, logger=logger, **kwargs)\n",
    "    if show_scr: show_scripts(**brd.lnks)\n",
    "    return brd"
   ]
  },
  {
   "cell_type": "code",
   "execution_count": 105,
   "metadata": {
    "brd": "14bd844b-4115-433d-962c-69e4ff0d92bf"
   },
   "outputs": [
    {
     "data": {
      "text/html": [
       "<div id='brd-logger-13' class='brd-logger' style='width: 100%; max-height: 200px;'></div>"
      ],
      "text/plain": [
       "<IPython.core.display.HTML object>"
      ]
     },
     "metadata": {},
     "output_type": "display_data"
    }
   ],
   "source": [
    "cleanupwidgets(brd)\n",
    "get_capturer().unregister()\n",
    "OutputCapture.clear_instance()\n",
    "type(brd).clear_instance()\n",
    "\n",
    "bridge_cfg.auto_id = True\n",
    "brd = await get_bridge()"
   ]
  },
  {
   "cell_type": "code",
   "execution_count": 106,
   "metadata": {
    "brd": "affaf3d7-fc6a-48ce-a4ea-dc15e62fd44b"
   },
   "outputs": [
    {
     "name": "stdout",
     "output_type": "stream",
     "text": [
      "vscode-notebook-cell:/Users/vic/dev/repo/project/bridget/nbs/15_bridge.ipynb#Y261sZmlsZQ%3D%3D\n"
     ]
    }
   ],
   "source": [
    "print(__cellid__)"
   ]
  },
  {
   "cell_type": "code",
   "execution_count": 107,
   "metadata": {
    "brd": "8d219b15-7f59-442a-a710-2847ee27baf2"
   },
   "outputs": [],
   "source": [
    "brd.close()"
   ]
  },
  {
   "cell_type": "code",
   "execution_count": 108,
   "metadata": {
    "brd": "d5fb455e-339b-4058-9372-b4470b6e904e"
   },
   "outputs": [
    {
     "data": {
      "text/plain": [
       "({'raw_cell': 'print(__cellid__)',\n",
       "  'cell_id': 'vscode-notebook-cell:/Users/vic/dev/repo/project/bridget/nbs/15_bridge.ipynb#Y261sZmlsZQ%3D%3D'},\n",
       " {'execution_count': 106,\n",
       "  'error_before_exec': None,\n",
       "  'error_in_exec': None,\n",
       "  'info': {'raw_cell': 'print(__cellid__)',\n",
       "   'cell_id': 'vscode-notebook-cell:/Users/vic/dev/repo/project/bridget/nbs/15_bridge.ipynb#Y261sZmlsZQ%3D%3D'},\n",
       "  'result': None})"
      ]
     },
     "execution_count": 108,
     "metadata": {},
     "output_type": "execute_result"
    }
   ],
   "source": [
    "brd.csi.last_info, brd.csi.last_result"
   ]
  },
  {
   "cell_type": "markdown",
   "metadata": {},
   "source": [
    "----"
   ]
  },
  {
   "cell_type": "code",
   "execution_count": 109,
   "metadata": {
    "brd": "c54d7f93-754b-4e33-8d58-634df801c2df"
   },
   "outputs": [],
   "source": [
    "#| export\n",
    "\n",
    "shell = get_ipython()\n",
    "if shell:\n",
    "    shell.user_ns['__cellid__'] = None\n",
    "    shell.user_ns['__cellsource__'] = None"
   ]
  },
  {
   "cell_type": "markdown",
   "metadata": {},
   "source": [
    "# Colophon\n",
    "----\n"
   ]
  },
  {
   "cell_type": "code",
   "execution_count": 110,
   "metadata": {
    "brd": "6395cd1b-0b72-4e79-99cc-df1b5a023a35"
   },
   "outputs": [],
   "source": [
    "import fastcore.all as FC\n",
    "import nbdev\n",
    "from nbdev.clean import nbdev_clean"
   ]
  },
  {
   "cell_type": "code",
   "execution_count": 111,
   "metadata": {
    "brd": "a0cc9917-6358-4781-b7c9-b388da4a9357"
   },
   "outputs": [],
   "source": [
    "if FC.IN_NOTEBOOK:\n",
    "    nb_path = '15_bridge.ipynb'\n",
    "    # nbdev_clean(nb_path)\n",
    "    nbdev.nbdev_export(nb_path)"
   ]
  }
 ],
 "metadata": {
  "kernelspec": {
   "display_name": "Python 3",
   "language": "python",
   "name": "python3"
  },
  "language_info": {
   "codemirror_mode": {
    "name": "ipython",
    "version": 3
   },
   "file_extension": ".py",
   "mimetype": "text/x-python",
   "name": "python",
   "nbconvert_exporter": "python",
   "pygments_lexer": "ipython3",
   "version": "3.12.8"
  },
  "widgets": {
   "application/vnd.jupyter.widget-state+json": {
    "state": {},
    "version_major": 2,
    "version_minor": 0
   }
  }
 },
 "nbformat": 4,
 "nbformat_minor": 4
}
