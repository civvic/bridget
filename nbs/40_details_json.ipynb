{
 "cells": [
  {
   "cell_type": "code",
   "execution_count": null,
   "metadata": {},
   "outputs": [],
   "source": [
    "#| default_exp components/details_json\n"
   ]
  },
  {
   "cell_type": "code",
   "execution_count": null,
   "metadata": {},
   "outputs": [],
   "source": [
    "#| export\n",
    "from __future__ import annotations\n"
   ]
  },
  {
   "cell_type": "markdown",
   "metadata": {},
   "source": [
    "# DetailsJSON\n",
    "\n",
    "> FastHTML component that displays a JSON object in a `details` element.\n"
   ]
  },
  {
   "cell_type": "markdown",
   "metadata": {},
   "source": [
    "# Prologue"
   ]
  },
  {
   "cell_type": "code",
   "execution_count": null,
   "metadata": {},
   "outputs": [],
   "source": [
    "#| export\n",
    "from typing import Any\n",
    "from typing import Literal\n",
    "from typing import Mapping\n",
    "from typing import Sequence\n",
    "\n",
    "from fasthtml.xtend import Style\n",
    "from olio.common import *\n"
   ]
  },
  {
   "cell_type": "code",
   "execution_count": null,
   "metadata": {},
   "outputs": [],
   "source": [
    "#| export\n",
    "from bridget.common import *\n"
   ]
  },
  {
   "cell_type": "code",
   "execution_count": null,
   "metadata": {},
   "outputs": [],
   "source": [
    "#| export\n",
    "\n",
    "from fasthtml.components import Details, Summary, Ul, Li, Span\n"
   ]
  },
  {
   "cell_type": "code",
   "execution_count": null,
   "metadata": {},
   "outputs": [],
   "source": [
    "import json\n",
    "from functools import partial\n",
    "from pathlib import Path\n",
    "from typing import cast\n",
    "\n",
    "from fastcore.test import *\n",
    "from fastcore.xml import FT\n",
    "from fastcore.xml import to_xml\n",
    "from fasthtml.common import show\n",
    "from rich.console import Console\n"
   ]
  },
  {
   "cell_type": "code",
   "execution_count": null,
   "metadata": {},
   "outputs": [],
   "source": [
    "from bridget.bridge_plugins import HTMXCommanderPlugin, NBHooksPlugin"
   ]
  },
  {
   "cell_type": "markdown",
   "metadata": {},
   "source": [
    "----\n"
   ]
  },
  {
   "cell_type": "code",
   "execution_count": null,
   "metadata": {},
   "outputs": [
    {
     "data": {
      "text/html": [
       "<style>details ul { list-style-type:none; list-style-position: outside; padding-inline-start: 22px; margin: 0; } details .string { color: #24837b; } details .string::before { content: \"'\"; } details .string::after { content: \"'\"; } details .number { color: #ad8301; } details .true { color: blue; } details .false { color: red; } details .null { color: gray; } span.n { color: darkgrey; } </style>\n",
       "<details open><summary>Bridget Config\n",
       "</summary>  <ul>\n",
       "    <li>\n",
       "<span><span class=\"n\">auto_show</span>: <span class=\"v false\">False</span></span>    </li>\n",
       "    <li>\n",
       "<span><span class=\"n\">auto_mount</span>: <span class=\"v true\">True</span></span>    </li>\n",
       "    <li>\n",
       "<span><span class=\"n\">auto_id</span>: <span class=\"v false\">False</span></span>    </li>\n",
       "    <li>\n",
       "<span><span class=\"n\">bundle_cfg</span>: <span class=\"v \">{&#x27;out_dir&#x27;: [Path(&#x27;/Users/vic/dev/repo/project/bridget/bridget/js&#x27;)], &#x27;rewrite_imports&#x27;: True, &#x27;import_name&#x27;: &#x27;brdimport&#x27;}</span></span>    </li>\n",
       "    <li>\n",
       "<span><span class=\"n\">bootstrap</span>: <span class=\"v false\">False</span></span>    </li>\n",
       "    <li>\n",
       "<span><span class=\"n\">current_did</span>: <span class=\"v null\">None</span></span>    </li>\n",
       "  </ul>\n",
       "</details>"
      ],
      "text/plain": [
       "<IPython.core.display.HTML object>"
      ]
     },
     "metadata": {},
     "output_type": "display_data"
    }
   ],
   "source": [
    "cprint = (console := Console(width=120)).print\n",
    "bridge_cfg.update(auto_mount=True)\n",
    "show(DetailsJSON(bridge_cfg.as_dict(), summary='Bridget Config'))\n"
   ]
  },
  {
   "cell_type": "code",
   "execution_count": null,
   "metadata": {},
   "outputs": [],
   "source": [
    "#| export\n",
    "\n",
    "_n = '\\n'"
   ]
  },
  {
   "cell_type": "markdown",
   "metadata": {},
   "source": [
    "----"
   ]
  },
  {
   "cell_type": "markdown",
   "metadata": {},
   "source": [
    "# Derivation"
   ]
  },
  {
   "cell_type": "code",
   "execution_count": null,
   "metadata": {},
   "outputs": [],
   "source": [
    "# bridge = get_bridge(plugins=[HTMXCommanderPlugin(), NBHooksPlugin()], show_logger=True, summary=True, wait=5)"
   ]
  },
  {
   "cell_type": "code",
   "execution_count": null,
   "metadata": {},
   "outputs": [],
   "source": [
    "app, brt, rt = get_app()#show_logger=True, summary=True)"
   ]
  },
  {
   "cell_type": "code",
   "execution_count": null,
   "metadata": {},
   "outputs": [
    {
     "data": {
      "text/html": [
       "<style>\n",
       "    me ul { list-style-type:none; list-style-position: outside; padding-inline-start: 22px; margin: 0; }\n",
       "</style>\n",
       "<details open>\n",
       "<summary>Apollo astronauts</summary>\n",
       "<ul>\n",
       "  <li><span>1</span>: Neil Armstrong</li>\n",
       "  <li><span>2</span>: Alan Bean</li>\n",
       "  <li><details>\n",
       "<summary>Apollo 11</summary>\n",
       "<ul>\n",
       "  <li><span>1</span>: Neil Armstrong</li>\n",
       "  <li><span>2</span>: Alan Bean</li>\n",
       "  <li><div><span>3</span>: Buzz Aldrin</div></li>\n",
       "  <li><span>4</span>: Edgar Mitchell</li>\n",
       "  <li><span>5</span>: Alan Shepard</li>\n",
       "</ul></li>\n",
       "  <li><span>4</span>: Edgar Mitchell</li>\n",
       "  <li><span>5</span>: Alan Shepard</li>\n",
       "</ul>\n",
       "\n",
       "</details>\n"
      ],
      "text/plain": [
       "<IPython.core.display.HTML object>"
      ]
     },
     "metadata": {},
     "output_type": "display_data"
    }
   ],
   "source": [
    "%%HTML\n",
    "<style>\n",
    "    me ul { list-style-type:none; list-style-position: outside; padding-inline-start: 22px; margin: 0; }\n",
    "</style>\n",
    "<details open>\n",
    "<summary>Apollo astronauts</summary>\n",
    "<ul>\n",
    "  <li><span>1</span>: Neil Armstrong</li>\n",
    "  <li><span>2</span>: Alan Bean</li>\n",
    "  <li><details>\n",
    "<summary>Apollo 11</summary>\n",
    "<ul>\n",
    "  <li><span>1</span>: Neil Armstrong</li>\n",
    "  <li><span>2</span>: Alan Bean</li>\n",
    "  <li><div><span>3</span>: Buzz Aldrin</div></li>\n",
    "  <li><span>4</span>: Edgar Mitchell</li>\n",
    "  <li><span>5</span>: Alan Shepard</li>\n",
    "</ul></li>\n",
    "  <li><span>4</span>: Edgar Mitchell</li>\n",
    "  <li><span>5</span>: Alan Shepard</li>\n",
    "</ul>\n",
    "\n",
    "</details>"
   ]
  },
  {
   "cell_type": "code",
   "execution_count": null,
   "metadata": {},
   "outputs": [
    {
     "data": {
      "text/html": [
       "<pre style=\"white-space:pre;overflow-x:auto;line-height:normal;font-family:Menlo,'DejaVu Sans Mono',consolas,'Courier New',monospace\"><span style=\"font-weight: bold\">&lt;</span><span style=\"color: #ff00ff; text-decoration-color: #ff00ff; font-weight: bold\">style</span><span style=\"color: #000000; text-decoration-color: #000000\">&gt;details ul </span><span style=\"color: #000000; text-decoration-color: #000000; font-weight: bold\">{</span><span style=\"color: #000000; text-decoration-color: #000000\"> list-style-type:none; list-style-position: outside; padding-inline-start: 22px; margin: </span><span style=\"color: #008080; text-decoration-color: #008080; font-weight: bold\">0</span><span style=\"color: #000000; text-decoration-color: #000000\">; </span><span style=\"color: #000000; text-decoration-color: #000000; font-weight: bold\">}</span><span style=\"color: #000000; text-decoration-color: #000000\"> details</span>\n",
       "<span style=\"color: #000000; text-decoration-color: #000000\">.string </span><span style=\"color: #000000; text-decoration-color: #000000; font-weight: bold\">{</span><span style=\"color: #000000; text-decoration-color: #000000\"> color: #24837b; </span><span style=\"color: #000000; text-decoration-color: #000000; font-weight: bold\">}</span><span style=\"color: #000000; text-decoration-color: #000000\"> details .string::before </span><span style=\"color: #000000; text-decoration-color: #000000; font-weight: bold\">{</span><span style=\"color: #000000; text-decoration-color: #000000\"> content: </span><span style=\"color: #008000; text-decoration-color: #008000\">\"'\"</span><span style=\"color: #000000; text-decoration-color: #000000\">; </span><span style=\"color: #000000; text-decoration-color: #000000; font-weight: bold\">}</span><span style=\"color: #000000; text-decoration-color: #000000\"> details .string::after </span><span style=\"color: #000000; text-decoration-color: #000000; font-weight: bold\">{</span><span style=\"color: #000000; text-decoration-color: #000000\"> content: </span><span style=\"color: #008000; text-decoration-color: #008000\">\"'\"</span><span style=\"color: #000000; text-decoration-color: #000000\">; </span><span style=\"color: #000000; text-decoration-color: #000000; font-weight: bold\">}</span><span style=\"color: #000000; text-decoration-color: #000000\"> details </span>\n",
       "<span style=\"color: #000000; text-decoration-color: #000000\">.number </span><span style=\"color: #000000; text-decoration-color: #000000; font-weight: bold\">{</span><span style=\"color: #000000; text-decoration-color: #000000\"> color: #ad8301; </span><span style=\"color: #000000; text-decoration-color: #000000; font-weight: bold\">}</span><span style=\"color: #000000; text-decoration-color: #000000\"> details .true </span><span style=\"color: #000000; text-decoration-color: #000000; font-weight: bold\">{</span><span style=\"color: #000000; text-decoration-color: #000000\"> color: blue; </span><span style=\"color: #000000; text-decoration-color: #000000; font-weight: bold\">}</span><span style=\"color: #000000; text-decoration-color: #000000\"> details .false </span><span style=\"color: #000000; text-decoration-color: #000000; font-weight: bold\">{</span><span style=\"color: #000000; text-decoration-color: #000000\"> color: red; </span><span style=\"color: #000000; text-decoration-color: #000000; font-weight: bold\">}</span><span style=\"color: #000000; text-decoration-color: #000000\"> details .null </span><span style=\"color: #000000; text-decoration-color: #000000; font-weight: bold\">{</span><span style=\"color: #000000; text-decoration-color: #000000\"> color: gray; </span><span style=\"color: #000000; text-decoration-color: #000000; font-weight: bold\">}</span>\n",
       "<span style=\"color: #000000; text-decoration-color: #000000\">span.n </span><span style=\"color: #000000; text-decoration-color: #000000; font-weight: bold\">{</span><span style=\"color: #000000; text-decoration-color: #000000\"> color: darkgrey; </span><span style=\"color: #000000; text-decoration-color: #000000; font-weight: bold\">}</span><span style=\"color: #000000; text-decoration-color: #000000\"> &lt;</span><span style=\"color: #800080; text-decoration-color: #800080\">/</span><span style=\"color: #ff00ff; text-decoration-color: #ff00ff\">style</span><span style=\"color: #000000; text-decoration-color: #000000\">&gt;</span>\n",
       "<span style=\"color: #000000; text-decoration-color: #000000\">&lt;details open&gt;&lt;summary&gt;Apollo astronauts</span>\n",
       "<span style=\"color: #000000; text-decoration-color: #000000\">&lt;</span><span style=\"color: #800080; text-decoration-color: #800080\">/</span><span style=\"color: #ff00ff; text-decoration-color: #ff00ff\">summary</span><span style=\"color: #000000; text-decoration-color: #000000\">&gt;  &lt;ul&gt;</span>\n",
       "<span style=\"color: #000000; text-decoration-color: #000000\">    &lt;li&gt;</span>\n",
       "<span style=\"color: #000000; text-decoration-color: #000000\">&lt;span&gt;&lt;span </span><span style=\"color: #808000; text-decoration-color: #808000\">class</span><span style=\"color: #000000; text-decoration-color: #000000\">=</span><span style=\"color: #008000; text-decoration-color: #008000\">\"n\"</span><span style=\"color: #000000; text-decoration-color: #000000\">&gt;</span><span style=\"color: #008080; text-decoration-color: #008080; font-weight: bold\">1</span><span style=\"color: #000000; text-decoration-color: #000000\">&lt;</span><span style=\"color: #800080; text-decoration-color: #800080\">/</span><span style=\"color: #ff00ff; text-decoration-color: #ff00ff\">span</span><span style=\"color: #000000; text-decoration-color: #000000\">&gt;: &lt;span </span><span style=\"color: #808000; text-decoration-color: #808000\">class</span><span style=\"color: #000000; text-decoration-color: #000000\">=</span><span style=\"color: #008000; text-decoration-color: #008000\">\"v string\"</span><span style=\"color: #000000; text-decoration-color: #000000\">&gt;Neil Armstrong&lt;</span><span style=\"color: #800080; text-decoration-color: #800080\">/</span><span style=\"color: #ff00ff; text-decoration-color: #ff00ff\">span</span><span style=\"color: #000000; text-decoration-color: #000000\">&gt;&lt;</span><span style=\"color: #800080; text-decoration-color: #800080\">/</span><span style=\"color: #ff00ff; text-decoration-color: #ff00ff\">span</span><span style=\"color: #000000; text-decoration-color: #000000\">&gt;    &lt;</span><span style=\"color: #800080; text-decoration-color: #800080\">/</span><span style=\"color: #ff00ff; text-decoration-color: #ff00ff\">li</span><span style=\"color: #000000; text-decoration-color: #000000\">&gt;</span>\n",
       "<span style=\"color: #000000; text-decoration-color: #000000\">    &lt;li&gt;</span>\n",
       "<span style=\"color: #000000; text-decoration-color: #000000\">&lt;span&gt;&lt;span </span><span style=\"color: #808000; text-decoration-color: #808000\">class</span><span style=\"color: #000000; text-decoration-color: #000000\">=</span><span style=\"color: #008000; text-decoration-color: #008000\">\"n\"</span><span style=\"color: #000000; text-decoration-color: #000000\">&gt;</span><span style=\"color: #008080; text-decoration-color: #008080; font-weight: bold\">2</span><span style=\"color: #000000; text-decoration-color: #000000\">&lt;</span><span style=\"color: #800080; text-decoration-color: #800080\">/</span><span style=\"color: #ff00ff; text-decoration-color: #ff00ff\">span</span><span style=\"color: #000000; text-decoration-color: #000000\">&gt;: &lt;span </span><span style=\"color: #808000; text-decoration-color: #808000\">class</span><span style=\"color: #000000; text-decoration-color: #000000\">=</span><span style=\"color: #008000; text-decoration-color: #008000\">\"v string\"</span><span style=\"color: #000000; text-decoration-color: #000000\">&gt;Alan Bean&lt;</span><span style=\"color: #800080; text-decoration-color: #800080\">/</span><span style=\"color: #ff00ff; text-decoration-color: #ff00ff\">span</span><span style=\"color: #000000; text-decoration-color: #000000\">&gt;&lt;</span><span style=\"color: #800080; text-decoration-color: #800080\">/</span><span style=\"color: #ff00ff; text-decoration-color: #ff00ff\">span</span><span style=\"color: #000000; text-decoration-color: #000000\">&gt;    &lt;</span><span style=\"color: #800080; text-decoration-color: #800080\">/</span><span style=\"color: #ff00ff; text-decoration-color: #ff00ff\">li</span><span style=\"color: #000000; text-decoration-color: #000000\">&gt;</span>\n",
       "<span style=\"color: #000000; text-decoration-color: #000000\">    &lt;li&gt;</span>\n",
       "<span style=\"color: #000000; text-decoration-color: #000000\">&lt;span&gt;&lt;span </span><span style=\"color: #808000; text-decoration-color: #808000\">class</span><span style=\"color: #000000; text-decoration-color: #000000\">=</span><span style=\"color: #008000; text-decoration-color: #008000\">\"n\"</span><span style=\"color: #000000; text-decoration-color: #000000\">&gt;</span><span style=\"color: #008080; text-decoration-color: #008080; font-weight: bold\">3</span><span style=\"color: #000000; text-decoration-color: #000000\">&lt;</span><span style=\"color: #800080; text-decoration-color: #800080\">/</span><span style=\"color: #ff00ff; text-decoration-color: #ff00ff\">span</span><span style=\"color: #000000; text-decoration-color: #000000\">&gt;: &lt;span </span><span style=\"color: #808000; text-decoration-color: #808000\">class</span><span style=\"color: #000000; text-decoration-color: #000000\">=</span><span style=\"color: #008000; text-decoration-color: #008000\">\"v string\"</span><span style=\"color: #000000; text-decoration-color: #000000\">&gt;Buzz Aldrin&lt;</span><span style=\"color: #800080; text-decoration-color: #800080\">/</span><span style=\"color: #ff00ff; text-decoration-color: #ff00ff\">span</span><span style=\"color: #000000; text-decoration-color: #000000\">&gt;&lt;</span><span style=\"color: #800080; text-decoration-color: #800080\">/</span><span style=\"color: #ff00ff; text-decoration-color: #ff00ff\">span</span><span style=\"color: #000000; text-decoration-color: #000000\">&gt;    &lt;</span><span style=\"color: #800080; text-decoration-color: #800080\">/</span><span style=\"color: #ff00ff; text-decoration-color: #ff00ff\">li</span><span style=\"color: #000000; text-decoration-color: #000000\">&gt;</span>\n",
       "<span style=\"color: #000000; text-decoration-color: #000000\">&lt;details&gt;&lt;summary&gt;letters</span>\n",
       "<span style=\"color: #000000; text-decoration-color: #000000\">&lt;</span><span style=\"color: #800080; text-decoration-color: #800080\">/</span><span style=\"color: #ff00ff; text-decoration-color: #ff00ff\">summary</span><span style=\"color: #000000; text-decoration-color: #000000\">&gt;      &lt;ul&gt;</span>\n",
       "<span style=\"color: #000000; text-decoration-color: #000000\">        &lt;li&gt;</span>\n",
       "<span style=\"color: #000000; text-decoration-color: #000000\">&lt;span&gt;&lt;span </span><span style=\"color: #808000; text-decoration-color: #808000\">class</span><span style=\"color: #000000; text-decoration-color: #000000\">=</span><span style=\"color: #008000; text-decoration-color: #008000\">\"n\"</span><span style=\"color: #000000; text-decoration-color: #000000\">&gt;a&lt;</span><span style=\"color: #800080; text-decoration-color: #800080\">/</span><span style=\"color: #ff00ff; text-decoration-color: #ff00ff\">span</span><span style=\"color: #000000; text-decoration-color: #000000\">&gt;: &lt;span </span><span style=\"color: #808000; text-decoration-color: #808000\">class</span><span style=\"color: #000000; text-decoration-color: #000000\">=</span><span style=\"color: #008000; text-decoration-color: #008000\">\"v number\"</span><span style=\"color: #000000; text-decoration-color: #000000\">&gt;</span><span style=\"color: #008080; text-decoration-color: #008080; font-weight: bold\">1</span><span style=\"color: #000000; text-decoration-color: #000000\">&lt;</span><span style=\"color: #800080; text-decoration-color: #800080\">/</span><span style=\"color: #ff00ff; text-decoration-color: #ff00ff\">span</span><span style=\"color: #000000; text-decoration-color: #000000\">&gt;&lt;</span><span style=\"color: #800080; text-decoration-color: #800080\">/</span><span style=\"color: #ff00ff; text-decoration-color: #ff00ff\">span</span><span style=\"color: #000000; text-decoration-color: #000000\">&gt;        &lt;</span><span style=\"color: #800080; text-decoration-color: #800080\">/</span><span style=\"color: #ff00ff; text-decoration-color: #ff00ff\">li</span><span style=\"color: #000000; text-decoration-color: #000000\">&gt;</span>\n",
       "<span style=\"color: #000000; text-decoration-color: #000000\">        &lt;li&gt;</span>\n",
       "<span style=\"color: #000000; text-decoration-color: #000000\">&lt;span&gt;&lt;span </span><span style=\"color: #808000; text-decoration-color: #808000\">class</span><span style=\"color: #000000; text-decoration-color: #000000\">=</span><span style=\"color: #008000; text-decoration-color: #008000\">\"n\"</span><span style=\"color: #000000; text-decoration-color: #000000\">&gt;b&lt;</span><span style=\"color: #800080; text-decoration-color: #800080\">/</span><span style=\"color: #ff00ff; text-decoration-color: #ff00ff\">span</span><span style=\"color: #000000; text-decoration-color: #000000\">&gt;: &lt;span </span><span style=\"color: #808000; text-decoration-color: #808000\">class</span><span style=\"color: #000000; text-decoration-color: #000000\">=</span><span style=\"color: #008000; text-decoration-color: #008000\">\"v number\"</span><span style=\"color: #000000; text-decoration-color: #000000\">&gt;</span><span style=\"color: #008080; text-decoration-color: #008080; font-weight: bold\">2</span><span style=\"color: #000000; text-decoration-color: #000000\">&lt;</span><span style=\"color: #800080; text-decoration-color: #800080\">/</span><span style=\"color: #ff00ff; text-decoration-color: #ff00ff\">span</span><span style=\"color: #000000; text-decoration-color: #000000\">&gt;&lt;</span><span style=\"color: #800080; text-decoration-color: #800080\">/</span><span style=\"color: #ff00ff; text-decoration-color: #ff00ff\">span</span><span style=\"color: #000000; text-decoration-color: #000000\">&gt;        &lt;</span><span style=\"color: #800080; text-decoration-color: #800080\">/</span><span style=\"color: #ff00ff; text-decoration-color: #ff00ff\">li</span><span style=\"color: #000000; text-decoration-color: #000000\">&gt;</span>\n",
       "<span style=\"color: #000000; text-decoration-color: #000000\">      &lt;</span><span style=\"color: #800080; text-decoration-color: #800080\">/</span><span style=\"color: #ff00ff; text-decoration-color: #ff00ff\">ul</span><span style=\"color: #000000; text-decoration-color: #000000\">&gt;</span>\n",
       "<span style=\"color: #000000; text-decoration-color: #000000\">&lt;</span><span style=\"color: #800080; text-decoration-color: #800080\">/</span><span style=\"color: #ff00ff; text-decoration-color: #ff00ff\">details</span><span style=\"color: #000000; text-decoration-color: #000000\">&gt;    &lt;li&gt;</span>\n",
       "<span style=\"color: #000000; text-decoration-color: #000000\">&lt;span&gt;&lt;span </span><span style=\"color: #808000; text-decoration-color: #808000\">class</span><span style=\"color: #000000; text-decoration-color: #000000\">=</span><span style=\"color: #008000; text-decoration-color: #008000\">\"n\"</span><span style=\"color: #000000; text-decoration-color: #000000\">&gt;</span><span style=\"color: #008080; text-decoration-color: #008080; font-weight: bold\">5</span><span style=\"color: #000000; text-decoration-color: #000000\">&lt;</span><span style=\"color: #800080; text-decoration-color: #800080\">/</span><span style=\"color: #ff00ff; text-decoration-color: #ff00ff\">span</span><span style=\"color: #000000; text-decoration-color: #000000\">&gt;: &lt;span </span><span style=\"color: #808000; text-decoration-color: #808000\">class</span><span style=\"color: #000000; text-decoration-color: #000000\">=</span><span style=\"color: #008000; text-decoration-color: #008000\">\"v string\"</span><span style=\"color: #000000; text-decoration-color: #000000\">&gt;Edgar Mitchell&lt;</span><span style=\"color: #800080; text-decoration-color: #800080\">/</span><span style=\"color: #ff00ff; text-decoration-color: #ff00ff\">span</span><span style=\"color: #000000; text-decoration-color: #000000\">&gt;&lt;</span><span style=\"color: #800080; text-decoration-color: #800080\">/</span><span style=\"color: #ff00ff; text-decoration-color: #ff00ff\">span</span><span style=\"color: #000000; text-decoration-color: #000000\">&gt;    &lt;</span><span style=\"color: #800080; text-decoration-color: #800080\">/</span><span style=\"color: #ff00ff; text-decoration-color: #ff00ff\">li</span><span style=\"color: #000000; text-decoration-color: #000000\">&gt;</span>\n",
       "<span style=\"color: #000000; text-decoration-color: #000000\">    &lt;li&gt;</span>\n",
       "<span style=\"color: #000000; text-decoration-color: #000000\">&lt;span&gt;&lt;span </span><span style=\"color: #808000; text-decoration-color: #808000\">class</span><span style=\"color: #000000; text-decoration-color: #000000\">=</span><span style=\"color: #008000; text-decoration-color: #008000\">\"n\"</span><span style=\"color: #000000; text-decoration-color: #000000\">&gt;</span><span style=\"color: #008080; text-decoration-color: #008080; font-weight: bold\">6</span><span style=\"color: #000000; text-decoration-color: #000000\">&lt;</span><span style=\"color: #800080; text-decoration-color: #800080\">/</span><span style=\"color: #ff00ff; text-decoration-color: #ff00ff\">span</span><span style=\"color: #000000; text-decoration-color: #000000\">&gt;: &lt;span </span><span style=\"color: #808000; text-decoration-color: #808000\">class</span><span style=\"color: #000000; text-decoration-color: #000000\">=</span><span style=\"color: #008000; text-decoration-color: #008000\">\"v string\"</span><span style=\"color: #000000; text-decoration-color: #000000\">&gt;Alan Shepard&lt;</span><span style=\"color: #800080; text-decoration-color: #800080\">/</span><span style=\"color: #ff00ff; text-decoration-color: #ff00ff\">span</span><span style=\"color: #000000; text-decoration-color: #000000\">&gt;&lt;</span><span style=\"color: #800080; text-decoration-color: #800080\">/</span><span style=\"color: #ff00ff; text-decoration-color: #ff00ff\">span</span><span style=\"color: #000000; text-decoration-color: #000000\">&gt;    &lt;</span><span style=\"color: #800080; text-decoration-color: #800080\">/</span><span style=\"color: #ff00ff; text-decoration-color: #ff00ff\">li</span><span style=\"color: #000000; text-decoration-color: #000000\">&gt;</span>\n",
       "<span style=\"color: #000000; text-decoration-color: #000000\">  &lt;</span><span style=\"color: #800080; text-decoration-color: #800080\">/</span><span style=\"color: #ff00ff; text-decoration-color: #ff00ff\">ul</span><span style=\"color: #000000; text-decoration-color: #000000\">&gt;</span>\n",
       "<span style=\"color: #000000; text-decoration-color: #000000\">&lt;</span><span style=\"color: #800080; text-decoration-color: #800080\">/</span><span style=\"color: #ff00ff; text-decoration-color: #ff00ff\">details</span><span style=\"font-weight: bold\">&gt;</span>\n",
       "</pre>\n"
      ],
      "text/plain": [
       "\u001b[1m<\u001b[0m\u001b[1;95mstyle\u001b[0m\u001b[39m>details ul \u001b[0m\u001b[1;39m{\u001b[0m\u001b[39m list-style-type:none; list-style-position: outside; padding-inline-start: 22px; margin: \u001b[0m\u001b[1;36m0\u001b[0m\u001b[39m; \u001b[0m\u001b[1;39m}\u001b[0m\u001b[39m details\u001b[0m\n",
       "\u001b[39m.string \u001b[0m\u001b[1;39m{\u001b[0m\u001b[39m color: #24837b; \u001b[0m\u001b[1;39m}\u001b[0m\u001b[39m details .string::before \u001b[0m\u001b[1;39m{\u001b[0m\u001b[39m content: \u001b[0m\u001b[32m\"'\"\u001b[0m\u001b[39m; \u001b[0m\u001b[1;39m}\u001b[0m\u001b[39m details .string::after \u001b[0m\u001b[1;39m{\u001b[0m\u001b[39m content: \u001b[0m\u001b[32m\"'\"\u001b[0m\u001b[39m; \u001b[0m\u001b[1;39m}\u001b[0m\u001b[39m details \u001b[0m\n",
       "\u001b[39m.number \u001b[0m\u001b[1;39m{\u001b[0m\u001b[39m color: #ad8301; \u001b[0m\u001b[1;39m}\u001b[0m\u001b[39m details .true \u001b[0m\u001b[1;39m{\u001b[0m\u001b[39m color: blue; \u001b[0m\u001b[1;39m}\u001b[0m\u001b[39m details .false \u001b[0m\u001b[1;39m{\u001b[0m\u001b[39m color: red; \u001b[0m\u001b[1;39m}\u001b[0m\u001b[39m details .null \u001b[0m\u001b[1;39m{\u001b[0m\u001b[39m color: gray; \u001b[0m\u001b[1;39m}\u001b[0m\n",
       "\u001b[39mspan.n \u001b[0m\u001b[1;39m{\u001b[0m\u001b[39m color: darkgrey; \u001b[0m\u001b[1;39m}\u001b[0m\u001b[39m <\u001b[0m\u001b[35m/\u001b[0m\u001b[95mstyle\u001b[0m\u001b[39m>\u001b[0m\n",
       "\u001b[39m<details open><summary>Apollo astronauts\u001b[0m\n",
       "\u001b[39m<\u001b[0m\u001b[35m/\u001b[0m\u001b[95msummary\u001b[0m\u001b[39m>  <ul>\u001b[0m\n",
       "\u001b[39m    <li>\u001b[0m\n",
       "\u001b[39m<span><span \u001b[0m\u001b[33mclass\u001b[0m\u001b[39m=\u001b[0m\u001b[32m\"n\"\u001b[0m\u001b[39m>\u001b[0m\u001b[1;36m1\u001b[0m\u001b[39m<\u001b[0m\u001b[35m/\u001b[0m\u001b[95mspan\u001b[0m\u001b[39m>: <span \u001b[0m\u001b[33mclass\u001b[0m\u001b[39m=\u001b[0m\u001b[32m\"v\u001b[0m\u001b[32m string\"\u001b[0m\u001b[39m>Neil Armstrong<\u001b[0m\u001b[35m/\u001b[0m\u001b[95mspan\u001b[0m\u001b[39m><\u001b[0m\u001b[35m/\u001b[0m\u001b[95mspan\u001b[0m\u001b[39m>    <\u001b[0m\u001b[35m/\u001b[0m\u001b[95mli\u001b[0m\u001b[39m>\u001b[0m\n",
       "\u001b[39m    <li>\u001b[0m\n",
       "\u001b[39m<span><span \u001b[0m\u001b[33mclass\u001b[0m\u001b[39m=\u001b[0m\u001b[32m\"n\"\u001b[0m\u001b[39m>\u001b[0m\u001b[1;36m2\u001b[0m\u001b[39m<\u001b[0m\u001b[35m/\u001b[0m\u001b[95mspan\u001b[0m\u001b[39m>: <span \u001b[0m\u001b[33mclass\u001b[0m\u001b[39m=\u001b[0m\u001b[32m\"v\u001b[0m\u001b[32m string\"\u001b[0m\u001b[39m>Alan Bean<\u001b[0m\u001b[35m/\u001b[0m\u001b[95mspan\u001b[0m\u001b[39m><\u001b[0m\u001b[35m/\u001b[0m\u001b[95mspan\u001b[0m\u001b[39m>    <\u001b[0m\u001b[35m/\u001b[0m\u001b[95mli\u001b[0m\u001b[39m>\u001b[0m\n",
       "\u001b[39m    <li>\u001b[0m\n",
       "\u001b[39m<span><span \u001b[0m\u001b[33mclass\u001b[0m\u001b[39m=\u001b[0m\u001b[32m\"n\"\u001b[0m\u001b[39m>\u001b[0m\u001b[1;36m3\u001b[0m\u001b[39m<\u001b[0m\u001b[35m/\u001b[0m\u001b[95mspan\u001b[0m\u001b[39m>: <span \u001b[0m\u001b[33mclass\u001b[0m\u001b[39m=\u001b[0m\u001b[32m\"v\u001b[0m\u001b[32m string\"\u001b[0m\u001b[39m>Buzz Aldrin<\u001b[0m\u001b[35m/\u001b[0m\u001b[95mspan\u001b[0m\u001b[39m><\u001b[0m\u001b[35m/\u001b[0m\u001b[95mspan\u001b[0m\u001b[39m>    <\u001b[0m\u001b[35m/\u001b[0m\u001b[95mli\u001b[0m\u001b[39m>\u001b[0m\n",
       "\u001b[39m<details><summary>letters\u001b[0m\n",
       "\u001b[39m<\u001b[0m\u001b[35m/\u001b[0m\u001b[95msummary\u001b[0m\u001b[39m>      <ul>\u001b[0m\n",
       "\u001b[39m        <li>\u001b[0m\n",
       "\u001b[39m<span><span \u001b[0m\u001b[33mclass\u001b[0m\u001b[39m=\u001b[0m\u001b[32m\"n\"\u001b[0m\u001b[39m>a<\u001b[0m\u001b[35m/\u001b[0m\u001b[95mspan\u001b[0m\u001b[39m>: <span \u001b[0m\u001b[33mclass\u001b[0m\u001b[39m=\u001b[0m\u001b[32m\"v\u001b[0m\u001b[32m number\"\u001b[0m\u001b[39m>\u001b[0m\u001b[1;36m1\u001b[0m\u001b[39m<\u001b[0m\u001b[35m/\u001b[0m\u001b[95mspan\u001b[0m\u001b[39m><\u001b[0m\u001b[35m/\u001b[0m\u001b[95mspan\u001b[0m\u001b[39m>        <\u001b[0m\u001b[35m/\u001b[0m\u001b[95mli\u001b[0m\u001b[39m>\u001b[0m\n",
       "\u001b[39m        <li>\u001b[0m\n",
       "\u001b[39m<span><span \u001b[0m\u001b[33mclass\u001b[0m\u001b[39m=\u001b[0m\u001b[32m\"n\"\u001b[0m\u001b[39m>b<\u001b[0m\u001b[35m/\u001b[0m\u001b[95mspan\u001b[0m\u001b[39m>: <span \u001b[0m\u001b[33mclass\u001b[0m\u001b[39m=\u001b[0m\u001b[32m\"v\u001b[0m\u001b[32m number\"\u001b[0m\u001b[39m>\u001b[0m\u001b[1;36m2\u001b[0m\u001b[39m<\u001b[0m\u001b[35m/\u001b[0m\u001b[95mspan\u001b[0m\u001b[39m><\u001b[0m\u001b[35m/\u001b[0m\u001b[95mspan\u001b[0m\u001b[39m>        <\u001b[0m\u001b[35m/\u001b[0m\u001b[95mli\u001b[0m\u001b[39m>\u001b[0m\n",
       "\u001b[39m      <\u001b[0m\u001b[35m/\u001b[0m\u001b[95mul\u001b[0m\u001b[39m>\u001b[0m\n",
       "\u001b[39m<\u001b[0m\u001b[35m/\u001b[0m\u001b[95mdetails\u001b[0m\u001b[39m>    <li>\u001b[0m\n",
       "\u001b[39m<span><span \u001b[0m\u001b[33mclass\u001b[0m\u001b[39m=\u001b[0m\u001b[32m\"n\"\u001b[0m\u001b[39m>\u001b[0m\u001b[1;36m5\u001b[0m\u001b[39m<\u001b[0m\u001b[35m/\u001b[0m\u001b[95mspan\u001b[0m\u001b[39m>: <span \u001b[0m\u001b[33mclass\u001b[0m\u001b[39m=\u001b[0m\u001b[32m\"v\u001b[0m\u001b[32m string\"\u001b[0m\u001b[39m>Edgar Mitchell<\u001b[0m\u001b[35m/\u001b[0m\u001b[95mspan\u001b[0m\u001b[39m><\u001b[0m\u001b[35m/\u001b[0m\u001b[95mspan\u001b[0m\u001b[39m>    <\u001b[0m\u001b[35m/\u001b[0m\u001b[95mli\u001b[0m\u001b[39m>\u001b[0m\n",
       "\u001b[39m    <li>\u001b[0m\n",
       "\u001b[39m<span><span \u001b[0m\u001b[33mclass\u001b[0m\u001b[39m=\u001b[0m\u001b[32m\"n\"\u001b[0m\u001b[39m>\u001b[0m\u001b[1;36m6\u001b[0m\u001b[39m<\u001b[0m\u001b[35m/\u001b[0m\u001b[95mspan\u001b[0m\u001b[39m>: <span \u001b[0m\u001b[33mclass\u001b[0m\u001b[39m=\u001b[0m\u001b[32m\"v\u001b[0m\u001b[32m string\"\u001b[0m\u001b[39m>Alan Shepard<\u001b[0m\u001b[35m/\u001b[0m\u001b[95mspan\u001b[0m\u001b[39m><\u001b[0m\u001b[35m/\u001b[0m\u001b[95mspan\u001b[0m\u001b[39m>    <\u001b[0m\u001b[35m/\u001b[0m\u001b[95mli\u001b[0m\u001b[39m>\u001b[0m\n",
       "\u001b[39m  <\u001b[0m\u001b[35m/\u001b[0m\u001b[95mul\u001b[0m\u001b[39m>\u001b[0m\n",
       "\u001b[39m<\u001b[0m\u001b[35m/\u001b[0m\u001b[95mdetails\u001b[0m\u001b[1m>\u001b[0m\n"
      ]
     },
     "metadata": {},
     "output_type": "display_data"
    },
    {
     "data": {
      "text/html": [
       "<style>details ul { list-style-type:none; list-style-position: outside; padding-inline-start: 22px; margin: 0; } details .string { color: #24837b; } details .string::before { content: \"'\"; } details .string::after { content: \"'\"; } details .number { color: #ad8301; } details .true { color: blue; } details .false { color: red; } details .null { color: gray; } span.n { color: darkgrey; } </style>\n",
       "<details open><summary>Apollo astronauts\n",
       "</summary>  <ul>\n",
       "    <li>\n",
       "<span><span class=\"n\">1</span>: <span class=\"v string\">Neil Armstrong</span></span>    </li>\n",
       "    <li>\n",
       "<span><span class=\"n\">2</span>: <span class=\"v string\">Alan Bean</span></span>    </li>\n",
       "    <li>\n",
       "<span><span class=\"n\">3</span>: <span class=\"v string\">Buzz Aldrin</span></span>    </li>\n",
       "<details><summary>letters\n",
       "</summary>      <ul>\n",
       "        <li>\n",
       "<span><span class=\"n\">a</span>: <span class=\"v number\">1</span></span>        </li>\n",
       "        <li>\n",
       "<span><span class=\"n\">b</span>: <span class=\"v number\">2</span></span>        </li>\n",
       "      </ul>\n",
       "</details>    <li>\n",
       "<span><span class=\"n\">5</span>: <span class=\"v string\">Edgar Mitchell</span></span>    </li>\n",
       "    <li>\n",
       "<span><span class=\"n\">6</span>: <span class=\"v string\">Alan Shepard</span></span>    </li>\n",
       "  </ul>\n",
       "</details>"
      ],
      "text/plain": [
       "<IPython.core.display.HTML object>"
      ]
     },
     "metadata": {},
     "output_type": "display_data"
    }
   ],
   "source": [
    "def Val(v): \n",
    "    c = (\n",
    "        'null' if v is None else \n",
    "        'true' if v is True else \n",
    "        'false' if v is False else \n",
    "        'string' if isinstance(v, str) else \n",
    "        'number' if isinstance(v, (int, float)) else \n",
    "        '')\n",
    "    return Span(shorten(v, 'r', 140) if v is not None else 'None', cls=f\"v {c}\")\n",
    "def NameVal(k, v): return Span(Span(k, cls='n'), ': ', Val(v))\n",
    "\n",
    "\n",
    "class DetailsJSON(dict):\n",
    "    def __init__(self, *args, summary:str='', open:bool=True, openall:bool=False, skip:Sequence[str]=(), **kwargs):\n",
    "        super().__init__(*args, **kwargs)\n",
    "        self.summary, self.open, self.openall, self.skip = str(summary), open, openall, skip\n",
    "    def __ft__(self, d:Mapping|None=None, summary:str|None=None, lvl:int=0, open:bool=False):\n",
    "        if d is None: d = self; summary = self.summary or 'summary'; open=self.open\n",
    "        open = self.openall or open\n",
    "        return (\n",
    "            Style(self._css_) if lvl == 0 else (), \n",
    "            Details(open=open)(\n",
    "                Summary(summary, _n),\n",
    "                Ul()(*(\n",
    "                    Li(NameVal(k, v)) if k in self.skip else\n",
    "                    self.__ft__(v, k, lvl+1) if isinstance(v, Mapping) else\n",
    "                    self.__ft__(dict(list(zip(range(len(v)), v))), k, lvl+1) if is_listy(v) else\n",
    "                    Li(NameVal(k, v)) \n",
    "                    for k,v in d.items()))))\n",
    "    _css_ = (\n",
    "        'details ul { list-style-type:none; list-style-position: outside; padding-inline-start: 22px; margin: 0; } '\n",
    "        '''details .string { color: #24837b; } details .string::before { content: \"'\"; } details .string::after { content: \"'\"; } '''\n",
    "        'details .number { color: #ad8301; } '\n",
    "        'details .true { color: blue; } '\n",
    "        'details .false { color: red; } '\n",
    "        'details .null { color: gray; } '\n",
    "        'span.n { color: darkgrey; } '\n",
    "    )\n",
    "\n",
    "\n",
    "# class DetailsJSON(dict):\n",
    "#     def __init__(self, *args, summary:str='', open:bool=False, lvl:int=0, **kwargs):\n",
    "#         super().__init__(*args, **kwargs)\n",
    "#         self.summary, self.open, self.lvl = summary, open, lvl\n",
    "#     def __ft__(self):\n",
    "#         return (\n",
    "#             Style(self._css_) if self.lvl == 0 else (), \n",
    "#             Details(open=self.open)(\n",
    "#                 Summary(self.summary or 'summary', _n),\n",
    "#                 Ul()(*(\n",
    "#                     Li(NameVal(k, v)) if not isinstance(v, Mapping) else \n",
    "#                     DetailsJSON(v, summary=k, lvl=self.lvl+1) \n",
    "#                     for k,v in self.items()))))\n",
    "#     _css_ = 'me ul { list-style-type:none; list-style-position: outside; padding-inline-start: 22px; margin: 0; } '\n",
    "\n",
    "\n",
    "dtl = DetailsJSON({\n",
    "    '1': 'Neil Armstrong',\n",
    "    '2': 'Alan Bean',\n",
    "    '3': 'Buzz Aldrin',\n",
    "    'letters': {\n",
    "        'a': 1, \n",
    "        'b': 2\n",
    "        },\n",
    "    '5': 'Edgar Mitchell',\n",
    "    '6': 'Alan Shepard'\n",
    "}, summary='Apollo astronauts', open=True)\n",
    "\n",
    "test_eq(val_at(dtl, '5'), 'Edgar Mitchell')\n",
    "test_eq(val_at(dtl, 'letters.a'), 1)\n",
    "cprint(to_xml(dtl))\n",
    "show(dtl)"
   ]
  },
  {
   "cell_type": "code",
   "execution_count": null,
   "metadata": {},
   "outputs": [
    {
     "data": {
      "text/plain": [
       "[('1', 'Neil Armstrong'),\n",
       " ('2', 'Alan Bean'),\n",
       " ('3', 'Buzz Aldrin'),\n",
       " ('letters.a', 1),\n",
       " ('letters.b', 2),\n",
       " ('5', 'Edgar Mitchell'),\n",
       " ('6', 'Alan Shepard')]"
      ]
     },
     "execution_count": null,
     "metadata": {},
     "output_type": "execute_result"
    }
   ],
   "source": [
    "def walk(m:Mapping, p:str=''):\n",
    "    for k,v in m.items():\n",
    "        if isinstance(v, Mapping): yield from walk(v, f\"{p}.{k}\" if p else k)\n",
    "        else: yield f\"{p}.{k}\" if p else k,v \n",
    "\n",
    "list(walk(dtl))"
   ]
  },
  {
   "cell_type": "code",
   "execution_count": null,
   "metadata": {},
   "outputs": [
    {
     "data": {
      "text/plain": [
       "[('1', 'Neil Armstrong'),\n",
       " ('2', 'Alan Bean'),\n",
       " ('3', 'Buzz Aldrin'),\n",
       " ('letters.a', 1),\n",
       " ('letters.b', 2),\n",
       " ('5', 'Edgar Mitchell'),\n",
       " ('6', 'Alan Shepard')]"
      ]
     },
     "execution_count": null,
     "metadata": {},
     "output_type": "execute_result"
    }
   ],
   "source": [
    "def walk(mapping: Mapping, prefix: str=''):\n",
    "    stack = [(prefix, list(mapping.items()))]\n",
    "    while stack:\n",
    "        p, items = stack[-1]\n",
    "        if not items: stack.pop(); continue\n",
    "        k, v = items.pop(0)\n",
    "        if isinstance(v, Mapping): stack.append((f\"{p}.{k}\" if p else k, list(v.items())))\n",
    "        else: yield f\"{p}.{k}\" if p else k, v\n",
    "\n",
    "# Test\n",
    "list(walk(dtl))"
   ]
  },
  {
   "cell_type": "code",
   "execution_count": null,
   "metadata": {},
   "outputs": [],
   "source": [
    "def update(d, other:Mapping|None=None, **kwargs):\n",
    "    if isinstance(d, dict): d.update(other or {}, **kwargs)\n",
    "    else:\n",
    "        for k,v in {**(other or {}), **kwargs}.items(): \n",
    "            try: setattr(d, k, v)\n",
    "            except AttributeError: pass\n",
    "    return d"
   ]
  },
  {
   "cell_type": "code",
   "execution_count": null,
   "metadata": {},
   "outputs": [],
   "source": [
    "d = {'a': 1, 'b':2}\n",
    "test_eq(update(d, c=3), {'a': 1, 'b':2, 'c':3})\n",
    "test_eq(update(d, {'b': 22}), {'a': 1, 'b':22, 'c':3})"
   ]
  },
  {
   "cell_type": "markdown",
   "metadata": {},
   "source": [
    "# DetailsJSON"
   ]
  },
  {
   "cell_type": "code",
   "execution_count": null,
   "metadata": {},
   "outputs": [],
   "source": [
    "#| export\n",
    "\n",
    "def Val(v): \n",
    "    c = (\n",
    "        'null' if v is None else \n",
    "        'true' if v is True else \n",
    "        'false' if v is False else \n",
    "        'string' if isinstance(v, str) else \n",
    "        'number' if isinstance(v, (int, float)) else \n",
    "        '')\n",
    "    return Span(shorten(v, 'r', 140) if v is not None else 'None', cls=f\"v {c}\")\n",
    "def NameVal(k, v): return Span(Span(k, cls='n'), ': ', Val(v))\n",
    "\n",
    "\n",
    "# Ul()(*(\n",
    "#     Li(NameVal(k, v)) if k in self.skip else\n",
    "#     self.__ft__(v, k, lvl+1) if isinstance(v, Mapping) else\n",
    "#     self.__ft__(dict(list(zip(range(len(v)), v))), k, lvl+1) if is_listy(v) else\n",
    "#     Li(NameVal(k, v)) \n",
    "#     for k,v in d.items()))))\n",
    "\n",
    "class DetailsJSON(RouteProvider):\n",
    "\n",
    "    def __init__(self, o:Mapping[str, Any], summary:str='', open:bool|Literal['all']=True):\n",
    "        self.o, self.summary, self.open, self._mounted = o, summary or 'summary', open, False\n",
    "\n",
    "    def _ipython_display_(self):\n",
    "        brt = get_bridget()\n",
    "        if bridge_cfg.auto_mount and not self._mounted: brt.mount(self, show=False)\n",
    "        brt(self)\n",
    "\n",
    "    @ar('/{dp:path}', methods='get', name='get')\n",
    "    def __call__(self, dp:str='', all:bool=False): \n",
    "        try: d = val_at(self.o, dp, sep='/') if dp else self.o\n",
    "        except Exception: return None\n",
    "        return self.__ft__(dp, d, all)  # type: ignore\n",
    "    \n",
    "    def __ft__(self, dp:str|None=None, d:Mapping|None=None, openall:bool=False):\n",
    "        if not dp: dp, d, openall = '', self.o, self.open == 'all'\n",
    "        its = Ul()(*(\n",
    "            Li()(\n",
    "                NameVal(k, v) if not isinstance(v, Mapping) else \n",
    "                self.__ft__(f\"{dp}/{k}\", v, openall) if openall else\n",
    "                Details(hx_get=f\"{self.ar.to()}/\"+(f\"{dp}/\" if dp else '')+f\"{k}\")(_n,Summary(k),_n)\n",
    "            ) for k,v in (d or {}).items()))\n",
    "        return (\n",
    "            Details(open=True)(Summary(dp.split('/')[-1]), _n, its) if dp else \n",
    "            Details(open=self.open is not False, hx_swap='outerHTML')(_n, Style(self._css_), Summary(self.summary), _n, its))\n",
    "\n",
    "    _css_ = (\n",
    "        'me ul { list-style-type:none; list-style-position: outside; padding-inline-start: 22px; margin: 0; } '\n",
    "        '''me .string { color: #24837b; } me .string::before { content: \"'\"; } me .string::after { content: \"'\"; } '''\n",
    "        'me .number { color: #ad8301; } '\n",
    "        'me .true { color: blue; } '\n",
    "        'me .false { color: red; } '\n",
    "        'me .null { color: gray; } '\n",
    "        'me .n { color: darkgrey; } '\n",
    "    )\n"
   ]
  },
  {
   "cell_type": "code",
   "execution_count": null,
   "metadata": {},
   "outputs": [
    {
     "data": {
      "text/markdown": [
       "```html\n",
       "<details open hx-swap=\"outerHTML\">\n",
       "  <style>me ul { list-style-type:none; list-style-position: outside; padding-inline-start: 22px; margin: 0; } me .string { color: #24837b; } me .string::before { content: \"'\"; } me .string::after { content: \"'\"; } me .number { color: #ad8301; } me .true { color: blue; } me .false { color: red; } me .null { color: gray; } me .n { color: darkgrey; } </style>\n",
       "<summary>Apollo astronauts</summary>\n",
       "  <ul>\n",
       "    <li>\n",
       "<span><span class=\"n\">1</span>: <span class=\"v string\">Neil Armstrong</span></span>    </li>\n",
       "    <li>\n",
       "<span><span class=\"n\">2</span>: <span class=\"v string\">Alan Bean</span></span>    </li>\n",
       "    <li>\n",
       "<span><span class=\"n\">3</span>: <span class=\"v string\">Buzz Aldrin</span></span>    </li>\n",
       "    <li>\n",
       "<details hx-get=\"/DetailsJSON/details/letters\">\n",
       "<summary>letters</summary>\n",
       "</details>    </li>\n",
       "    <li>\n",
       "<span><span class=\"n\">5</span>: <span class=\"v string\">Edgar Mitchell</span></span>    </li>\n",
       "    <li>\n",
       "<span><span class=\"n\">6</span>: <span class=\"v string\">Alan Shepard</span></span>    </li>\n",
       "  </ul>\n",
       "</details>\n",
       "```"
      ],
      "text/plain": [
       "details(('\\n', style(('me ul { list-style-type:none; list-style-position: outside; padding-inline-start: 22px; margin: 0; } me .string { color: #24837b; } me .string::before { content: \"\\'\"; } me .string::after { content: \"\\'\"; } me .number { color: #ad8301; } me .true { color: blue; } me .false { color: red; } me .null { color: gray; } me .n { color: darkgrey; } ',),{}), summary(('Apollo astronauts',),{}), '\\n', ul((li((span((span(('1',),{'class': 'n'}), ': ', span(('Neil Armstrong',),{'class': 'v string'})),{}),),{}), li((span((span(('2',),{'class': 'n'}), ': ', span(('Alan Bean',),{'class': 'v string'})),{}),),{}), li((span((span(('3',),{'class': 'n'}), ': ', span(('Buzz Aldrin',),{'class': 'v string'})),{}),),{}), li((details(('\\n', summary(('letters',),{}), '\\n'),{'hx-get': '/DetailsJSON/details/letters'}),),{}), li((span((span(('5',),{'class': 'n'}), ': ', span(('Edgar Mitchell',),{'class': 'v string'})),{}),),{}), li((span((span(('6',),{'class': 'n'}), ': ', span(('Alan Shepard',),{'class': 'v string'})),{}),),{})),{})),{'open': True, 'hx-swap': 'outerHTML'})"
      ]
     },
     "execution_count": null,
     "metadata": {},
     "output_type": "execute_result"
    }
   ],
   "source": [
    "brt.app.routes.clear()\n",
    "bridge_cfg.auto_show = False\n",
    "\n",
    "dtl = DetailsJSON({\n",
    "    '1': 'Neil Armstrong', '2': 'Alan Bean', '3': 'Buzz Aldrin',\n",
    "    'letters': { 'a': 1, 'b': True, 'c': {'d': None} },\n",
    "    '5': 'Edgar Mitchell', '6': 'Alan Shepard'\n",
    "}, summary='Apollo astronauts')\n",
    "\n",
    "brt.mount(dtl, '/details', 'details', show=False)\n",
    "\n",
    "test_eq(dtl.ar.name(), 'DetailsJSON:details')\n",
    "test_eq(app.url_path_for('DetailsJSON:details:get', dp=''), '/DetailsJSON/details/')\n",
    "test_eq(app.url_path_for('DetailsJSON:details:get', dp='letters'), '/DetailsJSON/details/letters')\n",
    "\n",
    "dtl()"
   ]
  },
  {
   "cell_type": "code",
   "execution_count": null,
   "metadata": {},
   "outputs": [
    {
     "data": {
      "text/markdown": [
       "```html\n",
       "<details open><summary>letters</summary>\n",
       "  <ul>\n",
       "    <li>\n",
       "<span><span class=\"n\">a</span>: <span class=\"v number\">1</span></span>    </li>\n",
       "    <li>\n",
       "<span><span class=\"n\">b</span>: <span class=\"v true\">True</span></span>    </li>\n",
       "    <li>\n",
       "<details hx-get=\"/DetailsJSON/details/letters/c\">\n",
       "<summary>c</summary>\n",
       "</details>    </li>\n",
       "  </ul>\n",
       "</details>\n",
       "```"
      ],
      "text/plain": [
       "details((summary(('letters',),{}), '\\n', ul((li((span((span(('a',),{'class': 'n'}), ': ', span(('1',),{'class': 'v number'})),{}),),{}), li((span((span(('b',),{'class': 'n'}), ': ', span(('True',),{'class': 'v true'})),{}),),{}), li((details(('\\n', summary(('c',),{}), '\\n'),{'hx-get': '/DetailsJSON/details/letters/c'}),),{})),{})),{'open': True})"
      ]
     },
     "execution_count": null,
     "metadata": {},
     "output_type": "execute_result"
    }
   ],
   "source": [
    "dtl('letters')"
   ]
  },
  {
   "cell_type": "code",
   "execution_count": null,
   "metadata": {},
   "outputs": [
    {
     "data": {
      "text/markdown": [
       "```html\n",
       "<details open><summary>c</summary>\n",
       "  <ul>\n",
       "    <li>\n",
       "<span><span class=\"n\">d</span>: <span class=\"v null\">None</span></span>    </li>\n",
       "  </ul>\n",
       "</details>\n",
       "```"
      ],
      "text/plain": [
       "details((summary(('c',),{}), '\\n', ul((li((span((span(('d',),{'class': 'n'}), ': ', span(('None',),{'class': 'v null'})),{}),),{}),),{})),{'open': True})"
      ]
     },
     "execution_count": null,
     "metadata": {},
     "output_type": "execute_result"
    }
   ],
   "source": [
    "dtl('letters/c')"
   ]
  },
  {
   "cell_type": "code",
   "execution_count": null,
   "metadata": {},
   "outputs": [
    {
     "data": {
      "text/html": [
       "<pre style=\"white-space:pre;overflow-x:auto;line-height:normal;font-family:Menlo,'DejaVu Sans Mono',consolas,'Courier New',monospace\"><span style=\"font-weight: bold\">&lt;</span><span style=\"color: #ff00ff; text-decoration-color: #ff00ff; font-weight: bold\">details</span><span style=\"color: #000000; text-decoration-color: #000000\"> open&gt;&lt;summary&gt;letters&lt;</span><span style=\"color: #800080; text-decoration-color: #800080\">/</span><span style=\"color: #ff00ff; text-decoration-color: #ff00ff\">summary</span><span style=\"color: #000000; text-decoration-color: #000000\">&gt;</span>\n",
       "<span style=\"color: #000000; text-decoration-color: #000000\">   &lt;ul&gt;</span>\n",
       "<span style=\"color: #000000; text-decoration-color: #000000\">     &lt;li&gt;</span>\n",
       "<span style=\"color: #000000; text-decoration-color: #000000\">&lt;span&gt;&lt;span </span><span style=\"color: #808000; text-decoration-color: #808000\">class</span><span style=\"color: #000000; text-decoration-color: #000000\">=</span><span style=\"color: #008000; text-decoration-color: #008000\">\"n\"</span><span style=\"color: #000000; text-decoration-color: #000000\">&gt;a&lt;</span><span style=\"color: #800080; text-decoration-color: #800080\">/</span><span style=\"color: #ff00ff; text-decoration-color: #ff00ff\">span</span><span style=\"color: #000000; text-decoration-color: #000000\">&gt;: &lt;span </span><span style=\"color: #808000; text-decoration-color: #808000\">class</span><span style=\"color: #000000; text-decoration-color: #000000\">=</span><span style=\"color: #008000; text-decoration-color: #008000\">\"v number\"</span><span style=\"color: #000000; text-decoration-color: #000000\">&gt;</span><span style=\"color: #008080; text-decoration-color: #008080; font-weight: bold\">1</span><span style=\"color: #000000; text-decoration-color: #000000\">&lt;</span><span style=\"color: #800080; text-decoration-color: #800080\">/</span><span style=\"color: #ff00ff; text-decoration-color: #ff00ff\">span</span><span style=\"color: #000000; text-decoration-color: #000000\">&gt;&lt;</span><span style=\"color: #800080; text-decoration-color: #800080\">/</span><span style=\"color: #ff00ff; text-decoration-color: #ff00ff\">span</span><span style=\"color: #000000; text-decoration-color: #000000\">&gt;     &lt;</span><span style=\"color: #800080; text-decoration-color: #800080\">/</span><span style=\"color: #ff00ff; text-decoration-color: #ff00ff\">li</span><span style=\"color: #000000; text-decoration-color: #000000\">&gt;</span>\n",
       "<span style=\"color: #000000; text-decoration-color: #000000\">     &lt;li&gt;</span>\n",
       "<span style=\"color: #000000; text-decoration-color: #000000\">&lt;span&gt;&lt;span </span><span style=\"color: #808000; text-decoration-color: #808000\">class</span><span style=\"color: #000000; text-decoration-color: #000000\">=</span><span style=\"color: #008000; text-decoration-color: #008000\">\"n\"</span><span style=\"color: #000000; text-decoration-color: #000000\">&gt;b&lt;</span><span style=\"color: #800080; text-decoration-color: #800080\">/</span><span style=\"color: #ff00ff; text-decoration-color: #ff00ff\">span</span><span style=\"color: #000000; text-decoration-color: #000000\">&gt;: &lt;span </span><span style=\"color: #808000; text-decoration-color: #808000\">class</span><span style=\"color: #000000; text-decoration-color: #000000\">=</span><span style=\"color: #008000; text-decoration-color: #008000\">\"v true\"</span><span style=\"color: #000000; text-decoration-color: #000000\">&gt;</span><span style=\"color: #00ff00; text-decoration-color: #00ff00; font-style: italic\">True</span><span style=\"color: #000000; text-decoration-color: #000000\">&lt;</span><span style=\"color: #800080; text-decoration-color: #800080\">/</span><span style=\"color: #ff00ff; text-decoration-color: #ff00ff\">span</span><span style=\"color: #000000; text-decoration-color: #000000\">&gt;&lt;</span><span style=\"color: #800080; text-decoration-color: #800080\">/</span><span style=\"color: #ff00ff; text-decoration-color: #ff00ff\">span</span><span style=\"color: #000000; text-decoration-color: #000000\">&gt;     &lt;</span><span style=\"color: #800080; text-decoration-color: #800080\">/</span><span style=\"color: #ff00ff; text-decoration-color: #ff00ff\">li</span><span style=\"color: #000000; text-decoration-color: #000000\">&gt;</span>\n",
       "<span style=\"color: #000000; text-decoration-color: #000000\">     &lt;li&gt;</span>\n",
       "<span style=\"color: #000000; text-decoration-color: #000000\">&lt;details hx-</span><span style=\"color: #808000; text-decoration-color: #808000\">get</span><span style=\"color: #000000; text-decoration-color: #000000\">=</span><span style=\"color: #008000; text-decoration-color: #008000\">\"/DetailsJSON/details/letters/c\"</span><span style=\"color: #000000; text-decoration-color: #000000\">&gt;</span>\n",
       "<span style=\"color: #000000; text-decoration-color: #000000\">&lt;summary&gt;c&lt;</span><span style=\"color: #800080; text-decoration-color: #800080\">/</span><span style=\"color: #ff00ff; text-decoration-color: #ff00ff\">summary</span><span style=\"color: #000000; text-decoration-color: #000000\">&gt;</span>\n",
       "<span style=\"color: #000000; text-decoration-color: #000000\">&lt;</span><span style=\"color: #800080; text-decoration-color: #800080\">/</span><span style=\"color: #ff00ff; text-decoration-color: #ff00ff\">details</span><span style=\"color: #000000; text-decoration-color: #000000\">&gt;     &lt;</span><span style=\"color: #800080; text-decoration-color: #800080\">/</span><span style=\"color: #ff00ff; text-decoration-color: #ff00ff\">li</span><span style=\"color: #000000; text-decoration-color: #000000\">&gt;</span>\n",
       "<span style=\"color: #000000; text-decoration-color: #000000\">   &lt;</span><span style=\"color: #800080; text-decoration-color: #800080\">/</span><span style=\"color: #ff00ff; text-decoration-color: #ff00ff\">ul</span><span style=\"color: #000000; text-decoration-color: #000000\">&gt;</span>\n",
       "<span style=\"color: #000000; text-decoration-color: #000000\">&lt;</span><span style=\"color: #800080; text-decoration-color: #800080\">/</span><span style=\"color: #ff00ff; text-decoration-color: #ff00ff\">details</span><span style=\"font-weight: bold\">&gt;</span>\n",
       "</pre>\n"
      ],
      "text/plain": [
       "\u001b[1m<\u001b[0m\u001b[1;95mdetails\u001b[0m\u001b[39m open><summary>letters<\u001b[0m\u001b[35m/\u001b[0m\u001b[95msummary\u001b[0m\u001b[39m>\u001b[0m\n",
       "\u001b[39m   <ul>\u001b[0m\n",
       "\u001b[39m     <li>\u001b[0m\n",
       "\u001b[39m<span><span \u001b[0m\u001b[33mclass\u001b[0m\u001b[39m=\u001b[0m\u001b[32m\"n\"\u001b[0m\u001b[39m>a<\u001b[0m\u001b[35m/\u001b[0m\u001b[95mspan\u001b[0m\u001b[39m>: <span \u001b[0m\u001b[33mclass\u001b[0m\u001b[39m=\u001b[0m\u001b[32m\"v\u001b[0m\u001b[32m number\"\u001b[0m\u001b[39m>\u001b[0m\u001b[1;36m1\u001b[0m\u001b[39m<\u001b[0m\u001b[35m/\u001b[0m\u001b[95mspan\u001b[0m\u001b[39m><\u001b[0m\u001b[35m/\u001b[0m\u001b[95mspan\u001b[0m\u001b[39m>     <\u001b[0m\u001b[35m/\u001b[0m\u001b[95mli\u001b[0m\u001b[39m>\u001b[0m\n",
       "\u001b[39m     <li>\u001b[0m\n",
       "\u001b[39m<span><span \u001b[0m\u001b[33mclass\u001b[0m\u001b[39m=\u001b[0m\u001b[32m\"n\"\u001b[0m\u001b[39m>b<\u001b[0m\u001b[35m/\u001b[0m\u001b[95mspan\u001b[0m\u001b[39m>: <span \u001b[0m\u001b[33mclass\u001b[0m\u001b[39m=\u001b[0m\u001b[32m\"v\u001b[0m\u001b[32m true\"\u001b[0m\u001b[39m>\u001b[0m\u001b[3;92mTrue\u001b[0m\u001b[39m<\u001b[0m\u001b[35m/\u001b[0m\u001b[95mspan\u001b[0m\u001b[39m><\u001b[0m\u001b[35m/\u001b[0m\u001b[95mspan\u001b[0m\u001b[39m>     <\u001b[0m\u001b[35m/\u001b[0m\u001b[95mli\u001b[0m\u001b[39m>\u001b[0m\n",
       "\u001b[39m     <li>\u001b[0m\n",
       "\u001b[39m<details hx-\u001b[0m\u001b[33mget\u001b[0m\u001b[39m=\u001b[0m\u001b[32m\"/DetailsJSON/details/letters/c\"\u001b[0m\u001b[39m>\u001b[0m\n",
       "\u001b[39m<summary>c<\u001b[0m\u001b[35m/\u001b[0m\u001b[95msummary\u001b[0m\u001b[39m>\u001b[0m\n",
       "\u001b[39m<\u001b[0m\u001b[35m/\u001b[0m\u001b[95mdetails\u001b[0m\u001b[39m>     <\u001b[0m\u001b[35m/\u001b[0m\u001b[95mli\u001b[0m\u001b[39m>\u001b[0m\n",
       "\u001b[39m   <\u001b[0m\u001b[35m/\u001b[0m\u001b[95mul\u001b[0m\u001b[39m>\u001b[0m\n",
       "\u001b[39m<\u001b[0m\u001b[35m/\u001b[0m\u001b[95mdetails\u001b[0m\u001b[1m>\u001b[0m\n"
      ]
     },
     "metadata": {},
     "output_type": "display_data"
    }
   ],
   "source": [
    "cprint(brt.cli.get('/DetailsJSON/details/letters', headers={'hx-request': '1'}).text)\n"
   ]
  },
  {
   "cell_type": "code",
   "execution_count": null,
   "metadata": {},
   "outputs": [
    {
     "data": {
      "text/html": [
       "<pre style=\"white-space:pre;overflow-x:auto;line-height:normal;font-family:Menlo,'DejaVu Sans Mono',consolas,'Courier New',monospace\"><span style=\"font-weight: bold\">&lt;</span><span style=\"color: #ff00ff; text-decoration-color: #ff00ff; font-weight: bold\">details</span><span style=\"color: #000000; text-decoration-color: #000000\"> open&gt;&lt;summary&gt;c&lt;</span><span style=\"color: #800080; text-decoration-color: #800080\">/</span><span style=\"color: #ff00ff; text-decoration-color: #ff00ff\">summary</span><span style=\"color: #000000; text-decoration-color: #000000\">&gt;</span>\n",
       "<span style=\"color: #000000; text-decoration-color: #000000\">   &lt;ul&gt;</span>\n",
       "<span style=\"color: #000000; text-decoration-color: #000000\">     &lt;li&gt;</span>\n",
       "<span style=\"color: #000000; text-decoration-color: #000000\">&lt;span&gt;&lt;span </span><span style=\"color: #808000; text-decoration-color: #808000\">class</span><span style=\"color: #000000; text-decoration-color: #000000\">=</span><span style=\"color: #008000; text-decoration-color: #008000\">\"n\"</span><span style=\"color: #000000; text-decoration-color: #000000\">&gt;d&lt;</span><span style=\"color: #800080; text-decoration-color: #800080\">/</span><span style=\"color: #ff00ff; text-decoration-color: #ff00ff\">span</span><span style=\"color: #000000; text-decoration-color: #000000\">&gt;: &lt;span </span><span style=\"color: #808000; text-decoration-color: #808000\">class</span><span style=\"color: #000000; text-decoration-color: #000000\">=</span><span style=\"color: #008000; text-decoration-color: #008000\">\"v null\"</span><span style=\"color: #000000; text-decoration-color: #000000\">&gt;</span><span style=\"color: #800080; text-decoration-color: #800080; font-style: italic\">None</span><span style=\"color: #000000; text-decoration-color: #000000\">&lt;</span><span style=\"color: #800080; text-decoration-color: #800080\">/</span><span style=\"color: #ff00ff; text-decoration-color: #ff00ff\">span</span><span style=\"color: #000000; text-decoration-color: #000000\">&gt;&lt;</span><span style=\"color: #800080; text-decoration-color: #800080\">/</span><span style=\"color: #ff00ff; text-decoration-color: #ff00ff\">span</span><span style=\"color: #000000; text-decoration-color: #000000\">&gt;     &lt;</span><span style=\"color: #800080; text-decoration-color: #800080\">/</span><span style=\"color: #ff00ff; text-decoration-color: #ff00ff\">li</span><span style=\"color: #000000; text-decoration-color: #000000\">&gt;</span>\n",
       "<span style=\"color: #000000; text-decoration-color: #000000\">   &lt;</span><span style=\"color: #800080; text-decoration-color: #800080\">/</span><span style=\"color: #ff00ff; text-decoration-color: #ff00ff\">ul</span><span style=\"color: #000000; text-decoration-color: #000000\">&gt;</span>\n",
       "<span style=\"color: #000000; text-decoration-color: #000000\">&lt;</span><span style=\"color: #800080; text-decoration-color: #800080\">/</span><span style=\"color: #ff00ff; text-decoration-color: #ff00ff\">details</span><span style=\"font-weight: bold\">&gt;</span>\n",
       "</pre>\n"
      ],
      "text/plain": [
       "\u001b[1m<\u001b[0m\u001b[1;95mdetails\u001b[0m\u001b[39m open><summary>c<\u001b[0m\u001b[35m/\u001b[0m\u001b[95msummary\u001b[0m\u001b[39m>\u001b[0m\n",
       "\u001b[39m   <ul>\u001b[0m\n",
       "\u001b[39m     <li>\u001b[0m\n",
       "\u001b[39m<span><span \u001b[0m\u001b[33mclass\u001b[0m\u001b[39m=\u001b[0m\u001b[32m\"n\"\u001b[0m\u001b[39m>d<\u001b[0m\u001b[35m/\u001b[0m\u001b[95mspan\u001b[0m\u001b[39m>: <span \u001b[0m\u001b[33mclass\u001b[0m\u001b[39m=\u001b[0m\u001b[32m\"v\u001b[0m\u001b[32m null\"\u001b[0m\u001b[39m>\u001b[0m\u001b[3;35mNone\u001b[0m\u001b[39m<\u001b[0m\u001b[35m/\u001b[0m\u001b[95mspan\u001b[0m\u001b[39m><\u001b[0m\u001b[35m/\u001b[0m\u001b[95mspan\u001b[0m\u001b[39m>     <\u001b[0m\u001b[35m/\u001b[0m\u001b[95mli\u001b[0m\u001b[39m>\u001b[0m\n",
       "\u001b[39m   <\u001b[0m\u001b[35m/\u001b[0m\u001b[95mul\u001b[0m\u001b[39m>\u001b[0m\n",
       "\u001b[39m<\u001b[0m\u001b[35m/\u001b[0m\u001b[95mdetails\u001b[0m\u001b[1m>\u001b[0m\n"
      ]
     },
     "metadata": {},
     "output_type": "display_data"
    }
   ],
   "source": [
    "cprint(brt.cli.get('/DetailsJSON/details/letters/c', headers={'hx-request': '1'}).text)"
   ]
  },
  {
   "cell_type": "code",
   "execution_count": null,
   "metadata": {},
   "outputs": [
    {
     "data": {
      "text/html": [
       "<details open hx-swap=\"outerHTML\">\n",
       "<style>me ul { list-style-type:none; list-style-position: outside; padding-inline-start: 22px; margin: 0; } me .string { color: #24837b; } me .string::before { content: \"'\"; } me .string::after { content: \"'\"; } me .number { color: #ad8301; } me .true { color: blue; } me .false { color: red; } me .null { color: gray; } me .n { color: darkgrey; } </style><summary>Apollo astronauts</summary>\n",
       "<ul><li><span><span class=\"n\">1</span>: <span class=\"v string\">Neil Armstrong</span></span></li><li><span><span class=\"n\">2</span>: <span class=\"v string\">Alan Bean</span></span></li><li><span><span class=\"n\">3</span>: <span class=\"v string\">Buzz Aldrin</span></span></li><li><details hx-get=\"/DetailsJSON/details/letters\">\n",
       "<summary>letters</summary>\n",
       "</details></li><li><span><span class=\"n\">5</span>: <span class=\"v string\">Edgar Mitchell</span></span></li><li><span><span class=\"n\">6</span>: <span class=\"v string\">Alan Shepard</span></span></li></ul></details>"
      ],
      "text/markdown": [
       "```html\n",
       "<details open hx-swap=\"outerHTML\">\n",
       "  <style>me ul { list-style-type:none; list-style-position: outside; padding-inline-start: 22px; margin: 0; } me .string { color: #24837b; } me .string::before { content: \"'\"; } me .string::after { content: \"'\"; } me .number { color: #ad8301; } me .true { color: blue; } me .false { color: red; } me .null { color: gray; } me .n { color: darkgrey; } </style>\n",
       "<summary>Apollo astronauts</summary>\n",
       "  <ul>\n",
       "    <li>\n",
       "<span><span class=\"n\">1</span>: <span class=\"v string\">Neil Armstrong</span></span>    </li>\n",
       "    <li>\n",
       "<span><span class=\"n\">2</span>: <span class=\"v string\">Alan Bean</span></span>    </li>\n",
       "    <li>\n",
       "<span><span class=\"n\">3</span>: <span class=\"v string\">Buzz Aldrin</span></span>    </li>\n",
       "    <li>\n",
       "<details hx-get=\"/DetailsJSON/details/letters\">\n",
       "<summary>letters</summary>\n",
       "</details>    </li>\n",
       "    <li>\n",
       "<span><span class=\"n\">5</span>: <span class=\"v string\">Edgar Mitchell</span></span>    </li>\n",
       "    <li>\n",
       "<span><span class=\"n\">6</span>: <span class=\"v string\">Alan Shepard</span></span>    </li>\n",
       "  </ul>\n",
       "</details>\n",
       "```"
      ],
      "text/plain": [
       "details(('\\n', style(('me ul { list-style-type:none; list-style-position: outside; padding-inline-start: 22px; margin: 0; } me .string { color: #24837b; } me .string::before { content: \"\\'\"; } me .string::after { content: \"\\'\"; } me .number { color: #ad8301; } me .true { color: blue; } me .false { color: red; } me .null { color: gray; } me .n { color: darkgrey; } ',),{}), summary(('Apollo astronauts',),{}), '\\n', ul((li((span((span(('1',),{'class': 'n'}), ': ', span(('Neil Armstrong',),{'class': 'v string'})),{}),),{}), li((span((span(('2',),{'class': 'n'}), ': ', span(('Alan Bean',),{'class': 'v string'})),{}),),{}), li((span((span(('3',),{'class': 'n'}), ': ', span(('Buzz Aldrin',),{'class': 'v string'})),{}),),{}), li((details(('\\n', summary(('letters',),{}), '\\n'),{'hx-get': '/DetailsJSON/details/letters'}),),{}), li((span((span(('5',),{'class': 'n'}), ': ', span(('Edgar Mitchell',),{'class': 'v string'})),{}),),{}), li((span((span(('6',),{'class': 'n'}), ': ', span(('Alan Shepard',),{'class': 'v string'})),{}),),{})),{})),{'open': True, 'hx-swap': 'outerHTML'})"
      ]
     },
     "execution_count": null,
     "metadata": {},
     "output_type": "execute_result"
    }
   ],
   "source": [
    "bridge_cfg.auto_show = True\n",
    "dtl()"
   ]
  },
  {
   "cell_type": "code",
   "execution_count": null,
   "metadata": {},
   "outputs": [
    {
     "data": {
      "text/html": [
       "<details open hx-swap=\"outerHTML\">\n",
       "   <style>me ul { list-style-type:none; list-style-position: outside; padding-inline-start: 22px; margin: 0; } me .string { color: #24837b; } me .string::before { content: \"'\"; } me .string::after { content: \"'\"; } me .number { color: #ad8301; } me .true { color: blue; } me .false { color: red; } me .null { color: gray; } me .n { color: darkgrey; } </style>\n",
       "<summary>Apollo astronauts</summary>\n",
       "   <ul>\n",
       "     <li>\n",
       "<span><span class=\"n\">1</span>: <span class=\"v string\">Neil Armstrong</span></span>     </li>\n",
       "     <li>\n",
       "<span><span class=\"n\">2</span>: <span class=\"v string\">Alan Bean</span></span>     </li>\n",
       "     <li>\n",
       "<span><span class=\"n\">3</span>: <span class=\"v string\">Buzz Aldrin</span></span>     </li>\n",
       "     <li>\n",
       "<details hx-get=\"/DetailsJSON/details/letters\">\n",
       "<summary>letters</summary>\n",
       "</details>     </li>\n",
       "     <li>\n",
       "<span><span class=\"n\">5</span>: <span class=\"v string\">Edgar Mitchell</span></span>     </li>\n",
       "     <li>\n",
       "<span><span class=\"n\">6</span>: <span class=\"v string\">Alan Shepard</span></span>     </li>\n",
       "   </ul>\n",
       "</details>"
      ],
      "text/plain": [
       "<IPython.core.display.HTML object>"
      ]
     },
     "metadata": {},
     "output_type": "display_data"
    }
   ],
   "source": [
    "brt('/DetailsJSON/details/');"
   ]
  },
  {
   "cell_type": "code",
   "execution_count": null,
   "metadata": {},
   "outputs": [
    {
     "data": {
      "text/html": [
       "<details open hx-swap=\"outerHTML\">\n",
       "  <style>me ul { list-style-type:none; list-style-position: outside; padding-inline-start: 22px; margin: 0; } me .string { color: #24837b; } me .string::before { content: \"'\"; } me .string::after { content: \"'\"; } me .number { color: #ad8301; } me .true { color: blue; } me .false { color: red; } me .null { color: gray; } me .n { color: darkgrey; } </style>\n",
       "<summary>Apollo astronauts</summary>\n",
       "  <ul>\n",
       "    <li>\n",
       "<details hx-get=\"/DetailsJSON/DetailsJSON_1-1757331370/Apollo 7\">\n",
       "<summary>Apollo 7</summary>\n",
       "</details>    </li>\n",
       "    <li>\n",
       "<details hx-get=\"/DetailsJSON/DetailsJSON_1-1757331370/Apollo 8\">\n",
       "<summary>Apollo 8</summary>\n",
       "</details>    </li>\n",
       "    <li>\n",
       "<details hx-get=\"/DetailsJSON/DetailsJSON_1-1757331370/Apollo 9\">\n",
       "<summary>Apollo 9</summary>\n",
       "</details>    </li>\n",
       "    <li>\n",
       "<details hx-get=\"/DetailsJSON/DetailsJSON_1-1757331370/Apollo 10\">\n",
       "<summary>Apollo 10</summary>\n",
       "</details>    </li>\n",
       "    <li>\n",
       "<details hx-get=\"/DetailsJSON/DetailsJSON_1-1757331370/Apollo 11\">\n",
       "<summary>Apollo 11</summary>\n",
       "</details>    </li>\n",
       "    <li>\n",
       "<details hx-get=\"/DetailsJSON/DetailsJSON_1-1757331370/Apollo 12\">\n",
       "<summary>Apollo 12</summary>\n",
       "</details>    </li>\n",
       "    <li>\n",
       "<details hx-get=\"/DetailsJSON/DetailsJSON_1-1757331370/Apollo 13\">\n",
       "<summary>Apollo 13</summary>\n",
       "</details>    </li>\n",
       "    <li>\n",
       "<details hx-get=\"/DetailsJSON/DetailsJSON_1-1757331370/Apollo 14\">\n",
       "<summary>Apollo 14</summary>\n",
       "</details>    </li>\n",
       "    <li>\n",
       "<details hx-get=\"/DetailsJSON/DetailsJSON_1-1757331370/Apollo 15\">\n",
       "<summary>Apollo 15</summary>\n",
       "</details>    </li>\n",
       "    <li>\n",
       "<details hx-get=\"/DetailsJSON/DetailsJSON_1-1757331370/Apollo 16\">\n",
       "<summary>Apollo 16</summary>\n",
       "</details>    </li>\n",
       "    <li>\n",
       "<details hx-get=\"/DetailsJSON/DetailsJSON_1-1757331370/Apollo 17\">\n",
       "<summary>Apollo 17</summary>\n",
       "</details>    </li>\n",
       "  </ul>\n",
       "</details>"
      ],
      "text/plain": [
       "<IPython.core.display.HTML object>"
      ]
     },
     "metadata": {},
     "output_type": "display_data"
    }
   ],
   "source": [
    "# bridge_cfg.auto_mount = True\n",
    "\n",
    "apollo_astronauts = json.load(Path('static/apollo_astronauts.json').open())\n",
    "\n",
    "(astro := DetailsJSON(apollo_astronauts, summary='Apollo astronauts'))"
   ]
  },
  {
   "cell_type": "code",
   "execution_count": null,
   "metadata": {},
   "outputs": [],
   "source": [
    "request = {\n",
    "    'headers': {\n",
    "        'HX-Request': 'true',\n",
    "        'HX-Current-URL': 'vscode-webview://1ql27...enderer'\n",
    "    },\n",
    "    'headerNames': {\n",
    "        'hx-request': 'HX-Request',\n",
    "        'hx-current-url': 'HX-Current-URL'\n",
    "    },\n",
    "    'status': 0,\n",
    "    'method': 'GET',\n",
    "    'url': '/DetailsJSON_5096628128/Apollo 11/Buzz Aldrin',\n",
    "    'async': True,\n",
    "    'timeout': 0,\n",
    "    'withCredentials': False,\n",
    "    'body': None,\n",
    "    'req_id': '68ffadb0-958d-4346-b314-d9d62ca247d7'\n",
    "}\n",
    "\n",
    "response = {\n",
    "    'headers': {\n",
    "        'content-length': '441',\n",
    "        'content-type': 'text/html; charset=utf-8',\n",
    "        'last-modified': 'Fri, 15 Nov 2024 16:22:15 GMT',\n",
    "        'cache-control': 'no-store, no-cache, must-revalidate'\n",
    "    },\n",
    "    'status': 200,\n",
    "    'statusText': 'OK',\n",
    "    'data': '<details open><summary>Buzz Aldrin</summary>\\n   <ul>\\n     '\n",
    "'<li>Pilot on Gemini 12 and Lunar Module pilot on Apollo 11.</li>\\n     '\n",
    "'<li>Aldrin was the second person to walk on the moon.</li>\\n     <li>The maiden '\n",
    "'name of Aldrin&#x27;s mother was &quot;Moon.&quot;</li>\\n     <li>While Neil was '\n",
    "'the first human to step onto the moon, I&#x27;m the first alien from another '\n",
    "'world to enter a spacecraft that was going to Earth.</li>\\n   '\n",
    "'</ul>\\n</details>',\n",
    "    'xml': None,\n",
    "    'finalUrl': 'http://nb/DetailsJSON_5096628128/Apollo%2011/Buzz%20Aldrin',\n",
    "    'req_id': '68ffadb0-958d-4346-b314-d9d62ca247d7'\n",
    "}"
   ]
  },
  {
   "cell_type": "code",
   "execution_count": null,
   "metadata": {},
   "outputs": [
    {
     "data": {
      "text/html": [
       "<details open hx-swap=\"outerHTML\">\n",
       "  <style>me ul { list-style-type:none; list-style-position: outside; padding-inline-start: 22px; margin: 0; } me .string { color: #24837b; } me .string::before { content: \"'\"; } me .string::after { content: \"'\"; } me .number { color: #ad8301; } me .true { color: blue; } me .false { color: red; } me .null { color: gray; } me .n { color: darkgrey; } </style>\n",
       "<summary>request</summary>\n",
       "  <ul>\n",
       "    <li>\n",
       "<details open><summary>headers</summary>\n",
       "        <ul>\n",
       "          <li>\n",
       "<span><span class=\"n\">HX-Request</span>: <span class=\"v string\">true</span></span>          </li>\n",
       "          <li>\n",
       "<span><span class=\"n\">HX-Current-URL</span>: <span class=\"v string\">vscode-webview://1ql27...enderer</span></span>          </li>\n",
       "        </ul>\n",
       "</details>    </li>\n",
       "    <li>\n",
       "<details open><summary>headerNames</summary>\n",
       "        <ul>\n",
       "          <li>\n",
       "<span><span class=\"n\">hx-request</span>: <span class=\"v string\">HX-Request</span></span>          </li>\n",
       "          <li>\n",
       "<span><span class=\"n\">hx-current-url</span>: <span class=\"v string\">HX-Current-URL</span></span>          </li>\n",
       "        </ul>\n",
       "</details>    </li>\n",
       "    <li>\n",
       "<span><span class=\"n\">status</span>: <span class=\"v number\">0</span></span>    </li>\n",
       "    <li>\n",
       "<span><span class=\"n\">method</span>: <span class=\"v string\">GET</span></span>    </li>\n",
       "    <li>\n",
       "<span><span class=\"n\">url</span>: <span class=\"v string\">/DetailsJSON_5096628128/Apollo 11/Buzz Aldrin</span></span>    </li>\n",
       "    <li>\n",
       "<span><span class=\"n\">async</span>: <span class=\"v true\">True</span></span>    </li>\n",
       "    <li>\n",
       "<span><span class=\"n\">timeout</span>: <span class=\"v number\">0</span></span>    </li>\n",
       "    <li>\n",
       "<span><span class=\"n\">withCredentials</span>: <span class=\"v false\">False</span></span>    </li>\n",
       "    <li>\n",
       "<span><span class=\"n\">body</span>: <span class=\"v null\">None</span></span>    </li>\n",
       "    <li>\n",
       "<span><span class=\"n\">req_id</span>: <span class=\"v string\">68ffadb0-958d-4346-b314-d9d62ca247d7</span></span>    </li>\n",
       "  </ul>\n",
       "</details>"
      ],
      "text/plain": [
       "<IPython.core.display.HTML object>"
      ]
     },
     "metadata": {},
     "output_type": "display_data"
    }
   ],
   "source": [
    "(req := DetailsJSON(request, summary='request', open='all'))"
   ]
  },
  {
   "cell_type": "code",
   "execution_count": null,
   "metadata": {},
   "outputs": [
    {
     "data": {
      "text/html": [
       "<details open hx-swap=\"outerHTML\">\n",
       "  <style>me ul { list-style-type:none; list-style-position: outside; padding-inline-start: 22px; margin: 0; } me .string { color: #24837b; } me .string::before { content: \"'\"; } me .string::after { content: \"'\"; } me .number { color: #ad8301; } me .true { color: blue; } me .false { color: red; } me .null { color: gray; } me .n { color: darkgrey; } </style>\n",
       "<summary>response</summary>\n",
       "  <ul>\n",
       "    <li>\n",
       "<details hx-get=\"/DetailsJSON/DetailsJSON_3-1757331370/headers\">\n",
       "<summary>headers</summary>\n",
       "</details>    </li>\n",
       "    <li>\n",
       "<span><span class=\"n\">status</span>: <span class=\"v number\">200</span></span>    </li>\n",
       "    <li>\n",
       "<span><span class=\"n\">statusText</span>: <span class=\"v string\">OK</span></span>    </li>\n",
       "    <li>\n",
       "<span><span class=\"n\">data</span>: <span class=\"v string\">&lt;details open&gt;&lt;summary&gt;Buzz Aldrin&lt;/summary&gt;\n",
       "   &lt;ul&gt;\n",
       "     &lt;li&gt;Pilot on Gemini 12 and Lunar Module pilot on Apollo 11.&lt;/li&gt;\n",
       "     &lt;li&gt;Aldrin w…</span></span>    </li>\n",
       "    <li>\n",
       "<span><span class=\"n\">xml</span>: <span class=\"v null\">None</span></span>    </li>\n",
       "    <li>\n",
       "<span><span class=\"n\">finalUrl</span>: <span class=\"v string\">http://nb/DetailsJSON_5096628128/Apollo%2011/Buzz%20Aldrin</span></span>    </li>\n",
       "    <li>\n",
       "<span><span class=\"n\">req_id</span>: <span class=\"v string\">68ffadb0-958d-4346-b314-d9d62ca247d7</span></span>    </li>\n",
       "  </ul>\n",
       "</details>"
      ],
      "text/plain": [
       "<IPython.core.display.HTML object>"
      ]
     },
     "metadata": {},
     "output_type": "display_data"
    }
   ],
   "source": [
    "(resp := DetailsJSON(response, summary='response'))"
   ]
  },
  {
   "cell_type": "markdown",
   "metadata": {},
   "source": [
    "# Colophon\n",
    "----\n"
   ]
  },
  {
   "cell_type": "code",
   "execution_count": null,
   "metadata": {},
   "outputs": [],
   "source": [
    "import fastcore.all as FC\n",
    "import nbdev\n",
    "from nbdev.clean import nbdev_clean"
   ]
  },
  {
   "cell_type": "code",
   "execution_count": null,
   "metadata": {},
   "outputs": [],
   "source": [
    "if FC.IN_NOTEBOOK:\n",
    "    nb_path = '40_details_json.ipynb'\n",
    "    nbdev_clean(nb_path)\n",
    "    nbdev.nbdev_export(nb_path)\n"
   ]
  }
 ],
 "metadata": {
  "kernelspec": {
   "display_name": "python3",
   "language": "python",
   "name": "python3"
  }
 },
 "nbformat": 4,
 "nbformat_minor": 2
}
