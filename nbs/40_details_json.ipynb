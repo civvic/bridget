{
 "cells": [
  {
   "cell_type": "code",
   "execution_count": 1,
   "metadata": {},
   "outputs": [],
   "source": [
    "#| default_exp components/details_json\n"
   ]
  },
  {
   "cell_type": "code",
   "execution_count": 2,
   "metadata": {},
   "outputs": [],
   "source": [
    "#| export\n",
    "from __future__ import annotations\n"
   ]
  },
  {
   "cell_type": "markdown",
   "metadata": {},
   "source": [
    "# DetailsJSON\n",
    "\n",
    "> FastHTML component that displays a JSON object in a `details` element.\n"
   ]
  },
  {
   "cell_type": "markdown",
   "metadata": {},
   "source": [
    "# Prologue"
   ]
  },
  {
   "cell_type": "code",
   "execution_count": 3,
   "metadata": {},
   "outputs": [],
   "source": [
    "#| export\n",
    "from typing import Any\n",
    "from typing import Literal\n",
    "from typing import Mapping\n",
    "\n",
    "from fasthtml.xtend import Style\n",
    "from olio.common import val_at\n"
   ]
  },
  {
   "cell_type": "code",
   "execution_count": 4,
   "metadata": {},
   "outputs": [],
   "source": [
    "#| export\n",
    "\n",
    "from bridget.bridget import _n\n",
    "from bridget.bridget import bridge_cfg\n",
    "from bridget.bridget import Bridget\n",
    "from bridget.routing import ar\n",
    "from bridget.routing import RouteProvider\n"
   ]
  },
  {
   "cell_type": "code",
   "execution_count": 5,
   "metadata": {},
   "outputs": [],
   "source": [
    "#| export\n",
    "\n",
    "from fasthtml.components import Details, Summary, Ul, Li, Span\n"
   ]
  },
  {
   "cell_type": "code",
   "execution_count": 6,
   "metadata": {},
   "outputs": [],
   "source": [
    "import json\n",
    "from functools import partial\n",
    "from pathlib import Path\n",
    "from typing import cast\n",
    "\n",
    "from bridget.bridget import bridget_scripts\n",
    "from bridget.bridget import get_app\n",
    "from fastcore.test import *\n",
    "from fastcore.xml import FT\n",
    "from fastcore.xml import to_xml\n",
    "from fasthtml.common import show\n",
    "from rich.console import Console\n"
   ]
  },
  {
   "cell_type": "markdown",
   "metadata": {},
   "source": [
    "----\n"
   ]
  },
  {
   "cell_type": "code",
   "execution_count": 7,
   "metadata": {},
   "outputs": [],
   "source": [
    "cprint = (console := Console(width=120)).print\n"
   ]
  },
  {
   "cell_type": "markdown",
   "metadata": {},
   "source": [
    "----"
   ]
  },
  {
   "cell_type": "markdown",
   "metadata": {},
   "source": [
    "# Derivation"
   ]
  },
  {
   "cell_type": "code",
   "execution_count": 8,
   "metadata": {},
   "outputs": [
    {
     "data": {
      "text/html": [
       "<script src=\"https://cdn.jsdelivr.net/gh/answerdotai/fasthtml-js@1.0.12/fasthtml.js\"></script><script src=\"https://cdn.jsdelivr.net/gh/answerdotai/surreal@main/surreal.js\"></script><script src=\"https://cdn.jsdelivr.net/gh/gnat/css-scope-inline@main/script.js\"></script><details open><summary><b>Loaded scripts</b></summary><pre>&lt;script src=&quot;https://cdn.jsdelivr.net/gh/answerdotai/fasthtml-js@1.0.12/fasthtml.js&quot;&gt;&lt;/script&gt;\n",
       "&lt;script src=&quot;https://cdn.jsdelivr.net/gh/answerdotai/surreal@main/surreal.js&quot;&gt;&lt;/script&gt;\n",
       "&lt;script src=&quot;https://cdn.jsdelivr.net/gh/gnat/css-scope-inline@main/script.js&quot;&gt;&lt;/script&gt;</pre></details>"
      ],
      "text/plain": [
       "<IPython.core.display.HTML object>"
      ]
     },
     "metadata": {},
     "output_type": "display_data"
    },
    {
     "data": {
      "application/vnd.jupyter.widget-view+json": {
       "model_id": "d957b83e07e84c3eb9c4effd04a5fd0e",
       "version_major": 2,
       "version_minor": 1
      },
      "text/plain": [
       "Bridget(libraries={'htmx': 'https://unpkg.com/htmx.org@next/dist/htmx.js', 'fasthtml_js': 'https://cdn.jsdeliv…"
      ]
     },
     "metadata": {},
     "output_type": "display_data"
    },
    {
     "data": {
      "text/html": [
       "<brt-mark id=\"bce1ec0cb-196bb964-c178fa27-dd3a11eb\"></brt-mark>"
      ],
      "text/plain": [
       "<IPython.core.display.HTML object>"
      ]
     },
     "metadata": {},
     "output_type": "display_data"
    }
   ],
   "source": [
    "app, brt, rt = get_app(True, auto_show=True)\n"
   ]
  },
  {
   "cell_type": "code",
   "execution_count": 9,
   "metadata": {},
   "outputs": [
    {
     "data": {
      "text/html": [
       "<style>\n",
       "    me ul { list-style-type:none; list-style-position: outside; padding-inline-start: 22px; margin: 0; }\n",
       "</style>\n",
       "<details open>\n",
       "<summary>Apollo astronauts</summary>\n",
       "<ul>\n",
       "  <li><span>1</span>: Neil Armstrong</li>\n",
       "  <li><span>2</span>: Alan Bean</li>\n",
       "  <li><details>\n",
       "<summary>Apollo 11</summary>\n",
       "<ul>\n",
       "  <li><span>1</span>: Neil Armstrong</li>\n",
       "  <li><span>2</span>: Alan Bean</li>\n",
       "  <li><div><span>3</span>: Buzz Aldrin</div></li>\n",
       "  <li><span>4</span>: Edgar Mitchell</li>\n",
       "  <li><span>5</span>: Alan Shepard</li>\n",
       "</ul></li>\n",
       "  <li><span>4</span>: Edgar Mitchell</li>\n",
       "  <li><span>5</span>: Alan Shepard</li>\n",
       "</ul>\n",
       "\n",
       "</details>\n"
      ],
      "text/plain": [
       "<IPython.core.display.HTML object>"
      ]
     },
     "metadata": {},
     "output_type": "display_data"
    }
   ],
   "source": [
    "%%HTML\n",
    "<style>\n",
    "    me ul { list-style-type:none; list-style-position: outside; padding-inline-start: 22px; margin: 0; }\n",
    "</style>\n",
    "<details open>\n",
    "<summary>Apollo astronauts</summary>\n",
    "<ul>\n",
    "  <li><span>1</span>: Neil Armstrong</li>\n",
    "  <li><span>2</span>: Alan Bean</li>\n",
    "  <li><details>\n",
    "<summary>Apollo 11</summary>\n",
    "<ul>\n",
    "  <li><span>1</span>: Neil Armstrong</li>\n",
    "  <li><span>2</span>: Alan Bean</li>\n",
    "  <li><div><span>3</span>: Buzz Aldrin</div></li>\n",
    "  <li><span>4</span>: Edgar Mitchell</li>\n",
    "  <li><span>5</span>: Alan Shepard</li>\n",
    "</ul></li>\n",
    "  <li><span>4</span>: Edgar Mitchell</li>\n",
    "  <li><span>5</span>: Alan Shepard</li>\n",
    "</ul>\n",
    "\n",
    "</details>\n"
   ]
  },
  {
   "cell_type": "code",
   "execution_count": 10,
   "metadata": {},
   "outputs": [
    {
     "data": {
      "text/html": [
       "<pre style=\"white-space:pre;overflow-x:auto;line-height:normal;font-family:Menlo,'DejaVu Sans Mono',consolas,'Courier New',monospace\"><span style=\"font-weight: bold\">&lt;</span><span style=\"color: #ff00ff; text-decoration-color: #ff00ff; font-weight: bold\">style</span><span style=\"color: #000000; text-decoration-color: #000000\">&gt;me ul </span><span style=\"color: #000000; text-decoration-color: #000000; font-weight: bold\">{</span><span style=\"color: #000000; text-decoration-color: #000000\"> list-style-type:none; list-style-position: outside; padding-inline-start: 22px; margin: </span><span style=\"color: #008080; text-decoration-color: #008080; font-weight: bold\">0</span><span style=\"color: #000000; text-decoration-color: #000000\">; </span><span style=\"color: #000000; text-decoration-color: #000000; font-weight: bold\">}</span><span style=\"color: #000000; text-decoration-color: #000000\"> &lt;</span><span style=\"color: #800080; text-decoration-color: #800080\">/</span><span style=\"color: #ff00ff; text-decoration-color: #ff00ff\">style</span><span style=\"color: #000000; text-decoration-color: #000000\">&gt;</span>\n",
       "<span style=\"color: #000000; text-decoration-color: #000000\">&lt;details open&gt;&lt;summary&gt;Apollo astronauts</span>\n",
       "<span style=\"color: #000000; text-decoration-color: #000000\">&lt;</span><span style=\"color: #800080; text-decoration-color: #800080\">/</span><span style=\"color: #ff00ff; text-decoration-color: #ff00ff\">summary</span><span style=\"color: #000000; text-decoration-color: #000000\">&gt;  &lt;ul&gt;</span>\n",
       "<span style=\"color: #000000; text-decoration-color: #000000\">    &lt;li&gt;Neil Armstrong&lt;</span><span style=\"color: #800080; text-decoration-color: #800080\">/</span><span style=\"color: #ff00ff; text-decoration-color: #ff00ff\">li</span><span style=\"color: #000000; text-decoration-color: #000000\">&gt;</span>\n",
       "<span style=\"color: #000000; text-decoration-color: #000000\">    &lt;li&gt;Alan Bean&lt;</span><span style=\"color: #800080; text-decoration-color: #800080\">/</span><span style=\"color: #ff00ff; text-decoration-color: #ff00ff\">li</span><span style=\"color: #000000; text-decoration-color: #000000\">&gt;</span>\n",
       "<span style=\"color: #000000; text-decoration-color: #000000\">    &lt;li&gt;Buzz Aldrin&lt;</span><span style=\"color: #800080; text-decoration-color: #800080\">/</span><span style=\"color: #ff00ff; text-decoration-color: #ff00ff\">li</span><span style=\"color: #000000; text-decoration-color: #000000\">&gt;</span>\n",
       "<span style=\"color: #000000; text-decoration-color: #000000\">&lt;details&gt;&lt;summary&gt;letters</span>\n",
       "<span style=\"color: #000000; text-decoration-color: #000000\">&lt;</span><span style=\"color: #800080; text-decoration-color: #800080\">/</span><span style=\"color: #ff00ff; text-decoration-color: #ff00ff\">summary</span><span style=\"color: #000000; text-decoration-color: #000000\">&gt;      &lt;ul&gt;</span>\n",
       "<span style=\"color: #000000; text-decoration-color: #000000\">        &lt;li&gt;</span><span style=\"color: #008080; text-decoration-color: #008080; font-weight: bold\">1</span><span style=\"color: #000000; text-decoration-color: #000000\">&lt;</span><span style=\"color: #800080; text-decoration-color: #800080\">/</span><span style=\"color: #ff00ff; text-decoration-color: #ff00ff\">li</span><span style=\"color: #000000; text-decoration-color: #000000\">&gt;</span>\n",
       "<span style=\"color: #000000; text-decoration-color: #000000\">        &lt;li&gt;</span><span style=\"color: #008080; text-decoration-color: #008080; font-weight: bold\">2</span><span style=\"color: #000000; text-decoration-color: #000000\">&lt;</span><span style=\"color: #800080; text-decoration-color: #800080\">/</span><span style=\"color: #ff00ff; text-decoration-color: #ff00ff\">li</span><span style=\"color: #000000; text-decoration-color: #000000\">&gt;</span>\n",
       "<span style=\"color: #000000; text-decoration-color: #000000\">      &lt;</span><span style=\"color: #800080; text-decoration-color: #800080\">/</span><span style=\"color: #ff00ff; text-decoration-color: #ff00ff\">ul</span><span style=\"color: #000000; text-decoration-color: #000000\">&gt;</span>\n",
       "<span style=\"color: #000000; text-decoration-color: #000000\">&lt;</span><span style=\"color: #800080; text-decoration-color: #800080\">/</span><span style=\"color: #ff00ff; text-decoration-color: #ff00ff\">details</span><span style=\"color: #000000; text-decoration-color: #000000\">&gt;    &lt;li&gt;Edgar Mitchell&lt;</span><span style=\"color: #800080; text-decoration-color: #800080\">/</span><span style=\"color: #ff00ff; text-decoration-color: #ff00ff\">li</span><span style=\"color: #000000; text-decoration-color: #000000\">&gt;</span>\n",
       "<span style=\"color: #000000; text-decoration-color: #000000\">    &lt;li&gt;Alan Shepard&lt;</span><span style=\"color: #800080; text-decoration-color: #800080\">/</span><span style=\"color: #ff00ff; text-decoration-color: #ff00ff\">li</span><span style=\"color: #000000; text-decoration-color: #000000\">&gt;</span>\n",
       "<span style=\"color: #000000; text-decoration-color: #000000\">  &lt;</span><span style=\"color: #800080; text-decoration-color: #800080\">/</span><span style=\"color: #ff00ff; text-decoration-color: #ff00ff\">ul</span><span style=\"color: #000000; text-decoration-color: #000000\">&gt;</span>\n",
       "<span style=\"color: #000000; text-decoration-color: #000000\">&lt;</span><span style=\"color: #800080; text-decoration-color: #800080\">/</span><span style=\"color: #ff00ff; text-decoration-color: #ff00ff\">details</span><span style=\"font-weight: bold\">&gt;</span>\n",
       "</pre>\n"
      ],
      "text/plain": [
       "\u001b[1m<\u001b[0m\u001b[1;95mstyle\u001b[0m\u001b[39m>me ul \u001b[0m\u001b[1;39m{\u001b[0m\u001b[39m list-style-type:none; list-style-position: outside; padding-inline-start: 22px; margin: \u001b[0m\u001b[1;36m0\u001b[0m\u001b[39m; \u001b[0m\u001b[1;39m}\u001b[0m\u001b[39m <\u001b[0m\u001b[35m/\u001b[0m\u001b[95mstyle\u001b[0m\u001b[39m>\u001b[0m\n",
       "\u001b[39m<details open><summary>Apollo astronauts\u001b[0m\n",
       "\u001b[39m<\u001b[0m\u001b[35m/\u001b[0m\u001b[95msummary\u001b[0m\u001b[39m>  <ul>\u001b[0m\n",
       "\u001b[39m    <li>Neil Armstrong<\u001b[0m\u001b[35m/\u001b[0m\u001b[95mli\u001b[0m\u001b[39m>\u001b[0m\n",
       "\u001b[39m    <li>Alan Bean<\u001b[0m\u001b[35m/\u001b[0m\u001b[95mli\u001b[0m\u001b[39m>\u001b[0m\n",
       "\u001b[39m    <li>Buzz Aldrin<\u001b[0m\u001b[35m/\u001b[0m\u001b[95mli\u001b[0m\u001b[39m>\u001b[0m\n",
       "\u001b[39m<details><summary>letters\u001b[0m\n",
       "\u001b[39m<\u001b[0m\u001b[35m/\u001b[0m\u001b[95msummary\u001b[0m\u001b[39m>      <ul>\u001b[0m\n",
       "\u001b[39m        <li>\u001b[0m\u001b[1;36m1\u001b[0m\u001b[39m<\u001b[0m\u001b[35m/\u001b[0m\u001b[95mli\u001b[0m\u001b[39m>\u001b[0m\n",
       "\u001b[39m        <li>\u001b[0m\u001b[1;36m2\u001b[0m\u001b[39m<\u001b[0m\u001b[35m/\u001b[0m\u001b[95mli\u001b[0m\u001b[39m>\u001b[0m\n",
       "\u001b[39m      <\u001b[0m\u001b[35m/\u001b[0m\u001b[95mul\u001b[0m\u001b[39m>\u001b[0m\n",
       "\u001b[39m<\u001b[0m\u001b[35m/\u001b[0m\u001b[95mdetails\u001b[0m\u001b[39m>    <li>Edgar Mitchell<\u001b[0m\u001b[35m/\u001b[0m\u001b[95mli\u001b[0m\u001b[39m>\u001b[0m\n",
       "\u001b[39m    <li>Alan Shepard<\u001b[0m\u001b[35m/\u001b[0m\u001b[95mli\u001b[0m\u001b[39m>\u001b[0m\n",
       "\u001b[39m  <\u001b[0m\u001b[35m/\u001b[0m\u001b[95mul\u001b[0m\u001b[39m>\u001b[0m\n",
       "\u001b[39m<\u001b[0m\u001b[35m/\u001b[0m\u001b[95mdetails\u001b[0m\u001b[1m>\u001b[0m\n"
      ]
     },
     "metadata": {},
     "output_type": "display_data"
    },
    {
     "data": {
      "text/html": [
       "<style>me ul { list-style-type:none; list-style-position: outside; padding-inline-start: 22px; margin: 0; } </style>\n",
       "<details open><summary>Apollo astronauts\n",
       "</summary>  <ul>\n",
       "    <li>Neil Armstrong</li>\n",
       "    <li>Alan Bean</li>\n",
       "    <li>Buzz Aldrin</li>\n",
       "<details><summary>letters\n",
       "</summary>      <ul>\n",
       "        <li>1</li>\n",
       "        <li>2</li>\n",
       "      </ul>\n",
       "</details>    <li>Edgar Mitchell</li>\n",
       "    <li>Alan Shepard</li>\n",
       "  </ul>\n",
       "</details>"
      ],
      "text/plain": [
       "<IPython.core.display.HTML object>"
      ]
     },
     "metadata": {},
     "output_type": "display_data"
    }
   ],
   "source": [
    "class DetailsJSON(dict):\n",
    "    def __init__(self, *args, summary:str='', open:bool=False, lvl:int=0, **kwargs):\n",
    "        super().__init__(*args, **kwargs)\n",
    "        self.summary, self.open, self.lvl = summary, open, lvl\n",
    "    def __ft__(self):\n",
    "        return (\n",
    "            Style(self._css_) if self.lvl == 0 else (), \n",
    "            Details(open=self.open)(\n",
    "                Summary(self.summary or 'summary', _n),\n",
    "                Ul()(*(\n",
    "                    Li(v) if not isinstance(v, Mapping) else \n",
    "                    DetailsJSON(v, summary=k, lvl=self.lvl+1) \n",
    "                    for k,v in self.items()))))\n",
    "    _css_ = 'me ul { list-style-type:none; list-style-position: outside; padding-inline-start: 22px; margin: 0; } '\n",
    "\n",
    "\n",
    "dtl = DetailsJSON({\n",
    "    '1': 'Neil Armstrong',\n",
    "    '2': 'Alan Bean',\n",
    "    '3': 'Buzz Aldrin',\n",
    "    'letters': {\n",
    "        'a': 1, \n",
    "        'b': 2\n",
    "        },\n",
    "    '5': 'Edgar Mitchell',\n",
    "    '6': 'Alan Shepard'\n",
    "}, summary='Apollo astronauts', open=True)\n",
    "\n",
    "test_eq(val_at(dtl, '5'), 'Edgar Mitchell')\n",
    "test_eq(val_at(dtl, 'letters.a'), 1)\n",
    "cprint(to_xml(dtl))\n",
    "show(dtl)\n"
   ]
  },
  {
   "cell_type": "code",
   "execution_count": 11,
   "metadata": {},
   "outputs": [
    {
     "data": {
      "text/plain": [
       "[('1', 'Neil Armstrong'),\n",
       " ('2', 'Alan Bean'),\n",
       " ('3', 'Buzz Aldrin'),\n",
       " ('letters.a', 1),\n",
       " ('letters.b', 2),\n",
       " ('5', 'Edgar Mitchell'),\n",
       " ('6', 'Alan Shepard')]"
      ]
     },
     "execution_count": 11,
     "metadata": {},
     "output_type": "execute_result"
    }
   ],
   "source": [
    "def walk(m:Mapping, p:str=''):\n",
    "    for k,v in m.items():\n",
    "        if isinstance(v, Mapping): yield from walk(v, f\"{p}.{k}\" if p else k)\n",
    "        else: yield f\"{p}.{k}\" if p else k,v \n",
    "\n",
    "list(walk(dtl))"
   ]
  },
  {
   "cell_type": "code",
   "execution_count": 12,
   "metadata": {},
   "outputs": [
    {
     "data": {
      "text/plain": [
       "[('1', 'Neil Armstrong'),\n",
       " ('2', 'Alan Bean'),\n",
       " ('3', 'Buzz Aldrin'),\n",
       " ('letters.a', 1),\n",
       " ('letters.b', 2),\n",
       " ('5', 'Edgar Mitchell'),\n",
       " ('6', 'Alan Shepard')]"
      ]
     },
     "execution_count": 12,
     "metadata": {},
     "output_type": "execute_result"
    }
   ],
   "source": [
    "def walk(mapping: Mapping, prefix: str=''):\n",
    "    stack = [(prefix, list(mapping.items()))]\n",
    "    while stack:\n",
    "        p, items = stack[-1]\n",
    "        if not items: stack.pop(); continue\n",
    "        k, v = items.pop(0)\n",
    "        if isinstance(v, Mapping): stack.append((f\"{p}.{k}\" if p else k, list(v.items())))\n",
    "        else: yield f\"{p}.{k}\" if p else k, v\n",
    "\n",
    "# Test\n",
    "list(walk(dtl))"
   ]
  },
  {
   "cell_type": "code",
   "execution_count": 13,
   "metadata": {},
   "outputs": [],
   "source": [
    "def update(d, other:Mapping|None=None, **kwargs):\n",
    "    if isinstance(d, dict): d.update(other or {}, **kwargs)\n",
    "    else:\n",
    "        for k,v in {**(other or {}), **kwargs}.items(): \n",
    "            try: setattr(d, k, v)\n",
    "            except AttributeError: pass\n",
    "    return d\n"
   ]
  },
  {
   "cell_type": "code",
   "execution_count": 14,
   "metadata": {},
   "outputs": [],
   "source": [
    "d = {'a': 1, 'b':2}\n",
    "test_eq(update(d, c=3), {'a': 1, 'b':2, 'c':3})\n",
    "test_eq(update(d, {'b': 22}), {'a': 1, 'b':22, 'c':3})\n"
   ]
  },
  {
   "cell_type": "markdown",
   "metadata": {},
   "source": [
    "# DetailsJSON"
   ]
  },
  {
   "cell_type": "code",
   "execution_count": 15,
   "metadata": {},
   "outputs": [],
   "source": [
    "#| export\n",
    "\n",
    "def Val(v): \n",
    "    c = (\n",
    "        'null' if v is None else \n",
    "        'true' if v is True else \n",
    "        'false' if v is False else \n",
    "        'string' if isinstance(v, str) else \n",
    "        'number' if isinstance(v, (int, float)) else \n",
    "        '')\n",
    "    return Span(v if v is not None else 'None', cls=f\"v {c}\")\n",
    "def NameVal(k, v): return Span(Span(k, cls='n'), ': ', Val(v))\n",
    "\n",
    "class DetailsJSON(RouteProvider):\n",
    "\n",
    "    def __init__(self, o:Mapping[str, Any], summary:str='', open:bool|Literal['all']=True):\n",
    "        self.o, self.summary, self.open, self._mounted = o, summary or 'summary', open, False\n",
    "\n",
    "    def _ipython_display_(self):\n",
    "        brt = Bridget()\n",
    "        if bridge_cfg.auto_mount and not self._mounted: brt.mount(self, show=False)\n",
    "        brt(self)\n",
    "\n",
    "    @ar('/{dp:path}', methods='get', name='get')\n",
    "    def __call__(self, dp:str='', all:bool=False): \n",
    "        try: d = val_at(self.o, dp, sep='/') if dp else self.o\n",
    "        except Exception: return None\n",
    "        return self.__ft__(dp, d, all)\n",
    "    \n",
    "    def __ft__(self, dp:str|None=None, d:Mapping|None=None, openall:bool=False):\n",
    "        if not dp: dp, d, openall = '', self.o, self.open == 'all'\n",
    "        its = Ul()(*(\n",
    "            Li()(\n",
    "                NameVal(k, v) if not isinstance(v, Mapping) else \n",
    "                self.__ft__(f\"{dp}/{k}\", v, openall) if openall else\n",
    "                Details(hx_get=f\"/{self.ar.to()}/\"+(f\"{dp}/\" if dp else '')+f\"{k}\")(_n,Summary(k),_n)\n",
    "            ) for k,v in (d or {}).items()))\n",
    "        return (\n",
    "            Details(open=True)(Summary(dp.split('/')[-1]), _n, its) if dp else \n",
    "            Details(open=self.open is not False, hx_swap='outerHTML')(_n, Style(self._css_), Summary(self.summary), _n, its))\n",
    "\n",
    "    _css_ = (\n",
    "        'me ul { list-style-type:none; list-style-position: outside; padding-inline-start: 22px; margin: 0; } '\n",
    "        '''me .string { color: #24837b; } me .string::before { content: \"'\"; } me .string::after { content: \"'\"; } '''\n",
    "        'me .number { color: #ad8301; } '\n",
    "        'me .true { color: blue; } '\n",
    "        'me .false { color: red; } '\n",
    "        'me .null { color: gray; } '\n",
    "    )\n"
   ]
  },
  {
   "cell_type": "code",
   "execution_count": 16,
   "metadata": {},
   "outputs": [
    {
     "data": {
      "text/markdown": [
       "```html\n",
       "<details open hx-swap=\"outerHTML\">\n",
       "  <style>me ul { list-style-type:none; list-style-position: outside; padding-inline-start: 22px; margin: 0; } me .string { color: #24837b; } me .string::before { content: \"'\"; } me .string::after { content: \"'\"; } me .number { color: #ad8301; } me .true { color: blue; } me .false { color: red; } me .null { color: gray; } </style>\n",
       "<summary>Apollo astronauts</summary>\n",
       "  <ul>\n",
       "    <li>\n",
       "<span><span class=\"n\">1</span>: <span class=\"v string\">Neil Armstrong</span></span>    </li>\n",
       "    <li>\n",
       "<span><span class=\"n\">2</span>: <span class=\"v string\">Alan Bean</span></span>    </li>\n",
       "    <li>\n",
       "<span><span class=\"n\">3</span>: <span class=\"v string\">Buzz Aldrin</span></span>    </li>\n",
       "    <li>\n",
       "<details hx-get=\"/details/letters\">\n",
       "<summary>letters</summary>\n",
       "</details>    </li>\n",
       "    <li>\n",
       "<span><span class=\"n\">5</span>: <span class=\"v string\">Edgar Mitchell</span></span>    </li>\n",
       "    <li>\n",
       "<span><span class=\"n\">6</span>: <span class=\"v string\">Alan Shepard</span></span>    </li>\n",
       "  </ul>\n",
       "</details>\n",
       "```"
      ],
      "text/plain": [
       "details(('\\n', style(('me ul { list-style-type:none; list-style-position: outside; padding-inline-start: 22px; margin: 0; } me .string { color: #24837b; } me .string::before { content: \"\\'\"; } me .string::after { content: \"\\'\"; } me .number { color: #ad8301; } me .true { color: blue; } me .false { color: red; } me .null { color: gray; } ',),{}), summary(('Apollo astronauts',),{}), '\\n', ul((li((span((span(('1',),{'class': 'n'}), ': ', span(('Neil Armstrong',),{'class': 'v string'})),{}),),{}), li((span((span(('2',),{'class': 'n'}), ': ', span(('Alan Bean',),{'class': 'v string'})),{}),),{}), li((span((span(('3',),{'class': 'n'}), ': ', span(('Buzz Aldrin',),{'class': 'v string'})),{}),),{}), li((details(('\\n', summary(('letters',),{}), '\\n'),{'hx-get': '/details/letters'}),),{}), li((span((span(('5',),{'class': 'n'}), ': ', span(('Edgar Mitchell',),{'class': 'v string'})),{}),),{}), li((span((span(('6',),{'class': 'n'}), ': ', span(('Alan Shepard',),{'class': 'v string'})),{}),),{})),{})),{'open': True, 'hx-swap': 'outerHTML'})"
      ]
     },
     "metadata": {},
     "output_type": "display_data"
    }
   ],
   "source": [
    "brt.app.routes.clear()\n",
    "bridge_cfg.auto_show = False\n",
    "\n",
    "dtl = DetailsJSON({\n",
    "    '1': 'Neil Armstrong', '2': 'Alan Bean', '3': 'Buzz Aldrin',\n",
    "    'letters': { 'a': 1, 'b': True, 'c': {'d': None} },\n",
    "    '5': 'Edgar Mitchell', '6': 'Alan Shepard'\n",
    "}, summary='Apollo astronauts')\n",
    "\n",
    "brt.mount(dtl, '/details', 'details', show=False)\n",
    "\n",
    "test_eq(dtl.ar.name(), 'details')\n",
    "test_eq(app.url_path_for('details:get', dp=''), '/details/')\n",
    "test_eq(app.url_path_for('details:get', dp='letters'), '/details/letters')\n",
    "\n",
    "dtl()\n"
   ]
  },
  {
   "cell_type": "code",
   "execution_count": 17,
   "metadata": {},
   "outputs": [
    {
     "data": {
      "text/markdown": [
       "```html\n",
       "<details open><summary>c</summary>\n",
       "  <ul>\n",
       "    <li>\n",
       "<span><span class=\"n\">d</span>: <span class=\"v null\">None</span></span>    </li>\n",
       "  </ul>\n",
       "</details>\n",
       "```"
      ],
      "text/plain": [
       "details((summary(('c',),{}), '\\n', ul((li((span((span(('d',),{'class': 'n'}), ': ', span(('None',),{'class': 'v null'})),{}),),{}),),{})),{'open': True})"
      ]
     },
     "metadata": {},
     "output_type": "display_data"
    }
   ],
   "source": [
    "dtl('letters/c')\n"
   ]
  },
  {
   "cell_type": "code",
   "execution_count": 18,
   "metadata": {},
   "outputs": [
    {
     "data": {
      "text/html": [
       "<pre style=\"white-space:pre;overflow-x:auto;line-height:normal;font-family:Menlo,'DejaVu Sans Mono',consolas,'Courier New',monospace\"><span style=\"font-weight: bold\">&lt;</span><span style=\"color: #ff00ff; text-decoration-color: #ff00ff; font-weight: bold\">details</span><span style=\"color: #000000; text-decoration-color: #000000\"> open&gt;&lt;summary&gt;c&lt;</span><span style=\"color: #800080; text-decoration-color: #800080\">/</span><span style=\"color: #ff00ff; text-decoration-color: #ff00ff\">summary</span><span style=\"color: #000000; text-decoration-color: #000000\">&gt;</span>\n",
       "<span style=\"color: #000000; text-decoration-color: #000000\">   &lt;ul&gt;</span>\n",
       "<span style=\"color: #000000; text-decoration-color: #000000\">     &lt;li&gt;</span>\n",
       "<span style=\"color: #000000; text-decoration-color: #000000\">&lt;span&gt;&lt;span </span><span style=\"color: #808000; text-decoration-color: #808000\">class</span><span style=\"color: #000000; text-decoration-color: #000000\">=</span><span style=\"color: #008000; text-decoration-color: #008000\">\"n\"</span><span style=\"color: #000000; text-decoration-color: #000000\">&gt;d&lt;</span><span style=\"color: #800080; text-decoration-color: #800080\">/</span><span style=\"color: #ff00ff; text-decoration-color: #ff00ff\">span</span><span style=\"color: #000000; text-decoration-color: #000000\">&gt;: &lt;span </span><span style=\"color: #808000; text-decoration-color: #808000\">class</span><span style=\"color: #000000; text-decoration-color: #000000\">=</span><span style=\"color: #008000; text-decoration-color: #008000\">\"v null\"</span><span style=\"color: #000000; text-decoration-color: #000000\">&gt;</span><span style=\"color: #800080; text-decoration-color: #800080; font-style: italic\">None</span><span style=\"color: #000000; text-decoration-color: #000000\">&lt;</span><span style=\"color: #800080; text-decoration-color: #800080\">/</span><span style=\"color: #ff00ff; text-decoration-color: #ff00ff\">span</span><span style=\"color: #000000; text-decoration-color: #000000\">&gt;&lt;</span><span style=\"color: #800080; text-decoration-color: #800080\">/</span><span style=\"color: #ff00ff; text-decoration-color: #ff00ff\">span</span><span style=\"color: #000000; text-decoration-color: #000000\">&gt;     &lt;</span><span style=\"color: #800080; text-decoration-color: #800080\">/</span><span style=\"color: #ff00ff; text-decoration-color: #ff00ff\">li</span><span style=\"color: #000000; text-decoration-color: #000000\">&gt;</span>\n",
       "<span style=\"color: #000000; text-decoration-color: #000000\">   &lt;</span><span style=\"color: #800080; text-decoration-color: #800080\">/</span><span style=\"color: #ff00ff; text-decoration-color: #ff00ff\">ul</span><span style=\"color: #000000; text-decoration-color: #000000\">&gt;</span>\n",
       "<span style=\"color: #000000; text-decoration-color: #000000\">&lt;</span><span style=\"color: #800080; text-decoration-color: #800080\">/</span><span style=\"color: #ff00ff; text-decoration-color: #ff00ff\">details</span><span style=\"font-weight: bold\">&gt;</span>\n",
       "</pre>\n"
      ],
      "text/plain": [
       "\u001b[1m<\u001b[0m\u001b[1;95mdetails\u001b[0m\u001b[39m open><summary>c<\u001b[0m\u001b[35m/\u001b[0m\u001b[95msummary\u001b[0m\u001b[39m>\u001b[0m\n",
       "\u001b[39m   <ul>\u001b[0m\n",
       "\u001b[39m     <li>\u001b[0m\n",
       "\u001b[39m<span><span \u001b[0m\u001b[33mclass\u001b[0m\u001b[39m=\u001b[0m\u001b[32m\"n\"\u001b[0m\u001b[39m>d<\u001b[0m\u001b[35m/\u001b[0m\u001b[95mspan\u001b[0m\u001b[39m>: <span \u001b[0m\u001b[33mclass\u001b[0m\u001b[39m=\u001b[0m\u001b[32m\"v\u001b[0m\u001b[32m null\"\u001b[0m\u001b[39m>\u001b[0m\u001b[3;35mNone\u001b[0m\u001b[39m<\u001b[0m\u001b[35m/\u001b[0m\u001b[95mspan\u001b[0m\u001b[39m><\u001b[0m\u001b[35m/\u001b[0m\u001b[95mspan\u001b[0m\u001b[39m>     <\u001b[0m\u001b[35m/\u001b[0m\u001b[95mli\u001b[0m\u001b[39m>\u001b[0m\n",
       "\u001b[39m   <\u001b[0m\u001b[35m/\u001b[0m\u001b[95mul\u001b[0m\u001b[39m>\u001b[0m\n",
       "\u001b[39m<\u001b[0m\u001b[35m/\u001b[0m\u001b[95mdetails\u001b[0m\u001b[1m>\u001b[0m\n"
      ]
     },
     "metadata": {},
     "output_type": "display_data"
    }
   ],
   "source": [
    "# cprint(brt.cli.get('/details/letters', headers={'hx-request': '1'}).text)\n",
    "cprint(brt.cli.get('/details/letters/c', headers={'hx-request': '1'}).text)\n"
   ]
  },
  {
   "cell_type": "code",
   "execution_count": 19,
   "metadata": {},
   "outputs": [
    {
     "data": {
      "text/html": [
       "<details open hx-swap=\"outerHTML\">\n",
       "  <style>me ul { list-style-type:none; list-style-position: outside; padding-inline-start: 22px; margin: 0; } me .string { color: #24837b; } me .string::before { content: \"'\"; } me .string::after { content: \"'\"; } me .number { color: #ad8301; } me .true { color: blue; } me .false { color: red; } me .null { color: gray; } </style>\n",
       "<summary>Apollo astronauts</summary>\n",
       "  <ul>\n",
       "    <li>\n",
       "<span><span class=\"n\">1</span>: <span class=\"v string\">Neil Armstrong</span></span>    </li>\n",
       "    <li>\n",
       "<span><span class=\"n\">2</span>: <span class=\"v string\">Alan Bean</span></span>    </li>\n",
       "    <li>\n",
       "<span><span class=\"n\">3</span>: <span class=\"v string\">Buzz Aldrin</span></span>    </li>\n",
       "    <li>\n",
       "<details hx-get=\"/details/letters\">\n",
       "<summary>letters</summary>\n",
       "</details>    </li>\n",
       "    <li>\n",
       "<span><span class=\"n\">5</span>: <span class=\"v string\">Edgar Mitchell</span></span>    </li>\n",
       "    <li>\n",
       "<span><span class=\"n\">6</span>: <span class=\"v string\">Alan Shepard</span></span>    </li>\n",
       "  </ul>\n",
       "</details>"
      ],
      "text/plain": [
       "details(('\\n', style(('me ul { list-style-type:none; list-style-position: outside; padding-inline-start: 22px; margin: 0; } me .string { color: #24837b; } me .string::before { content: \"\\'\"; } me .string::after { content: \"\\'\"; } me .number { color: #ad8301; } me .true { color: blue; } me .false { color: red; } me .null { color: gray; } ',),{}), summary(('Apollo astronauts',),{}), '\\n', ul((li((span((span(('1',),{'class': 'n'}), ': ', span(('Neil Armstrong',),{'class': 'v string'})),{}),),{}), li((span((span(('2',),{'class': 'n'}), ': ', span(('Alan Bean',),{'class': 'v string'})),{}),),{}), li((span((span(('3',),{'class': 'n'}), ': ', span(('Buzz Aldrin',),{'class': 'v string'})),{}),),{}), li((details(('\\n', summary(('letters',),{}), '\\n'),{'hx-get': '/details/letters'}),),{}), li((span((span(('5',),{'class': 'n'}), ': ', span(('Edgar Mitchell',),{'class': 'v string'})),{}),),{}), li((span((span(('6',),{'class': 'n'}), ': ', span(('Alan Shepard',),{'class': 'v string'})),{}),),{})),{})),{'open': True, 'hx-swap': 'outerHTML'})"
      ]
     },
     "metadata": {},
     "output_type": "display_data"
    }
   ],
   "source": [
    "bridge_cfg.auto_show = True\n",
    "dtl()"
   ]
  },
  {
   "cell_type": "code",
   "execution_count": 20,
   "metadata": {},
   "outputs": [
    {
     "data": {
      "text/html": [
       "<details open hx-swap=\"outerHTML\">\n",
       "   <style>me ul { list-style-type:none; list-style-position: outside; padding-inline-start: 22px; margin: 0; } me .string { color: #24837b; } me .string::before { content: \"'\"; } me .string::after { content: \"'\"; } me .number { color: #ad8301; } me .true { color: blue; } me .false { color: red; } me .null { color: gray; } </style>\n",
       "<summary>Apollo astronauts</summary>\n",
       "   <ul>\n",
       "     <li>\n",
       "<span><span class=\"n\">1</span>: <span class=\"v string\">Neil Armstrong</span></span>     </li>\n",
       "     <li>\n",
       "<span><span class=\"n\">2</span>: <span class=\"v string\">Alan Bean</span></span>     </li>\n",
       "     <li>\n",
       "<span><span class=\"n\">3</span>: <span class=\"v string\">Buzz Aldrin</span></span>     </li>\n",
       "     <li>\n",
       "<details hx-get=\"/details/letters\">\n",
       "<summary>letters</summary>\n",
       "</details>     </li>\n",
       "     <li>\n",
       "<span><span class=\"n\">5</span>: <span class=\"v string\">Edgar Mitchell</span></span>     </li>\n",
       "     <li>\n",
       "<span><span class=\"n\">6</span>: <span class=\"v string\">Alan Shepard</span></span>     </li>\n",
       "   </ul>\n",
       "</details><brt-mark id=\"b1b6a268c-5fc5f7e2-92fc2e6d-d5189fec\"></brt-mark>"
      ],
      "text/plain": [
       "<IPython.core.display.HTML object>"
      ]
     },
     "metadata": {},
     "output_type": "display_data"
    }
   ],
   "source": [
    "brt('/details/');"
   ]
  },
  {
   "cell_type": "code",
   "execution_count": 21,
   "metadata": {},
   "outputs": [
    {
     "data": {
      "text/html": [
       "<details open hx-swap=\"outerHTML\">\n",
       "  <style>me ul { list-style-type:none; list-style-position: outside; padding-inline-start: 22px; margin: 0; } me .string { color: #24837b; } me .string::before { content: \"'\"; } me .string::after { content: \"'\"; } me .number { color: #ad8301; } me .true { color: blue; } me .false { color: red; } me .null { color: gray; } </style>\n",
       "<summary>Apollo astronauts</summary>\n",
       "  <ul>\n",
       "    <li>\n",
       "<details hx-get=\"/DetailsJSON_6308687904/Apollo 7\">\n",
       "<summary>Apollo 7</summary>\n",
       "</details>    </li>\n",
       "    <li>\n",
       "<details hx-get=\"/DetailsJSON_6308687904/Apollo 8\">\n",
       "<summary>Apollo 8</summary>\n",
       "</details>    </li>\n",
       "    <li>\n",
       "<details hx-get=\"/DetailsJSON_6308687904/Apollo 9\">\n",
       "<summary>Apollo 9</summary>\n",
       "</details>    </li>\n",
       "    <li>\n",
       "<details hx-get=\"/DetailsJSON_6308687904/Apollo 10\">\n",
       "<summary>Apollo 10</summary>\n",
       "</details>    </li>\n",
       "    <li>\n",
       "<details hx-get=\"/DetailsJSON_6308687904/Apollo 11\">\n",
       "<summary>Apollo 11</summary>\n",
       "</details>    </li>\n",
       "    <li>\n",
       "<details hx-get=\"/DetailsJSON_6308687904/Apollo 12\">\n",
       "<summary>Apollo 12</summary>\n",
       "</details>    </li>\n",
       "    <li>\n",
       "<details hx-get=\"/DetailsJSON_6308687904/Apollo 13\">\n",
       "<summary>Apollo 13</summary>\n",
       "</details>    </li>\n",
       "    <li>\n",
       "<details hx-get=\"/DetailsJSON_6308687904/Apollo 14\">\n",
       "<summary>Apollo 14</summary>\n",
       "</details>    </li>\n",
       "    <li>\n",
       "<details hx-get=\"/DetailsJSON_6308687904/Apollo 15\">\n",
       "<summary>Apollo 15</summary>\n",
       "</details>    </li>\n",
       "    <li>\n",
       "<details hx-get=\"/DetailsJSON_6308687904/Apollo 16\">\n",
       "<summary>Apollo 16</summary>\n",
       "</details>    </li>\n",
       "    <li>\n",
       "<details hx-get=\"/DetailsJSON_6308687904/Apollo 17\">\n",
       "<summary>Apollo 17</summary>\n",
       "</details>    </li>\n",
       "  </ul>\n",
       "</details><brt-mark id=\"b3075d338-93ccdaf0-e74d29c0-bbf79267\"></brt-mark>"
      ],
      "text/plain": [
       "<IPython.core.display.HTML object>"
      ]
     },
     "metadata": {},
     "output_type": "display_data"
    }
   ],
   "source": [
    "bridge_cfg.auto_mount = True\n",
    "\n",
    "apollo_astronauts = json.load(Path('static/apollo_astronauts.json').open())\n",
    "\n",
    "(astro := DetailsJSON(apollo_astronauts, summary='Apollo astronauts'))\n"
   ]
  },
  {
   "cell_type": "code",
   "execution_count": 22,
   "metadata": {},
   "outputs": [],
   "source": [
    "request = {\n",
    "    'headers': {\n",
    "        'HX-Request': 'true',\n",
    "        'HX-Current-URL': 'vscode-webview://1ql27...enderer'\n",
    "    },\n",
    "    'headerNames': {\n",
    "        'hx-request': 'HX-Request',\n",
    "        'hx-current-url': 'HX-Current-URL'\n",
    "    },\n",
    "    'status': 0,\n",
    "    'method': 'GET',\n",
    "    'url': '/DetailsJSON_5096628128/Apollo 11/Buzz Aldrin',\n",
    "    'async': True,\n",
    "    'timeout': 0,\n",
    "    'withCredentials': False,\n",
    "    'body': None,\n",
    "    'req_id': '68ffadb0-958d-4346-b314-d9d62ca247d7'\n",
    "}\n",
    "\n",
    "response = {\n",
    "    'headers': {\n",
    "        'content-length': '441',\n",
    "        'content-type': 'text/html; charset=utf-8',\n",
    "        'last-modified': 'Fri, 15 Nov 2024 16:22:15 GMT',\n",
    "        'cache-control': 'no-store, no-cache, must-revalidate'\n",
    "    },\n",
    "    'status': 200,\n",
    "    'statusText': 'OK',\n",
    "    'data': '<details open><summary>Buzz Aldrin</summary>\\n   <ul>\\n     '\n",
    "'<li>Pilot on Gemini 12 and Lunar Module pilot on Apollo 11.</li>\\n     '\n",
    "'<li>Aldrin was the second person to walk on the moon.</li>\\n     <li>The maiden '\n",
    "'name of Aldrin&#x27;s mother was &quot;Moon.&quot;</li>\\n     <li>While Neil was '\n",
    "'the first human to step onto the moon, I&#x27;m the first alien from another '\n",
    "'world to enter a spacecraft that was going to Earth.</li>\\n   '\n",
    "'</ul>\\n</details>',\n",
    "    'xml': None,\n",
    "    'finalUrl': 'http://nb/DetailsJSON_5096628128/Apollo%2011/Buzz%20Aldrin',\n",
    "    'req_id': '68ffadb0-958d-4346-b314-d9d62ca247d7'\n",
    "}"
   ]
  },
  {
   "cell_type": "code",
   "execution_count": 23,
   "metadata": {},
   "outputs": [
    {
     "data": {
      "text/html": [
       "<details open hx-swap=\"outerHTML\">\n",
       "  <style>me ul { list-style-type:none; list-style-position: outside; padding-inline-start: 22px; margin: 0; } me .string { color: #24837b; } me .string::before { content: \"'\"; } me .string::after { content: \"'\"; } me .number { color: #ad8301; } me .true { color: blue; } me .false { color: red; } me .null { color: gray; } </style>\n",
       "<summary>request</summary>\n",
       "  <ul>\n",
       "    <li>\n",
       "<details open><summary>headers</summary>\n",
       "        <ul>\n",
       "          <li>\n",
       "<span><span class=\"n\">HX-Request</span>: <span class=\"v string\">true</span></span>          </li>\n",
       "          <li>\n",
       "<span><span class=\"n\">HX-Current-URL</span>: <span class=\"v string\">vscode-webview://1ql27...enderer</span></span>          </li>\n",
       "        </ul>\n",
       "</details>    </li>\n",
       "    <li>\n",
       "<details open><summary>headerNames</summary>\n",
       "        <ul>\n",
       "          <li>\n",
       "<span><span class=\"n\">hx-request</span>: <span class=\"v string\">HX-Request</span></span>          </li>\n",
       "          <li>\n",
       "<span><span class=\"n\">hx-current-url</span>: <span class=\"v string\">HX-Current-URL</span></span>          </li>\n",
       "        </ul>\n",
       "</details>    </li>\n",
       "    <li>\n",
       "<span><span class=\"n\">status</span>: <span class=\"v number\">0</span></span>    </li>\n",
       "    <li>\n",
       "<span><span class=\"n\">method</span>: <span class=\"v string\">GET</span></span>    </li>\n",
       "    <li>\n",
       "<span><span class=\"n\">url</span>: <span class=\"v string\">/DetailsJSON_5096628128/Apollo 11/Buzz Aldrin</span></span>    </li>\n",
       "    <li>\n",
       "<span><span class=\"n\">async</span>: <span class=\"v true\">True</span></span>    </li>\n",
       "    <li>\n",
       "<span><span class=\"n\">timeout</span>: <span class=\"v number\">0</span></span>    </li>\n",
       "    <li>\n",
       "<span><span class=\"n\">withCredentials</span>: <span class=\"v false\">False</span></span>    </li>\n",
       "    <li>\n",
       "<span><span class=\"n\">body</span>: <span class=\"v null\">None</span></span>    </li>\n",
       "    <li>\n",
       "<span><span class=\"n\">req_id</span>: <span class=\"v string\">68ffadb0-958d-4346-b314-d9d62ca247d7</span></span>    </li>\n",
       "  </ul>\n",
       "</details><brt-mark id=\"b0b761509-562231eb-ddb6013d-64bcd848\"></brt-mark>"
      ],
      "text/plain": [
       "<IPython.core.display.HTML object>"
      ]
     },
     "metadata": {},
     "output_type": "display_data"
    }
   ],
   "source": [
    "(req := DetailsJSON(request, summary='request', open='all'))\n"
   ]
  },
  {
   "cell_type": "code",
   "execution_count": 24,
   "metadata": {},
   "outputs": [
    {
     "data": {
      "text/html": [
       "<details open hx-swap=\"outerHTML\">\n",
       "  <style>me ul { list-style-type:none; list-style-position: outside; padding-inline-start: 22px; margin: 0; } me .string { color: #24837b; } me .string::before { content: \"'\"; } me .string::after { content: \"'\"; } me .number { color: #ad8301; } me .true { color: blue; } me .false { color: red; } me .null { color: gray; } </style>\n",
       "<summary>response</summary>\n",
       "  <ul>\n",
       "    <li>\n",
       "<details hx-get=\"/DetailsJSON_6327827008/headers\">\n",
       "<summary>headers</summary>\n",
       "</details>    </li>\n",
       "    <li>\n",
       "<span><span class=\"n\">status</span>: <span class=\"v number\">200</span></span>    </li>\n",
       "    <li>\n",
       "<span><span class=\"n\">statusText</span>: <span class=\"v string\">OK</span></span>    </li>\n",
       "    <li>\n",
       "<span><span class=\"n\">data</span>: <span class=\"v string\">&lt;details open&gt;&lt;summary&gt;Buzz Aldrin&lt;/summary&gt;\n",
       "   &lt;ul&gt;\n",
       "     &lt;li&gt;Pilot on Gemini 12 and Lunar Module pilot on Apollo 11.&lt;/li&gt;\n",
       "     &lt;li&gt;Aldrin was the second person to walk on the moon.&lt;/li&gt;\n",
       "     &lt;li&gt;The maiden name of Aldrin&amp;#x27;s mother was &amp;quot;Moon.&amp;quot;&lt;/li&gt;\n",
       "     &lt;li&gt;While Neil was the first human to step onto the moon, I&amp;#x27;m the first alien from another world to enter a spacecraft that was going to Earth.&lt;/li&gt;\n",
       "   &lt;/ul&gt;\n",
       "&lt;/details&gt;</span></span>    </li>\n",
       "    <li>\n",
       "<span><span class=\"n\">xml</span>: <span class=\"v null\">None</span></span>    </li>\n",
       "    <li>\n",
       "<span><span class=\"n\">finalUrl</span>: <span class=\"v string\">http://nb/DetailsJSON_5096628128/Apollo%2011/Buzz%20Aldrin</span></span>    </li>\n",
       "    <li>\n",
       "<span><span class=\"n\">req_id</span>: <span class=\"v string\">68ffadb0-958d-4346-b314-d9d62ca247d7</span></span>    </li>\n",
       "  </ul>\n",
       "</details><brt-mark id=\"b3f1f0555-ddee2b85-730fb4a5-0f0e1c49\"></brt-mark>"
      ],
      "text/plain": [
       "<IPython.core.display.HTML object>"
      ]
     },
     "metadata": {},
     "output_type": "display_data"
    }
   ],
   "source": [
    "(resp := DetailsJSON(response, summary='response'))\n"
   ]
  },
  {
   "cell_type": "markdown",
   "metadata": {},
   "source": [
    "# Colophon\n",
    "----\n"
   ]
  },
  {
   "cell_type": "code",
   "execution_count": 25,
   "metadata": {},
   "outputs": [],
   "source": [
    "import fastcore.all as FC\n",
    "import nbdev\n",
    "from nbdev.clean import nbdev_clean\n"
   ]
  },
  {
   "cell_type": "code",
   "execution_count": null,
   "metadata": {},
   "outputs": [],
   "source": [
    "if FC.IN_NOTEBOOK:\n",
    "    nb_path = '40_details_json.ipynb'\n",
    "    # nbdev_clean(nb_path)\n",
    "    nbdev.nbdev_export(nb_path)\n"
   ]
  }
 ],
 "metadata": {
  "kernelspec": {
   "display_name": "python3",
   "language": "python",
   "name": "python3"
  },
  "language_info": {
   "codemirror_mode": {
    "name": "ipython",
    "version": 3
   },
   "file_extension": ".py",
   "mimetype": "text/x-python",
   "name": "python",
   "nbconvert_exporter": "python",
   "pygments_lexer": "ipython3",
   "version": "3.12.7"
  }
 },
 "nbformat": 4,
 "nbformat_minor": 2
}
