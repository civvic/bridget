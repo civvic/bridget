{
 "cells": [
  {
   "cell_type": "code",
   "execution_count": 1,
   "id": "8ddd3a31",
   "metadata": {
    "brd": {
     "id": "f44ec23f-07ca-4506-b1f5-5fbd13983ed2"
    }
   },
   "outputs": [],
   "source": [
    "#| default_exp bridge_plugins"
   ]
  },
  {
   "cell_type": "code",
   "execution_count": 2,
   "id": "3d53772c",
   "metadata": {
    "brd": {
     "id": "138bd88f-b6f4-4543-a16f-4e17fc49f923"
    }
   },
   "outputs": [],
   "source": [
    "#| export\n",
    "from __future__ import annotations"
   ]
  },
  {
   "cell_type": "markdown",
   "id": "fd6ba8ec",
   "metadata": {},
   "source": [
    "# Bridge plugins\n",
    "> More examples of bridge plugins.\n",
    "\n",
    "* Python wrapper of HTMX API.\n",
    "* NBHooks wrapping notebook hooks.\n",
    "* ZeroMD for markdown rendering.\n",
    "\n",
    "Here I use pure python/IPython facilities to help us control, inspect and modify cell outputs.   \n",
    "In subsequent notebooks I'll add more facilities to help us capture the current state of the notebook (21_nbstate.ipynb) and make the link bidirectional (32_bridget.ipynb)."
   ]
  },
  {
   "cell_type": "markdown",
   "id": "2faa5d82",
   "metadata": {},
   "source": [
    "# Prologue"
   ]
  },
  {
   "cell_type": "code",
   "execution_count": 3,
   "id": "fde7697a",
   "metadata": {
    "brd": {
     "id": "3ce1b5cc-ca6c-4913-9b9f-680cd7c8d707"
    }
   },
   "outputs": [],
   "source": [
    "#| export\n",
    "from typing import Literal\n",
    "from typing import TypeAlias\n",
    "\n",
    "import fastcore.all as FC\n",
    "import traitlets as T\n",
    "from fastcore.xml import to_xml\n",
    "from fasthtml.core import FT\n",
    "from fasthtml.xtend import Script\n",
    "from IPython.display import DisplayHandle\n",
    "from olio.basic import bundle_path\n",
    "from olio.common import update_\n",
    "from traitlets import Any\n"
   ]
  },
  {
   "cell_type": "code",
   "execution_count": 4,
   "id": "c1c9abcc",
   "metadata": {
    "brd": {
     "id": "5963f4b7-f271-4e98-8639-c4a6ca8a2e70"
    }
   },
   "outputs": [],
   "source": [
    "#| export\n",
    "import bridget.fasthtml_patching\n",
    "import bridget.nb_hooks\n",
    "from bridget.bridge import BridgePlugin\n",
    "from bridget.bridge import BridgeWidget\n",
    "from bridget.bridge import debug\n",
    "from bridget.bridge_widget import anysource\n",
    "from bridget.bridge_widget import bundled\n",
    "from bridget.helpers import id_gen\n",
    "from bridget.nb_hooks import get_bridged\n",
    "from bridget.nb_hooks import get_capturer\n",
    "from bridget.nb_hooks import get_csi\n",
    "from bridget.nb_hooks import get_nb_from_hooks\n"
   ]
  },
  {
   "cell_type": "code",
   "execution_count": 5,
   "id": "7f25d61a",
   "metadata": {
    "brd": {
     "id": "eb356ca4-a6c5-4d1a-87ac-7c89685c12a2"
    }
   },
   "outputs": [],
   "source": [
    "import inspect\n",
    "import os\n",
    "import random\n",
    "\n",
    "import fasthtml.components as ft\n",
    "from fastcore.test import *\n",
    "from fasthtml.components import highlight\n",
    "from fasthtml.components import showtags\n",
    "from fasthtml.core import fh_cfg\n",
    "from IPython.display import display\n",
    "from IPython.display import Image\n",
    "from IPython.display import JSON\n",
    "from IPython.display import Markdown\n",
    "from olio.common import AD\n",
    "from olio.common import setup_console\n",
    "from olio.common import shorten\n",
    "from olio.common import shortens\n",
    "from olio.widget import cleanupwidgets\n"
   ]
  },
  {
   "cell_type": "code",
   "execution_count": 6,
   "id": "c0a3c688",
   "metadata": {
    "brd": {
     "id": "e294b664-e9aa-4e21-bacf-5a95f4818bd3"
    }
   },
   "outputs": [],
   "source": [
    "from bridget.bridge import BLogger\n",
    "from bridget.bridge import get_bridge\n",
    "from bridget.bridge import ScriptsDetails\n",
    "from bridget.bridge_widget import _show\n",
    "from bridget.bridge_widget import ablocks\n",
    "from bridget.bridge_widget import blocks\n",
    "from bridget.helpers import bridge_cfg\n",
    "from bridget.helpers import DEBUG\n",
    "from bridget.helpers import DetailsJSON\n",
    "from bridget.helpers import displaydh\n",
    "from bridget.helpers import HTML\n",
    "from bridget.nb import NB\n"
   ]
  },
  {
   "cell_type": "code",
   "execution_count": 7,
   "id": "c75fdff8",
   "metadata": {
    "brd": {
     "id": "f1324306-eb76-4335-b455-1fc346721881"
    }
   },
   "outputs": [],
   "source": [
    "from fasthtml.components import Div, P, Pre, Text, Span, show, B, Details, Summary, Pre, A, Br"
   ]
  },
  {
   "cell_type": "markdown",
   "id": "c48115ef",
   "metadata": {},
   "source": [
    "----\n"
   ]
  },
  {
   "cell_type": "code",
   "execution_count": 8,
   "id": "4133ee69",
   "metadata": {
    "brd": {
     "id": "601f556c-ec54-4105-8251-316cfda0192a"
    }
   },
   "outputs": [],
   "source": [
    "# hate stupid wiggly reds\n",
    "__cellinfo__:AD\n",
    "__lastcellinfo__:AD\n",
    "__nb__: NB"
   ]
  },
  {
   "cell_type": "code",
   "execution_count": 9,
   "id": "d5193d7f",
   "metadata": {
    "brd": {
     "id": "5d5f06fa-1988-4fb5-adad-449022b525c8"
    }
   },
   "outputs": [],
   "source": [
    "os.environ['DEBUG_BRIDGET'] = 'True'"
   ]
  },
  {
   "cell_type": "code",
   "execution_count": 10,
   "id": "3c12cfa7",
   "metadata": {
    "brd": {
     "id": "f25b9033-830f-484b-a1fc-0412c04c534a"
    }
   },
   "outputs": [],
   "source": [
    "#| exporti\n",
    "\n",
    "BUNDLE_PATH = bundle_path(__name__)\n",
    "new_id = id_gen()\n",
    "_n = '\\n'"
   ]
  },
  {
   "cell_type": "code",
   "execution_count": 11,
   "id": "3080a469",
   "metadata": {
    "brd": {
     "id": "0685e002-c1f4-4144-b323-27197d87041e"
    }
   },
   "outputs": [
    {
     "name": "stdout",
     "output_type": "stream",
     "text": [
      "DEBUG()=True\n"
     ]
    },
    {
     "data": {
      "text/html": [
       "<style>details ul { list-style-type:none; list-style-position: outside; padding-inline-start: 22px; margin: 0; } details .string { color: #24837b; } details .string::before { content: \"'\"; } details .string::after { content: \"'\"; } details .number { color: #ad8301; } details .true { color: blue; } details .false { color: red; } details .null { color: gray; } span.n { color: darkgrey; } </style>\n",
       "<details open><summary>summary\n",
       "</summary>  <ul>\n",
       "    <li>\n",
       "<span><span class=\"n\">auto_show</span>: <span class=\"v true\">True</span></span>    </li>\n",
       "    <li>\n",
       "<span><span class=\"n\">auto_mount</span>: <span class=\"v false\">False</span></span>    </li>\n",
       "    <li>\n",
       "<span><span class=\"n\">auto_id</span>: <span class=\"v false\">False</span></span>    </li>\n",
       "    <li>\n",
       "<span><span class=\"n\">bundle_cfg</span>: <span class=\"v \">{&#x27;out_dir&#x27;: [Path(&#x27;/Users/vic/dev/repo/project/bridget/bridget/js&#x27;)], &#x27;rewrite_imports&#x27;: True, &#x27;import_name&#x27;: &#x27;brdimport&#x27;}</span></span>    </li>\n",
       "    <li>\n",
       "<span><span class=\"n\">bootstrap</span>: <span class=\"v false\">False</span></span>    </li>\n",
       "    <li>\n",
       "<span><span class=\"n\">current_did</span>: <span class=\"v null\">None</span></span>    </li>\n",
       "  </ul>\n",
       "</details>"
      ],
      "text/plain": [
       "<IPython.core.display.HTML object>"
      ]
     },
     "metadata": {},
     "output_type": "display_data"
    }
   ],
   "source": [
    "console, cprint = setup_console(140)\n",
    "print(f\"{DEBUG()=}\")\n",
    "bridge_cfg.auto_show=True\n",
    "show(DetailsJSON(bridge_cfg.as_dict()))"
   ]
  },
  {
   "cell_type": "code",
   "execution_count": 12,
   "id": "0a59eeeb",
   "metadata": {
    "brd": {
     "id": "dc14e3e2-cd70-4f3d-87d2-6877c3d9a735"
    }
   },
   "outputs": [
    {
     "name": "stdout",
     "output_type": "stream",
     "text": [
      "env: ANYWIDGET_HMR=0\n"
     ]
    }
   ],
   "source": [
    "%env ANYWIDGET_HMR=0"
   ]
  },
  {
   "cell_type": "markdown",
   "id": "0e1922ff",
   "metadata": {},
   "source": [
    "----"
   ]
  },
  {
   "cell_type": "code",
   "execution_count": 13,
   "id": "90e36c0f",
   "metadata": {
    "brd": {
     "id": "d9940af1-1f74-4e97-b60f-f6d8cb5ebe64"
    }
   },
   "outputs": [
    {
     "name": "stdout",
     "output_type": "stream",
     "text": [
      "moduleName='./bcanvas.js' buffers=[]\n",
      "moduleName='./fcanvas.js' buffers=[]\n",
      "moduleName='./bridge.js' buffers=[]\n",
      "moduleName='./observer.js' buffers=[]\n",
      "moduleName='./commander.js' buffers=[]\n"
     ]
    },
    {
     "data": {
      "text/html": [
       "<div id='brd-logger_1-1757330719' class='brd-logger' style='width: 100%; max-height: 200px;'></div>"
      ],
      "text/plain": [
       "<bridget.helpers.HTML object>"
      ]
     },
     "metadata": {},
     "output_type": "display_data"
    }
   ],
   "source": [
    "bridge = get_bridge(show_logger=True, wait=5)"
   ]
  },
  {
   "cell_type": "code",
   "execution_count": 14,
   "id": "43ab4d77",
   "metadata": {
    "brd": {
     "id": "5dce7556-38d9-4433-8107-baf98b582d17"
    }
   },
   "outputs": [],
   "source": [
    "#| exporti\n",
    "\n",
    "commander_js = BUNDLE_PATH / 'js/commander.js'\n",
    "commander_esm = bundled(commander_js)()"
   ]
  },
  {
   "cell_type": "markdown",
   "id": "20c18592",
   "metadata": {},
   "source": [
    "# HTMX API"
   ]
  },
  {
   "cell_type": "markdown",
   "id": "75b1505b",
   "metadata": {},
   "source": [
    "### Method - `htmx.swap()` {#swap}\n",
    "\n",
    "Performs swapping (and settling) of HTML content\n",
    "\n",
    "##### Parameters\n",
    "\n",
    "* `target` - the HTML element or string selector of swap target\n",
    "* `content` - string representation of content to be swapped\n",
    "* `swapSpec` - swapping specification, representing parameters from `hx-swap`\n",
    "  * `swapStyle` (required) - swapping style (`innerHTML`, `outerHTML`, `beforebegin` etc)\n",
    "  * `swapDelay`, `settleDelay` (number) - delays before swapping and settling respectively\n",
    "  * `transition` (bool) - whether to use HTML transitions for swap\n",
    "  * `ignoreTitle` (bool) - disables page title updates\n",
    "  * `head` (string) - specifies `head` tag handling strategy (`merge` or `append`). Leave empty to disable head handling\n",
    "  * `scroll`, `scrollTarget`, `show`, `showTarget`, `focusScroll` - specifies scroll handling after swap\n",
    "* `swapOptions` - additional *optional* parameters for swapping\n",
    "  * `select` - selector for the content to be swapped (equivalent of `hx-select`)\n",
    "  * `selectOOB` - selector for the content to be swapped out-of-band (equivalent of `hx-select-oob`)\n",
    "  * `eventInfo` - an object to be attached to `htmx:afterSwap` and `htmx:afterSettle` elements\n",
    "  * `anchor` - an anchor element that triggered scroll, will be scrolled into view on settle. Provides simple alternative to full scroll handling\n",
    "  * `contextElement` - DOM element that serves as context to swapping operation. Currently used to find extensions enabled for specific element\n",
    "  * `afterSwapCallback`, `afterSettleCallback` - callback functions called after swap and settle respectively. Take no arguments\n",
    "\n",
    "\n",
    "##### Example\n",
    "\n",
    "```js\n",
    "    // swap #output element inner HTML with div element with \"Swapped!\" text\n",
    "    htmx.swap(\"#output\", \"<div>Swapped!</div>\", {swapStyle: 'innerHTML'});\n",
    "```\n"
   ]
  },
  {
   "cell_type": "code",
   "execution_count": 15,
   "id": "7714ebe2",
   "metadata": {
    "brd": {
     "id": "28661a0f-eada-47d2-bf04-3a995be17bcd"
    }
   },
   "outputs": [],
   "source": [
    "#| export\n",
    "\n",
    "SwapStyleT: TypeAlias = Literal['innerHTML','outerHTML','testContent','beforebegin','afterbegin',\n",
    "                        'beforeend','afterend','delete','none']"
   ]
  },
  {
   "cell_type": "code",
   "execution_count": 16,
   "id": "824ee3c8",
   "metadata": {
    "brd": {
     "id": "d6bc99ca-6e36-4386-bd15-d1c37df842e8"
    }
   },
   "outputs": [],
   "source": [
    "#| exporti\n",
    "\n",
    "def swap(self, \n",
    "        target, \n",
    "        content, \n",
    "        *, \n",
    "        # ---- swapSpec:SwapSpec, \n",
    "        swapStyle: SwapStyleT='innerHTML',\n",
    "        swapDelay: int|None=None, settleDelay: int|None=None,\n",
    "        transition: bool|None=None,\n",
    "        # ignoreTitle: bool|None=None, head: Literal['merge', 'append']|None=None,\n",
    "        scroll: str|None=None, scrollTarget: str|None=None,\n",
    "        show: str|None=None, showTarget: str|None=None, focusScroll: bool|None=None,\n",
    "        # ---- swapOptions=None,\n",
    "        select: str|None=None, selectOOB: str|None=None,\n",
    "        # eventInfo: dict|None=None,\n",
    "        anchor: str|None=None,        \n",
    "        # contextElement: str|None=None,\n",
    "        # afterSwapCallback: Callable|None=None, afterSettleCallback: Callable|None=None,\n",
    "    ):\n",
    "    if isinstance(content, FT): content = to_xml(content)\n",
    "    elif hasattr(content, 'to_html'): content = content.to_html()\n",
    "    d = {\n",
    "        'target': f\"#{target}\" if isinstance(target, FT) else target,\n",
    "        'content': content,\n",
    "        'swapSpec': update_(**{\n",
    "            'swapStyle': swapStyle, 'swapDelay': swapDelay, 'settleDelay': settleDelay,\n",
    "            'transition': transition,\n",
    "            # 'ignoreTitle': ignoreTitle, 'head': head,\n",
    "            'scroll': scroll, 'scrollTarget': scrollTarget,\n",
    "            'show': show, 'showTarget': showTarget, 'focusScroll': focusScroll,\n",
    "            # 'afterSwapCallback': afterSwapCallback, 'afterSettleCallback': afterSettleCallback,\n",
    "        }),\n",
    "        'swapOptions': update_(**{\n",
    "            'select': select, 'selectOOB': selectOOB,\n",
    "            # 'eventInfo': eventInfo,\n",
    "            'anchor': anchor,\n",
    "            # 'contextElement': contextElement,\n",
    "            # 'afterSwapCallback': afterSwapCallback, 'afterSettleCallback': afterSettleCallback,\n",
    "        }),\n",
    "    }\n",
    "    self.send({\n",
    "        'ctx': 'commander',\n",
    "        'cmd': 'swap',\n",
    "        'args': [*d.values()]\n",
    "    })\n"
   ]
  },
  {
   "cell_type": "markdown",
   "id": "64f693cc",
   "metadata": {},
   "source": [
    "# HTMX Commander\n",
    "> Python wrapper of HTMX API.\n",
    "\n",
    "Currently only implemented `htmx.swap()` manually. If useful, I'll automate wrappers generation from htmx docs.\n"
   ]
  },
  {
   "cell_type": "code",
   "execution_count": 17,
   "id": "efd858d6",
   "metadata": {
    "brd": {
     "id": "0f408404-fa1e-4a87-976f-94c46249728f"
    }
   },
   "outputs": [],
   "source": [
    "commander_esm = bundled(commander_js)(debugger=DEBUG(), ts=True)"
   ]
  },
  {
   "cell_type": "code",
   "execution_count": 18,
   "id": "612eb0b9",
   "metadata": {
    "brd": {
     "id": "d3e76133-6c11-4da8-91f1-e30cc5d66017"
    }
   },
   "outputs": [],
   "source": [
    "#| export\n",
    "\n",
    "class HTMXCommander(BridgeWidget):\n",
    "    _esm = anysource(commander_esm, '''\n",
    "export default { \n",
    "    async initialize({ model }) {\n",
    "        await setupCommander(model.get('output_sels'));\n",
    "        model.on(\"msg:custom\", onCommanderMsg);\n",
    "        model.set('_loaded', true); model.save_changes();\n",
    "        return () => { \n",
    "            model.off(\"msg:custom\", onCommanderMsg);\n",
    "            model.set('_loaded', false); model.save_changes(); \n",
    "        };\n",
    "    }\n",
    "};\n",
    "''')\n",
    "    \n",
    "    output_sels = T.List(['.output', '.jp-Cell-outputArea']).tag(sync=True)\n",
    "\n",
    "    ctx_name = T.Unicode('commander').tag(sync=True)\n",
    "\n",
    "    # hate stupid wiggly reds\n",
    "    def swap(self: HTMXCommander,\n",
    "        target, \n",
    "        content, \n",
    "        *, \n",
    "        # ---- swapSpec:SwapSpec, \n",
    "        swapStyle: Literal['innerHTML','outerHTML','testContent','beforebegin','afterbegin','beforeend','afterend','delete','none'],\n",
    "        swapDelay: int|None=None, settleDelay: int|None=None,\n",
    "        transition: bool|None=None,\n",
    "        # ignoreTitle: bool|None=None, head: Literal['merge', 'append']|None=None,\n",
    "        scroll: str|None=None, scrollTarget: str|None=None,\n",
    "        show: str|None=None, showTarget: str|None=None, focusScroll: bool|None=None,\n",
    "        # ---- swapOptions=None,\n",
    "        select: str|None=None, selectOOB: str|None=None,\n",
    "        # eventInfo: dict|None=None,\n",
    "        anchor: str|None=None,        \n",
    "        # contextElement: str|None=None,\n",
    "        # afterSwapCallback: Callable|None=None, afterSettleCallback: Callable|None=None,\n",
    "    ): ..."
   ]
  },
  {
   "cell_type": "code",
   "execution_count": 19,
   "id": "cee511cf",
   "metadata": {
    "brd": {
     "id": "e275aa61-1cbf-4109-9891-d04f6ae7d315"
    }
   },
   "outputs": [],
   "source": [
    "cleanupwidgets('cmdr')\n",
    "\n",
    "cmdr = HTMXCommander.create(timeout=2)#DEBUG(2))"
   ]
  },
  {
   "cell_type": "code",
   "execution_count": 20,
   "id": "5713163c",
   "metadata": {
    "brd": {
     "id": "20678461-a99c-44ca-9b75-923af44b9ffd"
    }
   },
   "outputs": [],
   "source": [
    "#| export\n",
    "\n",
    "FC.patch_to(HTMXCommander)(swap)"
   ]
  },
  {
   "cell_type": "markdown",
   "id": "bbf2f42a",
   "metadata": {},
   "source": [
    "## Test swap"
   ]
  },
  {
   "cell_type": "code",
   "execution_count": 21,
   "id": "8c9267bc",
   "metadata": {
    "brd": {
     "id": "53bcefd9-1012-4022-8e21-ae2613be4b0f"
    }
   },
   "outputs": [
    {
     "data": {
      "text/html": [
       "\n",
       "<div id=\"output-99\">Original</div>\n"
      ],
      "text/plain": [
       "<IPython.core.display.HTML object>"
      ]
     },
     "metadata": {},
     "output_type": "display_data"
    }
   ],
   "source": [
    "%%HTML\n",
    "\n",
    "<div id=\"output-99\">Original</div>"
   ]
  },
  {
   "cell_type": "code",
   "execution_count": 22,
   "id": "2525b959",
   "metadata": {
    "brd": {
     "id": "0e34f24c-af7c-474d-a60b-57f12a76941a"
    }
   },
   "outputs": [],
   "source": [
    "cmdr.swap('#output-99', '<div>Swapped!</div>', swapStyle='innerHTML')"
   ]
  },
  {
   "cell_type": "code",
   "execution_count": 23,
   "id": "f07499e1",
   "metadata": {
    "brd": {
     "id": "85c862ad-7364-43ec-927c-6cedcf151c86"
    }
   },
   "outputs": [],
   "source": [
    "cmdr.close()"
   ]
  },
  {
   "cell_type": "markdown",
   "id": "21ff8573",
   "metadata": {},
   "source": [
    "## ----\n",
    "First steps exploring automation. Skip it."
   ]
  },
  {
   "cell_type": "code",
   "execution_count": 24,
   "id": "8252ad4d",
   "metadata": {
    "brd": {
     "id": "1ea8b254-7e95-4a1e-b31c-6bd39fae69cc"
    }
   },
   "outputs": [
    {
     "name": "stdout",
     "output_type": "stream",
     "text": [
      "(target, content, *, swapStyle: 'SwapStyleT' = 'innerHTML', swapDelay: 'int | None' = None, settleDelay: 'int | None' = None, transition: 'bool | None' = None, scroll: 'str | None' = None, scrollTarget: 'str | None' = None, show: 'str | None' = None, showTarget: 'str | None' = None, focusScroll: 'bool | None' = None, select: 'str | None' = None, selectOOB: 'str | None' = None, anchor: 'str | None' = None)\n",
      "OrderedDict({'target': <Parameter \"target\">, 'content': <Parameter \"content\">, 'swapStyle': <Parameter \"swapStyle: 'SwapStyleT' = 'innerHTML'\">, 'swapDelay': <Parameter \"swapDelay: 'int | None' = None\">, 'settleDelay': <Parameter \"settleDelay: 'int | None' = None\">, 'transition': <Parameter \"transition: 'bool | None' = None\">, 'scroll': <Parameter \"scroll: 'str | None' = None\">, 'scrollTarget': <Parameter \"scrollTarget: 'str | None' = None\">, 'show': <Parameter \"show: 'str | None' = None\">, 'showTarget': <Parameter \"showTarget: 'str | None' = None\">, 'focusScroll': <Parameter \"focusScroll: 'bool | None' = None\">, 'select': <Parameter \"select: 'str | None' = None\">, 'selectOOB': <Parameter \"selectOOB: 'str | None' = None\">, 'anchor': <Parameter \"anchor: 'str | None' = None\">})\n"
     ]
    },
    {
     "data": {
      "text/plain": [
       "('swapStyle', 'innerHTML', 'SwapStyleT', <_ParameterKind.KEYWORD_ONLY: 3>)"
      ]
     },
     "execution_count": 24,
     "metadata": {},
     "output_type": "execute_result"
    }
   ],
   "source": [
    "sig = inspect.signature(cmdr.swap)\n",
    "print(sig)\n",
    "print(sig.parameters)\n",
    "target_param = sig.parameters['swapStyle']\n",
    "target_param.name, target_param.default, target_param.annotation, target_param.kind"
   ]
  },
  {
   "cell_type": "code",
   "execution_count": null,
   "id": "048b4823",
   "metadata": {},
   "outputs": [],
   "source": [
    "bb = sig.bind(target='#target', content='<content />', swapStyle='innerHTML', swapDelay=1000)\n",
    "bb.arguments, bb.signature, bb.args, bb.kwargs"
   ]
  },
  {
   "cell_type": "code",
   "execution_count": null,
   "id": "5d78376a",
   "metadata": {},
   "outputs": [],
   "source": [
    "swap_args = {\n",
    "    'target': 'target',\n",
    "    'content': 'content',\n",
    "    '*': '*',\n",
    "    'swapSpec': {\n",
    "        'swapStyle': 'swapStyle', 'swapDelay': 'swapDelay', 'settleDelay': 'settleDelay',\n",
    "        'transition': 'transition',\n",
    "        # 'ignoreTitle': 'ignoreTitle', 'head': 'head',\n",
    "        'scroll': 'scroll', 'scrollTarget': 'scrollTarget',\n",
    "        'show': 'show', 'showTarget': 'showTarget', 'focusScroll': 'focusScroll',\n",
    "        # 'afterSwapCallback': 'afterSwapCallback', 'afterSettleCallback': 'afterSettleCallback',\n",
    "    },\n",
    "    'swapOptions': {\n",
    "        'select': 'select', 'selectOOB': 'selectOOB',\n",
    "        # 'eventInfo': 'eventInfo',\n",
    "        'anchor': 'anchor',\n",
    "        # 'contextElement': 'contextElement',\n",
    "        # 'afterSwapCallback': 'afterSwapCallback', 'afterSettleCallback': 'afterSettleCallback',\n",
    "    },\n",
    "}"
   ]
  },
  {
   "cell_type": "code",
   "execution_count": null,
   "id": "19ed6335",
   "metadata": {},
   "outputs": [],
   "source": [
    "from inspect import Parameter\n",
    "\n",
    "\n",
    "swap_args = {\n",
    "    'target': Parameter('target', Parameter.POSITIONAL_OR_KEYWORD),\n",
    "    'content': Parameter('content', Parameter.POSITIONAL_OR_KEYWORD),\n",
    "    'swapSpec': {\n",
    "        'swapStyle': Parameter('swapStyle', Parameter.KEYWORD_ONLY, annotation=SwapStyleT), \n",
    "        'swapDelay': Parameter('swapDelay', Parameter.KEYWORD_ONLY), \n",
    "        'settleDelay': Parameter('settleDelay', Parameter.KEYWORD_ONLY),\n",
    "        'transition': Parameter('transition', Parameter.KEYWORD_ONLY),\n",
    "        # 'ignoreTitle': 'ignoreTitle', 'head': 'head',\n",
    "        'scroll': Parameter('scroll', Parameter.KEYWORD_ONLY), \n",
    "        'scrollTarget': Parameter('scrollTarget', Parameter.KEYWORD_ONLY),\n",
    "        'show': Parameter('show', Parameter.KEYWORD_ONLY), \n",
    "        'showTarget': Parameter('showTarget', Parameter.KEYWORD_ONLY), \n",
    "        'focusScroll': Parameter('focusScroll', Parameter.KEYWORD_ONLY),\n",
    "        # 'afterSwapCallback': 'afterSwapCallback', 'afterSettleCallback': 'afterSettleCallback',\n",
    "    },\n",
    "    'swapOptions': {\n",
    "        'select': 'select', 'selectOOB': 'selectOOB',\n",
    "        # 'eventInfo': 'eventInfo',\n",
    "        'anchor': 'anchor',\n",
    "        # 'contextElement': 'contextElement',\n",
    "        # 'afterSwapCallback': 'afterSwapCallback', 'afterSettleCallback': 'afterSettleCallback',\n",
    "    },\n",
    "}"
   ]
  },
  {
   "cell_type": "code",
   "execution_count": null,
   "id": "47d932d2",
   "metadata": {},
   "outputs": [],
   "source": [
    "def build_args_dict(args_desc: dict, *args, **kwargs) -> dict:\n",
    "    \"Builds a dictionary from args/kwargs based on an arguments descriptor\"\n",
    "    result = {}\n",
    "    \n",
    "    # Process descriptor items in order\n",
    "    for k, v in args_desc.items():\n",
    "        if isinstance(v, dict):\n",
    "            # Handle nested dictionary descriptors\n",
    "            nested = {\n",
    "                v2: kwargs.get(k2) \n",
    "                for k2, v2 in v.items() \n",
    "                if kwargs.get(k2) is not None\n",
    "            }\n",
    "            if nested: result[k] = nested\n",
    "        else:\n",
    "            # For non-dict values, first try kwargs, then fallback to positional args\n",
    "            if k in kwargs:\n",
    "                result[v] = kwargs[k]\n",
    "            elif len(args) > 0:\n",
    "                result[v] = args[0]\n",
    "                args = args[1:]\n",
    "    \n",
    "    return result\n",
    "\n",
    "\n",
    "build_args_dict(swap_args, '#target', '<content />', swapStyle='innerHTML', swapDelay=1000)"
   ]
  },
  {
   "cell_type": "markdown",
   "id": "576a01db",
   "metadata": {},
   "source": [
    "----\n",
    "# HTMXCommander plugin\n",
    "\n",
    "We can use `HTMXCommander` by itself. But probably, it'll be more useful as a bridge plugin."
   ]
  },
  {
   "cell_type": "code",
   "execution_count": 25,
   "id": "9f983c9a",
   "metadata": {
    "brd": {
     "id": "f801ae00-3865-46c4-b344-7913650f6e0c"
    }
   },
   "outputs": [],
   "source": [
    "#| export\n",
    "\n",
    "class HTMXCommanderPlugin(BridgePlugin):\n",
    "    src = bundled('''\n",
    "import { setupCommander, onCommanderMsg } from './commander.js';\n",
    "\n",
    "export default async function initializeCommander(bridge) {\n",
    "    const sels = await bridge.get('commander', 'output_sels');\n",
    "    await setupCommander(sels);\n",
    "    bridge.on(\"commander\", onCommanderMsg);\n",
    "    return () => bridge.off('commander');\n",
    "}\n",
    "''')()\n",
    "    ctx_name = 'commander'\n",
    "    output_sels = ['.output', '.jp-Cell-outputArea']\n",
    "\n",
    "    _bridge_delegates = ['swap']\n",
    "    def on_inspect(self, *args, msg:Any, tracker:Any, **kwargs):\n",
    "        self.log(f\"{self.__class__.__name__} inspect: {msg=} {tracker=}\")\n",
    "    \n",
    "    # hate stupid wiggly reds\n",
    "    def swap(self: HTMXCommanderPlugin,\n",
    "        target, \n",
    "        content, \n",
    "        *, \n",
    "        # ---- swapSpec:SwapSpec, \n",
    "        swapStyle: Literal['innerHTML','outerHTML','testContent','beforebegin','afterbegin','beforeend','afterend','delete','none'],\n",
    "        swapDelay: int|None=None, settleDelay: int|None=None,\n",
    "        transition: bool|None=None,\n",
    "        # ignoreTitle: bool|None=None, head: Literal['merge', 'append']|None=None,\n",
    "        scroll: str|None=None, scrollTarget: str|None=None,\n",
    "        show: str|None=None, showTarget: str|None=None, focusScroll: bool|None=None,\n",
    "        # ---- swapOptions=None,\n",
    "        select: str|None=None, selectOOB: str|None=None,\n",
    "        # eventInfo: dict|None=None,\n",
    "        anchor: str|None=None,        \n",
    "        # contextElement: str|None=None,\n",
    "        # afterSwapCallback: Callable|None=None, afterSettleCallback: Callable|None=None,\n",
    "    ): ...\n",
    "\n",
    "FC.patch_to(HTMXCommanderPlugin)(swap)"
   ]
  },
  {
   "cell_type": "code",
   "execution_count": 26,
   "id": "5492b1b7",
   "metadata": {
    "brd": {
     "id": "4e323c1a-c221-41c4-b42f-6000ecc11af6"
    }
   },
   "outputs": [],
   "source": [
    "bridge.add_plugins((cmdr := HTMXCommanderPlugin()), wait=5)"
   ]
  },
  {
   "cell_type": "code",
   "execution_count": 27,
   "id": "c534fd37",
   "metadata": {
    "brd": {
     "id": "01a7fa87-733e-4995-9372-b50c8ca6ce16"
    }
   },
   "outputs": [
    {
     "data": {
      "text/html": [
       "<div id=\"output-9999\">Original 2</div>"
      ],
      "text/markdown": [
       "```html\n",
       "<div id=\"output-9999\">Original 2</div>\n",
       "\n",
       "```"
      ],
      "text/plain": [
       "div(('Original 2',),{'id': 'output-9999'})"
      ]
     },
     "execution_count": 27,
     "metadata": {},
     "output_type": "execute_result"
    }
   ],
   "source": [
    "(d := Div(id='output-9999')('Original 2'))"
   ]
  },
  {
   "cell_type": "code",
   "execution_count": 28,
   "id": "147ba5b5",
   "metadata": {
    "brd": {
     "id": "fbc2d1a9-9c0b-4da3-b00e-895ac9607213"
    }
   },
   "outputs": [],
   "source": [
    "cmdr.swap(d, Div('Swapped 2'), swapStyle='innerHTML')"
   ]
  },
  {
   "cell_type": "code",
   "execution_count": 29,
   "id": "7644e4b1",
   "metadata": {
    "brd": {
     "id": "57468889-0cb4-46f4-b92c-4441f46de8d8"
    }
   },
   "outputs": [],
   "source": [
    "def swap(self,*args, **kwargs): \n",
    "    bridge.commander.swap(self, *args, **kwargs)\n",
    "FC.patch_to(FT)(swap)"
   ]
  },
  {
   "cell_type": "code",
   "execution_count": 30,
   "id": "5d154326",
   "metadata": {
    "brd": {
     "id": "3b4dc310-aaf1-4e94-9bc7-9b0923aeeaef"
    }
   },
   "outputs": [
    {
     "data": {
      "text/html": [
       "<div id=\"output-99999\">Original 3</div>"
      ],
      "text/markdown": [
       "```html\n",
       "<div id=\"output-99999\">Original 3</div>\n",
       "\n",
       "```"
      ],
      "text/plain": [
       "div(('Original 3',),{'id': 'output-99999'})"
      ]
     },
     "execution_count": 30,
     "metadata": {},
     "output_type": "execute_result"
    }
   ],
   "source": [
    "div = Div(id='output-99999')('Original 3')\n",
    "div"
   ]
  },
  {
   "cell_type": "code",
   "execution_count": 31,
   "id": "b8955e91",
   "metadata": {
    "brd": {
     "id": "9793bbbb-dae4-4eb3-9e6b-9ed55e71723b"
    }
   },
   "outputs": [],
   "source": [
    "div.swap('<div>Swapped 3</div>', swapStyle='innerHTML')"
   ]
  },
  {
   "cell_type": "markdown",
   "id": "50cb6a78",
   "metadata": {},
   "source": [
    "# NBHooksPlugin\n",
    "> Python-only bridge plugin to help us inspect, control, and modify cell outputs."
   ]
  },
  {
   "cell_type": "markdown",
   "id": "9f00ecac",
   "metadata": {},
   "source": [
    "Note: in VSCode output_capture is unreliable, unfortunately, and don't play well with the debugger. Jeremy rules in almost everything programming-wise, but in this I'm more aligned with Carson: [Grug Brained Developers](https://grugbrain.dev/) need powerful (graphical, I double Grug) debuggers. How very much I would rather not use VSCode notebooks.\n",
    "\n",
    "You can switch on/off the capturer. We'll hopefully be able to develop alternatives down the road."
   ]
  },
  {
   "cell_type": "code",
   "execution_count": 32,
   "id": "de343df5",
   "metadata": {
    "brd": {
     "id": "73f6597e-5973-4c78-815f-0646d83be4ab"
    }
   },
   "outputs": [],
   "source": [
    "#| export\n",
    "\n",
    "class NBHooksPlugin(BridgePlugin):\n",
    "    ctx_name = 'nbhooks'\n",
    "    _bridge_delegates = ['dh', 'dhs']\n",
    "    def __init__(self, *args, **kwargs):\n",
    "        # Warning: ensure this is called from the main thread\n",
    "        self.csi, self.brdd, self.capturer = get_csi(True), get_bridged(True), get_capturer(True)\n",
    "        super().__init__(*args, **kwargs)\n",
    "    \n",
    "    def on_init(self, *args, info:str, **kwargs):\n",
    "        super().on_init(*args, info=info, **kwargs)\n",
    "        if self.is_initialized is True: self.bridge.state = get_nb_from_hooks()\n",
    "\n",
    "    @property\n",
    "    def dh(self)->DisplayHandle: return self.brdd.dh  # type: ignore"
   ]
  },
  {
   "cell_type": "code",
   "execution_count": 33,
   "id": "f232ab40",
   "metadata": {
    "brd": {
     "id": "a2b0d5e5-fd7a-4a1d-9903-6a7b4500caf5"
    }
   },
   "outputs": [
    {
     "data": {
      "text/plain": [
       "{'auto_show': True, 'auto_mount': False, 'auto_id': True, 'bundle_cfg': {'out_dir': [Path('/Users/vic/dev/repo/project/bridget/bridget/js')], 'rewrite_imports': True, 'import_name': 'brdimport'}, 'bootstrap': False, 'current_did': None}"
      ]
     },
     "execution_count": 33,
     "metadata": {},
     "output_type": "execute_result"
    }
   ],
   "source": [
    "bridge_cfg.update(auto_id=True, auto_show=True)"
   ]
  },
  {
   "cell_type": "code",
   "execution_count": 34,
   "id": "7f4df13c",
   "metadata": {
    "brd": {
     "id": "05e2b2b2-c195-477e-8ae0-5e10bedca454"
    }
   },
   "outputs": [],
   "source": [
    "bridge.add_plugins(NBHooksPlugin())"
   ]
  },
  {
   "cell_type": "code",
   "execution_count": 35,
   "id": "328693c6",
   "metadata": {
    "brd": {
     "id": "3e518b0e-cd9b-4c30-9867-9c71c647d40e"
    }
   },
   "outputs": [
    {
     "data": {
      "text/html": [
       "<pre style=\"white-space:pre;overflow-x:auto;line-height:normal;font-family:Menlo,'DejaVu Sans Mono',consolas,'Courier New',monospace\"><span style=\"color: #800080; text-decoration-color: #800080; font-weight: bold\">deque</span><span style=\"font-weight: bold\">(</span><span style=\"color: #808000; text-decoration-color: #808000\">maxlen</span>=<span style=\"color: #008080; text-decoration-color: #008080; font-weight: bold\">100</span><span style=\"font-weight: bold\">)</span>\n",
       "</pre>\n",
       "\n",
       "<brd-mark id=\"b2124e1e3-fc70c664-a70b1fda-5ad66018\"></brd-mark>"
      ],
      "text/plain": [
       "\u001b[1;35mdeque\u001b[0m\u001b[1m(\u001b[0m\u001b[33mmaxlen\u001b[0m=\u001b[1;36m100\u001b[0m\u001b[1m)\u001b[0m\n"
      ]
     },
     "metadata": {},
     "output_type": "display_data"
    }
   ],
   "source": [
    "cprint(bridge.nbhooks.brdd.dhs)"
   ]
  },
  {
   "cell_type": "code",
   "execution_count": 36,
   "id": "f3e65e21",
   "metadata": {
    "brd": {
     "id": "7383fb32-b56e-4ee0-bddf-76167fc17040"
    }
   },
   "outputs": [
    {
     "data": {
      "text/html": [
       "11, 13, 17, 19, 23, 29\n",
       "<brd-mark id=\"bb7ded204-a446b2ce-77fc046f-88e3e7ea\"></brd-mark>"
      ],
      "text/plain": [
       "<bridget.helpers.HTML object>"
      ]
     },
     "metadata": {},
     "output_type": "display_data"
    }
   ],
   "source": [
    "HTML(f\"2, 3, 5, 7\")\n"
   ]
  },
  {
   "cell_type": "code",
   "execution_count": 37,
   "id": "383908b8",
   "metadata": {
    "brd": {
     "id": "ff58992c-764e-4448-8770-094b33c9c748"
    }
   },
   "outputs": [
    {
     "data": {
      "text/html": [
       "<style>details ul { list-style-type:none; list-style-position: outside; padding-inline-start: 22px; margin: 0; } details .string { color: #24837b; } details .string::before { content: \"'\"; } details .string::after { content: \"'\"; } details .number { color: #ad8301; } details .true { color: blue; } details .false { color: red; } details .null { color: gray; } span.n { color: darkgrey; } </style>\n",
       "<details open><summary>NBCell@1\n",
       "</summary>  <ul>\n",
       "    <li>\n",
       "<span><span class=\"n\">idx</span>: <span class=\"v number\">1</span></span>    </li>\n",
       "    <li>\n",
       "<span><span class=\"n\">source</span>: <span class=\"v string\">HTML(f&quot;2, 3, 5, 7&quot;)\n",
       "</span></span>    </li>\n",
       "    <li>\n",
       "<span><span class=\"n\">id</span>: <span class=\"v string\">Y102sZmlsZQ==</span></span>    </li>\n",
       "    <li>\n",
       "<span><span class=\"n\">cell_type</span>: <span class=\"v string\">code</span></span>    </li>\n",
       "<details open><summary>outputs\n",
       "</summary>      <ul>\n",
       "<details open><summary>0\n",
       "</summary>          <ul>\n",
       "            <li>\n",
       "<span><span class=\"n\">output_type</span>: <span class=\"v string\">display_data</span></span>            </li>\n",
       "<details open><summary>data\n",
       "</summary>              <ul>\n",
       "                <li>\n",
       "<span><span class=\"n\">text/plain</span>: <span class=\"v string\">&lt;bridget.helpers.HTML object&gt;</span></span>                </li>\n",
       "                <li>\n",
       "<span><span class=\"n\">text/html</span>: <span class=\"v string\">2, 3, 5, 7\n",
       "&lt;brd-mark id=&quot;bb7ded204-a446b2ce-77fc046f-88e3e7ea&quot;&gt;&lt;/brd-mark&gt;</span></span>                </li>\n",
       "              </ul>\n",
       "</details>            <li>\n",
       "<span><span class=\"n\">metadata</span>: <span class=\"v \">{&#x27;bridge&#x27;: {&#x27;captured&#x27;: True}, &#x27;brd_did&#x27;: &#x27;bb7ded204-a446b2ce-77fc046f-88e3e7ea&#x27;}</span></span>            </li>\n",
       "          </ul>\n",
       "</details><details open><summary>1\n",
       "</summary>          <ul>\n",
       "            <li>\n",
       "<span><span class=\"n\">output_type</span>: <span class=\"v string\">execute_result</span></span>            </li>\n",
       "            <li>\n",
       "<span><span class=\"n\">execution_count</span>: <span class=\"v number\">36</span></span>            </li>\n",
       "<details open><summary>data\n",
       "</summary>              <ul>\n",
       "                <li>\n",
       "<span><span class=\"n\">text/plain</span>: <span class=\"v string\">&lt;bridget.helpers.HTML object&gt;</span></span>                </li>\n",
       "                <li>\n",
       "<span><span class=\"n\">text/html</span>: <span class=\"v string\">2, 3, 5, 7</span></span>                </li>\n",
       "              </ul>\n",
       "</details>            <li>\n",
       "<span><span class=\"n\">metadata</span>: <span class=\"v \">{}</span></span>            </li>\n",
       "          </ul>\n",
       "</details>      </ul>\n",
       "</details>    <li>\n",
       "<span><span class=\"n\">execution_count</span>: <span class=\"v number\">36</span></span>    </li>\n",
       "  </ul>\n",
       "</details>\n",
       "<brd-mark id=\"b83018d4a-a83a2add-a2c33c24-c454e7d3\"></brd-mark>"
      ],
      "text/markdown": [
       "> code\n",
       "\n",
       "```json\n",
       "{\n",
       "  'idx': 1,\n",
       "  'source': 'HTML(f\"2, 3, 5, 7\")\\n',\n",
       "  'id': 'Y102sZmlsZQ==',\n",
       "  'cell_type': 'code',\n",
       "  'outputs': [\n",
       "    {\n",
       "      'output_type': 'display_data',\n",
       "      'data': {\n",
       "        'text/plain': '<bridget.helpers.HTML object>',\n",
       "        'text/html': '2, 3, 5, 7\\n<brd-mark id=\"bb7ded204-a446b2ce-77fc046f-88e3e7ea\"></brd-mark>'\n",
       "      },\n",
       "      'metadata': {'bridge': {'captured': True}, 'brd_did': 'bb7ded204-a446b2ce-77fc046f-88e3e7ea'}\n",
       "    },\n",
       "    {\n",
       "      'output_type': 'execute_result',\n",
       "      'execution_count': 36,\n",
       "      'data': {'text/plain': '<bridget.helpers.HTML object>', 'text/html': '2, 3, 5, 7'},\n",
       "      'metadata': {}\n",
       "    }\n",
       "  ],\n",
       "  'execution_count': 36\n",
       "}\n",
       "```"
      ],
      "text/plain": [
       "{'idx': 1,\n",
       " 'source': 'HTML(f\"2, 3, 5, 7\")\\n',\n",
       " 'id': 'Y102sZmlsZQ==',\n",
       " 'cell_type': 'code',\n",
       " 'outputs': [{'output_type': 'display_data',\n",
       "   'data': {'text/plain': '<bridget.helpers.HTML object>',\n",
       "    'text/html': '2, 3, 5, 7\\n<brd-mark id=\"bb7ded204-a446b2ce-77fc046f-88e3e7ea\"></brd-mark>'},\n",
       "   'metadata': {'bridge': {'captured': True},\n",
       "    'brd_did': 'bb7ded204-a446b2ce-77fc046f-88e3e7ea'}},\n",
       "  {'output_type': 'execute_result',\n",
       "   'execution_count': 36,\n",
       "   'data': {'text/plain': '<bridget.helpers.HTML object>',\n",
       "    'text/html': '2, 3, 5, 7'},\n",
       "   'metadata': {}}],\n",
       " 'execution_count': 36}"
      ]
     },
     "metadata": {
      "bridge": {
       "captured": true
      }
     },
     "output_type": "display_data"
    }
   ],
   "source": [
    "test_eq(__nb__[__lastcellinfo__.cell_id].outputs[0].metadata['brd_did'], bridge.nbhooks.dh.display_id)\n",
    "__nb__[__lastcellinfo__.cell_id]"
   ]
  },
  {
   "cell_type": "code",
   "execution_count": 38,
   "id": "f0b85e51",
   "metadata": {
    "brd": {
     "id": "88926e0c-14a7-4c36-b74e-7922f4859d80"
    }
   },
   "outputs": [],
   "source": [
    "bridge.nbhooks.brdd.dhs[-2].update(HTML(f\"11, 13, 17, 19, 23, 29\"))\n",
    "# cprint(__cellinfo__)"
   ]
  },
  {
   "cell_type": "code",
   "execution_count": 39,
   "id": "0d868d13",
   "metadata": {
    "brd": {
     "id": "ba988205-741a-4c7b-ad8d-beedc43ab32d"
    }
   },
   "outputs": [
    {
     "data": {
      "text/html": [
       "It’s a fact everybody already knows,<br>Single rich man, man he gotta propose.\n",
       "<brd-mark id=\"f9fd3e2a73e1397ac3febdff7c1e2a20\"></brd-mark>"
      ],
      "text/plain": [
       "<bridget.helpers.HTML object>"
      ]
     },
     "metadata": {},
     "output_type": "display_data"
    },
    {
     "data": {
      "text/html": [
       "New in town, what’s he thinking? Nobody cares,<br>Every mama scheming, whisperin’ prayers.\n",
       "<brd-mark id=\"be0493a65-5e1d5019-f8071540-09a27beb\"></brd-mark>"
      ],
      "text/plain": [
       "<bridget.helpers.HTML object>"
      ]
     },
     "metadata": {},
     "output_type": "display_data"
    }
   ],
   "source": [
    "ci = __cellinfo__\n",
    "displaydh(HTML(f\"It’s a fact everybody already knows,<br>Single rich man, man he gotta propose.\"))\n",
    "HTML(' ')"
   ]
  },
  {
   "cell_type": "code",
   "execution_count": 40,
   "id": "271eafdc",
   "metadata": {
    "brd": {
     "id": "56c8d26f-e0cb-4881-b666-04bb0c50ab6b"
    }
   },
   "outputs": [
    {
     "data": {
      "text/html": [
       "<pre style=\"white-space:pre;overflow-x:auto;line-height:normal;font-family:Menlo,'DejaVu Sans Mono',consolas,'Courier New',monospace\"><span style=\"font-weight: bold\">{</span>\n",
       "    <span style=\"color: #008000; text-decoration-color: #008000\">'source'</span>: <span style=\"color: #008000; text-decoration-color: #008000\">'bridge.nbhooks.dh.update(HTML(f\"New in town, what’s he thinking? Nobody cares,&lt;br&gt;Every mama scheming, whisperin’ </span>\n",
       "<span style=\"color: #008000; text-decoration-color: #008000\">prayers.\"))\\ncprint(__cellinfo__)'</span>,\n",
       "    <span style=\"color: #008000; text-decoration-color: #008000\">'cell_id'</span>: <span style=\"color: #008000; text-decoration-color: #008000\">'Y106sZmlsZQ=='</span>,\n",
       "    <span style=\"color: #008000; text-decoration-color: #008000\">'exec_result'</span>: <span style=\"font-weight: bold\">{</span><span style=\"color: #008000; text-decoration-color: #008000\">'result'</span>: <span style=\"color: #800080; text-decoration-color: #800080; font-style: italic\">None</span><span style=\"font-weight: bold\">}</span>\n",
       "<span style=\"font-weight: bold\">}</span>\n",
       "</pre>\n",
       "\n",
       "<brd-mark id=\"bb50809d7-52ac9102-f0084525-a251fcbe\"></brd-mark>"
      ],
      "text/plain": [
       "\u001b[1m{\u001b[0m\n",
       "    \u001b[32m'source'\u001b[0m: \u001b[32m'bridge.nbhooks.dh.update\u001b[0m\u001b[32m(\u001b[0m\u001b[32mHTML\u001b[0m\u001b[32m(\u001b[0m\u001b[32mf\"New in town, what’s he thinking? Nobody cares,\u001b[0m\u001b[32m<\u001b[0m\u001b[32mbr\u001b[0m\u001b[32m>\u001b[0m\u001b[32mEvery mama scheming, whisperin’ \u001b[0m\n",
       "\u001b[32mprayers.\"\u001b[0m\u001b[32m)\u001b[0m\u001b[32m)\u001b[0m\u001b[32m\\ncprint\u001b[0m\u001b[32m(\u001b[0m\u001b[32m__cellinfo__\u001b[0m\u001b[32m)\u001b[0m\u001b[32m'\u001b[0m,\n",
       "    \u001b[32m'cell_id'\u001b[0m: \u001b[32m'\u001b[0m\u001b[32mY106sZmlsZQ\u001b[0m\u001b[32m=='\u001b[0m,\n",
       "    \u001b[32m'exec_result'\u001b[0m: \u001b[1m{\u001b[0m\u001b[32m'result'\u001b[0m: \u001b[3;35mNone\u001b[0m\u001b[1m}\u001b[0m\n",
       "\u001b[1m}\u001b[0m\n"
      ]
     },
     "metadata": {},
     "output_type": "display_data"
    }
   ],
   "source": [
    "bridge.nbhooks.dh.update(HTML(f\"New in town, what’s he thinking? Nobody cares,<br>Every mama scheming, whisperin’ prayers.\"))\n",
    "cprint(__cellinfo__)"
   ]
  },
  {
   "cell_type": "code",
   "execution_count": 41,
   "id": "68f95b0d",
   "metadata": {
    "brd": {
     "id": "453bc4e4-2107-4520-a500-55cd941490b7"
    }
   },
   "outputs": [
    {
     "data": {
      "text/html": [
       "I've seen things you people wouldn't believe.<br>Attack ships on fire off the shoulder of Orion.<br>I watched C-beams glitter in the dark near the Tannhäuser Gate.<br>All those moments will be lost in time, like tears in rain.<br>Time to die.\n",
       "<brd-mark id=\"b6aa04847-4ab49a0b-30de63ed-80d0e7cd\"></brd-mark>"
      ],
      "text/plain": [
       "<bridget.helpers.HTML object>"
      ]
     },
     "metadata": {},
     "output_type": "display_data"
    }
   ],
   "source": [
    "speech_Batty = \"\"\"I've seen things you people wouldn't believe.\n",
    "Attack ships on fire off the shoulder of Orion.\n",
    "I watched C-beams glitter in the dark near the Tannhäuser Gate.\n",
    "All those moments will be lost in time, like tears in rain.\n",
    "Time to die.\"\"\".split('\\n')\n",
    "\n",
    "HTML('<br>'.join(speech_Batty[:-2]) + \"<div class='what-follows' style='color: red;'>...</div>\")"
   ]
  },
  {
   "cell_type": "code",
   "execution_count": 42,
   "id": "c18b8b02",
   "metadata": {
    "brd": {
     "id": "ea9bb110-aa2f-4131-bd83-5e274837de27"
    }
   },
   "outputs": [],
   "source": [
    "bridge.commander.swap(\n",
    "    f\"div[data-brt-id={bridge.nbhooks.dh.display_id}]>.what-follows\", \n",
    "    Div(style={'color':'darkgreen'})(speech_Batty[-2], Br(), speech_Batty[-1]),\n",
    "    swapStyle='outerHTML')"
   ]
  },
  {
   "cell_type": "code",
   "execution_count": 43,
   "id": "a0f59a1b",
   "metadata": {
    "brd": {
     "id": "1e427e56-20f1-4002-bb32-bb317bf6afab"
    }
   },
   "outputs": [],
   "source": [
    "bridge.nbhooks.dh.update(HTML('<br>'.join(speech_Batty)))"
   ]
  },
  {
   "cell_type": "markdown",
   "id": "78e3d854",
   "metadata": {},
   "source": [
    "# &lt;zero-md&gt;\n",
    "> Ridiculously simple zero-config markdown displayer"
   ]
  },
  {
   "cell_type": "code",
   "execution_count": 44,
   "id": "fd5fc976",
   "metadata": {
    "brd": {
     "id": "02a74318-fa1a-4dab-99a8-ccafb8035945"
    }
   },
   "outputs": [
    {
     "data": {
      "text/markdown": [
       "\n",
       "# &lt;zero-md&gt;\n",
       "\n",
       "> Ridiculously simple zero-config markdown displayer\n",
       "\n",
       "A vanilla markdown-to-html web component based on\n",
       "[Custom Elements V1 specs](https://www.w3.org/TR/custom-elements/) to load and display an external\n",
       "MD file.\n",
       "\n",
       "Featuring:\n",
       "\n",
       "- [x] Math rendering via [`KaTeX`](https://github.com/KaTeX/KaTeX)\n",
       "- [x] [`Mermaid`](https://github.com/mermaid-js/mermaid) diagrams\n",
       "- [x] Syntax highlighting via [`highlight.js`](https://github.com/highlightjs/highlight.js)\n",
       "\n",
       "```python\n",
       "a = {'a': 'asdf', 'b': 10}\n",
       "print(\"local server is listening on port 8080\")\n",
       "```\n"
      ],
      "text/plain": [
       "<IPython.core.display.Markdown object>"
      ]
     },
     "metadata": {
      "bridge": {
       "captured": true
      }
     },
     "output_type": "display_data"
    }
   ],
   "source": [
    "md_samp = '''\n",
    "# &lt;zero-md&gt;\n",
    "\n",
    "> Ridiculously simple zero-config markdown displayer\n",
    "\n",
    "A vanilla markdown-to-html web component based on\n",
    "[Custom Elements V1 specs](https://www.w3.org/TR/custom-elements/) to load and display an external\n",
    "MD file.\n",
    "\n",
    "Featuring:\n",
    "\n",
    "- [x] Math rendering via [`KaTeX`](https://github.com/KaTeX/KaTeX)\n",
    "- [x] [`Mermaid`](https://github.com/mermaid-js/mermaid) diagrams\n",
    "- [x] Syntax highlighting via [`highlight.js`](https://github.com/highlightjs/highlight.js)\n",
    "\n",
    "```python\n",
    "a = {'a': 'asdf', 'b': 10}\n",
    "print(\"local server is listening on port 8080\")\n",
    "```\n",
    "'''\n",
    "\n",
    "Markdown(md_samp)"
   ]
  },
  {
   "cell_type": "code",
   "execution_count": 45,
   "id": "81778886",
   "metadata": {
    "brd": {
     "id": "b053dc95-6ba5-45b4-be01-7f102a408c8e"
    }
   },
   "outputs": [],
   "source": [
    "#| export\n",
    "\n",
    "zeromd_js = '''\n",
    "import ZeroMd from 'https://cdn.jsdelivr.net/npm/zero-md@3'\n",
    "customElements.define('zero-md', ZeroMd);\n",
    "'''\n",
    "\n",
    "zeromd_scr = Script(debug(zeromd_js), id='zeromd', type='module')"
   ]
  },
  {
   "cell_type": "code",
   "execution_count": 46,
   "id": "52426802",
   "metadata": {
    "brd": {
     "id": "2ab07921-4a13-4445-adeb-11031dec5098"
    }
   },
   "outputs": [
    {
     "data": {
      "text/html": [
       "<div id='brd-logger_2-1757330719' class='brd-logger' style='width: 100%; max-height: 200px;'></div>\n",
       "<brd-mark id=\"b8a7966ea-d99e39e8-13b79d74-238d0dc0\"></brd-mark>"
      ],
      "text/plain": [
       "<bridget.helpers.HTML object>"
      ]
     },
     "metadata": {},
     "output_type": "display_data"
    }
   ],
   "source": [
    "bridge.logger.show()"
   ]
  },
  {
   "cell_type": "code",
   "execution_count": 47,
   "id": "effdb499",
   "metadata": {
    "brd": {
     "id": "a11f5e37-9ecc-4f52-ac46-a8406998df7f"
    }
   },
   "outputs": [],
   "source": [
    "bridge.loader.load_links({'zeromd':zeromd_scr})"
   ]
  },
  {
   "cell_type": "code",
   "execution_count": 48,
   "id": "314bd101",
   "metadata": {
    "brd": {
     "id": "8cd57618-2ee5-460c-8c06-f3c1003433bd"
    }
   },
   "outputs": [],
   "source": [
    "from fasthtml.components import Zero_md, Template\n",
    "from bridget.bridge_widget import StyleV\n",
    "\n",
    "def render_local_md(md, css=''):\n",
    "    css_template = Template(StyleV(css), data_append=True)\n",
    "    return Zero_md(css_template, Script(md, type=\"text/markdown\"))"
   ]
  },
  {
   "cell_type": "code",
   "execution_count": 49,
   "id": "881012fd",
   "metadata": {
    "brd": {
     "id": "3bd01000-be7b-485c-b70f-9d123aee1d12"
    }
   },
   "outputs": [
    {
     "data": {
      "text/markdown": [
       "```html\n",
       "<zero-md><template data-append>    <style></style>\n",
       "</template><script type=\"text/markdown\">\n",
       "# &lt;zero-md&gt;\n",
       "\n",
       "> Ridiculously simple zero-config markdown displayer\n",
       "\n",
       "A vanilla markdown-to-html web component based on\n",
       "[Custom Elements V1 specs](https://www.w3.org/TR/custom-elements/) to load and display an external\n",
       "MD file.\n",
       "\n",
       "Featuring:\n",
       "\n",
       "- [x] Math rendering via [`KaTeX`](https://github.com/KaTeX/KaTeX)\n",
       "- [x] [`Mermaid`](https://github.com/mermaid-js/mermaid) diagrams\n",
       "- [x] Syntax highlighting via [`highlight.js`](https://github.com/highlightjs/highlight.js)\n",
       "\n",
       "```python\n",
       "a = {'a': 'asdf', 'b': 10}\n",
       "print(\"local server is listening on port 8080\")\n",
       "```\n",
       "</script></zero-md>\n",
       "```"
      ],
      "text/plain": [
       "zero-md((template((style(('',),{}),),{'data-append': True}), script(('\\n# &lt;zero-md&gt;\\n\\n> Ridiculously simple zero-config markdown displayer\\n\\nA vanilla markdown-to-html web component based on\\n[Custom Elements V1 specs](https://www.w3.org/TR/custom-elements/) to load and display an external\\nMD file.\\n\\nFeaturing:\\n\\n- [x] Math rendering via [`KaTeX`](https://github.com/KaTeX/KaTeX)\\n- [x] [`Mermaid`](https://github.com/mermaid-js/mermaid) diagrams\\n- [x] Syntax highlighting via [`highlight.js`](https://github.com/highlightjs/highlight.js)\\n\\n```python\\na = {\\'a\\': \\'asdf\\', \\'b\\': 10}\\nprint(\"local server is listening on port 8080\")\\n```\\n',),{'type': 'text/markdown'})),{})"
      ]
     },
     "metadata": {},
     "output_type": "display_data"
    }
   ],
   "source": [
    "md_ft = render_local_md(md_samp)\n",
    "with bridge_cfg(auto_show=False): display(md_ft)"
   ]
  },
  {
   "cell_type": "code",
   "execution_count": 50,
   "id": "0ac19a8b",
   "metadata": {
    "brd": {
     "id": "275256ac-655a-4a6c-942e-6e2bc769d631"
    }
   },
   "outputs": [
    {
     "data": {
      "text/html": [
       "<zero-md><template data-append><style></style></template><script type=\"text/markdown\">## Hi again!</script></zero-md>\n",
       "<brd-mark id=\"bdcd5dd5c-6fb995d5-e8a686ab-f5486675\"></brd-mark>"
      ],
      "text/markdown": [
       "```html\n",
       "<zero-md><template data-append>    <style></style>\n",
       "</template><script type=\"text/markdown\">## Hi again!</script></zero-md>\n",
       "```"
      ],
      "text/plain": [
       "zero-md((template((style(('',),{}),),{'data-append': True}), script(('## Hi again!',),{'type': 'text/markdown'})),{})"
      ]
     },
     "metadata": {},
     "output_type": "display_data"
    }
   ],
   "source": [
    "md_ft"
   ]
  },
  {
   "cell_type": "code",
   "execution_count": 51,
   "id": "ebb1c750",
   "metadata": {
    "brd": {
     "id": "ee903c4b-227e-4cc3-bc68-dc9acc1e5873"
    }
   },
   "outputs": [],
   "source": [
    "bridge.nbhooks.dh.update(render_local_md('## Hi again!'))"
   ]
  },
  {
   "cell_type": "markdown",
   "id": "76341d69",
   "metadata": {},
   "source": [
    "# Recap of NBHooks features:\n",
    "\n",
    "As a bridge plugin, NBHooks provides:\n",
    "\n",
    "1. Wrapper of CellExecInfo to provide current and last cell info, including cell id.\n",
    "2. Add metadata to all displayed rich media\n",
    "3. Add metadata to cell output."
   ]
  },
  {
   "cell_type": "code",
   "execution_count": 52,
   "id": "639f66cb",
   "metadata": {
    "brd": {
     "id": "408dfedb-83cf-4197-9ecc-5c064429ef32"
    }
   },
   "outputs": [
    {
     "data": {
      "text/html": [
       "<div id='brd-logger_3-1757330719' class='brd-logger' style='width: 100%; max-height: 200px;'></div>\n",
       "<brd-mark id=\"b43e48504-c2b8e051-9e9a80c6-e67bec61\"></brd-mark>"
      ],
      "text/plain": [
       "<bridget.helpers.HTML object>"
      ]
     },
     "metadata": {},
     "output_type": "display_data"
    }
   ],
   "source": [
    "cleanupwidgets('bridge')\n",
    "\n",
    "bridge = get_bridge(show_logger=True)\n",
    "bridge.add_plugins(NBHooksPlugin())"
   ]
  },
  {
   "cell_type": "markdown",
   "id": "3ce5460d",
   "metadata": {},
   "source": [
    "### 1. Capture cell info\n",
    ">  with cell id if possible: Jupyter Notebook/Lab, VSCode-ish; nbclassic doesn't gen cell ids.\n",
    "\n",
    "Will be handy when we have access to notebook state."
   ]
  },
  {
   "cell_type": "code",
   "execution_count": 53,
   "id": "f9233f01",
   "metadata": {
    "brd": {
     "id": "395ccdbf-149b-4f4b-81fe-3fb854b9bdca"
    }
   },
   "outputs": [
    {
     "data": {
      "text/html": [
       "<pre style=\"white-space:pre;overflow-x:auto;line-height:normal;font-family:Menlo,'DejaVu Sans Mono',consolas,'Courier New',monospace\"><span style=\"font-weight: bold\">{</span>\n",
       "    <span style=\"color: #008000; text-decoration-color: #008000\">'source'</span>: <span style=\"color: #008000; text-decoration-color: #008000\">\"cprint(ci := __cellinfo__)\\ntest_eq(__cellinfo__['source'][:26], 'cprint(ci := __cellinfo__)')\\n# </span>\n",
       "<span style=\"color: #008000; text-decoration-color: #008000\">test_eq(brd.csi.dh['cell_id'], cid)\"</span>,\n",
       "    <span style=\"color: #008000; text-decoration-color: #008000\">'cell_id'</span>: <span style=\"color: #008000; text-decoration-color: #008000\">'Y131sZmlsZQ=='</span>,\n",
       "    <span style=\"color: #008000; text-decoration-color: #008000\">'exec_result'</span>: <span style=\"font-weight: bold\">{</span><span style=\"color: #008000; text-decoration-color: #008000\">'result'</span>: <span style=\"color: #800080; text-decoration-color: #800080; font-style: italic\">None</span><span style=\"font-weight: bold\">}</span>\n",
       "<span style=\"font-weight: bold\">}</span>\n",
       "</pre>\n",
       "\n",
       "<brd-mark id=\"b0cf7d338-1903a599-c40f6dd6-e5ec6193\"></brd-mark>"
      ],
      "text/plain": [
       "\u001b[1m{\u001b[0m\n",
       "    \u001b[32m'source'\u001b[0m: \u001b[32m\"cprint\u001b[0m\u001b[32m(\u001b[0m\u001b[32mci := __cellinfo__\u001b[0m\u001b[32m)\u001b[0m\u001b[32m\\ntest_eq\u001b[0m\u001b[32m(\u001b[0m\u001b[32m__cellinfo__\u001b[0m\u001b[32m[\u001b[0m\u001b[32m'source'\u001b[0m\u001b[32m]\u001b[0m\u001b[32m[\u001b[0m\u001b[32m:26\u001b[0m\u001b[32m]\u001b[0m\u001b[32m, 'cprint\u001b[0m\u001b[32m(\u001b[0m\u001b[32mci := __cellinfo__\u001b[0m\u001b[32m)\u001b[0m\u001b[32m'\u001b[0m\u001b[32m)\u001b[0m\u001b[32m\\n# \u001b[0m\n",
       "\u001b[32mtest_eq\u001b[0m\u001b[32m(\u001b[0m\u001b[32mbrd.csi.dh\u001b[0m\u001b[32m[\u001b[0m\u001b[32m'cell_id'\u001b[0m\u001b[32m]\u001b[0m\u001b[32m, cid\u001b[0m\u001b[32m)\u001b[0m\u001b[32m\"\u001b[0m,\n",
       "    \u001b[32m'cell_id'\u001b[0m: \u001b[32m'\u001b[0m\u001b[32mY131sZmlsZQ\u001b[0m\u001b[32m=='\u001b[0m,\n",
       "    \u001b[32m'exec_result'\u001b[0m: \u001b[1m{\u001b[0m\u001b[32m'result'\u001b[0m: \u001b[3;35mNone\u001b[0m\u001b[1m}\u001b[0m\n",
       "\u001b[1m}\u001b[0m\n"
      ]
     },
     "metadata": {},
     "output_type": "display_data"
    }
   ],
   "source": [
    "cprint(ci := __cellinfo__)\n",
    "test_eq(__cellinfo__['source'][:26], 'cprint(ci := __cellinfo__)')\n",
    "# test_eq(brd.csi.dh['cell_id'], cid)"
   ]
  },
  {
   "cell_type": "markdown",
   "id": "fc3711eb",
   "metadata": {},
   "source": [
    "### 2. Every rich cell output, those made with display(...), or last cell expression, is captured and converted to transient\n",
    "\n",
    "i.e., equivalent to display(...,display_id=True).  \n",
    "NBHooks stores the `DisplayHandle`, and __cellinfo__ got the `display_id` in `__cellinfo__.did`"
   ]
  },
  {
   "cell_type": "code",
   "execution_count": 54,
   "id": "c589aa9a",
   "metadata": {
    "brd": {
     "id": "ef48b819-367a-46fd-8d2c-f04acd1b5b39"
    }
   },
   "outputs": [
    {
     "data": {
      "text/html": [
       "<img src=\"https://upload.wikimedia.org/wikipedia/commons/4/4b/WorldInHisArms-poster.jpg\" height=\"150\"/>\n",
       "<brd-mark id=\"bdbde6af6-f95685f4-6814beef-11a84d4b\"></brd-mark>"
      ],
      "text/plain": [
       "<IPython.core.display.Image object>"
      ]
     },
     "metadata": {},
     "output_type": "display_data"
    }
   ],
   "source": [
    "display(Markdown(\"\"\"`The World in His Arms`\"\"\"))"
   ]
  },
  {
   "cell_type": "code",
   "execution_count": 55,
   "id": "70330bd0",
   "metadata": {
    "brd": {
     "id": "ab58373d-1d05-4356-b849-ec07ab8b830c"
    }
   },
   "outputs": [],
   "source": [
    "bridge.nbhooks.dh.update(A(href='https://en.wikipedia.org/wiki/The_World_in_His_Arms')('The World in His Arms'))"
   ]
  },
  {
   "cell_type": "code",
   "execution_count": 56,
   "id": "a832ad51",
   "metadata": {
    "brd": {
     "id": "efae1ed2-6721-4b05-9c04-8af356f173e8"
    }
   },
   "outputs": [],
   "source": [
    "bridge.nbhooks.dh.update(Image(url='https://upload.wikimedia.org/wikipedia/commons/4/4b/WorldInHisArms-poster.jpg', height=150))"
   ]
  },
  {
   "cell_type": "markdown",
   "id": "48563973",
   "metadata": {},
   "source": [
    "Capture automatic cell output also"
   ]
  },
  {
   "cell_type": "code",
   "execution_count": 57,
   "id": "6e6dd80e",
   "metadata": {
    "brd": {
     "id": "43c39b3b-6dc7-4216-9fd1-81b6f9d703b9"
    }
   },
   "outputs": [
    {
     "data": {
      "text/html": [
       "<div>qwer</div>\n",
       "\n",
       "<brd-mark id=\"b7f153f5e-7ef42474-54f5a94a-34497c0d\"></brd-mark>"
      ],
      "text/plain": [
       "<bridget.helpers.HTML object>"
      ]
     },
     "metadata": {
      "bridge": {
       "captured": true
      }
     },
     "output_type": "display_data"
    }
   ],
   "source": [
    "Div('asdf')"
   ]
  },
  {
   "cell_type": "code",
   "execution_count": 58,
   "id": "1b2ff081",
   "metadata": {
    "brd": {
     "id": "e81071a8-9b6f-4cf8-b4fb-987011967e8d"
    }
   },
   "outputs": [],
   "source": [
    "# bridge.nbhooks.dh.update(HTML('<div>qwer</div>'))\n",
    "bridge.nbhooks.dh.update(HTML(Div('qwer')))"
   ]
  },
  {
   "cell_type": "markdown",
   "id": "0f90a6ff",
   "metadata": {},
   "source": [
    "### 3. All HTML captured outputs have Bridge metadata (see Brd_Mark)\n",
    "\n",
    "We use a custom element to mark the parent element in the front-end. HTML display objects allow us to add this custom element (brd_mark) easily. We'd also like to tag other rich outputs but we can't do it with only IPython/Kernel mechanisms."
   ]
  },
  {
   "cell_type": "code",
   "execution_count": 59,
   "id": "4d5c0802",
   "metadata": {
    "brd": {
     "id": "374cc4a3-154f-4cdc-80ef-b25c9d39d171"
    }
   },
   "outputs": [
    {
     "data": {
      "text/html": [
       "<div>My parent element has a `data-brd-id` attribute with value &#x27;23579111317&#x27;. Inspect me!</div>\n",
       "\n",
       "<brd-mark id=\"23579111317\"></brd-mark>"
      ],
      "text/plain": [
       "<bridget.helpers.HTML object>"
      ]
     },
     "metadata": {
      "brd_did": "23579111317",
      "bridge": {
       "captured": true
      }
     },
     "output_type": "display_data"
    }
   ],
   "source": [
    "did = '23579111317'\n",
    "HTML(Div(f\"My parent element has a `data-brd-id` attribute with value '{did}'. Inspect me!\"), \n",
    "    metadata={'brd_did': did})"
   ]
  },
  {
   "cell_type": "code",
   "execution_count": 60,
   "id": "dc4fb455",
   "metadata": {
    "brd": {
     "id": "3b5a9afd-914c-478b-8739-f44e67eefea2"
    }
   },
   "outputs": [],
   "source": [
    "test_eq(__nb__[__lastcellinfo__.cell_id].outputs[0]['data']['text/html'].split('\\n')[-1], f'<brd-mark id=\"{did}\"></brd-mark>')"
   ]
  },
  {
   "cell_type": "markdown",
   "id": "adb8b9db",
   "metadata": {},
   "source": [
    "### 4. HTMX API (WIP)\n",
    "\n",
    "Besides DisplayHandler.update(...) you can modify the HTML outputs directly with HTMX API python wrapper (swap only for now)."
   ]
  },
  {
   "cell_type": "markdown",
   "id": "52c19655",
   "metadata": {},
   "source": [
    "# Colophon\n",
    "----\n"
   ]
  },
  {
   "cell_type": "code",
   "execution_count": 61,
   "id": "16800afc",
   "metadata": {
    "brd": {
     "id": "6029c303-6bc7-4f96-be82-580f91db0a58"
    }
   },
   "outputs": [],
   "source": [
    "import fastcore.all as FC\n",
    "import nbdev\n",
    "from nbdev.clean import nbdev_clean\n",
    "from olio.basic import bundle_path\n",
    "from bridget.bridge_widget import bundled"
   ]
  },
  {
   "cell_type": "code",
   "execution_count": 62,
   "id": "ce116d55",
   "metadata": {
    "brd": {
     "id": "1d414e66-ba70-4711-955f-4779d4e73059"
    }
   },
   "outputs": [],
   "source": [
    "if FC.IN_NOTEBOOK:\n",
    "    BUNDLE_PATH = bundle_path(__name__)\n",
    "    for f in ['commander']: bundled(BUNDLE_PATH / f'js/{f}.js')()\n",
    "    nb_path = '16_bridge_plugins.ipynb'\n",
    "    # nbdev_clean(nb_path)\n",
    "    nbdev.nbdev_export(nb_path)"
   ]
  }
 ],
 "metadata": {
  "kernelspec": {
   "display_name": "Python 3",
   "language": "python",
   "name": "python3"
  },
  "language_info": {
   "codemirror_mode": {
    "name": "ipython",
    "version": 3
   },
   "file_extension": ".py",
   "mimetype": "text/x-python",
   "name": "python",
   "nbconvert_exporter": "python",
   "pygments_lexer": "ipython3",
   "version": "3.12.11"
  }
 },
 "nbformat": 4,
 "nbformat_minor": 5
}
