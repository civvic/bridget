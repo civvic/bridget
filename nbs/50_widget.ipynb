{
 "cells": [
  {
   "cell_type": "code",
   "execution_count": null,
   "metadata": {},
   "outputs": [],
   "source": [
    "#| default_exp widget"
   ]
  },
  {
   "cell_type": "code",
   "execution_count": null,
   "metadata": {},
   "outputs": [],
   "source": [
    "#| export\n",
    "from __future__ import annotations"
   ]
  },
  {
   "cell_type": "markdown",
   "metadata": {},
   "source": [
    "# Widget\n",
    "> FashHTML widgets\n"
   ]
  },
  {
   "cell_type": "markdown",
   "metadata": {},
   "source": [
    "# Prologue"
   ]
  },
  {
   "cell_type": "code",
   "execution_count": null,
   "metadata": {},
   "outputs": [],
   "source": [
    "#| export\n",
    "import dataclasses\n",
    "import typing\n",
    "from contextlib import contextmanager\n",
    "from dataclasses import dataclass\n",
    "from dataclasses import field\n",
    "from dataclasses import KW_ONLY\n",
    "from functools import cached_property\n",
    "from functools import partial\n",
    "from types import MethodType\n",
    "from typing import Any\n",
    "from typing import Callable\n",
    "from typing import ClassVar\n",
    "from typing import Iterable\n",
    "from typing import Sequence\n",
    "from typing import Type\n",
    "\n",
    "import psygnal\n",
    "import traitlets as T\n",
    "from fastcore.xml import FT\n",
    "from fastcore.xml import to_xml\n",
    "from fasthtml.core import FastHTML\n",
    "from olio.common import val_at\n",
    "from psygnal import Signal\n"
   ]
  },
  {
   "cell_type": "code",
   "execution_count": null,
   "metadata": {},
   "outputs": [],
   "source": [
    "#| export\n",
    "from bridget.bridge_plugins import NBHooksPlugin\n",
    "from bridget.bridget import Bridgeable\n",
    "from bridget.common import *\n",
    "from bridget.helpers import id_gen\n",
    "from bridget.nb_state import NBStateFeedback\n",
    "from bridget.routing import APIRouterD\n"
   ]
  },
  {
   "cell_type": "code",
   "execution_count": null,
   "metadata": {},
   "outputs": [],
   "source": [
    "#| export\n",
    "\n",
    "import fasthtml.components as H\n",
    "from fasthtml.components import Div, Label, Input, Text, I, Select, Option, Span, show\n"
   ]
  },
  {
   "cell_type": "code",
   "execution_count": null,
   "metadata": {},
   "outputs": [],
   "source": [
    "import fastcore.all as FC\n",
    "import ipywidgets as W\n",
    "from fastcore.test import *\n",
    "from fastcore.xml import highlight\n",
    "from fastcore.xml import showtags\n",
    "from fasthtml.components import Button\n",
    "from IPython.display import DisplayHandle\n",
    "from IPython.core.display import HTML\n",
    "from IPython.core.display import Javascript\n",
    "from IPython.core.display import Markdown\n",
    "from olio.common import AD\n",
    "from olio.widget import cleanupwidgets\n",
    "from rich.console import Console\n"
   ]
  },
  {
   "cell_type": "code",
   "execution_count": null,
   "metadata": {},
   "outputs": [],
   "source": [
    "# from bridget.routing import ar\n",
    "from bridget.helpers import in_vscode_notebook\n"
   ]
  },
  {
   "cell_type": "code",
   "execution_count": null,
   "metadata": {},
   "outputs": [],
   "source": [
    "# import psygnal.utils\n",
    "# psygnal.utils.decompile()\n",
    "\n",
    "# psygnal.utils.recompile()"
   ]
  },
  {
   "cell_type": "markdown",
   "metadata": {},
   "source": [
    "----\n"
   ]
  },
  {
   "cell_type": "code",
   "execution_count": null,
   "metadata": {},
   "outputs": [],
   "source": [
    "#| exporti\n",
    "\n",
    "_n = '\\n'"
   ]
  },
  {
   "cell_type": "code",
   "execution_count": null,
   "metadata": {},
   "outputs": [],
   "source": [
    "cprint = (console := Console(width=120)).print"
   ]
  },
  {
   "cell_type": "code",
   "execution_count": null,
   "metadata": {},
   "outputs": [],
   "source": [
    "if not in_vscode_notebook():\n",
    "    NBStateFeedback.show(feedback=False, hide=True, debug=False)"
   ]
  },
  {
   "cell_type": "markdown",
   "metadata": {},
   "source": [
    "----"
   ]
  },
  {
   "cell_type": "markdown",
   "metadata": {},
   "source": [
    "# Replacing ipywidgets with Fasthtml\n",
    "\n",
    "ipywidgets handles:\n",
    "- **Layout**: ipywidgets uses python, JS -> replace with FastHTML, HTMX.\n",
    "- **Comunication** kernel-frontend: ipywidgets uses Comm -> Bridget/HTTP-Ajax\n",
    "- **Serialization**: ipywidgets uses Traitlets -> replace with pydantic, dataclasses, msgspec, pysignal.\n",
    "- **Observer** pattern: ipywidgets uses Traitlets -> replace with custom or psignal.\n"
   ]
  },
  {
   "cell_type": "code",
   "execution_count": null,
   "metadata": {},
   "outputs": [],
   "source": [
    "bridge_cfg.update(auto_show=True, auto_mount=True)\n",
    "app, brt, rt = get_app(hooks=True, show_logger=True)"
   ]
  },
  {
   "cell_type": "code",
   "execution_count": null,
   "metadata": {},
   "outputs": [],
   "source": [
    "brt.bridge.plugins"
   ]
  },
  {
   "cell_type": "code",
   "execution_count": null,
   "metadata": {},
   "outputs": [],
   "source": [
    "dv = Div(cls='bridget slider')\n",
    "dv.set(cls=f\"{dv.get('class')} value\")\n",
    "with bridge_cfg(auto_show=False):\n",
    "    display(dv)"
   ]
  },
  {
   "cell_type": "code",
   "execution_count": null,
   "metadata": {},
   "outputs": [],
   "source": [
    "nb = brt.bridge.state\n",
    "nb.cells"
   ]
  },
  {
   "cell_type": "markdown",
   "metadata": {},
   "source": [
    "# Helpers"
   ]
  },
  {
   "cell_type": "code",
   "execution_count": null,
   "metadata": {},
   "outputs": [],
   "source": [
    "def show_routes(app):\n",
    "    cprint(app.routes)\n",
    "    while app.routes and (app := getattr(app.routes[-1], 'app', None)):\n",
    "        if hasattr(app, 'routes') and isinstance(app.routes, list): cprint(app.routes)\n",
    "        else: break"
   ]
  },
  {
   "cell_type": "markdown",
   "metadata": {},
   "source": [
    "## Link\n",
    "> Replicate traitlets.link"
   ]
  },
  {
   "cell_type": "code",
   "execution_count": null,
   "metadata": {},
   "outputs": [],
   "source": [
    "def link(pair1, pair2, transform=None):\n",
    "    \"\"\"\n",
    "    Bidirectionally link two fields, possibly on the same object, using optional transform (forward, reverse).\n",
    "    pair1, pair2: tuples of (object, attr_name)\n",
    "    transform: (func1→2, func2→1), or None.\n",
    "    \"\"\"\n",
    "    a_obj, a_field = pair1\n",
    "    b_obj, b_field = pair2\n",
    "    tf_ab = transform[0] if transform and transform[0] else (lambda v: v)\n",
    "    tf_ba = transform[1] if transform and transform[1] else (lambda v: v)\n",
    "\n",
    "    def on_a(val):\n",
    "        new = tf_ab(val)\n",
    "        if getattr(b_obj, b_field) != new:\n",
    "            with getattr(a_obj.events, a_field).blocked():\n",
    "                setattr(b_obj, b_field, new)\n",
    "\n",
    "    def on_b(val):\n",
    "        new = tf_ba(val)\n",
    "        if getattr(a_obj, a_field) != new:\n",
    "            with getattr(b_obj.events, b_field).blocked():\n",
    "                setattr(a_obj, a_field, new)\n",
    "\n",
    "    getattr(a_obj.events, a_field).connect(on_a)\n",
    "    getattr(b_obj.events, b_field).connect(on_b)"
   ]
  },
  {
   "cell_type": "code",
   "execution_count": null,
   "metadata": {},
   "outputs": [],
   "source": [
    "@psygnal.evented\n",
    "@dataclass\n",
    "class Item:\n",
    "    x: float = 0.0\n",
    "    y: float = 0.0\n",
    "\n",
    "\n",
    "item = Item(x=32.0, y=0.0)\n",
    "\n",
    "# x is Fahrenheit, y is Celsius\n",
    "f_to_c = lambda f: (f - 32) * 5/9\n",
    "c_to_f = lambda c: c * 9/5 + 32\n",
    "\n",
    "link((item, \"x\"), (item, \"y\"), (f_to_c, c_to_f))\n",
    "\n",
    "item.x = 212.0\n",
    "test_eq(item.y, 100)\n",
    "\n",
    "item.y = 0.0\n",
    "test_eq(item.x, 32)"
   ]
  },
  {
   "cell_type": "markdown",
   "metadata": {},
   "source": [
    "## _debug_req"
   ]
  },
  {
   "cell_type": "code",
   "execution_count": null,
   "metadata": {},
   "outputs": [],
   "source": [
    "def _debug_req(name, url, method, body):\n",
    "    return {\n",
    "        'headers': {\n",
    "            'HX-Request': 'true',\n",
    "            'HX-Trigger-Name': name,\n",
    "            'Content-Type': 'application/x-www-form-urlencoded'\n",
    "        },\n",
    "        'headerNames': {'hx-request': 'HX-Request', 'hx-current-url': 'HX-Current-URL', \n",
    "                        'hx-trigger-name': 'HX-Trigger-Name', 'hx-trigger-value': 'HX-Trigger-Value',\n",
    "                        'content-type':'Content-Type'},\n",
    "        'status': 0,\n",
    "        'method': method,\n",
    "        'url': url,\n",
    "        'async': True,\n",
    "        'timeout': 0,\n",
    "        'withCredentials': False,\n",
    "        'body': body,\n",
    "    }"
   ]
  },
  {
   "cell_type": "code",
   "execution_count": null,
   "metadata": {},
   "outputs": [],
   "source": [
    "@dataclass\n",
    "class Person:\n",
    "    name: str\n",
    "    age: int = 0\n",
    "\n",
    "    events: ClassVar[psygnal.SignalGroupDescriptor] = psygnal.SignalGroupDescriptor()\n",
    "\n",
    "@dataclass\n",
    "class Citizen(Person):\n",
    "    country: str = 'USA'\n",
    "    _city: str = 'New York'\n",
    "\n",
    "@dataclass\n",
    "class Employee(Citizen):\n",
    "    company: str = 'Central Perk'\n",
    "\n",
    "e = Employee(name='John', age=30)\n",
    "psygnal.is_evented(Employee), psygnal.is_evented(e)"
   ]
  },
  {
   "cell_type": "code",
   "execution_count": null,
   "metadata": {},
   "outputs": [],
   "source": [
    "e.events.signals"
   ]
  },
  {
   "cell_type": "markdown",
   "metadata": {},
   "source": [
    "# BridgetRouteProvider"
   ]
  },
  {
   "cell_type": "code",
   "execution_count": null,
   "metadata": {},
   "outputs": [],
   "source": [
    "def attrgetterd(*attrs, default=None):\n",
    "    def _call(obj):\n",
    "        oo = tuple(getattr(obj, attr, default) for attr in attrs)\n",
    "        return oo[0] if len(oo) == 1 else oo\n",
    "    return _call"
   ]
  },
  {
   "cell_type": "code",
   "execution_count": null,
   "metadata": {},
   "outputs": [],
   "source": [
    "r = AD(name='a')\n",
    "test_eq(attrgetterd('name')(r), 'a')\n",
    "test_eq(attrgetterd('name', 'kind')(r), ('a', None))"
   ]
  },
  {
   "cell_type": "code",
   "execution_count": null,
   "metadata": {},
   "outputs": [],
   "source": [
    "def types(o, stop=-1): return reversed(type(o).__mro__[:stop])"
   ]
  },
  {
   "cell_type": "code",
   "execution_count": null,
   "metadata": {},
   "outputs": [],
   "source": [
    "[*types(APIRouterD(), None)]  # type: ignore"
   ]
  },
  {
   "cell_type": "code",
   "execution_count": null,
   "metadata": {},
   "outputs": [],
   "source": [
    "if typing.TYPE_CHECKING:\n",
    "    class Control: ...\n",
    "\n",
    "def _cls_attr(cls: type, attr_name='_wrapper_class') -> str:\n",
    "    if (n := cls.__name__).startswith('_'): return ''\n",
    "    if hasattr(cls, attr_name): return getattr(cls, attr_name)\n",
    "    if issubclass(cls, Control): return n.lower()\n",
    "    return ''\n",
    "\n",
    "_get_css = attrgetterd('_css')\n",
    "def _cls_attrs(o, f=_cls_attr): return ' '.join(filter(None, (f(_) for _ in types(o)))).strip()"
   ]
  },
  {
   "cell_type": "code",
   "execution_count": null,
   "metadata": {},
   "outputs": [],
   "source": [
    "class BridgetRouteProvider(RouteProvider):\n",
    "    bridget = get_bridget()\n",
    "\n",
    "    _updating_ = False\n",
    "    @contextmanager\n",
    "    def _updating(self): self._updating_ = True; yield; self._updating_ = False\n",
    "    def setup_values(self): ...\n",
    "    \n",
    "    events: ClassVar[psygnal.SignalGroupDescriptor]\n",
    "    def __init_subclass__(cls):\n",
    "        # cls.bridget.clear_routes(cls)\n",
    "        # cls.bridget.app.routes.clear()\n",
    "        # cls.ar = ar = APIRouterD(f\"/{cls.__name__}\")\n",
    "        # ar.__set_name__(cls, 'ar')\n",
    "        if not 'events' in vars(cls): \n",
    "            cls.events = events = psygnal.SignalGroupDescriptor(warn_on_no_fields=False)\n",
    "            events.__set_name__(cls, 'events')  # call explicitly: outside class definition\n",
    "    def setup_events(self):\n",
    "        if dataclasses.is_dataclass(self):\n",
    "            fields = {fld.name:fld.metadata.get('bridget', {}) for fld in dataclasses.fields(self)}\n",
    "        else: fields = {}\n",
    "        for name in self.events.signals.keys():\n",
    "            mtdt = fields.get(name, {})\n",
    "            if mtdt.get('skip', False): continue\n",
    "            mth = mtdt.get('on', None) or getattr(self, f\"on_{name}\", None)\n",
    "            if not mth: mth = partial(getattr(self, 'on_attr'), attr=name)\n",
    "            if isinstance(mth, (MethodType, partial)): self.events[name].connect(mth)\n",
    "    def on_attr(self, nw: Any, old: Any, *, attr:str):\n",
    "        if self.bridget and not self._updating_:\n",
    "            with self._updating(): self.setup_values()\n",
    "            self.bridget.bridge.commander.swap(f\"#{self.wrapper_id()}\", to_xml(self.__ft__()), swapStyle='innerHTML')\n",
    "\n",
    "    ar = APIRouterD()\n",
    "    _mounted = False\n",
    "    def wrapper_id(self): return self.ar.name().replace(':', '_')\n",
    "    def wrapper_class(self): return _cls_attrs(self)\n",
    "    def style(self): return _cls_attrs(self, f=_get_css)\n",
    "    def controls(self): return ()\n",
    "    def wrapper(self): return Div(id=self.wrapper_id(), cls=self.wrapper_class(), style=self.style())\n",
    "    def __ft__(self):\n",
    "        if bridge_cfg.auto_mount and not self._mounted: get_bridget().mount(self, show=False)  # type: ignore\n",
    "        return self.wrapper()(*self.controls())\n",
    "\n",
    "    dh: DisplayHandle | None = None\n",
    "    def _ipython_display_(self):\n",
    "        # clear previous display; unlike ipywidgets, bridget shows only one view, MVC not welcomed here\n",
    "        if self.dh is not None: self.dh.update(HTML())\n",
    "        self.dh = self.bridget(self, display_id=self.dh)\n",
    "        self.cell = this()"
   ]
  },
  {
   "cell_type": "markdown",
   "metadata": {},
   "source": [
    "# Control"
   ]
  },
  {
   "cell_type": "code",
   "execution_count": null,
   "metadata": {},
   "outputs": [],
   "source": [
    "class _Control(BridgetRouteProvider):\n",
    "    disabled:bool=False; description:str=''\n",
    "    def on_disabled(self, nw: Any, old: Any): ...\n",
    "    def on_description(self, nw: Any, old: Any): ...\n",
    "\n",
    "\n",
    "@dataclass\n",
    "class Control(_Control):\n",
    "    _: KW_ONLY\n",
    "    disabled:bool = False\n",
    "    description:str = ''\n",
    "    \n",
    "    def __post_init__(self):\n",
    "        with self._updating(): self.setup_values()\n",
    "        self.setup_events()"
   ]
  },
  {
   "cell_type": "code",
   "execution_count": null,
   "metadata": {},
   "outputs": [],
   "source": [
    "# app.routes.clear()"
   ]
  },
  {
   "cell_type": "code",
   "execution_count": null,
   "metadata": {},
   "outputs": [],
   "source": [
    "c = Control(disabled=True)\n",
    "with bridge_cfg(auto_show=False):\n",
    "    display(c.__ft__())"
   ]
  },
  {
   "cell_type": "code",
   "execution_count": null,
   "metadata": {},
   "outputs": [],
   "source": [
    "show_routes(app)"
   ]
  },
  {
   "cell_type": "markdown",
   "metadata": {},
   "source": [
    "# Value"
   ]
  },
  {
   "cell_type": "code",
   "execution_count": null,
   "metadata": {},
   "outputs": [],
   "source": [
    "@dataclass\n",
    "class Value(Control):\n",
    "    value: Any = None\n",
    "\n",
    "    @ar('/value', methods=['POST'], name='value')\n",
    "    def changed(self, value:str):\n",
    "        with self._updating(): self.value = value\n",
    "        return self.value\n",
    "\n",
    "    def value_control(self):\n",
    "        return H.Input(name='value', value=self.value,\n",
    "                hx_post=self.ar.value.to(), hx_trigger='input changed', hx_swap='none')\n",
    "    def controls(self):\n",
    "        ctl = self.value_control()\n",
    "        if hasattr(ctl, '__ft__'): ctl = ctl.__ft__()\n",
    "        if isinstance(ctl, (FT, Control)): return (ctl,)\n",
    "        if isinstance(ctl, tuple): return ctl\n",
    "        if isinstance(ctl, Iterable): return tuple(ctl)\n",
    "        return (ctl,)"
   ]
  },
  {
   "cell_type": "code",
   "execution_count": null,
   "metadata": {},
   "outputs": [],
   "source": [
    "app.routes.clear()"
   ]
  },
  {
   "cell_type": "code",
   "execution_count": null,
   "metadata": {},
   "outputs": [],
   "source": [
    "v = Value('Hello, world!')\n",
    "with bridge_cfg(auto_show=False):\n",
    "    display(v.__ft__())\n",
    "v"
   ]
  },
  {
   "cell_type": "code",
   "execution_count": null,
   "metadata": {},
   "outputs": [],
   "source": [
    "show_routes(app)"
   ]
  },
  {
   "cell_type": "code",
   "execution_count": null,
   "metadata": {},
   "outputs": [],
   "source": [
    "v.value"
   ]
  },
  {
   "cell_type": "code",
   "execution_count": null,
   "metadata": {},
   "outputs": [],
   "source": [
    "v.value = 'Bye!'"
   ]
  },
  {
   "cell_type": "markdown",
   "metadata": {},
   "source": [
    "# String"
   ]
  },
  {
   "cell_type": "markdown",
   "metadata": {},
   "source": [
    "## Label"
   ]
  },
  {
   "cell_type": "code",
   "execution_count": null,
   "metadata": {},
   "outputs": [],
   "source": [
    "# W.Label('Hello, World!')"
   ]
  },
  {
   "cell_type": "markdown",
   "metadata": {},
   "source": [
    "```html\n",
    "<div class=\"lm-Widget jupyter-widgets widget-inline-hbox widget-label\">Hello, World!</div>\n",
    "```"
   ]
  },
  {
   "cell_type": "code",
   "execution_count": null,
   "metadata": {},
   "outputs": [],
   "source": [
    "@dataclass\n",
    "class Label(Control):\n",
    "    value: str = ''\n",
    "    def controls(self): return (self.value, )"
   ]
  },
  {
   "cell_type": "code",
   "execution_count": null,
   "metadata": {},
   "outputs": [],
   "source": [
    "v = Label('Hello, world!')\n",
    "with bridge_cfg(auto_show=False):\n",
    "    display(v.__ft__())\n",
    "v"
   ]
  },
  {
   "cell_type": "code",
   "execution_count": null,
   "metadata": {},
   "outputs": [],
   "source": [
    "v.value"
   ]
  },
  {
   "cell_type": "markdown",
   "metadata": {},
   "source": [
    "## Text"
   ]
  },
  {
   "cell_type": "code",
   "execution_count": null,
   "metadata": {},
   "outputs": [],
   "source": [
    "# W.Text('Hello, World!')"
   ]
  },
  {
   "cell_type": "markdown",
   "metadata": {},
   "source": [
    "```html\n",
    "<div class=\"lm-Widget jupyter-widgets widget-inline-hbox widget-text\">\n",
    "    <label class=\"widget-label\" for=\"8ffde047-0ce3-4324-97a8-8f9bb6bb5a22\" style=\"display: none;\"></label>\n",
    "    <input type=\"text\" id=\"8ffde047-0ce3-4324-97a8-8f9bb6bb5a22\" class=\"widget-input\" placeholder=\"​\">\n",
    "</div>\n",
    "```"
   ]
  },
  {
   "cell_type": "code",
   "execution_count": null,
   "metadata": {},
   "outputs": [],
   "source": [
    "@dataclass\n",
    "class Text(Value):\n",
    "    value: str = ''\n",
    "    @ar('/value', methods=['POST'], name='value')\n",
    "    def changed(self, value:str):\n",
    "        with self._updating(): self.value = value\n",
    "    def value_control(self):\n",
    "        return H.Input(name='value', value=self.value,\n",
    "                hx_post=self.ar.value, hx_trigger='input changed', hx_swap='none')"
   ]
  },
  {
   "cell_type": "code",
   "execution_count": null,
   "metadata": {},
   "outputs": [],
   "source": [
    "v = Text('Hello, world!')\n",
    "with bridge_cfg(auto_show=False):\n",
    "    display(v.__ft__())\n",
    "v"
   ]
  },
  {
   "cell_type": "code",
   "execution_count": null,
   "metadata": {},
   "outputs": [],
   "source": [
    "v.value"
   ]
  },
  {
   "cell_type": "code",
   "execution_count": null,
   "metadata": {},
   "outputs": [],
   "source": [
    "v.value = 'Good-Bye to All That'"
   ]
  },
  {
   "cell_type": "code",
   "execution_count": null,
   "metadata": {},
   "outputs": [],
   "source": [
    "show_routes(app)"
   ]
  },
  {
   "cell_type": "markdown",
   "metadata": {},
   "source": [
    "## TextArea"
   ]
  },
  {
   "cell_type": "code",
   "execution_count": null,
   "metadata": {},
   "outputs": [],
   "source": [
    "# W.Textarea('Hello, World!')"
   ]
  },
  {
   "cell_type": "markdown",
   "metadata": {},
   "source": [
    "```html\n",
    "<div class=\"lm-Widget jupyter-widgets widget-inline-hbox widget-textarea\">\n",
    "    <label class=\"widget-label\" for=\"ea87d53a-15a1-474f-a14d-2f84302a10d5\" style=\"display: none;\"></label>\n",
    "    <textarea rows=\"\" id=\"ea87d53a-15a1-474f-a14d-2f84302a10d5\" class=\"widget-input\" placeholder=\"​\"></textarea>\n",
    "</div>\n",
    "```"
   ]
  },
  {
   "cell_type": "code",
   "execution_count": null,
   "metadata": {},
   "outputs": [],
   "source": [
    "@dataclass\n",
    "class TextArea(Value):\n",
    "    value: str = ''\n",
    "    @ar('/value', methods=['POST'], name='value')\n",
    "    def changed(self, value:str):\n",
    "        with self._updating(): self.value = value\n",
    "    def value_control(self):\n",
    "        return H.Textarea(name='value', \n",
    "                hx_post=self.ar.value, hx_trigger='keyup changed throttle:100ms', hx_swap='none')(self.value)"
   ]
  },
  {
   "cell_type": "code",
   "execution_count": null,
   "metadata": {},
   "outputs": [],
   "source": [
    "app.routes.clear()"
   ]
  },
  {
   "cell_type": "code",
   "execution_count": null,
   "metadata": {},
   "outputs": [],
   "source": [
    "v = TextArea('Hello, world!')\n",
    "with bridge_cfg(auto_show=False):\n",
    "    display(v.__ft__())\n",
    "v"
   ]
  },
  {
   "cell_type": "code",
   "execution_count": null,
   "metadata": {},
   "outputs": [],
   "source": [
    "v.value"
   ]
  },
  {
   "cell_type": "code",
   "execution_count": null,
   "metadata": {},
   "outputs": [],
   "source": [
    "v.value = 'Adieu!'"
   ]
  },
  {
   "cell_type": "code",
   "execution_count": null,
   "metadata": {},
   "outputs": [],
   "source": [
    "show_routes(app)"
   ]
  },
  {
   "cell_type": "markdown",
   "metadata": {},
   "source": [
    "## Combobox"
   ]
  },
  {
   "cell_type": "code",
   "execution_count": null,
   "metadata": {},
   "outputs": [],
   "source": [
    "# W.Combobox(\n",
    "#     value='Paul',\n",
    "#     placeholder='Choose Someone',\n",
    "#     options=['Paul', 'John', 'George', 'Ringo'],\n",
    "#     description='Combobox:',\n",
    "#     ensure_option=True,\n",
    "#     disabled=False\n",
    "# )"
   ]
  },
  {
   "cell_type": "markdown",
   "metadata": {},
   "source": [
    "```html\n",
    "<div class=\"lm-Widget jupyter-widgets widget-inline-hbox widget-text\">\n",
    "    <label class=\"widget-label\" for=\"81e63e64-d351-4dd4-860a-6982c4d65bee\" style=\"\">Combobox:</label>\n",
    "    <input type=\"text\" id=\"81e63e64-d351-4dd4-860a-6982c4d65bee\" class=\"widget-input\" placeholder=\"Choose Someone\" list=\"62fd0f57-8eef-4b16-97d8-2648d373e452\">\n",
    "    <datalist id=\"62fd0f57-8eef-4b16-97d8-2648d373e452\">\n",
    "        <option value=\"Paul\"></option>\n",
    "        <option value=\"John\"></option>\n",
    "        <option value=\"George\"></option>\n",
    "        <option value=\"Ringo\"></option>\n",
    "    </datalist>\n",
    "</div>\n",
    "```"
   ]
  },
  {
   "cell_type": "code",
   "execution_count": null,
   "metadata": {},
   "outputs": [],
   "source": [
    "@dataclass\n",
    "class Combobox(Value):\n",
    "    value: str = ''\n",
    "    options: list[str] = field(default_factory=list)\n",
    "    def value_control(self):\n",
    "        return (\n",
    "            H.Input(type='text', name='value', list='abc-456', placeholder='Choose Someone', \n",
    "                hx_post=self.ar.value, hx_swap='none',\n",
    "            ),\n",
    "            H.Datalist(id='abc-456')(*map(lambda x:H.Option(value=x), self.options)),\n",
    "        )"
   ]
  },
  {
   "cell_type": "code",
   "execution_count": null,
   "metadata": {},
   "outputs": [],
   "source": [
    "v = Combobox('Ringo', ['Paul', 'John', 'George', 'Ringo'])\n",
    "with bridge_cfg(auto_show=False):\n",
    "    display(v.__ft__())\n",
    "v"
   ]
  },
  {
   "cell_type": "code",
   "execution_count": null,
   "metadata": {},
   "outputs": [],
   "source": [
    "v.value"
   ]
  },
  {
   "cell_type": "code",
   "execution_count": null,
   "metadata": {},
   "outputs": [],
   "source": [
    "v.value = 'George'"
   ]
  },
  {
   "cell_type": "code",
   "execution_count": null,
   "metadata": {},
   "outputs": [],
   "source": [
    "show_routes(app)"
   ]
  },
  {
   "cell_type": "markdown",
   "metadata": {},
   "source": [
    "# Button"
   ]
  },
  {
   "cell_type": "code",
   "execution_count": null,
   "metadata": {},
   "outputs": [],
   "source": [
    "# W.Button(\n",
    "#     description='Click me',\n",
    "#     disabled=False,\n",
    "#     button_style='', # 'success', 'info', 'warning', 'danger' or ''\n",
    "#     tooltip='Click me',\n",
    "#     icon='check' # (FontAwesome names without the `fa-` prefix)\n",
    "# )"
   ]
  },
  {
   "cell_type": "markdown",
   "metadata": {},
   "source": [
    "```html\n",
    "<button class=\"lm-Widget jupyter-widgets jupyter-button widget-button\" title=\"Click me\"><i class=\"fa fa-check\"></i>Click me</button>\n",
    "```"
   ]
  },
  {
   "cell_type": "code",
   "execution_count": null,
   "metadata": {},
   "outputs": [],
   "source": [
    "@dataclass\n",
    "class Button(Control):\n",
    "    icon: str = ''\n",
    "    def controls(self):\n",
    "        return (H.Button(title=self.description)(H.I(cls=f\"fa fa-{self.icon}\"), self.description), )"
   ]
  },
  {
   "cell_type": "code",
   "execution_count": null,
   "metadata": {},
   "outputs": [],
   "source": [
    "v = Button('check', description='Click me')\n",
    "with bridge_cfg(auto_show=False):\n",
    "    display(v.__ft__())\n",
    "v"
   ]
  },
  {
   "cell_type": "markdown",
   "metadata": {},
   "source": [
    "# Containers"
   ]
  },
  {
   "cell_type": "markdown",
   "metadata": {},
   "source": [
    "### Box"
   ]
  },
  {
   "cell_type": "code",
   "execution_count": null,
   "metadata": {},
   "outputs": [],
   "source": [
    "primes = list(map(int, \"\"\"\n",
    "2\t3\t5\t7\t11\t13\t17\t19\t23\t29\t31\t37\t41\t43\t47\t53\t59\t61\t67\t71\n",
    "73\t79\t83\t89\t97\t101\t103\t107\t109\t113\t127\t131\t137\t139\t149\t151\t157\t163\t167\t173\n",
    "179\t181\t191\t193\t197\t199\t211\t223\t227\t229\t233\t239\t241\t251\t257\t263\t269\t271\t277\t281\n",
    "283\t293\t307\t311\t313\t317\t331\t337\t347\t349\t353\t359\t367\t373\t379\t383\t389\t397\t401\t409\n",
    "419\t421\t431\t433\t439\t443\t449\t457\t461\t463\t467\t479\t487\t491\t499\t503\t509\t521\t523\t541\n",
    "547\t557\t563\t569\t571\t577\t587\t593\t599\t601\t607\t613\t617\t619\t631\t641\t643\t647\t653\t659\n",
    "661\t673\t677\t683\t691\t701\t709\t719\t727\t733\t739\t743\t751\t757\t761\t769\t773\t787\t797\t809\n",
    "811\t821\t823\t827\t829\t839\t853\t857\t859\t863\t877\t881\t883\t887\t907\t911\t919\t929\t937\t941\n",
    "947\t953\t967\t971\t977\t983\t991\t997\"\"\".split()))\n",
    "len(primes)"
   ]
  },
  {
   "cell_type": "code",
   "execution_count": null,
   "metadata": {},
   "outputs": [],
   "source": [
    "# title_widget = W.HTML('<em>Box Example</em>')\n",
    "# slider = W.IntSlider()\n",
    "# W.Box([title_widget, slider])"
   ]
  },
  {
   "cell_type": "code",
   "execution_count": null,
   "metadata": {},
   "outputs": [],
   "source": [
    "# W.HBox([title_widget, slider]) # flex-direction: row;"
   ]
  },
  {
   "cell_type": "code",
   "execution_count": null,
   "metadata": {},
   "outputs": [],
   "source": [
    "# W.VBox([title_widget, slider]) # flex-direction: column;"
   ]
  },
  {
   "cell_type": "code",
   "execution_count": null,
   "metadata": {},
   "outputs": [],
   "source": [
    "@dataclass\n",
    "class Box(Control):\n",
    "    children: list[Bridgeable] = field(default_factory=list)\n",
    "    _css = 'display: flex; margin: 0;'\n",
    "\n",
    "    def controls(self): return self.children\n",
    "    def on_children(self, nw: Any, old: Any):\n",
    "        dh = self.bridget(self, display_id=self.dh)\n",
    "        if self.dh is None: self.dh = dh\n",
    "\n",
    "@dataclass\n",
    "class HBox(Box):\n",
    "    _css = 'flex-direction: row; gap: 10px; column-gap: 10px;'\n",
    "\n",
    "@dataclass\n",
    "class VBox(Box):\n",
    "    _css = 'flex-direction: column; row-gap: 5px;'"
   ]
  },
  {
   "cell_type": "code",
   "execution_count": null,
   "metadata": {},
   "outputs": [],
   "source": [
    "v = Box(['Hello', Text('world!')])\n",
    "with bridge_cfg(auto_show=False):\n",
    "    display(v.__ft__())\n",
    "v"
   ]
  },
  {
   "cell_type": "code",
   "execution_count": null,
   "metadata": {},
   "outputs": [],
   "source": [
    "w = HBox(['Hello', Text('world!')])\n",
    "with bridge_cfg(auto_show=False):\n",
    "    display(w.__ft__())\n",
    "w"
   ]
  },
  {
   "cell_type": "code",
   "execution_count": null,
   "metadata": {},
   "outputs": [],
   "source": [
    "w = VBox(['Hello', Text('world!')])\n",
    "with bridge_cfg(auto_show=False):\n",
    "    display(w.__ft__())\n",
    "w"
   ]
  },
  {
   "cell_type": "code",
   "execution_count": null,
   "metadata": {},
   "outputs": [],
   "source": [
    "w = HBox()\n",
    "with bridge_cfg(auto_show=False):\n",
    "    display(w.__ft__())\n",
    "w"
   ]
  },
  {
   "cell_type": "code",
   "execution_count": null,
   "metadata": {},
   "outputs": [],
   "source": [
    "w.cell#nb.cell_by_did(w.dh.display_id)"
   ]
  },
  {
   "cell_type": "code",
   "execution_count": null,
   "metadata": {},
   "outputs": [],
   "source": [
    "test_eq(w.children, [])\n",
    "w.children = [vt1 := H.Text('asdf')]\n",
    "\n",
    "test_eq(w.children, [vt1])\n",
    "# test_eq(w.dhdl.contents(), f'<div id=\"{w.ar.name()}\" class=\"widget\">\\n<text>asdf</text></div>\\n')  # type: ignore\n",
    "test_is('asdf' in w.cell.outputs[1]['data']['text/html'], True)"
   ]
  },
  {
   "cell_type": "code",
   "execution_count": null,
   "metadata": {},
   "outputs": [],
   "source": [
    "w.children = [*w.children, vb1 :=H.Button('asdf')]\n",
    "\n",
    "test_eq(w.children, [vt1, vb1])\n",
    "test_is('button' in w.cell.outputs[1]['data']['text/html'], True)"
   ]
  },
  {
   "cell_type": "code",
   "execution_count": null,
   "metadata": {},
   "outputs": [],
   "source": [
    "w.children = [*w.children, vb2 := Button('check', description='Click me')]\n",
    "\n",
    "test_eq(w.children, [vt1, vb1, vb2])\n",
    "test_is(vb2.ar.name() in w.cell.outputs[1]['data']['text/html'], True)"
   ]
  },
  {
   "cell_type": "code",
   "execution_count": null,
   "metadata": {},
   "outputs": [],
   "source": [
    "# w = Widget(contents=[Button('asdf'), Text('asdf')])"
   ]
  },
  {
   "cell_type": "code",
   "execution_count": null,
   "metadata": {},
   "outputs": [],
   "source": [
    "# help(Widget)"
   ]
  },
  {
   "cell_type": "code",
   "execution_count": null,
   "metadata": {},
   "outputs": [],
   "source": [
    "show_routes(app)"
   ]
  },
  {
   "cell_type": "code",
   "execution_count": null,
   "metadata": {},
   "outputs": [],
   "source": [
    "cprint(app.routes[1].app.routes)  # type: ignore"
   ]
  },
  {
   "cell_type": "markdown",
   "metadata": {},
   "source": [
    "# Numeric"
   ]
  },
  {
   "cell_type": "markdown",
   "metadata": {},
   "source": [
    "## IntText\n"
   ]
  },
  {
   "cell_type": "code",
   "execution_count": null,
   "metadata": {},
   "outputs": [],
   "source": [
    "@dataclass\n",
    "class IntText(Value):\n",
    "    value: int = 0\n",
    "    @ar('/value', methods=['POST'], name='value')\n",
    "    def changed(self, value:int):\n",
    "        with self._updating(): self.value = value\n",
    "        # return the update to allow feedback\n",
    "        return self.value or str(self.value)  # fasthtml inconditionally handles 0s from route handlers as falsy, not bona fide values\n",
    "    def value_control(self):\n",
    "        return H.Input(name='value', value=str(self.value), type='number', \n",
    "                # hx_post=f\"{self.ar.to('changed')}\", hx_trigger='input changed throttle:50ms', hx_swap='none')\n",
    "                hx_post=self.ar.value, hx_trigger='input changed', hx_swap='none')"
   ]
  },
  {
   "cell_type": "code",
   "execution_count": null,
   "metadata": {},
   "outputs": [],
   "source": [
    "app.routes.clear()"
   ]
  },
  {
   "cell_type": "code",
   "execution_count": null,
   "metadata": {},
   "outputs": [],
   "source": [
    "v = IntText(5)\n",
    "with bridge_cfg(auto_show=False):\n",
    "    display(v.__ft__())\n",
    "v"
   ]
  },
  {
   "cell_type": "code",
   "execution_count": null,
   "metadata": {},
   "outputs": [],
   "source": [
    "v.value"
   ]
  },
  {
   "cell_type": "code",
   "execution_count": null,
   "metadata": {},
   "outputs": [],
   "source": [
    "v.value = 10"
   ]
  },
  {
   "cell_type": "code",
   "execution_count": null,
   "metadata": {},
   "outputs": [],
   "source": [
    "show_routes(app)"
   ]
  },
  {
   "cell_type": "markdown",
   "metadata": {},
   "source": [
    "## BoundedInt"
   ]
  },
  {
   "cell_type": "code",
   "execution_count": null,
   "metadata": {},
   "outputs": [],
   "source": [
    "@dataclass\n",
    "class BoundedInt(IntText):\n",
    "    min: int = 0\n",
    "    max: int = 100\n",
    "    step: int = 1\n",
    "\n",
    "    def setup_values(self):\n",
    "        if (val := self.value) < self.min: self.value = self.min\n",
    "        elif val > self.max: self.value = self.max\n",
    "\n",
    "    def value_control(self):\n",
    "        return super().value_control()(min=str(self.min), max=str(self.max), step=str(self.step))"
   ]
  },
  {
   "cell_type": "code",
   "execution_count": null,
   "metadata": {},
   "outputs": [],
   "source": [
    "v = BoundedInt(10, 5, 15)\n",
    "with bridge_cfg(auto_show=False):\n",
    "    display(v.__ft__())\n",
    "v"
   ]
  },
  {
   "cell_type": "code",
   "execution_count": null,
   "metadata": {},
   "outputs": [],
   "source": [
    "v.value"
   ]
  },
  {
   "cell_type": "code",
   "execution_count": null,
   "metadata": {},
   "outputs": [],
   "source": [
    "v.max = 10\n",
    "test_eq(v.value, 10)"
   ]
  },
  {
   "cell_type": "markdown",
   "metadata": {},
   "source": [
    "## IntSlider"
   ]
  },
  {
   "cell_type": "code",
   "execution_count": null,
   "metadata": {},
   "outputs": [],
   "source": [
    "@dataclass\n",
    "class IntSlider(BoundedInt):\n",
    "    readout: bool = True\n",
    "    readout_format: str = 'd'\n",
    "    \n",
    "    _wrapper_class = 'slider'\n",
    "    def value_control(self):\n",
    "        return super().value_control()(type='range', hx_target='next text', hx_swap='textContent')\n",
    "    def controls(self):\n",
    "        return (H.Label(_for='value')('Scale'), _n,\n",
    "                self.value_control(),\n",
    "                H.Text(id='spanscale', style='inline')(self.value), _n)"
   ]
  },
  {
   "cell_type": "code",
   "execution_count": null,
   "metadata": {},
   "outputs": [],
   "source": [
    "# brt.bridge.logger.show(clear=True)"
   ]
  },
  {
   "cell_type": "code",
   "execution_count": null,
   "metadata": {},
   "outputs": [],
   "source": [
    "iv = IntSlider()\n",
    "with bridge_cfg(auto_show=False):\n",
    "    display(iv.__ft__())\n",
    "iv"
   ]
  },
  {
   "cell_type": "code",
   "execution_count": null,
   "metadata": {},
   "outputs": [],
   "source": [
    "# response = brt(_debug_req('value', iv.ar.value.to(), 'POST', 'value=50'))"
   ]
  },
  {
   "cell_type": "code",
   "execution_count": null,
   "metadata": {},
   "outputs": [],
   "source": [
    "iv.value"
   ]
  },
  {
   "cell_type": "code",
   "execution_count": null,
   "metadata": {},
   "outputs": [],
   "source": [
    "iv.value = 89"
   ]
  },
  {
   "cell_type": "code",
   "execution_count": null,
   "metadata": {},
   "outputs": [],
   "source": [
    "iv.min = 20\n",
    "test_eq(iv.value, 89)"
   ]
  },
  {
   "cell_type": "code",
   "execution_count": null,
   "metadata": {},
   "outputs": [],
   "source": [
    "iv.max = 80\n",
    "test_eq(iv.value, 80)"
   ]
  },
  {
   "cell_type": "code",
   "execution_count": null,
   "metadata": {},
   "outputs": [],
   "source": [
    "iv2 = IntSlider(33, step=2)\n",
    "iv2"
   ]
  },
  {
   "cell_type": "code",
   "execution_count": null,
   "metadata": {},
   "outputs": [],
   "source": [
    "iv3 = IntSlider()\n",
    "iv4 = IntSlider()\n",
    "link((iv3, 'value'), (iv4, 'value'))\n",
    "\n",
    "box = Div(style='display: flex; gap: 1em;')(iv3, iv4)\n",
    "box"
   ]
  },
  {
   "cell_type": "code",
   "execution_count": null,
   "metadata": {},
   "outputs": [],
   "source": [
    "iv3.value = 22\n",
    "test_eq((iv3.value, iv4.value), (22, 22))"
   ]
  },
  {
   "cell_type": "code",
   "execution_count": null,
   "metadata": {},
   "outputs": [],
   "source": [
    "iv5 = IntSlider(57)\n",
    "iv6 = IntSlider()\n",
    "link((iv5, 'value'), (iv6, 'value'))\n",
    "\n",
    "box = HBox([iv5, iv6])\n",
    "box"
   ]
  },
  {
   "cell_type": "markdown",
   "metadata": {},
   "source": [
    "# Bool"
   ]
  },
  {
   "cell_type": "code",
   "execution_count": null,
   "metadata": {},
   "outputs": [],
   "source": [
    "class _Bool(Value):\n",
    "    value: bool = False\n",
    "    @ar('/value', methods=['POST'], name='value')\n",
    "    def changed(self, value:str='', abc:bool=False):\n",
    "        with self._updating(): self.value = not self.value\n",
    "        return ''"
   ]
  },
  {
   "cell_type": "markdown",
   "metadata": {},
   "source": [
    "```HTML\n",
    "<div class=\"lm-Widget jupyter-widgets widget-inline-hbox widget-checkbox\">\n",
    "    <label class=\"widget-label\" style=\"\">​</label>\n",
    "    <label class=\"widget-label-basic\">\n",
    "        <input type=\"checkbox\">\n",
    "        <span title=\"\"></span>\n",
    "    </label>\n",
    "</div>\n",
    "```"
   ]
  },
  {
   "cell_type": "code",
   "execution_count": null,
   "metadata": {},
   "outputs": [],
   "source": [
    "# w = W.Checkbox(True)\n",
    "# w"
   ]
  },
  {
   "cell_type": "code",
   "execution_count": null,
   "metadata": {},
   "outputs": [],
   "source": [
    "class Checkbox(_Bool):\n",
    "    def value_control(self):\n",
    "        return H.Div(cls='inline-hbox')(\n",
    "            H.Label('Check')(\n",
    "                Input(type='checkbox', name='value', checked=self.value, \n",
    "                    hx_post=self.ar.value, hx_trigger='click', \n",
    "                    hx_vals=\"js:{'abc':event.target.checked}\", hx_swap='none')\n",
    "            ),\n",
    "        )"
   ]
  },
  {
   "cell_type": "code",
   "execution_count": null,
   "metadata": {},
   "outputs": [],
   "source": [
    "# brt.bridge.logger.show(clear=True)"
   ]
  },
  {
   "cell_type": "code",
   "execution_count": null,
   "metadata": {},
   "outputs": [],
   "source": [
    "# app.routes.clear()"
   ]
  },
  {
   "cell_type": "code",
   "execution_count": null,
   "metadata": {},
   "outputs": [],
   "source": [
    "v = Checkbox(False)\n",
    "with bridge_cfg(auto_show=False):\n",
    "    display(v.__ft__())\n",
    "v"
   ]
  },
  {
   "cell_type": "code",
   "execution_count": null,
   "metadata": {},
   "outputs": [],
   "source": [
    "# response = brt(_debug_req('value', f\"{v.ar.to('changed')}\", 'POST', 'value=on&abc=true'))"
   ]
  },
  {
   "cell_type": "code",
   "execution_count": null,
   "metadata": {},
   "outputs": [],
   "source": [
    "test_is(v.value, False)"
   ]
  },
  {
   "cell_type": "code",
   "execution_count": null,
   "metadata": {},
   "outputs": [],
   "source": [
    "v.value = True"
   ]
  },
  {
   "cell_type": "code",
   "execution_count": null,
   "metadata": {},
   "outputs": [],
   "source": [
    "test_is(v.value, True)"
   ]
  },
  {
   "cell_type": "markdown",
   "metadata": {},
   "source": [
    "```HTML\n",
    "<div class=\"lm-Widget p-Widget jupyter-widgets widget-valid widget-inline-hbox mod-invalid\"><label class=\"widget-label\" title=\"null\" style=\"display: none;\"></label><i class=\"fa fa-fw fa-times\"></i><span class=\"widget-valid-readout widget-readout\">Invalid</span></div>\n",
    "\n",
    "<div class=\"lm-Widget jupyter-widgets widget-valid widget-inline-hbox mod-valid\"><label class=\"widget-label\" title=\"null\" style=\"display: none;\"></label><i class=\"fa fa-fw fa-check\"></i><span class=\"widget-valid-readout widget-readout\">Invalid</span></div>\n",
    "```"
   ]
  },
  {
   "cell_type": "code",
   "execution_count": null,
   "metadata": {},
   "outputs": [],
   "source": [
    "# w = W.Valid(True)\n",
    "# w"
   ]
  },
  {
   "cell_type": "code",
   "execution_count": null,
   "metadata": {},
   "outputs": [],
   "source": [
    "class Valid(_Bool):\n",
    "    def value_control(self):\n",
    "        return H.Div(cls='inline-hbox mod-invalid')(\n",
    "            H.I(cls=f\"fa fa-fw fa-{'check' if self.value else 'times'}\"),\n",
    "            H.Text(cls='readout')('valid' if self.value else 'invalid')\n",
    "        )"
   ]
  },
  {
   "cell_type": "code",
   "execution_count": null,
   "metadata": {},
   "outputs": [],
   "source": [
    "v = Valid(True)\n",
    "with bridge_cfg(auto_show=False):\n",
    "    display(v.__ft__())\n",
    "v"
   ]
  },
  {
   "cell_type": "code",
   "execution_count": null,
   "metadata": {},
   "outputs": [],
   "source": [
    "v.value"
   ]
  },
  {
   "cell_type": "code",
   "execution_count": null,
   "metadata": {},
   "outputs": [],
   "source": [
    "v.value = False"
   ]
  },
  {
   "cell_type": "code",
   "execution_count": null,
   "metadata": {},
   "outputs": [],
   "source": [
    "# w = W.ToggleButton(True, description='Click me')\n",
    "# w"
   ]
  },
  {
   "cell_type": "markdown",
   "metadata": {},
   "source": [
    "```html\n",
    "<button class=\"lm-Widget jupyter-widgets jupyter-button widget-toggle-button mod-active\" tabbable=\"null\" title=\"null\">Click me</button>\n",
    "```\n",
    "\n",
    "```html\n",
    "<button class=\"lm-Widget jupyter-widgets jupyter-button widget-toggle-button\" tabbable=\"null\" title=\"null\">Click me</button>\n",
    "```"
   ]
  },
  {
   "cell_type": "code",
   "execution_count": null,
   "metadata": {},
   "outputs": [],
   "source": [
    "class ToggleButton(_Bool):\n",
    "    @ar('/value', methods=['POST'], name='value')\n",
    "    def changed(self, value:bool):\n",
    "        with self._updating(): self.value = not value\n",
    "        return self.value_control()\n",
    "    def value_control(self):\n",
    "        return H.Button('Click me')(\n",
    "            cls=f\"button\", name='value', \n",
    "            value=f\"{'on' if self.value else 'off'}\", style=f\"{'background-color:darkgray' if self.value else ''}\",\n",
    "            hx_post=self.ar.value, hx_swap='outerHTML')"
   ]
  },
  {
   "cell_type": "code",
   "execution_count": null,
   "metadata": {},
   "outputs": [],
   "source": [
    "# brt.bridge.logger.show(clear=True)"
   ]
  },
  {
   "cell_type": "code",
   "execution_count": null,
   "metadata": {},
   "outputs": [],
   "source": [
    "# app.routes.clear()"
   ]
  },
  {
   "cell_type": "code",
   "execution_count": null,
   "metadata": {},
   "outputs": [],
   "source": [
    "v = ToggleButton(False)\n",
    "with bridge_cfg(auto_show=False):\n",
    "    display(v.__ft__())\n",
    "v"
   ]
  },
  {
   "cell_type": "code",
   "execution_count": null,
   "metadata": {},
   "outputs": [],
   "source": [
    "# response = brt(_debug_req('value', f\"{v.ar.to('changed')}\", 'POST', 'value=on'))\n",
    "# print(v.value)"
   ]
  },
  {
   "cell_type": "markdown",
   "metadata": {},
   "source": [
    "# Selection"
   ]
  },
  {
   "cell_type": "markdown",
   "metadata": {},
   "source": [
    "## Dropdown"
   ]
  },
  {
   "cell_type": "code",
   "execution_count": null,
   "metadata": {},
   "outputs": [],
   "source": [
    "# W.Dropdown(\n",
    "#     options=['1', '2', '3'],\n",
    "#     value='2',\n",
    "#     description='Number:',\n",
    "#     disabled=False,\n",
    "# )"
   ]
  },
  {
   "cell_type": "markdown",
   "metadata": {},
   "source": [
    "```html\n",
    "<div class=\"lm-Widget jupyter-widgets widget-inline-hbox widget-dropdown\">\n",
    "    <label class=\"widget-label\" for=\"3f6a6063-c1fa-4f3d-966b-185eb49eb67f\" style=\"\">Number:</label>\n",
    "    <select id=\"3f6a6063-c1fa-4f3d-966b-185eb49eb67f\">\n",
    "        <option data-value=\"1\" value=\"1\">1</option>\n",
    "        <option data-value=\"2\" value=\"2\">2</option>\n",
    "        <option data-value=\"3\" value=\"3\">3</option>\n",
    "    </select>\n",
    "</div>\n",
    "```"
   ]
  },
  {
   "cell_type": "code",
   "execution_count": null,
   "metadata": {},
   "outputs": [],
   "source": [
    "# W.Dropdown(\n",
    "#     options=[('One', 1), ('Two', 2), ('Three', 3)],\n",
    "#     value=2,\n",
    "#     description='Number:',\n",
    "# )"
   ]
  },
  {
   "cell_type": "code",
   "execution_count": null,
   "metadata": {},
   "outputs": [],
   "source": [
    "@dataclass\n",
    "class _Select(Value):\n",
    "    options: list[tuple[str, Any]|Any] = field(default_factory=list)\n",
    "\n",
    "    def __post_init__(self):\n",
    "        self.options = [t if isinstance(t, tuple) else (str(t), t) for t in self.options]\n",
    "        super().__post_init__()\n",
    "\n",
    "    @cached_property\n",
    "    def values(self) -> list[Any]: return [v for _,v in self.options]\n",
    "    @property\n",
    "    def index(self) -> int|None: return self.values.index(self.value) if self.value in self.values else None\n",
    "    @index.setter\n",
    "    def index(self, i:int): self.value = self.values[i] if i>=0 and i<len(self.options) else None\n",
    "    \n",
    "    def on_options(self, nw: Any):\n",
    "        try: del self.values\n",
    "        except Exception: pass\n",
    "        if self.value not in self.values: self.value = None\n",
    "\n",
    "    @ar('/value', methods=['POST'], name='value')\n",
    "    def changed(self, value:str, index:int):\n",
    "        with self._updating():\n",
    "            # self.index = index\n",
    "            self.value = self.options[index][1]\n",
    "            self.setup_values()"
   ]
  },
  {
   "cell_type": "code",
   "execution_count": null,
   "metadata": {},
   "outputs": [],
   "source": [
    "@dataclass\n",
    "class Dropdown(_Select):\n",
    "    def value_control(self):\n",
    "        return H.Div(cls='inline-hbox')(\n",
    "            H.Label(self.description)(\n",
    "                H.Select(name='value', \n",
    "                    hx_post=self.ar.value, \n",
    "                    hx_vals=\"js:{'index':event.target.selectedIndex}\", hx_swap='none')(\n",
    "                    *[Option(value=opt[1], selected=i==self.index)(opt[0]) for i,opt in enumerate(self.options)]\n",
    "                )\n",
    "            )\n",
    "        )"
   ]
  },
  {
   "cell_type": "code",
   "execution_count": null,
   "metadata": {},
   "outputs": [],
   "source": [
    "# brt.bridge.logger.show(clear=True)"
   ]
  },
  {
   "cell_type": "code",
   "execution_count": null,
   "metadata": {},
   "outputs": [],
   "source": [
    "# app.routes.clear()"
   ]
  },
  {
   "cell_type": "code",
   "execution_count": null,
   "metadata": {},
   "outputs": [],
   "source": [
    "v = Dropdown(\n",
    "    value=2,\n",
    "    options=[('One', 1), ('Two', 2), ('Three', 3)]\n",
    ")\n",
    "with bridge_cfg(auto_show=False):\n",
    "    display(v.__ft__())\n",
    "v"
   ]
  },
  {
   "cell_type": "code",
   "execution_count": null,
   "metadata": {},
   "outputs": [],
   "source": [
    "v.value, v.index"
   ]
  },
  {
   "cell_type": "code",
   "execution_count": null,
   "metadata": {},
   "outputs": [],
   "source": [
    "v.value = 1"
   ]
  },
  {
   "cell_type": "markdown",
   "metadata": {},
   "source": [
    "## Select"
   ]
  },
  {
   "cell_type": "code",
   "execution_count": null,
   "metadata": {},
   "outputs": [],
   "source": [
    "# W.Select(\n",
    "#     options=['Linux', 'Windows', 'macOS'],\n",
    "#     value='macOS',\n",
    "#     # rows=10,\n",
    "#     description='OS:',\n",
    "#     disabled=False\n",
    "# )"
   ]
  },
  {
   "cell_type": "markdown",
   "metadata": {},
   "source": [
    "```html\n",
    "<div class=\"lm-Widget jupyter-widgets widget-inline-hbox widget-select\">\n",
    "    <label class=\"widget-label\" for=\"a3c9d534-7c03-4948-9cf2-87dc8f353e1f\" style=\"\">OS:</label>\n",
    "    <select id=\"a3c9d534-7c03-4948-9cf2-87dc8f353e1f\" size=\"5\">\n",
    "        <option data-value=\"Linux\" value=\"Linux\">Linux</option>\n",
    "        <option data-value=\"Windows\" value=\"Windows\">Windows</option>\n",
    "        <option data-value=\"macOS\" value=\"macOS\">macOS</option>\n",
    "    </select>\n",
    "</div>\n",
    "```"
   ]
  },
  {
   "cell_type": "code",
   "execution_count": null,
   "metadata": {},
   "outputs": [],
   "source": [
    "@dataclass\n",
    "class SelectArea(_Select):\n",
    "    rows: int = 5\n",
    "\n",
    "    def value_control(self):\n",
    "        return H.Div(cls='inline-hbox')(\n",
    "            H.Label(self.description)(\n",
    "                H.Select(name='value', size=self.rows,\n",
    "                    hx_post=self.ar.value, \n",
    "                    hx_vals=\"js:{'index':event.target.selectedIndex}\", hx_swap='none')(\n",
    "                    *[H.Option(value=opt[1], selected=i==self.index)(opt[0]) for i,opt in enumerate(self.options)]\n",
    "                )\n",
    "            )\n",
    "        )"
   ]
  },
  {
   "cell_type": "code",
   "execution_count": null,
   "metadata": {},
   "outputs": [],
   "source": [
    "# brt.bridge.logger.show(clear=True)"
   ]
  },
  {
   "cell_type": "code",
   "execution_count": null,
   "metadata": {},
   "outputs": [],
   "source": [
    "# app.routes.clear()"
   ]
  },
  {
   "cell_type": "code",
   "execution_count": null,
   "metadata": {},
   "outputs": [],
   "source": [
    "v = SelectArea(\n",
    "    options=['Linux', 'Windows', 'macOS'],\n",
    "    value='macOS',\n",
    "    # rows=10,\n",
    "    description='OS:',\n",
    ")\n",
    "with bridge_cfg(auto_show=False):\n",
    "    display(v.__ft__())\n",
    "v"
   ]
  },
  {
   "cell_type": "code",
   "execution_count": null,
   "metadata": {},
   "outputs": [],
   "source": [
    "v.value, v.index"
   ]
  },
  {
   "cell_type": "code",
   "execution_count": null,
   "metadata": {},
   "outputs": [],
   "source": [
    "v.value = 'Windows'"
   ]
  },
  {
   "cell_type": "code",
   "execution_count": null,
   "metadata": {},
   "outputs": [],
   "source": [
    "# response = brt(_debug_req('value', f\"{v.ar.to('changed')}\", 'POST', 'value=Windows&index=1'))\n",
    "# print(v.value)"
   ]
  },
  {
   "cell_type": "markdown",
   "metadata": {},
   "source": [
    "## SelectMultiple"
   ]
  },
  {
   "cell_type": "code",
   "execution_count": null,
   "metadata": {},
   "outputs": [],
   "source": [
    "# W.SelectMultiple(\n",
    "#     options=['Apples', 'Oranges', 'Pears'],\n",
    "#     value=['Oranges'],\n",
    "#     #rows=10,\n",
    "#     description='Fruits',\n",
    "#     disabled=False\n",
    "# )"
   ]
  },
  {
   "cell_type": "markdown",
   "metadata": {},
   "source": [
    "```html\n",
    "<div class=\"lm-Widget jupyter-widgets widget-inline-hbox widget-select widget-select-multiple\">\n",
    "    <label class=\"widget-label\" for=\"c3af7603-7856-431f-ad6a-15ede273e09f\" style=\"\">Fruits</label>\n",
    "    <select multiple=\"\" id=\"c3af7603-7856-431f-ad6a-15ede273e09f\" size=\"5\">\n",
    "        <option data-value=\"Apples\" value=\"Apples\">Apples</option>\n",
    "        <option data-value=\"Oranges\" value=\"Oranges\">Oranges</option>\n",
    "        <option data-value=\"Pears\" value=\"Pears\">Pears</option>\n",
    "    </select>\n",
    "</div>\n",
    "```"
   ]
  },
  {
   "cell_type": "code",
   "execution_count": null,
   "metadata": {},
   "outputs": [],
   "source": [
    "@dataclass\n",
    "class SelectMultiple(_Select):\n",
    "    value: list[Any] = field(default_factory=list)\n",
    "    # index: list[int] = field(default_factory=list)\n",
    "    rows: int = 5\n",
    "\n",
    "    @property\n",
    "    def index(self) -> list[int]: return [self.values.index(_) for _ in self.value]\n",
    "    @index.setter\n",
    "    def index(self, ii:list[int]): self.value = [self.values[_] for _ in ii if _ in range(len(self.options))]\n",
    "\n",
    "    @ar('/value', methods=['POST'], name='value')\n",
    "    def changed(self, value:list[str]=[], index:list[int]=[]):\n",
    "        with self._updating():\n",
    "            # self.index = index\n",
    "            self.value = [self.values[_] for _ in index if _ in range(len(self.options))]\n",
    "            self.setup_values()\n",
    "\n",
    "    def value_control(self):\n",
    "        return H.Div(cls='inline-hbox')(\n",
    "            H.Label(self.description)(\n",
    "                H.Select(name='value', size=self.rows, multiple=True, \n",
    "                    hx_post=self.ar.value, \n",
    "                    hx_vals=\"js:{'index':[...event.target.selectedOptions].map(i=>i.index)}\", hx_swap='none')(\n",
    "                    *[H.Option(value=opt[1], selected=i in self.index)(opt[0]) for i,opt in enumerate(self.options)]\n",
    "                )\n",
    "            )\n",
    "        )"
   ]
  },
  {
   "cell_type": "code",
   "execution_count": null,
   "metadata": {},
   "outputs": [],
   "source": [
    "# brt.bridge.logger.show(clear=True)"
   ]
  },
  {
   "cell_type": "code",
   "execution_count": null,
   "metadata": {},
   "outputs": [],
   "source": [
    "# app.routes.clear()"
   ]
  },
  {
   "cell_type": "code",
   "execution_count": null,
   "metadata": {},
   "outputs": [],
   "source": [
    "v = SelectMultiple(\n",
    "    options=['Apples', 'Oranges', 'Pears'],\n",
    "    value=['Pears'],\n",
    "    description='Fruits',\n",
    ")\n",
    "with bridge_cfg(auto_show=False):\n",
    "    display(v.__ft__())\n",
    "v"
   ]
  },
  {
   "cell_type": "code",
   "execution_count": null,
   "metadata": {},
   "outputs": [],
   "source": [
    "v.value, v.index"
   ]
  },
  {
   "cell_type": "markdown",
   "metadata": {},
   "source": [
    "## RadioButtons"
   ]
  },
  {
   "cell_type": "code",
   "execution_count": null,
   "metadata": {},
   "outputs": [],
   "source": [
    "# W.RadioButtons(\n",
    "#     options=['pepperoni', 'pineapple', 'anchovies'],\n",
    "# #    value='pineapple', # Defaults to 'pineapple'\n",
    "# #    layout={'width': 'max-content'}, # If the items' names are long\n",
    "#     description='Pizza topping:',\n",
    "#     disabled=False\n",
    "# )"
   ]
  },
  {
   "cell_type": "markdown",
   "metadata": {},
   "source": [
    "```html\n",
    "<div class=\"lm-Widget widget-radio\">\n",
    "    <label class=\"widget-label\" title=\"null\" style=\"\">Pizza topping:</label>\n",
    "    <div class=\"widget-radio-box widget-radio-box-vertical\" style=\"margin-bottom: 2px;\">\n",
    "        <label>pepperoni<input type=\"radio\" value=\"0\" data-value=\"pepperoni\"></label>\n",
    "        <label>pineapple<input type=\"radio\" value=\"1\" data-value=\"pineapple\"></label>\n",
    "        <label>anchovies<input type=\"radio\" value=\"2\" data-value=\"anchovies\"></label>\n",
    "    </div>\n",
    "</div>\n",
    "```"
   ]
  },
  {
   "cell_type": "code",
   "execution_count": null,
   "metadata": {},
   "outputs": [],
   "source": [
    "app.routes.clear()"
   ]
  },
  {
   "cell_type": "code",
   "execution_count": null,
   "metadata": {},
   "outputs": [],
   "source": [
    "@dataclass\n",
    "class RadioButtons(_Select):\n",
    "    @ar('/value', methods=['POST'], name='value')\n",
    "    def changed(self, index:int):\n",
    "        with self._updating():\n",
    "            self.value = self.options[index-1][1]\n",
    "    def value_control(self):\n",
    "        n = self.ar.name().split(':')[-1]\n",
    "        wid = self.wrapper_id()\n",
    "        return H.Div(cls='inline-hbox')(\n",
    "            H.Label(self.description)(\n",
    "                Div(name='value', hx_post=self.ar.value, \n",
    "                    hx_vals=\"js:{'index':[...document.querySelectorAll('#\" + wid + \" input')].filter(e=>e.checked)[0].value}\",\n",
    "                    hx_trigger=f\"click from:(#{wid} input)\", hx_swap='none')(\n",
    "                    *[H.Label(opt[0], \n",
    "                        H.Input(type='radio', value=i+1, name=n, checked=i==self.index)) \n",
    "                    for i,opt in enumerate(self.options)]\n",
    "                )\n",
    "            )\n",
    "        )"
   ]
  },
  {
   "cell_type": "code",
   "execution_count": null,
   "metadata": {},
   "outputs": [],
   "source": [
    "v = RadioButtons(\n",
    "    options=['Larry', 'Moe', 'Curly'],\n",
    "    value='Moe',\n",
    "    description='3S:',\n",
    ")\n",
    "with bridge_cfg(auto_show=False):\n",
    "    display(v.__ft__())\n",
    "v"
   ]
  },
  {
   "cell_type": "code",
   "execution_count": null,
   "metadata": {},
   "outputs": [],
   "source": [
    "# brt.bridge.logger.show(clear=True)"
   ]
  },
  {
   "cell_type": "code",
   "execution_count": null,
   "metadata": {},
   "outputs": [],
   "source": [
    "v.value, v.index"
   ]
  },
  {
   "cell_type": "code",
   "execution_count": null,
   "metadata": {},
   "outputs": [],
   "source": [
    "show_routes(app)"
   ]
  },
  {
   "cell_type": "code",
   "execution_count": null,
   "metadata": {},
   "outputs": [],
   "source": [
    "# W.Box(\n",
    "#     [\n",
    "#         W.Label(value='Pizza topping with a very long label:'), \n",
    "#         W.RadioButtons(\n",
    "#             options=[\n",
    "#                 'pepperoni', \n",
    "#                 'pineapple', \n",
    "#                 'anchovies', \n",
    "#                 'and the long name that will fit fine and the long name that will fit fine and the long name that will fit fine '\n",
    "#             ],\n",
    "#             layout={'width': 'max-content'}\n",
    "#         )\n",
    "#     ]\n",
    "# )"
   ]
  },
  {
   "cell_type": "markdown",
   "metadata": {},
   "source": [
    "```html\n",
    "<div class=\"widget-box\">\n",
    "    <div class=\"lm-Widget jupyter-widgets widget-inline-hbox widget-label\">Pizza topping with a very long label:</div>\n",
    "    <div class=\"radio\" style=\"width: max-content;\">\n",
    "        <label class=\"widget-label\" title=\"null\" style=\"display: none;\"></label>\n",
    "        <div class=\"radio-box radio-box-vertical\">\n",
    "            <label>pepperoni<input type=\"radio\" value=\"0\" data-value=\"pepperoni\"></label>\n",
    "            <label>pineapple<input type=\"radio\" value=\"1\" data-value=\"pineapple\"></label>\n",
    "            <label>anchovies<input type=\"radio\" value=\"2\" data-value=\"anchovies\"></label>\n",
    "            <label>and the long name that will fit fine and the long name that will fit fine and the long name that will fit fine <input type=\"radio\" value=\"3\" data-value=\"and%20the%20long%20name%20that%20will%20fit%20fine%20and%20the%20long%20name%20that%20will%20fit%20fine%20and%20the%20long%20name%20that%20will%20fit%20fine%20\"></label>\n",
    "        </div>\n",
    "    </div>\n",
    "</div>\n",
    "```"
   ]
  },
  {
   "cell_type": "markdown",
   "metadata": {},
   "source": [
    "## ToggleButtons"
   ]
  },
  {
   "cell_type": "code",
   "execution_count": null,
   "metadata": {},
   "outputs": [],
   "source": [
    "# W.ToggleButtons(\n",
    "#     options=['Slow', 'Regular', 'Fast'],\n",
    "#     description='Speed:',\n",
    "#     disabled=False,\n",
    "#     button_style='', # 'success', 'info', 'warning', 'danger' or ''\n",
    "#     tooltips=['Description of slow', 'Description of regular', 'Description of fast'],\n",
    "# #     icons=['check'] * 3\n",
    "# )\n"
   ]
  },
  {
   "cell_type": "markdown",
   "metadata": {},
   "source": [
    "```html\n",
    "<div class=\"lm-Widget widget-toggle-buttons\">\n",
    "    <label class=\"widget-label\" title=\"null\" style=\"\">Speed:</label>\n",
    "    <div>\n",
    "        <button type=\"button\" class=\"widget-toggle-button jupyter-button mod-active\" data-value=\"Slow\" value=\"0\" title=\"Description of slow\">Slow<i></i></button>\n",
    "        <button type=\"button\" class=\"widget-toggle-button jupyter-button\" data-value=\"Regular\" value=\"1\" title=\"Description of regular\">Regular<i></i></button>\n",
    "        <button type=\"button\" class=\"widget-toggle-button jupyter-button\" data-value=\"Fast\" value=\"2\" title=\"Description of fast\">Fast<i></i></button>\n",
    "    </div>\n",
    "</div>\n",
    "```"
   ]
  },
  {
   "cell_type": "markdown",
   "metadata": {},
   "source": [
    "# Simple widgets (Traitlets)\n"
   ]
  },
  {
   "cell_type": "markdown",
   "metadata": {},
   "source": [
    "## Value"
   ]
  },
  {
   "cell_type": "code",
   "execution_count": null,
   "metadata": {},
   "outputs": [],
   "source": [
    "# class Value(T.HasTraits, Control):\n",
    "#     value = T.Any()\n",
    "    \n",
    "#     @T.observe('value')\n",
    "#     def on_value(self, _):\n",
    "#         if self.bridget and not self._updating_:\n",
    "#             self.bridget.bridge.commander.swap(f\"#{self.ar.name()}\", to_xml(self.__ft__()), swapStyle='innerHTML')"
   ]
  },
  {
   "cell_type": "code",
   "execution_count": null,
   "metadata": {},
   "outputs": [],
   "source": [
    "# app.routes.clear()"
   ]
  },
  {
   "cell_type": "code",
   "execution_count": null,
   "metadata": {},
   "outputs": [],
   "source": [
    "# v = Value(value='Hello, world!')\n",
    "# with bridge_cfg(auto_show=False):\n",
    "#     display(v.__ft__())\n",
    "# v"
   ]
  },
  {
   "cell_type": "code",
   "execution_count": null,
   "metadata": {},
   "outputs": [],
   "source": [
    "# v.value"
   ]
  },
  {
   "cell_type": "code",
   "execution_count": null,
   "metadata": {},
   "outputs": [],
   "source": [
    "# v.value = 'bye!'"
   ]
  },
  {
   "cell_type": "markdown",
   "metadata": {},
   "source": [
    "## Numeric"
   ]
  },
  {
   "cell_type": "code",
   "execution_count": null,
   "metadata": {},
   "outputs": [],
   "source": [
    "# class Numeric(Value):\n",
    "#     value: int\n",
    "#     min, max, step = None, None, None\n",
    "#     input_type = 'number'\n",
    "#     hx_target, hx_swap = None, 'none'\n",
    "#     @ar('/value', methods=['POST'])\n",
    "#     def changed(self, value:int):\n",
    "#         with self._updating(): self.value = value\n",
    "#         return self.value  # fasthtml handles 0s from route handlers as falsy, not bona fide values\n",
    "#     def __ft__(self):\n",
    "#         return Input(type=self.input_type, name='value', \n",
    "#                     value=self.value, min=self.min, max=self.max, step=self.step,\n",
    "#                     hx_post=f\"/{self.ar.to()}/value\", hx_trigger='input changed throttle:100ms', \n",
    "#                     hx_target=self.hx_target, hx_swap=self.hx_swap)"
   ]
  },
  {
   "cell_type": "code",
   "execution_count": null,
   "metadata": {},
   "outputs": [],
   "source": [
    "# class _Int(_Value):\n",
    "#     value: int\n",
    "#     min, max, step = None, None, None\n",
    "#     input_type = 'number'\n",
    "#     hx_target, hx_swap = None, 'none'\n",
    "#     @ar('/value', methods=['POST'])\n",
    "#     def changed(self, value:int):\n",
    "#         with self._updating(): self.value = value\n",
    "#         return self.value  # fasthtml handles 0s from route handlers as falsy, not bona fide values\n",
    "#     def value_control(self):\n",
    "#         return Input(type=self.input_type, name='value', value=self.value, min=self.min, max=self.max, step=self.step,\n",
    "#                 hx_post=f\"/{self.ar.to()}/value\", hx_trigger='input changed throttle:100ms', \n",
    "#                 hx_target=self.hx_target, hx_swap=self.hx_swap)"
   ]
  },
  {
   "cell_type": "markdown",
   "metadata": {},
   "source": [
    "### IntText"
   ]
  },
  {
   "cell_type": "code",
   "execution_count": null,
   "metadata": {},
   "outputs": [],
   "source": [
    "# class IntText(Value, _Int):\n",
    "#     value = T.CInt()"
   ]
  },
  {
   "cell_type": "code",
   "execution_count": null,
   "metadata": {},
   "outputs": [],
   "source": [
    "# v = IntText(value=5)\n",
    "# with bridge_cfg(auto_show=False):\n",
    "#     display(v.__ft__())\n",
    "# v"
   ]
  },
  {
   "cell_type": "code",
   "execution_count": null,
   "metadata": {},
   "outputs": [],
   "source": [
    "# v.value"
   ]
  },
  {
   "cell_type": "code",
   "execution_count": null,
   "metadata": {},
   "outputs": [],
   "source": [
    "# v.value = 17"
   ]
  },
  {
   "cell_type": "markdown",
   "metadata": {},
   "source": [
    "### BoundedInt"
   ]
  },
  {
   "cell_type": "code",
   "execution_count": null,
   "metadata": {},
   "outputs": [],
   "source": [
    "# class BoundedInt(IntText):\n",
    "#     min = T.CInt(0)\n",
    "#     max = T.CInt(100)\n",
    "#     step = T.Int(1)\n",
    "\n",
    "#     def value_control(self): return super().value_control()(min=self.min, max=self.max, step=self.step)"
   ]
  },
  {
   "cell_type": "code",
   "execution_count": null,
   "metadata": {},
   "outputs": [],
   "source": [
    "# v = BoundedInt(value=10, min=5, max=15)\n",
    "# with bridge_cfg(auto_show=False):\n",
    "#     display(v.__ft__())\n",
    "# v"
   ]
  },
  {
   "cell_type": "code",
   "execution_count": null,
   "metadata": {},
   "outputs": [],
   "source": [
    "# v.value"
   ]
  },
  {
   "cell_type": "code",
   "execution_count": null,
   "metadata": {},
   "outputs": [],
   "source": [
    "# v.max = 17"
   ]
  },
  {
   "cell_type": "markdown",
   "metadata": {},
   "source": [
    "### IntSlider"
   ]
  },
  {
   "cell_type": "code",
   "execution_count": null,
   "metadata": {},
   "outputs": [],
   "source": [
    "# class IntSlider(BoundedInt):\n",
    "#     readout:bool=True; readout_format:str='d'\n",
    "    \n",
    "#     _wrapper_class = 'slider'\n",
    "#     def value_control(self):\n",
    "#         return Input(type='range', name='value', min=self.min, max=self.max, step=self.step, value=self.value,\n",
    "#                 hx_post=f\"/{self.ar.to()}/value\", hx_trigger='input changed throttle:100ms', \n",
    "#                 hx_target='next text', hx_swap='textContent')\n",
    "#     def setup_controls(self):\n",
    "#         return (Label(_for='value')('Scale'), _n,\n",
    "#                 self.value_control(),\n",
    "#                 Text(id='spanscale', style='inline')(self.value), _n)"
   ]
  },
  {
   "cell_type": "code",
   "execution_count": null,
   "metadata": {},
   "outputs": [],
   "source": [
    "# iv = IntSlider()\n",
    "# with bridge_cfg(auto_show=False):\n",
    "#     display(iv.__ft__())\n",
    "# iv"
   ]
  },
  {
   "cell_type": "code",
   "execution_count": null,
   "metadata": {},
   "outputs": [],
   "source": [
    "# iv.value"
   ]
  },
  {
   "cell_type": "code",
   "execution_count": null,
   "metadata": {},
   "outputs": [],
   "source": [
    "# iv.value = 77"
   ]
  },
  {
   "cell_type": "code",
   "execution_count": null,
   "metadata": {},
   "outputs": [],
   "source": [
    "# iv2 = IntSlider(step=2)\n",
    "# iv2"
   ]
  },
  {
   "cell_type": "code",
   "execution_count": null,
   "metadata": {},
   "outputs": [],
   "source": [
    "# iv3 = IntSlider()\n",
    "# iv4 = IntSlider()\n",
    "# # brt.mount(iv3, show=False)\n",
    "# # brt.mount(iv4, show=False)\n",
    "# T.link((iv3, 'value'), (iv4, 'value'))\n",
    "\n",
    "# box = Div(style='display: flex; gap: 1em;')(iv3, iv4)\n",
    "# box"
   ]
  },
  {
   "cell_type": "code",
   "execution_count": null,
   "metadata": {},
   "outputs": [],
   "source": [
    "# iv3.value = 22\n",
    "# test_eq(iv4.value, 22)"
   ]
  },
  {
   "cell_type": "markdown",
   "metadata": {},
   "source": [
    "# Simple Widget (psignal) - Not working"
   ]
  },
  {
   "cell_type": "markdown",
   "metadata": {},
   "source": [
    "# Output"
   ]
  },
  {
   "cell_type": "code",
   "execution_count": null,
   "metadata": {},
   "outputs": [],
   "source": [
    "out = W.Output()\n",
    "out"
   ]
  },
  {
   "cell_type": "code",
   "execution_count": null,
   "metadata": {},
   "outputs": [],
   "source": [
    "msg_id = None\n",
    "with out:\n",
    "    msg_id = out.msg_id\n",
    "    out.clear_output()\n",
    "    display(Text('Hello, world!'))\n",
    "msg_id"
   ]
  },
  {
   "cell_type": "code",
   "execution_count": null,
   "metadata": {},
   "outputs": [],
   "source": [
    "out.append_display_data(HTML('<div id=\"asdf\">asdf</div>'))\n",
    "out.append_display_data(Div(style='color: red;')(Text('Hi!')))\n",
    "out.append_display_data(Markdown('Hi!'))"
   ]
  },
  {
   "cell_type": "code",
   "execution_count": null,
   "metadata": {},
   "outputs": [],
   "source": [
    "# o = HTML('<div id=\"asdf\">asdf</div>')\n",
    "# display(o)"
   ]
  },
  {
   "cell_type": "code",
   "execution_count": null,
   "metadata": {},
   "outputs": [],
   "source": [
    "from IPython.utils.capture import RichOutput, CapturedIO, capture_output"
   ]
  },
  {
   "cell_type": "code",
   "execution_count": null,
   "metadata": {},
   "outputs": [],
   "source": [
    "with capture_output() as io:\n",
    "    display(Div(style='color: red;')(Text('Hi!')), HTML('<div id=\"asdf\">asdf</div>'), 'Hi!', Markdown('Hi!'))\n",
    "# io.outputs\n",
    "# io.show()"
   ]
  },
  {
   "cell_type": "code",
   "execution_count": null,
   "metadata": {},
   "outputs": [],
   "source": [
    "io()"
   ]
  },
  {
   "cell_type": "code",
   "execution_count": null,
   "metadata": {},
   "outputs": [],
   "source": [
    "def _capture(*objs, **kwargs):\n",
    "    from IPython.core.interactiveshell import InteractiveShell\n",
    "    if not InteractiveShell.initialized():\n",
    "        raise RuntimeError('IPython not initialized')\n",
    "    outs = []\n",
    "    format = InteractiveShell.instance().display_formatter.format\n",
    "    for obj in objs:\n",
    "        format_dict, md_dict = format(obj)\n",
    "        if not format_dict:\n",
    "            # nothing to display (e.g. _ipython_display_ took over)\n",
    "            outs.append((None, None))\n",
    "            continue\n",
    "        outs.append((format_dict, md_dict))\n",
    "    return outs\n",
    "\n",
    "_capture(Div(style='color: red;')(Text('Hi!')), HTML('<div id=\"asdf\">asdf</div>'), 'Hi!', Markdown('Hi!'))"
   ]
  },
  {
   "cell_type": "code",
   "execution_count": null,
   "metadata": {},
   "outputs": [],
   "source": [
    "def _capture_output(*objs, **kwargs):\n",
    "    with capture_output() as io:\n",
    "        display(*objs, **kwargs)\n",
    "    return io\n",
    "\n",
    "capt = _capture_output(Div(style='color: red;')(Text('Hi!')), HTML('<div id=\"asdf\">asdf</div>'), 'Hi!', Markdown('Hi!'))\n",
    "capt()\n",
    "for c in capt.outputs:\n",
    "    print(c._repr_mimebundle_())"
   ]
  },
  {
   "cell_type": "code",
   "execution_count": null,
   "metadata": {},
   "outputs": [],
   "source": [
    "class Output(Widget):\n",
    "    def __init__(self, *args, **kwargs):\n",
    "        super().__init__(*args, **kwargs)\n",
    "        self.contents = []\n",
    "        Bridget().mount(self, show=False)\n",
    "    # def __ft__(self):\n",
    "    #     return super().__ft__()(id=self.idx)\n",
    "    # def _ipython_display_(self):\n",
    "    #     Bridget()(self, display_id=self.idx)\n",
    "    def clear_output(self, wait=False):\n",
    "        self.contents = []\n",
    "        if not wait and self.dhdl: self.dhdl.update()\n",
    "    # def capture(self, clear_output=False, *clear_args, **clear_kwargs):\n",
    "    #     pass\n",
    "    # @contextmanager\n",
    "    # def managed_resource(*args, **kwds):\n",
    "    #     # Code to acquire resource, e.g.:\n",
    "    #     resource = acquire_resource(*args, **kwds)\n",
    "    #     try:\n",
    "    #         yield resource\n",
    "    #     finally:\n",
    "    #         # Code to release resource, e.g.:\n",
    "    #         release_resource(resource)\n",
    "\n",
    "    def __enter__(self):\n",
    "        self._capt = capture_output()\n",
    "        self._cio = self._capt.__enter__()\n",
    "    def __exit__(self, etype, evalue, tb):\n",
    "        bridge_cfg.current_did = None\n",
    "        self._capt.__exit__(etype, evalue, tb)\n",
    "        outputs, self._cio, self._capt = self._cio.outputs, None, None\n",
    "        if not self.dhdl:\n",
    "            dhdl = display(display_id=True)\n",
    "            self.dhdl = DisplayId(dhdl.display_id)\n",
    "        dhdl = self.dhdl.display_id\n",
    "        for c in outputs:\n",
    "            mime = {'data': c.data, 'metadata': c.metadata}\n",
    "            self.contents.append(mime)\n",
    "            display(mime['data'], metadata=mime['metadata'], raw=True, update=True, display_id=dhdl)\n",
    "    \n",
    "    # def _flush(self):\n",
    "    #     pass\n",
    "    def append_stdout(self, text):\n",
    "        brt = self.bridget\n",
    "        brt.swap(f\"#{self.ar.name}\", text+'<br>', swapStyle='beforeend')\n",
    "        self.contents.append(text)\n",
    "    def append_stderr(self, text):\n",
    "        brt = self.bridget\n",
    "        brt.swap(f\"#{self.ar.name}\", text+'<br>', swapStyle='beforeend')\n",
    "        self.contents.append(text)\n",
    "    def append_display_data(self, display_object):\n",
    "        with capture_output() as io:\n",
    "            display(display_object)\n",
    "        mimebundle = io.outputs[0]._repr_mimebundle_()\n",
    "        html = mimebundle[0]['text/html']\n",
    "        brt = self.bridget\n",
    "        brt.swap(f\"#{self.ar.name}\", html, swapStyle='beforeend')\n",
    "        self.contents.append(display_object)"
   ]
  },
  {
   "cell_type": "code",
   "execution_count": null,
   "metadata": {},
   "outputs": [],
   "source": [
    "out = Output()\n",
    "with bridge_cfg(auto_show=False):\n",
    "    display(out.__ft__())\n",
    "out"
   ]
  },
  {
   "cell_type": "code",
   "execution_count": null,
   "metadata": {},
   "outputs": [],
   "source": [
    "out(Text('Hello, world!'))"
   ]
  },
  {
   "cell_type": "code",
   "execution_count": null,
   "metadata": {},
   "outputs": [],
   "source": [
    "out.append_stdout('Hello, universe!')\n"
   ]
  },
  {
   "cell_type": "code",
   "execution_count": null,
   "metadata": {},
   "outputs": [],
   "source": [
    "out.append_display_data(Div(style='color: red; padding: 0px;')(Text('Hello, red!')))\n",
    "out.append_display_data(Button('adfrt'))"
   ]
  },
  {
   "cell_type": "code",
   "execution_count": null,
   "metadata": {},
   "outputs": [],
   "source": [
    "out.contents\n"
   ]
  },
  {
   "cell_type": "code",
   "execution_count": null,
   "metadata": {},
   "outputs": [],
   "source": [
    "out = Output()\n",
    "with out:\n",
    "    display('adfrt')\n",
    "# out.contents\n"
   ]
  },
  {
   "cell_type": "code",
   "execution_count": null,
   "metadata": {},
   "outputs": [],
   "source": [
    "out.append_display_data(Div(style='color: red; padding: 0px;')(Text('Hello, red!')))"
   ]
  },
  {
   "cell_type": "code",
   "execution_count": null,
   "metadata": {},
   "outputs": [],
   "source": [
    "out.contents"
   ]
  },
  {
   "cell_type": "code",
   "execution_count": null,
   "metadata": {},
   "outputs": [],
   "source": [
    "import matplotlib.pyplot as plt\n"
   ]
  },
  {
   "cell_type": "code",
   "execution_count": null,
   "metadata": {},
   "outputs": [],
   "source": [
    "with out:\n",
    "    fig = plt.figure(figsize=(4, 2.67))\n",
    "    plt.plot([1,2,3,4])\n",
    "    # plt.show()\n",
    "out.contents"
   ]
  },
  {
   "cell_type": "code",
   "execution_count": null,
   "metadata": {},
   "outputs": [],
   "source": [
    "# with out:\n",
    "#     plt.plot([1,2,3,4])\n",
    "#     plt.show()"
   ]
  },
  {
   "cell_type": "markdown",
   "metadata": {},
   "source": [
    "----"
   ]
  },
  {
   "cell_type": "code",
   "execution_count": null,
   "metadata": {},
   "outputs": [],
   "source": [
    "out = Output(layout={'border': '1px solid black'})\n",
    "out\n"
   ]
  },
  {
   "cell_type": "code",
   "execution_count": null,
   "metadata": {},
   "outputs": [],
   "source": [
    "with out:\n",
    "    for i in range(10):\n",
    "        print(i, 'Hello world!')"
   ]
  },
  {
   "cell_type": "code",
   "execution_count": null,
   "metadata": {},
   "outputs": [],
   "source": [
    "from IPython.display import YouTubeVideo\n",
    "with out:\n",
    "    display(YouTubeVideo('eWzY2nGfkXk'))"
   ]
  },
  {
   "cell_type": "code",
   "execution_count": null,
   "metadata": {},
   "outputs": [],
   "source": [
    "with out:\n",
    "    display(widgets.IntSlider())"
   ]
  },
  {
   "cell_type": "code",
   "execution_count": null,
   "metadata": {},
   "outputs": [],
   "source": [
    "out = widgets.Output(layout={'border': '1px solid black'})\n",
    "out.append_stdout('Output appended with append_stdout')\n",
    "out.append_display_data(YouTubeVideo('eWzY2nGfkXk'))\n",
    "out"
   ]
  },
  {
   "cell_type": "code",
   "execution_count": null,
   "metadata": {},
   "outputs": [],
   "source": [
    "@out.capture()\n",
    "def function_with_captured_output():\n",
    "    print('This goes into the output widget')\n",
    "    raise Exception('As does this')\n",
    "    \n",
    "function_with_captured_output()"
   ]
  },
  {
   "cell_type": "code",
   "execution_count": null,
   "metadata": {},
   "outputs": [],
   "source": [
    "a = widgets.IntSlider(description='a')\n",
    "b = widgets.IntSlider(description='b')\n",
    "c = widgets.IntSlider(description='c')\n",
    "def f(a, b, c):\n",
    "    print('{}*{}*{}={}'.format(a, b, c, a*b*c))\n",
    "\n",
    "out = widgets.interactive_output(f, {'a': a, 'b': b, 'c': c})\n",
    "\n",
    "widgets.HBox([widgets.VBox([a, b, c]), out])"
   ]
  },
  {
   "cell_type": "markdown",
   "metadata": {},
   "source": [
    "# interactive_output\n"
   ]
  },
  {
   "cell_type": "markdown",
   "metadata": {},
   "source": [
    "# interactive"
   ]
  },
  {
   "cell_type": "code",
   "execution_count": null,
   "metadata": {},
   "outputs": [],
   "source": [
    "def f(a, b):\n",
    "    display(a + b)\n",
    "    return a+b"
   ]
  },
  {
   "cell_type": "code",
   "execution_count": null,
   "metadata": {},
   "outputs": [],
   "source": [
    "w = W.interactive(f, a=10, b=20)\n",
    "w"
   ]
  },
  {
   "cell_type": "code",
   "execution_count": null,
   "metadata": {},
   "outputs": [],
   "source": [
    "%matplotlib inline\n",
    "from ipywidgets import interactive\n",
    "import matplotlib.pyplot as plt\n",
    "import numpy as np\n",
    "\n",
    "def f(m, b):\n",
    "    plt.figure(2)\n",
    "    x = np.linspace(-10, 10, num=1000)\n",
    "    plt.plot(x, m * x + b)\n",
    "    plt.ylim(-5, 5)\n",
    "    plt.show()\n",
    "\n",
    "interactive_plot = interactive(f, m=(-2.0, 2.0), b=(-3, 3, 0.5))\n",
    "output = interactive_plot.out#children[-1]\n",
    "output.layout.height = '420px'\n",
    "interactive_plot"
   ]
  },
  {
   "cell_type": "markdown",
   "metadata": {},
   "source": [
    "# interact"
   ]
  },
  {
   "cell_type": "code",
   "execution_count": null,
   "metadata": {},
   "outputs": [],
   "source": [
    "def f(x):\n",
    "    return x"
   ]
  },
  {
   "cell_type": "code",
   "execution_count": null,
   "metadata": {},
   "outputs": [],
   "source": [
    "interact(f, x=10);"
   ]
  },
  {
   "cell_type": "code",
   "execution_count": null,
   "metadata": {},
   "outputs": [],
   "source": [
    "interact(f, x=True);"
   ]
  },
  {
   "cell_type": "code",
   "execution_count": null,
   "metadata": {},
   "outputs": [],
   "source": [
    "interact(f, x='Hi there!');"
   ]
  },
  {
   "cell_type": "code",
   "execution_count": null,
   "metadata": {},
   "outputs": [],
   "source": [
    "@interact(x=True, y=1.0)\n",
    "def g(x, y):\n",
    "    return (x, y)\n"
   ]
  },
  {
   "cell_type": "code",
   "execution_count": null,
   "metadata": {},
   "outputs": [],
   "source": [
    "IntSlider(min=-10, max=30, step=1, value=10)"
   ]
  },
  {
   "cell_type": "code",
   "execution_count": null,
   "metadata": {},
   "outputs": [],
   "source": [
    "interact(f, x=widgets.IntSlider(min=-10, max=30, step=1, value=10));\n"
   ]
  },
  {
   "cell_type": "markdown",
   "metadata": {},
   "source": [
    "# interact_manual"
   ]
  },
  {
   "cell_type": "code",
   "execution_count": null,
   "metadata": {},
   "outputs": [],
   "source": []
  },
  {
   "cell_type": "markdown",
   "metadata": {},
   "source": [
    "# Colophon\n",
    "----\n"
   ]
  },
  {
   "cell_type": "code",
   "execution_count": null,
   "metadata": {},
   "outputs": [],
   "source": [
    "import fastcore.all as FC\n",
    "import nbdev\n",
    "from nbdev.clean import nbdev_clean\n"
   ]
  },
  {
   "cell_type": "code",
   "execution_count": null,
   "metadata": {},
   "outputs": [],
   "source": [
    "if FC.IN_NOTEBOOK:\n",
    "    nb_path = '50_widget.ipynb'\n",
    "    nbdev_clean(nb_path)\n",
    "    nbdev.nbdev_export(nb_path)\n"
   ]
  }
 ],
 "metadata": {
  "kernelspec": {
   "display_name": "python3",
   "language": "python",
   "name": "python3"
  }
 },
 "nbformat": 4,
 "nbformat_minor": 4
}
