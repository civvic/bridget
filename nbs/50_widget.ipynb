{
 "cells": [
  {
   "cell_type": "code",
   "execution_count": 1,
   "metadata": {},
   "outputs": [],
   "source": [
    "#| default_exp widget\n"
   ]
  },
  {
   "cell_type": "code",
   "execution_count": 2,
   "metadata": {},
   "outputs": [],
   "source": [
    "#| export\n",
    "from __future__ import annotations\n"
   ]
  },
  {
   "cell_type": "markdown",
   "metadata": {},
   "source": [
    "# Widget\n",
    "> FashHTML widgets\n"
   ]
  },
  {
   "cell_type": "markdown",
   "metadata": {},
   "source": [
    "# Prologue"
   ]
  },
  {
   "cell_type": "code",
   "execution_count": 3,
   "metadata": {},
   "outputs": [],
   "source": [
    "#| export\n",
    "from contextlib import contextmanager\n",
    "from dataclasses import dataclass\n",
    "from functools import partial\n",
    "from types import MethodType\n",
    "from typing import Any\n",
    "from typing import Callable\n",
    "from typing import Type\n",
    "\n",
    "import traitlets as T\n",
    "from fastcore.xml import to_xml\n",
    "from fasthtml.core import FastHTML\n",
    "from psygnal import Signal\n",
    "from olio.common import val_at\n"
   ]
  },
  {
   "cell_type": "code",
   "execution_count": 4,
   "metadata": {},
   "outputs": [],
   "source": [
    "#| export\n",
    "\n",
    "from bridget.bridget import bridge_cfg\n",
    "from bridget.common import Bridgeable\n",
    "from bridget.common import Bridget\n",
    "from bridget.common import DisplayId\n",
    "from bridget.common import get_app\n",
    "from bridget.common import RouteProvider\n",
    "from bridget.helpers import id_gen\n",
    "from bridget.routing import APIRouterD\n"
   ]
  },
  {
   "cell_type": "code",
   "execution_count": 5,
   "metadata": {},
   "outputs": [],
   "source": [
    "#| export\n",
    "\n",
    "from fasthtml.components import Div, Label, Input, Text, I\n"
   ]
  },
  {
   "cell_type": "code",
   "execution_count": 6,
   "metadata": {},
   "outputs": [],
   "source": [
    "import fastcore.all as FC\n",
    "import ipywidgets as W\n",
    "from fastcore.test import *\n",
    "from fasthtml.components import Button\n",
    "from IPython.display import HTML\n",
    "from IPython.display import Javascript\n",
    "from IPython.display import Markdown\n",
    "from rich.console import Console\n"
   ]
  },
  {
   "cell_type": "code",
   "execution_count": 7,
   "metadata": {},
   "outputs": [],
   "source": [
    "from bridget.widget_helpers import cleanupwidgets\n",
    "from bridget.routing import ar\n"
   ]
  },
  {
   "cell_type": "markdown",
   "metadata": {},
   "source": [
    "----\n"
   ]
  },
  {
   "cell_type": "code",
   "execution_count": 8,
   "metadata": {},
   "outputs": [],
   "source": [
    "#| exporti\n",
    "\n",
    "DEBUG = True\n",
    "new_id = id_gen()\n",
    "_n = '\\n'"
   ]
  },
  {
   "cell_type": "code",
   "execution_count": 9,
   "metadata": {},
   "outputs": [],
   "source": [
    "cprint = (console := Console(width=120)).print"
   ]
  },
  {
   "cell_type": "markdown",
   "metadata": {},
   "source": [
    "----"
   ]
  },
  {
   "cell_type": "markdown",
   "metadata": {},
   "source": [
    "# Replacing ipywidgets with fasthtml\n",
    "\n",
    "ipywidgets handles:\n",
    "- **Layout**: ipywidgets uses python, JS -> replace with FastHTML, HTMX.\n",
    "- **Comunication** kernel-frontend: ipywidgets uses Comm -> Bridget/HTTP-Ajax\n",
    "- **Serialization**: ipywidgets uses Traitlets -> replace with pydantic, dataclasses, msgspec, pysignal.\n",
    "- **Observer** pattern: ipywidgets uses Traitlets -> replace with custom or pysignal.\n"
   ]
  },
  {
   "cell_type": "code",
   "execution_count": 10,
   "metadata": {},
   "outputs": [
    {
     "data": {
      "text/html": [
       "<script src=\"https://cdn.jsdelivr.net/gh/answerdotai/fasthtml-js@1.0.12/fasthtml.js\"></script><script src=\"https://cdn.jsdelivr.net/gh/answerdotai/surreal@main/surreal.js\"></script><script src=\"https://cdn.jsdelivr.net/gh/gnat/css-scope-inline@main/script.js\"></script><details open><summary><b>Loaded scripts</b></summary><pre>&lt;script src=&quot;https://cdn.jsdelivr.net/gh/answerdotai/fasthtml-js@1.0.12/fasthtml.js&quot;&gt;&lt;/script&gt;\n",
       "&lt;script src=&quot;https://cdn.jsdelivr.net/gh/answerdotai/surreal@main/surreal.js&quot;&gt;&lt;/script&gt;\n",
       "&lt;script src=&quot;https://cdn.jsdelivr.net/gh/gnat/css-scope-inline@main/script.js&quot;&gt;&lt;/script&gt;</pre></details>"
      ],
      "text/plain": [
       "<IPython.core.display.HTML object>"
      ]
     },
     "metadata": {},
     "output_type": "display_data"
    },
    {
     "data": {
      "text/html": [
       "<div style='max-height: 400px; border: 1px solid black; overflow: auto;'><div><div class=\"bridget-debug\">\n",
       "Request: <pre style=\"white-space:pre;overflow-x:auto;line-height:normal;font-family:Menlo,'DejaVu Sans Mono',consolas,'Courier New',monospace\"><span style=\"font-weight: bold\">{</span>\n",
       "    <span style=\"color: #008000; text-decoration-color: #008000\">'headers'</span>: <span style=\"font-weight: bold\">{</span>\n",
       "        <span style=\"color: #008000; text-decoration-color: #008000\">'HX-Request'</span>: <span style=\"color: #008000; text-decoration-color: #008000\">'true'</span>,\n",
       "        <span style=\"color: #008000; text-decoration-color: #008000\">'HX-Trigger-Name'</span>: <span style=\"color: #008000; text-decoration-color: #008000\">'value'</span>,\n",
       "        <span style=\"color: #008000; text-decoration-color: #008000\">'HX-Target'</span>: <span style=\"color: #008000; text-decoration-color: #008000\">'spanscale'</span>,\n",
       "        <span style=\"color: #008000; text-decoration-color: #008000\">'HX-Current-URL'</span>: \n",
       "<span style=\"color: #008000; text-decoration-color: #008000\">'vscode-webview://1ql27b0grt14rkuj26idbt9ktekivp44iu2s8pgfndvblm2j3iep/index.htm</span>\n",
       "<span style=\"color: #008000; text-decoration-color: #008000\">l?id=ca047050-44cd-4f15-9fca-5d57e2c2fcc0&amp;origin=1e95bb6a-280d-4f6e-8090-7f55f54</span>\n",
       "<span style=\"color: #008000; text-decoration-color: #008000\">cbfbd&amp;swVersion=4&amp;extensionId=&amp;platform=electron&amp;vscode-resource-base-authority=</span>\n",
       "<span style=\"color: #008000; text-decoration-color: #008000\">vscode-resource.vscode-cdn.net&amp;parentOrigin=vscode-file%3A%2F%2Fvscode-app&amp;purpo</span>\n",
       "<span style=\"color: #008000; text-decoration-color: #008000\">se=notebookRenderer'</span>,\n",
       "        <span style=\"color: #008000; text-decoration-color: #008000\">'Content-Type'</span>: <span style=\"color: #008000; text-decoration-color: #008000\">'application/x-www-form-urlencoded'</span>\n",
       "    <span style=\"font-weight: bold\">}</span>,\n",
       "    <span style=\"color: #008000; text-decoration-color: #008000\">'headerNames'</span>: <span style=\"font-weight: bold\">{</span>\n",
       "        <span style=\"color: #008000; text-decoration-color: #008000\">'hx-request'</span>: <span style=\"color: #008000; text-decoration-color: #008000\">'HX-Request'</span>,\n",
       "        <span style=\"color: #008000; text-decoration-color: #008000\">'hx-trigger-name'</span>: <span style=\"color: #008000; text-decoration-color: #008000\">'HX-Trigger-Name'</span>,\n",
       "        <span style=\"color: #008000; text-decoration-color: #008000\">'hx-target'</span>: <span style=\"color: #008000; text-decoration-color: #008000\">'HX-Target'</span>,\n",
       "        <span style=\"color: #008000; text-decoration-color: #008000\">'hx-current-url'</span>: <span style=\"color: #008000; text-decoration-color: #008000\">'HX-Current-URL'</span>,\n",
       "        <span style=\"color: #008000; text-decoration-color: #008000\">'content-type'</span>: <span style=\"color: #008000; text-decoration-color: #008000\">'Content-Type'</span>\n",
       "    <span style=\"font-weight: bold\">}</span>,\n",
       "    <span style=\"color: #008000; text-decoration-color: #008000\">'status'</span>: <span style=\"color: #008080; text-decoration-color: #008080; font-weight: bold\">0</span>,\n",
       "    <span style=\"color: #008000; text-decoration-color: #008000\">'method'</span>: <span style=\"color: #008000; text-decoration-color: #008000\">'POST'</span>,\n",
       "    <span style=\"color: #008000; text-decoration-color: #008000\">'url'</span>: <span style=\"color: #008000; text-decoration-color: #008000\">'/IntSlider_1/value'</span>,\n",
       "    <span style=\"color: #008000; text-decoration-color: #008000\">'async'</span>: <span style=\"color: #00ff00; text-decoration-color: #00ff00; font-style: italic\">True</span>,\n",
       "    <span style=\"color: #008000; text-decoration-color: #008000\">'timeout'</span>: <span style=\"color: #008080; text-decoration-color: #008080; font-weight: bold\">0</span>,\n",
       "    <span style=\"color: #008000; text-decoration-color: #008000\">'withCredentials'</span>: <span style=\"color: #ff0000; text-decoration-color: #ff0000; font-style: italic\">False</span>,\n",
       "    <span style=\"color: #008000; text-decoration-color: #008000\">'body'</span>: <span style=\"color: #008000; text-decoration-color: #008000\">'value=74'</span>,\n",
       "    <span style=\"color: #008000; text-decoration-color: #008000\">'req_id'</span>: <span style=\"color: #008000; text-decoration-color: #008000\">'a032e36d-95d7-4d5b-8fef-4142cc3dfe57'</span>\n",
       "<span style=\"font-weight: bold\">}</span>\n",
       "</pre>\n",
       "Response: <pre style=\"white-space:pre;overflow-x:auto;line-height:normal;font-family:Menlo,'DejaVu Sans Mono',consolas,'Courier New',monospace\"><span style=\"font-weight: bold\">{</span>\n",
       "    <span style=\"color: #008000; text-decoration-color: #008000\">'headers'</span>: <span style=\"font-weight: bold\">{</span>\n",
       "        <span style=\"color: #008000; text-decoration-color: #008000\">'content-length'</span>: <span style=\"color: #008000; text-decoration-color: #008000\">'2'</span>,\n",
       "        <span style=\"color: #008000; text-decoration-color: #008000\">'content-type'</span>: <span style=\"color: #008000; text-decoration-color: #008000\">'text/html; charset=utf-8'</span>,\n",
       "        <span style=\"color: #008000; text-decoration-color: #008000\">'last-modified'</span>: <span style=\"color: #008000; text-decoration-color: #008000\">'Wed, 22 Jan 2025 19:16:45 GMT'</span>,\n",
       "        <span style=\"color: #008000; text-decoration-color: #008000\">'cache-control'</span>: <span style=\"color: #008000; text-decoration-color: #008000\">'no-store, no-cache, must-revalidate'</span>\n",
       "    <span style=\"font-weight: bold\">}</span>,\n",
       "    <span style=\"color: #008000; text-decoration-color: #008000\">'status'</span>: <span style=\"color: #008080; text-decoration-color: #008080; font-weight: bold\">200</span>,\n",
       "    <span style=\"color: #008000; text-decoration-color: #008000\">'statusText'</span>: <span style=\"color: #008000; text-decoration-color: #008000\">'OK'</span>,\n",
       "    <span style=\"color: #008000; text-decoration-color: #008000\">'data'</span>: <span style=\"color: #008000; text-decoration-color: #008000\">'74'</span>,\n",
       "    <span style=\"color: #008000; text-decoration-color: #008000\">'xml'</span>: <span style=\"color: #800080; text-decoration-color: #800080; font-style: italic\">None</span>,\n",
       "    <span style=\"color: #008000; text-decoration-color: #008000\">'finalUrl'</span>: <span style=\"color: #008000; text-decoration-color: #008000\">'http://nb/IntSlider_1/value'</span>,\n",
       "    <span style=\"color: #008000; text-decoration-color: #008000\">'req_id'</span>: <span style=\"color: #008000; text-decoration-color: #008000\">'a032e36d-95d7-4d5b-8fef-4142cc3dfe57'</span>\n",
       "<span style=\"font-weight: bold\">}</span>\n",
       "</pre>\n",
       "</div>\n",
       "</div></div>"
      ],
      "text/plain": [
       "<IPython.core.display.HTML object>"
      ]
     },
     "metadata": {
      "bridget": {
       "skip": true
      }
     },
     "output_type": "display_data"
    }
   ],
   "source": [
    "cleanupwidgets('brt')\n",
    "\n",
    "app, brt, rt = get_app(True, auto_show=True, auto_mount=True, debug_req=True)\n"
   ]
  },
  {
   "cell_type": "code",
   "execution_count": 11,
   "metadata": {},
   "outputs": [
    {
     "data": {
      "text/markdown": [
       "```html\n",
       "<div class=\"bridget slider value\"></div>\n",
       "\n",
       "```"
      ],
      "text/plain": [
       "div((),{'class': 'bridget slider value'})"
      ]
     },
     "metadata": {},
     "output_type": "display_data"
    }
   ],
   "source": [
    "dv = Div(cls='bridget slider')\n",
    "dv.set(cls=f\"{dv.get('class')} value\")\n",
    "with bridge_cfg(auto_show=False):\n",
    "    display(dv)\n"
   ]
  },
  {
   "cell_type": "markdown",
   "metadata": {},
   "source": [
    "# Simple widget (Traitlets)\n"
   ]
  },
  {
   "cell_type": "markdown",
   "metadata": {},
   "source": [
    "## Widget"
   ]
  },
  {
   "cell_type": "code",
   "execution_count": 12,
   "metadata": {},
   "outputs": [],
   "source": [
    "class Widget(RouteProvider):\n",
    "    bridget: Bridget = None  # type: ignore\n",
    "    _updating, _mounted = False, False\n",
    "    ar = APIRouterD()\n",
    "    @contextmanager\n",
    "    def _update_ctx(self):\n",
    "        self._updating = True\n",
    "        yield\n",
    "        self._updating = False\n",
    "\n",
    "    wrapper_class = 'bridget'\n",
    "    def setup_wrapper_class(self):\n",
    "        # return f\"{type(self).wrapper_class}\"\n",
    "        return ' '.join(_.wrapper_class for _ in reversed(type(self).mro()) if hasattr(_, 'wrapper_class'))\n",
    "\n",
    "    def __ft__(self):\n",
    "        if bridge_cfg.auto_mount and not self._mounted: Bridget().mount(self, show=False)\n",
    "        return Div(id=self.ar.name(), cls=self.setup_wrapper_class())\n",
    "    def _ipython_display_(self):\n",
    "        Bridget()(self)\n"
   ]
  },
  {
   "cell_type": "code",
   "execution_count": 13,
   "metadata": {},
   "outputs": [],
   "source": [
    "app.routes.clear()"
   ]
  },
  {
   "cell_type": "code",
   "execution_count": 15,
   "metadata": {},
   "outputs": [
    {
     "data": {
      "text/markdown": [
       "```html\n",
       "<div id=\"Widget_5129278560\" class=\"bridget\"></div>\n",
       "\n",
       "```"
      ],
      "text/plain": [
       "div((),{'id': 'Widget_5129278560', 'class': 'bridget'})"
      ]
     },
     "metadata": {},
     "output_type": "display_data"
    }
   ],
   "source": [
    "w = Widget()\n",
    "with bridge_cfg(auto_show=False):\n",
    "    display(w.__ft__())\n"
   ]
  },
  {
   "cell_type": "markdown",
   "metadata": {},
   "source": [
    "## Value"
   ]
  },
  {
   "cell_type": "code",
   "execution_count": 16,
   "metadata": {},
   "outputs": [],
   "source": [
    "class Value(T.HasTraits, Widget):\n",
    "    value = T.Any()\n",
    "    \n",
    "    @T.observe('value')\n",
    "    def on_value(self, _):\n",
    "        if self.bridget and not self._updating:\n",
    "            self.bridget.swap(f\"#{self.ar.name()}\", to_xml(self.__ft__()), swapStyle='innerHTML')\n",
    "\n",
    "    @ar('/value', 'post')\n",
    "    def changed(self, value:str):\n",
    "        with self._update_ctx(): self.value = value\n",
    "        return str(value)\n",
    "\n",
    "    wrapper_class = 'value'\n",
    "    def setup_value(self):\n",
    "        return Input(name='value', value=self.value,\n",
    "                hx_post=self.ar.to('changed'), hx_trigger='input changed', hx_swap='none')\n",
    "    def setup_controls(self):\n",
    "        # return Div(hx_post=f\"{self.ar.to}/value\", hx_target='innerHTML', hx_swap='textContent')(self.value)\n",
    "        return (self.setup_value(), )\n",
    "    \n",
    "    def __ft__(self):\n",
    "        return super().__ft__()(*self.setup_controls())\n"
   ]
  },
  {
   "cell_type": "code",
   "execution_count": 17,
   "metadata": {},
   "outputs": [],
   "source": [
    "app.routes.clear()\n"
   ]
  },
  {
   "cell_type": "code",
   "execution_count": 18,
   "metadata": {},
   "outputs": [
    {
     "data": {
      "text/markdown": [
       "```html\n",
       "<div id=\"Value_5129287104\" class=\"bridget value\">\n",
       "  <input name=\"value\" value=\"Hello, world!\" hx-post=\"Value_5129287104/value\" hx-trigger=\"input changed\" hx-swap=\"none\">\n",
       "</div>\n",
       "\n",
       "```"
      ],
      "text/plain": [
       "div((input((),{'name': 'value', 'value': 'Hello, world!', 'hx-post': 'Value_5129287104/value', 'hx-trigger': 'input changed', 'hx-swap': 'none'}),),{'id': 'Value_5129287104', 'class': 'bridget value'})"
      ]
     },
     "metadata": {},
     "output_type": "display_data"
    },
    {
     "data": {
      "text/html": [
       "<div id=\"Value_5129287104\" class=\"bridget value\">\n",
       "  <input name=\"value\" value=\"Hello, world!\" hx-post=\"Value_5129287104/value\" hx-trigger=\"input changed\" hx-swap=\"none\">\n",
       "</div>\n",
       "<brt-mark id=\"bcd405fa5-61819d02-eb800063-c2e2757d\"></brt-mark>"
      ],
      "text/plain": [
       "<IPython.core.display.HTML object>"
      ]
     },
     "metadata": {},
     "output_type": "display_data"
    }
   ],
   "source": [
    "v = Value(value='Hello, world!')\n",
    "with bridge_cfg(auto_show=False):\n",
    "    display(v.__ft__())\n",
    "v\n"
   ]
  },
  {
   "cell_type": "code",
   "execution_count": 19,
   "metadata": {},
   "outputs": [
    {
     "data": {
      "text/plain": [
       "'Hello, world!aaaa'"
      ]
     },
     "execution_count": 19,
     "metadata": {},
     "output_type": "execute_result"
    }
   ],
   "source": [
    "v.value"
   ]
  },
  {
   "cell_type": "code",
   "execution_count": 20,
   "metadata": {},
   "outputs": [],
   "source": [
    "v.value = 'bye!'"
   ]
  },
  {
   "cell_type": "markdown",
   "metadata": {},
   "source": [
    "## IntSlider"
   ]
  },
  {
   "cell_type": "code",
   "execution_count": 21,
   "metadata": {},
   "outputs": [],
   "source": [
    "@dataclass\n",
    "class IntSlider(Value):\n",
    "    value = T.CInt()\n",
    "    min:int=0\n",
    "    max:int=100\n",
    "    step:int=1\n",
    "    readout:bool=True\n",
    "    readout_format:str='d'\n",
    "    \n",
    "    wrapper_class = 'slider'\n",
    "    def setup_value(self):\n",
    "        return Input(type='range', name='value', min=self.min, max=self.max, step=self.step, value=self.value,\n",
    "                hx_post=f\"/{self.ar.to()}/value\", hx_trigger='input changed', \n",
    "                hx_target='next text', hx_swap='textContent')\n",
    "    def setup_controls(self):\n",
    "        return (Label(_for='value')('Scale'), _n,\n",
    "                self.setup_value(),\n",
    "                Text(id='spanscale', style='inline')(self.value), _n)\n",
    "\n"
   ]
  },
  {
   "cell_type": "code",
   "execution_count": 22,
   "metadata": {},
   "outputs": [
    {
     "data": {
      "text/markdown": [
       "```html\n",
       "<div id=\"IntSlider_1\" class=\"bridget value slider\">\n",
       "<label for=\"value\">Scale</label>\n",
       "  <input type=\"range\" name=\"value\" max=\"100\" step=\"1\" hx-post=\"/IntSlider_1/value\" hx-trigger=\"input changed\" hx-swap=\"textContent\" hx-target=\"next text\">\n",
       "<text id=\"spanscale\" style=\"inline\">0</text>\n",
       "</div>\n",
       "\n",
       "```"
      ],
      "text/plain": [
       "div((label(('Scale',),{'for': 'value'}), '\\n', input((),{'type': 'range', 'name': 'value', 'min': 0, 'max': 100, 'step': 1, 'value': 0, 'hx-post': '/IntSlider_1/value', 'hx-trigger': 'input changed', 'hx-swap': 'textContent', 'hx-target': 'next text'}), text((0,),{'id': 'spanscale', 'style': 'inline'}), '\\n'),{'id': 'IntSlider_1', 'class': 'bridget value slider'})"
      ]
     },
     "metadata": {},
     "output_type": "display_data"
    },
    {
     "data": {
      "text/html": [
       "<div id=\"IntSlider_1\" class=\"bridget value slider\">\n",
       "<label for=\"value\">Scale</label>\n",
       "  <input type=\"range\" name=\"value\" max=\"100\" step=\"1\" hx-post=\"/IntSlider_1/value\" hx-trigger=\"input changed\" hx-swap=\"textContent\" hx-target=\"next text\">\n",
       "<text id=\"spanscale\" style=\"inline\">0</text>\n",
       "</div>\n",
       "<brt-mark id=\"bea3ba2d4-ecbaf2b3-65171edb-bd28e58e\"></brt-mark>"
      ],
      "text/plain": [
       "<IPython.core.display.HTML object>"
      ]
     },
     "metadata": {},
     "output_type": "display_data"
    }
   ],
   "source": [
    "iv = IntSlider()\n",
    "with bridge_cfg(auto_show=False):\n",
    "    display(iv.__ft__())\n",
    "iv\n"
   ]
  },
  {
   "cell_type": "code",
   "execution_count": 23,
   "metadata": {},
   "outputs": [
    {
     "data": {
      "text/plain": [
       "74"
      ]
     },
     "execution_count": 23,
     "metadata": {},
     "output_type": "execute_result"
    }
   ],
   "source": [
    "iv.value"
   ]
  },
  {
   "cell_type": "code",
   "execution_count": 24,
   "metadata": {},
   "outputs": [],
   "source": [
    "iv.value = 77"
   ]
  },
  {
   "cell_type": "code",
   "execution_count": 25,
   "metadata": {},
   "outputs": [
    {
     "data": {
      "text/html": [
       "<div id=\"IntSlider_2\" class=\"bridget value slider\">\n",
       "<label for=\"value\">Scale</label>\n",
       "  <input type=\"range\" name=\"value\" max=\"100\" step=\"2\" hx-post=\"/IntSlider_2/value\" hx-trigger=\"input changed\" hx-swap=\"textContent\" hx-target=\"next text\">\n",
       "<text id=\"spanscale\" style=\"inline\">0</text>\n",
       "</div>\n",
       "<brt-mark id=\"be987ef7f-4b74825d-5c47434e-f31b3644\"></brt-mark>"
      ],
      "text/plain": [
       "<IPython.core.display.HTML object>"
      ]
     },
     "metadata": {},
     "output_type": "display_data"
    }
   ],
   "source": [
    "iv2 = IntSlider(step=2)\n",
    "iv2"
   ]
  },
  {
   "cell_type": "code",
   "execution_count": 26,
   "metadata": {},
   "outputs": [
    {
     "data": {
      "text/html": [
       "<div style=\"display: flex; gap: 1em;\">\n",
       "  <div id=\"IntSlider_3\" class=\"bridget value slider\">\n",
       "<label for=\"value\">Scale</label>\n",
       "    <input type=\"range\" name=\"value\" max=\"100\" step=\"1\" hx-post=\"/IntSlider_3/value\" hx-trigger=\"input changed\" hx-swap=\"textContent\" hx-target=\"next text\">\n",
       "<text id=\"spanscale\" style=\"inline\">0</text>\n",
       "  </div>\n",
       "  <div id=\"IntSlider_4\" class=\"bridget value slider\">\n",
       "<label for=\"value\">Scale</label>\n",
       "    <input type=\"range\" name=\"value\" max=\"100\" step=\"1\" hx-post=\"/IntSlider_4/value\" hx-trigger=\"input changed\" hx-swap=\"textContent\" hx-target=\"next text\">\n",
       "<text id=\"spanscale\" style=\"inline\">0</text>\n",
       "  </div>\n",
       "</div>\n"
      ],
      "text/plain": [
       "div((IntSlider(min=0, max=100, step=1, readout=True, readout_format='d'), IntSlider(min=0, max=100, step=1, readout=True, readout_format='d')),{'style': 'display: flex; gap: 1em;'})"
      ]
     },
     "metadata": {},
     "output_type": "display_data"
    }
   ],
   "source": [
    "iv3 = IntSlider()\n",
    "iv4 = IntSlider()\n",
    "# brt.mount(iv3, show=False)\n",
    "# brt.mount(iv4, show=False)\n",
    "T.link((iv3, 'value'), (iv4, 'value'))\n",
    "\n",
    "box = Div(style='display: flex; gap: 1em;')(iv3, iv4)\n",
    "box\n"
   ]
  },
  {
   "cell_type": "code",
   "execution_count": 27,
   "metadata": {},
   "outputs": [],
   "source": [
    "iv3.value = 22\n",
    "test_eq(iv4.value, 22)\n"
   ]
  },
  {
   "cell_type": "markdown",
   "metadata": {},
   "source": [
    "# Simple Widget (pysignal)\n"
   ]
  },
  {
   "cell_type": "code",
   "execution_count": 28,
   "metadata": {},
   "outputs": [],
   "source": [
    "# import psygnal.utils\n",
    "# psygnal.utils.decompile()\n",
    "\n",
    "# psygnal.utils.recompile()"
   ]
  },
  {
   "cell_type": "code",
   "execution_count": 28,
   "metadata": {},
   "outputs": [],
   "source": [
    "import dataclasses\n",
    "from dataclasses import dataclass\n",
    "from typing import ClassVar\n",
    "import psygnal\n"
   ]
  },
  {
   "cell_type": "markdown",
   "metadata": {},
   "source": [
    "## _WidgetRoutesProvider"
   ]
  },
  {
   "cell_type": "code",
   "execution_count": 29,
   "metadata": {},
   "outputs": [],
   "source": [
    "class _WidgetRouteProvider(RouteProvider):\n",
    "    bridget: Bridget = None  # type: ignore\n",
    "\n",
    "    _mounted = False\n",
    "    def __init_subclass__(cls): \n",
    "        if not 'events' in vars(cls): \n",
    "            cls.events = events = psygnal.SignalGroupDescriptor()\n",
    "            events.__set_name__(cls, 'events') # call explicitly: outside class definition\n",
    "\n",
    "    events: ClassVar[psygnal.SignalGroupDescriptor]\n",
    "    def __post_init__(self):\n",
    "        if dataclasses.is_dataclass(self):\n",
    "            for fld in dataclasses.fields(self):\n",
    "                name, mtdt = fld.name, fld.metadata.get('widget', {})\n",
    "                if mtdt.get('skip', False): continue\n",
    "                mth = mtdt.get('on', None) or getattr(self, f\"on_{name}\", None)\n",
    "                if not mth: mth = partial(getattr(self, 'on_attr'), attr=name)\n",
    "                if isinstance(mth, (MethodType, partial)):\n",
    "                    self.events[fld.name].connect(mth)\n",
    "\n",
    "    _updating_ = False\n",
    "    @contextmanager\n",
    "    def _updating(self): self._updating_ = True; yield; self._updating_ = False\n",
    "\n",
    "    # @events('value')\n",
    "    def on_attr(self, nw: Any, old: Any, *, attr:str):\n",
    "        if hasattr(self, '__ft__') and self.bridget and not self._updating_:\n",
    "            self.bridget.swap(f\"#{self.ar.name()}\", to_xml(self.__ft__()), swapStyle='innerHTML')\n",
    "\n",
    "    def __ft__(self): ...\n",
    "    "
   ]
  },
  {
   "cell_type": "markdown",
   "metadata": {},
   "source": [
    "## Widget"
   ]
  },
  {
   "cell_type": "code",
   "execution_count": 32,
   "metadata": {},
   "outputs": [],
   "source": [
    "_WCLSN = 'wrapper_class'\n",
    "\n",
    "def _wrp_cls(cls: type) -> str:\n",
    "    if issubclass(cls, Widget):\n",
    "        return getattr(cls, _WCLSN) if _WCLSN in vars(cls) else cls.__name__.lower()\n",
    "    return getattr(cls, _WCLSN) if hasattr(cls, _WCLSN) else ''\n",
    "\n",
    "class Widget(_WidgetRouteProvider):\n",
    "    dhdl: DisplayId | None = None\n",
    "    contents: list[Bridgeable] = None  # type: ignore\n",
    "\n",
    "    def update_(self, /, empty_value=None, **kwargs):\n",
    "        \"Update self in place with `kwargs` whose values aren't `empty_value`\"\n",
    "        for k, v in kwargs.items():\n",
    "            if v is not empty_value: setattr(self, k, v)\n",
    "        return self\n",
    "\n",
    "    def setup_wrapper_class(self):\n",
    "        return ' '.join(_wrp_cls(_) for _ in reversed(type(self).__mro__[:-1])).strip()\n",
    "\n",
    "    def __call__(self, brble: Bridgeable, *, display_id=None, update=None, **kwargs):\n",
    "        self.contents = [brble]\n",
    "        update = True if self.dhdl else False\n",
    "        self.dhdl = self.dhdl or DisplayId(new_id(self))\n",
    "        Bridget()(self, display_id=self.dhdl, update=update, **kwargs)\n",
    "    \n",
    "    def __ft__(self):\n",
    "        if bridge_cfg.auto_mount and not self._mounted: Bridget().mount(self, show=False)\n",
    "        return Div(id=self.ar.name(), cls=self.setup_wrapper_class())(*(self.contents or ()))\n",
    "\n",
    "    def _ipython_display_(self):\n",
    "        if self.dhdl: self.dhdl.update()  # clear previous display\n",
    "        self.dhdl = Bridget()(self, display_id=self.dhdl or new_id(self))\n"
   ]
  },
  {
   "cell_type": "code",
   "execution_count": 33,
   "metadata": {},
   "outputs": [
    {
     "data": {
      "text/markdown": [
       "```html\n",
       "<div id=\"Widget_4905791808\" class=\"widget\"></div>\n",
       "\n",
       "```"
      ],
      "text/plain": [
       "div((),{'id': 'Widget_4905791808', 'class': 'widget'})"
      ]
     },
     "metadata": {},
     "output_type": "display_data"
    },
    {
     "data": {
      "text/html": [
       "<div id=\"Widget_4905791808\" class=\"widget\">\n",
       "<button>asdf</button></div>\n",
       "<brt-mark id=\"Widget_4905791808\"></brt-mark>"
      ],
      "text/plain": [
       "<IPython.core.display.HTML object>"
      ]
     },
     "metadata": {},
     "output_type": "display_data"
    }
   ],
   "source": [
    "w = Widget()\n",
    "with bridge_cfg(auto_show=False):\n",
    "    display(w.__ft__())\n",
    "w"
   ]
  },
  {
   "cell_type": "code",
   "execution_count": 34,
   "metadata": {},
   "outputs": [],
   "source": [
    "test_eq(w.contents, None)\n",
    "w(Text('asdf'))\n",
    "\n",
    "test_eq((_.list for _ in w.contents), [Text('asdf').list])  # type: ignore\n",
    "test_eq(w.dhdl.contents(), f'<div id=\"{w.ar.name}\" class=\"widget\">\\n<text>asdf</text></div>\\n')  # type: ignore\n"
   ]
  },
  {
   "cell_type": "code",
   "execution_count": 35,
   "metadata": {},
   "outputs": [],
   "source": [
    "w(Button('asdf'))\n",
    "\n",
    "test_eq((_.list for _ in w.contents), (Button('asdf').list, ))  # type: ignore\n",
    "test_eq(w.dhdl.contents(), f'<div id=\"{w.ar.name}\" class=\"widget\">\\n<button>asdf</button></div>\\n')  # type: ignore\n"
   ]
  },
  {
   "cell_type": "markdown",
   "metadata": {},
   "source": [
    "## Output"
   ]
  },
  {
   "cell_type": "code",
   "execution_count": 36,
   "metadata": {},
   "outputs": [],
   "source": [
    "# out = W.Output()\n",
    "# out"
   ]
  },
  {
   "cell_type": "code",
   "execution_count": 37,
   "metadata": {},
   "outputs": [],
   "source": [
    "# msg_id = None\n",
    "# with out:\n",
    "#     msg_id = out.msg_id\n",
    "#     out.clear_output()\n",
    "#     display(Text('Hello, world!'))\n",
    "# msg_id\n"
   ]
  },
  {
   "cell_type": "code",
   "execution_count": 36,
   "metadata": {},
   "outputs": [
    {
     "data": {
      "text/html": [
       "<div id=\"asdf\">asdf</div>"
      ],
      "text/plain": [
       "<IPython.core.display.HTML object>"
      ]
     },
     "metadata": {},
     "output_type": "display_data"
    }
   ],
   "source": [
    "o = HTML('<div id=\"asdf\">asdf</div>')\n",
    "display(o)"
   ]
  },
  {
   "cell_type": "code",
   "execution_count": 37,
   "metadata": {},
   "outputs": [],
   "source": [
    "from IPython.utils.capture import RichOutput, CapturedIO, capture_output"
   ]
  },
  {
   "cell_type": "code",
   "execution_count": 38,
   "metadata": {},
   "outputs": [],
   "source": [
    "with capture_output() as io:\n",
    "    display(Div(style='color: red;')(Text('Hi!')), HTML('<div id=\"asdf\">asdf</div>'), 'Hi!', Markdown('Hi!'))\n",
    "# io.outputs\n",
    "# io.show()"
   ]
  },
  {
   "cell_type": "code",
   "execution_count": 39,
   "metadata": {},
   "outputs": [
    {
     "data": {
      "text/html": [
       "<div style=\"color: red;\">\n",
       "<text>Hi!</text></div>\n"
      ],
      "text/plain": [
       "div((text(('Hi!',),{}),),{'style': 'color: red;'})"
      ]
     },
     "metadata": {},
     "output_type": "display_data"
    },
    {
     "data": {
      "text/html": [
       "<div id=\"asdf\">asdf</div>"
      ],
      "text/plain": [
       "<IPython.core.display.HTML object>"
      ]
     },
     "metadata": {},
     "output_type": "display_data"
    },
    {
     "data": {
      "text/plain": [
       "'Hi!'"
      ]
     },
     "metadata": {},
     "output_type": "display_data"
    },
    {
     "data": {
      "text/markdown": [
       "Hi!"
      ],
      "text/plain": [
       "<IPython.core.display.Markdown object>"
      ]
     },
     "metadata": {},
     "output_type": "display_data"
    }
   ],
   "source": [
    "io()"
   ]
  },
  {
   "cell_type": "code",
   "execution_count": 40,
   "metadata": {},
   "outputs": [
    {
     "data": {
      "text/html": [
       "<div style=\"color: red;\">\n",
       "<text>Hi!</text></div>\n"
      ],
      "text/plain": [
       "div((text(('Hi!',),{}),),{'style': 'color: red;'})"
      ]
     },
     "metadata": {},
     "output_type": "display_data"
    },
    {
     "data": {
      "text/plain": [
       "[(None, None),\n",
       " ({'text/plain': '<IPython.core.display.HTML object>',\n",
       "   'text/html': '<div id=\"asdf\">asdf</div>'},\n",
       "  {}),\n",
       " ({'text/plain': \"'Hi!'\"}, {}),\n",
       " ({'text/plain': '<IPython.core.display.Markdown object>',\n",
       "   'text/markdown': 'Hi!'},\n",
       "  {})]"
      ]
     },
     "execution_count": 40,
     "metadata": {},
     "output_type": "execute_result"
    }
   ],
   "source": [
    "def _capture(*objs, **kwargs):\n",
    "    from IPython.core.interactiveshell import InteractiveShell\n",
    "    if not InteractiveShell.initialized():\n",
    "        raise RuntimeError('IPython not initialized')\n",
    "    outs = []\n",
    "    format = InteractiveShell.instance().display_formatter.format\n",
    "    for obj in objs:\n",
    "        format_dict, md_dict = format(obj)\n",
    "        if not format_dict:\n",
    "            # nothing to display (e.g. _ipython_display_ took over)\n",
    "            outs.append((None, None))\n",
    "            continue\n",
    "        outs.append((format_dict, md_dict))\n",
    "    return outs\n",
    "\n",
    "_capture(Div(style='color: red;')(Text('Hi!')), HTML('<div id=\"asdf\">asdf</div>'), 'Hi!', Markdown('Hi!'))\n"
   ]
  },
  {
   "cell_type": "code",
   "execution_count": 41,
   "metadata": {},
   "outputs": [
    {
     "data": {
      "text/html": [
       "<div style=\"color: red;\">\n",
       "<text>Hi!</text></div>\n"
      ],
      "text/plain": [
       "div((text(('Hi!',),{}),),{'style': 'color: red;'})"
      ]
     },
     "metadata": {},
     "output_type": "display_data"
    },
    {
     "data": {
      "text/html": [
       "<div id=\"asdf\">asdf</div>"
      ],
      "text/plain": [
       "<IPython.core.display.HTML object>"
      ]
     },
     "metadata": {},
     "output_type": "display_data"
    },
    {
     "data": {
      "text/plain": [
       "'Hi!'"
      ]
     },
     "metadata": {},
     "output_type": "display_data"
    },
    {
     "data": {
      "text/markdown": [
       "Hi!"
      ],
      "text/plain": [
       "<IPython.core.display.Markdown object>"
      ]
     },
     "metadata": {},
     "output_type": "display_data"
    },
    {
     "name": "stdout",
     "output_type": "stream",
     "text": [
      "({'text/plain': \"div((text(('Hi!',),{}),),{'style': 'color: red;'})\", 'text/html': '<div style=\"color: red;\">\\n<text>Hi!</text></div>\\n'}, {})\n",
      "({'text/plain': '<IPython.core.display.HTML object>', 'text/html': '<div id=\"asdf\">asdf</div>'}, {})\n",
      "({'text/plain': \"'Hi!'\"}, {})\n",
      "({'text/plain': '<IPython.core.display.Markdown object>', 'text/markdown': 'Hi!'}, {})\n"
     ]
    }
   ],
   "source": [
    "def _capture_output(*objs, **kwargs):\n",
    "    with capture_output() as io:\n",
    "        display(*objs, **kwargs)\n",
    "    return io\n",
    "\n",
    "capt = _capture_output(Div(style='color: red;')(Text('Hi!')), HTML('<div id=\"asdf\">asdf</div>'), 'Hi!', Markdown('Hi!'))\n",
    "capt()\n",
    "for c in capt.outputs:\n",
    "    print(c._repr_mimebundle_())\n"
   ]
  },
  {
   "cell_type": "code",
   "execution_count": 42,
   "metadata": {},
   "outputs": [],
   "source": [
    "class Output(Widget):\n",
    "    def __init__(self, *args, **kwargs):\n",
    "        super().__init__(*args, **kwargs)\n",
    "        self.contents = []\n",
    "        Bridget().mount(self, show=False)\n",
    "    # def __ft__(self):\n",
    "    #     return super().__ft__()(id=self.idx)\n",
    "    # def _ipython_display_(self):\n",
    "    #     Bridget()(self, display_id=self.idx)\n",
    "    def clear_output(self, wait=False):\n",
    "        self.contents = []\n",
    "        if not wait and self.dhdl: self.dhdl.update()\n",
    "    # def capture(self, clear_output=False, *clear_args, **clear_kwargs):\n",
    "    #     pass\n",
    "    # @contextmanager\n",
    "    # def managed_resource(*args, **kwds):\n",
    "    #     # Code to acquire resource, e.g.:\n",
    "    #     resource = acquire_resource(*args, **kwds)\n",
    "    #     try:\n",
    "    #         yield resource\n",
    "    #     finally:\n",
    "    #         # Code to release resource, e.g.:\n",
    "    #         release_resource(resource)\n",
    "\n",
    "    def __enter__(self):\n",
    "        self._capt = capture_output()\n",
    "        self._cio = self._capt.__enter__()\n",
    "    def __exit__(self, etype, evalue, tb):\n",
    "        bridge_cfg.current_did = None\n",
    "        self._capt.__exit__(etype, evalue, tb)\n",
    "        outputs, self._cio, self._capt = self._cio.outputs, None, None\n",
    "        if not self.dhdl:\n",
    "            dhdl = display(display_id=True)\n",
    "            self.dhdl = DisplayId(dhdl.display_id)\n",
    "        dhdl = self.dhdl.display_id\n",
    "        for c in outputs:\n",
    "            mime = {'data': c.data, 'metadata': c.metadata}\n",
    "            self.contents.append(mime)\n",
    "            display(mime['data'], metadata=mime['metadata'], raw=True, update=True, display_id=dhdl)\n",
    "    \n",
    "    # def _flush(self):\n",
    "    #     pass\n",
    "    def append_stdout(self, text):\n",
    "        brt = self.bridget\n",
    "        brt.swap(f\"#{self.ar.name}\", text+'<br>', swapStyle='beforeend')\n",
    "        self.contents.append(text)\n",
    "    def append_stderr(self, text):\n",
    "        brt = self.bridget\n",
    "        brt.swap(f\"#{self.ar.name}\", text+'<br>', swapStyle='beforeend')\n",
    "        self.contents.append(text)\n",
    "    def append_display_data(self, display_object):\n",
    "        with capture_output() as io:\n",
    "            display(display_object)\n",
    "        mimebundle = io.outputs[0]._repr_mimebundle_()\n",
    "        html = mimebundle[0]['text/html']\n",
    "        brt = self.bridget\n",
    "        brt.swap(f\"#{self.ar.name}\", html, swapStyle='beforeend')\n",
    "        self.contents.append(display_object)\n"
   ]
  },
  {
   "cell_type": "code",
   "execution_count": 55,
   "metadata": {},
   "outputs": [
    {
     "data": {
      "text/markdown": [
       "```html\n",
       "<div id=\"Output_4906495552\" class=\"widget output\"></div>\n",
       "\n",
       "```"
      ],
      "text/plain": [
       "div((),{'id': 'Output_4906495552', 'class': 'widget output'})"
      ]
     },
     "metadata": {},
     "output_type": "display_data"
    },
    {
     "data": {
      "text/html": [
       "<div id=\"Output_4906495552\" class=\"widget output\">\n",
       "<text>Hello, world!</text></div>\n",
       "<brt-mark id=\"Output_4906495552\"></brt-mark>"
      ],
      "text/plain": [
       "<IPython.core.display.HTML object>"
      ]
     },
     "metadata": {},
     "output_type": "display_data"
    }
   ],
   "source": [
    "out = Output()\n",
    "with bridge_cfg(auto_show=False):\n",
    "    display(out.__ft__())\n",
    "out\n"
   ]
  },
  {
   "cell_type": "code",
   "execution_count": 56,
   "metadata": {},
   "outputs": [],
   "source": [
    "out(Text('Hello, world!'))"
   ]
  },
  {
   "cell_type": "code",
   "execution_count": 59,
   "metadata": {},
   "outputs": [],
   "source": [
    "out.append_stdout('Hello, universe!')\n"
   ]
  },
  {
   "cell_type": "code",
   "execution_count": 60,
   "metadata": {},
   "outputs": [],
   "source": [
    "out.append_display_data(Div(style='color: red; padding: 0px;')(Text('Hello, red!')))\n",
    "out.append_display_data(Button('adfrt'))"
   ]
  },
  {
   "cell_type": "code",
   "execution_count": 61,
   "metadata": {},
   "outputs": [
    {
     "data": {
      "text/plain": [
       "[text(('Hello, world!',),{}),\n",
       " 'Hello, universe!',\n",
       " 'Hello, universe!',\n",
       " 'Hello, universe!',\n",
       " div((text(('Hello, red!',),{}),),{'style': 'color: red; padding: 0px;'}),\n",
       " button(('adfrt',),{})]"
      ]
     },
     "execution_count": 61,
     "metadata": {},
     "output_type": "execute_result"
    }
   ],
   "source": [
    "out.contents\n"
   ]
  },
  {
   "cell_type": "code",
   "execution_count": 62,
   "metadata": {},
   "outputs": [
    {
     "data": {
      "text/plain": [
       "'adfrt'"
      ]
     },
     "metadata": {},
     "output_type": "display_data"
    }
   ],
   "source": [
    "out = Output()\n",
    "with out:\n",
    "    display('adfrt')\n",
    "# out.contents\n"
   ]
  },
  {
   "cell_type": "code",
   "execution_count": 63,
   "metadata": {},
   "outputs": [],
   "source": [
    "out.append_display_data(Div(style='color: red; padding: 0px;')(Text('Hello, red!')))"
   ]
  },
  {
   "cell_type": "code",
   "execution_count": 54,
   "metadata": {},
   "outputs": [
    {
     "data": {
      "text/plain": [
       "[{'data': {'text/plain': \"'adfrt'\"}, 'metadata': {}},\n",
       " div((text(('Hello, red!',),{}),),{'style': 'color: red; padding: 0px;'})]"
      ]
     },
     "execution_count": 54,
     "metadata": {},
     "output_type": "execute_result"
    }
   ],
   "source": [
    "out.contents"
   ]
  },
  {
   "cell_type": "code",
   "execution_count": 69,
   "metadata": {},
   "outputs": [],
   "source": [
    "import matplotlib.pyplot as plt\n"
   ]
  },
  {
   "cell_type": "code",
   "execution_count": 70,
   "metadata": {},
   "outputs": [
    {
     "data": {
      "image/png": "[encoded data removed]",
      "text/plain": [
       "<Figure size 640x480 with 1 Axes>"
      ]
     },
     "metadata": {},
     "output_type": "display_data"
    },
    {
     "data": {
      "text/plain": [
       "[{'data': {'text/plain': \"button(('adfrt',),{})\",\n",
       "   'text/html': '<button>adfrt</button>'},\n",
       "  'metadata': {}},\n",
       " {'data': {'text/plain': '<Figure size 640x480 with 1 Axes>',\n",
       "   'image/png': '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'},\n",
       "  'metadata': {}}]"
      ]
     },
     "execution_count": 70,
     "metadata": {},
     "output_type": "execute_result"
    }
   ],
   "source": [
    "with out:\n",
    "    fig = plt.figure(figsize=(4, 2.67))\n",
    "    plt.plot([1,2,3,4])\n",
    "    # plt.show()\n",
    "out.contents"
   ]
  },
  {
   "cell_type": "code",
   "execution_count": null,
   "metadata": {},
   "outputs": [],
   "source": [
    "# with out:\n",
    "#     plt.plot([1,2,3,4])\n",
    "#     plt.show()"
   ]
  },
  {
   "cell_type": "markdown",
   "metadata": {},
   "source": [
    "----"
   ]
  },
  {
   "cell_type": "code",
   "execution_count": null,
   "metadata": {},
   "outputs": [],
   "source": [
    "out = Output(layout={'border': '1px solid black'})\n",
    "out\n"
   ]
  },
  {
   "cell_type": "code",
   "execution_count": null,
   "metadata": {},
   "outputs": [],
   "source": [
    "with out:\n",
    "    for i in range(10):\n",
    "        print(i, 'Hello world!')"
   ]
  },
  {
   "cell_type": "code",
   "execution_count": null,
   "metadata": {},
   "outputs": [],
   "source": [
    "from IPython.display import YouTubeVideo\n",
    "with out:\n",
    "    display(YouTubeVideo('eWzY2nGfkXk'))"
   ]
  },
  {
   "cell_type": "code",
   "execution_count": null,
   "metadata": {},
   "outputs": [],
   "source": [
    "with out:\n",
    "    display(widgets.IntSlider())"
   ]
  },
  {
   "cell_type": "code",
   "execution_count": null,
   "metadata": {},
   "outputs": [],
   "source": [
    "out = widgets.Output(layout={'border': '1px solid black'})\n",
    "out.append_stdout('Output appended with append_stdout')\n",
    "out.append_display_data(YouTubeVideo('eWzY2nGfkXk'))\n",
    "out"
   ]
  },
  {
   "cell_type": "code",
   "execution_count": null,
   "metadata": {},
   "outputs": [],
   "source": [
    "@out.capture()\n",
    "def function_with_captured_output():\n",
    "    print('This goes into the output widget')\n",
    "    raise Exception('As does this')\n",
    "    \n",
    "function_with_captured_output()"
   ]
  },
  {
   "cell_type": "code",
   "execution_count": null,
   "metadata": {},
   "outputs": [],
   "source": [
    "a = widgets.IntSlider(description='a')\n",
    "b = widgets.IntSlider(description='b')\n",
    "c = widgets.IntSlider(description='c')\n",
    "def f(a, b, c):\n",
    "    print('{}*{}*{}={}'.format(a, b, c, a*b*c))\n",
    "\n",
    "out = widgets.interactive_output(f, {'a': a, 'b': b, 'c': c})\n",
    "\n",
    "widgets.HBox([widgets.VBox([a, b, c]), out])"
   ]
  },
  {
   "cell_type": "markdown",
   "metadata": {},
   "source": [
    "## Control"
   ]
  },
  {
   "cell_type": "code",
   "execution_count": null,
   "metadata": {},
   "outputs": [],
   "source": [
    "class Control(Widget):\n",
    "    pass\n",
    "\n",
    "test_eq(_wrp_cls(Control), 'control')\n"
   ]
  },
  {
   "cell_type": "markdown",
   "metadata": {},
   "source": [
    "## Value"
   ]
  },
  {
   "cell_type": "code",
   "execution_count": null,
   "metadata": {},
   "outputs": [],
   "source": [
    "@dataclass\n",
    "class Value(Widget):\n",
    "    value: Any = None\n",
    "\n",
    "    @ar('/value', methods=['POST'])\n",
    "    def changed(self, value:str):\n",
    "        with self._updating(): self.value = value\n",
    "        return self.value\n",
    "\n",
    "    def setup_value(self):\n",
    "        return Input(name='value', value=self.value,\n",
    "                hx_post=f\"{self.ar.to}/value\", hx_trigger='input changed', hx_swap='none')\n",
    "    def setup_controls(self):\n",
    "        return (self.setup_value(), )\n",
    "    \n",
    "    def __ft__(self):\n",
    "        return super().__ft__()(*self.setup_controls())\n"
   ]
  },
  {
   "cell_type": "code",
   "execution_count": null,
   "metadata": {},
   "outputs": [
    {
     "data": {
      "text/html": [
       "<pre style=\"white-space:pre;overflow-x:auto;line-height:normal;font-family:Menlo,'DejaVu Sans Mono',consolas,'Courier New',monospace\"><span style=\"font-weight: bold\">(</span>\n",
       "    <span style=\"color: #800080; text-decoration-color: #800080; font-weight: bold\">Field</span><span style=\"font-weight: bold\">(</span><span style=\"color: #808000; text-decoration-color: #808000\">name</span>=<span style=\"color: #008000; text-decoration-color: #008000\">'value'</span>,<span style=\"color: #808000; text-decoration-color: #808000\">type</span>=<span style=\"color: #008000; text-decoration-color: #008000\">'Any'</span>,<span style=\"color: #808000; text-decoration-color: #808000\">default</span>=<span style=\"color: #800080; text-decoration-color: #800080; font-style: italic\">None</span>,<span style=\"color: #808000; text-decoration-color: #808000\">default_factory</span>=<span style=\"font-weight: bold\">&lt;</span><span style=\"color: #ff00ff; text-decoration-color: #ff00ff; font-weight: bold\">dataclasses._MISSING_TYPE</span><span style=\"color: #000000; text-decoration-color: #000000\"> object at </span>\n",
       "<span style=\"color: #008080; text-decoration-color: #008080; font-weight: bold\">0x1061a2930</span><span style=\"font-weight: bold\">&gt;</span>,<span style=\"color: #808000; text-decoration-color: #808000\">init</span>=<span style=\"color: #00ff00; text-decoration-color: #00ff00; font-style: italic\">True</span>,<span style=\"color: #808000; text-decoration-color: #808000\">repr</span>=<span style=\"color: #00ff00; text-decoration-color: #00ff00; font-style: italic\">True</span>,<span style=\"color: #808000; text-decoration-color: #808000\">hash</span>=<span style=\"color: #800080; text-decoration-color: #800080; font-style: italic\">None</span>,<span style=\"color: #808000; text-decoration-color: #808000\">compare</span>=<span style=\"color: #00ff00; text-decoration-color: #00ff00; font-style: italic\">True</span>,<span style=\"color: #808000; text-decoration-color: #808000\">metadata</span>=<span style=\"color: #800080; text-decoration-color: #800080; font-weight: bold\">mappingproxy</span><span style=\"font-weight: bold\">({})</span>,<span style=\"color: #808000; text-decoration-color: #808000\">kw_only</span>=<span style=\"color: #ff0000; text-decoration-color: #ff0000; font-style: italic\">False</span>,<span style=\"color: #808000; text-decoration-color: #808000\">_field_type</span>=<span style=\"color: #800080; text-decoration-color: #800080\">_FIELD</span><span style=\"font-weight: bold\">)</span>,\n",
       "<span style=\"font-weight: bold\">)</span>\n",
       "</pre>\n"
      ],
      "text/plain": [
       "\u001b[1m(\u001b[0m\n",
       "    \u001b[1;35mField\u001b[0m\u001b[1m(\u001b[0m\u001b[33mname\u001b[0m=\u001b[32m'value'\u001b[0m,\u001b[33mtype\u001b[0m=\u001b[32m'Any'\u001b[0m,\u001b[33mdefault\u001b[0m=\u001b[3;35mNone\u001b[0m,\u001b[33mdefault_factory\u001b[0m=\u001b[1m<\u001b[0m\u001b[1;95mdataclasses._MISSING_TYPE\u001b[0m\u001b[39m object at \u001b[0m\n",
       "\u001b[1;36m0x1061a2930\u001b[0m\u001b[1m>\u001b[0m,\u001b[33minit\u001b[0m=\u001b[3;92mTrue\u001b[0m,\u001b[33mrepr\u001b[0m=\u001b[3;92mTrue\u001b[0m,\u001b[33mhash\u001b[0m=\u001b[3;35mNone\u001b[0m,\u001b[33mcompare\u001b[0m=\u001b[3;92mTrue\u001b[0m,\u001b[33mmetadata\u001b[0m=\u001b[1;35mmappingproxy\u001b[0m\u001b[1m(\u001b[0m\u001b[1m{\u001b[0m\u001b[1m}\u001b[0m\u001b[1m)\u001b[0m,\u001b[33mkw_only\u001b[0m=\u001b[3;91mFalse\u001b[0m,\u001b[33m_field_type\u001b[0m=\u001b[35m_FIELD\u001b[0m\u001b[1m)\u001b[0m,\n",
       "\u001b[1m)\u001b[0m\n"
      ]
     },
     "metadata": {},
     "output_type": "display_data"
    }
   ],
   "source": [
    "cprint(dataclasses.fields(Value))"
   ]
  },
  {
   "cell_type": "code",
   "execution_count": null,
   "metadata": {},
   "outputs": [
    {
     "data": {
      "text/markdown": [
       "```html\n",
       "<div id=\"Value_1\" class=\"widget value\">\n",
       "  <input name=\"value\" value=\"Hello, world!\" hx-post=\"/Value_1/value\" hx-trigger=\"input changed\" hx-swap=\"none\">\n",
       "</div>\n",
       "\n",
       "```"
      ],
      "text/plain": [
       "div((input((),{'name': 'value', 'value': 'Hello, world!', 'hx-post': '/Value_1/value', 'hx-trigger': 'input changed', 'hx-swap': 'none'}),),{'id': 'Value_1', 'class': 'widget value'})"
      ]
     },
     "metadata": {},
     "output_type": "display_data"
    },
    {
     "data": {
      "text/html": [
       "<div id=\"Value_1\" class=\"widget value\">\n",
       "  <input name=\"value\" value=\"Hello, world!\" hx-post=\"/Value_1/value\" hx-trigger=\"input changed\" hx-swap=\"none\">\n",
       "</div>\n"
      ],
      "text/plain": [
       "<IPython.core.display.HTML object>"
      ]
     },
     "metadata": {},
     "output_type": "display_data"
    }
   ],
   "source": [
    "v = Value('Hello, world!')\n",
    "with bridge_cfg(auto_show=False):\n",
    "    display(v.__ft__())\n",
    "v\n"
   ]
  },
  {
   "cell_type": "code",
   "execution_count": null,
   "metadata": {},
   "outputs": [
    {
     "data": {
      "text/plain": [
       "'Hello, world!as'"
      ]
     },
     "execution_count": null,
     "metadata": {},
     "output_type": "execute_result"
    }
   ],
   "source": [
    "v.value"
   ]
  },
  {
   "cell_type": "code",
   "execution_count": null,
   "metadata": {},
   "outputs": [],
   "source": [
    "v.value = 'bye!'"
   ]
  },
  {
   "cell_type": "markdown",
   "metadata": {},
   "source": [
    "## IntText\n"
   ]
  },
  {
   "cell_type": "code",
   "execution_count": null,
   "metadata": {},
   "outputs": [],
   "source": [
    "@dataclass\n",
    "class IntText(Value):\n",
    "    value: int = 0\n",
    "    @ar('/value', methods=['POST'])\n",
    "    def changed(self, value:int):\n",
    "        with self._updating(): self.value = value\n",
    "        return self.value\n",
    "    def setup_value(self):\n",
    "        return Input(name='value', value=self.value, type='number', \n",
    "                hx_post=f\"{self.ar.to}/value\", hx_trigger='input changed throttle:100ms', hx_swap='none')\n"
   ]
  },
  {
   "cell_type": "code",
   "execution_count": null,
   "metadata": {},
   "outputs": [
    {
     "data": {
      "text/markdown": [
       "```html\n",
       "<div id=\"IntText_1\" class=\"widget value inttext\">\n",
       "  <input name=\"value\" value=\"5\" type=\"number\" hx-post=\"/IntText_1/value\" hx-trigger=\"input changed throttle:100ms\" hx-swap=\"none\">\n",
       "</div>\n",
       "\n",
       "```"
      ],
      "text/plain": [
       "div((input((),{'name': 'value', 'value': 5, 'type': 'number', 'hx-post': '/IntText_1/value', 'hx-trigger': 'input changed throttle:100ms', 'hx-swap': 'none'}),),{'id': 'IntText_1', 'class': 'widget value inttext'})"
      ]
     },
     "metadata": {},
     "output_type": "display_data"
    },
    {
     "data": {
      "text/html": [
       "<div id=\"IntText_1\" class=\"widget value inttext\">\n",
       "  <input name=\"value\" value=\"5\" type=\"number\" hx-post=\"/IntText_1/value\" hx-trigger=\"input changed throttle:100ms\" hx-swap=\"none\">\n",
       "</div>\n"
      ],
      "text/plain": [
       "<IPython.core.display.HTML object>"
      ]
     },
     "metadata": {},
     "output_type": "display_data"
    }
   ],
   "source": [
    "v = IntText(5)\n",
    "with bridge_cfg(auto_show=False):\n",
    "    display(v.__ft__())\n",
    "v\n"
   ]
  },
  {
   "cell_type": "code",
   "execution_count": null,
   "metadata": {},
   "outputs": [
    {
     "data": {
      "text/plain": [
       "5"
      ]
     },
     "execution_count": null,
     "metadata": {},
     "output_type": "execute_result"
    }
   ],
   "source": [
    "v.value"
   ]
  },
  {
   "cell_type": "code",
   "execution_count": null,
   "metadata": {},
   "outputs": [],
   "source": [
    "v.value = 17"
   ]
  },
  {
   "cell_type": "markdown",
   "metadata": {},
   "source": [
    "## BoundedInt"
   ]
  },
  {
   "cell_type": "code",
   "execution_count": null,
   "metadata": {},
   "outputs": [],
   "source": [
    "@dataclass\n",
    "class BoundedInt(IntText):\n",
    "    min: int = 0\n",
    "    max: int = 100\n",
    "    step: int = 1\n",
    "\n",
    "    def on_attr(self, nw: Any, old: Any, *, attr:str):\n",
    "        if attr != 'value': \n",
    "            if (val := self.value) < self.min:\n",
    "                with self.events.value.blocked():\n",
    "                    self.value = self.min\n",
    "            elif val > self.max:\n",
    "                with self.events.value.blocked():\n",
    "                    self.value = self.max\n",
    "        super().on_attr(nw, old, attr=attr)\n",
    "\n",
    "    def setup_value(self):\n",
    "        return super().setup_value()(min=self.min, max=self.max, step=self.step)\n"
   ]
  },
  {
   "cell_type": "code",
   "execution_count": null,
   "metadata": {},
   "outputs": [
    {
     "data": {
      "text/markdown": [
       "```html\n",
       "<div id=\"BoundedInt_1\" class=\"widget value inttext boundedint\">\n",
       "  <input name=\"value\" value=\"10\" type=\"number\" hx-post=\"/BoundedInt_1/value\" hx-trigger=\"input changed throttle:100ms\" hx-swap=\"none\" min=\"5\" max=\"15\" step=\"1\">\n",
       "</div>\n",
       "\n",
       "```"
      ],
      "text/plain": [
       "div((input((),{'name': 'value', 'value': 10, 'type': 'number', 'hx-post': '/BoundedInt_1/value', 'hx-trigger': 'input changed throttle:100ms', 'hx-swap': 'none', 'min': 5, 'max': 15, 'step': 1}),),{'id': 'BoundedInt_1', 'class': 'widget value inttext boundedint'})"
      ]
     },
     "metadata": {},
     "output_type": "display_data"
    },
    {
     "data": {
      "text/html": [
       "<div id=\"BoundedInt_1\" class=\"widget value inttext boundedint\">\n",
       "  <input name=\"value\" value=\"10\" type=\"number\" hx-post=\"/BoundedInt_1/value\" hx-trigger=\"input changed throttle:100ms\" hx-swap=\"none\" min=\"5\" max=\"15\" step=\"1\">\n",
       "</div>\n"
      ],
      "text/plain": [
       "<IPython.core.display.HTML object>"
      ]
     },
     "metadata": {},
     "output_type": "display_data"
    }
   ],
   "source": [
    "v = BoundedInt(10, 5, 15)\n",
    "with bridge_cfg(auto_show=False):\n",
    "    display(v.__ft__())\n",
    "v\n"
   ]
  },
  {
   "cell_type": "code",
   "execution_count": null,
   "metadata": {},
   "outputs": [
    {
     "data": {
      "text/plain": [
       "10"
      ]
     },
     "execution_count": null,
     "metadata": {},
     "output_type": "execute_result"
    }
   ],
   "source": [
    "v.value"
   ]
  },
  {
   "cell_type": "code",
   "execution_count": null,
   "metadata": {},
   "outputs": [],
   "source": [
    "v.max = 10"
   ]
  },
  {
   "cell_type": "markdown",
   "metadata": {},
   "source": [
    "## IntSlider"
   ]
  },
  {
   "cell_type": "code",
   "execution_count": null,
   "metadata": {},
   "outputs": [],
   "source": [
    "@dataclass\n",
    "class IntSlider(BoundedInt):\n",
    "    readout: bool = True\n",
    "    readout_format: str = 'd'\n",
    "    \n",
    "    # @ar('/value', methods=['POST'])\n",
    "    # def changed(self, value:int):\n",
    "    #     return super().changed(value)\n",
    "\n",
    "    wrapper_class = 'slider'\n",
    "    def setup_value(self):\n",
    "        return super().setup_value()(type='range', hx_target='next text', hx_swap='textContent')\n",
    "        # return Input(type='range', name='value', min=self.min, max=self.max, step=self.step, value=self.value,\n",
    "        #         hx_post=f\"{self.ar.to}/value\", hx_trigger='input changed throttle:100ms', \n",
    "        #         hx_target='next text', hx_swap='textContent')\n",
    "    def setup_controls(self):\n",
    "        return (Label(_for='value')('Scale'), _n,\n",
    "                self.setup_value(),\n",
    "                Text(id='spanscale', style='inline')(self.value), _n)\n",
    "\n"
   ]
  },
  {
   "cell_type": "code",
   "execution_count": null,
   "metadata": {},
   "outputs": [
    {
     "data": {
      "text/html": [
       "<pre style=\"white-space:pre;overflow-x:auto;line-height:normal;font-family:Menlo,'DejaVu Sans Mono',consolas,'Courier New',monospace\"><span style=\"font-weight: bold\">(</span>\n",
       "    <span style=\"color: #800080; text-decoration-color: #800080; font-weight: bold\">Field</span><span style=\"font-weight: bold\">(</span><span style=\"color: #808000; text-decoration-color: #808000\">name</span>=<span style=\"color: #008000; text-decoration-color: #008000\">'value'</span>,<span style=\"color: #808000; text-decoration-color: #808000\">type</span>=<span style=\"color: #008000; text-decoration-color: #008000\">'int'</span>,<span style=\"color: #808000; text-decoration-color: #808000\">default</span>=<span style=\"color: #008080; text-decoration-color: #008080; font-weight: bold\">0</span>,<span style=\"color: #808000; text-decoration-color: #808000\">default_factory</span>=<span style=\"font-weight: bold\">&lt;</span><span style=\"color: #ff00ff; text-decoration-color: #ff00ff; font-weight: bold\">dataclasses._MISSING_TYPE</span><span style=\"color: #000000; text-decoration-color: #000000\"> object at </span>\n",
       "<span style=\"color: #008080; text-decoration-color: #008080; font-weight: bold\">0x1061a2930</span><span style=\"color: #000000; text-decoration-color: #000000\">&gt;,</span><span style=\"color: #808000; text-decoration-color: #808000\">init</span><span style=\"color: #000000; text-decoration-color: #000000\">=</span><span style=\"color: #00ff00; text-decoration-color: #00ff00; font-style: italic\">True</span><span style=\"color: #000000; text-decoration-color: #000000\">,</span><span style=\"color: #808000; text-decoration-color: #808000\">repr</span><span style=\"color: #000000; text-decoration-color: #000000\">=</span><span style=\"color: #00ff00; text-decoration-color: #00ff00; font-style: italic\">True</span><span style=\"color: #000000; text-decoration-color: #000000\">,</span><span style=\"color: #808000; text-decoration-color: #808000\">hash</span><span style=\"color: #000000; text-decoration-color: #000000\">=</span><span style=\"color: #800080; text-decoration-color: #800080; font-style: italic\">None</span><span style=\"color: #000000; text-decoration-color: #000000\">,</span><span style=\"color: #808000; text-decoration-color: #808000\">compare</span><span style=\"color: #000000; text-decoration-color: #000000\">=</span><span style=\"color: #00ff00; text-decoration-color: #00ff00; font-style: italic\">True</span><span style=\"color: #000000; text-decoration-color: #000000\">,</span><span style=\"color: #808000; text-decoration-color: #808000\">metadata</span><span style=\"color: #000000; text-decoration-color: #000000\">=</span><span style=\"color: #800080; text-decoration-color: #800080; font-weight: bold\">mappingproxy</span><span style=\"color: #000000; text-decoration-color: #000000; font-weight: bold\">({})</span><span style=\"color: #000000; text-decoration-color: #000000\">,</span><span style=\"color: #808000; text-decoration-color: #808000\">kw_only</span><span style=\"color: #000000; text-decoration-color: #000000\">=</span><span style=\"color: #ff0000; text-decoration-color: #ff0000; font-style: italic\">False</span><span style=\"color: #000000; text-decoration-color: #000000\">,</span><span style=\"color: #808000; text-decoration-color: #808000\">_field_type</span><span style=\"color: #000000; text-decoration-color: #000000\">=</span><span style=\"color: #800080; text-decoration-color: #800080\">_FIELD</span><span style=\"color: #000000; text-decoration-color: #000000; font-weight: bold\">)</span><span style=\"color: #000000; text-decoration-color: #000000\">,</span>\n",
       "<span style=\"color: #000000; text-decoration-color: #000000\">    </span><span style=\"color: #800080; text-decoration-color: #800080; font-weight: bold\">Field</span><span style=\"color: #000000; text-decoration-color: #000000; font-weight: bold\">(</span><span style=\"color: #808000; text-decoration-color: #808000\">name</span><span style=\"color: #000000; text-decoration-color: #000000\">=</span><span style=\"color: #008000; text-decoration-color: #008000\">'min'</span><span style=\"color: #000000; text-decoration-color: #000000\">,</span><span style=\"color: #808000; text-decoration-color: #808000\">type</span><span style=\"color: #000000; text-decoration-color: #000000\">=</span><span style=\"color: #008000; text-decoration-color: #008000\">'int'</span><span style=\"color: #000000; text-decoration-color: #000000\">,</span><span style=\"color: #808000; text-decoration-color: #808000\">default</span><span style=\"color: #000000; text-decoration-color: #000000\">=</span><span style=\"color: #008080; text-decoration-color: #008080; font-weight: bold\">0</span><span style=\"color: #000000; text-decoration-color: #000000\">,</span><span style=\"color: #808000; text-decoration-color: #808000\">default_factory</span><span style=\"color: #000000; text-decoration-color: #000000\">=&lt;dataclasses._MISSING_TYPE object at </span>\n",
       "<span style=\"color: #008080; text-decoration-color: #008080; font-weight: bold\">0x1061a2930</span><span style=\"color: #000000; text-decoration-color: #000000\">&gt;,</span><span style=\"color: #808000; text-decoration-color: #808000\">init</span><span style=\"color: #000000; text-decoration-color: #000000\">=</span><span style=\"color: #00ff00; text-decoration-color: #00ff00; font-style: italic\">True</span><span style=\"color: #000000; text-decoration-color: #000000\">,</span><span style=\"color: #808000; text-decoration-color: #808000\">repr</span><span style=\"color: #000000; text-decoration-color: #000000\">=</span><span style=\"color: #00ff00; text-decoration-color: #00ff00; font-style: italic\">True</span><span style=\"color: #000000; text-decoration-color: #000000\">,</span><span style=\"color: #808000; text-decoration-color: #808000\">hash</span><span style=\"color: #000000; text-decoration-color: #000000\">=</span><span style=\"color: #800080; text-decoration-color: #800080; font-style: italic\">None</span><span style=\"color: #000000; text-decoration-color: #000000\">,</span><span style=\"color: #808000; text-decoration-color: #808000\">compare</span><span style=\"color: #000000; text-decoration-color: #000000\">=</span><span style=\"color: #00ff00; text-decoration-color: #00ff00; font-style: italic\">True</span><span style=\"color: #000000; text-decoration-color: #000000\">,</span><span style=\"color: #808000; text-decoration-color: #808000\">metadata</span><span style=\"color: #000000; text-decoration-color: #000000\">=</span><span style=\"color: #800080; text-decoration-color: #800080; font-weight: bold\">mappingproxy</span><span style=\"color: #000000; text-decoration-color: #000000; font-weight: bold\">({})</span><span style=\"color: #000000; text-decoration-color: #000000\">,</span><span style=\"color: #808000; text-decoration-color: #808000\">kw_only</span><span style=\"color: #000000; text-decoration-color: #000000\">=</span><span style=\"color: #ff0000; text-decoration-color: #ff0000; font-style: italic\">False</span><span style=\"color: #000000; text-decoration-color: #000000\">,</span><span style=\"color: #808000; text-decoration-color: #808000\">_field_type</span><span style=\"color: #000000; text-decoration-color: #000000\">=</span><span style=\"color: #800080; text-decoration-color: #800080\">_FIELD</span><span style=\"color: #000000; text-decoration-color: #000000; font-weight: bold\">)</span><span style=\"color: #000000; text-decoration-color: #000000\">,</span>\n",
       "<span style=\"color: #000000; text-decoration-color: #000000\">    </span><span style=\"color: #800080; text-decoration-color: #800080; font-weight: bold\">Field</span><span style=\"color: #000000; text-decoration-color: #000000; font-weight: bold\">(</span><span style=\"color: #808000; text-decoration-color: #808000\">name</span><span style=\"color: #000000; text-decoration-color: #000000\">=</span><span style=\"color: #008000; text-decoration-color: #008000\">'max'</span><span style=\"color: #000000; text-decoration-color: #000000\">,</span><span style=\"color: #808000; text-decoration-color: #808000\">type</span><span style=\"color: #000000; text-decoration-color: #000000\">=</span><span style=\"color: #008000; text-decoration-color: #008000\">'int'</span><span style=\"color: #000000; text-decoration-color: #000000\">,</span><span style=\"color: #808000; text-decoration-color: #808000\">default</span><span style=\"color: #000000; text-decoration-color: #000000\">=</span><span style=\"color: #008080; text-decoration-color: #008080; font-weight: bold\">100</span><span style=\"color: #000000; text-decoration-color: #000000\">,</span><span style=\"color: #808000; text-decoration-color: #808000\">default_factory</span><span style=\"color: #000000; text-decoration-color: #000000\">=&lt;dataclasses._MISSING_TYPE object at </span>\n",
       "<span style=\"color: #008080; text-decoration-color: #008080; font-weight: bold\">0x1061a2930</span><span style=\"color: #000000; text-decoration-color: #000000\">&gt;,</span><span style=\"color: #808000; text-decoration-color: #808000\">init</span><span style=\"color: #000000; text-decoration-color: #000000\">=</span><span style=\"color: #00ff00; text-decoration-color: #00ff00; font-style: italic\">True</span><span style=\"color: #000000; text-decoration-color: #000000\">,</span><span style=\"color: #808000; text-decoration-color: #808000\">repr</span><span style=\"color: #000000; text-decoration-color: #000000\">=</span><span style=\"color: #00ff00; text-decoration-color: #00ff00; font-style: italic\">True</span><span style=\"color: #000000; text-decoration-color: #000000\">,</span><span style=\"color: #808000; text-decoration-color: #808000\">hash</span><span style=\"color: #000000; text-decoration-color: #000000\">=</span><span style=\"color: #800080; text-decoration-color: #800080; font-style: italic\">None</span><span style=\"color: #000000; text-decoration-color: #000000\">,</span><span style=\"color: #808000; text-decoration-color: #808000\">compare</span><span style=\"color: #000000; text-decoration-color: #000000\">=</span><span style=\"color: #00ff00; text-decoration-color: #00ff00; font-style: italic\">True</span><span style=\"color: #000000; text-decoration-color: #000000\">,</span><span style=\"color: #808000; text-decoration-color: #808000\">metadata</span><span style=\"color: #000000; text-decoration-color: #000000\">=</span><span style=\"color: #800080; text-decoration-color: #800080; font-weight: bold\">mappingproxy</span><span style=\"color: #000000; text-decoration-color: #000000; font-weight: bold\">({})</span><span style=\"color: #000000; text-decoration-color: #000000\">,</span><span style=\"color: #808000; text-decoration-color: #808000\">kw_only</span><span style=\"color: #000000; text-decoration-color: #000000\">=</span><span style=\"color: #ff0000; text-decoration-color: #ff0000; font-style: italic\">False</span><span style=\"color: #000000; text-decoration-color: #000000\">,</span><span style=\"color: #808000; text-decoration-color: #808000\">_field_type</span><span style=\"color: #000000; text-decoration-color: #000000\">=</span><span style=\"color: #800080; text-decoration-color: #800080\">_FIELD</span><span style=\"color: #000000; text-decoration-color: #000000; font-weight: bold\">)</span><span style=\"color: #000000; text-decoration-color: #000000\">,</span>\n",
       "<span style=\"color: #000000; text-decoration-color: #000000\">    </span><span style=\"color: #800080; text-decoration-color: #800080; font-weight: bold\">Field</span><span style=\"color: #000000; text-decoration-color: #000000; font-weight: bold\">(</span><span style=\"color: #808000; text-decoration-color: #808000\">name</span><span style=\"color: #000000; text-decoration-color: #000000\">=</span><span style=\"color: #008000; text-decoration-color: #008000\">'step'</span><span style=\"color: #000000; text-decoration-color: #000000\">,</span><span style=\"color: #808000; text-decoration-color: #808000\">type</span><span style=\"color: #000000; text-decoration-color: #000000\">=</span><span style=\"color: #008000; text-decoration-color: #008000\">'int'</span><span style=\"color: #000000; text-decoration-color: #000000\">,</span><span style=\"color: #808000; text-decoration-color: #808000\">default</span><span style=\"color: #000000; text-decoration-color: #000000\">=</span><span style=\"color: #008080; text-decoration-color: #008080; font-weight: bold\">1</span><span style=\"color: #000000; text-decoration-color: #000000\">,</span><span style=\"color: #808000; text-decoration-color: #808000\">default_factory</span><span style=\"color: #000000; text-decoration-color: #000000\">=&lt;dataclasses._MISSING_TYPE object at </span>\n",
       "<span style=\"color: #008080; text-decoration-color: #008080; font-weight: bold\">0x1061a2930</span><span style=\"color: #000000; text-decoration-color: #000000\">&gt;,</span><span style=\"color: #808000; text-decoration-color: #808000\">init</span><span style=\"color: #000000; text-decoration-color: #000000\">=</span><span style=\"color: #00ff00; text-decoration-color: #00ff00; font-style: italic\">True</span><span style=\"color: #000000; text-decoration-color: #000000\">,</span><span style=\"color: #808000; text-decoration-color: #808000\">repr</span><span style=\"color: #000000; text-decoration-color: #000000\">=</span><span style=\"color: #00ff00; text-decoration-color: #00ff00; font-style: italic\">True</span><span style=\"color: #000000; text-decoration-color: #000000\">,</span><span style=\"color: #808000; text-decoration-color: #808000\">hash</span><span style=\"color: #000000; text-decoration-color: #000000\">=</span><span style=\"color: #800080; text-decoration-color: #800080; font-style: italic\">None</span><span style=\"color: #000000; text-decoration-color: #000000\">,</span><span style=\"color: #808000; text-decoration-color: #808000\">compare</span><span style=\"color: #000000; text-decoration-color: #000000\">=</span><span style=\"color: #00ff00; text-decoration-color: #00ff00; font-style: italic\">True</span><span style=\"color: #000000; text-decoration-color: #000000\">,</span><span style=\"color: #808000; text-decoration-color: #808000\">metadata</span><span style=\"color: #000000; text-decoration-color: #000000\">=</span><span style=\"color: #800080; text-decoration-color: #800080; font-weight: bold\">mappingproxy</span><span style=\"color: #000000; text-decoration-color: #000000; font-weight: bold\">({})</span><span style=\"color: #000000; text-decoration-color: #000000\">,</span><span style=\"color: #808000; text-decoration-color: #808000\">kw_only</span><span style=\"color: #000000; text-decoration-color: #000000\">=</span><span style=\"color: #ff0000; text-decoration-color: #ff0000; font-style: italic\">False</span><span style=\"color: #000000; text-decoration-color: #000000\">,</span><span style=\"color: #808000; text-decoration-color: #808000\">_field_type</span><span style=\"color: #000000; text-decoration-color: #000000\">=</span><span style=\"color: #800080; text-decoration-color: #800080\">_FIELD</span><span style=\"color: #000000; text-decoration-color: #000000; font-weight: bold\">)</span><span style=\"color: #000000; text-decoration-color: #000000\">,</span>\n",
       "<span style=\"color: #000000; text-decoration-color: #000000\">    </span><span style=\"color: #800080; text-decoration-color: #800080; font-weight: bold\">Field</span><span style=\"color: #000000; text-decoration-color: #000000; font-weight: bold\">(</span><span style=\"color: #808000; text-decoration-color: #808000\">name</span><span style=\"color: #000000; text-decoration-color: #000000\">=</span><span style=\"color: #008000; text-decoration-color: #008000\">'readout'</span><span style=\"color: #000000; text-decoration-color: #000000\">,</span><span style=\"color: #808000; text-decoration-color: #808000\">type</span><span style=\"color: #000000; text-decoration-color: #000000\">=</span><span style=\"color: #008000; text-decoration-color: #008000\">'bool'</span><span style=\"color: #000000; text-decoration-color: #000000\">,</span><span style=\"color: #808000; text-decoration-color: #808000\">default</span><span style=\"color: #000000; text-decoration-color: #000000\">=</span><span style=\"color: #00ff00; text-decoration-color: #00ff00; font-style: italic\">True</span><span style=\"color: #000000; text-decoration-color: #000000\">,</span><span style=\"color: #808000; text-decoration-color: #808000\">default_factory</span><span style=\"color: #000000; text-decoration-color: #000000\">=&lt;dataclasses._MISSING_TYPE object at </span>\n",
       "<span style=\"color: #008080; text-decoration-color: #008080; font-weight: bold\">0x1061a2930</span><span style=\"color: #000000; text-decoration-color: #000000\">&gt;,</span><span style=\"color: #808000; text-decoration-color: #808000\">init</span><span style=\"color: #000000; text-decoration-color: #000000\">=</span><span style=\"color: #00ff00; text-decoration-color: #00ff00; font-style: italic\">True</span><span style=\"color: #000000; text-decoration-color: #000000\">,</span><span style=\"color: #808000; text-decoration-color: #808000\">repr</span><span style=\"color: #000000; text-decoration-color: #000000\">=</span><span style=\"color: #00ff00; text-decoration-color: #00ff00; font-style: italic\">True</span><span style=\"color: #000000; text-decoration-color: #000000\">,</span><span style=\"color: #808000; text-decoration-color: #808000\">hash</span><span style=\"color: #000000; text-decoration-color: #000000\">=</span><span style=\"color: #800080; text-decoration-color: #800080; font-style: italic\">None</span><span style=\"color: #000000; text-decoration-color: #000000\">,</span><span style=\"color: #808000; text-decoration-color: #808000\">compare</span><span style=\"color: #000000; text-decoration-color: #000000\">=</span><span style=\"color: #00ff00; text-decoration-color: #00ff00; font-style: italic\">True</span><span style=\"color: #000000; text-decoration-color: #000000\">,</span><span style=\"color: #808000; text-decoration-color: #808000\">metadata</span><span style=\"color: #000000; text-decoration-color: #000000\">=</span><span style=\"color: #800080; text-decoration-color: #800080; font-weight: bold\">mappingproxy</span><span style=\"color: #000000; text-decoration-color: #000000; font-weight: bold\">({})</span><span style=\"color: #000000; text-decoration-color: #000000\">,</span><span style=\"color: #808000; text-decoration-color: #808000\">kw_only</span><span style=\"color: #000000; text-decoration-color: #000000\">=</span><span style=\"color: #ff0000; text-decoration-color: #ff0000; font-style: italic\">False</span><span style=\"color: #000000; text-decoration-color: #000000\">,</span><span style=\"color: #808000; text-decoration-color: #808000\">_field_type</span><span style=\"color: #000000; text-decoration-color: #000000\">=</span><span style=\"color: #800080; text-decoration-color: #800080\">_FIELD</span><span style=\"color: #000000; text-decoration-color: #000000; font-weight: bold\">)</span><span style=\"color: #000000; text-decoration-color: #000000\">,</span>\n",
       "<span style=\"color: #000000; text-decoration-color: #000000\">    </span><span style=\"color: #800080; text-decoration-color: #800080; font-weight: bold\">Field</span><span style=\"color: #000000; text-decoration-color: #000000; font-weight: bold\">(</span><span style=\"color: #808000; text-decoration-color: #808000\">name</span><span style=\"color: #000000; text-decoration-color: #000000\">=</span><span style=\"color: #008000; text-decoration-color: #008000\">'readout_format'</span><span style=\"color: #000000; text-decoration-color: #000000\">,</span><span style=\"color: #808000; text-decoration-color: #808000\">type</span><span style=\"color: #000000; text-decoration-color: #000000\">=</span><span style=\"color: #008000; text-decoration-color: #008000\">'str'</span><span style=\"color: #000000; text-decoration-color: #000000\">,</span><span style=\"color: #808000; text-decoration-color: #808000\">default</span><span style=\"color: #000000; text-decoration-color: #000000\">=</span><span style=\"color: #008000; text-decoration-color: #008000\">'d'</span><span style=\"color: #000000; text-decoration-color: #000000\">,</span><span style=\"color: #808000; text-decoration-color: #808000\">default_factory</span><span style=\"color: #000000; text-decoration-color: #000000\">=&lt;dataclasses._MISSING_TYPE object at </span>\n",
       "<span style=\"color: #008080; text-decoration-color: #008080; font-weight: bold\">0x1061a2930</span><span style=\"font-weight: bold\">&gt;</span>,<span style=\"color: #808000; text-decoration-color: #808000\">init</span>=<span style=\"color: #00ff00; text-decoration-color: #00ff00; font-style: italic\">True</span>,<span style=\"color: #808000; text-decoration-color: #808000\">repr</span>=<span style=\"color: #00ff00; text-decoration-color: #00ff00; font-style: italic\">True</span>,<span style=\"color: #808000; text-decoration-color: #808000\">hash</span>=<span style=\"color: #800080; text-decoration-color: #800080; font-style: italic\">None</span>,<span style=\"color: #808000; text-decoration-color: #808000\">compare</span>=<span style=\"color: #00ff00; text-decoration-color: #00ff00; font-style: italic\">True</span>,<span style=\"color: #808000; text-decoration-color: #808000\">metadata</span>=<span style=\"color: #800080; text-decoration-color: #800080; font-weight: bold\">mappingproxy</span><span style=\"font-weight: bold\">({})</span>,<span style=\"color: #808000; text-decoration-color: #808000\">kw_only</span>=<span style=\"color: #ff0000; text-decoration-color: #ff0000; font-style: italic\">False</span>,<span style=\"color: #808000; text-decoration-color: #808000\">_field_type</span>=<span style=\"color: #800080; text-decoration-color: #800080\">_FIELD</span><span style=\"font-weight: bold\">)</span>\n",
       "<span style=\"font-weight: bold\">)</span>\n",
       "</pre>\n"
      ],
      "text/plain": [
       "\u001b[1m(\u001b[0m\n",
       "    \u001b[1;35mField\u001b[0m\u001b[1m(\u001b[0m\u001b[33mname\u001b[0m=\u001b[32m'value'\u001b[0m,\u001b[33mtype\u001b[0m=\u001b[32m'int'\u001b[0m,\u001b[33mdefault\u001b[0m=\u001b[1;36m0\u001b[0m,\u001b[33mdefault_factory\u001b[0m=\u001b[1m<\u001b[0m\u001b[1;95mdataclasses._MISSING_TYPE\u001b[0m\u001b[39m object at \u001b[0m\n",
       "\u001b[1;36m0x1061a2930\u001b[0m\u001b[39m>,\u001b[0m\u001b[33minit\u001b[0m\u001b[39m=\u001b[0m\u001b[3;92mTrue\u001b[0m\u001b[39m,\u001b[0m\u001b[33mrepr\u001b[0m\u001b[39m=\u001b[0m\u001b[3;92mTrue\u001b[0m\u001b[39m,\u001b[0m\u001b[33mhash\u001b[0m\u001b[39m=\u001b[0m\u001b[3;35mNone\u001b[0m\u001b[39m,\u001b[0m\u001b[33mcompare\u001b[0m\u001b[39m=\u001b[0m\u001b[3;92mTrue\u001b[0m\u001b[39m,\u001b[0m\u001b[33mmetadata\u001b[0m\u001b[39m=\u001b[0m\u001b[1;35mmappingproxy\u001b[0m\u001b[1;39m(\u001b[0m\u001b[1;39m{\u001b[0m\u001b[1;39m}\u001b[0m\u001b[1;39m)\u001b[0m\u001b[39m,\u001b[0m\u001b[33mkw_only\u001b[0m\u001b[39m=\u001b[0m\u001b[3;91mFalse\u001b[0m\u001b[39m,\u001b[0m\u001b[33m_field_type\u001b[0m\u001b[39m=\u001b[0m\u001b[35m_FIELD\u001b[0m\u001b[1;39m)\u001b[0m\u001b[39m,\u001b[0m\n",
       "\u001b[39m    \u001b[0m\u001b[1;35mField\u001b[0m\u001b[1;39m(\u001b[0m\u001b[33mname\u001b[0m\u001b[39m=\u001b[0m\u001b[32m'min'\u001b[0m\u001b[39m,\u001b[0m\u001b[33mtype\u001b[0m\u001b[39m=\u001b[0m\u001b[32m'int'\u001b[0m\u001b[39m,\u001b[0m\u001b[33mdefault\u001b[0m\u001b[39m=\u001b[0m\u001b[1;36m0\u001b[0m\u001b[39m,\u001b[0m\u001b[33mdefault_factory\u001b[0m\u001b[39m=<dataclasses._MISSING_TYPE object at \u001b[0m\n",
       "\u001b[1;36m0x1061a2930\u001b[0m\u001b[39m>,\u001b[0m\u001b[33minit\u001b[0m\u001b[39m=\u001b[0m\u001b[3;92mTrue\u001b[0m\u001b[39m,\u001b[0m\u001b[33mrepr\u001b[0m\u001b[39m=\u001b[0m\u001b[3;92mTrue\u001b[0m\u001b[39m,\u001b[0m\u001b[33mhash\u001b[0m\u001b[39m=\u001b[0m\u001b[3;35mNone\u001b[0m\u001b[39m,\u001b[0m\u001b[33mcompare\u001b[0m\u001b[39m=\u001b[0m\u001b[3;92mTrue\u001b[0m\u001b[39m,\u001b[0m\u001b[33mmetadata\u001b[0m\u001b[39m=\u001b[0m\u001b[1;35mmappingproxy\u001b[0m\u001b[1;39m(\u001b[0m\u001b[1;39m{\u001b[0m\u001b[1;39m}\u001b[0m\u001b[1;39m)\u001b[0m\u001b[39m,\u001b[0m\u001b[33mkw_only\u001b[0m\u001b[39m=\u001b[0m\u001b[3;91mFalse\u001b[0m\u001b[39m,\u001b[0m\u001b[33m_field_type\u001b[0m\u001b[39m=\u001b[0m\u001b[35m_FIELD\u001b[0m\u001b[1;39m)\u001b[0m\u001b[39m,\u001b[0m\n",
       "\u001b[39m    \u001b[0m\u001b[1;35mField\u001b[0m\u001b[1;39m(\u001b[0m\u001b[33mname\u001b[0m\u001b[39m=\u001b[0m\u001b[32m'max'\u001b[0m\u001b[39m,\u001b[0m\u001b[33mtype\u001b[0m\u001b[39m=\u001b[0m\u001b[32m'int'\u001b[0m\u001b[39m,\u001b[0m\u001b[33mdefault\u001b[0m\u001b[39m=\u001b[0m\u001b[1;36m100\u001b[0m\u001b[39m,\u001b[0m\u001b[33mdefault_factory\u001b[0m\u001b[39m=<dataclasses._MISSING_TYPE object at \u001b[0m\n",
       "\u001b[1;36m0x1061a2930\u001b[0m\u001b[39m>,\u001b[0m\u001b[33minit\u001b[0m\u001b[39m=\u001b[0m\u001b[3;92mTrue\u001b[0m\u001b[39m,\u001b[0m\u001b[33mrepr\u001b[0m\u001b[39m=\u001b[0m\u001b[3;92mTrue\u001b[0m\u001b[39m,\u001b[0m\u001b[33mhash\u001b[0m\u001b[39m=\u001b[0m\u001b[3;35mNone\u001b[0m\u001b[39m,\u001b[0m\u001b[33mcompare\u001b[0m\u001b[39m=\u001b[0m\u001b[3;92mTrue\u001b[0m\u001b[39m,\u001b[0m\u001b[33mmetadata\u001b[0m\u001b[39m=\u001b[0m\u001b[1;35mmappingproxy\u001b[0m\u001b[1;39m(\u001b[0m\u001b[1;39m{\u001b[0m\u001b[1;39m}\u001b[0m\u001b[1;39m)\u001b[0m\u001b[39m,\u001b[0m\u001b[33mkw_only\u001b[0m\u001b[39m=\u001b[0m\u001b[3;91mFalse\u001b[0m\u001b[39m,\u001b[0m\u001b[33m_field_type\u001b[0m\u001b[39m=\u001b[0m\u001b[35m_FIELD\u001b[0m\u001b[1;39m)\u001b[0m\u001b[39m,\u001b[0m\n",
       "\u001b[39m    \u001b[0m\u001b[1;35mField\u001b[0m\u001b[1;39m(\u001b[0m\u001b[33mname\u001b[0m\u001b[39m=\u001b[0m\u001b[32m'step'\u001b[0m\u001b[39m,\u001b[0m\u001b[33mtype\u001b[0m\u001b[39m=\u001b[0m\u001b[32m'int'\u001b[0m\u001b[39m,\u001b[0m\u001b[33mdefault\u001b[0m\u001b[39m=\u001b[0m\u001b[1;36m1\u001b[0m\u001b[39m,\u001b[0m\u001b[33mdefault_factory\u001b[0m\u001b[39m=<dataclasses._MISSING_TYPE object at \u001b[0m\n",
       "\u001b[1;36m0x1061a2930\u001b[0m\u001b[39m>,\u001b[0m\u001b[33minit\u001b[0m\u001b[39m=\u001b[0m\u001b[3;92mTrue\u001b[0m\u001b[39m,\u001b[0m\u001b[33mrepr\u001b[0m\u001b[39m=\u001b[0m\u001b[3;92mTrue\u001b[0m\u001b[39m,\u001b[0m\u001b[33mhash\u001b[0m\u001b[39m=\u001b[0m\u001b[3;35mNone\u001b[0m\u001b[39m,\u001b[0m\u001b[33mcompare\u001b[0m\u001b[39m=\u001b[0m\u001b[3;92mTrue\u001b[0m\u001b[39m,\u001b[0m\u001b[33mmetadata\u001b[0m\u001b[39m=\u001b[0m\u001b[1;35mmappingproxy\u001b[0m\u001b[1;39m(\u001b[0m\u001b[1;39m{\u001b[0m\u001b[1;39m}\u001b[0m\u001b[1;39m)\u001b[0m\u001b[39m,\u001b[0m\u001b[33mkw_only\u001b[0m\u001b[39m=\u001b[0m\u001b[3;91mFalse\u001b[0m\u001b[39m,\u001b[0m\u001b[33m_field_type\u001b[0m\u001b[39m=\u001b[0m\u001b[35m_FIELD\u001b[0m\u001b[1;39m)\u001b[0m\u001b[39m,\u001b[0m\n",
       "\u001b[39m    \u001b[0m\u001b[1;35mField\u001b[0m\u001b[1;39m(\u001b[0m\u001b[33mname\u001b[0m\u001b[39m=\u001b[0m\u001b[32m'readout'\u001b[0m\u001b[39m,\u001b[0m\u001b[33mtype\u001b[0m\u001b[39m=\u001b[0m\u001b[32m'bool'\u001b[0m\u001b[39m,\u001b[0m\u001b[33mdefault\u001b[0m\u001b[39m=\u001b[0m\u001b[3;92mTrue\u001b[0m\u001b[39m,\u001b[0m\u001b[33mdefault_factory\u001b[0m\u001b[39m=<dataclasses._MISSING_TYPE object at \u001b[0m\n",
       "\u001b[1;36m0x1061a2930\u001b[0m\u001b[39m>,\u001b[0m\u001b[33minit\u001b[0m\u001b[39m=\u001b[0m\u001b[3;92mTrue\u001b[0m\u001b[39m,\u001b[0m\u001b[33mrepr\u001b[0m\u001b[39m=\u001b[0m\u001b[3;92mTrue\u001b[0m\u001b[39m,\u001b[0m\u001b[33mhash\u001b[0m\u001b[39m=\u001b[0m\u001b[3;35mNone\u001b[0m\u001b[39m,\u001b[0m\u001b[33mcompare\u001b[0m\u001b[39m=\u001b[0m\u001b[3;92mTrue\u001b[0m\u001b[39m,\u001b[0m\u001b[33mmetadata\u001b[0m\u001b[39m=\u001b[0m\u001b[1;35mmappingproxy\u001b[0m\u001b[1;39m(\u001b[0m\u001b[1;39m{\u001b[0m\u001b[1;39m}\u001b[0m\u001b[1;39m)\u001b[0m\u001b[39m,\u001b[0m\u001b[33mkw_only\u001b[0m\u001b[39m=\u001b[0m\u001b[3;91mFalse\u001b[0m\u001b[39m,\u001b[0m\u001b[33m_field_type\u001b[0m\u001b[39m=\u001b[0m\u001b[35m_FIELD\u001b[0m\u001b[1;39m)\u001b[0m\u001b[39m,\u001b[0m\n",
       "\u001b[39m    \u001b[0m\u001b[1;35mField\u001b[0m\u001b[1;39m(\u001b[0m\u001b[33mname\u001b[0m\u001b[39m=\u001b[0m\u001b[32m'readout_format'\u001b[0m\u001b[39m,\u001b[0m\u001b[33mtype\u001b[0m\u001b[39m=\u001b[0m\u001b[32m'str'\u001b[0m\u001b[39m,\u001b[0m\u001b[33mdefault\u001b[0m\u001b[39m=\u001b[0m\u001b[32m'd'\u001b[0m\u001b[39m,\u001b[0m\u001b[33mdefault_factory\u001b[0m\u001b[39m=<dataclasses._MISSING_TYPE object at \u001b[0m\n",
       "\u001b[1;36m0x1061a2930\u001b[0m\u001b[1m>\u001b[0m,\u001b[33minit\u001b[0m=\u001b[3;92mTrue\u001b[0m,\u001b[33mrepr\u001b[0m=\u001b[3;92mTrue\u001b[0m,\u001b[33mhash\u001b[0m=\u001b[3;35mNone\u001b[0m,\u001b[33mcompare\u001b[0m=\u001b[3;92mTrue\u001b[0m,\u001b[33mmetadata\u001b[0m=\u001b[1;35mmappingproxy\u001b[0m\u001b[1m(\u001b[0m\u001b[1m{\u001b[0m\u001b[1m}\u001b[0m\u001b[1m)\u001b[0m,\u001b[33mkw_only\u001b[0m=\u001b[3;91mFalse\u001b[0m,\u001b[33m_field_type\u001b[0m=\u001b[35m_FIELD\u001b[0m\u001b[1m)\u001b[0m\n",
       "\u001b[1m)\u001b[0m\n"
      ]
     },
     "metadata": {},
     "output_type": "display_data"
    }
   ],
   "source": [
    "cprint(dataclasses.fields(IntSlider))"
   ]
  },
  {
   "cell_type": "code",
   "execution_count": null,
   "metadata": {},
   "outputs": [
    {
     "data": {
      "text/markdown": [
       "```html\n",
       "<div id=\"IntSlider_5\" class=\"widget value inttext boundedint slider\">\n",
       "<label for=\"value\">Scale</label>\n",
       "  <input name=\"value\" type=\"range\" hx-post=\"/IntSlider_5/value\" hx-trigger=\"input changed throttle:100ms\" hx-swap=\"textContent\" max=\"100\" step=\"1\" hx-target=\"next text\">\n",
       "<text id=\"spanscale\" style=\"inline\">0</text>\n",
       "</div>\n",
       "\n",
       "```"
      ],
      "text/plain": [
       "div((label(('Scale',),{'for': 'value'}), '\\n', input((),{'name': 'value', 'value': 0, 'type': 'range', 'hx-post': '/IntSlider_5/value', 'hx-trigger': 'input changed throttle:100ms', 'hx-swap': 'textContent', 'min': 0, 'max': 100, 'step': 1, 'hx-target': 'next text'}), text((0,),{'id': 'spanscale', 'style': 'inline'}), '\\n'),{'id': 'IntSlider_5', 'class': 'widget value inttext boundedint slider'})"
      ]
     },
     "metadata": {},
     "output_type": "display_data"
    },
    {
     "data": {
      "text/html": [
       "<div id=\"IntSlider_5\" class=\"widget value inttext boundedint slider\">\n",
       "<label for=\"value\">Scale</label>\n",
       "  <input name=\"value\" type=\"range\" hx-post=\"/IntSlider_5/value\" hx-trigger=\"input changed throttle:100ms\" hx-swap=\"textContent\" max=\"100\" step=\"1\" hx-target=\"next text\">\n",
       "<text id=\"spanscale\" style=\"inline\">0</text>\n",
       "</div>\n"
      ],
      "text/plain": [
       "<IPython.core.display.HTML object>"
      ]
     },
     "metadata": {},
     "output_type": "display_data"
    }
   ],
   "source": [
    "iv = IntSlider()\n",
    "with bridge_cfg(auto_show=False):\n",
    "    display(iv.__ft__())\n",
    "iv\n"
   ]
  },
  {
   "cell_type": "code",
   "execution_count": null,
   "metadata": {},
   "outputs": [
    {
     "data": {
      "text/plain": [
       "0"
      ]
     },
     "execution_count": null,
     "metadata": {},
     "output_type": "execute_result"
    }
   ],
   "source": [
    "iv.value"
   ]
  },
  {
   "cell_type": "code",
   "execution_count": null,
   "metadata": {},
   "outputs": [],
   "source": [
    "iv.value = 89"
   ]
  },
  {
   "cell_type": "code",
   "execution_count": null,
   "metadata": {},
   "outputs": [],
   "source": [
    "iv.min = 20\n",
    "test_eq(iv.value, 89)"
   ]
  },
  {
   "cell_type": "code",
   "execution_count": null,
   "metadata": {},
   "outputs": [],
   "source": [
    "iv.max = 80\n",
    "test_eq(iv.value, 80)"
   ]
  },
  {
   "cell_type": "code",
   "execution_count": null,
   "metadata": {},
   "outputs": [
    {
     "data": {
      "text/html": [
       "<div id=\"IntSlider_6\" class=\"widget value inttext boundedint slider\">\n",
       "<label for=\"value\">Scale</label>\n",
       "  <input name=\"value\" type=\"range\" hx-post=\"/IntSlider_6/value\" hx-trigger=\"input changed throttle:100ms\" hx-swap=\"textContent\" max=\"100\" step=\"2\" hx-target=\"next text\">\n",
       "<text id=\"spanscale\" style=\"inline\">0</text>\n",
       "</div>\n"
      ],
      "text/plain": [
       "<IPython.core.display.HTML object>"
      ]
     },
     "metadata": {},
     "output_type": "display_data"
    }
   ],
   "source": [
    "iv2 = IntSlider(step=2)\n",
    "iv2"
   ]
  },
  {
   "cell_type": "markdown",
   "metadata": {},
   "source": [
    "## IntProgress"
   ]
  },
  {
   "cell_type": "code",
   "execution_count": null,
   "metadata": {},
   "outputs": [
    {
     "data": {
      "application/vnd.jupyter.widget-view+json": {
       "model_id": "6a4c247dbbbf429fbbf60382e511f875",
       "version_major": 2,
       "version_minor": 0
      },
      "text/plain": [
       "IntProgress(value=0)"
      ]
     },
     "execution_count": null,
     "metadata": {},
     "output_type": "execute_result"
    }
   ],
   "source": [
    "w = W.IntProgress()\n",
    "w"
   ]
  },
  {
   "cell_type": "code",
   "execution_count": null,
   "metadata": {},
   "outputs": [],
   "source": [
    "w.value = 50"
   ]
  },
  {
   "cell_type": "code",
   "execution_count": null,
   "metadata": {},
   "outputs": [
    {
     "data": {
      "text/html": [
       "<div>\n",
       "IntProgress style  <style>\n",
       ".inline-hbox {\n",
       "    box-sizing: border-box;\n",
       "    display: flex;\n",
       "    flex-direction: row;\n",
       "    align-items: baseline;\n",
       "}\n",
       ".hprogress {\n",
       "    height: 28px;\n",
       "    height: var(--jp-widgets-inline-height);\n",
       "    line-height: 28px;\n",
       "    line-height: var(--jp-widgets-inline-height);\n",
       "    width: 300px;\n",
       "    width: var(--jp-widgets-inline-width);\n",
       "    align-items: center;\n",
       "}\n",
       "\n",
       ".hprogress .progress {\n",
       "    flex-grow: 1;\n",
       "    margin-top: 4px;\n",
       "    margin-top: var(--jp-widgets-input-padding);\n",
       "    margin-bottom: 4px;\n",
       "    margin-bottom: var(--jp-widgets-input-padding);\n",
       "    align-self: stretch;\n",
       "    height: auto;\n",
       "    height: initial;\n",
       "}\n",
       "\n",
       ".progress {\n",
       "    background-color: #eeeeee;\n",
       "    background-color: var(--jp-layout-color2);\n",
       "    border: none;\n",
       "    box-shadow: none;\n",
       "}\n",
       "\n",
       ".progress-bar {\n",
       "    background-color: #2196f3;\n",
       "    background-color: var(--jp-brand-color1);\n",
       "    position: absolute; \n",
       "    bottom: 0px; \n",
       "    left: 0px; \n",
       "    width: 0%; \n",
       "    height: 100%;\n",
       "}\n",
       "</style>\n",
       "</div>\n"
      ],
      "text/plain": [
       "div(('IntProgress style', style(('\\n.inline-hbox {\\n    box-sizing: border-box;\\n    display: flex;\\n    flex-direction: row;\\n    align-items: baseline;\\n}\\n.hprogress {\\n    height: 28px;\\n    height: var(--jp-widgets-inline-height);\\n    line-height: 28px;\\n    line-height: var(--jp-widgets-inline-height);\\n    width: 300px;\\n    width: var(--jp-widgets-inline-width);\\n    align-items: center;\\n}\\n\\n.hprogress .progress {\\n    flex-grow: 1;\\n    margin-top: 4px;\\n    margin-top: var(--jp-widgets-input-padding);\\n    margin-bottom: 4px;\\n    margin-bottom: var(--jp-widgets-input-padding);\\n    align-self: stretch;\\n    height: auto;\\n    height: initial;\\n}\\n\\n.progress {\\n    background-color: #eeeeee;\\n    background-color: var(--jp-layout-color2);\\n    border: none;\\n    box-shadow: none;\\n}\\n\\n.progress-bar {\\n    background-color: #2196f3;\\n    background-color: var(--jp-brand-color1);\\n    position: absolute; \\n    bottom: 0px; \\n    left: 0px; \\n    width: 0%; \\n    height: 100%;\\n}\\n',),{})),{})"
      ]
     },
     "metadata": {},
     "output_type": "display_data"
    }
   ],
   "source": [
    "from bridget.bridget import Style\n",
    "from fastcore.xml import NotStr\n",
    "\n",
    "_css_ = \"\"\"\n",
    ".inline-hbox {\n",
    "    box-sizing: border-box;\n",
    "    display: flex;\n",
    "    flex-direction: row;\n",
    "    align-items: baseline;\n",
    "}\n",
    ".hprogress {\n",
    "    height: 28px;\n",
    "    height: var(--jp-widgets-inline-height);\n",
    "    line-height: 28px;\n",
    "    line-height: var(--jp-widgets-inline-height);\n",
    "    width: 300px;\n",
    "    width: var(--jp-widgets-inline-width);\n",
    "    align-items: center;\n",
    "}\n",
    "\n",
    ".hprogress .progress {\n",
    "    flex-grow: 1;\n",
    "    margin-top: 4px;\n",
    "    margin-top: var(--jp-widgets-input-padding);\n",
    "    margin-bottom: 4px;\n",
    "    margin-bottom: var(--jp-widgets-input-padding);\n",
    "    align-self: stretch;\n",
    "    height: auto;\n",
    "    height: initial;\n",
    "}\n",
    "\n",
    ".progress {\n",
    "    background-color: #eeeeee;\n",
    "    background-color: var(--jp-layout-color2);\n",
    "    border: none;\n",
    "    box-shadow: none;\n",
    "}\n",
    "\n",
    ".progress-bar {\n",
    "    background-color: #2196f3;\n",
    "    background-color: var(--jp-brand-color1);\n",
    "    position: absolute; \n",
    "    bottom: 0px; \n",
    "    left: 0px; \n",
    "    width: 0%; \n",
    "    height: 100%;\n",
    "}\n",
    "\"\"\"\n",
    "# with bridge_cfg(auto_show=False): \n",
    "#     display(Style(NotStr(_css_)))\n",
    "Div('IntProgress style', Style(NotStr(_css_)))\n"
   ]
  },
  {
   "cell_type": "code",
   "execution_count": null,
   "metadata": {},
   "outputs": [],
   "source": [
    "class IntProgress(BoundedInt):\n",
    "    def setup_value(self):\n",
    "        return Div(cls='hprogress inline-hbox')(\n",
    "            Div(cls='progress', style='position: relative;')(\n",
    "                Div(cls='progress-bar', style=f\"width: {(self.value-self.min)/(self.max-self.min)*100}%;\")\n",
    "            )\n",
    "        )\n"
   ]
  },
  {
   "cell_type": "code",
   "execution_count": null,
   "metadata": {},
   "outputs": [
    {
     "data": {
      "text/markdown": [
       "```html\n",
       "<div id=\"IntProgress_1\" class=\"widget value inttext boundedint intprogress\">\n",
       "  <div class=\"hprogress inline-hbox\">\n",
       "    <div class=\"progress\" style=\"position: relative;\">\n",
       "      <div class=\"progress-bar\" style=\"width: 25.0%;\"></div>\n",
       "    </div>\n",
       "  </div>\n",
       "</div>\n",
       "\n",
       "```"
      ],
      "text/plain": [
       "div((div((div((div((),{'class': 'progress-bar', 'style': 'width: 25.0%;'}),),{'class': 'progress', 'style': 'position: relative;'}),),{'class': 'hprogress inline-hbox'}),),{'id': 'IntProgress_1', 'class': 'widget value inttext boundedint intprogress'})"
      ]
     },
     "metadata": {},
     "output_type": "display_data"
    },
    {
     "data": {
      "text/html": [
       "<div id=\"IntProgress_1\" class=\"widget value inttext boundedint intprogress\">\n",
       "  <div class=\"hprogress inline-hbox\">\n",
       "    <div class=\"progress\" style=\"position: relative;\">\n",
       "      <div class=\"progress-bar\" style=\"width: 25.0%;\"></div>\n",
       "    </div>\n",
       "  </div>\n",
       "</div>\n"
      ],
      "text/plain": [
       "<IPython.core.display.HTML object>"
      ]
     },
     "metadata": {},
     "output_type": "display_data"
    }
   ],
   "source": [
    "ip = IntProgress(25)\n",
    "with bridge_cfg(auto_show=False):\n",
    "    display(ip.__ft__())\n",
    "ip\n"
   ]
  },
  {
   "cell_type": "code",
   "execution_count": null,
   "metadata": {},
   "outputs": [],
   "source": [
    "ip.value = 33"
   ]
  },
  {
   "cell_type": "markdown",
   "metadata": {},
   "source": [
    "## Bool"
   ]
  },
  {
   "cell_type": "markdown",
   "metadata": {},
   "source": [
    "```HTML\n",
    "<div class=\"lm-Widget p-Widget jupyter-widgets widget-valid widget-inline-hbox mod-invalid\"><label class=\"widget-label\" title=\"null\" style=\"display: none;\"></label><i class=\"fa fa-fw fa-times\"></i><span class=\"widget-valid-readout widget-readout\">Invalid</span></div>\n",
    "```"
   ]
  },
  {
   "cell_type": "code",
   "execution_count": null,
   "metadata": {},
   "outputs": [
    {
     "data": {
      "application/vnd.jupyter.widget-view+json": {
       "model_id": "80b65e40d2304809b6814c7f15864220",
       "version_major": 2,
       "version_minor": 0
      },
      "text/plain": [
       "Valid(value=False)"
      ]
     },
     "execution_count": null,
     "metadata": {},
     "output_type": "execute_result"
    }
   ],
   "source": [
    "w = W.Valid()\n",
    "w\n"
   ]
  },
  {
   "cell_type": "code",
   "execution_count": null,
   "metadata": {},
   "outputs": [
    {
     "data": {
      "application/vnd.jupyter.widget-view+json": {
       "model_id": "af9301d4f7b44cc68f4afdfac76cd1af",
       "version_major": 2,
       "version_minor": 0
      },
      "text/plain": [
       "Checkbox(value=False)"
      ]
     },
     "execution_count": null,
     "metadata": {},
     "output_type": "execute_result"
    }
   ],
   "source": [
    "w = W.Checkbox()\n",
    "w\n"
   ]
  },
  {
   "cell_type": "code",
   "execution_count": null,
   "metadata": {},
   "outputs": [
    {
     "data": {
      "application/vnd.jupyter.widget-view+json": {
       "model_id": "fa93aeaced094487b35c646ccfdfd11e",
       "version_major": 2,
       "version_minor": 0
      },
      "text/plain": [
       "ToggleButton(value=False)"
      ]
     },
     "execution_count": null,
     "metadata": {},
     "output_type": "execute_result"
    }
   ],
   "source": [
    "w = W.ToggleButton()\n",
    "w\n"
   ]
  },
  {
   "cell_type": "code",
   "execution_count": null,
   "metadata": {},
   "outputs": [],
   "source": [
    "class Valid(Value):\n",
    "    value: bool = False\n",
    "    readout: str = 'Invalid'\n",
    "    def setup_value(self):\n",
    "        return Div(cls='valid inline-hbox mod-invalid')(\n",
    "            I(cls='fa fa-fw fa-times'),\n",
    "            Text(cls='readout')(self.readout)\n",
    "        )\n"
   ]
  },
  {
   "cell_type": "code",
   "execution_count": null,
   "metadata": {},
   "outputs": [],
   "source": [
    "class Checkbox(Valid):\n",
    "    pass\n"
   ]
  },
  {
   "cell_type": "code",
   "execution_count": null,
   "metadata": {},
   "outputs": [],
   "source": [
    "class ToggleButton(Valid):\n",
    "    pass\n"
   ]
  },
  {
   "cell_type": "markdown",
   "metadata": {},
   "source": [
    "## Link\n",
    "> implement a link functionality similar to `Traitlets`' `link` and `directional_link` using `Psygnal`'s signal system. \n",
    "\n",
    "The key differences are:\n",
    "- Traitlets uses traits/attributes while Psygnal uses signals\n",
    "- Psygnal has built-in type checking and argument validation\n",
    "\n",
    "We'll need to handle cleanup/disconnection properly"
   ]
  },
  {
   "cell_type": "code",
   "execution_count": null,
   "metadata": {},
   "outputs": [],
   "source": [
    "class Link:\n",
    "    \"Links two attributes of objects with two signals to keep them in sync bidirectionally.\"\n",
    "    \n",
    "    def __init__(\n",
    "        self,\n",
    "        source: tuple[Any, str] | tuple[Any, str, str] | psygnal.SignalInstance,\n",
    "        target: tuple[Any, str] | tuple[Any, str, str] | psygnal.SignalInstance, \n",
    "        transform: tuple[Callable, Callable]|None = None\n",
    "    ):\n",
    "        self._setup(source, target, transform)\n",
    "        self.updating = False\n",
    "        self._link()\n",
    "    \n",
    "    def _setup(self, source, target, transform):\n",
    "        if isinstance(source, psygnal.SignalInstance):\n",
    "            self._src, self._src_name = source.instance.all.instance, source.name\n",
    "            self._src_signal = source\n",
    "        else:\n",
    "            self._src, self._src_name = source[:2]\n",
    "            self._src_signal = getattr(self._src, source[2] if len(source) == 3 else f\"{self._src_name}_changed\")\n",
    "        if isinstance(target, psygnal.SignalInstance):\n",
    "            self._tgt, self._tgt_name = target.instance.all.instance, target.name\n",
    "            self._tgt_signal = target\n",
    "        else:\n",
    "            self._tgt, self._tgt_name = target[:2]\n",
    "            self._tgt_signal = getattr(self._tgt, target[2] if len(target) == 3 else f\"{self._tgt_name}_changed\")\n",
    "        self._transform = transform or (lambda x: x, lambda x: x)\n",
    "\n",
    "    @contextmanager\n",
    "    def _busy_updating(self):\n",
    "        self.updating = True\n",
    "        try: yield\n",
    "        finally: self.updating = False\n",
    "            \n",
    "    def _link(self):\n",
    "        \"\"\"Establish bidirectional connection between signals.\"\"\"\n",
    "        self._src_signal.connect(self._source_to_target)\n",
    "        self._tgt_signal.connect(self._target_to_source)\n",
    "                    \n",
    "    def _source_to_target(self, x):\n",
    "        if self.updating: return\n",
    "        with self._busy_updating():\n",
    "            setattr(self._tgt, self._tgt_name, self._transform[0](x))\n",
    "    \n",
    "    def _target_to_source(self, x):\n",
    "        if self.updating: return\n",
    "        with self._busy_updating():\n",
    "            setattr(self._src, self._src_name, self._transform[1](x))\n",
    "    \n",
    "    def unlink(self):\n",
    "        self._src_signal.disconnect()\n",
    "        self._tgt_signal.disconnect()\n",
    "\n",
    "\n",
    "class DirectionalLink:\n",
    "    \"\"\"Links source signal to target signal unidirectionally.\"\"\"\n",
    "    \n",
    "    def __init__(\n",
    "        self,\n",
    "        source: tuple[Any, str] | tuple[Any, str, str] | psygnal.SignalInstance,\n",
    "        target: tuple[Any, str], \n",
    "        transform: Callable|None = None \n",
    "    ):\n",
    "        self._setup(source, target, transform)\n",
    "        self.updating = False\n",
    "        self._link()\n",
    "\n",
    "    def _setup(self, source, target, transform):\n",
    "        if isinstance(source, psygnal.SignalInstance):\n",
    "            self._src, self._src_name = source.instance, source.name\n",
    "            self._src_signal = source\n",
    "        else:\n",
    "            self._src, self._src_name = source[:2]\n",
    "            self._src_signal = getattr(self._src, source[2] if len(source) == 3 else f\"{self._src_name}_changed\")\n",
    "        self._tgt, self._tgt_name = target[:2]\n",
    "        self._transform = transform or (lambda x: x)\n",
    "\n",
    "    @contextmanager\n",
    "    def _busy_updating(self):\n",
    "        self.updating = True\n",
    "        try: yield\n",
    "        finally: self.updating = False\n",
    "            \n",
    "    def _link(self):\n",
    "        \"\"\"Establish unidirectional connection from source to target.\"\"\"\n",
    "        self._src_signal.connect(self._source_to_target)\n",
    "        \n",
    "    def _source_to_target(self, x):\n",
    "        if self.updating: return\n",
    "        with self._busy_updating():\n",
    "            setattr(self._tgt, self._tgt_name, self._transform(x))\n",
    "                    \n",
    "    def unlink(self):\n",
    "        self._src_signal.disconnect()\n",
    "\n"
   ]
  },
  {
   "cell_type": "code",
   "execution_count": null,
   "metadata": {},
   "outputs": [],
   "source": [
    "class ValueHolder:\n",
    "    value_changed = Signal(int)  # Signal that emits integers\n",
    "    \n",
    "    def __init__(self, value: int = 0):\n",
    "        self._value = value\n",
    "        \n",
    "    @property \n",
    "    def value(self) -> int:\n",
    "        return self._value\n",
    "        \n",
    "    @value.setter\n",
    "    def value(self, val: int):\n",
    "        if val != self._value:\n",
    "            self._value = val\n",
    "            self.value_changed.emit(val)\n",
    "\n",
    "# Create instances\n",
    "source = ValueHolder(1)\n",
    "target = ValueHolder(42)\n",
    "\n",
    "# Create bidirectional link\n",
    "link = Link((source, \"value\"), (target, \"value\"))\n",
    "\n",
    "source.value = 5\n",
    "test_eq(target.value, 5)\n",
    "target.value = 10\n",
    "test_eq(source.value, 10)\n"
   ]
  },
  {
   "cell_type": "code",
   "execution_count": null,
   "metadata": {},
   "outputs": [],
   "source": [
    "def celsius_to_fahrenheit(c: float) -> float:\n",
    "    return (c * 9/5) + 32\n",
    "\n",
    "temp_c = ValueHolder(0)\n",
    "temp_f = ValueHolder(32)\n",
    "\n",
    "# Link Celsius to Fahrenheit with transform\n",
    "dir_link = DirectionalLink(\n",
    "    (temp_c, \"value\"),\n",
    "    (temp_f, \"value\"), \n",
    "    transform=celsius_to_fahrenheit\n",
    ")\n",
    "\n",
    "temp_c.value = 100\n",
    "test_eq(temp_f.value, 212)\n",
    "temp_f.value = 50\n",
    "test_eq(temp_c.value, 100)\n"
   ]
  },
  {
   "cell_type": "code",
   "execution_count": null,
   "metadata": {},
   "outputs": [
    {
     "data": {
      "text/html": [
       "<div style=\"display: flex; gap: 1em;\">\n",
       "  <div id=\"IntSlider_7\" class=\"widget value inttext boundedint slider\">\n",
       "<label for=\"value\">Scale</label>\n",
       "    <input name=\"value\" value=\"7\" type=\"range\" hx-post=\"/IntSlider_7/value\" hx-trigger=\"input changed throttle:100ms\" hx-swap=\"textContent\" max=\"100\" step=\"1\" hx-target=\"next text\">\n",
       "<text id=\"spanscale\" style=\"inline\">7</text>\n",
       "  </div>\n",
       "  <div id=\"IntSlider_8\" class=\"widget value inttext boundedint slider\">\n",
       "<label for=\"value\">Scale</label>\n",
       "    <input name=\"value\" value=\"17\" type=\"range\" hx-post=\"/IntSlider_8/value\" hx-trigger=\"input changed throttle:100ms\" hx-swap=\"textContent\" max=\"100\" step=\"1\" hx-target=\"next text\">\n",
       "<text id=\"spanscale\" style=\"inline\">17</text>\n",
       "  </div>\n",
       "</div>\n"
      ],
      "text/plain": [
       "div((IntSlider(value=7, min=0, max=100, step=1, readout=True, readout_format='d'), IntSlider(value=17, min=0, max=100, step=1, readout=True, readout_format='d')),{'style': 'display: flex; gap: 1em;'})"
      ]
     },
     "metadata": {},
     "output_type": "display_data"
    }
   ],
   "source": [
    "iv3 = IntSlider(7)\n",
    "iv4 = IntSlider(17)\n",
    "\n",
    "box = Div(style='display: flex; gap: 1em;')(iv3, iv4)\n",
    "box\n"
   ]
  },
  {
   "cell_type": "code",
   "execution_count": null,
   "metadata": {},
   "outputs": [],
   "source": [
    "lnk = Link(iv3.events.value, iv4.events.value);\n"
   ]
  },
  {
   "cell_type": "code",
   "execution_count": null,
   "metadata": {},
   "outputs": [],
   "source": [
    "iv3.value = 22\n",
    "test_eq(iv4.value, 22)\n"
   ]
  },
  {
   "cell_type": "markdown",
   "metadata": {},
   "source": [
    "## Box"
   ]
  },
  {
   "cell_type": "code",
   "execution_count": null,
   "metadata": {},
   "outputs": [
    {
     "data": {
      "text/plain": [
       "168"
      ]
     },
     "execution_count": null,
     "metadata": {},
     "output_type": "execute_result"
    }
   ],
   "source": [
    "primes = list(map(int, \"\"\"\n",
    "2\t3\t5\t7\t11\t13\t17\t19\t23\t29\t31\t37\t41\t43\t47\t53\t59\t61\t67\t71\n",
    "73\t79\t83\t89\t97\t101\t103\t107\t109\t113\t127\t131\t137\t139\t149\t151\t157\t163\t167\t173\n",
    "179\t181\t191\t193\t197\t199\t211\t223\t227\t229\t233\t239\t241\t251\t257\t263\t269\t271\t277\t281\n",
    "283\t293\t307\t311\t313\t317\t331\t337\t347\t349\t353\t359\t367\t373\t379\t383\t389\t397\t401\t409\n",
    "419\t421\t431\t433\t439\t443\t449\t457\t461\t463\t467\t479\t487\t491\t499\t503\t509\t521\t523\t541\n",
    "547\t557\t563\t569\t571\t577\t587\t593\t599\t601\t607\t613\t617\t619\t631\t641\t643\t647\t653\t659\n",
    "661\t673\t677\t683\t691\t701\t709\t719\t727\t733\t739\t743\t751\t757\t761\t769\t773\t787\t797\t809\n",
    "811\t821\t823\t827\t829\t839\t853\t857\t859\t863\t877\t881\t883\t887\t907\t911\t919\t929\t937\t941\n",
    "947\t953\t967\t971\t977\t983\t991\t997\"\"\".split()))\n",
    "len(primes)"
   ]
  },
  {
   "cell_type": "code",
   "execution_count": null,
   "metadata": {},
   "outputs": [
    {
     "data": {
      "text/markdown": [
       "```html\n",
       "<div id=\"Box_1\" class=\"widget box\" style=\"display: flex; gap: 1em;\">\n",
       "  <div id=\"IntSlider_9\" class=\"widget value inttext boundedint slider\">\n",
       "<label for=\"value\">Scale</label>\n",
       "    <input name=\"value\" value=\"23\" type=\"range\" hx-post=\"/IntSlider_9/value\" hx-trigger=\"input changed throttle:100ms\" hx-swap=\"textContent\" max=\"100\" step=\"1\" hx-target=\"next text\">\n",
       "<text id=\"spanscale\" style=\"inline\">23</text>\n",
       "  </div>\n",
       "  <div id=\"IntSlider_10\" class=\"widget value inttext boundedint slider\">\n",
       "<label for=\"value\">Scale</label>\n",
       "    <input name=\"value\" value=\"59\" type=\"range\" hx-post=\"/IntSlider_10/value\" hx-trigger=\"input changed throttle:100ms\" hx-swap=\"textContent\" max=\"100\" step=\"1\" hx-target=\"next text\">\n",
       "<text id=\"spanscale\" style=\"inline\">59</text>\n",
       "  </div>\n",
       "</div>\n",
       "\n",
       "```"
      ],
      "text/plain": [
       "div((div((label(('Scale',),{'for': 'value'}), '\\n', input((),{'name': 'value', 'value': 23, 'type': 'range', 'hx-post': '/IntSlider_9/value', 'hx-trigger': 'input changed throttle:100ms', 'hx-swap': 'textContent', 'min': 0, 'max': 100, 'step': 1, 'hx-target': 'next text'}), text((23,),{'id': 'spanscale', 'style': 'inline'}), '\\n'),{'id': 'IntSlider_9', 'class': 'widget value inttext boundedint slider'}), div((label(('Scale',),{'for': 'value'}), '\\n', input((),{'name': 'value', 'value': 59, 'type': 'range', 'hx-post': '/IntSlider_10/value', 'hx-trigger': 'input changed throttle:100ms', 'hx-swap': 'textContent', 'min': 0, 'max': 100, 'step': 1, 'hx-target': 'next text'}), text((59,),{'id': 'spanscale', 'style': 'inline'}), '\\n'),{'id': 'IntSlider_10', 'class': 'widget value inttext boundedint slider'})),{'id': 'Box_1', 'class': 'widget box', 'style': 'display: flex; gap: 1em;'})"
      ]
     },
     "metadata": {},
     "output_type": "display_data"
    },
    {
     "data": {
      "text/html": [
       "<div id=\"Box_1\" class=\"widget box\" style=\"display: flex; gap: 1em;\">\n",
       "  <div id=\"IntSlider_9\" class=\"widget value inttext boundedint slider\">\n",
       "<label for=\"value\">Scale</label>\n",
       "    <input name=\"value\" value=\"23\" type=\"range\" hx-post=\"/IntSlider_9/value\" hx-trigger=\"input changed throttle:100ms\" hx-swap=\"textContent\" max=\"100\" step=\"1\" hx-target=\"next text\">\n",
       "<text id=\"spanscale\" style=\"inline\">23</text>\n",
       "  </div>\n",
       "  <div id=\"IntSlider_10\" class=\"widget value inttext boundedint slider\">\n",
       "<label for=\"value\">Scale</label>\n",
       "    <input name=\"value\" value=\"59\" type=\"range\" hx-post=\"/IntSlider_10/value\" hx-trigger=\"input changed throttle:100ms\" hx-swap=\"textContent\" max=\"100\" step=\"1\" hx-target=\"next text\">\n",
       "<text id=\"spanscale\" style=\"inline\">59</text>\n",
       "  </div>\n",
       "</div>\n"
      ],
      "text/plain": [
       "<IPython.core.display.HTML object>"
      ]
     },
     "metadata": {},
     "output_type": "display_data"
    }
   ],
   "source": [
    "@dataclass\n",
    "class Box(Widget):\n",
    "    children: tuple[Widget, ...] = ()\n",
    "\n",
    "    def __ft__(self):\n",
    "        return super().__ft__()(style='display: flex; gap: 1em;')(*(c.__ft__() for c in self.children))\n",
    "\n",
    "bx = Box((IntSlider(23), IntSlider(59)))\n",
    "with bridge_cfg(auto_show=False):\n",
    "    display(bx.__ft__())\n",
    "bx\n"
   ]
  },
  {
   "cell_type": "code",
   "execution_count": null,
   "metadata": {},
   "outputs": [],
   "source": [
    "bx.children = (IntSlider(19), IntSlider(31), IntSlider(71))"
   ]
  },
  {
   "cell_type": "markdown",
   "metadata": {},
   "source": [
    "## interactive_output\n"
   ]
  },
  {
   "cell_type": "code",
   "execution_count": null,
   "metadata": {},
   "outputs": [],
   "source": [
    "def interactive_output(f, controls):\n",
    "    \"\"\"Connect widget controls to a function.\n",
    "\n",
    "    This function does not generate a user interface for the widgets (unlike `interact`).\n",
    "    This enables customisation of the widget user interface layout.\n",
    "    The user interface layout must be defined and displayed manually.\n",
    "    \"\"\"\n",
    "\n",
    "    out = Output()\n",
    "    def observer(change):\n",
    "        kwargs = {k:v.value for k,v in controls.items()}\n",
    "        show_inline_matplotlib_plots()\n",
    "        with out:\n",
    "            clear_output(wait=True)\n",
    "            f(**kwargs)\n",
    "            show_inline_matplotlib_plots()\n",
    "    for k,w in controls.items():\n",
    "        w.observe(observer, 'value')\n",
    "    show_inline_matplotlib_plots()\n",
    "    observer(None)\n",
    "    return out\n"
   ]
  },
  {
   "cell_type": "code",
   "execution_count": null,
   "metadata": {},
   "outputs": [
    {
     "data": {
      "application/vnd.jupyter.widget-view+json": {
       "model_id": "5385dec3ea2f40f6891123d760d08eaf",
       "version_major": 2,
       "version_minor": 0
      },
      "text/plain": [
       "HBox(children=(IntSlider(value=0), IntSlider(value=0), IntSlider(value=0)))"
      ]
     },
     "metadata": {},
     "output_type": "display_data"
    },
    {
     "data": {
      "application/vnd.jupyter.widget-view+json": {
       "model_id": "cdd72a8d20094230862b9db623e657af",
       "version_major": 2,
       "version_minor": 0
      },
      "text/plain": [
       "Output()"
      ]
     },
     "metadata": {},
     "output_type": "display_data"
    }
   ],
   "source": [
    "a = W.IntSlider()\n",
    "b = W.IntSlider()\n",
    "c = W.IntSlider()\n",
    "ui = W.HBox([a, b, c])\n",
    "def f(a, b, c):\n",
    "    print((a, b, c))\n",
    "\n",
    "out = W.interactive_output(f, {'a': a, 'b': b, 'c': c})\n",
    "\n",
    "display(ui, out)"
   ]
  },
  {
   "cell_type": "markdown",
   "metadata": {},
   "source": [
    "## interactive"
   ]
  },
  {
   "cell_type": "code",
   "execution_count": null,
   "metadata": {},
   "outputs": [],
   "source": [
    "from IPython.display import display\n",
    "def f(a, b):\n",
    "    display(a + b)\n",
    "    return a+b"
   ]
  },
  {
   "cell_type": "code",
   "execution_count": null,
   "metadata": {},
   "outputs": [],
   "source": [
    "w = interactive(f, a=10, b=20)"
   ]
  },
  {
   "cell_type": "code",
   "execution_count": null,
   "metadata": {},
   "outputs": [
    {
     "data": {
      "application/vnd.jupyter.widget-view+json": {
       "model_id": "49914fdb57a0471aa241ca4b706a476d",
       "version_major": 2,
       "version_minor": 0
      },
      "text/plain": [
       "interactive(children=(FloatSlider(value=0.0, description='m', max=2.0, min=-2.0), FloatSlider(value=0.0, descr…"
      ]
     },
     "execution_count": null,
     "metadata": {},
     "output_type": "execute_result"
    }
   ],
   "source": [
    "%matplotlib inline\n",
    "from ipywidgets import interactive\n",
    "import matplotlib.pyplot as plt\n",
    "import numpy as np\n",
    "\n",
    "def f(m, b):\n",
    "    plt.figure(2)\n",
    "    x = np.linspace(-10, 10, num=1000)\n",
    "    plt.plot(x, m * x + b)\n",
    "    plt.ylim(-5, 5)\n",
    "    plt.show()\n",
    "\n",
    "interactive_plot = interactive(f, m=(-2.0, 2.0), b=(-3, 3, 0.5))\n",
    "output = interactive_plot.out#children[-1]\n",
    "output.layout.height = '350px'\n",
    "interactive_plot"
   ]
  },
  {
   "cell_type": "markdown",
   "metadata": {},
   "source": [
    "## interact"
   ]
  },
  {
   "cell_type": "code",
   "execution_count": null,
   "metadata": {},
   "outputs": [],
   "source": [
    "def f(x):\n",
    "    return x"
   ]
  },
  {
   "cell_type": "code",
   "execution_count": null,
   "metadata": {},
   "outputs": [],
   "source": [
    "interact(f, x=10);"
   ]
  },
  {
   "cell_type": "code",
   "execution_count": null,
   "metadata": {},
   "outputs": [],
   "source": [
    "interact(f, x=True);"
   ]
  },
  {
   "cell_type": "code",
   "execution_count": null,
   "metadata": {},
   "outputs": [],
   "source": [
    "interact(f, x='Hi there!');"
   ]
  },
  {
   "cell_type": "code",
   "execution_count": null,
   "metadata": {},
   "outputs": [],
   "source": [
    "@interact(x=True, y=1.0)\n",
    "def g(x, y):\n",
    "    return (x, y)\n"
   ]
  },
  {
   "cell_type": "code",
   "execution_count": null,
   "metadata": {},
   "outputs": [],
   "source": [
    "IntSlider(min=-10, max=30, step=1, value=10)"
   ]
  },
  {
   "cell_type": "code",
   "execution_count": null,
   "metadata": {},
   "outputs": [],
   "source": [
    "interact(f, x=widgets.IntSlider(min=-10, max=30, step=1, value=10));\n"
   ]
  },
  {
   "cell_type": "markdown",
   "metadata": {},
   "source": [
    "## interact_manual"
   ]
  },
  {
   "cell_type": "code",
   "execution_count": null,
   "metadata": {},
   "outputs": [],
   "source": []
  },
  {
   "cell_type": "markdown",
   "metadata": {},
   "source": [
    "# Colophon\n",
    "----\n"
   ]
  },
  {
   "cell_type": "code",
   "execution_count": null,
   "metadata": {},
   "outputs": [],
   "source": [
    "import fastcore.all as FC\n",
    "import nbdev\n",
    "from nbdev.clean import nbdev_clean\n"
   ]
  },
  {
   "cell_type": "code",
   "execution_count": null,
   "metadata": {},
   "outputs": [],
   "source": [
    "if FC.IN_NOTEBOOK:\n",
    "    nb_path = '50_wridget.ipynb'\n",
    "    # nbdev_clean(nb_path)\n",
    "    nbdev.nbdev_export(nb_path)\n"
   ]
  }
 ],
 "metadata": {
  "kernelspec": {
   "display_name": "python3",
   "language": "python",
   "name": "python3"
  },
  "language_info": {
   "codemirror_mode": {
    "name": "ipython",
    "version": 3
   },
   "file_extension": ".py",
   "mimetype": "text/x-python",
   "name": "python",
   "nbconvert_exporter": "python",
   "pygments_lexer": "ipython3",
   "version": "3.12.7"
  },
  "widgets": {
   "application/vnd.jupyter.widget-state+json": {
    "state": {},
    "version_major": 2,
    "version_minor": 0
   }
  }
 },
 "nbformat": 4,
 "nbformat_minor": 4
}
