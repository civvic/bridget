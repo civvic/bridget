{
 "cells": [
  {
   "cell_type": "code",
   "execution_count": null,
   "metadata": {},
   "outputs": [],
   "source": [
    "#| default_exp nb"
   ]
  },
  {
   "cell_type": "code",
   "execution_count": null,
   "metadata": {},
   "outputs": [],
   "source": [
    "#| export\n",
    "from __future__ import annotations"
   ]
  },
  {
   "cell_type": "markdown",
   "metadata": {},
   "source": [
    "# Notebook objects\n",
    "\n",
    "> Notebook cells and outputs and helpers.\n",
    "\n"
   ]
  },
  {
   "cell_type": "markdown",
   "metadata": {},
   "source": [
    "# Prologue"
   ]
  },
  {
   "cell_type": "code",
   "execution_count": null,
   "metadata": {},
   "outputs": [],
   "source": [
    "#| export\n",
    "import collections\n",
    "import inspect\n",
    "import operator as op\n",
    "from copy import deepcopy\n",
    "from functools import cache\n",
    "from functools import partial\n",
    "from typing import Callable\n",
    "from typing import Iterable\n",
    "from typing import Literal\n",
    "from typing import Mapping\n",
    "from typing import overload\n",
    "from typing import Protocol\n",
    "from typing import runtime_checkable\n",
    "from typing import Sequence\n",
    "from typing import SupportsIndex\n",
    "from typing import TypeAlias\n",
    "\n",
    "import fastcore.all as FC\n",
    "from fastcore.all import L\n",
    "from fastcore.xml import to_xml\n",
    "from fasttransform import Transform\n",
    "from nbdev.process import extract_directives\n",
    "from nbdev.showdoc import add_docs\n",
    "from olio.basic import empty\n",
    "from olio.basic import gets\n",
    "from olio.callback import Callback\n",
    "from olio.callback import CollBack\n",
    "from olio.callback import FuncCB\n",
    "from olio.common import AD\n",
    "from olio.common import update_\n",
    "from olio.common import val_atpath\n",
    "from olio.common import vals_at\n",
    "from rich.pretty import pretty_repr\n"
   ]
  },
  {
   "cell_type": "code",
   "execution_count": null,
   "metadata": {},
   "outputs": [],
   "source": [
    "#| export\n",
    "import bridget.fasthtml_patching\n",
    "from bridget.helpers import cached_property\n",
    "from bridget.helpers import compose_first\n",
    "from bridget.helpers import DetailsJSON\n",
    "from bridget.helpers import emptyd\n"
   ]
  },
  {
   "cell_type": "code",
   "execution_count": null,
   "metadata": {},
   "outputs": [],
   "source": [
    "import json\n",
    "from datetime import datetime\n",
    "from operator import attrgetter\n",
    "from pathlib import Path\n",
    "from types import MethodType\n",
    "from typing import Any\n",
    "from typing import cast\n",
    "\n",
    "import nbformat\n",
    "import toolz as TZ\n",
    "import traitlets as T\n",
    "from fastcore.all import nested_idx\n",
    "from fastcore.test import *\n",
    "from IPython.display import display\n",
    "from nbdev.showdoc import *\n",
    "from olio.basic import pops_values_\n",
    "from olio.callback import process_\n",
    "from olio.common import shorten\n",
    "from olio.common import shortens\n",
    "from olio.common import val_at\n",
    "from olio.display import RenderJSON\n",
    "from olio.test import test_raises\n",
    "from rich.console import Console\n"
   ]
  },
  {
   "cell_type": "code",
   "execution_count": null,
   "metadata": {},
   "outputs": [],
   "source": [
    "import bridget\n",
    "from bridget.helpers import bridge_cfg\n",
    "from bridget.helpers import in_vscode_notebook\n",
    "from bridget.helpers import ts\n"
   ]
  },
  {
   "cell_type": "code",
   "execution_count": null,
   "metadata": {},
   "outputs": [],
   "source": [
    "from fasthtml.components import Div, P, Pre, Text, Span, show, B, Pre, A, Brƒ"
   ]
  },
  {
   "cell_type": "markdown",
   "metadata": {},
   "source": [
    "----\n"
   ]
  },
  {
   "cell_type": "code",
   "execution_count": null,
   "metadata": {},
   "outputs": [],
   "source": [
    "cprint = (console := Console(width=120)).print"
   ]
  },
  {
   "cell_type": "code",
   "execution_count": null,
   "metadata": {},
   "outputs": [],
   "source": [
    "in_vscode = in_vscode_notebook()"
   ]
  },
  {
   "cell_type": "markdown",
   "metadata": {},
   "source": [
    "----"
   ]
  },
  {
   "cell_type": "code",
   "execution_count": null,
   "metadata": {},
   "outputs": [],
   "source": [
    "bridge_cfg.auto_show = True"
   ]
  },
  {
   "cell_type": "markdown",
   "metadata": {},
   "source": [
    "# Notebook data"
   ]
  },
  {
   "cell_type": "markdown",
   "metadata": {},
   "source": [
    "```json\n",
    "{\n",
    "    \"type\": \"state\",  // \"state\" | ...\n",
    "    \"cells\": [\n",
    "        // Markdown cell\n",
    "        {\n",
    "            \"cell_type\": 1,  // 1: markdown, 2: code\n",
    "            \"source\": \"string\",  // Cell content\n",
    "            \"metadata\"?: {  // Optional\n",
    "                \"tags\": [\"string\"],\n",
    "                \"jupyter\": { /* jupyter specific */ },\n",
    "                \"brd\": {\n",
    "                    \"id\": \"string\", \n",
    "                    \"renderer\": bool  // optional\n",
    "                }\n",
    "            },\n",
    "            \"id\": \"string\"\n",
    "        },\n",
    "        // Code cell with outputs\n",
    "        {\n",
    "            \"cell_type\": 2,\n",
    "            \"source\": \"string\",\n",
    "            \"outputs\"?: [  // Optional, only for code cells\n",
    "                {\n",
    "                    \"output_type\": 1 | 2 | 3 | 4 // \"stream\" | \"display_data\" | \"execute_result\" | \"error\",\n",
    "                    \"metadata\"?: {...},  // Optional\n",
    "                    // Type-specific fields\n",
    "                    \"name\"?: \"stdout\" | \"stderr\",  // For stream\n",
    "                    \"text\"?: \"string\",             // For stream\n",
    "                    \"data\"?: {  // Optional\n",
    "                        \"mime/type\": \"string\"  // e.g., \"text/plain\": \"content\"\n",
    "                    },\n",
    "                    \"ename\"?: \"string\",            // For error\n",
    "                    \"evalue\"?: \"string\",           // For error\n",
    "                    \"traceback\"?: [\"string\"],      // For error\n",
    "                    \"execution_count\"?: number     // For execute_result\n",
    "                }\n",
    "            ]\n",
    "        }\n",
    "    ]\n",
    "}\n",
    "```"
   ]
  },
  {
   "cell_type": "code",
   "execution_count": null,
   "metadata": {},
   "outputs": [
    {
     "data": {
      "text/html": [
       "\n",
       "<div id=\"wrapper-db9ef7e3-04c7-4b43-a574-0754c279ef3a\" style=\"width: 100%; max-height: 400px; overflow-y: auto;\">\n",
       "    <div id=\"db9ef7e3-04c7-4b43-a574-0754c279ef3a\" style=\"width: 100%;\"></div>\n",
       "    <script>\n",
       "        function renderMyJson() {\n",
       "            renderjson.set_show_to_level(2);\n",
       "            document.getElementById('db9ef7e3-04c7-4b43-a574-0754c279ef3a').appendChild(renderjson({\"type\": \"state\", \"timestamp\": 1754044894978, \"origin\": \"vscode-webview://1ql27b0grt14rkuj26idbt9ktekivp44iu2s8pgfndvblm2j3iep/index.html?id=ceab9781-c31b-4f80-a40a-e8b9ef553325&origin=1e95bb6a-280d-4f6e-8090-7f55f54cbfbd&swVersion=4&extensionId=&platform=electron&vscode-resource-base-authority=vscode-resource.vscode-cdn.net&parentOrigin=vscode-file%3A%2F%2Fvscode-app&purpose=notebookRenderer\", \"cells\": [{\"idx\": 0, \"cell_type\": \"markdown\", \"source\": \"# cell 0\", \"id\": \"W0sZmlsZQ==\", \"metadata\": {\"brd\": {\"id\": \"81c3e877-b59a-48f5-a1da-21894d928d4b\"}}}, {\"idx\": 1, \"cell_type\": \"code\", \"source\": \"# cell 1\\nimport time\\nfrom itertools import count\\n\\nimport ipywidgets as W\\nimport matplotlib.pyplot as plt\\nfrom bridget.helpers import displaydh\\nfrom IPython.display import HTML, Image, Javascript, JSON, DisplayHandle, clear_output\\ncounter = count()\", \"id\": \"W1sZmlsZQ==\", \"metadata\": {\"brd\": {\"id\": \"717322f8-95fa-425c-839d-8b9e7d4ef921\"}}, \"outputs\": [], \"execution_count\": 1}, {\"idx\": 2, \"cell_type\": \"code\", \"source\": \"# cell 2\\nprint(1)\", \"id\": \"W2sZmlsZQ==\", \"metadata\": {\"brd\": {\"id\": \"92f3e304-fd32-4de2-badf-11577f9e7a4a\"}}, \"outputs\": [{\"output_type\": \"stream\", \"name\": \"stdout\", \"text\": \"1\\n\"}], \"execution_count\": 2}, {\"idx\": 3, \"cell_type\": \"code\", \"source\": \"# cell 3\\ndisplaydh('cell 3', metadata={'bridge': {'cell': 3}});\", \"id\": \"W3sZmlsZQ==\", \"metadata\": {\"brd\": {\"id\": \"f2c19c18-a3f7-4acb-88e4-c7239178c401\"}}, \"outputs\": [{\"output_type\": \"display_data\", \"data\": {\"text/plain\": \"'cell 3'\"}, \"metadata\": {\"transient\": {\"display_id\": \"9d0548d3b88c66b7def8b47bbe5a12dd\"}, \"bridge\": {\"cell\": 3}}}], \"execution_count\": 3}, {\"idx\": 4, \"cell_type\": \"code\", \"source\": \"# cell 4\\nimport time\\ntime.sleep(2)\\ndisplaydh(HTML('cell 4'), metadata={'bridge': {'cell': 4}});\", \"id\": \"W4sZmlsZQ==\", \"metadata\": {\"brd\": {\"id\": \"798f7f83-9b31-4e21-a36b-5520c6f72a2d\"}}, \"outputs\": [{\"output_type\": \"display_data\", \"data\": {\"text/html\": \"cell 4\", \"text/plain\": \"<IPython.core.display.HTML object>\"}, \"metadata\": {\"transient\": {\"display_id\": \"2ffe60c5c571592fc61fe81faab39e34\"}, \"bridge\": {\"cell\": 4}}}], \"execution_count\": 4}, {\"idx\": 5, \"cell_type\": \"code\", \"source\": \"# cell 5\\ndisplaydh(Javascript('console.log(\\\"cell 5\\\")'), metadata={'bridge': {'cell': 5}});\", \"id\": \"W5sZmlsZQ==\", \"metadata\": {\"brd\": {\"id\": \"a20081a9-4e7e-4301-be25-2a44f45bfc71\"}}, \"outputs\": [{\"output_type\": \"display_data\", \"data\": {\"application/javascript\": \"console.log(\\\"cell 5\\\")\", \"text/plain\": \"<IPython.core.display.Javascript object>\"}, \"metadata\": {\"transient\": {\"display_id\": \"b970be042e0ebd1e5af19aadcfbf213e\"}, \"bridge\": {\"cell\": 5}}}], \"execution_count\": 5}, {\"idx\": 6, \"cell_type\": \"code\", \"source\": \"# cell 6\\nprint(6.1)\\nprint(6.2)\", \"id\": \"W6sZmlsZQ==\", \"metadata\": {\"brd\": {\"id\": \"e1ba8c0c-d248-44ff-9437-17482a711358\"}}, \"outputs\": [{\"output_type\": \"stream\", \"name\": \"stdout\", \"text\": \"6.1\\n6.2\\n\"}], \"execution_count\": 6}, {\"idx\": 7, \"cell_type\": \"code\", \"source\": \"# cell 7\\ndisplaydh(HTML('cell 7.1'), metadata={'bridge': {'cell': 7.1}})\\ndisplaydh(HTML('cell 7.2'), metadata={'bridge': {'cell': 7.2}});\", \"id\": \"X10sZmlsZQ==\", \"metadata\": {\"brd\": {\"id\": \"7512abfe-f7d2-4047-a6b1-56aefbf9457e\"}}, \"outputs\": [{\"output_type\": \"display_data\", \"data\": {\"text/html\": \"cell 7.1\", \"text/plain\": \"<IPython.core.display.HTML object>\"}, \"metadata\": {\"transient\": {\"display_id\": \"331d2582eb05fdc75afaa4c616fc8b6c\"}, \"bridge\": {\"cell\": 7.1}}}, {\"output_type\": \"display_data\", \"data\": {\"text/html\": \"cell 7.2\", \"text/plain\": \"<IPython.core.display.HTML object>\"}, \"metadata\": {\"transient\": {\"display_id\": \"bbb4397c26ce0c3fb2f1acddc6ce91b1\"}, \"bridge\": {\"cell\": 7.2}}}], \"execution_count\": 7}, {\"idx\": 8, \"cell_type\": \"code\", \"source\": \"%HTML\\n<h3>cell 8</h3>\", \"id\": \"X11sZmlsZQ==\", \"metadata\": {\"brd\": {\"id\": \"72d2a352-a5e3-4bb4-8e12-2302f9bac880\"}}, \"outputs\": [{\"output_type\": \"display_data\", \"data\": {\"text/html\": \"<h3>cell 8</h3>\\n\", \"text/plain\": \"<IPython.core.display.HTML object>\"}, \"metadata\": {\"transient\": {}}}], \"execution_count\": 8}, {\"idx\": 9, \"cell_type\": \"code\", \"source\": \"%javascript\\nconsole.log('cell 9')\", \"id\": \"X12sZmlsZQ==\", \"metadata\": {\"brd\": {\"id\": \"39565bc0-3d14-4912-8220-e9dacb965ca4\"}}, \"outputs\": [{\"output_type\": \"display_data\", \"data\": {\"application/javascript\": \"console.log('cell 9')\\n\", \"text/plain\": \"<IPython.core.display.Javascript object>\"}, \"metadata\": {\"transient\": {}}}], \"execution_count\": 9}, {\"idx\": 10, \"cell_type\": \"code\", \"source\": \"%markdown\\ncell 10\", \"id\": \"X13sZmlsZQ==\", \"metadata\": {\"brd\": {\"id\": \"ff1561f9-0589-470e-8921-0e99efd531bd\"}}, \"outputs\": [{\"output_type\": \"display_data\", \"data\": {\"text/markdown\": \"cell 10\\n\", \"text/plain\": \"<IPython.core.display.Markdown object>\"}, \"metadata\": {\"transient\": {}}}], \"execution_count\": 10}, {\"idx\": 11, \"cell_type\": \"code\", \"source\": \"%SVG\\n<svg width=\\\"100\\\" height=\\\"20\\\" xmlns=\\\"http://www.w3.org/2000/svg\\\">\\n  <text x=\\\"10\\\" y=\\\"10\\\">cell 11</text>\\n</svg>\", \"id\": \"X14sZmlsZQ==\", \"metadata\": {\"brd\": {\"id\": \"4af29770-5f76-4517-9816-fa408687dab1\"}}, \"outputs\": [{\"output_type\": \"display_data\", \"data\": {\"image/svg+xml\": \"<svg xmlns=\\\"http://www.w3.org/2000/svg\\\" width=\\\"100\\\" height=\\\"20\\\">\\n  <text x=\\\"10\\\" y=\\\"10\\\">cell 11</text>\\n</svg>\", \"text/plain\": \"<IPython.core.display.SVG object>\"}, \"metadata\": {\"transient\": {}, \"__displayOpenPlotIcon\": true}}], \"execution_count\": 11}, {\"idx\": 12, \"cell_type\": \"code\", \"source\": \"# cell 12\\nW.IntSlider(12, description='cell')\", \"id\": \"X15sZmlsZQ==\", \"metadata\": {\"brd\": {\"id\": \"e7e6d557-3aa7-41a7-9e77-805295112aec\"}}, \"outputs\": [{\"output_type\": \"execute_result\", \"data\": {\"application/vnd.jupyter.widget-view+json\": {\"version_major\": 2, \"version_minor\": 0, \"model_id\": \"6191b18d61a44fbd89eb132d22a28eab\"}, \"text/plain\": \"IntSlider(value=12, description='cell')\"}, \"execution_count\": 12, \"metadata\": {}}], \"execution_count\": 12}, {\"idx\": 13, \"cell_type\": \"code\", \"source\": \"#| hide\\n# cell 13\\nw = W.Output()\\ndisplay(w)\\nwith w:\\n    print('cell 13.1')\\n    display('cell 13.2')\\n    display(HTML('cell 13.3'))\", \"id\": \"X16sZmlsZQ==\", \"metadata\": {\"brd\": {\"id\": \"8af15850-3d11-4498-a037-ce8b1ac2a161\"}}, \"outputs\": [{\"output_type\": \"display_data\", \"data\": {\"application/vnd.jupyter.widget-view+json\": {\"version_major\": 2, \"version_minor\": 0, \"model_id\": \"a9408d195fb84649b38948893390ef10\"}, \"text/plain\": \"Output()\"}, \"metadata\": {\"transient\": {}}}], \"execution_count\": 13}, {\"idx\": 14, \"cell_type\": \"code\", \"source\": \"# cell 14\\nfig = plt.figure(figsize=(4, 2.67))\\nplt.plot([1,2,3,4]);\", \"id\": \"X20sZmlsZQ==\", \"metadata\": {\"brd\": {\"id\": \"3b388911-cc9e-40af-8746-3821be96cbbd\"}}, \"outputs\": [{\"output_type\": \"display_data\", \"data\": {\"image/png\": \"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\", \"text/plain\": \"<Figure size 400x267 with 1 Axes>\"}, \"metadata\": {\"transient\": {}, \"__displayOpenPlotIcon\": true}}], \"execution_count\": 14}, {\"idx\": 15, \"cell_type\": \"code\", \"source\": \"#| export\\n# cell 15\\nImage('https://jupyter.org/assets/try/jupyter.png', metadata={'bridge': {'cell': 15}})\", \"id\": \"X21sZmlsZQ==\", \"metadata\": {\"brd\": {\"id\": \"268197ce-b8c0-4365-84de-27d06bbb5c5c\"}}, \"outputs\": [{\"output_type\": \"execute_result\", \"data\": {\"image/png\": \"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\", \"text/plain\": \"<IPython.core.display.Image object>\"}, \"execution_count\": 15, \"metadata\": {\"__displayOpenPlotIcon\": true, \"image/png\": {\"bridge\": {\"cell\": 15}}}}], \"execution_count\": 15}, {\"idx\": 16, \"cell_type\": \"code\", \"source\": \"# cell 16\\ndh = displaydh(display_id=True, metadata={'bridge': {'cell': 16}})\", \"id\": \"X22sZmlsZQ==\", \"metadata\": {\"brd\": {\"id\": \"d90254ba-7457-4559-9544-afe201a808ca\"}}, \"outputs\": [{\"output_type\": \"display_data\", \"data\": {}, \"metadata\": {\"transient\": {\"display_id\": \"a6b5cc5f13bf64ce8dd73d0b79b0bef2\"}, \"bridge\": {\"cell\": 16}}}], \"execution_count\": 16}, {\"idx\": 17, \"cell_type\": \"code\", \"source\": \"# cell 17\\ndh = displaydh(HTML('cell 17'), metadata={'bridge': {'cell': 17}})\", \"id\": \"X23sZmlsZQ==\", \"metadata\": {\"brd\": {\"id\": \"91e5d05a-6a56-4649-b8ad-8eae1bbd6727\"}}, \"outputs\": [{\"output_type\": \"display_data\", \"data\": {\"text/html\": \"cell 18\", \"text/plain\": \"<IPython.core.display.HTML object>\"}, \"metadata\": {\"transient\": {\"display_id\": \"b0c4b491988399c7d88a82779528132d\"}, \"bridge\": {\"cell\": 18}}}], \"execution_count\": 17}, {\"idx\": 18, \"cell_type\": \"code\", \"source\": \"# cell 18\\ndh.update(HTML('cell 18'), metadata={'bridge': {'cell': 18}})\", \"id\": \"X24sZmlsZQ==\", \"metadata\": {\"brd\": {\"id\": \"05bc7556-dd06-4434-ba68-6d438ed2cf56\"}}, \"outputs\": [], \"execution_count\": 18}, {\"idx\": 19, \"cell_type\": \"code\", \"source\": \"# cell 19\\ndisplaydh(JSON({'cell': 19}), metadata={'bridge': {'cell': 19}});\", \"id\": \"X25sZmlsZQ==\", \"metadata\": {\"brd\": {\"id\": \"c3efb63f-adee-41c4-9450-9f489406b873\"}}, \"outputs\": [{\"output_type\": \"display_data\", \"data\": {\"application/json\": {\"cell\": 19}, \"text/plain\": \"<IPython.core.display.JSON object>\"}, \"metadata\": {\"transient\": {\"display_id\": \"e81dd25b299e4881aff6aec417c5bed9\"}, \"application/json\": {\"expanded\": false, \"root\": \"root\"}, \"bridge\": {\"cell\": 19}}}], \"execution_count\": 19}, {\"idx\": 20, \"cell_type\": \"code\", \"source\": \"# cell 20\\ndisplay(W.IntSlider(20, description='cell'), metadata={'bridge': {'cell': 20}})\", \"id\": \"X26sZmlsZQ==\", \"metadata\": {\"brd\": {\"id\": \"873e423a-4028-4d7d-9912-61cb29478c2a\"}}, \"outputs\": [{\"output_type\": \"display_data\", \"data\": {\"application/vnd.jupyter.widget-view+json\": {\"version_major\": 2, \"version_minor\": 0, \"model_id\": \"a2e5512c64244dd8919c79ca4f5df767\"}, \"text/plain\": \"IntSlider(value=20, description='cell')\"}, \"metadata\": {\"transient\": {}, \"bridge\": {\"cell\": 20}}}], \"execution_count\": 20}, {\"idx\": 21, \"cell_type\": \"code\", \"source\": \"\", \"id\": \"X30sZmlsZQ==\", \"metadata\": {\"brd\": {\"id\": \"9793d8a7-61fa-4651-9ce1-7b084c2258f9\"}}, \"outputs\": [], \"execution_count\": null}, {\"idx\": 22, \"cell_type\": \"code\", \"source\": \"# cell 22\\n1/0\", \"id\": \"X31sZmlsZQ==\", \"metadata\": {\"brd\": {\"id\": \"9cb695ff-382a-411e-b1c6-b7aaa921cbe4\"}}, \"outputs\": [{\"output_type\": \"error\", \"ename\": \"ZeroDivisionError\", \"evalue\": \"division by zero\", \"traceback\": [\"\\u001b[31m---------------------------------------------------------------------------\\u001b[39m\", \"\\u001b[31mZeroDivisionError\\u001b[39m                         Traceback (most recent call last)\", \"\\u001b[36mCell\\u001b[39m\\u001b[36m \\u001b[39m\\u001b[32mIn[21]\\u001b[39m\\u001b[32m, line 2\\u001b[39m\", \"\\u001b[32m      1\\u001b[39m \\u001b[38;5;66;03m# cell 22\\u001b[39;00m\", \"\\u001b[32m----> \\u001b[39m\\u001b[32m2\\u001b[39m \\u001b[32;43m1\\u001b[39;49m\\u001b[43m/\\u001b[49m\\u001b[32;43m0\\u001b[39;49m\", \"\", \"\\u001b[31mZeroDivisionError\\u001b[39m: division by zero\"]}], \"execution_count\": 21}, {\"idx\": 23, \"cell_type\": \"markdown\", \"source\": \"# cell 23\", \"id\": \"X32sZmlsZQ==\", \"metadata\": {\"brd\": {\"id\": \"52b08c54-a86f-41a4-a11c-0d74faf81bfd\"}}}, {\"idx\": 24, \"cell_type\": \"code\", \"source\": \"# cell 24\\nfrom itertools import count\\nfrom bridget.helpers import displaydh\\nfrom IPython.display import HTML, Javascript, clear_output\\ncounter = count()\\ndh0 = displaydh(HTML('cell 24.0'), metadata={'bridge': {'cell': 24.0}})\\ndh1 = displaydh(\\n    {'application/x-notebook-state+json': {'feedback': True, 'hide': False, 'debug': True, 'id': next(counter)}}, \\n    raw=True, metadata={'bridge': {'cell': 24.1}})\", \"id\": \"X33sZmlsZQ==\", \"metadata\": {\"brd\": {\"id\": \"e4bbb456-27fa-47d1-b95b-637b61e0e8f5\", \"renderer\": true}}, \"outputs\": [{\"output_type\": \"display_data\", \"data\": {\"text/html\": \"cell 28\", \"text/plain\": \"<IPython.core.display.HTML object>\"}, \"metadata\": {\"transient\": {\"display_id\": \"17a535413c8fe54ee37fcbb955080974\"}, \"bridge\": {\"cell\": 28, \"cnt\": 3}}}, {\"output_type\": \"display_data\", \"data\": {\"text/plain\": \"\", \"application/x-notebook-state+json\": {\"debug\": true, \"id\": 9}}, \"metadata\": {\"transient\": {\"display_id\": \"4e0bb057682577c6b2e76798cfd1c72b\"}, \"bridge\": {\"cell\": 34}}}], \"execution_count\": 22}, {\"idx\": 25, \"cell_type\": \"code\", \"source\": \"# cell 25\\ndh1.update({'application/x-notebook-state+json': {'id': next(counter), 'update': 'diff'}}, raw=True, \\n        metadata={'bridge': {'cell': 25}})\", \"id\": \"X34sZmlsZQ==\", \"metadata\": {\"brd\": {\"id\": \"7e0e7b1b-9633-4035-9365-80799bceb2ae\"}}, \"outputs\": [], \"execution_count\": 23}, {\"idx\": 26, \"cell_type\": \"code\", \"source\": \"# cell 26\\n_ = displaydh('cell 26.1', metadata={'bridge': {'cell': 26.1}})\\n_ = displaydh('cell 26.2', metadata={'bridge': {'cell': 26.2}})\", \"id\": \"X35sZmlsZQ==\", \"metadata\": {\"brd\": {\"id\": \"5dc3eece-bec8-47c1-b409-0147dc8a7114\"}}, \"outputs\": [{\"output_type\": \"display_data\", \"data\": {\"text/plain\": \"'cell 26.1'\"}, \"metadata\": {\"transient\": {\"display_id\": \"c68769547e548a782744181ecf1b0300\"}, \"bridge\": {\"cell\": 26.1}}}, {\"output_type\": \"display_data\", \"data\": {\"text/plain\": \"'cell 26.2'\"}, \"metadata\": {\"transient\": {\"display_id\": \"856c65ace729d32c289b73e63449e0bb\"}, \"bridge\": {\"cell\": 26.2}}}], \"execution_count\": 24}, {\"idx\": 27, \"cell_type\": \"code\", \"source\": \"# cell 27\\n_ = display('cell 27.1', metadata={'bridge': {'cell': 27.1}})\\n_ = display('cell 27.2', metadata={'bridge': {'cell': 27.2}})\", \"id\": \"X36sZmlsZQ==\", \"metadata\": {\"brd\": {\"id\": \"246f66f3-e71d-4fd1-9041-40e32c38a56a\"}}, \"outputs\": [{\"output_type\": \"display_data\", \"data\": {\"text/plain\": \"'cell 27.1'\"}, \"metadata\": {\"transient\": {}, \"bridge\": {\"cell\": 27.1}}}, {\"output_type\": \"display_data\", \"data\": {\"text/plain\": \"'cell 27.2'\"}, \"metadata\": {\"transient\": {}, \"bridge\": {\"cell\": 27.2}}}], \"execution_count\": 25}, {\"idx\": 28, \"cell_type\": \"code\", \"source\": \"# cell 28\\ndh1.update({'application/x-notebook-state+json': {'id': next(counter)}}, raw=True, \\n        metadata={'bridge': {'cell': 28}})\\ndh0.update(HTML('cell 28'), metadata={'bridge': {'cell': 28, 'cnt': next(counter)}})\", \"id\": \"X40sZmlsZQ==\", \"metadata\": {\"brd\": {\"id\": \"2d5e3f49-cc7d-4af2-91f1-c2c0285346a4\"}}, \"outputs\": [], \"execution_count\": 26}, {\"idx\": 29, \"cell_type\": \"code\", \"source\": \"# cell 29\\ndh1.update({'application/x-notebook-state+json': {'feedback': False, 'id': next(counter), 'update':'opts'}}, raw=True, \\n        metadata={'bridge': {'cell': 29}})\", \"id\": \"X41sZmlsZQ==\", \"metadata\": {\"brd\": {\"id\": \"c8e29798-99e3-4834-9a4e-762f48bf8a63\"}}, \"outputs\": [], \"execution_count\": 27}, {\"idx\": 30, \"cell_type\": \"code\", \"source\": \"# cell 30\\ndh1.update({'application/x-notebook-state+json': {'feedback': True, 'id': next(counter), 'update':'opts'}}, raw=True, \\n        metadata={'bridge': {'cell': 30}})\", \"id\": \"X42sZmlsZQ==\", \"metadata\": {\"brd\": {\"id\": \"29682245-e83e-434e-b053-e5cb96535236\"}}, \"outputs\": [], \"execution_count\": 28}, {\"idx\": 31, \"cell_type\": \"code\", \"source\": \"# cell 31\\ndh1.update({'application/x-notebook-state+json': {'hide': True, 'id': next(counter), 'update':'opts'}}, raw=True, \\n        metadata={'bridge': {'cell': 31}})\", \"id\": \"X43sZmlsZQ==\", \"metadata\": {\"brd\": {\"id\": \"91796c88-1f45-4533-a75c-a646ceea4c8d\"}}, \"outputs\": [], \"execution_count\": 29}, {\"idx\": 32, \"cell_type\": \"code\", \"source\": \"# cell 32\\ndh1.update({'application/x-notebook-state+json': {'hide': False, 'id': next(counter), 'update':'opts'}}, raw=True, \\n        metadata={'bridge': {'cell': 32}})\", \"id\": \"X44sZmlsZQ==\", \"metadata\": {\"brd\": {\"id\": \"736d60ba-138a-4bb7-bdb4-fd1c2fb2c9a3\"}}, \"outputs\": [], \"execution_count\": 30}, {\"idx\": 33, \"cell_type\": \"code\", \"source\": \"# cell 33\\ndh1.update({'application/x-notebook-state+json': {'debug': False, 'id': next(counter)}, 'update':'opts'}, raw=True, \\n        metadata={'bridge': {'cell': 33}})\", \"id\": \"X45sZmlsZQ==\", \"metadata\": {\"brd\": {\"id\": \"1776b831-07d1-4ff7-aa55-6d2b828f2374\"}}, \"outputs\": [], \"execution_count\": 31}, {\"idx\": 34, \"cell_type\": \"code\", \"source\": \"# cell 34\\ndh1.update({'application/x-notebook-state+json': {'debug': True, 'id': next(counter)}, 'update':'opts'}, raw=True, \\n        metadata={'bridge': {'cell': 34}})\", \"id\": \"X46sZmlsZQ==\", \"metadata\": {\"brd\": {\"id\": \"ded37fc1-430a-46cc-ba92-5cd73735e5f2\"}}, \"outputs\": [], \"execution_count\": 32}, {\"idx\": 35, \"cell_type\": \"code\", \"source\": \"# cell 35\\ndh2 = displaydh({'application/x-notebook-state+json': {'feedback': True, 'debug': True, 'id': next(counter)}}, \\n        raw=True, metadata={'bridge': {'cell': 35}})\\n# clear_output()\", \"id\": \"X50sZmlsZQ==\", \"metadata\": {\"brd\": {\"id\": \"e7eb193d-f9fe-41b6-b817-1328963ff734\", \"renderer\": true}}, \"outputs\": [{\"output_type\": \"display_data\", \"data\": {\"application/x-notebook-state+json\": \"{\\\"id\\\":11}\"}, \"metadata\": {\"transient\": {\"display_id\": \"8894c44ba611e5ac9b751df9df223d30\"}, \"bridge\": {\"cell\": 36, \"update\": true}}}], \"execution_count\": 33}, {\"idx\": 36, \"cell_type\": \"code\", \"source\": \"# cell 36\\ndh2.update({'application/x-notebook-state+json': {'id': next(counter)}}, raw=True, \\n        metadata={'bridge': {'cell': 36, 'update': True}})\", \"id\": \"X51sZmlsZQ==\", \"metadata\": {\"brd\": {\"id\": \"dae10da0-df1d-4e79-baec-528472d53959\"}}, \"outputs\": [], \"execution_count\": 34}, {\"idx\": 37, \"cell_type\": \"code\", \"source\": \"from itertools import count\\nimport anywidget, time\\nfrom IPython.display import DisplayHandle\\nfrom bridget.helpers import displaydh\\n# from bridget.helpers import skip\\nimport ipywidgets as W\\n\\ncounter = count()\\n\\nclass TestWidget(anywidget.AnyWidget):\\n    _esm = '''debugger;\\nexport default { \\n    async initialize({ model }) {\\n        function on_msg(msg) {\\n            console.log(`++++ Received message:`, msg);\\n            if (window.$Nb) {\\n                msg.origin = document.location.href;\\n                window.$Nb.update(msg);\\n                return;\\n            }\\n            return model.send({ id: msg.id, response: 'no response' });\\n        }\\n        model.on(\\\"msg:custom\\\", on_msg);\\n        function on_stateChange(chg) {\\n            console.log('++++ on_state', chg.reqId, chg);\\n            model.send({ changes: chg });\\n        }\\n        let cleanup;\\n        if (window.$Nb) {\\n            cleanup = window.$Nb.addStateObserver(on_stateChange);\\n        }\\n        if (cleanup) return cleanup;\\n    }\\n};\\n    '''\\n    dh: DisplayHandle\\n    def __init__(self, *args, **kwargs):\\n        super().__init__(*args, **kwargs)\\n        self.on_msg(self._handle_message)\\n        self.out = W.Output()\\n        display(self.out)\\n        with self.out:\\n            print('Test widget, cell 35')\\n\\n    def _handle_message(self, w, msg, buffers):\\n        # self.dh.update(f'Received {msg=}, {buffers=}', metadata=skip(cell=35))\\n        self.msg = msg\\n        with self.out:\\n            print(f'Received {msg=}, {buffers=}')\\n\\nw = TestWidget()\", \"id\": \"X52sZmlsZQ==\", \"metadata\": {\"brd\": {\"id\": \"28128a8f-b8a7-47db-8430-b45260f2f9f3\"}}, \"outputs\": [{\"output_type\": \"display_data\", \"data\": {\"application/vnd.jupyter.widget-view+json\": {\"version_major\": 2, \"version_minor\": 0, \"model_id\": \"bffa9610926e4f05acdc661b5bd3f592\"}, \"text/plain\": \"Output()\"}, \"metadata\": {\"transient\": {}}}], \"execution_count\": 35}, {\"idx\": 38, \"cell_type\": \"code\", \"source\": \"# cell 38\\nw.send({'id': next(counter), 'update': 'full'})\", \"id\": \"X53sZmlsZQ==\", \"metadata\": {\"brd\": {\"id\": \"622c7097-bc29-495d-bab2-71b53bbec98a\"}}, \"outputs\": [], \"execution_count\": 37}, {\"idx\": 39, \"cell_type\": \"code\", \"source\": \"# cell 39\\ndh = displaydh(metadata={'bridge': {'cell': 39}})\", \"id\": \"X54sZmlsZQ==\", \"metadata\": {\"brd\": {\"id\": \"8acb2751-93cd-4a6f-9f71-d36ef74abfba\"}}, \"outputs\": [], \"execution_count\": null}, {\"idx\": 40, \"cell_type\": \"code\", \"source\": \"# cell 40\\nthis_id = next(counter)\\n_ = displaydh(metadata={'bridge': {'cell': 40, 'this': this_id}})\\n# nb.source.send({'cmd': 'get_state'}, timeout=5)\\n# clear_output(wait=True)\", \"id\": \"X55sZmlsZQ==\", \"metadata\": {\"brd\": {\"id\": \"c01d8a36-c1fa-437d-a7cf-f369c4f66ecf\"}}, \"outputs\": [], \"execution_count\": null}, {\"idx\": 41, \"cell_type\": \"code\", \"source\": \"# cell 41\\n# find_me\", \"id\": \"X56sZmlsZQ==\", \"metadata\": {\"brd\": {\"id\": \"340489bf-419a-4da3-9b06-eb1b5cd6daba\"}}, \"outputs\": [], \"execution_count\": 7}], \"nbData\": {\"cellCount\": 42, \"metadata\": {\"cells\": [], \"metadata\": {\"kernelspec\": {\"display_name\": \"Python 3\", \"language\": \"python\", \"name\": \"python3\"}, \"language_info\": {\"codemirror_mode\": {\"name\": \"ipython\", \"version\": 3}, \"file_extension\": \".py\", \"mimetype\": \"text/x-python\", \"name\": \"python\", \"nbconvert_exporter\": \"python\", \"pygments_lexer\": \"ipython3\", \"version\": \"3.12.11\"}, \"widgets\": {\"application/vnd.jupyter.widget-state+json\": {\"state\": {}, \"version_major\": 2, \"version_minor\": 0}}}, \"nbformat\": 4, \"nbformat_minor\": 4, \"indentAmount\": \" \"}, \"notebookType\": \"jupyter-notebook\", \"notebookUri\": \"file:///Users/vic/dev/repo/project/bridget/packages/nbinspect-vscode/test/outputs.ipynb\"}, \"reqId\": 1}));\n",
       "        };\n",
       "        function loadRenderjson() {\n",
       "            if (window.renderjson) return Promise.resolve();\n",
       "            return new Promise((resolve, reject) => {\n",
       "                const script = document.createElement('script');\n",
       "                script.src = 'https://cdn.jsdelivr.net/npm/renderjson@latest/renderjson.js';\n",
       "                script.onload = resolve;\n",
       "                script.onerror = reject;\n",
       "                document.head.appendChild(script);\n",
       "            });\n",
       "        };\n",
       "        loadRenderjson().then(renderMyJson).catch(err => console.error('Failed to load renderjson:', err));\n",
       "    </script>\n",
       "</div>\n"
      ],
      "text/plain": [
       "<IPython.core.display.HTML object>"
      ]
     },
     "metadata": {
      "bridge": {
       "skip": true
      }
     },
     "output_type": "display_data"
    }
   ],
   "source": [
    "test_fn = ( '../packages/nbinspect-vscode/test/outputs.json'\n",
    "            if in_vscode else \n",
    "            '../packages/nbinspect-lab/nbs/outputs.json')\n",
    "test_json = Path(test_fn).read_text('utf-8')\n",
    "state = json.loads(test_json)\n",
    "\n",
    "# cprint(state, width=120, overflow='ellipsis')\n",
    "RenderJSON(state, init_level=2, max_height=400).display()"
   ]
  },
  {
   "cell_type": "code",
   "execution_count": null,
   "metadata": {},
   "outputs": [
    {
     "data": {
      "text/html": [
       "\n",
       "<div id=\"wrapper-91953297-19de-4326-8f9d-b8d2b15658a2\" style=\"width: 100%; max-height: 400px; overflow-y: auto;\">\n",
       "    <div id=\"91953297-19de-4326-8f9d-b8d2b15658a2\" style=\"width: 100%;\"></div>\n",
       "    <script>\n",
       "        function renderMyJson() {\n",
       "            renderjson.set_show_to_level(2);\n",
       "            document.getElementById('91953297-19de-4326-8f9d-b8d2b15658a2').appendChild(renderjson({\"cells\": [{\"cell_type\": \"markdown\", \"source\": \"# cell 0\", \"id\": \"81c3e877-b59a-48f5-a1da-21894d928d4b\", \"metadata\": {\"brd\": {\"cell_id\": \"W0sZmlsZQ==\"}}}, {\"cell_type\": \"code\", \"source\": \"# cell 1\\nimport time\\nfrom itertools import count\\n\\nimport ipywidgets as W\\nimport matplotlib.pyplot as plt\\nfrom bridget.helpers import displaydh\\nfrom IPython.display import HTML, Image, Javascript, JSON, DisplayHandle, clear_output\\ncounter = count()\", \"id\": \"717322f8-95fa-425c-839d-8b9e7d4ef921\", \"metadata\": {\"brd\": {\"cell_id\": \"W1sZmlsZQ==\"}}, \"outputs\": [], \"execution_count\": 1}, {\"cell_type\": \"code\", \"source\": \"# cell 2\\nprint(1)\", \"id\": \"92f3e304-fd32-4de2-badf-11577f9e7a4a\", \"metadata\": {\"brd\": {\"cell_id\": \"W2sZmlsZQ==\"}}, \"outputs\": [{\"output_type\": \"stream\", \"name\": \"stdout\", \"text\": \"1\\n\"}], \"execution_count\": 2}, {\"cell_type\": \"code\", \"source\": \"# cell 3\\ndisplaydh('cell 3', metadata={'bridge': {'cell': 3}});\", \"id\": \"f2c19c18-a3f7-4acb-88e4-c7239178c401\", \"metadata\": {\"brd\": {\"cell_id\": \"W3sZmlsZQ==\"}}, \"outputs\": [{\"output_type\": \"display_data\", \"data\": {\"text/plain\": \"'cell 3'\"}, \"metadata\": {\"transient\": {\"display_id\": \"9d0548d3b88c66b7def8b47bbe5a12dd\"}, \"bridge\": {\"cell\": 3}}}], \"execution_count\": 3}, {\"cell_type\": \"code\", \"source\": \"# cell 4\\nimport time\\ntime.sleep(2)\\ndisplaydh(HTML('cell 4'), metadata={'bridge': {'cell': 4}});\", \"id\": \"798f7f83-9b31-4e21-a36b-5520c6f72a2d\", \"metadata\": {\"brd\": {\"cell_id\": \"W4sZmlsZQ==\"}}, \"outputs\": [{\"output_type\": \"display_data\", \"data\": {\"text/html\": \"cell 4\", \"text/plain\": \"<IPython.core.display.HTML object>\"}, \"metadata\": {\"transient\": {\"display_id\": \"2ffe60c5c571592fc61fe81faab39e34\"}, \"bridge\": {\"cell\": 4}}}], \"execution_count\": 4}, {\"cell_type\": \"code\", \"source\": \"# cell 5\\ndisplaydh(Javascript('console.log(\\\"cell 5\\\")'), metadata={'bridge': {'cell': 5}});\", \"id\": \"a20081a9-4e7e-4301-be25-2a44f45bfc71\", \"metadata\": {\"brd\": {\"cell_id\": \"W5sZmlsZQ==\"}}, \"outputs\": [{\"output_type\": \"display_data\", \"data\": {\"application/javascript\": \"console.log(\\\"cell 5\\\")\", \"text/plain\": \"<IPython.core.display.Javascript object>\"}, \"metadata\": {\"transient\": {\"display_id\": \"b970be042e0ebd1e5af19aadcfbf213e\"}, \"bridge\": {\"cell\": 5}}}], \"execution_count\": 5}, {\"cell_type\": \"code\", \"source\": \"# cell 6\\nprint(6.1)\\nprint(6.2)\", \"id\": \"e1ba8c0c-d248-44ff-9437-17482a711358\", \"metadata\": {\"brd\": {\"cell_id\": \"W6sZmlsZQ==\"}}, \"outputs\": [{\"output_type\": \"stream\", \"name\": \"stdout\", \"text\": \"6.1\\n6.2\\n\"}], \"execution_count\": 6}, {\"cell_type\": \"code\", \"source\": \"# cell 7\\ndisplaydh(HTML('cell 7.1'), metadata={'bridge': {'cell': 7.1}})\\ndisplaydh(HTML('cell 7.2'), metadata={'bridge': {'cell': 7.2}});\", \"id\": \"7512abfe-f7d2-4047-a6b1-56aefbf9457e\", \"metadata\": {\"brd\": {\"cell_id\": \"X10sZmlsZQ==\"}}, \"outputs\": [{\"output_type\": \"display_data\", \"data\": {\"text/html\": \"cell 7.1\", \"text/plain\": \"<IPython.core.display.HTML object>\"}, \"metadata\": {\"transient\": {\"display_id\": \"331d2582eb05fdc75afaa4c616fc8b6c\"}, \"bridge\": {\"cell\": 7.1}}}, {\"output_type\": \"display_data\", \"data\": {\"text/html\": \"cell 7.2\", \"text/plain\": \"<IPython.core.display.HTML object>\"}, \"metadata\": {\"transient\": {\"display_id\": \"bbb4397c26ce0c3fb2f1acddc6ce91b1\"}, \"bridge\": {\"cell\": 7.2}}}], \"execution_count\": 7}, {\"cell_type\": \"code\", \"source\": \"%HTML\\n<h3>cell 8</h3>\", \"id\": \"72d2a352-a5e3-4bb4-8e12-2302f9bac880\", \"metadata\": {\"brd\": {\"cell_id\": \"X11sZmlsZQ==\"}}, \"outputs\": [{\"output_type\": \"display_data\", \"data\": {\"text/html\": \"<h3>cell 8</h3>\\n\", \"text/plain\": \"<IPython.core.display.HTML object>\"}, \"metadata\": {\"transient\": {}}}], \"execution_count\": 8}, {\"cell_type\": \"code\", \"source\": \"%javascript\\nconsole.log('cell 9')\", \"id\": \"39565bc0-3d14-4912-8220-e9dacb965ca4\", \"metadata\": {\"brd\": {\"cell_id\": \"X12sZmlsZQ==\"}}, \"outputs\": [{\"output_type\": \"display_data\", \"data\": {\"application/javascript\": \"console.log('cell 9')\\n\", \"text/plain\": \"<IPython.core.display.Javascript object>\"}, \"metadata\": {\"transient\": {}}}], \"execution_count\": 9}, {\"cell_type\": \"code\", \"source\": \"%markdown\\ncell 10\", \"id\": \"ff1561f9-0589-470e-8921-0e99efd531bd\", \"metadata\": {\"brd\": {\"cell_id\": \"X13sZmlsZQ==\"}}, \"outputs\": [{\"output_type\": \"display_data\", \"data\": {\"text/markdown\": \"cell 10\\n\", \"text/plain\": \"<IPython.core.display.Markdown object>\"}, \"metadata\": {\"transient\": {}}}], \"execution_count\": 10}, {\"cell_type\": \"code\", \"source\": \"%SVG\\n<svg width=\\\"100\\\" height=\\\"20\\\" xmlns=\\\"http://www.w3.org/2000/svg\\\">\\n  <text x=\\\"10\\\" y=\\\"10\\\">cell 11</text>\\n</svg>\", \"id\": \"4af29770-5f76-4517-9816-fa408687dab1\", \"metadata\": {\"brd\": {\"cell_id\": \"X14sZmlsZQ==\"}}, \"outputs\": [{\"output_type\": \"display_data\", \"data\": {\"image/svg+xml\": \"<svg xmlns=\\\"http://www.w3.org/2000/svg\\\" width=\\\"100\\\" height=\\\"20\\\">\\n  <text x=\\\"10\\\" y=\\\"10\\\">cell 11</text>\\n</svg>\", \"text/plain\": \"<IPython.core.display.SVG object>\"}, \"metadata\": {\"transient\": {}, \"__displayOpenPlotIcon\": true}}], \"execution_count\": 11}, {\"cell_type\": \"code\", \"source\": \"# cell 12\\nW.IntSlider(12, description='cell')\", \"id\": \"e7e6d557-3aa7-41a7-9e77-805295112aec\", \"metadata\": {\"brd\": {\"cell_id\": \"X15sZmlsZQ==\"}}, \"outputs\": [{\"output_type\": \"execute_result\", \"data\": {\"application/vnd.jupyter.widget-view+json\": {\"version_major\": 2, \"version_minor\": 0, \"model_id\": \"6191b18d61a44fbd89eb132d22a28eab\"}, \"text/plain\": \"IntSlider(value=12, description='cell')\"}, \"execution_count\": 12, \"metadata\": {}}], \"execution_count\": 12}, {\"cell_type\": \"code\", \"source\": \"#| hide\\n# cell 13\\nw = W.Output()\\ndisplay(w)\\nwith w:\\n    print('cell 13.1')\\n    display('cell 13.2')\\n    display(HTML('cell 13.3'))\", \"id\": \"8af15850-3d11-4498-a037-ce8b1ac2a161\", \"metadata\": {\"brd\": {\"cell_id\": \"X16sZmlsZQ==\"}}, \"outputs\": [{\"output_type\": \"display_data\", \"data\": {\"application/vnd.jupyter.widget-view+json\": {\"version_major\": 2, \"version_minor\": 0, \"model_id\": \"a9408d195fb84649b38948893390ef10\"}, \"text/plain\": \"Output()\"}, \"metadata\": {\"transient\": {}}}], \"execution_count\": 13}, {\"cell_type\": \"code\", \"source\": \"# cell 14\\nfig = plt.figure(figsize=(4, 2.67))\\nplt.plot([1,2,3,4]);\", \"id\": \"3b388911-cc9e-40af-8746-3821be96cbbd\", \"metadata\": {\"brd\": {\"cell_id\": \"X20sZmlsZQ==\"}}, \"outputs\": [{\"output_type\": \"display_data\", \"data\": {\"image/png\": \"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\", \"text/plain\": \"<Figure size 400x267 with 1 Axes>\"}, \"metadata\": {\"transient\": {}, \"__displayOpenPlotIcon\": true}}], \"execution_count\": 14}, {\"cell_type\": \"code\", \"source\": \"#| export\\n# cell 15\\nImage('https://jupyter.org/assets/try/jupyter.png', metadata={'bridge': {'cell': 15}})\", \"id\": \"268197ce-b8c0-4365-84de-27d06bbb5c5c\", \"metadata\": {\"brd\": {\"cell_id\": \"X21sZmlsZQ==\"}}, \"outputs\": [{\"output_type\": \"execute_result\", \"data\": {\"image/png\": \"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\", \"text/plain\": \"<IPython.core.display.Image object>\"}, \"execution_count\": 15, \"metadata\": {\"__displayOpenPlotIcon\": true, \"image/png\": {\"bridge\": {\"cell\": 15}}}}], \"execution_count\": 15}, {\"cell_type\": \"code\", \"source\": \"# cell 16\\ndh = displaydh(display_id=True, metadata={'bridge': {'cell': 16}})\", \"id\": \"d90254ba-7457-4559-9544-afe201a808ca\", \"metadata\": {\"brd\": {\"cell_id\": \"X22sZmlsZQ==\"}}, \"outputs\": [{\"output_type\": \"display_data\", \"data\": {}, \"metadata\": {\"transient\": {\"display_id\": \"a6b5cc5f13bf64ce8dd73d0b79b0bef2\"}, \"bridge\": {\"cell\": 16}}}], \"execution_count\": 16}, {\"cell_type\": \"code\", \"source\": \"# cell 17\\ndh = displaydh(HTML('cell 17'), metadata={'bridge': {'cell': 17}})\", \"id\": \"91e5d05a-6a56-4649-b8ad-8eae1bbd6727\", \"metadata\": {\"brd\": {\"cell_id\": \"X23sZmlsZQ==\"}}, \"outputs\": [{\"output_type\": \"display_data\", \"data\": {\"text/html\": \"cell 18\", \"text/plain\": \"<IPython.core.display.HTML object>\"}, \"metadata\": {\"transient\": {\"display_id\": \"b0c4b491988399c7d88a82779528132d\"}, \"bridge\": {\"cell\": 18}}}], \"execution_count\": 17}, {\"cell_type\": \"code\", \"source\": \"# cell 18\\ndh.update(HTML('cell 18'), metadata={'bridge': {'cell': 18}})\", \"id\": \"05bc7556-dd06-4434-ba68-6d438ed2cf56\", \"metadata\": {\"brd\": {\"cell_id\": \"X24sZmlsZQ==\"}}, \"outputs\": [], \"execution_count\": 18}, {\"cell_type\": \"code\", \"source\": \"# cell 19\\ndisplaydh(JSON({'cell': 19}), metadata={'bridge': {'cell': 19}});\", \"id\": \"c3efb63f-adee-41c4-9450-9f489406b873\", \"metadata\": {\"brd\": {\"cell_id\": \"X25sZmlsZQ==\"}}, \"outputs\": [{\"output_type\": \"display_data\", \"data\": {\"application/json\": {\"cell\": 19}, \"text/plain\": \"<IPython.core.display.JSON object>\"}, \"metadata\": {\"transient\": {\"display_id\": \"e81dd25b299e4881aff6aec417c5bed9\"}, \"application/json\": {\"expanded\": false, \"root\": \"root\"}, \"bridge\": {\"cell\": 19}}}], \"execution_count\": 19}, {\"cell_type\": \"code\", \"source\": \"# cell 20\\ndisplay(W.IntSlider(20, description='cell'), metadata={'bridge': {'cell': 20}})\", \"id\": \"873e423a-4028-4d7d-9912-61cb29478c2a\", \"metadata\": {\"brd\": {\"cell_id\": \"X26sZmlsZQ==\"}}, \"outputs\": [{\"output_type\": \"display_data\", \"data\": {\"application/vnd.jupyter.widget-view+json\": {\"version_major\": 2, \"version_minor\": 0, \"model_id\": \"a2e5512c64244dd8919c79ca4f5df767\"}, \"text/plain\": \"IntSlider(value=20, description='cell')\"}, \"metadata\": {\"transient\": {}, \"bridge\": {\"cell\": 20}}}], \"execution_count\": 20}, {\"cell_type\": \"code\", \"source\": \"\", \"id\": \"9793d8a7-61fa-4651-9ce1-7b084c2258f9\", \"metadata\": {\"brd\": {\"cell_id\": \"X30sZmlsZQ==\"}}, \"outputs\": [], \"execution_count\": null}, {\"cell_type\": \"code\", \"source\": \"# cell 22\\n1/0\", \"id\": \"9cb695ff-382a-411e-b1c6-b7aaa921cbe4\", \"metadata\": {\"brd\": {\"cell_id\": \"X31sZmlsZQ==\"}}, \"outputs\": [{\"output_type\": \"error\", \"ename\": \"ZeroDivisionError\", \"evalue\": \"division by zero\", \"traceback\": [\"\\u001b[31m---------------------------------------------------------------------------\\u001b[39m\", \"\\u001b[31mZeroDivisionError\\u001b[39m                         Traceback (most recent call last)\", \"\\u001b[36mCell\\u001b[39m\\u001b[36m \\u001b[39m\\u001b[32mIn[21]\\u001b[39m\\u001b[32m, line 2\\u001b[39m\", \"\\u001b[32m      1\\u001b[39m \\u001b[38;5;66;03m# cell 22\\u001b[39;00m\", \"\\u001b[32m----> \\u001b[39m\\u001b[32m2\\u001b[39m \\u001b[32;43m1\\u001b[39;49m\\u001b[43m/\\u001b[49m\\u001b[32;43m0\\u001b[39;49m\", \"\", \"\\u001b[31mZeroDivisionError\\u001b[39m: division by zero\"]}], \"execution_count\": 21}, {\"cell_type\": \"markdown\", \"source\": \"# cell 23\", \"id\": \"52b08c54-a86f-41a4-a11c-0d74faf81bfd\", \"metadata\": {\"brd\": {\"cell_id\": \"X32sZmlsZQ==\"}}}, {\"cell_type\": \"code\", \"source\": \"# cell 24\\nfrom itertools import count\\nfrom bridget.helpers import displaydh\\nfrom IPython.display import HTML, Javascript, clear_output\\ncounter = count()\\ndh0 = displaydh(HTML('cell 24.0'), metadata={'bridge': {'cell': 24.0}})\\ndh1 = displaydh(\\n    {'application/x-notebook-state+json': {'feedback': True, 'hide': False, 'debug': True, 'id': next(counter)}}, \\n    raw=True, metadata={'bridge': {'cell': 24.1}})\", \"id\": \"e4bbb456-27fa-47d1-b95b-637b61e0e8f5\", \"metadata\": {\"brd\": {\"renderer\": true, \"cell_id\": \"X33sZmlsZQ==\"}}, \"outputs\": [{\"output_type\": \"display_data\", \"data\": {\"text/html\": \"cell 28\", \"text/plain\": \"<IPython.core.display.HTML object>\"}, \"metadata\": {\"transient\": {\"display_id\": \"17a535413c8fe54ee37fcbb955080974\"}, \"bridge\": {\"cell\": 28, \"cnt\": 3}}}, {\"output_type\": \"display_data\", \"data\": {\"text/plain\": \"\", \"application/x-notebook-state+json\": {\"debug\": true, \"id\": 9}}, \"metadata\": {\"transient\": {\"display_id\": \"4e0bb057682577c6b2e76798cfd1c72b\"}, \"bridge\": {\"cell\": 34}}}], \"execution_count\": 22}, {\"cell_type\": \"code\", \"source\": \"# cell 25\\ndh1.update({'application/x-notebook-state+json': {'id': next(counter), 'update': 'diff'}}, raw=True, \\n        metadata={'bridge': {'cell': 25}})\", \"id\": \"7e0e7b1b-9633-4035-9365-80799bceb2ae\", \"metadata\": {\"brd\": {\"cell_id\": \"X34sZmlsZQ==\"}}, \"outputs\": [], \"execution_count\": 23}, {\"cell_type\": \"code\", \"source\": \"# cell 26\\n_ = displaydh('cell 26.1', metadata={'bridge': {'cell': 26.1}})\\n_ = displaydh('cell 26.2', metadata={'bridge': {'cell': 26.2}})\", \"id\": \"5dc3eece-bec8-47c1-b409-0147dc8a7114\", \"metadata\": {\"brd\": {\"cell_id\": \"X35sZmlsZQ==\"}}, \"outputs\": [{\"output_type\": \"display_data\", \"data\": {\"text/plain\": \"'cell 26.1'\"}, \"metadata\": {\"transient\": {\"display_id\": \"c68769547e548a782744181ecf1b0300\"}, \"bridge\": {\"cell\": 26.1}}}, {\"output_type\": \"display_data\", \"data\": {\"text/plain\": \"'cell 26.2'\"}, \"metadata\": {\"transient\": {\"display_id\": \"856c65ace729d32c289b73e63449e0bb\"}, \"bridge\": {\"cell\": 26.2}}}], \"execution_count\": 24}, {\"cell_type\": \"code\", \"source\": \"# cell 27\\n_ = display('cell 27.1', metadata={'bridge': {'cell': 27.1}})\\n_ = display('cell 27.2', metadata={'bridge': {'cell': 27.2}})\", \"id\": \"246f66f3-e71d-4fd1-9041-40e32c38a56a\", \"metadata\": {\"brd\": {\"cell_id\": \"X36sZmlsZQ==\"}}, \"outputs\": [{\"output_type\": \"display_data\", \"data\": {\"text/plain\": \"'cell 27.1'\"}, \"metadata\": {\"transient\": {}, \"bridge\": {\"cell\": 27.1}}}, {\"output_type\": \"display_data\", \"data\": {\"text/plain\": \"'cell 27.2'\"}, \"metadata\": {\"transient\": {}, \"bridge\": {\"cell\": 27.2}}}], \"execution_count\": 25}, {\"cell_type\": \"code\", \"source\": \"# cell 28\\ndh1.update({'application/x-notebook-state+json': {'id': next(counter)}}, raw=True, \\n        metadata={'bridge': {'cell': 28}})\\ndh0.update(HTML('cell 28'), metadata={'bridge': {'cell': 28, 'cnt': next(counter)}})\", \"id\": \"2d5e3f49-cc7d-4af2-91f1-c2c0285346a4\", \"metadata\": {\"brd\": {\"cell_id\": \"X40sZmlsZQ==\"}}, \"outputs\": [], \"execution_count\": 26}, {\"cell_type\": \"code\", \"source\": \"# cell 29\\ndh1.update({'application/x-notebook-state+json': {'feedback': False, 'id': next(counter), 'update':'opts'}}, raw=True, \\n        metadata={'bridge': {'cell': 29}})\", \"id\": \"c8e29798-99e3-4834-9a4e-762f48bf8a63\", \"metadata\": {\"brd\": {\"cell_id\": \"X41sZmlsZQ==\"}}, \"outputs\": [], \"execution_count\": 27}, {\"cell_type\": \"code\", \"source\": \"# cell 30\\ndh1.update({'application/x-notebook-state+json': {'feedback': True, 'id': next(counter), 'update':'opts'}}, raw=True, \\n        metadata={'bridge': {'cell': 30}})\", \"id\": \"29682245-e83e-434e-b053-e5cb96535236\", \"metadata\": {\"brd\": {\"cell_id\": \"X42sZmlsZQ==\"}}, \"outputs\": [], \"execution_count\": 28}, {\"cell_type\": \"code\", \"source\": \"# cell 31\\ndh1.update({'application/x-notebook-state+json': {'hide': True, 'id': next(counter), 'update':'opts'}}, raw=True, \\n        metadata={'bridge': {'cell': 31}})\", \"id\": \"91796c88-1f45-4533-a75c-a646ceea4c8d\", \"metadata\": {\"brd\": {\"cell_id\": \"X43sZmlsZQ==\"}}, \"outputs\": [], \"execution_count\": 29}, {\"cell_type\": \"code\", \"source\": \"# cell 32\\ndh1.update({'application/x-notebook-state+json': {'hide': False, 'id': next(counter), 'update':'opts'}}, raw=True, \\n        metadata={'bridge': {'cell': 32}})\", \"id\": \"736d60ba-138a-4bb7-bdb4-fd1c2fb2c9a3\", \"metadata\": {\"brd\": {\"cell_id\": \"X44sZmlsZQ==\"}}, \"outputs\": [], \"execution_count\": 30}, {\"cell_type\": \"code\", \"source\": \"# cell 33\\ndh1.update({'application/x-notebook-state+json': {'debug': False, 'id': next(counter)}, 'update':'opts'}, raw=True, \\n        metadata={'bridge': {'cell': 33}})\", \"id\": \"1776b831-07d1-4ff7-aa55-6d2b828f2374\", \"metadata\": {\"brd\": {\"cell_id\": \"X45sZmlsZQ==\"}}, \"outputs\": [], \"execution_count\": 31}, {\"cell_type\": \"code\", \"source\": \"# cell 34\\ndh1.update({'application/x-notebook-state+json': {'debug': True, 'id': next(counter)}, 'update':'opts'}, raw=True, \\n        metadata={'bridge': {'cell': 34}})\", \"id\": \"ded37fc1-430a-46cc-ba92-5cd73735e5f2\", \"metadata\": {\"brd\": {\"cell_id\": \"X46sZmlsZQ==\"}}, \"outputs\": [], \"execution_count\": 32}, {\"cell_type\": \"code\", \"source\": \"# cell 35\\ndh2 = displaydh({'application/x-notebook-state+json': {'feedback': True, 'debug': True, 'id': next(counter)}}, \\n        raw=True, metadata={'bridge': {'cell': 35}})\\n# clear_output()\", \"id\": \"e7eb193d-f9fe-41b6-b817-1328963ff734\", \"metadata\": {\"brd\": {\"renderer\": true, \"cell_id\": \"X50sZmlsZQ==\"}}, \"outputs\": [{\"output_type\": \"display_data\", \"data\": {\"application/x-notebook-state+json\": \"{\\\"id\\\":11}\"}, \"metadata\": {\"transient\": {\"display_id\": \"8894c44ba611e5ac9b751df9df223d30\"}, \"bridge\": {\"cell\": 36, \"update\": true}}}], \"execution_count\": 33}, {\"cell_type\": \"code\", \"source\": \"# cell 36\\ndh2.update({'application/x-notebook-state+json': {'id': next(counter)}}, raw=True, \\n        metadata={'bridge': {'cell': 36, 'update': True}})\", \"id\": \"dae10da0-df1d-4e79-baec-528472d53959\", \"metadata\": {\"brd\": {\"cell_id\": \"X51sZmlsZQ==\"}}, \"outputs\": [], \"execution_count\": 34}, {\"cell_type\": \"code\", \"source\": \"from itertools import count\\nimport anywidget, time\\nfrom IPython.display import DisplayHandle\\nfrom bridget.helpers import displaydh\\n# from bridget.helpers import skip\\nimport ipywidgets as W\\n\\ncounter = count()\\n\\nclass TestWidget(anywidget.AnyWidget):\\n    _esm = '''debugger;\\nexport default { \\n    async initialize({ model }) {\\n        function on_msg(msg) {\\n            console.log(`++++ Received message:`, msg);\\n            if (window.$Nb) {\\n                msg.origin = document.location.href;\\n                window.$Nb.update(msg);\\n                return;\\n            }\\n            return model.send({ id: msg.id, response: 'no response' });\\n        }\\n        model.on(\\\"msg:custom\\\", on_msg);\\n        function on_stateChange(chg) {\\n            console.log('++++ on_state', chg.reqId, chg);\\n            model.send({ changes: chg });\\n        }\\n        let cleanup;\\n        if (window.$Nb) {\\n            cleanup = window.$Nb.addStateObserver(on_stateChange);\\n        }\\n        if (cleanup) return cleanup;\\n    }\\n};\\n    '''\\n    dh: DisplayHandle\\n    def __init__(self, *args, **kwargs):\\n        super().__init__(*args, **kwargs)\\n        self.on_msg(self._handle_message)\\n        self.out = W.Output()\\n        display(self.out)\\n        with self.out:\\n            print('Test widget, cell 35')\\n\\n    def _handle_message(self, w, msg, buffers):\\n        # self.dh.update(f'Received {msg=}, {buffers=}', metadata=skip(cell=35))\\n        self.msg = msg\\n        with self.out:\\n            print(f'Received {msg=}, {buffers=}')\\n\\nw = TestWidget()\", \"id\": \"28128a8f-b8a7-47db-8430-b45260f2f9f3\", \"metadata\": {\"brd\": {\"cell_id\": \"X52sZmlsZQ==\"}}, \"outputs\": [{\"output_type\": \"display_data\", \"data\": {\"application/vnd.jupyter.widget-view+json\": {\"version_major\": 2, \"version_minor\": 0, \"model_id\": \"bffa9610926e4f05acdc661b5bd3f592\"}, \"text/plain\": \"Output()\"}, \"metadata\": {\"transient\": {}}}], \"execution_count\": 35}, {\"cell_type\": \"code\", \"source\": \"# cell 38\\nw.send({'id': next(counter), 'update': 'full'})\", \"id\": \"622c7097-bc29-495d-bab2-71b53bbec98a\", \"metadata\": {\"brd\": {\"cell_id\": \"X53sZmlsZQ==\"}}, \"outputs\": [], \"execution_count\": 37}, {\"cell_type\": \"code\", \"source\": \"# cell 39\\ndh = displaydh(metadata={'bridge': {'cell': 39}})\", \"id\": \"8acb2751-93cd-4a6f-9f71-d36ef74abfba\", \"metadata\": {\"brd\": {\"cell_id\": \"X54sZmlsZQ==\"}}, \"outputs\": [], \"execution_count\": null}, {\"cell_type\": \"code\", \"source\": \"# cell 40\\nthis_id = next(counter)\\n_ = displaydh(metadata={'bridge': {'cell': 40, 'this': this_id}})\\n# nb.source.send({'cmd': 'get_state'}, timeout=5)\\n# clear_output(wait=True)\", \"id\": \"c01d8a36-c1fa-437d-a7cf-f369c4f66ecf\", \"metadata\": {\"brd\": {\"cell_id\": \"X55sZmlsZQ==\"}}, \"outputs\": [], \"execution_count\": null}, {\"cell_type\": \"code\", \"source\": \"# cell 41\\n# find_me\", \"id\": \"340489bf-419a-4da3-9b06-eb1b5cd6daba\", \"metadata\": {\"brd\": {\"cell_id\": \"X56sZmlsZQ==\"}}, \"outputs\": [], \"execution_count\": 7}], \"metadata\": {\"kernel_info\": {\"display_name\": \"Python 3\", \"language\": \"python\", \"name\": \"python3\"}, \"language_info\": {\"codemirror_mode\": {\"name\": \"ipython\", \"version\": 3}, \"file_extension\": \".py\", \"mimetype\": \"text/x-python\", \"name\": \"python\", \"nbconvert_exporter\": \"python\", \"pygments_lexer\": \"ipython3\", \"version\": \"3.12.11\"}}, \"nbformat\": 4, \"nbformat_minor\": 5}));\n",
       "        };\n",
       "        function loadRenderjson() {\n",
       "            if (window.renderjson) return Promise.resolve();\n",
       "            return new Promise((resolve, reject) => {\n",
       "                const script = document.createElement('script');\n",
       "                script.src = 'https://cdn.jsdelivr.net/npm/renderjson@latest/renderjson.js';\n",
       "                script.onload = resolve;\n",
       "                script.onerror = reject;\n",
       "                document.head.appendChild(script);\n",
       "            });\n",
       "        };\n",
       "        loadRenderjson().then(renderMyJson).catch(err => console.error('Failed to load renderjson:', err));\n",
       "    </script>\n",
       "</div>\n"
      ],
      "text/plain": [
       "<IPython.core.display.HTML object>"
      ]
     },
     "metadata": {
      "bridge": {
       "skip": true
      }
     },
     "output_type": "display_data"
    }
   ],
   "source": [
    "def f(c):\n",
    "    cc = deepcopy(c)\n",
    "    if in_vscode:\n",
    "        brd = cc['metadata']['brd']\n",
    "        # vscode cell_id is not well formed nbformat's cell id\n",
    "        brd['cell_id'], cc['id'] = cc['id'], brd['id']\n",
    "        del brd['id']\n",
    "    del cc['idx']\n",
    "    return cc\n",
    "\n",
    "cells = map(f, state['cells'])\n",
    "md = state['nbData']['metadata']\n",
    "nb_md = {\n",
    "    'kernel_info': md['metadata']['kernelspec'],\n",
    "}\n",
    "if 'language_info' in md['metadata']: nb_md['language_info'] = md['metadata']['language_info']\n",
    "nb = {\n",
    "\t'cells': list(cells)[:],\n",
    "\t'metadata': nb_md,\n",
    "\t'nbformat': md['nbformat'],\n",
    "\t'nbformat_minor': 5 # md['nbformat_minor']\n",
    "}\n",
    "RenderJSON(nb, init_level=2, max_height=400).display()"
   ]
  },
  {
   "cell_type": "code",
   "execution_count": null,
   "metadata": {},
   "outputs": [],
   "source": [
    "nb = nbformat.reads(json.dumps(nb), as_version=nbformat.NO_CONVERT, capture_validation_error=(derr := {}))\n",
    "test_eq(derr, {})"
   ]
  },
  {
   "cell_type": "markdown",
   "metadata": {},
   "source": [
    "# NBCell\n",
    "\n",
    "Note: though using `AD` for convenience, `NBCell` should be considered immutable.\n"
   ]
  },
  {
   "cell_type": "code",
   "execution_count": null,
   "metadata": {},
   "outputs": [],
   "source": [
    "#| export\n",
    "\n",
    "CellTypesT: TypeAlias = Literal['code', 'markdown']\n",
    "\n",
    "copycell = op.methodcaller('copy')\n",
    "\n",
    "def _relevant_kw(o, kw:Mapping):\n",
    "    ks = tuple(FC.flatten(map(inspect.get_annotations, type(o).mro())))\n",
    "    return FC.filter_keys(kw, FC.in_(ks))  # type: ignore\n",
    "\n",
    "\n",
    "class NBCell(AD, metaclass=FC.NewChkMeta):\n",
    "    idx: str\n",
    "    cell_type: str\n",
    "    source: str\n",
    "    metadata: dict\n",
    "    id: str\n",
    "    def __new__(cls, cell: Mapping):\n",
    "        if cls is NBCell: cls = _CTYP[cell.get('cell_type', 'raw')]\n",
    "        return AD.__new__(cls, cell)\n",
    "    def __init__(self, cell: Mapping):\n",
    "        super().__init__(_relevant_kw(self, cell))\n",
    "        self.source = ''.join(getattr(self, 'source', ()))\n",
    "    def __ft__(self): return DetailsJSON(self, openall=True).__ft__()\n",
    "    def _repr_markdown_(self): \n",
    "        return f'> {self.get('cell_type', 'raw')}\\n\\n```json\\n{pretty_repr(self, indent_size=2, max_width=120)}\\n```'\n",
    "    def _repr_html_(self): return to_xml(DetailsJSON(self, summary=f\"NBCell@{self.idx}\", openall=True, skip=('application/json', 'metadata')))\n",
    "    def copy(self) -> NBCell: return NBCell(dict(self))\n",
    "    \n",
    "    @cached_property\n",
    "    def directives_(self) -> dict[str, list[str]]: return extract_directives(self, False)\n",
    "    def has_directive(self, directive: str, *args): return has_directive(self, directive, *args)\n",
    "    @cached_property\n",
    "    def hidden(self): return has_directive(self, 'hide') or has_directive(self, 'include', 'false')\n",
    "\n",
    "\n",
    "class NBCellRaw(NBCell): attachments: dict\n",
    "class NBCellMarkdown(NBCellRaw):...\n",
    "class NBCellCode(NBCell): \n",
    "    outputs: list[NBOutput]\n",
    "    execution_count: int | None\n",
    "    def __init__(self, cell: Mapping):\n",
    "        super().__init__(cell)\n",
    "        self.outputs = list(NBOutput(o) for o in cell.get('outputs', []))\n",
    "\n",
    "\n",
    "class NBOutput(AD, metaclass=FC.NewChkMeta): \n",
    "    output_type: str\n",
    "    def __new__(cls, out: Mapping):\n",
    "        if cls is NBOutput: cls = _OUTTYP[out.get('output_type', 'stream')]\n",
    "        return AD.__new__(cls, out)\n",
    "    def __init__(self, out: Mapping):\n",
    "        ks = tuple(FC.flatten(map(inspect.get_annotations, type(self).mro())))\n",
    "        out = FC.filter_keys(out, FC.in_(ks))  # type: ignore\n",
    "        super().__init__(out)\n",
    "\n",
    "class NBOutputStream(NBOutput):\n",
    "    name: Literal['stdout', 'stderr']\n",
    "    text: str\n",
    "\n",
    "class NBOutputDisplayData(NBOutput):\n",
    "    data: dict\n",
    "    metadata: dict\n",
    "\n",
    "class NBOutputExecuteResult(NBOutput):\n",
    "    execution_count: int\n",
    "    data: dict\n",
    "    metadata: dict\n",
    "\n",
    "class NBOutputError(NBOutput):\n",
    "    ename: str\n",
    "    evalue: str\n",
    "    traceback: list[str]\n",
    "\n",
    "\n",
    "_CTYP = {'raw':NBCellRaw, 'markdown':NBCellMarkdown, 'code':NBCellCode}\n",
    "# _CTYPInv = {v:k for k,v in _CTYP.items()}\n",
    "_OUTTYP = {'stream':NBOutputStream, 'display_data':NBOutputDisplayData, 'execute_result':NBOutputExecuteResult, 'error':NBOutputError}\n",
    "# _OUTTYPInv = {v:k for k,v in _OUTTYP.items()}\n",
    "\n",
    "def has_directive(c: NBCell, directive: str, *args):\n",
    "    return directive in c.directives_ and c.directives_[directive] == list(args)"
   ]
  },
  {
   "cell_type": "code",
   "execution_count": null,
   "metadata": {},
   "outputs": [],
   "source": [
    "test_eq(NBCell({}), NBCellRaw({}))\n",
    "test_eq(NBCell(AD(cell_type='markdown')), {'cell_type': 'markdown', 'source': ''})\n",
    "test_eq(\n",
    "    NBCell(AD(cell_type='code', source='print(\"hello\")')), \n",
    "    {'cell_type': 'code', 'source': 'print(\"hello\")', 'outputs': []})\n",
    "test_eq(\n",
    "    NBCell(\n",
    "        AD(cell_type='code', source='display(\"hello\")', \n",
    "            outputs=[AD(output_type='display_data', data={'text/plain': 'hello'})])),\n",
    "    {'cell_type': 'code', 'source': 'display(\"hello\")', 'outputs': [AD(output_type='display_data', data={'text/plain': 'hello'})]})\n",
    "test_eq(\n",
    "    NBCell({\n",
    "        'cell_type': 'code',\n",
    "        'source': \"display(HTML('cell 4'))\\n\",\n",
    "        'outputs': ({\n",
    "            'output_type': 'display_data',\n",
    "            'data': {'text/html': 'cell 4', 'text/plain': '<IPython.core.display.HTML object>'},\n",
    "            },)}),\n",
    "    {'cell_type': 'code', 'source': \"display(HTML('cell 4'))\\n\", 'outputs': [AD(output_type='display_data', data={'text/html': 'cell 4', 'text/plain': '<IPython.core.display.HTML object>'})]})"
   ]
  },
  {
   "cell_type": "code",
   "execution_count": null,
   "metadata": {},
   "outputs": [],
   "source": [
    "c1 = NBCell(dict(cell_type='code', source='display(\"hello\")'))\n",
    "c2 = NBCell(c1)\n",
    "test_is(c1, c2)\n",
    "\n",
    "c3 = c2.copy()\n",
    "test_is(c1 is c3, False)\n",
    "test_eq(c1.source, c3.source)\n",
    "test_eq(c1.outputs, c3.outputs)"
   ]
  },
  {
   "cell_type": "code",
   "execution_count": null,
   "metadata": {},
   "outputs": [
    {
     "data": {
      "text/plain": [
       "{'idx': 1,\n",
       " 'cell_type': 'code',\n",
       " 'source': '# cell 1\\nimport time\\nfrom itertools import count\\n\\nimport ipywidgets as W\\nimport matplotlib.pyplot as plt\\nfrom bridget.helpers import displaydh\\nfrom IPython.display import HTML, Image, Javascript, JSON, DisplayHandle, clear_output\\ncounter = count()',\n",
       " 'id': 'W1sZmlsZQ==',\n",
       " 'metadata': {'brd': {'id': '717322f8-95fa-425c-839d-8b9e7d4ef921'}},\n",
       " 'outputs': [],\n",
       " 'execution_count': 1}"
      ]
     },
     "execution_count": null,
     "metadata": {},
     "output_type": "execute_result"
    }
   ],
   "source": [
    "state['cells'][1]"
   ]
  },
  {
   "cell_type": "code",
   "execution_count": null,
   "metadata": {},
   "outputs": [
    {
     "data": {
      "text/html": [
       "<style>details ul { list-style-type:none; list-style-position: outside; padding-inline-start: 22px; margin: 0; } details .string { color: #24837b; } details .string::before { content: \"'\"; } details .string::after { content: \"'\"; } details .number { color: #ad8301; } details .true { color: blue; } details .false { color: red; } details .null { color: gray; } span.n { color: darkgrey; } </style>\n",
       "<details open><summary>NBCell@1\n",
       "</summary>  <ul>\n",
       "    <li>\n",
       "<span><span class=\"n\">idx</span>: <span class=\"v number\">1</span></span>    </li>\n",
       "    <li>\n",
       "<span><span class=\"n\">cell_type</span>: <span class=\"v string\">code</span></span>    </li>\n",
       "    <li>\n",
       "<span><span class=\"n\">source</span>: <span class=\"v string\"># cell 1\n",
       "import time\n",
       "from itertools import count\n",
       "\n",
       "import ipywidgets as W\n",
       "import matplotlib.pyplot as plt\n",
       "from bridget.helpers import display…</span></span>    </li>\n",
       "    <li>\n",
       "<span><span class=\"n\">id</span>: <span class=\"v string\">W1sZmlsZQ==</span></span>    </li>\n",
       "    <li>\n",
       "<span><span class=\"n\">metadata</span>: <span class=\"v \">{&#x27;brd&#x27;: {&#x27;id&#x27;: &#x27;717322f8-95fa-425c-839d-8b9e7d4ef921&#x27;}}</span></span>    </li>\n",
       "<details open><summary>outputs\n",
       "</summary>      <ul></ul>\n",
       "</details>    <li>\n",
       "<span><span class=\"n\">execution_count</span>: <span class=\"v number\">1</span></span>    </li>\n",
       "  </ul>\n",
       "</details>"
      ],
      "text/markdown": [
       "> code\n",
       "\n",
       "```json\n",
       "{\n",
       "  'idx': 1,\n",
       "  'cell_type': 'code',\n",
       "  'source': '# cell 1\\nimport time\\nfrom itertools import count\\n\\nimport ipywidgets as W\\nimport matplotlib.pyplot as plt\\nfrom bridget.helpers import displaydh\\nfrom IPython.display import HTML, Image, Javascript, JSON, DisplayHandle, clear_output\\ncounter = count()',\n",
       "  'id': 'W1sZmlsZQ==',\n",
       "  'metadata': {'brd': {'id': '717322f8-95fa-425c-839d-8b9e7d4ef921'}},\n",
       "  'outputs': [],\n",
       "  'execution_count': 1\n",
       "}\n",
       "```"
      ],
      "text/plain": [
       "{'idx': 1,\n",
       " 'cell_type': 'code',\n",
       " 'source': '# cell 1\\nimport time\\nfrom itertools import count\\n\\nimport ipywidgets as W\\nimport matplotlib.pyplot as plt\\nfrom bridget.helpers import displaydh\\nfrom IPython.display import HTML, Image, Javascript, JSON, DisplayHandle, clear_output\\ncounter = count()',\n",
       " 'id': 'W1sZmlsZQ==',\n",
       " 'metadata': {'brd': {'id': '717322f8-95fa-425c-839d-8b9e7d4ef921'}},\n",
       " 'outputs': [],\n",
       " 'execution_count': 1}"
      ]
     },
     "execution_count": null,
     "metadata": {},
     "output_type": "execute_result"
    }
   ],
   "source": [
    "NBCell(state['cells'][1])"
   ]
  },
  {
   "cell_type": "code",
   "execution_count": null,
   "metadata": {},
   "outputs": [
    {
     "data": {
      "text/html": [
       "<style>details ul { list-style-type:none; list-style-position: outside; padding-inline-start: 22px; margin: 0; } details .string { color: #24837b; } details .string::before { content: \"'\"; } details .string::after { content: \"'\"; } details .number { color: #ad8301; } details .true { color: blue; } details .false { color: red; } details .null { color: gray; } span.n { color: darkgrey; } </style>\n",
       "<details open><summary>NBCell@2\n",
       "</summary>  <ul>\n",
       "    <li>\n",
       "<span><span class=\"n\">idx</span>: <span class=\"v number\">2</span></span>    </li>\n",
       "    <li>\n",
       "<span><span class=\"n\">cell_type</span>: <span class=\"v string\">code</span></span>    </li>\n",
       "    <li>\n",
       "<span><span class=\"n\">source</span>: <span class=\"v string\"># cell 2\n",
       "print(1)</span></span>    </li>\n",
       "    <li>\n",
       "<span><span class=\"n\">id</span>: <span class=\"v string\">W2sZmlsZQ==</span></span>    </li>\n",
       "    <li>\n",
       "<span><span class=\"n\">metadata</span>: <span class=\"v \">{&#x27;brd&#x27;: {&#x27;id&#x27;: &#x27;92f3e304-fd32-4de2-badf-11577f9e7a4a&#x27;}}</span></span>    </li>\n",
       "<details open><summary>outputs\n",
       "</summary>      <ul>\n",
       "<details open><summary>0\n",
       "</summary>          <ul>\n",
       "            <li>\n",
       "<span><span class=\"n\">output_type</span>: <span class=\"v string\">stream</span></span>            </li>\n",
       "            <li>\n",
       "<span><span class=\"n\">name</span>: <span class=\"v string\">stdout</span></span>            </li>\n",
       "            <li>\n",
       "<span><span class=\"n\">text</span>: <span class=\"v string\">1\n",
       "</span></span>            </li>\n",
       "          </ul>\n",
       "</details>      </ul>\n",
       "</details>    <li>\n",
       "<span><span class=\"n\">execution_count</span>: <span class=\"v number\">2</span></span>    </li>\n",
       "  </ul>\n",
       "</details>"
      ],
      "text/markdown": [
       "> code\n",
       "\n",
       "```json\n",
       "{\n",
       "  'idx': 2,\n",
       "  'cell_type': 'code',\n",
       "  'source': '# cell 2\\nprint(1)',\n",
       "  'id': 'W2sZmlsZQ==',\n",
       "  'metadata': {'brd': {'id': '92f3e304-fd32-4de2-badf-11577f9e7a4a'}},\n",
       "  'outputs': [{'output_type': 'stream', 'name': 'stdout', 'text': '1\\n'}],\n",
       "  'execution_count': 2\n",
       "}\n",
       "```"
      ],
      "text/plain": [
       "{'idx': 2,\n",
       " 'cell_type': 'code',\n",
       " 'source': '# cell 2\\nprint(1)',\n",
       " 'id': 'W2sZmlsZQ==',\n",
       " 'metadata': {'brd': {'id': '92f3e304-fd32-4de2-badf-11577f9e7a4a'}},\n",
       " 'outputs': [{'output_type': 'stream', 'name': 'stdout', 'text': '1\\n'}],\n",
       " 'execution_count': 2}"
      ]
     },
     "execution_count": null,
     "metadata": {},
     "output_type": "execute_result"
    }
   ],
   "source": [
    "cell = NBCell(state['cells'][2])\n",
    "test_is(type(cell), NBCellCode)\n",
    "test_eq_type(cell.outputs[0], NBOutput(AD(output_type='stream', name='stdout', text='1\\n')))\n",
    "cell"
   ]
  },
  {
   "cell_type": "code",
   "execution_count": null,
   "metadata": {},
   "outputs": [
    {
     "data": {
      "text/html": [
       "<style>details ul { list-style-type:none; list-style-position: outside; padding-inline-start: 22px; margin: 0; } details .string { color: #24837b; } details .string::before { content: \"'\"; } details .string::after { content: \"'\"; } details .number { color: #ad8301; } details .true { color: blue; } details .false { color: red; } details .null { color: gray; } span.n { color: darkgrey; } </style>\n",
       "<details open><summary>NBCell@4\n",
       "</summary>  <ul>\n",
       "    <li>\n",
       "<span><span class=\"n\">idx</span>: <span class=\"v number\">4</span></span>    </li>\n",
       "    <li>\n",
       "<span><span class=\"n\">cell_type</span>: <span class=\"v string\">code</span></span>    </li>\n",
       "    <li>\n",
       "<span><span class=\"n\">source</span>: <span class=\"v string\"># cell 4\n",
       "import time\n",
       "time.sleep(2)\n",
       "displaydh(HTML(&#x27;cell 4&#x27;), metadata={&#x27;bridge&#x27;: {&#x27;cell&#x27;: 4}});</span></span>    </li>\n",
       "    <li>\n",
       "<span><span class=\"n\">id</span>: <span class=\"v string\">W4sZmlsZQ==</span></span>    </li>\n",
       "    <li>\n",
       "<span><span class=\"n\">metadata</span>: <span class=\"v \">{&#x27;brd&#x27;: {&#x27;id&#x27;: &#x27;798f7f83-9b31-4e21-a36b-5520c6f72a2d&#x27;}}</span></span>    </li>\n",
       "<details open><summary>outputs\n",
       "</summary>      <ul>\n",
       "<details open><summary>0\n",
       "</summary>          <ul>\n",
       "            <li>\n",
       "<span><span class=\"n\">output_type</span>: <span class=\"v string\">display_data</span></span>            </li>\n",
       "<details open><summary>data\n",
       "</summary>              <ul>\n",
       "                <li>\n",
       "<span><span class=\"n\">text/html</span>: <span class=\"v string\">cell 4</span></span>                </li>\n",
       "                <li>\n",
       "<span><span class=\"n\">text/plain</span>: <span class=\"v string\">&lt;IPython.core.display.HTML object&gt;</span></span>                </li>\n",
       "              </ul>\n",
       "</details>            <li>\n",
       "<span><span class=\"n\">metadata</span>: <span class=\"v \">{&#x27;transient&#x27;: {&#x27;display_id&#x27;: &#x27;2ffe60c5c571592fc61fe81faab39e34&#x27;}, &#x27;bridge&#x27;: {&#x27;cell&#x27;: 4}}</span></span>            </li>\n",
       "          </ul>\n",
       "</details>      </ul>\n",
       "</details>    <li>\n",
       "<span><span class=\"n\">execution_count</span>: <span class=\"v number\">4</span></span>    </li>\n",
       "  </ul>\n",
       "</details>"
      ],
      "text/markdown": [
       "> code\n",
       "\n",
       "```json\n",
       "{\n",
       "  'idx': 4,\n",
       "  'cell_type': 'code',\n",
       "  'source': \"# cell 4\\nimport time\\ntime.sleep(2)\\ndisplaydh(HTML('cell 4'), metadata={'bridge': {'cell': 4}});\",\n",
       "  'id': 'W4sZmlsZQ==',\n",
       "  'metadata': {'brd': {'id': '798f7f83-9b31-4e21-a36b-5520c6f72a2d'}},\n",
       "  'outputs': [\n",
       "    {\n",
       "      'output_type': 'display_data',\n",
       "      'data': {'text/html': 'cell 4', 'text/plain': '<IPython.core.display.HTML object>'},\n",
       "      'metadata': {'transient': {'display_id': '2ffe60c5c571592fc61fe81faab39e34'}, 'bridge': {'cell': 4}}\n",
       "    }\n",
       "  ],\n",
       "  'execution_count': 4\n",
       "}\n",
       "```"
      ],
      "text/plain": [
       "{'idx': 4,\n",
       " 'cell_type': 'code',\n",
       " 'source': \"# cell 4\\nimport time\\ntime.sleep(2)\\ndisplaydh(HTML('cell 4'), metadata={'bridge': {'cell': 4}});\",\n",
       " 'id': 'W4sZmlsZQ==',\n",
       " 'metadata': {'brd': {'id': '798f7f83-9b31-4e21-a36b-5520c6f72a2d'}},\n",
       " 'outputs': [{'output_type': 'display_data',\n",
       "   'data': {'text/html': 'cell 4',\n",
       "    'text/plain': '<IPython.core.display.HTML object>'},\n",
       "   'metadata': {'transient': {'display_id': '2ffe60c5c571592fc61fe81faab39e34'},\n",
       "    'bridge': {'cell': 4}}}],\n",
       " 'execution_count': 4}"
      ]
     },
     "execution_count": null,
     "metadata": {},
     "output_type": "execute_result"
    }
   ],
   "source": [
    "cell = NBCell(state['cells'][4])\n",
    "test_is(type(cell), NBCellCode)\n",
    "cell"
   ]
  },
  {
   "cell_type": "markdown",
   "metadata": {},
   "source": [
    "## did"
   ]
  },
  {
   "cell_type": "code",
   "execution_count": null,
   "metadata": {},
   "outputs": [
    {
     "data": {
      "text/plain": [
       "'2ffe60c5c571592fc61fe81faab39e34'"
      ]
     },
     "execution_count": null,
     "metadata": {},
     "output_type": "execute_result"
    }
   ],
   "source": [
    "nested_idx(cell, 'outputs', 0, 'metadata', 'transient', 'display_id')"
   ]
  },
  {
   "cell_type": "code",
   "execution_count": null,
   "metadata": {},
   "outputs": [],
   "source": [
    "test_eq(nested_idx(NBCell(state['cells'][0]), 'outputs', 0, 'metadata', 'transient', 'display_id'), None)"
   ]
  },
  {
   "cell_type": "code",
   "execution_count": null,
   "metadata": {},
   "outputs": [
    {
     "data": {
      "text/plain": [
       "'9d0548d3b88c66b7def8b47bbe5a12dd'"
      ]
     },
     "execution_count": null,
     "metadata": {},
     "output_type": "execute_result"
    }
   ],
   "source": [
    "nested_idx(getattr(NBCell(state['cells'][3]), 'outputs'), 0, 'metadata', 'transient', 'display_id')"
   ]
  },
  {
   "cell_type": "code",
   "execution_count": null,
   "metadata": {},
   "outputs": [
    {
     "data": {
      "text/markdown": [
       "```json\n",
       "{ 'data': { 'text/html': '<h3>cell 8</h3>\\n',\n",
       "            'text/plain': '<IPython.core.display.HTML object>'},\n",
       "  'metadata': {'transient': {}},\n",
       "  'output_type': 'display_data'}\n",
       "```"
      ],
      "text/plain": [
       "{'output_type': 'display_data',\n",
       " 'data': {'text/html': '<h3>cell 8</h3>\\n',\n",
       "  'text/plain': '<IPython.core.display.HTML object>'},\n",
       " 'metadata': {'transient': {}}}"
      ]
     },
     "metadata": {},
     "output_type": "display_data"
    },
    {
     "data": {
      "text/plain": [
       "({}, None)"
      ]
     },
     "execution_count": null,
     "metadata": {},
     "output_type": "execute_result"
    }
   ],
   "source": [
    "cell = NBCell(state['cells'][8])\n",
    "display(cell.outputs[0])\n",
    "nested_idx(cell, 'outputs', 0, 'metadata', 'transient', 'display_id'), val_atpath(cell, 'outputs', 0, 'metadata', 'transient', 'display_id', default=None)"
   ]
  },
  {
   "cell_type": "markdown",
   "metadata": {},
   "source": [
    "can't use `nexsted_idx`."
   ]
  },
  {
   "cell_type": "code",
   "execution_count": null,
   "metadata": {},
   "outputs": [],
   "source": [
    "#| export\n",
    "\n",
    "def did(o:NBOutput) -> str|None:\n",
    "    if not (o and o['output_type'] == 'display_data'): return None\n",
    "    md = o.metadata\n",
    "    return md.get('brd_did') or val_atpath(md, 'transient', 'display_id', default=None) or None\n",
    "\n",
    "FC.patch(did, as_prop=True)"
   ]
  },
  {
   "cell_type": "code",
   "execution_count": null,
   "metadata": {},
   "outputs": [
    {
     "data": {
      "text/markdown": [
       "```json\n",
       "{ 'data': { 'text/html': 'cell 4',\n",
       "            'text/plain': '<IPython.core.display.HTML object>'},\n",
       "  'metadata': { 'bridge': {'cell': 4},\n",
       "                'transient': { 'display_id': '2ffe60c5c571592fc61fe81faab39e34'}},\n",
       "  'output_type': 'display_data'}\n",
       "```"
      ],
      "text/plain": [
       "{'output_type': 'display_data',\n",
       " 'data': {'text/html': 'cell 4',\n",
       "  'text/plain': '<IPython.core.display.HTML object>'},\n",
       " 'metadata': {'transient': {'display_id': '2ffe60c5c571592fc61fe81faab39e34'},\n",
       "  'bridge': {'cell': 4}}}"
      ]
     },
     "metadata": {},
     "output_type": "display_data"
    }
   ],
   "source": [
    "# type: ignore\n",
    "\n",
    "cell = NBCell(state['cells'][4])\n",
    "display(cell.outputs[0])\n",
    "\n",
    "test_eq(did(cell.outputs[0]), cell.outputs[0]['metadata']['transient']['display_id'])\n",
    "test_eq(cell.outputs[0].did, cell.outputs[0]['metadata']['transient']['display_id'])"
   ]
  },
  {
   "cell_type": "code",
   "execution_count": null,
   "metadata": {},
   "outputs": [
    {
     "data": {
      "text/markdown": [
       "```json\n",
       "{'name': 'stdout', 'output_type': 'stream', 'text': '1\\n'}\n",
       "```"
      ],
      "text/plain": [
       "{'output_type': 'stream', 'name': 'stdout', 'text': '1\\n'}"
      ]
     },
     "metadata": {},
     "output_type": "display_data"
    }
   ],
   "source": [
    "cell = NBCell(state['cells'][2])\n",
    "display(cell.outputs[0])\n",
    "test_eq(did(cell.outputs[0]), None)"
   ]
  },
  {
   "cell_type": "code",
   "execution_count": null,
   "metadata": {},
   "outputs": [
    {
     "data": {
      "text/markdown": [
       "```json\n",
       "{ 'data': { 'text/html': '<h3>cell 8</h3>\\n',\n",
       "            'text/plain': '<IPython.core.display.HTML object>'},\n",
       "  'metadata': {'transient': {}},\n",
       "  'output_type': 'display_data'}\n",
       "```"
      ],
      "text/plain": [
       "{'output_type': 'display_data',\n",
       " 'data': {'text/html': '<h3>cell 8</h3>\\n',\n",
       "  'text/plain': '<IPython.core.display.HTML object>'},\n",
       " 'metadata': {'transient': {}}}"
      ]
     },
     "metadata": {},
     "output_type": "display_data"
    }
   ],
   "source": [
    "cell = NBCell(state['cells'][8])\n",
    "display(cell.outputs[0])"
   ]
  },
  {
   "cell_type": "code",
   "execution_count": null,
   "metadata": {},
   "outputs": [
    {
     "data": {
      "text/markdown": [
       "```json\n",
       "{ 'data': { 'text/html': '<h3>cell 8</h3>\\n',\n",
       "            'text/plain': '<IPython.core.display.HTML object>'},\n",
       "  'metadata': {'transient': {}},\n",
       "  'output_type': 'display_data'}\n",
       "```"
      ],
      "text/plain": [
       "{'output_type': 'display_data',\n",
       " 'data': {'text/html': '<h3>cell 8</h3>\\n',\n",
       "  'text/plain': '<IPython.core.display.HTML object>'},\n",
       " 'metadata': {'transient': {}}}"
      ]
     },
     "metadata": {},
     "output_type": "display_data"
    }
   ],
   "source": [
    "cell = NBCell(state['cells'][8])\n",
    "display(cell.outputs[0])\n",
    "test_eq(did(cell.outputs[0]), None)"
   ]
  },
  {
   "cell_type": "markdown",
   "metadata": {},
   "source": [
    "## dids"
   ]
  },
  {
   "cell_type": "code",
   "execution_count": null,
   "metadata": {},
   "outputs": [],
   "source": [
    "#| export\n",
    "\n",
    "def dids(o:NBCell)->L[str]: return L(o.outputs if 'outputs' in o else () ).map(did).filter() # type: ignore\n",
    "\n",
    "FC.patch(dids, as_prop=True)"
   ]
  },
  {
   "cell_type": "code",
   "execution_count": null,
   "metadata": {},
   "outputs": [
    {
     "data": {
      "text/plain": [
       "[{'output_type': 'display_data',\n",
       "  'data': {'application/javascript': 'console.log(\"cell 5\")',\n",
       "   'text/plain': '<IPython.core.display.Javascript object>'},\n",
       "  'metadata': {'transient': {'display_id': 'b970be042e0ebd1e5af19aadcfbf213e'},\n",
       "   'bridge': {'cell': 5}}}]"
      ]
     },
     "metadata": {},
     "output_type": "display_data"
    }
   ],
   "source": [
    "cell = NBCell(state['cells'][5])\n",
    "display(cell.outputs)\n",
    "test_eq(cell.dids, [cell.outputs[0].did])"
   ]
  },
  {
   "cell_type": "code",
   "execution_count": null,
   "metadata": {},
   "outputs": [],
   "source": [
    "test_eq(NBCell(state['cells'][1]).dids, [])"
   ]
  },
  {
   "cell_type": "code",
   "execution_count": null,
   "metadata": {},
   "outputs": [
    {
     "data": {
      "text/plain": [
       "{'idx': 2,\n",
       " 'cell_type': 'code',\n",
       " 'source': '# cell 2\\nprint(1)',\n",
       " 'id': 'W2sZmlsZQ==',\n",
       " 'metadata': {'brd': {'id': '92f3e304-fd32-4de2-badf-11577f9e7a4a'}},\n",
       " 'outputs': [{'output_type': 'stream', 'name': 'stdout', 'text': '1\\n'}],\n",
       " 'execution_count': 2}"
      ]
     },
     "metadata": {},
     "output_type": "display_data"
    }
   ],
   "source": [
    "display(state['cells'][2])\n",
    "test_eq(NBCell(state['cells'][1]).dids, [])"
   ]
  },
  {
   "cell_type": "code",
   "execution_count": null,
   "metadata": {},
   "outputs": [
    {
     "data": {
      "text/html": [
       "<style>details ul { list-style-type:none; list-style-position: outside; padding-inline-start: 22px; margin: 0; } details .string { color: #24837b; } details .string::before { content: \"'\"; } details .string::after { content: \"'\"; } details .number { color: #ad8301; } details .true { color: blue; } details .false { color: red; } details .null { color: gray; } span.n { color: darkgrey; } </style>\n",
       "<details open><summary>NBCell@7\n",
       "</summary>  <ul>\n",
       "    <li>\n",
       "<span><span class=\"n\">idx</span>: <span class=\"v number\">7</span></span>    </li>\n",
       "    <li>\n",
       "<span><span class=\"n\">cell_type</span>: <span class=\"v string\">code</span></span>    </li>\n",
       "    <li>\n",
       "<span><span class=\"n\">source</span>: <span class=\"v string\"># cell 7\n",
       "displaydh(HTML(&#x27;cell 7.1&#x27;), metadata={&#x27;bridge&#x27;: {&#x27;cell&#x27;: 7.1}})\n",
       "displaydh(HTML(&#x27;cell 7.2&#x27;), metadata={&#x27;bridge&#x27;: {&#x27;cell&#x27;: 7.2}});</span></span>    </li>\n",
       "    <li>\n",
       "<span><span class=\"n\">id</span>: <span class=\"v string\">X10sZmlsZQ==</span></span>    </li>\n",
       "    <li>\n",
       "<span><span class=\"n\">metadata</span>: <span class=\"v \">{&#x27;brd&#x27;: {&#x27;id&#x27;: &#x27;7512abfe-f7d2-4047-a6b1-56aefbf9457e&#x27;}}</span></span>    </li>\n",
       "<details open><summary>outputs\n",
       "</summary>      <ul>\n",
       "<details open><summary>0\n",
       "</summary>          <ul>\n",
       "            <li>\n",
       "<span><span class=\"n\">output_type</span>: <span class=\"v string\">display_data</span></span>            </li>\n",
       "<details open><summary>data\n",
       "</summary>              <ul>\n",
       "                <li>\n",
       "<span><span class=\"n\">text/html</span>: <span class=\"v string\">cell 7.1</span></span>                </li>\n",
       "                <li>\n",
       "<span><span class=\"n\">text/plain</span>: <span class=\"v string\">&lt;IPython.core.display.HTML object&gt;</span></span>                </li>\n",
       "              </ul>\n",
       "</details>            <li>\n",
       "<span><span class=\"n\">metadata</span>: <span class=\"v \">{&#x27;transient&#x27;: {&#x27;display_id&#x27;: &#x27;331d2582eb05fdc75afaa4c616fc8b6c&#x27;}, &#x27;bridge&#x27;: {&#x27;cell&#x27;: 7.1}}</span></span>            </li>\n",
       "          </ul>\n",
       "</details><details open><summary>1\n",
       "</summary>          <ul>\n",
       "            <li>\n",
       "<span><span class=\"n\">output_type</span>: <span class=\"v string\">display_data</span></span>            </li>\n",
       "<details open><summary>data\n",
       "</summary>              <ul>\n",
       "                <li>\n",
       "<span><span class=\"n\">text/html</span>: <span class=\"v string\">cell 7.2</span></span>                </li>\n",
       "                <li>\n",
       "<span><span class=\"n\">text/plain</span>: <span class=\"v string\">&lt;IPython.core.display.HTML object&gt;</span></span>                </li>\n",
       "              </ul>\n",
       "</details>            <li>\n",
       "<span><span class=\"n\">metadata</span>: <span class=\"v \">{&#x27;transient&#x27;: {&#x27;display_id&#x27;: &#x27;bbb4397c26ce0c3fb2f1acddc6ce91b1&#x27;}, &#x27;bridge&#x27;: {&#x27;cell&#x27;: 7.2}}</span></span>            </li>\n",
       "          </ul>\n",
       "</details>      </ul>\n",
       "</details>    <li>\n",
       "<span><span class=\"n\">execution_count</span>: <span class=\"v number\">7</span></span>    </li>\n",
       "  </ul>\n",
       "</details>"
      ],
      "text/markdown": [
       "> code\n",
       "\n",
       "```json\n",
       "{\n",
       "  'idx': 7,\n",
       "  'cell_type': 'code',\n",
       "  'source': \"# cell 7\\ndisplaydh(HTML('cell 7.1'), metadata={'bridge': {'cell': 7.1}})\\ndisplaydh(HTML('cell 7.2'), metadata={'bridge': {'cell': 7.2}});\",\n",
       "  'id': 'X10sZmlsZQ==',\n",
       "  'metadata': {'brd': {'id': '7512abfe-f7d2-4047-a6b1-56aefbf9457e'}},\n",
       "  'outputs': [\n",
       "    {\n",
       "      'output_type': 'display_data',\n",
       "      'data': {'text/html': 'cell 7.1', 'text/plain': '<IPython.core.display.HTML object>'},\n",
       "      'metadata': {'transient': {'display_id': '331d2582eb05fdc75afaa4c616fc8b6c'}, 'bridge': {'cell': 7.1}}\n",
       "    },\n",
       "    {\n",
       "      'output_type': 'display_data',\n",
       "      'data': {'text/html': 'cell 7.2', 'text/plain': '<IPython.core.display.HTML object>'},\n",
       "      'metadata': {'transient': {'display_id': 'bbb4397c26ce0c3fb2f1acddc6ce91b1'}, 'bridge': {'cell': 7.2}}\n",
       "    }\n",
       "  ],\n",
       "  'execution_count': 7\n",
       "}\n",
       "```"
      ],
      "text/plain": [
       "{'idx': 7,\n",
       " 'cell_type': 'code',\n",
       " 'source': \"# cell 7\\ndisplaydh(HTML('cell 7.1'), metadata={'bridge': {'cell': 7.1}})\\ndisplaydh(HTML('cell 7.2'), metadata={'bridge': {'cell': 7.2}});\",\n",
       " 'id': 'X10sZmlsZQ==',\n",
       " 'metadata': {'brd': {'id': '7512abfe-f7d2-4047-a6b1-56aefbf9457e'}},\n",
       " 'outputs': [{'output_type': 'display_data',\n",
       "   'data': {'text/html': 'cell 7.1',\n",
       "    'text/plain': '<IPython.core.display.HTML object>'},\n",
       "   'metadata': {'transient': {'display_id': '331d2582eb05fdc75afaa4c616fc8b6c'},\n",
       "    'bridge': {'cell': 7.1}}},\n",
       "  {'output_type': 'display_data',\n",
       "   'data': {'text/html': 'cell 7.2',\n",
       "    'text/plain': '<IPython.core.display.HTML object>'},\n",
       "   'metadata': {'transient': {'display_id': 'bbb4397c26ce0c3fb2f1acddc6ce91b1'},\n",
       "    'bridge': {'cell': 7.2}}}],\n",
       " 'execution_count': 7}"
      ]
     },
     "metadata": {},
     "output_type": "display_data"
    },
    {
     "data": {
      "text/plain": [
       "(#2) ['331d2582eb05fdc75afaa4c616fc8b6c','bbb4397c26ce0c3fb2f1acddc6ce91b1']"
      ]
     },
     "execution_count": null,
     "metadata": {},
     "output_type": "execute_result"
    }
   ],
   "source": [
    "display(cell := NBCell(state['cells'][7]))\n",
    "cell.dids"
   ]
  },
  {
   "cell_type": "code",
   "execution_count": null,
   "metadata": {},
   "outputs": [],
   "source": [
    "cells = L(state['cells']).map(NBCell)"
   ]
  },
  {
   "cell_type": "code",
   "execution_count": null,
   "metadata": {},
   "outputs": [
    {
     "data": {
      "text/plain": [
       "(#42) [[],[],[],['9d0548d3b88c66b7def8b47bbe5a12dd'],['2ffe60c5c571592fc61fe81faab39e34'],['b970be042e0ebd1e5af19aadcfbf213e'],[],['331d2582eb05fdc75afaa4c616fc8b6c', 'bbb4397c26ce0c3fb2f1acddc6ce91b1'],[],[],[],[],[],[],[],[],['a6b5cc5f13bf64ce8dd73d0b79b0bef2'],['b0c4b491988399c7d88a82779528132d'],[],['e81dd25b299e4881aff6aec417c5bed9']...]"
      ]
     },
     "execution_count": null,
     "metadata": {},
     "output_type": "execute_result"
    }
   ],
   "source": [
    "cells.map(lambda c: NBCell(c).dids)"
   ]
  },
  {
   "cell_type": "code",
   "execution_count": null,
   "metadata": {},
   "outputs": [],
   "source": [
    "test_eq(cells[2]['outputs'][0]['name'], 'stdout')  # type: ignore"
   ]
  },
  {
   "cell_type": "code",
   "execution_count": null,
   "metadata": {},
   "outputs": [
    {
     "data": {
      "text/plain": [
       "(#40) [1,2,3,4,5,6,7,8,9,10,11,12,13,14,15,16,17,18,19,20...]"
      ]
     },
     "metadata": {},
     "output_type": "display_data"
    },
    {
     "data": {
      "text/html": [
       "<style>details ul { list-style-type:none; list-style-position: outside; padding-inline-start: 22px; margin: 0; } details .string { color: #24837b; } details .string::before { content: \"'\"; } details .string::after { content: \"'\"; } details .number { color: #ad8301; } details .true { color: blue; } details .false { color: red; } details .null { color: gray; } span.n { color: darkgrey; } </style>\n",
       "<details open><summary>NBCell@3\n",
       "</summary>  <ul>\n",
       "    <li>\n",
       "<span><span class=\"n\">idx</span>: <span class=\"v number\">3</span></span>    </li>\n",
       "    <li>\n",
       "<span><span class=\"n\">cell_type</span>: <span class=\"v string\">code</span></span>    </li>\n",
       "    <li>\n",
       "<span><span class=\"n\">source</span>: <span class=\"v string\"># cell 3\n",
       "displaydh(&#x27;cell 3&#x27;, metadata={&#x27;bridge&#x27;: {&#x27;cell&#x27;: 3}});</span></span>    </li>\n",
       "    <li>\n",
       "<span><span class=\"n\">id</span>: <span class=\"v string\">W3sZmlsZQ==</span></span>    </li>\n",
       "    <li>\n",
       "<span><span class=\"n\">metadata</span>: <span class=\"v \">{&#x27;brd&#x27;: {&#x27;id&#x27;: &#x27;f2c19c18-a3f7-4acb-88e4-c7239178c401&#x27;}}</span></span>    </li>\n",
       "<details open><summary>outputs\n",
       "</summary>      <ul>\n",
       "<details open><summary>0\n",
       "</summary>          <ul>\n",
       "            <li>\n",
       "<span><span class=\"n\">output_type</span>: <span class=\"v string\">display_data</span></span>            </li>\n",
       "<details open><summary>data\n",
       "</summary>              <ul>\n",
       "                <li>\n",
       "<span><span class=\"n\">text/plain</span>: <span class=\"v string\">&#x27;cell 3&#x27;</span></span>                </li>\n",
       "              </ul>\n",
       "</details>            <li>\n",
       "<span><span class=\"n\">metadata</span>: <span class=\"v \">{&#x27;transient&#x27;: {&#x27;display_id&#x27;: &#x27;9d0548d3b88c66b7def8b47bbe5a12dd&#x27;}, &#x27;bridge&#x27;: {&#x27;cell&#x27;: 3}}</span></span>            </li>\n",
       "          </ul>\n",
       "</details>      </ul>\n",
       "</details>    <li>\n",
       "<span><span class=\"n\">execution_count</span>: <span class=\"v number\">3</span></span>    </li>\n",
       "  </ul>\n",
       "</details>"
      ],
      "text/markdown": [
       "> code\n",
       "\n",
       "```json\n",
       "{\n",
       "  'idx': 3,\n",
       "  'cell_type': 'code',\n",
       "  'source': \"# cell 3\\ndisplaydh('cell 3', metadata={'bridge': {'cell': 3}});\",\n",
       "  'id': 'W3sZmlsZQ==',\n",
       "  'metadata': {'brd': {'id': 'f2c19c18-a3f7-4acb-88e4-c7239178c401'}},\n",
       "  'outputs': [\n",
       "    {\n",
       "      'output_type': 'display_data',\n",
       "      'data': {'text/plain': \"'cell 3'\"},\n",
       "      'metadata': {'transient': {'display_id': '9d0548d3b88c66b7def8b47bbe5a12dd'}, 'bridge': {'cell': 3}}\n",
       "    }\n",
       "  ],\n",
       "  'execution_count': 3\n",
       "}\n",
       "```"
      ],
      "text/plain": [
       "{'idx': 3,\n",
       " 'cell_type': 'code',\n",
       " 'source': \"# cell 3\\ndisplaydh('cell 3', metadata={'bridge': {'cell': 3}});\",\n",
       " 'id': 'W3sZmlsZQ==',\n",
       " 'metadata': {'brd': {'id': 'f2c19c18-a3f7-4acb-88e4-c7239178c401'}},\n",
       " 'outputs': [{'output_type': 'display_data',\n",
       "   'data': {'text/plain': \"'cell 3'\"},\n",
       "   'metadata': {'transient': {'display_id': '9d0548d3b88c66b7def8b47bbe5a12dd'},\n",
       "    'bridge': {'cell': 3}}}],\n",
       " 'execution_count': 3}"
      ]
     },
     "execution_count": null,
     "metadata": {},
     "output_type": "execute_result"
    }
   ],
   "source": [
    "test_eq(len(codes := cells.argwhere(lambda c: c['cell_type'] == 'code')), 40)\n",
    "display(codes)\n",
    "cells[codes[2]]"
   ]
  },
  {
   "cell_type": "markdown",
   "metadata": {},
   "source": [
    "## by_type"
   ]
  },
  {
   "cell_type": "code",
   "execution_count": null,
   "metadata": {},
   "outputs": [],
   "source": [
    "#| export\n",
    "\n",
    "def by_type(cells: Sequence[NBCell]|L, cell_type: CellTypesT) -> L:\n",
    "    \"Return 'L' of indices of cells of type `cell_type`\"\n",
    "    return L(cells).argwhere(lambda c: c['cell_type'] == cell_type)"
   ]
  },
  {
   "cell_type": "code",
   "execution_count": null,
   "metadata": {},
   "outputs": [
    {
     "data": {
      "text/plain": [
       "(#40) [1,2,3,4,5,6,7,8,9,10,11,12,13,14,15,16,17,18,19,20...]"
      ]
     },
     "execution_count": null,
     "metadata": {},
     "output_type": "execute_result"
    }
   ],
   "source": [
    "\n",
    "by_type(cells, 'code')"
   ]
  },
  {
   "cell_type": "code",
   "execution_count": null,
   "metadata": {},
   "outputs": [
    {
     "data": {
      "text/plain": [
       "(#40) [1,2,3,4,5,6,7,8,9,10,11,12,13,14,15,16,17,18,19,20...]"
      ]
     },
     "execution_count": null,
     "metadata": {},
     "output_type": "execute_result"
    }
   ],
   "source": [
    "by_type(cells, 'code')"
   ]
  },
  {
   "cell_type": "markdown",
   "metadata": {},
   "source": [
    "## idx2cell"
   ]
  },
  {
   "cell_type": "code",
   "execution_count": null,
   "metadata": {},
   "outputs": [
    {
     "data": {
      "text/plain": [
       "(#40) [1,2,3,4,5,6,7,8,9,10,11,12,13,14,15,16,17,18,19,20...]"
      ]
     },
     "execution_count": null,
     "metadata": {},
     "output_type": "execute_result"
    }
   ],
   "source": [
    "idxs = by_type(cells, 'code')\n",
    "idxs"
   ]
  },
  {
   "cell_type": "code",
   "execution_count": null,
   "metadata": {},
   "outputs": [
    {
     "data": {
      "text/plain": [
       "(#40) [{'idx': 1, 'cell_type': 'code', 'source': '# cell 1\\nimport time\\nfrom itertools import count\\n\\nimport ipywidgets as W\\nimport matplotlib.pyplot as plt\\nfrom bridget.helpers import displaydh\\nfrom IPython.display import HTML, Image, Javascript, JSON, DisplayHandle, clear_output\\ncounter = count()', 'id': 'W1sZmlsZQ==', 'metadata': {'brd': {'id': '717322f8-95fa-425c-839d-8b9e7d4ef921'}}, 'outputs': [], 'execution_count': 1},{'idx': 2, 'cell_type': 'code', 'source': '# cell 2\\nprint(1)', 'id': 'W2sZmlsZQ==', 'metadata': {'brd': {'id': '92f3e304-fd32-4de2-badf-11577f9e7a4a'}}, 'outputs': [{'output_type': 'stream', 'name': 'stdout', 'text': '1\\n'}], 'execution_count': 2},{'idx': 3, 'cell_type': 'code', 'source': \"# cell 3\\ndisplaydh('cell 3', metadata={'bridge': {'cell': 3}});\", 'id': 'W3sZmlsZQ==', 'metadata': {'brd': {'id': 'f2c19c18-a3f7-4acb-88e4-c7239178c401'}}, 'outputs': [{'output_type': 'display_data', 'data': {'text/plain': \"'cell 3'\"}, 'metadata': {'transient': {'display_id': '9d0548d3b88c66b7def8b47bbe5a12dd'}, 'bridge': {'cell': 3}}}], 'execution_count': 3},{'idx': 4, 'cell_type': 'code', 'source': \"# cell 4\\nimport time\\ntime.sleep(2)\\ndisplaydh(HTML('cell 4'), metadata={'bridge': {'cell': 4}});\", 'id': 'W4sZmlsZQ==', 'metadata': {'brd': {'id': '798f7f83-9b31-4e21-a36b-5520c6f72a2d'}}, 'outputs': [{'output_type': 'display_data', 'data': {'text/html': 'cell 4', 'text/plain': '<IPython.core.display.HTML object>'}, 'metadata': {'transient': {'display_id': '2ffe60c5c571592fc61fe81faab39e34'}, 'bridge': {'cell': 4}}}], 'execution_count': 4},{'idx': 5, 'cell_type': 'code', 'source': '# cell 5\\ndisplaydh(Javascript(\\'console.log(\"cell 5\")\\'), metadata={\\'bridge\\': {\\'cell\\': 5}});', 'id': 'W5sZmlsZQ==', 'metadata': {'brd': {'id': 'a20081a9-4e7e-4301-be25-2a44f45bfc71'}}, 'outputs': [{'output_type': 'display_data', 'data': {'application/javascript': 'console.log(\"cell 5\")', 'text/plain': '<IPython.core.display.Javascript object>'}, 'metadata': {'transient': {'display_id': 'b970be042e0ebd1e5af19aadcfbf213e'}, 'bridge': {'cell': 5}}}], 'execution_count': 5},{'idx': 6, 'cell_type': 'code', 'source': '# cell 6\\nprint(6.1)\\nprint(6.2)', 'id': 'W6sZmlsZQ==', 'metadata': {'brd': {'id': 'e1ba8c0c-d248-44ff-9437-17482a711358'}}, 'outputs': [{'output_type': 'stream', 'name': 'stdout', 'text': '6.1\\n6.2\\n'}], 'execution_count': 6},{'idx': 7, 'cell_type': 'code', 'source': \"# cell 7\\ndisplaydh(HTML('cell 7.1'), metadata={'bridge': {'cell': 7.1}})\\ndisplaydh(HTML('cell 7.2'), metadata={'bridge': {'cell': 7.2}});\", 'id': 'X10sZmlsZQ==', 'metadata': {'brd': {'id': '7512abfe-f7d2-4047-a6b1-56aefbf9457e'}}, 'outputs': [{'output_type': 'display_data', 'data': {'text/html': 'cell 7.1', 'text/plain': '<IPython.core.display.HTML object>'}, 'metadata': {'transient': {'display_id': '331d2582eb05fdc75afaa4c616fc8b6c'}, 'bridge': {'cell': 7.1}}}, {'output_type': 'display_data', 'data': {'text/html': 'cell 7.2', 'text/plain': '<IPython.core.display.HTML object>'}, 'metadata': {'transient': {'display_id': 'bbb4397c26ce0c3fb2f1acddc6ce91b1'}, 'bridge': {'cell': 7.2}}}], 'execution_count': 7},{'idx': 8, 'cell_type': 'code', 'source': '%HTML\\n<h3>cell 8</h3>', 'id': 'X11sZmlsZQ==', 'metadata': {'brd': {'id': '72d2a352-a5e3-4bb4-8e12-2302f9bac880'}}, 'outputs': [{'output_type': 'display_data', 'data': {'text/html': '<h3>cell 8</h3>\\n', 'text/plain': '<IPython.core.display.HTML object>'}, 'metadata': {'transient': {}}}], 'execution_count': 8},{'idx': 9, 'cell_type': 'code', 'source': \"%javascript\\nconsole.log('cell 9')\", 'id': 'X12sZmlsZQ==', 'metadata': {'brd': {'id': '39565bc0-3d14-4912-8220-e9dacb965ca4'}}, 'outputs': [{'output_type': 'display_data', 'data': {'application/javascript': \"console.log('cell 9')\\n\", 'text/plain': '<IPython.core.display.Javascript object>'}, 'metadata': {'transient': {}}}], 'execution_count': 9},{'idx': 10, 'cell_type': 'code', 'source': '%markdown\\ncell 10', 'id': 'X13sZmlsZQ==', 'metadata': {'brd': {'id': 'ff1561f9-0589-470e-8921-0e99efd531bd'}}, 'outputs': [{'output_type': 'display_data', 'data': {'text/markdown': 'cell 10\\n', 'text/plain': '<IPython.core.display.Markdown object>'}, 'metadata': {'transient': {}}}], 'execution_count': 10},{'idx': 11, 'cell_type': 'code', 'source': '%SVG\\n<svg width=\"100\" height=\"20\" xmlns=\"http://www.w3.org/2000/svg\">\\n  <text x=\"10\" y=\"10\">cell 11</text>\\n</svg>', 'id': 'X14sZmlsZQ==', 'metadata': {'brd': {'id': '4af29770-5f76-4517-9816-fa408687dab1'}}, 'outputs': [{'output_type': 'display_data', 'data': {'image/svg+xml': '<svg xmlns=\"http://www.w3.org/2000/svg\" width=\"100\" height=\"20\">\\n  <text x=\"10\" y=\"10\">cell 11</text>\\n</svg>', 'text/plain': '<IPython.core.display.SVG object>'}, 'metadata': {'transient': {}, '__displayOpenPlotIcon': True}}], 'execution_count': 11},{'idx': 12, 'cell_type': 'code', 'source': \"# cell 12\\nW.IntSlider(12, description='cell')\", 'id': 'X15sZmlsZQ==', 'metadata': {'brd': {'id': 'e7e6d557-3aa7-41a7-9e77-805295112aec'}}, 'outputs': [{'output_type': 'execute_result', 'data': {'application/vnd.jupyter.widget-view+json': {'version_major': 2, 'version_minor': 0, 'model_id': '6191b18d61a44fbd89eb132d22a28eab'}, 'text/plain': \"IntSlider(value=12, description='cell')\"}, 'execution_count': 12, 'metadata': {}}], 'execution_count': 12},{'idx': 13, 'cell_type': 'code', 'source': \"#| hide\\n# cell 13\\nw = W.Output()\\ndisplay(w)\\nwith w:\\n    print('cell 13.1')\\n    display('cell 13.2')\\n    display(HTML('cell 13.3'))\", 'id': 'X16sZmlsZQ==', 'metadata': {'brd': {'id': '8af15850-3d11-4498-a037-ce8b1ac2a161'}}, 'outputs': [{'output_type': 'display_data', 'data': {'application/vnd.jupyter.widget-view+json': {'version_major': 2, 'version_minor': 0, 'model_id': 'a9408d195fb84649b38948893390ef10'}, 'text/plain': 'Output()'}, 'metadata': {'transient': {}}}], 'execution_count': 13},{'idx': 14, 'cell_type': 'code', 'source': '# cell 14\\nfig = plt.figure(figsize=(4, 2.67))\\nplt.plot([1,2,3,4]);', 'id': 'X20sZmlsZQ==', 'metadata': {'brd': {'id': '3b388911-cc9e-40af-8746-3821be96cbbd'}}, 'outputs': [{'output_type': 'display_data', 'data': {'image/png': 'iVBORw0KGgoAAAANSUhEUgAAAWkAAAD5CAYAAADlasS5AAAAOnRFWHRTb2Z0d2FyZQBNYXRwbG90bGliIHZlcnNpb24zLjEwLjMsIGh0dHBzOi8vbWF0cGxvdGxpYi5vcmcvZiW1igAAAAlwSFlzAAAPYQAAD2EBqD+naQAAK0ZJREFUeJzt3XtclHXe//HXcBoQARUFQVDBAwoIGVhSapmpq2Za2H3YvVurXXe9V63k9oS1udYWpu5mrqZZrmXe5f1TRDEPaZtAFm1qCHgiDyiKIOKBAZSBmfn+/phkJUEZTjMDn+fjwR9z8b2cD9/03ftxzcWMRimlEEIIYZMcrD2AEEKIuklICyGEDZOQFkIIGyYhLYQQNkxCWgghbJiEtBBC2DAJaSGEsGES0kIIYcOcrD1AfZhMJi5evIiHhwcajcba4wghRKMppSgtLcXf3x8Hh7r7sl2E9MWLFwkMDLT2GEII0eTOnz9PQEBAnd+3i5D28PAAzD+Mp6enlacRQojG0+l0BAYGVudbXewipG9d4vD09JSQFkK0Kve6hCsvHAohhA2TkBZCCBvWqJBOSEhAo9Hw8ssv33VdamoqUVFRuLq6EhwczOrVqxvztEII0WY0OKQPHDjAmjVriIiIuOu63Nxcxo4dy9ChQ8nIyGD+/Pm8+OKLJCYmNvSphRCizWhQSJeVlfGrX/2KDz74gI4dO9517erVq+nevTvLli2jf//+/Pa3v+WFF15g6dKlDRpYCCFsycXrN7lWXtlsf36DQnratGmMGzeOxx9//J5r09PTGTVqVI1jo0eP5uDBg1RVVdV6jl6vR6fT1fgSQghbopTi/w7kMfqdNBYkH22257H4FryNGzfyww8/cODAgXqtLywsxNfXt8YxX19fDAYDxcXF+Pn53XFOQkICCxcutHQ0IYRoEfnXbzIvMYuvTxYDcP7aDW5UGmjn0vR3NVv0J54/f56XXnqJPXv24OrqWu/zfn4f4K2PVazr/sD4+Hji4uKqH9+66VsIIaxJKcVn35/nrZ3HKdMb0Do5MGtUCC8MCcLRoXnessKikD506BBFRUVERUVVHzMajaSlpbFixQr0ej2Ojo41zunatSuFhYU1jhUVFeHk5IS3t3etz6PVatFqtZaMJoQQzer81RvEb8lm/ylze47q0ZHFkyLo1aV9sz6vRSE9YsQIsrOzaxx7/vnn6devH3Pnzr0joAFiYmLYvn17jWN79uwhOjoaZ2fnBowshBAtx2RS/O/3eSzaeZzySiOuzg7MHt2P5x7q2Wzt+XYWhbSHhwfh4eE1jrm7u+Pt7V19PD4+nvz8fNavXw/A1KlTWbFiBXFxcUyZMoX09HTWrl3LZ5991kQ/ghBCNI/zV28wZ3MW6WeuADCoZ0cWT4okqLN7i83Q5Fe5CwoKyMvLq34cFBTEzp07mTlzJitXrsTf35/ly5cTGxvb1E8thBBNwmRSbPjnORbtOsGNSiNuzo7M+UUIk2N64tAC7fl2GnXrVTwbptPp8PLyoqSkRN5gSQjRrM5dKWfO5iz+mXsVgAeDOrF4UgQ9vJu2Pdc31+ziXfCEEKK5mUyKj9PPsnh3DjerjLRzcWTemH7814M9Wrw9305CWgjR5uUWlzN3cxbfnzW355hgb96OjaC7dzsrTyYhLYRow4wmxbpvclm6J4eKKhPuLo7Ej+3PLx/obtX2fDsJaSFEm3T6chlzNmdx6Nw1AB7u7c2ipyMI7GT99nw7CWkhRJtiNCn+vt/cnvUGE+21Tswf25//fCDQJj/oWkJaCNFmnCoqY/bmTDLyrgMwtE9nFsVG0K2Dm3UHuwsJaSFEq2cwmvhwfy5/3fsjlQYTHlonXn2iP/8WbZvt+XYS0kKIVu3kpVJmbc4i8/x1AB7p24WEpwfgb8Pt+XYS0kKIVslgNPF+2hne/fIklUYTHq5OvPZEKJOiAmy+Pd9OQloI0erkFJYye3MmWRdKAHisnw9vPTWArl71f4tlWyEhLYRoNaqMJt5PPc27/zhJlVHh6erEgvFhPH1/N7tqz7eTkBZCtArHC3TM2pTJ0Yvmj9t7vL8Pbz41AF9P+2vPt5OQFkLYtSqjiff2nWbFPnN79nJzZuGTYUy4z99u2/PtJKSFEHbr6MUSZm/K4liBuT2PCvXlz0+F4+Nh3+35dhLSQgi7U2kwsWLfKd7bdwqDSdGxnTMLJ4QzPsKvVbTn20lICyHsypH8EmZtyuREYSkAvwjryhsTw+ni0To/F1VCWghhF/QGIyu+OsV7KacxmhSd3F14fUIY4wa0vvZ8OwlpIYTNy7pwndmbssi5ZG7P4yL8eP3JMLzbt872fDsJaSGEzdIbjLz75UneTzuD0aTwdnfhjYnhjB3gZ+3RWoyEtBDCJh0+f53ZmzI5WVQGwPhIfxY+GUYndxcrT9ayHCxZvGrVKiIiIvD09MTT05OYmBh27dpV5/qUlBQ0Gs0dXydOnGj04EKI1qmiykjCruM8/d43nCwqo3N7Lav/K4q//efANhfQYGGTDggIYNGiRfTu3RuAjz/+mAkTJpCRkUFYWFid5+Xk5NT4NNwuXbo0cFwhRGv2Q941Zm/K5PTlcgAm3ufPgvFhdGyD4XyLRSE9fvz4Go/ffPNNVq1axXfffXfXkPbx8aFDhw4NGlAI0fpVVBn5694f+fDrM5gUdPHQ8ubEcEaFdbX2aFbX4GvSRqORTZs2UV5eTkxMzF3XDhw4kIqKCkJDQ3n11VcZPnz4Xdfr9Xr0en31Y51O19AxhRA27tC5q8zelMWZYnN7fvr+brz2RCgd2rXd9nw7i0M6OzubmJgYKioqaN++PUlJSYSGhta61s/PjzVr1hAVFYVer+eTTz5hxIgRpKSkMGzYsDqfIyEhgYULF1o6mhDCjtysNLJ0Tw5//yYXpcDXU8tbTw1gRH9fa49mUzRKKWXJCZWVleTl5XH9+nUSExP58MMPSU1NrTOof278+PFoNBqSk5PrXFNbkw4MDKSkpKTGtW0hhH36PvcqczZncvbKDQAmRQXwx3GheLVztvJkLUen0+Hl5XXPXLO4Sbu4uFS/cBgdHc2BAwd49913ef/99+t1/uDBg9mwYcNd12i1WrTa1n+TuhBtzY1KA4t35/Bx+lmUgq6eriTEDmB4iI+1R7NZjb5PWilVo/XeS0ZGBn5+bedGdCGE2XdnrjBncxZ5V83t+d+jA3nlif54urad9twQFoX0/PnzGTNmDIGBgZSWlrJx40ZSUlLYvXs3APHx8eTn57N+/XoAli1bRs+ePQkLC6OyspINGzaQmJhIYmJi0/8kQgibVK43sHj3CT5OPweAn5cri2IjeKSv3IpbHxaF9KVLl3j22WcpKCjAy8uLiIgIdu/ezciRIwEoKCggLy+ven1lZSWzZs0iPz8fNzc3wsLC2LFjB2PHjm3an0IIYZO+PV3M3MQszl+9CcB/PtCd+WP74SHtud4sfuHQGup7gV0IYRvK9AYW7TrOhu/Mpa1bBzcWxQ5gaB9pz7c02wuHQghxN9+cKmbO5izyr5vb868e7E782P6010rcNITsmhCiSZRWVJGw6wSf/tPcngM6urE4NoKHene28mT2TUJaCNFoaT9eZl5iFhdLKgD4dUwP5v6iH+7SnhtNdlAI0WC6iire2nGcjQfOAxDYyY3FsZHE9PK28mSth4S0EKJBUnKKiN+STcFP7fm5h3oy5xchtHORWGlKsptCCIuU3Kziz58fY9OhCwD08G7H4tgIHgyW9twcJKSFEPX21YlLxG/J5pJOj0YDzz8UxOzRIbi5OFp7tFZLQloIcU8lN6p4/fNjJP5gbs9Bnd1ZMimC6J6drDxZ6ychLYS4qy+PXWJ+UjZFpeb2/NshQcSNlPbcUiSkhRC1un6jkoXbj5GUkQ9AcBdze47qIe25JUlICyHu8MXRQl5JOkJxmR4HDUwZGszMkX1xdZb23NIkpIUQ1a6WV/Kn5KMkZ14EoLdPe5ZMimBg945WnqztkpAWQgCw+0gBr249QnFZJQ4a+P0jvXhpRB9pz1YmIS1EG3elTM+C5KN8nlUAQF/f9iyZFElkYAfrDiYACWkh2rQdWQW8tu0IV8orcXTQ8N+P9GLGiN5onaQ92woJaSHaoOIyPa9tO8LO7EIAQnw9WPpMJAMCvKw8mfg5CWkh2hClFJ//1J6v3ajCyUHDHx7txfTH+uDi5GDt8UQtJKSFaCOKSiv449YjfHH0EgD9/TxZMimC8G7Snm2ZhLQQrZxSiuTMiyxIPsr1n9rz9Md684dHe0t7tgMS0kK0YkW6Cl7ZeoS9x8ztOdTPk6XPRBLqL58Vai8s+t/oqlWriIiIwNPTE09PT2JiYti1a9ddz0lNTSUqKgpXV1eCg4NZvXp1owYWQtybUootP1xg5Dtp7D12CWdHDf8zsi/bpj8sAW1nLGrSAQEBLFq0iN69ewPw8ccfM2HCBDIyMggLC7tjfW5uLmPHjmXKlCls2LCBb775hj/84Q906dKF2NjYpvkJhBA1XNJVMH9LNv84UQRAeDdze+7XVcLZHmmUUqoxf0CnTp1YsmQJv/nNb+743ty5c0lOTub48ePVx6ZOnUpmZibp6en1fo76fvS5EG2ZUorEH/J5fftRdBUGXBwdeOnxPvxuWDDOjnLt2dbUN9cafE3aaDSyadMmysvLiYmJqXVNeno6o0aNqnFs9OjRrF27lqqqKpydnWs9T6/Xo9frqx/rdLqGjilEm1BQcpP4Ldmk5FwGIDLAiyXPRNLX18PKk4nGsjiks7OziYmJoaKigvbt25OUlERoaGitawsLC/H19a1xzNfXF4PBQHFxMX5+frWel5CQwMKFCy0dTYg2RynFpoMXeOPzY5Tqze155si+TBkahJO051bB4pAOCQnh8OHDXL9+ncTERCZPnkxqamqdQa3RaGo8vnV15efHbxcfH09cXFz1Y51OR2BgoKWjCtGqXbx+k3lbskn70dye7wvswJJJEfSR9tyqWBzSLi4u1S8cRkdHc+DAAd59913ef//9O9Z27dqVwsLCGseKiopwcnLC27vuD63UarVotVpLRxOiTVBKsfHAed7ccZwyvQEXJwdmjerLb4YE4+hQd/kR9qnR90krpWpcP75dTEwM27dvr3Fsz549REdH13k9WghRtwvXbhC/JZuvTxYDcH/3DiyeFElvn/ZWnkw0F4tCev78+YwZM4bAwEBKS0vZuHEjKSkp7N69GzBfpsjPz2f9+vWA+U6OFStWEBcXx5QpU0hPT2ft2rV89tlnTf+TCNGKKaX49Ps83tpxnPJKI1onB2aPDuH5h4OkPbdyFoX0pUuXePbZZykoKMDLy4uIiAh2797NyJEjASgoKCAvL696fVBQEDt37mTmzJmsXLkSf39/li9fLvdIC2GB81dvMDcxi29PXwEgukdHFk+KILiLtOe2oNH3SbcEuU9atEUmk+J//3mOhF0nuFFpxNXZgTmj+zH5oZ7SnluBZr9PWgjRfPKu3GBOYibfnbkKwAM9O7F4UgQ9O7tbeTLR0iSkhbAhJpNiffpZ3t6dw80qI27Ojswb049nB/fAQdpzmyQhLYSNOFtczpzELL7PNbfnwcGdeDs2gh7e0p7bMglpIazMZFJ89O1ZFn9xgooqE+1cHIkf049fPSjtWUhIC2FVZy6XMWdzFgfPXQPgoV7evB0bQWCndlaeTNgKCWkhrMBoUvx9fy5L9+SgN5hwd3Fk/rj+/PKB7nd9ywTR9khIC9HCThWVMXtzJhl51wEY0rszi2IHENBR2rO4k4S0EC3EaFJ8+PUZ/rL3RyoNJtprnXh1XH/+fVCgtGdRJwlpIVrAyUulzNqcReb56wAM69uFhKcH0K2Dm3UHEzZPQlqIZmQwmljz9RmW7T1JpdGEh9aJPz4RyjPRAdKeRb1ISAvRTHIKS5m9OZOsCyUADA/pwltPD8DPS9qzqD8JaSGaWJXRxPupp1n+j1Pm9uzqxILxYcTe303as7CYhLQQTeh4gY7ZmzM5km/+XM4R/Xx486kBdPVytfJkwl5JSAvRBKqMJlalnOZvX52kyqjwcnPmT0+GMvE+ac+icSSkhWikoxdLmL0pi2MF5vb8eH9f3noqHB9Pac+i8SSkhWigSoOJlftOsXLfKQwmRYd2zix8MownI/2lPYsmIyEtRAMcyS9h1qZMThSWAjA6zJc3Jobj4yHtWTQtCWkhLKA3GFnx1SneSzmN0aTo2M6Z1yeE80SEn7Rn0SwkpIWop6wL15m9KYucS+b2PHZAV16fEE7n9lorTyZaMwlpIe5BbzCy/B8nWZ16BqNJ4e3uwusTwhkX4Wft0UQb4GDJ4oSEBAYNGoSHhwc+Pj5MnDiRnJycu56TkpKCRqO54+vEiRONGlyIlpB5/jpPLN/Pyn3myxtPRPixZ+YwCWjRYixq0qmpqUybNo1BgwZhMBh45ZVXGDVqFMeOHcPd/e4f8ZOTk1PjE3G7dOnSsImFaAEVVUaWfXmSNWmnMSno3N6FNyaEM2aAhLNoWRaF9O7du2s8XrduHT4+Phw6dIhhw4bd9VwfHx86dOhg8YBCtLQf8q4xe1Mmpy+XAzDhPn8WjA+jk7uLlScTbVGjrkmXlJjfOKZTp073XDtw4EAqKioIDQ3l1VdfZfjw4XWu1ev16PX66sc6na4xYwpRLxVVRv6690c+/PrMT+1Zy5tPhTM6rKu1RxNtWINDWilFXFwcQ4YMITw8vM51fn5+rFmzhqioKPR6PZ988gkjRowgJSWlzvadkJDAwoULGzqaEBY7dO4qszdlcabY3J6fGtiNBeND6dBO2rOwLo1SSjXkxGnTprFjxw72799PQECAReeOHz8ejUZDcnJyrd+vrUkHBgZSUlJS47q2EI11s9LIX/bksPabXJQCHw8tbz01gMdDfa09mmjldDodXl5e98y1BjXpGTNmkJycTFpamsUBDTB48GA2bNhQ5/e1Wi1ardx7KprXgbNXmbM5i9yf2nPs/QG89kQoXu2crTyZEP9iUUgrpZgxYwZJSUmkpKQQFBTUoCfNyMjAz09eJRfWcaPSwJIvcvjo27MoBb6eWhKeHsBj/aQ9C9tjUUhPmzaNTz/9lG3btuHh4UFhYSEAXl5euLmZP20iPj6e/Px81q9fD8CyZcvo2bMnYWFhVFZWsmHDBhITE0lMTGziH0WIe/vnmSvMSczi3JUbAPxbdACvjAvFy03as7BNFoX0qlWrAHj00UdrHF+3bh3PPfccAAUFBeTl5VV/r7KyklmzZpGfn4+bmxthYWHs2LGDsWPHNm5yISxQrjewePcJPk4/B4CflysJTw/g0RAfK08mxN01+IXDllTfC+xC1Obb08XMTczi/NWbAPzHoEDmj+uPp6u0Z2E9zfrCoRD2oFxvYNGuE3zynbk9+3u5sig2gmF95bddhf2QkBat0jenzO35wjVze/7lg92JH9MPD2nPws5ISItWpbSiioRdJ/j0n+bXRbp1cOPt2AiG9Ols5cmEaBgJadFqfH3yMvMSs8m/bm7Pzw7uwdwx/Wivlb/mwn7J315h93QVVSTsPM5n358HILCTuT0/1Evas7B/EtLCrqXkFBG/JZuCkgoAJsf0YM4v+uEu7Vm0EvI3WdilkptVvLnjGP/v4AUAundqx+JJEQwO9rbyZEI0LQlpYXf2nTC350JdBRoNPPdQT2aPDqGdi/x1Fq2P/K0WdqPkRhWvf36MxB/M7bmndzsWT4rkgaB7v5+5EPZKQlrYhS+PXWJ+UjZFpXo0Gnjh4SBmjQrBzcXR2qMJ0awkpIVNu36jkte3H2NLRj4AwZ3dWfJMBFE9pD2LtkFCWtisPUcLeWXrES6X6nHQwJShwcwc2RdXZ2nPou2QkBY251p5JX/afpRthy8C0KuLO0ueieT+7h2tPJkQLU9CWtiU3UcKeHXrEYrLKnHQwO+G9eLlx/tIexZtloS0sAlXyvQsSD7K51kFAPTxac+SZyK5L7CDdQcTwsokpIXV7cwu4I9bj3ClvBJHBw1THwnmxRF90DpJexZCQlpYTXGZngXbjrIj29yeQ3w9WPpMJAMCvKw8mRC2Q0JatDilFJ9nFbAg+ShXf2rP0x7txbTHekt7FuJnJKRFi7pcquePW4+w+6j5Q4z7dTW35/Bu0p6FqI2EtGgRSimSMy+yIPko129U4eSgYdrw3kwb3hsXJwdrjyeEzbLoX0dCQgKDBg3Cw8MDHx8fJk6cSE5Ozj3PS01NJSoqCldXV4KDg1m9enWDBxb2p0hXwe8+OcRLGw9z/UYVoX6ebJv+MDNH9pWAFuIeLPoXkpqayrRp0/juu+/Yu3cvBoOBUaNGUV5eXuc5ubm5jB07lqFDh5KRkcH8+fN58cUXSUxMbPTwwrYppUjKuMDId9LYe+wSzo4a4kb2Zdv0hwnzl8sbQtSHRimlGnry5cuX8fHxITU1lWHDhtW6Zu7cuSQnJ3P8+PHqY1OnTiUzM5P09PR6PU99P/pc2I5LugpeScrmy+NFAIR382TJpEj6+8l/PyGg/rnWqGvSJSUlAHTqVPeb3aSnpzNq1Kgax0aPHs3atWupqqrC2Vk+vbk1UUqR+EM+r28/iq7CgLOjhpcf78vvhgXj7CiXNoSwVINDWilFXFwcQ4YMITw8vM51hYWF+Pr61jjm6+uLwWCguLgYPz+/O87R6/Xo9frqxzqdrqFjihZUWFJB/JYs9uVcBiAiwIslkyIJ6eph5cmEsF8NDunp06eTlZXF/v3777lWo9HUeHzrCsvPj9+SkJDAwoULGzqaaGFKKTYdusAbnx+jtMKAi6MDL4/sw++GBuMk7VmIRmlQSM+YMYPk5GTS0tIICAi469quXbtSWFhY41hRURFOTk54e9f+eXTx8fHExcVVP9bpdAQGBjZkVNHMLl6/ybwt2aT9aG7PkYEdWDopgj6+0p6FaAoWhbRSihkzZpCUlERKSgpBQUH3PCcmJobt27fXOLZnzx6io6PrvB6t1WrRarWWjCZamFKK/ztwnj/vOE6Z3oCLkwP/M7IvvxkSJO1ZiCZkUUhPmzaNTz/9lG3btuHh4VHdkL28vHBzcwPMLTg/P5/169cD5js5VqxYQVxcHFOmTCE9PZ21a9fy2WefNfGPIlpK/vWbzEvM4uuTxQAM7N6BJZMi6e3T3sqTCdH6WBTSq1atAuDRRx+tcXzdunU899xzABQUFJCXl1f9vaCgIHbu3MnMmTNZuXIl/v7+LF++nNjY2MZNLlqcUopPv8/jrR3HKa80onVyYPboEJ5/OAhHh9pfXxBCNE6j7pNuKXKftPWdv3qDeVuy+ObUFQCie3Rk8aQIgrtIexaiIVrkPmnR+plMiv/9Po+Ence5UWnE1dmB2aP78dxDPaU9C9ECJKRFnfKu3GBOYibfnbkKwAM9O7F4UgQ9O7tbeTIh2g4JaXEHk0nxyXfnWLTrBDerjLg5OzL3FyH8OqYnDtKehWhREtKihnNXypm9OYvvc83t+cEgc3vu4S3tWQhrkJAWgLk9f/TtWRZ/cYKKKhPtXByJH9OPXz3YQ9qzEFYkIS3ILS5nzuZMDpy9BkBMsDeLJ0UQ2KmdlScTQkhIt2FGk2LdN7ks+SIHvcGEu4sj8WP788sHukt7FsJGSEi3UacvlzF7UyY/5F0HYEjvziyKHUBAR2nPQtgSCek2xmhSrN1/hr/s+RG9wUR7rROvjOvPfwwKrPNdCYUQ1iMh3YacKipl9uYsMn5qz0P7dGZRbATdOrhZdzAhRJ0kpNsAg9HEB1/n8s6XP1JpMOGhdeKPT4TyTHSAtGchbJyEdCv346VSZm/KJPOC+aPOHg3pQsLTA/DzkvYshD2QkG6lDEYT76ed4d0vT1JpNOHh6sRrT4QyKUrasxD2REK6FTpRqGP2piyy883t+bF+Prz11AC6erlaeTIhhKUkpFuRKqOJ1SmnWf7VSaqMCk9XJ/70ZBhPDewm7VkIOyUh3UocL9Axa1MmRy+aP1n98f6+vPVUOD6e0p6FsGcS0nau0mDivZRTrPjqFAaTokM7ZxY+GcaTkf7SnoVoBSSk7djRiyXM2pTF8QJzex4d5ssbE8Px8ZD2LERrISFthyoNJlbsO8V7+8ztuWM7Z16fEM4TEX7SnoVoZSSk7cyR/BJmbcrkRGEpAGMHdOX1CeF0bq+18mRCiOYgIW0n9AYjf/vHKValnsZoUni7u/D6hHDGRfhZezQhRDNysPSEtLQ0xo8fj7+/+YWprVu33nV9SkoKGo3mjq8TJ040dOY2J+vCdcb/bT8r9p3CaFI8EeHHnpnDJKCFaAMsbtLl5eVERkby/PPPExsbW+/zcnJyanxseZcuXSx96janosrIu/84yZq0MxhNis7tXXhjQjhjBkg4C9FWWBzSY8aMYcyYMRY/kY+PDx06dLD4vLYqI+8aszdncaqoDIAJ9/mzYHwYndxdrDyZEKIltdg16YEDB1JRUUFoaCivvvoqw4cPr3OtXq9Hr9dXP9bpdC0xok2oqDLyzpc/8kHaGUwKOrfX8uZT4YwO62rt0YQQVtDsIe3n58eaNWuIiopCr9fzySefMGLECFJSUhg2bFit5yQkJLBw4cLmHs3mHDp3jTmbMzl9uRyApwZ2Y8H4UDq0k/YsRFulUUqpBp+s0ZCUlMTEiRMtOm/8+PFoNBqSk5Nr/X5tTTowMJCSkpIa17Vbi4oqI3/Zk8OH+3NRCnw8tLz11AAeD/W19mhCiGai0+nw8vK6Z65Z5Ra8wYMHs2HDhjq/r9Vq0Wrbxn2/B89eZc7mLM4Um9tz7P0BvPZEKF7tnK08mRDCFlglpDMyMvDza9t3KNysNLLkixzWfWtuz76eWhKeHsBj/aQ9CyH+xeKQLisr49SpU9WPc3NzOXz4MJ06daJ79+7Ex8eTn5/P+vXrAVi2bBk9e/YkLCyMyspKNmzYQGJiIomJiU33U9iZ73OvMmdzJmev3ADg36IDeGVcKF5u0p6FEDVZHNIHDx6scWdGXFwcAJMnT+ajjz6ioKCAvLy86u9XVlYya9Ys8vPzcXNzIywsjB07djB27NgmGN++3Kg0sHh3Dh+nn0Up8PNyJeHpATwa4mPt0YQQNqpRLxy2lPpeYLdl3525wpzNWeRdNbfn/xgUyPxx/fF0lfYsRFtk0y8ctiXlegNv7z7B+vRzAPh7ubIoNoJhfeU3LoUQ9yYh3Yy+PVXMnMQsLly7CcAvH+xO/Jh+eEh7FkLUk4R0MyjTG1i06zgbvjNfm+/WwY23YyMY0qezlScTQtgbCekmtv9kMXMTs8i/bm7Pzw7uwdwx/Wivla0WQlhOkqOJlFZU8dbOE3z2vbk9B3Yyt+eHekl7FkI0nIR0E0j78TLzErO4WFIBwOSYHsz5RT/cpT0LIRpJUqQRdBVVvPn5cf7v4HkAundqx+JJEQwO9rbyZEKI1kJCuoH25RQxf0s2BSUVaDTw3EM9mT06hHYusqVCiKYjiWKhkptV/PnzY2w6dAGAnt7tWDwpkgeCOll5MiFEayQhbYGvTlwifks2l3R6NBp44eEgZo0Kwc3F0dqjCSFaKQnpeii5UcXCz4+y5Yd8AII7u7PkmQiiekh7FkI0Lwnpe9h77BKvJGVTVKrHQQO/HRpM3Mi+uDpLexZCND8J6TpcK69k4fajbD18EYBeXdxZ8kwk93fvaOXJhBBtiYR0Lb44WsgrSUcoLjO3598N68XLj/eR9iyEaHES0re5Wl7Jn5KPkpxpbs99fNqz5JlI7gvsYN3BhBBtloT0T3ZlF/DHbUcoLqvE0UHD74cF8+IIac9CCOtq8yF9pUzPa8lH2ZFVAECIrwdLnokgIqCDdQcTQgjaeEjvyDK356vl5vY87dFeTHusN1onac9CCNvQJkP6cqme17YdYdeRQgD6dfVg6TORhHfzsvJkQghRU5sKaaUU27MKWLDtCNduVOHkoGHa8N5MG94bFycHa48nhBB3sDiZ0tLSGD9+PP7+/mg0GrZu3XrPc1JTU4mKisLV1ZXg4GBWr17dkFkbpai0gqkbDvHiZxlcu1FFqJ8n26Y/zMyRfSWghRA2y+J0Ki8vJzIykhUrVtRrfW5uLmPHjmXo0KFkZGQwf/58XnzxRRITEy0etiGUUmzNyGfUO2l8cfQSzo4a4kb2Zdv0hwnzl8sbQgjbZvHljjFjxjBmzJh6r1+9ejXdu3dn2bJlAPTv35+DBw+ydOlSYmNjLX16ixTpKpifdIQvj18CILybJ0smRdLfr+6PTxdCCFvS7Nek09PTGTVqVI1jo0ePZu3atVRVVeHsfOcnZ+v1evR6ffVjnU5n8fMeOneV59cdQFdhwNlRw8uP9+V3w4JxdpRLG0II+9HsiVVYWIivr2+NY76+vhgMBoqLi2s9JyEhAS8vr+qvwMBAi5+3r68H7bVORAR48fmMoUwb3lsCWghhd1rk7g6NRlPjsVKq1uO3xMfHExcXV/1Yp9NZHNQers58OmUwAR3dcJJwFkLYqWYP6a5du1JYWFjjWFFREU5OTnh71/5ZgFqtFq1W2+jn7tnZvdF/hhBCWFOzV8yYmBj27t1b49iePXuIjo6u9Xq0EEKIf7E4pMvKyjh8+DCHDx8GzLfYHT58mLy8PMB8qeLXv/519fqpU6dy7tw54uLiOH78OH//+99Zu3Yts2bNapqfQAghWjGLL3ccPHiQ4cOHVz++de148uTJfPTRRxQUFFQHNkBQUBA7d+5k5syZrFy5En9/f5YvX97st98JIURroFG3XsWzYTqdDi8vL0pKSvD0lHuchRD2r765Jrc9CCGEDbOLN1i6VfYb8kstQghhi27l2b0uZthFSJeWlgI06JdahBDClpWWluLlVff7CNnFNWmTycTFixfx8PCo8xdganPrl2DOnz9vd9eyZXbrkNmtoy3OrpSitLQUf39/HBzqvvJsF03awcGBgICABp/v6elpd//hb5HZrUNmt462NvvdGvQt8sKhEELYMAlpIYSwYa06pLVaLQsWLGiS9wFpaTK7dcjs1iGz180uXjgUQoi2qlU3aSGEsHcS0kIIYcMkpIUQwoZJSAshhA2z+5B+7733CAoKwtXVlaioKL7++uu7rk9NTSUqKgpXV1eCg4NZvXp1C016J0tmT0lJQaPR3PF14sSJFpwY0tLSGD9+PP7+/mg0GrZu3XrPc2xlzy2d3Vb2HMyf+zlo0CA8PDzw8fFh4sSJ5OTk3PM8W9j7hsxuK3u/atUqIiIiqn9RJSYmhl27dt31nCbfc2XHNm7cqJydndUHH3ygjh07pl566SXl7u6uzp07V+v6M2fOqHbt2qmXXnpJHTt2TH3wwQfK2dlZbd68uYUnt3z2ffv2KUDl5OSogoKC6i+DwdCic+/cuVO98sorKjExUQEqKSnpruttac8tnd1W9lwppUaPHq3WrVunjhw5og4fPqzGjRununfvrsrKyuo8x1b2viGz28reJycnqx07dqicnByVk5Oj5s+fr5ydndWRI0dqXd8ce27XIf3AAw+oqVOn1jjWr18/NW/evFrXz5kzR/Xr16/Gsd///vdq8ODBzTZjXSyd/dZf2mvXrrXAdPVTn6CzpT2/nSUhbUt7fktRUZECVGpqap1rbHXv6zO7Le99x44d1Ycffljr95pjz+32ckdlZSWHDh1i1KhRNY6PGjWKb7/9ttZz0tPT71g/evRoDh48SFVVVbPN+nMNmf2WgQMH4ufnx4gRI9i3b19zjtkkbGXPG8MW97ykpASATp061bnGVve+PrPfYkt7bzQa2bhxI+Xl5cTExNS6pjn23G5Duri4GKPRiK+vb43jvr6+d3w6+S2FhYW1rjcYDBQXFzfbrD/XkNn9/PxYs2YNiYmJbNmyhZCQEEaMGEFaWlpLjNxgtrLnDWGre66UIi4ujiFDhhAeHl7nOlvc+/rObkt7n52dTfv27dFqtUydOpWkpCRCQ0NrXdsce24X74J3Nz9/61Kl1F3fzrS29bUdbwmWzB4SEkJISEj145iYGM6fP8/SpUsZNmxYs87ZWLa055aw1T2fPn06WVlZ7N+//55rbW3v6zu7Le19SEgIhw8f5vr16yQmJjJ58mRSU1PrDOqm3nO7bdKdO3fG0dHxjuZZVFR0x//JbunatWut652cnPD29m62WX+uIbPXZvDgwZw8ebKpx2tStrLnTcXaez5jxgySk5PZt2/fPd++19b23pLZa2OtvXdxcaF3795ER0eTkJBAZGQk7777bq1rm2PP7TakXVxciIqKYu/evTWO7927l4ceeqjWc2JiYu5Yv2fPHqKjo3F2dm62WX+uIbPXJiMjAz8/v6Yer0nZyp43FWvtuVKK6dOns2XLFr766iuCgoLueY6t7H1DZq+Nrfx9V0qh1+tr/V6z7HmDX3K0AbduY1u7dq06duyYevnll5W7u7s6e/asUkqpefPmqWeffbZ6/a3bY2bOnKmOHTum1q5da/Vb8Oo7+zvvvKOSkpLUjz/+qI4cOaLmzZunAJWYmNiic5eWlqqMjAyVkZGhAPXXv/5VZWRkVN86aMt7bunstrLnSin13//938rLy0ulpKTUuCXtxo0b1Wtsde8bMrut7H18fLxKS0tTubm5KisrS82fP185ODioPXv21Dp3c+y5XYe0UkqtXLlS9ejRQ7m4uKj777+/xm09kydPVo888kiN9SkpKWrgwIHKxcVF9ezZU61ataqFJ/4XS2Z/++23Va9evZSrq6vq2LGjGjJkiNqxY0eLz3zr1qiff02ePLnWuZWynT23dHZb2XOlVK1zA2rdunXVa2x17xsyu63s/QsvvFD9b7RLly5qxIgR1QFd29xKNf2ey1uVCiGEDbPba9JCCNEWSEgLIYQNk5AWQggbJiEthBA2TEJaCCFsmIS0EELYMAlpIYSwYRLSQghhwySkhRDChklICyGEDZOQFkIIGyYhLYQQNuz/A7XVHHPEEWXyAAAAAElFTkSuQmCC', 'text/plain': '<Figure size 400x267 with 1 Axes>'}, 'metadata': {'transient': {}, '__displayOpenPlotIcon': True}}], 'execution_count': 14},{'idx': 15, 'cell_type': 'code', 'source': \"#| export\\n# cell 15\\nImage('https://jupyter.org/assets/try/jupyter.png', metadata={'bridge': {'cell': 15}})\", 'id': 'X21sZmlsZQ==', 'metadata': {'brd': {'id': '268197ce-b8c0-4365-84de-27d06bbb5c5c'}}, 'outputs': [{'output_type': 'execute_result', 'data': {'image/png': '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', 'text/plain': '<IPython.core.display.Image object>'}, 'execution_count': 15, 'metadata': {'__displayOpenPlotIcon': True, 'image/png': {'bridge': {'cell': 15}}}}], 'execution_count': 15},{'idx': 16, 'cell_type': 'code', 'source': \"# cell 16\\ndh = displaydh(display_id=True, metadata={'bridge': {'cell': 16}})\", 'id': 'X22sZmlsZQ==', 'metadata': {'brd': {'id': 'd90254ba-7457-4559-9544-afe201a808ca'}}, 'outputs': [{'output_type': 'display_data', 'data': {}, 'metadata': {'transient': {'display_id': 'a6b5cc5f13bf64ce8dd73d0b79b0bef2'}, 'bridge': {'cell': 16}}}], 'execution_count': 16},{'idx': 17, 'cell_type': 'code', 'source': \"# cell 17\\ndh = displaydh(HTML('cell 17'), metadata={'bridge': {'cell': 17}})\", 'id': 'X23sZmlsZQ==', 'metadata': {'brd': {'id': '91e5d05a-6a56-4649-b8ad-8eae1bbd6727'}}, 'outputs': [{'output_type': 'display_data', 'data': {'text/html': 'cell 18', 'text/plain': '<IPython.core.display.HTML object>'}, 'metadata': {'transient': {'display_id': 'b0c4b491988399c7d88a82779528132d'}, 'bridge': {'cell': 18}}}], 'execution_count': 17},{'idx': 18, 'cell_type': 'code', 'source': \"# cell 18\\ndh.update(HTML('cell 18'), metadata={'bridge': {'cell': 18}})\", 'id': 'X24sZmlsZQ==', 'metadata': {'brd': {'id': '05bc7556-dd06-4434-ba68-6d438ed2cf56'}}, 'outputs': [], 'execution_count': 18},{'idx': 19, 'cell_type': 'code', 'source': \"# cell 19\\ndisplaydh(JSON({'cell': 19}), metadata={'bridge': {'cell': 19}});\", 'id': 'X25sZmlsZQ==', 'metadata': {'brd': {'id': 'c3efb63f-adee-41c4-9450-9f489406b873'}}, 'outputs': [{'output_type': 'display_data', 'data': {'application/json': {'cell': 19}, 'text/plain': '<IPython.core.display.JSON object>'}, 'metadata': {'transient': {'display_id': 'e81dd25b299e4881aff6aec417c5bed9'}, 'application/json': {'expanded': False, 'root': 'root'}, 'bridge': {'cell': 19}}}], 'execution_count': 19},{'idx': 20, 'cell_type': 'code', 'source': \"# cell 20\\ndisplay(W.IntSlider(20, description='cell'), metadata={'bridge': {'cell': 20}})\", 'id': 'X26sZmlsZQ==', 'metadata': {'brd': {'id': '873e423a-4028-4d7d-9912-61cb29478c2a'}}, 'outputs': [{'output_type': 'display_data', 'data': {'application/vnd.jupyter.widget-view+json': {'version_major': 2, 'version_minor': 0, 'model_id': 'a2e5512c64244dd8919c79ca4f5df767'}, 'text/plain': \"IntSlider(value=20, description='cell')\"}, 'metadata': {'transient': {}, 'bridge': {'cell': 20}}}], 'execution_count': 20}...]"
      ]
     },
     "execution_count": null,
     "metadata": {},
     "output_type": "execute_result"
    }
   ],
   "source": [
    "cells[idxs]"
   ]
  },
  {
   "cell_type": "code",
   "execution_count": null,
   "metadata": {},
   "outputs": [],
   "source": [
    "#| export\n",
    "\n",
    "def idx2cell(cells: Sequence[NBCell]|L, cell_type: CellTypesT|None=None) -> Mapping[int, NBCell]:\n",
    "    \"Return mapping of indices to cells of type `cell_type`\"\n",
    "    cells = L(cells)\n",
    "    idxs = by_type(cells, cell_type) if cell_type else L.range(len(cells))\n",
    "    return dict(idxs.zipwith(cells[idxs]))"
   ]
  },
  {
   "cell_type": "code",
   "execution_count": null,
   "metadata": {},
   "outputs": [
    {
     "data": {
      "text/plain": [
       "dict_keys([1, 2, 3, 4, 5, 6, 7, 8, 9, 10, 11, 12, 13, 14, 15, 16, 17, 18, 19, 20, 21, 22, 24, 25, 26, 27, 28, 29, 30, 31, 32, 33, 34, 35, 36, 37, 38, 39, 40, 41])"
      ]
     },
     "execution_count": null,
     "metadata": {},
     "output_type": "execute_result"
    }
   ],
   "source": [
    "test_eq(all(isinstance(c, NBCellCode) for c in idx2cell(cells, 'code').values()), True)\n",
    "idx2cell(cells, 'code').keys()"
   ]
  },
  {
   "cell_type": "code",
   "execution_count": null,
   "metadata": {},
   "outputs": [
    {
     "data": {
      "text/html": [
       "<style>details ul { list-style-type:none; list-style-position: outside; padding-inline-start: 22px; margin: 0; } details .string { color: #24837b; } details .string::before { content: \"'\"; } details .string::after { content: \"'\"; } details .number { color: #ad8301; } details .true { color: blue; } details .false { color: red; } details .null { color: gray; } span.n { color: darkgrey; } </style>\n",
       "<details open><summary>NBCell@1\n",
       "</summary>  <ul>\n",
       "    <li>\n",
       "<span><span class=\"n\">idx</span>: <span class=\"v number\">1</span></span>    </li>\n",
       "    <li>\n",
       "<span><span class=\"n\">cell_type</span>: <span class=\"v string\">code</span></span>    </li>\n",
       "    <li>\n",
       "<span><span class=\"n\">source</span>: <span class=\"v string\"># cell 1\n",
       "import time\n",
       "from itertools import count\n",
       "\n",
       "import ipywidgets as W\n",
       "import matplotlib.pyplot as plt\n",
       "from bridget.helpers import display…</span></span>    </li>\n",
       "    <li>\n",
       "<span><span class=\"n\">id</span>: <span class=\"v string\">W1sZmlsZQ==</span></span>    </li>\n",
       "    <li>\n",
       "<span><span class=\"n\">metadata</span>: <span class=\"v \">{&#x27;brd&#x27;: {&#x27;id&#x27;: &#x27;717322f8-95fa-425c-839d-8b9e7d4ef921&#x27;}}</span></span>    </li>\n",
       "<details open><summary>outputs\n",
       "</summary>      <ul></ul>\n",
       "</details>    <li>\n",
       "<span><span class=\"n\">execution_count</span>: <span class=\"v number\">1</span></span>    </li>\n",
       "  </ul>\n",
       "</details>"
      ],
      "text/markdown": [
       "> code\n",
       "\n",
       "```json\n",
       "{\n",
       "  'idx': 1,\n",
       "  'cell_type': 'code',\n",
       "  'source': '# cell 1\\nimport time\\nfrom itertools import count\\n\\nimport ipywidgets as W\\nimport matplotlib.pyplot as plt\\nfrom bridget.helpers import displaydh\\nfrom IPython.display import HTML, Image, Javascript, JSON, DisplayHandle, clear_output\\ncounter = count()',\n",
       "  'id': 'W1sZmlsZQ==',\n",
       "  'metadata': {'brd': {'id': '717322f8-95fa-425c-839d-8b9e7d4ef921'}},\n",
       "  'outputs': [],\n",
       "  'execution_count': 1\n",
       "}\n",
       "```"
      ],
      "text/plain": [
       "{'idx': 1,\n",
       " 'cell_type': 'code',\n",
       " 'source': '# cell 1\\nimport time\\nfrom itertools import count\\n\\nimport ipywidgets as W\\nimport matplotlib.pyplot as plt\\nfrom bridget.helpers import displaydh\\nfrom IPython.display import HTML, Image, Javascript, JSON, DisplayHandle, clear_output\\ncounter = count()',\n",
       " 'id': 'W1sZmlsZQ==',\n",
       " 'metadata': {'brd': {'id': '717322f8-95fa-425c-839d-8b9e7d4ef921'}},\n",
       " 'outputs': [],\n",
       " 'execution_count': 1}"
      ]
     },
     "execution_count": null,
     "metadata": {},
     "output_type": "execute_result"
    }
   ],
   "source": [
    "idx2cell(cells, 'code')[1]"
   ]
  },
  {
   "cell_type": "markdown",
   "metadata": {},
   "source": [
    "## withOutputs"
   ]
  },
  {
   "cell_type": "code",
   "execution_count": null,
   "metadata": {},
   "outputs": [
    {
     "data": {
      "text/plain": [
       "(#40) [1,2,3,4,5,6,7,8,9,10,11,12,13,14,15,16,17,18,19,20...]"
      ]
     },
     "metadata": {},
     "output_type": "display_data"
    },
    {
     "name": "stdout",
     "output_type": "stream",
     "text": [
      "(1, {'idx': 1, 'cell_type': 'code', 'source': '# cell 1\\nimport time\\nfrom itertools import count\\n\\nimport ipywidgets as W\\nimport matplotlib.pyplot as plt\\nfrom bridget.helpers import displaydh\\nfrom IPython.display import HTML, Image, Javascript, JSON, DisplayHandle, clear_output\\ncounter = count()', 'id': 'W1sZmlsZQ==', 'metadata': {'brd': {'id': '717322f8-95fa-425c-839d-8b9e7d4ef921'}}, 'outputs': [], 'execution_count': 1})\n"
     ]
    },
    {
     "data": {
      "text/html": [
       "<style>details ul { list-style-type:none; list-style-position: outside; padding-inline-start: 22px; margin: 0; } details .string { color: #24837b; } details .string::before { content: \"'\"; } details .string::after { content: \"'\"; } details .number { color: #ad8301; } details .true { color: blue; } details .false { color: red; } details .null { color: gray; } span.n { color: darkgrey; } </style>\n",
       "<details open><summary>NBCell@3\n",
       "</summary>  <ul>\n",
       "    <li>\n",
       "<span><span class=\"n\">idx</span>: <span class=\"v number\">3</span></span>    </li>\n",
       "    <li>\n",
       "<span><span class=\"n\">cell_type</span>: <span class=\"v string\">code</span></span>    </li>\n",
       "    <li>\n",
       "<span><span class=\"n\">source</span>: <span class=\"v string\"># cell 3\n",
       "displaydh(&#x27;cell 3&#x27;, metadata={&#x27;bridge&#x27;: {&#x27;cell&#x27;: 3}});</span></span>    </li>\n",
       "    <li>\n",
       "<span><span class=\"n\">id</span>: <span class=\"v string\">W3sZmlsZQ==</span></span>    </li>\n",
       "    <li>\n",
       "<span><span class=\"n\">metadata</span>: <span class=\"v \">{&#x27;brd&#x27;: {&#x27;id&#x27;: &#x27;f2c19c18-a3f7-4acb-88e4-c7239178c401&#x27;}}</span></span>    </li>\n",
       "<details open><summary>outputs\n",
       "</summary>      <ul>\n",
       "<details open><summary>0\n",
       "</summary>          <ul>\n",
       "            <li>\n",
       "<span><span class=\"n\">output_type</span>: <span class=\"v string\">display_data</span></span>            </li>\n",
       "<details open><summary>data\n",
       "</summary>              <ul>\n",
       "                <li>\n",
       "<span><span class=\"n\">text/plain</span>: <span class=\"v string\">&#x27;cell 3&#x27;</span></span>                </li>\n",
       "              </ul>\n",
       "</details>            <li>\n",
       "<span><span class=\"n\">metadata</span>: <span class=\"v \">{&#x27;transient&#x27;: {&#x27;display_id&#x27;: &#x27;9d0548d3b88c66b7def8b47bbe5a12dd&#x27;}, &#x27;bridge&#x27;: {&#x27;cell&#x27;: 3}}</span></span>            </li>\n",
       "          </ul>\n",
       "</details>      </ul>\n",
       "</details>    <li>\n",
       "<span><span class=\"n\">execution_count</span>: <span class=\"v number\">3</span></span>    </li>\n",
       "  </ul>\n",
       "</details>"
      ],
      "text/markdown": [
       "> code\n",
       "\n",
       "```json\n",
       "{\n",
       "  'idx': 3,\n",
       "  'cell_type': 'code',\n",
       "  'source': \"# cell 3\\ndisplaydh('cell 3', metadata={'bridge': {'cell': 3}});\",\n",
       "  'id': 'W3sZmlsZQ==',\n",
       "  'metadata': {'brd': {'id': 'f2c19c18-a3f7-4acb-88e4-c7239178c401'}},\n",
       "  'outputs': [\n",
       "    {\n",
       "      'output_type': 'display_data',\n",
       "      'data': {'text/plain': \"'cell 3'\"},\n",
       "      'metadata': {'transient': {'display_id': '9d0548d3b88c66b7def8b47bbe5a12dd'}, 'bridge': {'cell': 3}}\n",
       "    }\n",
       "  ],\n",
       "  'execution_count': 3\n",
       "}\n",
       "```"
      ],
      "text/plain": [
       "{'idx': 3,\n",
       " 'cell_type': 'code',\n",
       " 'source': \"# cell 3\\ndisplaydh('cell 3', metadata={'bridge': {'cell': 3}});\",\n",
       " 'id': 'W3sZmlsZQ==',\n",
       " 'metadata': {'brd': {'id': 'f2c19c18-a3f7-4acb-88e4-c7239178c401'}},\n",
       " 'outputs': [{'output_type': 'display_data',\n",
       "   'data': {'text/plain': \"'cell 3'\"},\n",
       "   'metadata': {'transient': {'display_id': '9d0548d3b88c66b7def8b47bbe5a12dd'},\n",
       "    'bridge': {'cell': 3}}}],\n",
       " 'execution_count': 3}"
      ]
     },
     "execution_count": null,
     "metadata": {},
     "output_type": "execute_result"
    }
   ],
   "source": [
    "outputs_idx = cells.argwhere(lambda c: 'outputs' in c)\n",
    "display(outputs_idx)\n",
    "\n",
    "print(outputs_idx.zipwith(cells[outputs_idx])[0])\n",
    "\n",
    "dict(outputs_idx.zipwith(cells[outputs_idx]))[3]"
   ]
  },
  {
   "cell_type": "code",
   "execution_count": null,
   "metadata": {},
   "outputs": [],
   "source": [
    "#| export\n",
    "\n",
    "def withOutputs(cells: Sequence[NBCell]|L):\n",
    "    'Return indices of cells with outputs'\n",
    "    return L(cells).argwhere(lambda c: 'outputs' in c)"
   ]
  },
  {
   "cell_type": "code",
   "execution_count": null,
   "metadata": {},
   "outputs": [
    {
     "data": {
      "text/plain": [
       "(#4) [1,2,3,4]"
      ]
     },
     "execution_count": null,
     "metadata": {},
     "output_type": "execute_result"
    }
   ],
   "source": [
    "withOutputs(cells[:5])"
   ]
  },
  {
   "cell_type": "markdown",
   "metadata": {},
   "source": [
    "## idx2outputs"
   ]
  },
  {
   "cell_type": "code",
   "execution_count": null,
   "metadata": {},
   "outputs": [],
   "source": [
    "#| export\n",
    "\n",
    "def idx2outputs(cells: Sequence[NBCell]|L) -> dict[int, L]:\n",
    "    'Return dict of indices to cells with outputs'\n",
    "    outputs_idx = withOutputs(cells := L(cells))\n",
    "    return dict(outputs_idx.zipwith(cells[outputs_idx]))"
   ]
  },
  {
   "cell_type": "code",
   "execution_count": null,
   "metadata": {},
   "outputs": [
    {
     "data": {
      "text/html": [
       "<style>details ul { list-style-type:none; list-style-position: outside; padding-inline-start: 22px; margin: 0; } details .string { color: #24837b; } details .string::before { content: \"'\"; } details .string::after { content: \"'\"; } details .number { color: #ad8301; } details .true { color: blue; } details .false { color: red; } details .null { color: gray; } span.n { color: darkgrey; } </style>\n",
       "<details open><summary>NBCell@2\n",
       "</summary>  <ul>\n",
       "    <li>\n",
       "<span><span class=\"n\">idx</span>: <span class=\"v number\">2</span></span>    </li>\n",
       "    <li>\n",
       "<span><span class=\"n\">cell_type</span>: <span class=\"v string\">code</span></span>    </li>\n",
       "    <li>\n",
       "<span><span class=\"n\">source</span>: <span class=\"v string\"># cell 2\n",
       "print(1)</span></span>    </li>\n",
       "    <li>\n",
       "<span><span class=\"n\">id</span>: <span class=\"v string\">W2sZmlsZQ==</span></span>    </li>\n",
       "    <li>\n",
       "<span><span class=\"n\">metadata</span>: <span class=\"v \">{&#x27;brd&#x27;: {&#x27;id&#x27;: &#x27;92f3e304-fd32-4de2-badf-11577f9e7a4a&#x27;}}</span></span>    </li>\n",
       "<details open><summary>outputs\n",
       "</summary>      <ul>\n",
       "<details open><summary>0\n",
       "</summary>          <ul>\n",
       "            <li>\n",
       "<span><span class=\"n\">output_type</span>: <span class=\"v string\">stream</span></span>            </li>\n",
       "            <li>\n",
       "<span><span class=\"n\">name</span>: <span class=\"v string\">stdout</span></span>            </li>\n",
       "            <li>\n",
       "<span><span class=\"n\">text</span>: <span class=\"v string\">1\n",
       "</span></span>            </li>\n",
       "          </ul>\n",
       "</details>      </ul>\n",
       "</details>    <li>\n",
       "<span><span class=\"n\">execution_count</span>: <span class=\"v number\">2</span></span>    </li>\n",
       "  </ul>\n",
       "</details>"
      ],
      "text/markdown": [
       "> code\n",
       "\n",
       "```json\n",
       "{\n",
       "  'idx': 2,\n",
       "  'cell_type': 'code',\n",
       "  'source': '# cell 2\\nprint(1)',\n",
       "  'id': 'W2sZmlsZQ==',\n",
       "  'metadata': {'brd': {'id': '92f3e304-fd32-4de2-badf-11577f9e7a4a'}},\n",
       "  'outputs': [{'output_type': 'stream', 'name': 'stdout', 'text': '1\\n'}],\n",
       "  'execution_count': 2\n",
       "}\n",
       "```"
      ],
      "text/plain": [
       "{'idx': 2,\n",
       " 'cell_type': 'code',\n",
       " 'source': '# cell 2\\nprint(1)',\n",
       " 'id': 'W2sZmlsZQ==',\n",
       " 'metadata': {'brd': {'id': '92f3e304-fd32-4de2-badf-11577f9e7a4a'}},\n",
       " 'outputs': [{'output_type': 'stream', 'name': 'stdout', 'text': '1\\n'}],\n",
       " 'execution_count': 2}"
      ]
     },
     "execution_count": null,
     "metadata": {},
     "output_type": "execute_result"
    }
   ],
   "source": [
    "idx2outputs(cells)[2]"
   ]
  },
  {
   "cell_type": "code",
   "execution_count": null,
   "metadata": {},
   "outputs": [
    {
     "data": {
      "text/html": [
       "<style>details ul { list-style-type:none; list-style-position: outside; padding-inline-start: 22px; margin: 0; } details .string { color: #24837b; } details .string::before { content: \"'\"; } details .string::after { content: \"'\"; } details .number { color: #ad8301; } details .true { color: blue; } details .false { color: red; } details .null { color: gray; } span.n { color: darkgrey; } </style>\n",
       "<details open><summary>NBCell@7\n",
       "</summary>  <ul>\n",
       "    <li>\n",
       "<span><span class=\"n\">idx</span>: <span class=\"v number\">7</span></span>    </li>\n",
       "    <li>\n",
       "<span><span class=\"n\">cell_type</span>: <span class=\"v string\">code</span></span>    </li>\n",
       "    <li>\n",
       "<span><span class=\"n\">source</span>: <span class=\"v string\"># cell 7\n",
       "displaydh(HTML(&#x27;cell 7.1&#x27;), metadata={&#x27;bridge&#x27;: {&#x27;cell&#x27;: 7.1}})\n",
       "displaydh(HTML(&#x27;cell 7.2&#x27;), metadata={&#x27;bridge&#x27;: {&#x27;cell&#x27;: 7.2}});</span></span>    </li>\n",
       "    <li>\n",
       "<span><span class=\"n\">id</span>: <span class=\"v string\">X10sZmlsZQ==</span></span>    </li>\n",
       "    <li>\n",
       "<span><span class=\"n\">metadata</span>: <span class=\"v \">{&#x27;brd&#x27;: {&#x27;id&#x27;: &#x27;7512abfe-f7d2-4047-a6b1-56aefbf9457e&#x27;}}</span></span>    </li>\n",
       "<details open><summary>outputs\n",
       "</summary>      <ul>\n",
       "<details open><summary>0\n",
       "</summary>          <ul>\n",
       "            <li>\n",
       "<span><span class=\"n\">output_type</span>: <span class=\"v string\">display_data</span></span>            </li>\n",
       "<details open><summary>data\n",
       "</summary>              <ul>\n",
       "                <li>\n",
       "<span><span class=\"n\">text/html</span>: <span class=\"v string\">cell 7.1</span></span>                </li>\n",
       "                <li>\n",
       "<span><span class=\"n\">text/plain</span>: <span class=\"v string\">&lt;IPython.core.display.HTML object&gt;</span></span>                </li>\n",
       "              </ul>\n",
       "</details>            <li>\n",
       "<span><span class=\"n\">metadata</span>: <span class=\"v \">{&#x27;transient&#x27;: {&#x27;display_id&#x27;: &#x27;331d2582eb05fdc75afaa4c616fc8b6c&#x27;}, &#x27;bridge&#x27;: {&#x27;cell&#x27;: 7.1}}</span></span>            </li>\n",
       "          </ul>\n",
       "</details><details open><summary>1\n",
       "</summary>          <ul>\n",
       "            <li>\n",
       "<span><span class=\"n\">output_type</span>: <span class=\"v string\">display_data</span></span>            </li>\n",
       "<details open><summary>data\n",
       "</summary>              <ul>\n",
       "                <li>\n",
       "<span><span class=\"n\">text/html</span>: <span class=\"v string\">cell 7.2</span></span>                </li>\n",
       "                <li>\n",
       "<span><span class=\"n\">text/plain</span>: <span class=\"v string\">&lt;IPython.core.display.HTML object&gt;</span></span>                </li>\n",
       "              </ul>\n",
       "</details>            <li>\n",
       "<span><span class=\"n\">metadata</span>: <span class=\"v \">{&#x27;transient&#x27;: {&#x27;display_id&#x27;: &#x27;bbb4397c26ce0c3fb2f1acddc6ce91b1&#x27;}, &#x27;bridge&#x27;: {&#x27;cell&#x27;: 7.2}}</span></span>            </li>\n",
       "          </ul>\n",
       "</details>      </ul>\n",
       "</details>    <li>\n",
       "<span><span class=\"n\">execution_count</span>: <span class=\"v number\">7</span></span>    </li>\n",
       "  </ul>\n",
       "</details>"
      ],
      "text/markdown": [
       "> code\n",
       "\n",
       "```json\n",
       "{\n",
       "  'idx': 7,\n",
       "  'cell_type': 'code',\n",
       "  'source': \"# cell 7\\ndisplaydh(HTML('cell 7.1'), metadata={'bridge': {'cell': 7.1}})\\ndisplaydh(HTML('cell 7.2'), metadata={'bridge': {'cell': 7.2}});\",\n",
       "  'id': 'X10sZmlsZQ==',\n",
       "  'metadata': {'brd': {'id': '7512abfe-f7d2-4047-a6b1-56aefbf9457e'}},\n",
       "  'outputs': [\n",
       "    {\n",
       "      'output_type': 'display_data',\n",
       "      'data': {'text/html': 'cell 7.1', 'text/plain': '<IPython.core.display.HTML object>'},\n",
       "      'metadata': {'transient': {'display_id': '331d2582eb05fdc75afaa4c616fc8b6c'}, 'bridge': {'cell': 7.1}}\n",
       "    },\n",
       "    {\n",
       "      'output_type': 'display_data',\n",
       "      'data': {'text/html': 'cell 7.2', 'text/plain': '<IPython.core.display.HTML object>'},\n",
       "      'metadata': {'transient': {'display_id': 'bbb4397c26ce0c3fb2f1acddc6ce91b1'}, 'bridge': {'cell': 7.2}}\n",
       "    }\n",
       "  ],\n",
       "  'execution_count': 7\n",
       "}\n",
       "```"
      ],
      "text/plain": [
       "{'idx': 7,\n",
       " 'cell_type': 'code',\n",
       " 'source': \"# cell 7\\ndisplaydh(HTML('cell 7.1'), metadata={'bridge': {'cell': 7.1}})\\ndisplaydh(HTML('cell 7.2'), metadata={'bridge': {'cell': 7.2}});\",\n",
       " 'id': 'X10sZmlsZQ==',\n",
       " 'metadata': {'brd': {'id': '7512abfe-f7d2-4047-a6b1-56aefbf9457e'}},\n",
       " 'outputs': [{'output_type': 'display_data',\n",
       "   'data': {'text/html': 'cell 7.1',\n",
       "    'text/plain': '<IPython.core.display.HTML object>'},\n",
       "   'metadata': {'transient': {'display_id': '331d2582eb05fdc75afaa4c616fc8b6c'},\n",
       "    'bridge': {'cell': 7.1}}},\n",
       "  {'output_type': 'display_data',\n",
       "   'data': {'text/html': 'cell 7.2',\n",
       "    'text/plain': '<IPython.core.display.HTML object>'},\n",
       "   'metadata': {'transient': {'display_id': 'bbb4397c26ce0c3fb2f1acddc6ce91b1'},\n",
       "    'bridge': {'cell': 7.2}}}],\n",
       " 'execution_count': 7}"
      ]
     },
     "execution_count": null,
     "metadata": {},
     "output_type": "execute_result"
    }
   ],
   "source": [
    "idx2outputs(cells)[7]"
   ]
  },
  {
   "cell_type": "code",
   "execution_count": null,
   "metadata": {},
   "outputs": [
    {
     "data": {
      "text/html": [
       "<style>details ul { list-style-type:none; list-style-position: outside; padding-inline-start: 22px; margin: 0; } details .string { color: #24837b; } details .string::before { content: \"'\"; } details .string::after { content: \"'\"; } details .number { color: #ad8301; } details .true { color: blue; } details .false { color: red; } details .null { color: gray; } span.n { color: darkgrey; } </style>\n",
       "<details open><summary>NBCell@12\n",
       "</summary>  <ul>\n",
       "    <li>\n",
       "<span><span class=\"n\">idx</span>: <span class=\"v number\">12</span></span>    </li>\n",
       "    <li>\n",
       "<span><span class=\"n\">cell_type</span>: <span class=\"v string\">code</span></span>    </li>\n",
       "    <li>\n",
       "<span><span class=\"n\">source</span>: <span class=\"v string\"># cell 12\n",
       "W.IntSlider(12, description=&#x27;cell&#x27;)</span></span>    </li>\n",
       "    <li>\n",
       "<span><span class=\"n\">id</span>: <span class=\"v string\">X15sZmlsZQ==</span></span>    </li>\n",
       "    <li>\n",
       "<span><span class=\"n\">metadata</span>: <span class=\"v \">{&#x27;brd&#x27;: {&#x27;id&#x27;: &#x27;e7e6d557-3aa7-41a7-9e77-805295112aec&#x27;}}</span></span>    </li>\n",
       "<details open><summary>outputs\n",
       "</summary>      <ul>\n",
       "<details open><summary>0\n",
       "</summary>          <ul>\n",
       "            <li>\n",
       "<span><span class=\"n\">output_type</span>: <span class=\"v string\">execute_result</span></span>            </li>\n",
       "<details open><summary>data\n",
       "</summary>              <ul>\n",
       "<details open><summary>application/vnd.jupyter.widget-view+json\n",
       "</summary>                  <ul>\n",
       "                    <li>\n",
       "<span><span class=\"n\">version_major</span>: <span class=\"v number\">2</span></span>                    </li>\n",
       "                    <li>\n",
       "<span><span class=\"n\">version_minor</span>: <span class=\"v number\">0</span></span>                    </li>\n",
       "                    <li>\n",
       "<span><span class=\"n\">model_id</span>: <span class=\"v string\">6191b18d61a44fbd89eb132d22a28eab</span></span>                    </li>\n",
       "                  </ul>\n",
       "</details>                <li>\n",
       "<span><span class=\"n\">text/plain</span>: <span class=\"v string\">IntSlider(value=12, description=&#x27;cell&#x27;)</span></span>                </li>\n",
       "              </ul>\n",
       "</details>            <li>\n",
       "<span><span class=\"n\">execution_count</span>: <span class=\"v number\">12</span></span>            </li>\n",
       "            <li>\n",
       "<span><span class=\"n\">metadata</span>: <span class=\"v \">{}</span></span>            </li>\n",
       "          </ul>\n",
       "</details>      </ul>\n",
       "</details>    <li>\n",
       "<span><span class=\"n\">execution_count</span>: <span class=\"v number\">12</span></span>    </li>\n",
       "  </ul>\n",
       "</details>"
      ],
      "text/markdown": [
       "> code\n",
       "\n",
       "```json\n",
       "{\n",
       "  'idx': 12,\n",
       "  'cell_type': 'code',\n",
       "  'source': \"# cell 12\\nW.IntSlider(12, description='cell')\",\n",
       "  'id': 'X15sZmlsZQ==',\n",
       "  'metadata': {'brd': {'id': 'e7e6d557-3aa7-41a7-9e77-805295112aec'}},\n",
       "  'outputs': [\n",
       "    {\n",
       "      'output_type': 'execute_result',\n",
       "      'data': {\n",
       "        'application/vnd.jupyter.widget-view+json': {\n",
       "          'version_major': 2,\n",
       "          'version_minor': 0,\n",
       "          'model_id': '6191b18d61a44fbd89eb132d22a28eab'\n",
       "        },\n",
       "        'text/plain': \"IntSlider(value=12, description='cell')\"\n",
       "      },\n",
       "      'execution_count': 12,\n",
       "      'metadata': {}\n",
       "    }\n",
       "  ],\n",
       "  'execution_count': 12\n",
       "}\n",
       "```"
      ],
      "text/plain": [
       "{'idx': 12,\n",
       " 'cell_type': 'code',\n",
       " 'source': \"# cell 12\\nW.IntSlider(12, description='cell')\",\n",
       " 'id': 'X15sZmlsZQ==',\n",
       " 'metadata': {'brd': {'id': 'e7e6d557-3aa7-41a7-9e77-805295112aec'}},\n",
       " 'outputs': [{'output_type': 'execute_result',\n",
       "   'data': {'application/vnd.jupyter.widget-view+json': {'version_major': 2,\n",
       "     'version_minor': 0,\n",
       "     'model_id': '6191b18d61a44fbd89eb132d22a28eab'},\n",
       "    'text/plain': \"IntSlider(value=12, description='cell')\"},\n",
       "   'execution_count': 12,\n",
       "   'metadata': {}}],\n",
       " 'execution_count': 12}"
      ]
     },
     "execution_count": null,
     "metadata": {},
     "output_type": "execute_result"
    }
   ],
   "source": [
    "idx2outputs(cells)[12]"
   ]
  },
  {
   "cell_type": "markdown",
   "metadata": {},
   "source": [
    "## idx2dids"
   ]
  },
  {
   "cell_type": "code",
   "execution_count": null,
   "metadata": {},
   "outputs": [
    {
     "data": {
      "text/plain": [
       "(#40) [1,2,3,4,5,6,7,8,9,10,11,12,13,14,15,16,17,18,19,20...]"
      ]
     },
     "execution_count": null,
     "metadata": {},
     "output_type": "execute_result"
    }
   ],
   "source": [
    "outputs_idx = withOutputs(cells := L(cells))\n",
    "outputs_idx"
   ]
  },
  {
   "cell_type": "code",
   "execution_count": null,
   "metadata": {},
   "outputs": [
    {
     "data": {
      "text/plain": [
       "(#10) [(3, {'idx': 3, 'cell_type': 'code', 'source': \"# cell 3\\ndisplaydh('cell 3', metadata={'bridge': {'cell': 3}});\", 'id': 'W3sZmlsZQ==', 'metadata': {'brd': {'id': 'f2c19c18-a3f7-4acb-88e4-c7239178c401'}}, 'outputs': [{'output_type': 'display_data', 'data': {'text/plain': \"'cell 3'\"}, 'metadata': {'transient': {'display_id': '9d0548d3b88c66b7def8b47bbe5a12dd'}, 'bridge': {'cell': 3}}}], 'execution_count': 3}),(4, {'idx': 4, 'cell_type': 'code', 'source': \"# cell 4\\nimport time\\ntime.sleep(2)\\ndisplaydh(HTML('cell 4'), metadata={'bridge': {'cell': 4}});\", 'id': 'W4sZmlsZQ==', 'metadata': {'brd': {'id': '798f7f83-9b31-4e21-a36b-5520c6f72a2d'}}, 'outputs': [{'output_type': 'display_data', 'data': {'text/html': 'cell 4', 'text/plain': '<IPython.core.display.HTML object>'}, 'metadata': {'transient': {'display_id': '2ffe60c5c571592fc61fe81faab39e34'}, 'bridge': {'cell': 4}}}], 'execution_count': 4}),(5, {'idx': 5, 'cell_type': 'code', 'source': '# cell 5\\ndisplaydh(Javascript(\\'console.log(\"cell 5\")\\'), metadata={\\'bridge\\': {\\'cell\\': 5}});', 'id': 'W5sZmlsZQ==', 'metadata': {'brd': {'id': 'a20081a9-4e7e-4301-be25-2a44f45bfc71'}}, 'outputs': [{'output_type': 'display_data', 'data': {'application/javascript': 'console.log(\"cell 5\")', 'text/plain': '<IPython.core.display.Javascript object>'}, 'metadata': {'transient': {'display_id': 'b970be042e0ebd1e5af19aadcfbf213e'}, 'bridge': {'cell': 5}}}], 'execution_count': 5}),(7, {'idx': 7, 'cell_type': 'code', 'source': \"# cell 7\\ndisplaydh(HTML('cell 7.1'), metadata={'bridge': {'cell': 7.1}})\\ndisplaydh(HTML('cell 7.2'), metadata={'bridge': {'cell': 7.2}});\", 'id': 'X10sZmlsZQ==', 'metadata': {'brd': {'id': '7512abfe-f7d2-4047-a6b1-56aefbf9457e'}}, 'outputs': [{'output_type': 'display_data', 'data': {'text/html': 'cell 7.1', 'text/plain': '<IPython.core.display.HTML object>'}, 'metadata': {'transient': {'display_id': '331d2582eb05fdc75afaa4c616fc8b6c'}, 'bridge': {'cell': 7.1}}}, {'output_type': 'display_data', 'data': {'text/html': 'cell 7.2', 'text/plain': '<IPython.core.display.HTML object>'}, 'metadata': {'transient': {'display_id': 'bbb4397c26ce0c3fb2f1acddc6ce91b1'}, 'bridge': {'cell': 7.2}}}], 'execution_count': 7}),(16, {'idx': 16, 'cell_type': 'code', 'source': \"# cell 16\\ndh = displaydh(display_id=True, metadata={'bridge': {'cell': 16}})\", 'id': 'X22sZmlsZQ==', 'metadata': {'brd': {'id': 'd90254ba-7457-4559-9544-afe201a808ca'}}, 'outputs': [{'output_type': 'display_data', 'data': {}, 'metadata': {'transient': {'display_id': 'a6b5cc5f13bf64ce8dd73d0b79b0bef2'}, 'bridge': {'cell': 16}}}], 'execution_count': 16}),(17, {'idx': 17, 'cell_type': 'code', 'source': \"# cell 17\\ndh = displaydh(HTML('cell 17'), metadata={'bridge': {'cell': 17}})\", 'id': 'X23sZmlsZQ==', 'metadata': {'brd': {'id': '91e5d05a-6a56-4649-b8ad-8eae1bbd6727'}}, 'outputs': [{'output_type': 'display_data', 'data': {'text/html': 'cell 18', 'text/plain': '<IPython.core.display.HTML object>'}, 'metadata': {'transient': {'display_id': 'b0c4b491988399c7d88a82779528132d'}, 'bridge': {'cell': 18}}}], 'execution_count': 17}),(19, {'idx': 19, 'cell_type': 'code', 'source': \"# cell 19\\ndisplaydh(JSON({'cell': 19}), metadata={'bridge': {'cell': 19}});\", 'id': 'X25sZmlsZQ==', 'metadata': {'brd': {'id': 'c3efb63f-adee-41c4-9450-9f489406b873'}}, 'outputs': [{'output_type': 'display_data', 'data': {'application/json': {'cell': 19}, 'text/plain': '<IPython.core.display.JSON object>'}, 'metadata': {'transient': {'display_id': 'e81dd25b299e4881aff6aec417c5bed9'}, 'application/json': {'expanded': False, 'root': 'root'}, 'bridge': {'cell': 19}}}], 'execution_count': 19}),(24, {'idx': 24, 'cell_type': 'code', 'source': \"# cell 24\\nfrom itertools import count\\nfrom bridget.helpers import displaydh\\nfrom IPython.display import HTML, Javascript, clear_output\\ncounter = count()\\ndh0 = displaydh(HTML('cell 24.0'), metadata={'bridge': {'cell': 24.0}})\\ndh1 = displaydh(\\n    {'application/x-notebook-state+json': {'feedback': True, 'hide': False, 'debug': True, 'id': next(counter)}}, \\n    raw=True, metadata={'bridge': {'cell': 24.1}})\", 'id': 'X33sZmlsZQ==', 'metadata': {'brd': {'id': 'e4bbb456-27fa-47d1-b95b-637b61e0e8f5', 'renderer': True}}, 'outputs': [{'output_type': 'display_data', 'data': {'text/html': 'cell 28', 'text/plain': '<IPython.core.display.HTML object>'}, 'metadata': {'transient': {'display_id': '17a535413c8fe54ee37fcbb955080974'}, 'bridge': {'cell': 28, 'cnt': 3}}}, {'output_type': 'display_data', 'data': {'text/plain': '', 'application/x-notebook-state+json': {'debug': True, 'id': 9}}, 'metadata': {'transient': {'display_id': '4e0bb057682577c6b2e76798cfd1c72b'}, 'bridge': {'cell': 34}}}], 'execution_count': 22}),(26, {'idx': 26, 'cell_type': 'code', 'source': \"# cell 26\\n_ = displaydh('cell 26.1', metadata={'bridge': {'cell': 26.1}})\\n_ = displaydh('cell 26.2', metadata={'bridge': {'cell': 26.2}})\", 'id': 'X35sZmlsZQ==', 'metadata': {'brd': {'id': '5dc3eece-bec8-47c1-b409-0147dc8a7114'}}, 'outputs': [{'output_type': 'display_data', 'data': {'text/plain': \"'cell 26.1'\"}, 'metadata': {'transient': {'display_id': 'c68769547e548a782744181ecf1b0300'}, 'bridge': {'cell': 26.1}}}, {'output_type': 'display_data', 'data': {'text/plain': \"'cell 26.2'\"}, 'metadata': {'transient': {'display_id': '856c65ace729d32c289b73e63449e0bb'}, 'bridge': {'cell': 26.2}}}], 'execution_count': 24}),(35, {'idx': 35, 'cell_type': 'code', 'source': \"# cell 35\\ndh2 = displaydh({'application/x-notebook-state+json': {'feedback': True, 'debug': True, 'id': next(counter)}}, \\n        raw=True, metadata={'bridge': {'cell': 35}})\\n# clear_output()\", 'id': 'X50sZmlsZQ==', 'metadata': {'brd': {'id': 'e7eb193d-f9fe-41b6-b817-1328963ff734', 'renderer': True}}, 'outputs': [{'output_type': 'display_data', 'data': {'application/x-notebook-state+json': '{\"id\":11}'}, 'metadata': {'transient': {'display_id': '8894c44ba611e5ac9b751df9df223d30'}, 'bridge': {'cell': 36, 'update': True}}}], 'execution_count': 33})]"
      ]
     },
     "execution_count": null,
     "metadata": {},
     "output_type": "execute_result"
    }
   ],
   "source": [
    "outputs_idx.zipwith(cells[outputs_idx]).filter(lambda c: c[1].dids)"
   ]
  },
  {
   "cell_type": "code",
   "execution_count": null,
   "metadata": {},
   "outputs": [],
   "source": [
    "#| export\n",
    "\n",
    "def idx2dids(cells: Sequence[NBCell]|L) -> dict[int, L]:\n",
    "    'Return dict of indices to cells with transient outputs'\n",
    "    idxs = withOutputs(cells := L(cells))\n",
    "    return dict(idxs.zipwith(cells[idxs].map(dids)).filter(lambda c: c[1]))  # type: ignore"
   ]
  },
  {
   "cell_type": "code",
   "execution_count": null,
   "metadata": {},
   "outputs": [
    {
     "data": {
      "text/plain": [
       "(dict_keys([3, 4, 5, 7, 16, 17, 19, 24, 26, 35]),\n",
       " (#2) ['331d2582eb05fdc75afaa4c616fc8b6c','bbb4397c26ce0c3fb2f1acddc6ce91b1'])"
      ]
     },
     "execution_count": null,
     "metadata": {},
     "output_type": "execute_result"
    }
   ],
   "source": [
    "idx2dids(cells).keys(), idx2dids(cells)[7]"
   ]
  },
  {
   "cell_type": "markdown",
   "metadata": {},
   "source": [
    "## directives\n",
    "> `NBCell`s register **nbdev [directives](https://nbdev.fast.ai/explanations/directives.html)**/**quarto [Cell options](https://quarto.org/docs/reference/cells/cells-jupyter.html)**/**python [cell magics](https://ipython.readthedocs.io/en/stable/interactive/magics.html#cell-magics)** in `directives_`."
   ]
  },
  {
   "cell_type": "code",
   "execution_count": null,
   "metadata": {},
   "outputs": [
    {
     "data": {
      "text/plain": [
       "{'python': [], 'hide': []}"
      ]
     },
     "execution_count": null,
     "metadata": {},
     "output_type": "execute_result"
    }
   ],
   "source": [
    "s = '''\n",
    "%%python\n",
    "#| hide\n",
    "\n",
    "print(1)\n",
    "'''\n",
    "cell1 = NBCell(AD(cell_type='code', source=s))\n",
    "test_is(cell1.has_directive('hide'), True)\n",
    "cell1.directives_"
   ]
  },
  {
   "cell_type": "code",
   "execution_count": null,
   "metadata": {},
   "outputs": [
    {
     "data": {
      "text/plain": [
       "{'label:': ['fig-polar'], 'echo:': ['false']}"
      ]
     },
     "execution_count": null,
     "metadata": {},
     "output_type": "execute_result"
    }
   ],
   "source": [
    "s = '''\n",
    "#| label: fig-polar\n",
    "#| echo: false\n",
    "\n",
    "# comment\n",
    "print(1)\n",
    "'''\n",
    "cell2 = NBCell(dict(cell_type='code', source=s))\n",
    "cell2.directives_"
   ]
  },
  {
   "cell_type": "code",
   "execution_count": null,
   "metadata": {},
   "outputs": [
    {
     "data": {
      "text/plain": [
       "{'code-fold': []}"
      ]
     },
     "execution_count": null,
     "metadata": {},
     "output_type": "execute_result"
    }
   ],
   "source": [
    "s = '''\n",
    "\n",
    "    #| code-fold\n",
    "\n",
    "print(1)\n",
    "'''\n",
    "cell3 = NBCell({'cell_type':'code', 'source':s})\n",
    "cell3.directives_"
   ]
  },
  {
   "cell_type": "code",
   "execution_count": null,
   "metadata": {},
   "outputs": [],
   "source": [
    "#| export\n",
    "\n",
    "def by_directive(cells: Sequence[NBCell]|L, directive: str, *args):\n",
    "    return L(cells).argwhere(lambda c: has_directive(c, directive, *args))"
   ]
  },
  {
   "cell_type": "code",
   "execution_count": null,
   "metadata": {},
   "outputs": [],
   "source": [
    "test_eq(by_directive([cell1, cell2, cell3], 'hide'), [0])"
   ]
  },
  {
   "cell_type": "markdown",
   "metadata": {},
   "source": [
    "# NB"
   ]
  },
  {
   "cell_type": "code",
   "execution_count": null,
   "metadata": {},
   "outputs": [
    {
     "data": {
      "text/plain": [
       "{'a'}"
      ]
     },
     "execution_count": null,
     "metadata": {},
     "output_type": "execute_result"
    }
   ],
   "source": [
    "{'a', 'b'} & {'a', 'c'}"
   ]
  },
  {
   "cell_type": "code",
   "execution_count": null,
   "metadata": {},
   "outputs": [],
   "source": [
    "#| export\n",
    "\n",
    "JSONVal: TypeAlias = str | int | float | bool | None | dict[str, 'JSONVal'] | list['JSONVal']\n",
    "\n",
    "@runtime_checkable\n",
    "class NBProvider(Protocol):\n",
    "    @property\n",
    "    def nb(self) -> NB: ...\n",
    "\n",
    "@runtime_checkable\n",
    "class NBProcessor(Protocol):\n",
    "    def __call__(self, nb:NB, *args, **kwargs) -> NB: ...\n",
    "\n",
    "\n",
    "class NB:\n",
    "    \"Bridget representation of notebook state\"\n",
    "    cells: L[NBCell]  # type: ignore\n",
    "    nbData: dict\n",
    "    type: str\n",
    "    timestamp: str\n",
    "    origin: str\n",
    "    def __init__(self, cells: Sequence[NBCell]|L=(), **kwargs): self.setup(cells, **kwargs)\n",
    "    def setup(self, cells: Sequence[NBCell]|L=(), **kwargs):\n",
    "        self.cells = L(NBCell(_) for _ in cells)\n",
    "        d = update_({'nbData':{}, 'type':'state', 'timestamp':'', 'origin':''}, **_relevant_kw(self, kwargs))\n",
    "        for k,v in d.items(): setattr(self, k, v)\n",
    "        self._rebuild()\n",
    "    @classmethod\n",
    "    def fromStateMessage(cls, message): return cls(**message)\n",
    "    @classmethod\n",
    "    def from_NB(cls, nb: NB, cells: Sequence[NBCell]|L|None=None, **kwargs): \n",
    "        return NB(cells if cells is not None else nb.cells, \n",
    "\t\t\t**update_({'nbData':nb.nbData, 'type':nb.type, 'timestamp':nb.timestamp}, **kwargs))\n",
    "    def as_dict(self): return _relevant_kw(self, vars(self)) \n",
    "\n",
    "    def _indxs(self):\n",
    "        self._id2idx = {c.id:i for i,c in enumerate(self.cells)}  # type: ignore\n",
    "    \n",
    "    def __iter__(self): return iter(self.cells)\n",
    "    @overload\n",
    "    def __getitem__(self, key: SupportsIndex|str, /) -> NBCell: ...\n",
    "    @overload\n",
    "    def __getitem__(self, key: slice, /) -> L: ...\n",
    "    def __getitem__(self, key) -> NBCell|L: \n",
    "        if isinstance(key, str):\n",
    "            if (idx := self._id2idx.get(key)) is not None: return self.cells[idx]  # type: ignore\n",
    "            # cc = self.cells.filter(lambda c: c.id == key)\n",
    "            # if cc: return cc[0] if len(cc) else L()  # type: ignore\n",
    "            cc = self.cells.filter(lambda c: 'metadata' in c and c.metadata['cell_id'] == key)\n",
    "            return cc[0] if len(cc) else L()  # type: ignore\n",
    "        return self.cells[key]  # type: ignore\n",
    "    \n",
    "    def by_type(self, cell_type: CellTypesT): return by_type(self.cells, cell_type)\n",
    "    @cached_property\n",
    "    def codes(self): return by_type(self.cells, 'code')\n",
    "    @cached_property\n",
    "    def mds(self): return by_type(self.cells, 'markdown')\n",
    "\n",
    "    def idx2cell(self, cell_type: CellTypesT|None=None): return idx2cell(self.cells, cell_type)\n",
    "    @cached_property\n",
    "    def idx2code(self): return idx2cell(self.cells, 'code')\n",
    "    @cached_property\n",
    "    def idx2md(self): return idx2cell(self.cells, 'markdown')\n",
    "\n",
    "    @cached_property\n",
    "    def withOutputs(self): return withOutputs(self.cells)\n",
    "    @cached_property\n",
    "    def idx2outputs(self) -> dict[int, L]: return idx2outputs(self.cells)\n",
    "    @cached_property\n",
    "    def idx2dids(self) -> dict[int, L]: return idx2dids(self.cells)\n",
    "\n",
    "    def by_directive(self, directive: str, *args): return by_directive(self.cells, directive)\n",
    "    @cached_property\n",
    "    def hiddens(self): return self.by_directive('hide') + self.by_directive('include', 'false')\n",
    "\n",
    "    @cache\n",
    "    def cell_by_did(self, did:str) -> NBCell|None:\n",
    "        cc = self.cells[tuple(self.idx2dids.keys())].filter(lambda c: did in dids(c))  # type: ignore\n",
    "        return cc[0] if len(cc) else None  # type: ignore\n",
    "\n",
    "    @cache\n",
    "    def select(self, k='source'): return self.cells.attrgot(k, None)\n",
    "\n",
    "    _cks = {'codes', 'mds', 'idx2code', 'idx2md', 'withOutputs', 'idx2outputs', 'idx2dids', 'hiddens'}\n",
    "    def _rebuild(self):\n",
    "        self.select.cache_clear()\n",
    "        self.cell_by_did.cache_clear()\n",
    "        self._indxs()\n",
    "        vv = vars(self).keys() & self._cks\n",
    "        for k in vv:delattr(self, k)\n",
    "\n",
    "    def _process(self, items, cbs):\n",
    "        collections.deque(CollBack(items, context=self, cbs=cbs), maxlen=0)\n",
    "        return FC.first(cbs.attrgot('nb')[::-1]) or self\n",
    "    \n",
    "    def process(self, /,\n",
    "            cbs: Callback|Sequence[Callback]=(), \n",
    "            slc:slice|None=None, \n",
    "            pred:Callable[[NBCell], bool]|None=None, \n",
    "            **kwargs  # FuncCB kwargs\n",
    "        ) -> NB:\n",
    "        \"Process a subset `slc` of cells filtered by `pred` with `cbs` and `FuncCB` callbacks.\"\n",
    "        _cbs = FC.L(FC.tuplify(cbs) + ((FuncCB(**kwargs),) if kwargs else ()))\n",
    "        items = self.cells[slc or slice(None)].filter(pred) if pred or slc else self.cells  # type: ignore\n",
    "        if _cbs: return self._process(items, _cbs)\n",
    "        else: return NB(items, nbData=self.nbData, type=self.type, timestamp=self.timestamp)\n",
    "    \n",
    "    def pipe(self, funcs:Iterable[NBProcessor], *args, **kwargs) -> NB: \n",
    "        return compose_first(*funcs)(self, *args, **kwargs)  # type: ignore\n",
    "    \n",
    "    # hate but a lot wiggly reds but mostly hate pyright's hatred of notebooks\n",
    "    def _apply_diff(self, diff:dict): ...\n",
    "    def apply_diffsMessage(self, diffs): ...\n",
    "    def find(self, what:JSONVal|Callable[[NBCell], bool], where:str='source', op=op.contains) -> L: ...\n",
    "    def found(self, \n",
    "        what:JSONVal|Callable[[NBCell], bool], where='source', op=op.contains, \n",
    "        cbs:Callback|Sequence[Callback]=()\n",
    "    ) -> NB: ...\n",
    "    @property\n",
    "    def source(self) -> L: ...\n",
    "    @property\n",
    "    def metadata(self) -> L: ...\n",
    "    @property\n",
    "    def outputs(self) -> L: ...\n",
    "\n",
    "\n",
    "for k in ('source', 'metadata', 'outputs'): setattr(NB, k, property(NB.select.__wrapped__,))"
   ]
  },
  {
   "cell_type": "code",
   "execution_count": null,
   "metadata": {},
   "outputs": [],
   "source": [
    "test_eq(NB().as_dict(), {'cells': [], 'nbData': {}, 'type': 'state', 'timestamp': '', 'origin': ''})\n",
    "test_eq(NB(nbData={'a':1}).as_dict(), {'cells': [], 'nbData':{'a':1}, 'type': 'state', 'timestamp': '', 'origin': ''})"
   ]
  },
  {
   "cell_type": "code",
   "execution_count": null,
   "metadata": {},
   "outputs": [
    {
     "data": {
      "text/html": [
       "<style>details ul { list-style-type:none; list-style-position: outside; padding-inline-start: 22px; margin: 0; } details .string { color: #24837b; } details .string::before { content: \"'\"; } details .string::after { content: \"'\"; } details .number { color: #ad8301; } details .true { color: blue; } details .false { color: red; } details .null { color: gray; } span.n { color: darkgrey; } </style>\n",
       "<details open><summary>NBCell@2\n",
       "</summary>  <ul>\n",
       "    <li>\n",
       "<span><span class=\"n\">idx</span>: <span class=\"v number\">2</span></span>    </li>\n",
       "    <li>\n",
       "<span><span class=\"n\">cell_type</span>: <span class=\"v string\">code</span></span>    </li>\n",
       "    <li>\n",
       "<span><span class=\"n\">source</span>: <span class=\"v string\"># cell 2\n",
       "print(1)</span></span>    </li>\n",
       "    <li>\n",
       "<span><span class=\"n\">id</span>: <span class=\"v string\">W2sZmlsZQ==</span></span>    </li>\n",
       "    <li>\n",
       "<span><span class=\"n\">metadata</span>: <span class=\"v \">{&#x27;brd&#x27;: {&#x27;id&#x27;: &#x27;92f3e304-fd32-4de2-badf-11577f9e7a4a&#x27;}}</span></span>    </li>\n",
       "<details open><summary>outputs\n",
       "</summary>      <ul>\n",
       "<details open><summary>0\n",
       "</summary>          <ul>\n",
       "            <li>\n",
       "<span><span class=\"n\">output_type</span>: <span class=\"v string\">stream</span></span>            </li>\n",
       "            <li>\n",
       "<span><span class=\"n\">name</span>: <span class=\"v string\">stdout</span></span>            </li>\n",
       "            <li>\n",
       "<span><span class=\"n\">text</span>: <span class=\"v string\">1\n",
       "</span></span>            </li>\n",
       "          </ul>\n",
       "</details>      </ul>\n",
       "</details>    <li>\n",
       "<span><span class=\"n\">execution_count</span>: <span class=\"v number\">2</span></span>    </li>\n",
       "  </ul>\n",
       "</details>"
      ],
      "text/markdown": [
       "> code\n",
       "\n",
       "```json\n",
       "{\n",
       "  'idx': 2,\n",
       "  'cell_type': 'code',\n",
       "  'source': '# cell 2\\nprint(1)',\n",
       "  'id': 'W2sZmlsZQ==',\n",
       "  'metadata': {'brd': {'id': '92f3e304-fd32-4de2-badf-11577f9e7a4a'}},\n",
       "  'outputs': [{'output_type': 'stream', 'name': 'stdout', 'text': '1\\n'}],\n",
       "  'execution_count': 2\n",
       "}\n",
       "```"
      ],
      "text/plain": [
       "{'idx': 2,\n",
       " 'cell_type': 'code',\n",
       " 'source': '# cell 2\\nprint(1)',\n",
       " 'id': 'W2sZmlsZQ==',\n",
       " 'metadata': {'brd': {'id': '92f3e304-fd32-4de2-badf-11577f9e7a4a'}},\n",
       " 'outputs': [{'output_type': 'stream', 'name': 'stdout', 'text': '1\\n'}],\n",
       " 'execution_count': 2}"
      ]
     },
     "execution_count": null,
     "metadata": {},
     "output_type": "execute_result"
    }
   ],
   "source": [
    "nb = NB.fromStateMessage(state)\n",
    "cells = nb.cells\n",
    "\n",
    "test_eq(len(nb.cells), nb.nbData['cellCount'])\n",
    "test_eq(nb.nbData['metadata']['nbformat'], 4)\n",
    "(c := nb.cells[2])"
   ]
  },
  {
   "cell_type": "code",
   "execution_count": null,
   "metadata": {},
   "outputs": [],
   "source": [
    "test_eq(c, nb[2])\n",
    "test_eq(nb[c.id], nb[2])  # type: ignore"
   ]
  },
  {
   "cell_type": "code",
   "execution_count": null,
   "metadata": {},
   "outputs": [
    {
     "data": {
      "text/html": [
       "<style>details ul { list-style-type:none; list-style-position: outside; padding-inline-start: 22px; margin: 0; } details .string { color: #24837b; } details .string::before { content: \"'\"; } details .string::after { content: \"'\"; } details .number { color: #ad8301; } details .true { color: blue; } details .false { color: red; } details .null { color: gray; } span.n { color: darkgrey; } </style>\n",
       "<details open><summary>NBCell@12\n",
       "</summary>  <ul>\n",
       "    <li>\n",
       "<span><span class=\"n\">idx</span>: <span class=\"v number\">12</span></span>    </li>\n",
       "    <li>\n",
       "<span><span class=\"n\">cell_type</span>: <span class=\"v string\">code</span></span>    </li>\n",
       "    <li>\n",
       "<span><span class=\"n\">source</span>: <span class=\"v string\"># cell 12\n",
       "W.IntSlider(12, description=&#x27;cell&#x27;)</span></span>    </li>\n",
       "    <li>\n",
       "<span><span class=\"n\">id</span>: <span class=\"v string\">X15sZmlsZQ==</span></span>    </li>\n",
       "    <li>\n",
       "<span><span class=\"n\">metadata</span>: <span class=\"v \">{&#x27;brd&#x27;: {&#x27;id&#x27;: &#x27;e7e6d557-3aa7-41a7-9e77-805295112aec&#x27;}}</span></span>    </li>\n",
       "<details open><summary>outputs\n",
       "</summary>      <ul>\n",
       "<details open><summary>0\n",
       "</summary>          <ul>\n",
       "            <li>\n",
       "<span><span class=\"n\">output_type</span>: <span class=\"v string\">execute_result</span></span>            </li>\n",
       "<details open><summary>data\n",
       "</summary>              <ul>\n",
       "<details open><summary>application/vnd.jupyter.widget-view+json\n",
       "</summary>                  <ul>\n",
       "                    <li>\n",
       "<span><span class=\"n\">version_major</span>: <span class=\"v number\">2</span></span>                    </li>\n",
       "                    <li>\n",
       "<span><span class=\"n\">version_minor</span>: <span class=\"v number\">0</span></span>                    </li>\n",
       "                    <li>\n",
       "<span><span class=\"n\">model_id</span>: <span class=\"v string\">6191b18d61a44fbd89eb132d22a28eab</span></span>                    </li>\n",
       "                  </ul>\n",
       "</details>                <li>\n",
       "<span><span class=\"n\">text/plain</span>: <span class=\"v string\">IntSlider(value=12, description=&#x27;cell&#x27;)</span></span>                </li>\n",
       "              </ul>\n",
       "</details>            <li>\n",
       "<span><span class=\"n\">execution_count</span>: <span class=\"v number\">12</span></span>            </li>\n",
       "            <li>\n",
       "<span><span class=\"n\">metadata</span>: <span class=\"v \">{}</span></span>            </li>\n",
       "          </ul>\n",
       "</details>      </ul>\n",
       "</details>    <li>\n",
       "<span><span class=\"n\">execution_count</span>: <span class=\"v number\">12</span></span>    </li>\n",
       "  </ul>\n",
       "</details>"
      ],
      "text/markdown": [
       "> code\n",
       "\n",
       "```json\n",
       "{\n",
       "  'idx': 12,\n",
       "  'cell_type': 'code',\n",
       "  'source': \"# cell 12\\nW.IntSlider(12, description='cell')\",\n",
       "  'id': 'X15sZmlsZQ==',\n",
       "  'metadata': {'brd': {'id': 'e7e6d557-3aa7-41a7-9e77-805295112aec'}},\n",
       "  'outputs': [\n",
       "    {\n",
       "      'output_type': 'execute_result',\n",
       "      'data': {\n",
       "        'application/vnd.jupyter.widget-view+json': {\n",
       "          'version_major': 2,\n",
       "          'version_minor': 0,\n",
       "          'model_id': '6191b18d61a44fbd89eb132d22a28eab'\n",
       "        },\n",
       "        'text/plain': \"IntSlider(value=12, description='cell')\"\n",
       "      },\n",
       "      'execution_count': 12,\n",
       "      'metadata': {}\n",
       "    }\n",
       "  ],\n",
       "  'execution_count': 12\n",
       "}\n",
       "```"
      ],
      "text/plain": [
       "{'idx': 12,\n",
       " 'cell_type': 'code',\n",
       " 'source': \"# cell 12\\nW.IntSlider(12, description='cell')\",\n",
       " 'id': 'X15sZmlsZQ==',\n",
       " 'metadata': {'brd': {'id': 'e7e6d557-3aa7-41a7-9e77-805295112aec'}},\n",
       " 'outputs': [{'output_type': 'execute_result',\n",
       "   'data': {'application/vnd.jupyter.widget-view+json': {'version_major': 2,\n",
       "     'version_minor': 0,\n",
       "     'model_id': '6191b18d61a44fbd89eb132d22a28eab'},\n",
       "    'text/plain': \"IntSlider(value=12, description='cell')\"},\n",
       "   'execution_count': 12,\n",
       "   'metadata': {}}],\n",
       " 'execution_count': 12}"
      ]
     },
     "execution_count": null,
     "metadata": {},
     "output_type": "execute_result"
    }
   ],
   "source": [
    "nb[12]"
   ]
  },
  {
   "cell_type": "code",
   "execution_count": null,
   "metadata": {},
   "outputs": [],
   "source": [
    "#|export\n",
    "\n",
    "add_docs(NB,\n",
    "    setup=\"Setup with new data\",\n",
    "    as_dict=\"Return dict of all attributes\",\n",
    "    by_type=\"Return indices of cells of type `cell_type`\",\n",
    "    codes=\"Cell indices of type `code`\",\n",
    "    mds=\"Cell indices of type `markdown`\",\n",
    "    idx2cell=\"Return dict of indices to cells of type `cell_type`\",\n",
    "    idx2code=\"Return dict of indices to cells of type `code`\",\n",
    "    idx2md=\"Return dict of indices to cells of type `markdown`\",\n",
    "    withOutputs=\"Return indices of cells with outputs\",\n",
    "    idx2outputs=\"Return dict of indices to cells with outputs\",\n",
    "    by_directive=\"Return indices of cells with directive `directive`\",\n",
    "    hiddens=\"Return indices of cells with `hide` or `include:false` directives\",\n",
    "    pipe=\"Pipe a sequence of `NBProcessor`s\",\n",
    "    from_NB=\"Create a new `NB` from an existing `NB`\",\n",
    "    cell_by_did=\"Return cell with `did` or None\",\n",
    "    select=\"Return `k` attribute of cells\",\n",
    "    source=\"Return `source` attribute of all cells\",\n",
    "    metadata=\"Return `metadata` attribute of all cells\",\n",
    "    outputs=\"Return `outputs` attribute of all cells\",\n",
    "    apply_diffsMessage=\"Apply a diffsMessage to the `NB`\",\n",
    "    find=\"Find cells matching `what` in `where` using `op`\",\n",
    "    found=\"Find cells matching `what` in `where` using `op` and process them with `cbs`\",\n",
    ")"
   ]
  },
  {
   "cell_type": "code",
   "execution_count": null,
   "metadata": {},
   "outputs": [
    {
     "data": {
      "text/markdown": [
       "---\n",
       "\n",
       "[source](https://github.com/civvic/bridget/blob/main/bridget/nb.py#L240){target=\"_blank\" style=\"float:right; font-size:smaller\"}\n",
       "\n",
       "### NB.by_type\n",
       "\n",
       ">      NB.by_type (cell_type:Literal['code','markdown'])\n",
       "\n",
       "*Return indices of cells of type `cell_type`*"
      ],
      "text/plain": [
       "---\n",
       "\n",
       "[source](https://github.com/civvic/bridget/blob/main/bridget/nb.py#L240){target=\"_blank\" style=\"float:right; font-size:smaller\"}\n",
       "\n",
       "### NB.by_type\n",
       "\n",
       ">      NB.by_type (cell_type:Literal['code','markdown'])\n",
       "\n",
       "*Return indices of cells of type `cell_type`*"
      ]
     },
     "execution_count": null,
     "metadata": {},
     "output_type": "execute_result"
    }
   ],
   "source": [
    "show_doc(NB.by_type)"
   ]
  },
  {
   "cell_type": "code",
   "execution_count": null,
   "metadata": {},
   "outputs": [
    {
     "data": {
      "text/html": [
       "<style>details ul { list-style-type:none; list-style-position: outside; padding-inline-start: 22px; margin: 0; } details .string { color: #24837b; } details .string::before { content: \"'\"; } details .string::after { content: \"'\"; } details .number { color: #ad8301; } details .true { color: blue; } details .false { color: red; } details .null { color: gray; } span.n { color: darkgrey; } </style>\n",
       "<details open><summary>NBCell@2\n",
       "</summary>  <ul>\n",
       "    <li>\n",
       "<span><span class=\"n\">idx</span>: <span class=\"v number\">2</span></span>    </li>\n",
       "    <li>\n",
       "<span><span class=\"n\">cell_type</span>: <span class=\"v string\">code</span></span>    </li>\n",
       "    <li>\n",
       "<span><span class=\"n\">source</span>: <span class=\"v string\"># cell 2\n",
       "print(1)</span></span>    </li>\n",
       "    <li>\n",
       "<span><span class=\"n\">id</span>: <span class=\"v string\">W2sZmlsZQ==</span></span>    </li>\n",
       "    <li>\n",
       "<span><span class=\"n\">metadata</span>: <span class=\"v \">{&#x27;brd&#x27;: {&#x27;id&#x27;: &#x27;92f3e304-fd32-4de2-badf-11577f9e7a4a&#x27;}}</span></span>    </li>\n",
       "<details open><summary>outputs\n",
       "</summary>      <ul>\n",
       "<details open><summary>0\n",
       "</summary>          <ul>\n",
       "            <li>\n",
       "<span><span class=\"n\">output_type</span>: <span class=\"v string\">stream</span></span>            </li>\n",
       "            <li>\n",
       "<span><span class=\"n\">name</span>: <span class=\"v string\">stdout</span></span>            </li>\n",
       "            <li>\n",
       "<span><span class=\"n\">text</span>: <span class=\"v string\">1\n",
       "</span></span>            </li>\n",
       "          </ul>\n",
       "</details>      </ul>\n",
       "</details>    <li>\n",
       "<span><span class=\"n\">execution_count</span>: <span class=\"v number\">2</span></span>    </li>\n",
       "  </ul>\n",
       "</details>"
      ],
      "text/markdown": [
       "> code\n",
       "\n",
       "```json\n",
       "{\n",
       "  'idx': 2,\n",
       "  'cell_type': 'code',\n",
       "  'source': '# cell 2\\nprint(1)',\n",
       "  'id': 'W2sZmlsZQ==',\n",
       "  'metadata': {'brd': {'id': '92f3e304-fd32-4de2-badf-11577f9e7a4a'}},\n",
       "  'outputs': [{'output_type': 'stream', 'name': 'stdout', 'text': '1\\n'}],\n",
       "  'execution_count': 2\n",
       "}\n",
       "```"
      ],
      "text/plain": [
       "{'idx': 2,\n",
       " 'cell_type': 'code',\n",
       " 'source': '# cell 2\\nprint(1)',\n",
       " 'id': 'W2sZmlsZQ==',\n",
       " 'metadata': {'brd': {'id': '92f3e304-fd32-4de2-badf-11577f9e7a4a'}},\n",
       " 'outputs': [{'output_type': 'stream', 'name': 'stdout', 'text': '1\\n'}],\n",
       " 'execution_count': 2}"
      ]
     },
     "metadata": {},
     "output_type": "display_data"
    }
   ],
   "source": [
    "display(nb[2])\n",
    "test_eq(cells[2].outputs[0].name, 'stdout')  # type: ignore"
   ]
  },
  {
   "cell_type": "code",
   "execution_count": null,
   "metadata": {},
   "outputs": [
    {
     "data": {
      "text/plain": [
       "(#40) [1,2,3,4,5,6,7,8,9,10,11,12,13,14,15,16,17,18,19,20...]"
      ]
     },
     "execution_count": null,
     "metadata": {},
     "output_type": "execute_result"
    }
   ],
   "source": [
    "nb.by_type('code')"
   ]
  },
  {
   "cell_type": "code",
   "execution_count": null,
   "metadata": {},
   "outputs": [
    {
     "data": {
      "text/markdown": [
       "---\n",
       "\n",
       "[source](https://github.com/civvic/bridget/blob/main/bridget/nb.py#L242){target=\"_blank\" style=\"float:right; font-size:smaller\"}\n",
       "\n",
       "### NB.codes\n",
       "\n",
       "\n",
       "\n",
       "*Cell indices of type `code`*"
      ],
      "text/plain": [
       "---\n",
       "\n",
       "[source](https://github.com/civvic/bridget/blob/main/bridget/nb.py#L242){target=\"_blank\" style=\"float:right; font-size:smaller\"}\n",
       "\n",
       "### NB.codes\n",
       "\n",
       "\n",
       "\n",
       "*Cell indices of type `code`*"
      ]
     },
     "execution_count": null,
     "metadata": {},
     "output_type": "execute_result"
    }
   ],
   "source": [
    "show_doc(NB.codes)"
   ]
  },
  {
   "cell_type": "code",
   "execution_count": null,
   "metadata": {},
   "outputs": [
    {
     "data": {
      "text/markdown": [
       "---\n",
       "\n",
       "[source](https://github.com/civvic/bridget/blob/main/bridget/nb.py#L244){target=\"_blank\" style=\"float:right; font-size:smaller\"}\n",
       "\n",
       "### NB.mds\n",
       "\n",
       "\n",
       "\n",
       "*Cell indices of type `markdown`*"
      ],
      "text/plain": [
       "---\n",
       "\n",
       "[source](https://github.com/civvic/bridget/blob/main/bridget/nb.py#L244){target=\"_blank\" style=\"float:right; font-size:smaller\"}\n",
       "\n",
       "### NB.mds\n",
       "\n",
       "\n",
       "\n",
       "*Cell indices of type `markdown`*"
      ]
     },
     "execution_count": null,
     "metadata": {},
     "output_type": "execute_result"
    }
   ],
   "source": [
    "show_doc(NB.mds)"
   ]
  },
  {
   "cell_type": "code",
   "execution_count": null,
   "metadata": {},
   "outputs": [
    {
     "data": {
      "text/plain": [
       "(#2) [0,23]"
      ]
     },
     "execution_count": null,
     "metadata": {},
     "output_type": "execute_result"
    }
   ],
   "source": [
    "nb.mds"
   ]
  },
  {
   "cell_type": "code",
   "execution_count": null,
   "metadata": {},
   "outputs": [
    {
     "data": {
      "text/markdown": [
       "---\n",
       "\n",
       "[source](https://github.com/civvic/bridget/blob/main/bridget/nb.py#L246){target=\"_blank\" style=\"float:right; font-size:smaller\"}\n",
       "\n",
       "### NB.idx2cell\n",
       "\n",
       ">      NB.idx2cell (cell_type:Optional[Literal['code','markdown']]=None)\n",
       "\n",
       "*Return dict of indices to cells of type `cell_type`*"
      ],
      "text/plain": [
       "---\n",
       "\n",
       "[source](https://github.com/civvic/bridget/blob/main/bridget/nb.py#L246){target=\"_blank\" style=\"float:right; font-size:smaller\"}\n",
       "\n",
       "### NB.idx2cell\n",
       "\n",
       ">      NB.idx2cell (cell_type:Optional[Literal['code','markdown']]=None)\n",
       "\n",
       "*Return dict of indices to cells of type `cell_type`*"
      ]
     },
     "execution_count": null,
     "metadata": {},
     "output_type": "execute_result"
    }
   ],
   "source": [
    "show_doc(NB.idx2cell)"
   ]
  },
  {
   "cell_type": "code",
   "execution_count": null,
   "metadata": {},
   "outputs": [
    {
     "data": {
      "text/html": [
       "<style>details ul { list-style-type:none; list-style-position: outside; padding-inline-start: 22px; margin: 0; } details .string { color: #24837b; } details .string::before { content: \"'\"; } details .string::after { content: \"'\"; } details .number { color: #ad8301; } details .true { color: blue; } details .false { color: red; } details .null { color: gray; } span.n { color: darkgrey; } </style>\n",
       "<details open><summary>NBCell@2\n",
       "</summary>  <ul>\n",
       "    <li>\n",
       "<span><span class=\"n\">idx</span>: <span class=\"v number\">2</span></span>    </li>\n",
       "    <li>\n",
       "<span><span class=\"n\">cell_type</span>: <span class=\"v string\">code</span></span>    </li>\n",
       "    <li>\n",
       "<span><span class=\"n\">source</span>: <span class=\"v string\"># cell 2\n",
       "print(1)</span></span>    </li>\n",
       "    <li>\n",
       "<span><span class=\"n\">id</span>: <span class=\"v string\">W2sZmlsZQ==</span></span>    </li>\n",
       "    <li>\n",
       "<span><span class=\"n\">metadata</span>: <span class=\"v \">{&#x27;brd&#x27;: {&#x27;id&#x27;: &#x27;92f3e304-fd32-4de2-badf-11577f9e7a4a&#x27;}}</span></span>    </li>\n",
       "<details open><summary>outputs\n",
       "</summary>      <ul>\n",
       "<details open><summary>0\n",
       "</summary>          <ul>\n",
       "            <li>\n",
       "<span><span class=\"n\">output_type</span>: <span class=\"v string\">stream</span></span>            </li>\n",
       "            <li>\n",
       "<span><span class=\"n\">name</span>: <span class=\"v string\">stdout</span></span>            </li>\n",
       "            <li>\n",
       "<span><span class=\"n\">text</span>: <span class=\"v string\">1\n",
       "</span></span>            </li>\n",
       "          </ul>\n",
       "</details>      </ul>\n",
       "</details>    <li>\n",
       "<span><span class=\"n\">execution_count</span>: <span class=\"v number\">2</span></span>    </li>\n",
       "  </ul>\n",
       "</details>"
      ],
      "text/markdown": [
       "> code\n",
       "\n",
       "```json\n",
       "{\n",
       "  'idx': 2,\n",
       "  'cell_type': 'code',\n",
       "  'source': '# cell 2\\nprint(1)',\n",
       "  'id': 'W2sZmlsZQ==',\n",
       "  'metadata': {'brd': {'id': '92f3e304-fd32-4de2-badf-11577f9e7a4a'}},\n",
       "  'outputs': [{'output_type': 'stream', 'name': 'stdout', 'text': '1\\n'}],\n",
       "  'execution_count': 2\n",
       "}\n",
       "```"
      ],
      "text/plain": [
       "{'idx': 2,\n",
       " 'cell_type': 'code',\n",
       " 'source': '# cell 2\\nprint(1)',\n",
       " 'id': 'W2sZmlsZQ==',\n",
       " 'metadata': {'brd': {'id': '92f3e304-fd32-4de2-badf-11577f9e7a4a'}},\n",
       " 'outputs': [{'output_type': 'stream', 'name': 'stdout', 'text': '1\\n'}],\n",
       " 'execution_count': 2}"
      ]
     },
     "execution_count": null,
     "metadata": {},
     "output_type": "execute_result"
    }
   ],
   "source": [
    "nb.idx2cell('code')[2]"
   ]
  },
  {
   "cell_type": "code",
   "execution_count": null,
   "metadata": {},
   "outputs": [
    {
     "data": {
      "text/markdown": [
       "---\n",
       "\n",
       "[source](https://github.com/civvic/bridget/blob/main/bridget/nb.py#L248){target=\"_blank\" style=\"float:right; font-size:smaller\"}\n",
       "\n",
       "### NB.idx2code\n",
       "\n",
       "\n",
       "\n",
       "*Return dict of indices to cells of type `code`*"
      ],
      "text/plain": [
       "---\n",
       "\n",
       "[source](https://github.com/civvic/bridget/blob/main/bridget/nb.py#L248){target=\"_blank\" style=\"float:right; font-size:smaller\"}\n",
       "\n",
       "### NB.idx2code\n",
       "\n",
       "\n",
       "\n",
       "*Return dict of indices to cells of type `code`*"
      ]
     },
     "execution_count": null,
     "metadata": {},
     "output_type": "execute_result"
    }
   ],
   "source": [
    "show_doc(NB.idx2code)"
   ]
  },
  {
   "cell_type": "code",
   "execution_count": null,
   "metadata": {},
   "outputs": [
    {
     "data": {
      "text/markdown": [
       "---\n",
       "\n",
       "[source](https://github.com/civvic/bridget/blob/main/bridget/nb.py#L250){target=\"_blank\" style=\"float:right; font-size:smaller\"}\n",
       "\n",
       "### NB.idx2md\n",
       "\n",
       "\n",
       "\n",
       "*Return dict of indices to cells of type `markdown`*"
      ],
      "text/plain": [
       "---\n",
       "\n",
       "[source](https://github.com/civvic/bridget/blob/main/bridget/nb.py#L250){target=\"_blank\" style=\"float:right; font-size:smaller\"}\n",
       "\n",
       "### NB.idx2md\n",
       "\n",
       "\n",
       "\n",
       "*Return dict of indices to cells of type `markdown`*"
      ]
     },
     "execution_count": null,
     "metadata": {},
     "output_type": "execute_result"
    }
   ],
   "source": [
    "show_doc(NB.idx2md)"
   ]
  },
  {
   "cell_type": "code",
   "execution_count": null,
   "metadata": {},
   "outputs": [
    {
     "data": {
      "text/html": [
       "<style>details ul { list-style-type:none; list-style-position: outside; padding-inline-start: 22px; margin: 0; } details .string { color: #24837b; } details .string::before { content: \"'\"; } details .string::after { content: \"'\"; } details .number { color: #ad8301; } details .true { color: blue; } details .false { color: red; } details .null { color: gray; } span.n { color: darkgrey; } </style>\n",
       "<details open><summary>NBCell@0\n",
       "</summary>  <ul>\n",
       "    <li>\n",
       "<span><span class=\"n\">idx</span>: <span class=\"v number\">0</span></span>    </li>\n",
       "    <li>\n",
       "<span><span class=\"n\">cell_type</span>: <span class=\"v string\">markdown</span></span>    </li>\n",
       "    <li>\n",
       "<span><span class=\"n\">source</span>: <span class=\"v string\"># cell 0</span></span>    </li>\n",
       "    <li>\n",
       "<span><span class=\"n\">id</span>: <span class=\"v string\">W0sZmlsZQ==</span></span>    </li>\n",
       "    <li>\n",
       "<span><span class=\"n\">metadata</span>: <span class=\"v \">{&#x27;brd&#x27;: {&#x27;id&#x27;: &#x27;81c3e877-b59a-48f5-a1da-21894d928d4b&#x27;}}</span></span>    </li>\n",
       "  </ul>\n",
       "</details>"
      ],
      "text/markdown": [
       "> markdown\n",
       "\n",
       "```json\n",
       "{\n",
       "  'idx': 0,\n",
       "  'cell_type': 'markdown',\n",
       "  'source': '# cell 0',\n",
       "  'id': 'W0sZmlsZQ==',\n",
       "  'metadata': {'brd': {'id': '81c3e877-b59a-48f5-a1da-21894d928d4b'}}\n",
       "}\n",
       "```"
      ],
      "text/plain": [
       "{'idx': 0,\n",
       " 'cell_type': 'markdown',\n",
       " 'source': '# cell 0',\n",
       " 'id': 'W0sZmlsZQ==',\n",
       " 'metadata': {'brd': {'id': '81c3e877-b59a-48f5-a1da-21894d928d4b'}}}"
      ]
     },
     "execution_count": null,
     "metadata": {},
     "output_type": "execute_result"
    }
   ],
   "source": [
    "nb.idx2md[0]"
   ]
  },
  {
   "cell_type": "code",
   "execution_count": null,
   "metadata": {},
   "outputs": [
    {
     "data": {
      "text/markdown": [
       "---\n",
       "\n",
       "[source](https://github.com/civvic/bridget/blob/main/bridget/nb.py#L253){target=\"_blank\" style=\"float:right; font-size:smaller\"}\n",
       "\n",
       "### NB.withOutputs\n",
       "\n",
       "\n",
       "\n",
       "*Return indices of cells with outputs*"
      ],
      "text/plain": [
       "---\n",
       "\n",
       "[source](https://github.com/civvic/bridget/blob/main/bridget/nb.py#L253){target=\"_blank\" style=\"float:right; font-size:smaller\"}\n",
       "\n",
       "### NB.withOutputs\n",
       "\n",
       "\n",
       "\n",
       "*Return indices of cells with outputs*"
      ]
     },
     "execution_count": null,
     "metadata": {},
     "output_type": "execute_result"
    }
   ],
   "source": [
    "show_doc(NB.withOutputs)"
   ]
  },
  {
   "cell_type": "code",
   "execution_count": null,
   "metadata": {},
   "outputs": [
    {
     "data": {
      "text/markdown": [
       "---\n",
       "\n",
       "[source](https://github.com/civvic/bridget/blob/main/bridget/nb.py#L255){target=\"_blank\" style=\"float:right; font-size:smaller\"}\n",
       "\n",
       "### NB.idx2outputs\n",
       "\n",
       "\n",
       "\n",
       "*Return dict of indices to cells with outputs*"
      ],
      "text/plain": [
       "---\n",
       "\n",
       "[source](https://github.com/civvic/bridget/blob/main/bridget/nb.py#L255){target=\"_blank\" style=\"float:right; font-size:smaller\"}\n",
       "\n",
       "### NB.idx2outputs\n",
       "\n",
       "\n",
       "\n",
       "*Return dict of indices to cells with outputs*"
      ]
     },
     "execution_count": null,
     "metadata": {},
     "output_type": "execute_result"
    }
   ],
   "source": [
    "show_doc(NB.idx2outputs)"
   ]
  },
  {
   "cell_type": "code",
   "execution_count": null,
   "metadata": {},
   "outputs": [
    {
     "data": {
      "text/markdown": [
       "```json\n",
       "{ 'data': {'text/plain': \"'cell 3'\"},\n",
       "  'metadata': { 'bridge': {'cell': 3},\n",
       "                'transient': { 'display_id': '9d0548d3b88c66b7def8b47bbe5a12dd'}},\n",
       "  'output_type': 'display_data'}\n",
       "```"
      ],
      "text/plain": [
       "{'output_type': 'display_data',\n",
       " 'data': {'text/plain': \"'cell 3'\"},\n",
       " 'metadata': {'transient': {'display_id': '9d0548d3b88c66b7def8b47bbe5a12dd'},\n",
       "  'bridge': {'cell': 3}}}"
      ]
     },
     "metadata": {},
     "output_type": "display_data"
    }
   ],
   "source": [
    "# type: ignore\n",
    "\n",
    "display(cells[codes[2]].outputs[0])\n",
    "\n",
    "test_eq(did(cells[codes[2]].outputs[0]), cells[codes[2]].outputs[0].metadata['transient']['display_id'])\n",
    "test_eq(cells[codes[2]].outputs[0].did, cells[codes[2]].outputs[0].metadata['transient']['display_id'])"
   ]
  },
  {
   "cell_type": "code",
   "execution_count": null,
   "metadata": {},
   "outputs": [
    {
     "name": "stdout",
     "output_type": "stream",
     "text": [
      "dict_keys([1, 2, 3, 4, 5, 6, 7, 8, 9, 10, 11, 12, 13, 14, 15, 16, 17, 18, 19, 20, 21, 22, 24, 25, 26, 27, 28, 29, 30, 31, 32, 33, 34, 35, 36, 37, 38, 39, 40, 41])\n"
     ]
    },
    {
     "data": {
      "text/html": [
       "<style>details ul { list-style-type:none; list-style-position: outside; padding-inline-start: 22px; margin: 0; } details .string { color: #24837b; } details .string::before { content: \"'\"; } details .string::after { content: \"'\"; } details .number { color: #ad8301; } details .true { color: blue; } details .false { color: red; } details .null { color: gray; } span.n { color: darkgrey; } </style>\n",
       "<details open><summary>NBCell@1\n",
       "</summary>  <ul>\n",
       "    <li>\n",
       "<span><span class=\"n\">idx</span>: <span class=\"v number\">1</span></span>    </li>\n",
       "    <li>\n",
       "<span><span class=\"n\">cell_type</span>: <span class=\"v string\">code</span></span>    </li>\n",
       "    <li>\n",
       "<span><span class=\"n\">source</span>: <span class=\"v string\"># cell 1\n",
       "import time\n",
       "from itertools import count\n",
       "\n",
       "import ipywidgets as W\n",
       "import matplotlib.pyplot as plt\n",
       "from bridget.helpers import display…</span></span>    </li>\n",
       "    <li>\n",
       "<span><span class=\"n\">id</span>: <span class=\"v string\">W1sZmlsZQ==</span></span>    </li>\n",
       "    <li>\n",
       "<span><span class=\"n\">metadata</span>: <span class=\"v \">{&#x27;brd&#x27;: {&#x27;id&#x27;: &#x27;717322f8-95fa-425c-839d-8b9e7d4ef921&#x27;}}</span></span>    </li>\n",
       "<details open><summary>outputs\n",
       "</summary>      <ul></ul>\n",
       "</details>    <li>\n",
       "<span><span class=\"n\">execution_count</span>: <span class=\"v number\">1</span></span>    </li>\n",
       "  </ul>\n",
       "</details>"
      ],
      "text/markdown": [
       "> code\n",
       "\n",
       "```json\n",
       "{\n",
       "  'idx': 1,\n",
       "  'cell_type': 'code',\n",
       "  'source': '# cell 1\\nimport time\\nfrom itertools import count\\n\\nimport ipywidgets as W\\nimport matplotlib.pyplot as plt\\nfrom bridget.helpers import displaydh\\nfrom IPython.display import HTML, Image, Javascript, JSON, DisplayHandle, clear_output\\ncounter = count()',\n",
       "  'id': 'W1sZmlsZQ==',\n",
       "  'metadata': {'brd': {'id': '717322f8-95fa-425c-839d-8b9e7d4ef921'}},\n",
       "  'outputs': [],\n",
       "  'execution_count': 1\n",
       "}\n",
       "```"
      ],
      "text/plain": [
       "{'idx': 1,\n",
       " 'cell_type': 'code',\n",
       " 'source': '# cell 1\\nimport time\\nfrom itertools import count\\n\\nimport ipywidgets as W\\nimport matplotlib.pyplot as plt\\nfrom bridget.helpers import displaydh\\nfrom IPython.display import HTML, Image, Javascript, JSON, DisplayHandle, clear_output\\ncounter = count()',\n",
       " 'id': 'W1sZmlsZQ==',\n",
       " 'metadata': {'brd': {'id': '717322f8-95fa-425c-839d-8b9e7d4ef921'}},\n",
       " 'outputs': [],\n",
       " 'execution_count': 1}"
      ]
     },
     "metadata": {},
     "output_type": "display_data"
    },
    {
     "data": {
      "text/html": [
       "<style>details ul { list-style-type:none; list-style-position: outside; padding-inline-start: 22px; margin: 0; } details .string { color: #24837b; } details .string::before { content: \"'\"; } details .string::after { content: \"'\"; } details .number { color: #ad8301; } details .true { color: blue; } details .false { color: red; } details .null { color: gray; } span.n { color: darkgrey; } </style>\n",
       "<details open><summary>NBCell@2\n",
       "</summary>  <ul>\n",
       "    <li>\n",
       "<span><span class=\"n\">idx</span>: <span class=\"v number\">2</span></span>    </li>\n",
       "    <li>\n",
       "<span><span class=\"n\">cell_type</span>: <span class=\"v string\">code</span></span>    </li>\n",
       "    <li>\n",
       "<span><span class=\"n\">source</span>: <span class=\"v string\"># cell 2\n",
       "print(1)</span></span>    </li>\n",
       "    <li>\n",
       "<span><span class=\"n\">id</span>: <span class=\"v string\">W2sZmlsZQ==</span></span>    </li>\n",
       "    <li>\n",
       "<span><span class=\"n\">metadata</span>: <span class=\"v \">{&#x27;brd&#x27;: {&#x27;id&#x27;: &#x27;92f3e304-fd32-4de2-badf-11577f9e7a4a&#x27;}}</span></span>    </li>\n",
       "<details open><summary>outputs\n",
       "</summary>      <ul>\n",
       "<details open><summary>0\n",
       "</summary>          <ul>\n",
       "            <li>\n",
       "<span><span class=\"n\">output_type</span>: <span class=\"v string\">stream</span></span>            </li>\n",
       "            <li>\n",
       "<span><span class=\"n\">name</span>: <span class=\"v string\">stdout</span></span>            </li>\n",
       "            <li>\n",
       "<span><span class=\"n\">text</span>: <span class=\"v string\">1\n",
       "</span></span>            </li>\n",
       "          </ul>\n",
       "</details>      </ul>\n",
       "</details>    <li>\n",
       "<span><span class=\"n\">execution_count</span>: <span class=\"v number\">2</span></span>    </li>\n",
       "  </ul>\n",
       "</details>"
      ],
      "text/markdown": [
       "> code\n",
       "\n",
       "```json\n",
       "{\n",
       "  'idx': 2,\n",
       "  'cell_type': 'code',\n",
       "  'source': '# cell 2\\nprint(1)',\n",
       "  'id': 'W2sZmlsZQ==',\n",
       "  'metadata': {'brd': {'id': '92f3e304-fd32-4de2-badf-11577f9e7a4a'}},\n",
       "  'outputs': [{'output_type': 'stream', 'name': 'stdout', 'text': '1\\n'}],\n",
       "  'execution_count': 2\n",
       "}\n",
       "```"
      ],
      "text/plain": [
       "{'idx': 2,\n",
       " 'cell_type': 'code',\n",
       " 'source': '# cell 2\\nprint(1)',\n",
       " 'id': 'W2sZmlsZQ==',\n",
       " 'metadata': {'brd': {'id': '92f3e304-fd32-4de2-badf-11577f9e7a4a'}},\n",
       " 'outputs': [{'output_type': 'stream', 'name': 'stdout', 'text': '1\\n'}],\n",
       " 'execution_count': 2}"
      ]
     },
     "execution_count": null,
     "metadata": {},
     "output_type": "execute_result"
    }
   ],
   "source": [
    "print(nb.idx2outputs.keys())\n",
    "display(nb.idx2outputs[1])\n",
    "nb.idx2outputs[2]"
   ]
  },
  {
   "cell_type": "code",
   "execution_count": null,
   "metadata": {},
   "outputs": [
    {
     "data": {
      "text/html": [
       "<style>details ul { list-style-type:none; list-style-position: outside; padding-inline-start: 22px; margin: 0; } details .string { color: #24837b; } details .string::before { content: \"'\"; } details .string::after { content: \"'\"; } details .number { color: #ad8301; } details .true { color: blue; } details .false { color: red; } details .null { color: gray; } span.n { color: darkgrey; } </style>\n",
       "<details open><summary>NBCell@7\n",
       "</summary>  <ul>\n",
       "    <li>\n",
       "<span><span class=\"n\">idx</span>: <span class=\"v number\">7</span></span>    </li>\n",
       "    <li>\n",
       "<span><span class=\"n\">cell_type</span>: <span class=\"v string\">code</span></span>    </li>\n",
       "    <li>\n",
       "<span><span class=\"n\">source</span>: <span class=\"v string\"># cell 7\n",
       "displaydh(HTML(&#x27;cell 7.1&#x27;), metadata={&#x27;bridge&#x27;: {&#x27;cell&#x27;: 7.1}})\n",
       "displaydh(HTML(&#x27;cell 7.2&#x27;), metadata={&#x27;bridge&#x27;: {&#x27;cell&#x27;: 7.2}});</span></span>    </li>\n",
       "    <li>\n",
       "<span><span class=\"n\">id</span>: <span class=\"v string\">X10sZmlsZQ==</span></span>    </li>\n",
       "    <li>\n",
       "<span><span class=\"n\">metadata</span>: <span class=\"v \">{&#x27;brd&#x27;: {&#x27;id&#x27;: &#x27;7512abfe-f7d2-4047-a6b1-56aefbf9457e&#x27;}}</span></span>    </li>\n",
       "<details open><summary>outputs\n",
       "</summary>      <ul>\n",
       "<details open><summary>0\n",
       "</summary>          <ul>\n",
       "            <li>\n",
       "<span><span class=\"n\">output_type</span>: <span class=\"v string\">display_data</span></span>            </li>\n",
       "<details open><summary>data\n",
       "</summary>              <ul>\n",
       "                <li>\n",
       "<span><span class=\"n\">text/html</span>: <span class=\"v string\">cell 7.1</span></span>                </li>\n",
       "                <li>\n",
       "<span><span class=\"n\">text/plain</span>: <span class=\"v string\">&lt;IPython.core.display.HTML object&gt;</span></span>                </li>\n",
       "              </ul>\n",
       "</details>            <li>\n",
       "<span><span class=\"n\">metadata</span>: <span class=\"v \">{&#x27;transient&#x27;: {&#x27;display_id&#x27;: &#x27;331d2582eb05fdc75afaa4c616fc8b6c&#x27;}, &#x27;bridge&#x27;: {&#x27;cell&#x27;: 7.1}}</span></span>            </li>\n",
       "          </ul>\n",
       "</details><details open><summary>1\n",
       "</summary>          <ul>\n",
       "            <li>\n",
       "<span><span class=\"n\">output_type</span>: <span class=\"v string\">display_data</span></span>            </li>\n",
       "<details open><summary>data\n",
       "</summary>              <ul>\n",
       "                <li>\n",
       "<span><span class=\"n\">text/html</span>: <span class=\"v string\">cell 7.2</span></span>                </li>\n",
       "                <li>\n",
       "<span><span class=\"n\">text/plain</span>: <span class=\"v string\">&lt;IPython.core.display.HTML object&gt;</span></span>                </li>\n",
       "              </ul>\n",
       "</details>            <li>\n",
       "<span><span class=\"n\">metadata</span>: <span class=\"v \">{&#x27;transient&#x27;: {&#x27;display_id&#x27;: &#x27;bbb4397c26ce0c3fb2f1acddc6ce91b1&#x27;}, &#x27;bridge&#x27;: {&#x27;cell&#x27;: 7.2}}</span></span>            </li>\n",
       "          </ul>\n",
       "</details>      </ul>\n",
       "</details>    <li>\n",
       "<span><span class=\"n\">execution_count</span>: <span class=\"v number\">7</span></span>    </li>\n",
       "  </ul>\n",
       "</details>"
      ],
      "text/markdown": [
       "> code\n",
       "\n",
       "```json\n",
       "{\n",
       "  'idx': 7,\n",
       "  'cell_type': 'code',\n",
       "  'source': \"# cell 7\\ndisplaydh(HTML('cell 7.1'), metadata={'bridge': {'cell': 7.1}})\\ndisplaydh(HTML('cell 7.2'), metadata={'bridge': {'cell': 7.2}});\",\n",
       "  'id': 'X10sZmlsZQ==',\n",
       "  'metadata': {'brd': {'id': '7512abfe-f7d2-4047-a6b1-56aefbf9457e'}},\n",
       "  'outputs': [\n",
       "    {\n",
       "      'output_type': 'display_data',\n",
       "      'data': {'text/html': 'cell 7.1', 'text/plain': '<IPython.core.display.HTML object>'},\n",
       "      'metadata': {'transient': {'display_id': '331d2582eb05fdc75afaa4c616fc8b6c'}, 'bridge': {'cell': 7.1}}\n",
       "    },\n",
       "    {\n",
       "      'output_type': 'display_data',\n",
       "      'data': {'text/html': 'cell 7.2', 'text/plain': '<IPython.core.display.HTML object>'},\n",
       "      'metadata': {'transient': {'display_id': 'bbb4397c26ce0c3fb2f1acddc6ce91b1'}, 'bridge': {'cell': 7.2}}\n",
       "    }\n",
       "  ],\n",
       "  'execution_count': 7\n",
       "}\n",
       "```"
      ],
      "text/plain": [
       "{'idx': 7,\n",
       " 'cell_type': 'code',\n",
       " 'source': \"# cell 7\\ndisplaydh(HTML('cell 7.1'), metadata={'bridge': {'cell': 7.1}})\\ndisplaydh(HTML('cell 7.2'), metadata={'bridge': {'cell': 7.2}});\",\n",
       " 'id': 'X10sZmlsZQ==',\n",
       " 'metadata': {'brd': {'id': '7512abfe-f7d2-4047-a6b1-56aefbf9457e'}},\n",
       " 'outputs': [{'output_type': 'display_data',\n",
       "   'data': {'text/html': 'cell 7.1',\n",
       "    'text/plain': '<IPython.core.display.HTML object>'},\n",
       "   'metadata': {'transient': {'display_id': '331d2582eb05fdc75afaa4c616fc8b6c'},\n",
       "    'bridge': {'cell': 7.1}}},\n",
       "  {'output_type': 'display_data',\n",
       "   'data': {'text/html': 'cell 7.2',\n",
       "    'text/plain': '<IPython.core.display.HTML object>'},\n",
       "   'metadata': {'transient': {'display_id': 'bbb4397c26ce0c3fb2f1acddc6ce91b1'},\n",
       "    'bridge': {'cell': 7.2}}}],\n",
       " 'execution_count': 7}"
      ]
     },
     "execution_count": null,
     "metadata": {},
     "output_type": "execute_result"
    }
   ],
   "source": [
    "(cell := nb.idx2outputs[7])"
   ]
  },
  {
   "cell_type": "code",
   "execution_count": null,
   "metadata": {},
   "outputs": [
    {
     "name": "stdout",
     "output_type": "stream",
     "text": [
      "get_data(cell)={'text/html': 'cell 7.1', 'text/plain': '<IPython.core.display.HTML object>'}\n",
      "get_html(cell)='cell 7.1'\n",
      "get_plain(cell)='<IPython.core.display.HTML object>'\n"
     ]
    }
   ],
   "source": [
    "def get_data(cell: NBCell, mime:str|None=None): \n",
    "    return d.get(mime, None) if (d := nested_idx(cell, 'outputs', 0, 'data')) and mime else d\n",
    "get_html = partial(get_data, mime='text/html')\n",
    "get_plain = partial(get_data, mime='text/plain')\n",
    "\n",
    "print(f\"{get_data(cell)=}\\n{get_html(cell)=}\\n{get_plain(cell)=}\")"
   ]
  },
  {
   "cell_type": "code",
   "execution_count": null,
   "metadata": {},
   "outputs": [
    {
     "data": {
      "text/markdown": [
       "---\n",
       "\n",
       "[source](https://github.com/civvic/bridget/blob/main/bridget/nb.py#L283){target=\"_blank\" style=\"float:right; font-size:smaller\"}\n",
       "\n",
       "### NB.process\n",
       "\n",
       ">      NB.process\n",
       ">                  (cbs:Union[olio.callback.Callback,Sequence[olio.callback.Call\n",
       ">                  back]]=(), slc:slice|None=None,\n",
       ">                  pred:Optional[Callable[[__main__.NBCell],bool]]=None,\n",
       ">                  **kwargs)\n",
       "\n",
       "*Process a subset `slc` of cells filtered by `pred` with `cbs` and `FuncCB` callbacks.*\n",
       "\n",
       "|    | **Type** | **Default** | **Details** |\n",
       "| -- | -------- | ----------- | ----------- |\n",
       "| cbs | Union | () |  |\n",
       "| slc | slice \\| None | None |  |\n",
       "| pred | Optional | None |  |\n",
       "| kwargs | VAR_KEYWORD |  |  |\n",
       "| **Returns** | **NB** |  | **FuncCB kwargs** |"
      ],
      "text/plain": [
       "---\n",
       "\n",
       "[source](https://github.com/civvic/bridget/blob/main/bridget/nb.py#L283){target=\"_blank\" style=\"float:right; font-size:smaller\"}\n",
       "\n",
       "### NB.process\n",
       "\n",
       ">      NB.process\n",
       ">                  (cbs:Union[olio.callback.Callback,Sequence[olio.callback.Call\n",
       ">                  back]]=(), slc:slice|None=None,\n",
       ">                  pred:Optional[Callable[[__main__.NBCell],bool]]=None,\n",
       ">                  **kwargs)\n",
       "\n",
       "*Process a subset `slc` of cells filtered by `pred` with `cbs` and `FuncCB` callbacks.*\n",
       "\n",
       "|    | **Type** | **Default** | **Details** |\n",
       "| -- | -------- | ----------- | ----------- |\n",
       "| cbs | Union | () |  |\n",
       "| slc | slice \\| None | None |  |\n",
       "| pred | Optional | None |  |\n",
       "| kwargs | VAR_KEYWORD |  |  |\n",
       "| **Returns** | **NB** |  | **FuncCB kwargs** |"
      ]
     },
     "execution_count": null,
     "metadata": {},
     "output_type": "execute_result"
    }
   ],
   "source": [
    "show_doc(NB.process)"
   ]
  },
  {
   "cell_type": "code",
   "execution_count": null,
   "metadata": {},
   "outputs": [
    {
     "name": "stdout",
     "output_type": "stream",
     "text": [
      "markdown, code, code, code, code, code, code, code, code, code, code, code, code, code, code, code, code, code, code, code, code, code, code, markdown, code, code, code, code, code, code, code, code, code, code, code, code, code, code, code, code, code, code, "
     ]
    }
   ],
   "source": [
    "nb.process(on_iter=lambda _,item: print(item.cell_type, end=', '));"
   ]
  },
  {
   "cell_type": "code",
   "execution_count": null,
   "metadata": {},
   "outputs": [],
   "source": [
    "ctyps = []\n",
    "cb = FuncCB(on_iter=lambda _,item: ctyps.append(item.cell_type))\n",
    "process_(nb.cells, cb)\n",
    "test_eq(ctyps, [c.cell_type for c in nb.cells])\n",
    "\n",
    "ctyps = []\n",
    "nb.process(slc=slice(0,2), on_iter=lambda _,item: ctyps.append(item.cell_type))\n",
    "test_eq(ctyps, ('markdown', 'code'))"
   ]
  },
  {
   "cell_type": "code",
   "execution_count": null,
   "metadata": {},
   "outputs": [
    {
     "name": "stdout",
     "output_type": "stream",
     "text": [
      "(0, 'markdown'), (1, 'code'), (2, 'code'), (3, 'code'), (4, 'code'), (5, 'code'), (6, 'code'), (7, 'code'), (8, 'code'), (9, 'code'), (10, 'code'), (11, 'code'), (12, 'code'), (13, 'code'), (14, 'code'), (15, 'code'), (16, 'code'), (17, 'code'), (18, 'code'), (19, 'code'), (20, 'code'), (21, 'code'), (22, 'code'), (23, 'markdown'), (24, 'code'), (25, 'code'), (26, 'code'), (27, 'code'), (28, 'code'), (29, 'code'), (30, 'code'), (31, 'code'), (32, 'code'), (33, 'code'), (34, 'code'), (35, 'code'), (36, 'code'), (37, 'code'), (38, 'code'), (39, 'code'), (40, 'code'), (41, 'code'), "
     ]
    }
   ],
   "source": [
    "nb.process(on_iter=lambda _,item: print((_.n, item.cell_type), end=', '));"
   ]
  },
  {
   "cell_type": "code",
   "execution_count": null,
   "metadata": {},
   "outputs": [],
   "source": [
    "def _enumerate(istat, item:NBCell): \n",
    "    item.metadata['n'] = istat.n\n",
    "\n",
    "test_eq(vals_at(nb.cells, '*.metadata.n'), ())\n",
    "nb.process(on_iter=_enumerate);\n",
    "test_eq(vals_at(nb.cells, '*.metadata.n'), range(len(nb.cells)))"
   ]
  },
  {
   "cell_type": "code",
   "execution_count": null,
   "metadata": {},
   "outputs": [
    {
     "data": {
      "text/markdown": [
       "---\n",
       "\n",
       "[source](https://github.com/civvic/bridget/blob/main/bridget/nb.py#L295){target=\"_blank\" style=\"float:right; font-size:smaller\"}\n",
       "\n",
       "### NB.pipe\n",
       "\n",
       ">      NB.pipe (funcs:Iterable[__main__.NBProcessor], *args, **kwargs)\n",
       "\n",
       "*Pipe a sequence of `NBProcessor`s*"
      ],
      "text/plain": [
       "---\n",
       "\n",
       "[source](https://github.com/civvic/bridget/blob/main/bridget/nb.py#L295){target=\"_blank\" style=\"float:right; font-size:smaller\"}\n",
       "\n",
       "### NB.pipe\n",
       "\n",
       ">      NB.pipe (funcs:Iterable[__main__.NBProcessor], *args, **kwargs)\n",
       "\n",
       "*Pipe a sequence of `NBProcessor`s*"
      ]
     },
     "execution_count": null,
     "metadata": {},
     "output_type": "execute_result"
    }
   ],
   "source": [
    "show_doc(NB.pipe)"
   ]
  },
  {
   "cell_type": "code",
   "execution_count": null,
   "metadata": {},
   "outputs": [
    {
     "data": {
      "text/plain": [
       "(#2) ['# cell 0','# cell 23']"
      ]
     },
     "execution_count": null,
     "metadata": {},
     "output_type": "execute_result"
    }
   ],
   "source": [
    "nb.pipe((lambda nb: NB.from_NB(nb, nb.cells[nb.mds]),)).cells.attrgot('source')"
   ]
  },
  {
   "cell_type": "code",
   "execution_count": null,
   "metadata": {},
   "outputs": [
    {
     "data": {
      "text/markdown": [
       "---\n",
       "\n",
       "[source](https://github.com/civvic/bridget/blob/main/bridget/nb.py#L264){target=\"_blank\" style=\"float:right; font-size:smaller\"}\n",
       "\n",
       "### NB.cell_by_did\n",
       "\n",
       ">      NB.cell_by_did (did:str)"
      ],
      "text/plain": [
       "---\n",
       "\n",
       "[source](https://github.com/civvic/bridget/blob/main/bridget/nb.py#L264){target=\"_blank\" style=\"float:right; font-size:smaller\"}\n",
       "\n",
       "### NB.cell_by_did\n",
       "\n",
       ">      NB.cell_by_did (did:str)"
      ]
     },
     "execution_count": null,
     "metadata": {},
     "output_type": "execute_result"
    }
   ],
   "source": [
    "show_doc(NB.cell_by_did)"
   ]
  },
  {
   "cell_type": "code",
   "execution_count": null,
   "metadata": {},
   "outputs": [],
   "source": [
    "test_eq(nb.cell_by_did(nb[7].dids[1]), nb[7])"
   ]
  },
  {
   "cell_type": "markdown",
   "metadata": {},
   "source": [
    "# Diffs"
   ]
  },
  {
   "cell_type": "code",
   "execution_count": null,
   "metadata": {},
   "outputs": [],
   "source": [
    "def check(self:NB):\n",
    "    test_eq(self.nbData['cellCount'], len(self.cells))\n",
    "    for n, c in enumerate(self.cells):\n",
    "        test_eq(c.idx, n)\n",
    "\n",
    "check(nb)"
   ]
  },
  {
   "cell_type": "code",
   "execution_count": null,
   "metadata": {},
   "outputs": [],
   "source": [
    "state = json.loads(Path(test_fn).read_text('utf-8'))\n",
    "nb = NB.fromStateMessage(state)\n",
    "test_eq(len(nb.cells), nb.nbData['cellCount'])"
   ]
  },
  {
   "cell_type": "code",
   "execution_count": null,
   "metadata": {},
   "outputs": [
    {
     "data": {
      "text/html": [
       "\n",
       "<div id=\"wrapper-10ad1ba2-0954-41dd-b79e-1853677ae574\" style=\"width: 100%; max-height: 400px; overflow-y: auto;\">\n",
       "    <div id=\"10ad1ba2-0954-41dd-b79e-1853677ae574\" style=\"width: 100%;\"></div>\n",
       "    <script>\n",
       "        function renderMyJson() {\n",
       "            renderjson.set_show_to_level(4);\n",
       "            document.getElementById('10ad1ba2-0954-41dd-b79e-1853677ae574').appendChild(renderjson({\"type\": \"diffs\", \"timestamp\": 1754132544737, \"origin\": \"vscode-webview://1ql27b0grt14rkuj26idbt9ktekivp44iu2s8pgfndvblm2j3iep/index.html?id=031db9ae-a211-46dc-80c2-7931cd10145e&origin=1e95bb6a-280d-4f6e-8090-7f55f54cbfbd&swVersion=4&extensionId=&platform=electron&vscode-resource-base-authority=vscode-resource.vscode-cdn.net&parentOrigin=vscode-file%3A%2F%2Fvscode-app&purpose=notebookRenderer\", \"changes\": [{\"cells\": [{\"idx\": 2, \"cell_type\": \"code\", \"source\": \"# cell 2\\nprint(1)\", \"id\": \"W2sZmlsZQ==\", \"metadata\": {\"brd\": {\"id\": \"92f3e304-fd32-4de2-badf-11577f9e7a4a\"}}, \"outputs\": [{\"output_type\": \"stream\", \"name\": \"stdout\", \"text\": \"1\\n\"}], \"execution_count\": 3}], \"added\": [], \"removed\": [], \"cellCount\": 42}], \"nbData\": {\"cellCount\": 42}}));\n",
       "        };\n",
       "        function loadRenderjson() {\n",
       "            if (window.renderjson) return Promise.resolve();\n",
       "            return new Promise((resolve, reject) => {\n",
       "                const script = document.createElement('script');\n",
       "                script.src = 'https://cdn.jsdelivr.net/npm/renderjson@latest/renderjson.js';\n",
       "                script.onload = resolve;\n",
       "                script.onerror = reject;\n",
       "                document.head.appendChild(script);\n",
       "            });\n",
       "        };\n",
       "        loadRenderjson().then(renderMyJson).catch(err => console.error('Failed to load renderjson:', err));\n",
       "    </script>\n",
       "</div>\n"
      ],
      "text/plain": [
       "<IPython.core.display.HTML object>"
      ]
     },
     "metadata": {
      "bridge": {
       "skip": true
      }
     },
     "output_type": "display_data"
    }
   ],
   "source": [
    "# update existing cell\n",
    "diffs1 = json.loads(Path('../packages/nbinspect-vscode/test/update01_chg_2.json').read_text('utf-8'))\n",
    "RenderJSON(diffs1, init_level=4, max_height=400).display()"
   ]
  },
  {
   "cell_type": "code",
   "execution_count": null,
   "metadata": {},
   "outputs": [],
   "source": [
    "def apply_diff(nb:NB, diff):\n",
    "    changed, added, removed, cellCount = gets(diff, 'cells', 'added', 'removed', 'cellCount')\n",
    "    cells = nb.cells\n",
    "    for cell in changed:  # type: ignore\n",
    "        cell = NBCell(cell)\n",
    "        cells[cell.idx] = cell\n",
    "\n",
    "apply_diff(nb, diffs1['changes'][0])\n",
    "check(nb)"
   ]
  },
  {
   "cell_type": "code",
   "execution_count": null,
   "metadata": {},
   "outputs": [
    {
     "data": {
      "text/html": [
       "\n",
       "<div id=\"wrapper-fdbacdaf-a4ed-471c-9d90-6f09b9e10563\" style=\"width: 100%; max-height: 400px; overflow-y: auto;\">\n",
       "    <div id=\"fdbacdaf-a4ed-471c-9d90-6f09b9e10563\" style=\"width: 100%;\"></div>\n",
       "    <script>\n",
       "        function renderMyJson() {\n",
       "            renderjson.set_show_to_level(5);\n",
       "            document.getElementById('fdbacdaf-a4ed-471c-9d90-6f09b9e10563').appendChild(renderjson({\"type\": \"diffs\", \"timestamp\": 1754133904495, \"origin\": \"vscode-webview://1ql27b0grt14rkuj26idbt9ktekivp44iu2s8pgfndvblm2j3iep/index.html?id=23fcbce5-103a-4d27-b45f-55c1057120bc&origin=1e95bb6a-280d-4f6e-8090-7f55f54cbfbd&swVersion=4&extensionId=&platform=electron&vscode-resource-base-authority=vscode-resource.vscode-cdn.net&parentOrigin=vscode-file%3A%2F%2Fvscode-app&purpose=notebookRenderer\", \"changes\": [{\"cells\": [], \"added\": [], \"removed\": [5], \"cellCount\": 41}, {\"cells\": [], \"added\": [], \"removed\": [2, 3], \"cellCount\": 39}], \"nbData\": {\"cellCount\": 39}}));\n",
       "        };\n",
       "        function loadRenderjson() {\n",
       "            if (window.renderjson) return Promise.resolve();\n",
       "            return new Promise((resolve, reject) => {\n",
       "                const script = document.createElement('script');\n",
       "                script.src = 'https://cdn.jsdelivr.net/npm/renderjson@latest/renderjson.js';\n",
       "                script.onload = resolve;\n",
       "                script.onerror = reject;\n",
       "                document.head.appendChild(script);\n",
       "            });\n",
       "        };\n",
       "        loadRenderjson().then(renderMyJson).catch(err => console.error('Failed to load renderjson:', err));\n",
       "    </script>\n",
       "</div>\n"
      ],
      "text/plain": [
       "<IPython.core.display.HTML object>"
      ]
     },
     "metadata": {
      "bridge": {
       "skip": true
      }
     },
     "output_type": "display_data"
    }
   ],
   "source": [
    "# remove cell\n",
    "diffs2 = json.loads(Path('../packages/nbinspect-vscode/test/update13_remove_2-3-5.json').read_text('utf-8'))\n",
    "RenderJSON(diffs2, init_level=5, max_height=400).display()"
   ]
  },
  {
   "cell_type": "code",
   "execution_count": null,
   "metadata": {},
   "outputs": [],
   "source": [
    "def apply_diff(nb:NB, diff):\n",
    "    changed, added, removed, cellCount = gets(diff, 'cells', 'added', 'removed', 'cellCount')\n",
    "    cells = nb.cells\n",
    "    if removed:\n",
    "        for idx in sorted(removed, reverse=True):  # type: ignore\n",
    "            del cells[idx]\n",
    "            for cell in cells[idx:]:\n",
    "                cell.idx -= 1\n",
    "    nb.nbData['cellCount'] = cellCount\n",
    "    for cell in changed:  # type: ignore\n",
    "        cells[cell.idx] = NBCell(cell)\n",
    "\n",
    "nb = NB.fromStateMessage(state)\n",
    "apply_diff(nb, diffs2['changes'][0])\n",
    "apply_diff(nb, diffs2['changes'][1])\n",
    "check(nb)"
   ]
  },
  {
   "cell_type": "code",
   "execution_count": null,
   "metadata": {},
   "outputs": [],
   "source": [
    "#| export\n",
    "\n",
    "@FC.patch\n",
    "def _apply_diff(self:NB, diff:dict):\n",
    "    changed, added, removed, cell_count = gets(diff, 'cells', 'added', 'removed', 'cellCount')\n",
    "    final_count = len(self.cells) - len(removed if isinstance(removed, list) else []) + len(added if isinstance(added, list) else [])\n",
    "    if cell_count != final_count:\n",
    "        raise IndexError(f\"---- inconsistent diff cell_count: {cell_count} != {final_count=}\")\n",
    "    cells = self.cells\n",
    "    if isinstance(removed, list) and removed:\n",
    "        if (n := max(removed)) >= len(cells):\n",
    "            raise IndexError(f\"---- inconsistent diff removed: {n} > {len(cells)}\")\n",
    "        for idx in sorted(removed, reverse=True):\n",
    "            del cells[idx]\n",
    "            for cell in cells[idx:]: cell.idx -= 1\n",
    "    elif isinstance(added, list) and added:\n",
    "        for cell in added:\n",
    "            if (idx := cell['idx']) > len(cells):\n",
    "                raise IndexError(f\"---- inconsistent diff added: {idx} > {len(cells)=}\")\n",
    "            cells.insert(idx, NBCell(cell))\n",
    "            for cell in cells[idx+1:]: cell.idx += 1\n",
    "    ln = len(cells)\n",
    "    if isinstance(changed, list):\n",
    "        for cell in changed: \n",
    "            if (idx := cell['idx']) > ln:\n",
    "                raise IndexError(f\"---- inconsistent diff changed: {idx} > {len(cells)=}\")\n",
    "            cells[idx] = NBCell(cell)\n",
    "    self.nbData['cellCount'] = cell_count\n",
    "    for n, c in enumerate(self.cells):\n",
    "        if c.idx != n:\n",
    "            raise IndexError(f\"---- inconsistent diff cell idx: {c.idx} != {n=}\")\n",
    "    self._rebuild()"
   ]
  },
  {
   "cell_type": "code",
   "execution_count": null,
   "metadata": {},
   "outputs": [
    {
     "data": {
      "text/html": [
       "\n",
       "<div id=\"wrapper-19b50ce8-5893-4b4d-ae28-5540f6402417\" style=\"width: 100%; max-height: 400px; overflow-y: auto;\">\n",
       "    <div id=\"19b50ce8-5893-4b4d-ae28-5540f6402417\" style=\"width: 100%;\"></div>\n",
       "    <script>\n",
       "        function renderMyJson() {\n",
       "            renderjson.set_show_to_level(4);\n",
       "            document.getElementById('19b50ce8-5893-4b4d-ae28-5540f6402417').appendChild(renderjson({\"type\": \"diffs\", \"timestamp\": 1754133974377, \"origin\": \"vscode-webview://1ql27b0grt14rkuj26idbt9ktekivp44iu2s8pgfndvblm2j3iep/index.html?id=23fcbce5-103a-4d27-b45f-55c1057120bc&origin=1e95bb6a-280d-4f6e-8090-7f55f54cbfbd&swVersion=4&extensionId=&platform=electron&vscode-resource-base-authority=vscode-resource.vscode-cdn.net&parentOrigin=vscode-file%3A%2F%2Fvscode-app&purpose=notebookRenderer\", \"changes\": [{\"cells\": [], \"added\": [{\"idx\": 2, \"cell_type\": \"code\", \"source\": \"# cell 2\\nprint(1)\", \"id\": \"X61sZmlsZQ==\", \"metadata\": {\"brd\": {\"id\": \"23e8ac6f-0209-40a2-a1c3-8bf483aee182\"}}, \"outputs\": [{\"output_type\": \"stream\", \"name\": \"stdout\", \"text\": \"1\\n\"}], \"execution_count\": null}, {\"idx\": 3, \"cell_type\": \"code\", \"source\": \"# cell 3\\ndisplaydh('cell 3', metadata={'bridge': {'cell': 3}});\", \"id\": \"X62sZmlsZQ==\", \"metadata\": {\"brd\": {\"id\": \"f3837f0e-c269-4a74-8a79-15540f8d59a5\"}}, \"outputs\": [{\"output_type\": \"display_data\", \"data\": {\"text/plain\": \"'cell 3'\"}, \"metadata\": {}}], \"execution_count\": null}, {\"idx\": 4, \"cell_type\": \"code\", \"source\": \"# cell 5\\ndisplaydh(Javascript('console.log(\\\"cell 5\\\")'), metadata={'bridge': {'cell': 5}});\", \"id\": \"X63sZmlsZQ==\", \"metadata\": {\"brd\": {\"id\": \"9e35b206-4cd5-4947-8cd2-7276527eda1b\"}}, \"outputs\": [{\"output_type\": \"display_data\", \"data\": {\"application/javascript\": \"console.log(\\\"cell 5\\\")\", \"text/plain\": \"<IPython.core.display.Javascript object>\"}, \"metadata\": {}}], \"execution_count\": null}], \"removed\": [], \"cellCount\": 42}], \"nbData\": {\"cellCount\": 42}}));\n",
       "        };\n",
       "        function loadRenderjson() {\n",
       "            if (window.renderjson) return Promise.resolve();\n",
       "            return new Promise((resolve, reject) => {\n",
       "                const script = document.createElement('script');\n",
       "                script.src = 'https://cdn.jsdelivr.net/npm/renderjson@latest/renderjson.js';\n",
       "                script.onload = resolve;\n",
       "                script.onerror = reject;\n",
       "                document.head.appendChild(script);\n",
       "            });\n",
       "        };\n",
       "        loadRenderjson().then(renderMyJson).catch(err => console.error('Failed to load renderjson:', err));\n",
       "    </script>\n",
       "</div>\n"
      ],
      "text/plain": [
       "<IPython.core.display.HTML object>"
      ]
     },
     "metadata": {
      "bridge": {
       "skip": true
      }
     },
     "output_type": "display_data"
    }
   ],
   "source": [
    "# cells added\n",
    "diffs3 = json.loads(Path('../packages/nbinspect-vscode/test/update14-add_2-3-4.json').read_text('utf-8'))\n",
    "RenderJSON(diffs3, init_level=4, max_height=400).display()"
   ]
  },
  {
   "cell_type": "code",
   "execution_count": null,
   "metadata": {},
   "outputs": [],
   "source": [
    "nb = NB.fromStateMessage(state)\n",
    "\n",
    "nb._apply_diff(diffs1['changes'][0])\n",
    "nb._apply_diff(diffs2['changes'][0])\n",
    "nb._apply_diff(diffs2['changes'][1])\n",
    "nb._apply_diff(diffs3['changes'][0])\n",
    "check(nb)"
   ]
  },
  {
   "cell_type": "code",
   "execution_count": null,
   "metadata": {},
   "outputs": [],
   "source": [
    "# type: ignore\n",
    "nb = NB.fromStateMessage(state)\n",
    "\n",
    "nb._apply_diff({'cells': [], 'added': [], 'removed': [], 'cellCount': 42})\n",
    "check(nb)\n",
    "\n",
    "with test_raises(IndexError):\n",
    "    nb._apply_diff({'cells': [], 'added': [], 'removed': [], 'cellCount': 134})\n",
    "\n",
    "nb._apply_diff({'cells': [], 'added': [], 'removed': [3, 5], 'cellCount': 40})\n",
    "check(nb)\n",
    "\n",
    "with test_raises(IndexError):\n",
    "    nb._apply_diff({'cells': [], 'added': [], 'removed': [3, 5], 'cellCount': 40})\n",
    "\n",
    "with test_raises(IndexError):\n",
    "    nb._apply_diff({'added': [{'idx': 50}], 'cells': [], 'removed': [], 'cellCount': 41})\n",
    "\n",
    "with test_raises(IndexError):\n",
    "    nb._apply_diff({'removed': [43], 'cells': [], 'added': [], 'cellCount': 40})\n",
    "\n",
    "with test_raises(IndexError):\n",
    "    nb._apply_diff({'cells': [{'idx': 41}], 'added': [], 'removed': [], 'cellCount': 40})"
   ]
  },
  {
   "cell_type": "code",
   "execution_count": null,
   "metadata": {},
   "outputs": [],
   "source": [
    "#| export\n",
    "\n",
    "@FC.patch\n",
    "def apply_diffsMessage(self:NB, diffs):\n",
    "    for diff in diffs['changes']: \n",
    "        try: self._apply_diff(diff)  # type: ignore\n",
    "        except IndexError as e:\n",
    "            print(f\"---- inconsistent diff: {e}\")\n",
    "            raise e"
   ]
  },
  {
   "cell_type": "code",
   "execution_count": null,
   "metadata": {},
   "outputs": [],
   "source": [
    "nb = NB.fromStateMessage(state)\n",
    "\n",
    "ff = sorted(Path('../packages/nbinspect-vscode/test/').glob('update*.json'))\n",
    "for f in ff[:12]:\n",
    "    diffs = json.loads(f.read_text('utf-8'))\n",
    "    nb.apply_diffsMessage(diffs)\n",
    "check(nb)"
   ]
  },
  {
   "cell_type": "code",
   "execution_count": null,
   "metadata": {},
   "outputs": [],
   "source": [
    "nb = NB.fromStateMessage(state)\n",
    "\n",
    "for f in ff[12:]:\n",
    "    diffs = json.loads(f.read_text('utf-8'))\n",
    "    nb.apply_diffsMessage(diffs)\n",
    "check(nb)"
   ]
  },
  {
   "cell_type": "markdown",
   "metadata": {},
   "source": [
    "# IpynbConvertCB\n",
    "> Notebook state to IPython notebook format (ipynb)\n",
    "\n",
    "NBCell and friends are mostly [Notebook format types](https://nbformat.readthedocs.io/en/4.4.0/format_description.html#cell-types) without enforcing some attributes. Going back and forth between the two formats is easy."
   ]
  },
  {
   "cell_type": "code",
   "execution_count": null,
   "metadata": {},
   "outputs": [],
   "source": [
    "#| export\n",
    "\n",
    "class IpynbOutput(AD): ...\n",
    "class IpynbCell(AD): outputs: list[IpynbOutput]\n",
    "\n",
    "class St2Ipynb(Transform): \n",
    "    def __init__(self, in_vscode: bool=False): self.in_vscode = in_vscode\n",
    "    def encodes(self, x: NBOutput) -> IpynbOutput:  # type: ignore\n",
    "        fmt = IpynbOutput(x)\n",
    "        if fmt['output_type'] in ('display_data', 'execute_result'): fmt.metadata=x.get('metadata', {})\n",
    "        fmt.get('metadata', emptyd).pop('transient', None)\n",
    "        return fmt\n",
    "    def decodes(self, x: IpynbOutput) -> NBOutput: return NBOutput(x)  # type: ignore\n",
    "        \n",
    "\n",
    "    def encodes(self, x: NBCell) -> IpynbCell:\n",
    "        fmt = update_(IpynbCell(x), metadata=x.get('metadata', {}))\n",
    "        if self.in_vscode:\n",
    "            fmt['metadata'] = deepcopy(fmt['metadata'])\n",
    "            brd = fmt['metadata']['brd']\n",
    "            brd['cell_id'], fmt['id'] = fmt['id'], brd['id']\n",
    "            del brd['id']\n",
    "        fmt.pop('idx', None)\n",
    "        if 'outputs' in x: fmt['outputs'] = self(tuple(x.outputs))\n",
    "        # if x['cell_type'] == 'code': \n",
    "        #     fmt['execution_count'] = fmt.get('execution_count', None)\n",
    "        return fmt\n",
    "    def decodes(self, x: IpynbCell) -> NBCell: return NBCell(x)"
   ]
  },
  {
   "cell_type": "code",
   "execution_count": null,
   "metadata": {},
   "outputs": [],
   "source": [
    "cell = NBCell({\n",
    "    'cell_type': 'code', 'source': '', 'idx': 1, 'id': 'asdfg',\n",
    "    'metadata': {'brd': {'id': '123-456'}},\n",
    "    'outputs': [{\n",
    "        'output_type': 'display_data',\n",
    "        'data': {'text/plain': ''},\n",
    "        'metadata': {'transient': {'display_id': 'abc'}}\n",
    "    }]\n",
    "})\n",
    "c = St2Ipynb(in_vscode)(cell)\n",
    "test_eq(type(c), IpynbCell)\n",
    "test_eq(c.outputs[0].metadata, {})\n",
    "test_eq(c.id, '123-456' if in_vscode else 'asdfg')\n",
    "test_fail(lambda: c.idx)"
   ]
  },
  {
   "cell_type": "code",
   "execution_count": null,
   "metadata": {},
   "outputs": [
    {
     "data": {
      "text/html": [
       "\n",
       "<div id=\"wrapper-44e01cfa-0362-4c47-9aa2-1f0777fa4365\" style=\"width: 100%; max-height: 400px; overflow-y: auto;\">\n",
       "    <div id=\"44e01cfa-0362-4c47-9aa2-1f0777fa4365\" style=\"width: 100%;\"></div>\n",
       "    <script>\n",
       "        function renderMyJson() {\n",
       "            renderjson.set_show_to_level(1);\n",
       "            document.getElementById('44e01cfa-0362-4c47-9aa2-1f0777fa4365').appendChild(renderjson([{\"cell_type\": \"markdown\", \"source\": \"# cell 0\", \"id\": \"81c3e877-b59a-48f5-a1da-21894d928d4b\", \"metadata\": {\"brd\": {\"cell_id\": \"W0sZmlsZQ==\"}}}, {\"cell_type\": \"code\", \"source\": \"# cell 1\\nimport time\\nfrom itertools import count\\n\\nimport ipywidgets as W\\nimport matplotlib.pyplot as plt\\nfrom bridget.helpers import displaydh\\nfrom IPython.display import HTML, Image, Javascript, JSON, DisplayHandle, clear_output\\ncounter = count()\", \"id\": \"717322f8-95fa-425c-839d-8b9e7d4ef921\", \"metadata\": {\"brd\": {\"cell_id\": \"W1sZmlsZQ==\"}}, \"outputs\": [], \"execution_count\": 1}, {\"cell_type\": \"code\", \"source\": \"# cell 2\\nprint(1)\", \"id\": \"92f3e304-fd32-4de2-badf-11577f9e7a4a\", \"metadata\": {\"brd\": {\"cell_id\": \"W2sZmlsZQ==\"}}, \"outputs\": [{\"output_type\": \"stream\", \"name\": \"stdout\", \"text\": \"1\\n\"}], \"execution_count\": 2}, {\"cell_type\": \"code\", \"source\": \"# cell 3\\ndisplaydh('cell 3', metadata={'bridge': {'cell': 3}});\", \"id\": \"f2c19c18-a3f7-4acb-88e4-c7239178c401\", \"metadata\": {\"brd\": {\"cell_id\": \"W3sZmlsZQ==\"}}, \"outputs\": [{\"output_type\": \"display_data\", \"data\": {\"text/plain\": \"'cell 3'\"}, \"metadata\": {\"bridge\": {\"cell\": 3}}}], \"execution_count\": 3}, {\"cell_type\": \"code\", \"source\": \"# cell 4\\nimport time\\ntime.sleep(2)\\ndisplaydh(HTML('cell 4'), metadata={'bridge': {'cell': 4}});\", \"id\": \"798f7f83-9b31-4e21-a36b-5520c6f72a2d\", \"metadata\": {\"brd\": {\"cell_id\": \"W4sZmlsZQ==\"}}, \"outputs\": [{\"output_type\": \"display_data\", \"data\": {\"text/html\": \"cell 4\", \"text/plain\": \"<IPython.core.display.HTML object>\"}, \"metadata\": {\"bridge\": {\"cell\": 4}}}], \"execution_count\": 4}, {\"cell_type\": \"code\", \"source\": \"# cell 5\\ndisplaydh(Javascript('console.log(\\\"cell 5\\\")'), metadata={'bridge': {'cell': 5}});\", \"id\": \"a20081a9-4e7e-4301-be25-2a44f45bfc71\", \"metadata\": {\"brd\": {\"cell_id\": \"W5sZmlsZQ==\"}}, \"outputs\": [{\"output_type\": \"display_data\", \"data\": {\"application/javascript\": \"console.log(\\\"cell 5\\\")\", \"text/plain\": \"<IPython.core.display.Javascript object>\"}, \"metadata\": {\"bridge\": {\"cell\": 5}}}], \"execution_count\": 5}, {\"cell_type\": \"code\", \"source\": \"# cell 6\\nprint(6.1)\\nprint(6.2)\", \"id\": \"e1ba8c0c-d248-44ff-9437-17482a711358\", \"metadata\": {\"brd\": {\"cell_id\": \"W6sZmlsZQ==\"}}, \"outputs\": [{\"output_type\": \"stream\", \"name\": \"stdout\", \"text\": \"6.1\\n6.2\\n\"}], \"execution_count\": 6}, {\"cell_type\": \"code\", \"source\": \"# cell 7\\ndisplaydh(HTML('cell 7.1'), metadata={'bridge': {'cell': 7.1}})\\ndisplaydh(HTML('cell 7.2'), metadata={'bridge': {'cell': 7.2}});\", \"id\": \"7512abfe-f7d2-4047-a6b1-56aefbf9457e\", \"metadata\": {\"brd\": {\"cell_id\": \"X10sZmlsZQ==\"}}, \"outputs\": [{\"output_type\": \"display_data\", \"data\": {\"text/html\": \"cell 7.1\", \"text/plain\": \"<IPython.core.display.HTML object>\"}, \"metadata\": {\"bridge\": {\"cell\": 7.1}}}, {\"output_type\": \"display_data\", \"data\": {\"text/html\": \"cell 7.2\", \"text/plain\": \"<IPython.core.display.HTML object>\"}, \"metadata\": {\"bridge\": {\"cell\": 7.2}}}], \"execution_count\": 7}, {\"cell_type\": \"code\", \"source\": \"%HTML\\n<h3>cell 8</h3>\", \"id\": \"72d2a352-a5e3-4bb4-8e12-2302f9bac880\", \"metadata\": {\"brd\": {\"cell_id\": \"X11sZmlsZQ==\"}}, \"outputs\": [{\"output_type\": \"display_data\", \"data\": {\"text/html\": \"<h3>cell 8</h3>\\n\", \"text/plain\": \"<IPython.core.display.HTML object>\"}, \"metadata\": {}}], \"execution_count\": 8}, {\"cell_type\": \"code\", \"source\": \"%javascript\\nconsole.log('cell 9')\", \"id\": \"39565bc0-3d14-4912-8220-e9dacb965ca4\", \"metadata\": {\"brd\": {\"cell_id\": \"X12sZmlsZQ==\"}}, \"outputs\": [{\"output_type\": \"display_data\", \"data\": {\"application/javascript\": \"console.log('cell 9')\\n\", \"text/plain\": \"<IPython.core.display.Javascript object>\"}, \"metadata\": {}}], \"execution_count\": 9}, {\"cell_type\": \"code\", \"source\": \"%markdown\\ncell 10\", \"id\": \"ff1561f9-0589-470e-8921-0e99efd531bd\", \"metadata\": {\"brd\": {\"cell_id\": \"X13sZmlsZQ==\"}}, \"outputs\": [{\"output_type\": \"display_data\", \"data\": {\"text/markdown\": \"cell 10\\n\", \"text/plain\": \"<IPython.core.display.Markdown object>\"}, \"metadata\": {}}], \"execution_count\": 10}, {\"cell_type\": \"code\", \"source\": \"%SVG\\n<svg width=\\\"100\\\" height=\\\"20\\\" xmlns=\\\"http://www.w3.org/2000/svg\\\">\\n  <text x=\\\"10\\\" y=\\\"10\\\">cell 11</text>\\n</svg>\", \"id\": \"4af29770-5f76-4517-9816-fa408687dab1\", \"metadata\": {\"brd\": {\"cell_id\": \"X14sZmlsZQ==\"}}, \"outputs\": [{\"output_type\": \"display_data\", \"data\": {\"image/svg+xml\": \"<svg xmlns=\\\"http://www.w3.org/2000/svg\\\" width=\\\"100\\\" height=\\\"20\\\">\\n  <text x=\\\"10\\\" y=\\\"10\\\">cell 11</text>\\n</svg>\", \"text/plain\": \"<IPython.core.display.SVG object>\"}, \"metadata\": {\"__displayOpenPlotIcon\": true}}], \"execution_count\": 11}, {\"cell_type\": \"code\", \"source\": \"# cell 12\\nW.IntSlider(12, description='cell')\", \"id\": \"e7e6d557-3aa7-41a7-9e77-805295112aec\", \"metadata\": {\"brd\": {\"cell_id\": \"X15sZmlsZQ==\"}}, \"outputs\": [{\"output_type\": \"execute_result\", \"data\": {\"application/vnd.jupyter.widget-view+json\": {\"version_major\": 2, \"version_minor\": 0, \"model_id\": \"6191b18d61a44fbd89eb132d22a28eab\"}, \"text/plain\": \"IntSlider(value=12, description='cell')\"}, \"execution_count\": 12, \"metadata\": {}}], \"execution_count\": 12}, {\"cell_type\": \"code\", \"source\": \"#| hide\\n# cell 13\\nw = W.Output()\\ndisplay(w)\\nwith w:\\n    print('cell 13.1')\\n    display('cell 13.2')\\n    display(HTML('cell 13.3'))\", \"id\": \"8af15850-3d11-4498-a037-ce8b1ac2a161\", \"metadata\": {\"brd\": {\"cell_id\": \"X16sZmlsZQ==\"}}, \"outputs\": [{\"output_type\": \"display_data\", \"data\": {\"application/vnd.jupyter.widget-view+json\": {\"version_major\": 2, \"version_minor\": 0, \"model_id\": \"a9408d195fb84649b38948893390ef10\"}, \"text/plain\": \"Output()\"}, \"metadata\": {}}], \"execution_count\": 13}, {\"cell_type\": \"code\", \"source\": \"# cell 14\\nfig = plt.figure(figsize=(4, 2.67))\\nplt.plot([1,2,3,4]);\", \"id\": \"3b388911-cc9e-40af-8746-3821be96cbbd\", \"metadata\": {\"brd\": {\"cell_id\": \"X20sZmlsZQ==\"}}, \"outputs\": [{\"output_type\": \"display_data\", \"data\": {\"image/png\": \"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\", \"text/plain\": \"<Figure size 400x267 with 1 Axes>\"}, \"metadata\": {\"__displayOpenPlotIcon\": true}}], \"execution_count\": 14}, {\"cell_type\": \"code\", \"source\": \"#| export\\n# cell 15\\nImage('https://jupyter.org/assets/try/jupyter.png', metadata={'bridge': {'cell': 15}})\", \"id\": \"268197ce-b8c0-4365-84de-27d06bbb5c5c\", \"metadata\": {\"brd\": {\"cell_id\": \"X21sZmlsZQ==\"}}, \"outputs\": [{\"output_type\": \"execute_result\", \"data\": {\"image/png\": \"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\", \"text/plain\": \"<IPython.core.display.Image object>\"}, \"execution_count\": 15, \"metadata\": {\"__displayOpenPlotIcon\": true, \"image/png\": {\"bridge\": {\"cell\": 15}}}}], \"execution_count\": 15}, {\"cell_type\": \"code\", \"source\": \"# cell 16\\ndh = displaydh(display_id=True, metadata={'bridge': {'cell': 16}})\", \"id\": \"d90254ba-7457-4559-9544-afe201a808ca\", \"metadata\": {\"brd\": {\"cell_id\": \"X22sZmlsZQ==\"}}, \"outputs\": [{\"output_type\": \"display_data\", \"data\": {}, \"metadata\": {\"bridge\": {\"cell\": 16}}}], \"execution_count\": 16}, {\"cell_type\": \"code\", \"source\": \"# cell 17\\ndh = displaydh(HTML('cell 17'), metadata={'bridge': {'cell': 17}})\", \"id\": \"91e5d05a-6a56-4649-b8ad-8eae1bbd6727\", \"metadata\": {\"brd\": {\"cell_id\": \"X23sZmlsZQ==\"}}, \"outputs\": [{\"output_type\": \"display_data\", \"data\": {\"text/html\": \"cell 18\", \"text/plain\": \"<IPython.core.display.HTML object>\"}, \"metadata\": {\"bridge\": {\"cell\": 18}}}], \"execution_count\": 17}, {\"cell_type\": \"code\", \"source\": \"# cell 18\\ndh.update(HTML('cell 18'), metadata={'bridge': {'cell': 18}})\", \"id\": \"05bc7556-dd06-4434-ba68-6d438ed2cf56\", \"metadata\": {\"brd\": {\"cell_id\": \"X24sZmlsZQ==\"}}, \"outputs\": [], \"execution_count\": 18}, {\"cell_type\": \"code\", \"source\": \"# cell 19\\ndisplaydh(JSON({'cell': 19}), metadata={'bridge': {'cell': 19}});\", \"id\": \"c3efb63f-adee-41c4-9450-9f489406b873\", \"metadata\": {\"brd\": {\"cell_id\": \"X25sZmlsZQ==\"}}, \"outputs\": [{\"output_type\": \"display_data\", \"data\": {\"application/json\": {\"cell\": 19}, \"text/plain\": \"<IPython.core.display.JSON object>\"}, \"metadata\": {\"application/json\": {\"expanded\": false, \"root\": \"root\"}, \"bridge\": {\"cell\": 19}}}], \"execution_count\": 19}, {\"cell_type\": \"code\", \"source\": \"# cell 20\\ndisplay(W.IntSlider(20, description='cell'), metadata={'bridge': {'cell': 20}})\", \"id\": \"873e423a-4028-4d7d-9912-61cb29478c2a\", \"metadata\": {\"brd\": {\"cell_id\": \"X26sZmlsZQ==\"}}, \"outputs\": [{\"output_type\": \"display_data\", \"data\": {\"application/vnd.jupyter.widget-view+json\": {\"version_major\": 2, \"version_minor\": 0, \"model_id\": \"a2e5512c64244dd8919c79ca4f5df767\"}, \"text/plain\": \"IntSlider(value=20, description='cell')\"}, \"metadata\": {\"bridge\": {\"cell\": 20}}}], \"execution_count\": 20}, {\"cell_type\": \"code\", \"source\": \"\", \"id\": \"9793d8a7-61fa-4651-9ce1-7b084c2258f9\", \"metadata\": {\"brd\": {\"cell_id\": \"X30sZmlsZQ==\"}}, \"outputs\": [], \"execution_count\": null}, {\"cell_type\": \"code\", \"source\": \"# cell 22\\n1/0\", \"id\": \"9cb695ff-382a-411e-b1c6-b7aaa921cbe4\", \"metadata\": {\"brd\": {\"cell_id\": \"X31sZmlsZQ==\"}}, \"outputs\": [{\"output_type\": \"error\", \"ename\": \"ZeroDivisionError\", \"evalue\": \"division by zero\", \"traceback\": [\"\\u001b[31m---------------------------------------------------------------------------\\u001b[39m\", \"\\u001b[31mZeroDivisionError\\u001b[39m                         Traceback (most recent call last)\", \"\\u001b[36mCell\\u001b[39m\\u001b[36m \\u001b[39m\\u001b[32mIn[21]\\u001b[39m\\u001b[32m, line 2\\u001b[39m\", \"\\u001b[32m      1\\u001b[39m \\u001b[38;5;66;03m# cell 22\\u001b[39;00m\", \"\\u001b[32m----> \\u001b[39m\\u001b[32m2\\u001b[39m \\u001b[32;43m1\\u001b[39;49m\\u001b[43m/\\u001b[49m\\u001b[32;43m0\\u001b[39;49m\", \"\", \"\\u001b[31mZeroDivisionError\\u001b[39m: division by zero\"]}], \"execution_count\": 21}, {\"cell_type\": \"markdown\", \"source\": \"# cell 23\", \"id\": \"52b08c54-a86f-41a4-a11c-0d74faf81bfd\", \"metadata\": {\"brd\": {\"cell_id\": \"X32sZmlsZQ==\"}}}, {\"cell_type\": \"code\", \"source\": \"# cell 24\\nfrom itertools import count\\nfrom bridget.helpers import displaydh\\nfrom IPython.display import HTML, Javascript, clear_output\\ncounter = count()\\ndh0 = displaydh(HTML('cell 24.0'), metadata={'bridge': {'cell': 24.0}})\\ndh1 = displaydh(\\n    {'application/x-notebook-state+json': {'feedback': True, 'hide': False, 'debug': True, 'id': next(counter)}}, \\n    raw=True, metadata={'bridge': {'cell': 24.1}})\", \"id\": \"e4bbb456-27fa-47d1-b95b-637b61e0e8f5\", \"metadata\": {\"brd\": {\"renderer\": true, \"cell_id\": \"X33sZmlsZQ==\"}}, \"outputs\": [{\"output_type\": \"display_data\", \"data\": {\"text/html\": \"cell 28\", \"text/plain\": \"<IPython.core.display.HTML object>\"}, \"metadata\": {\"bridge\": {\"cell\": 28, \"cnt\": 3}}}, {\"output_type\": \"display_data\", \"data\": {\"text/plain\": \"\", \"application/x-notebook-state+json\": {\"debug\": true, \"id\": 9}}, \"metadata\": {\"bridge\": {\"cell\": 34}}}], \"execution_count\": 22}, {\"cell_type\": \"code\", \"source\": \"# cell 25\\ndh1.update({'application/x-notebook-state+json': {'id': next(counter), 'update': 'diff'}}, raw=True, \\n        metadata={'bridge': {'cell': 25}})\", \"id\": \"7e0e7b1b-9633-4035-9365-80799bceb2ae\", \"metadata\": {\"brd\": {\"cell_id\": \"X34sZmlsZQ==\"}}, \"outputs\": [], \"execution_count\": 23}, {\"cell_type\": \"code\", \"source\": \"# cell 26\\n_ = displaydh('cell 26.1', metadata={'bridge': {'cell': 26.1}})\\n_ = displaydh('cell 26.2', metadata={'bridge': {'cell': 26.2}})\", \"id\": \"5dc3eece-bec8-47c1-b409-0147dc8a7114\", \"metadata\": {\"brd\": {\"cell_id\": \"X35sZmlsZQ==\"}}, \"outputs\": [{\"output_type\": \"display_data\", \"data\": {\"text/plain\": \"'cell 26.1'\"}, \"metadata\": {\"bridge\": {\"cell\": 26.1}}}, {\"output_type\": \"display_data\", \"data\": {\"text/plain\": \"'cell 26.2'\"}, \"metadata\": {\"bridge\": {\"cell\": 26.2}}}], \"execution_count\": 24}, {\"cell_type\": \"code\", \"source\": \"# cell 27\\n_ = display('cell 27.1', metadata={'bridge': {'cell': 27.1}})\\n_ = display('cell 27.2', metadata={'bridge': {'cell': 27.2}})\", \"id\": \"246f66f3-e71d-4fd1-9041-40e32c38a56a\", \"metadata\": {\"brd\": {\"cell_id\": \"X36sZmlsZQ==\"}}, \"outputs\": [{\"output_type\": \"display_data\", \"data\": {\"text/plain\": \"'cell 27.1'\"}, \"metadata\": {\"bridge\": {\"cell\": 27.1}}}, {\"output_type\": \"display_data\", \"data\": {\"text/plain\": \"'cell 27.2'\"}, \"metadata\": {\"bridge\": {\"cell\": 27.2}}}], \"execution_count\": 25}, {\"cell_type\": \"code\", \"source\": \"# cell 28\\ndh1.update({'application/x-notebook-state+json': {'id': next(counter)}}, raw=True, \\n        metadata={'bridge': {'cell': 28}})\\ndh0.update(HTML('cell 28'), metadata={'bridge': {'cell': 28, 'cnt': next(counter)}})\", \"id\": \"2d5e3f49-cc7d-4af2-91f1-c2c0285346a4\", \"metadata\": {\"brd\": {\"cell_id\": \"X40sZmlsZQ==\"}}, \"outputs\": [], \"execution_count\": 26}, {\"cell_type\": \"code\", \"source\": \"# cell 29\\ndh1.update({'application/x-notebook-state+json': {'feedback': False, 'id': next(counter), 'update':'opts'}}, raw=True, \\n        metadata={'bridge': {'cell': 29}})\", \"id\": \"c8e29798-99e3-4834-9a4e-762f48bf8a63\", \"metadata\": {\"brd\": {\"cell_id\": \"X41sZmlsZQ==\"}}, \"outputs\": [], \"execution_count\": 27}, {\"cell_type\": \"code\", \"source\": \"# cell 30\\ndh1.update({'application/x-notebook-state+json': {'feedback': True, 'id': next(counter), 'update':'opts'}}, raw=True, \\n        metadata={'bridge': {'cell': 30}})\", \"id\": \"29682245-e83e-434e-b053-e5cb96535236\", \"metadata\": {\"brd\": {\"cell_id\": \"X42sZmlsZQ==\"}}, \"outputs\": [], \"execution_count\": 28}, {\"cell_type\": \"code\", \"source\": \"# cell 31\\ndh1.update({'application/x-notebook-state+json': {'hide': True, 'id': next(counter), 'update':'opts'}}, raw=True, \\n        metadata={'bridge': {'cell': 31}})\", \"id\": \"91796c88-1f45-4533-a75c-a646ceea4c8d\", \"metadata\": {\"brd\": {\"cell_id\": \"X43sZmlsZQ==\"}}, \"outputs\": [], \"execution_count\": 29}, {\"cell_type\": \"code\", \"source\": \"# cell 32\\ndh1.update({'application/x-notebook-state+json': {'hide': False, 'id': next(counter), 'update':'opts'}}, raw=True, \\n        metadata={'bridge': {'cell': 32}})\", \"id\": \"736d60ba-138a-4bb7-bdb4-fd1c2fb2c9a3\", \"metadata\": {\"brd\": {\"cell_id\": \"X44sZmlsZQ==\"}}, \"outputs\": [], \"execution_count\": 30}, {\"cell_type\": \"code\", \"source\": \"# cell 33\\ndh1.update({'application/x-notebook-state+json': {'debug': False, 'id': next(counter)}, 'update':'opts'}, raw=True, \\n        metadata={'bridge': {'cell': 33}})\", \"id\": \"1776b831-07d1-4ff7-aa55-6d2b828f2374\", \"metadata\": {\"brd\": {\"cell_id\": \"X45sZmlsZQ==\"}}, \"outputs\": [], \"execution_count\": 31}, {\"cell_type\": \"code\", \"source\": \"# cell 34\\ndh1.update({'application/x-notebook-state+json': {'debug': True, 'id': next(counter)}, 'update':'opts'}, raw=True, \\n        metadata={'bridge': {'cell': 34}})\", \"id\": \"ded37fc1-430a-46cc-ba92-5cd73735e5f2\", \"metadata\": {\"brd\": {\"cell_id\": \"X46sZmlsZQ==\"}}, \"outputs\": [], \"execution_count\": 32}, {\"cell_type\": \"code\", \"source\": \"# cell 35\\ndh2 = displaydh({'application/x-notebook-state+json': {'feedback': True, 'debug': True, 'id': next(counter)}}, \\n        raw=True, metadata={'bridge': {'cell': 35}})\\n# clear_output()\", \"id\": \"e7eb193d-f9fe-41b6-b817-1328963ff734\", \"metadata\": {\"brd\": {\"renderer\": true, \"cell_id\": \"X50sZmlsZQ==\"}}, \"outputs\": [{\"output_type\": \"display_data\", \"data\": {\"application/x-notebook-state+json\": \"{\\\"id\\\":11}\"}, \"metadata\": {\"bridge\": {\"cell\": 36, \"update\": true}}}], \"execution_count\": 33}, {\"cell_type\": \"code\", \"source\": \"# cell 36\\ndh2.update({'application/x-notebook-state+json': {'id': next(counter)}}, raw=True, \\n        metadata={'bridge': {'cell': 36, 'update': True}})\", \"id\": \"dae10da0-df1d-4e79-baec-528472d53959\", \"metadata\": {\"brd\": {\"cell_id\": \"X51sZmlsZQ==\"}}, \"outputs\": [], \"execution_count\": 34}, {\"cell_type\": \"code\", \"source\": \"from itertools import count\\nimport anywidget, time\\nfrom IPython.display import DisplayHandle\\nfrom bridget.helpers import displaydh\\n# from bridget.helpers import skip\\nimport ipywidgets as W\\n\\ncounter = count()\\n\\nclass TestWidget(anywidget.AnyWidget):\\n    _esm = '''debugger;\\nexport default { \\n    async initialize({ model }) {\\n        function on_msg(msg) {\\n            console.log(`++++ Received message:`, msg);\\n            if (window.$Nb) {\\n                msg.origin = document.location.href;\\n                window.$Nb.update(msg);\\n                return;\\n            }\\n            return model.send({ id: msg.id, response: 'no response' });\\n        }\\n        model.on(\\\"msg:custom\\\", on_msg);\\n        function on_stateChange(chg) {\\n            console.log('++++ on_state', chg.reqId, chg);\\n            model.send({ changes: chg });\\n        }\\n        let cleanup;\\n        if (window.$Nb) {\\n            cleanup = window.$Nb.addStateObserver(on_stateChange);\\n        }\\n        if (cleanup) return cleanup;\\n    }\\n};\\n    '''\\n    dh: DisplayHandle\\n    def __init__(self, *args, **kwargs):\\n        super().__init__(*args, **kwargs)\\n        self.on_msg(self._handle_message)\\n        self.out = W.Output()\\n        display(self.out)\\n        with self.out:\\n            print('Test widget, cell 35')\\n\\n    def _handle_message(self, w, msg, buffers):\\n        # self.dh.update(f'Received {msg=}, {buffers=}', metadata=skip(cell=35))\\n        self.msg = msg\\n        with self.out:\\n            print(f'Received {msg=}, {buffers=}')\\n\\nw = TestWidget()\", \"id\": \"28128a8f-b8a7-47db-8430-b45260f2f9f3\", \"metadata\": {\"brd\": {\"cell_id\": \"X52sZmlsZQ==\"}}, \"outputs\": [{\"output_type\": \"display_data\", \"data\": {\"application/vnd.jupyter.widget-view+json\": {\"version_major\": 2, \"version_minor\": 0, \"model_id\": \"bffa9610926e4f05acdc661b5bd3f592\"}, \"text/plain\": \"Output()\"}, \"metadata\": {}}], \"execution_count\": 35}, {\"cell_type\": \"code\", \"source\": \"# cell 38\\nw.send({'id': next(counter), 'update': 'full'})\", \"id\": \"622c7097-bc29-495d-bab2-71b53bbec98a\", \"metadata\": {\"brd\": {\"cell_id\": \"X53sZmlsZQ==\"}}, \"outputs\": [], \"execution_count\": 37}, {\"cell_type\": \"code\", \"source\": \"# cell 39\\ndh = displaydh(metadata={'bridge': {'cell': 39}})\", \"id\": \"8acb2751-93cd-4a6f-9f71-d36ef74abfba\", \"metadata\": {\"brd\": {\"cell_id\": \"X54sZmlsZQ==\"}}, \"outputs\": [], \"execution_count\": null}, {\"cell_type\": \"code\", \"source\": \"# cell 40\\nthis_id = next(counter)\\n_ = displaydh(metadata={'bridge': {'cell': 40, 'this': this_id}})\\n# nb.source.send({'cmd': 'get_state'}, timeout=5)\\n# clear_output(wait=True)\", \"id\": \"c01d8a36-c1fa-437d-a7cf-f369c4f66ecf\", \"metadata\": {\"brd\": {\"cell_id\": \"X55sZmlsZQ==\"}}, \"outputs\": [], \"execution_count\": null}, {\"cell_type\": \"code\", \"source\": \"# cell 41\\n# find_me\", \"id\": \"340489bf-419a-4da3-9b06-eb1b5cd6daba\", \"metadata\": {\"brd\": {\"cell_id\": \"X56sZmlsZQ==\"}}, \"outputs\": [], \"execution_count\": 7}]));\n",
       "        };\n",
       "        function loadRenderjson() {\n",
       "            if (window.renderjson) return Promise.resolve();\n",
       "            return new Promise((resolve, reject) => {\n",
       "                const script = document.createElement('script');\n",
       "                script.src = 'https://cdn.jsdelivr.net/npm/renderjson@latest/renderjson.js';\n",
       "                script.onload = resolve;\n",
       "                script.onerror = reject;\n",
       "                document.head.appendChild(script);\n",
       "            });\n",
       "        };\n",
       "        loadRenderjson().then(renderMyJson).catch(err => console.error('Failed to load renderjson:', err));\n",
       "    </script>\n",
       "</div>\n"
      ],
      "text/plain": [
       "<IPython.core.display.HTML object>"
      ]
     },
     "metadata": {
      "bridge": {
       "skip": true
      }
     },
     "output_type": "display_data"
    }
   ],
   "source": [
    "nb = NB.fromStateMessage(state)\n",
    "\n",
    "icells = nb.cells.map(St2Ipynb(in_vscode))\n",
    "RenderJSON(icells, init_level=1, max_height=400).display()"
   ]
  },
  {
   "cell_type": "code",
   "execution_count": null,
   "metadata": {},
   "outputs": [],
   "source": [
    "#| export\n",
    "\n",
    "class IpynbConvertCB(Callback):\n",
    "    def __init__(self, in_vscode: bool=False): self.in_vscode = in_vscode\n",
    "    def before_iter(self, istat): \n",
    "        nb = istat.context\n",
    "        d, ks, mdks = nb.nbData['metadata'], ('nbformat', 'nbformat_minor'), ('kernelspec', 'language_info')\n",
    "        self.notebook = {\n",
    "            'cells': [],\n",
    "            **FC.filter_keys(d, FC.in_(ks)),  # type: ignore\n",
    "            'metadata': FC.filter_keys(d['metadata'], FC.in_(mdks)),  # type: ignore\n",
    "        }\n",
    "        self.notebook['nbformat_minor'] = 5\n",
    "        self.cell_counter = 0\n",
    "        self._fmt = St2Ipynb(self.in_vscode)\n",
    "    \n",
    "    def on_iter(self, _, cell):\n",
    "        # fmt = update_(St2Ipynb()(cell), id=self.cell_counter)\n",
    "        self.notebook['cells'].append(self._fmt(cell))\n",
    "        self.cell_counter += 1"
   ]
  },
  {
   "cell_type": "code",
   "execution_count": null,
   "metadata": {},
   "outputs": [
    {
     "data": {
      "text/html": [
       "\n",
       "<div id=\"wrapper-9ac80e04-468d-4926-b075-eec157bfd7b7\" style=\"width: 100%; max-height: 400px; overflow-y: auto;\">\n",
       "    <div id=\"9ac80e04-468d-4926-b075-eec157bfd7b7\" style=\"width: 100%;\"></div>\n",
       "    <script>\n",
       "        function renderMyJson() {\n",
       "            renderjson.set_show_to_level(1);\n",
       "            document.getElementById('9ac80e04-468d-4926-b075-eec157bfd7b7').appendChild(renderjson({\"cells\": [{\"cell_type\": \"markdown\", \"source\": \"# cell 0\", \"id\": \"81c3e877-b59a-48f5-a1da-21894d928d4b\", \"metadata\": {\"brd\": {\"cell_id\": \"W0sZmlsZQ==\"}}}, {\"cell_type\": \"code\", \"source\": \"# cell 1\\nimport time\\nfrom itertools import count\\n\\nimport ipywidgets as W\\nimport matplotlib.pyplot as plt\\nfrom bridget.helpers import displaydh\\nfrom IPython.display import HTML, Image, Javascript, JSON, DisplayHandle, clear_output\\ncounter = count()\", \"id\": \"717322f8-95fa-425c-839d-8b9e7d4ef921\", \"metadata\": {\"brd\": {\"cell_id\": \"W1sZmlsZQ==\"}}, \"outputs\": [], \"execution_count\": 1}, {\"cell_type\": \"code\", \"source\": \"# cell 2\\nprint(1)\", \"id\": \"92f3e304-fd32-4de2-badf-11577f9e7a4a\", \"metadata\": {\"brd\": {\"cell_id\": \"W2sZmlsZQ==\"}}, \"outputs\": [{\"output_type\": \"stream\", \"name\": \"stdout\", \"text\": \"1\\n\"}], \"execution_count\": 2}, {\"cell_type\": \"code\", \"source\": \"# cell 3\\ndisplaydh('cell 3', metadata={'bridge': {'cell': 3}});\", \"id\": \"f2c19c18-a3f7-4acb-88e4-c7239178c401\", \"metadata\": {\"brd\": {\"cell_id\": \"W3sZmlsZQ==\"}}, \"outputs\": [{\"output_type\": \"display_data\", \"data\": {\"text/plain\": \"'cell 3'\"}, \"metadata\": {\"bridge\": {\"cell\": 3}}}], \"execution_count\": 3}, {\"cell_type\": \"code\", \"source\": \"# cell 4\\nimport time\\ntime.sleep(2)\\ndisplaydh(HTML('cell 4'), metadata={'bridge': {'cell': 4}});\", \"id\": \"798f7f83-9b31-4e21-a36b-5520c6f72a2d\", \"metadata\": {\"brd\": {\"cell_id\": \"W4sZmlsZQ==\"}}, \"outputs\": [{\"output_type\": \"display_data\", \"data\": {\"text/html\": \"cell 4\", \"text/plain\": \"<IPython.core.display.HTML object>\"}, \"metadata\": {\"bridge\": {\"cell\": 4}}}], \"execution_count\": 4}, {\"cell_type\": \"code\", \"source\": \"# cell 5\\ndisplaydh(Javascript('console.log(\\\"cell 5\\\")'), metadata={'bridge': {'cell': 5}});\", \"id\": \"a20081a9-4e7e-4301-be25-2a44f45bfc71\", \"metadata\": {\"brd\": {\"cell_id\": \"W5sZmlsZQ==\"}}, \"outputs\": [{\"output_type\": \"display_data\", \"data\": {\"application/javascript\": \"console.log(\\\"cell 5\\\")\", \"text/plain\": \"<IPython.core.display.Javascript object>\"}, \"metadata\": {\"bridge\": {\"cell\": 5}}}], \"execution_count\": 5}, {\"cell_type\": \"code\", \"source\": \"# cell 6\\nprint(6.1)\\nprint(6.2)\", \"id\": \"e1ba8c0c-d248-44ff-9437-17482a711358\", \"metadata\": {\"brd\": {\"cell_id\": \"W6sZmlsZQ==\"}}, \"outputs\": [{\"output_type\": \"stream\", \"name\": \"stdout\", \"text\": \"6.1\\n6.2\\n\"}], \"execution_count\": 6}, {\"cell_type\": \"code\", \"source\": \"# cell 7\\ndisplaydh(HTML('cell 7.1'), metadata={'bridge': {'cell': 7.1}})\\ndisplaydh(HTML('cell 7.2'), metadata={'bridge': {'cell': 7.2}});\", \"id\": \"7512abfe-f7d2-4047-a6b1-56aefbf9457e\", \"metadata\": {\"brd\": {\"cell_id\": \"X10sZmlsZQ==\"}}, \"outputs\": [{\"output_type\": \"display_data\", \"data\": {\"text/html\": \"cell 7.1\", \"text/plain\": \"<IPython.core.display.HTML object>\"}, \"metadata\": {\"bridge\": {\"cell\": 7.1}}}, {\"output_type\": \"display_data\", \"data\": {\"text/html\": \"cell 7.2\", \"text/plain\": \"<IPython.core.display.HTML object>\"}, \"metadata\": {\"bridge\": {\"cell\": 7.2}}}], \"execution_count\": 7}, {\"cell_type\": \"code\", \"source\": \"%HTML\\n<h3>cell 8</h3>\", \"id\": \"72d2a352-a5e3-4bb4-8e12-2302f9bac880\", \"metadata\": {\"brd\": {\"cell_id\": \"X11sZmlsZQ==\"}}, \"outputs\": [{\"output_type\": \"display_data\", \"data\": {\"text/html\": \"<h3>cell 8</h3>\\n\", \"text/plain\": \"<IPython.core.display.HTML object>\"}, \"metadata\": {}}], \"execution_count\": 8}, {\"cell_type\": \"code\", \"source\": \"%javascript\\nconsole.log('cell 9')\", \"id\": \"39565bc0-3d14-4912-8220-e9dacb965ca4\", \"metadata\": {\"brd\": {\"cell_id\": \"X12sZmlsZQ==\"}}, \"outputs\": [{\"output_type\": \"display_data\", \"data\": {\"application/javascript\": \"console.log('cell 9')\\n\", \"text/plain\": \"<IPython.core.display.Javascript object>\"}, \"metadata\": {}}], \"execution_count\": 9}, {\"cell_type\": \"code\", \"source\": \"%markdown\\ncell 10\", \"id\": \"ff1561f9-0589-470e-8921-0e99efd531bd\", \"metadata\": {\"brd\": {\"cell_id\": \"X13sZmlsZQ==\"}}, \"outputs\": [{\"output_type\": \"display_data\", \"data\": {\"text/markdown\": \"cell 10\\n\", \"text/plain\": \"<IPython.core.display.Markdown object>\"}, \"metadata\": {}}], \"execution_count\": 10}, {\"cell_type\": \"code\", \"source\": \"%SVG\\n<svg width=\\\"100\\\" height=\\\"20\\\" xmlns=\\\"http://www.w3.org/2000/svg\\\">\\n  <text x=\\\"10\\\" y=\\\"10\\\">cell 11</text>\\n</svg>\", \"id\": \"4af29770-5f76-4517-9816-fa408687dab1\", \"metadata\": {\"brd\": {\"cell_id\": \"X14sZmlsZQ==\"}}, \"outputs\": [{\"output_type\": \"display_data\", \"data\": {\"image/svg+xml\": \"<svg xmlns=\\\"http://www.w3.org/2000/svg\\\" width=\\\"100\\\" height=\\\"20\\\">\\n  <text x=\\\"10\\\" y=\\\"10\\\">cell 11</text>\\n</svg>\", \"text/plain\": \"<IPython.core.display.SVG object>\"}, \"metadata\": {\"__displayOpenPlotIcon\": true}}], \"execution_count\": 11}, {\"cell_type\": \"code\", \"source\": \"# cell 12\\nW.IntSlider(12, description='cell')\", \"id\": \"e7e6d557-3aa7-41a7-9e77-805295112aec\", \"metadata\": {\"brd\": {\"cell_id\": \"X15sZmlsZQ==\"}}, \"outputs\": [{\"output_type\": \"execute_result\", \"data\": {\"application/vnd.jupyter.widget-view+json\": {\"version_major\": 2, \"version_minor\": 0, \"model_id\": \"6191b18d61a44fbd89eb132d22a28eab\"}, \"text/plain\": \"IntSlider(value=12, description='cell')\"}, \"execution_count\": 12, \"metadata\": {}}], \"execution_count\": 12}, {\"cell_type\": \"code\", \"source\": \"#| hide\\n# cell 13\\nw = W.Output()\\ndisplay(w)\\nwith w:\\n    print('cell 13.1')\\n    display('cell 13.2')\\n    display(HTML('cell 13.3'))\", \"id\": \"8af15850-3d11-4498-a037-ce8b1ac2a161\", \"metadata\": {\"brd\": {\"cell_id\": \"X16sZmlsZQ==\"}}, \"outputs\": [{\"output_type\": \"display_data\", \"data\": {\"application/vnd.jupyter.widget-view+json\": {\"version_major\": 2, \"version_minor\": 0, \"model_id\": \"a9408d195fb84649b38948893390ef10\"}, \"text/plain\": \"Output()\"}, \"metadata\": {}}], \"execution_count\": 13}, {\"cell_type\": \"code\", \"source\": \"# cell 14\\nfig = plt.figure(figsize=(4, 2.67))\\nplt.plot([1,2,3,4]);\", \"id\": \"3b388911-cc9e-40af-8746-3821be96cbbd\", \"metadata\": {\"brd\": {\"cell_id\": \"X20sZmlsZQ==\"}}, \"outputs\": [{\"output_type\": \"display_data\", \"data\": {\"image/png\": \"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\", \"text/plain\": \"<Figure size 400x267 with 1 Axes>\"}, \"metadata\": {\"__displayOpenPlotIcon\": true}}], \"execution_count\": 14}, {\"cell_type\": \"code\", \"source\": \"#| export\\n# cell 15\\nImage('https://jupyter.org/assets/try/jupyter.png', metadata={'bridge': {'cell': 15}})\", \"id\": \"268197ce-b8c0-4365-84de-27d06bbb5c5c\", \"metadata\": {\"brd\": {\"cell_id\": \"X21sZmlsZQ==\"}}, \"outputs\": [{\"output_type\": \"execute_result\", \"data\": {\"image/png\": \"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\", \"text/plain\": \"<IPython.core.display.Image object>\"}, \"execution_count\": 15, \"metadata\": {\"__displayOpenPlotIcon\": true, \"image/png\": {\"bridge\": {\"cell\": 15}}}}], \"execution_count\": 15}, {\"cell_type\": \"code\", \"source\": \"# cell 16\\ndh = displaydh(display_id=True, metadata={'bridge': {'cell': 16}})\", \"id\": \"d90254ba-7457-4559-9544-afe201a808ca\", \"metadata\": {\"brd\": {\"cell_id\": \"X22sZmlsZQ==\"}}, \"outputs\": [{\"output_type\": \"display_data\", \"data\": {}, \"metadata\": {\"bridge\": {\"cell\": 16}}}], \"execution_count\": 16}, {\"cell_type\": \"code\", \"source\": \"# cell 17\\ndh = displaydh(HTML('cell 17'), metadata={'bridge': {'cell': 17}})\", \"id\": \"91e5d05a-6a56-4649-b8ad-8eae1bbd6727\", \"metadata\": {\"brd\": {\"cell_id\": \"X23sZmlsZQ==\"}}, \"outputs\": [{\"output_type\": \"display_data\", \"data\": {\"text/html\": \"cell 18\", \"text/plain\": \"<IPython.core.display.HTML object>\"}, \"metadata\": {\"bridge\": {\"cell\": 18}}}], \"execution_count\": 17}, {\"cell_type\": \"code\", \"source\": \"# cell 18\\ndh.update(HTML('cell 18'), metadata={'bridge': {'cell': 18}})\", \"id\": \"05bc7556-dd06-4434-ba68-6d438ed2cf56\", \"metadata\": {\"brd\": {\"cell_id\": \"X24sZmlsZQ==\"}}, \"outputs\": [], \"execution_count\": 18}, {\"cell_type\": \"code\", \"source\": \"# cell 19\\ndisplaydh(JSON({'cell': 19}), metadata={'bridge': {'cell': 19}});\", \"id\": \"c3efb63f-adee-41c4-9450-9f489406b873\", \"metadata\": {\"brd\": {\"cell_id\": \"X25sZmlsZQ==\"}}, \"outputs\": [{\"output_type\": \"display_data\", \"data\": {\"application/json\": {\"cell\": 19}, \"text/plain\": \"<IPython.core.display.JSON object>\"}, \"metadata\": {\"application/json\": {\"expanded\": false, \"root\": \"root\"}, \"bridge\": {\"cell\": 19}}}], \"execution_count\": 19}, {\"cell_type\": \"code\", \"source\": \"# cell 20\\ndisplay(W.IntSlider(20, description='cell'), metadata={'bridge': {'cell': 20}})\", \"id\": \"873e423a-4028-4d7d-9912-61cb29478c2a\", \"metadata\": {\"brd\": {\"cell_id\": \"X26sZmlsZQ==\"}}, \"outputs\": [{\"output_type\": \"display_data\", \"data\": {\"application/vnd.jupyter.widget-view+json\": {\"version_major\": 2, \"version_minor\": 0, \"model_id\": \"a2e5512c64244dd8919c79ca4f5df767\"}, \"text/plain\": \"IntSlider(value=20, description='cell')\"}, \"metadata\": {\"bridge\": {\"cell\": 20}}}], \"execution_count\": 20}, {\"cell_type\": \"code\", \"source\": \"\", \"id\": \"9793d8a7-61fa-4651-9ce1-7b084c2258f9\", \"metadata\": {\"brd\": {\"cell_id\": \"X30sZmlsZQ==\"}}, \"outputs\": [], \"execution_count\": null}, {\"cell_type\": \"code\", \"source\": \"# cell 22\\n1/0\", \"id\": \"9cb695ff-382a-411e-b1c6-b7aaa921cbe4\", \"metadata\": {\"brd\": {\"cell_id\": \"X31sZmlsZQ==\"}}, \"outputs\": [{\"output_type\": \"error\", \"ename\": \"ZeroDivisionError\", \"evalue\": \"division by zero\", \"traceback\": [\"\\u001b[31m---------------------------------------------------------------------------\\u001b[39m\", \"\\u001b[31mZeroDivisionError\\u001b[39m                         Traceback (most recent call last)\", \"\\u001b[36mCell\\u001b[39m\\u001b[36m \\u001b[39m\\u001b[32mIn[21]\\u001b[39m\\u001b[32m, line 2\\u001b[39m\", \"\\u001b[32m      1\\u001b[39m \\u001b[38;5;66;03m# cell 22\\u001b[39;00m\", \"\\u001b[32m----> \\u001b[39m\\u001b[32m2\\u001b[39m \\u001b[32;43m1\\u001b[39;49m\\u001b[43m/\\u001b[49m\\u001b[32;43m0\\u001b[39;49m\", \"\", \"\\u001b[31mZeroDivisionError\\u001b[39m: division by zero\"]}], \"execution_count\": 21}, {\"cell_type\": \"markdown\", \"source\": \"# cell 23\", \"id\": \"52b08c54-a86f-41a4-a11c-0d74faf81bfd\", \"metadata\": {\"brd\": {\"cell_id\": \"X32sZmlsZQ==\"}}}, {\"cell_type\": \"code\", \"source\": \"# cell 24\\nfrom itertools import count\\nfrom bridget.helpers import displaydh\\nfrom IPython.display import HTML, Javascript, clear_output\\ncounter = count()\\ndh0 = displaydh(HTML('cell 24.0'), metadata={'bridge': {'cell': 24.0}})\\ndh1 = displaydh(\\n    {'application/x-notebook-state+json': {'feedback': True, 'hide': False, 'debug': True, 'id': next(counter)}}, \\n    raw=True, metadata={'bridge': {'cell': 24.1}})\", \"id\": \"e4bbb456-27fa-47d1-b95b-637b61e0e8f5\", \"metadata\": {\"brd\": {\"renderer\": true, \"cell_id\": \"X33sZmlsZQ==\"}}, \"outputs\": [{\"output_type\": \"display_data\", \"data\": {\"text/html\": \"cell 28\", \"text/plain\": \"<IPython.core.display.HTML object>\"}, \"metadata\": {\"bridge\": {\"cell\": 28, \"cnt\": 3}}}, {\"output_type\": \"display_data\", \"data\": {\"text/plain\": \"\", \"application/x-notebook-state+json\": {\"debug\": true, \"id\": 9}}, \"metadata\": {\"bridge\": {\"cell\": 34}}}], \"execution_count\": 22}, {\"cell_type\": \"code\", \"source\": \"# cell 25\\ndh1.update({'application/x-notebook-state+json': {'id': next(counter), 'update': 'diff'}}, raw=True, \\n        metadata={'bridge': {'cell': 25}})\", \"id\": \"7e0e7b1b-9633-4035-9365-80799bceb2ae\", \"metadata\": {\"brd\": {\"cell_id\": \"X34sZmlsZQ==\"}}, \"outputs\": [], \"execution_count\": 23}, {\"cell_type\": \"code\", \"source\": \"# cell 26\\n_ = displaydh('cell 26.1', metadata={'bridge': {'cell': 26.1}})\\n_ = displaydh('cell 26.2', metadata={'bridge': {'cell': 26.2}})\", \"id\": \"5dc3eece-bec8-47c1-b409-0147dc8a7114\", \"metadata\": {\"brd\": {\"cell_id\": \"X35sZmlsZQ==\"}}, \"outputs\": [{\"output_type\": \"display_data\", \"data\": {\"text/plain\": \"'cell 26.1'\"}, \"metadata\": {\"bridge\": {\"cell\": 26.1}}}, {\"output_type\": \"display_data\", \"data\": {\"text/plain\": \"'cell 26.2'\"}, \"metadata\": {\"bridge\": {\"cell\": 26.2}}}], \"execution_count\": 24}, {\"cell_type\": \"code\", \"source\": \"# cell 27\\n_ = display('cell 27.1', metadata={'bridge': {'cell': 27.1}})\\n_ = display('cell 27.2', metadata={'bridge': {'cell': 27.2}})\", \"id\": \"246f66f3-e71d-4fd1-9041-40e32c38a56a\", \"metadata\": {\"brd\": {\"cell_id\": \"X36sZmlsZQ==\"}}, \"outputs\": [{\"output_type\": \"display_data\", \"data\": {\"text/plain\": \"'cell 27.1'\"}, \"metadata\": {\"bridge\": {\"cell\": 27.1}}}, {\"output_type\": \"display_data\", \"data\": {\"text/plain\": \"'cell 27.2'\"}, \"metadata\": {\"bridge\": {\"cell\": 27.2}}}], \"execution_count\": 25}, {\"cell_type\": \"code\", \"source\": \"# cell 28\\ndh1.update({'application/x-notebook-state+json': {'id': next(counter)}}, raw=True, \\n        metadata={'bridge': {'cell': 28}})\\ndh0.update(HTML('cell 28'), metadata={'bridge': {'cell': 28, 'cnt': next(counter)}})\", \"id\": \"2d5e3f49-cc7d-4af2-91f1-c2c0285346a4\", \"metadata\": {\"brd\": {\"cell_id\": \"X40sZmlsZQ==\"}}, \"outputs\": [], \"execution_count\": 26}, {\"cell_type\": \"code\", \"source\": \"# cell 29\\ndh1.update({'application/x-notebook-state+json': {'feedback': False, 'id': next(counter), 'update':'opts'}}, raw=True, \\n        metadata={'bridge': {'cell': 29}})\", \"id\": \"c8e29798-99e3-4834-9a4e-762f48bf8a63\", \"metadata\": {\"brd\": {\"cell_id\": \"X41sZmlsZQ==\"}}, \"outputs\": [], \"execution_count\": 27}, {\"cell_type\": \"code\", \"source\": \"# cell 30\\ndh1.update({'application/x-notebook-state+json': {'feedback': True, 'id': next(counter), 'update':'opts'}}, raw=True, \\n        metadata={'bridge': {'cell': 30}})\", \"id\": \"29682245-e83e-434e-b053-e5cb96535236\", \"metadata\": {\"brd\": {\"cell_id\": \"X42sZmlsZQ==\"}}, \"outputs\": [], \"execution_count\": 28}, {\"cell_type\": \"code\", \"source\": \"# cell 31\\ndh1.update({'application/x-notebook-state+json': {'hide': True, 'id': next(counter), 'update':'opts'}}, raw=True, \\n        metadata={'bridge': {'cell': 31}})\", \"id\": \"91796c88-1f45-4533-a75c-a646ceea4c8d\", \"metadata\": {\"brd\": {\"cell_id\": \"X43sZmlsZQ==\"}}, \"outputs\": [], \"execution_count\": 29}, {\"cell_type\": \"code\", \"source\": \"# cell 32\\ndh1.update({'application/x-notebook-state+json': {'hide': False, 'id': next(counter), 'update':'opts'}}, raw=True, \\n        metadata={'bridge': {'cell': 32}})\", \"id\": \"736d60ba-138a-4bb7-bdb4-fd1c2fb2c9a3\", \"metadata\": {\"brd\": {\"cell_id\": \"X44sZmlsZQ==\"}}, \"outputs\": [], \"execution_count\": 30}, {\"cell_type\": \"code\", \"source\": \"# cell 33\\ndh1.update({'application/x-notebook-state+json': {'debug': False, 'id': next(counter)}, 'update':'opts'}, raw=True, \\n        metadata={'bridge': {'cell': 33}})\", \"id\": \"1776b831-07d1-4ff7-aa55-6d2b828f2374\", \"metadata\": {\"brd\": {\"cell_id\": \"X45sZmlsZQ==\"}}, \"outputs\": [], \"execution_count\": 31}, {\"cell_type\": \"code\", \"source\": \"# cell 34\\ndh1.update({'application/x-notebook-state+json': {'debug': True, 'id': next(counter)}, 'update':'opts'}, raw=True, \\n        metadata={'bridge': {'cell': 34}})\", \"id\": \"ded37fc1-430a-46cc-ba92-5cd73735e5f2\", \"metadata\": {\"brd\": {\"cell_id\": \"X46sZmlsZQ==\"}}, \"outputs\": [], \"execution_count\": 32}, {\"cell_type\": \"code\", \"source\": \"# cell 35\\ndh2 = displaydh({'application/x-notebook-state+json': {'feedback': True, 'debug': True, 'id': next(counter)}}, \\n        raw=True, metadata={'bridge': {'cell': 35}})\\n# clear_output()\", \"id\": \"e7eb193d-f9fe-41b6-b817-1328963ff734\", \"metadata\": {\"brd\": {\"renderer\": true, \"cell_id\": \"X50sZmlsZQ==\"}}, \"outputs\": [{\"output_type\": \"display_data\", \"data\": {\"application/x-notebook-state+json\": \"{\\\"id\\\":11}\"}, \"metadata\": {\"bridge\": {\"cell\": 36, \"update\": true}}}], \"execution_count\": 33}, {\"cell_type\": \"code\", \"source\": \"# cell 36\\ndh2.update({'application/x-notebook-state+json': {'id': next(counter)}}, raw=True, \\n        metadata={'bridge': {'cell': 36, 'update': True}})\", \"id\": \"dae10da0-df1d-4e79-baec-528472d53959\", \"metadata\": {\"brd\": {\"cell_id\": \"X51sZmlsZQ==\"}}, \"outputs\": [], \"execution_count\": 34}, {\"cell_type\": \"code\", \"source\": \"from itertools import count\\nimport anywidget, time\\nfrom IPython.display import DisplayHandle\\nfrom bridget.helpers import displaydh\\n# from bridget.helpers import skip\\nimport ipywidgets as W\\n\\ncounter = count()\\n\\nclass TestWidget(anywidget.AnyWidget):\\n    _esm = '''debugger;\\nexport default { \\n    async initialize({ model }) {\\n        function on_msg(msg) {\\n            console.log(`++++ Received message:`, msg);\\n            if (window.$Nb) {\\n                msg.origin = document.location.href;\\n                window.$Nb.update(msg);\\n                return;\\n            }\\n            return model.send({ id: msg.id, response: 'no response' });\\n        }\\n        model.on(\\\"msg:custom\\\", on_msg);\\n        function on_stateChange(chg) {\\n            console.log('++++ on_state', chg.reqId, chg);\\n            model.send({ changes: chg });\\n        }\\n        let cleanup;\\n        if (window.$Nb) {\\n            cleanup = window.$Nb.addStateObserver(on_stateChange);\\n        }\\n        if (cleanup) return cleanup;\\n    }\\n};\\n    '''\\n    dh: DisplayHandle\\n    def __init__(self, *args, **kwargs):\\n        super().__init__(*args, **kwargs)\\n        self.on_msg(self._handle_message)\\n        self.out = W.Output()\\n        display(self.out)\\n        with self.out:\\n            print('Test widget, cell 35')\\n\\n    def _handle_message(self, w, msg, buffers):\\n        # self.dh.update(f'Received {msg=}, {buffers=}', metadata=skip(cell=35))\\n        self.msg = msg\\n        with self.out:\\n            print(f'Received {msg=}, {buffers=}')\\n\\nw = TestWidget()\", \"id\": \"28128a8f-b8a7-47db-8430-b45260f2f9f3\", \"metadata\": {\"brd\": {\"cell_id\": \"X52sZmlsZQ==\"}}, \"outputs\": [{\"output_type\": \"display_data\", \"data\": {\"application/vnd.jupyter.widget-view+json\": {\"version_major\": 2, \"version_minor\": 0, \"model_id\": \"bffa9610926e4f05acdc661b5bd3f592\"}, \"text/plain\": \"Output()\"}, \"metadata\": {}}], \"execution_count\": 35}, {\"cell_type\": \"code\", \"source\": \"# cell 38\\nw.send({'id': next(counter), 'update': 'full'})\", \"id\": \"622c7097-bc29-495d-bab2-71b53bbec98a\", \"metadata\": {\"brd\": {\"cell_id\": \"X53sZmlsZQ==\"}}, \"outputs\": [], \"execution_count\": 37}, {\"cell_type\": \"code\", \"source\": \"# cell 39\\ndh = displaydh(metadata={'bridge': {'cell': 39}})\", \"id\": \"8acb2751-93cd-4a6f-9f71-d36ef74abfba\", \"metadata\": {\"brd\": {\"cell_id\": \"X54sZmlsZQ==\"}}, \"outputs\": [], \"execution_count\": null}, {\"cell_type\": \"code\", \"source\": \"# cell 40\\nthis_id = next(counter)\\n_ = displaydh(metadata={'bridge': {'cell': 40, 'this': this_id}})\\n# nb.source.send({'cmd': 'get_state'}, timeout=5)\\n# clear_output(wait=True)\", \"id\": \"c01d8a36-c1fa-437d-a7cf-f369c4f66ecf\", \"metadata\": {\"brd\": {\"cell_id\": \"X55sZmlsZQ==\"}}, \"outputs\": [], \"execution_count\": null}, {\"cell_type\": \"code\", \"source\": \"# cell 41\\n# find_me\", \"id\": \"340489bf-419a-4da3-9b06-eb1b5cd6daba\", \"metadata\": {\"brd\": {\"cell_id\": \"X56sZmlsZQ==\"}}, \"outputs\": [], \"execution_count\": 7}], \"nbformat\": 4, \"nbformat_minor\": 5, \"metadata\": {\"kernelspec\": {\"display_name\": \"Python 3\", \"language\": \"python\", \"name\": \"python3\"}, \"language_info\": {\"codemirror_mode\": {\"name\": \"ipython\", \"version\": 3}, \"file_extension\": \".py\", \"mimetype\": \"text/x-python\", \"name\": \"python\", \"nbconvert_exporter\": \"python\", \"pygments_lexer\": \"ipython3\", \"version\": \"3.12.11\"}}}));\n",
       "        };\n",
       "        function loadRenderjson() {\n",
       "            if (window.renderjson) return Promise.resolve();\n",
       "            return new Promise((resolve, reject) => {\n",
       "                const script = document.createElement('script');\n",
       "                script.src = 'https://cdn.jsdelivr.net/npm/renderjson@latest/renderjson.js';\n",
       "                script.onload = resolve;\n",
       "                script.onerror = reject;\n",
       "                document.head.appendChild(script);\n",
       "            });\n",
       "        };\n",
       "        loadRenderjson().then(renderMyJson).catch(err => console.error('Failed to load renderjson:', err));\n",
       "    </script>\n",
       "</div>\n"
      ],
      "text/plain": [
       "<IPython.core.display.HTML object>"
      ]
     },
     "metadata": {
      "bridge": {
       "skip": true
      }
     },
     "output_type": "display_data"
    }
   ],
   "source": [
    "# processor = BridgetNBProcessor(state)\n",
    "nb.process(cb := IpynbConvertCB(in_vscode))\n",
    "ipynb_json = cb.notebook\n",
    "\n",
    "nb = nbformat.reads(json.dumps(ipynb_json), as_version=nbformat.NO_CONVERT, capture_validation_error=(derr := {}))\n",
    "test_eq(derr, {})\n",
    "\n",
    "RenderJSON(ipynb_json, init_level=1, max_height=400).display()"
   ]
  },
  {
   "cell_type": "markdown",
   "metadata": {},
   "source": [
    "# MDConvertCB\n"
   ]
  },
  {
   "cell_type": "markdown",
   "metadata": {},
   "source": [
    "# StateConversionCB"
   ]
  },
  {
   "cell_type": "code",
   "execution_count": null,
   "metadata": {},
   "outputs": [],
   "source": [
    "# class StateConversionCB(Callback):\n",
    "#     @cached_property\n",
    "#     def state(self) -> AD: return AD(type='state',cells=[])\n",
    "    \n",
    "#     def _convert_output(self, output):\n",
    "#         converted = dict(output)\n",
    "#         if 'output_type' in converted:\n",
    "#             converted['metadata']['outputType'] = converted.pop('output_type')\n",
    "#         return converted\n",
    "    \n",
    "#     def on_iter(self, ctx, cell):\n",
    "#         # Convert each cell back to the original state format\n",
    "#         st_cell = NBCell({\n",
    "#             'cell_type': cell.cell_type,\n",
    "#             'source': ''.join(cell.source) if isinstance(cell.source, list) else cell.source,\n",
    "#         })\n",
    "#         if cell.metadata: st_cell.metadata = cell.metadata\n",
    "#         if cell.cell_type == 'code':\n",
    "#             st_cell['outputs'] = [self._convert_output(o) for o in cell.outputs]\n",
    "#         self.state.cells.append(st_cell)\n",
    "\n",
    "# tracker = CollBack(nb.cells, cbs=[cb := StateConversionCB()])\n",
    "# tracker.update(item=nb.cells[0])\n",
    "# test_eq(cell, nb.cells[0])\n",
    "\n",
    "# # with tracker.this_cbs([cb := StateConversionCB()]):\n",
    "# #     # for cell in tracker: pass\n",
    "# #     cell = next(iter(tracker))\n",
    "# # converted_state = cb.state\n",
    "\n",
    "# # # Compare with original state\n",
    "# # for i, c1,c2 in zip(range(len(converted_state.cells)), converted_state.cells, AD(state).cells):\n",
    "# #     cprint(c1, c2)\n",
    "# #     test_eq(c1, c2)\n",
    "# # # assert converted_state['cells'] == state['cells'], \"Round-trip conversion failed\""
   ]
  },
  {
   "cell_type": "markdown",
   "metadata": {},
   "source": [
    "# Find"
   ]
  },
  {
   "cell_type": "code",
   "execution_count": null,
   "metadata": {},
   "outputs": [],
   "source": [
    "class FindCB(Callback):\n",
    "    def __init__(self, what:str|Callable[[NBCell], bool], where:str='source'): \n",
    "        self.what = (lambda c: what in getattr(c, where)) if isinstance(what, str) else what\n",
    "        self._cells = []\n",
    "    @property\n",
    "    def nb(self): return NB(self._cells)\n",
    "    def on_iter(self, _, cell):\n",
    "        if has_directive(cell, 'hide'): return\n",
    "        if self.what(cell): self._cells.append(cell)"
   ]
  },
  {
   "cell_type": "code",
   "execution_count": null,
   "metadata": {},
   "outputs": [],
   "source": [
    "nb = NB.fromStateMessage(state)"
   ]
  },
  {
   "cell_type": "code",
   "execution_count": null,
   "metadata": {},
   "outputs": [
    {
     "data": {
      "text/plain": [
       "[\"{'idx': 1, 'cell_type': 'code', 'source': '# cell 1\\\\nimport time\\\\nfrom itertools…\",\n",
       " '{\\'idx\\': 3, \\'cell_type\\': \\'code\\', \\'source\\': \"# cell 3\\\\ndisplaydh(\\'cell 3\\', metadat…',\n",
       " '{\\'idx\\': 4, \\'cell_type\\': \\'code\\', \\'source\\': \"# cell 4\\\\nimport time\\\\ntime.sleep(2)\\\\…',\n",
       " \"{'idx': 5, 'cell_type': 'code', 'source': '# cell 5\\\\ndisplaydh(Javascript(\\\\'cons…\",\n",
       " '{\\'idx\\': 7, \\'cell_type\\': \\'code\\', \\'source\\': \"# cell 7\\\\ndisplaydh(HTML(\\'cell 7.1\\'),…',\n",
       " '{\\'idx\\': 16, \\'cell_type\\': \\'code\\', \\'source\\': \"# cell 16\\\\ndh = displaydh(display_id…',\n",
       " '{\\'idx\\': 17, \\'cell_type\\': \\'code\\', \\'source\\': \"# cell 17\\\\ndh = displaydh(HTML(\\'cell…',\n",
       " '{\\'idx\\': 19, \\'cell_type\\': \\'code\\', \\'source\\': \"# cell 19\\\\ndisplaydh(JSON({\\'cell\\': 1…',\n",
       " '{\\'idx\\': 24, \\'cell_type\\': \\'code\\', \\'source\\': \"# cell 24\\\\nfrom itertools import cou…',\n",
       " '{\\'idx\\': 26, \\'cell_type\\': \\'code\\', \\'source\\': \"# cell 26\\\\n_ = displaydh(\\'cell 26.1\\'…',\n",
       " '{\\'idx\\': 35, \\'cell_type\\': \\'code\\', \\'source\\': \"# cell 35\\\\ndh2 = displaydh({\\'applica…',\n",
       " \"{'idx': 37, 'cell_type': 'code', 'source': 'from itertools import count\\\\nimport …\",\n",
       " '{\\'idx\\': 39, \\'cell_type\\': \\'code\\', \\'source\\': \"# cell 39\\\\ndh = displaydh(metadata={…',\n",
       " '{\\'idx\\': 40, \\'cell_type\\': \\'code\\', \\'source\\': \"# cell 40\\\\nthis_id = next(counter)\\\\n…']"
      ]
     },
     "execution_count": null,
     "metadata": {},
     "output_type": "execute_result"
    }
   ],
   "source": [
    "cb = FindCB('displaydh')\n",
    "[*shortens(nb.process(cb).cells, 'r', 80)]"
   ]
  },
  {
   "cell_type": "code",
   "execution_count": null,
   "metadata": {},
   "outputs": [
    {
     "data": {
      "text/plain": [
       "[\"{'idx': 1, 'cell_type': 'code', 'source': '# cell 1\\\\nimport time\\\\nfrom itertools…\",\n",
       " '{\\'idx\\': 3, \\'cell_type\\': \\'code\\', \\'source\\': \"# cell 3\\\\ndisplaydh(\\'cell 3\\', metadat…',\n",
       " '{\\'idx\\': 4, \\'cell_type\\': \\'code\\', \\'source\\': \"# cell 4\\\\nimport time\\\\ntime.sleep(2)\\\\…',\n",
       " \"{'idx': 5, 'cell_type': 'code', 'source': '# cell 5\\\\ndisplaydh(Javascript(\\\\'cons…\",\n",
       " '{\\'idx\\': 7, \\'cell_type\\': \\'code\\', \\'source\\': \"# cell 7\\\\ndisplaydh(HTML(\\'cell 7.1\\'),…',\n",
       " '{\\'idx\\': 16, \\'cell_type\\': \\'code\\', \\'source\\': \"# cell 16\\\\ndh = displaydh(display_id…',\n",
       " '{\\'idx\\': 17, \\'cell_type\\': \\'code\\', \\'source\\': \"# cell 17\\\\ndh = displaydh(HTML(\\'cell…',\n",
       " '{\\'idx\\': 19, \\'cell_type\\': \\'code\\', \\'source\\': \"# cell 19\\\\ndisplaydh(JSON({\\'cell\\': 1…',\n",
       " '{\\'idx\\': 24, \\'cell_type\\': \\'code\\', \\'source\\': \"# cell 24\\\\nfrom itertools import cou…',\n",
       " '{\\'idx\\': 26, \\'cell_type\\': \\'code\\', \\'source\\': \"# cell 26\\\\n_ = displaydh(\\'cell 26.1\\'…',\n",
       " '{\\'idx\\': 35, \\'cell_type\\': \\'code\\', \\'source\\': \"# cell 35\\\\ndh2 = displaydh({\\'applica…',\n",
       " \"{'idx': 37, 'cell_type': 'code', 'source': 'from itertools import count\\\\nimport …\",\n",
       " '{\\'idx\\': 39, \\'cell_type\\': \\'code\\', \\'source\\': \"# cell 39\\\\ndh = displaydh(metadata={…',\n",
       " '{\\'idx\\': 40, \\'cell_type\\': \\'code\\', \\'source\\': \"# cell 40\\\\nthis_id = next(counter)\\\\n…']"
      ]
     },
     "execution_count": null,
     "metadata": {},
     "output_type": "execute_result"
    }
   ],
   "source": [
    "list(nb.cells.filter(lambda c: 'displaydh' in c.source).map(shorten, mode='r', limit=80))"
   ]
  },
  {
   "cell_type": "code",
   "execution_count": null,
   "metadata": {},
   "outputs": [
    {
     "data": {
      "text/plain": [
       "['# cell 1\\nimport time\\nfrom itertools import count\\n\\nimport ipywidgets as W\\nimport matplotlib.pyplot as plt\\nfrom bridget.helpers import displaydh\\nfrom IPython.display import HTML, Image, Javascript, JSON, DisplayHandle, clear_output\\ncounter = count()',\n",
       " \"# cell 3\\ndisplaydh('cell 3', metadata={'bridge': {'cell': 3}});\",\n",
       " \"# cell 4\\nimport time\\ntime.sleep(2)\\ndisplaydh(HTML('cell 4'), metadata={'bridge': {'cell': 4}});\",\n",
       " '# cell 5\\ndisplaydh(Javascript(\\'console.log(\"cell 5\")\\'), metadata={\\'bridge\\': {\\'cell\\': 5}});',\n",
       " \"# cell 7\\ndisplaydh(HTML('cell 7.1'), metadata={'bridge': {'cell': 7.1}})\\ndisplaydh(HTML('cell 7.2'), metadata={'bridge': {'cell': 7.2}});\",\n",
       " \"# cell 16\\ndh = displaydh(display_id=True, metadata={'bridge': {'cell': 16}})\",\n",
       " \"# cell 17\\ndh = displaydh(HTML('cell 17'), metadata={'bridge': {'cell': 17}})\",\n",
       " \"# cell 19\\ndisplaydh(JSON({'cell': 19}), metadata={'bridge': {'cell': 19}});\",\n",
       " \"# cell 24\\nfrom itertools import count\\nfrom bridget.helpers import displaydh\\nfrom IPython.display import HTML, Javascript, clear_output\\ncounter = count()\\ndh0 = displaydh(HTML('cell 24.0'), metadata={'bridge': {'cell': 24.0}})\\ndh1 = displaydh(\\n    {'application/x-notebook-state+json': {'feedback': True, 'hide': False, 'debug': True, 'id': next(counter)}}, \\n    raw=True, metadata={'bridge': {'cell': 24.1}})\",\n",
       " \"# cell 26\\n_ = displaydh('cell 26.1', metadata={'bridge': {'cell': 26.1}})\\n_ = displaydh('cell 26.2', metadata={'bridge': {'cell': 26.2}})\",\n",
       " \"# cell 35\\ndh2 = displaydh({'application/x-notebook-state+json': {'feedback': True, 'debug': True, 'id': next(counter)}}, \\n        raw=True, metadata={'bridge': {'cell': 35}})\\n# clear_output()\",\n",
       " 'from itertools import count\\nimport anywidget, time\\nfrom IPython.display import DisplayHandle\\nfrom bridget.helpers import displaydh\\n# from bridget.helpers import skip\\nimport ipywidgets as W\\n\\ncounter = count()\\n\\nclass TestWidget(anywidget.AnyWidget):\\n    _esm = \\'\\'\\'debugger;\\nexport default { \\n    async initialize({ model }) {\\n        function on_msg(msg) {\\n            console.log(`++++ Received message:`, msg);\\n            if (window.$Nb) {\\n                msg.origin = document.location.href;\\n                window.$Nb.update(msg);\\n                return;\\n            }\\n            return model.send({ id: msg.id, response: \\'no response\\' });\\n        }\\n        model.on(\"msg:custom\", on_msg);\\n        function on_stateChange(chg) {\\n            console.log(\\'++++ on_state\\', chg.reqId, chg);\\n            model.send({ changes: chg });\\n        }\\n        let cleanup;\\n        if (window.$Nb) {\\n            cleanup = window.$Nb.addStateObserver(on_stateChange);\\n        }\\n        if (cleanup) return cleanup;\\n    }\\n};\\n    \\'\\'\\'\\n    dh: DisplayHandle\\n    def __init__(self, *args, **kwargs):\\n        super().__init__(*args, **kwargs)\\n        self.on_msg(self._handle_message)\\n        self.out = W.Output()\\n        display(self.out)\\n        with self.out:\\n            print(\\'Test widget, cell 35\\')\\n\\n    def _handle_message(self, w, msg, buffers):\\n        # self.dh.update(f\\'Received {msg=}, {buffers=}\\', metadata=skip(cell=35))\\n        self.msg = msg\\n        with self.out:\\n            print(f\\'Received {msg=}, {buffers=}\\')\\n\\nw = TestWidget()',\n",
       " \"# cell 39\\ndh = displaydh(metadata={'bridge': {'cell': 39}})\",\n",
       " \"# cell 40\\nthis_id = next(counter)\\n_ = displaydh(metadata={'bridge': {'cell': 40, 'this': this_id}})\\n# nb.source.send({'cmd': 'get_state'}, timeout=5)\\n# clear_output(wait=True)\"]"
      ]
     },
     "execution_count": null,
     "metadata": {},
     "output_type": "execute_result"
    }
   ],
   "source": [
    "list(nb.source.filter(lambda c: 'displaydh' in c))  # type: ignore"
   ]
  },
  {
   "cell_type": "code",
   "execution_count": null,
   "metadata": {},
   "outputs": [
    {
     "data": {
      "text/html": [
       "<style>details ul { list-style-type:none; list-style-position: outside; padding-inline-start: 22px; margin: 0; } details .string { color: #24837b; } details .string::before { content: \"'\"; } details .string::after { content: \"'\"; } details .number { color: #ad8301; } details .true { color: blue; } details .false { color: red; } details .null { color: gray; } span.n { color: darkgrey; } </style>\n",
       "<details open><summary>NBCell@41\n",
       "</summary>  <ul>\n",
       "    <li>\n",
       "<span><span class=\"n\">idx</span>: <span class=\"v number\">41</span></span>    </li>\n",
       "    <li>\n",
       "<span><span class=\"n\">cell_type</span>: <span class=\"v string\">code</span></span>    </li>\n",
       "    <li>\n",
       "<span><span class=\"n\">source</span>: <span class=\"v string\"># cell 41\n",
       "# find_me</span></span>    </li>\n",
       "    <li>\n",
       "<span><span class=\"n\">id</span>: <span class=\"v string\">X56sZmlsZQ==</span></span>    </li>\n",
       "    <li>\n",
       "<span><span class=\"n\">metadata</span>: <span class=\"v \">{&#x27;brd&#x27;: {&#x27;id&#x27;: &#x27;340489bf-419a-4da3-9b06-eb1b5cd6daba&#x27;}}</span></span>    </li>\n",
       "<details open><summary>outputs\n",
       "</summary>      <ul></ul>\n",
       "</details>    <li>\n",
       "<span><span class=\"n\">execution_count</span>: <span class=\"v number\">7</span></span>    </li>\n",
       "  </ul>\n",
       "</details>"
      ],
      "text/markdown": [
       "> code\n",
       "\n",
       "```json\n",
       "{\n",
       "  'idx': 41,\n",
       "  'cell_type': 'code',\n",
       "  'source': '# cell 41\\n# find_me',\n",
       "  'id': 'X56sZmlsZQ==',\n",
       "  'metadata': {'brd': {'id': '340489bf-419a-4da3-9b06-eb1b5cd6daba'}},\n",
       "  'outputs': [],\n",
       "  'execution_count': 7\n",
       "}\n",
       "```"
      ],
      "text/plain": [
       "{'idx': 41,\n",
       " 'cell_type': 'code',\n",
       " 'source': '# cell 41\\n# find_me',\n",
       " 'id': 'X56sZmlsZQ==',\n",
       " 'metadata': {'brd': {'id': '340489bf-419a-4da3-9b06-eb1b5cd6daba'}},\n",
       " 'outputs': [],\n",
       " 'execution_count': 7}"
      ]
     },
     "execution_count": null,
     "metadata": {},
     "output_type": "execute_result"
    }
   ],
   "source": [
    "cb = FindCB('# find_me')\n",
    "c = nb.process(cb).cells[0]\n",
    "c"
   ]
  },
  {
   "cell_type": "code",
   "execution_count": null,
   "metadata": {},
   "outputs": [],
   "source": [
    "WhereT = Literal['source', 'outputs', 'metadata', 'all']\n",
    "\n",
    "@FC.patch\n",
    "def find(self: NB, what:str|Callable[[NBCell], bool], where:WhereT='source') -> L:\n",
    "    if isinstance(what, str): f = (lambda c: what in (str(getattr(c, where, '') if where != 'all' else c)))\n",
    "    else: f = what\n",
    "    return self.cells.filter(f)"
   ]
  },
  {
   "cell_type": "code",
   "execution_count": null,
   "metadata": {},
   "outputs": [
    {
     "data": {
      "text/plain": [
       "(#1) [{'idx': 41, 'cell_type': 'code', 'source': '# cell 41\\n# find_me', 'id': 'X56sZmlsZQ==', 'metadata': {'brd': {'id': '340489bf-419a-4da3-9b06-eb1b5cd6daba'}}, 'outputs': [], 'execution_count': 7}]"
      ]
     },
     "execution_count": null,
     "metadata": {},
     "output_type": "execute_result"
    }
   ],
   "source": [
    "nb.find('# find_me')  # type: ignore"
   ]
  },
  {
   "cell_type": "code",
   "execution_count": null,
   "metadata": {},
   "outputs": [],
   "source": [
    "if in_vscode: val_at(c, 'metadata.brd')"
   ]
  },
  {
   "cell_type": "code",
   "execution_count": null,
   "metadata": {},
   "outputs": [
    {
     "data": {
      "text/html": [
       "<style>details ul { list-style-type:none; list-style-position: outside; padding-inline-start: 22px; margin: 0; } details .string { color: #24837b; } details .string::before { content: \"'\"; } details .string::after { content: \"'\"; } details .number { color: #ad8301; } details .true { color: blue; } details .false { color: red; } details .null { color: gray; } span.n { color: darkgrey; } </style>\n",
       "<details open><summary>NBCell@4\n",
       "</summary>  <ul>\n",
       "    <li>\n",
       "<span><span class=\"n\">idx</span>: <span class=\"v number\">4</span></span>    </li>\n",
       "    <li>\n",
       "<span><span class=\"n\">cell_type</span>: <span class=\"v string\">code</span></span>    </li>\n",
       "    <li>\n",
       "<span><span class=\"n\">source</span>: <span class=\"v string\"># cell 4\n",
       "import time\n",
       "time.sleep(2)\n",
       "displaydh(HTML(&#x27;cell 4&#x27;), metadata={&#x27;bridge&#x27;: {&#x27;cell&#x27;: 4}});</span></span>    </li>\n",
       "    <li>\n",
       "<span><span class=\"n\">id</span>: <span class=\"v string\">W4sZmlsZQ==</span></span>    </li>\n",
       "    <li>\n",
       "<span><span class=\"n\">metadata</span>: <span class=\"v \">{&#x27;brd&#x27;: {&#x27;id&#x27;: &#x27;798f7f83-9b31-4e21-a36b-5520c6f72a2d&#x27;}}</span></span>    </li>\n",
       "<details open><summary>outputs\n",
       "</summary>      <ul>\n",
       "<details open><summary>0\n",
       "</summary>          <ul>\n",
       "            <li>\n",
       "<span><span class=\"n\">output_type</span>: <span class=\"v string\">display_data</span></span>            </li>\n",
       "<details open><summary>data\n",
       "</summary>              <ul>\n",
       "                <li>\n",
       "<span><span class=\"n\">text/html</span>: <span class=\"v string\">cell 4</span></span>                </li>\n",
       "                <li>\n",
       "<span><span class=\"n\">text/plain</span>: <span class=\"v string\">&lt;IPython.core.display.HTML object&gt;</span></span>                </li>\n",
       "              </ul>\n",
       "</details>            <li>\n",
       "<span><span class=\"n\">metadata</span>: <span class=\"v \">{&#x27;bridge&#x27;: {&#x27;cell&#x27;: 4}}</span></span>            </li>\n",
       "          </ul>\n",
       "</details>      </ul>\n",
       "</details>    <li>\n",
       "<span><span class=\"n\">execution_count</span>: <span class=\"v number\">4</span></span>    </li>\n",
       "  </ul>\n",
       "</details>"
      ],
      "text/markdown": [
       "> code\n",
       "\n",
       "```json\n",
       "{\n",
       "  'idx': 4,\n",
       "  'cell_type': 'code',\n",
       "  'source': \"# cell 4\\nimport time\\ntime.sleep(2)\\ndisplaydh(HTML('cell 4'), metadata={'bridge': {'cell': 4}});\",\n",
       "  'id': 'W4sZmlsZQ==',\n",
       "  'metadata': {'brd': {'id': '798f7f83-9b31-4e21-a36b-5520c6f72a2d'}},\n",
       "  'outputs': [\n",
       "    {\n",
       "      'output_type': 'display_data',\n",
       "      'data': {'text/html': 'cell 4', 'text/plain': '<IPython.core.display.HTML object>'},\n",
       "      'metadata': {'bridge': {'cell': 4}}\n",
       "    }\n",
       "  ],\n",
       "  'execution_count': 4\n",
       "}\n",
       "```"
      ],
      "text/plain": [
       "{'idx': 4,\n",
       " 'cell_type': 'code',\n",
       " 'source': \"# cell 4\\nimport time\\ntime.sleep(2)\\ndisplaydh(HTML('cell 4'), metadata={'bridge': {'cell': 4}});\",\n",
       " 'id': 'W4sZmlsZQ==',\n",
       " 'metadata': {'brd': {'id': '798f7f83-9b31-4e21-a36b-5520c6f72a2d'}},\n",
       " 'outputs': [{'output_type': 'display_data',\n",
       "   'data': {'text/html': 'cell 4',\n",
       "    'text/plain': '<IPython.core.display.HTML object>'},\n",
       "   'metadata': {'bridge': {'cell': 4}}}],\n",
       " 'execution_count': 4}"
      ]
     },
     "execution_count": null,
     "metadata": {},
     "output_type": "execute_result"
    }
   ],
   "source": [
    "c = nb.cells[4]\n",
    "c"
   ]
  },
  {
   "cell_type": "code",
   "execution_count": null,
   "metadata": {},
   "outputs": [
    {
     "data": {
      "text/plain": [
       "('<IPython.core.display.HTML object>',)"
      ]
     },
     "execution_count": null,
     "metadata": {},
     "output_type": "execute_result"
    }
   ],
   "source": [
    "vals_at(c, 'outputs.*.data.text/plain')"
   ]
  },
  {
   "cell_type": "code",
   "execution_count": null,
   "metadata": {},
   "outputs": [
    {
     "data": {
      "text/html": [
       "<style>details ul { list-style-type:none; list-style-position: outside; padding-inline-start: 22px; margin: 0; } details .string { color: #24837b; } details .string::before { content: \"'\"; } details .string::after { content: \"'\"; } details .number { color: #ad8301; } details .true { color: blue; } details .false { color: red; } details .null { color: gray; } span.n { color: darkgrey; } </style>\n",
       "<details open><summary>NBCell@2\n",
       "</summary>  <ul>\n",
       "    <li>\n",
       "<span><span class=\"n\">idx</span>: <span class=\"v number\">2</span></span>    </li>\n",
       "    <li>\n",
       "<span><span class=\"n\">cell_type</span>: <span class=\"v string\">code</span></span>    </li>\n",
       "    <li>\n",
       "<span><span class=\"n\">source</span>: <span class=\"v string\"># cell 2\n",
       "print(1)</span></span>    </li>\n",
       "    <li>\n",
       "<span><span class=\"n\">id</span>: <span class=\"v string\">W2sZmlsZQ==</span></span>    </li>\n",
       "    <li>\n",
       "<span><span class=\"n\">metadata</span>: <span class=\"v \">{&#x27;brd&#x27;: {&#x27;id&#x27;: &#x27;92f3e304-fd32-4de2-badf-11577f9e7a4a&#x27;}}</span></span>    </li>\n",
       "<details open><summary>outputs\n",
       "</summary>      <ul>\n",
       "<details open><summary>0\n",
       "</summary>          <ul>\n",
       "            <li>\n",
       "<span><span class=\"n\">output_type</span>: <span class=\"v string\">stream</span></span>            </li>\n",
       "            <li>\n",
       "<span><span class=\"n\">name</span>: <span class=\"v string\">stdout</span></span>            </li>\n",
       "            <li>\n",
       "<span><span class=\"n\">text</span>: <span class=\"v string\">1\n",
       "</span></span>            </li>\n",
       "          </ul>\n",
       "</details>      </ul>\n",
       "</details>    <li>\n",
       "<span><span class=\"n\">execution_count</span>: <span class=\"v number\">2</span></span>    </li>\n",
       "  </ul>\n",
       "</details>"
      ],
      "text/markdown": [
       "> code\n",
       "\n",
       "```json\n",
       "{\n",
       "  'idx': 2,\n",
       "  'cell_type': 'code',\n",
       "  'source': '# cell 2\\nprint(1)',\n",
       "  'id': 'W2sZmlsZQ==',\n",
       "  'metadata': {'brd': {'id': '92f3e304-fd32-4de2-badf-11577f9e7a4a'}},\n",
       "  'outputs': [{'output_type': 'stream', 'name': 'stdout', 'text': '1\\n'}],\n",
       "  'execution_count': 2\n",
       "}\n",
       "```"
      ],
      "text/plain": [
       "{'idx': 2,\n",
       " 'cell_type': 'code',\n",
       " 'source': '# cell 2\\nprint(1)',\n",
       " 'id': 'W2sZmlsZQ==',\n",
       " 'metadata': {'brd': {'id': '92f3e304-fd32-4de2-badf-11577f9e7a4a'}},\n",
       " 'outputs': [{'output_type': 'stream', 'name': 'stdout', 'text': '1\\n'}],\n",
       " 'execution_count': 2}"
      ]
     },
     "execution_count": null,
     "metadata": {},
     "output_type": "execute_result"
    }
   ],
   "source": [
    "nb[2]"
   ]
  },
  {
   "cell_type": "code",
   "execution_count": null,
   "metadata": {},
   "outputs": [
    {
     "data": {
      "text/plain": [
       "(empty,\n",
       " empty,\n",
       " empty,\n",
       " (\"'cell 3'\",),\n",
       " ('<IPython.core.display.HTML object>',),\n",
       " ('<IPython.core.display.Javascript object>',),\n",
       " empty,\n",
       " ('<IPython.core.display.HTML object>', '<IPython.core.display.HTML object>'),\n",
       " ('<IPython.core.display.HTML object>',),\n",
       " ('<IPython.core.display.Javascript object>',),\n",
       " ('<IPython.core.display.Markdown object>',),\n",
       " ('<IPython.core.display.SVG object>',),\n",
       " (\"IntSlider(value=12, description='cell')\",),\n",
       " ('Output()',),\n",
       " ('<Figure size 400x267 with 1 Axes>',),\n",
       " ('<IPython.core.display.Image object>',),\n",
       " empty,\n",
       " ('<IPython.core.display.HTML object>',),\n",
       " empty,\n",
       " ('<IPython.core.display.JSON object>',),\n",
       " (\"IntSlider(value=20, description='cell')\",),\n",
       " empty,\n",
       " empty,\n",
       " empty,\n",
       " ('<IPython.core.display.HTML object>', ''),\n",
       " empty,\n",
       " (\"'cell 26.1'\", \"'cell 26.2'\"),\n",
       " (\"'cell 27.1'\", \"'cell 27.2'\"),\n",
       " empty,\n",
       " empty,\n",
       " empty,\n",
       " empty,\n",
       " empty,\n",
       " empty,\n",
       " empty,\n",
       " empty,\n",
       " empty,\n",
       " ('Output()',),\n",
       " empty,\n",
       " empty,\n",
       " empty,\n",
       " empty)"
      ]
     },
     "execution_count": null,
     "metadata": {},
     "output_type": "execute_result"
    }
   ],
   "source": [
    "vals_at(nb.cells, '*.outputs.*.data.text/plain')"
   ]
  },
  {
   "cell_type": "code",
   "execution_count": null,
   "metadata": {},
   "outputs": [
    {
     "data": {
      "text/plain": [
       "('# cell 0',\n",
       " '# cell 1\\nimport time\\nfrom itertools import count\\n\\nimport ipywidgets as W\\nimport matplotlib.pyplot as plt\\nfrom bridget.helpers import displaydh\\nfrom IPython.display import HTML, Image, Javascript, JSON, DisplayHandle, clear_output\\ncounter = count()',\n",
       " '# cell 2\\nprint(1)',\n",
       " \"# cell 3\\ndisplaydh('cell 3', metadata={'bridge': {'cell': 3}});\",\n",
       " \"# cell 4\\nimport time\\ntime.sleep(2)\\ndisplaydh(HTML('cell 4'), metadata={'bridge': {'cell': 4}});\",\n",
       " '# cell 5\\ndisplaydh(Javascript(\\'console.log(\"cell 5\")\\'), metadata={\\'bridge\\': {\\'cell\\': 5}});',\n",
       " '# cell 6\\nprint(6.1)\\nprint(6.2)',\n",
       " \"# cell 7\\ndisplaydh(HTML('cell 7.1'), metadata={'bridge': {'cell': 7.1}})\\ndisplaydh(HTML('cell 7.2'), metadata={'bridge': {'cell': 7.2}});\",\n",
       " '%HTML\\n<h3>cell 8</h3>',\n",
       " \"%javascript\\nconsole.log('cell 9')\",\n",
       " '%markdown\\ncell 10',\n",
       " '%SVG\\n<svg width=\"100\" height=\"20\" xmlns=\"http://www.w3.org/2000/svg\">\\n  <text x=\"10\" y=\"10\">cell 11</text>\\n</svg>',\n",
       " \"# cell 12\\nW.IntSlider(12, description='cell')\",\n",
       " \"#| hide\\n# cell 13\\nw = W.Output()\\ndisplay(w)\\nwith w:\\n    print('cell 13.1')\\n    display('cell 13.2')\\n    display(HTML('cell 13.3'))\",\n",
       " '# cell 14\\nfig = plt.figure(figsize=(4, 2.67))\\nplt.plot([1,2,3,4]);',\n",
       " \"#| export\\n# cell 15\\nImage('https://jupyter.org/assets/try/jupyter.png', metadata={'bridge': {'cell': 15}})\",\n",
       " \"# cell 16\\ndh = displaydh(display_id=True, metadata={'bridge': {'cell': 16}})\",\n",
       " \"# cell 17\\ndh = displaydh(HTML('cell 17'), metadata={'bridge': {'cell': 17}})\",\n",
       " \"# cell 18\\ndh.update(HTML('cell 18'), metadata={'bridge': {'cell': 18}})\",\n",
       " \"# cell 19\\ndisplaydh(JSON({'cell': 19}), metadata={'bridge': {'cell': 19}});\",\n",
       " \"# cell 20\\ndisplay(W.IntSlider(20, description='cell'), metadata={'bridge': {'cell': 20}})\",\n",
       " '',\n",
       " '# cell 22\\n1/0',\n",
       " '# cell 23',\n",
       " \"# cell 24\\nfrom itertools import count\\nfrom bridget.helpers import displaydh\\nfrom IPython.display import HTML, Javascript, clear_output\\ncounter = count()\\ndh0 = displaydh(HTML('cell 24.0'), metadata={'bridge': {'cell': 24.0}})\\ndh1 = displaydh(\\n    {'application/x-notebook-state+json': {'feedback': True, 'hide': False, 'debug': True, 'id': next(counter)}}, \\n    raw=True, metadata={'bridge': {'cell': 24.1}})\",\n",
       " \"# cell 25\\ndh1.update({'application/x-notebook-state+json': {'id': next(counter), 'update': 'diff'}}, raw=True, \\n        metadata={'bridge': {'cell': 25}})\",\n",
       " \"# cell 26\\n_ = displaydh('cell 26.1', metadata={'bridge': {'cell': 26.1}})\\n_ = displaydh('cell 26.2', metadata={'bridge': {'cell': 26.2}})\",\n",
       " \"# cell 27\\n_ = display('cell 27.1', metadata={'bridge': {'cell': 27.1}})\\n_ = display('cell 27.2', metadata={'bridge': {'cell': 27.2}})\",\n",
       " \"# cell 28\\ndh1.update({'application/x-notebook-state+json': {'id': next(counter)}}, raw=True, \\n        metadata={'bridge': {'cell': 28}})\\ndh0.update(HTML('cell 28'), metadata={'bridge': {'cell': 28, 'cnt': next(counter)}})\",\n",
       " \"# cell 29\\ndh1.update({'application/x-notebook-state+json': {'feedback': False, 'id': next(counter), 'update':'opts'}}, raw=True, \\n        metadata={'bridge': {'cell': 29}})\",\n",
       " \"# cell 30\\ndh1.update({'application/x-notebook-state+json': {'feedback': True, 'id': next(counter), 'update':'opts'}}, raw=True, \\n        metadata={'bridge': {'cell': 30}})\",\n",
       " \"# cell 31\\ndh1.update({'application/x-notebook-state+json': {'hide': True, 'id': next(counter), 'update':'opts'}}, raw=True, \\n        metadata={'bridge': {'cell': 31}})\",\n",
       " \"# cell 32\\ndh1.update({'application/x-notebook-state+json': {'hide': False, 'id': next(counter), 'update':'opts'}}, raw=True, \\n        metadata={'bridge': {'cell': 32}})\",\n",
       " \"# cell 33\\ndh1.update({'application/x-notebook-state+json': {'debug': False, 'id': next(counter)}, 'update':'opts'}, raw=True, \\n        metadata={'bridge': {'cell': 33}})\",\n",
       " \"# cell 34\\ndh1.update({'application/x-notebook-state+json': {'debug': True, 'id': next(counter)}, 'update':'opts'}, raw=True, \\n        metadata={'bridge': {'cell': 34}})\",\n",
       " \"# cell 35\\ndh2 = displaydh({'application/x-notebook-state+json': {'feedback': True, 'debug': True, 'id': next(counter)}}, \\n        raw=True, metadata={'bridge': {'cell': 35}})\\n# clear_output()\",\n",
       " \"# cell 36\\ndh2.update({'application/x-notebook-state+json': {'id': next(counter)}}, raw=True, \\n        metadata={'bridge': {'cell': 36, 'update': True}})\",\n",
       " 'from itertools import count\\nimport anywidget, time\\nfrom IPython.display import DisplayHandle\\nfrom bridget.helpers import displaydh\\n# from bridget.helpers import skip\\nimport ipywidgets as W\\n\\ncounter = count()\\n\\nclass TestWidget(anywidget.AnyWidget):\\n    _esm = \\'\\'\\'debugger;\\nexport default { \\n    async initialize({ model }) {\\n        function on_msg(msg) {\\n            console.log(`++++ Received message:`, msg);\\n            if (window.$Nb) {\\n                msg.origin = document.location.href;\\n                window.$Nb.update(msg);\\n                return;\\n            }\\n            return model.send({ id: msg.id, response: \\'no response\\' });\\n        }\\n        model.on(\"msg:custom\", on_msg);\\n        function on_stateChange(chg) {\\n            console.log(\\'++++ on_state\\', chg.reqId, chg);\\n            model.send({ changes: chg });\\n        }\\n        let cleanup;\\n        if (window.$Nb) {\\n            cleanup = window.$Nb.addStateObserver(on_stateChange);\\n        }\\n        if (cleanup) return cleanup;\\n    }\\n};\\n    \\'\\'\\'\\n    dh: DisplayHandle\\n    def __init__(self, *args, **kwargs):\\n        super().__init__(*args, **kwargs)\\n        self.on_msg(self._handle_message)\\n        self.out = W.Output()\\n        display(self.out)\\n        with self.out:\\n            print(\\'Test widget, cell 35\\')\\n\\n    def _handle_message(self, w, msg, buffers):\\n        # self.dh.update(f\\'Received {msg=}, {buffers=}\\', metadata=skip(cell=35))\\n        self.msg = msg\\n        with self.out:\\n            print(f\\'Received {msg=}, {buffers=}\\')\\n\\nw = TestWidget()',\n",
       " \"# cell 38\\nw.send({'id': next(counter), 'update': 'full'})\",\n",
       " \"# cell 39\\ndh = displaydh(metadata={'bridge': {'cell': 39}})\",\n",
       " \"# cell 40\\nthis_id = next(counter)\\n_ = displaydh(metadata={'bridge': {'cell': 40, 'this': this_id}})\\n# nb.source.send({'cmd': 'get_state'}, timeout=5)\\n# clear_output(wait=True)\",\n",
       " '# cell 41\\n# find_me')"
      ]
     },
     "execution_count": null,
     "metadata": {},
     "output_type": "execute_result"
    }
   ],
   "source": [
    "vals_at(nb.cells, '*.source')"
   ]
  },
  {
   "cell_type": "code",
   "execution_count": null,
   "metadata": {},
   "outputs": [
    {
     "data": {
      "text/plain": [
       "('81c3e877-b59a-48f5-a1da-21894d928d4b',\n",
       " '717322f8-95fa-425c-839d-8b9e7d4ef921',\n",
       " '92f3e304-fd32-4de2-badf-11577f9e7a4a',\n",
       " 'f2c19c18-a3f7-4acb-88e4-c7239178c401',\n",
       " '798f7f83-9b31-4e21-a36b-5520c6f72a2d',\n",
       " 'a20081a9-4e7e-4301-be25-2a44f45bfc71',\n",
       " 'e1ba8c0c-d248-44ff-9437-17482a711358',\n",
       " '7512abfe-f7d2-4047-a6b1-56aefbf9457e',\n",
       " '72d2a352-a5e3-4bb4-8e12-2302f9bac880',\n",
       " '39565bc0-3d14-4912-8220-e9dacb965ca4')"
      ]
     },
     "execution_count": null,
     "metadata": {},
     "output_type": "execute_result"
    }
   ],
   "source": [
    "vals_at(nb.cells, '*.metadata.brd.id')[:10]  # type: ignore"
   ]
  },
  {
   "cell_type": "code",
   "execution_count": null,
   "metadata": {},
   "outputs": [
    {
     "data": {
      "text/plain": [
       "([{'output_type': 'display_data',\n",
       "   'data': {'text/markdown': 'cell 10\\n',\n",
       "    'text/plain': '<IPython.core.display.Markdown object>'},\n",
       "   'metadata': {}}],\n",
       " [{'output_type': 'display_data',\n",
       "   'data': {'image/svg+xml': '<svg xmlns=\"http://www.w3.org/2000/svg\" width=\"100\" height=\"20\">\\n  <text x=\"10\" y=\"10\">cell 11</text>\\n</svg>',\n",
       "    'text/plain': '<IPython.core.display.SVG object>'},\n",
       "   'metadata': {'__displayOpenPlotIcon': True}}],\n",
       " [{'output_type': 'execute_result',\n",
       "   'data': {'application/vnd.jupyter.widget-view+json': {'version_major': 2,\n",
       "     'version_minor': 0,\n",
       "     'model_id': '6191b18d61a44fbd89eb132d22a28eab'},\n",
       "    'text/plain': \"IntSlider(value=12, description='cell')\"},\n",
       "   'execution_count': 12,\n",
       "   'metadata': {}}],\n",
       " [{'output_type': 'display_data',\n",
       "   'data': {'application/vnd.jupyter.widget-view+json': {'version_major': 2,\n",
       "     'version_minor': 0,\n",
       "     'model_id': 'a9408d195fb84649b38948893390ef10'},\n",
       "    'text/plain': 'Output()'},\n",
       "   'metadata': {}}],\n",
       " [{'output_type': 'display_data',\n",
       "   'data': {'image/png': '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',\n",
       "    'text/plain': '<Figure size 400x267 with 1 Axes>'},\n",
       "   'metadata': {'__displayOpenPlotIcon': True}}])"
      ]
     },
     "execution_count": null,
     "metadata": {},
     "output_type": "execute_result"
    }
   ],
   "source": [
    "vals_at(nb.cells, '*.outputs')[10:15]  # type: ignore"
   ]
  },
  {
   "cell_type": "markdown",
   "metadata": {},
   "source": [
    "## find\n"
   ]
  },
  {
   "cell_type": "code",
   "execution_count": null,
   "metadata": {},
   "outputs": [],
   "source": [
    "#| exporti\n",
    "\n",
    "def _there(where, what, op, c):\n",
    "    res = vals_at(c, where)\n",
    "    if res is empty: return False\n",
    "    return any(op(r, what) for r in res)"
   ]
  },
  {
   "cell_type": "code",
   "execution_count": null,
   "metadata": {},
   "outputs": [
    {
     "data": {
      "text/plain": [
       "(#1) [19]"
      ]
     },
     "execution_count": null,
     "metadata": {},
     "output_type": "execute_result"
    }
   ],
   "source": [
    "L(vals_at(nb, '*.outputs.*.data.application/json')).argwhere(lambda x: x is not empty)"
   ]
  },
  {
   "cell_type": "code",
   "execution_count": null,
   "metadata": {},
   "outputs": [
    {
     "data": {
      "text/plain": [
       "(#2) [2,6]"
      ]
     },
     "execution_count": null,
     "metadata": {},
     "output_type": "execute_result"
    }
   ],
   "source": [
    "L(vals_at(nb, '*.outputs.*.name')).argwhere(lambda x: x is not empty)"
   ]
  },
  {
   "cell_type": "code",
   "execution_count": null,
   "metadata": {},
   "outputs": [],
   "source": [
    "test_eq(_there('outputs.*.data', 'stdout', op.contains, nb.cells[7]), False)"
   ]
  },
  {
   "cell_type": "code",
   "execution_count": null,
   "metadata": {},
   "outputs": [],
   "source": [
    "for idx in L(vals_at(nb, '*.outputs.*.name')).argwhere(lambda x: x is not empty):\n",
    "    test_eq(_there('outputs.0.name', 'stdout', op.contains, nb[idx]), True)"
   ]
  },
  {
   "cell_type": "code",
   "execution_count": null,
   "metadata": {},
   "outputs": [],
   "source": [
    "for idx in L(vals_at(nb, '*.metadata.brd.renderer')).argwhere(lambda x: x is not empty):\n",
    "    test_eq(_there('metadata.brd.renderer', True, op.is_, nb[idx]), True)"
   ]
  },
  {
   "cell_type": "code",
   "execution_count": null,
   "metadata": {},
   "outputs": [],
   "source": [
    "test_eq(any(_there('source', '# find_me', op.contains, c) for c in nb), True)"
   ]
  },
  {
   "cell_type": "code",
   "execution_count": null,
   "metadata": {},
   "outputs": [],
   "source": [
    "#| export\n",
    "\n",
    "@FC.patch\n",
    "def find(self: NB, what:JSONVal|Callable[[NBCell], bool], where:str='source', op=op.contains) -> L:\n",
    "    \"Find cells matching `what` in `where` using `op`\"\n",
    "    # if isinstance(what, str): what = lambda c: False if (res := _F(c, where, None)) is None else what in res\n",
    "    if not isinstance(what, Callable): what = partial(_there, where, what, op)\n",
    "    return self.cells.filter(what)"
   ]
  },
  {
   "cell_type": "code",
   "execution_count": null,
   "metadata": {},
   "outputs": [
    {
     "data": {
      "text/plain": [
       "('# cell 41\\n# find_me',)"
      ]
     },
     "execution_count": null,
     "metadata": {},
     "output_type": "execute_result"
    }
   ],
   "source": [
    "nbp = nb.process(slc=slice(31, None))\n",
    "# nbp.find('# find_me').attrgot('source').map(shorten, mode='r')\n",
    "vals_at(nbp.find('# find_me'), '*.source')"
   ]
  },
  {
   "cell_type": "code",
   "execution_count": null,
   "metadata": {},
   "outputs": [
    {
     "data": {
      "text/plain": [
       "(#2) [{'brd': {'id': 'e4bbb456-27fa-47d1-b95b-637b61e0e8f5', 'renderer': True}},{'brd': {'id': 'e7eb193d-f9fe-41b6-b817-1328963ff734', 'renderer': True}}]"
      ]
     },
     "execution_count": null,
     "metadata": {},
     "output_type": "execute_result"
    }
   ],
   "source": [
    "nb.find(True, 'metadata.brd.renderer', op.is_).attrgot('metadata')"
   ]
  },
  {
   "cell_type": "code",
   "execution_count": null,
   "metadata": {},
   "outputs": [
    {
     "data": {
      "text/plain": [
       "(#2) ['# cell 2\\nprint(1)','# cell 6\\nprint(6.1)\\nprint(6.2)']"
      ]
     },
     "execution_count": null,
     "metadata": {},
     "output_type": "execute_result"
    }
   ],
   "source": [
    "nb.find('stdout', 'outputs.0.name').attrgot('source')"
   ]
  },
  {
   "cell_type": "code",
   "execution_count": null,
   "metadata": {},
   "outputs": [
    {
     "data": {
      "text/plain": [
       "(#2) ['# cell 2\\nprint(1)','# cell 6\\nprint(6.1)\\nprint(6.2)']"
      ]
     },
     "execution_count": null,
     "metadata": {},
     "output_type": "execute_result"
    }
   ],
   "source": [
    "nb.find('stdout', 'outputs.*.name').attrgot('source')"
   ]
  },
  {
   "cell_type": "markdown",
   "metadata": {},
   "source": [
    "## found"
   ]
  },
  {
   "cell_type": "code",
   "execution_count": null,
   "metadata": {},
   "outputs": [
    {
     "data": {
      "text/plain": [
       "(#1) [{'idx': 41, 'cell_type': 'code', 'source': '# cell 41\\n# find_me', 'id': 'X56sZmlsZQ==', 'metadata': {'brd': {'id': '340489bf-419a-4da3-9b06-eb1b5cd6daba'}}, 'outputs': [], 'execution_count': 7}]"
      ]
     },
     "execution_count": null,
     "metadata": {},
     "output_type": "execute_result"
    }
   ],
   "source": [
    "@FC.patch\n",
    "def found(self: NB, what:str|Callable[[NBCell], bool], where:WhereT='source', cbs:Callback|Sequence[Callback]=()) -> NB:\n",
    "    return self.process(cbs or FindCB(what, where))\n",
    "\n",
    "nb.found('# find_me').cells  # type: ignore"
   ]
  },
  {
   "cell_type": "code",
   "execution_count": null,
   "metadata": {},
   "outputs": [],
   "source": [
    "#| export\n",
    "\n",
    "@FC.patch\n",
    "def found(self: NB, \n",
    "        what:JSONVal|Callable[[NBCell], bool], where='source', op=op.contains, \n",
    "        cbs:Callback|Sequence[Callback]=()\n",
    "    ) -> NB:\n",
    "    return NB.from_NB(self, self.find(what, where, op)).process(cbs)"
   ]
  },
  {
   "cell_type": "code",
   "execution_count": null,
   "metadata": {},
   "outputs": [
    {
     "data": {
      "text/plain": [
       "(#1) ['# cell 41\\n# find_me']"
      ]
     },
     "execution_count": null,
     "metadata": {},
     "output_type": "execute_result"
    }
   ],
   "source": [
    "nb.found('# find_me').cells.attrgot('source')"
   ]
  },
  {
   "cell_type": "code",
   "execution_count": null,
   "metadata": {},
   "outputs": [
    {
     "data": {
      "text/plain": [
       "(#1) [{'idx': 13, 'cell_type': 'code', 'source': \"#| hide\\n# cell 13\\nw = W.Output()\\ndisplay(w)\\nwith w:\\n    print('cell 13.1')\\n    display('cell 13.2')\\n    display(HTML('cell 13.3'))\", 'id': 'X16sZmlsZQ==', 'metadata': {'brd': {'id': '8af15850-3d11-4498-a037-ce8b1ac2a161'}}, 'outputs': [{'output_type': 'display_data', 'data': {'application/vnd.jupyter.widget-view+json': {'version_major': 2, 'version_minor': 0, 'model_id': 'a9408d195fb84649b38948893390ef10'}, 'text/plain': 'Output()'}, 'metadata': {}}], 'execution_count': 13}]"
      ]
     },
     "execution_count": null,
     "metadata": {},
     "output_type": "execute_result"
    }
   ],
   "source": [
    "nb.found('#| hide').cells"
   ]
  },
  {
   "cell_type": "code",
   "execution_count": null,
   "metadata": {},
   "outputs": [
    {
     "data": {
      "text/plain": [
       "['#| hide\\n# cell 13\\nw = W.Output()\\ndisplay…']"
      ]
     },
     "metadata": {},
     "output_type": "display_data"
    },
    {
     "data": {
      "text/plain": [
       "['# cell 13\\nw = W.Output()\\ndisplay(w)\\nwith…']"
      ]
     },
     "metadata": {},
     "output_type": "display_data"
    }
   ],
   "source": [
    "class StripDirectives(Callback):\n",
    "    @property\n",
    "    def nb(self): return self._nb\n",
    "    def before_iter(self, istat): self._nb = NB.from_NB(istat.context, [])\n",
    "    def on_iter(self, _, cell):\n",
    "        self._nb.cells.append(c := cell.copy())\n",
    "        extract_directives(c)\n",
    "\n",
    "display([*shortens(nb.found('#| hide').source, 'r')])\n",
    "display([*shortens(nb.found('#| hide', cbs=StripDirectives()).source, 'r')])"
   ]
  },
  {
   "cell_type": "code",
   "execution_count": null,
   "metadata": {},
   "outputs": [
    {
     "data": {
      "text/plain": [
       "['# cell 13\\nw = W.Output()\\ndisplay(w)\\nwith…']"
      ]
     },
     "execution_count": null,
     "metadata": {},
     "output_type": "execute_result"
    }
   ],
   "source": [
    "def strip_nbdev_dirs_(nb:NB):\n",
    "    f = FC.compose(copycell, TZ.curried.do(extract_directives))\n",
    "    return NB.from_NB(nb, nb.cells.map(f))\n",
    "\n",
    "list(shortens(nb.found('#| hide').pipe((strip_nbdev_dirs_,)).source, 'r'))"
   ]
  },
  {
   "cell_type": "markdown",
   "metadata": {},
   "source": [
    "# Colophon\n",
    "----\n"
   ]
  },
  {
   "cell_type": "code",
   "execution_count": null,
   "metadata": {},
   "outputs": [],
   "source": [
    "import fastcore.all as FC\n",
    "import nbdev\n",
    "from nbdev.clean import nbdev_clean"
   ]
  },
  {
   "cell_type": "code",
   "execution_count": null,
   "metadata": {},
   "outputs": [],
   "source": [
    "if FC.IN_NOTEBOOK:\n",
    "    nb_path = '07_nb.ipynb'\n",
    "    nbdev_clean(nb_path)\n",
    "    nbdev.nbdev_export(nb_path)"
   ]
  }
 ],
 "metadata": {
  "kernelspec": {
   "display_name": "Python 3",
   "language": "python",
   "name": "python3"
  },
  "language_info": {
   "name": "python",
   "version": "3.12.11"
  }
 },
 "nbformat": 4,
 "nbformat_minor": 4
}
