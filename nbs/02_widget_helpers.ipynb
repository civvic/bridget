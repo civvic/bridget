{
 "cells": [
  {
   "cell_type": "code",
   "execution_count": 30,
   "metadata": {
    "brd": "0d146736-85c4-4f37-b011-15e654a0cf10"
   },
   "outputs": [],
   "source": [
    "#| default_exp widget_helpers"
   ]
  },
  {
   "cell_type": "code",
   "execution_count": 31,
   "metadata": {
    "brd": "7e49001a-9759-492d-bfa0-08cf8a39b8b6"
   },
   "outputs": [],
   "source": [
    "#| export\n",
    "from __future__ import annotations"
   ]
  },
  {
   "cell_type": "markdown",
   "metadata": {},
   "source": [
    "# Helpers\n",
    "\n",
    "> ..."
   ]
  },
  {
   "cell_type": "markdown",
   "metadata": {},
   "source": [
    "# Prologue"
   ]
  },
  {
   "cell_type": "code",
   "execution_count": 32,
   "metadata": {
    "brd": "6e59683a-7f62-48da-8a55-2fc2caccbc4c"
   },
   "outputs": [],
   "source": [
    "#| export\n",
    "\n",
    "import asyncio\n",
    "import shutil\n",
    "import time\n",
    "from functools import cached_property\n",
    "from pathlib import Path\n",
    "from typing import Any\n",
    "from typing import Callable\n",
    "from typing import Protocol\n",
    "from typing import Self\n",
    "\n",
    "import fastcore.all as FC\n",
    "import ipywidgets as W\n",
    "import nbdev.config\n",
    "from fastcore.xml import FT\n",
    "from fastcore.xml import NotStr\n",
    "from fasthtml.basics import ft_html\n",
    "from jupyter_ui_poll import ui_events\n",
    "from olio.basic import Empty\n",
    "from olio.basic import empty"
   ]
  },
  {
   "cell_type": "code",
   "execution_count": 33,
   "metadata": {
    "brd": "2155253c-e63d-4894-83de-63286e53a6ee"
   },
   "outputs": [],
   "source": [
    "#| export\n",
    "\n",
    "from bridget.helpers import _get_globals\n",
    "from bridget.helpers import run_command"
   ]
  },
  {
   "cell_type": "code",
   "execution_count": 34,
   "metadata": {
    "brd": "9c13c18b-a621-4995-82b6-f398c7596c51"
   },
   "outputs": [],
   "source": [
    "import inspect\n",
    "import itertools\n",
    "import tempfile\n",
    "from pathlib import Path\n",
    "\n",
    "import anywidget\n",
    "from anyio import from_thread\n",
    "from bridget.display_helpers import displaydh\n",
    "from fastcore.test import *\n",
    "from IPython.display import DisplayHandle\n",
    "from ipywidgets.widgets.widget import CallbackDispatcher\n",
    "from jupyter_ui_poll import run_ui_poll_loop\n",
    "from jupyter_ui_poll import with_ui_events\n",
    "from olio.callback import Callback\n",
    "from olio.callback import HasCallbacks\n",
    "from olio.common import setup_console\n",
    "from olio.test import test_raises\n"
   ]
  },
  {
   "cell_type": "code",
   "execution_count": 35,
   "metadata": {
    "brd": "1b59ddcb-563c-4e5a-8f0c-3e84a6a5cb26"
   },
   "outputs": [],
   "source": [
    "from bridget.helpers import arun_command\n",
    "from bridget.helpers import bundle_path\n",
    "from bridget.helpers import kounter"
   ]
  },
  {
   "attachments": {},
   "cell_type": "markdown",
   "metadata": {},
   "source": [
    "----"
   ]
  },
  {
   "cell_type": "code",
   "execution_count": 36,
   "metadata": {
    "brd": "cd2b2e5b-d099-4da0-81b5-4b7cd154212b"
   },
   "outputs": [],
   "source": [
    "console, cprint = setup_console(140)"
   ]
  },
  {
   "cell_type": "code",
   "execution_count": 37,
   "metadata": {
    "brd": "76cd3d17-7ac0-43ef-81e4-9511bdabfa3a"
   },
   "outputs": [],
   "source": [
    "#| exporti\n",
    "\n",
    "_n = '\\n'"
   ]
  },
  {
   "attachments": {},
   "cell_type": "markdown",
   "metadata": {},
   "source": [
    "----"
   ]
  },
  {
   "cell_type": "markdown",
   "metadata": {},
   "source": [
    "# Widget Helpers"
   ]
  },
  {
   "cell_type": "markdown",
   "metadata": {},
   "source": [
    "# cleanupwidgets\n",
    "> Helper to properly cleanup ipywidget instances by closing their comms.\n",
    "\n",
    "When working with ipywidgets in notebooks, each widget creates a comm channel with the kernel. During development, it's better to to close the widgets, to avoid memory leaks and kernel issues.\n"
   ]
  },
  {
   "cell_type": "code",
   "execution_count": 38,
   "metadata": {
    "brd": "6e1259c2-0aac-40d7-8c7c-1ee3008579ec"
   },
   "outputs": [],
   "source": [
    "#| export\n",
    "\n",
    "def cleanupwidgets(*ws, mod: str|None=None, clear=True):\n",
    "    from IPython.display import clear_output\n",
    "    glb = _get_globals(mod or __name__)\n",
    "    for w in ws:\n",
    "        _w = glb.get(w) if isinstance(w, str) else w\n",
    "        if _w:\n",
    "            try: _w.close()  # type: ignore\n",
    "            except: pass\n",
    "    if clear: clear_output(wait=False)"
   ]
  },
  {
   "cell_type": "code",
   "execution_count": 39,
   "metadata": {
    "brd": "82776f73-0b0f-4a86-8acc-605f6b049d0c"
   },
   "outputs": [],
   "source": [
    "_b = W.Button()\n",
    "test_eq(_b.comm is not None, True)\n",
    "cleanupwidgets('_b')\n",
    "test_is(_b.comm, None)"
   ]
  },
  {
   "cell_type": "markdown",
   "metadata": {},
   "source": [
    "# read_vfile\n",
    "\n",
    "Hacking around to get anywidget `vfile:` working in Script and Style. \n",
    "Unfortunately, it's not a public API. If useful, we could write a similar util for Bridget.\n",
    "\n",
    "NOTE: %load_ext anywidget must have been previously run for this to work"
   ]
  },
  {
   "cell_type": "code",
   "execution_count": 40,
   "metadata": {
    "brd": "580bb4f9-b8f1-48c8-b826-e4e3ba9d6bd2"
   },
   "outputs": [],
   "source": [
    "#| export\n",
    "\n",
    "def read_vfile(cts:str)->str|None:\n",
    "    # %load_ext anywidget should have been previously run for this to work\n",
    "    import anywidget\n",
    "    from anywidget._file_contents import _VIRTUAL_FILES\n",
    "    if isinstance(cts, str) and cts.startswith('vfile:'):\n",
    "        if fn := _VIRTUAL_FILES.get(cts, None):\n",
    "            return fn.contents"
   ]
  },
  {
   "cell_type": "markdown",
   "metadata": {},
   "source": [
    "# vfile: Components\n",
    "\n",
    "> **FastHTML** xtend `Script` and `Style` with `vfile:` support."
   ]
  },
  {
   "cell_type": "code",
   "execution_count": 41,
   "metadata": {
    "brd": "64bcb39a-f26b-4bd3-bdf5-2820eb70a5d4"
   },
   "outputs": [],
   "source": [
    "#| export\n",
    "\n",
    "@FC.delegates(ft_html, keep=True)  # type: ignore\n",
    "def ScriptV(code:str=\"\", **kwargs)-> FT:\n",
    "    \"A Script w/ code or `vfile:` contents that doesn't escape its code\"\n",
    "    return ft_html('script', (_n, NotStr(FC.ifnone(read_vfile(code), code))), **kwargs)\n",
    "\n",
    "@FC.delegates(ft_html, keep=True)  # type: ignore\n",
    "def StyleV(*c, **kwargs)-> FT:\n",
    "    \"A Style w/ code or `vfile:` contents that doesn't escape its code\"\n",
    "    return ft_html('style', tuple(NotStr(FC.ifnone(read_vfile(_), _)) for _ in c), **kwargs)\n"
   ]
  },
  {
   "cell_type": "markdown",
   "metadata": {},
   "source": [
    "# anysource"
   ]
  },
  {
   "cell_type": "code",
   "execution_count": 42,
   "metadata": {
    "brd": "834afcfe-7d7a-4836-94de-5fb2cf4608ee"
   },
   "outputs": [],
   "source": [
    "#| export\n",
    "\n",
    "class SourceProvider(Protocol):\n",
    "    @property\n",
    "    def source(self) -> str | cached_property[str]: ...\n",
    "\n",
    "def _source(o: str|Path|SourceProvider) -> str:\n",
    "    if hasattr(o, 'source'): return o.source  # type: ignore\n",
    "    return FC.ifnone(read_vfile(o), o if isinstance(o, str) else o.read_text())  # type: ignore\n",
    "\n",
    "def anysource(*args: str|Path|SourceProvider):\n",
    "    \"Read and join text from files, vfiles or strings\"\n",
    "    return '\\n'.join(filter(None, (_source(_) for _ in args)))"
   ]
  },
  {
   "cell_type": "code",
   "execution_count": 43,
   "metadata": {
    "brd": "0d1a4bb4-2f1d-42e2-ab71-b4d567c834a8"
   },
   "outputs": [],
   "source": [
    "class Src:\n",
    "    source = 'c'\n",
    "test_eq(anysource('a', '', 'b', Src()), 'a\\nb\\nc')"
   ]
  },
  {
   "cell_type": "markdown",
   "metadata": {},
   "source": [
    "# bundled\n",
    "> Very basic JS bundler. Only concat for now."
   ]
  },
  {
   "cell_type": "code",
   "execution_count": 16,
   "metadata": {
    "brd": "e32910c0-af16-4512-ab01-891ebad54ccf"
   },
   "outputs": [],
   "source": [
    "async def bundled(*sources, debugger=False, command:str|None=None, **kwargs):\n",
    "    \"Concat javascript `sources`. Optionally, first run command.\"\n",
    "    if command:\n",
    "        try:\n",
    "            _, stderr = await arun_command(command, **kwargs)\n",
    "        except Exception as e:\n",
    "            stderr = str(e)\n",
    "        if stderr: raise RuntimeError(stderr)\n",
    "    if debugger: return anysource('debugger;', *sources)\n",
    "    return anysource(*sources)"
   ]
  },
  {
   "cell_type": "code",
   "execution_count": 17,
   "metadata": {
    "brd": "df5215cc-c565-476a-9ff4-9e07ad29ee4a"
   },
   "outputs": [],
   "source": [
    "test_eq(await bundled('a'), 'a')\n",
    "with test_raises(FileNotFoundError):\n",
    "    await bundled(Path('not_found.js'))\n",
    "with test_raises(RuntimeError):\n",
    "    await bundled(command='ls', cwd=Path('/not/found'))\n",
    "test_eq(await bundled(command='ls', debugger=True), 'debugger;')"
   ]
  },
  {
   "cell_type": "code",
   "execution_count": 18,
   "metadata": {
    "brd": "60f861b8-f61c-4793-b1ad-1e779da2c0f5"
   },
   "outputs": [],
   "source": [
    "with tempfile.NamedTemporaryFile('w') as fp:\n",
    "    fp.write('a')\n",
    "    fp.seek(0)\n",
    "    test_eq(await bundled(Path(fp.name)), 'a')"
   ]
  },
  {
   "cell_type": "code",
   "execution_count": 19,
   "metadata": {
    "brd": "1ef9c610-61cb-45e9-aec0-75d973117fc7"
   },
   "outputs": [],
   "source": [
    "def bundled(*sources, debugger=False, command:str|None=None, **kwargs):\n",
    "    \"Concat javascript `sources`. Run `command` first if not None.\"\n",
    "    async def _run(): return await arun_command(command, **kwargs)  # type: ignore\n",
    "    if command:\n",
    "        with from_thread.start_blocking_portal() as portal: \n",
    "            try: _, stderr = portal.call(_run)\n",
    "            except Exception as e: stderr = str(e)\n",
    "            if stderr: raise RuntimeError(stderr)\n",
    "    if debugger: return anysource('debugger;', *sources)\n",
    "    return anysource(*sources)"
   ]
  },
  {
   "cell_type": "code",
   "execution_count": 20,
   "metadata": {
    "brd": "5a6546bf-1df9-45db-a788-adc25a62bfd8"
   },
   "outputs": [],
   "source": [
    "test_eq(bundled('a'), 'a')\n",
    "with test_raises(FileNotFoundError):\n",
    "    bundled(Path('not_found.js'))\n",
    "with test_raises(RuntimeError):\n",
    "    bundled(command='ls', cwd=Path('/not/found'))\n",
    "test_eq(bundled(command='ls', debugger=True), 'debugger;')"
   ]
  },
  {
   "cell_type": "code",
   "execution_count": 21,
   "metadata": {
    "brd": "cf5e9198-7d88-4aa8-a2b4-e72e5ead8d8f"
   },
   "outputs": [],
   "source": [
    "with tempfile.NamedTemporaryFile('w') as fp:\n",
    "    fp.write('a')\n",
    "    fp.seek(0)\n",
    "    test_eq(bundled(Path(fp.name)), 'a')"
   ]
  },
  {
   "cell_type": "code",
   "execution_count": 22,
   "metadata": {
    "brd": "07f1beeb-a19d-4eb8-96ad-d525db062a13"
   },
   "outputs": [],
   "source": [
    "#  ./node_modules/.bin/esbuild --bundle --format=esm --outdir=bridget/js nbs/js/logger.js \n"
   ]
  },
  {
   "cell_type": "code",
   "execution_count": 23,
   "metadata": {
    "brd": "f6cb9d63-0bd6-4250-a56c-6f579b086230"
   },
   "outputs": [
    {
     "data": {
      "text/plain": [
       "'bridge.js'"
      ]
     },
     "execution_count": 23,
     "metadata": {},
     "output_type": "execute_result"
    }
   ],
   "source": [
    "Path('js/bridge.js').resolve().name"
   ]
  },
  {
   "cell_type": "code",
   "execution_count": 24,
   "metadata": {
    "brd": "23c1f1c9-ff69-45d4-b01b-c2a3960371dc"
   },
   "outputs": [],
   "source": [
    "#| export\n",
    "\n",
    "class Bundle:\n",
    "    \"Basic JS bundler class.\"\n",
    "    def __init__(self, \n",
    "        *sources: str|Path,         # Concat javascript `sources`\n",
    "        bundle:str|bool=False,      # Bundle using `esbuild` withs sources as entry points\n",
    "        outdir:str|Path|None=None,  # Output directory for bundled files\n",
    "        bundler:str='esbuild',      # Bundler to use, one of 'esbuild', 'copy'\n",
    "        command:str|None=None,      # Run `command` first if not None\n",
    "        **cmd_kw                    # Command kwargs\n",
    "    ):\n",
    "        self.sources, self.bundler = list(sources), bundler;\n",
    "        self.outdir, self.command, self.cmd_kwargs = outdir, command, cmd_kw\n",
    "        self.bundle = bundle if isinstance(bundle, bool) else bundle == '__main__'\n",
    "    def __str__(self): return self.source\n",
    "    def __call__(self, debugger=False):\n",
    "        \"Insert `debugger` at the beginning of the bundle.\"\n",
    "        return self.source if not debugger else anysource('debugger;', self.source)\n",
    "    @cached_property\n",
    "    def bundled_sources(self) -> list[str|Path]:\n",
    "        \"Bundle the sources using `esbuild`. Return the paths to the bundled files.\"\n",
    "        if self.command: _ = run_command(self.command, **self.cmd_kwargs)\n",
    "        if not self.bundle: return self.sources\n",
    "        nbdev_cfg = nbdev.config.get_config()\n",
    "        outdir = nbdev_cfg.lib_path/'js' if not self.outdir else Path(self.outdir)\n",
    "        if self.bundler == 'copy':\n",
    "            srcs = [shutil.copy(_, outdir) for _ in self.sources if isinstance(_, Path)]\n",
    "        else:\n",
    "            srcs = ' '.join([_.resolve().as_posix() for _ in self.sources if isinstance(_, Path)])\n",
    "            cmd = f\"./node_modules/.bin/esbuild --bundle --format=esm --outdir={outdir} {srcs}\"\n",
    "            _ = run_command(cmd, cwd=nbdev_cfg.config_path)\n",
    "        return [(outdir / _.name if isinstance(_, Path) else _) for _ in self.sources]\n",
    "    @cached_property\n",
    "    def source(self): return anysource(*self.bundled_sources)\n",
    "    def join(self, *sources: str|Path):\n",
    "        return type(self)(*self.sources, *sources, bundle=self.bundle, outdir=self.outdir, \n",
    "            bundler=self.bundler, command=self.command, **self.cmd_kwargs)\n",
    "\n",
    "\n",
    "@FC.delegates(Bundle.__init__, keep=True)  # type: ignore\n",
    "def bundled(*sources: str|Path, **kwargs):\n",
    "    return Bundle(*sources, **kwargs)"
   ]
  },
  {
   "cell_type": "code",
   "execution_count": 25,
   "metadata": {
    "brd": "28dde60c-5774-4afd-95b0-03b883b55eb0"
   },
   "outputs": [],
   "source": [
    "test_eq(bundled('a')(), 'a')\n",
    "test_eq(bundled('a').source, 'a')\n",
    "with test_raises(FileNotFoundError):\n",
    "    bundled(Path('not_found.js'))()\n",
    "with test_raises(FileNotFoundError):\n",
    "    bundled(command='ls', cwd=Path('/not/found'))()\n",
    "test_eq(bundled(command='ls')(debugger=True), 'debugger;')"
   ]
  },
  {
   "cell_type": "code",
   "execution_count": 26,
   "metadata": {
    "brd": "0446d2b7-9961-4f29-80d3-3ae60334b038"
   },
   "outputs": [],
   "source": [
    "with tempfile.NamedTemporaryFile('w') as fp:\n",
    "    fp.write('a')\n",
    "    fp.seek(0)\n",
    "    test_eq(bundled(Path(fp.name))(), 'a')"
   ]
  },
  {
   "cell_type": "code",
   "execution_count": 28,
   "metadata": {
    "brd": "44087bf0-af96-43a3-95dd-bfdc9c615f32"
   },
   "outputs": [],
   "source": [
    "src = 'js/test.js'\n",
    "bnd = bundled(Path(src), bundle=True)\n",
    "test_eq(bnd.bundled_sources[0], bundle_path('bridget')/src)\n",
    "test_is(r'stripAnsi(\"\\x1B[4mBridget\\x1B[0m\")' in bnd(), True)\n",
    "Path(bnd.bundled_sources[0]).unlink()"
   ]
  },
  {
   "cell_type": "code",
   "execution_count": 29,
   "metadata": {
    "brd": "25e12788-8975-4734-9cc5-7bc97899514c"
   },
   "outputs": [],
   "source": [
    "bnd = bundled(Path(src), bundle=True, bundler='copy')\n",
    "test_eq(bnd.bundled_sources[0], bundle_path('bridget')/src)\n",
    "test_eq(bnd.bundled_sources[0].read_text(), Path(src).read_text())  # type: ignore\n",
    "Path(bnd.bundled_sources[0]).unlink()"
   ]
  },
  {
   "cell_type": "markdown",
   "metadata": {},
   "source": [
    "# BlockingWidget"
   ]
  },
  {
   "cell_type": "code",
   "execution_count": 27,
   "metadata": {
    "brd": "ff3d6e8c-1236-45e5-9073-6887939ba7a6"
   },
   "outputs": [
    {
     "data": {
      "image/png": "[encoded data removed]",
      "text/plain": [
       "<Figure size 640x480 with 1 Axes>"
      ]
     },
     "metadata": {},
     "output_type": "display_data"
    }
   ],
   "source": [
    "from matplotlib import pyplot as plt\n",
    "import numpy as np\n",
    "\n",
    "base = 1.5\n",
    "fig = plt.figure()#figsize=(4, 2.67))\n",
    "plt.plot(base + base**np.arange(10));"
   ]
  },
  {
   "cell_type": "code",
   "execution_count": 28,
   "metadata": {
    "brd": "0330ef85-f308-45c3-840e-d4ef6ffcf8d2"
   },
   "outputs": [],
   "source": [
    "#| export\n",
    "\n",
    "def exp_backoff(base:float=1.552, max_value:float=20.0):\n",
    "    \"Exponential backoff generator of values until cumulative value is max_value, then yields 0 and stops.\"\n",
    "    if base <= 0: yield 0; return\n",
    "    i, cum_sum, prev_t = 1, 0, 0\n",
    "    while cum_sum < max_value:\n",
    "        t = max(base**i, prev_t) if base > 1 else base*i\n",
    "        t = min(t, max_value - cum_sum)\n",
    "        yield t\n",
    "        cum_sum += t\n",
    "        prev_t = t\n",
    "        i += 1\n",
    "    yield 0"
   ]
  },
  {
   "cell_type": "code",
   "execution_count": 29,
   "metadata": {
    "brd": "223d8d32-8adb-45c0-bae6-d67c2b1af7c5"
   },
   "outputs": [
    {
     "data": {
      "text/plain": [
       "[1.552, 2.408704, 3.7383086080000005, 5.8018549596160005, 6.499132432383998]"
      ]
     },
     "execution_count": 29,
     "metadata": {},
     "output_type": "execute_result"
    }
   ],
   "source": [
    "list(itertools.takewhile(lambda t: t, exp_backoff()))"
   ]
  },
  {
   "cell_type": "code",
   "execution_count": 30,
   "metadata": {
    "brd": "df5e68f8-f54e-4281-b9b2-bbcb8d551115"
   },
   "outputs": [
    {
     "data": {
      "text/plain": [
       "[1.552,\n",
       " 2.408704,\n",
       " 3.7383086080000005,\n",
       " 5.8018549596160005,\n",
       " 9.004478897324033,\n",
       " 13.9749512486469,\n",
       " 21.68912433789999,\n",
       " 1.8305779485130742]"
      ]
     },
     "execution_count": 30,
     "metadata": {},
     "output_type": "execute_result"
    }
   ],
   "source": [
    "list(itertools.takewhile(lambda t: t, exp_backoff(max_value=60)))"
   ]
  },
  {
   "cell_type": "code",
   "execution_count": 31,
   "metadata": {
    "brd": "c86b9279-7ecb-434f-b8ce-285a7ff339ba"
   },
   "outputs": [
    {
     "data": {
      "text/plain": [
       "[0.4, 0.8, 1.2000000000000002, 0.5999999999999996]"
      ]
     },
     "execution_count": 31,
     "metadata": {},
     "output_type": "execute_result"
    }
   ],
   "source": [
    "list(itertools.takewhile(lambda t:t, exp_backoff(0.4, 3)))"
   ]
  },
  {
   "cell_type": "code",
   "execution_count": 32,
   "metadata": {
    "brd": "2003e7a5-4833-467f-8725-aba6e2382518"
   },
   "outputs": [
    {
     "data": {
      "text/plain": [
       "[0.0776, 0.1552, 0.2328, 0.3104, 0.22399999999999998]"
      ]
     },
     "execution_count": 32,
     "metadata": {},
     "output_type": "execute_result"
    }
   ],
   "source": [
    "list(itertools.takewhile(lambda t:t, exp_backoff(1*0.0776, 1)))"
   ]
  },
  {
   "cell_type": "code",
   "execution_count": 33,
   "metadata": {
    "brd": "d60fa22b-7a08-4908-b3ef-5d08079f83d4"
   },
   "outputs": [
    {
     "name": "stdout",
     "output_type": "stream",
     "text": [
      "1.552 1.552\n",
      "2.408704 3.9607040000000002\n",
      "3.7383086080000005 7.699012608\n",
      "5.8018549596160005 13.500867567616002\n",
      "6.499132432383998 20.0\n",
      "0 20.0\n"
     ]
    }
   ],
   "source": [
    "boff = iter(exp_backoff())\n",
    "t, sum = 1, 0\n",
    "while t:\n",
    "    t = next(boff)\n",
    "    sum += t\n",
    "    print(t, sum)"
   ]
  },
  {
   "cell_type": "code",
   "execution_count": 34,
   "metadata": {
    "brd": "b0697806-5990-4b8e-9853-5b3850232baf"
   },
   "outputs": [],
   "source": [
    "#| exporti\n",
    "\n",
    "_xx = ['-_-', 'o_o']\n",
    "def _show(finish: bool=False):\n",
    "    if finish: print('._.')\n",
    "    else: print(_xx[0], end=\"\\r\", flush=True); _xx[:] = _xx[::-1]"
   ]
  },
  {
   "cell_type": "code",
   "execution_count": 35,
   "metadata": {
    "brd": "0dc15f84-9a8d-464a-b9b9-820584fb5ac2"
   },
   "outputs": [],
   "source": [
    "class BlockingMixin(W.Widget):\n",
    "    \"A mixin for widgets that supports blocking custom messages with the front-end.\"\n",
    "    _cbs: CallbackDispatcher\n",
    "\n",
    "    def on_msg(self, cb, remove=False):\n",
    "        if not hasattr(self, '_cbs'): self._cbs = CallbackDispatcher()\n",
    "        self._cbs.register_callback(cb, remove=remove)\n",
    "        super().on_msg(cb, remove=remove)\n",
    "\n",
    "    def send(self, msg, timeout: float|None=None, buffers=None, \n",
    "            sleep: float = 1/15, n: int = 10, show: Callable[[bool], None]|None = None\n",
    "    ) -> tuple[Any|Empty, Any|Empty]|None:\n",
    "        \"Send `msg` to the front-end. If `timeout` seconds is not None, calling blocks.\"\n",
    "        if timeout is None: \n",
    "            for cb in self._cbs.callbacks: super().on_msg(cb)\n",
    "            return super().send(msg, buffers)\n",
    "        for cb in self._cbs.callbacks: super().on_msg(cb, remove=True)\n",
    "        res = self._send_msg(msg, buffers,timeout, sleep, n, show)\n",
    "        # NOTE: restoring normal callbacks now implies that front-end can yet send back a result\n",
    "        # even if python timeout was triggered.\n",
    "        for cb in self._cbs.callbacks: super().on_msg(cb)\n",
    "        return res\n",
    "    \n",
    "    async def asend(self, msg, timeout: float=5.0, buffers=None, \n",
    "            sleep: float = 1/15, n: int = 10, show: Callable[[bool], None]|None = None\n",
    "    ) -> tuple[Any|Empty, Any|Empty]|None:\n",
    "        \"Send `msg` to the front-end. Call will end after `timeout` seconds if `timeout` is not None.\"\n",
    "        for cb in self._cbs.callbacks: super().on_msg(cb, remove=True)\n",
    "        res = await self._asend_msg(msg, buffers, timeout, sleep, n, show)\n",
    "        for cb in self._cbs.callbacks: super().on_msg(cb)\n",
    "        return res\n",
    "\n",
    "    def _send_msg(self, msg, buffers=None, timeout: float = 5.0, \n",
    "            sleep: float = 1/15, n: int = 10, show: Callable[[bool], None]|None = None\n",
    "    ) -> tuple[Any|Empty, Any|Empty]:\n",
    "        \"Send blocking `msg` to the front-end. Return response tuple (content, buffers), or (empty, empty) if `timeout`.\"\n",
    "        boff = iter(exp_backoff(timeout*0.776, timeout))\n",
    "        timeout, start_time = next(boff), time.time()\n",
    "        result = None\n",
    "        def _on_msg(_, msg, buffers):\n",
    "            nonlocal result\n",
    "            if result is None: result = (msg, buffers)\n",
    "        super().on_msg(_on_msg)  # register transient callback\n",
    "        try:\n",
    "            super().send(msg, buffers)\n",
    "            with ui_events() as ui_poll:\n",
    "                while True:\n",
    "                    if sleep: time.sleep(sleep)\n",
    "                    ui_poll(n)\n",
    "                    if (time.time() - start_time) > timeout:\n",
    "                        timeout, start_time = next(boff), time.time()\n",
    "                        if not timeout: result = (empty, empty)\n",
    "                    if result is not None:\n",
    "                        content, buffers = result\n",
    "                        if content is empty: return (empty, empty)\n",
    "                        self._cbs(self, content, buffers)\n",
    "                        return content, buffers\n",
    "                    if show: show(False)\n",
    "        except Exception as e:\n",
    "            if isinstance(e, RuntimeError): raise\n",
    "            raise RuntimeError(f\"Error during message processing: {str(e)}\") from e\n",
    "        finally:\n",
    "            super().on_msg(_on_msg, True)  # unregister callback\n",
    "            if show: show(True)\n",
    "\n",
    "    async def _asend_msg(self, msg, buffers=None, timeout: float = 5.0, \n",
    "            sleep: float = 0, n: int = 10, show: Callable[[bool], None]|None = None\n",
    "    ) -> tuple[Any|Empty, Any|Empty]:\n",
    "        \"Send async `msg` to the front-end. Return response tuple (content, buffers), or (empty, empty) if `timeout`.\"\n",
    "        boff = iter(exp_backoff(timeout*0.776, timeout))\n",
    "        timeout, start_time = next(boff), time.time()\n",
    "        result = None\n",
    "        def _on_msg(w, msg, buffers):\n",
    "            nonlocal result\n",
    "            if result is None: result = (msg, buffers)\n",
    "        super().on_msg(_on_msg)\n",
    "        try:\n",
    "            super().send(msg, buffers)\n",
    "            async with ui_events() as ui_poll:\n",
    "                while True:\n",
    "                    await ui_poll(10)\n",
    "                    if (time.time() - start_time) > timeout:\n",
    "                        timeout, start_time = next(boff), time.time()\n",
    "                        if not timeout: result = (empty, empty)\n",
    "                    if result is not None:\n",
    "                        content, buffers = result\n",
    "                        if content is empty: return (empty, empty)\n",
    "                        self._cbs(self, content, buffers)\n",
    "                        return (content, buffers)\n",
    "                    if sleep: await asyncio.sleep(sleep)\n",
    "                    if show: show(False)\n",
    "        except Exception as e:\n",
    "            if isinstance(e, RuntimeError): raise\n",
    "            raise RuntimeError(f\"Error during message processing: {str(e)}\") from e\n",
    "        finally:\n",
    "            super().on_msg(_on_msg, True)\n",
    "            if show: show(True)"
   ]
  },
  {
   "cell_type": "code",
   "execution_count": 36,
   "metadata": {
    "brd": "8d5501e5-b542-4d6a-bcf2-b7b37517f7d4"
   },
   "outputs": [],
   "source": [
    "#| export\n",
    "\n",
    "class BlockingMixin(W.Widget):\n",
    "    \"Mixin for widgets that supports blocking custom messages with the front-end.\"\n",
    "    _loading = True\n",
    "\n",
    "    @classmethod\n",
    "    async def create(cls, \n",
    "        *args, \n",
    "        sleep:float=0.2, timeout:float=4.0,\n",
    "        factory:Callable[..., Any]|None=None, on_end:Callable[[Any, bool], None]|None=None,\n",
    "        **kwargs\n",
    "    ) -> Self:\n",
    "        start_time = time.time()\n",
    "        self: Self = (factory or cls)(*args, **kwargs)\n",
    "        if self._loading:\n",
    "            async with ui_events() as ui_poll:\n",
    "                while True:\n",
    "                    await ui_poll(10)\n",
    "                    if (time.time() - start_time) > timeout:\n",
    "                        if on_end: on_end(self, False)\n",
    "                        break\n",
    "                    if not self._loading:\n",
    "                        if on_end: on_end(self, True)\n",
    "                        break\n",
    "                    if sleep: await asyncio.sleep(sleep)\n",
    "        return self\n",
    "\n",
    "    def send(self, msg, timeout: float|None=None, buffers=None, \n",
    "            sleep: float = 1/15, n: int = 10, show: Callable[[bool], None]|None = None\n",
    "    ) -> tuple[Any|Empty, Any|Empty]|None:\n",
    "        \"\"\"Send `msg` to the front-end. If `timeout` seconds is not None, the calling blocks.\n",
    "        NOTE: front-end can yet send back a result even if python timeout was triggered.\n",
    "        \"\"\"\n",
    "        if timeout is None: return super().send(msg, buffers)\n",
    "        return self._send_msg(msg, buffers, timeout, sleep, n, show)\n",
    "    \n",
    "    async def asend(self, msg, timeout: float=5.0, buffers=None, \n",
    "            sleep: float = 1/15, n: int = 10, show: Callable[[bool], None]|None = None\n",
    "    ) -> tuple[Any|Empty, Any|Empty]|None:\n",
    "        \"\"\"Send `msg` to the front-end. Call will end after `timeout` seconds if `timeout` is not None.\n",
    "        NOTE: front-end can yet send back a result even if python timeout was triggered.\n",
    "        \"\"\"\n",
    "        return await self._asend_msg(msg, buffers, timeout, sleep, n, show)\n",
    "\n",
    "    def _send_msg(self, msg, buffers=None, timeout: float = 5.0, \n",
    "            sleep: float = 1/15, n: int = 10, show: Callable[[bool], None]|None = None\n",
    "    ) -> tuple[Any|Empty, Any|Empty]:\n",
    "        \"Send blocking `msg` to the front-end. Return response tuple (content, buffers), or (empty, empty) if `timeout`.\"\n",
    "        boff = iter(exp_backoff(timeout*0.776, timeout))\n",
    "        timeout, start_time = next(boff), time.time()\n",
    "        result = None\n",
    "        def _on_msg(w, msg, buffers):\n",
    "            nonlocal result\n",
    "            if result is None: result = (msg, buffers)\n",
    "        super().on_msg(_on_msg)\n",
    "        try:\n",
    "            super().send(msg, buffers)\n",
    "            with ui_events() as ui_poll:\n",
    "                while True:\n",
    "                    if sleep: time.sleep(sleep)\n",
    "                    ui_poll(n)\n",
    "                    if (time.time() - start_time) > timeout:\n",
    "                        timeout, start_time = next(boff), time.time()\n",
    "                        if not timeout: result = (empty, empty)\n",
    "                    if result is not None:\n",
    "                        content, buffers = result\n",
    "                        if content is empty: return (empty, empty)\n",
    "                        return content, buffers\n",
    "                    if show: show(False)\n",
    "        except Exception as e:\n",
    "            if isinstance(e, RuntimeError): raise\n",
    "            raise RuntimeError(f\"Error during message processing: {str(e)}\") from e\n",
    "        finally:\n",
    "            super().on_msg(_on_msg, True)\n",
    "            if show: show(True)\n",
    "\n",
    "    async def _asend_msg(self, msg, buffers=None, timeout: float = 5.0, \n",
    "            sleep: float = 0, n: int = 10, show: Callable[[bool], None]|None = None\n",
    "    ) -> tuple[Any|Empty, Any|Empty]:\n",
    "        \"Send async `msg` to the front-end. Return response tuple (content, buffers), or (empty, empty) if `timeout`.\"\n",
    "        boff = iter(exp_backoff(timeout*0.776, timeout))\n",
    "        timeout = next(boff)\n",
    "        start_time, result = time.time(), None\n",
    "        def _on_msg(w, msg, buffers):\n",
    "            nonlocal result\n",
    "            if result is None: result = (msg, buffers)\n",
    "        super().on_msg(_on_msg)\n",
    "        try:\n",
    "            super().send(msg, buffers)\n",
    "            async with ui_events() as ui_poll:\n",
    "                while True:\n",
    "                    await ui_poll(10)\n",
    "                    if (time.time() - start_time) > timeout:\n",
    "                        timeout = next(boff)\n",
    "                        if not timeout: result = (empty, empty)\n",
    "                    if result is not None:\n",
    "                        content, buffers = result\n",
    "                        if content is empty: return (empty, empty)\n",
    "                        return (content, buffers)\n",
    "                    if sleep: await asyncio.sleep(sleep)\n",
    "                    if show: show(False)\n",
    "        except Exception as e:\n",
    "            if isinstance(e, RuntimeError): raise\n",
    "            raise RuntimeError(f\"Error during message processing: {str(e)}\") from e\n",
    "        finally:\n",
    "            super().on_msg(_on_msg, True)\n",
    "            if show: _show(True)"
   ]
  },
  {
   "cell_type": "code",
   "execution_count": 37,
   "metadata": {
    "brd": "6e9c35f6-4c66-4c21-a5db-71acdd611d7f"
   },
   "outputs": [],
   "source": [
    "class BlockingWidget(anywidget.AnyWidget, BlockingMixin):\n",
    "    _esm = anysource('debugger;', '''\n",
    "    export default { \n",
    "        async initialize({ model }) {\n",
    "            function on_msg(msg) {\n",
    "                console.log(`Received message:`, msg);\n",
    "                if (!msg?.timeout) return model.send({ id: msg.id, response: 'no timeout' });\n",
    "                setTimeout(() => {\n",
    "                    console.log(`Sending response for id:`, msg.id);\n",
    "                    model.send({ id: msg.id, response: 'done waiting', error: null });\n",
    "                }, msg.timeout*1000);\n",
    "            }\n",
    "            model.on(\"msg:custom\", on_msg);\n",
    "            setTimeout(() => {\n",
    "                console.log(`Initialized.`);\n",
    "                model.send({ response: 'Intialized' });\n",
    "            }, 1000);\n",
    "        }\n",
    "    };\n",
    "    ''')\n",
    "\n",
    "    dh: DisplayHandle\n",
    "    def __init__(self, *args, **kwargs):\n",
    "        super().__init__(*args, **kwargs)\n",
    "        self.last_update = None\n",
    "        self.on_msg(self._handle_message)\n",
    "        self.dh = displaydh('Initializing...')\n",
    "\n",
    "    def _handle_message(self, w, msg, buffers):\n",
    "        self._loading = False\n",
    "        self.last_update = f'{time.time()} Received message: {msg}, buffers: {buffers}'\n",
    "        self.dh.update(self.last_update)"
   ]
  },
  {
   "cell_type": "code",
   "execution_count": 38,
   "metadata": {
    "brd": "acf3c377-3bbe-4a70-9ea7-4c94ead6251d"
   },
   "outputs": [
    {
     "data": {
      "text/plain": [
       "'done=True'"
      ]
     },
     "metadata": {},
     "output_type": "display_data"
    },
    {
     "data": {
      "text/plain": [
       "\"1742118907.1049879 Received message: {'response': 'Intialized'}, buffers: []\""
      ]
     },
     "execution_count": 38,
     "metadata": {},
     "output_type": "execute_result"
    }
   ],
   "source": [
    "cleanupwidgets('w')\n",
    "\n",
    "w = await BlockingWidget.create(on_end=lambda w,x: w.dh.update(f'done={x}'))\n",
    "test_eq(w._loading, False)\n",
    "w.last_update"
   ]
  },
  {
   "cell_type": "code",
   "execution_count": 39,
   "metadata": {
    "brd": "486440a4-4ce7-4402-bf4f-e8b5dd0dc9c7"
   },
   "outputs": [
    {
     "data": {
      "text/plain": [
       "\"1742118911.1696022 Received message: {'id': 5, 'response': 'done waiting', 'error': None}, buffers: []\""
      ]
     },
     "metadata": {},
     "output_type": "display_data"
    }
   ],
   "source": [
    "cleanupwidgets('w')\n",
    "\n",
    "w = BlockingWidget()\n",
    "test_eq(w._loading, True)"
   ]
  },
  {
   "cell_type": "code",
   "execution_count": 40,
   "metadata": {
    "brd": "abe5609f-48b6-4e7a-adaf-79f7336c472b"
   },
   "outputs": [],
   "source": [
    "w.dh.update('...')\n",
    "w.send({'id': kounter('blocking')})"
   ]
  },
  {
   "cell_type": "code",
   "execution_count": 41,
   "metadata": {
    "brd": "866c10cb-6163-4da8-b667-76fcdd90f6e1"
   },
   "outputs": [
    {
     "name": "stdout",
     "output_type": "stream",
     "text": [
      "._.\n",
      "a=({'id': 1, 'response': 'no timeout'}, [])\n"
     ]
    }
   ],
   "source": [
    "w.dh.update('...')\n",
    "a = w.send({'id': kounter('blocking'), 'timeout': 2}, 3, show=_show)\n",
    "print(f\"{a=}\")"
   ]
  },
  {
   "cell_type": "code",
   "execution_count": 42,
   "metadata": {
    "brd": "151ff724-4ab1-43ef-8d98-9c220bd2a7da"
   },
   "outputs": [
    {
     "name": "stdout",
     "output_type": "stream",
     "text": [
      "._.\n",
      "3, a=({'response': 'Intialized'}, [])\n"
     ]
    }
   ],
   "source": [
    "w.dh.update('...')\n",
    "a = w.send({'id': (cnt := kounter('blocking')), 'timeout': 2}, 1, show=_show)\n",
    "print(f\"{cnt}, {a=}\")"
   ]
  },
  {
   "cell_type": "code",
   "execution_count": 43,
   "metadata": {
    "brd": "cb12f193-294e-4308-a4aa-d739f188f259"
   },
   "outputs": [
    {
     "name": "stdout",
     "output_type": "stream",
     "text": [
      "._.\n",
      "a=({'id': 2, 'response': 'done waiting', 'error': None}, [])\n"
     ]
    }
   ],
   "source": [
    "w.dh.update('...')\n",
    "a = await w.asend({'id': kounter('blocking'), 'timeout': 2}, 3, show=_show)\n",
    "print(f\"{a=}\")"
   ]
  },
  {
   "cell_type": "code",
   "execution_count": 44,
   "metadata": {
    "brd": "39f299ac-2574-453d-baef-2dc49ad248a9"
   },
   "outputs": [
    {
     "name": "stdout",
     "output_type": "stream",
     "text": [
      "._.\n",
      "a=({'id': 3, 'response': 'done waiting', 'error': None}, [])\n"
     ]
    }
   ],
   "source": [
    "w.dh.update('...')\n",
    "a = await w.asend({'id': kounter('blocking'), 'timeout': 2}, 1, show=_show)\n",
    "print(f\"{a=}\")"
   ]
  },
  {
   "cell_type": "markdown",
   "metadata": {},
   "source": [
    "# Colophon\n",
    "----"
   ]
  },
  {
   "cell_type": "code",
   "execution_count": 50,
   "metadata": {
    "brd": "7654e23e-a067-490c-998b-2ada898b9654"
   },
   "outputs": [],
   "source": [
    "import fastcore.all as FC\n",
    "import nbdev\n",
    "from nbdev.clean import nbdev_clean"
   ]
  },
  {
   "cell_type": "code",
   "execution_count": 51,
   "metadata": {
    "brd": "d6f8a570-76a0-4a81-89bf-e80b7a711e4f"
   },
   "outputs": [],
   "source": [
    "if FC.IN_NOTEBOOK:\n",
    "    nb_path = '02_widget_helpers.ipynb'\n",
    "    # nbdev_clean(nb_path)\n",
    "    nbdev.nbdev_export(nb_path)"
   ]
  }
 ],
 "metadata": {
  "kernelspec": {
   "display_name": "Python 3",
   "language": "python",
   "name": "python3"
  },
  "language_info": {
   "codemirror_mode": {
    "name": "ipython",
    "version": 3
   },
   "file_extension": ".py",
   "mimetype": "text/x-python",
   "name": "python",
   "nbconvert_exporter": "python",
   "pygments_lexer": "ipython3",
   "version": "3.12.8"
  }
 },
 "nbformat": 4,
 "nbformat_minor": 2
}
