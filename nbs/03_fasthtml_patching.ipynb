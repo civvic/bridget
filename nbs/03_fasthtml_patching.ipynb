{
 "cells": [
  {
   "cell_type": "code",
   "execution_count": null,
   "metadata": {},
   "outputs": [],
   "source": [
    "#| default_exp fasthtml_patching"
   ]
  },
  {
   "cell_type": "code",
   "execution_count": null,
   "metadata": {},
   "outputs": [],
   "source": [
    "#| export\n",
    "from __future__ import annotations"
   ]
  },
  {
   "cell_type": "markdown",
   "metadata": {},
   "source": [
    "# fasthtml patching\n",
    "> Monkey-patching some fasthtml features/issues while waiting to submit the corresponding PRs."
   ]
  },
  {
   "cell_type": "markdown",
   "metadata": {},
   "source": [
    "# Prologue"
   ]
  },
  {
   "cell_type": "code",
   "execution_count": null,
   "metadata": {},
   "outputs": [],
   "source": [
    "#| export\n",
    "import fastcore.all as FC\n",
    "from fastcore.xml import to_xml\n",
    "from fasthtml.components import Div\n",
    "from fasthtml.core import FT\n",
    "from fasthtml.jupyter import JupyUvi\n",
    "from fasthtml.xtend import Script\n",
    "from IPython.display import display\n",
    "from IPython.core.display import HTML\n"
   ]
  },
  {
   "cell_type": "code",
   "execution_count": null,
   "metadata": {},
   "outputs": [],
   "source": [
    "#| export\n",
    "from bridget.helpers import bridge_cfg\n"
   ]
  },
  {
   "cell_type": "code",
   "execution_count": null,
   "metadata": {},
   "outputs": [
    {
     "name": "stderr",
     "output_type": "stream",
     "text": [
      "/var/folders/np/k2wj6f4s3rj0m9n0yt8pkk680000gn/T/ipykernel_94115/1722648031.py:12: DeprecationWarning: Importing clear_output from IPython.core.display is deprecated since IPython 7.14, please import from IPython display\n",
      "  from IPython.core.display import clear_output\n"
     ]
    }
   ],
   "source": [
    "import fasthtml.components as ft\n",
    "from fastcore.test import *\n",
    "from fasthtml.components import highlight\n",
    "from fasthtml.components import show\n",
    "from fasthtml.components import showtags\n",
    "from fasthtml.core import FastHTML\n",
    "from fasthtml.core import fh_cfg\n",
    "from fasthtml.core import fhjsscr\n",
    "from fasthtml.core import scopesrc\n",
    "from fasthtml.core import surrsrc\n",
    "from httpx import get\n",
    "from IPython.core.display import clear_output\n",
    "from IPython.core.display import Javascript\n",
    "from IPython.core.display import Markdown\n",
    "from olio.common import setup_console\n"
   ]
  },
  {
   "cell_type": "code",
   "execution_count": null,
   "metadata": {},
   "outputs": [],
   "source": [
    "from fasthtml.components import P, Pre, Text, Span"
   ]
  },
  {
   "cell_type": "markdown",
   "metadata": {},
   "source": [
    "----\n"
   ]
  },
  {
   "cell_type": "code",
   "execution_count": null,
   "metadata": {},
   "outputs": [],
   "source": [
    "console, cprint = setup_console(140)"
   ]
  },
  {
   "cell_type": "markdown",
   "metadata": {},
   "source": [
    "----"
   ]
  },
  {
   "cell_type": "markdown",
   "metadata": {},
   "source": [
    "# FastHTML Bridge display\n",
    "\n",
    "1. This functionality patches FastHTML's IPython display system\n",
    "3. This implementation:\n",
    "   - Overrides all FT IPython MIME methods\n",
    "   - Uses `bridge_cfg.auto_show` for display opt-in\n",
    "\n",
    "This is a convenience and not core of this proof-of-concept notebooks."
   ]
  },
  {
   "cell_type": "code",
   "execution_count": null,
   "metadata": {},
   "outputs": [],
   "source": [
    "fh_cfg['auto_id'] = False\n",
    "bridge_cfg.auto_show=False"
   ]
  },
  {
   "cell_type": "code",
   "execution_count": null,
   "metadata": {},
   "outputs": [
    {
     "name": "stdout",
     "output_type": "stream",
     "text": [
      "d: \n",
      "<div hx-trigger=\"click\" style=\"color: red;\"><text>Hi!</text></div>\n"
     ]
    },
    {
     "data": {
      "text/markdown": [
       "----"
      ],
      "text/plain": [
       "<IPython.core.display.Markdown object>"
      ]
     },
     "metadata": {},
     "output_type": "display_data"
    },
    {
     "name": "stdout",
     "output_type": "stream",
     "text": [
      "showtags(d): \n",
      "<code><pre>\n",
      "&lt;div hx-trigger=&quot;click&quot; style=&quot;color: red;&quot;&gt;\n",
      "&lt;text&gt;Hi!&lt;/text&gt;&lt;/div&gt;\n",
      "\n",
      "</code></pre>\n"
     ]
    },
    {
     "data": {
      "text/markdown": [
       "----"
      ],
      "text/plain": [
       "<IPython.core.display.Markdown object>"
      ]
     },
     "metadata": {},
     "output_type": "display_data"
    },
    {
     "data": {
      "text/markdown": [
       "```html\n",
       "<div hx-trigger=\"click\" style=\"color: red;\">\n",
       "<text>Hi!</text></div>\n",
       "\n",
       "```\n",
       "----"
      ],
      "text/plain": [
       "<IPython.core.display.Markdown object>"
      ]
     },
     "metadata": {},
     "output_type": "display_data"
    },
    {
     "data": {
      "text/html": [
       "<div hx-trigger=\"click\" style=\"color: red;\">\n",
       "<text>Hi!</text></div>\n"
      ],
      "text/plain": [
       "<IPython.core.display.HTML object>"
      ]
     },
     "metadata": {},
     "output_type": "display_data"
    }
   ],
   "source": [
    "d = Div(style='color: red;', hx_trigger='click')(Text('Hi!'))\n",
    "print(f\"d: \\n{d}\"); display(Markdown('----'))\n",
    "print(f\"showtags(d): \\n{showtags(d)}\"); display(Markdown('----'))\n",
    "display(Markdown(highlight(d)+'\\n----'))\n",
    "show(d)"
   ]
  },
  {
   "cell_type": "code",
   "execution_count": null,
   "metadata": {},
   "outputs": [
    {
     "data": {
      "text/markdown": [
       "```html\n",
       "<div>I&#x27;m a Div!</div>\n",
       "\n",
       "```"
      ],
      "text/plain": [
       "div((\"I'm a Div!\",),{})"
      ]
     },
     "execution_count": null,
     "metadata": {},
     "output_type": "execute_result"
    }
   ],
   "source": [
    "Div(\"I'm a Div!\")"
   ]
  },
  {
   "cell_type": "code",
   "execution_count": null,
   "metadata": {},
   "outputs": [],
   "source": [
    "#| exporti\n",
    "\n",
    "@FC.patch\n",
    "def _repr_mimebundle_(self: FT, include=None, exclude=None):\n",
    "    mb = {'text/plain': repr(self)}\n",
    "    if bridge_cfg.auto_show: mb['text/html'] = self.__html__()\n",
    "    else: mb['text/markdown'] = self._repr_markdown_()\n",
    "    return mb"
   ]
  },
  {
   "cell_type": "code",
   "execution_count": null,
   "metadata": {},
   "outputs": [],
   "source": [
    "# #| exporti\n",
    "\n",
    "# @FC.patch\n",
    "# def _ipython_display_(self: FT):\n",
    "#     IDISPLAY(self._repr_mimebundle_(), raw=True)"
   ]
  },
  {
   "cell_type": "code",
   "execution_count": null,
   "metadata": {},
   "outputs": [
    {
     "data": {
      "text/markdown": [
       "```html\n",
       "<div>me too!</div>\n",
       "\n",
       "```"
      ],
      "text/plain": [
       "div(('me too!',),{})"
      ]
     },
     "execution_count": null,
     "metadata": {},
     "output_type": "execute_result"
    }
   ],
   "source": [
    "Div('me too!')"
   ]
  },
  {
   "cell_type": "code",
   "execution_count": null,
   "metadata": {},
   "outputs": [
    {
     "data": {
      "text/html": [
       "<div>But I&#x27;m prettier!</div>"
      ],
      "text/markdown": [
       "```html\n",
       "<div>But I&#x27;m prettier!</div>\n",
       "\n",
       "```"
      ],
      "text/plain": [
       "div((\"But I'm prettier!\",),{})"
      ]
     },
     "metadata": {},
     "output_type": "display_data"
    }
   ],
   "source": [
    "with bridge_cfg(auto_show=True):\n",
    "    display(Div(\"But I'm prettier!\"))"
   ]
  },
  {
   "cell_type": "code",
   "execution_count": null,
   "metadata": {},
   "outputs": [
    {
     "data": {
      "text/markdown": [
       "```html\n",
       "<div>back to tags!</div>\n",
       "\n",
       "```"
      ],
      "text/plain": [
       "div(('back to tags!',),{})"
      ]
     },
     "execution_count": null,
     "metadata": {},
     "output_type": "execute_result"
    }
   ],
   "source": [
    "Div('back to tags!')"
   ]
  },
  {
   "cell_type": "code",
   "execution_count": null,
   "metadata": {},
   "outputs": [
    {
     "data": {
      "text/html": [
       "<details open><summary>dddd</summary><pre>eeee</pre></details>"
      ],
      "text/markdown": [
       "```html\n",
       "<details open><summary>dddd</summary><pre>eeee</pre></details>\n",
       "```"
      ],
      "text/plain": [
       "details((summary(('dddd',),{}), pre(('eeee',),{})),{'open': True})"
      ]
     },
     "execution_count": null,
     "metadata": {},
     "output_type": "execute_result"
    }
   ],
   "source": [
    "bridge_cfg.auto_show = True\n",
    "ft.Details(open=True)(ft.Summary('dddd'), ft.Pre('eeee'))"
   ]
  },
  {
   "cell_type": "code",
   "execution_count": null,
   "metadata": {},
   "outputs": [
    {
     "data": {
      "text/markdown": [
       "```html\n",
       "<button>ffff</button>\n",
       "```"
      ],
      "text/plain": [
       "button(('ffff',),{})"
      ]
     },
     "metadata": {},
     "output_type": "display_data"
    },
    {
     "data": {
      "text/html": [
       "<button>ffff</button>"
      ],
      "text/markdown": [
       "```html\n",
       "<button>ffff</button>\n",
       "```"
      ],
      "text/plain": [
       "button(('ffff',),{})"
      ]
     },
     "execution_count": null,
     "metadata": {},
     "output_type": "execute_result"
    }
   ],
   "source": [
    "with bridge_cfg(auto_show=False): display(ft.Button('ffff'))\n",
    "ft.Button('ffff')"
   ]
  },
  {
   "cell_type": "markdown",
   "metadata": {},
   "source": [
    "Revert to FT usual."
   ]
  },
  {
   "cell_type": "code",
   "execution_count": null,
   "metadata": {},
   "outputs": [],
   "source": [
    "del FT._repr_mimebundle_  # type: ignore"
   ]
  },
  {
   "cell_type": "code",
   "execution_count": null,
   "metadata": {},
   "outputs": [
    {
     "data": {
      "text/markdown": [
       "```html\n",
       "<div>I&#x27;m a Div!</div>\n",
       "\n",
       "```"
      ],
      "text/plain": [
       "div((\"I'm a Div!\",),{})"
      ]
     },
     "execution_count": null,
     "metadata": {},
     "output_type": "execute_result"
    }
   ],
   "source": [
    "Div(\"I'm a Div!\")"
   ]
  },
  {
   "cell_type": "markdown",
   "metadata": {},
   "source": [
    "# FastHTML Jupyter display\n",
    "\n",
    "Opt-in to display FastHTML objects in the notebook as HTML instead of the default markdown `repr`.\n",
    "\n",
    ":::{.callout-warning    }\n",
    "Note recent FastHTML [v0.9.0](https://github.com/AnswerDotAI/fasthtml/releases/tag/0.9.0) has improved Jupyter support substancially and now have this same functionality (with `render_ft`, in v0.9.1 on by default).\n",
    "\n",
    "Unfortunately, current implementation doesn't work in VSCode/Cursor and probably any other Jupyter-ish environment that sandbox notebook outputs.\n",
    "\n",
    "In VSCode/Cursor besides that, `render_ft` doesn't work as expected, as Quarto renders markdown in a static shadow-root.\n",
    ":::\n"
   ]
  },
  {
   "cell_type": "markdown",
   "metadata": {},
   "source": [
    "## Patching FastHTML jupyter to work in VSCode"
   ]
  },
  {
   "cell_type": "code",
   "execution_count": null,
   "metadata": {},
   "outputs": [],
   "source": [
    "#| exporti\n",
    "\n",
    "def htmx_config_port(host='localhost', port=8000):\n",
    "    display(HTML('''\n",
    "<script>\n",
    "document.body.addEventListener('htmx:configRequest', (event) => {\n",
    "    if(event.detail.path.includes('://')) return;\n",
    "    htmx.config.selfRequestsOnly=false;\n",
    "    event.detail.path = `http://%s:%s${event.detail.path}`;\n",
    "});\n",
    "</script>''' % (host, port)))"
   ]
  },
  {
   "cell_type": "code",
   "execution_count": null,
   "metadata": {},
   "outputs": [],
   "source": [
    "#| export\n",
    "\n",
    "class JupyUviB(JupyUvi):\n",
    "    \"Start and stop a Jupyter compatible uvicorn server with ASGI `app` on `port` with `log_level`\"\n",
    "    def __init__(self, app, log_level=\"error\", host='0.0.0.0', port=8000, start=True, **kwargs):\n",
    "        self.kwargs = kwargs\n",
    "        FC.store_attr(but='start')\n",
    "        self.server = None\n",
    "        if start: self.start()\n",
    "        htmx_config_port(host, port)"
   ]
  },
  {
   "cell_type": "code",
   "execution_count": null,
   "metadata": {},
   "outputs": [
    {
     "data": {
      "text/html": [
       "\n",
       "<script>\n",
       "document.body.addEventListener('htmx:configRequest', (event) => {\n",
       "    if(event.detail.path.includes('://')) return;\n",
       "    htmx.config.selfRequestsOnly=false;\n",
       "    event.detail.path = `http://0.0.0.0:8000${event.detail.path}`;\n",
       "});\n",
       "</script>"
      ],
      "text/plain": [
       "<IPython.core.display.HTML object>"
      ]
     },
     "metadata": {},
     "output_type": "display_data"
    }
   ],
   "source": [
    "# type: ignore\n",
    "\n",
    "app = FastHTML()\n",
    "rt = app.route\n",
    "\n",
    "@app.route\n",
    "def index(): return 'hi'\n",
    "\n",
    "port = 8000\n",
    "server = JupyUviB(app, port=port)"
   ]
  },
  {
   "cell_type": "code",
   "execution_count": null,
   "metadata": {},
   "outputs": [
    {
     "data": {
      "text/plain": [
       "'hi'"
      ]
     },
     "execution_count": null,
     "metadata": {},
     "output_type": "execute_result"
    }
   ],
   "source": [
    "get(f'http://localhost:{port}').text"
   ]
  },
  {
   "cell_type": "code",
   "execution_count": null,
   "metadata": {},
   "outputs": [],
   "source": [
    "fh_cfg['auto_id']=True"
   ]
  },
  {
   "cell_type": "code",
   "execution_count": null,
   "metadata": {},
   "outputs": [],
   "source": [
    "show(Script(src='https://unpkg.com/htmx.org@2.0.4/dist/htmx.js'), fhjsscr, scopesrc, surrsrc)\n",
    "clear_output()"
   ]
  },
  {
   "cell_type": "code",
   "execution_count": null,
   "metadata": {},
   "outputs": [],
   "source": [
    "display(Javascript('''\n",
    "if (window.htmx) htmx.process(document.body);\n",
    "'''))\n",
    "clear_output()"
   ]
  },
  {
   "cell_type": "code",
   "execution_count": null,
   "metadata": {},
   "outputs": [],
   "source": [
    "#| exporti\n",
    "\n",
    "def render_ft():\n",
    "    try: del FT._repr_mimebundle_  # type: ignore  # undo our patch to allow FastHTML Jupyter to work as intended\n",
    "    except Exception: pass\n",
    "    @FC.patch\n",
    "    def _repr_html_(self:FT): \n",
    "        return to_xml(\n",
    "            (Div(self), \n",
    "            Script('if (window.htmx) htmx.process(document.body)'))\n",
    "        )"
   ]
  },
  {
   "cell_type": "code",
   "execution_count": null,
   "metadata": {},
   "outputs": [],
   "source": [
    "render_ft()"
   ]
  },
  {
   "cell_type": "markdown",
   "metadata": {},
   "source": [
    "After importing `fasthtml.jupyter` and calling `render_ft()`, FT components render directly in the notebook."
   ]
  },
  {
   "cell_type": "code",
   "execution_count": null,
   "metadata": {},
   "outputs": [
    {
     "data": {
      "text/html": [
       "<div id=\"_4pnxwBWjQBqCqSsjmSM0Zw\">\n",
       "  <div id=\"_TH2OMe7pSTivDZZy0oK8oQ\">Cogito ergo sum</div>\n",
       "</div>\n",
       "<script id=\"_k2gZF6T5Rx6oMDcxfbjOvw\">if (window.htmx) htmx.process(document.body)</script>"
      ],
      "text/markdown": [
       "```html\n",
       "<div id=\"_TH2OMe7pSTivDZZy0oK8oQ\">Cogito ergo sum</div>\n",
       "\n",
       "```"
      ],
      "text/plain": [
       "div(('Cogito ergo sum',),{'id': '_TH2OMe7pSTivDZZy0oK8oQ'})"
      ]
     },
     "execution_count": null,
     "metadata": {},
     "output_type": "execute_result"
    }
   ],
   "source": [
    "(c := Div('Cogito ergo sum'))"
   ]
  },
  {
   "cell_type": "markdown",
   "metadata": {},
   "source": [
    "Handlers are written just like a regular web app:"
   ]
  },
  {
   "cell_type": "code",
   "execution_count": null,
   "metadata": {},
   "outputs": [],
   "source": [
    "# type: ignore\n",
    "\n",
    "@rt\n",
    "def hoho(): return P('loaded!'), Div('hee hee', id=c, hx_swap_oob='true')"
   ]
  },
  {
   "cell_type": "markdown",
   "metadata": {},
   "source": [
    "All the usual `hx_*` attributes can be used:"
   ]
  },
  {
   "cell_type": "code",
   "execution_count": null,
   "metadata": {},
   "outputs": [
    {
     "data": {
      "text/html": [
       "<div id=\"_HwGoOj59R4uoK0JGwGkNuw\">\n",
       "  <p hx-get=\"/hoho\" hx-trigger=\"load\" id=\"_TGVaOXcITIyBr3RQnQ9fSA\">not loaded</p>\n",
       "</div>\n",
       "<script id=\"_sVEgiKF4QiGMaGaPIyKYxQ\">if (window.htmx) htmx.process(document.body)</script>"
      ],
      "text/markdown": [
       "```html\n",
       "<p hx-get=\"/hoho\" hx-trigger=\"load\" id=\"_TGVaOXcITIyBr3RQnQ9fSA\">not loaded</p>\n",
       "\n",
       "```"
      ],
      "text/plain": [
       "p(('not loaded',),{'hx-get': <fasthtml.core._mk_locfunc.<locals>._lf object at 0x12fdb48c0>, 'hx-trigger': 'load', 'id': '_TGVaOXcITIyBr3RQnQ9fSA'})"
      ]
     },
     "execution_count": null,
     "metadata": {},
     "output_type": "execute_result"
    }
   ],
   "source": [
    "P('not loaded', hx_get=hoho, hx_trigger='load')  # type: ignore"
   ]
  },
  {
   "cell_type": "markdown",
   "metadata": {},
   "source": [
    "FT components can be used directly both as `id` values and as `hx_target` values."
   ]
  },
  {
   "cell_type": "code",
   "execution_count": null,
   "metadata": {},
   "outputs": [
    {
     "data": {
      "text/html": [
       "<div id=\"_oKcCbslYSBiBektoGHuycQ\">\n",
       "  <div id=\"_gLwiBHYAQBGmswlnV1jo7w\"></div>\n",
       "</div>\n",
       "<script id=\"_jG7PmpzeQkS9YH1E0H97fA\">if (window.htmx) htmx.process(document.body)</script>"
      ],
      "text/markdown": [
       "```html\n",
       "<div id=\"_gLwiBHYAQBGmswlnV1jo7w\"></div>\n",
       "\n",
       "```"
      ],
      "text/plain": [
       "div(('',),{'id': '_gLwiBHYAQBGmswlnV1jo7w'})"
      ]
     },
     "execution_count": null,
     "metadata": {},
     "output_type": "execute_result"
    }
   ],
   "source": [
    "(c := Div(''))"
   ]
  },
  {
   "cell_type": "code",
   "execution_count": null,
   "metadata": {},
   "outputs": [
    {
     "data": {
      "text/html": [
       "<div id=\"_VVS3PWlmRoaxCAkTVt_uvQ\">\n",
       "  <p hx-get=\"/foo\" hx-trigger=\"load\" hx-target=\"#_gLwiBHYAQBGmswlnV1jo7w\" id=\"_CsPK9oVoRKGjHcdk37mPIg\">hi</p>\n",
       "</div>\n",
       "<script id=\"_7qxTOpl2Sfa6sC7BVNolJQ\">if (window.htmx) htmx.process(document.body)</script>"
      ],
      "text/markdown": [
       "```html\n",
       "<p hx-get=\"/foo\" hx-trigger=\"load\" hx-target=\"#_gLwiBHYAQBGmswlnV1jo7w\" id=\"_CsPK9oVoRKGjHcdk37mPIg\">hi</p>\n",
       "\n",
       "```"
      ],
      "text/plain": [
       "p(('hi',),{'hx-get': <fasthtml.core._mk_locfunc.<locals>._lf object at 0x12faf77a0>, 'hx-trigger': 'load', 'hx-target': '#_gLwiBHYAQBGmswlnV1jo7w', 'id': '_CsPK9oVoRKGjHcdk37mPIg'})"
      ]
     },
     "execution_count": null,
     "metadata": {},
     "output_type": "execute_result"
    }
   ],
   "source": [
    "# type: ignore\n",
    "\n",
    "@rt\n",
    "def foo(): return Div('foo bar')\n",
    "\n",
    "P('hi', hx_get=foo, hx_trigger='load', hx_target=c)"
   ]
  },
  {
   "cell_type": "markdown",
   "metadata": {},
   "source": [
    "## Stop server\n",
    "----"
   ]
  },
  {
   "cell_type": "code",
   "execution_count": null,
   "metadata": {},
   "outputs": [],
   "source": [
    "server.stop()"
   ]
  },
  {
   "cell_type": "markdown",
   "metadata": {},
   "source": [
    "----\n"
   ]
  },
  {
   "cell_type": "markdown",
   "metadata": {},
   "source": [
    "# Colophon\n",
    "----\n"
   ]
  },
  {
   "cell_type": "code",
   "execution_count": null,
   "metadata": {},
   "outputs": [],
   "source": [
    "import fastcore.all as FC\n",
    "import nbdev\n",
    "from nbdev.clean import nbdev_clean"
   ]
  },
  {
   "cell_type": "code",
   "execution_count": null,
   "metadata": {},
   "outputs": [],
   "source": [
    "if FC.IN_NOTEBOOK:\n",
    "    nb_path = '03_fasthtml_patching.ipynb'\n",
    "    nbdev_clean(nb_path)\n",
    "    nbdev.nbdev_export(nb_path)"
   ]
  }
 ],
 "metadata": {
  "kernelspec": {
   "display_name": "python3",
   "language": "python",
   "name": "python3"
  }
 },
 "nbformat": 4,
 "nbformat_minor": 4
}
