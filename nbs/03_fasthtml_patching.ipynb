{
 "cells": [
  {
   "cell_type": "code",
   "execution_count": 1,
   "metadata": {
    "brd": {
     "id": "cb4bc06b-2bc8-43eb-bcce-e6a95dd3b8db"
    }
   },
   "outputs": [],
   "source": [
    "#| default_exp fasthtml_patching"
   ]
  },
  {
   "cell_type": "code",
   "execution_count": 2,
   "metadata": {
    "brd": {
     "id": "bce0de4f-fe3a-4e25-b20b-1394353246cc"
    }
   },
   "outputs": [],
   "source": [
    "#| export\n",
    "from __future__ import annotations"
   ]
  },
  {
   "cell_type": "markdown",
   "metadata": {},
   "source": [
    "# fasthtml patching\n",
    "> Monkey-patching some fasthtml features/issues while waiting to submit the corresponding PRs."
   ]
  },
  {
   "cell_type": "markdown",
   "metadata": {},
   "source": [
    "# Prologue"
   ]
  },
  {
   "cell_type": "code",
   "execution_count": 3,
   "metadata": {
    "brd": {
     "id": "4c68bbc2-6414-4cbe-9187-feb6256577e0"
    }
   },
   "outputs": [],
   "source": [
    "#| export\n",
    "import fastcore.all as FC\n",
    "from fastcore.xml import to_xml\n",
    "from fasthtml.components import Div\n",
    "from fasthtml.core import FT\n",
    "from fasthtml.jupyter import JupyUvi\n",
    "from fasthtml.xtend import Script\n",
    "from IPython.display import display\n",
    "from IPython.display import HTML\n"
   ]
  },
  {
   "cell_type": "code",
   "execution_count": 4,
   "metadata": {
    "brd": {
     "id": "d26a9934-24c1-4bfe-ad4d-4a9507380d32"
    }
   },
   "outputs": [],
   "source": [
    "#| export\n",
    "from bridget.helpers import bridge_cfg\n"
   ]
  },
  {
   "cell_type": "code",
   "execution_count": 5,
   "metadata": {
    "brd": {
     "id": "5afdad02-3d0a-48bd-a9bd-66b22ab43150"
    }
   },
   "outputs": [],
   "source": [
    "import fasthtml.components as ft\n",
    "from fastcore.test import *\n",
    "from fasthtml.components import highlight\n",
    "from fasthtml.components import show\n",
    "from fasthtml.components import showtags\n",
    "from fasthtml.core import FastHTML\n",
    "from fasthtml.core import fh_cfg\n",
    "from fasthtml.core import fhjsscr\n",
    "from fasthtml.core import scopesrc\n",
    "from fasthtml.core import surrsrc\n",
    "from httpx import get\n",
    "from IPython.display import clear_output\n",
    "from IPython.display import Javascript\n",
    "from IPython.display import Markdown\n",
    "from olio.common import setup_console\n"
   ]
  },
  {
   "cell_type": "code",
   "execution_count": 6,
   "metadata": {
    "brd": {
     "id": "43518713-0802-4ef5-a37f-1c8c6eae0f18"
    }
   },
   "outputs": [],
   "source": [
    "from fasthtml.components import P, Pre, Text, Span"
   ]
  },
  {
   "cell_type": "markdown",
   "metadata": {},
   "source": [
    "----\n"
   ]
  },
  {
   "cell_type": "code",
   "execution_count": 7,
   "metadata": {
    "brd": {
     "id": "9ea9b67c-e626-4bef-8976-46e0f7757a2d"
    }
   },
   "outputs": [],
   "source": [
    "console, cprint = setup_console(140)"
   ]
  },
  {
   "cell_type": "markdown",
   "metadata": {},
   "source": [
    "----"
   ]
  },
  {
   "cell_type": "markdown",
   "metadata": {},
   "source": [
    "# FastHTML Bridge display\n",
    "\n",
    "1. This functionality patches FastHTML's IPython display system\n",
    "3. This implementation:\n",
    "   - Overrides all FT IPython MIME methods\n",
    "   - Uses `bridge_cfg.auto_show` for display opt-in\n",
    "\n",
    "This is a convenience and not core of this proof-of-concept notebooks."
   ]
  },
  {
   "cell_type": "code",
   "execution_count": 8,
   "metadata": {
    "brd": {
     "id": "66163c3d-6807-45db-aa40-f18fb89816ae"
    }
   },
   "outputs": [],
   "source": [
    "fh_cfg['auto_id'] = False\n",
    "bridge_cfg.auto_show=False"
   ]
  },
  {
   "cell_type": "code",
   "execution_count": 9,
   "metadata": {
    "brd": {
     "id": "e8e425eb-f22d-44e6-baf0-c0499e8d1ac0"
    }
   },
   "outputs": [
    {
     "name": "stdout",
     "output_type": "stream",
     "text": [
      "d: \n",
      "<div hx-trigger=\"click\" style=\"color: red;\"><text>Hi!</text></div>\n"
     ]
    },
    {
     "data": {
      "text/markdown": [
       "----"
      ],
      "text/plain": [
       "<IPython.core.display.Markdown object>"
      ]
     },
     "metadata": {},
     "output_type": "display_data"
    },
    {
     "name": "stdout",
     "output_type": "stream",
     "text": [
      "showtags(d): \n",
      "<code><pre>\n",
      "&lt;div hx-trigger=&quot;click&quot; style=&quot;color: red;&quot;&gt;\n",
      "&lt;text&gt;Hi!&lt;/text&gt;&lt;/div&gt;\n",
      "\n",
      "</code></pre>\n"
     ]
    },
    {
     "data": {
      "text/markdown": [
       "----"
      ],
      "text/plain": [
       "<IPython.core.display.Markdown object>"
      ]
     },
     "metadata": {},
     "output_type": "display_data"
    },
    {
     "data": {
      "text/markdown": [
       "```html\n",
       "<div hx-trigger=\"click\" style=\"color: red;\">\n",
       "<text>Hi!</text></div>\n",
       "\n",
       "```\n",
       "----"
      ],
      "text/plain": [
       "<IPython.core.display.Markdown object>"
      ]
     },
     "metadata": {},
     "output_type": "display_data"
    },
    {
     "data": {
      "text/html": [
       "<div hx-trigger=\"click\" style=\"color: red;\">\n",
       "<text>Hi!</text></div>\n"
      ],
      "text/plain": [
       "<IPython.core.display.HTML object>"
      ]
     },
     "metadata": {},
     "output_type": "display_data"
    }
   ],
   "source": [
    "d = Div(style='color: red;', hx_trigger='click')(Text('Hi!'))\n",
    "print(f\"d: \\n{d}\"); display(Markdown('----'))\n",
    "print(f\"showtags(d): \\n{showtags(d)}\"); display(Markdown('----'))\n",
    "display(Markdown(highlight(d)+'\\n----'))\n",
    "show(d)"
   ]
  },
  {
   "cell_type": "code",
   "execution_count": 10,
   "metadata": {
    "brd": {
     "id": "ba66ec53-7e91-4225-b6e7-6056e8b8354b"
    }
   },
   "outputs": [
    {
     "data": {
      "text/markdown": [
       "```html\n",
       "<div>I&#x27;m a Div!</div>\n",
       "\n",
       "```"
      ],
      "text/plain": [
       "div((\"I'm a Div!\",),{})"
      ]
     },
     "execution_count": 10,
     "metadata": {},
     "output_type": "execute_result"
    }
   ],
   "source": [
    "Div(\"I'm a Div!\")"
   ]
  },
  {
   "cell_type": "code",
   "execution_count": 11,
   "metadata": {
    "brd": {
     "id": "e0de5a32-e91f-4fa3-9555-331f48ed6e2d"
    }
   },
   "outputs": [],
   "source": [
    "#| exporti\n",
    "\n",
    "@FC.patch\n",
    "def _repr_mimebundle_(self: FT, include=None, exclude=None):\n",
    "    mb = {'text/plain': repr(self)}\n",
    "    if bridge_cfg.auto_show: mb['text/html'] = self.__html__()\n",
    "    else: mb['text/markdown'] = self._repr_markdown_()\n",
    "    return mb"
   ]
  },
  {
   "cell_type": "code",
   "execution_count": 12,
   "metadata": {
    "brd": {
     "id": "0ba881d6-053f-42a9-9dd0-793b4635f581",
     "renderer": false
    }
   },
   "outputs": [],
   "source": [
    "# #| exporti\n",
    "\n",
    "# @FC.patch\n",
    "# def _ipython_display_(self: FT):\n",
    "#     IDISPLAY(self._repr_mimebundle_(), raw=True)"
   ]
  },
  {
   "cell_type": "code",
   "execution_count": 13,
   "metadata": {
    "brd": {
     "id": "85bee369-f6a7-43d0-9dc7-3b64da23185d"
    }
   },
   "outputs": [
    {
     "data": {
      "text/markdown": [
       "```html\n",
       "<div>me too!</div>\n",
       "\n",
       "```"
      ],
      "text/plain": [
       "div(('me too!',),{})"
      ]
     },
     "execution_count": 13,
     "metadata": {},
     "output_type": "execute_result"
    }
   ],
   "source": [
    "Div('me too!')"
   ]
  },
  {
   "cell_type": "code",
   "execution_count": 14,
   "metadata": {
    "brd": {
     "id": "4af6ba21-8701-4f54-965b-e7c6e08b8972"
    }
   },
   "outputs": [
    {
     "data": {
      "text/html": [
       "<div>But I&#x27;m prettier!</div>"
      ],
      "text/markdown": [
       "```html\n",
       "<div>But I&#x27;m prettier!</div>\n",
       "\n",
       "```"
      ],
      "text/plain": [
       "div((\"But I'm prettier!\",),{})"
      ]
     },
     "metadata": {},
     "output_type": "display_data"
    }
   ],
   "source": [
    "with bridge_cfg(auto_show=True):\n",
    "    display(Div(\"But I'm prettier!\"))"
   ]
  },
  {
   "cell_type": "code",
   "execution_count": 15,
   "metadata": {
    "brd": {
     "id": "aaec4be9-fc4e-47e7-8c42-b88a30afde95"
    }
   },
   "outputs": [
    {
     "data": {
      "text/markdown": [
       "```html\n",
       "<div>back to tags!</div>\n",
       "\n",
       "```"
      ],
      "text/plain": [
       "div(('back to tags!',),{})"
      ]
     },
     "execution_count": 15,
     "metadata": {},
     "output_type": "execute_result"
    }
   ],
   "source": [
    "Div('back to tags!')"
   ]
  },
  {
   "cell_type": "code",
   "execution_count": 16,
   "metadata": {
    "brd": {
     "id": "987c312d-e6f7-41a0-98ee-73d7f8504594"
    }
   },
   "outputs": [
    {
     "data": {
      "text/html": [
       "<details open><summary>dddd</summary><pre>eeee</pre></details>"
      ],
      "text/markdown": [
       "```html\n",
       "<details open><summary>dddd</summary><pre>eeee</pre></details>\n",
       "```"
      ],
      "text/plain": [
       "details((summary(('dddd',),{}), pre(('eeee',),{})),{'open': True})"
      ]
     },
     "execution_count": 16,
     "metadata": {},
     "output_type": "execute_result"
    }
   ],
   "source": [
    "bridge_cfg.auto_show = True\n",
    "ft.Details(open=True)(ft.Summary('dddd'), ft.Pre('eeee'))"
   ]
  },
  {
   "cell_type": "code",
   "execution_count": 17,
   "metadata": {
    "brd": {
     "id": "d79fb785-557e-4775-a32a-a912152b6406"
    }
   },
   "outputs": [
    {
     "data": {
      "text/markdown": [
       "```html\n",
       "<button>ffff</button>\n",
       "```"
      ],
      "text/plain": [
       "button(('ffff',),{})"
      ]
     },
     "metadata": {},
     "output_type": "display_data"
    },
    {
     "data": {
      "text/html": [
       "<button>ffff</button>"
      ],
      "text/markdown": [
       "```html\n",
       "<button>ffff</button>\n",
       "```"
      ],
      "text/plain": [
       "button(('ffff',),{})"
      ]
     },
     "execution_count": 17,
     "metadata": {},
     "output_type": "execute_result"
    }
   ],
   "source": [
    "with bridge_cfg(auto_show=False): display(ft.Button('ffff'))\n",
    "ft.Button('ffff')"
   ]
  },
  {
   "cell_type": "markdown",
   "metadata": {},
   "source": [
    "Revert to FT usual."
   ]
  },
  {
   "cell_type": "code",
   "execution_count": 18,
   "metadata": {
    "brd": {
     "id": "2eee0cee-a5bd-4075-a110-e193feefe1f9"
    }
   },
   "outputs": [],
   "source": [
    "del FT._repr_mimebundle_  # type: ignore"
   ]
  },
  {
   "cell_type": "code",
   "execution_count": 19,
   "metadata": {
    "brd": {
     "id": "c4600498-7fdd-4ad8-b15f-3a2f8795ac5b"
    }
   },
   "outputs": [
    {
     "data": {
      "text/markdown": [
       "```html\n",
       "<div>I&#x27;m a Div!</div>\n",
       "\n",
       "```"
      ],
      "text/plain": [
       "div((\"I'm a Div!\",),{})"
      ]
     },
     "execution_count": 19,
     "metadata": {},
     "output_type": "execute_result"
    }
   ],
   "source": [
    "Div(\"I'm a Div!\")"
   ]
  },
  {
   "cell_type": "markdown",
   "metadata": {},
   "source": [
    "# FastHTML Jupyter display\n",
    "\n",
    "Opt-in to display FastHTML objects in the notebook as HTML instead of the default markdown `repr`.\n",
    "\n",
    ":::{.callout-warning    }\n",
    "Note recent FastHTML [v0.9.0](https://github.com/AnswerDotAI/fasthtml/releases/tag/0.9.0) has improved Jupyter support substancially and now have this same functionality (with `render_ft`, in v0.9.1 on by default).\n",
    "\n",
    "Unfortunately, current implementation doesn't work in VSCode/Cursor and probably any other Jupyter-ish environment that sandbox notebook outputs.\n",
    "\n",
    "In VSCode/Cursor besides that, `render_ft` doesn't work as expected, as Quarto renders markdown in a static shadow-root.\n",
    ":::\n"
   ]
  },
  {
   "cell_type": "markdown",
   "metadata": {},
   "source": [
    "## Patching FastHTML jupyter to work in VSCode"
   ]
  },
  {
   "cell_type": "code",
   "execution_count": 20,
   "metadata": {
    "brd": {
     "id": "9230184e-659e-4467-b7dc-405f3fd80f61"
    }
   },
   "outputs": [],
   "source": [
    "#| exporti\n",
    "\n",
    "def htmx_config_port(host='localhost', port=8000):\n",
    "    display(HTML('''\n",
    "<script>\n",
    "document.body.addEventListener('htmx:configRequest', (event) => {\n",
    "    if(event.detail.path.includes('://')) return;\n",
    "    htmx.config.selfRequestsOnly=false;\n",
    "    event.detail.path = `http://%s:%s${event.detail.path}`;\n",
    "});\n",
    "</script>''' % (host, port)))"
   ]
  },
  {
   "cell_type": "code",
   "execution_count": 21,
   "metadata": {
    "brd": {
     "id": "adefb7ae-c781-4b7c-97bb-c203070f91ad"
    }
   },
   "outputs": [],
   "source": [
    "#| export\n",
    "\n",
    "class JupyUviB(JupyUvi):\n",
    "    \"Start and stop a Jupyter compatible uvicorn server with ASGI `app` on `port` with `log_level`\"\n",
    "    def __init__(self, app, log_level=\"error\", host='0.0.0.0', port=8000, start=True, **kwargs):\n",
    "        self.kwargs = kwargs\n",
    "        FC.store_attr(but='start')\n",
    "        self.server = None\n",
    "        if start: self.start()\n",
    "        htmx_config_port(host, port)"
   ]
  },
  {
   "cell_type": "code",
   "execution_count": 22,
   "metadata": {
    "brd": {
     "id": "fc66dc74-4c30-4755-a5e9-8d597dc4b6aa"
    }
   },
   "outputs": [
    {
     "data": {
      "text/html": [
       "\n",
       "<script>\n",
       "document.body.addEventListener('htmx:configRequest', (event) => {\n",
       "    if(event.detail.path.includes('://')) return;\n",
       "    htmx.config.selfRequestsOnly=false;\n",
       "    event.detail.path = `http://0.0.0.0:8000${event.detail.path}`;\n",
       "});\n",
       "</script>"
      ],
      "text/plain": [
       "<IPython.core.display.HTML object>"
      ]
     },
     "metadata": {},
     "output_type": "display_data"
    }
   ],
   "source": [
    "# type: ignore\n",
    "\n",
    "app = FastHTML()\n",
    "rt = app.route\n",
    "\n",
    "@app.route\n",
    "def index(): return 'hi'\n",
    "\n",
    "port = 8000\n",
    "server = JupyUviB(app, port=port)"
   ]
  },
  {
   "cell_type": "code",
   "execution_count": 23,
   "metadata": {
    "brd": {
     "id": "a5e6d2a7-afa7-4d80-ab0e-93f6d1f5ad19"
    }
   },
   "outputs": [
    {
     "data": {
      "text/plain": [
       "'hi'"
      ]
     },
     "execution_count": 23,
     "metadata": {},
     "output_type": "execute_result"
    }
   ],
   "source": [
    "get(f'http://localhost:{port}').text"
   ]
  },
  {
   "cell_type": "code",
   "execution_count": 24,
   "metadata": {
    "brd": {
     "id": "e10e1177-4367-4b80-bf5e-45083dc50ee5"
    }
   },
   "outputs": [],
   "source": [
    "fh_cfg['auto_id']=True"
   ]
  },
  {
   "cell_type": "code",
   "execution_count": null,
   "metadata": {
    "brd": {
     "id": "d9e6f9af-61d8-44cb-81a8-6705fbf01da9"
    }
   },
   "outputs": [],
   "source": [
    "show(Script(src='https://unpkg.com/htmx.org@2.0.4/dist/htmx.js'), fhjsscr, scopesrc, surrsrc)\n",
    "clear_output()"
   ]
  },
  {
   "cell_type": "code",
   "execution_count": null,
   "metadata": {
    "brd": {
     "id": "55155b67-8b0a-4583-bdfd-6f725ec44475"
    }
   },
   "outputs": [],
   "source": [
    "display(Javascript('''\n",
    "if (window.htmx) htmx.process(document.body);\n",
    "'''))\n",
    "clear_output()"
   ]
  },
  {
   "cell_type": "code",
   "execution_count": 27,
   "metadata": {
    "brd": {
     "id": "4528d93d-4e37-4708-ba81-81587ce86533"
    }
   },
   "outputs": [],
   "source": [
    "#| exporti\n",
    "\n",
    "def render_ft():\n",
    "    try: del FT._repr_mimebundle_  # type: ignore  # undo our patch to allow FastHTML Jupyter to work as intended\n",
    "    except Exception: pass\n",
    "    @FC.patch\n",
    "    def _repr_html_(self:FT): \n",
    "        return to_xml(\n",
    "            (Div(self), \n",
    "            Script('if (window.htmx) htmx.process(document.body)'))\n",
    "        )"
   ]
  },
  {
   "cell_type": "code",
   "execution_count": 28,
   "metadata": {
    "brd": {
     "id": "2cc3b097-1802-4067-ae99-762d75075e06"
    }
   },
   "outputs": [],
   "source": [
    "render_ft()"
   ]
  },
  {
   "cell_type": "markdown",
   "metadata": {},
   "source": [
    "After importing `fasthtml.jupyter` and calling `render_ft()`, FT components render directly in the notebook."
   ]
  },
  {
   "cell_type": "code",
   "execution_count": 29,
   "metadata": {
    "brd": {
     "id": "37e8dd78-7c29-450b-9141-760ba5375c76"
    }
   },
   "outputs": [
    {
     "data": {
      "text/html": [
       "<div id=\"_aeFTRXazRWm3ZXShmr1lCA\">\n",
       "  <div id=\"_vJLxvxx7Sp_yDxxj9T8G4g\">Cogito ergo sum</div>\n",
       "</div>\n",
       "<script id=\"_5IcoDoIRQ0ytjJtAGruFvw\">if (window.htmx) htmx.process(document.body)</script>"
      ],
      "text/markdown": [
       "```html\n",
       "<div id=\"_vJLxvxx7Sp_yDxxj9T8G4g\">Cogito ergo sum</div>\n",
       "\n",
       "```"
      ],
      "text/plain": [
       "div(('Cogito ergo sum',),{'id': '_vJLxvxx7Sp_yDxxj9T8G4g'})"
      ]
     },
     "execution_count": 29,
     "metadata": {},
     "output_type": "execute_result"
    }
   ],
   "source": [
    "(c := Div('Cogito ergo sum'))"
   ]
  },
  {
   "cell_type": "markdown",
   "metadata": {},
   "source": [
    "Handlers are written just like a regular web app:"
   ]
  },
  {
   "cell_type": "code",
   "execution_count": 30,
   "metadata": {
    "brd": {
     "id": "c26b08bd-6573-4302-9d5e-db563477bd21"
    }
   },
   "outputs": [],
   "source": [
    "# type: ignore\n",
    "\n",
    "@rt\n",
    "def hoho(): return P('loaded!'), Div('hee hee', id=c, hx_swap_oob='true')"
   ]
  },
  {
   "cell_type": "markdown",
   "metadata": {},
   "source": [
    "All the usual `hx_*` attributes can be used:"
   ]
  },
  {
   "cell_type": "code",
   "execution_count": 31,
   "metadata": {
    "brd": {
     "id": "bda140a8-589f-41d0-bbed-532010e95247"
    }
   },
   "outputs": [
    {
     "data": {
      "text/html": [
       "<div id=\"_dY57o-aMTBe0VoFTsbqipg\">\n",
       "  <p hx-get=\"/hoho\" hx-trigger=\"load\" id=\"_FgmThyaWTqW7x_tWVuojAg\">not loaded</p>\n",
       "</div>\n",
       "<script id=\"_pc3xY6T4T7SMh0z5zL5FtQ\">if (window.htmx) htmx.process(document.body)</script>"
      ],
      "text/markdown": [
       "```html\n",
       "<p hx-get=\"/hoho\" hx-trigger=\"load\" id=\"_FgmThyaWTqW7x_tWVuojAg\">not loaded</p>\n",
       "\n",
       "```"
      ],
      "text/plain": [
       "p(('not loaded',),{'hx-get': <fasthtml.core._mk_locfunc.<locals>._lf object at 0x1644f6f90>, 'hx-trigger': 'load', 'id': '_FgmThyaWTqW7x_tWVuojAg'})"
      ]
     },
     "execution_count": 31,
     "metadata": {},
     "output_type": "execute_result"
    }
   ],
   "source": [
    "P('not loaded', hx_get=hoho, hx_trigger='load')  # type: ignore"
   ]
  },
  {
   "cell_type": "markdown",
   "metadata": {},
   "source": [
    "FT components can be used directly both as `id` values and as `hx_target` values."
   ]
  },
  {
   "cell_type": "code",
   "execution_count": 32,
   "metadata": {
    "brd": {
     "id": "0205d461-53dc-4c8f-9d67-cf0cd6d11a1c"
    }
   },
   "outputs": [
    {
     "data": {
      "text/html": [
       "<div id=\"_bCC9BhX_RVqoF8EscnvS1w\">\n",
       "  <div id=\"_LnBkdZFJTIuysLH2XlYB5Q\"></div>\n",
       "</div>\n",
       "<script id=\"_jrOuab9aRXeH6jhWP1gIVQ\">if (window.htmx) htmx.process(document.body)</script>"
      ],
      "text/markdown": [
       "```html\n",
       "<div id=\"_LnBkdZFJTIuysLH2XlYB5Q\"></div>\n",
       "\n",
       "```"
      ],
      "text/plain": [
       "div(('',),{'id': '_LnBkdZFJTIuysLH2XlYB5Q'})"
      ]
     },
     "execution_count": 32,
     "metadata": {},
     "output_type": "execute_result"
    }
   ],
   "source": [
    "(c := Div(''))"
   ]
  },
  {
   "cell_type": "code",
   "execution_count": 33,
   "metadata": {
    "brd": {
     "id": "b8c30d77-26a2-45e2-a1c6-0897366e39d1"
    }
   },
   "outputs": [
    {
     "data": {
      "text/html": [
       "<div id=\"_xkMxpE8gSEOhUrQ88bSH9Q\">\n",
       "  <p hx-get=\"/foo\" hx-trigger=\"load\" hx-target=\"#_LnBkdZFJTIuysLH2XlYB5Q\" id=\"_LaaYY6XbTG2J4pZI1BHoTg\">hi</p>\n",
       "</div>\n",
       "<script id=\"_Q-3Z00jlTUqA0yHrW5v6uw\">if (window.htmx) htmx.process(document.body)</script>"
      ],
      "text/markdown": [
       "```html\n",
       "<p hx-get=\"/foo\" hx-trigger=\"load\" hx-target=\"#_LnBkdZFJTIuysLH2XlYB5Q\" id=\"_LaaYY6XbTG2J4pZI1BHoTg\">hi</p>\n",
       "\n",
       "```"
      ],
      "text/plain": [
       "p(('hi',),{'hx-get': <fasthtml.core._mk_locfunc.<locals>._lf object at 0x1644f7860>, 'hx-trigger': 'load', 'hx-target': '#_LnBkdZFJTIuysLH2XlYB5Q', 'id': '_LaaYY6XbTG2J4pZI1BHoTg'})"
      ]
     },
     "execution_count": 33,
     "metadata": {},
     "output_type": "execute_result"
    }
   ],
   "source": [
    "# type: ignore\n",
    "\n",
    "@rt\n",
    "def foo(): return Div('foo bar')\n",
    "\n",
    "P('hi', hx_get=foo, hx_trigger='load', hx_target=c)"
   ]
  },
  {
   "cell_type": "markdown",
   "metadata": {},
   "source": [
    "## Stop server\n",
    "----"
   ]
  },
  {
   "cell_type": "code",
   "execution_count": 34,
   "metadata": {
    "brd": {
     "id": "68283527-e931-4770-b8a5-4feb893bde49"
    }
   },
   "outputs": [],
   "source": [
    "server.stop()"
   ]
  },
  {
   "cell_type": "markdown",
   "metadata": {},
   "source": [
    "----\n"
   ]
  },
  {
   "cell_type": "markdown",
   "metadata": {},
   "source": [
    "# Colophon\n",
    "----\n"
   ]
  },
  {
   "cell_type": "code",
   "execution_count": 35,
   "metadata": {
    "brd": {
     "id": "0f1c7d0d-7caa-4b68-b849-ea390e6438a4"
    }
   },
   "outputs": [],
   "source": [
    "import fastcore.all as FC\n",
    "import nbdev\n",
    "from nbdev.clean import nbdev_clean"
   ]
  },
  {
   "cell_type": "code",
   "execution_count": 36,
   "metadata": {
    "brd": {
     "id": "61922c8d-e8c7-4a0d-b80f-72ec74f8060b"
    }
   },
   "outputs": [],
   "source": [
    "if FC.IN_NOTEBOOK:\n",
    "    nb_path = '03_fasthtml_patching.ipynb'\n",
    "    # nbdev_clean(nb_path)\n",
    "    nbdev.nbdev_export(nb_path)"
   ]
  }
 ],
 "metadata": {
  "kernelspec": {
   "display_name": "Python 3",
   "language": "python",
   "name": "python3"
  },
  "language_info": {
   "codemirror_mode": {
    "name": "ipython",
    "version": 3
   },
   "file_extension": ".py",
   "mimetype": "text/x-python",
   "name": "python",
   "nbconvert_exporter": "python",
   "pygments_lexer": "ipython3",
   "version": "3.12.11"
  }
 },
 "nbformat": 4,
 "nbformat_minor": 4
}
