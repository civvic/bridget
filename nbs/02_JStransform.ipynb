{
 "cells": [
  {
   "cell_type": "code",
   "execution_count": 1,
   "metadata": {
    "brd": {
     "id": "6b32554d-7d6a-4cb9-a3d1-ec293edc72c7"
    }
   },
   "outputs": [],
   "source": [
    "#| default_exp js_transform"
   ]
  },
  {
   "cell_type": "code",
   "execution_count": 2,
   "metadata": {
    "brd": {
     "id": "611a5365-2e45-4ae4-abb2-8029334aad1f"
    }
   },
   "outputs": [],
   "source": [
    "#| export\n",
    "from __future__ import annotations"
   ]
  },
  {
   "cell_type": "markdown",
   "metadata": {},
   "source": [
    "# Javascript transform\n",
    "\n",
    "Simple transform of Javascript code to replace static imports with dynamic imports."
   ]
  },
  {
   "cell_type": "markdown",
   "metadata": {},
   "source": [
    "# Prologue"
   ]
  },
  {
   "cell_type": "code",
   "execution_count": 3,
   "metadata": {
    "brd": {
     "id": "8e940bfd-b3c9-4c6c-abd9-3cf4ecdf939b"
    }
   },
   "outputs": [],
   "source": [
    "#| export\n",
    "\n",
    "import fastcore.all as FC\n",
    "import tree_sitter_javascript as tsjs\n",
    "from tree_sitter import Language\n",
    "from tree_sitter import Parser\n"
   ]
  },
  {
   "cell_type": "code",
   "execution_count": 4,
   "metadata": {
    "brd": {
     "id": "55c216dd-670d-41fc-8016-b6df93f834b9"
    }
   },
   "outputs": [],
   "source": [
    "from typing import Generator\n",
    "\n",
    "from fastcore.test import *\n",
    "from IPython.display import Markdown\n",
    "from olio.common import setup_console\n",
    "from tree_sitter import Node\n",
    "from tree_sitter import Tree\n"
   ]
  },
  {
   "cell_type": "markdown",
   "metadata": {},
   "source": [
    "----"
   ]
  },
  {
   "cell_type": "code",
   "execution_count": 5,
   "metadata": {
    "brd": {
     "id": "a712423a-3237-487d-b9d8-d4a7ef442d2d"
    }
   },
   "outputs": [],
   "source": [
    "IDISPLAY = display\n",
    "_n = '\\n'\n",
    "console, cprint = setup_console(140)"
   ]
  },
  {
   "cell_type": "markdown",
   "metadata": {},
   "source": [
    "----\n",
    "# tree-sitter stuff"
   ]
  },
  {
   "cell_type": "code",
   "execution_count": 6,
   "metadata": {
    "brd": {
     "id": "8457dcbb-c168-410b-a176-346e1492f75d"
    }
   },
   "outputs": [
    {
     "data": {
      "text/plain": [
       "36"
      ]
     },
     "execution_count": 6,
     "metadata": {},
     "output_type": "execute_result"
    }
   ],
   "source": [
    "JS_LANGUAGE = Language(tsjs.language())\n",
    "JS_LANGUAGE.field_count"
   ]
  },
  {
   "cell_type": "code",
   "execution_count": 7,
   "metadata": {
    "brd": {
     "id": "2fdf9512-b24a-4700-8e8e-f9426a5a89dc"
    }
   },
   "outputs": [
    {
     "data": {
      "text/plain": [
       "<Language id=5034590224, version=14>"
      ]
     },
     "execution_count": 7,
     "metadata": {},
     "output_type": "execute_result"
    }
   ],
   "source": [
    "parser = Parser(JS_LANGUAGE)\n",
    "parser.language"
   ]
  },
  {
   "cell_type": "markdown",
   "metadata": {},
   "source": [
    "## import"
   ]
  },
  {
   "cell_type": "code",
   "execution_count": 8,
   "metadata": {
    "brd": {
     "id": "af8f7299-cde6-467d-b8eb-fb21f75b4f55"
    }
   },
   "outputs": [],
   "source": [
    "tree = parser.parse(b'''\n",
    "import x from \"foo\";\n",
    "'''\n",
    ")"
   ]
  },
  {
   "cell_type": "code",
   "execution_count": 9,
   "metadata": {
    "brd": {
     "id": "212e1a75-bda6-4015-aa08-a79216534f6b"
    }
   },
   "outputs": [
    {
     "data": {
      "text/plain": [
       "<Node type=program, start_point=(1, 0), end_point=(2, 0)>"
      ]
     },
     "execution_count": 9,
     "metadata": {},
     "output_type": "execute_result"
    }
   ],
   "source": [
    "root_node = tree.root_node\n",
    "assert root_node.type == 'program'\n",
    "assert root_node.start_point == (1, 0)\n",
    "assert root_node.end_point == (2, 0)\n",
    "root_node"
   ]
  },
  {
   "cell_type": "code",
   "execution_count": 10,
   "metadata": {
    "brd": {
     "id": "c321ea0a-0564-4adb-87d5-195b39f5a028"
    }
   },
   "outputs": [
    {
     "data": {
      "text/plain": [
       "<Node type=import_statement, start_point=(1, 0), end_point=(1, 20)>"
      ]
     },
     "execution_count": 10,
     "metadata": {},
     "output_type": "execute_result"
    }
   ],
   "source": [
    "import_statement = root_node.children[0]\n",
    "assert import_statement.type == 'import_statement'\n",
    "assert import_statement.start_point == (1, 0)\n",
    "assert import_statement.end_point == (1, 20)\n",
    "import_statement"
   ]
  },
  {
   "cell_type": "code",
   "execution_count": 11,
   "metadata": {
    "brd": {
     "id": "d952723b-1501-4670-af6b-da03cb96e51b"
    }
   },
   "outputs": [
    {
     "data": {
      "text/plain": [
       "[<Node type=\"import\", start_point=(1, 0), end_point=(1, 6)>,\n",
       " <Node type=import_clause, start_point=(1, 7), end_point=(1, 8)>,\n",
       " <Node type=\"from\", start_point=(1, 9), end_point=(1, 13)>,\n",
       " <Node type=string, start_point=(1, 14), end_point=(1, 19)>,\n",
       " <Node type=\";\", start_point=(1, 19), end_point=(1, 20)>]"
      ]
     },
     "execution_count": 11,
     "metadata": {},
     "output_type": "execute_result"
    }
   ],
   "source": [
    "import_statement.children"
   ]
  },
  {
   "cell_type": "code",
   "execution_count": 12,
   "metadata": {
    "brd": {
     "id": "011f3470-0b72-4502-bf34-685bef1fff57"
    }
   },
   "outputs": [],
   "source": [
    "assert len(import_statement.children) == 5\n",
    "assert import_statement.children[0].type == 'import'\n",
    "assert import_statement.children[1].type == 'import_clause'\n",
    "assert import_statement.children[2].type == 'from'\n",
    "assert import_statement.children[3].type == 'string'\n",
    "assert import_statement.children[4].type == ';'"
   ]
  },
  {
   "cell_type": "code",
   "execution_count": 13,
   "metadata": {
    "brd": {
     "id": "82d98a46-7c1f-4877-bba9-682c3d4ecc4a"
    }
   },
   "outputs": [],
   "source": [
    "assert import_statement.children[0].text == b'import'\n",
    "assert import_statement.children[1].text == b'x'\n",
    "assert import_statement.children[2].text == b'from'\n",
    "assert import_statement.children[3].text == b'\"foo\"'\n",
    "assert import_statement.children[4].text == b';'"
   ]
  },
  {
   "cell_type": "code",
   "execution_count": 14,
   "metadata": {
    "brd": {
     "id": "aaa0fc5f-4181-4130-87f0-8894a3ec0173"
    }
   },
   "outputs": [
    {
     "name": "stdout",
     "output_type": "stream",
     "text": [
      "Static import: import x from \"foo\";\n",
      "Dynamic import: import(\"bar\")\n"
     ]
    }
   ],
   "source": [
    "code = b'''\n",
    "import x from \"foo\";\n",
    "const y = await import(\"bar\");\n",
    "console.log(\"hello\");\n",
    "'''\n",
    "\n",
    "tree = parser.parse(code)\n",
    "root = tree.root_node\n",
    "\n",
    "def walk(node, code):\n",
    "    if node.type == \"import_statement\":\n",
    "        print(\"Static import:\", code[node.start_byte:node.end_byte].decode())\n",
    "    elif node.type == \"call_expression\":\n",
    "        # detect dynamic import\n",
    "        func = node.child_by_field_name(\"function\")\n",
    "        if func and func.type == \"import\":\n",
    "            print(\"Dynamic import:\", code[node.start_byte:node.end_byte].decode())\n",
    "    for child in node.children:\n",
    "        walk(child, code)\n",
    "\n",
    "walk(root, code)"
   ]
  },
  {
   "cell_type": "markdown",
   "metadata": {},
   "source": [
    "**Background:**\n",
    "\n",
    "* **ES6 import declarations** (static) are converted at parse time and can use default imports, named imports, namespace imports, etc.\n",
    "* **Dynamic `import()`** always returns a *module namespace object* (a Promise), so to access default or named exports, you must destructure or access properties after the promise resolves.\n",
    "* **Default import:** `import x from \"mod\";`\n",
    "  Translates to: `const {default: x} = await import(\"mod\");`\n",
    "* **Named import:** `import {a, b} from \"mod\";`\n",
    "  Translates to: `const {a, b} = await import(\"mod\");`\n",
    "* **Namespace import:** `import * as foo from \"mod\";`\n",
    "  Translates to: `const foo = await import(\"mod\");`\n",
    "* **Side-effect only:** `import \"mod\";`\n",
    "  Translates to: `await import(\"mod\");`\n",
    "* **Note:** `await` can only be used at top level in modules or inside async functions.\n",
    "\n",
    "**Reference:**\n",
    "\n",
    "* [MDN: import() - module namespace object](https://developer.mozilla.org/en-US/docs/Web/JavaScript/Reference/Operators/import#module_namespace_object)\n",
    "\n",
    "---\n",
    "\n",
    "Write a Python function that detects static ES6 import declarations and rewrites them into equivalent dynamic `import()` statements as per the above mapping.\n",
    "\n",
    "---\n",
    "\n",
    "### **Step 1: Mapping Examples**\n",
    "\n",
    "| Static Import                 | Dynamic Import Equivalent                   |\n",
    "| ----------------------------- | ------------------------------------------- |\n",
    "| `import x from \"mod\";`        | `const {default: x} = await import(\"mod\");` |\n",
    "| `import {a, b} from \"mod\";`   | `const {a, b} = await import(\"mod\");`       |\n",
    "| `import * as foo from \"mod\";` | `const foo = await import(\"mod\");`          |\n",
    "| `import \"mod\";`               | `await import(\"mod\");`                      |\n",
    "\n",
    "Let's see what tree-sitter gives us for the above examples."
   ]
  },
  {
   "cell_type": "code",
   "execution_count": 15,
   "metadata": {
    "brd": {
     "id": "2e4a8a50-4a16-46be-8421-41828b5e7067"
    }
   },
   "outputs": [],
   "source": [
    "def show_tree(tree):\n",
    "    def walk(node, depth=0):\n",
    "        print('  '*depth + f\"{node.type}\")\n",
    "        for child in node.children:\n",
    "            walk(child, depth+1)\n",
    "    walk(tree.root_node)"
   ]
  },
  {
   "cell_type": "code",
   "execution_count": 16,
   "metadata": {
    "brd": {
     "id": "d4965a77-3b1f-48d8-b3dc-2571f42f1ea7"
    }
   },
   "outputs": [],
   "source": [
    "def traverse_tree(node: Tree|Node) -> Generator[Node, None, None]:\n",
    "    cursor = node.walk()\n",
    "    visited_children = False\n",
    "    while True:\n",
    "        if not visited_children:\n",
    "            yield cursor.node  # type: ignore\n",
    "            if not cursor.goto_first_child():\n",
    "                visited_children = True\n",
    "        elif cursor.goto_next_sibling():\n",
    "            visited_children = False\n",
    "        elif not cursor.goto_parent():\n",
    "            break"
   ]
  },
  {
   "cell_type": "code",
   "execution_count": 17,
   "metadata": {
    "brd": {
     "id": "07398b43-2ab4-4b1d-9606-08c30f05a924"
    }
   },
   "outputs": [
    {
     "name": "stdout",
     "output_type": "stream",
     "text": [
      "code: 'import x from \"foo\";'\n",
      "program\n",
      "  import_statement\n",
      "    import\n",
      "    import_clause\n",
      "      identifier\n",
      "    from\n",
      "    string\n",
      "      \"\n",
      "      string_fragment\n",
      "      \"\n",
      "    ;\n",
      "----\n",
      "code: 'import {a, b as c} from \"bar\";'\n",
      "program\n",
      "  import_statement\n",
      "    import\n",
      "    import_clause\n",
      "      named_imports\n",
      "        {\n",
      "        import_specifier\n",
      "          identifier\n",
      "        ,\n",
      "        import_specifier\n",
      "          identifier\n",
      "          as\n",
      "          identifier\n",
      "        }\n",
      "    from\n",
      "    string\n",
      "      \"\n",
      "      string_fragment\n",
      "      \"\n",
      "    ;\n",
      "----\n",
      "code: 'import * as ns from \"baz\";'\n",
      "program\n",
      "  import_statement\n",
      "    import\n",
      "    import_clause\n",
      "      namespace_import\n",
      "        *\n",
      "        as\n",
      "        identifier\n",
      "    from\n",
      "    string\n",
      "      \"\n",
      "      string_fragment\n",
      "      \"\n",
      "    ;\n",
      "----\n",
      "code: 'import x, {a, b as c} from \"mod\";'\n",
      "program\n",
      "  import_statement\n",
      "    import\n",
      "    import_clause\n",
      "      identifier\n",
      "      ,\n",
      "      named_imports\n",
      "        {\n",
      "        import_specifier\n",
      "          identifier\n",
      "        ,\n",
      "        import_specifier\n",
      "          identifier\n",
      "          as\n",
      "          identifier\n",
      "        }\n",
      "    from\n",
      "    string\n",
      "      \"\n",
      "      string_fragment\n",
      "      \"\n",
      "    ;\n",
      "----\n",
      "code: 'import \"sidefx\";'\n",
      "program\n",
      "  import_statement\n",
      "    import\n",
      "    string\n",
      "      \"\n",
      "      string_fragment\n",
      "      \"\n",
      "    ;\n",
      "----\n"
     ]
    }
   ],
   "source": [
    "examples = [\n",
    "    b'import x from \"foo\";',\n",
    "    b'import {a, b as c} from \"bar\";',\n",
    "    b'import * as ns from \"baz\";',\n",
    "    b'import x, {a, b as c} from \"mod\";',\n",
    "    b'import \"sidefx\";'\n",
    "]\n",
    "\n",
    "for code in examples:\n",
    "    print(f\"code: '{code.decode()}'\")\n",
    "    tree = parser.parse(code)\n",
    "    show_tree(tree)\n",
    "    print('----')"
   ]
  },
  {
   "cell_type": "markdown",
   "metadata": {},
   "source": [
    "### **Step 2: Extracting and Rewriting Imports (first version)**\n",
    "\n",
    "Let’s first **extract** all static imports, parse their structure, and print what their dynamic import replacement would be.\n"
   ]
  },
  {
   "cell_type": "code",
   "execution_count": 18,
   "metadata": {
    "brd": {
     "id": "90034999-16a8-44da-adc1-ec02c9cae74a"
    }
   },
   "outputs": [],
   "source": [
    "def extract_string_content(string_node):\n",
    "    # The string node contains quotes and string_fragment\n",
    "    fragments = []\n",
    "    for child in string_node.children:\n",
    "        if child.type == 'string_fragment':\n",
    "            fragments.append(child.text.decode())\n",
    "    return ''.join(fragments)\n",
    "\n",
    "def extract_import_specifiers(named_imports_node):\n",
    "    specifiers = []\n",
    "    for child in named_imports_node.children:\n",
    "        if child.type == 'import_specifier':\n",
    "            # Could be: identifier OR identifier 'as' identifier\n",
    "            if len(child.children) == 1:\n",
    "                # Simple: {a}\n",
    "                name = child.children[0].text.decode()\n",
    "                specifiers.append({'imported': name, 'local': name})\n",
    "            elif len(child.children) == 3:\n",
    "                # Aliased: {a as b}\n",
    "                imported = child.children[0].text.decode()\n",
    "                local = child.children[2].text.decode()\n",
    "                specifiers.append({'imported': imported, 'local': local})\n",
    "    return specifiers\n",
    "\n",
    "def parse_import_statement(import_node, code):\n",
    "    result = {\n",
    "        'type': 'import_statement',\n",
    "        'source': None,\n",
    "        'default_import': None,\n",
    "        'named_imports': [],\n",
    "        'namespace_import': None,\n",
    "        'side_effect_only': False,\n",
    "        'has_mixed_default_namespace': False,  # NEW FLAG\n",
    "        'original_text': code[import_node.start_byte:import_node.end_byte].decode()\n",
    "    }\n",
    "    \n",
    "    # Find the source (module path)\n",
    "    for child in import_node.children:\n",
    "        if child.type == 'string':\n",
    "            result['source'] = extract_string_content(child)\n",
    "            break\n",
    "    \n",
    "    # Check if it's side-effect only (no import_clause)\n",
    "    import_clause = None\n",
    "    for child in import_node.children:\n",
    "        if child.type == 'import_clause':\n",
    "            import_clause = child\n",
    "            break\n",
    "    \n",
    "    if import_clause is None:\n",
    "        result['side_effect_only'] = True\n",
    "        return result\n",
    "    \n",
    "    # Parse import_clause - need to handle mixed default + namespace\n",
    "    has_default = False\n",
    "    has_namespace = False\n",
    "    \n",
    "    for child in import_clause.children:\n",
    "        if child.type == 'identifier':\n",
    "            # Default import\n",
    "            result['default_import'] = child.text.decode()\n",
    "            has_default = True\n",
    "        elif child.type == 'named_imports':\n",
    "            # Named imports: {a, b as c}\n",
    "            result['named_imports'] = extract_import_specifiers(child)\n",
    "        elif child.type == 'namespace_import':\n",
    "            # Namespace import: * as ns\n",
    "            has_namespace = True\n",
    "            # Find the identifier after 'as'\n",
    "            for ns_child in child.children:\n",
    "                if ns_child.type == 'identifier':\n",
    "                    result['namespace_import'] = ns_child.text.decode()\n",
    "        # Skip commas\n",
    "    \n",
    "    # Check for mixed default + namespace\n",
    "    if has_default and has_namespace:\n",
    "        result['has_mixed_default_namespace'] = True\n",
    "    \n",
    "    return result\n",
    "\n",
    "def generate_dynamic_import(import_data, fn='import'):\n",
    "    source = import_data['source']\n",
    "    \n",
    "    if import_data['side_effect_only']:\n",
    "        return f'await {fn}(\"{source}\");'\n",
    "    \n",
    "    # Handle mixed default + namespace case\n",
    "    if import_data['has_mixed_default_namespace']:\n",
    "        ns_name = import_data['namespace_import']\n",
    "        default_name = import_data['default_import']\n",
    "        return f'const {ns_name} = await {fn}(\"{source}\");\\nconst {default_name} = {ns_name}.default;'\n",
    "    \n",
    "    # Handle pure namespace import\n",
    "    if import_data['namespace_import'] and not import_data['default_import']:\n",
    "        return f'const {import_data[\"namespace_import\"]} = await {fn}(\"{source}\");'\n",
    "    \n",
    "    # Build destructuring pattern for default and/or named imports\n",
    "    destructure_parts = []\n",
    "    \n",
    "    # Add default import\n",
    "    if import_data['default_import']:\n",
    "        destructure_parts.append(f'default: {import_data[\"default_import\"]}')\n",
    "    \n",
    "    # Add named imports\n",
    "    for spec in import_data['named_imports']:\n",
    "        if spec['imported'] == spec['local']:\n",
    "            destructure_parts.append(spec['imported'])\n",
    "        else:\n",
    "            destructure_parts.append(f'{spec[\"imported\"]}: {spec[\"local\"]}')\n",
    "    \n",
    "    if destructure_parts:\n",
    "        destructure = '{' + ', '.join(destructure_parts) + '}'\n",
    "        return f'const {destructure} = await {fn}(\"{source}\");'\n",
    "    \n",
    "    # Fallback (shouldn't happen)\n",
    "    return f'await {fn}(\"{source}\");'\n",
    "\n",
    "def transform_imports(code, fn='import'):\n",
    "    tree = parser.parse(code)\n",
    "    imports = []\n",
    "    \n",
    "    def walk(node):\n",
    "        if node.type == 'import_statement':\n",
    "            import_data = parse_import_statement(node, code)\n",
    "            dynamic_equivalent = generate_dynamic_import(import_data, fn)\n",
    "            imports.append({\n",
    "                'original': import_data['original_text'],\n",
    "                'transformed': dynamic_equivalent,\n",
    "                'data': import_data\n",
    "            })\n",
    "        \n",
    "        for child in node.children:\n",
    "            walk(child)\n",
    "    \n",
    "    walk(tree.root_node)\n",
    "    return imports"
   ]
  },
  {
   "cell_type": "code",
   "execution_count": 19,
   "metadata": {
    "brd": {
     "id": "3076fdf0-ba8d-40b7-8d8f-f4f38f66e12c"
    }
   },
   "outputs": [
    {
     "name": "stdout",
     "output_type": "stream",
     "text": [
      "=== IMPORT TRANSFORMATION RESULTS ===\n",
      "\n",
      "Original: import x from \"foo\";\n",
      "Dynamic:  const {default: x} = await import(\"foo\");\n",
      "Data:     {'type': 'import_statement', 'source': 'foo', 'default_import': 'x', 'named_imports': [], 'namespace_import': None, 'side_effect_only': False, 'has_mixed_default_namespace': False, 'original_text': 'import x from \"foo\";'}\n",
      "---\n",
      "Original: import {a, b as c} from \"bar\";\n",
      "Dynamic:  const {a, b: c} = await import(\"bar\");\n",
      "Data:     {'type': 'import_statement', 'source': 'bar', 'default_import': None, 'named_imports': [{'imported': 'a', 'local': 'a'}, {'imported': 'b', 'local': 'c'}], 'namespace_import': None, 'side_effect_only': False, 'has_mixed_default_namespace': False, 'original_text': 'import {a, b as c} from \"bar\";'}\n",
      "---\n",
      "Original: import * as ns from \"baz\";\n",
      "Dynamic:  const ns = await import(\"baz\");\n",
      "Data:     {'type': 'import_statement', 'source': 'baz', 'default_import': None, 'named_imports': [], 'namespace_import': 'ns', 'side_effect_only': False, 'has_mixed_default_namespace': False, 'original_text': 'import * as ns from \"baz\";'}\n",
      "---\n",
      "Original: import x, {a, b as c} from \"mod\";\n",
      "Dynamic:  const {default: x, a, b: c} = await import(\"mod\");\n",
      "Data:     {'type': 'import_statement', 'source': 'mod', 'default_import': 'x', 'named_imports': [{'imported': 'a', 'local': 'a'}, {'imported': 'b', 'local': 'c'}], 'namespace_import': None, 'side_effect_only': False, 'has_mixed_default_namespace': False, 'original_text': 'import x, {a, b as c} from \"mod\";'}\n",
      "---\n",
      "Original: import \"sidefx\";\n",
      "Dynamic:  await import(\"sidefx\");\n",
      "Data:     {'type': 'import_statement', 'source': 'sidefx', 'default_import': None, 'named_imports': [], 'namespace_import': None, 'side_effect_only': True, 'has_mixed_default_namespace': False, 'original_text': 'import \"sidefx\";'}\n",
      "---\n",
      "Original: import defaultExport, * as name from \"module-name\";\n",
      "Dynamic:  const name = await import(\"module-name\");\n",
      "const defaultExport = name.default;\n",
      "Data:     {'type': 'import_statement', 'source': 'module-name', 'default_import': 'defaultExport', 'named_imports': [], 'namespace_import': 'name', 'side_effect_only': False, 'has_mixed_default_namespace': True, 'original_text': 'import defaultExport, * as name from \"module-name\";'}\n",
      "---\n"
     ]
    }
   ],
   "source": [
    "examples = [\n",
    "    b'import x from \"foo\";',  # default import\n",
    "    b'import {a, b as c} from \"bar\";',  # named import\n",
    "    b'import * as ns from \"baz\";',  # namespace import\n",
    "    b'import x, {a, b as c} from \"mod\";',  # mixed default + named import\n",
    "    b'import \"sidefx\";',  # side-effect only\n",
    "    b'import defaultExport, * as name from \"module-name\";',  # mixed default + namespace import\n",
    "]\n",
    "\n",
    "print(\"=== IMPORT TRANSFORMATION RESULTS ===\\n\")\n",
    "\n",
    "for code in examples:\n",
    "    print(f\"Original: {code.decode()}\")\n",
    "    transformations = transform_imports(code)\n",
    "    for t in transformations:\n",
    "        print(f\"Dynamic:  {t['transformed']}\")\n",
    "        print(f\"Data:     {t['data']}\")\n",
    "    print(\"---\")"
   ]
  },
  {
   "cell_type": "code",
   "execution_count": 20,
   "metadata": {
    "brd": {
     "id": "0aa04be5-b9c6-4be1-80b9-b46e74d2c786"
    }
   },
   "outputs": [],
   "source": [
    "def transform_js_source(code_bytes):\n",
    "    \"Transform JavaScript source code, replacing import statements with dynamic imports.\"\n",
    "    if isinstance(code_bytes, str):\n",
    "        code_bytes = code_bytes.encode('utf-8')\n",
    "    \n",
    "    tree = parser.parse(code_bytes)\n",
    "    imports_with_positions = []\n",
    "    \n",
    "    def find_imports(node):\n",
    "        if node.type == 'import_statement':\n",
    "            import_data = parse_import_statement(node, code_bytes)\n",
    "            dynamic_equivalent = generate_dynamic_import(import_data)\n",
    "            \n",
    "            imports_with_positions.append({\n",
    "                'start_byte': node.start_byte,\n",
    "                'end_byte': node.end_byte,\n",
    "                'original': import_data['original_text'],\n",
    "                'replacement': dynamic_equivalent,\n",
    "                'data': import_data\n",
    "            })\n",
    "        \n",
    "        for child in node.children:\n",
    "            find_imports(child)\n",
    "    \n",
    "    find_imports(tree.root_node)\n",
    "    \n",
    "    # Sort by start_byte in descending order (work backwards)\n",
    "    imports_with_positions.sort(key=lambda x: x['start_byte'], reverse=True)\n",
    "    \n",
    "    # Start with the original code\n",
    "    result = code_bytes\n",
    "    \n",
    "    # Replace each import statement working backwards\n",
    "    for import_info in imports_with_positions:\n",
    "        start = import_info['start_byte']\n",
    "        end = import_info['end_byte']\n",
    "        replacement = import_info['replacement'].encode('utf-8')\n",
    "        \n",
    "        # Replace the import statement\n",
    "        result = result[:start] + replacement + result[end:]\n",
    "    \n",
    "    return result.decode('utf-8')"
   ]
  },
  {
   "cell_type": "code",
   "execution_count": 21,
   "metadata": {
    "brd": {
     "id": "30769800-8e32-43e0-a956-8c17f113f169"
    }
   },
   "outputs": [
    {
     "name": "stdout",
     "output_type": "stream",
     "text": [
      "=== ORIGINAL CODE ===\n"
     ]
    },
    {
     "data": {
      "text/markdown": [
       "```js\n",
       "\n",
       "import x from \"foo\";\n",
       "import {a, b as c} from \"bar\";\n",
       "import * as ns from \"baz\";\n",
       "import x, {a, b as c} from \"mod\";\n",
       "import \"sidefx\";\n",
       "import defaultExport, * as name from \"module-name\";\n",
       "\n",
       "console.log(\"Hello, world!\");\n",
       "const myVar = 42;\n",
       "\n",
       "function doSomething() {\n",
       "    return x + a + ns.something;\n",
       "}\n",
       "\n",
       "export { doSomething };\n",
       "\n",
       "```"
      ],
      "text/plain": [
       "<IPython.core.display.Markdown object>"
      ]
     },
     "metadata": {},
     "output_type": "display_data"
    },
    {
     "name": "stdout",
     "output_type": "stream",
     "text": [
      "\n",
      "=== TRANSFORMED CODE ===\n"
     ]
    },
    {
     "data": {
      "text/markdown": [
       "```js\n",
       "\n",
       "const {default: x} = await import(\"foo\");\n",
       "const {a, b: c} = await import(\"bar\");\n",
       "const ns = await import(\"baz\");\n",
       "const {default: x, a, b: c} = await import(\"mod\");\n",
       "await import(\"sidefx\");\n",
       "const name = await import(\"module-name\");\n",
       "const defaultExport = name.default;\n",
       "\n",
       "console.log(\"Hello, world!\");\n",
       "const myVar = 42;\n",
       "\n",
       "function doSomething() {\n",
       "    return x + a + ns.something;\n",
       "}\n",
       "\n",
       "export { doSomething };\n",
       "\n",
       "```"
      ],
      "text/plain": [
       "<IPython.core.display.Markdown object>"
      ]
     },
     "metadata": {},
     "output_type": "display_data"
    }
   ],
   "source": [
    "js_code = '''\n",
    "import x from \"foo\";\n",
    "import {a, b as c} from \"bar\";\n",
    "import * as ns from \"baz\";\n",
    "import x, {a, b as c} from \"mod\";\n",
    "import \"sidefx\";\n",
    "import defaultExport, * as name from \"module-name\";\n",
    "\n",
    "console.log(\"Hello, world!\");\n",
    "const myVar = 42;\n",
    "\n",
    "function doSomething() {\n",
    "    return x + a + ns.something;\n",
    "}\n",
    "\n",
    "export { doSomething };\n",
    "'''\n",
    "\n",
    "print(\"=== ORIGINAL CODE ===\")\n",
    "display(Markdown(f\"```js\\n{js_code}\\n```\"))\n",
    "print(\"\\n=== TRANSFORMED CODE ===\")\n",
    "transformed = transform_js_source(js_code)\n",
    "display(Markdown(f\"```js\\n{transformed}\\n```\"))"
   ]
  },
  {
   "cell_type": "code",
   "execution_count": 22,
   "metadata": {
    "brd": {
     "id": "dd637c50-a5fa-4c2a-84a2-5d6610a21c7e"
    }
   },
   "outputs": [],
   "source": [
    "def transform_js_source_with_details(code_bytes):\n",
    "    \"Transform JavaScript source and return both result and transformation details.\"\n",
    "    if isinstance(code_bytes, str):\n",
    "        code_bytes = code_bytes.encode('utf-8')\n",
    "    \n",
    "    tree = parser.parse(code_bytes)\n",
    "    imports_with_positions = []\n",
    "    \n",
    "    def find_imports(node):\n",
    "        if node.type == 'import_statement':\n",
    "            import_data = parse_import_statement(node, code_bytes)\n",
    "            dynamic_equivalent = generate_dynamic_import(import_data)\n",
    "            \n",
    "            imports_with_positions.append({\n",
    "                'start_byte': node.start_byte,\n",
    "                'end_byte': node.end_byte,\n",
    "                'original': import_data['original_text'],\n",
    "                'replacement': dynamic_equivalent,\n",
    "                'data': import_data\n",
    "            })\n",
    "        \n",
    "        for child in node.children:\n",
    "            find_imports(child)\n",
    "    \n",
    "    find_imports(tree.root_node)\n",
    "    \n",
    "    # Sort by start_byte in descending order (work backwards)\n",
    "    imports_with_positions.sort(key=lambda x: x['start_byte'], reverse=True)\n",
    "    \n",
    "    # Start with the original code\n",
    "    result = code_bytes\n",
    "    \n",
    "    # Replace each import statement working backwards\n",
    "    for import_info in imports_with_positions:\n",
    "        start = import_info['start_byte']\n",
    "        end = import_info['end_byte']\n",
    "        replacement = import_info['replacement'].encode('utf-8')\n",
    "        \n",
    "        # Replace the import statement\n",
    "        result = result[:start] + replacement + result[end:]\n",
    "    \n",
    "    return {\n",
    "        'transformed_code': result.decode('utf-8'),\n",
    "        'transformations': imports_with_positions,\n",
    "        'original_code': code_bytes.decode('utf-8')\n",
    "    }"
   ]
  },
  {
   "cell_type": "code",
   "execution_count": 23,
   "metadata": {
    "brd": {
     "id": "2defd01d-dde6-41e0-be7a-0b46d84b0cd3"
    }
   },
   "outputs": [
    {
     "name": "stdout",
     "output_type": "stream",
     "text": [
      "=== TRANSFORMATION DETAILS ===\n",
      "Transform 1:\n",
      "  Original:  import defaultExport, * as name from \"module-name\";\n",
      "  Becomes:   const name = await import(\"module-name\");\n",
      "const defaultExport = name.default;\n",
      "  Position:  131-182\n",
      "\n",
      "Transform 2:\n",
      "  Original:  import \"sidefx\";\n",
      "  Becomes:   await import(\"sidefx\");\n",
      "  Position:  114-130\n",
      "\n",
      "Transform 3:\n",
      "  Original:  import x, {a, b as c} from \"mod\";\n",
      "  Becomes:   const {default: x, a, b: c} = await import(\"mod\");\n",
      "  Position:  80-113\n",
      "\n",
      "Transform 4:\n",
      "  Original:  import * as ns from \"baz\";\n",
      "  Becomes:   const ns = await import(\"baz\");\n",
      "  Position:  53-79\n",
      "\n",
      "Transform 5:\n",
      "  Original:  import {a, b as c} from \"bar\";\n",
      "  Becomes:   const {a, b: c} = await import(\"bar\");\n",
      "  Position:  22-52\n",
      "\n",
      "Transform 6:\n",
      "  Original:  import x from \"foo\";\n",
      "  Becomes:   const {default: x} = await import(\"foo\");\n",
      "  Position:  1-21\n",
      "\n",
      "=== FINAL RESULT ===\n"
     ]
    },
    {
     "data": {
      "text/markdown": [
       "```js\n",
       "\n",
       "const {default: x} = await import(\"foo\");\n",
       "const {a, b: c} = await import(\"bar\");\n",
       "const ns = await import(\"baz\");\n",
       "const {default: x, a, b: c} = await import(\"mod\");\n",
       "await import(\"sidefx\");\n",
       "const name = await import(\"module-name\");\n",
       "const defaultExport = name.default;\n",
       "\n",
       "console.log(\"Hello, world!\");\n",
       "const myVar = 42;\n",
       "\n",
       "function doSomething() {\n",
       "    return x + a + ns.something;\n",
       "}\n",
       "\n",
       "export { doSomething };\n",
       "\n",
       "```"
      ],
      "text/plain": [
       "<IPython.core.display.Markdown object>"
      ]
     },
     "metadata": {},
     "output_type": "display_data"
    }
   ],
   "source": [
    "# Test with details\n",
    "result = transform_js_source_with_details(js_code)\n",
    "\n",
    "print(\"=== TRANSFORMATION DETAILS ===\")\n",
    "for i, t in enumerate(result['transformations']):\n",
    "    print(f\"Transform {i+1}:\")\n",
    "    print(f\"  Original:  {t['original']}\")\n",
    "    print(f\"  Becomes:   {t['replacement']}\")\n",
    "    print(f\"  Position:  {t['start_byte']}-{t['end_byte']}\")\n",
    "    print()\n",
    "\n",
    "print(\"=== FINAL RESULT ===\")\n",
    "display(Markdown(f\"```js\\n{result['transformed_code']}\\n```\"))"
   ]
  },
  {
   "cell_type": "code",
   "execution_count": 24,
   "metadata": {
    "brd": {
     "id": "e70143cc-9da6-48e3-bff3-8384745a91f3"
    }
   },
   "outputs": [],
   "source": [
    "def find_dynamic_imports(node, code_bytes):\n",
    "    \"Find all dynamic import call expressions in the AST.\"\n",
    "    dynamic_imports = []\n",
    "    \n",
    "    def walk(node):\n",
    "        if node.type == \"call_expression\":\n",
    "            # Check if this is a dynamic import call\n",
    "            func = node.child_by_field_name(\"function\")\n",
    "            if func and func.type == \"import\":\n",
    "                dynamic_imports.append({\n",
    "                    'start_byte': func.start_byte,\n",
    "                    'end_byte': func.end_byte,\n",
    "                    'full_start_byte': node.start_byte,\n",
    "                    'full_end_byte': node.end_byte,\n",
    "                    'original_call': code_bytes[node.start_byte:node.end_byte].decode(),\n",
    "                    'original_function': func.text.decode()\n",
    "                })\n",
    "        \n",
    "        for child in node.children:\n",
    "            walk(child)\n",
    "    \n",
    "    walk(node)\n",
    "    return dynamic_imports\n",
    "\n",
    "def transform_dynamic_imports(code_bytes, new_function_name=\"import\"):\n",
    "    \"\"\"Transform dynamic import calls to use a different function name.\"\"\"\n",
    "    if isinstance(code_bytes, str):\n",
    "        code_bytes = code_bytes.encode('utf-8')\n",
    "    \n",
    "    tree = parser.parse(code_bytes)\n",
    "    dynamic_imports = find_dynamic_imports(tree.root_node, code_bytes)\n",
    "    \n",
    "    # Sort by start_byte in descending order (work backwards)\n",
    "    dynamic_imports.sort(key=lambda x: x['start_byte'], reverse=True)\n",
    "    \n",
    "    # Start with the original code\n",
    "    result = code_bytes\n",
    "    \n",
    "    # Replace each dynamic import function name working backwards\n",
    "    for import_info in dynamic_imports:\n",
    "        start = import_info['start_byte']\n",
    "        end = import_info['end_byte']\n",
    "        replacement = new_function_name.encode('utf-8')\n",
    "        \n",
    "        # Replace just the function name\n",
    "        result = result[:start] + replacement + result[end:]\n",
    "    \n",
    "    return result.decode('utf-8')"
   ]
  },
  {
   "cell_type": "code",
   "execution_count": 25,
   "metadata": {
    "brd": {
     "id": "dd6aba77-f9fd-40fe-b25e-32af23c27e09"
    }
   },
   "outputs": [
    {
     "name": "stdout",
     "output_type": "stream",
     "text": [
      "=== DYNAMIC IMPORT DETECTION ===\n",
      "Dynamic import 1:\n",
      "  Full call: import(\"/modules/my-module.js\")\n",
      "  Function:  import\n",
      "  Position:  171-177\n",
      "\n",
      "Dynamic import 2:\n",
      "  Full call: import(\"/modules/my-module.js\")\n",
      "  Function:  import\n",
      "  Position:  251-257\n",
      "\n",
      "Dynamic import 3:\n",
      "  Full call: import(\"./utils.js\")\n",
      "  Function:  import\n",
      "  Position:  305-311\n",
      "\n",
      "Dynamic import 4:\n",
      "  Full call: import(\"./lazy-module.js\")\n",
      "  Function:  import\n",
      "  Position:  327-333\n",
      "\n",
      "=== DYNAMIC IMPORT TRANSFORMATION ===\n",
      "Original:\n"
     ]
    },
    {
     "data": {
      "text/markdown": [
       "```js\n",
       "\n",
       "// Static imports (these should be ignored by dynamic transformer)\n",
       "import x from \"foo\";\n",
       "import {a, b} from \"bar\";\n",
       "\n",
       "// Dynamic imports (these should be transformed)\n",
       "await import(\"/modules/my-module.js\");\n",
       "const { default: myDefault, foo, bar } = await import(\"/modules/my-module.js\");\n",
       "const module = await import(\"./utils.js\");\n",
       "import(\"./lazy-module.js\").then(m => console.log(m));\n",
       "\n",
       "// Other code\n",
       "console.log(\"Hello world\");\n",
       "\n",
       "```"
      ],
      "text/plain": [
       "<IPython.core.display.Markdown object>"
      ]
     },
     "metadata": {},
     "output_type": "display_data"
    },
    {
     "name": "stdout",
     "output_type": "stream",
     "text": [
      "\n",
      "Transformed (import -> AAAA):\n"
     ]
    },
    {
     "data": {
      "text/markdown": [
       "```js\n",
       "\n",
       "// Static imports (these should be ignored by dynamic transformer)\n",
       "import x from \"foo\";\n",
       "import {a, b} from \"bar\";\n",
       "\n",
       "// Dynamic imports (these should be transformed)\n",
       "await AAAA(\"/modules/my-module.js\");\n",
       "const { default: myDefault, foo, bar } = await AAAA(\"/modules/my-module.js\");\n",
       "const module = await AAAA(\"./utils.js\");\n",
       "AAAA(\"./lazy-module.js\").then(m => console.log(m));\n",
       "\n",
       "// Other code\n",
       "console.log(\"Hello world\");\n",
       "\n",
       "```"
      ],
      "text/plain": [
       "<IPython.core.display.Markdown object>"
      ]
     },
     "metadata": {},
     "output_type": "display_data"
    }
   ],
   "source": [
    "test_dynamic_code = '''\n",
    "// Static imports (these should be ignored by dynamic transformer)\n",
    "import x from \"foo\";\n",
    "import {a, b} from \"bar\";\n",
    "\n",
    "// Dynamic imports (these should be transformed)\n",
    "await import(\"/modules/my-module.js\");\n",
    "const { default: myDefault, foo, bar } = await import(\"/modules/my-module.js\");\n",
    "const module = await import(\"./utils.js\");\n",
    "import(\"./lazy-module.js\").then(m => console.log(m));\n",
    "\n",
    "// Other code\n",
    "console.log(\"Hello world\");\n",
    "'''\n",
    "\n",
    "print(\"=== DYNAMIC IMPORT DETECTION ===\")\n",
    "tree = parser.parse(test_dynamic_code.encode('utf-8'))\n",
    "dynamic_imports = find_dynamic_imports(tree.root_node, test_dynamic_code.encode('utf-8'))\n",
    "\n",
    "for i, di in enumerate(dynamic_imports):\n",
    "    print(f\"Dynamic import {i+1}:\")\n",
    "    print(f\"  Full call: {di['original_call']}\")\n",
    "    print(f\"  Function:  {di['original_function']}\")\n",
    "    print(f\"  Position:  {di['start_byte']}-{di['end_byte']}\")\n",
    "    print()\n",
    "\n",
    "print(\"=== DYNAMIC IMPORT TRANSFORMATION ===\")\n",
    "print(\"Original:\")\n",
    "display(Markdown(f\"```js\\n{test_dynamic_code}\\n```\"))\n",
    "print(\"\\nTransformed (import -> AAAA):\")\n",
    "transformed_dynamic = transform_dynamic_imports(test_dynamic_code, \"AAAA\")\n",
    "display(Markdown(f\"```js\\n{transformed_dynamic}\\n```\"))"
   ]
  },
  {
   "cell_type": "code",
   "execution_count": 26,
   "metadata": {
    "brd": {
     "id": "9c5dbd5e-78b9-40b5-86db-0b3d68212798"
    }
   },
   "outputs": [],
   "source": [
    "def transform_all_imports(code_bytes, new_function_name=\"import\"):\n",
    "    \"\"\"Transform both static and dynamic imports.\"\"\"\n",
    "    if isinstance(code_bytes, str):\n",
    "        code_bytes = code_bytes.encode('utf-8')\n",
    "    \n",
    "    # First transform static imports to dynamic imports\n",
    "    result = transform_js_source(code_bytes)\n",
    "    \n",
    "    # Then transform all dynamic imports (including the newly created ones)\n",
    "    result = transform_dynamic_imports(result, new_function_name)\n",
    "    \n",
    "    return result"
   ]
  },
  {
   "cell_type": "code",
   "execution_count": 27,
   "metadata": {
    "brd": {
     "id": "6ed55ce9-54e3-43c4-87b6-276aae21d929"
    }
   },
   "outputs": [
    {
     "name": "stdout",
     "output_type": "stream",
     "text": [
      "=== COMBINED TRANSFORMATION ===\n",
      "Original:\n"
     ]
    },
    {
     "data": {
      "text/markdown": [
       "```js\n",
       "\n",
       "import x from \"foo\";\n",
       "import {a, b as c} from \"bar\";\n",
       "import * as ns from \"baz\";\n",
       "import \"sidefx\";\n",
       "\n",
       "const { default: existing } = await import(\"./existing2.js\");\n",
       "\n",
       "console.log(\"Hello, world!\");\n",
       "const myVar = 42;\n",
       "\n",
       "async function doSomething() {\n",
       "    const existingDynamic = await import(\"./existing.js\");\n",
       "    return x + a + ns.something;\n",
       "}\n",
       "\n",
       "export { doSomething };\n",
       "\n",
       "```"
      ],
      "text/plain": [
       "<IPython.core.display.Markdown object>"
      ]
     },
     "metadata": {},
     "output_type": "display_data"
    },
    {
     "name": "stdout",
     "output_type": "stream",
     "text": [
      "\n",
      "After transforming to AAAA:\n"
     ]
    },
    {
     "data": {
      "text/markdown": [
       "```js\n",
       "\n",
       "const {default: x} = await AAAA(\"foo\");\n",
       "const {a, b: c} = await AAAA(\"bar\");\n",
       "const ns = await AAAA(\"baz\");\n",
       "await AAAA(\"sidefx\");\n",
       "\n",
       "const { default: existing } = await AAAA(\"./existing2.js\");\n",
       "\n",
       "console.log(\"Hello, world!\");\n",
       "const myVar = 42;\n",
       "\n",
       "async function doSomething() {\n",
       "    const existingDynamic = await AAAA(\"./existing.js\");\n",
       "    return x + a + ns.something;\n",
       "}\n",
       "\n",
       "export { doSomething };\n",
       "\n",
       "```"
      ],
      "text/plain": [
       "<IPython.core.display.Markdown object>"
      ]
     },
     "metadata": {},
     "output_type": "display_data"
    }
   ],
   "source": [
    "combined_test_code = '''\n",
    "import x from \"foo\";\n",
    "import {a, b as c} from \"bar\";\n",
    "import * as ns from \"baz\";\n",
    "import \"sidefx\";\n",
    "\n",
    "const { default: existing } = await import(\"./existing2.js\");\n",
    "\n",
    "console.log(\"Hello, world!\");\n",
    "const myVar = 42;\n",
    "\n",
    "async function doSomething() {\n",
    "    const existingDynamic = await import(\"./existing.js\");\n",
    "    return x + a + ns.something;\n",
    "}\n",
    "\n",
    "export { doSomething };\n",
    "'''\n",
    "\n",
    "print(\"=== COMBINED TRANSFORMATION ===\")\n",
    "print(\"Original:\")\n",
    "display(Markdown(f\"```js\\n{combined_test_code}\\n```\"))\n",
    "print(\"\\nAfter transforming to AAAA:\")\n",
    "final_result = transform_all_imports(combined_test_code, \"AAAA\")\n",
    "display(Markdown(f\"```js\\n{final_result}\\n```\"))"
   ]
  },
  {
   "cell_type": "code",
   "execution_count": 28,
   "metadata": {
    "brd": {
     "id": "964d0449-d72d-4874-95fa-8864789506b3"
    }
   },
   "outputs": [],
   "source": [
    "def transform_all_imports_with_details(code_bytes, new_function_name=\"import\"):\n",
    "    \"Transform both static and dynamic imports with detailed reporting.\"\n",
    "    if isinstance(code_bytes, str):\n",
    "        code_bytes = code_bytes.encode('utf-8')\n",
    "    \n",
    "    original_code = code_bytes.decode('utf-8')\n",
    "    \n",
    "    # Step 1: Transform static imports to dynamic imports\n",
    "    static_result = transform_js_source_with_details(code_bytes)\n",
    "    \n",
    "    # Step 2: Transform all dynamic imports (including newly created ones)\n",
    "    after_static = static_result['transformed_code']\n",
    "    tree = parser.parse(after_static.encode('utf-8'))\n",
    "    dynamic_imports = find_dynamic_imports(tree.root_node, after_static.encode('utf-8'))\n",
    "    \n",
    "    # Transform dynamic imports\n",
    "    final_code = transform_dynamic_imports(after_static, new_function_name)\n",
    "    \n",
    "    return {\n",
    "        'original_code': original_code,\n",
    "        'after_static_transform': after_static,\n",
    "        'final_code': final_code,\n",
    "        'static_transformations': static_result['transformations'],\n",
    "        'dynamic_transformations': dynamic_imports,\n",
    "        'new_function_name': new_function_name\n",
    "    }"
   ]
  },
  {
   "cell_type": "code",
   "execution_count": 29,
   "metadata": {
    "brd": {
     "id": "5b91e702-1cc4-4e98-85ac-db7eb35cf45f"
    }
   },
   "outputs": [
    {
     "name": "stdout",
     "output_type": "stream",
     "text": [
      "=== DETAILED TRANSFORMATION REPORT ===\n",
      "Target function name: AAAA\n",
      "\n",
      "Static imports found: 4\n",
      "  1. import \"sidefx\"; -> await import(\"sidefx\");\n",
      "  2. import * as ns from \"baz\"; -> const ns = await import(\"baz\");\n",
      "  3. import {a, b as c} from \"bar\"; -> const {a, b: c} = await import(\"bar\");\n",
      "  4. import x from \"foo\"; -> const {default: x} = await import(\"foo\");\n",
      "\n",
      "Dynamic imports found: 6\n",
      "  1. import(\"foo\")\n",
      "  2. import(\"bar\")\n",
      "  3. import(\"baz\")\n",
      "  4. import(\"sidefx\")\n",
      "  5. import(\"./existing2.js\")\n",
      "  6. import(\"./existing.js\")\n",
      "\n",
      "=== FINAL RESULT ===\n",
      "\n",
      "const {default: x} = await AAAA(\"foo\");\n",
      "const {a, b: c} = await AAAA(\"bar\");\n",
      "const ns = await AAAA(\"baz\");\n",
      "await AAAA(\"sidefx\");\n",
      "\n",
      "const { default: existing } = await AAAA(\"./existing2.js\");\n",
      "\n",
      "console.log(\"Hello, world!\");\n",
      "const myVar = 42;\n",
      "\n",
      "async function doSomething() {\n",
      "    const existingDynamic = await AAAA(\"./existing.js\");\n",
      "    return x + a + ns.something;\n",
      "}\n",
      "\n",
      "export { doSomething };\n",
      "\n"
     ]
    }
   ],
   "source": [
    "detailed_result = transform_all_imports_with_details(combined_test_code, \"AAAA\")\n",
    "\n",
    "print(\"=== DETAILED TRANSFORMATION REPORT ===\")\n",
    "print(f\"Target function name: {detailed_result['new_function_name']}\")\n",
    "print(f\"\\nStatic imports found: {len(detailed_result['static_transformations'])}\")\n",
    "for i, t in enumerate(detailed_result['static_transformations']):\n",
    "    print(f\"  {i+1}. {t['original']} -> {t['replacement']}\")\n",
    "\n",
    "print(f\"\\nDynamic imports found: {len(detailed_result['dynamic_transformations'])}\")\n",
    "for i, t in enumerate(detailed_result['dynamic_transformations']):\n",
    "    print(f\"  {i+1}. {t['original_call']}\")\n",
    "\n",
    "print(f\"\\n=== FINAL RESULT ===\")\n",
    "print(detailed_result['final_code'])"
   ]
  },
  {
   "cell_type": "markdown",
   "metadata": {},
   "source": [
    "# JSImportTransform"
   ]
  },
  {
   "cell_type": "markdown",
   "metadata": {},
   "source": [
    "```\n",
    "node.type='string'\n",
    "    node.type='\"'\n",
    "    node.type='string_fragment'\n",
    "    node.type='\"'\n",
    "```"
   ]
  },
  {
   "cell_type": "code",
   "execution_count": 30,
   "metadata": {
    "brd": {
     "id": "6a8515a0-2744-41bc-b855-1c05c902b905"
    }
   },
   "outputs": [],
   "source": [
    "#| export\n",
    "\n",
    "def _string_content(node):\n",
    "    return ''.join(c.text.decode() for c in node.children if c.type == 'string_fragment')"
   ]
  },
  {
   "cell_type": "markdown",
   "metadata": {},
   "source": [
    "```\n",
    "node.type='import_specifier'\n",
    "    node.type='identifier'\n",
    "node.type=','\n",
    "node.type='import_specifier'\n",
    "    node.type='identifier'\n",
    "    node.type='as'\n",
    "    node.type='identifier'\n",
    "```"
   ]
  },
  {
   "cell_type": "code",
   "execution_count": 31,
   "metadata": {
    "brd": {
     "id": "7823e089-9601-4ecc-926b-fd5a189c374c"
    }
   },
   "outputs": [],
   "source": [
    "#| export\n",
    "\n",
    "def _import_specifiers(node):\n",
    "    specifiers = []\n",
    "    for child in node.children:\n",
    "        if child.type == 'import_specifier':\n",
    "            if (l := len(child.children)) == 1:\n",
    "                name = child.children[0].text.decode()\n",
    "                specifiers.append({'imported': name, 'local': name})\n",
    "            elif l == 3:\n",
    "                imported, local = child.children[0].text.decode(), child.children[2].text.decode()\n",
    "                specifiers.append({'imported': imported, 'local': local})\n",
    "    return specifiers"
   ]
  },
  {
   "cell_type": "markdown",
   "metadata": {},
   "source": [
    "```\n",
    "node.type='import_statement'\n",
    "  node.type='import'\n",
    "  node.type='import_clause'\n",
    "    node.type='identifier'\n",
    "  node.type='from'\n",
    "  ...\n",
    "```\n",
    "```\n",
    "node.type='import_statement'\n",
    "  node.type='import'\n",
    "  node.type='import_clause'\n",
    "    node.type='named_imports'\n",
    "      node.type='{'\n",
    "      node.type='import_specifier'\n",
    "        node.type='identifier'\n",
    "      node.type=','\n",
    "      node.type='import_specifier'\n",
    "        node.type='identifier'\n",
    "        node.type='as'\n",
    "        node.type='identifier'\n",
    "      node.type='}'\n",
    "  node.type='from'\n",
    "  ...\n",
    "```\n",
    "```\n",
    "node.type='import_statement'\n",
    "  node.type='import'\n",
    "  node.type='import_clause'\n",
    "    node.type='namespace_import'\n",
    "      node.type='*'\n",
    "      node.type='as'\n",
    "      node.type='identifier'\n",
    "  node.type='from'\n",
    "  ...\n",
    "```"
   ]
  },
  {
   "cell_type": "code",
   "execution_count": 32,
   "metadata": {
    "brd": {
     "id": "6bdc4528-de34-4e6d-a6cb-9d6b7a81cafc"
    }
   },
   "outputs": [],
   "source": [
    "#| export\n",
    "\n",
    "def _extract_comments(node, code_bytes, comment_marker):\n",
    "    \"Extract all comments from AST with their line positions.\"\n",
    "    comments = []\n",
    "    marker = f\"@{comment_marker[0]}\"\n",
    "    ignore_cmd = comment_marker[1][0]\n",
    "    def walk(node):\n",
    "        if node.type == 'comment' and marker in node.text.decode() and ignore_cmd in node.text.decode():\n",
    "            line = node.start_point[0]\n",
    "            is_line_comment = node.prev_sibling is None or (\n",
    "                node.prev_sibling.start_point[0] < line and \n",
    "                (node.next_sibling is None or node.next_sibling.start_point[0] > line)\n",
    "            )\n",
    "            comments.append({\n",
    "                'text': node.text.decode(),\n",
    "                'line': line,  # 0-indexed line number\n",
    "                'start_byte': node.start_byte,\n",
    "                'end_byte': node.end_byte,\n",
    "                'is_line_comment': is_line_comment,\n",
    "            })\n",
    "        for child in node.children:\n",
    "            walk(child)\n",
    "    walk(node)\n",
    "    return comments"
   ]
  },
  {
   "cell_type": "code",
   "execution_count": 33,
   "metadata": {
    "brd": {
     "id": "14abaf50-d452-4389-adc5-75ec162a20f2"
    }
   },
   "outputs": [],
   "source": [
    "#| export\n",
    "\n",
    "def _should_ignore_import(import_node, comments):\n",
    "    \"Check if import should be ignored based on nearby comments.\"\n",
    "    import_line = import_node.start_point[0]\n",
    "    \n",
    "    for comment in comments:\n",
    "        comment_line = comment['line']\n",
    "        # Check same line or previous line\n",
    "        if comment_line == import_line: return True\n",
    "        if comment_line == import_line - 1 and comment['is_line_comment']: return True\n",
    "    return False"
   ]
  },
  {
   "cell_type": "code",
   "execution_count": 34,
   "metadata": {
    "brd": {
     "id": "741a25dc-010d-4f53-97d4-75e1cf0322a3"
    }
   },
   "outputs": [],
   "source": [
    "#| export\n",
    "\n",
    "def _validate_import_statement(import_node, code):\n",
    "    def walk(node):\n",
    "        if node.type == 'ERROR' or node.type == 'MISSING':\n",
    "            original_text = code[import_node.start_byte:import_node.end_byte].decode()\n",
    "            raise ValueError(f\"Malformed import statement: {original_text}\")\n",
    "        for child in node.children: walk(child)\n",
    "    walk(import_node)\n",
    "\n",
    "\n",
    "def _parse_import_statement(import_node):\n",
    "    \"Parse import_statement node into structured data.\"\n",
    "    result = {\n",
    "        'source': None, 'default_import': None, 'named_imports': [],\n",
    "        'namespace_import': None, 'side_effect_only': False,\n",
    "        'has_mixed_default_namespace': False\n",
    "    }\n",
    "    for c in import_node.children:\n",
    "        if c.type == 'string': \n",
    "            result['source'] = _string_content(c); break\n",
    "    if not (import_clause := FC.first(import_node.children, lambda c:c.type == 'import_clause')):\n",
    "        result['side_effect_only'] = True\n",
    "        return result\n",
    "    has_default = has_namespace = False\n",
    "    for c in import_clause.children:\n",
    "        if c.type == 'identifier':\n",
    "            result['default_import'] = c.text.decode()\n",
    "            has_default = True\n",
    "        elif c.type == 'named_imports':\n",
    "            result['named_imports'] = _import_specifiers(c)\n",
    "        elif c.type == 'namespace_import':\n",
    "            has_namespace = True\n",
    "            result['namespace_import'] = FC.first(c.children, lambda c: c.type == 'identifier').text.decode()  # type: ignore\n",
    "    result['has_mixed_default_namespace'] = has_default and has_namespace\n",
    "    return result"
   ]
  },
  {
   "cell_type": "code",
   "execution_count": 35,
   "metadata": {
    "brd": {
     "id": "720fbafa-c62f-49c7-bf79-92ef70cc949a"
    }
   },
   "outputs": [],
   "source": [
    "#| export\n",
    "\n",
    "def _generate_dynamic_import(import_data, fn):\n",
    "    \"Generate dynamic import equivalent from parsed import data.\"\n",
    "    source = import_data['source']\n",
    "    if import_data['side_effect_only']: return f'await {fn}(\"{source}\");'\n",
    "    if import_data['has_mixed_default_namespace']:\n",
    "        ns_name = import_data['namespace_import']\n",
    "        default_name = import_data['default_import']\n",
    "        return f'const {ns_name} = await {fn}(\"{source}\");\\nconst {default_name} = {ns_name}.default;'\n",
    "    if import_data['namespace_import'] and not import_data['default_import']:\n",
    "        return f'const {import_data[\"namespace_import\"]} = await {fn}(\"{source}\");'\n",
    "    # Build destructuring for default and/or named imports\n",
    "    parts = []\n",
    "    if import_data['default_import']: parts.append(f'default: {import_data[\"default_import\"]}')\n",
    "    parts.extend(\n",
    "        spec['imported'] if spec['imported'] == spec['local'] \n",
    "        else f'{spec[\"imported\"]}: {spec[\"local\"]}'\n",
    "        for spec in import_data['named_imports']\n",
    "    )\n",
    "    return f'const {{{\", \".join(parts)}}} = await {fn}(\"{source}\");' if parts else f'await {fn}(\"{source}\");'"
   ]
  },
  {
   "cell_type": "code",
   "execution_count": 36,
   "metadata": {
    "brd": {
     "id": "19f94531-1a11-4f4d-ad30-d3df3f2e71fd"
    }
   },
   "outputs": [],
   "source": [
    "#| export\n",
    "\n",
    "# def _find_all_imports(node, code, fn):\n",
    "#     static_imports, dynamic_imports = [], []\n",
    "#     def walk(node):\n",
    "#         if node.type == 'import_statement':\n",
    "#             _validate_import_statement(node, code)\n",
    "#             import_data = _parse_import_statement(node)\n",
    "#             replace = _generate_dynamic_import(import_data, fn)\n",
    "#             static_imports.append({'start': node.start_byte, 'end': node.end_byte, 'replace': replace})\n",
    "#         elif node.type == 'call_expression':\n",
    "#             func = node.child_by_field_name('function')\n",
    "#             if func and func.type == 'import':\n",
    "#                 dynamic_imports.append({'start': func.start_byte, 'end': func.end_byte, 'replace': fn})\n",
    "#         for child in node.children: walk(child)\n",
    "#     walk(node)\n",
    "#     return static_imports, dynamic_imports\n",
    "\n",
    "def _find_all_imports(node, code, fn, comment_marker):\n",
    "    static_imports, dynamic_imports = [], []\n",
    "    comments = _extract_comments(node, code, comment_marker)  # NEW: Extract comments first\n",
    "    \n",
    "    def walk(node):\n",
    "        if node.type == 'import_statement':\n",
    "            if _should_ignore_import(node, comments):  # NEW: Check ignore\n",
    "                return  # Skip this import\n",
    "            _validate_import_statement(node, code)\n",
    "            import_data = _parse_import_statement(node)\n",
    "            replace = _generate_dynamic_import(import_data, fn)\n",
    "            static_imports.append({'start': node.start_byte, 'end': node.end_byte, 'replace': replace})\n",
    "        elif node.type == 'call_expression':\n",
    "            func = node.child_by_field_name('function')\n",
    "            if func and func.type == 'import':\n",
    "                if _should_ignore_import(node, comments):  # NEW: Check ignore\n",
    "                    return  # Skip this import\n",
    "                dynamic_imports.append({'start': func.start_byte, 'end': func.end_byte, 'replace': fn})\n",
    "        for child in node.children: \n",
    "            walk(child)\n",
    "    walk(node)\n",
    "    return static_imports, dynamic_imports"
   ]
  },
  {
   "cell_type": "code",
   "execution_count": 37,
   "metadata": {
    "brd": {
     "id": "f7111eb2-ce0a-4ab6-8d07-31957a5c3855"
    }
   },
   "outputs": [],
   "source": [
    "def _replace_old(bytes: bytes, imports):\n",
    "    \"Replace ranges.`imports` is a list of dicts with `start`, `end`, and `replace` keys.\"\n",
    "    imports.sort(key=lambda x: x['start'], reverse=True)\n",
    "    res = bytes\n",
    "    for import_info in imports:\n",
    "        start, end = import_info['start'], import_info['end']\n",
    "        replacement = import_info['replace'].encode('utf-8')\n",
    "        res = res[:start] + replacement + res[end:]\n",
    "    return res"
   ]
  },
  {
   "cell_type": "code",
   "execution_count": 38,
   "metadata": {
    "brd": {
     "id": "0877f941-427e-4603-8c7b-19da83e1966a"
    }
   },
   "outputs": [],
   "source": [
    "#| exporti\n",
    "\n",
    "def _replace(bytes, imports):\n",
    "    \"Replace ranges.`imports` is a list of dicts with `start`, `end`, and `replace` keys.\"\n",
    "    imports.sort(key=lambda x: x['start'])\n",
    "    res, prev_end = [None]*(2*len(imports) + 1), 0\n",
    "    for i, info in enumerate(imports):\n",
    "        res[2*i] = bytes[prev_end:info['start']]\n",
    "        res[2*i+1] = info['replace'].encode('utf-8')\n",
    "        prev_end = info['end']\n",
    "    res[2*len(imports)] = bytes[prev_end:]\n",
    "    res = b\"\".join(res)  # type: ignore\n",
    "    return res"
   ]
  },
  {
   "cell_type": "code",
   "execution_count": 39,
   "metadata": {
    "brd": {
     "id": "6ea84c01-76a2-4ea0-b6df-ac42b29cfbb9"
    }
   },
   "outputs": [],
   "source": [
    "original = b\"Hello world!\"\n",
    "imports = [{'start': 6, 'end': 11, 'replace': 'Python'}]\n",
    "result = _replace(original, imports)\n",
    "test_eq(result, b\"Hello Python!\")\n",
    "\n",
    "original = b\"import x; import y;\"\n",
    "imports = [\n",
    "    {'start': 0, 'end': 9, 'replace': 'const x = 1;'},\n",
    "    {'start': 10, 'end': 19, 'replace': 'const y = 2;'}\n",
    "]\n",
    "result = _replace(original, imports)\n",
    "test_eq(result, b\"const x = 1; const y = 2;\")\n",
    "\n",
    "original = b\"abcde\"\n",
    "imports = [\n",
    "    {'start': 1, 'end': 4, 'replace': 'X'},\n",
    "    {'start': 0, 'end': 2, 'replace': 'Y'}\n",
    "]\n",
    "# Should process in order: first replace 0-2 with 'Y', then adjust positions\n",
    "result = _replace(original, imports)\n",
    "test_eq(result, b\"YXe\")\n",
    "\n",
    "original = b\"Hello\"\n",
    "imports = [{'start': 3, 'end': 5, 'replace': 'p!'}]\n",
    "result = _replace(original, imports)\n",
    "test_eq(result, b\"Help!\")\n",
    "\n",
    "# empty replacement\n",
    "original = b\"Hello world\"\n",
    "imports = [{'start': 5, 'end': 11, 'replace': ''}]\n",
    "result = _replace(original, imports)\n",
    "test_eq(result, b\"Hello\")\n",
    "\n",
    "# replacement longer than original\n",
    "original = b\"Hi\"\n",
    "imports = [{'start': 0, 'end': 2, 'replace': 'Hello'}]\n",
    "result = _replace(original, imports)\n",
    "test_eq(result, b\"Hello\")\n",
    "\n",
    "original = b\"Hello world\"\n",
    "imports = []\n",
    "result = _replace(original, imports)\n",
    "test_eq(result, b\"Hello world\")"
   ]
  },
  {
   "cell_type": "code",
   "execution_count": 40,
   "metadata": {
    "brd": {
     "id": "f87e6333-0b7c-457a-9d54-df8a22e9dc6e"
    }
   },
   "outputs": [],
   "source": [
    "#| export\n",
    "\n",
    "class JSImportTransform:\n",
    "    def __init__(self, import_name=\"import\", comment_marker=('transform', ('ignore',))):\n",
    "        self.import_name = import_name\n",
    "        self.comment_marker = comment_marker\n",
    "        self.parser = Parser(Language(tsjs.language()))\n",
    "\n",
    "    def __call__(self, code):\n",
    "        \"Transform JS code, converting imports to dynamic and renaming import function.\"\n",
    "        if isinstance(code, str): code = code.encode('utf-8')\n",
    "        return self._transform(code).decode('utf-8')\n",
    "\n",
    "    def _transform(self, code_bytes):\n",
    "        tree = self.parser.parse(code_bytes)\n",
    "        static_imports, dynamic_imports = _find_all_imports(tree.root_node, code_bytes, self.import_name, self.comment_marker)\n",
    "        return _replace(code_bytes, static_imports + dynamic_imports)\n",
    "\n",
    "    def _transform_static(self, code_bytes):\n",
    "        \"Transform static import statements to dynamic imports.\"\n",
    "        tree = self.parser.parse(code_bytes)\n",
    "        static_imports, _ = _find_all_imports(tree.root_node, code_bytes, self.import_name, self.comment_marker)\n",
    "        return _replace(code_bytes, static_imports)\n",
    "\n",
    "    def _transform_dynamic(self, code_bytes):\n",
    "        \"Transform dynamic import function names.\"\n",
    "        tree = self.parser.parse(code_bytes)\n",
    "        _, dynamic_imports = _find_all_imports(tree.root_node, code_bytes, self.import_name, self.comment_marker)\n",
    "        return _replace(code_bytes, dynamic_imports)"
   ]
  },
  {
   "cell_type": "code",
   "execution_count": 41,
   "metadata": {
    "brd": {
     "id": "a034d849-7966-4332-b19e-aab4d548dba4"
    }
   },
   "outputs": [],
   "source": [
    "parser = Parser(JS_LANGUAGE)\n",
    "transformer = JSImportTransform(\"AAAA\")"
   ]
  },
  {
   "cell_type": "code",
   "execution_count": 42,
   "metadata": {
    "brd": {
     "id": "b377bd6d-0ae1-4feb-b7ee-ac55502f42de"
    }
   },
   "outputs": [
    {
     "data": {
      "text/markdown": [
       "```js\n",
       "\n",
       "const {default: x} = await AAAA(\"foo\");\n",
       "const {a, b: c} = await AAAA(\"bar\");\n",
       "const ns = await AAAA(\"baz\");\n",
       "await AAAA(\"sidefx\");\n",
       "\n",
       "const { default: someFunc } = await AAAA(\"./existing.js\");\n",
       "\n",
       "console.log(\"Hello, world!\");\n",
       "const myVar = 42;\n",
       "\n",
       "async function doSomething() {\n",
       "    const existingNS = await AAAA(\"./existing.js\");\n",
       "    return x + a + ns.something;\n",
       "}\n",
       "\n",
       "export { doSomething };\n",
       "\n",
       "```"
      ],
      "text/plain": [
       "<IPython.core.display.Markdown object>"
      ]
     },
     "metadata": {},
     "output_type": "display_data"
    }
   ],
   "source": [
    "test_code = '''\n",
    "import x from \"foo\";\n",
    "import {a, b as c} from \"bar\";\n",
    "import * as ns from \"baz\";\n",
    "import \"sidefx\";\n",
    "\n",
    "const { default: someFunc } = await import(\"./existing.js\");\n",
    "\n",
    "console.log(\"Hello, world!\");\n",
    "const myVar = 42;\n",
    "\n",
    "async function doSomething() {\n",
    "    const existingNS = await import(\"./existing.js\");\n",
    "    return x + a + ns.something;\n",
    "}\n",
    "\n",
    "export { doSomething };\n",
    "'''\n",
    "\n",
    "result = transformer(test_code)\n",
    "test_is('const {default: x} = await AAAA(\"foo\");' in result, True)\n",
    "test_is('const {a, b: c} = await AAAA(\"bar\");' in result, True)\n",
    "test_is('const ns = await AAAA(\"baz\");' in result, True)\n",
    "test_is('await AAAA(\"sidefx\");' in result, True)\n",
    "test_is('const existingNS = await AAAA(\"./existing.js\");' in result, True)\n",
    "test_is('const { default: someFunc } = await AAAA(\"./existing.js\");' in result, True)\n",
    "display(Markdown(f\"```js\\n{result}\\n```\"))"
   ]
  },
  {
   "cell_type": "code",
   "execution_count": 43,
   "metadata": {
    "brd": {
     "id": "3df0bb26-30cb-423d-8b88-8ca1b2b8185c"
    }
   },
   "outputs": [],
   "source": [
    "test_code = '''\n",
    "console.log(`import x from \"foo\";`);\n",
    "'''\n",
    "\n",
    "result = transformer(test_code)\n",
    "test_eq(result, test_code)"
   ]
  },
  {
   "cell_type": "code",
   "execution_count": 44,
   "metadata": {
    "brd": {
     "id": "dc063ebf-ad4d-4e64-a157-1ad19580c98d"
    }
   },
   "outputs": [],
   "source": [
    "test_code = '''\n",
    "import * from \"baz\";\n",
    "'''\n",
    "\n",
    "test_fail(lambda: transformer(test_code)) "
   ]
  },
  {
   "cell_type": "markdown",
   "metadata": {},
   "source": [
    "### ignore marker functionality with various whitespace scenarios."
   ]
  },
  {
   "cell_type": "code",
   "execution_count": 45,
   "metadata": {
    "brd": {
     "id": "4b5397fd-dc54-4b86-b719-d6915ca925c9"
    }
   },
   "outputs": [],
   "source": [
    "test_code = '''\n",
    "import x from \"foo\"; // @transform: ignore\n",
    "import y from \"bar\";\n",
    "'''\n",
    "result = transformer(test_code)\n",
    "test_is('import x from \"foo\";' in result, True)\n",
    "test_is('const {default: y} = await AAAA(\"bar\");' in result, True)"
   ]
  },
  {
   "cell_type": "markdown",
   "metadata": {},
   "source": [
    "Same line comment with exact marker"
   ]
  },
  {
   "cell_type": "code",
   "execution_count": 46,
   "metadata": {
    "brd": {
     "id": "4254d627-e14b-40b7-9e93-7aa3a095c129"
    }
   },
   "outputs": [],
   "source": [
    "test_code = '''\n",
    "// @transform: ignore\n",
    "import x from \"foo\";\n",
    "import y from \"bar\";\n",
    "'''\n",
    "result = transformer(test_code)\n",
    "test_is('import x from \"foo\";' in result, True)\n",
    "test_is('const {default: y} = await AAAA(\"bar\");' in result, True)"
   ]
  },
  {
   "cell_type": "markdown",
   "metadata": {},
   "source": [
    "Previous line comment with exact marker"
   ]
  },
  {
   "cell_type": "code",
   "execution_count": 47,
   "metadata": {
    "brd": {
     "id": "2d2539ed-f537-4673-87e5-cb81b9ac6ff7"
    }
   },
   "outputs": [],
   "source": [
    "test_code = '''\n",
    "import x from \"foo\"; /* @transform: ignore */\n",
    "import y from \"bar\";\n",
    "'''\n",
    "result = transformer(test_code)\n",
    "test_is('import x from \"foo\";' in result, True)\n",
    "test_is('const {default: y} = await AAAA(\"bar\");' in result, True)"
   ]
  },
  {
   "cell_type": "markdown",
   "metadata": {},
   "source": [
    "Block comment same line"
   ]
  },
  {
   "cell_type": "code",
   "execution_count": 48,
   "metadata": {
    "brd": {
     "id": "074bfb92-569a-4000-89eb-7f20670c7eb2"
    }
   },
   "outputs": [],
   "source": [
    "test_code = '''\n",
    "/* @transform: ignore */\n",
    "import x from \"foo\";\n",
    "import y from \"bar\";\n",
    "'''\n",
    "result = transformer(test_code)\n",
    "test_is('import x from \"foo\";' in result, True)\n",
    "test_is('const {default: y} = await AAAA(\"bar\");' in result, True)"
   ]
  },
  {
   "cell_type": "markdown",
   "metadata": {},
   "source": [
    "Block comment previous line"
   ]
  },
  {
   "cell_type": "code",
   "execution_count": 49,
   "metadata": {
    "brd": {
     "id": "a01e881a-fc4d-4b9e-bcb5-5410ef3652e5"
    }
   },
   "outputs": [],
   "source": [
    "test_code = '''\n",
    "//   @transform: ignore   \n",
    "import x from \"foo\";\n",
    "import y from \"bar\";\n",
    "'''\n",
    "result = transformer(test_code)\n",
    "test_is('import x from \"foo\";' in result, True)\n",
    "test_is('const {default: y} = await AAAA(\"bar\");' in result, True)"
   ]
  },
  {
   "cell_type": "markdown",
   "metadata": {},
   "source": [
    "Extra whitespace around marker"
   ]
  },
  {
   "cell_type": "code",
   "execution_count": 50,
   "metadata": {
    "brd": {
     "id": "d8ce366c-895a-438b-8cba-702e5efe2656"
    }
   },
   "outputs": [],
   "source": [
    "test_code = '''\n",
    "// TODO: @transform: ignore - this breaks something\n",
    "import x from \"foo\";\n",
    "import y from \"bar\";\n",
    "'''\n",
    "result = transformer(test_code)\n",
    "test_is('import x from \"foo\";' in result, True)\n",
    "test_is('const {default: y} = await AAAA(\"bar\");' in result, True)"
   ]
  },
  {
   "cell_type": "markdown",
   "metadata": {},
   "source": [
    "Marker with extra text before/after"
   ]
  },
  {
   "cell_type": "code",
   "execution_count": 51,
   "metadata": {
    "brd": {
     "id": "ca34ad2a-979f-4991-aa6f-a231605339f5"
    }
   },
   "outputs": [],
   "source": [
    "test_code = '''\n",
    "const a = await import(\"normal.js\");\n",
    "const b = await import(\"ignored.js\"); // @transform: ignore\n",
    "'''\n",
    "result = transformer(test_code)\n",
    "test_is('const a = await AAAA(\"normal.js\");' in result, True)\n",
    "test_is('const b = await import(\"ignored.js\");' in result, True)"
   ]
  },
  {
   "cell_type": "markdown",
   "metadata": {},
   "source": [
    "Dynamic import with ignore marker"
   ]
  },
  {
   "cell_type": "code",
   "execution_count": 52,
   "metadata": {
    "brd": {
     "id": "a73f3f4a-b280-46e3-b97a-101e2f3ae8f0"
    }
   },
   "outputs": [],
   "source": [
    "test_code = '''\n",
    "import x from \"foo\";\n",
    "// @transform: ignore\n",
    "import y from \"bar\";\n",
    "const z = await import(\"baz.js\");\n",
    "// @transform: ignore\n",
    "const w = await import(\"qux.js\");\n",
    "'''\n",
    "result = transformer(test_code)\n",
    "test_is('const {default: x} = await AAAA(\"foo\");' in result, True)\n",
    "test_is('import y from \"bar\";' in result, True)\n",
    "test_is('const z = await AAAA(\"baz.js\");' in result, True)\n",
    "test_is('const w = await import(\"qux.js\");' in result, True)"
   ]
  },
  {
   "cell_type": "markdown",
   "metadata": {},
   "source": [
    "Mixed static and dynamic with ignore"
   ]
  },
  {
   "cell_type": "code",
   "execution_count": 53,
   "metadata": {
    "brd": {
     "id": "736b55bb-ece3-4c65-a3b8-1a0394cb3d74"
    }
   },
   "outputs": [],
   "source": [
    "test_code = '''\n",
    "import {a, b} from \"mod1\";\n",
    "// @ts-ignore   // @transform: ignore\n",
    "import {c, d} from \"mod2\";\n",
    "import {e, f} from \"mod3\";\n",
    "'''\n",
    "result = transformer(test_code)\n",
    "test_is('const {a, b} = await AAAA(\"mod1\");' in result, True)\n",
    "test_is('import {c, d} from \"mod2\";' in result, True)\n",
    "test_is('const {e, f} = await AAAA(\"mod3\");' in result, True)"
   ]
  },
  {
   "cell_type": "markdown",
   "metadata": {},
   "source": [
    "Multiple imports, only one ignored"
   ]
  },
  {
   "cell_type": "code",
   "execution_count": 54,
   "metadata": {
    "brd": {
     "id": "cb5dfe2a-70c5-48f8-8a6b-632c3f6e7648"
    }
   },
   "outputs": [],
   "source": [
    "test_code = '''\n",
    "// @transform:ignore (no space after colon)\n",
    "import x from \"foo\";\n",
    "// @transform :ignore (space before colon)\n",
    "import y from \"bar\";\n",
    "'''\n",
    "result = transformer(test_code)\n",
    "test_is('import x from \"foo\";' in result, True)\n",
    "test_is('import y from \"bar\";' in result, True)"
   ]
  },
  {
   "cell_type": "markdown",
   "metadata": {},
   "source": [
    "Different spacing in marker itself"
   ]
  },
  {
   "cell_type": "code",
   "execution_count": 55,
   "metadata": {
    "brd": {
     "id": "64e6d940-5823-496d-9df8-cb90137e035d"
    }
   },
   "outputs": [],
   "source": [
    "test_code = '''\n",
    "// @TRANSFORM: IGNORE\n",
    "import x from \"foo\";\n",
    "'''\n",
    "result = transformer(test_code)\n",
    "test_is('const {default: x} = await AAAA(\"foo\");' in result, True)"
   ]
  },
  {
   "cell_type": "markdown",
   "metadata": {},
   "source": [
    "Case sensitivity test (should NOT ignore)"
   ]
  },
  {
   "cell_type": "code",
   "execution_count": 56,
   "metadata": {
    "brd": {
     "id": "7da33db8-bfd8-4536-bfe0-269b1c11d4fa"
    }
   },
   "outputs": [],
   "source": [
    "test_code = '''\n",
    "// @transform: ignor\n",
    "import x from \"foo\";\n",
    "'''\n",
    "result = transformer(test_code)\n",
    "test_is('const {default: x} = await AAAA(\"foo\");' in result, True)"
   ]
  },
  {
   "cell_type": "markdown",
   "metadata": {},
   "source": [
    "Partial marker match (should NOT ignore)"
   ]
  },
  {
   "cell_type": "code",
   "execution_count": 57,
   "metadata": {
    "brd": {
     "id": "a8a52130-99bf-4386-9415-1cef6fef1cea"
    }
   },
   "outputs": [],
   "source": [
    "test_code = '''\n",
    "import x from \"foo\";\n",
    "// @transform: ignore\n",
    "import y from \"bar\";\n",
    "'''\n",
    "result = transformer(test_code)\n",
    "test_is('const {default: x} = await AAAA(\"foo\");' in result, True)\n",
    "test_is('import y from \"bar\";' in result, True)"
   ]
  },
  {
   "cell_type": "markdown",
   "metadata": {},
   "source": [
    "Comment on line after import (should NOT ignore)"
   ]
  },
  {
   "cell_type": "code",
   "execution_count": 58,
   "metadata": {
    "brd": {
     "id": "a0a62d03-5616-4a38-9f25-5ccb9b9fce2c"
    }
   },
   "outputs": [],
   "source": [
    "test_code = '''\n",
    "import * as ns from \"mod1\";\n",
    "// @transform: ignore\n",
    "import * as ns2 from \"mod2\";\n",
    "import default, {named} from \"mod3\";\n",
    "// @transform: ignore\n",
    "import default2, {named2} from \"mod4\";\n",
    "'''\n",
    "result = transformer(test_code)\n",
    "test_is('const ns = await AAAA(\"mod1\");' in result, True)\n",
    "test_is('import * as ns2 from \"mod2\";' in result, True)\n",
    "test_is('const {default: default, named} = await AAAA(\"mod3\");' in result, True)\n",
    "test_is('import default2, {named2} from \"mod4\";' in result, True)"
   ]
  },
  {
   "cell_type": "markdown",
   "metadata": {},
   "source": [
    "Namespace and mixed imports with ignore"
   ]
  },
  {
   "cell_type": "markdown",
   "metadata": {},
   "source": [
    "### Edge cases for ignore marker functionality."
   ]
  },
  {
   "cell_type": "code",
   "execution_count": 59,
   "metadata": {
    "brd": {
     "id": "53199aba-4a6d-40fd-905c-799a12816c79"
    }
   },
   "outputs": [],
   "source": [
    "# Multiple comments, only one with ignore\n",
    "test_code = '''\n",
    "// This is a regular comment\n",
    "// @transform: ignore\n",
    "import x from \"foo\";\n",
    "'''\n",
    "result = transformer(test_code)\n",
    "test_is('import x from \"foo\";' in result, True)\n",
    "\n",
    "# Comment with ignore marker two lines before (should NOT ignore)\n",
    "test_code = '''\n",
    "// @transform: ignore\n",
    "\n",
    "import x from \"foo\";\n",
    "'''\n",
    "result = transformer(test_code)\n",
    "test_is('const {default: x} = await AAAA(\"foo\");' in result, True)\n",
    "\n",
    "# Side-effect import with ignore\n",
    "test_code = '''\n",
    "import \"side-effect.js\";\n",
    "// @transform: ignore\n",
    "import \"ignored-side-effect.js\";\n",
    "'''\n",
    "result = transformer(test_code)\n",
    "test_is('await AAAA(\"side-effect.js\");' in result, True)\n",
    "test_is('import \"ignored-side-effect.js\";' in result, True)\n",
    "\n",
    "# Multiple markers in same comment\n",
    "test_code = '''\n",
    "// @transform: ignore @transform: ignore\n",
    "import x from \"foo\";\n",
    "'''\n",
    "result = transformer(test_code)\n",
    "test_is('import x from \"foo\";' in result, True)\n",
    "\n",
    "# Marker in string literal (should NOT ignore)\n",
    "test_code = '''\n",
    "console.log(\"// @transform: ignore\");\n",
    "import x from \"foo\";\n",
    "'''\n",
    "result = transformer(test_code)\n",
    "test_is('const {default: x} = await AAAA(\"foo\");' in result, True)"
   ]
  },
  {
   "cell_type": "markdown",
   "metadata": {},
   "source": [
    "Test custom ignore marker functionality."
   ]
  },
  {
   "cell_type": "code",
   "execution_count": 60,
   "metadata": {
    "brd": {
     "id": "cf6e18c4-cb17-4a07-a361-5af7713e7c6a"
    }
   },
   "outputs": [],
   "source": [
    "# Create transformer with custom marker\n",
    "custom_transformer = JSImportTransform(\"AAAA\", ('skip', ('transform',)))\n",
    "\n",
    "# Custom marker works\n",
    "test_code = '''\n",
    "// @skip: transform\n",
    "import x from \"foo\";\n",
    "import y from \"bar\";\n",
    "'''\n",
    "result = custom_transformer(test_code)\n",
    "test_is('import x from \"foo\";' in result, True)\n",
    "test_is('const {default: y} = await AAAA(\"bar\");' in result, True)\n",
    "\n",
    "# Default marker doesn't work with custom transformer\n",
    "test_code = '''\n",
    "// @transform: ignore\n",
    "import x from \"foo\";\n",
    "'''\n",
    "result = custom_transformer(test_code)\n",
    "test_is('const {default: x} = await AAAA(\"foo\");' in result, True)"
   ]
  },
  {
   "cell_type": "markdown",
   "metadata": {},
   "source": [
    "# Colophon\n",
    "----\n"
   ]
  },
  {
   "cell_type": "code",
   "execution_count": 61,
   "metadata": {
    "brd": {
     "id": "44a01716-17d2-4425-84ef-414e0330e63e"
    }
   },
   "outputs": [],
   "source": [
    "import fastcore.all as FC\n",
    "import nbdev\n",
    "from nbdev.clean import nbdev_clean"
   ]
  },
  {
   "cell_type": "code",
   "execution_count": 62,
   "metadata": {
    "brd": {
     "id": "e901583d-2937-402f-af9c-82beb033612f"
    }
   },
   "outputs": [],
   "source": [
    "if FC.IN_NOTEBOOK:\n",
    "    nb_path = '02_JStransform.ipynb'\n",
    "    # nbdev_clean(nb_path)\n",
    "    nbdev.nbdev_export(nb_path)"
   ]
  }
 ],
 "metadata": {
  "kernelspec": {
   "display_name": "Python 3",
   "language": "python",
   "name": "python3"
  },
  "language_info": {
   "codemirror_mode": {
    "name": "ipython",
    "version": 3
   },
   "file_extension": ".py",
   "mimetype": "text/x-python",
   "name": "python",
   "nbconvert_exporter": "python",
   "pygments_lexer": "ipython3",
   "version": "3.12.11"
  }
 },
 "nbformat": 4,
 "nbformat_minor": 2
}
