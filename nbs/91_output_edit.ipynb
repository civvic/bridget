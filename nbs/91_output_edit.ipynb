{
 "cells": [
  {
   "cell_type": "code",
   "execution_count": 1,
   "metadata": {},
   "outputs": [],
   "source": [
    "#| default_exp editable\n"
   ]
  },
  {
   "cell_type": "code",
   "execution_count": 2,
   "metadata": {},
   "outputs": [],
   "source": [
    "#| export\n",
    "from __future__ import annotations\n"
   ]
  },
  {
   "cell_type": "markdown",
   "metadata": {},
   "source": [
    "# Editable Outputs\n",
    "\n",
    "> Make everything editable.\n",
    "\n"
   ]
  },
  {
   "cell_type": "markdown",
   "metadata": {},
   "source": [
    "# Prologue"
   ]
  },
  {
   "cell_type": "code",
   "execution_count": 3,
   "metadata": {},
   "outputs": [],
   "source": [
    "#| export\n"
   ]
  },
  {
   "cell_type": "code",
   "execution_count": 4,
   "metadata": {},
   "outputs": [],
   "source": [
    "#| export\n",
    "\n",
    "from bridget.nb_state import NBState\n"
   ]
  },
  {
   "cell_type": "code",
   "execution_count": 5,
   "metadata": {},
   "outputs": [],
   "source": [
    "from pathlib import Path\n",
    "\n",
    "import fastcore.all as FC\n",
    "from fastcore.test import *\n",
    "from olio.common import shortens\n",
    "from rich.console import Console\n"
   ]
  },
  {
   "cell_type": "code",
   "execution_count": 6,
   "metadata": {},
   "outputs": [],
   "source": [
    "from bridget.bridge_helpers import bootstrap_bridge\n",
    "from bridget.helpers import bridge_cfg\n"
   ]
  },
  {
   "cell_type": "markdown",
   "metadata": {},
   "source": [
    "----\n"
   ]
  },
  {
   "cell_type": "code",
   "execution_count": 7,
   "metadata": {
    "bridget": {
     "id": "98d0ca63-982f-4e4b-8cb5-9ededa62aacc"
    }
   },
   "outputs": [],
   "source": [
    "cprint = (console := Console(width=120)).print\n"
   ]
  },
  {
   "cell_type": "code",
   "execution_count": 8,
   "metadata": {},
   "outputs": [],
   "source": [
    "with bridge_cfg(bootstrap=True): bootstrap_bridge()"
   ]
  },
  {
   "cell_type": "markdown",
   "metadata": {},
   "source": [
    "----"
   ]
  },
  {
   "cell_type": "code",
   "execution_count": 9,
   "metadata": {
    "bridget": {
     "id": "b0264244-e823-4b6e-822a-60e003f87442"
    }
   },
   "outputs": [
    {
     "data": {
      "application/x-notebook-state": "{\"feedback\":true,\"watch\":false,\"debug\":true,\"id\":1}"
     },
     "metadata": {
      "bridget": {
       "skip": true
      }
     },
     "output_type": "display_data"
    },
    {
     "data": {
      "text/html": [
       "<div style='max-height: 200px; border: 1px solid black; overflow: auto;'><div>State updated type: state #cells 22 @1737813648692 watch: False feedback: True debug: True</div>\n",
       "<div>_on_message: state_update</div>\n",
       "<div>Requesting notebook state...</div>\n",
       "<div>_on_message: info</div>\n",
       "<div>Loading NBState fetcher...</div></div>"
      ],
      "text/plain": [
       "<IPython.core.display.HTML object>"
      ]
     },
     "metadata": {
      "bridget": {
       "skip": true
      }
     },
     "output_type": "display_data"
    }
   ],
   "source": [
    "nb = NBState()"
   ]
  },
  {
   "cell_type": "code",
   "execution_count": null,
   "metadata": {},
   "outputs": [
    {
     "data": {
      "text/html": [
       "<style class=\"echo reflect\" contenteditable=\"true\">\n",
       "\n",
       "@font-face {\n",
       "  font-family: 'FontWithASyntaxHighlighterLightOwl';\n",
       "  src:\n",
       "    url('static/font/FontWithASyntaxHighlighterLightOwl-Regular.woff2') format('woff2');\n",
       "}\n",
       "\n",
       "@font-face {\n",
       "  font-family: 'FontWithASyntaxHighlighter';\n",
       "  src:\n",
       "    url('static/font/FontWithASyntaxHighlighter-Regular.woff2') format('woff2');\n",
       "  font-weight: 400;\n",
       "}\n",
       "\n",
       "/** keep in sync with libertine.css */\n",
       ".echo {\n",
       "  display: block;\n",
       "  font-family: \"FontWithASyntaxHighlighterLightOwl\", monospace;\n",
       "  font-feature-settings: \"colr\", \"calt\";\n",
       "  white-space: pre;\n",
       "  font-size: 0.9rem; /* 0.83rem */\n",
       "  line-height: 1.42;\n",
       "\n",
       "  padding: 1ch;\n",
       "  /* cloned by libertine.css */\n",
       "  overflow: auto;\n",
       "  background-color: transparent; /* #f3f3f3; */\n",
       "  border-radius: 4px;\n",
       "}\n",
       "\n",
       "\n",
       ".echo.dark {\n",
       "  font-family: \"FontWithASyntaxHighlighter\", monospace;\n",
       "  background-color: #282828;\n",
       "  color: #eee;\n",
       "}\n",
       "\n",
       "\n",
       ".echo[contenteditable]:hover {\n",
       "  box-shadow: inset 0 0 0 1px #8b99c8;\n",
       "}\n",
       "\n",
       ".echo[contenteditable].dark:hover {\n",
       "  box-shadow: inset 0 0 0 3px #8b99c8;\n",
       "}\n",
       "\n",
       "/* */\n",
       "script.reflect::before {\n",
       "  content: \"<script id=\\\"\" attr(id) \"\\\" type=\\\"\" attr(type) \"\\\" class=\\\"\" attr(class) \"\\\" contenteditable=\\\"\" attr(contenteditable) \"\\\">\";\n",
       "}\n",
       "\n",
       "script.reflect::after {\n",
       "  content: \"<\\/script>\";\n",
       "}\n",
       "\n",
       "style.reflect::before {\n",
       "  content: \"<style id=\\\"\" attr(id) \"\\\" class=\\\"\" attr(class) \"\\\" contenteditable=\\\"\" attr(contenteditable) \"\\\">\";\n",
       "}\n",
       "\n",
       "style.reflect::after {\n",
       "  content: \"<\\/style>\";\n",
       "}\n",
       "/* */\n",
       "</style>\n"
      ],
      "text/plain": [
       "<IPython.core.display.HTML object>"
      ]
     },
     "metadata": {},
     "output_type": "display_data"
    }
   ],
   "source": [
    "%%HTML\n",
    "<style class=\"echo reflect\" contenteditable=\"true\">\n",
    "\n",
    "@font-face {\n",
    "  font-family: 'FontWithASyntaxHighlighterLightOwl';\n",
    "  src:\n",
    "    url('static/font/FontWithASyntaxHighlighterLightOwl-Regular.woff2') format('woff2');\n",
    "}\n",
    "\n",
    "@font-face {\n",
    "  font-family: 'FontWithASyntaxHighlighter';\n",
    "  src:\n",
    "    url('static/font/FontWithASyntaxHighlighter-Regular.woff2') format('woff2');\n",
    "  font-weight: 400;\n",
    "}\n",
    "\n",
    "/** keep in sync with libertine.css */\n",
    ".echo {\n",
    "  display: block;\n",
    "  font-family: \"FontWithASyntaxHighlighterLightOwl\", monospace;\n",
    "  font-feature-settings: \"colr\", \"calt\";\n",
    "  white-space: pre;\n",
    "  font-size: 0.9rem; /* 0.83rem */\n",
    "  line-height: 1.42;\n",
    "\n",
    "  padding: 1ch;\n",
    "  /* cloned by libertine.css */\n",
    "  overflow: auto;\n",
    "  background-color: transparent; /* #f3f3f3; */\n",
    "  border-radius: 4px;\n",
    "}\n",
    "\n",
    "\n",
    ".echo.dark {\n",
    "  font-family: \"FontWithASyntaxHighlighter\", monospace;\n",
    "  background-color: #282828;\n",
    "  color: #eee;\n",
    "}\n",
    "\n",
    "\n",
    ".echo[contenteditable]:hover {\n",
    "  box-shadow: inset 0 0 0 1px #8b99c8;\n",
    "}\n",
    "\n",
    ".echo[contenteditable].dark:hover {\n",
    "  box-shadow: inset 0 0 0 3px #8b99c8;\n",
    "}\n",
    "\n",
    "/* */\n",
    "script.reflect::before {\n",
    "  content: \"<script id=\\\"\" attr(id) \"\\\" type=\\\"\" attr(type) \"\\\" class=\\\"\" attr(class) \"\\\" contenteditable=\\\"\" attr(contenteditable) \"\\\">\";\n",
    "}\n",
    "\n",
    "script.reflect::after {\n",
    "  content: \"<\\/script>\";\n",
    "}\n",
    "\n",
    "style.reflect::before {\n",
    "  content: \"<style id=\\\"\" attr(id) \"\\\" class=\\\"\" attr(class) \"\\\" contenteditable=\\\"\" attr(contenteditable) \"\\\">\";\n",
    "}\n",
    "\n",
    "style.reflect::after {\n",
    "  content: \"<\\/style>\";\n",
    "}\n",
    "/* */\n",
    "</style>\n"
   ]
  },
  {
   "cell_type": "code",
   "execution_count": null,
   "metadata": {},
   "outputs": [
    {
     "data": {
      "text/html": [
       "<div>\n",
       "  <div>asdf</div>\n",
       "<script contenteditable=\"true\" type=\"text/html\" class=\"echo\">asdf\n",
       "</script></div>\n"
      ],
      "text/markdown": [
       "```html\n",
       "<div>\n",
       "  <div>asdf</div>\n",
       "<script contenteditable=\"true\" type=\"text/html\" class=\"echo\">asdf\n",
       "</script></div>\n",
       "\n",
       "```"
      ],
      "text/plain": [
       "div((div(('asdf',),{}), script(('asdf\\n',),{'contenteditable': 'true', 'type': 'text/html', 'class': 'echo'})),{})"
      ]
     },
     "metadata": {},
     "output_type": "display_data"
    }
   ],
   "source": [
    "Div(\n",
    "    Div('asdf'), \n",
    "    Script('asdf\\n', cls='echo', contenteditable='true', type='text/html')\n",
    ")\n"
   ]
  },
  {
   "cell_type": "code",
   "execution_count": null,
   "metadata": {
    "bridget": {
     "id": "096a05aa-b7a8-42cf-a26f-2e37f40b589a"
    }
   },
   "outputs": [],
   "source": [
    "%%HTML\n",
    "<style class=\"echo reflect\" contenteditable=\"true\">\n",
    "/* @import url('https://unpkg.com/@observablehq/inspector@5.0.1/src/style.css'); */\n",
    "\n",
    "@font-face {\n",
    "  font-family: 'FontWithASyntaxHighlighterLightOwl';\n",
    "  src:\n",
    "    url('static/font/FontWithASyntaxHighlighterLightOwl-Regular.woff2') format('woff2');\n",
    "}\n",
    "\n",
    "@font-face {\n",
    "  font-family: 'FontWithASyntaxHighlighter';\n",
    "  src:\n",
    "    url('static/font/FontWithASyntaxHighlighter-Regular.woff2') format('woff2');\n",
    "  font-weight: 400;\n",
    "}\n",
    "\n",
    "/** keep in sync with libertine.css */\n",
    ".echo {\n",
    "  display: block;\n",
    "  font-family: \"FontWithASyntaxHighlighterLightOwl\", monospace;\n",
    "  font-feature-settings: \"colr\", \"calt\";\n",
    "  white-space: pre;\n",
    "  font-size: 0.9rem; /* 0.83rem */\n",
    "  line-height: 1.42;\n",
    "\n",
    "  padding: 1ch;\n",
    "  /* cloned by libertine.css */\n",
    "  overflow: auto;\n",
    "  background-color: transparent; /* #f3f3f3; */\n",
    "  border-radius: 4px;\n",
    "}\n",
    "\n",
    "\n",
    ".echo.dark {\n",
    "  font-family: \"FontWithASyntaxHighlighter\", monospace;\n",
    "  background-color: #282828;\n",
    "  color: #eee;\n",
    "}\n",
    "\n",
    "\n",
    ".echo[contenteditable]:hover {\n",
    "  box-shadow: inset 0 0 0 1px #8b99c8;\n",
    "}\n",
    "\n",
    ".echo[contenteditable].dark:hover {\n",
    "  box-shadow: inset 0 0 0 3px #8b99c8;\n",
    "}\n",
    "script.reflect::before {\n",
    "  content: \"<script id=\\\"\" attr(id) \"\\\" type=\\\"\" attr(type) \"\\\" class=\\\"\" attr(class) \"\\\" contenteditable=\\\"\" attr(contenteditable) \"\\\">\";\n",
    "}\n",
    "\n",
    "script.reflect::after {\n",
    "  content: \"<\\/script>\";\n",
    "}\n",
    "\n",
    "style.reflect::before {\n",
    "  content: \"<style id=\\\"\" attr(id) \"\\\" class=\\\"\" attr(class) \"\\\" contenteditable=\\\"\" attr(contenteditable) \"\\\">\";\n",
    "}\n",
    "\n",
    "style.reflect::after {\n",
    "  content: \"<\\/style>\";\n",
    "}\n",
    "\n",
    ".observablehq {\n",
    "  display: inline;\n",
    "}\n",
    "\n",
    "@keyframes blink {\n",
    "  67% {\n",
    "    opacity: 0;\n",
    "  }\n",
    "}\n",
    ".observablehq--running::before {\n",
    "  content: 'LOADING';\n",
    "  animation: blink 1s step-end infinite;\n",
    "}\n",
    "</style>\n"
   ]
  },
  {
   "cell_type": "code",
   "execution_count": null,
   "metadata": {
    "bridget": {
     "id": "babdbd44-86a9-4c5f-99d7-501a065c2825"
    }
   },
   "outputs": [],
   "source": [
    "%%HTML\n",
    "<div id=\"asdf-qwer\">Hello World</div>\n"
   ]
  },
  {
   "cell_type": "code",
   "execution_count": null,
   "metadata": {
    "bridget": {
     "id": "b37f518d-d732-4a9f-aed4-31f573abe2dc"
    }
   },
   "outputs": [],
   "source": [
    "%%HTML\n",
    "<style class=\"echo reflect\" contenteditable=\"true\">\n",
    "    #asdf-qwer {\n",
    "        background-color:rgb(49, 49, 49); /* trasparent */\n",
    "        color: ivory;\n",
    "    }\n",
    "</style>"
   ]
  },
  {
   "cell_type": "code",
   "execution_count": null,
   "metadata": {
    "bridget": {
     "id": "53aa3d74-fd38-4f50-80e4-5827db0924b7"
    }
   },
   "outputs": [],
   "source": [
    "%%HTML\n",
    "<script class=\"echo reflect\" contenteditable=\"true\">\n",
    "    console.log('Hello World');\n",
    "</script>\n"
   ]
  },
  {
   "cell_type": "code",
   "execution_count": null,
   "metadata": {
    "bridget": {
     "id": "ca26a640-ebe9-4f26-a7cb-0752d45582be"
    }
   },
   "outputs": [],
   "source": [
    "%%HTML\n",
    "\n",
    "<div contenteditable=\"true\">\n",
    "<div>Hello World</div>\n",
    "</div>"
   ]
  },
  {
   "cell_type": "code",
   "execution_count": null,
   "metadata": {
    "bridget": {
     "id": "460784f3-9420-4105-a4b4-6937f566b015"
    }
   },
   "outputs": [],
   "source": [
    "nb.state.find('%%HTML')[1]\n"
   ]
  },
  {
   "cell_type": "markdown",
   "metadata": {},
   "source": [
    "# Colophon\n",
    "----\n"
   ]
  },
  {
   "cell_type": "code",
   "execution_count": 15,
   "metadata": {},
   "outputs": [],
   "source": [
    "import fastcore.all as FC\n",
    "import nbdev\n",
    "from nbdev.clean import nbdev_clean\n"
   ]
  },
  {
   "cell_type": "code",
   "execution_count": 16,
   "metadata": {},
   "outputs": [],
   "source": [
    "if FC.IN_NOTEBOOK:\n",
    "    nb_path = '22_output_edit.ipynb'\n",
    "    nbdev_clean(nb_path)\n",
    "    nbdev.nbdev_export(nb_path)\n"
   ]
  }
 ],
 "metadata": {
  "kernelspec": {
   "display_name": "Python 3",
   "language": "python",
   "name": "python3"
  },
  "language_info": {
   "codemirror_mode": {
    "name": "ipython",
    "version": 3
   },
   "file_extension": ".py",
   "mimetype": "text/x-python",
   "name": "python",
   "nbconvert_exporter": "python",
   "pygments_lexer": "ipython3",
   "version": "3.12.11"
  }
 },
 "nbformat": 4,
 "nbformat_minor": 2
}
