{
 "cells": [
  {
   "cell_type": "code",
   "execution_count": 29,
   "metadata": {
    "brd": "65c106d2-eba7-488a-828b-b3ef4e3b945e"
   },
   "outputs": [],
   "source": [
    "#| default_exp display_helpers"
   ]
  },
  {
   "cell_type": "code",
   "execution_count": 30,
   "metadata": {
    "brd": "7d2d0f45-99ee-4447-8102-38629f324629"
   },
   "outputs": [],
   "source": [
    "#| export\n",
    "from __future__ import annotations"
   ]
  },
  {
   "cell_type": "markdown",
   "metadata": {},
   "source": [
    "# Helpers\n",
    "\n",
    "> ..."
   ]
  },
  {
   "cell_type": "markdown",
   "metadata": {},
   "source": [
    "# Prologue"
   ]
  },
  {
   "cell_type": "code",
   "execution_count": 31,
   "metadata": {
    "brd": "f6a97f3e-c20a-47a5-bf68-16d0ecc8eb00"
   },
   "outputs": [],
   "source": [
    "#| export\n",
    "\n",
    "import json\n",
    "import time\n",
    "import uuid\n",
    "from collections import deque\n",
    "from typing import Any\n",
    "from typing import Mapping\n",
    "from typing import overload\n",
    "from typing import Sequence\n",
    "\n",
    "import fastcore.all as FC\n",
    "import IPython\n",
    "import traitlets as T\n",
    "from fastcore.xml import to_xml\n",
    "from fasthtml.core import FastHTML\n",
    "from fasthtml.xtend import Style\n",
    "from IPython.display import DisplayHandle\n",
    "from IPython.display import HTML\n",
    "from olio.common import update_"
   ]
  },
  {
   "cell_type": "code",
   "execution_count": 32,
   "metadata": {
    "brd": "d821539f-8201-4aa1-893c-f3bf6a752a51"
   },
   "outputs": [],
   "source": [
    "#| export\n",
    "\n",
    "from bridget.helpers import skip\n",
    "from bridget.helpers import kounter"
   ]
  },
  {
   "cell_type": "code",
   "execution_count": 33,
   "metadata": {
    "brd": "b1a83bfa-3cae-4a83-8748-db181844e20e"
   },
   "outputs": [],
   "source": [
    "from fastcore.test import *\n",
    "from IPython.display import display\n",
    "from loguru import logger\n",
    "from olio.common import setup_console"
   ]
  },
  {
   "attachments": {},
   "cell_type": "markdown",
   "metadata": {},
   "source": [
    "----"
   ]
  },
  {
   "cell_type": "code",
   "execution_count": 34,
   "metadata": {
    "brd": "788144b8-ab9d-4566-9ab4-b21fbe47ca65"
   },
   "outputs": [],
   "source": [
    "console, cprint = setup_console(140)"
   ]
  },
  {
   "cell_type": "code",
   "execution_count": 35,
   "metadata": {
    "brd": "1ecf09ac-3251-439b-a2c8-95bebb7d4914"
   },
   "outputs": [],
   "source": [
    "#| exporti\n",
    "\n",
    "_n = '\\n'"
   ]
  },
  {
   "attachments": {},
   "cell_type": "markdown",
   "metadata": {},
   "source": [
    "----"
   ]
  },
  {
   "cell_type": "markdown",
   "metadata": {},
   "source": [
    "# Display Helpers"
   ]
  },
  {
   "cell_type": "markdown",
   "metadata": {},
   "source": [
    "# Rich display"
   ]
  },
  {
   "cell_type": "code",
   "execution_count": 36,
   "metadata": {
    "brd": "dca39bef-031b-4139-bfb7-c476f7d8842d"
   },
   "outputs": [],
   "source": [
    "def display_json(json):\n",
    "    from rich.json import JSON\n",
    "    from rich.jupyter import display as rich_display\n",
    "    json_renderable = JSON.from_data(json)\n",
    "    a = list(console.render(json_renderable))\n",
    "    rich_display(a, console._render_buffer(a))"
   ]
  },
  {
   "cell_type": "code",
   "execution_count": 37,
   "metadata": {
    "brd": "14b38dee-9488-4ae7-9239-9340e2d7fac3"
   },
   "outputs": [
    {
     "data": {
      "text/html": [
       "<pre style=\"white-space:pre;overflow-x:auto;line-height:normal;font-family:Menlo,'DejaVu Sans Mono',consolas,'Courier New',monospace\"><span style=\"font-weight: bold\">{</span>\n",
       "  <span style=\"color: #000080; text-decoration-color: #000080; font-weight: bold\">\"a\"</span>: <span style=\"color: #008080; text-decoration-color: #008080; font-weight: bold\">1</span>,\n",
       "  <span style=\"color: #000080; text-decoration-color: #000080; font-weight: bold\">\"b\"</span>: <span style=\"color: #008080; text-decoration-color: #008080; font-weight: bold\">2</span>\n",
       "<span style=\"font-weight: bold\">}</span>\n",
       "</pre>\n"
      ],
      "text/plain": [
       "\u001b[1m{\u001b[0m\n",
       "  \u001b[1;34m\"a\"\u001b[0m: \u001b[1;36m1\u001b[0m,\n",
       "  \u001b[1;34m\"b\"\u001b[0m: \u001b[1;36m2\u001b[0m\n",
       "\u001b[1m}\u001b[0m\n"
      ]
     },
     "metadata": {},
     "output_type": "display_data"
    }
   ],
   "source": [
    "display_json({'a': 1, 'b': 2})"
   ]
  },
  {
   "cell_type": "code",
   "execution_count": 38,
   "metadata": {
    "brd": "2d47b45a-f2e7-4414-863c-7a742860469c"
   },
   "outputs": [],
   "source": [
    "#| export\n",
    "\n",
    "@overload\n",
    "def pretty_repr(*o, html:bool=True, text:bool=False, **kwargs) -> str: ...\n",
    "@overload\n",
    "def pretty_repr(*o, html:bool=False, text:bool=True, **kwargs) -> str: ...\n",
    "def pretty_repr(*o, html:bool=True, text:bool=True, **kwargs) -> dict[str, str]|str:\n",
    "    from rich.pretty import Pretty\n",
    "    d = Pretty(*o, **kwargs)._repr_mimebundle_(\n",
    "        include=((),('text/plain',))[text] + ((),('text/html',))[html], \n",
    "        exclude=((),('text/plain',))[not text] + ((),('text/html',))[not html]\n",
    "        )\n",
    "    return d if len(d) > 1 else tuple(d.values())[0]"
   ]
  },
  {
   "cell_type": "code",
   "execution_count": 39,
   "metadata": {
    "brd": "5f242d43-3c01-4a82-9c2b-b5ebc4ffdd35"
   },
   "outputs": [
    {
     "data": {
      "text/html": [
       "<pre style=\"white-space:pre;overflow-x:auto;line-height:normal;font-family:Menlo,'DejaVu Sans Mono',consolas,'Courier New',monospace\"><span style=\"font-weight: bold\">{</span><span style=\"color: #008000; text-decoration-color: #008000\">'a'</span>: <span style=\"color: #008080; text-decoration-color: #008080; font-weight: bold\">1</span>, <span style=\"color: #008000; text-decoration-color: #008000\">'b'</span>: <span style=\"font-weight: bold\">[</span><span style=\"color: #008080; text-decoration-color: #008080; font-weight: bold\">1</span>, <span style=\"color: #008080; text-decoration-color: #008080; font-weight: bold\">2</span>, <span style=\"color: #008080; text-decoration-color: #008080; font-weight: bold\">3</span><span style=\"font-weight: bold\">]}</span>\n",
       "</pre>\n"
      ],
      "text/plain": [
       "<IPython.core.display.HTML object>"
      ]
     },
     "metadata": {},
     "output_type": "display_data"
    },
    {
     "name": "stdout",
     "output_type": "stream",
     "text": [
      "\u001b[1m{\u001b[0m\u001b[32m'a'\u001b[0m: \u001b[1;36m1\u001b[0m, \u001b[32m'b'\u001b[0m: \u001b[1m[\u001b[0m\u001b[1;36m1\u001b[0m, \u001b[1;36m2\u001b[0m, \u001b[1;36m3\u001b[0m\u001b[1m]\u001b[0m\u001b[1m}\u001b[0m\n",
      "\n"
     ]
    },
    {
     "data": {
      "text/html": [
       "<pre style=\"white-space:pre;overflow-x:auto;line-height:normal;font-family:Menlo,'DejaVu Sans Mono',consolas,'Courier New',monospace\"><span style=\"font-weight: bold\">{</span><span style=\"color: #008000; text-decoration-color: #008000\">'a'</span>: <span style=\"color: #008080; text-decoration-color: #008080; font-weight: bold\">1</span>, <span style=\"color: #008000; text-decoration-color: #008000\">'b'</span>: <span style=\"font-weight: bold\">[</span><span style=\"color: #008080; text-decoration-color: #008080; font-weight: bold\">1</span>, <span style=\"color: #008080; text-decoration-color: #008080; font-weight: bold\">2</span>, <span style=\"color: #008080; text-decoration-color: #008080; font-weight: bold\">3</span><span style=\"font-weight: bold\">]}</span>\n",
       "</pre>\n"
      ],
      "text/plain": [
       "\u001b[1m{\u001b[0m\u001b[32m'a'\u001b[0m: \u001b[1;36m1\u001b[0m, \u001b[32m'b'\u001b[0m: \u001b[1m[\u001b[0m\u001b[1;36m1\u001b[0m, \u001b[1;36m2\u001b[0m, \u001b[1;36m3\u001b[0m\u001b[1m]\u001b[0m\u001b[1m}\u001b[0m\n"
      ]
     },
     "metadata": {},
     "output_type": "display_data"
    }
   ],
   "source": [
    "display(HTML(pretty_repr({'a': 1, 'b': [1,2,3]}, text=False)))\n",
    "print(pretty_repr({'a': 1, 'b': [1,2,3]}, html=False))\n",
    "cprint({'a': 1, 'b': [1,2,3]})"
   ]
  },
  {
   "cell_type": "code",
   "execution_count": 40,
   "metadata": {
    "brd": "33dd1e10-a9b8-4d9a-8ade-730143c30376"
   },
   "outputs": [],
   "source": [
    "#| export\n",
    "\n",
    "def rich_display(*o, dhdl: DisplayHandle|None=None):\n",
    "    if not o: return\n",
    "    vv:tuple[str, ...] = tuple(FC.flatten([_.items() for _ in map(pretty_repr, o)]))  # type: ignore\n",
    "    dd = {'text/plain':'\\n'.join(vv[1::4]), 'text/html':'\\n'.join(vv[3::4])}\n",
    "    if dhdl: dhdl.update(dd, raw=True)\n",
    "    else: display(dd, raw=True)"
   ]
  },
  {
   "cell_type": "code",
   "execution_count": 41,
   "metadata": {
    "brd": "2717b8ed-bb07-4f60-b348-ab8e84da8954"
   },
   "outputs": [
    {
     "data": {
      "text/html": [
       "<pre style=\"white-space:pre;overflow-x:auto;line-height:normal;font-family:Menlo,'DejaVu Sans Mono',consolas,'Courier New',monospace\"><span style=\"font-weight: bold\">{</span><span style=\"color: #008000; text-decoration-color: #008000\">'a'</span>: <span style=\"color: #008080; text-decoration-color: #008080; font-weight: bold\">1</span>, <span style=\"color: #008000; text-decoration-color: #008000\">'b'</span>: <span style=\"color: #008080; text-decoration-color: #008080; font-weight: bold\">2</span><span style=\"font-weight: bold\">}</span>\n",
       "</pre>\n",
       "\n",
       "<pre style=\"white-space:pre;overflow-x:auto;line-height:normal;font-family:Menlo,'DejaVu Sans Mono',consolas,'Courier New',monospace\"><span style=\"font-weight: bold\">[</span><span style=\"color: #008080; text-decoration-color: #008080; font-weight: bold\">3</span>, <span style=\"color: #008080; text-decoration-color: #008080; font-weight: bold\">4</span>, <span style=\"color: #008080; text-decoration-color: #008080; font-weight: bold\">5</span><span style=\"font-weight: bold\">]</span>\n",
       "</pre>\n"
      ],
      "text/plain": [
       "\u001b[1m{\u001b[0m\u001b[32m'a'\u001b[0m: \u001b[1;36m1\u001b[0m, \u001b[32m'b'\u001b[0m: \u001b[1;36m2\u001b[0m\u001b[1m}\u001b[0m\n",
       "\n",
       "\u001b[1m[\u001b[0m\u001b[1;36m3\u001b[0m, \u001b[1;36m4\u001b[0m, \u001b[1;36m5\u001b[0m\u001b[1m]\u001b[0m\n"
      ]
     },
     "metadata": {},
     "output_type": "display_data"
    }
   ],
   "source": [
    "rich_display({'a': 1, 'b': 2}, [3, 4, 5])"
   ]
  },
  {
   "cell_type": "code",
   "execution_count": 42,
   "metadata": {
    "brd": "c4ee99f2-3e8a-45d1-933b-ffa53d280505"
   },
   "outputs": [
    {
     "data": {
      "text/html": [
       "<pre style=\"white-space:pre;overflow-x:auto;line-height:normal;font-family:Menlo,'DejaVu Sans Mono',consolas,'Courier New',monospace\"><span style=\"font-weight: bold\">{</span><span style=\"color: #008000; text-decoration-color: #008000\">'a'</span>: <span style=\"color: #008080; text-decoration-color: #008080; font-weight: bold\">1</span>, <span style=\"color: #008000; text-decoration-color: #008000\">'b'</span>: <span style=\"color: #008080; text-decoration-color: #008080; font-weight: bold\">2</span><span style=\"font-weight: bold\">}</span>\n",
       "</pre>\n",
       "\n",
       "<pre style=\"white-space:pre;overflow-x:auto;line-height:normal;font-family:Menlo,'DejaVu Sans Mono',consolas,'Courier New',monospace\"><span style=\"font-weight: bold\">[</span><span style=\"color: #008080; text-decoration-color: #008080; font-weight: bold\">3</span>, <span style=\"color: #008080; text-decoration-color: #008080; font-weight: bold\">4</span>, <span style=\"color: #008080; text-decoration-color: #008080; font-weight: bold\">5</span><span style=\"font-weight: bold\">]</span>\n",
       "</pre>\n"
      ],
      "text/plain": [
       "\u001b[1m{\u001b[0m\u001b[32m'a'\u001b[0m: \u001b[1;36m1\u001b[0m, \u001b[32m'b'\u001b[0m: \u001b[1;36m2\u001b[0m\u001b[1m}\u001b[0m\n",
       "\n",
       "\u001b[1m[\u001b[0m\u001b[1;36m3\u001b[0m, \u001b[1;36m4\u001b[0m, \u001b[1;36m5\u001b[0m\u001b[1m]\u001b[0m\n"
      ]
     },
     "metadata": {},
     "output_type": "display_data"
    }
   ],
   "source": [
    "dhdl = display(display_id=True)\n",
    "rich_display({'a': 1, 'b': 2}, [3, 4, 5], dhdl=dhdl)"
   ]
  },
  {
   "cell_type": "markdown",
   "metadata": {},
   "source": [
    "# Collapsable JSON"
   ]
  },
  {
   "cell_type": "code",
   "execution_count": 43,
   "metadata": {
    "brd": "c46ef02d-6946-42e5-b3aa-c0412b668230"
   },
   "outputs": [],
   "source": [
    "#| export\n",
    "\n",
    "class RenderJSON(object):\n",
    "    def __init__(self, json_data, max_height=200, init_level=0):\n",
    "        if isinstance(json_data, Sequence):\n",
    "            s = json.dumps(list(json_data))\n",
    "        elif isinstance(json_data, Mapping):\n",
    "            s = json.dumps(dict(json_data))\n",
    "        elif hasattr(json_data, 'to_dict'):\n",
    "            s = json.dumps(json_data.to_dict())\n",
    "        elif hasattr(json_data, 'to_json'):\n",
    "            s = json_data.to_json()\n",
    "        else:\n",
    "            s = json_data\n",
    "        self.json_str = s\n",
    "        self.uuid = str(uuid.uuid4())\n",
    "        self.max_height = max_height\n",
    "        self.init_level = init_level\n",
    "\n",
    "    def display(self):\n",
    "        html_content = f\"\"\"\n",
    "<div id=\"wrapper-{self.uuid}\" style=\"width: 100%; max-height: {self.max_height}px; overflow-y: auto;\">\n",
    "    <div id=\"{self.uuid}\" style=\"width: 100%;\"></div>\n",
    "    <script>\n",
    "        function renderMyJson() {{\n",
    "            renderjson.set_show_to_level({self.init_level});\n",
    "            document.getElementById('{self.uuid}').appendChild(renderjson({self.json_str}));\n",
    "        }};\n",
    "        function loadRenderjson() {{\n",
    "            if (window.renderjson) return Promise.resolve();\n",
    "            return new Promise((resolve, reject) => {{\n",
    "                const script = document.createElement('script');\n",
    "                script.src = 'https://cdn.jsdelivr.net/npm/renderjson@latest/renderjson.js';\n",
    "                script.onload = resolve;\n",
    "                script.onerror = reject;\n",
    "                document.head.appendChild(script);\n",
    "            }});\n",
    "        }};\n",
    "        loadRenderjson().then(renderMyJson).catch(err => console.error('Failed to load renderjson:', err));\n",
    "    </script>\n",
    "</div>\n",
    "\"\"\"\n",
    "        display(HTML(html_content), metadata={'bridge': {'skip':True}})\n",
    "\n",
    "    def _ipython_display_(self):\n",
    "        self.display()"
   ]
  },
  {
   "cell_type": "code",
   "execution_count": 44,
   "metadata": {
    "brd": "acc733a9-2078-440c-abe1-0c7ccf299b91"
   },
   "outputs": [
    {
     "data": {
      "text/html": [
       "\n",
       "<div id=\"wrapper-40ba1ac6-b8cf-41ff-bf6a-770b4206ad1c\" style=\"width: 100%; max-height: 200px; overflow-y: auto;\">\n",
       "    <div id=\"40ba1ac6-b8cf-41ff-bf6a-770b4206ad1c\" style=\"width: 100%;\"></div>\n",
       "    <script>\n",
       "        function renderMyJson() {\n",
       "            renderjson.set_show_to_level(1);\n",
       "            document.getElementById('40ba1ac6-b8cf-41ff-bf6a-770b4206ad1c').appendChild(renderjson({\"name\": \"Petronila\", \"age\": 28, \"interests\": [\"reading\", \"cycling\", \"technology\"], \"education\": {\"bachelor\": \"Computer Science\", \"master\": \"Data Science\", \"phd\": \"Not enrolled\"}}));\n",
       "        };\n",
       "        function loadRenderjson() {\n",
       "            if (window.renderjson) return Promise.resolve();\n",
       "            return new Promise((resolve, reject) => {\n",
       "                const script = document.createElement('script');\n",
       "                script.src = 'https://cdn.jsdelivr.net/npm/renderjson@latest/renderjson.js';\n",
       "                script.onload = resolve;\n",
       "                script.onerror = reject;\n",
       "                document.head.appendChild(script);\n",
       "            });\n",
       "        };\n",
       "        loadRenderjson().then(renderMyJson).catch(err => console.error('Failed to load renderjson:', err));\n",
       "    </script>\n",
       "</div>\n"
      ],
      "text/plain": [
       "<IPython.core.display.HTML object>"
      ]
     },
     "metadata": {
      "bridge": {
       "skip": true
      }
     },
     "output_type": "display_data"
    }
   ],
   "source": [
    "json_data = {\n",
    "    \"name\": \"Petronila\",\n",
    "    \"age\": 28,\n",
    "    \"interests\": [\"reading\", \"cycling\", \"technology\"],\n",
    "    \"education\": {\n",
    "        \"bachelor\": \"Computer Science\",\n",
    "        \"master\": \"Data Science\",\n",
    "        \"phd\": \"Not enrolled\"\n",
    "    }\n",
    "}\n",
    "\n",
    "RenderJSON(json_data, init_level=1).display()"
   ]
  },
  {
   "cell_type": "markdown",
   "metadata": {},
   "source": [
    "# CLog"
   ]
  },
  {
   "cell_type": "code",
   "execution_count": 45,
   "metadata": {
    "brd": "c827693c-3aa3-40ad-b319-41cd03647f62"
   },
   "outputs": [],
   "source": [
    "#| export\n",
    "\n",
    "def CLog(*o):\n",
    "    return f\"<script>console.log({','.join(map(repr, o))})</script>\""
   ]
  },
  {
   "cell_type": "code",
   "execution_count": 46,
   "metadata": {
    "brd": "88c095d0-3aea-4e18-aa32-d55dafd8647e"
   },
   "outputs": [
    {
     "data": {
      "text/html": [
       "<script>console.log('aaaa','bbbb')</script>"
      ],
      "text/plain": [
       "<IPython.core.display.HTML object>"
      ]
     },
     "metadata": {},
     "output_type": "display_data"
    }
   ],
   "source": [
    "display(HTML(CLog('aaaa', 'bbbb')))"
   ]
  },
  {
   "cell_type": "markdown",
   "metadata": {},
   "source": [
    "# displaydh"
   ]
  },
  {
   "cell_type": "code",
   "execution_count": 47,
   "metadata": {
    "brd": "c6b35f59-dc34-4dd0-b8c6-44f54d3c8118"
   },
   "outputs": [],
   "source": [
    "#| export\n",
    "\n",
    "@FC.delegates(display, keep=True)  # type: ignore\n",
    "def displaydh(*objs, **kwargs) -> DisplayHandle:\n",
    "    return display(*objs, **update_(kwargs, display_id=True))  # type: ignore\n",
    "displaydh.__doc__ = IPython.display.display.__doc__  # type: ignore"
   ]
  },
  {
   "cell_type": "code",
   "execution_count": 48,
   "metadata": {
    "brd": "f0201685-23e0-415a-be03-1ffbf71fc916"
   },
   "outputs": [],
   "source": [
    "#| export\n",
    "\n",
    "@overload\n",
    "def display(\n",
    "    *objs, include=None, exclude=None, metadata=None, transient=None,\n",
    "    display_id:bool=True,\n",
    "    raw=False, clear=False, **kwargs) -> DisplayHandle: ...\n",
    "@overload\n",
    "def display(\n",
    "    *objs, include=None, exclude=None, metadata=None, transient=None,\n",
    "    display_id=str|None,\n",
    "    raw=False, clear=False, **kwargs) -> None: ...\n",
    "def display(\n",
    "    *objs, include=None, exclude=None, metadata=None, transient=None,\n",
    "    display_id=None,\n",
    "    raw=False, clear=False, **kwargs) -> DisplayHandle | None: ...\n",
    "\n",
    "display = IPython.display.display  # type: ignore"
   ]
  },
  {
   "cell_type": "code",
   "execution_count": 49,
   "metadata": {
    "brd": "7eab5f2d-b127-484b-b8f8-879b6f1725c0"
   },
   "outputs": [
    {
     "data": {
      "text/plain": [
       "'a'"
      ]
     },
     "metadata": {},
     "output_type": "display_data"
    }
   ],
   "source": [
    "dh = display('a', display_id=True)"
   ]
  },
  {
   "cell_type": "markdown",
   "metadata": {},
   "source": [
    "# BasicLogger"
   ]
  },
  {
   "cell_type": "code",
   "execution_count": 50,
   "metadata": {
    "brd": "53a73ad0-e3e6-448f-96f1-f0b04a80439e"
   },
   "outputs": [],
   "source": [
    "#| export\n",
    "\n",
    "class NBLogger:\n",
    "    def log(self, *msg:Any, clear:bool=False):...\n",
    "    def clear_log(self):...\n",
    "    def close(self, msg:str|None=None):...\n",
    "    def display(self, content:str=''):...\n",
    "\n",
    "\n",
    "class NoopLogger(NBLogger):\n",
    "    def __getattr__(self, name:str): return FC.noop\n",
    "\n",
    "class BasicLogger(NBLogger):\n",
    "    _fmt = str\n",
    "    _stl = 'border: 1px solid black; overflow: auto;'\n",
    "    def __init__(self, msg:str|None=None, **kwargs):\n",
    "        self.setup(msg, **kwargs)\n",
    "    def setup(self, msg:str|None=None, height:int=200):\n",
    "        self.html = False\n",
    "        self._msgs = deque(maxlen=30)\n",
    "        self.height = height\n",
    "        self.dh = displaydh(display_id=True, metadata=skip())\n",
    "        if msg: self.log(msg)\n",
    "        return self\n",
    "    \n",
    "    def display(self, content:str=''):\n",
    "        if self.dh: \n",
    "            try: self.dh.update(HTML(''), metadata=skip())\n",
    "            except Exception: pass\n",
    "        self.dh = displaydh(display_id=True, metadata=skip())\n",
    "        self.log(content)\n",
    "\n",
    "    def log(self, *msg:Any, clear:bool=False):\n",
    "        if clear: self._msgs.clear()\n",
    "        self._msgs.appendleft(' '.join(map(self._fmt, msg)))\n",
    "        ss = '\\n'.join((f\"<div>{msg}</div>\" for msg in self._msgs) if not self.html else self._msgs)\n",
    "        if self.dh: \n",
    "            try: self.dh.update(HTML(f\"<div style='max-height: {self.height}px; {self._stl}'>{ss}</div>\"), metadata=skip())\n",
    "            except Exception: pass\n",
    "    def clear_log(self):\n",
    "        self._msgs.clear()\n",
    "        if self.dh: \n",
    "            try: self.dh.update(HTML(''), metadata=skip())\n",
    "            except Exception: pass\n",
    "    def close(self, msg:str|None=None):\n",
    "        if self.dh and msg: \n",
    "            try: self.dh.update(HTML(msg), metadata=skip())\n",
    "            except Exception: pass\n",
    "        self.dh = None"
   ]
  },
  {
   "cell_type": "code",
   "execution_count": 51,
   "metadata": {
    "brd": "3fa42f58-75ce-4be9-b243-ce0d1ec2e345"
   },
   "outputs": [
    {
     "data": {
      "text/html": [],
      "text/plain": [
       "<IPython.core.display.HTML object>"
      ]
     },
     "metadata": {
      "bridge": {
       "skip": true
      }
     },
     "output_type": "display_data"
    }
   ],
   "source": [
    "bl = BasicLogger('BasicLogger initialized', height=100)"
   ]
  },
  {
   "cell_type": "code",
   "execution_count": 52,
   "metadata": {
    "brd": "0afbb9f0-ed05-4c02-bb8d-29fb04905a0d"
   },
   "outputs": [],
   "source": [
    "for i,x in enumerate(range(10)): bl.log(f'test{i}')"
   ]
  },
  {
   "cell_type": "code",
   "execution_count": 53,
   "metadata": {
    "brd": "cab62887-12d4-49ee-a87a-3f1197eb24d7"
   },
   "outputs": [
    {
     "data": {
      "text/html": [
       "BasicLogger closed"
      ],
      "text/plain": [
       "<IPython.core.display.HTML object>"
      ]
     },
     "metadata": {
      "bridge": {
       "skip": true
      }
     },
     "output_type": "display_data"
    }
   ],
   "source": [
    "bl.display()"
   ]
  },
  {
   "cell_type": "code",
   "execution_count": 54,
   "metadata": {
    "brd": "c61880a8-c82d-4bfa-b90c-dc530c750550"
   },
   "outputs": [],
   "source": [
    "bl.close('BasicLogger closed')"
   ]
  },
  {
   "cell_type": "code",
   "execution_count": 55,
   "metadata": {
    "brd": "7a75cbec-4a7d-4da0-8885-a085ff95b989"
   },
   "outputs": [],
   "source": [
    "#| exporti\n",
    "\n",
    "level_colors = {\n",
    "    \"DEBUG\": \"#666666\",    # gray\n",
    "    \"INFO\": \"#000000\",     # black\n",
    "    \"SUCCESS\": \"#007700\",  # green\n",
    "    \"WARNING\": \"#ff8800\",  # orange\n",
    "    \"ERROR\": \"#ff0000\",    # red\n",
    "    \"CRITICAL\": \"#880000\", # dark red\n",
    "}"
   ]
  },
  {
   "cell_type": "code",
   "execution_count": 56,
   "metadata": {
    "brd": "c1b5fb1b-2e44-4fbd-9bd0-5f6a61ffe415"
   },
   "outputs": [],
   "source": [
    "class LoguruBasicLogger(BasicLogger):\n",
    "    def __init__(self): \n",
    "        super().__init__()\n",
    "        self._fmt = FC.noop\n",
    "    \n",
    "    def write(self, message: str) -> None:\n",
    "        if rec := getattr(message, 'record', None):\n",
    "            level = rec['level'].name\n",
    "        else: \n",
    "            for level in level_colors: \n",
    "                if level in message: break\n",
    "        message = f\"<span style='color: {level_colors[level]}'>{message}</span>\"\n",
    "        self.log(message)"
   ]
  },
  {
   "cell_type": "code",
   "execution_count": 57,
   "metadata": {
    "brd": "a74133b5-58a8-43cc-90ce-72dd4af2d393"
   },
   "outputs": [
    {
     "data": {
      "text/html": [
       "<div style='max-height: 200px; border: 1px solid black; overflow: auto;'><div><span style='color: #ff0000'>ERROR | This is an error\n",
       "</span></div>\n",
       "<div><span style='color: #ff8800'>WARNING | This is a warning\n",
       "</span></div>\n",
       "<div><span style='color: #000000'>INFO | This is an info message\n",
       "</span></div>\n",
       "<div><span style='color: #666666'>DEBUG | This is a debug message\n",
       "</span></div></div>"
      ],
      "text/plain": [
       "<IPython.core.display.HTML object>"
      ]
     },
     "metadata": {
      "bridge": {
       "skip": true
      }
     },
     "output_type": "display_data"
    }
   ],
   "source": [
    "logger.remove()  # Remove default handler\n",
    "handler_id = logger.add(\n",
    "    (lbl := LoguruBasicLogger()).write, \n",
    "    format=\"{level} | {message}\",  # Simple format, we'll add HTML in the sink\n",
    "    colorize=False  # Disable ANSI colors\n",
    ")"
   ]
  },
  {
   "cell_type": "code",
   "execution_count": 58,
   "metadata": {
    "brd": "dd724db0-7ee1-4cd7-a075-2f18ea779315"
   },
   "outputs": [],
   "source": [
    "logger.debug(\"This is a debug message\")\n",
    "logger.info(\"This is an info message\")\n",
    "logger.warning(\"This is a warning\")\n",
    "logger.error(\"This is an error\")"
   ]
  },
  {
   "cell_type": "code",
   "execution_count": 59,
   "metadata": {
    "brd": "48bc89a4-5a4e-4dc5-b725-9e0fe53731fe"
   },
   "outputs": [],
   "source": [
    "class LoguruBasicLogger(BasicLogger):\n",
    "    def __init__(self):\n",
    "        super().__init__()\n",
    "        self._fmt = FC.noop\n",
    "        self.html = True\n",
    "    \n",
    "    def write(self, message:str) -> None:\n",
    "        rec = getattr(message, 'record', json.loads(message))\n",
    "        formatted_msg = (\n",
    "            f\"<div style='display: flex; gap: 8px'>\"\n",
    "            f\"<span style='color: #888'>{rec['time'].strftime('%H:%M:%S')}</span>\"\n",
    "            f\"<span style='color: {level_colors[rec['level'].name]}'>{rec['level'].name:8}</span>\"\n",
    "            f\"<span>{rec['message']}</span>\"\n",
    "            f\"</div>\"\n",
    "        )\n",
    "        \n",
    "        self.log(formatted_msg)\n",
    "\n",
    "def configure_logger(basic_logger: BasicLogger) -> int:\n",
    "    \"\"\"Configure loguru to use a specific BasicLogger instance.\"\"\"\n",
    "    logger.remove()\n",
    "    return logger.add(\n",
    "        basic_logger.write,  # type: ignore\n",
    "        serialize=True  # This makes loguru pass a json to write()\n",
    "    )"
   ]
  },
  {
   "cell_type": "code",
   "execution_count": 60,
   "metadata": {
    "brd": "0d25e93e-8982-4bd0-b222-db966b07f8e3"
   },
   "outputs": [
    {
     "data": {
      "text/html": [
       "<div style='max-height: 200px; border: 1px solid black; overflow: auto;'><div style='display: flex; gap: 8px'><span style='color: #888'>12:47:58</span><span style='color: #ff0000'>ERROR   </span><span>This is an error</span></div>\n",
       "<div style='display: flex; gap: 8px'><span style='color: #888'>12:47:58</span><span style='color: #ff8800'>WARNING </span><span>This is a warning</span></div>\n",
       "<div style='display: flex; gap: 8px'><span style='color: #888'>12:47:58</span><span style='color: #000000'>INFO    </span><span>This is an info message</span></div>\n",
       "<div style='display: flex; gap: 8px'><span style='color: #888'>12:47:58</span><span style='color: #666666'>DEBUG   </span><span>This is a debug message</span></div></div>"
      ],
      "text/plain": [
       "<IPython.core.display.HTML object>"
      ]
     },
     "metadata": {
      "bridge": {
       "skip": true
      }
     },
     "output_type": "display_data"
    }
   ],
   "source": [
    "lbl = LoguruBasicLogger()\n",
    "handler_id = configure_logger(lbl)"
   ]
  },
  {
   "cell_type": "code",
   "execution_count": 61,
   "metadata": {
    "brd": "92555d6f-404d-4e51-9279-bd2972fee341"
   },
   "outputs": [],
   "source": [
    "logger.debug(\"This is a debug message\")\n",
    "logger.info(\"This is an info message\")\n",
    "logger.warning(\"This is a warning\")\n",
    "logger.error(\"This is an error\")"
   ]
  },
  {
   "cell_type": "code",
   "execution_count": 62,
   "metadata": {
    "brd": "0bb69970-9307-4f6a-922d-0517e795f7ac"
   },
   "outputs": [],
   "source": [
    "#| exporti\n",
    "\n",
    "@FC.patch\n",
    "def setup_loguru_sink(self: BasicLogger, logger):\n",
    "    def sink(message:str) -> None:\n",
    "        rec = getattr(message, 'record', None) or json.loads(message)\n",
    "        formatted_msg = (\n",
    "            f\"<div style='display: flex; gap: 8px'>\"\n",
    "            f\"<span style='width: 8em; color: #888'>{rec['time'].strftime('%H:%M:%S.%f')}</span>\"\n",
    "            f\"<span style='width: 3.3em; color: {level_colors[rec['level'].name]}'>{rec['level'].name.lower():8}</span>\"\n",
    "            # f\"<span>{rec['level'].icon}</span>\"\n",
    "            f\"<span>{rec['message']}</span>\"\n",
    "            f\"</div>\"\n",
    "        )\n",
    "        \n",
    "        self.log(formatted_msg)\n",
    "    \n",
    "    self.html = True\n",
    "    logger.remove()\n",
    "    logger.add(\n",
    "        sink, \n",
    "        # format=\"<span style='color: {level.color}'>{message}</span>\",\n",
    "        # colorize=True\n",
    "        # serialize=True\n",
    "    )\n",
    "    return sink"
   ]
  },
  {
   "cell_type": "code",
   "execution_count": 63,
   "metadata": {
    "brd": "74587861-8a63-4d70-8511-96d2b3431d38"
   },
   "outputs": [
    {
     "data": {
      "text/html": [
       "<div style='max-height: 200px; border: 1px solid black; overflow: auto;'><div style='display: flex; gap: 8px'><span style='width: 8em; color: #888'>12:47:58.414908</span><span style='width: 3.3em; color: #ff0000'>error   </span><span>This is an error</span></div>\n",
       "<div style='display: flex; gap: 8px'><span style='width: 8em; color: #888'>12:47:58.414124</span><span style='width: 3.3em; color: #ff8800'>warning </span><span>This is a warning</span></div>\n",
       "<div style='display: flex; gap: 8px'><span style='width: 8em; color: #888'>12:47:58.413349</span><span style='width: 3.3em; color: #000000'>info    </span><span>This is an info message</span></div>\n",
       "<div style='display: flex; gap: 8px'><span style='width: 8em; color: #888'>12:47:58.412209</span><span style='width: 3.3em; color: #666666'>debug   </span><span>This is a debug message</span></div></div>"
      ],
      "text/plain": [
       "<IPython.core.display.HTML object>"
      ]
     },
     "metadata": {
      "bridge": {
       "skip": true
      }
     },
     "output_type": "display_data"
    }
   ],
   "source": [
    "my_logger = BasicLogger().setup_loguru_sink(logger)  # type: ignore"
   ]
  },
  {
   "cell_type": "code",
   "execution_count": 64,
   "metadata": {
    "brd": "976e10b1-5358-4ca0-bdb6-b6020c7bb929"
   },
   "outputs": [],
   "source": [
    "logger.debug(\"This is a debug message\")\n",
    "logger.info(\"This is an info message\")\n",
    "logger.warning(\"This is a warning\")\n",
    "logger.error(\"This is an error\")"
   ]
  },
  {
   "cell_type": "markdown",
   "metadata": {},
   "source": [
    "# Canvas"
   ]
  },
  {
   "cell_type": "code",
   "execution_count": 65,
   "metadata": {
    "brd": "4ddcff3c-16f7-4589-ae57-1493d48d55b8"
   },
   "outputs": [],
   "source": [
    "#| export\n",
    "\n",
    "LogCanvas_css = '''\n",
    "  @scope (.brd-logger) {\n",
    "    :scope { \n",
    "      border: 1px solid steelblue; \n",
    "      overflow: auto; \n",
    "      font-family: monospace; \n",
    "      font-size: 13px; \n",
    "    }\n",
    "    .ts { color:lightgray; }\n",
    "  }\n",
    "'''\n",
    "LogCanvas_stl = Style(LogCanvas_css, id='brd-logger-stl')"
   ]
  },
  {
   "cell_type": "code",
   "execution_count": 66,
   "metadata": {
    "brd": "71cdddee-cbf3-46ec-9079-7b5e701c2f24"
   },
   "outputs": [
    {
     "data": {
      "text/html": [
       "<style id=\"brd-logger-stl\">\n",
       "  @scope (.brd-logger) {\n",
       "    :scope { \n",
       "      border: 1px solid steelblue; \n",
       "      overflow: auto; \n",
       "      font-family: monospace; \n",
       "      font-size: 13px; \n",
       "    }\n",
       "    .ts { color:lightgray; }\n",
       "  }\n",
       "</style>\n"
      ],
      "text/plain": [
       "<IPython.core.display.HTML object>"
      ]
     },
     "metadata": {},
     "output_type": "display_data"
    }
   ],
   "source": [
    "display(HTML(to_xml(LogCanvas_stl)))"
   ]
  },
  {
   "cell_type": "code",
   "execution_count": 67,
   "metadata": {
    "brd": "61ebd2ac-f7b5-4ab9-bfb0-34980e742764"
   },
   "outputs": [],
   "source": [
    "#| export\n",
    "\n",
    "class Canvas(T.HasTraits):\n",
    "    height = T.Int(200).tag(sync=True)\n",
    "    elid = T.Unicode('').tag(sync=True)\n",
    "    def display(self): ...\n",
    "\n",
    "class LogCanvas(Canvas):\n",
    "    _stl = 'border: 1px solid black; overflow: auto; font-family: monospace; font-size: 13px;'\n",
    "    \n",
    "    def display(self, content:str=''):\n",
    "        elid = f\"brd-logger-{kounter('canvas')}\"\n",
    "        display(HTML(\n",
    "            f\"<div id='{elid}' class='brd-logger' \"\n",
    "            f\"style='width: 100%; max-height: {self.height}px;'\"# {self._stl}'\"\n",
    "            f\">{content}</div>\"))\n",
    "        time.sleep(0.25)\n",
    "        self.elid = elid"
   ]
  },
  {
   "cell_type": "code",
   "execution_count": 68,
   "metadata": {
    "brd": "e2108794-c7f8-4599-b7c7-5c14c08425f0"
   },
   "outputs": [
    {
     "data": {
      "text/html": [
       "<div id='brd-logger-1' class='brd-logger' style='width: 100%; max-height: 100px;'>a<br>b<br>c<br></div>"
      ],
      "text/plain": [
       "<IPython.core.display.HTML object>"
      ]
     },
     "metadata": {},
     "output_type": "display_data"
    }
   ],
   "source": [
    "canvas = LogCanvas(height=100)\n",
    "canvas.display(f\"{'<br>'.join('abc')}<br>\")"
   ]
  },
  {
   "cell_type": "code",
   "execution_count": 69,
   "metadata": {
    "brd": "b65a9c72-9999-49bd-83e7-5a4ca7bd9670"
   },
   "outputs": [
    {
     "data": {
      "text/html": [
       "<div id='brd-logger-2' class='brd-logger' style='width: 100%; max-height: 100px;'><span class='ts'>ts</span> <span class='msg'>msg</span></div>"
      ],
      "text/plain": [
       "<IPython.core.display.HTML object>"
      ]
     },
     "metadata": {},
     "output_type": "display_data"
    }
   ],
   "source": [
    "canvas.display(f\"<span class='ts'>ts</span> <span class='msg'>msg</span>\")"
   ]
  },
  {
   "cell_type": "code",
   "execution_count": 70,
   "metadata": {
    "brd": "7ecd4ec3-0aea-4210-9910-983efd22a7ba"
   },
   "outputs": [
    {
     "data": {
      "text/html": [
       "<div id='brd-logger-3' class='brd-logger' style='width: 100%; max-height: 100px;'>d<br>e<br>f<br></div>"
      ],
      "text/plain": [
       "<IPython.core.display.HTML object>"
      ]
     },
     "metadata": {},
     "output_type": "display_data"
    }
   ],
   "source": [
    "canvas.display(f\"{'<br>'.join('def')}<br>\")"
   ]
  },
  {
   "cell_type": "markdown",
   "metadata": {},
   "source": [
    "# nb_app\n",
    "> Basic naked FastHTML app"
   ]
  },
  {
   "cell_type": "code",
   "execution_count": 63,
   "metadata": {
    "brd": "567b6af9-3382-41f1-9685-939f5e34edeb"
   },
   "outputs": [],
   "source": [
    "#| export\n",
    "\n",
    "@FC.delegates(FastHTML)  # type: ignore\n",
    "def nb_app(**kwargs):\n",
    "    from starlette.middleware.cors import CORSMiddleware\n",
    "    kwargs.update(default_hdrs=False, sess_cls=None)\n",
    "    app = FastHTML(**kwargs)\n",
    "    app.user_middleware = list(filter(lambda x: x.cls is not CORSMiddleware, app.user_middleware))\n",
    "    return app\n"
   ]
  },
  {
   "cell_type": "markdown",
   "metadata": {},
   "source": [
    "# Colophon\n",
    "----"
   ]
  },
  {
   "cell_type": "code",
   "execution_count": 71,
   "metadata": {
    "brd": "24145e24-3f37-4075-a5d1-e758631d2ad0"
   },
   "outputs": [],
   "source": [
    "import fastcore.all as FC\n",
    "import nbdev\n",
    "from nbdev.clean import nbdev_clean\n"
   ]
  },
  {
   "cell_type": "code",
   "execution_count": 72,
   "metadata": {
    "brd": "dc5db120-cb66-46f1-a35d-995e347d8585"
   },
   "outputs": [],
   "source": [
    "if FC.IN_NOTEBOOK:\n",
    "    nb_path = '02_display_helpers.ipynb'\n",
    "    # nbdev_clean(nb_path)\n",
    "    nbdev.nbdev_export(nb_path)\n"
   ]
  }
 ],
 "metadata": {
  "kernelspec": {
   "display_name": "Python 3",
   "language": "python",
   "name": "python3"
  },
  "language_info": {
   "codemirror_mode": {
    "name": "ipython",
    "version": 3
   },
   "file_extension": ".py",
   "mimetype": "text/x-python",
   "name": "python",
   "nbconvert_exporter": "python",
   "pygments_lexer": "ipython3",
   "version": "3.12.8"
  }
 },
 "nbformat": 4,
 "nbformat_minor": 2
}
