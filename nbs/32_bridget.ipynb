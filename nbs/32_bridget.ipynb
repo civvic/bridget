{
 "cells": [
  {
   "cell_type": "code",
   "execution_count": null,
   "metadata": {},
   "outputs": [],
   "source": [
    "#| default_exp bridget\n"
   ]
  },
  {
   "cell_type": "code",
   "execution_count": null,
   "metadata": {},
   "outputs": [],
   "source": [
    "#| export\n",
    "from __future__ import annotations\n"
   ]
  },
  {
   "cell_type": "markdown",
   "metadata": {},
   "source": [
    "# Bridget\n",
    "> HTMX + FastHTML - Server for Jupyter Notebooks\n",
    "\n",
    "`AnyWidget` widget standing in for an HTTP server with `HTMX` Ajax calls."
   ]
  },
  {
   "cell_type": "markdown",
   "metadata": {},
   "source": [
    "## Why Bridget?\n"
   ]
  },
  {
   "cell_type": "markdown",
   "metadata": {},
   "source": [
    "\n",
    "Jupyter notebooks serve two primary functions:\n",
    "1. **Exploratory/Educational**: Interactive computing and learning\n",
    "2. **Development**: Literate programming and package creation (via nbdev)\n",
    "\n",
    "While code creation is well-served by various notebook environments (Jupyter, VSCode, Marimo, etc.), the display and interaction capabilities are often limited by IPython's well-thought but basic and aging display system. Modern development requires:\n",
    "\n",
    "- Rich data visualization\n",
    "- Interactive system integration\n",
    "- Better control over output rendering\n",
    "\n",
    "### The Front-end Challenge\n",
    "\n",
    "Notebooks already run in browsers (or browser-like environments), giving us access to powerful HTML/JavaScript capabilities. The front-end and kernel are inherently connected, suggesting we shouldn't need additional communication layers.\n",
    "\n",
    "However, the notebook ecosystem is fragmented:\n",
    "- Jupyter (nbclassic, Notebook, Lab): ipywidgets\n",
    "- VSCode/Cursor: Extensions\n",
    "- Marimo: Custom solutions\n",
    "- Google Colab: Proprietary package\n",
    "\n",
    "This fragmentation forces users needing better display solutions to deal with complex, environment-specific tooling.\n",
    "\n",
    "### Enter FastHTML and HTMX\n",
    "\n",
    "FastHTML provides an innovative approach to web apps, emphasizing HTML-first development through HTMX. While Jupyter support isn't its core focus, FastHTML itself is developed using nbdev in notebooks.\n",
    "\n",
    "Current FastHTML notebook integration:\n",
    "- Launches a separate Uvicorn server\n",
    "- Connects HTMX via standard HTTP/AJAX\n",
    "- Works across most notebook variants\n",
    "\n",
    "This approach is general, clean and lightweight but involves spawning a full HTTP server with:\n",
    "- Multi-user capabilities (unnecessary for notebooks)\n",
    "- Async architecture (notebooks are sync)\n",
    "- Complex lifecycle management\n",
    "- Production-level features (overkill for notebook use)\n",
    "- IPython Javascript display object in each cell to trigger HTMX.\n",
    "\n",
    "### The Bridget Solution\n",
    "\n",
    "Bridget proposes using a widget-based approach that:\n",
    "1. **Simplifies**: Replaces HTTP server with direct widget communication\n",
    "2. **Generalizes**: Works across notebook environments via AnyWidget\n",
    "3. **Extends**: Enables creation of notebook-specific components\n",
    "4. **Integrates**: Provides Python API for HTMX functionality\n",
    "\n",
    "This proof-of-concept shows how we can maintain FastHTML's powerful features while better adapting to the notebook environment's unique characteristics and constraints."
   ]
  },
  {
   "cell_type": "markdown",
   "metadata": {},
   "source": [
    ":::{.callout-note}\n",
    "Personal note: My interest here isn't web apps, but notebook development.  \n",
    "\n",
    "I like ipywidgets, or at least their intentions. I've written several and used them in many personal projects. However, they're a challenging piece of software with complicated tooling. They inherit all the nightmarish complexity of the JavaScript ecosystem, where the tooling is more involved than the language itself. AnyWidget is a step in the right direction, liberating us Pythonistas from the JS ecosystem. But the notebook part, the Python part, remains an unsolved problem in my opinion.\n",
    "\n",
    "Of all solutions I've explored for achieving full interactivity in notebooks, HTMX + FastHTML comes closest, feeling more natural and integrating better with the notebook environment.\n",
    ":::"
   ]
  },
  {
   "cell_type": "markdown",
   "metadata": {},
   "source": [
    "# Prologue"
   ]
  },
  {
   "cell_type": "code",
   "execution_count": null,
   "metadata": {},
   "outputs": [],
   "source": [
    "#| export\n",
    "\n",
    "import inspect\n",
    "import time\n",
    "from pathlib import Path\n",
    "from types import MethodType\n",
    "from typing import Any\n",
    "from typing import Mapping\n",
    "from typing import Protocol\n",
    "from typing import TypeAlias\n",
    "\n",
    "import anywidget\n",
    "import fastcore.all as FC\n",
    "import traitlets as T\n",
    "from anyio import from_thread\n",
    "from fastcore.xml import escape\n",
    "from fastcore.xml import FT\n",
    "from fastcore.xml import NotStr\n",
    "from fastcore.xml import to_xml\n",
    "from fasthtml.core import APIRouter\n",
    "from fasthtml.core import Client\n",
    "from fasthtml.core import FastHTML\n",
    "from httpx import ASGITransport\n",
    "from httpx import AsyncClient\n",
    "from httpx import codes\n",
    "from httpx import Request\n",
    "from httpx import Response\n",
    "from IPython.display import display\n",
    "from IPython.display import HTML\n",
    "from olio.common import update_\n"
   ]
  },
  {
   "cell_type": "code",
   "execution_count": null,
   "metadata": {},
   "outputs": [],
   "source": [
    "#| export\n",
    "\n",
    "from fasthtml.components import Div, Details, Summary, B, Pre, Span\n"
   ]
  },
  {
   "cell_type": "code",
   "execution_count": null,
   "metadata": {},
   "outputs": [],
   "source": [
    "#| export\n",
    "\n",
    "import bridget\n",
    "from bridget.cell_display import DisplayId\n",
    "from bridget.display_helpers import BasicLogger\n",
    "from bridget.display_helpers import nb_app\n",
    "from bridget.display_helpers import pretty_repr\n",
    "from bridget.helpers import bridge_cfg\n",
    "from bridget.helpers import id_gen\n",
    "from bridget.htmx import swap\n",
    "from bridget.htmx import SwapStyleT\n",
    "from bridget.routing import add_routes\n",
    "from bridget.routing import RouteProviderP\n",
    "from bridget.widget_helpers import anysource\n",
    "from bridget.widget_helpers import BlockingMixin\n"
   ]
  },
  {
   "cell_type": "code",
   "execution_count": null,
   "metadata": {},
   "outputs": [],
   "source": [
    "import dataclasses\n",
    "import json\n",
    "import random\n",
    "from contextlib import contextmanager\n",
    "from inspect import Parameter\n",
    "from typing import cast\n",
    "\n",
    "import fasthtml.components as ft\n",
    "from bridget.routing import RouteProvider\n",
    "from fastcore.test import *\n",
    "from fasthtml.basics import ft_html\n",
    "from fasthtml.components import Button\n",
    "from fasthtml.components import H1\n",
    "from fasthtml.components import H2\n",
    "from fasthtml.components import Input\n",
    "from fasthtml.components import Label\n",
    "from fasthtml.components import Li\n",
    "from fasthtml.components import Main\n",
    "from fasthtml.components import show\n",
    "from fasthtml.components import Spanconsole\n",
    "from fasthtml.components import Text\n",
    "from fasthtml.components import Title\n",
    "from fasthtml.components import Ul\n",
    "from fasthtml.xtend import Style\n",
    "from IPython.display import DisplayHandle\n",
    "from IPython.display import Javascript\n",
    "from IPython.display import Markdown\n",
    "from olio.common import setup_console\n"
   ]
  },
  {
   "cell_type": "code",
   "execution_count": null,
   "metadata": {},
   "outputs": [],
   "source": [
    "from bridget.routing import ar\n",
    "from bridget.widget_helpers import cleanupwidgets\n"
   ]
  },
  {
   "cell_type": "markdown",
   "metadata": {},
   "source": [
    "----\n"
   ]
  },
  {
   "cell_type": "code",
   "execution_count": null,
   "metadata": {},
   "outputs": [],
   "source": [
    "#| exporti\n",
    "\n",
    "DEBUG = True\n",
    "new_id = id_gen()\n",
    "IDISPLAY = display\n"
   ]
  },
  {
   "cell_type": "code",
   "execution_count": null,
   "metadata": {},
   "outputs": [],
   "source": [
    "console, cprint = setup_console(140)\n"
   ]
  },
  {
   "cell_type": "code",
   "execution_count": null,
   "metadata": {},
   "outputs": [],
   "source": [
    "# needed for vfile:\n",
    "%load_ext anywidget\n"
   ]
  },
  {
   "cell_type": "code",
   "execution_count": null,
   "metadata": {},
   "outputs": [
    {
     "name": "stdout",
     "output_type": "stream",
     "text": [
      "env: ANYWIDGET_HMR=0\n"
     ]
    }
   ],
   "source": [
    "%env ANYWIDGET_HMR=0"
   ]
  },
  {
   "cell_type": "markdown",
   "metadata": {},
   "source": [
    "----"
   ]
  },
  {
   "cell_type": "code",
   "execution_count": null,
   "metadata": {},
   "outputs": [],
   "source": [
    "#| exporti\n",
    "\n",
    "BUNDLE_PATH = Path() if __name__ == \"__main__\" else Path(inspect.getfile(bridget)).parent\n"
   ]
  },
  {
   "cell_type": "code",
   "execution_count": null,
   "metadata": {},
   "outputs": [],
   "source": [
    "_EMPTY = Parameter.empty\n",
    "_VOID = object()\n"
   ]
  },
  {
   "cell_type": "code",
   "execution_count": null,
   "metadata": {},
   "outputs": [],
   "source": [
    "#| exporti\n",
    "\n",
    "_n = '\\n'"
   ]
  },
  {
   "cell_type": "markdown",
   "metadata": {},
   "source": [
    "# Helpers\n",
    "> Some convenience utils to work with FastHTML in Notebooks."
   ]
  },
  {
   "cell_type": "markdown",
   "metadata": {},
   "source": [
    "## Bridget scripts\n",
    "\n",
    "`HTMX` and other useful JS libraries."
   ]
  },
  {
   "cell_type": "code",
   "execution_count": null,
   "metadata": {},
   "outputs": [],
   "source": [
    "#| export\n",
    "\n",
    "class ScriptsDetails:\n",
    "    def __init__(self, scs, title='Loaded scripts', open=True): \n",
    "        self.scs = scs; self.title = title; self.open = open\n",
    "    def __ft__(self):\n",
    "        return Details(open=self.open)(\n",
    "            Summary(B(self.title)),\n",
    "            Pre(NotStr('\\n'.join(escape(to_xml(_, indent=False, do_escape=False).strip()) for _ in self.scs))),\n",
    "        )\n",
    "\n",
    "def _bridget_scripts_extra():\n",
    "    from fasthtml.core import surrsrc, scopesrc\n",
    "    return {'surreal': surrsrc, 'css_scope_inline': scopesrc}\n",
    "\n",
    "def _bridget_scripts(htmx=True):\n",
    "    from fasthtml.core import fhjsscr\n",
    "    from fasthtml.xtend import Script\n",
    "    htmxsrc = Script(src=f\"https://unpkg.com/htmx.org@next/dist/htmx.{'' if DEBUG else 'min.'}js\")()\n",
    "    return update_({'htmx': htmxsrc } if htmx else {}, fasthtml_js=fhjsscr, **_bridget_scripts_extra())\n",
    "def _load_scripts(scs):\n",
    "    display(HTML(to_xml((*(scvals := [_ for _ in scs.values()]), ScriptsDetails(scvals)))))\n",
    "def bridget_scripts(load=False, htmx=True):\n",
    "    scs = _bridget_scripts(htmx)\n",
    "    if load: _load_scripts(scs)\n",
    "    return scs\n"
   ]
  },
  {
   "cell_type": "code",
   "execution_count": null,
   "metadata": {},
   "outputs": [
    {
     "data": {
      "text/html": [
       "<script src=\"https://unpkg.com/htmx.org@next/dist/htmx.js\"></script><script src=\"https://cdn.jsdelivr.net/gh/answerdotai/fasthtml-js@1.0.12/fasthtml.js\"></script><script src=\"https://cdn.jsdelivr.net/gh/answerdotai/surreal@main/surreal.js\"></script><script src=\"https://cdn.jsdelivr.net/gh/gnat/css-scope-inline@main/script.js\"></script><details open><summary><b>Loaded scripts</b></summary><pre>&lt;script src=&quot;https://unpkg.com/htmx.org@next/dist/htmx.js&quot;&gt;&lt;/script&gt;\n",
       "&lt;script src=&quot;https://cdn.jsdelivr.net/gh/answerdotai/fasthtml-js@1.0.12/fasthtml.js&quot;&gt;&lt;/script&gt;\n",
       "&lt;script src=&quot;https://cdn.jsdelivr.net/gh/answerdotai/surreal@main/surreal.js&quot;&gt;&lt;/script&gt;\n",
       "&lt;script src=&quot;https://cdn.jsdelivr.net/gh/gnat/css-scope-inline@main/script.js&quot;&gt;&lt;/script&gt;</pre></details>"
      ],
      "text/plain": [
       "<IPython.core.display.HTML object>"
      ]
     },
     "metadata": {},
     "output_type": "display_data"
    }
   ],
   "source": [
    "bridget_scripts(True);\n"
   ]
  },
  {
   "cell_type": "code",
   "execution_count": null,
   "metadata": {},
   "outputs": [
    {
     "data": {
      "text/html": [
       "\n",
       "<div>💩 👻 No style.</div>\n",
       "\n",
       "<div>\n",
       "    <style> /* Simple example. */\n",
       "        me { margin: 20px; }\n",
       "        me div { font-size: 5rem; }\n",
       "    </style>\n",
       "    <div>👻</div>\n",
       "</div>\n"
      ],
      "text/plain": [
       "<IPython.core.display.HTML object>"
      ]
     },
     "metadata": {},
     "output_type": "display_data"
    }
   ],
   "source": [
    "html = '''\n",
    "<div>💩 👻 No style.</div>\n",
    "\n",
    "<div>\n",
    "    <style> /* Simple example. */\n",
    "        me { margin: 20px; }\n",
    "        me div { font-size: 5rem; }\n",
    "    </style>\n",
    "    <div>👻</div>\n",
    "</div>\n",
    "'''\n",
    "\n",
    "display(HTML(html))"
   ]
  },
  {
   "cell_type": "markdown",
   "metadata": {},
   "source": [
    "Bridget automatically loads required JavaScript libraries:\n",
    "\n",
    "1. HTMX\n",
    "2. FastHTML core scripts\n",
    "3. Awesome gnat's Scope and Surreal scripts\n",
    "\n",
    "These are loaded by default when creating a Bridget app. You can customize this by overriding defaults when creating the app (covered in app creation section)\n"
   ]
  },
  {
   "cell_type": "markdown",
   "metadata": {},
   "source": [
    "## ClientP"
   ]
  },
  {
   "cell_type": "code",
   "execution_count": null,
   "metadata": {},
   "outputs": [],
   "source": [
    "#| export\n",
    "\n",
    "# if typing.TYPE_CHECKING:\n",
    "class ClientP(Protocol):\n",
    "    def get(self, url: str, **kwargs) -> Response: ...\n",
    "    def post(self, url: str, **kwargs) -> Response: ...\n",
    "    def delete(self, url: str, **kwargs) -> Response: ...\n",
    "    def put(self, url: str, **kwargs) -> Response: ...\n",
    "    def patch(self, url: str, **kwargs) -> Response: ...\n",
    "    def options(self, url: str, **kwargs) -> Response: ...\n"
   ]
  },
  {
   "cell_type": "markdown",
   "metadata": {},
   "source": [
    "# Bridge"
   ]
  },
  {
   "cell_type": "code",
   "execution_count": null,
   "metadata": {},
   "outputs": [],
   "source": [
    "def get_app(): \n",
    "    app = FastHTML(default_hdrs=False, sess_cls=None)  # type: ignore\n",
    "    app.user_middleware.clear()\n",
    "    return app, AsyncClient(transport=ASGITransport(app), base_url='http://nb'), app.route\n",
    "\n",
    "app, cli, rt = get_app()\n",
    "\n",
    "@rt(\"/hi\")\n",
    "def get():\n",
    "    return 'Hi there'\n"
   ]
  },
  {
   "cell_type": "markdown",
   "metadata": {},
   "source": [
    "## Bridge utils"
   ]
  },
  {
   "cell_type": "code",
   "execution_count": null,
   "metadata": {},
   "outputs": [],
   "source": [
    "#| export\n",
    "\n",
    "def request2httpx_request(cli:AsyncClient, http_request: dict[str, Any]) -> Request:\n",
    "    r = http_request\n",
    "    return cli.build_request(r['method'], r['url'], \n",
    "        headers=r['headers'] if 'headers' in r else {}, \n",
    "        content=r['body'] if 'body' in r else None, timeout=None)\n"
   ]
  },
  {
   "cell_type": "code",
   "execution_count": null,
   "metadata": {},
   "outputs": [],
   "source": [
    "#| export\n",
    "\n",
    "class HasFT(Protocol): \n",
    "    def __ft__(self) -> Any: ...\n",
    "class HasHTML(Protocol):\n",
    "    def __html__(self) -> str: ...\n",
    "\n",
    "Bridgeable: TypeAlias = str|Mapping|FT|HasFT|HasHTML\n",
    "\n",
    "\n",
    "def request2response(cli:AsyncClient, http_request) -> Response:\n",
    "    httpx_request = request2httpx_request(cli, http_request)\n",
    "    with from_thread.start_blocking_portal() as portal: \n",
    "        response = portal.call(cli.send, httpx_request)\n",
    "    return response\n",
    "\n",
    "\n",
    "def httpx_response_to_json(response: Response) -> dict[str, Any]:\n",
    "    hdrs = {**response.headers, \n",
    "        'last-modified': time.strftime('%a, %d %b %Y %H:%M:%S GMT', time.gmtime()),\n",
    "        'cache-control': 'no-store, no-cache, must-revalidate',\n",
    "    }\n",
    "    data = response.content.decode()\n",
    "    json_response = {\n",
    "        \"headers\": hdrs,\n",
    "        \"status\": response.status_code,\n",
    "        \"statusText\": codes.get_reason_phrase(response.status_code),\n",
    "        # \"text\": data,\n",
    "        \"data\": data,\n",
    "        \"xml\": None,\n",
    "        'finalUrl': f\"{response.request.url}\",\n",
    "    }\n",
    "    return json_response\n"
   ]
  },
  {
   "cell_type": "code",
   "execution_count": null,
   "metadata": {},
   "outputs": [],
   "source": [
    "@FC.patch\n",
    "def _ipython_display_(self: Response):\n",
    "    dhdl = DisplayId()\n",
    "    dhdl.display(self.text)\n"
   ]
  },
  {
   "cell_type": "markdown",
   "metadata": {},
   "source": [
    "## BridgeBase\n",
    "> A mixin class that wraps FastHTML and Client functionality for displaying and mounting components.\n"
   ]
  },
  {
   "cell_type": "code",
   "execution_count": null,
   "metadata": {},
   "outputs": [],
   "source": [
    "#| export\n",
    "\n",
    "class BridgeBase:\n",
    "    \"A simple wrapper around `FastHTML` and `Client`.\"\n",
    "\n",
    "    def setup(self, app: FastHTML):\n",
    "        self.app = app\n",
    "        cli:ClientP = Client(self.app, 'http://nb)')  # type: ignore\n",
    "        self.cli = cli\n",
    "        self._cli = AsyncClient(transport=ASGITransport(self.app), base_url='http://nb')#, headers={'hx-request': '1'})\n",
    "        return self\n",
    "    \n",
    "    def __call__(self, rt:Bridgeable='', method='GET', req=None, **kwargs):\n",
    "        \"Display FastHTML components, routes or requests in notebook cells.\"\n",
    "        if isinstance(rt, FT) or hasattr(rt, '__ft__'): cts = to_xml(rt)  # type: ignore\n",
    "        elif hasattr(rt, '__html__'): cts = rt.__html__()  # type: ignore\n",
    "        else:\n",
    "            if isinstance(rt, Mapping):\n",
    "                http_request = {**(req or {}), **rt}\n",
    "                if 'method' not in http_request: http_request['method'] = method\n",
    "            else: http_request = {'headers': {'hx-request': '1'}, 'method': method, 'url': rt}\n",
    "            cts = request2response(self._cli, http_request).text\n",
    "        if not cts:\n",
    "            try: cts = to_xml(rt)\n",
    "            except: pass\n",
    "        if cts:\n",
    "            display_id, update = kwargs.pop('display_id', None), kwargs.pop('update', False)\n",
    "            dhdl = display_id if isinstance(display_id, DisplayId) else DisplayId(display_id=display_id)\n",
    "            if display_id and update: dhdl.update(cts)\n",
    "            else: dhdl.display(cts)\n",
    "            return None if dhdl is display_id else dhdl\n",
    "\n",
    "    def _response(self, req:dict[str, Any]): return request2response(self._cli, req)\n",
    "    \n",
    "    def mount(self, prov:APIRouter|RouteProviderP, \n",
    "            path:str|None=None, name:str|None=None, index:str|None=None, \n",
    "            show:bool=True):\n",
    "        ar = add_routes(self.app, prov, True, path, name)\n",
    "        if hasattr(prov, '_mounted'): setattr(prov, '_mounted', True)\n",
    "        if hasattr(prov, 'bridget'): setattr(prov, 'bridget', self)\n",
    "        if show: self(index or f\"{ar.to()}/\")  # type: ignore\n",
    "        return ar\n",
    "\n",
    "    def swap(self,\n",
    "            target, \n",
    "            content, \n",
    "            *, \n",
    "            # ---- swapSpec:SwapSpec, \n",
    "            swapStyle: SwapStyleT='innerHTML',\n",
    "            swapDelay: int|None=None, settleDelay: int|None=None,\n",
    "            transition: bool|None=None,\n",
    "            # ignoreTitle: bool|None=None, head: Literal['merge', 'append']|None=None,\n",
    "            scroll: str|None=None, scrollTarget: str|None=None,\n",
    "            show: str|None=None, showTarget: str|None=None, focusScroll: bool|None=None,\n",
    "            # ---- swapOptions=None,\n",
    "            select: str|None=None, selectOOB: str|None=None,\n",
    "            # eventInfo: dict|None=None,\n",
    "            anchor: str|None=None,        \n",
    "            # contextElement: str|None=None,\n",
    "            # afterSwapCallback: Callable|None=None, afterSettleCallback: Callable|None=None,\n",
    "        ): ...\n",
    "\n",
    "\n",
    "FC.patch_to(BridgeBase)(swap)\n"
   ]
  },
  {
   "cell_type": "code",
   "execution_count": null,
   "metadata": {},
   "outputs": [],
   "source": [
    "_send_sc =  \"\"\"\n",
    "// debugger;\n",
    "const msg = %s;\n",
    "console.log(`new message: ${JSON.stringify(msg)}`);\n",
    "const { cmd, args } = msg;\n",
    "if (cmd in htmx) {\n",
    "    try {\n",
    "        htmx[cmd](...(Array.isArray(args) ? args : Object.values(args)));\n",
    "    } catch (e) {\n",
    "        console.error(e);\n",
    "    }\n",
    "} else {\n",
    "    console.warn(`Unknown HTMX command: ${cmd}`);\n",
    "}\n",
    "\"\"\"\n",
    "\n",
    "\n",
    "class Bridge(BridgeBase):\n",
    "    def send(self, msg:dict[str, Any]):\n",
    "        json_msg = json.dumps(msg)\n",
    "        display(Javascript(_send_sc % json_msg))\n"
   ]
  },
  {
   "cell_type": "code",
   "execution_count": null,
   "metadata": {},
   "outputs": [],
   "source": [
    "def get_app(setup_scripts=False, app=None, appkw:dict[str, Any]={}, **cfargs) -> tuple[FastHTML, Bridge, MethodType]: \n",
    "    bridge_cfg.update(**cfargs)\n",
    "    if setup_scripts: bridget_scripts(True)\n",
    "    app = app or nb_app(**appkw)\n",
    "    return app, Bridge().setup(app), app.route  # type: ignore\n"
   ]
  },
  {
   "cell_type": "markdown",
   "metadata": {},
   "source": [
    "`BridgeBase` is a helper class that provides:\n",
    "\n",
    "1. **Display functionality**: Renders FastHTML objects and route responses in notebook cells\n",
    "2. **Component mounting**: Helper for mounting route providers\n",
    "3. **HTMX API**: Python interface for HTMX commands (documented in 16_htmx.ipynb)\n",
    "\n",
    "It serves as a mixin class for `Bridget`, which provides the full HTMX integration.\n",
    "\n",
    "The class handles different types of \"bridgeable\" content:\n",
    "- FastHTML objects (FT)\n",
    "- Objects with `__ft__` or `__html__` methods\n",
    "- Route paths\n",
    "- Request mappings"
   ]
  },
  {
   "cell_type": "code",
   "execution_count": null,
   "metadata": {},
   "outputs": [
    {
     "data": {
      "text/html": [
       "404 Not Found<brt-mark id=\"bce9e153b-4548160b-80d29054-b61e20f1\"></brt-mark>"
      ],
      "text/plain": [
       "<IPython.core.display.HTML object>"
      ]
     },
     "metadata": {},
     "output_type": "display_data"
    }
   ],
   "source": [
    "app, bridge, rt = get_app()\n",
    "\n",
    "bridge();"
   ]
  },
  {
   "cell_type": "code",
   "execution_count": null,
   "metadata": {},
   "outputs": [
    {
     "data": {
      "text/html": [
       "<h2>Hello, World</h2><brt-mark id=\"b3fe8336c-c40729ad-b14177fa-990fd568\"></brt-mark>"
      ],
      "text/plain": [
       "<IPython.core.display.HTML object>"
      ]
     },
     "metadata": {},
     "output_type": "display_data"
    }
   ],
   "source": [
    "@app.get(\"/\")  # type: ignore\n",
    "def home():\n",
    "    return \"<h2>Hello, World</h2>\"\n",
    "\n",
    "bridge();\n"
   ]
  },
  {
   "cell_type": "code",
   "execution_count": null,
   "metadata": {},
   "outputs": [
    {
     "data": {
      "text/html": [
       "<pre style=\"white-space:pre;overflow-x:auto;line-height:normal;font-family:Menlo,'DejaVu Sans Mono',consolas,'Courier New',monospace\"><span style=\"font-weight: bold\">{</span>\n",
       "  <span style=\"color: #000080; text-decoration-color: #000080; font-weight: bold\">\"headers\"</span>: <span style=\"font-weight: bold\">{</span>\n",
       "    <span style=\"color: #000080; text-decoration-color: #000080; font-weight: bold\">\"content-length\"</span>: <span style=\"color: #008000; text-decoration-color: #008000\">\"8\"</span>,\n",
       "    <span style=\"color: #000080; text-decoration-color: #000080; font-weight: bold\">\"content-type\"</span>: <span style=\"color: #008000; text-decoration-color: #008000\">\"text/html; charset=utf-8\"</span>,\n",
       "    <span style=\"color: #000080; text-decoration-color: #000080; font-weight: bold\">\"last-modified\"</span>: <span style=\"color: #008000; text-decoration-color: #008000\">\"Wed, 22 Jan 2025 19:02:33 GMT\"</span>,\n",
       "    <span style=\"color: #000080; text-decoration-color: #000080; font-weight: bold\">\"cache-control\"</span>: <span style=\"color: #008000; text-decoration-color: #008000\">\"no-store, no-cache, must-revalidate\"</span>\n",
       "  <span style=\"font-weight: bold\">}</span>,\n",
       "  <span style=\"color: #000080; text-decoration-color: #000080; font-weight: bold\">\"status\"</span>: <span style=\"color: #008080; text-decoration-color: #008080; font-weight: bold\">200</span>,\n",
       "  <span style=\"color: #000080; text-decoration-color: #000080; font-weight: bold\">\"statusText\"</span>: <span style=\"color: #008000; text-decoration-color: #008000\">\"OK\"</span>,\n",
       "  <span style=\"color: #000080; text-decoration-color: #000080; font-weight: bold\">\"data\"</span>: <span style=\"color: #008000; text-decoration-color: #008000\">\"Hi there\"</span>,\n",
       "  <span style=\"color: #000080; text-decoration-color: #000080; font-weight: bold\">\"xml\"</span>: <span style=\"color: #800080; text-decoration-color: #800080; font-style: italic\">null</span>,\n",
       "  <span style=\"color: #000080; text-decoration-color: #000080; font-weight: bold\">\"finalUrl\"</span>: <span style=\"color: #008000; text-decoration-color: #008000\">\"http://nb/hi\"</span>\n",
       "<span style=\"font-weight: bold\">}</span>\n",
       "</pre>\n"
      ],
      "text/plain": [
       "\u001b[1m{\u001b[0m\n",
       "  \u001b[1;34m\"headers\"\u001b[0m: \u001b[1m{\u001b[0m\n",
       "    \u001b[1;34m\"content-length\"\u001b[0m: \u001b[32m\"8\"\u001b[0m,\n",
       "    \u001b[1;34m\"content-type\"\u001b[0m: \u001b[32m\"text/html; charset=utf-8\"\u001b[0m,\n",
       "    \u001b[1;34m\"last-modified\"\u001b[0m: \u001b[32m\"Wed, 22 Jan 2025 19:02:33 GMT\"\u001b[0m,\n",
       "    \u001b[1;34m\"cache-control\"\u001b[0m: \u001b[32m\"no-store, no-cache, must-revalidate\"\u001b[0m\n",
       "  \u001b[1m}\u001b[0m,\n",
       "  \u001b[1;34m\"status\"\u001b[0m: \u001b[1;36m200\u001b[0m,\n",
       "  \u001b[1;34m\"statusText\"\u001b[0m: \u001b[32m\"OK\"\u001b[0m,\n",
       "  \u001b[1;34m\"data\"\u001b[0m: \u001b[32m\"Hi there\"\u001b[0m,\n",
       "  \u001b[1;34m\"xml\"\u001b[0m: \u001b[3;35mnull\u001b[0m,\n",
       "  \u001b[1;34m\"finalUrl\"\u001b[0m: \u001b[32m\"http://nb/hi\"\u001b[0m\n",
       "\u001b[1m}\u001b[0m\n"
      ]
     },
     "metadata": {},
     "output_type": "display_data"
    },
    {
     "data": {
      "text/html": [
       "Hi there<brt-mark id=\"b9e45965d-c4442e6d-6ea6bd07-b9e1ba86\"></brt-mark>"
      ],
      "text/plain": [
       "<IPython.core.display.HTML object>"
      ]
     },
     "metadata": {},
     "output_type": "display_data"
    }
   ],
   "source": [
    "@rt(\"/hi\")\n",
    "def get():\n",
    "    return 'Hi there'\n",
    "\n",
    "http_request = {\n",
    "    'upload': {},\n",
    "    'headers': {\n",
    "        'HX-Request': 'true',\n",
    "        'HX-Current-URL': 'vscode-webview://1ql27b...er'\n",
    "    },\n",
    "    'headerNames': {'hx-request': 'HX-Request', 'hx-current-url': 'HX-Current-URL'},\n",
    "    'status': 0,\n",
    "    'method': 'GET',\n",
    "    'url': '/hi',\n",
    "    'async': True,\n",
    "    'timeout': 0,\n",
    "    'withCredentials': False,\n",
    "    'body': None\n",
    "}\n",
    "\n",
    "response = bridge._response(http_request)\n",
    "test_eq(response.status_code, 200)\n",
    "test_eq(response.text, 'Hi there')\n",
    "\n",
    "console.print_json(data=(json_resp := httpx_response_to_json(response)))\n",
    "test_eq(json_resp['status'], 200)\n",
    "test_eq(json_resp['data'], 'Hi there')\n",
    "test_eq(json_resp['headers']['content-length'], '8')\n",
    "\n",
    "response"
   ]
  },
  {
   "cell_type": "code",
   "execution_count": null,
   "metadata": {},
   "outputs": [
    {
     "data": {
      "text/html": [
       "Hi there<brt-mark id=\"b15bea302-5b007590-9dcc4ca9-4900a127\"></brt-mark>"
      ],
      "text/plain": [
       "<IPython.core.display.HTML object>"
      ]
     },
     "metadata": {},
     "output_type": "display_data"
    }
   ],
   "source": [
    "bridge(http_request);"
   ]
  },
  {
   "cell_type": "code",
   "execution_count": null,
   "metadata": {},
   "outputs": [],
   "source": [
    "class Buttons:\n",
    "    def __ft__(self):\n",
    "        return (\n",
    "            Button(garlic=True, hx_get='/test', hx_select='button[vampire]', hx_swap='afterend')(_n,\n",
    "                Style(self._css_.format('hsl(264 80% 47%)', 'hsl(264 80% 60%)')),\n",
    "                'garlic ', Span('🧄', cls='icon'),\n",
    "            _n), _n,\n",
    "            Button(vampire=True, hx_get='/test', hx_select='button[garlic]', hx_swap='afterend')(_n,\n",
    "                Style(self._css_.format('hsl(150 80% 47%)', 'hsl(150 80% 60%)')), \n",
    "                'vampire ', Span('🧛', cls='icon'),\n",
    "            _n), _n,\n",
    "        )\n",
    "    _css_ = '''\n",
    "    me {{ margin: 4px; padding: 10px 30px; min-width: 80px; background: {0}; border-bottom: 0.5rem solid hsl(264 80% 20%); }}\n",
    "    me {{ color: antiquewhite; font-size: 14pt; font-variant: all-small-caps; font-weight: bold; }}\n",
    "    me:hover {{ background: {1}; }}\n",
    "    me span.icon {{ font-size:16pt; }}\n",
    "'''\n"
   ]
  },
  {
   "cell_type": "code",
   "execution_count": null,
   "metadata": {},
   "outputs": [
    {
     "data": {
      "text/markdown": [
       "```HTML\n",
       "<button garlic hx-get=\"/test\" hx-select=\"button[vampire]\" hx-swap=\"afterend\">\n",
       "   <style>\n",
       "    me { margin: 4px; padding: 10px 30px; min-width: 80px; background: hsl(264 80% 47%); border-bottom: 0.5rem solid hsl(264 80% 20%); }\n",
       "    me { color: antiquewhite; font-size: 14pt; font-variant: all-small-caps; font-weight: bold; }\n",
       "    me:hover { background: hsl(264 80% 60%); }\n",
       "    me span.icon { font-size:16pt; }\n",
       "</style>\n",
       "garlic <span class=\"icon\">🧄</span>\n",
       "</button>\n",
       "<button vampire hx-get=\"/test\" hx-select=\"button[garlic]\" hx-swap=\"afterend\">\n",
       "   <style>\n",
       "    me { margin: 4px; padding: 10px 30px; min-width: 80px; background: hsl(150 80% 47%); border-bottom: 0.5rem solid hsl(264 80% 20%); }\n",
       "    me { color: antiquewhite; font-size: 14pt; font-variant: all-small-caps; font-weight: bold; }\n",
       "    me:hover { background: hsl(150 80% 60%); }\n",
       "    me span.icon { font-size:16pt; }\n",
       "</style>\n",
       "vampire <span class=\"icon\">🧛</span>\n",
       "</button>\n",
       "\n",
       "```"
      ],
      "text/plain": [
       "<IPython.core.display.Markdown object>"
      ]
     },
     "metadata": {},
     "output_type": "display_data"
    },
    {
     "data": {
      "text/html": [
       "<button garlic hx-get=\"/test\" hx-select=\"button[vampire]\" hx-swap=\"afterend\">\n",
       "   <style>\n",
       "    me { margin: 4px; padding: 10px 30px; min-width: 80px; background: hsl(264 80% 47%); border-bottom: 0.5rem solid hsl(264 80% 20%); }\n",
       "    me { color: antiquewhite; font-size: 14pt; font-variant: all-small-caps; font-weight: bold; }\n",
       "    me:hover { background: hsl(264 80% 60%); }\n",
       "    me span.icon { font-size:16pt; }\n",
       "</style>\n",
       "garlic <span class=\"icon\">🧄</span>\n",
       "</button>\n",
       "<button vampire hx-get=\"/test\" hx-select=\"button[garlic]\" hx-swap=\"afterend\">\n",
       "   <style>\n",
       "    me { margin: 4px; padding: 10px 30px; min-width: 80px; background: hsl(150 80% 47%); border-bottom: 0.5rem solid hsl(264 80% 20%); }\n",
       "    me { color: antiquewhite; font-size: 14pt; font-variant: all-small-caps; font-weight: bold; }\n",
       "    me:hover { background: hsl(150 80% 60%); }\n",
       "    me span.icon { font-size:16pt; }\n",
       "</style>\n",
       "vampire <span class=\"icon\">🧛</span>\n",
       "</button>\n",
       "<brt-mark id=\"bc41e14a8-0aada1cf-fe24978c-f3f524ac\"></brt-mark>"
      ],
      "text/plain": [
       "<IPython.core.display.HTML object>"
      ]
     },
     "metadata": {},
     "output_type": "display_data"
    }
   ],
   "source": [
    "@rt(\"/test\")\n",
    "def get():\n",
    "    return Buttons()\n",
    "\n",
    "http_request = {\n",
    "    'headers': {'hx-request': '1'},\n",
    "    'method': 'GET',\n",
    "    'url': 'http://nb/test',\n",
    "}\n",
    "\n",
    "r = bridge._response(http_request)\n",
    "display(Markdown(f\"```HTML\\n{r.text}\\n```\"))\n",
    "r\n"
   ]
  },
  {
   "cell_type": "code",
   "execution_count": null,
   "metadata": {},
   "outputs": [
    {
     "data": {
      "text/html": [
       "<button garlic hx-get=\"/test\" hx-select=\"button[vampire]\" hx-swap=\"afterend\">\n",
       "   <style>\n",
       "    me { margin: 4px; padding: 10px 30px; min-width: 80px; background: hsl(264 80% 47%); border-bottom: 0.5rem solid hsl(264 80% 20%); }\n",
       "    me { color: antiquewhite; font-size: 14pt; font-variant: all-small-caps; font-weight: bold; }\n",
       "    me:hover { background: hsl(264 80% 60%); }\n",
       "    me span.icon { font-size:16pt; }\n",
       "</style>\n",
       "garlic <span class=\"icon\">🧄</span>\n",
       "</button>\n",
       "<button vampire hx-get=\"/test\" hx-select=\"button[garlic]\" hx-swap=\"afterend\">\n",
       "   <style>\n",
       "    me { margin: 4px; padding: 10px 30px; min-width: 80px; background: hsl(150 80% 47%); border-bottom: 0.5rem solid hsl(264 80% 20%); }\n",
       "    me { color: antiquewhite; font-size: 14pt; font-variant: all-small-caps; font-weight: bold; }\n",
       "    me:hover { background: hsl(150 80% 60%); }\n",
       "    me span.icon { font-size:16pt; }\n",
       "</style>\n",
       "vampire <span class=\"icon\">🧛</span>\n",
       "</button>\n",
       "<brt-mark id=\"b4373159a-52ea0e84-df28a54f-f33ddfaa\"></brt-mark>"
      ],
      "text/plain": [
       "<IPython.core.display.HTML object>"
      ]
     },
     "metadata": {},
     "output_type": "display_data"
    }
   ],
   "source": [
    "bridge('/test');"
   ]
  },
  {
   "cell_type": "code",
   "execution_count": null,
   "metadata": {},
   "outputs": [
    {
     "data": {
      "text/html": [
       "<button garlic hx-get=\"/test\" hx-select=\"button[vampire]\" hx-swap=\"afterend\">\n",
       "  <style>\n",
       "    me { margin: 4px; padding: 10px 30px; min-width: 80px; background: hsl(264 80% 47%); border-bottom: 0.5rem solid hsl(264 80% 20%); }\n",
       "    me { color: antiquewhite; font-size: 14pt; font-variant: all-small-caps; font-weight: bold; }\n",
       "    me:hover { background: hsl(264 80% 60%); }\n",
       "    me span.icon { font-size:16pt; }\n",
       "</style>\n",
       "garlic <span class=\"icon\">🧄</span>\n",
       "</button>\n",
       "<button vampire hx-get=\"/test\" hx-select=\"button[garlic]\" hx-swap=\"afterend\">\n",
       "  <style>\n",
       "    me { margin: 4px; padding: 10px 30px; min-width: 80px; background: hsl(150 80% 47%); border-bottom: 0.5rem solid hsl(264 80% 20%); }\n",
       "    me { color: antiquewhite; font-size: 14pt; font-variant: all-small-caps; font-weight: bold; }\n",
       "    me:hover { background: hsl(150 80% 60%); }\n",
       "    me span.icon { font-size:16pt; }\n",
       "</style>\n",
       "vampire <span class=\"icon\">🧛</span>\n",
       "</button>\n",
       "<brt-mark id=\"b1efb4beb-c60ae435-71889dbb-9d2cfa3e\"></brt-mark>"
      ],
      "text/plain": [
       "<IPython.core.display.HTML object>"
      ]
     },
     "metadata": {},
     "output_type": "display_data"
    }
   ],
   "source": [
    "bridge(Buttons());"
   ]
  },
  {
   "cell_type": "code",
   "execution_count": null,
   "metadata": {},
   "outputs": [
    {
     "data": {
      "text/markdown": [
       "```HTML\n",
       " <!doctype html>\n",
       " <html>\n",
       "   <head>\n",
       "     <title>Hello World</title>\n",
       "<script>\n",
       "    function sendmsg() {\n",
       "        window.parent.postMessage({height: document.documentElement.offsetHeight}, '*');\n",
       "    }\n",
       "    window.onload = function() {\n",
       "        sendmsg();\n",
       "        document.body.addEventListener('htmx:afterSettle',    sendmsg);\n",
       "        document.body.addEventListener('htmx:wsAfterMessage', sendmsg);\n",
       "    };</script>   </head>\n",
       "   <body>\n",
       "<main class=\"container\">       <h1>Hello, World</h1>\n",
       "</main>   </body>\n",
       " </html>\n",
       "\n",
       "```"
      ],
      "text/plain": [
       "<IPython.core.display.Markdown object>"
      ]
     },
     "metadata": {},
     "output_type": "display_data"
    },
    {
     "data": {
      "text/html": [
       " <title>Hello World</title>\n",
       "<main class=\"container\">   <h1>Hello, World</h1>\n",
       "</main><brt-mark id=\"bb24ac345-c322fb63-7c949957-3194a76d\"></brt-mark>"
      ],
      "text/plain": [
       "<IPython.core.display.HTML object>"
      ]
     },
     "metadata": {},
     "output_type": "display_data"
    }
   ],
   "source": [
    "# css = Style(':root {--pico-font-size:90%,--pico-font-family: Pacifico, cursive;}')\n",
    "\n",
    "@app.route(\"/page\")\n",
    "def get():\n",
    "    return (Title(\"Hello World\"), \n",
    "            Main(H1('Hello, World'), cls=\"container\"))\n",
    "\n",
    "r = bridge._response(req := {\n",
    "    # 'headers': {'hx-request': '1'},\n",
    "    'method': 'GET',\n",
    "    'url': 'http://nb/page',\n",
    "})\n",
    "display(Markdown(f\"```HTML\\n{r.text}\\n```\"))\n",
    "bridge('page');\n"
   ]
  },
  {
   "cell_type": "code",
   "execution_count": null,
   "metadata": {},
   "outputs": [
    {
     "data": {
      "text/markdown": [
       "```html\n",
       "<details open class=\"pale\">  <style>me details { border: 1px solid #aaa; padding: 0.5em 0.5em 0; } me summary { font-weight: bold; margin: -0.5em -0.5em 0; padding: 0.5em; } me pre { margin: 0; }</style>\n",
       "<summary>What Lucy get?</summary>  <div class=\"contents\" style=\"display: flex; flex-direction: column;\">\n",
       "<pre>She</pre><pre>got</pre><pre>diamonds!</pre>  </div>\n",
       "</details>\n",
       "```"
      ],
      "text/plain": [
       "details((style(('me details { border: 1px solid #aaa; padding: 0.5em 0.5em 0; } me summary { font-weight: bold; margin: -0.5em -0.5em 0; padding: 0.5em; } me pre { margin: 0; }',),{}), summary(('What Lucy get?',),{}), div((pre(('She',),{}), pre(('got',),{}), pre(('diamonds!',),{})),{'class': 'contents', 'style': 'display: flex; flex-direction: column;'})),{'open': True, 'class': 'pale'})"
      ]
     },
     "metadata": {},
     "output_type": "display_data"
    },
    {
     "data": {
      "text/html": [
       "<details open class=\"pale\">  <style>me details { border: 1px solid #aaa; padding: 0.5em 0.5em 0; } me summary { font-weight: bold; margin: -0.5em -0.5em 0; padding: 0.5em; } me pre { margin: 0; }</style>\n",
       "<summary>What Lucy get?</summary>  <div class=\"contents\" style=\"display: flex; flex-direction: column;\">\n",
       "<pre>She</pre><pre>got</pre><pre>diamonds!</pre>  </div>\n",
       "</details><brt-mark id=\"b19225cb0-bc2e570e-9175c0f4-d6e7c9a1\"></brt-mark>"
      ],
      "text/plain": [
       "<IPython.core.display.HTML object>"
      ]
     },
     "metadata": {},
     "output_type": "display_data"
    }
   ],
   "source": [
    "dtl = Details(cls='pale', open=True)(\n",
    "    Style('me details { border: 1px solid #aaa; padding: 0.5em 0.5em 0; } me summary { font-weight: bold; margin: -0.5em -0.5em 0; padding: 0.5em; } me pre { margin: 0; }'),\n",
    "    Summary('What Lucy get?'),\n",
    "    Div(cls='contents', style='display: flex; flex-direction: column;')(\n",
    "        Pre('She'),\n",
    "        Pre('got'),\n",
    "        Pre('diamonds!')\n",
    "    )\n",
    ")\n",
    "display(dtl)\n",
    "bridge(dtl);\n"
   ]
  },
  {
   "cell_type": "code",
   "execution_count": null,
   "metadata": {},
   "outputs": [
    {
     "data": {
      "text/markdown": [
       "```html\n",
       "<details open class=\"pale\"><summary>What Lucy get?</summary>  <div class=\"contents\" style=\"display: flex; flex-direction: column;\">\n",
       "    <div>\n",
       "<pre>She</pre>    </div>\n",
       "    <div>\n",
       "<pre>got</pre>    </div>\n",
       "    <div>\n",
       "<pre>diamonds</pre>    </div>\n",
       "  </div>\n",
       "</details>\n",
       "```"
      ],
      "text/plain": [
       "details((summary(('What Lucy get?',),{}), div((div((pre(('She',),{}),),{'style': ''}), div((pre(('got',),{}),),{'style': ''}), div((pre(('diamonds',),{}),),{'style': ''})),{'class': 'contents', 'style': 'display: flex; flex-direction: column;'})),{'open': True, 'class': 'pale'})"
      ]
     },
     "metadata": {},
     "output_type": "display_data"
    },
    {
     "data": {
      "text/html": [
       "<details open class=\"pale\"><summary>What Lucy get?</summary>  <div class=\"contents\" style=\"display: flex; flex-direction: column;\">\n",
       "    <div>\n",
       "<pre>She</pre>    </div>\n",
       "    <div>\n",
       "<pre>got</pre>    </div>\n",
       "    <div>\n",
       "<pre>diamonds</pre>    </div>\n",
       "  </div>\n",
       "</details><brt-mark id=\"b4d566fb3-b079abd9-2185a740-22e9ea2b\"></brt-mark>"
      ],
      "text/plain": [
       "<IPython.core.display.HTML object>"
      ]
     },
     "metadata": {},
     "output_type": "display_data"
    }
   ],
   "source": [
    "def details_ft(\n",
    "        *contents, \n",
    "        summary:str|None=None, \n",
    "        closed:bool=False, \n",
    "        direction:str='column', \n",
    "        height:str|None=None,\n",
    "        contents_style:str='', item_style:str=''):\n",
    "    style = f\"display: flex; flex-direction: {direction};{height or ''}{contents_style or ''}\"\n",
    "    return Details(cls='pale', open=not closed)(\n",
    "        Summary(summary),\n",
    "        Div(cls='contents', style=style)(\n",
    "            *(Div(style=item_style)(_) for _ in contents)\n",
    "        )\n",
    "    )\n",
    "\n",
    "dtl = details_ft(\n",
    "        *(Pre(_) for _ in ('She', 'got', 'diamonds')), \n",
    "        summary='What Lucy get?')\n",
    "display(dtl)\n",
    "bridge(dtl);\n"
   ]
  },
  {
   "cell_type": "code",
   "execution_count": null,
   "metadata": {},
   "outputs": [
    {
     "data": {
      "text/html": [
       "\n",
       "<div id=\"output-99\">Original</div>\n"
      ],
      "text/plain": [
       "<IPython.core.display.HTML object>"
      ]
     },
     "metadata": {},
     "output_type": "display_data"
    }
   ],
   "source": [
    "%%HTML\n",
    "\n",
    "<div id=\"output-99\">Original</div>\n"
   ]
  },
  {
   "cell_type": "code",
   "execution_count": null,
   "metadata": {},
   "outputs": [
    {
     "data": {
      "application/javascript": "\n// debugger;\nconst msg = {\"cmd\": \"swap\", \"args\": [\"#output-99\", \"<div>Swapped!</div>\", {\"swapStyle\": \"innerHTML\"}, {}]};\nconsole.log(`new message: ${JSON.stringify(msg)}`);\nconst { cmd, args } = msg;\nif (cmd in htmx) {\n    try {\n        htmx[cmd](...(Array.isArray(args) ? args : Object.values(args)));\n    } catch (e) {\n        console.error(e);\n    }\n} else {\n    console.warn(`Unknown HTMX command: ${cmd}`);\n}\n",
      "text/plain": [
       "<IPython.core.display.Javascript object>"
      ]
     },
     "metadata": {},
     "output_type": "display_data"
    }
   ],
   "source": [
    "bridge.swap('#output-99', '<div>Swapped!</div>', swapStyle='innerHTML')\n"
   ]
  },
  {
   "cell_type": "markdown",
   "metadata": {},
   "source": [
    "We can also use HTMX API through Bridge (documented in [21_htmx.ipynb](21_htmx.ipynb)).  \n",
    "\n",
    "But we'll see a more convenient way with Bridget, without peppering the notebook of IPython Javascript display objects.\n"
   ]
  },
  {
   "cell_type": "code",
   "execution_count": null,
   "metadata": {},
   "outputs": [
    {
     "data": {
      "text/html": [
       "<div>Hey, Bar!</div>\n",
       "<brt-mark id=\"ultra-cool-display-id\"></brt-mark>"
      ],
      "text/plain": [
       "<IPython.core.display.HTML object>"
      ]
     },
     "metadata": {},
     "output_type": "display_data"
    }
   ],
   "source": [
    "did = bridge(Div('Hey, Foo!'), display_id='ultra-cool-display-id')"
   ]
  },
  {
   "cell_type": "code",
   "execution_count": null,
   "metadata": {},
   "outputs": [],
   "source": [
    "bridge(Div('Hey, Bar!'), display_id=did, update=True)\n"
   ]
  },
  {
   "cell_type": "markdown",
   "metadata": {},
   "source": [
    "Use `display_id` and `update` kwargs to modify or update an existing output cell."
   ]
  },
  {
   "cell_type": "markdown",
   "metadata": {},
   "source": [
    "# Bridget\n",
    "> A widget that connects HTMX with FastHTML in notebooks.\n"
   ]
  },
  {
   "cell_type": "code",
   "execution_count": null,
   "metadata": {},
   "outputs": [],
   "source": [
    "#| export\n",
    "\n",
    "observer_js = BUNDLE_PATH / 'observer.js'\n",
    "commander_js = BUNDLE_PATH / 'commander.js'\n",
    "bridget_js = BUNDLE_PATH / 'bridget.js'\n",
    "\n",
    "\n",
    "class Bridget(anywidget.AnyWidget, BridgeBase):\n",
    "    \"Bridge this notebook kernel and front-end, intercepting HTMX Ajax requests.\"\n",
    "    _esm = anysource('debugger;', observer_js, commander_js, bridget_js, '''\n",
    "export default async () => {\n",
    "    const bridget = new Bridget();\n",
    "    return {\n",
    "        initialize: async (context) => await bridget.initialize(context)//,\n",
    "        // render: (context) => bridget.render(context),\n",
    "    }\n",
    "}\n",
    "''')\n",
    "\n",
    "    request = T.Dict({}).tag(sync=True)   # Incoming HTMX requests\n",
    "    response = T.Dict({}).tag(sync=True)  # Outgoing responses\n",
    "\n",
    "    htmx = T.Bool(True).tag(sync=True)\n",
    "    output_sels = T.List(['.output', '.jp-Cell-outputArea']).tag(sync=True)\n",
    "\n",
    "    libraries = T.Dict({k:v.src for k,v in bridget_scripts().items()}).tag(sync=True)\n",
    "\n",
    "    def __new__(cls, *args, **kwargs) -> Bridget:\n",
    "        \"Ensure single instance per notebook\"\n",
    "        if '__instance__' not in cls.__dict__: cls.__instance__ = super().__new__(cls, *args, **kwargs)\n",
    "        return cls.__instance__\n",
    "    \n",
    "    def __init__(self, app=None, *args, logger:BasicLogger|None=None, show:bool=False, **kwargs):\n",
    "        \"Initialize with FastHTML app and optional debug display\"\n",
    "        if not hasattr(self, 'app'):\n",
    "            assert app, \"Bridget must be initialized with an app\"\n",
    "            self._loading = True\n",
    "            self.setup(app)\n",
    "            self.on_msg(self._on_message)\n",
    "            self.logger = logger or BasicLogger().setup(height=400)\n",
    "            self.logger.show('Loading Bridget...')\n",
    "            super().__init__(*args, **kwargs)\n",
    "        elif not self._loading and show:\n",
    "            self.show()\n",
    "        # if display: self.display()\n",
    "\n",
    "    def show(self):\n",
    "        \"Display debug area\"\n",
    "        self.logger.close()\n",
    "        self.logger = BasicLogger().setup(height=400)\n",
    "        self.logger.show('Bridget already initialized!')\n",
    "        self.logger.show(str(vars(bridge_cfg)))\n",
    "    # def display(self):\n",
    "    #     \"Display widget and initialize debug output\"\n",
    "    #     from IPython.display import display\n",
    "    #     if self.dhdl:\n",
    "    #         self.dhdl.update('')\n",
    "    #     display(self)\n",
    "    #     self.dhdl = DisplayId()\n",
    "    #     self.dhdl.display()\n",
    "    \n",
    "    def close(self):\n",
    "        \"Clean up widget instance and display\"\n",
    "        if hasattr(self, '__instance__'):\n",
    "            del Bridget.__instance__\n",
    "            self.logger.close()\n",
    "        super().close()\n",
    "\n",
    "    def _on_message(self, _, content, buffers):\n",
    "        \"Handle messages from the front-end\"\n",
    "        self._loading = False\n",
    "        kind = content.get('kind')\n",
    "        self.logger.show(f\"_handle_message: {kind}\")\n",
    "        if kind == 'info':\n",
    "            if content['info'] == 'initialized':\n",
    "                self.logger.show('Bridget initialized!')\n",
    "                self.logger.show(str(vars(bridge_cfg)))\n",
    "\n",
    "    @T.observe('request')\n",
    "    def _on_request(self, chg):\n",
    "        \"Handle incoming HTMX requests\"\n",
    "        req = chg['new']\n",
    "        response = self._response(req)\n",
    "        resp = httpx_response_to_json(response)\n",
    "        resp['req_id'] = req['req_id']\n",
    "        if bridge_cfg.debug_req: self._show_req(req, resp)\n",
    "        self.response = resp\n",
    "    \n",
    "    def _show_req(self, req:dict[str, Any], resp:dict[str, Any]):\n",
    "        self.logger.show(\n",
    "                # pretty_repr(req, text=False) + pretty_repr(resp, text=False)\n",
    "                to_xml(Div(cls='bridget-debug')(\n",
    "                    'Request: ', NotStr(pretty_repr(req, text=False)),\n",
    "                    'Response: ', NotStr(pretty_repr(resp, text=False))\n",
    "                )),\n",
    "                True\n",
    "            )\n",
    "\n",
    "\n",
    "def get_bridget(app=None, *args, logger:BasicLogger|None=None, show:bool=False, **kwargs):\n",
    "    if Bridget.__instance__: \n",
    "        if show: Bridget.__instance__.show()\n",
    "        return Bridget.__instance__\n",
    "    return Bridget(app, *args, logger=logger, **kwargs)\n",
    "\n"
   ]
  },
  {
   "cell_type": "markdown",
   "metadata": {},
   "source": [
    "Bridget is a specialized widget that:\n",
    "1. Inherits from `BridgeBase` for FastHTML/display functionality\n",
    "2. Uses [AnyWidget](https://anywidget.dev/) tooling-free, general widget solution, for browser-kernel communication\n",
    "3. Implements a singleton pattern to ensure one instance per notebook\n",
    "\n",
    "Attributes:\n",
    "- `_esm`: Path to bundled JavaScript module\n",
    "- `request`/`response`: Traitlets for HTMX communication\n",
    "- `htmx`/`htmx_sels`: Configuration for HTMX integration\n",
    "\n",
    "The core part is using the widget's bidirectional communication to replace HTMX's HTTP transport:\n",
    "1. Browser: HTMX makes requests thinking it's talking to a server\n",
    "2. Widget: Captures these requests via traitlets\n",
    "3. Kernel: Processes requests using FastHTML routing\n",
    "4. Widget: Returns responses that HTMX understands\n",
    "\n",
    "\n",
    "## Bridget JavaScript Implementation [bridget.js](bridget.js)\n",
    "\n",
    "Bridget's JavaScript code provides the browser-side implementation that:\n",
    "1. Intercepts HTMX AJAX requests (SSE, WS in the future)\n",
    "2. Routes them through the widget's communication channel\n",
    "3. Processes responses back to HTMX\n",
    "4. Manages HTMX initialization in notebook output cells\n",
    "\n",
    "### Some details\n",
    "\n",
    "#### Request Flow\n",
    "1. HTMX makes an AJAX request\n",
    "2. [xhook](https://github.com/jpillora/xhook/tree/main) intercepts it via `on_request`\n",
    "3. Request is serialized and sent to kernel via traitlets\n",
    "4. Kernel processes request and sends response\n",
    "5. Response is processed by `response_changed`\n",
    "6. HTMX receives response and updates DOM\n",
    "\n",
    "#### HTMX Integration\n",
    "1. `BridgetObserver` watches for new notebook output cells\n",
    "2. New cells are processed with `htmx.process()`\n",
    "3. HTMX attributes become active\n",
    "4. AJAX requests are intercepted and routed through widget\n",
    "\n",
    "\n",
    "Note that Bridget JS is backend agnostic. We're using FastHTML here because its the best for my quest of replacing ipywidgets as the main form of interactivity in a notebook, but it could be any other backend libarary.\n"
   ]
  },
  {
   "cell_type": "markdown",
   "metadata": {},
   "source": [
    "## get_app\n",
    "> Helper function to initialize the root-level app, bridget, and route."
   ]
  },
  {
   "cell_type": "code",
   "execution_count": null,
   "metadata": {},
   "outputs": [],
   "source": [
    "#| export\n",
    "\n",
    "def get_app(setup_scripts=False, app=None, appkw:dict[str, Any]={}, **cfargs) -> tuple[FastHTML, Bridget, MethodType]: \n",
    "    bridge_cfg.update(**cfargs)\n",
    "    if setup_scripts: bridget_scripts(True, htmx=False)\n",
    "    app = app or nb_app(**appkw)\n",
    "    return app, get_bridget(app), app.route  # type: ignore\n"
   ]
  },
  {
   "cell_type": "code",
   "execution_count": null,
   "metadata": {},
   "outputs": [],
   "source": [
    "# cleanupwidgets('brt')\n",
    "# try: del brt  # type: ignore\n",
    "# except Exception: pass\n",
    "# test_eq(getattr(Bridget, '__instance__', None), None)\n"
   ]
  },
  {
   "cell_type": "code",
   "execution_count": null,
   "metadata": {},
   "outputs": [
    {
     "data": {
      "text/html": [
       "<div style='max-height: 400px; border: 1px solid black; overflow: auto;'><div><div class=\"bridget-debug\">\n",
       "Request: <pre style=\"white-space:pre;overflow-x:auto;line-height:normal;font-family:Menlo,'DejaVu Sans Mono',consolas,'Courier New',monospace\"><span style=\"font-weight: bold\">{</span>\n",
       "    <span style=\"color: #008000; text-decoration-color: #008000\">'headers'</span>: <span style=\"font-weight: bold\">{</span>\n",
       "        <span style=\"color: #008000; text-decoration-color: #008000\">'HX-Request'</span>: <span style=\"color: #008000; text-decoration-color: #008000\">'true'</span>,\n",
       "        <span style=\"color: #008000; text-decoration-color: #008000\">'HX-Trigger-Name'</span>: <span style=\"color: #008000; text-decoration-color: #008000\">'value'</span>,\n",
       "        <span style=\"color: #008000; text-decoration-color: #008000\">'HX-Target'</span>: <span style=\"color: #008000; text-decoration-color: #008000\">'spanscale'</span>,\n",
       "        <span style=\"color: #008000; text-decoration-color: #008000\">'HX-Current-URL'</span>: \n",
       "<span style=\"color: #008000; text-decoration-color: #008000\">'vscode-webview://1ql27b0grt14rkuj26idbt9ktekivp44iu2s8pgfndvblm2j3iep/index.htm</span>\n",
       "<span style=\"color: #008000; text-decoration-color: #008000\">l?id=b8c93459-dec0-4deb-9ddf-d3adcad764c2&amp;origin=1e95bb6a-280d-4f6e-8090-7f55f54</span>\n",
       "<span style=\"color: #008000; text-decoration-color: #008000\">cbfbd&amp;swVersion=4&amp;extensionId=&amp;platform=electron&amp;vscode-resource-base-authority=</span>\n",
       "<span style=\"color: #008000; text-decoration-color: #008000\">vscode-resource.vscode-cdn.net&amp;parentOrigin=vscode-file%3A%2F%2Fvscode-app&amp;purpo</span>\n",
       "<span style=\"color: #008000; text-decoration-color: #008000\">se=notebookRenderer'</span>,\n",
       "        <span style=\"color: #008000; text-decoration-color: #008000\">'Content-Type'</span>: <span style=\"color: #008000; text-decoration-color: #008000\">'application/x-www-form-urlencoded'</span>\n",
       "    <span style=\"font-weight: bold\">}</span>,\n",
       "    <span style=\"color: #008000; text-decoration-color: #008000\">'headerNames'</span>: <span style=\"font-weight: bold\">{</span>\n",
       "        <span style=\"color: #008000; text-decoration-color: #008000\">'hx-request'</span>: <span style=\"color: #008000; text-decoration-color: #008000\">'HX-Request'</span>,\n",
       "        <span style=\"color: #008000; text-decoration-color: #008000\">'hx-trigger-name'</span>: <span style=\"color: #008000; text-decoration-color: #008000\">'HX-Trigger-Name'</span>,\n",
       "        <span style=\"color: #008000; text-decoration-color: #008000\">'hx-target'</span>: <span style=\"color: #008000; text-decoration-color: #008000\">'HX-Target'</span>,\n",
       "        <span style=\"color: #008000; text-decoration-color: #008000\">'hx-current-url'</span>: <span style=\"color: #008000; text-decoration-color: #008000\">'HX-Current-URL'</span>,\n",
       "        <span style=\"color: #008000; text-decoration-color: #008000\">'content-type'</span>: <span style=\"color: #008000; text-decoration-color: #008000\">'Content-Type'</span>\n",
       "    <span style=\"font-weight: bold\">}</span>,\n",
       "    <span style=\"color: #008000; text-decoration-color: #008000\">'status'</span>: <span style=\"color: #008080; text-decoration-color: #008080; font-weight: bold\">0</span>,\n",
       "    <span style=\"color: #008000; text-decoration-color: #008000\">'method'</span>: <span style=\"color: #008000; text-decoration-color: #008000\">'POST'</span>,\n",
       "    <span style=\"color: #008000; text-decoration-color: #008000\">'url'</span>: <span style=\"color: #008000; text-decoration-color: #008000\">'BIntSlider_2/value'</span>,\n",
       "    <span style=\"color: #008000; text-decoration-color: #008000\">'async'</span>: <span style=\"color: #00ff00; text-decoration-color: #00ff00; font-style: italic\">True</span>,\n",
       "    <span style=\"color: #008000; text-decoration-color: #008000\">'timeout'</span>: <span style=\"color: #008080; text-decoration-color: #008080; font-weight: bold\">0</span>,\n",
       "    <span style=\"color: #008000; text-decoration-color: #008000\">'withCredentials'</span>: <span style=\"color: #ff0000; text-decoration-color: #ff0000; font-style: italic\">False</span>,\n",
       "    <span style=\"color: #008000; text-decoration-color: #008000\">'body'</span>: <span style=\"color: #008000; text-decoration-color: #008000\">'value=39'</span>,\n",
       "    <span style=\"color: #008000; text-decoration-color: #008000\">'req_id'</span>: <span style=\"color: #008000; text-decoration-color: #008000\">'da219183-ca0f-4574-829f-3ada42c71158'</span>\n",
       "<span style=\"font-weight: bold\">}</span>\n",
       "</pre>\n",
       "Response: <pre style=\"white-space:pre;overflow-x:auto;line-height:normal;font-family:Menlo,'DejaVu Sans Mono',consolas,'Courier New',monospace\"><span style=\"font-weight: bold\">{</span>\n",
       "    <span style=\"color: #008000; text-decoration-color: #008000\">'headers'</span>: <span style=\"font-weight: bold\">{</span>\n",
       "        <span style=\"color: #008000; text-decoration-color: #008000\">'content-length'</span>: <span style=\"color: #008000; text-decoration-color: #008000\">'2'</span>,\n",
       "        <span style=\"color: #008000; text-decoration-color: #008000\">'content-type'</span>: <span style=\"color: #008000; text-decoration-color: #008000\">'text/html; charset=utf-8'</span>,\n",
       "        <span style=\"color: #008000; text-decoration-color: #008000\">'last-modified'</span>: <span style=\"color: #008000; text-decoration-color: #008000\">'Wed, 22 Jan 2025 19:12:26 GMT'</span>,\n",
       "        <span style=\"color: #008000; text-decoration-color: #008000\">'cache-control'</span>: <span style=\"color: #008000; text-decoration-color: #008000\">'no-store, no-cache, must-revalidate'</span>\n",
       "    <span style=\"font-weight: bold\">}</span>,\n",
       "    <span style=\"color: #008000; text-decoration-color: #008000\">'status'</span>: <span style=\"color: #008080; text-decoration-color: #008080; font-weight: bold\">200</span>,\n",
       "    <span style=\"color: #008000; text-decoration-color: #008000\">'statusText'</span>: <span style=\"color: #008000; text-decoration-color: #008000\">'OK'</span>,\n",
       "    <span style=\"color: #008000; text-decoration-color: #008000\">'data'</span>: <span style=\"color: #008000; text-decoration-color: #008000\">'39'</span>,\n",
       "    <span style=\"color: #008000; text-decoration-color: #008000\">'xml'</span>: <span style=\"color: #800080; text-decoration-color: #800080; font-style: italic\">None</span>,\n",
       "    <span style=\"color: #008000; text-decoration-color: #008000\">'finalUrl'</span>: <span style=\"color: #008000; text-decoration-color: #008000\">'http://nb/BIntSlider_2/value'</span>,\n",
       "    <span style=\"color: #008000; text-decoration-color: #008000\">'req_id'</span>: <span style=\"color: #008000; text-decoration-color: #008000\">'da219183-ca0f-4574-829f-3ada42c71158'</span>\n",
       "<span style=\"font-weight: bold\">}</span>\n",
       "</pre>\n",
       "</div>\n",
       "</div></div>"
      ],
      "text/plain": [
       "<IPython.core.display.HTML object>"
      ]
     },
     "metadata": {
      "bridget": {
       "skip": true
      }
     },
     "output_type": "display_data"
    }
   ],
   "source": [
    "app, brt, rt = get_app()\n",
    "test_is(brt, get_bridget())\n",
    "test_is(brt.app, app)\n"
   ]
  },
  {
   "cell_type": "markdown",
   "metadata": {},
   "source": [
    "`get_app` setup the root app and bridget, and returns the route decorator.."
   ]
  },
  {
   "cell_type": "code",
   "execution_count": null,
   "metadata": {},
   "outputs": [
    {
     "data": {
      "application/vnd.jupyter.widget-view+json": {
       "model_id": "9a1dbc336b6646c09fd4d2d0a9c331ec",
       "version_major": 2,
       "version_minor": 1
      },
      "text/plain": [
       "Bridget(libraries={'htmx': 'https://unpkg.com/htmx.org@next/dist/htmx.js', 'fasthtml_js': 'https://cdn.jsdeliv…"
      ]
     },
     "execution_count": null,
     "metadata": {},
     "output_type": "execute_result"
    }
   ],
   "source": [
    "get_bridget(show=True)\n"
   ]
  },
  {
   "cell_type": "markdown",
   "metadata": {},
   "source": [
    "Once loaded, this only show widget feedback and debug area. The widget itself is headless and already loaded above."
   ]
  },
  {
   "cell_type": "code",
   "execution_count": null,
   "metadata": {},
   "outputs": [],
   "source": [
    "# brt.close()\n",
    "# del brt"
   ]
  },
  {
   "cell_type": "markdown",
   "metadata": {},
   "source": [
    "Let's see Bridget in action. (Look above to see the request and response)"
   ]
  },
  {
   "cell_type": "code",
   "execution_count": null,
   "metadata": {},
   "outputs": [],
   "source": [
    "bridge_cfg.debug_req = True\n",
    "bridge_cfg.auto_show = True\n"
   ]
  },
  {
   "cell_type": "code",
   "execution_count": null,
   "metadata": {},
   "outputs": [
    {
     "data": {
      "text/html": [
       "<div>\n",
       "<button hx-get=\"/inc\" hx-swap=\"textContent\" hx-target=\"find span\">Count: <span>0</span></button></div>\n"
      ],
      "text/plain": [
       "div((button(('Count: ', span(('0',),{})),{'hx-get': '/inc', 'hx-swap': 'textContent', 'hx-target': 'find span'}),),{})"
      ]
     },
     "metadata": {},
     "output_type": "display_data"
    }
   ],
   "source": [
    "def counter():\n",
    "    n = 0\n",
    "    @rt('/inc')\n",
    "    def increment():\n",
    "        nonlocal n\n",
    "        n += 1\n",
    "        return f\"{n}\"\n",
    "    return Div()(\n",
    "        Button(hx_get='/inc', hx_target='find span', hx_swap='textContent')(\n",
    "            'Count: ', Span(f\"{n}\")))\n",
    "\n",
    "counter()\n"
   ]
  },
  {
   "cell_type": "code",
   "execution_count": null,
   "metadata": {},
   "outputs": [
    {
     "data": {
      "text/html": [
       "<button value=\"0\" name=\"n\" hx-post=\"/inc\" hx-swap=\"outerHTML\" style=\"background-color:hsl(191 50% 90%); font-weight: bold\">Count: 0</button>"
      ],
      "text/plain": [
       "button(('Count: 0',),{'value': '0', 'name': 'n', 'hx-post': '/inc', 'hx-swap': 'outerHTML', 'style': 'background-color:hsl(191 50% 90%); font-weight: bold'})"
      ]
     },
     "metadata": {},
     "output_type": "display_data"
    }
   ],
   "source": [
    "def random_hsl(saturation=50, lightness=90):\n",
    "    hue = random.randint(0, 360)\n",
    "    return f\"hsl({hue} {saturation}% {lightness}%)\"\n",
    "\n",
    "def counter(n=0):\n",
    "    @rt('/inc')\n",
    "    def increment(n:int):\n",
    "        return Button(f\"Count: {n+1}\", value=f\"{n+1}\", name='n', \n",
    "            hx_post='/inc', hx_swap='outerHTML', \n",
    "            style=f\"background-color:{random_hsl()}; font-weight: bold\")\n",
    "    return increment(n-1)\n",
    "\n",
    "counter()\n"
   ]
  },
  {
   "cell_type": "code",
   "execution_count": null,
   "metadata": {},
   "outputs": [
    {
     "data": {
      "text/html": [
       "<div>\n",
       "  <h2>HTMX Test</h2>\n",
       "  <div>Swapped DOM elements are styled instantly when they arrive.</div>\n",
       "<button garlic hx-get=\"/test\" hx-select=\"button[vampire]\" hx-swap=\"afterend\">\n",
       "    <style>\n",
       "    me { margin: 4px; padding: 10px 30px; min-width: 80px; background: hsl(264 80% 47%); border-bottom: 0.5rem solid hsl(264 80% 20%); }\n",
       "    me { color: antiquewhite; font-size: 14pt; font-variant: all-small-caps; font-weight: bold; }\n",
       "    me:hover { background: hsl(264 80% 60%); }\n",
       "    me span.icon { font-size:16pt; }\n",
       "</style>\n",
       "garlic <span class=\"icon\">🧄</span>\n",
       "</button>\n",
       "<button vampire hx-get=\"/test\" hx-select=\"button[garlic]\" hx-swap=\"afterend\">\n",
       "    <style>\n",
       "    me { margin: 4px; padding: 10px 30px; min-width: 80px; background: hsl(150 80% 47%); border-bottom: 0.5rem solid hsl(264 80% 20%); }\n",
       "    me { color: antiquewhite; font-size: 14pt; font-variant: all-small-caps; font-weight: bold; }\n",
       "    me:hover { background: hsl(150 80% 60%); }\n",
       "    me span.icon { font-size:16pt; }\n",
       "</style>\n",
       "vampire <span class=\"icon\">🧛</span>\n",
       "</button>\n",
       "</div>\n"
      ],
      "text/plain": [
       "div((h2(('HTMX Test',),{}), div(('Swapped DOM elements are styled instantly when they arrive.',),{}), <__main__.Buttons object>),{})"
      ]
     },
     "metadata": {},
     "output_type": "display_data"
    }
   ],
   "source": [
    "@rt(\"/test\")\n",
    "def get():\n",
    "    return Buttons()\n",
    "\n",
    "\n",
    "html = Div()(\n",
    "    H2('HTMX Test'),\n",
    "    Div('Swapped DOM elements are styled instantly when they arrive.'),\n",
    "    Buttons(),\n",
    ")\n",
    "\n",
    "# brt(html); # or simply, if bridge_cfg.auto_show is True:\n",
    "html\n"
   ]
  },
  {
   "cell_type": "markdown",
   "metadata": {},
   "source": [
    "An example from [gnat](https://github.com/gnat)'s [css-scope-inline](https://github.com/gnat/css-scope-inline). Click the buttons."
   ]
  },
  {
   "cell_type": "markdown",
   "metadata": {},
   "source": [
    "See [details_json.ipynb](30_details_json.ipynb) for a lazy JSON browser."
   ]
  },
  {
   "cell_type": "markdown",
   "metadata": {},
   "source": [
    ":::{.callout-tip}\n",
    "## Why are my output cells un-styled and/or inactive?\n",
    "Because all changes made with Bridge/Bridget/FastHTML/HTMX are **transient**.\n",
    ":::\n",
    "\n",
    "Let's talk about what's happening under the hood:\n",
    "\n",
    "We're modifying the DOM - the HTML structure in your browser - at runtime. This is **not** a notebook editor; it's a runtime tool. For anything to work, you need to execute the cells.\n",
    "\n",
    "Here's the thing: a notebook is just **JSON**. Ultimately, output cells are just HTML (derived from any IPython displayable object), environments like VSCode won't render them until display time.\n",
    "\n",
    "When you open a notebook, tjhe front-end usually takes a lazy approach (VSCode/Cursor more than others):\n",
    "- It renders existing outputs from the JSON (including JavaScript)\n",
    "- But it won't execute any cells automatically\n",
    "- Even ipywidgets get special (and sometimes quirky) treatment\n",
    "\n",
    "Think of the notebook's JSON as a snapshot from when you ran the cells. Any DOM changes we make don't get saved back to this JSON.\n",
    "\n",
    "This means:\n",
    "1. Bridge needs explicit initialization to load its JS/CSS\n",
    "2. On load, saved notebooks will execute the JavaScript/HTML put there by cell runs\n",
    "3. Kernel-side code won't run until you execute the cells\n",
    "\n",
    "Could we make Bridget modify the actual notebook outputs? Technically, yes, maybe. But given the labyrinthine complexity of the Jupyter ecosystem (and the mountains of JavaScript involved), I get a headache just thinking about it. Some mountains are better left unclimbed! 😅"
   ]
  },
  {
   "cell_type": "markdown",
   "metadata": {},
   "source": [
    "# Simple widget\n"
   ]
  },
  {
   "cell_type": "code",
   "execution_count": null,
   "metadata": {},
   "outputs": [],
   "source": [
    "bridge_cfg.auto_show = True\n",
    "bridge_cfg.auto_mount = True\n",
    "bridge_cfg.debug_req = True\n"
   ]
  },
  {
   "cell_type": "code",
   "execution_count": null,
   "metadata": {},
   "outputs": [
    {
     "data": {
      "text/html": [
       "<div id=\"BIntSlider_3\" class=\"bridget slider\">\n",
       "<label for=\"value\">Scale</label>\n",
       "  <input type=\"range\" name=\"value\" max=\"100\" step=\"1\" hx-post=\"BIntSlider_3/value\" hx-trigger=\"input changed\" hx-swap=\"textContent\" hx-target=\"next text\">\n",
       "<text id=\"spanscale\" style=\"inline\">0</text>\n",
       "</div>\n",
       "<brt-mark id=\"b07bcce82-699120a5-3ca7037b-47b9987e\"></brt-mark>"
      ],
      "text/plain": [
       "<IPython.core.display.HTML object>"
      ]
     },
     "metadata": {},
     "output_type": "display_data"
    },
    {
     "data": {
      "text/html": [
       "<div style='max-height: 400px; border: 1px solid black; overflow: auto;'><div><div class=\"bridget-debug\">\n",
       "Request: <pre style=\"white-space:pre;overflow-x:auto;line-height:normal;font-family:Menlo,'DejaVu Sans Mono',consolas,'Courier New',monospace\"><span style=\"font-weight: bold\">{</span>\n",
       "    <span style=\"color: #008000; text-decoration-color: #008000\">'headers'</span>: <span style=\"font-weight: bold\">{</span>\n",
       "        <span style=\"color: #008000; text-decoration-color: #008000\">'HX-Request'</span>: <span style=\"color: #008000; text-decoration-color: #008000\">'true'</span>,\n",
       "        <span style=\"color: #008000; text-decoration-color: #008000\">'HX-Trigger-Name'</span>: <span style=\"color: #008000; text-decoration-color: #008000\">'value'</span>,\n",
       "        <span style=\"color: #008000; text-decoration-color: #008000\">'HX-Target'</span>: <span style=\"color: #008000; text-decoration-color: #008000\">'spanscale'</span>,\n",
       "        <span style=\"color: #008000; text-decoration-color: #008000\">'HX-Current-URL'</span>: \n",
       "<span style=\"color: #008000; text-decoration-color: #008000\">'vscode-webview://1ql27b0grt14rkuj26idbt9ktekivp44iu2s8pgfndvblm2j3iep/index.htm</span>\n",
       "<span style=\"color: #008000; text-decoration-color: #008000\">l?id=b8c93459-dec0-4deb-9ddf-d3adcad764c2&amp;origin=1e95bb6a-280d-4f6e-8090-7f55f54</span>\n",
       "<span style=\"color: #008000; text-decoration-color: #008000\">cbfbd&amp;swVersion=4&amp;extensionId=&amp;platform=electron&amp;vscode-resource-base-authority=</span>\n",
       "<span style=\"color: #008000; text-decoration-color: #008000\">vscode-resource.vscode-cdn.net&amp;parentOrigin=vscode-file%3A%2F%2Fvscode-app&amp;purpo</span>\n",
       "<span style=\"color: #008000; text-decoration-color: #008000\">se=notebookRenderer'</span>,\n",
       "        <span style=\"color: #008000; text-decoration-color: #008000\">'Content-Type'</span>: <span style=\"color: #008000; text-decoration-color: #008000\">'application/x-www-form-urlencoded'</span>\n",
       "    <span style=\"font-weight: bold\">}</span>,\n",
       "    <span style=\"color: #008000; text-decoration-color: #008000\">'headerNames'</span>: <span style=\"font-weight: bold\">{</span>\n",
       "        <span style=\"color: #008000; text-decoration-color: #008000\">'hx-request'</span>: <span style=\"color: #008000; text-decoration-color: #008000\">'HX-Request'</span>,\n",
       "        <span style=\"color: #008000; text-decoration-color: #008000\">'hx-trigger-name'</span>: <span style=\"color: #008000; text-decoration-color: #008000\">'HX-Trigger-Name'</span>,\n",
       "        <span style=\"color: #008000; text-decoration-color: #008000\">'hx-target'</span>: <span style=\"color: #008000; text-decoration-color: #008000\">'HX-Target'</span>,\n",
       "        <span style=\"color: #008000; text-decoration-color: #008000\">'hx-current-url'</span>: <span style=\"color: #008000; text-decoration-color: #008000\">'HX-Current-URL'</span>,\n",
       "        <span style=\"color: #008000; text-decoration-color: #008000\">'content-type'</span>: <span style=\"color: #008000; text-decoration-color: #008000\">'Content-Type'</span>\n",
       "    <span style=\"font-weight: bold\">}</span>,\n",
       "    <span style=\"color: #008000; text-decoration-color: #008000\">'status'</span>: <span style=\"color: #008080; text-decoration-color: #008080; font-weight: bold\">0</span>,\n",
       "    <span style=\"color: #008000; text-decoration-color: #008000\">'method'</span>: <span style=\"color: #008000; text-decoration-color: #008000\">'POST'</span>,\n",
       "    <span style=\"color: #008000; text-decoration-color: #008000\">'url'</span>: <span style=\"color: #008000; text-decoration-color: #008000\">'BIntSlider_3/value'</span>,\n",
       "    <span style=\"color: #008000; text-decoration-color: #008000\">'async'</span>: <span style=\"color: #00ff00; text-decoration-color: #00ff00; font-style: italic\">True</span>,\n",
       "    <span style=\"color: #008000; text-decoration-color: #008000\">'timeout'</span>: <span style=\"color: #008080; text-decoration-color: #008080; font-weight: bold\">0</span>,\n",
       "    <span style=\"color: #008000; text-decoration-color: #008000\">'withCredentials'</span>: <span style=\"color: #ff0000; text-decoration-color: #ff0000; font-style: italic\">False</span>,\n",
       "    <span style=\"color: #008000; text-decoration-color: #008000\">'body'</span>: <span style=\"color: #008000; text-decoration-color: #008000\">'value=73'</span>,\n",
       "    <span style=\"color: #008000; text-decoration-color: #008000\">'req_id'</span>: <span style=\"color: #008000; text-decoration-color: #008000\">'52d53c69-2362-4678-a103-7315a11e86ec'</span>\n",
       "<span style=\"font-weight: bold\">}</span>\n",
       "</pre>\n",
       "Response: <pre style=\"white-space:pre;overflow-x:auto;line-height:normal;font-family:Menlo,'DejaVu Sans Mono',consolas,'Courier New',monospace\"><span style=\"font-weight: bold\">{</span>\n",
       "    <span style=\"color: #008000; text-decoration-color: #008000\">'headers'</span>: <span style=\"font-weight: bold\">{</span>\n",
       "        <span style=\"color: #008000; text-decoration-color: #008000\">'content-length'</span>: <span style=\"color: #008000; text-decoration-color: #008000\">'2'</span>,\n",
       "        <span style=\"color: #008000; text-decoration-color: #008000\">'content-type'</span>: <span style=\"color: #008000; text-decoration-color: #008000\">'text/html; charset=utf-8'</span>,\n",
       "        <span style=\"color: #008000; text-decoration-color: #008000\">'last-modified'</span>: <span style=\"color: #008000; text-decoration-color: #008000\">'Wed, 22 Jan 2025 19:13:57 GMT'</span>,\n",
       "        <span style=\"color: #008000; text-decoration-color: #008000\">'cache-control'</span>: <span style=\"color: #008000; text-decoration-color: #008000\">'no-store, no-cache, must-revalidate'</span>\n",
       "    <span style=\"font-weight: bold\">}</span>,\n",
       "    <span style=\"color: #008000; text-decoration-color: #008000\">'status'</span>: <span style=\"color: #008080; text-decoration-color: #008080; font-weight: bold\">200</span>,\n",
       "    <span style=\"color: #008000; text-decoration-color: #008000\">'statusText'</span>: <span style=\"color: #008000; text-decoration-color: #008000\">'OK'</span>,\n",
       "    <span style=\"color: #008000; text-decoration-color: #008000\">'data'</span>: <span style=\"color: #008000; text-decoration-color: #008000\">'73'</span>,\n",
       "    <span style=\"color: #008000; text-decoration-color: #008000\">'xml'</span>: <span style=\"color: #800080; text-decoration-color: #800080; font-style: italic\">None</span>,\n",
       "    <span style=\"color: #008000; text-decoration-color: #008000\">'finalUrl'</span>: <span style=\"color: #008000; text-decoration-color: #008000\">'http://nb/BIntSlider_3/value'</span>,\n",
       "    <span style=\"color: #008000; text-decoration-color: #008000\">'req_id'</span>: <span style=\"color: #008000; text-decoration-color: #008000\">'52d53c69-2362-4678-a103-7315a11e86ec'</span>\n",
       "<span style=\"font-weight: bold\">}</span>\n",
       "</pre>\n",
       "</div>\n",
       "</div></div>"
      ],
      "text/plain": [
       "<IPython.core.display.HTML object>"
      ]
     },
     "metadata": {
      "bridget": {
       "skip": true
      }
     },
     "output_type": "display_data"
    },
    {
     "data": {
      "application/vnd.jupyter.widget-view+json": {
       "model_id": "b0d0a12aaffc45df9c732583b6cc46e2",
       "version_major": 2,
       "version_minor": 1
      },
      "text/plain": [
       "Bridget(libraries={'htmx': 'https://unpkg.com/htmx.org@next/dist/htmx.js', 'fasthtml_js': 'https://cdn.jsdeliv…"
      ]
     },
     "execution_count": null,
     "metadata": {},
     "output_type": "execute_result"
    }
   ],
   "source": [
    "\n",
    "class BWidget(T.HasTraits, RouteProvider):\n",
    "    bridget: Bridget = None  # type: ignore\n",
    "    _mounted = False\n",
    "    def __ft__(self): ...\n",
    "    def _ipython_display_(self):\n",
    "        brt = get_bridget()\n",
    "        if bridge_cfg.auto_mount and not self._mounted: brt.mount(self, show=False)\n",
    "        brt(self);\n",
    "\n",
    "class BValue(BWidget):\n",
    "    value=T.CInt(0).tag(sync=True)\n",
    "    _updating = False\n",
    "    \n",
    "    @contextmanager\n",
    "    def _update_ctx(self):\n",
    "        self._updating = True\n",
    "        yield\n",
    "        self._updating = False\n",
    "\n",
    "    @T.observe('value')\n",
    "    def on_value(self, _):\n",
    "        if self.bridget and not self._updating:\n",
    "            self.bridget.swap(f\"#{self.ar.name()}\", to_xml(self.__ft__()), swapStyle='innerHTML')\n",
    "\n",
    "    @ar.post('/value')\n",
    "    def changed(self, value:int):\n",
    "        with self._update_ctx(): self.value = value\n",
    "        return str(value)\n",
    "\n",
    "\n",
    "@dataclasses.dataclass\n",
    "class BIntSlider(BValue):\n",
    "    min:int=0\n",
    "    max:int=100\n",
    "    step:int=1\n",
    "    readout:bool=True\n",
    "    readout_format:str='d'\n",
    "    \n",
    "    def __ft__(self):\n",
    "        if bridge_cfg.auto_mount and not self._mounted: get_bridget().mount(self, show=False)\n",
    "        return Div(id=self.ar.name(), cls='bridget slider')(\n",
    "            Label(_for='value')('Scale'), _n,\n",
    "            Input(type='range', name='value', min=self.min, max=self.max, step=self.step, value=self.value,\n",
    "                # hx_post=f\"{self.ar.to()}{self.ar.to('changed')}\", hx_trigger='input changed', \n",
    "                hx_post=self.ar.to('changed'), hx_trigger='input changed', \n",
    "                hx_target='next text', hx_swap='textContent'),\n",
    "            Text(id='spanscale', style='inline')(self.value), _n\n",
    "        )\n",
    "\n",
    "app.routes.clear()\n",
    "\n",
    "rp = BIntSlider()\n",
    "display(rp)\n",
    "get_bridget(show=True)\n"
   ]
  },
  {
   "cell_type": "code",
   "execution_count": null,
   "metadata": {},
   "outputs": [],
   "source": [
    "rp.value = 77"
   ]
  },
  {
   "cell_type": "code",
   "execution_count": null,
   "metadata": {},
   "outputs": [
    {
     "data": {
      "text/html": [
       "<div id=\"BIntSlider_4\" class=\"bridget slider\">\n",
       "<label for=\"value\">Scale</label>\n",
       "  <input type=\"range\" name=\"value\" max=\"100\" step=\"2\" hx-post=\"BIntSlider_4/value\" hx-trigger=\"input changed\" hx-swap=\"textContent\" hx-target=\"next text\">\n",
       "<text id=\"spanscale\" style=\"inline\">0</text>\n",
       "</div>\n",
       "<brt-mark id=\"b6c1243e4-f8d163ed-c5a21647-a134ad0c\"></brt-mark>"
      ],
      "text/plain": [
       "<IPython.core.display.HTML object>"
      ]
     },
     "metadata": {},
     "output_type": "display_data"
    }
   ],
   "source": [
    "sld2 = BIntSlider(step=2)\n",
    "sld2"
   ]
  },
  {
   "cell_type": "code",
   "execution_count": null,
   "metadata": {},
   "outputs": [
    {
     "data": {
      "text/html": [
       "<div style=\"display: flex; gap: 1em;\">\n",
       "  <div id=\"BIntSlider_5\" class=\"bridget slider\">\n",
       "<label for=\"value\">Scale</label>\n",
       "    <input type=\"range\" name=\"value\" max=\"100\" step=\"1\" hx-post=\"BIntSlider_5/value\" hx-trigger=\"input changed\" hx-swap=\"textContent\" hx-target=\"next text\">\n",
       "<text id=\"spanscale\" style=\"inline\">0</text>\n",
       "  </div>\n",
       "  <div id=\"BIntSlider_6\" class=\"bridget slider\">\n",
       "<label for=\"value\">Scale</label>\n",
       "    <input type=\"range\" name=\"value\" max=\"100\" step=\"1\" hx-post=\"BIntSlider_6/value\" hx-trigger=\"input changed\" hx-swap=\"textContent\" hx-target=\"next text\">\n",
       "<text id=\"spanscale\" style=\"inline\">0</text>\n",
       "  </div>\n",
       "</div>\n"
      ],
      "text/plain": [
       "div((BIntSlider(min=0, max=100, step=1, readout=True, readout_format='d'), BIntSlider(min=0, max=100, step=1, readout=True, readout_format='d')),{'style': 'display: flex; gap: 1em;'})"
      ]
     },
     "metadata": {},
     "output_type": "display_data"
    }
   ],
   "source": [
    "sld3 = BIntSlider()\n",
    "sld4 = BIntSlider()\n",
    "# brt.mount(sld3, show=False)\n",
    "# brt.mount(sld4, show=False)\n",
    "T.link((sld3, 'value'), (sld4, 'value'))\n",
    "\n",
    "box = Div(style='display: flex; gap: 1em;')(sld3, sld4)\n",
    "box\n"
   ]
  },
  {
   "cell_type": "code",
   "execution_count": null,
   "metadata": {},
   "outputs": [],
   "source": [
    "sld3.value = 22\n",
    "test_eq(sld4.value, 22)\n"
   ]
  },
  {
   "cell_type": "markdown",
   "metadata": {},
   "source": [
    "# Hydrate (TBD)\n",
    "> Can we edit `.ipynb`s directly to capture actual output without `nbformat` or editing the JSON in disk?\n"
   ]
  },
  {
   "cell_type": "code",
   "execution_count": null,
   "metadata": {},
   "outputs": [],
   "source": [
    "def hydrate(bridget=True, app: FastHTML | None=None, appkw:dict[str, Any]={}, **kwargs): \n",
    "    app, bridge, rt = get_app(True, app, appkw=appkw, **kwargs)\n",
    "    bridget = Bridget(bridge) if bridget else None\n",
    "    return app, bridge, rt, bridget\n",
    "\n",
    "# hydrate()\n"
   ]
  },
  {
   "cell_type": "markdown",
   "metadata": {},
   "source": [
    "# What about WebSockets and SSE Support?\n"
   ]
  },
  {
   "cell_type": "markdown",
   "metadata": {},
   "source": [
    "\n",
    "While HTMX supports WebSockets and Server-Sent Events (SSE) through extensions([1](https://htmx.org/docs/#web-sockets-sse)), this proof-of-concept focuses only on AJAX functionality for several reasons:\n",
    "\n",
    "1. **Core Functionality**: HTMX is primarily an AJAX framework - WS and SSE support are add-ons with simpler implementations([2](https://htmx.org/docs/#extensions))\n",
    "\n",
    "2. **Proof of Concept**: For demonstrating the viability of using HTMX in notebooks, AJAX support is sufficient\n",
    "\n",
    "3. **Future Extension**: Adding WS/SSE support would be straightforward since:\n",
    "   - The notebook Comm layer already uses WebSockets\n",
    "   - HTMX's extension system is well-documented([3](https://htmx.org/docs/#creating-extensions))\n",
    "   - The transport layer replacement pattern is already established with AJAX\n"
   ]
  },
  {
   "cell_type": "markdown",
   "metadata": {},
   "source": [
    "# Colophon\n",
    "----\n"
   ]
  },
  {
   "cell_type": "code",
   "execution_count": null,
   "metadata": {},
   "outputs": [],
   "source": [
    "import inspect\n",
    "import shutil\n",
    "from pathlib import Path\n",
    "\n",
    "import bridget\n",
    "import fastcore.all as FC\n",
    "import nbdev\n",
    "from nbdev.clean import nbdev_clean\n"
   ]
  },
  {
   "cell_type": "code",
   "execution_count": null,
   "metadata": {},
   "outputs": [],
   "source": [
    "if FC.IN_NOTEBOOK:\n",
    "    nb_path = '32_bridget.ipynb'\n",
    "    nbdev_clean(nb_path)\n",
    "    nbdev.nbdev_export(nb_path)\n",
    "\n",
    "    for fn in ('bridget.js', ):\n",
    "        shutil.copyfile(fn, Path(inspect.getfile(bridget)).parent/fn);\n"
   ]
  }
 ],
 "metadata": {
  "kernelspec": {
   "display_name": "Python 3",
   "language": "python",
   "name": "python3"
  },
  "language_info": {
   "name": "python",
   "version": "3.12.8"
  },
  "widgets": {
   "application/vnd.jupyter.widget-state+json": {
    "state": {},
    "version_major": 2,
    "version_minor": 0
   }
  }
 },
 "nbformat": 4,
 "nbformat_minor": 4
}
