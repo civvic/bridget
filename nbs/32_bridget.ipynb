{
 "cells": [
  {
   "cell_type": "code",
   "execution_count": 1,
   "metadata": {
    "brd": {
     "id": "02ffd056-374c-4e39-b9e2-9937c8412329"
    }
   },
   "outputs": [],
   "source": [
    "#| default_exp bridget"
   ]
  },
  {
   "cell_type": "code",
   "execution_count": 2,
   "metadata": {
    "brd": {
     "id": "2c7a69e4-c103-4e01-a337-c1fbbc9caf91"
    }
   },
   "outputs": [],
   "source": [
    "#| export\n",
    "from __future__ import annotations"
   ]
  },
  {
   "cell_type": "markdown",
   "metadata": {},
   "source": [
    "# Bridget\n",
    "> HTMX + FastHTML - Server for Jupyter Notebooks\n",
    "\n",
    "`Bridge` plugin standing in for an HTTP server with `HTMX` Ajax calls."
   ]
  },
  {
   "cell_type": "markdown",
   "metadata": {},
   "source": [
    "## Why Bridget?"
   ]
  },
  {
   "cell_type": "markdown",
   "metadata": {},
   "source": [
    "Jupyter notebooks serve two primary functions:\n",
    "1. **Exploratory/Educational**: Interactive computing and learning\n",
    "2. **Development**: Literate programming and package creation (via nbdev)\n",
    "\n",
    "While code creation is well-served by various notebook environments (Jupyter, VSCode, Marimo, etc.), the display and interaction capabilities are often limited by IPython's well-thought but basic and aging display system. Modern development requires:\n",
    "\n",
    "- Rich data visualization\n",
    "- Interactive system integration\n",
    "- Better control over output rendering\n",
    "\n",
    "### The Front-end Challenge\n",
    "\n",
    "Notebooks already run in browsers (or browser-like environments), giving us access to powerful HTML/JavaScript capabilities. The front-end and kernel are inherently connected, suggesting we shouldn't need additional communication layers.\n",
    "\n",
    "However, the notebook ecosystem is fragmented:\n",
    "- Jupyter (nbclassic, Notebook, Lab): ipywidgets\n",
    "- VSCode/Cursor: Extensions\n",
    "- Marimo: Custom solutions\n",
    "- Google Colab: Proprietary package\n",
    "\n",
    "This fragmentation forces users needing better display solutions to deal with complex, environment-specific tooling.\n",
    "\n",
    "### Enter FastHTML and HTMX\n",
    "\n",
    "FastHTML provides an innovative approach to web apps, emphasizing HTML-first development through HTMX. While Jupyter support isn't its core focus, FastHTML itself is developed using nbdev in notebooks.\n",
    "\n",
    "Current FastHTML notebook integration:\n",
    "- Launches a separate Uvicorn server\n",
    "- Connects HTMX via standard HTTP/AJAX\n",
    "- Works across most notebook variants\n",
    "\n",
    "This approach is general, clean and lightweight but involves spawning a full HTTP server with:\n",
    "- Multi-user capabilities (unnecessary for notebooks)\n",
    "- Async architecture (notebooks are sync)\n",
    "- Complex lifecycle management\n",
    "- Production-level features (overkill for notebook use)\n",
    "- IPython Javascript display object in each cell to trigger HTMX.\n",
    "\n",
    "### The Bridget Solution\n",
    "\n",
    "Bridget proposes using a widget-based approach that:\n",
    "1. **Simplifies**: Replaces HTTP server with direct widget communication\n",
    "2. **Generalizes**: Works across notebook environments via AnyWidget\n",
    "3. **Extends**: Enables creation of notebook-specific components\n",
    "4. **Integrates**: Provides Python API for HTMX functionality\n",
    "\n",
    "This proof-of-concept shows how we can maintain FastHTML's powerful features while better adapting to the notebook environment's unique characteristics and constraints."
   ]
  },
  {
   "cell_type": "markdown",
   "metadata": {},
   "source": [
    ":::{.callout-note}\n",
    "Personal note: My interest here isn't web apps, but notebook development.  \n",
    "\n",
    "I like ipywidgets, or at least the intention. I've written several and used them in many personal projects. However, they're a challenging piece of software with complicated tooling. They inherit all the nightmarish complexity of the JavaScript ecosystem, where the tooling is more involved than the language itself. AnyWidget is a step in the right direction, liberating us Pythonistas from the JS ecosystem. But the notebook part, the Python part, remains an unsolved problem in my opinion.\n",
    "\n",
    "Of all solutions I've explored for achieving full interactivity in notebooks, HTMX + FastHTML comes closest, feeling more natural and integrating better with the notebook environment.\n",
    ":::"
   ]
  },
  {
   "cell_type": "markdown",
   "metadata": {},
   "source": [
    "# Prologue"
   ]
  },
  {
   "cell_type": "code",
   "execution_count": 3,
   "metadata": {
    "brd": {
     "id": "d6359249-d393-44a1-bba2-a14b62b3fc39"
    }
   },
   "outputs": [],
   "source": [
    "#| export\n",
    "import time\n",
    "from types import MethodType\n",
    "from typing import Any\n",
    "from typing import Mapping\n",
    "from typing import Protocol\n",
    "from typing import TypeAlias\n",
    "\n",
    "import fastcore.all as FC\n",
    "from anyio import from_thread\n",
    "from fastcore.xml import FT\n",
    "from fastcore.xml import to_xml\n",
    "from fasthtml.core import APIRouter\n",
    "from fasthtml.core import Client\n",
    "from fasthtml.core import FastHTML\n",
    "from httpx import ASGITransport\n",
    "from httpx import AsyncClient\n",
    "from httpx import codes\n",
    "from httpx import Request\n",
    "from httpx import Response\n",
    "from IPython.display import display\n",
    "from IPython.display import DisplayHandle\n",
    "from IPython.display import HTML\n",
    "from olio.basic import bundle_path\n"
   ]
  },
  {
   "cell_type": "code",
   "execution_count": 4,
   "metadata": {
    "brd": {
     "id": "a738bafa-29b4-4bb8-a82f-3a69fbf6505d"
    }
   },
   "outputs": [],
   "source": [
    "#| export\n",
    "\n",
    "from fasthtml.components import Div, Details, Summary, B, Pre, Span, Strong\n"
   ]
  },
  {
   "cell_type": "code",
   "execution_count": 5,
   "metadata": {
    "brd": {
     "id": "615a3419-396f-49eb-9231-2c1ccb2bfd88"
    }
   },
   "outputs": [],
   "source": [
    "import os\n",
    "os.environ['DEBUG_BRIDGET'] = 'True'"
   ]
  },
  {
   "cell_type": "code",
   "execution_count": 6,
   "metadata": {
    "brd": {
     "id": "ebd56bb3-c9a0-4c87-b168-ffa1b1f8371b"
    }
   },
   "outputs": [],
   "source": [
    "#| export\n",
    "from bridget.bridge import BridgePlugin\n",
    "from bridget.bridge import get_bridge\n",
    "from bridget.bridge_plugins import HTMXCommanderPlugin\n",
    "from bridget.bridge_plugins import NBHooksPlugin\n",
    "from bridget.bridge_widget import bundled\n",
    "from bridget.helpers import bridge_cfg\n",
    "from bridget.helpers import DetailsJSON\n",
    "from bridget.helpers import id_gen\n",
    "from bridget.helpers import nb_app\n",
    "from bridget.nb_state import get_nb\n",
    "from bridget.routing import add_routes\n",
    "from bridget.routing import mount\n",
    "from bridget.routing import RouteProviderP\n"
   ]
  },
  {
   "cell_type": "code",
   "execution_count": 7,
   "metadata": {
    "brd": {
     "id": "f3c6ace3-2f1c-4f71-9e1e-60979ddbf81a"
    }
   },
   "outputs": [],
   "source": [
    "import dataclasses\n",
    "import random\n",
    "from contextlib import contextmanager\n",
    "from inspect import Parameter\n",
    "\n",
    "from bridget.routing import RouteProvider\n",
    "from fastcore.test import *\n",
    "from fasthtml.components import Button\n",
    "from fasthtml.components import H1\n",
    "from fasthtml.components import H2\n",
    "from fasthtml.components import Input\n",
    "from fasthtml.components import Label\n",
    "from fasthtml.components import Main\n",
    "from fasthtml.components import Text\n",
    "from fasthtml.components import Title\n",
    "from fasthtml.xtend import Style\n",
    "from IPython.display import Markdown\n",
    "from olio.common import setup_console\n",
    "import traitlets as T\n"
   ]
  },
  {
   "cell_type": "code",
   "execution_count": 8,
   "metadata": {
    "brd": {
     "id": "3a6e9827-4a92-44a9-bf21-ed259ad632aa"
    }
   },
   "outputs": [],
   "source": [
    "from bridget.helpers import DEBUG\n",
    "from bridget.nb_state import NBStateFeedback\n",
    "from bridget.nb_state import this\n",
    "from bridget.routing import ar\n"
   ]
  },
  {
   "cell_type": "markdown",
   "metadata": {},
   "source": [
    "----\n"
   ]
  },
  {
   "cell_type": "code",
   "execution_count": 9,
   "metadata": {
    "brd": {
     "id": "88a03a44-9f97-4f12-899d-81c33a4ea178"
    }
   },
   "outputs": [],
   "source": [
    "#| exporti\n",
    "\n",
    "BUNDLE_PATH = bundle_path(__name__)\n",
    "new_id = id_gen()\n",
    "IDISPLAY = display"
   ]
  },
  {
   "cell_type": "code",
   "execution_count": 10,
   "metadata": {
    "brd": {
     "id": "34165a94-a921-49bc-be2e-a1fc7b4f03ce"
    }
   },
   "outputs": [
    {
     "name": "stdout",
     "output_type": "stream",
     "text": [
      "True\n"
     ]
    }
   ],
   "source": [
    "console, cprint = setup_console(140)\n",
    "print(DEBUG())"
   ]
  },
  {
   "cell_type": "markdown",
   "metadata": {},
   "source": [
    "----"
   ]
  },
  {
   "cell_type": "code",
   "execution_count": 11,
   "metadata": {
    "brd": {
     "id": "34b40c52-2b70-4433-a190-d4d898095d58"
    }
   },
   "outputs": [],
   "source": [
    "_EMPTY = Parameter.empty\n",
    "_VOID = object()"
   ]
  },
  {
   "cell_type": "code",
   "execution_count": 12,
   "metadata": {
    "brd": {
     "id": "19479a3f-2fdf-49f0-94d3-c0c635307877"
    }
   },
   "outputs": [],
   "source": [
    "#| exporti\n",
    "\n",
    "_n = '\\n'"
   ]
  },
  {
   "cell_type": "code",
   "execution_count": 13,
   "metadata": {
    "brd": {
     "id": "2e69e7f6-78f5-4ad7-8f16-549167698c6b"
    }
   },
   "outputs": [],
   "source": [
    "bridge_cfg.auto_show = True\n",
    "bridge_cfg.auto_id = True"
   ]
  },
  {
   "cell_type": "markdown",
   "metadata": {},
   "source": [
    "# Helpers\n",
    "> Some convenience utils to work with FastHTML in Notebooks."
   ]
  },
  {
   "cell_type": "code",
   "execution_count": 14,
   "metadata": {
    "brd": {
     "id": "064e1fe9-df26-441a-835e-d54a96ee347c"
    }
   },
   "outputs": [
    {
     "name": "stdout",
     "output_type": "stream",
     "text": [
      "moduleName='./bcanvas.js' buffers=[]\n",
      "moduleName='./fcanvas.js' buffers=[]\n",
      "moduleName='./bridge.js' buffers=[]\n",
      "moduleName='./observer.js' buffers=[]\n",
      "moduleName='./commander.js' buffers=[]\n",
      "moduleName='./bridget.js' buffers=[]\n"
     ]
    },
    {
     "data": {
      "text/html": [
       "<div id='brd-logger_1-1757331137' class='brd-logger' style='width: 100%; max-height: 200px;'></div>\n",
       "<brd-mark id=\"b68475fa6-fd50c4af-35c4a3ce-e51a4949\"></brd-mark>"
      ],
      "text/plain": [
       "<bridget.helpers.HTML object>"
      ]
     },
     "metadata": {},
     "output_type": "display_data"
    },
    {
     "data": {
      "text/html": [
       "<details open><summary><b>Loaded scripts</b></summary><pre>loader\n",
       "htmx\n",
       "fasthtmljs\n",
       "observer\n",
       "brd_mark\n",
       "commander\n",
       "nbhooks\n",
       "&lt;script src=&quot;https://cdn.jsdelivr.net/gh/answerdotai/surreal@main/surreal.js&quot;&gt;&lt;/script&gt;\n",
       "&lt;script src=&quot;https://cdn.jsdelivr.net/gh/gnat/css-scope-inline@main/script.js&quot;&gt;&lt;/script&gt;</pre></details>\n",
       "<brd-mark id=\"be73114ef-c4b48d6d-e9cb1842-220ef8f5\"></brd-mark>"
      ],
      "text/plain": [
       "<bridget.helpers.HTML object>"
      ]
     },
     "metadata": {},
     "output_type": "display_data"
    }
   ],
   "source": [
    "# nb = get_nb(show_logger=True, show_feedback=True, summary=True)\n",
    "bridge = get_bridge(plugins=[HTMXCommanderPlugin(), NBHooksPlugin()], show_logger=True, summary=True, wait=5)\n",
    "# bridge = get_bridge(plugins=[HTMXCommanderPlugin()], wait=5)"
   ]
  },
  {
   "cell_type": "markdown",
   "metadata": {},
   "source": [
    "Bridget automatically loads required JavaScript libraries:\n",
    "\n",
    "1. HTMX\n",
    "2. FastHTML core scripts\n",
    "3. Awesome gnat's Scope and Surreal scripts\n",
    "4. Bridge helpers\n",
    "\n",
    "These are loaded by default when creating a Bridget app. You can customize this by overriding defaults when creating the app (covered in app creation section)"
   ]
  },
  {
   "cell_type": "code",
   "execution_count": 15,
   "metadata": {
    "brd": {
     "id": "65bc15ed-19e9-4405-803e-d1b5aeb5e673"
    }
   },
   "outputs": [],
   "source": [
    "# NBStateFeedback.hide()"
   ]
  },
  {
   "cell_type": "markdown",
   "metadata": {},
   "source": [
    "## ClientP"
   ]
  },
  {
   "cell_type": "code",
   "execution_count": 16,
   "metadata": {
    "brd": {
     "id": "9b4e9125-1b86-4fe9-bb50-781b423e7c21"
    }
   },
   "outputs": [],
   "source": [
    "#| export\n",
    "\n",
    "# if typing.TYPE_CHECKING:\n",
    "class ClientP(Protocol):\n",
    "    def get(self, url: str, **kwargs) -> Response: ...\n",
    "    def post(self, url: str, **kwargs) -> Response: ...\n",
    "    def delete(self, url: str, **kwargs) -> Response: ...\n",
    "    def put(self, url: str, **kwargs) -> Response: ...\n",
    "    def patch(self, url: str, **kwargs) -> Response: ...\n",
    "    def options(self, url: str, **kwargs) -> Response: ..."
   ]
  },
  {
   "cell_type": "markdown",
   "metadata": {},
   "source": [
    "## Bridget utils"
   ]
  },
  {
   "cell_type": "code",
   "execution_count": 17,
   "metadata": {
    "brd": {
     "id": "a96e0265-a459-4a5a-8748-3a0bdc9a85cd"
    }
   },
   "outputs": [],
   "source": [
    "#| export\n",
    "\n",
    "def request2httpx_request(cli:AsyncClient, http_request: dict[str, Any]) -> Request:\n",
    "    r = http_request\n",
    "    return cli.build_request(r['method'], r['url'], \n",
    "        headers=r['headers'] if 'headers' in r else {}, \n",
    "        content=r['body'] if 'body' in r else None, timeout=None)\n"
   ]
  },
  {
   "cell_type": "code",
   "execution_count": 18,
   "metadata": {
    "brd": {
     "id": "c43c597d-7663-4e5f-b5ab-a34d41e39b74"
    }
   },
   "outputs": [],
   "source": [
    "#| export\n",
    "\n",
    "class HasFT(Protocol): \n",
    "    def __ft__(self) -> Any: ...\n",
    "class HasHTML(Protocol):\n",
    "    def __html__(self) -> str: ...\n",
    "\n",
    "Bridgeable: TypeAlias = str|Mapping|FT|HasFT|HasHTML\n",
    "\n",
    "\n",
    "def request2response(cli:AsyncClient, http_request) -> Response:\n",
    "    httpx_request = request2httpx_request(cli, http_request)\n",
    "    with from_thread.start_blocking_portal() as portal: \n",
    "        response = portal.call(cli.send, httpx_request)\n",
    "    return response\n",
    "\n",
    "\n",
    "def httpx_response_to_json(response: Response) -> dict[str, Any]:\n",
    "    hdrs = {**response.headers, \n",
    "        'last-modified': time.strftime('%a, %d %b %Y %H:%M:%S GMT', time.gmtime()),\n",
    "        'cache-control': 'no-store, no-cache, must-revalidate',\n",
    "    }\n",
    "    data = response.content.decode()\n",
    "    json_response = {\n",
    "        \"headers\": hdrs,\n",
    "        \"status\": response.status_code,\n",
    "        \"statusText\": codes.get_reason_phrase(response.status_code),\n",
    "        # \"text\": data,\n",
    "        \"data\": data,\n",
    "        \"xml\": None,\n",
    "        'finalUrl': f\"{response.request.url}\",\n",
    "    }\n",
    "    return json_response\n"
   ]
  },
  {
   "cell_type": "code",
   "execution_count": 19,
   "metadata": {
    "brd": {
     "id": "a4519af8-c07e-47a8-969e-1cefa91bcbcd"
    }
   },
   "outputs": [],
   "source": [
    "@FC.patch\n",
    "def _ipython_display_(self: Response):\n",
    "    from IPython.display import display\n",
    "    # dhdl = DisplayId()\n",
    "    # dhdl.display(self.text)\n",
    "    display(HTML(self.text))"
   ]
  },
  {
   "cell_type": "markdown",
   "metadata": {},
   "source": [
    "# BridgetClient\n",
    "> A mixin class that wraps FastHTML and Client functionality for displaying and mounting components.\n",
    "\n",
    "Display:\n",
    "- FT & objects with `__ft__` or `__html__`\n",
    "- Mappings in the form of HTTP requests\n",
    "- URLs\n",
    "\n",
    "Mount:\n",
    "- APIRouter or RouteProvider"
   ]
  },
  {
   "cell_type": "code",
   "execution_count": 20,
   "metadata": {
    "brd": {
     "id": "fc36fd3b-ef7b-487e-af8c-37242e64f86c"
    }
   },
   "outputs": [],
   "source": [
    "#| export\n",
    "\n",
    "class BridgetClient:\n",
    "    \"A simple wrapper around `FastHTML` and `Client`.\"\n",
    "\n",
    "    def setup(self, app: FastHTML|None=None):\n",
    "        if app is None:\n",
    "            app = nb_app()\n",
    "            app.user_middleware.clear()\n",
    "        self.app = app\n",
    "        cli:ClientP = Client(self.app, 'http://nb)')  # type: ignore\n",
    "        self.cli = cli\n",
    "        self._cli = AsyncClient(transport=ASGITransport(self.app), base_url='http://nb')#, headers={'hx-request': '1'})\n",
    "        return self\n",
    "    \n",
    "    def __call__(self, rt:Bridgeable='', method='GET', req=None, **kwargs):\n",
    "        \"Display FastHTML components, routes or requests in notebook cells.\"\n",
    "        if isinstance(rt, FT) or hasattr(rt, '__ft__'): cts = HTML(to_xml(rt))  # type: ignore\n",
    "        # elif hasattr(rt, '__html__'): cts = rt.__html__()  # type: ignore\n",
    "        elif hasattr(rt, '__html__'): cts = HTML(rt.__html__())  # type: ignore\n",
    "        else:\n",
    "            if isinstance(rt, Mapping):\n",
    "                http_request = {**(req or {}), **rt}\n",
    "                if 'method' not in http_request: http_request['method'] = method\n",
    "            else: http_request = {'headers': {'hx-request': '1'}, 'method': method, 'url': rt}\n",
    "            cts = HTML(request2response(self._cli, http_request).text)\n",
    "        if not cts:\n",
    "            try: cts = HTML(to_xml(rt))\n",
    "            except: pass\n",
    "        if cts:\n",
    "            # display_id, update = kwargs.pop('display_id', None), kwargs.pop('update', False)\n",
    "            display_id = kwargs.pop('display_id', None)\n",
    "            # dhdl = display_id if isinstance(display_id, DisplayId) else DisplayId(display_id=display_id)\n",
    "            dhdl = display_id if isinstance(display_id, DisplayHandle) else DisplayHandle(display_id=display_id)\n",
    "            # if display_id and update: dhdl.update(cts)\n",
    "            if display_id: dhdl.update(cts)\n",
    "            # else: dhdl.display(HTML(cts))\n",
    "            # return None if dhdl is display_id else dhdl\n",
    "            else: display(cts, display_id=dhdl.display_id)\n",
    "            return None if dhdl is display_id else dhdl\n",
    "\n",
    "    # def __call__(self, rt: Bridgeable='', method='GET', req=None, **kwargs):\n",
    "    #     \"Display FastHTML components, routes or requests in notebook cells.\"\n",
    "    #     if isinstance(rt, FT) or hasattr(rt, '__ft__'): o = HTML(to_xml(rt))\n",
    "    #     elif hasattr(rt, '__html__'): o = HTML(getattr(rt, '__html__')())\n",
    "    #     else:\n",
    "    #         if isinstance(rt, Mapping):\n",
    "    #             http_request = {**(req or {}), **rt}\n",
    "    #             if 'method' not in http_request: http_request['method'] = method\n",
    "    #         else: http_request = {'headers': {'hx-request': '1'}, 'method': method, 'url': rt}\n",
    "    #         o = HTML(request2response(self._cli, http_request).text)\n",
    "    #     if not o:\n",
    "    #         try: o = HTML(to_xml(rt))\n",
    "    #         except: pass\n",
    "    #     if o:\n",
    "    #         display_id = kwargs.pop('display_id', None)\n",
    "    #         dh = display_id if isinstance(display_id, DisplayHandle) else DisplayHandle(display_id=display_id)\n",
    "    #         if display_id: dh.update(o)\n",
    "    #         else: display(o, display_id=dh.display_id)\n",
    "\n",
    "    def _response(self, req:dict[str, Any]): return request2response(self._cli, req)\n",
    "    \n",
    "    def mount(self, prov:APIRouter|RouteProviderP, \n",
    "            path:str|None=None, name:str|None=None, index:str|None=None, \n",
    "            show:bool=True):\n",
    "        ar = mount(self.app, prov, path, name)\n",
    "        if hasattr(prov, '_mounted'): setattr(prov, '_mounted', True)\n",
    "        if hasattr(prov, 'bridget'): setattr(prov, 'bridget', self)\n",
    "        if show: self(index or f\"{ar.to()}/\")  # type: ignore\n",
    "        return ar"
   ]
  },
  {
   "cell_type": "markdown",
   "metadata": {},
   "source": [
    "`BridgeClient` is a mixin class that provides:\n",
    "\n",
    "1. **Client functionality**:\n",
    "2. **Display functionality**: Renders FastHTML objects and route responses in notebook cells\n",
    "3. **Component mounting**: Helper for mounting route providers\n",
    "\n",
    "It serves as a mixin class for `Bridget`, which provides the full HTMX integration.\n",
    "\n",
    "The class handles different types of \"bridgeable\" content:\n",
    "- FastHTML objects (FT)\n",
    "- Objects with `__ft__` or `__html__` methods\n",
    "- Route paths\n",
    "- Request mappings"
   ]
  },
  {
   "cell_type": "code",
   "execution_count": 21,
   "metadata": {
    "brd": {
     "id": "4c67bafc-316e-4c5d-be7d-cbf5a17359b0"
    }
   },
   "outputs": [
    {
     "data": {
      "text/html": [
       "404 Not Found\n",
       "<brd-mark id=\"d3f41b5421270f3433e00e0024dba1a3\"></brd-mark>"
      ],
      "text/plain": [
       "<IPython.core.display.HTML object>"
      ]
     },
     "metadata": {},
     "output_type": "display_data"
    }
   ],
   "source": [
    "brt_cli = BridgetClient().setup()\n",
    "app, rt = brt_cli.app, brt_cli.app.route\n",
    "\n",
    "brt_cli();"
   ]
  },
  {
   "cell_type": "code",
   "execution_count": 22,
   "metadata": {
    "brd": {
     "id": "223d6512-98a7-4c72-8768-fb1b104eac87"
    }
   },
   "outputs": [
    {
     "data": {
      "text/html": [
       " <style>details ul { list-style-type:none; list-style-position: outside; padding-inline-start: 22px; margin: 0; } details .string { color: #24837b; } details .string::before { content: \"'\"; } details .string::after { content: \"'\"; } details .number { color: #ad8301; } details .true { color: blue; } details .false { color: red; } details .null { color: gray; } span.n { color: darkgrey; } </style>\n",
       "<details open><summary>Bridget Config\n",
       "</summary>   <ul>\n",
       "     <li>\n",
       "<span><span class=\"n\">auto_show</span>: <span class=\"v true\">True</span></span>     </li>\n",
       "     <li>\n",
       "<span><span class=\"n\">auto_mount</span>: <span class=\"v false\">False</span></span>     </li>\n",
       "     <li>\n",
       "<span><span class=\"n\">auto_id</span>: <span class=\"v true\">True</span></span>     </li>\n",
       "     <li>\n",
       "<span><span class=\"n\">bundle_cfg</span>: <span class=\"v \">{&#x27;out_dir&#x27;: [Path(&#x27;/Users/vic/dev/repo/project/bridget/bridget/js&#x27;)], &#x27;rewrite_imports&#x27;: True, &#x27;import_name&#x27;: &#x27;brdimport&#x27;}</span></span>     </li>\n",
       "     <li>\n",
       "<span><span class=\"n\">bootstrap</span>: <span class=\"v false\">False</span></span>     </li>\n",
       "     <li>\n",
       "<span><span class=\"n\">current_did</span>: <span class=\"v null\">None</span></span>     </li>\n",
       "   </ul>\n",
       "</details>\n",
       "<brd-mark id=\"fb250920a6801c1d0c100e23df549093\"></brd-mark>"
      ],
      "text/plain": [
       "<IPython.core.display.HTML object>"
      ]
     },
     "metadata": {},
     "output_type": "display_data"
    }
   ],
   "source": [
    "@app.get(\"/\")  # type: ignore\n",
    "def home():\n",
    "    # return \"<strong>Config</strong>: \" + str(bridge_cfg.as_dict())\n",
    "    # return Span(Strong('Config'), ': ' + str(bridge_cfg.as_dict()))\n",
    "    return DetailsJSON(bridge_cfg.as_dict(), summary='Bridget Config').__ft__()\n",
    "\n",
    "brt_cli();"
   ]
  },
  {
   "cell_type": "code",
   "execution_count": 23,
   "metadata": {
    "brd": {
     "id": "b6a7334a-a059-4c1f-be93-068611b88841"
    },
    "notebookRunGroups": {
     "groupValue": "1"
    }
   },
   "outputs": [
    {
     "data": {
      "text/html": [
       "<pre style=\"white-space:pre;overflow-x:auto;line-height:normal;font-family:Menlo,'DejaVu Sans Mono',consolas,'Courier New',monospace\"><span style=\"font-weight: bold\">{</span>\n",
       "  <span style=\"color: #000080; text-decoration-color: #000080; font-weight: bold\">\"headers\"</span>: <span style=\"font-weight: bold\">{</span>\n",
       "    <span style=\"color: #000080; text-decoration-color: #000080; font-weight: bold\">\"vary\"</span>: <span style=\"color: #008000; text-decoration-color: #008000\">\"HX-Request, HX-History-Restore-Request\"</span>,\n",
       "    <span style=\"color: #000080; text-decoration-color: #000080; font-weight: bold\">\"content-length\"</span>: <span style=\"color: #008000; text-decoration-color: #008000\">\"8\"</span>,\n",
       "    <span style=\"color: #000080; text-decoration-color: #000080; font-weight: bold\">\"content-type\"</span>: <span style=\"color: #008000; text-decoration-color: #008000\">\"text/html; charset=utf-8\"</span>,\n",
       "    <span style=\"color: #000080; text-decoration-color: #000080; font-weight: bold\">\"last-modified\"</span>: <span style=\"color: #008000; text-decoration-color: #008000\">\"Mon, 08 Sep 2025 11:32:40 GMT\"</span>,\n",
       "    <span style=\"color: #000080; text-decoration-color: #000080; font-weight: bold\">\"cache-control\"</span>: <span style=\"color: #008000; text-decoration-color: #008000\">\"no-store, no-cache, must-revalidate\"</span>\n",
       "  <span style=\"font-weight: bold\">}</span>,\n",
       "  <span style=\"color: #000080; text-decoration-color: #000080; font-weight: bold\">\"status\"</span>: <span style=\"color: #008080; text-decoration-color: #008080; font-weight: bold\">200</span>,\n",
       "  <span style=\"color: #000080; text-decoration-color: #000080; font-weight: bold\">\"statusText\"</span>: <span style=\"color: #008000; text-decoration-color: #008000\">\"OK\"</span>,\n",
       "  <span style=\"color: #000080; text-decoration-color: #000080; font-weight: bold\">\"data\"</span>: <span style=\"color: #008000; text-decoration-color: #008000\">\"Hi there\"</span>,\n",
       "  <span style=\"color: #000080; text-decoration-color: #000080; font-weight: bold\">\"xml\"</span>: <span style=\"color: #800080; text-decoration-color: #800080; font-style: italic\">null</span>,\n",
       "  <span style=\"color: #000080; text-decoration-color: #000080; font-weight: bold\">\"finalUrl\"</span>: <span style=\"color: #008000; text-decoration-color: #008000\">\"http://nb/hi\"</span>\n",
       "<span style=\"font-weight: bold\">}</span>\n",
       "</pre>\n",
       "\n",
       "<brd-mark id=\"b27d44cdb-332c011d-224bec3e-1562cf79\"></brd-mark>"
      ],
      "text/plain": [
       "\u001b[1m{\u001b[0m\n",
       "  \u001b[1;34m\"headers\"\u001b[0m: \u001b[1m{\u001b[0m\n",
       "    \u001b[1;34m\"vary\"\u001b[0m: \u001b[32m\"HX-Request, HX-History-Restore-Request\"\u001b[0m,\n",
       "    \u001b[1;34m\"content-length\"\u001b[0m: \u001b[32m\"8\"\u001b[0m,\n",
       "    \u001b[1;34m\"content-type\"\u001b[0m: \u001b[32m\"text/html; charset=utf-8\"\u001b[0m,\n",
       "    \u001b[1;34m\"last-modified\"\u001b[0m: \u001b[32m\"Mon, 08 Sep 2025 11:32:40 GMT\"\u001b[0m,\n",
       "    \u001b[1;34m\"cache-control\"\u001b[0m: \u001b[32m\"no-store, no-cache, must-revalidate\"\u001b[0m\n",
       "  \u001b[1m}\u001b[0m,\n",
       "  \u001b[1;34m\"status\"\u001b[0m: \u001b[1;36m200\u001b[0m,\n",
       "  \u001b[1;34m\"statusText\"\u001b[0m: \u001b[32m\"OK\"\u001b[0m,\n",
       "  \u001b[1;34m\"data\"\u001b[0m: \u001b[32m\"Hi there\"\u001b[0m,\n",
       "  \u001b[1;34m\"xml\"\u001b[0m: \u001b[3;35mnull\u001b[0m,\n",
       "  \u001b[1;34m\"finalUrl\"\u001b[0m: \u001b[32m\"http://nb/hi\"\u001b[0m\n",
       "\u001b[1m}\u001b[0m\n"
      ]
     },
     "metadata": {},
     "output_type": "display_data"
    },
    {
     "data": {
      "text/html": [
       "Hi there\n",
       "<brd-mark id=\"b6894dfd9-9d4c943a-d652411e-10be4e60\"></brd-mark>"
      ],
      "text/plain": [
       "<IPython.core.display.HTML object>"
      ]
     },
     "metadata": {},
     "output_type": "display_data"
    }
   ],
   "source": [
    "@rt(\"/hi\")\n",
    "def get():\n",
    "    return 'Hi there'\n",
    "\n",
    "http_request = {\n",
    "    'upload': {},\n",
    "    'headers': {\n",
    "        'HX-Request': 'true',\n",
    "        'HX-Current-URL': 'vscode-webview://1ql27b...er'\n",
    "    },\n",
    "    'headerNames': {'hx-request': 'HX-Request', 'hx-current-url': 'HX-Current-URL'},\n",
    "    'status': 0,\n",
    "    'method': 'GET',\n",
    "    'url': '/hi',\n",
    "    'async': True,\n",
    "    'timeout': 0,\n",
    "    'withCredentials': False,\n",
    "    'body': None\n",
    "}\n",
    "\n",
    "response = brt_cli._response(http_request)\n",
    "test_eq(response.status_code, 200)\n",
    "test_eq(response.text, 'Hi there')\n",
    "\n",
    "console.print_json(data=(json_resp := httpx_response_to_json(response)))\n",
    "test_eq(json_resp['status'], 200)\n",
    "test_eq(json_resp['data'], 'Hi there')\n",
    "test_eq(json_resp['headers']['content-length'], '8')\n",
    "\n",
    "response"
   ]
  },
  {
   "cell_type": "code",
   "execution_count": 24,
   "metadata": {
    "brd": {
     "id": "690e527d-3356-4f58-b8ee-45716f134503"
    }
   },
   "outputs": [
    {
     "data": {
      "text/html": [
       "Hi there\n",
       "<brd-mark id=\"2c695c513b9b0dfc783e23268ee6ee5e\"></brd-mark>"
      ],
      "text/plain": [
       "<IPython.core.display.HTML object>"
      ]
     },
     "metadata": {},
     "output_type": "display_data"
    }
   ],
   "source": [
    "brt_cli(http_request);"
   ]
  },
  {
   "cell_type": "code",
   "execution_count": 25,
   "metadata": {
    "brd": {
     "id": "20d9055f-2acf-44cb-a125-9feef96f7f35"
    }
   },
   "outputs": [],
   "source": [
    "class Buttons:\n",
    "    def __ft__(self):\n",
    "        return (\n",
    "            Button(garlic=True, hx_get='/test', hx_select='button[vampire]', hx_swap='afterend')(_n,\n",
    "                Style(self._css_.format('hsl(264 80% 47%)', 'hsl(264 80% 60%)')),\n",
    "                'garlic ', Span('🧄', cls='icon'),\n",
    "            _n), _n,\n",
    "            Button(vampire=True, hx_get='/test', hx_select='button[garlic]', hx_swap='afterend')(_n,\n",
    "                Style(self._css_.format('hsl(150 80% 47%)', 'hsl(150 80% 60%)')), \n",
    "                'vampire ', Span('🧛', cls='icon'),\n",
    "            _n), _n,\n",
    "        )\n",
    "    _css_ = '''\n",
    "    me {{ margin: 4px; padding: 10px 30px; min-width: 80px; background: {0}; border-bottom: 0.5rem solid hsl(264 80% 20%); }}\n",
    "    me {{ color: antiquewhite; font-size: 14pt; font-variant: all-small-caps; font-weight: bold; }}\n",
    "    me:hover {{ background: {1}; }}\n",
    "    me span.icon {{ font-size:16pt; }}\n",
    "'''"
   ]
  },
  {
   "cell_type": "code",
   "execution_count": 26,
   "metadata": {
    "brd": {
     "id": "e7d5cd81-06b8-4465-a47e-adb8a3b5bef1"
    }
   },
   "outputs": [
    {
     "data": {
      "text/markdown": [
       "```HTML\n",
       "<button garlic hx-get=\"/test\" hx-select=\"button[vampire]\" hx-swap=\"afterend\">\n",
       "   <style>\n",
       "    me { margin: 4px; padding: 10px 30px; min-width: 80px; background: hsl(264 80% 47%); border-bottom: 0.5rem solid hsl(264 80% 20%); }\n",
       "    me { color: antiquewhite; font-size: 14pt; font-variant: all-small-caps; font-weight: bold; }\n",
       "    me:hover { background: hsl(264 80% 60%); }\n",
       "    me span.icon { font-size:16pt; }\n",
       "</style>\n",
       "garlic <span class=\"icon\">🧄</span>\n",
       "</button>\n",
       "<button vampire hx-get=\"/test\" hx-select=\"button[garlic]\" hx-swap=\"afterend\">\n",
       "   <style>\n",
       "    me { margin: 4px; padding: 10px 30px; min-width: 80px; background: hsl(150 80% 47%); border-bottom: 0.5rem solid hsl(264 80% 20%); }\n",
       "    me { color: antiquewhite; font-size: 14pt; font-variant: all-small-caps; font-weight: bold; }\n",
       "    me:hover { background: hsl(150 80% 60%); }\n",
       "    me span.icon { font-size:16pt; }\n",
       "</style>\n",
       "vampire <span class=\"icon\">🧛</span>\n",
       "</button>\n",
       "\n",
       "```"
      ],
      "text/plain": [
       "<IPython.core.display.Markdown object>"
      ]
     },
     "metadata": {},
     "output_type": "display_data"
    },
    {
     "data": {
      "text/html": [
       "<button garlic hx-get=\"/test\" hx-select=\"button[vampire]\" hx-swap=\"afterend\">\n",
       "   <style>\n",
       "    me { margin: 4px; padding: 10px 30px; min-width: 80px; background: hsl(264 80% 47%); border-bottom: 0.5rem solid hsl(264 80% 20%); }\n",
       "    me { color: antiquewhite; font-size: 14pt; font-variant: all-small-caps; font-weight: bold; }\n",
       "    me:hover { background: hsl(264 80% 60%); }\n",
       "    me span.icon { font-size:16pt; }\n",
       "</style>\n",
       "garlic <span class=\"icon\">🧄</span>\n",
       "</button>\n",
       "<button vampire hx-get=\"/test\" hx-select=\"button[garlic]\" hx-swap=\"afterend\">\n",
       "   <style>\n",
       "    me { margin: 4px; padding: 10px 30px; min-width: 80px; background: hsl(150 80% 47%); border-bottom: 0.5rem solid hsl(264 80% 20%); }\n",
       "    me { color: antiquewhite; font-size: 14pt; font-variant: all-small-caps; font-weight: bold; }\n",
       "    me:hover { background: hsl(150 80% 60%); }\n",
       "    me span.icon { font-size:16pt; }\n",
       "</style>\n",
       "vampire <span class=\"icon\">🧛</span>\n",
       "</button>\n",
       "\n",
       "<brd-mark id=\"b904ee7a3-3b1ceb46-2867c0de-e6574610\"></brd-mark>"
      ],
      "text/plain": [
       "<IPython.core.display.HTML object>"
      ]
     },
     "metadata": {},
     "output_type": "display_data"
    }
   ],
   "source": [
    "@rt(\"/test\")\n",
    "def get():\n",
    "    return Buttons()\n",
    "\n",
    "http_request = {\n",
    "    'headers': {'hx-request': '1'},\n",
    "    'method': 'GET',\n",
    "    'url': 'http://nb/test',\n",
    "}\n",
    "\n",
    "r = brt_cli._response(http_request)\n",
    "display(Markdown(f\"```HTML\\n{r.text}\\n```\"))\n",
    "r"
   ]
  },
  {
   "cell_type": "code",
   "execution_count": 27,
   "metadata": {
    "brd": {
     "id": "3e7712a0-11c8-4de6-ac9b-940c8c8708cd"
    }
   },
   "outputs": [
    {
     "data": {
      "text/html": [
       "<button garlic hx-get=\"/test\" hx-select=\"button[vampire]\" hx-swap=\"afterend\">\n",
       "   <style>\n",
       "    me { margin: 4px; padding: 10px 30px; min-width: 80px; background: hsl(264 80% 47%); border-bottom: 0.5rem solid hsl(264 80% 20%); }\n",
       "    me { color: antiquewhite; font-size: 14pt; font-variant: all-small-caps; font-weight: bold; }\n",
       "    me:hover { background: hsl(264 80% 60%); }\n",
       "    me span.icon { font-size:16pt; }\n",
       "</style>\n",
       "garlic <span class=\"icon\">🧄</span>\n",
       "</button>\n",
       "<button vampire hx-get=\"/test\" hx-select=\"button[garlic]\" hx-swap=\"afterend\">\n",
       "   <style>\n",
       "    me { margin: 4px; padding: 10px 30px; min-width: 80px; background: hsl(150 80% 47%); border-bottom: 0.5rem solid hsl(264 80% 20%); }\n",
       "    me { color: antiquewhite; font-size: 14pt; font-variant: all-small-caps; font-weight: bold; }\n",
       "    me:hover { background: hsl(150 80% 60%); }\n",
       "    me span.icon { font-size:16pt; }\n",
       "</style>\n",
       "vampire <span class=\"icon\">🧛</span>\n",
       "</button>\n",
       "\n",
       "<brd-mark id=\"28f726f0db1ac286295ffa7d691c34e5\"></brd-mark>"
      ],
      "text/plain": [
       "<IPython.core.display.HTML object>"
      ]
     },
     "metadata": {},
     "output_type": "display_data"
    }
   ],
   "source": [
    "brt_cli('/test');"
   ]
  },
  {
   "cell_type": "code",
   "execution_count": 28,
   "metadata": {
    "brd": {
     "id": "7acd5f63-51bf-4ae8-a6e2-fd4fb9b9fe7e"
    }
   },
   "outputs": [
    {
     "data": {
      "text/html": [
       "<button garlic hx-get=\"/test\" hx-select=\"button[vampire]\" hx-swap=\"afterend\">\n",
       "  <style>\n",
       "    me { margin: 4px; padding: 10px 30px; min-width: 80px; background: hsl(264 80% 47%); border-bottom: 0.5rem solid hsl(264 80% 20%); }\n",
       "    me { color: antiquewhite; font-size: 14pt; font-variant: all-small-caps; font-weight: bold; }\n",
       "    me:hover { background: hsl(264 80% 60%); }\n",
       "    me span.icon { font-size:16pt; }\n",
       "</style>\n",
       "garlic <span class=\"icon\">🧄</span>\n",
       "</button>\n",
       "<button vampire hx-get=\"/test\" hx-select=\"button[garlic]\" hx-swap=\"afterend\">\n",
       "  <style>\n",
       "    me { margin: 4px; padding: 10px 30px; min-width: 80px; background: hsl(150 80% 47%); border-bottom: 0.5rem solid hsl(264 80% 20%); }\n",
       "    me { color: antiquewhite; font-size: 14pt; font-variant: all-small-caps; font-weight: bold; }\n",
       "    me:hover { background: hsl(150 80% 60%); }\n",
       "    me span.icon { font-size:16pt; }\n",
       "</style>\n",
       "vampire <span class=\"icon\">🧛</span>\n",
       "</button>\n",
       "\n",
       "<brd-mark id=\"d5b15ad75ee224d67dd8f9adf901fd2e\"></brd-mark>"
      ],
      "text/plain": [
       "<IPython.core.display.HTML object>"
      ]
     },
     "metadata": {},
     "output_type": "display_data"
    }
   ],
   "source": [
    "brt_cli(Buttons());"
   ]
  },
  {
   "cell_type": "code",
   "execution_count": 29,
   "metadata": {
    "brd": {
     "id": "df28361f-87d9-4c70-8b56-d493ce093e62"
    }
   },
   "outputs": [
    {
     "data": {
      "text/markdown": [
       "```HTML\n",
       " <!doctype html>\n",
       " <html>\n",
       "   <head>\n",
       "     <title>Hello World</title>\n",
       "     <link rel=\"canonical\" href=\"http://nb/page\">\n",
       "<script>\n",
       "    function sendmsg() {\n",
       "        window.parent.postMessage({height: document.documentElement.offsetHeight}, '*');\n",
       "    }\n",
       "    window.onload = function() {\n",
       "        sendmsg();\n",
       "        document.body.addEventListener('htmx:afterSettle',    sendmsg);\n",
       "        document.body.addEventListener('htmx:wsAfterMessage', sendmsg);\n",
       "    };</script>   </head>\n",
       "   <body>\n",
       "<main class=\"container\">       <h1>Hello, World</h1>\n",
       "</main>   </body>\n",
       " </html>\n",
       "\n",
       "```"
      ],
      "text/plain": [
       "<IPython.core.display.Markdown object>"
      ]
     },
     "metadata": {},
     "output_type": "display_data"
    },
    {
     "data": {
      "text/html": [
       " <title>Hello World</title>\n",
       "<main class=\"container\">   <h1>Hello, World</h1>\n",
       "</main>\n",
       "<brd-mark id=\"7baeb479c48cc2fb90ec8b4c843d8430\"></brd-mark>"
      ],
      "text/plain": [
       "<IPython.core.display.HTML object>"
      ]
     },
     "metadata": {},
     "output_type": "display_data"
    }
   ],
   "source": [
    "# css = Style(':root {--pico-font-size:90%,--pico-font-family: Pacifico, cursive;}')\n",
    "\n",
    "@app.route(\"/page\")\n",
    "def get():\n",
    "    return (Title(\"Hello World\"), \n",
    "            Main(H1('Hello, World'), cls=\"container\"))\n",
    "\n",
    "r = brt_cli._response(req := {\n",
    "    # 'headers': {'hx-request': '1'},\n",
    "    'method': 'GET',\n",
    "    'url': 'http://nb/page',\n",
    "})\n",
    "display(Markdown(f\"```HTML\\n{r.text}\\n```\"))\n",
    "brt_cli('page');"
   ]
  },
  {
   "cell_type": "code",
   "execution_count": 30,
   "metadata": {
    "brd": {
     "id": "ddf4e47c-a7d0-4182-a4b3-3559ffd3eb80"
    }
   },
   "outputs": [
    {
     "data": {
      "text/html": [
       "<details open class=\"pale\"><style>me details { border: 1px solid #aaa; padding: 0.5em 0.5em 0; } me summary { font-weight: bold; margin: -0.5em -0.5em 0; padding: 0.5em; } me pre { margin: 0; }</style><summary>What Lucy get?</summary><div class=\"contents\" style=\"display: flex; flex-direction: column;\"><pre>She</pre><pre>got</pre><pre>diamonds!</pre></div></details>\n",
       "<brd-mark id=\"b0231cd5a-ba96b27f-df0fc255-93aed2e0\"></brd-mark>"
      ],
      "text/markdown": [
       "```html\n",
       "<details open class=\"pale\">  <style>me details { border: 1px solid #aaa; padding: 0.5em 0.5em 0; } me summary { font-weight: bold; margin: -0.5em -0.5em 0; padding: 0.5em; } me pre { margin: 0; }</style>\n",
       "<summary>What Lucy get?</summary>  <div class=\"contents\" style=\"display: flex; flex-direction: column;\">\n",
       "<pre>She</pre><pre>got</pre><pre>diamonds!</pre>  </div>\n",
       "</details>\n",
       "```"
      ],
      "text/plain": [
       "details((style(('me details { border: 1px solid #aaa; padding: 0.5em 0.5em 0; } me summary { font-weight: bold; margin: -0.5em -0.5em 0; padding: 0.5em; } me pre { margin: 0; }',),{}), summary(('What Lucy get?',),{}), div((pre(('She',),{}), pre(('got',),{}), pre(('diamonds!',),{})),{'class': 'contents', 'style': 'display: flex; flex-direction: column;'})),{'open': True, 'class': 'pale'})"
      ]
     },
     "metadata": {},
     "output_type": "display_data"
    },
    {
     "data": {
      "text/html": [
       "<details open class=\"pale\">  <style>me details { border: 1px solid #aaa; padding: 0.5em 0.5em 0; } me summary { font-weight: bold; margin: -0.5em -0.5em 0; padding: 0.5em; } me pre { margin: 0; }</style>\n",
       "<summary>What Lucy get?</summary>  <div class=\"contents\" style=\"display: flex; flex-direction: column;\">\n",
       "<pre>She</pre><pre>got</pre><pre>diamonds!</pre>  </div>\n",
       "</details>\n",
       "<brd-mark id=\"a9e5f8a12fddacc9ae085d2eae9582f9\"></brd-mark>"
      ],
      "text/plain": [
       "<IPython.core.display.HTML object>"
      ]
     },
     "metadata": {},
     "output_type": "display_data"
    }
   ],
   "source": [
    "dtl = Details(cls='pale', open=True)(\n",
    "    Style('me details { border: 1px solid #aaa; padding: 0.5em 0.5em 0; } me summary { font-weight: bold; margin: -0.5em -0.5em 0; padding: 0.5em; } me pre { margin: 0; }'),\n",
    "    Summary('What Lucy get?'),\n",
    "    Div(cls='contents', style='display: flex; flex-direction: column;')(\n",
    "        Pre('She'),\n",
    "        Pre('got'),\n",
    "        Pre('diamonds!')\n",
    "    )\n",
    ")\n",
    "display(dtl)\n",
    "brt_cli(dtl);"
   ]
  },
  {
   "cell_type": "code",
   "execution_count": 31,
   "metadata": {
    "brd": {
     "id": "5985bb5f-c86f-4ccd-8ae6-f16529833806"
    }
   },
   "outputs": [
    {
     "data": {
      "text/html": [
       "<details open class=\"pale\"><summary>What Lucy get?</summary><div class=\"contents\" style=\"display: flex; flex-direction: column;\"><div><pre>She</pre></div><div><pre>got</pre></div><div><pre>diamonds</pre></div></div></details>\n",
       "<brd-mark id=\"bb51e7c98-3488e323-c40a46f6-46f3c0b3\"></brd-mark>"
      ],
      "text/markdown": [
       "```html\n",
       "<details open class=\"pale\"><summary>What Lucy get?</summary>  <div class=\"contents\" style=\"display: flex; flex-direction: column;\">\n",
       "    <div>\n",
       "<pre>She</pre>    </div>\n",
       "    <div>\n",
       "<pre>got</pre>    </div>\n",
       "    <div>\n",
       "<pre>diamonds</pre>    </div>\n",
       "  </div>\n",
       "</details>\n",
       "```"
      ],
      "text/plain": [
       "details((summary(('What Lucy get?',),{}), div((div((pre(('She',),{}),),{'style': ''}), div((pre(('got',),{}),),{'style': ''}), div((pre(('diamonds',),{}),),{'style': ''})),{'class': 'contents', 'style': 'display: flex; flex-direction: column;'})),{'open': True, 'class': 'pale'})"
      ]
     },
     "metadata": {},
     "output_type": "display_data"
    },
    {
     "data": {
      "text/html": [
       "<details open class=\"pale\"><summary>What Lucy get?</summary>  <div class=\"contents\" style=\"display: flex; flex-direction: column;\">\n",
       "    <div>\n",
       "<pre>She</pre>    </div>\n",
       "    <div>\n",
       "<pre>got</pre>    </div>\n",
       "    <div>\n",
       "<pre>diamonds</pre>    </div>\n",
       "  </div>\n",
       "</details>\n",
       "<brd-mark id=\"12abc5a778b62813454786d8a8a2e1a1\"></brd-mark>"
      ],
      "text/plain": [
       "<IPython.core.display.HTML object>"
      ]
     },
     "metadata": {},
     "output_type": "display_data"
    }
   ],
   "source": [
    "def details_ft(\n",
    "        *contents, \n",
    "        summary:str|None=None, \n",
    "        closed:bool=False, \n",
    "        direction:str='column', \n",
    "        height:str|None=None,\n",
    "        contents_style:str='', item_style:str=''):\n",
    "    style = f\"display: flex; flex-direction: {direction};{height or ''}{contents_style or ''}\"\n",
    "    return Details(cls='pale', open=not closed)(\n",
    "        Summary(summary),\n",
    "        Div(cls='contents', style=style)(\n",
    "            *(Div(style=item_style)(_) for _ in contents)\n",
    "        )\n",
    "    )\n",
    "\n",
    "dtl = details_ft(\n",
    "        *(Pre(_) for _ in ('She', 'got', 'diamonds')), \n",
    "        summary='What Lucy get?')\n",
    "display(dtl)\n",
    "brt_cli(dtl);"
   ]
  },
  {
   "cell_type": "code",
   "execution_count": 32,
   "metadata": {
    "brd": {
     "id": "e2fc1f63-0df1-44ee-a6d4-ff033ebcc646"
    }
   },
   "outputs": [
    {
     "data": {
      "text/html": [
       "<div id='brd-logger_2-1757331137' class='brd-logger' style='width: 100%; max-height: 200px;'></div>\n",
       "<brd-mark id=\"bff51e3e1-633b4c3a-607dd43d-33301094\"></brd-mark>"
      ],
      "text/plain": [
       "<bridget.helpers.HTML object>"
      ]
     },
     "metadata": {},
     "output_type": "display_data"
    }
   ],
   "source": [
    "bridge.logger.show()"
   ]
  },
  {
   "cell_type": "code",
   "execution_count": 33,
   "metadata": {
    "brd": {
     "id": "68f9ab35-0fc4-4357-adbb-d1574d97834a"
    }
   },
   "outputs": [
    {
     "data": {
      "text/html": [
       "\n",
       "<div id=\"output-99\">Original</div>\n",
       "\n",
       "<brd-mark id=\"bbdfc6ceb-4a56b9c0-4f6e0de8-585d8132\"></brd-mark>"
      ],
      "text/plain": [
       "<IPython.core.display.HTML object>"
      ]
     },
     "metadata": {},
     "output_type": "display_data"
    }
   ],
   "source": [
    "%%HTML\n",
    "\n",
    "<div id=\"output-99\">Original</div>"
   ]
  },
  {
   "cell_type": "code",
   "execution_count": 34,
   "metadata": {
    "brd": {
     "id": "00d53e69-4080-4d7d-a24c-8d7867412548"
    }
   },
   "outputs": [],
   "source": [
    "bridge.commander.swap('#output-99', '<div>Swapped!</div>', swapStyle='innerHTML')"
   ]
  },
  {
   "cell_type": "markdown",
   "metadata": {},
   "source": [
    "We can also use HTMX API through Bridge (documented in [16_bridge_base.ipynb](16_bridge_base.ipynb)).  \n",
    "\n",
    "But we'll see a more convenient way with Bridget, without peppering the notebook of IPython Javascript display objects.\n"
   ]
  },
  {
   "cell_type": "code",
   "execution_count": 35,
   "metadata": {
    "brd": {
     "id": "85bbb632-38dd-4045-9c0c-d79683eff625"
    }
   },
   "outputs": [
    {
     "data": {
      "text/html": [
       "<div>Hey, Bar!</div>\n",
       "\n",
       "<brd-mark id=\"b0ff8c7b5-6ee8e439-e64158d8-cec31021\"></brd-mark>"
      ],
      "text/plain": [
       "<IPython.core.display.HTML object>"
      ]
     },
     "metadata": {
      "bridge": {
       "captured": true
      }
     },
     "output_type": "display_data"
    }
   ],
   "source": [
    "# fbridge(Div('Hey, Foo!'), display_id='ultra-cool-display-id')\n",
    "Div('Hey, Foo!')"
   ]
  },
  {
   "cell_type": "code",
   "execution_count": 36,
   "metadata": {
    "brd": {
     "id": "a83210a3-72eb-4fb6-9f20-ccfbc7d38959"
    }
   },
   "outputs": [],
   "source": [
    "# bridge(Div('Hey, Bar!'), display_id=did, update=True)\n",
    "dh = bridge.nbhooks.brdd.dh\n",
    "brt_cli(Div('Hey, Bar!'), display_id=dh)"
   ]
  },
  {
   "cell_type": "markdown",
   "metadata": {},
   "source": [
    "Use `display_id` and `update` kwargs to modify or update an existing output cell."
   ]
  },
  {
   "cell_type": "markdown",
   "metadata": {},
   "source": [
    "# Bridget plugin\n",
    "> A specialization of `Bridge` that connects HTMX with FastHTML in notebooks."
   ]
  },
  {
   "cell_type": "code",
   "execution_count": 37,
   "metadata": {
    "brd": {
     "id": "6b698218-c21d-443f-abb2-b514fb152685"
    }
   },
   "outputs": [],
   "source": [
    "#| exporti\n",
    "\n",
    "bridget_js = BUNDLE_PATH / 'js/bridget.js'\n",
    "bridget_esm = bundled(bridget_js)"
   ]
  },
  {
   "cell_type": "code",
   "execution_count": 38,
   "metadata": {
    "brd": {
     "id": "57d4159f-8dcd-459d-9a90-2f97e037c0e1"
    }
   },
   "outputs": [],
   "source": [
    "bridget_esm = bundled(bridget_js)(debugger=DEBUG(), ts=True)"
   ]
  },
  {
   "cell_type": "code",
   "execution_count": 39,
   "metadata": {
    "brd": {
     "id": "52b0ae63-5de8-490e-89cc-220efc9b16a4"
    }
   },
   "outputs": [],
   "source": [
    "#| export\n",
    "\n",
    "class Bridget(BridgePlugin, BridgetClient):\n",
    "    src = bundled('''\n",
    "import { setupBridget } from './bridget.js';\n",
    "\n",
    "export default async function initializeBridget(bridge) {\n",
    "    return setupBridget();\n",
    "}\n",
    "''')()\n",
    "    ctx_name = 'bridget'\n",
    "    \n",
    "    request: dict   # Incoming HTMX requests\n",
    "    response: dict  # Outgoing responses\n",
    "    \n",
    "    def __init__(self, app: FastHTML|None=None, *args, **kwargs):\n",
    "        self.setup(app)\n",
    "        super().__init__(*args, **kwargs)\n",
    "\n",
    "    def on_request(self, *args, request:dict[str, Any], **kwargs):\n",
    "        \"Handle incoming HTMX requests\"\n",
    "        self.request = request\n",
    "        response =  self._response(request)\n",
    "        resp = httpx_response_to_json(response)\n",
    "        resp['req_id'] = request['req_id']\n",
    "        self._show_req(request, resp)\n",
    "        self.response = resp\n",
    "        self.send({ 'ctx': self.ctx_name, 'cmd': 'response', 'response': resp })\n",
    "    \n",
    "    def _show_req(self, req:dict[str, Any], resp:dict[str, Any]):\n",
    "        # if bridge_cfg.debug_req: self._show_req(request, resp)\n",
    "        self.log(\n",
    "                # pretty_repr(req, text=False) + pretty_repr(resp, text=False)\n",
    "                # to_xml(Div(cls='bridget-debug')(\n",
    "                #     'Request: ', NotStr(pretty_repr(req, text=False)),\n",
    "                #     'Response: ', NotStr(pretty_repr(resp, text=False))\n",
    "                # ))\n",
    "                to_xml(DetailsJSON({\n",
    "                    'Request': req,\n",
    "                    'Response': resp\n",
    "                }))\n",
    "            )\n",
    "\n",
    "\n",
    "@FC.delegates(get_bridge, keep=True)  # type: ignore\n",
    "def get_bridget(app=None, **kwargs) -> Bridget:\n",
    "    bridge, plgns = get_bridge(**kwargs), []\n",
    "    if not bridge.plugins.get('commander'): plgns.append(HTMXCommanderPlugin())\n",
    "    if not bridge.plugins.get('bridget'): plgns.append(Bridget(app))\n",
    "    if plgns: bridge = get_bridge(plugins=plgns, wait=5)\n",
    "    return bridge.plugins['bridget']  # type: ignore"
   ]
  },
  {
   "cell_type": "markdown",
   "metadata": {},
   "source": [
    "Bridget is a specialized widget that:\n",
    "1. Inherits from `BridgeBase` for FastHTML/display functionality\n",
    "2. Uses [AnyWidget](https://anywidget.dev/) tooling-free, general widget solution, for browser-kernel communication\n",
    "3. Implements a singleton pattern to ensure one instance per notebook\n",
    "\n",
    "Attributes:\n",
    "- `_esm`: Path to bundled JavaScript module\n",
    "- `request`/`response`: Traitlets for HTMX communication\n",
    "- `htmx`/`htmx_sels`: Configuration for HTMX integration\n",
    "\n",
    "The core part is using the widget's bidirectional communication to replace HTMX's HTTP transport:\n",
    "1. Browser: HTMX makes requests thinking it's talking to a server\n",
    "2. Widget: Captures these requests via traitlets\n",
    "3. Kernel: Processes requests using FastHTML routing\n",
    "4. Widget: Returns responses that HTMX understands\n",
    "\n",
    "\n",
    "## Bridget JavaScript Implementation [bridget.js](bridget.js)\n",
    "\n",
    "Bridget's JavaScript code provides the browser-side implementation that:\n",
    "1. Intercepts HTMX AJAX requests (SSE, WS in the future)\n",
    "2. Routes them through the widget's communication channel\n",
    "3. Processes responses back to HTMX\n",
    "4. Manages HTMX initialization in notebook output cells\n",
    "\n",
    "### Some details\n",
    "\n",
    "#### Request Flow\n",
    "1. HTMX makes an AJAX request\n",
    "2. [xhook](https://github.com/jpillora/xhook/tree/main) intercepts it via `on_request`\n",
    "3. Request is serialized and sent to kernel via traitlets\n",
    "4. Kernel processes request and sends response\n",
    "5. Response is processed by `response_changed`\n",
    "6. HTMX receives response and updates DOM\n",
    "\n",
    "#### HTMX Integration\n",
    "1. `BridgetObserver` watches for new notebook output cells\n",
    "2. New cells are processed with `htmx.process()`\n",
    "3. HTMX attributes become active\n",
    "4. AJAX requests are intercepted and routed through widget\n",
    "\n",
    "\n",
    "Note that Bridget JS is backend agnostic. We're using FastHTML here because its the best for my quest of replacing ipywidgets as the main form of interactivity in a notebook, but it could be any other backend libarary.\n"
   ]
  },
  {
   "cell_type": "markdown",
   "metadata": {},
   "source": [
    "# get_app\n",
    "> Helper function to initialize the root-level app, bridget, and route."
   ]
  },
  {
   "cell_type": "code",
   "execution_count": 40,
   "metadata": {
    "brd": {
     "id": "57dd3235-5f4f-4b9b-a572-a03d5ba31764"
    }
   },
   "outputs": [],
   "source": [
    "#| export\n",
    "\n",
    "@FC.delegates(get_bridge, keep=True)  # type: ignore\n",
    "def get_app(hooks=False, nb=False, cfg:Mapping|None=None, **kwargs) -> tuple[FastHTML, Bridget, MethodType]:\n",
    "    if cfg: bridge_cfg.update(**cfg)\n",
    "    if nb: get_nb()\n",
    "    plugins = kwargs.pop('plugins', [])\n",
    "    if not nb and hooks: plugins.append(NBHooksPlugin())\n",
    "    bridget = get_bridget(plugins=plugins, **kwargs)\n",
    "    return bridget.app, bridget, bridget.app.route  # type: ignore"
   ]
  },
  {
   "cell_type": "code",
   "execution_count": 41,
   "metadata": {
    "brd": {
     "id": "1a2c9e5a-ac72-49cd-ad3f-48f21d74b800"
    }
   },
   "outputs": [
    {
     "data": {
      "text/html": [
       "<div id='brd-logger_3-1757331137' class='brd-logger' style='width: 100%; max-height: 200px;'></div>\n",
       "<brd-mark id=\"bffc8f66a-77060049-01071c3d-7390c4dc\"></brd-mark>"
      ],
      "text/plain": [
       "<bridget.helpers.HTML object>"
      ]
     },
     "metadata": {},
     "output_type": "display_data"
    }
   ],
   "source": [
    "app, brt, rt = get_app(show_logger=True)\n",
    "test_is(brt.app, app)"
   ]
  },
  {
   "cell_type": "markdown",
   "metadata": {},
   "source": [
    "Let's see Bridget in action."
   ]
  },
  {
   "cell_type": "code",
   "execution_count": 42,
   "metadata": {
    "brd": {
     "id": "5517b3d6-4e67-43a6-9f1f-e63cb1d6e3a4"
    }
   },
   "outputs": [
    {
     "data": {
      "text/html": [
       "<div><button hx-get=\"/inc\" hx-swap=\"textContent\" hx-target=\"find span\">Count: <span>0</span></button></div>\n",
       "<brd-mark id=\"bd0c7d1ba-fcf68262-bccf5aad-3ff7005a\"></brd-mark>"
      ],
      "text/markdown": [
       "```html\n",
       "<div>\n",
       "<button hx-get=\"/inc\" hx-swap=\"textContent\" hx-target=\"find span\">Count: <span>0</span></button></div>\n",
       "\n",
       "```"
      ],
      "text/plain": [
       "div((button(('Count: ', span(('0',),{})),{'hx-get': '/inc', 'hx-swap': 'textContent', 'hx-target': 'find span'}),),{})"
      ]
     },
     "metadata": {
      "bridge": {
       "captured": true
      }
     },
     "output_type": "display_data"
    }
   ],
   "source": [
    "def counter():\n",
    "    n = 0\n",
    "    @rt('/inc')\n",
    "    def increment():\n",
    "        nonlocal n\n",
    "        n += 1\n",
    "        return f\"{n}\"\n",
    "    return Div()(\n",
    "        Button(hx_get='/inc', hx_target='find span', hx_swap='textContent')(\n",
    "            'Count: ', Span(f\"{n}\")))\n",
    "\n",
    "counter()"
   ]
  },
  {
   "cell_type": "code",
   "execution_count": 44,
   "metadata": {
    "brd": {
     "id": "8adb0c59-6ff7-45d4-9e47-f21e43a81ae6"
    }
   },
   "outputs": [],
   "source": [
    "# req = { \n",
    "#     \"headers\": { \"HX-Request\": \"true\", \"HX-Current-URL\": \"vscode-webview://1ql27b0grt14rkuj26idbt9ktekivp44iu2s8pgfndvblm2j3iep/index.html?id=3d1cf833-fbc2-442d-885b-05f7dee12052&origin=1e95bb6a-280d-4f6e-8090-7f55f54cbfbd&swVersion=4&extensionId=&platform=electron&vscode-resource-base-authority=vscode-resource.vscode-cdn.net&parentOrigin=vscode-file%3A%2F%2Fvscode-app&purpose=notebookRenderer\" }, \n",
    "#     \"headerNames\": { \"hx-request\": \"HX-Request\", \"hx-current-url\": \"HX-Current-URL\" }, \n",
    "#     \"status\": 0, \"method\": \"GET\", \"url\": \"/inc\", \"async\": True, \"timeout\": 0, \"withCredentials\": False, \n",
    "#     \"body\": None, \n",
    "#     \"req_id\": \"652540cd-1ebe-4983-8701-88074dfe6328\" }"
   ]
  },
  {
   "cell_type": "code",
   "execution_count": 44,
   "metadata": {
    "brd": {
     "id": "59ec26d4-da52-4bde-980f-b6b82f2f6858"
    }
   },
   "outputs": [],
   "source": [
    "# bridge._message_hdlr(None, {'ctx': 'bridget', 'kind': 'request', 'request': req}, None)"
   ]
  },
  {
   "cell_type": "code",
   "execution_count": 43,
   "metadata": {
    "brd": {
     "id": "baed7c69-c987-4cc7-a822-9f1473315eb9"
    }
   },
   "outputs": [
    {
     "data": {
      "text/html": [
       "<button value=\"0\" name=\"n\" hx-post=\"/inc\" hx-swap=\"outerHTML\" style=\"background-color:hsl(230 50% 90%); font-weight: bold\">Count: 0</button>\n",
       "<brd-mark id=\"b836092d0-f25916a1-227f710c-0324ebc0\"></brd-mark>"
      ],
      "text/markdown": [
       "```html\n",
       "<button value=\"0\" name=\"n\" hx-post=\"/inc\" hx-swap=\"outerHTML\" style=\"background-color:hsl(230 50% 90%); font-weight: bold\">Count: 0</button>\n",
       "```"
      ],
      "text/plain": [
       "button(('Count: 0',),{'value': '0', 'name': 'n', 'hx-post': '/inc', 'hx-swap': 'outerHTML', 'style': 'background-color:hsl(230 50% 90%); font-weight: bold'})"
      ]
     },
     "metadata": {
      "bridge": {
       "captured": true
      }
     },
     "output_type": "display_data"
    }
   ],
   "source": [
    "def random_hsl(saturation=50, lightness=90):\n",
    "    hue = random.randint(0, 360)\n",
    "    return f\"hsl({hue} {saturation}% {lightness}%)\"\n",
    "\n",
    "def counter(n=0):\n",
    "    @rt('/inc')\n",
    "    def increment(n:int):\n",
    "        return Button(f\"Count: {n+1}\", value=f\"{n+1}\", name='n', \n",
    "            hx_post='/inc', hx_swap='outerHTML', \n",
    "            style=f\"background-color:{random_hsl()}; font-weight: bold\")\n",
    "    return increment(n-1)\n",
    "\n",
    "counter()"
   ]
  },
  {
   "cell_type": "code",
   "execution_count": 44,
   "metadata": {
    "brd": {
     "id": "30934d36-ec60-4f96-a5c2-c848769fd018"
    }
   },
   "outputs": [
    {
     "data": {
      "text/html": [
       "<div><h2>HTMX Test</h2><div>Swapped DOM elements are styled instantly when they arrive.</div><button garlic hx-get=\"/test\" hx-select=\"button[vampire]\" hx-swap=\"afterend\">\n",
       "<style>\n",
       "    me { margin: 4px; padding: 10px 30px; min-width: 80px; background: hsl(264 80% 47%); border-bottom: 0.5rem solid hsl(264 80% 20%); }\n",
       "    me { color: antiquewhite; font-size: 14pt; font-variant: all-small-caps; font-weight: bold; }\n",
       "    me:hover { background: hsl(264 80% 60%); }\n",
       "    me span.icon { font-size:16pt; }\n",
       "</style>garlic <span class=\"icon\">🧄</span>\n",
       "</button>\n",
       "<button vampire hx-get=\"/test\" hx-select=\"button[garlic]\" hx-swap=\"afterend\">\n",
       "<style>\n",
       "    me { margin: 4px; padding: 10px 30px; min-width: 80px; background: hsl(150 80% 47%); border-bottom: 0.5rem solid hsl(264 80% 20%); }\n",
       "    me { color: antiquewhite; font-size: 14pt; font-variant: all-small-caps; font-weight: bold; }\n",
       "    me:hover { background: hsl(150 80% 60%); }\n",
       "    me span.icon { font-size:16pt; }\n",
       "</style>vampire <span class=\"icon\">🧛</span>\n",
       "</button>\n",
       "</div>\n",
       "<brd-mark id=\"b3441a43f-a726002d-4de845dc-bb336577\"></brd-mark>"
      ],
      "text/markdown": [
       "```html\n",
       "<div>\n",
       "  <h2>HTMX Test</h2>\n",
       "  <div>Swapped DOM elements are styled instantly when they arrive.</div>\n",
       "<button garlic hx-get=\"/test\" hx-select=\"button[vampire]\" hx-swap=\"afterend\">\n",
       "    <style>\n",
       "    me { margin: 4px; padding: 10px 30px; min-width: 80px; background: hsl(264 80% 47%); border-bottom: 0.5rem solid hsl(264 80% 20%); }\n",
       "    me { color: antiquewhite; font-size: 14pt; font-variant: all-small-caps; font-weight: bold; }\n",
       "    me:hover { background: hsl(264 80% 60%); }\n",
       "    me span.icon { font-size:16pt; }\n",
       "</style>\n",
       "garlic <span class=\"icon\">🧄</span>\n",
       "</button>\n",
       "<button vampire hx-get=\"/test\" hx-select=\"button[garlic]\" hx-swap=\"afterend\">\n",
       "    <style>\n",
       "    me { margin: 4px; padding: 10px 30px; min-width: 80px; background: hsl(150 80% 47%); border-bottom: 0.5rem solid hsl(264 80% 20%); }\n",
       "    me { color: antiquewhite; font-size: 14pt; font-variant: all-small-caps; font-weight: bold; }\n",
       "    me:hover { background: hsl(150 80% 60%); }\n",
       "    me span.icon { font-size:16pt; }\n",
       "</style>\n",
       "vampire <span class=\"icon\">🧛</span>\n",
       "</button>\n",
       "</div>\n",
       "\n",
       "```"
      ],
      "text/plain": [
       "div((h2(('HTMX Test',),{}), div(('Swapped DOM elements are styled instantly when they arrive.',),{}), <__main__.Buttons object at 0x13dad3800>),{})"
      ]
     },
     "metadata": {
      "bridge": {
       "captured": true
      }
     },
     "output_type": "display_data"
    }
   ],
   "source": [
    "@rt(\"/test\")\n",
    "def get():\n",
    "    return Buttons()\n",
    "\n",
    "\n",
    "html = Div()(\n",
    "    H2('HTMX Test'),\n",
    "    Div('Swapped DOM elements are styled instantly when they arrive.'),\n",
    "    Buttons(),\n",
    ")\n",
    "\n",
    "# brt(html); # or simply, if bridge_cfg.auto_show is True:\n",
    "html"
   ]
  },
  {
   "cell_type": "markdown",
   "metadata": {},
   "source": [
    "An example from [gnat](https://github.com/gnat)'s [css-scope-inline](https://github.com/gnat/css-scope-inline). Click the buttons."
   ]
  },
  {
   "cell_type": "markdown",
   "metadata": {},
   "source": [
    "See [details_json.ipynb](30_details_json.ipynb) for a lazy JSON browser."
   ]
  },
  {
   "cell_type": "markdown",
   "metadata": {},
   "source": [
    ":::{.callout-tip}\n",
    "## Why are my output cells un-styled and/or inactive?\n",
    "Because all changes made with Bridge/Bridget/FastHTML/HTMX are **transient**.\n",
    ":::\n",
    "\n",
    "Let's talk about what's happening under the hood:\n",
    "\n",
    "We're modifying the DOM - the HTML structure in your browser - at runtime. This is **not** a notebook editor; it's a runtime tool. For anything to work, you need to execute the cells.\n",
    "\n",
    "Here's the thing: a notebook is just **JSON**. Ultimately, output cells are just HTML (derived from any IPython displayable object), environments like VSCode won't render them until display time.\n",
    "\n",
    "When you open a notebook, tjhe front-end usually takes a lazy approach (VSCode/Cursor more than others):\n",
    "- It renders existing outputs from the JSON (including JavaScript)\n",
    "- But it won't execute any cells automatically\n",
    "- Even ipywidgets get special (and sometimes quirky) treatment\n",
    "\n",
    "Think of the notebook's JSON as a snapshot from when you ran the cells. Any DOM changes we make don't get saved back to this JSON.\n",
    "\n",
    "This means:\n",
    "1. Bridge needs explicit initialization to load its JS/CSS\n",
    "2. On load, saved notebooks will execute the JavaScript/HTML put there by cell runs\n",
    "3. Kernel-side code won't run until you execute the cells\n",
    "\n",
    "Could we make Bridget modify the actual notebook outputs? Technically, yes, maybe. But given the labyrinthine complexity of the Jupyter ecosystem (and the mountains of JavaScript involved), I get a headache just thinking about it. Some mountains are better left unclimbed! 😅"
   ]
  },
  {
   "cell_type": "markdown",
   "metadata": {},
   "source": [
    "# Simple widget\n"
   ]
  },
  {
   "cell_type": "code",
   "execution_count": 45,
   "metadata": {
    "brd": {
     "id": "f64942d3-dc7c-4818-bee3-562198c77b52"
    }
   },
   "outputs": [],
   "source": [
    "class BWidget(T.HasTraits, RouteProvider):\n",
    "    bridget: Bridget = None  # type: ignore\n",
    "    _mounted = False\n",
    "    def __ft__(self): ...\n",
    "    def _ipython_display_(self):\n",
    "        brt = get_bridget()\n",
    "        if bridge_cfg.auto_mount and not self._mounted: brt.mount(self, show=False)\n",
    "        brt(self);"
   ]
  },
  {
   "cell_type": "code",
   "execution_count": 46,
   "metadata": {
    "brd": {
     "id": "30e6b2f5-b3d4-4edc-b178-1375a3e9ee2e"
    }
   },
   "outputs": [],
   "source": [
    "class BValue(BWidget):\n",
    "    value=T.CInt(0).tag(sync=True)\n",
    "    _updating = False\n",
    "    \n",
    "    def wrapper_id(self): return self.ar.name().replace(':', '_')\n",
    "\n",
    "    @contextmanager\n",
    "    def _update_ctx(self):\n",
    "        self._updating = True\n",
    "        yield\n",
    "        self._updating = False\n",
    "\n",
    "    @T.observe('value')\n",
    "    def on_value(self, _):\n",
    "        if self.bridget and not self._updating:\n",
    "            self.bridget.bridge.commander.swap(f\"#{self.wrapper_id()}\", to_xml(self.__ft__()), swapStyle='innerHTML')\n",
    "\n",
    "    @ar.post('/value')  # type: ignore\n",
    "    def changed(self, value:int):\n",
    "        with self._update_ctx(): self.value = value\n",
    "        return str(value)"
   ]
  },
  {
   "cell_type": "code",
   "execution_count": 48,
   "metadata": {
    "brd": {
     "id": "ac70d5b5-fca1-451c-a3c2-3029cd792a62"
    }
   },
   "outputs": [
    {
     "data": {
      "text/html": [
       "<div id=\"BIntSlider_BIntSlider_1-1757331137\" class=\"bridget slider\">\n",
       "<label for=\"value\">Scale</label>\n",
       "  <input type=\"range\" name=\"value\" max=\"100\" step=\"1\" hx-post=\"/BIntSlider/BIntSlider_1-1757331137/value\" hx-trigger=\"input changed\" hx-swap=\"textContent\" hx-target=\"next text\">\n",
       "<text id=\"spanscale\" style=\"inline\">0</text>\n",
       "</div>\n",
       "\n",
       "<brd-mark id=\"d91394b7b3907a8c107576edc9c27e66\"></brd-mark>"
      ],
      "text/plain": [
       "<IPython.core.display.HTML object>"
      ]
     },
     "metadata": {},
     "output_type": "display_data"
    }
   ],
   "source": [
    "@dataclasses.dataclass\n",
    "class BIntSlider(BValue):\n",
    "    min:int=0; max:int=100; step:int=1; readout:bool=True; readout_format:str='d'\n",
    "    \n",
    "    def __ft__(self):\n",
    "        if bridge_cfg.auto_mount and not self._mounted: get_bridget().mount(self, show=False)\n",
    "        return Div(id=self.wrapper_id(), cls='bridget slider')(\n",
    "            Label(_for='value')('Scale'), _n,\n",
    "            Input(type='range', name='value', min=self.min, max=self.max, step=self.step, value=self.value,\n",
    "                # hx_post=f\"{self.ar.to()}{self.ar.to('changed')}\", hx_trigger='input changed', \n",
    "                hx_post=self.ar.to('changed'), hx_trigger='input changed', \n",
    "                hx_target='next text', hx_swap='textContent'),\n",
    "            Text(id='spanscale', style='inline')(self.value), _n\n",
    "        )\n",
    "\n",
    "app.routes.clear()\n",
    "\n",
    "bridge_cfg.auto_mount = True\n",
    "\n",
    "rp = BIntSlider()\n",
    "rp"
   ]
  },
  {
   "cell_type": "code",
   "execution_count": 49,
   "metadata": {
    "brd": {
     "id": "2f05640b-7b7f-40fd-9ac5-8386e2e15d0b"
    }
   },
   "outputs": [],
   "source": [
    "rp.value = 77"
   ]
  },
  {
   "cell_type": "code",
   "execution_count": 50,
   "metadata": {
    "brd": {
     "id": "d23576be-fdc2-4cbe-b842-5d155a1d156f"
    }
   },
   "outputs": [
    {
     "data": {
      "text/html": [
       "<div id=\"BIntSlider_BIntSlider_2-1757331137\" class=\"bridget slider\">\n",
       "<label for=\"value\">Scale</label>\n",
       "  <input type=\"range\" name=\"value\" max=\"100\" step=\"2\" hx-post=\"/BIntSlider/BIntSlider_2-1757331137/value\" hx-trigger=\"input changed\" hx-swap=\"textContent\" hx-target=\"next text\">\n",
       "<text id=\"spanscale\" style=\"inline\">0</text>\n",
       "</div>\n",
       "\n",
       "<brd-mark id=\"044f7ed125a03702a629f5e78ce542d6\"></brd-mark>"
      ],
      "text/plain": [
       "<IPython.core.display.HTML object>"
      ]
     },
     "metadata": {},
     "output_type": "display_data"
    }
   ],
   "source": [
    "sld2 = BIntSlider(step=2)\n",
    "sld2"
   ]
  },
  {
   "cell_type": "code",
   "execution_count": 51,
   "metadata": {
    "brd": {
     "id": "a5f128f5-8874-4861-9343-8e88350041b5"
    }
   },
   "outputs": [
    {
     "data": {
      "text/html": [
       "<div style=\"display: flex; gap: 1em;\"><div id=\"BIntSlider_BIntSlider_3-1757331137\" class=\"bridget slider\"><label for=\"value\">Scale</label>\n",
       "<input type=\"range\" name=\"value\" max=\"100\" step=\"1\" hx-post=\"/BIntSlider/BIntSlider_3-1757331137/value\" hx-trigger=\"input changed\" hx-swap=\"textContent\" hx-target=\"next text\"><text id=\"spanscale\" style=\"inline\">0</text>\n",
       "</div><div id=\"BIntSlider_BIntSlider_4-1757331137\" class=\"bridget slider\"><label for=\"value\">Scale</label>\n",
       "<input type=\"range\" name=\"value\" max=\"100\" step=\"1\" hx-post=\"/BIntSlider/BIntSlider_4-1757331137/value\" hx-trigger=\"input changed\" hx-swap=\"textContent\" hx-target=\"next text\"><text id=\"spanscale\" style=\"inline\">0</text>\n",
       "</div></div>\n",
       "<brd-mark id=\"b69ffba94-8831be3b-efe50eef-a89ac044\"></brd-mark>"
      ],
      "text/markdown": [
       "```html\n",
       "<div style=\"display: flex; gap: 1em;\">\n",
       "  <div id=\"BIntSlider_BIntSlider_3-1757331137\" class=\"bridget slider\">\n",
       "<label for=\"value\">Scale</label>\n",
       "    <input type=\"range\" name=\"value\" max=\"100\" step=\"1\" hx-post=\"/BIntSlider/BIntSlider_3-1757331137/value\" hx-trigger=\"input changed\" hx-swap=\"textContent\" hx-target=\"next text\">\n",
       "<text id=\"spanscale\" style=\"inline\">0</text>\n",
       "  </div>\n",
       "  <div id=\"BIntSlider_BIntSlider_4-1757331137\" class=\"bridget slider\">\n",
       "<label for=\"value\">Scale</label>\n",
       "    <input type=\"range\" name=\"value\" max=\"100\" step=\"1\" hx-post=\"/BIntSlider/BIntSlider_4-1757331137/value\" hx-trigger=\"input changed\" hx-swap=\"textContent\" hx-target=\"next text\">\n",
       "<text id=\"spanscale\" style=\"inline\">0</text>\n",
       "  </div>\n",
       "</div>\n",
       "\n",
       "```"
      ],
      "text/plain": [
       "div((BIntSlider(min=0, max=100, step=1, readout=True, readout_format='d'), BIntSlider(min=0, max=100, step=1, readout=True, readout_format='d')),{'style': 'display: flex; gap: 1em;'})"
      ]
     },
     "metadata": {
      "bridge": {
       "captured": true
      }
     },
     "output_type": "display_data"
    }
   ],
   "source": [
    "with bridge_cfg(auto_mount=True):\n",
    "    sld3 = BIntSlider()\n",
    "    sld4 = BIntSlider()\n",
    "    # brt.mount(sld3, show=False)\n",
    "    # brt.mount(sld4, show=False)\n",
    "    T.link((sld3, 'value'), (sld4, 'value'))\n",
    "\n",
    "(box := Div(style='display: flex; gap: 1em;')(sld3, sld4))"
   ]
  },
  {
   "cell_type": "code",
   "execution_count": 52,
   "metadata": {
    "brd": {
     "id": "bc0af64d-73e3-4e20-86e8-b26d5ded98a9"
    }
   },
   "outputs": [],
   "source": [
    "sld3.value = 22\n",
    "test_eq(sld4.value, 22)"
   ]
  },
  {
   "cell_type": "markdown",
   "metadata": {},
   "source": [
    "# Hydrate (TBD)\n",
    "> Can we edit `.ipynb`s directly to capture actual output without `nbformat` or editing the JSON in disk?\n"
   ]
  },
  {
   "cell_type": "code",
   "execution_count": 69,
   "metadata": {
    "brd": {
     "id": "05536e9f-0d4d-4965-8f5b-5cb8f3c4eed0"
    }
   },
   "outputs": [],
   "source": [
    "# def hydrate(bridget=True, app: FastHTML | None=None, appkw:dict[str, Any]={}, **kwargs): \n",
    "#     app, bridge, rt = get_app(True, app, appkw=appkw, **kwargs)\n",
    "#     bridget = Bridget(bridge) if bridget else None\n",
    "#     return app, bridge, rt, bridget\n",
    "\n",
    "# hydrate()\n"
   ]
  },
  {
   "cell_type": "markdown",
   "metadata": {},
   "source": [
    "# What about WebSockets and SSE Support?\n"
   ]
  },
  {
   "cell_type": "markdown",
   "metadata": {},
   "source": [
    "\n",
    "While HTMX supports WebSockets and Server-Sent Events (SSE) through extensions([1](https://htmx.org/docs/#web-sockets-sse)), this proof-of-concept focuses only on AJAX functionality for several reasons:\n",
    "\n",
    "1. **Core Functionality**: HTMX is primarily an AJAX framework - WS and SSE support are add-ons with simpler implementations([2](https://htmx.org/docs/#extensions))\n",
    "\n",
    "2. **Proof of Concept**: For demonstrating the viability of using HTMX in notebooks, AJAX support is sufficient\n",
    "\n",
    "3. **Future Extension**: Adding WS/SSE support would be straightforward since:\n",
    "   - The notebook Comm layer already uses WebSockets\n",
    "   - HTMX's extension system is well-documented([3](https://htmx.org/docs/#creating-extensions))\n",
    "   - The transport layer replacement pattern is already established with AJAX\n"
   ]
  },
  {
   "cell_type": "markdown",
   "metadata": {},
   "source": [
    "# Colophon\n",
    "----\n"
   ]
  },
  {
   "cell_type": "code",
   "execution_count": 1,
   "metadata": {
    "brd": {
     "id": "dffbd1a5-305a-4ffa-95e4-262f9a73a274"
    }
   },
   "outputs": [],
   "source": [
    "import fastcore.all as FC\n",
    "import nbdev\n",
    "from nbdev.clean import nbdev_clean\n",
    "from olio.basic import bundle_path\n",
    "from bridget.bridge_widget import bundled"
   ]
  },
  {
   "cell_type": "code",
   "execution_count": 2,
   "metadata": {
    "brd": {
     "id": "98ff8dfb-27e5-4b20-8394-01b648bf2a94"
    }
   },
   "outputs": [],
   "source": [
    "if FC.IN_NOTEBOOK:\n",
    "    BUNDLE_PATH = bundle_path(__name__)\n",
    "    for f in ['bridget']: bundled(BUNDLE_PATH / f'js/{f}.js')()\n",
    "    nb_path = '32_bridget.ipynb'\n",
    "    # nbdev_clean(nb_path)\n",
    "    nbdev.nbdev_export(nb_path)"
   ]
  }
 ],
 "metadata": {
  "kernelspec": {
   "display_name": "Python 3",
   "language": "python",
   "name": "python3"
  },
  "language_info": {
   "codemirror_mode": {
    "name": "ipython",
    "version": 3
   },
   "file_extension": ".py",
   "mimetype": "text/x-python",
   "name": "python",
   "nbconvert_exporter": "python",
   "pygments_lexer": "ipython3",
   "version": "3.12.11"
  }
 },
 "nbformat": 4,
 "nbformat_minor": 4
}
