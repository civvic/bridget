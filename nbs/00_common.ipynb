{
 "cells": [
  {
   "cell_type": "code",
   "execution_count": 1,
   "metadata": {
    "brd": {
     "id": "35f0f2c6-415f-40fb-92a8-f492b4ced71a"
    }
   },
   "outputs": [],
   "source": [
    "#| default_exp common"
   ]
  },
  {
   "cell_type": "code",
   "execution_count": 2,
   "metadata": {
    "brd": {
     "id": "8e824a24-8010-4e87-ab21-285e0c2bab4c"
    }
   },
   "outputs": [],
   "source": [
    "_ks1 = set(globals().keys())"
   ]
  },
  {
   "cell_type": "code",
   "execution_count": 3,
   "metadata": {
    "brd": {
     "id": "9f3f9a83-dba8-4a59-ad69-2ac9b571acf6"
    }
   },
   "outputs": [],
   "source": [
    "#| export\n",
    "from bridget.bridge import get_bridge\n",
    "from bridget.bridget import get_app\n",
    "from bridget.bridget import get_bridget\n",
    "from bridget.helpers import bridge_cfg\n",
    "from bridget.helpers import DetailsJSON\n",
    "from bridget.helpers import HTML\n",
    "from bridget.nb import NB\n",
    "from bridget.nb_state import get_nb\n",
    "from bridget.nb_state import NBState\n",
    "from bridget.nb_state import this\n",
    "from bridget.routing import ar\n",
    "from bridget.routing import RouteProvider\n"
   ]
  },
  {
   "cell_type": "code",
   "execution_count": 4,
   "metadata": {
    "brd": {
     "id": "504e55d6-52ac-4549-8e27-51a137aeaf9e"
    }
   },
   "outputs": [
    {
     "data": {
      "text/plain": [
       "['HTML',\n",
       " 'bridge_cfg',\n",
       " 'this',\n",
       " 'get_nb',\n",
       " 'RouteProvider',\n",
       " 'get_app',\n",
       " 'DetailsJSON',\n",
       " 'ar',\n",
       " 'get_bridget',\n",
       " 'NB',\n",
       " 'NBState',\n",
       " 'get_bridge']"
      ]
     },
     "execution_count": 4,
     "metadata": {},
     "output_type": "execute_result"
    }
   ],
   "source": [
    "[k for k in globals().keys() - _ks1 if not k.startswith('_')]"
   ]
  },
  {
   "cell_type": "code",
   "execution_count": 5,
   "metadata": {
    "brd": {
     "id": "c5478a28-3f67-4fc9-b936-8c2abb8cb0b6"
    }
   },
   "outputs": [],
   "source": [
    "#| export\n",
    "\n",
    "_all_ = [\n",
    "    'ar',\n",
    "    'get_nb',\n",
    "    'DetailsJSON',\n",
    "    'this',\n",
    "    'NBState',\n",
    "    'get_app',\n",
    "    'get_bridget',\n",
    "    'bridge_cfg',\n",
    "    'RouteProvider',\n",
    "    'NB',\n",
    "    'HTML',\n",
    "    'get_bridge'\n",
    "]"
   ]
  },
  {
   "cell_type": "markdown",
   "metadata": {},
   "source": [
    "----"
   ]
  },
  {
   "cell_type": "code",
   "execution_count": 6,
   "metadata": {
    "brd": {
     "id": "04ee4815-a1e4-4eed-aaf4-4c12491d4829"
    }
   },
   "outputs": [],
   "source": [
    "import fastcore.all as FC\n",
    "import nbdev\n",
    "from nbdev.clean import nbdev_clean"
   ]
  },
  {
   "cell_type": "code",
   "execution_count": 7,
   "metadata": {
    "brd": {
     "id": "2b9f476f-d9e0-4e02-998c-91846acc1b15"
    }
   },
   "outputs": [],
   "source": [
    "if FC.IN_NOTEBOOK:\n",
    "    nb_path = '00_common.ipynb'\n",
    "    # nbdev_clean(nb_path)\n",
    "    nbdev.nbdev_export(nb_path)\n"
   ]
  }
 ],
 "metadata": {
  "kernelspec": {
   "display_name": "Python 3",
   "language": "python",
   "name": "python3"
  },
  "language_info": {
   "codemirror_mode": {
    "name": "ipython",
    "version": 3
   },
   "file_extension": ".py",
   "mimetype": "text/x-python",
   "name": "python",
   "nbconvert_exporter": "python",
   "pygments_lexer": "ipython3",
   "version": "3.12.11"
  }
 },
 "nbformat": 4,
 "nbformat_minor": 2
}
