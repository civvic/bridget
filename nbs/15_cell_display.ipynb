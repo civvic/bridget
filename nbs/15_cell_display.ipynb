{
 "cells": [
  {
   "cell_type": "code",
   "execution_count": null,
   "metadata": {},
   "outputs": [],
   "source": [
    "#| default_exp cell_display\n"
   ]
  },
  {
   "cell_type": "code",
   "execution_count": null,
   "metadata": {},
   "outputs": [],
   "source": [
    "#| export\n",
    "from __future__ import annotations\n"
   ]
  },
  {
   "cell_type": "markdown",
   "metadata": {},
   "source": [
    "# Cell display\n",
    "> Helpers for output cells display\n"
   ]
  },
  {
   "cell_type": "markdown",
   "metadata": {},
   "source": [
    "# Prologue"
   ]
  },
  {
   "cell_type": "code",
   "execution_count": null,
   "metadata": {},
   "outputs": [],
   "source": [
    "#| export\n",
    "\n",
    "from IPython.display import DisplayHandle\n",
    "from IPython.display import HTML\n"
   ]
  },
  {
   "cell_type": "code",
   "execution_count": null,
   "metadata": {},
   "outputs": [],
   "source": [
    "#| export\n",
    "\n",
    "from bridget.helpers import id_gen\n",
    "from bridget.helpers import Script\n"
   ]
  },
  {
   "cell_type": "code",
   "execution_count": null,
   "metadata": {},
   "outputs": [],
   "source": [
    "import inspect\n",
    "from inspect import Parameter\n",
    "from pathlib import Path\n",
    "from typing import Protocol\n",
    "\n",
    "import anywidget\n",
    "import fastcore.all as FC\n",
    "from fastcore.test import *\n",
    "from fastcore.xml import to_xml\n",
    "from IPython.display import display\n",
    "from IPython.display import Javascript\n",
    "from IPython.display import Markdown\n",
    "from olio.common import setup_console\n"
   ]
  },
  {
   "cell_type": "markdown",
   "metadata": {},
   "source": [
    "----\n"
   ]
  },
  {
   "cell_type": "code",
   "execution_count": null,
   "metadata": {},
   "outputs": [],
   "source": [
    "#| exporti\n",
    "\n",
    "new_id = id_gen()\n"
   ]
  },
  {
   "cell_type": "code",
   "execution_count": null,
   "metadata": {},
   "outputs": [],
   "source": [
    "console, cprint = setup_console(140)\n"
   ]
  },
  {
   "cell_type": "code",
   "execution_count": null,
   "metadata": {},
   "outputs": [],
   "source": [
    "# needed for vfile:\n",
    "%load_ext anywidget\n"
   ]
  },
  {
   "cell_type": "code",
   "execution_count": null,
   "metadata": {},
   "outputs": [
    {
     "name": "stdout",
     "output_type": "stream",
     "text": [
      "env: ANYWIDGET_HMR=0\n"
     ]
    }
   ],
   "source": [
    "%env ANYWIDGET_HMR=0"
   ]
  },
  {
   "cell_type": "markdown",
   "metadata": {},
   "source": [
    "----"
   ]
  },
  {
   "cell_type": "markdown",
   "metadata": {},
   "source": [
    "# autoid (not used)"
   ]
  },
  {
   "cell_type": "code",
   "execution_count": null,
   "metadata": {},
   "outputs": [],
   "source": [
    "%%vfile autoid.js\n",
    "\n",
    "// debugger;\n",
    "function autodel(id) {\n",
    "    // debugger;\n",
    "    const me = document.querySelector(`#${id}`);\n",
    "    const parent = me.parentElement;\n",
    "    // parent.append(`test ${id}`);\n",
    "    window.setTimeout(() => {{ \n",
    "        me.remove(); \n",
    "        parent.setAttribute(\"id\", `output-${id}`);\n",
    "        console.log('deleted script', id); \n",
    "    }}, 100);\n",
    "    console.log(\"test script\", id);\n",
    "}\n"
   ]
  },
  {
   "cell_type": "code",
   "execution_count": null,
   "metadata": {},
   "outputs": [
    {
     "data": {
      "text/html": [
       "<script>\n",
       "// debugger;\n",
       "function autodel(id) {\n",
       "    // debugger;\n",
       "    const me = document.querySelector(`#${id}`);\n",
       "    const parent = me.parentElement;\n",
       "    // parent.append(`test ${id}`);\n",
       "    window.setTimeout(() => {{ \n",
       "        me.remove(); \n",
       "        parent.setAttribute(\"id\", `output-${id}`);\n",
       "        console.log('deleted script', id); \n",
       "    }}, 100);\n",
       "    console.log(\"test script\", id);\n",
       "}\n",
       "</script>"
      ],
      "text/plain": [
       "<IPython.core.display.HTML object>"
      ]
     },
     "execution_count": null,
     "metadata": {},
     "output_type": "execute_result"
    }
   ],
   "source": [
    "sc = '''\n",
    "// debugger;\n",
    "function autodel(id) {\n",
    "    // debugger;\n",
    "    const me = document.querySelector(`#${id}`);\n",
    "    const parent = me.parentElement;\n",
    "    // parent.append(`test ${id}`);\n",
    "    window.setTimeout(() => {{ \n",
    "        me.remove(); \n",
    "        parent.setAttribute(\"id\", `output-${id}`);\n",
    "        console.log('deleted script', id); \n",
    "    }}, 100);\n",
    "    console.log(\"test script\", id);\n",
    "}\n",
    "'''\n",
    "\n",
    "# autodelscr = Script(sc)\n",
    "autodelscr = Script('vfile:autoid.js')\n",
    "HTML(to_xml(autodelscr))"
   ]
  },
  {
   "cell_type": "code",
   "execution_count": null,
   "metadata": {},
   "outputs": [
    {
     "data": {
      "text/html": [
       "<script type=\"module\" id=\"b2e58254b-9bcbe6f8-ad51b738-5020fd64\">\n",
       "\n",
       "// debugger;\n",
       "autodel(\"b2e58254b-9bcbe6f8-ad51b738-5020fd64\");\n",
       "</script>aaaa"
      ],
      "text/plain": [
       "<IPython.core.display.HTML object>"
      ]
     },
     "execution_count": null,
     "metadata": {},
     "output_type": "execute_result"
    }
   ],
   "source": [
    "sc = '''\n",
    "// debugger;\n",
    "autodel(\"{0}\");\n",
    "'''\n",
    "\n",
    "idx = new_id()\n",
    "scr = Script(sc.format(idx), id=idx, type='module')\n",
    "HTML(to_xml(scr)+'aaaa')"
   ]
  },
  {
   "cell_type": "code",
   "execution_count": null,
   "metadata": {},
   "outputs": [],
   "source": [
    "sc = '''\n",
    "// debugger;\n",
    "autodel(\"{0}\");\n",
    "'''\n",
    "def autoid(idx=None):\n",
    "    idx = idx or new_id()\n",
    "    return Script(sc.format(idx), id=idx, type='module'), idx\n"
   ]
  },
  {
   "cell_type": "code",
   "execution_count": null,
   "metadata": {},
   "outputs": [
    {
     "data": {
      "text/html": [
       "aaaaa<script type=\"module\" id=\"b433778ee-e00d494c-49897f93-676f1d8a\">\n",
       "\n",
       "// debugger;\n",
       "autodel(\"b433778ee-e00d494c-49897f93-676f1d8a\");\n",
       "</script>"
      ],
      "text/plain": [
       "<IPython.core.display.HTML object>"
      ]
     },
     "execution_count": null,
     "metadata": {},
     "output_type": "execute_result"
    }
   ],
   "source": [
    "HTML('aaaaa'+to_xml(autoid()[0]))\n"
   ]
  },
  {
   "cell_type": "code",
   "execution_count": null,
   "metadata": {},
   "outputs": [],
   "source": [
    "# %%HTML\n",
    "#   <script id=\"asdfg-12345\">\n",
    "#     debugger;\n",
    "#     me().attribute('id', 'output-asdfg-12345');\n",
    "#     setTimeout(el => { el.remove(); }, 100, me('#asdfg-12345'))\n",
    "#     // autodel('asdfg-12345');\n",
    "#   </script>\n",
    "#   <div class=\"uploader\">aaaa</div>\n"
   ]
  },
  {
   "cell_type": "code",
   "execution_count": null,
   "metadata": {},
   "outputs": [],
   "source": [
    "#| export\n",
    "\n",
    "__autoid_scr = '''\n",
    "//debugger;\n",
    "me().attribute('id', 'output-{0}').classAdd('bridge');\n",
    "setTimeout(el => {{ el.remove(); }}, 100, me('#{0}'))\n",
    "'''\n",
    "def autoid(idx=None):\n",
    "    idx = idx or new_id()\n",
    "    return Script(__autoid_scr.format(idx), id=idx), idx\n"
   ]
  },
  {
   "cell_type": "code",
   "execution_count": null,
   "metadata": {},
   "outputs": [
    {
     "data": {
      "text/html": [
       "cccc"
      ],
      "text/plain": [
       "<IPython.core.display.HTML object>"
      ]
     },
     "metadata": {},
     "output_type": "display_data"
    }
   ],
   "source": [
    "scr,idx = autoid()\n",
    "dhdl = DisplayHandle(idx)\n",
    "dhdl.display(HTML('bbbb'+to_xml(scr)))\n"
   ]
  },
  {
   "cell_type": "code",
   "execution_count": null,
   "metadata": {},
   "outputs": [],
   "source": [
    "dhdl.update(HTML('cccc'))"
   ]
  },
  {
   "cell_type": "markdown",
   "metadata": {},
   "source": [
    "# DisplayId\n",
    "\n",
    "An attempt to provide a IPython display wrapper that automatically handles the display ID to allow us to target especific cells. Not working, for now it's essentially just IPython display."
   ]
  },
  {
   "cell_type": "code",
   "execution_count": null,
   "metadata": {},
   "outputs": [],
   "source": [
    "#| export\n",
    "\n",
    "class DisplayId(DisplayHandle):\n",
    "    def __init__(self, display_id=None):\n",
    "        super().__init__(display_id or new_id())\n",
    "        self._contents = None\n",
    "        self._sc = ''\n",
    "        # self._sc = to_xml(autoid(self.display_id)[0]) if bridge_cfg.auto_id else ''\n",
    "\n",
    "    def display(self, obj='', **kwargs):\n",
    "        from IPython.display import display\n",
    "        self._contents = str(obj)\n",
    "        display(HTML(self._contents + self._sc), display_id=self.display_id, **kwargs)\n",
    "\n",
    "    def update(self, obj='', **kwargs):\n",
    "        kwargs['update'] = True\n",
    "        self.display(obj, **kwargs)\n",
    "\n",
    "    def contents(self):\n",
    "        return self._contents\n"
   ]
  },
  {
   "cell_type": "code",
   "execution_count": null,
   "metadata": {},
   "outputs": [
    {
     "data": {
      "text/html": [],
      "text/plain": [
       "<IPython.core.display.HTML object>"
      ]
     },
     "metadata": {},
     "output_type": "display_data"
    }
   ],
   "source": [
    "dhdl = DisplayId()\n",
    "dhdl.display('dddd')\n",
    "test_eq(dhdl.contents(), 'dddd')"
   ]
  },
  {
   "cell_type": "code",
   "execution_count": null,
   "metadata": {},
   "outputs": [],
   "source": [
    "dhdl.update('eeee')\n",
    "test_eq(dhdl.contents(), 'eeee')\n"
   ]
  },
  {
   "cell_type": "code",
   "execution_count": null,
   "metadata": {},
   "outputs": [],
   "source": [
    "dhdl.update()"
   ]
  },
  {
   "cell_type": "code",
   "execution_count": null,
   "metadata": {},
   "outputs": [
    {
     "data": {
      "text/html": [
       "hhhh"
      ],
      "text/plain": [
       "<IPython.core.display.HTML object>"
      ]
     },
     "metadata": {},
     "output_type": "display_data"
    }
   ],
   "source": [
    "dhdl = DisplayId(display_id='faf-sadfsfa-8434r2jhknjlsd-45hj')\n",
    "dhdl.display('gggg')\n",
    "test_eq(dhdl.contents(), 'gggg')\n"
   ]
  },
  {
   "cell_type": "code",
   "execution_count": null,
   "metadata": {},
   "outputs": [],
   "source": [
    "dhdl.update('hhhh')\n",
    "test_eq(dhdl.contents(), 'hhhh')\n"
   ]
  },
  {
   "cell_type": "code",
   "execution_count": null,
   "metadata": {},
   "outputs": [],
   "source": [
    "class CellRenderP(Protocol):\n",
    "    def __call__(self, *o, cell_handle: CellHandle, **kwargs): ...\n",
    "\n",
    "class CellHandle:\n",
    "    def __init__(self, display_id:str, render: CellRenderP): \n",
    "        self.di = DisplayId(display_id=display_id)\n",
    "        self.render = render\n",
    "    def __call__(self, *args, **kwargs):\n",
    "        return self.render(*args, cell_handle=self, **kwargs)\n"
   ]
  },
  {
   "cell_type": "markdown",
   "metadata": {},
   "source": [
    "# Colophon\n",
    "----\n"
   ]
  },
  {
   "cell_type": "code",
   "execution_count": null,
   "metadata": {},
   "outputs": [],
   "source": [
    "import fastcore.all as FC\n",
    "import nbdev\n",
    "from nbdev.clean import nbdev_clean\n"
   ]
  },
  {
   "cell_type": "code",
   "execution_count": null,
   "metadata": {},
   "outputs": [],
   "source": [
    "if FC.IN_NOTEBOOK:\n",
    "    nb_path = '15_cell_display.ipynb'\n",
    "    nbdev_clean(nb_path)\n",
    "    nbdev.nbdev_export(nb_path)\n"
   ]
  }
 ],
 "metadata": {
  "kernelspec": {
   "display_name": "python3",
   "language": "python",
   "name": "python3"
  },
  "widgets": {
   "application/vnd.jupyter.widget-state+json": {
    "state": {},
    "version_major": 2,
    "version_minor": 0
   }
  }
 },
 "nbformat": 4,
 "nbformat_minor": 4
}
