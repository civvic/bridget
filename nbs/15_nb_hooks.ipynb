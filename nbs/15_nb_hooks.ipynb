{
 "cells": [
  {
   "cell_type": "code",
   "execution_count": 1,
   "id": "8ddd3a31",
   "metadata": {
    "brd": {
     "id": "51344e57-8912-4aad-a175-cf7e5364bd60"
    }
   },
   "outputs": [],
   "source": [
    "#| default_exp nb_hooks"
   ]
  },
  {
   "cell_type": "code",
   "execution_count": 2,
   "id": "3d53772c",
   "metadata": {
    "brd": {
     "id": "8aef3a2b-d4d3-4eb3-9f49-7cebc7549516"
    }
   },
   "outputs": [],
   "source": [
    "#| export\n",
    "from __future__ import annotations"
   ]
  },
  {
   "cell_type": "markdown",
   "id": "fd6ba8ec",
   "metadata": {},
   "source": [
    "# Notebook/IPython hooks\n",
    "> Pure IPython facilities to help us inspect, control, and modify cell outputs. \n",
    "\n",
    "In subsequent notebooks I'll add more facilities to help us capture the current state of the notebook (21_nbstate.ipynb) and make the link bidirectional (32_bridget.ipynb).\n"
   ]
  },
  {
   "cell_type": "markdown",
   "id": "2faa5d82",
   "metadata": {},
   "source": [
    "# Prologue"
   ]
  },
  {
   "cell_type": "code",
   "execution_count": 3,
   "id": "fde7697a",
   "metadata": {
    "brd": {
     "id": "78471bea-daec-45a5-9791-b45f3edf15ac"
    }
   },
   "outputs": [],
   "source": [
    "#| export\n",
    "import ast\n",
    "import urllib.parse\n",
    "import uuid\n",
    "from collections import deque\n",
    "\n",
    "import fastcore.all as FC\n",
    "from fastcore.xml import to_xml\n",
    "from fasthtml.core import unqid\n",
    "from IPython.core.error import InputRejected\n",
    "from IPython.core.getipython import get_ipython\n",
    "from IPython.display import display\n",
    "from IPython.display import DisplayHandle\n",
    "from olio.basic import bundle_path\n",
    "from olio.basic import val_at as at\n",
    "from olio.common import AD\n",
    "from olio.common import update_\n"
   ]
  },
  {
   "cell_type": "code",
   "execution_count": 4,
   "id": "c1c9abcc",
   "metadata": {
    "brd": {
     "id": "cdee57aa-f36c-42c2-a4e2-96afd1f20a19"
    }
   },
   "outputs": [],
   "source": [
    "#| export\n",
    "from bridget.bridge import Brd_Mark\n",
    "from bridget.helpers import bridge_cfg\n",
    "from bridget.helpers import DEBUG\n",
    "from bridget.helpers import id_gen\n",
    "from bridget.nb import NB\n",
    "from bridget.nb import NBCell\n",
    "from bridget.nb import NBOutput\n"
   ]
  },
  {
   "cell_type": "code",
   "execution_count": 5,
   "id": "7f25d61a",
   "metadata": {
    "brd": {
     "id": "8b1d4c40-78cc-431a-98da-e3fd41ff4a97"
    }
   },
   "outputs": [],
   "source": [
    "import os\n",
    "import random\n",
    "import sys\n",
    "import time\n",
    "from contextlib import contextmanager\n",
    "from copy import deepcopy\n",
    "from typing import Any\n",
    "\n",
    "import fasthtml.components as ft\n",
    "from fastcore.test import *\n",
    "from fasthtml.core import L\n",
    "from fasthtml.xtend import Script\n",
    "from IPython.core.displayhook import CapturingDisplayHook\n",
    "from IPython.core.interactiveshell import InteractiveShell\n",
    "from IPython.display import HTML\n",
    "from IPython.display import JSON\n",
    "from IPython.display import Markdown\n",
    "from IPython.utils.capture import CapturedIO\n",
    "from olio.basic import empty\n",
    "from olio.basic import vals_at\n",
    "from olio.common import setup_console\n",
    "from olio.common import shorten\n"
   ]
  },
  {
   "cell_type": "code",
   "execution_count": 6,
   "id": "c0a3c688",
   "metadata": {
    "brd": {
     "id": "c8541a5b-5edb-4891-9e0b-fe0ccf486d0d"
    }
   },
   "outputs": [],
   "source": [
    "import bridget.fasthtml_patching\n",
    "from bridget.helpers import skip\n",
    "from bridget.helpers import DetailsJSON"
   ]
  },
  {
   "cell_type": "code",
   "execution_count": 7,
   "id": "c75fdff8",
   "metadata": {
    "brd": {
     "id": "1c64164d-9de8-4f2e-9b33-6e4c55f34867"
    }
   },
   "outputs": [],
   "source": [
    "from fasthtml.components import Details, Summary, Ul, Li, Span\n",
    "from fasthtml.components import Div, P, Pre, Text, Span, show, B, Details, Pre, A, Br\n",
    "from fasthtml.xtend import Style\n"
   ]
  },
  {
   "cell_type": "markdown",
   "id": "c48115ef",
   "metadata": {},
   "source": [
    "----\n"
   ]
  },
  {
   "cell_type": "code",
   "execution_count": 8,
   "id": "4133ee69",
   "metadata": {
    "brd": {
     "id": "926764a8-410a-41ed-9234-c3cfe32eb435"
    }
   },
   "outputs": [],
   "source": [
    "In:list\n",
    "Out:dict\n",
    "_:Any"
   ]
  },
  {
   "cell_type": "code",
   "execution_count": 9,
   "id": "d5193d7f",
   "metadata": {
    "brd": {
     "id": "1da99bcc-4117-4963-a8e8-ea6ae98fc750"
    }
   },
   "outputs": [],
   "source": [
    "os.environ['DEBUG_BRIDGET'] = 'True'"
   ]
  },
  {
   "cell_type": "code",
   "execution_count": 10,
   "id": "3c12cfa7",
   "metadata": {
    "brd": {
     "id": "44db147c-83e3-4797-aea7-9c4740d6a94c"
    }
   },
   "outputs": [],
   "source": [
    "#| exporti\n",
    "\n",
    "BUNDLE_PATH = bundle_path(__name__)\n",
    "new_id = id_gen()\n",
    "_n = '\\n'"
   ]
  },
  {
   "cell_type": "code",
   "execution_count": 11,
   "id": "3080a469",
   "metadata": {
    "brd": {
     "id": "faf2e8a3-dba5-48dd-9d00-39ddba8fa7eb"
    }
   },
   "outputs": [
    {
     "name": "stdout",
     "output_type": "stream",
     "text": [
      "DEBUG()=True\n"
     ]
    },
    {
     "data": {
      "text/plain": [
       "{'auto_show': False, 'auto_mount': False, 'auto_id': False, 'bundle_cfg': {'out_dir': [Path('/Users/vic/dev/repo/project/bridget/bridget/js')], 'rewrite_imports': True, 'import_name': 'brdimport'}, 'bootstrap': False, 'current_did': None}"
      ]
     },
     "execution_count": 11,
     "metadata": {},
     "output_type": "execute_result"
    }
   ],
   "source": [
    "console, cprint = setup_console(140)\n",
    "IDISPLAY = display\n",
    "print(f\"{DEBUG()=}\")\n",
    "bridge_cfg"
   ]
  },
  {
   "cell_type": "markdown",
   "id": "42826a03",
   "metadata": {},
   "source": [
    "----"
   ]
  },
  {
   "cell_type": "code",
   "execution_count": 12,
   "id": "54a9bd3a",
   "metadata": {
    "brd": {
     "id": "40bb318b-3f39-4cac-a6e5-67090f1ca69c"
    }
   },
   "outputs": [],
   "source": [
    "#| export\n",
    "\n",
    "def _cellid_from(s): return urllib.parse.unquote(urllib.parse.urlparse(s).fragment)\n",
    "def _nburi_from(s): return urllib.parse.urlparse(s).netloc + urllib.parse.urlparse(s).path\n",
    "def cellspec_from(s): return (uri := urllib.parse.urlparse(s)).path, urllib.parse.unquote(uri.fragment)"
   ]
  },
  {
   "cell_type": "code",
   "execution_count": 13,
   "id": "654fad65",
   "metadata": {
    "brd": {
     "id": "91bdeac9-f5c3-40f6-85a5-77b913f97a1e"
    }
   },
   "outputs": [
    {
     "data": {
      "text/plain": [
       "('/a/b/d', 'Y114sZmlsZQ==')"
      ]
     },
     "execution_count": 13,
     "metadata": {},
     "output_type": "execute_result"
    }
   ],
   "source": [
    "nburi, cellid = cellspec_from('/a/b/d#Y114sZmlsZQ==')\n",
    "nburi, cellid"
   ]
  },
  {
   "cell_type": "markdown",
   "id": "f151b170",
   "metadata": {},
   "source": [
    "VSCode cell id format."
   ]
  },
  {
   "cell_type": "markdown",
   "id": "eda457dd",
   "metadata": {},
   "source": [
    "# NB update"
   ]
  },
  {
   "cell_type": "code",
   "execution_count": 14,
   "id": "e8afef96",
   "metadata": {
    "brd": {
     "id": "7cafce6d-8bf9-441a-87a2-6cd4146ca4e0"
    }
   },
   "outputs": [],
   "source": [
    "__nb__ = NB()"
   ]
  },
  {
   "cell_type": "code",
   "execution_count": 15,
   "id": "af01cd2c",
   "metadata": {
    "brd": {
     "id": "2e91dd16-1fcc-4758-aebe-30d6d236fb81"
    }
   },
   "outputs": [],
   "source": [
    "#| exporti\n",
    "\n",
    "@FC.patch\n",
    "def update(self:NB, cell_id, source=None, execution_count=None, outputs=None):\n",
    "    if not (cell := self[cell_id]): \n",
    "        cell = NBCell(dict(idx=len(self.cells), source=source, id=cell_id, cell_type='code'))\n",
    "        self._apply_diff({\"added\": [cell], \"cellCount\": len(self.cells)+1})\n",
    "    else: \n",
    "        update_(cell, source=source, execution_count=execution_count, outputs=outputs)\n",
    "        self._rebuild()"
   ]
  },
  {
   "cell_type": "code",
   "execution_count": 16,
   "id": "9ff3c039",
   "metadata": {
    "brd": {
     "id": "e0fe7c10-1746-47e2-93a4-3ad37e3cbb1d"
    }
   },
   "outputs": [],
   "source": [
    "nb = NB()\n",
    "nb.update(cell_id='abc', source='print(1)')  # type: ignore\n",
    "test_eq(nb[0].source, 'print(1)')"
   ]
  },
  {
   "cell_type": "code",
   "execution_count": 17,
   "id": "761848ce",
   "metadata": {
    "brd": {
     "id": "dd4d2590-ebb6-44a2-9493-899c2c98acfe"
    }
   },
   "outputs": [],
   "source": [
    "#| exporti\n",
    "\n",
    "shell = get_ipython()\n",
    "assert shell is not None\n",
    "\n",
    "def _get_outputs(exec_result):\n",
    "    outputs = []\n",
    "    if exec_result and exec_result.result is not None:\n",
    "        format_dict, md_dict = shell.display_formatter.format(exec_result.result)  # type: ignore\n",
    "        if format_dict: outputs.append(NBOutput(dict(\n",
    "            output_type='execute_result',\n",
    "            execution_count=exec_result.execution_count,\n",
    "            data=format_dict,\n",
    "            metadata=md_dict,\n",
    "        )))\n",
    "    return outputs"
   ]
  },
  {
   "cell_type": "code",
   "execution_count": 18,
   "id": "bcdadc64",
   "metadata": {
    "brd": {
     "id": "fde11c49-3391-4a4c-8c3e-0fb712b6907a"
    }
   },
   "outputs": [],
   "source": [
    "def _update_cell(cell_id, source=None, exec_result=None):\n",
    "    upd = {'execution_count': exec_result.execution_count} if exec_result else {}\n",
    "    if source is not None: upd['source'] = source\n",
    "    __nb__.update(cell_id, **upd, outputs=_get_outputs(exec_result))  # type: ignore"
   ]
  },
  {
   "cell_type": "markdown",
   "id": "28a2e44d",
   "metadata": {},
   "source": [
    "# CellExecInfo\n",
    "> IPython cell execution info and \\_\\_nb\\_\\_ updater.\n",
    "\n",
    "Simple IPython event callback that captures cell id and source code of last run cell.\n",
    "\n",
    "**NOTE**: in this notebook, \\_\\_nb__ is *NOT* a valid notebook state yet. It doesn't reflect markdown cells or deleted cells or cells order. For a valid, updated in real-time, `nbformat` compliant notebook state (`NB`), see [21_nb_state.ipynb](21_nb_state.ipynb)."
   ]
  },
  {
   "cell_type": "code",
   "execution_count": 19,
   "id": "b0e6833c",
   "metadata": {
    "brd": {
     "id": "81f96168-6012-4b48-81f7-09d199701e76"
    }
   },
   "outputs": [],
   "source": [
    "__cellinfo__: AD\n",
    "__lastcellinfo__: AD"
   ]
  },
  {
   "cell_type": "code",
   "execution_count": 20,
   "id": "4fbaca6b",
   "metadata": {
    "brd": {
     "id": "d7301792-b8c5-4fae-bd26-9390c4c5edd5"
    }
   },
   "outputs": [],
   "source": [
    "#| export\n",
    "\n",
    "class CellExecInfo:\n",
    "    def __init__(self, start=False): \n",
    "        self._evts, self._ns = get_ipython().events, get_ipython().user_ns  # type: ignore\n",
    "        # self._active, self._nb, self._invscode = False, self._ns['__nb__'], '__vsc_ipynb_file__' in self._ns\n",
    "        self._active, self._invscode = False, '__vsc_ipynb_file__' in self._ns\n",
    "        if start: self.start()\n",
    "    @property\n",
    "    def active(self): return self._active\n",
    "    def start(self):\n",
    "        if not self._active: \n",
    "            self._evts.register('pre_run_cell', self.pre_run_cell)\n",
    "            self._ns.update(__cellinfo__=AD(), __lastcellinfo__=None)\n",
    "    def stop(self):\n",
    "        if self._active:\n",
    "            self._active = False\n",
    "            self._evts.unregister('pre_run_cell', self.pre_run_cell)\n",
    "            self._evts.unregister('post_run_cell', self.post_run_cell)\n",
    "            self._ns['__cellinfo__'] = None\n",
    "            self._ns['__lastcellinfo__'] = None\n",
    "    def __del__(self): self.stop()\n",
    "\n",
    "    def _getid(self, info):\n",
    "        if not (id := info.cell_id): return unqid()\n",
    "        return _cellid_from(id) if self._invscode else id\n",
    "    def pre_run_cell(self, info): \n",
    "        if not self._active: \n",
    "            self._evts.register('post_run_cell', self.post_run_cell)\n",
    "            self._active = True\n",
    "        try:\n",
    "            if not info.store_history: return  # debugpy usually\n",
    "            self._ns['__lastcellinfo__'] = self._ns['__cellinfo__']\n",
    "            self._ns['__cellinfo__'] = info =AD(source=info.raw_cell, cell_id=self._getid(info), \n",
    "                                                exec_result=AD(result=None))\n",
    "            _update_cell(info.cell_id, source=info.source)\n",
    "        except Exception as e:\n",
    "            print(e)\n",
    "    def post_run_cell(self, result):\n",
    "        if not (self._active and result.info.store_history): return\n",
    "        try:\n",
    "            if info := self._ns['__cellinfo__']:\n",
    "                info.exec_result.update(\n",
    "                    execution_count=result.execution_count,\n",
    "                    error_before_exec=result.error_before_exec,\n",
    "                    error_in_exec=result.error_in_exec,\n",
    "                )\n",
    "                # info.exec_result.result may have been updated elsewhere (capture...), so don't overwrite it\n",
    "                if result.result is not None and info.exec_result.result is None:\n",
    "                    info.exec_result.result = result.result\n",
    "                _update_cell(info.cell_id, exec_result=result)\n",
    "        except Exception as e:\n",
    "            print(e)\n",
    "\n",
    "\n",
    "def get_info() -> AD: return get_ipython().user_ns['__cellinfo__']  # type: ignore\n",
    "def get_lastinfo() -> AD: return get_ipython().user_ns['__lastcellinfo__']  # type: ignore\n",
    "\n",
    "__csi__ = None\n",
    "def get_csi(start=False):\n",
    "    global __csi__\n",
    "    if __csi__ is None: __csi__ = CellExecInfo()\n",
    "    if start: __csi__.start()\n",
    "    return __csi__"
   ]
  },
  {
   "cell_type": "code",
   "execution_count": 21,
   "id": "80c241e3",
   "metadata": {
    "brd": {
     "id": "4aa1a24e-0ee5-4a32-8515-c1e3544a0b4c"
    }
   },
   "outputs": [],
   "source": [
    "try: csi.stop()  # type: ignore\n",
    "except Exception: pass\n",
    "\n",
    "csi = get_csi(True)\n",
    "test_eq(__cellinfo__, {})\n",
    "test_eq(__lastcellinfo__, None)"
   ]
  },
  {
   "cell_type": "code",
   "execution_count": 22,
   "id": "06e3c71b",
   "metadata": {
    "brd": {
     "id": "229d5f32-b71d-418d-9174-2e093d180caf"
    }
   },
   "outputs": [
    {
     "data": {
      "text/html": [
       "<style>details ul { list-style-type:none; list-style-position: outside; padding-inline-start: 22px; margin: 0; } details .string { color: #24837b; } details .string::before { content: \"'\"; } details .string::after { content: \"'\"; } details .number { color: #ad8301; } details .true { color: blue; } details .false { color: red; } details .null { color: gray; } span.n { color: darkgrey; } </style>\n",
       "<details open><summary>summary\n",
       "</summary>  <ul>\n",
       "    <li>\n",
       "<span><span class=\"n\">source</span>: <span class=\"v string\">show(DetailsJSON(__cellinfo__))\n",
       "test_eq(__cellinfo__.source[:29], &quot;show(DetailsJSON(__cellinfo__&quot;)\n",
       "show(DetailsJSON(__nb__[0]))\n",
       "17</span></span>    </li>\n",
       "    <li>\n",
       "<span><span class=\"n\">cell_id</span>: <span class=\"v string\">X40sZmlsZQ==</span></span>    </li>\n",
       "<details><summary>exec_result\n",
       "</summary>      <ul>\n",
       "        <li>\n",
       "<span><span class=\"n\">result</span>: <span class=\"v null\">None</span></span>        </li>\n",
       "      </ul>\n",
       "</details>  </ul>\n",
       "</details>"
      ],
      "text/plain": [
       "<IPython.core.display.HTML object>"
      ]
     },
     "metadata": {},
     "output_type": "display_data"
    },
    {
     "data": {
      "text/html": [
       "<style>details ul { list-style-type:none; list-style-position: outside; padding-inline-start: 22px; margin: 0; } details .string { color: #24837b; } details .string::before { content: \"'\"; } details .string::after { content: \"'\"; } details .number { color: #ad8301; } details .true { color: blue; } details .false { color: red; } details .null { color: gray; } span.n { color: darkgrey; } </style>\n",
       "<details open><summary>summary\n",
       "</summary>  <ul>\n",
       "    <li>\n",
       "<span><span class=\"n\">idx</span>: <span class=\"v number\">0</span></span>    </li>\n",
       "    <li>\n",
       "<span><span class=\"n\">source</span>: <span class=\"v string\">show(DetailsJSON(__cellinfo__))\n",
       "test_eq(__cellinfo__.source[:29], &quot;show(DetailsJSON(__cellinfo__&quot;)\n",
       "show(DetailsJSON(__nb__[0]))\n",
       "17</span></span>    </li>\n",
       "    <li>\n",
       "<span><span class=\"n\">id</span>: <span class=\"v string\">X40sZmlsZQ==</span></span>    </li>\n",
       "    <li>\n",
       "<span><span class=\"n\">cell_type</span>: <span class=\"v string\">code</span></span>    </li>\n",
       "<details><summary>outputs\n",
       "</summary>      <ul></ul>\n",
       "</details>  </ul>\n",
       "</details>"
      ],
      "text/plain": [
       "<IPython.core.display.HTML object>"
      ]
     },
     "metadata": {},
     "output_type": "display_data"
    },
    {
     "data": {
      "text/plain": [
       "17"
      ]
     },
     "execution_count": 22,
     "metadata": {},
     "output_type": "execute_result"
    }
   ],
   "source": [
    "show(DetailsJSON(__cellinfo__))\n",
    "test_eq(__cellinfo__.source[:29], \"show(DetailsJSON(__cellinfo__\")\n",
    "show(DetailsJSON(__nb__[0]))\n",
    "17"
   ]
  },
  {
   "cell_type": "code",
   "execution_count": 23,
   "id": "9b09061e",
   "metadata": {
    "brd": {
     "id": "561ff830-af7a-4eb4-b851-3268c6ca54e0"
    }
   },
   "outputs": [
    {
     "data": {
      "text/html": [
       "<style>details ul { list-style-type:none; list-style-position: outside; padding-inline-start: 22px; margin: 0; } details .string { color: #24837b; } details .string::before { content: \"'\"; } details .string::after { content: \"'\"; } details .number { color: #ad8301; } details .true { color: blue; } details .false { color: red; } details .null { color: gray; } span.n { color: darkgrey; } </style>\n",
       "<details open><summary>summary\n",
       "</summary>  <ul>\n",
       "    <li>\n",
       "<span><span class=\"n\">source</span>: <span class=\"v string\">show(DetailsJSON(__cellinfo__))\n",
       "test_eq(__cellinfo__.source[:29], &quot;show(DetailsJSON(__cellinfo__&quot;)\n",
       "show(DetailsJSON(__nb__[0]))\n",
       "17</span></span>    </li>\n",
       "    <li>\n",
       "<span><span class=\"n\">cell_id</span>: <span class=\"v string\">X40sZmlsZQ==</span></span>    </li>\n",
       "<details open><summary>exec_result\n",
       "</summary>      <ul>\n",
       "        <li>\n",
       "<span><span class=\"n\">result</span>: <span class=\"v number\">17</span></span>        </li>\n",
       "        <li>\n",
       "<span><span class=\"n\">execution_count</span>: <span class=\"v number\">22</span></span>        </li>\n",
       "        <li>\n",
       "<span><span class=\"n\">error_before_exec</span>: <span class=\"v null\">None</span></span>        </li>\n",
       "        <li>\n",
       "<span><span class=\"n\">error_in_exec</span>: <span class=\"v null\">None</span></span>        </li>\n",
       "      </ul>\n",
       "</details>  </ul>\n",
       "</details>"
      ],
      "text/plain": [
       "<IPython.core.display.HTML object>"
      ]
     },
     "metadata": {},
     "output_type": "display_data"
    },
    {
     "data": {
      "text/html": [
       "<style>details ul { list-style-type:none; list-style-position: outside; padding-inline-start: 22px; margin: 0; } details .string { color: #24837b; } details .string::before { content: \"'\"; } details .string::after { content: \"'\"; } details .number { color: #ad8301; } details .true { color: blue; } details .false { color: red; } details .null { color: gray; } span.n { color: darkgrey; } </style>\n",
       "<details open><summary>summary\n",
       "</summary>  <ul>\n",
       "    <li>\n",
       "<span><span class=\"n\">idx</span>: <span class=\"v number\">0</span></span>    </li>\n",
       "    <li>\n",
       "<span><span class=\"n\">source</span>: <span class=\"v string\">show(DetailsJSON(__cellinfo__))\n",
       "test_eq(__cellinfo__.source[:29], &quot;show(DetailsJSON(__cellinfo__&quot;)\n",
       "show(DetailsJSON(__nb__[0]))\n",
       "17</span></span>    </li>\n",
       "    <li>\n",
       "<span><span class=\"n\">id</span>: <span class=\"v string\">X40sZmlsZQ==</span></span>    </li>\n",
       "    <li>\n",
       "<span><span class=\"n\">cell_type</span>: <span class=\"v string\">code</span></span>    </li>\n",
       "<details open><summary>outputs\n",
       "</summary>      <ul>\n",
       "<details open><summary>0\n",
       "</summary>          <ul>\n",
       "            <li>\n",
       "<span><span class=\"n\">output_type</span>: <span class=\"v string\">execute_result</span></span>            </li>\n",
       "            <li>\n",
       "<span><span class=\"n\">execution_count</span>: <span class=\"v number\">22</span></span>            </li>\n",
       "<details open><summary>data\n",
       "</summary>              <ul>\n",
       "                <li>\n",
       "<span><span class=\"n\">text/plain</span>: <span class=\"v string\">17</span></span>                </li>\n",
       "              </ul>\n",
       "</details><details open><summary>metadata\n",
       "</summary>              <ul></ul>\n",
       "</details>          </ul>\n",
       "</details>      </ul>\n",
       "</details>    <li>\n",
       "<span><span class=\"n\">execution_count</span>: <span class=\"v number\">22</span></span>    </li>\n",
       "  </ul>\n",
       "</details>"
      ],
      "text/plain": [
       "<IPython.core.display.HTML object>"
      ]
     },
     "metadata": {},
     "output_type": "display_data"
    }
   ],
   "source": [
    "show(DetailsJSON(__lastcellinfo__, openall=True))\n",
    "show(__nb__[__lastcellinfo__.cell_id])"
   ]
  },
  {
   "cell_type": "markdown",
   "id": "e03711c1",
   "metadata": {},
   "source": [
    "`__cellinfo__` stores information about **current** cell execution, `interactiveshell.ExecutionInfo`. `__cellinfo__.exec_result` stores the result of the cell execution, `interactiveshell.ExecutionResult`, only valid **after** the cell run."
   ]
  },
  {
   "cell_type": "code",
   "execution_count": 24,
   "id": "a0a1b1c3",
   "metadata": {
    "brd": {
     "id": "766f9127-241a-406f-ad71-b35905ce2e61"
    }
   },
   "outputs": [
    {
     "data": {
      "text/plain": [
       "1334979731030279006"
      ]
     },
     "execution_count": 24,
     "metadata": {},
     "output_type": "execute_result"
    }
   ],
   "source": [
    "(ri := random.randint(0, sys.maxsize))"
   ]
  },
  {
   "cell_type": "code",
   "execution_count": 25,
   "id": "6353641c",
   "metadata": {
    "brd": {
     "id": "d69c3710-db20-4d79-a87e-f733529b031f"
    }
   },
   "outputs": [
    {
     "data": {
      "text/html": [
       "<style>details ul { list-style-type:none; list-style-position: outside; padding-inline-start: 22px; margin: 0; } details .string { color: #24837b; } details .string::before { content: \"'\"; } details .string::after { content: \"'\"; } details .number { color: #ad8301; } details .true { color: blue; } details .false { color: red; } details .null { color: gray; } span.n { color: darkgrey; } </style>\n",
       "<details open><summary>summary\n",
       "</summary>  <ul>\n",
       "    <li>\n",
       "<span><span class=\"n\">source</span>: <span class=\"v string\">show(DetailsJSON(__cellinfo__))\n",
       "show(DetailsJSON(__lastcellinfo__, openall=True))\n",
       "show(__nb__[__lastcellinfo__.cell_id])\n",
       "test_eq(__lastcelli…</span></span>    </li>\n",
       "    <li>\n",
       "<span><span class=\"n\">cell_id</span>: <span class=\"v string\">X44sZmlsZQ==</span></span>    </li>\n",
       "<details><summary>exec_result\n",
       "</summary>      <ul>\n",
       "        <li>\n",
       "<span><span class=\"n\">result</span>: <span class=\"v null\">None</span></span>        </li>\n",
       "      </ul>\n",
       "</details>  </ul>\n",
       "</details>"
      ],
      "text/plain": [
       "<IPython.core.display.HTML object>"
      ]
     },
     "metadata": {},
     "output_type": "display_data"
    },
    {
     "data": {
      "text/html": [
       "<style>details ul { list-style-type:none; list-style-position: outside; padding-inline-start: 22px; margin: 0; } details .string { color: #24837b; } details .string::before { content: \"'\"; } details .string::after { content: \"'\"; } details .number { color: #ad8301; } details .true { color: blue; } details .false { color: red; } details .null { color: gray; } span.n { color: darkgrey; } </style>\n",
       "<details open><summary>summary\n",
       "</summary>  <ul>\n",
       "    <li>\n",
       "<span><span class=\"n\">source</span>: <span class=\"v string\">(ri := random.randint(0, sys.maxsize))</span></span>    </li>\n",
       "    <li>\n",
       "<span><span class=\"n\">cell_id</span>: <span class=\"v string\">X43sZmlsZQ==</span></span>    </li>\n",
       "<details open><summary>exec_result\n",
       "</summary>      <ul>\n",
       "        <li>\n",
       "<span><span class=\"n\">result</span>: <span class=\"v number\">1334979731030279006</span></span>        </li>\n",
       "        <li>\n",
       "<span><span class=\"n\">execution_count</span>: <span class=\"v number\">24</span></span>        </li>\n",
       "        <li>\n",
       "<span><span class=\"n\">error_before_exec</span>: <span class=\"v null\">None</span></span>        </li>\n",
       "        <li>\n",
       "<span><span class=\"n\">error_in_exec</span>: <span class=\"v null\">None</span></span>        </li>\n",
       "      </ul>\n",
       "</details>  </ul>\n",
       "</details>"
      ],
      "text/plain": [
       "<IPython.core.display.HTML object>"
      ]
     },
     "metadata": {},
     "output_type": "display_data"
    },
    {
     "data": {
      "text/html": [
       "<style>details ul { list-style-type:none; list-style-position: outside; padding-inline-start: 22px; margin: 0; } details .string { color: #24837b; } details .string::before { content: \"'\"; } details .string::after { content: \"'\"; } details .number { color: #ad8301; } details .true { color: blue; } details .false { color: red; } details .null { color: gray; } span.n { color: darkgrey; } </style>\n",
       "<details open><summary>summary\n",
       "</summary>  <ul>\n",
       "    <li>\n",
       "<span><span class=\"n\">idx</span>: <span class=\"v number\">2</span></span>    </li>\n",
       "    <li>\n",
       "<span><span class=\"n\">source</span>: <span class=\"v string\">(ri := random.randint(0, sys.maxsize))</span></span>    </li>\n",
       "    <li>\n",
       "<span><span class=\"n\">id</span>: <span class=\"v string\">X43sZmlsZQ==</span></span>    </li>\n",
       "    <li>\n",
       "<span><span class=\"n\">cell_type</span>: <span class=\"v string\">code</span></span>    </li>\n",
       "<details open><summary>outputs\n",
       "</summary>      <ul>\n",
       "<details open><summary>0\n",
       "</summary>          <ul>\n",
       "            <li>\n",
       "<span><span class=\"n\">output_type</span>: <span class=\"v string\">execute_result</span></span>            </li>\n",
       "            <li>\n",
       "<span><span class=\"n\">execution_count</span>: <span class=\"v number\">24</span></span>            </li>\n",
       "<details open><summary>data\n",
       "</summary>              <ul>\n",
       "                <li>\n",
       "<span><span class=\"n\">text/plain</span>: <span class=\"v string\">1334979731030279006</span></span>                </li>\n",
       "              </ul>\n",
       "</details><details open><summary>metadata\n",
       "</summary>              <ul></ul>\n",
       "</details>          </ul>\n",
       "</details>      </ul>\n",
       "</details>    <li>\n",
       "<span><span class=\"n\">execution_count</span>: <span class=\"v number\">24</span></span>    </li>\n",
       "  </ul>\n",
       "</details>"
      ],
      "text/plain": [
       "<IPython.core.display.HTML object>"
      ]
     },
     "metadata": {},
     "output_type": "display_data"
    }
   ],
   "source": [
    "show(DetailsJSON(__cellinfo__))\n",
    "show(DetailsJSON(__lastcellinfo__, openall=True))\n",
    "show(__nb__[__lastcellinfo__.cell_id])\n",
    "test_eq(__lastcellinfo__.source, \"(ri := random.randint(0, sys.maxsize))\")"
   ]
  },
  {
   "cell_type": "code",
   "execution_count": 26,
   "id": "74b00db6",
   "metadata": {
    "brd": {
     "id": "6fd59f34-bc7b-4c97-8bd3-86425c8409f8"
    }
   },
   "outputs": [
    {
     "name": "stdout",
     "output_type": "stream",
     "text": [
      "X45sZmlsZQ==\n"
     ]
    },
    {
     "data": {
      "text/plain": [
       "26"
      ]
     },
     "execution_count": 26,
     "metadata": {},
     "output_type": "execute_result"
    }
   ],
   "source": [
    "print(__cellinfo__.cell_id)\n",
    "test_eq(__cellinfo__.source[:27], \"print(__cellinfo__.cell_id)\")\n",
    "test_eq(In[-1][:27], \"print(__cellinfo__.cell_id)\")\n",
    "(exe_cnt := len(In)-1)"
   ]
  },
  {
   "cell_type": "code",
   "execution_count": 27,
   "id": "fcbb3e20",
   "metadata": {
    "brd": {
     "id": "0d093395-d6b4-4a08-bba6-4cfee4775a48"
    }
   },
   "outputs": [
    {
     "name": "stdout",
     "output_type": "stream",
     "text": [
      "26 26\n"
     ]
    }
   ],
   "source": [
    "print(_, __lastcellinfo__.exec_result.result)\n",
    "test_eq(_, __lastcellinfo__.exec_result.result)\n",
    "test_eq(__lastcellinfo__.exec_result.result, Out[exe_cnt])"
   ]
  },
  {
   "cell_type": "code",
   "execution_count": 28,
   "id": "55c15296",
   "metadata": {
    "brd": {
     "id": "7583a413-8529-444a-a955-b7e331002787"
    }
   },
   "outputs": [
    {
     "data": {
      "text/plain": [
       "'abc'"
      ]
     },
     "metadata": {},
     "output_type": "display_data"
    }
   ],
   "source": [
    "display('abc')"
   ]
  },
  {
   "cell_type": "code",
   "execution_count": 29,
   "id": "1c7bc297",
   "metadata": {
    "brd": {
     "id": "5271b928-c975-438b-a330-a78c620712fe"
    }
   },
   "outputs": [
    {
     "name": "stdout",
     "output_type": "stream",
     "text": [
      "26 None\n"
     ]
    }
   ],
   "source": [
    "print(_, __lastcellinfo__.exec_result.result)\n",
    "test_eq(None, __lastcellinfo__.exec_result.result)"
   ]
  },
  {
   "cell_type": "code",
   "execution_count": 30,
   "id": "fce566a2",
   "metadata": {
    "brd": {
     "id": "ab56c47d-01b4-4f47-babd-81c375b1121d"
    }
   },
   "outputs": [
    {
     "name": "stdout",
     "output_type": "stream",
     "text": [
      "13\n"
     ]
    },
    {
     "data": {
      "text/plain": [
       "23"
      ]
     },
     "execution_count": 30,
     "metadata": {},
     "output_type": "execute_result"
    }
   ],
   "source": [
    "print('13')\n",
    "23"
   ]
  },
  {
   "cell_type": "code",
   "execution_count": 31,
   "id": "ca549c63",
   "metadata": {
    "brd": {
     "id": "1b03634a-da21-4c6c-bed1-2fbb2637d1b4"
    }
   },
   "outputs": [
    {
     "name": "stdout",
     "output_type": "stream",
     "text": [
      "23 23\n"
     ]
    }
   ],
   "source": [
    "print(_, __lastcellinfo__.exec_result.result)\n",
    "test_eq(23, __lastcellinfo__.exec_result.result)"
   ]
  },
  {
   "cell_type": "code",
   "execution_count": 32,
   "id": "adc780cd",
   "metadata": {
    "brd": {
     "id": "d7bb4359-9515-4a01-9035-3c5342dc6bde",
     "renderer": false
    }
   },
   "outputs": [],
   "source": [
    "csi.stop()\n",
    "test_is(__cellinfo__, None)\n",
    "test_is(__lastcellinfo__, None)"
   ]
  },
  {
   "cell_type": "markdown",
   "id": "ff866d64",
   "metadata": {},
   "source": [
    "`__cellinfo__.source` corresponds to `In[-1]` or `_ih[-1]`.  \n",
    "`__lastcellinfo__.exec_result.result` corresponds to `_` or `Out[__lastcellinfo__.exec_result.execution_count]`.\n",
    "\n",
    "~~But we don't want the result of the last cell, we want the result of the current cell. For that, keep reading.~~\n",
    "\n",
    "**Caveat**: the front-end is not required to send the cell id. See [nbformat Cell ids](https://nbformat.readthedocs.io/en/latest/format_description.html#cell-ids), [run_cell](https://ipython.readthedocs.io/en/stable/api/generated/IPython.core.interactiveshell.html#IPython.core.interactiveshell.InteractiveShell.run_cell).  \n",
    "`VSCode` reports nbformat of newly created notebook as 4.4, but it does send the cell id, though not well formed.  \n",
    "`nbclassic` does not set the cell ID even if the reported nbformat version is 4.5. Bridget creates one in this case."
   ]
  },
  {
   "cell_type": "code",
   "execution_count": 33,
   "id": "ea61c58b",
   "metadata": {
    "brd": {
     "id": "4ca9a433-fd10-4bc1-b419-2848b2b8b17f"
    }
   },
   "outputs": [
    {
     "data": {
      "text/html": [
       "<style>details ul { list-style-type:none; list-style-position: outside; padding-inline-start: 22px; margin: 0; } details .string { color: #24837b; } details .string::before { content: \"'\"; } details .string::after { content: \"'\"; } details .number { color: #ad8301; } details .true { color: blue; } details .false { color: red; } details .null { color: gray; } span.n { color: darkgrey; } </style>\n",
       "<details open><summary>NBCell@0\n",
       "</summary>  <ul>\n",
       "    <li>\n",
       "<span><span class=\"n\">idx</span>: <span class=\"v number\">0</span></span>    </li>\n",
       "    <li>\n",
       "<span><span class=\"n\">source</span>: <span class=\"v string\">show(DetailsJSON(__cellinfo__))\n",
       "test_eq(__cellinfo__.source[:29], &quot;show(DetailsJSON(__cellinfo__&quot;)\n",
       "show(DetailsJSON(__nb__[0]))\n",
       "17</span></span>    </li>\n",
       "    <li>\n",
       "<span><span class=\"n\">id</span>: <span class=\"v string\">X40sZmlsZQ==</span></span>    </li>\n",
       "    <li>\n",
       "<span><span class=\"n\">cell_type</span>: <span class=\"v string\">code</span></span>    </li>\n",
       "<details open><summary>outputs\n",
       "</summary>      <ul>\n",
       "<details open><summary>0\n",
       "</summary>          <ul>\n",
       "            <li>\n",
       "<span><span class=\"n\">output_type</span>: <span class=\"v string\">execute_result</span></span>            </li>\n",
       "            <li>\n",
       "<span><span class=\"n\">execution_count</span>: <span class=\"v number\">22</span></span>            </li>\n",
       "<details open><summary>data\n",
       "</summary>              <ul>\n",
       "                <li>\n",
       "<span><span class=\"n\">text/plain</span>: <span class=\"v string\">17</span></span>                </li>\n",
       "              </ul>\n",
       "</details>            <li>\n",
       "<span><span class=\"n\">metadata</span>: <span class=\"v \">{}</span></span>            </li>\n",
       "          </ul>\n",
       "</details>      </ul>\n",
       "</details>    <li>\n",
       "<span><span class=\"n\">execution_count</span>: <span class=\"v number\">22</span></span>    </li>\n",
       "  </ul>\n",
       "</details>"
      ],
      "text/markdown": [
       "> code\n",
       "\n",
       "```json\n",
       "{\n",
       "  'idx': 0,\n",
       "  'source': 'show(DetailsJSON(__cellinfo__))\\ntest_eq(__cellinfo__.source[:29], \"show(DetailsJSON(__cellinfo__\")\\nshow(DetailsJSON(__nb__[0]))\\n17',\n",
       "  'id': 'X40sZmlsZQ==',\n",
       "  'cell_type': 'code',\n",
       "  'outputs': [{'output_type': 'execute_result', 'execution_count': 22, 'data': {'text/plain': '17'}, 'metadata': {}}],\n",
       "  'execution_count': 22\n",
       "}\n",
       "```"
      ],
      "text/plain": [
       "{'idx': 0,\n",
       " 'source': 'show(DetailsJSON(__cellinfo__))\\ntest_eq(__cellinfo__.source[:29], \"show(DetailsJSON(__cellinfo__\")\\nshow(DetailsJSON(__nb__[0]))\\n17',\n",
       " 'id': 'X40sZmlsZQ==',\n",
       " 'cell_type': 'code',\n",
       " 'outputs': [{'output_type': 'execute_result',\n",
       "   'execution_count': 22,\n",
       "   'data': {'text/plain': '17'},\n",
       "   'metadata': {}}],\n",
       " 'execution_count': 22}"
      ]
     },
     "metadata": {},
     "output_type": "display_data"
    },
    {
     "data": {
      "text/html": [
       "<style>details ul { list-style-type:none; list-style-position: outside; padding-inline-start: 22px; margin: 0; } details .string { color: #24837b; } details .string::before { content: \"'\"; } details .string::after { content: \"'\"; } details .number { color: #ad8301; } details .true { color: blue; } details .false { color: red; } details .null { color: gray; } span.n { color: darkgrey; } </style>\n",
       "<details open><summary>NBCell@1\n",
       "</summary>  <ul>\n",
       "    <li>\n",
       "<span><span class=\"n\">idx</span>: <span class=\"v number\">1</span></span>    </li>\n",
       "    <li>\n",
       "<span><span class=\"n\">source</span>: <span class=\"v string\">show(DetailsJSON(__lastcellinfo__, openall=True))\n",
       "show(__nb__[__lastcellinfo__.cell_id])</span></span>    </li>\n",
       "    <li>\n",
       "<span><span class=\"n\">id</span>: <span class=\"v string\">X41sZmlsZQ==</span></span>    </li>\n",
       "    <li>\n",
       "<span><span class=\"n\">cell_type</span>: <span class=\"v string\">code</span></span>    </li>\n",
       "<details open><summary>outputs\n",
       "</summary>      <ul></ul>\n",
       "</details>    <li>\n",
       "<span><span class=\"n\">execution_count</span>: <span class=\"v number\">23</span></span>    </li>\n",
       "  </ul>\n",
       "</details>"
      ],
      "text/markdown": [
       "> code\n",
       "\n",
       "```json\n",
       "{\n",
       "  'idx': 1,\n",
       "  'source': 'show(DetailsJSON(__lastcellinfo__, openall=True))\\nshow(__nb__[__lastcellinfo__.cell_id])',\n",
       "  'id': 'X41sZmlsZQ==',\n",
       "  'cell_type': 'code',\n",
       "  'outputs': [],\n",
       "  'execution_count': 23\n",
       "}\n",
       "```"
      ],
      "text/plain": [
       "{'idx': 1,\n",
       " 'source': 'show(DetailsJSON(__lastcellinfo__, openall=True))\\nshow(__nb__[__lastcellinfo__.cell_id])',\n",
       " 'id': 'X41sZmlsZQ==',\n",
       " 'cell_type': 'code',\n",
       " 'outputs': [],\n",
       " 'execution_count': 23}"
      ]
     },
     "metadata": {},
     "output_type": "display_data"
    },
    {
     "data": {
      "text/html": [
       "<style>details ul { list-style-type:none; list-style-position: outside; padding-inline-start: 22px; margin: 0; } details .string { color: #24837b; } details .string::before { content: \"'\"; } details .string::after { content: \"'\"; } details .number { color: #ad8301; } details .true { color: blue; } details .false { color: red; } details .null { color: gray; } span.n { color: darkgrey; } </style>\n",
       "<details open><summary>NBCell@2\n",
       "</summary>  <ul>\n",
       "    <li>\n",
       "<span><span class=\"n\">idx</span>: <span class=\"v number\">2</span></span>    </li>\n",
       "    <li>\n",
       "<span><span class=\"n\">source</span>: <span class=\"v string\">(ri := random.randint(0, sys.maxsize))</span></span>    </li>\n",
       "    <li>\n",
       "<span><span class=\"n\">id</span>: <span class=\"v string\">X43sZmlsZQ==</span></span>    </li>\n",
       "    <li>\n",
       "<span><span class=\"n\">cell_type</span>: <span class=\"v string\">code</span></span>    </li>\n",
       "<details open><summary>outputs\n",
       "</summary>      <ul>\n",
       "<details open><summary>0\n",
       "</summary>          <ul>\n",
       "            <li>\n",
       "<span><span class=\"n\">output_type</span>: <span class=\"v string\">execute_result</span></span>            </li>\n",
       "            <li>\n",
       "<span><span class=\"n\">execution_count</span>: <span class=\"v number\">24</span></span>            </li>\n",
       "<details open><summary>data\n",
       "</summary>              <ul>\n",
       "                <li>\n",
       "<span><span class=\"n\">text/plain</span>: <span class=\"v string\">1334979731030279006</span></span>                </li>\n",
       "              </ul>\n",
       "</details>            <li>\n",
       "<span><span class=\"n\">metadata</span>: <span class=\"v \">{}</span></span>            </li>\n",
       "          </ul>\n",
       "</details>      </ul>\n",
       "</details>    <li>\n",
       "<span><span class=\"n\">execution_count</span>: <span class=\"v number\">24</span></span>    </li>\n",
       "  </ul>\n",
       "</details>"
      ],
      "text/markdown": [
       "> code\n",
       "\n",
       "```json\n",
       "{\n",
       "  'idx': 2,\n",
       "  'source': '(ri := random.randint(0, sys.maxsize))',\n",
       "  'id': 'X43sZmlsZQ==',\n",
       "  'cell_type': 'code',\n",
       "  'outputs': [\n",
       "    {\n",
       "      'output_type': 'execute_result',\n",
       "      'execution_count': 24,\n",
       "      'data': {'text/plain': '1334979731030279006'},\n",
       "      'metadata': {}\n",
       "    }\n",
       "  ],\n",
       "  'execution_count': 24\n",
       "}\n",
       "```"
      ],
      "text/plain": [
       "{'idx': 2,\n",
       " 'source': '(ri := random.randint(0, sys.maxsize))',\n",
       " 'id': 'X43sZmlsZQ==',\n",
       " 'cell_type': 'code',\n",
       " 'outputs': [{'output_type': 'execute_result',\n",
       "   'execution_count': 24,\n",
       "   'data': {'text/plain': '1334979731030279006'},\n",
       "   'metadata': {}}],\n",
       " 'execution_count': 24}"
      ]
     },
     "metadata": {},
     "output_type": "display_data"
    },
    {
     "data": {
      "text/html": [
       "<style>details ul { list-style-type:none; list-style-position: outside; padding-inline-start: 22px; margin: 0; } details .string { color: #24837b; } details .string::before { content: \"'\"; } details .string::after { content: \"'\"; } details .number { color: #ad8301; } details .true { color: blue; } details .false { color: red; } details .null { color: gray; } span.n { color: darkgrey; } </style>\n",
       "<details open><summary>NBCell@3\n",
       "</summary>  <ul>\n",
       "    <li>\n",
       "<span><span class=\"n\">idx</span>: <span class=\"v number\">3</span></span>    </li>\n",
       "    <li>\n",
       "<span><span class=\"n\">source</span>: <span class=\"v string\">show(DetailsJSON(__cellinfo__))\n",
       "show(DetailsJSON(__lastcellinfo__, openall=True))\n",
       "show(__nb__[__lastcellinfo__.cell_id])\n",
       "test_eq(__lastcelli…</span></span>    </li>\n",
       "    <li>\n",
       "<span><span class=\"n\">id</span>: <span class=\"v string\">X44sZmlsZQ==</span></span>    </li>\n",
       "    <li>\n",
       "<span><span class=\"n\">cell_type</span>: <span class=\"v string\">code</span></span>    </li>\n",
       "<details open><summary>outputs\n",
       "</summary>      <ul></ul>\n",
       "</details>    <li>\n",
       "<span><span class=\"n\">execution_count</span>: <span class=\"v number\">25</span></span>    </li>\n",
       "  </ul>\n",
       "</details>"
      ],
      "text/markdown": [
       "> code\n",
       "\n",
       "```json\n",
       "{\n",
       "  'idx': 3,\n",
       "  'source': 'show(DetailsJSON(__cellinfo__))\\nshow(DetailsJSON(__lastcellinfo__, openall=True))\\nshow(__nb__[__lastcellinfo__.cell_id])\\ntest_eq(__lastcellinfo__.source, \"(ri := random.randint(0, sys.maxsize))\")',\n",
       "  'id': 'X44sZmlsZQ==',\n",
       "  'cell_type': 'code',\n",
       "  'outputs': [],\n",
       "  'execution_count': 25\n",
       "}\n",
       "```"
      ],
      "text/plain": [
       "{'idx': 3,\n",
       " 'source': 'show(DetailsJSON(__cellinfo__))\\nshow(DetailsJSON(__lastcellinfo__, openall=True))\\nshow(__nb__[__lastcellinfo__.cell_id])\\ntest_eq(__lastcellinfo__.source, \"(ri := random.randint(0, sys.maxsize))\")',\n",
       " 'id': 'X44sZmlsZQ==',\n",
       " 'cell_type': 'code',\n",
       " 'outputs': [],\n",
       " 'execution_count': 25}"
      ]
     },
     "metadata": {},
     "output_type": "display_data"
    },
    {
     "data": {
      "text/html": [
       "<style>details ul { list-style-type:none; list-style-position: outside; padding-inline-start: 22px; margin: 0; } details .string { color: #24837b; } details .string::before { content: \"'\"; } details .string::after { content: \"'\"; } details .number { color: #ad8301; } details .true { color: blue; } details .false { color: red; } details .null { color: gray; } span.n { color: darkgrey; } </style>\n",
       "<details open><summary>NBCell@4\n",
       "</summary>  <ul>\n",
       "    <li>\n",
       "<span><span class=\"n\">idx</span>: <span class=\"v number\">4</span></span>    </li>\n",
       "    <li>\n",
       "<span><span class=\"n\">source</span>: <span class=\"v string\">print(__cellinfo__.cell_id)\n",
       "test_eq(__cellinfo__.source[:27], &quot;print(__cellinfo__.cell_id)&quot;)\n",
       "test_eq(In[-1][:27], &quot;print(__cellinfo__.cell_i…</span></span>    </li>\n",
       "    <li>\n",
       "<span><span class=\"n\">id</span>: <span class=\"v string\">X45sZmlsZQ==</span></span>    </li>\n",
       "    <li>\n",
       "<span><span class=\"n\">cell_type</span>: <span class=\"v string\">code</span></span>    </li>\n",
       "<details open><summary>outputs\n",
       "</summary>      <ul>\n",
       "<details open><summary>0\n",
       "</summary>          <ul>\n",
       "            <li>\n",
       "<span><span class=\"n\">output_type</span>: <span class=\"v string\">execute_result</span></span>            </li>\n",
       "            <li>\n",
       "<span><span class=\"n\">execution_count</span>: <span class=\"v number\">26</span></span>            </li>\n",
       "<details open><summary>data\n",
       "</summary>              <ul>\n",
       "                <li>\n",
       "<span><span class=\"n\">text/plain</span>: <span class=\"v string\">26</span></span>                </li>\n",
       "              </ul>\n",
       "</details>            <li>\n",
       "<span><span class=\"n\">metadata</span>: <span class=\"v \">{}</span></span>            </li>\n",
       "          </ul>\n",
       "</details>      </ul>\n",
       "</details>    <li>\n",
       "<span><span class=\"n\">execution_count</span>: <span class=\"v number\">26</span></span>    </li>\n",
       "  </ul>\n",
       "</details>"
      ],
      "text/markdown": [
       "> code\n",
       "\n",
       "```json\n",
       "{\n",
       "  'idx': 4,\n",
       "  'source': 'print(__cellinfo__.cell_id)\\ntest_eq(__cellinfo__.source[:27], \"print(__cellinfo__.cell_id)\")\\ntest_eq(In[-1][:27], \"print(__cellinfo__.cell_id)\")\\n(exe_cnt := len(In)-1)',\n",
       "  'id': 'X45sZmlsZQ==',\n",
       "  'cell_type': 'code',\n",
       "  'outputs': [{'output_type': 'execute_result', 'execution_count': 26, 'data': {'text/plain': '26'}, 'metadata': {}}],\n",
       "  'execution_count': 26\n",
       "}\n",
       "```"
      ],
      "text/plain": [
       "{'idx': 4,\n",
       " 'source': 'print(__cellinfo__.cell_id)\\ntest_eq(__cellinfo__.source[:27], \"print(__cellinfo__.cell_id)\")\\ntest_eq(In[-1][:27], \"print(__cellinfo__.cell_id)\")\\n(exe_cnt := len(In)-1)',\n",
       " 'id': 'X45sZmlsZQ==',\n",
       " 'cell_type': 'code',\n",
       " 'outputs': [{'output_type': 'execute_result',\n",
       "   'execution_count': 26,\n",
       "   'data': {'text/plain': '26'},\n",
       "   'metadata': {}}],\n",
       " 'execution_count': 26}"
      ]
     },
     "metadata": {},
     "output_type": "display_data"
    },
    {
     "data": {
      "text/html": [
       "<style>details ul { list-style-type:none; list-style-position: outside; padding-inline-start: 22px; margin: 0; } details .string { color: #24837b; } details .string::before { content: \"'\"; } details .string::after { content: \"'\"; } details .number { color: #ad8301; } details .true { color: blue; } details .false { color: red; } details .null { color: gray; } span.n { color: darkgrey; } </style>\n",
       "<details open><summary>NBCell@5\n",
       "</summary>  <ul>\n",
       "    <li>\n",
       "<span><span class=\"n\">idx</span>: <span class=\"v number\">5</span></span>    </li>\n",
       "    <li>\n",
       "<span><span class=\"n\">source</span>: <span class=\"v string\">print(_, __lastcellinfo__.exec_result.result)\n",
       "test_eq(_, __lastcellinfo__.exec_result.result)\n",
       "test_eq(__lastcellinfo__.exec_result.result, O…</span></span>    </li>\n",
       "    <li>\n",
       "<span><span class=\"n\">id</span>: <span class=\"v string\">X46sZmlsZQ==</span></span>    </li>\n",
       "    <li>\n",
       "<span><span class=\"n\">cell_type</span>: <span class=\"v string\">code</span></span>    </li>\n",
       "<details open><summary>outputs\n",
       "</summary>      <ul></ul>\n",
       "</details>    <li>\n",
       "<span><span class=\"n\">execution_count</span>: <span class=\"v number\">27</span></span>    </li>\n",
       "  </ul>\n",
       "</details>"
      ],
      "text/markdown": [
       "> code\n",
       "\n",
       "```json\n",
       "{\n",
       "  'idx': 5,\n",
       "  'source': 'print(_, __lastcellinfo__.exec_result.result)\\ntest_eq(_, __lastcellinfo__.exec_result.result)\\ntest_eq(__lastcellinfo__.exec_result.result, Out[exe_cnt])',\n",
       "  'id': 'X46sZmlsZQ==',\n",
       "  'cell_type': 'code',\n",
       "  'outputs': [],\n",
       "  'execution_count': 27\n",
       "}\n",
       "```"
      ],
      "text/plain": [
       "{'idx': 5,\n",
       " 'source': 'print(_, __lastcellinfo__.exec_result.result)\\ntest_eq(_, __lastcellinfo__.exec_result.result)\\ntest_eq(__lastcellinfo__.exec_result.result, Out[exe_cnt])',\n",
       " 'id': 'X46sZmlsZQ==',\n",
       " 'cell_type': 'code',\n",
       " 'outputs': [],\n",
       " 'execution_count': 27}"
      ]
     },
     "metadata": {},
     "output_type": "display_data"
    },
    {
     "data": {
      "text/html": [
       "<style>details ul { list-style-type:none; list-style-position: outside; padding-inline-start: 22px; margin: 0; } details .string { color: #24837b; } details .string::before { content: \"'\"; } details .string::after { content: \"'\"; } details .number { color: #ad8301; } details .true { color: blue; } details .false { color: red; } details .null { color: gray; } span.n { color: darkgrey; } </style>\n",
       "<details open><summary>NBCell@6\n",
       "</summary>  <ul>\n",
       "    <li>\n",
       "<span><span class=\"n\">idx</span>: <span class=\"v number\">6</span></span>    </li>\n",
       "    <li>\n",
       "<span><span class=\"n\">source</span>: <span class=\"v string\">display(&#x27;abc&#x27;)</span></span>    </li>\n",
       "    <li>\n",
       "<span><span class=\"n\">id</span>: <span class=\"v string\">X50sZmlsZQ==</span></span>    </li>\n",
       "    <li>\n",
       "<span><span class=\"n\">cell_type</span>: <span class=\"v string\">code</span></span>    </li>\n",
       "<details open><summary>outputs\n",
       "</summary>      <ul></ul>\n",
       "</details>    <li>\n",
       "<span><span class=\"n\">execution_count</span>: <span class=\"v number\">28</span></span>    </li>\n",
       "  </ul>\n",
       "</details>"
      ],
      "text/markdown": [
       "> code\n",
       "\n",
       "```json\n",
       "{'idx': 6, 'source': \"display('abc')\", 'id': 'X50sZmlsZQ==', 'cell_type': 'code', 'outputs': [], 'execution_count': 28}\n",
       "```"
      ],
      "text/plain": [
       "{'idx': 6,\n",
       " 'source': \"display('abc')\",\n",
       " 'id': 'X50sZmlsZQ==',\n",
       " 'cell_type': 'code',\n",
       " 'outputs': [],\n",
       " 'execution_count': 28}"
      ]
     },
     "metadata": {},
     "output_type": "display_data"
    },
    {
     "data": {
      "text/html": [
       "<style>details ul { list-style-type:none; list-style-position: outside; padding-inline-start: 22px; margin: 0; } details .string { color: #24837b; } details .string::before { content: \"'\"; } details .string::after { content: \"'\"; } details .number { color: #ad8301; } details .true { color: blue; } details .false { color: red; } details .null { color: gray; } span.n { color: darkgrey; } </style>\n",
       "<details open><summary>NBCell@7\n",
       "</summary>  <ul>\n",
       "    <li>\n",
       "<span><span class=\"n\">idx</span>: <span class=\"v number\">7</span></span>    </li>\n",
       "    <li>\n",
       "<span><span class=\"n\">source</span>: <span class=\"v string\">print(_, __lastcellinfo__.exec_result.result)\n",
       "test_eq(None, __lastcellinfo__.exec_result.result)</span></span>    </li>\n",
       "    <li>\n",
       "<span><span class=\"n\">id</span>: <span class=\"v string\">X51sZmlsZQ==</span></span>    </li>\n",
       "    <li>\n",
       "<span><span class=\"n\">cell_type</span>: <span class=\"v string\">code</span></span>    </li>\n",
       "<details open><summary>outputs\n",
       "</summary>      <ul></ul>\n",
       "</details>    <li>\n",
       "<span><span class=\"n\">execution_count</span>: <span class=\"v number\">29</span></span>    </li>\n",
       "  </ul>\n",
       "</details>"
      ],
      "text/markdown": [
       "> code\n",
       "\n",
       "```json\n",
       "{\n",
       "  'idx': 7,\n",
       "  'source': 'print(_, __lastcellinfo__.exec_result.result)\\ntest_eq(None, __lastcellinfo__.exec_result.result)',\n",
       "  'id': 'X51sZmlsZQ==',\n",
       "  'cell_type': 'code',\n",
       "  'outputs': [],\n",
       "  'execution_count': 29\n",
       "}\n",
       "```"
      ],
      "text/plain": [
       "{'idx': 7,\n",
       " 'source': 'print(_, __lastcellinfo__.exec_result.result)\\ntest_eq(None, __lastcellinfo__.exec_result.result)',\n",
       " 'id': 'X51sZmlsZQ==',\n",
       " 'cell_type': 'code',\n",
       " 'outputs': [],\n",
       " 'execution_count': 29}"
      ]
     },
     "metadata": {},
     "output_type": "display_data"
    },
    {
     "data": {
      "text/html": [
       "<style>details ul { list-style-type:none; list-style-position: outside; padding-inline-start: 22px; margin: 0; } details .string { color: #24837b; } details .string::before { content: \"'\"; } details .string::after { content: \"'\"; } details .number { color: #ad8301; } details .true { color: blue; } details .false { color: red; } details .null { color: gray; } span.n { color: darkgrey; } </style>\n",
       "<details open><summary>NBCell@8\n",
       "</summary>  <ul>\n",
       "    <li>\n",
       "<span><span class=\"n\">idx</span>: <span class=\"v number\">8</span></span>    </li>\n",
       "    <li>\n",
       "<span><span class=\"n\">source</span>: <span class=\"v string\">print(&#x27;13&#x27;)\n",
       "23</span></span>    </li>\n",
       "    <li>\n",
       "<span><span class=\"n\">id</span>: <span class=\"v string\">X52sZmlsZQ==</span></span>    </li>\n",
       "    <li>\n",
       "<span><span class=\"n\">cell_type</span>: <span class=\"v string\">code</span></span>    </li>\n",
       "<details open><summary>outputs\n",
       "</summary>      <ul>\n",
       "<details open><summary>0\n",
       "</summary>          <ul>\n",
       "            <li>\n",
       "<span><span class=\"n\">output_type</span>: <span class=\"v string\">execute_result</span></span>            </li>\n",
       "            <li>\n",
       "<span><span class=\"n\">execution_count</span>: <span class=\"v number\">30</span></span>            </li>\n",
       "<details open><summary>data\n",
       "</summary>              <ul>\n",
       "                <li>\n",
       "<span><span class=\"n\">text/plain</span>: <span class=\"v string\">23</span></span>                </li>\n",
       "              </ul>\n",
       "</details>            <li>\n",
       "<span><span class=\"n\">metadata</span>: <span class=\"v \">{}</span></span>            </li>\n",
       "          </ul>\n",
       "</details>      </ul>\n",
       "</details>    <li>\n",
       "<span><span class=\"n\">execution_count</span>: <span class=\"v number\">30</span></span>    </li>\n",
       "  </ul>\n",
       "</details>"
      ],
      "text/markdown": [
       "> code\n",
       "\n",
       "```json\n",
       "{\n",
       "  'idx': 8,\n",
       "  'source': \"print('13')\\n23\",\n",
       "  'id': 'X52sZmlsZQ==',\n",
       "  'cell_type': 'code',\n",
       "  'outputs': [{'output_type': 'execute_result', 'execution_count': 30, 'data': {'text/plain': '23'}, 'metadata': {}}],\n",
       "  'execution_count': 30\n",
       "}\n",
       "```"
      ],
      "text/plain": [
       "{'idx': 8,\n",
       " 'source': \"print('13')\\n23\",\n",
       " 'id': 'X52sZmlsZQ==',\n",
       " 'cell_type': 'code',\n",
       " 'outputs': [{'output_type': 'execute_result',\n",
       "   'execution_count': 30,\n",
       "   'data': {'text/plain': '23'},\n",
       "   'metadata': {}}],\n",
       " 'execution_count': 30}"
      ]
     },
     "metadata": {},
     "output_type": "display_data"
    },
    {
     "data": {
      "text/html": [
       "<style>details ul { list-style-type:none; list-style-position: outside; padding-inline-start: 22px; margin: 0; } details .string { color: #24837b; } details .string::before { content: \"'\"; } details .string::after { content: \"'\"; } details .number { color: #ad8301; } details .true { color: blue; } details .false { color: red; } details .null { color: gray; } span.n { color: darkgrey; } </style>\n",
       "<details open><summary>NBCell@9\n",
       "</summary>  <ul>\n",
       "    <li>\n",
       "<span><span class=\"n\">idx</span>: <span class=\"v number\">9</span></span>    </li>\n",
       "    <li>\n",
       "<span><span class=\"n\">source</span>: <span class=\"v string\">print(_, __lastcellinfo__.exec_result.result)\n",
       "test_eq(23, __lastcellinfo__.exec_result.result)</span></span>    </li>\n",
       "    <li>\n",
       "<span><span class=\"n\">id</span>: <span class=\"v string\">X53sZmlsZQ==</span></span>    </li>\n",
       "    <li>\n",
       "<span><span class=\"n\">cell_type</span>: <span class=\"v string\">code</span></span>    </li>\n",
       "<details open><summary>outputs\n",
       "</summary>      <ul></ul>\n",
       "</details>    <li>\n",
       "<span><span class=\"n\">execution_count</span>: <span class=\"v number\">31</span></span>    </li>\n",
       "  </ul>\n",
       "</details>"
      ],
      "text/markdown": [
       "> code\n",
       "\n",
       "```json\n",
       "{\n",
       "  'idx': 9,\n",
       "  'source': 'print(_, __lastcellinfo__.exec_result.result)\\ntest_eq(23, __lastcellinfo__.exec_result.result)',\n",
       "  'id': 'X53sZmlsZQ==',\n",
       "  'cell_type': 'code',\n",
       "  'outputs': [],\n",
       "  'execution_count': 31\n",
       "}\n",
       "```"
      ],
      "text/plain": [
       "{'idx': 9,\n",
       " 'source': 'print(_, __lastcellinfo__.exec_result.result)\\ntest_eq(23, __lastcellinfo__.exec_result.result)',\n",
       " 'id': 'X53sZmlsZQ==',\n",
       " 'cell_type': 'code',\n",
       " 'outputs': [],\n",
       " 'execution_count': 31}"
      ]
     },
     "metadata": {},
     "output_type": "display_data"
    },
    {
     "data": {
      "text/html": [
       "<style>details ul { list-style-type:none; list-style-position: outside; padding-inline-start: 22px; margin: 0; } details .string { color: #24837b; } details .string::before { content: \"'\"; } details .string::after { content: \"'\"; } details .number { color: #ad8301; } details .true { color: blue; } details .false { color: red; } details .null { color: gray; } span.n { color: darkgrey; } </style>\n",
       "<details open><summary>NBCell@10\n",
       "</summary>  <ul>\n",
       "    <li>\n",
       "<span><span class=\"n\">idx</span>: <span class=\"v number\">10</span></span>    </li>\n",
       "    <li>\n",
       "<span><span class=\"n\">source</span>: <span class=\"v string\">csi.stop()\n",
       "test_is(__cellinfo__, None)\n",
       "test_is(__lastcellinfo__, None)</span></span>    </li>\n",
       "    <li>\n",
       "<span><span class=\"n\">id</span>: <span class=\"v string\">X54sZmlsZQ==</span></span>    </li>\n",
       "    <li>\n",
       "<span><span class=\"n\">cell_type</span>: <span class=\"v string\">code</span></span>    </li>\n",
       "<details open><summary>outputs\n",
       "</summary>      <ul></ul>\n",
       "</details>  </ul>\n",
       "</details>"
      ],
      "text/markdown": [
       "> code\n",
       "\n",
       "```json\n",
       "{\n",
       "  'idx': 10,\n",
       "  'source': 'csi.stop()\\ntest_is(__cellinfo__, None)\\ntest_is(__lastcellinfo__, None)',\n",
       "  'id': 'X54sZmlsZQ==',\n",
       "  'cell_type': 'code',\n",
       "  'outputs': []\n",
       "}\n",
       "```"
      ],
      "text/plain": [
       "{'idx': 10,\n",
       " 'source': 'csi.stop()\\ntest_is(__cellinfo__, None)\\ntest_is(__lastcellinfo__, None)',\n",
       " 'id': 'X54sZmlsZQ==',\n",
       " 'cell_type': 'code',\n",
       " 'outputs': []}"
      ]
     },
     "metadata": {},
     "output_type": "display_data"
    }
   ],
   "source": [
    "for c in __nb__.cells: display(c)"
   ]
  },
  {
   "cell_type": "markdown",
   "id": "624bbd32",
   "metadata": {},
   "source": [
    "# autoid (not used)\n",
    "\n",
    "Note: `autoid` here is different from fasthtml `fh_cfg['auto_id']` option. Here we're trying to automatically set the `id` attribute of the wrapper element of a cell output in the front-end. If we can do so, we'll be able to target especific cell outputs."
   ]
  },
  {
   "cell_type": "code",
   "execution_count": 34,
   "id": "b6076331",
   "metadata": {
    "brd": {
     "id": "7bcf8e60-be3a-49b7-8c0c-56c5cf01ce4f",
     "renderer": false
    }
   },
   "outputs": [],
   "source": [
    "# %%vfile autoid.js\n",
    "\n",
    "# // debugger;\n",
    "# function autodel(id) {\n",
    "#     // debugger;\n",
    "#     const me = document.querySelector(`#${id}`);\n",
    "#     const parent = me.parentElement;\n",
    "#     // parent.append(`test ${id}`);\n",
    "#     window.setTimeout(() => {{ \n",
    "#         me.remove(); \n",
    "#         parent.setAttribute(\"id\", `output-${id}`);\n",
    "#         console.log('deleted script', id); \n",
    "#     }}, 100);\n",
    "#     console.log(\"test script\", id);\n",
    "# }"
   ]
  },
  {
   "cell_type": "code",
   "execution_count": 35,
   "id": "9144d605",
   "metadata": {
    "brd": {
     "id": "ed67b255-3cc1-4109-b265-e36be2883a3b",
     "renderer": false
    }
   },
   "outputs": [],
   "source": [
    "# sc = '''\n",
    "# function autodel(id) {\n",
    "#     // debugger;\n",
    "#     const me = document.querySelector(`#${id}`);\n",
    "#     const parent = me.parentElement;\n",
    "#     // parent.append(`test ${id}`);\n",
    "#     window.setTimeout(() => {{ \n",
    "#         me.remove(); \n",
    "#         parent.setAttribute(\"id\", `output-${id}`);\n",
    "#         console.log('deleted script', id); \n",
    "#     }}, 100);\n",
    "#     console.log(\"test script\", id);\n",
    "# }\n",
    "# '''\n",
    "\n",
    "# # autodelscr = Script(sc)\n",
    "# autodelscr = ScriptV('vfile:autoid.js')\n",
    "# HTML(to_xml(autodelscr))"
   ]
  },
  {
   "cell_type": "code",
   "execution_count": 36,
   "id": "e34f18bd",
   "metadata": {
    "brd": {
     "id": "48709f54-5981-4991-a55b-6e586955d673",
     "renderer": false
    }
   },
   "outputs": [],
   "source": [
    "# sc = '''\n",
    "# autodel(\"{0}\");\n",
    "# '''\n",
    "\n",
    "# idx = new_id()\n",
    "# scr = Script(notdebug(sc.format(idx)), id=idx, type='module')\n",
    "# HTML(to_xml(scr)+'aaaa')"
   ]
  },
  {
   "cell_type": "code",
   "execution_count": 37,
   "id": "aba47f99",
   "metadata": {
    "brd": {
     "id": "43d6d1e6-d2ed-40d3-9271-bc270e83d31d",
     "renderer": false
    }
   },
   "outputs": [],
   "source": [
    "# sc = '''\n",
    "# autodel(\"{0}\");\n",
    "# '''\n",
    "# def autoid(idx=None):\n",
    "#     idx = idx or new_id()\n",
    "#     return Script(notdebug(sc.format(idx)), id=idx, type='module'), idx"
   ]
  },
  {
   "cell_type": "code",
   "execution_count": 38,
   "id": "4b94a252",
   "metadata": {
    "brd": {
     "id": "7fc6eac3-0b02-43d4-be4d-87c7ce7f4ee8",
     "renderer": false
    }
   },
   "outputs": [],
   "source": [
    "# HTML('aaaaa'+to_xml(autoid()[0]))"
   ]
  },
  {
   "cell_type": "code",
   "execution_count": 39,
   "id": "c6fa5e08",
   "metadata": {
    "brd": {
     "id": "9e37056d-41d2-4101-a9de-9e9559e2ee60",
     "renderer": false
    }
   },
   "outputs": [],
   "source": [
    "# %%HTML\n",
    "#   <script id=\"asdfg-12345\">\n",
    "#     debugger;\n",
    "#     me().attribute('id', 'output-asdfg-12345');\n",
    "#     setTimeout(el => { el.remove(); }, 100, me('#asdfg-12345'))\n",
    "#     // autodel('asdfg-12345');\n",
    "#   </script>\n",
    "#   <div class=\"uploader\">aaaa</div>"
   ]
  },
  {
   "cell_type": "code",
   "execution_count": 40,
   "id": "22c2ec84",
   "metadata": {
    "brd": {
     "id": "e13bbbc7-75e1-49a4-83eb-2bd42fb0b364",
     "renderer": false
    }
   },
   "outputs": [],
   "source": [
    "__autoid_scr = '''\n",
    "// debugger;\n",
    "me().attribute('id', 'output-{0}').classAdd('bridge');\n",
    "setTimeout(el => {{ el.remove(); }}, 100, me('#{0}'))\n",
    "'''\n",
    "def autoid(idx=None):\n",
    "    idx = idx or new_id()\n",
    "    return Script(__autoid_scr.format(idx), id=idx), idx"
   ]
  },
  {
   "cell_type": "code",
   "execution_count": 41,
   "id": "5031ae4d",
   "metadata": {
    "brd": {
     "id": "e830f054-9590-4165-8ec9-4b52ea75a379"
    }
   },
   "outputs": [
    {
     "data": {
      "text/html": [
       "cccc<script id=\"b76f41a88-f2bf3944-a4b3dd43-acb35d73\">\n",
       "// debugger;\n",
       "me().attribute('id', 'output-b76f41a88-f2bf3944-a4b3dd43-acb35d73').classAdd('bridge');\n",
       "setTimeout(el => { el.remove(); }, 100, me('#b76f41a88-f2bf3944-a4b3dd43-acb35d73'))\n",
       "</script>"
      ],
      "text/plain": [
       "<IPython.core.display.HTML object>"
      ]
     },
     "metadata": {},
     "output_type": "display_data"
    }
   ],
   "source": [
    "scr, idx = autoid()\n",
    "dhdl = DisplayHandle(idx)\n",
    "dhdl.display(HTML('bbbb'+to_xml(scr)))"
   ]
  },
  {
   "cell_type": "markdown",
   "id": "3c35350c",
   "metadata": {},
   "source": [
    "Inspect \"bbbb\" output of previous cell, the parent element should have class \"bridge\" and id."
   ]
  },
  {
   "cell_type": "code",
   "execution_count": 42,
   "id": "6bf8ce7c",
   "metadata": {
    "brd": {
     "id": "cd5ffaf2-a840-4821-8665-fd4fc6bba987",
     "renderer": false
    }
   },
   "outputs": [],
   "source": [
    "dhdl.update(HTML('cccc'+to_xml(scr)))"
   ]
  },
  {
   "cell_type": "markdown",
   "id": "09339020",
   "metadata": {},
   "source": [
    "VSCode wipe out the element when updating the cell. We need to send again the autoid."
   ]
  },
  {
   "cell_type": "markdown",
   "id": "00a22c5b",
   "metadata": {},
   "source": [
    "## DisplayId\n",
    "\n",
    "An attempt to provide a IPython display wrapper that automatically handles the display ID to allow us to target especific cells. Not working, for now it's essentially just IPython display."
   ]
  },
  {
   "cell_type": "code",
   "execution_count": 43,
   "id": "f3d8ee48",
   "metadata": {
    "brd": {
     "id": "01b27e77-7138-40a2-84a5-f849dd85197c",
     "renderer": false
    }
   },
   "outputs": [],
   "source": [
    "class DisplayId(DisplayHandle):\n",
    "    def __init__(self, display_id=None):\n",
    "        super().__init__(display_id or new_id())\n",
    "        self._contents = None\n",
    "        self._sc = to_xml(autoid(self.display_id)[0]) if bridge_cfg.auto_id else ''\n",
    "\n",
    "    def display(self, obj='', **kwargs):\n",
    "        from IPython.display import display\n",
    "        self._contents = str(obj)\n",
    "        display(HTML(self._contents + self._sc), display_id=self.display_id, **kwargs)\n",
    "\n",
    "    def update(self, obj='', **kwargs):\n",
    "        kwargs['update'] = True\n",
    "        self.display(obj, **kwargs)\n",
    "\n",
    "    def contents(self): return self._contents"
   ]
  },
  {
   "cell_type": "code",
   "execution_count": 44,
   "id": "262856d1",
   "metadata": {
    "brd": {
     "id": "45d17941-4236-4353-ae3f-2e2321ada193"
    }
   },
   "outputs": [
    {
     "data": {
      "text/html": [],
      "text/plain": [
       "<IPython.core.display.HTML object>"
      ]
     },
     "metadata": {},
     "output_type": "display_data"
    }
   ],
   "source": [
    "dhdl = DisplayId()\n",
    "dhdl.display('dddd')\n",
    "test_eq(dhdl.contents(), 'dddd')"
   ]
  },
  {
   "cell_type": "code",
   "execution_count": 45,
   "id": "7faaf58b",
   "metadata": {
    "brd": {
     "id": "dc7920c0-4721-4f1d-a009-ce184f2b6592",
     "renderer": false
    }
   },
   "outputs": [],
   "source": [
    "dhdl.update('eeee')\n",
    "test_eq(dhdl.contents(), 'eeee')"
   ]
  },
  {
   "cell_type": "code",
   "execution_count": 46,
   "id": "dc9d93b1",
   "metadata": {
    "brd": {
     "id": "87ec689a-cbc5-4591-a2e9-70ce8b80145e",
     "renderer": false
    }
   },
   "outputs": [],
   "source": [
    "dhdl.update()"
   ]
  },
  {
   "cell_type": "markdown",
   "id": "5101e90f",
   "metadata": {},
   "source": [
    "# Bridged: IPython display_pub hook\n",
    "> `display_pub` hook for `display_id` and `brd-mark`  \n",
    "> Tag cell outputs with bridge metadata to target them.\n",
    "\n",
    "In particular, it will transform every [display message](https://github.com/ipython/ipython/blob/6c8484878fd186dafaf344b8af467e646e91827d/IPython/core/display_functions.py#L85) to [transient](https://jupyter-client.readthedocs.io/en/stable/messaging.html#update-display-data) if the message has a session metadata id (`brd_did`). It will set the `display_id` of each output with that same `brd_id` value. For HTML display objects, it also marks the DOM parent element in the front-end. With this (session unique) tag, we can easily address specific outputs from Python.\n",
    "\n",
    "This will be handy to target specific cell outputs when we can capture the notebook state down the road.\n",
    "\n",
    "NOTE: `display_pub` hooks are [thread dependent](https://github.com/ipython/ipykernel/blob/8322a7684b004ee95f07b2f86f61e28146a5996d/ipykernel/zmqshell.py#L75). Here we assume we only set the hook from the main thread."
   ]
  },
  {
   "cell_type": "code",
   "execution_count": 47,
   "id": "8effe086",
   "metadata": {
    "brd": {
     "id": "f6d2bc2b-efa8-400e-a1f9-d4e764412c1f",
     "renderer": false
    }
   },
   "outputs": [],
   "source": [
    "#| exporti\n",
    "\n",
    "def _update_cell(cell_id, source=None, exec_result=None, display_cnt=None, output_did=None):\n",
    "    if source is not None:  # only with run cell, reset outputs\n",
    "        __nb__.update(cell_id, source=source, execution_count=None, outputs=[])  # type: ignore\n",
    "    if cell := __nb__[cell_id]:\n",
    "        upd = {'outputs': cell.get('outputs', [])}\n",
    "        if display_cnt is not None:\n",
    "            data, metadata, did = display_cnt['data'], display_cnt['metadata'], at(display_cnt, 'transient.display_id', None)\n",
    "            kw = {'data': data, 'metadata': metadata.copy()}\n",
    "            if did: kw['metadata']['brd_did'] = did\n",
    "            if output_did and (output := FC.last(upd['outputs'], lambda o: o.did == output_did)):\n",
    "                output.data.update(**kw['data']); output.metadata.update(**kw['metadata'])\n",
    "            else: upd['outputs'].append(NBOutput(dict(output_type='display_data', **kw)))\n",
    "        if exec_result is not None:\n",
    "            upd['execution_count'] = exec_result.execution_count\n",
    "            upd['outputs'].extend(_get_outputs(exec_result))\n",
    "        __nb__.update(cell_id, **upd)  # type: ignore"
   ]
  },
  {
   "cell_type": "code",
   "execution_count": 48,
   "id": "df0ede62",
   "metadata": {
    "brd": {
     "id": "c53151bc-a79e-4268-8c93-492c2ee12992",
     "renderer": false
    }
   },
   "outputs": [],
   "source": [
    "#| export\n",
    "\n",
    "class Bridged:\n",
    "    \"Augment display messages with bridge stuff.\"\n",
    "    def __init__(self, start=False):\n",
    "        self._active, self._ns = False, get_ipython().user_ns  # type: ignore\n",
    "        if start: self.start()\n",
    "        else: self._reset()\n",
    "    @property\n",
    "    def active(self): return self._active\n",
    "    def _reset(self):\n",
    "        self.dhs = deque(maxlen=100)\n",
    "        if DEBUG(): self.msgs = []\n",
    "    def start(self):\n",
    "        if not self._active:\n",
    "            self._active = True\n",
    "            get_ipython().display_pub.register_hook(self.bridged)  # type: ignore\n",
    "        self._reset()\n",
    "    def stop(self):\n",
    "        if self._active: \n",
    "            self._active = False\n",
    "            get_ipython().display_pub.unregister_hook(self.bridged)  # type: ignore\n",
    "    def __del__(self): self.stop()\n",
    "    \n",
    "    @property\n",
    "    def dh(self): return self.dhs[-1] if self.dhs else None\n",
    "    def bridged(self, msg):\n",
    "        if not self._active: return msg\n",
    "        if DEBUG(): self.msgs.append(msg)\n",
    "        if (msg_type := msg['msg_type']) not in ('display_data', 'update_display_data'): return msg\n",
    "        content, did = msg['content'], None\n",
    "        d, md = content['data'], content['metadata']\n",
    "        # if brd_md := md.get('bridge'):\n",
    "        #     if brd_md.get('skip'): return msg\n",
    "        #     # captured = brd_md.get('captured', False)\n",
    "        skip = at(md, 'bridge.skip', False)\n",
    "        if _BRDD_MIMES & d.keys() and not skip: \n",
    "            if trn := content['transient']: did = trn['display_id']\n",
    "            elif md: \n",
    "                for k,v in md.items():\n",
    "                    if v.get('skip'): skip=True; break\n",
    "                    if brd_id := v.get('brd_did'):  # hoist `brd_did` one level\n",
    "                        md['brd_did'] = did = brd_id\n",
    "                        del v['brd_did']\n",
    "                        if not v: del md[k]\n",
    "                        break\n",
    "            if not did and bridge_cfg.auto_id and not skip: did = new_id()\n",
    "            if did: \n",
    "                if 'display_id' not in trn: trn['display_id'] = did\n",
    "                if not self.dhs or (did != self.dhs[-1].display_id): self.dhs.append(DisplayHandle(display_id=did))\n",
    "                # add brd-mark to HTML output\n",
    "                if 'text/html' in d: d['text/html'] += _n + to_xml(Brd_Mark(id=did))\n",
    "        if info := self._ns.get('__cellinfo__'):\n",
    "            if msg_type == 'display_data':\n",
    "                _update_cell(info.cell_id, display_cnt=content)\n",
    "            else:  # update_display_data\n",
    "                if did and (cell := __nb__.cell_by_did(did)):  # type: ignore\n",
    "                    _update_cell(cell.id, display_cnt=content, output_did=did)\n",
    "        return msg\n",
    "\n",
    "\n",
    "_BRDD_MIMES = {'text/html', 'text/markdown', 'application/json', 'application/javascript', 'text/plain'}\n",
    "\n",
    "\n",
    "__bridged__ = None\n",
    "def get_bridged(start=False):\n",
    "    global __bridged__\n",
    "    get_csi(True)\n",
    "    if __bridged__ is None : __bridged__ = Bridged()\n",
    "    if start: __bridged__.start()\n",
    "    return __bridged__    "
   ]
  },
  {
   "cell_type": "code",
   "execution_count": 49,
   "id": "859ac476",
   "metadata": {
    "brd": {
     "id": "59d9ad33-6bec-4e15-8bce-85ac8fb25c38",
     "renderer": false
    }
   },
   "outputs": [],
   "source": [
    "try: \n",
    "    get_csi().stop()\n",
    "    brdd.stop()  # type: ignore\n",
    "except Exception: pass\n",
    "\n",
    "__nb__ = NB()  # type: ignore\n",
    "\n",
    "bridge_cfg.auto_id = False\n",
    "brdd = get_bridged(True)"
   ]
  },
  {
   "cell_type": "markdown",
   "id": "aea96681",
   "metadata": {},
   "source": [
    "### set display_id with display object metadata"
   ]
  },
  {
   "cell_type": "markdown",
   "id": "de7f885d",
   "metadata": {},
   "source": [
    "```json\n",
    "{\n",
    "    ...,\n",
    "    'msg_type': 'display_data',\n",
    "    'content': {\n",
    "        'data': {\n",
    "            'text/plain': '<IPython.core.display.HTML object>', \n",
    "            'text/html': \"<div>I'm marked!... MAAARKED!!</div>\"\n",
    "        },\n",
    "        'metadata': {'text/html': {'brd_did': 'b8b568b9a-c02e1576-c3a3c120-167cedda'}},\n",
    "        'transient': {}\n",
    "    },\n",
    "    'metadata': {}\n",
    "}\n",
    "\n",
    "{\n",
    "    ...,\n",
    "    'msg_type': 'display_data',\n",
    "    'content': {\n",
    "        'data': {\n",
    "            'text/plain': '<IPython.core.display.HTML object>',\n",
    "            'text/html': '<div>I\\'m marked!... MAAARKED!!</div><brd-mark id=\"b8b568b9a-c02e1576-c3a3c120-167cedda\"></brd-mark>'\n",
    "        },\n",
    "        'metadata': {'text/html': {'brd_did': 'b8b568b9a-c02e1576-c3a3c120-167cedda'}},\n",
    "        'transient': {'display_id': 'b8b568b9a-c02e1576-c3a3c120-167cedda'}\n",
    "    },\n",
    "    'metadata': {}\n",
    "}\n",
    "```"
   ]
  },
  {
   "cell_type": "code",
   "execution_count": 50,
   "id": "ba9f244d",
   "metadata": {
    "brd": {
     "id": "c0125210-3e59-426d-bd1a-205e197270c1"
    }
   },
   "outputs": [
    {
     "name": "stdout",
     "output_type": "stream",
     "text": [
      "did='bef65b738-b562617c-fb9f4e11-50d3b9be'\n"
     ]
    },
    {
     "data": {
      "text/html": [
       "<div>I'm doomed!... DOOOOOMED!!</div>\n",
       "<brd-mark id=\"bef65b738-b562617c-fb9f4e11-50d3b9be\"></brd-mark>"
      ],
      "text/plain": [
       "<IPython.core.display.HTML object>"
      ]
     },
     "metadata": {},
     "output_type": "display_data"
    },
    {
     "data": {
      "text/plain": [
       "21"
      ]
     },
     "execution_count": 50,
     "metadata": {},
     "output_type": "execute_result"
    }
   ],
   "source": [
    "did = new_id()\n",
    "print(f\"{did=}\")\n",
    "display(HTML(\"<div>I'm marked!... MAAARKED!!</div>\", metadata={'brd_did': did}))\n",
    "info = __cellinfo__; cell1  = __nb__[info.cell_id]; cell1_copy = cell1.copy()\n",
    "test_eq(cell1.dids, [did])  # NOTE: this is only valid after the `display(...)` call in above line\n",
    "21"
   ]
  },
  {
   "cell_type": "code",
   "execution_count": 51,
   "id": "bcd47b0d",
   "metadata": {
    "brd": {
     "id": "44a9f6d5-ab38-4f19-8ed7-c536999f66d6"
    }
   },
   "outputs": [
    {
     "data": {
      "text/html": [
       "<style>details ul { list-style-type:none; list-style-position: outside; padding-inline-start: 22px; margin: 0; } details .string { color: #24837b; } details .string::before { content: \"'\"; } details .string::after { content: \"'\"; } details .number { color: #ad8301; } details .true { color: blue; } details .false { color: red; } details .null { color: gray; } span.n { color: darkgrey; } </style>\n",
       "<details open><summary>NBCell@0\n",
       "</summary>  <ul>\n",
       "    <li>\n",
       "<span><span class=\"n\">idx</span>: <span class=\"v number\">0</span></span>    </li>\n",
       "    <li>\n",
       "<span><span class=\"n\">source</span>: <span class=\"v string\">did = new_id()\n",
       "print(f&quot;{did=}&quot;)\n",
       "display(HTML(&quot;&lt;div&gt;I&#x27;m marked!... MAAARKED!!&lt;/div&gt;&quot;, metadata={&#x27;brd_did&#x27;: did}))\n",
       "info = __cellinfo__; cell1 …</span></span>    </li>\n",
       "    <li>\n",
       "<span><span class=\"n\">id</span>: <span class=\"v string\">Y122sZmlsZQ==</span></span>    </li>\n",
       "    <li>\n",
       "<span><span class=\"n\">cell_type</span>: <span class=\"v string\">code</span></span>    </li>\n",
       "<details open><summary>outputs\n",
       "</summary>      <ul>\n",
       "<details open><summary>0\n",
       "</summary>          <ul>\n",
       "            <li>\n",
       "<span><span class=\"n\">output_type</span>: <span class=\"v string\">display_data</span></span>            </li>\n",
       "<details open><summary>data\n",
       "</summary>              <ul>\n",
       "                <li>\n",
       "<span><span class=\"n\">text/plain</span>: <span class=\"v string\">&lt;IPython.core.display.HTML object&gt;</span></span>                </li>\n",
       "                <li>\n",
       "<span><span class=\"n\">text/html</span>: <span class=\"v string\">&lt;div&gt;I&#x27;m marked!... MAAARKED!!&lt;/div&gt;\n",
       "&lt;brd-mark id=&quot;bef65b738-b562617c-fb9f4e11-50d3b9be&quot;&gt;&lt;/brd-mark&gt;</span></span>                </li>\n",
       "              </ul>\n",
       "</details>            <li>\n",
       "<span><span class=\"n\">metadata</span>: <span class=\"v \">{&#x27;brd_did&#x27;: &#x27;bef65b738-b562617c-fb9f4e11-50d3b9be&#x27;}</span></span>            </li>\n",
       "          </ul>\n",
       "</details>      </ul>\n",
       "</details>  </ul>\n",
       "</details>"
      ],
      "text/markdown": [
       "> code\n",
       "\n",
       "```json\n",
       "{\n",
       "  'idx': 0,\n",
       "  'source': 'did = new_id()\\nprint(f\"{did=}\")\\ndisplay(HTML(\"<div>I\\'m marked!... MAAARKED!!</div>\", metadata={\\'brd_did\\': did}))\\ninfo = __cellinfo__; cell1  = __nb__[info.cell_id]; cell1_copy = cell1.copy()\\ntest_eq(cell1.dids, [did])  # NOTE: this is only valid after the `display(...)` call in above line\\n21',\n",
       "  'id': 'Y122sZmlsZQ==',\n",
       "  'cell_type': 'code',\n",
       "  'outputs': [\n",
       "    {\n",
       "      'output_type': 'display_data',\n",
       "      'data': {\n",
       "        'text/plain': '<IPython.core.display.HTML object>',\n",
       "        'text/html': '<div>I\\'m marked!... MAAARKED!!</div>\\n<brd-mark id=\"bef65b738-b562617c-fb9f4e11-50d3b9be\"></brd-mark>'\n",
       "      },\n",
       "      'metadata': {'brd_did': 'bef65b738-b562617c-fb9f4e11-50d3b9be'}\n",
       "    }\n",
       "  ]\n",
       "}\n",
       "```"
      ],
      "text/plain": [
       "{'idx': 0,\n",
       " 'source': 'did = new_id()\\nprint(f\"{did=}\")\\ndisplay(HTML(\"<div>I\\'m marked!... MAAARKED!!</div>\", metadata={\\'brd_did\\': did}))\\ninfo = __cellinfo__; cell1  = __nb__[info.cell_id]; cell1_copy = cell1.copy()\\ntest_eq(cell1.dids, [did])  # NOTE: this is only valid after the `display(...)` call in above line\\n21',\n",
       " 'id': 'Y122sZmlsZQ==',\n",
       " 'cell_type': 'code',\n",
       " 'outputs': [{'output_type': 'display_data',\n",
       "   'data': {'text/plain': '<IPython.core.display.HTML object>',\n",
       "    'text/html': '<div>I\\'m marked!... MAAARKED!!</div>\\n<brd-mark id=\"bef65b738-b562617c-fb9f4e11-50d3b9be\"></brd-mark>'},\n",
       "   'metadata': {'brd_did': 'bef65b738-b562617c-fb9f4e11-50d3b9be'}}]}"
      ]
     },
     "metadata": {},
     "output_type": "display_data"
    },
    {
     "data": {
      "text/html": [
       "<style>details ul { list-style-type:none; list-style-position: outside; padding-inline-start: 22px; margin: 0; } details .string { color: #24837b; } details .string::before { content: \"'\"; } details .string::after { content: \"'\"; } details .number { color: #ad8301; } details .true { color: blue; } details .false { color: red; } details .null { color: gray; } span.n { color: darkgrey; } </style>\n",
       "<details open><summary>NBCell@0\n",
       "</summary>  <ul>\n",
       "    <li>\n",
       "<span><span class=\"n\">idx</span>: <span class=\"v number\">0</span></span>    </li>\n",
       "    <li>\n",
       "<span><span class=\"n\">source</span>: <span class=\"v string\">did = new_id()\n",
       "print(f&quot;{did=}&quot;)\n",
       "display(HTML(&quot;&lt;div&gt;I&#x27;m marked!... MAAARKED!!&lt;/div&gt;&quot;, metadata={&#x27;brd_did&#x27;: did}))\n",
       "info = __cellinfo__; cell1 …</span></span>    </li>\n",
       "    <li>\n",
       "<span><span class=\"n\">id</span>: <span class=\"v string\">Y122sZmlsZQ==</span></span>    </li>\n",
       "    <li>\n",
       "<span><span class=\"n\">cell_type</span>: <span class=\"v string\">code</span></span>    </li>\n",
       "<details open><summary>outputs\n",
       "</summary>      <ul>\n",
       "<details open><summary>0\n",
       "</summary>          <ul>\n",
       "            <li>\n",
       "<span><span class=\"n\">output_type</span>: <span class=\"v string\">display_data</span></span>            </li>\n",
       "<details open><summary>data\n",
       "</summary>              <ul>\n",
       "                <li>\n",
       "<span><span class=\"n\">text/plain</span>: <span class=\"v string\">&lt;IPython.core.display.HTML object&gt;</span></span>                </li>\n",
       "                <li>\n",
       "<span><span class=\"n\">text/html</span>: <span class=\"v string\">&lt;div&gt;I&#x27;m marked!... MAAARKED!!&lt;/div&gt;\n",
       "&lt;brd-mark id=&quot;bef65b738-b562617c-fb9f4e11-50d3b9be&quot;&gt;&lt;/brd-mark&gt;</span></span>                </li>\n",
       "              </ul>\n",
       "</details>            <li>\n",
       "<span><span class=\"n\">metadata</span>: <span class=\"v \">{&#x27;brd_did&#x27;: &#x27;bef65b738-b562617c-fb9f4e11-50d3b9be&#x27;}</span></span>            </li>\n",
       "          </ul>\n",
       "</details><details open><summary>1\n",
       "</summary>          <ul>\n",
       "            <li>\n",
       "<span><span class=\"n\">output_type</span>: <span class=\"v string\">execute_result</span></span>            </li>\n",
       "            <li>\n",
       "<span><span class=\"n\">execution_count</span>: <span class=\"v number\">50</span></span>            </li>\n",
       "<details open><summary>data\n",
       "</summary>              <ul>\n",
       "                <li>\n",
       "<span><span class=\"n\">text/plain</span>: <span class=\"v string\">21</span></span>                </li>\n",
       "              </ul>\n",
       "</details>            <li>\n",
       "<span><span class=\"n\">metadata</span>: <span class=\"v \">{}</span></span>            </li>\n",
       "          </ul>\n",
       "</details>      </ul>\n",
       "</details>    <li>\n",
       "<span><span class=\"n\">execution_count</span>: <span class=\"v number\">50</span></span>    </li>\n",
       "  </ul>\n",
       "</details>"
      ],
      "text/markdown": [
       "> code\n",
       "\n",
       "```json\n",
       "{\n",
       "  'idx': 0,\n",
       "  'source': 'did = new_id()\\nprint(f\"{did=}\")\\ndisplay(HTML(\"<div>I\\'m marked!... MAAARKED!!</div>\", metadata={\\'brd_did\\': did}))\\ninfo = __cellinfo__; cell1  = __nb__[info.cell_id]; cell1_copy = cell1.copy()\\ntest_eq(cell1.dids, [did])  # NOTE: this is only valid after the `display(...)` call in above line\\n21',\n",
       "  'id': 'Y122sZmlsZQ==',\n",
       "  'cell_type': 'code',\n",
       "  'outputs': [\n",
       "    {\n",
       "      'output_type': 'display_data',\n",
       "      'data': {\n",
       "        'text/plain': '<IPython.core.display.HTML object>',\n",
       "        'text/html': '<div>I\\'m marked!... MAAARKED!!</div>\\n<brd-mark id=\"bef65b738-b562617c-fb9f4e11-50d3b9be\"></brd-mark>'\n",
       "      },\n",
       "      'metadata': {'brd_did': 'bef65b738-b562617c-fb9f4e11-50d3b9be'}\n",
       "    },\n",
       "    {'output_type': 'execute_result', 'execution_count': 50, 'data': {'text/plain': '21'}, 'metadata': {}}\n",
       "  ],\n",
       "  'execution_count': 50\n",
       "}\n",
       "```"
      ],
      "text/plain": [
       "{'idx': 0,\n",
       " 'source': 'did = new_id()\\nprint(f\"{did=}\")\\ndisplay(HTML(\"<div>I\\'m marked!... MAAARKED!!</div>\", metadata={\\'brd_did\\': did}))\\ninfo = __cellinfo__; cell1  = __nb__[info.cell_id]; cell1_copy = cell1.copy()\\ntest_eq(cell1.dids, [did])  # NOTE: this is only valid after the `display(...)` call in above line\\n21',\n",
       " 'id': 'Y122sZmlsZQ==',\n",
       " 'cell_type': 'code',\n",
       " 'outputs': [{'output_type': 'display_data',\n",
       "   'data': {'text/plain': '<IPython.core.display.HTML object>',\n",
       "    'text/html': '<div>I\\'m marked!... MAAARKED!!</div>\\n<brd-mark id=\"bef65b738-b562617c-fb9f4e11-50d3b9be\"></brd-mark>'},\n",
       "   'metadata': {'brd_did': 'bef65b738-b562617c-fb9f4e11-50d3b9be'}},\n",
       "  {'output_type': 'execute_result',\n",
       "   'execution_count': 50,\n",
       "   'data': {'text/plain': '21'},\n",
       "   'metadata': {}}],\n",
       " 'execution_count': 50}"
      ]
     },
     "execution_count": 51,
     "metadata": {},
     "output_type": "execute_result"
    }
   ],
   "source": [
    "display(cell1_copy)\n",
    "cell1"
   ]
  },
  {
   "cell_type": "markdown",
   "id": "508aa05a",
   "metadata": {},
   "source": [
    "At cell runtime, current cell can be accesed as `__nb__[__cellinfo__.cell_id]`; after cell execution, it can be accesed as `__nb__[__lastcellinfo__.cell_id]`.\n",
    "\n",
    "Note `NBCell` instance lifecycle:\n",
    "- Before code execution: an instance is created with `source` and `id`\n",
    "- After `display` statement: the instance is updated with `display_data` output\n",
    "- After cell run: the instance is updated with `execute_result` output"
   ]
  },
  {
   "cell_type": "code",
   "execution_count": 52,
   "id": "9d156139",
   "metadata": {
    "brd": {
     "id": "2f4fe082-292b-423e-a9c4-42335ada2bdc",
     "renderer": false
    }
   },
   "outputs": [],
   "source": [
    "test_is('<div>I\\'m marked!... MAAARKED!!</div>' in cell1.outputs[0]['data']['text/html'], True)\n",
    "dh = brdd.dhs[-1]\n",
    "test_eq(dh.display_id, did)"
   ]
  },
  {
   "cell_type": "markdown",
   "id": "e77fe58b",
   "metadata": {},
   "source": [
    "For convenience, `Bridged` stores in `dhs` the last display handles used."
   ]
  },
  {
   "cell_type": "markdown",
   "id": "8c40e807",
   "metadata": {},
   "source": [
    "```json\n",
    "{\n",
    "    ...,\n",
    "    'msg_type': 'update_display_data',\n",
    "    'content': {\n",
    "        'data': {\n",
    "            'text/plain': '<IPython.core.display.HTML object>', \n",
    "            'text/html': \"<div>I'm doomed!... DOOOOOMED!!</div>\"},\n",
    "        'metadata': {},\n",
    "        'transient': {'display_id': 'b5c00d851-9da4a95e-36473c24-3d04534d'}\n",
    "    },\n",
    "    'metadata': {}\n",
    "}\n",
    "\n",
    "{\n",
    "    ...,\n",
    "    'msg_type': 'update_display_data',\n",
    "    'content': {\n",
    "        'data': {\n",
    "            'text/plain': '<IPython.core.display.HTML object>',\n",
    "            'text/html': '<div>I\\'m doomed!... DOOOOOMED!!</div><brd-mark id=\"b5c00d851-9da4a95e-36473c24-3d04534d\"></brd-mark>'\n",
    "        },\n",
    "        'metadata': {},\n",
    "        'transient': {'display_id': 'b5c00d851-9da4a95e-36473c24-3d04534d'}\n",
    "    },\n",
    "    'metadata': {}\n",
    "}\n",
    "```"
   ]
  },
  {
   "cell_type": "code",
   "execution_count": 53,
   "id": "7e5f02bd",
   "metadata": {
    "brd": {
     "id": "7589c590-69cf-4dbb-a3d9-87b85d58c38f",
     "renderer": false
    }
   },
   "outputs": [],
   "source": [
    "dh.update(HTML(\"<div>I'm doomed!... DOOOOOMED!!</div>\"))\n",
    "cell2 = __nb__[__cellinfo__.cell_id]\n",
    "test_is(hasattr(cell2, 'did'), False)\n",
    "htmls = vals_at(cell1, 'outputs.*.data.text/html', True)\n",
    "test_is(any('MAAARKED' in v for v in htmls), False)\n",
    "test_is(any('DOOOOOMED' in v for v in htmls), True)"
   ]
  },
  {
   "cell_type": "code",
   "execution_count": 54,
   "id": "22d0ea46",
   "metadata": {
    "brd": {
     "id": "545111b3-d57f-4675-b1c9-ecf52695aada"
    }
   },
   "outputs": [
    {
     "data": {
      "text/html": [
       "<style>details ul { list-style-type:none; list-style-position: outside; padding-inline-start: 22px; margin: 0; } details .string { color: #24837b; } details .string::before { content: \"'\"; } details .string::after { content: \"'\"; } details .number { color: #ad8301; } details .true { color: blue; } details .false { color: red; } details .null { color: gray; } span.n { color: darkgrey; } </style>\n",
       "<details open><summary>NBCell@0\n",
       "</summary>  <ul>\n",
       "    <li>\n",
       "<span><span class=\"n\">idx</span>: <span class=\"v number\">0</span></span>    </li>\n",
       "    <li>\n",
       "<span><span class=\"n\">source</span>: <span class=\"v string\">did = new_id()\n",
       "print(f&quot;{did=}&quot;)\n",
       "display(HTML(&quot;&lt;div&gt;I&#x27;m marked!... MAAARKED!!&lt;/div&gt;&quot;, metadata={&#x27;brd_did&#x27;: did}))\n",
       "info = __cellinfo__; cell1 …</span></span>    </li>\n",
       "    <li>\n",
       "<span><span class=\"n\">id</span>: <span class=\"v string\">Y122sZmlsZQ==</span></span>    </li>\n",
       "    <li>\n",
       "<span><span class=\"n\">cell_type</span>: <span class=\"v string\">code</span></span>    </li>\n",
       "<details open><summary>outputs\n",
       "</summary>      <ul>\n",
       "<details open><summary>0\n",
       "</summary>          <ul>\n",
       "            <li>\n",
       "<span><span class=\"n\">output_type</span>: <span class=\"v string\">display_data</span></span>            </li>\n",
       "<details open><summary>data\n",
       "</summary>              <ul>\n",
       "                <li>\n",
       "<span><span class=\"n\">text/plain</span>: <span class=\"v string\">&lt;IPython.core.display.HTML object&gt;</span></span>                </li>\n",
       "                <li>\n",
       "<span><span class=\"n\">text/html</span>: <span class=\"v string\">&lt;div&gt;I&#x27;m doomed!... DOOOOOMED!!&lt;/div&gt;\n",
       "&lt;brd-mark id=&quot;bef65b738-b562617c-fb9f4e11-50d3b9be&quot;&gt;&lt;/brd-mark&gt;</span></span>                </li>\n",
       "              </ul>\n",
       "</details>            <li>\n",
       "<span><span class=\"n\">metadata</span>: <span class=\"v \">{&#x27;brd_did&#x27;: &#x27;bef65b738-b562617c-fb9f4e11-50d3b9be&#x27;}</span></span>            </li>\n",
       "          </ul>\n",
       "</details><details open><summary>1\n",
       "</summary>          <ul>\n",
       "            <li>\n",
       "<span><span class=\"n\">output_type</span>: <span class=\"v string\">execute_result</span></span>            </li>\n",
       "            <li>\n",
       "<span><span class=\"n\">execution_count</span>: <span class=\"v number\">50</span></span>            </li>\n",
       "<details open><summary>data\n",
       "</summary>              <ul>\n",
       "                <li>\n",
       "<span><span class=\"n\">text/plain</span>: <span class=\"v string\">21</span></span>                </li>\n",
       "              </ul>\n",
       "</details>            <li>\n",
       "<span><span class=\"n\">metadata</span>: <span class=\"v \">{}</span></span>            </li>\n",
       "          </ul>\n",
       "</details>      </ul>\n",
       "</details>    <li>\n",
       "<span><span class=\"n\">execution_count</span>: <span class=\"v number\">50</span></span>    </li>\n",
       "  </ul>\n",
       "</details>"
      ],
      "text/markdown": [
       "> code\n",
       "\n",
       "```json\n",
       "{\n",
       "  'idx': 0,\n",
       "  'source': 'did = new_id()\\nprint(f\"{did=}\")\\ndisplay(HTML(\"<div>I\\'m marked!... MAAARKED!!</div>\", metadata={\\'brd_did\\': did}))\\ninfo = __cellinfo__; cell1  = __nb__[info.cell_id]; cell1_copy = cell1.copy()\\ntest_eq(cell1.dids, [did])  # NOTE: this is only valid after the `display(...)` call in above line\\n21',\n",
       "  'id': 'Y122sZmlsZQ==',\n",
       "  'cell_type': 'code',\n",
       "  'outputs': [\n",
       "    {\n",
       "      'output_type': 'display_data',\n",
       "      'data': {\n",
       "        'text/plain': '<IPython.core.display.HTML object>',\n",
       "        'text/html': '<div>I\\'m doomed!... DOOOOOMED!!</div>\\n<brd-mark id=\"bef65b738-b562617c-fb9f4e11-50d3b9be\"></brd-mark>'\n",
       "      },\n",
       "      'metadata': {'brd_did': 'bef65b738-b562617c-fb9f4e11-50d3b9be'}\n",
       "    },\n",
       "    {'output_type': 'execute_result', 'execution_count': 50, 'data': {'text/plain': '21'}, 'metadata': {}}\n",
       "  ],\n",
       "  'execution_count': 50\n",
       "}\n",
       "```"
      ],
      "text/plain": [
       "{'idx': 0,\n",
       " 'source': 'did = new_id()\\nprint(f\"{did=}\")\\ndisplay(HTML(\"<div>I\\'m marked!... MAAARKED!!</div>\", metadata={\\'brd_did\\': did}))\\ninfo = __cellinfo__; cell1  = __nb__[info.cell_id]; cell1_copy = cell1.copy()\\ntest_eq(cell1.dids, [did])  # NOTE: this is only valid after the `display(...)` call in above line\\n21',\n",
       " 'id': 'Y122sZmlsZQ==',\n",
       " 'cell_type': 'code',\n",
       " 'outputs': [{'output_type': 'display_data',\n",
       "   'data': {'text/plain': '<IPython.core.display.HTML object>',\n",
       "    'text/html': '<div>I\\'m doomed!... DOOOOOMED!!</div>\\n<brd-mark id=\"bef65b738-b562617c-fb9f4e11-50d3b9be\"></brd-mark>'},\n",
       "   'metadata': {'brd_did': 'bef65b738-b562617c-fb9f4e11-50d3b9be'}},\n",
       "  {'output_type': 'execute_result',\n",
       "   'execution_count': 50,\n",
       "   'data': {'text/plain': '21'},\n",
       "   'metadata': {}}],\n",
       " 'execution_count': 50}"
      ]
     },
     "metadata": {},
     "output_type": "display_data"
    },
    {
     "data": {
      "text/html": [
       "<style>details ul { list-style-type:none; list-style-position: outside; padding-inline-start: 22px; margin: 0; } details .string { color: #24837b; } details .string::before { content: \"'\"; } details .string::after { content: \"'\"; } details .number { color: #ad8301; } details .true { color: blue; } details .false { color: red; } details .null { color: gray; } span.n { color: darkgrey; } </style>\n",
       "<details open><summary>NBCell@3\n",
       "</summary>  <ul>\n",
       "    <li>\n",
       "<span><span class=\"n\">idx</span>: <span class=\"v number\">3</span></span>    </li>\n",
       "    <li>\n",
       "<span><span class=\"n\">source</span>: <span class=\"v string\">dh.update(HTML(&quot;&lt;div&gt;I&#x27;m doomed!... DOOOOOMED!!&lt;/div&gt;&quot;))\n",
       "cell2 = __nb__[__cellinfo__.cell_id]\n",
       "test_is(hasattr(cell2, &#x27;did&#x27;), False)\n",
       "htmls = …</span></span>    </li>\n",
       "    <li>\n",
       "<span><span class=\"n\">id</span>: <span class=\"v string\">Y131sZmlsZQ==</span></span>    </li>\n",
       "    <li>\n",
       "<span><span class=\"n\">cell_type</span>: <span class=\"v string\">code</span></span>    </li>\n",
       "<details open><summary>outputs\n",
       "</summary>      <ul></ul>\n",
       "</details>    <li>\n",
       "<span><span class=\"n\">execution_count</span>: <span class=\"v number\">53</span></span>    </li>\n",
       "  </ul>\n",
       "</details>"
      ],
      "text/markdown": [
       "> code\n",
       "\n",
       "```json\n",
       "{\n",
       "  'idx': 3,\n",
       "  'source': 'dh.update(HTML(\"<div>I\\'m doomed!... DOOOOOMED!!</div>\"))\\ncell2 = __nb__[__cellinfo__.cell_id]\\ntest_is(hasattr(cell2, \\'did\\'), False)\\nhtmls = vals_at(cell1, \\'outputs.*.data.text/html\\', True)\\ntest_is(any(\\'MAAARKED\\' in v for v in htmls), False)\\ntest_is(any(\\'DOOOOOMED\\' in v for v in htmls), True)',\n",
       "  'id': 'Y131sZmlsZQ==',\n",
       "  'cell_type': 'code',\n",
       "  'outputs': [],\n",
       "  'execution_count': 53\n",
       "}\n",
       "```"
      ],
      "text/plain": [
       "{'idx': 3,\n",
       " 'source': 'dh.update(HTML(\"<div>I\\'m doomed!... DOOOOOMED!!</div>\"))\\ncell2 = __nb__[__cellinfo__.cell_id]\\ntest_is(hasattr(cell2, \\'did\\'), False)\\nhtmls = vals_at(cell1, \\'outputs.*.data.text/html\\', True)\\ntest_is(any(\\'MAAARKED\\' in v for v in htmls), False)\\ntest_is(any(\\'DOOOOOMED\\' in v for v in htmls), True)',\n",
       " 'id': 'Y131sZmlsZQ==',\n",
       " 'cell_type': 'code',\n",
       " 'outputs': [],\n",
       " 'execution_count': 53}"
      ]
     },
     "execution_count": 54,
     "metadata": {},
     "output_type": "execute_result"
    }
   ],
   "source": [
    "display(cell1)\n",
    "cell2"
   ]
  },
  {
   "cell_type": "markdown",
   "id": "a8352e53",
   "metadata": {},
   "source": [
    "## set display_id with display call metadata\n",
    "> i.e., `display(..., display_id=True)` or `display(..., display_id=\"...\")`"
   ]
  },
  {
   "cell_type": "code",
   "execution_count": 55,
   "id": "3c8bba8d",
   "metadata": {
    "brd": {
     "id": "d768b83d-c7d8-43d0-8902-50c5c83061c6"
    }
   },
   "outputs": [
    {
     "data": {
      "text/html": [
       "<div>I'm doomed!... DOOOOOMED!!</div>\n",
       "<brd-mark id=\"be9d4855bed807ddd02ae5e149336927\"></brd-mark>"
      ],
      "text/plain": [
       "<IPython.core.display.HTML object>"
      ]
     },
     "metadata": {},
     "output_type": "display_data"
    },
    {
     "data": {
      "text/html": [
       "<style>details ul { list-style-type:none; list-style-position: outside; padding-inline-start: 22px; margin: 0; } details .string { color: #24837b; } details .string::before { content: \"'\"; } details .string::after { content: \"'\"; } details .number { color: #ad8301; } details .true { color: blue; } details .false { color: red; } details .null { color: gray; } span.n { color: darkgrey; } </style>\n",
       "<details open><summary>NBCell@5\n",
       "</summary>  <ul>\n",
       "    <li>\n",
       "<span><span class=\"n\">idx</span>: <span class=\"v number\">5</span></span>    </li>\n",
       "    <li>\n",
       "<span><span class=\"n\">source</span>: <span class=\"v string\">dh = display(HTML(&quot;&lt;div&gt;I&#x27;m marked!... MAAARKED!!&lt;/div&gt;&quot;), display_id=True)\n",
       "cell = __nb__[__cellinfo__.cell_id]\n",
       "test_eq(at(cell, &#x27;outputs.0.…</span></span>    </li>\n",
       "    <li>\n",
       "<span><span class=\"n\">id</span>: <span class=\"v string\">Y134sZmlsZQ==</span></span>    </li>\n",
       "    <li>\n",
       "<span><span class=\"n\">cell_type</span>: <span class=\"v string\">code</span></span>    </li>\n",
       "<details open><summary>outputs\n",
       "</summary>      <ul>\n",
       "<details open><summary>0\n",
       "</summary>          <ul>\n",
       "            <li>\n",
       "<span><span class=\"n\">output_type</span>: <span class=\"v string\">display_data</span></span>            </li>\n",
       "<details open><summary>data\n",
       "</summary>              <ul>\n",
       "                <li>\n",
       "<span><span class=\"n\">text/plain</span>: <span class=\"v string\">&lt;IPython.core.display.HTML object&gt;</span></span>                </li>\n",
       "                <li>\n",
       "<span><span class=\"n\">text/html</span>: <span class=\"v string\">&lt;div&gt;I&#x27;m marked!... MAAARKED!!&lt;/div&gt;\n",
       "&lt;brd-mark id=&quot;be9d4855bed807ddd02ae5e149336927&quot;&gt;&lt;/brd-mark&gt;</span></span>                </li>\n",
       "              </ul>\n",
       "</details>            <li>\n",
       "<span><span class=\"n\">metadata</span>: <span class=\"v \">{&#x27;brd_did&#x27;: &#x27;be9d4855bed807ddd02ae5e149336927&#x27;}</span></span>            </li>\n",
       "          </ul>\n",
       "</details>      </ul>\n",
       "</details>  </ul>\n",
       "</details>"
      ],
      "text/markdown": [
       "> code\n",
       "\n",
       "```json\n",
       "{\n",
       "  'idx': 5,\n",
       "  'source': 'dh = display(HTML(\"<div>I\\'m marked!... MAAARKED!!</div>\"), display_id=True)\\ncell = __nb__[__cellinfo__.cell_id]\\ntest_eq(at(cell, \\'outputs.0.metadata.brd_did\\'), brdd.dh.display_id)  # type: ignore\\ncell',\n",
       "  'id': 'Y134sZmlsZQ==',\n",
       "  'cell_type': 'code',\n",
       "  'outputs': [\n",
       "    {\n",
       "      'output_type': 'display_data',\n",
       "      'data': {\n",
       "        'text/plain': '<IPython.core.display.HTML object>',\n",
       "        'text/html': '<div>I\\'m marked!... MAAARKED!!</div>\\n<brd-mark id=\"be9d4855bed807ddd02ae5e149336927\"></brd-mark>'\n",
       "      },\n",
       "      'metadata': {'brd_did': 'be9d4855bed807ddd02ae5e149336927'}\n",
       "    }\n",
       "  ]\n",
       "}\n",
       "```"
      ],
      "text/plain": [
       "{'idx': 5,\n",
       " 'source': 'dh = display(HTML(\"<div>I\\'m marked!... MAAARKED!!</div>\"), display_id=True)\\ncell = __nb__[__cellinfo__.cell_id]\\ntest_eq(at(cell, \\'outputs.0.metadata.brd_did\\'), brdd.dh.display_id)  # type: ignore\\ncell',\n",
       " 'id': 'Y134sZmlsZQ==',\n",
       " 'cell_type': 'code',\n",
       " 'outputs': [{'output_type': 'display_data',\n",
       "   'data': {'text/plain': '<IPython.core.display.HTML object>',\n",
       "    'text/html': '<div>I\\'m marked!... MAAARKED!!</div>\\n<brd-mark id=\"be9d4855bed807ddd02ae5e149336927\"></brd-mark>'},\n",
       "   'metadata': {'brd_did': 'be9d4855bed807ddd02ae5e149336927'}}]}"
      ]
     },
     "execution_count": 55,
     "metadata": {},
     "output_type": "execute_result"
    }
   ],
   "source": [
    "dh = display(HTML(\"<div>I'm marked!... MAAARKED!!</div>\"), display_id=True)\n",
    "cell = __nb__[__cellinfo__.cell_id]\n",
    "test_eq(at(cell, 'outputs.0.metadata.brd_did'), brdd.dh.display_id)  # type: ignore\n",
    "cell"
   ]
  },
  {
   "cell_type": "markdown",
   "id": "230e1ec6",
   "metadata": {},
   "source": [
    "```json\n",
    "{\n",
    "    ...,\n",
    "    'msg_type': 'display_data',\n",
    "    'content': {\n",
    "        'data': {\n",
    "            'text/plain': '<IPython.core.display.HTML object>', \n",
    "            'text/html': \"<div>I'm marked!... MAAARKED!!</div>\"\n",
    "        },\n",
    "        'metadata': {},\n",
    "        'transient': {'display_id': '2307db4acc4fda0ba305ffdda518748a'}\n",
    "    },\n",
    "    'metadata': {}\n",
    "}\n",
    "\n",
    "{\n",
    "    ...,\n",
    "    'msg_type': 'display_data',\n",
    ".    'content': {\n",
    "        'data': {\n",
    "            'text/plain': '<IPython.core.display.HTML object>',\n",
    "            'text/html': '<div>I\\'m marked!... MAAARKED!!</div><brd-mark id=\"2307db4acc4fda0ba305ffdda518748a\"></brd-mark>'\n",
    "        },\n",
    "        'metadata': {'brd_did': '2307db4acc4fda0ba305ffdda518748a'},\n",
    "        'transient': {'display_id': '2307db4acc4fda0ba305ffdda518748a'}\n",
    "    },\n",
    "    'metadata': {}\n",
    "}\n",
    "```\n"
   ]
  },
  {
   "cell_type": "code",
   "execution_count": 56,
   "id": "f959dd66",
   "metadata": {
    "brd": {
     "id": "cbfeca02-158a-433b-854e-736d08f0b35a"
    }
   },
   "outputs": [
    {
     "data": {
      "text/html": [
       "<style>details ul { list-style-type:none; list-style-position: outside; padding-inline-start: 22px; margin: 0; } details .string { color: #24837b; } details .string::before { content: \"'\"; } details .string::after { content: \"'\"; } details .number { color: #ad8301; } details .true { color: blue; } details .false { color: red; } details .null { color: gray; } span.n { color: darkgrey; } </style>\n",
       "<details open><summary>NBCell@5\n",
       "</summary>  <ul>\n",
       "    <li>\n",
       "<span><span class=\"n\">idx</span>: <span class=\"v number\">5</span></span>    </li>\n",
       "    <li>\n",
       "<span><span class=\"n\">source</span>: <span class=\"v string\">dh = display(HTML(&quot;&lt;div&gt;I&#x27;m marked!... MAAARKED!!&lt;/div&gt;&quot;), display_id=True)\n",
       "cell = __nb__[__cellinfo__.cell_id]\n",
       "test_eq(at(cell, &#x27;outputs.0.…</span></span>    </li>\n",
       "    <li>\n",
       "<span><span class=\"n\">id</span>: <span class=\"v string\">Y134sZmlsZQ==</span></span>    </li>\n",
       "    <li>\n",
       "<span><span class=\"n\">cell_type</span>: <span class=\"v string\">code</span></span>    </li>\n",
       "<details open><summary>outputs\n",
       "</summary>      <ul>\n",
       "<details open><summary>0\n",
       "</summary>          <ul>\n",
       "            <li>\n",
       "<span><span class=\"n\">output_type</span>: <span class=\"v string\">display_data</span></span>            </li>\n",
       "<details open><summary>data\n",
       "</summary>              <ul>\n",
       "                <li>\n",
       "<span><span class=\"n\">text/plain</span>: <span class=\"v string\">&lt;IPython.core.display.HTML object&gt;</span></span>                </li>\n",
       "                <li>\n",
       "<span><span class=\"n\">text/html</span>: <span class=\"v string\">&lt;div&gt;I&#x27;m doomed!... DOOOOOMED!!&lt;/div&gt;\n",
       "&lt;brd-mark id=&quot;be9d4855bed807ddd02ae5e149336927&quot;&gt;&lt;/brd-mark&gt;</span></span>                </li>\n",
       "              </ul>\n",
       "</details>            <li>\n",
       "<span><span class=\"n\">metadata</span>: <span class=\"v \">{&#x27;brd_did&#x27;: &#x27;be9d4855bed807ddd02ae5e149336927&#x27;}</span></span>            </li>\n",
       "          </ul>\n",
       "</details><details open><summary>1\n",
       "</summary>          <ul>\n",
       "            <li>\n",
       "<span><span class=\"n\">output_type</span>: <span class=\"v string\">execute_result</span></span>            </li>\n",
       "            <li>\n",
       "<span><span class=\"n\">execution_count</span>: <span class=\"v number\">55</span></span>            </li>\n",
       "<details open><summary>data\n",
       "</summary>              <ul>\n",
       "                <li>\n",
       "<span><span class=\"n\">text/plain</span>: <span class=\"v string\">{&#x27;idx&#x27;: 5,\n",
       " &#x27;source&#x27;: &#x27;dh = display(HTML(&quot;&lt;div&gt;I\\&#x27;m marked!... MAAARKED!!&lt;/div&gt;&quot;), display_id=True)\\ncell = __nb__[__cellinfo__.cell_id]\\nte…</span></span>                </li>\n",
       "                <li>\n",
       "<span><span class=\"n\">text/html</span>: <span class=\"v string\">&lt;style&gt;details ul { list-style-type:none; list-style-position: outside; padding-inline-start: 22px; margin: 0; } details .string { color: #2…</span></span>                </li>\n",
       "                <li>\n",
       "<span><span class=\"n\">text/markdown</span>: <span class=\"v string\">&gt; code\n",
       "\n",
       "```json\n",
       "{\n",
       "  &#x27;idx&#x27;: 5,\n",
       "  &#x27;source&#x27;: &#x27;dh = display(HTML(&quot;&lt;div&gt;I\\&#x27;m marked!... MAAARKED!!&lt;/div&gt;&quot;), display_id=True)\\ncell = __nb__[__cel…</span></span>                </li>\n",
       "              </ul>\n",
       "</details>            <li>\n",
       "<span><span class=\"n\">metadata</span>: <span class=\"v \">{}</span></span>            </li>\n",
       "          </ul>\n",
       "</details>      </ul>\n",
       "</details>    <li>\n",
       "<span><span class=\"n\">execution_count</span>: <span class=\"v number\">55</span></span>    </li>\n",
       "  </ul>\n",
       "</details>"
      ],
      "text/markdown": [
       "> code\n",
       "\n",
       "```json\n",
       "{\n",
       "  'idx': 5,\n",
       "  'source': 'dh = display(HTML(\"<div>I\\'m marked!... MAAARKED!!</div>\"), display_id=True)\\ncell = __nb__[__cellinfo__.cell_id]\\ntest_eq(at(cell, \\'outputs.0.metadata.brd_did\\'), brdd.dh.display_id)  # type: ignore\\ncell',\n",
       "  'id': 'Y134sZmlsZQ==',\n",
       "  'cell_type': 'code',\n",
       "  'outputs': [\n",
       "    {\n",
       "      'output_type': 'display_data',\n",
       "      'data': {\n",
       "        'text/plain': '<IPython.core.display.HTML object>',\n",
       "        'text/html': '<div>I\\'m doomed!... DOOOOOMED!!</div>\\n<brd-mark id=\"be9d4855bed807ddd02ae5e149336927\"></brd-mark>'\n",
       "      },\n",
       "      'metadata': {'brd_did': 'be9d4855bed807ddd02ae5e149336927'}\n",
       "    },\n",
       "    {\n",
       "      'output_type': 'execute_result',\n",
       "      'execution_count': 55,\n",
       "      'data': {\n",
       "        'text/plain': '{\\'idx\\': 5,\\n \\'source\\': \\'dh = display(HTML(\"<div>I\\\\\\'m marked!... MAAARKED!!</div>\"), display_id=True)\\\\ncell = __nb__[__cellinfo__.cell_id]\\\\ntest_eq(at(cell, \\\\\\'outputs.0.metadata.brd_did\\\\\\'), brdd.dh.display_id)  # type: ignore\\\\ncell\\',\\n \\'id\\': \\'Y134sZmlsZQ==\\',\\n \\'cell_type\\': \\'code\\',\\n \\'outputs\\': [{\\'output_type\\': \\'display_data\\',\\n   \\'data\\': {\\'text/plain\\': \\'<IPython.core.display.HTML object>\\',\\n    \\'text/html\\': \\'<div>I\\\\\\'m marked!... MAAARKED!!</div>\\\\n<brd-mark id=\"be9d4855bed807ddd02ae5e149336927\"></brd-mark>\\'},\\n   \\'metadata\\': {\\'brd_did\\': \\'be9d4855bed807ddd02ae5e149336927\\'}}]}',\n",
       "        'text/html': '<style>details ul { list-style-type:none; list-style-position: outside; padding-inline-start: 22px; margin: 0; } details .string { color: #24837b; } details .string::before { content: \"\\'\"; } details .string::after { content: \"\\'\"; } details .number { color: #ad8301; } details .true { color: blue; } details .false { color: red; } details .null { color: gray; } span.n { color: darkgrey; } </style>\\n<details open><summary>NBCell@5\\n</summary>  <ul>\\n    <li>\\n<span><span class=\"n\">idx</span>: <span class=\"v number\">5</span></span>    </li>\\n    <li>\\n<span><span class=\"n\">source</span>: <span class=\"v string\">dh = display(HTML(&quot;&lt;div&gt;I&#x27;m marked!... MAAARKED!!&lt;/div&gt;&quot;), display_id=True)\\ncell = __nb__[__cellinfo__.cell_id]\\ntest_eq(at(cell, &#x27;outputs.0.…</span></span>    </li>\\n    <li>\\n<span><span class=\"n\">id</span>: <span class=\"v string\">Y134sZmlsZQ==</span></span>    </li>\\n    <li>\\n<span><span class=\"n\">cell_type</span>: <span class=\"v string\">code</span></span>    </li>\\n<details open><summary>outputs\\n</summary>      <ul>\\n<details open><summary>0\\n</summary>          <ul>\\n            <li>\\n<span><span class=\"n\">output_type</span>: <span class=\"v string\">display_data</span></span>            </li>\\n<details open><summary>data\\n</summary>              <ul>\\n                <li>\\n<span><span class=\"n\">text/plain</span>: <span class=\"v string\">&lt;IPython.core.display.HTML object&gt;</span></span>                </li>\\n                <li>\\n<span><span class=\"n\">text/html</span>: <span class=\"v string\">&lt;div&gt;I&#x27;m marked!... MAAARKED!!&lt;/div&gt;\\n&lt;brd-mark id=&quot;be9d4855bed807ddd02ae5e149336927&quot;&gt;&lt;/brd-mark&gt;</span></span>                </li>\\n              </ul>\\n</details>            <li>\\n<span><span class=\"n\">metadata</span>: <span class=\"v \">{&#x27;brd_did&#x27;: &#x27;be9d4855bed807ddd02ae5e149336927&#x27;}</span></span>            </li>\\n          </ul>\\n</details>      </ul>\\n</details>  </ul>\\n</details>',\n",
       "        'text/markdown': '> code\\n\\n```json\\n{\\n  \\'idx\\': 5,\\n  \\'source\\': \\'dh = display(HTML(\"<div>I\\\\\\'m marked!... MAAARKED!!</div>\"), display_id=True)\\\\ncell = __nb__[__cellinfo__.cell_id]\\\\ntest_eq(at(cell, \\\\\\'outputs.0.metadata.brd_did\\\\\\'), brdd.dh.display_id)  # type: ignore\\\\ncell\\',\\n  \\'id\\': \\'Y134sZmlsZQ==\\',\\n  \\'cell_type\\': \\'code\\',\\n  \\'outputs\\': [\\n    {\\n      \\'output_type\\': \\'display_data\\',\\n      \\'data\\': {\\n        \\'text/plain\\': \\'<IPython.core.display.HTML object>\\',\\n        \\'text/html\\': \\'<div>I\\\\\\'m marked!... MAAARKED!!</div>\\\\n<brd-mark id=\"be9d4855bed807ddd02ae5e149336927\"></brd-mark>\\'\\n      },\\n      \\'metadata\\': {\\'brd_did\\': \\'be9d4855bed807ddd02ae5e149336927\\'}\\n    }\\n  ]\\n}\\n```'\n",
       "      },\n",
       "      'metadata': {}\n",
       "    }\n",
       "  ],\n",
       "  'execution_count': 55\n",
       "}\n",
       "```"
      ],
      "text/plain": [
       "{'idx': 5,\n",
       " 'source': 'dh = display(HTML(\"<div>I\\'m marked!... MAAARKED!!</div>\"), display_id=True)\\ncell = __nb__[__cellinfo__.cell_id]\\ntest_eq(at(cell, \\'outputs.0.metadata.brd_did\\'), brdd.dh.display_id)  # type: ignore\\ncell',\n",
       " 'id': 'Y134sZmlsZQ==',\n",
       " 'cell_type': 'code',\n",
       " 'outputs': [{'output_type': 'display_data',\n",
       "   'data': {'text/plain': '<IPython.core.display.HTML object>',\n",
       "    'text/html': '<div>I\\'m doomed!... DOOOOOMED!!</div>\\n<brd-mark id=\"be9d4855bed807ddd02ae5e149336927\"></brd-mark>'},\n",
       "   'metadata': {'brd_did': 'be9d4855bed807ddd02ae5e149336927'}},\n",
       "  {'output_type': 'execute_result',\n",
       "   'execution_count': 55,\n",
       "   'data': {'text/plain': '{\\'idx\\': 5,\\n \\'source\\': \\'dh = display(HTML(\"<div>I\\\\\\'m marked!... MAAARKED!!</div>\"), display_id=True)\\\\ncell = __nb__[__cellinfo__.cell_id]\\\\ntest_eq(at(cell, \\\\\\'outputs.0.metadata.brd_did\\\\\\'), brdd.dh.display_id)  # type: ignore\\\\ncell\\',\\n \\'id\\': \\'Y134sZmlsZQ==\\',\\n \\'cell_type\\': \\'code\\',\\n \\'outputs\\': [{\\'output_type\\': \\'display_data\\',\\n   \\'data\\': {\\'text/plain\\': \\'<IPython.core.display.HTML object>\\',\\n    \\'text/html\\': \\'<div>I\\\\\\'m marked!... MAAARKED!!</div>\\\\n<brd-mark id=\"be9d4855bed807ddd02ae5e149336927\"></brd-mark>\\'},\\n   \\'metadata\\': {\\'brd_did\\': \\'be9d4855bed807ddd02ae5e149336927\\'}}]}',\n",
       "    'text/html': '<style>details ul { list-style-type:none; list-style-position: outside; padding-inline-start: 22px; margin: 0; } details .string { color: #24837b; } details .string::before { content: \"\\'\"; } details .string::after { content: \"\\'\"; } details .number { color: #ad8301; } details .true { color: blue; } details .false { color: red; } details .null { color: gray; } span.n { color: darkgrey; } </style>\\n<details open><summary>NBCell@5\\n</summary>  <ul>\\n    <li>\\n<span><span class=\"n\">idx</span>: <span class=\"v number\">5</span></span>    </li>\\n    <li>\\n<span><span class=\"n\">source</span>: <span class=\"v string\">dh = display(HTML(&quot;&lt;div&gt;I&#x27;m marked!... MAAARKED!!&lt;/div&gt;&quot;), display_id=True)\\ncell = __nb__[__cellinfo__.cell_id]\\ntest_eq(at(cell, &#x27;outputs.0.…</span></span>    </li>\\n    <li>\\n<span><span class=\"n\">id</span>: <span class=\"v string\">Y134sZmlsZQ==</span></span>    </li>\\n    <li>\\n<span><span class=\"n\">cell_type</span>: <span class=\"v string\">code</span></span>    </li>\\n<details open><summary>outputs\\n</summary>      <ul>\\n<details open><summary>0\\n</summary>          <ul>\\n            <li>\\n<span><span class=\"n\">output_type</span>: <span class=\"v string\">display_data</span></span>            </li>\\n<details open><summary>data\\n</summary>              <ul>\\n                <li>\\n<span><span class=\"n\">text/plain</span>: <span class=\"v string\">&lt;IPython.core.display.HTML object&gt;</span></span>                </li>\\n                <li>\\n<span><span class=\"n\">text/html</span>: <span class=\"v string\">&lt;div&gt;I&#x27;m marked!... MAAARKED!!&lt;/div&gt;\\n&lt;brd-mark id=&quot;be9d4855bed807ddd02ae5e149336927&quot;&gt;&lt;/brd-mark&gt;</span></span>                </li>\\n              </ul>\\n</details>            <li>\\n<span><span class=\"n\">metadata</span>: <span class=\"v \">{&#x27;brd_did&#x27;: &#x27;be9d4855bed807ddd02ae5e149336927&#x27;}</span></span>            </li>\\n          </ul>\\n</details>      </ul>\\n</details>  </ul>\\n</details>',\n",
       "    'text/markdown': '> code\\n\\n```json\\n{\\n  \\'idx\\': 5,\\n  \\'source\\': \\'dh = display(HTML(\"<div>I\\\\\\'m marked!... MAAARKED!!</div>\"), display_id=True)\\\\ncell = __nb__[__cellinfo__.cell_id]\\\\ntest_eq(at(cell, \\\\\\'outputs.0.metadata.brd_did\\\\\\'), brdd.dh.display_id)  # type: ignore\\\\ncell\\',\\n  \\'id\\': \\'Y134sZmlsZQ==\\',\\n  \\'cell_type\\': \\'code\\',\\n  \\'outputs\\': [\\n    {\\n      \\'output_type\\': \\'display_data\\',\\n      \\'data\\': {\\n        \\'text/plain\\': \\'<IPython.core.display.HTML object>\\',\\n        \\'text/html\\': \\'<div>I\\\\\\'m marked!... MAAARKED!!</div>\\\\n<brd-mark id=\"be9d4855bed807ddd02ae5e149336927\"></brd-mark>\\'\\n      },\\n      \\'metadata\\': {\\'brd_did\\': \\'be9d4855bed807ddd02ae5e149336927\\'}\\n    }\\n  ]\\n}\\n```'},\n",
       "   'metadata': {}}],\n",
       " 'execution_count': 55}"
      ]
     },
     "execution_count": 56,
     "metadata": {},
     "output_type": "execute_result"
    }
   ],
   "source": [
    "brdd.dh.update(HTML(\"<div>I'm doomed!... DOOOOOMED!!</div>\"))  # type: ignore\n",
    "cell"
   ]
  },
  {
   "cell_type": "code",
   "execution_count": null,
   "id": "c4b1f716",
   "metadata": {},
   "outputs": [],
   "source": []
  },
  {
   "cell_type": "markdown",
   "id": "28775d2a",
   "metadata": {},
   "source": [
    "```json\n",
    "{\n",
    "    ...,\n",
    "    'msg_type': 'update_display_data',\n",
    "    'content': {\n",
    "        'data': {'text/plain': '<IPython.core.display.HTML object>', 'text/html': \"<div>I'm doomed!... DOOOOOMED!!</div>\"},\n",
    "        'metadata': {},\n",
    "        'transient': {'display_id': 'c3d21633d341d2463f13ef40730e8c4a'}\n",
    "    },\n",
    "    'metadata': {}\n",
    "}\n",
    "\n",
    "{\n",
    "    ...,\n",
    "    'msg_type': 'update_display_data',\n",
    "    'content': {\n",
    "        'data': {\n",
    "            'text/plain': '<IPython.core.display.HTML object>',\n",
    "            'text/html': '<div>I\\'m doomed!... DOOOOOMED!!</div><brd-mark id=\"c3d21633d341d2463f13ef40730e8c4a\"></brd-mark>'\n",
    "        },\n",
    "        'metadata': {},\n",
    "        'transient': {'display_id': 'c3d21633d341d2463f13ef40730e8c4a'}\n",
    "    },\n",
    "    'metadata': {}\n",
    "}\n",
    "```\n"
   ]
  },
  {
   "cell_type": "code",
   "execution_count": 57,
   "id": "314999f8",
   "metadata": {
    "brd": {
     "id": "1f8dd5cb-f04b-4c53-94d5-8f6f1d733f9f"
    }
   },
   "outputs": [
    {
     "data": {
      "text/html": [
       "bbbb\n",
       "<brd-mark id=\"b203a95f6-d322bc7e-cb8f7d5b-959e6e10\"></brd-mark>"
      ],
      "text/plain": [
       "<IPython.core.display.HTML object>"
      ]
     },
     "metadata": {},
     "output_type": "display_data"
    }
   ],
   "source": [
    "display('aaaa', display_id=new_id());"
   ]
  },
  {
   "cell_type": "code",
   "execution_count": 58,
   "id": "ec825474",
   "metadata": {
    "brd": {
     "id": "b66674ac-7035-4cf7-93dc-38b71c264bb0",
     "renderer": false
    }
   },
   "outputs": [],
   "source": [
    "brdd.dh.update(HTML(\"bbbb\"))  # type: ignore"
   ]
  },
  {
   "cell_type": "code",
   "execution_count": 59,
   "id": "7912c176",
   "metadata": {
    "brd": {
     "id": "5d51a066-c2e2-4765-a8f0-ce2953d826fa"
    }
   },
   "outputs": [
    {
     "data": {
      "text/html": [
       "dddd\n",
       "<brd-mark id=\"bfe2deea5-aaab6ed1-7ba20699-ae3cc6ec\"></brd-mark>"
      ],
      "text/plain": [
       "<IPython.core.display.HTML object>"
      ]
     },
     "metadata": {
      "brd_did": "bfe2deea5-aaab6ed1-7ba20699-ae3cc6ec"
     },
     "output_type": "display_data"
    }
   ],
   "source": [
    "display('cccc', metadata={'bridge': {'brd_did': new_id()}})"
   ]
  },
  {
   "cell_type": "code",
   "execution_count": 60,
   "id": "0a15c678",
   "metadata": {
    "brd": {
     "id": "b5ac31c7-43da-40a0-a955-db8f920055b7",
     "renderer": false
    }
   },
   "outputs": [],
   "source": [
    "brdd.dh.update(HTML(\"dddd\"))  # type: ignore"
   ]
  },
  {
   "cell_type": "code",
   "execution_count": 61,
   "id": "9827bb96",
   "metadata": {
    "brd": {
     "id": "44e8078c-ef07-488c-bafd-195f13cadaf7"
    }
   },
   "outputs": [
    {
     "data": {
      "text/markdown": [
       "ffff"
      ],
      "text/plain": [
       "<IPython.core.display.Markdown object>"
      ]
     },
     "metadata": {
      "brd_did": "b68b05da9-05bc1bb5-8b5dcb42-a7b6a74e"
     },
     "output_type": "display_data"
    }
   ],
   "source": [
    "display('eeee', metadata={'test/plain': {'brd_did': new_id()}})\n",
    "test_eq(__nb__[__cellinfo__.cell_id].outputs[0].data['text/plain'], \"'eeee'\")"
   ]
  },
  {
   "cell_type": "code",
   "execution_count": 62,
   "id": "e2107056",
   "metadata": {
    "brd": {
     "id": "d4809534-ec87-4e9f-a790-e81d1b1c1ccd",
     "renderer": false
    }
   },
   "outputs": [],
   "source": [
    "brdd.dh.update(Markdown(\"ffff\"))  # type: ignore\n",
    "test_eq(__nb__[__cellinfo__.cell_id].outputs, [])"
   ]
  },
  {
   "cell_type": "markdown",
   "id": "bc2fd138",
   "metadata": {},
   "source": [
    "## Multi objects display"
   ]
  },
  {
   "cell_type": "code",
   "execution_count": 63,
   "id": "069fd69c",
   "metadata": {
    "brd": {
     "id": "32ef8e19-3a20-411c-b315-291b374af633"
    }
   },
   "outputs": [
    {
     "data": {
      "text/html": [
       "<div>Multi 1</div>\n",
       "<brd-mark id=\"b92df9aa3809c17686a9de1c127b316b\"></brd-mark>"
      ],
      "text/plain": [
       "<IPython.core.display.HTML object>"
      ]
     },
     "metadata": {},
     "output_type": "display_data"
    },
    {
     "data": {
      "text/html": [
       "<div>Multi 3</div>\n",
       "<brd-mark id=\"b92df9aa3809c17686a9de1c127b316b\"></brd-mark>"
      ],
      "text/plain": [
       "<IPython.core.display.HTML object>"
      ]
     },
     "metadata": {},
     "output_type": "display_data"
    }
   ],
   "source": [
    "dh = display(\n",
    "    HTML(\"<div>Multi 1</div>\"), \n",
    "    HTML(\"<div>Multi 2</div>\"), \n",
    "    display_id=True)"
   ]
  },
  {
   "cell_type": "code",
   "execution_count": 64,
   "id": "2b09397d",
   "metadata": {
    "brd": {
     "id": "c2b5e06f-e4b0-4131-aae9-dda36f86f2d3"
    }
   },
   "outputs": [
    {
     "data": {
      "text/html": [
       "<style>details ul { list-style-type:none; list-style-position: outside; padding-inline-start: 22px; margin: 0; } details .string { color: #24837b; } details .string::before { content: \"'\"; } details .string::after { content: \"'\"; } details .number { color: #ad8301; } details .true { color: blue; } details .false { color: red; } details .null { color: gray; } span.n { color: darkgrey; } </style>\n",
       "<details open><summary>NBCell@13\n",
       "</summary>  <ul>\n",
       "    <li>\n",
       "<span><span class=\"n\">idx</span>: <span class=\"v number\">13</span></span>    </li>\n",
       "    <li>\n",
       "<span><span class=\"n\">source</span>: <span class=\"v string\">dh = display(\n",
       "    HTML(&quot;&lt;div&gt;Multi 1&lt;/div&gt;&quot;), \n",
       "    HTML(&quot;&lt;div&gt;Multi 2&lt;/div&gt;&quot;), \n",
       "    display_id=True)</span></span>    </li>\n",
       "    <li>\n",
       "<span><span class=\"n\">id</span>: <span class=\"v string\">Y152sZmlsZQ==</span></span>    </li>\n",
       "    <li>\n",
       "<span><span class=\"n\">cell_type</span>: <span class=\"v string\">code</span></span>    </li>\n",
       "<details open><summary>outputs\n",
       "</summary>      <ul>\n",
       "<details open><summary>0\n",
       "</summary>          <ul>\n",
       "            <li>\n",
       "<span><span class=\"n\">output_type</span>: <span class=\"v string\">display_data</span></span>            </li>\n",
       "<details open><summary>data\n",
       "</summary>              <ul>\n",
       "                <li>\n",
       "<span><span class=\"n\">text/plain</span>: <span class=\"v string\">&lt;IPython.core.display.HTML object&gt;</span></span>                </li>\n",
       "                <li>\n",
       "<span><span class=\"n\">text/html</span>: <span class=\"v string\">&lt;div&gt;Multi 1&lt;/div&gt;\n",
       "&lt;brd-mark id=&quot;b92df9aa3809c17686a9de1c127b316b&quot;&gt;&lt;/brd-mark&gt;</span></span>                </li>\n",
       "              </ul>\n",
       "</details>            <li>\n",
       "<span><span class=\"n\">metadata</span>: <span class=\"v \">{&#x27;brd_did&#x27;: &#x27;b92df9aa3809c17686a9de1c127b316b&#x27;}</span></span>            </li>\n",
       "          </ul>\n",
       "</details><details open><summary>1\n",
       "</summary>          <ul>\n",
       "            <li>\n",
       "<span><span class=\"n\">output_type</span>: <span class=\"v string\">display_data</span></span>            </li>\n",
       "<details open><summary>data\n",
       "</summary>              <ul>\n",
       "                <li>\n",
       "<span><span class=\"n\">text/plain</span>: <span class=\"v string\">&lt;IPython.core.display.HTML object&gt;</span></span>                </li>\n",
       "                <li>\n",
       "<span><span class=\"n\">text/html</span>: <span class=\"v string\">&lt;div&gt;Multi 2&lt;/div&gt;\n",
       "&lt;brd-mark id=&quot;b92df9aa3809c17686a9de1c127b316b&quot;&gt;&lt;/brd-mark&gt;</span></span>                </li>\n",
       "              </ul>\n",
       "</details>            <li>\n",
       "<span><span class=\"n\">metadata</span>: <span class=\"v \">{&#x27;brd_did&#x27;: &#x27;b92df9aa3809c17686a9de1c127b316b&#x27;}</span></span>            </li>\n",
       "          </ul>\n",
       "</details>      </ul>\n",
       "</details>    <li>\n",
       "<span><span class=\"n\">execution_count</span>: <span class=\"v number\">63</span></span>    </li>\n",
       "  </ul>\n",
       "</details>"
      ],
      "text/markdown": [
       "> code\n",
       "\n",
       "```json\n",
       "{\n",
       "  'idx': 13,\n",
       "  'source': 'dh = display(\\n    HTML(\"<div>Multi 1</div>\"), \\n    HTML(\"<div>Multi 2</div>\"), \\n    display_id=True)',\n",
       "  'id': 'Y152sZmlsZQ==',\n",
       "  'cell_type': 'code',\n",
       "  'outputs': [\n",
       "    {\n",
       "      'output_type': 'display_data',\n",
       "      'data': {\n",
       "        'text/plain': '<IPython.core.display.HTML object>',\n",
       "        'text/html': '<div>Multi 1</div>\\n<brd-mark id=\"b92df9aa3809c17686a9de1c127b316b\"></brd-mark>'\n",
       "      },\n",
       "      'metadata': {'brd_did': 'b92df9aa3809c17686a9de1c127b316b'}\n",
       "    },\n",
       "    {\n",
       "      'output_type': 'display_data',\n",
       "      'data': {\n",
       "        'text/plain': '<IPython.core.display.HTML object>',\n",
       "        'text/html': '<div>Multi 2</div>\\n<brd-mark id=\"b92df9aa3809c17686a9de1c127b316b\"></brd-mark>'\n",
       "      },\n",
       "      'metadata': {'brd_did': 'b92df9aa3809c17686a9de1c127b316b'}\n",
       "    }\n",
       "  ],\n",
       "  'execution_count': 63\n",
       "}\n",
       "```"
      ],
      "text/plain": [
       "{'idx': 13,\n",
       " 'source': 'dh = display(\\n    HTML(\"<div>Multi 1</div>\"), \\n    HTML(\"<div>Multi 2</div>\"), \\n    display_id=True)',\n",
       " 'id': 'Y152sZmlsZQ==',\n",
       " 'cell_type': 'code',\n",
       " 'outputs': [{'output_type': 'display_data',\n",
       "   'data': {'text/plain': '<IPython.core.display.HTML object>',\n",
       "    'text/html': '<div>Multi 1</div>\\n<brd-mark id=\"b92df9aa3809c17686a9de1c127b316b\"></brd-mark>'},\n",
       "   'metadata': {'brd_did': 'b92df9aa3809c17686a9de1c127b316b'}},\n",
       "  {'output_type': 'display_data',\n",
       "   'data': {'text/plain': '<IPython.core.display.HTML object>',\n",
       "    'text/html': '<div>Multi 2</div>\\n<brd-mark id=\"b92df9aa3809c17686a9de1c127b316b\"></brd-mark>'},\n",
       "   'metadata': {'brd_did': 'b92df9aa3809c17686a9de1c127b316b'}}],\n",
       " 'execution_count': 63}"
      ]
     },
     "execution_count": 64,
     "metadata": {},
     "output_type": "execute_result"
    }
   ],
   "source": [
    "(cell := __nb__[__lastcellinfo__.cell_id])"
   ]
  },
  {
   "cell_type": "code",
   "execution_count": 65,
   "id": "30ce5920",
   "metadata": {
    "brd": {
     "id": "b48f19ce-c0b4-401e-95cb-4f1e18fca3ec"
    }
   },
   "outputs": [
    {
     "data": {
      "text/html": [
       "<style>details ul { list-style-type:none; list-style-position: outside; padding-inline-start: 22px; margin: 0; } details .string { color: #24837b; } details .string::before { content: \"'\"; } details .string::after { content: \"'\"; } details .number { color: #ad8301; } details .true { color: blue; } details .false { color: red; } details .null { color: gray; } span.n { color: darkgrey; } </style>\n",
       "<details open><summary>NBCell@13\n",
       "</summary>  <ul>\n",
       "    <li>\n",
       "<span><span class=\"n\">idx</span>: <span class=\"v number\">13</span></span>    </li>\n",
       "    <li>\n",
       "<span><span class=\"n\">source</span>: <span class=\"v string\">dh = display(\n",
       "    HTML(&quot;&lt;div&gt;Multi 1&lt;/div&gt;&quot;), \n",
       "    HTML(&quot;&lt;div&gt;Multi 2&lt;/div&gt;&quot;), \n",
       "    display_id=True)</span></span>    </li>\n",
       "    <li>\n",
       "<span><span class=\"n\">id</span>: <span class=\"v string\">Y152sZmlsZQ==</span></span>    </li>\n",
       "    <li>\n",
       "<span><span class=\"n\">cell_type</span>: <span class=\"v string\">code</span></span>    </li>\n",
       "<details open><summary>outputs\n",
       "</summary>      <ul>\n",
       "<details open><summary>0\n",
       "</summary>          <ul>\n",
       "            <li>\n",
       "<span><span class=\"n\">output_type</span>: <span class=\"v string\">display_data</span></span>            </li>\n",
       "<details open><summary>data\n",
       "</summary>              <ul>\n",
       "                <li>\n",
       "<span><span class=\"n\">text/plain</span>: <span class=\"v string\">&lt;IPython.core.display.HTML object&gt;</span></span>                </li>\n",
       "                <li>\n",
       "<span><span class=\"n\">text/html</span>: <span class=\"v string\">&lt;div&gt;Multi 1&lt;/div&gt;\n",
       "&lt;brd-mark id=&quot;b92df9aa3809c17686a9de1c127b316b&quot;&gt;&lt;/brd-mark&gt;</span></span>                </li>\n",
       "              </ul>\n",
       "</details>            <li>\n",
       "<span><span class=\"n\">metadata</span>: <span class=\"v \">{&#x27;brd_did&#x27;: &#x27;b92df9aa3809c17686a9de1c127b316b&#x27;}</span></span>            </li>\n",
       "          </ul>\n",
       "</details><details open><summary>1\n",
       "</summary>          <ul>\n",
       "            <li>\n",
       "<span><span class=\"n\">output_type</span>: <span class=\"v string\">display_data</span></span>            </li>\n",
       "<details open><summary>data\n",
       "</summary>              <ul>\n",
       "                <li>\n",
       "<span><span class=\"n\">text/plain</span>: <span class=\"v string\">&lt;IPython.core.display.HTML object&gt;</span></span>                </li>\n",
       "                <li>\n",
       "<span><span class=\"n\">text/html</span>: <span class=\"v string\">&lt;div&gt;Multi 3&lt;/div&gt;\n",
       "&lt;brd-mark id=&quot;b92df9aa3809c17686a9de1c127b316b&quot;&gt;&lt;/brd-mark&gt;</span></span>                </li>\n",
       "              </ul>\n",
       "</details>            <li>\n",
       "<span><span class=\"n\">metadata</span>: <span class=\"v \">{&#x27;brd_did&#x27;: &#x27;b92df9aa3809c17686a9de1c127b316b&#x27;}</span></span>            </li>\n",
       "          </ul>\n",
       "</details>      </ul>\n",
       "</details>    <li>\n",
       "<span><span class=\"n\">execution_count</span>: <span class=\"v number\">63</span></span>    </li>\n",
       "  </ul>\n",
       "</details>"
      ],
      "text/markdown": [
       "> code\n",
       "\n",
       "```json\n",
       "{\n",
       "  'idx': 13,\n",
       "  'source': 'dh = display(\\n    HTML(\"<div>Multi 1</div>\"), \\n    HTML(\"<div>Multi 2</div>\"), \\n    display_id=True)',\n",
       "  'id': 'Y152sZmlsZQ==',\n",
       "  'cell_type': 'code',\n",
       "  'outputs': [\n",
       "    {\n",
       "      'output_type': 'display_data',\n",
       "      'data': {\n",
       "        'text/plain': '<IPython.core.display.HTML object>',\n",
       "        'text/html': '<div>Multi 1</div>\\n<brd-mark id=\"b92df9aa3809c17686a9de1c127b316b\"></brd-mark>'\n",
       "      },\n",
       "      'metadata': {'brd_did': 'b92df9aa3809c17686a9de1c127b316b'}\n",
       "    },\n",
       "    {\n",
       "      'output_type': 'display_data',\n",
       "      'data': {\n",
       "        'text/plain': '<IPython.core.display.HTML object>',\n",
       "        'text/html': '<div>Multi 3</div>\\n<brd-mark id=\"b92df9aa3809c17686a9de1c127b316b\"></brd-mark>'\n",
       "      },\n",
       "      'metadata': {'brd_did': 'b92df9aa3809c17686a9de1c127b316b'}\n",
       "    }\n",
       "  ],\n",
       "  'execution_count': 63\n",
       "}\n",
       "```"
      ],
      "text/plain": [
       "{'idx': 13,\n",
       " 'source': 'dh = display(\\n    HTML(\"<div>Multi 1</div>\"), \\n    HTML(\"<div>Multi 2</div>\"), \\n    display_id=True)',\n",
       " 'id': 'Y152sZmlsZQ==',\n",
       " 'cell_type': 'code',\n",
       " 'outputs': [{'output_type': 'display_data',\n",
       "   'data': {'text/plain': '<IPython.core.display.HTML object>',\n",
       "    'text/html': '<div>Multi 1</div>\\n<brd-mark id=\"b92df9aa3809c17686a9de1c127b316b\"></brd-mark>'},\n",
       "   'metadata': {'brd_did': 'b92df9aa3809c17686a9de1c127b316b'}},\n",
       "  {'output_type': 'display_data',\n",
       "   'data': {'text/plain': '<IPython.core.display.HTML object>',\n",
       "    'text/html': '<div>Multi 3</div>\\n<brd-mark id=\"b92df9aa3809c17686a9de1c127b316b\"></brd-mark>'},\n",
       "   'metadata': {'brd_did': 'b92df9aa3809c17686a9de1c127b316b'}}],\n",
       " 'execution_count': 63}"
      ]
     },
     "execution_count": 65,
     "metadata": {},
     "output_type": "execute_result"
    }
   ],
   "source": [
    "if dh: dh.update(HTML(\"<div>Multi 3</div>\"))\n",
    "cell"
   ]
  },
  {
   "cell_type": "markdown",
   "id": "4313211b",
   "metadata": {},
   "source": [
    "When using transient display messages with the `display` function, multi objects display is ill-defined.  \n",
    "\n",
    "IPython `display` assign the same `display_id` to each object. The front-end however will handle it differently.\n",
    "\n",
    "`VSCode` displays all objects but only consider transient the last one.  \n",
    "`Lab`/`Notebook` repeats the last object as many times as the number of objects sent."
   ]
  },
  {
   "cell_type": "code",
   "execution_count": 66,
   "id": "935eae6b",
   "metadata": {
    "brd": {
     "id": "c0602957-ca73-4522-b7e2-fdbc7c48e5c2"
    }
   },
   "outputs": [
    {
     "data": {
      "text/html": [
       "<div>Multi 3</div>\n",
       "<brd-mark id=\"bfb039243-46c20c73-b9647f2a-5a7270e2\"></brd-mark>"
      ],
      "text/plain": [
       "<IPython.core.display.HTML object>"
      ]
     },
     "metadata": {},
     "output_type": "display_data"
    },
    {
     "data": {
      "text/html": [
       "<div>Multi 4</div>\n",
       "<brd-mark id=\"bffc68af4-f040d5fc-46a45475-5590da93\"></brd-mark>"
      ],
      "text/plain": [
       "<IPython.core.display.HTML object>"
      ]
     },
     "metadata": {},
     "output_type": "display_data"
    }
   ],
   "source": [
    "display(\n",
    "    HTML(\"<div>Multi 1</div>\", metadata={'brd_did': (did1 := new_id())}), \n",
    "    HTML(\"<div>Multi 2</div>\", metadata={'brd_did': (did2 := new_id())})\n",
    ")"
   ]
  },
  {
   "cell_type": "code",
   "execution_count": 67,
   "id": "83ab5442",
   "metadata": {
    "brd": {
     "id": "96847798-ffa3-4a18-8574-231d13dc1210",
     "renderer": false
    }
   },
   "outputs": [],
   "source": [
    "cell = __nb__[__lastcellinfo__.cell_id]\n",
    "test_eq(cell.dids, [did1, did2])"
   ]
  },
  {
   "cell_type": "code",
   "execution_count": 68,
   "id": "02184c06",
   "metadata": {
    "brd": {
     "id": "912cf7f6-ebd9-42d7-959a-3659d3098bea",
     "renderer": false
    }
   },
   "outputs": [],
   "source": [
    "dh1, dh2 = brdd.dhs[-2], brdd.dhs[-1]\n",
    "test_eq(dh1.display_id, did1)\n",
    "test_eq(dh2.display_id, did2)\n",
    "dh1.update(HTML(\"<div>Multi 3</div>\"))\n",
    "time.sleep(0.01)\n",
    "dh2.update(HTML(\"<div>Multi 4</div>\"))"
   ]
  },
  {
   "cell_type": "markdown",
   "id": "9d1ea178",
   "metadata": {},
   "source": [
    "We can sidestep the issue by using specific Bridge metadata."
   ]
  },
  {
   "cell_type": "markdown",
   "id": "0e85b472",
   "metadata": {},
   "source": [
    "## skip"
   ]
  },
  {
   "cell_type": "code",
   "execution_count": 69,
   "id": "c5e611c7",
   "metadata": {
    "brd": {
     "id": "7f6cbdf8-137a-4eca-8e95-11aa28fef3bd"
    }
   },
   "outputs": [
    {
     "data": {
      "text/markdown": [
       "Skipped"
      ],
      "text/plain": [
       "<IPython.core.display.Markdown object>"
      ]
     },
     "metadata": {
      "bridge": {
       "skip": true
      }
     },
     "output_type": "display_data"
    },
    {
     "data": {
      "text/plain": [
       "'Me too'"
      ]
     },
     "metadata": {
      "bridge": {
       "skip": true
      }
     },
     "output_type": "display_data"
    },
    {
     "data": {
      "application/json": {
       "And me": true
      },
      "text/plain": [
       "<IPython.core.display.JSON object>"
      ]
     },
     "metadata": {
      "application/json": {
       "expanded": false,
       "root": "root"
      },
      "bridge": {
       "skip": true
      }
     },
     "output_type": "display_data"
    }
   ],
   "source": [
    "display(Markdown(\"Skipped\"), metadata={'bridge': {'skip': True}})\n",
    "display(\"Me too\", JSON({\"And me\": True}), metadata=skip())"
   ]
  },
  {
   "cell_type": "code",
   "execution_count": 70,
   "id": "2566aba5",
   "metadata": {
    "brd": {
     "id": "46078eeb-1ac3-4448-9d9f-efe4265107f7"
    }
   },
   "outputs": [
    {
     "data": {
      "text/html": [
       "<style>details ul { list-style-type:none; list-style-position: outside; padding-inline-start: 22px; margin: 0; } details .string { color: #24837b; } details .string::before { content: \"'\"; } details .string::after { content: \"'\"; } details .number { color: #ad8301; } details .true { color: blue; } details .false { color: red; } details .null { color: gray; } span.n { color: darkgrey; } </style>\n",
       "<details open><summary>NBCell@19\n",
       "</summary>  <ul>\n",
       "    <li>\n",
       "<span><span class=\"n\">idx</span>: <span class=\"v number\">19</span></span>    </li>\n",
       "    <li>\n",
       "<span><span class=\"n\">source</span>: <span class=\"v string\">display(Markdown(&quot;Skipped&quot;), metadata={&#x27;bridge&#x27;: {&#x27;skip&#x27;: True}})\n",
       "display(&quot;Me too&quot;, JSON({&quot;And me&quot;: True}), metadata=skip())</span></span>    </li>\n",
       "    <li>\n",
       "<span><span class=\"n\">id</span>: <span class=\"v string\">Y164sZmlsZQ==</span></span>    </li>\n",
       "    <li>\n",
       "<span><span class=\"n\">cell_type</span>: <span class=\"v string\">code</span></span>    </li>\n",
       "<details open><summary>outputs\n",
       "</summary>      <ul>\n",
       "<details open><summary>0\n",
       "</summary>          <ul>\n",
       "            <li>\n",
       "<span><span class=\"n\">output_type</span>: <span class=\"v string\">display_data</span></span>            </li>\n",
       "<details open><summary>data\n",
       "</summary>              <ul>\n",
       "                <li>\n",
       "<span><span class=\"n\">text/plain</span>: <span class=\"v string\">&lt;IPython.core.display.Markdown object&gt;</span></span>                </li>\n",
       "                <li>\n",
       "<span><span class=\"n\">text/markdown</span>: <span class=\"v string\">Skipped</span></span>                </li>\n",
       "              </ul>\n",
       "</details>            <li>\n",
       "<span><span class=\"n\">metadata</span>: <span class=\"v \">{&#x27;bridge&#x27;: {&#x27;skip&#x27;: True}}</span></span>            </li>\n",
       "          </ul>\n",
       "</details><details open><summary>1\n",
       "</summary>          <ul>\n",
       "            <li>\n",
       "<span><span class=\"n\">output_type</span>: <span class=\"v string\">display_data</span></span>            </li>\n",
       "<details open><summary>data\n",
       "</summary>              <ul>\n",
       "                <li>\n",
       "<span><span class=\"n\">text/plain</span>: <span class=\"v string\">&#x27;Me too&#x27;</span></span>                </li>\n",
       "              </ul>\n",
       "</details>            <li>\n",
       "<span><span class=\"n\">metadata</span>: <span class=\"v \">{&#x27;bridge&#x27;: {&#x27;skip&#x27;: True}}</span></span>            </li>\n",
       "          </ul>\n",
       "</details><details open><summary>2\n",
       "</summary>          <ul>\n",
       "            <li>\n",
       "<span><span class=\"n\">output_type</span>: <span class=\"v string\">display_data</span></span>            </li>\n",
       "<details open><summary>data\n",
       "</summary>              <ul>\n",
       "                <li>\n",
       "<span><span class=\"n\">text/plain</span>: <span class=\"v string\">&lt;IPython.core.display.JSON object&gt;</span></span>                </li>\n",
       "                <li>\n",
       "<span><span class=\"n\">application/json</span>: <span class=\"v \">{&#x27;And me&#x27;: True}</span></span>                </li>\n",
       "              </ul>\n",
       "</details>            <li>\n",
       "<span><span class=\"n\">metadata</span>: <span class=\"v \">{&#x27;application/json&#x27;: {&#x27;expanded&#x27;: False, &#x27;root&#x27;: &#x27;root&#x27;}, &#x27;bridge&#x27;: {&#x27;skip&#x27;: True}}</span></span>            </li>\n",
       "          </ul>\n",
       "</details>      </ul>\n",
       "</details>    <li>\n",
       "<span><span class=\"n\">execution_count</span>: <span class=\"v number\">69</span></span>    </li>\n",
       "  </ul>\n",
       "</details>"
      ],
      "text/markdown": [
       "> code\n",
       "\n",
       "```json\n",
       "{\n",
       "  'idx': 19,\n",
       "  'source': 'display(Markdown(\"Skipped\"), metadata={\\'bridge\\': {\\'skip\\': True}})\\ndisplay(\"Me too\", JSON({\"And me\": True}), metadata=skip())',\n",
       "  'id': 'Y164sZmlsZQ==',\n",
       "  'cell_type': 'code',\n",
       "  'outputs': [\n",
       "    {\n",
       "      'output_type': 'display_data',\n",
       "      'data': {'text/plain': '<IPython.core.display.Markdown object>', 'text/markdown': 'Skipped'},\n",
       "      'metadata': {'bridge': {'skip': True}}\n",
       "    },\n",
       "    {'output_type': 'display_data', 'data': {'text/plain': \"'Me too'\"}, 'metadata': {'bridge': {'skip': True}}},\n",
       "    {\n",
       "      'output_type': 'display_data',\n",
       "      'data': {'text/plain': '<IPython.core.display.JSON object>', 'application/json': {'And me': True}},\n",
       "      'metadata': {'application/json': {'expanded': False, 'root': 'root'}, 'bridge': {'skip': True}}\n",
       "    }\n",
       "  ],\n",
       "  'execution_count': 69\n",
       "}\n",
       "```"
      ],
      "text/plain": [
       "{'idx': 19,\n",
       " 'source': 'display(Markdown(\"Skipped\"), metadata={\\'bridge\\': {\\'skip\\': True}})\\ndisplay(\"Me too\", JSON({\"And me\": True}), metadata=skip())',\n",
       " 'id': 'Y164sZmlsZQ==',\n",
       " 'cell_type': 'code',\n",
       " 'outputs': [{'output_type': 'display_data',\n",
       "   'data': {'text/plain': '<IPython.core.display.Markdown object>',\n",
       "    'text/markdown': 'Skipped'},\n",
       "   'metadata': {'bridge': {'skip': True}}},\n",
       "  {'output_type': 'display_data',\n",
       "   'data': {'text/plain': \"'Me too'\"},\n",
       "   'metadata': {'bridge': {'skip': True}}},\n",
       "  {'output_type': 'display_data',\n",
       "   'data': {'text/plain': '<IPython.core.display.JSON object>',\n",
       "    'application/json': {'And me': True}},\n",
       "   'metadata': {'application/json': {'expanded': False, 'root': 'root'},\n",
       "    'bridge': {'skip': True}}}],\n",
       " 'execution_count': 69}"
      ]
     },
     "execution_count": 70,
     "metadata": {},
     "output_type": "execute_result"
    }
   ],
   "source": [
    "__nb__[__lastcellinfo__.cell_id]"
   ]
  },
  {
   "cell_type": "markdown",
   "id": "83a2f168",
   "metadata": {},
   "source": [
    "Skip tagging all display objects."
   ]
  },
  {
   "cell_type": "code",
   "execution_count": 71,
   "id": "16d91100",
   "metadata": {
    "brd": {
     "id": "7d41eea1-9ae6-4790-9f13-3476060f2cee"
    }
   },
   "outputs": [
    {
     "data": {
      "text/html": [
       "Skipped"
      ],
      "text/plain": [
       "<IPython.core.display.HTML object>"
      ]
     },
     "metadata": {
      "text/html": {
       "brd_did": "b56da8325-869b1cf1-a7f1988f-5b4e301e",
       "skip": true
      }
     },
     "output_type": "display_data"
    },
    {
     "data": {
      "text/html": [
       "Not me\n",
       "<brd-mark id=\"b4330abfd-0b965cf1-8cc02002-84f6dcd5\"></brd-mark>"
      ],
      "text/plain": [
       "<IPython.core.display.HTML object>"
      ]
     },
     "metadata": {
      "brd_did": "b4330abfd-0b965cf1-8cc02002-84f6dcd5"
     },
     "output_type": "display_data"
    }
   ],
   "source": [
    "display(\n",
    "    HTML(\"Skipped\", metadata={'skip':True, 'brd_did':(did1 := new_id())}),\n",
    "    HTML(\"Not me\", metadata={'brd_did':(did2 := new_id())}),\n",
    ")"
   ]
  },
  {
   "cell_type": "code",
   "execution_count": 72,
   "id": "9bcf73c6",
   "metadata": {
    "brd": {
     "id": "b8150b59-3bc4-4943-a444-a2c30343e89d"
    }
   },
   "outputs": [
    {
     "data": {
      "text/html": [
       "<style>details ul { list-style-type:none; list-style-position: outside; padding-inline-start: 22px; margin: 0; } details .string { color: #24837b; } details .string::before { content: \"'\"; } details .string::after { content: \"'\"; } details .number { color: #ad8301; } details .true { color: blue; } details .false { color: red; } details .null { color: gray; } span.n { color: darkgrey; } </style>\n",
       "<details open><summary>NBCell@21\n",
       "</summary>  <ul>\n",
       "    <li>\n",
       "<span><span class=\"n\">idx</span>: <span class=\"v number\">21</span></span>    </li>\n",
       "    <li>\n",
       "<span><span class=\"n\">source</span>: <span class=\"v string\">display(\n",
       "    HTML(&quot;Skipped&quot;, metadata={&#x27;skip&#x27;:True, &#x27;brd_did&#x27;:(did1 := new_id())}),\n",
       "    HTML(&quot;Not me&quot;, metadata={&#x27;brd_did&#x27;:(did2 := new_id()…</span></span>    </li>\n",
       "    <li>\n",
       "<span><span class=\"n\">id</span>: <span class=\"v string\">Y200sZmlsZQ==</span></span>    </li>\n",
       "    <li>\n",
       "<span><span class=\"n\">cell_type</span>: <span class=\"v string\">code</span></span>    </li>\n",
       "<details open><summary>outputs\n",
       "</summary>      <ul>\n",
       "<details open><summary>0\n",
       "</summary>          <ul>\n",
       "            <li>\n",
       "<span><span class=\"n\">output_type</span>: <span class=\"v string\">display_data</span></span>            </li>\n",
       "<details open><summary>data\n",
       "</summary>              <ul>\n",
       "                <li>\n",
       "<span><span class=\"n\">text/plain</span>: <span class=\"v string\">&lt;IPython.core.display.HTML object&gt;</span></span>                </li>\n",
       "                <li>\n",
       "<span><span class=\"n\">text/html</span>: <span class=\"v string\">Skipped</span></span>                </li>\n",
       "              </ul>\n",
       "</details>            <li>\n",
       "<span><span class=\"n\">metadata</span>: <span class=\"v \">{&#x27;text/html&#x27;: {&#x27;skip&#x27;: True, &#x27;brd_did&#x27;: &#x27;b56da8325-869b1cf1-a7f1988f-5b4e301e&#x27;}}</span></span>            </li>\n",
       "          </ul>\n",
       "</details><details open><summary>1\n",
       "</summary>          <ul>\n",
       "            <li>\n",
       "<span><span class=\"n\">output_type</span>: <span class=\"v string\">display_data</span></span>            </li>\n",
       "<details open><summary>data\n",
       "</summary>              <ul>\n",
       "                <li>\n",
       "<span><span class=\"n\">text/plain</span>: <span class=\"v string\">&lt;IPython.core.display.HTML object&gt;</span></span>                </li>\n",
       "                <li>\n",
       "<span><span class=\"n\">text/html</span>: <span class=\"v string\">Not me\n",
       "&lt;brd-mark id=&quot;b4330abfd-0b965cf1-8cc02002-84f6dcd5&quot;&gt;&lt;/brd-mark&gt;</span></span>                </li>\n",
       "              </ul>\n",
       "</details>            <li>\n",
       "<span><span class=\"n\">metadata</span>: <span class=\"v \">{&#x27;brd_did&#x27;: &#x27;b4330abfd-0b965cf1-8cc02002-84f6dcd5&#x27;}</span></span>            </li>\n",
       "          </ul>\n",
       "</details>      </ul>\n",
       "</details>    <li>\n",
       "<span><span class=\"n\">execution_count</span>: <span class=\"v number\">71</span></span>    </li>\n",
       "  </ul>\n",
       "</details>"
      ],
      "text/markdown": [
       "> code\n",
       "\n",
       "```json\n",
       "{\n",
       "  'idx': 21,\n",
       "  'source': 'display(\\n    HTML(\"Skipped\", metadata={\\'skip\\':True, \\'brd_did\\':(did1 := new_id())}),\\n    HTML(\"Not me\", metadata={\\'brd_did\\':(did2 := new_id())}),\\n)',\n",
       "  'id': 'Y200sZmlsZQ==',\n",
       "  'cell_type': 'code',\n",
       "  'outputs': [\n",
       "    {\n",
       "      'output_type': 'display_data',\n",
       "      'data': {'text/plain': '<IPython.core.display.HTML object>', 'text/html': 'Skipped'},\n",
       "      'metadata': {'text/html': {'skip': True, 'brd_did': 'b56da8325-869b1cf1-a7f1988f-5b4e301e'}}\n",
       "    },\n",
       "    {\n",
       "      'output_type': 'display_data',\n",
       "      'data': {\n",
       "        'text/plain': '<IPython.core.display.HTML object>',\n",
       "        'text/html': 'Not me\\n<brd-mark id=\"b4330abfd-0b965cf1-8cc02002-84f6dcd5\"></brd-mark>'\n",
       "      },\n",
       "      'metadata': {'brd_did': 'b4330abfd-0b965cf1-8cc02002-84f6dcd5'}\n",
       "    }\n",
       "  ],\n",
       "  'execution_count': 71\n",
       "}\n",
       "```"
      ],
      "text/plain": [
       "{'idx': 21,\n",
       " 'source': 'display(\\n    HTML(\"Skipped\", metadata={\\'skip\\':True, \\'brd_did\\':(did1 := new_id())}),\\n    HTML(\"Not me\", metadata={\\'brd_did\\':(did2 := new_id())}),\\n)',\n",
       " 'id': 'Y200sZmlsZQ==',\n",
       " 'cell_type': 'code',\n",
       " 'outputs': [{'output_type': 'display_data',\n",
       "   'data': {'text/plain': '<IPython.core.display.HTML object>',\n",
       "    'text/html': 'Skipped'},\n",
       "   'metadata': {'text/html': {'skip': True,\n",
       "     'brd_did': 'b56da8325-869b1cf1-a7f1988f-5b4e301e'}}},\n",
       "  {'output_type': 'display_data',\n",
       "   'data': {'text/plain': '<IPython.core.display.HTML object>',\n",
       "    'text/html': 'Not me\\n<brd-mark id=\"b4330abfd-0b965cf1-8cc02002-84f6dcd5\"></brd-mark>'},\n",
       "   'metadata': {'brd_did': 'b4330abfd-0b965cf1-8cc02002-84f6dcd5'}}],\n",
       " 'execution_count': 71}"
      ]
     },
     "execution_count": 72,
     "metadata": {},
     "output_type": "execute_result"
    }
   ],
   "source": [
    "cell = __nb__[__lastcellinfo__.cell_id]\n",
    "test_eq(cell.dids, [did2])\n",
    "cell"
   ]
  },
  {
   "cell_type": "markdown",
   "id": "48c05692",
   "metadata": {},
   "source": [
    "Skip specific display object."
   ]
  },
  {
   "cell_type": "markdown",
   "id": "6c8e7400",
   "metadata": {},
   "source": [
    "## bridge_cfg.auto_id\n",
    "\n",
    "if `bridge_cfg.auto_id` is True, there's no need to use bridge metadata. Every supported `display`ed object (see `_BRDD_MIMES`) will receive an auto-generated display id.\n",
    "\n",
    "Caveat: be aware that VSCode limits the number of transient display ids (1000 last time I checked); not Jupyter, I believe."
   ]
  },
  {
   "cell_type": "code",
   "execution_count": 73,
   "id": "a6ba7b0b",
   "metadata": {
    "brd": {
     "id": "bb9bab80-0ec3-416c-a2f4-4fc963781db3"
    }
   },
   "outputs": [
    {
     "data": {
      "text/html": [
       "<div>--as shown above.</div>\n",
       "<brd-mark id=\"bf87d4115-ce89146e-37159004-5797ec4c\"></brd-mark>"
      ],
      "text/plain": [
       "<IPython.core.display.HTML object>"
      ]
     },
     "metadata": {},
     "output_type": "display_data"
    }
   ],
   "source": [
    "bridge_cfg.auto_id = True\n",
    "\n",
    "display(HTML(\"<div>I'm auto-id'd--</div>\"))"
   ]
  },
  {
   "cell_type": "code",
   "execution_count": 74,
   "id": "012ddd3c",
   "metadata": {
    "brd": {
     "id": "1dff475a-6f9d-42ea-b7c2-fb7c74b5e292",
     "renderer": false
    }
   },
   "outputs": [],
   "source": [
    "brdd.dhs[-1].update(HTML(\"<div>--as shown above.</div>\"))"
   ]
  },
  {
   "cell_type": "code",
   "execution_count": 75,
   "id": "d8a79d92",
   "metadata": {
    "brd": {
     "id": "9fc76772-58d2-4c38-ab25-518a53ab4013"
    }
   },
   "outputs": [
    {
     "data": {
      "application/json": {
       "did": "b81908465-ad751c07-d04b5c51-02872b74"
      },
      "text/plain": [
       "<IPython.core.display.JSON object>"
      ]
     },
     "metadata": {
      "application/json": {
       "expanded": false,
       "root": "root"
      }
     },
     "output_type": "display_data"
    }
   ],
   "source": [
    "display(Markdown(f\"## did\\n???\"))"
   ]
  },
  {
   "cell_type": "code",
   "execution_count": 76,
   "id": "2b90c42f",
   "metadata": {
    "brd": {
     "id": "0d5ddd77-38d1-48e8-93e1-249bf5d436ea",
     "renderer": false
    }
   },
   "outputs": [],
   "source": [
    "dh = brdd.dhs[-1]\n",
    "dh.update(HTML(f\"<b>did</b>: {dh.display_id}\"))"
   ]
  },
  {
   "cell_type": "code",
   "execution_count": 77,
   "id": "cb906a5e",
   "metadata": {
    "brd": {
     "id": "4080ef06-0a78-44fa-b934-1eb983474ffc",
     "renderer": false
    }
   },
   "outputs": [],
   "source": [
    "dh.update(JSON({'did': dh.display_id}))"
   ]
  },
  {
   "cell_type": "code",
   "execution_count": 78,
   "id": "2e679821",
   "metadata": {
    "brd": {
     "id": "6c3b0518-3ad3-4711-99f5-54ed684145f7"
    }
   },
   "outputs": [
    {
     "data": {
      "text/plain": [
       "'i+1=1'"
      ]
     },
     "metadata": {},
     "output_type": "display_data"
    },
    {
     "data": {
      "text/plain": [
       "'i+1=2'"
      ]
     },
     "metadata": {},
     "output_type": "display_data"
    },
    {
     "data": {
      "text/plain": [
       "'i+1=3'"
      ]
     },
     "metadata": {},
     "output_type": "display_data"
    },
    {
     "data": {
      "text/plain": [
       "'i+1=4'"
      ]
     },
     "metadata": {},
     "output_type": "display_data"
    },
    {
     "data": {
      "text/plain": [
       "'i+1=5'"
      ]
     },
     "metadata": {},
     "output_type": "display_data"
    }
   ],
   "source": [
    "dhs = []\n",
    "for i in range(5): \n",
    "    display(f'{i=}')\n",
    "    dhs.append(brdd.dhs[-1])"
   ]
  },
  {
   "cell_type": "code",
   "execution_count": 79,
   "id": "dfd779a5",
   "metadata": {
    "brd": {
     "id": "118f24ef-e575-4fa8-89c7-5bff2269da8b",
     "renderer": false
    }
   },
   "outputs": [],
   "source": [
    "for i in range(5): \n",
    "    dhs[i].update(f'{i+1=}')"
   ]
  },
  {
   "cell_type": "code",
   "execution_count": 80,
   "id": "58f0de8f",
   "metadata": {
    "brd": {
     "id": "dcba8b09-4035-447a-a3ac-42327069e815",
     "renderer": false
    }
   },
   "outputs": [],
   "source": [
    "brdd.dhs.clear()\n",
    "brdd.stop()\n",
    "csi.stop()\n",
    "bridge_cfg.auto_id = False"
   ]
  },
  {
   "cell_type": "markdown",
   "id": "3e0c8fae",
   "metadata": {},
   "source": [
    "----"
   ]
  },
  {
   "cell_type": "code",
   "execution_count": 81,
   "id": "593eda34",
   "metadata": {
    "brd": {
     "id": "545e8907-f1bf-41fb-9613-49fb973577a9"
    }
   },
   "outputs": [
    {
     "data": {
      "text/html": [
       "<pre style=\"white-space:pre;overflow-x:auto;line-height:normal;font-family:Menlo,'DejaVu Sans Mono',consolas,'Courier New',monospace\"><span style=\"font-weight: bold\">{</span>\n",
       "    <span style=\"color: #008000; text-decoration-color: #008000\">'msg_type'</span>: <span style=\"color: #008000; text-decoration-color: #008000\">'display_data'</span>,\n",
       "    <span style=\"color: #008000; text-decoration-color: #008000\">'content'</span>: <span style=\"font-weight: bold\">{</span>\n",
       "        <span style=\"color: #008000; text-decoration-color: #008000\">'data'</span>: <span style=\"font-weight: bold\">{</span><span style=\"color: #008000; text-decoration-color: #008000\">'text/html'</span>: <span style=\"color: #008000; text-decoration-color: #008000\">'&lt;div&gt;I\\'m doomed!... DOOOOOMED!!&lt;/div&gt;\\n&lt;brd-mark id=\"bef65b738-b562617c-fb9f4e11-50d3b9be\"&gt;&lt;/brd-mark&gt;'</span><span style=\"font-weight: bold\">}</span>,\n",
       "        <span style=\"color: #008000; text-decoration-color: #008000\">'metadata'</span>: <span style=\"font-weight: bold\">{</span><span style=\"color: #008000; text-decoration-color: #008000\">'brd_did'</span>: <span style=\"color: #008000; text-decoration-color: #008000\">'bef65b738-b562617c-fb9f4e11-50d3b9be'</span><span style=\"font-weight: bold\">}</span>,\n",
       "        <span style=\"color: #008000; text-decoration-color: #008000\">'transient'</span>: <span style=\"font-weight: bold\">{</span><span style=\"color: #008000; text-decoration-color: #008000\">'display_id'</span>: <span style=\"color: #008000; text-decoration-color: #008000\">'bef65b738-b562617c-fb9f4e11-50d3b9be'</span><span style=\"font-weight: bold\">}</span>\n",
       "    <span style=\"font-weight: bold\">}</span>\n",
       "<span style=\"font-weight: bold\">}</span>\n",
       "</pre>\n"
      ],
      "text/plain": [
       "\u001b[1m{\u001b[0m\n",
       "    \u001b[32m'msg_type'\u001b[0m: \u001b[32m'display_data'\u001b[0m,\n",
       "    \u001b[32m'content'\u001b[0m: \u001b[1m{\u001b[0m\n",
       "        \u001b[32m'data'\u001b[0m: \u001b[1m{\u001b[0m\u001b[32m'text/html'\u001b[0m: \u001b[32m'\u001b[0m\u001b[32m<\u001b[0m\u001b[32mdiv\u001b[0m\u001b[32m>I\\'m doomed!... DOOOOOMED!!</div>\\n<brd-mark \u001b[0m\u001b[32mid\u001b[0m\u001b[32m=\u001b[0m\u001b[32m\"bef65b738\u001b[0m\u001b[32m-b562617c-fb9f4e11-50d3b9be\"></brd-mark\u001b[0m\u001b[32m>\u001b[0m\u001b[32m'\u001b[0m\u001b[1m}\u001b[0m,\n",
       "        \u001b[32m'metadata'\u001b[0m: \u001b[1m{\u001b[0m\u001b[32m'brd_did'\u001b[0m: \u001b[32m'bef65b738-b562617c-fb9f4e11-50d3b9be'\u001b[0m\u001b[1m}\u001b[0m,\n",
       "        \u001b[32m'transient'\u001b[0m: \u001b[1m{\u001b[0m\u001b[32m'display_id'\u001b[0m: \u001b[32m'bef65b738-b562617c-fb9f4e11-50d3b9be'\u001b[0m\u001b[1m}\u001b[0m\n",
       "    \u001b[1m}\u001b[0m\n",
       "\u001b[1m}\u001b[0m\n"
      ]
     },
     "metadata": {},
     "output_type": "display_data"
    },
    {
     "data": {
      "text/html": [
       "<pre style=\"white-space:pre;overflow-x:auto;line-height:normal;font-family:Menlo,'DejaVu Sans Mono',consolas,'Courier New',monospace\"><span style=\"font-weight: bold\">{</span>\n",
       "    <span style=\"color: #008000; text-decoration-color: #008000\">'msg_type'</span>: <span style=\"color: #008000; text-decoration-color: #008000\">'display_data'</span>,\n",
       "    <span style=\"color: #008000; text-decoration-color: #008000\">'content'</span>: <span style=\"font-weight: bold\">{</span>\n",
       "        <span style=\"color: #008000; text-decoration-color: #008000\">'data'</span>: <span style=\"font-weight: bold\">{</span>\n",
       "            <span style=\"color: #008000; text-decoration-color: #008000\">'text/html'</span>: <span style=\"color: #008000; text-decoration-color: #008000\">'&lt;style&gt;details ul { list-style-type:none; list-style-position: outside; padding-inline-start: 22px; margin: 0; } </span>\n",
       "<span style=\"color: #008000; text-decoration-color: #008000\">details…'</span><span style=\"color: #000000; text-decoration-color: #000000\">,</span>\n",
       "<span style=\"color: #000000; text-decoration-color: #000000\">            </span><span style=\"color: #008000; text-decoration-color: #008000\">'text/markdown'</span><span style=\"color: #000000; text-decoration-color: #000000\">: </span><span style=\"color: #008000; text-decoration-color: #008000\">'&gt; code\\n\\n```json\\n{\\n  \\'idx\\': 0,\\n  \\'source\\': \\'did = </span>\n",
       "<span style=\"color: #008000; text-decoration-color: #008000\">new_id()\\\\nprint(f\"{did=}\")\\\\ndisplay(HTML(\"&lt;div&gt;I\\\\\\'m marked!... MAAARKED!!&lt;/div&gt;\", metadata={\\\\\\'brd_did\\\\\\': did}))\\\\ninfo = </span>\n",
       "<span style=\"color: #008000; text-decoration-color: #008000\">__cellinfo__; cell1  = __nb__[info.cell_id]; cell1_copy = cell1.copy()\\\\ntest_eq(cell1.dids, [did])  # NOTE: this is only valid after the </span>\n",
       "<span style=\"color: #008000; text-decoration-color: #008000\">`display(...)` call in above line\\\\n21\\',\\n  \\'id\\': \\'Y122sZmlsZQ==\\',\\n  \\'cell_type\\': \\'code\\',\\n  \\'outputs\\': [\\n    {\\n      </span>\n",
       "<span style=\"color: #008000; text-decoration-color: #008000\">\\'output_type\\': \\'display_data\\',\\n      \\'data\\': {\\n        \\'text/plain\\': \\'&lt;IPython.core.display.HTML object&gt;\\',\\n        </span>\n",
       "<span style=\"color: #008000; text-decoration-color: #008000\">\\'text/html\\': \\'&lt;div&gt;I\\\\\\'m marked!... MAAARKED!!&lt;/div&gt;\\\\n&lt;brd-mark id=\"bef65b738-b562617c-fb9f4e11-50d3b9be\"&gt;&lt;/brd-mark&gt;\\'\\n      },\\n    </span>\n",
       "<span style=\"color: #008000; text-decoration-color: #008000\">\\'metadata\\': {\\'brd_did\\': \\'bef65b738-b562617c-fb9f4e11-50d3b9be\\'}\\n    }\\n  ]\\n}\\n```'</span>\n",
       "        <span style=\"font-weight: bold\">}</span>,\n",
       "        <span style=\"color: #008000; text-decoration-color: #008000\">'metadata'</span>: <span style=\"font-weight: bold\">{}</span>,\n",
       "        <span style=\"color: #008000; text-decoration-color: #008000\">'transient'</span>: <span style=\"font-weight: bold\">{}</span>\n",
       "    <span style=\"font-weight: bold\">}</span>\n",
       "<span style=\"font-weight: bold\">}</span>\n",
       "</pre>\n"
      ],
      "text/plain": [
       "\u001b[1m{\u001b[0m\n",
       "    \u001b[32m'msg_type'\u001b[0m: \u001b[32m'display_data'\u001b[0m,\n",
       "    \u001b[32m'content'\u001b[0m: \u001b[1m{\u001b[0m\n",
       "        \u001b[32m'data'\u001b[0m: \u001b[1m{\u001b[0m\n",
       "            \u001b[32m'text/html'\u001b[0m: \u001b[32m'\u001b[0m\u001b[32m<\u001b[0m\u001b[32mstyle\u001b[0m\u001b[32m>details ul \u001b[0m\u001b[32m{\u001b[0m\u001b[32m list-style-type:none; list-style-position: outside; padding-inline-start: 22px; margin: 0; \u001b[0m\u001b[32m}\u001b[0m\u001b[32m \u001b[0m\n",
       "\u001b[32mdetails…'\u001b[0m\u001b[39m,\u001b[0m\n",
       "\u001b[39m            \u001b[0m\u001b[32m'text/markdown'\u001b[0m\u001b[39m: \u001b[0m\u001b[32m'> code\\n\\n```json\\n\u001b[0m\u001b[32m{\u001b[0m\u001b[32m\\n  \\'idx\\': 0,\\n  \\'source\\': \\'did = \u001b[0m\n",
       "\u001b[32mnew_id\u001b[0m\u001b[32m(\u001b[0m\u001b[32m)\u001b[0m\u001b[32m\\\\nprint\u001b[0m\u001b[32m(\u001b[0m\u001b[32mf\"\u001b[0m\u001b[32m{\u001b[0m\u001b[32mdid\u001b[0m\u001b[32m=\u001b[0m\u001b[32m}\u001b[0m\u001b[32m\"\u001b[0m\u001b[32m)\u001b[0m\u001b[32m\\\\ndisplay\u001b[0m\u001b[32m(\u001b[0m\u001b[32mHTML\u001b[0m\u001b[32m(\u001b[0m\u001b[32m\"<div>I\\\\\\'m marked!... MAAARKED!!</div>\", \u001b[0m\u001b[32mmetadata\u001b[0m\u001b[32m=\u001b[0m\u001b[32m{\u001b[0m\u001b[32m\\\\\\'brd_did\\\\\\': did\u001b[0m\u001b[32m}\u001b[0m\u001b[32m)\u001b[0m\u001b[32m)\u001b[0m\u001b[32m\\\\ninfo = \u001b[0m\n",
       "\u001b[32m__cellinfo__; cell1  = __nb__\u001b[0m\u001b[32m[\u001b[0m\u001b[32minfo.cell_id\u001b[0m\u001b[32m]\u001b[0m\u001b[32m; cell1_copy = cell1.copy\u001b[0m\u001b[32m(\u001b[0m\u001b[32m)\u001b[0m\u001b[32m\\\\ntest_eq\u001b[0m\u001b[32m(\u001b[0m\u001b[32mcell1.dids, \u001b[0m\u001b[32m[\u001b[0m\u001b[32mdid\u001b[0m\u001b[32m]\u001b[0m\u001b[32m)\u001b[0m\u001b[32m  # NOTE: this is only valid after the \u001b[0m\n",
       "\u001b[32m`display\u001b[0m\u001b[32m(\u001b[0m\u001b[32m...\u001b[0m\u001b[32m)\u001b[0m\u001b[32m` call in above line\\\\n21\\',\\n  \\'id\\': \\'\u001b[0m\u001b[32mY122sZmlsZQ\u001b[0m\u001b[32m==\\',\\n  \\'cell_type\\': \\'code\\',\\n  \\'outputs\\': \u001b[0m\u001b[32m[\u001b[0m\u001b[32m\\n    \u001b[0m\u001b[32m{\u001b[0m\u001b[32m\\n      \u001b[0m\n",
       "\u001b[32m\\'output_type\\': \\'display_data\\',\\n      \\'data\\': \u001b[0m\u001b[32m{\u001b[0m\u001b[32m\\n        \\'text/plain\\': \\'<IPython.core.display.HTML object>\\',\\n        \u001b[0m\n",
       "\u001b[32m\\'text/html\\': \\'<div>I\\\\\\'m marked!... MAAARKED!!</div>\\\\n<brd-mark \u001b[0m\u001b[32mid\u001b[0m\u001b[32m=\u001b[0m\u001b[32m\"bef65b738\u001b[0m\u001b[32m-b562617c-fb9f4e11-50d3b9be\"></brd-mark\u001b[0m\u001b[32m>\u001b[0m\u001b[32m\\'\\n      \u001b[0m\u001b[32m}\u001b[0m\u001b[32m,\\n    \u001b[0m\n",
       "\u001b[32m\\'metadata\\': \u001b[0m\u001b[32m{\u001b[0m\u001b[32m\\'brd_did\\': \\'bef65b738-b562617c-fb9f4e11-50d3b9be\\'\u001b[0m\u001b[32m}\u001b[0m\u001b[32m\\n    \u001b[0m\u001b[32m}\u001b[0m\u001b[32m\\n  \u001b[0m\u001b[32m]\u001b[0m\u001b[32m\\n\u001b[0m\u001b[32m}\u001b[0m\u001b[32m\\n```'\u001b[0m\n",
       "        \u001b[1m}\u001b[0m,\n",
       "        \u001b[32m'metadata'\u001b[0m: \u001b[1m{\u001b[0m\u001b[1m}\u001b[0m,\n",
       "        \u001b[32m'transient'\u001b[0m: \u001b[1m{\u001b[0m\u001b[1m}\u001b[0m\n",
       "    \u001b[1m}\u001b[0m\n",
       "\u001b[1m}\u001b[0m\n"
      ]
     },
     "metadata": {},
     "output_type": "display_data"
    },
    {
     "data": {
      "text/html": [
       "<pre style=\"white-space:pre;overflow-x:auto;line-height:normal;font-family:Menlo,'DejaVu Sans Mono',consolas,'Courier New',monospace\"><span style=\"font-weight: bold\">{</span>\n",
       "    <span style=\"color: #008000; text-decoration-color: #008000\">'msg_type'</span>: <span style=\"color: #008000; text-decoration-color: #008000\">'update_display_data'</span>,\n",
       "    <span style=\"color: #008000; text-decoration-color: #008000\">'content'</span>: <span style=\"font-weight: bold\">{</span>\n",
       "        <span style=\"color: #008000; text-decoration-color: #008000\">'data'</span>: <span style=\"font-weight: bold\">{</span><span style=\"color: #008000; text-decoration-color: #008000\">'text/html'</span>: <span style=\"color: #008000; text-decoration-color: #008000\">'&lt;div&gt;I\\'m doomed!... DOOOOOMED!!&lt;/div&gt;\\n&lt;brd-mark id=\"bef65b738-b562617c-fb9f4e11-50d3b9be\"&gt;&lt;/brd-mark&gt;'</span><span style=\"font-weight: bold\">}</span>,\n",
       "        <span style=\"color: #008000; text-decoration-color: #008000\">'metadata'</span>: <span style=\"font-weight: bold\">{}</span>,\n",
       "        <span style=\"color: #008000; text-decoration-color: #008000\">'transient'</span>: <span style=\"font-weight: bold\">{</span><span style=\"color: #008000; text-decoration-color: #008000\">'display_id'</span>: <span style=\"color: #008000; text-decoration-color: #008000\">'bef65b738-b562617c-fb9f4e11-50d3b9be'</span><span style=\"font-weight: bold\">}</span>\n",
       "    <span style=\"font-weight: bold\">}</span>\n",
       "<span style=\"font-weight: bold\">}</span>\n",
       "</pre>\n"
      ],
      "text/plain": [
       "\u001b[1m{\u001b[0m\n",
       "    \u001b[32m'msg_type'\u001b[0m: \u001b[32m'update_display_data'\u001b[0m,\n",
       "    \u001b[32m'content'\u001b[0m: \u001b[1m{\u001b[0m\n",
       "        \u001b[32m'data'\u001b[0m: \u001b[1m{\u001b[0m\u001b[32m'text/html'\u001b[0m: \u001b[32m'\u001b[0m\u001b[32m<\u001b[0m\u001b[32mdiv\u001b[0m\u001b[32m>I\\'m doomed!... DOOOOOMED!!</div>\\n<brd-mark \u001b[0m\u001b[32mid\u001b[0m\u001b[32m=\u001b[0m\u001b[32m\"bef65b738\u001b[0m\u001b[32m-b562617c-fb9f4e11-50d3b9be\"></brd-mark\u001b[0m\u001b[32m>\u001b[0m\u001b[32m'\u001b[0m\u001b[1m}\u001b[0m,\n",
       "        \u001b[32m'metadata'\u001b[0m: \u001b[1m{\u001b[0m\u001b[1m}\u001b[0m,\n",
       "        \u001b[32m'transient'\u001b[0m: \u001b[1m{\u001b[0m\u001b[32m'display_id'\u001b[0m: \u001b[32m'bef65b738-b562617c-fb9f4e11-50d3b9be'\u001b[0m\u001b[1m}\u001b[0m\n",
       "    \u001b[1m}\u001b[0m\n",
       "\u001b[1m}\u001b[0m\n"
      ]
     },
     "metadata": {},
     "output_type": "display_data"
    },
    {
     "data": {
      "text/html": [
       "<pre style=\"white-space:pre;overflow-x:auto;line-height:normal;font-family:Menlo,'DejaVu Sans Mono',consolas,'Courier New',monospace\"><span style=\"font-weight: bold\">{</span>\n",
       "    <span style=\"color: #008000; text-decoration-color: #008000\">'msg_type'</span>: <span style=\"color: #008000; text-decoration-color: #008000\">'display_data'</span>,\n",
       "    <span style=\"color: #008000; text-decoration-color: #008000\">'content'</span>: <span style=\"font-weight: bold\">{</span>\n",
       "        <span style=\"color: #008000; text-decoration-color: #008000\">'data'</span>: <span style=\"font-weight: bold\">{</span>\n",
       "            <span style=\"color: #008000; text-decoration-color: #008000\">'text/html'</span>: <span style=\"color: #008000; text-decoration-color: #008000\">'&lt;style&gt;details ul { list-style-type:none; list-style-position: outside; padding-inline-start: 22px; margin: 0; } </span>\n",
       "<span style=\"color: #008000; text-decoration-color: #008000\">details…'</span><span style=\"color: #000000; text-decoration-color: #000000\">,</span>\n",
       "<span style=\"color: #000000; text-decoration-color: #000000\">            </span><span style=\"color: #008000; text-decoration-color: #008000\">'text/markdown'</span><span style=\"color: #000000; text-decoration-color: #000000\">: </span><span style=\"color: #008000; text-decoration-color: #008000\">'&gt; code\\n\\n```json\\n{\\n  \\'idx\\': 0,\\n  \\'source\\': \\'did = </span>\n",
       "<span style=\"color: #008000; text-decoration-color: #008000\">new_id()\\\\nprint(f\"{did=}\")\\\\ndisplay(HTML(\"&lt;div&gt;I\\\\\\'m marked!... MAAARKED!!&lt;/div&gt;\", metadata={\\\\\\'brd_did\\\\\\': did}))\\\\ninfo = </span>\n",
       "<span style=\"color: #008000; text-decoration-color: #008000\">__cellinfo__; cell1  = __nb__[info.cell_id]; cell1_copy = cell1.copy()\\\\ntest_eq(cell1.dids, [did])  # NOTE: this is only valid after the </span>\n",
       "<span style=\"color: #008000; text-decoration-color: #008000\">`display(...)` call in above line\\\\n21\\',\\n  \\'id\\': \\'Y122sZmlsZQ==\\',\\n  \\'cell_type\\': \\'code\\',\\n  \\'outputs\\': [\\n    {\\n      </span>\n",
       "<span style=\"color: #008000; text-decoration-color: #008000\">\\'output_type\\': \\'display_data\\',\\n      \\'data\\': {\\n        \\'text/plain\\': \\'&lt;IPython.core.display.HTML object&gt;\\',\\n        </span>\n",
       "<span style=\"color: #008000; text-decoration-color: #008000\">\\'text/html\\': \\'&lt;div&gt;I\\\\\\'m doomed!... DOOOOOMED!!&lt;/div&gt;\\\\n&lt;brd-mark id=\"bef65b738-b562617c-fb9f4e11-50d3b9be\"&gt;&lt;/brd-mark&gt;\\'\\n      },\\n   </span>\n",
       "<span style=\"color: #008000; text-decoration-color: #008000\">\\'metadata\\': {\\'brd_did\\': \\'bef65b738-b562617c-fb9f4e11-50d3b9be\\'}\\n    },\\n    {\\'output_type\\': \\'execute_result\\', </span>\n",
       "<span style=\"color: #008000; text-decoration-color: #008000\">\\'execution_count\\': 50, \\'data\\': {\\'text/plain\\': \\'21\\'}, \\'metadata\\': {}}\\n  ],\\n  \\'execution_count\\': 50\\n}\\n```'</span>\n",
       "        <span style=\"font-weight: bold\">}</span>,\n",
       "        <span style=\"color: #008000; text-decoration-color: #008000\">'metadata'</span>: <span style=\"font-weight: bold\">{}</span>,\n",
       "        <span style=\"color: #008000; text-decoration-color: #008000\">'transient'</span>: <span style=\"font-weight: bold\">{}</span>\n",
       "    <span style=\"font-weight: bold\">}</span>\n",
       "<span style=\"font-weight: bold\">}</span>\n",
       "</pre>\n"
      ],
      "text/plain": [
       "\u001b[1m{\u001b[0m\n",
       "    \u001b[32m'msg_type'\u001b[0m: \u001b[32m'display_data'\u001b[0m,\n",
       "    \u001b[32m'content'\u001b[0m: \u001b[1m{\u001b[0m\n",
       "        \u001b[32m'data'\u001b[0m: \u001b[1m{\u001b[0m\n",
       "            \u001b[32m'text/html'\u001b[0m: \u001b[32m'\u001b[0m\u001b[32m<\u001b[0m\u001b[32mstyle\u001b[0m\u001b[32m>details ul \u001b[0m\u001b[32m{\u001b[0m\u001b[32m list-style-type:none; list-style-position: outside; padding-inline-start: 22px; margin: 0; \u001b[0m\u001b[32m}\u001b[0m\u001b[32m \u001b[0m\n",
       "\u001b[32mdetails…'\u001b[0m\u001b[39m,\u001b[0m\n",
       "\u001b[39m            \u001b[0m\u001b[32m'text/markdown'\u001b[0m\u001b[39m: \u001b[0m\u001b[32m'> code\\n\\n```json\\n\u001b[0m\u001b[32m{\u001b[0m\u001b[32m\\n  \\'idx\\': 0,\\n  \\'source\\': \\'did = \u001b[0m\n",
       "\u001b[32mnew_id\u001b[0m\u001b[32m(\u001b[0m\u001b[32m)\u001b[0m\u001b[32m\\\\nprint\u001b[0m\u001b[32m(\u001b[0m\u001b[32mf\"\u001b[0m\u001b[32m{\u001b[0m\u001b[32mdid\u001b[0m\u001b[32m=\u001b[0m\u001b[32m}\u001b[0m\u001b[32m\"\u001b[0m\u001b[32m)\u001b[0m\u001b[32m\\\\ndisplay\u001b[0m\u001b[32m(\u001b[0m\u001b[32mHTML\u001b[0m\u001b[32m(\u001b[0m\u001b[32m\"<div>I\\\\\\'m marked!... MAAARKED!!</div>\", \u001b[0m\u001b[32mmetadata\u001b[0m\u001b[32m=\u001b[0m\u001b[32m{\u001b[0m\u001b[32m\\\\\\'brd_did\\\\\\': did\u001b[0m\u001b[32m}\u001b[0m\u001b[32m)\u001b[0m\u001b[32m)\u001b[0m\u001b[32m\\\\ninfo = \u001b[0m\n",
       "\u001b[32m__cellinfo__; cell1  = __nb__\u001b[0m\u001b[32m[\u001b[0m\u001b[32minfo.cell_id\u001b[0m\u001b[32m]\u001b[0m\u001b[32m; cell1_copy = cell1.copy\u001b[0m\u001b[32m(\u001b[0m\u001b[32m)\u001b[0m\u001b[32m\\\\ntest_eq\u001b[0m\u001b[32m(\u001b[0m\u001b[32mcell1.dids, \u001b[0m\u001b[32m[\u001b[0m\u001b[32mdid\u001b[0m\u001b[32m]\u001b[0m\u001b[32m)\u001b[0m\u001b[32m  # NOTE: this is only valid after the \u001b[0m\n",
       "\u001b[32m`display\u001b[0m\u001b[32m(\u001b[0m\u001b[32m...\u001b[0m\u001b[32m)\u001b[0m\u001b[32m` call in above line\\\\n21\\',\\n  \\'id\\': \\'\u001b[0m\u001b[32mY122sZmlsZQ\u001b[0m\u001b[32m==\\',\\n  \\'cell_type\\': \\'code\\',\\n  \\'outputs\\': \u001b[0m\u001b[32m[\u001b[0m\u001b[32m\\n    \u001b[0m\u001b[32m{\u001b[0m\u001b[32m\\n      \u001b[0m\n",
       "\u001b[32m\\'output_type\\': \\'display_data\\',\\n      \\'data\\': \u001b[0m\u001b[32m{\u001b[0m\u001b[32m\\n        \\'text/plain\\': \\'<IPython.core.display.HTML object>\\',\\n        \u001b[0m\n",
       "\u001b[32m\\'text/html\\': \\'<div>I\\\\\\'m doomed!... DOOOOOMED!!</div>\\\\n<brd-mark \u001b[0m\u001b[32mid\u001b[0m\u001b[32m=\u001b[0m\u001b[32m\"bef65b738\u001b[0m\u001b[32m-b562617c-fb9f4e11-50d3b9be\"></brd-mark\u001b[0m\u001b[32m>\u001b[0m\u001b[32m\\'\\n      \u001b[0m\u001b[32m}\u001b[0m\u001b[32m,\\n   \u001b[0m\n",
       "\u001b[32m\\'metadata\\': \u001b[0m\u001b[32m{\u001b[0m\u001b[32m\\'brd_did\\': \\'bef65b738-b562617c-fb9f4e11-50d3b9be\\'\u001b[0m\u001b[32m}\u001b[0m\u001b[32m\\n    \u001b[0m\u001b[32m}\u001b[0m\u001b[32m,\\n    \u001b[0m\u001b[32m{\u001b[0m\u001b[32m\\'output_type\\': \\'execute_result\\', \u001b[0m\n",
       "\u001b[32m\\'execution_count\\': 50, \\'data\\': \u001b[0m\u001b[32m{\u001b[0m\u001b[32m\\'text/plain\\': \\'21\\'\u001b[0m\u001b[32m}\u001b[0m\u001b[32m, \\'metadata\\': \u001b[0m\u001b[32m{\u001b[0m\u001b[32m}\u001b[0m\u001b[32m}\u001b[0m\u001b[32m\\n  \u001b[0m\u001b[32m]\u001b[0m\u001b[32m,\\n  \\'execution_count\\': 50\\n\u001b[0m\u001b[32m}\u001b[0m\u001b[32m\\n```'\u001b[0m\n",
       "        \u001b[1m}\u001b[0m,\n",
       "        \u001b[32m'metadata'\u001b[0m: \u001b[1m{\u001b[0m\u001b[1m}\u001b[0m,\n",
       "        \u001b[32m'transient'\u001b[0m: \u001b[1m{\u001b[0m\u001b[1m}\u001b[0m\n",
       "    \u001b[1m}\u001b[0m\n",
       "\u001b[1m}\u001b[0m\n"
      ]
     },
     "metadata": {},
     "output_type": "display_data"
    },
    {
     "data": {
      "text/html": [
       "<pre style=\"white-space:pre;overflow-x:auto;line-height:normal;font-family:Menlo,'DejaVu Sans Mono',consolas,'Courier New',monospace\"><span style=\"font-weight: bold\">{</span>\n",
       "    <span style=\"color: #008000; text-decoration-color: #008000\">'msg_type'</span>: <span style=\"color: #008000; text-decoration-color: #008000\">'display_data'</span>,\n",
       "    <span style=\"color: #008000; text-decoration-color: #008000\">'content'</span>: <span style=\"font-weight: bold\">{</span>\n",
       "        <span style=\"color: #008000; text-decoration-color: #008000\">'data'</span>: <span style=\"font-weight: bold\">{</span><span style=\"color: #008000; text-decoration-color: #008000\">'text/html'</span>: <span style=\"color: #008000; text-decoration-color: #008000\">'&lt;div&gt;I\\'m doomed!... DOOOOOMED!!&lt;/div&gt;\\n&lt;brd-mark id=\"be9d4855bed807ddd02ae5e149336927\"&gt;&lt;/brd-mark&gt;'</span><span style=\"font-weight: bold\">}</span>,\n",
       "        <span style=\"color: #008000; text-decoration-color: #008000\">'metadata'</span>: <span style=\"font-weight: bold\">{}</span>,\n",
       "        <span style=\"color: #008000; text-decoration-color: #008000\">'transient'</span>: <span style=\"font-weight: bold\">{</span><span style=\"color: #008000; text-decoration-color: #008000\">'display_id'</span>: <span style=\"color: #008000; text-decoration-color: #008000\">'be9d4855bed807ddd02ae5e149336927'</span><span style=\"font-weight: bold\">}</span>\n",
       "    <span style=\"font-weight: bold\">}</span>\n",
       "<span style=\"font-weight: bold\">}</span>\n",
       "</pre>\n"
      ],
      "text/plain": [
       "\u001b[1m{\u001b[0m\n",
       "    \u001b[32m'msg_type'\u001b[0m: \u001b[32m'display_data'\u001b[0m,\n",
       "    \u001b[32m'content'\u001b[0m: \u001b[1m{\u001b[0m\n",
       "        \u001b[32m'data'\u001b[0m: \u001b[1m{\u001b[0m\u001b[32m'text/html'\u001b[0m: \u001b[32m'\u001b[0m\u001b[32m<\u001b[0m\u001b[32mdiv\u001b[0m\u001b[32m>I\\'m doomed!... DOOOOOMED!!</div>\\n<brd-mark \u001b[0m\u001b[32mid\u001b[0m\u001b[32m=\u001b[0m\u001b[32m\"be9d4855bed807ddd02ae5e149336927\"\u001b[0m\u001b[32m></brd-mark\u001b[0m\u001b[32m>\u001b[0m\u001b[32m'\u001b[0m\u001b[1m}\u001b[0m,\n",
       "        \u001b[32m'metadata'\u001b[0m: \u001b[1m{\u001b[0m\u001b[1m}\u001b[0m,\n",
       "        \u001b[32m'transient'\u001b[0m: \u001b[1m{\u001b[0m\u001b[32m'display_id'\u001b[0m: \u001b[32m'be9d4855bed807ddd02ae5e149336927'\u001b[0m\u001b[1m}\u001b[0m\n",
       "    \u001b[1m}\u001b[0m\n",
       "\u001b[1m}\u001b[0m\n"
      ]
     },
     "metadata": {},
     "output_type": "display_data"
    },
    {
     "data": {
      "text/html": [
       "<pre style=\"white-space:pre;overflow-x:auto;line-height:normal;font-family:Menlo,'DejaVu Sans Mono',consolas,'Courier New',monospace\"><span style=\"font-weight: bold\">{</span>\n",
       "    <span style=\"color: #008000; text-decoration-color: #008000\">'msg_type'</span>: <span style=\"color: #008000; text-decoration-color: #008000\">'update_display_data'</span>,\n",
       "    <span style=\"color: #008000; text-decoration-color: #008000\">'content'</span>: <span style=\"font-weight: bold\">{</span>\n",
       "        <span style=\"color: #008000; text-decoration-color: #008000\">'data'</span>: <span style=\"font-weight: bold\">{</span><span style=\"color: #008000; text-decoration-color: #008000\">'text/html'</span>: <span style=\"color: #008000; text-decoration-color: #008000\">'&lt;div&gt;I\\'m doomed!... DOOOOOMED!!&lt;/div&gt;\\n&lt;brd-mark id=\"be9d4855bed807ddd02ae5e149336927\"&gt;&lt;/brd-mark&gt;'</span><span style=\"font-weight: bold\">}</span>,\n",
       "        <span style=\"color: #008000; text-decoration-color: #008000\">'metadata'</span>: <span style=\"font-weight: bold\">{}</span>,\n",
       "        <span style=\"color: #008000; text-decoration-color: #008000\">'transient'</span>: <span style=\"font-weight: bold\">{</span><span style=\"color: #008000; text-decoration-color: #008000\">'display_id'</span>: <span style=\"color: #008000; text-decoration-color: #008000\">'be9d4855bed807ddd02ae5e149336927'</span><span style=\"font-weight: bold\">}</span>\n",
       "    <span style=\"font-weight: bold\">}</span>\n",
       "<span style=\"font-weight: bold\">}</span>\n",
       "</pre>\n"
      ],
      "text/plain": [
       "\u001b[1m{\u001b[0m\n",
       "    \u001b[32m'msg_type'\u001b[0m: \u001b[32m'update_display_data'\u001b[0m,\n",
       "    \u001b[32m'content'\u001b[0m: \u001b[1m{\u001b[0m\n",
       "        \u001b[32m'data'\u001b[0m: \u001b[1m{\u001b[0m\u001b[32m'text/html'\u001b[0m: \u001b[32m'\u001b[0m\u001b[32m<\u001b[0m\u001b[32mdiv\u001b[0m\u001b[32m>I\\'m doomed!... DOOOOOMED!!</div>\\n<brd-mark \u001b[0m\u001b[32mid\u001b[0m\u001b[32m=\u001b[0m\u001b[32m\"be9d4855bed807ddd02ae5e149336927\"\u001b[0m\u001b[32m></brd-mark\u001b[0m\u001b[32m>\u001b[0m\u001b[32m'\u001b[0m\u001b[1m}\u001b[0m,\n",
       "        \u001b[32m'metadata'\u001b[0m: \u001b[1m{\u001b[0m\u001b[1m}\u001b[0m,\n",
       "        \u001b[32m'transient'\u001b[0m: \u001b[1m{\u001b[0m\u001b[32m'display_id'\u001b[0m: \u001b[32m'be9d4855bed807ddd02ae5e149336927'\u001b[0m\u001b[1m}\u001b[0m\n",
       "    \u001b[1m}\u001b[0m\n",
       "\u001b[1m}\u001b[0m\n"
      ]
     },
     "metadata": {},
     "output_type": "display_data"
    },
    {
     "data": {
      "text/html": [
       "<pre style=\"white-space:pre;overflow-x:auto;line-height:normal;font-family:Menlo,'DejaVu Sans Mono',consolas,'Courier New',monospace\"><span style=\"font-weight: bold\">{</span>\n",
       "    <span style=\"color: #008000; text-decoration-color: #008000\">'msg_type'</span>: <span style=\"color: #008000; text-decoration-color: #008000\">'display_data'</span>,\n",
       "    <span style=\"color: #008000; text-decoration-color: #008000\">'content'</span>: <span style=\"font-weight: bold\">{</span>\n",
       "        <span style=\"color: #008000; text-decoration-color: #008000\">'data'</span>: <span style=\"font-weight: bold\">{</span><span style=\"color: #008000; text-decoration-color: #008000\">'text/html'</span>: <span style=\"color: #008000; text-decoration-color: #008000\">'bbbb\\n&lt;brd-mark id=\"b203a95f6-d322bc7e-cb8f7d5b-959e6e10\"&gt;&lt;/brd-mark&gt;'</span><span style=\"font-weight: bold\">}</span>,\n",
       "        <span style=\"color: #008000; text-decoration-color: #008000\">'metadata'</span>: <span style=\"font-weight: bold\">{}</span>,\n",
       "        <span style=\"color: #008000; text-decoration-color: #008000\">'transient'</span>: <span style=\"font-weight: bold\">{</span><span style=\"color: #008000; text-decoration-color: #008000\">'display_id'</span>: <span style=\"color: #008000; text-decoration-color: #008000\">'b203a95f6-d322bc7e-cb8f7d5b-959e6e10'</span><span style=\"font-weight: bold\">}</span>\n",
       "    <span style=\"font-weight: bold\">}</span>\n",
       "<span style=\"font-weight: bold\">}</span>\n",
       "</pre>\n"
      ],
      "text/plain": [
       "\u001b[1m{\u001b[0m\n",
       "    \u001b[32m'msg_type'\u001b[0m: \u001b[32m'display_data'\u001b[0m,\n",
       "    \u001b[32m'content'\u001b[0m: \u001b[1m{\u001b[0m\n",
       "        \u001b[32m'data'\u001b[0m: \u001b[1m{\u001b[0m\u001b[32m'text/html'\u001b[0m: \u001b[32m'bbbb\\n\u001b[0m\u001b[32m<\u001b[0m\u001b[32mbrd-mark\u001b[0m\u001b[32m \u001b[0m\u001b[32mid\u001b[0m\u001b[32m=\u001b[0m\u001b[32m\"b203a95f6\u001b[0m\u001b[32m-d322bc7e-cb8f7d5b-959e6e10\"></brd-mark\u001b[0m\u001b[32m>\u001b[0m\u001b[32m'\u001b[0m\u001b[1m}\u001b[0m,\n",
       "        \u001b[32m'metadata'\u001b[0m: \u001b[1m{\u001b[0m\u001b[1m}\u001b[0m,\n",
       "        \u001b[32m'transient'\u001b[0m: \u001b[1m{\u001b[0m\u001b[32m'display_id'\u001b[0m: \u001b[32m'b203a95f6-d322bc7e-cb8f7d5b-959e6e10'\u001b[0m\u001b[1m}\u001b[0m\n",
       "    \u001b[1m}\u001b[0m\n",
       "\u001b[1m}\u001b[0m\n"
      ]
     },
     "metadata": {},
     "output_type": "display_data"
    },
    {
     "data": {
      "text/html": [
       "<pre style=\"white-space:pre;overflow-x:auto;line-height:normal;font-family:Menlo,'DejaVu Sans Mono',consolas,'Courier New',monospace\"><span style=\"font-weight: bold\">{</span>\n",
       "    <span style=\"color: #008000; text-decoration-color: #008000\">'msg_type'</span>: <span style=\"color: #008000; text-decoration-color: #008000\">'update_display_data'</span>,\n",
       "    <span style=\"color: #008000; text-decoration-color: #008000\">'content'</span>: <span style=\"font-weight: bold\">{</span>\n",
       "        <span style=\"color: #008000; text-decoration-color: #008000\">'data'</span>: <span style=\"font-weight: bold\">{</span><span style=\"color: #008000; text-decoration-color: #008000\">'text/html'</span>: <span style=\"color: #008000; text-decoration-color: #008000\">'bbbb\\n&lt;brd-mark id=\"b203a95f6-d322bc7e-cb8f7d5b-959e6e10\"&gt;&lt;/brd-mark&gt;'</span><span style=\"font-weight: bold\">}</span>,\n",
       "        <span style=\"color: #008000; text-decoration-color: #008000\">'metadata'</span>: <span style=\"font-weight: bold\">{}</span>,\n",
       "        <span style=\"color: #008000; text-decoration-color: #008000\">'transient'</span>: <span style=\"font-weight: bold\">{</span><span style=\"color: #008000; text-decoration-color: #008000\">'display_id'</span>: <span style=\"color: #008000; text-decoration-color: #008000\">'b203a95f6-d322bc7e-cb8f7d5b-959e6e10'</span><span style=\"font-weight: bold\">}</span>\n",
       "    <span style=\"font-weight: bold\">}</span>\n",
       "<span style=\"font-weight: bold\">}</span>\n",
       "</pre>\n"
      ],
      "text/plain": [
       "\u001b[1m{\u001b[0m\n",
       "    \u001b[32m'msg_type'\u001b[0m: \u001b[32m'update_display_data'\u001b[0m,\n",
       "    \u001b[32m'content'\u001b[0m: \u001b[1m{\u001b[0m\n",
       "        \u001b[32m'data'\u001b[0m: \u001b[1m{\u001b[0m\u001b[32m'text/html'\u001b[0m: \u001b[32m'bbbb\\n\u001b[0m\u001b[32m<\u001b[0m\u001b[32mbrd-mark\u001b[0m\u001b[32m \u001b[0m\u001b[32mid\u001b[0m\u001b[32m=\u001b[0m\u001b[32m\"b203a95f6\u001b[0m\u001b[32m-d322bc7e-cb8f7d5b-959e6e10\"></brd-mark\u001b[0m\u001b[32m>\u001b[0m\u001b[32m'\u001b[0m\u001b[1m}\u001b[0m,\n",
       "        \u001b[32m'metadata'\u001b[0m: \u001b[1m{\u001b[0m\u001b[1m}\u001b[0m,\n",
       "        \u001b[32m'transient'\u001b[0m: \u001b[1m{\u001b[0m\u001b[32m'display_id'\u001b[0m: \u001b[32m'b203a95f6-d322bc7e-cb8f7d5b-959e6e10'\u001b[0m\u001b[1m}\u001b[0m\n",
       "    \u001b[1m}\u001b[0m\n",
       "\u001b[1m}\u001b[0m\n"
      ]
     },
     "metadata": {},
     "output_type": "display_data"
    },
    {
     "data": {
      "text/html": [
       "<pre style=\"white-space:pre;overflow-x:auto;line-height:normal;font-family:Menlo,'DejaVu Sans Mono',consolas,'Courier New',monospace\"><span style=\"font-weight: bold\">{</span>\n",
       "    <span style=\"color: #008000; text-decoration-color: #008000\">'msg_type'</span>: <span style=\"color: #008000; text-decoration-color: #008000\">'display_data'</span>,\n",
       "    <span style=\"color: #008000; text-decoration-color: #008000\">'content'</span>: <span style=\"font-weight: bold\">{</span>\n",
       "        <span style=\"color: #008000; text-decoration-color: #008000\">'data'</span>: <span style=\"font-weight: bold\">{</span><span style=\"color: #008000; text-decoration-color: #008000\">'text/html'</span>: <span style=\"color: #008000; text-decoration-color: #008000\">'dddd\\n&lt;brd-mark id=\"bfe2deea5-aaab6ed1-7ba20699-ae3cc6ec\"&gt;&lt;/brd-mark&gt;'</span><span style=\"font-weight: bold\">}</span>,\n",
       "        <span style=\"color: #008000; text-decoration-color: #008000\">'metadata'</span>: <span style=\"font-weight: bold\">{</span><span style=\"color: #008000; text-decoration-color: #008000\">'brd_did'</span>: <span style=\"color: #008000; text-decoration-color: #008000\">'bfe2deea5-aaab6ed1-7ba20699-ae3cc6ec'</span><span style=\"font-weight: bold\">}</span>,\n",
       "        <span style=\"color: #008000; text-decoration-color: #008000\">'transient'</span>: <span style=\"font-weight: bold\">{</span><span style=\"color: #008000; text-decoration-color: #008000\">'display_id'</span>: <span style=\"color: #008000; text-decoration-color: #008000\">'bfe2deea5-aaab6ed1-7ba20699-ae3cc6ec'</span><span style=\"font-weight: bold\">}</span>\n",
       "    <span style=\"font-weight: bold\">}</span>\n",
       "<span style=\"font-weight: bold\">}</span>\n",
       "</pre>\n"
      ],
      "text/plain": [
       "\u001b[1m{\u001b[0m\n",
       "    \u001b[32m'msg_type'\u001b[0m: \u001b[32m'display_data'\u001b[0m,\n",
       "    \u001b[32m'content'\u001b[0m: \u001b[1m{\u001b[0m\n",
       "        \u001b[32m'data'\u001b[0m: \u001b[1m{\u001b[0m\u001b[32m'text/html'\u001b[0m: \u001b[32m'dddd\\n\u001b[0m\u001b[32m<\u001b[0m\u001b[32mbrd-mark\u001b[0m\u001b[32m \u001b[0m\u001b[32mid\u001b[0m\u001b[32m=\u001b[0m\u001b[32m\"bfe2deea5\u001b[0m\u001b[32m-aaab6ed1-7ba20699-ae3cc6ec\"></brd-mark\u001b[0m\u001b[32m>\u001b[0m\u001b[32m'\u001b[0m\u001b[1m}\u001b[0m,\n",
       "        \u001b[32m'metadata'\u001b[0m: \u001b[1m{\u001b[0m\u001b[32m'brd_did'\u001b[0m: \u001b[32m'bfe2deea5-aaab6ed1-7ba20699-ae3cc6ec'\u001b[0m\u001b[1m}\u001b[0m,\n",
       "        \u001b[32m'transient'\u001b[0m: \u001b[1m{\u001b[0m\u001b[32m'display_id'\u001b[0m: \u001b[32m'bfe2deea5-aaab6ed1-7ba20699-ae3cc6ec'\u001b[0m\u001b[1m}\u001b[0m\n",
       "    \u001b[1m}\u001b[0m\n",
       "\u001b[1m}\u001b[0m\n"
      ]
     },
     "metadata": {},
     "output_type": "display_data"
    },
    {
     "data": {
      "text/html": [
       "<pre style=\"white-space:pre;overflow-x:auto;line-height:normal;font-family:Menlo,'DejaVu Sans Mono',consolas,'Courier New',monospace\"><span style=\"font-weight: bold\">{</span>\n",
       "    <span style=\"color: #008000; text-decoration-color: #008000\">'msg_type'</span>: <span style=\"color: #008000; text-decoration-color: #008000\">'update_display_data'</span>,\n",
       "    <span style=\"color: #008000; text-decoration-color: #008000\">'content'</span>: <span style=\"font-weight: bold\">{</span>\n",
       "        <span style=\"color: #008000; text-decoration-color: #008000\">'data'</span>: <span style=\"font-weight: bold\">{</span><span style=\"color: #008000; text-decoration-color: #008000\">'text/html'</span>: <span style=\"color: #008000; text-decoration-color: #008000\">'dddd\\n&lt;brd-mark id=\"bfe2deea5-aaab6ed1-7ba20699-ae3cc6ec\"&gt;&lt;/brd-mark&gt;'</span><span style=\"font-weight: bold\">}</span>,\n",
       "        <span style=\"color: #008000; text-decoration-color: #008000\">'metadata'</span>: <span style=\"font-weight: bold\">{}</span>,\n",
       "        <span style=\"color: #008000; text-decoration-color: #008000\">'transient'</span>: <span style=\"font-weight: bold\">{</span><span style=\"color: #008000; text-decoration-color: #008000\">'display_id'</span>: <span style=\"color: #008000; text-decoration-color: #008000\">'bfe2deea5-aaab6ed1-7ba20699-ae3cc6ec'</span><span style=\"font-weight: bold\">}</span>\n",
       "    <span style=\"font-weight: bold\">}</span>\n",
       "<span style=\"font-weight: bold\">}</span>\n",
       "</pre>\n"
      ],
      "text/plain": [
       "\u001b[1m{\u001b[0m\n",
       "    \u001b[32m'msg_type'\u001b[0m: \u001b[32m'update_display_data'\u001b[0m,\n",
       "    \u001b[32m'content'\u001b[0m: \u001b[1m{\u001b[0m\n",
       "        \u001b[32m'data'\u001b[0m: \u001b[1m{\u001b[0m\u001b[32m'text/html'\u001b[0m: \u001b[32m'dddd\\n\u001b[0m\u001b[32m<\u001b[0m\u001b[32mbrd-mark\u001b[0m\u001b[32m \u001b[0m\u001b[32mid\u001b[0m\u001b[32m=\u001b[0m\u001b[32m\"bfe2deea5\u001b[0m\u001b[32m-aaab6ed1-7ba20699-ae3cc6ec\"></brd-mark\u001b[0m\u001b[32m>\u001b[0m\u001b[32m'\u001b[0m\u001b[1m}\u001b[0m,\n",
       "        \u001b[32m'metadata'\u001b[0m: \u001b[1m{\u001b[0m\u001b[1m}\u001b[0m,\n",
       "        \u001b[32m'transient'\u001b[0m: \u001b[1m{\u001b[0m\u001b[32m'display_id'\u001b[0m: \u001b[32m'bfe2deea5-aaab6ed1-7ba20699-ae3cc6ec'\u001b[0m\u001b[1m}\u001b[0m\n",
       "    \u001b[1m}\u001b[0m\n",
       "\u001b[1m}\u001b[0m\n"
      ]
     },
     "metadata": {},
     "output_type": "display_data"
    },
    {
     "data": {
      "text/html": [
       "<pre style=\"white-space:pre;overflow-x:auto;line-height:normal;font-family:Menlo,'DejaVu Sans Mono',consolas,'Courier New',monospace\"><span style=\"font-weight: bold\">{</span>\n",
       "    <span style=\"color: #008000; text-decoration-color: #008000\">'msg_type'</span>: <span style=\"color: #008000; text-decoration-color: #008000\">'display_data'</span>,\n",
       "    <span style=\"color: #008000; text-decoration-color: #008000\">'content'</span>: <span style=\"font-weight: bold\">{</span>\n",
       "        <span style=\"color: #008000; text-decoration-color: #008000\">'data'</span>: <span style=\"font-weight: bold\">{</span><span style=\"color: #008000; text-decoration-color: #008000\">'text/markdown'</span>: <span style=\"color: #008000; text-decoration-color: #008000\">'ffff'</span><span style=\"font-weight: bold\">}</span>,\n",
       "        <span style=\"color: #008000; text-decoration-color: #008000\">'metadata'</span>: <span style=\"font-weight: bold\">{</span><span style=\"color: #008000; text-decoration-color: #008000\">'brd_did'</span>: <span style=\"color: #008000; text-decoration-color: #008000\">'b68b05da9-05bc1bb5-8b5dcb42-a7b6a74e'</span><span style=\"font-weight: bold\">}</span>,\n",
       "        <span style=\"color: #008000; text-decoration-color: #008000\">'transient'</span>: <span style=\"font-weight: bold\">{</span><span style=\"color: #008000; text-decoration-color: #008000\">'display_id'</span>: <span style=\"color: #008000; text-decoration-color: #008000\">'b68b05da9-05bc1bb5-8b5dcb42-a7b6a74e'</span><span style=\"font-weight: bold\">}</span>\n",
       "    <span style=\"font-weight: bold\">}</span>\n",
       "<span style=\"font-weight: bold\">}</span>\n",
       "</pre>\n"
      ],
      "text/plain": [
       "\u001b[1m{\u001b[0m\n",
       "    \u001b[32m'msg_type'\u001b[0m: \u001b[32m'display_data'\u001b[0m,\n",
       "    \u001b[32m'content'\u001b[0m: \u001b[1m{\u001b[0m\n",
       "        \u001b[32m'data'\u001b[0m: \u001b[1m{\u001b[0m\u001b[32m'text/markdown'\u001b[0m: \u001b[32m'ffff'\u001b[0m\u001b[1m}\u001b[0m,\n",
       "        \u001b[32m'metadata'\u001b[0m: \u001b[1m{\u001b[0m\u001b[32m'brd_did'\u001b[0m: \u001b[32m'b68b05da9-05bc1bb5-8b5dcb42-a7b6a74e'\u001b[0m\u001b[1m}\u001b[0m,\n",
       "        \u001b[32m'transient'\u001b[0m: \u001b[1m{\u001b[0m\u001b[32m'display_id'\u001b[0m: \u001b[32m'b68b05da9-05bc1bb5-8b5dcb42-a7b6a74e'\u001b[0m\u001b[1m}\u001b[0m\n",
       "    \u001b[1m}\u001b[0m\n",
       "\u001b[1m}\u001b[0m\n"
      ]
     },
     "metadata": {},
     "output_type": "display_data"
    },
    {
     "data": {
      "text/html": [
       "<pre style=\"white-space:pre;overflow-x:auto;line-height:normal;font-family:Menlo,'DejaVu Sans Mono',consolas,'Courier New',monospace\"><span style=\"font-weight: bold\">{</span>\n",
       "    <span style=\"color: #008000; text-decoration-color: #008000\">'msg_type'</span>: <span style=\"color: #008000; text-decoration-color: #008000\">'update_display_data'</span>,\n",
       "    <span style=\"color: #008000; text-decoration-color: #008000\">'content'</span>: <span style=\"font-weight: bold\">{</span><span style=\"color: #008000; text-decoration-color: #008000\">'data'</span>: <span style=\"font-weight: bold\">{</span><span style=\"color: #008000; text-decoration-color: #008000\">'text/markdown'</span>: <span style=\"color: #008000; text-decoration-color: #008000\">'ffff'</span><span style=\"font-weight: bold\">}</span>, <span style=\"color: #008000; text-decoration-color: #008000\">'metadata'</span>: <span style=\"font-weight: bold\">{}</span>, <span style=\"color: #008000; text-decoration-color: #008000\">'transient'</span>: <span style=\"font-weight: bold\">{</span><span style=\"color: #008000; text-decoration-color: #008000\">'display_id'</span>: <span style=\"color: #008000; text-decoration-color: #008000\">'b68b05da9-05bc1bb5-8b5dcb42-a7b6a74e'</span><span style=\"font-weight: bold\">}}</span>\n",
       "<span style=\"font-weight: bold\">}</span>\n",
       "</pre>\n"
      ],
      "text/plain": [
       "\u001b[1m{\u001b[0m\n",
       "    \u001b[32m'msg_type'\u001b[0m: \u001b[32m'update_display_data'\u001b[0m,\n",
       "    \u001b[32m'content'\u001b[0m: \u001b[1m{\u001b[0m\u001b[32m'data'\u001b[0m: \u001b[1m{\u001b[0m\u001b[32m'text/markdown'\u001b[0m: \u001b[32m'ffff'\u001b[0m\u001b[1m}\u001b[0m, \u001b[32m'metadata'\u001b[0m: \u001b[1m{\u001b[0m\u001b[1m}\u001b[0m, \u001b[32m'transient'\u001b[0m: \u001b[1m{\u001b[0m\u001b[32m'display_id'\u001b[0m: \u001b[32m'b68b05da9-05bc1bb5-8b5dcb42-a7b6a74e'\u001b[0m\u001b[1m}\u001b[0m\u001b[1m}\u001b[0m\n",
       "\u001b[1m}\u001b[0m\n"
      ]
     },
     "metadata": {},
     "output_type": "display_data"
    },
    {
     "data": {
      "text/html": [
       "<pre style=\"white-space:pre;overflow-x:auto;line-height:normal;font-family:Menlo,'DejaVu Sans Mono',consolas,'Courier New',monospace\"><span style=\"font-weight: bold\">{</span>\n",
       "    <span style=\"color: #008000; text-decoration-color: #008000\">'msg_type'</span>: <span style=\"color: #008000; text-decoration-color: #008000\">'display_data'</span>,\n",
       "    <span style=\"color: #008000; text-decoration-color: #008000\">'content'</span>: <span style=\"font-weight: bold\">{</span>\n",
       "        <span style=\"color: #008000; text-decoration-color: #008000\">'data'</span>: <span style=\"font-weight: bold\">{</span><span style=\"color: #008000; text-decoration-color: #008000\">'text/html'</span>: <span style=\"color: #008000; text-decoration-color: #008000\">'&lt;div&gt;Multi 1&lt;/div&gt;\\n&lt;brd-mark id=\"b92df9aa3809c17686a9de1c127b316b\"&gt;&lt;/brd-mark&gt;'</span><span style=\"font-weight: bold\">}</span>,\n",
       "        <span style=\"color: #008000; text-decoration-color: #008000\">'metadata'</span>: <span style=\"font-weight: bold\">{}</span>,\n",
       "        <span style=\"color: #008000; text-decoration-color: #008000\">'transient'</span>: <span style=\"font-weight: bold\">{</span><span style=\"color: #008000; text-decoration-color: #008000\">'display_id'</span>: <span style=\"color: #008000; text-decoration-color: #008000\">'b92df9aa3809c17686a9de1c127b316b'</span><span style=\"font-weight: bold\">}</span>\n",
       "    <span style=\"font-weight: bold\">}</span>\n",
       "<span style=\"font-weight: bold\">}</span>\n",
       "</pre>\n"
      ],
      "text/plain": [
       "\u001b[1m{\u001b[0m\n",
       "    \u001b[32m'msg_type'\u001b[0m: \u001b[32m'display_data'\u001b[0m,\n",
       "    \u001b[32m'content'\u001b[0m: \u001b[1m{\u001b[0m\n",
       "        \u001b[32m'data'\u001b[0m: \u001b[1m{\u001b[0m\u001b[32m'text/html'\u001b[0m: \u001b[32m'\u001b[0m\u001b[32m<\u001b[0m\u001b[32mdiv\u001b[0m\u001b[32m>Multi 1</div>\\n<brd-mark \u001b[0m\u001b[32mid\u001b[0m\u001b[32m=\u001b[0m\u001b[32m\"b92df9aa3809c17686a9de1c127b316b\"\u001b[0m\u001b[32m></brd-mark\u001b[0m\u001b[32m>\u001b[0m\u001b[32m'\u001b[0m\u001b[1m}\u001b[0m,\n",
       "        \u001b[32m'metadata'\u001b[0m: \u001b[1m{\u001b[0m\u001b[1m}\u001b[0m,\n",
       "        \u001b[32m'transient'\u001b[0m: \u001b[1m{\u001b[0m\u001b[32m'display_id'\u001b[0m: \u001b[32m'b92df9aa3809c17686a9de1c127b316b'\u001b[0m\u001b[1m}\u001b[0m\n",
       "    \u001b[1m}\u001b[0m\n",
       "\u001b[1m}\u001b[0m\n"
      ]
     },
     "metadata": {},
     "output_type": "display_data"
    },
    {
     "data": {
      "text/html": [
       "<pre style=\"white-space:pre;overflow-x:auto;line-height:normal;font-family:Menlo,'DejaVu Sans Mono',consolas,'Courier New',monospace\"><span style=\"font-weight: bold\">{</span>\n",
       "    <span style=\"color: #008000; text-decoration-color: #008000\">'msg_type'</span>: <span style=\"color: #008000; text-decoration-color: #008000\">'display_data'</span>,\n",
       "    <span style=\"color: #008000; text-decoration-color: #008000\">'content'</span>: <span style=\"font-weight: bold\">{</span>\n",
       "        <span style=\"color: #008000; text-decoration-color: #008000\">'data'</span>: <span style=\"font-weight: bold\">{</span><span style=\"color: #008000; text-decoration-color: #008000\">'text/html'</span>: <span style=\"color: #008000; text-decoration-color: #008000\">'&lt;div&gt;Multi 3&lt;/div&gt;\\n&lt;brd-mark id=\"b92df9aa3809c17686a9de1c127b316b\"&gt;&lt;/brd-mark&gt;'</span><span style=\"font-weight: bold\">}</span>,\n",
       "        <span style=\"color: #008000; text-decoration-color: #008000\">'metadata'</span>: <span style=\"font-weight: bold\">{}</span>,\n",
       "        <span style=\"color: #008000; text-decoration-color: #008000\">'transient'</span>: <span style=\"font-weight: bold\">{</span><span style=\"color: #008000; text-decoration-color: #008000\">'display_id'</span>: <span style=\"color: #008000; text-decoration-color: #008000\">'b92df9aa3809c17686a9de1c127b316b'</span><span style=\"font-weight: bold\">}</span>\n",
       "    <span style=\"font-weight: bold\">}</span>\n",
       "<span style=\"font-weight: bold\">}</span>\n",
       "</pre>\n"
      ],
      "text/plain": [
       "\u001b[1m{\u001b[0m\n",
       "    \u001b[32m'msg_type'\u001b[0m: \u001b[32m'display_data'\u001b[0m,\n",
       "    \u001b[32m'content'\u001b[0m: \u001b[1m{\u001b[0m\n",
       "        \u001b[32m'data'\u001b[0m: \u001b[1m{\u001b[0m\u001b[32m'text/html'\u001b[0m: \u001b[32m'\u001b[0m\u001b[32m<\u001b[0m\u001b[32mdiv\u001b[0m\u001b[32m>Multi 3</div>\\n<brd-mark \u001b[0m\u001b[32mid\u001b[0m\u001b[32m=\u001b[0m\u001b[32m\"b92df9aa3809c17686a9de1c127b316b\"\u001b[0m\u001b[32m></brd-mark\u001b[0m\u001b[32m>\u001b[0m\u001b[32m'\u001b[0m\u001b[1m}\u001b[0m,\n",
       "        \u001b[32m'metadata'\u001b[0m: \u001b[1m{\u001b[0m\u001b[1m}\u001b[0m,\n",
       "        \u001b[32m'transient'\u001b[0m: \u001b[1m{\u001b[0m\u001b[32m'display_id'\u001b[0m: \u001b[32m'b92df9aa3809c17686a9de1c127b316b'\u001b[0m\u001b[1m}\u001b[0m\n",
       "    \u001b[1m}\u001b[0m\n",
       "\u001b[1m}\u001b[0m\n"
      ]
     },
     "metadata": {},
     "output_type": "display_data"
    },
    {
     "data": {
      "text/html": [
       "<pre style=\"white-space:pre;overflow-x:auto;line-height:normal;font-family:Menlo,'DejaVu Sans Mono',consolas,'Courier New',monospace\"><span style=\"font-weight: bold\">{</span>\n",
       "    <span style=\"color: #008000; text-decoration-color: #008000\">'msg_type'</span>: <span style=\"color: #008000; text-decoration-color: #008000\">'update_display_data'</span>,\n",
       "    <span style=\"color: #008000; text-decoration-color: #008000\">'content'</span>: <span style=\"font-weight: bold\">{</span>\n",
       "        <span style=\"color: #008000; text-decoration-color: #008000\">'data'</span>: <span style=\"font-weight: bold\">{</span><span style=\"color: #008000; text-decoration-color: #008000\">'text/html'</span>: <span style=\"color: #008000; text-decoration-color: #008000\">'&lt;div&gt;Multi 3&lt;/div&gt;\\n&lt;brd-mark id=\"b92df9aa3809c17686a9de1c127b316b\"&gt;&lt;/brd-mark&gt;'</span><span style=\"font-weight: bold\">}</span>,\n",
       "        <span style=\"color: #008000; text-decoration-color: #008000\">'metadata'</span>: <span style=\"font-weight: bold\">{}</span>,\n",
       "        <span style=\"color: #008000; text-decoration-color: #008000\">'transient'</span>: <span style=\"font-weight: bold\">{</span><span style=\"color: #008000; text-decoration-color: #008000\">'display_id'</span>: <span style=\"color: #008000; text-decoration-color: #008000\">'b92df9aa3809c17686a9de1c127b316b'</span><span style=\"font-weight: bold\">}</span>\n",
       "    <span style=\"font-weight: bold\">}</span>\n",
       "<span style=\"font-weight: bold\">}</span>\n",
       "</pre>\n"
      ],
      "text/plain": [
       "\u001b[1m{\u001b[0m\n",
       "    \u001b[32m'msg_type'\u001b[0m: \u001b[32m'update_display_data'\u001b[0m,\n",
       "    \u001b[32m'content'\u001b[0m: \u001b[1m{\u001b[0m\n",
       "        \u001b[32m'data'\u001b[0m: \u001b[1m{\u001b[0m\u001b[32m'text/html'\u001b[0m: \u001b[32m'\u001b[0m\u001b[32m<\u001b[0m\u001b[32mdiv\u001b[0m\u001b[32m>Multi 3</div>\\n<brd-mark \u001b[0m\u001b[32mid\u001b[0m\u001b[32m=\u001b[0m\u001b[32m\"b92df9aa3809c17686a9de1c127b316b\"\u001b[0m\u001b[32m></brd-mark\u001b[0m\u001b[32m>\u001b[0m\u001b[32m'\u001b[0m\u001b[1m}\u001b[0m,\n",
       "        \u001b[32m'metadata'\u001b[0m: \u001b[1m{\u001b[0m\u001b[1m}\u001b[0m,\n",
       "        \u001b[32m'transient'\u001b[0m: \u001b[1m{\u001b[0m\u001b[32m'display_id'\u001b[0m: \u001b[32m'b92df9aa3809c17686a9de1c127b316b'\u001b[0m\u001b[1m}\u001b[0m\n",
       "    \u001b[1m}\u001b[0m\n",
       "\u001b[1m}\u001b[0m\n"
      ]
     },
     "metadata": {},
     "output_type": "display_data"
    },
    {
     "data": {
      "text/html": [
       "<pre style=\"white-space:pre;overflow-x:auto;line-height:normal;font-family:Menlo,'DejaVu Sans Mono',consolas,'Courier New',monospace\"><span style=\"font-weight: bold\">{</span>\n",
       "    <span style=\"color: #008000; text-decoration-color: #008000\">'msg_type'</span>: <span style=\"color: #008000; text-decoration-color: #008000\">'display_data'</span>,\n",
       "    <span style=\"color: #008000; text-decoration-color: #008000\">'content'</span>: <span style=\"font-weight: bold\">{</span>\n",
       "        <span style=\"color: #008000; text-decoration-color: #008000\">'data'</span>: <span style=\"font-weight: bold\">{</span><span style=\"color: #008000; text-decoration-color: #008000\">'text/html'</span>: <span style=\"color: #008000; text-decoration-color: #008000\">'&lt;div&gt;Multi 3&lt;/div&gt;\\n&lt;brd-mark id=\"bfb039243-46c20c73-b9647f2a-5a7270e2\"&gt;&lt;/brd-mark&gt;'</span><span style=\"font-weight: bold\">}</span>,\n",
       "        <span style=\"color: #008000; text-decoration-color: #008000\">'metadata'</span>: <span style=\"font-weight: bold\">{</span><span style=\"color: #008000; text-decoration-color: #008000\">'brd_did'</span>: <span style=\"color: #008000; text-decoration-color: #008000\">'bfb039243-46c20c73-b9647f2a-5a7270e2'</span><span style=\"font-weight: bold\">}</span>,\n",
       "        <span style=\"color: #008000; text-decoration-color: #008000\">'transient'</span>: <span style=\"font-weight: bold\">{</span><span style=\"color: #008000; text-decoration-color: #008000\">'display_id'</span>: <span style=\"color: #008000; text-decoration-color: #008000\">'bfb039243-46c20c73-b9647f2a-5a7270e2'</span><span style=\"font-weight: bold\">}</span>\n",
       "    <span style=\"font-weight: bold\">}</span>\n",
       "<span style=\"font-weight: bold\">}</span>\n",
       "</pre>\n"
      ],
      "text/plain": [
       "\u001b[1m{\u001b[0m\n",
       "    \u001b[32m'msg_type'\u001b[0m: \u001b[32m'display_data'\u001b[0m,\n",
       "    \u001b[32m'content'\u001b[0m: \u001b[1m{\u001b[0m\n",
       "        \u001b[32m'data'\u001b[0m: \u001b[1m{\u001b[0m\u001b[32m'text/html'\u001b[0m: \u001b[32m'\u001b[0m\u001b[32m<\u001b[0m\u001b[32mdiv\u001b[0m\u001b[32m>Multi 3</div>\\n<brd-mark \u001b[0m\u001b[32mid\u001b[0m\u001b[32m=\u001b[0m\u001b[32m\"bfb039243\u001b[0m\u001b[32m-46c20c73-b9647f2a-5a7270e2\"></brd-mark\u001b[0m\u001b[32m>\u001b[0m\u001b[32m'\u001b[0m\u001b[1m}\u001b[0m,\n",
       "        \u001b[32m'metadata'\u001b[0m: \u001b[1m{\u001b[0m\u001b[32m'brd_did'\u001b[0m: \u001b[32m'bfb039243-46c20c73-b9647f2a-5a7270e2'\u001b[0m\u001b[1m}\u001b[0m,\n",
       "        \u001b[32m'transient'\u001b[0m: \u001b[1m{\u001b[0m\u001b[32m'display_id'\u001b[0m: \u001b[32m'bfb039243-46c20c73-b9647f2a-5a7270e2'\u001b[0m\u001b[1m}\u001b[0m\n",
       "    \u001b[1m}\u001b[0m\n",
       "\u001b[1m}\u001b[0m\n"
      ]
     },
     "metadata": {},
     "output_type": "display_data"
    },
    {
     "data": {
      "text/html": [
       "<pre style=\"white-space:pre;overflow-x:auto;line-height:normal;font-family:Menlo,'DejaVu Sans Mono',consolas,'Courier New',monospace\"><span style=\"font-weight: bold\">{</span>\n",
       "    <span style=\"color: #008000; text-decoration-color: #008000\">'msg_type'</span>: <span style=\"color: #008000; text-decoration-color: #008000\">'display_data'</span>,\n",
       "    <span style=\"color: #008000; text-decoration-color: #008000\">'content'</span>: <span style=\"font-weight: bold\">{</span>\n",
       "        <span style=\"color: #008000; text-decoration-color: #008000\">'data'</span>: <span style=\"font-weight: bold\">{</span><span style=\"color: #008000; text-decoration-color: #008000\">'text/html'</span>: <span style=\"color: #008000; text-decoration-color: #008000\">'&lt;div&gt;Multi 4&lt;/div&gt;\\n&lt;brd-mark id=\"bffc68af4-f040d5fc-46a45475-5590da93\"&gt;&lt;/brd-mark&gt;'</span><span style=\"font-weight: bold\">}</span>,\n",
       "        <span style=\"color: #008000; text-decoration-color: #008000\">'metadata'</span>: <span style=\"font-weight: bold\">{</span><span style=\"color: #008000; text-decoration-color: #008000\">'brd_did'</span>: <span style=\"color: #008000; text-decoration-color: #008000\">'bffc68af4-f040d5fc-46a45475-5590da93'</span><span style=\"font-weight: bold\">}</span>,\n",
       "        <span style=\"color: #008000; text-decoration-color: #008000\">'transient'</span>: <span style=\"font-weight: bold\">{</span><span style=\"color: #008000; text-decoration-color: #008000\">'display_id'</span>: <span style=\"color: #008000; text-decoration-color: #008000\">'bffc68af4-f040d5fc-46a45475-5590da93'</span><span style=\"font-weight: bold\">}</span>\n",
       "    <span style=\"font-weight: bold\">}</span>\n",
       "<span style=\"font-weight: bold\">}</span>\n",
       "</pre>\n"
      ],
      "text/plain": [
       "\u001b[1m{\u001b[0m\n",
       "    \u001b[32m'msg_type'\u001b[0m: \u001b[32m'display_data'\u001b[0m,\n",
       "    \u001b[32m'content'\u001b[0m: \u001b[1m{\u001b[0m\n",
       "        \u001b[32m'data'\u001b[0m: \u001b[1m{\u001b[0m\u001b[32m'text/html'\u001b[0m: \u001b[32m'\u001b[0m\u001b[32m<\u001b[0m\u001b[32mdiv\u001b[0m\u001b[32m>Multi 4</div>\\n<brd-mark \u001b[0m\u001b[32mid\u001b[0m\u001b[32m=\u001b[0m\u001b[32m\"bffc68af4\u001b[0m\u001b[32m-f040d5fc-46a45475-5590da93\"></brd-mark\u001b[0m\u001b[32m>\u001b[0m\u001b[32m'\u001b[0m\u001b[1m}\u001b[0m,\n",
       "        \u001b[32m'metadata'\u001b[0m: \u001b[1m{\u001b[0m\u001b[32m'brd_did'\u001b[0m: \u001b[32m'bffc68af4-f040d5fc-46a45475-5590da93'\u001b[0m\u001b[1m}\u001b[0m,\n",
       "        \u001b[32m'transient'\u001b[0m: \u001b[1m{\u001b[0m\u001b[32m'display_id'\u001b[0m: \u001b[32m'bffc68af4-f040d5fc-46a45475-5590da93'\u001b[0m\u001b[1m}\u001b[0m\n",
       "    \u001b[1m}\u001b[0m\n",
       "\u001b[1m}\u001b[0m\n"
      ]
     },
     "metadata": {},
     "output_type": "display_data"
    },
    {
     "data": {
      "text/html": [
       "<pre style=\"white-space:pre;overflow-x:auto;line-height:normal;font-family:Menlo,'DejaVu Sans Mono',consolas,'Courier New',monospace\"><span style=\"font-weight: bold\">{</span>\n",
       "    <span style=\"color: #008000; text-decoration-color: #008000\">'msg_type'</span>: <span style=\"color: #008000; text-decoration-color: #008000\">'update_display_data'</span>,\n",
       "    <span style=\"color: #008000; text-decoration-color: #008000\">'content'</span>: <span style=\"font-weight: bold\">{</span>\n",
       "        <span style=\"color: #008000; text-decoration-color: #008000\">'data'</span>: <span style=\"font-weight: bold\">{</span><span style=\"color: #008000; text-decoration-color: #008000\">'text/html'</span>: <span style=\"color: #008000; text-decoration-color: #008000\">'&lt;div&gt;Multi 3&lt;/div&gt;\\n&lt;brd-mark id=\"bfb039243-46c20c73-b9647f2a-5a7270e2\"&gt;&lt;/brd-mark&gt;'</span><span style=\"font-weight: bold\">}</span>,\n",
       "        <span style=\"color: #008000; text-decoration-color: #008000\">'metadata'</span>: <span style=\"font-weight: bold\">{}</span>,\n",
       "        <span style=\"color: #008000; text-decoration-color: #008000\">'transient'</span>: <span style=\"font-weight: bold\">{</span><span style=\"color: #008000; text-decoration-color: #008000\">'display_id'</span>: <span style=\"color: #008000; text-decoration-color: #008000\">'bfb039243-46c20c73-b9647f2a-5a7270e2'</span><span style=\"font-weight: bold\">}</span>\n",
       "    <span style=\"font-weight: bold\">}</span>\n",
       "<span style=\"font-weight: bold\">}</span>\n",
       "</pre>\n"
      ],
      "text/plain": [
       "\u001b[1m{\u001b[0m\n",
       "    \u001b[32m'msg_type'\u001b[0m: \u001b[32m'update_display_data'\u001b[0m,\n",
       "    \u001b[32m'content'\u001b[0m: \u001b[1m{\u001b[0m\n",
       "        \u001b[32m'data'\u001b[0m: \u001b[1m{\u001b[0m\u001b[32m'text/html'\u001b[0m: \u001b[32m'\u001b[0m\u001b[32m<\u001b[0m\u001b[32mdiv\u001b[0m\u001b[32m>Multi 3</div>\\n<brd-mark \u001b[0m\u001b[32mid\u001b[0m\u001b[32m=\u001b[0m\u001b[32m\"bfb039243\u001b[0m\u001b[32m-46c20c73-b9647f2a-5a7270e2\"></brd-mark\u001b[0m\u001b[32m>\u001b[0m\u001b[32m'\u001b[0m\u001b[1m}\u001b[0m,\n",
       "        \u001b[32m'metadata'\u001b[0m: \u001b[1m{\u001b[0m\u001b[1m}\u001b[0m,\n",
       "        \u001b[32m'transient'\u001b[0m: \u001b[1m{\u001b[0m\u001b[32m'display_id'\u001b[0m: \u001b[32m'bfb039243-46c20c73-b9647f2a-5a7270e2'\u001b[0m\u001b[1m}\u001b[0m\n",
       "    \u001b[1m}\u001b[0m\n",
       "\u001b[1m}\u001b[0m\n"
      ]
     },
     "metadata": {},
     "output_type": "display_data"
    },
    {
     "data": {
      "text/html": [
       "<pre style=\"white-space:pre;overflow-x:auto;line-height:normal;font-family:Menlo,'DejaVu Sans Mono',consolas,'Courier New',monospace\"><span style=\"font-weight: bold\">{</span>\n",
       "    <span style=\"color: #008000; text-decoration-color: #008000\">'msg_type'</span>: <span style=\"color: #008000; text-decoration-color: #008000\">'update_display_data'</span>,\n",
       "    <span style=\"color: #008000; text-decoration-color: #008000\">'content'</span>: <span style=\"font-weight: bold\">{</span>\n",
       "        <span style=\"color: #008000; text-decoration-color: #008000\">'data'</span>: <span style=\"font-weight: bold\">{</span><span style=\"color: #008000; text-decoration-color: #008000\">'text/html'</span>: <span style=\"color: #008000; text-decoration-color: #008000\">'&lt;div&gt;Multi 4&lt;/div&gt;\\n&lt;brd-mark id=\"bffc68af4-f040d5fc-46a45475-5590da93\"&gt;&lt;/brd-mark&gt;'</span><span style=\"font-weight: bold\">}</span>,\n",
       "        <span style=\"color: #008000; text-decoration-color: #008000\">'metadata'</span>: <span style=\"font-weight: bold\">{}</span>,\n",
       "        <span style=\"color: #008000; text-decoration-color: #008000\">'transient'</span>: <span style=\"font-weight: bold\">{</span><span style=\"color: #008000; text-decoration-color: #008000\">'display_id'</span>: <span style=\"color: #008000; text-decoration-color: #008000\">'bffc68af4-f040d5fc-46a45475-5590da93'</span><span style=\"font-weight: bold\">}</span>\n",
       "    <span style=\"font-weight: bold\">}</span>\n",
       "<span style=\"font-weight: bold\">}</span>\n",
       "</pre>\n"
      ],
      "text/plain": [
       "\u001b[1m{\u001b[0m\n",
       "    \u001b[32m'msg_type'\u001b[0m: \u001b[32m'update_display_data'\u001b[0m,\n",
       "    \u001b[32m'content'\u001b[0m: \u001b[1m{\u001b[0m\n",
       "        \u001b[32m'data'\u001b[0m: \u001b[1m{\u001b[0m\u001b[32m'text/html'\u001b[0m: \u001b[32m'\u001b[0m\u001b[32m<\u001b[0m\u001b[32mdiv\u001b[0m\u001b[32m>Multi 4</div>\\n<brd-mark \u001b[0m\u001b[32mid\u001b[0m\u001b[32m=\u001b[0m\u001b[32m\"bffc68af4\u001b[0m\u001b[32m-f040d5fc-46a45475-5590da93\"></brd-mark\u001b[0m\u001b[32m>\u001b[0m\u001b[32m'\u001b[0m\u001b[1m}\u001b[0m,\n",
       "        \u001b[32m'metadata'\u001b[0m: \u001b[1m{\u001b[0m\u001b[1m}\u001b[0m,\n",
       "        \u001b[32m'transient'\u001b[0m: \u001b[1m{\u001b[0m\u001b[32m'display_id'\u001b[0m: \u001b[32m'bffc68af4-f040d5fc-46a45475-5590da93'\u001b[0m\u001b[1m}\u001b[0m\n",
       "    \u001b[1m}\u001b[0m\n",
       "\u001b[1m}\u001b[0m\n"
      ]
     },
     "metadata": {},
     "output_type": "display_data"
    },
    {
     "data": {
      "text/html": [
       "<pre style=\"white-space:pre;overflow-x:auto;line-height:normal;font-family:Menlo,'DejaVu Sans Mono',consolas,'Courier New',monospace\"><span style=\"font-weight: bold\">{</span><span style=\"color: #008000; text-decoration-color: #008000\">'msg_type'</span>: <span style=\"color: #008000; text-decoration-color: #008000\">'display_data'</span>, <span style=\"color: #008000; text-decoration-color: #008000\">'content'</span>: <span style=\"font-weight: bold\">{</span><span style=\"color: #008000; text-decoration-color: #008000\">'data'</span>: <span style=\"font-weight: bold\">{</span><span style=\"color: #008000; text-decoration-color: #008000\">'text/markdown'</span>: <span style=\"color: #008000; text-decoration-color: #008000\">'Skipped'</span><span style=\"font-weight: bold\">}</span>, <span style=\"color: #008000; text-decoration-color: #008000\">'metadata'</span>: <span style=\"font-weight: bold\">{</span><span style=\"color: #008000; text-decoration-color: #008000\">'bridge'</span>: <span style=\"font-weight: bold\">{</span><span style=\"color: #008000; text-decoration-color: #008000\">'skip'</span>: <span style=\"color: #00ff00; text-decoration-color: #00ff00; font-style: italic\">True</span><span style=\"font-weight: bold\">}}</span>, <span style=\"color: #008000; text-decoration-color: #008000\">'transient'</span>: <span style=\"font-weight: bold\">{}}}</span>\n",
       "</pre>\n"
      ],
      "text/plain": [
       "\u001b[1m{\u001b[0m\u001b[32m'msg_type'\u001b[0m: \u001b[32m'display_data'\u001b[0m, \u001b[32m'content'\u001b[0m: \u001b[1m{\u001b[0m\u001b[32m'data'\u001b[0m: \u001b[1m{\u001b[0m\u001b[32m'text/markdown'\u001b[0m: \u001b[32m'Skipped'\u001b[0m\u001b[1m}\u001b[0m, \u001b[32m'metadata'\u001b[0m: \u001b[1m{\u001b[0m\u001b[32m'bridge'\u001b[0m: \u001b[1m{\u001b[0m\u001b[32m'skip'\u001b[0m: \u001b[3;92mTrue\u001b[0m\u001b[1m}\u001b[0m\u001b[1m}\u001b[0m, \u001b[32m'transient'\u001b[0m: \u001b[1m{\u001b[0m\u001b[1m}\u001b[0m\u001b[1m}\u001b[0m\u001b[1m}\u001b[0m\n"
      ]
     },
     "metadata": {},
     "output_type": "display_data"
    },
    {
     "data": {
      "text/html": [
       "<pre style=\"white-space:pre;overflow-x:auto;line-height:normal;font-family:Menlo,'DejaVu Sans Mono',consolas,'Courier New',monospace\"><span style=\"font-weight: bold\">{</span><span style=\"color: #008000; text-decoration-color: #008000\">'msg_type'</span>: <span style=\"color: #008000; text-decoration-color: #008000\">'display_data'</span>, <span style=\"color: #008000; text-decoration-color: #008000\">'content'</span>: <span style=\"font-weight: bold\">{</span><span style=\"color: #008000; text-decoration-color: #008000\">'data'</span>: <span style=\"font-weight: bold\">{}</span>, <span style=\"color: #008000; text-decoration-color: #008000\">'metadata'</span>: <span style=\"font-weight: bold\">{</span><span style=\"color: #008000; text-decoration-color: #008000\">'bridge'</span>: <span style=\"font-weight: bold\">{</span><span style=\"color: #008000; text-decoration-color: #008000\">'skip'</span>: <span style=\"color: #00ff00; text-decoration-color: #00ff00; font-style: italic\">True</span><span style=\"font-weight: bold\">}}</span>, <span style=\"color: #008000; text-decoration-color: #008000\">'transient'</span>: <span style=\"font-weight: bold\">{}}}</span>\n",
       "</pre>\n"
      ],
      "text/plain": [
       "\u001b[1m{\u001b[0m\u001b[32m'msg_type'\u001b[0m: \u001b[32m'display_data'\u001b[0m, \u001b[32m'content'\u001b[0m: \u001b[1m{\u001b[0m\u001b[32m'data'\u001b[0m: \u001b[1m{\u001b[0m\u001b[1m}\u001b[0m, \u001b[32m'metadata'\u001b[0m: \u001b[1m{\u001b[0m\u001b[32m'bridge'\u001b[0m: \u001b[1m{\u001b[0m\u001b[32m'skip'\u001b[0m: \u001b[3;92mTrue\u001b[0m\u001b[1m}\u001b[0m\u001b[1m}\u001b[0m, \u001b[32m'transient'\u001b[0m: \u001b[1m{\u001b[0m\u001b[1m}\u001b[0m\u001b[1m}\u001b[0m\u001b[1m}\u001b[0m\n"
      ]
     },
     "metadata": {},
     "output_type": "display_data"
    },
    {
     "data": {
      "text/html": [
       "<pre style=\"white-space:pre;overflow-x:auto;line-height:normal;font-family:Menlo,'DejaVu Sans Mono',consolas,'Courier New',monospace\"><span style=\"font-weight: bold\">{</span>\n",
       "    <span style=\"color: #008000; text-decoration-color: #008000\">'msg_type'</span>: <span style=\"color: #008000; text-decoration-color: #008000\">'display_data'</span>,\n",
       "    <span style=\"color: #008000; text-decoration-color: #008000\">'content'</span>: <span style=\"font-weight: bold\">{</span>\n",
       "        <span style=\"color: #008000; text-decoration-color: #008000\">'data'</span>: <span style=\"font-weight: bold\">{</span><span style=\"color: #008000; text-decoration-color: #008000\">'application/json'</span>: <span style=\"font-weight: bold\">{</span><span style=\"color: #008000; text-decoration-color: #008000\">'And me'</span>: <span style=\"color: #00ff00; text-decoration-color: #00ff00; font-style: italic\">True</span><span style=\"font-weight: bold\">}}</span>,\n",
       "        <span style=\"color: #008000; text-decoration-color: #008000\">'metadata'</span>: <span style=\"font-weight: bold\">{</span><span style=\"color: #008000; text-decoration-color: #008000\">'application/json'</span>: <span style=\"font-weight: bold\">{</span><span style=\"color: #008000; text-decoration-color: #008000\">'expanded'</span>: <span style=\"color: #ff0000; text-decoration-color: #ff0000; font-style: italic\">False</span>, <span style=\"color: #008000; text-decoration-color: #008000\">'root'</span>: <span style=\"color: #008000; text-decoration-color: #008000\">'root'</span><span style=\"font-weight: bold\">}</span>, <span style=\"color: #008000; text-decoration-color: #008000\">'bridge'</span>: <span style=\"font-weight: bold\">{</span><span style=\"color: #008000; text-decoration-color: #008000\">'skip'</span>: <span style=\"color: #00ff00; text-decoration-color: #00ff00; font-style: italic\">True</span><span style=\"font-weight: bold\">}}</span>,\n",
       "        <span style=\"color: #008000; text-decoration-color: #008000\">'transient'</span>: <span style=\"font-weight: bold\">{}</span>\n",
       "    <span style=\"font-weight: bold\">}</span>\n",
       "<span style=\"font-weight: bold\">}</span>\n",
       "</pre>\n"
      ],
      "text/plain": [
       "\u001b[1m{\u001b[0m\n",
       "    \u001b[32m'msg_type'\u001b[0m: \u001b[32m'display_data'\u001b[0m,\n",
       "    \u001b[32m'content'\u001b[0m: \u001b[1m{\u001b[0m\n",
       "        \u001b[32m'data'\u001b[0m: \u001b[1m{\u001b[0m\u001b[32m'application/json'\u001b[0m: \u001b[1m{\u001b[0m\u001b[32m'And me'\u001b[0m: \u001b[3;92mTrue\u001b[0m\u001b[1m}\u001b[0m\u001b[1m}\u001b[0m,\n",
       "        \u001b[32m'metadata'\u001b[0m: \u001b[1m{\u001b[0m\u001b[32m'application/json'\u001b[0m: \u001b[1m{\u001b[0m\u001b[32m'expanded'\u001b[0m: \u001b[3;91mFalse\u001b[0m, \u001b[32m'root'\u001b[0m: \u001b[32m'root'\u001b[0m\u001b[1m}\u001b[0m, \u001b[32m'bridge'\u001b[0m: \u001b[1m{\u001b[0m\u001b[32m'skip'\u001b[0m: \u001b[3;92mTrue\u001b[0m\u001b[1m}\u001b[0m\u001b[1m}\u001b[0m,\n",
       "        \u001b[32m'transient'\u001b[0m: \u001b[1m{\u001b[0m\u001b[1m}\u001b[0m\n",
       "    \u001b[1m}\u001b[0m\n",
       "\u001b[1m}\u001b[0m\n"
      ]
     },
     "metadata": {},
     "output_type": "display_data"
    },
    {
     "data": {
      "text/html": [
       "<pre style=\"white-space:pre;overflow-x:auto;line-height:normal;font-family:Menlo,'DejaVu Sans Mono',consolas,'Courier New',monospace\"><span style=\"font-weight: bold\">{</span>\n",
       "    <span style=\"color: #008000; text-decoration-color: #008000\">'msg_type'</span>: <span style=\"color: #008000; text-decoration-color: #008000\">'display_data'</span>,\n",
       "    <span style=\"color: #008000; text-decoration-color: #008000\">'content'</span>: <span style=\"font-weight: bold\">{</span>\n",
       "        <span style=\"color: #008000; text-decoration-color: #008000\">'data'</span>: <span style=\"font-weight: bold\">{</span><span style=\"color: #008000; text-decoration-color: #008000\">'text/html'</span>: <span style=\"color: #008000; text-decoration-color: #008000\">'Skipped'</span><span style=\"font-weight: bold\">}</span>,\n",
       "        <span style=\"color: #008000; text-decoration-color: #008000\">'metadata'</span>: <span style=\"font-weight: bold\">{</span><span style=\"color: #008000; text-decoration-color: #008000\">'text/html'</span>: <span style=\"font-weight: bold\">{</span><span style=\"color: #008000; text-decoration-color: #008000\">'skip'</span>: <span style=\"color: #00ff00; text-decoration-color: #00ff00; font-style: italic\">True</span>, <span style=\"color: #008000; text-decoration-color: #008000\">'brd_did'</span>: <span style=\"color: #008000; text-decoration-color: #008000\">'b56da8325-869b1cf1-a7f1988f-5b4e301e'</span><span style=\"font-weight: bold\">}}</span>,\n",
       "        <span style=\"color: #008000; text-decoration-color: #008000\">'transient'</span>: <span style=\"font-weight: bold\">{}</span>\n",
       "    <span style=\"font-weight: bold\">}</span>\n",
       "<span style=\"font-weight: bold\">}</span>\n",
       "</pre>\n"
      ],
      "text/plain": [
       "\u001b[1m{\u001b[0m\n",
       "    \u001b[32m'msg_type'\u001b[0m: \u001b[32m'display_data'\u001b[0m,\n",
       "    \u001b[32m'content'\u001b[0m: \u001b[1m{\u001b[0m\n",
       "        \u001b[32m'data'\u001b[0m: \u001b[1m{\u001b[0m\u001b[32m'text/html'\u001b[0m: \u001b[32m'Skipped'\u001b[0m\u001b[1m}\u001b[0m,\n",
       "        \u001b[32m'metadata'\u001b[0m: \u001b[1m{\u001b[0m\u001b[32m'text/html'\u001b[0m: \u001b[1m{\u001b[0m\u001b[32m'skip'\u001b[0m: \u001b[3;92mTrue\u001b[0m, \u001b[32m'brd_did'\u001b[0m: \u001b[32m'b56da8325-869b1cf1-a7f1988f-5b4e301e'\u001b[0m\u001b[1m}\u001b[0m\u001b[1m}\u001b[0m,\n",
       "        \u001b[32m'transient'\u001b[0m: \u001b[1m{\u001b[0m\u001b[1m}\u001b[0m\n",
       "    \u001b[1m}\u001b[0m\n",
       "\u001b[1m}\u001b[0m\n"
      ]
     },
     "metadata": {},
     "output_type": "display_data"
    },
    {
     "data": {
      "text/html": [
       "<pre style=\"white-space:pre;overflow-x:auto;line-height:normal;font-family:Menlo,'DejaVu Sans Mono',consolas,'Courier New',monospace\"><span style=\"font-weight: bold\">{</span>\n",
       "    <span style=\"color: #008000; text-decoration-color: #008000\">'msg_type'</span>: <span style=\"color: #008000; text-decoration-color: #008000\">'display_data'</span>,\n",
       "    <span style=\"color: #008000; text-decoration-color: #008000\">'content'</span>: <span style=\"font-weight: bold\">{</span>\n",
       "        <span style=\"color: #008000; text-decoration-color: #008000\">'data'</span>: <span style=\"font-weight: bold\">{</span><span style=\"color: #008000; text-decoration-color: #008000\">'text/html'</span>: <span style=\"color: #008000; text-decoration-color: #008000\">'Not me\\n&lt;brd-mark id=\"b4330abfd-0b965cf1-8cc02002-84f6dcd5\"&gt;&lt;/brd-mark&gt;'</span><span style=\"font-weight: bold\">}</span>,\n",
       "        <span style=\"color: #008000; text-decoration-color: #008000\">'metadata'</span>: <span style=\"font-weight: bold\">{</span><span style=\"color: #008000; text-decoration-color: #008000\">'brd_did'</span>: <span style=\"color: #008000; text-decoration-color: #008000\">'b4330abfd-0b965cf1-8cc02002-84f6dcd5'</span><span style=\"font-weight: bold\">}</span>,\n",
       "        <span style=\"color: #008000; text-decoration-color: #008000\">'transient'</span>: <span style=\"font-weight: bold\">{</span><span style=\"color: #008000; text-decoration-color: #008000\">'display_id'</span>: <span style=\"color: #008000; text-decoration-color: #008000\">'b4330abfd-0b965cf1-8cc02002-84f6dcd5'</span><span style=\"font-weight: bold\">}</span>\n",
       "    <span style=\"font-weight: bold\">}</span>\n",
       "<span style=\"font-weight: bold\">}</span>\n",
       "</pre>\n"
      ],
      "text/plain": [
       "\u001b[1m{\u001b[0m\n",
       "    \u001b[32m'msg_type'\u001b[0m: \u001b[32m'display_data'\u001b[0m,\n",
       "    \u001b[32m'content'\u001b[0m: \u001b[1m{\u001b[0m\n",
       "        \u001b[32m'data'\u001b[0m: \u001b[1m{\u001b[0m\u001b[32m'text/html'\u001b[0m: \u001b[32m'Not me\\n\u001b[0m\u001b[32m<\u001b[0m\u001b[32mbrd-mark\u001b[0m\u001b[32m \u001b[0m\u001b[32mid\u001b[0m\u001b[32m=\u001b[0m\u001b[32m\"b4330abfd\u001b[0m\u001b[32m-0b965cf1-8cc02002-84f6dcd5\"></brd-mark\u001b[0m\u001b[32m>\u001b[0m\u001b[32m'\u001b[0m\u001b[1m}\u001b[0m,\n",
       "        \u001b[32m'metadata'\u001b[0m: \u001b[1m{\u001b[0m\u001b[32m'brd_did'\u001b[0m: \u001b[32m'b4330abfd-0b965cf1-8cc02002-84f6dcd5'\u001b[0m\u001b[1m}\u001b[0m,\n",
       "        \u001b[32m'transient'\u001b[0m: \u001b[1m{\u001b[0m\u001b[32m'display_id'\u001b[0m: \u001b[32m'b4330abfd-0b965cf1-8cc02002-84f6dcd5'\u001b[0m\u001b[1m}\u001b[0m\n",
       "    \u001b[1m}\u001b[0m\n",
       "\u001b[1m}\u001b[0m\n"
      ]
     },
     "metadata": {},
     "output_type": "display_data"
    },
    {
     "data": {
      "text/html": [
       "<pre style=\"white-space:pre;overflow-x:auto;line-height:normal;font-family:Menlo,'DejaVu Sans Mono',consolas,'Courier New',monospace\"><span style=\"font-weight: bold\">{</span>\n",
       "    <span style=\"color: #008000; text-decoration-color: #008000\">'msg_type'</span>: <span style=\"color: #008000; text-decoration-color: #008000\">'display_data'</span>,\n",
       "    <span style=\"color: #008000; text-decoration-color: #008000\">'content'</span>: <span style=\"font-weight: bold\">{</span>\n",
       "        <span style=\"color: #008000; text-decoration-color: #008000\">'data'</span>: <span style=\"font-weight: bold\">{</span><span style=\"color: #008000; text-decoration-color: #008000\">'text/html'</span>: <span style=\"color: #008000; text-decoration-color: #008000\">'&lt;div&gt;--as shown above.&lt;/div&gt;\\n&lt;brd-mark id=\"bf87d4115-ce89146e-37159004-5797ec4c\"&gt;&lt;/brd-mark&gt;'</span><span style=\"font-weight: bold\">}</span>,\n",
       "        <span style=\"color: #008000; text-decoration-color: #008000\">'metadata'</span>: <span style=\"font-weight: bold\">{}</span>,\n",
       "        <span style=\"color: #008000; text-decoration-color: #008000\">'transient'</span>: <span style=\"font-weight: bold\">{</span><span style=\"color: #008000; text-decoration-color: #008000\">'display_id'</span>: <span style=\"color: #008000; text-decoration-color: #008000\">'bf87d4115-ce89146e-37159004-5797ec4c'</span><span style=\"font-weight: bold\">}</span>\n",
       "    <span style=\"font-weight: bold\">}</span>\n",
       "<span style=\"font-weight: bold\">}</span>\n",
       "</pre>\n"
      ],
      "text/plain": [
       "\u001b[1m{\u001b[0m\n",
       "    \u001b[32m'msg_type'\u001b[0m: \u001b[32m'display_data'\u001b[0m,\n",
       "    \u001b[32m'content'\u001b[0m: \u001b[1m{\u001b[0m\n",
       "        \u001b[32m'data'\u001b[0m: \u001b[1m{\u001b[0m\u001b[32m'text/html'\u001b[0m: \u001b[32m'\u001b[0m\u001b[32m<\u001b[0m\u001b[32mdiv\u001b[0m\u001b[32m>--as shown above.</div>\\n<brd-mark \u001b[0m\u001b[32mid\u001b[0m\u001b[32m=\u001b[0m\u001b[32m\"bf87d4115\u001b[0m\u001b[32m-ce89146e-37159004-5797ec4c\"></brd-mark\u001b[0m\u001b[32m>\u001b[0m\u001b[32m'\u001b[0m\u001b[1m}\u001b[0m,\n",
       "        \u001b[32m'metadata'\u001b[0m: \u001b[1m{\u001b[0m\u001b[1m}\u001b[0m,\n",
       "        \u001b[32m'transient'\u001b[0m: \u001b[1m{\u001b[0m\u001b[32m'display_id'\u001b[0m: \u001b[32m'bf87d4115-ce89146e-37159004-5797ec4c'\u001b[0m\u001b[1m}\u001b[0m\n",
       "    \u001b[1m}\u001b[0m\n",
       "\u001b[1m}\u001b[0m\n"
      ]
     },
     "metadata": {},
     "output_type": "display_data"
    },
    {
     "data": {
      "text/html": [
       "<pre style=\"white-space:pre;overflow-x:auto;line-height:normal;font-family:Menlo,'DejaVu Sans Mono',consolas,'Courier New',monospace\"><span style=\"font-weight: bold\">{</span>\n",
       "    <span style=\"color: #008000; text-decoration-color: #008000\">'msg_type'</span>: <span style=\"color: #008000; text-decoration-color: #008000\">'update_display_data'</span>,\n",
       "    <span style=\"color: #008000; text-decoration-color: #008000\">'content'</span>: <span style=\"font-weight: bold\">{</span>\n",
       "        <span style=\"color: #008000; text-decoration-color: #008000\">'data'</span>: <span style=\"font-weight: bold\">{</span><span style=\"color: #008000; text-decoration-color: #008000\">'text/html'</span>: <span style=\"color: #008000; text-decoration-color: #008000\">'&lt;div&gt;--as shown above.&lt;/div&gt;\\n&lt;brd-mark id=\"bf87d4115-ce89146e-37159004-5797ec4c\"&gt;&lt;/brd-mark&gt;'</span><span style=\"font-weight: bold\">}</span>,\n",
       "        <span style=\"color: #008000; text-decoration-color: #008000\">'metadata'</span>: <span style=\"font-weight: bold\">{}</span>,\n",
       "        <span style=\"color: #008000; text-decoration-color: #008000\">'transient'</span>: <span style=\"font-weight: bold\">{</span><span style=\"color: #008000; text-decoration-color: #008000\">'display_id'</span>: <span style=\"color: #008000; text-decoration-color: #008000\">'bf87d4115-ce89146e-37159004-5797ec4c'</span><span style=\"font-weight: bold\">}</span>\n",
       "    <span style=\"font-weight: bold\">}</span>\n",
       "<span style=\"font-weight: bold\">}</span>\n",
       "</pre>\n"
      ],
      "text/plain": [
       "\u001b[1m{\u001b[0m\n",
       "    \u001b[32m'msg_type'\u001b[0m: \u001b[32m'update_display_data'\u001b[0m,\n",
       "    \u001b[32m'content'\u001b[0m: \u001b[1m{\u001b[0m\n",
       "        \u001b[32m'data'\u001b[0m: \u001b[1m{\u001b[0m\u001b[32m'text/html'\u001b[0m: \u001b[32m'\u001b[0m\u001b[32m<\u001b[0m\u001b[32mdiv\u001b[0m\u001b[32m>--as shown above.</div>\\n<brd-mark \u001b[0m\u001b[32mid\u001b[0m\u001b[32m=\u001b[0m\u001b[32m\"bf87d4115\u001b[0m\u001b[32m-ce89146e-37159004-5797ec4c\"></brd-mark\u001b[0m\u001b[32m>\u001b[0m\u001b[32m'\u001b[0m\u001b[1m}\u001b[0m,\n",
       "        \u001b[32m'metadata'\u001b[0m: \u001b[1m{\u001b[0m\u001b[1m}\u001b[0m,\n",
       "        \u001b[32m'transient'\u001b[0m: \u001b[1m{\u001b[0m\u001b[32m'display_id'\u001b[0m: \u001b[32m'bf87d4115-ce89146e-37159004-5797ec4c'\u001b[0m\u001b[1m}\u001b[0m\n",
       "    \u001b[1m}\u001b[0m\n",
       "\u001b[1m}\u001b[0m\n"
      ]
     },
     "metadata": {},
     "output_type": "display_data"
    },
    {
     "data": {
      "text/html": [
       "<pre style=\"white-space:pre;overflow-x:auto;line-height:normal;font-family:Menlo,'DejaVu Sans Mono',consolas,'Courier New',monospace\"><span style=\"font-weight: bold\">{</span>\n",
       "    <span style=\"color: #008000; text-decoration-color: #008000\">'msg_type'</span>: <span style=\"color: #008000; text-decoration-color: #008000\">'display_data'</span>,\n",
       "    <span style=\"color: #008000; text-decoration-color: #008000\">'content'</span>: <span style=\"font-weight: bold\">{</span>\n",
       "        <span style=\"color: #008000; text-decoration-color: #008000\">'data'</span>: <span style=\"font-weight: bold\">{</span>\n",
       "            <span style=\"color: #008000; text-decoration-color: #008000\">'text/markdown'</span>: <span style=\"color: #008000; text-decoration-color: #008000\">'## did\\n???'</span>,\n",
       "            <span style=\"color: #008000; text-decoration-color: #008000\">'text/html'</span>: <span style=\"color: #008000; text-decoration-color: #008000\">'&lt;b&gt;did&lt;/b&gt;: b81908465-ad751c07-d04b5c51-02872b74\\n&lt;brd-mark </span>\n",
       "<span style=\"color: #008000; text-decoration-color: #008000\">id=\"b81908465-ad751c07-d04b5c51-02872b74\"&gt;&lt;/brd-mark&gt;'</span>,\n",
       "            <span style=\"color: #008000; text-decoration-color: #008000\">'application/json'</span>: <span style=\"font-weight: bold\">{</span><span style=\"color: #008000; text-decoration-color: #008000\">'did'</span>: <span style=\"color: #008000; text-decoration-color: #008000\">'b81908465-ad751c07-d04b5c51-02872b74'</span><span style=\"font-weight: bold\">}</span>\n",
       "        <span style=\"font-weight: bold\">}</span>,\n",
       "        <span style=\"color: #008000; text-decoration-color: #008000\">'metadata'</span>: <span style=\"font-weight: bold\">{}</span>,\n",
       "        <span style=\"color: #008000; text-decoration-color: #008000\">'transient'</span>: <span style=\"font-weight: bold\">{</span><span style=\"color: #008000; text-decoration-color: #008000\">'display_id'</span>: <span style=\"color: #008000; text-decoration-color: #008000\">'b81908465-ad751c07-d04b5c51-02872b74'</span><span style=\"font-weight: bold\">}</span>\n",
       "    <span style=\"font-weight: bold\">}</span>\n",
       "<span style=\"font-weight: bold\">}</span>\n",
       "</pre>\n"
      ],
      "text/plain": [
       "\u001b[1m{\u001b[0m\n",
       "    \u001b[32m'msg_type'\u001b[0m: \u001b[32m'display_data'\u001b[0m,\n",
       "    \u001b[32m'content'\u001b[0m: \u001b[1m{\u001b[0m\n",
       "        \u001b[32m'data'\u001b[0m: \u001b[1m{\u001b[0m\n",
       "            \u001b[32m'text/markdown'\u001b[0m: \u001b[32m'## did\\n???'\u001b[0m,\n",
       "            \u001b[32m'text/html'\u001b[0m: \u001b[32m'\u001b[0m\u001b[32m<\u001b[0m\u001b[32mb\u001b[0m\u001b[32m>did</b>: b81908465-ad751c07-d04b5c51-02872b74\\n<brd-mark \u001b[0m\n",
       "\u001b[32mid\u001b[0m\u001b[32m=\u001b[0m\u001b[32m\"b81908465\u001b[0m\u001b[32m-ad751c07-d04b5c51-02872b74\"></brd-mark\u001b[0m\u001b[32m>\u001b[0m\u001b[32m'\u001b[0m,\n",
       "            \u001b[32m'application/json'\u001b[0m: \u001b[1m{\u001b[0m\u001b[32m'did'\u001b[0m: \u001b[32m'b81908465-ad751c07-d04b5c51-02872b74'\u001b[0m\u001b[1m}\u001b[0m\n",
       "        \u001b[1m}\u001b[0m,\n",
       "        \u001b[32m'metadata'\u001b[0m: \u001b[1m{\u001b[0m\u001b[1m}\u001b[0m,\n",
       "        \u001b[32m'transient'\u001b[0m: \u001b[1m{\u001b[0m\u001b[32m'display_id'\u001b[0m: \u001b[32m'b81908465-ad751c07-d04b5c51-02872b74'\u001b[0m\u001b[1m}\u001b[0m\n",
       "    \u001b[1m}\u001b[0m\n",
       "\u001b[1m}\u001b[0m\n"
      ]
     },
     "metadata": {},
     "output_type": "display_data"
    },
    {
     "data": {
      "text/html": [
       "<pre style=\"white-space:pre;overflow-x:auto;line-height:normal;font-family:Menlo,'DejaVu Sans Mono',consolas,'Courier New',monospace\"><span style=\"font-weight: bold\">{</span>\n",
       "    <span style=\"color: #008000; text-decoration-color: #008000\">'msg_type'</span>: <span style=\"color: #008000; text-decoration-color: #008000\">'update_display_data'</span>,\n",
       "    <span style=\"color: #008000; text-decoration-color: #008000\">'content'</span>: <span style=\"font-weight: bold\">{</span>\n",
       "        <span style=\"color: #008000; text-decoration-color: #008000\">'data'</span>: <span style=\"font-weight: bold\">{</span>\n",
       "            <span style=\"color: #008000; text-decoration-color: #008000\">'text/html'</span>: <span style=\"color: #008000; text-decoration-color: #008000\">'&lt;b&gt;did&lt;/b&gt;: b81908465-ad751c07-d04b5c51-02872b74\\n&lt;brd-mark id=\"b81908465-ad751c07-d04b5c51-02872b74\"&gt;&lt;/brd-mark&gt;'</span>\n",
       "        <span style=\"font-weight: bold\">}</span>,\n",
       "        <span style=\"color: #008000; text-decoration-color: #008000\">'metadata'</span>: <span style=\"font-weight: bold\">{}</span>,\n",
       "        <span style=\"color: #008000; text-decoration-color: #008000\">'transient'</span>: <span style=\"font-weight: bold\">{</span><span style=\"color: #008000; text-decoration-color: #008000\">'display_id'</span>: <span style=\"color: #008000; text-decoration-color: #008000\">'b81908465-ad751c07-d04b5c51-02872b74'</span><span style=\"font-weight: bold\">}</span>\n",
       "    <span style=\"font-weight: bold\">}</span>\n",
       "<span style=\"font-weight: bold\">}</span>\n",
       "</pre>\n"
      ],
      "text/plain": [
       "\u001b[1m{\u001b[0m\n",
       "    \u001b[32m'msg_type'\u001b[0m: \u001b[32m'update_display_data'\u001b[0m,\n",
       "    \u001b[32m'content'\u001b[0m: \u001b[1m{\u001b[0m\n",
       "        \u001b[32m'data'\u001b[0m: \u001b[1m{\u001b[0m\n",
       "            \u001b[32m'text/html'\u001b[0m: \u001b[32m'\u001b[0m\u001b[32m<\u001b[0m\u001b[32mb\u001b[0m\u001b[32m>did</b>: b81908465-ad751c07-d04b5c51-02872b74\\n<brd-mark \u001b[0m\u001b[32mid\u001b[0m\u001b[32m=\u001b[0m\u001b[32m\"b81908465\u001b[0m\u001b[32m-ad751c07-d04b5c51-02872b74\"></brd-mark\u001b[0m\u001b[32m>\u001b[0m\u001b[32m'\u001b[0m\n",
       "        \u001b[1m}\u001b[0m,\n",
       "        \u001b[32m'metadata'\u001b[0m: \u001b[1m{\u001b[0m\u001b[1m}\u001b[0m,\n",
       "        \u001b[32m'transient'\u001b[0m: \u001b[1m{\u001b[0m\u001b[32m'display_id'\u001b[0m: \u001b[32m'b81908465-ad751c07-d04b5c51-02872b74'\u001b[0m\u001b[1m}\u001b[0m\n",
       "    \u001b[1m}\u001b[0m\n",
       "\u001b[1m}\u001b[0m\n"
      ]
     },
     "metadata": {},
     "output_type": "display_data"
    },
    {
     "data": {
      "text/html": [
       "<pre style=\"white-space:pre;overflow-x:auto;line-height:normal;font-family:Menlo,'DejaVu Sans Mono',consolas,'Courier New',monospace\"><span style=\"font-weight: bold\">{</span>\n",
       "    <span style=\"color: #008000; text-decoration-color: #008000\">'msg_type'</span>: <span style=\"color: #008000; text-decoration-color: #008000\">'update_display_data'</span>,\n",
       "    <span style=\"color: #008000; text-decoration-color: #008000\">'content'</span>: <span style=\"font-weight: bold\">{</span>\n",
       "        <span style=\"color: #008000; text-decoration-color: #008000\">'data'</span>: <span style=\"font-weight: bold\">{</span><span style=\"color: #008000; text-decoration-color: #008000\">'application/json'</span>: <span style=\"font-weight: bold\">{</span><span style=\"color: #008000; text-decoration-color: #008000\">'did'</span>: <span style=\"color: #008000; text-decoration-color: #008000\">'b81908465-ad751c07-d04b5c51-02872b74'</span><span style=\"font-weight: bold\">}}</span>,\n",
       "        <span style=\"color: #008000; text-decoration-color: #008000\">'metadata'</span>: <span style=\"font-weight: bold\">{</span><span style=\"color: #008000; text-decoration-color: #008000\">'application/json'</span>: <span style=\"font-weight: bold\">{</span><span style=\"color: #008000; text-decoration-color: #008000\">'expanded'</span>: <span style=\"color: #ff0000; text-decoration-color: #ff0000; font-style: italic\">False</span>, <span style=\"color: #008000; text-decoration-color: #008000\">'root'</span>: <span style=\"color: #008000; text-decoration-color: #008000\">'root'</span><span style=\"font-weight: bold\">}}</span>,\n",
       "        <span style=\"color: #008000; text-decoration-color: #008000\">'transient'</span>: <span style=\"font-weight: bold\">{</span><span style=\"color: #008000; text-decoration-color: #008000\">'display_id'</span>: <span style=\"color: #008000; text-decoration-color: #008000\">'b81908465-ad751c07-d04b5c51-02872b74'</span><span style=\"font-weight: bold\">}</span>\n",
       "    <span style=\"font-weight: bold\">}</span>\n",
       "<span style=\"font-weight: bold\">}</span>\n",
       "</pre>\n"
      ],
      "text/plain": [
       "\u001b[1m{\u001b[0m\n",
       "    \u001b[32m'msg_type'\u001b[0m: \u001b[32m'update_display_data'\u001b[0m,\n",
       "    \u001b[32m'content'\u001b[0m: \u001b[1m{\u001b[0m\n",
       "        \u001b[32m'data'\u001b[0m: \u001b[1m{\u001b[0m\u001b[32m'application/json'\u001b[0m: \u001b[1m{\u001b[0m\u001b[32m'did'\u001b[0m: \u001b[32m'b81908465-ad751c07-d04b5c51-02872b74'\u001b[0m\u001b[1m}\u001b[0m\u001b[1m}\u001b[0m,\n",
       "        \u001b[32m'metadata'\u001b[0m: \u001b[1m{\u001b[0m\u001b[32m'application/json'\u001b[0m: \u001b[1m{\u001b[0m\u001b[32m'expanded'\u001b[0m: \u001b[3;91mFalse\u001b[0m, \u001b[32m'root'\u001b[0m: \u001b[32m'root'\u001b[0m\u001b[1m}\u001b[0m\u001b[1m}\u001b[0m,\n",
       "        \u001b[32m'transient'\u001b[0m: \u001b[1m{\u001b[0m\u001b[32m'display_id'\u001b[0m: \u001b[32m'b81908465-ad751c07-d04b5c51-02872b74'\u001b[0m\u001b[1m}\u001b[0m\n",
       "    \u001b[1m}\u001b[0m\n",
       "\u001b[1m}\u001b[0m\n"
      ]
     },
     "metadata": {},
     "output_type": "display_data"
    },
    {
     "data": {
      "text/html": [
       "<pre style=\"white-space:pre;overflow-x:auto;line-height:normal;font-family:Menlo,'DejaVu Sans Mono',consolas,'Courier New',monospace\"><span style=\"font-weight: bold\">{</span><span style=\"color: #008000; text-decoration-color: #008000\">'msg_type'</span>: <span style=\"color: #008000; text-decoration-color: #008000\">'display_data'</span>, <span style=\"color: #008000; text-decoration-color: #008000\">'content'</span>: <span style=\"font-weight: bold\">{</span><span style=\"color: #008000; text-decoration-color: #008000\">'data'</span>: <span style=\"font-weight: bold\">{}</span>, <span style=\"color: #008000; text-decoration-color: #008000\">'metadata'</span>: <span style=\"font-weight: bold\">{}</span>, <span style=\"color: #008000; text-decoration-color: #008000\">'transient'</span>: <span style=\"font-weight: bold\">{</span><span style=\"color: #008000; text-decoration-color: #008000\">'display_id'</span>: <span style=\"color: #008000; text-decoration-color: #008000\">'bbbb5f877-1a3e93e9-452f714d-e687ff68'</span><span style=\"font-weight: bold\">}}}</span>\n",
       "</pre>\n"
      ],
      "text/plain": [
       "\u001b[1m{\u001b[0m\u001b[32m'msg_type'\u001b[0m: \u001b[32m'display_data'\u001b[0m, \u001b[32m'content'\u001b[0m: \u001b[1m{\u001b[0m\u001b[32m'data'\u001b[0m: \u001b[1m{\u001b[0m\u001b[1m}\u001b[0m, \u001b[32m'metadata'\u001b[0m: \u001b[1m{\u001b[0m\u001b[1m}\u001b[0m, \u001b[32m'transient'\u001b[0m: \u001b[1m{\u001b[0m\u001b[32m'display_id'\u001b[0m: \u001b[32m'bbbb5f877-1a3e93e9-452f714d-e687ff68'\u001b[0m\u001b[1m}\u001b[0m\u001b[1m}\u001b[0m\u001b[1m}\u001b[0m\n"
      ]
     },
     "metadata": {},
     "output_type": "display_data"
    },
    {
     "data": {
      "text/html": [
       "<pre style=\"white-space:pre;overflow-x:auto;line-height:normal;font-family:Menlo,'DejaVu Sans Mono',consolas,'Courier New',monospace\"><span style=\"font-weight: bold\">{</span><span style=\"color: #008000; text-decoration-color: #008000\">'msg_type'</span>: <span style=\"color: #008000; text-decoration-color: #008000\">'display_data'</span>, <span style=\"color: #008000; text-decoration-color: #008000\">'content'</span>: <span style=\"font-weight: bold\">{</span><span style=\"color: #008000; text-decoration-color: #008000\">'data'</span>: <span style=\"font-weight: bold\">{}</span>, <span style=\"color: #008000; text-decoration-color: #008000\">'metadata'</span>: <span style=\"font-weight: bold\">{}</span>, <span style=\"color: #008000; text-decoration-color: #008000\">'transient'</span>: <span style=\"font-weight: bold\">{</span><span style=\"color: #008000; text-decoration-color: #008000\">'display_id'</span>: <span style=\"color: #008000; text-decoration-color: #008000\">'b089b7750-2aac4fb7-5e0003b7-afdff494'</span><span style=\"font-weight: bold\">}}}</span>\n",
       "</pre>\n"
      ],
      "text/plain": [
       "\u001b[1m{\u001b[0m\u001b[32m'msg_type'\u001b[0m: \u001b[32m'display_data'\u001b[0m, \u001b[32m'content'\u001b[0m: \u001b[1m{\u001b[0m\u001b[32m'data'\u001b[0m: \u001b[1m{\u001b[0m\u001b[1m}\u001b[0m, \u001b[32m'metadata'\u001b[0m: \u001b[1m{\u001b[0m\u001b[1m}\u001b[0m, \u001b[32m'transient'\u001b[0m: \u001b[1m{\u001b[0m\u001b[32m'display_id'\u001b[0m: \u001b[32m'b089b7750-2aac4fb7-5e0003b7-afdff494'\u001b[0m\u001b[1m}\u001b[0m\u001b[1m}\u001b[0m\u001b[1m}\u001b[0m\n"
      ]
     },
     "metadata": {},
     "output_type": "display_data"
    },
    {
     "data": {
      "text/html": [
       "<pre style=\"white-space:pre;overflow-x:auto;line-height:normal;font-family:Menlo,'DejaVu Sans Mono',consolas,'Courier New',monospace\"><span style=\"font-weight: bold\">{</span><span style=\"color: #008000; text-decoration-color: #008000\">'msg_type'</span>: <span style=\"color: #008000; text-decoration-color: #008000\">'display_data'</span>, <span style=\"color: #008000; text-decoration-color: #008000\">'content'</span>: <span style=\"font-weight: bold\">{</span><span style=\"color: #008000; text-decoration-color: #008000\">'data'</span>: <span style=\"font-weight: bold\">{}</span>, <span style=\"color: #008000; text-decoration-color: #008000\">'metadata'</span>: <span style=\"font-weight: bold\">{}</span>, <span style=\"color: #008000; text-decoration-color: #008000\">'transient'</span>: <span style=\"font-weight: bold\">{</span><span style=\"color: #008000; text-decoration-color: #008000\">'display_id'</span>: <span style=\"color: #008000; text-decoration-color: #008000\">'beb23382b-3c1a8086-7dc7d242-e5307a9c'</span><span style=\"font-weight: bold\">}}}</span>\n",
       "</pre>\n"
      ],
      "text/plain": [
       "\u001b[1m{\u001b[0m\u001b[32m'msg_type'\u001b[0m: \u001b[32m'display_data'\u001b[0m, \u001b[32m'content'\u001b[0m: \u001b[1m{\u001b[0m\u001b[32m'data'\u001b[0m: \u001b[1m{\u001b[0m\u001b[1m}\u001b[0m, \u001b[32m'metadata'\u001b[0m: \u001b[1m{\u001b[0m\u001b[1m}\u001b[0m, \u001b[32m'transient'\u001b[0m: \u001b[1m{\u001b[0m\u001b[32m'display_id'\u001b[0m: \u001b[32m'beb23382b-3c1a8086-7dc7d242-e5307a9c'\u001b[0m\u001b[1m}\u001b[0m\u001b[1m}\u001b[0m\u001b[1m}\u001b[0m\n"
      ]
     },
     "metadata": {},
     "output_type": "display_data"
    },
    {
     "data": {
      "text/html": [
       "<pre style=\"white-space:pre;overflow-x:auto;line-height:normal;font-family:Menlo,'DejaVu Sans Mono',consolas,'Courier New',monospace\"><span style=\"font-weight: bold\">{</span><span style=\"color: #008000; text-decoration-color: #008000\">'msg_type'</span>: <span style=\"color: #008000; text-decoration-color: #008000\">'display_data'</span>, <span style=\"color: #008000; text-decoration-color: #008000\">'content'</span>: <span style=\"font-weight: bold\">{</span><span style=\"color: #008000; text-decoration-color: #008000\">'data'</span>: <span style=\"font-weight: bold\">{}</span>, <span style=\"color: #008000; text-decoration-color: #008000\">'metadata'</span>: <span style=\"font-weight: bold\">{}</span>, <span style=\"color: #008000; text-decoration-color: #008000\">'transient'</span>: <span style=\"font-weight: bold\">{</span><span style=\"color: #008000; text-decoration-color: #008000\">'display_id'</span>: <span style=\"color: #008000; text-decoration-color: #008000\">'b80babdb0-0ddad849-31eaa4a5-297e89c8'</span><span style=\"font-weight: bold\">}}}</span>\n",
       "</pre>\n"
      ],
      "text/plain": [
       "\u001b[1m{\u001b[0m\u001b[32m'msg_type'\u001b[0m: \u001b[32m'display_data'\u001b[0m, \u001b[32m'content'\u001b[0m: \u001b[1m{\u001b[0m\u001b[32m'data'\u001b[0m: \u001b[1m{\u001b[0m\u001b[1m}\u001b[0m, \u001b[32m'metadata'\u001b[0m: \u001b[1m{\u001b[0m\u001b[1m}\u001b[0m, \u001b[32m'transient'\u001b[0m: \u001b[1m{\u001b[0m\u001b[32m'display_id'\u001b[0m: \u001b[32m'b80babdb0-0ddad849-31eaa4a5-297e89c8'\u001b[0m\u001b[1m}\u001b[0m\u001b[1m}\u001b[0m\u001b[1m}\u001b[0m\n"
      ]
     },
     "metadata": {},
     "output_type": "display_data"
    },
    {
     "data": {
      "text/html": [
       "<pre style=\"white-space:pre;overflow-x:auto;line-height:normal;font-family:Menlo,'DejaVu Sans Mono',consolas,'Courier New',monospace\"><span style=\"font-weight: bold\">{</span><span style=\"color: #008000; text-decoration-color: #008000\">'msg_type'</span>: <span style=\"color: #008000; text-decoration-color: #008000\">'display_data'</span>, <span style=\"color: #008000; text-decoration-color: #008000\">'content'</span>: <span style=\"font-weight: bold\">{</span><span style=\"color: #008000; text-decoration-color: #008000\">'data'</span>: <span style=\"font-weight: bold\">{}</span>, <span style=\"color: #008000; text-decoration-color: #008000\">'metadata'</span>: <span style=\"font-weight: bold\">{}</span>, <span style=\"color: #008000; text-decoration-color: #008000\">'transient'</span>: <span style=\"font-weight: bold\">{</span><span style=\"color: #008000; text-decoration-color: #008000\">'display_id'</span>: <span style=\"color: #008000; text-decoration-color: #008000\">'b33502a54-1f1f7a9f-df573284-cbbaeaeb'</span><span style=\"font-weight: bold\">}}}</span>\n",
       "</pre>\n"
      ],
      "text/plain": [
       "\u001b[1m{\u001b[0m\u001b[32m'msg_type'\u001b[0m: \u001b[32m'display_data'\u001b[0m, \u001b[32m'content'\u001b[0m: \u001b[1m{\u001b[0m\u001b[32m'data'\u001b[0m: \u001b[1m{\u001b[0m\u001b[1m}\u001b[0m, \u001b[32m'metadata'\u001b[0m: \u001b[1m{\u001b[0m\u001b[1m}\u001b[0m, \u001b[32m'transient'\u001b[0m: \u001b[1m{\u001b[0m\u001b[32m'display_id'\u001b[0m: \u001b[32m'b33502a54-1f1f7a9f-df573284-cbbaeaeb'\u001b[0m\u001b[1m}\u001b[0m\u001b[1m}\u001b[0m\u001b[1m}\u001b[0m\n"
      ]
     },
     "metadata": {},
     "output_type": "display_data"
    },
    {
     "data": {
      "text/html": [
       "<pre style=\"white-space:pre;overflow-x:auto;line-height:normal;font-family:Menlo,'DejaVu Sans Mono',consolas,'Courier New',monospace\"><span style=\"font-weight: bold\">{</span>\n",
       "    <span style=\"color: #008000; text-decoration-color: #008000\">'msg_type'</span>: <span style=\"color: #008000; text-decoration-color: #008000\">'update_display_data'</span>,\n",
       "    <span style=\"color: #008000; text-decoration-color: #008000\">'content'</span>: <span style=\"font-weight: bold\">{</span><span style=\"color: #008000; text-decoration-color: #008000\">'data'</span>: <span style=\"font-weight: bold\">{}</span>, <span style=\"color: #008000; text-decoration-color: #008000\">'metadata'</span>: <span style=\"font-weight: bold\">{}</span>, <span style=\"color: #008000; text-decoration-color: #008000\">'transient'</span>: <span style=\"font-weight: bold\">{</span><span style=\"color: #008000; text-decoration-color: #008000\">'display_id'</span>: <span style=\"color: #008000; text-decoration-color: #008000\">'bbbb5f877-1a3e93e9-452f714d-e687ff68'</span><span style=\"font-weight: bold\">}}</span>\n",
       "<span style=\"font-weight: bold\">}</span>\n",
       "</pre>\n"
      ],
      "text/plain": [
       "\u001b[1m{\u001b[0m\n",
       "    \u001b[32m'msg_type'\u001b[0m: \u001b[32m'update_display_data'\u001b[0m,\n",
       "    \u001b[32m'content'\u001b[0m: \u001b[1m{\u001b[0m\u001b[32m'data'\u001b[0m: \u001b[1m{\u001b[0m\u001b[1m}\u001b[0m, \u001b[32m'metadata'\u001b[0m: \u001b[1m{\u001b[0m\u001b[1m}\u001b[0m, \u001b[32m'transient'\u001b[0m: \u001b[1m{\u001b[0m\u001b[32m'display_id'\u001b[0m: \u001b[32m'bbbb5f877-1a3e93e9-452f714d-e687ff68'\u001b[0m\u001b[1m}\u001b[0m\u001b[1m}\u001b[0m\n",
       "\u001b[1m}\u001b[0m\n"
      ]
     },
     "metadata": {},
     "output_type": "display_data"
    },
    {
     "data": {
      "text/html": [
       "<pre style=\"white-space:pre;overflow-x:auto;line-height:normal;font-family:Menlo,'DejaVu Sans Mono',consolas,'Courier New',monospace\"><span style=\"font-weight: bold\">{</span>\n",
       "    <span style=\"color: #008000; text-decoration-color: #008000\">'msg_type'</span>: <span style=\"color: #008000; text-decoration-color: #008000\">'update_display_data'</span>,\n",
       "    <span style=\"color: #008000; text-decoration-color: #008000\">'content'</span>: <span style=\"font-weight: bold\">{</span><span style=\"color: #008000; text-decoration-color: #008000\">'data'</span>: <span style=\"font-weight: bold\">{}</span>, <span style=\"color: #008000; text-decoration-color: #008000\">'metadata'</span>: <span style=\"font-weight: bold\">{}</span>, <span style=\"color: #008000; text-decoration-color: #008000\">'transient'</span>: <span style=\"font-weight: bold\">{</span><span style=\"color: #008000; text-decoration-color: #008000\">'display_id'</span>: <span style=\"color: #008000; text-decoration-color: #008000\">'b089b7750-2aac4fb7-5e0003b7-afdff494'</span><span style=\"font-weight: bold\">}}</span>\n",
       "<span style=\"font-weight: bold\">}</span>\n",
       "</pre>\n"
      ],
      "text/plain": [
       "\u001b[1m{\u001b[0m\n",
       "    \u001b[32m'msg_type'\u001b[0m: \u001b[32m'update_display_data'\u001b[0m,\n",
       "    \u001b[32m'content'\u001b[0m: \u001b[1m{\u001b[0m\u001b[32m'data'\u001b[0m: \u001b[1m{\u001b[0m\u001b[1m}\u001b[0m, \u001b[32m'metadata'\u001b[0m: \u001b[1m{\u001b[0m\u001b[1m}\u001b[0m, \u001b[32m'transient'\u001b[0m: \u001b[1m{\u001b[0m\u001b[32m'display_id'\u001b[0m: \u001b[32m'b089b7750-2aac4fb7-5e0003b7-afdff494'\u001b[0m\u001b[1m}\u001b[0m\u001b[1m}\u001b[0m\n",
       "\u001b[1m}\u001b[0m\n"
      ]
     },
     "metadata": {},
     "output_type": "display_data"
    },
    {
     "data": {
      "text/html": [
       "<pre style=\"white-space:pre;overflow-x:auto;line-height:normal;font-family:Menlo,'DejaVu Sans Mono',consolas,'Courier New',monospace\"><span style=\"font-weight: bold\">{</span>\n",
       "    <span style=\"color: #008000; text-decoration-color: #008000\">'msg_type'</span>: <span style=\"color: #008000; text-decoration-color: #008000\">'update_display_data'</span>,\n",
       "    <span style=\"color: #008000; text-decoration-color: #008000\">'content'</span>: <span style=\"font-weight: bold\">{</span><span style=\"color: #008000; text-decoration-color: #008000\">'data'</span>: <span style=\"font-weight: bold\">{}</span>, <span style=\"color: #008000; text-decoration-color: #008000\">'metadata'</span>: <span style=\"font-weight: bold\">{}</span>, <span style=\"color: #008000; text-decoration-color: #008000\">'transient'</span>: <span style=\"font-weight: bold\">{</span><span style=\"color: #008000; text-decoration-color: #008000\">'display_id'</span>: <span style=\"color: #008000; text-decoration-color: #008000\">'beb23382b-3c1a8086-7dc7d242-e5307a9c'</span><span style=\"font-weight: bold\">}}</span>\n",
       "<span style=\"font-weight: bold\">}</span>\n",
       "</pre>\n"
      ],
      "text/plain": [
       "\u001b[1m{\u001b[0m\n",
       "    \u001b[32m'msg_type'\u001b[0m: \u001b[32m'update_display_data'\u001b[0m,\n",
       "    \u001b[32m'content'\u001b[0m: \u001b[1m{\u001b[0m\u001b[32m'data'\u001b[0m: \u001b[1m{\u001b[0m\u001b[1m}\u001b[0m, \u001b[32m'metadata'\u001b[0m: \u001b[1m{\u001b[0m\u001b[1m}\u001b[0m, \u001b[32m'transient'\u001b[0m: \u001b[1m{\u001b[0m\u001b[32m'display_id'\u001b[0m: \u001b[32m'beb23382b-3c1a8086-7dc7d242-e5307a9c'\u001b[0m\u001b[1m}\u001b[0m\u001b[1m}\u001b[0m\n",
       "\u001b[1m}\u001b[0m\n"
      ]
     },
     "metadata": {},
     "output_type": "display_data"
    },
    {
     "data": {
      "text/html": [
       "<pre style=\"white-space:pre;overflow-x:auto;line-height:normal;font-family:Menlo,'DejaVu Sans Mono',consolas,'Courier New',monospace\"><span style=\"font-weight: bold\">{</span>\n",
       "    <span style=\"color: #008000; text-decoration-color: #008000\">'msg_type'</span>: <span style=\"color: #008000; text-decoration-color: #008000\">'update_display_data'</span>,\n",
       "    <span style=\"color: #008000; text-decoration-color: #008000\">'content'</span>: <span style=\"font-weight: bold\">{</span><span style=\"color: #008000; text-decoration-color: #008000\">'data'</span>: <span style=\"font-weight: bold\">{}</span>, <span style=\"color: #008000; text-decoration-color: #008000\">'metadata'</span>: <span style=\"font-weight: bold\">{}</span>, <span style=\"color: #008000; text-decoration-color: #008000\">'transient'</span>: <span style=\"font-weight: bold\">{</span><span style=\"color: #008000; text-decoration-color: #008000\">'display_id'</span>: <span style=\"color: #008000; text-decoration-color: #008000\">'b80babdb0-0ddad849-31eaa4a5-297e89c8'</span><span style=\"font-weight: bold\">}}</span>\n",
       "<span style=\"font-weight: bold\">}</span>\n",
       "</pre>\n"
      ],
      "text/plain": [
       "\u001b[1m{\u001b[0m\n",
       "    \u001b[32m'msg_type'\u001b[0m: \u001b[32m'update_display_data'\u001b[0m,\n",
       "    \u001b[32m'content'\u001b[0m: \u001b[1m{\u001b[0m\u001b[32m'data'\u001b[0m: \u001b[1m{\u001b[0m\u001b[1m}\u001b[0m, \u001b[32m'metadata'\u001b[0m: \u001b[1m{\u001b[0m\u001b[1m}\u001b[0m, \u001b[32m'transient'\u001b[0m: \u001b[1m{\u001b[0m\u001b[32m'display_id'\u001b[0m: \u001b[32m'b80babdb0-0ddad849-31eaa4a5-297e89c8'\u001b[0m\u001b[1m}\u001b[0m\u001b[1m}\u001b[0m\n",
       "\u001b[1m}\u001b[0m\n"
      ]
     },
     "metadata": {},
     "output_type": "display_data"
    },
    {
     "data": {
      "text/html": [
       "<pre style=\"white-space:pre;overflow-x:auto;line-height:normal;font-family:Menlo,'DejaVu Sans Mono',consolas,'Courier New',monospace\"><span style=\"font-weight: bold\">{</span>\n",
       "    <span style=\"color: #008000; text-decoration-color: #008000\">'msg_type'</span>: <span style=\"color: #008000; text-decoration-color: #008000\">'update_display_data'</span>,\n",
       "    <span style=\"color: #008000; text-decoration-color: #008000\">'content'</span>: <span style=\"font-weight: bold\">{</span><span style=\"color: #008000; text-decoration-color: #008000\">'data'</span>: <span style=\"font-weight: bold\">{}</span>, <span style=\"color: #008000; text-decoration-color: #008000\">'metadata'</span>: <span style=\"font-weight: bold\">{}</span>, <span style=\"color: #008000; text-decoration-color: #008000\">'transient'</span>: <span style=\"font-weight: bold\">{</span><span style=\"color: #008000; text-decoration-color: #008000\">'display_id'</span>: <span style=\"color: #008000; text-decoration-color: #008000\">'b33502a54-1f1f7a9f-df573284-cbbaeaeb'</span><span style=\"font-weight: bold\">}}</span>\n",
       "<span style=\"font-weight: bold\">}</span>\n",
       "</pre>\n"
      ],
      "text/plain": [
       "\u001b[1m{\u001b[0m\n",
       "    \u001b[32m'msg_type'\u001b[0m: \u001b[32m'update_display_data'\u001b[0m,\n",
       "    \u001b[32m'content'\u001b[0m: \u001b[1m{\u001b[0m\u001b[32m'data'\u001b[0m: \u001b[1m{\u001b[0m\u001b[1m}\u001b[0m, \u001b[32m'metadata'\u001b[0m: \u001b[1m{\u001b[0m\u001b[1m}\u001b[0m, \u001b[32m'transient'\u001b[0m: \u001b[1m{\u001b[0m\u001b[32m'display_id'\u001b[0m: \u001b[32m'b33502a54-1f1f7a9f-df573284-cbbaeaeb'\u001b[0m\u001b[1m}\u001b[0m\u001b[1m}\u001b[0m\n",
       "\u001b[1m}\u001b[0m\n"
      ]
     },
     "metadata": {},
     "output_type": "display_data"
    }
   ],
   "source": [
    "def show_msgs(brdd: Bridged):\n",
    "    for msg in brdd.msgs.copy():\n",
    "        d = msg.copy()\n",
    "        # d['parent_header'] = {'...': '...'}\n",
    "        # d['header'] = {'...': '...'}\n",
    "        del d['parent_header'], d['header'], d['tracker'], d['msg_id']\n",
    "        if not d['metadata']: del d['metadata']\n",
    "        try: del d['content']['data']['text/plain']\n",
    "        except: pass\n",
    "        if h := d['content']['data'].get('text/html'): d['content']['data']['text/html'] = shorten(h, 'r', 120)\n",
    "        cprint(d)\n",
    "\n",
    "if DEBUG(): show_msgs(brdd)"
   ]
  },
  {
   "cell_type": "code",
   "execution_count": 82,
   "id": "804c6ffc",
   "metadata": {
    "brd": {
     "id": "54b4e2d1-4e5d-4094-8bfb-767376022678"
    }
   },
   "outputs": [
    {
     "data": {
      "text/html": [
       "<style>details ul { list-style-type:none; list-style-position: outside; padding-inline-start: 22px; margin: 0; } details .string { color: #24837b; } details .string::before { content: \"'\"; } details .string::after { content: \"'\"; } details .number { color: #ad8301; } details .true { color: blue; } details .false { color: red; } details .null { color: gray; } span.n { color: darkgrey; } </style>\n",
       "<details open><summary>NBCell@0\n",
       "</summary>  <ul>\n",
       "    <li>\n",
       "<span><span class=\"n\">idx</span>: <span class=\"v number\">0</span></span>    </li>\n",
       "    <li>\n",
       "<span><span class=\"n\">source</span>: <span class=\"v string\">did = new_id()\n",
       "print(f&quot;{did=}&quot;)\n",
       "display(HTML(&quot;&lt;div&gt;I&#x27;m marked!... MAAARKED!!&lt;/div&gt;&quot;, metadata={&#x27;brd_did&#x27;: did}))\n",
       "info = __cellinfo__; cell1 …</span></span>    </li>\n",
       "    <li>\n",
       "<span><span class=\"n\">id</span>: <span class=\"v string\">Y122sZmlsZQ==</span></span>    </li>\n",
       "    <li>\n",
       "<span><span class=\"n\">cell_type</span>: <span class=\"v string\">code</span></span>    </li>\n",
       "<details open><summary>outputs\n",
       "</summary>      <ul>\n",
       "<details open><summary>0\n",
       "</summary>          <ul>\n",
       "            <li>\n",
       "<span><span class=\"n\">output_type</span>: <span class=\"v string\">display_data</span></span>            </li>\n",
       "<details open><summary>data\n",
       "</summary>              <ul>\n",
       "                <li>\n",
       "<span><span class=\"n\">text/html</span>: <span class=\"v string\">&lt;div&gt;I&#x27;m doomed!... DOOOOOMED!!&lt;/div&gt;\n",
       "&lt;brd-mark id=&quot;bef65b738-b562617c-fb9f4e11-50d3b9be&quot;&gt;&lt;/brd-mark&gt;</span></span>                </li>\n",
       "              </ul>\n",
       "</details>            <li>\n",
       "<span><span class=\"n\">metadata</span>: <span class=\"v \">{&#x27;brd_did&#x27;: &#x27;bef65b738-b562617c-fb9f4e11-50d3b9be&#x27;}</span></span>            </li>\n",
       "          </ul>\n",
       "</details><details open><summary>1\n",
       "</summary>          <ul>\n",
       "            <li>\n",
       "<span><span class=\"n\">output_type</span>: <span class=\"v string\">execute_result</span></span>            </li>\n",
       "            <li>\n",
       "<span><span class=\"n\">execution_count</span>: <span class=\"v number\">50</span></span>            </li>\n",
       "<details open><summary>data\n",
       "</summary>              <ul>\n",
       "                <li>\n",
       "<span><span class=\"n\">text/plain</span>: <span class=\"v string\">21</span></span>                </li>\n",
       "              </ul>\n",
       "</details>            <li>\n",
       "<span><span class=\"n\">metadata</span>: <span class=\"v \">{}</span></span>            </li>\n",
       "          </ul>\n",
       "</details>      </ul>\n",
       "</details>    <li>\n",
       "<span><span class=\"n\">execution_count</span>: <span class=\"v number\">50</span></span>    </li>\n",
       "  </ul>\n",
       "</details>"
      ],
      "text/markdown": [
       "> code\n",
       "\n",
       "```json\n",
       "{\n",
       "  'idx': 0,\n",
       "  'source': 'did = new_id()\\nprint(f\"{did=}\")\\ndisplay(HTML(\"<div>I\\'m marked!... MAAARKED!!</div>\", metadata={\\'brd_did\\': did}))\\ninfo = __cellinfo__; cell1  = __nb__[info.cell_id]; cell1_copy = cell1.copy()\\ntest_eq(cell1.dids, [did])  # NOTE: this is only valid after the `display(...)` call in above line\\n21',\n",
       "  'id': 'Y122sZmlsZQ==',\n",
       "  'cell_type': 'code',\n",
       "  'outputs': [\n",
       "    {\n",
       "      'output_type': 'display_data',\n",
       "      'data': {\n",
       "        'text/html': '<div>I\\'m doomed!... DOOOOOMED!!</div>\\n<brd-mark id=\"bef65b738-b562617c-fb9f4e11-50d3b9be\"></brd-mark>'\n",
       "      },\n",
       "      'metadata': {'brd_did': 'bef65b738-b562617c-fb9f4e11-50d3b9be'}\n",
       "    },\n",
       "    {'output_type': 'execute_result', 'execution_count': 50, 'data': {'text/plain': '21'}, 'metadata': {}}\n",
       "  ],\n",
       "  'execution_count': 50\n",
       "}\n",
       "```"
      ],
      "text/plain": [
       "{'idx': 0,\n",
       " 'source': 'did = new_id()\\nprint(f\"{did=}\")\\ndisplay(HTML(\"<div>I\\'m marked!... MAAARKED!!</div>\", metadata={\\'brd_did\\': did}))\\ninfo = __cellinfo__; cell1  = __nb__[info.cell_id]; cell1_copy = cell1.copy()\\ntest_eq(cell1.dids, [did])  # NOTE: this is only valid after the `display(...)` call in above line\\n21',\n",
       " 'id': 'Y122sZmlsZQ==',\n",
       " 'cell_type': 'code',\n",
       " 'outputs': [{'output_type': 'display_data',\n",
       "   'data': {'text/html': '<div>I\\'m doomed!... DOOOOOMED!!</div>\\n<brd-mark id=\"bef65b738-b562617c-fb9f4e11-50d3b9be\"></brd-mark>'},\n",
       "   'metadata': {'brd_did': 'bef65b738-b562617c-fb9f4e11-50d3b9be'}},\n",
       "  {'output_type': 'execute_result',\n",
       "   'execution_count': 50,\n",
       "   'data': {'text/plain': '21'},\n",
       "   'metadata': {}}],\n",
       " 'execution_count': 50}"
      ]
     },
     "metadata": {},
     "output_type": "display_data"
    },
    {
     "data": {
      "text/html": [
       "<style>details ul { list-style-type:none; list-style-position: outside; padding-inline-start: 22px; margin: 0; } details .string { color: #24837b; } details .string::before { content: \"'\"; } details .string::after { content: \"'\"; } details .number { color: #ad8301; } details .true { color: blue; } details .false { color: red; } details .null { color: gray; } span.n { color: darkgrey; } </style>\n",
       "<details open><summary>NBCell@1\n",
       "</summary>  <ul>\n",
       "    <li>\n",
       "<span><span class=\"n\">idx</span>: <span class=\"v number\">1</span></span>    </li>\n",
       "    <li>\n",
       "<span><span class=\"n\">source</span>: <span class=\"v string\">display(cell1_copy)\n",
       "cell1</span></span>    </li>\n",
       "    <li>\n",
       "<span><span class=\"n\">id</span>: <span class=\"v string\">Y123sZmlsZQ==</span></span>    </li>\n",
       "    <li>\n",
       "<span><span class=\"n\">cell_type</span>: <span class=\"v string\">code</span></span>    </li>\n",
       "<details open><summary>outputs\n",
       "</summary>      <ul>\n",
       "<details open><summary>0\n",
       "</summary>          <ul>\n",
       "            <li>\n",
       "<span><span class=\"n\">output_type</span>: <span class=\"v string\">display_data</span></span>            </li>\n",
       "<details open><summary>data\n",
       "</summary>              <ul>\n",
       "                <li>\n",
       "<span><span class=\"n\">text/html</span>: <span class=\"v string\">&lt;style&gt;details ul { list-style-type:none; list-style-position: outside; padding-inline-start: 22px; margin: 0; } details…</span></span>                </li>\n",
       "                <li>\n",
       "<span><span class=\"n\">text/markdown</span>: <span class=\"v string\">&gt; code\n",
       "\n",
       "```json\n",
       "{\n",
       "  &#x27;idx&#x27;: 0,\n",
       "  &#x27;source&#x27;: &#x27;did = new_id()\\nprint(f&quot;{did=}&quot;)\\ndisplay(HTML(&quot;&lt;div&gt;I\\&#x27;m marked!... MAAARKED!!&lt;/div&gt;&quot;, metadata=…</span></span>                </li>\n",
       "              </ul>\n",
       "</details>            <li>\n",
       "<span><span class=\"n\">metadata</span>: <span class=\"v \">{}</span></span>            </li>\n",
       "          </ul>\n",
       "</details><details open><summary>1\n",
       "</summary>          <ul>\n",
       "            <li>\n",
       "<span><span class=\"n\">output_type</span>: <span class=\"v string\">execute_result</span></span>            </li>\n",
       "            <li>\n",
       "<span><span class=\"n\">execution_count</span>: <span class=\"v number\">51</span></span>            </li>\n",
       "<details open><summary>data\n",
       "</summary>              <ul>\n",
       "                <li>\n",
       "<span><span class=\"n\">text/plain</span>: <span class=\"v string\">{&#x27;idx&#x27;: 0,\n",
       " &#x27;source&#x27;: &#x27;did = new_id()\\nprint(f&quot;{did=}&quot;)\\ndisplay(HTML(&quot;&lt;div&gt;I\\&#x27;m marked!... MAAARKED!!&lt;/div&gt;&quot;, metadata={\\&#x27;brd_did\\&#x27;: did}))…</span></span>                </li>\n",
       "                <li>\n",
       "<span><span class=\"n\">text/html</span>: <span class=\"v string\">&lt;style&gt;details ul { list-style-type:none; list-style-position: outside; padding-inline-start: 22px; margin: 0; } details .string { color: #2…</span></span>                </li>\n",
       "                <li>\n",
       "<span><span class=\"n\">text/markdown</span>: <span class=\"v string\">&gt; code\n",
       "\n",
       "```json\n",
       "{\n",
       "  &#x27;idx&#x27;: 0,\n",
       "  &#x27;source&#x27;: &#x27;did = new_id()\\nprint(f&quot;{did=}&quot;)\\ndisplay(HTML(&quot;&lt;div&gt;I\\&#x27;m marked!... MAAARKED!!&lt;/div&gt;&quot;, metadata=…</span></span>                </li>\n",
       "              </ul>\n",
       "</details>            <li>\n",
       "<span><span class=\"n\">metadata</span>: <span class=\"v \">{}</span></span>            </li>\n",
       "          </ul>\n",
       "</details>      </ul>\n",
       "</details>    <li>\n",
       "<span><span class=\"n\">execution_count</span>: <span class=\"v number\">51</span></span>    </li>\n",
       "  </ul>\n",
       "</details>"
      ],
      "text/markdown": [
       "> code\n",
       "\n",
       "```json\n",
       "{\n",
       "  'idx': 1,\n",
       "  'source': 'display(cell1_copy)\\ncell1',\n",
       "  'id': 'Y123sZmlsZQ==',\n",
       "  'cell_type': 'code',\n",
       "  'outputs': [\n",
       "    {\n",
       "      'output_type': 'display_data',\n",
       "      'data': {\n",
       "        'text/html': '<style>details ul { list-style-type:none; list-style-position: outside; padding-inline-start: 22px; margin: 0; } details…',\n",
       "        'text/markdown': '> code\\n\\n```json\\n{\\n  \\'idx\\': 0,\\n  \\'source\\': \\'did = new_id()\\\\nprint(f\"{did=}\")\\\\ndisplay(HTML(\"<div>I\\\\\\'m marked!... MAAARKED!!</div>\", metadata={\\\\\\'brd_did\\\\\\': did}))\\\\ninfo = __cellinfo__; cell1  = __nb__[info.cell_id]; cell1_copy = cell1.copy()\\\\ntest_eq(cell1.dids, [did])  # NOTE: this is only valid after the `display(...)` call in above line\\\\n21\\',\\n  \\'id\\': \\'Y122sZmlsZQ==\\',\\n  \\'cell_type\\': \\'code\\',\\n  \\'outputs\\': [\\n    {\\n      \\'output_type\\': \\'display_data\\',\\n      \\'data\\': {\\n        \\'text/plain\\': \\'<IPython.core.display.HTML object>\\',\\n        \\'text/html\\': \\'<div>I\\\\\\'m marked!... MAAARKED!!</div>\\\\n<brd-mark id=\"bef65b738-b562617c-fb9f4e11-50d3b9be\"></brd-mark>\\'\\n      },\\n      \\'metadata\\': {\\'brd_did\\': \\'bef65b738-b562617c-fb9f4e11-50d3b9be\\'}\\n    }\\n  ]\\n}\\n```'\n",
       "      },\n",
       "      'metadata': {}\n",
       "    },\n",
       "    {\n",
       "      'output_type': 'execute_result',\n",
       "      'execution_count': 51,\n",
       "      'data': {\n",
       "        'text/plain': '{\\'idx\\': 0,\\n \\'source\\': \\'did = new_id()\\\\nprint(f\"{did=}\")\\\\ndisplay(HTML(\"<div>I\\\\\\'m marked!... MAAARKED!!</div>\", metadata={\\\\\\'brd_did\\\\\\': did}))\\\\ninfo = __cellinfo__; cell1  = __nb__[info.cell_id]; cell1_copy = cell1.copy()\\\\ntest_eq(cell1.dids, [did])  # NOTE: this is only valid after the `display(...)` call in above line\\\\n21\\',\\n \\'id\\': \\'Y122sZmlsZQ==\\',\\n \\'cell_type\\': \\'code\\',\\n \\'outputs\\': [{\\'output_type\\': \\'display_data\\',\\n   \\'data\\': {\\'text/plain\\': \\'<IPython.core.display.HTML object>\\',\\n    \\'text/html\\': \\'<div>I\\\\\\'m marked!... MAAARKED!!</div>\\\\n<brd-mark id=\"bef65b738-b562617c-fb9f4e11-50d3b9be\"></brd-mark>\\'},\\n   \\'metadata\\': {\\'brd_did\\': \\'bef65b738-b562617c-fb9f4e11-50d3b9be\\'}},\\n  {\\'output_type\\': \\'execute_result\\',\\n   \\'execution_count\\': 50,\\n   \\'data\\': {\\'text/plain\\': \\'21\\'},\\n   \\'metadata\\': {}}],\\n \\'execution_count\\': 50}',\n",
       "        'text/html': '<style>details ul { list-style-type:none; list-style-position: outside; padding-inline-start: 22px; margin: 0; } details .string { color: #24837b; } details .string::before { content: \"\\'\"; } details .string::after { content: \"\\'\"; } details .number { color: #ad8301; } details .true { color: blue; } details .false { color: red; } details .null { color: gray; } span.n { color: darkgrey; } </style>\\n<details open><summary>NBCell@0\\n</summary>  <ul>\\n    <li>\\n<span><span class=\"n\">idx</span>: <span class=\"v number\">0</span></span>    </li>\\n    <li>\\n<span><span class=\"n\">source</span>: <span class=\"v string\">did = new_id()\\nprint(f&quot;{did=}&quot;)\\ndisplay(HTML(&quot;&lt;div&gt;I&#x27;m marked!... MAAARKED!!&lt;/div&gt;&quot;, metadata={&#x27;brd_did&#x27;: did}))\\ninfo = __cellinfo__; cell1 …</span></span>    </li>\\n    <li>\\n<span><span class=\"n\">id</span>: <span class=\"v string\">Y122sZmlsZQ==</span></span>    </li>\\n    <li>\\n<span><span class=\"n\">cell_type</span>: <span class=\"v string\">code</span></span>    </li>\\n<details open><summary>outputs\\n</summary>      <ul>\\n<details open><summary>0\\n</summary>          <ul>\\n            <li>\\n<span><span class=\"n\">output_type</span>: <span class=\"v string\">display_data</span></span>            </li>\\n<details open><summary>data\\n</summary>              <ul>\\n                <li>\\n<span><span class=\"n\">text/plain</span>: <span class=\"v string\">&lt;IPython.core.display.HTML object&gt;</span></span>                </li>\\n                <li>\\n<span><span class=\"n\">text/html</span>: <span class=\"v string\">&lt;div&gt;I&#x27;m marked!... MAAARKED!!&lt;/div&gt;\\n&lt;brd-mark id=&quot;bef65b738-b562617c-fb9f4e11-50d3b9be&quot;&gt;&lt;/brd-mark&gt;</span></span>                </li>\\n              </ul>\\n</details>            <li>\\n<span><span class=\"n\">metadata</span>: <span class=\"v \">{&#x27;brd_did&#x27;: &#x27;bef65b738-b562617c-fb9f4e11-50d3b9be&#x27;}</span></span>            </li>\\n          </ul>\\n</details><details open><summary>1\\n</summary>          <ul>\\n            <li>\\n<span><span class=\"n\">output_type</span>: <span class=\"v string\">execute_result</span></span>            </li>\\n            <li>\\n<span><span class=\"n\">execution_count</span>: <span class=\"v number\">50</span></span>            </li>\\n<details open><summary>data\\n</summary>              <ul>\\n                <li>\\n<span><span class=\"n\">text/plain</span>: <span class=\"v string\">21</span></span>                </li>\\n              </ul>\\n</details>            <li>\\n<span><span class=\"n\">metadata</span>: <span class=\"v \">{}</span></span>            </li>\\n          </ul>\\n</details>      </ul>\\n</details>    <li>\\n<span><span class=\"n\">execution_count</span>: <span class=\"v number\">50</span></span>    </li>\\n  </ul>\\n</details>',\n",
       "        'text/markdown': '> code\\n\\n```json\\n{\\n  \\'idx\\': 0,\\n  \\'source\\': \\'did = new_id()\\\\nprint(f\"{did=}\")\\\\ndisplay(HTML(\"<div>I\\\\\\'m marked!... MAAARKED!!</div>\", metadata={\\\\\\'brd_did\\\\\\': did}))\\\\ninfo = __cellinfo__; cell1  = __nb__[info.cell_id]; cell1_copy = cell1.copy()\\\\ntest_eq(cell1.dids, [did])  # NOTE: this is only valid after the `display(...)` call in above line\\\\n21\\',\\n  \\'id\\': \\'Y122sZmlsZQ==\\',\\n  \\'cell_type\\': \\'code\\',\\n  \\'outputs\\': [\\n    {\\n      \\'output_type\\': \\'display_data\\',\\n      \\'data\\': {\\n        \\'text/plain\\': \\'<IPython.core.display.HTML object>\\',\\n        \\'text/html\\': \\'<div>I\\\\\\'m marked!... MAAARKED!!</div>\\\\n<brd-mark id=\"bef65b738-b562617c-fb9f4e11-50d3b9be\"></brd-mark>\\'\\n      },\\n      \\'metadata\\': {\\'brd_did\\': \\'bef65b738-b562617c-fb9f4e11-50d3b9be\\'}\\n    },\\n    {\\'output_type\\': \\'execute_result\\', \\'execution_count\\': 50, \\'data\\': {\\'text/plain\\': \\'21\\'}, \\'metadata\\': {}}\\n  ],\\n  \\'execution_count\\': 50\\n}\\n```'\n",
       "      },\n",
       "      'metadata': {}\n",
       "    }\n",
       "  ],\n",
       "  'execution_count': 51\n",
       "}\n",
       "```"
      ],
      "text/plain": [
       "{'idx': 1,\n",
       " 'source': 'display(cell1_copy)\\ncell1',\n",
       " 'id': 'Y123sZmlsZQ==',\n",
       " 'cell_type': 'code',\n",
       " 'outputs': [{'output_type': 'display_data',\n",
       "   'data': {'text/html': '<style>details ul { list-style-type:none; list-style-position: outside; padding-inline-start: 22px; margin: 0; } details…',\n",
       "    'text/markdown': '> code\\n\\n```json\\n{\\n  \\'idx\\': 0,\\n  \\'source\\': \\'did = new_id()\\\\nprint(f\"{did=}\")\\\\ndisplay(HTML(\"<div>I\\\\\\'m marked!... MAAARKED!!</div>\", metadata={\\\\\\'brd_did\\\\\\': did}))\\\\ninfo = __cellinfo__; cell1  = __nb__[info.cell_id]; cell1_copy = cell1.copy()\\\\ntest_eq(cell1.dids, [did])  # NOTE: this is only valid after the `display(...)` call in above line\\\\n21\\',\\n  \\'id\\': \\'Y122sZmlsZQ==\\',\\n  \\'cell_type\\': \\'code\\',\\n  \\'outputs\\': [\\n    {\\n      \\'output_type\\': \\'display_data\\',\\n      \\'data\\': {\\n        \\'text/plain\\': \\'<IPython.core.display.HTML object>\\',\\n        \\'text/html\\': \\'<div>I\\\\\\'m marked!... MAAARKED!!</div>\\\\n<brd-mark id=\"bef65b738-b562617c-fb9f4e11-50d3b9be\"></brd-mark>\\'\\n      },\\n      \\'metadata\\': {\\'brd_did\\': \\'bef65b738-b562617c-fb9f4e11-50d3b9be\\'}\\n    }\\n  ]\\n}\\n```'},\n",
       "   'metadata': {}},\n",
       "  {'output_type': 'execute_result',\n",
       "   'execution_count': 51,\n",
       "   'data': {'text/plain': '{\\'idx\\': 0,\\n \\'source\\': \\'did = new_id()\\\\nprint(f\"{did=}\")\\\\ndisplay(HTML(\"<div>I\\\\\\'m marked!... MAAARKED!!</div>\", metadata={\\\\\\'brd_did\\\\\\': did}))\\\\ninfo = __cellinfo__; cell1  = __nb__[info.cell_id]; cell1_copy = cell1.copy()\\\\ntest_eq(cell1.dids, [did])  # NOTE: this is only valid after the `display(...)` call in above line\\\\n21\\',\\n \\'id\\': \\'Y122sZmlsZQ==\\',\\n \\'cell_type\\': \\'code\\',\\n \\'outputs\\': [{\\'output_type\\': \\'display_data\\',\\n   \\'data\\': {\\'text/plain\\': \\'<IPython.core.display.HTML object>\\',\\n    \\'text/html\\': \\'<div>I\\\\\\'m marked!... MAAARKED!!</div>\\\\n<brd-mark id=\"bef65b738-b562617c-fb9f4e11-50d3b9be\"></brd-mark>\\'},\\n   \\'metadata\\': {\\'brd_did\\': \\'bef65b738-b562617c-fb9f4e11-50d3b9be\\'}},\\n  {\\'output_type\\': \\'execute_result\\',\\n   \\'execution_count\\': 50,\\n   \\'data\\': {\\'text/plain\\': \\'21\\'},\\n   \\'metadata\\': {}}],\\n \\'execution_count\\': 50}',\n",
       "    'text/html': '<style>details ul { list-style-type:none; list-style-position: outside; padding-inline-start: 22px; margin: 0; } details .string { color: #24837b; } details .string::before { content: \"\\'\"; } details .string::after { content: \"\\'\"; } details .number { color: #ad8301; } details .true { color: blue; } details .false { color: red; } details .null { color: gray; } span.n { color: darkgrey; } </style>\\n<details open><summary>NBCell@0\\n</summary>  <ul>\\n    <li>\\n<span><span class=\"n\">idx</span>: <span class=\"v number\">0</span></span>    </li>\\n    <li>\\n<span><span class=\"n\">source</span>: <span class=\"v string\">did = new_id()\\nprint(f&quot;{did=}&quot;)\\ndisplay(HTML(&quot;&lt;div&gt;I&#x27;m marked!... MAAARKED!!&lt;/div&gt;&quot;, metadata={&#x27;brd_did&#x27;: did}))\\ninfo = __cellinfo__; cell1 …</span></span>    </li>\\n    <li>\\n<span><span class=\"n\">id</span>: <span class=\"v string\">Y122sZmlsZQ==</span></span>    </li>\\n    <li>\\n<span><span class=\"n\">cell_type</span>: <span class=\"v string\">code</span></span>    </li>\\n<details open><summary>outputs\\n</summary>      <ul>\\n<details open><summary>0\\n</summary>          <ul>\\n            <li>\\n<span><span class=\"n\">output_type</span>: <span class=\"v string\">display_data</span></span>            </li>\\n<details open><summary>data\\n</summary>              <ul>\\n                <li>\\n<span><span class=\"n\">text/plain</span>: <span class=\"v string\">&lt;IPython.core.display.HTML object&gt;</span></span>                </li>\\n                <li>\\n<span><span class=\"n\">text/html</span>: <span class=\"v string\">&lt;div&gt;I&#x27;m marked!... MAAARKED!!&lt;/div&gt;\\n&lt;brd-mark id=&quot;bef65b738-b562617c-fb9f4e11-50d3b9be&quot;&gt;&lt;/brd-mark&gt;</span></span>                </li>\\n              </ul>\\n</details>            <li>\\n<span><span class=\"n\">metadata</span>: <span class=\"v \">{&#x27;brd_did&#x27;: &#x27;bef65b738-b562617c-fb9f4e11-50d3b9be&#x27;}</span></span>            </li>\\n          </ul>\\n</details><details open><summary>1\\n</summary>          <ul>\\n            <li>\\n<span><span class=\"n\">output_type</span>: <span class=\"v string\">execute_result</span></span>            </li>\\n            <li>\\n<span><span class=\"n\">execution_count</span>: <span class=\"v number\">50</span></span>            </li>\\n<details open><summary>data\\n</summary>              <ul>\\n                <li>\\n<span><span class=\"n\">text/plain</span>: <span class=\"v string\">21</span></span>                </li>\\n              </ul>\\n</details>            <li>\\n<span><span class=\"n\">metadata</span>: <span class=\"v \">{}</span></span>            </li>\\n          </ul>\\n</details>      </ul>\\n</details>    <li>\\n<span><span class=\"n\">execution_count</span>: <span class=\"v number\">50</span></span>    </li>\\n  </ul>\\n</details>',\n",
       "    'text/markdown': '> code\\n\\n```json\\n{\\n  \\'idx\\': 0,\\n  \\'source\\': \\'did = new_id()\\\\nprint(f\"{did=}\")\\\\ndisplay(HTML(\"<div>I\\\\\\'m marked!... MAAARKED!!</div>\", metadata={\\\\\\'brd_did\\\\\\': did}))\\\\ninfo = __cellinfo__; cell1  = __nb__[info.cell_id]; cell1_copy = cell1.copy()\\\\ntest_eq(cell1.dids, [did])  # NOTE: this is only valid after the `display(...)` call in above line\\\\n21\\',\\n  \\'id\\': \\'Y122sZmlsZQ==\\',\\n  \\'cell_type\\': \\'code\\',\\n  \\'outputs\\': [\\n    {\\n      \\'output_type\\': \\'display_data\\',\\n      \\'data\\': {\\n        \\'text/plain\\': \\'<IPython.core.display.HTML object>\\',\\n        \\'text/html\\': \\'<div>I\\\\\\'m marked!... MAAARKED!!</div>\\\\n<brd-mark id=\"bef65b738-b562617c-fb9f4e11-50d3b9be\"></brd-mark>\\'\\n      },\\n      \\'metadata\\': {\\'brd_did\\': \\'bef65b738-b562617c-fb9f4e11-50d3b9be\\'}\\n    },\\n    {\\'output_type\\': \\'execute_result\\', \\'execution_count\\': 50, \\'data\\': {\\'text/plain\\': \\'21\\'}, \\'metadata\\': {}}\\n  ],\\n  \\'execution_count\\': 50\\n}\\n```'},\n",
       "   'metadata': {}}],\n",
       " 'execution_count': 51}"
      ]
     },
     "metadata": {},
     "output_type": "display_data"
    },
    {
     "data": {
      "text/html": [
       "<style>details ul { list-style-type:none; list-style-position: outside; padding-inline-start: 22px; margin: 0; } details .string { color: #24837b; } details .string::before { content: \"'\"; } details .string::after { content: \"'\"; } details .number { color: #ad8301; } details .true { color: blue; } details .false { color: red; } details .null { color: gray; } span.n { color: darkgrey; } </style>\n",
       "<details open><summary>NBCell@2\n",
       "</summary>  <ul>\n",
       "    <li>\n",
       "<span><span class=\"n\">idx</span>: <span class=\"v number\">2</span></span>    </li>\n",
       "    <li>\n",
       "<span><span class=\"n\">source</span>: <span class=\"v string\">test_is(&#x27;&lt;div&gt;I\\&#x27;m marked!... MAAARKED!!&lt;/div&gt;&#x27; in cell1.outputs[0][&#x27;data&#x27;][&#x27;text/html&#x27;], True)\n",
       "dh = brdd.dhs[-1]\n",
       "test_eq(dh.display_id, did…</span></span>    </li>\n",
       "    <li>\n",
       "<span><span class=\"n\">id</span>: <span class=\"v string\">Y125sZmlsZQ==</span></span>    </li>\n",
       "    <li>\n",
       "<span><span class=\"n\">cell_type</span>: <span class=\"v string\">code</span></span>    </li>\n",
       "<details open><summary>outputs\n",
       "</summary>      <ul></ul>\n",
       "</details>    <li>\n",
       "<span><span class=\"n\">execution_count</span>: <span class=\"v number\">52</span></span>    </li>\n",
       "  </ul>\n",
       "</details>"
      ],
      "text/markdown": [
       "> code\n",
       "\n",
       "```json\n",
       "{\n",
       "  'idx': 2,\n",
       "  'source': \"test_is('<div>I\\\\'m marked!... MAAARKED!!</div>' in cell1.outputs[0]['data']['text/html'], True)\\ndh = brdd.dhs[-1]\\ntest_eq(dh.display_id, did)\",\n",
       "  'id': 'Y125sZmlsZQ==',\n",
       "  'cell_type': 'code',\n",
       "  'outputs': [],\n",
       "  'execution_count': 52\n",
       "}\n",
       "```"
      ],
      "text/plain": [
       "{'idx': 2,\n",
       " 'source': \"test_is('<div>I\\\\'m marked!... MAAARKED!!</div>' in cell1.outputs[0]['data']['text/html'], True)\\ndh = brdd.dhs[-1]\\ntest_eq(dh.display_id, did)\",\n",
       " 'id': 'Y125sZmlsZQ==',\n",
       " 'cell_type': 'code',\n",
       " 'outputs': [],\n",
       " 'execution_count': 52}"
      ]
     },
     "metadata": {},
     "output_type": "display_data"
    },
    {
     "data": {
      "text/html": [
       "<style>details ul { list-style-type:none; list-style-position: outside; padding-inline-start: 22px; margin: 0; } details .string { color: #24837b; } details .string::before { content: \"'\"; } details .string::after { content: \"'\"; } details .number { color: #ad8301; } details .true { color: blue; } details .false { color: red; } details .null { color: gray; } span.n { color: darkgrey; } </style>\n",
       "<details open><summary>NBCell@3\n",
       "</summary>  <ul>\n",
       "    <li>\n",
       "<span><span class=\"n\">idx</span>: <span class=\"v number\">3</span></span>    </li>\n",
       "    <li>\n",
       "<span><span class=\"n\">source</span>: <span class=\"v string\">dh.update(HTML(&quot;&lt;div&gt;I&#x27;m doomed!... DOOOOOMED!!&lt;/div&gt;&quot;))\n",
       "cell2 = __nb__[__cellinfo__.cell_id]\n",
       "test_is(hasattr(cell2, &#x27;did&#x27;), False)\n",
       "htmls = …</span></span>    </li>\n",
       "    <li>\n",
       "<span><span class=\"n\">id</span>: <span class=\"v string\">Y131sZmlsZQ==</span></span>    </li>\n",
       "    <li>\n",
       "<span><span class=\"n\">cell_type</span>: <span class=\"v string\">code</span></span>    </li>\n",
       "<details open><summary>outputs\n",
       "</summary>      <ul></ul>\n",
       "</details>    <li>\n",
       "<span><span class=\"n\">execution_count</span>: <span class=\"v number\">53</span></span>    </li>\n",
       "  </ul>\n",
       "</details>"
      ],
      "text/markdown": [
       "> code\n",
       "\n",
       "```json\n",
       "{\n",
       "  'idx': 3,\n",
       "  'source': 'dh.update(HTML(\"<div>I\\'m doomed!... DOOOOOMED!!</div>\"))\\ncell2 = __nb__[__cellinfo__.cell_id]\\ntest_is(hasattr(cell2, \\'did\\'), False)\\nhtmls = vals_at(cell1, \\'outputs.*.data.text/html\\', True)\\ntest_is(any(\\'MAAARKED\\' in v for v in htmls), False)\\ntest_is(any(\\'DOOOOOMED\\' in v for v in htmls), True)',\n",
       "  'id': 'Y131sZmlsZQ==',\n",
       "  'cell_type': 'code',\n",
       "  'outputs': [],\n",
       "  'execution_count': 53\n",
       "}\n",
       "```"
      ],
      "text/plain": [
       "{'idx': 3,\n",
       " 'source': 'dh.update(HTML(\"<div>I\\'m doomed!... DOOOOOMED!!</div>\"))\\ncell2 = __nb__[__cellinfo__.cell_id]\\ntest_is(hasattr(cell2, \\'did\\'), False)\\nhtmls = vals_at(cell1, \\'outputs.*.data.text/html\\', True)\\ntest_is(any(\\'MAAARKED\\' in v for v in htmls), False)\\ntest_is(any(\\'DOOOOOMED\\' in v for v in htmls), True)',\n",
       " 'id': 'Y131sZmlsZQ==',\n",
       " 'cell_type': 'code',\n",
       " 'outputs': [],\n",
       " 'execution_count': 53}"
      ]
     },
     "metadata": {},
     "output_type": "display_data"
    },
    {
     "data": {
      "text/html": [
       "<style>details ul { list-style-type:none; list-style-position: outside; padding-inline-start: 22px; margin: 0; } details .string { color: #24837b; } details .string::before { content: \"'\"; } details .string::after { content: \"'\"; } details .number { color: #ad8301; } details .true { color: blue; } details .false { color: red; } details .null { color: gray; } span.n { color: darkgrey; } </style>\n",
       "<details open><summary>NBCell@4\n",
       "</summary>  <ul>\n",
       "    <li>\n",
       "<span><span class=\"n\">idx</span>: <span class=\"v number\">4</span></span>    </li>\n",
       "    <li>\n",
       "<span><span class=\"n\">source</span>: <span class=\"v string\">display(cell1)\n",
       "cell2</span></span>    </li>\n",
       "    <li>\n",
       "<span><span class=\"n\">id</span>: <span class=\"v string\">Y132sZmlsZQ==</span></span>    </li>\n",
       "    <li>\n",
       "<span><span class=\"n\">cell_type</span>: <span class=\"v string\">code</span></span>    </li>\n",
       "<details open><summary>outputs\n",
       "</summary>      <ul>\n",
       "<details open><summary>0\n",
       "</summary>          <ul>\n",
       "            <li>\n",
       "<span><span class=\"n\">output_type</span>: <span class=\"v string\">display_data</span></span>            </li>\n",
       "<details open><summary>data\n",
       "</summary>              <ul>\n",
       "                <li>\n",
       "<span><span class=\"n\">text/html</span>: <span class=\"v string\">&lt;style&gt;details ul { list-style-type:none; list-style-position: outside; padding-inline-start: 22px; margin: 0; } details…</span></span>                </li>\n",
       "                <li>\n",
       "<span><span class=\"n\">text/markdown</span>: <span class=\"v string\">&gt; code\n",
       "\n",
       "```json\n",
       "{\n",
       "  &#x27;idx&#x27;: 0,\n",
       "  &#x27;source&#x27;: &#x27;did = new_id()\\nprint(f&quot;{did=}&quot;)\\ndisplay(HTML(&quot;&lt;div&gt;I\\&#x27;m marked!... MAAARKED!!&lt;/div&gt;&quot;, metadata=…</span></span>                </li>\n",
       "              </ul>\n",
       "</details>            <li>\n",
       "<span><span class=\"n\">metadata</span>: <span class=\"v \">{}</span></span>            </li>\n",
       "          </ul>\n",
       "</details><details open><summary>1\n",
       "</summary>          <ul>\n",
       "            <li>\n",
       "<span><span class=\"n\">output_type</span>: <span class=\"v string\">execute_result</span></span>            </li>\n",
       "            <li>\n",
       "<span><span class=\"n\">execution_count</span>: <span class=\"v number\">54</span></span>            </li>\n",
       "<details open><summary>data\n",
       "</summary>              <ul>\n",
       "                <li>\n",
       "<span><span class=\"n\">text/plain</span>: <span class=\"v string\">{&#x27;idx&#x27;: 3,\n",
       " &#x27;source&#x27;: &#x27;dh.update(HTML(&quot;&lt;div&gt;I\\&#x27;m doomed!... DOOOOOMED!!&lt;/div&gt;&quot;))\\ncell2 = __nb__[__cellinfo__.cell_id]\\ntest_is(hasattr(cell…</span></span>                </li>\n",
       "                <li>\n",
       "<span><span class=\"n\">text/html</span>: <span class=\"v string\">&lt;style&gt;details ul { list-style-type:none; list-style-position: outside; padding-inline-start: 22px; margin: 0; } details .string { color: #2…</span></span>                </li>\n",
       "                <li>\n",
       "<span><span class=\"n\">text/markdown</span>: <span class=\"v string\">&gt; code\n",
       "\n",
       "```json\n",
       "{\n",
       "  &#x27;idx&#x27;: 3,\n",
       "  &#x27;source&#x27;: &#x27;dh.update(HTML(&quot;&lt;div&gt;I\\&#x27;m doomed!... DOOOOOMED!!&lt;/div&gt;&quot;))\\ncell2 = __nb__[__cellinfo__.cell_id]\\n…</span></span>                </li>\n",
       "              </ul>\n",
       "</details>            <li>\n",
       "<span><span class=\"n\">metadata</span>: <span class=\"v \">{}</span></span>            </li>\n",
       "          </ul>\n",
       "</details>      </ul>\n",
       "</details>    <li>\n",
       "<span><span class=\"n\">execution_count</span>: <span class=\"v number\">54</span></span>    </li>\n",
       "  </ul>\n",
       "</details>"
      ],
      "text/markdown": [
       "> code\n",
       "\n",
       "```json\n",
       "{\n",
       "  'idx': 4,\n",
       "  'source': 'display(cell1)\\ncell2',\n",
       "  'id': 'Y132sZmlsZQ==',\n",
       "  'cell_type': 'code',\n",
       "  'outputs': [\n",
       "    {\n",
       "      'output_type': 'display_data',\n",
       "      'data': {\n",
       "        'text/html': '<style>details ul { list-style-type:none; list-style-position: outside; padding-inline-start: 22px; margin: 0; } details…',\n",
       "        'text/markdown': '> code\\n\\n```json\\n{\\n  \\'idx\\': 0,\\n  \\'source\\': \\'did = new_id()\\\\nprint(f\"{did=}\")\\\\ndisplay(HTML(\"<div>I\\\\\\'m marked!... MAAARKED!!</div>\", metadata={\\\\\\'brd_did\\\\\\': did}))\\\\ninfo = __cellinfo__; cell1  = __nb__[info.cell_id]; cell1_copy = cell1.copy()\\\\ntest_eq(cell1.dids, [did])  # NOTE: this is only valid after the `display(...)` call in above line\\\\n21\\',\\n  \\'id\\': \\'Y122sZmlsZQ==\\',\\n  \\'cell_type\\': \\'code\\',\\n  \\'outputs\\': [\\n    {\\n      \\'output_type\\': \\'display_data\\',\\n      \\'data\\': {\\n        \\'text/plain\\': \\'<IPython.core.display.HTML object>\\',\\n        \\'text/html\\': \\'<div>I\\\\\\'m doomed!... DOOOOOMED!!</div>\\\\n<brd-mark id=\"bef65b738-b562617c-fb9f4e11-50d3b9be\"></brd-mark>\\'\\n      },\\n      \\'metadata\\': {\\'brd_did\\': \\'bef65b738-b562617c-fb9f4e11-50d3b9be\\'}\\n    },\\n    {\\'output_type\\': \\'execute_result\\', \\'execution_count\\': 50, \\'data\\': {\\'text/plain\\': \\'21\\'}, \\'metadata\\': {}}\\n  ],\\n  \\'execution_count\\': 50\\n}\\n```'\n",
       "      },\n",
       "      'metadata': {}\n",
       "    },\n",
       "    {\n",
       "      'output_type': 'execute_result',\n",
       "      'execution_count': 54,\n",
       "      'data': {\n",
       "        'text/plain': '{\\'idx\\': 3,\\n \\'source\\': \\'dh.update(HTML(\"<div>I\\\\\\'m doomed!... DOOOOOMED!!</div>\"))\\\\ncell2 = __nb__[__cellinfo__.cell_id]\\\\ntest_is(hasattr(cell2, \\\\\\'did\\\\\\'), False)\\\\nhtmls = vals_at(cell1, \\\\\\'outputs.*.data.text/html\\\\\\', True)\\\\ntest_is(any(\\\\\\'MAAARKED\\\\\\' in v for v in htmls), False)\\\\ntest_is(any(\\\\\\'DOOOOOMED\\\\\\' in v for v in htmls), True)\\',\\n \\'id\\': \\'Y131sZmlsZQ==\\',\\n \\'cell_type\\': \\'code\\',\\n \\'outputs\\': [],\\n \\'execution_count\\': 53}',\n",
       "        'text/html': '<style>details ul { list-style-type:none; list-style-position: outside; padding-inline-start: 22px; margin: 0; } details .string { color: #24837b; } details .string::before { content: \"\\'\"; } details .string::after { content: \"\\'\"; } details .number { color: #ad8301; } details .true { color: blue; } details .false { color: red; } details .null { color: gray; } span.n { color: darkgrey; } </style>\\n<details open><summary>NBCell@3\\n</summary>  <ul>\\n    <li>\\n<span><span class=\"n\">idx</span>: <span class=\"v number\">3</span></span>    </li>\\n    <li>\\n<span><span class=\"n\">source</span>: <span class=\"v string\">dh.update(HTML(&quot;&lt;div&gt;I&#x27;m doomed!... DOOOOOMED!!&lt;/div&gt;&quot;))\\ncell2 = __nb__[__cellinfo__.cell_id]\\ntest_is(hasattr(cell2, &#x27;did&#x27;), False)\\nhtmls = …</span></span>    </li>\\n    <li>\\n<span><span class=\"n\">id</span>: <span class=\"v string\">Y131sZmlsZQ==</span></span>    </li>\\n    <li>\\n<span><span class=\"n\">cell_type</span>: <span class=\"v string\">code</span></span>    </li>\\n<details open><summary>outputs\\n</summary>      <ul></ul>\\n</details>    <li>\\n<span><span class=\"n\">execution_count</span>: <span class=\"v number\">53</span></span>    </li>\\n  </ul>\\n</details>',\n",
       "        'text/markdown': '> code\\n\\n```json\\n{\\n  \\'idx\\': 3,\\n  \\'source\\': \\'dh.update(HTML(\"<div>I\\\\\\'m doomed!... DOOOOOMED!!</div>\"))\\\\ncell2 = __nb__[__cellinfo__.cell_id]\\\\ntest_is(hasattr(cell2, \\\\\\'did\\\\\\'), False)\\\\nhtmls = vals_at(cell1, \\\\\\'outputs.*.data.text/html\\\\\\', True)\\\\ntest_is(any(\\\\\\'MAAARKED\\\\\\' in v for v in htmls), False)\\\\ntest_is(any(\\\\\\'DOOOOOMED\\\\\\' in v for v in htmls), True)\\',\\n  \\'id\\': \\'Y131sZmlsZQ==\\',\\n  \\'cell_type\\': \\'code\\',\\n  \\'outputs\\': [],\\n  \\'execution_count\\': 53\\n}\\n```'\n",
       "      },\n",
       "      'metadata': {}\n",
       "    }\n",
       "  ],\n",
       "  'execution_count': 54\n",
       "}\n",
       "```"
      ],
      "text/plain": [
       "{'idx': 4,\n",
       " 'source': 'display(cell1)\\ncell2',\n",
       " 'id': 'Y132sZmlsZQ==',\n",
       " 'cell_type': 'code',\n",
       " 'outputs': [{'output_type': 'display_data',\n",
       "   'data': {'text/html': '<style>details ul { list-style-type:none; list-style-position: outside; padding-inline-start: 22px; margin: 0; } details…',\n",
       "    'text/markdown': '> code\\n\\n```json\\n{\\n  \\'idx\\': 0,\\n  \\'source\\': \\'did = new_id()\\\\nprint(f\"{did=}\")\\\\ndisplay(HTML(\"<div>I\\\\\\'m marked!... MAAARKED!!</div>\", metadata={\\\\\\'brd_did\\\\\\': did}))\\\\ninfo = __cellinfo__; cell1  = __nb__[info.cell_id]; cell1_copy = cell1.copy()\\\\ntest_eq(cell1.dids, [did])  # NOTE: this is only valid after the `display(...)` call in above line\\\\n21\\',\\n  \\'id\\': \\'Y122sZmlsZQ==\\',\\n  \\'cell_type\\': \\'code\\',\\n  \\'outputs\\': [\\n    {\\n      \\'output_type\\': \\'display_data\\',\\n      \\'data\\': {\\n        \\'text/plain\\': \\'<IPython.core.display.HTML object>\\',\\n        \\'text/html\\': \\'<div>I\\\\\\'m doomed!... DOOOOOMED!!</div>\\\\n<brd-mark id=\"bef65b738-b562617c-fb9f4e11-50d3b9be\"></brd-mark>\\'\\n      },\\n      \\'metadata\\': {\\'brd_did\\': \\'bef65b738-b562617c-fb9f4e11-50d3b9be\\'}\\n    },\\n    {\\'output_type\\': \\'execute_result\\', \\'execution_count\\': 50, \\'data\\': {\\'text/plain\\': \\'21\\'}, \\'metadata\\': {}}\\n  ],\\n  \\'execution_count\\': 50\\n}\\n```'},\n",
       "   'metadata': {}},\n",
       "  {'output_type': 'execute_result',\n",
       "   'execution_count': 54,\n",
       "   'data': {'text/plain': '{\\'idx\\': 3,\\n \\'source\\': \\'dh.update(HTML(\"<div>I\\\\\\'m doomed!... DOOOOOMED!!</div>\"))\\\\ncell2 = __nb__[__cellinfo__.cell_id]\\\\ntest_is(hasattr(cell2, \\\\\\'did\\\\\\'), False)\\\\nhtmls = vals_at(cell1, \\\\\\'outputs.*.data.text/html\\\\\\', True)\\\\ntest_is(any(\\\\\\'MAAARKED\\\\\\' in v for v in htmls), False)\\\\ntest_is(any(\\\\\\'DOOOOOMED\\\\\\' in v for v in htmls), True)\\',\\n \\'id\\': \\'Y131sZmlsZQ==\\',\\n \\'cell_type\\': \\'code\\',\\n \\'outputs\\': [],\\n \\'execution_count\\': 53}',\n",
       "    'text/html': '<style>details ul { list-style-type:none; list-style-position: outside; padding-inline-start: 22px; margin: 0; } details .string { color: #24837b; } details .string::before { content: \"\\'\"; } details .string::after { content: \"\\'\"; } details .number { color: #ad8301; } details .true { color: blue; } details .false { color: red; } details .null { color: gray; } span.n { color: darkgrey; } </style>\\n<details open><summary>NBCell@3\\n</summary>  <ul>\\n    <li>\\n<span><span class=\"n\">idx</span>: <span class=\"v number\">3</span></span>    </li>\\n    <li>\\n<span><span class=\"n\">source</span>: <span class=\"v string\">dh.update(HTML(&quot;&lt;div&gt;I&#x27;m doomed!... DOOOOOMED!!&lt;/div&gt;&quot;))\\ncell2 = __nb__[__cellinfo__.cell_id]\\ntest_is(hasattr(cell2, &#x27;did&#x27;), False)\\nhtmls = …</span></span>    </li>\\n    <li>\\n<span><span class=\"n\">id</span>: <span class=\"v string\">Y131sZmlsZQ==</span></span>    </li>\\n    <li>\\n<span><span class=\"n\">cell_type</span>: <span class=\"v string\">code</span></span>    </li>\\n<details open><summary>outputs\\n</summary>      <ul></ul>\\n</details>    <li>\\n<span><span class=\"n\">execution_count</span>: <span class=\"v number\">53</span></span>    </li>\\n  </ul>\\n</details>',\n",
       "    'text/markdown': '> code\\n\\n```json\\n{\\n  \\'idx\\': 3,\\n  \\'source\\': \\'dh.update(HTML(\"<div>I\\\\\\'m doomed!... DOOOOOMED!!</div>\"))\\\\ncell2 = __nb__[__cellinfo__.cell_id]\\\\ntest_is(hasattr(cell2, \\\\\\'did\\\\\\'), False)\\\\nhtmls = vals_at(cell1, \\\\\\'outputs.*.data.text/html\\\\\\', True)\\\\ntest_is(any(\\\\\\'MAAARKED\\\\\\' in v for v in htmls), False)\\\\ntest_is(any(\\\\\\'DOOOOOMED\\\\\\' in v for v in htmls), True)\\',\\n  \\'id\\': \\'Y131sZmlsZQ==\\',\\n  \\'cell_type\\': \\'code\\',\\n  \\'outputs\\': [],\\n  \\'execution_count\\': 53\\n}\\n```'},\n",
       "   'metadata': {}}],\n",
       " 'execution_count': 54}"
      ]
     },
     "metadata": {},
     "output_type": "display_data"
    },
    {
     "data": {
      "text/html": [
       "<style>details ul { list-style-type:none; list-style-position: outside; padding-inline-start: 22px; margin: 0; } details .string { color: #24837b; } details .string::before { content: \"'\"; } details .string::after { content: \"'\"; } details .number { color: #ad8301; } details .true { color: blue; } details .false { color: red; } details .null { color: gray; } span.n { color: darkgrey; } </style>\n",
       "<details open><summary>NBCell@5\n",
       "</summary>  <ul>\n",
       "    <li>\n",
       "<span><span class=\"n\">idx</span>: <span class=\"v number\">5</span></span>    </li>\n",
       "    <li>\n",
       "<span><span class=\"n\">source</span>: <span class=\"v string\">dh = display(HTML(&quot;&lt;div&gt;I&#x27;m marked!... MAAARKED!!&lt;/div&gt;&quot;), display_id=True)\n",
       "cell = __nb__[__cellinfo__.cell_id]\n",
       "test_eq(at(cell, &#x27;outputs.0.…</span></span>    </li>\n",
       "    <li>\n",
       "<span><span class=\"n\">id</span>: <span class=\"v string\">Y134sZmlsZQ==</span></span>    </li>\n",
       "    <li>\n",
       "<span><span class=\"n\">cell_type</span>: <span class=\"v string\">code</span></span>    </li>\n",
       "<details open><summary>outputs\n",
       "</summary>      <ul>\n",
       "<details open><summary>0\n",
       "</summary>          <ul>\n",
       "            <li>\n",
       "<span><span class=\"n\">output_type</span>: <span class=\"v string\">display_data</span></span>            </li>\n",
       "<details open><summary>data\n",
       "</summary>              <ul>\n",
       "                <li>\n",
       "<span><span class=\"n\">text/html</span>: <span class=\"v string\">&lt;div&gt;I&#x27;m doomed!... DOOOOOMED!!&lt;/div&gt;\n",
       "&lt;brd-mark id=&quot;be9d4855bed807ddd02ae5e149336927&quot;&gt;&lt;/brd-mark&gt;</span></span>                </li>\n",
       "              </ul>\n",
       "</details>            <li>\n",
       "<span><span class=\"n\">metadata</span>: <span class=\"v \">{&#x27;brd_did&#x27;: &#x27;be9d4855bed807ddd02ae5e149336927&#x27;}</span></span>            </li>\n",
       "          </ul>\n",
       "</details><details open><summary>1\n",
       "</summary>          <ul>\n",
       "            <li>\n",
       "<span><span class=\"n\">output_type</span>: <span class=\"v string\">execute_result</span></span>            </li>\n",
       "            <li>\n",
       "<span><span class=\"n\">execution_count</span>: <span class=\"v number\">55</span></span>            </li>\n",
       "<details open><summary>data\n",
       "</summary>              <ul>\n",
       "                <li>\n",
       "<span><span class=\"n\">text/plain</span>: <span class=\"v string\">{&#x27;idx&#x27;: 5,\n",
       " &#x27;source&#x27;: &#x27;dh = display(HTML(&quot;&lt;div&gt;I\\&#x27;m marked!... MAAARKED!!&lt;/div&gt;&quot;), display_id=True)\\ncell = __nb__[__cellinfo__.cell_id]\\nte…</span></span>                </li>\n",
       "                <li>\n",
       "<span><span class=\"n\">text/html</span>: <span class=\"v string\">&lt;style&gt;details ul { list-style-type:none; list-style-position: outside; padding-inline-start: 22px; margin: 0; } details .string { color: #2…</span></span>                </li>\n",
       "                <li>\n",
       "<span><span class=\"n\">text/markdown</span>: <span class=\"v string\">&gt; code\n",
       "\n",
       "```json\n",
       "{\n",
       "  &#x27;idx&#x27;: 5,\n",
       "  &#x27;source&#x27;: &#x27;dh = display(HTML(&quot;&lt;div&gt;I\\&#x27;m marked!... MAAARKED!!&lt;/div&gt;&quot;), display_id=True)\\ncell = __nb__[__cel…</span></span>                </li>\n",
       "              </ul>\n",
       "</details>            <li>\n",
       "<span><span class=\"n\">metadata</span>: <span class=\"v \">{}</span></span>            </li>\n",
       "          </ul>\n",
       "</details>      </ul>\n",
       "</details>    <li>\n",
       "<span><span class=\"n\">execution_count</span>: <span class=\"v number\">55</span></span>    </li>\n",
       "  </ul>\n",
       "</details>"
      ],
      "text/markdown": [
       "> code\n",
       "\n",
       "```json\n",
       "{\n",
       "  'idx': 5,\n",
       "  'source': 'dh = display(HTML(\"<div>I\\'m marked!... MAAARKED!!</div>\"), display_id=True)\\ncell = __nb__[__cellinfo__.cell_id]\\ntest_eq(at(cell, \\'outputs.0.metadata.brd_did\\'), brdd.dh.display_id)  # type: ignore\\ncell',\n",
       "  'id': 'Y134sZmlsZQ==',\n",
       "  'cell_type': 'code',\n",
       "  'outputs': [\n",
       "    {\n",
       "      'output_type': 'display_data',\n",
       "      'data': {\n",
       "        'text/html': '<div>I\\'m doomed!... DOOOOOMED!!</div>\\n<brd-mark id=\"be9d4855bed807ddd02ae5e149336927\"></brd-mark>'\n",
       "      },\n",
       "      'metadata': {'brd_did': 'be9d4855bed807ddd02ae5e149336927'}\n",
       "    },\n",
       "    {\n",
       "      'output_type': 'execute_result',\n",
       "      'execution_count': 55,\n",
       "      'data': {\n",
       "        'text/plain': '{\\'idx\\': 5,\\n \\'source\\': \\'dh = display(HTML(\"<div>I\\\\\\'m marked!... MAAARKED!!</div>\"), display_id=True)\\\\ncell = __nb__[__cellinfo__.cell_id]\\\\ntest_eq(at(cell, \\\\\\'outputs.0.metadata.brd_did\\\\\\'), brdd.dh.display_id)  # type: ignore\\\\ncell\\',\\n \\'id\\': \\'Y134sZmlsZQ==\\',\\n \\'cell_type\\': \\'code\\',\\n \\'outputs\\': [{\\'output_type\\': \\'display_data\\',\\n   \\'data\\': {\\'text/plain\\': \\'<IPython.core.display.HTML object>\\',\\n    \\'text/html\\': \\'<div>I\\\\\\'m marked!... MAAARKED!!</div>\\\\n<brd-mark id=\"be9d4855bed807ddd02ae5e149336927\"></brd-mark>\\'},\\n   \\'metadata\\': {\\'brd_did\\': \\'be9d4855bed807ddd02ae5e149336927\\'}}]}',\n",
       "        'text/html': '<style>details ul { list-style-type:none; list-style-position: outside; padding-inline-start: 22px; margin: 0; } details .string { color: #24837b; } details .string::before { content: \"\\'\"; } details .string::after { content: \"\\'\"; } details .number { color: #ad8301; } details .true { color: blue; } details .false { color: red; } details .null { color: gray; } span.n { color: darkgrey; } </style>\\n<details open><summary>NBCell@5\\n</summary>  <ul>\\n    <li>\\n<span><span class=\"n\">idx</span>: <span class=\"v number\">5</span></span>    </li>\\n    <li>\\n<span><span class=\"n\">source</span>: <span class=\"v string\">dh = display(HTML(&quot;&lt;div&gt;I&#x27;m marked!... MAAARKED!!&lt;/div&gt;&quot;), display_id=True)\\ncell = __nb__[__cellinfo__.cell_id]\\ntest_eq(at(cell, &#x27;outputs.0.…</span></span>    </li>\\n    <li>\\n<span><span class=\"n\">id</span>: <span class=\"v string\">Y134sZmlsZQ==</span></span>    </li>\\n    <li>\\n<span><span class=\"n\">cell_type</span>: <span class=\"v string\">code</span></span>    </li>\\n<details open><summary>outputs\\n</summary>      <ul>\\n<details open><summary>0\\n</summary>          <ul>\\n            <li>\\n<span><span class=\"n\">output_type</span>: <span class=\"v string\">display_data</span></span>            </li>\\n<details open><summary>data\\n</summary>              <ul>\\n                <li>\\n<span><span class=\"n\">text/plain</span>: <span class=\"v string\">&lt;IPython.core.display.HTML object&gt;</span></span>                </li>\\n                <li>\\n<span><span class=\"n\">text/html</span>: <span class=\"v string\">&lt;div&gt;I&#x27;m marked!... MAAARKED!!&lt;/div&gt;\\n&lt;brd-mark id=&quot;be9d4855bed807ddd02ae5e149336927&quot;&gt;&lt;/brd-mark&gt;</span></span>                </li>\\n              </ul>\\n</details>            <li>\\n<span><span class=\"n\">metadata</span>: <span class=\"v \">{&#x27;brd_did&#x27;: &#x27;be9d4855bed807ddd02ae5e149336927&#x27;}</span></span>            </li>\\n          </ul>\\n</details>      </ul>\\n</details>  </ul>\\n</details>',\n",
       "        'text/markdown': '> code\\n\\n```json\\n{\\n  \\'idx\\': 5,\\n  \\'source\\': \\'dh = display(HTML(\"<div>I\\\\\\'m marked!... MAAARKED!!</div>\"), display_id=True)\\\\ncell = __nb__[__cellinfo__.cell_id]\\\\ntest_eq(at(cell, \\\\\\'outputs.0.metadata.brd_did\\\\\\'), brdd.dh.display_id)  # type: ignore\\\\ncell\\',\\n  \\'id\\': \\'Y134sZmlsZQ==\\',\\n  \\'cell_type\\': \\'code\\',\\n  \\'outputs\\': [\\n    {\\n      \\'output_type\\': \\'display_data\\',\\n      \\'data\\': {\\n        \\'text/plain\\': \\'<IPython.core.display.HTML object>\\',\\n        \\'text/html\\': \\'<div>I\\\\\\'m marked!... MAAARKED!!</div>\\\\n<brd-mark id=\"be9d4855bed807ddd02ae5e149336927\"></brd-mark>\\'\\n      },\\n      \\'metadata\\': {\\'brd_did\\': \\'be9d4855bed807ddd02ae5e149336927\\'}\\n    }\\n  ]\\n}\\n```'\n",
       "      },\n",
       "      'metadata': {}\n",
       "    }\n",
       "  ],\n",
       "  'execution_count': 55\n",
       "}\n",
       "```"
      ],
      "text/plain": [
       "{'idx': 5,\n",
       " 'source': 'dh = display(HTML(\"<div>I\\'m marked!... MAAARKED!!</div>\"), display_id=True)\\ncell = __nb__[__cellinfo__.cell_id]\\ntest_eq(at(cell, \\'outputs.0.metadata.brd_did\\'), brdd.dh.display_id)  # type: ignore\\ncell',\n",
       " 'id': 'Y134sZmlsZQ==',\n",
       " 'cell_type': 'code',\n",
       " 'outputs': [{'output_type': 'display_data',\n",
       "   'data': {'text/html': '<div>I\\'m doomed!... DOOOOOMED!!</div>\\n<brd-mark id=\"be9d4855bed807ddd02ae5e149336927\"></brd-mark>'},\n",
       "   'metadata': {'brd_did': 'be9d4855bed807ddd02ae5e149336927'}},\n",
       "  {'output_type': 'execute_result',\n",
       "   'execution_count': 55,\n",
       "   'data': {'text/plain': '{\\'idx\\': 5,\\n \\'source\\': \\'dh = display(HTML(\"<div>I\\\\\\'m marked!... MAAARKED!!</div>\"), display_id=True)\\\\ncell = __nb__[__cellinfo__.cell_id]\\\\ntest_eq(at(cell, \\\\\\'outputs.0.metadata.brd_did\\\\\\'), brdd.dh.display_id)  # type: ignore\\\\ncell\\',\\n \\'id\\': \\'Y134sZmlsZQ==\\',\\n \\'cell_type\\': \\'code\\',\\n \\'outputs\\': [{\\'output_type\\': \\'display_data\\',\\n   \\'data\\': {\\'text/plain\\': \\'<IPython.core.display.HTML object>\\',\\n    \\'text/html\\': \\'<div>I\\\\\\'m marked!... MAAARKED!!</div>\\\\n<brd-mark id=\"be9d4855bed807ddd02ae5e149336927\"></brd-mark>\\'},\\n   \\'metadata\\': {\\'brd_did\\': \\'be9d4855bed807ddd02ae5e149336927\\'}}]}',\n",
       "    'text/html': '<style>details ul { list-style-type:none; list-style-position: outside; padding-inline-start: 22px; margin: 0; } details .string { color: #24837b; } details .string::before { content: \"\\'\"; } details .string::after { content: \"\\'\"; } details .number { color: #ad8301; } details .true { color: blue; } details .false { color: red; } details .null { color: gray; } span.n { color: darkgrey; } </style>\\n<details open><summary>NBCell@5\\n</summary>  <ul>\\n    <li>\\n<span><span class=\"n\">idx</span>: <span class=\"v number\">5</span></span>    </li>\\n    <li>\\n<span><span class=\"n\">source</span>: <span class=\"v string\">dh = display(HTML(&quot;&lt;div&gt;I&#x27;m marked!... MAAARKED!!&lt;/div&gt;&quot;), display_id=True)\\ncell = __nb__[__cellinfo__.cell_id]\\ntest_eq(at(cell, &#x27;outputs.0.…</span></span>    </li>\\n    <li>\\n<span><span class=\"n\">id</span>: <span class=\"v string\">Y134sZmlsZQ==</span></span>    </li>\\n    <li>\\n<span><span class=\"n\">cell_type</span>: <span class=\"v string\">code</span></span>    </li>\\n<details open><summary>outputs\\n</summary>      <ul>\\n<details open><summary>0\\n</summary>          <ul>\\n            <li>\\n<span><span class=\"n\">output_type</span>: <span class=\"v string\">display_data</span></span>            </li>\\n<details open><summary>data\\n</summary>              <ul>\\n                <li>\\n<span><span class=\"n\">text/plain</span>: <span class=\"v string\">&lt;IPython.core.display.HTML object&gt;</span></span>                </li>\\n                <li>\\n<span><span class=\"n\">text/html</span>: <span class=\"v string\">&lt;div&gt;I&#x27;m marked!... MAAARKED!!&lt;/div&gt;\\n&lt;brd-mark id=&quot;be9d4855bed807ddd02ae5e149336927&quot;&gt;&lt;/brd-mark&gt;</span></span>                </li>\\n              </ul>\\n</details>            <li>\\n<span><span class=\"n\">metadata</span>: <span class=\"v \">{&#x27;brd_did&#x27;: &#x27;be9d4855bed807ddd02ae5e149336927&#x27;}</span></span>            </li>\\n          </ul>\\n</details>      </ul>\\n</details>  </ul>\\n</details>',\n",
       "    'text/markdown': '> code\\n\\n```json\\n{\\n  \\'idx\\': 5,\\n  \\'source\\': \\'dh = display(HTML(\"<div>I\\\\\\'m marked!... MAAARKED!!</div>\"), display_id=True)\\\\ncell = __nb__[__cellinfo__.cell_id]\\\\ntest_eq(at(cell, \\\\\\'outputs.0.metadata.brd_did\\\\\\'), brdd.dh.display_id)  # type: ignore\\\\ncell\\',\\n  \\'id\\': \\'Y134sZmlsZQ==\\',\\n  \\'cell_type\\': \\'code\\',\\n  \\'outputs\\': [\\n    {\\n      \\'output_type\\': \\'display_data\\',\\n      \\'data\\': {\\n        \\'text/plain\\': \\'<IPython.core.display.HTML object>\\',\\n        \\'text/html\\': \\'<div>I\\\\\\'m marked!... MAAARKED!!</div>\\\\n<brd-mark id=\"be9d4855bed807ddd02ae5e149336927\"></brd-mark>\\'\\n      },\\n      \\'metadata\\': {\\'brd_did\\': \\'be9d4855bed807ddd02ae5e149336927\\'}\\n    }\\n  ]\\n}\\n```'},\n",
       "   'metadata': {}}],\n",
       " 'execution_count': 55}"
      ]
     },
     "metadata": {},
     "output_type": "display_data"
    },
    {
     "data": {
      "text/html": [
       "<style>details ul { list-style-type:none; list-style-position: outside; padding-inline-start: 22px; margin: 0; } details .string { color: #24837b; } details .string::before { content: \"'\"; } details .string::after { content: \"'\"; } details .number { color: #ad8301; } details .true { color: blue; } details .false { color: red; } details .null { color: gray; } span.n { color: darkgrey; } </style>\n",
       "<details open><summary>NBCell@6\n",
       "</summary>  <ul>\n",
       "    <li>\n",
       "<span><span class=\"n\">idx</span>: <span class=\"v number\">6</span></span>    </li>\n",
       "    <li>\n",
       "<span><span class=\"n\">source</span>: <span class=\"v string\">brdd.dh.update(HTML(&quot;&lt;div&gt;I&#x27;m doomed!... DOOOOOMED!!&lt;/div&gt;&quot;))  # type: ignore\n",
       "cell</span></span>    </li>\n",
       "    <li>\n",
       "<span><span class=\"n\">id</span>: <span class=\"v string\">Y136sZmlsZQ==</span></span>    </li>\n",
       "    <li>\n",
       "<span><span class=\"n\">cell_type</span>: <span class=\"v string\">code</span></span>    </li>\n",
       "<details open><summary>outputs\n",
       "</summary>      <ul>\n",
       "<details open><summary>0\n",
       "</summary>          <ul>\n",
       "            <li>\n",
       "<span><span class=\"n\">output_type</span>: <span class=\"v string\">execute_result</span></span>            </li>\n",
       "            <li>\n",
       "<span><span class=\"n\">execution_count</span>: <span class=\"v number\">56</span></span>            </li>\n",
       "<details open><summary>data\n",
       "</summary>              <ul>\n",
       "                <li>\n",
       "<span><span class=\"n\">text/plain</span>: <span class=\"v string\">{&#x27;idx&#x27;: 5,\n",
       " &#x27;source&#x27;: &#x27;dh = display(HTML(&quot;&lt;div&gt;I\\&#x27;m marked!... MAAARKED!!&lt;/div&gt;&quot;), display_id=True)\\ncell = __nb__[__cellinfo__.cell_id]\\nte…</span></span>                </li>\n",
       "                <li>\n",
       "<span><span class=\"n\">text/html</span>: <span class=\"v string\">&lt;style&gt;details ul { list-style-type:none; list-style-position: outside; padding-inline-start: 22px; margin: 0; } details .string { color: #2…</span></span>                </li>\n",
       "                <li>\n",
       "<span><span class=\"n\">text/markdown</span>: <span class=\"v string\">&gt; code\n",
       "\n",
       "```json\n",
       "{\n",
       "  &#x27;idx&#x27;: 5,\n",
       "  &#x27;source&#x27;: &#x27;dh = display(HTML(&quot;&lt;div&gt;I\\&#x27;m marked!... MAAARKED!!&lt;/div&gt;&quot;), display_id=True)\\ncell = __nb__[__cel…</span></span>                </li>\n",
       "              </ul>\n",
       "</details>            <li>\n",
       "<span><span class=\"n\">metadata</span>: <span class=\"v \">{}</span></span>            </li>\n",
       "          </ul>\n",
       "</details>      </ul>\n",
       "</details>    <li>\n",
       "<span><span class=\"n\">execution_count</span>: <span class=\"v number\">56</span></span>    </li>\n",
       "  </ul>\n",
       "</details>"
      ],
      "text/markdown": [
       "> code\n",
       "\n",
       "```json\n",
       "{\n",
       "  'idx': 6,\n",
       "  'source': 'brdd.dh.update(HTML(\"<div>I\\'m doomed!... DOOOOOMED!!</div>\"))  # type: ignore\\ncell',\n",
       "  'id': 'Y136sZmlsZQ==',\n",
       "  'cell_type': 'code',\n",
       "  'outputs': [\n",
       "    {\n",
       "      'output_type': 'execute_result',\n",
       "      'execution_count': 56,\n",
       "      'data': {\n",
       "        'text/plain': '{\\'idx\\': 5,\\n \\'source\\': \\'dh = display(HTML(\"<div>I\\\\\\'m marked!... MAAARKED!!</div>\"), display_id=True)\\\\ncell = __nb__[__cellinfo__.cell_id]\\\\ntest_eq(at(cell, \\\\\\'outputs.0.metadata.brd_did\\\\\\'), brdd.dh.display_id)  # type: ignore\\\\ncell\\',\\n \\'id\\': \\'Y134sZmlsZQ==\\',\\n \\'cell_type\\': \\'code\\',\\n \\'outputs\\': [{\\'output_type\\': \\'display_data\\',\\n   \\'data\\': {\\'text/plain\\': \\'<IPython.core.display.HTML object>\\',\\n    \\'text/html\\': \\'<div>I\\\\\\'m doomed!... DOOOOOMED!!</div>\\\\n<brd-mark id=\"be9d4855bed807ddd02ae5e149336927\"></brd-mark>\\'},\\n   \\'metadata\\': {\\'brd_did\\': \\'be9d4855bed807ddd02ae5e149336927\\'}},\\n  {\\'output_type\\': \\'execute_result\\',\\n   \\'execution_count\\': 55,\\n   \\'data\\': {\\'text/plain\\': \\'{\\\\\\'idx\\\\\\': 5,\\\\n \\\\\\'source\\\\\\': \\\\\\'dh = display(HTML(\"<div>I\\\\\\\\\\\\\\'m marked!... MAAARKED!!</div>\"), display_id=True)\\\\\\\\ncell = __nb__[__cellinfo__.cell_id]\\\\\\\\ntest_eq(at(cell, \\\\\\\\\\\\\\'outputs.0.metadata.brd_did\\\\\\\\\\\\\\'), brdd.dh.display_id)  # type: ignore\\\\\\\\ncell\\\\\\',\\\\n \\\\\\'id\\\\\\': \\\\\\'Y134sZmlsZQ==\\\\\\',\\\\n \\\\\\'cell_type\\\\\\': \\\\\\'code\\\\\\',\\\\n \\\\\\'outputs\\\\\\': [{\\\\\\'output_type\\\\\\': \\\\\\'display_data\\\\\\',\\\\n   \\\\\\'data\\\\\\': {\\\\\\'text/plain\\\\\\': \\\\\\'<IPython.core.display.HTML object>\\\\\\',\\\\n    \\\\\\'text/html\\\\\\': \\\\\\'<div>I\\\\\\\\\\\\\\'m marked!... MAAARKED!!</div>\\\\\\\\n<brd-mark id=\"be9d4855bed807ddd02ae5e149336927\"></brd-mark>\\\\\\'},\\\\n   \\\\\\'metadata\\\\\\': {\\\\\\'brd_did\\\\\\': \\\\\\'be9d4855bed807ddd02ae5e149336927\\\\\\'}}]}\\',\\n    \\'text/html\\': \\'<style>details ul { list-style-type:none; list-style-position: outside; padding-inline-start: 22px; margin: 0; } details .string { color: #24837b; } details .string::before { content: \"\\\\\\'\"; } details .string::after { content: \"\\\\\\'\"; } details .number { color: #ad8301; } details .true { color: blue; } details .false { color: red; } details .null { color: gray; } span.n { color: darkgrey; } </style>\\\\n<details open><summary>NBCell@5\\\\n</summary>  <ul>\\\\n    <li>\\\\n<span><span class=\"n\">idx</span>: <span class=\"v number\">5</span></span>    </li>\\\\n    <li>\\\\n<span><span class=\"n\">source</span>: <span class=\"v string\">dh = display(HTML(&quot;&lt;div&gt;I&#x27;m marked!... MAAARKED!!&lt;/div&gt;&quot;), display_id=True)\\\\ncell = __nb__[__cellinfo__.cell_id]\\\\ntest_eq(at(cell, &#x27;outputs.0.…</span></span>    </li>\\\\n    <li>\\\\n<span><span class=\"n\">id</span>: <span class=\"v string\">Y134sZmlsZQ==</span></span>    </li>\\\\n    <li>\\\\n<span><span class=\"n\">cell_type</span>: <span class=\"v string\">code</span></span>    </li>\\\\n<details open><summary>outputs\\\\n</summary>      <ul>\\\\n<details open><summary>0\\\\n</summary>          <ul>\\\\n            <li>\\\\n<span><span class=\"n\">output_type</span>: <span class=\"v string\">display_data</span></span>            </li>\\\\n<details open><summary>data\\\\n</summary>              <ul>\\\\n                <li>\\\\n<span><span class=\"n\">text/plain</span>: <span class=\"v string\">&lt;IPython.core.display.HTML object&gt;</span></span>                </li>\\\\n                <li>\\\\n<span><span class=\"n\">text/html</span>: <span class=\"v string\">&lt;div&gt;I&#x27;m marked!... MAAARKED!!&lt;/div&gt;\\\\n&lt;brd-mark id=&quot;be9d4855bed807ddd02ae5e149336927&quot;&gt;&lt;/brd-mark&gt;</span></span>                </li>\\\\n              </ul>\\\\n</details>            <li>\\\\n<span><span class=\"n\">metadata</span>: <span class=\"v \">{&#x27;brd_did&#x27;: &#x27;be9d4855bed807ddd02ae5e149336927&#x27;}</span></span>            </li>\\\\n          </ul>\\\\n</details>      </ul>\\\\n</details>  </ul>\\\\n</details>\\',\\n    \\'text/markdown\\': \\'> code\\\\n\\\\n```json\\\\n{\\\\n  \\\\\\'idx\\\\\\': 5,\\\\n  \\\\\\'source\\\\\\': \\\\\\'dh = display(HTML(\"<div>I\\\\\\\\\\\\\\'m marked!... MAAARKED!!</div>\"), display_id=True)\\\\\\\\ncell = __nb__[__cellinfo__.cell_id]\\\\\\\\ntest_eq(at(cell, \\\\\\\\\\\\\\'outputs.0.metadata.brd_did\\\\\\\\\\\\\\'), brdd.dh.display_id)  # type: ignore\\\\\\\\ncell\\\\\\',\\\\n  \\\\\\'id\\\\\\': \\\\\\'Y134sZmlsZQ==\\\\\\',\\\\n  \\\\\\'cell_type\\\\\\': \\\\\\'code\\\\\\',\\\\n  \\\\\\'outputs\\\\\\': [\\\\n    {\\\\n      \\\\\\'output_type\\\\\\': \\\\\\'display_data\\\\\\',\\\\n      \\\\\\'data\\\\\\': {\\\\n        \\\\\\'text/plain\\\\\\': \\\\\\'<IPython.core.display.HTML object>\\\\\\',\\\\n        \\\\\\'text/html\\\\\\': \\\\\\'<div>I\\\\\\\\\\\\\\'m marked!... MAAARKED!!</div>\\\\\\\\n<brd-mark id=\"be9d4855bed807ddd02ae5e149336927\"></brd-mark>\\\\\\'\\\\n      },\\\\n      \\\\\\'metadata\\\\\\': {\\\\\\'brd_did\\\\\\': \\\\\\'be9d4855bed807ddd02ae5e149336927\\\\\\'}\\\\n    }\\\\n  ]\\\\n}\\\\n```\\'},\\n   \\'metadata\\': {}}],\\n \\'execution_count\\': 55}',\n",
       "        'text/html': '<style>details ul { list-style-type:none; list-style-position: outside; padding-inline-start: 22px; margin: 0; } details .string { color: #24837b; } details .string::before { content: \"\\'\"; } details .string::after { content: \"\\'\"; } details .number { color: #ad8301; } details .true { color: blue; } details .false { color: red; } details .null { color: gray; } span.n { color: darkgrey; } </style>\\n<details open><summary>NBCell@5\\n</summary>  <ul>\\n    <li>\\n<span><span class=\"n\">idx</span>: <span class=\"v number\">5</span></span>    </li>\\n    <li>\\n<span><span class=\"n\">source</span>: <span class=\"v string\">dh = display(HTML(&quot;&lt;div&gt;I&#x27;m marked!... MAAARKED!!&lt;/div&gt;&quot;), display_id=True)\\ncell = __nb__[__cellinfo__.cell_id]\\ntest_eq(at(cell, &#x27;outputs.0.…</span></span>    </li>\\n    <li>\\n<span><span class=\"n\">id</span>: <span class=\"v string\">Y134sZmlsZQ==</span></span>    </li>\\n    <li>\\n<span><span class=\"n\">cell_type</span>: <span class=\"v string\">code</span></span>    </li>\\n<details open><summary>outputs\\n</summary>      <ul>\\n<details open><summary>0\\n</summary>          <ul>\\n            <li>\\n<span><span class=\"n\">output_type</span>: <span class=\"v string\">display_data</span></span>            </li>\\n<details open><summary>data\\n</summary>              <ul>\\n                <li>\\n<span><span class=\"n\">text/plain</span>: <span class=\"v string\">&lt;IPython.core.display.HTML object&gt;</span></span>                </li>\\n                <li>\\n<span><span class=\"n\">text/html</span>: <span class=\"v string\">&lt;div&gt;I&#x27;m doomed!... DOOOOOMED!!&lt;/div&gt;\\n&lt;brd-mark id=&quot;be9d4855bed807ddd02ae5e149336927&quot;&gt;&lt;/brd-mark&gt;</span></span>                </li>\\n              </ul>\\n</details>            <li>\\n<span><span class=\"n\">metadata</span>: <span class=\"v \">{&#x27;brd_did&#x27;: &#x27;be9d4855bed807ddd02ae5e149336927&#x27;}</span></span>            </li>\\n          </ul>\\n</details><details open><summary>1\\n</summary>          <ul>\\n            <li>\\n<span><span class=\"n\">output_type</span>: <span class=\"v string\">execute_result</span></span>            </li>\\n            <li>\\n<span><span class=\"n\">execution_count</span>: <span class=\"v number\">55</span></span>            </li>\\n<details open><summary>data\\n</summary>              <ul>\\n                <li>\\n<span><span class=\"n\">text/plain</span>: <span class=\"v string\">{&#x27;idx&#x27;: 5,\\n &#x27;source&#x27;: &#x27;dh = display(HTML(&quot;&lt;div&gt;I\\\\&#x27;m marked!... MAAARKED!!&lt;/div&gt;&quot;), display_id=True)\\\\ncell = __nb__[__cellinfo__.cell_id]\\\\nte…</span></span>                </li>\\n                <li>\\n<span><span class=\"n\">text/html</span>: <span class=\"v string\">&lt;style&gt;details ul { list-style-type:none; list-style-position: outside; padding-inline-start: 22px; margin: 0; } details .string { color: #2…</span></span>                </li>\\n                <li>\\n<span><span class=\"n\">text/markdown</span>: <span class=\"v string\">&gt; code\\n\\n```json\\n{\\n  &#x27;idx&#x27;: 5,\\n  &#x27;source&#x27;: &#x27;dh = display(HTML(&quot;&lt;div&gt;I\\\\&#x27;m marked!... MAAARKED!!&lt;/div&gt;&quot;), display_id=True)\\\\ncell = __nb__[__cel…</span></span>                </li>\\n              </ul>\\n</details>            <li>\\n<span><span class=\"n\">metadata</span>: <span class=\"v \">{}</span></span>            </li>\\n          </ul>\\n</details>      </ul>\\n</details>    <li>\\n<span><span class=\"n\">execution_count</span>: <span class=\"v number\">55</span></span>    </li>\\n  </ul>\\n</details>',\n",
       "        'text/markdown': '> code\\n\\n```json\\n{\\n  \\'idx\\': 5,\\n  \\'source\\': \\'dh = display(HTML(\"<div>I\\\\\\'m marked!... MAAARKED!!</div>\"), display_id=True)\\\\ncell = __nb__[__cellinfo__.cell_id]\\\\ntest_eq(at(cell, \\\\\\'outputs.0.metadata.brd_did\\\\\\'), brdd.dh.display_id)  # type: ignore\\\\ncell\\',\\n  \\'id\\': \\'Y134sZmlsZQ==\\',\\n  \\'cell_type\\': \\'code\\',\\n  \\'outputs\\': [\\n    {\\n      \\'output_type\\': \\'display_data\\',\\n      \\'data\\': {\\n        \\'text/plain\\': \\'<IPython.core.display.HTML object>\\',\\n        \\'text/html\\': \\'<div>I\\\\\\'m doomed!... DOOOOOMED!!</div>\\\\n<brd-mark id=\"be9d4855bed807ddd02ae5e149336927\"></brd-mark>\\'\\n      },\\n      \\'metadata\\': {\\'brd_did\\': \\'be9d4855bed807ddd02ae5e149336927\\'}\\n    },\\n    {\\n      \\'output_type\\': \\'execute_result\\',\\n      \\'execution_count\\': 55,\\n      \\'data\\': {\\n        \\'text/plain\\': \\'{\\\\\\'idx\\\\\\': 5,\\\\n \\\\\\'source\\\\\\': \\\\\\'dh = display(HTML(\"<div>I\\\\\\\\\\\\\\'m marked!... MAAARKED!!</div>\"), display_id=True)\\\\\\\\ncell = __nb__[__cellinfo__.cell_id]\\\\\\\\ntest_eq(at(cell, \\\\\\\\\\\\\\'outputs.0.metadata.brd_did\\\\\\\\\\\\\\'), brdd.dh.display_id)  # type: ignore\\\\\\\\ncell\\\\\\',\\\\n \\\\\\'id\\\\\\': \\\\\\'Y134sZmlsZQ==\\\\\\',\\\\n \\\\\\'cell_type\\\\\\': \\\\\\'code\\\\\\',\\\\n \\\\\\'outputs\\\\\\': [{\\\\\\'output_type\\\\\\': \\\\\\'display_data\\\\\\',\\\\n   \\\\\\'data\\\\\\': {\\\\\\'text/plain\\\\\\': \\\\\\'<IPython.core.display.HTML object>\\\\\\',\\\\n    \\\\\\'text/html\\\\\\': \\\\\\'<div>I\\\\\\\\\\\\\\'m marked!... MAAARKED!!</div>\\\\\\\\n<brd-mark id=\"be9d4855bed807ddd02ae5e149336927\"></brd-mark>\\\\\\'},\\\\n   \\\\\\'metadata\\\\\\': {\\\\\\'brd_did\\\\\\': \\\\\\'be9d4855bed807ddd02ae5e149336927\\\\\\'}}]}\\',\\n        \\'text/html\\': \\'<style>details ul { list-style-type:none; list-style-position: outside; padding-inline-start: 22px; margin: 0; } details .string { color: #24837b; } details .string::before { content: \"\\\\\\'\"; } details .string::after { content: \"\\\\\\'\"; } details .number { color: #ad8301; } details .true { color: blue; } details .false { color: red; } details .null { color: gray; } span.n { color: darkgrey; } </style>\\\\n<details open><summary>NBCell@5\\\\n</summary>  <ul>\\\\n    <li>\\\\n<span><span class=\"n\">idx</span>: <span class=\"v number\">5</span></span>    </li>\\\\n    <li>\\\\n<span><span class=\"n\">source</span>: <span class=\"v string\">dh = display(HTML(&quot;&lt;div&gt;I&#x27;m marked!... MAAARKED!!&lt;/div&gt;&quot;), display_id=True)\\\\ncell = __nb__[__cellinfo__.cell_id]\\\\ntest_eq(at(cell, &#x27;outputs.0.…</span></span>    </li>\\\\n    <li>\\\\n<span><span class=\"n\">id</span>: <span class=\"v string\">Y134sZmlsZQ==</span></span>    </li>\\\\n    <li>\\\\n<span><span class=\"n\">cell_type</span>: <span class=\"v string\">code</span></span>    </li>\\\\n<details open><summary>outputs\\\\n</summary>      <ul>\\\\n<details open><summary>0\\\\n</summary>          <ul>\\\\n            <li>\\\\n<span><span class=\"n\">output_type</span>: <span class=\"v string\">display_data</span></span>            </li>\\\\n<details open><summary>data\\\\n</summary>              <ul>\\\\n                <li>\\\\n<span><span class=\"n\">text/plain</span>: <span class=\"v string\">&lt;IPython.core.display.HTML object&gt;</span></span>                </li>\\\\n                <li>\\\\n<span><span class=\"n\">text/html</span>: <span class=\"v string\">&lt;div&gt;I&#x27;m marked!... MAAARKED!!&lt;/div&gt;\\\\n&lt;brd-mark id=&quot;be9d4855bed807ddd02ae5e149336927&quot;&gt;&lt;/brd-mark&gt;</span></span>                </li>\\\\n              </ul>\\\\n</details>            <li>\\\\n<span><span class=\"n\">metadata</span>: <span class=\"v \">{&#x27;brd_did&#x27;: &#x27;be9d4855bed807ddd02ae5e149336927&#x27;}</span></span>            </li>\\\\n          </ul>\\\\n</details>      </ul>\\\\n</details>  </ul>\\\\n</details>\\',\\n        \\'text/markdown\\': \\'> code\\\\n\\\\n```json\\\\n{\\\\n  \\\\\\'idx\\\\\\': 5,\\\\n  \\\\\\'source\\\\\\': \\\\\\'dh = display(HTML(\"<div>I\\\\\\\\\\\\\\'m marked!... MAAARKED!!</div>\"), display_id=True)\\\\\\\\ncell = __nb__[__cellinfo__.cell_id]\\\\\\\\ntest_eq(at(cell, \\\\\\\\\\\\\\'outputs.0.metadata.brd_did\\\\\\\\\\\\\\'), brdd.dh.display_id)  # type: ignore\\\\\\\\ncell\\\\\\',\\\\n  \\\\\\'id\\\\\\': \\\\\\'Y134sZmlsZQ==\\\\\\',\\\\n  \\\\\\'cell_type\\\\\\': \\\\\\'code\\\\\\',\\\\n  \\\\\\'outputs\\\\\\': [\\\\n    {\\\\n      \\\\\\'output_type\\\\\\': \\\\\\'display_data\\\\\\',\\\\n      \\\\\\'data\\\\\\': {\\\\n        \\\\\\'text/plain\\\\\\': \\\\\\'<IPython.core.display.HTML object>\\\\\\',\\\\n        \\\\\\'text/html\\\\\\': \\\\\\'<div>I\\\\\\\\\\\\\\'m marked!... MAAARKED!!</div>\\\\\\\\n<brd-mark id=\"be9d4855bed807ddd02ae5e149336927\"></brd-mark>\\\\\\'\\\\n      },\\\\n      \\\\\\'metadata\\\\\\': {\\\\\\'brd_did\\\\\\': \\\\\\'be9d4855bed807ddd02ae5e149336927\\\\\\'}\\\\n    }\\\\n  ]\\\\n}\\\\n```\\'\\n      },\\n      \\'metadata\\': {}\\n    }\\n  ],\\n  \\'execution_count\\': 55\\n}\\n```'\n",
       "      },\n",
       "      'metadata': {}\n",
       "    }\n",
       "  ],\n",
       "  'execution_count': 56\n",
       "}\n",
       "```"
      ],
      "text/plain": [
       "{'idx': 6,\n",
       " 'source': 'brdd.dh.update(HTML(\"<div>I\\'m doomed!... DOOOOOMED!!</div>\"))  # type: ignore\\ncell',\n",
       " 'id': 'Y136sZmlsZQ==',\n",
       " 'cell_type': 'code',\n",
       " 'outputs': [{'output_type': 'execute_result',\n",
       "   'execution_count': 56,\n",
       "   'data': {'text/plain': '{\\'idx\\': 5,\\n \\'source\\': \\'dh = display(HTML(\"<div>I\\\\\\'m marked!... MAAARKED!!</div>\"), display_id=True)\\\\ncell = __nb__[__cellinfo__.cell_id]\\\\ntest_eq(at(cell, \\\\\\'outputs.0.metadata.brd_did\\\\\\'), brdd.dh.display_id)  # type: ignore\\\\ncell\\',\\n \\'id\\': \\'Y134sZmlsZQ==\\',\\n \\'cell_type\\': \\'code\\',\\n \\'outputs\\': [{\\'output_type\\': \\'display_data\\',\\n   \\'data\\': {\\'text/plain\\': \\'<IPython.core.display.HTML object>\\',\\n    \\'text/html\\': \\'<div>I\\\\\\'m doomed!... DOOOOOMED!!</div>\\\\n<brd-mark id=\"be9d4855bed807ddd02ae5e149336927\"></brd-mark>\\'},\\n   \\'metadata\\': {\\'brd_did\\': \\'be9d4855bed807ddd02ae5e149336927\\'}},\\n  {\\'output_type\\': \\'execute_result\\',\\n   \\'execution_count\\': 55,\\n   \\'data\\': {\\'text/plain\\': \\'{\\\\\\'idx\\\\\\': 5,\\\\n \\\\\\'source\\\\\\': \\\\\\'dh = display(HTML(\"<div>I\\\\\\\\\\\\\\'m marked!... MAAARKED!!</div>\"), display_id=True)\\\\\\\\ncell = __nb__[__cellinfo__.cell_id]\\\\\\\\ntest_eq(at(cell, \\\\\\\\\\\\\\'outputs.0.metadata.brd_did\\\\\\\\\\\\\\'), brdd.dh.display_id)  # type: ignore\\\\\\\\ncell\\\\\\',\\\\n \\\\\\'id\\\\\\': \\\\\\'Y134sZmlsZQ==\\\\\\',\\\\n \\\\\\'cell_type\\\\\\': \\\\\\'code\\\\\\',\\\\n \\\\\\'outputs\\\\\\': [{\\\\\\'output_type\\\\\\': \\\\\\'display_data\\\\\\',\\\\n   \\\\\\'data\\\\\\': {\\\\\\'text/plain\\\\\\': \\\\\\'<IPython.core.display.HTML object>\\\\\\',\\\\n    \\\\\\'text/html\\\\\\': \\\\\\'<div>I\\\\\\\\\\\\\\'m marked!... MAAARKED!!</div>\\\\\\\\n<brd-mark id=\"be9d4855bed807ddd02ae5e149336927\"></brd-mark>\\\\\\'},\\\\n   \\\\\\'metadata\\\\\\': {\\\\\\'brd_did\\\\\\': \\\\\\'be9d4855bed807ddd02ae5e149336927\\\\\\'}}]}\\',\\n    \\'text/html\\': \\'<style>details ul { list-style-type:none; list-style-position: outside; padding-inline-start: 22px; margin: 0; } details .string { color: #24837b; } details .string::before { content: \"\\\\\\'\"; } details .string::after { content: \"\\\\\\'\"; } details .number { color: #ad8301; } details .true { color: blue; } details .false { color: red; } details .null { color: gray; } span.n { color: darkgrey; } </style>\\\\n<details open><summary>NBCell@5\\\\n</summary>  <ul>\\\\n    <li>\\\\n<span><span class=\"n\">idx</span>: <span class=\"v number\">5</span></span>    </li>\\\\n    <li>\\\\n<span><span class=\"n\">source</span>: <span class=\"v string\">dh = display(HTML(&quot;&lt;div&gt;I&#x27;m marked!... MAAARKED!!&lt;/div&gt;&quot;), display_id=True)\\\\ncell = __nb__[__cellinfo__.cell_id]\\\\ntest_eq(at(cell, &#x27;outputs.0.…</span></span>    </li>\\\\n    <li>\\\\n<span><span class=\"n\">id</span>: <span class=\"v string\">Y134sZmlsZQ==</span></span>    </li>\\\\n    <li>\\\\n<span><span class=\"n\">cell_type</span>: <span class=\"v string\">code</span></span>    </li>\\\\n<details open><summary>outputs\\\\n</summary>      <ul>\\\\n<details open><summary>0\\\\n</summary>          <ul>\\\\n            <li>\\\\n<span><span class=\"n\">output_type</span>: <span class=\"v string\">display_data</span></span>            </li>\\\\n<details open><summary>data\\\\n</summary>              <ul>\\\\n                <li>\\\\n<span><span class=\"n\">text/plain</span>: <span class=\"v string\">&lt;IPython.core.display.HTML object&gt;</span></span>                </li>\\\\n                <li>\\\\n<span><span class=\"n\">text/html</span>: <span class=\"v string\">&lt;div&gt;I&#x27;m marked!... MAAARKED!!&lt;/div&gt;\\\\n&lt;brd-mark id=&quot;be9d4855bed807ddd02ae5e149336927&quot;&gt;&lt;/brd-mark&gt;</span></span>                </li>\\\\n              </ul>\\\\n</details>            <li>\\\\n<span><span class=\"n\">metadata</span>: <span class=\"v \">{&#x27;brd_did&#x27;: &#x27;be9d4855bed807ddd02ae5e149336927&#x27;}</span></span>            </li>\\\\n          </ul>\\\\n</details>      </ul>\\\\n</details>  </ul>\\\\n</details>\\',\\n    \\'text/markdown\\': \\'> code\\\\n\\\\n```json\\\\n{\\\\n  \\\\\\'idx\\\\\\': 5,\\\\n  \\\\\\'source\\\\\\': \\\\\\'dh = display(HTML(\"<div>I\\\\\\\\\\\\\\'m marked!... MAAARKED!!</div>\"), display_id=True)\\\\\\\\ncell = __nb__[__cellinfo__.cell_id]\\\\\\\\ntest_eq(at(cell, \\\\\\\\\\\\\\'outputs.0.metadata.brd_did\\\\\\\\\\\\\\'), brdd.dh.display_id)  # type: ignore\\\\\\\\ncell\\\\\\',\\\\n  \\\\\\'id\\\\\\': \\\\\\'Y134sZmlsZQ==\\\\\\',\\\\n  \\\\\\'cell_type\\\\\\': \\\\\\'code\\\\\\',\\\\n  \\\\\\'outputs\\\\\\': [\\\\n    {\\\\n      \\\\\\'output_type\\\\\\': \\\\\\'display_data\\\\\\',\\\\n      \\\\\\'data\\\\\\': {\\\\n        \\\\\\'text/plain\\\\\\': \\\\\\'<IPython.core.display.HTML object>\\\\\\',\\\\n        \\\\\\'text/html\\\\\\': \\\\\\'<div>I\\\\\\\\\\\\\\'m marked!... MAAARKED!!</div>\\\\\\\\n<brd-mark id=\"be9d4855bed807ddd02ae5e149336927\"></brd-mark>\\\\\\'\\\\n      },\\\\n      \\\\\\'metadata\\\\\\': {\\\\\\'brd_did\\\\\\': \\\\\\'be9d4855bed807ddd02ae5e149336927\\\\\\'}\\\\n    }\\\\n  ]\\\\n}\\\\n```\\'},\\n   \\'metadata\\': {}}],\\n \\'execution_count\\': 55}',\n",
       "    'text/html': '<style>details ul { list-style-type:none; list-style-position: outside; padding-inline-start: 22px; margin: 0; } details .string { color: #24837b; } details .string::before { content: \"\\'\"; } details .string::after { content: \"\\'\"; } details .number { color: #ad8301; } details .true { color: blue; } details .false { color: red; } details .null { color: gray; } span.n { color: darkgrey; } </style>\\n<details open><summary>NBCell@5\\n</summary>  <ul>\\n    <li>\\n<span><span class=\"n\">idx</span>: <span class=\"v number\">5</span></span>    </li>\\n    <li>\\n<span><span class=\"n\">source</span>: <span class=\"v string\">dh = display(HTML(&quot;&lt;div&gt;I&#x27;m marked!... MAAARKED!!&lt;/div&gt;&quot;), display_id=True)\\ncell = __nb__[__cellinfo__.cell_id]\\ntest_eq(at(cell, &#x27;outputs.0.…</span></span>    </li>\\n    <li>\\n<span><span class=\"n\">id</span>: <span class=\"v string\">Y134sZmlsZQ==</span></span>    </li>\\n    <li>\\n<span><span class=\"n\">cell_type</span>: <span class=\"v string\">code</span></span>    </li>\\n<details open><summary>outputs\\n</summary>      <ul>\\n<details open><summary>0\\n</summary>          <ul>\\n            <li>\\n<span><span class=\"n\">output_type</span>: <span class=\"v string\">display_data</span></span>            </li>\\n<details open><summary>data\\n</summary>              <ul>\\n                <li>\\n<span><span class=\"n\">text/plain</span>: <span class=\"v string\">&lt;IPython.core.display.HTML object&gt;</span></span>                </li>\\n                <li>\\n<span><span class=\"n\">text/html</span>: <span class=\"v string\">&lt;div&gt;I&#x27;m doomed!... DOOOOOMED!!&lt;/div&gt;\\n&lt;brd-mark id=&quot;be9d4855bed807ddd02ae5e149336927&quot;&gt;&lt;/brd-mark&gt;</span></span>                </li>\\n              </ul>\\n</details>            <li>\\n<span><span class=\"n\">metadata</span>: <span class=\"v \">{&#x27;brd_did&#x27;: &#x27;be9d4855bed807ddd02ae5e149336927&#x27;}</span></span>            </li>\\n          </ul>\\n</details><details open><summary>1\\n</summary>          <ul>\\n            <li>\\n<span><span class=\"n\">output_type</span>: <span class=\"v string\">execute_result</span></span>            </li>\\n            <li>\\n<span><span class=\"n\">execution_count</span>: <span class=\"v number\">55</span></span>            </li>\\n<details open><summary>data\\n</summary>              <ul>\\n                <li>\\n<span><span class=\"n\">text/plain</span>: <span class=\"v string\">{&#x27;idx&#x27;: 5,\\n &#x27;source&#x27;: &#x27;dh = display(HTML(&quot;&lt;div&gt;I\\\\&#x27;m marked!... MAAARKED!!&lt;/div&gt;&quot;), display_id=True)\\\\ncell = __nb__[__cellinfo__.cell_id]\\\\nte…</span></span>                </li>\\n                <li>\\n<span><span class=\"n\">text/html</span>: <span class=\"v string\">&lt;style&gt;details ul { list-style-type:none; list-style-position: outside; padding-inline-start: 22px; margin: 0; } details .string { color: #2…</span></span>                </li>\\n                <li>\\n<span><span class=\"n\">text/markdown</span>: <span class=\"v string\">&gt; code\\n\\n```json\\n{\\n  &#x27;idx&#x27;: 5,\\n  &#x27;source&#x27;: &#x27;dh = display(HTML(&quot;&lt;div&gt;I\\\\&#x27;m marked!... MAAARKED!!&lt;/div&gt;&quot;), display_id=True)\\\\ncell = __nb__[__cel…</span></span>                </li>\\n              </ul>\\n</details>            <li>\\n<span><span class=\"n\">metadata</span>: <span class=\"v \">{}</span></span>            </li>\\n          </ul>\\n</details>      </ul>\\n</details>    <li>\\n<span><span class=\"n\">execution_count</span>: <span class=\"v number\">55</span></span>    </li>\\n  </ul>\\n</details>',\n",
       "    'text/markdown': '> code\\n\\n```json\\n{\\n  \\'idx\\': 5,\\n  \\'source\\': \\'dh = display(HTML(\"<div>I\\\\\\'m marked!... MAAARKED!!</div>\"), display_id=True)\\\\ncell = __nb__[__cellinfo__.cell_id]\\\\ntest_eq(at(cell, \\\\\\'outputs.0.metadata.brd_did\\\\\\'), brdd.dh.display_id)  # type: ignore\\\\ncell\\',\\n  \\'id\\': \\'Y134sZmlsZQ==\\',\\n  \\'cell_type\\': \\'code\\',\\n  \\'outputs\\': [\\n    {\\n      \\'output_type\\': \\'display_data\\',\\n      \\'data\\': {\\n        \\'text/plain\\': \\'<IPython.core.display.HTML object>\\',\\n        \\'text/html\\': \\'<div>I\\\\\\'m doomed!... DOOOOOMED!!</div>\\\\n<brd-mark id=\"be9d4855bed807ddd02ae5e149336927\"></brd-mark>\\'\\n      },\\n      \\'metadata\\': {\\'brd_did\\': \\'be9d4855bed807ddd02ae5e149336927\\'}\\n    },\\n    {\\n      \\'output_type\\': \\'execute_result\\',\\n      \\'execution_count\\': 55,\\n      \\'data\\': {\\n        \\'text/plain\\': \\'{\\\\\\'idx\\\\\\': 5,\\\\n \\\\\\'source\\\\\\': \\\\\\'dh = display(HTML(\"<div>I\\\\\\\\\\\\\\'m marked!... MAAARKED!!</div>\"), display_id=True)\\\\\\\\ncell = __nb__[__cellinfo__.cell_id]\\\\\\\\ntest_eq(at(cell, \\\\\\\\\\\\\\'outputs.0.metadata.brd_did\\\\\\\\\\\\\\'), brdd.dh.display_id)  # type: ignore\\\\\\\\ncell\\\\\\',\\\\n \\\\\\'id\\\\\\': \\\\\\'Y134sZmlsZQ==\\\\\\',\\\\n \\\\\\'cell_type\\\\\\': \\\\\\'code\\\\\\',\\\\n \\\\\\'outputs\\\\\\': [{\\\\\\'output_type\\\\\\': \\\\\\'display_data\\\\\\',\\\\n   \\\\\\'data\\\\\\': {\\\\\\'text/plain\\\\\\': \\\\\\'<IPython.core.display.HTML object>\\\\\\',\\\\n    \\\\\\'text/html\\\\\\': \\\\\\'<div>I\\\\\\\\\\\\\\'m marked!... MAAARKED!!</div>\\\\\\\\n<brd-mark id=\"be9d4855bed807ddd02ae5e149336927\"></brd-mark>\\\\\\'},\\\\n   \\\\\\'metadata\\\\\\': {\\\\\\'brd_did\\\\\\': \\\\\\'be9d4855bed807ddd02ae5e149336927\\\\\\'}}]}\\',\\n        \\'text/html\\': \\'<style>details ul { list-style-type:none; list-style-position: outside; padding-inline-start: 22px; margin: 0; } details .string { color: #24837b; } details .string::before { content: \"\\\\\\'\"; } details .string::after { content: \"\\\\\\'\"; } details .number { color: #ad8301; } details .true { color: blue; } details .false { color: red; } details .null { color: gray; } span.n { color: darkgrey; } </style>\\\\n<details open><summary>NBCell@5\\\\n</summary>  <ul>\\\\n    <li>\\\\n<span><span class=\"n\">idx</span>: <span class=\"v number\">5</span></span>    </li>\\\\n    <li>\\\\n<span><span class=\"n\">source</span>: <span class=\"v string\">dh = display(HTML(&quot;&lt;div&gt;I&#x27;m marked!... MAAARKED!!&lt;/div&gt;&quot;), display_id=True)\\\\ncell = __nb__[__cellinfo__.cell_id]\\\\ntest_eq(at(cell, &#x27;outputs.0.…</span></span>    </li>\\\\n    <li>\\\\n<span><span class=\"n\">id</span>: <span class=\"v string\">Y134sZmlsZQ==</span></span>    </li>\\\\n    <li>\\\\n<span><span class=\"n\">cell_type</span>: <span class=\"v string\">code</span></span>    </li>\\\\n<details open><summary>outputs\\\\n</summary>      <ul>\\\\n<details open><summary>0\\\\n</summary>          <ul>\\\\n            <li>\\\\n<span><span class=\"n\">output_type</span>: <span class=\"v string\">display_data</span></span>            </li>\\\\n<details open><summary>data\\\\n</summary>              <ul>\\\\n                <li>\\\\n<span><span class=\"n\">text/plain</span>: <span class=\"v string\">&lt;IPython.core.display.HTML object&gt;</span></span>                </li>\\\\n                <li>\\\\n<span><span class=\"n\">text/html</span>: <span class=\"v string\">&lt;div&gt;I&#x27;m marked!... MAAARKED!!&lt;/div&gt;\\\\n&lt;brd-mark id=&quot;be9d4855bed807ddd02ae5e149336927&quot;&gt;&lt;/brd-mark&gt;</span></span>                </li>\\\\n              </ul>\\\\n</details>            <li>\\\\n<span><span class=\"n\">metadata</span>: <span class=\"v \">{&#x27;brd_did&#x27;: &#x27;be9d4855bed807ddd02ae5e149336927&#x27;}</span></span>            </li>\\\\n          </ul>\\\\n</details>      </ul>\\\\n</details>  </ul>\\\\n</details>\\',\\n        \\'text/markdown\\': \\'> code\\\\n\\\\n```json\\\\n{\\\\n  \\\\\\'idx\\\\\\': 5,\\\\n  \\\\\\'source\\\\\\': \\\\\\'dh = display(HTML(\"<div>I\\\\\\\\\\\\\\'m marked!... MAAARKED!!</div>\"), display_id=True)\\\\\\\\ncell = __nb__[__cellinfo__.cell_id]\\\\\\\\ntest_eq(at(cell, \\\\\\\\\\\\\\'outputs.0.metadata.brd_did\\\\\\\\\\\\\\'), brdd.dh.display_id)  # type: ignore\\\\\\\\ncell\\\\\\',\\\\n  \\\\\\'id\\\\\\': \\\\\\'Y134sZmlsZQ==\\\\\\',\\\\n  \\\\\\'cell_type\\\\\\': \\\\\\'code\\\\\\',\\\\n  \\\\\\'outputs\\\\\\': [\\\\n    {\\\\n      \\\\\\'output_type\\\\\\': \\\\\\'display_data\\\\\\',\\\\n      \\\\\\'data\\\\\\': {\\\\n        \\\\\\'text/plain\\\\\\': \\\\\\'<IPython.core.display.HTML object>\\\\\\',\\\\n        \\\\\\'text/html\\\\\\': \\\\\\'<div>I\\\\\\\\\\\\\\'m marked!... MAAARKED!!</div>\\\\\\\\n<brd-mark id=\"be9d4855bed807ddd02ae5e149336927\"></brd-mark>\\\\\\'\\\\n      },\\\\n      \\\\\\'metadata\\\\\\': {\\\\\\'brd_did\\\\\\': \\\\\\'be9d4855bed807ddd02ae5e149336927\\\\\\'}\\\\n    }\\\\n  ]\\\\n}\\\\n```\\'\\n      },\\n      \\'metadata\\': {}\\n    }\\n  ],\\n  \\'execution_count\\': 55\\n}\\n```'},\n",
       "   'metadata': {}}],\n",
       " 'execution_count': 56}"
      ]
     },
     "metadata": {},
     "output_type": "display_data"
    },
    {
     "data": {
      "text/html": [
       "<style>details ul { list-style-type:none; list-style-position: outside; padding-inline-start: 22px; margin: 0; } details .string { color: #24837b; } details .string::before { content: \"'\"; } details .string::after { content: \"'\"; } details .number { color: #ad8301; } details .true { color: blue; } details .false { color: red; } details .null { color: gray; } span.n { color: darkgrey; } </style>\n",
       "<details open><summary>NBCell@7\n",
       "</summary>  <ul>\n",
       "    <li>\n",
       "<span><span class=\"n\">idx</span>: <span class=\"v number\">7</span></span>    </li>\n",
       "    <li>\n",
       "<span><span class=\"n\">source</span>: <span class=\"v string\">display(&#x27;aaaa&#x27;, display_id=new_id());</span></span>    </li>\n",
       "    <li>\n",
       "<span><span class=\"n\">id</span>: <span class=\"v string\">Y142sZmlsZQ==</span></span>    </li>\n",
       "    <li>\n",
       "<span><span class=\"n\">cell_type</span>: <span class=\"v string\">code</span></span>    </li>\n",
       "<details open><summary>outputs\n",
       "</summary>      <ul>\n",
       "<details open><summary>0\n",
       "</summary>          <ul>\n",
       "            <li>\n",
       "<span><span class=\"n\">output_type</span>: <span class=\"v string\">display_data</span></span>            </li>\n",
       "<details open><summary>data\n",
       "</summary>              <ul>\n",
       "                <li>\n",
       "<span><span class=\"n\">text/html</span>: <span class=\"v string\">bbbb\n",
       "&lt;brd-mark id=&quot;b203a95f6-d322bc7e-cb8f7d5b-959e6e10&quot;&gt;&lt;/brd-mark&gt;</span></span>                </li>\n",
       "              </ul>\n",
       "</details>            <li>\n",
       "<span><span class=\"n\">metadata</span>: <span class=\"v \">{&#x27;brd_did&#x27;: &#x27;b203a95f6-d322bc7e-cb8f7d5b-959e6e10&#x27;}</span></span>            </li>\n",
       "          </ul>\n",
       "</details>      </ul>\n",
       "</details>    <li>\n",
       "<span><span class=\"n\">execution_count</span>: <span class=\"v number\">57</span></span>    </li>\n",
       "  </ul>\n",
       "</details>"
      ],
      "text/markdown": [
       "> code\n",
       "\n",
       "```json\n",
       "{\n",
       "  'idx': 7,\n",
       "  'source': \"display('aaaa', display_id=new_id());\",\n",
       "  'id': 'Y142sZmlsZQ==',\n",
       "  'cell_type': 'code',\n",
       "  'outputs': [\n",
       "    {\n",
       "      'output_type': 'display_data',\n",
       "      'data': {'text/html': 'bbbb\\n<brd-mark id=\"b203a95f6-d322bc7e-cb8f7d5b-959e6e10\"></brd-mark>'},\n",
       "      'metadata': {'brd_did': 'b203a95f6-d322bc7e-cb8f7d5b-959e6e10'}\n",
       "    }\n",
       "  ],\n",
       "  'execution_count': 57\n",
       "}\n",
       "```"
      ],
      "text/plain": [
       "{'idx': 7,\n",
       " 'source': \"display('aaaa', display_id=new_id());\",\n",
       " 'id': 'Y142sZmlsZQ==',\n",
       " 'cell_type': 'code',\n",
       " 'outputs': [{'output_type': 'display_data',\n",
       "   'data': {'text/html': 'bbbb\\n<brd-mark id=\"b203a95f6-d322bc7e-cb8f7d5b-959e6e10\"></brd-mark>'},\n",
       "   'metadata': {'brd_did': 'b203a95f6-d322bc7e-cb8f7d5b-959e6e10'}}],\n",
       " 'execution_count': 57}"
      ]
     },
     "metadata": {},
     "output_type": "display_data"
    },
    {
     "data": {
      "text/html": [
       "<style>details ul { list-style-type:none; list-style-position: outside; padding-inline-start: 22px; margin: 0; } details .string { color: #24837b; } details .string::before { content: \"'\"; } details .string::after { content: \"'\"; } details .number { color: #ad8301; } details .true { color: blue; } details .false { color: red; } details .null { color: gray; } span.n { color: darkgrey; } </style>\n",
       "<details open><summary>NBCell@8\n",
       "</summary>  <ul>\n",
       "    <li>\n",
       "<span><span class=\"n\">idx</span>: <span class=\"v number\">8</span></span>    </li>\n",
       "    <li>\n",
       "<span><span class=\"n\">source</span>: <span class=\"v string\">brdd.dh.update(HTML(&quot;bbbb&quot;))  # type: ignore</span></span>    </li>\n",
       "    <li>\n",
       "<span><span class=\"n\">id</span>: <span class=\"v string\">Y143sZmlsZQ==</span></span>    </li>\n",
       "    <li>\n",
       "<span><span class=\"n\">cell_type</span>: <span class=\"v string\">code</span></span>    </li>\n",
       "<details open><summary>outputs\n",
       "</summary>      <ul></ul>\n",
       "</details>    <li>\n",
       "<span><span class=\"n\">execution_count</span>: <span class=\"v number\">58</span></span>    </li>\n",
       "  </ul>\n",
       "</details>"
      ],
      "text/markdown": [
       "> code\n",
       "\n",
       "```json\n",
       "{\n",
       "  'idx': 8,\n",
       "  'source': 'brdd.dh.update(HTML(\"bbbb\"))  # type: ignore',\n",
       "  'id': 'Y143sZmlsZQ==',\n",
       "  'cell_type': 'code',\n",
       "  'outputs': [],\n",
       "  'execution_count': 58\n",
       "}\n",
       "```"
      ],
      "text/plain": [
       "{'idx': 8,\n",
       " 'source': 'brdd.dh.update(HTML(\"bbbb\"))  # type: ignore',\n",
       " 'id': 'Y143sZmlsZQ==',\n",
       " 'cell_type': 'code',\n",
       " 'outputs': [],\n",
       " 'execution_count': 58}"
      ]
     },
     "metadata": {},
     "output_type": "display_data"
    },
    {
     "data": {
      "text/html": [
       "<style>details ul { list-style-type:none; list-style-position: outside; padding-inline-start: 22px; margin: 0; } details .string { color: #24837b; } details .string::before { content: \"'\"; } details .string::after { content: \"'\"; } details .number { color: #ad8301; } details .true { color: blue; } details .false { color: red; } details .null { color: gray; } span.n { color: darkgrey; } </style>\n",
       "<details open><summary>NBCell@9\n",
       "</summary>  <ul>\n",
       "    <li>\n",
       "<span><span class=\"n\">idx</span>: <span class=\"v number\">9</span></span>    </li>\n",
       "    <li>\n",
       "<span><span class=\"n\">source</span>: <span class=\"v string\">display(&#x27;cccc&#x27;, metadata={&#x27;bridge&#x27;: {&#x27;brd_did&#x27;: new_id()}})</span></span>    </li>\n",
       "    <li>\n",
       "<span><span class=\"n\">id</span>: <span class=\"v string\">Y144sZmlsZQ==</span></span>    </li>\n",
       "    <li>\n",
       "<span><span class=\"n\">cell_type</span>: <span class=\"v string\">code</span></span>    </li>\n",
       "<details open><summary>outputs\n",
       "</summary>      <ul>\n",
       "<details open><summary>0\n",
       "</summary>          <ul>\n",
       "            <li>\n",
       "<span><span class=\"n\">output_type</span>: <span class=\"v string\">display_data</span></span>            </li>\n",
       "<details open><summary>data\n",
       "</summary>              <ul>\n",
       "                <li>\n",
       "<span><span class=\"n\">text/html</span>: <span class=\"v string\">dddd\n",
       "&lt;brd-mark id=&quot;bfe2deea5-aaab6ed1-7ba20699-ae3cc6ec&quot;&gt;&lt;/brd-mark&gt;</span></span>                </li>\n",
       "              </ul>\n",
       "</details>            <li>\n",
       "<span><span class=\"n\">metadata</span>: <span class=\"v \">{&#x27;brd_did&#x27;: &#x27;bfe2deea5-aaab6ed1-7ba20699-ae3cc6ec&#x27;}</span></span>            </li>\n",
       "          </ul>\n",
       "</details>      </ul>\n",
       "</details>    <li>\n",
       "<span><span class=\"n\">execution_count</span>: <span class=\"v number\">59</span></span>    </li>\n",
       "  </ul>\n",
       "</details>"
      ],
      "text/markdown": [
       "> code\n",
       "\n",
       "```json\n",
       "{\n",
       "  'idx': 9,\n",
       "  'source': \"display('cccc', metadata={'bridge': {'brd_did': new_id()}})\",\n",
       "  'id': 'Y144sZmlsZQ==',\n",
       "  'cell_type': 'code',\n",
       "  'outputs': [\n",
       "    {\n",
       "      'output_type': 'display_data',\n",
       "      'data': {'text/html': 'dddd\\n<brd-mark id=\"bfe2deea5-aaab6ed1-7ba20699-ae3cc6ec\"></brd-mark>'},\n",
       "      'metadata': {'brd_did': 'bfe2deea5-aaab6ed1-7ba20699-ae3cc6ec'}\n",
       "    }\n",
       "  ],\n",
       "  'execution_count': 59\n",
       "}\n",
       "```"
      ],
      "text/plain": [
       "{'idx': 9,\n",
       " 'source': \"display('cccc', metadata={'bridge': {'brd_did': new_id()}})\",\n",
       " 'id': 'Y144sZmlsZQ==',\n",
       " 'cell_type': 'code',\n",
       " 'outputs': [{'output_type': 'display_data',\n",
       "   'data': {'text/html': 'dddd\\n<brd-mark id=\"bfe2deea5-aaab6ed1-7ba20699-ae3cc6ec\"></brd-mark>'},\n",
       "   'metadata': {'brd_did': 'bfe2deea5-aaab6ed1-7ba20699-ae3cc6ec'}}],\n",
       " 'execution_count': 59}"
      ]
     },
     "metadata": {},
     "output_type": "display_data"
    },
    {
     "data": {
      "text/html": [
       "<style>details ul { list-style-type:none; list-style-position: outside; padding-inline-start: 22px; margin: 0; } details .string { color: #24837b; } details .string::before { content: \"'\"; } details .string::after { content: \"'\"; } details .number { color: #ad8301; } details .true { color: blue; } details .false { color: red; } details .null { color: gray; } span.n { color: darkgrey; } </style>\n",
       "<details open><summary>NBCell@10\n",
       "</summary>  <ul>\n",
       "    <li>\n",
       "<span><span class=\"n\">idx</span>: <span class=\"v number\">10</span></span>    </li>\n",
       "    <li>\n",
       "<span><span class=\"n\">source</span>: <span class=\"v string\">brdd.dh.update(HTML(&quot;dddd&quot;))  # type: ignore</span></span>    </li>\n",
       "    <li>\n",
       "<span><span class=\"n\">id</span>: <span class=\"v string\">Y145sZmlsZQ==</span></span>    </li>\n",
       "    <li>\n",
       "<span><span class=\"n\">cell_type</span>: <span class=\"v string\">code</span></span>    </li>\n",
       "<details open><summary>outputs\n",
       "</summary>      <ul></ul>\n",
       "</details>    <li>\n",
       "<span><span class=\"n\">execution_count</span>: <span class=\"v number\">60</span></span>    </li>\n",
       "  </ul>\n",
       "</details>"
      ],
      "text/markdown": [
       "> code\n",
       "\n",
       "```json\n",
       "{\n",
       "  'idx': 10,\n",
       "  'source': 'brdd.dh.update(HTML(\"dddd\"))  # type: ignore',\n",
       "  'id': 'Y145sZmlsZQ==',\n",
       "  'cell_type': 'code',\n",
       "  'outputs': [],\n",
       "  'execution_count': 60\n",
       "}\n",
       "```"
      ],
      "text/plain": [
       "{'idx': 10,\n",
       " 'source': 'brdd.dh.update(HTML(\"dddd\"))  # type: ignore',\n",
       " 'id': 'Y145sZmlsZQ==',\n",
       " 'cell_type': 'code',\n",
       " 'outputs': [],\n",
       " 'execution_count': 60}"
      ]
     },
     "metadata": {},
     "output_type": "display_data"
    },
    {
     "data": {
      "text/html": [
       "<style>details ul { list-style-type:none; list-style-position: outside; padding-inline-start: 22px; margin: 0; } details .string { color: #24837b; } details .string::before { content: \"'\"; } details .string::after { content: \"'\"; } details .number { color: #ad8301; } details .true { color: blue; } details .false { color: red; } details .null { color: gray; } span.n { color: darkgrey; } </style>\n",
       "<details open><summary>NBCell@11\n",
       "</summary>  <ul>\n",
       "    <li>\n",
       "<span><span class=\"n\">idx</span>: <span class=\"v number\">11</span></span>    </li>\n",
       "    <li>\n",
       "<span><span class=\"n\">source</span>: <span class=\"v string\">display(&#x27;eeee&#x27;, metadata={&#x27;test/plain&#x27;: {&#x27;brd_did&#x27;: new_id()}})\n",
       "test_eq(__nb__[__cellinfo__.cell_id].outputs[0].data[&#x27;text/plain&#x27;], &quot;&#x27;eeee&#x27;&quot;…</span></span>    </li>\n",
       "    <li>\n",
       "<span><span class=\"n\">id</span>: <span class=\"v string\">Y146sZmlsZQ==</span></span>    </li>\n",
       "    <li>\n",
       "<span><span class=\"n\">cell_type</span>: <span class=\"v string\">code</span></span>    </li>\n",
       "<details open><summary>outputs\n",
       "</summary>      <ul>\n",
       "<details open><summary>0\n",
       "</summary>          <ul>\n",
       "            <li>\n",
       "<span><span class=\"n\">output_type</span>: <span class=\"v string\">display_data</span></span>            </li>\n",
       "<details open><summary>data\n",
       "</summary>              <ul>\n",
       "                <li>\n",
       "<span><span class=\"n\">text/markdown</span>: <span class=\"v string\">ffff</span></span>                </li>\n",
       "              </ul>\n",
       "</details>            <li>\n",
       "<span><span class=\"n\">metadata</span>: <span class=\"v \">{&#x27;brd_did&#x27;: &#x27;b68b05da9-05bc1bb5-8b5dcb42-a7b6a74e&#x27;}</span></span>            </li>\n",
       "          </ul>\n",
       "</details>      </ul>\n",
       "</details>    <li>\n",
       "<span><span class=\"n\">execution_count</span>: <span class=\"v number\">61</span></span>    </li>\n",
       "  </ul>\n",
       "</details>"
      ],
      "text/markdown": [
       "> code\n",
       "\n",
       "```json\n",
       "{\n",
       "  'idx': 11,\n",
       "  'source': 'display(\\'eeee\\', metadata={\\'test/plain\\': {\\'brd_did\\': new_id()}})\\ntest_eq(__nb__[__cellinfo__.cell_id].outputs[0].data[\\'text/plain\\'], \"\\'eeee\\'\")',\n",
       "  'id': 'Y146sZmlsZQ==',\n",
       "  'cell_type': 'code',\n",
       "  'outputs': [\n",
       "    {\n",
       "      'output_type': 'display_data',\n",
       "      'data': {'text/markdown': 'ffff'},\n",
       "      'metadata': {'brd_did': 'b68b05da9-05bc1bb5-8b5dcb42-a7b6a74e'}\n",
       "    }\n",
       "  ],\n",
       "  'execution_count': 61\n",
       "}\n",
       "```"
      ],
      "text/plain": [
       "{'idx': 11,\n",
       " 'source': 'display(\\'eeee\\', metadata={\\'test/plain\\': {\\'brd_did\\': new_id()}})\\ntest_eq(__nb__[__cellinfo__.cell_id].outputs[0].data[\\'text/plain\\'], \"\\'eeee\\'\")',\n",
       " 'id': 'Y146sZmlsZQ==',\n",
       " 'cell_type': 'code',\n",
       " 'outputs': [{'output_type': 'display_data',\n",
       "   'data': {'text/markdown': 'ffff'},\n",
       "   'metadata': {'brd_did': 'b68b05da9-05bc1bb5-8b5dcb42-a7b6a74e'}}],\n",
       " 'execution_count': 61}"
      ]
     },
     "metadata": {},
     "output_type": "display_data"
    },
    {
     "data": {
      "text/html": [
       "<style>details ul { list-style-type:none; list-style-position: outside; padding-inline-start: 22px; margin: 0; } details .string { color: #24837b; } details .string::before { content: \"'\"; } details .string::after { content: \"'\"; } details .number { color: #ad8301; } details .true { color: blue; } details .false { color: red; } details .null { color: gray; } span.n { color: darkgrey; } </style>\n",
       "<details open><summary>NBCell@12\n",
       "</summary>  <ul>\n",
       "    <li>\n",
       "<span><span class=\"n\">idx</span>: <span class=\"v number\">12</span></span>    </li>\n",
       "    <li>\n",
       "<span><span class=\"n\">source</span>: <span class=\"v string\">brdd.dh.update(Markdown(&quot;ffff&quot;))  # type: ignore\n",
       "test_eq(__nb__[__cellinfo__.cell_id].outputs, [])</span></span>    </li>\n",
       "    <li>\n",
       "<span><span class=\"n\">id</span>: <span class=\"v string\">Y150sZmlsZQ==</span></span>    </li>\n",
       "    <li>\n",
       "<span><span class=\"n\">cell_type</span>: <span class=\"v string\">code</span></span>    </li>\n",
       "<details open><summary>outputs\n",
       "</summary>      <ul></ul>\n",
       "</details>    <li>\n",
       "<span><span class=\"n\">execution_count</span>: <span class=\"v number\">62</span></span>    </li>\n",
       "  </ul>\n",
       "</details>"
      ],
      "text/markdown": [
       "> code\n",
       "\n",
       "```json\n",
       "{\n",
       "  'idx': 12,\n",
       "  'source': 'brdd.dh.update(Markdown(\"ffff\"))  # type: ignore\\ntest_eq(__nb__[__cellinfo__.cell_id].outputs, [])',\n",
       "  'id': 'Y150sZmlsZQ==',\n",
       "  'cell_type': 'code',\n",
       "  'outputs': [],\n",
       "  'execution_count': 62\n",
       "}\n",
       "```"
      ],
      "text/plain": [
       "{'idx': 12,\n",
       " 'source': 'brdd.dh.update(Markdown(\"ffff\"))  # type: ignore\\ntest_eq(__nb__[__cellinfo__.cell_id].outputs, [])',\n",
       " 'id': 'Y150sZmlsZQ==',\n",
       " 'cell_type': 'code',\n",
       " 'outputs': [],\n",
       " 'execution_count': 62}"
      ]
     },
     "metadata": {},
     "output_type": "display_data"
    },
    {
     "data": {
      "text/html": [
       "<style>details ul { list-style-type:none; list-style-position: outside; padding-inline-start: 22px; margin: 0; } details .string { color: #24837b; } details .string::before { content: \"'\"; } details .string::after { content: \"'\"; } details .number { color: #ad8301; } details .true { color: blue; } details .false { color: red; } details .null { color: gray; } span.n { color: darkgrey; } </style>\n",
       "<details open><summary>NBCell@13\n",
       "</summary>  <ul>\n",
       "    <li>\n",
       "<span><span class=\"n\">idx</span>: <span class=\"v number\">13</span></span>    </li>\n",
       "    <li>\n",
       "<span><span class=\"n\">source</span>: <span class=\"v string\">dh = display(\n",
       "    HTML(&quot;&lt;div&gt;Multi 1&lt;/div&gt;&quot;), \n",
       "    HTML(&quot;&lt;div&gt;Multi 2&lt;/div&gt;&quot;), \n",
       "    display_id=True)</span></span>    </li>\n",
       "    <li>\n",
       "<span><span class=\"n\">id</span>: <span class=\"v string\">Y152sZmlsZQ==</span></span>    </li>\n",
       "    <li>\n",
       "<span><span class=\"n\">cell_type</span>: <span class=\"v string\">code</span></span>    </li>\n",
       "<details open><summary>outputs\n",
       "</summary>      <ul>\n",
       "<details open><summary>0\n",
       "</summary>          <ul>\n",
       "            <li>\n",
       "<span><span class=\"n\">output_type</span>: <span class=\"v string\">display_data</span></span>            </li>\n",
       "<details open><summary>data\n",
       "</summary>              <ul>\n",
       "                <li>\n",
       "<span><span class=\"n\">text/html</span>: <span class=\"v string\">&lt;div&gt;Multi 1&lt;/div&gt;\n",
       "&lt;brd-mark id=&quot;b92df9aa3809c17686a9de1c127b316b&quot;&gt;&lt;/brd-mark&gt;</span></span>                </li>\n",
       "              </ul>\n",
       "</details>            <li>\n",
       "<span><span class=\"n\">metadata</span>: <span class=\"v \">{&#x27;brd_did&#x27;: &#x27;b92df9aa3809c17686a9de1c127b316b&#x27;}</span></span>            </li>\n",
       "          </ul>\n",
       "</details><details open><summary>1\n",
       "</summary>          <ul>\n",
       "            <li>\n",
       "<span><span class=\"n\">output_type</span>: <span class=\"v string\">display_data</span></span>            </li>\n",
       "<details open><summary>data\n",
       "</summary>              <ul>\n",
       "                <li>\n",
       "<span><span class=\"n\">text/html</span>: <span class=\"v string\">&lt;div&gt;Multi 3&lt;/div&gt;\n",
       "&lt;brd-mark id=&quot;b92df9aa3809c17686a9de1c127b316b&quot;&gt;&lt;/brd-mark&gt;</span></span>                </li>\n",
       "              </ul>\n",
       "</details>            <li>\n",
       "<span><span class=\"n\">metadata</span>: <span class=\"v \">{&#x27;brd_did&#x27;: &#x27;b92df9aa3809c17686a9de1c127b316b&#x27;}</span></span>            </li>\n",
       "          </ul>\n",
       "</details>      </ul>\n",
       "</details>    <li>\n",
       "<span><span class=\"n\">execution_count</span>: <span class=\"v number\">63</span></span>    </li>\n",
       "  </ul>\n",
       "</details>"
      ],
      "text/markdown": [
       "> code\n",
       "\n",
       "```json\n",
       "{\n",
       "  'idx': 13,\n",
       "  'source': 'dh = display(\\n    HTML(\"<div>Multi 1</div>\"), \\n    HTML(\"<div>Multi 2</div>\"), \\n    display_id=True)',\n",
       "  'id': 'Y152sZmlsZQ==',\n",
       "  'cell_type': 'code',\n",
       "  'outputs': [\n",
       "    {\n",
       "      'output_type': 'display_data',\n",
       "      'data': {'text/html': '<div>Multi 1</div>\\n<brd-mark id=\"b92df9aa3809c17686a9de1c127b316b\"></brd-mark>'},\n",
       "      'metadata': {'brd_did': 'b92df9aa3809c17686a9de1c127b316b'}\n",
       "    },\n",
       "    {\n",
       "      'output_type': 'display_data',\n",
       "      'data': {'text/html': '<div>Multi 3</div>\\n<brd-mark id=\"b92df9aa3809c17686a9de1c127b316b\"></brd-mark>'},\n",
       "      'metadata': {'brd_did': 'b92df9aa3809c17686a9de1c127b316b'}\n",
       "    }\n",
       "  ],\n",
       "  'execution_count': 63\n",
       "}\n",
       "```"
      ],
      "text/plain": [
       "{'idx': 13,\n",
       " 'source': 'dh = display(\\n    HTML(\"<div>Multi 1</div>\"), \\n    HTML(\"<div>Multi 2</div>\"), \\n    display_id=True)',\n",
       " 'id': 'Y152sZmlsZQ==',\n",
       " 'cell_type': 'code',\n",
       " 'outputs': [{'output_type': 'display_data',\n",
       "   'data': {'text/html': '<div>Multi 1</div>\\n<brd-mark id=\"b92df9aa3809c17686a9de1c127b316b\"></brd-mark>'},\n",
       "   'metadata': {'brd_did': 'b92df9aa3809c17686a9de1c127b316b'}},\n",
       "  {'output_type': 'display_data',\n",
       "   'data': {'text/html': '<div>Multi 3</div>\\n<brd-mark id=\"b92df9aa3809c17686a9de1c127b316b\"></brd-mark>'},\n",
       "   'metadata': {'brd_did': 'b92df9aa3809c17686a9de1c127b316b'}}],\n",
       " 'execution_count': 63}"
      ]
     },
     "metadata": {},
     "output_type": "display_data"
    },
    {
     "data": {
      "text/html": [
       "<style>details ul { list-style-type:none; list-style-position: outside; padding-inline-start: 22px; margin: 0; } details .string { color: #24837b; } details .string::before { content: \"'\"; } details .string::after { content: \"'\"; } details .number { color: #ad8301; } details .true { color: blue; } details .false { color: red; } details .null { color: gray; } span.n { color: darkgrey; } </style>\n",
       "<details open><summary>NBCell@14\n",
       "</summary>  <ul>\n",
       "    <li>\n",
       "<span><span class=\"n\">idx</span>: <span class=\"v number\">14</span></span>    </li>\n",
       "    <li>\n",
       "<span><span class=\"n\">source</span>: <span class=\"v string\">(cell := __nb__[__lastcellinfo__.cell_id])</span></span>    </li>\n",
       "    <li>\n",
       "<span><span class=\"n\">id</span>: <span class=\"v string\">Y153sZmlsZQ==</span></span>    </li>\n",
       "    <li>\n",
       "<span><span class=\"n\">cell_type</span>: <span class=\"v string\">code</span></span>    </li>\n",
       "<details open><summary>outputs\n",
       "</summary>      <ul>\n",
       "<details open><summary>0\n",
       "</summary>          <ul>\n",
       "            <li>\n",
       "<span><span class=\"n\">output_type</span>: <span class=\"v string\">execute_result</span></span>            </li>\n",
       "            <li>\n",
       "<span><span class=\"n\">execution_count</span>: <span class=\"v number\">64</span></span>            </li>\n",
       "<details open><summary>data\n",
       "</summary>              <ul>\n",
       "                <li>\n",
       "<span><span class=\"n\">text/plain</span>: <span class=\"v string\">{&#x27;idx&#x27;: 13,\n",
       " &#x27;source&#x27;: &#x27;dh = display(\\n    HTML(&quot;&lt;div&gt;Multi 1&lt;/div&gt;&quot;), \\n    HTML(&quot;&lt;div&gt;Multi 2&lt;/div&gt;&quot;), \\n    display_id=True)&#x27;,\n",
       " &#x27;id&#x27;: &#x27;Y1…</span></span>                </li>\n",
       "                <li>\n",
       "<span><span class=\"n\">text/html</span>: <span class=\"v string\">&lt;style&gt;details ul { list-style-type:none; list-style-position: outside; padding-inline-start: 22px; margin: 0; } details .string { color: #2…</span></span>                </li>\n",
       "                <li>\n",
       "<span><span class=\"n\">text/markdown</span>: <span class=\"v string\">&gt; code\n",
       "\n",
       "```json\n",
       "{\n",
       "  &#x27;idx&#x27;: 13,\n",
       "  &#x27;source&#x27;: &#x27;dh = display(\\n    HTML(&quot;&lt;div&gt;Multi 1&lt;/div&gt;&quot;), \\n    HTML(&quot;&lt;div&gt;Multi 2&lt;/div&gt;&quot;), \\n    display_i…</span></span>                </li>\n",
       "              </ul>\n",
       "</details>            <li>\n",
       "<span><span class=\"n\">metadata</span>: <span class=\"v \">{}</span></span>            </li>\n",
       "          </ul>\n",
       "</details>      </ul>\n",
       "</details>    <li>\n",
       "<span><span class=\"n\">execution_count</span>: <span class=\"v number\">64</span></span>    </li>\n",
       "  </ul>\n",
       "</details>"
      ],
      "text/markdown": [
       "> code\n",
       "\n",
       "```json\n",
       "{\n",
       "  'idx': 14,\n",
       "  'source': '(cell := __nb__[__lastcellinfo__.cell_id])',\n",
       "  'id': 'Y153sZmlsZQ==',\n",
       "  'cell_type': 'code',\n",
       "  'outputs': [\n",
       "    {\n",
       "      'output_type': 'execute_result',\n",
       "      'execution_count': 64,\n",
       "      'data': {\n",
       "        'text/plain': '{\\'idx\\': 13,\\n \\'source\\': \\'dh = display(\\\\n    HTML(\"<div>Multi 1</div>\"), \\\\n    HTML(\"<div>Multi 2</div>\"), \\\\n    display_id=True)\\',\\n \\'id\\': \\'Y152sZmlsZQ==\\',\\n \\'cell_type\\': \\'code\\',\\n \\'outputs\\': [{\\'output_type\\': \\'display_data\\',\\n   \\'data\\': {\\'text/plain\\': \\'<IPython.core.display.HTML object>\\',\\n    \\'text/html\\': \\'<div>Multi 1</div>\\\\n<brd-mark id=\"b92df9aa3809c17686a9de1c127b316b\"></brd-mark>\\'},\\n   \\'metadata\\': {\\'brd_did\\': \\'b92df9aa3809c17686a9de1c127b316b\\'}},\\n  {\\'output_type\\': \\'display_data\\',\\n   \\'data\\': {\\'text/plain\\': \\'<IPython.core.display.HTML object>\\',\\n    \\'text/html\\': \\'<div>Multi 2</div>\\\\n<brd-mark id=\"b92df9aa3809c17686a9de1c127b316b\"></brd-mark>\\'},\\n   \\'metadata\\': {\\'brd_did\\': \\'b92df9aa3809c17686a9de1c127b316b\\'}}],\\n \\'execution_count\\': 63}',\n",
       "        'text/html': '<style>details ul { list-style-type:none; list-style-position: outside; padding-inline-start: 22px; margin: 0; } details .string { color: #24837b; } details .string::before { content: \"\\'\"; } details .string::after { content: \"\\'\"; } details .number { color: #ad8301; } details .true { color: blue; } details .false { color: red; } details .null { color: gray; } span.n { color: darkgrey; } </style>\\n<details open><summary>NBCell@13\\n</summary>  <ul>\\n    <li>\\n<span><span class=\"n\">idx</span>: <span class=\"v number\">13</span></span>    </li>\\n    <li>\\n<span><span class=\"n\">source</span>: <span class=\"v string\">dh = display(\\n    HTML(&quot;&lt;div&gt;Multi 1&lt;/div&gt;&quot;), \\n    HTML(&quot;&lt;div&gt;Multi 2&lt;/div&gt;&quot;), \\n    display_id=True)</span></span>    </li>\\n    <li>\\n<span><span class=\"n\">id</span>: <span class=\"v string\">Y152sZmlsZQ==</span></span>    </li>\\n    <li>\\n<span><span class=\"n\">cell_type</span>: <span class=\"v string\">code</span></span>    </li>\\n<details open><summary>outputs\\n</summary>      <ul>\\n<details open><summary>0\\n</summary>          <ul>\\n            <li>\\n<span><span class=\"n\">output_type</span>: <span class=\"v string\">display_data</span></span>            </li>\\n<details open><summary>data\\n</summary>              <ul>\\n                <li>\\n<span><span class=\"n\">text/plain</span>: <span class=\"v string\">&lt;IPython.core.display.HTML object&gt;</span></span>                </li>\\n                <li>\\n<span><span class=\"n\">text/html</span>: <span class=\"v string\">&lt;div&gt;Multi 1&lt;/div&gt;\\n&lt;brd-mark id=&quot;b92df9aa3809c17686a9de1c127b316b&quot;&gt;&lt;/brd-mark&gt;</span></span>                </li>\\n              </ul>\\n</details>            <li>\\n<span><span class=\"n\">metadata</span>: <span class=\"v \">{&#x27;brd_did&#x27;: &#x27;b92df9aa3809c17686a9de1c127b316b&#x27;}</span></span>            </li>\\n          </ul>\\n</details><details open><summary>1\\n</summary>          <ul>\\n            <li>\\n<span><span class=\"n\">output_type</span>: <span class=\"v string\">display_data</span></span>            </li>\\n<details open><summary>data\\n</summary>              <ul>\\n                <li>\\n<span><span class=\"n\">text/plain</span>: <span class=\"v string\">&lt;IPython.core.display.HTML object&gt;</span></span>                </li>\\n                <li>\\n<span><span class=\"n\">text/html</span>: <span class=\"v string\">&lt;div&gt;Multi 2&lt;/div&gt;\\n&lt;brd-mark id=&quot;b92df9aa3809c17686a9de1c127b316b&quot;&gt;&lt;/brd-mark&gt;</span></span>                </li>\\n              </ul>\\n</details>            <li>\\n<span><span class=\"n\">metadata</span>: <span class=\"v \">{&#x27;brd_did&#x27;: &#x27;b92df9aa3809c17686a9de1c127b316b&#x27;}</span></span>            </li>\\n          </ul>\\n</details>      </ul>\\n</details>    <li>\\n<span><span class=\"n\">execution_count</span>: <span class=\"v number\">63</span></span>    </li>\\n  </ul>\\n</details>',\n",
       "        'text/markdown': '> code\\n\\n```json\\n{\\n  \\'idx\\': 13,\\n  \\'source\\': \\'dh = display(\\\\n    HTML(\"<div>Multi 1</div>\"), \\\\n    HTML(\"<div>Multi 2</div>\"), \\\\n    display_id=True)\\',\\n  \\'id\\': \\'Y152sZmlsZQ==\\',\\n  \\'cell_type\\': \\'code\\',\\n  \\'outputs\\': [\\n    {\\n      \\'output_type\\': \\'display_data\\',\\n      \\'data\\': {\\n        \\'text/plain\\': \\'<IPython.core.display.HTML object>\\',\\n        \\'text/html\\': \\'<div>Multi 1</div>\\\\n<brd-mark id=\"b92df9aa3809c17686a9de1c127b316b\"></brd-mark>\\'\\n      },\\n      \\'metadata\\': {\\'brd_did\\': \\'b92df9aa3809c17686a9de1c127b316b\\'}\\n    },\\n    {\\n      \\'output_type\\': \\'display_data\\',\\n      \\'data\\': {\\n        \\'text/plain\\': \\'<IPython.core.display.HTML object>\\',\\n        \\'text/html\\': \\'<div>Multi 2</div>\\\\n<brd-mark id=\"b92df9aa3809c17686a9de1c127b316b\"></brd-mark>\\'\\n      },\\n      \\'metadata\\': {\\'brd_did\\': \\'b92df9aa3809c17686a9de1c127b316b\\'}\\n    }\\n  ],\\n  \\'execution_count\\': 63\\n}\\n```'\n",
       "      },\n",
       "      'metadata': {}\n",
       "    }\n",
       "  ],\n",
       "  'execution_count': 64\n",
       "}\n",
       "```"
      ],
      "text/plain": [
       "{'idx': 14,\n",
       " 'source': '(cell := __nb__[__lastcellinfo__.cell_id])',\n",
       " 'id': 'Y153sZmlsZQ==',\n",
       " 'cell_type': 'code',\n",
       " 'outputs': [{'output_type': 'execute_result',\n",
       "   'execution_count': 64,\n",
       "   'data': {'text/plain': '{\\'idx\\': 13,\\n \\'source\\': \\'dh = display(\\\\n    HTML(\"<div>Multi 1</div>\"), \\\\n    HTML(\"<div>Multi 2</div>\"), \\\\n    display_id=True)\\',\\n \\'id\\': \\'Y152sZmlsZQ==\\',\\n \\'cell_type\\': \\'code\\',\\n \\'outputs\\': [{\\'output_type\\': \\'display_data\\',\\n   \\'data\\': {\\'text/plain\\': \\'<IPython.core.display.HTML object>\\',\\n    \\'text/html\\': \\'<div>Multi 1</div>\\\\n<brd-mark id=\"b92df9aa3809c17686a9de1c127b316b\"></brd-mark>\\'},\\n   \\'metadata\\': {\\'brd_did\\': \\'b92df9aa3809c17686a9de1c127b316b\\'}},\\n  {\\'output_type\\': \\'display_data\\',\\n   \\'data\\': {\\'text/plain\\': \\'<IPython.core.display.HTML object>\\',\\n    \\'text/html\\': \\'<div>Multi 2</div>\\\\n<brd-mark id=\"b92df9aa3809c17686a9de1c127b316b\"></brd-mark>\\'},\\n   \\'metadata\\': {\\'brd_did\\': \\'b92df9aa3809c17686a9de1c127b316b\\'}}],\\n \\'execution_count\\': 63}',\n",
       "    'text/html': '<style>details ul { list-style-type:none; list-style-position: outside; padding-inline-start: 22px; margin: 0; } details .string { color: #24837b; } details .string::before { content: \"\\'\"; } details .string::after { content: \"\\'\"; } details .number { color: #ad8301; } details .true { color: blue; } details .false { color: red; } details .null { color: gray; } span.n { color: darkgrey; } </style>\\n<details open><summary>NBCell@13\\n</summary>  <ul>\\n    <li>\\n<span><span class=\"n\">idx</span>: <span class=\"v number\">13</span></span>    </li>\\n    <li>\\n<span><span class=\"n\">source</span>: <span class=\"v string\">dh = display(\\n    HTML(&quot;&lt;div&gt;Multi 1&lt;/div&gt;&quot;), \\n    HTML(&quot;&lt;div&gt;Multi 2&lt;/div&gt;&quot;), \\n    display_id=True)</span></span>    </li>\\n    <li>\\n<span><span class=\"n\">id</span>: <span class=\"v string\">Y152sZmlsZQ==</span></span>    </li>\\n    <li>\\n<span><span class=\"n\">cell_type</span>: <span class=\"v string\">code</span></span>    </li>\\n<details open><summary>outputs\\n</summary>      <ul>\\n<details open><summary>0\\n</summary>          <ul>\\n            <li>\\n<span><span class=\"n\">output_type</span>: <span class=\"v string\">display_data</span></span>            </li>\\n<details open><summary>data\\n</summary>              <ul>\\n                <li>\\n<span><span class=\"n\">text/plain</span>: <span class=\"v string\">&lt;IPython.core.display.HTML object&gt;</span></span>                </li>\\n                <li>\\n<span><span class=\"n\">text/html</span>: <span class=\"v string\">&lt;div&gt;Multi 1&lt;/div&gt;\\n&lt;brd-mark id=&quot;b92df9aa3809c17686a9de1c127b316b&quot;&gt;&lt;/brd-mark&gt;</span></span>                </li>\\n              </ul>\\n</details>            <li>\\n<span><span class=\"n\">metadata</span>: <span class=\"v \">{&#x27;brd_did&#x27;: &#x27;b92df9aa3809c17686a9de1c127b316b&#x27;}</span></span>            </li>\\n          </ul>\\n</details><details open><summary>1\\n</summary>          <ul>\\n            <li>\\n<span><span class=\"n\">output_type</span>: <span class=\"v string\">display_data</span></span>            </li>\\n<details open><summary>data\\n</summary>              <ul>\\n                <li>\\n<span><span class=\"n\">text/plain</span>: <span class=\"v string\">&lt;IPython.core.display.HTML object&gt;</span></span>                </li>\\n                <li>\\n<span><span class=\"n\">text/html</span>: <span class=\"v string\">&lt;div&gt;Multi 2&lt;/div&gt;\\n&lt;brd-mark id=&quot;b92df9aa3809c17686a9de1c127b316b&quot;&gt;&lt;/brd-mark&gt;</span></span>                </li>\\n              </ul>\\n</details>            <li>\\n<span><span class=\"n\">metadata</span>: <span class=\"v \">{&#x27;brd_did&#x27;: &#x27;b92df9aa3809c17686a9de1c127b316b&#x27;}</span></span>            </li>\\n          </ul>\\n</details>      </ul>\\n</details>    <li>\\n<span><span class=\"n\">execution_count</span>: <span class=\"v number\">63</span></span>    </li>\\n  </ul>\\n</details>',\n",
       "    'text/markdown': '> code\\n\\n```json\\n{\\n  \\'idx\\': 13,\\n  \\'source\\': \\'dh = display(\\\\n    HTML(\"<div>Multi 1</div>\"), \\\\n    HTML(\"<div>Multi 2</div>\"), \\\\n    display_id=True)\\',\\n  \\'id\\': \\'Y152sZmlsZQ==\\',\\n  \\'cell_type\\': \\'code\\',\\n  \\'outputs\\': [\\n    {\\n      \\'output_type\\': \\'display_data\\',\\n      \\'data\\': {\\n        \\'text/plain\\': \\'<IPython.core.display.HTML object>\\',\\n        \\'text/html\\': \\'<div>Multi 1</div>\\\\n<brd-mark id=\"b92df9aa3809c17686a9de1c127b316b\"></brd-mark>\\'\\n      },\\n      \\'metadata\\': {\\'brd_did\\': \\'b92df9aa3809c17686a9de1c127b316b\\'}\\n    },\\n    {\\n      \\'output_type\\': \\'display_data\\',\\n      \\'data\\': {\\n        \\'text/plain\\': \\'<IPython.core.display.HTML object>\\',\\n        \\'text/html\\': \\'<div>Multi 2</div>\\\\n<brd-mark id=\"b92df9aa3809c17686a9de1c127b316b\"></brd-mark>\\'\\n      },\\n      \\'metadata\\': {\\'brd_did\\': \\'b92df9aa3809c17686a9de1c127b316b\\'}\\n    }\\n  ],\\n  \\'execution_count\\': 63\\n}\\n```'},\n",
       "   'metadata': {}}],\n",
       " 'execution_count': 64}"
      ]
     },
     "metadata": {},
     "output_type": "display_data"
    },
    {
     "data": {
      "text/html": [
       "<style>details ul { list-style-type:none; list-style-position: outside; padding-inline-start: 22px; margin: 0; } details .string { color: #24837b; } details .string::before { content: \"'\"; } details .string::after { content: \"'\"; } details .number { color: #ad8301; } details .true { color: blue; } details .false { color: red; } details .null { color: gray; } span.n { color: darkgrey; } </style>\n",
       "<details open><summary>NBCell@15\n",
       "</summary>  <ul>\n",
       "    <li>\n",
       "<span><span class=\"n\">idx</span>: <span class=\"v number\">15</span></span>    </li>\n",
       "    <li>\n",
       "<span><span class=\"n\">source</span>: <span class=\"v string\">if dh: dh.update(HTML(&quot;&lt;div&gt;Multi 3&lt;/div&gt;&quot;))\n",
       "cell</span></span>    </li>\n",
       "    <li>\n",
       "<span><span class=\"n\">id</span>: <span class=\"v string\">Y154sZmlsZQ==</span></span>    </li>\n",
       "    <li>\n",
       "<span><span class=\"n\">cell_type</span>: <span class=\"v string\">code</span></span>    </li>\n",
       "<details open><summary>outputs\n",
       "</summary>      <ul>\n",
       "<details open><summary>0\n",
       "</summary>          <ul>\n",
       "            <li>\n",
       "<span><span class=\"n\">output_type</span>: <span class=\"v string\">execute_result</span></span>            </li>\n",
       "            <li>\n",
       "<span><span class=\"n\">execution_count</span>: <span class=\"v number\">65</span></span>            </li>\n",
       "<details open><summary>data\n",
       "</summary>              <ul>\n",
       "                <li>\n",
       "<span><span class=\"n\">text/plain</span>: <span class=\"v string\">{&#x27;idx&#x27;: 13,\n",
       " &#x27;source&#x27;: &#x27;dh = display(\\n    HTML(&quot;&lt;div&gt;Multi 1&lt;/div&gt;&quot;), \\n    HTML(&quot;&lt;div&gt;Multi 2&lt;/div&gt;&quot;), \\n    display_id=True)&#x27;,\n",
       " &#x27;id&#x27;: &#x27;Y1…</span></span>                </li>\n",
       "                <li>\n",
       "<span><span class=\"n\">text/html</span>: <span class=\"v string\">&lt;style&gt;details ul { list-style-type:none; list-style-position: outside; padding-inline-start: 22px; margin: 0; } details .string { color: #2…</span></span>                </li>\n",
       "                <li>\n",
       "<span><span class=\"n\">text/markdown</span>: <span class=\"v string\">&gt; code\n",
       "\n",
       "```json\n",
       "{\n",
       "  &#x27;idx&#x27;: 13,\n",
       "  &#x27;source&#x27;: &#x27;dh = display(\\n    HTML(&quot;&lt;div&gt;Multi 1&lt;/div&gt;&quot;), \\n    HTML(&quot;&lt;div&gt;Multi 2&lt;/div&gt;&quot;), \\n    display_i…</span></span>                </li>\n",
       "              </ul>\n",
       "</details>            <li>\n",
       "<span><span class=\"n\">metadata</span>: <span class=\"v \">{}</span></span>            </li>\n",
       "          </ul>\n",
       "</details>      </ul>\n",
       "</details>    <li>\n",
       "<span><span class=\"n\">execution_count</span>: <span class=\"v number\">65</span></span>    </li>\n",
       "  </ul>\n",
       "</details>"
      ],
      "text/markdown": [
       "> code\n",
       "\n",
       "```json\n",
       "{\n",
       "  'idx': 15,\n",
       "  'source': 'if dh: dh.update(HTML(\"<div>Multi 3</div>\"))\\ncell',\n",
       "  'id': 'Y154sZmlsZQ==',\n",
       "  'cell_type': 'code',\n",
       "  'outputs': [\n",
       "    {\n",
       "      'output_type': 'execute_result',\n",
       "      'execution_count': 65,\n",
       "      'data': {\n",
       "        'text/plain': '{\\'idx\\': 13,\\n \\'source\\': \\'dh = display(\\\\n    HTML(\"<div>Multi 1</div>\"), \\\\n    HTML(\"<div>Multi 2</div>\"), \\\\n    display_id=True)\\',\\n \\'id\\': \\'Y152sZmlsZQ==\\',\\n \\'cell_type\\': \\'code\\',\\n \\'outputs\\': [{\\'output_type\\': \\'display_data\\',\\n   \\'data\\': {\\'text/plain\\': \\'<IPython.core.display.HTML object>\\',\\n    \\'text/html\\': \\'<div>Multi 1</div>\\\\n<brd-mark id=\"b92df9aa3809c17686a9de1c127b316b\"></brd-mark>\\'},\\n   \\'metadata\\': {\\'brd_did\\': \\'b92df9aa3809c17686a9de1c127b316b\\'}},\\n  {\\'output_type\\': \\'display_data\\',\\n   \\'data\\': {\\'text/plain\\': \\'<IPython.core.display.HTML object>\\',\\n    \\'text/html\\': \\'<div>Multi 3</div>\\\\n<brd-mark id=\"b92df9aa3809c17686a9de1c127b316b\"></brd-mark>\\'},\\n   \\'metadata\\': {\\'brd_did\\': \\'b92df9aa3809c17686a9de1c127b316b\\'}}],\\n \\'execution_count\\': 63}',\n",
       "        'text/html': '<style>details ul { list-style-type:none; list-style-position: outside; padding-inline-start: 22px; margin: 0; } details .string { color: #24837b; } details .string::before { content: \"\\'\"; } details .string::after { content: \"\\'\"; } details .number { color: #ad8301; } details .true { color: blue; } details .false { color: red; } details .null { color: gray; } span.n { color: darkgrey; } </style>\\n<details open><summary>NBCell@13\\n</summary>  <ul>\\n    <li>\\n<span><span class=\"n\">idx</span>: <span class=\"v number\">13</span></span>    </li>\\n    <li>\\n<span><span class=\"n\">source</span>: <span class=\"v string\">dh = display(\\n    HTML(&quot;&lt;div&gt;Multi 1&lt;/div&gt;&quot;), \\n    HTML(&quot;&lt;div&gt;Multi 2&lt;/div&gt;&quot;), \\n    display_id=True)</span></span>    </li>\\n    <li>\\n<span><span class=\"n\">id</span>: <span class=\"v string\">Y152sZmlsZQ==</span></span>    </li>\\n    <li>\\n<span><span class=\"n\">cell_type</span>: <span class=\"v string\">code</span></span>    </li>\\n<details open><summary>outputs\\n</summary>      <ul>\\n<details open><summary>0\\n</summary>          <ul>\\n            <li>\\n<span><span class=\"n\">output_type</span>: <span class=\"v string\">display_data</span></span>            </li>\\n<details open><summary>data\\n</summary>              <ul>\\n                <li>\\n<span><span class=\"n\">text/plain</span>: <span class=\"v string\">&lt;IPython.core.display.HTML object&gt;</span></span>                </li>\\n                <li>\\n<span><span class=\"n\">text/html</span>: <span class=\"v string\">&lt;div&gt;Multi 1&lt;/div&gt;\\n&lt;brd-mark id=&quot;b92df9aa3809c17686a9de1c127b316b&quot;&gt;&lt;/brd-mark&gt;</span></span>                </li>\\n              </ul>\\n</details>            <li>\\n<span><span class=\"n\">metadata</span>: <span class=\"v \">{&#x27;brd_did&#x27;: &#x27;b92df9aa3809c17686a9de1c127b316b&#x27;}</span></span>            </li>\\n          </ul>\\n</details><details open><summary>1\\n</summary>          <ul>\\n            <li>\\n<span><span class=\"n\">output_type</span>: <span class=\"v string\">display_data</span></span>            </li>\\n<details open><summary>data\\n</summary>              <ul>\\n                <li>\\n<span><span class=\"n\">text/plain</span>: <span class=\"v string\">&lt;IPython.core.display.HTML object&gt;</span></span>                </li>\\n                <li>\\n<span><span class=\"n\">text/html</span>: <span class=\"v string\">&lt;div&gt;Multi 3&lt;/div&gt;\\n&lt;brd-mark id=&quot;b92df9aa3809c17686a9de1c127b316b&quot;&gt;&lt;/brd-mark&gt;</span></span>                </li>\\n              </ul>\\n</details>            <li>\\n<span><span class=\"n\">metadata</span>: <span class=\"v \">{&#x27;brd_did&#x27;: &#x27;b92df9aa3809c17686a9de1c127b316b&#x27;}</span></span>            </li>\\n          </ul>\\n</details>      </ul>\\n</details>    <li>\\n<span><span class=\"n\">execution_count</span>: <span class=\"v number\">63</span></span>    </li>\\n  </ul>\\n</details>',\n",
       "        'text/markdown': '> code\\n\\n```json\\n{\\n  \\'idx\\': 13,\\n  \\'source\\': \\'dh = display(\\\\n    HTML(\"<div>Multi 1</div>\"), \\\\n    HTML(\"<div>Multi 2</div>\"), \\\\n    display_id=True)\\',\\n  \\'id\\': \\'Y152sZmlsZQ==\\',\\n  \\'cell_type\\': \\'code\\',\\n  \\'outputs\\': [\\n    {\\n      \\'output_type\\': \\'display_data\\',\\n      \\'data\\': {\\n        \\'text/plain\\': \\'<IPython.core.display.HTML object>\\',\\n        \\'text/html\\': \\'<div>Multi 1</div>\\\\n<brd-mark id=\"b92df9aa3809c17686a9de1c127b316b\"></brd-mark>\\'\\n      },\\n      \\'metadata\\': {\\'brd_did\\': \\'b92df9aa3809c17686a9de1c127b316b\\'}\\n    },\\n    {\\n      \\'output_type\\': \\'display_data\\',\\n      \\'data\\': {\\n        \\'text/plain\\': \\'<IPython.core.display.HTML object>\\',\\n        \\'text/html\\': \\'<div>Multi 3</div>\\\\n<brd-mark id=\"b92df9aa3809c17686a9de1c127b316b\"></brd-mark>\\'\\n      },\\n      \\'metadata\\': {\\'brd_did\\': \\'b92df9aa3809c17686a9de1c127b316b\\'}\\n    }\\n  ],\\n  \\'execution_count\\': 63\\n}\\n```'\n",
       "      },\n",
       "      'metadata': {}\n",
       "    }\n",
       "  ],\n",
       "  'execution_count': 65\n",
       "}\n",
       "```"
      ],
      "text/plain": [
       "{'idx': 15,\n",
       " 'source': 'if dh: dh.update(HTML(\"<div>Multi 3</div>\"))\\ncell',\n",
       " 'id': 'Y154sZmlsZQ==',\n",
       " 'cell_type': 'code',\n",
       " 'outputs': [{'output_type': 'execute_result',\n",
       "   'execution_count': 65,\n",
       "   'data': {'text/plain': '{\\'idx\\': 13,\\n \\'source\\': \\'dh = display(\\\\n    HTML(\"<div>Multi 1</div>\"), \\\\n    HTML(\"<div>Multi 2</div>\"), \\\\n    display_id=True)\\',\\n \\'id\\': \\'Y152sZmlsZQ==\\',\\n \\'cell_type\\': \\'code\\',\\n \\'outputs\\': [{\\'output_type\\': \\'display_data\\',\\n   \\'data\\': {\\'text/plain\\': \\'<IPython.core.display.HTML object>\\',\\n    \\'text/html\\': \\'<div>Multi 1</div>\\\\n<brd-mark id=\"b92df9aa3809c17686a9de1c127b316b\"></brd-mark>\\'},\\n   \\'metadata\\': {\\'brd_did\\': \\'b92df9aa3809c17686a9de1c127b316b\\'}},\\n  {\\'output_type\\': \\'display_data\\',\\n   \\'data\\': {\\'text/plain\\': \\'<IPython.core.display.HTML object>\\',\\n    \\'text/html\\': \\'<div>Multi 3</div>\\\\n<brd-mark id=\"b92df9aa3809c17686a9de1c127b316b\"></brd-mark>\\'},\\n   \\'metadata\\': {\\'brd_did\\': \\'b92df9aa3809c17686a9de1c127b316b\\'}}],\\n \\'execution_count\\': 63}',\n",
       "    'text/html': '<style>details ul { list-style-type:none; list-style-position: outside; padding-inline-start: 22px; margin: 0; } details .string { color: #24837b; } details .string::before { content: \"\\'\"; } details .string::after { content: \"\\'\"; } details .number { color: #ad8301; } details .true { color: blue; } details .false { color: red; } details .null { color: gray; } span.n { color: darkgrey; } </style>\\n<details open><summary>NBCell@13\\n</summary>  <ul>\\n    <li>\\n<span><span class=\"n\">idx</span>: <span class=\"v number\">13</span></span>    </li>\\n    <li>\\n<span><span class=\"n\">source</span>: <span class=\"v string\">dh = display(\\n    HTML(&quot;&lt;div&gt;Multi 1&lt;/div&gt;&quot;), \\n    HTML(&quot;&lt;div&gt;Multi 2&lt;/div&gt;&quot;), \\n    display_id=True)</span></span>    </li>\\n    <li>\\n<span><span class=\"n\">id</span>: <span class=\"v string\">Y152sZmlsZQ==</span></span>    </li>\\n    <li>\\n<span><span class=\"n\">cell_type</span>: <span class=\"v string\">code</span></span>    </li>\\n<details open><summary>outputs\\n</summary>      <ul>\\n<details open><summary>0\\n</summary>          <ul>\\n            <li>\\n<span><span class=\"n\">output_type</span>: <span class=\"v string\">display_data</span></span>            </li>\\n<details open><summary>data\\n</summary>              <ul>\\n                <li>\\n<span><span class=\"n\">text/plain</span>: <span class=\"v string\">&lt;IPython.core.display.HTML object&gt;</span></span>                </li>\\n                <li>\\n<span><span class=\"n\">text/html</span>: <span class=\"v string\">&lt;div&gt;Multi 1&lt;/div&gt;\\n&lt;brd-mark id=&quot;b92df9aa3809c17686a9de1c127b316b&quot;&gt;&lt;/brd-mark&gt;</span></span>                </li>\\n              </ul>\\n</details>            <li>\\n<span><span class=\"n\">metadata</span>: <span class=\"v \">{&#x27;brd_did&#x27;: &#x27;b92df9aa3809c17686a9de1c127b316b&#x27;}</span></span>            </li>\\n          </ul>\\n</details><details open><summary>1\\n</summary>          <ul>\\n            <li>\\n<span><span class=\"n\">output_type</span>: <span class=\"v string\">display_data</span></span>            </li>\\n<details open><summary>data\\n</summary>              <ul>\\n                <li>\\n<span><span class=\"n\">text/plain</span>: <span class=\"v string\">&lt;IPython.core.display.HTML object&gt;</span></span>                </li>\\n                <li>\\n<span><span class=\"n\">text/html</span>: <span class=\"v string\">&lt;div&gt;Multi 3&lt;/div&gt;\\n&lt;brd-mark id=&quot;b92df9aa3809c17686a9de1c127b316b&quot;&gt;&lt;/brd-mark&gt;</span></span>                </li>\\n              </ul>\\n</details>            <li>\\n<span><span class=\"n\">metadata</span>: <span class=\"v \">{&#x27;brd_did&#x27;: &#x27;b92df9aa3809c17686a9de1c127b316b&#x27;}</span></span>            </li>\\n          </ul>\\n</details>      </ul>\\n</details>    <li>\\n<span><span class=\"n\">execution_count</span>: <span class=\"v number\">63</span></span>    </li>\\n  </ul>\\n</details>',\n",
       "    'text/markdown': '> code\\n\\n```json\\n{\\n  \\'idx\\': 13,\\n  \\'source\\': \\'dh = display(\\\\n    HTML(\"<div>Multi 1</div>\"), \\\\n    HTML(\"<div>Multi 2</div>\"), \\\\n    display_id=True)\\',\\n  \\'id\\': \\'Y152sZmlsZQ==\\',\\n  \\'cell_type\\': \\'code\\',\\n  \\'outputs\\': [\\n    {\\n      \\'output_type\\': \\'display_data\\',\\n      \\'data\\': {\\n        \\'text/plain\\': \\'<IPython.core.display.HTML object>\\',\\n        \\'text/html\\': \\'<div>Multi 1</div>\\\\n<brd-mark id=\"b92df9aa3809c17686a9de1c127b316b\"></brd-mark>\\'\\n      },\\n      \\'metadata\\': {\\'brd_did\\': \\'b92df9aa3809c17686a9de1c127b316b\\'}\\n    },\\n    {\\n      \\'output_type\\': \\'display_data\\',\\n      \\'data\\': {\\n        \\'text/plain\\': \\'<IPython.core.display.HTML object>\\',\\n        \\'text/html\\': \\'<div>Multi 3</div>\\\\n<brd-mark id=\"b92df9aa3809c17686a9de1c127b316b\"></brd-mark>\\'\\n      },\\n      \\'metadata\\': {\\'brd_did\\': \\'b92df9aa3809c17686a9de1c127b316b\\'}\\n    }\\n  ],\\n  \\'execution_count\\': 63\\n}\\n```'},\n",
       "   'metadata': {}}],\n",
       " 'execution_count': 65}"
      ]
     },
     "metadata": {},
     "output_type": "display_data"
    },
    {
     "data": {
      "text/html": [
       "<style>details ul { list-style-type:none; list-style-position: outside; padding-inline-start: 22px; margin: 0; } details .string { color: #24837b; } details .string::before { content: \"'\"; } details .string::after { content: \"'\"; } details .number { color: #ad8301; } details .true { color: blue; } details .false { color: red; } details .null { color: gray; } span.n { color: darkgrey; } </style>\n",
       "<details open><summary>NBCell@16\n",
       "</summary>  <ul>\n",
       "    <li>\n",
       "<span><span class=\"n\">idx</span>: <span class=\"v number\">16</span></span>    </li>\n",
       "    <li>\n",
       "<span><span class=\"n\">source</span>: <span class=\"v string\">display(\n",
       "    HTML(&quot;&lt;div&gt;Multi 1&lt;/div&gt;&quot;, metadata={&#x27;brd_did&#x27;: (did1 := new_id())}), \n",
       "    HTML(&quot;&lt;div&gt;Multi 2&lt;/div&gt;&quot;, metadata={&#x27;brd_did&#x27;: (did…</span></span>    </li>\n",
       "    <li>\n",
       "<span><span class=\"n\">id</span>: <span class=\"v string\">Y156sZmlsZQ==</span></span>    </li>\n",
       "    <li>\n",
       "<span><span class=\"n\">cell_type</span>: <span class=\"v string\">code</span></span>    </li>\n",
       "<details open><summary>outputs\n",
       "</summary>      <ul>\n",
       "<details open><summary>0\n",
       "</summary>          <ul>\n",
       "            <li>\n",
       "<span><span class=\"n\">output_type</span>: <span class=\"v string\">display_data</span></span>            </li>\n",
       "<details open><summary>data\n",
       "</summary>              <ul>\n",
       "                <li>\n",
       "<span><span class=\"n\">text/html</span>: <span class=\"v string\">&lt;div&gt;Multi 3&lt;/div&gt;\n",
       "&lt;brd-mark id=&quot;bfb039243-46c20c73-b9647f2a-5a7270e2&quot;&gt;&lt;/brd-mark&gt;</span></span>                </li>\n",
       "              </ul>\n",
       "</details>            <li>\n",
       "<span><span class=\"n\">metadata</span>: <span class=\"v \">{&#x27;brd_did&#x27;: &#x27;bfb039243-46c20c73-b9647f2a-5a7270e2&#x27;}</span></span>            </li>\n",
       "          </ul>\n",
       "</details><details open><summary>1\n",
       "</summary>          <ul>\n",
       "            <li>\n",
       "<span><span class=\"n\">output_type</span>: <span class=\"v string\">display_data</span></span>            </li>\n",
       "<details open><summary>data\n",
       "</summary>              <ul>\n",
       "                <li>\n",
       "<span><span class=\"n\">text/html</span>: <span class=\"v string\">&lt;div&gt;Multi 4&lt;/div&gt;\n",
       "&lt;brd-mark id=&quot;bffc68af4-f040d5fc-46a45475-5590da93&quot;&gt;&lt;/brd-mark&gt;</span></span>                </li>\n",
       "              </ul>\n",
       "</details>            <li>\n",
       "<span><span class=\"n\">metadata</span>: <span class=\"v \">{&#x27;brd_did&#x27;: &#x27;bffc68af4-f040d5fc-46a45475-5590da93&#x27;}</span></span>            </li>\n",
       "          </ul>\n",
       "</details>      </ul>\n",
       "</details>    <li>\n",
       "<span><span class=\"n\">execution_count</span>: <span class=\"v number\">66</span></span>    </li>\n",
       "  </ul>\n",
       "</details>"
      ],
      "text/markdown": [
       "> code\n",
       "\n",
       "```json\n",
       "{\n",
       "  'idx': 16,\n",
       "  'source': 'display(\\n    HTML(\"<div>Multi 1</div>\", metadata={\\'brd_did\\': (did1 := new_id())}), \\n    HTML(\"<div>Multi 2</div>\", metadata={\\'brd_did\\': (did2 := new_id())})\\n)',\n",
       "  'id': 'Y156sZmlsZQ==',\n",
       "  'cell_type': 'code',\n",
       "  'outputs': [\n",
       "    {\n",
       "      'output_type': 'display_data',\n",
       "      'data': {'text/html': '<div>Multi 3</div>\\n<brd-mark id=\"bfb039243-46c20c73-b9647f2a-5a7270e2\"></brd-mark>'},\n",
       "      'metadata': {'brd_did': 'bfb039243-46c20c73-b9647f2a-5a7270e2'}\n",
       "    },\n",
       "    {\n",
       "      'output_type': 'display_data',\n",
       "      'data': {'text/html': '<div>Multi 4</div>\\n<brd-mark id=\"bffc68af4-f040d5fc-46a45475-5590da93\"></brd-mark>'},\n",
       "      'metadata': {'brd_did': 'bffc68af4-f040d5fc-46a45475-5590da93'}\n",
       "    }\n",
       "  ],\n",
       "  'execution_count': 66\n",
       "}\n",
       "```"
      ],
      "text/plain": [
       "{'idx': 16,\n",
       " 'source': 'display(\\n    HTML(\"<div>Multi 1</div>\", metadata={\\'brd_did\\': (did1 := new_id())}), \\n    HTML(\"<div>Multi 2</div>\", metadata={\\'brd_did\\': (did2 := new_id())})\\n)',\n",
       " 'id': 'Y156sZmlsZQ==',\n",
       " 'cell_type': 'code',\n",
       " 'outputs': [{'output_type': 'display_data',\n",
       "   'data': {'text/html': '<div>Multi 3</div>\\n<brd-mark id=\"bfb039243-46c20c73-b9647f2a-5a7270e2\"></brd-mark>'},\n",
       "   'metadata': {'brd_did': 'bfb039243-46c20c73-b9647f2a-5a7270e2'}},\n",
       "  {'output_type': 'display_data',\n",
       "   'data': {'text/html': '<div>Multi 4</div>\\n<brd-mark id=\"bffc68af4-f040d5fc-46a45475-5590da93\"></brd-mark>'},\n",
       "   'metadata': {'brd_did': 'bffc68af4-f040d5fc-46a45475-5590da93'}}],\n",
       " 'execution_count': 66}"
      ]
     },
     "metadata": {},
     "output_type": "display_data"
    },
    {
     "data": {
      "text/html": [
       "<style>details ul { list-style-type:none; list-style-position: outside; padding-inline-start: 22px; margin: 0; } details .string { color: #24837b; } details .string::before { content: \"'\"; } details .string::after { content: \"'\"; } details .number { color: #ad8301; } details .true { color: blue; } details .false { color: red; } details .null { color: gray; } span.n { color: darkgrey; } </style>\n",
       "<details open><summary>NBCell@17\n",
       "</summary>  <ul>\n",
       "    <li>\n",
       "<span><span class=\"n\">idx</span>: <span class=\"v number\">17</span></span>    </li>\n",
       "    <li>\n",
       "<span><span class=\"n\">source</span>: <span class=\"v string\">cell = __nb__[__lastcellinfo__.cell_id]\n",
       "test_eq(cell.dids, [did1, did2])</span></span>    </li>\n",
       "    <li>\n",
       "<span><span class=\"n\">id</span>: <span class=\"v string\">Y160sZmlsZQ==</span></span>    </li>\n",
       "    <li>\n",
       "<span><span class=\"n\">cell_type</span>: <span class=\"v string\">code</span></span>    </li>\n",
       "<details open><summary>outputs\n",
       "</summary>      <ul></ul>\n",
       "</details>    <li>\n",
       "<span><span class=\"n\">execution_count</span>: <span class=\"v number\">67</span></span>    </li>\n",
       "  </ul>\n",
       "</details>"
      ],
      "text/markdown": [
       "> code\n",
       "\n",
       "```json\n",
       "{\n",
       "  'idx': 17,\n",
       "  'source': 'cell = __nb__[__lastcellinfo__.cell_id]\\ntest_eq(cell.dids, [did1, did2])',\n",
       "  'id': 'Y160sZmlsZQ==',\n",
       "  'cell_type': 'code',\n",
       "  'outputs': [],\n",
       "  'execution_count': 67\n",
       "}\n",
       "```"
      ],
      "text/plain": [
       "{'idx': 17,\n",
       " 'source': 'cell = __nb__[__lastcellinfo__.cell_id]\\ntest_eq(cell.dids, [did1, did2])',\n",
       " 'id': 'Y160sZmlsZQ==',\n",
       " 'cell_type': 'code',\n",
       " 'outputs': [],\n",
       " 'execution_count': 67}"
      ]
     },
     "metadata": {},
     "output_type": "display_data"
    },
    {
     "data": {
      "text/html": [
       "<style>details ul { list-style-type:none; list-style-position: outside; padding-inline-start: 22px; margin: 0; } details .string { color: #24837b; } details .string::before { content: \"'\"; } details .string::after { content: \"'\"; } details .number { color: #ad8301; } details .true { color: blue; } details .false { color: red; } details .null { color: gray; } span.n { color: darkgrey; } </style>\n",
       "<details open><summary>NBCell@18\n",
       "</summary>  <ul>\n",
       "    <li>\n",
       "<span><span class=\"n\">idx</span>: <span class=\"v number\">18</span></span>    </li>\n",
       "    <li>\n",
       "<span><span class=\"n\">source</span>: <span class=\"v string\">dh1, dh2 = brdd.dhs[-2], brdd.dhs[-1]\n",
       "test_eq(dh1.display_id, did1)\n",
       "test_eq(dh2.display_id, did2)\n",
       "dh1.update(HTML(&quot;&lt;div&gt;Multi 3&lt;/div&gt;&quot;))\n",
       "tim…</span></span>    </li>\n",
       "    <li>\n",
       "<span><span class=\"n\">id</span>: <span class=\"v string\">Y161sZmlsZQ==</span></span>    </li>\n",
       "    <li>\n",
       "<span><span class=\"n\">cell_type</span>: <span class=\"v string\">code</span></span>    </li>\n",
       "<details open><summary>outputs\n",
       "</summary>      <ul></ul>\n",
       "</details>    <li>\n",
       "<span><span class=\"n\">execution_count</span>: <span class=\"v number\">68</span></span>    </li>\n",
       "  </ul>\n",
       "</details>"
      ],
      "text/markdown": [
       "> code\n",
       "\n",
       "```json\n",
       "{\n",
       "  'idx': 18,\n",
       "  'source': 'dh1, dh2 = brdd.dhs[-2], brdd.dhs[-1]\\ntest_eq(dh1.display_id, did1)\\ntest_eq(dh2.display_id, did2)\\ndh1.update(HTML(\"<div>Multi 3</div>\"))\\ntime.sleep(0.01)\\ndh2.update(HTML(\"<div>Multi 4</div>\"))',\n",
       "  'id': 'Y161sZmlsZQ==',\n",
       "  'cell_type': 'code',\n",
       "  'outputs': [],\n",
       "  'execution_count': 68\n",
       "}\n",
       "```"
      ],
      "text/plain": [
       "{'idx': 18,\n",
       " 'source': 'dh1, dh2 = brdd.dhs[-2], brdd.dhs[-1]\\ntest_eq(dh1.display_id, did1)\\ntest_eq(dh2.display_id, did2)\\ndh1.update(HTML(\"<div>Multi 3</div>\"))\\ntime.sleep(0.01)\\ndh2.update(HTML(\"<div>Multi 4</div>\"))',\n",
       " 'id': 'Y161sZmlsZQ==',\n",
       " 'cell_type': 'code',\n",
       " 'outputs': [],\n",
       " 'execution_count': 68}"
      ]
     },
     "metadata": {},
     "output_type": "display_data"
    },
    {
     "data": {
      "text/html": [
       "<style>details ul { list-style-type:none; list-style-position: outside; padding-inline-start: 22px; margin: 0; } details .string { color: #24837b; } details .string::before { content: \"'\"; } details .string::after { content: \"'\"; } details .number { color: #ad8301; } details .true { color: blue; } details .false { color: red; } details .null { color: gray; } span.n { color: darkgrey; } </style>\n",
       "<details open><summary>NBCell@19\n",
       "</summary>  <ul>\n",
       "    <li>\n",
       "<span><span class=\"n\">idx</span>: <span class=\"v number\">19</span></span>    </li>\n",
       "    <li>\n",
       "<span><span class=\"n\">source</span>: <span class=\"v string\">display(Markdown(&quot;Skipped&quot;), metadata={&#x27;bridge&#x27;: {&#x27;skip&#x27;: True}})\n",
       "display(&quot;Me too&quot;, JSON({&quot;And me&quot;: True}), metadata=skip())</span></span>    </li>\n",
       "    <li>\n",
       "<span><span class=\"n\">id</span>: <span class=\"v string\">Y164sZmlsZQ==</span></span>    </li>\n",
       "    <li>\n",
       "<span><span class=\"n\">cell_type</span>: <span class=\"v string\">code</span></span>    </li>\n",
       "<details open><summary>outputs\n",
       "</summary>      <ul>\n",
       "<details open><summary>0\n",
       "</summary>          <ul>\n",
       "            <li>\n",
       "<span><span class=\"n\">output_type</span>: <span class=\"v string\">display_data</span></span>            </li>\n",
       "<details open><summary>data\n",
       "</summary>              <ul>\n",
       "                <li>\n",
       "<span><span class=\"n\">text/markdown</span>: <span class=\"v string\">Skipped</span></span>                </li>\n",
       "              </ul>\n",
       "</details>            <li>\n",
       "<span><span class=\"n\">metadata</span>: <span class=\"v \">{&#x27;bridge&#x27;: {&#x27;skip&#x27;: True}}</span></span>            </li>\n",
       "          </ul>\n",
       "</details><details open><summary>1\n",
       "</summary>          <ul>\n",
       "            <li>\n",
       "<span><span class=\"n\">output_type</span>: <span class=\"v string\">display_data</span></span>            </li>\n",
       "<details open><summary>data\n",
       "</summary>              <ul></ul>\n",
       "</details>            <li>\n",
       "<span><span class=\"n\">metadata</span>: <span class=\"v \">{&#x27;bridge&#x27;: {&#x27;skip&#x27;: True}}</span></span>            </li>\n",
       "          </ul>\n",
       "</details><details open><summary>2\n",
       "</summary>          <ul>\n",
       "            <li>\n",
       "<span><span class=\"n\">output_type</span>: <span class=\"v string\">display_data</span></span>            </li>\n",
       "<details open><summary>data\n",
       "</summary>              <ul>\n",
       "                <li>\n",
       "<span><span class=\"n\">application/json</span>: <span class=\"v \">{&#x27;And me&#x27;: True}</span></span>                </li>\n",
       "              </ul>\n",
       "</details>            <li>\n",
       "<span><span class=\"n\">metadata</span>: <span class=\"v \">{&#x27;application/json&#x27;: {&#x27;expanded&#x27;: False, &#x27;root&#x27;: &#x27;root&#x27;}, &#x27;bridge&#x27;: {&#x27;skip&#x27;: True}}</span></span>            </li>\n",
       "          </ul>\n",
       "</details>      </ul>\n",
       "</details>    <li>\n",
       "<span><span class=\"n\">execution_count</span>: <span class=\"v number\">69</span></span>    </li>\n",
       "  </ul>\n",
       "</details>"
      ],
      "text/markdown": [
       "> code\n",
       "\n",
       "```json\n",
       "{\n",
       "  'idx': 19,\n",
       "  'source': 'display(Markdown(\"Skipped\"), metadata={\\'bridge\\': {\\'skip\\': True}})\\ndisplay(\"Me too\", JSON({\"And me\": True}), metadata=skip())',\n",
       "  'id': 'Y164sZmlsZQ==',\n",
       "  'cell_type': 'code',\n",
       "  'outputs': [\n",
       "    {'output_type': 'display_data', 'data': {'text/markdown': 'Skipped'}, 'metadata': {'bridge': {'skip': True}}},\n",
       "    {'output_type': 'display_data', 'data': {}, 'metadata': {'bridge': {'skip': True}}},\n",
       "    {\n",
       "      'output_type': 'display_data',\n",
       "      'data': {'application/json': {'And me': True}},\n",
       "      'metadata': {'application/json': {'expanded': False, 'root': 'root'}, 'bridge': {'skip': True}}\n",
       "    }\n",
       "  ],\n",
       "  'execution_count': 69\n",
       "}\n",
       "```"
      ],
      "text/plain": [
       "{'idx': 19,\n",
       " 'source': 'display(Markdown(\"Skipped\"), metadata={\\'bridge\\': {\\'skip\\': True}})\\ndisplay(\"Me too\", JSON({\"And me\": True}), metadata=skip())',\n",
       " 'id': 'Y164sZmlsZQ==',\n",
       " 'cell_type': 'code',\n",
       " 'outputs': [{'output_type': 'display_data',\n",
       "   'data': {'text/markdown': 'Skipped'},\n",
       "   'metadata': {'bridge': {'skip': True}}},\n",
       "  {'output_type': 'display_data',\n",
       "   'data': {},\n",
       "   'metadata': {'bridge': {'skip': True}}},\n",
       "  {'output_type': 'display_data',\n",
       "   'data': {'application/json': {'And me': True}},\n",
       "   'metadata': {'application/json': {'expanded': False, 'root': 'root'},\n",
       "    'bridge': {'skip': True}}}],\n",
       " 'execution_count': 69}"
      ]
     },
     "metadata": {},
     "output_type": "display_data"
    },
    {
     "data": {
      "text/html": [
       "<style>details ul { list-style-type:none; list-style-position: outside; padding-inline-start: 22px; margin: 0; } details .string { color: #24837b; } details .string::before { content: \"'\"; } details .string::after { content: \"'\"; } details .number { color: #ad8301; } details .true { color: blue; } details .false { color: red; } details .null { color: gray; } span.n { color: darkgrey; } </style>\n",
       "<details open><summary>NBCell@20\n",
       "</summary>  <ul>\n",
       "    <li>\n",
       "<span><span class=\"n\">idx</span>: <span class=\"v number\">20</span></span>    </li>\n",
       "    <li>\n",
       "<span><span class=\"n\">source</span>: <span class=\"v string\">__nb__[__lastcellinfo__.cell_id]</span></span>    </li>\n",
       "    <li>\n",
       "<span><span class=\"n\">id</span>: <span class=\"v string\">Y165sZmlsZQ==</span></span>    </li>\n",
       "    <li>\n",
       "<span><span class=\"n\">cell_type</span>: <span class=\"v string\">code</span></span>    </li>\n",
       "<details open><summary>outputs\n",
       "</summary>      <ul>\n",
       "<details open><summary>0\n",
       "</summary>          <ul>\n",
       "            <li>\n",
       "<span><span class=\"n\">output_type</span>: <span class=\"v string\">execute_result</span></span>            </li>\n",
       "            <li>\n",
       "<span><span class=\"n\">execution_count</span>: <span class=\"v number\">70</span></span>            </li>\n",
       "<details open><summary>data\n",
       "</summary>              <ul>\n",
       "                <li>\n",
       "<span><span class=\"n\">text/plain</span>: <span class=\"v string\">{&#x27;idx&#x27;: 19,\n",
       " &#x27;source&#x27;: &#x27;display(Markdown(&quot;Skipped&quot;), metadata={\\&#x27;bridge\\&#x27;: {\\&#x27;skip\\&#x27;: True}})\\ndisplay(&quot;Me too&quot;, JSON({&quot;And me&quot;: True}), met…</span></span>                </li>\n",
       "                <li>\n",
       "<span><span class=\"n\">text/html</span>: <span class=\"v string\">&lt;style&gt;details ul { list-style-type:none; list-style-position: outside; padding-inline-start: 22px; margin: 0; } details .string { color: #2…</span></span>                </li>\n",
       "                <li>\n",
       "<span><span class=\"n\">text/markdown</span>: <span class=\"v string\">&gt; code\n",
       "\n",
       "```json\n",
       "{\n",
       "  &#x27;idx&#x27;: 19,\n",
       "  &#x27;source&#x27;: &#x27;display(Markdown(&quot;Skipped&quot;), metadata={\\&#x27;bridge\\&#x27;: {\\&#x27;skip\\&#x27;: True}})\\ndisplay(&quot;Me too&quot;, JSON({&quot;…</span></span>                </li>\n",
       "              </ul>\n",
       "</details>            <li>\n",
       "<span><span class=\"n\">metadata</span>: <span class=\"v \">{}</span></span>            </li>\n",
       "          </ul>\n",
       "</details>      </ul>\n",
       "</details>    <li>\n",
       "<span><span class=\"n\">execution_count</span>: <span class=\"v number\">70</span></span>    </li>\n",
       "  </ul>\n",
       "</details>"
      ],
      "text/markdown": [
       "> code\n",
       "\n",
       "```json\n",
       "{\n",
       "  'idx': 20,\n",
       "  'source': '__nb__[__lastcellinfo__.cell_id]',\n",
       "  'id': 'Y165sZmlsZQ==',\n",
       "  'cell_type': 'code',\n",
       "  'outputs': [\n",
       "    {\n",
       "      'output_type': 'execute_result',\n",
       "      'execution_count': 70,\n",
       "      'data': {\n",
       "        'text/plain': '{\\'idx\\': 19,\\n \\'source\\': \\'display(Markdown(\"Skipped\"), metadata={\\\\\\'bridge\\\\\\': {\\\\\\'skip\\\\\\': True}})\\\\ndisplay(\"Me too\", JSON({\"And me\": True}), metadata=skip())\\',\\n \\'id\\': \\'Y164sZmlsZQ==\\',\\n \\'cell_type\\': \\'code\\',\\n \\'outputs\\': [{\\'output_type\\': \\'display_data\\',\\n   \\'data\\': {\\'text/plain\\': \\'<IPython.core.display.Markdown object>\\',\\n    \\'text/markdown\\': \\'Skipped\\'},\\n   \\'metadata\\': {\\'bridge\\': {\\'skip\\': True}}},\\n  {\\'output_type\\': \\'display_data\\',\\n   \\'data\\': {\\'text/plain\\': \"\\'Me too\\'\"},\\n   \\'metadata\\': {\\'bridge\\': {\\'skip\\': True}}},\\n  {\\'output_type\\': \\'display_data\\',\\n   \\'data\\': {\\'text/plain\\': \\'<IPython.core.display.JSON object>\\',\\n    \\'application/json\\': {\\'And me\\': True}},\\n   \\'metadata\\': {\\'application/json\\': {\\'expanded\\': False, \\'root\\': \\'root\\'},\\n    \\'bridge\\': {\\'skip\\': True}}}],\\n \\'execution_count\\': 69}',\n",
       "        'text/html': '<style>details ul { list-style-type:none; list-style-position: outside; padding-inline-start: 22px; margin: 0; } details .string { color: #24837b; } details .string::before { content: \"\\'\"; } details .string::after { content: \"\\'\"; } details .number { color: #ad8301; } details .true { color: blue; } details .false { color: red; } details .null { color: gray; } span.n { color: darkgrey; } </style>\\n<details open><summary>NBCell@19\\n</summary>  <ul>\\n    <li>\\n<span><span class=\"n\">idx</span>: <span class=\"v number\">19</span></span>    </li>\\n    <li>\\n<span><span class=\"n\">source</span>: <span class=\"v string\">display(Markdown(&quot;Skipped&quot;), metadata={&#x27;bridge&#x27;: {&#x27;skip&#x27;: True}})\\ndisplay(&quot;Me too&quot;, JSON({&quot;And me&quot;: True}), metadata=skip())</span></span>    </li>\\n    <li>\\n<span><span class=\"n\">id</span>: <span class=\"v string\">Y164sZmlsZQ==</span></span>    </li>\\n    <li>\\n<span><span class=\"n\">cell_type</span>: <span class=\"v string\">code</span></span>    </li>\\n<details open><summary>outputs\\n</summary>      <ul>\\n<details open><summary>0\\n</summary>          <ul>\\n            <li>\\n<span><span class=\"n\">output_type</span>: <span class=\"v string\">display_data</span></span>            </li>\\n<details open><summary>data\\n</summary>              <ul>\\n                <li>\\n<span><span class=\"n\">text/plain</span>: <span class=\"v string\">&lt;IPython.core.display.Markdown object&gt;</span></span>                </li>\\n                <li>\\n<span><span class=\"n\">text/markdown</span>: <span class=\"v string\">Skipped</span></span>                </li>\\n              </ul>\\n</details>            <li>\\n<span><span class=\"n\">metadata</span>: <span class=\"v \">{&#x27;bridge&#x27;: {&#x27;skip&#x27;: True}}</span></span>            </li>\\n          </ul>\\n</details><details open><summary>1\\n</summary>          <ul>\\n            <li>\\n<span><span class=\"n\">output_type</span>: <span class=\"v string\">display_data</span></span>            </li>\\n<details open><summary>data\\n</summary>              <ul>\\n                <li>\\n<span><span class=\"n\">text/plain</span>: <span class=\"v string\">&#x27;Me too&#x27;</span></span>                </li>\\n              </ul>\\n</details>            <li>\\n<span><span class=\"n\">metadata</span>: <span class=\"v \">{&#x27;bridge&#x27;: {&#x27;skip&#x27;: True}}</span></span>            </li>\\n          </ul>\\n</details><details open><summary>2\\n</summary>          <ul>\\n            <li>\\n<span><span class=\"n\">output_type</span>: <span class=\"v string\">display_data</span></span>            </li>\\n<details open><summary>data\\n</summary>              <ul>\\n                <li>\\n<span><span class=\"n\">text/plain</span>: <span class=\"v string\">&lt;IPython.core.display.JSON object&gt;</span></span>                </li>\\n                <li>\\n<span><span class=\"n\">application/json</span>: <span class=\"v \">{&#x27;And me&#x27;: True}</span></span>                </li>\\n              </ul>\\n</details>            <li>\\n<span><span class=\"n\">metadata</span>: <span class=\"v \">{&#x27;application/json&#x27;: {&#x27;expanded&#x27;: False, &#x27;root&#x27;: &#x27;root&#x27;}, &#x27;bridge&#x27;: {&#x27;skip&#x27;: True}}</span></span>            </li>\\n          </ul>\\n</details>      </ul>\\n</details>    <li>\\n<span><span class=\"n\">execution_count</span>: <span class=\"v number\">69</span></span>    </li>\\n  </ul>\\n</details>',\n",
       "        'text/markdown': '> code\\n\\n```json\\n{\\n  \\'idx\\': 19,\\n  \\'source\\': \\'display(Markdown(\"Skipped\"), metadata={\\\\\\'bridge\\\\\\': {\\\\\\'skip\\\\\\': True}})\\\\ndisplay(\"Me too\", JSON({\"And me\": True}), metadata=skip())\\',\\n  \\'id\\': \\'Y164sZmlsZQ==\\',\\n  \\'cell_type\\': \\'code\\',\\n  \\'outputs\\': [\\n    {\\n      \\'output_type\\': \\'display_data\\',\\n      \\'data\\': {\\'text/plain\\': \\'<IPython.core.display.Markdown object>\\', \\'text/markdown\\': \\'Skipped\\'},\\n      \\'metadata\\': {\\'bridge\\': {\\'skip\\': True}}\\n    },\\n    {\\'output_type\\': \\'display_data\\', \\'data\\': {\\'text/plain\\': \"\\'Me too\\'\"}, \\'metadata\\': {\\'bridge\\': {\\'skip\\': True}}},\\n    {\\n      \\'output_type\\': \\'display_data\\',\\n      \\'data\\': {\\'text/plain\\': \\'<IPython.core.display.JSON object>\\', \\'application/json\\': {\\'And me\\': True}},\\n      \\'metadata\\': {\\'application/json\\': {\\'expanded\\': False, \\'root\\': \\'root\\'}, \\'bridge\\': {\\'skip\\': True}}\\n    }\\n  ],\\n  \\'execution_count\\': 69\\n}\\n```'\n",
       "      },\n",
       "      'metadata': {}\n",
       "    }\n",
       "  ],\n",
       "  'execution_count': 70\n",
       "}\n",
       "```"
      ],
      "text/plain": [
       "{'idx': 20,\n",
       " 'source': '__nb__[__lastcellinfo__.cell_id]',\n",
       " 'id': 'Y165sZmlsZQ==',\n",
       " 'cell_type': 'code',\n",
       " 'outputs': [{'output_type': 'execute_result',\n",
       "   'execution_count': 70,\n",
       "   'data': {'text/plain': '{\\'idx\\': 19,\\n \\'source\\': \\'display(Markdown(\"Skipped\"), metadata={\\\\\\'bridge\\\\\\': {\\\\\\'skip\\\\\\': True}})\\\\ndisplay(\"Me too\", JSON({\"And me\": True}), metadata=skip())\\',\\n \\'id\\': \\'Y164sZmlsZQ==\\',\\n \\'cell_type\\': \\'code\\',\\n \\'outputs\\': [{\\'output_type\\': \\'display_data\\',\\n   \\'data\\': {\\'text/plain\\': \\'<IPython.core.display.Markdown object>\\',\\n    \\'text/markdown\\': \\'Skipped\\'},\\n   \\'metadata\\': {\\'bridge\\': {\\'skip\\': True}}},\\n  {\\'output_type\\': \\'display_data\\',\\n   \\'data\\': {\\'text/plain\\': \"\\'Me too\\'\"},\\n   \\'metadata\\': {\\'bridge\\': {\\'skip\\': True}}},\\n  {\\'output_type\\': \\'display_data\\',\\n   \\'data\\': {\\'text/plain\\': \\'<IPython.core.display.JSON object>\\',\\n    \\'application/json\\': {\\'And me\\': True}},\\n   \\'metadata\\': {\\'application/json\\': {\\'expanded\\': False, \\'root\\': \\'root\\'},\\n    \\'bridge\\': {\\'skip\\': True}}}],\\n \\'execution_count\\': 69}',\n",
       "    'text/html': '<style>details ul { list-style-type:none; list-style-position: outside; padding-inline-start: 22px; margin: 0; } details .string { color: #24837b; } details .string::before { content: \"\\'\"; } details .string::after { content: \"\\'\"; } details .number { color: #ad8301; } details .true { color: blue; } details .false { color: red; } details .null { color: gray; } span.n { color: darkgrey; } </style>\\n<details open><summary>NBCell@19\\n</summary>  <ul>\\n    <li>\\n<span><span class=\"n\">idx</span>: <span class=\"v number\">19</span></span>    </li>\\n    <li>\\n<span><span class=\"n\">source</span>: <span class=\"v string\">display(Markdown(&quot;Skipped&quot;), metadata={&#x27;bridge&#x27;: {&#x27;skip&#x27;: True}})\\ndisplay(&quot;Me too&quot;, JSON({&quot;And me&quot;: True}), metadata=skip())</span></span>    </li>\\n    <li>\\n<span><span class=\"n\">id</span>: <span class=\"v string\">Y164sZmlsZQ==</span></span>    </li>\\n    <li>\\n<span><span class=\"n\">cell_type</span>: <span class=\"v string\">code</span></span>    </li>\\n<details open><summary>outputs\\n</summary>      <ul>\\n<details open><summary>0\\n</summary>          <ul>\\n            <li>\\n<span><span class=\"n\">output_type</span>: <span class=\"v string\">display_data</span></span>            </li>\\n<details open><summary>data\\n</summary>              <ul>\\n                <li>\\n<span><span class=\"n\">text/plain</span>: <span class=\"v string\">&lt;IPython.core.display.Markdown object&gt;</span></span>                </li>\\n                <li>\\n<span><span class=\"n\">text/markdown</span>: <span class=\"v string\">Skipped</span></span>                </li>\\n              </ul>\\n</details>            <li>\\n<span><span class=\"n\">metadata</span>: <span class=\"v \">{&#x27;bridge&#x27;: {&#x27;skip&#x27;: True}}</span></span>            </li>\\n          </ul>\\n</details><details open><summary>1\\n</summary>          <ul>\\n            <li>\\n<span><span class=\"n\">output_type</span>: <span class=\"v string\">display_data</span></span>            </li>\\n<details open><summary>data\\n</summary>              <ul>\\n                <li>\\n<span><span class=\"n\">text/plain</span>: <span class=\"v string\">&#x27;Me too&#x27;</span></span>                </li>\\n              </ul>\\n</details>            <li>\\n<span><span class=\"n\">metadata</span>: <span class=\"v \">{&#x27;bridge&#x27;: {&#x27;skip&#x27;: True}}</span></span>            </li>\\n          </ul>\\n</details><details open><summary>2\\n</summary>          <ul>\\n            <li>\\n<span><span class=\"n\">output_type</span>: <span class=\"v string\">display_data</span></span>            </li>\\n<details open><summary>data\\n</summary>              <ul>\\n                <li>\\n<span><span class=\"n\">text/plain</span>: <span class=\"v string\">&lt;IPython.core.display.JSON object&gt;</span></span>                </li>\\n                <li>\\n<span><span class=\"n\">application/json</span>: <span class=\"v \">{&#x27;And me&#x27;: True}</span></span>                </li>\\n              </ul>\\n</details>            <li>\\n<span><span class=\"n\">metadata</span>: <span class=\"v \">{&#x27;application/json&#x27;: {&#x27;expanded&#x27;: False, &#x27;root&#x27;: &#x27;root&#x27;}, &#x27;bridge&#x27;: {&#x27;skip&#x27;: True}}</span></span>            </li>\\n          </ul>\\n</details>      </ul>\\n</details>    <li>\\n<span><span class=\"n\">execution_count</span>: <span class=\"v number\">69</span></span>    </li>\\n  </ul>\\n</details>',\n",
       "    'text/markdown': '> code\\n\\n```json\\n{\\n  \\'idx\\': 19,\\n  \\'source\\': \\'display(Markdown(\"Skipped\"), metadata={\\\\\\'bridge\\\\\\': {\\\\\\'skip\\\\\\': True}})\\\\ndisplay(\"Me too\", JSON({\"And me\": True}), metadata=skip())\\',\\n  \\'id\\': \\'Y164sZmlsZQ==\\',\\n  \\'cell_type\\': \\'code\\',\\n  \\'outputs\\': [\\n    {\\n      \\'output_type\\': \\'display_data\\',\\n      \\'data\\': {\\'text/plain\\': \\'<IPython.core.display.Markdown object>\\', \\'text/markdown\\': \\'Skipped\\'},\\n      \\'metadata\\': {\\'bridge\\': {\\'skip\\': True}}\\n    },\\n    {\\'output_type\\': \\'display_data\\', \\'data\\': {\\'text/plain\\': \"\\'Me too\\'\"}, \\'metadata\\': {\\'bridge\\': {\\'skip\\': True}}},\\n    {\\n      \\'output_type\\': \\'display_data\\',\\n      \\'data\\': {\\'text/plain\\': \\'<IPython.core.display.JSON object>\\', \\'application/json\\': {\\'And me\\': True}},\\n      \\'metadata\\': {\\'application/json\\': {\\'expanded\\': False, \\'root\\': \\'root\\'}, \\'bridge\\': {\\'skip\\': True}}\\n    }\\n  ],\\n  \\'execution_count\\': 69\\n}\\n```'},\n",
       "   'metadata': {}}],\n",
       " 'execution_count': 70}"
      ]
     },
     "metadata": {},
     "output_type": "display_data"
    },
    {
     "data": {
      "text/html": [
       "<style>details ul { list-style-type:none; list-style-position: outside; padding-inline-start: 22px; margin: 0; } details .string { color: #24837b; } details .string::before { content: \"'\"; } details .string::after { content: \"'\"; } details .number { color: #ad8301; } details .true { color: blue; } details .false { color: red; } details .null { color: gray; } span.n { color: darkgrey; } </style>\n",
       "<details open><summary>NBCell@21\n",
       "</summary>  <ul>\n",
       "    <li>\n",
       "<span><span class=\"n\">idx</span>: <span class=\"v number\">21</span></span>    </li>\n",
       "    <li>\n",
       "<span><span class=\"n\">source</span>: <span class=\"v string\">display(\n",
       "    HTML(&quot;Skipped&quot;, metadata={&#x27;skip&#x27;:True, &#x27;brd_did&#x27;:(did1 := new_id())}),\n",
       "    HTML(&quot;Not me&quot;, metadata={&#x27;brd_did&#x27;:(did2 := new_id()…</span></span>    </li>\n",
       "    <li>\n",
       "<span><span class=\"n\">id</span>: <span class=\"v string\">Y200sZmlsZQ==</span></span>    </li>\n",
       "    <li>\n",
       "<span><span class=\"n\">cell_type</span>: <span class=\"v string\">code</span></span>    </li>\n",
       "<details open><summary>outputs\n",
       "</summary>      <ul>\n",
       "<details open><summary>0\n",
       "</summary>          <ul>\n",
       "            <li>\n",
       "<span><span class=\"n\">output_type</span>: <span class=\"v string\">display_data</span></span>            </li>\n",
       "<details open><summary>data\n",
       "</summary>              <ul>\n",
       "                <li>\n",
       "<span><span class=\"n\">text/html</span>: <span class=\"v string\">Skipped</span></span>                </li>\n",
       "              </ul>\n",
       "</details>            <li>\n",
       "<span><span class=\"n\">metadata</span>: <span class=\"v \">{&#x27;text/html&#x27;: {&#x27;skip&#x27;: True, &#x27;brd_did&#x27;: &#x27;b56da8325-869b1cf1-a7f1988f-5b4e301e&#x27;}}</span></span>            </li>\n",
       "          </ul>\n",
       "</details><details open><summary>1\n",
       "</summary>          <ul>\n",
       "            <li>\n",
       "<span><span class=\"n\">output_type</span>: <span class=\"v string\">display_data</span></span>            </li>\n",
       "<details open><summary>data\n",
       "</summary>              <ul>\n",
       "                <li>\n",
       "<span><span class=\"n\">text/html</span>: <span class=\"v string\">Not me\n",
       "&lt;brd-mark id=&quot;b4330abfd-0b965cf1-8cc02002-84f6dcd5&quot;&gt;&lt;/brd-mark&gt;</span></span>                </li>\n",
       "              </ul>\n",
       "</details>            <li>\n",
       "<span><span class=\"n\">metadata</span>: <span class=\"v \">{&#x27;brd_did&#x27;: &#x27;b4330abfd-0b965cf1-8cc02002-84f6dcd5&#x27;}</span></span>            </li>\n",
       "          </ul>\n",
       "</details>      </ul>\n",
       "</details>    <li>\n",
       "<span><span class=\"n\">execution_count</span>: <span class=\"v number\">71</span></span>    </li>\n",
       "  </ul>\n",
       "</details>"
      ],
      "text/markdown": [
       "> code\n",
       "\n",
       "```json\n",
       "{\n",
       "  'idx': 21,\n",
       "  'source': 'display(\\n    HTML(\"Skipped\", metadata={\\'skip\\':True, \\'brd_did\\':(did1 := new_id())}),\\n    HTML(\"Not me\", metadata={\\'brd_did\\':(did2 := new_id())}),\\n)',\n",
       "  'id': 'Y200sZmlsZQ==',\n",
       "  'cell_type': 'code',\n",
       "  'outputs': [\n",
       "    {\n",
       "      'output_type': 'display_data',\n",
       "      'data': {'text/html': 'Skipped'},\n",
       "      'metadata': {'text/html': {'skip': True, 'brd_did': 'b56da8325-869b1cf1-a7f1988f-5b4e301e'}}\n",
       "    },\n",
       "    {\n",
       "      'output_type': 'display_data',\n",
       "      'data': {'text/html': 'Not me\\n<brd-mark id=\"b4330abfd-0b965cf1-8cc02002-84f6dcd5\"></brd-mark>'},\n",
       "      'metadata': {'brd_did': 'b4330abfd-0b965cf1-8cc02002-84f6dcd5'}\n",
       "    }\n",
       "  ],\n",
       "  'execution_count': 71\n",
       "}\n",
       "```"
      ],
      "text/plain": [
       "{'idx': 21,\n",
       " 'source': 'display(\\n    HTML(\"Skipped\", metadata={\\'skip\\':True, \\'brd_did\\':(did1 := new_id())}),\\n    HTML(\"Not me\", metadata={\\'brd_did\\':(did2 := new_id())}),\\n)',\n",
       " 'id': 'Y200sZmlsZQ==',\n",
       " 'cell_type': 'code',\n",
       " 'outputs': [{'output_type': 'display_data',\n",
       "   'data': {'text/html': 'Skipped'},\n",
       "   'metadata': {'text/html': {'skip': True,\n",
       "     'brd_did': 'b56da8325-869b1cf1-a7f1988f-5b4e301e'}}},\n",
       "  {'output_type': 'display_data',\n",
       "   'data': {'text/html': 'Not me\\n<brd-mark id=\"b4330abfd-0b965cf1-8cc02002-84f6dcd5\"></brd-mark>'},\n",
       "   'metadata': {'brd_did': 'b4330abfd-0b965cf1-8cc02002-84f6dcd5'}}],\n",
       " 'execution_count': 71}"
      ]
     },
     "metadata": {},
     "output_type": "display_data"
    },
    {
     "data": {
      "text/html": [
       "<style>details ul { list-style-type:none; list-style-position: outside; padding-inline-start: 22px; margin: 0; } details .string { color: #24837b; } details .string::before { content: \"'\"; } details .string::after { content: \"'\"; } details .number { color: #ad8301; } details .true { color: blue; } details .false { color: red; } details .null { color: gray; } span.n { color: darkgrey; } </style>\n",
       "<details open><summary>NBCell@22\n",
       "</summary>  <ul>\n",
       "    <li>\n",
       "<span><span class=\"n\">idx</span>: <span class=\"v number\">22</span></span>    </li>\n",
       "    <li>\n",
       "<span><span class=\"n\">source</span>: <span class=\"v string\">cell = __nb__[__lastcellinfo__.cell_id]\n",
       "test_eq(cell.dids, [did2])\n",
       "cell</span></span>    </li>\n",
       "    <li>\n",
       "<span><span class=\"n\">id</span>: <span class=\"v string\">Y201sZmlsZQ==</span></span>    </li>\n",
       "    <li>\n",
       "<span><span class=\"n\">cell_type</span>: <span class=\"v string\">code</span></span>    </li>\n",
       "<details open><summary>outputs\n",
       "</summary>      <ul>\n",
       "<details open><summary>0\n",
       "</summary>          <ul>\n",
       "            <li>\n",
       "<span><span class=\"n\">output_type</span>: <span class=\"v string\">execute_result</span></span>            </li>\n",
       "            <li>\n",
       "<span><span class=\"n\">execution_count</span>: <span class=\"v number\">72</span></span>            </li>\n",
       "<details open><summary>data\n",
       "</summary>              <ul>\n",
       "                <li>\n",
       "<span><span class=\"n\">text/plain</span>: <span class=\"v string\">{&#x27;idx&#x27;: 21,\n",
       " &#x27;source&#x27;: &#x27;display(\\n    HTML(&quot;Skipped&quot;, metadata={\\&#x27;skip\\&#x27;:True, \\&#x27;brd_did\\&#x27;:(did1 := new_id())}),\\n    HTML(&quot;Not me&quot;, metadat…</span></span>                </li>\n",
       "                <li>\n",
       "<span><span class=\"n\">text/html</span>: <span class=\"v string\">&lt;style&gt;details ul { list-style-type:none; list-style-position: outside; padding-inline-start: 22px; margin: 0; } details .string { color: #2…</span></span>                </li>\n",
       "                <li>\n",
       "<span><span class=\"n\">text/markdown</span>: <span class=\"v string\">&gt; code\n",
       "\n",
       "```json\n",
       "{\n",
       "  &#x27;idx&#x27;: 21,\n",
       "  &#x27;source&#x27;: &#x27;display(\\n    HTML(&quot;Skipped&quot;, metadata={\\&#x27;skip\\&#x27;:True, \\&#x27;brd_did\\&#x27;:(did1 := new_id())}),\\n    HT…</span></span>                </li>\n",
       "              </ul>\n",
       "</details>            <li>\n",
       "<span><span class=\"n\">metadata</span>: <span class=\"v \">{}</span></span>            </li>\n",
       "          </ul>\n",
       "</details>      </ul>\n",
       "</details>    <li>\n",
       "<span><span class=\"n\">execution_count</span>: <span class=\"v number\">72</span></span>    </li>\n",
       "  </ul>\n",
       "</details>"
      ],
      "text/markdown": [
       "> code\n",
       "\n",
       "```json\n",
       "{\n",
       "  'idx': 22,\n",
       "  'source': 'cell = __nb__[__lastcellinfo__.cell_id]\\ntest_eq(cell.dids, [did2])\\ncell',\n",
       "  'id': 'Y201sZmlsZQ==',\n",
       "  'cell_type': 'code',\n",
       "  'outputs': [\n",
       "    {\n",
       "      'output_type': 'execute_result',\n",
       "      'execution_count': 72,\n",
       "      'data': {\n",
       "        'text/plain': '{\\'idx\\': 21,\\n \\'source\\': \\'display(\\\\n    HTML(\"Skipped\", metadata={\\\\\\'skip\\\\\\':True, \\\\\\'brd_did\\\\\\':(did1 := new_id())}),\\\\n    HTML(\"Not me\", metadata={\\\\\\'brd_did\\\\\\':(did2 := new_id())}),\\\\n)\\',\\n \\'id\\': \\'Y200sZmlsZQ==\\',\\n \\'cell_type\\': \\'code\\',\\n \\'outputs\\': [{\\'output_type\\': \\'display_data\\',\\n   \\'data\\': {\\'text/plain\\': \\'<IPython.core.display.HTML object>\\',\\n    \\'text/html\\': \\'Skipped\\'},\\n   \\'metadata\\': {\\'text/html\\': {\\'skip\\': True,\\n     \\'brd_did\\': \\'b56da8325-869b1cf1-a7f1988f-5b4e301e\\'}}},\\n  {\\'output_type\\': \\'display_data\\',\\n   \\'data\\': {\\'text/plain\\': \\'<IPython.core.display.HTML object>\\',\\n    \\'text/html\\': \\'Not me\\\\n<brd-mark id=\"b4330abfd-0b965cf1-8cc02002-84f6dcd5\"></brd-mark>\\'},\\n   \\'metadata\\': {\\'brd_did\\': \\'b4330abfd-0b965cf1-8cc02002-84f6dcd5\\'}}],\\n \\'execution_count\\': 71}',\n",
       "        'text/html': '<style>details ul { list-style-type:none; list-style-position: outside; padding-inline-start: 22px; margin: 0; } details .string { color: #24837b; } details .string::before { content: \"\\'\"; } details .string::after { content: \"\\'\"; } details .number { color: #ad8301; } details .true { color: blue; } details .false { color: red; } details .null { color: gray; } span.n { color: darkgrey; } </style>\\n<details open><summary>NBCell@21\\n</summary>  <ul>\\n    <li>\\n<span><span class=\"n\">idx</span>: <span class=\"v number\">21</span></span>    </li>\\n    <li>\\n<span><span class=\"n\">source</span>: <span class=\"v string\">display(\\n    HTML(&quot;Skipped&quot;, metadata={&#x27;skip&#x27;:True, &#x27;brd_did&#x27;:(did1 := new_id())}),\\n    HTML(&quot;Not me&quot;, metadata={&#x27;brd_did&#x27;:(did2 := new_id()…</span></span>    </li>\\n    <li>\\n<span><span class=\"n\">id</span>: <span class=\"v string\">Y200sZmlsZQ==</span></span>    </li>\\n    <li>\\n<span><span class=\"n\">cell_type</span>: <span class=\"v string\">code</span></span>    </li>\\n<details open><summary>outputs\\n</summary>      <ul>\\n<details open><summary>0\\n</summary>          <ul>\\n            <li>\\n<span><span class=\"n\">output_type</span>: <span class=\"v string\">display_data</span></span>            </li>\\n<details open><summary>data\\n</summary>              <ul>\\n                <li>\\n<span><span class=\"n\">text/plain</span>: <span class=\"v string\">&lt;IPython.core.display.HTML object&gt;</span></span>                </li>\\n                <li>\\n<span><span class=\"n\">text/html</span>: <span class=\"v string\">Skipped</span></span>                </li>\\n              </ul>\\n</details>            <li>\\n<span><span class=\"n\">metadata</span>: <span class=\"v \">{&#x27;text/html&#x27;: {&#x27;skip&#x27;: True, &#x27;brd_did&#x27;: &#x27;b56da8325-869b1cf1-a7f1988f-5b4e301e&#x27;}}</span></span>            </li>\\n          </ul>\\n</details><details open><summary>1\\n</summary>          <ul>\\n            <li>\\n<span><span class=\"n\">output_type</span>: <span class=\"v string\">display_data</span></span>            </li>\\n<details open><summary>data\\n</summary>              <ul>\\n                <li>\\n<span><span class=\"n\">text/plain</span>: <span class=\"v string\">&lt;IPython.core.display.HTML object&gt;</span></span>                </li>\\n                <li>\\n<span><span class=\"n\">text/html</span>: <span class=\"v string\">Not me\\n&lt;brd-mark id=&quot;b4330abfd-0b965cf1-8cc02002-84f6dcd5&quot;&gt;&lt;/brd-mark&gt;</span></span>                </li>\\n              </ul>\\n</details>            <li>\\n<span><span class=\"n\">metadata</span>: <span class=\"v \">{&#x27;brd_did&#x27;: &#x27;b4330abfd-0b965cf1-8cc02002-84f6dcd5&#x27;}</span></span>            </li>\\n          </ul>\\n</details>      </ul>\\n</details>    <li>\\n<span><span class=\"n\">execution_count</span>: <span class=\"v number\">71</span></span>    </li>\\n  </ul>\\n</details>',\n",
       "        'text/markdown': '> code\\n\\n```json\\n{\\n  \\'idx\\': 21,\\n  \\'source\\': \\'display(\\\\n    HTML(\"Skipped\", metadata={\\\\\\'skip\\\\\\':True, \\\\\\'brd_did\\\\\\':(did1 := new_id())}),\\\\n    HTML(\"Not me\", metadata={\\\\\\'brd_did\\\\\\':(did2 := new_id())}),\\\\n)\\',\\n  \\'id\\': \\'Y200sZmlsZQ==\\',\\n  \\'cell_type\\': \\'code\\',\\n  \\'outputs\\': [\\n    {\\n      \\'output_type\\': \\'display_data\\',\\n      \\'data\\': {\\'text/plain\\': \\'<IPython.core.display.HTML object>\\', \\'text/html\\': \\'Skipped\\'},\\n      \\'metadata\\': {\\'text/html\\': {\\'skip\\': True, \\'brd_did\\': \\'b56da8325-869b1cf1-a7f1988f-5b4e301e\\'}}\\n    },\\n    {\\n      \\'output_type\\': \\'display_data\\',\\n      \\'data\\': {\\n        \\'text/plain\\': \\'<IPython.core.display.HTML object>\\',\\n        \\'text/html\\': \\'Not me\\\\n<brd-mark id=\"b4330abfd-0b965cf1-8cc02002-84f6dcd5\"></brd-mark>\\'\\n      },\\n      \\'metadata\\': {\\'brd_did\\': \\'b4330abfd-0b965cf1-8cc02002-84f6dcd5\\'}\\n    }\\n  ],\\n  \\'execution_count\\': 71\\n}\\n```'\n",
       "      },\n",
       "      'metadata': {}\n",
       "    }\n",
       "  ],\n",
       "  'execution_count': 72\n",
       "}\n",
       "```"
      ],
      "text/plain": [
       "{'idx': 22,\n",
       " 'source': 'cell = __nb__[__lastcellinfo__.cell_id]\\ntest_eq(cell.dids, [did2])\\ncell',\n",
       " 'id': 'Y201sZmlsZQ==',\n",
       " 'cell_type': 'code',\n",
       " 'outputs': [{'output_type': 'execute_result',\n",
       "   'execution_count': 72,\n",
       "   'data': {'text/plain': '{\\'idx\\': 21,\\n \\'source\\': \\'display(\\\\n    HTML(\"Skipped\", metadata={\\\\\\'skip\\\\\\':True, \\\\\\'brd_did\\\\\\':(did1 := new_id())}),\\\\n    HTML(\"Not me\", metadata={\\\\\\'brd_did\\\\\\':(did2 := new_id())}),\\\\n)\\',\\n \\'id\\': \\'Y200sZmlsZQ==\\',\\n \\'cell_type\\': \\'code\\',\\n \\'outputs\\': [{\\'output_type\\': \\'display_data\\',\\n   \\'data\\': {\\'text/plain\\': \\'<IPython.core.display.HTML object>\\',\\n    \\'text/html\\': \\'Skipped\\'},\\n   \\'metadata\\': {\\'text/html\\': {\\'skip\\': True,\\n     \\'brd_did\\': \\'b56da8325-869b1cf1-a7f1988f-5b4e301e\\'}}},\\n  {\\'output_type\\': \\'display_data\\',\\n   \\'data\\': {\\'text/plain\\': \\'<IPython.core.display.HTML object>\\',\\n    \\'text/html\\': \\'Not me\\\\n<brd-mark id=\"b4330abfd-0b965cf1-8cc02002-84f6dcd5\"></brd-mark>\\'},\\n   \\'metadata\\': {\\'brd_did\\': \\'b4330abfd-0b965cf1-8cc02002-84f6dcd5\\'}}],\\n \\'execution_count\\': 71}',\n",
       "    'text/html': '<style>details ul { list-style-type:none; list-style-position: outside; padding-inline-start: 22px; margin: 0; } details .string { color: #24837b; } details .string::before { content: \"\\'\"; } details .string::after { content: \"\\'\"; } details .number { color: #ad8301; } details .true { color: blue; } details .false { color: red; } details .null { color: gray; } span.n { color: darkgrey; } </style>\\n<details open><summary>NBCell@21\\n</summary>  <ul>\\n    <li>\\n<span><span class=\"n\">idx</span>: <span class=\"v number\">21</span></span>    </li>\\n    <li>\\n<span><span class=\"n\">source</span>: <span class=\"v string\">display(\\n    HTML(&quot;Skipped&quot;, metadata={&#x27;skip&#x27;:True, &#x27;brd_did&#x27;:(did1 := new_id())}),\\n    HTML(&quot;Not me&quot;, metadata={&#x27;brd_did&#x27;:(did2 := new_id()…</span></span>    </li>\\n    <li>\\n<span><span class=\"n\">id</span>: <span class=\"v string\">Y200sZmlsZQ==</span></span>    </li>\\n    <li>\\n<span><span class=\"n\">cell_type</span>: <span class=\"v string\">code</span></span>    </li>\\n<details open><summary>outputs\\n</summary>      <ul>\\n<details open><summary>0\\n</summary>          <ul>\\n            <li>\\n<span><span class=\"n\">output_type</span>: <span class=\"v string\">display_data</span></span>            </li>\\n<details open><summary>data\\n</summary>              <ul>\\n                <li>\\n<span><span class=\"n\">text/plain</span>: <span class=\"v string\">&lt;IPython.core.display.HTML object&gt;</span></span>                </li>\\n                <li>\\n<span><span class=\"n\">text/html</span>: <span class=\"v string\">Skipped</span></span>                </li>\\n              </ul>\\n</details>            <li>\\n<span><span class=\"n\">metadata</span>: <span class=\"v \">{&#x27;text/html&#x27;: {&#x27;skip&#x27;: True, &#x27;brd_did&#x27;: &#x27;b56da8325-869b1cf1-a7f1988f-5b4e301e&#x27;}}</span></span>            </li>\\n          </ul>\\n</details><details open><summary>1\\n</summary>          <ul>\\n            <li>\\n<span><span class=\"n\">output_type</span>: <span class=\"v string\">display_data</span></span>            </li>\\n<details open><summary>data\\n</summary>              <ul>\\n                <li>\\n<span><span class=\"n\">text/plain</span>: <span class=\"v string\">&lt;IPython.core.display.HTML object&gt;</span></span>                </li>\\n                <li>\\n<span><span class=\"n\">text/html</span>: <span class=\"v string\">Not me\\n&lt;brd-mark id=&quot;b4330abfd-0b965cf1-8cc02002-84f6dcd5&quot;&gt;&lt;/brd-mark&gt;</span></span>                </li>\\n              </ul>\\n</details>            <li>\\n<span><span class=\"n\">metadata</span>: <span class=\"v \">{&#x27;brd_did&#x27;: &#x27;b4330abfd-0b965cf1-8cc02002-84f6dcd5&#x27;}</span></span>            </li>\\n          </ul>\\n</details>      </ul>\\n</details>    <li>\\n<span><span class=\"n\">execution_count</span>: <span class=\"v number\">71</span></span>    </li>\\n  </ul>\\n</details>',\n",
       "    'text/markdown': '> code\\n\\n```json\\n{\\n  \\'idx\\': 21,\\n  \\'source\\': \\'display(\\\\n    HTML(\"Skipped\", metadata={\\\\\\'skip\\\\\\':True, \\\\\\'brd_did\\\\\\':(did1 := new_id())}),\\\\n    HTML(\"Not me\", metadata={\\\\\\'brd_did\\\\\\':(did2 := new_id())}),\\\\n)\\',\\n  \\'id\\': \\'Y200sZmlsZQ==\\',\\n  \\'cell_type\\': \\'code\\',\\n  \\'outputs\\': [\\n    {\\n      \\'output_type\\': \\'display_data\\',\\n      \\'data\\': {\\'text/plain\\': \\'<IPython.core.display.HTML object>\\', \\'text/html\\': \\'Skipped\\'},\\n      \\'metadata\\': {\\'text/html\\': {\\'skip\\': True, \\'brd_did\\': \\'b56da8325-869b1cf1-a7f1988f-5b4e301e\\'}}\\n    },\\n    {\\n      \\'output_type\\': \\'display_data\\',\\n      \\'data\\': {\\n        \\'text/plain\\': \\'<IPython.core.display.HTML object>\\',\\n        \\'text/html\\': \\'Not me\\\\n<brd-mark id=\"b4330abfd-0b965cf1-8cc02002-84f6dcd5\"></brd-mark>\\'\\n      },\\n      \\'metadata\\': {\\'brd_did\\': \\'b4330abfd-0b965cf1-8cc02002-84f6dcd5\\'}\\n    }\\n  ],\\n  \\'execution_count\\': 71\\n}\\n```'},\n",
       "   'metadata': {}}],\n",
       " 'execution_count': 72}"
      ]
     },
     "metadata": {},
     "output_type": "display_data"
    },
    {
     "data": {
      "text/html": [
       "<style>details ul { list-style-type:none; list-style-position: outside; padding-inline-start: 22px; margin: 0; } details .string { color: #24837b; } details .string::before { content: \"'\"; } details .string::after { content: \"'\"; } details .number { color: #ad8301; } details .true { color: blue; } details .false { color: red; } details .null { color: gray; } span.n { color: darkgrey; } </style>\n",
       "<details open><summary>NBCell@23\n",
       "</summary>  <ul>\n",
       "    <li>\n",
       "<span><span class=\"n\">idx</span>: <span class=\"v number\">23</span></span>    </li>\n",
       "    <li>\n",
       "<span><span class=\"n\">source</span>: <span class=\"v string\">bridge_cfg.auto_id = True\n",
       "\n",
       "display(HTML(&quot;&lt;div&gt;I&#x27;m auto-id&#x27;d--&lt;/div&gt;&quot;))</span></span>    </li>\n",
       "    <li>\n",
       "<span><span class=\"n\">id</span>: <span class=\"v string\">Y204sZmlsZQ==</span></span>    </li>\n",
       "    <li>\n",
       "<span><span class=\"n\">cell_type</span>: <span class=\"v string\">code</span></span>    </li>\n",
       "<details open><summary>outputs\n",
       "</summary>      <ul>\n",
       "<details open><summary>0\n",
       "</summary>          <ul>\n",
       "            <li>\n",
       "<span><span class=\"n\">output_type</span>: <span class=\"v string\">display_data</span></span>            </li>\n",
       "<details open><summary>data\n",
       "</summary>              <ul>\n",
       "                <li>\n",
       "<span><span class=\"n\">text/html</span>: <span class=\"v string\">&lt;div&gt;--as shown above.&lt;/div&gt;\n",
       "&lt;brd-mark id=&quot;bf87d4115-ce89146e-37159004-5797ec4c&quot;&gt;&lt;/brd-mark&gt;</span></span>                </li>\n",
       "              </ul>\n",
       "</details>            <li>\n",
       "<span><span class=\"n\">metadata</span>: <span class=\"v \">{&#x27;brd_did&#x27;: &#x27;bf87d4115-ce89146e-37159004-5797ec4c&#x27;}</span></span>            </li>\n",
       "          </ul>\n",
       "</details>      </ul>\n",
       "</details>    <li>\n",
       "<span><span class=\"n\">execution_count</span>: <span class=\"v number\">73</span></span>    </li>\n",
       "  </ul>\n",
       "</details>"
      ],
      "text/markdown": [
       "> code\n",
       "\n",
       "```json\n",
       "{\n",
       "  'idx': 23,\n",
       "  'source': 'bridge_cfg.auto_id = True\\n\\ndisplay(HTML(\"<div>I\\'m auto-id\\'d--</div>\"))',\n",
       "  'id': 'Y204sZmlsZQ==',\n",
       "  'cell_type': 'code',\n",
       "  'outputs': [\n",
       "    {\n",
       "      'output_type': 'display_data',\n",
       "      'data': {\n",
       "        'text/html': '<div>--as shown above.</div>\\n<brd-mark id=\"bf87d4115-ce89146e-37159004-5797ec4c\"></brd-mark>'\n",
       "      },\n",
       "      'metadata': {'brd_did': 'bf87d4115-ce89146e-37159004-5797ec4c'}\n",
       "    }\n",
       "  ],\n",
       "  'execution_count': 73\n",
       "}\n",
       "```"
      ],
      "text/plain": [
       "{'idx': 23,\n",
       " 'source': 'bridge_cfg.auto_id = True\\n\\ndisplay(HTML(\"<div>I\\'m auto-id\\'d--</div>\"))',\n",
       " 'id': 'Y204sZmlsZQ==',\n",
       " 'cell_type': 'code',\n",
       " 'outputs': [{'output_type': 'display_data',\n",
       "   'data': {'text/html': '<div>--as shown above.</div>\\n<brd-mark id=\"bf87d4115-ce89146e-37159004-5797ec4c\"></brd-mark>'},\n",
       "   'metadata': {'brd_did': 'bf87d4115-ce89146e-37159004-5797ec4c'}}],\n",
       " 'execution_count': 73}"
      ]
     },
     "metadata": {},
     "output_type": "display_data"
    },
    {
     "data": {
      "text/html": [
       "<style>details ul { list-style-type:none; list-style-position: outside; padding-inline-start: 22px; margin: 0; } details .string { color: #24837b; } details .string::before { content: \"'\"; } details .string::after { content: \"'\"; } details .number { color: #ad8301; } details .true { color: blue; } details .false { color: red; } details .null { color: gray; } span.n { color: darkgrey; } </style>\n",
       "<details open><summary>NBCell@24\n",
       "</summary>  <ul>\n",
       "    <li>\n",
       "<span><span class=\"n\">idx</span>: <span class=\"v number\">24</span></span>    </li>\n",
       "    <li>\n",
       "<span><span class=\"n\">source</span>: <span class=\"v string\">brdd.dhs[-1].update(HTML(&quot;&lt;div&gt;--as shown above.&lt;/div&gt;&quot;))</span></span>    </li>\n",
       "    <li>\n",
       "<span><span class=\"n\">id</span>: <span class=\"v string\">Y205sZmlsZQ==</span></span>    </li>\n",
       "    <li>\n",
       "<span><span class=\"n\">cell_type</span>: <span class=\"v string\">code</span></span>    </li>\n",
       "<details open><summary>outputs\n",
       "</summary>      <ul></ul>\n",
       "</details>    <li>\n",
       "<span><span class=\"n\">execution_count</span>: <span class=\"v number\">74</span></span>    </li>\n",
       "  </ul>\n",
       "</details>"
      ],
      "text/markdown": [
       "> code\n",
       "\n",
       "```json\n",
       "{\n",
       "  'idx': 24,\n",
       "  'source': 'brdd.dhs[-1].update(HTML(\"<div>--as shown above.</div>\"))',\n",
       "  'id': 'Y205sZmlsZQ==',\n",
       "  'cell_type': 'code',\n",
       "  'outputs': [],\n",
       "  'execution_count': 74\n",
       "}\n",
       "```"
      ],
      "text/plain": [
       "{'idx': 24,\n",
       " 'source': 'brdd.dhs[-1].update(HTML(\"<div>--as shown above.</div>\"))',\n",
       " 'id': 'Y205sZmlsZQ==',\n",
       " 'cell_type': 'code',\n",
       " 'outputs': [],\n",
       " 'execution_count': 74}"
      ]
     },
     "metadata": {},
     "output_type": "display_data"
    },
    {
     "data": {
      "text/html": [
       "<style>details ul { list-style-type:none; list-style-position: outside; padding-inline-start: 22px; margin: 0; } details .string { color: #24837b; } details .string::before { content: \"'\"; } details .string::after { content: \"'\"; } details .number { color: #ad8301; } details .true { color: blue; } details .false { color: red; } details .null { color: gray; } span.n { color: darkgrey; } </style>\n",
       "<details open><summary>NBCell@25\n",
       "</summary>  <ul>\n",
       "    <li>\n",
       "<span><span class=\"n\">idx</span>: <span class=\"v number\">25</span></span>    </li>\n",
       "    <li>\n",
       "<span><span class=\"n\">source</span>: <span class=\"v string\">display(Markdown(f&quot;## did\\n???&quot;))</span></span>    </li>\n",
       "    <li>\n",
       "<span><span class=\"n\">id</span>: <span class=\"v string\">Y206sZmlsZQ==</span></span>    </li>\n",
       "    <li>\n",
       "<span><span class=\"n\">cell_type</span>: <span class=\"v string\">code</span></span>    </li>\n",
       "<details open><summary>outputs\n",
       "</summary>      <ul>\n",
       "<details open><summary>0\n",
       "</summary>          <ul>\n",
       "            <li>\n",
       "<span><span class=\"n\">output_type</span>: <span class=\"v string\">display_data</span></span>            </li>\n",
       "<details open><summary>data\n",
       "</summary>              <ul>\n",
       "                <li>\n",
       "<span><span class=\"n\">text/markdown</span>: <span class=\"v string\">## did\n",
       "???</span></span>                </li>\n",
       "                <li>\n",
       "<span><span class=\"n\">text/html</span>: <span class=\"v string\">&lt;b&gt;did&lt;/b&gt;: b81908465-ad751c07-d04b5c51-02872b74\n",
       "&lt;brd-mark id=&quot;b81908465-ad751c07-d04b5c51-02872b74&quot;&gt;&lt;/brd-mark&gt;</span></span>                </li>\n",
       "                <li>\n",
       "<span><span class=\"n\">application/json</span>: <span class=\"v \">{&#x27;did&#x27;: &#x27;b81908465-ad751c07-d04b5c51-02872b74&#x27;}</span></span>                </li>\n",
       "              </ul>\n",
       "</details>            <li>\n",
       "<span><span class=\"n\">metadata</span>: <span class=\"v \">{&#x27;brd_did&#x27;: &#x27;b81908465-ad751c07-d04b5c51-02872b74&#x27;, &#x27;application/json&#x27;: {&#x27;expanded&#x27;: False, &#x27;root&#x27;: &#x27;root&#x27;}}</span></span>            </li>\n",
       "          </ul>\n",
       "</details>      </ul>\n",
       "</details>    <li>\n",
       "<span><span class=\"n\">execution_count</span>: <span class=\"v number\">75</span></span>    </li>\n",
       "  </ul>\n",
       "</details>"
      ],
      "text/markdown": [
       "> code\n",
       "\n",
       "```json\n",
       "{\n",
       "  'idx': 25,\n",
       "  'source': 'display(Markdown(f\"## did\\\\n???\"))',\n",
       "  'id': 'Y206sZmlsZQ==',\n",
       "  'cell_type': 'code',\n",
       "  'outputs': [\n",
       "    {\n",
       "      'output_type': 'display_data',\n",
       "      'data': {\n",
       "        'text/markdown': '## did\\n???',\n",
       "        'text/html': '<b>did</b>: b81908465-ad751c07-d04b5c51-02872b74\\n<brd-mark id=\"b81908465-ad751c07-d04b5c51-02872b74\"></brd-mark>',\n",
       "        'application/json': {'did': 'b81908465-ad751c07-d04b5c51-02872b74'}\n",
       "      },\n",
       "      'metadata': {\n",
       "        'brd_did': 'b81908465-ad751c07-d04b5c51-02872b74',\n",
       "        'application/json': {'expanded': False, 'root': 'root'}\n",
       "      }\n",
       "    }\n",
       "  ],\n",
       "  'execution_count': 75\n",
       "}\n",
       "```"
      ],
      "text/plain": [
       "{'idx': 25,\n",
       " 'source': 'display(Markdown(f\"## did\\\\n???\"))',\n",
       " 'id': 'Y206sZmlsZQ==',\n",
       " 'cell_type': 'code',\n",
       " 'outputs': [{'output_type': 'display_data',\n",
       "   'data': {'text/markdown': '## did\\n???',\n",
       "    'text/html': '<b>did</b>: b81908465-ad751c07-d04b5c51-02872b74\\n<brd-mark id=\"b81908465-ad751c07-d04b5c51-02872b74\"></brd-mark>',\n",
       "    'application/json': {'did': 'b81908465-ad751c07-d04b5c51-02872b74'}},\n",
       "   'metadata': {'brd_did': 'b81908465-ad751c07-d04b5c51-02872b74',\n",
       "    'application/json': {'expanded': False, 'root': 'root'}}}],\n",
       " 'execution_count': 75}"
      ]
     },
     "metadata": {},
     "output_type": "display_data"
    },
    {
     "data": {
      "text/html": [
       "<style>details ul { list-style-type:none; list-style-position: outside; padding-inline-start: 22px; margin: 0; } details .string { color: #24837b; } details .string::before { content: \"'\"; } details .string::after { content: \"'\"; } details .number { color: #ad8301; } details .true { color: blue; } details .false { color: red; } details .null { color: gray; } span.n { color: darkgrey; } </style>\n",
       "<details open><summary>NBCell@26\n",
       "</summary>  <ul>\n",
       "    <li>\n",
       "<span><span class=\"n\">idx</span>: <span class=\"v number\">26</span></span>    </li>\n",
       "    <li>\n",
       "<span><span class=\"n\">source</span>: <span class=\"v string\">dh = brdd.dhs[-1]\n",
       "dh.update(HTML(f&quot;&lt;b&gt;did&lt;/b&gt;: {dh.display_id}&quot;))</span></span>    </li>\n",
       "    <li>\n",
       "<span><span class=\"n\">id</span>: <span class=\"v string\">Y210sZmlsZQ==</span></span>    </li>\n",
       "    <li>\n",
       "<span><span class=\"n\">cell_type</span>: <span class=\"v string\">code</span></span>    </li>\n",
       "<details open><summary>outputs\n",
       "</summary>      <ul></ul>\n",
       "</details>    <li>\n",
       "<span><span class=\"n\">execution_count</span>: <span class=\"v number\">76</span></span>    </li>\n",
       "  </ul>\n",
       "</details>"
      ],
      "text/markdown": [
       "> code\n",
       "\n",
       "```json\n",
       "{\n",
       "  'idx': 26,\n",
       "  'source': 'dh = brdd.dhs[-1]\\ndh.update(HTML(f\"<b>did</b>: {dh.display_id}\"))',\n",
       "  'id': 'Y210sZmlsZQ==',\n",
       "  'cell_type': 'code',\n",
       "  'outputs': [],\n",
       "  'execution_count': 76\n",
       "}\n",
       "```"
      ],
      "text/plain": [
       "{'idx': 26,\n",
       " 'source': 'dh = brdd.dhs[-1]\\ndh.update(HTML(f\"<b>did</b>: {dh.display_id}\"))',\n",
       " 'id': 'Y210sZmlsZQ==',\n",
       " 'cell_type': 'code',\n",
       " 'outputs': [],\n",
       " 'execution_count': 76}"
      ]
     },
     "metadata": {},
     "output_type": "display_data"
    },
    {
     "data": {
      "text/html": [
       "<style>details ul { list-style-type:none; list-style-position: outside; padding-inline-start: 22px; margin: 0; } details .string { color: #24837b; } details .string::before { content: \"'\"; } details .string::after { content: \"'\"; } details .number { color: #ad8301; } details .true { color: blue; } details .false { color: red; } details .null { color: gray; } span.n { color: darkgrey; } </style>\n",
       "<details open><summary>NBCell@27\n",
       "</summary>  <ul>\n",
       "    <li>\n",
       "<span><span class=\"n\">idx</span>: <span class=\"v number\">27</span></span>    </li>\n",
       "    <li>\n",
       "<span><span class=\"n\">source</span>: <span class=\"v string\">dh.update(JSON({&#x27;did&#x27;: dh.display_id}))</span></span>    </li>\n",
       "    <li>\n",
       "<span><span class=\"n\">id</span>: <span class=\"v string\">Y211sZmlsZQ==</span></span>    </li>\n",
       "    <li>\n",
       "<span><span class=\"n\">cell_type</span>: <span class=\"v string\">code</span></span>    </li>\n",
       "<details open><summary>outputs\n",
       "</summary>      <ul></ul>\n",
       "</details>    <li>\n",
       "<span><span class=\"n\">execution_count</span>: <span class=\"v number\">77</span></span>    </li>\n",
       "  </ul>\n",
       "</details>"
      ],
      "text/markdown": [
       "> code\n",
       "\n",
       "```json\n",
       "{\n",
       "  'idx': 27,\n",
       "  'source': \"dh.update(JSON({'did': dh.display_id}))\",\n",
       "  'id': 'Y211sZmlsZQ==',\n",
       "  'cell_type': 'code',\n",
       "  'outputs': [],\n",
       "  'execution_count': 77\n",
       "}\n",
       "```"
      ],
      "text/plain": [
       "{'idx': 27,\n",
       " 'source': \"dh.update(JSON({'did': dh.display_id}))\",\n",
       " 'id': 'Y211sZmlsZQ==',\n",
       " 'cell_type': 'code',\n",
       " 'outputs': [],\n",
       " 'execution_count': 77}"
      ]
     },
     "metadata": {},
     "output_type": "display_data"
    },
    {
     "data": {
      "text/html": [
       "<style>details ul { list-style-type:none; list-style-position: outside; padding-inline-start: 22px; margin: 0; } details .string { color: #24837b; } details .string::before { content: \"'\"; } details .string::after { content: \"'\"; } details .number { color: #ad8301; } details .true { color: blue; } details .false { color: red; } details .null { color: gray; } span.n { color: darkgrey; } </style>\n",
       "<details open><summary>NBCell@28\n",
       "</summary>  <ul>\n",
       "    <li>\n",
       "<span><span class=\"n\">idx</span>: <span class=\"v number\">28</span></span>    </li>\n",
       "    <li>\n",
       "<span><span class=\"n\">source</span>: <span class=\"v string\">dhs = []\n",
       "for i in range(5): \n",
       "    display(f&#x27;{i=}&#x27;)\n",
       "    dhs.append(brdd.dhs[-1])</span></span>    </li>\n",
       "    <li>\n",
       "<span><span class=\"n\">id</span>: <span class=\"v string\">Y212sZmlsZQ==</span></span>    </li>\n",
       "    <li>\n",
       "<span><span class=\"n\">cell_type</span>: <span class=\"v string\">code</span></span>    </li>\n",
       "<details open><summary>outputs\n",
       "</summary>      <ul>\n",
       "<details open><summary>0\n",
       "</summary>          <ul>\n",
       "            <li>\n",
       "<span><span class=\"n\">output_type</span>: <span class=\"v string\">display_data</span></span>            </li>\n",
       "<details open><summary>data\n",
       "</summary>              <ul></ul>\n",
       "</details>            <li>\n",
       "<span><span class=\"n\">metadata</span>: <span class=\"v \">{&#x27;brd_did&#x27;: &#x27;bbbb5f877-1a3e93e9-452f714d-e687ff68&#x27;}</span></span>            </li>\n",
       "          </ul>\n",
       "</details><details open><summary>1\n",
       "</summary>          <ul>\n",
       "            <li>\n",
       "<span><span class=\"n\">output_type</span>: <span class=\"v string\">display_data</span></span>            </li>\n",
       "<details open><summary>data\n",
       "</summary>              <ul></ul>\n",
       "</details>            <li>\n",
       "<span><span class=\"n\">metadata</span>: <span class=\"v \">{&#x27;brd_did&#x27;: &#x27;b089b7750-2aac4fb7-5e0003b7-afdff494&#x27;}</span></span>            </li>\n",
       "          </ul>\n",
       "</details><details open><summary>2\n",
       "</summary>          <ul>\n",
       "            <li>\n",
       "<span><span class=\"n\">output_type</span>: <span class=\"v string\">display_data</span></span>            </li>\n",
       "<details open><summary>data\n",
       "</summary>              <ul></ul>\n",
       "</details>            <li>\n",
       "<span><span class=\"n\">metadata</span>: <span class=\"v \">{&#x27;brd_did&#x27;: &#x27;beb23382b-3c1a8086-7dc7d242-e5307a9c&#x27;}</span></span>            </li>\n",
       "          </ul>\n",
       "</details><details open><summary>3\n",
       "</summary>          <ul>\n",
       "            <li>\n",
       "<span><span class=\"n\">output_type</span>: <span class=\"v string\">display_data</span></span>            </li>\n",
       "<details open><summary>data\n",
       "</summary>              <ul></ul>\n",
       "</details>            <li>\n",
       "<span><span class=\"n\">metadata</span>: <span class=\"v \">{&#x27;brd_did&#x27;: &#x27;b80babdb0-0ddad849-31eaa4a5-297e89c8&#x27;}</span></span>            </li>\n",
       "          </ul>\n",
       "</details><details open><summary>4\n",
       "</summary>          <ul>\n",
       "            <li>\n",
       "<span><span class=\"n\">output_type</span>: <span class=\"v string\">display_data</span></span>            </li>\n",
       "<details open><summary>data\n",
       "</summary>              <ul></ul>\n",
       "</details>            <li>\n",
       "<span><span class=\"n\">metadata</span>: <span class=\"v \">{&#x27;brd_did&#x27;: &#x27;b33502a54-1f1f7a9f-df573284-cbbaeaeb&#x27;}</span></span>            </li>\n",
       "          </ul>\n",
       "</details>      </ul>\n",
       "</details>    <li>\n",
       "<span><span class=\"n\">execution_count</span>: <span class=\"v number\">78</span></span>    </li>\n",
       "  </ul>\n",
       "</details>"
      ],
      "text/markdown": [
       "> code\n",
       "\n",
       "```json\n",
       "{\n",
       "  'idx': 28,\n",
       "  'source': \"dhs = []\\nfor i in range(5): \\n    display(f'{i=}')\\n    dhs.append(brdd.dhs[-1])\",\n",
       "  'id': 'Y212sZmlsZQ==',\n",
       "  'cell_type': 'code',\n",
       "  'outputs': [\n",
       "    {'output_type': 'display_data', 'data': {}, 'metadata': {'brd_did': 'bbbb5f877-1a3e93e9-452f714d-e687ff68'}},\n",
       "    {'output_type': 'display_data', 'data': {}, 'metadata': {'brd_did': 'b089b7750-2aac4fb7-5e0003b7-afdff494'}},\n",
       "    {'output_type': 'display_data', 'data': {}, 'metadata': {'brd_did': 'beb23382b-3c1a8086-7dc7d242-e5307a9c'}},\n",
       "    {'output_type': 'display_data', 'data': {}, 'metadata': {'brd_did': 'b80babdb0-0ddad849-31eaa4a5-297e89c8'}},\n",
       "    {'output_type': 'display_data', 'data': {}, 'metadata': {'brd_did': 'b33502a54-1f1f7a9f-df573284-cbbaeaeb'}}\n",
       "  ],\n",
       "  'execution_count': 78\n",
       "}\n",
       "```"
      ],
      "text/plain": [
       "{'idx': 28,\n",
       " 'source': \"dhs = []\\nfor i in range(5): \\n    display(f'{i=}')\\n    dhs.append(brdd.dhs[-1])\",\n",
       " 'id': 'Y212sZmlsZQ==',\n",
       " 'cell_type': 'code',\n",
       " 'outputs': [{'output_type': 'display_data',\n",
       "   'data': {},\n",
       "   'metadata': {'brd_did': 'bbbb5f877-1a3e93e9-452f714d-e687ff68'}},\n",
       "  {'output_type': 'display_data',\n",
       "   'data': {},\n",
       "   'metadata': {'brd_did': 'b089b7750-2aac4fb7-5e0003b7-afdff494'}},\n",
       "  {'output_type': 'display_data',\n",
       "   'data': {},\n",
       "   'metadata': {'brd_did': 'beb23382b-3c1a8086-7dc7d242-e5307a9c'}},\n",
       "  {'output_type': 'display_data',\n",
       "   'data': {},\n",
       "   'metadata': {'brd_did': 'b80babdb0-0ddad849-31eaa4a5-297e89c8'}},\n",
       "  {'output_type': 'display_data',\n",
       "   'data': {},\n",
       "   'metadata': {'brd_did': 'b33502a54-1f1f7a9f-df573284-cbbaeaeb'}}],\n",
       " 'execution_count': 78}"
      ]
     },
     "metadata": {},
     "output_type": "display_data"
    },
    {
     "data": {
      "text/html": [
       "<style>details ul { list-style-type:none; list-style-position: outside; padding-inline-start: 22px; margin: 0; } details .string { color: #24837b; } details .string::before { content: \"'\"; } details .string::after { content: \"'\"; } details .number { color: #ad8301; } details .true { color: blue; } details .false { color: red; } details .null { color: gray; } span.n { color: darkgrey; } </style>\n",
       "<details open><summary>NBCell@29\n",
       "</summary>  <ul>\n",
       "    <li>\n",
       "<span><span class=\"n\">idx</span>: <span class=\"v number\">29</span></span>    </li>\n",
       "    <li>\n",
       "<span><span class=\"n\">source</span>: <span class=\"v string\">for i in range(5): \n",
       "    dhs[i].update(f&#x27;{i+1=}&#x27;)</span></span>    </li>\n",
       "    <li>\n",
       "<span><span class=\"n\">id</span>: <span class=\"v string\">Y213sZmlsZQ==</span></span>    </li>\n",
       "    <li>\n",
       "<span><span class=\"n\">cell_type</span>: <span class=\"v string\">code</span></span>    </li>\n",
       "<details open><summary>outputs\n",
       "</summary>      <ul></ul>\n",
       "</details>    <li>\n",
       "<span><span class=\"n\">execution_count</span>: <span class=\"v number\">79</span></span>    </li>\n",
       "  </ul>\n",
       "</details>"
      ],
      "text/markdown": [
       "> code\n",
       "\n",
       "```json\n",
       "{\n",
       "  'idx': 29,\n",
       "  'source': \"for i in range(5): \\n    dhs[i].update(f'{i+1=}')\",\n",
       "  'id': 'Y213sZmlsZQ==',\n",
       "  'cell_type': 'code',\n",
       "  'outputs': [],\n",
       "  'execution_count': 79\n",
       "}\n",
       "```"
      ],
      "text/plain": [
       "{'idx': 29,\n",
       " 'source': \"for i in range(5): \\n    dhs[i].update(f'{i+1=}')\",\n",
       " 'id': 'Y213sZmlsZQ==',\n",
       " 'cell_type': 'code',\n",
       " 'outputs': [],\n",
       " 'execution_count': 79}"
      ]
     },
     "metadata": {},
     "output_type": "display_data"
    },
    {
     "data": {
      "text/html": [
       "<style>details ul { list-style-type:none; list-style-position: outside; padding-inline-start: 22px; margin: 0; } details .string { color: #24837b; } details .string::before { content: \"'\"; } details .string::after { content: \"'\"; } details .number { color: #ad8301; } details .true { color: blue; } details .false { color: red; } details .null { color: gray; } span.n { color: darkgrey; } </style>\n",
       "<details open><summary>NBCell@30\n",
       "</summary>  <ul>\n",
       "    <li>\n",
       "<span><span class=\"n\">idx</span>: <span class=\"v number\">30</span></span>    </li>\n",
       "    <li>\n",
       "<span><span class=\"n\">source</span>: <span class=\"v string\">brdd.dhs.clear()\n",
       "brdd.stop()\n",
       "csi.stop()\n",
       "bridge_cfg.auto_id = False</span></span>    </li>\n",
       "    <li>\n",
       "<span><span class=\"n\">id</span>: <span class=\"v string\">Y214sZmlsZQ==</span></span>    </li>\n",
       "    <li>\n",
       "<span><span class=\"n\">cell_type</span>: <span class=\"v string\">code</span></span>    </li>\n",
       "<details open><summary>outputs\n",
       "</summary>      <ul></ul>\n",
       "</details>  </ul>\n",
       "</details>"
      ],
      "text/markdown": [
       "> code\n",
       "\n",
       "```json\n",
       "{\n",
       "  'idx': 30,\n",
       "  'source': 'brdd.dhs.clear()\\nbrdd.stop()\\ncsi.stop()\\nbridge_cfg.auto_id = False',\n",
       "  'id': 'Y214sZmlsZQ==',\n",
       "  'cell_type': 'code',\n",
       "  'outputs': []\n",
       "}\n",
       "```"
      ],
      "text/plain": [
       "{'idx': 30,\n",
       " 'source': 'brdd.dhs.clear()\\nbrdd.stop()\\ncsi.stop()\\nbridge_cfg.auto_id = False',\n",
       " 'id': 'Y214sZmlsZQ==',\n",
       " 'cell_type': 'code',\n",
       " 'outputs': []}"
      ]
     },
     "metadata": {},
     "output_type": "display_data"
    }
   ],
   "source": [
    "for c in __nb__.cells: display(c)"
   ]
  },
  {
   "cell_type": "markdown",
   "id": "fa6f19a6",
   "metadata": {},
   "source": [
    "# OutputCapture\n",
    "\n",
    "Bridget goal is to control (at least) all HTML output. Bridge can now set metadata of any display message, those that go through display_pub. Bridge captures all `display`, direct or FastHTML bridge.  \n",
    "But there's other way to produce output that doesn't follow the display_pub path: auto display of cell's final expression. That goes through another code path, display_hook.  \n",
    "Here Bridget leverage IPython's own capture mechanism to intercept cell results and redirect to display, a path that Bridge already control.\n",
    "\n",
    "Bridge just captures cell outputs, not stdout/err (yet)"
   ]
  },
  {
   "cell_type": "code",
   "execution_count": 83,
   "id": "b6b12c92",
   "metadata": {
    "brd": {
     "id": "6d5d634f-e09b-487b-8d51-956aadbc19b7",
     "renderer": false
    }
   },
   "outputs": [],
   "source": [
    "def _transform(lines):\n",
    "    \"Input transformer function\"\n",
    "    cpt = get_capturer()\n",
    "    if not lines or cpt._capturing or cpt._debugging: return lines\n",
    "    if DEBUG(): cpt._lines.append(lines)\n",
    "    if lines[0].startswith('import debugpy'):\n",
    "        cpt._debugging = True\n",
    "        return lines\n",
    "    elif lines[0].startswith('import debugpy;debugpy.listen('): return lines\n",
    "    elif lines[0].startswith('import debugpy\\ndebugpy.debug_this_thread()'): return lines\n",
    "    elif lines[0].startswith('def __jupyter_exec_background__()'): return lines\n",
    "    elif lines[0].startswith('import builtins') and lines[1].startswith('import ipykernel'): return lines\n",
    "    elif lines[0].startswith('import os as _VSCODE_os') and lines[1].startswith('_VSCODE_fileList ='): return lines\n",
    "    return ['get_capturer()(%r)\\n' % ''.join(lines)]\n",
    "_transform.has_side_effects = False\n",
    "\n",
    "\n",
    "class OutputCapture:\n",
    "    shell: InteractiveShell\n",
    "    def __init__(self):\n",
    "        super().__init__()\n",
    "        self._active, self.shell = False, get_ipython()  # type: ignore\n",
    "        if DEBUG(): self._captures = deque(maxlen=100); self._lines = deque(maxlen=100)\n",
    "        self._capturing, self._debugging, self.run_outputs = False, False, []\n",
    "        self.displayhook = CapturingDisplayHook(shell=self.shell, outputs=self.run_outputs)\n",
    "    @property\n",
    "    def active(self): return self._active\n",
    "    def start(self):\n",
    "        if self._active: return\n",
    "        self._active = True\n",
    "        self.shell.user_ns['get_capturer'] = get_capturer\n",
    "        if DEBUG(): self._captures = deque(maxlen=100)\n",
    "        # shell.input_transformer_manager.line_transforms.append(_transform)\n",
    "        self.shell.input_transformers_post.append(_transform)\n",
    "    def stop(self):\n",
    "        if not self._active: return\n",
    "        self._active = False\n",
    "        # try: shell.input_transformer_manager.line_transforms.remove(_transform)\n",
    "        try: self.shell.input_transformers_post.remove(_transform)\n",
    "        except (ValueError, NameError): pass\n",
    "    def __del__(self): self.stop()\n",
    "\n",
    "    @contextmanager\n",
    "    def _capture(self):\n",
    "        self.run_outputs.clear()\n",
    "        try: \n",
    "            save_display_hook, sys.displayhook = sys.displayhook, self.displayhook\n",
    "            self._capturing = True\n",
    "            yield CapturedIO(stdout=None, stderr=None, outputs=self.run_outputs)\n",
    "        finally: \n",
    "            self._capturing = False\n",
    "            sys.displayhook = save_display_hook\n",
    "    def __call__(self, cell):\n",
    "        info: AD = self.shell.user_ns.get('__cellinfo__')  # type: ignore\n",
    "        with self._capture() as io:\n",
    "            self.shell.run_cell(cell, cell_id=info.cell_id)\n",
    "        if DEBUG(): self._captures.append([cell, io._outputs.copy()])\n",
    "        if io._outputs: \n",
    "            assert len(io._outputs) <= 1, \"Only one output is supported\"\n",
    "            info.exec_result.result = io._outputs[-1]\n",
    "            display(io.outputs[-1], metadata={'bridge': {'captured': True}})\n",
    "    \n",
    "__capturer__ = None\n",
    "def get_capturer(start:bool=False):\n",
    "    global __capturer__\n",
    "    get_csi(True)\n",
    "    if __capturer__ is None: __capturer__ = OutputCapture()\n",
    "    if start: __capturer__.start()\n",
    "    return __capturer__"
   ]
  },
  {
   "cell_type": "code",
   "execution_count": 84,
   "id": "a4549570",
   "metadata": {
    "brd": {
     "id": "d1eb09ce-deb4-4f09-a3ad-8adf45b3270d",
     "renderer": false
    }
   },
   "outputs": [],
   "source": [
    "get_csi().stop()\n",
    "get_bridged().stop()\n",
    "get_capturer().stop()\n",
    "\n",
    "bridge_cfg.auto_id = True\n",
    "\n",
    "__nb__ = NB()  # type: ignore\n",
    "\n",
    "brdd = get_bridged(True)\n",
    "\n",
    "cptr = get_capturer(True)"
   ]
  },
  {
   "cell_type": "code",
   "execution_count": 85,
   "id": "17ac583d",
   "metadata": {
    "brd": {
     "id": "5d1f69d0-19fe-49c9-94df-165a794a5aa0"
    }
   },
   "outputs": [
    {
     "data": {
      "text/html": [
       "<div>I was 4, now I'm 44</div>"
      ],
      "text/plain": [
       "<IPython.core.display.HTML object>"
      ]
     },
     "metadata": {
      "bridge": {
       "captured": true
      }
     },
     "output_type": "display_data"
    }
   ],
   "source": [
    "1+3"
   ]
  },
  {
   "cell_type": "code",
   "execution_count": 86,
   "id": "34b4a36f",
   "metadata": {
    "brd": {
     "id": "e35f739c-4ae3-450c-8fb6-6f0e271b4e0d"
    }
   },
   "outputs": [
    {
     "data": {
      "text/html": [
       "<style>details ul { list-style-type:none; list-style-position: outside; padding-inline-start: 22px; margin: 0; } details .string { color: #24837b; } details .string::before { content: \"'\"; } details .string::after { content: \"'\"; } details .number { color: #ad8301; } details .true { color: blue; } details .false { color: red; } details .null { color: gray; } span.n { color: darkgrey; } </style>\n",
       "<details open><summary>summary\n",
       "</summary>  <ul>\n",
       "    <li>\n",
       "<span><span class=\"n\">source</span>: <span class=\"v string\">1+3</span></span>    </li>\n",
       "    <li>\n",
       "<span><span class=\"n\">cell_id</span>: <span class=\"v string\">Y224sZmlsZQ==</span></span>    </li>\n",
       "<details open><summary>exec_result\n",
       "</summary>      <ul>\n",
       "<details open><summary>result\n",
       "</summary>          <ul>\n",
       "<details open><summary>data\n",
       "</summary>              <ul>\n",
       "                <li>\n",
       "<span><span class=\"n\">text/plain</span>: <span class=\"v string\">4</span></span>                </li>\n",
       "              </ul>\n",
       "</details><details open><summary>metadata\n",
       "</summary>              <ul></ul>\n",
       "</details>          </ul>\n",
       "</details>        <li>\n",
       "<span><span class=\"n\">execution_count</span>: <span class=\"v number\">85</span></span>        </li>\n",
       "        <li>\n",
       "<span><span class=\"n\">error_before_exec</span>: <span class=\"v null\">None</span></span>        </li>\n",
       "        <li>\n",
       "<span><span class=\"n\">error_in_exec</span>: <span class=\"v null\">None</span></span>        </li>\n",
       "      </ul>\n",
       "</details>  </ul>\n",
       "</details>\n",
       "<brd-mark id=\"b6147a095-f33a50d7-bc4338b5-c829dfaa\"></brd-mark>"
      ],
      "text/plain": [
       "<IPython.core.display.HTML object>"
      ]
     },
     "metadata": {},
     "output_type": "display_data"
    }
   ],
   "source": [
    "info = __lastcellinfo__\n",
    "test_eq(__nb__[__lastcellinfo__.cell_id].outputs[0].data, {'text/plain': '4'})\n",
    "test_eq(len(brdd.dhs), 1)\n",
    "show(DetailsJSON(__lastcellinfo__, openall=True))"
   ]
  },
  {
   "cell_type": "markdown",
   "id": "a5f8937b",
   "metadata": {},
   "source": [
    "`__cellinfo__.result` has a valid value only **after** the `display(...)` call. The cell with `1+3` captures the output and then displays it with `display(...)`. That occurs after the cell is executed. So, `__cellinfo__.result` is `None` during the cell execution. It's only possible to get the output after the cell has run."
   ]
  },
  {
   "cell_type": "code",
   "execution_count": 87,
   "id": "aa74818d",
   "metadata": {
    "brd": {
     "id": "186c9fc1-eab1-4441-9015-0b0ec5fdcab8"
    }
   },
   "outputs": [
    {
     "data": {
      "text/html": [
       "<div>I was asdf, now I'm qwer</div>"
      ],
      "text/plain": [
       "<IPython.core.display.HTML object>"
      ]
     },
     "metadata": {},
     "output_type": "display_data"
    }
   ],
   "source": [
    "HTML('<div>asdf</div>')"
   ]
  },
  {
   "cell_type": "code",
   "execution_count": 88,
   "id": "86b28921",
   "metadata": {
    "brd": {
     "id": "20eba537-5fe8-452d-999b-f0caf099a085",
     "renderer": false
    }
   },
   "outputs": [],
   "source": [
    "if DEBUG(): \n",
    "    output_data = get_capturer()._captures[-1][1][0]['data']\n",
    "    test_eq(output_data['text/plain'], '<IPython.core.display.HTML object>')\n",
    "    html = output_data['text/html']\n",
    "    test_eq(f'<brd-mark id=\"{brdd.dh.display_id}\"' in html, True)  # type: ignore\n",
    "test_eq(len(brdd.dhs), 3)"
   ]
  },
  {
   "cell_type": "code",
   "execution_count": 89,
   "id": "bb73c151",
   "metadata": {
    "brd": {
     "id": "a99d15d0-be18-4d98-9c4d-a60f9b384d7c"
    }
   },
   "outputs": [
    {
     "name": "stdout",
     "output_type": "stream",
     "text": [
      "10\n"
     ]
    },
    {
     "data": {
      "text/html": [
       "<div>I was 17, now I'm 177</div>"
      ],
      "text/plain": [
       "<IPython.core.display.HTML object>"
      ]
     },
     "metadata": {
      "bridge": {
       "captured": true
      }
     },
     "output_type": "display_data"
    }
   ],
   "source": [
    "print(10)\n",
    "17"
   ]
  },
  {
   "cell_type": "code",
   "execution_count": 90,
   "id": "dd6b7f08",
   "metadata": {
    "brd": {
     "id": "2450d853-3dde-4758-bce5-4fb86729afd9"
    }
   },
   "outputs": [
    {
     "ename": "ZeroDivisionError",
     "evalue": "division by zero",
     "output_type": "error",
     "traceback": [
      "\u001b[31m---------------------------------------------------------------------------\u001b[39m",
      "\u001b[31mZeroDivisionError\u001b[39m                         Traceback (most recent call last)",
      "\u001b[36mCell\u001b[39m\u001b[36m \u001b[39m\u001b[32mIn[90]\u001b[39m\u001b[32m, line 1\u001b[39m\n\u001b[32m----> \u001b[39m\u001b[32m1\u001b[39m \u001b[32;43m1\u001b[39;49m\u001b[43m/\u001b[49m\u001b[32;43m0\u001b[39;49m\n",
      "\u001b[31mZeroDivisionError\u001b[39m: division by zero"
     ]
    }
   ],
   "source": [
    "1/0"
   ]
  },
  {
   "cell_type": "code",
   "execution_count": 91,
   "id": "8c989b09",
   "metadata": {
    "brd": {
     "id": "43ceddae-6c89-4152-af65-933495e73e3f",
     "renderer": false
    }
   },
   "outputs": [],
   "source": [
    "get_bridged() .stop()\n",
    "get_csi().stop()\n",
    "get_capturer().stop()"
   ]
  },
  {
   "cell_type": "code",
   "execution_count": 92,
   "id": "ca41818c",
   "metadata": {
    "brd": {
     "id": "3bb33baa-9c61-4f09-9c75-68cc0f0c3570",
     "renderer": false
    }
   },
   "outputs": [],
   "source": [
    "brdd.dhs[0].update(HTML(\"<div>I was 4, now I'm 44</div>\"))"
   ]
  },
  {
   "cell_type": "code",
   "execution_count": 93,
   "id": "ee779e47",
   "metadata": {
    "brd": {
     "id": "1bc96667-1a4b-42e0-8e9f-4b206de50fa6",
     "renderer": false
    }
   },
   "outputs": [],
   "source": [
    "brdd.dhs[2].update(HTML(\"<div>I was asdf, now I'm qwer</div>\"))"
   ]
  },
  {
   "cell_type": "code",
   "execution_count": 94,
   "id": "c53c8f1c",
   "metadata": {
    "brd": {
     "id": "eac04f61-aec4-4e9c-81e7-610ee323fb76",
     "renderer": false
    }
   },
   "outputs": [],
   "source": [
    "brdd.dh.update(HTML(\"<div>I was 17, now I'm 177</div>\"))  # type: ignore"
   ]
  },
  {
   "cell_type": "markdown",
   "id": "10b31dd6",
   "metadata": {},
   "source": [
    "----"
   ]
  },
  {
   "cell_type": "code",
   "execution_count": 95,
   "id": "5020c85f",
   "metadata": {
    "brd": {
     "id": "7d9c941e-fca4-43f0-9ec7-f612aebd2d20"
    }
   },
   "outputs": [
    {
     "data": {
      "text/html": [
       "<pre style=\"white-space:pre;overflow-x:auto;line-height:normal;font-family:Menlo,'DejaVu Sans Mono',consolas,'Courier New',monospace\"><span style=\"font-weight: bold\">[</span><span style=\"color: #008000; text-decoration-color: #008000\">'1+3\\n'</span>, <span style=\"font-weight: bold\">[{</span><span style=\"color: #008000; text-decoration-color: #008000\">'data'</span>: <span style=\"font-weight: bold\">{</span><span style=\"color: #008000; text-decoration-color: #008000\">'text/plain'</span>: <span style=\"color: #008000; text-decoration-color: #008000\">'4'</span><span style=\"font-weight: bold\">}</span>, <span style=\"color: #008000; text-decoration-color: #008000\">'metadata'</span>: <span style=\"font-weight: bold\">{}}]]</span>\n",
       "</pre>\n"
      ],
      "text/plain": [
       "\u001b[1m[\u001b[0m\u001b[32m'1+3\\n'\u001b[0m, \u001b[1m[\u001b[0m\u001b[1m{\u001b[0m\u001b[32m'data'\u001b[0m: \u001b[1m{\u001b[0m\u001b[32m'text/plain'\u001b[0m: \u001b[32m'4'\u001b[0m\u001b[1m}\u001b[0m, \u001b[32m'metadata'\u001b[0m: \u001b[1m{\u001b[0m\u001b[1m}\u001b[0m\u001b[1m}\u001b[0m\u001b[1m]\u001b[0m\u001b[1m]\u001b[0m\n"
      ]
     },
     "metadata": {},
     "output_type": "display_data"
    },
    {
     "name": "stdout",
     "output_type": "stream",
     "text": [
      "---------\n"
     ]
    },
    {
     "data": {
      "text/html": [
       "<pre style=\"white-space:pre;overflow-x:auto;line-height:normal;font-family:Menlo,'DejaVu Sans Mono',consolas,'Courier New',monospace\"><span style=\"font-weight: bold\">[</span>\n",
       "    <span style=\"color: #008000; text-decoration-color: #008000\">\"info = __lastcellinfo__\\ntest_eq(__nb__[__lastcellinfo__.cell_id].outputs[0].data, {'text/plain': '4'})\\ntest_eq(len(brdd.dhs), </span>\n",
       "<span style=\"color: #008000; text-decoration-color: #008000\">1)\\nshow(DetailsJSON(__lastcellinfo__, openall=True))\\n\"</span>,\n",
       "    <span style=\"font-weight: bold\">[]</span>\n",
       "<span style=\"font-weight: bold\">]</span>\n",
       "</pre>\n"
      ],
      "text/plain": [
       "\u001b[1m[\u001b[0m\n",
       "    \u001b[32m\"info = __lastcellinfo__\\ntest_eq\u001b[0m\u001b[32m(\u001b[0m\u001b[32m__nb__\u001b[0m\u001b[32m[\u001b[0m\u001b[32m__lastcellinfo__.cell_id\u001b[0m\u001b[32m]\u001b[0m\u001b[32m.outputs\u001b[0m\u001b[32m[\u001b[0m\u001b[32m0\u001b[0m\u001b[32m]\u001b[0m\u001b[32m.data, \u001b[0m\u001b[32m{\u001b[0m\u001b[32m'text/plain': '4'\u001b[0m\u001b[32m}\u001b[0m\u001b[32m)\u001b[0m\u001b[32m\\ntest_eq\u001b[0m\u001b[32m(\u001b[0m\u001b[32mlen\u001b[0m\u001b[32m(\u001b[0m\u001b[32mbrdd.dhs\u001b[0m\u001b[32m)\u001b[0m\u001b[32m, \u001b[0m\n",
       "\u001b[32m1\u001b[0m\u001b[32m)\u001b[0m\u001b[32m\\nshow\u001b[0m\u001b[32m(\u001b[0m\u001b[32mDetailsJSON\u001b[0m\u001b[32m(\u001b[0m\u001b[32m__lastcellinfo__, \u001b[0m\u001b[32mopenall\u001b[0m\u001b[32m=\u001b[0m\u001b[32mTrue\u001b[0m\u001b[32m)\u001b[0m\u001b[32m)\u001b[0m\u001b[32m\\n\"\u001b[0m,\n",
       "    \u001b[1m[\u001b[0m\u001b[1m]\u001b[0m\n",
       "\u001b[1m]\u001b[0m\n"
      ]
     },
     "metadata": {},
     "output_type": "display_data"
    },
    {
     "name": "stdout",
     "output_type": "stream",
     "text": [
      "---------\n"
     ]
    },
    {
     "data": {
      "text/html": [
       "<pre style=\"white-space:pre;overflow-x:auto;line-height:normal;font-family:Menlo,'DejaVu Sans Mono',consolas,'Courier New',monospace\"><span style=\"font-weight: bold\">[</span>\n",
       "    <span style=\"color: #008000; text-decoration-color: #008000\">\"HTML('&lt;div&gt;asdf&lt;/div&gt;')\\n\"</span><span style=\"color: #000000; text-decoration-color: #000000\">,</span>\n",
       "<span style=\"color: #000000; text-decoration-color: #000000\">    </span><span style=\"color: #000000; text-decoration-color: #000000; font-weight: bold\">[</span>\n",
       "<span style=\"color: #000000; text-decoration-color: #000000\">        </span><span style=\"color: #000000; text-decoration-color: #000000; font-weight: bold\">{</span>\n",
       "<span style=\"color: #000000; text-decoration-color: #000000\">            </span><span style=\"color: #008000; text-decoration-color: #008000\">'data'</span><span style=\"color: #000000; text-decoration-color: #000000\">: </span><span style=\"color: #000000; text-decoration-color: #000000; font-weight: bold\">{</span>\n",
       "<span style=\"color: #000000; text-decoration-color: #000000\">                </span><span style=\"color: #008000; text-decoration-color: #008000\">'text/plain'</span><span style=\"color: #000000; text-decoration-color: #000000\">: </span><span style=\"color: #008000; text-decoration-color: #008000\">'&lt;IPython.core.display.HTML object&gt;'</span><span style=\"color: #000000; text-decoration-color: #000000\">,</span>\n",
       "<span style=\"color: #000000; text-decoration-color: #000000\">                </span><span style=\"color: #008000; text-decoration-color: #008000\">'text/html'</span><span style=\"color: #000000; text-decoration-color: #000000\">: </span><span style=\"color: #008000; text-decoration-color: #008000\">'&lt;div&gt;asdf&lt;/div&gt;\\n&lt;brd-mark id=\"b8682f22d-1f76bc82-bd29346e-2ff95e8c\"&gt;&lt;/brd-mark&gt;'</span>\n",
       "            <span style=\"font-weight: bold\">}</span>,\n",
       "            <span style=\"color: #008000; text-decoration-color: #008000\">'metadata'</span>: <span style=\"font-weight: bold\">{}</span>\n",
       "        <span style=\"font-weight: bold\">}</span>\n",
       "    <span style=\"font-weight: bold\">]</span>\n",
       "<span style=\"font-weight: bold\">]</span>\n",
       "</pre>\n"
      ],
      "text/plain": [
       "\u001b[1m[\u001b[0m\n",
       "    \u001b[32m\"HTML\u001b[0m\u001b[32m(\u001b[0m\u001b[32m'\u001b[0m\u001b[32m<\u001b[0m\u001b[32mdiv\u001b[0m\u001b[32m>asdf</div>'\u001b[0m\u001b[32m)\u001b[0m\u001b[32m\\n\"\u001b[0m\u001b[39m,\u001b[0m\n",
       "\u001b[39m    \u001b[0m\u001b[1;39m[\u001b[0m\n",
       "\u001b[39m        \u001b[0m\u001b[1;39m{\u001b[0m\n",
       "\u001b[39m            \u001b[0m\u001b[32m'data'\u001b[0m\u001b[39m: \u001b[0m\u001b[1;39m{\u001b[0m\n",
       "\u001b[39m                \u001b[0m\u001b[32m'text/plain'\u001b[0m\u001b[39m: \u001b[0m\u001b[32m'<IPython.core.display.HTML object>'\u001b[0m\u001b[39m,\u001b[0m\n",
       "\u001b[39m                \u001b[0m\u001b[32m'text/html'\u001b[0m\u001b[39m: \u001b[0m\u001b[32m'<div>asdf</div>\\n<brd-mark \u001b[0m\u001b[32mid\u001b[0m\u001b[32m=\u001b[0m\u001b[32m\"b8682f22d\u001b[0m\u001b[32m-1f76bc82-bd29346e-2ff95e8c\"></brd-mark\u001b[0m\u001b[32m>\u001b[0m\u001b[32m'\u001b[0m\n",
       "            \u001b[1m}\u001b[0m,\n",
       "            \u001b[32m'metadata'\u001b[0m: \u001b[1m{\u001b[0m\u001b[1m}\u001b[0m\n",
       "        \u001b[1m}\u001b[0m\n",
       "    \u001b[1m]\u001b[0m\n",
       "\u001b[1m]\u001b[0m\n"
      ]
     },
     "metadata": {},
     "output_type": "display_data"
    },
    {
     "name": "stdout",
     "output_type": "stream",
     "text": [
      "---------\n"
     ]
    },
    {
     "data": {
      "text/html": [
       "<pre style=\"white-space:pre;overflow-x:auto;line-height:normal;font-family:Menlo,'DejaVu Sans Mono',consolas,'Courier New',monospace\"><span style=\"font-weight: bold\">[</span>\n",
       "    <span style=\"color: #008000; text-decoration-color: #008000\">'if DEBUG(): \\n    output_data = get_capturer()._captures[-1][1][0][\\'data\\']\\n    test_eq(output_data[\\'text/plain\\'], </span>\n",
       "<span style=\"color: #008000; text-decoration-color: #008000\">\\'&lt;IPython.core.display.HTML object&gt;\\')\\n    html = output_data[\\'text/html\\']\\n    test_eq(f\\'&lt;brd-mark id=\"{brdd.dh.display_id}\"\\' in </span>\n",
       "<span style=\"color: #008000; text-decoration-color: #008000\">html, True)  # type: ignore\\ntest_eq(len(brdd.dhs), 3)\\n'</span>,\n",
       "    <span style=\"font-weight: bold\">[]</span>\n",
       "<span style=\"font-weight: bold\">]</span>\n",
       "</pre>\n"
      ],
      "text/plain": [
       "\u001b[1m[\u001b[0m\n",
       "    \u001b[32m'if DEBUG\u001b[0m\u001b[32m(\u001b[0m\u001b[32m)\u001b[0m\u001b[32m: \\n    output_data = get_capturer\u001b[0m\u001b[32m(\u001b[0m\u001b[32m)\u001b[0m\u001b[32m._captures\u001b[0m\u001b[32m[\u001b[0m\u001b[32m-1\u001b[0m\u001b[32m]\u001b[0m\u001b[32m[\u001b[0m\u001b[32m1\u001b[0m\u001b[32m]\u001b[0m\u001b[32m[\u001b[0m\u001b[32m0\u001b[0m\u001b[32m]\u001b[0m\u001b[32m[\u001b[0m\u001b[32m\\'data\\'\u001b[0m\u001b[32m]\u001b[0m\u001b[32m\\n    test_eq\u001b[0m\u001b[32m(\u001b[0m\u001b[32moutput_data\u001b[0m\u001b[32m[\u001b[0m\u001b[32m\\'text/plain\\'\u001b[0m\u001b[32m]\u001b[0m\u001b[32m, \u001b[0m\n",
       "\u001b[32m\\'\u001b[0m\u001b[32m<\u001b[0m\u001b[32mIPython.core.display.HTML\u001b[0m\u001b[32m object\u001b[0m\u001b[32m>\u001b[0m\u001b[32m\\'\u001b[0m\u001b[32m)\u001b[0m\u001b[32m\\n    html = output_data\u001b[0m\u001b[32m[\u001b[0m\u001b[32m\\'text/html\\'\u001b[0m\u001b[32m]\u001b[0m\u001b[32m\\n    test_eq\u001b[0m\u001b[32m(\u001b[0m\u001b[32mf\\'<brd-mark \u001b[0m\u001b[32mid\u001b[0m\u001b[32m=\"\u001b[0m\u001b[32m{\u001b[0m\u001b[32mbrdd.dh.display_id\u001b[0m\u001b[32m}\u001b[0m\u001b[32m\"\\' in \u001b[0m\n",
       "\u001b[32mhtml, True\u001b[0m\u001b[32m)\u001b[0m\u001b[32m  # type: ignore\\ntest_eq\u001b[0m\u001b[32m(\u001b[0m\u001b[32mlen\u001b[0m\u001b[32m(\u001b[0m\u001b[32mbrdd.dhs\u001b[0m\u001b[32m)\u001b[0m\u001b[32m, 3\u001b[0m\u001b[32m)\u001b[0m\u001b[32m\\n'\u001b[0m,\n",
       "    \u001b[1m[\u001b[0m\u001b[1m]\u001b[0m\n",
       "\u001b[1m]\u001b[0m\n"
      ]
     },
     "metadata": {},
     "output_type": "display_data"
    },
    {
     "name": "stdout",
     "output_type": "stream",
     "text": [
      "---------\n"
     ]
    },
    {
     "data": {
      "text/html": [
       "<pre style=\"white-space:pre;overflow-x:auto;line-height:normal;font-family:Menlo,'DejaVu Sans Mono',consolas,'Courier New',monospace\"><span style=\"font-weight: bold\">[</span><span style=\"color: #008000; text-decoration-color: #008000\">'print(10)\\n17\\n'</span>, <span style=\"font-weight: bold\">[{</span><span style=\"color: #008000; text-decoration-color: #008000\">'data'</span>: <span style=\"font-weight: bold\">{</span><span style=\"color: #008000; text-decoration-color: #008000\">'text/plain'</span>: <span style=\"color: #008000; text-decoration-color: #008000\">'17'</span><span style=\"font-weight: bold\">}</span>, <span style=\"color: #008000; text-decoration-color: #008000\">'metadata'</span>: <span style=\"font-weight: bold\">{}}]]</span>\n",
       "</pre>\n"
      ],
      "text/plain": [
       "\u001b[1m[\u001b[0m\u001b[32m'print\u001b[0m\u001b[32m(\u001b[0m\u001b[32m10\u001b[0m\u001b[32m)\u001b[0m\u001b[32m\\n17\\n'\u001b[0m, \u001b[1m[\u001b[0m\u001b[1m{\u001b[0m\u001b[32m'data'\u001b[0m: \u001b[1m{\u001b[0m\u001b[32m'text/plain'\u001b[0m: \u001b[32m'17'\u001b[0m\u001b[1m}\u001b[0m, \u001b[32m'metadata'\u001b[0m: \u001b[1m{\u001b[0m\u001b[1m}\u001b[0m\u001b[1m}\u001b[0m\u001b[1m]\u001b[0m\u001b[1m]\u001b[0m\n"
      ]
     },
     "metadata": {},
     "output_type": "display_data"
    },
    {
     "name": "stdout",
     "output_type": "stream",
     "text": [
      "---------\n"
     ]
    },
    {
     "data": {
      "text/html": [
       "<pre style=\"white-space:pre;overflow-x:auto;line-height:normal;font-family:Menlo,'DejaVu Sans Mono',consolas,'Courier New',monospace\"><span style=\"font-weight: bold\">[</span><span style=\"color: #008000; text-decoration-color: #008000\">'1/0\\n'</span>, <span style=\"font-weight: bold\">[]]</span>\n",
       "</pre>\n"
      ],
      "text/plain": [
       "\u001b[1m[\u001b[0m\u001b[32m'1/0\\n'\u001b[0m, \u001b[1m[\u001b[0m\u001b[1m]\u001b[0m\u001b[1m]\u001b[0m\n"
      ]
     },
     "metadata": {},
     "output_type": "display_data"
    },
    {
     "name": "stdout",
     "output_type": "stream",
     "text": [
      "---------\n"
     ]
    },
    {
     "data": {
      "text/html": [
       "<pre style=\"white-space:pre;overflow-x:auto;line-height:normal;font-family:Menlo,'DejaVu Sans Mono',consolas,'Courier New',monospace\"><span style=\"font-weight: bold\">[</span><span style=\"color: #008000; text-decoration-color: #008000\">'get_bridged() .stop()\\nget_csi().stop()\\nget_capturer().stop()\\n'</span>, <span style=\"font-weight: bold\">[]]</span>\n",
       "</pre>\n"
      ],
      "text/plain": [
       "\u001b[1m[\u001b[0m\u001b[32m'get_bridged\u001b[0m\u001b[32m(\u001b[0m\u001b[32m)\u001b[0m\u001b[32m .stop\u001b[0m\u001b[32m(\u001b[0m\u001b[32m)\u001b[0m\u001b[32m\\nget_csi\u001b[0m\u001b[32m(\u001b[0m\u001b[32m)\u001b[0m\u001b[32m.stop\u001b[0m\u001b[32m(\u001b[0m\u001b[32m)\u001b[0m\u001b[32m\\nget_capturer\u001b[0m\u001b[32m(\u001b[0m\u001b[32m)\u001b[0m\u001b[32m.stop\u001b[0m\u001b[32m(\u001b[0m\u001b[32m)\u001b[0m\u001b[32m\\n'\u001b[0m, \u001b[1m[\u001b[0m\u001b[1m]\u001b[0m\u001b[1m]\u001b[0m\n"
      ]
     },
     "metadata": {},
     "output_type": "display_data"
    },
    {
     "name": "stdout",
     "output_type": "stream",
     "text": [
      "---------\n"
     ]
    }
   ],
   "source": [
    "def show_captures():\n",
    "    cc = get_capturer()._captures\n",
    "    for c in cc:\n",
    "        cprint(c)\n",
    "        print('---------')\n",
    "\n",
    "show_captures()"
   ]
  },
  {
   "cell_type": "code",
   "execution_count": 96,
   "id": "ff463ce1",
   "metadata": {
    "brd": {
     "id": "24f86aa6-857c-4ba9-ac41-01133ce8c2d0"
    }
   },
   "outputs": [
    {
     "data": {
      "text/html": [
       "<pre style=\"white-space:pre;overflow-x:auto;line-height:normal;font-family:Menlo,'DejaVu Sans Mono',consolas,'Courier New',monospace\"><span style=\"font-weight: bold\">[</span><span style=\"color: #008000; text-decoration-color: #008000\">'1+3\\n'</span><span style=\"font-weight: bold\">]</span>\n",
       "</pre>\n"
      ],
      "text/plain": [
       "\u001b[1m[\u001b[0m\u001b[32m'1+3\\n'\u001b[0m\u001b[1m]\u001b[0m\n"
      ]
     },
     "metadata": {},
     "output_type": "display_data"
    },
    {
     "name": "stdout",
     "output_type": "stream",
     "text": [
      "---------\n"
     ]
    },
    {
     "data": {
      "text/html": [
       "<pre style=\"white-space:pre;overflow-x:auto;line-height:normal;font-family:Menlo,'DejaVu Sans Mono',consolas,'Courier New',monospace\"><span style=\"font-weight: bold\">[</span><span style=\"color: #008000; text-decoration-color: #008000\">'1+3\\n'</span><span style=\"font-weight: bold\">]</span>\n",
       "</pre>\n"
      ],
      "text/plain": [
       "\u001b[1m[\u001b[0m\u001b[32m'1+3\\n'\u001b[0m\u001b[1m]\u001b[0m\n"
      ]
     },
     "metadata": {},
     "output_type": "display_data"
    },
    {
     "name": "stdout",
     "output_type": "stream",
     "text": [
      "---------\n"
     ]
    },
    {
     "data": {
      "text/html": [
       "<pre style=\"white-space:pre;overflow-x:auto;line-height:normal;font-family:Menlo,'DejaVu Sans Mono',consolas,'Courier New',monospace\"><span style=\"font-weight: bold\">[</span><span style=\"color: #008000; text-decoration-color: #008000\">'info = __lastcellinfo__\\n'</span>, <span style=\"color: #008000; text-decoration-color: #008000\">\"test_eq(__nb__[__lastcellinfo__.cell_id].outputs[0].data, {'text/plain': '4'})\\n\"</span>, '<span style=\"color: #800080; text-decoration-color: #800080; font-weight: bold\">test_eq</span><span style=\"font-weight: bold\">(</span><span style=\"color: #800080; text-decoration-color: #800080; font-weight: bold\">len</span><span style=\"font-weight: bold\">(</span>brdd.dhs<span style=\"font-weight: bold\">)</span>, \n",
       "<span style=\"color: #008080; text-decoration-color: #008080; font-weight: bold\">1</span><span style=\"font-weight: bold\">)</span>…\n",
       "</pre>\n"
      ],
      "text/plain": [
       "\u001b[1m[\u001b[0m\u001b[32m'info = __lastcellinfo__\\n'\u001b[0m, \u001b[32m\"test_eq\u001b[0m\u001b[32m(\u001b[0m\u001b[32m__nb__\u001b[0m\u001b[32m[\u001b[0m\u001b[32m__lastcellinfo__.cell_id\u001b[0m\u001b[32m]\u001b[0m\u001b[32m.outputs\u001b[0m\u001b[32m[\u001b[0m\u001b[32m0\u001b[0m\u001b[32m]\u001b[0m\u001b[32m.data, \u001b[0m\u001b[32m{\u001b[0m\u001b[32m'text/plain': '4'\u001b[0m\u001b[32m}\u001b[0m\u001b[32m)\u001b[0m\u001b[32m\\n\"\u001b[0m, '\u001b[1;35mtest_eq\u001b[0m\u001b[1m(\u001b[0m\u001b[1;35mlen\u001b[0m\u001b[1m(\u001b[0mbrdd.dhs\u001b[1m)\u001b[0m, \n",
       "\u001b[1;36m1\u001b[0m\u001b[1m)\u001b[0m…\n"
      ]
     },
     "metadata": {},
     "output_type": "display_data"
    },
    {
     "name": "stdout",
     "output_type": "stream",
     "text": [
      "---------\n"
     ]
    },
    {
     "data": {
      "text/html": [
       "<pre style=\"white-space:pre;overflow-x:auto;line-height:normal;font-family:Menlo,'DejaVu Sans Mono',consolas,'Courier New',monospace\"><span style=\"font-weight: bold\">[</span><span style=\"color: #008000; text-decoration-color: #008000\">'info = __lastcellinfo__\\n'</span>, <span style=\"color: #008000; text-decoration-color: #008000\">\"test_eq(__nb__[__lastcellinfo__.cell_id].outputs[0].data, {'text/plain': '4'})\\n\"</span>, '<span style=\"color: #800080; text-decoration-color: #800080; font-weight: bold\">test_eq</span><span style=\"font-weight: bold\">(</span><span style=\"color: #800080; text-decoration-color: #800080; font-weight: bold\">len</span><span style=\"font-weight: bold\">(</span>brdd.dhs<span style=\"font-weight: bold\">)</span>, \n",
       "<span style=\"color: #008080; text-decoration-color: #008080; font-weight: bold\">1</span><span style=\"font-weight: bold\">)</span>…\n",
       "</pre>\n"
      ],
      "text/plain": [
       "\u001b[1m[\u001b[0m\u001b[32m'info = __lastcellinfo__\\n'\u001b[0m, \u001b[32m\"test_eq\u001b[0m\u001b[32m(\u001b[0m\u001b[32m__nb__\u001b[0m\u001b[32m[\u001b[0m\u001b[32m__lastcellinfo__.cell_id\u001b[0m\u001b[32m]\u001b[0m\u001b[32m.outputs\u001b[0m\u001b[32m[\u001b[0m\u001b[32m0\u001b[0m\u001b[32m]\u001b[0m\u001b[32m.data, \u001b[0m\u001b[32m{\u001b[0m\u001b[32m'text/plain': '4'\u001b[0m\u001b[32m}\u001b[0m\u001b[32m)\u001b[0m\u001b[32m\\n\"\u001b[0m, '\u001b[1;35mtest_eq\u001b[0m\u001b[1m(\u001b[0m\u001b[1;35mlen\u001b[0m\u001b[1m(\u001b[0mbrdd.dhs\u001b[1m)\u001b[0m, \n",
       "\u001b[1;36m1\u001b[0m\u001b[1m)\u001b[0m…\n"
      ]
     },
     "metadata": {},
     "output_type": "display_data"
    },
    {
     "name": "stdout",
     "output_type": "stream",
     "text": [
      "---------\n"
     ]
    },
    {
     "data": {
      "text/html": [
       "<pre style=\"white-space:pre;overflow-x:auto;line-height:normal;font-family:Menlo,'DejaVu Sans Mono',consolas,'Courier New',monospace\"><span style=\"font-weight: bold\">[</span><span style=\"color: #008000; text-decoration-color: #008000\">\"HTML('&lt;div&gt;asdf&lt;/div&gt;')\\n\"</span><span style=\"font-weight: bold\">]</span>\n",
       "</pre>\n"
      ],
      "text/plain": [
       "\u001b[1m[\u001b[0m\u001b[32m\"HTML\u001b[0m\u001b[32m(\u001b[0m\u001b[32m'\u001b[0m\u001b[32m<\u001b[0m\u001b[32mdiv\u001b[0m\u001b[32m>asdf</div\u001b[0m\u001b[32m>\u001b[0m\u001b[32m'\u001b[0m\u001b[32m)\u001b[0m\u001b[32m\\n\"\u001b[0m\u001b[1m]\u001b[0m\n"
      ]
     },
     "metadata": {},
     "output_type": "display_data"
    },
    {
     "name": "stdout",
     "output_type": "stream",
     "text": [
      "---------\n"
     ]
    },
    {
     "data": {
      "text/html": [
       "<pre style=\"white-space:pre;overflow-x:auto;line-height:normal;font-family:Menlo,'DejaVu Sans Mono',consolas,'Courier New',monospace\"><span style=\"font-weight: bold\">[</span><span style=\"color: #008000; text-decoration-color: #008000\">\"HTML('&lt;div&gt;asdf&lt;/div&gt;')\\n\"</span><span style=\"font-weight: bold\">]</span>\n",
       "</pre>\n"
      ],
      "text/plain": [
       "\u001b[1m[\u001b[0m\u001b[32m\"HTML\u001b[0m\u001b[32m(\u001b[0m\u001b[32m'\u001b[0m\u001b[32m<\u001b[0m\u001b[32mdiv\u001b[0m\u001b[32m>asdf</div\u001b[0m\u001b[32m>\u001b[0m\u001b[32m'\u001b[0m\u001b[32m)\u001b[0m\u001b[32m\\n\"\u001b[0m\u001b[1m]\u001b[0m\n"
      ]
     },
     "metadata": {},
     "output_type": "display_data"
    },
    {
     "name": "stdout",
     "output_type": "stream",
     "text": [
      "---------\n"
     ]
    },
    {
     "data": {
      "text/html": [
       "<pre style=\"white-space:pre;overflow-x:auto;line-height:normal;font-family:Menlo,'DejaVu Sans Mono',consolas,'Courier New',monospace\"><span style=\"font-weight: bold\">[</span><span style=\"color: #008000; text-decoration-color: #008000\">'if DEBUG(): \\n'</span>, <span style=\"color: #008000; text-decoration-color: #008000\">\"    output_data = get_capturer()._captures[-1][1][0]['data']\\n\"</span>, \"    <span style=\"color: #800080; text-decoration-color: #800080; font-weight: bold\">test_eq</span><span style=\"font-weight: bold\">(</span>output_data<span style=\"font-weight: bold\">[</span><span style=\"color: #008000; text-decoration-color: #008000\">'text/plain'</span><span style=\"font-weight: bold\">]</span>, \n",
       "'&lt;IPython.core.…\n",
       "</pre>\n"
      ],
      "text/plain": [
       "\u001b[1m[\u001b[0m\u001b[32m'if DEBUG\u001b[0m\u001b[32m(\u001b[0m\u001b[32m)\u001b[0m\u001b[32m: \\n'\u001b[0m, \u001b[32m\"    output_data = get_capturer\u001b[0m\u001b[32m(\u001b[0m\u001b[32m)\u001b[0m\u001b[32m._captures\u001b[0m\u001b[32m[\u001b[0m\u001b[32m-1\u001b[0m\u001b[32m]\u001b[0m\u001b[32m[\u001b[0m\u001b[32m1\u001b[0m\u001b[32m]\u001b[0m\u001b[32m[\u001b[0m\u001b[32m0\u001b[0m\u001b[32m]\u001b[0m\u001b[32m[\u001b[0m\u001b[32m'data'\u001b[0m\u001b[32m]\u001b[0m\u001b[32m\\n\"\u001b[0m, \"    \u001b[1;35mtest_eq\u001b[0m\u001b[1m(\u001b[0moutput_data\u001b[1m[\u001b[0m\u001b[32m'text/plain'\u001b[0m\u001b[1m]\u001b[0m, \n",
       "'<IPython.core.…\n"
      ]
     },
     "metadata": {},
     "output_type": "display_data"
    },
    {
     "name": "stdout",
     "output_type": "stream",
     "text": [
      "---------\n"
     ]
    },
    {
     "data": {
      "text/html": [
       "<pre style=\"white-space:pre;overflow-x:auto;line-height:normal;font-family:Menlo,'DejaVu Sans Mono',consolas,'Courier New',monospace\"><span style=\"font-weight: bold\">[</span><span style=\"color: #008000; text-decoration-color: #008000\">'if DEBUG(): \\n'</span>, <span style=\"color: #008000; text-decoration-color: #008000\">\"    output_data = get_capturer()._captures[-1][1][0]['data']\\n\"</span>, \"    <span style=\"color: #800080; text-decoration-color: #800080; font-weight: bold\">test_eq</span><span style=\"font-weight: bold\">(</span>output_data<span style=\"font-weight: bold\">[</span><span style=\"color: #008000; text-decoration-color: #008000\">'text/plain'</span><span style=\"font-weight: bold\">]</span>, \n",
       "'&lt;IPython.core.…\n",
       "</pre>\n"
      ],
      "text/plain": [
       "\u001b[1m[\u001b[0m\u001b[32m'if DEBUG\u001b[0m\u001b[32m(\u001b[0m\u001b[32m)\u001b[0m\u001b[32m: \\n'\u001b[0m, \u001b[32m\"    output_data = get_capturer\u001b[0m\u001b[32m(\u001b[0m\u001b[32m)\u001b[0m\u001b[32m._captures\u001b[0m\u001b[32m[\u001b[0m\u001b[32m-1\u001b[0m\u001b[32m]\u001b[0m\u001b[32m[\u001b[0m\u001b[32m1\u001b[0m\u001b[32m]\u001b[0m\u001b[32m[\u001b[0m\u001b[32m0\u001b[0m\u001b[32m]\u001b[0m\u001b[32m[\u001b[0m\u001b[32m'data'\u001b[0m\u001b[32m]\u001b[0m\u001b[32m\\n\"\u001b[0m, \"    \u001b[1;35mtest_eq\u001b[0m\u001b[1m(\u001b[0moutput_data\u001b[1m[\u001b[0m\u001b[32m'text/plain'\u001b[0m\u001b[1m]\u001b[0m, \n",
       "'<IPython.core.…\n"
      ]
     },
     "metadata": {},
     "output_type": "display_data"
    },
    {
     "name": "stdout",
     "output_type": "stream",
     "text": [
      "---------\n"
     ]
    },
    {
     "data": {
      "text/html": [
       "<pre style=\"white-space:pre;overflow-x:auto;line-height:normal;font-family:Menlo,'DejaVu Sans Mono',consolas,'Courier New',monospace\"><span style=\"font-weight: bold\">[</span><span style=\"color: #008000; text-decoration-color: #008000\">'print(10)\\n'</span>, <span style=\"color: #008000; text-decoration-color: #008000\">'17\\n'</span><span style=\"font-weight: bold\">]</span>\n",
       "</pre>\n"
      ],
      "text/plain": [
       "\u001b[1m[\u001b[0m\u001b[32m'print\u001b[0m\u001b[32m(\u001b[0m\u001b[32m10\u001b[0m\u001b[32m)\u001b[0m\u001b[32m\\n'\u001b[0m, \u001b[32m'17\\n'\u001b[0m\u001b[1m]\u001b[0m\n"
      ]
     },
     "metadata": {},
     "output_type": "display_data"
    },
    {
     "name": "stdout",
     "output_type": "stream",
     "text": [
      "---------\n"
     ]
    },
    {
     "data": {
      "text/html": [
       "<pre style=\"white-space:pre;overflow-x:auto;line-height:normal;font-family:Menlo,'DejaVu Sans Mono',consolas,'Courier New',monospace\"><span style=\"font-weight: bold\">[</span><span style=\"color: #008000; text-decoration-color: #008000\">'print(10)\\n'</span>, <span style=\"color: #008000; text-decoration-color: #008000\">'17\\n'</span><span style=\"font-weight: bold\">]</span>\n",
       "</pre>\n"
      ],
      "text/plain": [
       "\u001b[1m[\u001b[0m\u001b[32m'print\u001b[0m\u001b[32m(\u001b[0m\u001b[32m10\u001b[0m\u001b[32m)\u001b[0m\u001b[32m\\n'\u001b[0m, \u001b[32m'17\\n'\u001b[0m\u001b[1m]\u001b[0m\n"
      ]
     },
     "metadata": {},
     "output_type": "display_data"
    },
    {
     "name": "stdout",
     "output_type": "stream",
     "text": [
      "---------\n"
     ]
    },
    {
     "data": {
      "text/html": [
       "<pre style=\"white-space:pre;overflow-x:auto;line-height:normal;font-family:Menlo,'DejaVu Sans Mono',consolas,'Courier New',monospace\"><span style=\"font-weight: bold\">[</span><span style=\"color: #008000; text-decoration-color: #008000\">'1/0\\n'</span><span style=\"font-weight: bold\">]</span>\n",
       "</pre>\n"
      ],
      "text/plain": [
       "\u001b[1m[\u001b[0m\u001b[32m'1/0\\n'\u001b[0m\u001b[1m]\u001b[0m\n"
      ]
     },
     "metadata": {},
     "output_type": "display_data"
    },
    {
     "name": "stdout",
     "output_type": "stream",
     "text": [
      "---------\n"
     ]
    },
    {
     "data": {
      "text/html": [
       "<pre style=\"white-space:pre;overflow-x:auto;line-height:normal;font-family:Menlo,'DejaVu Sans Mono',consolas,'Courier New',monospace\"><span style=\"font-weight: bold\">[</span><span style=\"color: #008000; text-decoration-color: #008000\">'1/0\\n'</span><span style=\"font-weight: bold\">]</span>\n",
       "</pre>\n"
      ],
      "text/plain": [
       "\u001b[1m[\u001b[0m\u001b[32m'1/0\\n'\u001b[0m\u001b[1m]\u001b[0m\n"
      ]
     },
     "metadata": {},
     "output_type": "display_data"
    },
    {
     "name": "stdout",
     "output_type": "stream",
     "text": [
      "---------\n"
     ]
    },
    {
     "data": {
      "text/html": [
       "<pre style=\"white-space:pre;overflow-x:auto;line-height:normal;font-family:Menlo,'DejaVu Sans Mono',consolas,'Courier New',monospace\"><span style=\"font-weight: bold\">[</span><span style=\"color: #008000; text-decoration-color: #008000\">'get_bridged() .stop()\\n'</span>, <span style=\"color: #008000; text-decoration-color: #008000\">'get_csi().stop()\\n'</span>, <span style=\"color: #008000; text-decoration-color: #008000\">'get_capturer().stop()\\n'</span><span style=\"font-weight: bold\">]</span>\n",
       "</pre>\n"
      ],
      "text/plain": [
       "\u001b[1m[\u001b[0m\u001b[32m'get_bridged\u001b[0m\u001b[32m(\u001b[0m\u001b[32m)\u001b[0m\u001b[32m .stop\u001b[0m\u001b[32m(\u001b[0m\u001b[32m)\u001b[0m\u001b[32m\\n'\u001b[0m, \u001b[32m'get_csi\u001b[0m\u001b[32m(\u001b[0m\u001b[32m)\u001b[0m\u001b[32m.stop\u001b[0m\u001b[32m(\u001b[0m\u001b[32m)\u001b[0m\u001b[32m\\n'\u001b[0m, \u001b[32m'get_capturer\u001b[0m\u001b[32m(\u001b[0m\u001b[32m)\u001b[0m\u001b[32m.stop\u001b[0m\u001b[32m(\u001b[0m\u001b[32m)\u001b[0m\u001b[32m\\n'\u001b[0m\u001b[1m]\u001b[0m\n"
      ]
     },
     "metadata": {},
     "output_type": "display_data"
    },
    {
     "name": "stdout",
     "output_type": "stream",
     "text": [
      "---------\n"
     ]
    },
    {
     "data": {
      "text/html": [
       "<pre style=\"white-space:pre;overflow-x:auto;line-height:normal;font-family:Menlo,'DejaVu Sans Mono',consolas,'Courier New',monospace\"><span style=\"font-weight: bold\">[</span><span style=\"color: #008000; text-decoration-color: #008000\">'get_bridged() .stop()\\n'</span>, <span style=\"color: #008000; text-decoration-color: #008000\">'get_csi().stop()\\n'</span>, <span style=\"color: #008000; text-decoration-color: #008000\">'get_capturer().stop()\\n'</span><span style=\"font-weight: bold\">]</span>\n",
       "</pre>\n"
      ],
      "text/plain": [
       "\u001b[1m[\u001b[0m\u001b[32m'get_bridged\u001b[0m\u001b[32m(\u001b[0m\u001b[32m)\u001b[0m\u001b[32m .stop\u001b[0m\u001b[32m(\u001b[0m\u001b[32m)\u001b[0m\u001b[32m\\n'\u001b[0m, \u001b[32m'get_csi\u001b[0m\u001b[32m(\u001b[0m\u001b[32m)\u001b[0m\u001b[32m.stop\u001b[0m\u001b[32m(\u001b[0m\u001b[32m)\u001b[0m\u001b[32m\\n'\u001b[0m, \u001b[32m'get_capturer\u001b[0m\u001b[32m(\u001b[0m\u001b[32m)\u001b[0m\u001b[32m.stop\u001b[0m\u001b[32m(\u001b[0m\u001b[32m)\u001b[0m\u001b[32m\\n'\u001b[0m\u001b[1m]\u001b[0m\n"
      ]
     },
     "metadata": {},
     "output_type": "display_data"
    },
    {
     "name": "stdout",
     "output_type": "stream",
     "text": [
      "---------\n"
     ]
    }
   ],
   "source": [
    "def show_lines():\n",
    "    cc = get_capturer()._lines\n",
    "    for c in cc:\n",
    "        cprint(shorten(c, 'r', 140))\n",
    "        print('---------')\n",
    "\n",
    "show_lines()"
   ]
  },
  {
   "cell_type": "code",
   "execution_count": 97,
   "id": "cb4b0c67",
   "metadata": {
    "brd": {
     "id": "286e77f2-b568-4e39-b752-80af4d11396f"
    }
   },
   "outputs": [
    {
     "data": {
      "text/html": [
       "<pre style=\"white-space:pre;overflow-x:auto;line-height:normal;font-family:Menlo,'DejaVu Sans Mono',consolas,'Courier New',monospace\"><span style=\"font-weight: bold\">{</span>\n",
       "    <span style=\"color: #008000; text-decoration-color: #008000\">'msg_type'</span>: <span style=\"color: #008000; text-decoration-color: #008000\">'display_data'</span>,\n",
       "    <span style=\"color: #008000; text-decoration-color: #008000\">'content'</span>: <span style=\"font-weight: bold\">{</span>\n",
       "        <span style=\"color: #008000; text-decoration-color: #008000\">'data'</span>: <span style=\"font-weight: bold\">{}</span>,\n",
       "        <span style=\"color: #008000; text-decoration-color: #008000\">'metadata'</span>: <span style=\"font-weight: bold\">{</span><span style=\"color: #008000; text-decoration-color: #008000\">'bridge'</span>: <span style=\"font-weight: bold\">{</span><span style=\"color: #008000; text-decoration-color: #008000\">'captured'</span>: <span style=\"color: #00ff00; text-decoration-color: #00ff00; font-style: italic\">True</span><span style=\"font-weight: bold\">}}</span>,\n",
       "        <span style=\"color: #008000; text-decoration-color: #008000\">'transient'</span>: <span style=\"font-weight: bold\">{</span><span style=\"color: #008000; text-decoration-color: #008000\">'display_id'</span>: <span style=\"color: #008000; text-decoration-color: #008000\">'b733762ee-e96bc253-e216b334-b166e522'</span><span style=\"font-weight: bold\">}</span>\n",
       "    <span style=\"font-weight: bold\">}</span>\n",
       "<span style=\"font-weight: bold\">}</span>\n",
       "</pre>\n"
      ],
      "text/plain": [
       "\u001b[1m{\u001b[0m\n",
       "    \u001b[32m'msg_type'\u001b[0m: \u001b[32m'display_data'\u001b[0m,\n",
       "    \u001b[32m'content'\u001b[0m: \u001b[1m{\u001b[0m\n",
       "        \u001b[32m'data'\u001b[0m: \u001b[1m{\u001b[0m\u001b[1m}\u001b[0m,\n",
       "        \u001b[32m'metadata'\u001b[0m: \u001b[1m{\u001b[0m\u001b[32m'bridge'\u001b[0m: \u001b[1m{\u001b[0m\u001b[32m'captured'\u001b[0m: \u001b[3;92mTrue\u001b[0m\u001b[1m}\u001b[0m\u001b[1m}\u001b[0m,\n",
       "        \u001b[32m'transient'\u001b[0m: \u001b[1m{\u001b[0m\u001b[32m'display_id'\u001b[0m: \u001b[32m'b733762ee-e96bc253-e216b334-b166e522'\u001b[0m\u001b[1m}\u001b[0m\n",
       "    \u001b[1m}\u001b[0m\n",
       "\u001b[1m}\u001b[0m\n"
      ]
     },
     "metadata": {},
     "output_type": "display_data"
    },
    {
     "data": {
      "text/html": [
       "<pre style=\"white-space:pre;overflow-x:auto;line-height:normal;font-family:Menlo,'DejaVu Sans Mono',consolas,'Courier New',monospace\"><span style=\"font-weight: bold\">{</span>\n",
       "    <span style=\"color: #008000; text-decoration-color: #008000\">'msg_type'</span>: <span style=\"color: #008000; text-decoration-color: #008000\">'display_data'</span>,\n",
       "    <span style=\"color: #008000; text-decoration-color: #008000\">'content'</span>: <span style=\"font-weight: bold\">{</span>\n",
       "        <span style=\"color: #008000; text-decoration-color: #008000\">'data'</span>: <span style=\"font-weight: bold\">{</span>\n",
       "            <span style=\"color: #008000; text-decoration-color: #008000\">'text/html'</span>: <span style=\"color: #008000; text-decoration-color: #008000\">'&lt;style&gt;details ul { list-style-type:none; list-style-position: outside; padding-inline-start: 22px; margin: 0; } </span>\n",
       "<span style=\"color: #008000; text-decoration-color: #008000\">details…'</span>\n",
       "        <span style=\"font-weight: bold\">}</span>,\n",
       "        <span style=\"color: #008000; text-decoration-color: #008000\">'metadata'</span>: <span style=\"font-weight: bold\">{}</span>,\n",
       "        <span style=\"color: #008000; text-decoration-color: #008000\">'transient'</span>: <span style=\"font-weight: bold\">{</span><span style=\"color: #008000; text-decoration-color: #008000\">'display_id'</span>: <span style=\"color: #008000; text-decoration-color: #008000\">'b6147a095-f33a50d7-bc4338b5-c829dfaa'</span><span style=\"font-weight: bold\">}</span>\n",
       "    <span style=\"font-weight: bold\">}</span>\n",
       "<span style=\"font-weight: bold\">}</span>\n",
       "</pre>\n"
      ],
      "text/plain": [
       "\u001b[1m{\u001b[0m\n",
       "    \u001b[32m'msg_type'\u001b[0m: \u001b[32m'display_data'\u001b[0m,\n",
       "    \u001b[32m'content'\u001b[0m: \u001b[1m{\u001b[0m\n",
       "        \u001b[32m'data'\u001b[0m: \u001b[1m{\u001b[0m\n",
       "            \u001b[32m'text/html'\u001b[0m: \u001b[32m'\u001b[0m\u001b[32m<\u001b[0m\u001b[32mstyle\u001b[0m\u001b[32m>\u001b[0m\u001b[32mdetails ul \u001b[0m\u001b[32m{\u001b[0m\u001b[32m list-style-type:none; list-style-position: outside; padding-inline-start: 22px; margin: 0; \u001b[0m\u001b[32m}\u001b[0m\u001b[32m \u001b[0m\n",
       "\u001b[32mdetails…'\u001b[0m\n",
       "        \u001b[1m}\u001b[0m,\n",
       "        \u001b[32m'metadata'\u001b[0m: \u001b[1m{\u001b[0m\u001b[1m}\u001b[0m,\n",
       "        \u001b[32m'transient'\u001b[0m: \u001b[1m{\u001b[0m\u001b[32m'display_id'\u001b[0m: \u001b[32m'b6147a095-f33a50d7-bc4338b5-c829dfaa'\u001b[0m\u001b[1m}\u001b[0m\n",
       "    \u001b[1m}\u001b[0m\n",
       "\u001b[1m}\u001b[0m\n"
      ]
     },
     "metadata": {},
     "output_type": "display_data"
    },
    {
     "data": {
      "text/html": [
       "<pre style=\"white-space:pre;overflow-x:auto;line-height:normal;font-family:Menlo,'DejaVu Sans Mono',consolas,'Courier New',monospace\"><span style=\"font-weight: bold\">{</span>\n",
       "    <span style=\"color: #008000; text-decoration-color: #008000\">'msg_type'</span>: <span style=\"color: #008000; text-decoration-color: #008000\">'display_data'</span>,\n",
       "    <span style=\"color: #008000; text-decoration-color: #008000\">'content'</span>: <span style=\"font-weight: bold\">{</span>\n",
       "        <span style=\"color: #008000; text-decoration-color: #008000\">'data'</span>: <span style=\"font-weight: bold\">{</span><span style=\"color: #008000; text-decoration-color: #008000\">'text/html'</span>: <span style=\"color: #008000; text-decoration-color: #008000\">'&lt;div&gt;asdf&lt;/div&gt;\\n&lt;brd-mark id=\"b8682f22d-1f76bc82-bd29346e-2ff95e8c\"&gt;&lt;/brd-mark&gt;'</span><span style=\"font-weight: bold\">}</span>,\n",
       "        <span style=\"color: #008000; text-decoration-color: #008000\">'metadata'</span>: <span style=\"font-weight: bold\">{</span><span style=\"color: #008000; text-decoration-color: #008000\">'bridge'</span>: <span style=\"font-weight: bold\">{</span><span style=\"color: #008000; text-decoration-color: #008000\">'captured'</span>: <span style=\"color: #00ff00; text-decoration-color: #00ff00; font-style: italic\">True</span><span style=\"font-weight: bold\">}}</span>,\n",
       "        <span style=\"color: #008000; text-decoration-color: #008000\">'transient'</span>: <span style=\"font-weight: bold\">{</span><span style=\"color: #008000; text-decoration-color: #008000\">'display_id'</span>: <span style=\"color: #008000; text-decoration-color: #008000\">'b8682f22d-1f76bc82-bd29346e-2ff95e8c'</span><span style=\"font-weight: bold\">}</span>\n",
       "    <span style=\"font-weight: bold\">}</span>\n",
       "<span style=\"font-weight: bold\">}</span>\n",
       "</pre>\n"
      ],
      "text/plain": [
       "\u001b[1m{\u001b[0m\n",
       "    \u001b[32m'msg_type'\u001b[0m: \u001b[32m'display_data'\u001b[0m,\n",
       "    \u001b[32m'content'\u001b[0m: \u001b[1m{\u001b[0m\n",
       "        \u001b[32m'data'\u001b[0m: \u001b[1m{\u001b[0m\u001b[32m'text/html'\u001b[0m: \u001b[32m'\u001b[0m\u001b[32m<\u001b[0m\u001b[32mdiv\u001b[0m\u001b[32m>asdf</div>\\n<brd-mark \u001b[0m\u001b[32mid\u001b[0m\u001b[32m=\u001b[0m\u001b[32m\"b8682f22d\u001b[0m\u001b[32m-1f76bc82-bd29346e-2ff95e8c\"></brd-mark\u001b[0m\u001b[32m>\u001b[0m\u001b[32m'\u001b[0m\u001b[1m}\u001b[0m,\n",
       "        \u001b[32m'metadata'\u001b[0m: \u001b[1m{\u001b[0m\u001b[32m'bridge'\u001b[0m: \u001b[1m{\u001b[0m\u001b[32m'captured'\u001b[0m: \u001b[3;92mTrue\u001b[0m\u001b[1m}\u001b[0m\u001b[1m}\u001b[0m,\n",
       "        \u001b[32m'transient'\u001b[0m: \u001b[1m{\u001b[0m\u001b[32m'display_id'\u001b[0m: \u001b[32m'b8682f22d-1f76bc82-bd29346e-2ff95e8c'\u001b[0m\u001b[1m}\u001b[0m\n",
       "    \u001b[1m}\u001b[0m\n",
       "\u001b[1m}\u001b[0m\n"
      ]
     },
     "metadata": {},
     "output_type": "display_data"
    },
    {
     "data": {
      "text/html": [
       "<pre style=\"white-space:pre;overflow-x:auto;line-height:normal;font-family:Menlo,'DejaVu Sans Mono',consolas,'Courier New',monospace\"><span style=\"font-weight: bold\">{</span>\n",
       "    <span style=\"color: #008000; text-decoration-color: #008000\">'msg_type'</span>: <span style=\"color: #008000; text-decoration-color: #008000\">'display_data'</span>,\n",
       "    <span style=\"color: #008000; text-decoration-color: #008000\">'content'</span>: <span style=\"font-weight: bold\">{</span>\n",
       "        <span style=\"color: #008000; text-decoration-color: #008000\">'data'</span>: <span style=\"font-weight: bold\">{}</span>,\n",
       "        <span style=\"color: #008000; text-decoration-color: #008000\">'metadata'</span>: <span style=\"font-weight: bold\">{</span><span style=\"color: #008000; text-decoration-color: #008000\">'bridge'</span>: <span style=\"font-weight: bold\">{</span><span style=\"color: #008000; text-decoration-color: #008000\">'captured'</span>: <span style=\"color: #00ff00; text-decoration-color: #00ff00; font-style: italic\">True</span><span style=\"font-weight: bold\">}}</span>,\n",
       "        <span style=\"color: #008000; text-decoration-color: #008000\">'transient'</span>: <span style=\"font-weight: bold\">{</span><span style=\"color: #008000; text-decoration-color: #008000\">'display_id'</span>: <span style=\"color: #008000; text-decoration-color: #008000\">'be052cd39-607f273d-2c2a1b91-ffe8ec85'</span><span style=\"font-weight: bold\">}</span>\n",
       "    <span style=\"font-weight: bold\">}</span>\n",
       "<span style=\"font-weight: bold\">}</span>\n",
       "</pre>\n"
      ],
      "text/plain": [
       "\u001b[1m{\u001b[0m\n",
       "    \u001b[32m'msg_type'\u001b[0m: \u001b[32m'display_data'\u001b[0m,\n",
       "    \u001b[32m'content'\u001b[0m: \u001b[1m{\u001b[0m\n",
       "        \u001b[32m'data'\u001b[0m: \u001b[1m{\u001b[0m\u001b[1m}\u001b[0m,\n",
       "        \u001b[32m'metadata'\u001b[0m: \u001b[1m{\u001b[0m\u001b[32m'bridge'\u001b[0m: \u001b[1m{\u001b[0m\u001b[32m'captured'\u001b[0m: \u001b[3;92mTrue\u001b[0m\u001b[1m}\u001b[0m\u001b[1m}\u001b[0m,\n",
       "        \u001b[32m'transient'\u001b[0m: \u001b[1m{\u001b[0m\u001b[32m'display_id'\u001b[0m: \u001b[32m'be052cd39-607f273d-2c2a1b91-ffe8ec85'\u001b[0m\u001b[1m}\u001b[0m\n",
       "    \u001b[1m}\u001b[0m\n",
       "\u001b[1m}\u001b[0m\n"
      ]
     },
     "metadata": {},
     "output_type": "display_data"
    }
   ],
   "source": [
    "if DEBUG(): show_msgs(brdd)  # type: ignore"
   ]
  },
  {
   "cell_type": "markdown",
   "id": "d41a93e7",
   "metadata": {},
   "source": [
    "# CaptureTransformer\n",
    "> Output capture with AST hooks.\n",
    "\n",
    "`OutputCapture` works correctly, but conflicts with the debugger abounds as it alters the source code. Fortunately, IPython has another much more powerful hook mechanism, `ast_transformers`, that is cleaner and more flexible."
   ]
  },
  {
   "cell_type": "code",
   "execution_count": 98,
   "id": "2764923d",
   "metadata": {
    "brd": {
     "id": "76c8a6a6-ea2a-44d5-b6fd-270a2642fb65",
     "renderer": false
    }
   },
   "outputs": [],
   "source": [
    "def _ast_process_result(result):\n",
    "    if result is not None:\n",
    "        if not (shell := get_ipython()): return result\n",
    "        info = shell.user_ns['__cellinfo__']\n",
    "        if result is not info: info.exec_result.result = result\n",
    "        display(result, metadata={'bridge': {'captured': True}})"
   ]
  },
  {
   "cell_type": "code",
   "execution_count": 99,
   "id": "4ff5cf77",
   "metadata": {
    "brd": {
     "id": "f86965df-d7a0-4915-b2f0-c2802b3efa82",
     "renderer": false
    }
   },
   "outputs": [],
   "source": [
    "#| export\n",
    "\n",
    "class CaptureTransformer(ast.NodeTransformer):\n",
    "    def __init__(self, mode='direct'):\n",
    "        self.mode, self._active, self._temp_var_prefix = mode, False, f\"_ast_cap_{uuid.uuid4().hex[:8]}_\"\n",
    "        self._global_function_name = '_ast_process_result'\n",
    "        self._transform = self._transform_expr_direct if mode == 'direct' else self._transform_expr_conditional\n",
    "\n",
    "    @property\n",
    "    def active(self): return self._active\n",
    "    __is_transformer__ = True\n",
    "    def start(self):\n",
    "        if not (shell := get_ipython()) or self._active: return\n",
    "        self._active = True\n",
    "        shell.ast_transformers = [t for t in shell.ast_transformers if not getattr(t, '__is_transformer__', False)]\n",
    "        shell.ast_transformers.append(self)\n",
    "        shell.user_ns[self._global_function_name] = _ast_process_result\n",
    "    def stop(self):\n",
    "        if not (shell := get_ipython()) or not self._active: return\n",
    "        self._active = False\n",
    "        shell.ast_transformers = [t for t in shell.ast_transformers if not getattr(t, '__is_transformer__', False)]\n",
    "    def __del__(self): self.stop()\n",
    "\n",
    "    def visit_Module(self, node: ast.Module):\n",
    "        node = self.generic_visit(node)  # type: ignore\n",
    "        if not node.body or not isinstance(node.body[-1], ast.Expr): return node\n",
    "        last_stmt = node.body[-1]\n",
    "        expr = last_stmt.value\n",
    "        if self._should_reject_input(expr): raise InputRejected(f\"Cannot transform {type(expr).__name__} expressions\")\n",
    "        # if self.mode == 'direct': self._transform_expr_direct(node, expr)\n",
    "        # else: self._transform_expr_conditional(node, expr)\n",
    "        self._transform(node, expr)\n",
    "        ast.fix_missing_locations(node)\n",
    "        return node\n",
    "    def _transform_expr_direct(self, node: ast.Module, expr: ast.expr):\n",
    "        call_node = ast.Call(func=ast.Name(id=self._global_function_name, ctx=ast.Load()), args=[expr],keywords=[])\n",
    "        node.body[-1] = ast.Expr(value=call_node)\n",
    "    def _transform_expr_conditional(self, node: ast.Module, expr: ast.expr):\n",
    "        temp_var = f\"{self._temp_var_prefix}result\"\n",
    "        assign_node = ast.Assign(targets=[ast.Name(id=temp_var, ctx=ast.Store())], value=expr)\n",
    "        call_result = ast.Call(func=ast.Name(id=self._global_function_name, ctx=ast.Load()),\n",
    "                                args=[ast.Name(id=temp_var, ctx=ast.Load())],keywords=[])\n",
    "        node.body[-1] = assign_node\n",
    "        node.body.append(ast.Expr(value=call_result))\n",
    "    def _should_reject_input(self, expr):\n",
    "        unsafe_types = (ast.Yield, ast.YieldFrom, ast.Await)\n",
    "        return isinstance(expr, unsafe_types)\n",
    "\n",
    "\n",
    "__capturer__ = None\n",
    "def get_capturer(start=False):\n",
    "    global __capturer__\n",
    "    get_bridged(True)\n",
    "    if __capturer__ is None: __capturer__ = CaptureTransformer(mode='direct')\n",
    "    if start: __capturer__.start()\n",
    "    return __capturer__"
   ]
  },
  {
   "cell_type": "code",
   "execution_count": 100,
   "id": "8f29cce7",
   "metadata": {
    "brd": {
     "id": "8e742ed0-7e11-4871-ae88-e03351d279d4",
     "renderer": false
    }
   },
   "outputs": [],
   "source": [
    "get_csi().stop()\n",
    "get_bridged().stop()\n",
    "get_capturer().stop()\n",
    "\n",
    "bridge_cfg.auto_id = True\n",
    "\n",
    "__nb__ = NB()  # type: ignore\n",
    "\n",
    "brdd = get_bridged()\n",
    "\n",
    "cptr = get_capturer(True)\n",
    "test_eq(get_ipython().ast_transformers, [cptr])  # type: ignore"
   ]
  },
  {
   "cell_type": "code",
   "execution_count": 101,
   "id": "eafb6437",
   "metadata": {
    "brd": {
     "id": "3da71649-e7fc-41b2-a528-0023d024c148",
     "renderer": false
    }
   },
   "outputs": [],
   "source": [
    "node = cptr.visit_Module(ast.parse('''\n",
    "x = 10\n",
    "y = 20\n",
    "x + y\n",
    "'''))\n",
    "\n",
    "test_eq(ast.unparse(node), 'x = 10\\ny = 20\\n_ast_process_result(x + y)')"
   ]
  },
  {
   "cell_type": "code",
   "execution_count": 102,
   "id": "953a1006",
   "metadata": {
    "brd": {
     "id": "dd5ff950-5824-408c-9cbe-74204c4a0e6d"
    }
   },
   "outputs": [
    {
     "data": {
      "text/plain": [
       "30"
      ]
     },
     "metadata": {
      "bridge": {
       "captured": true
      }
     },
     "output_type": "display_data"
    }
   ],
   "source": [
    "x = 10\n",
    "y = 20\n",
    "x + y"
   ]
  },
  {
   "cell_type": "code",
   "execution_count": 103,
   "id": "44abca89",
   "metadata": {
    "brd": {
     "id": "0e8e7ee4-a115-4d1d-9e21-e145bca96f17"
    }
   },
   "outputs": [
    {
     "data": {
      "text/html": [
       "<style>details ul { list-style-type:none; list-style-position: outside; padding-inline-start: 22px; margin: 0; } details .string { color: #24837b; } details .string::before { content: \"'\"; } details .string::after { content: \"'\"; } details .number { color: #ad8301; } details .true { color: blue; } details .false { color: red; } details .null { color: gray; } span.n { color: darkgrey; } </style>\n",
       "<details open><summary>__lastcellinfo__\n",
       "</summary>  <ul>\n",
       "    <li>\n",
       "<span><span class=\"n\">source</span>: <span class=\"v string\">x = 10\n",
       "y = 20\n",
       "x + y</span></span>    </li>\n",
       "    <li>\n",
       "<span><span class=\"n\">cell_id</span>: <span class=\"v string\">Y253sZmlsZQ==</span></span>    </li>\n",
       "<details open><summary>exec_result\n",
       "</summary>      <ul>\n",
       "        <li>\n",
       "<span><span class=\"n\">result</span>: <span class=\"v number\">30</span></span>        </li>\n",
       "        <li>\n",
       "<span><span class=\"n\">execution_count</span>: <span class=\"v number\">102</span></span>        </li>\n",
       "        <li>\n",
       "<span><span class=\"n\">error_before_exec</span>: <span class=\"v null\">None</span></span>        </li>\n",
       "        <li>\n",
       "<span><span class=\"n\">error_in_exec</span>: <span class=\"v null\">None</span></span>        </li>\n",
       "      </ul>\n",
       "</details>  </ul>\n",
       "</details>\n",
       "<brd-mark id=\"be8c1ac58-3c235706-a4b1e475-6e27d8d8\"></brd-mark>"
      ],
      "text/plain": [
       "<IPython.core.display.HTML object>"
      ]
     },
     "metadata": {},
     "output_type": "display_data"
    },
    {
     "data": {
      "text/html": [
       "<style>details ul { list-style-type:none; list-style-position: outside; padding-inline-start: 22px; margin: 0; } details .string { color: #24837b; } details .string::before { content: \"'\"; } details .string::after { content: \"'\"; } details .number { color: #ad8301; } details .true { color: blue; } details .false { color: red; } details .null { color: gray; } span.n { color: darkgrey; } </style>\n",
       "<details open><summary>NBCell@1\n",
       "</summary>  <ul>\n",
       "    <li>\n",
       "<span><span class=\"n\">idx</span>: <span class=\"v number\">1</span></span>    </li>\n",
       "    <li>\n",
       "<span><span class=\"n\">source</span>: <span class=\"v string\">x = 10\n",
       "y = 20\n",
       "x + y</span></span>    </li>\n",
       "    <li>\n",
       "<span><span class=\"n\">id</span>: <span class=\"v string\">Y253sZmlsZQ==</span></span>    </li>\n",
       "    <li>\n",
       "<span><span class=\"n\">cell_type</span>: <span class=\"v string\">code</span></span>    </li>\n",
       "<details open><summary>outputs\n",
       "</summary>      <ul>\n",
       "<details open><summary>0\n",
       "</summary>          <ul>\n",
       "            <li>\n",
       "<span><span class=\"n\">output_type</span>: <span class=\"v string\">display_data</span></span>            </li>\n",
       "<details open><summary>data\n",
       "</summary>              <ul>\n",
       "                <li>\n",
       "<span><span class=\"n\">text/plain</span>: <span class=\"v string\">30</span></span>                </li>\n",
       "              </ul>\n",
       "</details>            <li>\n",
       "<span><span class=\"n\">metadata</span>: <span class=\"v \">{&#x27;bridge&#x27;: {&#x27;captured&#x27;: True}, &#x27;brd_did&#x27;: &#x27;bb3306f67-217e46c6-b0062466-557f8d74&#x27;}</span></span>            </li>\n",
       "          </ul>\n",
       "</details>      </ul>\n",
       "</details>    <li>\n",
       "<span><span class=\"n\">execution_count</span>: <span class=\"v number\">102</span></span>    </li>\n",
       "  </ul>\n",
       "</details>\n",
       "<brd-mark id=\"b75ce5826-6cab7b9e-a3222bd4-3ce918c9\"></brd-mark>"
      ],
      "text/markdown": [
       "> code\n",
       "\n",
       "```json\n",
       "{\n",
       "  'idx': 1,\n",
       "  'source': 'x = 10\\ny = 20\\nx + y',\n",
       "  'id': 'Y253sZmlsZQ==',\n",
       "  'cell_type': 'code',\n",
       "  'outputs': [\n",
       "    {\n",
       "      'output_type': 'display_data',\n",
       "      'data': {'text/plain': '30'},\n",
       "      'metadata': {'bridge': {'captured': True}, 'brd_did': 'bb3306f67-217e46c6-b0062466-557f8d74'}\n",
       "    }\n",
       "  ],\n",
       "  'execution_count': 102\n",
       "}\n",
       "```"
      ],
      "text/plain": [
       "{'idx': 1,\n",
       " 'source': 'x = 10\\ny = 20\\nx + y',\n",
       " 'id': 'Y253sZmlsZQ==',\n",
       " 'cell_type': 'code',\n",
       " 'outputs': [{'output_type': 'display_data',\n",
       "   'data': {'text/plain': '30'},\n",
       "   'metadata': {'bridge': {'captured': True},\n",
       "    'brd_did': 'bb3306f67-217e46c6-b0062466-557f8d74'}}],\n",
       " 'execution_count': 102}"
      ]
     },
     "metadata": {
      "bridge": {
       "captured": true
      }
     },
     "output_type": "display_data"
    }
   ],
   "source": [
    "test_is(_ != 30, True)\n",
    "# test_eq(__lastcellinfo__.exec_result.result, 30)\n",
    "show(DetailsJSON(__lastcellinfo__, summary='__lastcellinfo__', openall=True))\n",
    "__nb__[__lastcellinfo__.cell_id]"
   ]
  },
  {
   "cell_type": "markdown",
   "id": "9bb60f61",
   "metadata": {},
   "source": [
    "Note that `CaptureTranformer` changes the semantics of IPython code execution because is effectively disabling the [Output caching system](https://ipython.readthedocs.io/en/latest/interactive/reference.html#output-caching-system) as it's intercepting all cell outputs. ~~If you have any use for `_`|`_<n>`|`_oh`|`Out` variables, `CaptureTranformer` has the same effect as setting `InteractiveShell.cache_size` to 0.~~\n",
    "\n",
    "During cell execution, IPython replaces `sys.displayhook` with a custom `DisplayHook` instance responsible for displaying the result of the cell execution (among many other things). `Bridget` now handles cell outputs (and does what `displayhook` did before to show the cell result). The shell `displayhook` then always receives a result of None. `Bridget` must replicate some (not sure what to do about the `shell.history_manager`) of the functionality of `displayhook` to ensure that output cache variables are updated correctly (see [\\_\\_call\\_\\_](https://github.com/ipython/ipython/blob/4d0c438d617e49b77d68cd98208f7b2d371a1381/IPython/core/displayhook.py#L269))."
   ]
  },
  {
   "cell_type": "code",
   "execution_count": 104,
   "id": "c83c1d1d",
   "metadata": {
    "brd": {
     "id": "0597cbbb-3527-4ea9-aef9-42ebe998ed6d"
    }
   },
   "outputs": [],
   "source": [
    "#| exporti\n",
    "\n",
    "def _ast_process_result(result):\n",
    "    if result is not None:\n",
    "        if not (shell := get_ipython()): return result\n",
    "        info = shell.user_ns['__cellinfo__']\n",
    "        if result is not info: info.exec_result.result = result\n",
    "        # this is only called during cell execution; displayhook should be the custom one, not sys.displayhook\n",
    "        displayhook = shell.displayhook  # type: ignore\n",
    "        if not displayhook.quiet():\n",
    "            if not getattr(result, '_ipython_display_', None):\n",
    "                display(result, metadata={'bridge': {'captured': True}})\n",
    "            displayhook.update_user_ns(result)\n",
    "            displayhook.fill_exec_result(result)"
   ]
  },
  {
   "cell_type": "code",
   "execution_count": 105,
   "id": "c285a24a",
   "metadata": {
    "brd": {
     "id": "9c62e68e-5227-4f46-b008-a9d42f45276d"
    }
   },
   "outputs": [
    {
     "data": {
      "text/html": [
       "from _ipython_display_\n",
       "<brd-mark id=\"b4b130aba-efad97be-d5cb9d74-7aad127c\"></brd-mark>"
      ],
      "text/plain": [
       "<IPython.core.display.HTML object>"
      ]
     },
     "metadata": {},
     "output_type": "display_data"
    }
   ],
   "source": [
    "class TestD:\n",
    "    def _ipython_display_(self):\n",
    "        from IPython.display import display\n",
    "        # dhdl = DisplayId()\n",
    "        # dhdl.display(self.text)\n",
    "        display(HTML('from _ipython_display_'))\n",
    "\n",
    "TestD()"
   ]
  },
  {
   "cell_type": "code",
   "execution_count": 106,
   "id": "e8b9ad9f",
   "metadata": {
    "brd": {
     "id": "34aeb741-0aa3-4d43-89e6-c1b4a79c7869"
    }
   },
   "outputs": [
    {
     "data": {
      "text/html": [
       "<style>details ul { list-style-type:none; list-style-position: outside; padding-inline-start: 22px; margin: 0; } details .string { color: #24837b; } details .string::before { content: \"'\"; } details .string::after { content: \"'\"; } details .number { color: #ad8301; } details .true { color: blue; } details .false { color: red; } details .null { color: gray; } span.n { color: darkgrey; } </style>\n",
       "<details open><summary>NBCell@4\n",
       "</summary>  <ul>\n",
       "    <li>\n",
       "<span><span class=\"n\">idx</span>: <span class=\"v number\">4</span></span>    </li>\n",
       "    <li>\n",
       "<span><span class=\"n\">source</span>: <span class=\"v string\">class TestD:\n",
       "    def _ipython_display_(self):\n",
       "        from IPython.display import display\n",
       "        # dhdl = DisplayId()\n",
       "        # dhdl.displa…</span></span>    </li>\n",
       "    <li>\n",
       "<span><span class=\"n\">id</span>: <span class=\"v string\">Y260sZmlsZQ==</span></span>    </li>\n",
       "    <li>\n",
       "<span><span class=\"n\">cell_type</span>: <span class=\"v string\">code</span></span>    </li>\n",
       "<details open><summary>outputs\n",
       "</summary>      <ul>\n",
       "<details open><summary>0\n",
       "</summary>          <ul>\n",
       "            <li>\n",
       "<span><span class=\"n\">output_type</span>: <span class=\"v string\">display_data</span></span>            </li>\n",
       "<details open><summary>data\n",
       "</summary>              <ul>\n",
       "                <li>\n",
       "<span><span class=\"n\">text/plain</span>: <span class=\"v string\">&lt;IPython.core.display.HTML object&gt;</span></span>                </li>\n",
       "                <li>\n",
       "<span><span class=\"n\">text/html</span>: <span class=\"v string\">from _ipython_display_\n",
       "&lt;brd-mark id=&quot;b4b130aba-efad97be-d5cb9d74-7aad127c&quot;&gt;&lt;/brd-mark&gt;</span></span>                </li>\n",
       "              </ul>\n",
       "</details>            <li>\n",
       "<span><span class=\"n\">metadata</span>: <span class=\"v \">{&#x27;brd_did&#x27;: &#x27;b4b130aba-efad97be-d5cb9d74-7aad127c&#x27;}</span></span>            </li>\n",
       "          </ul>\n",
       "</details>      </ul>\n",
       "</details>    <li>\n",
       "<span><span class=\"n\">execution_count</span>: <span class=\"v number\">105</span></span>    </li>\n",
       "  </ul>\n",
       "</details>\n",
       "<brd-mark id=\"bdacd095e-2c6bf2c1-c86c8ab0-08019059\"></brd-mark>"
      ],
      "text/markdown": [
       "> code\n",
       "\n",
       "```json\n",
       "{\n",
       "  'idx': 4,\n",
       "  'source': \"class TestD:\\n    def _ipython_display_(self):\\n        from IPython.display import display\\n        # dhdl = DisplayId()\\n        # dhdl.display(self.text)\\n        display(HTML('from _ipython_display_'))\\n\\nTestD()\",\n",
       "  'id': 'Y260sZmlsZQ==',\n",
       "  'cell_type': 'code',\n",
       "  'outputs': [\n",
       "    {\n",
       "      'output_type': 'display_data',\n",
       "      'data': {\n",
       "        'text/plain': '<IPython.core.display.HTML object>',\n",
       "        'text/html': 'from _ipython_display_\\n<brd-mark id=\"b4b130aba-efad97be-d5cb9d74-7aad127c\"></brd-mark>'\n",
       "      },\n",
       "      'metadata': {'brd_did': 'b4b130aba-efad97be-d5cb9d74-7aad127c'}\n",
       "    }\n",
       "  ],\n",
       "  'execution_count': 105\n",
       "}\n",
       "```"
      ],
      "text/plain": [
       "{'idx': 4,\n",
       " 'source': \"class TestD:\\n    def _ipython_display_(self):\\n        from IPython.display import display\\n        # dhdl = DisplayId()\\n        # dhdl.display(self.text)\\n        display(HTML('from _ipython_display_'))\\n\\nTestD()\",\n",
       " 'id': 'Y260sZmlsZQ==',\n",
       " 'cell_type': 'code',\n",
       " 'outputs': [{'output_type': 'display_data',\n",
       "   'data': {'text/plain': '<IPython.core.display.HTML object>',\n",
       "    'text/html': 'from _ipython_display_\\n<brd-mark id=\"b4b130aba-efad97be-d5cb9d74-7aad127c\"></brd-mark>'},\n",
       "   'metadata': {'brd_did': 'b4b130aba-efad97be-d5cb9d74-7aad127c'}}],\n",
       " 'execution_count': 105}"
      ]
     },
     "metadata": {
      "bridge": {
       "captured": true
      }
     },
     "output_type": "display_data"
    }
   ],
   "source": [
    "__nb__[__lastcellinfo__.cell_id]"
   ]
  },
  {
   "cell_type": "code",
   "execution_count": 107,
   "id": "673a6521",
   "metadata": {
    "brd": {
     "id": "b8b5d0d8-f4ee-42a2-bd58-5549fc5cf795"
    }
   },
   "outputs": [],
   "source": [
    "bridge_cfg.auto_show = False"
   ]
  },
  {
   "cell_type": "code",
   "execution_count": 108,
   "id": "34185a2d",
   "metadata": {
    "brd": {
     "id": "6dc04483-b966-41b2-8514-47367657901c"
    }
   },
   "outputs": [
    {
     "data": {
      "text/markdown": [
       "```html\n",
       "<div>Hey, Foo!</div>\n",
       "\n",
       "```"
      ],
      "text/plain": [
       "div(('Hey, Foo!',),{})"
      ]
     },
     "metadata": {
      "bridge": {
       "captured": true
      }
     },
     "output_type": "display_data"
    }
   ],
   "source": [
    "Div('Hey, Foo!')"
   ]
  },
  {
   "cell_type": "code",
   "execution_count": 109,
   "id": "8ddb17b8",
   "metadata": {
    "brd": {
     "id": "19e1f042-86a8-4472-a4bb-aad2ffa4cc54"
    }
   },
   "outputs": [
    {
     "data": {
      "text/html": [
       "<style>details ul { list-style-type:none; list-style-position: outside; padding-inline-start: 22px; margin: 0; } details .string { color: #24837b; } details .string::before { content: \"'\"; } details .string::after { content: \"'\"; } details .number { color: #ad8301; } details .true { color: blue; } details .false { color: red; } details .null { color: gray; } span.n { color: darkgrey; } </style>\n",
       "<details open><summary>NBCell@7\n",
       "</summary>  <ul>\n",
       "    <li>\n",
       "<span><span class=\"n\">idx</span>: <span class=\"v number\">7</span></span>    </li>\n",
       "    <li>\n",
       "<span><span class=\"n\">source</span>: <span class=\"v string\">Div(&#x27;Hey, Foo!&#x27;)</span></span>    </li>\n",
       "    <li>\n",
       "<span><span class=\"n\">id</span>: <span class=\"v string\">Y263sZmlsZQ==</span></span>    </li>\n",
       "    <li>\n",
       "<span><span class=\"n\">cell_type</span>: <span class=\"v string\">code</span></span>    </li>\n",
       "<details open><summary>outputs\n",
       "</summary>      <ul>\n",
       "<details open><summary>0\n",
       "</summary>          <ul>\n",
       "            <li>\n",
       "<span><span class=\"n\">output_type</span>: <span class=\"v string\">display_data</span></span>            </li>\n",
       "<details open><summary>data\n",
       "</summary>              <ul>\n",
       "                <li>\n",
       "<span><span class=\"n\">text/plain</span>: <span class=\"v string\">div((&#x27;Hey, Foo!&#x27;,),{})</span></span>                </li>\n",
       "                <li>\n",
       "<span><span class=\"n\">text/markdown</span>: <span class=\"v string\">```html\n",
       "&lt;div&gt;Hey, Foo!&lt;/div&gt;\n",
       "\n",
       "```</span></span>                </li>\n",
       "              </ul>\n",
       "</details>            <li>\n",
       "<span><span class=\"n\">metadata</span>: <span class=\"v \">{&#x27;bridge&#x27;: {&#x27;captured&#x27;: True}, &#x27;brd_did&#x27;: &#x27;b4ef138be-214979cd-94742b4a-f11261cf&#x27;}</span></span>            </li>\n",
       "          </ul>\n",
       "</details><details open><summary>1\n",
       "</summary>          <ul>\n",
       "            <li>\n",
       "<span><span class=\"n\">output_type</span>: <span class=\"v string\">execute_result</span></span>            </li>\n",
       "            <li>\n",
       "<span><span class=\"n\">execution_count</span>: <span class=\"v number\">108</span></span>            </li>\n",
       "<details open><summary>data\n",
       "</summary>              <ul>\n",
       "                <li>\n",
       "<span><span class=\"n\">text/plain</span>: <span class=\"v string\">div((&#x27;Hey, Foo!&#x27;,),{})</span></span>                </li>\n",
       "                <li>\n",
       "<span><span class=\"n\">text/markdown</span>: <span class=\"v string\">```html\n",
       "&lt;div&gt;Hey, Foo!&lt;/div&gt;\n",
       "\n",
       "```</span></span>                </li>\n",
       "              </ul>\n",
       "</details>            <li>\n",
       "<span><span class=\"n\">metadata</span>: <span class=\"v \">{}</span></span>            </li>\n",
       "          </ul>\n",
       "</details>      </ul>\n",
       "</details>    <li>\n",
       "<span><span class=\"n\">execution_count</span>: <span class=\"v number\">108</span></span>    </li>\n",
       "  </ul>\n",
       "</details>\n",
       "<brd-mark id=\"b74d2b673-612d927d-a3bbb556-5fcd0316\"></brd-mark>"
      ],
      "text/markdown": [
       "> code\n",
       "\n",
       "```json\n",
       "{\n",
       "  'idx': 7,\n",
       "  'source': \"Div('Hey, Foo!')\",\n",
       "  'id': 'Y263sZmlsZQ==',\n",
       "  'cell_type': 'code',\n",
       "  'outputs': [\n",
       "    {\n",
       "      'output_type': 'display_data',\n",
       "      'data': {'text/plain': \"div(('Hey, Foo!',),{})\", 'text/markdown': '```html\\n<div>Hey, Foo!</div>\\n\\n```'},\n",
       "      'metadata': {'bridge': {'captured': True}, 'brd_did': 'b4ef138be-214979cd-94742b4a-f11261cf'}\n",
       "    },\n",
       "    {\n",
       "      'output_type': 'execute_result',\n",
       "      'execution_count': 108,\n",
       "      'data': {'text/plain': \"div(('Hey, Foo!',),{})\", 'text/markdown': '```html\\n<div>Hey, Foo!</div>\\n\\n```'},\n",
       "      'metadata': {}\n",
       "    }\n",
       "  ],\n",
       "  'execution_count': 108\n",
       "}\n",
       "```"
      ],
      "text/plain": [
       "{'idx': 7,\n",
       " 'source': \"Div('Hey, Foo!')\",\n",
       " 'id': 'Y263sZmlsZQ==',\n",
       " 'cell_type': 'code',\n",
       " 'outputs': [{'output_type': 'display_data',\n",
       "   'data': {'text/plain': \"div(('Hey, Foo!',),{})\",\n",
       "    'text/markdown': '```html\\n<div>Hey, Foo!</div>\\n\\n```'},\n",
       "   'metadata': {'bridge': {'captured': True},\n",
       "    'brd_did': 'b4ef138be-214979cd-94742b4a-f11261cf'}},\n",
       "  {'output_type': 'execute_result',\n",
       "   'execution_count': 108,\n",
       "   'data': {'text/plain': \"div(('Hey, Foo!',),{})\",\n",
       "    'text/markdown': '```html\\n<div>Hey, Foo!</div>\\n\\n```'},\n",
       "   'metadata': {}}],\n",
       " 'execution_count': 108}"
      ]
     },
     "metadata": {
      "bridge": {
       "captured": true
      }
     },
     "output_type": "display_data"
    }
   ],
   "source": [
    "__nb__[__lastcellinfo__.cell_id]"
   ]
  },
  {
   "cell_type": "markdown",
   "id": "cbfb92a1",
   "metadata": {},
   "source": [
    "# get_nb_from_hooks"
   ]
  },
  {
   "cell_type": "code",
   "execution_count": 110,
   "id": "7d13123e",
   "metadata": {
    "brd": {
     "id": "69e87d12-f52d-4cc1-a5c2-9d768cfb92e8"
    }
   },
   "outputs": [],
   "source": [
    "#| exporti\n",
    "\n",
    "def get_nb_from_hooks() -> NB:\n",
    "    get_csi(True)\n",
    "    get_bridged(True)\n",
    "    get_capturer(True)\n",
    "    return __nb__"
   ]
  },
  {
   "cell_type": "code",
   "execution_count": 111,
   "id": "ab06a486",
   "metadata": {
    "brd": {
     "id": "69cff9de-72d6-4feb-9217-2109026d4944"
    }
   },
   "outputs": [],
   "source": [
    "#| exporti\n",
    "\n",
    "__nb__ = NB()\n",
    "if shell := get_ipython():\n",
    "    if '__nb__' not in shell.user_ns: shell.user_ns['__nb__'] = __nb__\n",
    "    shell.user_ns['__cellinfo__'] = None\n",
    "    shell.user_ns['__lastcellinfo__'] = None\n",
    "    if dformatter := shell.display_formatter:\n",
    "        _BRDD_MIMES = set(dformatter.format_types)# - {'text/plain'}  # type: ignore\n",
    "\n",
    "if bridge_cfg.bootstrap: get_nb_from_hooks()"
   ]
  },
  {
   "cell_type": "code",
   "execution_count": 112,
   "id": "6b65aed1",
   "metadata": {
    "brd": {
     "id": "772ccc75-2c50-477b-8c9b-d1c627253d6b"
    }
   },
   "outputs": [
    {
     "data": {
      "text/plain": [
       "{'application/javascript',\n",
       " 'application/json',\n",
       " 'application/pdf',\n",
       " 'image/jpeg',\n",
       " 'image/png',\n",
       " 'image/svg+xml',\n",
       " 'text/html',\n",
       " 'text/latex',\n",
       " 'text/markdown',\n",
       " 'text/plain'}"
      ]
     },
     "metadata": {
      "bridge": {
       "captured": true
      }
     },
     "output_type": "display_data"
    }
   ],
   "source": [
    "_BRDD_MIMES"
   ]
  },
  {
   "cell_type": "markdown",
   "id": "6e021331",
   "metadata": {},
   "source": [
    "What does this module do?\n",
    "\n",
    "- Receives IPython's events to record cell info (what the kernel can possibly know before and after the cell run).\n",
    "- Hooks into the display system to convert all calls into `transient` calls with a display_id connected to the cell_id.\n",
    "- Transforms cell code with a custom AST transformer to redirect cell result to the display system.\n",
    "\n",
    "This way, Bridget effectively knows what each cell output is (except stdout/err for now) and how to reference and modify it using standard IPython features.\n",
    "\n",
    "Is this enough to make Bridget a functional notebook editor? Not really, we need real-time updates of the notebook structure (the notebook state, what would be saved to disk as .ipynb) to be able to navigate the notebook.\n",
    "\n",
    "That unfortunately requires to navigate the procellous waters of widgets and extensions. Good ol' IPython and Jupyter are not designed to give the kernel knowledge about the notebook state in real time. We pythonistas deluded ourselves into thinking Jupiter is all about us, but a Jupyter notebook is really a JavaScript application that controls everything, including the model and the view. The kernel is a second class citizen that knows next to nothing about or even what is a notebook.\n",
    "\n",
    "We're going to fix that next."
   ]
  },
  {
   "cell_type": "markdown",
   "id": "52c19655",
   "metadata": {},
   "source": [
    "# Colophon\n",
    "----\n"
   ]
  },
  {
   "cell_type": "code",
   "execution_count": 113,
   "id": "16800afc",
   "metadata": {
    "brd": {
     "id": "fffeb543-1904-4231-8d08-2a189031f213"
    }
   },
   "outputs": [],
   "source": [
    "import fastcore.all as FC\n",
    "import nbdev\n",
    "from nbdev.clean import nbdev_clean"
   ]
  },
  {
   "cell_type": "code",
   "execution_count": 114,
   "id": "ce116d55",
   "metadata": {
    "brd": {
     "id": "4fed04c8-628c-47a8-a1bf-c0f06980507d"
    }
   },
   "outputs": [],
   "source": [
    "if FC.IN_NOTEBOOK:\n",
    "    nb_path = '15_nb_hooks.ipynb'\n",
    "    # nbdev_clean(nb_path)\n",
    "    nbdev.nbdev_export(nb_path)"
   ]
  }
 ],
 "metadata": {
  "kernelspec": {
   "display_name": "Python 3",
   "language": "python",
   "name": "python3"
  },
  "language_info": {
   "codemirror_mode": {
    "name": "ipython",
    "version": 3
   },
   "file_extension": ".py",
   "mimetype": "text/x-python",
   "name": "python",
   "nbconvert_exporter": "python",
   "pygments_lexer": "ipython3",
   "version": "3.12.11"
  }
 },
 "nbformat": 4,
 "nbformat_minor": 5
}
