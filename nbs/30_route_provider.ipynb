{
 "cells": [
  {
   "cell_type": "code",
   "execution_count": 1,
   "metadata": {
    "bridget": {
     "id": "6d3eb64d-604c-45f9-b364-236607a94644"
    }
   },
   "outputs": [],
   "source": [
    "#| default_exp routing\n"
   ]
  },
  {
   "cell_type": "code",
   "execution_count": 2,
   "metadata": {
    "bridget": {
     "id": "e8b84ab5-37fe-4a4a-b2e3-7449c46bdf9d"
    }
   },
   "outputs": [],
   "source": [
    "#| export\n",
    "from __future__ import annotations\n"
   ]
  },
  {
   "cell_type": "markdown",
   "metadata": {},
   "source": [
    "# Routes provider\n",
    "\n",
    "> Enables method-based routing in fasthtml by extending `APIRouter` capabilities.  \n",
    "\n",
    "FastHTML currently supports two scopes for route endpoints: global and local. Here, I proppose a third namespace, class.\n",
    "\n",
    "This allows objects to provide routes through their methods, similar to class-based views in other web frameworks.\n"
   ]
  },
  {
   "cell_type": "markdown",
   "metadata": {},
   "source": [
    "# Prologue"
   ]
  },
  {
   "cell_type": "code",
   "execution_count": 3,
   "metadata": {
    "bridget": {
     "id": "587acf8f-8c70-41af-9299-215918869dd9"
    }
   },
   "outputs": [],
   "source": [
    "#| export\n",
    "\n",
    "import functools\n",
    "from contextlib import contextmanager\n",
    "from functools import update_wrapper\n",
    "from types import FunctionType\n",
    "from types import MethodType\n",
    "from typing import Any\n",
    "from typing import Callable\n",
    "from typing import overload\n",
    "from typing import Protocol\n",
    "from typing import Sequence\n",
    "\n",
    "import fasthtml.core\n",
    "from fasthtml.core import all_meths\n",
    "from fasthtml.core import APIRouter\n",
    "from fasthtml.core import FastHTML\n",
    "from fasthtml.core import noop_body\n"
   ]
  },
  {
   "cell_type": "code",
   "execution_count": 4,
   "metadata": {
    "bridget": {
     "id": "e8443529-a6f8-4c7f-b781-09705ee4a85d"
    }
   },
   "outputs": [],
   "source": [
    "#| export\n",
    "\n",
    "from bridget.helpers import id_gen\n",
    "from bridget.display_helpers import nb_app\n"
   ]
  },
  {
   "cell_type": "code",
   "execution_count": 5,
   "metadata": {
    "bridget": {
     "id": "e946610b-9492-4dcb-8508-884ea92084fb"
    }
   },
   "outputs": [],
   "source": [
    "import inspect\n",
    "import typing\n",
    "from dataclasses import dataclass\n",
    "from functools import partial\n",
    "from itertools import groupby\n",
    "from typing import cast\n",
    "from typing import ClassVar\n",
    "from typing import Iterable\n",
    "from typing import Mapping\n",
    "from typing import Self\n",
    "from typing import Type\n",
    "\n",
    "import fastcore.all as FC\n",
    "import starlette.routing\n",
    "import starlette.types\n",
    "from fastcore.test import *\n",
    "from fasthtml.components import Button\n",
    "from fasthtml.components import Div\n",
    "from fasthtml.core import uri\n",
    "from rich.console import Console\n",
    "from starlette.responses import HTMLResponse\n",
    "from starlette.responses import Response\n",
    "from starlette.routing import Match\n",
    "from starlette.routing import Route\n",
    "from starlette.testclient import TestClient\n"
   ]
  },
  {
   "cell_type": "markdown",
   "metadata": {},
   "source": [
    "----\n"
   ]
  },
  {
   "cell_type": "code",
   "execution_count": 6,
   "metadata": {
    "bridget": {
     "id": "f4b63528-913e-46d9-95cf-855e5481972b"
    }
   },
   "outputs": [],
   "source": [
    "#| exporti\n",
    "\n",
    "new_id = id_gen()\n"
   ]
  },
  {
   "cell_type": "code",
   "execution_count": 7,
   "metadata": {
    "bridget": {
     "id": "26d0c1d6-920a-4dce-a947-88d6cea9370a"
    }
   },
   "outputs": [],
   "source": [
    "cprint = (console := Console(width=120)).print\n"
   ]
  },
  {
   "cell_type": "markdown",
   "metadata": {},
   "source": [
    "----"
   ]
  },
  {
   "cell_type": "code",
   "execution_count": 8,
   "metadata": {
    "bridget": {
     "id": "94bc112a-ad41-41b1-b822-abc06c11c4b5"
    }
   },
   "outputs": [],
   "source": [
    "def get_app():\n",
    "    return (app := nb_app()), TestClient(app, base_url='http://nb', headers={'hx-request': '1'}), app.route\n",
    "\n",
    "app, cli, rt = get_app()"
   ]
  },
  {
   "cell_type": "markdown",
   "metadata": {},
   "source": [
    "# patched\n",
    "> Quick hack to monkey-patch a module function.\n",
    "\n",
    "`FastHTML` only considers as of now (v.0.12.0) names of static (possibly nested) functions. We'll need to temporarily patch `nested_name` to get right the name of methods (see `APIRouterD` below).\n"
   ]
  },
  {
   "cell_type": "code",
   "execution_count": 9,
   "metadata": {},
   "outputs": [],
   "source": [
    "#| exporti\n",
    "\n",
    "@contextmanager\n",
    "def _patched(o, nm, f):\n",
    "    original = getattr(o, nm)    \n",
    "    setattr(o, nm, update_wrapper(f, original))\n",
    "    try: yield\n",
    "    finally: setattr(o, nm, original)\n"
   ]
  },
  {
   "cell_type": "markdown",
   "metadata": {},
   "source": [
    "# Methods as routes endpoints\n",
    "> Understanding FastHTML's routing system and extending it to support instance methods.\n",
    "\n",
    ":::{.callout-note}\n",
    "In this docs I use widget/component interchangeably.\n",
    ":::\n"
   ]
  },
  {
   "cell_type": "markdown",
   "metadata": {},
   "source": [
    "\n",
    "### Why Method-Based Routes in Notebooks?\n",
    "\n",
    "FastHTML typically encourages defining components in separate modules. While this works great for web applications, notebooks have different workflows:\n",
    "\n",
    "**Interactive Development**  \n",
    "Notebooks are all about exploration and rapid prototyping. Everything happens in cells - they're our unit of work. Notebooks are more akin to one page apps. When you're quickly testing ideas or building one-time components, creating separate modules can feel like unnecessary overhead. Method-based routes let us define and test components right where we need them, with scoping and encapsulation.\n",
    "\n",
    "**State Management**  \n",
    "When building widgets, we often need to maintain state. Instance methods make this natural. While both modules and classes can handle state effectively, sometimes one approach fits better than the other. It's nice to have options.\n",
    "\n",
    "**Quick Iteration**  \n",
    "The real advantage comes when you're iterating on a component. You can write code, test it, and modify it all in the same context. Make a change, run the cell, see the results. No jumping between files or reloading modules needed.\n",
    "\n",
    "This approach may complement FastHTML's module-based components by providing another option for route management."
   ]
  },
  {
   "cell_type": "markdown",
   "metadata": {},
   "source": [
    "# Scoping\n",
    "\n",
    ":::{.callout-note}\n",
    "All this discussion is for current FastHTML, v0.12.0 at the time of this writing. FastHTML is young and nervous, so things may change quickly and unexpectedly.\n",
    ":::\n"
   ]
  },
  {
   "cell_type": "code",
   "execution_count": 10,
   "metadata": {},
   "outputs": [],
   "source": [
    "app, cli, rt = get_app()\n",
    "\n",
    "def a(): return 'a'  # type: ignore\n",
    "test_eq(type(a), FunctionType)\n",
    "test_eq(str(a), f\"<function a at 0x{id(a):x}>\")\n",
    "\n",
    "global_a = a\n",
    "\n",
    "\n",
    "# @rt('/a', 'get')\n",
    "# def a(): return 'a'\n",
    "\n",
    "# or its nearly equivalent:\n",
    "a = rt('/a', 'get')(a)\n",
    "\n",
    "assert a is not global_a\n",
    "test_eq(str(a), '/a')\n",
    "test_eq(cli.get('/a').text, 'a')\n",
    "test_eq(app.url_path_for('a'), '/a')\n",
    "test_eq(a.to(), '/a')\n",
    "test_eq(set(app.routes[-1].methods), {'GET', 'HEAD'})\n",
    "\n",
    "\n",
    "@rt('/a', 'post')\n",
    "def a(x:int): return f'a {x}'\n",
    "\n",
    "test_eq(cli.post('/a?x=5').text, 'a 5')\n",
    "test_eq(set(app.routes[-1].methods), {'POST'})\n"
   ]
  },
  {
   "cell_type": "markdown",
   "metadata": {},
   "source": [
    "`FastHTML.route` decorator, or the common `rt` alias, creates a Starlette `Route` with an endpoint based on a static function, function `a` in this case. But it's not function `a`, it's a especial callable wrapped over the function `a` to facilitate route introspection.\n",
    "\n",
    "During route definition, `a` is removed from the scope it was defined and can be used to create additional routes with other HTTP methods (with caveats, `'post'` is a especial case).\n"
   ]
  },
  {
   "cell_type": "code",
   "execution_count": 11,
   "metadata": {},
   "outputs": [],
   "source": [
    "def b():\n",
    "    @rt('/b')\n",
    "    def _b(): return 'b'\n",
    "    return _b\n",
    "\n",
    "innerb = b()\n",
    "test_eq(cli.get('/b').text, 'b')\n",
    "test_eq(str(innerb), '/b')\n",
    "test_eq(app.url_path_for('b__b'), '/b')\n",
    "test_eq(innerb.to(), '/b')\n"
   ]
  },
  {
   "cell_type": "markdown",
   "metadata": {},
   "source": [
    "Recent FastHTML versions also supports nested functions on local scopes.\n"
   ]
  },
  {
   "cell_type": "code",
   "execution_count": 12,
   "metadata": {},
   "outputs": [],
   "source": [
    "ar = APIRouter()\n",
    "\n",
    "@ar('/c')\n",
    "def c(): return 'c'\n",
    "\n",
    "test_eq(str(c), '/c')\n",
    "test_eq(ar.c.to(), '/c')\n",
    "test_eq(ar.rt_funcs.c.to(), '/c')\n",
    "\n",
    "ar.to_app(app)\n",
    "\n",
    "test_eq(cli.get('/c').text, 'c')\n",
    "test_eq(app.url_path_for('c'), '/c')\n"
   ]
  },
  {
   "cell_type": "markdown",
   "metadata": {},
   "source": [
    "`APIRouter` is a convenient way of grouping routes."
   ]
  },
  {
   "cell_type": "markdown",
   "metadata": {},
   "source": [
    "### FastHTML's Route Requirements\n",
    "\n",
    "FastHTML's routing system builds on Starlette's, which accepts both functions and methods as endpoints (besides ASGI classes). The only requirement is being a [callable](https://github.com/encode/starlette/blob/427a8dcf357597df27b2509b1ac436caf7708300/starlette/routing.py#L208):\n",
    "\n",
    "\n",
    "```python\n",
    "endpoint: typing.Callable[..., typing.Any]\n",
    "```\n",
    "\n",
    "FastHTML follows FastAPI's style of using decorators for route definition. Route endpoints must be:\n",
    "1. Callables with a `__name__` (`__qualname__` as of v0.12.0) attribute (for route identification) [FastHTML._add_route](https://github.com/AnswerDotAI/fasthtml/blob/bff83a9bca000c38c91909809e2726a51418793f/fasthtml/core.py#L608)\n",
    "2. Have type annotations for all parameters (for request validation)\n",
    "\n",
    "While this works for functions, it creates challenges with instance methods:\n",
    "\n",
    "1. **Method Binding**: When using decorators at class level, methods are still unbound functions:\n",
    "   - The decorator sees the function `get`, not the bound method\n",
    "   - The `self` parameter won't be properly valued\n",
    "\n",
    "2. **Type Annotations**: FastHTML expects all parameters to be annotated:\n",
    "   - The implicit `self` parameter lacks annotation\n",
    "   - This triggers warnings in FastHTML's validation\n",
    "\n",
    "`APIRouter` like `rt` only works wth static functions. \n",
    "\n",
    "As a workaround we could use `partial` (or FastHTML own trick, a lightweight stateful callable) to bind methods after instance creation. As partials don't have a `__name__` (`__qualname__` now) attribute, we need to hack it manually:\n"
   ]
  },
  {
   "cell_type": "code",
   "execution_count": 13,
   "metadata": {},
   "outputs": [
    {
     "data": {
      "text/plain": [
       "\"<__main__.AClass object at 0x10fdc55b0> 'b'\""
      ]
     },
     "execution_count": 13,
     "metadata": {},
     "output_type": "execute_result"
    }
   ],
   "source": [
    "class AClass:\n",
    "    def get(self, a:str): return f'{self!r} {a!r}'\n",
    "\n",
    "a = AClass()\n",
    "# Manually create bound method and set name\n",
    "(f := partial(a.get.__func__, a)).__qualname__ = 'get'  # type: ignore\n",
    "rt('/give/me/{a}')(f)\n",
    "\n",
    "cli.get('/give/me/b').text\n"
   ]
  },
  {
   "cell_type": "markdown",
   "metadata": {},
   "source": [
    "This approach is verbose and error-prone, separates route definition from method implementation, and makes code harder to maintain, besides being cumbersome and ugly. We need something more in order to use methods as endpoints with fastHTML, clearly time for some more python dark magic here. But we're in python-land where magic abounds.\n",
    "\n",
    "We'll extend FastHTML's routing capabilities by:\n",
    "- Creating an enhanced `APIRouter` class that support (and preserves) method references\n",
    "- Supporting automatic method binding at instance creation\n",
    "- Enabling property-based routing for GET/POST/PUT/DELETE operations\n",
    "- Providing automatic route mounting and path generation\n",
    "\n",
    "We aim for a more natural and maintainable syntax:\n",
    "\n",
    "```python\n",
    "class Widget:\n",
    "    ...\n",
    "    @ar\n",
    "    def value(self): \n",
    "        return self._value\n",
    "```\n",
    "\n",
    "We'll use the handy `APIRouter` to define routes providers.\n",
    "\n",
    ":::{.callout-note}\n",
    "Most of this notebook was written before v0.12.0. In v0.9.1, `APIRouter` was defined but not used anywhere. I wasn't sure what were Jeremy's intention for the class, but it seemed appropiate using it here for our purposes.\n",
    "\n",
    "From v0.10.2 to v0.12.0, `APIRouter` has evolved considerably but the basic idea proposed here holds through.\n",
    ":::\n"
   ]
  },
  {
   "cell_type": "markdown",
   "metadata": {},
   "source": [
    "First, some helpers to get the routes from a provider and its class hierarchy."
   ]
  },
  {
   "cell_type": "code",
   "execution_count": 14,
   "metadata": {},
   "outputs": [],
   "source": [
    "def routes_from(o: object):\n",
    "    \"Yield all route descriptors (path,methods,name,include_in_schema,body_wrap) from class hierarchy in mro order\"\n",
    "    for base in (o if isinstance(o, type) else type(o)).mro()[:-1]:  \n",
    "        if not isinstance(base, type) or not hasattr(base, 'ar'): continue\n",
    "        yield from base.ar.routes\n",
    "\n",
    "def add_routes(app: FastHTML, o):\n",
    "    for f,p,m,n,*_ in routes_from(o):\n",
    "        app.add_route(Route(p, f, methods=m, name=n))\n"
   ]
  },
  {
   "cell_type": "code",
   "execution_count": 15,
   "metadata": {},
   "outputs": [],
   "source": [
    "class A:\n",
    "    ar = APIRouter()\n",
    "    @ar('/a')\n",
    "    def a(self): return 'a'\n",
    "\n",
    "class B(A):\n",
    "    ar = APIRouter()\n",
    "    @ar('/b')\n",
    "    def b(self): return 'b'\n",
    "\n",
    "class C(B):\n",
    "    ar = APIRouter()\n",
    "    @ar('/c?v={v}')\n",
    "    def c(self, v:int=0): return f'c {v}'\n",
    "\n",
    "class D(A):\n",
    "    ar = APIRouter()\n",
    "    @ar('/d')\n",
    "    def d(self): return 'd'\n",
    "\n",
    "class E(B, D):\n",
    "    ar = APIRouter()\n",
    "    @ar('/a')\n",
    "    def e(self): return 'e'\n",
    "\n",
    "\n",
    "test_eq(C.mro()[:-1], [C, B, A])\n",
    "test_eq(E.mro()[:-1], [E, B, D, A])\n",
    "\n",
    "test_eq([_[1] for _ in list(routes_from(C))],  ['/c?v={v}', '/b', '/a'])\n",
    "test_eq([_[1] for _ in list(routes_from(E))],  ['/a', '/b', '/d', '/a'])\n"
   ]
  },
  {
   "cell_type": "code",
   "execution_count": 16,
   "metadata": {},
   "outputs": [],
   "source": [
    "app, cli, _ = get_app()\n",
    "add_routes(app, C)\n",
    "\n",
    "test_eq([_.path for _ in app.routes], ['/c?v={v}', '/b', '/a'])\n",
    "\n",
    "c_rt = app.routes[0]\n",
    "\n",
    "match, _ = c_rt.matches({'type': 'http', 'path': '/c?v=3', 'method': 'GET'})\n",
    "test_eq(match, Match.FULL)\n",
    "\n",
    "match, _ = c_rt.matches({'type': 'http', 'path': '/c?v=7', 'method': 'PUT'})\n",
    "test_eq(match, Match.PARTIAL)\n"
   ]
  },
  {
   "cell_type": "code",
   "execution_count": 17,
   "metadata": {},
   "outputs": [],
   "source": [
    "app, cli, _ = get_app()\n",
    "add_routes(app, E)\n",
    "\n",
    "test_eq([_.path for _ in app.routes], ['/a', '/b', '/d', '/a'])\n",
    "\n",
    "e_rt = app.routes[0]\n",
    "\n",
    "match, child_scope = e_rt.matches({'type': 'http', 'path': '/a', 'method': 'GET'})\n",
    "test_eq(match, Match.FULL)\n",
    "test_eq(child_scope['endpoint'], e_rt.endpoint)\n",
    "test_eq(e_rt.endpoint(''), 'e')\n"
   ]
  },
  {
   "cell_type": "markdown",
   "metadata": {},
   "source": [
    "`provider_routes` returns the routes in MRO order. If we add the routes in that order, Starlette will match them in that order too (NOTE: check this is documented). As such, more specific endpoints have precedence over more ones.\n",
    "\n",
    "Starlette accepts methods as endpoints with no probles, but as we've seen, not current FastHTML versions (0.12.0 as of this writing). In FastHTML, we need to use bound functions -- AKA methods--. And that is a bit more involved than using `app.route` on static functions.\n"
   ]
  },
  {
   "cell_type": "markdown",
   "metadata": {},
   "source": [
    "# RouteProvider\n",
    "> Any object with an `APIRouter` attribute can be a provider of routes.\n"
   ]
  },
  {
   "cell_type": "code",
   "execution_count": 18,
   "metadata": {},
   "outputs": [],
   "source": [
    "#| export\n",
    "\n",
    "_AR_MARK = '__routes__'\n",
    "\n",
    "# @typing.runtime_checkable\n",
    "class RouteProviderP(Protocol): \n",
    "    __routes__: Sequence  # of (func, path, methods, name, include_in_schema, body_wrap) like `APIRouter`'s routes attr.\n",
    "    ar: APIRouter\n",
    "\n",
    "class RouteProvider:  # noop class, only to alliviate the stupid wiggly reds\n",
    "    __routes__: Sequence\n",
    "    ar: APIRouter\n"
   ]
  },
  {
   "cell_type": "markdown",
   "metadata": {},
   "source": [
    "# APIRouterD\n",
    "> APIRouter as a descriptor\n",
    "\n",
    "APIRouter for Method-Based Routes.  \n",
    "\n",
    "Extends `FastHTML`'s `APIRouter` to preserve method references while enabling route registration.\n",
    "\n",
    "~~For reasons unclear to me, APIRouter wipes out the functions when defining routes unlike normal `@rt` decorator.~~\n",
    "\n",
    "We need to keep the functions around in order for the class to get its methods.\n",
    "\n",
    "`MethodsRouter` preserves the original method references while collecting routes. This allows methods to work both as routes and methods, with proper instance binding. Like FastHTML's standard APIRouter, routes are stored but not registered immediately, which lets us bind them to instances at mount time. This delayed registration enables stateful components and works naturally with Python properties and methods, maintaining compatibility with all FastHTML's routing features.\n"
   ]
  },
  {
   "cell_type": "code",
   "execution_count": 19,
   "metadata": {},
   "outputs": [],
   "source": [
    "#| exporti\n",
    "\n",
    "def nested_name(f):\n",
    "    \"Get name of function `f` using '_' to join nested function names\"\n",
    "    return f.__qualname__.replace('.<locals>.', '_').replace('.', '_')\n"
   ]
  },
  {
   "cell_type": "code",
   "execution_count": 20,
   "metadata": {},
   "outputs": [],
   "source": [
    "def f():\n",
    "    def ff(): return 'ff'\n",
    "    return ff\n",
    "\n",
    "test_eq(f.__name__, 'f')\n",
    "test_eq(f.__qualname__, 'f')\n",
    "test_eq(f().__name__, 'ff')\n",
    "test_eq(f().__qualname__, 'f.<locals>.ff')\n",
    "test_eq(nested_name(f), 'f')\n",
    "test_eq(nested_name(f()), 'f_ff')\n",
    "\n",
    "class A:\n",
    "    def f(self):\n",
    "        def ff(): return 'ff'\n",
    "        return ff\n",
    "\n",
    "test_eq(A.f.__name__, 'f')\n",
    "test_eq(A.f.__qualname__, 'A.f')\n",
    "test_eq(A.f(A()).__name__, 'ff')\n",
    "test_eq(A.f(A()).__qualname__, 'A.f.<locals>.ff')\n",
    "test_eq(nested_name(A.f), 'A_f')\n",
    "test_eq(nested_name(A.f(A())), 'A_f_ff')\n"
   ]
  },
  {
   "cell_type": "code",
   "execution_count": 21,
   "metadata": {},
   "outputs": [],
   "source": [
    "class A:\n",
    "    def f(self):\n",
    "        def ff(): return 'ff'\n",
    "        return ff\n",
    "\n",
    "\n",
    "with _patched(fasthtml.core, 'nested_name', nested_name):\n",
    "    test_eq(fasthtml.core.nested_name(A.f), 'A_f')\n",
    "    test_eq(fasthtml.core.nested_name(A.f(A())), 'A_f_ff')\n"
   ]
  },
  {
   "cell_type": "code",
   "execution_count": 22,
   "metadata": {},
   "outputs": [],
   "source": [
    "#| exporti\n",
    "\n",
    "# def provider_routes(prov: object):\n",
    "#     \"Yield all route specs (func,path,methods,name,include_in_schema,body_wrap) from class hierarchy in mro order\"\n",
    "#     for base in (prov if isinstance(prov, type) else type(prov)).mro()[:-1]:  \n",
    "#         if not isinstance(base, type) or not hasattr(base, _AR_MARK): continue\n",
    "#         yield from getattr(base, _AR_MARK).items()\n",
    "\n",
    "def _fn(f):\n",
    "    return f.fget.__name__ if isinstance(f, property) else f.__name__  # type: ignore\n",
    "\n",
    "def _path(path):\n",
    "    if isinstance(path, str): return path\n",
    "    if isinstance(path, property): return f\"/{getattr(path.fget, '__name__')}\"\n",
    "    if callable(path) or isinstance(path, classmethod): return f\"/{path.__name__}\"\n",
    "    raise TypeError(f\"Invalid path type: {type(path)}\")\n",
    "\n",
    "_prop2mth = list(zip(('fget', 'fset', 'fdel'), (['GET'], ['POST', 'PUT'], ['DELETE'])))\n",
    "\n",
    "def _bound(func, o):\n",
    "    if isinstance(func, FunctionType): return MethodType(func, o)\n",
    "    if isinstance(func, (staticmethod, classmethod)): return getattr(o, func.__name__)\n",
    "    if isinstance(func, classmethod): return getattr(type(o), 'd')\n",
    "    raise TypeError(f\"Invalid function type: {type(func)}\")\n",
    "\n",
    "# def _as_mths(func, o):\n",
    "#     if isinstance(o, type):\n",
    "#         if isinstance(func, property):\n",
    "#             yield from ((f, m) for fn, m in _prop2mth if (f := getattr(func, fn, None)))\n",
    "#         else: yield func, None\n",
    "#     else:\n",
    "#         if isinstance(func, property):\n",
    "#             yield from ((MethodType(f, o), m) for fn, m in _prop2mth if (f := getattr(func, fn, None)))\n",
    "#         # else: yield getattr(o, func.__name__), None\n",
    "#         elif isinstance(func, (staticmethod, classmethod)): yield getattr(o, func.__name__), None\n",
    "#         else: yield MethodType(func, o), None\n",
    "def _unravel_prop(func, o):\n",
    "    if isinstance(func, property):\n",
    "        yield from ((f, m) for fn, m in _prop2mth if (f := getattr(func, fn, None)))\n",
    "    else: yield func, None\n",
    "def _reg_mth(ar, func, args, o):\n",
    "    for mth, m in _unravel_prop(func, o):\n",
    "        path, methods, *_ = args\n",
    "        ar(path, methods or m or 'get', *_)(mth)\n"
   ]
  },
  {
   "cell_type": "markdown",
   "metadata": {},
   "source": [
    "I think the original intuition of Jeremy with APIRouter was correct: a simple class that gathered the routes arguments and defined the final routes in to_app. But as it removed the functions from the definition scope, it was not possible to inspect the routes with usual to() or reverse lookup URLs.\n",
    "\n",
    "The current version solves the issue adding an rt_funcs attribute to APIRouter and adding the routes as attributes.\n"
   ]
  },
  {
   "cell_type": "markdown",
   "metadata": {},
   "source": [
    "## APIRouterC"
   ]
  },
  {
   "cell_type": "code",
   "execution_count": 23,
   "metadata": {},
   "outputs": [],
   "source": [
    "#| exporti\n",
    "\n",
    "class APIRouterC(APIRouter):\n",
    "\n",
    "    def _wrap_func(self, func, path=None):\n",
    "        name = func.__name__\n",
    "        wrapped = fasthtml.core._mk_locfunc(func, path)\n",
    "        wrapped.__routename__ = nested_name(func)\n",
    "        # If you are using the def get or def post method names, this approach is not supported\n",
    "        if name not in all_meths: setattr(self.rt_funcs, name, wrapped)\n",
    "        return wrapped\n",
    "\n",
    "    # Don't like monkey-patching `core`, let's see if transient patching is enough\n",
    "    def to_app(self, app): \n",
    "        \"Add routes to `app`\"\n",
    "        with _patched(fasthtml.core, 'nested_name', nested_name):\n",
    "            for args in self.routes: app._add_route(*args)\n",
    "            for args in self.wss: app._add_ws(*args)\n",
    "    \n",
    "    def _rts(self, fn): return list(filter(lambda x: x[0].__name__==fn, self.routes))\n",
    "\n",
    "    def to(self, fn=None, /, **kw) -> str: \n",
    "        if fn is None: return self.prefix.strip('/')\n",
    "        if not (rr := self._rts(fn)): raise NameError(f\"Endpoint {fn} not found.\")\n",
    "        return fasthtml.core.qp(f\"{self.prefix.strip('/')}{rr[0][1]}\", **kw)  # type: ignore\n",
    "\n",
    "    def name(self, fn=None) -> str: \n",
    "        if fn is None: return getattr(self, '__routename__', '')\n",
    "        if not (rr := self._rts(fn)): raise NameError(f\"Endpoint {fn} not found.\")\n",
    "        # return nested_name(rr[0][0])\n",
    "        return f\"{(nm:=self.name())+(':' if nm else '')}{nested_name(rr[0][0])}\"\n"
   ]
  },
  {
   "cell_type": "markdown",
   "metadata": {},
   "source": [
    "`fasthtml.corenested_name` only considers static (nested) function.\n",
    "\n",
    "Current APIRouter (v0.12.0) has a minor issue in _wrap_func, it uses `__name__` for the name of the route instead of `__qualname__`. I could patch it, but this subclass will do for now. \n",
    "\n",
    "APIRouterC also has an alternative to rt_funcs, given the method name:\n",
    "  - APIRouterC.to(name, ...) return the route path.\n",
    "  - APIRouterC.name(name) return the route name.\n",
    "  - can use HTTP methods as method names\n"
   ]
  },
  {
   "cell_type": "markdown",
   "metadata": {},
   "source": [
    "## APIRouterD"
   ]
  },
  {
   "cell_type": "code",
   "execution_count": 24,
   "metadata": {},
   "outputs": [],
   "source": [
    "#| export\n",
    "\n",
    "class APIRouterD(APIRouterC):\n",
    "    def __init__(self, *args, **kwargs): self._rtargs, self._name = {}, None; super().__init__(*args, **kwargs)\n",
    "    \n",
    "    @overload\n",
    "    def __call__(self, path:FunctionType, *args, **kwargs) -> Callable: ...\n",
    "    @overload\n",
    "    def __call__(self, path:classmethod, *args, **kwargs) -> classmethod: ...\n",
    "    @overload\n",
    "    def __call__(self, path:property, *args, **kwargs) -> property: ...\n",
    "    @overload\n",
    "    def __call__(self, path:str, *args, **kwargs) -> Callable: ...\n",
    "    def __call__(self, path:Any=None, methods=None, name=None, \n",
    "                        include_in_schema=True, body_wrap=noop_body):\n",
    "        # gather precursors of routes\n",
    "        def f(func):\n",
    "            p = _path(path)\n",
    "            self._rtargs[func] = '/' if p == '/index' else p, methods, name, include_in_schema, body_wrap\n",
    "            return func  # let methods be methods\n",
    "        return f if path is None or isinstance(path, str) else f(path)\n",
    "\n",
    "    def __set_name__(self, owner, name): \n",
    "        assert not self._name, f\"APIRouterD already named {self._name}.\"\n",
    "        self._name = name\n",
    "        for func, args in self._rtargs.items(): \n",
    "            for mth, m in _unravel_prop(func, owner):\n",
    "                path, methods, *rest = args\n",
    "                self.routes.append((mth, path, methods or m or 'get', *rest))\n",
    "        for base in owner.mro()[1:-1]: \n",
    "            if rr := getattr(base, _AR_MARK, None):\n",
    "                self.routes.extend(_ for _ in rr if _ not in self.routes)\n",
    "        setattr(owner, _AR_MARK, self.routes)  # mark class as routes provider\n",
    "\n",
    "    def __get__(self, instance, owner):\n",
    "        # bind my routes to class/instance\n",
    "        if not self._name: # shouldn't happen\n",
    "            raise AttributeError(f\"APIRouterD {self._name} not bound to {owner}\")\n",
    "        if not instance: return self\n",
    "        ar = APIRouterC(self.prefix, self.body_wrap) # final routes w/ bounded endpoint\n",
    "        for func, *args in self.routes: ar(*args)(_bound(func, instance))\n",
    "        setattr(instance, self._name, ar)  # type: ignore # instance doesn't need the descriptor any more\n",
    "        return ar\n",
    "\n",
    "\n",
    "    def to_app(self, app): raise TypeError(\"APIRouterD can't add routes to an app\")\n",
    "\n",
    "for o in all_meths: setattr(APIRouterD, o, functools.partialmethod(APIRouterD.__call__, methods=o))\n"
   ]
  },
  {
   "cell_type": "code",
   "execution_count": 25,
   "metadata": {},
   "outputs": [],
   "source": [
    "# type: ignore\n",
    "\n",
    "class A:\n",
    "    ar = APIRouterD()\n",
    "\n",
    "    def __init__(self, value:int=3): self.value = value\n",
    "\n",
    "    @ar  # path /, name A_index\n",
    "    def index(self):\n",
    "        # int 0 is not a valid FastHTML return value\n",
    "        return self.value if self.value != 0 else HTMLResponse('0')\n",
    "\n",
    "    @ar  # or @ar.get or @ar.get('/a')\n",
    "    def a(self): return f'a {self.value}'\n",
    "\n",
    "    @ar.post('/a')\n",
    "    def a_change(self, x:int): self.value = x; return f'new value {x}'\n",
    "\n",
    "    @ar('/b')  # name A_b, , method [GET, POST]\n",
    "    def b(self): return f'b {self.value}'\n",
    "\n",
    "    @ar  \n",
    "    @staticmethod\n",
    "    def c(): return 'c'\n",
    "\n",
    "    @ar\n",
    "    @classmethod\n",
    "    def d(cls): return f'd {cls.__name__}'\n",
    "\n",
    "    @ar\n",
    "    @property  # path /e, name A_e, method GET\n",
    "    def e(self): return f'e {self.value}'\n",
    "\n",
    "    @ar\n",
    "    @e.setter  # path /e, name A_e, method [POST, PUT]\n",
    "    def e(self, x:int): self.value = x; return x\n",
    "\n",
    "    @ar  # path /e, name A_e, method DELETE\n",
    "    @e.deleter\n",
    "    def e(self): del self.value; return Response(status_code=204)\n",
    "\n",
    "app, cli, _ = get_app()\n",
    "\n",
    "a = A()\n",
    "a.ar.to_app(app)\n",
    "\n",
    "test_eq(cli.get('/').text, '3')\n",
    "\n",
    "test_eq(cli.get('/a').text, 'a 3')\n",
    "test_eq(app.url_path_for('A_a'), '/a')\n",
    "test_eq(a.ar.a.to(), '/a')\n",
    "test_eq(a.ar.to('a'), '/a')\n",
    "test_eq(set([*filter(lambda r: r.path == '/a', app.routes)][0].methods), {'GET', 'HEAD'})\n",
    "\n",
    "test_eq(cli.post('/a?x=5').text, 'new value 5')\n",
    "test_eq(a.value, 5)\n",
    "\n",
    "test_eq(cli.get('/b').text, 'b 5')\n",
    "test_eq(cli.get('/c').text, 'c')\n",
    "test_eq(cli.get('/d').text, 'd A')\n",
    "\n",
    "test_eq(cli.get('/e').text, 'e 5')\n",
    "test_eq(cli.post('/e?x=7').text, '7')\n",
    "test_eq(a.value, 7)\n",
    "test_eq(str(cli.delete('/e')), '<Response [204 No Content]>')\n",
    "\n",
    "a.value = 0\n",
    "test_eq(cli.get('/').text, '0')\n"
   ]
  },
  {
   "cell_type": "markdown",
   "metadata": {},
   "source": [
    "Note that we can also set properties as routes. Use as above, or simply once at last descriptor function."
   ]
  },
  {
   "cell_type": "code",
   "execution_count": 26,
   "metadata": {},
   "outputs": [],
   "source": [
    "class A:\n",
    "    ar = APIRouterD()\n",
    "\n",
    "    def __init__(self, value:int=3): self.value = value\n",
    "\n",
    "    @property\n",
    "    def e(self): return f'e {self.value}'\n",
    "\n",
    "    @e.setter\n",
    "    def e(self, x:int): self.value = x; return x\n",
    "\n",
    "    @ar\n",
    "    @e.deleter\n",
    "    def e(self): del self.value; return Response(status_code=204)\n",
    "\n",
    "\n",
    "app, cli, _ = get_app()\n",
    "\n",
    "a = A()\n",
    "a.ar.to_app(app)\n",
    "\n",
    "test_eq(cli.post('/e?x=3').text, '3')\n",
    "test_eq(a.value, 3)\n",
    "test_eq(str(cli.delete('/e')), '<Response [204 No Content]>')\n"
   ]
  },
  {
   "cell_type": "markdown",
   "metadata": {},
   "source": [
    "Note that the APIRouter of the class, `A.ar` in the example above, should be used only for route inspection. The one on the instance, `a.ar`, is the who actually can registers the routes and is in fact a normal `APIRouter`."
   ]
  },
  {
   "cell_type": "markdown",
   "metadata": {},
   "source": [
    "An `APIRouterD route`is very alike `FastHTML.route` or `APIRouter`'s. But as its underlying endpoint is a method/property, it has some different behaviors:\n"
   ]
  },
  {
   "cell_type": "markdown",
   "metadata": {},
   "source": [
    "## route names"
   ]
  },
  {
   "cell_type": "code",
   "execution_count": 27,
   "metadata": {},
   "outputs": [
    {
     "name": "stdout",
     "output_type": "stream",
     "text": [
      "     route from a -> Route(path='/a', name='a', methods=['GET', 'HEAD', 'POST'])\n",
      "     route from c -> Route(path='/a', name='b_c', methods=['GET', 'HEAD', 'POST'])\n",
      "   route from B.b -> Route(path='/a', name='D_d', methods=['GET', 'HEAD'])\n"
     ]
    }
   ],
   "source": [
    "app, cli, rt = get_app()\n",
    "\n",
    "@rt('/a')\n",
    "def a(): return 'a'\n",
    "\n",
    "print(f\"{'route from a ->':>20}\", app.routes[-1])\n",
    "test_eq(a.to(), app.url_path_for('a'))\n",
    "test_eq(a.__routename__, 'a')\n",
    "\n",
    "def b():\n",
    "    @rt('/a')\n",
    "    def c(): return 'c'\n",
    "    return c\n",
    "\n",
    "c = b()\n",
    "\n",
    "print(f\"{'route from c ->':>20}\", app.routes[-1])\n",
    "test_eq(c.to(), app.url_path_for('b_c'))\n",
    "test_eq(c.__routename__, 'b_c')\n",
    "\n",
    "class D:\n",
    "    ar = APIRouterD()\n",
    "    @ar('/a')\n",
    "    def d(self): return 'd'\n",
    "\n",
    "d = D()\n",
    "d.ar.to_app(app)\n",
    "\n",
    "print(f\"{'route from B.b ->':>20}\", app.routes[-1])\n",
    "test_eq(d.ar.d.to(), app.url_path_for('D_d'))\n",
    "test_eq(d.ar.d.__routename__, 'D_d')\n",
    "\n",
    "test_eq(d.ar.to('d'), d.ar.rt_funcs.d.to())\n",
    "test_eq(d.ar.name('d'), 'D_d')\n"
   ]
  },
  {
   "cell_type": "markdown",
   "metadata": {},
   "source": [
    "\n",
    "- the name is the method name, `A_a` in the example above, not `a`.\n",
    "- default method is 'get'.\n",
    "- **Route Introspection**: Methods, like functions used in routes, get the .to() attribute, discoverable through `ar`.\n",
    "- unlike `@rt/APIRouter`, it doesn't wipe out (_add_route) the underlying function from the scope (class def) for obvious reasons-- base methods would probably be ok, properties not. Python classes can't have methods with the same name-- dicts, you know.  \n",
    "  If you want to handle different HTTP methods, you must use different func names or set them explcitly with the route arguments and modify the function to handle the distinct requests (args or explicit request arg).\n",
    "\n",
    ":::{.callout-note}\n",
    "Last point is a design decission. \n",
    "We could use metaclasses like FascCore transforms to introduce methods overriden by HTTP methods and in theory _mk_locfunc wrappers could function with methods (probably, not tested much). But I think a descriptor is already enough dark python magic for today :)\n",
    ":::"
   ]
  },
  {
   "cell_type": "code",
   "execution_count": 28,
   "metadata": {},
   "outputs": [],
   "source": [
    "test_eq(A.ar.to(), '')\n",
    "test_eq(A.ar.to('e'), '/e')\n",
    "with ExceptionExpected(AttributeError): A.ar.a\n",
    "with ExceptionExpected(AttributeError): A.ar.rt_funcs.a\n",
    "\n",
    "with ExceptionExpected(TypeError): A.ar.to_app(app)\n"
   ]
  },
  {
   "cell_type": "markdown",
   "metadata": {},
   "source": [
    "#  Inheritance\n",
    "\n",
    "As usual with OOP and classes, let's say its complicated."
   ]
  },
  {
   "cell_type": "code",
   "execution_count": 29,
   "metadata": {},
   "outputs": [],
   "source": [
    "# type: ignore\n",
    "\n",
    "class A:\n",
    "    ar = APIRouterD('/A')\n",
    "\n",
    "    @ar\n",
    "    def value(self): return self._value\n",
    "\n",
    "class B(A):\n",
    "    ar = APIRouterD('/AB')\n",
    "\n",
    "    @ar.post\n",
    "    def value(self, x:int):\n",
    "        self._value = x\n",
    "        return self._value\n",
    "\n",
    "@dataclass\n",
    "class C(B):\n",
    "    ar = APIRouterD('/ABC')\n",
    "    _value:int = 1\n",
    "\n",
    "\n",
    "app, cli, _ = get_app()\n",
    "\n",
    "c = C()\n",
    "c.ar.to_app(app)\n",
    "\n",
    "test_is(B.value, C.value)\n",
    "with ExceptionExpected(TypeError): c.value()\n",
    "\n",
    "test_eq(cli.get('/ABC/value').text, '1')  # <-- equivalent to A.value(c)\n",
    "test_eq(cli.post('/ABC/value?x=5').text, '5')  # <-- equivalent to B.value(c, x=5)\n",
    "test_eq(A.value(c), 5)\n"
   ]
  },
  {
   "cell_type": "markdown",
   "metadata": {},
   "source": [
    "You must be careful mixing inheritance and Starlette routing. \n",
    "\n",
    "Method resolution in python follows [MRO](https://docs.python.org/3/howto/mro.html#python-2-3-mro). Starlette routes lay in a flattened space, a list (or list of lists if mounting apps). Unlike python, routes are matched in the order they are added by path, path parmas and HTTP methods.\n",
    "\n",
    "In the example above, python call fails, but Starlette has no problem finding the route. A Route endpoint is a function, unbounded or, if using APIRouterD, bounded to the instance (of type C, not B or A, in the example). FastHTML adds extended functionality such as typing and introspection. The call works, but not in a pythonic way.\n",
    "\n",
    "Without getting into (Liskov)[https://en.wikipedia.org/wiki/Liskov_substitution_principle] and subtyping and the rest of OOP can of worms, think of APIRouterD as a way of organize routes and encapsulate state, nothing more. In Hypermedia systems, inheritance, classes, typing are ill defined concepts if at all. There's not such thing as a \"subclass\" of a resource. Resources are uniquely idewntified with URIs, oprganized in hypermedia networks obtained with hypermedia controls. Semantics or behaviors are a thing of the server. The client only knows URIs.\n",
    "\n",
    "So, stick with simple, flat scopes, and if you must, be very careful how you define the routes when inheritance is involved.\n"
   ]
  },
  {
   "cell_type": "markdown",
   "metadata": {},
   "source": [
    "# APIRoute\n",
    "> Convenience `APIRouterD` shortcut\n"
   ]
  },
  {
   "cell_type": "code",
   "execution_count": 30,
   "metadata": {},
   "outputs": [],
   "source": [
    "#| export\n",
    "\n",
    "class _APIRouterD(APIRouterD):\n",
    "    def __set_name__(self, owner, name): raise AttributeError(f\"_APIRouterD should not be used explicitly.\")\n",
    "    def __get__(self, instance, owner):\n",
    "        if not instance: return self\n",
    "        for base in reversed(owner.mro()[1:-1]):\n",
    "            if hasattr(base, _AR_MARK):\n",
    "                _ar = getattr(base, 'ar', None)\n",
    "                if _ar and not _ar._name: super(_APIRouterD, _ar).__set_name__(base, 'ar')\n",
    "        if not self._name: super().__set_name__(owner, 'ar')    \n",
    "        return super().__get__(instance, owner)\n",
    "\n",
    "\n",
    "class APIRoute:\n",
    "    _attr_name = 'ar'\n",
    "\n",
    "    def __init__(self, path=None, methods=None, name=None, include_in_schema=True, body_wrap=noop_body):\n",
    "        if path and not isinstance(path, str): self.func, path = path, _path(path)\n",
    "        self._rtargs = '/' if path == '/index' else path, methods, name, include_in_schema, body_wrap\n",
    "\n",
    "    def __call__(self, func) -> Callable:  self.func = func; return self\n",
    "    def __getattr__(self, name): return getattr(self.func, name)  # getter, setter, deleter\n",
    "    \n",
    "    def __set_name__(self, owner, name):\n",
    "        if not self._attr_name in vars(owner):\n",
    "            setattr(owner, self._attr_name, ar := _APIRouterD())\n",
    "            setattr(owner, _AR_MARK, ar._rtargs)\n",
    "        getattr(owner, _AR_MARK)[self.func] = self._rtargs  # collect rt args\n",
    "        setattr(owner, name, self.func)  # let methods be methods; wipe out myself\n",
    "\n",
    "for o in all_meths: setattr(APIRoute, o, functools.partialmethod(APIRoute, methods=o))\n",
    "\n",
    "ar = APIRoute\n"
   ]
  },
  {
   "cell_type": "code",
   "execution_count": 31,
   "metadata": {
    "bridget": {
     "id": "63a8f0c1-3354-4570-9828-236f3539aa65"
    }
   },
   "outputs": [],
   "source": [
    "class TestAR(RouteProvider):\n",
    "    def __init__(self, a): self.a = a\n",
    "\n",
    "    @APIRoute('/hi')\n",
    "    @staticmethod\n",
    "    def hi(): return f'hi there'\n",
    "\n",
    "    @ar('/yoyo')\n",
    "    def yoyo(self): \n",
    "        return f'a yoyo called {self.a}'\n",
    "\n",
    "    @ar\n",
    "    def foo(self): \n",
    "        return f'foo {self.a}'\n",
    "\n",
    "\n",
    "t = TestAR('yo')\n",
    "test_eq(t.yoyo(), 'a yoyo called yo')\n",
    "\n",
    "app, cli, _ = get_app()\n",
    "t.ar.to_app(app)\n",
    "\n",
    "test_eq(cli.get('/hi').text, 'hi there')\n",
    "test_eq(cli.get('/yoyo').text, 'a yoyo called yo')\n",
    "test_eq(cli.get('/foo').text, 'foo yo')\n",
    "\n",
    "test_eq(t.ar.yoyo.to(), '/yoyo')\n"
   ]
  },
  {
   "cell_type": "markdown",
   "metadata": {},
   "source": [
    "If you don't need to initialize APIRouterD (e.g. `prefix`), or would set them afterwards, or you mind defining the `APIRouterD` attribute explicitly, use `APIRoute` or the `ar` shortcut.\n"
   ]
  },
  {
   "cell_type": "markdown",
   "metadata": {},
   "source": [
    "If like me, you don't like stupid wiggly reds <span style=\"color:red\">~~~</span>, inherit from `RouteProvider`."
   ]
  },
  {
   "cell_type": "code",
   "execution_count": 32,
   "metadata": {},
   "outputs": [],
   "source": [
    "# type: ignore\n",
    "\n",
    "class A(RouteProvider):\n",
    "    @ar\n",
    "    def value(self): return self._value\n",
    "\n",
    "class B(A):\n",
    "    @ar.post\n",
    "    def value(self, value:int=None):\n",
    "        if value is not None: self._value = value\n",
    "        return self._value\n",
    "\n",
    "@dataclass\n",
    "class C(B):\n",
    "    _value:int = 1\n",
    "\n",
    "\n",
    "app, cli, _ = get_app()\n",
    "\n",
    "c = C()\n",
    "c.ar.to_app(app)\n",
    "\n",
    "test_eq(cli.get('/value').text, '1')\n",
    "test_eq(cli.post('/value?value=5').text, '5')\n",
    "test_eq(c.value(), 5)\n"
   ]
  },
  {
   "cell_type": "markdown",
   "metadata": {},
   "source": [
    "# Adding routes to the app\n",
    "> Convenience functions for registering routes from providers into FastHTML apps.\n"
   ]
  },
  {
   "cell_type": "code",
   "execution_count": 33,
   "metadata": {},
   "outputs": [],
   "source": [
    "#| export\n",
    "\n",
    "def add_routes(self: FastHTML, \n",
    "        prov:APIRouter|RouteProviderP,  # APIRouter or RouteProvider\n",
    "        mount:bool=False,               # If True, mount routes under `path`\n",
    "        path:str|None=None,             # if mount, Base path or APIRouter prefix\n",
    "        name:str|None=None,             # if mount, Optional name for the routes group\n",
    "        appcls:Callable=nb_app          # if mount, use factory\n",
    "    ) -> APIRouter:\n",
    "    \"Register routes from a provider into a FastHTML app\"\n",
    "    ar = prov if isinstance(prov, APIRouter) else prov.ar  # TODO: search for the class attribute actually used\n",
    "    rapp = appcls() if mount else self\n",
    "    ar.to_app(rapp)\n",
    "    if mount:\n",
    "        ar.__routename__ = name or new_id(prov)\n",
    "        if not path: path = ar.prefix or f\"/{ar.__routename__}\"\n",
    "        if not ar.prefix: ar.prefix = path\n",
    "        self.mount(path, rapp, name=ar.__routename__)\n",
    "    return ar\n"
   ]
  },
  {
   "cell_type": "markdown",
   "metadata": {},
   "source": [
    "`add_routes` handles two scenarios:\n",
    "1. `mount` is `False`. This is equivalent to `APIRouter.to_app`, the routes are available under `APIRuter.prefix`.\n",
    "2. `mount` is `True`. The routes are mounted under `path` and are available under path/prefix.\n",
    "\n",
    "App routes can be organized at two levels:\n",
    "1. **root Level**: Global routes\n",
    "2. **Provider Level**: Scoped routes defined by providers\n",
    "\n",
    "This allows for clean organization of routes and natural encapsulation of component behavior directly in the notebook. This will be handy when we start defining ipywidgets like widgets with FastHTML.\n",
    "\n",
    "Though I think it's convenient, you don't need to mount routes providers at all, add its routes directly to the root level app.\n"
   ]
  },
  {
   "cell_type": "code",
   "execution_count": 34,
   "metadata": {},
   "outputs": [],
   "source": [
    "class Counter(RouteProvider):\n",
    "    def __init__(self, value:int=0): self._value = value\n",
    "    \n",
    "    @ar('/value')\n",
    "    def get_value(self): \n",
    "        return self._value  # `0` is not a valid FastHTML response\n",
    "    \n",
    "    @ar('/inc')\n",
    "    def increment(self): \n",
    "        self._value += 1\n",
    "        return self.get_value()\n",
    "\n",
    "\n",
    "app, cli, _ = get_app()\n",
    "\n",
    "counter = Counter()\n",
    "add_routes(app, counter)\n",
    "\n",
    "test_eq(cli.get('/inc').text, '1')\n"
   ]
  },
  {
   "cell_type": "markdown",
   "metadata": {},
   "source": [
    "Add routes to current app. Routes available under `{self.ar.prefix}/...` or `/{self.ar.to()}/...`\n"
   ]
  },
  {
   "cell_type": "code",
   "execution_count": 35,
   "metadata": {},
   "outputs": [],
   "source": [
    "#| export\n",
    "\n",
    "def mount(app: FastHTML, prov:APIRouter|RouteProviderP, path:str|None=None, name:str|None=None):\n",
    "    return add_routes(app, prov, True, path, name)\n"
   ]
  },
  {
   "cell_type": "markdown",
   "metadata": {},
   "source": [
    "Use `mount` to define routes providers with instances. In this way we can have notebook level routes, those defined with global `app.route`, and scoped routes defined with providers and `add_routes` or `mount`.\n",
    "\n",
    "`mount` and `add_routes` return the APIRouter used to mount the routes.  \n"
   ]
  },
  {
   "cell_type": "code",
   "execution_count": 36,
   "metadata": {},
   "outputs": [],
   "source": [
    "counter = Counter(3)\n",
    "mount(app, counter, '/counter')  # routes under /counter/..., and root.\n",
    "\n",
    "test_eq(cli.get('/inc').text, '2')\n",
    "\n",
    "test_eq(cli.get('/counter/value').text, '3')\n",
    "test_eq(cli.get('/counter/inc').text, '4')\n",
    "\n",
    "test_eq(app.routes[-1].name, counter.ar.name())\n"
   ]
  },
  {
   "cell_type": "markdown",
   "metadata": {},
   "source": [
    "Mount with explicit path.  \n",
    "An APIRouter from an instance, discloses its mounted name with ...`.ar.name()`.\n"
   ]
  },
  {
   "cell_type": "code",
   "execution_count": 37,
   "metadata": {},
   "outputs": [],
   "source": [
    "counter = Counter(-3)\n",
    "car = mount(app, counter)  # routes under /counter/..., and root.\n",
    "\n",
    "test_eq(cli.get(f\"/{car.to()}/value\").text, '-3')\n",
    "test_eq(cli.get(f\"/{car.to()}/inc\").text, '-2')\n",
    "\n",
    "test_eq(cli.get(app.url_path_for(car.name('increment'))).text, '-1')\n"
   ]
  },
  {
   "cell_type": "markdown",
   "metadata": {},
   "source": [
    "Mount routes with automatic path generation.\n"
   ]
  },
  {
   "cell_type": "markdown",
   "metadata": {},
   "source": [
    "# Route introspection\n"
   ]
  },
  {
   "cell_type": "code",
   "execution_count": 38,
   "metadata": {},
   "outputs": [],
   "source": [
    "class Counter(RouteProvider):\n",
    "    def __init__(self): self._value = 0\n",
    "    \n",
    "    @ar('/value')\n",
    "    def get_value(self): \n",
    "        return self._value  # `0` is not a valid FastHTML response\n",
    "    \n",
    "    @ar('/inc')\n",
    "    def increment(self): \n",
    "        self._value += 1\n",
    "        return self.get_value()\n",
    "\n",
    "    @ar('/add/{x}')\n",
    "    def add(self, x:int): \n",
    "        self._value += x\n",
    "        return self.get_value()\n",
    "\n",
    "    @ar.post('/sub')\n",
    "    def sub(self, x:int): \n",
    "        self._value -= x\n",
    "        return self.get_value()\n",
    "    \n",
    "    @ar\n",
    "    def link(self, req): \n",
    "        nm = self.ar.name('add')\n",
    "        req.url_for(f\"{nm}\", x=2)\n",
    "        return (Div('+ 3', link=uri(nm, x='3')), \n",
    "                Div('+ 2', href=f\"{req.url_for(f\"{nm}\", x=2)}\"))\n",
    "\n",
    "\n",
    "app, cli, rt = get_app()\n",
    "\n",
    "c = Counter()\n",
    "test_eq(c.increment(), 1)\n",
    "\n",
    "c.ar.to_app(app)\n",
    "\n",
    "test_eq(c.ar.name(), '')\n",
    "\n",
    "test_eq(cli.get('/inc').text, '2')\n",
    "test_eq(cli.get('/add/5').text, '7')\n",
    "test_eq(cli.post('/sub', data={'x':2}).text, '5')\n",
    "test_eq(cli.post('/sub?x=3').text, '2')\n",
    "test_eq(cli.get('/link').text, ' <div href=\"/add/3\">+ 3</div>\\n <div href=\"http://nb/add/2\">+ 2</div>\\n')\n",
    "\n",
    "test_eq(c.increment(), 3)\n"
   ]
  },
  {
   "cell_type": "code",
   "execution_count": 39,
   "metadata": {},
   "outputs": [],
   "source": [
    "test_eq(c.ar.increment.to(), '/inc')\n",
    "test_eq(c.ar.add.to(), '/add/{x}')\n",
    "test_eq(c.ar.to('add'), '/add/{x}')\n",
    "test_eq(c.ar.to('sub', x=3), '/sub?x=3')\n",
    "\n",
    "test_eq(app.url_path_for(c.ar.name('increment')), '/inc')\n",
    "test_eq(app.url_path_for(c.ar.name('add'), x=5), '/add/5')\n",
    "test_eq(app.url_path_for(c.ar.name('sub')), '/sub')\n"
   ]
  },
  {
   "cell_type": "code",
   "execution_count": 40,
   "metadata": {},
   "outputs": [],
   "source": [
    "app, cli, rt = get_app()\n",
    "\n",
    "c = Counter()\n",
    "mount(app, c, '/counter')\n",
    "\n",
    "test_eq(c.ar.prefix, '/counter')\n",
    "\n",
    "test_eq(c.ar.add.to(), '/add/{x}')\n",
    "test_eq(c.ar.to('increment'), 'counter/inc')\n",
    "test_eq(c.ar.to('add'), 'counter/add/{x}')\n",
    "test_eq(c.ar.to('sub', x=3), 'counter/sub?x=3')\n",
    "\n",
    "test_eq(app.url_path_for(c.ar.name('link')), '/counter/link')\n",
    "\n",
    "test_eq(c.ar.name('increment'), f\"{c.ar.name()}:Counter_increment\")\n",
    "test_eq(app.url_path_for(c.ar.name('increment')), '/counter/inc')\n",
    "test_eq(app.url_path_for(c.ar.name('add'), x=5), '/counter/add/5')\n"
   ]
  },
  {
   "cell_type": "code",
   "execution_count": 41,
   "metadata": {},
   "outputs": [],
   "source": [
    "app, cli, rt = get_app()\n",
    "\n",
    "c = Counter()\n",
    "mount(app, c, '/counter', 'cnt')\n",
    "\n",
    "test_eq(app.url_path_for(c.ar.name('link')), '/counter/link')\n",
    "\n",
    "test_eq(c.ar.name('increment'), f\"cnt:Counter_increment\")\n",
    "test_eq(app.url_path_for(c.ar.name('increment')), '/counter/inc')\n",
    "test_eq(app.url_path_for(c.ar.name('add'), x=5), '/counter/add/5')\n"
   ]
  },
  {
   "cell_type": "markdown",
   "metadata": {},
   "source": [
    "More examples:"
   ]
  },
  {
   "cell_type": "code",
   "execution_count": 42,
   "metadata": {},
   "outputs": [],
   "source": [
    "app, cli, rt = get_app()\n",
    "\n",
    "@app.get(\"/hostie\")\n",
    "def show_host(req): return req.headers['host']\n",
    "\n",
    "test_eq(cli.get('/hostie').text, 'nb')\n",
    "\n",
    "\n",
    "@rt('/user/{nm}', name='gday')\n",
    "def get(nm:str=''): return f\"Good day to you, {nm}!\"\n",
    "\n",
    "test_eq(cli.get('/user/Jeremy').text, 'Good day to you, Jeremy!')\n",
    "\n",
    "\n",
    "@rt('/link')\n",
    "def get(req): return f\"{req.url_for('gday', nm='Alexis')}; {req.url_for('show_host')}\"\n",
    "\n",
    "test_eq(cli.get('/link').text, 'http://nb/user/Alexis; http://nb/hostie')\n"
   ]
  },
  {
   "cell_type": "code",
   "execution_count": 43,
   "metadata": {},
   "outputs": [],
   "source": [
    "class _User:\n",
    "    @ar('/link/{nm}')\n",
    "    def get(self, req, nm:str=''): \n",
    "        return f\"{req.url_for('gday', nm=nm)}; {req.url_for('show_host')}\"\n",
    "\n",
    "u = _User()\n",
    "u.ar.to_app(app)\n",
    "\n",
    "test_eq(cli.get('/link/Vic').text, 'http://nb/user/Vic; http://nb/hostie')\n"
   ]
  },
  {
   "cell_type": "markdown",
   "metadata": {},
   "source": [
    "`APIRouterD` is useful when you want to split your application routes across multiple `.py` files or routes providers that are part of a single FastHTMl application. It accepts an optional `prefix` argument that will be applied to all routes within that instance of `APIRouterD`.\n",
    "\n",
    "Below we define several hypothetical product related routes in a `Products` and then demonstrate how they can seamlessly be incorporated into a FastHTML app instance."
   ]
  },
  {
   "cell_type": "code",
   "execution_count": 44,
   "metadata": {},
   "outputs": [
    {
     "name": "stdout",
     "output_type": "stream",
     "text": [
      "/products/all\n",
      "/products/{pid}\n"
     ]
    }
   ],
   "source": [
    "class Products:\n",
    "    ar = APIRouterD('/products')\n",
    "\n",
    "    @ar('/all')\n",
    "    def all_products(self, req):\n",
    "        return Div(\n",
    "            \"Welcome to the Products Page! Click the button below to look at the details for product 42\",\n",
    "            Div(\n",
    "                Button(\n",
    "                    'Details',\n",
    "                    hx_get=req.url_for('details', pid=42),\n",
    "                    hx_target='#products_list',\n",
    "                    hx_swap='outerHTML',\n",
    "                ),\n",
    "            ),\n",
    "            id='products_list',\n",
    "        )\n",
    "\n",
    "\n",
    "    @ar('/{pid}', name='details')  # or @ar('/{pid}') or @ar.get('/{pid}') or @ar.get('/{pid}', name='details')\n",
    "    def details(self, pid: int):\n",
    "        return f\"Here are the product details for ID: {pid}\"\n",
    "\n",
    "\n",
    "app, cli, rt = get_app()\n",
    "\n",
    "products = Products()\n",
    "products.ar.to_app(app)\n",
    "\n",
    "print(str(products.ar.all_products.to()))\n",
    "print(str(products.ar.rt_funcs.details))\n"
   ]
  },
  {
   "cell_type": "markdown",
   "metadata": {},
   "source": [
    "Since we specified the `prefix=/products` in our hypothetical object, all routes defined in that provider will be found under `/products`."
   ]
  },
  {
   "cell_type": "code",
   "execution_count": 45,
   "metadata": {},
   "outputs": [
    {
     "data": {
      "text/plain": [
       "' <div hx-get=\"/products/all\" hx-swap=\"outerHTML\">Click me for a look at our products</div>\\n'"
      ]
     },
     "execution_count": 45,
     "metadata": {},
     "output_type": "execute_result"
    }
   ],
   "source": [
    "@rt\n",
    "def index():\n",
    "    return Div(\n",
    "        \"Click me for a look at our products\",\n",
    "        hx_get=products.ar.all_products,  # or Products.ar.all_products or Products/products.ar.to('all_products')\n",
    "        hx_swap=\"outerHTML\",\n",
    "    )\n",
    "\n",
    "cli.get('/').text\n"
   ]
  },
  {
   "cell_type": "code",
   "execution_count": 46,
   "metadata": {},
   "outputs": [
    {
     "data": {
      "text/plain": [
       "' <div id=\"products_list\">\\nWelcome to the Products Page! Click the button below to look at the details for product 42   <div>\\n<button hx-get=\"http://nb/products/42\" hx-swap=\"outerHTML\" hx-target=\"#products_list\">Details</button>   </div>\\n </div>\\n'"
      ]
     },
     "execution_count": 46,
     "metadata": {},
     "output_type": "execute_result"
    }
   ],
   "source": [
    "cli.get('/products/all').text"
   ]
  },
  {
   "cell_type": "markdown",
   "metadata": {},
   "source": [
    "Note how you can reference our python route functions via `APIRouter.rt_funcs` or `APIRouter.{name}` or `APIRouter.to('name')` in your `hx_{http_method}` calls like normal."
   ]
  },
  {
   "cell_type": "markdown",
   "metadata": {},
   "source": [
    "# Colophon\n",
    "----\n"
   ]
  },
  {
   "cell_type": "code",
   "execution_count": 47,
   "metadata": {},
   "outputs": [],
   "source": [
    "import fastcore.all as FC\n",
    "import nbdev\n",
    "from nbdev.clean import nbdev_clean\n"
   ]
  },
  {
   "cell_type": "code",
   "execution_count": 53,
   "metadata": {},
   "outputs": [],
   "source": [
    "if FC.IN_NOTEBOOK:\n",
    "    nb_path = '30_route_provider.ipynb'\n",
    "    # nbdev_clean(nb_path)\n",
    "    nbdev.nbdev_export(nb_path)\n"
   ]
  }
 ],
 "metadata": {
  "kernelspec": {
   "display_name": "bridget",
   "language": "python",
   "name": "python3"
  },
  "language_info": {
   "codemirror_mode": {
    "name": "ipython",
    "version": 3
   },
   "file_extension": ".py",
   "mimetype": "text/x-python",
   "name": "python",
   "nbconvert_exporter": "python",
   "pygments_lexer": "ipython3",
   "version": "3.12.7"
  }
 },
 "nbformat": 4,
 "nbformat_minor": 2
}
