{
 "cells": [
  {
   "cell_type": "markdown",
   "metadata": {},
   "source": [
    "# cell 0"
   ]
  },
  {
   "cell_type": "code",
   "execution_count": null,
   "metadata": {},
   "outputs": [],
   "source": [
    "# cell 1\n",
    "import ipywidgets as W\n",
    "import matplotlib.pyplot as plt\n",
    "from IPython.display import HTML, Javascript, Image, JSON\n"
   ]
  },
  {
   "cell_type": "code",
   "execution_count": null,
   "metadata": {},
   "outputs": [
    {
     "name": "stdout",
     "output_type": "stream",
     "text": [
      "1\n"
     ]
    }
   ],
   "source": [
    "# cell 2\n",
    "print(1)"
   ]
  },
  {
   "cell_type": "code",
   "execution_count": null,
   "metadata": {},
   "outputs": [
    {
     "data": {
      "text/plain": [
       "'cell 3'"
      ]
     },
     "metadata": {
      "bridget": {
       "cell": 3
      }
     },
     "output_type": "display_data"
    }
   ],
   "source": [
    "# cell 3\n",
    "display('cell 3', display_id=True, metadata={'bridget': {'cell': 3}});\n"
   ]
  },
  {
   "cell_type": "code",
   "execution_count": null,
   "metadata": {},
   "outputs": [
    {
     "data": {
      "text/html": [
       "cell 4"
      ],
      "text/plain": [
       "<IPython.core.display.HTML object>"
      ]
     },
     "metadata": {
      "bridget": {
       "cell": 4
      }
     },
     "output_type": "display_data"
    }
   ],
   "source": [
    "# cell 4\n",
    "display(HTML('cell 4'), display_id=True, metadata={'bridget': {'cell': 4}});\n"
   ]
  },
  {
   "cell_type": "code",
   "execution_count": null,
   "metadata": {},
   "outputs": [
    {
     "data": {
      "application/javascript": [
       "console.log(\"cell 5\")"
      ],
      "text/plain": [
       "<IPython.core.display.Javascript object>"
      ]
     },
     "metadata": {
      "bridget": {
       "cell": 5
      }
     },
     "output_type": "display_data"
    }
   ],
   "source": [
    "# cell 5\n",
    "display(Javascript('console.log(\"cell 5\")'), display_id=True, metadata={'bridget': {'cell': 5}});\n"
   ]
  },
  {
   "cell_type": "code",
   "execution_count": null,
   "metadata": {},
   "outputs": [
    {
     "name": "stdout",
     "output_type": "stream",
     "text": [
      "6.1\n",
      "6.2\n"
     ]
    }
   ],
   "source": [
    "# cell 6\n",
    "print(6.1)\n",
    "print(6.2)\n"
   ]
  },
  {
   "cell_type": "code",
   "execution_count": null,
   "metadata": {},
   "outputs": [
    {
     "data": {
      "text/html": [
       "cell 7.1"
      ],
      "text/plain": [
       "<IPython.core.display.HTML object>"
      ]
     },
     "metadata": {
      "bridget": {
       "cell": 7.1
      }
     },
     "output_type": "display_data"
    },
    {
     "data": {
      "text/html": [
       "cell 7.2"
      ],
      "text/plain": [
       "<IPython.core.display.HTML object>"
      ]
     },
     "metadata": {
      "bridget": {
       "cell": 7.2
      }
     },
     "output_type": "display_data"
    }
   ],
   "source": [
    "# cell 7\n",
    "display(HTML('cell 7.1'), display_id=True, metadata={'bridget': {'cell': 7.1}})\n",
    "display(HTML('cell 7.2'), display_id=True, metadata={'bridget': {'cell': 7.2}});\n"
   ]
  },
  {
   "cell_type": "code",
   "execution_count": null,
   "metadata": {},
   "outputs": [
    {
     "data": {
      "text/html": [
       "<h3>cell 8</h3>\n"
      ],
      "text/plain": [
       "<IPython.core.display.HTML object>"
      ]
     },
     "metadata": {},
     "output_type": "display_data"
    }
   ],
   "source": [
    "%%HTML\n",
    "<h3>cell 8</h3>\n"
   ]
  },
  {
   "cell_type": "code",
   "execution_count": null,
   "metadata": {},
   "outputs": [
    {
     "data": {
      "application/javascript": [
       "console.log('cell 9')\n"
      ],
      "text/plain": [
       "<IPython.core.display.Javascript object>"
      ]
     },
     "metadata": {},
     "output_type": "display_data"
    }
   ],
   "source": [
    "%%javascript\n",
    "console.log('cell 9')"
   ]
  },
  {
   "cell_type": "code",
   "execution_count": null,
   "metadata": {},
   "outputs": [
    {
     "data": {
      "text/markdown": [
       "cell 10\n"
      ],
      "text/plain": [
       "<IPython.core.display.Markdown object>"
      ]
     },
     "metadata": {},
     "output_type": "display_data"
    }
   ],
   "source": [
    "%%markdown\n",
    "cell 10\n"
   ]
  },
  {
   "cell_type": "code",
   "execution_count": null,
   "metadata": {},
   "outputs": [
    {
     "data": {
      "image/svg+xml": [
       "<svg xmlns=\"http://www.w3.org/2000/svg\" width=\"100\" height=\"20\">\n",
       "  <text x=\"10\" y=\"10\">cell 11</text>\n",
       "</svg>"
      ],
      "text/plain": [
       "<IPython.core.display.SVG object>"
      ]
     },
     "metadata": {},
     "output_type": "display_data"
    }
   ],
   "source": [
    "%%SVG\n",
    "<svg width=\"100\" height=\"20\" xmlns=\"http://www.w3.org/2000/svg\">\n",
    "  <text x=\"10\" y=\"10\">cell 11</text>\n",
    "</svg>\n"
   ]
  },
  {
   "cell_type": "code",
   "execution_count": null,
   "metadata": {},
   "outputs": [
    {
     "data": {
      "application/vnd.jupyter.widget-view+json": {
       "model_id": "25c80b3985b846f7a76187c2ae84286a",
       "version_major": 2,
       "version_minor": 0
      },
      "text/plain": [
       "IntSlider(value=12, description='cell')"
      ]
     },
     "execution_count": null,
     "metadata": {},
     "output_type": "execute_result"
    }
   ],
   "source": [
    "# cell 12\n",
    "W.IntSlider(12, description='cell')"
   ]
  },
  {
   "cell_type": "code",
   "execution_count": null,
   "metadata": {},
   "outputs": [
    {
     "data": {
      "application/vnd.jupyter.widget-view+json": {
       "model_id": "4e029e7e6e6f4dacbe57722b4b79aab3",
       "version_major": 2,
       "version_minor": 0
      },
      "text/plain": [
       "Output()"
      ]
     },
     "metadata": {},
     "output_type": "display_data"
    }
   ],
   "source": [
    "# cell 13\n",
    "w = W.Output()\n",
    "display(w)\n",
    "with w:\n",
    "    print('cell 13.1')\n",
    "    display('cell 13.2')\n",
    "    display(HTML('cell 13.3'))\n"
   ]
  },
  {
   "cell_type": "code",
   "execution_count": null,
   "metadata": {},
   "outputs": [
    {
     "data": {
      "image/png": "[encoded data removed]",
      "text/plain": [
       "<Figure size 400x267 with 1 Axes>"
      ]
     },
     "metadata": {},
     "output_type": "display_data"
    }
   ],
   "source": [
    "# cell 14\n",
    "fig = plt.figure(figsize=(4, 2.67))\n",
    "plt.plot([1,2,3,4]);\n"
   ]
  },
  {
   "cell_type": "code",
   "execution_count": null,
   "metadata": {},
   "outputs": [
    {
     "data": {
      "image/png": "[encoded data removed]",
      "text/plain": [
       "<IPython.core.display.Image object>"
      ]
     },
     "execution_count": null,
     "metadata": {
      "image/png": {
       "bridget": {
        "cell": 15
       }
      }
     },
     "output_type": "execute_result"
    }
   ],
   "source": [
    "# cell 15\n",
    "Image('https://jupyter.org/assets/try/jupyter.png', metadata={'bridget': {'cell': 15}})"
   ]
  },
  {
   "cell_type": "code",
   "execution_count": null,
   "metadata": {},
   "outputs": [
    {
     "data": {},
     "metadata": {
      "bridget": {
       "cell": 16
      }
     },
     "output_type": "display_data"
    }
   ],
   "source": [
    "# cell 16\n",
    "dh = display(display_id=True, metadata={'bridget': {'cell': 16}})\n"
   ]
  },
  {
   "cell_type": "code",
   "execution_count": null,
   "metadata": {},
   "outputs": [
    {
     "data": {
      "text/html": [
       "cell 18"
      ],
      "text/plain": [
       "<IPython.core.display.HTML object>"
      ]
     },
     "metadata": {
      "bridget": {
       "cell": 18
      }
     },
     "output_type": "display_data"
    }
   ],
   "source": [
    "# cell 17\n",
    "dh = display(HTML('cell 17'), display_id=True, metadata={'bridget': {'cell': 17}})\n"
   ]
  },
  {
   "cell_type": "code",
   "execution_count": null,
   "metadata": {},
   "outputs": [],
   "source": [
    "# cell 18\n",
    "dh.update(HTML('cell 18'), metadata={'bridget': {'cell': 18}})\n"
   ]
  },
  {
   "cell_type": "code",
   "execution_count": null,
   "metadata": {},
   "outputs": [
    {
     "data": {
      "application/json": {
       "cell": 19
      },
      "text/plain": [
       "<IPython.core.display.JSON object>"
      ]
     },
     "metadata": {
      "application/json": {
       "expanded": false,
       "root": "root"
      },
      "bridget": {
       "cell": 19
      }
     },
     "output_type": "display_data"
    }
   ],
   "source": [
    "# cell 19\n",
    "display(JSON({'cell': 19}), display_id=True, metadata={'bridget': {'cell': 19}});\n"
   ]
  },
  {
   "cell_type": "code",
   "execution_count": null,
   "metadata": {},
   "outputs": [
    {
     "data": {
      "application/vnd.jupyter.widget-view+json": {
       "model_id": "887f8206a2c84d6aa2394b836c9aa90e",
       "version_major": 2,
       "version_minor": 0
      },
      "text/plain": [
       "IntSlider(value=20, description='cell')"
      ]
     },
     "metadata": {
      "bridget": {
       "cell": 20,
       "skip": true
      }
     },
     "output_type": "display_data"
    }
   ],
   "source": [
    "# cell 20\n",
    "display(W.IntSlider(20, description='cell'), metadata={'bridget': {'cell': 20, 'skip': True}})"
   ]
  },
  {
   "cell_type": "code",
   "execution_count": null,
   "metadata": {},
   "outputs": [],
   "source": []
  },
  {
   "cell_type": "code",
   "execution_count": null,
   "metadata": {},
   "outputs": [
    {
     "ename": "ZeroDivisionError",
     "evalue": "division by zero",
     "output_type": "error",
     "traceback": [
      "\u001b[0;31m---------------------------------------------------------------------------\u001b[0m",
      "\u001b[0;31mZeroDivisionError\u001b[0m                         Traceback (most recent call last)",
      "Cell \u001b[0;32mIn[42], line 2\u001b[0m\n\u001b[1;32m      1\u001b[0m \u001b[38;5;66;03m# cell 22\u001b[39;00m\n\u001b[0;32m----> 2\u001b[0m \u001b[38;5;241;43m1\u001b[39;49m\u001b[38;5;241;43m/\u001b[39;49m\u001b[38;5;241;43m0\u001b[39;49m\n",
      "\u001b[0;31mZeroDivisionError\u001b[0m: division by zero"
     ]
    }
   ],
   "source": [
    "# cell 22\n",
    "1/0"
   ]
  },
  {
   "cell_type": "code",
   "execution_count": null,
   "metadata": {},
   "outputs": [],
   "source": [
    "# cell 23   \n",
    "display({'application/x-notebook-state': {\"cell\": 23}}, raw=True, display_id=True, \n",
    "        metadata={'bridget': {'cell': 23, 'skip': True}});\n"
   ]
  }
 ],
 "metadata": {
  "kernelspec": {
   "display_name": "python3",
   "language": "python",
   "name": "python3"
  }
 },
 "nbformat": 4,
 "nbformat_minor": 4
}
