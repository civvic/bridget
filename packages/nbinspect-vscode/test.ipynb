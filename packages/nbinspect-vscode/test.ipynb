{
 "cells": [
  {
   "cell_type": "code",
   "execution_count": 2,
   "metadata": {},
   "outputs": [],
   "source": [
    "from bridget.helpers import bridge_cfg, skip, kounter\n",
    "from bridget.bridge import BridgeBase\n",
    "from IPython.display import DisplayHandle"
   ]
  },
  {
   "cell_type": "code",
   "execution_count": null,
   "metadata": {
    "brd": "3fdf780e-8170-417c-8d89-720bc7ea90ec"
   },
   "outputs": [],
   "source": [
    "bridge_cfg.auto_show = True\n",
    "bridge_cfg.auto_id = False\n",
    "brd = BridgeBase.instance()"
   ]
  },
  {
   "cell_type": "code",
   "execution_count": 4,
   "metadata": {},
   "outputs": [],
   "source": [
    "#| export\n",
    "\n",
    "NBSTATE_MIME = 'application/x-notebook-state'\n",
    "\n",
    "def show_notebook_state(options={'feedback': True, 'watch': True, 'debug': True}) -> DisplayHandle:\n",
    "    \"Display notebook state with our custom mime type\"\n",
    "    dh = display({NBSTATE_MIME: options}, raw=True, display_id=True, metadata=skip())\n",
    "    return dh  # type: ignore\n",
    "\n",
    "def update_notebook_state(dh: DisplayHandle|None, options=None):\n",
    "    if dh: dh.update({NBSTATE_MIME: {**(options or {}), 'id': kounter('nbstate'), 'update': True}}, \n",
    "        raw=True, metadata=skip())\n",
    "\n",
    "def clear_notebook_state(dh: DisplayHandle|None): \n",
    "    if dh: dh.update(HTML(''), metadata=skip())\n"
   ]
  },
  {
   "cell_type": "code",
   "execution_count": null,
   "metadata": {
    "brd": "daa19236-2118-4ec8-bf8d-c8bd346c2071"
   },
   "outputs": [],
   "source": [
    "dh = show_notebook_state()\n"
   ]
  },
  {
   "cell_type": "code",
   "execution_count": null,
   "metadata": {},
   "outputs": [],
   "source": [
    "print(18)"
   ]
  },
  {
   "cell_type": "code",
   "execution_count": 7,
   "metadata": {},
   "outputs": [],
   "source": [
    "update_notebook_state(dh, {'feedback': False})"
   ]
  },
  {
   "cell_type": "code",
   "execution_count": null,
   "metadata": {},
   "outputs": [],
   "source": [
    "update_notebook_state(dh, {'feedback': True})"
   ]
  },
  {
   "cell_type": "code",
   "execution_count": null,
   "metadata": {},
   "outputs": [],
   "source": [
    "update_notebook_state(dh, {'debug': False})"
   ]
  },
  {
   "cell_type": "code",
   "execution_count": null,
   "metadata": {},
   "outputs": [],
   "source": [
    "update_notebook_state(dh, {'watch': False})"
   ]
  },
  {
   "cell_type": "code",
   "execution_count": null,
   "metadata": {
    "brd": "cb594abe-2775-4486-a8cc-3bd27a135abc"
   },
   "outputs": [],
   "source": [
    "# cell 0\n",
    "from IPython.display import HTML\n",
    "from bridget.display_helpers import displaydh\n",
    "from itertools import count\n",
    "def show_notebook_state(data):\n",
    "    \"Display notebook state with our custom mime type\"\n",
    "    dh = displaydh({\n",
    "        'application/x-notebook-state': data\n",
    "    }, raw=True)\n",
    "    return dh\n",
    "\n",
    "counter = count()\n",
    "print('cell 0')"
   ]
  },
  {
   "cell_type": "code",
   "execution_count": null,
   "metadata": {
    "brd": "1435d9c1-810f-4c06-b1c1-9ce68169c3fe",
    "bridget": {
     "id": "bba8b9ee-1a61-46a8-941a-a7ace85d3b14"
    }
   },
   "outputs": [],
   "source": [
    "# cell 1\n",
    "dh1 = show_notebook_state({'feedback': True, 'watch': True, 'id': next(counter)})"
   ]
  },
  {
   "cell_type": "code",
   "execution_count": null,
   "metadata": {
    "brd": "35d2b0f8-51e4-4b69-8747-861a1ffabf0c"
   },
   "outputs": [],
   "source": [
    "# cell 2\n",
    "print(2)"
   ]
  },
  {
   "cell_type": "markdown",
   "metadata": {},
   "source": [
    "# cell 3"
   ]
  },
  {
   "cell_type": "code",
   "execution_count": null,
   "metadata": {
    "brd": "5b78f546-ba21-4423-855f-e7bdc6631ae0"
   },
   "outputs": [],
   "source": [
    "# cell 4\n",
    "dh2 = displaydh('cell 3', metadata={'brdgt_did': 'cell 3'})"
   ]
  },
  {
   "cell_type": "code",
   "execution_count": 32,
   "metadata": {
    "brd": "bac77d58-0e2a-4c0b-b78e-d25df97dfc77"
   },
   "outputs": [],
   "source": [
    "# cell 5\n",
    "dh2.update('cell 4 - update 1', metadata={'brdgt_did': 'cell 4'})"
   ]
  },
  {
   "cell_type": "code",
   "execution_count": null,
   "metadata": {
    "brd": "71167ead-3e7f-4d6a-bd51-66d407fc3788"
   },
   "outputs": [],
   "source": [
    "# cell 6\n",
    "dh4 = displaydh(HTML('cell 5 - output 1'), metadata={'brdgt_did': 'cell 5'})\n",
    "dh5 = displaydh(HTML('cell 5 - output 2'), metadata={'brdgt_did': 'cell 5'})"
   ]
  },
  {
   "cell_type": "code",
   "execution_count": 34,
   "metadata": {
    "brd": "dc29d1f1-c9f9-44a2-a9d9-c9f723e71f75"
   },
   "outputs": [],
   "source": [
    "# cell 7\n",
    "dh4.update(HTML('cell 6 - update 3'))"
   ]
  },
  {
   "cell_type": "code",
   "execution_count": 35,
   "metadata": {
    "brd": "7e1312b4-f2e7-4e10-ae5b-b819707482d2"
   },
   "outputs": [],
   "source": [
    "# cell 8\n",
    "a = 33"
   ]
  },
  {
   "cell_type": "code",
   "execution_count": null,
   "metadata": {
    "brd": "81c55543-604d-46ef-a17f-166b560b2e31",
    "bridget": {
     "id": "cc05200a-13e6-464b-bbc4-3287bbb8955f"
    }
   },
   "outputs": [],
   "source": [
    "# cell 9\n",
    "dh3 = show_notebook_state({'feedback': True, 'watch': False, 'id': next(counter)})"
   ]
  },
  {
   "cell_type": "code",
   "execution_count": null,
   "metadata": {
    "brd": "5ff71f5e-e74f-472c-98ad-0cf089e5b7bd"
   },
   "outputs": [],
   "source": [
    "# cell 10\n",
    "dh3.update({'application/x-notebook-state': {'id': next(counter), 'update': True}}, raw=True, \n",
    "        metadata={'bridget': {'cell': 9, 'skip': True}})"
   ]
  },
  {
   "cell_type": "code",
   "execution_count": null,
   "metadata": {},
   "outputs": [],
   "source": [
    "# cell 11\n",
    "from IPython.core.interactiveshell import InteractiveShell\n",
    "display_pub = InteractiveShell.instance().display_pub\n",
    "\n",
    "def _add_did(msg): \n",
    "    msg['content']['metadata']['brdgt_did'] = msg['content']['transient']['display_id']\n",
    "    return msg\n"
   ]
  },
  {
   "cell_type": "code",
   "execution_count": null,
   "metadata": {},
   "outputs": [],
   "source": [
    "# cell 12\n",
    "# display_pub.register_hook(FC.noop)\n",
    "# display_pub.unregister_hook(FC.noop)\n",
    "display_pub.register_hook(_add_did)"
   ]
  },
  {
   "cell_type": "markdown",
   "metadata": {},
   "source": [
    "### ---- cell 12"
   ]
  },
  {
   "cell_type": "code",
   "execution_count": null,
   "metadata": {},
   "outputs": [],
   "source": [
    "# cell 13\n",
    "from IPython import get_ipython\n",
    "shell = get_ipython()\n",
    "\n",
    "# Get the current notebook JSON\n",
    "if hasattr(shell, 'kernel'):\n",
    "    # Get the parent header which contains notebook info\n",
    "    notebook = shell.kernel.parent\n",
    "\n",
    "    # Access the notebook's metadata and cells\n",
    "    cells = notebook.notebook.cells  # This should give you the cells in their current state\n",
    "    \n",
    "    # If you want it in nbformat-compatible JSON:\n",
    "    import nbformat\n",
    "    nb = nbformat.v4.new_notebook()\n",
    "    nb.cells = cells\n",
    "    \n",
    "    # Convert to JSON string\n",
    "    import json\n",
    "    notebook_json = json.dumps(nb, default=lambda x: x.__dict__)\n",
    "    \n",
    "    print(notebook_json)"
   ]
  },
  {
   "cell_type": "code",
   "execution_count": null,
   "metadata": {},
   "outputs": [],
   "source": [
    "# cell 14\n",
    "from IPython.core.display import Javascript\n",
    "displaydh(Javascript('''\n",
    "    // This is JavaScript that runs in the browser\n",
    "    debugger;\n",
    "    setTimeout(() => {\n",
    "        // Try to execute VSCode's save command\n",
    "        window.postMessage({\n",
    "            type: 'command',\n",
    "            command: 'workbench.action.files.save'\n",
    "        });\n",
    "    }, 100);\n",
    "'''))"
   ]
  }
 ],
 "metadata": {
  "kernelspec": {
   "display_name": "Python 3",
   "language": "python",
   "name": "python3"
  },
  "language_info": {
   "codemirror_mode": {
    "name": "ipython",
    "version": 3
   },
   "file_extension": ".py",
   "mimetype": "text/x-python",
   "name": "python",
   "nbconvert_exporter": "python",
   "pygments_lexer": "ipython3",
   "version": "3.12.8"
  }
 },
 "nbformat": 4,
 "nbformat_minor": 4
}
