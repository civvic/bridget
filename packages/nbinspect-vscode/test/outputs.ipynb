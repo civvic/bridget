{
 "cells": [
  {
   "cell_type": "markdown",
   "metadata": {},
   "source": [
    "# cell 0"
   ]
  },
  {
   "cell_type": "code",
   "execution_count": 1,
   "metadata": {
    "brd": "ca92cce1-b16c-487b-9869-899330cec0ac"
   },
   "outputs": [],
   "source": [
    "# cell 1\n",
    "from itertools import count\n",
    "\n",
    "import ipywidgets as W\n",
    "import matplotlib.pyplot as plt\n",
    "from bridget.display_helpers import displaydh\n",
    "from IPython.display import HTML, Image, Javascript, JSON, DisplayHandle, clear_output\n",
    "counter = count()"
   ]
  },
  {
   "cell_type": "code",
   "execution_count": 2,
   "metadata": {},
   "outputs": [
    {
     "name": "stdout",
     "output_type": "stream",
     "text": [
      "1\n"
     ]
    }
   ],
   "source": [
    "# cell 2\n",
    "import time\n",
    "# time.sleep(2)\n",
    "print(1)"
   ]
  },
  {
   "cell_type": "code",
   "execution_count": 3,
   "metadata": {
    "brd": "asdf-qwer"
   },
   "outputs": [
    {
     "data": {
      "text/plain": [
       "'cell 3'"
      ]
     },
     "metadata": {
      "bridge": {
       "cell": 3
      }
     },
     "output_type": "display_data"
    }
   ],
   "source": [
    "# cell 3\n",
    "displaydh('cell 3', metadata={'bridge': {'cell': 3}});"
   ]
  },
  {
   "cell_type": "code",
   "execution_count": 4,
   "metadata": {},
   "outputs": [
    {
     "data": {
      "text/html": [
       "cell 4"
      ],
      "text/plain": [
       "<IPython.core.display.HTML object>"
      ]
     },
     "metadata": {
      "bridge": {
       "cell": 4
      }
     },
     "output_type": "display_data"
    }
   ],
   "source": [
    "# cell 4\n",
    "displaydh(HTML('cell 4'), metadata={'bridge': {'cell': 4}});"
   ]
  },
  {
   "cell_type": "code",
   "execution_count": 5,
   "metadata": {},
   "outputs": [
    {
     "data": {
      "application/javascript": "console.log(\"cell 5\")",
      "text/plain": [
       "<IPython.core.display.Javascript object>"
      ]
     },
     "metadata": {
      "bridge": {
       "cell": 5
      }
     },
     "output_type": "display_data"
    }
   ],
   "source": [
    "# cell 5\n",
    "displaydh(Javascript('console.log(\"cell 5\")'), metadata={'bridge': {'cell': 5}});"
   ]
  },
  {
   "cell_type": "code",
   "execution_count": 6,
   "metadata": {},
   "outputs": [
    {
     "name": "stdout",
     "output_type": "stream",
     "text": [
      "6.1\n",
      "6.2\n"
     ]
    }
   ],
   "source": [
    "# cell 6\n",
    "print(6.1)\n",
    "print(6.2)"
   ]
  },
  {
   "cell_type": "code",
   "execution_count": 7,
   "metadata": {},
   "outputs": [
    {
     "data": {
      "text/html": [
       "cell 7.1"
      ],
      "text/plain": [
       "<IPython.core.display.HTML object>"
      ]
     },
     "metadata": {
      "bridge": {
       "cell": 7.1
      }
     },
     "output_type": "display_data"
    },
    {
     "data": {
      "text/html": [
       "cell 7.2"
      ],
      "text/plain": [
       "<IPython.core.display.HTML object>"
      ]
     },
     "metadata": {
      "bridge": {
       "cell": 7.2
      }
     },
     "output_type": "display_data"
    }
   ],
   "source": [
    "# cell 7\n",
    "displaydh(HTML('cell 7.1'), metadata={'bridge': {'cell': 7.1}})\n",
    "displaydh(HTML('cell 7.2'), metadata={'bridge': {'cell': 7.2}});"
   ]
  },
  {
   "cell_type": "code",
   "execution_count": 8,
   "metadata": {},
   "outputs": [
    {
     "data": {
      "text/html": [
       "<h3>cell 8</h3>\n"
      ],
      "text/plain": [
       "<IPython.core.display.HTML object>"
      ]
     },
     "metadata": {},
     "output_type": "display_data"
    }
   ],
   "source": [
    "%%HTML\n",
    "<h3>cell 8</h3>"
   ]
  },
  {
   "cell_type": "code",
   "execution_count": 9,
   "metadata": {},
   "outputs": [
    {
     "data": {
      "application/javascript": "console.log('cell 9')\n",
      "text/plain": [
       "<IPython.core.display.Javascript object>"
      ]
     },
     "metadata": {},
     "output_type": "display_data"
    }
   ],
   "source": [
    "%%javascript\n",
    "console.log('cell 9')"
   ]
  },
  {
   "cell_type": "code",
   "execution_count": 10,
   "metadata": {},
   "outputs": [
    {
     "data": {
      "text/markdown": [
       "cell 10\n"
      ],
      "text/plain": [
       "<IPython.core.display.Markdown object>"
      ]
     },
     "metadata": {},
     "output_type": "display_data"
    }
   ],
   "source": [
    "%%markdown\n",
    "cell 10"
   ]
  },
  {
   "cell_type": "code",
   "execution_count": 11,
   "metadata": {},
   "outputs": [
    {
     "data": {
      "image/svg+xml": [
       "<svg xmlns=\"http://www.w3.org/2000/svg\" width=\"100\" height=\"20\">\n",
       "  <text x=\"10\" y=\"10\">cell 11</text>\n",
       "</svg>"
      ],
      "text/plain": [
       "<IPython.core.display.SVG object>"
      ]
     },
     "metadata": {},
     "output_type": "display_data"
    }
   ],
   "source": [
    "%%SVG\n",
    "<svg width=\"100\" height=\"20\" xmlns=\"http://www.w3.org/2000/svg\">\n",
    "  <text x=\"10\" y=\"10\">cell 11</text>\n",
    "</svg>"
   ]
  },
  {
   "cell_type": "code",
   "execution_count": 12,
   "metadata": {},
   "outputs": [
    {
     "data": {
      "application/vnd.jupyter.widget-view+json": {
       "model_id": "af4fe06ce4634e6180b9d6f10194f938",
       "version_major": 2,
       "version_minor": 0
      },
      "text/plain": [
       "IntSlider(value=12, description='cell')"
      ]
     },
     "execution_count": 12,
     "metadata": {},
     "output_type": "execute_result"
    }
   ],
   "source": [
    "# cell 12\n",
    "W.IntSlider(12, description='cell')"
   ]
  },
  {
   "cell_type": "code",
   "execution_count": 13,
   "metadata": {},
   "outputs": [
    {
     "data": {
      "application/vnd.jupyter.widget-view+json": {
       "model_id": "67fbaf0530524c4a8fb629298c2b8977",
       "version_major": 2,
       "version_minor": 0
      },
      "text/plain": [
       "Output()"
      ]
     },
     "metadata": {},
     "output_type": "display_data"
    }
   ],
   "source": [
    "#| hide\n",
    "# cell 13\n",
    "w = W.Output()\n",
    "display(w)\n",
    "with w:\n",
    "    print('cell 13.1')\n",
    "    display('cell 13.2')\n",
    "    display(HTML('cell 13.3'))"
   ]
  },
  {
   "cell_type": "code",
   "execution_count": 14,
   "metadata": {},
   "outputs": [
    {
     "data": {
      "image/png": "[encoded data removed]",
      "text/plain": [
       "<Figure size 400x267 with 1 Axes>"
      ]
     },
     "metadata": {},
     "output_type": "display_data"
    }
   ],
   "source": [
    "# cell 14\n",
    "fig = plt.figure(figsize=(4, 2.67))\n",
    "plt.plot([1,2,3,4]);"
   ]
  },
  {
   "cell_type": "code",
   "execution_count": 15,
   "metadata": {},
   "outputs": [
    {
     "data": {
      "image/png": "[encoded data removed]",
      "text/plain": [
       "<IPython.core.display.Image object>"
      ]
     },
     "execution_count": 15,
     "metadata": {
      "image/png": {
       "bridge": {
        "cell": 15
       }
      }
     },
     "output_type": "execute_result"
    }
   ],
   "source": [
    "#| export\n",
    "# cell 15\n",
    "Image('https://jupyter.org/assets/try/jupyter.png', metadata={'bridge': {'cell': 15}})"
   ]
  },
  {
   "cell_type": "code",
   "execution_count": 16,
   "metadata": {},
   "outputs": [
    {
     "data": {},
     "metadata": {
      "bridge": {
       "cell": 16
      }
     },
     "output_type": "display_data"
    }
   ],
   "source": [
    "# cell 16\n",
    "dh = displaydh(display_id=True, metadata={'bridge': {'cell': 16}})"
   ]
  },
  {
   "cell_type": "code",
   "execution_count": 17,
   "metadata": {},
   "outputs": [
    {
     "data": {
      "text/html": [
       "cell 18"
      ],
      "text/plain": [
       "<IPython.core.display.HTML object>"
      ]
     },
     "metadata": {
      "bridge": {
       "cell": 18
      }
     },
     "output_type": "display_data"
    }
   ],
   "source": [
    "# cell 17\n",
    "dh = displaydh(HTML('cell 17'), metadata={'bridge': {'cell': 17}})"
   ]
  },
  {
   "cell_type": "code",
   "execution_count": 18,
   "metadata": {},
   "outputs": [],
   "source": [
    "# cell 18\n",
    "dh.update(HTML('cell 18'), metadata={'bridge': {'cell': 18}})"
   ]
  },
  {
   "cell_type": "code",
   "execution_count": 19,
   "metadata": {},
   "outputs": [
    {
     "data": {
      "application/json": {
       "cell": 19
      },
      "text/plain": [
       "<IPython.core.display.JSON object>"
      ]
     },
     "metadata": {
      "application/json": {
       "expanded": false,
       "root": "root"
      },
      "bridge": {
       "cell": 19
      }
     },
     "output_type": "display_data"
    }
   ],
   "source": [
    "# cell 19\n",
    "displaydh(JSON({'cell': 19}), metadata={'bridge': {'cell': 19}});"
   ]
  },
  {
   "cell_type": "code",
   "execution_count": 20,
   "metadata": {},
   "outputs": [
    {
     "data": {
      "application/vnd.jupyter.widget-view+json": {
       "model_id": "3bf942426a4c45f0b25222f1b02fbfc8",
       "version_major": 2,
       "version_minor": 0
      },
      "text/plain": [
       "IntSlider(value=20, description='cell')"
      ]
     },
     "metadata": {
      "bridge": {
       "cell": 20,
       "skip": true
      }
     },
     "output_type": "display_data"
    }
   ],
   "source": [
    "# cell 20\n",
    "display(W.IntSlider(20, description='cell'), metadata={'bridge': {'cell': 20}})"
   ]
  },
  {
   "cell_type": "code",
   "execution_count": null,
   "metadata": {},
   "outputs": [],
   "source": []
  },
  {
   "cell_type": "code",
   "execution_count": 21,
   "metadata": {},
   "outputs": [
    {
     "ename": "ZeroDivisionError",
     "evalue": "division by zero",
     "output_type": "error",
     "traceback": [
      "\u001b[0;31m---------------------------------------------------------------------------\u001b[0m",
      "\u001b[0;31mZeroDivisionError\u001b[0m                         Traceback (most recent call last)",
      "Cell \u001b[0;32mIn[21], line 2\u001b[0m\n\u001b[1;32m      1\u001b[0m \u001b[38;5;66;03m# cell 22\u001b[39;00m\n\u001b[0;32m----> 2\u001b[0m \u001b[38;5;241;43m1\u001b[39;49m\u001b[38;5;241;43m/\u001b[39;49m\u001b[38;5;241;43m0\u001b[39;49m\n",
      "\u001b[0;31mZeroDivisionError\u001b[0m: division by zero"
     ]
    }
   ],
   "source": [
    "# cell 22\n",
    "1/0"
   ]
  },
  {
   "cell_type": "markdown",
   "metadata": {},
   "source": [
    "# cell 23"
   ]
  },
  {
   "cell_type": "code",
   "execution_count": null,
   "metadata": {
    "brd": "cdc800b9-44fd-4035-a3be-1abcb6cde8b2"
   },
   "outputs": [],
   "source": [
    "# cell 24\n",
    "from itertools import count\n",
    "from bridget.display_helpers import displaydh\n",
    "from IPython.display import HTML, Javascript, clear_output\n",
    "counter = count()\n",
    "dh0 = displaydh(HTML('cell 24.0'), metadata={'bridge': {'cell': 24.0}})\n",
    "dh1 = displaydh(\n",
    "    {'application/x-notebook-state': {'feedback': True, 'watch': True, 'debug': True, 'id': next(counter)}}, \n",
    "    raw=True, metadata={'bridge': {'cell': 24.1}})"
   ]
  },
  {
   "cell_type": "code",
   "execution_count": 3,
   "metadata": {
    "brd": "671445ae-8f4c-4e8e-b322-169d442444da"
   },
   "outputs": [],
   "source": [
    "# cell 25\n",
    "dh1.update({'application/x-notebook-state': {'id': next(counter), 'update': True}}, raw=True, \n",
    "        metadata={'bridge': {'cell': 25}})"
   ]
  },
  {
   "cell_type": "code",
   "execution_count": null,
   "metadata": {
    "brd": "3710ecac-16e5-4757-aa98-826d0fe285db"
   },
   "outputs": [],
   "source": [
    "# cell 26\n",
    "_ = displaydh('cell 26.1', metadata={'bridge': {'cell': 26.1}})\n",
    "_ = displaydh('cell 26.2', metadata={'bridge': {'cell': 26.2}})"
   ]
  },
  {
   "cell_type": "code",
   "execution_count": null,
   "metadata": {},
   "outputs": [],
   "source": [
    "# cell 27\n",
    "_ = display('cell 27.1', metadata={'bridge': {'cell': 27.1}})\n",
    "_ = display('cell 27.2', metadata={'bridge': {'cell': 27.2}})"
   ]
  },
  {
   "cell_type": "code",
   "execution_count": 26,
   "metadata": {},
   "outputs": [],
   "source": [
    "# cell 28\n",
    "dh1.update({'application/x-notebook-state': {'id': next(counter), 'update': True}}, raw=True, \n",
    "        metadata={'bridge': {'cell': 28}})\n",
    "dh0.update(HTML('cell 28'), metadata={'bridge': {'cell': 28, 'cnt': next(counter)}})"
   ]
  },
  {
   "cell_type": "code",
   "execution_count": 32,
   "metadata": {},
   "outputs": [],
   "source": [
    "# cell 29\n",
    "dh1.update({'application/x-notebook-state': {'feedback': False, 'id': next(counter)}}, raw=True, \n",
    "        metadata={'bridge': {'cell': 29}})"
   ]
  },
  {
   "cell_type": "code",
   "execution_count": 34,
   "metadata": {},
   "outputs": [],
   "source": [
    "# cell 30\n",
    "dh1.update({'application/x-notebook-state': {'debug': False, 'id': next(counter)}}, raw=True, \n",
    "        metadata={'bridge': {'cell': 30}})"
   ]
  },
  {
   "cell_type": "code",
   "execution_count": null,
   "metadata": {},
   "outputs": [],
   "source": [
    "# cell 31\n",
    "dh2 = displaydh({'application/x-notebook-state': {'feedback': True, 'debug': True, 'id': next(counter)}}, \n",
    "        raw=True, metadata={'bridge': {'cell': 31}})\n",
    "clear_output()"
   ]
  },
  {
   "cell_type": "code",
   "execution_count": 30,
   "metadata": {},
   "outputs": [],
   "source": [
    "# cell 32\n",
    "dh2.update({'application/x-notebook-state': {'id': next(counter)}}, raw=True, \n",
    "        metadata={'bridge': {'cell': 32, 'update': True}})"
   ]
  },
  {
   "cell_type": "code",
   "execution_count": null,
   "metadata": {
    "brd": "bfb00293-7dc8-43ad-a1f0-8eb726322ba4"
   },
   "outputs": [],
   "source": [
    "from itertools import count\n",
    "import anywidget, time\n",
    "from IPython.display import DisplayHandle\n",
    "from bridget.display_helpers import displaydh\n",
    "counter = count()\n",
    "\n",
    "class TestWidget(anywidget.AnyWidget):\n",
    "    _esm = '''//debugger;\n",
    "export default { \n",
    "    async initialize({ model }) {\n",
    "        function on_msg(msg) {\n",
    "            //console.log(`Received message:`, msg);\n",
    "            if (window.$Ren) {\n",
    "                window.$Ren.update(msg);\n",
    "                return;\n",
    "            }\n",
    "            return model.send({ id: msg.id, response: 'no response' });\n",
    "        }\n",
    "        model.on(\"msg:custom\", on_msg);\n",
    "        function on_state(changes, nbdata) {\n",
    "            console.log('on_state', changes, nbdata);\n",
    "        }\n",
    "        let cleanup;\n",
    "        if (window.$Ren) {\n",
    "            cleanup = window.$Ren.addStateObserver(on_state);\n",
    "        }\n",
    "        if (cleanup) return cleanup;\n",
    "    }\n",
    "};\n",
    "    '''\n",
    "    dh: DisplayHandle\n",
    "    def __init__(self, *args, **kwargs):\n",
    "        super().__init__(*args, **kwargs)\n",
    "        self.on_msg(self._handle_message)\n",
    "        self.dh = displaydh('Test widget', metadata={'bridge': {'cell': 33}})\n",
    "\n",
    "    def _handle_message(self, w, msg, buffers):\n",
    "        self.dh.update(f'Received {msg=}, {buffers=}', metadata={'bridge': {'cell': 33}})\n",
    "\n",
    "w = TestWidget()"
   ]
  },
  {
   "cell_type": "code",
   "execution_count": 5,
   "metadata": {
    "brd": "0c7eea40-531b-449b-944d-040d46b4b712"
   },
   "outputs": [],
   "source": [
    "# cell 34\n",
    "w.send({'update': True, 'id': next(counter)})"
   ]
  },
  {
   "cell_type": "code",
   "execution_count": null,
   "metadata": {},
   "outputs": [],
   "source": [
    "# cell 35\n",
    "dh = displaydh(metadata={'bridge': {'cell': 35}})"
   ]
  },
  {
   "cell_type": "code",
   "execution_count": null,
   "metadata": {},
   "outputs": [],
   "source": [
    "# cell 36\n",
    "this_id = next(counter)\n",
    "_ = displaydh(metadata={'bridge': {'cell': 36, 'this': this_id}})\n",
    "# nb.source.send({'cmd': 'get_state'}, timeout=5)\n",
    "# clear_output(wait=True)"
   ]
  },
  {
   "cell_type": "code",
   "execution_count": null,
   "metadata": {},
   "outputs": [],
   "source": [
    "# cell 37\n",
    "# find_me"
   ]
  }
 ],
 "metadata": {
  "kernelspec": {
   "display_name": "Python 3",
   "language": "python",
   "name": "python3"
  },
  "language_info": {
   "codemirror_mode": {
    "name": "ipython",
    "version": 3
   },
   "file_extension": ".py",
   "mimetype": "text/x-python",
   "name": "python",
   "nbconvert_exporter": "python",
   "pygments_lexer": "ipython3",
   "version": "3.12.8"
  }
 },
 "nbformat": 4,
 "nbformat_minor": 4
}
